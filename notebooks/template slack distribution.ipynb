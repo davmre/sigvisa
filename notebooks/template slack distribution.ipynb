{
 "metadata": {
  "name": ""
 },
 "nbformat": 3,
 "nbformat_minor": 0,
 "worksheets": [
  {
   "cells": [
    {
     "cell_type": "code",
     "collapsed": false,
     "input": [
      "# sample a bunch of different templates from a prior\n",
      "# for each template, run MCMC to get a distribution on inferred params\n",
      "# look at these stds as a function of the original template params.\n",
      "\n",
      "# we'd predict that low amplitde (relative to noise level) increases noise on all params, \n",
      "# thereby decreasing correlations? (essentially it would act as a noise factor).\n",
      "\n",
      "# should also depend on noise model. I'd think l1 would be less sensitive to arrival times (since it has higher variance), \n",
      "# but more sensitive to amplitude (since it pays at every timestep)\n",
      "\n",
      "import numpy as np\n",
      "import sys\n",
      "import os\n",
      "import traceback\n",
      "import pickle\n",
      "import copy\n",
      "\n",
      "from sigvisa import Sigvisa\n",
      "\n",
      "from sigvisa.graph.sigvisa_graph import SigvisaGraph\n",
      "from sigvisa.infer.run_mcmc import run_open_world_MH\n",
      "from sigvisa.infer.mcmc_logger import MCMCLogger\n",
      "from sigvisa.infer.template_mcmc import birth_move, death_move, split_move, merge_move\n",
      "from sigvisa.plotting.plot import plot_with_fit\n",
      "from sigvisa.signals.common import Waveform\n",
      "from sigvisa.utils.fileutils import clear_directory, mkdir_p\n",
      "\n",
      "from sigvisa.infer.run_mcmc import single_template_MH\n"
     ],
     "language": "python",
     "metadata": {},
     "outputs": [],
     "prompt_number": 1
    },
    {
     "cell_type": "code",
     "collapsed": false,
     "input": [
      "from sigvisa.plotting.plot import plot_with_fit_shapes, plot_pred_atimes\n",
      "\n",
      "\n",
      "\n",
      "def do_plot(wn, ax=None):\n",
      "    if ax is None:\n",
      "        f = plt.figure(figsize=(15,5))\n",
      "        ax=f.add_subplot(111)\n",
      "    \n",
      "    shape_colors = plot_with_fit_shapes(fname=None, wn=wn, axes=ax, plot_wave=True)\n",
      "    atimes = dict([(\"%d_%s\" % (eid, phase), wn.get_template_params_for_arrival(eid=eid, phase=phase)[0]['arrival_time']) for (eid, phase) in wn.arrivals()])\n",
      "    colors = dict([(\"%d_%s\" % (eid, phase), shape_colors[eid]) for (eid, phase) in wn.arrivals()])\n",
      "    plot_pred_atimes(dict(atimes), wn.get_wave(), axes=ax, color=colors, alpha=1.0, bottom_rel=-0.1, top_rel=0.0)\n",
      "\n"
     ],
     "language": "python",
     "metadata": {},
     "outputs": [],
     "prompt_number": 2
    },
    {
     "cell_type": "code",
     "collapsed": false,
     "input": [
      "def sample_single_template_graph(seed):\n",
      "\n",
      "    nm_type='ar'\n",
      "    sta='FIA3'\n",
      "    chan='SHZ'\n",
      "    srate=1.0\n",
      "    \n",
      "\n",
      "    sg = SigvisaGraph(template_model_type=\"dummy\", template_shape=\"lin_polyexp\",\n",
      "                          wiggle_model_type=\"dummy\", wiggle_family=\"dummy\",\n",
      "                          phases=\"leb\", nm_type = nm_type, wiggle_len_s = 60.0)\n",
      "    \n",
      "    wave = Waveform(data = np.zeros(int(1000*srate)), srate=srate, stime=1239915900.0, sta=sta, chan=chan, filter_str=\"freq_2.0_3.0;env;hz_%.1f\" % srate)\n",
      "    wn = sg.add_wave(wave)\n",
      "        \n",
      "    np.random.seed(seed)\n",
      "    \n",
      "    tg = sg.template_generator('UA')\n",
      "    tg.hack_force_mean = np.log(wn.nm.c * 10)\n",
      "    \n",
      "    templates = sg.prior_sample_uatemplates(wn, n_templates=1, wiggles=True)\n",
      "\n",
      "    return sg, wn, templates\n",
      "\n",
      "\n",
      "vs = []\n",
      "Cs = []\n",
      "for seed in (0,1,2,3,4,5,6,7,8,9,10):\n",
      "\n",
      "    sg, wn, templates = sample_single_template_graph(seed)\n",
      "    tmnodes = dict([(p, (n.label, n)) for (p, n) in templates[0].items()])\n",
      "    sp, vals = single_template_MH(sg, wn, tmnodes, phase=\"UA\", steps=2000)\n",
      "    C = np.cov(vals.T)\n",
      "    vs.append(vals[-1,:])\n",
      "    Cs.append(C)\n",
      "\n",
      "    do_plot(wn)"
     ],
     "language": "python",
     "metadata": {},
     "outputs": [
      {
       "output_type": "stream",
       "stream": "stdout",
       "text": [
        "step 0: [  1.23991645e+09   4.54886672e-01  -9.25638536e-02  -1.23388147e+00\n",
        "  -2.56464194e-01]\n",
        "step 50: [  1.23991645e+09   5.59293200e-01  -1.73230345e-01  -2.37673304e+00\n",
        "   3.40747619e-01]"
       ]
      },
      {
       "output_type": "stream",
       "stream": "stdout",
       "text": [
        "\n",
        "step 100: [  1.23991645e+09   2.82316902e-01  -8.38503935e-01  -1.81821841e+00\n",
        "   7.07775570e-02]"
       ]
      },
      {
       "output_type": "stream",
       "stream": "stdout",
       "text": [
        "\n",
        "step 150: [  1.23991644e+09  -5.19418450e-01  -6.94473704e-01  -2.62788703e+00\n",
        "   1.78395208e+00]"
       ]
      },
      {
       "output_type": "stream",
       "stream": "stdout",
       "text": [
        "\n",
        "step 200: [  1.23991645e+09   8.06133891e-02  -1.56679902e-01  -4.07884490e+00\n",
        "   7.54128980e-01]"
       ]
      },
      {
       "output_type": "stream",
       "stream": "stdout",
       "text": [
        "\n",
        "step 250: [  1.23991645e+09   2.21878452e-01  -2.12317922e-01  -1.66848072e+00\n",
        "   1.23816730e+00]"
       ]
      },
      {
       "output_type": "stream",
       "stream": "stdout",
       "text": [
        "\n",
        "step 300: [  1.23991645e+09  -4.41324399e-02  -6.65705734e-01  -1.54344546e+00\n",
        "   4.78294000e-01]"
       ]
      },
      {
       "output_type": "stream",
       "stream": "stdout",
       "text": [
        "\n",
        "step 350: [  1.23991644e+09   7.14872525e-01  -5.85379988e-01  -3.15346653e+00\n",
        "   2.07871058e+00]"
       ]
      },
      {
       "output_type": "stream",
       "stream": "stdout",
       "text": [
        "\n",
        "step 400: [  1.23991645e+09  -2.66617334e-02  -2.73883234e-01  -1.99843568e+00\n",
        "  -2.09182690e-01]"
       ]
      },
      {
       "output_type": "stream",
       "stream": "stdout",
       "text": [
        "\n",
        "step 450: [  1.23991645e+09   5.42960598e-01  -3.18947187e-01  -1.74866127e+00\n",
        "  -2.11318840e-01]"
       ]
      },
      {
       "output_type": "stream",
       "stream": "stdout",
       "text": [
        "\n",
        "step 500: [  1.23991645e+09   1.82515487e-01  -3.12185203e-01  -2.60460010e+00\n",
        "  -5.92162423e-01]"
       ]
      },
      {
       "output_type": "stream",
       "stream": "stdout",
       "text": [
        "\n",
        "step 550: [  1.23991645e+09   5.87263687e-01  -2.65439095e-01  -1.02915576e+00\n",
        "  -1.89001640e-01]"
       ]
      },
      {
       "output_type": "stream",
       "stream": "stdout",
       "text": [
        "\n",
        "step 600: [  1.23991645e+09  -2.34116790e-01  -2.65439095e-01  -2.84001654e+00\n",
        "   8.65276241e-01]"
       ]
      },
      {
       "output_type": "stream",
       "stream": "stdout",
       "text": [
        "\n",
        "step 650: [  1.23991644e+09   4.99689486e-01  -5.18882275e-01  -3.54966353e+00\n",
        "   2.07827961e+00]"
       ]
      },
      {
       "output_type": "stream",
       "stream": "stdout",
       "text": [
        "\n",
        "step 700: [  1.23991645e+09  -1.10062164e-01  -4.53093317e-01  -1.43316674e+00\n",
        "   5.00488724e-01]"
       ]
      },
      {
       "output_type": "stream",
       "stream": "stdout",
       "text": [
        "\n",
        "step 750: [  1.23991645e+09  -2.78016034e-01  -6.04645851e-01  -1.12768746e+00\n",
        "   2.67807159e-01]"
       ]
      },
      {
       "output_type": "stream",
       "stream": "stdout",
       "text": [
        "\n",
        "step 800: [  1.23991645e+09   1.19442071e-01  -5.09862009e-01   1.09161020e-02\n",
        "   4.49911745e-01]"
       ]
      },
      {
       "output_type": "stream",
       "stream": "stdout",
       "text": [
        "\n",
        "step 850: [  1.23991645e+09   4.68903236e-01  -2.85768222e-01  -4.60818013e+00\n",
        "  -2.08638721e-01]"
       ]
      },
      {
       "output_type": "stream",
       "stream": "stdout",
       "text": [
        "\n",
        "step 900: [  1.23991645e+09   6.09859779e-01   3.67179635e-02  -2.34256377e+00\n",
        "   1.82640617e-02]"
       ]
      },
      {
       "output_type": "stream",
       "stream": "stdout",
       "text": [
        "\n",
        "step 950: [  1.23991644e+09   2.91634379e-01  -6.99253326e-01  -1.41634278e+00\n",
        "   1.79175349e+00]"
       ]
      },
      {
       "output_type": "stream",
       "stream": "stdout",
       "text": [
        "\n",
        "step 1000: [  1.23991645e+09   7.35703810e-01  -5.40819157e-01  -2.68482809e+00\n",
        "   1.54645576e+00]"
       ]
      },
      {
       "output_type": "stream",
       "stream": "stdout",
       "text": [
        "\n",
        "step 1050: [  1.23991644e+09   1.52385364e+00  -7.14810233e-01  -1.49442913e+00\n",
        "   2.13702703e+00]"
       ]
      },
      {
       "output_type": "stream",
       "stream": "stdout",
       "text": [
        "\n",
        "step 1100: [  1.23991645e+09   1.10199464e+00  -5.69869728e-01  -4.64801760e+00\n",
        "   1.43087468e+00]"
       ]
      },
      {
       "output_type": "stream",
       "stream": "stdout",
       "text": [
        "\n",
        "step 1150: [  1.23991645e+09   4.82098719e-01  -8.08132336e-01  -2.29858126e-02\n",
        "   9.61262358e-01]"
       ]
      },
      {
       "output_type": "stream",
       "stream": "stdout",
       "text": [
        "\n",
        "step 1200: [  1.23991644e+09   5.23930432e-01  -9.41187004e-01  -3.35057941e+00\n",
        "   2.31792428e+00]"
       ]
      },
      {
       "output_type": "stream",
       "stream": "stdout",
       "text": [
        "\n",
        "step 1250: [  1.23991645e+09   8.98839393e-01  -9.91167306e-01  -2.99917901e+00\n",
        "   1.46907997e+00]"
       ]
      },
      {
       "output_type": "stream",
       "stream": "stdout",
       "text": [
        "\n",
        "step 1300: [  1.23991644e+09  -5.01854598e-01  -6.42223223e-01  -3.04305793e+00\n",
        "   1.59532150e+00]"
       ]
      },
      {
       "output_type": "stream",
       "stream": "stdout",
       "text": [
        "\n",
        "step 1350: [  1.23991645e+09  -3.79954986e-01  -6.06631888e-01  -3.16291959e+00\n",
        "  -1.17158629e+00]"
       ]
      },
      {
       "output_type": "stream",
       "stream": "stdout",
       "text": [
        "\n",
        "step 1400: [  1.23991645e+09   3.61504386e-01  -1.77363417e-01  -1.58486888e+00\n",
        "   1.00965540e+00]"
       ]
      },
      {
       "output_type": "stream",
       "stream": "stdout",
       "text": [
        "\n",
        "step 1450: [  1.23991645e+09   5.73667051e-02  -6.25569507e-01  -8.59023609e-01\n",
        "   1.19846383e-01]"
       ]
      },
      {
       "output_type": "stream",
       "stream": "stdout",
       "text": [
        "\n",
        "step 1500: [  1.23991645e+09   8.40514749e-01  -6.25569507e-01  -3.12166621e+00\n",
        "   1.06035377e+00]"
       ]
      },
      {
       "output_type": "stream",
       "stream": "stdout",
       "text": [
        "\n",
        "step 1550: [  1.23991645e+09   4.95801645e-01  -4.85081347e-01  -2.66112963e+00\n",
        "   9.60456948e-01]"
       ]
      },
      {
       "output_type": "stream",
       "stream": "stdout",
       "text": [
        "\n",
        "step 1600: [  1.23991644e+09   7.08764543e-01  -4.70779145e-01  -1.41885576e+00\n",
        "   1.77703792e+00]"
       ]
      },
      {
       "output_type": "stream",
       "stream": "stdout",
       "text": [
        "\n",
        "step 1650: [  1.23991645e+09   1.25967975e+00  -5.73769381e-01  -2.98006650e+00\n",
        "   1.18685621e+00]"
       ]
      },
      {
       "output_type": "stream",
       "stream": "stdout",
       "text": [
        "\n",
        "step 1700: [  1.23991644e+09   6.33132815e-01  -7.00849336e-01  -2.49700378e+00\n",
        "   1.67945007e+00]"
       ]
      },
      {
       "output_type": "stream",
       "stream": "stdout",
       "text": [
        "\n",
        "step 1750: [  1.23991645e+09  -2.40731605e+00  -4.48575069e-01   6.37237092e-01\n",
        "   1.43851613e+00]"
       ]
      },
      {
       "output_type": "stream",
       "stream": "stdout",
       "text": [
        "\n",
        "step 1800: [  1.23991645e+09  -1.63018860e-01  -6.59361425e-01  -2.48333913e+00\n",
        "   8.13820455e-01]"
       ]
      },
      {
       "output_type": "stream",
       "stream": "stdout",
       "text": [
        "\n",
        "step 1850: [  1.23991645e+09   2.24638957e-01  -2.71817047e-01  -1.81495293e+00\n",
        "   7.57614357e-01]"
       ]
      },
      {
       "output_type": "stream",
       "stream": "stdout",
       "text": [
        "\n",
        "step 1900: [  1.23991644e+09   3.13578865e-01  -1.49923196e-01  -1.25427224e+00\n",
        "   2.11419819e+00]"
       ]
      },
      {
       "output_type": "stream",
       "stream": "stdout",
       "text": [
        "\n",
        "step 1950: [  1.23991645e+09   8.84267007e-01  -3.05882365e-01  -1.62270700e+00\n",
        "   1.85528184e-01]"
       ]
      },
      {
       "output_type": "stream",
       "stream": "stdout",
       "text": [
        "\n",
        "plotting uatemplate"
       ]
      },
      {
       "output_type": "stream",
       "stream": "stdout",
       "text": [
        " -1 as color (0.0, 0.0, 0.66042780748663099, 1.0)\n",
        "reading station detections... \n",
        "step 0: [  1.23991632e+09  -1.33191520e+00  -8.52936129e-01  -3.51701414e+00\n",
        "   1.00109800e+00]\n",
        "step 50: [  1.23991632e+09  -2.53779360e+00  -5.66913898e-01  -1.93195669e+00\n",
        "   1.35178567e+00]"
       ]
      },
      {
       "output_type": "stream",
       "stream": "stdout",
       "text": [
        "\n",
        "step 100: [  1.23991632e+09  -1.82380641e+00  -7.95674785e-01  -1.68309894e-02\n",
        "   1.47224280e+00]"
       ]
      },
      {
       "output_type": "stream",
       "stream": "stdout",
       "text": [
        "\n",
        "step 150: [  1.23991632e+09  -3.66580308e+00  -8.05050638e-01  -1.71141412e+00\n",
        "   5.84046503e-01]"
       ]
      },
      {
       "output_type": "stream",
       "stream": "stdout",
       "text": [
        "\n",
        "step 200: [  1.23991632e+09  -7.04677521e-01  -7.89413797e-01  -3.84990734e+00\n",
        "  -2.84805241e-01]"
       ]
      },
      {
       "output_type": "stream",
       "stream": "stdout",
       "text": [
        "\n",
        "step 250: [  1.23991633e+09   1.21681916e+00  -6.99624211e-01  -2.39224369e+00\n",
        "  -6.25497587e-01]"
       ]
      },
      {
       "output_type": "stream",
       "stream": "stdout",
       "text": [
        "\n",
        "step 300: [  1.23991632e+09   1.94400102e+00  -2.78662707e-01  -2.20042402e+00\n",
        "  -5.29306509e-01]"
       ]
      },
      {
       "output_type": "stream",
       "stream": "stdout",
       "text": [
        "\n",
        "step 350: [  1.23991632e+09  -2.99104720e+00  -1.19484513e+00  -2.56689305e+00\n",
        "  -1.47799643e+00]"
       ]
      },
      {
       "output_type": "stream",
       "stream": "stdout",
       "text": [
        "\n",
        "step 400: [  1.23991632e+09  -9.54800224e-01  -5.81168085e-01  -4.20811929e+00\n",
        "   1.37727707e+00]"
       ]
      },
      {
       "output_type": "stream",
       "stream": "stdout",
       "text": [
        "\n",
        "step 450: [  1.23991632e+09  -2.20618116e+00  -7.18558928e-01  -7.55357323e-01\n",
        "   1.13342083e+00]"
       ]
      },
      {
       "output_type": "stream",
       "stream": "stdout",
       "text": [
        "\n",
        "step 500: [  1.23991632e+09  -1.31171118e+00  -7.62597405e-01  -1.43047879e+00\n",
        "   1.18863004e+00]"
       ]
      },
      {
       "output_type": "stream",
       "stream": "stdout",
       "text": [
        "\n",
        "step 550: [  1.23991632e+09  -8.34120183e-01  -7.25783208e-01  -1.78503272e+00\n",
        "   1.41021401e+00]"
       ]
      },
      {
       "output_type": "stream",
       "stream": "stdout",
       "text": [
        "\n",
        "step 600: [  1.23991632e+09  -3.24453837e+00  -7.36751157e-01  -2.42155837e+00\n",
        "   1.43487952e+00]"
       ]
      },
      {
       "output_type": "stream",
       "stream": "stdout",
       "text": [
        "\n",
        "step 650: [  1.23991631e+09  -3.26146567e+00  -1.90543144e+00  -5.16564951e+00\n",
        "  -1.34160195e+00]"
       ]
      },
      {
       "output_type": "stream",
       "stream": "stdout",
       "text": [
        "\n",
        "step 700: [  1.23991632e+09  -1.71929253e+00  -8.03289091e-01  -2.23061640e+00\n",
        "   1.17931028e+00]"
       ]
      },
      {
       "output_type": "stream",
       "stream": "stdout",
       "text": [
        "\n",
        "step 750: [  1.23991632e+09  -2.56179279e+00  -8.43225864e-01  -2.79275416e+00\n",
        "   1.27063105e+00]"
       ]
      },
      {
       "output_type": "stream",
       "stream": "stdout",
       "text": [
        "\n",
        "step 800: [  1.23991632e+09  -2.76595934e+00  -9.01157515e-01  -2.56123275e+00\n",
        "   1.16066371e+00]"
       ]
      },
      {
       "output_type": "stream",
       "stream": "stdout",
       "text": [
        "\n",
        "step 850: [  1.23991632e+09  -1.61170987e+00  -1.15201974e+00  -3.83303929e+00\n",
        "  -8.77994887e-01]"
       ]
      },
      {
       "output_type": "stream",
       "stream": "stdout",
       "text": [
        "\n",
        "step 900: [  1.23991632e+09  -5.75267784e-01  -7.04084834e-01  -3.28977757e+00\n",
        "   1.42405244e+00]"
       ]
      },
      {
       "output_type": "stream",
       "stream": "stdout",
       "text": [
        "\n",
        "step 950: [  1.23991632e+09  -2.16313288e+00  -8.10052067e-01  -2.68504049e+00\n",
        "   2.80252878e-02]"
       ]
      },
      {
       "output_type": "stream",
       "stream": "stdout",
       "text": [
        "\n",
        "step 1000: [  1.23991631e+09  -2.40814872e+00  -6.99997197e-01  -1.47925677e+00\n",
        "   1.69021091e+00]"
       ]
      },
      {
       "output_type": "stream",
       "stream": "stdout",
       "text": [
        "\n",
        "step 1050: [  1.23991632e+09   7.55997724e-01  -8.55703297e-01  -2.85109929e+00\n",
        "   1.38128227e+00]"
       ]
      },
      {
       "output_type": "stream",
       "stream": "stdout",
       "text": [
        "\n",
        "step 1100: [  1.23991632e+09   1.87868679e-01  -1.00671922e+00  -2.26251526e+00\n",
        "   1.07773704e+00]"
       ]
      },
      {
       "output_type": "stream",
       "stream": "stdout",
       "text": [
        "\n",
        "step 1150: [  1.23991632e+09  -2.51501645e+00  -8.45309177e-01  -2.31526872e+00\n",
        "   3.69319531e-01]"
       ]
      },
      {
       "output_type": "stream",
       "stream": "stdout",
       "text": [
        "\n",
        "step 1200: [  1.23991633e+09  -2.58228312e-01  -7.98535465e-01  -2.28013164e+00\n",
        "   9.18408382e-01]"
       ]
      },
      {
       "output_type": "stream",
       "stream": "stdout",
       "text": [
        "\n",
        "step 1250: [  1.23991632e+09  -3.04910444e+00  -1.05179481e+00  -1.75402899e+00\n",
        "   8.19083562e-01]"
       ]
      },
      {
       "output_type": "stream",
       "stream": "stdout",
       "text": [
        "\n",
        "step 1300: [  1.23991631e+09  -2.70957664e-01  -1.31872841e+00  -3.48046923e+00\n",
        "  -2.50128913e-02]"
       ]
      },
      {
       "output_type": "stream",
       "stream": "stdout",
       "text": [
        "\n",
        "step 1350: [  1.23991632e+09  -7.01635441e-01  -4.87386810e-01  -3.11070477e+00\n",
        "   8.09775620e-01]"
       ]
      },
      {
       "output_type": "stream",
       "stream": "stdout",
       "text": [
        "\n",
        "step 1400: [  1.23991632e+09  -2.47664321e-01  -6.75429317e-01  -3.25028980e+00\n",
        "   1.53837632e+00]"
       ]
      },
      {
       "output_type": "stream",
       "stream": "stdout",
       "text": [
        "\n",
        "step 1450: [  1.23991632e+09  -3.95981102e-01  -6.89942033e-01  -8.67000888e-01\n",
        "   9.91047423e-01]"
       ]
      },
      {
       "output_type": "stream",
       "stream": "stdout",
       "text": [
        "\n",
        "step 1500: [  1.23991632e+09  -8.48766531e-01  -7.36743115e-01  -4.44470621e+00\n",
        "  -2.35378782e-01]"
       ]
      },
      {
       "output_type": "stream",
       "stream": "stdout",
       "text": [
        "\n",
        "step 1550: [  1.23991631e+09   2.32988340e+00   5.57042118e-01  -1.16335856e+00\n",
        "   4.65227415e-01]"
       ]
      },
      {
       "output_type": "stream",
       "stream": "stdout",
       "text": [
        "\n",
        "step 1600: [  1.23991631e+09   1.22106150e+00   6.22118474e-03  -6.37847409e-01\n",
        "  -1.42199646e-01]"
       ]
      },
      {
       "output_type": "stream",
       "stream": "stdout",
       "text": [
        "\n",
        "step 1650: [  1.23991631e+09   7.41094897e-01  -4.36750248e-01  -3.02949280e+00\n",
        "  -2.13447001e+00]"
       ]
      },
      {
       "output_type": "stream",
       "stream": "stdout",
       "text": [
        "\n",
        "step 1700: [  1.23991632e+09  -2.51136244e+00  -1.01226245e+00  -3.46588168e+00\n",
        "   9.84810973e-01]"
       ]
      },
      {
       "output_type": "stream",
       "stream": "stdout",
       "text": [
        "\n",
        "step 1750: [  1.23991632e+09  -1.47208297e+00  -1.18567563e+00  -2.48323643e+00\n",
        "  -6.93639423e-02]"
       ]
      },
      {
       "output_type": "stream",
       "stream": "stdout",
       "text": [
        "\n",
        "step 1800: [  1.23991632e+09  -3.26553403e+00  -8.53568542e-01  -1.16440621e+00\n",
        "   9.81482803e-01]"
       ]
      },
      {
       "output_type": "stream",
       "stream": "stdout",
       "text": [
        "\n",
        "step 1850: [  1.23991632e+09  -2.53325011e+00  -8.88279851e-01  -1.85835230e+00\n",
        "   1.51274172e+00]"
       ]
      },
      {
       "output_type": "stream",
       "stream": "stdout",
       "text": [
        "\n",
        "step 1900: [  1.23991632e+09  -3.38374374e+00  -8.88279851e-01  -2.45223153e+00\n",
        "   1.41502768e+00]"
       ]
      },
      {
       "output_type": "stream",
       "stream": "stdout",
       "text": [
        "\n",
        "step 1950: [  1.23991633e+09  -3.63605374e+00  -1.27050217e+00  -6.61628479e-01\n",
        "  -2.29474598e-01]"
       ]
      },
      {
       "output_type": "stream",
       "stream": "stdout",
       "text": [
        "\n",
        "plotting uatemplate"
       ]
      },
      {
       "output_type": "stream",
       "stream": "stdout",
       "text": [
        " -1 as color (0.0, 0.0, 0.74955436720142599, 1.0)\n",
        "reading station detections... \n",
        "step 0: [  1.23991634e+09  -3.42583466e+00  -2.08429586e-01  -3.60886859e+00\n",
        "   1.28294878e+00]\n",
        "step 50: [  1.23991634e+09  -3.56439382e+00  -2.48376428e-01  -2.34210634e+00\n",
        "   7.47427680e-01]"
       ]
      },
      {
       "output_type": "stream",
       "stream": "stdout",
       "text": [
        "\n",
        "step 100: [  1.23991634e+09  -3.08953860e+00  -2.48376428e-01  -3.40184822e+00\n",
        "   1.28847442e+00]"
       ]
      },
      {
       "output_type": "stream",
       "stream": "stdout",
       "text": [
        "\n",
        "step 150: [  1.23991634e+09  -3.61932740e+00  -4.10218722e-01  -3.64325861e+00\n",
        "  -3.69263979e-01]"
       ]
      },
      {
       "output_type": "stream",
       "stream": "stdout",
       "text": [
        "\n",
        "step 200: [  1.23991634e+09  -3.77608277e+00  -5.66656038e-01  -2.65429052e+00\n",
        "   5.73896002e-01]"
       ]
      },
      {
       "output_type": "stream",
       "stream": "stdout",
       "text": [
        "\n",
        "step 250: [  1.23991634e+09  -3.37688925e+00  -6.89999462e-02  -2.62278754e+00\n",
        "   1.07068157e+00]"
       ]
      },
      {
       "output_type": "stream",
       "stream": "stdout",
       "text": [
        "\n",
        "step 300: [  1.23991634e+09  -3.31423428e+00  -1.35542604e-01  -3.37726297e+00\n",
        "   1.27604223e+00]"
       ]
      },
      {
       "output_type": "stream",
       "stream": "stdout",
       "text": [
        "\n",
        "step 350: [  1.23991634e+09  -3.47836044e+00  -2.32768733e-01  -2.63464413e+00\n",
        "   5.81166081e-01]"
       ]
      },
      {
       "output_type": "stream",
       "stream": "stdout",
       "text": [
        "\n",
        "step 400: [  1.23991634e+09  -3.78260059e+00  -5.15553561e-01  -3.63948160e+00\n",
        "   1.09282764e+00]"
       ]
      },
      {
       "output_type": "stream",
       "stream": "stdout",
       "text": [
        "\n",
        "step 450: [  1.23991633e+09  -2.97193067e+00   7.08177819e-03  -3.64798434e+00\n",
        "   1.70747990e+00]"
       ]
      },
      {
       "output_type": "stream",
       "stream": "stdout",
       "text": [
        "\n",
        "step 500: [  1.23991634e+09  -3.65859622e+00  -8.83919016e-02  -2.13046763e+00\n",
        "   1.54261178e+00]"
       ]
      },
      {
       "output_type": "stream",
       "stream": "stdout",
       "text": [
        "\n",
        "step 550: [  1.23991634e+09  -3.34470408e+00  -7.49935132e-02  -1.60759570e+00\n",
        "   1.28308429e+00]"
       ]
      },
      {
       "output_type": "stream",
       "stream": "stdout",
       "text": [
        "\n",
        "step 600: [  1.23991634e+09  -3.46169294e+00  -2.63820857e-01  -2.20311199e+00\n",
        "   1.07360002e+00]"
       ]
      },
      {
       "output_type": "stream",
       "stream": "stdout",
       "text": [
        "\n",
        "step 650: [  1.23991634e+09  -3.75172771e+00  -5.37514644e-01  -4.44768535e+00\n",
        "   9.53064985e-01]"
       ]
      },
      {
       "output_type": "stream",
       "stream": "stdout",
       "text": [
        "\n",
        "step 700: [  1.23991634e+09  -3.39874933e+00  -3.05844866e-01  -3.70207735e+00\n",
        "   1.20396769e+00]"
       ]
      },
      {
       "output_type": "stream",
       "stream": "stdout",
       "text": [
        "\n",
        "step 750: [  1.23991634e+09  -3.27304666e+00   2.12229732e-02  -3.97658478e+00\n",
        "   1.24090384e+00]"
       ]
      },
      {
       "output_type": "stream",
       "stream": "stdout",
       "text": [
        "\n",
        "step 800: [  1.23991634e+09  -3.37478644e+00  -2.51922539e-01  -2.64645440e+00\n",
        "   1.20903896e+00]"
       ]
      },
      {
       "output_type": "stream",
       "stream": "stdout",
       "text": [
        "\n",
        "step 850: [  1.23991634e+09  -3.60150628e+00  -2.51922539e-01  -2.81731540e+00\n",
        "   4.54404385e-01]"
       ]
      },
      {
       "output_type": "stream",
       "stream": "stdout",
       "text": [
        "\n",
        "step 900: [  1.23991634e+09  -3.46404136e+00  -3.50917747e-01  -1.97014552e+00\n",
        "   1.11567608e+00]"
       ]
      },
      {
       "output_type": "stream",
       "stream": "stdout",
       "text": [
        "\n",
        "step 950: [  1.23991634e+09  -3.50028729e+00  -4.32690133e-01  -3.08148463e+00\n",
        "   1.06704543e+00]"
       ]
      },
      {
       "output_type": "stream",
       "stream": "stdout",
       "text": [
        "\n",
        "step 1000: [  1.23991634e+09  -3.63558863e+00  -4.32765000e-01  -2.95190366e+00\n",
        "   1.01973339e+00]"
       ]
      },
      {
       "output_type": "stream",
       "stream": "stdout",
       "text": [
        "\n",
        "step 1050: [  1.23991634e+09  -3.67726276e+00  -4.48166792e-02  -2.07702745e+00\n",
        "   7.94069604e-01]"
       ]
      },
      {
       "output_type": "stream",
       "stream": "stdout",
       "text": [
        "\n",
        "step 1100: [  1.23991634e+09  -3.51701891e+00  -2.43135488e-01  -1.74654138e+00\n",
        "   1.48181805e+00]"
       ]
      },
      {
       "output_type": "stream",
       "stream": "stdout",
       "text": [
        "\n",
        "step 1150: [  1.23991634e+09  -3.55129729e+00  -3.53746242e-01  -2.27165188e+00\n",
        "   9.42605887e-01]"
       ]
      },
      {
       "output_type": "stream",
       "stream": "stdout",
       "text": [
        "\n",
        "step 1200: [  1.23991634e+09  -3.57515431e+00  -9.78183377e-02  -2.50090110e+00\n",
        "   7.33414063e-01]"
       ]
      },
      {
       "output_type": "stream",
       "stream": "stdout",
       "text": [
        "\n",
        "step 1250: [  1.23991634e+09  -3.78978212e+00  -9.78183377e-02  -1.68657421e+00\n",
        "   1.14774783e+00]"
       ]
      },
      {
       "output_type": "stream",
       "stream": "stdout",
       "text": [
        "\n",
        "step 1300: [  1.23991634e+09  -3.72380908e+00  -6.88040802e-01  -3.22066506e+00\n",
        "  -1.00552696e-01]"
       ]
      },
      {
       "output_type": "stream",
       "stream": "stdout",
       "text": [
        "\n",
        "step 1350: [  1.23991634e+09  -3.43197613e+00  -2.83138626e-01  -2.75308793e+00\n",
        "   8.59027524e-01]"
       ]
      },
      {
       "output_type": "stream",
       "stream": "stdout",
       "text": [
        "\n",
        "step 1400: [  1.23991634e+09  -3.15195812e+00  -2.83138626e-01  -4.35670771e+00\n",
        "   1.38375903e+00]"
       ]
      },
      {
       "output_type": "stream",
       "stream": "stdout",
       "text": [
        "\n",
        "step 1450: [  1.23991634e+09  -3.17851275e+00  -3.03905919e-01  -3.18954357e+00\n",
        "   9.25749574e-01]"
       ]
      },
      {
       "output_type": "stream",
       "stream": "stdout",
       "text": [
        "\n",
        "step 1500: [  1.23991634e+09  -3.08971307e+00   1.36946381e-02  -3.22109160e+00\n",
        "   1.06813809e+00]"
       ]
      },
      {
       "output_type": "stream",
       "stream": "stdout",
       "text": [
        "\n",
        "step 1550: [  1.23991634e+09  -3.00716523e+00   1.36946381e-02  -3.72358954e+00\n",
        "   1.04649313e+00]"
       ]
      },
      {
       "output_type": "stream",
       "stream": "stdout",
       "text": [
        "\n",
        "step 1600: [  1.23991634e+09  -3.38598923e+00  -7.09784365e-02  -2.87328223e+00\n",
        "   1.25529381e+00]"
       ]
      },
      {
       "output_type": "stream",
       "stream": "stdout",
       "text": [
        "\n",
        "step 1650: [  1.23991634e+09  -3.31288120e+00  -1.96081564e-01  -2.31049842e+00\n",
        "   8.74129611e-01]"
       ]
      },
      {
       "output_type": "stream",
       "stream": "stdout",
       "text": [
        "\n",
        "step 1700: [  1.23991634e+09  -3.42830350e+00  -2.55914448e-01  -3.26993879e+00\n",
        "   1.00268914e+00]"
       ]
      },
      {
       "output_type": "stream",
       "stream": "stdout",
       "text": [
        "\n",
        "step 1750: [  1.23991634e+09  -3.29920363e+00  -2.46486654e-01  -3.71891948e+00\n",
        "   1.07498338e+00]"
       ]
      },
      {
       "output_type": "stream",
       "stream": "stdout",
       "text": [
        "\n",
        "step 1800: [  1.23991634e+09  -3.64777551e+00  -6.30248615e-01  -3.63888538e+00\n",
        "   1.17956234e+00]"
       ]
      },
      {
       "output_type": "stream",
       "stream": "stdout",
       "text": [
        "\n",
        "step 1850: [  1.23991634e+09  -3.70427024e+00  -1.66929411e-01  -2.43651595e+00\n",
        "   1.09126975e+00]"
       ]
      },
      {
       "output_type": "stream",
       "stream": "stdout",
       "text": [
        "\n",
        "step 1900: [  1.23991634e+09  -3.17113845e+00  -1.65160532e-01  -3.66167218e+00\n",
        "   1.35281181e+00]"
       ]
      },
      {
       "output_type": "stream",
       "stream": "stdout",
       "text": [
        "\n",
        "step 1950: [  1.23991634e+09  -2.89872303e+00   1.75429547e-01  -3.62501674e+00\n",
        "   1.04295568e+00]"
       ]
      },
      {
       "output_type": "stream",
       "stream": "stdout",
       "text": [
        "\n",
        "plotting uatemplate"
       ]
      },
      {
       "output_type": "stream",
       "stream": "stdout",
       "text": [
        " -1 as color (0.0, 0.0, 0.571301247771836, 1.0)\n",
        "reading station detections... \n",
        "step 0: [  1.23991645e+09  -2.58688126e+00   9.87771130e-02  -4.22425863e-01\n",
        "  -2.57399933e-01]\n",
        "step 50: [  1.23991645e+09  -2.31996678e+00  -2.01050356e-01   6.16308524e-01\n",
        "   1.12540013e-01]"
       ]
      },
      {
       "output_type": "stream",
       "stream": "stdout",
       "text": [
        "\n",
        "step 100: [  1.23991645e+09  -1.64189356e+00  -2.44266613e-01  -2.27582985e+00\n",
        "   3.01656233e-01]"
       ]
      },
      {
       "output_type": "stream",
       "stream": "stdout",
       "text": [
        "\n",
        "step 150: [  1.23991645e+09  -4.40678862e+00  -2.44266613e-01  -2.76867714e-01\n",
        "   7.20351262e-01]"
       ]
      },
      {
       "output_type": "stream",
       "stream": "stdout",
       "text": [
        "\n",
        "step 200: [  1.23991645e+09  -6.42489262e-01   1.48323837e-02  -1.79903016e+00\n",
        "   3.28431429e-01]"
       ]
      },
      {
       "output_type": "stream",
       "stream": "stdout",
       "text": [
        "\n",
        "step 250: [  1.23991645e+09   6.41102987e-01  -4.59764929e-01  -3.09503003e+00\n",
        "   4.77124374e-01]"
       ]
      },
      {
       "output_type": "stream",
       "stream": "stdout",
       "text": [
        "\n",
        "step 300: [  1.23991645e+09  -2.12628240e-02   8.03124723e-03  -2.21913182e+00\n",
        "  -1.05011288e-01]"
       ]
      },
      {
       "output_type": "stream",
       "stream": "stdout",
       "text": [
        "\n",
        "step 350: [  1.23991645e+09  -1.23096836e+00  -6.41290256e-02  -2.43874715e+00\n",
        "  -1.11165052e-01]"
       ]
      },
      {
       "output_type": "stream",
       "stream": "stdout",
       "text": [
        "\n",
        "step 400: [  1.23991645e+09  -1.76627753e+00  -2.87298421e-03  -1.30129017e+00\n",
        "  -2.68126096e-01]"
       ]
      },
      {
       "output_type": "stream",
       "stream": "stdout",
       "text": [
        "\n",
        "step 450: [  1.23991645e+09  -2.36993106e+00  -1.04989242e-02  -4.55110541e-01\n",
        "  -2.19831737e-01]"
       ]
      },
      {
       "output_type": "stream",
       "stream": "stdout",
       "text": [
        "\n",
        "step 500: [  1.23991645e+09  -1.13171811e+00  -1.30743875e-01  -3.13077564e+00\n",
        "   2.17378077e-01]"
       ]
      },
      {
       "output_type": "stream",
       "stream": "stdout",
       "text": [
        "\n",
        "step 550: [  1.23991645e+09  -1.21971420e+00   7.25845637e-02  -2.62760475e+00\n",
        "   8.11329488e-01]"
       ]
      },
      {
       "output_type": "stream",
       "stream": "stdout",
       "text": [
        "\n",
        "step 600: [  1.23991645e+09  -1.95911206e+00   7.25845637e-02  -9.92949041e-01\n",
        "   1.09902314e+00]"
       ]
      },
      {
       "output_type": "stream",
       "stream": "stdout",
       "text": [
        "\n",
        "step 650: [  1.23991645e+09  -2.58322733e+00  -8.29583118e-02  -7.98286210e-01\n",
        "   8.24633008e-01]"
       ]
      },
      {
       "output_type": "stream",
       "stream": "stdout",
       "text": [
        "\n",
        "step 700: [  1.23991645e+09  -1.20960970e+00  -2.43932085e-01  -3.91881643e+00\n",
        "   6.99300571e-01]"
       ]
      },
      {
       "output_type": "stream",
       "stream": "stdout",
       "text": [
        "\n",
        "step 750: [  1.23991645e+09  -5.14912929e+00  -2.43932085e-01   1.30480666e-02\n",
        "   5.12855446e-01]"
       ]
      },
      {
       "output_type": "stream",
       "stream": "stdout",
       "text": [
        "\n",
        "step 800: [  1.23991645e+09  -1.73328989e+00  -4.08709237e-02  -1.51086451e+00\n",
        "   9.71871406e-01]"
       ]
      },
      {
       "output_type": "stream",
       "stream": "stdout",
       "text": [
        "\n",
        "step 850: [  1.23991645e+09  -1.12923899e+00  -2.30550671e-01  -2.66303273e+00\n",
        "   6.34185547e-01]"
       ]
      },
      {
       "output_type": "stream",
       "stream": "stdout",
       "text": [
        "\n",
        "step 900: [  1.23991645e+09  -7.64577373e-01  -5.81302049e-02  -2.34181393e+00\n",
        "   3.14886234e-01]"
       ]
      },
      {
       "output_type": "stream",
       "stream": "stdout",
       "text": [
        "\n",
        "step 950: [  1.23991645e+09  -4.65165792e-01  -3.35710230e-01  -1.28842770e+00\n",
        "   2.43949899e-01]"
       ]
      },
      {
       "output_type": "stream",
       "stream": "stdout",
       "text": [
        "\n",
        "step 1000: [  1.23991645e+09  -2.92979268e+00  -2.53029158e-01  -1.61636427e-01\n",
        "   5.50848848e-01]"
       ]
      },
      {
       "output_type": "stream",
       "stream": "stdout",
       "text": [
        "\n",
        "step 1050: [  1.23991645e+09  -3.15363849e-01  -8.62084820e-02  -2.43338693e+00\n",
        "   2.98233262e-01]"
       ]
      },
      {
       "output_type": "stream",
       "stream": "stdout",
       "text": [
        "\n",
        "step 1100: [  1.23991645e+09  -1.67867595e+00  -8.62084820e-02  -4.19893359e+00\n",
        "   5.21786185e-01]"
       ]
      },
      {
       "output_type": "stream",
       "stream": "stdout",
       "text": [
        "\n",
        "step 1150: [  1.23991645e+09  -1.41803987e+00  -3.05954320e-01  -4.64002332e+00\n",
        "   1.79661325e-01]"
       ]
      },
      {
       "output_type": "stream",
       "stream": "stdout",
       "text": [
        "\n",
        "step 1200: [  1.23991645e+09  -2.19323933e+00  -2.84166298e-01  -1.40962250e+00\n",
        "   4.79497778e-01]"
       ]
      },
      {
       "output_type": "stream",
       "stream": "stdout",
       "text": [
        "\n",
        "step 1250: [  1.23991645e+09  -1.41980832e+00  -4.84954039e-01  -1.53063807e+00\n",
        "   2.97523902e-01]"
       ]
      },
      {
       "output_type": "stream",
       "stream": "stdout",
       "text": [
        "\n",
        "step 1300: [  1.23991645e+09  -1.09918696e+00  -3.40878048e-02  -3.05207666e+00\n",
        "   3.64503721e-01]"
       ]
      },
      {
       "output_type": "stream",
       "stream": "stdout",
       "text": [
        "\n",
        "step 1350: [  1.23991645e+09  -1.75537305e+00  -1.15778858e-01  -2.53249059e+00\n",
        "   7.30654149e-02]"
       ]
      },
      {
       "output_type": "stream",
       "stream": "stdout",
       "text": [
        "\n",
        "step 1400: [  1.23991645e+09  -1.38082299e+00  -1.15778858e-01  -9.44975587e-01\n",
        "   5.03757962e-01]"
       ]
      },
      {
       "output_type": "stream",
       "stream": "stdout",
       "text": [
        "\n",
        "step 1450: [  1.23991645e+09  -3.97739108e+00  -1.15778858e-01  -4.14138133e-01\n",
        "   9.07545837e-01]"
       ]
      },
      {
       "output_type": "stream",
       "stream": "stdout",
       "text": [
        "\n",
        "step 1500: [  1.23991645e+09  -1.51146008e+00  -1.78856230e-02  -7.62822426e-01\n",
        "   3.52978110e-01]"
       ]
      },
      {
       "output_type": "stream",
       "stream": "stdout",
       "text": [
        "\n",
        "step 1550: [  1.23991645e+09  -6.44229332e-01  -1.78856230e-02  -8.38036165e-01\n",
        "   6.76504078e-01]"
       ]
      },
      {
       "output_type": "stream",
       "stream": "stdout",
       "text": [
        "\n",
        "step 1600: [  1.23991645e+09  -4.62528189e+00  -1.78856230e-02  -3.21743935e-01\n",
        "   6.71834574e-01]"
       ]
      },
      {
       "output_type": "stream",
       "stream": "stdout",
       "text": [
        "\n",
        "step 1650: [  1.23991645e+09  -3.33617849e+00  -4.80557720e-02  -2.46143819e-01\n",
        "   5.63145060e-01]"
       ]
      },
      {
       "output_type": "stream",
       "stream": "stdout",
       "text": [
        "\n",
        "step 1700: [  1.23991645e+09  -1.32270545e+00  -4.80557720e-02  -1.72331686e+00\n",
        "   9.53384583e-01]"
       ]
      },
      {
       "output_type": "stream",
       "stream": "stdout",
       "text": [
        "\n",
        "step 1750: [  1.23991645e+09  -8.14491972e-01  -2.07485384e-02  -3.22556360e+00\n",
        "   1.25961892e-02]"
       ]
      },
      {
       "output_type": "stream",
       "stream": "stdout",
       "text": [
        "\n",
        "step 1800: [  1.23991645e+09  -1.43104583e+00  -2.32785351e-01  -2.06386723e+00\n",
        "  -1.79845680e-01]"
       ]
      },
      {
       "output_type": "stream",
       "stream": "stdout",
       "text": [
        "\n",
        "step 1850: [  1.23991645e+09  -3.67107581e+00  -2.47324276e-01  -7.08333986e-01\n",
        "   6.15800573e-01]"
       ]
      },
      {
       "output_type": "stream",
       "stream": "stdout",
       "text": [
        "\n",
        "step 1900: [  1.23991645e+09   1.59995639e+00  -3.54320933e-01  -1.39406701e+00\n",
        "   6.29803253e-01]"
       ]
      },
      {
       "output_type": "stream",
       "stream": "stdout",
       "text": [
        "\n",
        "step 1950: [  1.23991645e+09  -6.50692891e-01  -1.19531573e-01  -2.06065497e+00\n",
        "   8.09615589e-01]"
       ]
      },
      {
       "output_type": "stream",
       "stream": "stdout",
       "text": [
        "\n",
        "plotting uatemplate"
       ]
      },
      {
       "output_type": "stream",
       "stream": "stdout",
       "text": [
        " -1 as color (0.0, 0.31568627450980391, 1.0, 1.0)\n",
        "reading station detections... \n",
        "step 0: [  1.23991687e+09  -3.00821797e+00   1.05461098e+00  -2.13376819e+00\n",
        "  -3.55133490e-02]\n",
        "step 50: [  1.23991687e+09  -3.00821797e+00   1.08974090e+00  -2.18046967e+00\n",
        "  -2.27991107e-01]"
       ]
      },
      {
       "output_type": "stream",
       "stream": "stdout",
       "text": [
        "\n",
        "step 100: [  1.23991687e+09  -2.74660991e+00   1.14329668e+00  -2.47322686e+00\n",
        "  -8.04956463e-01]"
       ]
      },
      {
       "output_type": "stream",
       "stream": "stdout",
       "text": [
        "\n",
        "step 150: [  1.23991687e+09  -2.73048056e+00   1.14329668e+00  -2.62631189e+00\n",
        "  -2.26492445e+00]"
       ]
      },
      {
       "output_type": "stream",
       "stream": "stdout",
       "text": [
        "\n",
        "step 200: [  1.23991687e+09  -3.02063234e+00   1.14329668e+00  -2.04715948e+00\n",
        "  -8.72514123e-01]"
       ]
      },
      {
       "output_type": "stream",
       "stream": "stdout",
       "text": [
        "\n",
        "step 250: [  1.23991687e+09  -2.86394365e+00   1.14329668e+00  -1.97772518e+00\n",
        "  -1.53801888e+00]"
       ]
      },
      {
       "output_type": "stream",
       "stream": "stdout",
       "text": [
        "\n",
        "step 300: [  1.23991687e+09  -2.86676769e+00   1.14329668e+00  -2.46710377e+00\n",
        "  -7.75963634e-01]"
       ]
      },
      {
       "output_type": "stream",
       "stream": "stdout",
       "text": [
        "\n",
        "step 350: [  1.23991687e+09  -3.10345852e+00   1.16422378e+00  -1.92795823e+00\n",
        "  -7.19011062e-01]"
       ]
      },
      {
       "output_type": "stream",
       "stream": "stdout",
       "text": [
        "\n",
        "step 400: [  1.23991687e+09  -3.24712236e+00   1.16422378e+00  -1.59365034e+00\n",
        "  -2.18333667e+00]"
       ]
      },
      {
       "output_type": "stream",
       "stream": "stdout",
       "text": [
        "\n",
        "step 450: [  1.23991687e+09  -3.28540173e+00   1.16422378e+00  -1.61782904e+00\n",
        "  -2.80428015e+00]"
       ]
      },
      {
       "output_type": "stream",
       "stream": "stdout",
       "text": [
        "\n",
        "step 500: [  1.23991687e+09  -2.97453837e+00   1.16422378e+00  -1.97649814e+00\n",
        "  -1.61521846e+00]"
       ]
      },
      {
       "output_type": "stream",
       "stream": "stdout",
       "text": [
        "\n",
        "step 550: [  1.23991687e+09  -3.04527224e+00   1.16422378e+00  -2.07584509e+00\n",
        "  -7.22218037e-01]"
       ]
      },
      {
       "output_type": "stream",
       "stream": "stdout",
       "text": [
        "\n",
        "step 600: [  1.23991687e+09  -2.69123782e+00   1.16422378e+00  -1.96279291e+00\n",
        "  -1.20681435e+00]"
       ]
      },
      {
       "output_type": "stream",
       "stream": "stdout",
       "text": [
        "\n",
        "step 650: [  1.23991687e+09  -2.92112304e+00   1.17547329e+00  -2.58601085e+00\n",
        "  -3.60672633e-01]"
       ]
      },
      {
       "output_type": "stream",
       "stream": "stdout",
       "text": [
        "\n",
        "step 700: [  1.23991687e+09  -3.23240305e+00   1.17547329e+00  -1.35615135e+00\n",
        "  -4.40015730e-01]"
       ]
      },
      {
       "output_type": "stream",
       "stream": "stdout",
       "text": [
        "\n",
        "step 750: [  1.23991687e+09  -3.10613251e+00   1.17547329e+00  -1.79475917e+00\n",
        "  -2.31841171e+00]"
       ]
      },
      {
       "output_type": "stream",
       "stream": "stdout",
       "text": [
        "\n",
        "step 800: [  1.23991687e+09  -3.05568340e+00   1.17547329e+00  -1.57046080e+00\n",
        "  -1.75329754e+00]"
       ]
      },
      {
       "output_type": "stream",
       "stream": "stdout",
       "text": [
        "\n",
        "step 850: [  1.23991687e+09  -2.71732141e+00   1.17547329e+00  -2.25943986e+00\n",
        "  -1.25825457e+00]"
       ]
      },
      {
       "output_type": "stream",
       "stream": "stdout",
       "text": [
        "\n",
        "step 900: [  1.23991687e+09  -2.81192574e+00   1.10691242e+00  -3.22885156e+00\n",
        "  -7.04410920e-01]"
       ]
      },
      {
       "output_type": "stream",
       "stream": "stdout",
       "text": [
        "\n",
        "step 950: [  1.23991687e+09  -2.75077641e+00   1.02176591e+00  -3.57892886e+00\n",
        "  -1.00804368e+00]"
       ]
      },
      {
       "output_type": "stream",
       "stream": "stdout",
       "text": [
        "\n",
        "step 1000: [  1.23991687e+09  -2.80830686e+00   1.02176591e+00  -3.25999520e+00\n",
        "  -2.78093193e-01]"
       ]
      },
      {
       "output_type": "stream",
       "stream": "stdout",
       "text": [
        "\n",
        "step 1050: [  1.23991687e+09  -2.73159814e+00   1.09631327e+00  -2.90474258e+00\n",
        "  -1.00979773e-01]"
       ]
      },
      {
       "output_type": "stream",
       "stream": "stdout",
       "text": [
        "\n",
        "step 1100: [  1.23991687e+09  -2.71382251e+00   1.07777403e+00  -2.80282418e+00\n",
        "  -1.13561340e+00]"
       ]
      },
      {
       "output_type": "stream",
       "stream": "stdout",
       "text": [
        "\n",
        "step 1150: [  1.23991687e+09  -2.87415832e+00   1.16680548e+00  -2.17238515e+00\n",
        "  -7.23819731e-01]"
       ]
      },
      {
       "output_type": "stream",
       "stream": "stdout",
       "text": [
        "\n",
        "step 1200: [  1.23991687e+09  -2.89647031e+00   1.06832066e+00  -2.66462565e+00\n",
        "  -4.00421456e-01]"
       ]
      },
      {
       "output_type": "stream",
       "stream": "stdout",
       "text": [
        "\n",
        "step 1250: [  1.23991687e+09  -2.98529072e+00   1.06832066e+00  -2.75019592e+00\n",
        "  -8.28826382e-01]"
       ]
      },
      {
       "output_type": "stream",
       "stream": "stdout",
       "text": [
        "\n",
        "step 1300: [  1.23991687e+09  -2.90860656e+00   1.06832066e+00  -2.34451076e+00\n",
        "  -1.03453285e+00]"
       ]
      },
      {
       "output_type": "stream",
       "stream": "stdout",
       "text": [
        "\n",
        "step 1350: [  1.23991687e+09  -2.86410955e+00   1.06832066e+00  -2.51197615e+00\n",
        "  -8.17822391e-01]"
       ]
      },
      {
       "output_type": "stream",
       "stream": "stdout",
       "text": [
        "\n",
        "step 1400: [  1.23991687e+09  -2.76293933e+00   1.06832066e+00  -3.12634190e+00\n",
        "  -2.56736923e+00]"
       ]
      },
      {
       "output_type": "stream",
       "stream": "stdout",
       "text": [
        "\n",
        "step 1450: [  1.23991687e+09  -2.76293933e+00   1.03409621e+00  -3.11477458e+00\n",
        "  -2.00239431e+00]"
       ]
      },
      {
       "output_type": "stream",
       "stream": "stdout",
       "text": [
        "\n",
        "step 1500: [  1.23991687e+09  -2.85208160e+00   1.03409621e+00  -2.59952692e+00\n",
        "  -2.94524658e-01]"
       ]
      },
      {
       "output_type": "stream",
       "stream": "stdout",
       "text": [
        "\n",
        "step 1550: [  1.23991687e+09  -3.05837084e+00   1.03409621e+00  -2.34144098e+00\n",
        "  -1.78022962e-01]"
       ]
      },
      {
       "output_type": "stream",
       "stream": "stdout",
       "text": [
        "\n",
        "step 1600: [  1.23991687e+09  -3.16466067e+00   1.03409621e+00  -1.93947218e+00\n",
        "  -4.10474362e-01]"
       ]
      },
      {
       "output_type": "stream",
       "stream": "stdout",
       "text": [
        "\n",
        "step 1650: [  1.23991687e+09  -2.79010665e+00   1.03629608e+00  -3.19470284e+00\n",
        "  -1.69440607e+00]"
       ]
      },
      {
       "output_type": "stream",
       "stream": "stdout",
       "text": [
        "\n",
        "step 1700: [  1.23991687e+09  -2.62352359e+00   1.16905954e+00  -3.31266302e+00\n",
        "  -2.01082342e+00]"
       ]
      },
      {
       "output_type": "stream",
       "stream": "stdout",
       "text": [
        "\n",
        "step 1750: [  1.23991687e+09  -2.62352359e+00   1.16905954e+00  -2.73866326e+00\n",
        "  -4.14126134e-01]"
       ]
      },
      {
       "output_type": "stream",
       "stream": "stdout",
       "text": [
        "\n",
        "step 1800: [  1.23991687e+09  -2.81717786e+00   1.07205880e+00  -3.21357374e+00\n",
        "  -7.71038529e-01]"
       ]
      },
      {
       "output_type": "stream",
       "stream": "stdout",
       "text": [
        "\n",
        "step 1850: [  1.23991687e+09  -2.75398236e+00   1.01569411e+00  -3.85007003e+00\n",
        "  -7.83494221e-01]"
       ]
      },
      {
       "output_type": "stream",
       "stream": "stdout",
       "text": [
        "\n",
        "step 1900: [  1.23991687e+09  -2.81223887e+00   1.01569411e+00  -2.78114160e+00\n",
        "  -5.72614533e-01]"
       ]
      },
      {
       "output_type": "stream",
       "stream": "stdout",
       "text": [
        "\n",
        "step 1950: [  1.23991687e+09  -2.66891238e+00   1.03942007e+00  -2.67713490e+00\n",
        "  -1.98259109e+00]"
       ]
      },
      {
       "output_type": "stream",
       "stream": "stdout",
       "text": [
        "\n",
        "plotting uatemplate"
       ]
      },
      {
       "output_type": "stream",
       "stream": "stdout",
       "text": [
        " -1 as color (0.0, 0.17450980392156862, 1.0, 1.0)\n",
        "reading station detections... \n",
        "step 0: [  1.23991612e+09  -1.63793847e+00   1.01259094e+00  -4.38576241e+00\n",
        "   4.88017905e-01]\n",
        "step 50: [  1.23991612e+09  -1.64068019e+00   1.01259094e+00  -3.40643398e+00\n",
        "   4.88017905e-01]"
       ]
      },
      {
       "output_type": "stream",
       "stream": "stdout",
       "text": [
        "\n",
        "step 100: [  1.23991612e+09  -1.36528060e+00   1.01259094e+00  -3.75211874e+00\n",
        "   4.88017905e-01]"
       ]
      },
      {
       "output_type": "stream",
       "stream": "stdout",
       "text": [
        "\n",
        "step 150: [  1.23991612e+09  -1.51696995e+00   1.01259094e+00  -4.20000848e+00\n",
        "   4.37804413e-01]"
       ]
      },
      {
       "output_type": "stream",
       "stream": "stdout",
       "text": [
        "\n",
        "step 200: [  1.23991612e+09  -1.64996302e+00   1.01259094e+00  -2.85773684e+00\n",
        "   1.01802204e-01]"
       ]
      },
      {
       "output_type": "stream",
       "stream": "stdout",
       "text": [
        "\n",
        "step 250: [  1.23991612e+09  -1.52827410e+00   1.01259094e+00  -3.63931549e+00\n",
        "   1.63100048e-01]"
       ]
      },
      {
       "output_type": "stream",
       "stream": "stdout",
       "text": [
        "\n",
        "step 300: [  1.23991612e+09  -1.80535323e+00   1.03811891e+00  -2.39531968e+00\n",
        "   1.59842950e-01]"
       ]
      },
      {
       "output_type": "stream",
       "stream": "stdout",
       "text": [
        "\n",
        "step 350: [  1.23991612e+09  -1.57337715e+00   1.03811891e+00  -4.20430236e+00\n",
        "   3.22893627e-01]"
       ]
      },
      {
       "output_type": "stream",
       "stream": "stdout",
       "text": [
        "\n",
        "step 400: [  1.23991612e+09  -1.68958900e+00   1.03811891e+00  -2.48372435e+00\n",
        "   3.23075659e-01]"
       ]
      },
      {
       "output_type": "stream",
       "stream": "stdout",
       "text": [
        "\n",
        "step 450: [  1.23991612e+09  -1.53361563e+00   1.03811891e+00  -3.63678019e+00\n",
        "   3.38081652e-01]"
       ]
      },
      {
       "output_type": "stream",
       "stream": "stdout",
       "text": [
        "\n",
        "step 500: [  1.23991612e+09  -1.74566650e+00   1.05869081e+00  -2.32249878e+00\n",
        "   3.40197487e-01]"
       ]
      },
      {
       "output_type": "stream",
       "stream": "stdout",
       "text": [
        "\n",
        "step 550: [  1.23991612e+09  -1.73279900e+00   9.97804894e-01  -3.70523893e+00\n",
        "   3.79625489e-01]"
       ]
      },
      {
       "output_type": "stream",
       "stream": "stdout",
       "text": [
        "\n",
        "step 600: [  1.23991612e+09  -1.58275978e+00   9.97804894e-01  -3.11623399e+00\n",
        "   3.79625489e-01]"
       ]
      },
      {
       "output_type": "stream",
       "stream": "stdout",
       "text": [
        "\n",
        "step 650: [  1.23991612e+09  -1.47847463e+00   1.05542377e+00  -4.03572599e+00\n",
        "   3.79625489e-01]"
       ]
      },
      {
       "output_type": "stream",
       "stream": "stdout",
       "text": [
        "\n",
        "step 700: [  1.23991612e+09  -1.58925624e+00   9.79390464e-01  -2.83902686e+00\n",
        "   2.65224741e-01]"
       ]
      },
      {
       "output_type": "stream",
       "stream": "stdout",
       "text": [
        "\n",
        "step 750: [  1.23991612e+09  -1.75606028e+00   1.00775113e+00  -2.10916750e+00\n",
        "   4.01213511e-01]"
       ]
      },
      {
       "output_type": "stream",
       "stream": "stdout",
       "text": [
        "\n",
        "step 800: [  1.23991612e+09  -1.81625361e+00   1.00775113e+00  -1.99140221e+00\n",
        "   4.05577668e-01]"
       ]
      },
      {
       "output_type": "stream",
       "stream": "stdout",
       "text": [
        "\n",
        "step 850: [  1.23991612e+09  -1.79038554e+00   1.00775113e+00  -3.39433895e+00\n",
        "   2.02527802e-01]"
       ]
      },
      {
       "output_type": "stream",
       "stream": "stdout",
       "text": [
        "\n",
        "step 900: [  1.23991612e+09  -1.58048181e+00   1.00775113e+00  -3.88559609e+00\n",
        "   1.12185492e-01]"
       ]
      },
      {
       "output_type": "stream",
       "stream": "stdout",
       "text": [
        "\n",
        "step 950: [  1.23991612e+09  -1.66941926e+00   1.00775113e+00  -2.12300062e+00\n",
        "   2.05203195e-01]"
       ]
      },
      {
       "output_type": "stream",
       "stream": "stdout",
       "text": [
        "\n",
        "step 1000: [  1.23991612e+09  -1.64275672e+00   1.04075811e+00  -2.66338987e+00\n",
        "   2.05203195e-01]"
       ]
      },
      {
       "output_type": "stream",
       "stream": "stdout",
       "text": [
        "\n",
        "step 1050: [  1.23991612e+09  -1.63175335e+00   1.04028383e+00  -2.68287159e+00\n",
        "   1.85422465e-01]"
       ]
      },
      {
       "output_type": "stream",
       "stream": "stdout",
       "text": [
        "\n",
        "step 1100: [  1.23991612e+09  -1.52149267e+00   1.06216657e+00  -3.35461118e+00\n",
        "   1.85422465e-01]"
       ]
      },
      {
       "output_type": "stream",
       "stream": "stdout",
       "text": [
        "\n",
        "step 1150: [  1.23991612e+09  -1.32608539e+00   1.06216657e+00  -2.99994929e+00\n",
        "   1.85422465e-01]"
       ]
      },
      {
       "output_type": "stream",
       "stream": "stdout",
       "text": [
        "\n",
        "step 1200: [  1.23991612e+09  -1.66031474e+00   1.06216657e+00  -3.85278186e+00\n",
        "   2.48058523e-01]"
       ]
      },
      {
       "output_type": "stream",
       "stream": "stdout",
       "text": [
        "\n",
        "step 1250: [  1.23991612e+09  -1.68474117e+00   1.06216657e+00  -2.13639447e+00\n",
        "   5.11293582e-01]"
       ]
      },
      {
       "output_type": "stream",
       "stream": "stdout",
       "text": [
        "\n",
        "step 1300: [  1.23991612e+09  -1.50660377e+00   1.07162651e+00  -2.73771101e+00\n",
        "   5.04938107e-01]"
       ]
      },
      {
       "output_type": "stream",
       "stream": "stdout",
       "text": [
        "\n",
        "step 1350: [  1.23991612e+09  -1.56599312e+00   1.07162651e+00  -3.57122803e+00\n",
        "   5.04938107e-01]"
       ]
      },
      {
       "output_type": "stream",
       "stream": "stdout",
       "text": [
        "\n",
        "step 1400: [  1.23991612e+09  -1.40839018e+00   1.07162651e+00  -3.39467302e+00\n",
        "   4.45353059e-01]"
       ]
      },
      {
       "output_type": "stream",
       "stream": "stdout",
       "text": [
        "\n",
        "step 1450: [  1.23991612e+09  -1.45951193e+00   1.06674097e+00  -3.41424494e+00\n",
        "   3.21286381e-01]"
       ]
      },
      {
       "output_type": "stream",
       "stream": "stdout",
       "text": [
        "\n",
        "step 1500: [  1.23991612e+09  -1.68603335e+00   1.06674097e+00  -2.53525662e+00\n",
        "   3.23786503e-01]"
       ]
      },
      {
       "output_type": "stream",
       "stream": "stdout",
       "text": [
        "\n",
        "step 1550: [  1.23991612e+09  -1.58493065e+00   1.06674097e+00  -3.57800888e+00\n",
        "   2.06691027e-01]"
       ]
      },
      {
       "output_type": "stream",
       "stream": "stdout",
       "text": [
        "\n",
        "step 1600: [  1.23991612e+09  -1.62350947e+00   1.06674097e+00  -2.89763937e+00\n",
        "   3.78998106e-01]"
       ]
      },
      {
       "output_type": "stream",
       "stream": "stdout",
       "text": [
        "\n",
        "step 1650: [  1.23991612e+09  -1.56536113e+00   1.06674097e+00  -3.24703796e+00\n",
        "   2.52241986e-01]"
       ]
      },
      {
       "output_type": "stream",
       "stream": "stdout",
       "text": [
        "\n",
        "step 1700: [  1.23991612e+09  -1.48701789e+00   1.06674097e+00  -3.23254335e+00\n",
        "   1.09860150e-01]"
       ]
      },
      {
       "output_type": "stream",
       "stream": "stdout",
       "text": [
        "\n",
        "step 1750: [  1.23991612e+09  -1.81230595e+00   1.00023218e+00  -3.22135193e+00\n",
        "   1.90443980e-01]"
       ]
      },
      {
       "output_type": "stream",
       "stream": "stdout",
       "text": [
        "\n",
        "step 1800: [  1.23991612e+09  -1.57581162e+00   1.00023218e+00  -4.03787760e+00\n",
        "   4.09974871e-01]"
       ]
      },
      {
       "output_type": "stream",
       "stream": "stdout",
       "text": [
        "\n",
        "step 1850: [  1.23991612e+09  -1.51435413e+00   1.00023218e+00  -4.01038984e+00\n",
        "   3.97890386e-01]"
       ]
      },
      {
       "output_type": "stream",
       "stream": "stdout",
       "text": [
        "\n",
        "step 1900: [  1.23991612e+09  -1.45190687e+00   1.12111209e+00  -4.17037070e+00\n",
        "   2.52332248e-01]"
       ]
      },
      {
       "output_type": "stream",
       "stream": "stdout",
       "text": [
        "\n",
        "step 1950: [  1.23991612e+09  -1.45190687e+00   1.12111209e+00  -3.54724974e+00\n",
        "   2.52332248e-01]"
       ]
      },
      {
       "output_type": "stream",
       "stream": "stdout",
       "text": [
        "\n",
        "plotting uatemplate"
       ]
      },
      {
       "output_type": "stream",
       "stream": "stdout",
       "text": [
        " -1 as color (0.0, 0.55098039215686279, 1.0, 1.0)\n",
        "reading station detections... \n",
        "step 0: [  1.23991679e+09  -3.86062594e+00  -5.56469707e-01  -1.98917707e+00\n",
        "   2.53296923e+00]\n",
        "step 50: [  1.23991680e+09  -3.57397755e+00  -2.11488716e-01  -3.23980795e+00\n",
        "   1.96692859e+00]"
       ]
      },
      {
       "output_type": "stream",
       "stream": "stdout",
       "text": [
        "\n",
        "step 100: [  1.23991680e+09  -3.41116609e+00  -1.50088140e-01  -2.59522482e+00\n",
        "   2.06124443e+00]"
       ]
      },
      {
       "output_type": "stream",
       "stream": "stdout",
       "text": [
        "\n",
        "step 150: [  1.23991680e+09  -3.86096885e+00  -1.50088140e-01  -2.05792049e+00\n",
        "   1.89759810e+00]"
       ]
      },
      {
       "output_type": "stream",
       "stream": "stdout",
       "text": [
        "\n",
        "step 200: [  1.23991680e+09  -3.20295196e+00  -1.46759812e-01  -2.41306647e+00\n",
        "   1.88334723e+00]"
       ]
      },
      {
       "output_type": "stream",
       "stream": "stdout",
       "text": [
        "\n",
        "step 250: [  1.23991680e+09  -3.27971057e+00  -4.28346571e-02  -3.52417704e+00\n",
        "   2.18370691e+00]"
       ]
      },
      {
       "output_type": "stream",
       "stream": "stdout",
       "text": [
        "\n",
        "step 300: [  1.23991680e+09  -3.38819605e+00  -4.28346571e-02  -1.81709438e+00\n",
        "   2.33433824e+00]"
       ]
      },
      {
       "output_type": "stream",
       "stream": "stdout",
       "text": [
        "\n",
        "step 350: [  1.23991680e+09  -3.83665131e+00  -1.47007184e-01  -2.00457474e+00\n",
        "   2.38644375e+00]"
       ]
      },
      {
       "output_type": "stream",
       "stream": "stdout",
       "text": [
        "\n",
        "step 400: [  1.23991680e+09  -3.66223559e+00   8.05964712e-02  -1.49972780e+00\n",
        "   2.11039182e+00]"
       ]
      },
      {
       "output_type": "stream",
       "stream": "stdout",
       "text": [
        "\n",
        "step 450: [  1.23991680e+09  -4.05685433e+00  -5.66458273e-02  -8.46893427e-01\n",
        "   2.27342398e+00]"
       ]
      },
      {
       "output_type": "stream",
       "stream": "stdout",
       "text": [
        "\n",
        "step 500: [  1.23991680e+09  -3.02068446e+00  -8.35267332e-03  -3.21139566e+00\n",
        "   2.13341939e+00]"
       ]
      },
      {
       "output_type": "stream",
       "stream": "stdout",
       "text": [
        "\n",
        "step 550: [  1.23991680e+09  -3.28908120e+00  -3.91758340e-02  -2.51001072e+00\n",
        "   2.22677559e+00]"
       ]
      },
      {
       "output_type": "stream",
       "stream": "stdout",
       "text": [
        "\n",
        "step 600: [  1.23991680e+09  -3.23884370e+00  -2.04370841e-01  -5.01534282e+00\n",
        "   1.81830306e+00]"
       ]
      },
      {
       "output_type": "stream",
       "stream": "stdout",
       "text": [
        "\n",
        "step 650: [  1.23991680e+09  -3.15678919e+00  -1.64637817e-01  -2.28175446e+00\n",
        "   2.19437923e+00]"
       ]
      },
      {
       "output_type": "stream",
       "stream": "stdout",
       "text": [
        "\n",
        "step 700: [  1.23991680e+09  -3.77832295e+00  -3.45187564e-01  -3.38993506e+00\n",
        "   1.73965183e+00]"
       ]
      },
      {
       "output_type": "stream",
       "stream": "stdout",
       "text": [
        "\n",
        "step 750: [  1.23991680e+09  -4.31901277e+00   6.19270878e-02  -1.17902579e+00\n",
        "   2.17754042e+00]"
       ]
      },
      {
       "output_type": "stream",
       "stream": "stdout",
       "text": [
        "\n",
        "step 800: [  1.23991680e+09  -3.36928712e+00  -2.54159866e-01  -2.34252823e+00\n",
        "   2.16462070e+00]"
       ]
      },
      {
       "output_type": "stream",
       "stream": "stdout",
       "text": [
        "\n",
        "step 850: [  1.23991680e+09  -3.33592389e+00  -2.54159866e-01  -3.64206627e+00\n",
        "   1.73270809e+00]"
       ]
      },
      {
       "output_type": "stream",
       "stream": "stdout",
       "text": [
        "\n",
        "step 900: [  1.23991680e+09  -3.34515205e+00  -2.54159866e-01  -3.20162751e+00\n",
        "   2.10311284e+00]"
       ]
      },
      {
       "output_type": "stream",
       "stream": "stdout",
       "text": [
        "\n",
        "step 950: [  1.23991680e+09  -3.52321869e+00  -7.19941972e-01  -3.30056869e+00\n",
        "  -1.23456102e+00]"
       ]
      },
      {
       "output_type": "stream",
       "stream": "stdout",
       "text": [
        "\n",
        "step 1000: [  1.23991680e+09  -3.58411059e+00  -1.28338853e-01  -2.49958029e+00\n",
        "   2.40054880e+00]"
       ]
      },
      {
       "output_type": "stream",
       "stream": "stdout",
       "text": [
        "\n",
        "step 1050: [  1.23991679e+09  -3.16878068e+00  -1.50234574e-01  -2.43240334e+00\n",
        "   2.76234041e+00]"
       ]
      },
      {
       "output_type": "stream",
       "stream": "stdout",
       "text": [
        "\n",
        "step 1100: [  1.23991680e+09  -3.98559661e+00  -5.21380605e-01  -3.69118809e+00\n",
        "   1.39569152e+00]"
       ]
      },
      {
       "output_type": "stream",
       "stream": "stdout",
       "text": [
        "\n",
        "step 1150: [  1.23991680e+09  -3.75887746e+00  -4.67275043e-01  -3.50569694e+00\n",
        "   2.21351811e+00]"
       ]
      },
      {
       "output_type": "stream",
       "stream": "stdout",
       "text": [
        "\n",
        "step 1200: [  1.23991680e+09  -4.01314421e+00  -4.53213524e-01  -1.46469358e+00\n",
        "   2.17826815e+00]"
       ]
      },
      {
       "output_type": "stream",
       "stream": "stdout",
       "text": [
        "\n",
        "step 1250: [  1.23991680e+09  -4.12873960e+00  -4.53213524e-01  -1.78711869e+00\n",
        "   2.36064267e+00]"
       ]
      },
      {
       "output_type": "stream",
       "stream": "stdout",
       "text": [
        "\n",
        "step 1300: [  1.23991680e+09  -3.40542758e+00  -4.72065801e-01  -4.24223467e+00\n",
        "   2.13202743e+00]"
       ]
      },
      {
       "output_type": "stream",
       "stream": "stdout",
       "text": [
        "\n",
        "step 1350: [  1.23991680e+09  -4.35370086e+00  -4.72065801e-01  -3.06899640e+00\n",
        "   2.24923964e+00]"
       ]
      },
      {
       "output_type": "stream",
       "stream": "stdout",
       "text": [
        "\n",
        "step 1400: [  1.23991680e+09  -3.56095634e+00  -3.72889673e-01  -3.30201045e+00\n",
        "   6.21218375e-01]"
       ]
      },
      {
       "output_type": "stream",
       "stream": "stdout",
       "text": [
        "\n",
        "step 1450: [  1.23991680e+09  -3.63527313e+00  -2.00941029e-01  -2.67823391e+00\n",
        "   1.77643565e+00]"
       ]
      },
      {
       "output_type": "stream",
       "stream": "stdout",
       "text": [
        "\n",
        "step 1500: [  1.23991680e+09  -3.83647074e+00  -4.75117606e-01  -2.89386356e+00\n",
        "  -3.64375464e-01]"
       ]
      },
      {
       "output_type": "stream",
       "stream": "stdout",
       "text": [
        "\n",
        "step 1550: [  1.23991680e+09  -3.33711235e+00  -4.75117606e-01  -2.78311589e+00\n",
        "   7.20675266e-01]"
       ]
      },
      {
       "output_type": "stream",
       "stream": "stdout",
       "text": [
        "\n",
        "step 1600: [  1.23991680e+09  -3.42804485e+00  -1.87237245e-01  -4.32892896e+00\n",
        "   4.77788216e-01]"
       ]
      },
      {
       "output_type": "stream",
       "stream": "stdout",
       "text": [
        "\n",
        "step 1650: [  1.23991679e+09  -3.41290476e+00  -5.29556819e-01  -4.04989749e+00\n",
        "   2.54662356e+00]"
       ]
      },
      {
       "output_type": "stream",
       "stream": "stdout",
       "text": [
        "\n",
        "step 1700: [  1.23991680e+09  -3.97623431e+00  -5.29556819e-01  -3.85062435e+00\n",
        "   9.57081492e-01]"
       ]
      },
      {
       "output_type": "stream",
       "stream": "stdout",
       "text": [
        "\n",
        "step 1750: [  1.23991680e+09  -3.57215389e+00  -3.58936874e-01  -2.71193144e+00\n",
        "   1.01659190e+00]"
       ]
      },
      {
       "output_type": "stream",
       "stream": "stdout",
       "text": [
        "\n",
        "step 1800: [  1.23991680e+09  -3.26988273e+00  -2.89357086e-01  -5.50039810e+00\n",
        "   1.70225336e+00]"
       ]
      },
      {
       "output_type": "stream",
       "stream": "stdout",
       "text": [
        "\n",
        "step 1850: [  1.23991680e+09  -3.60678350e+00  -5.77160594e-01  -3.44349628e+00\n",
        "  -2.02284190e-01]"
       ]
      },
      {
       "output_type": "stream",
       "stream": "stdout",
       "text": [
        "\n",
        "step 1900: [  1.23991679e+09  -4.48633165e+00  -3.48304269e-01  -1.88294370e+00\n",
        "   2.62658235e+00]"
       ]
      },
      {
       "output_type": "stream",
       "stream": "stdout",
       "text": [
        "\n",
        "step 1950: [  1.23991680e+09  -3.28931115e+00  -1.11237921e-01  -2.11576785e+00\n",
        "   1.74384254e+00]"
       ]
      },
      {
       "output_type": "stream",
       "stream": "stdout",
       "text": [
        "\n",
        "plotting uatemplate"
       ]
      },
      {
       "output_type": "stream",
       "stream": "stdout",
       "text": [
        " -1 as color (0.0, 0.0176470588235293, 1.0, 1.0)\n",
        "reading station detections... \n",
        "step 0: [  1.23991598e+09  -1.62477773e+00   2.50303844e-01  -7.29546884e-01\n",
        "   2.98539144e-01]\n",
        "step 50: [  1.23991598e+09  -9.78174798e-01   3.23918188e-01  -3.01788987e+00\n",
        "  -3.09906385e-01]"
       ]
      },
      {
       "output_type": "stream",
       "stream": "stdout",
       "text": [
        "\n",
        "step 100: [  1.23991598e+09  -1.35140220e+00   4.07717418e-01  -1.68436492e+00\n",
        "  -2.23733331e-01]"
       ]
      },
      {
       "output_type": "stream",
       "stream": "stdout",
       "text": [
        "\n",
        "step 150: [  1.23991598e+09  -1.66144530e+00   1.73900845e-01  -1.80319980e+00\n",
        "  -2.53551591e-01]"
       ]
      },
      {
       "output_type": "stream",
       "stream": "stdout",
       "text": [
        "\n",
        "step 200: [  1.23991598e+09  -1.78609846e+00   2.67857768e-01  -1.92026291e+00\n",
        "  -4.33972932e-01]"
       ]
      },
      {
       "output_type": "stream",
       "stream": "stdout",
       "text": [
        "\n",
        "step 250: [  1.23991598e+09  -1.53147190e+00   1.26820003e-01  -2.62590697e+00\n",
        "   3.63942781e-01]"
       ]
      },
      {
       "output_type": "stream",
       "stream": "stdout",
       "text": [
        "\n",
        "step 300: [  1.23991598e+09  -1.43539566e+00   1.26820003e-01  -1.98230862e+00\n",
        "   5.37540019e-01]"
       ]
      },
      {
       "output_type": "stream",
       "stream": "stdout",
       "text": [
        "\n",
        "step 350: [  1.23991598e+09  -1.52391122e+00   1.14706670e-01  -3.04864485e+00\n",
        "   1.54459885e-01]"
       ]
      },
      {
       "output_type": "stream",
       "stream": "stdout",
       "text": [
        "\n",
        "step 400: [  1.23991598e+09  -1.29606534e+00   4.23766033e-01  -3.10334915e+00\n",
        "  -7.32787307e-02]"
       ]
      },
      {
       "output_type": "stream",
       "stream": "stdout",
       "text": [
        "\n",
        "step 450: [  1.23991598e+09  -2.02065935e+00   4.23766033e-01  -1.68745423e+00\n",
        "  -1.46676291e-01]"
       ]
      },
      {
       "output_type": "stream",
       "stream": "stdout",
       "text": [
        "\n",
        "step 500: [  1.23991598e+09  -1.25061109e+00   4.12288340e-01  -2.95485829e+00\n",
        "  -2.60764956e-01]"
       ]
      },
      {
       "output_type": "stream",
       "stream": "stdout",
       "text": [
        "\n",
        "step 550: [  1.23991598e+09  -1.52627252e+00   3.56423466e-01  -5.90535792e+00\n",
        "  -5.91479415e-02]"
       ]
      },
      {
       "output_type": "stream",
       "stream": "stdout",
       "text": [
        "\n",
        "step 600: [  1.23991598e+09  -8.49178524e-01   4.19149529e-01  -1.94274928e+00\n",
        "  -5.91479415e-02]"
       ]
      },
      {
       "output_type": "stream",
       "stream": "stdout",
       "text": [
        "\n",
        "step 650: [  1.23991598e+09  -2.68917092e+00   2.25778288e-01  -7.15317048e-01\n",
        "  -9.45308870e-01]"
       ]
      },
      {
       "output_type": "stream",
       "stream": "stdout",
       "text": [
        "\n",
        "step 700: [  1.23991598e+09  -1.68479865e+00   2.25778288e-01  -2.47167396e+00\n",
        "  -8.89454959e-01]"
       ]
      },
      {
       "output_type": "stream",
       "stream": "stdout",
       "text": [
        "\n",
        "step 750: [  1.23991598e+09  -1.50520992e+00   3.44501081e-01  -2.54803560e+00\n",
        "  -7.54690372e-01]"
       ]
      },
      {
       "output_type": "stream",
       "stream": "stdout",
       "text": [
        "\n",
        "step 800: [  1.23991598e+09  -1.93496992e+00   3.52271982e-01  -2.41067454e+00\n",
        "  -1.05278007e+00]"
       ]
      },
      {
       "output_type": "stream",
       "stream": "stdout",
       "text": [
        "\n",
        "step 850: [  1.23991598e+09  -1.27236571e+00   3.57963198e-01  -2.97914368e+00\n",
        "  -1.00508818e+00]"
       ]
      },
      {
       "output_type": "stream",
       "stream": "stdout",
       "text": [
        "\n",
        "step 900: [  1.23991598e+09  -1.09363683e+00   3.57963198e-01  -2.56330840e+00\n",
        "  -5.56059921e-01]"
       ]
      },
      {
       "output_type": "stream",
       "stream": "stdout",
       "text": [
        "\n",
        "step 950: [  1.23991598e+09  -1.24716425e+00   2.94733632e-01  -1.88184495e+00\n",
        "  -6.33500011e-01]"
       ]
      },
      {
       "output_type": "stream",
       "stream": "stdout",
       "text": [
        "\n",
        "step 1000: [  1.23991598e+09  -1.64406525e+00   2.94733632e-01  -2.12986843e+00\n",
        "  -5.17953353e-01]"
       ]
      },
      {
       "output_type": "stream",
       "stream": "stdout",
       "text": [
        "\n",
        "step 1050: [  1.23991598e+09  -1.66323807e+00   2.35173650e-01  -2.27544711e+00\n",
        "  -7.72254726e-01]"
       ]
      },
      {
       "output_type": "stream",
       "stream": "stdout",
       "text": [
        "\n",
        "step 1100: [  1.23991598e+09  -1.70848890e+00   2.35173650e-01  -2.03363458e+00\n",
        "  -7.72254726e-01]"
       ]
      },
      {
       "output_type": "stream",
       "stream": "stdout",
       "text": [
        "\n",
        "step 1150: [  1.23991598e+09  -1.51316223e+00   8.31095059e-02  -3.43987032e+00\n",
        "  -5.21737762e-01]"
       ]
      },
      {
       "output_type": "stream",
       "stream": "stdout",
       "text": [
        "\n",
        "step 1200: [  1.23991598e+09  -1.75347717e+00   1.00608244e-01  -3.89788373e+00\n",
        "   5.79983769e-01]"
       ]
      },
      {
       "output_type": "stream",
       "stream": "stdout",
       "text": [
        "\n",
        "step 1250: [  1.23991598e+09  -1.22859491e+00   1.00608244e-01  -3.95488368e+00\n",
        "   6.37177172e-01]"
       ]
      },
      {
       "output_type": "stream",
       "stream": "stdout",
       "text": [
        "\n",
        "step 1300: [  1.23991598e+09  -1.36326921e+00   2.58618874e-01  -2.54450491e+00\n",
        "   5.20965265e-01]"
       ]
      },
      {
       "output_type": "stream",
       "stream": "stdout",
       "text": [
        "\n",
        "step 1350: [  1.23991598e+09  -1.15594740e+00   3.55398555e-01  -4.03429948e+00\n",
        "   5.33401739e-01]"
       ]
      },
      {
       "output_type": "stream",
       "stream": "stdout",
       "text": [
        "\n",
        "step 1400: [  1.23991598e+09  -1.63454982e+00   7.32954217e-02  -9.01975384e-01\n",
        "  -2.02159158e-01]"
       ]
      },
      {
       "output_type": "stream",
       "stream": "stdout",
       "text": [
        "\n",
        "step 1450: [  1.23991598e+09  -1.14160189e+00   1.70056645e-01  -1.16304607e+00\n",
        "   1.47038574e-01]"
       ]
      },
      {
       "output_type": "stream",
       "stream": "stdout",
       "text": [
        "\n",
        "step 1500: [  1.23991598e+09  -2.48428325e+00   1.70056645e-01  -1.48555576e+00\n",
        "   3.15046976e-01]"
       ]
      },
      {
       "output_type": "stream",
       "stream": "stdout",
       "text": [
        "\n",
        "step 1550: [  1.23991598e+09  -1.38746866e+00   1.70056645e-01  -1.98311272e+00\n",
        "  -3.34175829e-01]"
       ]
      },
      {
       "output_type": "stream",
       "stream": "stdout",
       "text": [
        "\n",
        "step 1600: [  1.23991598e+09  -1.37512762e+00   3.44140932e-01  -2.24419999e+00\n",
        "   5.34761208e-01]"
       ]
      },
      {
       "output_type": "stream",
       "stream": "stdout",
       "text": [
        "\n",
        "step 1650: [  1.23991598e+09  -1.57749541e+00   2.85888719e-01  -3.47272134e+00\n",
        "   5.51111413e-01]"
       ]
      },
      {
       "output_type": "stream",
       "stream": "stdout",
       "text": [
        "\n",
        "step 1700: [  1.23991598e+09  -1.94364446e+00   1.74960108e-01  -3.48942916e+00\n",
        "  -1.04788482e-01]"
       ]
      },
      {
       "output_type": "stream",
       "stream": "stdout",
       "text": [
        "\n",
        "step 1750: [  1.23991598e+09  -1.96369226e+00   1.74960108e-01  -2.38530508e+00\n",
        "  -7.39147988e-02]"
       ]
      },
      {
       "output_type": "stream",
       "stream": "stdout",
       "text": [
        "\n",
        "step 1800: [  1.23991598e+09  -1.27489511e+00   1.20829806e-01  -2.24225578e+00\n",
        "   6.02464744e-01]"
       ]
      },
      {
       "output_type": "stream",
       "stream": "stdout",
       "text": [
        "\n",
        "step 1850: [  1.23991598e+09  -1.07264403e+00   2.51952929e-01  -3.39632004e+00\n",
        "   5.00776868e-01]"
       ]
      },
      {
       "output_type": "stream",
       "stream": "stdout",
       "text": [
        "\n",
        "step 1900: [  1.23991598e+09  -1.73937657e+00   3.06544965e-01  -3.15779139e+00\n",
        "   4.97942339e-01]"
       ]
      },
      {
       "output_type": "stream",
       "stream": "stdout",
       "text": [
        "\n",
        "step 1950: [  1.23991598e+09  -1.05834016e+00   1.72606019e-01  -3.47207361e+00\n",
        "   4.97942339e-01]"
       ]
      },
      {
       "output_type": "stream",
       "stream": "stdout",
       "text": [
        "\n",
        "plotting uatemplate"
       ]
      },
      {
       "output_type": "stream",
       "stream": "stdout",
       "text": [
        " -1 as color (0.37634408602150532, 1.0, 0.59139784946236562, 1.0)\n",
        "reading station detections... \n",
        "step 0: [  1.23991677e+09  -6.20443415e+00   6.15529686e-01   2.19029798e-01\n",
        "  -1.64296984e+00]\n",
        "step 50: [  1.23991677e+09  -1.61738659e-01   6.40795861e-01  -3.49641771e+00\n",
        "  -1.42704395e-01]"
       ]
      },
      {
       "output_type": "stream",
       "stream": "stdout",
       "text": [
        "\n",
        "step 100: [  1.23991677e+09  -1.12476239e+00   6.40795861e-01  -7.90185612e-01\n",
        "  -4.86345672e-01]"
       ]
      },
      {
       "output_type": "stream",
       "stream": "stdout",
       "text": [
        "\n",
        "step 150: [  1.23991677e+09  -5.98066048e-01   5.53811250e-01  -2.98530119e+00\n",
        "  -1.67619224e-01]"
       ]
      },
      {
       "output_type": "stream",
       "stream": "stdout",
       "text": [
        "\n",
        "step 200: [  1.23991677e+09  -5.21499144e-01   5.49429800e-01  -3.87157582e+00\n",
        "  -1.76305676e+00]"
       ]
      },
      {
       "output_type": "stream",
       "stream": "stdout",
       "text": [
        "\n",
        "step 250: [  1.23991677e+09  -1.87844070e+00   4.72411065e-01  -3.25861702e-01\n",
        "  -1.09684501e+00]"
       ]
      },
      {
       "output_type": "stream",
       "stream": "stdout",
       "text": [
        "\n",
        "step 300: [  1.23991677e+09  -1.49956472e+00   4.20561093e-01  -2.38994968e-01\n",
        "  -1.25889768e+00]"
       ]
      },
      {
       "output_type": "stream",
       "stream": "stdout",
       "text": [
        "\n",
        "step 350: [  1.23991677e+09  -2.65656120e+00   4.20561093e-01  -1.24588048e-01\n",
        "  -1.80285646e+00]"
       ]
      },
      {
       "output_type": "stream",
       "stream": "stdout",
       "text": [
        "\n",
        "step 400: [  1.23991677e+09  -2.02958337e+00   5.48463363e-01  -9.33555822e-02\n",
        "  -2.42774609e-01]"
       ]
      },
      {
       "output_type": "stream",
       "stream": "stdout",
       "text": [
        "\n",
        "step 450: [  1.23991677e+09  -3.41074979e+00   5.48463363e-01   1.00199902e-01\n",
        "  -4.68029052e-02]"
       ]
      },
      {
       "output_type": "stream",
       "stream": "stdout",
       "text": [
        "\n",
        "step 500: [  1.23991677e+09  -9.15094676e-01   6.38697403e-01  -2.13274049e+00\n",
        "  -4.26725845e-01]"
       ]
      },
      {
       "output_type": "stream",
       "stream": "stdout",
       "text": [
        "\n",
        "step 550: [  1.23991677e+09  -4.45499198e-01   6.38697403e-01  -1.41455344e+00\n",
        "  -1.38015239e+00]"
       ]
      },
      {
       "output_type": "stream",
       "stream": "stdout",
       "text": [
        "\n",
        "step 600: [  1.23991677e+09  -5.02236856e-01   5.55246997e-01  -2.39666966e+00\n",
        "  -1.04494876e+00]"
       ]
      },
      {
       "output_type": "stream",
       "stream": "stdout",
       "text": [
        "\n",
        "step 650: [  1.23991677e+09  -3.11478082e-01   6.20293318e-01  -3.49920766e+00\n",
        "   2.56886621e-02]"
       ]
      },
      {
       "output_type": "stream",
       "stream": "stdout",
       "text": [
        "\n",
        "step 700: [  1.23991677e+09  -6.93341039e-01   6.76822920e-01  -1.52619823e+00\n",
        "  -1.20685021e-02]"
       ]
      },
      {
       "output_type": "stream",
       "stream": "stdout",
       "text": [
        "\n",
        "step 750: [  1.23991677e+09  -5.19004152e-01   5.07965243e-01  -1.99871768e+00\n",
        "  -2.88608817e-01]"
       ]
      },
      {
       "output_type": "stream",
       "stream": "stdout",
       "text": [
        "\n",
        "step 800: [  1.23991677e+09  -4.45616146e-01   5.07965243e-01  -1.78703774e+00\n",
        "  -1.37606924e+00]"
       ]
      },
      {
       "output_type": "stream",
       "stream": "stdout",
       "text": [
        "\n",
        "step 850: [  1.23991677e+09  -5.23831305e-01   4.06970800e-01  -3.21685698e+00\n",
        "  -1.19987367e+00]"
       ]
      },
      {
       "output_type": "stream",
       "stream": "stdout",
       "text": [
        "\n",
        "step 900: [  1.23991677e+09  -6.52544925e-01   4.06970800e-01  -1.16514736e+00\n",
        "  -3.45240920e-01]"
       ]
      },
      {
       "output_type": "stream",
       "stream": "stdout",
       "text": [
        "\n",
        "step 950: [  1.23991677e+09  -6.29938150e-01   4.06970800e-01  -1.66136750e+00\n",
        "  -8.05455947e-01]"
       ]
      },
      {
       "output_type": "stream",
       "stream": "stdout",
       "text": [
        "\n",
        "step 1000: [  1.23991677e+09  -5.06952276e-01   4.06970800e-01  -2.52727613e+00\n",
        "  -1.33504511e-01]"
       ]
      },
      {
       "output_type": "stream",
       "stream": "stdout",
       "text": [
        "\n",
        "step 1050: [  1.23991677e+09  -5.49474273e-01   5.45771885e-01  -2.33563817e+00\n",
        "  -9.95918094e-01]"
       ]
      },
      {
       "output_type": "stream",
       "stream": "stdout",
       "text": [
        "\n",
        "step 1100: [  1.23991677e+09  -3.97028491e-01   5.45771885e-01  -3.05060403e+00\n",
        "  -1.21470645e+00]"
       ]
      },
      {
       "output_type": "stream",
       "stream": "stdout",
       "text": [
        "\n",
        "step 1150: [  1.23991677e+09  -3.41250590e-01   5.45771885e-01  -2.86418369e+00\n",
        "  -1.67337650e+00]"
       ]
      },
      {
       "output_type": "stream",
       "stream": "stdout",
       "text": [
        "\n",
        "step 1200: [  1.23991677e+09  -1.94183754e+00   4.95007582e-01  -3.99822646e-01\n",
        "  -4.11270107e-01]"
       ]
      },
      {
       "output_type": "stream",
       "stream": "stdout",
       "text": [
        "\n",
        "step 1250: [  1.23991677e+09  -3.36905462e+00   4.95007582e-01  -7.70792437e-03\n",
        "  -4.39775023e-01]"
       ]
      },
      {
       "output_type": "stream",
       "stream": "stdout",
       "text": [
        "\n",
        "step 1300: [  1.23991677e+09  -2.31035143e+00   4.95007582e-01   6.09358025e-02\n",
        "  -2.95995040e-01]"
       ]
      },
      {
       "output_type": "stream",
       "stream": "stdout",
       "text": [
        "\n",
        "step 1350: [  1.23991677e+09  -4.51679554e+00   4.95007582e-01   1.12360095e-01\n",
        "  -4.08922151e-01]"
       ]
      },
      {
       "output_type": "stream",
       "stream": "stdout",
       "text": [
        "\n",
        "step 1400: [  1.23991677e+09  -9.83932516e-01   5.66267415e-01  -8.81811484e-01\n",
        "  -2.09748324e-01]"
       ]
      },
      {
       "output_type": "stream",
       "stream": "stdout",
       "text": [
        "\n",
        "step 1450: [  1.23991677e+09  -2.74310478e-01   5.47304252e-01  -4.43524442e+00\n",
        "  -6.28241448e-01]"
       ]
      },
      {
       "output_type": "stream",
       "stream": "stdout",
       "text": [
        "\n",
        "step 1500: [  1.23991677e+09  -6.24420267e-01   5.46708592e-01  -1.68986911e+00\n",
        "  -7.33136039e-01]"
       ]
      },
      {
       "output_type": "stream",
       "stream": "stdout",
       "text": [
        "\n",
        "step 1550: [  1.23991677e+09  -5.41312553e-01   5.46708592e-01  -8.04074716e-01\n",
        "  -4.92397979e-01]"
       ]
      },
      {
       "output_type": "stream",
       "stream": "stdout",
       "text": [
        "\n",
        "step 1600: [  1.23991677e+09  -3.06714169e+00   5.94038159e-01  -1.48783109e-01\n",
        "  -5.99770230e-01]"
       ]
      },
      {
       "output_type": "stream",
       "stream": "stdout",
       "text": [
        "\n",
        "step 1650: [  1.23991677e+09  -1.76271535e+00   5.94038159e-01  -2.49505467e-01\n",
        "  -3.22968330e-01]"
       ]
      },
      {
       "output_type": "stream",
       "stream": "stdout",
       "text": [
        "\n",
        "step 1700: [  1.23991677e+09  -1.08729464e+00   5.94038159e-01  -8.17548346e-01\n",
        "  -5.00939322e-02]"
       ]
      },
      {
       "output_type": "stream",
       "stream": "stdout",
       "text": [
        "\n",
        "step 1750: [  1.23991677e+09  -2.98235492e+00   6.12708866e-01  -1.73123884e-01\n",
        "   2.24714417e-01]"
       ]
      },
      {
       "output_type": "stream",
       "stream": "stdout",
       "text": [
        "\n",
        "step 1800: [  1.23991677e+09  -4.94003923e-01   6.12708866e-01  -2.37993307e+00\n",
        "  -1.38482487e+00]"
       ]
      },
      {
       "output_type": "stream",
       "stream": "stdout",
       "text": [
        "\n",
        "step 1850: [  1.23991677e+09  -4.28082846e-01   7.94366013e-01  -4.26758375e+00\n",
        "  -3.77403774e-01]"
       ]
      },
      {
       "output_type": "stream",
       "stream": "stdout",
       "text": [
        "\n",
        "step 1900: [  1.23991677e+09  -5.82054871e-01   7.70936199e-01  -2.52491098e+00\n",
        "  -3.71613789e-01]"
       ]
      },
      {
       "output_type": "stream",
       "stream": "stdout",
       "text": [
        "\n",
        "step 1950: [  1.23991677e+09  -2.48782770e-01   7.70936199e-01  -5.51974237e+00\n",
        "  -1.51037597e+00]"
       ]
      },
      {
       "output_type": "stream",
       "stream": "stdout",
       "text": [
        "\n",
        "plotting uatemplate"
       ]
      },
      {
       "output_type": "stream",
       "stream": "stdout",
       "text": [
        " -1 as color (0.0, 0.59803921568627449, 1.0, 1.0)\n",
        "reading station detections... \n",
        "step 0: [  1.23991591e+09  -2.75931101e+00   1.86071679e-01  -3.50768593e+00\n",
        "  -2.13942302e-01]\n",
        "step 50: [  1.23991591e+09  -2.56516879e+00   2.54453668e-01  -2.22735200e+00\n",
        "  -2.67487282e-01]"
       ]
      },
      {
       "output_type": "stream",
       "stream": "stdout",
       "text": [
        "\n",
        "step 100: [  1.23991591e+09  -2.50377356e+00   2.57110071e-01  -3.66068574e+00\n",
        "  -2.44816867e-01]"
       ]
      },
      {
       "output_type": "stream",
       "stream": "stdout",
       "text": [
        "\n",
        "step 150: [  1.23991591e+09  -2.82057500e+00   2.80352924e-01  -3.17008528e+00\n",
        "   2.67092743e-02]"
       ]
      },
      {
       "output_type": "stream",
       "stream": "stdout",
       "text": [
        "\n",
        "step 200: [  1.23991591e+09  -3.39462956e+00   2.80352924e-01  -1.79133053e+00\n",
        "   2.80565059e-02]"
       ]
      },
      {
       "output_type": "stream",
       "stream": "stdout",
       "text": [
        "\n",
        "step 250: [  1.23991591e+09  -2.74753095e+00   2.80352924e-01  -2.18609688e+00\n",
        "  -2.60602556e-01]"
       ]
      },
      {
       "output_type": "stream",
       "stream": "stdout",
       "text": [
        "\n",
        "step 300: [  1.23991591e+09  -2.75960152e+00   4.92384629e-01  -1.27810916e+00\n",
        "  -9.04777052e-02]"
       ]
      },
      {
       "output_type": "stream",
       "stream": "stdout",
       "text": [
        "\n",
        "step 350: [  1.23991591e+09  -2.90618814e+00   8.86223243e-02  -4.16207357e+00\n",
        "  -1.53652060e-02]"
       ]
      },
      {
       "output_type": "stream",
       "stream": "stdout",
       "text": [
        "\n",
        "step 400: [  1.23991591e+09  -2.71374729e+00   3.46062099e-01  -3.47451322e+00\n",
        "  -8.59543714e-01]"
       ]
      },
      {
       "output_type": "stream",
       "stream": "stdout",
       "text": [
        "\n",
        "step 450: [  1.23991591e+09  -3.67825114e+00   4.46510747e-01  -1.43590733e+00\n",
        "  -1.34037136e+00]"
       ]
      },
      {
       "output_type": "stream",
       "stream": "stdout",
       "text": [
        "\n",
        "step 500: [  1.23991591e+09  -2.84976674e+00   4.33253883e-01  -1.40924583e+00\n",
        "  -1.61028926e+00]"
       ]
      },
      {
       "output_type": "stream",
       "stream": "stdout",
       "text": [
        "\n",
        "step 550: [  1.23991591e+09  -2.68887913e+00   2.63748374e-01  -2.65519272e+00\n",
        "  -1.65411997e+00]"
       ]
      },
      {
       "output_type": "stream",
       "stream": "stdout",
       "text": [
        "\n",
        "step 600: [  1.23991591e+09  -2.81987791e+00   1.11067924e-01  -2.69990427e+00\n",
        "  -7.02602071e-01]"
       ]
      },
      {
       "output_type": "stream",
       "stream": "stdout",
       "text": [
        "\n",
        "step 650: [  1.23991591e+09  -2.67642918e+00   1.35186802e-01  -2.07157098e+00\n",
        "  -2.55012609e-01]"
       ]
      },
      {
       "output_type": "stream",
       "stream": "stdout",
       "text": [
        "\n",
        "step 700: [  1.23991591e+09  -2.67675387e+00   3.35149290e-01  -2.45604079e+00\n",
        "   2.12719515e-01]"
       ]
      },
      {
       "output_type": "stream",
       "stream": "stdout",
       "text": [
        "\n",
        "step 750: [  1.23991591e+09  -2.89557612e+00   1.74451498e-01  -2.59416821e+00\n",
        "   1.08586098e-02]"
       ]
      },
      {
       "output_type": "stream",
       "stream": "stdout",
       "text": [
        "\n",
        "step 800: [  1.23991591e+09  -2.70977091e+00   1.27074532e-01  -3.11177164e+00\n",
        "  -1.71221998e-02]"
       ]
      },
      {
       "output_type": "stream",
       "stream": "stdout",
       "text": [
        "\n",
        "step 850: [  1.23991591e+09  -2.95437357e+00   2.32402368e-01  -2.75048998e+00\n",
        "   6.94270130e-02]"
       ]
      },
      {
       "output_type": "stream",
       "stream": "stdout",
       "text": [
        "\n",
        "step 900: [  1.23991591e+09  -2.47293500e+00   2.32402368e-01  -3.35717777e+00\n",
        "   1.35119427e-02]"
       ]
      },
      {
       "output_type": "stream",
       "stream": "stdout",
       "text": [
        "\n",
        "step 950: [  1.23991591e+09  -2.53702292e+00   3.41809746e-01  -2.15361962e+00\n",
        "   3.83683689e-01]"
       ]
      },
      {
       "output_type": "stream",
       "stream": "stdout",
       "text": [
        "\n",
        "step 1000: [  1.23991591e+09  -2.27174881e+00   3.46021400e-01  -2.94412420e+00\n",
        "   7.57407971e-02]"
       ]
      },
      {
       "output_type": "stream",
       "stream": "stdout",
       "text": [
        "\n",
        "step 1050: [  1.23991591e+09  -3.03030172e+00   3.46021400e-01  -1.32182217e+00\n",
        "  -3.52434584e-01]"
       ]
      },
      {
       "output_type": "stream",
       "stream": "stdout",
       "text": [
        "\n",
        "step 1100: [  1.23991591e+09  -2.42361754e+00   2.87122369e-01  -3.53006318e+00\n",
        "  -1.02853450e+00]"
       ]
      },
      {
       "output_type": "stream",
       "stream": "stdout",
       "text": [
        "\n",
        "step 1150: [  1.23991591e+09  -2.26196892e+00   2.18329857e-01  -4.15650209e+00\n",
        "   7.06483604e-03]"
       ]
      },
      {
       "output_type": "stream",
       "stream": "stdout",
       "text": [
        "\n",
        "step 1200: [  1.23991591e+09  -2.91229165e+00   3.22736186e-01  -2.37050870e+00\n",
        "  -1.74977797e-01]"
       ]
      },
      {
       "output_type": "stream",
       "stream": "stdout",
       "text": [
        "\n",
        "step 1250: [  1.23991591e+09  -2.87440424e+00   3.10825675e-01  -2.60265927e+00\n",
        "   1.97421915e-01]"
       ]
      },
      {
       "output_type": "stream",
       "stream": "stdout",
       "text": [
        "\n",
        "step 1300: [  1.23991591e+09  -2.51286419e+00   3.10825675e-01  -2.86124041e+00\n",
        "   9.48638382e-02]"
       ]
      },
      {
       "output_type": "stream",
       "stream": "stdout",
       "text": [
        "\n",
        "step 1350: [  1.23991591e+09  -2.65225840e+00   1.66710448e-01  -5.75226552e+00\n",
        "   2.35738106e-01]"
       ]
      },
      {
       "output_type": "stream",
       "stream": "stdout",
       "text": [
        "\n",
        "step 1400: [  1.23991591e+09  -2.42924061e+00   1.66710448e-01  -3.08029779e+00\n",
        "   5.70046921e-02]"
       ]
      },
      {
       "output_type": "stream",
       "stream": "stdout",
       "text": [
        "\n",
        "step 1450: [  1.23991591e+09  -2.58977278e+00   1.66710448e-01  -2.16398303e+00\n",
        "  -3.64524954e-01]"
       ]
      },
      {
       "output_type": "stream",
       "stream": "stdout",
       "text": [
        "\n",
        "step 1500: [  1.23991591e+09  -2.95572044e+00   1.66710448e-01  -1.89044244e+00\n",
        "   5.76655205e-02]"
       ]
      },
      {
       "output_type": "stream",
       "stream": "stdout",
       "text": [
        "\n",
        "step 1550: [  1.23991591e+09  -2.84684948e+00   1.66710448e-01  -1.93858760e+00\n",
        "   9.59630026e-03]"
       ]
      },
      {
       "output_type": "stream",
       "stream": "stdout",
       "text": [
        "\n",
        "step 1600: [  1.23991591e+09  -2.54508918e+00   1.66710448e-01  -5.11127996e+00\n",
        "   1.90390475e-01]"
       ]
      },
      {
       "output_type": "stream",
       "stream": "stdout",
       "text": [
        "\n",
        "step 1650: [  1.23991591e+09  -2.61873492e+00   2.25949487e-01  -3.07685176e+00\n",
        "   6.47362584e-02]"
       ]
      },
      {
       "output_type": "stream",
       "stream": "stdout",
       "text": [
        "\n",
        "step 1700: [  1.23991591e+09  -2.46238428e+00   2.25949487e-01  -2.67502303e+00\n",
        "   9.96784025e-02]"
       ]
      },
      {
       "output_type": "stream",
       "stream": "stdout",
       "text": [
        "\n",
        "step 1750: [  1.23991591e+09  -2.32995042e+00   2.17358872e-01  -3.22419155e+00\n",
        "   3.51104506e-01]"
       ]
      },
      {
       "output_type": "stream",
       "stream": "stdout",
       "text": [
        "\n",
        "step 1800: [  1.23991591e+09  -2.64327803e+00   3.62080350e-01  -2.78395809e+00\n",
        "  -8.66572685e-01]"
       ]
      },
      {
       "output_type": "stream",
       "stream": "stdout",
       "text": [
        "\n",
        "step 1850: [  1.23991591e+09  -2.89073721e+00   2.23521429e-01  -4.46668832e+00\n",
        "  -6.05098621e-01]"
       ]
      },
      {
       "output_type": "stream",
       "stream": "stdout",
       "text": [
        "\n",
        "step 1900: [  1.23991591e+09  -2.67674069e+00   2.23521429e-01  -2.35752663e+00\n",
        "  -3.99254508e-01]"
       ]
      },
      {
       "output_type": "stream",
       "stream": "stdout",
       "text": [
        "\n",
        "step 1950: [  1.23991591e+09  -2.39305890e+00   3.53072954e-01  -3.58209005e+00\n",
        "  -1.82173333e-01]"
       ]
      },
      {
       "output_type": "stream",
       "stream": "stdout",
       "text": [
        "\n",
        "plotting uatemplate"
       ]
      },
      {
       "output_type": "stream",
       "stream": "stdout",
       "text": [
        " -1 as color (0.0, 0.0, 0.90998217468805698, 1.0)\n",
        "reading station detections... \n",
        "step 0: [  1.23991667e+09  -3.21507522e+00  -3.39168082e-03  -3.30162744e+00\n",
        "   8.63824537e-01]\n",
        "step 50: [  1.23991667e+09  -2.95760710e+00   2.75842173e-01  -2.45707484e+00\n",
        "   1.11396521e+00]"
       ]
      },
      {
       "output_type": "stream",
       "stream": "stdout",
       "text": [
        "\n",
        "step 100: [  1.23991667e+09  -2.89864378e+00   2.23888239e-01  -1.46867270e+00\n",
        "   1.16716408e+00]"
       ]
      },
      {
       "output_type": "stream",
       "stream": "stdout",
       "text": [
        "\n",
        "step 150: [  1.23991667e+09  -3.63006404e+00   2.84046057e-01  -1.28523320e+00\n",
        "   1.04022905e+00]"
       ]
      },
      {
       "output_type": "stream",
       "stream": "stdout",
       "text": [
        "\n",
        "step 200: [  1.23991667e+09  -2.14645598e+00   2.84046057e-01  -3.10814068e+00\n",
        "   1.07545727e+00]"
       ]
      },
      {
       "output_type": "stream",
       "stream": "stdout",
       "text": [
        "\n",
        "step 250: [  1.23991667e+09  -2.85965385e+00   1.59848397e-01  -2.36057288e+00\n",
        "   9.26246632e-01]"
       ]
      },
      {
       "output_type": "stream",
       "stream": "stdout",
       "text": [
        "\n",
        "step 300: [  1.23991667e+09  -3.08356429e+00   1.59848397e-01  -1.45968117e+00\n",
        "   1.20933676e+00]"
       ]
      },
      {
       "output_type": "stream",
       "stream": "stdout",
       "text": [
        "\n",
        "step 350: [  1.23991667e+09  -3.56497210e+00   4.00673048e-01  -7.34485191e-01\n",
        "   1.33984166e+00]"
       ]
      },
      {
       "output_type": "stream",
       "stream": "stdout",
       "text": [
        "\n",
        "step 400: [  1.23991667e+09  -3.36188936e+00   2.64785200e-01  -1.58981673e+00\n",
        "   1.34810200e+00]"
       ]
      },
      {
       "output_type": "stream",
       "stream": "stdout",
       "text": [
        "\n",
        "step 450: [  1.23991667e+09  -3.37658345e+00   4.00627557e-01  -9.43523766e-01\n",
        "   1.34686363e+00]"
       ]
      },
      {
       "output_type": "stream",
       "stream": "stdout",
       "text": [
        "\n",
        "step 500: [  1.23991667e+09  -4.22536936e+00   3.81968439e-01  -1.14396889e+00\n",
        "   1.34686363e+00]"
       ]
      },
      {
       "output_type": "stream",
       "stream": "stdout",
       "text": [
        "\n",
        "step 550: [  1.23991667e+09  -2.30605493e+00   2.41744302e-01  -2.07486314e+00\n",
        "   1.28219406e+00]"
       ]
      },
      {
       "output_type": "stream",
       "stream": "stdout",
       "text": [
        "\n",
        "step 600: [  1.23991667e+09  -2.51316776e+00   2.41744302e-01  -2.76260621e+00\n",
        "   1.15217898e+00]"
       ]
      },
      {
       "output_type": "stream",
       "stream": "stdout",
       "text": [
        "\n",
        "step 650: [  1.23991667e+09  -2.91430297e+00   3.61863404e-01  -2.42680492e+00\n",
        "   1.28401042e+00]"
       ]
      },
      {
       "output_type": "stream",
       "stream": "stdout",
       "text": [
        "\n",
        "step 700: [  1.23991667e+09  -2.80360013e+00   4.24752491e-01  -1.54712363e+00\n",
        "   1.37411129e+00]"
       ]
      },
      {
       "output_type": "stream",
       "stream": "stdout",
       "text": [
        "\n",
        "step 750: [  1.23991667e+09  -3.92447975e+00  -3.73784389e-03  -1.22880139e+00\n",
        "   1.05992211e+00]"
       ]
      },
      {
       "output_type": "stream",
       "stream": "stdout",
       "text": [
        "\n",
        "step 800: [  1.23991667e+09  -2.65098790e+00   4.18606694e-01  -2.15222840e+00\n",
        "   1.28570045e+00]"
       ]
      },
      {
       "output_type": "stream",
       "stream": "stdout",
       "text": [
        "\n",
        "step 850: [  1.23991667e+09  -2.81103309e+00   4.18606694e-01  -2.41005113e+00\n",
        "   1.29653562e+00]"
       ]
      },
      {
       "output_type": "stream",
       "stream": "stdout",
       "text": [
        "\n",
        "step 900: [  1.23991667e+09  -2.65447657e+00   2.95692637e-01  -2.09915750e+00\n",
        "   1.25287927e+00]"
       ]
      },
      {
       "output_type": "stream",
       "stream": "stdout",
       "text": [
        "\n",
        "step 950: [  1.23991667e+09  -2.36303911e+00   2.95692637e-01  -2.88829978e+00\n",
        "   1.08474588e+00]"
       ]
      },
      {
       "output_type": "stream",
       "stream": "stdout",
       "text": [
        "\n",
        "step 1000: [  1.23991667e+09  -3.83922624e+00  -6.89436537e-02  -2.02223373e+00\n",
        "   1.15211877e+00]"
       ]
      },
      {
       "output_type": "stream",
       "stream": "stdout",
       "text": [
        "\n",
        "step 1050: [  1.23991667e+09  -3.16896709e+00  -1.53403279e-02  -1.84405472e+00\n",
        "   1.05381281e+00]"
       ]
      },
      {
       "output_type": "stream",
       "stream": "stdout",
       "text": [
        "\n",
        "step 1100: [  1.23991667e+09  -2.67268248e+00  -1.53403279e-02  -2.98024346e+00\n",
        "   9.99746907e-01]"
       ]
      },
      {
       "output_type": "stream",
       "stream": "stdout",
       "text": [
        "\n",
        "step 1150: [  1.23991667e+09  -2.94642453e+00   7.89482374e-02  -2.65579557e+00\n",
        "   9.99746907e-01]"
       ]
      },
      {
       "output_type": "stream",
       "stream": "stdout",
       "text": [
        "\n",
        "step 1200: [  1.23991667e+09  -2.94417678e+00  -7.95313396e-02  -2.85572093e+00\n",
        "   1.24302706e+00]"
       ]
      },
      {
       "output_type": "stream",
       "stream": "stdout",
       "text": [
        "\n",
        "step 1250: [  1.23991667e+09  -3.26281048e+00   2.91833605e-01  -1.80239749e+00\n",
        "   1.21015945e+00]"
       ]
      },
      {
       "output_type": "stream",
       "stream": "stdout",
       "text": [
        "\n",
        "step 1300: [  1.23991667e+09  -3.17500947e+00   1.26559091e-01  -1.82900266e+00\n",
        "   1.23167047e+00]"
       ]
      },
      {
       "output_type": "stream",
       "stream": "stdout",
       "text": [
        "\n",
        "step 1350: [  1.23991667e+09  -2.45562031e+00   1.26559091e-01  -2.27505011e+00\n",
        "   1.26755317e+00]"
       ]
      },
      {
       "output_type": "stream",
       "stream": "stdout",
       "text": [
        "\n",
        "step 1400: [  1.23991667e+09  -2.45921364e+00   8.10161980e-02  -2.80761231e+00\n",
        "   1.44851708e+00]"
       ]
      },
      {
       "output_type": "stream",
       "stream": "stdout",
       "text": [
        "\n",
        "step 1450: [  1.23991667e+09  -3.27973826e+00   3.13470516e-01  -1.23136060e+00\n",
        "   1.23616354e+00]"
       ]
      },
      {
       "output_type": "stream",
       "stream": "stdout",
       "text": [
        "\n",
        "step 1500: [  1.23991667e+09  -3.60261264e+00   8.89665330e-02  -1.49510210e+00\n",
        "   1.20093037e+00]"
       ]
      },
      {
       "output_type": "stream",
       "stream": "stdout",
       "text": [
        "\n",
        "step 1550: [  1.23991667e+09  -2.52674090e+00   1.41571236e-01  -2.93947892e+00\n",
        "   9.62349990e-01]"
       ]
      },
      {
       "output_type": "stream",
       "stream": "stdout",
       "text": [
        "\n",
        "step 1600: [  1.23991667e+09  -3.21335115e+00   4.54807693e-01  -1.61123257e+00\n",
        "   1.11475666e+00]"
       ]
      },
      {
       "output_type": "stream",
       "stream": "stdout",
       "text": [
        "\n",
        "step 1650: [  1.23991667e+09  -3.41220538e+00   3.22045146e-01  -1.19862821e+00\n",
        "   1.46182253e+00]"
       ]
      },
      {
       "output_type": "stream",
       "stream": "stdout",
       "text": [
        "\n",
        "step 1700: [  1.23991667e+09  -3.74464717e+00   1.27889722e-01  -1.00003107e+00\n",
        "   1.33055206e+00]"
       ]
      },
      {
       "output_type": "stream",
       "stream": "stdout",
       "text": [
        "\n",
        "step 1750: [  1.23991667e+09  -3.04054766e+00   1.27889722e-01  -2.91091383e+00\n",
        "   1.09095887e+00]"
       ]
      },
      {
       "output_type": "stream",
       "stream": "stdout",
       "text": [
        "\n",
        "step 1800: [  1.23991667e+09  -2.72723973e+00   1.27889722e-01  -3.04318039e+00\n",
        "   1.03312789e+00]"
       ]
      },
      {
       "output_type": "stream",
       "stream": "stdout",
       "text": [
        "\n",
        "step 1850: [  1.23991667e+09  -3.02447635e+00   1.27889722e-01  -3.27866727e+00\n",
        "   1.14236126e+00]"
       ]
      },
      {
       "output_type": "stream",
       "stream": "stdout",
       "text": [
        "\n",
        "step 1900: [  1.23991667e+09  -3.13711954e+00   2.55215769e-01  -1.69462405e+00\n",
        "   1.20991777e+00]"
       ]
      },
      {
       "output_type": "stream",
       "stream": "stdout",
       "text": [
        "\n",
        "step 1950: [  1.23991667e+09  -2.77959423e+00   2.55215769e-01  -4.61751479e+00\n",
        "   1.29529797e+00]"
       ]
      },
      {
       "output_type": "stream",
       "stream": "stdout",
       "text": [
        "\n",
        "plotting uatemplate"
       ]
      },
      {
       "output_type": "stream",
       "stream": "stdout",
       "text": [
        " -1 as color (0.22454142947501579, 1.0, 0.74320050600885512, 1.0)\n",
        "reading station detections... \n"
       ]
      },
      {
       "metadata": {},
       "output_type": "display_data",
       "png": "[encoded data removed]",
       "text": [
        "<matplotlib.figure.Figure at 0x35c5bd0>"
       ]
      },
      {
       "metadata": {},
       "output_type": "display_data",
       "png": "[encoded data removed]",
       "text": [
        "<matplotlib.figure.Figure at 0x4c94f90>"
       ]
      },
      {
       "metadata": {},
       "output_type": "display_data",
       "png": "[encoded data removed]",
       "text": [
        "<matplotlib.figure.Figure at 0x4dd42d0>"
       ]
      },
      {
       "metadata": {},
       "output_type": "display_data",
       "png": "[encoded data removed]",
       "text": [
        "<matplotlib.figure.Figure at 0x4df6a90>"
       ]
      },
      {
       "metadata": {},
       "output_type": "display_data",
       "png": "[encoded data removed]",
       "text": [
        "<matplotlib.figure.Figure at 0x516bfd0>"
       ]
      },
      {
       "metadata": {},
       "output_type": "display_data",
       "png": "[encoded data removed]",
       "text": [
        "<matplotlib.figure.Figure at 0x53c36d0>"
       ]
      },
      {
       "metadata": {},
       "output_type": "display_data",
       "png": "[encoded data removed]",
       "text": [
        "<matplotlib.figure.Figure at 0x53a5790>"
       ]
      },
      {
       "metadata": {},
       "output_type": "display_data",
       "png": "[encoded data removed]",
       "text": [
        "<matplotlib.figure.Figure at 0x4d2ac10>"
       ]
      },
      {
       "metadata": {},
       "output_type": "display_data",
       "png": "[encoded data removed]",
       "text": [
        "<matplotlib.figure.Figure at 0x578f850>"
       ]
      },
      {
       "metadata": {},
       "output_type": "display_data",
       "png": "[encoded data removed]",
       "text": [
        "<matplotlib.figure.Figure at 0x57899d0>"
       ]
      },
      {
       "metadata": {},
       "output_type": "display_data",
       "png": "[encoded data removed]",
       "text": [
        "<matplotlib.figure.Figure at 0x58f1490>"
       ]
      }
     ],
     "prompt_number": 3
    },
    {
     "cell_type": "code",
     "collapsed": false,
     "input": [
      "print sp\n",
      "vs = np.array(vs)"
     ],
     "language": "python",
     "metadata": {},
     "outputs": [
      {
       "output_type": "stream",
       "stream": "stdout",
       "text": [
        "['arrival_time', 'coda_decay', 'coda_height', 'peak_decay', 'peak_offset']\n"
       ]
      }
     ],
     "prompt_number": 4
    },
    {
     "cell_type": "code",
     "collapsed": false,
     "input": [
      "CSA = np.array(Cs)\n",
      "median_C = np.median(CSA, axis=0)\n",
      "print median_C.__repr__()"
     ],
     "language": "python",
     "metadata": {},
     "outputs": [
      {
       "output_type": "stream",
       "stream": "stdout",
       "text": [
        "array([[  9.39927067e-02,  -4.62885678e-03,  -4.95432261e-03,\n",
        "          2.74061060e-04,  -1.46169921e-01],\n",
        "       [ -4.62885678e-03,   1.59957445e-01,   4.16393590e-03,\n",
        "         -1.43550132e-01,   6.98180075e-03],\n",
        "       [ -4.95432261e-03,   4.16393590e-03,   2.03647647e-02,\n",
        "          2.16402363e-02,  -3.83056982e-03],\n",
        "       [  2.74061060e-04,  -1.43550132e-01,   2.16402363e-02,\n",
        "          8.13223033e-01,   3.29480902e-04],\n",
        "       [ -1.46169921e-01,   6.98180075e-03,  -3.83056982e-03,\n",
        "          3.29480902e-04,   2.50134547e-01]])\n"
       ]
      }
     ],
     "prompt_number": 26
    },
    {
     "cell_type": "code",
     "collapsed": false,
     "input": [
      "# check positive definiteness\n",
      "np.linalg.cholesky(median_C)"
     ],
     "language": "python",
     "metadata": {},
     "outputs": [
      {
       "metadata": {},
       "output_type": "pyout",
       "prompt_number": 22,
       "text": [
        "array([[  3.06582300e-01,   0.00000000e+00,   0.00000000e+00,\n",
        "          0.00000000e+00,   0.00000000e+00],\n",
        "       [ -1.50982519e-02,   3.99661717e-01,   0.00000000e+00,\n",
        "          0.00000000e+00,   0.00000000e+00],\n",
        "       [ -1.61598455e-02,   9.80817107e-03,   1.41447601e-01,\n",
        "          0.00000000e+00,   0.00000000e+00],\n",
        "       [  8.93923297e-04,  -3.59145321e-01,   1.77996944e-01,\n",
        "          8.07808121e-01,   0.00000000e+00],\n",
        "       [ -4.76772211e-01,  -5.42023847e-04,  -8.15130037e-02,\n",
        "          1.86555180e-02,   1.25817779e-01]])"
       ]
      }
     ],
     "prompt_number": 22
    },
    {
     "cell_type": "code",
     "collapsed": false,
     "input": [
      "do_plot(wn)"
     ],
     "language": "python",
     "metadata": {},
     "outputs": [
      {
       "output_type": "stream",
       "stream": "stdout",
       "text": [
        "plotting uatemplate -1 as color (0.0, 0.0, 0.78520499108734398, 1.0)\n",
        "reading station detections... \n"
       ]
      },
      {
       "metadata": {},
       "output_type": "display_data",
       "png": "[encoded data removed]",
       "text": [
        "<matplotlib.figure.Figure at 0x3e26e50>"
       ]
      }
     ],
     "prompt_number": 11
    },
    {
     "cell_type": "code",
     "collapsed": false,
     "input": [
      "print C"
     ],
     "language": "python",
     "metadata": {},
     "outputs": [
      {
       "output_type": "stream",
       "stream": "stdout",
       "text": [
        "[[ 0.32633476 -0.01031442  0.00917371  0.06194842 -0.24591542]\n",
        " [-0.01031442  0.00623086  0.00107744 -0.01522283  0.01320194]\n",
        " [ 0.00917371  0.00107744  0.00267677  0.0139668  -0.00588355]\n",
        " [ 0.06194842 -0.01522283  0.0139668   0.36664432 -0.03949305]\n",
        " [-0.24591542  0.01320194 -0.00588355 -0.03949305  0.27880864]]\n"
       ]
      }
     ],
     "prompt_number": 12
    },
    {
     "cell_type": "code",
     "collapsed": false,
     "input": [
      "print np.corrcoef(vals.T)"
     ],
     "language": "python",
     "metadata": {},
     "outputs": [
      {
       "output_type": "stream",
       "stream": "stdout",
       "text": [
        "[[ 1.         -0.22873834  0.31038992  0.17909196 -0.8152691 ]\n",
        " [-0.22873834  1.          0.26382217 -0.31849238  0.31674566]\n",
        " [ 0.31038992  0.26382217  1.          0.44582918 -0.21536776]\n",
        " [ 0.17909196 -0.31849238  0.44582918  1.         -0.12352222]\n",
        " [-0.8152691   0.31674566 -0.21536776 -0.12352222  1.        ]]\n"
       ]
      }
     ],
     "prompt_number": 14
    },
    {
     "cell_type": "code",
     "collapsed": false,
     "input": [],
     "language": "python",
     "metadata": {},
     "outputs": []
    }
   ],
   "metadata": {}
  }
 ]
}