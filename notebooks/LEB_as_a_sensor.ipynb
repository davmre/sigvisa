{
 "cells": [
  {
   "cell_type": "code",
   "execution_count": 1,
   "metadata": {
    "collapsed": false
   },
   "outputs": [],
   "source": [
    "from sigvisa.graph.sigvisa_graph import SigvisaGraph\n",
    "from sigvisa.signals.common import Waveform\n",
    "\n",
    "\n",
    "\n",
    "\n",
    "\n",
    "from sigvisa.source.event import get_event\n",
    "\n",
    "from sigvisa.infer.run_mcmc import run_open_world_MH\n",
    "\n",
    "from sigvisa.infer.mcmc_logger import MCMCLogger"
   ]
  },
  {
   "cell_type": "code",
   "execution_count": 2,
   "metadata": {
    "collapsed": false
   },
   "outputs": [
    {
     "data": {
      "text/plain": [
       "'def build_relocation_sg_leb(evids, stas):\\n    sg = SigvisaGraph(template_model_type=\"dummyPrior\", template_shape=\"lin_polyexp\",\\n                      wiggle_model_type=\"dummy\", wiggle_family=\"dummy\",\\n                      phases=\"leb\", nm_type = \"ar\")\\n    \\n    for evid in evids:\\n        for sta in stas:\\n            wave = load_event_station_chan(evid, sta, \"auto\", exclude_other_evs=True)\\n            sg.add_wave(wave)\\n    for evid in evids:\\n        ev = get_event(evid)\\n        sg.add_event(ev, observe=True)\\n    return sg\\n\\n    sg = SigvisaGraph(template_model_type=\"dummyPrior\", template_shape=\"lin_polyexp\",\\n                      wiggle_model_type=\"dummy\", wiggle_family=\"dummy\",\\n                      phases=\"leb\", nm_type = \"ar\")'"
      ]
     },
     "execution_count": 2,
     "metadata": {},
     "output_type": "execute_result"
    }
   ],
   "source": [
    "\"\"\"\n",
    "sg = SigvisaGraph(template_model_type=\"dummyPrior\", template_shape=\"lin_polyexp\",\n",
    "                      wiggle_model_type=\"dummy\", wiggle_family=\"dummy\",\n",
    "                      phases=\"leb\", nm_type = \"ar\")\n",
    "evid = 5335822\n",
    "wave = Waveform(data=np.zeros(20), stime=1240241314.33, srate=5.0, sta=\"MKAR\", chan=\"BHZ\", filter_str=\"freq_0.8_4.5\")\n",
    "wn = sg.add_wave(wave)\n",
    "ev = get_event(evid=evid)\n",
    "evnodes = sg.add_event(ev, observed=True)\"\"\"\n",
    "\"\"\"logger = MCMCLogger(write_template_vals=True, dump_interval=100)\n",
    "run_open_world_MH(sg, steps=5000,\n",
    "                  enable_template_moves=True,\n",
    "                  enable_event_moves=True,\n",
    "                  logger=logger,\n",
    "                  enable_event_openworld=False,\n",
    "                  enable_template_openworld=False)\"\"\"\n",
    "\"\"\"def build_relocation_sg_leb(evids, stas):\n",
    "    sg = SigvisaGraph(template_model_type=\"dummyPrior\", template_shape=\"lin_polyexp\",\n",
    "                      wiggle_model_type=\"dummy\", wiggle_family=\"dummy\",\n",
    "                      phases=\"leb\", nm_type = \"ar\")\n",
    "    \n",
    "    for evid in evids:\n",
    "        for sta in stas:\n",
    "            wave = load_event_station_chan(evid, sta, \"auto\", exclude_other_evs=True)\n",
    "            sg.add_wave(wave)\n",
    "    for evid in evids:\n",
    "        ev = get_event(evid)\n",
    "        sg.add_event(ev, observe=True)\n",
    "    return sg\n",
    "\n",
    "    sg = SigvisaGraph(template_model_type=\"dummyPrior\", template_shape=\"lin_polyexp\",\n",
    "                      wiggle_model_type=\"dummy\", wiggle_family=\"dummy\",\n",
    "                      phases=\"leb\", nm_type = \"ar\")\"\"\""
   ]
  },
  {
   "cell_type": "code",
   "execution_count": 3,
   "metadata": {
    "collapsed": false
   },
   "outputs": [],
   "source": [
    "\n",
    "from sigvisa.synthetic.doublets import *\n",
    "\n",
    "def sample_events(basedir, seed=0):\n",
    "    n_evs = 10\n",
    "    lons = [129, 130]\n",
    "    lats = [-3.5, -4.5]\n",
    "    times = [1238889600, 1245456000]\n",
    "    mbs = [4.0, 5.0]\n",
    "    sw = SampledWorld(seed=seed)\n",
    "    sw.sample_region_with_doublet(n_evs, lons, lats, times, mbs)\n",
    "    sw.stas = [\"MK31\", \"AS12\", \"CM16\", \"FITZ\", \"WR1\"]\n",
    "    gpcov = GPCov([0.7,], [ 40.0, 5.0],\n",
    "                  dfn_str=\"lld\",\n",
    "                  wfn_str=\"compact2\")\n",
    "    param_means = build_param_means(sw.stas)\n",
    "    sw.set_basis(wavelet_family=\"db4_2.0_3_30\", iid_repeatable_var=0.1,\n",
    "                  iid_nonrepeatable_var=0.4, srate=5.0)\n",
    "    sw.joint_sample_arrival_params(gpcov, param_means)\n",
    "    sw.sample_signals(\"freq_0.8_4.5\")\n",
    "\n",
    "    wave_dir = os.path.join(basedir, \"sampled_%d_spreadtime\" % seed)\n",
    "    sw.serialize(wave_dir)\n",
    "    #sw.train_gp_models_true_data()\n",
    "    #sw.save_gps(wave_dir, run_name=\"synth_truedata\")\n",
    "    return sw\n",
    "\n",
    "\n",
    "import os\n",
    "basedir = os.path.join(os.getenv(\"SIGVISA_HOME\"), \"experiments\", \"synth_wavematch\")\n",
    "#sw = sample_events(basedir)\n",
    "\n",
    "wave_dir = os.path.join(basedir, \"sampled_%d_spreadtime\" % 0)\n",
    "sw = load_sampled_world(wave_dir)\n",
    "dummyPrior = dict([(param, Gaussian(sw.param_means[\"MK31\"][param], std=np.sqrt(sw.gpcov.wfn_params[0]))) for param in sw.param_means[\"MK31\"].keys()\n",
    "])"
   ]
  },
  {
   "cell_type": "code",
   "execution_count": null,
   "metadata": {
    "collapsed": false
   },
   "outputs": [],
   "source": []
  },
  {
   "cell_type": "code",
   "execution_count": 4,
   "metadata": {
    "collapsed": false
   },
   "outputs": [],
   "source": [
    "import copy\n",
    "\n",
    "def corrupt_ev(ev, stddevs):\n",
    "    ev = copy.copy(ev)\n",
    "    ev.lon = ev.lon + np.random.randn() * stddevs['lon']\n",
    "    ev.lat = ev.lat + np.random.randn() * stddevs['lat']\n",
    "    ev.depth = ev.depth + np.random.randn() * stddevs['depth']\n",
    "    ev.time = ev.time + np.random.randn() * stddevs['time']\n",
    "    ev.mb = ev.mb + np.random.randn() * stddevs['mb']\n",
    "    return ev\n",
    "\n",
    "def set_true_templates(sg, sw):\n",
    "    for sta in sw.tm_params.keys():\n",
    "        for i in range(len(sw.evs)):\n",
    "            tmnodes = sg.get_template_nodes(eid=i+1, sta=sta, phase=sw.phase, chan=sw.chans[sta], band=sw.band)\n",
    "            for param in sw.tm_params[sta]:\n",
    "                k, n = tmnodes[param]\n",
    "                n.set_value(sw.tm_params[sta][param][i])\n",
    "\n",
    "sg = SigvisaGraph(template_model_type=\"dummyPrior\", template_shape=\"lin_polyexp\",\n",
    "                  wiggle_model_type=\"gp_joint\", wiggle_family=\"db4_2.0_3_30\",\n",
    "                  phases=[\"P\",], nm_type = \"ar\", runids=(-1,), joint_wiggle_prior=(0.01, sw.gpcov))\n",
    "\n",
    "for i in sw.waves.keys():\n",
    "    for sta in sw.waves[i].keys():\n",
    "        wn = sg.add_wave(sw.waves[i][sta])\n",
    "        basis, iid_std, target_coef = wn.wavelet_basis\n",
    "        wn.wavelet_basis = (basis, sw.scaled, target_coef)\n",
    "        \n",
    "stddevs = {\"lon\": 0.2, \"lat\": 0.2, \"depth\": 20.0, \"time\": 3.0, \"mb\": 0.3}\n",
    "\n",
    "for ev in sw.evs:\n",
    "    sg.add_event(ev, observed=ev, stddevs=stddevs)\n",
    "    #sg.add_event(ev, observed=corrupt_ev(ev, stddevs), stddevs=stddevs)\n",
    "    \n",
    "set_true_templates(sg, sw)"
   ]
  },
  {
   "cell_type": "code",
   "execution_count": null,
   "metadata": {
    "collapsed": false
   },
   "outputs": [],
   "source": []
  },
  {
   "cell_type": "code",
   "execution_count": null,
   "metadata": {
    "collapsed": false
   },
   "outputs": [],
   "source": [
    "\n",
    "        \n"
   ]
  },
  {
   "cell_type": "code",
   "execution_count": null,
   "metadata": {
    "collapsed": false
   },
   "outputs": [],
   "source": [
    "logger = MCMCLogger(write_template_vals=False, dump_interval=5)\n",
    "\n",
    "corrupted_evs = []\n",
    "for i,ev in enumerate(sw.evs):\n",
    "    eid = i+1\n",
    "    lon = sg.all_nodes[\"%d;lon_obs\" %eid ].get_value()\n",
    "    lat = sg.all_nodes[\"%d;lat_obs\" %eid ].get_value()\n",
    "    depth = sg.all_nodes[\"%d;depth_obs\" %eid ].get_value()\n",
    "    mb = sg.all_nodes[\"%d;mb_obs\" %eid ].get_value()\n",
    "    time = sg.all_nodes[\"%d;time_obs\" %eid ].get_value()\n",
    "    cev = Event(lon=lon, lat=lat, depth=depth, mb=mb, time=time, eid=eid)\n",
    "    corrupted_evs.append(cev)\n",
    "    \n",
    "with open(os.path.join(logger.run_dir, \"obs_events.pkl\"), \"wb\") as f:\n",
    "    pickle.dump(corrupted_evs, f)\n",
    "\n",
    "with open(os.path.join(logger.run_dir, \"events.pkl\"), \"wb\") as f:\n",
    "    pickle.dump(sw.evs, f)\n",
    "    \n",
    "run_open_world_MH(sg, steps=1000,\n",
    "                  enable_template_moves=True,\n",
    "                  enable_event_moves=True,\n",
    "                  logger=logger,\n",
    "                  enable_event_openworld=False,\n",
    "                  enable_template_openworld=False)"
   ]
  },
  {
   "cell_type": "code",
   "execution_count": null,
   "metadata": {
    "collapsed": false
   },
   "outputs": [],
   "source": []
  },
  {
   "cell_type": "code",
   "execution_count": 8,
   "metadata": {
    "collapsed": false
   },
   "outputs": [],
   "source": []
  },
  {
   "cell_type": "code",
   "execution_count": null,
   "metadata": {
    "collapsed": false
   },
   "outputs": [],
   "source": []
  }
 ],
 "metadata": {
  "kernelspec": {
   "display_name": "Python 2",
   "language": "python",
   "name": "python2"
  },
  "language_info": {
   "codemirror_mode": {
    "name": "ipython",
    "version": 2
   },
   "file_extension": ".py",
   "mimetype": "text/x-python",
   "name": "python",
   "nbconvert_exporter": "python",
   "pygments_lexer": "ipython2",
   "version": "2.7.3"
  }
 },
 "nbformat": 4,
 "nbformat_minor": 0
}
