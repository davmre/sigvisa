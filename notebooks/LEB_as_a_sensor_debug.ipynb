{
 "cells": [
  {
   "cell_type": "code",
   "execution_count": 1,
   "metadata": {
    "collapsed": false
   },
   "outputs": [],
   "source": [
    "from sigvisa.graph.sigvisa_graph import SigvisaGraph\n",
    "from sigvisa.signals.common import Waveform\n",
    "\n",
    "\n",
    "\n",
    "\n",
    "\n",
    "from sigvisa.source.event import get_event\n",
    "\n",
    "\n",
    "\n",
    "\n",
    "\n",
    "\n",
    "from sigvisa.infer.run_mcmc import run_open_world_MH\n",
    "\n",
    "from sigvisa.infer.mcmc_logger import MCMCLogger"
   ]
  },
  {
   "cell_type": "code",
   "execution_count": null,
   "metadata": {
    "collapsed": false
   },
   "outputs": [],
   "source": []
  },
  {
   "cell_type": "code",
   "execution_count": 2,
   "metadata": {
    "collapsed": false
   },
   "outputs": [],
   "source": [
    "\n",
    "from sigvisa.synthetic.doublets import *\n",
    "\n",
    "def sample_events(basedir, seed=0):\n",
    "    n_evs = 10\n",
    "    lons = [129, 130]\n",
    "    lats = [-3.5, -4.5]\n",
    "    times = [1238889600, 1245456000]\n",
    "    mbs = [4.0, 5.0]\n",
    "    sw = SampledWorld(seed=seed)\n",
    "    sw.sample_region_with_doublet(n_evs, lons, lats, times, mbs)\n",
    "    sw.stas = [\"MK31\", \"AS12\", \"CM16\", \"FITZ\", \"WR1\"]\n",
    "    gpcov = GPCov([0.7,], [ 40.0, 5.0],\n",
    "                  dfn_str=\"lld\",\n",
    "                  wfn_str=\"compact2\")\n",
    "    param_means = build_param_means(sw.stas)\n",
    "    sw.set_basis(wavelet_family=\"db4_2.0_3_30\", iid_repeatable_var=0.1,\n",
    "                  iid_nonrepeatable_var=0.4, srate=5.0)\n",
    "    sw.joint_sample_arrival_params(gpcov, param_means)\n",
    "    sw.sample_signals(\"freq_0.8_4.5\")\n",
    "\n",
    "    wave_dir = os.path.join(basedir, \"sampled_%d_spreadtime\" % seed)\n",
    "    sw.serialize(wave_dir)\n",
    "    #sw.train_gp_models_true_data()\n",
    "    #sw.save_gps(wave_dir, run_name=\"synth_truedata\")\n",
    "    return sw\n",
    "\n",
    "\n",
    "import os\n",
    "basedir = os.path.join(os.getenv(\"SIGVISA_HOME\"), \"experiments\", \"synth_wavematch\")\n",
    "#sw = sample_events(basedir)\n",
    "\n",
    "wave_dir = os.path.join(basedir, \"sampled_%d_spreadtime\" % 0)\n",
    "sw = load_sampled_world(wave_dir)\n",
    "dummyPrior = dict([(param, Gaussian(sw.param_means[\"MK31\"][param], std=np.sqrt(sw.gpcov.wfn_params[0]))) for param in sw.param_means[\"MK31\"].keys()\n",
    "])"
   ]
  },
  {
   "cell_type": "code",
   "execution_count": 3,
   "metadata": {
    "collapsed": false
   },
   "outputs": [],
   "source": [
    "import cPickle as pickle\n",
    "with open(\"../logs/mcmc/01687/step_000049/pickle.sg\", 'rb') as f:\n",
    "    sg = pickle.load(f)"
   ]
  },
  {
   "cell_type": "code",
   "execution_count": 4,
   "metadata": {
    "collapsed": false
   },
   "outputs": [
    {
     "data": {
      "text/plain": [
       "'for sta in sg._joint_gpmodels.keys():\\n    for param in sg._joint_gpmodels[sta].keys():\\n        sg._joint_gpmodels[sta][param]._clear_cache()\\n        \\nfor sta in sg.station_waves.keys():\\n    for wn in sg.station_waves[sta]:\\n        wn.pass_jointgp_messages()\\n        \\nwith open(\"../logs/mcmc/01687/step_000049/pickle.sg\", \\'wb\\') as f:\\n    pickle.dump(sg, f)'"
      ]
     },
     "execution_count": 4,
     "metadata": {},
     "output_type": "execute_result"
    }
   ],
   "source": [
    "\"\"\"for sta in sg._joint_gpmodels.keys():\n",
    "    for param in sg._joint_gpmodels[sta].keys():\n",
    "        sg._joint_gpmodels[sta][param]._clear_cache()\n",
    "        \n",
    "for sta in sg.station_waves.keys():\n",
    "    for wn in sg.station_waves[sta]:\n",
    "        wn.pass_jointgp_messages()\n",
    "        \n",
    "with open(\"../logs/mcmc/01687/step_000049/pickle.sg\", 'wb') as f:\n",
    "    pickle.dump(sg, f)\"\"\""
   ]
  },
  {
   "cell_type": "code",
   "execution_count": null,
   "metadata": {
    "collapsed": false
   },
   "outputs": [],
   "source": []
  },
  {
   "cell_type": "code",
   "execution_count": 5,
   "metadata": {
    "collapsed": false
   },
   "outputs": [
    {
     "name": "stdout",
     "output_type": "stream",
     "text": [
      "-61837.5760379\n"
     ]
    }
   ],
   "source": [
    "print sg.current_log_p()\n"
   ]
  },
  {
   "cell_type": "code",
   "execution_count": 6,
   "metadata": {
    "collapsed": false,
    "scrolled": false
   },
   "outputs": [
    {
     "name": "stdout",
     "output_type": "stream",
     "text": [
      "step 1: lp -61843.79, accepted arrival_time: 0.190%, coda_decay: 0.140%, coda_height: 0.190%, evdepth: 0.550%, evloc: 0.700%, evloc_big: 0.200%, evmb: 0.950%, evtime: 0.600%, indep_peak: 0.000%, peak_decay: 0.230%, peak_offset: 0.220%, , uatemplates: 0 , events: 10 \n"
     ]
    },
    {
     "ename": "KeyboardInterrupt",
     "evalue": "",
     "output_type": "error",
     "traceback": [
      "\u001b[1;31m---------------------------------------------------------------------------\u001b[0m",
      "\u001b[1;31mKeyboardInterrupt\u001b[0m                         Traceback (most recent call last)",
      "\u001b[1;32m<ipython-input-6-68796c596534>\u001b[0m in \u001b[0;36m<module>\u001b[1;34m()\u001b[0m\n\u001b[0;32m     24\u001b[0m                   \u001b[0mlogger\u001b[0m\u001b[1;33m=\u001b[0m\u001b[0mlogger\u001b[0m\u001b[1;33m,\u001b[0m\u001b[1;33m\u001b[0m\u001b[0m\n\u001b[0;32m     25\u001b[0m                   \u001b[0menable_event_openworld\u001b[0m\u001b[1;33m=\u001b[0m\u001b[0mFalse\u001b[0m\u001b[1;33m,\u001b[0m\u001b[1;33m\u001b[0m\u001b[0m\n\u001b[1;32m---> 26\u001b[1;33m                   enable_template_openworld=False)\n\u001b[0m",
      "\u001b[1;32m/home/dmoore/python/sigvisa/infer/run_mcmc.pyc\u001b[0m in \u001b[0;36mrun_open_world_MH\u001b[1;34m(sg, steps, enable_event_openworld, enable_event_moves, enable_template_openworld, enable_template_moves, template_move_type, logger, disable_moves, start_step, cyclic_template_moves, use_proxy_lp, template_openworld_custom)\u001b[0m\n\u001b[0;32m    305\u001b[0m                                      \u001b[0msg\u001b[0m\u001b[1;33m=\u001b[0m\u001b[0msg\u001b[0m\u001b[1;33m,\u001b[0m \u001b[0mwave_node\u001b[0m\u001b[1;33m=\u001b[0m\u001b[0mwn\u001b[0m\u001b[1;33m,\u001b[0m \u001b[0mtmnodes\u001b[0m\u001b[1;33m=\u001b[0m\u001b[0mtmnodes\u001b[0m\u001b[1;33m,\u001b[0m\u001b[1;33m\u001b[0m\u001b[0m\n\u001b[0;32m    306\u001b[0m                                      \u001b[0mstd\u001b[0m\u001b[1;33m=\u001b[0m\u001b[0mstds\u001b[0m\u001b[1;33m[\u001b[0m\u001b[0mmove_name\u001b[0m\u001b[1;33m]\u001b[0m \u001b[1;32mif\u001b[0m \u001b[0mmove_name\u001b[0m \u001b[1;32min\u001b[0m \u001b[0mstds\u001b[0m \u001b[1;32melse\u001b[0m \u001b[0mNone\u001b[0m\u001b[1;33m,\u001b[0m\u001b[1;33m\u001b[0m\u001b[0m\n\u001b[1;32m--> 307\u001b[1;33m                                      window_lps = window_lps)\n\u001b[0m\u001b[0;32m    308\u001b[0m \u001b[1;33m\u001b[0m\u001b[0m\n\u001b[0;32m    309\u001b[0m                         \u001b[1;31m# also do basic wiggling-around of all template params\u001b[0m\u001b[1;33m\u001b[0m\u001b[1;33m\u001b[0m\u001b[0m\n",
      "\u001b[1;32m/home/dmoore/python/sigvisa/infer/run_mcmc.pyc\u001b[0m in \u001b[0;36mrun_move\u001b[1;34m(move_name, fn, step, n_accepted, n_attempted, move_times, move_prob, cyclic, **kwargs)\u001b[0m\n\u001b[0;32m    102\u001b[0m \u001b[1;33m\u001b[0m\u001b[0m\n\u001b[0;32m    103\u001b[0m     \u001b[0mt0\u001b[0m  \u001b[1;33m=\u001b[0m \u001b[0mtime\u001b[0m\u001b[1;33m.\u001b[0m\u001b[0mtime\u001b[0m\u001b[1;33m(\u001b[0m\u001b[1;33m)\u001b[0m\u001b[1;33m\u001b[0m\u001b[0m\n\u001b[1;32m--> 104\u001b[1;33m     \u001b[0maccepted\u001b[0m \u001b[1;33m=\u001b[0m \u001b[0mfn\u001b[0m\u001b[1;33m(\u001b[0m\u001b[1;33m**\u001b[0m\u001b[0mkwargs\u001b[0m\u001b[1;33m)\u001b[0m\u001b[1;33m\u001b[0m\u001b[0m\n\u001b[0m\u001b[0;32m    105\u001b[0m     \u001b[0mt1\u001b[0m \u001b[1;33m=\u001b[0m \u001b[0mtime\u001b[0m\u001b[1;33m.\u001b[0m\u001b[0mtime\u001b[0m\u001b[1;33m(\u001b[0m\u001b[1;33m)\u001b[0m\u001b[1;33m\u001b[0m\u001b[0m\n\u001b[0;32m    106\u001b[0m \u001b[1;33m\u001b[0m\u001b[0m\n",
      "\u001b[1;32m/home/dmoore/python/sigvisa/infer/template_mcmc.pyc\u001b[0m in \u001b[0;36mindep_peak_move\u001b[1;34m(sg, wave_node, tmnodes, window_lps, std)\u001b[0m\n\u001b[0;32m    231\u001b[0m                      \u001b[0mnode_list\u001b[0m \u001b[1;33m=\u001b[0m \u001b[1;33m(\u001b[0m\u001b[0marrival_node\u001b[0m\u001b[1;33m,\u001b[0m\u001b[1;33m)\u001b[0m\u001b[1;33m,\u001b[0m\u001b[1;33m\u001b[0m\u001b[0m\n\u001b[0;32m    232\u001b[0m                      \u001b[0mrelevant_nodes\u001b[0m \u001b[1;33m=\u001b[0m \u001b[0mrelevant_nodes\u001b[0m\u001b[1;33m,\u001b[0m\u001b[1;33m\u001b[0m\u001b[0m\n\u001b[1;32m--> 233\u001b[1;33m                      proxy_lps=proxy_lps)\n\u001b[0m\u001b[0;32m    234\u001b[0m \u001b[1;33m\u001b[0m\u001b[0m\n\u001b[0;32m    235\u001b[0m \u001b[1;31m######################################################################\u001b[0m\u001b[1;33m\u001b[0m\u001b[1;33m\u001b[0m\u001b[0m\n",
      "\u001b[1;32m/home/dmoore/python/sigvisa/infer/mcmc_basic.pyc\u001b[0m in \u001b[0;36mMH_accept\u001b[1;34m(sg, keys, oldvalues, newvalues, node_list, relevant_nodes, log_qforward, log_qbackward, proxy_lps)\u001b[0m\n\u001b[0;32m     57\u001b[0m \u001b[1;33m\u001b[0m\u001b[0m\n\u001b[0;32m     58\u001b[0m     lp_new = sg.joint_logprob_keys(keys=keys, values=newvalues, node_list=node_list,\n\u001b[1;32m---> 59\u001b[1;33m                                    relevant_nodes=relevant_nodes, proxy_lps=proxy_lps)\n\u001b[0m\u001b[0;32m     60\u001b[0m \u001b[1;33m\u001b[0m\u001b[0m\n\u001b[0;32m     61\u001b[0m     \u001b[1;32mif\u001b[0m \u001b[0msg\u001b[0m\u001b[1;33m.\u001b[0m\u001b[0mjointgp\u001b[0m\u001b[1;33m:\u001b[0m\u001b[1;33m\u001b[0m\u001b[0m\n",
      "\u001b[1;32m/home/dmoore/python/sigvisa/graph/dag.pyc\u001b[0m in \u001b[0;36mjoint_logprob_keys\u001b[1;34m(self, relevant_nodes, keys, values, node_list, proxy_lps, c, wn_conditional)\u001b[0m\n\u001b[0;32m    196\u001b[0m                     \u001b[0mll\u001b[0m \u001b[1;33m+=\u001b[0m \u001b[0mnode\u001b[0m\u001b[1;33m.\u001b[0m\u001b[0mlog_p\u001b[0m\u001b[1;33m(\u001b[0m\u001b[1;33m)\u001b[0m\u001b[1;33m\u001b[0m\u001b[0m\n\u001b[0;32m    197\u001b[0m                 \u001b[1;32mexcept\u001b[0m \u001b[0mParentConditionalNotDefined\u001b[0m\u001b[1;33m:\u001b[0m\u001b[1;33m\u001b[0m\u001b[0m\n\u001b[1;32m--> 198\u001b[1;33m                     \u001b[0mll\u001b[0m \u001b[1;33m+=\u001b[0m \u001b[0mnode\u001b[0m\u001b[1;33m.\u001b[0m\u001b[0mupwards_message_normalizer\u001b[0m\u001b[1;33m(\u001b[0m\u001b[1;33m)\u001b[0m\u001b[1;33m\u001b[0m\u001b[0m\n\u001b[0m\u001b[0;32m    199\u001b[0m \u001b[1;33m\u001b[0m\u001b[0m\n\u001b[0;32m    200\u001b[0m         \u001b[1;31m# special case for nodes with undirected edges so the usual parent-conditional log_p is not defined.\u001b[0m\u001b[1;33m\u001b[0m\u001b[1;33m\u001b[0m\u001b[0m\n",
      "\u001b[1;32m/home/dmoore/python/sigvisa/models/signal_model.pyc\u001b[0m in \u001b[0;36mupwards_message_normalizer\u001b[1;34m(self, parent_values)\u001b[0m\n\u001b[0;32m    434\u001b[0m \u001b[1;33m\u001b[0m\u001b[0m\n\u001b[0;32m    435\u001b[0m         \u001b[1;32mif\u001b[0m \u001b[0mself\u001b[0m\u001b[1;33m.\u001b[0m\u001b[0m_coef_message_cache\u001b[0m \u001b[1;32mis\u001b[0m \u001b[0mNone\u001b[0m\u001b[1;33m:\u001b[0m\u001b[1;33m\u001b[0m\u001b[0m\n\u001b[1;32m--> 436\u001b[1;33m             \u001b[0mself\u001b[0m\u001b[1;33m.\u001b[0m\u001b[0mpass_jointgp_messages\u001b[0m\u001b[1;33m(\u001b[0m\u001b[0mparent_values\u001b[0m\u001b[1;33m=\u001b[0m\u001b[0mparent_values\u001b[0m\u001b[1;33m)\u001b[0m\u001b[1;33m\u001b[0m\u001b[0m\n\u001b[0m\u001b[0;32m    437\u001b[0m \u001b[1;33m\u001b[0m\u001b[0m\n\u001b[0;32m    438\u001b[0m         \u001b[1;32mif\u001b[0m \u001b[0mself\u001b[0m\u001b[1;33m.\u001b[0m\u001b[0mcached_logp\u001b[0m \u001b[1;32mis\u001b[0m \u001b[0mNone\u001b[0m\u001b[1;33m:\u001b[0m\u001b[1;33m\u001b[0m\u001b[0m\n",
      "\u001b[1;32m/home/dmoore/python/sigvisa/models/signal_model.pyc\u001b[0m in \u001b[0;36mpass_jointgp_messages\u001b[1;34m(self, parent_values)\u001b[0m\n\u001b[0;32m    408\u001b[0m             \u001b[1;32mif\u001b[0m \u001b[0mlen\u001b[0m\u001b[1;33m(\u001b[0m\u001b[0mprior_means\u001b[0m\u001b[1;33m)\u001b[0m \u001b[1;33m>\u001b[0m \u001b[1;36m0\u001b[0m\u001b[1;33m:\u001b[0m\u001b[1;33m\u001b[0m\u001b[0m\n\u001b[0;32m    409\u001b[0m                 \u001b[0mprior_means\u001b[0m\u001b[1;33m,\u001b[0m \u001b[0mprior_vars\u001b[0m \u001b[1;33m=\u001b[0m \u001b[0mnp\u001b[0m\u001b[1;33m.\u001b[0m\u001b[0mconcatenate\u001b[0m\u001b[1;33m(\u001b[0m\u001b[0mprior_means\u001b[0m\u001b[1;33m)\u001b[0m\u001b[1;33m,\u001b[0m \u001b[0mnp\u001b[0m\u001b[1;33m.\u001b[0m\u001b[0mconcatenate\u001b[0m\u001b[1;33m(\u001b[0m\u001b[0mprior_vars\u001b[0m\u001b[1;33m)\u001b[0m\u001b[1;33m\u001b[0m\u001b[0m\n\u001b[1;32m--> 410\u001b[1;33m                 \u001b[0mell\u001b[0m\u001b[1;33m,\u001b[0m \u001b[0mmarginals\u001b[0m \u001b[1;33m=\u001b[0m \u001b[0mself\u001b[0m\u001b[1;33m.\u001b[0m\u001b[0mtssm\u001b[0m\u001b[1;33m.\u001b[0m\u001b[0mall_filtered_cssm_coef_marginals\u001b[0m\u001b[1;33m(\u001b[0m\u001b[0md\u001b[0m\u001b[1;33m)\u001b[0m\u001b[1;33m\u001b[0m\u001b[0m\n\u001b[0m\u001b[0;32m    411\u001b[0m                 \u001b[0mposterior_means\u001b[0m\u001b[1;33m,\u001b[0m \u001b[0mposterior_vars\u001b[0m \u001b[1;33m=\u001b[0m \u001b[0mzip\u001b[0m\u001b[1;33m(\u001b[0m\u001b[1;33m*\u001b[0m\u001b[0mmarginals\u001b[0m\u001b[1;33m)\u001b[0m\u001b[1;33m\u001b[0m\u001b[0m\n\u001b[0;32m    412\u001b[0m                 \u001b[0mposterior_means\u001b[0m\u001b[1;33m,\u001b[0m \u001b[0mposterior_vars\u001b[0m \u001b[1;33m=\u001b[0m \u001b[0mnp\u001b[0m\u001b[1;33m.\u001b[0m\u001b[0mconcatenate\u001b[0m\u001b[1;33m(\u001b[0m\u001b[0mposterior_means\u001b[0m\u001b[1;33m)\u001b[0m\u001b[1;33m,\u001b[0m \u001b[0mnp\u001b[0m\u001b[1;33m.\u001b[0m\u001b[0mconcatenate\u001b[0m\u001b[1;33m(\u001b[0m\u001b[0mposterior_vars\u001b[0m\u001b[1;33m)\u001b[0m\u001b[1;33m\u001b[0m\u001b[0m\n",
      "\u001b[1;31mKeyboardInterrupt\u001b[0m: "
     ]
    }
   ],
   "source": [
    "logger = MCMCLogger(write_template_vals=False, dump_interval=5)\n",
    "\n",
    "corrupted_evs = []\n",
    "for i,ev in enumerate(sw.evs):\n",
    "    eid = i+1\n",
    "    lon = sg.all_nodes[\"%d;lon_obs\" %eid ].get_value()\n",
    "    lat = sg.all_nodes[\"%d;lat_obs\" %eid ].get_value()\n",
    "    depth = sg.all_nodes[\"%d;depth_obs\" %eid ].get_value()\n",
    "    mb = sg.all_nodes[\"%d;mb_obs\" %eid ].get_value()\n",
    "    time = sg.all_nodes[\"%d;time_obs\" %eid ].get_value()\n",
    "    cev = Event(lon=lon, lat=lat, depth=depth, mb=mb, time=time, eid=eid)\n",
    "    corrupted_evs.append(cev)\n",
    "    \n",
    "with open(os.path.join(logger.run_dir, \"obs_events.pkl\"), \"wb\") as f:\n",
    "    pickle.dump(corrupted_evs, f)\n",
    "\n",
    "with open(os.path.join(logger.run_dir, \"events.pkl\"), \"wb\") as f:\n",
    "    pickle.dump(sw.evs, f)\n",
    "    \n",
    "#sg.seed = 1\n",
    "run_open_world_MH(sg, steps=1000,\n",
    "                  enable_template_moves=True,\n",
    "                  enable_event_moves=True,\n",
    "                  logger=logger,\n",
    "                  enable_event_openworld=False,\n",
    "                  enable_template_openworld=False)"
   ]
  },
  {
   "cell_type": "code",
   "execution_count": null,
   "metadata": {
    "collapsed": true
   },
   "outputs": [],
   "source": []
  },
  {
   "cell_type": "code",
   "execution_count": 12,
   "metadata": {
    "collapsed": false
   },
   "outputs": [
    {
     "name": "stdout",
     "output_type": "stream",
     "text": [
      "1963817276\n"
     ]
    }
   ],
   "source": [
    "print sg.seed\n",
    "\" step 2 -61851.71\""
   ]
  },
  {
   "cell_type": "code",
   "execution_count": 8,
   "metadata": {
    "collapsed": false
   },
   "outputs": [],
   "source": []
  },
  {
   "cell_type": "code",
   "execution_count": null,
   "metadata": {
    "collapsed": false
   },
   "outputs": [],
   "source": []
  }
 ],
 "metadata": {
  "kernelspec": {
   "display_name": "Python 2",
   "language": "python",
   "name": "python2"
  },
  "language_info": {
   "codemirror_mode": {
    "name": "ipython",
    "version": 2
   },
   "file_extension": ".py",
   "mimetype": "text/x-python",
   "name": "python",
   "nbconvert_exporter": "python",
   "pygments_lexer": "ipython2",
   "version": "2.7.3"
  }
 },
 "nbformat": 4,
 "nbformat_minor": 0
}
