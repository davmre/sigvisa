{
 "metadata": {
  "name": "covertree covariance"
 },
 "nbformat": 3,
 "nbformat_minor": 0,
 "worksheets": [
  {
   "cells": [
    {
     "cell_type": "code",
     "collapsed": false,
     "input": [
      "from sigvisa.models.spatial_regression.SpatialGP import SpatialGP, spatial_kernel_from_str\n",
      "from sigvisa.learn.train_param_common import basisfns_from_str\n",
      "X = loadtxt('X.txt')\n",
      "y = loadtxt(\"y.txt\")\n",
      "p = np.random.permutation(X.shape[0])\n",
      "smallX = np.array(X[p[:1000],:], copy=True)\n",
      "smally = np.array(y[p[:1000]], copy=True)\n",
      "k = spatial_kernel_from_str(\"lld\", \"amp_transfer\")\n",
      "basisfns, b, B = basisfns_from_str(\"dist5\")"
     ],
     "language": "python",
     "metadata": {},
     "outputs": [
      {
       "output_type": "stream",
       "stream": "stderr",
       "text": [
        "/home/dmoore/.virtualenvs/sigvisa/local/lib/python2.7/site-packages/mpl_toolkits/__init__.py:2: UserWarning: Module mpl_toolkits was already imported from /home/dmoore/.virtualenvs/sigvisa/local/lib/python2.7/site-packages/mpl_toolkits/__init__.pyc, but /home/dmoore/.virtualenvs/sigvisa/src/basemap/lib is being added to sys.path\n",
        "  __import__('pkg_resources').declare_namespace(__name__)\n"
       ]
      }
     ],
     "prompt_number": 1
    },
    {
     "cell_type": "code",
     "collapsed": false,
     "input": [
      "scatter(smallX[:, 3].T, smally, s=.01)"
     ],
     "language": "python",
     "metadata": {},
     "outputs": [
      {
       "output_type": "pyout",
       "prompt_number": 2,
       "text": [
        "<matplotlib.collections.PathCollection at 0x3ea9650>"
       ]
      },
      {
       "output_type": "display_data",
       "png": "[encoded data removed]"
      }
     ],
     "prompt_number": 2
    },
    {
     "cell_type": "code",
     "collapsed": false,
     "input": [
      "gp = SpatialGP(X=smallX, y=smally, kernel=k, mean=\"parametric\", compute_grad=False, basisfns=basisfns, param_mean=b, param_cov=B)"
     ],
     "language": "python",
     "metadata": {},
     "outputs": [],
     "prompt_number": 3
    },
    {
     "cell_type": "code",
     "collapsed": false,
     "input": [
      "print gp.covariance(X[0:1, :]) \n",
      "import time\n",
      "t0 =time.time()\n",
      "for k in range(30):\n",
      "    gp.covariance(X[k:k+1, :]) \n",
      "t1 = time.time()\n",
      "print t1-t0"
     ],
     "language": "python",
     "metadata": {},
     "outputs": [
      {
       "output_type": "stream",
       "stream": "stdout",
       "text": [
        "[[ 0.34545101]]\n",
        "2.07600498199"
       ]
      },
      {
       "output_type": "stream",
       "stream": "stdout",
       "text": [
        "\n"
       ]
      }
     ],
     "prompt_number": 4
    },
    {
     "cell_type": "code",
     "collapsed": false,
     "input": [
      "print gp.covariance_single_tree(X[0:1, :]) \n",
      "t0 =time.time()\n",
      "for k in range(30):\n",
      "    gp.covariance_single_tree(X[k:k+1, :]) \n",
      "t1 = time.time()\n",
      "print t1-t0"
     ],
     "language": "python",
     "metadata": {},
     "outputs": [
      {
       "output_type": "stream",
       "stream": "stdout",
       "text": [
        "[[ 0.34545103]]\n",
        "3.5074968338"
       ]
      },
      {
       "output_type": "stream",
       "stream": "stdout",
       "text": [
        "\n"
       ]
      }
     ],
     "prompt_number": 5
    },
    {
     "cell_type": "code",
     "collapsed": false,
     "input": [
      "print gp.nptime\n",
      "print gp.ptime\n",
      "print gp.cov_tree.fcalls"
     ],
     "language": "python",
     "metadata": {},
     "outputs": [
      {
       "output_type": "stream",
       "stream": "stdout",
       "text": [
        "0.181723117828\n",
        "0.0011990070343\n",
        "340\n"
       ]
      }
     ],
     "prompt_number": 6
    },
    {
     "cell_type": "code",
     "collapsed": false,
     "input": [],
     "language": "python",
     "metadata": {},
     "outputs": []
    }
   ],
   "metadata": {}
  }
 ]
}