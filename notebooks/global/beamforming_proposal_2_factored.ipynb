{
 "cells": [
  {
   "cell_type": "code",
   "execution_count": 1,
   "metadata": {
    "collapsed": false,
    "deletable": true,
    "editable": true
   },
   "outputs": [
    {
     "name": "stdout",
     "output_type": "stream",
     "text": [
      "Populating the interactive namespace from numpy and matplotlib\n"
     ]
    },
    {
     "name": "stderr",
     "output_type": "stream",
     "text": [
      "/home/dmoore/python/sigvisa/treegp/gpy_linalg.py:39: UserWarning: warning: caught this exception:'module' object has no attribute '_dotblas'\n",
      "  warnings.warn(\"warning: caught this exception:\" + str(e))\n"
     ]
    }
   ],
   "source": [
    "%pylab inline\n",
    "\n",
    "import seaborn as sns\n",
    "import numpy as np\n",
    "\n",
    "from sigvisa.models.ttime import tt_predict\n",
    "from sigvisa.source.event import get_event, Event\n",
    "from sigvisa import Sigvisa\n",
    "\n",
    "import cPickle as pickle\n",
    "from sigvisa.signals.io import load_event_station_chan, fetch_waveform\n",
    "\n",
    "import scipy.misc\n",
    "\n",
    "import tensorflow as tf"
   ]
  },
  {
   "cell_type": "code",
   "execution_count": 2,
   "metadata": {
    "collapsed": false,
    "deletable": true,
    "editable": true
   },
   "outputs": [],
   "source": [
    "s = Sigvisa()\n",
    "\n",
    "sql_query = \"select lebo.evid, l.time from leb_arrival l, leb_origin lebo, leb_assoc leba where lebo.orid=leba.orid and l.arid=leba.arid and l.sta=\\\"WRA\\\" and leba.phase=\\\"P\\\" and l.time between 1237680000 and 1237687200\"\n",
    "evids = s.sql(sql_query)"
   ]
  },
  {
   "cell_type": "code",
   "execution_count": null,
   "metadata": {
    "collapsed": false,
    "deletable": true,
    "editable": true
   },
   "outputs": [],
   "source": []
  },
  {
   "cell_type": "code",
   "execution_count": 3,
   "metadata": {
    "collapsed": false,
    "deletable": true,
    "editable": true
   },
   "outputs": [
    {
     "name": "stderr",
     "output_type": "stream",
     "text": [
      "/home/dmoore/.virtualenvs/sigvisa/local/lib/python2.7/site-packages/scipy/signal/signaltools.py:3073: FutureWarning:  Note: Decimate's zero_phase keyword argument will default to True in a future release. Until then, decimate defaults to one-way filtering for backwards compatibility. Ideally, always set this argument explicitly.\n",
      "  \"explicitly.\", FutureWarning)\n"
     ]
    }
   ],
   "source": [
    "def load_array_waveforms(site, stime, etime, filter_str):\n",
    "    elements = s.get_array_elements(site)\n",
    "    waves = {}\n",
    "    for element in elements:\n",
    "        wave = fetch_waveform(element, \"auto\", stime, etime)\n",
    "        waves[element] = wave.filter(filter_str)\n",
    "    return waves\n",
    "\n",
    "all_waves = load_array_waveforms(\"WRA\", 1237681020, 1237681060,\"freq_0.8_4.5;hz_10\")"
   ]
  },
  {
   "cell_type": "code",
   "execution_count": 4,
   "metadata": {
    "collapsed": false,
    "deletable": true,
    "editable": true
   },
   "outputs": [],
   "source": [
    "from sigvisa.utils.array import index_to_time, time_to_index\n",
    "\n",
    "\n",
    "def back_construct_ev(sta, atime, azi, slo):\n",
    "    # given a station, construct the event that generates a given P atime\n",
    "    # and has a given azimuth and slowness.\n",
    "    s = Sigvisa()\n",
    "    elon, elat, edepth, etime = s.earthmodel.InvertDetection(sta, azi, slo, atime)\n",
    "    if atime > 10 and etime < 10:\n",
    "        # C code will return uninitialized mem on error, usually near zero so just test for that. \n",
    "        # this is obviously terrible of course.\n",
    "        raise Exception(\"could not invert azi %.2f slo %.2f at refsta %s\" % (azi, slo, refsta))\n",
    "    \n",
    "    ev = Event(lon=elon, lat=elat, mb=4.0, depth=edepth, time=etime)\n",
    "    \n",
    "    pred_atime = ev.time + tt_predict( ev, sta, \"P\", force=True)\n",
    "    #print \"target atime %.2f actual %.2f\" % (atime, pred_atime)\n",
    "    \n",
    "    return ev\n",
    "\n",
    "def azi_slowness_offsets(site, n_bins_azi, n_bins_slow, srate, refsta=None):\n",
    "    # returns a set of azimuth and slowness bins, and, for each bin,\n",
    "    #   a dict mapping sta -> (min_offset_idx, max_offset_idx)\n",
    "    # where the offset index is relative to the reference station.\n",
    "    # that is, for an event occuring within the given azimuth/slowness bin, \n",
    "    # what is the range of times it could plausibly arrive at each element station, \n",
    "    # relative to its arrival at the reference station?\n",
    "    \n",
    "    s = Sigvisa()\n",
    "    if refsta is None:\n",
    "        refsta=s.get_default_sta(site)\n",
    "    \n",
    "    element_stas = s.get_array_elements(site)\n",
    "    dummy_atime = 1237681032.0 # doesn't actually matter since we just use relative offsets\n",
    "\n",
    "    # slowness in secs/degree. these assume a P wave velocity,\n",
    "    # but really the point is just to cover a range of incident angles.\n",
    "    # the given bounds seem to be the valid ones where inversion doesn't \n",
    "    # choke. (iangle purely horizontal would be about 19, but \n",
    "    # P waves only defined for distance > 2deg...)\n",
    "    slowness_bins = np.linspace(4.5, 19.1, n_bins_slow+1)\n",
    "    azimuth_bins = np.linspace(0, 360, n_bins_azi+1)\n",
    "    \n",
    "    aligned_idxs = []    \n",
    "    for i in range(n_bins_azi):\n",
    "        min_azi, max_azi = azimuth_bins[i], azimuth_bins[i+1]\n",
    "        aligned_idxs_azi = []\n",
    "        for j in range(n_bins_slow):\n",
    "            min_slow, max_slow = slowness_bins[j], slowness_bins[j+1]\n",
    "\n",
    "            # generate four events in the corners of the azimuth/slowness bounds\n",
    "            #  (note: in principle could store and reuse these for an array, just shifting the atime/origin time)\n",
    "            ev11 = back_construct_ev(refsta, dummy_atime, min_azi, min_slow)\n",
    "            ev12 = back_construct_ev(refsta, dummy_atime, min_azi, max_slow)\n",
    "            ev21 = back_construct_ev(refsta, dummy_atime, max_azi, min_slow)\n",
    "            ev22 = back_construct_ev(refsta, dummy_atime, max_azi, max_slow)\n",
    "            \n",
    "            aligned_idxs_bysta = {}\n",
    "            for sta in element_stas:\n",
    "\n",
    "                #if sta == refsta:\n",
    "                #    # no point in modeling refsta, could only cause confusion/aliasing bugs\n",
    "                #    continue\n",
    "                \n",
    "                # get a min and max atime for this signal at this station, \n",
    "                # given the azi/slowness bounds, by predicting the possibilities \n",
    "                # for events at the corners of the region. \n",
    "                # TODO: work out the geometry, does this really give valid bounds? \n",
    "                #        is it a problem that this doesn't necessarily partition the\n",
    "                #        atime space? (i.e., adjacent azi/slowness regions might give\n",
    "                #        overlapping atime bounds? I haven't thought through this at all)\n",
    "                atime11 = ev11.time + tt_predict(ev11, sta, \"P\", force=True)\n",
    "                atime12 = ev12.time + tt_predict(ev12, sta, \"P\", force=True)\n",
    "                atime21 = ev21.time + tt_predict(ev21, sta, \"P\", force=True)\n",
    "                atime22 = ev22.time + tt_predict(ev22, sta, \"P\", force=True)\n",
    "                atimes = (atime11, atime12, atime21, atime22)\n",
    "                min_atime = np.min(atimes)\n",
    "                max_atime = np.max(atimes)\n",
    "                min_idx = time_to_index(min_atime, stime=dummy_atime, srate=srate)\n",
    "                max_idx = time_to_index(max_atime, stime=dummy_atime, srate=srate) + 1\n",
    "                \n",
    "                aligned_idxs_bysta[sta] = (min_idx, max_idx)\n",
    "                \n",
    "            aligned_idxs_azi.append(aligned_idxs_bysta)\n",
    "        aligned_idxs.append(aligned_idxs_azi)\n",
    "    return azimuth_bins, slowness_bins, aligned_idxs\n",
    "\n",
    "ab, sb, sta_idx_dicts_by_bin = azi_slowness_offsets(site=\"WRA\", n_bins_azi=20, \n",
    "                                                    n_bins_slow=5, srate=10.0, refsta=\"WB4\")"
   ]
  },
  {
   "cell_type": "code",
   "execution_count": null,
   "metadata": {
    "collapsed": false,
    "deletable": true,
    "editable": true
   },
   "outputs": [],
   "source": []
  },
  {
   "cell_type": "code",
   "execution_count": 5,
   "metadata": {
    "collapsed": false,
    "deletable": true,
    "editable": true
   },
   "outputs": [],
   "source": [
    "def offset_range_union(sta_idx_dicts_by_bin):\n",
    "    # given a list of dicts mapping stations to offsets (such as produced by azi_slowness_offsets),\n",
    "    # return a single dict mapping \n",
    "    #   sta -> (min_offset_idx, max_offset_idx)\n",
    "    # taking the union of all the bin-specific ranges. That is, return the range of \n",
    "    # offsets such that it is sufficient to compute signal likelihoods at these offsets, in order\n",
    "    # to evaluate overall likelihoods for each azi/slowness bin.\n",
    "    \n",
    "    sta_ranges = {}\n",
    "    for by_slow_bin in sta_idx_dicts_by_bin: # by azi bins\n",
    "        for sta_dict_bin in by_slow_bin: \n",
    "            for sta, (min_idx, max_idx) in sta_dict_bin.items():\n",
    "                if sta not in sta_ranges:\n",
    "                    current_min = np.inf\n",
    "                    current_max = -np.inf\n",
    "                else:\n",
    "                    current_min, current_max = sta_ranges[sta]\n",
    "                sta_ranges[sta] = (min(current_min, min_idx), max(current_max, max_idx))\n",
    "                \n",
    "    return sta_ranges\n",
    "\n",
    "sta_ranges = offset_range_union(sta_idx_dicts_by_bin)"
   ]
  },
  {
   "cell_type": "code",
   "execution_count": 6,
   "metadata": {
    "collapsed": false
   },
   "outputs": [
    {
     "name": "stdout",
     "output_type": "stream",
     "text": [
      "{'WC1': (-6, 5), 'WC3': (-11, 9), 'WC2': (-5, 4), 'WC4': (-12, 10), 'WR6': (-20, 17), 'WR7': (-24, 20), 'WR4': (-13, 11), 'WR5': (-16, 14), 'WR2': (-9, 7), 'WR3': (-10, 9), 'WR0': (-35, 29), 'WR1': (-9, 7), 'WR8': (-28, 23), 'WR9': (-30, 25), 'WB6': (-10, 8), 'WB7': (-13, 11), 'WB4': (0, 1), 'WB5': (-6, 5), 'WB2': (-8, 7), 'WB3': (-4, 4), 'WB0': (-27, 23), 'WB1': (-11, 9), 'WB8': (-18, 15), 'WB9': (-22, 18)}\n"
     ]
    }
   ],
   "source": [
    "print sta_ranges"
   ]
  },
  {
   "cell_type": "code",
   "execution_count": 8,
   "metadata": {
    "collapsed": false,
    "deletable": true,
    "editable": true
   },
   "outputs": [
    {
     "name": "stdout",
     "output_type": "stream",
     "text": [
      "WB0 1327\n",
      "WB1 713\n",
      "WB2 645\n",
      "WB3 616\n",
      "WB4 640\n",
      "WB5 700\n",
      "WB6 796\n",
      "WB7 855\n",
      "WB8 1006\n",
      "WB9 1148\n",
      "WC1 677\n",
      "WC2 596\n",
      "WC3 654\n",
      "WC4 750\n",
      "WR0 1291\n",
      "WR1 688\n",
      "WR2 624\n",
      "WR3 619\n"
     ]
    },
    {
     "ename": "KeyboardInterrupt",
     "evalue": "",
     "output_type": "error",
     "traceback": [
      "\u001b[0;31m---------------------------------------------------------------------------\u001b[0m",
      "\u001b[0;31mKeyboardInterrupt\u001b[0m                         Traceback (most recent call last)",
      "\u001b[0;32m<ipython-input-8-ccdd7bd7e952>\u001b[0m in \u001b[0;36m<module>\u001b[0;34m()\u001b[0m\n\u001b[1;32m      4\u001b[0m \u001b[0;32mfor\u001b[0m \u001b[0mrefsta\u001b[0m \u001b[0;32min\u001b[0m \u001b[0melement_stas\u001b[0m\u001b[0;34m:\u001b[0m\u001b[0;34m\u001b[0m\u001b[0m\n\u001b[1;32m      5\u001b[0m     ab, sb, sta_idx_dicts_by_bin = azi_slowness_offsets(site=\"WRA\", n_bins_azi=80, \n\u001b[0;32m----> 6\u001b[0;31m                                                     n_bins_slow=80, srate=10.0, refsta=refsta)\n\u001b[0m\u001b[1;32m      7\u001b[0m     \u001b[0msta_ranges\u001b[0m \u001b[0;34m=\u001b[0m \u001b[0moffset_range_union\u001b[0m\u001b[0;34m(\u001b[0m\u001b[0msta_idx_dicts_by_bin\u001b[0m\u001b[0;34m)\u001b[0m\u001b[0;34m\u001b[0m\u001b[0m\n\u001b[1;32m      8\u001b[0m \u001b[0;34m\u001b[0m\u001b[0m\n",
      "\u001b[0;32m<ipython-input-4-15b4f469b3f9>\u001b[0m in \u001b[0;36mazi_slowness_offsets\u001b[0;34m(site, n_bins_azi, n_bins_slow, srate, refsta)\u001b[0m\n\u001b[1;32m     77\u001b[0m                 \u001b[0mmin_atime\u001b[0m \u001b[0;34m=\u001b[0m \u001b[0mnp\u001b[0m\u001b[0;34m.\u001b[0m\u001b[0mmin\u001b[0m\u001b[0;34m(\u001b[0m\u001b[0matimes\u001b[0m\u001b[0;34m)\u001b[0m\u001b[0;34m\u001b[0m\u001b[0m\n\u001b[1;32m     78\u001b[0m                 \u001b[0mmax_atime\u001b[0m \u001b[0;34m=\u001b[0m \u001b[0mnp\u001b[0m\u001b[0;34m.\u001b[0m\u001b[0mmax\u001b[0m\u001b[0;34m(\u001b[0m\u001b[0matimes\u001b[0m\u001b[0;34m)\u001b[0m\u001b[0;34m\u001b[0m\u001b[0m\n\u001b[0;32m---> 79\u001b[0;31m                 \u001b[0mmin_idx\u001b[0m \u001b[0;34m=\u001b[0m \u001b[0mtime_to_index\u001b[0m\u001b[0;34m(\u001b[0m\u001b[0mmin_atime\u001b[0m\u001b[0;34m,\u001b[0m \u001b[0mstime\u001b[0m\u001b[0;34m=\u001b[0m\u001b[0mdummy_atime\u001b[0m\u001b[0;34m,\u001b[0m \u001b[0msrate\u001b[0m\u001b[0;34m=\u001b[0m\u001b[0msrate\u001b[0m\u001b[0;34m)\u001b[0m\u001b[0;34m\u001b[0m\u001b[0m\n\u001b[0m\u001b[1;32m     80\u001b[0m                 \u001b[0mmax_idx\u001b[0m \u001b[0;34m=\u001b[0m \u001b[0mtime_to_index\u001b[0m\u001b[0;34m(\u001b[0m\u001b[0mmax_atime\u001b[0m\u001b[0;34m,\u001b[0m \u001b[0mstime\u001b[0m\u001b[0;34m=\u001b[0m\u001b[0mdummy_atime\u001b[0m\u001b[0;34m,\u001b[0m \u001b[0msrate\u001b[0m\u001b[0;34m=\u001b[0m\u001b[0msrate\u001b[0m\u001b[0;34m)\u001b[0m \u001b[0;34m+\u001b[0m \u001b[0;36m1\u001b[0m\u001b[0;34m\u001b[0m\u001b[0m\n\u001b[1;32m     81\u001b[0m \u001b[0;34m\u001b[0m\u001b[0m\n",
      "\u001b[0;32m/home/dmoore/python/sigvisa/utils/array.pyc\u001b[0m in \u001b[0;36mtime_to_index\u001b[0;34m(t, stime, srate)\u001b[0m\n\u001b[1;32m     23\u001b[0m     \u001b[0;31m# we add the 1e-4 to fix numerical issues, so that floor()\u001b[0m\u001b[0;34m\u001b[0m\u001b[0;34m\u001b[0m\u001b[0m\n\u001b[1;32m     24\u001b[0m     \u001b[0;31m# doesn't round down if we get .99999995103... or similar.\u001b[0m\u001b[0;34m\u001b[0m\u001b[0;34m\u001b[0m\u001b[0m\n\u001b[0;32m---> 25\u001b[0;31m     \u001b[0;32mreturn\u001b[0m \u001b[0mint\u001b[0m\u001b[0;34m(\u001b[0m\u001b[0mnp\u001b[0m\u001b[0;34m.\u001b[0m\u001b[0mfloor\u001b[0m\u001b[0;34m(\u001b[0m\u001b[0;34m(\u001b[0m\u001b[0mt\u001b[0m \u001b[0;34m-\u001b[0m \u001b[0mstime\u001b[0m\u001b[0;34m)\u001b[0m \u001b[0;34m*\u001b[0m \u001b[0msrate\u001b[0m \u001b[0;34m+\u001b[0m \u001b[0;36m1e-4\u001b[0m\u001b[0;34m)\u001b[0m\u001b[0;34m)\u001b[0m\u001b[0;34m\u001b[0m\u001b[0m\n\u001b[0m\u001b[1;32m     26\u001b[0m \u001b[0;34m\u001b[0m\u001b[0m\n\u001b[1;32m     27\u001b[0m \u001b[0;32mdef\u001b[0m \u001b[0mtime_to_index_offset\u001b[0m\u001b[0;34m(\u001b[0m\u001b[0mt\u001b[0m\u001b[0;34m,\u001b[0m \u001b[0mstime\u001b[0m\u001b[0;34m,\u001b[0m \u001b[0msrate\u001b[0m\u001b[0;34m)\u001b[0m\u001b[0;34m:\u001b[0m\u001b[0;34m\u001b[0m\u001b[0m\n",
      "\u001b[0;31mKeyboardInterrupt\u001b[0m: "
     ]
    }
   ],
   "source": [
    "# hack to get the 'best' canonical station in terms of the least induced uncertainty over\n",
    "# arrival times at other stations. this is probably more-or-less just the center of the array. \n",
    "element_stas = s.get_array_elements(\"WRA\")\n",
    "for refsta in element_stas:\n",
    "    ab, sb, sta_idx_dicts_by_bin = azi_slowness_offsets(site=\"WRA\", n_bins_azi=20, \n",
    "                                                    n_bins_slow=5, srate=10.0, refsta=refsta)\n",
    "    sta_ranges = offset_range_union(sta_idx_dicts_by_bin)\n",
    "    \n",
    "    total_idx = np.sum([(mx-mn) for (mn, mx) in sta_ranges.values()])\n",
    "    print refsta, total_idx"
   ]
  },
  {
   "cell_type": "code",
   "execution_count": 9,
   "metadata": {
    "collapsed": true,
    "deletable": true,
    "editable": true
   },
   "outputs": [],
   "source": [
    "def build_signalproc_graph(sta_placeholders, \n",
    "                           sta_offset_ranges, \n",
    "                           refsta,\n",
    "                           tmpl_sidx,\n",
    "                           tmpl_npts,\n",
    "                           iid_std=\"auto\"):\n",
    "    # given a dict mapping\n",
    "    #  sta -> tf placeholder\n",
    "    # representing a signal window at each station, and a range of offsets at each station\n",
    "    # (as given by offset_range_union), return a dict mapping \n",
    "    #  sta -> tf Tensor\n",
    "    # where each station is represented by a tensor of length (max_offset-min_offset)\n",
    "    # with values giving the proxy likelihood of that station under each offset from the refsta.\n",
    "    \n",
    "    \n",
    "    refsta_signal = sta_placeholders[refsta]\n",
    "    template = tf.slice(refsta_signal, (tmpl_sidx,), (tmpl_npts,))\n",
    "    \n",
    "    if iid_std == \"auto\":\n",
    "        mean, var = tf.nn.moments(refsta_signal, [0])\n",
    "        iid_std = tf.sqrt(var)\n",
    "    \n",
    "    # normalize the data and template so we can assume std=1 to simplify somewhat\n",
    "    norm_tmpl = template / iid_std\n",
    "    \n",
    "    sta_lps = {}\n",
    "    for sta in sta_placeholders.keys():\n",
    "        if sta == refsta:\n",
    "            continue\n",
    "        \n",
    "        sta_signal = sta_placeholders[sta]\n",
    "        min_idx, max_idx = sta_offset_ranges[sta]\n",
    "        norm_data = sta_signal / iid_std\n",
    "\n",
    "        # compute base logp of the unmodified signal\n",
    "        #logZ = npts_data * .5 * tf.log(2*np.pi*tf.square(iid_std))\n",
    "        #global_lp = -.5 * tf.reduce_sum(tf.square(norm_data)) - logZ\n",
    "\n",
    "        # logp for each alignment is an adjustment to the base lp\n",
    "        # TODO can probably frame this more efficiently in TF vocabulary,\n",
    "        # this is a hacky port from hacky numpy code\n",
    "        lps = []\n",
    "        for idx in range(min_idx, max_idx):\n",
    "            window = tf.slice(norm_data, (tmpl_sidx + idx,), (tmpl_npts,))\n",
    "            base = -.5 * tf.reduce_sum(tf.square(window))\n",
    "            diff = -.5 * tf.reduce_sum(tf.square(window - norm_tmpl))\n",
    "            lps.append(-base + diff ) \n",
    "            \n",
    "        sta_lps[sta] = lps\n",
    "    return sta_lps\n"
   ]
  },
  {
   "cell_type": "code",
   "execution_count": 10,
   "metadata": {
    "collapsed": false,
    "deletable": true,
    "editable": true
   },
   "outputs": [],
   "source": [
    "def reduce_logsumexp(x, axis=None, **kwargs):\n",
    "    shift = tf.reduce_max(x, axis=axis, **kwargs)\n",
    "\n",
    "    # expand dims to make sure we broadcast the shift correctly\n",
    "    if axis is not None:\n",
    "        broadcast_shift = tf.expand_dims(shift, axis)\n",
    "    else:\n",
    "        broadcast_shift = shift\n",
    "\n",
    "    return tf.log(tf.reduce_sum(tf.exp(x - broadcast_shift), axis=axis, **kwargs)) + shift\n",
    "\n",
    "\n",
    "def build_azibins_graph(sta_lps, sta_offsets, sta_idx_dicts_by_bin):\n",
    "    # given the likelihood Tensors output by build_signalproc_graph,\n",
    "    # and an array of dicts output from azi_slowness_offsets (mapping azi/slowness to station indices),\n",
    "    # return a tf Tensor of shape (n_azi, n_slowness) giving scores for each bin, \n",
    "    # logsumexp'ing over indices at each station, and summing over stations.\n",
    "    \n",
    "    bin_lps = []\n",
    "    for i, azi_bin_dicts in enumerate(sta_idx_dicts_by_bin):\n",
    "        bin_lps_row = []\n",
    "        print \"azi bin\", i\n",
    "        for j, bin_dict in enumerate(azi_bin_dicts):\n",
    "            sta_logps = []\n",
    "            rel_idxs = []\n",
    "            \n",
    "            for sta, local_sta_lps in sta_lps.items():\n",
    "                \n",
    "                bin_min_idx, bin_max_idx = bin_dict[sta]\n",
    "                global_min_idx, global_max_idx = sta_offsets[sta]\n",
    "                rel_min_idx = bin_min_idx - global_min_idx\n",
    "                rel_max_idx = bin_max_idx - global_min_idx\n",
    "                rel_idx = int(np.floor(   (rel_min_idx + rel_max_idx)/2.0 ))\n",
    "                \n",
    "                \n",
    "                sta_logp = local_sta_lps[rel_idx]\n",
    "                \n",
    "                \"\"\"\n",
    "                n_candidates = rel_max_idx-rel_min_idx\n",
    "                candidate_lps = local_sta_lps[rel_min_idx:rel_max_idx]\n",
    "                #tf.slice(local_sta_lps, (rel_min_idx,), (n_candidates,))\n",
    "                \n",
    "                log_n_candidates = np.log(n_candidates)\n",
    "                sta_logp = tf.reduce_max(candidate_lps) #reduce_logsumexp(candidate_lps) - log_n_candidates\n",
    "                \"\"\"\n",
    "                \n",
    "                sta_logps.append(sta_logp)\n",
    "                \n",
    "            bin_logp = tf.reduce_sum(tf.stack(sta_logps))\n",
    "            bin_lps_row.append(bin_logp)\n",
    "        bin_lps.append(tf.stack(bin_lps_row))\n",
    "    bin_lps = tf.stack(bin_lps)\n",
    "    return bin_lps"
   ]
  },
  {
   "cell_type": "code",
   "execution_count": 11,
   "metadata": {
    "collapsed": false,
    "deletable": true,
    "editable": true
   },
   "outputs": [
    {
     "name": "stdout",
     "output_type": "stream",
     "text": [
      "azi bin 0\n",
      "azi bin 1\n",
      "azi bin 2\n",
      "azi bin 3\n",
      "azi bin 4\n",
      "azi bin 5\n",
      "azi bin 6\n",
      "azi bin 7\n",
      "azi bin 8\n",
      "azi bin 9\n",
      "azi bin 10\n",
      "azi bin 11\n",
      "azi bin 12\n",
      "azi bin 13\n",
      "azi bin 14\n",
      "azi bin 15\n",
      "azi bin 16\n",
      "azi bin 17\n",
      "azi bin 18\n",
      "azi bin 19\n",
      "azi bin 20\n",
      "azi bin 21\n",
      "azi bin 22\n",
      "azi bin 23\n",
      "azi bin 24\n",
      "azi bin 25\n",
      "azi bin 26\n",
      "azi bin 27\n",
      "azi bin 28\n",
      "azi bin 29\n",
      "azi bin 30\n",
      "azi bin 31\n",
      "azi bin 32\n",
      "azi bin 33\n",
      "azi bin 34\n",
      "azi bin 35\n",
      "azi bin 36\n",
      "azi bin 37\n",
      "azi bin 38\n",
      "azi bin 39\n",
      "azi bin 40\n",
      "azi bin 41\n",
      "azi bin 42\n",
      "azi bin 43\n",
      "azi bin 44\n",
      "azi bin 45\n",
      "azi bin 46\n",
      "azi bin 47\n",
      "azi bin 48\n",
      "azi bin 49\n",
      "azi bin 50\n",
      "azi bin 51\n",
      "azi bin 52\n",
      "azi bin 53\n",
      "azi bin 54\n",
      "azi bin 55\n",
      "azi bin 56\n",
      "azi bin 57\n",
      "azi bin 58\n",
      "azi bin 59\n",
      "azi bin 60\n",
      "azi bin 61\n",
      "azi bin 62\n",
      "azi bin 63\n",
      "azi bin 64\n",
      "azi bin 65\n",
      "azi bin 66\n",
      "azi bin 67\n",
      "azi bin 68\n",
      "azi bin 69\n",
      "azi bin 70\n",
      "azi bin 71\n",
      "azi bin 72\n",
      "azi bin 73\n",
      "azi bin 74\n",
      "azi bin 75\n",
      "azi bin 76\n",
      "azi bin 77\n",
      "azi bin 78\n",
      "azi bin 79\n",
      "azi bin 80\n",
      "azi bin 81\n",
      "azi bin 82\n",
      "azi bin 83\n",
      "azi bin 84\n",
      "azi bin 85\n",
      "azi bin 86\n",
      "azi bin 87\n",
      "azi bin 88\n",
      "azi bin 89\n",
      "azi bin 90\n",
      "azi bin 91\n",
      "azi bin 92\n",
      "azi bin 93\n",
      "azi bin 94\n",
      "azi bin 95\n",
      "azi bin 96\n",
      "azi bin 97\n",
      "azi bin 98\n",
      "azi bin 99\n",
      "azi bin 100\n",
      "azi bin 101\n",
      "azi bin 102\n",
      "azi bin 103\n",
      "azi bin 104\n",
      "azi bin 105\n",
      "azi bin 106\n",
      "azi bin 107\n",
      "azi bin 108\n",
      "azi bin 109\n",
      "azi bin 110\n",
      "azi bin 111\n",
      "azi bin 112\n",
      "azi bin 113\n",
      "azi bin 114\n",
      "azi bin 115\n",
      "azi bin 116\n",
      "azi bin 117\n",
      "azi bin 118\n",
      "azi bin 119\n",
      "azi bin 120\n",
      "azi bin 121\n",
      "azi bin 122\n",
      "azi bin 123\n",
      "azi bin 124\n",
      "azi bin 125\n",
      "azi bin 126\n",
      "azi bin 127\n",
      "azi bin 128\n",
      "azi bin 129\n",
      "azi bin 130\n",
      "azi bin 131\n",
      "azi bin 132\n",
      "azi bin 133\n",
      "azi bin 134\n",
      "azi bin 135\n",
      "azi bin 136\n",
      "azi bin 137\n",
      "azi bin 138\n",
      "azi bin 139\n",
      "azi bin 140\n",
      "azi bin 141\n",
      "azi bin 142\n",
      "azi bin 143\n",
      "azi bin 144\n",
      "azi bin 145\n",
      "azi bin 146\n",
      "azi bin 147\n",
      "azi bin 148\n",
      "azi bin 149\n",
      "azi bin 150\n",
      "azi bin 151\n",
      "azi bin 152\n",
      "azi bin 153\n",
      "azi bin 154\n",
      "azi bin 155\n",
      "azi bin 156\n",
      "azi bin 157\n",
      "azi bin 158\n",
      "azi bin 159\n",
      "azi bin 160\n",
      "azi bin 161\n",
      "azi bin 162\n",
      "azi bin 163\n",
      "azi bin 164\n",
      "azi bin 165\n",
      "azi bin 166\n",
      "azi bin 167\n",
      "azi bin 168\n",
      "azi bin 169\n",
      "azi bin 170\n",
      "azi bin 171\n",
      "azi bin 172\n",
      "azi bin 173\n",
      "azi bin 174\n",
      "azi bin 175\n",
      "azi bin 176\n",
      "azi bin 177\n",
      "azi bin 178\n",
      "azi bin 179\n"
     ]
    }
   ],
   "source": [
    "site=\"WRA\"\n",
    "signals=all_waves\n",
    "n_bins_azi=180\n",
    "n_bins_slow=80\n",
    "template_len_s = 6.0\n",
    "max_offset_s = 4.5\n",
    "output_hz=1.0\n",
    "\n",
    "#def run_azislow_proposal(site, signals, \n",
    "#                         n_bins_azi, n_bins_slow, \n",
    "#                         template_len_s = 10.0,\n",
    "#                         max_offset_s = 4.0,\n",
    "#                         output_hz=1.0):\n",
    "if True:\n",
    "    # given a site and a dict of signal Waveforms at each station.\n",
    "    # call azi_slowness_offsets to precompute the offsets at each station\n",
    "    # set up the TF graph (including placeholders) to map from a signal window at each station to an azi/slowness posterior\n",
    "    # then loop through the signal at intervals of output_hz, and drive a TF session to evaluate the posterior\n",
    "    # return an array of size [T, n_azi_bins, n_bins_slow] where T is the number of timesteps (T = len(signals) * output_hz)\n",
    "    \n",
    "    s = Sigvisa()\n",
    "    refsta = \"WC2\" #s.get_default_sta(site)\n",
    "    srate = signals[refsta][\"srate\"]\n",
    "    total_npts = signals[refsta][\"npts\"]\n",
    "    \n",
    "    \n",
    "    # at each target, feed a window equal to the template\n",
    "    # length plus some padding on each side\n",
    "    target_s = template_len_s + 2 * max_offset_s\n",
    "    target_npts = int(srate * target_s)\n",
    "    # at the refsta, the template would start at this fixed offset\n",
    "    # (all other stations are computed relative to this)\n",
    "    template_sidx = int(max_offset_s * srate)\n",
    "    template_npts = int(template_len_s * srate)\n",
    "    \n",
    "    ab, sb, sta_idx_dicts_by_bin = azi_slowness_offsets(site=site, \n",
    "                                                        n_bins_azi=n_bins_azi, \n",
    "                                                        n_bins_slow=n_bins_slow, \n",
    "                                                        srate=srate, \n",
    "                                                        refsta=refsta)\n",
    "    sta_offset_ranges = offset_range_union(sta_idx_dicts_by_bin)\n",
    "    sta_placeholders = {sta: tf.placeholder(shape=(target_npts,), dtype=np.float32) \\\n",
    "                        for sta in sta_offset_ranges.keys()}\n",
    "    \n",
    "    sta_lps = build_signalproc_graph(sta_placeholders, sta_offset_ranges, refsta, \n",
    "                                     template_sidx, template_npts, iid_std=\"auto\")\n",
    "    bin_lps = build_azibins_graph(sta_lps, sta_offset_ranges, sta_idx_dicts_by_bin)\n",
    "    \n",
    "    sess = tf.Session()\n",
    "    init = tf.global_variables_initializer()\n",
    "    \n",
    "    tick_idx = int(srate/output_hz)\n",
    "    posteriors = []\n",
    "    \n",
    "        \n",
    "    #return posteriors\n",
    "\n"
   ]
  },
  {
   "cell_type": "code",
   "execution_count": 12,
   "metadata": {
    "collapsed": false,
    "deletable": true,
    "editable": true
   },
   "outputs": [
    {
     "name": "stdout",
     "output_type": "stream",
     "text": [
      "got posterior for slice at 0.0s\n",
      "got posterior for slice at 1.0s\n",
      "got posterior for slice at 2.0s\n",
      "got posterior for slice at 3.0s\n",
      "got posterior for slice at 4.0s\n",
      "got posterior for slice at 5.0s\n",
      "got posterior for slice at 6.0s\n",
      "got posterior for slice at 7.0s\n",
      "got posterior for slice at 8.0s\n",
      "got posterior for slice at 9.0s\n",
      "got posterior for slice at 10.0s\n",
      "got posterior for slice at 11.0s\n",
      "got posterior for slice at 12.0s\n",
      "got posterior for slice at 13.0s\n",
      "got posterior for slice at 14.0s\n",
      "got posterior for slice at 15.0s\n",
      "got posterior for slice at 16.0s\n",
      "got posterior for slice at 17.0s\n",
      "got posterior for slice at 18.0s\n",
      "got posterior for slice at 19.0s\n",
      "got posterior for slice at 20.0s\n",
      "got posterior for slice at 21.0s\n",
      "got posterior for slice at 22.0s\n",
      "got posterior for slice at 23.0s\n",
      "got posterior for slice at 24.0s\n",
      "got posterior for slice at 25.0s\n",
      "got posterior for slice at 26.0s\n",
      "got posterior for slice at 27.0s\n",
      "got posterior for slice at 28.0s\n",
      "got posterior for slice at 29.0s\n",
      "got posterior for slice at 30.0s\n",
      "got posterior for slice at 31.0s\n",
      "got posterior for slice at 32.0s\n",
      "got posterior for slice at 33.0s\n",
      "got posterior for slice at 34.0s\n",
      "got posterior for slice at 35.0s\n",
      "got posterior for slice at 36.0s\n",
      "got posterior for slice at 37.0s\n",
      "got posterior for slice at 38.0s\n",
      "got posterior for slice at 39.0s\n",
      "got posterior for slice at 40.0s\n",
      "got posterior for slice at 41.0s\n",
      "got posterior for slice at 42.0s\n",
      "got posterior for slice at 43.0s\n",
      "got posterior for slice at 44.0s\n",
      "got posterior for slice at 45.0s\n",
      "got posterior for slice at 46.0s\n",
      "got posterior for slice at 47.0s\n",
      "got posterior for slice at 48.0s\n",
      "got posterior for slice at 49.0s\n",
      "got posterior for slice at 50.0s\n",
      "got posterior for slice at 51.0s\n",
      "got posterior for slice at 52.0s\n",
      "got posterior for slice at 53.0s\n",
      "got posterior for slice at 54.0s\n",
      "got posterior for slice at 55.0s\n",
      "got posterior for slice at 56.0s\n",
      "got posterior for slice at 57.0s\n",
      "got posterior for slice at 58.0s\n",
      "got posterior for slice at 59.0s\n",
      "got posterior for slice at 60.0s\n",
      "got posterior for slice at 61.0s\n",
      "got posterior for slice at 62.0s\n",
      "got posterior for slice at 63.0s\n",
      "got posterior for slice at 64.0s\n"
     ]
    }
   ],
   "source": [
    "signals = all_waves\n",
    "posteriors = []\n",
    "total_npts = signals[refsta][\"npts\"]\n",
    "for idx in range(0, total_npts-target_npts, tick_idx):\n",
    "    signal_slices = {sta_placeholders[sta]: signals[sta].data[idx : idx + target_npts] for sta in sta_placeholders.keys()}\n",
    "    bin_posterior = sess.run(bin_lps, feed_dict = signal_slices)\n",
    "    print \"got posterior for slice at %.1fs\" % ( idx/float(srate))\n",
    "    posteriors.append(bin_posterior)"
   ]
  },
  {
   "cell_type": "code",
   "execution_count": null,
   "metadata": {
    "collapsed": false,
    "deletable": true,
    "editable": true
   },
   "outputs": [],
   "source": []
  },
  {
   "cell_type": "code",
   "execution_count": 14,
   "metadata": {
    "collapsed": false,
    "deletable": true,
    "editable": true
   },
   "outputs": [
    {
     "data": {
      "application/vnd.jupyter.widget-view+json": {
       "model_id": "6816aed66a3a4ca186e26005dd6df826"
      }
     },
     "metadata": {},
     "output_type": "display_data"
    },
    {
     "data": {
      "text/plain": [
       "<function __main__.pltposterior>"
      ]
     },
     "execution_count": 14,
     "metadata": {},
     "output_type": "execute_result"
    }
   ],
   "source": [
    "from ipywidgets import interact, interactive, fixed, interact_manual\n",
    "\n",
    "\n",
    "%matplotlib inline\n",
    "\n",
    "def pltposterior(t):\n",
    "    pt = posteriors[t]\n",
    "    \n",
    "    best_azi =  np.argmax(pt) / pt.shape[1]\n",
    "    best_slo = np.argmax(pt) - best_azi * pt.shape[1]\n",
    "\n",
    "    print \"max %d %d azi %.1f-%.1f slo %.1f-%.1f\" % (best_azi, best_slo, ab[best_azi], ab[best_azi+1], sb[best_slo], sb[best_slo+1])\n",
    "    \n",
    "    plt.imshow( np.exp(   (pt - np.max(pt)    )/200.0   ))\n",
    "    plt.show()\n",
    "\n",
    "    \n",
    "interact(pltposterior, t = (0, len(posteriors)-1, 1))"
   ]
  },
  {
   "cell_type": "code",
   "execution_count": null,
   "metadata": {
    "collapsed": false,
    "deletable": true,
    "editable": true
   },
   "outputs": [],
   "source": []
  },
  {
   "cell_type": "markdown",
   "metadata": {
    "collapsed": false,
    "deletable": true,
    "editable": true
   },
   "source": [
    "STATUS:\n",
    "- can walk a signal and generate a posterior on azi/slowness at each time\n",
    "- posterior is not totally accurate but seems pretty good, has the right qualitative properties, is fast enough to preprocess all signals. (will want to cache though). \n",
    "\n",
    "\n",
    "TODO:\n",
    "- work out math for Hough bin score. what is prob of observed data (this azi/slow posterior, and indirectly the signals) given observation? \n",
    "- implement in basic code. for some small number of stations (like in previous ipy notebook!), show we improve proposals by feeding in azi information. \n",
    "\n"
   ]
  },
  {
   "cell_type": "code",
   "execution_count": 22,
   "metadata": {
    "collapsed": true,
    "deletable": true,
    "editable": true
   },
   "outputs": [],
   "source": []
  },
  {
   "cell_type": "code",
   "execution_count": null,
   "metadata": {
    "collapsed": true,
    "deletable": true,
    "editable": true
   },
   "outputs": [],
   "source": []
  },
  {
   "cell_type": "code",
   "execution_count": null,
   "metadata": {
    "collapsed": false,
    "deletable": true,
    "editable": true
   },
   "outputs": [],
   "source": []
  },
  {
   "cell_type": "code",
   "execution_count": null,
   "metadata": {
    "collapsed": false,
    "deletable": true,
    "editable": true
   },
   "outputs": [],
   "source": []
  },
  {
   "cell_type": "code",
   "execution_count": null,
   "metadata": {
    "collapsed": false,
    "deletable": true,
    "editable": true
   },
   "outputs": [],
   "source": []
  },
  {
   "cell_type": "code",
   "execution_count": null,
   "metadata": {
    "collapsed": false,
    "deletable": true,
    "editable": true
   },
   "outputs": [],
   "source": []
  },
  {
   "cell_type": "markdown",
   "metadata": {
    "collapsed": false,
    "deletable": true,
    "editable": true
   },
   "source": []
  },
  {
   "cell_type": "markdown",
   "metadata": {
    "deletable": true,
    "editable": true
   },
   "source": []
  },
  {
   "cell_type": "code",
   "execution_count": null,
   "metadata": {
    "collapsed": false,
    "deletable": true,
    "editable": true
   },
   "outputs": [],
   "source": []
  },
  {
   "cell_type": "code",
   "execution_count": null,
   "metadata": {
    "collapsed": false,
    "deletable": true,
    "editable": true
   },
   "outputs": [],
   "source": []
  },
  {
   "cell_type": "code",
   "execution_count": 34,
   "metadata": {
    "collapsed": false,
    "deletable": true,
    "editable": true
   },
   "outputs": [
    {
     "name": "stdout",
     "output_type": "stream",
     "text": [
      "ev evid 5288041.0, loc 127.20 E 2.81 N, depth 0.0km, time 1237680436.1, mb 3.2, natural source\n",
      "true azi 342.00 slo 9.97\n",
      "best range 338.0 340.0 10.5225 10.705\n",
      "\n",
      "ev evid 5269697.0, loc 172.99 W 16.07 S, depth 0.0km, time 1237680495.7, mb 4.2, natural source\n",
      "true azi 94.57 slo 7.57\n",
      "best range 90.0 92.0 7.2375 7.42\n",
      "\n",
      "ev evid 5270714.0, loc 174.79 W 23.51 S, depth 0.0km, time 1237680753.6, mb 4.2, natural source\n",
      "true azi 103.94 slo 7.78\n",
      "best range 98.0 100.0 7.9675 8.15\n",
      "\n",
      "ev evid 5269733.0, loc 174.86 W 23.22 S, depth 0.0km, time 1237681509.4, mb 4.1, natural source\n",
      "true azi 103.54 slo 7.78\n",
      "best range 94.0 96.0 7.9675 8.15\n",
      "\n",
      "ev evid 5269769.0, loc 132.87 E 0.46 S, depth 0.0km, time 1237682761.1, mb 4.2, natural source\n",
      "true azi 355.56 slo 10.94\n",
      "best range 354.0 356.0 11.435 11.6175\n",
      "\n",
      "ev evid 5288032.0, loc 128.30 E 0.50 S, depth 0.0km, time 1237683622.2, mb 3.6, natural source\n",
      "true azi 342.27 slo 10.86\n",
      "best range 340.0 342.0 11.435 11.6175\n",
      "\n",
      "ev evid 5269822.0, loc 146.57 E 5.61 S, depth 65.5km, time 1237683752.2, mb 3.5, natural source\n",
      "true azi 41.48 slo 10.97\n",
      "best range 44.0 46.0 12.3475 12.53\n",
      "\n",
      "ev evid 5269819.0, loc 173.68 W 18.26 S, depth 0.0km, time 1237683851.1, mb 4.0, natural source\n",
      "true azi 97.20 slo 7.71\n",
      "best range 100.0 102.0 8.88 9.0625\n",
      "\n",
      "ev evid 5269817.0, loc 177.89 W 22.51 S, depth 0.0km, time 1237684058.9, mb 3.8, natural source\n",
      "true azi 102.15 slo 8.00\n",
      "best range 104.0 106.0 6.69 6.8725\n",
      "\n",
      "ev evid 5269863.0, loc 150.30 E 44.96 N, depth 46.4km, time 1237685018.4, mb 3.7, natural source\n",
      "true azi 12.32 slo 6.39\n",
      "best range 14.0 16.0 6.69 6.8725\n",
      "\n",
      "ev evid 5270272.0, loc 173.70 W 22.95 S, depth 0.0km, time 1237686219.0, mb 4.0, natural source\n",
      "true azi 103.35 slo 7.71\n",
      "best range 102.0 104.0 10.705 10.8875\n",
      "\n",
      "ev evid 5269915.0, loc 119.43 E 8.08 S, depth 190.1km, time 1237686650.1, mb 3.0, natural source\n",
      "true azi 307.17 slo 10.84\n",
      "best range 302.0 304.0 12.3475 12.53\n",
      "\n"
     ]
    },
    {
     "data": {
      "image/png": "[encoded data removed]",
      "text/plain": [
       "<matplotlib.figure.Figure at 0x7efd0bdc2c50>"
      ]
     },
     "metadata": {},
     "output_type": "display_data"
    },
    {
     "data": {
      "image/png": "[encoded data removed]",
      "text/plain": [
       "<matplotlib.figure.Figure at 0x7efd0bdc2110>"
      ]
     },
     "metadata": {},
     "output_type": "display_data"
    },
    {
     "data": {
      "image/png": "[encoded data removed]",
      "text/plain": [
       "<matplotlib.figure.Figure at 0x7efd0c78b190>"
      ]
     },
     "metadata": {},
     "output_type": "display_data"
    },
    {
     "data": {
      "image/png": "[encoded data removed]",
      "text/plain": [
       "<matplotlib.figure.Figure at 0x7efd0c92b5d0>"
      ]
     },
     "metadata": {},
     "output_type": "display_data"
    },
    {
     "data": {
      "image/png": "[encoded data removed]",
      "text/plain": [
       "<matplotlib.figure.Figure at 0x7efd0c949f90>"
      ]
     },
     "metadata": {},
     "output_type": "display_data"
    },
    {
     "data": {
      "image/png": "[encoded data removed]",
      "text/plain": [
       "<matplotlib.figure.Figure at 0x7efd69ecfe90>"
      ]
     },
     "metadata": {},
     "output_type": "display_data"
    },
    {
     "data": {
      "image/png": "[encoded data removed]",
      "text/plain": [
       "<matplotlib.figure.Figure at 0x7efd12b09b10>"
      ]
     },
     "metadata": {},
     "output_type": "display_data"
    },
    {
     "data": {
      "image/png": "[encoded data removed]",
      "text/plain": [
       "<matplotlib.figure.Figure at 0x7efd0c815750>"
      ]
     },
     "metadata": {},
     "output_type": "display_data"
    },
    {
     "data": {
      "image/png": "[encoded data removed]",
      "text/plain": [
       "<matplotlib.figure.Figure at 0x7efd7c064390>"
      ]
     },
     "metadata": {},
     "output_type": "display_data"
    },
    {
     "data": {
      "image/png": "[encoded data removed]",
      "text/plain": [
       "<matplotlib.figure.Figure at 0x7efd12a09a90>"
      ]
     },
     "metadata": {},
     "output_type": "display_data"
    },
    {
     "data": {
      "image/png": "[encoded data removed]",
      "text/plain": [
       "<matplotlib.figure.Figure at 0x7efd12b7bfd0>"
      ]
     },
     "metadata": {},
     "output_type": "display_data"
    },
    {
     "data": {
      "image/png": "[encoded data removed]",
      "text/plain": [
       "<matplotlib.figure.Figure at 0x7efd68553090>"
      ]
     },
     "metadata": {},
     "output_type": "display_data"
    }
   ],
   "source": [
    "for evid, atime in evids:\n",
    "    \n",
    "    ev = get_event(evid=evid)\n",
    "    \n",
    "    pred_atime = ev.time + tt_predict(ev, \"WR1\", \"P\", force=True)\n",
    "    all_waves = load_array_waveforms(\"WRA\", pred_atime-10, pred_atime+30,\"freq_0.8_4.5;hz_10\")\n",
    "\n",
    "    target_s = template_len_s + 2 * max_offset_s\n",
    "    target_npts = int(srate * target_s)\n",
    "    # at the refsta, the template would start at this fixed offset\n",
    "    # (all other stations are computed relative to this)\n",
    "    template_sidx = int(max_offset_s * srate)\n",
    "    template_npts = int(template_len_s * srate)\n",
    "    \n",
    "    slice_idx = int(10*(30 - max_offset_s))\n",
    "    \n",
    "    signal_slices = {sta_placeholders[sta]: all_waves[sta].data[slice_idx : slice_idx + target_npts]\\\n",
    "                     for sta in sta_placeholders.keys()}\n",
    "    \n",
    "    bin_posterior = sess.run(bin_lps, feed_dict = signal_slices)\n",
    "    \n",
    "    s = Sigvisa()\n",
    "    siteid = s.earthmodel.site_info(\"WRA\", 0)[6]\n",
    "    true_az = s.earthmodel.ArrivalAzimuth(ev.lon, ev.lat, \"WRA\", ev.time)\n",
    "    true_slo = s.earthmodel.ArrivalSlowness(ev.lon, ev.lat, ev.depth, 0, \"WRA\", ev.time)\n",
    "    \n",
    "    plt.figure()\n",
    "    plt.title(\"evid=%d\" % ev.evid)\n",
    "    plt.imshow(np.exp( (bin_posterior  -np.max(bin_posterior)) / 200.0))\n",
    "    pt = bin_posterior\n",
    "    best_azi =  np.argmax(pt) / pt.shape[1]\n",
    "    best_slo = np.argmax(pt) - best_azi * pt.shape[1]\n",
    "\n",
    "    print \"ev\", ev\n",
    "    print \"true azi %.2f slo %.2f\" % (true_az, true_slo)\n",
    "    print \"best range\", ab[best_azi], ab[best_azi+1], sb[best_slo], sb[best_slo+1]\n",
    "    print\n",
    "    \n",
    "    "
   ]
  },
  {
   "cell_type": "code",
   "execution_count": null,
   "metadata": {
    "collapsed": true,
    "deletable": true,
    "editable": true
   },
   "outputs": [],
   "source": []
  }
 ],
 "metadata": {
  "kernelspec": {
   "display_name": "Python 2",
   "language": "python",
   "name": "python2"
  },
  "language_info": {
   "codemirror_mode": {
    "name": "ipython",
    "version": 2
   },
   "file_extension": ".py",
   "mimetype": "text/x-python",
   "name": "python",
   "nbconvert_exporter": "python",
   "pygments_lexer": "ipython2",
   "version": "2.7.12"
  }
 },
 "nbformat": 4,
 "nbformat_minor": 2
}
