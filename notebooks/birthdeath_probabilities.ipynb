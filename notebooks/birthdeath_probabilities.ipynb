{
 "metadata": {
  "name": "",
  "signature": "sha256:7d8978ff130ffd13ce6e987400eed7c3256b8a33e453eb1d1d3b8ece090397fd"
 },
 "nbformat": 3,
 "nbformat_minor": 0,
 "worksheets": [
  {
   "cells": [
    {
     "cell_type": "code",
     "collapsed": false,
     "input": [
      "%load_ext autoreload\n",
      "%autoreload\n",
      "\n",
      "import numpy as np\n",
      "import sys\n",
      "import os\n",
      "\n",
      "import traceback\n",
      "\n",
      "import pickle\n",
      "import copy\n",
      "\n",
      "\n",
      "from sigvisa import Sigvisa\n",
      "\n",
      "from sigvisa.graph.sigvisa_graph import SigvisaGraph\n",
      "\n",
      "\n",
      "\n",
      "from sigvisa.models.templates.load_by_name import load_template_generator\n",
      "from sigvisa.models.ttime import tt_predict\n",
      "from sigvisa.infer.event_mcmc import *\n",
      "from sigvisa.infer.event_swap import *\n",
      "from sigvisa.infer.propose_lstsqr import overpropose_new_locations\n",
      "from sigvisa.infer.propose_hough import hough_location_proposal\n",
      "\n",
      "\n",
      "from sigvisa.infer.run_mcmc import run_open_world_MH\n",
      "from sigvisa.infer.mcmc_logger import MCMCLogger\n",
      "from sigvisa.infer.event_birthdeath import ev_birth_helper,ev_death_helper\n",
      "\n",
      "from sigvisa.infer.template_mcmc import *\n",
      "from sigvisa.plotting.plot import plot_with_fit, plot_with_fit_shapes, plot_pred_atimes\n",
      "from sigvisa.signals.common import Waveform\n",
      "from sigvisa.utils.fileutils import clear_directory, mkdir_p\n",
      "\n",
      "from sigvisa.experiments.one_station_templates_test import sample_template\n",
      "\n",
      "import cPickle as pickle\n",
      "\n",
      "def do_plot(wn, ax=None):\n",
      "    if ax is None:\n",
      "      f = plt.figure(figsize=(15,5))\n",
      "      ax=f.add_subplot(111)\n",
      "    shape_colors = plot_with_fit_shapes(fname=None, wn=wn, axes=ax, plot_wave=True)\n",
      "    atimes = dict([(\"%d_%s\" % (eid, phase), wn.get_template_params_for_arrival(eid=eid, phase=phase)[0]['arrival_time']) for (eid, phase) in wn.arrivals()])\n",
      "    colors = dict([(\"%d_%s\" % (eid, phase), shape_colors[eid]) for (eid, phase) in wn.arrivals()])\n",
      "    plot_pred_atimes(dict(atimes), wn.get_wave(), axes=ax, color=colors, alpha=1.0, bottom_rel=-0.1, top_rel=0.0)\n",
      "    return ax\n",
      "\n",
      "def ttrs(sg, eid, dump_info=True):\n",
      "    ev = sg.get_event(eid)\n",
      "    stas = sorted(sg.station_waves.keys())\n",
      "    targets = []\n",
      "    for sta in sorted(stas):\n",
      "        phases = sg.ev_arriving_phases(eid, sta)\n",
      "        for phase in phases:\n",
      "            targets.append((sta, phase))\n",
      "\n",
      "    atimes = np.array([get_atime(eid, sta, phase) for (sta, phase) in targets])\n",
      "    pred_tts = np.array([tt_predict(ev, sta, phase) for (sta, phase) in targets])\n",
      "    residuals = atimes-ev.time - pred_tts\n",
      "    \n",
      "    if dump_info:\n",
      "        print ev\n",
      "        for (sta, phase), atime, pred_tt, residual in zip(targets, atimes, pred_tts, residuals):\n",
      "            print sta, phase, \"atime %.1f pred %.1f tt %.1f residual %.2f\" % (atime, pred_tt+ev.time, pred_tt, residual)\n",
      "    \n",
      "    return np.abs(residuals)\n",
      "\n",
      "def get_atime(eid, sta, phase):\n",
      "    n = get_parent_value(eid=eid, sta=sta, phase=phase, param_name='arrival_time', chan=None, band=None,\n",
      "                         parent_values=sg.nodes_by_key, return_key=False)\n",
      "    return n.get_value()\n"
     ],
     "language": "python",
     "metadata": {},
     "outputs": [],
     "prompt_number": 1
    },
    {
     "cell_type": "code",
     "collapsed": false,
     "input": [
      "with open(\"/home/dmoore/python/sigvisa/logs/mcmc/01380/step_000359/pickle.sg\", 'rb') as f:\n",
      "    sg = pickle.load(f)\n",
      "    \n",
      "with open(\"/home/dmoore/python/sigvisa/logs/mcmc/01380/events.pkl\", 'rb') as f:\n",
      "    true_evs = pickle.load(f)\n",
      "    \n",
      "for ev in true_evs:\n",
      "    print ev\n",
      "    \n",
      "#wn = sg.all_nodes['wave_STKA_BHZ_freq_2.0_3.0_1238889600.0']\n",
      "sg.current_log_p_breakdown()"
     ],
     "language": "python",
     "metadata": {},
     "outputs": [
      {
       "output_type": "stream",
       "stream": "stdout",
       "text": [
        "evid None, loc 159.53 E 8.63 S, depth 527.6km, time 1238889780.3, mb 6.2, natural source\n",
        "evid None, loc 72.45 E 36.74 N, depth 282.9km, time 1238890310.0, mb 4.8, natural source\n",
        "evid None, loc 175.75 W 22.17 S, depth 258.1km, time 1238890085.9, mb 4.7, natural source\n",
        "n_uatemplate: -527.5"
       ]
      },
      {
       "output_type": "stream",
       "stream": "stdout",
       "text": [
        "\n",
        "n_event: -5.1\n",
        "ev priors: ev 0.0\n",
        "tt_residual: ev 0.0\n",
        "ev global cost (n + priors + tt): -5.1\n",
        "coda_decay: ev 0.0 ua -149.1 total -149.1\n",
        "peak_decay: ev 0.0 ua -120.4 total -120.4\n",
        "peak_offset: ev 0.0 ua -117.9 total -117.9\n",
        "coda_height: ev 0.0 ua -157.7 total -157.7\n",
        "wiggles: ev 0.0 ua 0.0 total 0.0\n",
        "total param: ev 0.0 ua -545.1 total -545.1\n",
        "non signals: ev -5.1 ua -1072.6 total -1077.7\n",
        "signals: 128995.9\n",
        "overall: 127918.2\n",
        "official: 127918.2\n"
       ]
      }
     ],
     "prompt_number": 2
    },
    {
     "cell_type": "code",
     "collapsed": false,
     "input": [
      "np.random.seed(0)\n",
      "lqf, lqb, revert, _ = ev_birth_helper_full(sg, hough_location_proposal)"
     ],
     "language": "python",
     "metadata": {},
     "outputs": [
      {
       "output_type": "stream",
       "stream": "stdout",
       "text": [
        "total hough time 7.96949791908\n",
        "> /home/dmoore/python/sigvisa/infer/propose_hough.py(490)hough_location_proposal()\n",
        "-> return np.log(event_prob_from_hough(fix_result, hough_array, sg.event_start_time, sg.end_time))\n"
       ]
      },
      {
       "name": "stdout",
       "output_type": "stream",
       "stream": "stdout",
       "text": [
        "(Pdb) continue\n"
       ]
      },
      {
       "output_type": "stream",
       "stream": "stdout",
       "text": [
        "proposal time 0.10585308075 0.0434129238129\n",
        "proposing to associate template 683 at AS12,P with assoc lp -0.0"
       ]
      },
      {
       "output_type": "stream",
       "stream": "stdout",
       "text": [
        "\n",
        "proposing to associate template 737 at JHJ,P with assoc lp -0.3\n",
        "Gaussian(mean=-7.791748, std=3.058004)\n",
        "proposing to birth new phase USA0,P with assoc lp -0.0 tmpl lp -9.909144\n",
        "proposing to associate template 532 at AAK,P with assoc lp -0.0"
       ]
      },
      {
       "output_type": "stream",
       "stream": "stdout",
       "text": [
        "\n",
        "proposing to associate template 676 at QSPA,P with assoc lp -0.0\n",
        "proposing to associate template 692 at MK31,P with assoc lp -0.0\n",
        "Gaussian(mean=-8.484049, std=2.711853)"
       ]
      },
      {
       "output_type": "stream",
       "stream": "stdout",
       "text": [
        "\n",
        "proposing to birth new phase FIA0,P with assoc lp -0.0 tmpl lp -8.105379\n",
        "proposing to associate template 235 at STKA,P with assoc lp -0.8\n",
        "Gaussian(mean=-5.287550, std=1.333079)\n",
        "proposing to birth new phase VNDA,P with assoc lp -0.0 tmpl lp -7.249947\n",
        "proposing to associate template 616 at PEA0,P with assoc lp -0.2"
       ]
      },
      {
       "output_type": "stream",
       "stream": "stdout",
       "text": [
        "\n",
        "proposing to associate template 637 at KBZ,P with assoc lp -0.0\n",
        "4.0\n",
        "4035.93359509\n",
        "1245.42903974\n",
        "Gaussian(mean=-6.590843, std=3.658456)\n",
        "CM16 -4.24993367306 -3.5906784091 -1.88101653981 -9.72162862196 {'coda_decay': -2.5154035761462352, 'peak_offset': -0.042873461802323883, 'coda_height': -0.52464514448204635, 'peak_decay': -1.5470914623359955} 2.42588734627 1238890357.04\n",
        "proposing to birth new phase CM16,P with assoc lp -0.0 tmpl lp -9.721629\n",
        "CM16 params {'coda_decay': -2.5154035761462352, 'peak_offset': -0.042873461802323883, 'coda_height': -0.52464514448204635, 'arrival_time': 1238890357.0419674, 'tt_residual': 2.4258873462677002, 'peak_decay': -1.5470914623359955}\n",
        "proposing to associate template 364 at JKA,P with assoc lp -0.2"
       ]
      },
      {
       "output_type": "stream",
       "stream": "stdout",
       "text": [
        "\n",
        "proposing to associate template 365 at YKR8,P with assoc lp -0.0\n",
        "proposing to associate template 716 at BVA0,P with assoc lp -0.0\n",
        "proposing to associate template 563 at WR1,P with assoc lp -0.0"
       ]
      },
      {
       "output_type": "stream",
       "stream": "stdout",
       "text": [
        "\n",
        "proposing to associate template 487 at FITZ,P with assoc lp -0.0\n",
        "proposing to associate template 725 at IL31,P with assoc lp -0.0\n",
        "Gaussian(mean=-4.970122, std=1.808654)"
       ]
      },
      {
       "output_type": "stream",
       "stream": "stdout",
       "text": [
        "\n",
        "proposing to birth new phase JNU,P with assoc lp -0.1 tmpl lp -4.761953\n",
        "Gaussian(mean=-8.803199, std=2.552278)\n",
        "proposing to birth new phase SNAA,P with assoc lp -0.1 tmpl lp -6.573754\n",
        "Gaussian(mean=-5.612866, std=2.048675)\n",
        "proposing to birth new phase NB200,P with assoc lp -0.0 tmpl lp -5.936485\n",
        "proposing to associate template 426 at NWAO,P with assoc lp -0.0"
       ]
      },
      {
       "output_type": "stream",
       "stream": "stdout",
       "text": [
        "\n",
        "eid"
       ]
      },
      {
       "output_type": "stream",
       "stream": "stdout",
       "text": [
        " 21 proposing mb 4.42014722399 from dist 4.47592731778 0.194432150556\n",
        "birth helper 0.677581353328 -53.9629194554 -6.57649146829\n"
       ]
      }
     ],
     "prompt_number": 3
    },
    {
     "cell_type": "code",
     "collapsed": false,
     "input": [
      "np.random.seed(0)\n",
      "lqf2, lqb2, r2 = ev_death_helper_full(sg, 21, hough_location_proposal)"
     ],
     "language": "python",
     "metadata": {},
     "outputs": [
      {
       "output_type": "stream",
       "stream": "stdout",
       "text": [
        "reverse dist 4.47592747923 0.037794270653 old mb 4.42014722399 lp 0.677697534275\n",
        "proposing to deassociate at AS12 (lp -0.0)\n",
        "proposing to deassociate at JHJ (lp -0.0)\n",
        "Gaussian(mean=-7.791748, std=3.058004)\n",
        "proposing to delete at USA0 (lp -0.002470, reverse -9.909144)\n",
        "proposing to deassociate at AAK (lp -0.0)\n",
        "proposing to deassociate at QSPA (lp -0.0)\n",
        "proposing to deassociate at MK31 (lp -0.0)\n",
        "Gaussian(mean=-8.484049, std=2.711853)\n",
        "proposing to delete at FIA0 (lp -0.002470, reverse -8.105379)\n",
        "proposing to deassociate at STKA (lp -0.0)\n",
        "Gaussian(mean=-5.287550, std=1.333079)\n",
        "proposing to delete at VNDA (lp -0.002470, reverse -7.249947)\n",
        "proposing to deassociate at PEA0 (lp -0.0)\n",
        "proposing to deassociate at KBZ (lp -0.0)\n",
        "4.0\n",
        "4035.93359509\n",
        "1245.42903974\n",
        "Gaussian(mean=-6.590843, std=3.658456)\n",
        "CM16 -4.24993367306 -3.5906784091 -1.88101653981 -9.72162862196 {'coda_decay': -2.5154035761462352, 'peak_offset': -0.042873461802323883, 'coda_height': -0.52464514448204635, 'peak_decay': -1.5470914623359955} 2.42588734627 1238890357.04\n",
        "proposing to delete at CM16 (lp -0.002470, reverse -9.721629)\n",
        "CM16 {'coda_decay': -2.5154035761462352, 'peak_offset': -0.042873461802323883, 'coda_height': -0.52464514448204635, 'arrival_time': 1238890357.0419674, 'tt_residual': 2.4258873462677002, 'peak_decay': -1.5470914623359955}\n",
        "> /home/dmoore/python/sigvisa/infer/event_birthdeath.py(570)ev_death_helper()\n",
        "-> move_logprob += deassociate_logprob\n"
       ]
      },
      {
       "name": "stdout",
       "output_type": "stream",
       "stream": "stdout",
       "text": [
        "(Pdb) continue\n"
       ]
      },
      {
       "output_type": "stream",
       "stream": "stdout",
       "text": [
        "proposing to deassociate at JKA (lp -0.0)\n",
        "proposing to deassociate at YKR8 (lp -0.0)\n",
        "proposing to deassociate at BVA0 (lp -0.0)\n",
        "proposing to deassociate at WR1 (lp -0.0)\n",
        "proposing to deassociate at FITZ (lp -0.0)\n",
        "proposing to deassociate at IL31 (lp -0.0)\n",
        "Gaussian(mean=-4.970122, std=1.808654)\n",
        "proposing to delete at JNU (lp -0.002470, reverse -4.761953)\n",
        "Gaussian(mean=-8.803199, std=2.552278)\n",
        "proposing to delete at SNAA (lp -0.002470, reverse -6.573754)\n",
        "Gaussian(mean=-5.612866, std=2.048675)\n",
        "proposing to delete at NB200 (lp -0.002470, reverse -5.936485)\n",
        "proposing to deassociate at NWAO (lp -0.0)\n",
        "reverse deassociation AS12 21 P lp -0.000078\n",
        "reverse deassociation JHJ 21 P lp -0.345194\n",
        "reverse deletion USA0 21 P lp -0.000078\n",
        "reverse deassociation AAK 21 P lp -0.000554\n",
        "reverse deassociation QSPA 21 P lp -0.018887"
       ]
      },
      {
       "output_type": "stream",
       "stream": "stdout",
       "text": [
        "\n",
        "reverse deassociation MK31 21 P lp -0.008056\n",
        "reverse deletion FIA0 21 P lp -0.000075\n",
        "reverse deassociation STKA 21 P lp -0.801344\n",
        "reverse deletion VNDA 21 P lp -0.010584\n",
        "reverse deassociation PEA0 21 P lp -0.160412\n",
        "reverse deassociation KBZ 21 P lp -0.014947\n",
        "reverse deletion CM16 21 P lp -0.032033\n",
        "reverse deassociation JKA 21 P lp -0.170610\n",
        "reverse deassociation YKR8 21 P lp -0.000134\n",
        "reverse deassociation BVA0 21 P lp -0.000404\n",
        "reverse deassociation WR1 21 P lp -0.002255\n",
        "reverse deassociation FITZ 21 P lp -0.000080\n",
        "reverse deassociation IL31 21 P lp -0.000090"
       ]
      },
      {
       "output_type": "stream",
       "stream": "stdout",
       "text": [
        "\n",
        "reverse deletion JNU 21 P lp -0.083271\n",
        "reverse deletion SNAA 21 P lp -0.055405\n",
        "reverse deletion NB200 21 P lp -0.000050\n",
        "reverse deassociation NWAO 21 P lp -0.000085\n",
        "total hough time"
       ]
      },
      {
       "output_type": "stream",
       "stream": "stdout",
       "text": [
        " 3.48408102989\n",
        "> /home/dmoore/python/sigvisa/infer/propose_hough.py(490)hough_location_proposal()\n",
        "-> return np.log(event_prob_from_hough(fix_result, hough_array, sg.event_start_time, sg.end_time))\n"
       ]
      },
      {
       "name": "stdout",
       "output_type": "stream",
       "stream": "stdout",
       "text": [
        "(Pdb) continue\n"
       ]
      },
      {
       "output_type": "stream",
       "stream": "stdout",
       "text": [
        "death helper 0.677697534275 -53.9629194554 -6.57649146829\n"
       ]
      }
     ],
     "prompt_number": 4
    },
    {
     "cell_type": "code",
     "collapsed": false,
     "input": [
      "print lqf, lqb\n",
      "print lqf2, lqb2\n",
      "# birth backward probability matches death forward\n",
      "# but birth forward does *not* match death backward. "
     ],
     "language": "python",
     "metadata": {},
     "outputs": [
      {
       "output_type": "stream",
       "stream": "stdout",
       "text": [
        "-59.8618295703 -0.0543305690328\n",
        "-0.0543305690329 -59.8617133894\n"
       ]
      }
     ],
     "prompt_number": 5
    },
    {
     "cell_type": "code",
     "collapsed": false,
     "input": [],
     "language": "python",
     "metadata": {},
     "outputs": [],
     "prompt_number": 2
    },
    {
     "cell_type": "code",
     "collapsed": false,
     "input": [],
     "language": "python",
     "metadata": {},
     "outputs": [],
     "prompt_number": 2
    },
    {
     "cell_type": "code",
     "collapsed": false,
     "input": [],
     "language": "python",
     "metadata": {},
     "outputs": [],
     "prompt_number": 2
    },
    {
     "cell_type": "code",
     "collapsed": false,
     "input": [],
     "language": "python",
     "metadata": {},
     "outputs": [],
     "prompt_number": 2
    },
    {
     "cell_type": "code",
     "collapsed": false,
     "input": [
      "\n"
     ],
     "language": "python",
     "metadata": {},
     "outputs": [],
     "prompt_number": 2
    },
    {
     "cell_type": "code",
     "collapsed": false,
     "input": [],
     "language": "python",
     "metadata": {},
     "outputs": [],
     "prompt_number": 18
    },
    {
     "cell_type": "code",
     "collapsed": false,
     "input": [],
     "language": "python",
     "metadata": {},
     "outputs": [],
     "prompt_number": 18
    },
    {
     "cell_type": "code",
     "collapsed": false,
     "input": [],
     "language": "python",
     "metadata": {},
     "outputs": [],
     "prompt_number": 2
    },
    {
     "cell_type": "code",
     "collapsed": false,
     "input": [],
     "language": "python",
     "metadata": {},
     "outputs": []
    }
   ],
   "metadata": {}
  }
 ]
}