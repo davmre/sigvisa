{
 "metadata": {
  "name": "",
  "signature": "sha256:18f90a637ee0f8bac763b3a87c4f9f3eeedec2d2a3973e47ec98861bb947daf9"
 },
 "nbformat": 3,
 "nbformat_minor": 0,
 "worksheets": [
  {
   "cells": [
    {
     "cell_type": "code",
     "collapsed": false,
     "input": [
      "from sigvisa.graph.sigvisa_graph import SigvisaGraph\n",
      "from sigvisa.signals.io import load_event_station_chan\n",
      "from sigvisa.source.event import get_event\n",
      "\n"
     ],
     "language": "python",
     "metadata": {},
     "outputs": [],
     "prompt_number": 1
    },
    {
     "cell_type": "code",
     "collapsed": false,
     "input": [
      "tm_types = {\"tt_residual\":\"constant_laplacian\",\n",
      "            \"peak_offset\":\"param_linear_mb\",\n",
      "            \"amp_transfer\":\"param_sin1\",\n",
      "            \"coda_decay\":\"param_linear_distmb\",\n",
      "            \"peak_decay\":\"param_linear_distmb\"}\n",
      "\n",
      "sg = SigvisaGraph(template_shape = \"lin_polyexp\", template_model_type = tm_types,\n",
      "                      wiggle_family = \"db4_0.5_99_120\", wiggle_model_type = \"dummy\",\n",
      "                      dummy_fallback = False, nm_type = \"ar\",\n",
      "                      runids=(26,27), phases=[\"P\",], gpmodel_build_trees=False,\n",
      "                      absorb_n_phases=False, uatemplate_rate=1e-20)\n",
      "\n",
      "evid = 5335760\n",
      "w = load_event_station_chan(evid, \"MKAR\", \"auto\", evtype=\"leb\", cursor=None, pre_s = 400, post_s=300)\n",
      "w_filtered = w.filter(\"freq_2.0_3.0;env;hz_1.0\")\n",
      "wn = sg.add_wave(w_filtered)\n",
      "\n"
     ],
     "language": "python",
     "metadata": {},
     "outputs": [],
     "prompt_number": 2
    },
    {
     "cell_type": "code",
     "collapsed": false,
     "input": [
      "plot(wn.get_value().data)"
     ],
     "language": "python",
     "metadata": {},
     "outputs": [
      {
       "metadata": {},
       "output_type": "pyout",
       "prompt_number": 3,
       "text": [
        "[<matplotlib.lines.Line2D at 0x46cdb90>]"
       ]
      },
      {
       "metadata": {},
       "output_type": "display_data",
       "png": "[encoded data removed]",
       "text": [
        "<matplotlib.figure.Figure at 0x44a3550>"
       ]
      }
     ],
     "prompt_number": 3
    },
    {
     "cell_type": "code",
     "collapsed": false,
     "input": [
      "means = wn.signal_component_means()"
     ],
     "language": "python",
     "metadata": {},
     "outputs": [],
     "prompt_number": 4
    },
    {
     "cell_type": "code",
     "collapsed": false,
     "input": [],
     "language": "python",
     "metadata": {},
     "outputs": [],
     "prompt_number": 7
    },
    {
     "cell_type": "code",
     "collapsed": false,
     "input": [
      "from sigvisa.infer.run_mcmc import run_open_world_MH\n",
      "from sigvisa.infer.mcmc_logger import MCMCLogger\n",
      "\n",
      "\n",
      "try:\n",
      "    logger = MCMCLogger( write_template_vals=True, dump_interval=2, print_interval=1)\n",
      "    run_open_world_MH(sg, steps=500,\n",
      "                      enable_event_openworld=False,\n",
      "                      enable_event_moves=False,\n",
      "                      enable_template_openworld=True,\n",
      "                      enable_template_moves=True,\n",
      "                      logger=logger)\n",
      "    \n",
      "except Exception as e:\n",
      "    import pdb, sys, traceback\n",
      "    print e\n",
      "    type, value, tb = sys.exc_info()\n",
      "    traceback.print_exc()\n",
      "    pdb.post_mortem(tb)\n"
     ],
     "language": "python",
     "metadata": {},
     "outputs": [
      {
       "output_type": "stream",
       "stream": "stdout",
       "text": [
        "saving debug dump to /home/dmoore/python/sigvisa/logs/mcmc/01563/step_000001...\n",
        "saved pickled graph\n",
        "step 1: lp -56.42, accepted arrival_time: 1.000%, coda_decay: 0.000%, coda_height: 0.000%, event_swap: 0.000%, indep_peak: 1.000%, peak_decay: 1.000%, peak_offset: 0.250%, swap_association: 0.000%, tmpl_birth: 0.500%, tmpl_death: 0.000%, tmpl_merge: 0.000%, tmpl_split: 0.000%, , uatemplates: 1 , events: 0 \n",
        "step 2: lp -53.23, accepted arrival_time: 1.000%, coda_decay: 0.000%, coda_height: 0.000%, event_swap: 0.000%, indep_peak: 0.667%, peak_decay: 0.667%, peak_offset: 0.333%, swap_association: 0.000%, tmpl_birth: 0.333%, tmpl_death: 0.000%, tmpl_merge: 0.000%, tmpl_split: 0.000%, , uatemplates: 1 , events: 0 "
       ]
      },
      {
       "output_type": "stream",
       "stream": "stdout",
       "text": [
        "\n",
        "saving debug dump to /home/dmoore/python/sigvisa/logs/mcmc/01563/step_000003..."
       ]
      },
      {
       "output_type": "stream",
       "stream": "stdout",
       "text": [
        "\n",
        "saved pickled graph\n",
        "step 3: lp -53.23, accepted arrival_time: 0.750%, coda_decay: 0.000%, coda_height: 0.000%, event_swap: 0.000%, indep_peak: 0.500%, peak_decay: 0.500%, peak_offset: 0.250%, swap_association: 0.000%, tmpl_birth: 0.250%, tmpl_death: 0.000%, tmpl_merge: 0.000%, tmpl_split: 0.000%, , uatemplates: 1 , events: 0 \n",
        "step 4: lp -55.02, accepted arrival_time: 0.800%, coda_decay: 0.000%, coda_height: 0.000%, event_swap: 0.000%, indep_peak: 0.400%, peak_decay: 0.400%, peak_offset: 0.200%, swap_association: 0.000%, tmpl_birth: 0.200%, tmpl_death: 0.000%, tmpl_merge: 0.000%, tmpl_split: 0.000%, , uatemplates: 1 , events: 0 "
       ]
      },
      {
       "output_type": "stream",
       "stream": "stdout",
       "text": [
        "\n",
        "saving debug dump to /home/dmoore/python/sigvisa/logs/mcmc/01563/step_000005..."
       ]
      },
      {
       "output_type": "stream",
       "stream": "stdout",
       "text": [
        "\n",
        "saved pickled graph\n",
        "step 5: lp -54.12, accepted arrival_time: 0.833%, coda_decay: 0.000%, coda_height: 0.000%, event_swap: 0.000%, indep_peak: 0.333%, peak_decay: 0.500%, peak_offset: 0.250%, swap_association: 0.000%, tmpl_birth: 0.167%, tmpl_death: 0.000%, tmpl_merge: 0.000%, tmpl_split: 0.000%, , uatemplates: 1 , events: 0 \n",
        "step 6: lp -6.50, accepted arrival_time: 0.857%, coda_decay: 0.143%, coda_height: 0.143%, event_swap: 0.000%, indep_peak: 0.286%, peak_decay: 0.571%, peak_offset: 0.286%, swap_association: 0.000%, tmpl_birth: 0.143%, tmpl_death: 0.000%, tmpl_merge: 0.000%, tmpl_split: 0.000%, , uatemplates: 1 , events: 0 "
       ]
      },
      {
       "output_type": "stream",
       "stream": "stdout",
       "text": [
        "\n",
        "saving debug dump to /home/dmoore/python/sigvisa/logs/mcmc/01563/step_000007..."
       ]
      },
      {
       "output_type": "stream",
       "stream": "stdout",
       "text": [
        "\n",
        "saved pickled graph\n",
        "step 7: lp -5.79, accepted arrival_time: 0.875%, coda_decay: 0.125%, coda_height: 0.125%, event_swap: 0.000%, indep_peak: 0.250%, peak_decay: 0.500%, peak_offset: 0.375%, swap_association: 0.000%, tmpl_birth: 0.125%, tmpl_death: 0.000%, tmpl_merge: 0.000%, tmpl_split: 0.000%, , uatemplates: 1 , events: 0 \n",
        "step 8: lp -5.01, accepted arrival_time: 0.889%, coda_decay: 0.111%, coda_height: 0.111%, event_swap: 0.000%, indep_peak: 0.222%, peak_decay: 0.444%, peak_offset: 0.389%, swap_association: 0.000%, tmpl_birth: 0.111%, tmpl_death: 0.000%, tmpl_merge: 0.000%, tmpl_split: 0.000%, , uatemplates: 1 , events: 0 "
       ]
      },
      {
       "output_type": "stream",
       "stream": "stdout",
       "text": [
        "\n",
        "saving debug dump to /home/dmoore/python/sigvisa/logs/mcmc/01563/step_000009..."
       ]
      },
      {
       "output_type": "stream",
       "stream": "stdout",
       "text": [
        "\n",
        "saved pickled graph\n",
        "step 9: lp 11.69, accepted arrival_time: 0.900%, coda_decay: 0.200%, coda_height: 0.100%, event_swap: 0.000%, indep_peak: 0.200%, peak_decay: 0.500%, peak_offset: 0.400%, swap_association: 0.000%, tmpl_birth: 0.100%, tmpl_death: 0.000%, tmpl_merge: 0.000%, tmpl_split: 0.000%, , uatemplates: 1 , events: 0 \n",
        "step 10: lp 13.17, accepted arrival_time: 0.818%, coda_decay: 0.182%, coda_height: 0.091%, event_repropose: 0.000%, event_swap: 0.000%, indep_peak: 0.182%, peak_decay: 0.455%, peak_offset: 0.409%, swap_association: 0.000%, tmpl_birth: 0.091%, tmpl_death: 0.000%, tmpl_merge: 0.000%, tmpl_split: 0.000%, , uatemplates: 1 , events: 0 "
       ]
      },
      {
       "output_type": "stream",
       "stream": "stdout",
       "text": [
        "\n",
        "saving debug dump to /home/dmoore/python/sigvisa/logs/mcmc/01563/step_000011..."
       ]
      },
      {
       "output_type": "stream",
       "stream": "stdout",
       "text": [
        "\n",
        "saved pickled graph\n",
        "step 11: lp 13.17, accepted arrival_time: 0.750%, coda_decay: 0.167%, coda_height: 0.083%, event_repropose: 0.000%, event_swap: 0.000%, indep_peak: 0.167%, peak_decay: 0.417%, peak_offset: 0.375%, swap_association: 0.000%, tmpl_birth: 0.083%, tmpl_death: 0.000%, tmpl_merge: 0.000%, tmpl_split: 0.000%, , uatemplates: 1 , events: 0 \n",
        "step 12: lp 13.17, accepted arrival_time: 0.692%, coda_decay: 0.154%, coda_height: 0.077%, event_repropose: 0.000%, event_swap: 0.000%, indep_peak: 0.154%, peak_decay: 0.385%, peak_offset: 0.346%, swap_association: 0.000%, tmpl_birth: 0.077%, tmpl_death: 0.000%, tmpl_merge: 0.000%, tmpl_split: 0.000%, , uatemplates: 1 , events: 0 "
       ]
      },
      {
       "output_type": "stream",
       "stream": "stdout",
       "text": [
        "\n",
        "saving debug dump to /home/dmoore/python/sigvisa/logs/mcmc/01563/step_000013..."
       ]
      },
      {
       "output_type": "stream",
       "stream": "stdout",
       "text": [
        "\n",
        "saved pickled graph\n",
        "step 13: lp 13.17, accepted arrival_time: 0.643%, coda_decay: 0.143%, coda_height: 0.071%, event_repropose: 0.000%, event_swap: 0.000%, indep_peak: 0.143%, peak_decay: 0.357%, peak_offset: 0.321%, swap_association: 0.000%, tmpl_birth: 0.071%, tmpl_death: 0.000%, tmpl_merge: 0.000%, tmpl_split: 0.000%, , uatemplates: 1 , events: 0 \n",
        "step 14: lp 13.17, accepted arrival_time: 0.600%, coda_decay: 0.133%, coda_height: 0.067%, event_repropose: 0.000%, event_swap: 0.000%, indep_peak: 0.133%, peak_decay: 0.333%, peak_offset: 0.300%, swap_association: 0.000%, tmpl_birth: 0.067%, tmpl_death: 0.000%, tmpl_merge: 0.000%, tmpl_split: 0.000%, , uatemplates: 1 , events: 0 "
       ]
      },
      {
       "output_type": "stream",
       "stream": "stdout",
       "text": [
        "\n",
        "saving debug dump to /home/dmoore/python/sigvisa/logs/mcmc/01563/step_000015..."
       ]
      },
      {
       "output_type": "stream",
       "stream": "stdout",
       "text": [
        "\n",
        "saved pickled graph\n",
        "step 15: lp 13.17, accepted arrival_time: 0.562%, coda_decay: 0.125%, coda_height: 0.062%, event_repropose: 0.000%, event_swap: 0.000%, indep_peak: 0.125%, peak_decay: 0.312%, peak_offset: 0.281%, swap_association: 0.000%, tmpl_birth: 0.062%, tmpl_death: 0.000%, tmpl_merge: 0.000%, tmpl_split: 0.000%, , uatemplates: 1 , events: 0 \n",
        "step 16: lp 12.97, accepted arrival_time: 0.529%, coda_decay: 0.118%, coda_height: 0.059%, event_repropose: 0.000%, event_swap: 0.000%, indep_peak: 0.118%, peak_decay: 0.294%, peak_offset: 0.294%, swap_association: 0.000%, tmpl_birth: 0.059%, tmpl_death: 0.000%, tmpl_merge: 0.000%, tmpl_split: 0.000%, , uatemplates: 1 , events: 0 "
       ]
      },
      {
       "output_type": "stream",
       "stream": "stdout",
       "text": [
        "\n",
        "saving debug dump to /home/dmoore/python/sigvisa/logs/mcmc/01563/step_000017..."
       ]
      },
      {
       "output_type": "stream",
       "stream": "stdout",
       "text": [
        "\n",
        "saved pickled graph\n",
        "step 17: lp 11.03, accepted arrival_time: 0.556%, coda_decay: 0.111%, coda_height: 0.056%, event_repropose: 0.000%, event_swap: 0.000%, indep_peak: 0.111%, peak_decay: 0.278%, peak_offset: 0.306%, swap_association: 0.000%, tmpl_birth: 0.056%, tmpl_death: 0.000%, tmpl_merge: 0.000%, tmpl_split: 0.000%, , uatemplates: 1 , events: 0 \n",
        "step 18: lp 12.77, accepted arrival_time: 0.579%, coda_decay: 0.105%, coda_height: 0.053%, event_repropose: 0.000%, event_swap: 0.000%, indep_peak: 0.105%, peak_decay: 0.263%, peak_offset: 0.289%, swap_association: 0.000%, tmpl_birth: 0.053%, tmpl_death: 0.000%, tmpl_merge: 0.000%, tmpl_split: 0.000%, , uatemplates: 1 , events: 0 "
       ]
      },
      {
       "output_type": "stream",
       "stream": "stdout",
       "text": [
        "\n",
        "saving debug dump to /home/dmoore/python/sigvisa/logs/mcmc/01563/step_000019..."
       ]
      },
      {
       "output_type": "stream",
       "stream": "stdout",
       "text": [
        "\n",
        "saved pickled graph\n",
        "step 19: lp 12.00, accepted arrival_time: 0.600%, coda_decay: 0.100%, coda_height: 0.050%, event_repropose: 0.000%, event_swap: 0.000%, indep_peak: 0.100%, peak_decay: 0.250%, peak_offset: 0.275%, swap_association: 0.000%, tmpl_birth: 0.050%, tmpl_death: 0.000%, tmpl_merge: 0.000%, tmpl_split: 0.000%, , uatemplates: 1 , events: 0 \n",
        "step 20: lp 15.24, accepted arrival_time: 0.619%, coda_decay: 0.143%, coda_height: 0.048%, event_repropose: 0.000%, event_swap: 0.000%, indep_peak: 0.095%, peak_decay: 0.238%, peak_offset: 0.262%, swap_association: 0.000%, tmpl_birth: 0.048%, tmpl_death: 0.000%, tmpl_merge: 0.000%, tmpl_split: 0.000%, , uatemplates: 1 , events: 0 "
       ]
      },
      {
       "output_type": "stream",
       "stream": "stdout",
       "text": [
        "\n",
        "saving debug dump to /home/dmoore/python/sigvisa/logs/mcmc/01563/step_000021..."
       ]
      },
      {
       "output_type": "stream",
       "stream": "stdout",
       "text": [
        "\n",
        "saved pickled graph\n",
        "step 21: lp 15.24, accepted arrival_time: 0.591%, coda_decay: 0.136%, coda_height: 0.045%, event_repropose: 0.000%, event_swap: 0.000%, indep_peak: 0.091%, peak_decay: 0.227%, peak_offset: 0.250%, swap_association: 0.000%, tmpl_birth: 0.045%, tmpl_death: 0.000%, tmpl_merge: 0.000%, tmpl_split: 0.000%, , uatemplates: 1 , events: 0 \n",
        "step 22: lp 19.35, accepted arrival_time: 0.565%, coda_decay: 0.130%, coda_height: 0.043%, event_repropose: 0.000%, event_swap: 0.000%, indep_peak: 0.087%, peak_decay: 0.261%, peak_offset: 0.239%, swap_association: 0.000%, tmpl_birth: 0.043%, tmpl_death: 0.000%, tmpl_merge: 0.000%, tmpl_split: 0.000%, , uatemplates: 1 , events: 0 "
       ]
      },
      {
       "output_type": "stream",
       "stream": "stdout",
       "text": [
        "\n",
        "saving debug dump to /home/dmoore/python/sigvisa/logs/mcmc/01563/step_000023..."
       ]
      },
      {
       "output_type": "stream",
       "stream": "stdout",
       "text": [
        "\n",
        "saved pickled graph\n",
        "step 23: lp 19.35, accepted arrival_time: 0.542%, coda_decay: 0.125%, coda_height: 0.042%, event_repropose: 0.000%, event_swap: 0.000%, indep_peak: 0.083%, peak_decay: 0.250%, peak_offset: 0.229%, swap_association: 0.000%, tmpl_birth: 0.042%, tmpl_death: 0.000%, tmpl_merge: 0.000%, tmpl_split: 0.000%, , uatemplates: 1 , events: 0 \n",
        "step 24: lp 24.00, accepted arrival_time: 0.520%, coda_decay: 0.120%, coda_height: 0.040%, event_repropose: 0.000%, event_swap: 0.000%, indep_peak: 0.080%, peak_decay: 0.280%, peak_offset: 0.220%, swap_association: 0.000%, tmpl_birth: 0.040%, tmpl_death: 0.000%, tmpl_merge: 0.000%, tmpl_split: 0.000%, , uatemplates: 1 , events: 0 "
       ]
      },
      {
       "output_type": "stream",
       "stream": "stdout",
       "text": [
        "\n",
        "saving debug dump to /home/dmoore/python/sigvisa/logs/mcmc/01563/step_000025..."
       ]
      },
      {
       "output_type": "stream",
       "stream": "stdout",
       "text": [
        "\n",
        "saved pickled graph\n",
        "step 25: lp 24.42, accepted arrival_time: 0.538%, coda_decay: 0.115%, coda_height: 0.038%, event_repropose: 0.000%, event_swap: 0.000%, indep_peak: 0.077%, peak_decay: 0.269%, peak_offset: 0.212%, swap_association: 0.000%, tmpl_birth: 0.038%, tmpl_death: 0.000%, tmpl_merge: 0.000%, tmpl_split: 0.000%, , uatemplates: 1 , events: 0 \n",
        "step 26: lp 25.14, accepted arrival_time: 0.556%, coda_decay: 0.111%, coda_height: 0.037%, event_repropose: 0.000%, event_swap: 0.000%, indep_peak: 0.074%, peak_decay: 0.259%, peak_offset: 0.204%, swap_association: 0.000%, tmpl_birth: 0.037%, tmpl_death: 0.000%, tmpl_merge: 0.000%, tmpl_split: 0.000%, , uatemplates: 1 , events: 0 "
       ]
      },
      {
       "output_type": "stream",
       "stream": "stdout",
       "text": [
        "\n",
        "saving debug dump to /home/dmoore/python/sigvisa/logs/mcmc/01563/step_000027..."
       ]
      },
      {
       "output_type": "stream",
       "stream": "stdout",
       "text": [
        "\n",
        "saved pickled graph\n",
        "step 27: lp 25.14, accepted arrival_time: 0.536%, coda_decay: 0.107%, coda_height: 0.036%, event_repropose: 0.000%, event_swap: 0.000%, indep_peak: 0.071%, peak_decay: 0.250%, peak_offset: 0.196%, swap_association: 0.000%, tmpl_birth: 0.036%, tmpl_death: 0.000%, tmpl_merge: 0.000%, tmpl_split: 0.000%, , uatemplates: 1 , events: 0 \n",
        "step 28: lp 25.95, accepted arrival_time: 0.517%, coda_decay: 0.103%, coda_height: 0.034%, event_repropose: 0.000%, event_swap: 0.000%, indep_peak: 0.069%, peak_decay: 0.276%, peak_offset: 0.190%, swap_association: 0.000%, tmpl_birth: 0.034%, tmpl_death: 0.000%, tmpl_merge: 0.000%, tmpl_split: 0.000%, , uatemplates: 1 , events: 0 "
       ]
      },
      {
       "output_type": "stream",
       "stream": "stdout",
       "text": [
        "\n",
        "saving debug dump to /home/dmoore/python/sigvisa/logs/mcmc/01563/step_000029..."
       ]
      },
      {
       "output_type": "stream",
       "stream": "stdout",
       "text": [
        "\n",
        "saved pickled graph\n",
        "step 29: lp 25.95, accepted arrival_time: 0.500%, coda_decay: 0.100%, coda_height: 0.033%, event_repropose: 0.000%, event_swap: 0.000%, indep_peak: 0.067%, peak_decay: 0.267%, peak_offset: 0.183%, swap_association: 0.000%, tmpl_birth: 0.033%, tmpl_death: 0.000%, tmpl_merge: 0.000%, tmpl_split: 0.000%, , uatemplates: 1 , events: 0 \n",
        "step 30: lp 25.95, accepted arrival_time: 0.484%, coda_decay: 0.097%, coda_height: 0.032%, event_repropose: 0.000%, event_swap: 0.000%, indep_peak: 0.065%, peak_decay: 0.258%, peak_offset: 0.177%, swap_association: 0.000%, tmpl_birth: 0.032%, tmpl_death: 0.000%, tmpl_merge: 0.000%, tmpl_split: 0.000%, , uatemplates: 1 , events: 0 "
       ]
      },
      {
       "output_type": "stream",
       "stream": "stdout",
       "text": [
        "\n",
        "saving debug dump to /home/dmoore/python/sigvisa/logs/mcmc/01563/step_000031..."
       ]
      },
      {
       "output_type": "stream",
       "stream": "stdout",
       "text": [
        "\n",
        "saved pickled graph\n",
        "step 31: lp 25.95, accepted arrival_time: 0.469%, coda_decay: 0.094%, coda_height: 0.031%, event_repropose: 0.000%, event_swap: 0.000%, indep_peak: 0.062%, peak_decay: 0.250%, peak_offset: 0.172%, swap_association: 0.000%, tmpl_birth: 0.031%, tmpl_death: 0.000%, tmpl_merge: 0.000%, tmpl_split: 0.000%, , uatemplates: 1 , events: 0 \n",
        "step 32: lp 25.95, accepted arrival_time: 0.455%, coda_decay: 0.091%, coda_height: 0.030%, event_repropose: 0.000%, event_swap: 0.000%, indep_peak: 0.061%, peak_decay: 0.242%, peak_offset: 0.167%, swap_association: 0.000%, tmpl_birth: 0.030%, tmpl_death: 0.000%, tmpl_merge: 0.000%, tmpl_split: 0.000%, , uatemplates: 1 , events: 0 "
       ]
      },
      {
       "output_type": "stream",
       "stream": "stdout",
       "text": [
        "\n",
        "saving debug dump to /home/dmoore/python/sigvisa/logs/mcmc/01563/step_000033..."
       ]
      },
      {
       "output_type": "stream",
       "stream": "stdout",
       "text": [
        "\n",
        "saved pickled graph\n",
        "step 33: lp 83.73, accepted arrival_time: 0.457%, coda_decay: 0.086%, coda_height: 0.057%, event_repropose: 0.000%, event_swap: 0.000%, indep_peak: 0.057%, peak_decay: 0.229%, peak_offset: 0.157%, swap_association: 0.000%, tmpl_birth: 0.059%, tmpl_death: 0.000%, tmpl_merge: 0.000%, tmpl_split: 0.000%, , uatemplates: 2 , events: 0 \n",
        "step 34: lp 84.30, accepted arrival_time: 0.459%, coda_decay: 0.081%, coda_height: 0.054%, event_repropose: 0.000%, event_swap: 0.000%, indep_peak: 0.054%, peak_decay: 0.216%, peak_offset: 0.162%, swap_association: 0.000%, tmpl_birth: 0.057%, tmpl_death: 0.000%, tmpl_merge: 0.000%, tmpl_split: 0.000%, , uatemplates: 2 , events: 0 "
       ]
      },
      {
       "output_type": "stream",
       "stream": "stdout",
       "text": [
        "\n",
        "saving debug dump to /home/dmoore/python/sigvisa/logs/mcmc/01563/step_000035..."
       ]
      },
      {
       "output_type": "stream",
       "stream": "stdout",
       "text": [
        "\n",
        "saved pickled graph\n",
        "step 35: lp 84.30, accepted arrival_time: 0.436%, coda_decay: 0.077%, coda_height: 0.051%, event_repropose: 0.000%, event_swap: 0.000%, indep_peak: 0.051%, peak_decay: 0.205%, peak_offset: 0.154%, swap_association: 0.000%, tmpl_birth: 0.056%, tmpl_death: 0.000%, tmpl_merge: 0.000%, tmpl_split: 0.000%, , uatemplates: 2 , events: 0 \n",
        "step 36: lp 84.32, accepted arrival_time: 0.439%, coda_decay: 0.073%, coda_height: 0.049%, event_repropose: 0.000%, event_swap: 0.000%, indep_peak: 0.049%, peak_decay: 0.195%, peak_offset: 0.146%, swap_association: 0.000%, tmpl_birth: 0.054%, tmpl_death: 0.000%, tmpl_merge: 0.000%, tmpl_split: 0.000%, , uatemplates: 2 , events: 0 "
       ]
      },
      {
       "output_type": "stream",
       "stream": "stdout",
       "text": [
        "\n",
        "saving debug dump to /home/dmoore/python/sigvisa/logs/mcmc/01563/step_000037..."
       ]
      },
      {
       "output_type": "stream",
       "stream": "stdout",
       "text": [
        "\n",
        "saved pickled graph\n",
        "step 37: lp 84.62, accepted arrival_time: 0.442%, coda_decay: 0.070%, coda_height: 0.047%, event_repropose: 0.000%, event_swap: 0.000%, indep_peak: 0.047%, peak_decay: 0.186%, peak_offset: 0.140%, swap_association: 0.000%, tmpl_birth: 0.053%, tmpl_death: 0.000%, tmpl_merge: 0.000%, tmpl_split: 0.000%, , uatemplates: 2 , events: 0 \n",
        "step 38: lp 85.02, accepted arrival_time: 0.444%, coda_decay: 0.067%, coda_height: 0.044%, event_repropose: 0.000%, event_swap: 0.000%, indep_peak: 0.044%, peak_decay: 0.178%, peak_offset: 0.144%, swap_association: 0.000%, tmpl_birth: 0.051%, tmpl_death: 0.000%, tmpl_merge: 0.000%, tmpl_split: 0.000%, , uatemplates: 2 , events: 0 "
       ]
      },
      {
       "output_type": "stream",
       "stream": "stdout",
       "text": [
        "\n",
        "saving debug dump to /home/dmoore/python/sigvisa/logs/mcmc/01563/step_000039..."
       ]
      },
      {
       "output_type": "stream",
       "stream": "stdout",
       "text": [
        "\n",
        "saved pickled graph\n",
        "step 39: lp 84.55, accepted arrival_time: 0.447%, coda_decay: 0.064%, coda_height: 0.043%, event_repropose: 0.000%, event_swap: 0.000%, indep_peak: 0.043%, peak_decay: 0.170%, peak_offset: 0.160%, swap_association: 0.000%, tmpl_birth: 0.050%, tmpl_death: 0.000%, tmpl_merge: 0.000%, tmpl_split: 0.000%, , uatemplates: 2 , events: 0 \n",
        "step 40: lp 84.55, accepted arrival_time: 0.429%, coda_decay: 0.061%, coda_height: 0.041%, event_repropose: 0.000%, event_swap: 0.000%, indep_peak: 0.041%, peak_decay: 0.163%, peak_offset: 0.153%, swap_association: 0.000%, tmpl_birth: 0.049%, tmpl_death: 0.000%, tmpl_merge: 0.000%, tmpl_split: 0.000%, , uatemplates: 2 , events: 0 "
       ]
      },
      {
       "output_type": "stream",
       "stream": "stdout",
       "text": [
        "\n",
        "saving debug dump to /home/dmoore/python/sigvisa/logs/mcmc/01563/step_000041..."
       ]
      },
      {
       "output_type": "stream",
       "stream": "stdout",
       "text": [
        "\n",
        "saved pickled graph\n",
        "step 41: lp 81.40, accepted arrival_time: 0.431%, coda_decay: 0.078%, coda_height: 0.039%, event_repropose: 0.000%, event_swap: 0.000%, indep_peak: 0.039%, peak_decay: 0.157%, peak_offset: 0.157%, swap_association: 0.000%, tmpl_birth: 0.048%, tmpl_death: 0.000%, tmpl_merge: 0.000%, tmpl_split: 0.000%, , uatemplates: 2 , events: 0 \n",
        "step 42: lp 83.67, accepted arrival_time: 0.434%, coda_decay: 0.075%, coda_height: 0.038%, event_repropose: 0.000%, event_swap: 0.000%, indep_peak: 0.038%, peak_decay: 0.170%, peak_offset: 0.151%, swap_association: 0.000%, tmpl_birth: 0.047%, tmpl_death: 0.000%, tmpl_merge: 0.000%, tmpl_split: 0.000%, , uatemplates: 2 , events: 0 "
       ]
      },
      {
       "output_type": "stream",
       "stream": "stdout",
       "text": [
        "\n",
        "saving debug dump to /home/dmoore/python/sigvisa/logs/mcmc/01563/step_000043..."
       ]
      },
      {
       "output_type": "stream",
       "stream": "stdout",
       "text": [
        "\n",
        "saved pickled graph\n",
        "step 43: lp 83.44, accepted arrival_time: 0.436%, coda_decay: 0.073%, coda_height: 0.036%, event_repropose: 0.000%, event_swap: 0.000%, indep_peak: 0.036%, peak_decay: 0.164%, peak_offset: 0.155%, swap_association: 0.000%, tmpl_birth: 0.045%, tmpl_death: 0.000%, tmpl_merge: 0.000%, tmpl_split: 0.000%, , uatemplates: 2 , events: 0 \n",
        "step 44: lp 84.74, accepted arrival_time: 0.439%, coda_decay: 0.088%, coda_height: 0.035%, event_repropose: 0.000%, event_swap: 0.000%, indep_peak: 0.035%, peak_decay: 0.158%, peak_offset: 0.167%, swap_association: 0.000%, tmpl_birth: 0.044%, tmpl_death: 0.000%, tmpl_merge: 0.000%, tmpl_split: 0.000%, , uatemplates: 2 , events: 0 "
       ]
      },
      {
       "output_type": "stream",
       "stream": "stdout",
       "text": [
        "\n",
        "saving debug dump to /home/dmoore/python/sigvisa/logs/mcmc/01563/step_000045..."
       ]
      },
      {
       "output_type": "stream",
       "stream": "stdout",
       "text": [
        "\n",
        "saved pickled graph\n",
        "step 45: lp 84.78, accepted arrival_time: 0.441%, coda_decay: 0.085%, coda_height: 0.034%, event_repropose: 0.000%, event_swap: 0.000%, indep_peak: 0.034%, peak_decay: 0.153%, peak_offset: 0.161%, swap_association: 0.000%, tmpl_birth: 0.043%, tmpl_death: 0.000%, tmpl_merge: 0.000%, tmpl_split: 0.000%, , uatemplates: 2 , events: 0 \n",
        "step 46: lp 84.78, accepted arrival_time: 0.426%, coda_decay: 0.082%, coda_height: 0.033%, event_repropose: 0.000%, event_swap: 0.000%, indep_peak: 0.033%, peak_decay: 0.148%, peak_offset: 0.156%, swap_association: 0.000%, tmpl_birth: 0.043%, tmpl_death: 0.000%, tmpl_merge: 0.000%, tmpl_split: 0.000%, , uatemplates: 2 , events: 0 "
       ]
      },
      {
       "output_type": "stream",
       "stream": "stdout",
       "text": [
        "\n",
        "saving debug dump to /home/dmoore/python/sigvisa/logs/mcmc/01563/step_000047..."
       ]
      },
      {
       "output_type": "stream",
       "stream": "stdout",
       "text": [
        "\n",
        "saved pickled graph\n",
        "step 47: lp 87.60, accepted arrival_time: 0.413%, coda_decay: 0.095%, coda_height: 0.032%, event_repropose: 0.000%, event_swap: 0.000%, indep_peak: 0.032%, peak_decay: 0.143%, peak_offset: 0.151%, swap_association: 0.000%, tmpl_birth: 0.042%, tmpl_death: 0.000%, tmpl_merge: 0.000%, tmpl_split: 0.000%, , uatemplates: 2 , events: 0 \n",
        "step 48: lp 87.60, accepted arrival_time: 0.400%, coda_decay: 0.092%, coda_height: 0.031%, event_repropose: 0.000%, event_swap: 0.000%, indep_peak: 0.031%, peak_decay: 0.138%, peak_offset: 0.146%, swap_association: 0.000%, tmpl_birth: 0.041%, tmpl_death: 0.000%, tmpl_merge: 0.000%, tmpl_split: 0.000%, , uatemplates: 2 , events: 0 "
       ]
      },
      {
       "output_type": "stream",
       "stream": "stdout",
       "text": [
        "\n",
        "saving debug dump to /home/dmoore/python/sigvisa/logs/mcmc/01563/step_000049..."
       ]
      },
      {
       "output_type": "stream",
       "stream": "stdout",
       "text": [
        "\n",
        "saved pickled graph\n",
        "step 49: lp 88.35, accepted arrival_time: 0.388%, coda_decay: 0.104%, coda_height: 0.030%, event_repropose: 0.000%, event_swap: 0.000%, indep_peak: 0.030%, peak_decay: 0.149%, peak_offset: 0.142%, swap_association: 0.000%, tmpl_birth: 0.040%, tmpl_death: 0.000%, tmpl_merge: 0.000%, tmpl_split: 0.000%, , uatemplates: 2 , events: 0 \n",
        "step 50: lp 88.23, accepted arrival_time: 0.377%, coda_decay: 0.101%, coda_height: 0.029%, event_repropose: 0.000%, event_swap: 0.000%, indep_peak: 0.029%, peak_decay: 0.145%, peak_offset: 0.152%, swap_association: 0.000%, tmpl_birth: 0.039%, tmpl_death: 0.000%, tmpl_merge: 0.000%, tmpl_split: 0.000%, , uatemplates: 2 , events: 0 "
       ]
      },
      {
       "output_type": "stream",
       "stream": "stdout",
       "text": [
        "\n",
        "saving debug dump to /home/dmoore/python/sigvisa/logs/mcmc/01563/step_000051..."
       ]
      },
      {
       "output_type": "stream",
       "stream": "stdout",
       "text": [
        "\n",
        "saved pickled graph\n",
        "step 51: lp 88.52, accepted arrival_time: 0.380%, coda_decay: 0.099%, coda_height: 0.028%, event_repropose: 0.000%, event_swap: 0.000%, indep_peak: 0.028%, peak_decay: 0.141%, peak_offset: 0.148%, swap_association: 0.000%, tmpl_birth: 0.038%, tmpl_death: 0.000%, tmpl_merge: 0.000%, tmpl_split: 0.000%, , uatemplates: 2 , events: 0 \n",
        "step 52: lp 88.52, accepted arrival_time: 0.370%, coda_decay: 0.096%, coda_height: 0.027%, event_repropose: 0.000%, event_swap: 0.000%, indep_peak: 0.027%, peak_decay: 0.137%, peak_offset: 0.144%, swap_association: 0.000%, tmpl_birth: 0.038%, tmpl_death: 0.000%, tmpl_merge: 0.000%, tmpl_split: 0.000%, , uatemplates: 2 , events: 0 "
       ]
      },
      {
       "output_type": "stream",
       "stream": "stdout",
       "text": [
        "\n",
        "saving debug dump to /home/dmoore/python/sigvisa/logs/mcmc/01563/step_000053..."
       ]
      },
      {
       "output_type": "stream",
       "stream": "stdout",
       "text": [
        "\n",
        "saved pickled graph\n",
        "step 53: lp 88.49, accepted arrival_time: 0.360%, coda_decay: 0.093%, coda_height: 0.027%, event_repropose: 0.000%, event_swap: 0.000%, indep_peak: 0.027%, peak_decay: 0.133%, peak_offset: 0.147%, swap_association: 0.000%, tmpl_birth: 0.037%, tmpl_death: 0.000%, tmpl_merge: 0.000%, tmpl_split: 0.000%, , uatemplates: 2 , events: 0 \n",
        "step 54: lp 85.11, accepted arrival_time: 0.377%, coda_decay: 0.091%, coda_height: 0.039%, event_repropose: 0.000%, event_swap: 0.000%, indep_peak: 0.026%, peak_decay: 0.130%, peak_offset: 0.156%, swap_association: 0.000%, tmpl_birth: 0.036%, tmpl_death: 0.000%, tmpl_merge: 0.000%, tmpl_split: 0.000%, , uatemplates: 2 , events: 0 "
       ]
      },
      {
       "output_type": "stream",
       "stream": "stdout",
       "text": [
        "\n",
        "saving debug dump to /home/dmoore/python/sigvisa/logs/mcmc/01563/step_000055..."
       ]
      },
      {
       "output_type": "stream",
       "stream": "stdout",
       "text": [
        "\n",
        "saved pickled graph\n",
        "step 55: lp 87.05, accepted arrival_time: 0.380%, coda_decay: 0.089%, coda_height: 0.038%, event_repropose: 0.000%, event_swap: 0.000%, indep_peak: 0.025%, peak_decay: 0.139%, peak_offset: 0.158%, swap_association: 0.000%, tmpl_birth: 0.036%, tmpl_death: 0.000%, tmpl_merge: 0.000%, tmpl_split: 0.000%, , uatemplates: 2 , events: 0 \n",
        "step 56: lp 88.42, accepted arrival_time: 0.383%, coda_decay: 0.099%, coda_height: 0.037%, event_repropose: 0.000%, event_swap: 0.000%, indep_peak: 0.025%, peak_decay: 0.136%, peak_offset: 0.167%, swap_association: 0.000%, tmpl_birth: 0.035%, tmpl_death: 0.000%, tmpl_merge: 0.000%, tmpl_split: 0.000%, , uatemplates: 2 , events: 0 "
       ]
      },
      {
       "output_type": "stream",
       "stream": "stdout",
       "text": [
        "\n",
        "saving debug dump to /home/dmoore/python/sigvisa/logs/mcmc/01563/step_000057..."
       ]
      },
      {
       "output_type": "stream",
       "stream": "stdout",
       "text": [
        "\n",
        "saved pickled graph\n",
        "step 57: lp 84.75, accepted arrival_time: 0.386%, coda_decay: 0.096%, coda_height: 0.036%, event_repropose: 0.000%, event_swap: 0.000%, indep_peak: 0.024%, peak_decay: 0.133%, peak_offset: 0.175%, swap_association: 0.000%, tmpl_birth: 0.034%, tmpl_death: 0.000%, tmpl_merge: 0.000%, tmpl_split: 0.000%, , uatemplates: 2 , events: 0 \n",
        "step 58: lp 86.77, accepted arrival_time: 0.400%, coda_decay: 0.094%, coda_height: 0.035%, event_repropose: 0.000%, event_swap: 0.000%, indep_peak: 0.024%, peak_decay: 0.141%, peak_offset: 0.188%, swap_association: 0.000%, tmpl_birth: 0.034%, tmpl_death: 0.000%, tmpl_merge: 0.000%, tmpl_split: 0.000%, , uatemplates: 2 , events: 0 "
       ]
      },
      {
       "output_type": "stream",
       "stream": "stdout",
       "text": [
        "\n",
        "saving debug dump to /home/dmoore/python/sigvisa/logs/mcmc/01563/step_000059..."
       ]
      },
      {
       "output_type": "stream",
       "stream": "stdout",
       "text": [
        "\n",
        "saved pickled graph\n",
        "step 59: lp 88.03, accepted arrival_time: 0.402%, coda_decay: 0.092%, coda_height: 0.034%, event_repropose: 0.000%, event_swap: 0.000%, indep_peak: 0.023%, peak_decay: 0.138%, peak_offset: 0.190%, swap_association: 0.000%, tmpl_birth: 0.033%, tmpl_death: 0.000%, tmpl_merge: 0.000%, tmpl_split: 0.000%, , uatemplates: 2 , events: 0 \n",
        "step 60: lp 88.04, accepted arrival_time: 0.404%, coda_decay: 0.090%, coda_height: 0.034%, event_repropose: 0.000%, event_swap: 0.000%, indep_peak: 0.022%, peak_decay: 0.146%, peak_offset: 0.185%, swap_association: 0.000%, tmpl_birth: 0.033%, tmpl_death: 0.000%, tmpl_merge: 0.000%, tmpl_split: 0.000%, , uatemplates: 2 , events: 0 "
       ]
      },
      {
       "output_type": "stream",
       "stream": "stdout",
       "text": [
        "\n",
        "saving debug dump to /home/dmoore/python/sigvisa/logs/mcmc/01563/step_000061..."
       ]
      },
      {
       "output_type": "stream",
       "stream": "stdout",
       "text": [
        "\n",
        "saved pickled graph\n",
        "step 61: lp 87.86, accepted arrival_time: 0.407%, coda_decay: 0.088%, coda_height: 0.033%, event_repropose: 0.000%, event_swap: 0.000%, indep_peak: 0.022%, peak_decay: 0.154%, peak_offset: 0.181%, swap_association: 0.000%, tmpl_birth: 0.032%, tmpl_death: 0.000%, tmpl_merge: 0.000%, tmpl_split: 0.000%, , uatemplates: 2 , events: 0 \n",
        "step 62: lp 88.48, accepted arrival_time: 0.409%, coda_decay: 0.086%, coda_height: 0.032%, event_repropose: 0.000%, event_swap: 0.000%, indep_peak: 0.022%, peak_decay: 0.151%, peak_offset: 0.183%, swap_association: 0.000%, tmpl_birth: 0.032%, tmpl_death: 0.000%, tmpl_merge: 0.000%, tmpl_split: 0.000%, , uatemplates: 2 , events: 0 "
       ]
      },
      {
       "output_type": "stream",
       "stream": "stdout",
       "text": [
        "\n",
        "saving debug dump to /home/dmoore/python/sigvisa/logs/mcmc/01563/step_000063..."
       ]
      },
      {
       "output_type": "stream",
       "stream": "stdout",
       "text": [
        "\n",
        "saved pickled graph\n",
        "step 63: lp 87.82, accepted arrival_time: 0.411%, coda_decay: 0.084%, coda_height: 0.032%, event_repropose: 0.000%, event_swap: 0.000%, indep_peak: 0.021%, peak_decay: 0.147%, peak_offset: 0.184%, swap_association: 0.000%, tmpl_birth: 0.031%, tmpl_death: 0.000%, tmpl_merge: 0.000%, tmpl_split: 0.000%, , uatemplates: 2 , events: 0 \n",
        "step 64: lp 88.45, accepted arrival_time: 0.402%, coda_decay: 0.082%, coda_height: 0.031%, event_repropose: 0.000%, event_swap: 0.000%, indep_peak: 0.021%, peak_decay: 0.155%, peak_offset: 0.186%, swap_association: 0.000%, tmpl_birth: 0.031%, tmpl_death: 0.000%, tmpl_merge: 0.000%, tmpl_split: 0.000%, , uatemplates: 2 , events: 0 "
       ]
      },
      {
       "output_type": "stream",
       "stream": "stdout",
       "text": [
        "\n",
        "saving debug dump to /home/dmoore/python/sigvisa/logs/mcmc/01563/step_000065..."
       ]
      },
      {
       "output_type": "stream",
       "stream": "stdout",
       "text": [
        "\n",
        "saved pickled graph\n",
        "step 65: lp 88.02, accepted arrival_time: 0.404%, coda_decay: 0.081%, coda_height: 0.030%, event_repropose: 0.000%, event_swap: 0.000%, indep_peak: 0.020%, peak_decay: 0.152%, peak_offset: 0.187%, swap_association: 0.000%, tmpl_birth: 0.030%, tmpl_death: 0.000%, tmpl_merge: 0.000%, tmpl_split: 0.000%, , uatemplates: 2 , events: 0 \n",
        "step 66: lp 87.86, accepted arrival_time: 0.406%, coda_decay: 0.079%, coda_height: 0.030%, event_repropose: 0.000%, event_swap: 0.000%, indep_peak: 0.020%, peak_decay: 0.149%, peak_offset: 0.183%, swap_association: 0.000%, tmpl_birth: 0.030%, tmpl_death: 0.000%, tmpl_merge: 0.000%, tmpl_split: 0.000%, , uatemplates: 2 , events: 0 "
       ]
      },
      {
       "output_type": "stream",
       "stream": "stdout",
       "text": [
        "\n",
        "saving debug dump to /home/dmoore/python/sigvisa/logs/mcmc/01563/step_000067..."
       ]
      },
      {
       "output_type": "stream",
       "stream": "stdout",
       "text": [
        "\n",
        "saved pickled graph\n",
        "step 67: lp 87.56, accepted arrival_time: 0.398%, coda_decay: 0.078%, coda_height: 0.029%, event_repropose: 0.000%, event_swap: 0.000%, indep_peak: 0.019%, peak_decay: 0.146%, peak_offset: 0.184%, swap_association: 0.000%, tmpl_birth: 0.029%, tmpl_death: 0.000%, tmpl_merge: 0.000%, tmpl_split: 0.000%, , uatemplates: 2 , events: 0 \n",
        "step 68: lp 89.23, accepted arrival_time: 0.410%, coda_decay: 0.086%, coda_height: 0.029%, event_repropose: 0.000%, event_swap: 0.000%, indep_peak: 0.019%, peak_decay: 0.143%, peak_offset: 0.186%, swap_association: 0.000%, tmpl_birth: 0.029%, tmpl_death: 0.000%, tmpl_merge: 0.000%, tmpl_split: 0.000%, , uatemplates: 2 , events: 0 "
       ]
      },
      {
       "output_type": "stream",
       "stream": "stdout",
       "text": [
        "\n",
        "saving debug dump to /home/dmoore/python/sigvisa/logs/mcmc/01563/step_000069..."
       ]
      },
      {
       "output_type": "stream",
       "stream": "stdout",
       "text": [
        "\n",
        "saved pickled graph\n",
        "step 69: lp 90.46, accepted arrival_time: 0.411%, coda_decay: 0.084%, coda_height: 0.028%, event_repropose: 0.000%, event_swap: 0.000%, indep_peak: 0.019%, peak_decay: 0.140%, peak_offset: 0.182%, swap_association: 0.000%, tmpl_birth: 0.029%, tmpl_death: 0.000%, tmpl_merge: 0.000%, tmpl_split: 0.000%, , uatemplates: 2 , events: 0 \n",
        "step 70: lp 86.25, accepted arrival_time: 0.422%, coda_decay: 0.083%, coda_height: 0.028%, event_repropose: 0.000%, event_swap: 0.000%, indep_peak: 0.018%, peak_decay: 0.138%, peak_offset: 0.183%, swap_association: 0.000%, tmpl_birth: 0.028%, tmpl_death: 0.000%, tmpl_merge: 0.000%, tmpl_split: 0.000%, , uatemplates: 2 , events: 0 "
       ]
      },
      {
       "output_type": "stream",
       "stream": "stdout",
       "text": [
        "\n",
        "saving debug dump to /home/dmoore/python/sigvisa/logs/mcmc/01563/step_000071..."
       ]
      },
      {
       "output_type": "stream",
       "stream": "stdout",
       "text": [
        "\n",
        "saved pickled graph\n",
        "step 71: lp 86.08, accepted arrival_time: 0.423%, coda_decay: 0.090%, coda_height: 0.027%, event_repropose: 0.000%, event_swap: 0.000%, indep_peak: 0.018%, peak_decay: 0.135%, peak_offset: 0.180%, swap_association: 0.000%, tmpl_birth: 0.028%, tmpl_death: 0.000%, tmpl_merge: 0.000%, tmpl_split: 0.000%, , uatemplates: 2 , events: 0 \n",
        "step 72: lp 88.33, accepted arrival_time: 0.425%, coda_decay: 0.088%, coda_height: 0.027%, event_repropose: 0.000%, event_swap: 0.000%, indep_peak: 0.018%, peak_decay: 0.142%, peak_offset: 0.186%, swap_association: 0.000%, tmpl_birth: 0.027%, tmpl_death: 0.000%, tmpl_merge: 0.000%, tmpl_split: 0.000%, , uatemplates: 2 , events: 0 "
       ]
      },
      {
       "output_type": "stream",
       "stream": "stdout",
       "text": [
        "\n",
        "saving debug dump to /home/dmoore/python/sigvisa/logs/mcmc/01563/step_000073..."
       ]
      },
      {
       "output_type": "stream",
       "stream": "stdout",
       "text": [
        "\n",
        "saved pickled graph\n",
        "step 73: lp 90.87, accepted arrival_time: 0.417%, coda_decay: 0.087%, coda_height: 0.026%, event_repropose: 0.000%, event_swap: 0.000%, indep_peak: 0.017%, peak_decay: 0.139%, peak_offset: 0.187%, swap_association: 0.000%, tmpl_birth: 0.027%, tmpl_death: 0.000%, tmpl_merge: 0.000%, tmpl_split: 0.000%, , uatemplates: 2 , events: 0 \n",
        "step 74: lp 90.81, accepted arrival_time: 0.410%, coda_decay: 0.085%, coda_height: 0.026%, event_repropose: 0.000%, event_swap: 0.000%, indep_peak: 0.017%, peak_decay: 0.137%, peak_offset: 0.188%, swap_association: 0.000%, tmpl_birth: 0.027%, tmpl_death: 0.000%, tmpl_merge: 0.000%, tmpl_split: 0.000%, , uatemplates: 2 , events: 0 "
       ]
      },
      {
       "output_type": "stream",
       "stream": "stdout",
       "text": [
        "\n",
        "saving debug dump to /home/dmoore/python/sigvisa/logs/mcmc/01563/step_000075..."
       ]
      },
      {
       "output_type": "stream",
       "stream": "stdout",
       "text": [
        "\n",
        "saved pickled graph\n",
        "step 75: lp 91.68, accepted arrival_time: 0.403%, coda_decay: 0.084%, coda_height: 0.025%, event_repropose: 0.000%, event_swap: 0.000%, indep_peak: 0.017%, peak_decay: 0.143%, peak_offset: 0.185%, swap_association: 0.000%, tmpl_birth: 0.026%, tmpl_death: 0.000%, tmpl_merge: 0.000%, tmpl_split: 0.000%, , uatemplates: 2 , events: 0 \n",
        "step 76: lp 91.12, accepted arrival_time: 0.405%, coda_decay: 0.083%, coda_height: 0.025%, event_repropose: 0.000%, event_swap: 0.000%, indep_peak: 0.017%, peak_decay: 0.140%, peak_offset: 0.182%, swap_association: 0.000%, tmpl_birth: 0.026%, tmpl_death: 0.000%, tmpl_merge: 0.000%, tmpl_split: 0.000%, , uatemplates: 2 , events: 0 "
       ]
      },
      {
       "output_type": "stream",
       "stream": "stdout",
       "text": [
        "\n",
        "saving debug dump to /home/dmoore/python/sigvisa/logs/mcmc/01563/step_000077..."
       ]
      },
      {
       "output_type": "stream",
       "stream": "stdout",
       "text": [
        "\n",
        "saved pickled graph\n",
        "step 77: lp 90.35, accepted arrival_time: 0.407%, coda_decay: 0.081%, coda_height: 0.024%, event_repropose: 0.000%, event_swap: 0.000%, indep_peak: 0.016%, peak_decay: 0.138%, peak_offset: 0.183%, swap_association: 0.000%, tmpl_birth: 0.026%, tmpl_death: 0.000%, tmpl_merge: 0.000%, tmpl_split: 0.000%, , uatemplates: 2 , events: 0 \n",
        "step 78: lp 90.13, accepted arrival_time: 0.400%, coda_decay: 0.080%, coda_height: 0.024%, event_repropose: 0.000%, event_swap: 0.000%, indep_peak: 0.016%, peak_decay: 0.136%, peak_offset: 0.184%, swap_association: 0.000%, tmpl_birth: 0.025%, tmpl_death: 0.000%, tmpl_merge: 0.000%, tmpl_split: 0.000%, , uatemplates: 2 , events: 0 "
       ]
      },
      {
       "output_type": "stream",
       "stream": "stdout",
       "text": [
        "\n",
        "saving debug dump to /home/dmoore/python/sigvisa/logs/mcmc/01563/step_000079..."
       ]
      },
      {
       "output_type": "stream",
       "stream": "stdout",
       "text": [
        "\n",
        "saved pickled graph\n",
        "step 79: lp 90.01, accepted arrival_time: 0.402%, coda_decay: 0.079%, coda_height: 0.024%, event_repropose: 0.000%, event_swap: 0.000%, indep_peak: 0.016%, peak_decay: 0.134%, peak_offset: 0.181%, swap_association: 0.000%, tmpl_birth: 0.025%, tmpl_death: 0.000%, tmpl_merge: 0.000%, tmpl_split: 0.000%, , uatemplates: 2 , events: 0 \n",
        "step 80: lp 89.71, accepted arrival_time: 0.403%, coda_decay: 0.078%, coda_height: 0.023%, event_repropose: 0.000%, event_swap: 0.000%, indep_peak: 0.016%, peak_decay: 0.132%, peak_offset: 0.178%, swap_association: 0.000%, tmpl_birth: 0.025%, tmpl_death: 0.000%, tmpl_merge: 0.000%, tmpl_split: 0.000%, , uatemplates: 2 , events: 0 "
       ]
      },
      {
       "output_type": "stream",
       "stream": "stdout",
       "text": [
        "\n",
        "saving debug dump to /home/dmoore/python/sigvisa/logs/mcmc/01563/step_000081..."
       ]
      },
      {
       "output_type": "stream",
       "stream": "stdout",
       "text": [
        "\n",
        "saved pickled graph\n",
        "step 81: lp 90.95, accepted arrival_time: 0.405%, coda_decay: 0.076%, coda_height: 0.023%, event_repropose: 0.000%, event_swap: 0.000%, indep_peak: 0.015%, peak_decay: 0.137%, peak_offset: 0.179%, swap_association: 0.000%, tmpl_birth: 0.024%, tmpl_death: 0.000%, tmpl_merge: 0.000%, tmpl_split: 0.000%, , uatemplates: 2 , events: 0 \n",
        "step 82: lp 90.65, accepted arrival_time: 0.406%, coda_decay: 0.083%, coda_height: 0.023%, event_repropose: 0.000%, event_swap: 0.000%, indep_peak: 0.015%, peak_decay: 0.135%, peak_offset: 0.177%, swap_association: 0.000%, tmpl_birth: 0.024%, tmpl_death: 0.000%, tmpl_merge: 0.000%, tmpl_split: 0.000%, , uatemplates: 2 , events: 0 "
       ]
      },
      {
       "output_type": "stream",
       "stream": "stdout",
       "text": [
        "\n",
        "saving debug dump to /home/dmoore/python/sigvisa/logs/mcmc/01563/step_000083..."
       ]
      },
      {
       "output_type": "stream",
       "stream": "stdout",
       "text": [
        "\n",
        "saved pickled graph\n",
        "step 83: lp 90.96, accepted arrival_time: 0.407%, coda_decay: 0.081%, coda_height: 0.022%, event_repropose: 0.000%, event_swap: 0.000%, indep_peak: 0.015%, peak_decay: 0.133%, peak_offset: 0.174%, swap_association: 0.000%, tmpl_birth: 0.024%, tmpl_death: 0.000%, tmpl_merge: 0.000%, tmpl_split: 0.000%, , uatemplates: 2 , events: 0 \n",
        "step 84: lp 84.81, accepted arrival_time: 0.401%, coda_decay: 0.088%, coda_height: 0.029%, event_repropose: 0.000%, event_swap: 0.000%, indep_peak: 0.015%, peak_decay: 0.139%, peak_offset: 0.175%, swap_association: 0.000%, tmpl_birth: 0.024%, tmpl_death: 0.000%, tmpl_merge: 0.000%, tmpl_split: 0.000%, , uatemplates: 2 , events: 0 "
       ]
      },
      {
       "output_type": "stream",
       "stream": "stdout",
       "text": [
        "\n",
        "saving debug dump to /home/dmoore/python/sigvisa/logs/mcmc/01563/step_000085..."
       ]
      },
      {
       "output_type": "stream",
       "stream": "stdout",
       "text": [
        "\n",
        "saved pickled graph\n",
        "step 85: lp 88.98, accepted arrival_time: 0.410%, coda_decay: 0.086%, coda_height: 0.029%, event_repropose: 0.000%, event_swap: 0.000%, indep_peak: 0.014%, peak_decay: 0.137%, peak_offset: 0.176%, swap_association: 0.000%, tmpl_birth: 0.023%, tmpl_death: 0.000%, tmpl_merge: 0.000%, tmpl_split: 0.000%, , uatemplates: 2 , events: 0 \n",
        "step 86: lp 89.53, accepted arrival_time: 0.411%, coda_decay: 0.085%, coda_height: 0.028%, event_repropose: 0.000%, event_swap: 0.000%, indep_peak: 0.014%, peak_decay: 0.135%, peak_offset: 0.174%, swap_association: 0.000%, tmpl_birth: 0.023%, tmpl_death: 0.000%, tmpl_merge: 0.000%, tmpl_split: 0.000%, , uatemplates: 2 , events: 0 "
       ]
      },
      {
       "output_type": "stream",
       "stream": "stdout",
       "text": [
        "\n",
        "saving debug dump to /home/dmoore/python/sigvisa/logs/mcmc/01563/step_000087..."
       ]
      },
      {
       "output_type": "stream",
       "stream": "stdout",
       "text": [
        "\n",
        "saved pickled graph\n",
        "step 87: lp 90.06, accepted arrival_time: 0.413%, coda_decay: 0.084%, coda_height: 0.028%, event_repropose: 0.000%, event_swap: 0.000%, indep_peak: 0.021%, peak_decay: 0.133%, peak_offset: 0.171%, swap_association: 0.000%, tmpl_birth: 0.023%, tmpl_death: 0.000%, tmpl_merge: 0.000%, tmpl_split: 0.000%, , uatemplates: 2 , events: 0 \n",
        "step 88: lp 90.06, accepted arrival_time: 0.407%, coda_decay: 0.083%, coda_height: 0.028%, event_repropose: 0.000%, event_swap: 0.000%, indep_peak: 0.021%, peak_decay: 0.131%, peak_offset: 0.169%, swap_association: 0.000%, tmpl_birth: 0.022%, tmpl_death: 0.000%, tmpl_merge: 0.000%, tmpl_split: 0.000%, , uatemplates: 2 , events: 0 "
       ]
      },
      {
       "output_type": "stream",
       "stream": "stdout",
       "text": [
        "\n",
        "saving debug dump to /home/dmoore/python/sigvisa/logs/mcmc/01563/step_000089..."
       ]
      },
      {
       "output_type": "stream",
       "stream": "stdout",
       "text": [
        "\n",
        "saved pickled graph\n",
        "step 89: lp 88.30, accepted arrival_time: 0.408%, coda_decay: 0.082%, coda_height: 0.027%, event_repropose: 0.000%, event_swap: 0.000%, indep_peak: 0.020%, peak_decay: 0.129%, peak_offset: 0.167%, swap_association: 0.000%, tmpl_birth: 0.022%, tmpl_death: 0.000%, tmpl_merge: 0.000%, tmpl_split: 0.000%, , uatemplates: 2 , events: 0 \n",
        "step 90: lp 87.57, accepted arrival_time: 0.409%, coda_decay: 0.081%, coda_height: 0.027%, event_repropose: 0.000%, event_swap: 0.000%, indep_peak: 0.020%, peak_decay: 0.128%, peak_offset: 0.168%, swap_association: 0.000%, tmpl_birth: 0.022%, tmpl_death: 0.000%, tmpl_merge: 0.000%, tmpl_split: 0.000%, , uatemplates: 2 , events: 0 "
       ]
      },
      {
       "output_type": "stream",
       "stream": "stdout",
       "text": [
        "\n",
        "saving debug dump to /home/dmoore/python/sigvisa/logs/mcmc/01563/step_000091..."
       ]
      },
      {
       "output_type": "stream",
       "stream": "stdout",
       "text": [
        "\n",
        "saved pickled graph\n",
        "step 91: lp 89.87, accepted arrival_time: 0.411%, coda_decay: 0.079%, coda_height: 0.026%, event_repropose: 0.000%, event_swap: 0.000%, indep_peak: 0.026%, peak_decay: 0.126%, peak_offset: 0.166%, swap_association: 0.000%, tmpl_birth: 0.022%, tmpl_death: 0.000%, tmpl_merge: 0.000%, tmpl_split: 0.000%, , uatemplates: 2 , events: 0 \n",
        "step 92: lp 90.09, accepted arrival_time: 0.405%, coda_decay: 0.078%, coda_height: 0.026%, event_repropose: 0.000%, event_swap: 0.000%, indep_peak: 0.026%, peak_decay: 0.124%, peak_offset: 0.167%, swap_association: 0.000%, tmpl_birth: 0.022%, tmpl_death: 0.000%, tmpl_merge: 0.000%, tmpl_split: 0.000%, , uatemplates: 2 , events: 0 "
       ]
      },
      {
       "output_type": "stream",
       "stream": "stdout",
       "text": [
        "\n",
        "saving debug dump to /home/dmoore/python/sigvisa/logs/mcmc/01563/step_000093..."
       ]
      },
      {
       "output_type": "stream",
       "stream": "stdout",
       "text": [
        "\n",
        "saved pickled graph\n",
        "step 93: lp 88.90, accepted arrival_time: 0.406%, coda_decay: 0.077%, coda_height: 0.026%, event_repropose: 0.000%, event_swap: 0.000%, indep_peak: 0.026%, peak_decay: 0.123%, peak_offset: 0.168%, swap_association: 0.000%, tmpl_birth: 0.021%, tmpl_death: 0.000%, tmpl_merge: 0.000%, tmpl_split: 0.000%, , uatemplates: 2 , events: 0 \n",
        "step 94: lp 87.86, accepted arrival_time: 0.414%, coda_decay: 0.083%, coda_height: 0.025%, event_repropose: 0.000%, event_swap: 0.000%, indep_peak: 0.025%, peak_decay: 0.121%, peak_offset: 0.166%, swap_association: 0.000%, tmpl_birth: 0.021%, tmpl_death: 0.000%, tmpl_merge: 0.000%, tmpl_split: 0.000%, , uatemplates: 2 , events: 0 "
       ]
      },
      {
       "output_type": "stream",
       "stream": "stdout",
       "text": [
        "\n",
        "saving debug dump to /home/dmoore/python/sigvisa/logs/mcmc/01563/step_000095..."
       ]
      },
      {
       "output_type": "stream",
       "stream": "stdout",
       "text": [
        "\n",
        "saved pickled graph\n",
        "step 95: lp 87.69, accepted arrival_time: 0.409%, coda_decay: 0.082%, coda_height: 0.025%, event_repropose: 0.000%, event_swap: 0.000%, indep_peak: 0.025%, peak_decay: 0.119%, peak_offset: 0.167%, swap_association: 0.000%, tmpl_birth: 0.021%, tmpl_death: 0.000%, tmpl_merge: 0.000%, tmpl_split: 0.000%, , uatemplates: 2 , events: 0 \n",
        "step 96: lp 85.69, accepted arrival_time: 0.410%, coda_decay: 0.081%, coda_height: 0.025%, event_repropose: 0.000%, event_swap: 0.000%, indep_peak: 0.031%, peak_decay: 0.124%, peak_offset: 0.168%, swap_association: 0.000%, tmpl_birth: 0.021%, tmpl_death: 0.000%, tmpl_merge: 0.000%, tmpl_split: 0.000%, , uatemplates: 2 , events: 0 "
       ]
      },
      {
       "output_type": "stream",
       "stream": "stdout",
       "text": [
        "\n",
        "saving debug dump to /home/dmoore/python/sigvisa/logs/mcmc/01563/step_000097..."
       ]
      },
      {
       "output_type": "stream",
       "stream": "stdout",
       "text": [
        "\n",
        "saved pickled graph\n",
        "step 97: lp 87.68, accepted arrival_time: 0.411%, coda_decay: 0.080%, coda_height: 0.025%, event_repropose: 0.000%, event_swap: 0.000%, indep_peak: 0.037%, peak_decay: 0.123%, peak_offset: 0.175%, swap_association: 0.000%, tmpl_birth: 0.020%, tmpl_death: 0.000%, tmpl_merge: 0.000%, tmpl_split: 0.000%, , uatemplates: 2 , events: 0 \n",
        "step 98: lp 87.70, accepted arrival_time: 0.412%, coda_decay: 0.079%, coda_height: 0.024%, event_repropose: 0.000%, event_swap: 0.000%, indep_peak: 0.036%, peak_decay: 0.121%, peak_offset: 0.173%, swap_association: 0.000%, tmpl_birth: 0.020%, tmpl_death: 0.000%, tmpl_merge: 0.000%, tmpl_split: 0.000%, , uatemplates: 2 , events: 0 "
       ]
      },
      {
       "output_type": "stream",
       "stream": "stdout",
       "text": [
        "\n",
        "saving debug dump to /home/dmoore/python/sigvisa/logs/mcmc/01563/step_000099..."
       ]
      },
      {
       "output_type": "stream",
       "stream": "stdout",
       "text": [
        "\n",
        "saved pickled graph\n",
        "step 99: lp 87.65, accepted arrival_time: 0.413%, coda_decay: 0.078%, coda_height: 0.024%, event_repropose: 0.000%, event_swap: 0.000%, indep_peak: 0.036%, peak_decay: 0.120%, peak_offset: 0.171%, swap_association: 0.000%, tmpl_birth: 0.020%, tmpl_death: 0.000%, tmpl_merge: 0.000%, tmpl_split: 0.000%, , uatemplates: 2 , events: 0 \n",
        "step 100: lp 86.77, accepted arrival_time: 0.414%, coda_decay: 0.077%, coda_height: 0.024%, event_repropose: 0.000%, event_swap: 0.000%, indep_peak: 0.036%, peak_decay: 0.118%, peak_offset: 0.169%, swap_association: 0.000%, tmpl_birth: 0.020%, tmpl_death: 0.000%, tmpl_merge: 0.000%, tmpl_split: 0.000%, , uatemplates: 2 , events: 0 "
       ]
      },
      {
       "output_type": "stream",
       "stream": "stdout",
       "text": [
        "\n",
        "saving debug dump to /home/dmoore/python/sigvisa/logs/mcmc/01563/step_000101..."
       ]
      },
      {
       "output_type": "stream",
       "stream": "stdout",
       "text": [
        "\n",
        "saved pickled graph\n",
        "step 101: lp 87.10, accepted arrival_time: 0.421%, coda_decay: 0.076%, coda_height: 0.023%, event_repropose: 0.000%, event_swap: 0.000%, indep_peak: 0.035%, peak_decay: 0.117%, peak_offset: 0.167%, swap_association: 0.000%, tmpl_birth: 0.020%, tmpl_death: 0.000%, tmpl_merge: 0.000%, tmpl_split: 0.000%, , uatemplates: 2 , events: 0 \n",
        "step 102: lp 87.80, accepted arrival_time: 0.422%, coda_decay: 0.075%, coda_height: 0.023%, event_repropose: 0.000%, event_swap: 0.000%, indep_peak: 0.035%, peak_decay: 0.116%, peak_offset: 0.165%, swap_association: 0.000%, tmpl_birth: 0.019%, tmpl_death: 0.000%, tmpl_merge: 0.000%, tmpl_split: 0.000%, , uatemplates: 2 , events: 0 "
       ]
      },
      {
       "output_type": "stream",
       "stream": "stdout",
       "text": [
        "\n",
        "saving debug dump to /home/dmoore/python/sigvisa/logs/mcmc/01563/step_000103..."
       ]
      },
      {
       "output_type": "stream",
       "stream": "stdout",
       "text": [
        "\n",
        "saved pickled graph\n",
        "step 103: lp 88.03, accepted arrival_time: 0.417%, coda_decay: 0.074%, coda_height: 0.023%, event_repropose: 0.000%, event_swap: 0.000%, indep_peak: 0.034%, peak_decay: 0.120%, peak_offset: 0.163%, swap_association: 0.000%, tmpl_birth: 0.019%, tmpl_death: 0.000%, tmpl_merge: 0.000%, tmpl_split: 0.000%, , uatemplates: 2 , events: 0 \n",
        "step 104: lp 88.03, accepted arrival_time: 0.412%, coda_decay: 0.073%, coda_height: 0.023%, event_repropose: 0.000%, event_swap: 0.000%, indep_peak: 0.034%, peak_decay: 0.119%, peak_offset: 0.161%, swap_association: 0.000%, tmpl_birth: 0.019%, tmpl_death: 0.000%, tmpl_merge: 0.000%, tmpl_split: 0.000%, , uatemplates: 2 , events: 0 "
       ]
      },
      {
       "output_type": "stream",
       "stream": "stdout",
       "text": [
        "\n",
        "saving debug dump to /home/dmoore/python/sigvisa/logs/mcmc/01563/step_000105..."
       ]
      },
      {
       "output_type": "stream",
       "stream": "stdout",
       "text": [
        "\n",
        "saved pickled graph\n",
        "step 105: lp 88.41, accepted arrival_time: 0.408%, coda_decay: 0.073%, coda_height: 0.022%, event_repropose: 0.000%, event_swap: 0.000%, indep_peak: 0.034%, peak_decay: 0.117%, peak_offset: 0.165%, swap_association: 0.000%, tmpl_birth: 0.019%, tmpl_death: 0.000%, tmpl_merge: 0.000%, tmpl_split: 0.000%, , uatemplates: 2 , events: 0 \n",
        "step 106: lp 88.41, accepted arrival_time: 0.403%, coda_decay: 0.072%, coda_height: 0.022%, event_repropose: 0.000%, event_swap: 0.000%, indep_peak: 0.033%, peak_decay: 0.116%, peak_offset: 0.163%, swap_association: 0.000%, tmpl_birth: 0.019%, tmpl_death: 0.000%, tmpl_merge: 0.000%, tmpl_split: 0.000%, , uatemplates: 2 , events: 0 "
       ]
      },
      {
       "output_type": "stream",
       "stream": "stdout",
       "text": [
        "\n",
        "saving debug dump to /home/dmoore/python/sigvisa/logs/mcmc/01563/step_000107..."
       ]
      },
      {
       "output_type": "stream",
       "stream": "stdout",
       "text": [
        "\n",
        "saved pickled graph\n",
        "step 107: lp 88.41, accepted arrival_time: 0.399%, coda_decay: 0.071%, coda_height: 0.022%, event_repropose: 0.000%, event_swap: 0.000%, indep_peak: 0.033%, peak_decay: 0.115%, peak_offset: 0.161%, swap_association: 0.000%, tmpl_birth: 0.019%, tmpl_death: 0.000%, tmpl_merge: 0.000%, tmpl_split: 0.000%, , uatemplates: 2 , events: 0 \n",
        "step 108: lp 88.91, accepted arrival_time: 0.400%, coda_decay: 0.070%, coda_height: 0.022%, event_repropose: 0.000%, event_swap: 0.000%, indep_peak: 0.032%, peak_decay: 0.114%, peak_offset: 0.159%, swap_association: 0.000%, tmpl_birth: 0.018%, tmpl_death: 0.000%, tmpl_merge: 0.000%, tmpl_split: 0.000%, , uatemplates: 2 , events: 0 "
       ]
      },
      {
       "output_type": "stream",
       "stream": "stdout",
       "text": [
        "\n",
        "saving debug dump to /home/dmoore/python/sigvisa/logs/mcmc/01563/step_000109..."
       ]
      },
      {
       "output_type": "stream",
       "stream": "stdout",
       "text": [
        "\n",
        "saved pickled graph\n",
        "step 109: lp 90.09, accepted arrival_time: 0.396%, coda_decay: 0.070%, coda_height: 0.021%, event_repropose: 0.000%, event_swap: 0.000%, indep_peak: 0.032%, peak_decay: 0.112%, peak_offset: 0.163%, swap_association: 0.000%, tmpl_birth: 0.018%, tmpl_death: 0.000%, tmpl_merge: 0.000%, tmpl_split: 0.000%, , uatemplates: 2 , events: 0 \n",
        "step 110: lp 89.63, accepted arrival_time: 0.397%, coda_decay: 0.069%, coda_height: 0.021%, event_repropose: 0.000%, event_swap: 0.000%, indep_peak: 0.032%, peak_decay: 0.111%, peak_offset: 0.164%, swap_association: 0.000%, tmpl_birth: 0.018%, tmpl_death: 0.000%, tmpl_merge: 0.000%, tmpl_split: 0.000%, , uatemplates: 2 , events: 0 "
       ]
      },
      {
       "output_type": "stream",
       "stream": "stdout",
       "text": [
        "\n",
        "saving debug dump to /home/dmoore/python/sigvisa/logs/mcmc/01563/step_000111..."
       ]
      },
      {
       "output_type": "stream",
       "stream": "stdout",
       "text": [
        "\n",
        "saved pickled graph\n",
        "step 111: lp 89.60, accepted arrival_time: 0.393%, coda_decay: 0.068%, coda_height: 0.021%, event_repropose: 0.000%, event_swap: 0.000%, indep_peak: 0.031%, peak_decay: 0.115%, peak_offset: 0.165%, swap_association: 0.000%, tmpl_birth: 0.018%, tmpl_death: 0.000%, tmpl_merge: 0.000%, tmpl_split: 0.000%, , uatemplates: 2 , events: 0 \n",
        "step 112: lp 90.26, accepted arrival_time: 0.394%, coda_decay: 0.067%, coda_height: 0.021%, event_repropose: 0.000%, event_swap: 0.000%, indep_peak: 0.031%, peak_decay: 0.119%, peak_offset: 0.166%, swap_association: 0.000%, tmpl_birth: 0.018%, tmpl_death: 0.000%, tmpl_merge: 0.000%, tmpl_split: 0.000%, , uatemplates: 2 , events: 0 "
       ]
      },
      {
       "output_type": "stream",
       "stream": "stdout",
       "text": [
        "\n",
        "saving debug dump to /home/dmoore/python/sigvisa/logs/mcmc/01563/step_000113..."
       ]
      },
      {
       "output_type": "stream",
       "stream": "stdout",
       "text": [
        "\n",
        "saved pickled graph\n",
        "step 113: lp 90.47, accepted arrival_time: 0.395%, coda_decay: 0.067%, coda_height: 0.021%, event_repropose: 0.000%, event_swap: 0.000%, indep_peak: 0.031%, peak_decay: 0.118%, peak_offset: 0.164%, swap_association: 0.000%, tmpl_birth: 0.018%, tmpl_death: 0.000%, tmpl_merge: 0.000%, tmpl_split: 0.000%, , uatemplates: 2 , events: 0 \n",
        "step 114: lp 90.50, accepted arrival_time: 0.396%, coda_decay: 0.066%, coda_height: 0.020%, event_repropose: 0.000%, event_swap: 0.000%, indep_peak: 0.030%, peak_decay: 0.117%, peak_offset: 0.162%, swap_association: 0.000%, tmpl_birth: 0.017%, tmpl_death: 0.000%, tmpl_merge: 0.000%, tmpl_split: 0.000%, , uatemplates: 2 , events: 0 "
       ]
      },
      {
       "output_type": "stream",
       "stream": "stdout",
       "text": [
        "\n",
        "saving debug dump to /home/dmoore/python/sigvisa/logs/mcmc/01563/step_000115..."
       ]
      },
      {
       "output_type": "stream",
       "stream": "stdout",
       "text": [
        "\n",
        "saved pickled graph\n",
        "step 115: lp 90.43, accepted arrival_time: 0.392%, coda_decay: 0.065%, coda_height: 0.020%, event_repropose: 0.000%, event_swap: 0.000%, indep_peak: 0.030%, peak_decay: 0.121%, peak_offset: 0.161%, swap_association: 0.000%, tmpl_birth: 0.017%, tmpl_death: 0.000%, tmpl_merge: 0.000%, tmpl_split: 0.000%, , uatemplates: 2 , events: 0 \n",
        "step 116: lp 89.22, accepted arrival_time: 0.393%, coda_decay: 0.065%, coda_height: 0.020%, event_repropose: 0.000%, event_swap: 0.000%, indep_peak: 0.030%, peak_decay: 0.119%, peak_offset: 0.162%, swap_association: 0.000%, tmpl_birth: 0.017%, tmpl_death: 0.000%, tmpl_merge: 0.000%, tmpl_split: 0.000%, , uatemplates: 2 , events: 0 "
       ]
      },
      {
       "output_type": "stream",
       "stream": "stdout",
       "text": [
        "\n",
        "saving debug dump to /home/dmoore/python/sigvisa/logs/mcmc/01563/step_000117..."
       ]
      },
      {
       "output_type": "stream",
       "stream": "stdout",
       "text": [
        "\n",
        "saved pickled graph\n",
        "step 117: lp 89.89, accepted arrival_time: 0.389%, coda_decay: 0.064%, coda_height: 0.020%, event_repropose: 0.000%, event_swap: 0.000%, indep_peak: 0.030%, peak_decay: 0.118%, peak_offset: 0.163%, swap_association: 0.000%, tmpl_birth: 0.017%, tmpl_death: 0.000%, tmpl_merge: 0.000%, tmpl_split: 0.000%, , uatemplates: 2 , events: 0 \n",
        "step 118: lp 90.38, accepted arrival_time: 0.390%, coda_decay: 0.063%, coda_height: 0.020%, event_repropose: 0.000%, event_swap: 0.000%, indep_peak: 0.029%, peak_decay: 0.117%, peak_offset: 0.166%, swap_association: 0.000%, tmpl_birth: 0.017%, tmpl_death: 0.000%, tmpl_merge: 0.000%, tmpl_split: 0.000%, , uatemplates: 2 , events: 0 "
       ]
      },
      {
       "output_type": "stream",
       "stream": "stdout",
       "text": [
        "\n",
        "saving debug dump to /home/dmoore/python/sigvisa/logs/mcmc/01563/step_000119..."
       ]
      },
      {
       "output_type": "stream",
       "stream": "stdout",
       "text": [
        "\n",
        "saved pickled graph\n",
        "step 119: lp 90.38, accepted arrival_time: 0.386%, coda_decay: 0.063%, coda_height: 0.019%, event_repropose: 0.000%, event_swap: 0.000%, indep_peak: 0.029%, peak_decay: 0.116%, peak_offset: 0.164%, swap_association: 0.000%, tmpl_birth: 0.017%, tmpl_death: 0.000%, tmpl_merge: 0.000%, tmpl_split: 0.000%, , uatemplates: 2 , events: 0 \n",
        "step 120: lp 89.61, accepted arrival_time: 0.388%, coda_decay: 0.062%, coda_height: 0.019%, event_repropose: 0.000%, event_swap: 0.000%, indep_peak: 0.029%, peak_decay: 0.120%, peak_offset: 0.165%, swap_association: 0.000%, tmpl_birth: 0.017%, tmpl_death: 0.000%, tmpl_merge: 0.000%, tmpl_split: 0.000%, , uatemplates: 2 , events: 0 "
       ]
      },
      {
       "output_type": "stream",
       "stream": "stdout",
       "text": [
        "\n",
        "saving debug dump to /home/dmoore/python/sigvisa/logs/mcmc/01563/step_000121..."
       ]
      },
      {
       "output_type": "stream",
       "stream": "stdout",
       "text": [
        "\n",
        "saved pickled graph\n",
        "step 121: lp 89.89, accepted arrival_time: 0.389%, coda_decay: 0.062%, coda_height: 0.024%, event_repropose: 0.000%, event_swap: 0.000%, indep_peak: 0.028%, peak_decay: 0.118%, peak_offset: 0.166%, swap_association: 0.000%, tmpl_birth: 0.016%, tmpl_death: 0.000%, tmpl_merge: 0.000%, tmpl_split: 0.000%, , uatemplates: 2 , events: 0 \n",
        "step 122: lp 90.31, accepted arrival_time: 0.385%, coda_decay: 0.061%, coda_height: 0.023%, event_repropose: 0.000%, event_swap: 0.000%, indep_peak: 0.028%, peak_decay: 0.117%, peak_offset: 0.167%, swap_association: 0.000%, tmpl_birth: 0.016%, tmpl_death: 0.000%, tmpl_merge: 0.000%, tmpl_split: 0.000%, , uatemplates: 2 , events: 0 "
       ]
      },
      {
       "output_type": "stream",
       "stream": "stdout",
       "text": [
        "\n",
        "saving debug dump to /home/dmoore/python/sigvisa/logs/mcmc/01563/step_000123..."
       ]
      },
      {
       "output_type": "stream",
       "stream": "stdout",
       "text": [
        "\n",
        "saved pickled graph\n",
        "step 123: lp 88.25, accepted arrival_time: 0.386%, coda_decay: 0.060%, coda_height: 0.023%, event_repropose: 0.000%, event_swap: 0.000%, indep_peak: 0.028%, peak_decay: 0.121%, peak_offset: 0.165%, swap_association: 0.000%, tmpl_birth: 0.016%, tmpl_death: 0.000%, tmpl_merge: 0.000%, tmpl_split: 0.000%, , uatemplates: 2 , events: 0 \n",
        "step 124: lp 90.07, accepted arrival_time: 0.387%, coda_decay: 0.060%, coda_height: 0.023%, event_repropose: 0.000%, event_swap: 0.000%, indep_peak: 0.028%, peak_decay: 0.120%, peak_offset: 0.166%, swap_association: 0.000%, tmpl_birth: 0.016%, tmpl_death: 0.000%, tmpl_merge: 0.000%, tmpl_split: 0.000%, , uatemplates: 2 , events: 0 "
       ]
      },
      {
       "output_type": "stream",
       "stream": "stdout",
       "text": [
        "\n",
        "saving debug dump to /home/dmoore/python/sigvisa/logs/mcmc/01563/step_000125..."
       ]
      },
      {
       "output_type": "stream",
       "stream": "stdout",
       "text": [
        "\n",
        "saved pickled graph\n",
        "step 125: lp 89.76, accepted arrival_time: 0.388%, coda_decay: 0.059%, coda_height: 0.023%, event_repropose: 0.000%, event_swap: 0.000%, indep_peak: 0.027%, peak_decay: 0.119%, peak_offset: 0.167%, swap_association: 0.000%, tmpl_birth: 0.016%, tmpl_death: 0.000%, tmpl_merge: 0.000%, tmpl_split: 0.000%, , uatemplates: 2 , events: 0 \n",
        "step 126: lp 87.86, accepted arrival_time: 0.389%, coda_decay: 0.063%, coda_height: 0.027%, event_repropose: 0.000%, event_swap: 0.000%, indep_peak: 0.027%, peak_decay: 0.118%, peak_offset: 0.167%, swap_association: 0.000%, tmpl_birth: 0.016%, tmpl_death: 0.000%, tmpl_merge: 0.000%, tmpl_split: 0.000%, , uatemplates: 2 , events: 0 "
       ]
      },
      {
       "output_type": "stream",
       "stream": "stdout",
       "text": [
        "\n",
        "saving debug dump to /home/dmoore/python/sigvisa/logs/mcmc/01563/step_000127..."
       ]
      },
      {
       "output_type": "stream",
       "stream": "stdout",
       "text": [
        "\n",
        "saved pickled graph\n",
        "step 127: lp 89.86, accepted arrival_time: 0.390%, coda_decay: 0.063%, coda_height: 0.027%, event_repropose: 0.000%, event_swap: 0.000%, indep_peak: 0.027%, peak_decay: 0.117%, peak_offset: 0.170%, swap_association: 0.000%, tmpl_birth: 0.016%, tmpl_death: 0.000%, tmpl_merge: 0.000%, tmpl_split: 0.000%, , uatemplates: 2 , events: 0 \n",
        "step 128: lp 89.32, accepted arrival_time: 0.391%, coda_decay: 0.062%, coda_height: 0.027%, event_repropose: 0.000%, event_swap: 0.000%, indep_peak: 0.027%, peak_decay: 0.120%, peak_offset: 0.169%, swap_association: 0.000%, tmpl_birth: 0.016%, tmpl_death: 0.000%, tmpl_merge: 0.000%, tmpl_split: 0.000%, , uatemplates: 2 , events: 0 "
       ]
      },
      {
       "output_type": "stream",
       "stream": "stdout",
       "text": [
        "\n",
        "saving debug dump to /home/dmoore/python/sigvisa/logs/mcmc/01563/step_000129..."
       ]
      },
      {
       "output_type": "stream",
       "stream": "stdout",
       "text": [
        "\n",
        "saved pickled graph\n",
        "step 129: lp 88.92, accepted arrival_time: 0.388%, coda_decay: 0.062%, coda_height: 0.026%, event_repropose: 0.000%, event_swap: 0.000%, indep_peak: 0.026%, peak_decay: 0.123%, peak_offset: 0.170%, swap_association: 0.000%, tmpl_birth: 0.015%, tmpl_death: 0.000%, tmpl_merge: 0.000%, tmpl_split: 0.000%, , uatemplates: 2 , events: 0 \n",
        "step 130: lp 89.86, accepted arrival_time: 0.384%, coda_decay: 0.061%, coda_height: 0.026%, event_repropose: 0.000%, event_swap: 0.000%, indep_peak: 0.026%, peak_decay: 0.122%, peak_offset: 0.170%, swap_association: 0.000%, tmpl_birth: 0.015%, tmpl_death: 0.000%, tmpl_merge: 0.000%, tmpl_split: 0.000%, , uatemplates: 2 , events: 0 "
       ]
      },
      {
       "output_type": "stream",
       "stream": "stdout",
       "text": [
        "\n",
        "saving debug dump to /home/dmoore/python/sigvisa/logs/mcmc/01563/step_000131..."
       ]
      },
      {
       "output_type": "stream",
       "stream": "stdout",
       "text": [
        "\n",
        "saved pickled graph\n",
        "step 131: lp 90.31, accepted arrival_time: 0.385%, coda_decay: 0.061%, coda_height: 0.026%, event_repropose: 0.000%, event_swap: 0.000%, indep_peak: 0.026%, peak_decay: 0.121%, peak_offset: 0.173%, swap_association: 0.000%, tmpl_birth: 0.015%, tmpl_death: 0.000%, tmpl_merge: 0.000%, tmpl_split: 0.000%, , uatemplates: 2 , events: 0 \n",
        "step 132: lp 90.32, accepted arrival_time: 0.386%, coda_decay: 0.060%, coda_height: 0.026%, event_repropose: 0.000%, event_swap: 0.000%, indep_peak: 0.026%, peak_decay: 0.120%, peak_offset: 0.172%, swap_association: 0.000%, tmpl_birth: 0.015%, tmpl_death: 0.000%, tmpl_merge: 0.000%, tmpl_split: 0.000%, , uatemplates: 2 , events: 0 "
       ]
      },
      {
       "output_type": "stream",
       "stream": "stdout",
       "text": [
        "\n",
        "saving debug dump to /home/dmoore/python/sigvisa/logs/mcmc/01563/step_000133..."
       ]
      },
      {
       "output_type": "stream",
       "stream": "stdout",
       "text": [
        "\n",
        "saved pickled graph\n",
        "step 133: lp 90.11, accepted arrival_time: 0.387%, coda_decay: 0.060%, coda_height: 0.026%, event_repropose: 0.000%, event_swap: 0.000%, indep_peak: 0.026%, peak_decay: 0.119%, peak_offset: 0.170%, swap_association: 0.000%, tmpl_birth: 0.015%, tmpl_death: 0.000%, tmpl_merge: 0.000%, tmpl_split: 0.000%, , uatemplates: 2 , events: 0 \n",
        "step 134: lp 90.11, accepted arrival_time: 0.388%, coda_decay: 0.059%, coda_height: 0.025%, event_repropose: 0.000%, event_swap: 0.000%, indep_peak: 0.025%, peak_decay: 0.118%, peak_offset: 0.169%, swap_association: 0.000%, tmpl_birth: 0.015%, tmpl_death: 0.000%, tmpl_merge: 0.000%, tmpl_split: 0.000%, , uatemplates: 2 , events: 0 "
       ]
      },
      {
       "output_type": "stream",
       "stream": "stdout",
       "text": [
        "\n",
        "saving debug dump to /home/dmoore/python/sigvisa/logs/mcmc/01563/step_000135..."
       ]
      },
      {
       "output_type": "stream",
       "stream": "stdout",
       "text": [
        "\n",
        "saved pickled graph\n",
        "step 135: lp 90.16, accepted arrival_time: 0.389%, coda_decay: 0.059%, coda_height: 0.025%, event_repropose: 0.000%, event_swap: 0.000%, indep_peak: 0.025%, peak_decay: 0.117%, peak_offset: 0.169%, swap_association: 0.000%, tmpl_birth: 0.015%, tmpl_death: 0.000%, tmpl_merge: 0.000%, tmpl_split: 0.000%, , uatemplates: 2 , events: 0 \n",
        "step 136: lp 86.38, accepted arrival_time: 0.394%, coda_decay: 0.058%, coda_height: 0.025%, event_repropose: 0.000%, event_swap: 0.000%, indep_peak: 0.025%, peak_decay: 0.116%, peak_offset: 0.168%, swap_association: 0.000%, tmpl_birth: 0.015%, tmpl_death: 0.000%, tmpl_merge: 0.000%, tmpl_split: 0.000%, , uatemplates: 2 , events: 0 "
       ]
      },
      {
       "output_type": "stream",
       "stream": "stdout",
       "text": [
        "\n",
        "saving debug dump to /home/dmoore/python/sigvisa/logs/mcmc/01563/step_000137..."
       ]
      },
      {
       "output_type": "stream",
       "stream": "stdout",
       "text": [
        "\n",
        "saved pickled graph\n",
        "step 137: lp 87.89, accepted arrival_time: 0.395%, coda_decay: 0.058%, coda_height: 0.025%, event_repropose: 0.000%, event_swap: 0.000%, indep_peak: 0.025%, peak_decay: 0.119%, peak_offset: 0.171%, swap_association: 0.000%, tmpl_birth: 0.014%, tmpl_death: 0.000%, tmpl_merge: 0.000%, tmpl_split: 0.000%, , uatemplates: 2 , events: 0 \n",
        "step 138: lp 87.23, accepted arrival_time: 0.396%, coda_decay: 0.057%, coda_height: 0.024%, event_repropose: 0.000%, event_swap: 0.000%, indep_peak: 0.024%, peak_decay: 0.118%, peak_offset: 0.171%, swap_association: 0.000%, tmpl_birth: 0.014%, tmpl_death: 0.000%, tmpl_merge: 0.000%, tmpl_split: 0.000%, , uatemplates: 2 , events: 0 "
       ]
      },
      {
       "output_type": "stream",
       "stream": "stdout",
       "text": [
        "\n",
        "saving debug dump to /home/dmoore/python/sigvisa/logs/mcmc/01563/step_000139..."
       ]
      },
      {
       "output_type": "stream",
       "stream": "stdout",
       "text": [
        "\n",
        "saved pickled graph\n",
        "step 139: lp 88.94, accepted arrival_time: 0.401%, coda_decay: 0.061%, coda_height: 0.024%, event_repropose: 0.000%, event_swap: 0.000%, indep_peak: 0.024%, peak_decay: 0.117%, peak_offset: 0.172%, swap_association: 0.000%, tmpl_birth: 0.014%, tmpl_death: 0.000%, tmpl_merge: 0.000%, tmpl_split: 0.000%, , uatemplates: 2 , events: 0 \n",
        "step 140: lp 87.66, accepted arrival_time: 0.406%, coda_decay: 0.060%, coda_height: 0.024%, event_repropose: 0.000%, event_swap: 0.000%, indep_peak: 0.024%, peak_decay: 0.120%, peak_offset: 0.173%, swap_association: 0.000%, tmpl_birth: 0.014%, tmpl_death: 0.000%, tmpl_merge: 0.000%, tmpl_split: 0.000%, , uatemplates: 2 , events: 0 "
       ]
      },
      {
       "output_type": "stream",
       "stream": "stdout",
       "text": [
        "\n",
        "saving debug dump to /home/dmoore/python/sigvisa/logs/mcmc/01563/step_000141..."
       ]
      },
      {
       "output_type": "stream",
       "stream": "stdout",
       "text": [
        "\n",
        "saved pickled graph\n",
        "step 141: lp 88.66, accepted arrival_time: 0.406%, coda_decay: 0.060%, coda_height: 0.024%, event_repropose: 0.000%, event_swap: 0.000%, indep_peak: 0.024%, peak_decay: 0.124%, peak_offset: 0.171%, swap_association: 0.000%, tmpl_birth: 0.014%, tmpl_death: 0.000%, tmpl_merge: 0.000%, tmpl_split: 0.000%, , uatemplates: 2 , events: 0 \n",
        "step 142: lp 87.25, accepted arrival_time: 0.411%, coda_decay: 0.059%, coda_height: 0.024%, event_repropose: 0.000%, event_swap: 0.000%, indep_peak: 0.024%, peak_decay: 0.123%, peak_offset: 0.170%, swap_association: 0.000%, tmpl_birth: 0.014%, tmpl_death: 0.000%, tmpl_merge: 0.000%, tmpl_split: 0.000%, , uatemplates: 2 , events: 0 "
       ]
      },
      {
       "output_type": "stream",
       "stream": "stdout",
       "text": [
        "\n",
        "saving debug dump to /home/dmoore/python/sigvisa/logs/mcmc/01563/step_000143..."
       ]
      },
      {
       "output_type": "stream",
       "stream": "stdout",
       "text": [
        "\n",
        "saved pickled graph\n",
        "step 143: lp 87.67, accepted arrival_time: 0.412%, coda_decay: 0.059%, coda_height: 0.024%, event_repropose: 0.000%, event_swap: 0.000%, indep_peak: 0.024%, peak_decay: 0.122%, peak_offset: 0.171%, swap_association: 0.000%, tmpl_birth: 0.014%, tmpl_death: 0.000%, tmpl_merge: 0.000%, tmpl_split: 0.000%, , uatemplates: 2 , events: 0 \n",
        "step 144: lp 87.25, accepted arrival_time: 0.412%, coda_decay: 0.058%, coda_height: 0.023%, event_repropose: 0.000%, event_swap: 0.000%, indep_peak: 0.023%, peak_decay: 0.125%, peak_offset: 0.171%, swap_association: 0.000%, tmpl_birth: 0.014%, tmpl_death: 0.000%, tmpl_merge: 0.000%, tmpl_split: 0.000%, , uatemplates: 2 , events: 0 "
       ]
      },
      {
       "output_type": "stream",
       "stream": "stdout",
       "text": [
        "\n",
        "saving debug dump to /home/dmoore/python/sigvisa/logs/mcmc/01563/step_000145..."
       ]
      },
      {
       "output_type": "stream",
       "stream": "stdout",
       "text": [
        "\n",
        "saved pickled graph\n",
        "step 145: lp 86.05, accepted arrival_time: 0.413%, coda_decay: 0.058%, coda_height: 0.023%, event_repropose: 0.000%, event_swap: 0.000%, indep_peak: 0.023%, peak_decay: 0.127%, peak_offset: 0.172%, swap_association: 0.000%, tmpl_birth: 0.014%, tmpl_death: 0.000%, tmpl_merge: 0.000%, tmpl_split: 0.000%, , uatemplates: 2 , events: 0 \n",
        "step 146: lp 88.17, accepted arrival_time: 0.414%, coda_decay: 0.057%, coda_height: 0.023%, event_repropose: 0.000%, event_swap: 0.000%, indep_peak: 0.023%, peak_decay: 0.126%, peak_offset: 0.172%, swap_association: 0.000%, tmpl_birth: 0.014%, tmpl_death: 0.000%, tmpl_merge: 0.000%, tmpl_split: 0.000%, , uatemplates: 2 , events: 0 "
       ]
      },
      {
       "output_type": "stream",
       "stream": "stdout",
       "text": [
        "\n",
        "saving debug dump to /home/dmoore/python/sigvisa/logs/mcmc/01563/step_000147..."
       ]
      },
      {
       "output_type": "stream",
       "stream": "stdout",
       "text": [
        "\n",
        "saved pickled graph\n",
        "step 147: lp 88.31, accepted arrival_time: 0.418%, coda_decay: 0.057%, coda_height: 0.023%, event_repropose: 0.000%, event_swap: 0.000%, indep_peak: 0.023%, peak_decay: 0.129%, peak_offset: 0.173%, swap_association: 0.000%, tmpl_birth: 0.014%, tmpl_death: 0.000%, tmpl_merge: 0.000%, tmpl_split: 0.000%, , uatemplates: 2 , events: 0 \n",
        "step 148: lp 89.05, accepted arrival_time: 0.419%, coda_decay: 0.057%, coda_height: 0.023%, event_repropose: 0.000%, event_swap: 0.000%, indep_peak: 0.023%, peak_decay: 0.128%, peak_offset: 0.174%, swap_association: 0.000%, tmpl_birth: 0.013%, tmpl_death: 0.000%, tmpl_merge: 0.000%, tmpl_split: 0.000%, , uatemplates: 2 , events: 0 "
       ]
      },
      {
       "output_type": "stream",
       "stream": "stdout",
       "text": [
        "\n",
        "saving debug dump to /home/dmoore/python/sigvisa/logs/mcmc/01563/step_000149..."
       ]
      },
      {
       "output_type": "stream",
       "stream": "stdout",
       "text": [
        "\n",
        "saved pickled graph\n",
        "step 149: lp 83.33, accepted arrival_time: 0.423%, coda_decay: 0.056%, coda_height: 0.022%, event_repropose: 0.000%, event_swap: 0.000%, indep_peak: 0.022%, peak_decay: 0.127%, peak_offset: 0.176%, swap_association: 0.000%, tmpl_birth: 0.013%, tmpl_death: 0.000%, tmpl_merge: 0.000%, tmpl_split: 0.000%, , uatemplates: 2 , events: 0 \n",
        "step 150: lp 84.70, accepted arrival_time: 0.424%, coda_decay: 0.056%, coda_height: 0.022%, event_repropose: 0.000%, event_swap: 0.000%, indep_peak: 0.022%, peak_decay: 0.134%, peak_offset: 0.178%, swap_association: 0.000%, tmpl_birth: 0.013%, tmpl_death: 0.000%, tmpl_merge: 0.000%, tmpl_split: 0.000%, , uatemplates: 2 , events: 0 "
       ]
      },
      {
       "output_type": "stream",
       "stream": "stdout",
       "text": [
        "\n",
        "saving debug dump to /home/dmoore/python/sigvisa/logs/mcmc/01563/step_000151..."
       ]
      },
      {
       "output_type": "stream",
       "stream": "stdout",
       "text": [
        "\n",
        "saved pickled graph\n",
        "step 151: lp 84.68, accepted arrival_time: 0.424%, coda_decay: 0.055%, coda_height: 0.022%, event_repropose: 0.000%, event_swap: 0.000%, indep_peak: 0.022%, peak_decay: 0.133%, peak_offset: 0.179%, swap_association: 0.000%, tmpl_birth: 0.013%, tmpl_death: 0.000%, tmpl_merge: 0.000%, tmpl_split: 0.000%, , uatemplates: 2 , events: 0 \n",
        "step 152: lp 79.72, accepted arrival_time: 0.425%, coda_decay: 0.055%, coda_height: 0.022%, event_repropose: 0.000%, event_swap: 0.000%, indep_peak: 0.026%, peak_decay: 0.139%, peak_offset: 0.179%, swap_association: 0.000%, tmpl_birth: 0.013%, tmpl_death: 0.000%, tmpl_merge: 0.000%, tmpl_split: 0.000%, , uatemplates: 2 , events: 0 "
       ]
      },
      {
       "output_type": "stream",
       "stream": "stdout",
       "text": [
        "\n",
        "saving debug dump to /home/dmoore/python/sigvisa/logs/mcmc/01563/step_000153..."
       ]
      },
      {
       "output_type": "stream",
       "stream": "stdout",
       "text": [
        "\n",
        "saved pickled graph\n",
        "step 153: lp 82.34, accepted arrival_time: 0.429%, coda_decay: 0.055%, coda_height: 0.022%, event_repropose: 0.000%, event_swap: 0.000%, indep_peak: 0.029%, peak_decay: 0.138%, peak_offset: 0.180%, swap_association: 0.000%, tmpl_birth: 0.013%, tmpl_death: 0.000%, tmpl_merge: 0.000%, tmpl_split: 0.000%, , uatemplates: 2 , events: 0 \n",
        "step 154: lp 82.10, accepted arrival_time: 0.430%, coda_decay: 0.054%, coda_height: 0.022%, event_repropose: 0.000%, event_swap: 0.000%, indep_peak: 0.029%, peak_decay: 0.141%, peak_offset: 0.182%, swap_association: 0.000%, tmpl_birth: 0.013%, tmpl_death: 0.000%, tmpl_merge: 0.000%, tmpl_split: 0.000%, , uatemplates: 2 , events: 0 "
       ]
      },
      {
       "output_type": "stream",
       "stream": "stdout",
       "text": [
        "\n",
        "saving debug dump to /home/dmoore/python/sigvisa/logs/mcmc/01563/step_000155..."
       ]
      },
      {
       "output_type": "stream",
       "stream": "stdout",
       "text": [
        "\n",
        "saved pickled graph\n",
        "step 155: lp 82.54, accepted arrival_time: 0.430%, coda_decay: 0.054%, coda_height: 0.022%, event_repropose: 0.000%, event_swap: 0.000%, indep_peak: 0.029%, peak_decay: 0.140%, peak_offset: 0.183%, swap_association: 0.000%, tmpl_birth: 0.013%, tmpl_death: 0.000%, tmpl_merge: 0.000%, tmpl_split: 0.000%, , uatemplates: 2 , events: 0 \n",
        "step 156: lp 82.54, accepted arrival_time: 0.427%, coda_decay: 0.053%, coda_height: 0.021%, event_repropose: 0.000%, event_swap: 0.000%, indep_peak: 0.028%, peak_decay: 0.142%, peak_offset: 0.183%, swap_association: 0.000%, tmpl_birth: 0.013%, tmpl_death: 0.000%, tmpl_merge: 0.000%, tmpl_split: 0.000%, , uatemplates: 2 , events: 0 "
       ]
      },
      {
       "output_type": "stream",
       "stream": "stdout",
       "text": [
        "\n",
        "saving debug dump to /home/dmoore/python/sigvisa/logs/mcmc/01563/step_000157..."
       ]
      },
      {
       "output_type": "stream",
       "stream": "stdout",
       "text": [
        "\n",
        "saved pickled graph\n",
        "step 157: lp 82.55, accepted arrival_time: 0.431%, coda_decay: 0.053%, coda_height: 0.021%, event_repropose: 0.000%, event_swap: 0.000%, indep_peak: 0.028%, peak_decay: 0.145%, peak_offset: 0.184%, swap_association: 0.000%, tmpl_birth: 0.013%, tmpl_death: 0.000%, tmpl_merge: 0.000%, tmpl_split: 0.000%, , uatemplates: 2 , events: 0 \n",
        "step 158: lp 82.68, accepted arrival_time: 0.428%, coda_decay: 0.053%, coda_height: 0.021%, event_repropose: 0.000%, event_swap: 0.000%, indep_peak: 0.028%, peak_decay: 0.147%, peak_offset: 0.182%, swap_association: 0.000%, tmpl_birth: 0.013%, tmpl_death: 0.000%, tmpl_merge: 0.000%, tmpl_split: 0.000%, , uatemplates: 2 , events: 0 "
       ]
      },
      {
       "output_type": "stream",
       "stream": "stdout",
       "text": [
        "\n",
        "saving debug dump to /home/dmoore/python/sigvisa/logs/mcmc/01563/step_000159..."
       ]
      },
      {
       "output_type": "stream",
       "stream": "stdout",
       "text": [
        "\n",
        "saved pickled graph\n",
        "step 159: lp 82.69, accepted arrival_time: 0.425%, coda_decay: 0.052%, coda_height: 0.021%, event_repropose: 0.000%, event_swap: 0.000%, indep_peak: 0.028%, peak_decay: 0.146%, peak_offset: 0.183%, swap_association: 0.000%, tmpl_birth: 0.013%, tmpl_death: 0.000%, tmpl_merge: 0.000%, tmpl_split: 0.000%, , uatemplates: 2 , events: 0 \n",
        "step 160: lp 82.53, accepted arrival_time: 0.429%, coda_decay: 0.052%, coda_height: 0.024%, event_repropose: 0.000%, event_swap: 0.000%, indep_peak: 0.028%, peak_decay: 0.149%, peak_offset: 0.183%, swap_association: 0.000%, tmpl_birth: 0.012%, tmpl_death: 0.000%, tmpl_merge: 0.000%, tmpl_split: 0.000%, , uatemplates: 2 , events: 0 "
       ]
      },
      {
       "output_type": "stream",
       "stream": "stdout",
       "text": [
        "\n",
        "saving debug dump to /home/dmoore/python/sigvisa/logs/mcmc/01563/step_000161..."
       ]
      },
      {
       "output_type": "stream",
       "stream": "stdout",
       "text": [
        "\n",
        "saved pickled graph\n",
        "step 161: lp 84.67, accepted arrival_time: 0.433%, coda_decay: 0.052%, coda_height: 0.024%, event_repropose: 0.000%, event_swap: 0.000%, indep_peak: 0.027%, peak_decay: 0.148%, peak_offset: 0.184%, swap_association: 0.000%, tmpl_birth: 0.012%, tmpl_death: 0.000%, tmpl_merge: 0.000%, tmpl_split: 0.000%, , uatemplates: 2 , events: 0 \n"
       ]
      },
      {
       "output_type": "stream",
       "stream": "stderr",
       "text": [
        "/home/dmoore/python/sigvisa/infer/template_mcmc.py:2387: RuntimeWarning: invalid value encountered in log\n",
        "  init_coda_decay = np.log(-(lw[-1]-lw[0])/tlen) # estimated decay rate is the empirical slope of the log signal\n"
       ]
      },
      {
       "ename": "KeyboardInterrupt",
       "evalue": "",
       "output_type": "pyerr",
       "traceback": [
        "\u001b[1;31m---------------------------------------------------------------------------\u001b[0m\n\u001b[1;31mKeyboardInterrupt\u001b[0m                         Traceback (most recent call last)",
        "\u001b[1;32m<ipython-input-5-a42967115fa1>\u001b[0m in \u001b[0;36m<module>\u001b[1;34m()\u001b[0m\n\u001b[0;32m     10\u001b[0m                       \u001b[0menable_template_openworld\u001b[0m\u001b[1;33m=\u001b[0m\u001b[0mTrue\u001b[0m\u001b[1;33m,\u001b[0m\u001b[1;33m\u001b[0m\u001b[0m\n\u001b[0;32m     11\u001b[0m                       \u001b[0menable_template_moves\u001b[0m\u001b[1;33m=\u001b[0m\u001b[0mTrue\u001b[0m\u001b[1;33m,\u001b[0m\u001b[1;33m\u001b[0m\u001b[0m\n\u001b[1;32m---> 12\u001b[1;33m                       logger=logger)\n\u001b[0m\u001b[0;32m     13\u001b[0m \u001b[1;33m\u001b[0m\u001b[0m\n\u001b[0;32m     14\u001b[0m \u001b[1;32mexcept\u001b[0m \u001b[0mException\u001b[0m \u001b[1;32mas\u001b[0m \u001b[0me\u001b[0m\u001b[1;33m:\u001b[0m\u001b[1;33m\u001b[0m\u001b[0m\n",
        "\u001b[1;32m/home/dmoore/python/sigvisa/infer/run_mcmc.pyc\u001b[0m in \u001b[0;36mrun_open_world_MH\u001b[1;34m(sg, steps, enable_event_openworld, enable_event_moves, enable_template_openworld, enable_template_moves, template_move_type, logger, disable_moves, start_step, cyclic_template_moves, use_proxy_lp, template_openworld_custom)\u001b[0m\n\u001b[0;32m    306\u001b[0m                         do_template_moves(sg, wn, tmnodes, tg, stds,\n\u001b[0;32m    307\u001b[0m                                           \u001b[0mn_attempted\u001b[0m\u001b[1;33m,\u001b[0m \u001b[0mn_accepted\u001b[0m\u001b[1;33m,\u001b[0m \u001b[0mmove_times\u001b[0m\u001b[1;33m,\u001b[0m \u001b[0mstep\u001b[0m\u001b[1;33m,\u001b[0m\u001b[1;33m\u001b[0m\u001b[0m\n\u001b[1;32m--> 308\u001b[1;33m                                           proxy_lps=proxy_lps)\n\u001b[0m\u001b[0;32m    309\u001b[0m \u001b[1;33m\u001b[0m\u001b[0m\n\u001b[0;32m    310\u001b[0m                 \u001b[1;31m# also adjust every event arrival at this station\u001b[0m\u001b[1;33m\u001b[0m\u001b[1;33m\u001b[0m\u001b[0m\n",
        "\u001b[1;32m/home/dmoore/python/sigvisa/infer/run_mcmc.pyc\u001b[0m in \u001b[0;36mdo_template_moves\u001b[1;34m(sg, wn, tmnodes, tg, stds, n_attempted, n_accepted, move_times, step, proxy_lps)\u001b[0m\n\u001b[0;32m     77\u001b[0m                      \u001b[0mn_attempted\u001b[0m\u001b[1;33m=\u001b[0m\u001b[0mn_attempted\u001b[0m\u001b[1;33m,\u001b[0m \u001b[0mmove_times\u001b[0m\u001b[1;33m=\u001b[0m\u001b[0mmove_times\u001b[0m\u001b[1;33m,\u001b[0m\u001b[1;33m\u001b[0m\u001b[0m\n\u001b[0;32m     78\u001b[0m                      \u001b[0msg\u001b[0m\u001b[1;33m=\u001b[0m\u001b[0msg\u001b[0m\u001b[1;33m,\u001b[0m \u001b[0mkeys\u001b[0m\u001b[1;33m=\u001b[0m\u001b[1;33m(\u001b[0m\u001b[0mk\u001b[0m\u001b[1;33m,\u001b[0m\u001b[1;33m)\u001b[0m\u001b[1;33m,\u001b[0m \u001b[0mnode_list\u001b[0m\u001b[1;33m=\u001b[0m\u001b[1;33m(\u001b[0m\u001b[0mn\u001b[0m\u001b[1;33m,\u001b[0m\u001b[1;33m)\u001b[0m\u001b[1;33m,\u001b[0m\u001b[1;33m\u001b[0m\u001b[0m\n\u001b[1;32m---> 79\u001b[1;33m                      relevant_nodes=relevant_nodes, std=stds[param], proxy_lps=proxy_lps)\n\u001b[0m\u001b[0;32m     80\u001b[0m         \u001b[1;32mexcept\u001b[0m \u001b[0mKeyError\u001b[0m\u001b[1;33m:\u001b[0m\u001b[1;33m\u001b[0m\u001b[0m\n\u001b[0;32m     81\u001b[0m             \u001b[1;32mcontinue\u001b[0m\u001b[1;33m\u001b[0m\u001b[0m\n",
        "\u001b[1;32m/home/dmoore/python/sigvisa/infer/run_mcmc.pyc\u001b[0m in \u001b[0;36mrun_move\u001b[1;34m(move_name, fn, step, n_accepted, n_attempted, move_times, move_prob, cyclic, **kwargs)\u001b[0m\n\u001b[0;32m    101\u001b[0m \u001b[1;33m\u001b[0m\u001b[0m\n\u001b[0;32m    102\u001b[0m     \u001b[0mt0\u001b[0m  \u001b[1;33m=\u001b[0m \u001b[0mtime\u001b[0m\u001b[1;33m.\u001b[0m\u001b[0mtime\u001b[0m\u001b[1;33m(\u001b[0m\u001b[1;33m)\u001b[0m\u001b[1;33m\u001b[0m\u001b[0m\n\u001b[1;32m--> 103\u001b[1;33m     \u001b[0maccepted\u001b[0m \u001b[1;33m=\u001b[0m \u001b[0mfn\u001b[0m\u001b[1;33m(\u001b[0m\u001b[1;33m**\u001b[0m\u001b[0mkwargs\u001b[0m\u001b[1;33m)\u001b[0m\u001b[1;33m\u001b[0m\u001b[0m\n\u001b[0m\u001b[0;32m    104\u001b[0m     \u001b[0mt1\u001b[0m \u001b[1;33m=\u001b[0m \u001b[0mtime\u001b[0m\u001b[1;33m.\u001b[0m\u001b[0mtime\u001b[0m\u001b[1;33m(\u001b[0m\u001b[1;33m)\u001b[0m\u001b[1;33m\u001b[0m\u001b[0m\n\u001b[0;32m    105\u001b[0m \u001b[1;33m\u001b[0m\u001b[0m\n",
        "\u001b[1;32m/home/dmoore/python/sigvisa/infer/mcmc_basic.pyc\u001b[0m in \u001b[0;36mgaussian_MH_move\u001b[1;34m(sg, keys, node_list, relevant_nodes, scales, proxy_lps, step, **kwargs)\u001b[0m\n\u001b[0;32m     31\u001b[0m     \u001b[0mvalues\u001b[0m \u001b[1;33m=\u001b[0m \u001b[0mnp\u001b[0m\u001b[1;33m.\u001b[0m\u001b[0marray\u001b[0m\u001b[1;33m(\u001b[0m\u001b[1;33m[\u001b[0m\u001b[0mn\u001b[0m\u001b[1;33m.\u001b[0m\u001b[0mget_value\u001b[0m\u001b[1;33m(\u001b[0m\u001b[0mk\u001b[0m\u001b[1;33m)\u001b[0m \u001b[1;32mfor\u001b[0m \u001b[1;33m(\u001b[0m\u001b[0mn\u001b[0m\u001b[1;33m,\u001b[0m\u001b[0mk\u001b[0m\u001b[1;33m)\u001b[0m \u001b[1;32min\u001b[0m \u001b[0mzip\u001b[0m\u001b[1;33m(\u001b[0m\u001b[0mnode_list\u001b[0m\u001b[1;33m,\u001b[0m \u001b[0mkeys\u001b[0m\u001b[1;33m)\u001b[0m\u001b[1;33m]\u001b[0m\u001b[1;33m)\u001b[0m\u001b[1;33m\u001b[0m\u001b[0m\n\u001b[0;32m     32\u001b[0m     \u001b[0mproposal\u001b[0m \u001b[1;33m=\u001b[0m \u001b[0mgaussian_propose\u001b[0m\u001b[1;33m(\u001b[0m\u001b[0msg\u001b[0m\u001b[1;33m,\u001b[0m \u001b[0mkeys\u001b[0m\u001b[1;33m,\u001b[0m \u001b[0mnode_list\u001b[0m\u001b[1;33m,\u001b[0m \u001b[0mvalues\u001b[0m\u001b[1;33m=\u001b[0m\u001b[0mvalues\u001b[0m\u001b[1;33m,\u001b[0m \u001b[0mscales\u001b[0m\u001b[1;33m=\u001b[0m\u001b[0mscales\u001b[0m\u001b[1;33m,\u001b[0m \u001b[1;33m**\u001b[0m\u001b[0mkwargs\u001b[0m\u001b[1;33m)\u001b[0m\u001b[1;33m\u001b[0m\u001b[0m\n\u001b[1;32m---> 33\u001b[1;33m     \u001b[1;32mreturn\u001b[0m \u001b[0mMH_accept\u001b[0m\u001b[1;33m(\u001b[0m\u001b[0msg\u001b[0m\u001b[1;33m,\u001b[0m \u001b[0mkeys\u001b[0m\u001b[1;33m,\u001b[0m \u001b[0mvalues\u001b[0m\u001b[1;33m,\u001b[0m \u001b[0mproposal\u001b[0m\u001b[1;33m,\u001b[0m \u001b[0mnode_list\u001b[0m\u001b[1;33m,\u001b[0m \u001b[0mrelevant_nodes\u001b[0m\u001b[1;33m,\u001b[0m \u001b[0mproxy_lps\u001b[0m\u001b[1;33m=\u001b[0m\u001b[0mproxy_lps\u001b[0m\u001b[1;33m)\u001b[0m\u001b[1;33m\u001b[0m\u001b[0m\n\u001b[0m\u001b[0;32m     34\u001b[0m \u001b[1;33m\u001b[0m\u001b[0m\n\u001b[0;32m     35\u001b[0m def MH_accept(sg, keys, oldvalues, newvalues, node_list, relevant_nodes,\n",
        "\u001b[1;32m/home/dmoore/python/sigvisa/infer/mcmc_basic.pyc\u001b[0m in \u001b[0;36mMH_accept\u001b[1;34m(sg, keys, oldvalues, newvalues, node_list, relevant_nodes, log_qforward, log_qbackward, proxy_lps)\u001b[0m\n\u001b[0;32m     35\u001b[0m def MH_accept(sg, keys, oldvalues, newvalues, node_list, relevant_nodes,\n\u001b[0;32m     36\u001b[0m               log_qforward=0.0, log_qbackward=0.0, proxy_lps=None):\n\u001b[1;32m---> 37\u001b[1;33m     \u001b[0mlp_old\u001b[0m \u001b[1;33m=\u001b[0m \u001b[0msg\u001b[0m\u001b[1;33m.\u001b[0m\u001b[0mjoint_logprob_keys\u001b[0m\u001b[1;33m(\u001b[0m\u001b[0mrelevant_nodes\u001b[0m\u001b[1;33m,\u001b[0m \u001b[0mproxy_lps\u001b[0m\u001b[1;33m=\u001b[0m\u001b[0mproxy_lps\u001b[0m\u001b[1;33m)\u001b[0m \u001b[1;31m# assume oldvalues are still set\u001b[0m\u001b[1;33m\u001b[0m\u001b[0m\n\u001b[0m\u001b[0;32m     38\u001b[0m     lp_new = sg.joint_logprob_keys(keys=keys, values=newvalues, node_list=node_list,\n\u001b[0;32m     39\u001b[0m                                    relevant_nodes=relevant_nodes, proxy_lps=proxy_lps)\n",
        "\u001b[1;32m/home/dmoore/python/sigvisa/graph/dag.pyc\u001b[0m in \u001b[0;36mjoint_logprob_keys\u001b[1;34m(self, relevant_nodes, keys, values, node_list, proxy_lps, c)\u001b[0m\n\u001b[0;32m    172\u001b[0m             \u001b[0mll\u001b[0m \u001b[1;33m+=\u001b[0m \u001b[0mnp\u001b[0m\u001b[1;33m.\u001b[0m\u001b[0msum\u001b[0m\u001b[1;33m(\u001b[0m\u001b[1;33m[\u001b[0m\u001b[0mnode\u001b[0m\u001b[1;33m.\u001b[0m\u001b[0mlog_p\u001b[0m\u001b[1;33m(\u001b[0m\u001b[1;33m)\u001b[0m \u001b[1;32mfor\u001b[0m \u001b[0mnode\u001b[0m \u001b[1;32min\u001b[0m \u001b[0mrelevant_nodes\u001b[0m \u001b[1;32mif\u001b[0m \u001b[0mnode\u001b[0m\u001b[1;33m.\u001b[0m\u001b[0mlabel\u001b[0m \u001b[1;32mnot\u001b[0m \u001b[1;32min\u001b[0m \u001b[0mproxy_lps\u001b[0m\u001b[1;33m.\u001b[0m\u001b[0mkeys\u001b[0m\u001b[1;33m(\u001b[0m\u001b[1;33m)\u001b[0m\u001b[1;33m]\u001b[0m\u001b[1;33m)\u001b[0m\u001b[1;33m\u001b[0m\u001b[0m\n\u001b[0;32m    173\u001b[0m         \u001b[1;32melse\u001b[0m\u001b[1;33m:\u001b[0m\u001b[1;33m\u001b[0m\u001b[0m\n\u001b[1;32m--> 174\u001b[1;33m             \u001b[0mll\u001b[0m \u001b[1;33m=\u001b[0m \u001b[0mnp\u001b[0m\u001b[1;33m.\u001b[0m\u001b[0msum\u001b[0m\u001b[1;33m(\u001b[0m\u001b[1;33m[\u001b[0m\u001b[0mnode\u001b[0m\u001b[1;33m.\u001b[0m\u001b[0mlog_p\u001b[0m\u001b[1;33m(\u001b[0m\u001b[1;33m)\u001b[0m \u001b[1;32mfor\u001b[0m \u001b[0mnode\u001b[0m \u001b[1;32min\u001b[0m \u001b[0mrelevant_nodes\u001b[0m\u001b[1;33m]\u001b[0m\u001b[1;33m)\u001b[0m\u001b[1;33m\u001b[0m\u001b[0m\n\u001b[0m\u001b[0;32m    175\u001b[0m \u001b[1;33m\u001b[0m\u001b[0m\n\u001b[0;32m    176\u001b[0m         \u001b[1;32mreturn\u001b[0m \u001b[0mc\u001b[0m \u001b[1;33m*\u001b[0m \u001b[0mll\u001b[0m\u001b[1;33m\u001b[0m\u001b[0m\n",
        "\u001b[1;32m/home/dmoore/python/sigvisa/models/signal_model.py\u001b[0m in \u001b[0;36mlog_p\u001b[1;34m(self, parent_values, **kwargs)\u001b[0m\n\u001b[0;32m    448\u001b[0m         \u001b[0mparent_values\u001b[0m \u001b[1;33m=\u001b[0m \u001b[0mparent_values\u001b[0m \u001b[1;32mif\u001b[0m \u001b[0mparent_values\u001b[0m \u001b[1;32melse\u001b[0m \u001b[0mself\u001b[0m\u001b[1;33m.\u001b[0m\u001b[0m_parent_values\u001b[0m\u001b[1;33m(\u001b[0m\u001b[1;33m)\u001b[0m\u001b[1;33m\u001b[0m\u001b[0m\n\u001b[0;32m    449\u001b[0m         \u001b[0md\u001b[0m \u001b[1;33m=\u001b[0m \u001b[0mself\u001b[0m\u001b[1;33m.\u001b[0m\u001b[0mget_value\u001b[0m\u001b[1;33m(\u001b[0m\u001b[1;33m)\u001b[0m\u001b[1;33m.\u001b[0m\u001b[0mdata\u001b[0m\u001b[1;33m\u001b[0m\u001b[0m\n\u001b[1;32m--> 450\u001b[1;33m         \u001b[0mlp\u001b[0m \u001b[1;33m=\u001b[0m \u001b[0mself\u001b[0m\u001b[1;33m.\u001b[0m\u001b[0mtssm\u001b[0m\u001b[1;33m.\u001b[0m\u001b[0mrun_filter\u001b[0m\u001b[1;33m(\u001b[0m\u001b[0md\u001b[0m\u001b[1;33m)\u001b[0m\u001b[1;33m\u001b[0m\u001b[0m\n\u001b[0m\u001b[0;32m    451\u001b[0m         \u001b[1;32mreturn\u001b[0m \u001b[0mlp\u001b[0m\u001b[1;33m\u001b[0m\u001b[0m\n\u001b[0;32m    452\u001b[0m \u001b[1;33m\u001b[0m\u001b[0m\n",
        "\u001b[1;31mKeyboardInterrupt\u001b[0m: "
       ]
      }
     ],
     "prompt_number": 5
    },
    {
     "cell_type": "code",
     "collapsed": false,
     "input": [],
     "language": "python",
     "metadata": {},
     "outputs": []
    }
   ],
   "metadata": {}
  }
 ]
}