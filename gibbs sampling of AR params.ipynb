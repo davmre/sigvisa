{
 "metadata": {
  "name": ""
 },
 "nbformat": 3,
 "nbformat_minor": 0,
 "worksheets": [
  {
   "cells": [
    {
     "cell_type": "code",
     "collapsed": false,
     "input": [
      "from sigvisa.models.noise.armodel.model import ARModel, ErrorModel\n",
      "\n",
      "em = ErrorModel(mean=0, std=0.05)\n",
      "ar = ARModel(params=(0.5,0.2, -0.3), c=0.0, em=em)\n",
      "\n",
      "signal = ar.sample(n=5000)\n",
      "plot(signal)\n"
     ],
     "language": "python",
     "metadata": {},
     "outputs": [
      {
       "metadata": {},
       "output_type": "pyout",
       "prompt_number": 39,
       "text": [
        "[<matplotlib.lines.Line2D at 0x3f70790>]"
       ]
      },
      {
       "metadata": {},
       "output_type": "display_data",
       "png": "[encoded data removed]",
       "text": [
        "<matplotlib.figure.Figure at 0x3a74810>"
       ]
      }
     ],
     "prompt_number": 39
    },
    {
     "cell_type": "code",
     "collapsed": false,
     "input": [
      "import scipy.weave as weave\n",
      "from scipy.weave import converters\n",
      "\n",
      "def ar_param_posterior(signal, armodel, prior_mean, prior_var):\n",
      "    n = len(signal)\n",
      "    n_p = armodel.p\n",
      "    \n",
      "    try:\n",
      "        prior_mean[2]\n",
      "    except:\n",
      "        prior_mean = np.ones((n_p,)) * prior_mean\n",
      "        \n",
      "    em_var = armodel.em.std**2\n",
      "    phi = np.zeros((n-n_p,n_p))\n",
      "    #for i in range(n_p, n):\n",
      "    #    phi[i-n_p, :] = signal[i-n_p:i]\n",
      "    for i in range(n_p):\n",
      "        phi[:, n_p-i-1] = signal[i:i+n-n_p]    \n",
      "    \n",
      "    phi_squared = np.zeros((n_p, n_p))\n",
      "    for i in range(n_p):\n",
      "        offset_i_val = np.dot(phi[:,0], phi[:, i])\n",
      "        for j in range(n_p-i):\n",
      "            phi_squared[j, j+i] = offset_i_val\n",
      "            phi_squared[j+i, j] = offset_i_val    \n",
      "    C = np.linalg.inv(1.0 / prior_var * np.eye(n_p) + 1.0/em_var * phi_squared)\n",
      "    c = np.dot(C, (prior_mean / prior_var + np.dot(phi.T, signal[n_p:])/em_var))\n",
      "    return c, C\n",
      "    \n",
      "def ar_param_posterior_fast(signal, armodel, prior_mean, prior_cov):\n",
      "    n = len(signal)\n",
      "    n_p = armodel.p\n",
      "    em_var = armodel.em.std**2\n",
      "    zeroed_signal = signal - armodel.c\n",
      "    try:\n",
      "        prior_mean[2]\n",
      "    except:\n",
      "        prior_mean = np.ones((n_p,)) * prior_mean\n",
      "    phi_squared = np.zeros((n_p, n_p))\n",
      "    params_hat = np.zeros(len(armodel.params,))\n",
      "    for i in range(n_p):\n",
      "        offset_i_val = np.dot(zeroed_signal[n_p-1:n-1], zeroed_signal[n_p-i-1: n-i-1])\n",
      "        params_hat[i] = np.dot(zeroed_signal[n_p:n], zeroed_signal[n_p-1-i: n-1-i])\n",
      "        for j in range(n_p-i):\n",
      "            phi_squared[j, j+i] = offset_i_val\n",
      "            phi_squared[j+i, j] = offset_i_val \n",
      "    prior_precision = np.linalg.inv(prior_cov)\n",
      "    C = np.linalg.inv(prior_precision * np.eye(n_p) + 1.0/em_var * phi_squared)\n",
      "    #C = np.linalg.inv(1.0 / prior_var * np.eye(n_p) + 1.0/em_var * phi_squared)\n",
      "    c = np.dot(C, (np.dot(prior_precision, prior_mean) + params_hat/em_var))\n",
      "    #c = np.dot(C, (prior_mean / prior_var + params_hat/em_var))\n",
      "    return c, C\n",
      "    \n",
      "def ar_var_posterior(signal, arm, prior_alpha, prior_beta):\n",
      "    n = len(signal)\n",
      "    n_p = arm.p\n",
      "    zeroed_signal = signal - arm.c\n",
      "    params = np.array(arm.params, copy=True)\n",
      "    code = \"\"\"\n",
      "    double sum_sqerrs = 0;\n",
      "    for (int i=0; i < n-n_p; ++i) {\n",
      "        double pred_signal = 0;\n",
      "        for (int j=0; j < n_p; ++j) {\n",
      "            pred_signal += zeroed_signal(i+j) * params(n_p-j-1);\n",
      "        }\n",
      "        double err = zeroed_signal(i+n_p) - pred_signal;\n",
      "        sum_sqerrs += err * err;\n",
      "    }\n",
      "    return_val = sum_sqerrs;\n",
      "    \"\"\"\n",
      "    sum_sqerrs = weave.inline(code, ['n', 'zeroed_signal', 'n_p', 'params'],\n",
      "                     type_converters=converters.blitz,\n",
      "                     compiler='gcc')\n",
      "    \n",
      "    posterior_alpha = prior_alpha + (n-n_p)/2.0\n",
      "    posterior_beta = sum_sqerrs/2.0\n",
      "    return posterior_alpha, posterior_beta\n",
      "\n",
      "def ar_mean_posterior(signal, arm, prior_mu, prior_sigma2):\n",
      "    n = len(signal)\n",
      "    n_p = arm.p\n",
      "    params = np.array(arm.params, copy=True)\n",
      "    mu = prior_mu\n",
      "    sigma2 = prior_sigma2\n",
      "    em_var  = arm.em.std**2\n",
      "    sum_alpha_m1 = np.sum(params)-1\n",
      "    w = float(sum_alpha_m1*sum_alpha_m1/em_var)\n",
      "    p = float(sum_alpha_m1/em_var)\n",
      "\n",
      "    returns = np.zeros((2,))\n",
      "    code = \"\"\"\n",
      "    for (int i=n_p; i < n; ++i) {\n",
      "        double err = -signal(i);\n",
      "        for (int j = 0; j < n_p; ++j) {\n",
      "            err += signal(i-n_p+j) * params(n_p-1-j);\n",
      "        }\n",
      "        double sigma2_new = sigma2 / (1.0 + sigma2*w);\n",
      "        mu = sigma2_new * (mu/sigma2 + p * err);\n",
      "        sigma2 = sigma2_new;\n",
      "    }\n",
      "    returns(0) = mu;\n",
      "    returns(1) = sigma2;\n",
      "    \"\"\"\n",
      "    weave.inline(code, ['n', 'n_p', 'params', 'signal', \n",
      "                                     'w', 'p', 'mu', \n",
      "                                     'sigma2', 'returns'],\n",
      "                     type_converters=converters.blitz,\n",
      "                     compiler='gcc')\n",
      "    mu, sigma2 = returns\n",
      "    return mu, sigma2\n",
      "         \n",
      "mu, cov = ar_param_posterior(signal, ar, 0, 1.0)\n",
      "print mu\n",
      "print cov\n",
      "pcov = np.eye(3)\n",
      "\n",
      "mu, cov = ar_param_posterior_fast(signal, ar, 0, pcov)\n",
      "print mu\n",
      "print cov\n",
      "#a,b = ar_var_posterior(signal, ar, 1,1)\n",
      "\n",
      "#m, v = ar_mean_posterior(signal, ar, 1.0, 1.0)\n",
      "#print m, np.sqrt(v)"
     ],
     "language": "python",
     "metadata": {},
     "outputs": [
      {
       "output_type": "stream",
       "stream": "stdout",
       "text": [
        "[ 0.4890559   0.2026901  -0.31014779]\n",
        "[[  1.87742782e-04  -8.85503974e-05  -1.06027565e-05]\n",
        " [ -8.85503974e-05   2.28909502e-04  -8.85503974e-05]\n",
        " [ -1.06027565e-05  -8.85503974e-05   1.87742782e-04]]\n",
        "[ 0.4890559   0.2026901  -0.31014779]\n",
        "[[  1.87742782e-04  -8.85503974e-05  -1.06027565e-05]\n",
        " [ -8.85503974e-05   2.28909502e-04  -8.85503974e-05]\n",
        " [ -1.06027565e-05  -8.85503974e-05   1.87742782e-04]]\n"
       ]
      }
     ],
     "prompt_number": 40
    },
    {
     "cell_type": "code",
     "collapsed": false,
     "input": [
      "stds = np.linspace(0.03, 0.07, 1000)\n",
      "\n",
      "std_probs = [np.exp(d.log_p(x**2)) for x in stds]\n",
      "plot(stds, std_probs)"
     ],
     "language": "python",
     "metadata": {},
     "outputs": [
      {
       "metadata": {},
       "output_type": "pyout",
       "prompt_number": 139,
       "text": [
        "[<matplotlib.lines.Line2D at 0x99f0f90>]"
       ]
      },
      {
       "metadata": {},
       "output_type": "display_data",
       "png": "[encoded data removed]",
       "text": [
        "<matplotlib.figure.Figure at 0x8271e50>"
       ]
      }
     ],
     "prompt_number": 139
    },
    {
     "cell_type": "code",
     "collapsed": false,
     "input": [],
     "language": "python",
     "metadata": {},
     "outputs": []
    }
   ],
   "metadata": {}
  }
 ]
}