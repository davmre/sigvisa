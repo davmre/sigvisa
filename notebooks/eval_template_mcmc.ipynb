{
 "metadata": {
  "name": "",
  "signature": "sha256:345302deb8e07d16425e694ab8e2b6a32ccfd4617580edf3c0d5a38fccba52b8"
 },
 "nbformat": 3,
 "nbformat_minor": 0,
 "worksheets": [
  {
   "cells": [
    {
     "cell_type": "code",
     "collapsed": false,
     "input": [
      "import numpy as np\n",
      "import sys\n",
      "import os\n",
      "import traceback\n",
      "\n",
      "\n",
      "import pickle\n",
      "import copy\n",
      "\n",
      "from sigvisa import Sigvisa\n",
      "\n",
      "from sigvisa.graph.sigvisa_graph import SigvisaGraph\n",
      "\n",
      "\n",
      "\n",
      "\n",
      "from sigvisa.infer.run_mcmc import run_open_world_MH\n",
      "from sigvisa.infer.mcmc_logger import MCMCLogger\n",
      "\n",
      "from sigvisa.infer.template_mcmc import *\n",
      "from sigvisa.plotting.plot import plot_with_fit, plot_with_fit_shapes, plot_pred_atimes\n",
      "from sigvisa.signals.common import Waveform\n",
      "from sigvisa.utils.fileutils import clear_directory, mkdir_p\n",
      "\n",
      "from sigvisa.experiments.one_station_templates_test import sample_template\n"
     ],
     "language": "python",
     "metadata": {},
     "outputs": [],
     "prompt_number": 1
    },
    {
     "cell_type": "code",
     "collapsed": false,
     "input": [
      "def do_plot(wn, ax=None):\n",
      "    if ax is None:\n",
      "      f = plt.figure(figsize=(15,5))\n",
      "      ax=f.add_subplot(111)\n",
      "    shape_colors = plot_with_fit_shapes(fname=None, wn=wn, axes=ax, plot_wave=True)\n",
      "    atimes = dict([(\"%d_%s\" % (eid, phase), wn.get_template_params_for_arrival(eid=eid, phase=phase)[0]['arrival_time']) for (eid, phase) in wn.arrivals()])\n",
      "    colors = dict([(\"%d_%s\" % (eid, phase), shape_colors[eid]) for (eid, phase) in wn.arrivals()])\n",
      "    plot_pred_atimes(dict(atimes), wn.get_wave(), axes=ax, color=colors, alpha=1.0, bottom_rel=-0.1, top_rel=0.0)\n",
      "    return ax\n",
      "\n"
     ],
     "language": "python",
     "metadata": {},
     "outputs": [],
     "prompt_number": 2
    },
    {
     "cell_type": "code",
     "collapsed": false,
     "input": [
      "from sigvisa.results.mwmatching import maxWeightMatching\n",
      "\n",
      "\n",
      "def match_templates(wn, gold_templates, max_delta_atime=10):\n",
      "    \n",
      "    edges = []\n",
      "    n_gold = len(gold_templates)\n",
      "    arrs = sorted(wn.arrivals())\n",
      "    for (i, arr) in enumerate(arrs):\n",
      "        guess_vals, _ = wn.get_template_params_for_arrival(*arr)\n",
      "        atime_guess = guess_vals['arrival_time']\n",
      "        amp_guess = guess_vals['coda_height']\n",
      "\n",
      "        for j in range(n_gold):\n",
      "            atime_gold = gold_templates[j]['arrival_time'].get_value()\n",
      "            amp_gold = gold_templates[j]['coda_height'].get_value()\n",
      "\n",
      "            if np.abs(atime_gold-atime_guess) < max_delta_atime:\n",
      "                wt = -np.abs(atime_gold-atime_guess) - np.abs(amp_gold-amp_guess)\n",
      "                edges.append((j, i+n_gold, wt))\n",
      "\n",
      "    mat = maxWeightMatching(edges, maxcardinality=True)\n",
      "\n",
      "    indices = []\n",
      "    for i in range(len(arrs)):\n",
      "        if mat[n_gold+i] >= 0:\n",
      "            assert(mat[n_gold+i] < n_gold)\n",
      "            indices.append((i, mat[n_gold+i]))\n",
      "    return indices\n",
      "\n",
      "def avg_dicts(ds):\n",
      "    keys = ds[0].keys()\n",
      "    n = float(len(ds))\n",
      "    acc = dict([(k, 0.0) for k in keys])\n",
      "    for d in ds:\n",
      "        for k in keys:\n",
      "            acc[k] += d[k]/n\n",
      "    return acc\n",
      "\n",
      "def analyze_template_matching(indices, wn, gold_templates):\n",
      "    n_gold = len(gold_templates)\n",
      "    arrs = sorted(wn.arrivals())\n",
      "    n_guess = len(arrs)\n",
      "    \n",
      "    n_matches = float(len(indices))\n",
      "    recall = n_matches/n_gold\n",
      "    precision = n_matches/n_guess\n",
      "\n",
      "    errs = []\n",
      "    for (guess_idx, gold_idx) in indices:\n",
      "        guess_vals, tg = wn.get_template_params_for_arrival(*arrs[guess_idx])\n",
      "        \n",
      "        err_dict = dict()\n",
      "        for param in tg.params() + ('arrival_time',):\n",
      "            guess_val = guess_vals[param]\n",
      "            gold_val = gold_templates[gold_idx][param].get_value()\n",
      "            err_dict[param] = np.abs(guess_val-gold_val)\n",
      "        errs.append(err_dict)\n",
      "         \n",
      "    mean_errs = avg_dicts(errs)\n",
      "    return recall, precision, mean_errs, errs\n",
      "\n",
      "def evaluate_inferred_templates(wn, gold_templates):\n",
      "    indices = match_templates(wn, gold_templates)\n",
      "    recall, precision, mean_errs, errs = analyze_template_matching(indices, wn, gold_templates)\n",
      "    print \"recall: %f, precision: %f\\nmean absolute errors: %s\" % (recall, precision, mean_errs)\n",
      "    \n"
     ],
     "language": "python",
     "metadata": {},
     "outputs": [],
     "prompt_number": 3
    },
    {
     "cell_type": "code",
     "collapsed": false,
     "input": [
      "import time\n",
      "from matplotlib.backends.backend_agg import FigureCanvasAgg\n",
      "\n",
      "def eval_template_move_combo(new_merge=True, old_merge=True, \n",
      "                             new_birth=True, old_birth=True, \n",
      "                             template_move_type=\"rw\", seeds=50, \n",
      "                             steps=1000, nm_type='l1'):\n",
      "    moves = {}\n",
      "    run_attrs = [template_move_type, nm_type, str(steps)]\n",
      "    if new_merge:\n",
      "        moves['tmpl_merge_opt'] = merge_move\n",
      "        moves['tmpl_split_opt'] = split_move\n",
      "        runattrs.append('newmerge')\n",
      "    if new_birth:\n",
      "        moves['tmpl_birth_opt'] = optimizing_birth_move\n",
      "        moves['tmpl_death_opt'] = death_move_for_optimizing_birth\n",
      "        run_attrs.append('newbirth')\n",
      "    if old_birth:\n",
      "        moves['tmpl_birth_old'] = birth_move\n",
      "        moves['tmpl_death_old'] = death_move\n",
      "    run_attrs.append('oldbirth')\n",
      "    \n",
      "    s = Sigvisa()\n",
      "    out_dir = os.path.join(s.homedir, 'experiments', 'template_mcmc', \"_\".join(run_attrs))\n",
      "    mkdir_p(out_dir)\n",
      "    \n",
      "    outfile = open(os.path.join(out_dir, \"run.html\"), 'w')\n",
      "    outfile.write(\"<html><body>\")\n",
      "    \n",
      "    total_recall = 0\n",
      "    total_precision = 0\n",
      "    all_mean_errs = []\n",
      "    for seed in range(seeds):\n",
      "        wave, gold_templates, sg, wn = sample_template(seed=seed, hardcoded=False, nm_type=nm_type, \n",
      "                                                  srate=1.0, rate=5e-3, return_graph=True)\n",
      "        fig = Figure(figsize=(15, 5))\n",
      "        canvas = FigureCanvasAgg(fig)\n",
      "        ax = fig.add_subplot(111)\n",
      "        do_plot(wn, ax)\n",
      "        fig.tight_layout()\n",
      "        fig.savefig(os.path.join(out_dir, \"%d_true.png\" % seed))\n",
      "        \n",
      "        sg = SigvisaGraph(template_model_type=\"dummy\", template_shape=\"lin_polyexp\",\n",
      "                              wiggle_model_type=\"dummy\", wiggle_family=\"dummy\",\n",
      "                              phases=\"leb\", nm_type = nm_type, wiggle_len_s = 60.0)\n",
      "        wn = sg.add_wave(wave)\n",
      "        sg.uatemplate_rate=5e-3\n",
      "\n",
      "        tg = sg.template_generator('UA')\n",
      "        tg.hack_force_mean = np.log(wn.nm.c * 10)\n",
      "\n",
      "        t0 = time.time()\n",
      "        run_open_world_MH(sg, steps=steps, enable_event_openworld=False, enable_event_moves=False, \n",
      "                          template_move_type=template_move_type, template_openworld_custom=moves,\n",
      "                          logger=False)\n",
      "        t1 = time.time()\n",
      "        \n",
      "        indices = match_templates(wn, gold_templates)\n",
      "        recall, precision, mean_errs, errs = analyze_template_matching(indices, wn, gold_templates)\n",
      "        \n",
      "        \n",
      "        fig = Figure(figsize=(15, 5))\n",
      "        canvas = FigureCanvasAgg(fig)\n",
      "        ax = fig.add_subplot(111)\n",
      "        do_plot(wn, ax)\n",
      "        fig.tight_layout()\n",
      "        fig.savefig(os.path.join(out_dir, \"%d.png\" % seed))\n",
      "        \n",
      "        results = \"logp %f\\ntime %f s\\n%d true templates\\n%d inferred\\nrecall %f\\nprecision %f\\n\\nerrs\\n\" % (sg.current_log_p(), t1-t0, len(gold_templates), len(wn.arrivals()), recall, precision)\n",
      "        for err in errs:\n",
      "            results += str(err) + \"\\n\"\n",
      "            \n",
      "        with open(os.path.join(out_dir, \"%d.txt\" % seed), 'w') as f:\n",
      "            f.write(results)\n",
      "        \n",
      "        outfile.write(\"<h2>seed %d</h2><pre>%s</pre><table><tr><td>True</td><td>Inferred</td></tr><tr><td><img src=\\\"%d_true.png\\\" width=600></td><td><img src=\\\"%d.png\\\" width=600></td></tr></table>\\n\\n\" % (seed, results, seed, seed))\n",
      "        \n",
      "        total_recall += recall\n",
      "        total_precision += precision\n",
      "        all_mean_errs.append(mean_errs)\n",
      "        \n",
      "    outfile.write(\"<h2>Summary</h2><tt>mean recall: %f, mean precision: %f</tt><p>\\n\" % (total_recall/float(seeds), total_precision/float(seeds)))\n",
      "\n",
      "    mean_mean_errs = avg_dicts(all_mean_errs)\n",
      "    \n",
      "    outfile.write(\"overall mean errs:<p><pre>%s</pre>\\n\" % mean_mean_errs)\n",
      "    outfile.write(\"</body></html>\")\n",
      "    outfile.close()"
     ],
     "language": "python",
     "metadata": {},
     "outputs": [],
     "prompt_number": 28
    },
    {
     "cell_type": "code",
     "collapsed": false,
     "input": [
      "eval_template_move_combo(new_merge=False,\n",
      "                             new_birth=True, old_birth=False, \n",
      "                             template_move_type=\"rw\", seeds=3, \n",
      "                             steps=100, nm_type='l1')"
     ],
     "language": "python",
     "metadata": {},
     "outputs": [
      {
       "output_type": "stream",
       "stream": "stdout",
       "text": [
        "plotting uatemplate -3 as color (0.0, 0.34705882352941175, 1.0, 1.0)\n",
        "plotting uatemplate -8 as color (0.0, 0.20588235294117635, 1.0, 1.0)\n",
        "plotting uatemplate -9 as color (0.0, 0.0, 0.85650623885917998, 1.0)\n",
        "plotting uatemplate -4 as color (0.0, 0.3784313725490196, 1.0, 1.0)\n",
        "plotting uatemplate -6 as color (0.0, 0.0176470588235293, 1.0, 1.0)\n",
        "plotting uatemplate -1 as color (0.0, 0.53529411764705859, 1.0, 1.0)\n",
        "plotting uatemplate -2 as color (0.0, 0.0, 0.571301247771836, 1.0)\n",
        "plotting uatemplate -5 as color (0.3257432005060088, 1.0, 0.6419987349778622, 1.0)\n",
        "plotting uatemplate -7 as color (0.18659076533839339, 1.0, 0.78115117014547764, 1.0)\n",
        "reading station detections... \n",
        "plotting uatemplate"
       ]
      },
      {
       "output_type": "stream",
       "stream": "stdout",
       "text": [
        " -1 as color (0.0, 0.1588235294117647, 1.0, 1.0)\n",
        "plotting uatemplate -2 as color (0.17394054395951927, 1.0, 0.7938013915243517, 1.0)\n",
        "reading station detections... \n",
        "plotting uatemplate"
       ]
      },
      {
       "output_type": "stream",
       "stream": "stdout",
       "text": [
        " -1 as color (0.0, 0.0, 0.517825311942959, 1.0)\n",
        "plotting uatemplate -2 as color (0.27514231499051228, 1.0, 0.69259962049335866, 1.0)\n",
        "reading station detections... \n",
        "plotting uatemplate"
       ]
      },
      {
       "output_type": "stream",
       "stream": "stdout",
       "text": [
        " -2 as color (0.14864010120177101, 1.0, 0.81910183428209993, 1.0)\n",
        "plotting uatemplate -1 as color (0.0, 0.0, 0.73172905525846699, 1.0)\n",
        "reading station detections... \n",
        "plotting uatemplate"
       ]
      },
      {
       "output_type": "stream",
       "stream": "stdout",
       "text": [
        " -2 as color (0.0, 0.25294117647058822, 1.0, 1.0)\n",
        "plotting uatemplate -1 as color (0.0, 0.86470588235294121, 0.99620493358633777, 1.0)\n",
        "reading station detections... \n",
        "plotting uatemplate"
       ]
      },
      {
       "output_type": "stream",
       "stream": "stdout",
       "text": [
        " -1 as color (0.0, 0.89607843137254906, 0.97090449082858954, 1.0)\n",
        "reading station detections... \n"
       ]
      }
     ],
     "prompt_number": 29
    },
    {
     "cell_type": "code",
     "collapsed": false,
     "input": [
      "nm_type='l1'\n",
      "seed=8\n",
      "\n",
      "wave, gold_templates = sample_template(seed=seed, hardcoded=False, nm_type=nm_type, srate=1.0, rate=5e-3)\n",
      "#tvals = dict([(k, n.get_value()) for (k, n) in templates[0].items()])\n",
      "\n",
      "sg = SigvisaGraph(template_model_type=\"dummy\", template_shape=\"lin_polyexp\",\n",
      "                              wiggle_model_type=\"dummy\", wiggle_family=\"dummy\",\n",
      "                              phases=\"leb\", nm_type = nm_type, wiggle_len_s = 60.0)\n",
      "wn = sg.add_wave(wave)\n",
      "sg.uatemplate_rate=5e-3\n",
      "\n",
      "tg = sg.template_generator('UA')\n",
      "tg.hack_force_mean = np.log(wn.nm.c * 10)\n",
      "\n",
      "moves = {'tmpl_birth': birth_move,\n",
      "         'tmpl_death': death_move,}\n",
      "         #'tmpl_split': split_move,\n",
      "         #'tmpl_merge': merge_move,\n",
      "         #'swap_association': swap_association_move}\n",
      "\n",
      "run_open_world_MH(sg, steps=1000, enable_event_openworld=False, enable_event_moves=False, template_move_type=\"rw\", template_openworld_custom=moves)\n",
      "\n",
      "evaluate_inferred_templates(wn, gold_templates)"
     ],
     "language": "python",
     "metadata": {},
     "outputs": [
      {
       "output_type": "stream",
       "stream": "stdout",
       "text": [
        "step 1: lp -6483.72, accepted  arrival_time: 1.000%,  coda_decay: 0.500%,  coda_height: 0.000%,  indep_peak: 0.000%,  peak_decay: 0.000%,  peak_offset: 0.500%,  tmpl_birth: 1.000%,  , uatemplates:  1 , events:  0\n",
        "step 2: lp -6279.89, accepted  arrival_time: 1.000%,  coda_decay: 0.667%,  coda_height: 0.000%,  indep_peak: 0.333%,  peak_decay: 0.333%,  peak_offset: 0.500%,  tmpl_birth: 1.000%,  , uatemplates:  1 , events:  0\n",
        "step 3: lp -6265.58, accepted  arrival_time: 1.000%,  coda_decay: 0.500%,  coda_height: 0.000%,  indep_peak: 0.500%,  peak_decay: 0.250%,  peak_offset: 0.375%,  tmpl_birth: 1.000%,  , uatemplates:  1 , events:  0\n",
        "step 4: lp -6131.58, accepted  arrival_time: 1.000%,  coda_decay: 0.600%,  coda_height: 0.000%,  indep_peak: 0.600%,  peak_decay: 0.200%,  peak_offset: 0.300%,  tmpl_birth: 1.000%,  , uatemplates:  1 , events:  0\n",
        "step 20: lp -5157.36, accepted "
       ]
      },
      {
       "output_type": "stream",
       "stream": "stdout",
       "text": [
        " arrival_time: 0.905%,  coda_decay: 0.238%,  coda_height: 0.095%,  indep_peak: 0.143%,  peak_decay: 0.238%,  peak_offset: 0.119%,  tmpl_birth: 1.000%,  , uatemplates:  1 , events:  0\n",
        "step 40: lp -4936.37, accepted "
       ]
      },
      {
       "output_type": "stream",
       "stream": "stdout",
       "text": [
        " arrival_time: 0.800%,  coda_decay: 0.160%,  coda_height: 0.040%,  indep_peak: 0.140%,  peak_decay: 0.320%,  peak_offset: 0.100%,  tmpl_birth: 0.667%,  , uatemplates:  2 , events:  0\n",
        "step 60: lp -4885.17, accepted "
       ]
      },
      {
       "output_type": "stream",
       "stream": "stdout",
       "text": [
        " arrival_time: 0.667%,  coda_decay: 0.133%,  coda_height: 0.022%,  indep_peak: 0.078%,  peak_decay: 0.289%,  peak_offset: 0.061%,  tmpl_birth: 0.667%,  tmpl_death: 0.000%,  , uatemplates:  2 , events:  0\n",
        "step 80: lp -4866.73, accepted "
       ]
      },
      {
       "output_type": "stream",
       "stream": "stdout",
       "text": [
        " arrival_time: 0.677%,  coda_decay: 0.100%,  coda_height: 0.015%,  indep_peak: 0.054%,  peak_decay: 0.285%,  peak_offset: 0.046%,  tmpl_birth: 0.500%,  tmpl_death: 0.000%,  , uatemplates:  2 , events:  0\n",
        "step 100: lp -4863.44, accepted "
       ]
      },
      {
       "output_type": "stream",
       "stream": "stdout",
       "text": [
        " arrival_time: 0.653%,  coda_decay: 0.088%,  coda_height: 0.012%,  indep_peak: 0.041%,  peak_decay: 0.235%,  peak_offset: 0.035%,  tmpl_birth: 0.500%,  tmpl_death: 0.000%,  , uatemplates:  2 , events:  0\n",
        "step 120: lp -4855.69, accepted "
       ]
      },
      {
       "output_type": "stream",
       "stream": "stdout",
       "text": [
        " arrival_time: 0.671%,  coda_decay: 0.076%,  coda_height: 0.014%,  indep_peak: 0.033%,  peak_decay: 0.229%,  peak_offset: 0.031%,  tmpl_birth: 0.400%,  tmpl_death: 0.000%,  , uatemplates:  2 , events:  0\n",
        "step 140: lp -4539.32, accepted "
       ]
      },
      {
       "output_type": "stream",
       "stream": "stdout",
       "text": [
        " arrival_time: 0.664%,  coda_decay: 0.071%,  coda_height: 0.012%,  indep_peak: 0.028%,  peak_decay: 0.206%,  peak_offset: 0.034%,  tmpl_birth: 0.500%,  tmpl_death: 0.000%,  , uatemplates:  3 , events:  0\n",
        "step 160: lp -4499.42, accepted "
       ]
      },
      {
       "output_type": "stream",
       "stream": "stdout",
       "text": [
        " arrival_time: 0.655%,  coda_decay: 0.061%,  coda_height: 0.013%,  indep_peak: 0.022%,  peak_decay: 0.198%,  peak_offset: 0.029%,  tmpl_birth: 0.429%,  tmpl_death: 0.000%,  , uatemplates:  3 , events:  0\n",
        "step 180: lp -4473.27, accepted "
       ]
      },
      {
       "output_type": "stream",
       "stream": "stdout",
       "text": [
        " arrival_time: 0.627%,  coda_decay: 0.054%,  coda_height: 0.013%,  indep_peak: 0.019%,  peak_decay: 0.180%,  peak_offset: 0.034%,  tmpl_birth: 0.429%,  tmpl_death: 0.000%,  , uatemplates:  3 , events:  0\n",
        "step 200: lp -4369.81, accepted "
       ]
      },
      {
       "output_type": "stream",
       "stream": "stdout",
       "text": [
        " arrival_time: 0.603%,  coda_decay: 0.052%,  coda_height: 0.016%,  indep_peak: 0.020%,  peak_decay: 0.176%,  peak_offset: 0.037%,  tmpl_birth: 0.444%,  tmpl_death: 0.000%,  , uatemplates:  4 , events:  0\n",
        "step 220: lp -4371.62, accepted "
       ]
      },
      {
       "output_type": "stream",
       "stream": "stdout",
       "text": [
        " arrival_time: 0.585%,  coda_decay: 0.048%,  coda_height: 0.013%,  indep_peak: 0.017%,  peak_decay: 0.178%,  peak_offset: 0.048%,  tmpl_birth: 0.364%,  tmpl_death: 0.000%,  , uatemplates:  4 , events:  0\n",
        "step 240: lp -4356.92, accepted "
       ]
      },
      {
       "output_type": "stream",
       "stream": "stdout",
       "text": [
        " arrival_time: 0.574%,  coda_decay: 0.041%,  coda_height: 0.015%,  indep_peak: 0.015%,  peak_decay: 0.194%,  peak_offset: 0.050%,  tmpl_birth: 0.364%,  tmpl_death: 0.000%,  , uatemplates:  4 , events:  0\n",
        "step 260: lp -4337.18, accepted "
       ]
      },
      {
       "output_type": "stream",
       "stream": "stdout",
       "text": [
        " arrival_time: 0.568%,  coda_decay: 0.045%,  coda_height: 0.013%,  indep_peak: 0.013%,  peak_decay: 0.180%,  peak_offset: 0.051%,  tmpl_birth: 0.364%,  tmpl_death: 0.000%,  , uatemplates:  4 , events:  0\n",
        "step 280: lp -4335.58, accepted "
       ]
      },
      {
       "output_type": "stream",
       "stream": "stdout",
       "text": [
        " arrival_time: 0.558%,  coda_decay: 0.042%,  coda_height: 0.013%,  indep_peak: 0.012%,  peak_decay: 0.169%,  peak_offset: 0.051%,  tmpl_birth: 0.333%,  tmpl_death: 0.000%,  , uatemplates:  4 , events:  0\n",
        "step 300: lp -4325.33, accepted "
       ]
      },
      {
       "output_type": "stream",
       "stream": "stdout",
       "text": [
        " arrival_time: 0.558%,  coda_decay: 0.039%,  coda_height: 0.015%,  indep_peak: 0.011%,  peak_decay: 0.165%,  peak_offset: 0.054%,  tmpl_birth: 0.333%,  tmpl_death: 0.000%,  , uatemplates:  4 , events:  0\n",
        "step 320: lp -4297.98, accepted "
       ]
      },
      {
       "output_type": "stream",
       "stream": "stdout",
       "text": [
        " arrival_time: 0.548%,  coda_decay: 0.043%,  coda_height: 0.014%,  indep_peak: 0.010%,  peak_decay: 0.166%,  peak_offset: 0.053%,  tmpl_birth: 0.357%,  tmpl_death: 0.000%,  , uatemplates:  5 , events:  0\n",
        "step 340: lp -4295.27, accepted "
       ]
      },
      {
       "output_type": "stream",
       "stream": "stdout",
       "text": [
        " arrival_time: 0.534%,  coda_decay: 0.042%,  coda_height: 0.013%,  indep_peak: 0.009%,  peak_decay: 0.164%,  peak_offset: 0.052%,  tmpl_birth: 0.333%,  tmpl_death: 0.000%,  , uatemplates:  5 , events:  0\n",
        "step 360: lp -4284.62, accepted "
       ]
      },
      {
       "output_type": "stream",
       "stream": "stdout",
       "text": [
        " arrival_time: 0.526%,  coda_decay: 0.044%,  coda_height: 0.012%,  indep_peak: 0.008%,  peak_decay: 0.164%,  peak_offset: 0.054%,  tmpl_birth: 0.312%,  tmpl_death: 0.000%,  , uatemplates:  5 , events:  0\n",
        "step 380: lp -4284.19, accepted "
       ]
      },
      {
       "output_type": "stream",
       "stream": "stdout",
       "text": [
        " arrival_time: 0.517%,  coda_decay: 0.042%,  coda_height: 0.011%,  indep_peak: 0.007%,  peak_decay: 0.161%,  peak_offset: 0.055%,  tmpl_birth: 0.278%,  tmpl_death: 0.000%,  , uatemplates:  5 , events:  0\n",
        "step 400: lp -4282.50, accepted "
       ]
      },
      {
       "output_type": "stream",
       "stream": "stdout",
       "text": [
        " arrival_time: 0.508%,  coda_decay: 0.043%,  coda_height: 0.012%,  indep_peak: 0.007%,  peak_decay: 0.157%,  peak_offset: 0.055%,  tmpl_birth: 0.263%,  tmpl_death: 0.000%,  , uatemplates:  5 , events:  0\n",
        "step 420: lp -4276.16, accepted "
       ]
      },
      {
       "output_type": "stream",
       "stream": "stdout",
       "text": [
        " arrival_time: 0.501%,  coda_decay: 0.042%,  coda_height: 0.012%,  indep_peak: 0.006%,  peak_decay: 0.151%,  peak_offset: 0.056%,  tmpl_birth: 0.250%,  tmpl_death: 0.000%,  , uatemplates:  5 , events:  0\n",
        "step 440: lp -4280.95, accepted "
       ]
      },
      {
       "output_type": "stream",
       "stream": "stdout",
       "text": [
        " arrival_time: 0.499%,  coda_decay: 0.044%,  coda_height: 0.011%,  indep_peak: 0.006%,  peak_decay: 0.144%,  peak_offset: 0.055%,  tmpl_birth: 0.238%,  tmpl_death: 0.000%,  , uatemplates:  5 , events:  0\n",
        "step 460: lp -4276.91, accepted "
       ]
      },
      {
       "output_type": "stream",
       "stream": "stdout",
       "text": [
        " arrival_time: 0.493%,  coda_decay: 0.043%,  coda_height: 0.012%,  indep_peak: 0.005%,  peak_decay: 0.139%,  peak_offset: 0.054%,  tmpl_birth: 0.208%,  tmpl_death: 0.000%,  , uatemplates:  5 , events:  0\n",
        "step 480: lp -4274.54, accepted "
       ]
      },
      {
       "output_type": "stream",
       "stream": "stdout",
       "text": [
        " arrival_time: 0.488%,  coda_decay: 0.041%,  coda_height: 0.012%,  indep_peak: 0.005%,  peak_decay: 0.133%,  peak_offset: 0.054%,  tmpl_birth: 0.200%,  tmpl_death: 0.000%,  , uatemplates:  5 , events:  0\n",
        "saving debug dump to logs/mcmc/00004/step_000499..."
       ]
      },
      {
       "output_type": "stream",
       "stream": "stdout",
       "text": [
        "\n",
        "saved pickled graph\n",
        "step 500: lp -4274.45, accepted  arrival_time: 0.484%,  coda_decay: 0.040%,  coda_height: 0.011%,  indep_peak: 0.005%,  peak_decay: 0.135%,  peak_offset: 0.054%,  tmpl_birth: 0.200%,  tmpl_death: 0.000%,  , uatemplates:  5 , events:  0\n",
        "step 520: lp -4274.83, accepted "
       ]
      },
      {
       "output_type": "stream",
       "stream": "stdout",
       "text": [
        " arrival_time: 0.479%,  coda_decay: 0.038%,  coda_height: 0.011%,  indep_peak: 0.005%,  peak_decay: 0.138%,  peak_offset: 0.054%,  tmpl_birth: 0.200%,  tmpl_death: 0.000%,  , uatemplates:  5 , events:  0\n",
        "step 540: lp -4272.26, accepted "
       ]
      },
      {
       "output_type": "stream",
       "stream": "stdout",
       "text": [
        " arrival_time: 0.474%,  coda_decay: 0.037%,  coda_height: 0.010%,  indep_peak: 0.004%,  peak_decay: 0.137%,  peak_offset: 0.055%,  tmpl_birth: 0.200%,  tmpl_death: 0.000%,  , uatemplates:  5 , events:  0\n",
        "step 560: lp -4273.87, accepted "
       ]
      },
      {
       "output_type": "stream",
       "stream": "stdout",
       "text": [
        " arrival_time: 0.468%,  coda_decay: 0.038%,  coda_height: 0.010%,  indep_peak: 0.004%,  peak_decay: 0.135%,  peak_offset: 0.054%,  tmpl_birth: 0.200%,  tmpl_death: 0.000%,  , uatemplates:  5 , events:  0\n",
        "step 580: lp -4275.47, accepted "
       ]
      },
      {
       "output_type": "stream",
       "stream": "stdout",
       "text": [
        " arrival_time: 0.464%,  coda_decay: 0.038%,  coda_height: 0.011%,  indep_peak: 0.004%,  peak_decay: 0.133%,  peak_offset: 0.056%,  tmpl_birth: 0.192%,  tmpl_death: 0.000%,  , uatemplates:  5 , events:  0\n",
        "step 600: lp -4272.89, accepted "
       ]
      },
      {
       "output_type": "stream",
       "stream": "stdout",
       "text": [
        " arrival_time: 0.457%,  coda_decay: 0.038%,  coda_height: 0.011%,  indep_peak: 0.004%,  peak_decay: 0.131%,  peak_offset: 0.056%,  tmpl_birth: 0.192%,  tmpl_death: 0.000%,  , uatemplates:  5 , events:  0\n",
        "step 620: lp -4275.57, accepted "
       ]
      },
      {
       "output_type": "stream",
       "stream": "stdout",
       "text": [
        " arrival_time: 0.454%,  coda_decay: 0.037%,  coda_height: 0.011%,  indep_peak: 0.004%,  peak_decay: 0.130%,  peak_offset: 0.057%,  tmpl_birth: 0.179%,  tmpl_death: 0.000%,  , uatemplates:  5 , events:  0\n",
        "step 640: lp -4271.30, accepted "
       ]
      },
      {
       "output_type": "stream",
       "stream": "stdout",
       "text": [
        " arrival_time: 0.452%,  coda_decay: 0.037%,  coda_height: 0.011%,  indep_peak: 0.004%,  peak_decay: 0.127%,  peak_offset: 0.057%,  tmpl_birth: 0.179%,  tmpl_death: 0.000%,  , uatemplates:  5 , events:  0\n",
        "step 660: lp -4275.41, accepted "
       ]
      },
      {
       "output_type": "stream",
       "stream": "stdout",
       "text": [
        " arrival_time: 0.450%,  coda_decay: 0.038%,  coda_height: 0.011%,  indep_peak: 0.004%,  peak_decay: 0.129%,  peak_offset: 0.057%,  tmpl_birth: 0.172%,  tmpl_death: 0.000%,  , uatemplates:  5 , events:  0\n",
        "step 680: lp -4278.32, accepted "
       ]
      },
      {
       "output_type": "stream",
       "stream": "stdout",
       "text": [
        " arrival_time: 0.446%,  coda_decay: 0.037%,  coda_height: 0.011%,  indep_peak: 0.004%,  peak_decay: 0.127%,  peak_offset: 0.058%,  tmpl_birth: 0.167%,  tmpl_death: 0.000%,  , uatemplates:  5 , events:  0\n",
        "step 700: lp -4277.28, accepted "
       ]
      },
      {
       "output_type": "stream",
       "stream": "stdout",
       "text": [
        " arrival_time: 0.442%,  coda_decay: 0.037%,  coda_height: 0.012%,  indep_peak: 0.004%,  peak_decay: 0.127%,  peak_offset: 0.058%,  tmpl_birth: 0.167%,  tmpl_death: 0.000%,  , uatemplates:  5 , events:  0\n",
        "step 720: lp -4273.04, accepted "
       ]
      },
      {
       "output_type": "stream",
       "stream": "stdout",
       "text": [
        " arrival_time: 0.439%,  coda_decay: 0.038%,  coda_height: 0.013%,  indep_peak: 0.003%,  peak_decay: 0.127%,  peak_offset: 0.058%,  tmpl_birth: 0.161%,  tmpl_death: 0.000%,  , uatemplates:  5 , events:  0\n",
        "step 740: lp -4271.67, accepted "
       ]
      },
      {
       "output_type": "stream",
       "stream": "stdout",
       "text": [
        " arrival_time: 0.439%,  coda_decay: 0.039%,  coda_height: 0.013%,  indep_peak: 0.003%,  peak_decay: 0.127%,  peak_offset: 0.059%,  tmpl_birth: 0.161%,  tmpl_death: 0.000%,  , uatemplates:  5 , events:  0\n",
        "step 760: lp -4274.87, accepted "
       ]
      },
      {
       "output_type": "stream",
       "stream": "stdout",
       "text": [
        " arrival_time: 0.437%,  coda_decay: 0.038%,  coda_height: 0.012%,  indep_peak: 0.003%,  peak_decay: 0.127%,  peak_offset: 0.059%,  tmpl_birth: 0.147%,  tmpl_death: 0.000%,  , uatemplates:  5 , events:  0\n",
        "step 780: lp -4271.70, accepted "
       ]
      },
      {
       "output_type": "stream",
       "stream": "stdout",
       "text": [
        " arrival_time: 0.435%,  coda_decay: 0.038%,  coda_height: 0.012%,  indep_peak: 0.003%,  peak_decay: 0.125%,  peak_offset: 0.059%,  tmpl_birth: 0.139%,  tmpl_death: 0.000%,  , uatemplates:  5 , events:  0\n",
        "step 800: lp -4273.67, accepted "
       ]
      },
      {
       "output_type": "stream",
       "stream": "stdout",
       "text": [
        " arrival_time: 0.435%,  coda_decay: 0.037%,  coda_height: 0.011%,  indep_peak: 0.003%,  peak_decay: 0.126%,  peak_offset: 0.058%,  tmpl_birth: 0.132%,  tmpl_death: 0.000%,  , uatemplates:  5 , events:  0\n",
        "step 820: lp -4270.54, accepted "
       ]
      },
      {
       "output_type": "stream",
       "stream": "stdout",
       "text": [
        " arrival_time: 0.435%,  coda_decay: 0.037%,  coda_height: 0.012%,  indep_peak: 0.003%,  peak_decay: 0.125%,  peak_offset: 0.058%,  tmpl_birth: 0.132%,  tmpl_death: 0.000%,  , uatemplates:  5 , events:  0\n",
        "step 840: lp -4268.14, accepted "
       ]
      },
      {
       "output_type": "stream",
       "stream": "stdout",
       "text": [
        " arrival_time: 0.437%,  coda_decay: 0.037%,  coda_height: 0.012%,  indep_peak: 0.003%,  peak_decay: 0.125%,  peak_offset: 0.059%,  tmpl_birth: 0.132%,  tmpl_death: 0.000%,  , uatemplates:  5 , events:  0\n",
        "step 860: lp -4270.37, accepted "
       ]
      },
      {
       "output_type": "stream",
       "stream": "stdout",
       "text": [
        " arrival_time: 0.437%,  coda_decay: 0.036%,  coda_height: 0.012%,  indep_peak: 0.003%,  peak_decay: 0.125%,  peak_offset: 0.060%,  tmpl_birth: 0.125%,  tmpl_death: 0.000%,  , uatemplates:  5 , events:  0\n",
        "step 880: lp -4266.94, accepted "
       ]
      },
      {
       "output_type": "stream",
       "stream": "stdout",
       "text": [
        " arrival_time: 0.434%,  coda_decay: 0.037%,  coda_height: 0.012%,  indep_peak: 0.003%,  peak_decay: 0.125%,  peak_offset: 0.060%,  tmpl_birth: 0.125%,  tmpl_death: 0.000%,  , uatemplates:  5 , events:  0\n",
        "step 900: lp -4273.11, accepted "
       ]
      },
      {
       "output_type": "stream",
       "stream": "stdout",
       "text": [
        " arrival_time: 0.435%,  coda_decay: 0.036%,  coda_height: 0.012%,  indep_peak: 0.003%,  peak_decay: 0.126%,  peak_offset: 0.060%,  tmpl_birth: 0.122%,  tmpl_death: 0.000%,  , uatemplates:  5 , events:  0\n",
        "step 920: lp -4269.28, accepted "
       ]
      },
      {
       "output_type": "stream",
       "stream": "stdout",
       "text": [
        " arrival_time: 0.435%,  coda_decay: 0.036%,  coda_height: 0.012%,  indep_peak: 0.003%,  peak_decay: 0.126%,  peak_offset: 0.060%,  tmpl_birth: 0.116%,  tmpl_death: 0.000%,  , uatemplates:  5 , events:  0\n",
        "step 940: lp -4269.45, accepted "
       ]
      },
      {
       "output_type": "stream",
       "stream": "stdout",
       "text": [
        " arrival_time: 0.431%,  coda_decay: 0.035%,  coda_height: 0.012%,  indep_peak: 0.002%,  peak_decay: 0.128%,  peak_offset: 0.059%,  tmpl_birth: 0.116%,  tmpl_death: 0.000%,  , uatemplates:  5 , events:  0\n",
        "step 960: lp -4272.47, accepted "
       ]
      },
      {
       "output_type": "stream",
       "stream": "stdout",
       "text": [
        " arrival_time: 0.429%,  coda_decay: 0.036%,  coda_height: 0.012%,  indep_peak: 0.002%,  peak_decay: 0.128%,  peak_offset: 0.059%,  tmpl_birth: 0.114%,  tmpl_death: 0.000%,  , uatemplates:  5 , events:  0\n",
        "step 980: lp -4278.16, accepted "
       ]
      },
      {
       "output_type": "stream",
       "stream": "stdout",
       "text": [
        " arrival_time: 0.428%,  coda_decay: 0.036%,  coda_height: 0.012%,  indep_peak: 0.002%,  peak_decay: 0.127%,  peak_offset: 0.060%,  tmpl_birth: 0.111%,  tmpl_death: 0.000%,  , uatemplates:  5 , events:  0\n",
        "saving debug dump to logs/mcmc/00004/step_000999..."
       ]
      },
      {
       "output_type": "stream",
       "stream": "stdout",
       "text": [
        "\n",
        "saved pickled graph\n"
       ]
      }
     ],
     "prompt_number": 9
    },
    {
     "cell_type": "code",
     "collapsed": false,
     "input": [
      "do_plot(wn)"
     ],
     "language": "python",
     "metadata": {},
     "outputs": [
      {
       "output_type": "stream",
       "stream": "stdout",
       "text": [
        "plotting uatemplate -1 as color (0.0, 0.0, 0.96345811051693397, 1.0)\n",
        "plotting uatemplate -3 as color (0.0, 0.0, 0.87433155080213898, 1.0)\n",
        "plotting uatemplate -2 as color (0.0, 0.0, 0.66042780748663099, 1.0)\n",
        "plotting uatemplate -4 as color (0.0, 0.42549019607843136, 1.0, 1.0)\n",
        "plotting uatemplate -5 as color (0.0, 0.73921568627450984, 1.0, 1.0)\n",
        "reading station detections... \n"
       ]
      },
      {
       "metadata": {},
       "output_type": "pyout",
       "prompt_number": 10,
       "text": [
        "<matplotlib.axes.AxesSubplot at 0x570ea50>"
       ]
      },
      {
       "metadata": {},
       "output_type": "display_data",
       "png": "[encoded data removed]",
       "text": [
        "<matplotlib.figure.Figure at 0x572f350>"
       ]
      }
     ],
     "prompt_number": 10
    },
    {
     "cell_type": "code",
     "collapsed": false,
     "input": [
      "evaluate_inferred_templates(wn, gold_templates)"
     ],
     "language": "python",
     "metadata": {},
     "outputs": [
      {
       "output_type": "stream",
       "stream": "stdout",
       "text": [
        "recall: 1.000000, precision: 1.000000\n",
        "mean absolute errors: {'coda_height': 0.36285643530856204, 'arrival_time': 43.061631727218625, 'coda_decay': 0.6555558260360751, 'peak_decay': 0.64771868609192251, 'peak_offset': 0.68396219118967483}\n"
       ]
      }
     ],
     "prompt_number": 11
    },
    {
     "cell_type": "code",
     "collapsed": false,
     "input": [
      "indices = match_templates(wn, gold_templates)\n",
      "print indices\n",
      "recall, precision, mean_errs, errs = analyze_template_matching(indices, wn, gold_templates)\n",
      "print recall, precision\n",
      "for err in errs:\n",
      "    print err"
     ],
     "language": "python",
     "metadata": {},
     "outputs": [
      {
       "output_type": "stream",
       "stream": "stdout",
       "text": [
        "[(0, 2), (1, 3), (2, 1), (4, 4)]\n",
        "0.8 0.8\n",
        "{'coda_height': 0.040677205220541579, 'arrival_time': 0.73684120178222656, 'coda_decay': 0.47146944253820422, 'peak_decay': 0.12920095078220539, 'peak_offset': 0.64701378208514149}\n",
        "{'coda_height': 0.035267972468694564, 'arrival_time': 0.56947541236877441, 'coda_decay': 0.14699819817366011, 'peak_decay': 0.36983695691762941, 'peak_offset': 0.68021331650451189}\n",
        "{'coda_height': 0.6287187699911827, 'arrival_time': 0.4823920726776123, 'coda_decay': 0.3515014199260369, 'peak_decay': 0.9333791750968492, 'peak_offset': 2.3956803698540279}\n",
        "{'coda_height': 0.66108129283502848, 'arrival_time': 0.90798521041870117, 'coda_decay': 0.15973838397120588, 'peak_decay': 1.0666480960374742, 'peak_offset': 0.23118974605583054}\n"
       ]
      }
     ],
     "prompt_number": 21
    },
    {
     "cell_type": "code",
     "collapsed": false,
     "input": [],
     "language": "python",
     "metadata": {},
     "outputs": []
    }
   ],
   "metadata": {}
  }
 ]
}