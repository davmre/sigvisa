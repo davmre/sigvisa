{
 "metadata": {
  "name": "aistats data munging"
 },
 "nbformat": 3,
 "nbformat_minor": 0,
 "worksheets": [
  {
   "cells": [
    {
     "cell_type": "code",
     "collapsed": false,
     "input": [
      "import pandas as pd\n",
      "h1 = pd.read_csv('papers/product_tree/cal_housing_data.csv')\n",
      "h2 = pd.read_csv('papers/product_tree/cal_housing_dbf.csv')\n",
      "h2 = h2[np.isfinite(h2['BLCKGR'])]\n",
      "h2 = h2[h2['H061A001'] > 0]\n",
      "print h1\n",
      "print h2"
     ],
     "language": "python",
     "metadata": {},
     "outputs": [
      {
       "output_type": "stream",
       "stream": "stdout",
       "text": [
        "<class 'pandas.core.frame.DataFrame'>\n",
        "Int64Index: 20640 entries, 0 to 20639\n",
        "Data columns (total 9 columns):\n",
        "lon           20640  non-null values\n",
        "lat           20640  non-null values\n",
        "age           20640  non-null values\n",
        "income        20640  non-null values\n",
        "units         20640  non-null values\n",
        "population    20640  non-null values\n",
        "households    20640  non-null values\n",
        "rooms         20640  non-null values\n",
        "value         20640  non-null values\n",
        "dtypes: float64(9)\n",
        "<class 'pandas.core.frame.DataFrame'>\n",
        "Int64Index: 20077 entries, 901 to 29191\n",
        "Data columns (total 99 columns):\n",
        "FIPS        20077  non-null values\n",
        "TRACT       20077  non-null values\n",
        "BLOCKGR     20077  non-null values\n",
        "SUMLEV      20077  non-null values\n",
        "STATEFP     20077  non-null values\n",
        "CNTY        20077  non-null values\n",
        "COUSUBFP    0  non-null values\n",
        "PLACEFP     0  non-null values\n",
        "TRACTBNA    20077  non-null values\n",
        "BLCKGR      20077  non-null values\n",
        "LOGRECNU    20077  non-null values\n",
        "P0010001    20077  non-null values\n",
        "P0050001    20077  non-null values\n",
        "P0060001    20077  non-null values\n",
        "P0060002    20077  non-null values\n",
        "P0060003    20077  non-null values\n",
        "P0060004    20077  non-null values\n",
        "P0100001    20077  non-null values\n",
        "P0120001    20077  non-null values\n",
        "P0120002    20077  non-null values\n",
        "P0120003    20077  non-null values\n",
        "P0120004    20077  non-null values\n",
        "P0120005    20077  non-null values\n",
        "P0130001    20077  non-null values\n",
        "P0130002    20077  non-null values\n",
        "P0130003    20077  non-null values\n",
        "P0130004    20077  non-null values\n",
        "P0190005    20077  non-null values\n",
        "P0190007    20077  non-null values\n",
        "P0230001    20077  non-null values\n",
        "P0230002    20077  non-null values\n",
        "P0230003    20077  non-null values\n",
        "P0230008    20077  non-null values\n",
        "P0230009    20077  non-null values\n",
        "P0230010    20077  non-null values\n",
        "P0230015    20077  non-null values\n",
        "P0230016    20077  non-null values\n",
        "P0230017    20077  non-null values\n",
        "P0290001    20077  non-null values\n",
        "P0290002    20077  non-null values\n",
        "P0290003    20077  non-null values\n",
        "P0290004    20077  non-null values\n",
        "P0290005    20077  non-null values\n",
        "P0290006    20077  non-null values\n",
        "P0290007    20077  non-null values\n",
        "P0570001    20077  non-null values\n",
        "P0570002    20077  non-null values\n",
        "P0570003    20077  non-null values\n",
        "P0570004    20077  non-null values\n",
        "P0570005    20077  non-null values\n",
        "P0570006    20077  non-null values\n",
        "P0570007    20077  non-null values\n",
        "P0600001    20077  non-null values\n",
        "P0600002    20077  non-null values\n",
        "P0600003    20077  non-null values\n",
        "P0600004    20077  non-null values\n",
        "P0600005    20077  non-null values\n",
        "P0600006    20077  non-null values\n",
        "P0600007    20077  non-null values\n",
        "P080A001    20077  non-null values\n",
        "P1170001    20077  non-null values\n",
        "P1170002    20077  non-null values\n",
        "P1170013    20077  non-null values\n",
        "P1170014    20077  non-null values\n",
        "H0010001    20077  non-null values\n",
        "H0040001    20077  non-null values\n",
        "H0040002    20077  non-null values\n",
        "H0080001    20077  non-null values\n",
        "H0080002    20077  non-null values\n",
        "H0250001    20077  non-null values\n",
        "H0250002    20077  non-null values\n",
        "H0250003    20077  non-null values\n",
        "H0250004    20077  non-null values\n",
        "H0250005    20077  non-null values\n",
        "H0250006    20077  non-null values\n",
        "H0250007    20077  non-null values\n",
        "H0250008    20077  non-null values\n",
        "H061A001    20077  non-null values\n",
        "P006X1P     20077  non-null values\n",
        "H008X1P     20077  non-null values\n",
        "P010X1P     20077  non-null values\n",
        "P012X1      20077  non-null values\n",
        "P012X1P     20077  non-null values\n",
        "P013X1      20077  non-null values\n",
        "P013X1P     20077  non-null values\n",
        "P013X2      20077  non-null values\n",
        "P019X1P     20077  non-null values\n",
        "P023X1      20077  non-null values\n",
        "P023X1P     20077  non-null values\n",
        "H025X1      20077  non-null values\n",
        "H025X1P     20077  non-null values\n",
        "P029X1      20077  non-null values\n",
        "P029X1P     20077  non-null values\n",
        "P057X1      20077  non-null values\n",
        "P057X1P     20077  non-null values\n",
        "P060X1      20077  non-null values\n",
        "P060X1P     20077  non-null values\n",
        "P117X1      20077  non-null values\n",
        "P117X1P     20077  non-null values\n",
        "dtypes: float64(94), int64(4), object(1)\n"
       ]
      }
     ],
     "prompt_number": 124
    },
    {
     "cell_type": "code",
     "collapsed": false,
     "input": [
      "(h2[h2['H061A001'] == 14999])['P0050001']"
     ],
     "language": "python",
     "metadata": {},
     "outputs": [
      {
       "output_type": "pyout",
       "prompt_number": 145,
       "text": [
        "3788     114\n",
        "4600      50\n",
        "4682     117\n",
        "5241     213\n",
        "15615    505\n",
        "18885    616\n",
        "26229    331\n",
        "Name: P0050001, dtype: float64"
       ]
      }
     ],
     "prompt_number": 145
    },
    {
     "cell_type": "code",
     "collapsed": false,
     "input": [
      "h1[h1['value'] == 14999]"
     ],
     "language": "python",
     "metadata": {},
     "outputs": [
      {
       "html": [
        "<div style=\"max-height:1000px;max-width:1500px;overflow:auto;\">\n",
        "<table border=\"1\" class=\"dataframe\">\n",
        "  <thead>\n",
        "    <tr style=\"text-align: right;\">\n",
        "      <th></th>\n",
        "      <th>lon</th>\n",
        "      <th>lat</th>\n",
        "      <th>age</th>\n",
        "      <th>income</th>\n",
        "      <th>units</th>\n",
        "      <th>population</th>\n",
        "      <th>households</th>\n",
        "      <th>rooms</th>\n",
        "      <th>value</th>\n",
        "    </tr>\n",
        "  </thead>\n",
        "  <tbody>\n",
        "    <tr>\n",
        "      <th>2521 </th>\n",
        "      <td>-122.74</td>\n",
        "      <td> 39.71</td>\n",
        "      <td> 16</td>\n",
        "      <td> 255</td>\n",
        "      <td>  73</td>\n",
        "      <td>  85</td>\n",
        "      <td>  38</td>\n",
        "      <td> 1.6607</td>\n",
        "      <td> 14999</td>\n",
        "    </tr>\n",
        "    <tr>\n",
        "      <th>2799 </th>\n",
        "      <td>-117.02</td>\n",
        "      <td> 36.40</td>\n",
        "      <td> 19</td>\n",
        "      <td> 619</td>\n",
        "      <td> 239</td>\n",
        "      <td> 490</td>\n",
        "      <td> 164</td>\n",
        "      <td> 2.1000</td>\n",
        "      <td> 14999</td>\n",
        "    </tr>\n",
        "    <tr>\n",
        "      <th>9188 </th>\n",
        "      <td>-117.86</td>\n",
        "      <td> 34.24</td>\n",
        "      <td> 52</td>\n",
        "      <td> 803</td>\n",
        "      <td> 267</td>\n",
        "      <td> 628</td>\n",
        "      <td> 225</td>\n",
        "      <td> 4.1932</td>\n",
        "      <td> 14999</td>\n",
        "    </tr>\n",
        "    <tr>\n",
        "      <th>19802</th>\n",
        "      <td>-123.17</td>\n",
        "      <td> 40.31</td>\n",
        "      <td> 36</td>\n",
        "      <td>  98</td>\n",
        "      <td>  28</td>\n",
        "      <td>  18</td>\n",
        "      <td>   8</td>\n",
        "      <td> 0.5360</td>\n",
        "      <td> 14999</td>\n",
        "    </tr>\n",
        "  </tbody>\n",
        "</table>\n",
        "</div>"
       ],
       "output_type": "pyout",
       "prompt_number": 144,
       "text": [
        "          lon    lat  age  income  units  population  households   rooms  value\n",
        "2521  -122.74  39.71   16     255     73          85          38  1.6607  14999\n",
        "2799  -117.02  36.40   19     619    239         490         164  2.1000  14999\n",
        "9188  -117.86  34.24   52     803    267         628         225  4.1932  14999\n",
        "19802 -123.17  40.31   36      98     28          18           8  0.5360  14999"
       ]
      }
     ],
     "prompt_number": 144
    },
    {
     "cell_type": "code",
     "collapsed": false,
     "input": [
      "(h1['']*12).mean()"
     ],
     "language": "python",
     "metadata": {},
     "outputs": [
      {
       "output_type": "pyout",
       "prompt_number": 114,
       "text": [
        "31629.156976744187"
       ]
      }
     ],
     "prompt_number": 114
    },
    {
     "cell_type": "code",
     "collapsed": false,
     "input": [
      "print (h2['H061A001'] > 0).sum()\n"
     ],
     "language": "python",
     "metadata": {},
     "outputs": [
      {
       "output_type": "stream",
       "stream": "stdout",
       "text": [
        "20077\n"
       ]
      }
     ],
     "prompt_number": 123
    },
    {
     "cell_type": "code",
     "collapsed": false,
     "input": [
      "precip = pd.read_csv('papers/product_tree/NCAR_pinfill/ppt.complete.Y101',sep=r'\\s*', names=['sta', 'jan', 'feb', 'mar', 'apr', 'may', 'jun', 'jul', 'aug', 'sep', 'oct', 'nov', 'dec', 'missing'], index_col=0)\n",
      "precip_full = precip[precip['missing'] == 000000000000]\n",
      "print precip_full"
     ],
     "language": "python",
     "metadata": {},
     "outputs": [
      {
       "output_type": "stream",
       "stream": "stdout",
       "text": [
        "<class 'pandas.core.frame.DataFrame'>\n",
        "Index: 5776 entries, 010008 to 23G15S\n",
        "Data columns (total 13 columns):\n",
        "jan        5776  non-null values\n",
        "feb        5776  non-null values\n",
        "mar        5776  non-null values\n",
        "apr        5776  non-null values\n",
        "may        5776  non-null values\n",
        "jun        5776  non-null values\n",
        "jul        5776  non-null values\n",
        "aug        5776  non-null values\n",
        "sep        5776  non-null values\n",
        "oct        5776  non-null values\n",
        "nov        5776  non-null values\n",
        "dec        5776  non-null values\n",
        "missing    5776  non-null values\n",
        "dtypes: int64(13)\n"
       ]
      }
     ],
     "prompt_number": 159
    },
    {
     "cell_type": "code",
     "collapsed": false,
     "input": [
      "precip_sta = pd.read_csv('papers/product_tree/NCAR_pinfill/METAinfo',sep=r'\\s*', names=['sta', 'lon', 'lat', 'elev'], index_col=0)\n",
      "print precip_sta"
     ],
     "language": "python",
     "metadata": {},
     "outputs": [
      {
       "output_type": "stream",
       "stream": "stdout",
       "text": [
        "<class 'pandas.core.frame.DataFrame'>\n",
        "Index: 11919 entries, lon to rea1\n",
        "Data columns (total 3 columns):\n",
        "lon     11919  non-null values\n",
        "lat     11919  non-null values\n",
        "elev    11918  non-null values\n",
        "dtypes: float64(1), object(2)\n"
       ]
      }
     ],
     "prompt_number": 160
    },
    {
     "cell_type": "code",
     "collapsed": false,
     "input": [
      "\n",
      "precip_joined = precip_full.join(precip_sta, how='inner')\n",
      "print precip_joined"
     ],
     "language": "python",
     "metadata": {},
     "outputs": [
      {
       "output_type": "stream",
       "stream": "stdout",
       "text": [
        "<class 'pandas.core.frame.DataFrame'>\n",
        "Index: 5776 entries, 010008 to 23G15S\n",
        "Data columns (total 16 columns):\n",
        "jan        5776  non-null values\n",
        "feb        5776  non-null values\n",
        "mar        5776  non-null values\n",
        "apr        5776  non-null values\n",
        "may        5776  non-null values\n",
        "jun        5776  non-null values\n",
        "jul        5776  non-null values\n",
        "aug        5776  non-null values\n",
        "sep        5776  non-null values\n",
        "oct        5776  non-null values\n",
        "nov        5776  non-null values\n",
        "dec        5776  non-null values\n",
        "missing    5776  non-null values\n",
        "lon        5776  non-null values\n",
        "lat        5776  non-null values\n",
        "elev       5776  non-null values\n",
        "dtypes: float64(1), int64(13), object(2)\n"
       ]
      }
     ],
     "prompt_number": 162
    },
    {
     "cell_type": "code",
     "collapsed": false,
     "input": [
      "precip_joined['annual'] = precip_joined['jan']+precip_joined['feb']+precip_joined['mar']+precip_joined['apr']+precip_joined['may']+precip_joined['jun']+precip_joined['jul']+precip_joined['aug']+precip_joined['sep']+precip_joined['oct']+precip_joined['nov']+precip_joined['dec']"
     ],
     "language": "python",
     "metadata": {},
     "outputs": [],
     "prompt_number": 163
    },
    {
     "cell_type": "code",
     "collapsed": false,
     "input": [
      "print precip_joined"
     ],
     "language": "python",
     "metadata": {},
     "outputs": [
      {
       "output_type": "stream",
       "stream": "stdout",
       "text": [
        "<class 'pandas.core.frame.DataFrame'>\n",
        "Index: 5776 entries, 010008 to 23G15S\n",
        "Data columns (total 17 columns):\n",
        "jan        5776  non-null values\n",
        "feb        5776  non-null values\n",
        "mar        5776  non-null values\n",
        "apr        5776  non-null values\n",
        "may        5776  non-null values\n",
        "jun        5776  non-null values\n",
        "jul        5776  non-null values\n",
        "aug        5776  non-null values\n",
        "sep        5776  non-null values\n",
        "oct        5776  non-null values\n",
        "nov        5776  non-null values\n",
        "dec        5776  non-null values\n",
        "missing    5776  non-null values\n",
        "lon        5776  non-null values\n",
        "lat        5776  non-null values\n",
        "elev       5776  non-null values\n",
        "annual     5776  non-null values\n",
        "dtypes: float64(1), int64(14), object(2)\n"
       ]
      }
     ],
     "prompt_number": 164
    },
    {
     "cell_type": "code",
     "collapsed": false,
     "input": [
      "precip_data = precip_joined[['lon', 'lat', 'elev', 'annual']]\n",
      "precip_data.to_csv('annual_1995_precip.csv')"
     ],
     "language": "python",
     "metadata": {},
     "outputs": [],
     "prompt_number": 166
    },
    {
     "cell_type": "code",
     "collapsed": false,
     "input": [],
     "language": "python",
     "metadata": {},
     "outputs": []
    }
   ],
   "metadata": {}
  }
 ]
}