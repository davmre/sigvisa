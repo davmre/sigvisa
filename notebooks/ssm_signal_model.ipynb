{
 "metadata": {
  "name": "",
  "signature": "sha256:3ec13f761c2024047ff2ddff88c42baa1c2f63ff6052fbb6715e93cab5b1282f"
 },
 "nbformat": 3,
 "nbformat_minor": 0,
 "worksheets": [
  {
   "cells": [
    {
     "cell_type": "code",
     "collapsed": false,
     "input": [
      "import numpy as np\n",
      "import sys\n",
      "import os\n",
      "import traceback\n",
      "\n",
      "\n",
      "\n",
      "import pickle\n",
      "import copy\n",
      "\n",
      "from sigvisa import Sigvisa\n",
      "\n",
      "\n",
      "from sigvisa.graph.sigvisa_graph import SigvisaGraph\n",
      "\n",
      "\n",
      "\n",
      "\n",
      "\n",
      "\n",
      "from sigvisa.infer.run_mcmc import run_open_world_MH\n",
      "from sigvisa.infer.mcmc_logger import MCMCLogger\n",
      "\n",
      "from sigvisa.infer.template_mcmc import *\n",
      "from sigvisa.plotting.plot import plot_with_fit, plot_with_fit_shapes, plot_pred_atimes\n",
      "from sigvisa.signals.common import Waveform\n",
      "from sigvisa.utils.fileutils import clear_directory, mkdir_p\n",
      "from sigvisa.experiments.one_station_templates_test import sample_template\n",
      "from sigvisa.source.event import Event"
     ],
     "language": "python",
     "metadata": {},
     "outputs": [],
     "prompt_number": 9
    },
    {
     "cell_type": "code",
     "collapsed": false,
     "input": [
      "sg = SigvisaGraph(template_model_type=\"dummy\", template_shape=\"lin_polyexp\",\n",
      "                              wiggle_model_type=\"dummy\", wiggle_family=\"db4_0.5\",\n",
      "                              phases=[\"P\",], nm_type = \"ar\", wiggle_len_s = 32.0)\n",
      "\n",
      "wave_data = np.random.randn(1000,)\n",
      "wave = Waveform(wave_data, srate=5.0, stime=1242891045, sta=\"FITZ\", chan=\"BHZ\", band=\"freq_2.0_3.0\")\n",
      "wn = sg.add_wave(wave)\n",
      "\n",
      "wn.nm.em.std = 0.001\n",
      "wn.noise_arssm.error_var=0.000001"
     ],
     "language": "python",
     "metadata": {},
     "outputs": [
      {
       "output_type": "stream",
       "stream": "stdout",
       "text": [
        "constructed wavelet basis with 32 params for signal of length 160\n"
       ]
      }
     ],
     "prompt_number": 46
    },
    {
     "cell_type": "code",
     "collapsed": false,
     "input": [
      "print wn.log_p()\n",
      "print wn.nm.log_p(wn.get_value())"
     ],
     "language": "python",
     "metadata": {},
     "outputs": [
      {
       "output_type": "stream",
       "stream": "stdout",
       "text": [
        "-1847609802.08\n",
        "-1847193989.92\n"
       ]
      }
     ],
     "prompt_number": 47
    },
    {
     "cell_type": "code",
     "collapsed": false,
     "input": [
      "ev = Event(lon=124, lat=-19, depth=0, mb=7.0, time=1242891005)\n",
      "sg.add_event(ev)"
     ],
     "language": "python",
     "metadata": {},
     "outputs": [
      {
       "metadata": {},
       "output_type": "pyout",
       "prompt_number": 48,
       "text": [
        "{'depth': <NODE 1;loc>,\n",
        " 'lat': <NODE 1;loc>,\n",
        " 'loc': <NODE 1;loc>,\n",
        " 'lon': <NODE 1;loc>,\n",
        " 'mb': <NODE 1;mb>,\n",
        " 'natural_source': <NODE 1;source>,\n",
        " 'time': <NODE 1;time>}"
       ]
      }
     ],
     "prompt_number": 48
    },
    {
     "cell_type": "code",
     "collapsed": false,
     "input": [
      "wn._parent_values()\n",
      "plot(wn.tssm.mean_obs(400))\n",
      "plot(wn.tssm.prior_sample(400))"
     ],
     "language": "python",
     "metadata": {},
     "outputs": [
      {
       "metadata": {},
       "output_type": "pyout",
       "prompt_number": 57,
       "text": [
        "[<matplotlib.lines.Line2D at 0x5f27d10>]"
       ]
      },
      {
       "metadata": {},
       "output_type": "display_data",
       "png": "[encoded data removed]",
       "text": [
        "<matplotlib.figure.Figure at 0x54b08d0>"
       ]
      }
     ],
     "prompt_number": 57
    },
    {
     "cell_type": "code",
     "collapsed": false,
     "input": [
      "try:\n",
      "    print wn.log_p()\n",
      "except:\n",
      "    import pdb, traceback, sys\n",
      "    type, value, tb = sys.exc_info()\n",
      "    traceback.print_exc()\n",
      "    pdb.post_mortem(tb)"
     ],
     "language": "python",
     "metadata": {},
     "outputs": [
      {
       "output_type": "stream",
       "stream": "stdout",
       "text": [
        "5472.1100433\n"
       ]
      }
     ],
     "prompt_number": 54
    },
    {
     "cell_type": "code",
     "collapsed": false,
     "input": [
      "wn.unfix_value()\n",
      "wn.parent_sample()\n",
      "print wn.log_p()"
     ],
     "language": "python",
     "metadata": {},
     "outputs": [
      {
       "output_type": "stream",
       "stream": "stdout",
       "text": [
        "5472.1100433\n"
       ]
      }
     ],
     "prompt_number": 51
    },
    {
     "cell_type": "code",
     "collapsed": false,
     "input": [
      "print wn.tssm.ssms"
     ],
     "language": "python",
     "metadata": {},
     "outputs": [
      {
       "output_type": "stream",
       "stream": "stdout",
       "text": [
        "[<sigvisa.models.statespace.ar.ARSSM object at 0x5256150>, <sigvisa.models.statespace.compact_support.CompactSupportSSM object at 0x4ad3190>, <sigvisa.models.statespace.dummy.DummySSM object at 0x5268750>]\n"
       ]
      }
     ],
     "prompt_number": 52
    },
    {
     "cell_type": "code",
     "collapsed": false,
     "input": [
      "cssm = wn.tssm.ssms[1]\n"
     ],
     "language": "python",
     "metadata": {},
     "outputs": [
      {
       "ename": "IndexError",
       "evalue": "list index out of range",
       "output_type": "pyerr",
       "traceback": [
        "\u001b[1;31m---------------------------------------------------------------------------\u001b[0m\n\u001b[1;31mIndexError\u001b[0m                                Traceback (most recent call last)",
        "\u001b[1;32m<ipython-input-17-3cb22fe34b8d>\u001b[0m in \u001b[0;36m<module>\u001b[1;34m()\u001b[0m\n\u001b[1;32m----> 1\u001b[1;33m \u001b[0mcssm\u001b[0m \u001b[1;33m=\u001b[0m \u001b[0mwn\u001b[0m\u001b[1;33m.\u001b[0m\u001b[0mtssm\u001b[0m\u001b[1;33m.\u001b[0m\u001b[0mssms\u001b[0m\u001b[1;33m[\u001b[0m\u001b[1;36m1\u001b[0m\u001b[1;33m]\u001b[0m\u001b[1;33m\u001b[0m\u001b[0m\n\u001b[0m",
        "\u001b[1;31mIndexError\u001b[0m: list index out of range"
       ]
      }
     ],
     "prompt_number": 17
    },
    {
     "cell_type": "code",
     "collapsed": false,
     "input": [
      "plot(cssm.prior_sample(160))"
     ],
     "language": "python",
     "metadata": {},
     "outputs": [
      {
       "metadata": {},
       "output_type": "pyout",
       "prompt_number": 48,
       "text": [
        "[<matplotlib.lines.Line2D at 0x89a12d0>]"
       ]
      },
      {
       "metadata": {},
       "output_type": "display_data",
       "png": "[encoded data removed]",
       "text": [
        "<matplotlib.figure.Figure at 0x81a3ad0>"
       ]
      }
     ],
     "prompt_number": 48
    },
    {
     "cell_type": "code",
     "collapsed": false,
     "input": [],
     "language": "python",
     "metadata": {},
     "outputs": [],
     "prompt_number": 19
    },
    {
     "cell_type": "code",
     "collapsed": false,
     "input": [],
     "language": "python",
     "metadata": {},
     "outputs": [],
     "prompt_number": 19
    },
    {
     "cell_type": "code",
     "collapsed": false,
     "input": [],
     "language": "python",
     "metadata": {},
     "outputs": []
    }
   ],
   "metadata": {}
  }
 ]
}