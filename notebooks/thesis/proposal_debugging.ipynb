{
 "cells": [
  {
   "cell_type": "code",
   "execution_count": 34,
   "metadata": {
    "collapsed": true
   },
   "outputs": [],
   "source": [
    "import cPickle as pickle\n",
    "import numpy as np\n",
    "import matplotlib.pylab as plt\n",
    "\n",
    "%matplotlib inline\n",
    "\n",
    "from sigvisa.infer.event_birthdeath import ev_template_birth_helper, prettyprint_debug\n",
    "from sigvisa.source.event import get_event\n",
    "from sigvisa.utils.fileutils import mkdir_p"
   ]
  },
  {
   "cell_type": "code",
   "execution_count": 35,
   "metadata": {
    "collapsed": false
   },
   "outputs": [],
   "source": [
    "with open(\"/home/dmoore/python/sigvisa/logs/mcmc/01205/step_000446/pickle.sg\", \"rb\") as f:\n",
    "    sg = pickle.load(f)"
   ]
  },
  {
   "cell_type": "code",
   "execution_count": 36,
   "metadata": {
    "collapsed": false
   },
   "outputs": [
    {
     "name": "stdout",
     "output_type": "stream",
     "text": [
      "n_uatemplate: -1827.1\n",
      "n_event: -0.0\n",
      "ev priors: ev 0.0\n",
      "ev observations: ev 0.0\n",
      "phase existence: ev 0.0\n",
      "tt_residual: ev 0.0\n",
      "ev global cost (n + priors + phases + tt): -0.0\n",
      "coda_decay: ev 0.0 ua -288.7 total -288.7\n",
      "peak_decay: ev 0.0 ua -221.0 total -221.0\n",
      "peak_offset: ev 0.0 ua -402.2 total -402.2\n",
      "coda_height: ev 0.0 ua -349.9 total -349.9\n",
      "mult_std_wiggle: ev 0.0 ua 42.8 total 42.8\n",
      "coef jointgp: 0.0\n",
      "total param: ev 0.0 ua -1219.1 total -1219.1\n",
      "priors+params: ev -0.0 ua -3046.2 total -3046.2\n",
      "station noise (observed signals): -379100.9\n",
      "noise model prior lp: -147.3\n",
      "overall: -382294.4\n",
      "official: -382294.4\n",
      "\n"
     ]
    }
   ],
   "source": [
    "sg.uatemplate_rate = sg.event_rate * 3\n",
    "a = sg.current_log_p_breakdown()\n"
   ]
  },
  {
   "cell_type": "code",
   "execution_count": 37,
   "metadata": {
    "collapsed": false
   },
   "outputs": [],
   "source": [
    "evid = 1051099\n",
    "ev = get_event(evid=evid)\n",
    "evnodes = sg.add_event(ev, phases=None)\n",
    "eid = evnodes[\"lon\"].eid\n",
    "\n",
    "debug_info = {}\n",
    "\n",
    "\n",
    "evlps = [(n.label.split(\";\")[1], n.log_p()) for n in evnodes.values()]\n",
    "evlps += [('nevents', np.log(sg.event_rate))]\n",
    "debug_info[\"ev\"] = (ev, 0.0, evlps)\n",
    "\n",
    "lqf, replicate_tmpls, birth_records = \\\n",
    "                    ev_template_birth_helper(sg, eid,\n",
    "                                             associate_using_mb=True,\n",
    "                                             use_correlation=False,\n",
    "                                             repropose_uatemplates=False,\n",
    "                                             proposal_type=\"smart\",\n",
    "                                             debug_info=debug_info)\n",
    "sg._topo_sort()"
   ]
  },
  {
   "cell_type": "code",
   "execution_count": 38,
   "metadata": {
    "collapsed": false
   },
   "outputs": [
    {
     "name": "stdout",
     "output_type": "stream",
     "text": [
      "-382517.7702\n"
     ]
    }
   ],
   "source": [
    "print sg.current_log_p()"
   ]
  },
  {
   "cell_type": "code",
   "execution_count": 39,
   "metadata": {
    "collapsed": false
   },
   "outputs": [],
   "source": [
    "mkdir_p(\"/home/dmoore/python/sigvisa/logs/mcmc/01205/proposals/ipython/\")\n",
    "with open(\"/home/dmoore/python/sigvisa/logs/mcmc/01205/proposals/ipython/pickle.sg\", \"wb\") as f:\n",
    "    pickle.dump(sg, f)"
   ]
  },
  {
   "cell_type": "code",
   "execution_count": 16,
   "metadata": {
    "collapsed": false
   },
   "outputs": [
    {
     "name": "stdout",
     "output_type": "stream",
     "text": [
      "proposed ev evid 3375285.0, loc 114.82 W 41.19 N, depth 5.4km, time 1203626258.4, mb 2.3, natural source\n",
      "proposal logq 0.00, lps loc 0.18, mb 0.14, loc 0.18, loc 0.18, time 0.00, loc 0.18, source -0.00, nevents -13.28, total -12.40, delta -12.40\n",
      "sta ELK wn_old -32836.56 wn_new -32836.56 wn_delta 0.00 assoc -0.06 overall 20.90\n",
      " phase Lg: associating tmid 9, score 8.70\n",
      "   amp_transfer 13.03 ualp -3.56 evlp -2.22 delta 1.35\n",
      "   coda_decay -4.19 ualp -1.96 evlp -4.58 delta -2.62\n",
      "   mult_wiggle_std 0.39 ualp -1.02 evlp -0.33 delta 0.69\n",
      "   peak_decay -0.52 ualp -2.89 evlp -1.67 delta 1.22\n",
      "   peak_offset 2.74 ualp -3.47 evlp -3.38 delta 0.10\n",
      "   tt_residual -6.75 ualp -12.18 evlp -4.20 delta 7.98\n",
      " phase Pg: associating tmid 3, score 12.14\n",
      "   amp_transfer 9.55 ualp -2.07 evlp -1.43 delta 0.63\n",
      "   coda_decay -2.23 ualp -1.34 evlp -2.22 delta -0.88\n",
      "   mult_wiggle_std 0.09 ualp -5.45 evlp -2.07 delta 3.38\n",
      "   peak_decay -1.96 ualp -1.06 evlp -0.32 delta 0.74\n",
      "   peak_offset -0.46 ualp -1.25 evlp -1.25 delta -0.00\n",
      "   tt_residual -4.30 ualp -12.18 evlp -3.90 delta 8.28\n",
      "sta KDAK wn_old -40675.13 wn_new -40675.26 wn_delta -0.13 assoc 0.00 overall -0.52\n",
      " phase P: birthing new template, score -0.39\n",
      "   amp_transfer 6.63 logq -1.42 logp -1.66 delta -0.25\n",
      "   coda_decay -3.17 logq -2.42 logp -2.44 delta -0.02\n",
      "   mult_wiggle_std 0.52 logq -0.69 logp -0.73 delta -0.04\n",
      "   peak_decay -3.74 logq -1.93 logp -1.94 delta -0.00\n",
      "   peak_offset -0.03 logq -1.67 logp -1.86 delta -0.19\n",
      "   tt_residual 1.08 logq -1.96 logp -1.86 delta 0.11\n",
      "sta TX01 wn_old -35450.80 wn_new -35450.86 wn_delta -0.06 assoc 0.00 overall -3.02\n",
      " phase Lg: birthing new template, score -1.08\n",
      "   amp_transfer 5.39 logq -0.73 logp -1.01 delta -0.28\n",
      "   coda_decay -3.87 logq -0.33 logp -0.31 delta 0.02\n",
      "   mult_wiggle_std 0.75 logq 0.57 logp 0.55 delta -0.03\n",
      "   peak_decay 0.78 logq -5.63 logp -5.90 delta -0.28\n",
      "   peak_offset -0.05 logq -1.27 logp -1.55 delta -0.28\n",
      "   tt_residual -1.50 logq -1.87 logp -2.10 delta -0.23\n",
      " phase Pg: birthing new template, score -0.57\n",
      "   amp_transfer 5.53 logq -0.82 logp -1.33 delta -0.50\n",
      "   coda_decay -5.31 logq -1.09 logp -1.16 delta -0.07\n",
      "   mult_wiggle_std 0.27 logq -1.30 logp -1.34 delta -0.03\n",
      "   peak_decay -1.57 logq -0.92 logp -0.92 delta 0.00\n",
      "   peak_offset -0.78 logq -1.79 logp -1.94 delta -0.15\n",
      "   tt_residual -0.68 logq -1.20 logp -1.02 delta 0.18\n",
      " phase Pn: birthing new template, score -0.93\n",
      "   amp_transfer 5.25 logq -1.49 logp -1.87 delta -0.39\n",
      "   coda_decay -2.74 logq -1.10 logp -1.10 delta 0.00\n",
      "   mult_wiggle_std 0.72 logq 0.49 logp 0.46 delta -0.04\n",
      "   peak_decay -2.02 logq -1.25 logp -1.24 delta 0.01\n",
      "   peak_offset 1.99 logq -1.29 logp -1.51 delta -0.22\n",
      "   tt_residual 1.35 logq -1.78 logp -2.08 delta -0.30\n",
      " phase Sn: birthing new template, score -0.38\n",
      "   amp_transfer 5.30 logq -2.97 logp -3.10 delta -0.13\n",
      "   coda_decay -4.99 logq -1.28 logp -1.32 delta -0.05\n",
      "   mult_wiggle_std 0.91 logq 2.06 logp 2.17 delta 0.11\n",
      "   peak_decay -2.85 logq -1.24 logp -1.23 delta 0.01\n",
      "   peak_offset -0.16 logq -1.15 logp -1.22 delta -0.07\n",
      "   tt_residual -0.89 logq -1.29 logp -1.54 delta -0.25\n",
      "sta YKR8 wn_old -29922.18 wn_new -29922.59 wn_delta -0.41 assoc 0.00 overall -2.24\n",
      " phase P: birthing new template, score -1.83\n",
      "   amp_transfer 6.98 logq -1.54 logp -2.87 delta -1.33\n",
      "   coda_decay 0.52 logq -1.51 logp -1.75 delta -0.24\n",
      "   mult_wiggle_std 0.89 logq 1.29 logp 1.29 delta -0.00\n",
      "   peak_decay -1.38 logq -1.39 logp -1.41 delta -0.01\n",
      "   peak_offset 0.08 logq -1.22 logp -1.41 delta -0.19\n",
      "   tt_residual 4.94 logq -3.25 logp -3.30 delta -0.05\n",
      "sta IL31 wn_old -38897.74 wn_new -38899.22 wn_delta -1.48 assoc 0.00 overall -4.55\n",
      " phase P: birthing new template, score -3.08\n",
      "   amp_transfer 7.98 logq -2.03 logp -3.20 delta -1.17\n",
      "   coda_decay -4.15 logq -1.56 logp -2.10 delta -0.54\n",
      "   mult_wiggle_std 0.68 logq 0.54 logp 0.44 delta -0.10\n",
      "   peak_decay -4.12 logq -2.09 logp -2.24 delta -0.15\n",
      "   peak_offset -0.14 logq -1.16 logp -2.04 delta -0.88\n",
      "   tt_residual 9.55 logq -3.86 logp -4.10 delta -0.23\n",
      "sta NEW wn_old -15424.03 wn_new -15423.86 wn_delta 0.17 assoc -0.06 overall 9.76\n",
      " phase Lg: associating tmid 74, score 9.59\n",
      "   amp_transfer 6.24 ualp -2.15 evlp -1.39 delta 0.76\n",
      "   coda_decay -3.65 ualp -1.62 evlp -0.22 delta 1.40\n",
      "   mult_wiggle_std 0.74 ualp 0.70 evlp 0.46 delta -0.24\n",
      "   peak_decay -1.81 ualp -1.16 evlp -1.29 delta -0.14\n",
      "   peak_offset 1.74 ualp -1.87 evlp -2.79 delta -0.91\n",
      "   tt_residual 4.70 ualp -12.18 evlp -3.46 delta 8.72\n",
      " phase Pg: associating tmid 107, score 2.77\n",
      "   amp_transfer 5.93 ualp -2.42 evlp -1.71 delta 0.71\n",
      "   coda_decay -4.85 ualp -2.55 evlp -0.07 delta 2.48\n",
      "   mult_wiggle_std 0.92 ualp 0.90 evlp 0.67 delta -0.23\n",
      "   peak_decay -2.86 ualp -0.98 evlp -1.09 delta -0.11\n",
      "   peak_offset 0.63 ualp -1.06 evlp -0.39 delta 0.67\n",
      "   tt_residual -16.52 ualp -12.18 evlp -12.93 delta -0.75\n",
      " phase Pn: birthing new template, score -2.05\n",
      "   amp_transfer 3.78 logq -0.88 logp -1.05 delta -0.17\n",
      "   coda_decay -3.10 logq -0.80 logp -0.79 delta 0.01\n",
      "   mult_wiggle_std 0.88 logq 1.93 logp 1.96 delta 0.03\n",
      "   peak_decay -0.53 logq -1.38 logp -1.39 delta -0.00\n",
      "   peak_offset -1.92 logq 0.54 logp -1.31 delta -1.85\n",
      "   tt_residual 0.16 logq -1.22 logp -1.29 delta -0.07\n",
      " phase Sn: birthing new template, score -0.77\n",
      "   amp_transfer 3.34 logq -1.69 logp -2.16 delta -0.47\n",
      "   coda_decay -4.15 logq -0.18 logp -0.18 delta 0.00\n",
      "   mult_wiggle_std 0.60 logq -0.04 logp -0.08 delta -0.04\n",
      "   peak_decay 1.09 logq -1.30 logp -1.39 delta -0.09\n",
      "   peak_offset 0.27 logq -0.93 logp -1.06 delta -0.12\n",
      "   tt_residual -0.89 logq -1.57 logp -1.61 delta -0.04\n",
      "sta PFO wn_old -18097.98 wn_new -18106.79 wn_delta -8.82 assoc 0.00 overall -15.50\n",
      " phase Lg: birthing new template, score -2.77\n",
      "   amp_transfer 4.34 logq -0.83 logp -3.70 delta -2.88\n",
      "   coda_decay -3.45 logq -1.73 logp -1.57 delta 0.16\n",
      "   mult_wiggle_std 0.83 logq 0.43 logp 0.40 delta -0.03\n",
      "   peak_decay -1.64 logq -1.07 logp -1.12 delta -0.05\n",
      "   peak_offset -1.50 logq -0.59 logp -0.84 delta -0.25\n",
      "   tt_residual -0.58 logq -1.78 logp -1.50 delta 0.28\n",
      " phase Pg: birthing new template, score -1.59\n",
      "   amp_transfer 6.61 logq -0.64 logp -1.50 delta -0.87\n",
      "   coda_decay -1.63 logq -1.06 logp -1.80 delta -0.74\n",
      "   mult_wiggle_std 0.40 logq 0.37 logp 0.35 delta -0.03\n",
      "   peak_decay -1.39 logq -1.65 logp -1.81 delta -0.16\n",
      "   peak_offset -0.38 logq -0.50 logp -0.51 delta -0.01\n",
      "   tt_residual -0.11 logq -1.61 logp -1.40 delta 0.21\n",
      " phase Pn: birthing new template, score -1.09\n",
      "   amp_transfer 6.37 logq -0.78 logp -2.12 delta -1.34\n",
      "   coda_decay -3.35 logq -1.15 logp -0.64 delta 0.51\n",
      "   mult_wiggle_std 0.53 logq -0.19 logp -0.31 delta -0.12\n",
      "   peak_decay -2.54 logq -0.97 logp -0.88 delta 0.09\n",
      "   peak_offset -0.75 logq -0.90 logp -1.19 delta -0.29\n",
      "   tt_residual -0.86 logq -1.77 logp -1.70 delta 0.07\n",
      " phase Sn: birthing new template, score -1.24\n",
      "   amp_transfer 3.91 logq -1.42 logp -2.26 delta -0.84\n",
      "   coda_decay -2.54 logq 0.02 logp 0.03 delta 0.01\n",
      "   mult_wiggle_std 0.85 logq 1.10 logp 1.07 delta -0.03\n",
      "   peak_decay -1.00 logq -1.25 logp -1.26 delta -0.02\n",
      "   peak_offset -2.37 logq -1.67 logp -1.87 delta -0.20\n",
      "   tt_residual -2.12 logq -2.27 logp -2.43 delta -0.16\n",
      "sta YBH wn_old -17466.56 wn_new -17471.69 wn_delta -5.13 assoc -0.77 overall 14.94\n",
      " phase Lg: associating tmid 127, score 10.53\n",
      "   amp_transfer 6.53 ualp -2.10 evlp -1.23 delta 0.88\n",
      "   coda_decay -2.71 ualp -1.33 evlp -0.42 delta 0.92\n",
      "   mult_wiggle_std 0.99 ualp 0.40 evlp -0.43 delta -0.83\n",
      "   peak_decay -1.75 ualp -1.20 evlp -1.29 delta -0.10\n",
      "   peak_offset 0.31 ualp -1.01 evlp -1.35 delta -0.33\n",
      "   tt_residual 0.62 ualp -12.18 evlp -2.18 delta 10.00\n",
      " phase Pg: birthing new template, score -0.99\n",
      "   amp_transfer 6.24 logq -0.27 logp -0.99 delta -0.72\n",
      "   coda_decay -3.75 logq -0.22 logp -0.16 delta 0.06\n",
      "   mult_wiggle_std 0.22 logq 0.56 logp 0.40 delta -0.16\n",
      "   peak_decay -2.08 logq -0.17 logp -0.20 delta -0.03\n",
      "   peak_offset -0.66 logq -1.35 logp -1.40 delta -0.05\n",
      "   tt_residual -5.01 logq -3.55 logp -3.63 delta -0.09\n",
      " phase Pn: birthing new template, score -1.35\n",
      "   amp_transfer 4.25 logq -1.72 logp -2.50 delta -0.78\n",
      "   coda_decay -3.79 logq -0.74 logp -0.73 delta 0.01\n",
      "   mult_wiggle_std 0.36 logq 0.06 logp 0.05 delta -0.01\n",
      "   peak_decay -3.50 logq -1.51 logp -1.51 delta -0.00\n",
      "   peak_offset -1.24 logq -1.83 logp -1.92 delta -0.08\n",
      "   tt_residual 4.11 logq -4.85 logp -5.34 delta -0.49\n",
      " phase Sn: associating tmid 114, score 11.12\n",
      "   amp_transfer 1.67 ualp -4.08 evlp -4.32 delta -0.24\n",
      "   coda_decay -3.45 ualp -1.52 evlp 0.48 delta 2.00\n",
      "   mult_wiggle_std 0.92 ualp 0.90 evlp 1.52 delta 0.62\n",
      "   peak_decay -2.58 ualp -0.92 evlp -1.48 delta -0.56\n",
      "   peak_offset -1.67 ualp -2.62 evlp -1.19 delta 1.43\n",
      "   tt_residual 4.13 ualp -12.18 evlp -4.31 delta 7.87\n",
      "sta ANMO wn_old -32728.49 wn_new -32729.87 wn_delta -1.38 assoc -0.00 overall -3.34\n",
      " phase Lg: birthing new template, score -0.88\n",
      "   amp_transfer 5.37 logq -1.22 logp -2.00 delta -0.78\n",
      "   coda_decay -2.75 logq -1.80 logp -1.88 delta -0.08\n",
      "   mult_wiggle_std 0.92 logq 0.54 logp 0.51 delta -0.03\n",
      "   peak_decay -3.62 logq -2.26 logp -2.27 delta -0.01\n",
      "   peak_offset -2.07 logq -1.40 logp -1.43 delta -0.02\n",
      "   tt_residual 2.58 logq -2.58 logp -2.54 delta 0.04\n",
      " phase Pg: birthing new template, score -0.98\n",
      "   amp_transfer 7.40 logq -0.56 logp -1.37 delta -0.81\n",
      "   coda_decay -3.65 logq -0.19 logp -0.15 delta 0.04\n",
      "   mult_wiggle_std 0.96 logq 0.39 logp 0.44 delta 0.05\n",
      "   peak_decay -0.71 logq -2.11 logp -2.41 delta -0.30\n",
      "   peak_offset 1.59 logq -1.91 logp -1.66 delta 0.25\n",
      "   tt_residual 3.01 logq -2.64 logp -2.85 delta -0.21\n",
      " phase Pn: birthing new template, score -0.93\n",
      "   amp_transfer 4.56 logq -1.62 logp -2.48 delta -0.86\n",
      "   coda_decay -3.11 logq -0.79 logp -0.77 delta 0.02\n",
      "   mult_wiggle_std 0.98 logq 1.03 logp 1.11 delta 0.08\n",
      "   peak_decay -2.08 logq -0.54 logp -0.53 delta 0.01\n",
      "   peak_offset 0.85 logq -1.11 logp -1.14 delta -0.03\n",
      "   tt_residual 1.83 logq -2.34 logp -2.50 delta -0.16\n",
      " phase Sn: birthing new template, score 0.83\n",
      "   amp_transfer 7.31 logq -3.30 logp -1.86 delta 1.43\n",
      "   coda_decay -2.92 logq -1.00 logp -0.82 delta 0.18\n",
      "   mult_wiggle_std 0.71 logq 0.44 logp 0.27 delta -0.17\n",
      "   peak_decay -1.25 logq -1.05 logp -1.34 delta -0.29\n",
      "   peak_offset 0.26 logq -0.99 logp -1.03 delta -0.03\n",
      "   tt_residual -1.71 logq -1.95 logp -2.25 delta -0.30\n",
      "sta ULM wn_old -31996.86 wn_new -31996.96 wn_delta -0.10 assoc 0.00 overall -6.97\n",
      " phase Lg: birthing new template, score -2.48\n",
      "   amp_transfer 4.85 logq -0.33 logp -2.15 delta -1.82\n",
      "   coda_decay -4.54 logq -0.30 logp -0.29 delta 0.00\n",
      "   mult_wiggle_std 0.51 logq -0.48 logp -0.50 delta -0.02\n",
      "   peak_decay -5.04 logq -1.49 logp -1.54 delta -0.05\n",
      "   peak_offset -1.40 logq -1.03 logp -1.47 delta -0.44\n",
      "   tt_residual -1.49 logq -2.20 logp -2.35 delta -0.16\n",
      " phase Pg: birthing new template, score -0.41\n",
      "   amp_transfer 3.91 logq -1.87 logp -2.00 delta -0.13\n",
      "   coda_decay -1.32 logq -1.74 logp -1.75 delta -0.01\n",
      "   mult_wiggle_std 0.80 logq 0.67 logp 0.64 delta -0.03\n",
      "   peak_decay -1.38 logq -1.71 logp -1.71 delta -0.00\n",
      "   peak_offset 0.46 logq -1.24 logp -1.33 delta -0.09\n",
      "   tt_residual -1.16 logq -1.68 logp -1.83 delta -0.15\n",
      " phase Pn: birthing new template, score -1.04\n",
      "   amp_transfer 5.78 logq -0.27 logp -1.05 delta -0.79\n",
      "   coda_decay -2.86 logq -2.46 logp -2.82 delta -0.36\n",
      "   mult_wiggle_std 0.92 logq 0.73 logp 0.65 delta -0.08\n",
      "   peak_decay -4.62 logq -1.55 logp -1.55 delta -0.00\n",
      "   peak_offset 1.95 logq -1.25 logp -1.29 delta -0.04\n",
      "   tt_residual 0.64 logq -1.44 logp -1.21 delta 0.23\n",
      " phase Sn: birthing new template, score -2.94\n",
      "   amp_transfer 7.09 logq -2.32 logp -2.26 delta 0.06\n",
      "   coda_decay -3.54 logq -1.53 logp -1.80 delta -0.27\n",
      "   mult_wiggle_std 0.92 logq 1.26 logp 1.23 delta -0.03\n",
      "   peak_decay 0.61 logq -0.90 logp -2.95 delta -2.05\n",
      "   peak_offset -2.00 logq -1.02 logp -1.52 delta -0.50\n",
      "   tt_residual 1.05 logq -1.63 logp -1.78 delta -0.15\n",
      "sta PD31 wn_old -45220.47 wn_new -45219.21 wn_delta 1.26 assoc 0.00 overall -3.98\n",
      " phase Lg: birthing new template, score 1.39\n",
      "   amp_transfer 9.42 logq -1.59 logp -1.52 delta 0.07\n",
      "   coda_decay -2.87 logq -0.57 logp -0.60 delta -0.03\n",
      "   mult_wiggle_std 0.53 logq -0.24 logp -0.27 delta -0.02\n",
      "   peak_decay -0.73 logq -1.94 logp -1.43 delta 0.51\n",
      "   peak_offset 1.11 logq -0.33 logp -0.94 delta -0.62\n",
      "   tt_residual 1.82 logq -3.79 logp -2.31 delta 1.48\n",
      " phase Pg: birthing new template, score -2.25\n",
      "   amp_transfer 9.22 logq -1.69 logp -3.23 delta -1.54\n",
      "   coda_decay -3.50 logq -1.00 logp -1.19 delta -0.19\n",
      "   mult_wiggle_std 0.73 logq 0.50 logp 0.50 delta -0.00\n",
      "   peak_decay -1.39 logq -0.42 logp -0.45 delta -0.03\n",
      "   peak_offset 1.60 logq -1.42 logp -1.43 delta -0.00\n",
      "   tt_residual 2.20 logq -2.00 logp -2.49 delta -0.49\n",
      " phase Pn: birthing new template, score -2.76\n",
      "   amp_transfer 8.50 logq -1.23 logp -3.63 delta -2.40\n",
      "   coda_decay -3.37 logq -0.55 logp -0.70 delta -0.15\n",
      "   mult_wiggle_std 0.73 logq 0.22 logp 0.23 delta 0.01\n",
      "   peak_decay -3.12 logq -0.74 logp -0.73 delta 0.01\n",
      "   peak_offset 0.28 logq -0.82 logp -0.80 delta 0.03\n",
      "   tt_residual 1.61 logq -1.61 logp -1.86 delta -0.25\n",
      " phase Sn: birthing new template, score -1.62\n",
      "   amp_transfer 9.32 logq -0.45 logp -2.06 delta -1.61\n",
      "   coda_decay -3.37 logq -0.22 logp -0.16 delta 0.07\n",
      "   mult_wiggle_std 0.41 logq 0.09 logp 0.03 delta -0.06\n",
      "   peak_decay -0.98 logq -0.71 logp -1.13 delta -0.42\n",
      "   peak_offset -1.28 logq -0.85 logp -1.05 delta -0.20\n",
      "   tt_residual 0.21 logq -2.58 logp -1.98 delta 0.60\n",
      "sta NV01 wn_old -40384.13 wn_new -40402.39 wn_delta -18.26 assoc -0.72 overall -6.48\n",
      " phase Lg: associating tmid 8, score 11.78\n",
      "   amp_transfer 12.22 ualp -3.13 evlp -2.13 delta 1.00\n",
      "   coda_decay -3.10 ualp -1.40 evlp -0.08 delta 1.32\n",
      "   mult_wiggle_std 0.58 ualp 0.10 evlp 0.53 delta 0.43\n",
      "   peak_decay -1.78 ualp -1.18 evlp -1.30 delta -0.12\n",
      "   peak_offset 2.17 ualp -2.45 evlp -3.02 delta -0.56\n",
      "   tt_residual -2.00 ualp -12.18 evlp -2.47 delta 9.71\n",
      " phase Pg: associating tmid 25, score 0.16\n",
      "   amp_transfer 12.36 ualp -2.80 evlp -1.99 delta 0.81\n",
      "   coda_decay -3.95 ualp -1.79 evlp -0.69 delta 1.10\n",
      "   mult_wiggle_std 0.56 ualp -0.01 evlp 0.16 delta 0.17\n",
      "   peak_decay -4.34 ualp -2.62 evlp -8.32 delta -5.70\n",
      "   peak_offset 2.93 ualp -3.87 evlp -6.55 delta -2.67\n",
      "   tt_residual -7.28 ualp -12.18 evlp -5.72 delta 6.46\n",
      " phase Pn: birthing new template, score -0.29\n",
      "   amp_transfer 10.86 logq -2.24 logp -1.73 delta 0.51\n",
      "   coda_decay -1.21 logq -0.92 logp -1.36 delta -0.44\n",
      "   mult_wiggle_std 0.32 logq -0.96 logp -1.18 delta -0.22\n",
      "   peak_decay -2.36 logq -1.32 logp -1.14 delta 0.18\n",
      "   peak_offset -0.26 logq -1.18 logp -1.51 delta -0.33\n",
      "   tt_residual -2.60 logq -2.59 logp -2.59 delta 0.00\n",
      " phase Sn: birthing new template, score -0.59\n",
      "   amp_transfer 8.53 logq -2.12 logp -2.22 delta -0.10\n",
      "   coda_decay -3.24 logq -0.65 logp -0.64 delta 0.00\n",
      "   mult_wiggle_std 0.91 logq 1.36 logp 1.35 delta -0.01\n",
      "   peak_decay -1.69 logq -1.34 logp -1.34 delta -0.00\n",
      "   peak_offset -0.14 logq -1.18 logp -1.64 delta -0.46\n",
      "   tt_residual -0.80 logq -1.66 logp -1.67 delta -0.02\n",
      "final proposal score -13.40\n",
      "inferred lpold -379267.3 lpnew -379477.3 delta -210.1 log_qforward -196.7 alt_score -13.4\n",
      "REMEMBER: the acceptance ratio also includes the reverse proposal probability from the death move.\n",
      "\n"
     ]
    }
   ],
   "source": [
    "print prettyprint_debug(debug_info)"
   ]
  },
  {
   "cell_type": "code",
   "execution_count": 17,
   "metadata": {
    "collapsed": false
   },
   "outputs": [
    {
     "name": "stdout",
     "output_type": "stream",
     "text": [
      "5.13698630137e-06\n"
     ]
    }
   ],
   "source": [
    "print sg.uatemplate_rate"
   ]
  },
  {
   "cell_type": "code",
   "execution_count": 9,
   "metadata": {
    "collapsed": false
   },
   "outputs": [
    {
     "name": "stdout",
     "output_type": "stream",
     "text": [
      "1.71232876712e-06\n"
     ]
    }
   ],
   "source": [
    "print sg.event_rate"
   ]
  },
  {
   "cell_type": "code",
   "execution_count": null,
   "metadata": {
    "collapsed": true
   },
   "outputs": [],
   "source": []
  }
 ],
 "metadata": {
  "kernelspec": {
   "display_name": "Python 2",
   "language": "python",
   "name": "python2"
  },
  "language_info": {
   "codemirror_mode": {
    "name": "ipython",
    "version": 2
   },
   "file_extension": ".py",
   "mimetype": "text/x-python",
   "name": "python",
   "nbconvert_exporter": "python",
   "pygments_lexer": "ipython2",
   "version": "2.7.6"
  }
 },
 "nbformat": 4,
 "nbformat_minor": 0
}
