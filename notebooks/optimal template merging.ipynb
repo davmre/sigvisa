{
 "metadata": {
  "name": "",
  "signature": "sha256:14ad005c62f9fdacc6444ad87e80b16d29b5ca65101733fb6c2d54e629ccba87"
 },
 "nbformat": 3,
 "nbformat_minor": 0,
 "worksheets": [
  {
   "cells": [
    {
     "cell_type": "code",
     "collapsed": false,
     "input": [
      "import numpy as np\n",
      "import sys\n",
      "import os\n",
      "import traceback\n",
      "import pickle\n",
      "import copy\n",
      "\n",
      "from sigvisa import Sigvisa\n",
      "\n",
      "from sigvisa.graph.sigvisa_graph import SigvisaGraph\n",
      "\n",
      "\n",
      "\n",
      "\n",
      "from sigvisa.infer.run_mcmc import run_open_world_MH\n",
      "from sigvisa.infer.mcmc_logger import MCMCLogger\n",
      "from sigvisa.infer.template_mcmc import birth_move, death_move, split_overall, merge_overall #, split_move, merge_move\n",
      "from sigvisa.plotting.plot import plot_with_fit, plot_with_fit_shapes, plot_pred_atimes\n",
      "from sigvisa.signals.common import Waveform\n",
      "from sigvisa.utils.fileutils import clear_directory, mkdir_p"
     ],
     "language": "python",
     "metadata": {},
     "outputs": [],
     "prompt_number": 14
    },
    {
     "cell_type": "code",
     "collapsed": false,
     "input": [
      "from sigvisa.experiments.one_station_templates_test import sample_template\n",
      "\n",
      "wave, templates = sample_template(seed=1, hardcoded=True)\n"
     ],
     "language": "python",
     "metadata": {},
     "outputs": [
      {
       "output_type": "stream",
       "stream": "stdout",
       "text": [
        "sampled 1 templates\n"
       ]
      }
     ],
     "prompt_number": 15
    },
    {
     "cell_type": "code",
     "collapsed": false,
     "input": [
      "srate=1.0\n",
      "sta=\"FIA3\"\n",
      "chan=\"SHZ\"\n",
      "nm_type=\"l1\"\n",
      "\n",
      "s = Sigvisa()\n",
      "\n",
      "import cPickle as pickle\n",
      "run_dir=os.path.join(s.homedir, 'logs', 'mcmc', 'merge_debug')\n",
      "\n",
      "try:\n",
      "    #raise Exception(\"\")\n",
      "    with open(os.path.join(run_dir, 'step_004999', 'pickle.sg'), 'rb') as f:\n",
      "        sg = pickle.load(f)\n",
      "    wn = sg.all_nodes[\"wave_FIA3_SHZ_freq_2.0_3.0_1239915900.0\"]\n",
      "    print \"loaded sg from cache\"\n",
      "except:\n",
      "\n",
      "    sg = SigvisaGraph(template_model_type=\"dummy\", template_shape=\"lin_polyexp\",\n",
      "                      wiggle_model_type=\"dummy\", wiggle_family=\"dummy\",\n",
      "                      phases=\"leb\", nm_type = nm_type, wiggle_len_s = 60.0)\n",
      "    wn = sg.add_wave(wave)\n",
      "    sg.uatemplate_rate=1e-4\n",
      "    \n",
      "    tg = sg.template_generator('UA')\n",
      "    tg.hack_force_mean = np.log(wn.nm.c * 5)\n",
      "    \n",
      "    run_seed = 2\n",
      "    np.random.seed(run_seed)\n",
      "    logger = MCMCLogger(run_dir, write_template_vals=True, dump_interval=100)\n",
      "    run_open_world_MH(sg, steps=5000,\n",
      "                          enable_template_openworld=True,\n",
      "                          enable_template_moves=True,\n",
      "                          enable_event_moves=False,\n",
      "                          logger=logger,\n",
      "                          enable_event_openworld=False)"
     ],
     "language": "python",
     "metadata": {},
     "outputs": [
      {
       "output_type": "stream",
       "stream": "stdout",
       "text": [
        "loaded sg from cache\n"
       ]
      }
     ],
     "prompt_number": 16
    },
    {
     "cell_type": "code",
     "collapsed": false,
     "input": [
      "#accept_move()\n",
      "def do_plot(wn, ax=None):\n",
      "      if ax is None:\n",
      "          f = plt.figure(figsize=(15,5))\n",
      "          ax=f.add_subplot(111)\n",
      "      shape_colors = plot_with_fit_shapes(fname=None, wn=wn, axes=ax, plot_wave=True)\n",
      "      atimes = dict([(\"%d_%s\" % (eid, phase), wn.get_template_params_for_arrival(eid=eid, phase=phase)[0]['arrival_time']) for (eid, phase) in wn.arrivals()])\n",
      "      colors = dict([(\"%d_%s\" % (eid, phase), shape_colors[eid]) for (eid, phase) in wn.arrivals()])\n",
      "      plot_pred_atimes(dict(atimes), wn.get_wave(), axes=ax, color=colors, alpha=1.0, bottom_rel=-0.1, top_rel=0.0)\n",
      "\n",
      "#do_plot(wn)\n",
      "\n",
      "print sg.current_log_p_breakdown()\n",
      "do_plot(wn)"
     ],
     "language": "python",
     "metadata": {},
     "outputs": [
      {
       "output_type": "stream",
       "stream": "stdout",
       "text": [
        "n_uatemplate: -64.6\n",
        "n_event: -3.8\n",
        "ev priors: ev 0.0\n",
        "tt_residual: ev 0.0\n",
        "ev global cost (n + priors + tt): -3.8\n",
        "coda_decay: ev 0.0 ua -11.4 total -11.4\n",
        "peak_decay: ev 0.0 ua -7.7 total -7.7\n",
        "peak_offset: ev 0.0 ua -23.5 total -23.5\n",
        "coda_height: ev 0.0 ua -35.0 total -35.0\n",
        "wiggles: ev 0.0 ua 0.0 total 0.0\n",
        "total param: ev 0.0 ua -77.7 total -77.7\n",
        "non signals: ev -3.8 ua -142.3 total -146.1\n",
        "signals: -4313.5\n",
        "overall: -4459.6\n",
        "official: -4459.6\n",
        "None\n",
        "plotting uatemplate -3 as color (0.0, 0.0019607843137254902, 1.0, 1.0)\n",
        "plotting uatemplate -2 as color (0.30044275774826057, 1.0, 0.66729917773561032, 1.0)\n",
        "plotting uatemplate -4 as color (0.0, 0.26862745098039204, 1.0, 1.0)\n",
        "plotting uatemplate -6 as color (0.0, 0.096078431372549025, 1.0, 1.0)\n",
        "plotting uatemplate -1 as color (0.022137887413029723, 0.9274509803921569, 0.94560404807084131, 1.0)\n",
        "plotting uatemplate -5 as color (0.0, 0.0, 0.92780748663101598, 1.0)\n",
        "plotting uatemplate -7 as color (0.0, 0.0, 0.76737967914438499, 1.0)\n",
        "reading station detections... \n"
       ]
      },
      {
       "metadata": {},
       "output_type": "display_data",
       "png": "[encoded data removed]",
       "text": [
        "<matplotlib.figure.Figure at 0x575db10>"
       ]
      }
     ],
     "prompt_number": 17
    },
    {
     "cell_type": "code",
     "collapsed": false,
     "input": [
      "revert_move()\n",
      "print sg.current_log_p_breakdown()"
     ],
     "language": "python",
     "metadata": {},
     "outputs": [
      {
       "output_type": "stream",
       "stream": "stdout",
       "text": [
        "n_uatemplate: -64.6\n",
        "n_event: -3.8\n",
        "ev priors: ev 0.0\n",
        "tt_residual: ev 0.0\n",
        "ev global cost (n + priors + tt): -3.8\n",
        "coda_decay: ev 0.0 ua -12.5 total -12.5\n",
        "peak_decay: ev 0.0 ua -10.5 total -10.5\n",
        "peak_offset: ev 0.0 ua -12.2 total -12.2\n",
        "coda_height: ev 0.0 ua -35.4 total -35.4\n",
        "wiggles: ev 0.0 ua 0.0 total 0.0\n",
        "total param: ev 0.0 ua -70.5 total -70.5\n",
        "non signals: ev -3.8 ua -135.1 total -138.9\n",
        "signals: -4352.2\n",
        "overall: -4491.1\n",
        "official: -4491.1\n",
        "None\n"
       ]
      }
     ],
     "prompt_number": 9
    },
    {
     "cell_type": "code",
     "collapsed": false,
     "input": [
      "def get_split_probs(sg, wn, arr1, arr2):\n",
      "    \n",
      "    \n",
      "    \n",
      "    eid1, phase1 = arr1\n",
      "    eid2, phase2 = arr2\n",
      "    \n",
      "    tmnodes1 = sg.get_template_nodes(eid1, wn.sta, phase1, wn.band, wn.chan)\n",
      "    tmnodes2 = sg.get_template_nodes(eid2, wn.sta, phase2, wn.band, wn.chan)\n",
      "\n",
      "    # current implementation is INCORRECT:\n",
      "    # one of these could be an event, so we need to use keys and not just the nodes\n",
      "    timeless1 = [n for (p, (k,n)) in tmnodes1.items() if p not in ('arrival_time', 'tt_residual')]\n",
      "    timeless2 = [n for (p, (k,n)) in tmnodes2.items() if p not in ('arrival_time', 'tt_residual')]\n",
      "\n",
      "    lp1 = sg.joint_logprob_keys(timeless1)\n",
      "    lp2 = sg.joint_logprob_keys(timeless2)\n",
      "    \n",
      "    print lp1, lp2\n",
      "    return lp1, lp2\n",
      "    \n"
     ],
     "language": "python",
     "metadata": {},
     "outputs": [],
     "prompt_number": 6
    },
    {
     "cell_type": "code",
     "collapsed": false,
     "input": [
      "def optimize_merge(sg, wn, arr1, arr2):\n",
      "    eid1, phase1 = arr1\n",
      "    eid2, phase2 = arr2\n",
      "    \n",
      "    arrivals = wn.arrivals()\n",
      "    arrs = [arr1, arr2]\n",
      "    misc_arrivals = [arr for arr in arrivals if arr not in arrs]\n",
      "    merge_signal = wn.assem_signal(arrivals=arrs).copy()\n",
      "    misc_signal = wn.assem_signal(arrivals=misc_arrivals).copy()\n",
      "    obs_signal = wn.get_value().copy()\n",
      "    orig_signal = wn.assem_signal().copy()\n",
      "    \n",
      "    tmnodes1 = sg.get_template_nodes(eid1, wn.sta, phase1, wn.band, wn.chan)\n",
      "    tmnodes2 = sg.get_template_nodes(eid2, wn.sta, phase2, wn.band, wn.chan)\n",
      "\n",
      "    dtmnodes2 = dict([(k,n) for (k,n) in tmnodes2.values()])\n",
      "    sg.destroy_unassociated_template(dtmnodes2)\n",
      "    \n",
      "    tmnode_list = [n for (k,n) in tmnodes1.values()]\n",
      "    sg.joint_optimize_nodes(tmnode_list, optim_params=construct_optim_params(\"\"))\n",
      "\n",
      "    return tmnodes1, tmnodes2"
     ],
     "language": "python",
     "metadata": {},
     "outputs": [],
     "prompt_number": 7
    },
    {
     "cell_type": "code",
     "collapsed": false,
     "input": [
      "from sigvisa.infer.optimize.optim_utils import construct_optim_params\n",
      "from sigvisa.infer.run_mcmc import single_template_MH\n",
      "\n",
      "from sigvisa.models.distributions import Uniform, Laplacian, Gaussian\n",
      "\n",
      "import scipy.stats\n",
      "\n",
      "def mh_accept(lp_old, lp_new, log_qforward=0, log_qbackward=0, jacobian_det=0, accept_move=None, revert_move=None):\n",
      "    u = np.random.rand()\n",
      "    if (lp_new + log_qbackward) - (lp_old + log_qforward) + jacobian_determinant > np.log(u):\n",
      "        if accept_move:\n",
      "            accept_move()\n",
      "        return True\n",
      "    else:\n",
      "        if revert_move:\n",
      "            revert_move()\n",
      "        return False\n",
      "        \n",
      "def get_template_values(tmnodes, sorted_params):\n",
      "    return np.array([tmnodes[p][1].get_value(tmnodes[p][0]) for p in sorted_params])\n",
      "\n",
      "def set_template_values(tmnodes, vals, sorted_params):\n",
      "    for param,v in zip(sorted_params, vals):\n",
      "        key, node = tmnodes[param]\n",
      "        node.set_value(key=key, value=v)\n",
      "        \n",
      "def template_logprob(nodes, vals, sorted_params, no_atime=False):\n",
      "    v = get_template_values(nodes, sorted_params)\n",
      "    set_template_values(nodes, vals, sorted_params)\n",
      "    lp = np.sum([node.log_p() for k,node in nodes.values() if not no_atime or 'arrivel_time' not in k])\n",
      "    \n",
      "    set_template_values(nodes, v, sorted_params)\n",
      "    return lp\n",
      "            \n",
      "def merge_target_distribution(sg, wn, sorted_arrs=None, snr_weight=1.0):\n",
      "    # return a distribution over which template to attempt a merge into\n",
      "    # currently this gives high probability to templates with lots of \n",
      "    # other templates nearby, as well as to high-amplitude templates. the tradeoff\n",
      "    # between these criteria is a parameter, snr_weight, which should probably\n",
      "    # be optimized empirically. \n",
      "    \n",
      "    if sorted_arrs is None:\n",
      "        sorted_arrs = get_sorted_arrivals(wn)\n",
      "                \n",
      "    n = len(sorted_arrs)\n",
      "    if n < 2:\n",
      "        return None, sorted_arrs\n",
      "\n",
      "    c = Counter()\n",
      "    vals = []\n",
      "    for k in range(n):\n",
      "        \n",
      "        tvals, eid, phase = sorted_arrs[k]        \n",
      "        \n",
      "        amp = np.exp(tvals['coda_height'])\n",
      "        snr = amp / wn.nm.c\n",
      "        \n",
      "        atime = tvals['arrival_time']\n",
      "        \n",
      "        nearby_templates = 0\n",
      "        atime_low = atime-10\n",
      "        j = k-1\n",
      "        while j >= 0:\n",
      "            if sorted_arrs[j][0]['arrival_time'] < atime_low:\n",
      "                break\n",
      "            j -= 1\n",
      "        nearby_templates += (k-j) - 1\n",
      "        \n",
      "        atime_high = atime + 30\n",
      "        j = k+1\n",
      "        while j < n:\n",
      "            if sorted_arrs[j][0]['arrival_time'] > atime_high:\n",
      "                break\n",
      "            j += 1\n",
      "        nearby_templates += (j-k) - 1\n",
      "            \n",
      "        c[k] = nearby_templates + snr_weight * snr\n",
      "        \n",
      "    c.normalize()\n",
      "    return c, sorted_arrs\n",
      "    \n",
      "def merge_source_distribution(sg, wn, k, sorted_arrs, width = 2.0):\n",
      "    # given a target template, sample another template to attempt merging into that template\n",
      "    # currently, this likelihood of sampling a template is Laplacian in the arrival time \n",
      "    # (so templates with very nearby arrivals are more likely to be merged).\n",
      "    \n",
      "    n = len(sorted_arrs)\n",
      "    \n",
      "    atime1 = sorted_arrs[k][0]['arrival_time']\n",
      "    \n",
      "    c = Counter()\n",
      "    for j in range(n):\n",
      "        if j==k: continue\n",
      "        if sorted_arrs[j][2] != \"UA\": continue\n",
      "        atime2 = sorted_arrs[j][0]['arrival_time']\n",
      "        c[j] = np.exp(- np.abs(atime2-atime1)/width)\n",
      "    c.normalize()\n",
      "    return c\n",
      "\n",
      "def sample_arrivals_to_merge_twostep(sg, wn):\n",
      "    c1, sorted_arrs = merge_target_distribution(sg, wn)\n",
      "    target_k = c1.sample()\n",
      "    arr_target = sorted_arrs[target_k]\n",
      "    \n",
      "    c2 = merge_source_distribution(sg, wn, target_k, sorted_arrs)\n",
      "    source_k = c2.sample()\n",
      "    arr_source = sorted_arrs[source_k]\n",
      "    merge_choice_prob = c1[target_k]*c2[source_k]\n",
      "        \n",
      "    return arr_target, arr_source, merge_choice_prob, sorted_arrs\n",
      "    \n",
      "\"\"\"\n",
      "def sample_arrivals_to_merge_properly(sg, sta):\n",
      "    arr1, arr2, merge_choice_prob = sample_arrivals_to_merge(sg, sta)\n",
      "    \n",
      "    eid1, phase1 = arr1\n",
      "    eid2, phase2 = arr2\n",
      "    \n",
      "    if phase1 != \"UA\":\n",
      "        return arr1, arr2, merge_choice_prob\n",
      "    elif phase2 != \"UA\":\n",
      "        arr1, arr2 = arr2, arr1\n",
      "        return arr1, arr2, merge_choice_prob\n",
      "    else:\n",
      "        if np.random.rand() < .5:\n",
      "            arr1, arr2 = arr2, arr1\n",
      "        return arr1, arr2, .5*merge_choice_prob\n",
      "\"\"\"\n",
      "    \n",
      "def merge_overall(sg, wn, split_atime_width=2.0):\n",
      "    arr1, arr2, merge_choice_prob, sorted_arrs = sample_arrivals_to_merge_twostep(sg, wn, width=split_atime_width)\n",
      "    \n",
      "    lp_old, lp_new, log_qforward, log_qbackward, accept_move, revert_move = NEWMERGEMOVE(sg, wn, arr1, arr2, merge_choice_prob)\n",
      "    return mh_accept(lp_old, lp_new, log_qforward, log_qbackward, accept_move=accept_move, revert_move=revert_move)\n",
      "    \n",
      "def remove_old_template(sg, wn, arr2, tmnodes2):\n",
      "    for (key, node) in tmnodes2.values():\n",
      "        sg.remove_node(node)\n",
      "        sg._topo_sorted_list[node._topo_sorted_list_index] = None\n",
      "    \n",
      "    #sg.destroy_unassociated_template(dtmnodes2)\n",
      "    \n",
      "    return tmnodes2\n",
      "    \n",
      "def get_merge_distribution(sg, wn, keep_arr, keep_nodes, sorted_params, \n",
      "                           mh_burnin_steps=50, mh_samples=50):\n",
      "    v, eid, phase = keep_arr\n",
      "    \n",
      "    tmnode_list = [n for (k,n) in keep_nodes.values()]\n",
      "\n",
      "    signal_logp_fn, signal_logp_deriv_fn = wn.cache_latent_signal_for_fixed_window(eid, phase, force_bounds=False)\n",
      "    \n",
      "    t0 = time.time()\n",
      "    sg.joint_optimize_nodes(tmnode_list, optim_params=construct_optim_params(), \n",
      "                            proxy_lps = {wn.label: ( signal_logp_fn, signal_logp_deriv_fn)})\n",
      "    t1 = time.time()\n",
      "    #optimized_vals = get_template_values(keep_nodes, sorted_params)\n",
      "    \n",
      "    \n",
      "    np.random.seed(1)\n",
      "    sp, vals = single_template_MH(sg, wn, keep_nodes, phase=phase, steps=mh_burnin_steps+mh_samples)\n",
      "    t2 = time.time()\n",
      "    print \"opt time: %s, mcmc time: %s\" % (t1-t0, t2-t1)\n",
      "    assert(sp == sorted_params)\n",
      "    \n",
      "    if mh_samples==0:\n",
      "        # treat any MH burnin as just part of the optimization; \n",
      "        # compute a Laplace approximation around the current value.\n",
      "        m = vals[-1,:]\n",
      "        \n",
      "        import numdifftools as nd\n",
      "        H = nd.Hessian(lb, step_nom=[1.0, 0.1, 0.1, 0.1, 0.1]) \n",
      "        e_val, e_vec = np.linalg.eig(H.hessian(m))\n",
      "        C = np.dot(e_vec, np.dot(np.diag(np.abs(1.0/e_val)), e_vec.T))\n",
      "        \n",
      "    else:\n",
      "        Q = np.cov(vals[mh_burnin_steps:,:].T)\n",
      "        m = np.mean(vals[mh_burnin_steps:,:], axis=0)\n",
      "    \n",
      "    return scipy.stats.multivariate_normal(mean=m, cov=Q)\n",
      "    \n",
      "    \n",
      "def NEWMERGEMOVE(sg, wn, arr1, arr2, merge_choice_prob, split_atime_width):\n",
      "    # TODO:\n",
      "    # - correct accounting for the arrival time window\n",
      "    # - don't compute entire current_log_p\n",
      "    # - efficient optimization\n",
      "    \n",
      "    vals1, eid1, phase1 = arr1\n",
      "    vals2, eid2, phase2 = arr2\n",
      "    n_arrs = len(wn.arrivals())\n",
      "    \n",
      "    # by default, the param values are pointers to the cache \n",
      "    # kept by the wave node, which will change as we optimize them.\n",
      "    # so we have to make our own copy in order to revert if the \n",
      "    # move is rejected. \n",
      "    vals1 = copy.copy(vals1) \n",
      "    log_qforward = np.log(merge_choice_prob)\n",
      "    \n",
      "    n1 = sg.get_arrival_nodes(eid1, wn.sta, phase1, wn.band, wn.chan)\n",
      "    n2 = sg.get_arrival_nodes(eid2, wn.sta, phase2, wn.band, wn.chan)\n",
      "    \n",
      "    # get parameter values of both templates in vector form\n",
      "    sorted_params = sorted([k for k in n1.keys() if k not in ('tt_residual', 'amp_transfer')])\n",
      "    v1 = [vals1[p] for p in sorted_params]\n",
      "    v2 = [vals2[p] for p in sorted_params]\n",
      "    \n",
      "    lp_old_full = sg.current_log_p()\n",
      "    lp_old = tmpl_move_logp(sg, wn.sta, [wn,] + relevant_nodes(n1) + relevant_nodes(n2), n=n_arrs)\n",
      "    \n",
      "    orig_topo_sorted = copy.copy(sg._topo_sorted_list)\n",
      "    \n",
      "    \n",
      "    # remove old template, and \n",
      "    remove_old_template(sg, wn, arr2, n2)\n",
      "    proposal = get_merge_distribution(sg, wn, arr1, n1, sorted_params)\n",
      "    proposed_vals = proposal.rvs()\n",
      "    log_qforward += proposal.logpdf(proposed_vals)\n",
      "        \n",
      "    set_template_values(n1, proposed_vals, sorted_params)\n",
      "    \n",
      "    \n",
      "    lp_new = tmpl_move_logp(sg, wn.sta, [wn,] + relevant_nodes(n1), n=n_arrs-1)\n",
      "    lp_new_full = sg.current_log_p() - sg.ntemplates_sta_log_p(sta, n=n_arrs) + sg.ntemplates_sta_log_p(sta, n=n_arrs-1)\n",
      "    \n",
      "\n",
      "    atime_idx = sorted_params.index(\"arrival_time\")\n",
      "    atime_dist = Laplacian(proposed_vals[atime_idx], split_atime_width)\n",
      "    conditional_logprob_atime1 = atime_dist.log_p(v1[atime_idx])\n",
      "    conditional_logprob_atime2 = atime_dist.log_p(v2[atime_idx])\n",
      "    \n",
      "    log_qbackward = template_logprob(n1, v1, sorted_params, no_atime=True) +  \\\n",
      "                    template_logprob(n2, v2, sorted_params, no_atime=True) -  \\\n",
      "                    np.log(n_arrs-1)\n",
      "    log_qbackward += conditional_logprob_atime1 + conditional_logprob_atime2\n",
      "    \n",
      "    print lp_new, lp_old, lp_new_full, lp_old_full, (lp_new - lp_old), (lp_new_full-lp_old_full)\n",
      "    if np.abs((lp_new - lp_old) - (lp_new_full-lp_old_full)) > 1e-10:\n",
      "        import pdb; pdb.set_trace()\n",
      "    \n",
      "    def accept_move():\n",
      "        uaid = n2['arrival_time'][1].tmid\n",
      "        del sg.uatemplates[uaid]\n",
      "        sg.uatemplate_ids[(wn.sta,wn.chan,wn.band)].remove(uaid)\n",
      "        assert(np.abs(sg.current_log_p() - lp_new_full) < 1e-10)\n",
      "    \n",
      "    def revert_move():\n",
      "        for (param, (key, node)) in n2.items():\n",
      "            sg.add_node(node)\n",
      "            node.addChild(wn)\n",
      "            \n",
      "        for (param, (key, node)) in n1.items():\n",
      "            node.set_value(vals1[param], key=key)\n",
      "            \n",
      "        wn.arrivals()\n",
      "        sg._topo_sorted_list = orig_topo_sorted\n",
      "        sg._gc_topo_sorted_nodes()\n",
      "        assert(np.abs(sg.current_log_p() - lp_old_full) < 1e-10)\n",
      "    \n",
      "    return lp_old, lp_new, log_qforward, log_qbackward, accept_move, revert_move\n",
      "    \n",
      "def split_overall(sg, wn, atime_width=2.0):\n",
      "    arr, k, sorted_arrs = sample_arr_to_split(sg, wn)\n",
      "    lp_old, lp_new, log_qforward, log_qbackward, accept_move, revert_move = do_split(sg, wn, arr, k, sorted_arrs, atime_width)\n",
      "    return mh_accept(lp_old, lp_new, log_qforward, log_qbackward, accept_move=accept_move, revert_move=revert_move)\n",
      "    \n",
      "def do_split(sg, wn, arr, k, sorted_arrs, atime_width, t1_values=None, t2_values=None):\n",
      "    old_vals_dict, split_eidl, split_phase = arr\n",
      "    old_vals_dict = copy.copy(old_vals_dict)\n",
      "    \n",
      "    n_arrs = len(sorted_arrs)\n",
      "    log_qforward = -np.log(n_arrs)\n",
      "    \n",
      "    tnodes = sg.get_template_nodes(eid=arr[1], phase=arr[2], sta=wn.sta, band=wn.band, chan=wn.chan)\n",
      "    sorted_params = [k for k in sorted(old_vals_dict.keys()) if k not in ('tt_residual', 'amp_transfer')] \n",
      "    old_vals = [old_vals_dict[p] for p in sorted_params]\n",
      "    \n",
      "    t1_is_event = tnodes['coda_height'][1].deterministic()\n",
      "\n",
      "    \n",
      "    #old_vals = get_template_vals(tnodes, sorted_params)\n",
      "    lp_old_full = sg.current_log_p()\n",
      "    lp_old = tmpl_move_logp(sg, wn.sta, [wn,] + relevant_nodes(tnodes), n=n_arrs)\n",
      "    \n",
      "    # resample first template from prior\n",
      "    assert(tnodes['coda_decay'][1].single_key) # array stations are not supported until \n",
      "                         # I figure out how to sample one station \n",
      "                         # conditionally on the others\n",
      "    atime_dist = Laplacian(tnodes['arrival_time'][1].get_value(), atime_width)\n",
      "    for (p, (k,n)) in tnodes.items():\n",
      "        if p==\"arrival_time\":\n",
      "            if t1_values:\n",
      "                new_time1 = t1_values['arrival_time']\n",
      "            else:\n",
      "                new_time1 = atime_dist.sample()\n",
      "            n.set_value(new_time1, key=k)\n",
      "            log_qforward += atime_dist.log_p(new_time1)\n",
      "        else:\n",
      "            if t1_values:\n",
      "                n.set_value(t1_values[p], key=k)\n",
      "            else:\n",
      "                n.parent_sample()\n",
      "            log_qforward += n.log_p()\n",
      "    \n",
      "    \n",
      "    # starting with the newly-sampled template, find the optimal single template to get the reverse probability\n",
      "    split_v1 = get_template_values(tnodes, sorted_params)\n",
      "    merge_dist = get_merge_distribution(sg, wn, arr, tnodes, sorted_params)\n",
      "    log_qbackward = merge_dist.logpdf(old_vals)\n",
      "    set_template_values(tnodes, split_v1, sorted_params)\n",
      "    \n",
      "    # sample second template from unassociated template prior\n",
      "    new_time2 = atime_dist.sample()\n",
      "    new_tmpl = sg.create_unassociated_template(wn, atime=new_time2, nosort=True, sample_wiggles=True)\n",
      "    \n",
      "    if t2_values:\n",
      "        new_time2 = t2_values['arrival_time']\n",
      "        for (p, n) in new_tmpl.items():\n",
      "            n.set_value(t2_values[p])\n",
      "        \n",
      "    sg._topo_sorted_list = new_tmpl.values() + sg._topo_sorted_list\n",
      "    sg._gc_topo_sorted_nodes()\n",
      "    new_tmpl_priorsampled = [n for (p, n) in new_tmpl.items() if p not in ['arrival_time']]\n",
      "    log_qforward += sg.joint_logprob_keys(new_tmpl_priorsampled)\n",
      "    log_qforward += atime_dist.log_p(new_time2)\n",
      "        \n",
      "    lp_new_full = sg.current_log_p()\n",
      "    lp_new = tmpl_move_logp(sg, wn.sta, [wn,] + relevant_nodes(tnodes) + new_tmpl.values(), n=n_arrs+1)\n",
      "    \n",
      "    print lp_new, lp_old, lp_new_full, lp_old_full, (lp_new - lp_old), (lp_new_full-lp_old_full)\n",
      "    if np.abs((lp_new - lp_old) - (lp_new_full-lp_old_full)) > 1e-10:\n",
      "        import pdb; pdb.set_trace()\n",
      "    \n",
      "    \n",
      "    # the reverse probability incorporates the prob that we would have chosen to merge these two templates\n",
      "    new_sorted_arrs = get_sorted_arrivals(wn)\n",
      "    c1_idx = get_atime_index(new_sorted_arrs, new_time1)\n",
      "    c2_idx = get_atime_index(new_sorted_arrs, new_time2)\n",
      "\n",
      "    c1, _ = merge_target_distribution(sg, wn, sorted_arrs=new_sorted_arrs)\n",
      "    c2 = merge_source_distribution(sg, wn, sorted_arrs=new_sorted_arrs, k=c1_idx, width=atime_width)\n",
      "    \n",
      "    log_qbackward += np.log(c1[c1_idx]) + np.log(c2[c2_idx])\n",
      "        \n",
      "    def accept_move():\n",
      "        assert(np.abs(sg.current_log_p() - lp_new) < 1e-10)\n",
      "        pass\n",
      "    \n",
      "    def revert_move():\n",
      "        sg.destroy_unassociated_template(new_tmpl, nosort=True)\n",
      "\n",
      "        set_template_values(tnodes, old_vals, sorted_params)\n",
      "\n",
      "        # WARNING: this assumes the list hasn't been re-sorted by any\n",
      "        # of our intermediate calls.\n",
      "        sg._topo_sorted_list = sg._topo_sorted_list[len(new_tmpl):]\n",
      "        sg._gc_topo_sorted_nodes()\n",
      "        sg.next_uatemplateid -= 1\n",
      "        lp = sg.current_log_p()\n",
      "        assert(np.abs(lp - lp_old) < 1e-10)\n",
      "    \n",
      "    return lp_old, lp_new, log_qforward, log_qbackward, accept_move, revert_move\n",
      " \n",
      "    \n",
      "#tmnodes = optimize_merge(sg, wn, (-1, \"UA\"), (-3, \"UA\"))"
     ],
     "language": "python",
     "metadata": {},
     "outputs": [],
     "prompt_number": 10
    },
    {
     "cell_type": "code",
     "collapsed": false,
     "input": [
      "do_merge = True\n",
      "\n",
      "if do_merge:\n",
      "    np.random.seed(1)\n",
      "\n",
      "    arr1, arr2, merge_choice_prob, sorted_arrs = sample_arrivals_to_merge_twostep(sg, wn)\n",
      "    #print arr1\n",
      "    #print arr2\n",
      "    #print merge_choice_prob\n",
      "\n",
      "    t1_vals = copy.copy(arr1[0])\n",
      "    t2_vals = copy.copy(arr2[0])\n",
      "    \n",
      "    lp_old, lp_new, log_qforward, log_qbackward, accept_move, revert_move = NEWMERGEMOVE(sg, wn, arr1, arr2, merge_choice_prob, split_atime_width=2.0)\n",
      "        \n",
      "    revert_move()\n",
      "    #import cPickle as pickle\n",
      "    #with open(os.path.join(run_dir, 'step_000499', 'pickle_merged.sg'), 'wb') as f:\n",
      "    #    pickle.dump(sg, f)\n",
      "        \n",
      "else:\n",
      "    with open(os.path.join(run_dir, 'step_000499', 'pickle_merged.sg'), 'rb') as f:\n",
      "        sg = pickle.load(f)\n",
      "    wn = sg.all_nodes[\"wave_FIA3_SHZ_freq_2.0_3.0_1239915900.0\"]\n",
      "    print \"loaded sg from cache\"\n"
     ],
     "language": "python",
     "metadata": {},
     "outputs": [
      {
       "output_type": "stream",
       "stream": "stdout",
       "text": [
        "[array([ 0.03096545, -0.80063126, -0.04723939,  0.26282034,  0.34903342])]\n",
        "{'warnflag': 0, 'task': 'CONVERGENCE: REL_REDUCTION_OF_F_<=_FACTR*EPSMCH', 'grad': array([  1.24781041e+03,   1.69542355e+03,  -4.52590095e+02,\n",
        "         1.43357551e+00,   2.52027508e+02]), 'nit': 51, 'funcalls': 162}"
       ]
      },
      {
       "output_type": "stream",
       "stream": "stdout",
       "text": [
        "\n",
        "got optimized x"
       ]
      },
      {
       "output_type": "stream",
       "stream": "stdout",
       "text": [
        " [  2.97814355e+00   1.23991600e+09  -3.66240541e+00  -5.54748588e+00\n",
        "   1.99186564e+00]\n",
        "step 0: lp -5066.691357, [  1.23991600e+09  -3.66240541e+00   2.97814355e+00  -5.54748588e+00\n",
        "   1.99186564e+00]\n",
        "step 50: lp -5027.699004, [  1.23991600e+09  -3.66240541e+00   2.97814355e+00  -6.81781744e+00\n",
        "   1.83830029e+00]"
       ]
      },
      {
       "output_type": "stream",
       "stream": "stdout",
       "text": [
        "\n",
        "opt time: 0.350118875504, mcmc time: 2.44034719467"
       ]
      },
      {
       "output_type": "stream",
       "stream": "stdout",
       "text": [
        "\n",
        "-4848.35622993 -5022.26536205 -5015.25161906 -5189.16075118 173.909132123 173.909132123\n"
       ]
      }
     ],
     "prompt_number": 11
    },
    {
     "cell_type": "code",
     "collapsed": false,
     "input": [
      "print t1_vals\n",
      "print t2_vals"
     ],
     "language": "python",
     "metadata": {},
     "outputs": [
      {
       "output_type": "stream",
       "stream": "stdout",
       "text": [
        "{'coda_height': 3.2167581678948602, 'arrival_time': 1239915999.6843712, 'coda_decay': -3.7125772379207205, 'peak_decay': -2.317308473912978, 'peak_offset': 2.0471002647427654}\n",
        "{'coda_height': 2.4040641410358075, 'arrival_time': 1239915999.99712, 'coda_decay': -0.13826748200948025, 'peak_decay': -0.18759832803569515, 'peak_offset': 1.2656431311956173}\n"
       ]
      }
     ],
     "prompt_number": 10
    },
    {
     "cell_type": "code",
     "collapsed": false,
     "input": [
      "sorted_arrs = get_sorted_arrivals(wn)\n",
      "k = 2\n",
      "np.random.seed(1)\n",
      "slp_old, slp_new, slog_qforward, slog_qbackward, accept_move, revert_move = do_split(sg, wn, sorted_arrs[k], k, sorted_arrs, atime_width=2.0, t1_values=t1_vals, t2_values=t2_vals)"
     ],
     "language": "python",
     "metadata": {},
     "outputs": [
      {
       "output_type": "stream",
       "stream": "stdout",
       "text": [
        "[array([ 0.03096545, -0.80063126, -0.04723939,  0.26282034,  0.34903342])]\n",
        "got optimized x"
       ]
      },
      {
       "output_type": "stream",
       "stream": "stdout",
       "text": [
        " [  3.18755905e+00   1.23991600e+09  -3.75060937e+00  -2.33511319e+00\n",
        "   2.04921823e+00]\n",
        "step 0: lp -5288.368704, [  1.23991600e+09  -3.75060937e+00   3.18755905e+00  -2.33511319e+00\n",
        "   2.04921823e+00]\n",
        "step 50: lp -5265.201766, [  1.23991600e+09  -3.75060937e+00   3.18755905e+00  -2.33511319e+00\n",
        "   1.93313170e+00]"
       ]
      },
      {
       "output_type": "stream",
       "stream": "stdout",
       "text": [
        "\n",
        "-5022.26536205"
       ]
      },
      {
       "output_type": "stream",
       "stream": "stdout",
       "text": [
        " -5092.74308664 -5189.16075118 -5259.63847577 70.4777245911 70.4777245911\n"
       ]
      }
     ],
     "prompt_number": 11
    },
    {
     "cell_type": "code",
     "collapsed": false,
     "input": [
      "print lp_old, lp_new, log_qforward, log_qbackward\n",
      "print slp_old, slp_new, slog_qforward, slog_qbackward"
     ],
     "language": "python",
     "metadata": {},
     "outputs": [
      {
       "output_type": "stream",
       "stream": "stdout",
       "text": [
        "-5189.16075118 -5259.63847577 3.61635209351 -71.0695085109\n",
        "-5259.63847577 -5189.16075118 -71.0695085109 3.61635209351\n"
       ]
      }
     ],
     "prompt_number": 80
    },
    {
     "cell_type": "code",
     "collapsed": false,
     "input": [
      "accept_move()"
     ],
     "language": "python",
     "metadata": {},
     "outputs": [],
     "prompt_number": 81
    },
    {
     "cell_type": "code",
     "collapsed": false,
     "input": [
      "print sg.current_log_p_breakdown()\n",
      "do_plot(wn)"
     ],
     "language": "python",
     "metadata": {},
     "outputs": [
      {
       "output_type": "stream",
       "stream": "stdout",
       "text": [
        "n_uatemplate: -211.9\n",
        "n_event: -3.8\n",
        "ev priors: ev 0.0\n",
        "tt_residual: ev 0.0\n",
        "ev global cost (n + priors + tt): -3.8\n",
        "coda_decay: ev 0.0 ua -40.8 total -40.8\n",
        "peak_decay: ev 0.0 ua -47.0 total -47.0\n",
        "peak_offset: ev 0.0 ua -62.6 total -62.6\n",
        "coda_height: ev 0.0 ua -24.9 total -24.9\n",
        "wiggles: ev 0.0 ua 0.0 total 0.0\n",
        "total param: ev 0.0 ua -175.3 total -175.3\n",
        "non signals: ev -3.8 ua -387.2 total -391.0\n",
        "signals: -14114.2\n",
        "overall: -14505.2\n",
        "official: -14505.2\n",
        "None\n",
        "plotting uatemplate -18 as color (0.24984187223276405, 1.0, 0.717900063251107, 1.0)\n",
        "plotting uatemplate -8 as color (0.0094876660341554168, 0.9117647058823527, 0.95825426944971559, 1.0)\n",
        "plotting uatemplate -11 as color (0.31309297912713452, 1.0, 0.65464895635673637, 1.0)\n",
        "plotting uatemplate -21 as color (0.0, 0.1588235294117647, 1.0, 1.0)\n",
        "plotting uatemplate -14 as color (0.0, 0.55098039215686279, 1.0, 1.0)\n",
        "plotting uatemplate -24 as color (0.0, 0.80196078431372553, 1.0, 1.0)\n",
        "plotting uatemplate -27 as color (0.0, 0.69215686274509802, 1.0, 1.0)\n",
        "plotting uatemplate -7 as color (0.0, 0.0, 1.0, 1.0)\n",
        "plotting uatemplate -4 as color (0.0, 0.34705882352941175, 1.0, 1.0)\n",
        "plotting uatemplate -17 as color (0.0, 0.0, 1.0, 1.0)\n",
        "plotting uatemplate -20 as color (0.23719165085388991, 1.0, 0.73055028462998106, 1.0)\n",
        "plotting uatemplate -13 as color (0.46489563567362424, 1.0, 0.50284629981024676, 1.0)\n",
        "plotting uatemplate -26 as color (0.0, 0.0, 0.64260249554367199, 1.0)\n",
        "plotting uatemplate -6 as color (0.022137887413029723, 0.9274509803921569, 0.94560404807084131, 1.0)\n",
        "plotting uatemplate -16 as color (0.0, 0.1588235294117647, 1.0, 1.0)\n",
        "plotting uatemplate -19 as color (0.0, 0.75490196078431371, 1.0, 1.0)\n",
        "plotting uatemplate"
       ]
      },
      {
       "output_type": "stream",
       "stream": "stdout",
       "text": [
        " -22 as color (0.0, 0.0176470588235293, 1.0, 1.0)\n",
        "plotting uatemplate -15 as color (0.0, 0.80196078431372553, 1.0, 1.0)\n",
        "plotting uatemplate -9 as color (0.0, 0.2372549019607843, 1.0, 1.0)\n",
        "plotting uatemplate -1 as color (0.0, 0.080392156862744993, 1.0, 1.0)\n",
        "plotting uatemplate -12 as color (0.33839342188488292, 1.0, 0.62934851359898802, 1.0)\n",
        "plotting uatemplate -25 as color (0.38899430740037944, 1.0, 0.57874762808349156, 1.0)\n",
        "plotting uatemplate -5 as color (0.0, 0.72352941176470587, 1.0, 1.0)\n",
        "reading station detections... \n"
       ]
      },
      {
       "metadata": {},
       "output_type": "display_data",
       "png": "[encoded data removed]",
       "text": [
        "<matplotlib.figure.Figure at 0x5cefe90>"
       ]
      }
     ],
     "prompt_number": 38
    },
    {
     "cell_type": "code",
     "collapsed": false,
     "input": [
      "import scipy.stats\n",
      "\n",
      "# approximate the proposal density as an axis-aligned Gaussian.\n",
      "# this will in general return too-small values, since it ignores correlations between parameters\n",
      "def template_mcmc_proposal_density(vals, burnin=100):\n",
      "    vals = vals[burnin:, :]\n",
      "    means = np.mean(vals, axis=0)\n",
      "    stds = np.std(vals, axis=0)\n",
      "    v = vals[-1, :]\n",
      "\n",
      "    # hack to prevent errors if MCMC returns \n",
      "    stds[np.isnan(stds)] = 1e-4\n",
      "    \n",
      "    lps = [scipy.stats.norm.logpdf(v[i], loc=means[i], scale=stds[i]) for i in range(len(v))]\n",
      "    print stds\n",
      "    print lps\n",
      "    \n",
      "    return np.sum(lps)\n",
      "\n"
     ],
     "language": "python",
     "metadata": {},
     "outputs": [],
     "prompt_number": 9
    },
    {
     "cell_type": "code",
     "collapsed": false,
     "input": [
      "do_plot(wn)\n",
      "sg.current_log_p_breakdown()"
     ],
     "language": "python",
     "metadata": {},
     "outputs": [
      {
       "output_type": "stream",
       "stream": "stdout",
       "text": [
        "plotting uatemplate -18 as color (0.0, 0.56666666666666665, 1.0, 1.0)\n",
        "plotting uatemplate -8 as color (0.0, 0.22156862745098038, 1.0, 1.0)\n",
        "plotting uatemplate -11 as color (0.0, 0.707843137254902, 1.0, 1.0)\n",
        "plotting uatemplate -21 as color (0.4142947501581275, 1.0, 0.55344718532574344, 1.0)\n",
        "plotting uatemplate -14 as color (0.0, 0.28431372549019607, 1.0, 1.0)\n",
        "plotting uatemplate -24 as color (0.0, 0.28431372549019607, 1.0, 1.0)\n",
        "plotting uatemplate -7 as color (0.14864010120177101, 1.0, 0.81910183428209993, 1.0)\n",
        "plotting uatemplate -4 as color (0.0, 0.78627450980392133, 1.0, 1.0)\n",
        "plotting uatemplate -17 as color (0.0, 0.28431372549019607, 1.0, 1.0)\n",
        "plotting uatemplate -20 as color (0.0, 0.88039215686274508, 0.98355471220746371, 1.0)\n",
        "plotting uatemplate -3 as color (0.0, 0.29999999999999999, 1.0, 1.0)\n",
        "plotting uatemplate -13 as color (0.0, 0.0, 0.80303030303030298, 1.0)\n",
        "plotting uatemplate -26 as color (0.0, 0.39411764705882341, 1.0, 1.0)\n",
        "plotting uatemplate -6 as color (0.0, 0.1588235294117647, 1.0, 1.0)\n",
        "plotting uatemplate -16 as color (0.0, 0.0, 0.98128342245989297, 1.0)\n",
        "plotting uatemplate -19 as color (0.3636938646426312, 1.0, 0.60404807084123968, 1.0)\n",
        "plotting uatemplate -22 as color (0.0, 0.88039215686274508, 0.98355471220746371, 1.0)\n",
        "plotting uatemplate -15 as color (0.0, 0.69215686274509802, 1.0, 1.0)\n",
        "plotting uatemplate -9 as color (0.072738772928526235, 0.99019607843137258, 0.89500316255534473, 1.0)\n",
        "plotting uatemplate -1 as color (0.0, 0.58235294117647063, 1.0, 1.0)\n",
        "plotting uatemplate -12 as color (0.0, 0.89607843137254906, 0.97090449082858954, 1.0)\n",
        "plotting uatemplate -25 as color (0.37634408602150532, 1.0, 0.59139784946236562, 1.0)\n",
        "plotting uatemplate -5 as color (0.26249209361163817, 1.0, 0.70524984187223283, 1.0)\n",
        "reading station detections... \n",
        "n_uatemplate: -211.9"
       ]
      },
      {
       "output_type": "stream",
       "stream": "stdout",
       "text": [
        "\n",
        "n_event: -3.8\n",
        "ev priors: ev 0.0\n",
        "tt_residual: ev 0.0\n",
        "ev global cost (n + priors + tt): -3.8\n",
        "coda_decay: ev 0.0 ua -41.5 total -41.5\n",
        "peak_decay: ev 0.0 ua -48.1 total -48.1\n",
        "peak_offset: ev 0.0 ua -63.5 total -63.5\n",
        "coda_height: ev 0.0 ua -74.1 total -74.1\n",
        "wiggles: ev 0.0 ua 0.0 total 0.0\n",
        "total param: ev 0.0 ua -227.1 total -227.1\n",
        "non signals: ev -3.8 ua -439.0 total -442.8\n",
        "signals: -4746.3\n",
        "overall: -5189.2\n",
        "official: -5189.2\n"
       ]
      },
      {
       "metadata": {},
       "output_type": "display_data",
       "png": "[encoded data removed]",
       "text": [
        "<matplotlib.figure.Figure at 0x5029fd0>"
       ]
      }
     ],
     "prompt_number": 12
    },
    {
     "cell_type": "code",
     "collapsed": false,
     "input": [
      "from sigvisa.infer.template_mcmc import *\n",
      "\n",
      "median_C = np.array([[  9.39927067e-02,  -4.62885678e-03,  -4.95432261e-03,\n",
      "                          2.74061060e-04,  -1.46169921e-01],\n",
      "                     [ -4.62885678e-03,   1.59957445e-01,   4.16393590e-03,\n",
      "                         -1.43550132e-01,   6.98180075e-03],\n",
      "       [ -4.95432261e-03,   4.16393590e-03,   2.03647647e-02,\n",
      "          2.16402363e-02,  -3.83056982e-03],\n",
      "       [  2.74061060e-04,  -1.43550132e-01,   2.16402363e-02,\n",
      "          8.13223033e-01,   3.29480902e-04],\n",
      "       [ -1.46169921e-01,   6.98180075e-03,  -3.83056982e-03,\n",
      "          3.29480902e-04,   2.50134547e-01]])\n",
      "\n",
      "\n",
      "def optimize_merge_move(sg, wn, arr1, arr2):\n",
      "    \n",
      "    lp_old = sg.current_log_p()\n",
      "    print \"old\", sg.current_log_p_breakdown()\n",
      "    orig_topo_sorted = copy.copy(sg._topo_sorted_list)\n",
      "    \n",
      "    \n",
      "    lp1, lp2 = get_split_probs(sg, wn, arr1, arr2)\n",
      "    log_qbackward = lp1+lp2\n",
      "    \n",
      "    tmnodes, lost_nodes = optimize_merge(sg, wn, arr1, arr2)\n",
      "    keep_vals = dict([(p, n.get_value(k)) for (p, (k, n)) in tmnodes.items()])\n",
      "    \n",
      "    sorted_params = ['arrival_time', 'coda_decay', 'coda_height', 'peak_decay', 'peak_offset']\n",
      "    optimized_vals = np.array([tmnodes[p][1].get_value(tmnodes[p][0]) for p in sorted_params])\n",
      "    \n",
      "    lp_opt = sg.current_log_p()\n",
      "    \n",
      "    sp, vals = single_template_MH(sg, wn, tmnodes, phase=\"UA\", steps=2000)\n",
      "    Q = np.cov(vals[200:,:].T)\n",
      "    m = np.mean(vals[200:,:], axis=0)\n",
      "    \n",
      "    proposal = scipy.stats.multivariate_normal(mean=m, cov=Q)\n",
      "    \n",
      "    proposed_vals = proposal.rvs()\n",
      "    log_qforward = proposal.logpdf(proposed_vals)\n",
      "    \n",
      "    for (p, v) in zip(sorted_params, proposed_vals):\n",
      "        k, n = tmnodes[p]\n",
      "        n.set_value(v, k)\n",
      "\n",
      "    print \"new\", sg.current_log_p_breakdown()\n",
      "    lp_new = sg.current_log_p()\n",
      "        \n",
      "    # \n",
      "    k,n = tmnodes['arrival_time']\n",
      "    merged_atime = n.get_value(key=k)\n",
      "    sorted_arrs = get_sorted_arrivals(wn)\n",
      "    idx = get_atime_index(sorted_arrs, merged_atime)\n",
      "    atime_window_start, atime_window_len = atime_window(wn, sorted_arrs, idx)\n",
      "\n",
      "    # split move has to choose which arrival to split, and the arrival time for the two split arrivals\n",
      "    log_qbackward -= 2*np.log(atime_window_len) # + np.log(n_arrs-1)\n",
      "    \n",
      "    print keep_vals\n",
      "    print zip(sorted_params, optimized_vals)\n",
      "    print zip(sorted_params, proposed_vals)\n",
      "    \n",
      "    \n",
      "    print lp_new, lp_old, lp_opt, log_qbackward, log_qforward\n",
      "    print (lp_new + log_qbackward) - (lp_old + log_qforward)\n",
      "    \n",
      "    do_plot(wn)\n",
      "    \n",
      "    #undo the move\n",
      "    for (param, (key, node)) in lost_nodes.items():\n",
      "        sg.add_node(node)\n",
      "        node.addChild(wn)\n",
      "        \n",
      "    for (param, (key, node)) in tmnodes.items():\n",
      "        if param in keep_vals:\n",
      "            node.set_value(key=key, value=keep_vals[param])\n",
      "            \n",
      "    wn.arrivals()\n",
      "    sg._topo_sorted_list = orig_topo_sorted\n",
      "    sg._gc_topo_sorted_nodes()\n",
      "    \n",
      "optimize_merge_move(sg, wn, (-1, \"UA\"), (-3, \"UA\"))"
     ],
     "language": "python",
     "metadata": {},
     "outputs": [
      {
       "output_type": "stream",
       "stream": "stdout",
       "text": [
        "old n_uatemplate: -211.9\n",
        "n_event: -3.8\n",
        "ev priors: ev 0.0\n",
        "tt_residual: ev 0.0\n",
        "ev global cost (n + priors + tt): -3.8\n",
        "coda_decay: ev 0.0 ua -41.5 total -41.5\n",
        "peak_decay: ev 0.0 ua -48.1 total -48.1\n",
        "peak_offset: ev 0.0 ua -63.5 total -63.5\n",
        "coda_height: ev 0.0 ua -74.1 total -74.1\n",
        "wiggles: ev 0.0 ua 0.0 total 0.0\n",
        "total param: ev 0.0 ua -227.1 total -227.1\n",
        "non signals: ev -3.8 ua -439.0 total -442.8\n",
        "signals: -4746.3\n",
        "overall: -5189.2\n",
        "official: -5189.2\n",
        "None\n",
        "-39.0936268291 -24.9162383669\n",
        "[array([ 0.03096545, -0.80063126, -0.04723939,  0.26282034,  0.34903342])]\n",
        "{'warnflag': 2, 'task': 'ABNORMAL_TERMINATION_IN_LNSRCH', 'grad': array([ -1059.89794407,  17202.09873864,    667.53953398,   1769.84685017,\n",
        "          603.85313876]), 'nit': 16, 'funcalls': 102}"
       ]
      },
      {
       "output_type": "stream",
       "stream": "stdout",
       "text": [
        "\n",
        "{'warnflag': 0, 'task': 'CONVERGENCE: REL_REDUCTION_OF_F_<=_FACTR*EPSMCH', 'grad': array([  569.81155105,  9034.57048848,   971.34598547,   479.04232491,\n",
        "         536.96033709]), 'nit': 44, 'funcalls': 312}"
       ]
      },
      {
       "output_type": "stream",
       "stream": "stdout",
       "text": [
        "\n",
        "{'warnflag': 2, 'task': 'ABNORMAL_TERMINATION_IN_LNSRCH', 'grad': array([  -750.00470431,  14096.02679438,    277.02369375,    364.09800598,\n",
        "          563.69150503]), 'nit': 3, 'funcalls': 67}"
       ]
      },
      {
       "output_type": "stream",
       "stream": "stdout",
       "text": [
        "\n",
        "{'warnflag': 0, 'task': 'CONVERGENCE: REL_REDUCTION_OF_F_<=_FACTR*EPSMCH', 'grad': array([ 2392.04744455,  8666.27873208, -1403.38750237,   303.35989027,\n",
        "         112.90562581]), 'nit': 17, 'funcalls': 225}"
       ]
      },
      {
       "output_type": "stream",
       "stream": "stdout",
       "text": [
        "\n",
        "got optimized x"
       ]
      },
      {
       "output_type": "stream",
       "stream": "stdout",
       "text": [
        " [  3.06492759e+00   1.23991600e+09  -3.69426543e+00  -3.41595398e+00\n",
        "   1.76168700e+00]\n",
        "step 0: lp -5020.673636, [  1.23991600e+09  -3.69426543e+00   3.06492759e+00  -3.41595398e+00\n",
        "   1.76168700e+00]\n",
        "step 50: lp -4996.035840, [  1.23991600e+09  -3.69426543e+00   3.06492759e+00  -3.41595398e+00\n",
        "   1.67079666e+00]"
       ]
      },
      {
       "output_type": "stream",
       "stream": "stdout",
       "text": [
        "\n",
        "step 100: lp -4987.329817, [  1.23991600e+09  -3.69426543e+00   3.06492759e+00  -3.45971892e+00\n",
        "   1.62821816e+00]"
       ]
      },
      {
       "output_type": "stream",
       "stream": "stdout",
       "text": [
        "\n",
        "step 150: lp -4895.160521, [  1.23991600e+09  -3.69426543e+00   3.06496440e+00  -3.86728014e+00\n",
        "   1.04524922e+00]"
       ]
      },
      {
       "output_type": "stream",
       "stream": "stdout",
       "text": [
        "\n",
        "step 200: lp -4874.214729, [  1.23991600e+09  -3.69426543e+00   3.06496440e+00  -3.86728014e+00\n",
        "   1.14586282e+00]"
       ]
      },
      {
       "output_type": "stream",
       "stream": "stdout",
       "text": [
        "\n",
        "step 250: lp -4875.191157, [  1.23991600e+09  -3.69426543e+00   3.06496440e+00  -3.88309324e+00\n",
        "   1.14586282e+00]"
       ]
      },
      {
       "output_type": "stream",
       "stream": "stdout",
       "text": [
        "\n",
        "step 300: lp -4874.916391, [  1.23991600e+09  -3.69426543e+00   3.06496440e+00  -3.88881598e+00\n",
        "   1.12124567e+00]"
       ]
      },
      {
       "output_type": "stream",
       "stream": "stdout",
       "text": [
        "\n",
        "step 350: lp -4864.423666, [  1.23991600e+09  -3.69426543e+00   3.06496440e+00  -3.90903564e+00\n",
        "   1.07025665e+00]"
       ]
      },
      {
       "output_type": "stream",
       "stream": "stdout",
       "text": [
        "\n",
        "step 400: lp -4847.975945, [  1.23991600e+09  -3.67913571e+00   3.06496440e+00  -4.25527873e+00\n",
        "   1.07025665e+00]"
       ]
      },
      {
       "output_type": "stream",
       "stream": "stdout",
       "text": [
        "\n",
        "step 450: lp -4842.192605, [  1.23991600e+09  -3.67913571e+00   3.06496440e+00  -4.19455907e+00\n",
        "   1.07025665e+00]"
       ]
      },
      {
       "output_type": "stream",
       "stream": "stdout",
       "text": [
        "\n",
        "step 500: lp -4842.192605, [  1.23991600e+09  -3.67913571e+00   3.06496440e+00  -4.19455907e+00\n",
        "   1.07025665e+00]"
       ]
      },
      {
       "output_type": "stream",
       "stream": "stdout",
       "text": [
        "\n",
        "step 550: lp -4841.668181, [  1.23991600e+09  -3.67913571e+00   3.06496440e+00  -4.09126477e+00\n",
        "   1.07025665e+00]"
       ]
      },
      {
       "output_type": "stream",
       "stream": "stdout",
       "text": [
        "\n",
        "step 600: lp -4841.377000, [  1.23991600e+09  -3.67913571e+00   3.06496440e+00  -4.09630108e+00\n",
        "   1.07025665e+00]"
       ]
      },
      {
       "output_type": "stream",
       "stream": "stdout",
       "text": [
        "\n",
        "step 650: lp -4841.361732, [  1.23991600e+09  -3.67913571e+00   3.06496440e+00  -4.09630108e+00\n",
        "   1.07025665e+00]"
       ]
      },
      {
       "output_type": "stream",
       "stream": "stdout",
       "text": [
        "\n",
        "step 700: lp -4841.348035, [  1.23991600e+09  -3.67913571e+00   3.06496440e+00  -4.09674762e+00\n",
        "   1.07025665e+00]"
       ]
      },
      {
       "output_type": "stream",
       "stream": "stdout",
       "text": [
        "\n",
        "step 750: lp -4843.814770, [  1.23991600e+09  -3.67913571e+00   3.06496440e+00  -4.09674762e+00\n",
        "   1.07743643e+00]"
       ]
      },
      {
       "output_type": "stream",
       "stream": "stdout",
       "text": [
        "\n",
        "step 800: lp -4842.488450, [  1.23991600e+09  -3.67913571e+00   3.06496440e+00  -4.08367366e+00\n",
        "   1.07330829e+00]"
       ]
      },
      {
       "output_type": "stream",
       "stream": "stdout",
       "text": [
        "\n",
        "step 850: lp -4841.590010, [  1.23991600e+09  -3.67913571e+00   3.06496440e+00  -4.16507491e+00\n",
        "   1.07330829e+00]"
       ]
      },
      {
       "output_type": "stream",
       "stream": "stdout",
       "text": [
        "\n",
        "step 900: lp -4841.665507, [  1.23991600e+09  -3.67913571e+00   3.06496440e+00  -4.16507491e+00\n",
        "   1.07330829e+00]"
       ]
      },
      {
       "output_type": "stream",
       "stream": "stdout",
       "text": [
        "\n",
        "step 950: lp -4841.333061, [  1.23991600e+09  -3.67913571e+00   3.06496440e+00  -4.14614738e+00\n",
        "   1.07330829e+00]"
       ]
      },
      {
       "output_type": "stream",
       "stream": "stdout",
       "text": [
        "\n",
        "step 1000: lp -4841.333061, [  1.23991600e+09  -3.67913571e+00   3.06496440e+00  -4.14614738e+00\n",
        "   1.07330829e+00]"
       ]
      },
      {
       "output_type": "stream",
       "stream": "stdout",
       "text": [
        "\n",
        "step 1050: lp -4841.490016, [  1.23991600e+09  -3.67913571e+00   3.06496440e+00  -4.15656384e+00\n",
        "   1.07330829e+00]"
       ]
      },
      {
       "output_type": "stream",
       "stream": "stdout",
       "text": [
        "\n",
        "step 1100: lp -4841.490016, [  1.23991600e+09  -3.67913571e+00   3.06496440e+00  -4.15656384e+00\n",
        "   1.07330829e+00]"
       ]
      },
      {
       "output_type": "stream",
       "stream": "stdout",
       "text": [
        "\n",
        "step 1150: lp -4842.857313, [  1.23991600e+09  -3.67913571e+00   3.06496440e+00  -4.08244699e+00\n",
        "   1.07330829e+00]"
       ]
      },
      {
       "output_type": "stream",
       "stream": "stdout",
       "text": [
        "\n",
        "step 1200: lp -4837.352435, [  1.23991600e+09  -3.67913571e+00   3.05667622e+00  -4.25987802e+00\n",
        "   1.07330829e+00]"
       ]
      },
      {
       "output_type": "stream",
       "stream": "stdout",
       "text": [
        "\n",
        "step 1250: lp -4838.035270, [  1.23991600e+09  -3.67913571e+00   3.05667622e+00  -4.34844647e+00\n",
        "   1.07330829e+00]"
       ]
      },
      {
       "output_type": "stream",
       "stream": "stdout",
       "text": [
        "\n",
        "step 1300: lp -4838.436251, [  1.23991600e+09  -3.67913571e+00   3.05667622e+00  -4.34844647e+00\n",
        "   1.07330829e+00]"
       ]
      },
      {
       "output_type": "stream",
       "stream": "stdout",
       "text": [
        "\n",
        "step 1350: lp -4837.857289, [  1.23991600e+09  -3.67913571e+00   3.05667622e+00  -4.27615668e+00\n",
        "   1.07129604e+00]"
       ]
      },
      {
       "output_type": "stream",
       "stream": "stdout",
       "text": [
        "\n",
        "step 1400: lp -4836.765710, [  1.23991600e+09  -3.67913571e+00   3.05667622e+00  -4.27615668e+00\n",
        "   1.07129604e+00]"
       ]
      },
      {
       "output_type": "stream",
       "stream": "stdout",
       "text": [
        "\n",
        "step 1450: lp -4835.630217, [  1.23991600e+09  -3.67913571e+00   3.05667622e+00  -4.28282068e+00\n",
        "   1.06779264e+00]"
       ]
      },
      {
       "output_type": "stream",
       "stream": "stdout",
       "text": [
        "\n",
        "step 1500: lp -4835.632624, [  1.23991600e+09  -3.67913571e+00   3.05667622e+00  -4.28203473e+00\n",
        "   1.06779264e+00]"
       ]
      },
      {
       "output_type": "stream",
       "stream": "stdout",
       "text": [
        "\n",
        "step 1550: lp -4836.142009, [  1.23991600e+09  -3.67913571e+00   3.05667622e+00  -4.33532857e+00\n",
        "   1.06779264e+00]"
       ]
      },
      {
       "output_type": "stream",
       "stream": "stdout",
       "text": [
        "\n",
        "step 1600: lp -4835.974733, [  1.23991600e+09  -3.67913571e+00   3.05667622e+00  -4.32492323e+00\n",
        "   1.06779264e+00]"
       ]
      },
      {
       "output_type": "stream",
       "stream": "stdout",
       "text": [
        "\n",
        "step 1650: lp -4835.974733, [  1.23991600e+09  -3.67913571e+00   3.05667622e+00  -4.32492323e+00\n",
        "   1.06779264e+00]"
       ]
      },
      {
       "output_type": "stream",
       "stream": "stdout",
       "text": [
        "\n",
        "step 1700: lp -4836.285484, [  1.23991600e+09  -3.67913571e+00   3.05667622e+00  -4.34255690e+00\n",
        "   1.06779264e+00]"
       ]
      },
      {
       "output_type": "stream",
       "stream": "stdout",
       "text": [
        "\n",
        "step 1750: lp -4836.707641, [  1.23991600e+09  -3.67913571e+00   3.05667622e+00  -4.34705762e+00\n",
        "   1.06779264e+00]"
       ]
      },
      {
       "output_type": "stream",
       "stream": "stdout",
       "text": [
        "\n",
        "step 1800: lp -4836.733180, [  1.23991600e+09  -3.67913571e+00   3.05667622e+00  -4.35069902e+00\n",
        "   1.06779264e+00]"
       ]
      },
      {
       "output_type": "stream",
       "stream": "stdout",
       "text": [
        "\n",
        "step 1850: lp -4836.026981, [  1.23991600e+09  -3.67913571e+00   3.05667622e+00  -4.27935614e+00\n",
        "   1.06779264e+00]"
       ]
      },
      {
       "output_type": "stream",
       "stream": "stdout",
       "text": [
        "\n",
        "step 1900: lp -4835.812281, [  1.23991600e+09  -3.67913571e+00   3.05667622e+00  -4.27935614e+00\n",
        "   1.06779264e+00]"
       ]
      },
      {
       "output_type": "stream",
       "stream": "stdout",
       "text": [
        "\n",
        "step 1950: lp -4836.380896, [  1.23991600e+09  -3.67913571e+00   3.05667622e+00  -4.29877869e+00\n",
        "   1.06779264e+00]"
       ]
      },
      {
       "output_type": "stream",
       "stream": "stdout",
       "text": [
        "\n",
        "new"
       ]
      },
      {
       "output_type": "stream",
       "stream": "stdout",
       "text": [
        " n_uatemplate: -202.7\n",
        "n_event: -3.8\n",
        "ev priors: ev 0.0\n",
        "tt_residual: ev 0.0\n",
        "ev global cost (n + priors + tt): -3.8\n",
        "coda_decay: ev 0.0 ua -38.9 total -38.9\n",
        "peak_decay: ev 0.0 ua -53.9 total -53.9\n",
        "peak_offset: ev 0.0 ua -61.0 total -61.0\n",
        "coda_height: ev 0.0 ua -51.6 total -51.6\n",
        "wiggles: ev 0.0 ua 0.0 total 0.0\n",
        "total param: ev 0.0 ua -205.5 total -205.5\n",
        "non signals: ev -3.8 ua -408.2 total -412.0\n",
        "signals: -4418.7\n",
        "overall: -4830.7\n",
        "official: -4830.7\n",
        "None\n",
        "{'coda_height': 3.0649275909165969, 'arrival_time': 1239915998.7379761, 'coda_decay': -3.6942654305239317, 'peak_decay': -3.4159539807347468, 'peak_offset': 1.7616869975895972}\n",
        "[('arrival_time', 1239915998.7379761), ('coda_decay', -3.6942654305239317), ('coda_height', 3.0649275909165969), ('peak_decay', -3.4159539807347468), ('peak_offset', 1.7616869975895972)]\n",
        "[('arrival_time', 1239915999.9969871), ('coda_decay', -3.6742381123476808), ('coda_height', 3.0576930010418977), ('peak_decay', -4.3519573905095701), ('peak_offset', 1.0480050641899268)]\n",
        "-4830.72167611 -5189.16075118 -5020.67363647 -72.0296893858 16.9977096897\n",
        "269.41167599\n",
        "plotting uatemplate -18 as color (0.0, 0.096078431372549025, 1.0, 1.0)\n",
        "plotting uatemplate -8 as color (0.0, 0.0, 0.80303030303030298, 1.0)\n",
        "plotting uatemplate -11 as color (0.0, 0.0, 0.82085561497326198, 1.0)\n",
        "plotting uatemplate -21 as color (0.16129032258064513, 1.0, 0.80645161290322587, 1.0)\n",
        "plotting uatemplate -14 as color (0.0, 0.0, 1.0, 1.0)\n",
        "plotting uatemplate -24 as color (0.0, 0.56666666666666665, 1.0, 1.0)\n",
        "plotting uatemplate -7 as color (0.0, 0.73921568627450984, 1.0, 1.0)\n",
        "plotting uatemplate -4 as color (0.085388994307400365, 1.0, 0.88235294117647056, 1.0)\n",
        "plotting uatemplate -17 as color (0.0, 0.0, 0.535650623885918, 1.0)\n",
        "plotting uatemplate -20 as color (0.0, 0.64509803921568631, 1.0, 1.0)\n",
        "plotting uatemplate -13 as color (0.35104364326375709, 1.0, 0.61669829222011385, 1.0)\n",
        "plotting uatemplate -26 as color (0.0, 0.0, 0.80303030303030298, 1.0)\n",
        "plotting uatemplate -6 as color (0.0, 0.36274509803921567, 1.0, 1.0)\n",
        "plotting uatemplate -16 as color (0.3257432005060088, 1.0, 0.6419987349778622, 1.0)\n",
        "plotting uatemplate -19 as color (0.0, 0.1588235294117647, 1.0, 1.0)\n",
        "plotting uatemplate -22 as color (0.30044275774826057, 1.0, 0.66729917773561032, 1.0)\n",
        "plotting uatemplate -15 as color (0.0, 0.033333333333333333, 1.0, 1.0)\n",
        "plotting uatemplate -9 as color (0.0, 0.88039215686274508, 0.98355471220746371, 1.0)\n",
        "plotting uatemplate -1 as color (0.42694497153700184, 1.0, 0.54079696394686905, 1.0)\n",
        "plotting uatemplate -12 as color (0.22454142947501579, 1.0, 0.74320050600885512, 1.0)\n",
        "plotting uatemplate -25 as color (0.0, 0.84901960784313724, 1.0, 1.0)\n",
        "plotting uatemplate -5 as color (0.11068943706514844, 1.0, 0.85705249841872255, 1.0)\n",
        "reading station detections... \n"
       ]
      },
      {
       "metadata": {},
       "output_type": "display_data",
       "png": "[encoded data removed]",
       "text": [
        "<matplotlib.figure.Figure at 0x5e4e990>"
       ]
      }
     ],
     "prompt_number": 10
    },
    {
     "cell_type": "code",
     "collapsed": false,
     "input": [
      "sg.current_log_p_breakdown()"
     ],
     "language": "python",
     "metadata": {},
     "outputs": [
      {
       "output_type": "stream",
       "stream": "stdout",
       "text": [
        "n_uatemplate: -202.7\n",
        "n_event: -3.8\n",
        "ev priors: ev 0.0\n",
        "tt_residual: ev 0.0\n",
        "ev global cost (n + priors + tt): -3.8\n",
        "coda_decay: ev 0.0 ua -38.9 total -38.9\n",
        "peak_decay: ev 0.0 ua -50.3 total -50.3\n",
        "peak_offset: ev 0.0 ua -61.7 total -61.7\n",
        "coda_height: ev 0.0 ua -51.7 total -51.7\n",
        "wiggles: ev 0.0 ua 0.0 total 0.0\n",
        "total param: ev 0.0 ua -202.6 total -202.6\n",
        "non signals: ev -3.8 ua -405.3 total -409.1\n",
        "signals: -4759.5\n",
        "overall: -5168.7\n",
        "official: -5193.6\n"
       ]
      }
     ],
     "prompt_number": 15
    },
    {
     "cell_type": "code",
     "collapsed": false,
     "input": [],
     "language": "python",
     "metadata": {},
     "outputs": []
    },
    {
     "cell_type": "code",
     "collapsed": false,
     "input": [
      "do_plot(wn)"
     ],
     "language": "python",
     "metadata": {},
     "outputs": [
      {
       "output_type": "stream",
       "stream": "stdout",
       "text": [
        "plotting uatemplate -18 as color (0.098039215686274495, 1.0, 0.8697027197975965, 1.0)\n",
        "plotting uatemplate -8 as color (0.0, 0.53529411764705859, 1.0, 1.0)\n",
        "plotting uatemplate -11 as color (0.0, 0.0, 0.5, 1.0)\n",
        "plotting uatemplate -21 as color (0.0, 0.049019607843137254, 1.0, 1.0)\n",
        "plotting uatemplate -14 as color (0.0, 0.56666666666666665, 1.0, 1.0)\n",
        "plotting uatemplate -24 as color (0.11068943706514844, 1.0, 0.85705249841872255, 1.0)\n",
        "plotting uatemplate -7 as color (0.0, 0.0, 0.60695187165775399, 1.0)\n",
        "plotting uatemplate -4 as color (0.0, 0.59803921568627449, 1.0, 1.0)\n",
        "plotting uatemplate -17 as color (0.16129032258064513, 1.0, 0.80645161290322587, 1.0)\n",
        "plotting uatemplate -20 as color (0.0, 0.80196078431372553, 1.0, 1.0)\n",
        "plotting uatemplate -3 as color (0.37634408602150532, 1.0, 0.59139784946236562, 1.0)\n",
        "plotting uatemplate -13 as color (0.0, 0.0, 0.66042780748663099, 1.0)\n",
        "plotting uatemplate -26 as color (0.0, 0.049019607843137254, 1.0, 1.0)\n",
        "plotting uatemplate -6 as color (0.35104364326375709, 1.0, 0.61669829222011385, 1.0)\n",
        "plotting uatemplate -16 as color (0.098039215686274495, 1.0, 0.8697027197975965, 1.0)\n",
        "plotting uatemplate -19 as color (0.0, 0.69215686274509802, 1.0, 1.0)\n",
        "plotting uatemplate -22 as color (0.21189120809614148, 1.0, 0.75585072738772952, 1.0)\n",
        "plotting uatemplate -15 as color (0.31309297912713452, 1.0, 0.65464895635673637, 1.0)\n",
        "plotting uatemplate -9 as color (0.43959519291587595, 1.0, 0.52814674256799488, 1.0)\n",
        "plotting uatemplate -1 as color (0.47754585705249836, 1.0, 0.49019607843137258, 1.0)\n",
        "plotting uatemplate -12 as color (0.0, 0.0, 0.80303030303030298, 1.0)\n",
        "plotting uatemplate -25 as color (0.0, 0.0, 0.66042780748663099, 1.0)\n",
        "plotting uatemplate -5 as color (0.0, 0.0, 0.66042780748663099, 1.0)\n",
        "reading station detections... \n"
       ]
      },
      {
       "metadata": {},
       "output_type": "display_data",
       "png": "[encoded data removed]",
       "text": [
        "<matplotlib.figure.Figure at 0x45ad550>"
       ]
      }
     ],
     "prompt_number": 16
    },
    {
     "cell_type": "code",
     "collapsed": false,
     "input": [
      "from sigvisa.infer.template_mcmc import *\n",
      "import scipy.stats\n",
      "\n",
      "\n",
      "\n",
      "def optimize_merge_move_laplace(sg, wn, arr1, arr2):\n",
      "    \n",
      "    lp_old = sg.current_log_p()\n",
      "    print \"old\", sg.current_log_p_breakdown()\n",
      "    orig_topo_sorted = copy.copy(sg._topo_sorted_list)\n",
      "    \n",
      "    \n",
      "    lp1, lp2 = get_split_probs(sg, wn, arr1, arr2)\n",
      "    log_qbackward = lp1+lp2\n",
      "    \n",
      "    tmnodes, lost_nodes = optimize_merge(sg, wn, arr1, arr2)\n",
      "    keep_vals = dict([(p, n.get_value(k)) for (p, (k, n)) in tmnodes.items()])\n",
      "    \n",
      "    sorted_params = ['arrival_time', 'coda_decay', 'coda_height', 'peak_decay', 'peak_offset']\n",
      "    optimized_vals = np.array([tmnodes[p][1].get_value(tmnodes[p][0]) for p in sorted_params])\n",
      "    \n",
      "    lp_opt = sg.current_log_p()\n",
      "    \n",
      "    #sp, vals = single_template_MH(sg, wn, tmnodes, phase=\"UA\", steps=2000)\n",
      "    #Q = np.cov(vals[200:,:].T)\n",
      "    #m = np.mean(vals[200:,:], axis=0)\n",
      "    \n",
      "    #\n",
      "    \n",
      "    node_list = [tmnodes[p][1] for p in sorted_params]\n",
      "    optimized_vals = np.array([tmnodes[p][1].get_value(tmnodes[p][0]) for p in sorted_params])\n",
      "    relevant_nodes = node_list + [wn,]\n",
      "    lb = lambda v : sg.joint_logprob(v, node_list, relevant_nodes, c=-1)    \n",
      "    \n",
      "    import numdifftools as nd\n",
      "    H = nd.Hessian(lb, step_nom=[1.0, 1.0, 1.0, 1.0, 1.0]) \n",
      "    e_val, e_vec = np.linalg.eig(H.hessian(optimized_vals))\n",
      "    C = np.dot(e_vec, np.dot(np.diag(np.abs(1.0/e_val)), e_vec.T))\n",
      "\n",
      "    proposal = scipy.stats.multivariate_normal(mean=optimized_vals, cov=C)\n",
      "    \n",
      "    proposed_vals = proposal.rvs()\n",
      "    log_qforward = proposal.logpdf(proposed_vals)\n",
      "    \n",
      "    for (p, v) in zip(sorted_params, proposed_vals):\n",
      "        k, n = tmnodes[p]\n",
      "        n.set_value(v, k)\n",
      "\n",
      "    print \"new\", sg.current_log_p_breakdown()\n",
      "    lp_new = sg.current_log_p()\n",
      "        \n",
      "    # \n",
      "    k,n = tmnodes['arrival_time']\n",
      "    merged_atime = n.get_value(key=k)\n",
      "    sorted_arrs = get_sorted_arrivals(wn)\n",
      "    idx = get_atime_index(sorted_arrs, merged_atime)\n",
      "    atime_window_start, atime_window_len = atime_window(wn, sorted_arrs, idx)\n",
      "\n",
      "    # split move has to choose which arrival to split, and the arrival time for the two split arrivals\n",
      "    log_qbackward -= 2*np.log(atime_window_len) # + np.log(n_arrs-1)\n",
      "    \n",
      "    print keep_vals\n",
      "    print zip(sorted_params, optimized_vals)\n",
      "    print zip(sorted_params, proposed_vals)\n",
      "    \n",
      "    \n",
      "    print lp_new, lp_old, lp_opt, log_qbackward, log_qforward\n",
      "    print (lp_new + log_qbackward) - (lp_old + log_qforward)\n",
      "    \n",
      "    do_plot(wn)\n",
      "    \n",
      "    #undo the move\n",
      "    \n",
      "    \n",
      "optimize_merge_move_laplace(sg, wn, (-1, \"UA\"), (-3, \"UA\"))"
     ],
     "language": "python",
     "metadata": {},
     "outputs": [
      {
       "output_type": "stream",
       "stream": "stdout",
       "text": [
        "old n_uatemplate: -211.9\n",
        "n_event: -3.8\n",
        "ev priors: ev 0.0\n",
        "tt_residual: ev 0.0\n",
        "ev global cost (n + priors + tt): -3.8\n",
        "coda_decay: ev 0.0 ua -41.5 total -41.5\n",
        "peak_decay: ev 0.0 ua -48.1 total -48.1\n",
        "peak_offset: ev 0.0 ua -63.5 total -63.5\n",
        "coda_height: ev 0.0 ua -74.1 total -74.1\n",
        "wiggles: ev 0.0 ua 0.0 total 0.0\n",
        "total param: ev 0.0 ua -227.1 total -227.1\n",
        "non signals: ev -3.8 ua -439.0 total -442.8\n",
        "signals: -4746.3\n",
        "overall: -5189.2\n",
        "official: -5189.2\n",
        "None\n",
        "-39.0936268291 -24.9162383669\n",
        "[array([ 0.03096545, -0.80063126, -0.04723939,  0.26282034,  0.34903342])]\n",
        "{'warnflag': 2, 'task': 'ABNORMAL_TERMINATION_IN_LNSRCH', 'grad': array([ -1059.89794408,  17202.09873863,    667.53953399,   1769.84685016,\n",
        "          603.85313876]), 'nit': 16, 'funcalls': 102}"
       ]
      },
      {
       "output_type": "stream",
       "stream": "stdout",
       "text": [
        "\n",
        "{'warnflag': 0, 'task': 'CONVERGENCE: REL_REDUCTION_OF_F_<=_FACTR*EPSMCH', 'grad': array([  1560.77091249,  21590.49498959,   1402.55760184,    357.31376628,\n",
        "          781.65364373]), 'nit': 38, 'funcalls': 185}"
       ]
      },
      {
       "output_type": "stream",
       "stream": "stdout",
       "text": [
        "\n",
        "{'warnflag': 2, 'task': 'ABNORMAL_TERMINATION_IN_LNSRCH', 'grad': array([ 1346.2569741 ,  3633.29109958,   518.7642774 ,   428.71854261,\n",
        "          -9.16285627]), 'nit': 7, 'funcalls': 77}"
       ]
      },
      {
       "output_type": "stream",
       "stream": "stdout",
       "text": [
        "\n",
        "{'warnflag': 2, 'task': 'ABNORMAL_TERMINATION_IN_LNSRCH', 'grad': array([  840.82803697,  5557.33321817,   727.89565774,   429.70422218,\n",
        "         -27.46807958]), 'nit': 5, 'funcalls': 105}"
       ]
      },
      {
       "output_type": "stream",
       "stream": "stdout",
       "text": [
        "\n",
        "{'warnflag': 2, 'task': 'ABNORMAL_TERMINATION_IN_LNSRCH', 'grad': array([ 1084.95153483,  4669.41278154,  1112.75838834,   420.71034147,\n",
        "         -45.02387342]), 'nit': 3, 'funcalls': 59}"
       ]
      },
      {
       "output_type": "stream",
       "stream": "stdout",
       "text": [
        "\n",
        "got optimized x"
       ]
      },
      {
       "output_type": "stream",
       "stream": "stdout",
       "text": [
        " [  3.06269273e+00   1.23991600e+09  -3.68929296e+00  -3.51264547e+00\n",
        "   1.81212546e+00]\n",
        "new"
       ]
      },
      {
       "output_type": "stream",
       "stream": "stdout",
       "text": [
        " n_uatemplate: -202.7\n",
        "n_event: -3.8\n",
        "ev priors: ev 0.0\n",
        "tt_residual: ev 0.0\n",
        "ev global cost (n + priors + tt): -3.8\n",
        "coda_decay: ev 0.0 ua -38.9 total -38.9\n",
        "peak_decay: ev 0.0 ua -50.4 total -50.4\n",
        "peak_offset: ev 0.0 ua -61.6 total -61.6\n",
        "coda_height: ev 0.0 ua -52.5 total -52.5\n",
        "wiggles: ev 0.0 ua 0.0 total 0.0\n",
        "total param: ev 0.0 ua -203.4 total -203.4\n",
        "non signals: ev -3.8 ua -406.1 total -409.9\n",
        "signals: -4774.6\n",
        "overall: -5184.5\n",
        "official: -5184.5\n",
        "None\n",
        "{'coda_height': 3.0626927260418779, 'arrival_time': 1239915998.4521883, 'coda_decay': -3.6892929583648497, 'peak_decay': -3.5126454730700098, 'peak_offset': 1.8121254557467179}\n",
        "[('arrival_time', 1239915998.4521883), ('coda_decay', -3.6892929583648497), ('coda_height', 3.0626927260418779), ('peak_decay', -3.5126454730700098), ('peak_offset', 1.8121254557467179)]\n",
        "[('arrival_time', 1239915998.8601654), ('coda_decay', -3.6904958611590057), ('coda_height', 3.1161538329773131), ('peak_decay', -3.4408847148271247), ('peak_offset', 1.6673747873987033)]\n",
        "-5184.50053493 -5189.16075118 -5035.42837562 -72.0296893858 5.51674939701\n",
        "-72.8862225348\n",
        "plotting uatemplate -18 as color (0.0, 0.72352941176470587, 1.0, 1.0)\n",
        "plotting uatemplate -8 as color (0.0, 0.84901960784313724, 1.0, 1.0)\n",
        "plotting uatemplate -11 as color (0.0, 0.0, 0.517825311942959, 1.0)\n",
        "plotting uatemplate -21 as color (0.0, 0.84901960784313724, 1.0, 1.0)\n",
        "plotting uatemplate -14 as color (0.0, 0.50392156862745097, 1.0, 1.0)\n",
        "plotting uatemplate -24 as color (0.0, 0.0, 1.0, 1.0)\n",
        "plotting uatemplate -7 as color (0.0, 0.0, 0.89215686274509798, 1.0)\n",
        "plotting uatemplate -4 as color (0.0, 0.0, 0.90998217468805698, 1.0)\n",
        "plotting uatemplate -17 as color (0.23719165085388991, 1.0, 0.73055028462998106, 1.0)\n",
        "plotting uatemplate -20 as color (0.45224541429475007, 1.0, 0.51549652118912082, 1.0)\n",
        "plotting uatemplate -13 as color (0.33839342188488292, 1.0, 0.62934851359898802, 1.0)\n",
        "plotting uatemplate -26 as color (0.0, 0.19019607843137254, 1.0, 1.0)\n",
        "plotting uatemplate -6 as color (0.12333965844402275, 1.0, 0.84440227703984827, 1.0)\n",
        "plotting uatemplate -16 as color (0.0, 0.58235294117647063, 1.0, 1.0)\n",
        "plotting uatemplate -19 as color (0.18659076533839339, 1.0, 0.78115117014547764, 1.0)\n",
        "plotting uatemplate -22 as color (0.0, 0.45686274509803909, 1.0, 1.0)\n",
        "plotting uatemplate -15 as color (0.0, 0.67647058823529416, 1.0, 1.0)\n",
        "plotting uatemplate -9 as color (0.13598987982289687, 1.0, 0.8317520556609741, 1.0)\n",
        "plotting uatemplate -1 as color (0.0, 0.0, 0.71390374331550799, 1.0)\n",
        "plotting uatemplate -12 as color (0.0, 0.56666666666666665, 1.0, 1.0)\n",
        "plotting uatemplate -25 as color (0.0, 0.22156862745098038, 1.0, 1.0)\n",
        "plotting uatemplate -5 as color (0.0, 0.707843137254902, 1.0, 1.0)\n",
        "reading station detections... \n"
       ]
      },
      {
       "metadata": {},
       "output_type": "display_data",
       "png": "[encoded data removed]",
       "text": [
        "<matplotlib.figure.Figure at 0x50ec2d0>"
       ]
      }
     ],
     "prompt_number": 9
    },
    {
     "cell_type": "code",
     "collapsed": false,
     "input": [],
     "language": "python",
     "metadata": {},
     "outputs": []
    }
   ],
   "metadata": {}
  }
 ]
}