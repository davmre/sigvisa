{
 "metadata": {
  "name": "sigvisa param model comparison"
 },
 "nbformat": 3,
 "nbformat_minor": 0,
 "worksheets": [
  {
   "cells": [
    {
     "cell_type": "code",
     "collapsed": false,
     "input": [
      "\"\"\"\n",
      "for each of the four params, we want to compare\n",
      "    - likelihood (MSLL)\n",
      "    - prediction error (SMSE)\n",
      "on the validation data, for each type of model:\n",
      "    - param, trained locally\n",
      "    - param, trained globally\n",
      "    - gp+param, trained locally\n",
      "    - gp+param, trained globally\n",
      "\n",
      "it'd also be nice to plot the parametric models, and the GP heatmaps. \n",
      "also the distribution of lengthscales for each param.\n",
      "\n",
      "okay, problem 1: I don't have a way of separately storing locally-trained models from globally-trained models.\n",
      "and right now I have a bunch of globally-trained models I don't want to delete. \n",
      "\n",
      "for the param models, I could do the local training on the fly. but I really want a way of keeping them in the DB.\n",
      "the *obvious* right thing to do is add an additional field in the DB for model-training iterations. then just set all existing models to 5 (or whatever), \n",
      "and train new models with enable_dupes. \n",
      "but the DB *really* doesn't want to add a new field. why the fuck not?\n",
      "\n",
      "\"\"\"\n",
      "\n",
      "from sigvisa import Sigvisa\n",
      "from sigvisa.models.distributions import Gaussian\n",
      "from sigvisa.learn.train_coda_models import get_shape_training_data, NoDataException\n",
      "from sigvisa.learn.train_param_common import load_modelid\n",
      "\n",
      "def get_model(cursor, model_type, sta, phase, runid, target, shrinkage_iter=0):\n",
      "    sql_query = \"select modelid, chan from sigvisa_param_model where model_type = '%s' and site='%s' and phase='%s' and fitting_runid=%d and param='%s' and shrinkage_iter=%d\" % (model_type, sta, phase, runid, target, shrinkage_iter)\n",
      "    cursor.execute(sql_query)\n",
      "    results = cursor.fetchall()[0]\n",
      "    modelid = results[0]\n",
      "    chan = results[1]\n",
      "    model = load_modelid(modelid, gpmodel_build_trees=False)\n",
      "    return model, chan\n",
      "\n",
      "def model_validation_performance_sta(cursor, sta, target, model_type, X, y, shrinkage_iter=0, runid=20, validation_runid=21, band=\"freq_2.0_3.0\", phase='P'):\n",
      "    model, chan = get_model(cursor, model_type, sta, phase, runid, target, shrinkage_iter)\n",
      "    \n",
      "    X = np.array(X, copy=True, order='C', dtype=float)\n",
      "    model_pred = model.predict(X)\n",
      "    model_lps = []\n",
      "    for i in range(X.shape[0]):\n",
      "        model_lps.append(model.log_p(x=y[i], cond=X[i:i+1,:]))\n",
      "    lp_indep = np.sum(model_lps)\n",
      "    r = model_pred - y\n",
      "    try:\n",
      "        lp = model.log_p(x=y, cond=X)\n",
      "    except Exception as e:\n",
      "        print e\n",
      "        print model.covariance(cond=X, include_obs=False)\n",
      "        print model.cov_main\n",
      "        print model.noise_var\n",
      "        raise\n",
      "    meanTest = np.mean(y)\n",
      "    varTest = np.var(y)\n",
      "    stdTest = np.std(y)\n",
      "    #baseline_model = Gaussian(mean=meanTest, std=stdTest)\n",
      "    #baseline_lps = np.array([baseline_model.log_p(x=yy) for yy in y])\n",
      "\n",
      "    se = np.sum(r **2)\n",
      "\n",
      "    #msll = np.mean(model_lps - baseline_lps)\n",
      "\n",
      "    return lp, lp_indep, se\n",
      "\n",
      "def model_validation_performance_all(cursor, target, model_type, runid=20, validation_runid=21):\n",
      "    sql_query = \"select site from sigvisa_param_model where param='%s' and model_type='%s' and fitting_runid=%d\" % (target, 'param_' + model_type, runid)\n",
      "    cursor.execute(sql_query)\n",
      "    sites = set([r[0] for r in cursor.fetchall()])\n",
      "    lps = dict()\n",
      "    lps_indep = dict()\n",
      "    ses = dict()\n",
      "    for site in sites:\n",
      "        print site\n",
      "        chan = s.default_vertical_channel[site]\n",
      "        try:\n",
      "            X,y,evids = get_shape_training_data(runid=validation_runid, site=site, target=target, chan=chan, band='freq_2.0_3.0', phases=['P', ])\n",
      "        except Exception as e:\n",
      "            print e\n",
      "            continue\n",
      "        for model_prefix in ('gplocal+lld+', 'param_'):\n",
      "            model_type_full = model_prefix + model_type\n",
      "            for shrinkage_iter in range(5):\n",
      "                k = (site, model_type_full, shrinkage_iter)\n",
      "                lps[k], lps_indep[k], ses[k] = model_validation_performance_sta(cursor, site, target, model_type_full, X, y, shrinkage_iter=shrinkage_iter, runid=runid, validation_runid=validation_runid)\n",
      "\n",
      "    return lps, lps_indep, ses\n",
      "    \n",
      "\n",
      "s = Sigvisa()\n",
      "cursor = s.dbconn.cursor()\n",
      "\n",
      "\n",
      "lps_at, lps_indep_at, ses_at = model_validation_performance_all(cursor, 'amp_transfer', 'sin1')\n",
      "\n",
      "\n",
      "lps_cd, lps_indep_cd, ses_cd = model_validation_performance_all(cursor, 'coda_decay', 'linear_distmb')\n",
      "lps_po, lps_indep_po, ses_po = model_validation_performance_all(cursor, 'peak_offset', 'linear_mb')"
     ],
     "language": "python",
     "metadata": {},
     "outputs": [
      {
       "output_type": "stream",
       "stream": "stdout",
       "text": [
        "TGY\n",
        "loading ['P'] fit data...  5 entries loaded\n",
        "CM16"
       ]
      },
      {
       "output_type": "stream",
       "stream": "stdout",
       "text": [
        "\n",
        "loading ['P'] fit data...  54 entries loaded\n",
        "BDFB"
       ]
      },
      {
       "output_type": "stream",
       "stream": "stdout",
       "text": [
        "\n",
        "loading ['P'] fit data...  2 entries loaded\n",
        "DAVOX\n",
        "loading ['P'] fit data...  15 entries loaded\n",
        "\n",
        "DZM\n",
        "loading ['P'] fit data...  8 entries loaded\n",
        "BORG"
       ]
      },
      {
       "output_type": "stream",
       "stream": "stdout",
       "text": [
        "\n",
        "loading ['P'] fit data...  select distinct lebo.evid, lebo.mb, lebo.lon, lebo.lat, lebo.depth, fp.phase, fit.sta, fit.dist, fit.azi, fit.band, fp.arrival_time, fp.peak_offset, fp.coda_height, fp.coda_decay, fp.amp_transfer from  leb_origin lebo, sigvisa_coda_fit_phase fp, sigvisa_coda_fit fit where fp.fitid = fit.fitid and fp.coda_height > -10.000000 and fit.chan='BHZ' and fit.band='freq_2.0_3.0' and fit.sta='BORG' and (fit.runid = 21) and (fp.phase = 'P')  and fit.azi between 0.000000 and 360.000000 and fit.evid=lebo.evid and lebo.mb between 0.000000 and 100.000000 and fit.dist between 0.000000 and 20000.000000  and fit.acost<200.000000\n",
        "sql done\n",
        "(0,)\n",
        "found no shape data matching query select distinct lebo.evid, lebo.mb, lebo.lon, lebo.lat, lebo.depth, fp.phase, fit.sta, fit.dist, fit.azi, fit.band, fp.arrival_time, fp.peak_offset, fp.coda_height, fp.coda_decay, fp.amp_transfer from  leb_origin lebo, sigvisa_coda_fit_phase fp, sigvisa_coda_fit fit where fp.fitid = fit.fitid and fp.coda_height > -10.000000 and fit.chan='BHZ' and fit.band='freq_2.0_3.0' and fit.sta='BORG' and (fit.runid = 21) and (fp.phase = 'P')  and fit.azi between 0.000000 and 360.000000 and fit.evid=lebo.evid and lebo.mb between 0.000000 and 100.000000 and fit.dist between 0.000000 and 20000.000000  and fit.acost<200.000000\n",
        "SIV\n",
        "loading ['P'] fit data...  11 entries loaded\n",
        "STKA"
       ]
      },
      {
       "output_type": "stream",
       "stream": "stdout",
       "text": [
        "\n",
        "loading ['P'] fit data...  22 entries loaded\n",
        "VNDA"
       ]
      },
      {
       "output_type": "stream",
       "stream": "stdout",
       "text": [
        "\n",
        "loading ['P'] fit data...  5 entries loaded\n",
        "PMSA"
       ]
      },
      {
       "output_type": "stream",
       "stream": "stdout",
       "text": [
        "\n",
        "loading ['P'] fit data...  15 entries loaded\n",
        "\n",
        "NNA\n",
        "loading ['P'] fit data...  15 entries loaded\n",
        "\n",
        "RAR\n",
        "loading ['P'] fit data...  15 entries loaded\n",
        "\n",
        "AS12\n",
        "loading ['P'] fit data...  47 entries loaded\n",
        "LPAZ"
       ]
      },
      {
       "output_type": "stream",
       "stream": "stdout",
       "text": [
        "\n",
        "loading ['P'] fit data...  6 entries loaded\n",
        "SONA0"
       ]
      },
      {
       "output_type": "stream",
       "stream": "stdout",
       "text": [
        "\n",
        "loading ['P'] fit data...  4 entries loaded\n",
        "ATAH"
       ]
      },
      {
       "output_type": "stream",
       "stream": "stdout",
       "text": [
        "\n",
        "loading ['P'] fit data...  select distinct lebo.evid, lebo.mb, lebo.lon, lebo.lat, lebo.depth, fp.phase, fit.sta, fit.dist, fit.azi, fit.band, fp.arrival_time, fp.peak_offset, fp.coda_height, fp.coda_decay, fp.amp_transfer from  leb_origin lebo, sigvisa_coda_fit_phase fp, sigvisa_coda_fit fit where fp.fitid = fit.fitid and fp.coda_height > -10.000000 and fit.chan='BHZ' and fit.band='freq_2.0_3.0' and fit.sta='ATAH' and (fit.runid = 21) and (fp.phase = 'P')  and fit.azi between 0.000000 and 360.000000 and fit.evid=lebo.evid and lebo.mb between 0.000000 and 100.000000 and fit.dist between 0.000000 and 20000.000000  and fit.acost<200.000000\n",
        "sql done\n",
        "(0,)\n",
        "found no shape data matching query select distinct lebo.evid, lebo.mb, lebo.lon, lebo.lat, lebo.depth, fp.phase, fit.sta, fit.dist, fit.azi, fit.band, fp.arrival_time, fp.peak_offset, fp.coda_height, fp.coda_decay, fp.amp_transfer from  leb_origin lebo, sigvisa_coda_fit_phase fp, sigvisa_coda_fit fit where fp.fitid = fit.fitid and fp.coda_height > -10.000000 and fit.chan='BHZ' and fit.band='freq_2.0_3.0' and fit.sta='ATAH' and (fit.runid = 21) and (fp.phase = 'P')  and fit.azi between 0.000000 and 360.000000 and fit.evid=lebo.evid and lebo.mb between 0.000000 and 100.000000 and fit.dist between 0.000000 and 20000.000000  and fit.acost<200.000000\n",
        "RCBR\n",
        "loading ['P'] fit data...  select distinct lebo.evid, lebo.mb, lebo.lon, lebo.lat, lebo.depth, fp.phase, fit.sta, fit.dist, fit.azi, fit.band, fp.arrival_time, fp.peak_offset, fp.coda_height, fp.coda_decay, fp.amp_transfer from  leb_origin lebo, sigvisa_coda_fit_phase fp, sigvisa_coda_fit fit where fp.fitid = fit.fitid and fp.coda_height > -10.000000 and fit.chan='BHZ' and fit.band='freq_2.0_3.0' and fit.sta='RCBR' and (fit.runid = 21) and (fp.phase = 'P')  and fit.azi between 0.000000 and 360.000000 and fit.evid=lebo.evid and lebo.mb between 0.000000 and 100.000000 and fit.dist between 0.000000 and 20000.000000  and fit.acost<200.000000\n",
        "sql done\n",
        "(0,)\n",
        "found no shape data matching query select distinct lebo.evid, lebo.mb, lebo.lon, lebo.lat, lebo.depth, fp.phase, fit.sta, fit.dist, fit.azi, fit.band, fp.arrival_time, fp.peak_offset, fp.coda_height, fp.coda_decay, fp.amp_transfer from  leb_origin lebo, sigvisa_coda_fit_phase fp, sigvisa_coda_fit fit where fp.fitid = fit.fitid and fp.coda_height > -10.000000 and fit.chan='BHZ' and fit.band='freq_2.0_3.0' and fit.sta='RCBR' and (fit.runid = 21) and (fp.phase = 'P')  and fit.azi between 0.000000 and 360.000000 and fit.evid=lebo.evid and lebo.mb between 0.000000 and 100.000000 and fit.dist between 0.000000 and 20000.000000  and fit.acost<200.000000\n",
        "FITZ\n",
        "loading ['P'] fit data...  22 entries loaded\n",
        "JMIC"
       ]
      },
      {
       "output_type": "stream",
       "stream": "stdout",
       "text": [
        "\n",
        "loading ['P'] fit data...  select distinct lebo.evid, lebo.mb, lebo.lon, lebo.lat, lebo.depth, fp.phase, fit.sta, fit.dist, fit.azi, fit.band, fp.arrival_time, fp.peak_offset, fp.coda_height, fp.coda_decay, fp.amp_transfer from  leb_origin lebo, sigvisa_coda_fit_phase fp, sigvisa_coda_fit fit where fp.fitid = fit.fitid and fp.coda_height > -10.000000 and fit.chan='BHZ' and fit.band='freq_2.0_3.0' and fit.sta='JMIC' and (fit.runid = 21) and (fp.phase = 'P')  and fit.azi between 0.000000 and 360.000000 and fit.evid=lebo.evid and lebo.mb between 0.000000 and 100.000000 and fit.dist between 0.000000 and 20000.000000  and fit.acost<200.000000\n",
        "sql done\n",
        "(0,)\n",
        "found no shape data matching query select distinct lebo.evid, lebo.mb, lebo.lon, lebo.lat, lebo.depth, fp.phase, fit.sta, fit.dist, fit.azi, fit.band, fp.arrival_time, fp.peak_offset, fp.coda_height, fp.coda_decay, fp.amp_transfer from  leb_origin lebo, sigvisa_coda_fit_phase fp, sigvisa_coda_fit fit where fp.fitid = fit.fitid and fp.coda_height > -10.000000 and fit.chan='BHZ' and fit.band='freq_2.0_3.0' and fit.sta='JMIC' and (fit.runid = 21) and (fp.phase = 'P')  and fit.azi between 0.000000 and 360.000000 and fit.evid=lebo.evid and lebo.mb between 0.000000 and 100.000000 and fit.dist between 0.000000 and 20000.000000  and fit.acost<200.000000\n",
        "BOSA\n",
        "loading ['P'] fit data...  select distinct lebo.evid, lebo.mb, lebo.lon, lebo.lat, lebo.depth, fp.phase, fit.sta, fit.dist, fit.azi, fit.band, fp.arrival_time, fp.peak_offset, fp.coda_height, fp.coda_decay, fp.amp_transfer from  leb_origin lebo, sigvisa_coda_fit_phase fp, sigvisa_coda_fit fit where fp.fitid = fit.fitid and fp.coda_height > -10.000000 and fit.chan='BHZ' and fit.band='freq_2.0_3.0' and fit.sta='BOSA' and (fit.runid = 21) and (fp.phase = 'P')  and fit.azi between 0.000000 and 360.000000 and fit.evid=lebo.evid and lebo.mb between 0.000000 and 100.000000 and fit.dist between 0.000000 and 20000.000000  and fit.acost<200.000000\n",
        "sql done\n",
        "(0,)\n",
        "found no shape data matching query select distinct lebo.evid, lebo.mb, lebo.lon, lebo.lat, lebo.depth, fp.phase, fit.sta, fit.dist, fit.azi, fit.band, fp.arrival_time, fp.peak_offset, fp.coda_height, fp.coda_decay, fp.amp_transfer from  leb_origin lebo, sigvisa_coda_fit_phase fp, sigvisa_coda_fit fit where fp.fitid = fit.fitid and fp.coda_height > -10.000000 and fit.chan='BHZ' and fit.band='freq_2.0_3.0' and fit.sta='BOSA' and (fit.runid = 21) and (fp.phase = 'P')  and fit.azi between 0.000000 and 360.000000 and fit.evid=lebo.evid and lebo.mb between 0.000000 and 100.000000 and fit.dist between 0.000000 and 20000.000000  and fit.acost<200.000000\n",
        "URZ\n",
        "loading ['P'] fit data...  6 entries loaded\n",
        "BBTS\n",
        "loading ['P'] fit data...  15 entries loaded\n",
        "\n",
        "PLCA\n",
        "loading ['P'] fit data...  2 entries loaded\n",
        "ARA0"
       ]
      },
      {
       "output_type": "stream",
       "stream": "stdout",
       "text": [
        "\n",
        "loading ['P'] fit data...  select distinct lebo.evid, lebo.mb, lebo.lon, lebo.lat, lebo.depth, fp.phase, fit.sta, fit.dist, fit.azi, fit.band, fp.arrival_time, fp.peak_offset, fp.coda_height, fp.coda_decay, fp.amp_transfer from  leb_origin lebo, sigvisa_coda_fit_phase fp, sigvisa_coda_fit fit where fp.fitid = fit.fitid and fp.coda_height > -10.000000 and fit.chan='sz' and fit.band='freq_2.0_3.0' and fit.sta='ARA0' and (fit.runid = 21) and (fp.phase = 'P')  and fit.azi between 0.000000 and 360.000000 and fit.evid=lebo.evid and lebo.mb between 0.000000 and 100.000000 and fit.dist between 0.000000 and 20000.000000  and fit.acost<200.000000\n",
        "sql done\n",
        "(0,)\n",
        "found no shape data matching query select distinct lebo.evid, lebo.mb, lebo.lon, lebo.lat, lebo.depth, fp.phase, fit.sta, fit.dist, fit.azi, fit.band, fp.arrival_time, fp.peak_offset, fp.coda_height, fp.coda_decay, fp.amp_transfer from  leb_origin lebo, sigvisa_coda_fit_phase fp, sigvisa_coda_fit fit where fp.fitid = fit.fitid and fp.coda_height > -10.000000 and fit.chan='sz' and fit.band='freq_2.0_3.0' and fit.sta='ARA0' and (fit.runid = 21) and (fp.phase = 'P')  and fit.azi between 0.000000 and 360.000000 and fit.evid=lebo.evid and lebo.mb between 0.000000 and 100.000000 and fit.dist between 0.000000 and 20000.000000  and fit.acost<200.000000\n",
        "JNU\n",
        "loading ['P'] fit data...  3 entries loaded\n",
        "MAW\n",
        "loading ['P'] fit data...  select distinct lebo.evid, lebo.mb, lebo.lon, lebo.lat, lebo.depth, fp.phase, fit.sta, fit.dist, fit.azi, fit.band, fp.arrival_time, fp.peak_offset, fp.coda_height, fp.coda_decay, fp.amp_transfer from  leb_origin lebo, sigvisa_coda_fit_phase fp, sigvisa_coda_fit fit where fp.fitid = fit.fitid and fp.coda_height > -10.000000 and fit.chan='BHZ' and fit.band='freq_2.0_3.0' and fit.sta='MAW' and (fit.runid = 21) and (fp.phase = 'P')  and fit.azi between 0.000000 and 360.000000 and fit.evid=lebo.evid and lebo.mb between 0.000000 and 100.000000 and fit.dist between 0.000000 and 20000.000000  and fit.acost<200.000000\n",
        "sql done\n",
        "(0,)\n",
        "found no shape data matching query select distinct lebo.evid, lebo.mb, lebo.lon, lebo.lat, lebo.depth, fp.phase, fit.sta, fit.dist, fit.azi, fit.band, fp.arrival_time, fp.peak_offset, fp.coda_height, fp.coda_decay, fp.amp_transfer from  leb_origin lebo, sigvisa_coda_fit_phase fp, sigvisa_coda_fit fit where fp.fitid = fit.fitid and fp.coda_height > -10.000000 and fit.chan='BHZ' and fit.band='freq_2.0_3.0' and fit.sta='MAW' and (fit.runid = 21) and (fp.phase = 'P')  and fit.azi between 0.000000 and 360.000000 and fit.evid=lebo.evid and lebo.mb between 0.000000 and 100.000000 and fit.dist between 0.000000 and 20000.000000  and fit.acost<200.000000\n",
        "SNAA\n",
        "loading ['P'] fit data...  2 entries loaded\n",
        "KEST\n",
        "loading ['P'] fit data...  select distinct lebo.evid, lebo.mb, lebo.lon, lebo.lat, lebo.depth, fp.phase, fit.sta, fit.dist, fit.azi, fit.band, fp.arrival_time, fp.peak_offset, fp.coda_height, fp.coda_decay, fp.amp_transfer from  leb_origin lebo, sigvisa_coda_fit_phase fp, sigvisa_coda_fit fit where fp.fitid = fit.fitid and fp.coda_height > -10.000000 and fit.chan='BHZ' and fit.band='freq_2.0_3.0' and fit.sta='KEST' and (fit.runid = 21) and (fp.phase = 'P')  and fit.azi between 0.000000 and 360.000000 and fit.evid=lebo.evid and lebo.mb between 0.000000 and 100.000000 and fit.dist between 0.000000 and 20000.000000  and fit.acost<200.000000\n",
        "sql done\n",
        "(0,)\n",
        "found no shape data matching query select distinct lebo.evid, lebo.mb, lebo.lon, lebo.lat, lebo.depth, fp.phase, fit.sta, fit.dist, fit.azi, fit.band, fp.arrival_time, fp.peak_offset, fp.coda_height, fp.coda_decay, fp.amp_transfer from  leb_origin lebo, sigvisa_coda_fit_phase fp, sigvisa_coda_fit fit where fp.fitid = fit.fitid and fp.coda_height > -10.000000 and fit.chan='BHZ' and fit.band='freq_2.0_3.0' and fit.sta='KEST' and (fit.runid = 21) and (fp.phase = 'P')  and fit.azi between 0.000000 and 360.000000 and fit.evid=lebo.evid and lebo.mb between 0.000000 and 100.000000 and fit.dist between 0.000000 and 20000.000000  and fit.acost<200.000000\n",
        "ROSC\n",
        "loading ['P'] fit data...  2 entries loaded\n",
        "ZAA0\n",
        "loading ['P'] fit data...  "
       ]
      },
      {
       "output_type": "stream",
       "stream": "stdout",
       "text": [
        "3 entries loaded\n",
        "SUR"
       ]
      },
      {
       "output_type": "stream",
       "stream": "stdout",
       "text": [
        "\n",
        "loading ['P'] fit data...  15 entries loaded\n",
        "\n",
        "CFAA\n",
        "loading ['P'] fit data...  15 entries loaded\n",
        "\n",
        "CMIG\n",
        "loading ['P'] fit data...  select distinct lebo.evid, lebo.mb, lebo.lon, lebo.lat, lebo.depth, fp.phase, fit.sta, fit.dist, fit.azi, fit.band, fp.arrival_time, fp.peak_offset, fp.coda_height, fp.coda_decay, fp.amp_transfer from  leb_origin lebo, sigvisa_coda_fit_phase fp, sigvisa_coda_fit fit where fp.fitid = fit.fitid and fp.coda_height > -10.000000 and fit.chan='BHZ' and fit.band='freq_2.0_3.0' and fit.sta='CMIG' and (fit.runid = 21) and (fp.phase = 'P')  and fit.azi between 0.000000 and 360.000000 and fit.evid=lebo.evid and lebo.mb between 0.000000 and 100.000000 and fit.dist between 0.000000 and 20000.000000  and fit.acost<200.000000\n",
        "sql done\n",
        "(0,)\n",
        "found no shape data matching query select distinct lebo.evid, lebo.mb, lebo.lon, lebo.lat, lebo.depth, fp.phase, fit.sta, fit.dist, fit.azi, fit.band, fp.arrival_time, fp.peak_offset, fp.coda_height, fp.coda_decay, fp.amp_transfer from  leb_origin lebo, sigvisa_coda_fit_phase fp, sigvisa_coda_fit fit where fp.fitid = fit.fitid and fp.coda_height > -10.000000 and fit.chan='BHZ' and fit.band='freq_2.0_3.0' and fit.sta='CMIG' and (fit.runid = 21) and (fp.phase = 'P')  and fit.azi between 0.000000 and 360.000000 and fit.evid=lebo.evid and lebo.mb between 0.000000 and 100.000000 and fit.dist between 0.000000 and 20000.000000  and fit.acost<200.000000\n",
        "YBH\n",
        "loading ['P'] fit data...  7 entries loaded\n",
        "AKTO\n",
        "loading ['P'] fit data...  5 entries loaded\n",
        "TKL"
       ]
      },
      {
       "output_type": "stream",
       "stream": "stdout",
       "text": [
        "\n",
        "loading ['P'] fit data...  2 entries loaded\n",
        "GUMO\n",
        "loading ['P'] fit data...  5 entries loaded\n",
        "KBZ\n",
        "loading ['P'] fit data...  15 entries loaded\n",
        "\n",
        "NV01\n",
        "loading ['P'] fit data...  select distinct lebo.evid, lebo.mb, lebo.lon, lebo.lat, lebo.depth, fp.phase, fit.sta, fit.dist, fit.azi, fit.band, fp.arrival_time, fp.peak_offset, fp.coda_height, fp.coda_decay, fp.amp_transfer from  leb_origin lebo, sigvisa_coda_fit_phase fp, sigvisa_coda_fit fit where fp.fitid = fit.fitid and fp.coda_height > -10.000000 and fit.chan='sz' and fit.band='freq_2.0_3.0' and fit.sta='NV01' and (fit.runid = 21) and (fp.phase = 'P')  and fit.azi between 0.000000 and 360.000000 and fit.evid=lebo.evid and lebo.mb between 0.000000 and 100.000000 and fit.dist between 0.000000 and 20000.000000  and fit.acost<200.000000\n",
        "sql done\n",
        "(0,)\n",
        "found no shape data matching query select distinct lebo.evid, lebo.mb, lebo.lon, lebo.lat, lebo.depth, fp.phase, fit.sta, fit.dist, fit.azi, fit.band, fp.arrival_time, fp.peak_offset, fp.coda_height, fp.coda_decay, fp.amp_transfer from  leb_origin lebo, sigvisa_coda_fit_phase fp, sigvisa_coda_fit fit where fp.fitid = fit.fitid and fp.coda_height > -10.000000 and fit.chan='sz' and fit.band='freq_2.0_3.0' and fit.sta='NV01' and (fit.runid = 21) and (fp.phase = 'P')  and fit.azi between 0.000000 and 360.000000 and fit.evid=lebo.evid and lebo.mb between 0.000000 and 100.000000 and fit.dist between 0.000000 and 20000.000000  and fit.acost<200.000000\n",
        "LSZ\n",
        "loading ['P'] fit data...  select distinct lebo.evid, lebo.mb, lebo.lon, lebo.lat, lebo.depth, fp.phase, fit.sta, fit.dist, fit.azi, fit.band, fp.arrival_time, fp.peak_offset, fp.coda_height, fp.coda_decay, fp.amp_transfer from  leb_origin lebo, sigvisa_coda_fit_phase fp, sigvisa_coda_fit fit where fp.fitid = fit.fitid and fp.coda_height > -10.000000 and fit.chan='BHZ' and fit.band='freq_2.0_3.0' and fit.sta='LSZ' and (fit.runid = 21) and (fp.phase = 'P')  and fit.azi between 0.000000 and 360.000000 and fit.evid=lebo.evid and lebo.mb between 0.000000 and 100.000000 and fit.dist between 0.000000 and 20000.000000  and fit.acost<200.000000\n",
        "sql done\n",
        "(0,)\n",
        "found no shape data matching query select distinct lebo.evid, lebo.mb, lebo.lon, lebo.lat, lebo.depth, fp.phase, fit.sta, fit.dist, fit.azi, fit.band, fp.arrival_time, fp.peak_offset, fp.coda_height, fp.coda_decay, fp.amp_transfer from  leb_origin lebo, sigvisa_coda_fit_phase fp, sigvisa_coda_fit fit where fp.fitid = fit.fitid and fp.coda_height > -10.000000 and fit.chan='BHZ' and fit.band='freq_2.0_3.0' and fit.sta='LSZ' and (fit.runid = 21) and (fp.phase = 'P')  and fit.azi between 0.000000 and 360.000000 and fit.evid=lebo.evid and lebo.mb between 0.000000 and 100.000000 and fit.dist between 0.000000 and 20000.000000  and fit.acost<200.000000\n",
        "FIA0\n",
        "loading ['P'] fit data...  select distinct lebo.evid, lebo.mb, lebo.lon, lebo.lat, lebo.depth, fp.phase, fit.sta, fit.dist, fit.azi, fit.band, fp.arrival_time, fp.peak_offset, fp.coda_height, fp.coda_decay, fp.amp_transfer from  leb_origin lebo, sigvisa_coda_fit_phase fp, sigvisa_coda_fit fit where fp.fitid = fit.fitid and fp.coda_height > -10.000000 and fit.chan='SHZ' and fit.band='freq_2.0_3.0' and fit.sta='FIA0' and (fit.runid = 21) and (fp.phase = 'P')  and fit.azi between 0.000000 and 360.000000 and fit.evid=lebo.evid and lebo.mb between 0.000000 and 100.000000 and fit.dist between 0.000000 and 20000.000000  and fit.acost<200.000000\n",
        "sql done\n",
        "(0,)\n",
        "found no shape data matching query select distinct lebo.evid, lebo.mb, lebo.lon, lebo.lat, lebo.depth, fp.phase, fit.sta, fit.dist, fit.azi, fit.band, fp.arrival_time, fp.peak_offset, fp.coda_height, fp.coda_decay, fp.amp_transfer from  leb_origin lebo, sigvisa_coda_fit_phase fp, sigvisa_coda_fit fit where fp.fitid = fit.fitid and fp.coda_height > -10.000000 and fit.chan='SHZ' and fit.band='freq_2.0_3.0' and fit.sta='FIA0' and (fit.runid = 21) and (fp.phase = 'P')  and fit.azi between 0.000000 and 360.000000 and fit.evid=lebo.evid and lebo.mb between 0.000000 and 100.000000 and fit.dist between 0.000000 and 20000.000000  and fit.acost<200.000000\n",
        "AFI\n",
        "loading ['P'] fit data...  3 entries loaded\n",
        "YKR8"
       ]
      },
      {
       "output_type": "stream",
       "stream": "stdout",
       "text": [
        "\n",
        "loading ['P'] fit data...  4 entries loaded\n",
        "JTS"
       ]
      },
      {
       "output_type": "stream",
       "stream": "stdout",
       "text": [
        "\n",
        "loading ['P'] fit data...  select distinct lebo.evid, lebo.mb, lebo.lon, lebo.lat, lebo.depth, fp.phase, fit.sta, fit.dist, fit.azi, fit.band, fp.arrival_time, fp.peak_offset, fp.coda_height, fp.coda_decay, fp.amp_transfer from  leb_origin lebo, sigvisa_coda_fit_phase fp, sigvisa_coda_fit fit where fp.fitid = fit.fitid and fp.coda_height > -10.000000 and fit.chan='BHZ' and fit.band='freq_2.0_3.0' and fit.sta='JTS' and (fit.runid = 21) and (fp.phase = 'P')  and fit.azi between 0.000000 and 360.000000 and fit.evid=lebo.evid and lebo.mb between 0.000000 and 100.000000 and fit.dist between 0.000000 and 20000.000000  and fit.acost<200.000000\n",
        "sql done\n",
        "(0,)\n",
        "found no shape data matching query select distinct lebo.evid, lebo.mb, lebo.lon, lebo.lat, lebo.depth, fp.phase, fit.sta, fit.dist, fit.azi, fit.band, fp.arrival_time, fp.peak_offset, fp.coda_height, fp.coda_decay, fp.amp_transfer from  leb_origin lebo, sigvisa_coda_fit_phase fp, sigvisa_coda_fit fit where fp.fitid = fit.fitid and fp.coda_height > -10.000000 and fit.chan='BHZ' and fit.band='freq_2.0_3.0' and fit.sta='JTS' and (fit.runid = 21) and (fp.phase = 'P')  and fit.azi between 0.000000 and 360.000000 and fit.evid=lebo.evid and lebo.mb between 0.000000 and 100.000000 and fit.dist between 0.000000 and 20000.000000  and fit.acost<200.000000\n",
        "KMBO\n",
        "loading ['P'] fit data...  select distinct lebo.evid, lebo.mb, lebo.lon, lebo.lat, lebo.depth, fp.phase, fit.sta, fit.dist, fit.azi, fit.band, fp.arrival_time, fp.peak_offset, fp.coda_height, fp.coda_decay, fp.amp_transfer from  leb_origin lebo, sigvisa_coda_fit_phase fp, sigvisa_coda_fit fit where fp.fitid = fit.fitid and fp.coda_height > -10.000000 and fit.chan='BHZ' and fit.band='freq_2.0_3.0' and fit.sta='KMBO' and (fit.runid = 21) and (fp.phase = 'P')  and fit.azi between 0.000000 and 360.000000 and fit.evid=lebo.evid and lebo.mb between 0.000000 and 100.000000 and fit.dist between 0.000000 and 20000.000000  and fit.acost<200.000000\n",
        "sql done\n",
        "(0,)\n",
        "found no shape data matching query select distinct lebo.evid, lebo.mb, lebo.lon, lebo.lat, lebo.depth, fp.phase, fit.sta, fit.dist, fit.azi, fit.band, fp.arrival_time, fp.peak_offset, fp.coda_height, fp.coda_decay, fp.amp_transfer from  leb_origin lebo, sigvisa_coda_fit_phase fp, sigvisa_coda_fit fit where fp.fitid = fit.fitid and fp.coda_height > -10.000000 and fit.chan='BHZ' and fit.band='freq_2.0_3.0' and fit.sta='KMBO' and (fit.runid = 21) and (fp.phase = 'P')  and fit.azi between 0.000000 and 360.000000 and fit.evid=lebo.evid and lebo.mb between 0.000000 and 100.000000 and fit.dist between 0.000000 and 20000.000000  and fit.acost<200.000000\n",
        "MBAR\n",
        "loading ['P'] fit data...  select distinct lebo.evid, lebo.mb, lebo.lon, lebo.lat, lebo.depth, fp.phase, fit.sta, fit.dist, fit.azi, fit.band, fp.arrival_time, fp.peak_offset, fp.coda_height, fp.coda_decay, fp.amp_transfer from  leb_origin lebo, sigvisa_coda_fit_phase fp, sigvisa_coda_fit fit where fp.fitid = fit.fitid and fp.coda_height > -10.000000 and fit.chan='BHZ' and fit.band='freq_2.0_3.0' and fit.sta='MBAR' and (fit.runid = 21) and (fp.phase = 'P')  and fit.azi between 0.000000 and 360.000000 and fit.evid=lebo.evid and lebo.mb between 0.000000 and 100.000000 and fit.dist between 0.000000 and 20000.000000  and fit.acost<200.000000\n",
        "sql done\n",
        "(0,)\n",
        "found no shape data matching query select distinct lebo.evid, lebo.mb, lebo.lon, lebo.lat, lebo.depth, fp.phase, fit.sta, fit.dist, fit.azi, fit.band, fp.arrival_time, fp.peak_offset, fp.coda_height, fp.coda_decay, fp.amp_transfer from  leb_origin lebo, sigvisa_coda_fit_phase fp, sigvisa_coda_fit fit where fp.fitid = fit.fitid and fp.coda_height > -10.000000 and fit.chan='BHZ' and fit.band='freq_2.0_3.0' and fit.sta='MBAR' and (fit.runid = 21) and (fp.phase = 'P')  and fit.azi between 0.000000 and 360.000000 and fit.evid=lebo.evid and lebo.mb between 0.000000 and 100.000000 and fit.dist between 0.000000 and 20000.000000  and fit.acost<200.000000\n",
        "PSI\n",
        "loading ['P'] fit data...  5 entries loaded\n",
        "PEA0\n",
        "loading ['P'] fit data...  15 entries loaded\n",
        "\n",
        "RAO\n",
        "loading ['P'] fit data...  select distinct lebo.evid, lebo.mb, lebo.lon, lebo.lat, lebo.depth, fp.phase, fit.sta, fit.dist, fit.azi, fit.band, fp.arrival_time, fp.peak_offset, fp.coda_height, fp.coda_decay, fp.amp_transfer from  leb_origin lebo, sigvisa_coda_fit_phase fp, sigvisa_coda_fit fit where fp.fitid = fit.fitid and fp.coda_height > -10.000000 and fit.chan='BHZ' and fit.band='freq_2.0_3.0' and fit.sta='RAO' and (fit.runid = 21) and (fp.phase = 'P')  and fit.azi between 0.000000 and 360.000000 and fit.evid=lebo.evid and lebo.mb between 0.000000 and 100.000000 and fit.dist between 0.000000 and 20000.000000  and fit.acost<200.000000\n",
        "sql done\n",
        "(0,)\n",
        "found no shape data matching query select distinct lebo.evid, lebo.mb, lebo.lon, lebo.lat, lebo.depth, fp.phase, fit.sta, fit.dist, fit.azi, fit.band, fp.arrival_time, fp.peak_offset, fp.coda_height, fp.coda_decay, fp.amp_transfer from  leb_origin lebo, sigvisa_coda_fit_phase fp, sigvisa_coda_fit fit where fp.fitid = fit.fitid and fp.coda_height > -10.000000 and fit.chan='BHZ' and fit.band='freq_2.0_3.0' and fit.sta='RAO' and (fit.runid = 21) and (fp.phase = 'P')  and fit.azi between 0.000000 and 360.000000 and fit.evid=lebo.evid and lebo.mb between 0.000000 and 100.000000 and fit.dist between 0.000000 and 20000.000000  and fit.acost<200.000000\n"
       ]
      },
      {
       "output_type": "stream",
       "stream": "stdout",
       "text": [
        "OPO\n",
        "loading ['P'] fit data...  15 entries loaded\n",
        "\n",
        "TOA0\n",
        "loading ['P'] fit data...  15 entries loaded\n",
        "\n",
        "NB200\n",
        "loading ['P'] fit data...  select distinct lebo.evid, lebo.mb, lebo.lon, lebo.lat, lebo.depth, fp.phase, fit.sta, fit.dist, fit.azi, fit.band, fp.arrival_time, fp.peak_offset, fp.coda_height, fp.coda_decay, fp.amp_transfer from  leb_origin lebo, sigvisa_coda_fit_phase fp, sigvisa_coda_fit fit where fp.fitid = fit.fitid and fp.coda_height > -10.000000 and fit.chan='sz' and fit.band='freq_2.0_3.0' and fit.sta='NB200' and (fit.runid = 21) and (fp.phase = 'P')  and fit.azi between 0.000000 and 360.000000 and fit.evid=lebo.evid and lebo.mb between 0.000000 and 100.000000 and fit.dist between 0.000000 and 20000.000000  and fit.acost<200.000000\n",
        "sql done\n",
        "(0,)\n",
        "found no shape data matching query select distinct lebo.evid, lebo.mb, lebo.lon, lebo.lat, lebo.depth, fp.phase, fit.sta, fit.dist, fit.azi, fit.band, fp.arrival_time, fp.peak_offset, fp.coda_height, fp.coda_decay, fp.amp_transfer from  leb_origin lebo, sigvisa_coda_fit_phase fp, sigvisa_coda_fit fit where fp.fitid = fit.fitid and fp.coda_height > -10.000000 and fit.chan='sz' and fit.band='freq_2.0_3.0' and fit.sta='NB200' and (fit.runid = 21) and (fp.phase = 'P')  and fit.azi between 0.000000 and 360.000000 and fit.evid=lebo.evid and lebo.mb between 0.000000 and 100.000000 and fit.dist between 0.000000 and 20000.000000  and fit.acost<200.000000\n",
        "ATD\n",
        "loading ['P'] fit data...  select distinct lebo.evid, lebo.mb, lebo.lon, lebo.lat, lebo.depth, fp.phase, fit.sta, fit.dist, fit.azi, fit.band, fp.arrival_time, fp.peak_offset, fp.coda_height, fp.coda_decay, fp.amp_transfer from  leb_origin lebo, sigvisa_coda_fit_phase fp, sigvisa_coda_fit fit where fp.fitid = fit.fitid and fp.coda_height > -10.000000 and fit.chan='BHZ' and fit.band='freq_2.0_3.0' and fit.sta='ATD' and (fit.runid = 21) and (fp.phase = 'P')  and fit.azi between 0.000000 and 360.000000 and fit.evid=lebo.evid and lebo.mb between 0.000000 and 100.000000 and fit.dist between 0.000000 and 20000.000000  and fit.acost<200.000000\n",
        "sql done\n",
        "(0,)\n",
        "found no shape data matching query select distinct lebo.evid, lebo.mb, lebo.lon, lebo.lat, lebo.depth, fp.phase, fit.sta, fit.dist, fit.azi, fit.band, fp.arrival_time, fp.peak_offset, fp.coda_height, fp.coda_decay, fp.amp_transfer from  leb_origin lebo, sigvisa_coda_fit_phase fp, sigvisa_coda_fit fit where fp.fitid = fit.fitid and fp.coda_height > -10.000000 and fit.chan='BHZ' and fit.band='freq_2.0_3.0' and fit.sta='ATD' and (fit.runid = 21) and (fp.phase = 'P')  and fit.azi between 0.000000 and 360.000000 and fit.evid=lebo.evid and lebo.mb between 0.000000 and 100.000000 and fit.dist between 0.000000 and 20000.000000  and fit.acost<200.000000\n",
        "DLBC\n",
        "loading ['P'] fit data...  15 entries loaded\n",
        "\n",
        "RES\n",
        "loading ['P'] fit data...  15 entries loaded\n",
        "\n",
        "ULM\n",
        "loading ['P'] fit data...  2 entries loaded\n",
        "HNR\n",
        "loading ['P'] fit data...  2 entries loaded\n",
        "CTA"
       ]
      },
      {
       "output_type": "stream",
       "stream": "stdout",
       "text": [
        "\n",
        "loading ['P'] fit data...  10 entries loaded\n",
        "NEW"
       ]
      },
      {
       "output_type": "stream",
       "stream": "stdout",
       "text": [
        "\n",
        "loading ['P'] fit data...  15 entries loaded\n",
        "\n",
        "SPA0\n",
        "loading ['P'] fit data...  3 entries loaded\n",
        "KAPI\n",
        "loading ['P'] fit data...  11 entries loaded\n",
        "ATTU"
       ]
      },
      {
       "output_type": "stream",
       "stream": "stdout",
       "text": [
        "\n",
        "loading ['P'] fit data...  3 entries loaded\n",
        "SCHQ\n",
        "loading ['P'] fit data...  2 entries loaded\n",
        "PMG\n",
        "loading ['P'] fit data...  22 entries loaded\n",
        "ASF"
       ]
      },
      {
       "output_type": "stream",
       "stream": "stdout",
       "text": [
        "\n",
        "loading ['P'] fit data...  select distinct lebo.evid, lebo.mb, lebo.lon, lebo.lat, lebo.depth, fp.phase, fit.sta, fit.dist, fit.azi, fit.band, fp.arrival_time, fp.peak_offset, fp.coda_height, fp.coda_decay, fp.amp_transfer from  leb_origin lebo, sigvisa_coda_fit_phase fp, sigvisa_coda_fit fit where fp.fitid = fit.fitid and fp.coda_height > -10.000000 and fit.chan='BHZ' and fit.band='freq_2.0_3.0' and fit.sta='ASF' and (fit.runid = 21) and (fp.phase = 'P')  and fit.azi between 0.000000 and 360.000000 and fit.evid=lebo.evid and lebo.mb between 0.000000 and 100.000000 and fit.dist between 0.000000 and 20000.000000  and fit.acost<200.000000\n",
        "sql done\n",
        "(0,)\n",
        "found no shape data matching query select distinct lebo.evid, lebo.mb, lebo.lon, lebo.lat, lebo.depth, fp.phase, fit.sta, fit.dist, fit.azi, fit.band, fp.arrival_time, fp.peak_offset, fp.coda_height, fp.coda_decay, fp.amp_transfer from  leb_origin lebo, sigvisa_coda_fit_phase fp, sigvisa_coda_fit fit where fp.fitid = fit.fitid and fp.coda_height > -10.000000 and fit.chan='BHZ' and fit.band='freq_2.0_3.0' and fit.sta='ASF' and (fit.runid = 21) and (fp.phase = 'P')  and fit.azi between 0.000000 and 360.000000 and fit.evid=lebo.evid and lebo.mb between 0.000000 and 100.000000 and fit.dist between 0.000000 and 20000.000000  and fit.acost<200.000000\n",
        "JKA\n",
        "loading ['P'] fit data...  4 entries loaded\n",
        "MDT\n",
        "loading ['P'] fit data...  select distinct lebo.evid, lebo.mb, lebo.lon, lebo.lat, lebo.depth, fp.phase, fit.sta, fit.dist, fit.azi, fit.band, fp.arrival_time, fp.peak_offset, fp.coda_height, fp.coda_decay, fp.amp_transfer from  leb_origin lebo, sigvisa_coda_fit_phase fp, sigvisa_coda_fit fit where fp.fitid = fit.fitid and fp.coda_height > -10.000000 and fit.chan='BHZ' and fit.band='freq_2.0_3.0' and fit.sta='MDT' and (fit.runid = 21) and (fp.phase = 'P')  and fit.azi between 0.000000 and 360.000000 and fit.evid=lebo.evid and lebo.mb between 0.000000 and 100.000000 and fit.dist between 0.000000 and 20000.000000  and fit.acost<200.000000\n",
        "sql done\n",
        "(0,)\n",
        "found no shape data matching query select distinct lebo.evid, lebo.mb, lebo.lon, lebo.lat, lebo.depth, fp.phase, fit.sta, fit.dist, fit.azi, fit.band, fp.arrival_time, fp.peak_offset, fp.coda_height, fp.coda_decay, fp.amp_transfer from  leb_origin lebo, sigvisa_coda_fit_phase fp, sigvisa_coda_fit fit where fp.fitid = fit.fitid and fp.coda_height > -10.000000 and fit.chan='BHZ' and fit.band='freq_2.0_3.0' and fit.sta='MDT' and (fit.runid = 21) and (fp.phase = 'P')  and fit.azi between 0.000000 and 360.000000 and fit.evid=lebo.evid and lebo.mb between 0.000000 and 100.000000 and fit.dist between 0.000000 and 20000.000000  and fit.acost<200.000000\n",
        "ELK\n",
        "loading ['P'] fit data...  select distinct lebo.evid, lebo.mb, lebo.lon, lebo.lat, lebo.depth, fp.phase, fit.sta, fit.dist, fit.azi, fit.band, fp.arrival_time, fp.peak_offset, fp.coda_height, fp.coda_decay, fp.amp_transfer from  leb_origin lebo, sigvisa_coda_fit_phase fp, sigvisa_coda_fit fit where fp.fitid = fit.fitid and fp.coda_height > -10.000000 and fit.chan='BHZ' and fit.band='freq_2.0_3.0' and fit.sta='ELK' and (fit.runid = 21) and (fp.phase = 'P')  and fit.azi between 0.000000 and 360.000000 and fit.evid=lebo.evid and lebo.mb between 0.000000 and 100.000000 and fit.dist between 0.000000 and 20000.000000  and fit.acost<200.000000\n",
        "sql done\n",
        "(0,)\n",
        "found no shape data matching query select distinct lebo.evid, lebo.mb, lebo.lon, lebo.lat, lebo.depth, fp.phase, fit.sta, fit.dist, fit.azi, fit.band, fp.arrival_time, fp.peak_offset, fp.coda_height, fp.coda_decay, fp.amp_transfer from  leb_origin lebo, sigvisa_coda_fit_phase fp, sigvisa_coda_fit fit where fp.fitid = fit.fitid and fp.coda_height > -10.000000 and fit.chan='BHZ' and fit.band='freq_2.0_3.0' and fit.sta='ELK' and (fit.runid = 21) and (fp.phase = 'P')  and fit.azi between 0.000000 and 360.000000 and fit.evid=lebo.evid and lebo.mb between 0.000000 and 100.000000 and fit.dist between 0.000000 and 20000.000000  and fit.acost<200.000000\n",
        "KDAK\n",
        "loading ['P'] fit data...  3 entries loaded\n",
        "WR1"
       ]
      },
      {
       "output_type": "stream",
       "stream": "stdout",
       "text": [
        "\n",
        "loading ['P'] fit data...  101 entries loaded\n",
        "BBB"
       ]
      },
      {
       "output_type": "stream",
       "stream": "stdout",
       "text": [
        "\n",
        "loading ['P'] fit data...  select distinct lebo.evid, lebo.mb, lebo.lon, lebo.lat, lebo.depth, fp.phase, fit.sta, fit.dist, fit.azi, fit.band, fp.arrival_time, fp.peak_offset, fp.coda_height, fp.coda_decay, fp.amp_transfer from  leb_origin lebo, sigvisa_coda_fit_phase fp, sigvisa_coda_fit fit where fp.fitid = fit.fitid and fp.coda_height > -10.000000 and fit.chan='BHZ' and fit.band='freq_2.0_3.0' and fit.sta='BBB' and (fit.runid = 21) and (fp.phase = 'P')  and fit.azi between 0.000000 and 360.000000 and fit.evid=lebo.evid and lebo.mb between 0.000000 and 100.000000 and fit.dist between 0.000000 and 20000.000000  and fit.acost<200.000000\n",
        "sql done\n",
        "(0,)\n",
        "found no shape data matching query select distinct lebo.evid, lebo.mb, lebo.lon, lebo.lat, lebo.depth, fp.phase, fit.sta, fit.dist, fit.azi, fit.band, fp.arrival_time, fp.peak_offset, fp.coda_height, fp.coda_decay, fp.amp_transfer from  leb_origin lebo, sigvisa_coda_fit_phase fp, sigvisa_coda_fit fit where fp.fitid = fit.fitid and fp.coda_height > -10.000000 and fit.chan='BHZ' and fit.band='freq_2.0_3.0' and fit.sta='BBB' and (fit.runid = 21) and (fp.phase = 'P')  and fit.azi between 0.000000 and 360.000000 and fit.evid=lebo.evid and lebo.mb between 0.000000 and 100.000000 and fit.dist between 0.000000 and 20000.000000  and fit.acost<200.000000\n",
        "CPUP\n",
        "loading ['P'] fit data...  select distinct lebo.evid, lebo.mb, lebo.lon, lebo.lat, lebo.depth, fp.phase, fit.sta, fit.dist, fit.azi, fit.band, fp.arrival_time, fp.peak_offset, fp.coda_height, fp.coda_decay, fp.amp_transfer from  leb_origin lebo, sigvisa_coda_fit_phase fp, sigvisa_coda_fit fit where fp.fitid = fit.fitid and fp.coda_height > -10.000000 and fit.chan='BHZ' and fit.band='freq_2.0_3.0' and fit.sta='CPUP' and (fit.runid = 21) and (fp.phase = 'P')  and fit.azi between 0.000000 and 360.000000 and fit.evid=lebo.evid and lebo.mb between 0.000000 and 100.000000 and fit.dist between 0.000000 and 20000.000000  and fit.acost<200.000000\n",
        "sql done\n",
        "(0,)\n",
        "found no shape data matching query select distinct lebo.evid, lebo.mb, lebo.lon, lebo.lat, lebo.depth, fp.phase, fit.sta, fit.dist, fit.azi, fit.band, fp.arrival_time, fp.peak_offset, fp.coda_height, fp.coda_decay, fp.amp_transfer from  leb_origin lebo, sigvisa_coda_fit_phase fp, sigvisa_coda_fit fit where fp.fitid = fit.fitid and fp.coda_height > -10.000000 and fit.chan='BHZ' and fit.band='freq_2.0_3.0' and fit.sta='CPUP' and (fit.runid = 21) and (fp.phase = 'P')  and fit.azi between 0.000000 and 360.000000 and fit.evid=lebo.evid and lebo.mb between 0.000000 and 100.000000 and fit.dist between 0.000000 and 20000.000000  and fit.acost<200.000000\n",
        "SJG\n",
        "loading ['P'] fit data...  3 entries loaded\n",
        "SFJD\n",
        "loading ['P'] fit data...  select distinct lebo.evid, lebo.mb, lebo.lon, lebo.lat, lebo.depth, fp.phase, fit.sta, fit.dist, fit.azi, fit.band, fp.arrival_time, fp.peak_offset, fp.coda_height, fp.coda_decay, fp.amp_transfer from  leb_origin lebo, sigvisa_coda_fit_phase fp, sigvisa_coda_fit fit where fp.fitid = fit.fitid and fp.coda_height > -10.000000 and fit.chan='BHZ' and fit.band='freq_2.0_3.0' and fit.sta='SFJD' and (fit.runid = 21) and (fp.phase = 'P')  and fit.azi between 0.000000 and 360.000000 and fit.evid=lebo.evid and lebo.mb between 0.000000 and 100.000000 and fit.dist between 0.000000 and 20000.000000  and fit.acost<200.000000\n",
        "sql done\n",
        "(0,)\n",
        "found no shape data matching query select distinct lebo.evid, lebo.mb, lebo.lon, lebo.lat, lebo.depth, fp.phase, fit.sta, fit.dist, fit.azi, fit.band, fp.arrival_time, fp.peak_offset, fp.coda_height, fp.coda_decay, fp.amp_transfer from  leb_origin lebo, sigvisa_coda_fit_phase fp, sigvisa_coda_fit fit where fp.fitid = fit.fitid and fp.coda_height > -10.000000 and fit.chan='BHZ' and fit.band='freq_2.0_3.0' and fit.sta='SFJD' and (fit.runid = 21) and (fp.phase = 'P')  and fit.azi between 0.000000 and 360.000000 and fit.evid=lebo.evid and lebo.mb between 0.000000 and 100.000000 and fit.dist between 0.000000 and 20000.000000  and fit.acost<200.000000\n",
        "ANMO\n",
        "loading ['P'] fit data...  select distinct lebo.evid, lebo.mb, lebo.lon, lebo.lat, lebo.depth, fp.phase, fit.sta, fit.dist, fit.azi, fit.band, fp.arrival_time, fp.peak_offset, fp.coda_height, fp.coda_decay, fp.amp_transfer from  leb_origin lebo, sigvisa_coda_fit_phase fp, sigvisa_coda_fit fit where fp.fitid = fit.fitid and fp.coda_height > -10.000000 and fit.chan='BHZ' and fit.band='freq_2.0_3.0' and fit.sta='ANMO' and (fit.runid = 21) and (fp.phase = 'P')  and fit.azi between 0.000000 and 360.000000 and fit.evid=lebo.evid and lebo.mb between 0.000000 and 100.000000 and fit.dist between 0.000000 and 20000.000000  and fit.acost<200.000000\n",
        "sql done\n",
        "(0,)\n",
        "found no shape data matching query select distinct lebo.evid, lebo.mb, lebo.lon, lebo.lat, lebo.depth, fp.phase, fit.sta, fit.dist, fit.azi, fit.band, fp.arrival_time, fp.peak_offset, fp.coda_height, fp.coda_decay, fp.amp_transfer from  leb_origin lebo, sigvisa_coda_fit_phase fp, sigvisa_coda_fit fit where fp.fitid = fit.fitid and fp.coda_height > -10.000000 and fit.chan='BHZ' and fit.band='freq_2.0_3.0' and fit.sta='ANMO' and (fit.runid = 21) and (fp.phase = 'P')  and fit.azi between 0.000000 and 360.000000 and fit.evid=lebo.evid and lebo.mb between 0.000000 and 100.000000 and fit.dist between 0.000000 and 20000.000000  and fit.acost<200.000000\n",
        "TSUM\n",
        "loading ['P'] fit data...  select distinct lebo.evid, lebo.mb, lebo.lon, lebo.lat, lebo.depth, fp.phase, fit.sta, fit.dist, fit.azi, fit.band, fp.arrival_time, fp.peak_offset, fp.coda_height, fp.coda_decay, fp.amp_transfer from  leb_origin lebo, sigvisa_coda_fit_phase fp, sigvisa_coda_fit fit where fp.fitid = fit.fitid and fp.coda_height > -10.000000 and fit.chan='BHZ' and fit.band='freq_2.0_3.0' and fit.sta='TSUM' and (fit.runid = 21) and (fp.phase = 'P')  and fit.azi between 0.000000 and 360.000000 and fit.evid=lebo.evid and lebo.mb between 0.000000 and 100.000000 and fit.dist between 0.000000 and 20000.000000  and fit.acost<200.000000\n",
        "sql done\n",
        "(0,)\n",
        "found no shape data matching query select distinct lebo.evid, lebo.mb, lebo.lon, lebo.lat, lebo.depth, fp.phase, fit.sta, fit.dist, fit.azi, fit.band, fp.arrival_time, fp.peak_offset, fp.coda_height, fp.coda_decay, fp.amp_transfer from  leb_origin lebo, sigvisa_coda_fit_phase fp, sigvisa_coda_fit fit where fp.fitid = fit.fitid and fp.coda_height > -10.000000 and fit.chan='BHZ' and fit.band='freq_2.0_3.0' and fit.sta='TSUM' and (fit.runid = 21) and (fp.phase = 'P')  and fit.azi between 0.000000 and 360.000000 and fit.evid=lebo.evid and lebo.mb between 0.000000 and 100.000000 and fit.dist between 0.000000 and 20000.000000  and fit.acost<200.000000\n",
        "FRB\n",
        "loading ['P'] fit data...  select distinct lebo.evid, lebo.mb, lebo.lon, lebo.lat, lebo.depth, fp.phase, fit.sta, fit.dist, fit.azi, fit.band, fp.arrival_time, fp.peak_offset, fp.coda_height, fp.coda_decay, fp.amp_transfer from  leb_origin lebo, sigvisa_coda_fit_phase fp, sigvisa_coda_fit fit where fp.fitid = fit.fitid and fp.coda_height > -10.000000 and fit.chan='BHZ' and fit.band='freq_2.0_3.0' and fit.sta='FRB' and (fit.runid = 21) and (fp.phase = 'P')  and fit.azi between 0.000000 and 360.000000 and fit.evid=lebo.evid and lebo.mb between 0.000000 and 100.000000 and fit.dist between 0.000000 and 20000.000000  and fit.acost<200.000000\n",
        "sql done\n",
        "(0,)\n",
        "found no shape data matching query select distinct lebo.evid, lebo.mb, lebo.lon, lebo.lat, lebo.depth, fp.phase, fit.sta, fit.dist, fit.azi, fit.band, fp.arrival_time, fp.peak_offset, fp.coda_height, fp.coda_decay, fp.amp_transfer from  leb_origin lebo, sigvisa_coda_fit_phase fp, sigvisa_coda_fit fit where fp.fitid = fit.fitid and fp.coda_height > -10.000000 and fit.chan='BHZ' and fit.band='freq_2.0_3.0' and fit.sta='FRB' and (fit.runid = 21) and (fp.phase = 'P')  and fit.azi between 0.000000 and 360.000000 and fit.evid=lebo.evid and lebo.mb between 0.000000 and 100.000000 and fit.dist between 0.000000 and 20000.000000  and fit.acost<200.000000\n",
        "AKBB\n",
        "loading ['P'] fit data...  2 entries loaded\n",
        "JHJ"
       ]
      },
      {
       "output_type": "stream",
       "stream": "stdout",
       "text": [
        "\n",
        "loading ['P'] fit data...  select distinct lebo.evid, lebo.mb, lebo.lon, lebo.lat, lebo.depth, fp.phase, fit.sta, fit.dist, fit.azi, fit.band, fp.arrival_time, fp.peak_offset, fp.coda_height, fp.coda_decay, fp.amp_transfer from  leb_origin lebo, sigvisa_coda_fit_phase fp, sigvisa_coda_fit fit where fp.fitid = fit.fitid and fp.coda_height > -10.000000 and fit.chan='BHZ' and fit.band='freq_2.0_3.0' and fit.sta='JHJ' and (fit.runid = 21) and (fp.phase = 'P')  and fit.azi between 0.000000 and 360.000000 and fit.evid=lebo.evid and lebo.mb between 0.000000 and 100.000000 and fit.dist between 0.000000 and 20000.000000  and fit.acost<200.000000\n",
        "sql done\n",
        "(0,)\n",
        "found no shape data matching query select distinct lebo.evid, lebo.mb, lebo.lon, lebo.lat, lebo.depth, fp.phase, fit.sta, fit.dist, fit.azi, fit.band, fp.arrival_time, fp.peak_offset, fp.coda_height, fp.coda_decay, fp.amp_transfer from  leb_origin lebo, sigvisa_coda_fit_phase fp, sigvisa_coda_fit fit where fp.fitid = fit.fitid and fp.coda_height > -10.000000 and fit.chan='BHZ' and fit.band='freq_2.0_3.0' and fit.sta='JHJ' and (fit.runid = 21) and (fp.phase = 'P')  and fit.azi between 0.000000 and 360.000000 and fit.evid=lebo.evid and lebo.mb between 0.000000 and 100.000000 and fit.dist between 0.000000 and 20000.000000  and fit.acost<200.000000\n",
        "AAK\n",
        "loading ['P'] fit data...  4 entries loaded\n",
        "MK31\n",
        "loading ['P'] fit data...  16 entries loaded\n",
        "VRAC"
       ]
      },
      {
       "output_type": "stream",
       "stream": "stdout",
       "text": [
        "\n",
        "loading ['P'] fit data...  15 entries loaded\n",
        "\n",
        "QSPA\n",
        "loading ['P'] fit data...  25 entries loaded\n",
        "GNI"
       ]
      },
      {
       "output_type": "stream",
       "stream": "stdout",
       "text": [
        "\n",
        "loading ['P'] fit data...  3 entries loaded\n",
        "EIL\n",
        "loading ['P'] fit data...  select distinct lebo.evid, lebo.mb, lebo.lon, lebo.lat, lebo.depth, fp.phase, fit.sta, fit.dist, fit.azi, fit.band, fp.arrival_time, fp.peak_offset, fp.coda_height, fp.coda_decay, fp.amp_transfer from  leb_origin lebo, sigvisa_coda_fit_phase fp, sigvisa_coda_fit fit where fp.fitid = fit.fitid and fp.coda_height > -10.000000 and fit.chan='BHZ' and fit.band='freq_2.0_3.0' and fit.sta='EIL' and (fit.runid = 21) and (fp.phase = 'P')  and fit.azi between 0.000000 and 360.000000 and fit.evid=lebo.evid and lebo.mb between 0.000000 and 100.000000 and fit.dist between 0.000000 and 20000.000000  and fit.acost<200.000000\n",
        "sql done\n",
        "(0,)\n",
        "found no shape data matching query select distinct lebo.evid, lebo.mb, lebo.lon, lebo.lat, lebo.depth, fp.phase, fit.sta, fit.dist, fit.azi, fit.band, fp.arrival_time, fp.peak_offset, fp.coda_height, fp.coda_decay, fp.amp_transfer from  leb_origin lebo, sigvisa_coda_fit_phase fp, sigvisa_coda_fit fit where fp.fitid = fit.fitid and fp.coda_height > -10.000000 and fit.chan='BHZ' and fit.band='freq_2.0_3.0' and fit.sta='EIL' and (fit.runid = 21) and (fp.phase = 'P')  and fit.azi between 0.000000 and 360.000000 and fit.evid=lebo.evid and lebo.mb between 0.000000 and 100.000000 and fit.dist between 0.000000 and 20000.000000  and fit.acost<200.000000\n",
        "TEIG\n",
        "loading ['P'] fit data...  2 entries loaded\n",
        "BVA0\n",
        "loading ['P'] fit data...  2 entries loaded\n",
        "RPZ"
       ]
      },
      {
       "output_type": "stream",
       "stream": "stdout",
       "text": [
        "\n",
        "loading ['P'] fit data...  5 entries loaded\n",
        "DBIC\n",
        "loading ['P'] fit data...  select distinct lebo.evid, lebo.mb, lebo.lon, lebo.lat, lebo.depth, fp.phase, fit.sta, fit.dist, fit.azi, fit.band, fp.arrival_time, fp.peak_offset, fp.coda_height, fp.coda_decay, fp.amp_transfer from  leb_origin lebo, sigvisa_coda_fit_phase fp, sigvisa_coda_fit fit where fp.fitid = fit.fitid and fp.coda_height > -10.000000 and fit.chan='BHZ' and fit.band='freq_2.0_3.0' and fit.sta='DBIC' and (fit.runid = 21) and (fp.phase = 'P')  and fit.azi between 0.000000 and 360.000000 and fit.evid=lebo.evid and lebo.mb between 0.000000 and 100.000000 and fit.dist between 0.000000 and 20000.000000  and fit.acost<200.000000\n",
        "sql done\n",
        "(0,)\n",
        "found no shape data matching query select distinct lebo.evid, lebo.mb, lebo.lon, lebo.lat, lebo.depth, fp.phase, fit.sta, fit.dist, fit.azi, fit.band, fp.arrival_time, fp.peak_offset, fp.coda_height, fp.coda_decay, fp.amp_transfer from  leb_origin lebo, sigvisa_coda_fit_phase fp, sigvisa_coda_fit fit where fp.fitid = fit.fitid and fp.coda_height > -10.000000 and fit.chan='BHZ' and fit.band='freq_2.0_3.0' and fit.sta='DBIC' and (fit.runid = 21) and (fp.phase = 'P')  and fit.azi between 0.000000 and 360.000000 and fit.evid=lebo.evid and lebo.mb between 0.000000 and 100.000000 and fit.dist between 0.000000 and 20000.000000  and fit.acost<200.000000\n",
        "DAV\n",
        "loading ['P'] fit data...  15 entries loaded\n",
        "\n",
        "LBTB\n",
        "loading ['P'] fit data...  select distinct lebo.evid, lebo.mb, lebo.lon, lebo.lat, lebo.depth, fp.phase, fit.sta, fit.dist, fit.azi, fit.band, fp.arrival_time, fp.peak_offset, fp.coda_height, fp.coda_decay, fp.amp_transfer from  leb_origin lebo, sigvisa_coda_fit_phase fp, sigvisa_coda_fit fit where fp.fitid = fit.fitid and fp.coda_height > -10.000000 and fit.chan='BHZ' and fit.band='freq_2.0_3.0' and fit.sta='LBTB' and (fit.runid = 21) and (fp.phase = 'P')  and fit.azi between 0.000000 and 360.000000 and fit.evid=lebo.evid and lebo.mb between 0.000000 and 100.000000 and fit.dist between 0.000000 and 20000.000000  and fit.acost<200.000000\n",
        "sql done\n",
        "(0,)\n",
        "found no shape data matching query select distinct lebo.evid, lebo.mb, lebo.lon, lebo.lat, lebo.depth, fp.phase, fit.sta, fit.dist, fit.azi, fit.band, fp.arrival_time, fp.peak_offset, fp.coda_height, fp.coda_decay, fp.amp_transfer from  leb_origin lebo, sigvisa_coda_fit_phase fp, sigvisa_coda_fit fit where fp.fitid = fit.fitid and fp.coda_height > -10.000000 and fit.chan='BHZ' and fit.band='freq_2.0_3.0' and fit.sta='LBTB' and (fit.runid = 21) and (fp.phase = 'P')  and fit.azi between 0.000000 and 360.000000 and fit.evid=lebo.evid and lebo.mb between 0.000000 and 100.000000 and fit.dist between 0.000000 and 20000.000000  and fit.acost<200.000000\n",
        "PPT\n",
        "loading ['P'] fit data...  select distinct lebo.evid, lebo.mb, lebo.lon, lebo.lat, lebo.depth, fp.phase, fit.sta, fit.dist, fit.azi, fit.band, fp.arrival_time, fp.peak_offset, fp.coda_height, fp.coda_decay, fp.amp_transfer from  leb_origin lebo, sigvisa_coda_fit_phase fp, sigvisa_coda_fit fit where fp.fitid = fit.fitid and fp.coda_height > -10.000000 and fit.chan='SHZ' and fit.band='freq_2.0_3.0' and fit.sta='PPT' and (fit.runid = 21) and (fp.phase = 'P')  and fit.azi between 0.000000 and 360.000000 and fit.evid=lebo.evid and lebo.mb between 0.000000 and 100.000000 and fit.dist between 0.000000 and 20000.000000  and fit.acost<200.000000\n",
        "sql done\n",
        "(0,)\n",
        "found no shape data matching query select distinct lebo.evid, lebo.mb, lebo.lon, lebo.lat, lebo.depth, fp.phase, fit.sta, fit.dist, fit.azi, fit.band, fp.arrival_time, fp.peak_offset, fp.coda_height, fp.coda_decay, fp.amp_transfer from  leb_origin lebo, sigvisa_coda_fit_phase fp, sigvisa_coda_fit fit where fp.fitid = fit.fitid and fp.coda_height > -10.000000 and fit.chan='SHZ' and fit.band='freq_2.0_3.0' and fit.sta='PPT' and (fit.runid = 21) and (fp.phase = 'P')  and fit.azi between 0.000000 and 360.000000 and fit.evid=lebo.evid and lebo.mb between 0.000000 and 100.000000 and fit.dist between 0.000000 and 20000.000000  and fit.acost<200.000000\n",
        "INK\n",
        "loading ['P'] fit data...  4 entries loaded\n",
        "SADO"
       ]
      },
      {
       "output_type": "stream",
       "stream": "stdout",
       "text": [
        "\n",
        "loading ['P'] fit data...  select distinct lebo.evid, lebo.mb, lebo.lon, lebo.lat, lebo.depth, fp.phase, fit.sta, fit.dist, fit.azi, fit.band, fp.arrival_time, fp.peak_offset, fp.coda_height, fp.coda_decay, fp.amp_transfer from  leb_origin lebo, sigvisa_coda_fit_phase fp, sigvisa_coda_fit fit where fp.fitid = fit.fitid and fp.coda_height > -10.000000 and fit.chan='BHZ' and fit.band='freq_2.0_3.0' and fit.sta='SADO' and (fit.runid = 21) and (fp.phase = 'P')  and fit.azi between 0.000000 and 360.000000 and fit.evid=lebo.evid and lebo.mb between 0.000000 and 100.000000 and fit.dist between 0.000000 and 20000.000000  and fit.acost<200.000000\n",
        "sql done\n",
        "(0,)\n",
        "found no shape data matching query select distinct lebo.evid, lebo.mb, lebo.lon, lebo.lat, lebo.depth, fp.phase, fit.sta, fit.dist, fit.azi, fit.band, fp.arrival_time, fp.peak_offset, fp.coda_height, fp.coda_decay, fp.amp_transfer from  leb_origin lebo, sigvisa_coda_fit_phase fp, sigvisa_coda_fit fit where fp.fitid = fit.fitid and fp.coda_height > -10.000000 and fit.chan='BHZ' and fit.band='freq_2.0_3.0' and fit.sta='SADO' and (fit.runid = 21) and (fp.phase = 'P')  and fit.azi between 0.000000 and 360.000000 and fit.evid=lebo.evid and lebo.mb between 0.000000 and 100.000000 and fit.dist between 0.000000 and 20000.000000  and fit.acost<200.000000\n",
        "MLR\n",
        "loading ['P'] fit data...  select distinct lebo.evid, lebo.mb, lebo.lon, lebo.lat, lebo.depth, fp.phase, fit.sta, fit.dist, fit.azi, fit.band, fp.arrival_time, fp.peak_offset, fp.coda_height, fp.coda_decay, fp.amp_transfer from  leb_origin lebo, sigvisa_coda_fit_phase fp, sigvisa_coda_fit fit where fp.fitid = fit.fitid and fp.coda_height > -10.000000 and fit.chan='BHZ' and fit.band='freq_2.0_3.0' and fit.sta='MLR' and (fit.runid = 21) and (fp.phase = 'P')  and fit.azi between 0.000000 and 360.000000 and fit.evid=lebo.evid and lebo.mb between 0.000000 and 100.000000 and fit.dist between 0.000000 and 20000.000000  and fit.acost<200.000000\n",
        "sql done\n",
        "(0,)\n",
        "found no shape data matching query select distinct lebo.evid, lebo.mb, lebo.lon, lebo.lat, lebo.depth, fp.phase, fit.sta, fit.dist, fit.azi, fit.band, fp.arrival_time, fp.peak_offset, fp.coda_height, fp.coda_decay, fp.amp_transfer from  leb_origin lebo, sigvisa_coda_fit_phase fp, sigvisa_coda_fit fit where fp.fitid = fit.fitid and fp.coda_height > -10.000000 and fit.chan='BHZ' and fit.band='freq_2.0_3.0' and fit.sta='MLR' and (fit.runid = 21) and (fp.phase = 'P')  and fit.azi between 0.000000 and 360.000000 and fit.evid=lebo.evid and lebo.mb between 0.000000 and 100.000000 and fit.dist between 0.000000 and 20000.000000  and fit.acost<200.000000\n",
        "LVC\n",
        "loading ['P'] fit data...  select distinct lebo.evid, lebo.mb, lebo.lon, lebo.lat, lebo.depth, fp.phase, fit.sta, fit.dist, fit.azi, fit.band, fp.arrival_time, fp.peak_offset, fp.coda_height, fp.coda_decay, fp.amp_transfer from  leb_origin lebo, sigvisa_coda_fit_phase fp, sigvisa_coda_fit fit where fp.fitid = fit.fitid and fp.coda_height > -10.000000 and fit.chan='BHZ' and fit.band='freq_2.0_3.0' and fit.sta='LVC' and (fit.runid = 21) and (fp.phase = 'P')  and fit.azi between 0.000000 and 360.000000 and fit.evid=lebo.evid and lebo.mb between 0.000000 and 100.000000 and fit.dist between 0.000000 and 20000.000000  and fit.acost<200.000000\n",
        "sql done\n",
        "(0,)\n",
        "found no shape data matching query select distinct lebo.evid, lebo.mb, lebo.lon, lebo.lat, lebo.depth, fp.phase, fit.sta, fit.dist, fit.azi, fit.band, fp.arrival_time, fp.peak_offset, fp.coda_height, fp.coda_decay, fp.amp_transfer from  leb_origin lebo, sigvisa_coda_fit_phase fp, sigvisa_coda_fit fit where fp.fitid = fit.fitid and fp.coda_height > -10.000000 and fit.chan='BHZ' and fit.band='freq_2.0_3.0' and fit.sta='LVC' and (fit.runid = 21) and (fp.phase = 'P')  and fit.azi between 0.000000 and 360.000000 and fit.evid=lebo.evid and lebo.mb between 0.000000 and 100.000000 and fit.dist between 0.000000 and 20000.000000  and fit.acost<200.000000\n",
        "IL31\n",
        "loading ['P'] fit data...  2 entries loaded\n",
        "KS31"
       ]
      },
      {
       "output_type": "stream",
       "stream": "stdout",
       "text": [
        "\n",
        "loading ['P'] fit data...  19 entries loaded\n",
        "JCJ"
       ]
      },
      {
       "output_type": "stream",
       "stream": "stdout",
       "text": [
        "\n",
        "loading ['P'] fit data...  3 entries loaded\n",
        "USHA\n",
        "loading ['P'] fit data...  select distinct lebo.evid, lebo.mb, lebo.lon, lebo.lat, lebo.depth, fp.phase, fit.sta, fit.dist, fit.azi, fit.band, fp.arrival_time, fp.peak_offset, fp.coda_height, fp.coda_decay, fp.amp_transfer from  leb_origin lebo, sigvisa_coda_fit_phase fp, sigvisa_coda_fit fit where fp.fitid = fit.fitid and fp.coda_height > -10.000000 and fit.chan='BHZ' and fit.band='freq_2.0_3.0' and fit.sta='USHA' and (fit.runid = 21) and (fp.phase = 'P')  and fit.azi between 0.000000 and 360.000000 and fit.evid=lebo.evid and lebo.mb between 0.000000 and 100.000000 and fit.dist between 0.000000 and 20000.000000  and fit.acost<200.000000\n",
        "sql done\n",
        "(0,)\n",
        "found no shape data matching query select distinct lebo.evid, lebo.mb, lebo.lon, lebo.lat, lebo.depth, fp.phase, fit.sta, fit.dist, fit.azi, fit.band, fp.arrival_time, fp.peak_offset, fp.coda_height, fp.coda_decay, fp.amp_transfer from  leb_origin lebo, sigvisa_coda_fit_phase fp, sigvisa_coda_fit fit where fp.fitid = fit.fitid and fp.coda_height > -10.000000 and fit.chan='BHZ' and fit.band='freq_2.0_3.0' and fit.sta='USHA' and (fit.runid = 21) and (fp.phase = 'P')  and fit.azi between 0.000000 and 360.000000 and fit.evid=lebo.evid and lebo.mb between 0.000000 and 100.000000 and fit.dist between 0.000000 and 20000.000000  and fit.acost<200.000000\n",
        "USA0\n",
        "loading ['P'] fit data...  select distinct lebo.evid, lebo.mb, lebo.lon, lebo.lat, lebo.depth, fp.phase, fit.sta, fit.dist, fit.azi, fit.band, fp.arrival_time, fp.peak_offset, fp.coda_height, fp.coda_decay, fp.amp_transfer from  leb_origin lebo, sigvisa_coda_fit_phase fp, sigvisa_coda_fit fit where fp.fitid = fit.fitid and fp.coda_height > -10.000000 and fit.chan='SHZ' and fit.band='freq_2.0_3.0' and fit.sta='USA0' and (fit.runid = 21) and (fp.phase = 'P')  and fit.azi between 0.000000 and 360.000000 and fit.evid=lebo.evid and lebo.mb between 0.000000 and 100.000000 and fit.dist between 0.000000 and 20000.000000  and fit.acost<200.000000\n",
        "sql done\n",
        "(0,)\n",
        "found no shape data matching query select distinct lebo.evid, lebo.mb, lebo.lon, lebo.lat, lebo.depth, fp.phase, fit.sta, fit.dist, fit.azi, fit.band, fp.arrival_time, fp.peak_offset, fp.coda_height, fp.coda_decay, fp.amp_transfer from  leb_origin lebo, sigvisa_coda_fit_phase fp, sigvisa_coda_fit fit where fp.fitid = fit.fitid and fp.coda_height > -10.000000 and fit.chan='SHZ' and fit.band='freq_2.0_3.0' and fit.sta='USA0' and (fit.runid = 21) and (fp.phase = 'P')  and fit.azi between 0.000000 and 360.000000 and fit.evid=lebo.evid and lebo.mb between 0.000000 and 100.000000 and fit.dist between 0.000000 and 20000.000000  and fit.acost<200.000000\n",
        "MMA0\n",
        "loading ['P'] fit data...  select distinct lebo.evid, lebo.mb, lebo.lon, lebo.lat, lebo.depth, fp.phase, fit.sta, fit.dist, fit.azi, fit.band, fp.arrival_time, fp.peak_offset, fp.coda_height, fp.coda_decay, fp.amp_transfer from  leb_origin lebo, sigvisa_coda_fit_phase fp, sigvisa_coda_fit fit where fp.fitid = fit.fitid and fp.coda_height > -10.000000 and fit.chan='BHZ' and fit.band='freq_2.0_3.0' and fit.sta='MMA0' and (fit.runid = 21) and (fp.phase = 'P')  and fit.azi between 0.000000 and 360.000000 and fit.evid=lebo.evid and lebo.mb between 0.000000 and 100.000000 and fit.dist between 0.000000 and 20000.000000  and fit.acost<200.000000\n",
        "sql done\n",
        "(0,)\n",
        "found no shape data matching query select distinct lebo.evid, lebo.mb, lebo.lon, lebo.lat, lebo.depth, fp.phase, fit.sta, fit.dist, fit.azi, fit.band, fp.arrival_time, fp.peak_offset, fp.coda_height, fp.coda_decay, fp.amp_transfer from  leb_origin lebo, sigvisa_coda_fit_phase fp, sigvisa_coda_fit fit where fp.fitid = fit.fitid and fp.coda_height > -10.000000 and fit.chan='BHZ' and fit.band='freq_2.0_3.0' and fit.sta='MMA0' and (fit.runid = 21) and (fp.phase = 'P')  and fit.azi between 0.000000 and 360.000000 and fit.evid=lebo.evid and lebo.mb between 0.000000 and 100.000000 and fit.dist between 0.000000 and 20000.000000  and fit.acost<200.000000\n",
        "NWAO\n",
        "loading ['P'] fit data...  3 entries loaded\n",
        "PFO"
       ]
      },
      {
       "output_type": "stream",
       "stream": "stdout",
       "text": [
        "\n",
        "loading ['P'] fit data...  select distinct lebo.evid, lebo.mb, lebo.lon, lebo.lat, lebo.depth, fp.phase, fit.sta, fit.dist, fit.azi, fit.band, fp.arrival_time, fp.peak_offset, fp.coda_height, fp.coda_decay, fp.amp_transfer from  leb_origin lebo, sigvisa_coda_fit_phase fp, sigvisa_coda_fit fit where fp.fitid = fit.fitid and fp.coda_height > -10.000000 and fit.chan='BHZ' and fit.band='freq_2.0_3.0' and fit.sta='PFO' and (fit.runid = 21) and (fp.phase = 'P')  and fit.azi between 0.000000 and 360.000000 and fit.evid=lebo.evid and lebo.mb between 0.000000 and 100.000000 and fit.dist between 0.000000 and 20000.000000  and fit.acost<200.000000\n",
        "sql done\n",
        "(0,)\n",
        "found no shape data matching query select distinct lebo.evid, lebo.mb, lebo.lon, lebo.lat, lebo.depth, fp.phase, fit.sta, fit.dist, fit.azi, fit.band, fp.arrival_time, fp.peak_offset, fp.coda_height, fp.coda_decay, fp.amp_transfer from  leb_origin lebo, sigvisa_coda_fit_phase fp, sigvisa_coda_fit fit where fp.fitid = fit.fitid and fp.coda_height > -10.000000 and fit.chan='BHZ' and fit.band='freq_2.0_3.0' and fit.sta='PFO' and (fit.runid = 21) and (fp.phase = 'P')  and fit.azi between 0.000000 and 360.000000 and fit.evid=lebo.evid and lebo.mb between 0.000000 and 100.000000 and fit.dist between 0.000000 and 20000.000000  and fit.acost<200.000000\n",
        "KURBB\n",
        "loading ['P'] fit data...  8 entries loaded\n",
        "TGY"
       ]
      },
      {
       "output_type": "stream",
       "stream": "stdout",
       "text": [
        "\n",
        "loading ['P'] fit data...  5 entries loaded\n",
        "CM16\n",
        "loading ['P'] fit data...  54 entries loaded\n",
        "BDFB"
       ]
      },
      {
       "output_type": "stream",
       "stream": "stdout",
       "text": [
        "\n",
        "loading ['P'] fit data...  2 entries loaded\n",
        "DAVOX\n",
        "loading ['P'] fit data...  15 entries loaded\n",
        "\n",
        "DZM\n",
        "loading ['P'] fit data...  8 entries loaded\n",
        "BORG"
       ]
      },
      {
       "output_type": "stream",
       "stream": "stdout",
       "text": [
        "\n",
        "loading ['P'] fit data...  select distinct lebo.evid, lebo.mb, lebo.lon, lebo.lat, lebo.depth, fp.phase, fit.sta, fit.dist, fit.azi, fit.band, fp.arrival_time, fp.peak_offset, fp.coda_height, fp.coda_decay, fp.amp_transfer from  leb_origin lebo, sigvisa_coda_fit_phase fp, sigvisa_coda_fit fit where fp.fitid = fit.fitid and fp.coda_height > -10.000000 and fit.chan='BHZ' and fit.band='freq_2.0_3.0' and fit.sta='BORG' and (fit.runid = 21) and (fp.phase = 'P')  and fit.azi between 0.000000 and 360.000000 and fit.evid=lebo.evid and lebo.mb between 0.000000 and 100.000000 and fit.dist between 0.000000 and 20000.000000  and fit.acost<200.000000\n",
        "sql done\n",
        "(0,)\n",
        "found no shape data matching query select distinct lebo.evid, lebo.mb, lebo.lon, lebo.lat, lebo.depth, fp.phase, fit.sta, fit.dist, fit.azi, fit.band, fp.arrival_time, fp.peak_offset, fp.coda_height, fp.coda_decay, fp.amp_transfer from  leb_origin lebo, sigvisa_coda_fit_phase fp, sigvisa_coda_fit fit where fp.fitid = fit.fitid and fp.coda_height > -10.000000 and fit.chan='BHZ' and fit.band='freq_2.0_3.0' and fit.sta='BORG' and (fit.runid = 21) and (fp.phase = 'P')  and fit.azi between 0.000000 and 360.000000 and fit.evid=lebo.evid and lebo.mb between 0.000000 and 100.000000 and fit.dist between 0.000000 and 20000.000000  and fit.acost<200.000000\n",
        "SIV\n",
        "loading ['P'] fit data...  11 entries loaded\n",
        "STKA"
       ]
      },
      {
       "output_type": "stream",
       "stream": "stdout",
       "text": [
        "\n",
        "loading ['P'] fit data...  22 entries loaded\n",
        "VNDA"
       ]
      },
      {
       "output_type": "stream",
       "stream": "stdout",
       "text": [
        "\n",
        "loading ['P'] fit data...  5 entries loaded\n",
        "PMSA"
       ]
      },
      {
       "output_type": "stream",
       "stream": "stdout",
       "text": [
        "\n",
        "loading ['P'] fit data...  15 entries loaded\n",
        "\n",
        "NNA\n",
        "loading ['P'] fit data...  15 entries loaded\n",
        "\n",
        "RAR\n",
        "loading ['P'] fit data...  15 entries loaded\n",
        "\n",
        "AS12\n",
        "loading ['P'] fit data...  47 entries loaded\n",
        "LPAZ"
       ]
      },
      {
       "output_type": "stream",
       "stream": "stdout",
       "text": [
        "\n",
        "loading ['P'] fit data...  6 entries loaded\n",
        "SONA0"
       ]
      },
      {
       "output_type": "stream",
       "stream": "stdout",
       "text": [
        "\n",
        "loading ['P'] fit data...  4 entries loaded\n",
        "ATAH"
       ]
      },
      {
       "output_type": "stream",
       "stream": "stdout",
       "text": [
        "\n",
        "loading ['P'] fit data...  select distinct lebo.evid, lebo.mb, lebo.lon, lebo.lat, lebo.depth, fp.phase, fit.sta, fit.dist, fit.azi, fit.band, fp.arrival_time, fp.peak_offset, fp.coda_height, fp.coda_decay, fp.amp_transfer from  leb_origin lebo, sigvisa_coda_fit_phase fp, sigvisa_coda_fit fit where fp.fitid = fit.fitid and fp.coda_height > -10.000000 and fit.chan='BHZ' and fit.band='freq_2.0_3.0' and fit.sta='ATAH' and (fit.runid = 21) and (fp.phase = 'P')  and fit.azi between 0.000000 and 360.000000 and fit.evid=lebo.evid and lebo.mb between 0.000000 and 100.000000 and fit.dist between 0.000000 and 20000.000000  and fit.acost<200.000000\n",
        "sql done\n",
        "(0,)\n",
        "found no shape data matching query select distinct lebo.evid, lebo.mb, lebo.lon, lebo.lat, lebo.depth, fp.phase, fit.sta, fit.dist, fit.azi, fit.band, fp.arrival_time, fp.peak_offset, fp.coda_height, fp.coda_decay, fp.amp_transfer from  leb_origin lebo, sigvisa_coda_fit_phase fp, sigvisa_coda_fit fit where fp.fitid = fit.fitid and fp.coda_height > -10.000000 and fit.chan='BHZ' and fit.band='freq_2.0_3.0' and fit.sta='ATAH' and (fit.runid = 21) and (fp.phase = 'P')  and fit.azi between 0.000000 and 360.000000 and fit.evid=lebo.evid and lebo.mb between 0.000000 and 100.000000 and fit.dist between 0.000000 and 20000.000000  and fit.acost<200.000000\n",
        "RCBR\n",
        "loading ['P'] fit data...  select distinct lebo.evid, lebo.mb, lebo.lon, lebo.lat, lebo.depth, fp.phase, fit.sta, fit.dist, fit.azi, fit.band, fp.arrival_time, fp.peak_offset, fp.coda_height, fp.coda_decay, fp.amp_transfer from  leb_origin lebo, sigvisa_coda_fit_phase fp, sigvisa_coda_fit fit where fp.fitid = fit.fitid and fp.coda_height > -10.000000 and fit.chan='BHZ' and fit.band='freq_2.0_3.0' and fit.sta='RCBR' and (fit.runid = 21) and (fp.phase = 'P')  and fit.azi between 0.000000 and 360.000000 and fit.evid=lebo.evid and lebo.mb between 0.000000 and 100.000000 and fit.dist between 0.000000 and 20000.000000  and fit.acost<200.000000\n",
        "sql done\n",
        "(0,)\n",
        "found no shape data matching query select distinct lebo.evid, lebo.mb, lebo.lon, lebo.lat, lebo.depth, fp.phase, fit.sta, fit.dist, fit.azi, fit.band, fp.arrival_time, fp.peak_offset, fp.coda_height, fp.coda_decay, fp.amp_transfer from  leb_origin lebo, sigvisa_coda_fit_phase fp, sigvisa_coda_fit fit where fp.fitid = fit.fitid and fp.coda_height > -10.000000 and fit.chan='BHZ' and fit.band='freq_2.0_3.0' and fit.sta='RCBR' and (fit.runid = 21) and (fp.phase = 'P')  and fit.azi between 0.000000 and 360.000000 and fit.evid=lebo.evid and lebo.mb between 0.000000 and 100.000000 and fit.dist between 0.000000 and 20000.000000  and fit.acost<200.000000\n",
        "FITZ\n",
        "loading ['P'] fit data...  22 entries loaded\n",
        "JMIC"
       ]
      },
      {
       "output_type": "stream",
       "stream": "stdout",
       "text": [
        "\n",
        "loading ['P'] fit data...  select distinct lebo.evid, lebo.mb, lebo.lon, lebo.lat, lebo.depth, fp.phase, fit.sta, fit.dist, fit.azi, fit.band, fp.arrival_time, fp.peak_offset, fp.coda_height, fp.coda_decay, fp.amp_transfer from  leb_origin lebo, sigvisa_coda_fit_phase fp, sigvisa_coda_fit fit where fp.fitid = fit.fitid and fp.coda_height > -10.000000 and fit.chan='BHZ' and fit.band='freq_2.0_3.0' and fit.sta='JMIC' and (fit.runid = 21) and (fp.phase = 'P')  and fit.azi between 0.000000 and 360.000000 and fit.evid=lebo.evid and lebo.mb between 0.000000 and 100.000000 and fit.dist between 0.000000 and 20000.000000  and fit.acost<200.000000\n",
        "sql done\n",
        "(0,)\n",
        "found no shape data matching query select distinct lebo.evid, lebo.mb, lebo.lon, lebo.lat, lebo.depth, fp.phase, fit.sta, fit.dist, fit.azi, fit.band, fp.arrival_time, fp.peak_offset, fp.coda_height, fp.coda_decay, fp.amp_transfer from  leb_origin lebo, sigvisa_coda_fit_phase fp, sigvisa_coda_fit fit where fp.fitid = fit.fitid and fp.coda_height > -10.000000 and fit.chan='BHZ' and fit.band='freq_2.0_3.0' and fit.sta='JMIC' and (fit.runid = 21) and (fp.phase = 'P')  and fit.azi between 0.000000 and 360.000000 and fit.evid=lebo.evid and lebo.mb between 0.000000 and 100.000000 and fit.dist between 0.000000 and 20000.000000  and fit.acost<200.000000\n",
        "BOSA\n",
        "loading ['P'] fit data...  select distinct lebo.evid, lebo.mb, lebo.lon, lebo.lat, lebo.depth, fp.phase, fit.sta, fit.dist, fit.azi, fit.band, fp.arrival_time, fp.peak_offset, fp.coda_height, fp.coda_decay, fp.amp_transfer from  leb_origin lebo, sigvisa_coda_fit_phase fp, sigvisa_coda_fit fit where fp.fitid = fit.fitid and fp.coda_height > -10.000000 and fit.chan='BHZ' and fit.band='freq_2.0_3.0' and fit.sta='BOSA' and (fit.runid = 21) and (fp.phase = 'P')  and fit.azi between 0.000000 and 360.000000 and fit.evid=lebo.evid and lebo.mb between 0.000000 and 100.000000 and fit.dist between 0.000000 and 20000.000000  and fit.acost<200.000000\n",
        "sql done\n",
        "(0,)\n",
        "found no shape data matching query select distinct lebo.evid, lebo.mb, lebo.lon, lebo.lat, lebo.depth, fp.phase, fit.sta, fit.dist, fit.azi, fit.band, fp.arrival_time, fp.peak_offset, fp.coda_height, fp.coda_decay, fp.amp_transfer from  leb_origin lebo, sigvisa_coda_fit_phase fp, sigvisa_coda_fit fit where fp.fitid = fit.fitid and fp.coda_height > -10.000000 and fit.chan='BHZ' and fit.band='freq_2.0_3.0' and fit.sta='BOSA' and (fit.runid = 21) and (fp.phase = 'P')  and fit.azi between 0.000000 and 360.000000 and fit.evid=lebo.evid and lebo.mb between 0.000000 and 100.000000 and fit.dist between 0.000000 and 20000.000000  and fit.acost<200.000000\n",
        "URZ\n",
        "loading ['P'] fit data...  6 entries loaded\n",
        "BBTS"
       ]
      },
      {
       "output_type": "stream",
       "stream": "stdout",
       "text": [
        "\n",
        "loading ['P'] fit data...  15 entries loaded\n",
        "\n",
        "PLCA\n",
        "loading ['P'] fit data...  2 entries loaded\n",
        "ARA0"
       ]
      },
      {
       "output_type": "stream",
       "stream": "stdout",
       "text": [
        "\n",
        "loading ['P'] fit data...  select distinct lebo.evid, lebo.mb, lebo.lon, lebo.lat, lebo.depth, fp.phase, fit.sta, fit.dist, fit.azi, fit.band, fp.arrival_time, fp.peak_offset, fp.coda_height, fp.coda_decay, fp.amp_transfer from  leb_origin lebo, sigvisa_coda_fit_phase fp, sigvisa_coda_fit fit where fp.fitid = fit.fitid and fp.coda_height > -10.000000 and fit.chan='sz' and fit.band='freq_2.0_3.0' and fit.sta='ARA0' and (fit.runid = 21) and (fp.phase = 'P')  and fit.azi between 0.000000 and 360.000000 and fit.evid=lebo.evid and lebo.mb between 0.000000 and 100.000000 and fit.dist between 0.000000 and 20000.000000  and fit.acost<200.000000\n",
        "sql done\n",
        "(0,)\n",
        "found no shape data matching query select distinct lebo.evid, lebo.mb, lebo.lon, lebo.lat, lebo.depth, fp.phase, fit.sta, fit.dist, fit.azi, fit.band, fp.arrival_time, fp.peak_offset, fp.coda_height, fp.coda_decay, fp.amp_transfer from  leb_origin lebo, sigvisa_coda_fit_phase fp, sigvisa_coda_fit fit where fp.fitid = fit.fitid and fp.coda_height > -10.000000 and fit.chan='sz' and fit.band='freq_2.0_3.0' and fit.sta='ARA0' and (fit.runid = 21) and (fp.phase = 'P')  and fit.azi between 0.000000 and 360.000000 and fit.evid=lebo.evid and lebo.mb between 0.000000 and 100.000000 and fit.dist between 0.000000 and 20000.000000  and fit.acost<200.000000\n",
        "JNU\n",
        "loading ['P'] fit data...  3 entries loaded\n",
        "MAW"
       ]
      },
      {
       "output_type": "stream",
       "stream": "stdout",
       "text": [
        "\n",
        "loading ['P'] fit data...  select distinct lebo.evid, lebo.mb, lebo.lon, lebo.lat, lebo.depth, fp.phase, fit.sta, fit.dist, fit.azi, fit.band, fp.arrival_time, fp.peak_offset, fp.coda_height, fp.coda_decay, fp.amp_transfer from  leb_origin lebo, sigvisa_coda_fit_phase fp, sigvisa_coda_fit fit where fp.fitid = fit.fitid and fp.coda_height > -10.000000 and fit.chan='BHZ' and fit.band='freq_2.0_3.0' and fit.sta='MAW' and (fit.runid = 21) and (fp.phase = 'P')  and fit.azi between 0.000000 and 360.000000 and fit.evid=lebo.evid and lebo.mb between 0.000000 and 100.000000 and fit.dist between 0.000000 and 20000.000000  and fit.acost<200.000000\n",
        "sql done\n",
        "(0,)\n",
        "found no shape data matching query select distinct lebo.evid, lebo.mb, lebo.lon, lebo.lat, lebo.depth, fp.phase, fit.sta, fit.dist, fit.azi, fit.band, fp.arrival_time, fp.peak_offset, fp.coda_height, fp.coda_decay, fp.amp_transfer from  leb_origin lebo, sigvisa_coda_fit_phase fp, sigvisa_coda_fit fit where fp.fitid = fit.fitid and fp.coda_height > -10.000000 and fit.chan='BHZ' and fit.band='freq_2.0_3.0' and fit.sta='MAW' and (fit.runid = 21) and (fp.phase = 'P')  and fit.azi between 0.000000 and 360.000000 and fit.evid=lebo.evid and lebo.mb between 0.000000 and 100.000000 and fit.dist between 0.000000 and 20000.000000  and fit.acost<200.000000\n",
        "SNAA\n",
        "loading ['P'] fit data...  2 entries loaded\n",
        "KEST"
       ]
      },
      {
       "output_type": "stream",
       "stream": "stdout",
       "text": [
        "\n",
        "loading ['P'] fit data...  select distinct lebo.evid, lebo.mb, lebo.lon, lebo.lat, lebo.depth, fp.phase, fit.sta, fit.dist, fit.azi, fit.band, fp.arrival_time, fp.peak_offset, fp.coda_height, fp.coda_decay, fp.amp_transfer from  leb_origin lebo, sigvisa_coda_fit_phase fp, sigvisa_coda_fit fit where fp.fitid = fit.fitid and fp.coda_height > -10.000000 and fit.chan='BHZ' and fit.band='freq_2.0_3.0' and fit.sta='KEST' and (fit.runid = 21) and (fp.phase = 'P')  and fit.azi between 0.000000 and 360.000000 and fit.evid=lebo.evid and lebo.mb between 0.000000 and 100.000000 and fit.dist between 0.000000 and 20000.000000  and fit.acost<200.000000\n",
        "sql done\n",
        "(0,)\n",
        "found no shape data matching query select distinct lebo.evid, lebo.mb, lebo.lon, lebo.lat, lebo.depth, fp.phase, fit.sta, fit.dist, fit.azi, fit.band, fp.arrival_time, fp.peak_offset, fp.coda_height, fp.coda_decay, fp.amp_transfer from  leb_origin lebo, sigvisa_coda_fit_phase fp, sigvisa_coda_fit fit where fp.fitid = fit.fitid and fp.coda_height > -10.000000 and fit.chan='BHZ' and fit.band='freq_2.0_3.0' and fit.sta='KEST' and (fit.runid = 21) and (fp.phase = 'P')  and fit.azi between 0.000000 and 360.000000 and fit.evid=lebo.evid and lebo.mb between 0.000000 and 100.000000 and fit.dist between 0.000000 and 20000.000000  and fit.acost<200.000000\n",
        "ROSC\n",
        "loading ['P'] fit data...  2 entries loaded\n",
        "ZAA0"
       ]
      },
      {
       "output_type": "stream",
       "stream": "stdout",
       "text": [
        "\n",
        "loading ['P'] fit data...  3 entries loaded\n",
        "SUR"
       ]
      },
      {
       "output_type": "stream",
       "stream": "stdout",
       "text": [
        "\n",
        "loading ['P'] fit data...  15 entries loaded\n",
        "\n",
        "CFAA\n",
        "loading ['P'] fit data...  15 entries loaded\n",
        "\n",
        "CMIG\n",
        "loading ['P'] fit data...  select distinct lebo.evid, lebo.mb, lebo.lon, lebo.lat, lebo.depth, fp.phase, fit.sta, fit.dist, fit.azi, fit.band, fp.arrival_time, fp.peak_offset, fp.coda_height, fp.coda_decay, fp.amp_transfer from  leb_origin lebo, sigvisa_coda_fit_phase fp, sigvisa_coda_fit fit where fp.fitid = fit.fitid and fp.coda_height > -10.000000 and fit.chan='BHZ' and fit.band='freq_2.0_3.0' and fit.sta='CMIG' and (fit.runid = 21) and (fp.phase = 'P')  and fit.azi between 0.000000 and 360.000000 and fit.evid=lebo.evid and lebo.mb between 0.000000 and 100.000000 and fit.dist between 0.000000 and 20000.000000  and fit.acost<200.000000\n",
        "sql done\n",
        "(0,)\n",
        "found no shape data matching query select distinct lebo.evid, lebo.mb, lebo.lon, lebo.lat, lebo.depth, fp.phase, fit.sta, fit.dist, fit.azi, fit.band, fp.arrival_time, fp.peak_offset, fp.coda_height, fp.coda_decay, fp.amp_transfer from  leb_origin lebo, sigvisa_coda_fit_phase fp, sigvisa_coda_fit fit where fp.fitid = fit.fitid and fp.coda_height > -10.000000 and fit.chan='BHZ' and fit.band='freq_2.0_3.0' and fit.sta='CMIG' and (fit.runid = 21) and (fp.phase = 'P')  and fit.azi between 0.000000 and 360.000000 and fit.evid=lebo.evid and lebo.mb between 0.000000 and 100.000000 and fit.dist between 0.000000 and 20000.000000  and fit.acost<200.000000\n",
        "YBH\n",
        "loading ['P'] fit data...  7 entries loaded\n",
        "AKTO"
       ]
      },
      {
       "output_type": "stream",
       "stream": "stdout",
       "text": [
        "\n",
        "loading ['P'] fit data...  5 entries loaded\n",
        "TKL"
       ]
      },
      {
       "output_type": "stream",
       "stream": "stdout",
       "text": [
        "\n",
        "loading ['P'] fit data...  2 entries loaded\n",
        "GUMO"
       ]
      },
      {
       "output_type": "stream",
       "stream": "stdout",
       "text": [
        "\n",
        "loading ['P'] fit data...  5 entries loaded\n",
        "KBZ"
       ]
      },
      {
       "output_type": "stream",
       "stream": "stdout",
       "text": [
        "\n",
        "loading ['P'] fit data...  15 entries loaded\n",
        "\n",
        "NV01\n",
        "loading ['P'] fit data...  select distinct lebo.evid, lebo.mb, lebo.lon, lebo.lat, lebo.depth, fp.phase, fit.sta, fit.dist, fit.azi, fit.band, fp.arrival_time, fp.peak_offset, fp.coda_height, fp.coda_decay, fp.amp_transfer from  leb_origin lebo, sigvisa_coda_fit_phase fp, sigvisa_coda_fit fit where fp.fitid = fit.fitid and fp.coda_height > -10.000000 and fit.chan='sz' and fit.band='freq_2.0_3.0' and fit.sta='NV01' and (fit.runid = 21) and (fp.phase = 'P')  and fit.azi between 0.000000 and 360.000000 and fit.evid=lebo.evid and lebo.mb between 0.000000 and 100.000000 and fit.dist between 0.000000 and 20000.000000  and fit.acost<200.000000\n",
        "sql done\n",
        "(0,)\n",
        "found no shape data matching query select distinct lebo.evid, lebo.mb, lebo.lon, lebo.lat, lebo.depth, fp.phase, fit.sta, fit.dist, fit.azi, fit.band, fp.arrival_time, fp.peak_offset, fp.coda_height, fp.coda_decay, fp.amp_transfer from  leb_origin lebo, sigvisa_coda_fit_phase fp, sigvisa_coda_fit fit where fp.fitid = fit.fitid and fp.coda_height > -10.000000 and fit.chan='sz' and fit.band='freq_2.0_3.0' and fit.sta='NV01' and (fit.runid = 21) and (fp.phase = 'P')  and fit.azi between 0.000000 and 360.000000 and fit.evid=lebo.evid and lebo.mb between 0.000000 and 100.000000 and fit.dist between 0.000000 and 20000.000000  and fit.acost<200.000000\n",
        "LSZ\n",
        "loading ['P'] fit data...  select distinct lebo.evid, lebo.mb, lebo.lon, lebo.lat, lebo.depth, fp.phase, fit.sta, fit.dist, fit.azi, fit.band, fp.arrival_time, fp.peak_offset, fp.coda_height, fp.coda_decay, fp.amp_transfer from  leb_origin lebo, sigvisa_coda_fit_phase fp, sigvisa_coda_fit fit where fp.fitid = fit.fitid and fp.coda_height > -10.000000 and fit.chan='BHZ' and fit.band='freq_2.0_3.0' and fit.sta='LSZ' and (fit.runid = 21) and (fp.phase = 'P')  and fit.azi between 0.000000 and 360.000000 and fit.evid=lebo.evid and lebo.mb between 0.000000 and 100.000000 and fit.dist between 0.000000 and 20000.000000  and fit.acost<200.000000\n",
        "sql done\n",
        "(0,)\n",
        "found no shape data matching query select distinct lebo.evid, lebo.mb, lebo.lon, lebo.lat, lebo.depth, fp.phase, fit.sta, fit.dist, fit.azi, fit.band, fp.arrival_time, fp.peak_offset, fp.coda_height, fp.coda_decay, fp.amp_transfer from  leb_origin lebo, sigvisa_coda_fit_phase fp, sigvisa_coda_fit fit where fp.fitid = fit.fitid and fp.coda_height > -10.000000 and fit.chan='BHZ' and fit.band='freq_2.0_3.0' and fit.sta='LSZ' and (fit.runid = 21) and (fp.phase = 'P')  and fit.azi between 0.000000 and 360.000000 and fit.evid=lebo.evid and lebo.mb between 0.000000 and 100.000000 and fit.dist between 0.000000 and 20000.000000  and fit.acost<200.000000\n",
        "FIA0\n",
        "loading ['P'] fit data...  select distinct lebo.evid, lebo.mb, lebo.lon, lebo.lat, lebo.depth, fp.phase, fit.sta, fit.dist, fit.azi, fit.band, fp.arrival_time, fp.peak_offset, fp.coda_height, fp.coda_decay, fp.amp_transfer from  leb_origin lebo, sigvisa_coda_fit_phase fp, sigvisa_coda_fit fit where fp.fitid = fit.fitid and fp.coda_height > -10.000000 and fit.chan='SHZ' and fit.band='freq_2.0_3.0' and fit.sta='FIA0' and (fit.runid = 21) and (fp.phase = 'P')  and fit.azi between 0.000000 and 360.000000 and fit.evid=lebo.evid and lebo.mb between 0.000000 and 100.000000 and fit.dist between 0.000000 and 20000.000000  and fit.acost<200.000000\n",
        "sql done\n",
        "(0,)\n",
        "found no shape data matching query select distinct lebo.evid, lebo.mb, lebo.lon, lebo.lat, lebo.depth, fp.phase, fit.sta, fit.dist, fit.azi, fit.band, fp.arrival_time, fp.peak_offset, fp.coda_height, fp.coda_decay, fp.amp_transfer from  leb_origin lebo, sigvisa_coda_fit_phase fp, sigvisa_coda_fit fit where fp.fitid = fit.fitid and fp.coda_height > -10.000000 and fit.chan='SHZ' and fit.band='freq_2.0_3.0' and fit.sta='FIA0' and (fit.runid = 21) and (fp.phase = 'P')  and fit.azi between 0.000000 and 360.000000 and fit.evid=lebo.evid and lebo.mb between 0.000000 and 100.000000 and fit.dist between 0.000000 and 20000.000000  and fit.acost<200.000000\n",
        "AFI\n",
        "loading ['P'] fit data...  3 entries loaded\n",
        "YKR8"
       ]
      },
      {
       "output_type": "stream",
       "stream": "stdout",
       "text": [
        "\n",
        "loading ['P'] fit data...  4 entries loaded\n",
        "JTS"
       ]
      },
      {
       "output_type": "stream",
       "stream": "stdout",
       "text": [
        "\n",
        "loading ['P'] fit data...  select distinct lebo.evid, lebo.mb, lebo.lon, lebo.lat, lebo.depth, fp.phase, fit.sta, fit.dist, fit.azi, fit.band, fp.arrival_time, fp.peak_offset, fp.coda_height, fp.coda_decay, fp.amp_transfer from  leb_origin lebo, sigvisa_coda_fit_phase fp, sigvisa_coda_fit fit where fp.fitid = fit.fitid and fp.coda_height > -10.000000 and fit.chan='BHZ' and fit.band='freq_2.0_3.0' and fit.sta='JTS' and (fit.runid = 21) and (fp.phase = 'P')  and fit.azi between 0.000000 and 360.000000 and fit.evid=lebo.evid and lebo.mb between 0.000000 and 100.000000 and fit.dist between 0.000000 and 20000.000000  and fit.acost<200.000000\n",
        "sql done\n",
        "(0,)\n",
        "found no shape data matching query select distinct lebo.evid, lebo.mb, lebo.lon, lebo.lat, lebo.depth, fp.phase, fit.sta, fit.dist, fit.azi, fit.band, fp.arrival_time, fp.peak_offset, fp.coda_height, fp.coda_decay, fp.amp_transfer from  leb_origin lebo, sigvisa_coda_fit_phase fp, sigvisa_coda_fit fit where fp.fitid = fit.fitid and fp.coda_height > -10.000000 and fit.chan='BHZ' and fit.band='freq_2.0_3.0' and fit.sta='JTS' and (fit.runid = 21) and (fp.phase = 'P')  and fit.azi between 0.000000 and 360.000000 and fit.evid=lebo.evid and lebo.mb between 0.000000 and 100.000000 and fit.dist between 0.000000 and 20000.000000  and fit.acost<200.000000\n",
        "KMBO\n",
        "loading ['P'] fit data...  select distinct lebo.evid, lebo.mb, lebo.lon, lebo.lat, lebo.depth, fp.phase, fit.sta, fit.dist, fit.azi, fit.band, fp.arrival_time, fp.peak_offset, fp.coda_height, fp.coda_decay, fp.amp_transfer from  leb_origin lebo, sigvisa_coda_fit_phase fp, sigvisa_coda_fit fit where fp.fitid = fit.fitid and fp.coda_height > -10.000000 and fit.chan='BHZ' and fit.band='freq_2.0_3.0' and fit.sta='KMBO' and (fit.runid = 21) and (fp.phase = 'P')  and fit.azi between 0.000000 and 360.000000 and fit.evid=lebo.evid and lebo.mb between 0.000000 and 100.000000 and fit.dist between 0.000000 and 20000.000000  and fit.acost<200.000000\n",
        "sql done\n",
        "(0,)\n",
        "found no shape data matching query select distinct lebo.evid, lebo.mb, lebo.lon, lebo.lat, lebo.depth, fp.phase, fit.sta, fit.dist, fit.azi, fit.band, fp.arrival_time, fp.peak_offset, fp.coda_height, fp.coda_decay, fp.amp_transfer from  leb_origin lebo, sigvisa_coda_fit_phase fp, sigvisa_coda_fit fit where fp.fitid = fit.fitid and fp.coda_height > -10.000000 and fit.chan='BHZ' and fit.band='freq_2.0_3.0' and fit.sta='KMBO' and (fit.runid = 21) and (fp.phase = 'P')  and fit.azi between 0.000000 and 360.000000 and fit.evid=lebo.evid and lebo.mb between 0.000000 and 100.000000 and fit.dist between 0.000000 and 20000.000000  and fit.acost<200.000000\n",
        "MBAR\n",
        "loading ['P'] fit data...  select distinct lebo.evid, lebo.mb, lebo.lon, lebo.lat, lebo.depth, fp.phase, fit.sta, fit.dist, fit.azi, fit.band, fp.arrival_time, fp.peak_offset, fp.coda_height, fp.coda_decay, fp.amp_transfer from  leb_origin lebo, sigvisa_coda_fit_phase fp, sigvisa_coda_fit fit where fp.fitid = fit.fitid and fp.coda_height > -10.000000 and fit.chan='BHZ' and fit.band='freq_2.0_3.0' and fit.sta='MBAR' and (fit.runid = 21) and (fp.phase = 'P')  and fit.azi between 0.000000 and 360.000000 and fit.evid=lebo.evid and lebo.mb between 0.000000 and 100.000000 and fit.dist between 0.000000 and 20000.000000  and fit.acost<200.000000\n",
        "sql done\n",
        "(0,)\n",
        "found no shape data matching query select distinct lebo.evid, lebo.mb, lebo.lon, lebo.lat, lebo.depth, fp.phase, fit.sta, fit.dist, fit.azi, fit.band, fp.arrival_time, fp.peak_offset, fp.coda_height, fp.coda_decay, fp.amp_transfer from  leb_origin lebo, sigvisa_coda_fit_phase fp, sigvisa_coda_fit fit where fp.fitid = fit.fitid and fp.coda_height > -10.000000 and fit.chan='BHZ' and fit.band='freq_2.0_3.0' and fit.sta='MBAR' and (fit.runid = 21) and (fp.phase = 'P')  and fit.azi between 0.000000 and 360.000000 and fit.evid=lebo.evid and lebo.mb between 0.000000 and 100.000000 and fit.dist between 0.000000 and 20000.000000  and fit.acost<200.000000\n",
        "PSI\n",
        "loading ['P'] fit data...  5 entries loaded\n",
        "PEA0"
       ]
      },
      {
       "output_type": "stream",
       "stream": "stdout",
       "text": [
        "\n",
        "loading ['P'] fit data...  15 entries loaded\n",
        "\n",
        "RAO\n",
        "loading ['P'] fit data...  select distinct lebo.evid, lebo.mb, lebo.lon, lebo.lat, lebo.depth, fp.phase, fit.sta, fit.dist, fit.azi, fit.band, fp.arrival_time, fp.peak_offset, fp.coda_height, fp.coda_decay, fp.amp_transfer from  leb_origin lebo, sigvisa_coda_fit_phase fp, sigvisa_coda_fit fit where fp.fitid = fit.fitid and fp.coda_height > -10.000000 and fit.chan='BHZ' and fit.band='freq_2.0_3.0' and fit.sta='RAO' and (fit.runid = 21) and (fp.phase = 'P')  and fit.azi between 0.000000 and 360.000000 and fit.evid=lebo.evid and lebo.mb between 0.000000 and 100.000000 and fit.dist between 0.000000 and 20000.000000  and fit.acost<200.000000\n",
        "sql done\n",
        "(0,)\n",
        "found no shape data matching query select distinct lebo.evid, lebo.mb, lebo.lon, lebo.lat, lebo.depth, fp.phase, fit.sta, fit.dist, fit.azi, fit.band, fp.arrival_time, fp.peak_offset, fp.coda_height, fp.coda_decay, fp.amp_transfer from  leb_origin lebo, sigvisa_coda_fit_phase fp, sigvisa_coda_fit fit where fp.fitid = fit.fitid and fp.coda_height > -10.000000 and fit.chan='BHZ' and fit.band='freq_2.0_3.0' and fit.sta='RAO' and (fit.runid = 21) and (fp.phase = 'P')  and fit.azi between 0.000000 and 360.000000 and fit.evid=lebo.evid and lebo.mb between 0.000000 and 100.000000 and fit.dist between 0.000000 and 20000.000000  and fit.acost<200.000000\n",
        "OPO\n",
        "loading ['P'] fit data...  15 entries loaded\n",
        "\n",
        "TOA0\n",
        "loading ['P'] fit data...  15 entries loaded\n",
        "\n",
        "NB200\n",
        "loading ['P'] fit data...  select distinct lebo.evid, lebo.mb, lebo.lon, lebo.lat, lebo.depth, fp.phase, fit.sta, fit.dist, fit.azi, fit.band, fp.arrival_time, fp.peak_offset, fp.coda_height, fp.coda_decay, fp.amp_transfer from  leb_origin lebo, sigvisa_coda_fit_phase fp, sigvisa_coda_fit fit where fp.fitid = fit.fitid and fp.coda_height > -10.000000 and fit.chan='sz' and fit.band='freq_2.0_3.0' and fit.sta='NB200' and (fit.runid = 21) and (fp.phase = 'P')  and fit.azi between 0.000000 and 360.000000 and fit.evid=lebo.evid and lebo.mb between 0.000000 and 100.000000 and fit.dist between 0.000000 and 20000.000000  and fit.acost<200.000000\n",
        "sql done\n",
        "(0,)\n",
        "found no shape data matching query select distinct lebo.evid, lebo.mb, lebo.lon, lebo.lat, lebo.depth, fp.phase, fit.sta, fit.dist, fit.azi, fit.band, fp.arrival_time, fp.peak_offset, fp.coda_height, fp.coda_decay, fp.amp_transfer from  leb_origin lebo, sigvisa_coda_fit_phase fp, sigvisa_coda_fit fit where fp.fitid = fit.fitid and fp.coda_height > -10.000000 and fit.chan='sz' and fit.band='freq_2.0_3.0' and fit.sta='NB200' and (fit.runid = 21) and (fp.phase = 'P')  and fit.azi between 0.000000 and 360.000000 and fit.evid=lebo.evid and lebo.mb between 0.000000 and 100.000000 and fit.dist between 0.000000 and 20000.000000  and fit.acost<200.000000\n",
        "ATD\n",
        "loading ['P'] fit data...  select distinct lebo.evid, lebo.mb, lebo.lon, lebo.lat, lebo.depth, fp.phase, fit.sta, fit.dist, fit.azi, fit.band, fp.arrival_time, fp.peak_offset, fp.coda_height, fp.coda_decay, fp.amp_transfer from  leb_origin lebo, sigvisa_coda_fit_phase fp, sigvisa_coda_fit fit where fp.fitid = fit.fitid and fp.coda_height > -10.000000 and fit.chan='BHZ' and fit.band='freq_2.0_3.0' and fit.sta='ATD' and (fit.runid = 21) and (fp.phase = 'P')  and fit.azi between 0.000000 and 360.000000 and fit.evid=lebo.evid and lebo.mb between 0.000000 and 100.000000 and fit.dist between 0.000000 and 20000.000000  and fit.acost<200.000000\n",
        "sql done\n",
        "(0,)\n",
        "found no shape data matching query select distinct lebo.evid, lebo.mb, lebo.lon, lebo.lat, lebo.depth, fp.phase, fit.sta, fit.dist, fit.azi, fit.band, fp.arrival_time, fp.peak_offset, fp.coda_height, fp.coda_decay, fp.amp_transfer from  leb_origin lebo, sigvisa_coda_fit_phase fp, sigvisa_coda_fit fit where fp.fitid = fit.fitid and fp.coda_height > -10.000000 and fit.chan='BHZ' and fit.band='freq_2.0_3.0' and fit.sta='ATD' and (fit.runid = 21) and (fp.phase = 'P')  and fit.azi between 0.000000 and 360.000000 and fit.evid=lebo.evid and lebo.mb between 0.000000 and 100.000000 and fit.dist between 0.000000 and 20000.000000  and fit.acost<200.000000\n",
        "DLBC\n",
        "loading ['P'] fit data...  15 entries loaded\n",
        "\n",
        "RES\n",
        "loading ['P'] fit data...  15 entries loaded\n",
        "\n",
        "ULM\n",
        "loading ['P'] fit data...  2 entries loaded\n",
        "HNR"
       ]
      },
      {
       "output_type": "stream",
       "stream": "stdout",
       "text": [
        "\n",
        "loading ['P'] fit data...  2 entries loaded\n",
        "CTA"
       ]
      },
      {
       "output_type": "stream",
       "stream": "stdout",
       "text": [
        "\n",
        "loading ['P'] fit data...  10 entries loaded\n",
        "NEW"
       ]
      },
      {
       "output_type": "stream",
       "stream": "stdout",
       "text": [
        "\n",
        "loading ['P'] fit data...  15 entries loaded\n",
        "\n",
        "SPA0\n",
        "loading ['P'] fit data...  3 entries loaded\n",
        "KAPI"
       ]
      },
      {
       "output_type": "stream",
       "stream": "stdout",
       "text": [
        "\n",
        "loading ['P'] fit data...  11 entries loaded\n",
        "ATTU"
       ]
      },
      {
       "output_type": "stream",
       "stream": "stdout",
       "text": [
        "\n",
        "loading ['P'] fit data...  3 entries loaded\n",
        "SCHQ"
       ]
      },
      {
       "output_type": "stream",
       "stream": "stdout",
       "text": [
        "\n",
        "loading ['P'] fit data...  2 entries loaded\n",
        "PMG"
       ]
      },
      {
       "output_type": "stream",
       "stream": "stdout",
       "text": [
        "\n",
        "loading ['P'] fit data...  22 entries loaded\n",
        "ASF"
       ]
      },
      {
       "output_type": "stream",
       "stream": "stdout",
       "text": [
        "\n",
        "loading ['P'] fit data...  select distinct lebo.evid, lebo.mb, lebo.lon, lebo.lat, lebo.depth, fp.phase, fit.sta, fit.dist, fit.azi, fit.band, fp.arrival_time, fp.peak_offset, fp.coda_height, fp.coda_decay, fp.amp_transfer from  leb_origin lebo, sigvisa_coda_fit_phase fp, sigvisa_coda_fit fit where fp.fitid = fit.fitid and fp.coda_height > -10.000000 and fit.chan='BHZ' and fit.band='freq_2.0_3.0' and fit.sta='ASF' and (fit.runid = 21) and (fp.phase = 'P')  and fit.azi between 0.000000 and 360.000000 and fit.evid=lebo.evid and lebo.mb between 0.000000 and 100.000000 and fit.dist between 0.000000 and 20000.000000  and fit.acost<200.000000\n",
        "sql done\n",
        "(0,)\n",
        "found no shape data matching query select distinct lebo.evid, lebo.mb, lebo.lon, lebo.lat, lebo.depth, fp.phase, fit.sta, fit.dist, fit.azi, fit.band, fp.arrival_time, fp.peak_offset, fp.coda_height, fp.coda_decay, fp.amp_transfer from  leb_origin lebo, sigvisa_coda_fit_phase fp, sigvisa_coda_fit fit where fp.fitid = fit.fitid and fp.coda_height > -10.000000 and fit.chan='BHZ' and fit.band='freq_2.0_3.0' and fit.sta='ASF' and (fit.runid = 21) and (fp.phase = 'P')  and fit.azi between 0.000000 and 360.000000 and fit.evid=lebo.evid and lebo.mb between 0.000000 and 100.000000 and fit.dist between 0.000000 and 20000.000000  and fit.acost<200.000000\n",
        "JKA\n",
        "loading ['P'] fit data...  4 entries loaded\n",
        "MDT"
       ]
      },
      {
       "output_type": "stream",
       "stream": "stdout",
       "text": [
        "\n",
        "loading ['P'] fit data...  select distinct lebo.evid, lebo.mb, lebo.lon, lebo.lat, lebo.depth, fp.phase, fit.sta, fit.dist, fit.azi, fit.band, fp.arrival_time, fp.peak_offset, fp.coda_height, fp.coda_decay, fp.amp_transfer from  leb_origin lebo, sigvisa_coda_fit_phase fp, sigvisa_coda_fit fit where fp.fitid = fit.fitid and fp.coda_height > -10.000000 and fit.chan='BHZ' and fit.band='freq_2.0_3.0' and fit.sta='MDT' and (fit.runid = 21) and (fp.phase = 'P')  and fit.azi between 0.000000 and 360.000000 and fit.evid=lebo.evid and lebo.mb between 0.000000 and 100.000000 and fit.dist between 0.000000 and 20000.000000  and fit.acost<200.000000\n",
        "sql done\n",
        "(0,)\n",
        "found no shape data matching query select distinct lebo.evid, lebo.mb, lebo.lon, lebo.lat, lebo.depth, fp.phase, fit.sta, fit.dist, fit.azi, fit.band, fp.arrival_time, fp.peak_offset, fp.coda_height, fp.coda_decay, fp.amp_transfer from  leb_origin lebo, sigvisa_coda_fit_phase fp, sigvisa_coda_fit fit where fp.fitid = fit.fitid and fp.coda_height > -10.000000 and fit.chan='BHZ' and fit.band='freq_2.0_3.0' and fit.sta='MDT' and (fit.runid = 21) and (fp.phase = 'P')  and fit.azi between 0.000000 and 360.000000 and fit.evid=lebo.evid and lebo.mb between 0.000000 and 100.000000 and fit.dist between 0.000000 and 20000.000000  and fit.acost<200.000000\n",
        "ELK\n",
        "loading ['P'] fit data...  select distinct lebo.evid, lebo.mb, lebo.lon, lebo.lat, lebo.depth, fp.phase, fit.sta, fit.dist, fit.azi, fit.band, fp.arrival_time, fp.peak_offset, fp.coda_height, fp.coda_decay, fp.amp_transfer from  leb_origin lebo, sigvisa_coda_fit_phase fp, sigvisa_coda_fit fit where fp.fitid = fit.fitid and fp.coda_height > -10.000000 and fit.chan='BHZ' and fit.band='freq_2.0_3.0' and fit.sta='ELK' and (fit.runid = 21) and (fp.phase = 'P')  and fit.azi between 0.000000 and 360.000000 and fit.evid=lebo.evid and lebo.mb between 0.000000 and 100.000000 and fit.dist between 0.000000 and 20000.000000  and fit.acost<200.000000\n",
        "sql done\n",
        "(0,)\n",
        "found no shape data matching query select distinct lebo.evid, lebo.mb, lebo.lon, lebo.lat, lebo.depth, fp.phase, fit.sta, fit.dist, fit.azi, fit.band, fp.arrival_time, fp.peak_offset, fp.coda_height, fp.coda_decay, fp.amp_transfer from  leb_origin lebo, sigvisa_coda_fit_phase fp, sigvisa_coda_fit fit where fp.fitid = fit.fitid and fp.coda_height > -10.000000 and fit.chan='BHZ' and fit.band='freq_2.0_3.0' and fit.sta='ELK' and (fit.runid = 21) and (fp.phase = 'P')  and fit.azi between 0.000000 and 360.000000 and fit.evid=lebo.evid and lebo.mb between 0.000000 and 100.000000 and fit.dist between 0.000000 and 20000.000000  and fit.acost<200.000000\n",
        "KDAK\n",
        "loading ['P'] fit data...  3 entries loaded\n",
        "WR1"
       ]
      },
      {
       "output_type": "stream",
       "stream": "stdout",
       "text": [
        "\n",
        "loading ['P'] fit data...  101 entries loaded\n",
        "BBB"
       ]
      },
      {
       "output_type": "stream",
       "stream": "stdout",
       "text": [
        "\n",
        "loading ['P'] fit data...  select distinct lebo.evid, lebo.mb, lebo.lon, lebo.lat, lebo.depth, fp.phase, fit.sta, fit.dist, fit.azi, fit.band, fp.arrival_time, fp.peak_offset, fp.coda_height, fp.coda_decay, fp.amp_transfer from  leb_origin lebo, sigvisa_coda_fit_phase fp, sigvisa_coda_fit fit where fp.fitid = fit.fitid and fp.coda_height > -10.000000 and fit.chan='BHZ' and fit.band='freq_2.0_3.0' and fit.sta='BBB' and (fit.runid = 21) and (fp.phase = 'P')  and fit.azi between 0.000000 and 360.000000 and fit.evid=lebo.evid and lebo.mb between 0.000000 and 100.000000 and fit.dist between 0.000000 and 20000.000000  and fit.acost<200.000000\n",
        "sql done\n",
        "(0,)\n",
        "found no shape data matching query select distinct lebo.evid, lebo.mb, lebo.lon, lebo.lat, lebo.depth, fp.phase, fit.sta, fit.dist, fit.azi, fit.band, fp.arrival_time, fp.peak_offset, fp.coda_height, fp.coda_decay, fp.amp_transfer from  leb_origin lebo, sigvisa_coda_fit_phase fp, sigvisa_coda_fit fit where fp.fitid = fit.fitid and fp.coda_height > -10.000000 and fit.chan='BHZ' and fit.band='freq_2.0_3.0' and fit.sta='BBB' and (fit.runid = 21) and (fp.phase = 'P')  and fit.azi between 0.000000 and 360.000000 and fit.evid=lebo.evid and lebo.mb between 0.000000 and 100.000000 and fit.dist between 0.000000 and 20000.000000  and fit.acost<200.000000\n",
        "CPUP\n",
        "loading ['P'] fit data...  select distinct lebo.evid, lebo.mb, lebo.lon, lebo.lat, lebo.depth, fp.phase, fit.sta, fit.dist, fit.azi, fit.band, fp.arrival_time, fp.peak_offset, fp.coda_height, fp.coda_decay, fp.amp_transfer from  leb_origin lebo, sigvisa_coda_fit_phase fp, sigvisa_coda_fit fit where fp.fitid = fit.fitid and fp.coda_height > -10.000000 and fit.chan='BHZ' and fit.band='freq_2.0_3.0' and fit.sta='CPUP' and (fit.runid = 21) and (fp.phase = 'P')  and fit.azi between 0.000000 and 360.000000 and fit.evid=lebo.evid and lebo.mb between 0.000000 and 100.000000 and fit.dist between 0.000000 and 20000.000000  and fit.acost<200.000000\n",
        "sql done\n",
        "(0,)\n",
        "found no shape data matching query select distinct lebo.evid, lebo.mb, lebo.lon, lebo.lat, lebo.depth, fp.phase, fit.sta, fit.dist, fit.azi, fit.band, fp.arrival_time, fp.peak_offset, fp.coda_height, fp.coda_decay, fp.amp_transfer from  leb_origin lebo, sigvisa_coda_fit_phase fp, sigvisa_coda_fit fit where fp.fitid = fit.fitid and fp.coda_height > -10.000000 and fit.chan='BHZ' and fit.band='freq_2.0_3.0' and fit.sta='CPUP' and (fit.runid = 21) and (fp.phase = 'P')  and fit.azi between 0.000000 and 360.000000 and fit.evid=lebo.evid and lebo.mb between 0.000000 and 100.000000 and fit.dist between 0.000000 and 20000.000000  and fit.acost<200.000000\n",
        "SJG\n",
        "loading ['P'] fit data...  3 entries loaded\n",
        "SFJD"
       ]
      },
      {
       "output_type": "stream",
       "stream": "stdout",
       "text": [
        "\n",
        "loading ['P'] fit data...  select distinct lebo.evid, lebo.mb, lebo.lon, lebo.lat, lebo.depth, fp.phase, fit.sta, fit.dist, fit.azi, fit.band, fp.arrival_time, fp.peak_offset, fp.coda_height, fp.coda_decay, fp.amp_transfer from  leb_origin lebo, sigvisa_coda_fit_phase fp, sigvisa_coda_fit fit where fp.fitid = fit.fitid and fp.coda_height > -10.000000 and fit.chan='BHZ' and fit.band='freq_2.0_3.0' and fit.sta='SFJD' and (fit.runid = 21) and (fp.phase = 'P')  and fit.azi between 0.000000 and 360.000000 and fit.evid=lebo.evid and lebo.mb between 0.000000 and 100.000000 and fit.dist between 0.000000 and 20000.000000  and fit.acost<200.000000\n",
        "sql done\n",
        "(0,)\n",
        "found no shape data matching query select distinct lebo.evid, lebo.mb, lebo.lon, lebo.lat, lebo.depth, fp.phase, fit.sta, fit.dist, fit.azi, fit.band, fp.arrival_time, fp.peak_offset, fp.coda_height, fp.coda_decay, fp.amp_transfer from  leb_origin lebo, sigvisa_coda_fit_phase fp, sigvisa_coda_fit fit where fp.fitid = fit.fitid and fp.coda_height > -10.000000 and fit.chan='BHZ' and fit.band='freq_2.0_3.0' and fit.sta='SFJD' and (fit.runid = 21) and (fp.phase = 'P')  and fit.azi between 0.000000 and 360.000000 and fit.evid=lebo.evid and lebo.mb between 0.000000 and 100.000000 and fit.dist between 0.000000 and 20000.000000  and fit.acost<200.000000\n",
        "ANMO\n",
        "loading ['P'] fit data...  select distinct lebo.evid, lebo.mb, lebo.lon, lebo.lat, lebo.depth, fp.phase, fit.sta, fit.dist, fit.azi, fit.band, fp.arrival_time, fp.peak_offset, fp.coda_height, fp.coda_decay, fp.amp_transfer from  leb_origin lebo, sigvisa_coda_fit_phase fp, sigvisa_coda_fit fit where fp.fitid = fit.fitid and fp.coda_height > -10.000000 and fit.chan='BHZ' and fit.band='freq_2.0_3.0' and fit.sta='ANMO' and (fit.runid = 21) and (fp.phase = 'P')  and fit.azi between 0.000000 and 360.000000 and fit.evid=lebo.evid and lebo.mb between 0.000000 and 100.000000 and fit.dist between 0.000000 and 20000.000000  and fit.acost<200.000000\n",
        "sql done\n",
        "(0,)\n",
        "found no shape data matching query select distinct lebo.evid, lebo.mb, lebo.lon, lebo.lat, lebo.depth, fp.phase, fit.sta, fit.dist, fit.azi, fit.band, fp.arrival_time, fp.peak_offset, fp.coda_height, fp.coda_decay, fp.amp_transfer from  leb_origin lebo, sigvisa_coda_fit_phase fp, sigvisa_coda_fit fit where fp.fitid = fit.fitid and fp.coda_height > -10.000000 and fit.chan='BHZ' and fit.band='freq_2.0_3.0' and fit.sta='ANMO' and (fit.runid = 21) and (fp.phase = 'P')  and fit.azi between 0.000000 and 360.000000 and fit.evid=lebo.evid and lebo.mb between 0.000000 and 100.000000 and fit.dist between 0.000000 and 20000.000000  and fit.acost<200.000000\n",
        "TSUM\n",
        "loading ['P'] fit data...  select distinct lebo.evid, lebo.mb, lebo.lon, lebo.lat, lebo.depth, fp.phase, fit.sta, fit.dist, fit.azi, fit.band, fp.arrival_time, fp.peak_offset, fp.coda_height, fp.coda_decay, fp.amp_transfer from  leb_origin lebo, sigvisa_coda_fit_phase fp, sigvisa_coda_fit fit where fp.fitid = fit.fitid and fp.coda_height > -10.000000 and fit.chan='BHZ' and fit.band='freq_2.0_3.0' and fit.sta='TSUM' and (fit.runid = 21) and (fp.phase = 'P')  and fit.azi between 0.000000 and 360.000000 and fit.evid=lebo.evid and lebo.mb between 0.000000 and 100.000000 and fit.dist between 0.000000 and 20000.000000  and fit.acost<200.000000\n",
        "sql done\n",
        "(0,)\n",
        "found no shape data matching query select distinct lebo.evid, lebo.mb, lebo.lon, lebo.lat, lebo.depth, fp.phase, fit.sta, fit.dist, fit.azi, fit.band, fp.arrival_time, fp.peak_offset, fp.coda_height, fp.coda_decay, fp.amp_transfer from  leb_origin lebo, sigvisa_coda_fit_phase fp, sigvisa_coda_fit fit where fp.fitid = fit.fitid and fp.coda_height > -10.000000 and fit.chan='BHZ' and fit.band='freq_2.0_3.0' and fit.sta='TSUM' and (fit.runid = 21) and (fp.phase = 'P')  and fit.azi between 0.000000 and 360.000000 and fit.evid=lebo.evid and lebo.mb between 0.000000 and 100.000000 and fit.dist between 0.000000 and 20000.000000  and fit.acost<200.000000\n",
        "FRB\n",
        "loading ['P'] fit data...  select distinct lebo.evid, lebo.mb, lebo.lon, lebo.lat, lebo.depth, fp.phase, fit.sta, fit.dist, fit.azi, fit.band, fp.arrival_time, fp.peak_offset, fp.coda_height, fp.coda_decay, fp.amp_transfer from  leb_origin lebo, sigvisa_coda_fit_phase fp, sigvisa_coda_fit fit where fp.fitid = fit.fitid and fp.coda_height > -10.000000 and fit.chan='BHZ' and fit.band='freq_2.0_3.0' and fit.sta='FRB' and (fit.runid = 21) and (fp.phase = 'P')  and fit.azi between 0.000000 and 360.000000 and fit.evid=lebo.evid and lebo.mb between 0.000000 and 100.000000 and fit.dist between 0.000000 and 20000.000000  and fit.acost<200.000000\n",
        "sql done\n",
        "(0,)\n",
        "found no shape data matching query select distinct lebo.evid, lebo.mb, lebo.lon, lebo.lat, lebo.depth, fp.phase, fit.sta, fit.dist, fit.azi, fit.band, fp.arrival_time, fp.peak_offset, fp.coda_height, fp.coda_decay, fp.amp_transfer from  leb_origin lebo, sigvisa_coda_fit_phase fp, sigvisa_coda_fit fit where fp.fitid = fit.fitid and fp.coda_height > -10.000000 and fit.chan='BHZ' and fit.band='freq_2.0_3.0' and fit.sta='FRB' and (fit.runid = 21) and (fp.phase = 'P')  and fit.azi between 0.000000 and 360.000000 and fit.evid=lebo.evid and lebo.mb between 0.000000 and 100.000000 and fit.dist between 0.000000 and 20000.000000  and fit.acost<200.000000\n",
        "AKBB\n",
        "loading ['P'] fit data...  2 entries loaded\n",
        "JHJ"
       ]
      },
      {
       "output_type": "stream",
       "stream": "stdout",
       "text": [
        "\n",
        "loading ['P'] fit data...  select distinct lebo.evid, lebo.mb, lebo.lon, lebo.lat, lebo.depth, fp.phase, fit.sta, fit.dist, fit.azi, fit.band, fp.arrival_time, fp.peak_offset, fp.coda_height, fp.coda_decay, fp.amp_transfer from  leb_origin lebo, sigvisa_coda_fit_phase fp, sigvisa_coda_fit fit where fp.fitid = fit.fitid and fp.coda_height > -10.000000 and fit.chan='BHZ' and fit.band='freq_2.0_3.0' and fit.sta='JHJ' and (fit.runid = 21) and (fp.phase = 'P')  and fit.azi between 0.000000 and 360.000000 and fit.evid=lebo.evid and lebo.mb between 0.000000 and 100.000000 and fit.dist between 0.000000 and 20000.000000  and fit.acost<200.000000\n",
        "sql done\n",
        "(0,)\n",
        "found no shape data matching query select distinct lebo.evid, lebo.mb, lebo.lon, lebo.lat, lebo.depth, fp.phase, fit.sta, fit.dist, fit.azi, fit.band, fp.arrival_time, fp.peak_offset, fp.coda_height, fp.coda_decay, fp.amp_transfer from  leb_origin lebo, sigvisa_coda_fit_phase fp, sigvisa_coda_fit fit where fp.fitid = fit.fitid and fp.coda_height > -10.000000 and fit.chan='BHZ' and fit.band='freq_2.0_3.0' and fit.sta='JHJ' and (fit.runid = 21) and (fp.phase = 'P')  and fit.azi between 0.000000 and 360.000000 and fit.evid=lebo.evid and lebo.mb between 0.000000 and 100.000000 and fit.dist between 0.000000 and 20000.000000  and fit.acost<200.000000\n",
        "AAK\n",
        "loading ['P'] fit data...  4 entries loaded\n",
        "MK31"
       ]
      },
      {
       "output_type": "stream",
       "stream": "stdout",
       "text": [
        "\n",
        "loading ['P'] fit data...  16 entries loaded\n",
        "VRAC"
       ]
      },
      {
       "output_type": "stream",
       "stream": "stdout",
       "text": [
        "\n",
        "loading ['P'] fit data...  15 entries loaded\n",
        "\n",
        "QSPA\n",
        "loading ['P'] fit data...  25 entries loaded\n",
        "GNI"
       ]
      },
      {
       "output_type": "stream",
       "stream": "stdout",
       "text": [
        "\n",
        "loading ['P'] fit data...  3 entries loaded\n",
        "EIL"
       ]
      },
      {
       "output_type": "stream",
       "stream": "stdout",
       "text": [
        "\n",
        "loading ['P'] fit data...  select distinct lebo.evid, lebo.mb, lebo.lon, lebo.lat, lebo.depth, fp.phase, fit.sta, fit.dist, fit.azi, fit.band, fp.arrival_time, fp.peak_offset, fp.coda_height, fp.coda_decay, fp.amp_transfer from  leb_origin lebo, sigvisa_coda_fit_phase fp, sigvisa_coda_fit fit where fp.fitid = fit.fitid and fp.coda_height > -10.000000 and fit.chan='BHZ' and fit.band='freq_2.0_3.0' and fit.sta='EIL' and (fit.runid = 21) and (fp.phase = 'P')  and fit.azi between 0.000000 and 360.000000 and fit.evid=lebo.evid and lebo.mb between 0.000000 and 100.000000 and fit.dist between 0.000000 and 20000.000000  and fit.acost<200.000000\n",
        "sql done\n",
        "(0,)\n",
        "found no shape data matching query select distinct lebo.evid, lebo.mb, lebo.lon, lebo.lat, lebo.depth, fp.phase, fit.sta, fit.dist, fit.azi, fit.band, fp.arrival_time, fp.peak_offset, fp.coda_height, fp.coda_decay, fp.amp_transfer from  leb_origin lebo, sigvisa_coda_fit_phase fp, sigvisa_coda_fit fit where fp.fitid = fit.fitid and fp.coda_height > -10.000000 and fit.chan='BHZ' and fit.band='freq_2.0_3.0' and fit.sta='EIL' and (fit.runid = 21) and (fp.phase = 'P')  and fit.azi between 0.000000 and 360.000000 and fit.evid=lebo.evid and lebo.mb between 0.000000 and 100.000000 and fit.dist between 0.000000 and 20000.000000  and fit.acost<200.000000\n",
        "TEIG\n",
        "loading ['P'] fit data...  2 entries loaded\n",
        "BVA0"
       ]
      },
      {
       "output_type": "stream",
       "stream": "stdout",
       "text": [
        "\n",
        "loading ['P'] fit data...  2 entries loaded\n",
        "RPZ"
       ]
      },
      {
       "output_type": "stream",
       "stream": "stdout",
       "text": [
        "\n",
        "loading ['P'] fit data...  5 entries loaded\n",
        "DBIC"
       ]
      },
      {
       "output_type": "stream",
       "stream": "stdout",
       "text": [
        "\n",
        "loading ['P'] fit data...  select distinct lebo.evid, lebo.mb, lebo.lon, lebo.lat, lebo.depth, fp.phase, fit.sta, fit.dist, fit.azi, fit.band, fp.arrival_time, fp.peak_offset, fp.coda_height, fp.coda_decay, fp.amp_transfer from  leb_origin lebo, sigvisa_coda_fit_phase fp, sigvisa_coda_fit fit where fp.fitid = fit.fitid and fp.coda_height > -10.000000 and fit.chan='BHZ' and fit.band='freq_2.0_3.0' and fit.sta='DBIC' and (fit.runid = 21) and (fp.phase = 'P')  and fit.azi between 0.000000 and 360.000000 and fit.evid=lebo.evid and lebo.mb between 0.000000 and 100.000000 and fit.dist between 0.000000 and 20000.000000  and fit.acost<200.000000\n",
        "sql done\n",
        "(0,)\n",
        "found no shape data matching query select distinct lebo.evid, lebo.mb, lebo.lon, lebo.lat, lebo.depth, fp.phase, fit.sta, fit.dist, fit.azi, fit.band, fp.arrival_time, fp.peak_offset, fp.coda_height, fp.coda_decay, fp.amp_transfer from  leb_origin lebo, sigvisa_coda_fit_phase fp, sigvisa_coda_fit fit where fp.fitid = fit.fitid and fp.coda_height > -10.000000 and fit.chan='BHZ' and fit.band='freq_2.0_3.0' and fit.sta='DBIC' and (fit.runid = 21) and (fp.phase = 'P')  and fit.azi between 0.000000 and 360.000000 and fit.evid=lebo.evid and lebo.mb between 0.000000 and 100.000000 and fit.dist between 0.000000 and 20000.000000  and fit.acost<200.000000\n",
        "DAV\n",
        "loading ['P'] fit data...  15 entries loaded\n",
        "\n",
        "LBTB\n",
        "loading ['P'] fit data...  select distinct lebo.evid, lebo.mb, lebo.lon, lebo.lat, lebo.depth, fp.phase, fit.sta, fit.dist, fit.azi, fit.band, fp.arrival_time, fp.peak_offset, fp.coda_height, fp.coda_decay, fp.amp_transfer from  leb_origin lebo, sigvisa_coda_fit_phase fp, sigvisa_coda_fit fit where fp.fitid = fit.fitid and fp.coda_height > -10.000000 and fit.chan='BHZ' and fit.band='freq_2.0_3.0' and fit.sta='LBTB' and (fit.runid = 21) and (fp.phase = 'P')  and fit.azi between 0.000000 and 360.000000 and fit.evid=lebo.evid and lebo.mb between 0.000000 and 100.000000 and fit.dist between 0.000000 and 20000.000000  and fit.acost<200.000000\n",
        "sql done\n",
        "(0,)\n",
        "found no shape data matching query select distinct lebo.evid, lebo.mb, lebo.lon, lebo.lat, lebo.depth, fp.phase, fit.sta, fit.dist, fit.azi, fit.band, fp.arrival_time, fp.peak_offset, fp.coda_height, fp.coda_decay, fp.amp_transfer from  leb_origin lebo, sigvisa_coda_fit_phase fp, sigvisa_coda_fit fit where fp.fitid = fit.fitid and fp.coda_height > -10.000000 and fit.chan='BHZ' and fit.band='freq_2.0_3.0' and fit.sta='LBTB' and (fit.runid = 21) and (fp.phase = 'P')  and fit.azi between 0.000000 and 360.000000 and fit.evid=lebo.evid and lebo.mb between 0.000000 and 100.000000 and fit.dist between 0.000000 and 20000.000000  and fit.acost<200.000000\n",
        "PPT\n",
        "loading ['P'] fit data...  select distinct lebo.evid, lebo.mb, lebo.lon, lebo.lat, lebo.depth, fp.phase, fit.sta, fit.dist, fit.azi, fit.band, fp.arrival_time, fp.peak_offset, fp.coda_height, fp.coda_decay, fp.amp_transfer from  leb_origin lebo, sigvisa_coda_fit_phase fp, sigvisa_coda_fit fit where fp.fitid = fit.fitid and fp.coda_height > -10.000000 and fit.chan='SHZ' and fit.band='freq_2.0_3.0' and fit.sta='PPT' and (fit.runid = 21) and (fp.phase = 'P')  and fit.azi between 0.000000 and 360.000000 and fit.evid=lebo.evid and lebo.mb between 0.000000 and 100.000000 and fit.dist between 0.000000 and 20000.000000  and fit.acost<200.000000\n",
        "sql done\n",
        "(0,)\n",
        "found no shape data matching query select distinct lebo.evid, lebo.mb, lebo.lon, lebo.lat, lebo.depth, fp.phase, fit.sta, fit.dist, fit.azi, fit.band, fp.arrival_time, fp.peak_offset, fp.coda_height, fp.coda_decay, fp.amp_transfer from  leb_origin lebo, sigvisa_coda_fit_phase fp, sigvisa_coda_fit fit where fp.fitid = fit.fitid and fp.coda_height > -10.000000 and fit.chan='SHZ' and fit.band='freq_2.0_3.0' and fit.sta='PPT' and (fit.runid = 21) and (fp.phase = 'P')  and fit.azi between 0.000000 and 360.000000 and fit.evid=lebo.evid and lebo.mb between 0.000000 and 100.000000 and fit.dist between 0.000000 and 20000.000000  and fit.acost<200.000000\n",
        "INK\n",
        "loading ['P'] fit data...  4 entries loaded\n",
        "SADO"
       ]
      },
      {
       "output_type": "stream",
       "stream": "stdout",
       "text": [
        "\n",
        "loading ['P'] fit data...  select distinct lebo.evid, lebo.mb, lebo.lon, lebo.lat, lebo.depth, fp.phase, fit.sta, fit.dist, fit.azi, fit.band, fp.arrival_time, fp.peak_offset, fp.coda_height, fp.coda_decay, fp.amp_transfer from  leb_origin lebo, sigvisa_coda_fit_phase fp, sigvisa_coda_fit fit where fp.fitid = fit.fitid and fp.coda_height > -10.000000 and fit.chan='BHZ' and fit.band='freq_2.0_3.0' and fit.sta='SADO' and (fit.runid = 21) and (fp.phase = 'P')  and fit.azi between 0.000000 and 360.000000 and fit.evid=lebo.evid and lebo.mb between 0.000000 and 100.000000 and fit.dist between 0.000000 and 20000.000000  and fit.acost<200.000000\n",
        "sql done\n",
        "(0,)\n",
        "found no shape data matching query select distinct lebo.evid, lebo.mb, lebo.lon, lebo.lat, lebo.depth, fp.phase, fit.sta, fit.dist, fit.azi, fit.band, fp.arrival_time, fp.peak_offset, fp.coda_height, fp.coda_decay, fp.amp_transfer from  leb_origin lebo, sigvisa_coda_fit_phase fp, sigvisa_coda_fit fit where fp.fitid = fit.fitid and fp.coda_height > -10.000000 and fit.chan='BHZ' and fit.band='freq_2.0_3.0' and fit.sta='SADO' and (fit.runid = 21) and (fp.phase = 'P')  and fit.azi between 0.000000 and 360.000000 and fit.evid=lebo.evid and lebo.mb between 0.000000 and 100.000000 and fit.dist between 0.000000 and 20000.000000  and fit.acost<200.000000\n",
        "MLR\n",
        "loading ['P'] fit data...  select distinct lebo.evid, lebo.mb, lebo.lon, lebo.lat, lebo.depth, fp.phase, fit.sta, fit.dist, fit.azi, fit.band, fp.arrival_time, fp.peak_offset, fp.coda_height, fp.coda_decay, fp.amp_transfer from  leb_origin lebo, sigvisa_coda_fit_phase fp, sigvisa_coda_fit fit where fp.fitid = fit.fitid and fp.coda_height > -10.000000 and fit.chan='BHZ' and fit.band='freq_2.0_3.0' and fit.sta='MLR' and (fit.runid = 21) and (fp.phase = 'P')  and fit.azi between 0.000000 and 360.000000 and fit.evid=lebo.evid and lebo.mb between 0.000000 and 100.000000 and fit.dist between 0.000000 and 20000.000000  and fit.acost<200.000000\n",
        "sql done\n",
        "(0,)\n",
        "found no shape data matching query select distinct lebo.evid, lebo.mb, lebo.lon, lebo.lat, lebo.depth, fp.phase, fit.sta, fit.dist, fit.azi, fit.band, fp.arrival_time, fp.peak_offset, fp.coda_height, fp.coda_decay, fp.amp_transfer from  leb_origin lebo, sigvisa_coda_fit_phase fp, sigvisa_coda_fit fit where fp.fitid = fit.fitid and fp.coda_height > -10.000000 and fit.chan='BHZ' and fit.band='freq_2.0_3.0' and fit.sta='MLR' and (fit.runid = 21) and (fp.phase = 'P')  and fit.azi between 0.000000 and 360.000000 and fit.evid=lebo.evid and lebo.mb between 0.000000 and 100.000000 and fit.dist between 0.000000 and 20000.000000  and fit.acost<200.000000\n",
        "LVC\n",
        "loading ['P'] fit data...  select distinct lebo.evid, lebo.mb, lebo.lon, lebo.lat, lebo.depth, fp.phase, fit.sta, fit.dist, fit.azi, fit.band, fp.arrival_time, fp.peak_offset, fp.coda_height, fp.coda_decay, fp.amp_transfer from  leb_origin lebo, sigvisa_coda_fit_phase fp, sigvisa_coda_fit fit where fp.fitid = fit.fitid and fp.coda_height > -10.000000 and fit.chan='BHZ' and fit.band='freq_2.0_3.0' and fit.sta='LVC' and (fit.runid = 21) and (fp.phase = 'P')  and fit.azi between 0.000000 and 360.000000 and fit.evid=lebo.evid and lebo.mb between 0.000000 and 100.000000 and fit.dist between 0.000000 and 20000.000000  and fit.acost<200.000000\n",
        "sql done\n",
        "(0,)\n",
        "found no shape data matching query select distinct lebo.evid, lebo.mb, lebo.lon, lebo.lat, lebo.depth, fp.phase, fit.sta, fit.dist, fit.azi, fit.band, fp.arrival_time, fp.peak_offset, fp.coda_height, fp.coda_decay, fp.amp_transfer from  leb_origin lebo, sigvisa_coda_fit_phase fp, sigvisa_coda_fit fit where fp.fitid = fit.fitid and fp.coda_height > -10.000000 and fit.chan='BHZ' and fit.band='freq_2.0_3.0' and fit.sta='LVC' and (fit.runid = 21) and (fp.phase = 'P')  and fit.azi between 0.000000 and 360.000000 and fit.evid=lebo.evid and lebo.mb between 0.000000 and 100.000000 and fit.dist between 0.000000 and 20000.000000  and fit.acost<200.000000\n",
        "IL31\n",
        "loading ['P'] fit data...  2 entries loaded\n",
        "KS31"
       ]
      },
      {
       "output_type": "stream",
       "stream": "stdout",
       "text": [
        "\n",
        "loading ['P'] fit data...  19 entries loaded\n",
        "JCJ"
       ]
      },
      {
       "output_type": "stream",
       "stream": "stdout",
       "text": [
        "\n",
        "loading ['P'] fit data...  3 entries loaded\n",
        "USHA"
       ]
      },
      {
       "output_type": "stream",
       "stream": "stdout",
       "text": [
        "\n",
        "loading ['P'] fit data...  select distinct lebo.evid, lebo.mb, lebo.lon, lebo.lat, lebo.depth, fp.phase, fit.sta, fit.dist, fit.azi, fit.band, fp.arrival_time, fp.peak_offset, fp.coda_height, fp.coda_decay, fp.amp_transfer from  leb_origin lebo, sigvisa_coda_fit_phase fp, sigvisa_coda_fit fit where fp.fitid = fit.fitid and fp.coda_height > -10.000000 and fit.chan='BHZ' and fit.band='freq_2.0_3.0' and fit.sta='USHA' and (fit.runid = 21) and (fp.phase = 'P')  and fit.azi between 0.000000 and 360.000000 and fit.evid=lebo.evid and lebo.mb between 0.000000 and 100.000000 and fit.dist between 0.000000 and 20000.000000  and fit.acost<200.000000\n",
        "sql done\n",
        "(0,)\n",
        "found no shape data matching query select distinct lebo.evid, lebo.mb, lebo.lon, lebo.lat, lebo.depth, fp.phase, fit.sta, fit.dist, fit.azi, fit.band, fp.arrival_time, fp.peak_offset, fp.coda_height, fp.coda_decay, fp.amp_transfer from  leb_origin lebo, sigvisa_coda_fit_phase fp, sigvisa_coda_fit fit where fp.fitid = fit.fitid and fp.coda_height > -10.000000 and fit.chan='BHZ' and fit.band='freq_2.0_3.0' and fit.sta='USHA' and (fit.runid = 21) and (fp.phase = 'P')  and fit.azi between 0.000000 and 360.000000 and fit.evid=lebo.evid and lebo.mb between 0.000000 and 100.000000 and fit.dist between 0.000000 and 20000.000000  and fit.acost<200.000000\n",
        "USA0\n",
        "loading ['P'] fit data...  select distinct lebo.evid, lebo.mb, lebo.lon, lebo.lat, lebo.depth, fp.phase, fit.sta, fit.dist, fit.azi, fit.band, fp.arrival_time, fp.peak_offset, fp.coda_height, fp.coda_decay, fp.amp_transfer from  leb_origin lebo, sigvisa_coda_fit_phase fp, sigvisa_coda_fit fit where fp.fitid = fit.fitid and fp.coda_height > -10.000000 and fit.chan='SHZ' and fit.band='freq_2.0_3.0' and fit.sta='USA0' and (fit.runid = 21) and (fp.phase = 'P')  and fit.azi between 0.000000 and 360.000000 and fit.evid=lebo.evid and lebo.mb between 0.000000 and 100.000000 and fit.dist between 0.000000 and 20000.000000  and fit.acost<200.000000\n",
        "sql done\n",
        "(0,)\n",
        "found no shape data matching query select distinct lebo.evid, lebo.mb, lebo.lon, lebo.lat, lebo.depth, fp.phase, fit.sta, fit.dist, fit.azi, fit.band, fp.arrival_time, fp.peak_offset, fp.coda_height, fp.coda_decay, fp.amp_transfer from  leb_origin lebo, sigvisa_coda_fit_phase fp, sigvisa_coda_fit fit where fp.fitid = fit.fitid and fp.coda_height > -10.000000 and fit.chan='SHZ' and fit.band='freq_2.0_3.0' and fit.sta='USA0' and (fit.runid = 21) and (fp.phase = 'P')  and fit.azi between 0.000000 and 360.000000 and fit.evid=lebo.evid and lebo.mb between 0.000000 and 100.000000 and fit.dist between 0.000000 and 20000.000000  and fit.acost<200.000000\n",
        "MMA0\n",
        "loading ['P'] fit data...  select distinct lebo.evid, lebo.mb, lebo.lon, lebo.lat, lebo.depth, fp.phase, fit.sta, fit.dist, fit.azi, fit.band, fp.arrival_time, fp.peak_offset, fp.coda_height, fp.coda_decay, fp.amp_transfer from  leb_origin lebo, sigvisa_coda_fit_phase fp, sigvisa_coda_fit fit where fp.fitid = fit.fitid and fp.coda_height > -10.000000 and fit.chan='BHZ' and fit.band='freq_2.0_3.0' and fit.sta='MMA0' and (fit.runid = 21) and (fp.phase = 'P')  and fit.azi between 0.000000 and 360.000000 and fit.evid=lebo.evid and lebo.mb between 0.000000 and 100.000000 and fit.dist between 0.000000 and 20000.000000  and fit.acost<200.000000\n",
        "sql done\n",
        "(0,)\n",
        "found no shape data matching query select distinct lebo.evid, lebo.mb, lebo.lon, lebo.lat, lebo.depth, fp.phase, fit.sta, fit.dist, fit.azi, fit.band, fp.arrival_time, fp.peak_offset, fp.coda_height, fp.coda_decay, fp.amp_transfer from  leb_origin lebo, sigvisa_coda_fit_phase fp, sigvisa_coda_fit fit where fp.fitid = fit.fitid and fp.coda_height > -10.000000 and fit.chan='BHZ' and fit.band='freq_2.0_3.0' and fit.sta='MMA0' and (fit.runid = 21) and (fp.phase = 'P')  and fit.azi between 0.000000 and 360.000000 and fit.evid=lebo.evid and lebo.mb between 0.000000 and 100.000000 and fit.dist between 0.000000 and 20000.000000  and fit.acost<200.000000\n",
        "NWAO\n",
        "loading ['P'] fit data...  3 entries loaded\n",
        "PFO"
       ]
      },
      {
       "output_type": "stream",
       "stream": "stdout",
       "text": [
        "\n",
        "loading ['P'] fit data...  select distinct lebo.evid, lebo.mb, lebo.lon, lebo.lat, lebo.depth, fp.phase, fit.sta, fit.dist, fit.azi, fit.band, fp.arrival_time, fp.peak_offset, fp.coda_height, fp.coda_decay, fp.amp_transfer from  leb_origin lebo, sigvisa_coda_fit_phase fp, sigvisa_coda_fit fit where fp.fitid = fit.fitid and fp.coda_height > -10.000000 and fit.chan='BHZ' and fit.band='freq_2.0_3.0' and fit.sta='PFO' and (fit.runid = 21) and (fp.phase = 'P')  and fit.azi between 0.000000 and 360.000000 and fit.evid=lebo.evid and lebo.mb between 0.000000 and 100.000000 and fit.dist between 0.000000 and 20000.000000  and fit.acost<200.000000\n",
        "sql done\n",
        "(0,)\n",
        "found no shape data matching query select distinct lebo.evid, lebo.mb, lebo.lon, lebo.lat, lebo.depth, fp.phase, fit.sta, fit.dist, fit.azi, fit.band, fp.arrival_time, fp.peak_offset, fp.coda_height, fp.coda_decay, fp.amp_transfer from  leb_origin lebo, sigvisa_coda_fit_phase fp, sigvisa_coda_fit fit where fp.fitid = fit.fitid and fp.coda_height > -10.000000 and fit.chan='BHZ' and fit.band='freq_2.0_3.0' and fit.sta='PFO' and (fit.runid = 21) and (fp.phase = 'P')  and fit.azi between 0.000000 and 360.000000 and fit.evid=lebo.evid and lebo.mb between 0.000000 and 100.000000 and fit.dist between 0.000000 and 20000.000000  and fit.acost<200.000000\n",
        "KURBB\n",
        "loading ['P'] fit data...  8 entries loaded\n",
        "TGY"
       ]
      },
      {
       "output_type": "stream",
       "stream": "stdout",
       "text": [
        "\n",
        "loading ['P'] fit data...  5 entries loaded\n",
        "CM16"
       ]
      },
      {
       "output_type": "stream",
       "stream": "stdout",
       "text": [
        "\n",
        "loading ['P'] fit data...  54 entries loaded\n",
        "BDFB"
       ]
      },
      {
       "output_type": "stream",
       "stream": "stdout",
       "text": [
        "\n",
        "loading ['P'] fit data...  2 entries loaded\n",
        "DAVOX"
       ]
      },
      {
       "output_type": "stream",
       "stream": "stdout",
       "text": [
        "\n",
        "loading ['P'] fit data...  15 entries loaded\n",
        "\n",
        "DZM\n",
        "loading ['P'] fit data...  8 entries loaded\n",
        "BORG"
       ]
      },
      {
       "output_type": "stream",
       "stream": "stdout",
       "text": [
        "\n",
        "loading ['P'] fit data...  select distinct lebo.evid, lebo.mb, lebo.lon, lebo.lat, lebo.depth, fp.phase, fit.sta, fit.dist, fit.azi, fit.band, fp.arrival_time, fp.peak_offset, fp.coda_height, fp.coda_decay, fp.amp_transfer from  leb_origin lebo, sigvisa_coda_fit_phase fp, sigvisa_coda_fit fit where fp.fitid = fit.fitid and fp.coda_height > -10.000000 and fit.chan='BHZ' and fit.band='freq_2.0_3.0' and fit.sta='BORG' and (fit.runid = 21) and (fp.phase = 'P')  and fit.azi between 0.000000 and 360.000000 and fit.evid=lebo.evid and lebo.mb between 0.000000 and 100.000000 and fit.dist between 0.000000 and 20000.000000  and fit.acost<200.000000\n",
        "sql done\n",
        "(0,)\n",
        "found no shape data matching query select distinct lebo.evid, lebo.mb, lebo.lon, lebo.lat, lebo.depth, fp.phase, fit.sta, fit.dist, fit.azi, fit.band, fp.arrival_time, fp.peak_offset, fp.coda_height, fp.coda_decay, fp.amp_transfer from  leb_origin lebo, sigvisa_coda_fit_phase fp, sigvisa_coda_fit fit where fp.fitid = fit.fitid and fp.coda_height > -10.000000 and fit.chan='BHZ' and fit.band='freq_2.0_3.0' and fit.sta='BORG' and (fit.runid = 21) and (fp.phase = 'P')  and fit.azi between 0.000000 and 360.000000 and fit.evid=lebo.evid and lebo.mb between 0.000000 and 100.000000 and fit.dist between 0.000000 and 20000.000000  and fit.acost<200.000000\n",
        "SIV\n",
        "loading ['P'] fit data...  11 entries loaded\n",
        "STKA"
       ]
      },
      {
       "output_type": "stream",
       "stream": "stdout",
       "text": [
        "\n",
        "loading ['P'] fit data...  22 entries loaded\n",
        "VNDA"
       ]
      },
      {
       "output_type": "stream",
       "stream": "stdout",
       "text": [
        "\n",
        "loading ['P'] fit data...  5 entries loaded\n",
        "PMSA"
       ]
      },
      {
       "output_type": "stream",
       "stream": "stdout",
       "text": [
        "\n",
        "loading ['P'] fit data...  15 entries loaded\n",
        "\n",
        "NNA\n",
        "loading ['P'] fit data...  15 entries loaded\n",
        "\n",
        "RAR\n",
        "loading ['P'] fit data...  15 entries loaded\n",
        "\n",
        "AS12\n",
        "loading ['P'] fit data...  47 entries loaded\n",
        "LPAZ"
       ]
      },
      {
       "output_type": "stream",
       "stream": "stdout",
       "text": [
        "\n",
        "loading ['P'] fit data...  6 entries loaded\n",
        "SONA0"
       ]
      },
      {
       "output_type": "stream",
       "stream": "stdout",
       "text": [
        "\n",
        "loading ['P'] fit data...  4 entries loaded\n",
        "ATAH"
       ]
      },
      {
       "output_type": "stream",
       "stream": "stdout",
       "text": [
        "\n",
        "loading ['P'] fit data...  select distinct lebo.evid, lebo.mb, lebo.lon, lebo.lat, lebo.depth, fp.phase, fit.sta, fit.dist, fit.azi, fit.band, fp.arrival_time, fp.peak_offset, fp.coda_height, fp.coda_decay, fp.amp_transfer from  leb_origin lebo, sigvisa_coda_fit_phase fp, sigvisa_coda_fit fit where fp.fitid = fit.fitid and fp.coda_height > -10.000000 and fit.chan='BHZ' and fit.band='freq_2.0_3.0' and fit.sta='ATAH' and (fit.runid = 21) and (fp.phase = 'P')  and fit.azi between 0.000000 and 360.000000 and fit.evid=lebo.evid and lebo.mb between 0.000000 and 100.000000 and fit.dist between 0.000000 and 20000.000000  and fit.acost<200.000000\n",
        "sql done\n",
        "(0,)\n",
        "found no shape data matching query select distinct lebo.evid, lebo.mb, lebo.lon, lebo.lat, lebo.depth, fp.phase, fit.sta, fit.dist, fit.azi, fit.band, fp.arrival_time, fp.peak_offset, fp.coda_height, fp.coda_decay, fp.amp_transfer from  leb_origin lebo, sigvisa_coda_fit_phase fp, sigvisa_coda_fit fit where fp.fitid = fit.fitid and fp.coda_height > -10.000000 and fit.chan='BHZ' and fit.band='freq_2.0_3.0' and fit.sta='ATAH' and (fit.runid = 21) and (fp.phase = 'P')  and fit.azi between 0.000000 and 360.000000 and fit.evid=lebo.evid and lebo.mb between 0.000000 and 100.000000 and fit.dist between 0.000000 and 20000.000000  and fit.acost<200.000000\n",
        "RCBR\n",
        "loading ['P'] fit data...  select distinct lebo.evid, lebo.mb, lebo.lon, lebo.lat, lebo.depth, fp.phase, fit.sta, fit.dist, fit.azi, fit.band, fp.arrival_time, fp.peak_offset, fp.coda_height, fp.coda_decay, fp.amp_transfer from  leb_origin lebo, sigvisa_coda_fit_phase fp, sigvisa_coda_fit fit where fp.fitid = fit.fitid and fp.coda_height > -10.000000 and fit.chan='BHZ' and fit.band='freq_2.0_3.0' and fit.sta='RCBR' and (fit.runid = 21) and (fp.phase = 'P')  and fit.azi between 0.000000 and 360.000000 and fit.evid=lebo.evid and lebo.mb between 0.000000 and 100.000000 and fit.dist between 0.000000 and 20000.000000  and fit.acost<200.000000\n",
        "sql done\n",
        "(0,)\n",
        "found no shape data matching query select distinct lebo.evid, lebo.mb, lebo.lon, lebo.lat, lebo.depth, fp.phase, fit.sta, fit.dist, fit.azi, fit.band, fp.arrival_time, fp.peak_offset, fp.coda_height, fp.coda_decay, fp.amp_transfer from  leb_origin lebo, sigvisa_coda_fit_phase fp, sigvisa_coda_fit fit where fp.fitid = fit.fitid and fp.coda_height > -10.000000 and fit.chan='BHZ' and fit.band='freq_2.0_3.0' and fit.sta='RCBR' and (fit.runid = 21) and (fp.phase = 'P')  and fit.azi between 0.000000 and 360.000000 and fit.evid=lebo.evid and lebo.mb between 0.000000 and 100.000000 and fit.dist between 0.000000 and 20000.000000  and fit.acost<200.000000\n",
        "FITZ\n",
        "loading ['P'] fit data...  22 entries loaded\n",
        "JMIC"
       ]
      },
      {
       "output_type": "stream",
       "stream": "stdout",
       "text": [
        "\n",
        "loading ['P'] fit data...  select distinct lebo.evid, lebo.mb, lebo.lon, lebo.lat, lebo.depth, fp.phase, fit.sta, fit.dist, fit.azi, fit.band, fp.arrival_time, fp.peak_offset, fp.coda_height, fp.coda_decay, fp.amp_transfer from  leb_origin lebo, sigvisa_coda_fit_phase fp, sigvisa_coda_fit fit where fp.fitid = fit.fitid and fp.coda_height > -10.000000 and fit.chan='BHZ' and fit.band='freq_2.0_3.0' and fit.sta='JMIC' and (fit.runid = 21) and (fp.phase = 'P')  and fit.azi between 0.000000 and 360.000000 and fit.evid=lebo.evid and lebo.mb between 0.000000 and 100.000000 and fit.dist between 0.000000 and 20000.000000  and fit.acost<200.000000\n",
        "sql done\n",
        "(0,)\n",
        "found no shape data matching query select distinct lebo.evid, lebo.mb, lebo.lon, lebo.lat, lebo.depth, fp.phase, fit.sta, fit.dist, fit.azi, fit.band, fp.arrival_time, fp.peak_offset, fp.coda_height, fp.coda_decay, fp.amp_transfer from  leb_origin lebo, sigvisa_coda_fit_phase fp, sigvisa_coda_fit fit where fp.fitid = fit.fitid and fp.coda_height > -10.000000 and fit.chan='BHZ' and fit.band='freq_2.0_3.0' and fit.sta='JMIC' and (fit.runid = 21) and (fp.phase = 'P')  and fit.azi between 0.000000 and 360.000000 and fit.evid=lebo.evid and lebo.mb between 0.000000 and 100.000000 and fit.dist between 0.000000 and 20000.000000  and fit.acost<200.000000\n",
        "BOSA\n",
        "loading ['P'] fit data...  select distinct lebo.evid, lebo.mb, lebo.lon, lebo.lat, lebo.depth, fp.phase, fit.sta, fit.dist, fit.azi, fit.band, fp.arrival_time, fp.peak_offset, fp.coda_height, fp.coda_decay, fp.amp_transfer from  leb_origin lebo, sigvisa_coda_fit_phase fp, sigvisa_coda_fit fit where fp.fitid = fit.fitid and fp.coda_height > -10.000000 and fit.chan='BHZ' and fit.band='freq_2.0_3.0' and fit.sta='BOSA' and (fit.runid = 21) and (fp.phase = 'P')  and fit.azi between 0.000000 and 360.000000 and fit.evid=lebo.evid and lebo.mb between 0.000000 and 100.000000 and fit.dist between 0.000000 and 20000.000000  and fit.acost<200.000000\n",
        "sql done\n",
        "(0,)\n",
        "found no shape data matching query select distinct lebo.evid, lebo.mb, lebo.lon, lebo.lat, lebo.depth, fp.phase, fit.sta, fit.dist, fit.azi, fit.band, fp.arrival_time, fp.peak_offset, fp.coda_height, fp.coda_decay, fp.amp_transfer from  leb_origin lebo, sigvisa_coda_fit_phase fp, sigvisa_coda_fit fit where fp.fitid = fit.fitid and fp.coda_height > -10.000000 and fit.chan='BHZ' and fit.band='freq_2.0_3.0' and fit.sta='BOSA' and (fit.runid = 21) and (fp.phase = 'P')  and fit.azi between 0.000000 and 360.000000 and fit.evid=lebo.evid and lebo.mb between 0.000000 and 100.000000 and fit.dist between 0.000000 and 20000.000000  and fit.acost<200.000000\n",
        "URZ\n",
        "loading ['P'] fit data...  6 entries loaded\n",
        "BBTS"
       ]
      },
      {
       "output_type": "stream",
       "stream": "stdout",
       "text": [
        "\n",
        "loading ['P'] fit data...  15 entries loaded\n",
        "\n",
        "PLCA\n",
        "loading ['P'] fit data...  2 entries loaded\n",
        "ARA0"
       ]
      },
      {
       "output_type": "stream",
       "stream": "stdout",
       "text": [
        "\n",
        "loading ['P'] fit data...  select distinct lebo.evid, lebo.mb, lebo.lon, lebo.lat, lebo.depth, fp.phase, fit.sta, fit.dist, fit.azi, fit.band, fp.arrival_time, fp.peak_offset, fp.coda_height, fp.coda_decay, fp.amp_transfer from  leb_origin lebo, sigvisa_coda_fit_phase fp, sigvisa_coda_fit fit where fp.fitid = fit.fitid and fp.coda_height > -10.000000 and fit.chan='sz' and fit.band='freq_2.0_3.0' and fit.sta='ARA0' and (fit.runid = 21) and (fp.phase = 'P')  and fit.azi between 0.000000 and 360.000000 and fit.evid=lebo.evid and lebo.mb between 0.000000 and 100.000000 and fit.dist between 0.000000 and 20000.000000  and fit.acost<200.000000\n",
        "sql done\n",
        "(0,)\n",
        "found no shape data matching query select distinct lebo.evid, lebo.mb, lebo.lon, lebo.lat, lebo.depth, fp.phase, fit.sta, fit.dist, fit.azi, fit.band, fp.arrival_time, fp.peak_offset, fp.coda_height, fp.coda_decay, fp.amp_transfer from  leb_origin lebo, sigvisa_coda_fit_phase fp, sigvisa_coda_fit fit where fp.fitid = fit.fitid and fp.coda_height > -10.000000 and fit.chan='sz' and fit.band='freq_2.0_3.0' and fit.sta='ARA0' and (fit.runid = 21) and (fp.phase = 'P')  and fit.azi between 0.000000 and 360.000000 and fit.evid=lebo.evid and lebo.mb between 0.000000 and 100.000000 and fit.dist between 0.000000 and 20000.000000  and fit.acost<200.000000\n",
        "JNU\n",
        "loading ['P'] fit data...  3 entries loaded\n",
        "MAW"
       ]
      },
      {
       "output_type": "stream",
       "stream": "stdout",
       "text": [
        "\n",
        "loading ['P'] fit data...  select distinct lebo.evid, lebo.mb, lebo.lon, lebo.lat, lebo.depth, fp.phase, fit.sta, fit.dist, fit.azi, fit.band, fp.arrival_time, fp.peak_offset, fp.coda_height, fp.coda_decay, fp.amp_transfer from  leb_origin lebo, sigvisa_coda_fit_phase fp, sigvisa_coda_fit fit where fp.fitid = fit.fitid and fp.coda_height > -10.000000 and fit.chan='BHZ' and fit.band='freq_2.0_3.0' and fit.sta='MAW' and (fit.runid = 21) and (fp.phase = 'P')  and fit.azi between 0.000000 and 360.000000 and fit.evid=lebo.evid and lebo.mb between 0.000000 and 100.000000 and fit.dist between 0.000000 and 20000.000000  and fit.acost<200.000000\n",
        "sql done\n",
        "(0,)\n",
        "found no shape data matching query select distinct lebo.evid, lebo.mb, lebo.lon, lebo.lat, lebo.depth, fp.phase, fit.sta, fit.dist, fit.azi, fit.band, fp.arrival_time, fp.peak_offset, fp.coda_height, fp.coda_decay, fp.amp_transfer from  leb_origin lebo, sigvisa_coda_fit_phase fp, sigvisa_coda_fit fit where fp.fitid = fit.fitid and fp.coda_height > -10.000000 and fit.chan='BHZ' and fit.band='freq_2.0_3.0' and fit.sta='MAW' and (fit.runid = 21) and (fp.phase = 'P')  and fit.azi between 0.000000 and 360.000000 and fit.evid=lebo.evid and lebo.mb between 0.000000 and 100.000000 and fit.dist between 0.000000 and 20000.000000  and fit.acost<200.000000\n",
        "SNAA\n",
        "loading ['P'] fit data...  2 entries loaded\n",
        "KEST"
       ]
      },
      {
       "output_type": "stream",
       "stream": "stdout",
       "text": [
        "\n",
        "loading ['P'] fit data...  select distinct lebo.evid, lebo.mb, lebo.lon, lebo.lat, lebo.depth, fp.phase, fit.sta, fit.dist, fit.azi, fit.band, fp.arrival_time, fp.peak_offset, fp.coda_height, fp.coda_decay, fp.amp_transfer from  leb_origin lebo, sigvisa_coda_fit_phase fp, sigvisa_coda_fit fit where fp.fitid = fit.fitid and fp.coda_height > -10.000000 and fit.chan='BHZ' and fit.band='freq_2.0_3.0' and fit.sta='KEST' and (fit.runid = 21) and (fp.phase = 'P')  and fit.azi between 0.000000 and 360.000000 and fit.evid=lebo.evid and lebo.mb between 0.000000 and 100.000000 and fit.dist between 0.000000 and 20000.000000  and fit.acost<200.000000\n",
        "sql done\n",
        "(0,)\n",
        "found no shape data matching query select distinct lebo.evid, lebo.mb, lebo.lon, lebo.lat, lebo.depth, fp.phase, fit.sta, fit.dist, fit.azi, fit.band, fp.arrival_time, fp.peak_offset, fp.coda_height, fp.coda_decay, fp.amp_transfer from  leb_origin lebo, sigvisa_coda_fit_phase fp, sigvisa_coda_fit fit where fp.fitid = fit.fitid and fp.coda_height > -10.000000 and fit.chan='BHZ' and fit.band='freq_2.0_3.0' and fit.sta='KEST' and (fit.runid = 21) and (fp.phase = 'P')  and fit.azi between 0.000000 and 360.000000 and fit.evid=lebo.evid and lebo.mb between 0.000000 and 100.000000 and fit.dist between 0.000000 and 20000.000000  and fit.acost<200.000000\n",
        "ROSC\n",
        "loading ['P'] fit data...  2 entries loaded\n",
        "ZAA0"
       ]
      },
      {
       "output_type": "stream",
       "stream": "stdout",
       "text": [
        "\n",
        "loading ['P'] fit data...  3 entries loaded\n",
        "SUR"
       ]
      },
      {
       "output_type": "stream",
       "stream": "stdout",
       "text": [
        "\n",
        "loading ['P'] fit data...  15 entries loaded\n",
        "\n",
        "CFAA\n",
        "loading ['P'] fit data...  15 entries loaded\n",
        "\n",
        "CMIG\n",
        "loading ['P'] fit data...  select distinct lebo.evid, lebo.mb, lebo.lon, lebo.lat, lebo.depth, fp.phase, fit.sta, fit.dist, fit.azi, fit.band, fp.arrival_time, fp.peak_offset, fp.coda_height, fp.coda_decay, fp.amp_transfer from  leb_origin lebo, sigvisa_coda_fit_phase fp, sigvisa_coda_fit fit where fp.fitid = fit.fitid and fp.coda_height > -10.000000 and fit.chan='BHZ' and fit.band='freq_2.0_3.0' and fit.sta='CMIG' and (fit.runid = 21) and (fp.phase = 'P')  and fit.azi between 0.000000 and 360.000000 and fit.evid=lebo.evid and lebo.mb between 0.000000 and 100.000000 and fit.dist between 0.000000 and 20000.000000  and fit.acost<200.000000\n",
        "sql done\n",
        "(0,)\n",
        "found no shape data matching query select distinct lebo.evid, lebo.mb, lebo.lon, lebo.lat, lebo.depth, fp.phase, fit.sta, fit.dist, fit.azi, fit.band, fp.arrival_time, fp.peak_offset, fp.coda_height, fp.coda_decay, fp.amp_transfer from  leb_origin lebo, sigvisa_coda_fit_phase fp, sigvisa_coda_fit fit where fp.fitid = fit.fitid and fp.coda_height > -10.000000 and fit.chan='BHZ' and fit.band='freq_2.0_3.0' and fit.sta='CMIG' and (fit.runid = 21) and (fp.phase = 'P')  and fit.azi between 0.000000 and 360.000000 and fit.evid=lebo.evid and lebo.mb between 0.000000 and 100.000000 and fit.dist between 0.000000 and 20000.000000  and fit.acost<200.000000\n",
        "YBH\n",
        "loading ['P'] fit data...  7 entries loaded\n",
        "AKTO"
       ]
      },
      {
       "output_type": "stream",
       "stream": "stdout",
       "text": [
        "\n",
        "loading ['P'] fit data...  5 entries loaded\n",
        "TKL"
       ]
      },
      {
       "output_type": "stream",
       "stream": "stdout",
       "text": [
        "\n",
        "loading ['P'] fit data...  2 entries loaded\n",
        "GUMO"
       ]
      },
      {
       "output_type": "stream",
       "stream": "stdout",
       "text": [
        "\n",
        "loading ['P'] fit data...  5 entries loaded\n",
        "KBZ"
       ]
      },
      {
       "output_type": "stream",
       "stream": "stdout",
       "text": [
        "\n",
        "loading ['P'] fit data...  15 entries loaded\n",
        "\n",
        "NV01\n",
        "loading ['P'] fit data...  select distinct lebo.evid, lebo.mb, lebo.lon, lebo.lat, lebo.depth, fp.phase, fit.sta, fit.dist, fit.azi, fit.band, fp.arrival_time, fp.peak_offset, fp.coda_height, fp.coda_decay, fp.amp_transfer from  leb_origin lebo, sigvisa_coda_fit_phase fp, sigvisa_coda_fit fit where fp.fitid = fit.fitid and fp.coda_height > -10.000000 and fit.chan='sz' and fit.band='freq_2.0_3.0' and fit.sta='NV01' and (fit.runid = 21) and (fp.phase = 'P')  and fit.azi between 0.000000 and 360.000000 and fit.evid=lebo.evid and lebo.mb between 0.000000 and 100.000000 and fit.dist between 0.000000 and 20000.000000  and fit.acost<200.000000\n",
        "sql done\n",
        "(0,)\n",
        "found no shape data matching query select distinct lebo.evid, lebo.mb, lebo.lon, lebo.lat, lebo.depth, fp.phase, fit.sta, fit.dist, fit.azi, fit.band, fp.arrival_time, fp.peak_offset, fp.coda_height, fp.coda_decay, fp.amp_transfer from  leb_origin lebo, sigvisa_coda_fit_phase fp, sigvisa_coda_fit fit where fp.fitid = fit.fitid and fp.coda_height > -10.000000 and fit.chan='sz' and fit.band='freq_2.0_3.0' and fit.sta='NV01' and (fit.runid = 21) and (fp.phase = 'P')  and fit.azi between 0.000000 and 360.000000 and fit.evid=lebo.evid and lebo.mb between 0.000000 and 100.000000 and fit.dist between 0.000000 and 20000.000000  and fit.acost<200.000000\n",
        "LSZ\n",
        "loading ['P'] fit data...  select distinct lebo.evid, lebo.mb, lebo.lon, lebo.lat, lebo.depth, fp.phase, fit.sta, fit.dist, fit.azi, fit.band, fp.arrival_time, fp.peak_offset, fp.coda_height, fp.coda_decay, fp.amp_transfer from  leb_origin lebo, sigvisa_coda_fit_phase fp, sigvisa_coda_fit fit where fp.fitid = fit.fitid and fp.coda_height > -10.000000 and fit.chan='BHZ' and fit.band='freq_2.0_3.0' and fit.sta='LSZ' and (fit.runid = 21) and (fp.phase = 'P')  and fit.azi between 0.000000 and 360.000000 and fit.evid=lebo.evid and lebo.mb between 0.000000 and 100.000000 and fit.dist between 0.000000 and 20000.000000  and fit.acost<200.000000\n",
        "sql done\n",
        "(0,)\n",
        "found no shape data matching query select distinct lebo.evid, lebo.mb, lebo.lon, lebo.lat, lebo.depth, fp.phase, fit.sta, fit.dist, fit.azi, fit.band, fp.arrival_time, fp.peak_offset, fp.coda_height, fp.coda_decay, fp.amp_transfer from  leb_origin lebo, sigvisa_coda_fit_phase fp, sigvisa_coda_fit fit where fp.fitid = fit.fitid and fp.coda_height > -10.000000 and fit.chan='BHZ' and fit.band='freq_2.0_3.0' and fit.sta='LSZ' and (fit.runid = 21) and (fp.phase = 'P')  and fit.azi between 0.000000 and 360.000000 and fit.evid=lebo.evid and lebo.mb between 0.000000 and 100.000000 and fit.dist between 0.000000 and 20000.000000  and fit.acost<200.000000\n",
        "FIA0\n",
        "loading ['P'] fit data...  select distinct lebo.evid, lebo.mb, lebo.lon, lebo.lat, lebo.depth, fp.phase, fit.sta, fit.dist, fit.azi, fit.band, fp.arrival_time, fp.peak_offset, fp.coda_height, fp.coda_decay, fp.amp_transfer from  leb_origin lebo, sigvisa_coda_fit_phase fp, sigvisa_coda_fit fit where fp.fitid = fit.fitid and fp.coda_height > -10.000000 and fit.chan='SHZ' and fit.band='freq_2.0_3.0' and fit.sta='FIA0' and (fit.runid = 21) and (fp.phase = 'P')  and fit.azi between 0.000000 and 360.000000 and fit.evid=lebo.evid and lebo.mb between 0.000000 and 100.000000 and fit.dist between 0.000000 and 20000.000000  and fit.acost<200.000000\n",
        "sql done\n",
        "(0,)\n",
        "found no shape data matching query select distinct lebo.evid, lebo.mb, lebo.lon, lebo.lat, lebo.depth, fp.phase, fit.sta, fit.dist, fit.azi, fit.band, fp.arrival_time, fp.peak_offset, fp.coda_height, fp.coda_decay, fp.amp_transfer from  leb_origin lebo, sigvisa_coda_fit_phase fp, sigvisa_coda_fit fit where fp.fitid = fit.fitid and fp.coda_height > -10.000000 and fit.chan='SHZ' and fit.band='freq_2.0_3.0' and fit.sta='FIA0' and (fit.runid = 21) and (fp.phase = 'P')  and fit.azi between 0.000000 and 360.000000 and fit.evid=lebo.evid and lebo.mb between 0.000000 and 100.000000 and fit.dist between 0.000000 and 20000.000000  and fit.acost<200.000000\n",
        "AFI\n",
        "loading ['P'] fit data...  3 entries loaded\n",
        "YKR8"
       ]
      },
      {
       "output_type": "stream",
       "stream": "stdout",
       "text": [
        "\n",
        "loading ['P'] fit data...  4 entries loaded\n",
        "JTS"
       ]
      },
      {
       "output_type": "stream",
       "stream": "stdout",
       "text": [
        "\n",
        "loading ['P'] fit data...  select distinct lebo.evid, lebo.mb, lebo.lon, lebo.lat, lebo.depth, fp.phase, fit.sta, fit.dist, fit.azi, fit.band, fp.arrival_time, fp.peak_offset, fp.coda_height, fp.coda_decay, fp.amp_transfer from  leb_origin lebo, sigvisa_coda_fit_phase fp, sigvisa_coda_fit fit where fp.fitid = fit.fitid and fp.coda_height > -10.000000 and fit.chan='BHZ' and fit.band='freq_2.0_3.0' and fit.sta='JTS' and (fit.runid = 21) and (fp.phase = 'P')  and fit.azi between 0.000000 and 360.000000 and fit.evid=lebo.evid and lebo.mb between 0.000000 and 100.000000 and fit.dist between 0.000000 and 20000.000000  and fit.acost<200.000000\n",
        "sql done\n",
        "(0,)\n",
        "found no shape data matching query select distinct lebo.evid, lebo.mb, lebo.lon, lebo.lat, lebo.depth, fp.phase, fit.sta, fit.dist, fit.azi, fit.band, fp.arrival_time, fp.peak_offset, fp.coda_height, fp.coda_decay, fp.amp_transfer from  leb_origin lebo, sigvisa_coda_fit_phase fp, sigvisa_coda_fit fit where fp.fitid = fit.fitid and fp.coda_height > -10.000000 and fit.chan='BHZ' and fit.band='freq_2.0_3.0' and fit.sta='JTS' and (fit.runid = 21) and (fp.phase = 'P')  and fit.azi between 0.000000 and 360.000000 and fit.evid=lebo.evid and lebo.mb between 0.000000 and 100.000000 and fit.dist between 0.000000 and 20000.000000  and fit.acost<200.000000\n",
        "KMBO\n",
        "loading ['P'] fit data...  select distinct lebo.evid, lebo.mb, lebo.lon, lebo.lat, lebo.depth, fp.phase, fit.sta, fit.dist, fit.azi, fit.band, fp.arrival_time, fp.peak_offset, fp.coda_height, fp.coda_decay, fp.amp_transfer from  leb_origin lebo, sigvisa_coda_fit_phase fp, sigvisa_coda_fit fit where fp.fitid = fit.fitid and fp.coda_height > -10.000000 and fit.chan='BHZ' and fit.band='freq_2.0_3.0' and fit.sta='KMBO' and (fit.runid = 21) and (fp.phase = 'P')  and fit.azi between 0.000000 and 360.000000 and fit.evid=lebo.evid and lebo.mb between 0.000000 and 100.000000 and fit.dist between 0.000000 and 20000.000000  and fit.acost<200.000000\n",
        "sql done\n",
        "(0,)\n",
        "found no shape data matching query select distinct lebo.evid, lebo.mb, lebo.lon, lebo.lat, lebo.depth, fp.phase, fit.sta, fit.dist, fit.azi, fit.band, fp.arrival_time, fp.peak_offset, fp.coda_height, fp.coda_decay, fp.amp_transfer from  leb_origin lebo, sigvisa_coda_fit_phase fp, sigvisa_coda_fit fit where fp.fitid = fit.fitid and fp.coda_height > -10.000000 and fit.chan='BHZ' and fit.band='freq_2.0_3.0' and fit.sta='KMBO' and (fit.runid = 21) and (fp.phase = 'P')  and fit.azi between 0.000000 and 360.000000 and fit.evid=lebo.evid and lebo.mb between 0.000000 and 100.000000 and fit.dist between 0.000000 and 20000.000000  and fit.acost<200.000000\n",
        "MBAR\n",
        "loading ['P'] fit data...  select distinct lebo.evid, lebo.mb, lebo.lon, lebo.lat, lebo.depth, fp.phase, fit.sta, fit.dist, fit.azi, fit.band, fp.arrival_time, fp.peak_offset, fp.coda_height, fp.coda_decay, fp.amp_transfer from  leb_origin lebo, sigvisa_coda_fit_phase fp, sigvisa_coda_fit fit where fp.fitid = fit.fitid and fp.coda_height > -10.000000 and fit.chan='BHZ' and fit.band='freq_2.0_3.0' and fit.sta='MBAR' and (fit.runid = 21) and (fp.phase = 'P')  and fit.azi between 0.000000 and 360.000000 and fit.evid=lebo.evid and lebo.mb between 0.000000 and 100.000000 and fit.dist between 0.000000 and 20000.000000  and fit.acost<200.000000\n",
        "sql done\n",
        "(0,)\n",
        "found no shape data matching query select distinct lebo.evid, lebo.mb, lebo.lon, lebo.lat, lebo.depth, fp.phase, fit.sta, fit.dist, fit.azi, fit.band, fp.arrival_time, fp.peak_offset, fp.coda_height, fp.coda_decay, fp.amp_transfer from  leb_origin lebo, sigvisa_coda_fit_phase fp, sigvisa_coda_fit fit where fp.fitid = fit.fitid and fp.coda_height > -10.000000 and fit.chan='BHZ' and fit.band='freq_2.0_3.0' and fit.sta='MBAR' and (fit.runid = 21) and (fp.phase = 'P')  and fit.azi between 0.000000 and 360.000000 and fit.evid=lebo.evid and lebo.mb between 0.000000 and 100.000000 and fit.dist between 0.000000 and 20000.000000  and fit.acost<200.000000\n",
        "PSI\n",
        "loading ['P'] fit data...  5 entries loaded\n",
        "PEA0"
       ]
      },
      {
       "output_type": "stream",
       "stream": "stdout",
       "text": [
        "\n",
        "loading ['P'] fit data...  15 entries loaded\n",
        "\n",
        "RAO\n",
        "loading ['P'] fit data...  select distinct lebo.evid, lebo.mb, lebo.lon, lebo.lat, lebo.depth, fp.phase, fit.sta, fit.dist, fit.azi, fit.band, fp.arrival_time, fp.peak_offset, fp.coda_height, fp.coda_decay, fp.amp_transfer from  leb_origin lebo, sigvisa_coda_fit_phase fp, sigvisa_coda_fit fit where fp.fitid = fit.fitid and fp.coda_height > -10.000000 and fit.chan='BHZ' and fit.band='freq_2.0_3.0' and fit.sta='RAO' and (fit.runid = 21) and (fp.phase = 'P')  and fit.azi between 0.000000 and 360.000000 and fit.evid=lebo.evid and lebo.mb between 0.000000 and 100.000000 and fit.dist between 0.000000 and 20000.000000  and fit.acost<200.000000\n",
        "sql done\n",
        "(0,)\n",
        "found no shape data matching query select distinct lebo.evid, lebo.mb, lebo.lon, lebo.lat, lebo.depth, fp.phase, fit.sta, fit.dist, fit.azi, fit.band, fp.arrival_time, fp.peak_offset, fp.coda_height, fp.coda_decay, fp.amp_transfer from  leb_origin lebo, sigvisa_coda_fit_phase fp, sigvisa_coda_fit fit where fp.fitid = fit.fitid and fp.coda_height > -10.000000 and fit.chan='BHZ' and fit.band='freq_2.0_3.0' and fit.sta='RAO' and (fit.runid = 21) and (fp.phase = 'P')  and fit.azi between 0.000000 and 360.000000 and fit.evid=lebo.evid and lebo.mb between 0.000000 and 100.000000 and fit.dist between 0.000000 and 20000.000000  and fit.acost<200.000000\n",
        "OPO\n",
        "loading ['P'] fit data...  15 entries loaded\n",
        "\n",
        "TOA0\n",
        "loading ['P'] fit data...  15 entries loaded\n",
        "\n",
        "NB200\n",
        "loading ['P'] fit data...  select distinct lebo.evid, lebo.mb, lebo.lon, lebo.lat, lebo.depth, fp.phase, fit.sta, fit.dist, fit.azi, fit.band, fp.arrival_time, fp.peak_offset, fp.coda_height, fp.coda_decay, fp.amp_transfer from  leb_origin lebo, sigvisa_coda_fit_phase fp, sigvisa_coda_fit fit where fp.fitid = fit.fitid and fp.coda_height > -10.000000 and fit.chan='sz' and fit.band='freq_2.0_3.0' and fit.sta='NB200' and (fit.runid = 21) and (fp.phase = 'P')  and fit.azi between 0.000000 and 360.000000 and fit.evid=lebo.evid and lebo.mb between 0.000000 and 100.000000 and fit.dist between 0.000000 and 20000.000000  and fit.acost<200.000000\n",
        "sql done\n",
        "(0,)\n",
        "found no shape data matching query select distinct lebo.evid, lebo.mb, lebo.lon, lebo.lat, lebo.depth, fp.phase, fit.sta, fit.dist, fit.azi, fit.band, fp.arrival_time, fp.peak_offset, fp.coda_height, fp.coda_decay, fp.amp_transfer from  leb_origin lebo, sigvisa_coda_fit_phase fp, sigvisa_coda_fit fit where fp.fitid = fit.fitid and fp.coda_height > -10.000000 and fit.chan='sz' and fit.band='freq_2.0_3.0' and fit.sta='NB200' and (fit.runid = 21) and (fp.phase = 'P')  and fit.azi between 0.000000 and 360.000000 and fit.evid=lebo.evid and lebo.mb between 0.000000 and 100.000000 and fit.dist between 0.000000 and 20000.000000  and fit.acost<200.000000\n",
        "ATD\n",
        "loading ['P'] fit data...  select distinct lebo.evid, lebo.mb, lebo.lon, lebo.lat, lebo.depth, fp.phase, fit.sta, fit.dist, fit.azi, fit.band, fp.arrival_time, fp.peak_offset, fp.coda_height, fp.coda_decay, fp.amp_transfer from  leb_origin lebo, sigvisa_coda_fit_phase fp, sigvisa_coda_fit fit where fp.fitid = fit.fitid and fp.coda_height > -10.000000 and fit.chan='BHZ' and fit.band='freq_2.0_3.0' and fit.sta='ATD' and (fit.runid = 21) and (fp.phase = 'P')  and fit.azi between 0.000000 and 360.000000 and fit.evid=lebo.evid and lebo.mb between 0.000000 and 100.000000 and fit.dist between 0.000000 and 20000.000000  and fit.acost<200.000000\n",
        "sql done\n",
        "(0,)\n",
        "found no shape data matching query select distinct lebo.evid, lebo.mb, lebo.lon, lebo.lat, lebo.depth, fp.phase, fit.sta, fit.dist, fit.azi, fit.band, fp.arrival_time, fp.peak_offset, fp.coda_height, fp.coda_decay, fp.amp_transfer from  leb_origin lebo, sigvisa_coda_fit_phase fp, sigvisa_coda_fit fit where fp.fitid = fit.fitid and fp.coda_height > -10.000000 and fit.chan='BHZ' and fit.band='freq_2.0_3.0' and fit.sta='ATD' and (fit.runid = 21) and (fp.phase = 'P')  and fit.azi between 0.000000 and 360.000000 and fit.evid=lebo.evid and lebo.mb between 0.000000 and 100.000000 and fit.dist between 0.000000 and 20000.000000  and fit.acost<200.000000\n",
        "DLBC\n",
        "loading ['P'] fit data...  15 entries loaded\n",
        "\n",
        "RES\n",
        "loading ['P'] fit data...  15 entries loaded\n",
        "\n",
        "ULM\n",
        "loading ['P'] fit data...  2 entries loaded\n",
        "HNR"
       ]
      },
      {
       "output_type": "stream",
       "stream": "stdout",
       "text": [
        "\n",
        "loading ['P'] fit data...  2 entries loaded\n",
        "CTA"
       ]
      },
      {
       "output_type": "stream",
       "stream": "stdout",
       "text": [
        "\n",
        "loading ['P'] fit data...  10 entries loaded\n",
        "NEW"
       ]
      },
      {
       "output_type": "stream",
       "stream": "stdout",
       "text": [
        "\n",
        "loading ['P'] fit data...  15 entries loaded\n",
        "\n",
        "SPA0\n",
        "loading ['P'] fit data...  3 entries loaded\n",
        "KAPI"
       ]
      },
      {
       "output_type": "stream",
       "stream": "stdout",
       "text": [
        "\n",
        "loading ['P'] fit data...  11 entries loaded\n",
        "ATTU"
       ]
      },
      {
       "output_type": "stream",
       "stream": "stdout",
       "text": [
        "\n",
        "loading ['P'] fit data...  3 entries loaded\n",
        "SCHQ"
       ]
      },
      {
       "output_type": "stream",
       "stream": "stdout",
       "text": [
        "\n",
        "loading ['P'] fit data...  2 entries loaded\n",
        "PMG"
       ]
      },
      {
       "output_type": "stream",
       "stream": "stdout",
       "text": [
        "\n",
        "loading ['P'] fit data...  22 entries loaded\n",
        "ASF"
       ]
      },
      {
       "output_type": "stream",
       "stream": "stdout",
       "text": [
        "\n",
        "loading ['P'] fit data...  select distinct lebo.evid, lebo.mb, lebo.lon, lebo.lat, lebo.depth, fp.phase, fit.sta, fit.dist, fit.azi, fit.band, fp.arrival_time, fp.peak_offset, fp.coda_height, fp.coda_decay, fp.amp_transfer from  leb_origin lebo, sigvisa_coda_fit_phase fp, sigvisa_coda_fit fit where fp.fitid = fit.fitid and fp.coda_height > -10.000000 and fit.chan='BHZ' and fit.band='freq_2.0_3.0' and fit.sta='ASF' and (fit.runid = 21) and (fp.phase = 'P')  and fit.azi between 0.000000 and 360.000000 and fit.evid=lebo.evid and lebo.mb between 0.000000 and 100.000000 and fit.dist between 0.000000 and 20000.000000  and fit.acost<200.000000\n",
        "sql done\n",
        "(0,)\n",
        "found no shape data matching query select distinct lebo.evid, lebo.mb, lebo.lon, lebo.lat, lebo.depth, fp.phase, fit.sta, fit.dist, fit.azi, fit.band, fp.arrival_time, fp.peak_offset, fp.coda_height, fp.coda_decay, fp.amp_transfer from  leb_origin lebo, sigvisa_coda_fit_phase fp, sigvisa_coda_fit fit where fp.fitid = fit.fitid and fp.coda_height > -10.000000 and fit.chan='BHZ' and fit.band='freq_2.0_3.0' and fit.sta='ASF' and (fit.runid = 21) and (fp.phase = 'P')  and fit.azi between 0.000000 and 360.000000 and fit.evid=lebo.evid and lebo.mb between 0.000000 and 100.000000 and fit.dist between 0.000000 and 20000.000000  and fit.acost<200.000000\n",
        "JKA\n",
        "loading ['P'] fit data...  4 entries loaded\n",
        "MDT"
       ]
      },
      {
       "output_type": "stream",
       "stream": "stdout",
       "text": [
        "\n",
        "loading ['P'] fit data...  select distinct lebo.evid, lebo.mb, lebo.lon, lebo.lat, lebo.depth, fp.phase, fit.sta, fit.dist, fit.azi, fit.band, fp.arrival_time, fp.peak_offset, fp.coda_height, fp.coda_decay, fp.amp_transfer from  leb_origin lebo, sigvisa_coda_fit_phase fp, sigvisa_coda_fit fit where fp.fitid = fit.fitid and fp.coda_height > -10.000000 and fit.chan='BHZ' and fit.band='freq_2.0_3.0' and fit.sta='MDT' and (fit.runid = 21) and (fp.phase = 'P')  and fit.azi between 0.000000 and 360.000000 and fit.evid=lebo.evid and lebo.mb between 0.000000 and 100.000000 and fit.dist between 0.000000 and 20000.000000  and fit.acost<200.000000\n",
        "sql done\n",
        "(0,)\n",
        "found no shape data matching query select distinct lebo.evid, lebo.mb, lebo.lon, lebo.lat, lebo.depth, fp.phase, fit.sta, fit.dist, fit.azi, fit.band, fp.arrival_time, fp.peak_offset, fp.coda_height, fp.coda_decay, fp.amp_transfer from  leb_origin lebo, sigvisa_coda_fit_phase fp, sigvisa_coda_fit fit where fp.fitid = fit.fitid and fp.coda_height > -10.000000 and fit.chan='BHZ' and fit.band='freq_2.0_3.0' and fit.sta='MDT' and (fit.runid = 21) and (fp.phase = 'P')  and fit.azi between 0.000000 and 360.000000 and fit.evid=lebo.evid and lebo.mb between 0.000000 and 100.000000 and fit.dist between 0.000000 and 20000.000000  and fit.acost<200.000000\n",
        "ELK\n",
        "loading ['P'] fit data...  select distinct lebo.evid, lebo.mb, lebo.lon, lebo.lat, lebo.depth, fp.phase, fit.sta, fit.dist, fit.azi, fit.band, fp.arrival_time, fp.peak_offset, fp.coda_height, fp.coda_decay, fp.amp_transfer from  leb_origin lebo, sigvisa_coda_fit_phase fp, sigvisa_coda_fit fit where fp.fitid = fit.fitid and fp.coda_height > -10.000000 and fit.chan='BHZ' and fit.band='freq_2.0_3.0' and fit.sta='ELK' and (fit.runid = 21) and (fp.phase = 'P')  and fit.azi between 0.000000 and 360.000000 and fit.evid=lebo.evid and lebo.mb between 0.000000 and 100.000000 and fit.dist between 0.000000 and 20000.000000  and fit.acost<200.000000\n",
        "sql done\n",
        "(0,)\n",
        "found no shape data matching query select distinct lebo.evid, lebo.mb, lebo.lon, lebo.lat, lebo.depth, fp.phase, fit.sta, fit.dist, fit.azi, fit.band, fp.arrival_time, fp.peak_offset, fp.coda_height, fp.coda_decay, fp.amp_transfer from  leb_origin lebo, sigvisa_coda_fit_phase fp, sigvisa_coda_fit fit where fp.fitid = fit.fitid and fp.coda_height > -10.000000 and fit.chan='BHZ' and fit.band='freq_2.0_3.0' and fit.sta='ELK' and (fit.runid = 21) and (fp.phase = 'P')  and fit.azi between 0.000000 and 360.000000 and fit.evid=lebo.evid and lebo.mb between 0.000000 and 100.000000 and fit.dist between 0.000000 and 20000.000000  and fit.acost<200.000000\n",
        "KDAK\n",
        "loading ['P'] fit data...  3 entries loaded\n",
        "WR1"
       ]
      },
      {
       "output_type": "stream",
       "stream": "stdout",
       "text": [
        "\n",
        "loading ['P'] fit data...  101 entries loaded\n",
        "BBB"
       ]
      },
      {
       "output_type": "stream",
       "stream": "stdout",
       "text": [
        "\n",
        "loading ['P'] fit data...  select distinct lebo.evid, lebo.mb, lebo.lon, lebo.lat, lebo.depth, fp.phase, fit.sta, fit.dist, fit.azi, fit.band, fp.arrival_time, fp.peak_offset, fp.coda_height, fp.coda_decay, fp.amp_transfer from  leb_origin lebo, sigvisa_coda_fit_phase fp, sigvisa_coda_fit fit where fp.fitid = fit.fitid and fp.coda_height > -10.000000 and fit.chan='BHZ' and fit.band='freq_2.0_3.0' and fit.sta='BBB' and (fit.runid = 21) and (fp.phase = 'P')  and fit.azi between 0.000000 and 360.000000 and fit.evid=lebo.evid and lebo.mb between 0.000000 and 100.000000 and fit.dist between 0.000000 and 20000.000000  and fit.acost<200.000000\n",
        "sql done\n",
        "(0,)\n",
        "found no shape data matching query select distinct lebo.evid, lebo.mb, lebo.lon, lebo.lat, lebo.depth, fp.phase, fit.sta, fit.dist, fit.azi, fit.band, fp.arrival_time, fp.peak_offset, fp.coda_height, fp.coda_decay, fp.amp_transfer from  leb_origin lebo, sigvisa_coda_fit_phase fp, sigvisa_coda_fit fit where fp.fitid = fit.fitid and fp.coda_height > -10.000000 and fit.chan='BHZ' and fit.band='freq_2.0_3.0' and fit.sta='BBB' and (fit.runid = 21) and (fp.phase = 'P')  and fit.azi between 0.000000 and 360.000000 and fit.evid=lebo.evid and lebo.mb between 0.000000 and 100.000000 and fit.dist between 0.000000 and 20000.000000  and fit.acost<200.000000\n",
        "CPUP\n",
        "loading ['P'] fit data...  select distinct lebo.evid, lebo.mb, lebo.lon, lebo.lat, lebo.depth, fp.phase, fit.sta, fit.dist, fit.azi, fit.band, fp.arrival_time, fp.peak_offset, fp.coda_height, fp.coda_decay, fp.amp_transfer from  leb_origin lebo, sigvisa_coda_fit_phase fp, sigvisa_coda_fit fit where fp.fitid = fit.fitid and fp.coda_height > -10.000000 and fit.chan='BHZ' and fit.band='freq_2.0_3.0' and fit.sta='CPUP' and (fit.runid = 21) and (fp.phase = 'P')  and fit.azi between 0.000000 and 360.000000 and fit.evid=lebo.evid and lebo.mb between 0.000000 and 100.000000 and fit.dist between 0.000000 and 20000.000000  and fit.acost<200.000000\n",
        "sql done\n",
        "(0,)\n",
        "found no shape data matching query select distinct lebo.evid, lebo.mb, lebo.lon, lebo.lat, lebo.depth, fp.phase, fit.sta, fit.dist, fit.azi, fit.band, fp.arrival_time, fp.peak_offset, fp.coda_height, fp.coda_decay, fp.amp_transfer from  leb_origin lebo, sigvisa_coda_fit_phase fp, sigvisa_coda_fit fit where fp.fitid = fit.fitid and fp.coda_height > -10.000000 and fit.chan='BHZ' and fit.band='freq_2.0_3.0' and fit.sta='CPUP' and (fit.runid = 21) and (fp.phase = 'P')  and fit.azi between 0.000000 and 360.000000 and fit.evid=lebo.evid and lebo.mb between 0.000000 and 100.000000 and fit.dist between 0.000000 and 20000.000000  and fit.acost<200.000000\n",
        "SJG\n",
        "loading ['P'] fit data...  3 entries loaded\n",
        "SFJD"
       ]
      },
      {
       "output_type": "stream",
       "stream": "stdout",
       "text": [
        "\n",
        "loading ['P'] fit data...  select distinct lebo.evid, lebo.mb, lebo.lon, lebo.lat, lebo.depth, fp.phase, fit.sta, fit.dist, fit.azi, fit.band, fp.arrival_time, fp.peak_offset, fp.coda_height, fp.coda_decay, fp.amp_transfer from  leb_origin lebo, sigvisa_coda_fit_phase fp, sigvisa_coda_fit fit where fp.fitid = fit.fitid and fp.coda_height > -10.000000 and fit.chan='BHZ' and fit.band='freq_2.0_3.0' and fit.sta='SFJD' and (fit.runid = 21) and (fp.phase = 'P')  and fit.azi between 0.000000 and 360.000000 and fit.evid=lebo.evid and lebo.mb between 0.000000 and 100.000000 and fit.dist between 0.000000 and 20000.000000  and fit.acost<200.000000\n",
        "sql done\n",
        "(0,)\n",
        "found no shape data matching query select distinct lebo.evid, lebo.mb, lebo.lon, lebo.lat, lebo.depth, fp.phase, fit.sta, fit.dist, fit.azi, fit.band, fp.arrival_time, fp.peak_offset, fp.coda_height, fp.coda_decay, fp.amp_transfer from  leb_origin lebo, sigvisa_coda_fit_phase fp, sigvisa_coda_fit fit where fp.fitid = fit.fitid and fp.coda_height > -10.000000 and fit.chan='BHZ' and fit.band='freq_2.0_3.0' and fit.sta='SFJD' and (fit.runid = 21) and (fp.phase = 'P')  and fit.azi between 0.000000 and 360.000000 and fit.evid=lebo.evid and lebo.mb between 0.000000 and 100.000000 and fit.dist between 0.000000 and 20000.000000  and fit.acost<200.000000\n",
        "ANMO\n",
        "loading ['P'] fit data...  select distinct lebo.evid, lebo.mb, lebo.lon, lebo.lat, lebo.depth, fp.phase, fit.sta, fit.dist, fit.azi, fit.band, fp.arrival_time, fp.peak_offset, fp.coda_height, fp.coda_decay, fp.amp_transfer from  leb_origin lebo, sigvisa_coda_fit_phase fp, sigvisa_coda_fit fit where fp.fitid = fit.fitid and fp.coda_height > -10.000000 and fit.chan='BHZ' and fit.band='freq_2.0_3.0' and fit.sta='ANMO' and (fit.runid = 21) and (fp.phase = 'P')  and fit.azi between 0.000000 and 360.000000 and fit.evid=lebo.evid and lebo.mb between 0.000000 and 100.000000 and fit.dist between 0.000000 and 20000.000000  and fit.acost<200.000000\n",
        "sql done\n",
        "(0,)\n",
        "found no shape data matching query select distinct lebo.evid, lebo.mb, lebo.lon, lebo.lat, lebo.depth, fp.phase, fit.sta, fit.dist, fit.azi, fit.band, fp.arrival_time, fp.peak_offset, fp.coda_height, fp.coda_decay, fp.amp_transfer from  leb_origin lebo, sigvisa_coda_fit_phase fp, sigvisa_coda_fit fit where fp.fitid = fit.fitid and fp.coda_height > -10.000000 and fit.chan='BHZ' and fit.band='freq_2.0_3.0' and fit.sta='ANMO' and (fit.runid = 21) and (fp.phase = 'P')  and fit.azi between 0.000000 and 360.000000 and fit.evid=lebo.evid and lebo.mb between 0.000000 and 100.000000 and fit.dist between 0.000000 and 20000.000000  and fit.acost<200.000000\n",
        "TSUM\n",
        "loading ['P'] fit data...  select distinct lebo.evid, lebo.mb, lebo.lon, lebo.lat, lebo.depth, fp.phase, fit.sta, fit.dist, fit.azi, fit.band, fp.arrival_time, fp.peak_offset, fp.coda_height, fp.coda_decay, fp.amp_transfer from  leb_origin lebo, sigvisa_coda_fit_phase fp, sigvisa_coda_fit fit where fp.fitid = fit.fitid and fp.coda_height > -10.000000 and fit.chan='BHZ' and fit.band='freq_2.0_3.0' and fit.sta='TSUM' and (fit.runid = 21) and (fp.phase = 'P')  and fit.azi between 0.000000 and 360.000000 and fit.evid=lebo.evid and lebo.mb between 0.000000 and 100.000000 and fit.dist between 0.000000 and 20000.000000  and fit.acost<200.000000\n",
        "sql done\n",
        "(0,)\n",
        "found no shape data matching query select distinct lebo.evid, lebo.mb, lebo.lon, lebo.lat, lebo.depth, fp.phase, fit.sta, fit.dist, fit.azi, fit.band, fp.arrival_time, fp.peak_offset, fp.coda_height, fp.coda_decay, fp.amp_transfer from  leb_origin lebo, sigvisa_coda_fit_phase fp, sigvisa_coda_fit fit where fp.fitid = fit.fitid and fp.coda_height > -10.000000 and fit.chan='BHZ' and fit.band='freq_2.0_3.0' and fit.sta='TSUM' and (fit.runid = 21) and (fp.phase = 'P')  and fit.azi between 0.000000 and 360.000000 and fit.evid=lebo.evid and lebo.mb between 0.000000 and 100.000000 and fit.dist between 0.000000 and 20000.000000  and fit.acost<200.000000\n",
        "FRB\n",
        "loading ['P'] fit data...  select distinct lebo.evid, lebo.mb, lebo.lon, lebo.lat, lebo.depth, fp.phase, fit.sta, fit.dist, fit.azi, fit.band, fp.arrival_time, fp.peak_offset, fp.coda_height, fp.coda_decay, fp.amp_transfer from  leb_origin lebo, sigvisa_coda_fit_phase fp, sigvisa_coda_fit fit where fp.fitid = fit.fitid and fp.coda_height > -10.000000 and fit.chan='BHZ' and fit.band='freq_2.0_3.0' and fit.sta='FRB' and (fit.runid = 21) and (fp.phase = 'P')  and fit.azi between 0.000000 and 360.000000 and fit.evid=lebo.evid and lebo.mb between 0.000000 and 100.000000 and fit.dist between 0.000000 and 20000.000000  and fit.acost<200.000000\n",
        "sql done\n",
        "(0,)\n",
        "found no shape data matching query select distinct lebo.evid, lebo.mb, lebo.lon, lebo.lat, lebo.depth, fp.phase, fit.sta, fit.dist, fit.azi, fit.band, fp.arrival_time, fp.peak_offset, fp.coda_height, fp.coda_decay, fp.amp_transfer from  leb_origin lebo, sigvisa_coda_fit_phase fp, sigvisa_coda_fit fit where fp.fitid = fit.fitid and fp.coda_height > -10.000000 and fit.chan='BHZ' and fit.band='freq_2.0_3.0' and fit.sta='FRB' and (fit.runid = 21) and (fp.phase = 'P')  and fit.azi between 0.000000 and 360.000000 and fit.evid=lebo.evid and lebo.mb between 0.000000 and 100.000000 and fit.dist between 0.000000 and 20000.000000  and fit.acost<200.000000\n",
        "AKBB\n",
        "loading ['P'] fit data...  2 entries loaded\n",
        "JHJ"
       ]
      },
      {
       "output_type": "stream",
       "stream": "stdout",
       "text": [
        "\n",
        "loading ['P'] fit data...  select distinct lebo.evid, lebo.mb, lebo.lon, lebo.lat, lebo.depth, fp.phase, fit.sta, fit.dist, fit.azi, fit.band, fp.arrival_time, fp.peak_offset, fp.coda_height, fp.coda_decay, fp.amp_transfer from  leb_origin lebo, sigvisa_coda_fit_phase fp, sigvisa_coda_fit fit where fp.fitid = fit.fitid and fp.coda_height > -10.000000 and fit.chan='BHZ' and fit.band='freq_2.0_3.0' and fit.sta='JHJ' and (fit.runid = 21) and (fp.phase = 'P')  and fit.azi between 0.000000 and 360.000000 and fit.evid=lebo.evid and lebo.mb between 0.000000 and 100.000000 and fit.dist between 0.000000 and 20000.000000  and fit.acost<200.000000\n",
        "sql done\n",
        "(0,)\n",
        "found no shape data matching query select distinct lebo.evid, lebo.mb, lebo.lon, lebo.lat, lebo.depth, fp.phase, fit.sta, fit.dist, fit.azi, fit.band, fp.arrival_time, fp.peak_offset, fp.coda_height, fp.coda_decay, fp.amp_transfer from  leb_origin lebo, sigvisa_coda_fit_phase fp, sigvisa_coda_fit fit where fp.fitid = fit.fitid and fp.coda_height > -10.000000 and fit.chan='BHZ' and fit.band='freq_2.0_3.0' and fit.sta='JHJ' and (fit.runid = 21) and (fp.phase = 'P')  and fit.azi between 0.000000 and 360.000000 and fit.evid=lebo.evid and lebo.mb between 0.000000 and 100.000000 and fit.dist between 0.000000 and 20000.000000  and fit.acost<200.000000\n",
        "AAK\n",
        "loading ['P'] fit data...  4 entries loaded\n",
        "MK31"
       ]
      },
      {
       "output_type": "stream",
       "stream": "stdout",
       "text": [
        "\n",
        "loading ['P'] fit data...  16 entries loaded\n",
        "VRAC"
       ]
      },
      {
       "output_type": "stream",
       "stream": "stdout",
       "text": [
        "\n",
        "loading ['P'] fit data...  15 entries loaded\n",
        "\n",
        "QSPA\n",
        "loading ['P'] fit data...  25 entries loaded\n",
        "GNI"
       ]
      },
      {
       "output_type": "stream",
       "stream": "stdout",
       "text": [
        "\n",
        "loading ['P'] fit data...  3 entries loaded\n",
        "EIL"
       ]
      },
      {
       "output_type": "stream",
       "stream": "stdout",
       "text": [
        "\n",
        "loading ['P'] fit data...  select distinct lebo.evid, lebo.mb, lebo.lon, lebo.lat, lebo.depth, fp.phase, fit.sta, fit.dist, fit.azi, fit.band, fp.arrival_time, fp.peak_offset, fp.coda_height, fp.coda_decay, fp.amp_transfer from  leb_origin lebo, sigvisa_coda_fit_phase fp, sigvisa_coda_fit fit where fp.fitid = fit.fitid and fp.coda_height > -10.000000 and fit.chan='BHZ' and fit.band='freq_2.0_3.0' and fit.sta='EIL' and (fit.runid = 21) and (fp.phase = 'P')  and fit.azi between 0.000000 and 360.000000 and fit.evid=lebo.evid and lebo.mb between 0.000000 and 100.000000 and fit.dist between 0.000000 and 20000.000000  and fit.acost<200.000000\n",
        "sql done\n",
        "(0,)\n",
        "found no shape data matching query select distinct lebo.evid, lebo.mb, lebo.lon, lebo.lat, lebo.depth, fp.phase, fit.sta, fit.dist, fit.azi, fit.band, fp.arrival_time, fp.peak_offset, fp.coda_height, fp.coda_decay, fp.amp_transfer from  leb_origin lebo, sigvisa_coda_fit_phase fp, sigvisa_coda_fit fit where fp.fitid = fit.fitid and fp.coda_height > -10.000000 and fit.chan='BHZ' and fit.band='freq_2.0_3.0' and fit.sta='EIL' and (fit.runid = 21) and (fp.phase = 'P')  and fit.azi between 0.000000 and 360.000000 and fit.evid=lebo.evid and lebo.mb between 0.000000 and 100.000000 and fit.dist between 0.000000 and 20000.000000  and fit.acost<200.000000\n",
        "TEIG\n",
        "loading ['P'] fit data...  2 entries loaded\n",
        "BVA0"
       ]
      },
      {
       "output_type": "stream",
       "stream": "stdout",
       "text": [
        "\n",
        "loading ['P'] fit data...  2 entries loaded\n",
        "RPZ"
       ]
      },
      {
       "output_type": "stream",
       "stream": "stdout",
       "text": [
        "\n",
        "loading ['P'] fit data...  5 entries loaded\n",
        "DBIC"
       ]
      },
      {
       "output_type": "stream",
       "stream": "stdout",
       "text": [
        "\n",
        "loading ['P'] fit data...  select distinct lebo.evid, lebo.mb, lebo.lon, lebo.lat, lebo.depth, fp.phase, fit.sta, fit.dist, fit.azi, fit.band, fp.arrival_time, fp.peak_offset, fp.coda_height, fp.coda_decay, fp.amp_transfer from  leb_origin lebo, sigvisa_coda_fit_phase fp, sigvisa_coda_fit fit where fp.fitid = fit.fitid and fp.coda_height > -10.000000 and fit.chan='BHZ' and fit.band='freq_2.0_3.0' and fit.sta='DBIC' and (fit.runid = 21) and (fp.phase = 'P')  and fit.azi between 0.000000 and 360.000000 and fit.evid=lebo.evid and lebo.mb between 0.000000 and 100.000000 and fit.dist between 0.000000 and 20000.000000  and fit.acost<200.000000\n",
        "sql done\n",
        "(0,)\n",
        "found no shape data matching query select distinct lebo.evid, lebo.mb, lebo.lon, lebo.lat, lebo.depth, fp.phase, fit.sta, fit.dist, fit.azi, fit.band, fp.arrival_time, fp.peak_offset, fp.coda_height, fp.coda_decay, fp.amp_transfer from  leb_origin lebo, sigvisa_coda_fit_phase fp, sigvisa_coda_fit fit where fp.fitid = fit.fitid and fp.coda_height > -10.000000 and fit.chan='BHZ' and fit.band='freq_2.0_3.0' and fit.sta='DBIC' and (fit.runid = 21) and (fp.phase = 'P')  and fit.azi between 0.000000 and 360.000000 and fit.evid=lebo.evid and lebo.mb between 0.000000 and 100.000000 and fit.dist between 0.000000 and 20000.000000  and fit.acost<200.000000\n",
        "DAV\n",
        "loading ['P'] fit data...  15 entries loaded\n",
        "\n",
        "LBTB\n",
        "loading ['P'] fit data...  select distinct lebo.evid, lebo.mb, lebo.lon, lebo.lat, lebo.depth, fp.phase, fit.sta, fit.dist, fit.azi, fit.band, fp.arrival_time, fp.peak_offset, fp.coda_height, fp.coda_decay, fp.amp_transfer from  leb_origin lebo, sigvisa_coda_fit_phase fp, sigvisa_coda_fit fit where fp.fitid = fit.fitid and fp.coda_height > -10.000000 and fit.chan='BHZ' and fit.band='freq_2.0_3.0' and fit.sta='LBTB' and (fit.runid = 21) and (fp.phase = 'P')  and fit.azi between 0.000000 and 360.000000 and fit.evid=lebo.evid and lebo.mb between 0.000000 and 100.000000 and fit.dist between 0.000000 and 20000.000000  and fit.acost<200.000000\n",
        "sql done\n",
        "(0,)\n",
        "found no shape data matching query select distinct lebo.evid, lebo.mb, lebo.lon, lebo.lat, lebo.depth, fp.phase, fit.sta, fit.dist, fit.azi, fit.band, fp.arrival_time, fp.peak_offset, fp.coda_height, fp.coda_decay, fp.amp_transfer from  leb_origin lebo, sigvisa_coda_fit_phase fp, sigvisa_coda_fit fit where fp.fitid = fit.fitid and fp.coda_height > -10.000000 and fit.chan='BHZ' and fit.band='freq_2.0_3.0' and fit.sta='LBTB' and (fit.runid = 21) and (fp.phase = 'P')  and fit.azi between 0.000000 and 360.000000 and fit.evid=lebo.evid and lebo.mb between 0.000000 and 100.000000 and fit.dist between 0.000000 and 20000.000000  and fit.acost<200.000000\n",
        "PPT\n",
        "loading ['P'] fit data...  select distinct lebo.evid, lebo.mb, lebo.lon, lebo.lat, lebo.depth, fp.phase, fit.sta, fit.dist, fit.azi, fit.band, fp.arrival_time, fp.peak_offset, fp.coda_height, fp.coda_decay, fp.amp_transfer from  leb_origin lebo, sigvisa_coda_fit_phase fp, sigvisa_coda_fit fit where fp.fitid = fit.fitid and fp.coda_height > -10.000000 and fit.chan='SHZ' and fit.band='freq_2.0_3.0' and fit.sta='PPT' and (fit.runid = 21) and (fp.phase = 'P')  and fit.azi between 0.000000 and 360.000000 and fit.evid=lebo.evid and lebo.mb between 0.000000 and 100.000000 and fit.dist between 0.000000 and 20000.000000  and fit.acost<200.000000\n",
        "sql done\n",
        "(0,)\n",
        "found no shape data matching query select distinct lebo.evid, lebo.mb, lebo.lon, lebo.lat, lebo.depth, fp.phase, fit.sta, fit.dist, fit.azi, fit.band, fp.arrival_time, fp.peak_offset, fp.coda_height, fp.coda_decay, fp.amp_transfer from  leb_origin lebo, sigvisa_coda_fit_phase fp, sigvisa_coda_fit fit where fp.fitid = fit.fitid and fp.coda_height > -10.000000 and fit.chan='SHZ' and fit.band='freq_2.0_3.0' and fit.sta='PPT' and (fit.runid = 21) and (fp.phase = 'P')  and fit.azi between 0.000000 and 360.000000 and fit.evid=lebo.evid and lebo.mb between 0.000000 and 100.000000 and fit.dist between 0.000000 and 20000.000000  and fit.acost<200.000000\n",
        "INK\n",
        "loading ['P'] fit data...  4 entries loaded\n",
        "SADO"
       ]
      },
      {
       "output_type": "stream",
       "stream": "stdout",
       "text": [
        "\n",
        "loading ['P'] fit data...  select distinct lebo.evid, lebo.mb, lebo.lon, lebo.lat, lebo.depth, fp.phase, fit.sta, fit.dist, fit.azi, fit.band, fp.arrival_time, fp.peak_offset, fp.coda_height, fp.coda_decay, fp.amp_transfer from  leb_origin lebo, sigvisa_coda_fit_phase fp, sigvisa_coda_fit fit where fp.fitid = fit.fitid and fp.coda_height > -10.000000 and fit.chan='BHZ' and fit.band='freq_2.0_3.0' and fit.sta='SADO' and (fit.runid = 21) and (fp.phase = 'P')  and fit.azi between 0.000000 and 360.000000 and fit.evid=lebo.evid and lebo.mb between 0.000000 and 100.000000 and fit.dist between 0.000000 and 20000.000000  and fit.acost<200.000000\n",
        "sql done\n",
        "(0,)\n",
        "found no shape data matching query select distinct lebo.evid, lebo.mb, lebo.lon, lebo.lat, lebo.depth, fp.phase, fit.sta, fit.dist, fit.azi, fit.band, fp.arrival_time, fp.peak_offset, fp.coda_height, fp.coda_decay, fp.amp_transfer from  leb_origin lebo, sigvisa_coda_fit_phase fp, sigvisa_coda_fit fit where fp.fitid = fit.fitid and fp.coda_height > -10.000000 and fit.chan='BHZ' and fit.band='freq_2.0_3.0' and fit.sta='SADO' and (fit.runid = 21) and (fp.phase = 'P')  and fit.azi between 0.000000 and 360.000000 and fit.evid=lebo.evid and lebo.mb between 0.000000 and 100.000000 and fit.dist between 0.000000 and 20000.000000  and fit.acost<200.000000\n",
        "MLR\n",
        "loading ['P'] fit data...  select distinct lebo.evid, lebo.mb, lebo.lon, lebo.lat, lebo.depth, fp.phase, fit.sta, fit.dist, fit.azi, fit.band, fp.arrival_time, fp.peak_offset, fp.coda_height, fp.coda_decay, fp.amp_transfer from  leb_origin lebo, sigvisa_coda_fit_phase fp, sigvisa_coda_fit fit where fp.fitid = fit.fitid and fp.coda_height > -10.000000 and fit.chan='BHZ' and fit.band='freq_2.0_3.0' and fit.sta='MLR' and (fit.runid = 21) and (fp.phase = 'P')  and fit.azi between 0.000000 and 360.000000 and fit.evid=lebo.evid and lebo.mb between 0.000000 and 100.000000 and fit.dist between 0.000000 and 20000.000000  and fit.acost<200.000000\n",
        "sql done\n",
        "(0,)\n",
        "found no shape data matching query select distinct lebo.evid, lebo.mb, lebo.lon, lebo.lat, lebo.depth, fp.phase, fit.sta, fit.dist, fit.azi, fit.band, fp.arrival_time, fp.peak_offset, fp.coda_height, fp.coda_decay, fp.amp_transfer from  leb_origin lebo, sigvisa_coda_fit_phase fp, sigvisa_coda_fit fit where fp.fitid = fit.fitid and fp.coda_height > -10.000000 and fit.chan='BHZ' and fit.band='freq_2.0_3.0' and fit.sta='MLR' and (fit.runid = 21) and (fp.phase = 'P')  and fit.azi between 0.000000 and 360.000000 and fit.evid=lebo.evid and lebo.mb between 0.000000 and 100.000000 and fit.dist between 0.000000 and 20000.000000  and fit.acost<200.000000\n",
        "LVC\n",
        "loading ['P'] fit data...  select distinct lebo.evid, lebo.mb, lebo.lon, lebo.lat, lebo.depth, fp.phase, fit.sta, fit.dist, fit.azi, fit.band, fp.arrival_time, fp.peak_offset, fp.coda_height, fp.coda_decay, fp.amp_transfer from  leb_origin lebo, sigvisa_coda_fit_phase fp, sigvisa_coda_fit fit where fp.fitid = fit.fitid and fp.coda_height > -10.000000 and fit.chan='BHZ' and fit.band='freq_2.0_3.0' and fit.sta='LVC' and (fit.runid = 21) and (fp.phase = 'P')  and fit.azi between 0.000000 and 360.000000 and fit.evid=lebo.evid and lebo.mb between 0.000000 and 100.000000 and fit.dist between 0.000000 and 20000.000000  and fit.acost<200.000000\n",
        "sql done\n",
        "(0,)\n",
        "found no shape data matching query select distinct lebo.evid, lebo.mb, lebo.lon, lebo.lat, lebo.depth, fp.phase, fit.sta, fit.dist, fit.azi, fit.band, fp.arrival_time, fp.peak_offset, fp.coda_height, fp.coda_decay, fp.amp_transfer from  leb_origin lebo, sigvisa_coda_fit_phase fp, sigvisa_coda_fit fit where fp.fitid = fit.fitid and fp.coda_height > -10.000000 and fit.chan='BHZ' and fit.band='freq_2.0_3.0' and fit.sta='LVC' and (fit.runid = 21) and (fp.phase = 'P')  and fit.azi between 0.000000 and 360.000000 and fit.evid=lebo.evid and lebo.mb between 0.000000 and 100.000000 and fit.dist between 0.000000 and 20000.000000  and fit.acost<200.000000\n",
        "IL31\n",
        "loading ['P'] fit data...  2 entries loaded\n",
        "KS31"
       ]
      },
      {
       "output_type": "stream",
       "stream": "stdout",
       "text": [
        "\n",
        "loading ['P'] fit data...  19 entries loaded\n",
        "JCJ"
       ]
      },
      {
       "output_type": "stream",
       "stream": "stdout",
       "text": [
        "\n",
        "loading ['P'] fit data...  3 entries loaded\n",
        "USHA"
       ]
      },
      {
       "output_type": "stream",
       "stream": "stdout",
       "text": [
        "\n",
        "loading ['P'] fit data...  select distinct lebo.evid, lebo.mb, lebo.lon, lebo.lat, lebo.depth, fp.phase, fit.sta, fit.dist, fit.azi, fit.band, fp.arrival_time, fp.peak_offset, fp.coda_height, fp.coda_decay, fp.amp_transfer from  leb_origin lebo, sigvisa_coda_fit_phase fp, sigvisa_coda_fit fit where fp.fitid = fit.fitid and fp.coda_height > -10.000000 and fit.chan='BHZ' and fit.band='freq_2.0_3.0' and fit.sta='USHA' and (fit.runid = 21) and (fp.phase = 'P')  and fit.azi between 0.000000 and 360.000000 and fit.evid=lebo.evid and lebo.mb between 0.000000 and 100.000000 and fit.dist between 0.000000 and 20000.000000  and fit.acost<200.000000\n",
        "sql done\n",
        "(0,)\n",
        "found no shape data matching query select distinct lebo.evid, lebo.mb, lebo.lon, lebo.lat, lebo.depth, fp.phase, fit.sta, fit.dist, fit.azi, fit.band, fp.arrival_time, fp.peak_offset, fp.coda_height, fp.coda_decay, fp.amp_transfer from  leb_origin lebo, sigvisa_coda_fit_phase fp, sigvisa_coda_fit fit where fp.fitid = fit.fitid and fp.coda_height > -10.000000 and fit.chan='BHZ' and fit.band='freq_2.0_3.0' and fit.sta='USHA' and (fit.runid = 21) and (fp.phase = 'P')  and fit.azi between 0.000000 and 360.000000 and fit.evid=lebo.evid and lebo.mb between 0.000000 and 100.000000 and fit.dist between 0.000000 and 20000.000000  and fit.acost<200.000000\n",
        "USA0\n",
        "loading ['P'] fit data...  select distinct lebo.evid, lebo.mb, lebo.lon, lebo.lat, lebo.depth, fp.phase, fit.sta, fit.dist, fit.azi, fit.band, fp.arrival_time, fp.peak_offset, fp.coda_height, fp.coda_decay, fp.amp_transfer from  leb_origin lebo, sigvisa_coda_fit_phase fp, sigvisa_coda_fit fit where fp.fitid = fit.fitid and fp.coda_height > -10.000000 and fit.chan='SHZ' and fit.band='freq_2.0_3.0' and fit.sta='USA0' and (fit.runid = 21) and (fp.phase = 'P')  and fit.azi between 0.000000 and 360.000000 and fit.evid=lebo.evid and lebo.mb between 0.000000 and 100.000000 and fit.dist between 0.000000 and 20000.000000  and fit.acost<200.000000\n",
        "sql done\n",
        "(0,)\n",
        "found no shape data matching query select distinct lebo.evid, lebo.mb, lebo.lon, lebo.lat, lebo.depth, fp.phase, fit.sta, fit.dist, fit.azi, fit.band, fp.arrival_time, fp.peak_offset, fp.coda_height, fp.coda_decay, fp.amp_transfer from  leb_origin lebo, sigvisa_coda_fit_phase fp, sigvisa_coda_fit fit where fp.fitid = fit.fitid and fp.coda_height > -10.000000 and fit.chan='SHZ' and fit.band='freq_2.0_3.0' and fit.sta='USA0' and (fit.runid = 21) and (fp.phase = 'P')  and fit.azi between 0.000000 and 360.000000 and fit.evid=lebo.evid and lebo.mb between 0.000000 and 100.000000 and fit.dist between 0.000000 and 20000.000000  and fit.acost<200.000000\n",
        "MMA0\n",
        "loading ['P'] fit data...  select distinct lebo.evid, lebo.mb, lebo.lon, lebo.lat, lebo.depth, fp.phase, fit.sta, fit.dist, fit.azi, fit.band, fp.arrival_time, fp.peak_offset, fp.coda_height, fp.coda_decay, fp.amp_transfer from  leb_origin lebo, sigvisa_coda_fit_phase fp, sigvisa_coda_fit fit where fp.fitid = fit.fitid and fp.coda_height > -10.000000 and fit.chan='BHZ' and fit.band='freq_2.0_3.0' and fit.sta='MMA0' and (fit.runid = 21) and (fp.phase = 'P')  and fit.azi between 0.000000 and 360.000000 and fit.evid=lebo.evid and lebo.mb between 0.000000 and 100.000000 and fit.dist between 0.000000 and 20000.000000  and fit.acost<200.000000\n",
        "sql done\n",
        "(0,)\n",
        "found no shape data matching query select distinct lebo.evid, lebo.mb, lebo.lon, lebo.lat, lebo.depth, fp.phase, fit.sta, fit.dist, fit.azi, fit.band, fp.arrival_time, fp.peak_offset, fp.coda_height, fp.coda_decay, fp.amp_transfer from  leb_origin lebo, sigvisa_coda_fit_phase fp, sigvisa_coda_fit fit where fp.fitid = fit.fitid and fp.coda_height > -10.000000 and fit.chan='BHZ' and fit.band='freq_2.0_3.0' and fit.sta='MMA0' and (fit.runid = 21) and (fp.phase = 'P')  and fit.azi between 0.000000 and 360.000000 and fit.evid=lebo.evid and lebo.mb between 0.000000 and 100.000000 and fit.dist between 0.000000 and 20000.000000  and fit.acost<200.000000\n",
        "NWAO\n",
        "loading ['P'] fit data...  3 entries loaded\n",
        "PFO"
       ]
      },
      {
       "output_type": "stream",
       "stream": "stdout",
       "text": [
        "\n",
        "loading ['P'] fit data...  select distinct lebo.evid, lebo.mb, lebo.lon, lebo.lat, lebo.depth, fp.phase, fit.sta, fit.dist, fit.azi, fit.band, fp.arrival_time, fp.peak_offset, fp.coda_height, fp.coda_decay, fp.amp_transfer from  leb_origin lebo, sigvisa_coda_fit_phase fp, sigvisa_coda_fit fit where fp.fitid = fit.fitid and fp.coda_height > -10.000000 and fit.chan='BHZ' and fit.band='freq_2.0_3.0' and fit.sta='PFO' and (fit.runid = 21) and (fp.phase = 'P')  and fit.azi between 0.000000 and 360.000000 and fit.evid=lebo.evid and lebo.mb between 0.000000 and 100.000000 and fit.dist between 0.000000 and 20000.000000  and fit.acost<200.000000\n",
        "sql done\n",
        "(0,)\n",
        "found no shape data matching query select distinct lebo.evid, lebo.mb, lebo.lon, lebo.lat, lebo.depth, fp.phase, fit.sta, fit.dist, fit.azi, fit.band, fp.arrival_time, fp.peak_offset, fp.coda_height, fp.coda_decay, fp.amp_transfer from  leb_origin lebo, sigvisa_coda_fit_phase fp, sigvisa_coda_fit fit where fp.fitid = fit.fitid and fp.coda_height > -10.000000 and fit.chan='BHZ' and fit.band='freq_2.0_3.0' and fit.sta='PFO' and (fit.runid = 21) and (fp.phase = 'P')  and fit.azi between 0.000000 and 360.000000 and fit.evid=lebo.evid and lebo.mb between 0.000000 and 100.000000 and fit.dist between 0.000000 and 20000.000000  and fit.acost<200.000000\n",
        "KURBB\n",
        "loading ['P'] fit data...  8 entries loaded\n"
       ]
      }
     ],
     "prompt_number": 21
    },
    {
     "cell_type": "code",
     "collapsed": false,
     "input": [
      "from collections import defaultdict\n",
      "\n",
      "def printlps(lps, lps_indep, ses):\n",
      "    total_lps = defaultdict(int)\n",
      "    total_lps_indep = defaultdict(int)\n",
      "    total_ses = defaultdict(int)\n",
      "    for ((sta, mtype, shrinkage), lp) in lps.items():\n",
      "        total_lps[(mtype,shrinkage)] += lp\n",
      "        \n",
      "    for ((sta, mtype, shrinkage), lp) in lps_indep.items():\n",
      "        total_lps_indep[(mtype,shrinkage)] += lp\n",
      "        \n",
      "    for ((sta, mtype, shrinkage), se) in ses.items():\n",
      "        total_ses[(mtype,shrinkage)] += se\n",
      "        \n",
      "    for (mtype, shrinkage) in sorted(total_lps.keys()):\n",
      "        print mtype, 'shrinkage', shrinkage, 'lp', total_lps[(mtype, shrinkage)], 'lp_indep', total_lps_indep[(mtype, shrinkage)], 'se', total_ses[(mtype, shrinkage)]\n",
      "\n",
      "    return total_lps, total_lps_indep, total_ses\n",
      "        \n",
      "tlp_at, tlpi_at, tse_at = printlps(lps_at, lps_indep_at, ses_at)\n",
      "tlp_cd, tlpi_cd, tse_cd= printlps(lps_cd, lps_indep_cd, ses_cd)\n",
      "tlp_po, tlpi_po, tse_po= printlps(lps_po, lps_indep_po, ses_po)"
     ],
     "language": "python",
     "metadata": {},
     "outputs": [
      {
       "output_type": "stream",
       "stream": "stdout",
       "text": [
        "gplocal+lld+sin1 shrinkage 0 lp -1122.15451812 lp_indep -1142.52710558 se 1287.70872226\n",
        "gplocal+lld+sin1 shrinkage 1 lp -1157.01387045 lp_indep -1175.83779839 se 1169.06023764\n",
        "gplocal+lld+sin1 shrinkage 2 lp -1157.30444857 lp_indep -1175.61828888 se 1186.73783554\n",
        "gplocal+lld+sin1 shrinkage 3 lp -1156.60162313 lp_indep -1174.21482889 se 1176.32336676\n",
        "gplocal+lld+sin1 shrinkage 4 lp -1161.05258425 lp_indep -1176.61299684 se 1207.47313013\n",
        "param_sin1 shrinkage 0 lp -1263.09308658 lp_indep -1285.60868616 se 1471.28599474\n",
        "param_sin1 shrinkage 1 lp -948.688183835 lp_indep -950.117546374 se 1213.74293455\n",
        "param_sin1 shrinkage 2 lp -953.493652945 lp_indep -954.964337872 se 1212.02350579\n",
        "param_sin1 shrinkage 3 lp -952.815654288 lp_indep -954.28282784 se 1211.84310518\n",
        "param_sin1 shrinkage 4 lp -951.620582661 lp_indep -953.076480688 se 1211.8365466\n",
        "gplocal+lld+linear_distmb shrinkage 0 lp -1666.08947166 lp_indep -1689.44001681 se 4802.08848541\n",
        "gplocal+lld+linear_distmb shrinkage 1 lp -1688.1956104 lp_indep -1700.42801978 se 4491.99279506\n",
        "gplocal+lld+linear_distmb shrinkage 2 lp -1705.29328991 lp_indep -1716.83229251 se 4522.34242965\n",
        "gplocal+lld+linear_distmb shrinkage 3 lp -1702.81120106 lp_indep -1713.59705468 se 4512.79563615\n",
        "gplocal+lld+linear_distmb shrinkage 4 lp -1696.09344517 lp_indep -1706.2557782 se 4503.0658304\n",
        "param_linear_distmb shrinkage 0 lp -1701.7990698 lp_indep -1720.17932643 se 4691.79653253\n",
        "param_linear_distmb shrinkage 1 lp -1507.76565456 lp_indep -1508.55984937 se 4081.63103009\n",
        "param_linear_distmb shrinkage 2 lp -1505.59791923 lp_indep -1506.43516209 se 4083.45921471\n",
        "param_linear_distmb shrinkage 3 lp -1503.48519598 lp_indep -1504.32034492 se 4082.91735441\n",
        "param_linear_distmb shrinkage 4 lp -1502.1405744 lp_indep -1502.97853636 se 4082.94623563\n",
        "gplocal+lld+linear_mb shrinkage 0 lp -999.730502492 lp_indep -1004.74082309 se 1016.82493621\n",
        "gplocal+lld+linear_mb shrinkage 1 lp -1049.00921632 lp_indep -1051.10356522 se 985.399132723\n",
        "gplocal+lld+linear_mb shrinkage 2 lp -1049.14384791 lp_indep -1051.99129407 se 984.32449057\n",
        "gplocal+lld+linear_mb shrinkage 3 lp -1044.50683217 lp_indep -1047.11854721 se 985.385210168\n",
        "gplocal+lld+linear_mb shrinkage 4 lp -1048.17350152 lp_indep -1051.27444983 se 992.123071649\n",
        "param_linear_mb shrinkage 0 lp -1095.82339534 lp_indep -1100.6129497 se 998.487344794\n",
        "param_linear_mb shrinkage 1 lp -1035.79153249 lp_indep -1036.64903804 se 971.241091605\n",
        "param_linear_mb shrinkage 2 lp -1024.93885614 lp_indep -1025.7432449 se 970.485291577\n",
        "param_linear_mb shrinkage 3 lp -1022.06120624 lp_indep -1022.85079431 se 970.312394767\n",
        "param_linear_mb shrinkage 4 lp -1020.41514511 lp_indep -1021.19767785 se 970.256293217\n"
       ]
      }
     ],
     "prompt_number": 23
    },
    {
     "cell_type": "code",
     "collapsed": false,
     "input": [
      "\n",
      "fig = figure()\n",
      "ax = gca()\n",
      "\n",
      "N=3\n",
      "ind = np.arange(N)  # the x locations for the groups\n",
      "width = 0.35       # the width of the bars\n",
      "\n",
      "sta_lls = np.array((tlp_at[('param_sin1', 0)], tlp_cd[('param_linear_distmb', 0)], tlp_po[('param_linear_mb', 0)]))\n",
      "global_lls = np.array((tlp_at[('param_sin1', 4)], tlp_cd[('param_linear_distmb', 4)], tlp_po[('param_linear_mb', 4)]))\n",
      "\n",
      "rects1 = ax.bar(ind, -sta_lls, width, color='#880044')\n",
      "rects2 = ax.bar(ind+width, -global_lls, width, color='#440088')\n",
      "\n",
      "# add some\n",
      "ax.set_ylabel('negative log-likelihood on validation set')\n",
      "#ax.set_title('Scores by group and gender')\n",
      "ax.set_xticks(ind+width)\n",
      "ax.set_xticklabels( ('amp_transfer', 'coda_decay', 'peak_offset') )\n",
      "\n",
      "ax.legend( (rects1[0], rects2[0]), ('Station', 'Global') )\n",
      "\n",
      "\n",
      "plt.show()\n"
     ],
     "language": "python",
     "metadata": {},
     "outputs": [
      {
       "output_type": "display_data",
       "png": "[encoded data removed]"
      }
     ],
     "prompt_number": 29
    },
    {
     "cell_type": "code",
     "collapsed": false,
     "input": [],
     "language": "python",
     "metadata": {},
     "outputs": [],
     "prompt_number": 14
    },
    {
     "cell_type": "code",
     "collapsed": false,
     "input": [],
     "language": "python",
     "metadata": {},
     "outputs": [],
     "prompt_number": 14
    },
    {
     "cell_type": "code",
     "collapsed": false,
     "input": [],
     "language": "python",
     "metadata": {},
     "outputs": []
    }
   ],
   "metadata": {}
  }
 ]
}