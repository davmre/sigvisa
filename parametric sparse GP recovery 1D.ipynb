{
 "metadata": {
  "name": "parametric sparse GP recovery 1D"
 },
 "nbformat": 3,
 "nbformat_minor": 0,
 "worksheets": [
  {
   "cells": [
    {
     "cell_type": "code",
     "collapsed": false,
     "input": [
      "from sigvisa.models.spatial_regression.SparseGP import SparseGP\n",
      "from sigvisa.utils.cover_tree import VectorTree\n",
      "import pyublas\n",
      "import scipy.linalg\n",
      "\n",
      "n = 500\n",
      "test_n = 500\n",
      "\n",
      "X = np.random.rand(n+test_n,1)\n",
      "\n",
      "long_scale=.25\n",
      "short_scale=.015\n",
      "sigma2_n = 0.0001\n",
      "sigma2_f_long = 49.0\n",
      "sigma2_f_short = 1.0\n",
      "\n",
      "dfn_params_long=np.array([long_scale, ], dtype=float)\n",
      "dfn_params_short=np.array([short_scale,], dtype=float)\n",
      "wfn_params_long = np.array([sigma2_f_long,], dtype=float)\n",
      "wfn_params_short = np.array([sigma2_f_short,], dtype=float)\n"
     ],
     "language": "python",
     "metadata": {},
     "outputs": [],
     "prompt_number": 20
    },
    {
     "cell_type": "code",
     "collapsed": false,
     "input": [
      "long_tree = VectorTree(X[0:1,:], 1, \"euclidean\", dfn_params_long, \"se\", wfn_params_long)\n",
      "long_kernel = long_tree.kernel_matrix(X, X, False)\n",
      "short_tree = VectorTree(X[0:1,:], 1, \"euclidean\", dfn_params_short, \"se\", wfn_params_short)\n",
      "short_kernel = short_tree.kernel_matrix(X, X, False)\n",
      "\n",
      "kernel = long_kernel + short_kernel + sigma2_n * np.eye(n+test_n)\n",
      "L = scipy.linalg.cholesky(kernel, lower=True)\n",
      "z = np.random.randn(n+test_n)\n",
      "y = np.dot(L, z)\n",
      "\n",
      "test_X = X[n:, :]\n",
      "X = X[:n,:]\n",
      "test_y = y[n:]\n",
      "y = y[:n]\n",
      "\n"
     ],
     "language": "python",
     "metadata": {},
     "outputs": [],
     "prompt_number": 21
    },
    {
     "cell_type": "code",
     "collapsed": false,
     "input": [
      "\n",
      "ax = gca()\n",
      "ax.scatter(X[:, 0], y, s=2, edgecolors='none')\n",
      "ax.set_xlim(0, 1)"
     ],
     "language": "python",
     "metadata": {},
     "outputs": [
      {
       "output_type": "pyout",
       "prompt_number": 22,
       "text": [
        "(0, 1)"
       ]
      },
      {
       "output_type": "display_data",
       "png": "[encoded data removed]"
      }
     ],
     "prompt_number": 22
    },
    {
     "cell_type": "code",
     "collapsed": false,
     "input": [
      "import itertools\n",
      "def poly_basisfns_1d(order):\n",
      "    basisfn_strs = [\"lambda x : \" + (\"x[0]**%d \" % (d1,)) for d1 in range(order+1)]\n",
      "    return [eval(s) for s in basisfn_strs]\n",
      "bfn = poly_basisfns_1d(5)\n",
      "d = len(bfn)\n",
      "b = np.zeros((d,))\n",
      "B = np.eye(d) * 10\n",
      "print bfn"
     ],
     "language": "python",
     "metadata": {},
     "outputs": [
      {
       "output_type": "stream",
       "stream": "stdout",
       "text": [
        "[<function <lambda> at 0x41ce2a8>, <function <lambda> at 0x41ce488>, <function <lambda> at 0x41ce8c0>, <function <lambda> at 0x41ceb18>, <function <lambda> at 0x41cede8>, <function <lambda> at 0x41ce230>]\n"
       ]
      }
     ],
     "prompt_number": 36
    },
    {
     "cell_type": "code",
     "collapsed": false,
     "input": [
      "hyperparams = [sigma2_n, sigma2_f_short, short_scale, short_scale]\n",
      "sgp  = SparseGP(X=X, y=y, basisfns = bfn, param_mean=b, param_cov=B, dfn_str=\"euclidean\", wfn_str=\"se\", hyperparams=hyperparams, sort_events=False, build_tree=False)"
     ],
     "language": "python",
     "metadata": {},
     "outputs": [
      {
       "output_type": "stream",
       "stream": "stdout",
       "text": [
        "K nonzero 35182\n",
        "invert K 0.0149779319763\n"
       ]
      }
     ],
     "prompt_number": 37
    },
    {
     "cell_type": "code",
     "collapsed": false,
     "input": [
      "py = sgp.predict(X, parametric_only=True)\n",
      "ax = gca()\n",
      "ax.scatter(X[:, 0], py, s=2, edgecolors='none')\n",
      "ax.set_xlim(0, 1)"
     ],
     "language": "python",
     "metadata": {},
     "outputs": [
      {
       "output_type": "pyout",
       "prompt_number": 38,
       "text": [
        "(0, 1)"
       ]
      },
      {
       "output_type": "display_data",
       "png": "[encoded data removed]"
      }
     ],
     "prompt_number": 38
    },
    {
     "cell_type": "code",
     "collapsed": false,
     "input": [
      "sgp_plain  = SparseGP(X=X, y=y, basisfns = [], param_mean=None, param_cov=None, dfn_str=\"euclidean\", wfn_str=\"se\", hyperparams=hyperparams, sort_events=False, build_tree=False)\n"
     ],
     "language": "python",
     "metadata": {},
     "outputs": [
      {
       "output_type": "stream",
       "stream": "stdout",
       "text": [
        "K nonzero 35182\n",
        "invert K 0.0144488811493\n"
       ]
      }
     ],
     "prompt_number": 39
    },
    {
     "cell_type": "code",
     "collapsed": false,
     "input": [
      "test_npy = np.reshape(sgp_plain.predict_naive(test_X), (-1,))\n",
      "npy = np.reshape(sgp_plain.predict_naive(X), (-1,))\n",
      "\n",
      "test_py = np.reshape(sgp.predict_naive(test_X, parametric_only=True), (-1,))\n",
      "gy =  np.reshape(sgp.predict_naive(X), (-1,))\n",
      "\n",
      "test_gy = np.reshape(sgp.predict_naive(test_X), (-1,))\n",
      "\n",
      "print np.median(np.abs(test_y))\n",
      "print np.median(np.abs(test_py-test_y))\n",
      "print np.median(np.abs(test_npy-test_y))\n",
      "print np.median(np.abs(test_gy-test_y))\n"
     ],
     "language": "python",
     "metadata": {},
     "outputs": [
      {
       "output_type": "stream",
       "stream": "stdout",
       "text": [
        "6.47385727676\n",
        "4.04890499396\n",
        "0.00824072381314\n",
        "3.48501849844\n"
       ]
      }
     ],
     "prompt_number": 40
    },
    {
     "cell_type": "code",
     "collapsed": false,
     "input": [
      "ax = gca()\n",
      "ax.scatter(X[:, 0], npy, s=2, edgecolors='none')\n",
      "ax.set_xlim(0, 1)\n",
      "figure()\n",
      "ax = gca()\n",
      "ax.scatter(X[:, 0], gy, s=2, edgecolors='none')\n",
      "ax.set_xlim(0, 1)\n",
      "figure()\n",
      "ax = gca()\n",
      "ax.scatter(X[:, 0], y, s=2, edgecolors='none')\n",
      "ax.set_xlim(0, 1)\n"
     ],
     "language": "python",
     "metadata": {},
     "outputs": [
      {
       "output_type": "pyout",
       "prompt_number": 41,
       "text": [
        "(0, 1)"
       ]
      },
      {
       "output_type": "display_data",
       "png": "[encoded data removed]"
      },
      {
       "output_type": "display_data",
       "png": "[encoded data removed]"
      },
      {
       "output_type": "display_data",
       "png": "[encoded data removed]"
      }
     ],
     "prompt_number": 41
    },
    {
     "cell_type": "code",
     "collapsed": false,
     "input": [
      "n"
     ],
     "language": "python",
     "metadata": {},
     "outputs": [
      {
       "output_type": "pyout",
       "prompt_number": 104,
       "text": [
        "array([ 4.10247402, -3.05771966,  1.79067044, ...,  2.47298785,\n",
        "        1.20626747,  2.85865763])"
       ]
      }
     ],
     "prompt_number": 104
    },
    {
     "cell_type": "code",
     "collapsed": false,
     "input": [
      "y"
     ],
     "language": "python",
     "metadata": {},
     "outputs": [
      {
       "output_type": "pyout",
       "prompt_number": 103,
       "text": [
        "array([ 0.31143273, -0.09015892,  2.62307907, ...,  0.6278333 ,\n",
        "       -0.48659228,  0.60053394])"
       ]
      }
     ],
     "prompt_number": 103
    },
    {
     "cell_type": "code",
     "collapsed": false,
     "input": [
      "gy =  np.reshape(sgp.predict_naive(X), (-1,))\n",
      "gy_tree =  np.reshape(sgp.predict(X, eps=0), (-1,))"
     ],
     "language": "python",
     "metadata": {},
     "outputs": [],
     "prompt_number": 12
    },
    {
     "cell_type": "code",
     "collapsed": false,
     "input": [
      "print gy_tree"
     ],
     "language": "python",
     "metadata": {},
     "outputs": [
      {
       "output_type": "stream",
       "stream": "stdout",
       "text": [
        "[  1.42410634e+06   1.98718655e+01   2.24300496e+01   2.57698045e+09\n",
        "   2.57698038e+09   2.57698198e+09   2.57698365e+09   2.57732171e+09\n",
        "   2.57703857e+09   2.57698038e+09   2.57706036e+09   2.57698081e+09\n",
        "   2.57714770e+09   2.57709119e+09   2.58004562e+09   2.57845234e+09\n",
        "   1.68299292e+03   2.63004607e+09   2.18563840e+04   7.10787694e+02\n",
        "   3.55017255e+08   6.08077016e+05  -4.18793116e-01   2.89054581e+09\n",
        "   2.57698043e+09   1.93415373e+01   5.53421813e+04   6.02375101e+06\n",
        "   2.57795779e+09   2.57698038e+09  -1.31036239e+00   2.60004733e+09\n",
        "   2.02032431e+05   2.57698638e+09   2.57698038e+09   2.57699917e+09\n",
        "   5.42571070e+02   2.18809850e+06   1.96528086e+01   2.57698039e+09\n",
        "   1.98422955e+06   2.57698038e+09  -2.54424508e+00   3.59445883e+09\n",
        "   2.57698038e+09   2.57698040e+09   2.57698969e+09   3.85870489e+08\n",
        "   1.26214186e+09  -3.30613585e+00  -1.68489141e+00   2.57698094e+09\n",
        "   2.57698038e+09   2.57698038e+09   2.57813101e+09  -1.22046742e+00\n",
        "   3.13948277e+03   2.57698038e+09  -3.28228016e-01   2.57796476e+09\n",
        "   3.28900220e+06   1.57092966e+08   2.59744118e+09   6.52312213e+07\n",
        "  -2.01450354e+00   2.77908094e+09   9.67088336e+06   2.57714035e+09\n",
        "   2.57698044e+09   2.57698038e+09   1.86113852e+09   2.57698103e+09\n",
        "   2.35165905e+08   2.57698038e+09   2.57698044e+09   9.26889955e+08\n",
        "   2.57703159e+09   2.57701198e+09   1.02377198e+07   2.57785254e+09\n",
        "   2.57698038e+09   2.57698038e+09   3.64464103e+09   2.62775129e+09\n",
        "   2.57698038e+09   1.40868385e+07   2.57698038e+09   2.57740416e+09\n",
        "   4.01213008e+04   2.57882483e+09   2.57699450e+09   1.37467053e+09\n",
        "   2.57698633e+09   2.57700088e+09  -2.28106871e+00   2.57778937e+09\n",
        "   2.58751653e+09   2.57698044e+09   2.58182945e+09   2.57698204e+09\n",
        "   4.94658808e+07   2.57699944e+09   1.07971859e+03   5.49146624e+08\n",
        "   1.84651135e+08   2.57698038e+09   2.57929435e+09   2.00742495e+05\n",
        "   2.57698140e+09   2.57698037e+09   2.12805240e+03   2.57845234e+09\n",
        "   3.14917409e+08   1.64688294e+04   2.60111249e+09   1.13161039e+09\n",
        "  -1.60277829e+00   2.57698038e+09   2.57698037e+09   1.27879474e+09\n",
        "   2.57698055e+09   6.25234522e+07   2.59235562e+09   2.57698047e+09\n",
        "  -9.18031085e-01   2.57698039e+09  -2.85928928e+00   2.57698038e+09\n",
        "   2.57698038e+09   1.05578552e+07  -1.11011506e+00   2.57698038e+09\n",
        "   2.57713958e+09   2.57698038e+09   2.57763066e+09  -2.34203702e+00\n",
        "   2.57698350e+09   2.57720602e+09   2.09023195e+06  -2.22675360e+00\n",
        "   2.58015687e+09   6.11310998e+08   9.92807733e+05   2.57698665e+09\n",
        "   2.62775128e+09   5.87509592e+07   1.28428891e+09   1.61859969e+07\n",
        "   2.57698038e+09   1.07542538e+04   2.57698038e+09   2.77809356e+09\n",
        "   1.15982918e+05   4.79405628e+08   2.57699917e+09   2.57698038e+09\n",
        "   2.57698038e+09   2.87847204e+09   2.59590803e+09   6.60973481e+02\n",
        "   2.59590803e+09   1.84972884e+02   2.57698038e+09   1.78732650e+09\n",
        "  -1.41847702e+00   2.61534844e+09   1.42654012e+08   1.50860232e+07\n",
        "   2.57698038e+09   2.84561609e+06   2.36442542e+04   2.57713044e+09\n",
        "   9.28078425e+06  -1.66900519e-01   2.57785503e+09   2.57698549e+09\n",
        "   5.36095792e+05   2.75667848e+09  -6.55722603e-01   2.57698038e+09\n",
        "   4.55402838e+08   2.57712278e+09   2.57698038e+09   2.13762680e+09\n",
        "   2.38802077e+09   2.57724139e+09   3.69901525e+09   6.04921845e+06\n",
        "   2.57753401e+09   2.57698038e+09   2.58209109e+09   2.57698594e+09\n",
        "   3.77879428e+02   2.73593077e+03   3.17604671e+08   2.57706042e+09\n",
        "   2.57700088e+09   2.57698038e+09   2.58030672e+09   1.70295025e+08\n",
        "   2.57698038e+09   2.57698038e+09   2.58020639e+09  -2.05862475e+00\n",
        "   2.57698038e+09   4.78580954e+04   2.55096912e+06   2.57698037e+09\n",
        "   1.06744101e+09   4.62660818e+02   2.58751653e+09   3.59949304e+01\n",
        "   2.57700064e+09   2.57698059e+09   1.23489799e+08   2.22742975e+09\n",
        "   1.92460548e+07   5.63472813e+07   2.57707358e+09   5.86416812e+00\n",
        "   2.57698038e+09   2.57698039e+09  -1.52376750e+00   2.57698038e+09\n",
        "   3.12384704e+04   1.13472750e+09   1.54361441e+09   3.92611697e+02\n",
        "   2.71011630e+04   2.57758662e+09   2.57720460e+09   2.75667791e+09\n",
        "   2.57698038e+09   2.57698038e+09   3.30138715e+05   2.57698119e+09\n",
        "   2.57698038e+09   9.68243497e+04   1.15270426e+09   1.82427848e+05\n",
        "   2.57698038e+09   2.57698037e+09   7.04933949e+06   9.97551548e+07\n",
        "   1.56861771e+08   6.58849575e+08   8.74587503e+04   7.09245295e+05\n",
        "   2.48284427e+05   2.57698433e+09   2.02669320e+09   1.36484142e+07\n",
        "   3.78413490e+06   7.69389386e+07   2.57698198e+09  -1.22113152e+00\n",
        "   2.57698678e+09   2.57698037e+09   6.71656263e+02  -7.16815482e-01\n",
        "   9.42803770e+07   2.13513560e+09   2.57929435e+09   3.69884151e+09\n",
        "   1.33843475e+09   4.28923037e+04   1.81815995e+08   2.57698038e+09\n",
        "   5.62967176e+07   2.57698039e+09   1.87425356e+09   2.58030674e+09\n",
        "   2.57698658e+09   9.31292195e+05   2.57708077e+09  -2.78692108e+00\n",
        "   2.33401919e+08   2.57698038e+09   2.57698038e+09   3.18241563e+08\n",
        "   3.79882768e+09   1.45333778e+06   2.57698037e+09   2.00322723e+08\n",
        "   5.88688368e+05  -3.09047405e+00   2.57698072e+09   5.83732852e+05\n",
        "   3.35857122e+08  -1.75794255e+00   2.57698038e+09   1.03113044e+06\n",
        "   5.42725180e+06   2.57698094e+09   2.57698038e+09   2.92375820e+09\n",
        "   1.20638591e+08   2.57698078e+09   2.57698064e+09   2.57698549e+09\n",
        "   1.33661397e+09   2.29319609e+06   2.57699280e+09   5.52384069e+07\n",
        "   5.25204870e+08   2.57698039e+09   2.60799462e+07   2.57698038e+09\n",
        "   2.20831552e+08  -1.20678085e+00   2.58020639e+09   9.77363137e+05\n",
        "   2.00076615e+08   2.60226312e+09   1.36949218e+03  -1.27589892e+00\n",
        "   1.70280303e+09   7.20443867e+02   2.63673155e+08   2.60003321e+09\n",
        "  -1.63349306e+00   3.52922634e+04   2.06538265e+09   2.58004562e+09\n",
        "   1.60929539e+00   5.05873411e+05   1.18617726e+06   3.21220179e+09\n",
        "   1.21421440e+02   2.57712706e+09   2.57698047e+09   9.12270140e+06\n",
        "  -2.24684297e+00   4.89799287e+08   5.87156400e+07   3.70295958e+02\n",
        "   1.06868469e+05   9.65921823e+04   2.57698038e+09   7.06075537e+07\n",
        "   2.58232164e+09   1.21577657e+09   7.38238596e+08   2.96890939e+04\n",
        "   6.78907026e+07   2.57698304e+09   2.57763332e+09   2.59407591e+09\n",
        "  -1.10875873e+00   2.57914515e+09  -1.73199181e+00  -2.28164023e+00\n",
        "   2.57698038e+09   1.12139723e+01   9.69709722e+02   2.57698658e+09\n",
        "  -1.32771900e+00   4.87419398e+07   1.10646396e+06   2.57698038e+09\n",
        "   2.57785503e+09   1.06210319e+09   2.57698038e+09   4.35635726e+05\n",
        "   2.57698037e+09   1.91688723e+02   3.67611408e+02   2.57949908e+09\n",
        "   2.57949596e+09   2.92375820e+09   2.57698037e+09   2.59262057e+02\n",
        "   5.13543344e+06   4.11059298e+02   2.57698038e+09   1.86894903e+07\n",
        "   1.32016896e+09   2.06087499e+09  -3.31538272e+00   2.57698038e+09\n",
        "   5.24398269e+08   8.58024703e+04   6.99913357e+05   1.55121605e+08\n",
        "   2.57705677e+09  -4.70667654e-01   9.45067813e+07   2.58876836e+09\n",
        "   9.85958144e+04   2.28725423e+05   4.09230863e+02   1.22581385e+09\n",
        "   1.35354977e+09   2.59744118e+09   2.79255792e+06   1.21849724e+09\n",
        "  -4.82649333e-01   1.12393498e+06   2.63293259e+06  -1.27622617e+00\n",
        "   2.57698045e+09   2.57707386e+09   1.54458102e+08   2.57698038e+09\n",
        "   2.14839078e+09   1.32718679e+06   1.49513921e+08   2.57698039e+09\n",
        "   2.89858556e+04   2.57728077e+09   6.95922365e+08   8.64926048e+04\n",
        "   2.57698594e+09   1.32472309e+08   1.78524056e+09   2.57698038e+09\n",
        "   1.49165058e+04   2.57881569e+09   3.33112245e+08   2.57698037e+09\n",
        "  -1.97257493e+00  -3.05044672e+00   2.57698042e+09   1.80790982e+06\n",
        "   7.48116985e+08  -2.61362656e+00   2.58877470e+09   1.31272185e+09\n",
        "   5.19170794e+07   4.44058564e+05   1.53747284e+09   7.07659245e+08\n",
        "   7.50003337e+05   2.57698039e+09   2.57713044e+09   3.21220179e+09\n",
        "   4.74180534e+06   9.32536848e+05   2.57698038e+09   2.57724221e+09\n",
        "   1.24352981e+09  -1.45742303e+00   3.79882768e+09   2.61534844e+09\n",
        "   1.07708710e+06   4.72912244e+07  -2.20909506e+00   6.70722805e+06\n",
        "   2.58095925e+09   5.52532453e+04   4.33679519e+05   5.48923713e+07\n",
        "   1.75065403e+03   2.57698038e+09   7.61422008e+04   2.57698494e+09\n",
        "   3.90271484e+03   2.35844416e+07  -1.38093327e+00   8.43372730e+07\n",
        "   1.03603838e+08   2.57698038e+09   1.18581203e+09   2.59018387e+08\n",
        "   6.09375554e+07   3.36751927e+05   2.58095925e+09   1.78995526e+06\n",
        "   1.03080085e+04   5.76222819e+02   4.61697059e+08   2.57698038e+09\n",
        "   1.10484753e+06   2.82230056e+07   2.57816471e+09   5.97228323e+06\n",
        "   5.88812056e+07   2.57698044e+09   2.57698042e+09   5.71603548e+07\n",
        "   3.76418262e+04   2.59235562e+09   2.56118343e+08   1.17061089e+04\n",
        "   2.57699157e+09   2.77900821e+09   6.54846455e+05   2.57703857e+09\n",
        "   6.16575013e+06   1.61040067e+03   5.80100943e+04   2.57698039e+09\n",
        "   8.97733056e+07  -2.05919422e+00   1.47216583e+02   3.23822071e+07\n",
        "   2.30651542e+08   1.73299779e+01  -3.13318375e+00   2.33235719e+08]\n"
       ]
      }
     ],
     "prompt_number": 13
    },
    {
     "cell_type": "code",
     "collapsed": false,
     "input": [],
     "language": "python",
     "metadata": {},
     "outputs": []
    }
   ],
   "metadata": {}
  }
 ]
}