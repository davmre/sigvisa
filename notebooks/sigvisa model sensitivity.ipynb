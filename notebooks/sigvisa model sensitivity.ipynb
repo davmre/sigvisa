{
 "metadata": {
  "name": "sigvisa model sensitivity"
 },
 "nbformat": 3,
 "nbformat_minor": 0,
 "worksheets": [
  {
   "cells": [
    {
     "cell_type": "code",
     "collapsed": false,
     "input": [
      "# load list of events and stations\n",
      "\n",
      "from sigvisa import Sigvisa\n",
      "s = Sigvisa()\n",
      "cursor = s.dbconn.cursor()\n",
      "cursor.execute(\"select evid from leb_origin where time between (select start_time from dataset where label='test') and (select end_time from dataset where label='test') and mb > 0\")\n",
      "evids = np.array(cursor.fetchall() + ((5393637,),)).flatten()\n",
      "with open('stations.txt', 'r') as f:\n",
      "    stations = f.read()[:-1].split(',')"
     ],
     "language": "python",
     "metadata": {},
     "outputs": [],
     "prompt_number": 1
    },
    {
     "cell_type": "code",
     "collapsed": false,
     "input": [
      "import os \n",
      "from collections import defaultdict\n",
      "\n",
      "logodds_dict = defaultdict(dict)\n",
      "missing_pairs = []\n",
      "for evid in evids:\n",
      "    for sta in stations:\n",
      "        logodds_fname = os.path.join('experiments/logodds/results/%s/events/%d' % (sta, evid))\n",
      "        try:\n",
      "            with open(logodds_fname, 'r') as f:\n",
      "                ev_lp, noise_lp, logodds = [float(x) for x in f.read().split()]\n",
      "            logodds_dict[evid][sta] = logodds\n",
      "        except IOError:\n",
      "            missing_pairs.append((evid, sta))\n",
      "            continue\n",
      "            \n",
      "\n",
      "calibration_dict = defaultdict(dict)\n",
      "missing_pairs_calib = []\n",
      "\n",
      "for fakeEvid in os.listdir('experiments/logodds/results/FINES/calibration/'):\n",
      "    if not fakeEvid.startswith('fake'): continue\n",
      "    evid = int(fakeEvid[4:])\n",
      "    for sta in stations:\n",
      "        logodds_fname = os.path.join('experiments/logodds/results/%s/calibration/fake%d' % (sta, evid))\n",
      "        try:\n",
      "            with open(logodds_fname, 'r') as f:\n",
      "                ev_lp, noise_lp, logodds = [float(x) for x in f.read().split()]\n",
      "            calibration_dict[evid][sta] = logodds\n",
      "        except IOError:\n",
      "            missing_pairs_calib.append((evid, sta))\n",
      "            continue"
     ],
     "language": "python",
     "metadata": {},
     "outputs": [],
     "prompt_number": 2
    },
    {
     "cell_type": "code",
     "collapsed": false,
     "input": [
      "from sigvisa.source.event import get_event\n",
      "from sigvisa.plotting.histogram import plot_histogram\n",
      "\n",
      "mbs = []\n",
      "evmbs = defaultdict(list)\n",
      "valid_evids = []\n",
      "for evid in evids:\n",
      "    ev = get_event(evid=evid)\n",
      "    if ev.mb < 0: continue\n",
      "    mbs.append(ev.mb)\n",
      "    valid_evids.append(evid)\n",
      "    if ev.mb < 3:\n",
      "        evmbs[3.0].append(evid)\n",
      "    elif ev.mb < 3.5:\n",
      "       evmbs[3.5].append(evid)\n",
      "    elif ev.mb < 4.0:\n",
      "        evmbs[4.0].append(evid)\n",
      "    elif ev.mb < 4.5:\n",
      "        evmbs[4.5].append(evid)\n",
      "    elif ev.mb < 5.0:\n",
      "        evmbs[5.0].append(evid)\n",
      "    else:\n",
      "        evmbs[10.0].append(evid)\n",
      "    \n",
      "plot_histogram(mbs, axes=gca())"
     ],
     "language": "python",
     "metadata": {},
     "outputs": [
      {
       "output_type": "pyout",
       "prompt_number": 3,
       "text": [
        "'mean: 3.6359\\nstd:  0.4499\\n\\nmin:  2.2603\\n5%:   3.0009\\n25%:  3.3526\\n50%:  3.5896\\n75%:  3.9043\\n95%:  4.4156\\nmax:  5.7604'"
       ]
      },
      {
       "output_type": "display_data",
       "png": "[encoded data removed]"
      }
     ],
     "prompt_number": 3
    },
    {
     "cell_type": "code",
     "collapsed": false,
     "input": [],
     "language": "python",
     "metadata": {},
     "outputs": [],
     "prompt_number": 3
    },
    {
     "cell_type": "code",
     "collapsed": false,
     "input": [],
     "language": "python",
     "metadata": {},
     "outputs": [],
     "prompt_number": 3
    },
    {
     "cell_type": "code",
     "collapsed": false,
     "input": [],
     "language": "python",
     "metadata": {},
     "outputs": [],
     "prompt_number": 3
    },
    {
     "cell_type": "code",
     "collapsed": false,
     "input": [
      "from sigvisa.source.event import get_event\n",
      "from sigvisa.plotting.histogram import plot_histogram\n",
      "from sigvisa.experiments.logodds_event_sta import random_event\n",
      "\n",
      "mbs = []\n",
      "calibmbs = defaultdict(list)\n",
      "for evid in calibration_dict.keys():\n",
      "    ev = random_event(seed=evid)\n",
      "    if ev.mb < 0: continue\n",
      "    mbs.append(ev.mb)\n",
      "    if ev.mb < 3:\n",
      "        calibmbs[3.0].append(evid)\n",
      "    elif ev.mb < 3.5:\n",
      "       calibmbs[3.5].append(evid)\n",
      "    elif ev.mb < 4.0:\n",
      "        calibmbs[4.0].append(evid)\n",
      "    elif ev.mb < 4.5:\n",
      "        calibmbs[4.5].append(evid)\n",
      "    elif ev.mb < 5.0:\n",
      "        calibmbs[5.0].append(evid)\n",
      "    else:\n",
      "        calibmbs[10.0].append(evid)\n",
      "    \n",
      "plot_histogram(mbs, axes=gca())"
     ],
     "language": "python",
     "metadata": {},
     "outputs": [
      {
       "output_type": "pyout",
       "prompt_number": 4,
       "text": [
        "'mean: 3.5851\\nstd:  0.0830\\n\\nmin:  3.5001\\n5%:   3.5072\\n25%:  3.5229\\n50%:  3.5576\\n75%:  3.6248\\n95%:  3.7532\\nmax:  3.9872'"
       ]
      },
      {
       "output_type": "display_data",
       "png": "[encoded data removed]"
      }
     ],
     "prompt_number": 4
    },
    {
     "cell_type": "code",
     "collapsed": false,
     "input": [
      "# classify stations according to \n",
      "# a) whether they're up significantly less often for calibration events than for real events (i.e., trying to detect stations that are biased in their uptimes)\n",
      "\n",
      "ccounts = defaultdict(int)\n",
      "\n",
      "sta_logodds_calib = defaultdict(list)\n",
      "\n",
      "for (evid, stadict) in calibration_dict.items():\n",
      "    for (sta, logodds) in stadict.items():\n",
      "        ccounts[sta] += 1\n",
      "        sta_logodds_calib[sta].append(logodds)\n",
      "        \n",
      "rcounts = defaultdict(int)\n",
      "\n",
      "for (evid, stadict) in logodds_dict.items():\n",
      "    for (sta, logodds) in stadict.items():\n",
      "        rcounts[sta] += 1\n",
      "        \n",
      "biased_stations = []\n",
      "unbiased_stations = []\n",
      "for sta in ccounts.keys():\n",
      "    calib_ratio = float(ccounts[sta])/max(ccounts.values())\n",
      "    ev_ratio = float(rcounts[sta])/max(rcounts.values())\n",
      "    #\n",
      "    if calib_ratio < .3: #ev_ratio * .7:\n",
      "        biased_stations.append(sta)\n",
      "        print \"bad station due to uptime\", sta, ccounts[sta], calib_ratio, rcounts[sta], ev_ratio\n",
      "    else:\n",
      "        unbiased_stations.append(sta)\n",
      "        \n",
      "biased_stations = set(biased_stations)\n",
      "unbiased_stations = set(unbiased_stations)\n",
      "   "
     ],
     "language": "python",
     "metadata": {},
     "outputs": [
      {
       "output_type": "stream",
       "stream": "stdout",
       "text": [
        "bad station due to uptime DLBC 52 0.26 185 0.363457760314\n",
        "bad station due to uptime ATD 29 0.145 70 0.137524557957\n",
        "bad station due to uptime CFAA 34 0.17 138 0.271119842829\n",
        "bad station due to uptime SPITS 49 0.245 154 0.302554027505\n",
        "bad station due to uptime CMIG 37 0.185 153 0.300589390963\n",
        "bad station due to uptime HNR 51 0.255 185 0.363457760314\n",
        "bad station due to uptime VRAC 55 0.275 145 0.284872298625\n",
        "bad station due to uptime NEW 55 0.275 183 0.35952848723\n",
        "bad station due to uptime BORG 48 0.24 166 0.326129666012\n",
        "bad station due to uptime SJG 35 0.175 126 0.247544204322\n",
        "bad station due to uptime NNA 44 0.22 141 0.277013752456\n",
        "bad station due to uptime TKL 38 0.19 145 0.284872298625\n",
        "bad station due to uptime EIL 46 0.23 134 0.26326129666\n",
        "bad station due to uptime ASF 50 0.25 149 0.292730844794\n",
        "bad station due to uptime SUR 13 0.065 47 0.0923379174853\n",
        "bad station due to uptime RES 53 0.265 187 0.367387033399\n",
        "bad station due to uptime LSZ 16 0.08 23 0.0451866404715\n",
        "bad station due to uptime MDT 40 0.2 107 0.21021611002\n",
        "bad station due to uptime FRB 24 0.12 83 0.163064833006\n",
        "bad station due to uptime BBB 55 0.275 176 0.345776031434\n",
        "bad station due to uptime JTS 29 0.145 128 0.251473477407\n",
        "bad station due to uptime MLR 55 0.275 137 0.269155206287\n",
        "bad station due to uptime LVC 1 0.005 5 0.0098231827112\n",
        "bad station due to uptime TEIG 37 0.185 149 0.292730844794\n",
        "bad station due to uptime MMAI 51 0.255 154 0.302554027505\n",
        "bad station due to uptime ANMO 39 0.195 139 0.273084479371\n",
        "bad station due to uptime OPO 25 0.125 60 0.117878192534\n"
       ]
      }
     ],
     "prompt_number": 5
    },
    {
     "cell_type": "code",
     "collapsed": false,
     "input": [
      "for sta in biased_stations:\n",
      "    try:\n",
      "        del logodds_dict[sta]\n",
      "    except KeyError:\n",
      "        pass\n",
      "    try:\n",
      "        del calibration_dict[sta]\n",
      "    except KeyError:\n",
      "        pass\n",
      "    \n"
     ],
     "language": "python",
     "metadata": {},
     "outputs": [],
     "prompt_number": 26
    },
    {
     "cell_type": "code",
     "collapsed": false,
     "input": [
      "# find poorly calibrated stations\n",
      "uncalibrated = []\n",
      "for sta in unbiased_stations:\n",
      "    median_logodds = np.median(sta_logodds_calib[sta])\n",
      "    if median_logodds > 0:\n",
      "        uncalibrated.append(sta)\n",
      "        print sta, median_logodds"
     ],
     "language": "python",
     "metadata": {},
     "outputs": [
      {
       "output_type": "stream",
       "stream": "stdout",
       "text": [
        "STKA 1.131135\n",
        "YKA 0.473041\n",
        "PSI 0.351991\n"
       ]
      }
     ],
     "prompt_number": 6
    },
    {
     "cell_type": "code",
     "collapsed": false,
     "input": [
      "logodds_dict[5393637]"
     ],
     "language": "python",
     "metadata": {},
     "outputs": [
      {
       "output_type": "pyout",
       "prompt_number": 7,
       "text": [
        "{'AAK': 11.46689,\n",
        " 'AFI': 697.927737,\n",
        " 'AKASG': 122.239403,\n",
        " 'AKTO': 227.428008,\n",
        " 'ANMO': -2.633297,\n",
        " 'ARCES': 158.874697,\n",
        " 'ASAR': 25.18258,\n",
        " 'ASF': 21.230846,\n",
        " 'ATTU': 216.946309,\n",
        " 'BBB': -7.265609,\n",
        " 'BDFB': -3.330331,\n",
        " 'BORG': -5.772315,\n",
        " 'BOSA': -1.354063,\n",
        " 'BVAR': 88.365017,\n",
        " 'CFAA': -4.952488,\n",
        " 'CMAR': 212.201095,\n",
        " 'CPUP': -4.013565,\n",
        " 'CTA': -3.809058,\n",
        " 'DAV': 7.500995,\n",
        " 'DBIC': -2.496403,\n",
        " 'DLBC': 2.192232,\n",
        " 'DZM': 17.329336,\n",
        " 'EIL': -7.127828,\n",
        " 'ELK': 90.843127,\n",
        " 'FINES': 1716.428601,\n",
        " 'FITZ': 532.621873,\n",
        " 'FRB': 445.75909,\n",
        " 'GUMO': -5.003084,\n",
        " 'HNR': 4.960806,\n",
        " 'ILAR': 1602.402369,\n",
        " 'INK': 1035.871158,\n",
        " 'JCJ': -4.573494,\n",
        " 'JHJ': -5.413618,\n",
        " 'JKA': 200.355027,\n",
        " 'JNU': 3173.125738,\n",
        " 'JTS': -3.631878,\n",
        " 'KAPI': 16.282822,\n",
        " 'KBZ': -2.724686,\n",
        " 'KDAK': 303.684282,\n",
        " 'KEST': 125.356891,\n",
        " 'KMBO': -5.966258,\n",
        " 'KSRS': 98832.513773,\n",
        " 'KURK': -1.986454,\n",
        " 'LPAZ': 593.837413,\n",
        " 'LSZ': 5.47917,\n",
        " 'LVC': -3.648676,\n",
        " 'MAW': 37.43688,\n",
        " 'MDT': -6.522809,\n",
        " 'MKAR': 173.135037,\n",
        " 'MLR': 173.620899,\n",
        " 'NEW': -6.777285,\n",
        " 'NNA': -4.05411,\n",
        " 'NOA': 4251.377367,\n",
        " 'NWAO': -1.165394,\n",
        " 'OPO': 7.808093,\n",
        " 'PETK': 37.005898,\n",
        " 'PLCA': -4.68385,\n",
        " 'PMG': -4.730752,\n",
        " 'PPT': 7.668755,\n",
        " 'RAO': 44.328274,\n",
        " 'RAR': 1.632329,\n",
        " 'ROSC': 5.847871,\n",
        " 'RPZ': 0.583086,\n",
        " 'SCHQ': 108.46617,\n",
        " 'SONM': 45.354029,\n",
        " 'SPITS': 87.30933,\n",
        " 'STKA': 246.833766,\n",
        " 'SUR': 5.755519,\n",
        " 'TGY': 17.243535,\n",
        " 'TKL': 2.953574,\n",
        " 'TORD': -8.620526,\n",
        " 'ULM': 1.4576,\n",
        " 'USRK': 4539368.770581,\n",
        " 'VNDA': 8.298415,\n",
        " 'VRAC': 112.256976,\n",
        " 'WRA': 5143.859343,\n",
        " 'YKA': 835.702127,\n",
        " 'ZALV': 9.723053}"
       ]
      }
     ],
     "prompt_number": 7
    },
    {
     "cell_type": "code",
     "collapsed": false,
     "input": [
      "from sigvisa.source.event import get_event\n",
      "from sigvisa.models.ttime import tt_predict\n",
      "import scipy.stats\n",
      "\n",
      " #dict([scipy.stats.scoreatpercentile(calibration[sta], 90)])\n",
      "\n",
      "\n",
      "\n",
      "from sigvisa.experiments.logodds_event_sta import random_event\n",
      "    \n",
      "def tally_results(ldict, evids=None, real_ev=False):\n",
      "    association_threshold = 0\n",
      "    n_assoc = defaultdict(int)\n",
      "    prob_assoc = defaultdict(int)\n",
      "    n_sel3  = defaultdict(int)\n",
      "    n_leb = defaultdict(int)\n",
      "    n_ims = defaultdict(int)\n",
      "\n",
      "    sigvisa_losses = []\n",
      "    sigvisa_wins = []\n",
      "    \n",
      "    if evids is None:\n",
      "        evids = ldict.keys()\n",
      "    \n",
      "    for evid in evids:\n",
      "        stadict = ldict[evid]\n",
      "        if len(stadict.values()) < 1: continue\n",
      "            \n",
      "        n_assoc[evid] = len([v for (sta, v) in stadict.items() if v > association_threshold])\n",
      "        odds = np.array([np.exp(v)  if isfinite(np.exp(v)) else 999999 for v in stadict.values()])\n",
      "        prob_assoc[evid] = np.sum(odds / (1+odds))\n",
      "            \n",
      "        if real_ev:\n",
      "            ev = get_event(evid=evid)\n",
      "        else:\n",
      "            ev = random_event(evid)\n",
      "            \n",
      "        for station in stadict.keys():\n",
      "            #if station not in good_stations:\n",
      "            #    continue\n",
      "            \n",
      "            atime = tt_predict(ev, station, 'P') + ev.time\n",
      "            \n",
      "            sql_query = \"select ia.time, ia.snr from idcx_arrival ia where ia.sta='%s' and ia.time between %f and %f\" % (station, atime-10, atime+10)\n",
      "            cursor.execute(sql_query)\n",
      "            ims_arrivals = cursor.fetchall()\n",
      "            if len(ims_arrivals) > 0:\n",
      "                n_ims[evid] += 1\n",
      "                if stadict[station] < association_threshold:\n",
      "                    sigvisa_losses.append((evid, station))\n",
      "            else:\n",
      "                if stadict[station] >= association_threshold:\n",
      "                    sigvisa_wins.append((evid, station))\n",
      "\n",
      "\n",
      "            sql_query = \"select l.time, l.snr from leb_arrival l, leb_origin lebo, leb_assoc leba where l.sta='%s' and l.time between %f and %f and l.arid=leba.arid and leba.orid=lebo.orid and lebo.evid=%d\" % (station, atime-10,\\\n",
      "         atime+10, evid)\n",
      "            cursor.execute(sql_query)\n",
      "            leb_arrivals = cursor.fetchall()\n",
      "            if len(leb_arrivals) > 0:\n",
      "                n_leb[evid] += 1\n",
      "\n",
      "            \n",
      "            sql_query = \"select l.time from idcx_arrival l, sel3_origin lebo, sel3_assoc leba where l.sta='%s' and l.time between %f and %f and l.arid=leba.arid and leba.orid=lebo.orid and lebo.evid=%d\" % (station, atime-\\\n",
      "        10, atime+10, evid)\n",
      "            cursor.execute(sql_query)\n",
      "            sel3_arrivals = cursor.fetchall()\n",
      "            if len(sel3_arrivals) > 0:\n",
      "                n_sel3[evid] += 1\n",
      "    \n",
      "    ans = dict()\n",
      "    ans['assoc'], ans['passoc'], ans['ims'], ans['leb'], ans['sel3'], ans['losses'], ans['wins'] =  n_assoc, prob_assoc, n_ims, n_leb, n_sel3, sigvisa_losses, sigvisa_wins\n",
      "    return ans\n",
      "\n",
      "\n",
      "real40 = tally_results(logodds_dict, evmbs[4.0], real_ev=True)\n",
      "calib40 = tally_results(calibration_dict, calibmbs[4.0])\n",
      "\n",
      "\n",
      "real50 = tally_results(logodds_dict, evmbs[5.0], real_ev=True)\n"
     ],
     "language": "python",
     "metadata": {},
     "outputs": [],
     "prompt_number": 5
    },
    {
     "cell_type": "code",
     "collapsed": false,
     "input": [
      "from sigvisa.plotting.histogram import plot_histogram\n",
      "\n",
      "def compare_tallied_methods(ans):\n",
      "    figure()\n",
      "    ax=gca()\n",
      "    plot_histogram(ans['assoc'].values(), axes=ax, label='SIG-VISA evidence', draw_stats=False, normed=True, bin_size=2, histtype='stepfilled',alpha=0.4)\n",
      "    plot_histogram(ans['assoc'].values(), axes=ax, draw_stats=False, normed=True, bin_size=2, histtype='step',alpha=1, edgecolor='black')\n",
      "    \n",
      "    plot_histogram(ans['leb'].values(), axes=ax, label='LEB associations', draw_stats=False, normed=True, bin_size=2, histtype='stepfilled', alpha=0.4)\n",
      "    plot_histogram(ans['leb'].values(), axes=ax, draw_stats=False, normed=True, bin_size=2, histtype='step', alpha=1, edgecolor='black')\n",
      "\n",
      "    \n",
      "    plot_histogram(ans['ims'].values(), axes=ax, label='IMS detections', draw_stats=False, normed=True, bin_size=2, histtype='stepfilled', alpha=0.4)\n",
      "    plot_histogram(ans['ims'].values(), axes=ax, draw_stats=False, normed=True, bin_size=2, histtype='step', alpha=1, edgecolor='black')\n",
      "\n",
      "    ax.legend()\n",
      "\n",
      "    gca().set_xlim([-0, 50])\n",
      "    ax.set_xlabel('stations')\n",
      "    \n",
      "compare_tallied_methods(real40)"
     ],
     "language": "python",
     "metadata": {},
     "outputs": [
      {
       "output_type": "display_data",
       "png": "[encoded data removed]"
      }
     ],
     "prompt_number": 11
    },
    {
     "cell_type": "code",
     "collapsed": false,
     "input": [
      "print np.mean(real40['assoc'].values())"
     ],
     "language": "python",
     "metadata": {},
     "outputs": [
      {
       "output_type": "stream",
       "stream": "stdout",
       "text": [
        "20.4056603774\n"
       ]
      }
     ],
     "prompt_number": 12
    },
    {
     "cell_type": "code",
     "collapsed": false,
     "input": [
      "from sigvisa.plotting.histogram import plot_histogram\n",
      "\n",
      "\n",
      "def plot_normalized(real, calib):\n",
      "    norm_assoc = [max(0,v) for v in real['assoc'].values() - np.mean(calib['assoc'].values())]\n",
      "    norm_ims = [max(0,v) for v in real['ims'].values() - np.mean(calib['ims'].values())]\n",
      "    \n",
      "    print np.mean(norm_assoc)\n",
      "    print np.mean(norm_ims)\n",
      "    \n",
      "    figure()\n",
      "    ax=gca()\n",
      "    \n",
      "    \n",
      "    #plot_histogram(norm_assoc, axes=ax, label='Normalized SIG-VISA evidence', draw_stats=False, normed=True, histtype='stepfilled', alpha=0.01, color='#ff0000')\n",
      "    plot_histogram(norm_assoc, axes=ax, label='Normalized SIG-VISA evidence\\n   (mean=%.1f stations)' %  np.mean(norm_assoc), draw_stats=False, normed=True, histtype='step')\n",
      "    \n",
      "    #plot_histogram(norm_ims, axes=ax, label='Normalized IMS detections', draw_stats=False, normed=True, histtype='stepfilled', alpha=0.01, color='#0000ff')\n",
      "    plot_histogram(norm_ims, axes=ax, label='Normalized IMS detections\\n   (mean=%.1f stations)' %  np.mean(norm_ims),  draw_stats=False, normed=True, histtype='step')\n",
      "    #plot_histogram(real_passoc.values() - np.mean(calib_passoc.values()), axes=ax, label='SIG-VISA pevidence', draw_stats=False, normed=True)\n",
      "    #plot_histogram([v for v in real_leb.values() if v > 0], axes=ax, label='LEB associations', draw_stats=False, normed=True)\n",
      "    \n",
      "    \n",
      "    \n",
      "    ax.legend()\n",
      "    \n",
      "    gca().set_xlim([0, 35])\n",
      "    ax.set_xlabel('stations')\n",
      "    \n",
      "    \n",
      "plot_normalized(real40, calib40)\n",
      "print len(real40['assoc'])"
     ],
     "language": "python",
     "metadata": {},
     "outputs": [
      {
       "output_type": "stream",
       "stream": "stdout",
       "text": [
        "6.00004716981\n",
        "7.08737528401\n",
        "212\n"
       ]
      },
      {
       "output_type": "display_data",
       "png": "[encoded data removed]"
      }
     ],
     "prompt_number": 49
    },
    {
     "cell_type": "code",
     "collapsed": false,
     "input": [
      "real = real40\n",
      "calib=calib40\n",
      "\n",
      "print real50['assoc'][5393637], real50['ims'][5393637], real50['sel3'][5393637], real50['leb'][5393637]"
     ],
     "language": "python",
     "metadata": {},
     "outputs": [
      {
       "output_type": "stream",
       "stream": "stdout",
       "text": [
        "53 42 28 39\n"
       ]
      }
     ],
     "prompt_number": 38
    },
    {
     "cell_type": "code",
     "collapsed": false,
     "input": [
      "from sigvisa.plotting.histogram import plot_histogram\n",
      "\n",
      "figure()\n",
      "ax=gca()\n",
      "plot_histogram(real40['assoc'].values(), axes=ax, label='SIG-VISA evidence (real events)', draw_stats=False, normed=True)\n",
      "plot_histogram(calib40['assoc'].values(), axes=ax, label='SIG-VISA calibration', draw_stats=False, normed=True)\n",
      "\n",
      "#plot_histogram([v for v in calib_ims.values() if v > 0], axes=ax, label='IMS detections', draw_stats=False, normed=True)\n",
      "ax.legend()\n",
      "\n",
      "#gca().set_xlim([0, 50])\n",
      "ax.set_xlabel('stations')"
     ],
     "language": "python",
     "metadata": {},
     "outputs": [
      {
       "output_type": "pyout",
       "prompt_number": 27,
       "text": [
        "<matplotlib.text.Text at 0x608b290>"
       ]
      },
      {
       "output_type": "display_data",
       "png": "[encoded data removed]"
      }
     ],
     "prompt_number": 27
    },
    {
     "cell_type": "code",
     "collapsed": false,
     "input": [
      "print np.mean(calib['ims'].values())\n",
      "print np.mean(real['ims'].values())"
     ],
     "language": "python",
     "metadata": {},
     "outputs": [
      {
       "output_type": "stream",
       "stream": "stdout",
       "text": [
        "2.97382198953\n",
        "10.0566037736\n"
       ]
      }
     ],
     "prompt_number": 23
    },
    {
     "cell_type": "code",
     "collapsed": false,
     "input": [
      "print np.mean(calib['assoc'].values())\n",
      "print np.mean(real['assoc'].values())\n",
      "\n",
      "print np.mean(calib['passoc'].values())\n",
      "print np.mean(real['passoc'].values())"
     ],
     "language": "python",
     "metadata": {},
     "outputs": [
      {
       "output_type": "stream",
       "stream": "stdout",
       "text": [
        "14.81\n",
        "20.4056603774\n",
        "15.7806759792\n",
        "21.2130179736\n"
       ]
      }
     ],
     "prompt_number": 24
    },
    {
     "cell_type": "code",
     "collapsed": false,
     "input": [
      "def calibrate(real_dict, calibration_dict):\n",
      "    n_real = len([evid for evid in real_dict.keys() if len(real_dict[evid]) > 0])\n",
      "    n_fake = len(calibration_dict)\n",
      "    r = n_real / float(n_real+n_fake)\n",
      "    #r = .5\n",
      "    \n",
      "    #buckets = ((0, .01), (.01, .2), (.2, .4), (.4, .6), (.6, .8), (.8, .99), (.99, .9999), (.9999, 1.0))\n",
      "    buckets = ((0.000001, 0.00001), (0.00001, 0.0001), (0.0001, 0.001), (0.001, 0.01), (0.01, 0.1), (.1, .9),\n",
      "                (0.9, 0.99), (0.99, 0.999), (0.999, 0.9999), (0.9999, 0.99999), (0.99999, 1.0))\n",
      "    \n",
      "    real_counts = defaultdict(int)\n",
      "    fake_counts = defaultdict(int)\n",
      "    \n",
      "    n_real = 0\n",
      "    for (evid, stadict) in real_dict.items():\n",
      "               \n",
      "        for (sta, logodds) in stadict.items():\n",
      "            odds = np.exp(logodds)\n",
      "            prob = r*odds / ((1-r) + r*odds)\n",
      "            for (low_prob, high_prob) in buckets:\n",
      "                if prob >= low_prob and prob <= high_prob:\n",
      "                    real_counts[(low_prob, high_prob)] += 1\n",
      "                    \n",
      "    for (evid, stadict) in calibration_dict.items():\n",
      "        for (sta, logodds) in stadict.items():\n",
      "            odds = np.exp(logodds)\n",
      "            prob = r*odds / ((1-r) + r*odds)\n",
      "            for (low_prob, high_prob) in buckets:\n",
      "                if prob >= low_prob and prob <= high_prob:\n",
      "                    fake_counts[(low_prob, high_prob)] += 1\n",
      "                    \n",
      "    real_probs = dict()\n",
      "    for bucket in real_counts.keys():\n",
      "        m = np.mean(bucket)\n",
      "        real_probs[m] = float(real_counts[bucket]) / (real_counts[bucket] + fake_counts[bucket])\n",
      "        \n",
      "    return real_probs, real_counts, fake_counts\n",
      "\n",
      "rp, rc, fc = calibrate(logodds_dict, calibration_dict)"
     ],
     "language": "python",
     "metadata": {},
     "outputs": [
      {
       "output_type": "stream",
       "stream": "stderr",
       "text": [
        "-c:19: RuntimeWarning: invalid value encountered in double_scalars\n",
        "-c:27: RuntimeWarning: invalid value encountered in double_scalars\n"
       ]
      }
     ],
     "prompt_number": 79
    },
    {
     "cell_type": "code",
     "collapsed": false,
     "input": [
      "print rc"
     ],
     "language": "python",
     "metadata": {},
     "outputs": [
      {
       "output_type": "stream",
       "stream": "stdout",
       "text": [
        "defaultdict(<type 'int'>, {(0.2, 0.4): 79, (0.8, 0.99): 123, (0.9999, 1.0): 682, (0.6, 0.8): 66, (0.99, 0.9999): 139, (0.4, 0.6): 48, (0, 0.01): 352, (0.01, 0.2): 970})\n"
       ]
      }
     ],
     "prompt_number": 75
    },
    {
     "cell_type": "code",
     "collapsed": false,
     "input": [
      "xxx = np.array(sorted(rp.items()))\n",
      "plot(xxx[:,1])\n",
      "gca().set_xticklabels(['%.2f' % x for x in xxx[:,0]])\n",
      "\n",
      "#todo: figure out why this calibration doesn't seem good"
     ],
     "language": "python",
     "metadata": {},
     "outputs": [
      {
       "output_type": "pyout",
       "prompt_number": 88,
       "text": [
        "[<matplotlib.text.Text at 0x7783610>,\n",
        " <matplotlib.text.Text at 0x778d950>,\n",
        " <matplotlib.text.Text at 0x78079d0>,\n",
        " <matplotlib.text.Text at 0x780b090>,\n",
        " <matplotlib.text.Text at 0x780b710>,\n",
        " <matplotlib.text.Text at 0x780bd90>,\n",
        " <matplotlib.text.Text at 0x780e450>,\n",
        " <matplotlib.text.Text at 0x780ead0>,\n",
        " <matplotlib.text.Text at 0x7811190>,\n",
        " <matplotlib.text.Text at 0x7811810>]"
       ]
      },
      {
       "output_type": "display_data",
       "png": "[encoded data removed]"
      }
     ],
     "prompt_number": 88
    },
    {
     "cell_type": "code",
     "collapsed": false,
     "input": [
      "nav = [v for v in real['assoc'].values() if v > 0]\n",
      "print np.mean(nav)\n",
      "print np.std(nav)\n",
      "print scipy.stats.scoreatpercentile(nav, 10)\n",
      "print scipy.stats.scoreatpercentile(nav, 50)\n",
      "print scipy.stats.scoreatpercentile(nav, 90)\n",
      "\n",
      "nlv = [v for v in real['leb'].values() if v > 0]\n",
      "print np.mean(nlv)\n",
      "print np.std(nlv)\n",
      "print scipy.stats.scoreatpercentile(nlv, 10)\n",
      "print scipy.stats.scoreatpercentile(nlv, 50)\n",
      "print scipy.stats.scoreatpercentile(nlv, 90)\n",
      "\n",
      "nsv = [v for v in real['sel3'].values() if v > 0]\n",
      "print np.mean(nsv)\n",
      "print np.std(nsv)\n",
      "print scipy.stats.scoreatpercentile(nsv, 10)\n",
      "print scipy.stats.scoreatpercentile(nsv, 50)\n",
      "print scipy.stats.scoreatpercentile(nsv, 90)\n",
      "\n",
      "niv = [v for v in real['ims'].values() if v > 0]\n",
      "print np.mean(niv)\n",
      "print np.std(niv)\n",
      "print scipy.stats.scoreatpercentile(niv, 10)\n",
      "print scipy.stats.scoreatpercentile(niv, 50)\n",
      "print scipy.stats.scoreatpercentile(niv, 90)"
     ],
     "language": "python",
     "metadata": {},
     "outputs": [
      {
       "output_type": "stream",
       "stream": "stdout",
       "text": [
        "20.4056603774\n",
        "5.56484637074\n",
        "14.0\n",
        "20.0\n",
        "27.0\n",
        "8.50943396226\n",
        "6.32342945378\n",
        "3.0\n",
        "6.0\n",
        "17.0\n",
        "5.93406593407\n",
        "4.76779995755\n",
        "2.0\n",
        "4.0\n",
        "13.0\n",
        "10.0566037736\n",
        "5.9989467451\n",
        "4.0\n",
        "9.0\n",
        "19.0\n"
       ]
      }
     ],
     "prompt_number": 48
    },
    {
     "cell_type": "code",
     "collapsed": false,
     "input": [
      "nav = [v for v in calib['assoc'].values() if v > 0]\n",
      "print np.mean(nav)\n",
      "print np.std(nav)\n",
      "print scipy.stats.scoreatpercentile(nav, 10)\n",
      "print scipy.stats.scoreatpercentile(nav, 50)\n",
      "print scipy.stats.scoreatpercentile(nav, 90)\n",
      "\n",
      "\n",
      "niv = [v for v in calib['ims'].values() if v > 0]\n",
      "print np.mean(niv)\n",
      "print np.std(niv)\n",
      "print scipy.stats.scoreatpercentile(niv, 10)\n",
      "print scipy.stats.scoreatpercentile(niv, 50)\n",
      "print scipy.stats.scoreatpercentile(niv, 90)"
     ],
     "language": "python",
     "metadata": {},
     "outputs": [
      {
       "output_type": "stream",
       "stream": "stdout",
       "text": [
        "14.81\n",
        "4.77848302288\n",
        "10.0\n",
        "14.0\n",
        "20.0\n",
        "2.97382198953\n",
        "1.67967384946\n",
        "1.0\n",
        "3.0\n",
        "5.0\n"
       ]
      }
     ],
     "prompt_number": 26
    },
    {
     "cell_type": "code",
     "collapsed": false,
     "input": [],
     "language": "python",
     "metadata": {},
     "outputs": [],
     "prompt_number": 127
    },
    {
     "cell_type": "code",
     "collapsed": false,
     "input": [
      "len( real40['losses'])\n"
     ],
     "language": "python",
     "metadata": {},
     "outputs": [
      {
       "output_type": "pyout",
       "prompt_number": 51,
       "text": [
        "483"
       ]
      }
     ],
     "prompt_number": 51
    },
    {
     "cell_type": "code",
     "collapsed": false,
     "input": [
      "real = real40\n",
      "calib=calib40\n",
      "\n",
      "print real50['assoc'][5393637], real50['ims'][5393637], real50['sel3'][5393637], real50['leb'][5393637]"
     ],
     "language": "python",
     "metadata": {},
     "outputs": [
      {
       "output_type": "stream",
       "stream": "stdout",
       "text": [
        "53 42 28 39\n"
       ]
      }
     ],
     "prompt_number": 39
    },
    {
     "cell_type": "code",
     "collapsed": false,
     "input": [
      "[(evid, sta) for (evid, sta) in real50['losses'] if evid==5393637]"
     ],
     "language": "python",
     "metadata": {},
     "outputs": [
      {
       "output_type": "pyout",
       "prompt_number": 46,
       "text": [
        "[(5393637, 'CTA'),\n",
        " (5393637, 'BORG'),\n",
        " (5393637, 'EIL'),\n",
        " (5393637, 'GUMO'),\n",
        " (5393637, 'LVC'),\n",
        " (5393637, 'KURK')]"
       ]
      }
     ],
     "prompt_number": 46
    },
    {
     "cell_type": "code",
     "collapsed": false,
     "input": [
      "[(evid, sta) for (evid, sta) in real50['wins'] if evid==5393637]"
     ],
     "language": "python",
     "metadata": {},
     "outputs": [
      {
       "output_type": "pyout",
       "prompt_number": 47,
       "text": [
        "[(5393637, 'TGY'),\n",
        " (5393637, 'DZM'),\n",
        " (5393637, 'HNR'),\n",
        " (5393637, 'ROSC'),\n",
        " (5393637, 'RAO'),\n",
        " (5393637, 'TKL'),\n",
        " (5393637, 'KAPI'),\n",
        " (5393637, 'DAV'),\n",
        " (5393637, 'PPT'),\n",
        " (5393637, 'LSZ'),\n",
        " (5393637, 'JKA'),\n",
        " (5393637, 'VNDA'),\n",
        " (5393637, 'INK'),\n",
        " (5393637, 'OPO'),\n",
        " (5393637, 'MAW'),\n",
        " (5393637, 'FRB'),\n",
        " (5393637, 'SUR')]"
       ]
      }
     ],
     "prompt_number": 47
    },
    {
     "cell_type": "code",
     "collapsed": false,
     "input": [],
     "language": "python",
     "metadata": {},
     "outputs": [
      {
       "output_type": "pyout",
       "prompt_number": 43,
       "text": [
        "{'assoc': defaultdict(<type 'int'>, {5294832: 29, 5292354: 48, 5393637: 53, 5290284: 40, 5294288: 29, 5293649: 34, 5289811: 36, 5287478: 30, 5291827: 38, 5293821: 31, 5286654: 30, 5287775: 37}),\n",
        " 'ims': defaultdict(<type 'int'>, {5294832: 27, 5292354: 50, 5393637: 42, 5290284: 38, 5294288: 20, 5293649: 33, 5289811: 35, 5287478: 25, 5291827: 42, 5293821: 27, 5286654: 27, 5287775: 37}),\n",
        " 'leb': defaultdict(<type 'int'>, {5294832: 29, 5292354: 54, 5393637: 39, 5290284: 36, 5294288: 19, 5293649: 30, 5289811: 38, 5287478: 22, 5291827: 43, 5293821: 30, 5286654: 27, 5287775: 39}),\n",
        " 'losses': [(5286654, 'DLBC'),\n",
        "  (5286654, 'USRK'),\n",
        "  (5286654, 'GUMO'),\n",
        "  (5286654, 'AKASG'),\n",
        "  (5286654, 'ROSC'),\n",
        "  (5287478, 'USRK'),\n",
        "  (5287478, 'MKAR'),\n",
        "  (5287478, 'FINES'),\n",
        "  (5287478, 'CMAR'),\n",
        "  (5287478, 'PMG'),\n",
        "  (5287478, 'TORD'),\n",
        "  (5287478, 'BBB'),\n",
        "  (5287478, 'KSRS'),\n",
        "  (5287478, 'PSI'),\n",
        "  (5287478, 'ZALV'),\n",
        "  (5287775, 'ROSC'),\n",
        "  (5287775, 'CMAR'),\n",
        "  (5287775, 'BBB'),\n",
        "  (5287775, 'KSRS'),\n",
        "  (5289811, 'USRK'),\n",
        "  (5289811, 'TEIG'),\n",
        "  (5289811, 'TGY'),\n",
        "  (5289811, 'YKA'),\n",
        "  (5289811, 'KSRS'),\n",
        "  (5289811, 'ANMO'),\n",
        "  (5290284, 'ASAR'),\n",
        "  (5290284, 'CMAR'),\n",
        "  (5290284, 'BVAR'),\n",
        "  (5290284, 'AKASG'),\n",
        "  (5290284, 'KSRS'),\n",
        "  (5290284, 'PLCA'),\n",
        "  (5290284, 'MMAI'),\n",
        "  (5292354, 'BDFB'),\n",
        "  (5292354, 'LPAZ'),\n",
        "  (5292354, 'ROSC'),\n",
        "  (5292354, 'NNA'),\n",
        "  (5292354, 'NVAR'),\n",
        "  (5292354, 'LSZ'),\n",
        "  (5292354, 'CMIG'),\n",
        "  (5292354, 'AKASG'),\n",
        "  (5292354, 'PLCA'),\n",
        "  (5292354, 'MAW'),\n",
        "  (5291827, 'BDFB'),\n",
        "  (5291827, 'KBZ'),\n",
        "  (5291827, 'DAV'),\n",
        "  (5291827, 'AFI'),\n",
        "  (5291827, 'PSI'),\n",
        "  (5293649, 'CFAA'),\n",
        "  (5293649, 'ATD'),\n",
        "  (5293649, 'LPAZ'),\n",
        "  (5293649, 'KSRS'),\n",
        "  (5293649, 'PLCA'),\n",
        "  (5293821, 'YKA'),\n",
        "  (5293821, 'ULM'),\n",
        "  (5293821, 'KSRS'),\n",
        "  (5294288, 'USRK'),\n",
        "  (5294288, 'FRB'),\n",
        "  (5294288, 'AKASG'),\n",
        "  (5294832, 'USRK'),\n",
        "  (5294832, 'BVAR'),\n",
        "  (5294832, 'CMAR'),\n",
        "  (5294832, 'AKASG'),\n",
        "  (5294832, 'KSRS'),\n",
        "  (5294832, 'INK'),\n",
        "  (5294832, 'ZALV'),\n",
        "  (5393637, 'CTA'),\n",
        "  (5393637, 'BORG'),\n",
        "  (5393637, 'EIL'),\n",
        "  (5393637, 'GUMO'),\n",
        "  (5393637, 'LVC'),\n",
        "  (5393637, 'KURK')],\n",
        " 'passoc': defaultdict(<type 'int'>, {5294832: 29.574039783289184, 5292354: 48.413581294096559, 5393637: 53.087083672456103, 5290284: 40.583790454560592, 5294288: 29.889044316673299, 5293649: 33.988052506599352, 5289811: 36.532848481293513, 5287478: 30.895885422659667, 5291827: 38.542132906108897, 5293821: 31.578630593907594, 5286654: 29.798609911273548, 5287775: 37.353845660883053}),\n",
        " 'sel3': defaultdict(<type 'int'>, {5294832: 19, 5292354: 14, 5393637: 28, 5290284: 23, 5294288: 10, 5293649: 26, 5289811: 27, 5287478: 13, 5291827: 33, 5293821: 24, 5286654: 16, 5287775: 18}),\n",
        " 'wins': [(5286654, 'JHJ'),\n",
        "  (5286654, 'HNR'),\n",
        "  (5286654, 'TGY'),\n",
        "  (5286654, 'PMG'),\n",
        "  (5286654, 'KDAK'),\n",
        "  (5286654, 'NVAR'),\n",
        "  (5286654, 'MAW'),\n",
        "  (5286654, 'NWAO'),\n",
        "  (5287478, 'TGY'),\n",
        "  (5287478, 'VRAC'),\n",
        "  (5287478, 'ROSC'),\n",
        "  (5287478, 'ATTU'),\n",
        "  (5287478, 'VNDA'),\n",
        "  (5287478, 'DBIC'),\n",
        "  (5287478, 'DAV'),\n",
        "  (5287478, 'ASF'),\n",
        "  (5287478, 'BVAR'),\n",
        "  (5287478, 'NVAR'),\n",
        "  (5287478, 'MLR'),\n",
        "  (5287478, 'JCJ'),\n",
        "  (5287478, 'PLCA'),\n",
        "  (5287478, 'MAW'),\n",
        "  (5287478, 'AKTO'),\n",
        "  (5287775, 'LPAZ'),\n",
        "  (5287775, 'TORD'),\n",
        "  (5287775, 'JCJ'),\n",
        "  (5287775, 'JNU'),\n",
        "  (5289811, 'LPAZ'),\n",
        "  (5289811, 'ROSC'),\n",
        "  (5289811, 'KAPI'),\n",
        "  (5289811, 'AFI'),\n",
        "  (5289811, 'TKL'),\n",
        "  (5289811, 'DAV'),\n",
        "  (5289811, 'NVAR'),\n",
        "  (5290284, 'JHJ'),\n",
        "  (5290284, 'NNA'),\n",
        "  (5290284, 'FINES'),\n",
        "  (5290284, 'KAPI'),\n",
        "  (5290284, 'DAV'),\n",
        "  (5290284, 'RAR'),\n",
        "  (5290284, 'ASF'),\n",
        "  (5290284, 'PSI'),\n",
        "  (5290284, 'AKTO'),\n",
        "  (5292354, 'NEW'),\n",
        "  (5292354, 'BORG'),\n",
        "  (5292354, 'TKL'),\n",
        "  (5292354, 'GUMO'),\n",
        "  (5292354, 'DBIC'),\n",
        "  (5292354, 'BVAR'),\n",
        "  (5292354, 'ULM'),\n",
        "  (5292354, 'BOSA'),\n",
        "  (5291827, 'ROSC'),\n",
        "  (5293649, 'BDFB'),\n",
        "  (5293649, 'SPITS'),\n",
        "  (5293649, 'ROSC'),\n",
        "  (5293649, 'JKA'),\n",
        "  (5293649, 'PSI'),\n",
        "  (5293649, 'JNU'),\n",
        "  (5293821, 'SPITS'),\n",
        "  (5293821, 'NEW'),\n",
        "  (5293821, 'SCHQ'),\n",
        "  (5293821, 'DBIC'),\n",
        "  (5293821, 'MAW'),\n",
        "  (5293821, 'NWAO'),\n",
        "  (5293821, 'INK'),\n",
        "  (5294288, 'LPAZ'),\n",
        "  (5294288, 'AFI'),\n",
        "  (5294288, 'TEIG'),\n",
        "  (5294288, 'CMAR'),\n",
        "  (5294288, 'YKA'),\n",
        "  (5294288, 'CMIG'),\n",
        "  (5294288, 'SONM'),\n",
        "  (5294288, 'ILAR'),\n",
        "  (5294288, 'KSRS'),\n",
        "  (5294288, 'BOSA'),\n",
        "  (5294288, 'MAW'),\n",
        "  (5294288, 'INK'),\n",
        "  (5294832, 'FINES'),\n",
        "  (5294832, 'ATTU'),\n",
        "  (5294832, 'PPT'),\n",
        "  (5294832, 'LSZ'),\n",
        "  (5294832, 'ILAR'),\n",
        "  (5294832, 'BOSA'),\n",
        "  (5294832, 'PETK'),\n",
        "  (5294832, 'OPO'),\n",
        "  (5294832, 'SUR'),\n",
        "  (5393637, 'TGY'),\n",
        "  (5393637, 'DZM'),\n",
        "  (5393637, 'HNR'),\n",
        "  (5393637, 'ROSC'),\n",
        "  (5393637, 'RAO'),\n",
        "  (5393637, 'TKL'),\n",
        "  (5393637, 'KAPI'),\n",
        "  (5393637, 'DAV'),\n",
        "  (5393637, 'PPT'),\n",
        "  (5393637, 'LSZ'),\n",
        "  (5393637, 'JKA'),\n",
        "  (5393637, 'VNDA'),\n",
        "  (5393637, 'INK'),\n",
        "  (5393637, 'OPO'),\n",
        "  (5393637, 'MAW'),\n",
        "  (5393637, 'FRB'),\n",
        "  (5393637, 'SUR')]}"
       ]
      }
     ],
     "prompt_number": 43
    },
    {
     "cell_type": "code",
     "collapsed": false,
     "input": [],
     "language": "python",
     "metadata": {},
     "outputs": []
    }
   ],
   "metadata": {}
  }
 ]
}