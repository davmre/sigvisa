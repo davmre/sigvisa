{
 "metadata": {
  "name": "aistats data munging"
 },
 "nbformat": 3,
 "nbformat_minor": 0,
 "worksheets": [
  {
   "cells": [
    {
     "cell_type": "code",
     "collapsed": false,
     "input": [
      "import pandas as pd\n",
      "def standardizeX(dfX, ignore_cols=[]):\n",
      "    for col in dfX.columns:\n",
      "        if col in ignore_cols: continue\n",
      "                \n",
      "        mx = dfX[col].max()\n",
      "        mn = dfX[col].min()\n",
      "        print col, mx, mn\n",
      "        dfX[col] = (dfX[col] - mn) / ((mx-mn)/100.0 )\n",
      "        print col, mx, mn, (mx-mn)"
     ],
     "language": "python",
     "metadata": {},
     "outputs": [],
     "prompt_number": 119
    },
    {
     "cell_type": "code",
     "collapsed": false,
     "input": [
      "\n",
      "h1 = pd.read_csv('papers/product_tree/cal_housing_data.csv')\n",
      "h2 = pd.read_csv('papers/product_tree/cal_housing_dbf.csv')\n",
      "h2 = h2[np.isfinite(h2['BLCKGR'])]\n",
      "h2 = h2[h2['H061A001'] > 0]\n",
      "print h1\n",
      "print h2"
     ],
     "language": "python",
     "metadata": {},
     "outputs": [
      {
       "output_type": "stream",
       "stream": "stdout",
       "text": [
        "<class 'pandas.core.frame.DataFrame'>\n",
        "Int64Index: 20640 entries, 0 to 20639\n",
        "Data columns (total 9 columns):\n",
        "lon           20640  non-null values\n",
        "lat           20640  non-null values\n",
        "age           20640  non-null values\n",
        "income        20640  non-null values\n",
        "units         20640  non-null values\n",
        "population    20640  non-null values\n",
        "households    20640  non-null values\n",
        "rooms         20640  non-null values\n",
        "value         20640  non-null values\n",
        "dtypes: float64(9)\n",
        "<class 'pandas.core.frame.DataFrame'>\n",
        "Int64Index: 20077 entries, 901 to 29191\n",
        "Data columns (total 99 columns):\n",
        "FIPS        20077  non-null values\n",
        "TRACT       20077  non-null values\n",
        "BLOCKGR     20077  non-null values\n",
        "SUMLEV      20077  non-null values\n",
        "STATEFP     20077  non-null values\n",
        "CNTY        20077  non-null values\n",
        "COUSUBFP    0  non-null values\n",
        "PLACEFP     0  non-null values\n",
        "TRACTBNA    20077  non-null values\n",
        "BLCKGR      20077  non-null values\n",
        "LOGRECNU    20077  non-null values\n",
        "P0010001    20077  non-null values\n",
        "P0050001    20077  non-null values\n",
        "P0060001    20077  non-null values\n",
        "P0060002    20077  non-null values\n",
        "P0060003    20077  non-null values\n",
        "P0060004    20077  non-null values\n",
        "P0100001    20077  non-null values\n",
        "P0120001    20077  non-null values\n",
        "P0120002    20077  non-null values\n",
        "P0120003    20077  non-null values\n",
        "P0120004    20077  non-null values\n",
        "P0120005    20077  non-null values\n",
        "P0130001    20077  non-null values\n",
        "P0130002    20077  non-null values\n",
        "P0130003    20077  non-null values\n",
        "P0130004    20077  non-null values\n",
        "P0190005    20077  non-null values\n",
        "P0190007    20077  non-null values\n",
        "P0230001    20077  non-null values\n",
        "P0230002    20077  non-null values\n",
        "P0230003    20077  non-null values\n",
        "P0230008    20077  non-null values\n",
        "P0230009    20077  non-null values\n",
        "P0230010    20077  non-null values\n",
        "P0230015    20077  non-null values\n",
        "P0230016    20077  non-null values\n",
        "P0230017    20077  non-null values\n",
        "P0290001    20077  non-null values\n",
        "P0290002    20077  non-null values\n",
        "P0290003    20077  non-null values\n",
        "P0290004    20077  non-null values\n",
        "P0290005    20077  non-null values\n",
        "P0290006    20077  non-null values\n",
        "P0290007    20077  non-null values\n",
        "P0570001    20077  non-null values\n",
        "P0570002    20077  non-null values\n",
        "P0570003    20077  non-null values\n",
        "P0570004    20077  non-null values\n",
        "P0570005    20077  non-null values\n",
        "P0570006    20077  non-null values\n",
        "P0570007    20077  non-null values\n",
        "P0600001    20077  non-null values\n",
        "P0600002    20077  non-null values\n",
        "P0600003    20077  non-null values\n",
        "P0600004    20077  non-null values\n",
        "P0600005    20077  non-null values\n",
        "P0600006    20077  non-null values\n",
        "P0600007    20077  non-null values\n",
        "P080A001    20077  non-null values\n",
        "P1170001    20077  non-null values\n",
        "P1170002    20077  non-null values\n",
        "P1170013    20077  non-null values\n",
        "P1170014    20077  non-null values\n",
        "H0010001    20077  non-null values\n",
        "H0040001    20077  non-null values\n",
        "H0040002    20077  non-null values\n",
        "H0080001    20077  non-null values\n",
        "H0080002    20077  non-null values\n",
        "H0250001    20077  non-null values\n",
        "H0250002    20077  non-null values\n",
        "H0250003    20077  non-null values\n",
        "H0250004    20077  non-null values\n",
        "H0250005    20077  non-null values\n",
        "H0250006    20077  non-null values\n",
        "H0250007    20077  non-null values\n",
        "H0250008    20077  non-null values\n",
        "H061A001    20077  non-null values\n",
        "P006X1P     20077  non-null values\n",
        "H008X1P     20077  non-null values\n",
        "P010X1P     20077  non-null values\n",
        "P012X1      20077  non-null values\n",
        "P012X1P     20077  non-null values\n",
        "P013X1      20077  non-null values\n",
        "P013X1P     20077  non-null values\n",
        "P013X2      20077  non-null values\n",
        "P019X1P     20077  non-null values\n",
        "P023X1      20077  non-null values\n",
        "P023X1P     20077  non-null values\n",
        "H025X1      20077  non-null values\n",
        "H025X1P     20077  non-null values\n",
        "P029X1      20077  non-null values\n",
        "P029X1P     20077  non-null values\n",
        "P057X1      20077  non-null values\n",
        "P057X1P     20077  non-null values\n",
        "P060X1      20077  non-null values\n",
        "P060X1P     20077  non-null values\n",
        "P117X1      20077  non-null values\n",
        "P117X1P     20077  non-null values\n",
        "dtypes: float64(94), int64(4), object(1)\n"
       ]
      }
     ],
     "prompt_number": 3
    },
    {
     "cell_type": "code",
     "collapsed": false,
     "input": [
      "(h2[h2['H061A001'] == 14999])['P0050001']"
     ],
     "language": "python",
     "metadata": {},
     "outputs": [
      {
       "output_type": "pyout",
       "prompt_number": 145,
       "text": [
        "3788     114\n",
        "4600      50\n",
        "4682     117\n",
        "5241     213\n",
        "15615    505\n",
        "18885    616\n",
        "26229    331\n",
        "Name: P0050001, dtype: float64"
       ]
      }
     ],
     "prompt_number": 145
    },
    {
     "cell_type": "code",
     "collapsed": false,
     "input": [
      "h1[h1['value'] == 14999]"
     ],
     "language": "python",
     "metadata": {},
     "outputs": [
      {
       "html": [
        "<div style=\"max-height:1000px;max-width:1500px;overflow:auto;\">\n",
        "<table border=\"1\" class=\"dataframe\">\n",
        "  <thead>\n",
        "    <tr style=\"text-align: right;\">\n",
        "      <th></th>\n",
        "      <th>lon</th>\n",
        "      <th>lat</th>\n",
        "      <th>age</th>\n",
        "      <th>income</th>\n",
        "      <th>units</th>\n",
        "      <th>population</th>\n",
        "      <th>households</th>\n",
        "      <th>rooms</th>\n",
        "      <th>value</th>\n",
        "    </tr>\n",
        "  </thead>\n",
        "  <tbody>\n",
        "    <tr>\n",
        "      <th>2521 </th>\n",
        "      <td>-122.74</td>\n",
        "      <td> 39.71</td>\n",
        "      <td> 16</td>\n",
        "      <td> 255</td>\n",
        "      <td>  73</td>\n",
        "      <td>  85</td>\n",
        "      <td>  38</td>\n",
        "      <td> 1.6607</td>\n",
        "      <td> 14999</td>\n",
        "    </tr>\n",
        "    <tr>\n",
        "      <th>2799 </th>\n",
        "      <td>-117.02</td>\n",
        "      <td> 36.40</td>\n",
        "      <td> 19</td>\n",
        "      <td> 619</td>\n",
        "      <td> 239</td>\n",
        "      <td> 490</td>\n",
        "      <td> 164</td>\n",
        "      <td> 2.1000</td>\n",
        "      <td> 14999</td>\n",
        "    </tr>\n",
        "    <tr>\n",
        "      <th>9188 </th>\n",
        "      <td>-117.86</td>\n",
        "      <td> 34.24</td>\n",
        "      <td> 52</td>\n",
        "      <td> 803</td>\n",
        "      <td> 267</td>\n",
        "      <td> 628</td>\n",
        "      <td> 225</td>\n",
        "      <td> 4.1932</td>\n",
        "      <td> 14999</td>\n",
        "    </tr>\n",
        "    <tr>\n",
        "      <th>19802</th>\n",
        "      <td>-123.17</td>\n",
        "      <td> 40.31</td>\n",
        "      <td> 36</td>\n",
        "      <td>  98</td>\n",
        "      <td>  28</td>\n",
        "      <td>  18</td>\n",
        "      <td>   8</td>\n",
        "      <td> 0.5360</td>\n",
        "      <td> 14999</td>\n",
        "    </tr>\n",
        "  </tbody>\n",
        "</table>\n",
        "</div>"
       ],
       "output_type": "pyout",
       "prompt_number": 144,
       "text": [
        "          lon    lat  age  income  units  population  households   rooms  value\n",
        "2521  -122.74  39.71   16     255     73          85          38  1.6607  14999\n",
        "2799  -117.02  36.40   19     619    239         490         164  2.1000  14999\n",
        "9188  -117.86  34.24   52     803    267         628         225  4.1932  14999\n",
        "19802 -123.17  40.31   36      98     28          18           8  0.5360  14999"
       ]
      }
     ],
     "prompt_number": 144
    },
    {
     "cell_type": "code",
     "collapsed": false,
     "input": [
      "(h1['']*12).mean()"
     ],
     "language": "python",
     "metadata": {},
     "outputs": [
      {
       "output_type": "pyout",
       "prompt_number": 114,
       "text": [
        "31629.156976744187"
       ]
      }
     ],
     "prompt_number": 114
    },
    {
     "cell_type": "code",
     "collapsed": false,
     "input": [
      "print (h2['H061A001'] > 0).sum()\n"
     ],
     "language": "python",
     "metadata": {},
     "outputs": [
      {
       "output_type": "stream",
       "stream": "stdout",
       "text": [
        "20077\n"
       ]
      }
     ],
     "prompt_number": 123
    },
    {
     "cell_type": "code",
     "collapsed": false,
     "input": [
      "precip = pd.read_csv('papers/product_tree/NCAR_pinfill/ppt.complete.Y101',sep=r'\\s*', names=['sta', 'jan', 'feb', 'mar', 'apr', 'may', 'jun', 'jul', 'aug', 'sep', 'oct', 'nov', 'dec', 'missing'], index_col=0)\n",
      "precip_full = precip[precip['missing'] == 000000000000]\n",
      "print precip_full"
     ],
     "language": "python",
     "metadata": {},
     "outputs": [
      {
       "output_type": "stream",
       "stream": "stdout",
       "text": [
        "<class 'pandas.core.frame.DataFrame'>\n",
        "Index: 5776 entries, 010008 to 23G15S\n",
        "Data columns (total 13 columns):\n",
        "jan        5776  non-null values\n",
        "feb        5776  non-null values\n",
        "mar        5776  non-null values\n",
        "apr        5776  non-null values\n",
        "may        5776  non-null values\n",
        "jun        5776  non-null values\n",
        "jul        5776  non-null values\n",
        "aug        5776  non-null values\n",
        "sep        5776  non-null values\n",
        "oct        5776  non-null values\n",
        "nov        5776  non-null values\n",
        "dec        5776  non-null values\n",
        "missing    5776  non-null values\n",
        "dtypes: int64(13)\n"
       ]
      }
     ],
     "prompt_number": 4
    },
    {
     "cell_type": "code",
     "collapsed": false,
     "input": [
      "precip_sta = pd.read_csv('papers/product_tree/NCAR_pinfill/METAinfo',sep=r'\\s*', names=['sta', 'lon', 'lat', 'elev'], index_col=0, header=1)\n",
      "precip_joined = precip_full.join(precip_sta, how='inner')\n",
      "precip_joined['annual'] = precip_joined['jan']+precip_joined['feb']+precip_joined['mar']+precip_joined['apr']+precip_joined['may']+precip_joined['jun']+precip_joined['jul']+precip_joined['aug']+precip_joined['sep']+precip_joined['oct']+precip_joined['nov']+precip_joined['dec']\n",
      "print precip_joined"
     ],
     "language": "python",
     "metadata": {},
     "outputs": [],
     "prompt_number": 112
    },
    {
     "cell_type": "code",
     "collapsed": false,
     "input": [],
     "language": "python",
     "metadata": {},
     "outputs": [],
     "prompt_number": 123
    },
    {
     "cell_type": "code",
     "collapsed": false,
     "input": [
      "precip_X = precip_joined[['lon', 'lat', 'elev']]\n",
      "standardizeX(precip_X, ignore_cols=['lon', 'lat'])\n",
      "precip_X.to_csv('papers/product_tree/datasets/precip/precip_all_X.txt', index=False)\n",
      "precip_annual = precip_joined[['annual']]\n",
      "precip_annual = (precip_annual - precip_annual.mean())/precip_annual.std()\n",
      "precip_annual.to_csv('papers/product_tree/datasets/precip/precip_all_y.txt', index=False)\n",
      "\n",
      "for month in ['jan', 'feb', 'mar', 'apr', 'may', 'jun', 'jul', 'aug', 'sep', 'oct', 'nov', 'dec']:\n",
      "    precip_X.to_csv('papers/product_tree/datasets/precip/precip_%s_X.txt' % month, index=False)\n",
      "    precip_month = precip_joined[[month]]\n",
      "    precip_month = (precip_month - precip_month.mean())/precip_month.std()\n",
      "    precip_month.to_csv('papers/product_tree/datasets/precip/precip_%s_y.txt' % month, index=False)"
     ],
     "language": "python",
     "metadata": {},
     "outputs": [
      {
       "output_type": "stream",
       "stream": "stdout",
       "text": [
        "elev 3537 -59\n",
        "elev 3537 -59 3596\n"
       ]
      }
     ],
     "prompt_number": 120
    },
    {
     "cell_type": "code",
     "collapsed": false,
     "input": [
      "\n",
      "            \n",
      "\n",
      "precip_X.head()\n",
      "#precip_X['lon'].astype('float')\n"
     ],
     "language": "python",
     "metadata": {},
     "outputs": [
      {
       "html": [
        "<div style=\"max-height:1000px;max-width:1500px;overflow:auto;\">\n",
        "<table border=\"1\" class=\"dataframe\">\n",
        "  <thead>\n",
        "    <tr style=\"text-align: right;\">\n",
        "      <th></th>\n",
        "      <th>lon</th>\n",
        "      <th>lat</th>\n",
        "      <th>elev</th>\n",
        "    </tr>\n",
        "    <tr>\n",
        "      <th>sta</th>\n",
        "      <th></th>\n",
        "      <th></th>\n",
        "      <th></th>\n",
        "    </tr>\n",
        "  </thead>\n",
        "  <tbody>\n",
        "    <tr>\n",
        "      <th>010063</th>\n",
        "      <td>-87.18</td>\n",
        "      <td> 34.22</td>\n",
        "      <td>  8.426029</td>\n",
        "    </tr>\n",
        "    <tr>\n",
        "      <th>010140</th>\n",
        "      <td>-87.42</td>\n",
        "      <td> 32.23</td>\n",
        "      <td>  3.170189</td>\n",
        "    </tr>\n",
        "    <tr>\n",
        "      <th>010184</th>\n",
        "      <td>-88.28</td>\n",
        "      <td> 33.23</td>\n",
        "      <td>  3.031146</td>\n",
        "    </tr>\n",
        "    <tr>\n",
        "      <th>010252</th>\n",
        "      <td>-86.50</td>\n",
        "      <td> 31.32</td>\n",
        "      <td>  4.616240</td>\n",
        "    </tr>\n",
        "    <tr>\n",
        "      <th>010369</th>\n",
        "      <td>-85.83</td>\n",
        "      <td> 33.27</td>\n",
        "      <td> 10.205784</td>\n",
        "    </tr>\n",
        "  </tbody>\n",
        "</table>\n",
        "</div>"
       ],
       "output_type": "pyout",
       "prompt_number": 124,
       "text": [
        "          lon    lat       elev\n",
        "sta                            \n",
        "010063 -87.18  34.22   8.426029\n",
        "010140 -87.42  32.23   3.170189\n",
        "010184 -88.28  33.23   3.031146\n",
        "010252 -86.50  31.32   4.616240\n",
        "010369 -85.83  33.27  10.205784"
       ]
      }
     ],
     "prompt_number": 124
    },
    {
     "cell_type": "code",
     "collapsed": false,
     "input": [
      "tco = pd.read_csv('papers/product_tree/tco.csv', names=['lon', 'lat', 'elev', 'tco'])\n",
      "print tco"
     ],
     "language": "python",
     "metadata": {},
     "outputs": [
      {
       "output_type": "stream",
       "stream": "stdout",
       "text": [
        "<class 'pandas.core.frame.DataFrame'>\n",
        "Int64Index: 51840 entries, 0 to 51839\n",
        "Data columns (total 4 columns):\n",
        "lon     51840  non-null values\n",
        "lat     51840  non-null values\n",
        "elev    51840  non-null values\n",
        "tco     51840  non-null values\n",
        "dtypes: float64(3), int64(1)\n"
       ]
      }
     ],
     "prompt_number": 12
    },
    {
     "cell_type": "code",
     "collapsed": false,
     "input": [
      "tco_X = tco[['lon', 'lat']]\n",
      "tco_X.to_csv('papers/product_tree/datasets/tco/tco_X.txt', index=False)\n",
      "\n",
      "tco_y = tco[['tco']]\n",
      "tco_y = (tco_y - tco_y.mean()) / tco_y.std()\n",
      "tco_y.to_csv('papers/product_tree/datasets/tco/tco_y.txt', index=False)"
     ],
     "language": "python",
     "metadata": {},
     "outputs": [],
     "prompt_number": 125
    },
    {
     "cell_type": "code",
     "collapsed": false,
     "input": [
      "tco_y.hist()"
     ],
     "language": "python",
     "metadata": {},
     "outputs": [
      {
       "output_type": "pyout",
       "prompt_number": 18,
       "text": [
        "array([[Axes(0.125,0.125;0.775x0.775)]], dtype=object)"
       ]
      },
      {
       "output_type": "display_data",
       "png": "[encoded data removed]"
      }
     ],
     "prompt_number": 18
    },
    {
     "cell_type": "code",
     "collapsed": false,
     "input": [
      "h1 = pd.read_csv('papers/product_tree/cal_housing_data.csv')\n",
      "h1_norm = (h1 - h1.mean()) / h1.std()\n",
      "print h1_norm"
     ],
     "language": "python",
     "metadata": {},
     "outputs": [
      {
       "output_type": "stream",
       "stream": "stdout",
       "text": [
        "<class 'pandas.core.frame.DataFrame'>\n",
        "Int64Index: 20640 entries, 0 to 20639\n",
        "Data columns (total 9 columns):\n",
        "lon           20640  non-null values\n",
        "lat           20640  non-null values\n",
        "age           20640  non-null values\n",
        "income        20640  non-null values\n",
        "units         20640  non-null values\n",
        "population    20640  non-null values\n",
        "households    20640  non-null values\n",
        "rooms         20640  non-null values\n",
        "value         20640  non-null values\n",
        "dtypes: float64(9)\n"
       ]
      }
     ],
     "prompt_number": 24
    },
    {
     "cell_type": "code",
     "collapsed": false,
     "input": [
      "housing_age_X = h1[['income', 'value']]\n",
      "standardizeX(housing_age_X, ignore_cols=['lon', 'lat'])\n",
      "housing_age_y = h1_norm[['age']]\n",
      "housing_age_X.to_csv('papers/product_tree/datasets/housing/housing_age_X.txt', index=False)\n",
      "housing_age_y.to_csv('papers/product_tree/datasets/housing/housing_age_y.txt', index=False)\n",
      "\n",
      "housing_inc_X = h1[['age', 'value']]\n",
      "standardizeX(housing_inc_X, ignore_cols=['lon', 'lat'])\n",
      "housing_inc_y = h1_norm[['income']]\n",
      "housing_inc_X.to_csv('papers/product_tree/datasets/housing/housing_inc_X.txt', index=False)\n",
      "housing_inc_y.to_csv('papers/product_tree/datasets/housing/housing_inc_y.txt', index=False)\n",
      "\n",
      "housing_val_X = h1[['age', 'income']]\n",
      "standardizeX(housing_val_X, ignore_cols=['lon', 'lat'])\n",
      "housing_val_y = h1_norm[['value']]\n",
      "housing_val_X.to_csv('papers/product_tree/datasets/housing/housing_val_X.txt', index=False)\n",
      "housing_val_y.to_csv('papers/product_tree/datasets/housing/housing_val_y.txt', index=False)"
     ],
     "language": "python",
     "metadata": {},
     "outputs": [
      {
       "output_type": "stream",
       "stream": "stdout",
       "text": [
        "income 39320.0 2.0\n",
        "income 39320.0 2.0 39318.0\n",
        "value 500001.0 14999.0\n",
        "value 500001.0 14999.0 485002.0\n",
        "age"
       ]
      },
      {
       "output_type": "stream",
       "stream": "stdout",
       "text": [
        " 52.0 1.0\n",
        "age 52.0 1.0 51.0\n",
        "value 500001.0 14999.0\n",
        "value 500001.0 14999.0 485002.0\n",
        "age"
       ]
      },
      {
       "output_type": "stream",
       "stream": "stdout",
       "text": [
        " 52.0 1.0\n",
        "age 52.0 1.0 51.0\n",
        "income 39320.0 2.0\n",
        "income 39320.0 2.0 39318.0\n"
       ]
      }
     ],
     "prompt_number": 126
    },
    {
     "cell_type": "code",
     "collapsed": false,
     "input": [
      "bigsta=None\n",
      "\n",
      "import os\n",
      "\n",
      "for stafile in os.listdir('papers/product_tree/california_snow/'):\n",
      "    if not stafile.endswith('.csv'): continue\n",
      "    \n",
      "    sta = pd.read_csv('papers/product_tree/california_snow/' + stafile)\n",
      "    sta['daynum'] = sta.index\n",
      "    sta = sta.dropna()\n",
      "    sta['snow'].astype('float')\n",
      "    if bigsta is None:\n",
      "        bigsta = sta\n",
      "    else:\n",
      "        bigsta = pd.concat([bigsta, sta])\n",
      "print bigsta"
     ],
     "language": "python",
     "metadata": {},
     "outputs": [
      {
       "output_type": "stream",
       "stream": "stdout",
       "text": [
        "<class 'pandas.core.frame.DataFrame'>\n",
        "Int64Index: 23713 entries, 0 to 6\n",
        "Data columns (total 6 columns):\n",
        "date      23713  non-null values\n",
        "lon       23713  non-null values\n",
        "lat       23713  non-null values\n",
        "elev      23713  non-null values\n",
        "snow      23713  non-null values\n",
        "daynum    23713  non-null values\n",
        "dtypes: float64(4), int64(1), object(1)\n"
       ]
      }
     ],
     "prompt_number": 71
    },
    {
     "cell_type": "code",
     "collapsed": false,
     "input": [
      "\n",
      "bigsta['snow'] = (bigsta['snow'] - bigsta['snow'].mean()) / bigsta['snow'].std()"
     ],
     "language": "python",
     "metadata": {},
     "outputs": [
      {
       "output_type": "pyout",
       "prompt_number": 73,
       "text": [
        "<matplotlib.axes.AxesSubplot at 0x88718d0>"
       ]
      },
      {
       "output_type": "display_data",
       "png": "[encoded data removed]"
      }
     ],
     "prompt_number": 73
    },
    {
     "cell_type": "code",
     "collapsed": false,
     "input": [
      "bigsta_sorted = bigsta.sort(columns=['daynum', 'lon', 'lat', 'elev'])\n",
      "\n",
      "snow_X = bigsta_sorted[['daynum', 'lon', 'lat', 'elev']]\n",
      "standardizeX(snow_X, ignore_cols=['daynum', 'lon', 'lat'])\n",
      "snow_X.to_csv('papers/product_tree/datasets/snow/snow_X.txt', index=False)\n",
      "\n",
      "snow_y = bigsta_sorted[['snow']]\n",
      "snow_y.to_csv('papers/product_tree/datasets/snow/snow_y.txt', index=False)\n",
      "\n"
     ],
     "language": "python",
     "metadata": {},
     "outputs": [
      {
       "output_type": "stream",
       "stream": "stdout",
       "text": [
        "elev 11400.0 5100.0\n",
        "elev 11400.0 5100.0 6300.0\n"
       ]
      }
     ],
     "prompt_number": 130
    },
    {
     "cell_type": "code",
     "collapsed": false,
     "input": [
      "\n",
      "print bigsta_sorted.head()"
     ],
     "language": "python",
     "metadata": {},
     "outputs": [
      {
       "output_type": "stream",
       "stream": "stdout",
       "text": [
        "         date      lon     lat   elev  snow  daynum\n",
        "0  2011-11-01  118.177 -36.483  10150  0.11       0\n",
        "0  2011-11-01  118.268 -36.200   8300  0.35       0\n",
        "0  2011-11-01  118.288 -36.367   8900 -1.43       0\n",
        "0  2011-11-01  118.293 -36.127   7650  0.00       0\n",
        "0  2011-11-01  118.345 -36.563  10700 -0.13       0\n"
       ]
      }
     ],
     "prompt_number": 92
    },
    {
     "cell_type": "code",
     "collapsed": false,
     "input": [
      "import scipy.io    \n",
      "sdir = '/home/dmoore/cs281b-coarse-to-fine-GPs/data/'\n",
      "sarcos_train = scipy.io.loadmat(os.path.join(sdir, 'sarcos_inv.mat'))['sarcos_inv'].byteswap().newbyteorder()\n",
      "sarcos_test = scipy.io.loadmat(os.path.join(sdir, 'sarcos_inv_test.mat'))['sarcos_inv_test'].byteswap().newbyteorder()\n",
      "\n",
      "print sarcos_train"
     ],
     "language": "python",
     "metadata": {},
     "outputs": [
      {
       "output_type": "stream",
       "stream": "stdout",
       "text": [
        "[[ 0.019478 -0.134218  0.027439 ..., -0.424812 -0.907553  8.090739]\n",
        " [ 0.017279 -0.137077  0.026999 ..., -0.228739 -1.235817  7.762475]\n",
        " [ 0.016336 -0.140878  0.02725  ...,  0.244491 -1.70088   7.289678]\n",
        " ..., \n",
        " [-0.551577 -0.445141  0.07741  ..., -1.274436 -2.375086  1.892345]\n",
        " [-0.541838 -0.436124  0.0743   ..., -1.577874 -2.317157  2.490944]\n",
        " [-0.530622 -0.426197  0.069838 ..., -0.788937 -2.259228  2.857827]]\n"
       ]
      }
     ],
     "prompt_number": 128
    },
    {
     "cell_type": "code",
     "collapsed": false,
     "input": [
      "sarcos_train_X = sarcos_train[:, :21]\n",
      "sarcos_train_y = sarcos_train[:, 21]\n",
      "sarcos_test_X = sarcos_test[:, :21]\n",
      "sarcos_test_y = sarcos_test[:, 21]\n",
      "\n",
      "train_X_mean = np.reshape(np.mean(sarcos_train_X, axis=0), (1, -1))\n",
      "train_X_std = np.reshape(np.std(sarcos_train_X, axis=0), (1, -1))\n",
      "train_y_mean = np.mean(sarcos_train_y)\n",
      "train_y_std = np.std(sarcos_train_y)\n",
      "    \n",
      "sarcos_train_X = (sarcos_train_X - train_X_mean)/(train_X_std / 50.0)\n",
      "sarcos_test_X = (sarcos_test_X - train_X_mean)/(train_X_std / 50.0)\n",
      "sarcos_train_y = (sarcos_train_y - train_y_mean)/train_y_std\n",
      "sarcos_test_y = (sarcos_test_y - train_y_mean)/train_y_std\n",
      "\n",
      "sarcos_train_X = np.array(sarcos_train_X, copy=True, dtype=float, order=\"C\")\n",
      "sarcos_train_y = np.array(sarcos_train_y, copy=True, dtype=float, order=\"C\")\n",
      "sarcos_test_X = np.array(sarcos_test_X, copy=True, dtype=float, order=\"C\")\n",
      "sarcos_test_y = np.array(sarcos_test_y, copy=True, dtype=float, order=\"C\")\n",
      "\n",
      "trainXframe = pd.DataFrame(sarcos_train_X)\n",
      "trainXframe.to_csv('papers/product_tree/datasets/sarcos/sarcos_train_X.txt', index=False)\n",
      "trainyframe = pd.DataFrame(sarcos_train_y)\n",
      "trainyframe.to_csv('papers/product_tree/datasets/sarcos/sarcos_train_y.txt', index=False)\n",
      "\n",
      "testXframe = pd.DataFrame(sarcos_test_X)\n",
      "testXframe.to_csv('papers/product_tree/datasets/sarcos/sarcos_test_X.txt', index=False)\n",
      "testyframe = pd.DataFrame(sarcos_test_y)\n",
      "testyframe.to_csv('papers/product_tree/datasets/sarcos/sarcos_test_y.txt', index=False)\n"
     ],
     "language": "python",
     "metadata": {},
     "outputs": [],
     "prompt_number": 133
    },
    {
     "cell_type": "code",
     "collapsed": false,
     "input": [
      "\n",
      "print tXframe"
     ],
     "language": "python",
     "metadata": {},
     "outputs": [
      {
       "output_type": "stream",
       "stream": "stdout",
       "text": [
        "<class 'pandas.core.frame.DataFrame'>\n",
        "Int64Index: 44484 entries, 0 to 44483\n",
        "Data columns (total 21 columns):\n",
        "0     44484  non-null values\n",
        "1     44484  non-null values\n",
        "2     44484  non-null values\n",
        "3     44484  non-null values\n",
        "4     44484  non-null values\n",
        "5     44484  non-null values\n",
        "6     44484  non-null values\n",
        "7     44484  non-null values\n",
        "8     44484  non-null values\n",
        "9     44484  non-null values\n",
        "10    44484  non-null values\n",
        "11    44484  non-null values\n",
        "12    44484  non-null values\n",
        "13    44484  non-null values\n",
        "14    44484  non-null values\n",
        "15    44484  non-null values\n",
        "16    44484  non-null values\n",
        "17    44484  non-null values\n",
        "18    44484  non-null values\n",
        "19    44484  non-null values\n",
        "20    44484  non-null values\n",
        "dtypes: float64(21)\n"
       ]
      }
     ],
     "prompt_number": 131
    },
    {
     "cell_type": "code",
     "collapsed": false,
     "input": [
      "# wiggle preprocessing\n",
      "\n",
      "\n",
      "ycols = ['amp_%02d' % freq for freq in range(60)]\n",
      "X = pd.read_csv('wiggle_X.txt', names=['lon', 'lat', 'depth'], sep=r'\\s*')\n",
      "Y = pd.read_csv('wiggle_Y.txt', names=ycols, sep=r'\\s*')"
     ],
     "language": "python",
     "metadata": {},
     "outputs": [],
     "prompt_number": 217
    },
    {
     "cell_type": "code",
     "collapsed": false,
     "input": [
      "n = Y.shape[0]\n",
      "for i in range(n):\n",
      "    Y.ix[i,:] = Y.ix[i,:] / np.linalg.norm(Y.ix[i,:], 2)\n",
      "    \n",
      "Y = (Y - Y.mean())/Y.std()"
     ],
     "language": "python",
     "metadata": {},
     "outputs": [],
     "prompt_number": 218
    },
    {
     "cell_type": "code",
     "collapsed": false,
     "input": [
      "X['lon'] = X['lon'] % 360 - 180"
     ],
     "language": "python",
     "metadata": {},
     "outputs": [],
     "prompt_number": 219
    },
    {
     "cell_type": "code",
     "collapsed": false,
     "input": [
      "\n",
      "XY = X.merge(Y, left_index=True, right_index=True)\n",
      "XY=XY.dropna()\n",
      "XY = XY.sort(columns=['lon', 'lat', 'depth'])\n"
     ],
     "language": "python",
     "metadata": {},
     "outputs": [],
     "prompt_number": 225
    },
    {
     "cell_type": "code",
     "collapsed": false,
     "input": [
      "XX = XY[['lon', 'lat', 'depth']]\n",
      "standardizeX(XX, ignore_cols=['lon', 'lat'])\n",
      "YY = XY[ycols]\n"
     ],
     "language": "python",
     "metadata": {},
     "outputs": [
      {
       "output_type": "stream",
       "stream": "stdout",
       "text": [
        "depth 700.0 0.0\n",
        "depth 700.0 0.0 700.0\n"
       ]
      }
     ],
     "prompt_number": 226
    },
    {
     "cell_type": "code",
     "collapsed": false,
     "input": [
      "XX.to_csv('papers/product_tree/datasets/wiggle/wiggle5_X.txt', index=False)\n",
      "XX.to_csv('papers/product_tree/datasets/wiggle/wiggle15_X.txt', index=False)\n",
      "XX.to_csv('papers/product_tree/datasets/wiggle/wiggle20_X.txt', index=False)\n",
      "XX.to_csv('papers/product_tree/datasets/wiggle/wiggle45_X.txt', index=False)\n",
      "\n",
      "YY[['amp_05']].to_csv('papers/product_tree/datasets/wiggle/wiggle5_y.txt', index=False)\n",
      "YY[['amp_15']].to_csv('papers/product_tree/datasets/wiggle/wiggle15_y.txt', index=False)\n",
      "YY[['amp_20']].to_csv('papers/product_tree/datasets/wiggle/wiggle20_y.txt', index=False)\n",
      "YY[['amp_45']].to_csv('papers/product_tree/datasets/wiggle/wiggle45_y.txt', index=False)"
     ],
     "language": "python",
     "metadata": {},
     "outputs": [],
     "prompt_number": 227
    },
    {
     "cell_type": "code",
     "collapsed": false,
     "input": [],
     "language": "python",
     "metadata": {},
     "outputs": [
      {
       "output_type": "stream",
       "stream": "stdout",
       "text": [
        "<class 'pandas.core.frame.DataFrame'>\n",
        "Int64Index: 20580 entries, 2871 to 4646\n",
        "Data columns (total 60 columns):\n",
        "amp_00    20580  non-null values\n",
        "amp_01    20580  non-null values\n",
        "amp_02    20580  non-null values\n",
        "amp_03    20580  non-null values\n",
        "amp_04    20580  non-null values\n",
        "amp_05    20580  non-null values\n",
        "amp_06    20580  non-null values\n",
        "amp_07    20580  non-null values\n",
        "amp_08    20580  non-null values\n",
        "amp_09    20580  non-null values\n",
        "amp_10    20580  non-null values\n",
        "amp_11    20580  non-null values\n",
        "amp_12    20580  non-null values\n",
        "amp_13    20580  non-null values\n",
        "amp_14    20580  non-null values\n",
        "amp_15    20580  non-null values\n",
        "amp_16    20580  non-null values\n",
        "amp_17    20580  non-null values\n",
        "amp_18    20580  non-null values\n",
        "amp_19    20580  non-null values\n",
        "amp_20    20580  non-null values\n",
        "amp_21    20580  non-null values\n",
        "amp_22    20580  non-null values\n",
        "amp_23    20580  non-null values\n",
        "amp_24    20580  non-null values\n",
        "amp_25    20580  non-null values\n",
        "amp_26    20580  non-null values\n",
        "amp_27    20580  non-null values\n",
        "amp_28    20580  non-null values\n",
        "amp_29    20580  non-null values\n",
        "amp_30    20580  non-null values\n",
        "amp_31    20580  non-null values\n",
        "amp_32    20580  non-null values\n",
        "amp_33    20580  non-null values\n",
        "amp_34    20580  non-null values\n",
        "amp_35    20580  non-null values\n",
        "amp_36    20580  non-null values\n",
        "amp_37    20580  non-null values\n",
        "amp_38    20580  non-null values\n",
        "amp_39    20580  non-null values\n",
        "amp_40    20580  non-null values\n",
        "amp_41    20580  non-null values\n",
        "amp_42    20580  non-null values\n",
        "amp_43    20580  non-null values\n",
        "amp_44    20580  non-null values\n",
        "amp_45    20580  non-null values\n",
        "amp_46    20580  non-null values\n",
        "amp_47    20580  non-null values\n",
        "amp_48    20580  non-null values\n",
        "amp_49    20580  non-null values\n",
        "amp_50    20580  non-null values\n",
        "amp_51    20580  non-null values\n",
        "amp_52    20580  non-null values\n",
        "amp_53    20580  non-null values\n",
        "amp_54    20580  non-null values\n",
        "amp_55    20580  non-null values\n",
        "amp_56    20580  non-null values\n",
        "amp_57    20580  non-null values\n",
        "amp_58    20580  non-null values\n",
        "amp_59    20580  non-null values\n",
        "dtypes: float64(60)\n"
       ]
      }
     ],
     "prompt_number": 230
    },
    {
     "cell_type": "code",
     "collapsed": false,
     "input": [],
     "language": "python",
     "metadata": {},
     "outputs": []
    }
   ],
   "metadata": {}
  }
 ]
}