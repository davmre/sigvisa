{
 "metadata": {
  "name": "",
  "signature": "sha256:518ac1d66ad73436918461e95cd2fc2aa1273aa4011d617fb1e66f8bad329d1a"
 },
 "nbformat": 3,
 "nbformat_minor": 0,
 "worksheets": [
  {
   "cells": [
    {
     "cell_type": "code",
     "collapsed": false,
     "input": [
      "from sigvisa.explore.wavelet_matching import unflatten_wavelet_coefs, flatten_wavelet_coefs\n",
      "from sigvisa.models.noise.armodel.model import ARModel, ErrorModel\n",
      "from sigvisa.models.templates.lin_polyexp import LinPolyExpTemplateGenerator\n",
      "import scipy.stats\n",
      "\n",
      "\n",
      "import pywt\n",
      "\n",
      "def dwt(x, len_s, wtype='db9'):\n",
      "    cc = unflatten_wavelet_coefs(x, wtype=wtype, len_s=len_s)\n",
      "    return pywt.waverec(cc, wtype, 'per')\n",
      "    \n",
      "def idwt(s, wtype='db9', levels=999):\n",
      "    return flatten_wavelet_coefs(pywt.wavedec(s, wtype, 'per'), levels=levels)"
     ],
     "language": "python",
     "metadata": {},
     "outputs": [
      {
       "output_type": "stream",
       "stream": "stderr",
       "text": [
        "/home/dmoore/.virtualenvs/sigvisa/local/lib/python2.7/site-packages/nose/util.py:14: DeprecationWarning: The compiler package is deprecated and removed in Python 3.x.\n",
        "  from compiler.consts import CO_GENERATOR\n"
       ]
      }
     ],
     "prompt_number": 1
    },
    {
     "cell_type": "code",
     "collapsed": false,
     "input": [],
     "language": "python",
     "metadata": {},
     "outputs": []
    }
   ],
   "metadata": {}
  }
 ]
}