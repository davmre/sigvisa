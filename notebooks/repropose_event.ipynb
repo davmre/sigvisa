{
 "metadata": {
  "name": "",
  "signature": "sha256:9311921cfb642e8e8527eac450f45648033ba494214c77a35c465e23870ba67a"
 },
 "nbformat": 3,
 "nbformat_minor": 0,
 "worksheets": [
  {
   "cells": [
    {
     "cell_type": "code",
     "collapsed": false,
     "input": [
      "%load_ext autoreload\n",
      "%autoreload\n",
      "\n",
      "import numpy as np\n",
      "import sys\n",
      "import os\n",
      "\n",
      "import traceback\n",
      "\n",
      "import pickle\n",
      "import copy\n",
      "\n",
      "\n",
      "from sigvisa import Sigvisa\n",
      "\n",
      "from sigvisa.graph.sigvisa_graph import SigvisaGraph\n",
      "\n",
      "\n",
      "\n",
      "from sigvisa.models.templates.load_by_name import load_template_generator\n",
      "from sigvisa.models.ttime import tt_predict\n",
      "from sigvisa.infer.event_mcmc import *\n",
      "from sigvisa.infer.event_swap import *\n",
      "from sigvisa.infer.propose_lstsqr import overpropose_new_locations\n",
      "\n",
      "\n",
      "\n",
      "from sigvisa.infer.run_mcmc import run_open_world_MH\n",
      "from sigvisa.infer.mcmc_logger import MCMCLogger\n",
      "from sigvisa.infer.event_birthdeath import ev_birth_helper,ev_death_helper\n",
      "\n",
      "from sigvisa.infer.template_mcmc import *\n",
      "from sigvisa.plotting.plot import plot_with_fit, plot_with_fit_shapes, plot_pred_atimes\n",
      "from sigvisa.signals.common import Waveform\n",
      "from sigvisa.utils.fileutils import clear_directory, mkdir_p\n",
      "\n",
      "from sigvisa.experiments.one_station_templates_test import sample_template\n",
      "\n",
      "import cPickle as pickle\n",
      "\n",
      "def do_plot(wn, ax=None):\n",
      "    if ax is None:\n",
      "      f = plt.figure(figsize=(15,5))\n",
      "      ax=f.add_subplot(111)\n",
      "    shape_colors = plot_with_fit_shapes(fname=None, wn=wn, axes=ax, plot_wave=True)\n",
      "    atimes = dict([(\"%d_%s\" % (eid, phase), wn.get_template_params_for_arrival(eid=eid, phase=phase)[0]['arrival_time']) for (eid, phase) in wn.arrivals()])\n",
      "    colors = dict([(\"%d_%s\" % (eid, phase), shape_colors[eid]) for (eid, phase) in wn.arrivals()])\n",
      "    plot_pred_atimes(dict(atimes), wn.get_wave(), axes=ax, color=colors, alpha=1.0, bottom_rel=-0.1, top_rel=0.0)\n",
      "    return ax\n",
      "\n",
      "def ttrs(sg, eid, dump_info=True):\n",
      "    ev = sg.get_event(eid)\n",
      "    stas = sorted(sg.station_waves.keys())\n",
      "    targets = []\n",
      "    for sta in sorted(stas):\n",
      "        phases = sg.ev_arriving_phases(eid, sta)\n",
      "        for phase in phases:\n",
      "            targets.append((sta, phase))\n",
      "\n",
      "    atimes = np.array([get_atime(eid, sta, phase) for (sta, phase) in targets])\n",
      "    pred_tts = np.array([tt_predict(ev, sta, phase) for (sta, phase) in targets])\n",
      "    residuals = atimes-ev.time - pred_tts\n",
      "    \n",
      "    if dump_info:\n",
      "        print ev\n",
      "        for (sta, phase), atime, pred_tt, residual in zip(targets, atimes, pred_tts, residuals):\n",
      "            print sta, phase, \"atime %.1f pred %.1f tt %.1f residual %.2f\" % (atime, pred_tt+ev.time, pred_tt, residual)\n",
      "    \n",
      "    return np.abs(residuals)\n",
      "\n",
      "def get_atime(eid, sta, phase):\n",
      "    n = get_parent_value(eid=eid, sta=sta, phase=phase, param_name='arrival_time', chan=None, band=None,\n",
      "                         parent_values=sg.nodes_by_key, return_key=False)\n",
      "    return n.get_value()\n"
     ],
     "language": "python",
     "metadata": {},
     "outputs": [],
     "prompt_number": 1
    },
    {
     "cell_type": "code",
     "collapsed": false,
     "input": [
      "with open(\"/home/dmoore/python/sigvisa/logs/mcmc/01370/step_000199/pickle.sg\", 'rb') as f:\n",
      "    sg = pickle.load(f)\n",
      "    \n",
      "with open(\"/home/dmoore/python/sigvisa/logs/mcmc/01370/events.pkl\", 'rb') as f:\n",
      "    true_evs = pickle.load(f)\n",
      "    \n",
      "for ev in true_evs:\n",
      "    print ev\n",
      "    \n",
      "#wn = sg.all_nodes['wave_STKA_BHZ_freq_2.0_3.0_1238889600.0']\n",
      "sg.current_log_p_breakdown()"
     ],
     "language": "python",
     "metadata": {},
     "outputs": [
      {
       "output_type": "stream",
       "stream": "stdout",
       "text": [
        "evid None, loc 159.53 E 8.63 S, depth 527.6km, time 1238889780.3, mb 6.2, natural source\n",
        "evid None, loc 72.45 E 36.74 N, depth 282.9km, time 1238890310.0, mb 4.8, natural source\n",
        "evid None, loc 175.75 W 22.17 S, depth 258.1km, time 1238890085.9, mb 4.7, natural source\n",
        "n_uatemplate: -486.1"
       ]
      },
      {
       "output_type": "stream",
       "stream": "stdout",
       "text": [
        "\n",
        "n_event: -25.1\n",
        "ev priors: ev -57.4\n",
        "tt_residual: ev -192.0\n",
        "ev global cost (n + priors + tt): -274.5\n",
        "coda_decay: ev -103.2 ua -129.4 total -232.6\n",
        "peak_decay: ev -114.4 ua -114.4 total -228.8\n",
        "peak_offset: ev -83.3 ua -105.0 total -188.4\n",
        "coda_height: ev -106.4 ua -524.1 total -630.5\n",
        "wiggles: ev 0.0 ua 0.0 total 0.0\n",
        "total param: ev -407.3 ua -873.0 total -1280.3\n",
        "non signals: ev -681.8 ua -1359.0 total -2040.9\n",
        "signals: 128330.6\n",
        "overall: 126289.7\n",
        "official: 126289.7"
       ]
      },
      {
       "output_type": "stream",
       "stream": "stdout",
       "text": [
        "\n"
       ]
      }
     ],
     "prompt_number": 2
    },
    {
     "cell_type": "code",
     "collapsed": false,
     "input": [
      "for n in sg.all_nodes.values():\n",
      "    if \"arrival_time\" in n.label:\n",
      "        n.set_value(n.get_value())\n",
      "    if \"coda_height\" in n.label:\n",
      "        n.set_value(n.get_value())\n",
      "        \n",
      "sg.tg['UA'] = load_template_generator(sg.template_shape)\n",
      "\n",
      "ua_height_nodes = [n for n in sg.all_nodes.values() if \"coda_height\" in n.label and not n.deterministic()]\n",
      "for n in ua_height_nodes:\n",
      "    n.model = sg.tg[\"UA\"].unassociated_model(\"coda_height\")\n",
      "\n",
      "\n",
      "\n"
     ],
     "language": "python",
     "metadata": {},
     "outputs": [],
     "prompt_number": 3
    },
    {
     "cell_type": "code",
     "collapsed": false,
     "input": [
      "\"\"\"\n",
      "if len(sg.evnodes) == 3:\n",
      "    log_qforward, log_qbackward, revert_move = ev_death_helper(sg, 1, associate_using_mb=False)\n",
      "    \n",
      "seed = 10\n",
      "np.random.seed(seed)\n",
      "try:\n",
      "    ev, lp = overpropose_new_locations(sg, n_locations=40, n_eval_pairs=5, n_refine=5, min_uatemplates=1)\n",
      "    print seed, \"proposed\", ev, lp\n",
      "except Exception as e:\n",
      "    import sys, traceback, pdb\n",
      "    print e\n",
      "    type, value, tb = sys.exc_info()\n",
      "    traceback.print_exc()\n",
      "    pdb.post_mortem(tb)\n",
      "\"\"\""
     ],
     "language": "python",
     "metadata": {},
     "outputs": [
      {
       "metadata": {},
       "output_type": "pyout",
       "prompt_number": 4,
       "text": [
        "'\\nif len(sg.evnodes) == 3:\\n    log_qforward, log_qbackward, revert_move = ev_death_helper(sg, 1, associate_using_mb=False)\\n    \\nseed = 10\\nnp.random.seed(seed)\\ntry:\\n    ev, lp = overpropose_new_locations(sg, n_locations=40, n_eval_pairs=5, n_refine=5, min_uatemplates=1)\\n    print seed, \"proposed\", ev, lp\\nexcept Exception as e:\\n    import sys, traceback, pdb\\n    print e\\n    type, value, tb = sys.exc_info()\\n    traceback.print_exc()\\n    pdb.post_mortem(tb)\\n'"
       ]
      }
     ],
     "prompt_number": 4
    },
    {
     "cell_type": "code",
     "collapsed": false,
     "input": [
      "print true_evs[2]\n",
      "def propose_true_location(sg, fix_result=None, **kwargs):\n",
      "    if fix_result is not None:\n",
      "        return 0.0\n",
      "    else:\n",
      "        return true_evs[2], 0.0\n",
      "\n",
      "current_ev = sg.get_event(1)\n",
      "print current_ev\n",
      "def propose_current_location(sg, fix_result=None, **kwargs):\n",
      "    if fix_result is not None:\n",
      "        return 0.0\n",
      "    else:\n",
      "        return current_ev, 0.0\n"
     ],
     "language": "python",
     "metadata": {},
     "outputs": [
      {
       "output_type": "stream",
       "stream": "stdout",
       "text": [
        "evid None, loc 175.75 W 22.17 S, depth 258.1km, time 1238890085.9, mb 4.7, natural source\n",
        "evid None, loc 54.02 E 1.19 N, depth 126.1km, time 1238889946.3, mb 3.3, natural source\n"
       ]
      }
     ],
     "prompt_number": 27
    },
    {
     "cell_type": "code",
     "collapsed": false,
     "input": [
      "for wn in [wn for wns in sg.station_waves.values() for wn in wns]:\n",
      "    print wn.label, wn.log_p()\n",
      "    \n",
      "wn = sg.all_nodes[\"wave_AAK_BHZ_freq_2.0_3.0_1238889600.0\"]\n",
      "\n",
      "ax = do_plot(wn)\n",
      "ax.set_title(\"%s %f\" % (wn.label, wn.log_p()))\n",
      "\n",
      "pred_s = wn.assem_signal()\n",
      "noise = wn.get_value() - pred_s\n",
      "figure()\n",
      "plot(noise)\n",
      "\n",
      "#figure()\n",
      "#r = wn.nm.residuals(noise)\n",
      "#plot(r)"
     ],
     "language": "python",
     "metadata": {},
     "outputs": [
      {
       "output_type": "stream",
       "stream": "stdout",
       "text": [
        "wave_CM16_SHZ_freq_2.0_3.0_1238889600.0 590.791452037\n",
        "wave_JHJ_BHZ_freq_2.0_3.0_1238889600.0 -3711.67802931\n",
        "wave_AAK_BHZ_freq_2.0_3.0_1238889600.0 5697.90953786\n",
        "wave_MK31_BHZ_freq_2.0_3.0_1238889600.0 7326.95330523\n",
        "wave_QSPA_BHZ_freq_2.0_3.0_1238889600.0 5177.22269451\n",
        "wave_STKA_BHZ_freq_2.0_3.0_1238889600.0 7440.60539688\n",
        "wave_VNDA_BHZ_freq_2.0_3.0_1238889600.0 6571.03797791\n",
        "wave_BVA0_BHZ_freq_2.0_3.0_1238889600.0 4054.79332224\n",
        "wave_KBZ_BHZ_freq_2.0_3.0_1238889600.0 6910.65990287\n",
        "wave_AS12_SHZ_freq_2.0_3.0_1238889600.0 7373.72215488\n",
        "wave_WR1_BHZ_freq_2.0_3.0_1238889600.0 6864.87149106\n",
        "wave_JKA_BHZ_freq_2.0_3.0_1238889600.0 6178.92117431\n",
        "wave_FIA0_SHZ_freq_2.0_3.0_1238889600.0 10231.4368422\n",
        "wave_YKR8_SHZ_freq_2.0_3.0_1238889600.0 11221.5351687\n",
        "wave_FITZ_BHZ_freq_2.0_3.0_1238889600.0 7129.74843065\n",
        "wave_IL31_BHZ_freq_2.0_3.0_1238889600.0 4729.12905762\n",
        "wave_JNU_BHZ_freq_2.0_3.0_1238889600.0 5245.62880947\n",
        "wave_NWAO_BHZ_freq_2.0_3.0_1238889600.0 5259.55787793\n",
        "wave_PEA0_SHZ_freq_2.0_3.0_1238889600.0 3797.07140911\n",
        "wave_SNAA_BHZ_freq_2.0_3.0_1238889600.0 9506.86499964\n",
        "wave_USA0_SHZ_freq_2.0_3.0_1238889600.0 6418.70579405\n",
        "wave_NB200_SHZ_freq_2.0_3.0_1238889600.0 4315.09128831\n",
        "plotting uatemplate"
       ]
      },
      {
       "output_type": "stream",
       "stream": "stdout",
       "text": [
        " -60 as color (0.0, 0.64509803921568631, 1.0, 1.0)\n",
        "plotting uatemplate -84 as color (0.0, 0.2372549019607843, 1.0, 1.0)\n",
        "plotting uatemplate -70 as color (0.0, 0.26862745098039204, 1.0, 1.0)\n",
        "plotting uatemplate -991 as color (0.22454142947501579, 1.0, 0.74320050600885512, 1.0)\n",
        "plotting uatemplate -1482 as color (0.0, 0.707843137254902, 1.0, 1.0)\n",
        "plotting uatemplate -923 as color (0.33839342188488292, 1.0, 0.62934851359898802, 1.0)\n",
        "plotting uatemplate -1620 as color (0.4142947501581275, 1.0, 0.55344718532574344, 1.0)\n",
        "plotting uatemplate -96 as color (0.0, 0.0, 0.553475935828877, 1.0)\n",
        "reading station detections... \n"
       ]
      },
      {
       "metadata": {},
       "output_type": "pyout",
       "prompt_number": 28,
       "text": [
        "[<matplotlib.lines.Line2D at 0x5fc2bd0>]"
       ]
      },
      {
       "metadata": {},
       "output_type": "display_data",
       "png": "[encoded data removed]",
       "text": [
        "<matplotlib.figure.Figure at 0x52dd290>"
       ]
      },
      {
       "metadata": {},
       "output_type": "display_data",
       "png": "[encoded data removed]",
       "text": [
        "<matplotlib.figure.Figure at 0x7a0ce90>"
       ]
      }
     ],
     "prompt_number": 28
    },
    {
     "cell_type": "code",
     "collapsed": false,
     "input": [
      "seed=5\n",
      "np.random.seed(seed)\n",
      "print sg.current_log_p_breakdown()\n",
      "try:\n",
      "    lp_new, lp_old, log_qforward, log_qbackward, revert_move = rebirth_events_helper(sg, (1,), \n",
      "        location_proposal=propose_true_location)\n",
      "    print lp_new, lp_old, log_qforward, log_qbackward\n",
      "    print lp_new + log_qbackward - (lp_old + log_qforward)\n",
      "    if lp_new + log_qbackward - (lp_old + log_qforward) > 0:\n",
      "        raise ValueError (\"accepted!\")\n",
      "    sg.current_log_p_breakdown()\n",
      "    \n",
      "    \n",
      "    ax = do_plot(wn)\n",
      "    ax.set_title(\"%s %f\" % (wn.label, wn.log_p()))\n",
      "    pred_s = wn.assem_signal()\n",
      "    noise = wn.get_value() - pred_s\n",
      "    figure()\n",
      "    plot(noise)\n",
      "    revert_move()\n",
      "except Exception as e:\n",
      "    import sys, traceback, pdb\n",
      "    print e\n",
      "    type, value, tb = sys.exc_info()\n",
      "    traceback.print_exc()\n",
      "    pdb.post_mortem(tb)\n",
      "\"\"\"\n",
      "print sg.current_log_p_breakdown()\n",
      "try:\n",
      "    lp_new, lp_old, log_qforward, log_qbackward, revert_move = rebirth_events_helper(sg, (1,), location_proposal=hough_location_proposal)\n",
      "    print lp_new, lp_old, log_qforward, log_qbackward\n",
      "    print lp_new + log_qbackward - (lp_old + log_qforward)\n",
      "    sg.current_log_p_breakdown()\n",
      "    revert_move()\n",
      "except Exception as e:\n",
      "    import sys, traceback, pdb\n",
      "    print e\n",
      "    type, value, tb = sys.exc_info()\n",
      "    traceback.print_exc()\n",
      "    pdb.post_mortem(tb)\n",
      "    \"\"\""
     ],
     "language": "python",
     "metadata": {},
     "outputs": [
      {
       "ename": "NameError",
       "evalue": "name 'sg' is not defined",
       "output_type": "pyerr",
       "traceback": [
        "\u001b[1;31m---------------------------------------------------------------------------\u001b[0m\n\u001b[1;31mNameError\u001b[0m                                 Traceback (most recent call last)",
        "\u001b[1;32m<ipython-input-1-967c95ddc1c3>\u001b[0m in \u001b[0;36m<module>\u001b[1;34m()\u001b[0m\n\u001b[0;32m      1\u001b[0m \u001b[0mseed\u001b[0m\u001b[1;33m=\u001b[0m\u001b[1;36m5\u001b[0m\u001b[1;33m\u001b[0m\u001b[0m\n\u001b[0;32m      2\u001b[0m \u001b[0mnp\u001b[0m\u001b[1;33m.\u001b[0m\u001b[0mrandom\u001b[0m\u001b[1;33m.\u001b[0m\u001b[0mseed\u001b[0m\u001b[1;33m(\u001b[0m\u001b[0mseed\u001b[0m\u001b[1;33m)\u001b[0m\u001b[1;33m\u001b[0m\u001b[0m\n\u001b[1;32m----> 3\u001b[1;33m \u001b[1;32mprint\u001b[0m \u001b[0msg\u001b[0m\u001b[1;33m.\u001b[0m\u001b[0mcurrent_log_p_breakdown\u001b[0m\u001b[1;33m(\u001b[0m\u001b[1;33m)\u001b[0m\u001b[1;33m\u001b[0m\u001b[0m\n\u001b[0m\u001b[0;32m      4\u001b[0m \u001b[1;32mtry\u001b[0m\u001b[1;33m:\u001b[0m\u001b[1;33m\u001b[0m\u001b[0m\n\u001b[0;32m      5\u001b[0m     lp_new, lp_old, log_qforward, log_qbackward, revert_move = rebirth_events_helper(sg, (1,), \n",
        "\u001b[1;31mNameError\u001b[0m: name 'sg' is not defined"
       ]
      }
     ],
     "prompt_number": 1
    },
    {
     "cell_type": "code",
     "collapsed": false,
     "input": [
      "from sigvisa.models.noise.armodel.model import ARModel\n",
      "\n",
      "m = ARModel(wn.nm.params, wn.nm.em, wn.nm.c, wn.nm.sf)\n",
      "print m\n",
      "r = m.residuals(noise, m.c, m.em.std)\n",
      "plot(r)\n",
      "figure()\n",
      "plot(r*r)"
     ],
     "language": "python",
     "metadata": {},
     "outputs": [
      {
       "output_type": "stream",
       "stream": "stdout",
       "text": [
        "<sigvisa.models.noise.armodel.model.ARModel object at 0x653b490>\n"
       ]
      },
      {
       "metadata": {},
       "output_type": "pyout",
       "prompt_number": 20,
       "text": [
        "[<matplotlib.lines.Line2D at 0x7fdc7d0>]"
       ]
      },
      {
       "metadata": {},
       "output_type": "display_data",
       "png": "[encoded data removed]",
       "text": [
        "<matplotlib.figure.Figure at 0x71546d0>"
       ]
      },
      {
       "metadata": {},
       "output_type": "display_data",
       "png": "[encoded data removed]",
       "text": [
        "<matplotlib.figure.Figure at 0x653bad0>"
       ]
      }
     ],
     "prompt_number": 20
    },
    {
     "cell_type": "code",
     "collapsed": false,
     "input": [
      "for wns in sg.station_waves.values():\n",
      "    for wn in wns:\n",
      "        if 'AAK' not in wn.label: continue\n",
      "\n",
      "        ax = do_plot(wn)\n",
      "        ax.set_title(\"%s %f\" % (wn.label, wn.log_p()))"
     ],
     "language": "python",
     "metadata": {},
     "outputs": [
      {
       "output_type": "stream",
       "stream": "stdout",
       "text": [
        "plotting uatemplate -60 as color (0.0, 0.0, 0.89215686274509798, 1.0)\n",
        "plotting uatemplate -84 as color (0.26249209361163817, 1.0, 0.70524984187223283, 1.0)\n",
        "plotting uatemplate -70 as color (0.26249209361163817, 1.0, 0.70524984187223283, 1.0)\n",
        "plotting uatemplate -991 as color (0.0, 0.61372549019607847, 1.0, 1.0)\n",
        "plotting uatemplate -1482 as color (0.0, 0.29999999999999999, 1.0, 1.0)\n",
        "plotting uatemplate -923 as color (0.098039215686274495, 1.0, 0.8697027197975965, 1.0)\n",
        "plotting uatemplate -1620 as color (0.46489563567362424, 1.0, 0.50284629981024676, 1.0)\n",
        "plotting uatemplate -96 as color (0.0, 0.0, 0.5, 1.0)\n",
        "reading station detections... \n"
       ]
      },
      {
       "metadata": {},
       "output_type": "display_data",
       "png": "[encoded data removed]",
       "text": [
        "<matplotlib.figure.Figure at 0x4ffde10>"
       ]
      }
     ],
     "prompt_number": 12
    },
    {
     "cell_type": "code",
     "collapsed": false,
     "input": [
      "np.random.seed(seed)\n",
      "print sg.current_log_p_breakdown()\n",
      "try:\n",
      "    lp_new, lp_old, log_qforward, log_qbackward, revert_move = rebirth_events_helper(sg, (1,), \n",
      "        location_proposal=propose_current_location)\n",
      "    print lp_new, lp_old, log_qforward, log_qbackward\n",
      "    print lp_new + log_qbackward - (lp_old + log_qforward)\n",
      "    if lp_new + log_qbackward - (lp_old + log_qforward) > 0:\n",
      "        raise ValueError (\"accepted!\")\n",
      "    sg.current_log_p_breakdown()\n",
      "    revert_move()\n",
      "except Exception as e:\n",
      "    import sys, traceback, pdb\n",
      "    print e\n",
      "    type, value, tb = sys.exc_info()\n",
      "    traceback.print_exc()\n",
      "    pdb.post_mortem(tb)\n",
      "\"\"\"\n",
      "print sg.current_log_p_breakdown()\n",
      "try:\n",
      "    lp_new, lp_old, log_qforward, log_qbackward, revert_move = rebirth_events_helper(sg, (1,), location_proposal=hough_location_proposal)\n",
      "    print lp_new, lp_old, log_qforward, log_qbackward\n",
      "    print lp_new + log_qbackward - (lp_old + log_qforward)\n",
      "    sg.current_log_p_breakdown()\n",
      "    revert_move()\n",
      "except Exception as e:\n",
      "    import sys, traceback, pdb\n",
      "    print e\n",
      "    type, value, tb = sys.exc_info()\n",
      "    traceback.print_exc()\n",
      "    pdb.post_mortem(tb)\n",
      "    \"\"\""
     ],
     "language": "python",
     "metadata": {},
     "outputs": [],
     "prompt_number": 19
    },
    {
     "cell_type": "code",
     "collapsed": false,
     "input": [
      "sg.current_log_p_breakdown()\n",
      "lp_old = sg.current_log_p()\n",
      "lqf, lqb, r = ev_death_helper_full(sg, 1, location_proposal=propose_current_location)\n",
      "lp_new = sg.current_log_p()\n",
      "sg.current_log_p_breakdown()\n",
      "r()\n",
      "print lp_old, lp_new, lqf, lqb\n",
      "print lp_new + lqb - (lp_old + lqf)"
     ],
     "language": "python",
     "metadata": {},
     "outputs": [
      {
       "output_type": "stream",
       "stream": "stdout",
       "text": [
        "n_uatemplate: -486.1\n",
        "n_event: -25.1\n",
        "ev priors: ev -57.4\n",
        "tt_residual: ev -192.0\n",
        "ev global cost (n + priors + tt): -274.5\n",
        "coda_decay: ev -103.2 ua -129.4 total -232.6\n",
        "peak_decay: ev -114.4 ua -114.4 total -228.8\n",
        "peak_offset: ev -83.3 ua -105.0 total -188.4\n",
        "coda_height: ev -106.4 ua -155.4 total -261.7\n",
        "wiggles: ev 0.0 ua 0.0 total 0.0\n",
        "total param: ev -407.3 ua -504.2 total -911.5\n",
        "non signals: ev -681.8 ua -990.3 total -1672.1\n",
        "signals: 128330.6\n",
        "overall: 126658.5\n",
        "official: 126658.5"
       ]
      },
      {
       "output_type": "stream",
       "stream": "stdout",
       "text": [
        "\n",
        "reverse dist"
       ]
      },
      {
       "output_type": "stream",
       "stream": "stdout",
       "text": [
        " 3.44284932954 0.0128876507018 old mb 3.34027092709 lp 0.848571333595\n",
        "proposing to delete at AS12 (lp -0.002470, reverse -8.513004)\n",
        "proposing to delete at JHJ (lp -0.002470, reverse -11.492783)\n",
        "proposing to delete at USA0 (lp -0.002470, reverse -8.186867)\n",
        "proposing to deassociate at AAK (lp -0.0)\n",
        "proposing to deassociate at QSPA (lp -0.0)\n",
        "proposing to deassociate at MK31 (lp -0.0)\n",
        "proposing to delete at FIA0 (lp -0.002470, reverse -16.501210)\n",
        "proposing to delete at STKA (lp -0.002470, reverse -9.853400)\n",
        "proposing to delete at VNDA (lp -0.002470, reverse -8.596473)\n",
        "proposing to delete at PEA0 (lp -0.002470, reverse -9.688831)\n",
        "proposing to delete at KBZ (lp -0.002470, reverse -8.025598)\n",
        "proposing to delete at CM16 (lp -0.002470, reverse -12.670805)"
       ]
      },
      {
       "output_type": "stream",
       "stream": "stdout",
       "text": [
        "\n",
        "proposing to delete at JKA (lp -0.002470, reverse -10.803111)\n",
        "proposing to delete at YKR8 (lp -0.002470, reverse -7.926281)\n",
        "proposing to delete at BVA0 (lp -0.002470, reverse -10.791388)\n",
        "proposing to delete at WR1 (lp -0.002470, reverse -9.121213)\n",
        "proposing to deassociate at FITZ (lp -0.0)\n",
        "proposing to delete at IL31 (lp -0.002470, reverse -8.746146)\n",
        "proposing to delete at JNU (lp -0.002470, reverse -8.313510)\n",
        "proposing to delete at SNAA (lp -0.002470, reverse -9.769914)\n",
        "proposing to delete at NB200 (lp -0.002470, reverse -10.592292)\n",
        "proposing to delete at NWAO (lp -0.002470, reverse -9.259053)\n",
        "reverse deletion AS12 1 P lp -0.000067"
       ]
      },
      {
       "output_type": "stream",
       "stream": "stdout",
       "text": [
        "\n",
        "reverse deletion JHJ 1 P lp -0.143111\n",
        "reverse deletion USA0 1 P lp -0.000050\n",
        "reverse deassociation AAK 1 P lp -0.000785\n",
        "reverse deassociation QSPA 1 P lp -0.008257\n",
        "reverse deassociation MK31 1 P lp -0.207807\n",
        "reverse deletion FIA0 1 P lp -0.000067\n",
        "reverse deletion STKA 1 P lp -0.000080\n",
        "reverse deletion VNDA 1 P lp -0.000127\n",
        "reverse deletion PEA0 1 P lp -0.000067\n",
        "reverse deletion KBZ 1 P lp 0.000000\n",
        "reverse deletion CM16 1 P lp -0.000075\n",
        "reverse deletion JKA 1 P lp -0.000081"
       ]
      },
      {
       "output_type": "stream",
       "stream": "stdout",
       "text": [
        "\n",
        "reverse deletion YKR8 1 P lp -0.000075\n",
        "reverse deletion BVA0 1 P lp -0.000067\n",
        "reverse deletion WR1 1 P lp -0.000083\n",
        "reverse deassociation FITZ 1 P lp -0.000172\n",
        "reverse deletion IL31 1 P lp -0.207718\n",
        "reverse deletion JNU 1 P lp -0.000080\n",
        "reverse deletion SNAA 1 P lp -0.000075\n",
        "reverse deletion NB200 1 P lp -0.000067\n",
        "reverse deletion NWAO 1 P lp -0.000080\n",
        "n_uatemplate: -513.7"
       ]
      },
      {
       "output_type": "stream",
       "stream": "stdout",
       "text": [
        "\n",
        "n_event: -18.4\n",
        "ev priors: ev -35.1\n",
        "tt_residual: ev -134.3\n",
        "ev global cost (n + priors + tt): -187.8\n",
        "coda_decay: ev -64.8 ua -137.8 total -202.6\n",
        "peak_decay: ev -71.6 ua -124.4 total -195.9\n",
        "peak_offset: ev -48.8 ua -115.8 total -164.6\n",
        "coda_height: ev -60.3 ua -163.8 total -224.0\n",
        "wiggles: ev 0.0 ua 0.0 total 0.0\n",
        "total param: ev -245.4 ua -541.8 total -787.2\n",
        "non signals: ev -433.2 ua -1055.5 total -1488.7\n",
        "signals: 128324.8\n",
        "overall: 126836.1\n",
        "official: 126836.1\n",
        "126658.499314"
       ]
      },
      {
       "output_type": "stream",
       "stream": "stdout",
       "text": [
        " 126836.070002 -0.0543305818514 -178.572295933\n",
        "-0.94727794583\n"
       ]
      }
     ],
     "prompt_number": 14
    },
    {
     "cell_type": "code",
     "collapsed": false,
     "input": [],
     "language": "python",
     "metadata": {},
     "outputs": [],
     "prompt_number": 18
    },
    {
     "cell_type": "code",
     "collapsed": false,
     "input": [],
     "language": "python",
     "metadata": {},
     "outputs": [],
     "prompt_number": 18
    },
    {
     "cell_type": "code",
     "collapsed": false,
     "input": [
      "sg.current_log_p_breakdown()\n",
      "\n",
      "#revert_move()"
     ],
     "language": "python",
     "metadata": {},
     "outputs": [
      {
       "output_type": "stream",
       "stream": "stdout",
       "text": [
        "n_uatemplate: -50.9\n",
        "n_event: -25.1\n",
        "ev priors: ev -61.0\n",
        "tt_residual: ev -954.6\n",
        "ev global cost (n + priors + tt): -1040.7\n",
        "coda_decay: ev -110.0 ua -1.9 total -111.9\n",
        "peak_decay: ev -106.3 ua -2.1 total -108.4\n",
        "peak_offset: ev -100.9 ua -1.4 total -102.3\n",
        "coda_height: ev -93.9 ua -16.9 total -110.8\n",
        "wiggles: ev 0.0 ua 0.0 total 0.0\n",
        "total param: ev -411.1 ua -22.2 total -433.3\n",
        "non signals: ev -1451.8 ua -73.2 total -1525.0\n",
        "signals: 128733.9\n",
        "overall: 127208.9\n",
        "official: 127208.9\n"
       ]
      }
     ],
     "prompt_number": 9
    },
    {
     "cell_type": "code",
     "collapsed": false,
     "input": [],
     "language": "python",
     "metadata": {},
     "outputs": []
    }
   ],
   "metadata": {}
  }
 ]
}