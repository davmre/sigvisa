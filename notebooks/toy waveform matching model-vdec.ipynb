{
 "metadata": {
  "name": ""
 },
 "nbformat": 3,
 "nbformat_minor": 0,
 "worksheets": [
  {
   "cells": [
    {
     "cell_type": "code",
     "collapsed": false,
     "input": [
      "from sigvisa import Sigvisa\n",
      "from sigvisa.models.ttime import tt_predict\n",
      "from sigvisa.utils.fileutils import mkdir_p\n",
      "from sigvisa.treegp.gp import GPCov, GP, prior_sample\n",
      "from sigvisa.plotting.event_heatmap import EventHeatmap\n",
      "from sigvisa.source.event import Event\n",
      "from sigvisa.utils.geog import dist_km\n",
      "from sigvisa.signals.io import fetch_waveform, MissingWaveform\n",
      "import os\n",
      "\n",
      "\n",
      "stas = ['AAK', 'AKTO', 'BVAR', 'KURK', 'MKAR', 'SONM', 'ZALV']\n",
      "basedir = \"vdec_signals\"\n",
      "\n",
      "ev_bounds = dict()\n",
      "ev_bounds['top'] = 50\n",
      "ev_bounds['bottom'] = 35\n",
      "ev_bounds['left'] = 60\n",
      "ev_bounds['right'] =100\n",
      "\n",
      "def load_vdec_signals(sta):\n",
      "    s = np.load(os.path.join(basedir, \"signals_Pn_%s.npy\" % sta))\n",
      "    evs = s[:, :7]\n",
      "    signals = s[:,7:]\n",
      "\n",
      "    evids = np.copy(evs[:,0])\n",
      "    evs[:, :4] = evs[:, 1:5]\n",
      "    evs[:,4] = evids\n",
      "    \n",
      "    return evs, signals\n",
      "\n",
      "def fourier_features(S):\n",
      "    features = np.zeros((S.shape[0], 13))\n",
      "\n",
      "    if S.shape[1] == 1200: \n",
      "        for (i, s) in enumerate(S):\n",
      "            ps = np.abs(np.fft.fft(s))**2\n",
      "            f = ps[50:180:10]\n",
      "            features[i,:] = f / np.linalg.norm(f, 2)\n",
      "    elif S.shape[1] == 2400:\n",
      "        for (i, s) in enumerate(S):\n",
      "            ps = np.abs(np.fft.fft(s))**2\n",
      "            f = ps[100:360:20]\n",
      "            features[i,:] = f / np.linalg.norm(f, 2)\n",
      "    return features\n",
      "\n",
      "\n",
      "\n",
      "\n",
      "def load_station_data(evids, sta):\n",
      "    devids = pd.DataFrame([int(x) for x in evids], columns=['evid',])\n",
      "    s = np.load(os.path.join(basedir, \"signals_Pn_%s.npy\" % sta))\n",
      "    if s.shape[1] == 2407:\n",
      "        ss = np.zeros((s.shape[0], 1207))\n",
      "        ss[:,0:7] = s[:,0:7]\n",
      "        ss[:,7:] = s[:,7::2]\n",
      "        s = ss\n",
      "    p = pd.DataFrame(s, columns=[\"evid\", \"lon\", \"lat\", \"depth\", \"time\", \"mb\", \"atime\"] + ['%04d' % i for i in range(1200)])\n",
      "    p['evid'] = p['evid'].astype(int)\n",
      "    dd = pd.merge(p, devids, how='right', on='evid')\n",
      "\n",
      "    return dd\n",
      "    \n",
      "def load_evids(stas):\n",
      "    evids_once = set()\n",
      "    evids_twice = set()\n",
      "    for sta in stas:\n",
      "        evs, signals = load_vdec_signals(sta)\n",
      "        my_evids = set([int(evid) for evid in evs[:, 4]])\n",
      "        already_seen = evids_once.intersection(my_evids)\n",
      "        evids_twice.update(already_seen)\n",
      "        evids_once.update(my_evids)\n",
      "        \n",
      "    print len(evids_once), len(evids_twice)\n",
      "    return evids_twice\n",
      "\n",
      "def load_true_data_sta(sta):\n",
      "    X_events, signals = load_vdec_signals(sta)\n",
      "    \n",
      "    y = dict()\n",
      "    evs = [Event(lon=x[0], lat=x[1], depth=x[2], time=x[3], mb=4.0) for x in X_events]\n",
      "    pred_atimes = np.array([ ev.time + tt_predict(ev, sta, 'Pn') for ev in evs])\n",
      "    atimes = np.array([ x[6] for x in X_events])\n",
      "        \n",
      "    y['tt_residual'] = pred_atimes - atimes\n",
      "    \n",
      "    #print 'got tt residuals', y['tt_residual']\n",
      "    \n",
      "    features = fourier_features(signals)\n",
      "    \n",
      "    wnames = ['f%03d' % i for i in range(features.shape[1])]\n",
      "    for (i, name) in enumerate(wnames):\n",
      "        y[name] = features[:, i]\n",
      "    \n",
      "    return y\n",
      "\n",
      "def load_true_data(stas):\n",
      "    \n",
      "    \n",
      "    ys = dict()\n",
      "    for sta in stas:\n",
      "        print \"loading data from\", sta\n",
      "        ys[sta] = load_true_data_sta(sta)\n",
      "\n",
      "        \n",
      "    return ys\n",
      "    \n",
      "def plot_heat(ax, stas, ev_true, y, all_gps, n=20, logscale=True):\n",
      "    ev_tmp = Event(lon=ev_true.lon, lat=ev_true.lat, depth=ev_true.depth, mb=ev_true.mb, time=ev_true.time)\n",
      "    def f(lon, lat):\n",
      "        ev_tmp.lon=lon\n",
      "        ev_tmp.lat = lat\n",
      "        if logscale:\n",
      "            return joint_log_likelihood(ev_tmp, y, all_gps)\n",
      "        else:\n",
      "            return np.exp(joint_log_likelihood(ev_tmp, y, all_gps))\n",
      "        \n",
      "    hm = EventHeatmap(f=f, calc=True, n=n, top_lat=ev_bounds['top'], bottom_lat=ev_bounds['bottom'], left_lon=ev_bounds['left'], right_lon=ev_bounds['right'])\n",
      "    hm.add_stations(stas)\n",
      "    #hm.init_bmap(axes=ax, nofillcontinents=True)\n",
      "    #hm.plot_earth()\n",
      "    #hm.plot_density(smooth=True)\n",
      "    hm.set_true_event(ev_true.lon, ev_true.lat)\n",
      "    hm.plot(axes=ax, smooth=True)\n",
      "    \n",
      "def plot_param_values(ax, stas, X_events, y):\n",
      "    hm = EventHeatmap(f=None, calc=False, top_lat=ev_bounds['top'], bottom_lat=ev_bounds['bottom'], left_lon=ev_bounds['left'], right_lon=ev_bounds['right'])\n",
      "    hm.add_stations(stas)\n",
      "    hm.add_events(X_events, yvals=y)\n",
      "    hm.plot(axes=ax, event_alpha=0.8, colorbar=True, offmap_station_arrows=False, label_stations=True)\n",
      "   \n",
      "def plot_traintest(ax, stas, X_train, X_test):\n",
      "    hm = EventHeatmap(f=None, calc=False, top_lat=ev_bounds['top'], bottom_lat=ev_bounds['bottom'], left_lon=ev_bounds['left'], right_lon=ev_bounds['right'])\n",
      "    hm.add_stations(stas)\n",
      "    hm.init_bmap(axes=ax, nofillcontinents=True)\n",
      "    hm.plot_earth()\n",
      "    hm.plot_locations([(x[0], x[1]) for x in X_train], marker='.', ms=6, mec=\"none\", mew=0, alpha=0.1)\n",
      "    hm.plot_locations([(x[0], x[1]) for x in X_test], marker='.', ms=12, mec=\"none\", mew=0, alpha=1.0, c='red')\n",
      "    \n",
      "def plot_posterior(ax, stas, ev_true, samples, width_deg=None):\n",
      "\n",
      "    if width_deg is None:\n",
      "        width_deg = np.max(np.max(samples[:,:2], axis=0) - np.min(samples[:,:2], axis=0))\n",
      "        print \"inferring plot width of \", width_deg, \"degrees\"\n",
      "    \n",
      "    hm = EventHeatmap(f=None, calc=False, center=(ev_true.lon, ev_true.lat), width_deg=width_deg, height_deg=width_deg)\n",
      "\n",
      "    hm.add_stations(stas)\n",
      "    hm.add_events(samples)\n",
      "    hm.set_true_event(ev_true.lon, ev_true.lat)\n",
      "    hm.plot(axes=ax, event_alpha=1.0 / np.log(samples.shape[0] + 10), offmap_station_arrows=False, label_stations=True)\n",
      " \n",
      "    print \"true ev:\", ev_true\n",
      "    means = np.mean(samples, axis=0)\n",
      "    print \"mean lon %.2f, lat %.2f, time %.2f\" % (means[0], means[1], means[2])\n",
      "    stds = np.std(samples, axis=0)\n",
      "    print \"stds: lon %.2f, lat %.2f, time %.2f\" % (stds[0], stds[1], stds[2])\n",
      "\n",
      "    spatial_err = dist_km((means[0], means[1]), (ev_true.lon, ev_true.lat))\n",
      "    time_err = np.abs(means[2] - ev_true.time)\n",
      "    print \"mean: spatial err %.4fkm time err %.4fs\" % (spatial_err, time_err,)\n",
      "\n",
      "\n",
      "def train_GPs_sta(sta, X_events, y, atime_cov, atime_noise_var, wiggle_cov, wiggle_noise_var):\n",
      "    gps = dict()\n",
      "    \n",
      "    nans = np.isnan(y['tt_residual'])\n",
      "    ytt = y['tt_residual'][~nans]\n",
      "    Xtt = X_events[~nans,:]\n",
      "    gps['tt_residual'] = GP(X=Xtt, y=ytt, cov_main = atime_cov, noise_var=atime_noise_var)\n",
      "    for (k, yy) in y.items():\n",
      "        if k == 'tt_residual': continue\n",
      "        nans = np.isnan(y[k])\n",
      "        yyy = yy[~nans]\n",
      "        XX = X_events[~nans,:]\n",
      "        gps[k] = GP(X=XX, y=yyy, cov_main = wiggle_cov, noise_var=wiggle_noise_var)\n",
      "    return gps\n",
      "\n",
      "def train_all_gps(X_events, ys):\n",
      "    atime_cov = GPCov(dfn_str=\"lld\", wfn_str=\"compact2\", dfn_params=[200.0, 100.0], wfn_params=[4.0,])\n",
      "    wiggle_cov = GPCov(dfn_str=\"lld\", wfn_str=\"compact2\", dfn_params=[30.0, 100.0], wfn_params=[4.0,])\n",
      "    atime_noise_var = 9.0\n",
      "    wiggle_noise_var = 9.0\n",
      "    \n",
      "    all_gps = dict()\n",
      "    for (sta,y) in ys.items():\n",
      "        all_gps[sta] = train_GPs_sta(sta, X_events, y, atime_cov, atime_noise_var, wiggle_cov, wiggle_noise_var)\n",
      "    return all_gps\n",
      "\n",
      "def joint_log_likelihood(ev, y, all_gps):\n",
      "    ll = 0\n",
      "    X = np.array([[ev.lon, ev.lat, 0,],])\n",
      "    for (sta, param_gps) in all_gps.items():\n",
      "        pred_tt = tt_predict(ev, sta, 'P')\n",
      "        tt_residual = y[sta]['arrival_time'] - (ev.time + pred_tt)\n",
      "        ll += param_gps['tt_residual'].log_p(tt_residual, X)\n",
      "        for (k, gp) in param_gps.items():\n",
      "            if k == 'tt_residual': continue\n",
      "            ll += gp.log_p(y[sta][k], X, method=\"sparse\")\n",
      "    return ll\n",
      "\n",
      "def gen_test_ev(X):\n",
      "    return Event(lon=X[0], lat=X[1], depth=X[2], time=X[3], mb=4.0)\n",
      "    \n",
      "def sample_test_values(ev, all_gps):\n",
      "    y = dict()\n",
      "    X = np.array([[ev.lon, ev.lat, 0,],])\n",
      "    for (sta, param_gps) in all_gps.items():\n",
      "        y[sta] = dict()\n",
      "        pred_tt = tt_predict(ev, sta, 'P')\n",
      "        sampled_tt_residual = param_gps['tt_residual'].sample(X)\n",
      "        y[sta]['arrival_time'] = ev.time + pred_tt + sampled_tt_residual\n",
      "        for (k, gp) in param_gps.items():\n",
      "            y[sta][k] =  gp.sample(X)\n",
      "    return y\n",
      "\n",
      "def MH_move_space(ev, y, all_gps, old_ll, std_ll = 0.05):\n",
      "    orig_lon, orig_lat = ev.lon, ev.lat\n",
      "    ev.lon = orig_lon + np.random.randn() * std_ll\n",
      "    ev.lat = orig_lat + np.random.randn() * std_ll\n",
      "    new_ll = joint_log_likelihood(ev, y, all_gps)\n",
      "    \n",
      "    log_u = np.log(np.random.rand())\n",
      "    if new_ll - old_ll > log_u:\n",
      "        return True, new_ll\n",
      "    else:\n",
      "        ev.lon = orig_lon\n",
      "        ev.lat = orig_lat\n",
      "        return False, old_ll\n",
      "    \n",
      "def MH_move_time(ev, y, all_gps, old_ll, std_s = 1.0):\n",
      "    orig_time = ev.time\n",
      "    ev.time = orig_time + np.random.randn() * std_s\n",
      "    new_ll = joint_log_likelihood(ev, y, all_gps)\n",
      "    \n",
      "    log_u = np.log(np.random.rand())\n",
      "    \n",
      "    if new_ll - old_ll > log_u:\n",
      "        return True, new_ll\n",
      "    else:\n",
      "        ev.time = orig_time\n",
      "        return False, old_ll\n",
      "    \n",
      "def MH_move_joint(ev, y, all_gps, old_ll, std_ll = 0.05, std_s = 0.3):\n",
      "    orig_time = ev.time\n",
      "    orig_lon, orig_lat = ev.lon, ev.lat\n",
      "    ev.lon = orig_lon + np.random.randn() * std_ll\n",
      "    ev.lat = orig_lat + np.random.randn() * std_ll\n",
      "    ev.time = orig_time + np.random.randn() * std_s\n",
      "    new_ll = joint_log_likelihood(ev, y, all_gps)\n",
      "    \n",
      "    log_u = np.log(np.random.rand())\n",
      "    if new_ll - old_ll > log_u:\n",
      "        return True, new_ll\n",
      "    else:\n",
      "        ev.lon = orig_lon\n",
      "        ev.lat = orig_lat\n",
      "        ev.time = orig_time\n",
      "        return False, old_ll\n",
      "    \n",
      "def grid_search(y, all_gps, time_window_s=300, n_space=10, n_time = 20):\n",
      "    first_atime = np.min([yy['arrival_time'] for yy in y.values()])\n",
      "    print 'first atime', first_atime\n",
      "    \n",
      "    lons = np.linspace(ev_bounds['left'], ev_bounds['right'], n_space)\n",
      "    lats = np.linspace(ev_bounds['bottom'], ev_bounds['top'], n_space)\n",
      "    times = np.linspace(first_atime - time_window_s, first_atime, n_time)\n",
      "    \n",
      "    ev_tmp = Event(lon=0, lat=0, depth=0, time=0, mb=4.0)\n",
      "    best_ev = None\n",
      "    best_ll = -np.inf\n",
      "    for lon in lons:\n",
      "        for lat in lats:\n",
      "            #print \"gridsearching at %.1f, %.1f\" % (lon, lat)\n",
      "            for time in times:\n",
      "                ev_tmp.lon = lon\n",
      "                ev_tmp.lat = lat\n",
      "                ev_tmp.time = time\n",
      "                ll = joint_log_likelihood(ev_tmp, y, all_gps)\n",
      "                if ll > best_ll:\n",
      "                    print \"gridsearch: new best ll\", ll, \"at\", (lon, lat, time)\n",
      "                    best_ll = ll\n",
      "                    best_ev = (lon, lat, time)\n",
      "\n",
      "    return best_ev, best_ll\n",
      "\n",
      "def run_MH(y, all_gps, true_ev, burnin = 500, steps = 2000):\n",
      "    (lon0, lat0, time0), ll = grid_search(y, all_gps)\n",
      "    ev = Event(lon=lon0, lat=lat0, depth=0, time=time0, mb=4.0)\n",
      "    \n",
      "    print \"true ev\", true_ev\n",
      "    print \"intialized from grid search:\", ev\n",
      "    \n",
      "    n = burnin + steps\n",
      "    samples = np.zeros((steps, 3))\n",
      "    accepts_space = np.zeros((n,))\n",
      "    accepts_time = np.zeros((n,))\n",
      "    for i in range(n):\n",
      "        accepted, ll = MH_move_space(ev, y, all_gps, ll)\n",
      "        accepts_space[i] = int(accepted)\n",
      "\n",
      "        accepted, ll = MH_move_time(ev, y, all_gps, ll)\n",
      "        accepts_time[i] = int(accepted)\n",
      "        \n",
      "        if i >= burnin:\n",
      "            samples[i-burnin,:] = (ev.lon, ev.lat, ev.time)\n",
      "    \n",
      "        if i % 50 == 0:\n",
      "            spatial_err = dist_km((ev.lon, ev.lat), (true_ev.lon, true_ev.lat))\n",
      "            time_err = np.abs(ev.time - true_ev.time)\n",
      "            print \"step %d: lon %.1f lat %.1f time %.1f spatial err %.1fkm time err %.1fs acceptance rate space %f time %f\" % (i, ev.lon, ev.lat, ev.time, spatial_err, time_err, np.mean(accepts_space), np.mean(accepts_time))\n",
      "        \n",
      "    return ev, samples\n",
      "    \n",
      "def test_neighbors(X_train, X_test):\n",
      "    for x in X_test:\n",
      "        distances = np.array([dist_km((x[0], x[1]), (xx[0], xx[1])) for xx in X_train])\n",
      "        print x, ': neighbors within'\n",
      "        for threshold in (5, 15, 30, 100, 200, 1000):\n",
      "            print '%dkm: %f' % (threshold, np.sum(distances < threshold))\n",
      "            #print distances < threshold\n",
      "\n",
      "def test_wiggle_influence(n_wiggle_params):\n",
      "    X_events = select_events(train=True)\n",
      "\n",
      "    X_test = select_events(train=False)\n",
      "    ev = gen_test_ev(X_test[6,:])\n",
      "\n",
      "\n",
      "    for n in n_wiggle_params:\n",
      "        wparams = ['w%d' % i for i in range(n)]\n",
      "        ys = sample_synthetic_data(stas, wparams, X_events)\n",
      "        all_gps = train_all_gps(X_events, ys)\n",
      "        test_ys = sample_test_values(ev, all_gps)\n",
      "        \n",
      "        ev_mcmc, samples = run_MH(test_ys, all_gps, ev)\n",
      "        fig = plt.figure(figsize=(10, 10))\n",
      "        ax = fig.add_subplot(1,1,1)\n",
      "        plot_posterior(ax, stas, ev, samples[1:,:], width_deg=2.0)\n",
      "        plt.title(\"posterior with %d wiggle params\" % n)\n",
      "      \n",
      "def visualize_wiggle(y_sta, ev_i):\n",
      "    wavelet_keys = ['w%03d' % i for i in range(len(y_sta.keys())-1)]\n",
      "    coefs_flat = np.array([y_sta[k][ev_i] for k in wavelet_keys])\n",
      "    coefs_full = unflatten_wavelet_coefs(coefs_flat)\n",
      "    w = pywt.waverec(coefs_full, 'db8', mode='per')\n",
      "    return w\n"
     ],
     "language": "python",
     "metadata": {},
     "outputs": [],
     "prompt_number": 68
    },
    {
     "cell_type": "code",
     "collapsed": false,
     "input": [
      "evids = load_evids(['AAK', 'MKAR', 'ZALV'])"
     ],
     "language": "python",
     "metadata": {},
     "outputs": [
      {
       "output_type": "stream",
       "stream": "stdout",
       "text": [
        "1214 534\n"
       ]
      }
     ],
     "prompt_number": 69
    },
    {
     "cell_type": "code",
     "collapsed": false,
     "input": [
      "import pandas as pd\n",
      "\n"
     ],
     "language": "python",
     "metadata": {},
     "outputs": [],
     "prompt_number": 79
    },
    {
     "cell_type": "code",
     "collapsed": false,
     "input": [
      "e1 = set(devids['evid'])\n",
      "e2 = set(p['evid'])\n",
      "print len(e1.intersection(e2))"
     ],
     "language": "python",
     "metadata": {},
     "outputs": [
      {
       "output_type": "stream",
       "stream": "stdout",
       "text": [
        "511\n"
       ]
      }
     ],
     "prompt_number": 80
    },
    {
     "cell_type": "code",
     "collapsed": false,
     "input": [
      "ssss = np.zeros((600,))\n",
      "print [len(c) for c in pywt.wavedec(ssss, 'db8', 'per')]"
     ],
     "language": "python",
     "metadata": {},
     "outputs": [
      {
       "output_type": "stream",
       "stream": "stdout",
       "text": [
        "[19, 19, 38, 75, 150, 300]\n"
       ]
      }
     ],
     "prompt_number": 82
    },
    {
     "cell_type": "code",
     "collapsed": false,
     "input": [
      "print dd"
     ],
     "language": "python",
     "metadata": {},
     "outputs": [
      {
       "output_type": "stream",
       "stream": "stdout",
       "text": [
        "       evid        lon        lat      depth          time        mb  \\\n",
        "0   4172847  81.101293  36.082522   0.000000  1.177361e+09  4.001971   \n",
        "1   4173853  70.755669  36.403680   0.000000  1.177399e+09  4.113776   \n",
        "2   4253869  63.609440  40.464213  22.802174  1.182906e+09  4.028817   \n",
        "3   4255572  74.196317  36.333624   0.000000  1.183015e+09  4.131286   \n",
        "4   4252904  67.883632  35.685712   0.000000  1.182835e+09  4.295012   \n",
        "5   4253571  70.580598  38.420110   0.000000  1.182885e+09  4.427884   \n",
        "6   4261514  81.864541  45.355897   0.000000  1.183367e+09  4.193445   \n",
        "7   4235149  71.122526  35.965562   0.000000  1.181585e+09  4.080655   \n",
        "8   4236510  86.793539  42.678610   0.000000  1.181670e+09  4.045486   \n",
        "9   4247918  69.036056  37.170770   0.000000  1.182488e+09  4.861582   \n",
        "10  4628737  77.492482  40.060937   0.000000  1.204725e+09  4.122574   \n",
        "11  4675055  74.907020  39.424529   0.000000  1.207812e+09  4.655698   \n",
        "12  4621851  74.920010  35.561126   0.000000  1.204361e+09  4.337776   \n",
        "13  4621111  74.946105  35.673440  34.592172  1.204363e+09  4.210635   \n",
        "14  4648838  81.517827  35.446727   0.000000  1.206055e+09  5.046159   \n",
        "15  4649265  81.608829  35.591019   0.000000  1.206072e+09  4.638446   \n",
        "16  4648971  81.145516  35.029152   0.000000  1.206061e+09  4.321429   \n",
        "17  4649956  81.679780  35.457166   0.000000  1.206064e+09  4.222385   \n",
        "18  4650546  81.202136  35.007594   0.000000  1.206133e+09  4.303585   \n",
        "19  4649970  81.420516  35.239143   0.000000  1.206101e+09  4.507132   \n",
        "20  4648947  81.516691  35.418626   0.000000  1.206059e+09  4.575617   \n",
        "21  4661569  81.594367  35.801415   0.000000  1.206223e+09  4.082628   \n",
        "22  4653606  81.732548  35.693411   0.000000  1.206346e+09  4.477694   \n",
        "23  4648901  81.609312  35.461191   0.000000  1.206057e+09  4.521598   \n",
        "24  4648927  81.684679  35.370394   0.000000  1.206058e+09  4.427861   \n",
        "25  4648805  81.527832  35.450637   0.000000  1.206052e+09  5.406233   \n",
        "26  4650387  81.832839  35.689637   0.000000  1.206123e+09  4.183057   \n",
        "27  4649023  81.513791  35.376052   0.000000  1.206062e+09  4.284933   \n",
        "28  4649860  81.368319  35.190998   0.000000  1.206098e+09  4.186885   \n",
        "29  4649838  81.704183  35.277286   0.000000  1.206095e+09  4.098372   \n",
        "30  4649309  81.691547  35.544234   0.000000  1.206075e+09  4.239722   \n",
        "31  4649409  81.663174  35.651265   0.000000  1.206080e+09  4.550166   \n",
        "32  4650515  81.654521  35.566925   0.000000  1.206131e+09  4.338429   \n",
        "33  4649855  81.211087  35.148096   0.000000  1.206060e+09  4.006019   \n",
        "34  4653089  81.634492  35.655836   0.000000  1.206306e+09  4.547081   \n",
        "35  4653359  81.550097  35.267989   0.000000  1.206326e+09  4.277971   \n",
        "36  4653620  81.720019  35.724016   0.000000  1.206347e+09  4.175612   \n",
        "37  4700229  71.456636  36.732796   0.000000  1.209203e+09  4.395349   \n",
        "38  4656019  81.570082  35.596926   0.000000  1.206528e+09  4.734354   \n",
        "39  4690597  82.834895  45.916142   0.000000  1.208697e+09  4.457628   \n",
        "40  4691528  81.163501  35.112286   0.000000  1.208738e+09  4.245416   \n",
        "41  4685858  81.407470  35.154989   0.000000  1.208484e+09  4.098537   \n",
        "42  4685935  81.211311  35.062370   0.000000  1.208488e+09  4.133122   \n",
        "43  4714529  81.284604  35.105883   0.000000  1.210052e+09  4.411544   \n",
        "44  4714505  81.182411  35.114553   0.000000  1.210050e+09  4.068614   \n",
        "45  4760683  74.961312  39.409180  15.477717  1.212415e+09  4.158498   \n",
        "46  4736959  81.416809  35.176232   0.000000  1.210970e+09  4.024041   \n",
        "47  4741845  81.554308  35.618859   0.000000  1.211271e+09  4.268752   \n",
        "48  4733895  81.959223  35.577173   0.000000  1.210837e+09  4.005116   \n",
        "49  4782054  80.949174  43.242572   0.000000  1.213627e+09  4.117435   \n",
        "50  4784629  91.351468  35.216136   0.000000  1.213767e+09  4.602510   \n",
        "51  4793718  70.829121  40.000883   0.000000  1.214332e+09  4.698851   \n",
        "52  4780008  70.604631  38.791233   0.000000  1.213480e+09  4.154439   \n",
        "53  4782360  83.462027  45.185354   0.000000  1.213607e+09  4.093735   \n",
        "54  4785626  86.464420  43.753851  25.932509  1.213784e+09  4.238890   \n",
        "55  4817614  69.605648  35.417324   0.000000  1.215742e+09  4.771831   \n",
        "56  4763420  88.924052  43.799702   0.000000  1.212593e+09  4.129970   \n",
        "57  4815549  81.390212  35.197120   0.000000  1.215619e+09  4.160027   \n",
        "58  4820180  69.489039  35.324479   0.000000  1.215939e+09  4.465856   \n",
        "59  4809144  81.230194  35.173254   0.000000  1.215222e+09  4.245507   \n",
        "        ...        ...        ...        ...           ...       ...   \n",
        "\n",
        "           atime       0000       0001       0002        0003        0004  \\\n",
        "0   1.177361e+09   2.345286   1.439717  -2.612026   -7.496215   -8.609465   \n",
        "1   1.177399e+09  14.514187  15.883480   2.706476  -11.378077  -14.383361   \n",
        "2   1.182906e+09  71.224342  12.865268 -40.158558  -55.208039  -37.470410   \n",
        "3   1.183015e+09 -12.393560 -19.317687 -10.652341    6.311962   21.408580   \n",
        "4   1.182835e+09   2.202270 -37.219970 -54.764575  -49.985007  -34.527753   \n",
        "5   1.182885e+09  32.186887  30.546451   8.735751  -26.245992  -54.544393   \n",
        "6   1.183367e+09 -42.707456 -33.180955 -15.510669    3.965441   15.277325   \n",
        "7   1.181585e+09  16.691579   0.341560 -14.500803  -17.228587   -6.993079   \n",
        "8   1.181670e+09  -5.136546  12.589156  14.286209    4.671261   -0.695524   \n",
        "9   1.182488e+09 -43.142095 -25.407012   9.471151   39.073902   42.689929   \n",
        "10  1.204725e+09   2.070005  -0.748734  -1.962731   -0.967583    1.627057   \n",
        "11  1.207812e+09  -3.233318  -2.848059  -3.998907   -5.747783   -6.206000   \n",
        "12  1.204361e+09  -9.304107  -4.340749   2.767880    6.431679    3.558987   \n",
        "13  1.204363e+09  -7.297096  -6.005904  -1.555056    3.296148    5.832272   \n",
        "14  1.206055e+09  35.925924 -15.933365 -71.967749 -121.548994 -154.649766   \n",
        "15  1.206072e+09   6.235139  11.508630  12.803159    9.587708    3.258300   \n",
        "16  1.206061e+09 -27.675658   7.500113  28.121972   27.815473   20.105797   \n",
        "17  1.206064e+09  15.081484   5.681316  -1.463983   -2.316303    2.030740   \n",
        "18  1.206133e+09   1.377609   2.106675   5.801967    9.144590    8.525968   \n",
        "19  1.206101e+09   7.628030   7.810374   6.066502    3.385588    0.735949   \n",
        "20  1.206059e+09 -11.559319 -16.054063 -19.736897  -21.020025  -18.379544   \n",
        "21  1.206223e+09   5.717590   3.594015   1.888408    1.304935    1.294795   \n",
        "22  1.206346e+09  -5.697044  -2.987769  -0.423245    1.777401    3.196938   \n",
        "23  1.206057e+09  -1.275138  -6.073665  -6.620164   -0.370113   11.198103   \n",
        "24  1.206058e+09  -2.097674  -0.343721   1.475213    0.425427   -4.029879   \n",
        "25  1.206053e+09   6.922513   4.707252  -0.518543   -5.117602   -6.276870   \n",
        "26  1.206123e+09   0.809101  -0.962675  -1.932182   -1.511052   -0.440514   \n",
        "27  1.206062e+09  13.024895  -1.917952 -12.764587  -15.892808  -12.899782   \n",
        "28  1.206098e+09 -18.420675 -22.772183 -15.827190    1.165608   17.941223   \n",
        "29  1.206096e+09  -1.485952  -5.062283  -7.120468   -7.238443   -5.450540   \n",
        "30  1.206075e+09  -1.235693   4.544353   8.633300    8.141840    3.351263   \n",
        "31  1.206080e+09   6.971940   6.410847   6.174319    7.161031    7.974819   \n",
        "32  1.206131e+09   1.611033   2.596322   1.623196   -1.274787   -4.620914   \n",
        "33  1.206060e+09 -14.594395  -8.306059  -1.470654    6.472876   15.167440   \n",
        "34  1.206306e+09   1.060135   3.133947   1.415949   -1.858825   -3.654848   \n",
        "35  1.206326e+09   6.575915   6.496098   2.570988   -2.295552   -4.777138   \n",
        "36  1.206347e+09   3.486858   7.753503   8.176663    4.336036   -1.304120   \n",
        "37  1.209203e+09   5.518379  -2.308282  -9.960517  -12.883482   -9.545137   \n",
        "38  1.206528e+09   0.067083  -2.996185  -4.863282   -2.403762    3.060470   \n",
        "39  1.208697e+09  10.485893  15.894277  14.426087    7.414182    0.658289   \n",
        "40  1.208738e+09   3.384636   3.694452   4.518604    4.681600    3.145882   \n",
        "41  1.208484e+09   2.057351   2.045820   1.036975    0.111059    0.007052   \n",
        "42  1.208488e+09  -4.652813  -4.680808  -1.935511    0.375691   -0.240716   \n",
        "43  1.210052e+09   2.897284   0.079195  -5.214168   -9.160308   -8.279991   \n",
        "44  1.210050e+09   9.501623   3.794733  -5.876907  -10.989747   -6.921537   \n",
        "45  1.212415e+09  -1.985743  -8.012198  -9.828679   -5.321357    3.519787   \n",
        "46  1.210970e+09   4.242845  -2.779676  -5.598332   -4.874500   -3.593543   \n",
        "47  1.211271e+09  -0.180048   5.107152  10.868926   11.538719    3.500911   \n",
        "48  1.210838e+09  -7.281000  -2.651198   1.373045   -0.125588   -5.919646   \n",
        "49  1.213628e+09   4.336684  11.035424  11.261004    7.511914    1.805437   \n",
        "50  1.213767e+09  -8.301110   1.074572  11.462471   15.644788   10.515425   \n",
        "51  1.214332e+09   1.859796  10.767432  12.332480    5.645398   -3.829833   \n",
        "52  1.213480e+09  18.167809  17.202642   3.559372  -13.053087  -20.291697   \n",
        "53  1.213607e+09   0.969402   2.769964   5.592648    8.336763    7.446683   \n",
        "54  1.213784e+09  -7.398471   2.508625  11.694165   16.631275   15.031970   \n",
        "55  1.215742e+09  -2.471683 -13.592362 -17.744539  -10.303248    3.769701   \n",
        "56  1.212593e+09   5.291697  10.854843   3.745466   -9.257754  -15.781514   \n",
        "57  1.215620e+09 -10.621739   1.652831  11.463685   10.498062    0.372208   \n",
        "58  1.215939e+09  26.659141  31.484180  16.490946   -9.037581  -26.248502   \n",
        "59  1.215222e+09  -5.128602  -0.750858   9.633597   15.833382   11.716910   \n",
        "             ...        ...        ...        ...         ...         ...   \n",
        "\n",
        "          0005        0006        0007       0008       0009       0010  \\\n",
        "0    -3.561346    4.651964    9.522356   6.797577  -1.331019  -8.066465   \n",
        "1    -5.273224    7.777173   15.728494  14.990344   7.830309  -0.884665   \n",
        "2   -14.137578   -2.921800    0.097218   5.663907  13.024812  11.340532   \n",
        "3    29.465184   29.715781   21.233811   2.936412 -21.488913 -42.010417   \n",
        "4   -17.150240    1.859123   23.345389  41.096915  44.444663  29.284475   \n",
        "5   -57.895680  -32.430641    9.594174  47.209487  61.168835  43.595537   \n",
        "6    11.005543   -5.548399  -20.266628 -18.622406   2.237485  30.526380   \n",
        "7     7.119136   14.725443   12.930919   6.525721   0.975919  -2.947387   \n",
        "8     4.694230   11.099508    5.745579  -9.684467 -18.357739  -6.339416   \n",
        "9    15.917126  -25.472940  -56.157503 -58.058696 -30.933008   9.384236   \n",
        "10    3.917170    3.388100   -1.022155  -6.864499  -9.032466  -4.140954   \n",
        "11   -5.042019   -3.923230   -4.365248  -5.550999  -4.915608  -1.261817   \n",
        "12   -4.038608  -10.979259  -12.427849  -7.360309   1.308406   8.936363   \n",
        "13    5.020649    1.885610   -1.247455  -2.332606  -1.278692  -0.091886   \n",
        "14 -166.473076 -157.084581 -127.686206 -79.597521 -18.443438  42.081706   \n",
        "15   -3.930413   -9.689918  -12.397514 -11.694438  -8.487208  -4.215641   \n",
        "16   20.818755   28.662312   24.905210  -5.489620 -52.354062 -82.659958   \n",
        "17    6.346052    5.758616   -0.563037  -9.407132 -16.316315 -18.398415   \n",
        "18    2.306504   -7.705499  -16.362685 -17.909198 -10.543281   1.031523   \n",
        "19   -0.707313   -0.143070    1.911836   3.619673   3.207727   0.573910   \n",
        "20  -11.560354   -1.840650    8.563314  17.253800  22.282001  22.826843   \n",
        "21    0.652299   -1.283262   -4.004584  -6.323845  -7.388112  -7.249695   \n",
        "22    3.276265    1.801612   -0.764463  -3.383003  -4.842043  -4.286736   \n",
        "23   21.882428   24.503086   16.737764   3.622329  -6.264601  -7.872564   \n",
        "24   -9.988104  -14.641542  -16.058613 -14.050950  -9.825898  -4.996311   \n",
        "25   -3.899667   -0.205642    2.108645   1.640247  -1.018885  -3.958590   \n",
        "26    0.086392   -0.580075   -1.994073  -2.698164  -1.254833   2.149399   \n",
        "27   -9.559435  -11.475958  -19.818363 -30.402086 -36.753055 -34.696329   \n",
        "28   23.833104   16.763125    3.878794  -5.904122  -9.132914  -8.082146   \n",
        "29   -1.626018    3.741080    8.622430  10.426333   8.392869   4.669864   \n",
        "30   -2.859942   -7.023410   -7.037973  -3.190315   2.143295   5.987692   \n",
        "31    6.787674    3.468444   -0.334332  -3.026605  -4.504003  -5.556593   \n",
        "32   -6.661800   -6.670867   -5.298510  -3.711723  -2.407326  -0.872335   \n",
        "33   23.418910   29.522720   31.559070  28.061147  19.163993   7.344348   \n",
        "34   -3.231082   -2.156348   -1.676593  -1.059567   0.959368   3.740659   \n",
        "35   -3.788661   -0.909642    1.386891   1.646518   0.099619  -1.736737   \n",
        "36   -5.222323   -5.422735   -2.919971  -0.961054  -2.410046  -7.160956   \n",
        "37   -2.831238    2.290208    2.840191  -0.045465  -2.677307  -2.264551   \n",
        "38    6.692582    4.718762   -2.007519  -8.680835 -10.379131  -5.596161   \n",
        "39   -0.762509    3.322787    8.255173   8.249206   0.796377 -11.183553   \n",
        "40    0.123409   -2.908082   -4.172368  -2.829415   0.276762   2.951770   \n",
        "41    0.562109    1.167371    1.396448   0.955045  -0.638156  -3.666997   \n",
        "42   -2.738183   -3.431005   -0.065222   5.241263   7.577549   3.955526   \n",
        "43   -2.238717    5.772350   11.156593  10.770697   4.712145  -3.769639   \n",
        "44    3.426406   12.487037   14.217969   8.256220  -0.803225  -7.511933   \n",
        "45   11.364334   12.615509    5.373115  -6.288296 -14.355172 -12.948164   \n",
        "46   -3.636790   -4.296590   -3.804451  -1.800687   0.032452  -0.121093   \n",
        "47   -9.906770  -19.350401  -17.445357  -5.815507   6.697660  12.568037   \n",
        "48   -9.184107   -4.193351    7.563219  18.203784  20.332014  13.173590   \n",
        "49   -5.271831  -11.635132  -12.295541  -3.430118  11.693489  22.493779   \n",
        "50    0.554097   -6.181713   -5.786382  -1.775274  -0.286469  -2.498839   \n",
        "51   -9.499632   -9.287292   -5.625941  -0.855948   5.173919  12.061593   \n",
        "52  -13.410193    1.064491   10.925252   8.450386  -3.139303 -12.614233   \n",
        "53    0.811678   -8.418548  -12.937602  -7.424255   5.821203  17.654257   \n",
        "54    6.034784   -7.559109  -18.680971 -20.106523 -10.448580   4.066627   \n",
        "55   13.565177   11.531623   -0.043484 -10.974141 -11.884383  -2.354420   \n",
        "56   -8.417877    8.368750   20.716264  16.715240  -1.777623 -18.511090   \n",
        "57   -8.660763   -7.610195    2.643050  12.372852  12.043001   0.328764   \n",
        "58  -22.961648   -4.508651   12.347409  15.888740   8.692997   0.986220   \n",
        "59    0.648330   -7.928214   -7.312478   0.161800   5.362811   1.360025   \n",
        "           ...         ...         ...        ...        ...        ...   \n",
        "\n",
        "         0011        0012      \n",
        "0   -8.322668   -3.122096 ...  \n",
        "1   -7.063970   -9.227078 ...  \n",
        "2   -3.253958  -18.492615 ...  \n",
        "3  -48.975167  -41.654885 ...  \n",
        "4    4.500676  -14.603390 ...  \n",
        "5    3.599412  -35.795286 ...  \n",
        "6   48.414241   44.927145 ...  \n",
        "7   -7.870440  -14.898878 ...  \n",
        "8   20.172040   37.891580 ...  \n",
        "9   42.304021   54.979943 ...  \n",
        "10   5.424498   12.544342 ...  \n",
        "11   2.999703    3.521409 ...  \n",
        "12  11.783353    8.814403 ...  \n",
        "13  -0.814562   -3.190389 ...  \n",
        "14  84.681125  100.397796 ...  \n",
        "15  -0.031123    3.465637 ...  \n",
        "16 -67.984349  -12.006231 ...  \n",
        "17 -15.289682   -8.501322 ...  \n",
        "18   8.595978    7.230656 ...  \n",
        "19  -2.519696   -3.975870 ...  \n",
        "20  19.739710   15.198338 ...  \n",
        "21  -6.559113   -5.749535 ...  \n",
        "22  -1.713910    1.895521 ...  \n",
        "23  -3.542413   -0.246416 ...  \n",
        "24  -0.789740    2.190792 ...  \n",
        "25  -5.483880   -5.159891 ...  \n",
        "26   5.172552    5.102221 ...  \n",
        "27 -24.883744  -11.560912 ...  \n",
        "28  -5.720071   -2.120624 ...  \n",
        "29   2.417478    2.617145 ...  \n",
        "30   6.529338    3.981684 ...  \n",
        "31  -6.310593   -5.918059 ...  \n",
        "32   1.595756    4.755519 ...  \n",
        "33  -3.399370   -9.894707 ...  \n",
        "34   4.888597    3.237255 ...  \n",
        "35  -2.092176   -0.351651 ...  \n",
        "36 -11.643902  -11.214751 ...  \n",
        "37   0.957786    4.333130 ...  \n",
        "38   2.892330    9.924771 ...  \n",
        "39 -21.087244  -23.301506 ...  \n",
        "40   3.065528    0.093095 ...  \n",
        "41  -7.242784   -9.117395 ...  \n",
        "42  -3.596618   -9.662997 ...  \n",
        "43 -10.119937  -11.154023 ...  \n",
        "44  -9.232803   -6.839884 ...  \n",
        "45  -3.556848    6.130169 ...  \n",
        "46  -1.784085   -2.089552 ...  \n",
        "47  11.351407    7.532177 ...  \n",
        "48   2.497161   -4.869314 ...  \n",
        "49  18.887885    0.757252 ...  \n",
        "50  -3.003852    3.367885 ...  \n",
        "51  15.367601    9.224495 ...  \n",
        "52 -10.951703    0.504793 ...  \n",
        "53  19.137188    8.525880 ...  \n",
        "54  14.173478   14.316908 ...  \n",
        "55   8.749090   11.452304 ...  \n",
        "56 -16.773135    3.846420 ...  \n",
        "57 -15.435802  -25.105297 ...  \n",
        "58  -2.056944   -3.456301 ...  \n",
        "59  -9.569147  -18.075526 ...  \n",
        "          ...         ...      \n",
        "\n",
        "[534 rows x 1207 columns]\n"
       ]
      }
     ],
     "prompt_number": 77
    },
    {
     "cell_type": "code",
     "collapsed": false,
     "input": [
      "test_wiggle_influence((0, 1, 10,))"
     ],
     "language": "python",
     "metadata": {},
     "outputs": [
      {
       "output_type": "stream",
       "stream": "stdout",
       "text": [
        "first atime 1238262654.12\n",
        "gridsearch: new best ll [-16232.40180385] at (20.0, 30.0, 1238262354.1237609)\n",
        "gridsearch: new best ll [-12660.64075546] at (20.0, 30.0, 1238262369.9132347)\n",
        "gridsearch: new best ll [-9587.4947127] at (20.0, 30.0, 1238262385.7027082)\n",
        "gridsearch: new best ll [-7012.96358277] at (20.0, 30.0, 1238262401.492182)\n",
        "gridsearch: new best ll [-4937.04741585] at (20.0, 30.0, 1238262417.2816558)\n",
        "gridsearch: new best ll [-3359.74623197] at (20.0, 30.0, 1238262433.0711293)\n",
        "gridsearch: new best ll [-2281.05998352] at (20.0, 30.0, 1238262448.8606031)\n",
        "gridsearch: new best ll [-1700.98870305] at (20.0, 30.0, 1238262464.6500766)\n",
        "gridsearch: new best ll [-1619.53237307] at (20.0, 30.0, 1238262480.4395504)\n",
        "gridsearch: new best ll"
       ]
      },
      {
       "output_type": "stream",
       "stream": "stdout",
       "text": [
        " [-1300.4129037] at (20.0, 32.222222222222221, 1238262464.6500766)\n",
        "gridsearch: new best ll [-866.88733711] at (20.0, 32.222222222222221, 1238262480.4395504)\n",
        "gridsearch: new best ll [-574.20607363] at (20.0, 34.444444444444443, 1238262480.4395504)\n",
        "gridsearch: new best ll"
       ]
      },
      {
       "output_type": "stream",
       "stream": "stdout",
       "text": [
        " [-326.84863337] at (20.0, 34.444444444444443, 1238262496.2290242)\n",
        "gridsearch: new best ll [-266.54096182] at (20.0, 36.666666666666664, 1238262496.2290242)\n",
        "gridsearch: new best ll"
       ]
      },
      {
       "output_type": "stream",
       "stream": "stdout",
       "text": [
        " [-45.80894158] at (22.222222222222221, 36.666666666666664, 1238262512.0184977)\n",
        "true ev"
       ]
      },
      {
       "output_type": "stream",
       "stream": "stdout",
       "text": [
        " evid None, loc 21.83 E 36.53 N, depth 0.0km, time 1238262509.4, mb 4.0, natural source\n",
        "intialized from grid search: evid None, loc 22.22 E 36.67 N, depth 0.0km, time 1238262512.0, mb 4.0, natural source\n",
        "step 0: lon 22.2 lat 36.7 time 1238262512.0 spatial err 37.9km time err 2.6s acceptance rate space 0.000000 time 0.000000\n",
        "step 50: lon 21.8 lat 36.6 time 1238262509.1 spatial err 3.0km time err 0.3s acceptance rate space 0.007600 time 0.008400"
       ]
      },
      {
       "output_type": "stream",
       "stream": "stdout",
       "text": [
        "\n",
        "step 100: lon 21.8 lat 36.5 time 1238262508.6 spatial err 6.7km time err 0.8s acceptance rate space 0.016400 time 0.014800"
       ]
      },
      {
       "output_type": "stream",
       "stream": "stdout",
       "text": [
        "\n",
        "step 150: lon 21.8 lat 36.5 time 1238262509.2 spatial err 4.5km time err 0.2s acceptance rate space 0.022800 time 0.020800"
       ]
      },
      {
       "output_type": "stream",
       "stream": "stdout",
       "text": [
        "\n",
        "step 200: lon 21.8 lat 36.6 time 1238262509.0 spatial err 4.7km time err 0.4s acceptance rate space 0.030400 time 0.028800"
       ]
      },
      {
       "output_type": "stream",
       "stream": "stdout",
       "text": [
        "\n",
        "step 250: lon 21.8 lat 36.5 time 1238262509.9 spatial err 1.6km time err 0.5s acceptance rate space 0.039200 time 0.036800"
       ]
      },
      {
       "output_type": "stream",
       "stream": "stdout",
       "text": [
        "\n",
        "step 300: lon 21.8 lat 36.5 time 1238262509.0 spatial err 6.5km time err 0.4s acceptance rate space 0.047600 time 0.042000"
       ]
      },
      {
       "output_type": "stream",
       "stream": "stdout",
       "text": [
        "\n",
        "step 350: lon 21.9 lat 36.4 time 1238262509.1 spatial err 11.4km time err 0.3s acceptance rate space 0.057200 time 0.048800"
       ]
      },
      {
       "output_type": "stream",
       "stream": "stdout",
       "text": [
        "\n",
        "step 400: lon 21.8 lat 36.5 time 1238262509.0 spatial err 1.2km time err 0.4s acceptance rate space 0.065200 time 0.055600"
       ]
      },
      {
       "output_type": "stream",
       "stream": "stdout",
       "text": [
        "\n",
        "step 450: lon 21.9 lat 36.5 time 1238262508.9 spatial err 4.8km time err 0.5s acceptance rate space 0.076000 time 0.061600"
       ]
      },
      {
       "output_type": "stream",
       "stream": "stdout",
       "text": [
        "\n",
        "step 500: lon 21.8 lat 36.5 time 1238262509.1 spatial err 5.1km time err 0.3s acceptance rate space 0.084400 time 0.069200"
       ]
      },
      {
       "output_type": "stream",
       "stream": "stdout",
       "text": [
        "\n",
        "step 550: lon 21.9 lat 36.5 time 1238262509.2 spatial err 3.6km time err 0.2s acceptance rate space 0.092000 time 0.078400"
       ]
      },
      {
       "output_type": "stream",
       "stream": "stdout",
       "text": [
        "\n",
        "step 600: lon 21.9 lat 36.6 time 1238262509.4 spatial err 6.1km time err 0.0s acceptance rate space 0.102000 time 0.083600"
       ]
      },
      {
       "output_type": "stream",
       "stream": "stdout",
       "text": [
        "\n",
        "step 650: lon 21.8 lat 36.5 time 1238262509.3 spatial err 6.7km time err 0.1s acceptance rate space 0.109600 time 0.089200"
       ]
      },
      {
       "output_type": "stream",
       "stream": "stdout",
       "text": [
        "\n",
        "step 700: lon 21.8 lat 36.5 time 1238262508.8 spatial err 7.4km time err 0.6s acceptance rate space 0.117200 time 0.098800"
       ]
      },
      {
       "output_type": "stream",
       "stream": "stdout",
       "text": [
        "\n",
        "step 750: lon 21.8 lat 36.5 time 1238262509.5 spatial err 4.7km time err 0.1s acceptance rate space 0.126000 time 0.108000"
       ]
      },
      {
       "output_type": "stream",
       "stream": "stdout",
       "text": [
        "\n",
        "step 800: lon 21.9 lat 36.5 time 1238262509.2 spatial err 2.2km time err 0.2s acceptance rate space 0.136000 time 0.115200"
       ]
      },
      {
       "output_type": "stream",
       "stream": "stdout",
       "text": [
        "\n",
        "step 850: lon 21.8 lat 36.5 time 1238262509.1 spatial err 2.5km time err 0.3s acceptance rate space 0.143600 time 0.122800"
       ]
      },
      {
       "output_type": "stream",
       "stream": "stdout",
       "text": [
        "\n",
        "step 900: lon 21.8 lat 36.5 time 1238262508.9 spatial err 4.7km time err 0.5s acceptance rate space 0.152800 time 0.128800"
       ]
      },
      {
       "output_type": "stream",
       "stream": "stdout",
       "text": [
        "\n",
        "step 950: lon 21.8 lat 36.6 time 1238262509.0 spatial err 4.0km time err 0.4s acceptance rate space 0.162000 time 0.137600"
       ]
      },
      {
       "output_type": "stream",
       "stream": "stdout",
       "text": [
        "\n",
        "step 1000: lon 21.8 lat 36.6 time 1238262509.2 spatial err 2.4km time err 0.2s acceptance rate space 0.170400 time 0.145600"
       ]
      },
      {
       "output_type": "stream",
       "stream": "stdout",
       "text": [
        "\n",
        "step 1050: lon 21.9 lat 36.5 time 1238262509.5 spatial err 3.0km time err 0.1s acceptance rate space 0.178000 time 0.153600"
       ]
      },
      {
       "output_type": "stream",
       "stream": "stdout",
       "text": [
        "\n",
        "step 1100: lon 21.9 lat 36.5 time 1238262509.5 spatial err 2.7km time err 0.1s acceptance rate space 0.187600 time 0.161600"
       ]
      },
      {
       "output_type": "stream",
       "stream": "stdout",
       "text": [
        "\n",
        "step 1150: lon 21.9 lat 36.5 time 1238262509.4 spatial err 4.9km time err 0.0s acceptance rate space 0.196400 time 0.167600"
       ]
      },
      {
       "output_type": "stream",
       "stream": "stdout",
       "text": [
        "\n",
        "step 1200: lon 21.9 lat 36.4 time 1238262509.4 spatial err 11.3km time err 0.0s acceptance rate space 0.205600 time 0.174400"
       ]
      },
      {
       "output_type": "stream",
       "stream": "stdout",
       "text": [
        "\n",
        "step 1250: lon 21.8 lat 36.5 time 1238262509.1 spatial err 7.3km time err 0.3s acceptance rate space 0.216800 time 0.183200"
       ]
      },
      {
       "output_type": "stream",
       "stream": "stdout",
       "text": [
        "\n",
        "step 1300: lon 21.8 lat 36.5 time 1238262509.5 spatial err 1.3km time err 0.1s acceptance rate space 0.224400 time 0.191600"
       ]
      },
      {
       "output_type": "stream",
       "stream": "stdout",
       "text": [
        "\n",
        "step 1350: lon 21.9 lat 36.4 time 1238262509.2 spatial err 11.4km time err 0.2s acceptance rate space 0.234000 time 0.201600"
       ]
      },
      {
       "output_type": "stream",
       "stream": "stdout",
       "text": [
        "\n",
        "step 1400: lon 21.9 lat 36.5 time 1238262509.5 spatial err 6.4km time err 0.1s acceptance rate space 0.240400 time 0.209600"
       ]
      },
      {
       "output_type": "stream",
       "stream": "stdout",
       "text": [
        "\n",
        "step 1450: lon 21.9 lat 36.5 time 1238262509.7 spatial err 3.2km time err 0.2s acceptance rate space 0.249600 time 0.217600"
       ]
      },
      {
       "output_type": "stream",
       "stream": "stdout",
       "text": [
        "\n",
        "step 1500: lon 21.9 lat 36.5 time 1238262508.6 spatial err 5.5km time err 0.8s acceptance rate space 0.258400 time 0.227200"
       ]
      },
      {
       "output_type": "stream",
       "stream": "stdout",
       "text": [
        "\n",
        "step 1550: lon 21.9 lat 36.5 time 1238262509.8 spatial err 6.5km time err 0.4s acceptance rate space 0.267200 time 0.237600"
       ]
      },
      {
       "output_type": "stream",
       "stream": "stdout",
       "text": [
        "\n",
        "step 1600: lon 21.8 lat 36.5 time 1238262509.4 spatial err 2.1km time err 0.0s acceptance rate space 0.275600 time 0.244800"
       ]
      },
      {
       "output_type": "stream",
       "stream": "stdout",
       "text": [
        "\n",
        "step 1650: lon 21.9 lat 36.5 time 1238262509.1 spatial err 7.6km time err 0.3s acceptance rate space 0.285200 time 0.254000"
       ]
      },
      {
       "output_type": "stream",
       "stream": "stdout",
       "text": [
        "\n",
        "step 1700: lon 21.9 lat 36.5 time 1238262509.5 spatial err 7.3km time err 0.1s acceptance rate space 0.298400 time 0.262000"
       ]
      },
      {
       "output_type": "stream",
       "stream": "stdout",
       "text": [
        "\n",
        "step 1750: lon 21.9 lat 36.5 time 1238262509.2 spatial err 7.8km time err 0.2s acceptance rate space 0.306800 time 0.270800"
       ]
      },
      {
       "output_type": "stream",
       "stream": "stdout",
       "text": [
        "\n",
        "step 1800: lon 21.9 lat 36.6 time 1238262510.0 spatial err 3.4km time err 0.6s acceptance rate space 0.316400 time 0.278400"
       ]
      },
      {
       "output_type": "stream",
       "stream": "stdout",
       "text": [
        "\n",
        "step 1850: lon 21.9 lat 36.5 time 1238262509.5 spatial err 3.7km time err 0.1s acceptance rate space 0.327200 time 0.285200"
       ]
      },
      {
       "output_type": "stream",
       "stream": "stdout",
       "text": [
        "\n",
        "step 1900: lon 21.9 lat 36.6 time 1238262509.6 spatial err 8.3km time err 0.2s acceptance rate space 0.336800 time 0.292800"
       ]
      },
      {
       "output_type": "stream",
       "stream": "stdout",
       "text": [
        "\n",
        "step 1950: lon 21.9 lat 36.5 time 1238262509.2 spatial err 2.0km time err 0.2s acceptance rate space 0.346400 time 0.302000"
       ]
      },
      {
       "output_type": "stream",
       "stream": "stdout",
       "text": [
        "\n",
        "step 2000: lon 21.9 lat 36.4 time 1238262509.0 spatial err 15.3km time err 0.4s acceptance rate space 0.353200 time 0.308000"
       ]
      },
      {
       "output_type": "stream",
       "stream": "stdout",
       "text": [
        "\n",
        "step 2050: lon 21.8 lat 36.5 time 1238262509.9 spatial err 1.7km time err 0.5s acceptance rate space 0.362000 time 0.318000"
       ]
      },
      {
       "output_type": "stream",
       "stream": "stdout",
       "text": [
        "\n",
        "step 2100: lon 21.9 lat 36.6 time 1238262509.3 spatial err 3.4km time err 0.1s acceptance rate space 0.372800 time 0.326400"
       ]
      },
      {
       "output_type": "stream",
       "stream": "stdout",
       "text": [
        "\n",
        "step 2150: lon 21.8 lat 36.5 time 1238262508.7 spatial err 6.3km time err 0.7s acceptance rate space 0.384000 time 0.336800"
       ]
      },
      {
       "output_type": "stream",
       "stream": "stdout",
       "text": [
        "\n",
        "step 2200: lon 21.9 lat 36.6 time 1238262509.3 spatial err 6.2km time err 0.1s acceptance rate space 0.392800 time 0.342400"
       ]
      },
      {
       "output_type": "stream",
       "stream": "stdout",
       "text": [
        "\n",
        "step 2250: lon 21.9 lat 36.5 time 1238262509.2 spatial err 7.2km time err 0.3s acceptance rate space 0.401200 time 0.348000"
       ]
      },
      {
       "output_type": "stream",
       "stream": "stdout",
       "text": [
        "\n",
        "step 2300: lon 21.9 lat 36.5 time 1238262509.5 spatial err 5.6km time err 0.1s acceptance rate space 0.408800 time 0.356000"
       ]
      },
      {
       "output_type": "stream",
       "stream": "stdout",
       "text": [
        "\n",
        "step 2350: lon 21.8 lat 36.5 time 1238262509.3 spatial err 1.4km time err 0.1s acceptance rate space 0.418800 time 0.363600"
       ]
      },
      {
       "output_type": "stream",
       "stream": "stdout",
       "text": [
        "\n",
        "step 2400: lon 21.9 lat 36.6 time 1238262509.5 spatial err 6.7km time err 0.1s acceptance rate space 0.427200 time 0.371200"
       ]
      },
      {
       "output_type": "stream",
       "stream": "stdout",
       "text": [
        "\n",
        "step 2450: lon 21.9 lat 36.5 time 1238262509.5 spatial err 3.5km time err 0.1s acceptance rate space 0.434400 time 0.379600"
       ]
      },
      {
       "output_type": "stream",
       "stream": "stdout",
       "text": [
        "\n",
        "true ev:"
       ]
      },
      {
       "output_type": "stream",
       "stream": "stdout",
       "text": [
        " evid None, loc 21.83 E 36.53 N, depth 0.0km, time 1238262509.4, mb 4.0, natural source\n",
        "mean lon 21.85, lat 36.51, time 1238262509.36\n",
        "stds: lon 0.04, lat 0.04, time 0.38\n",
        "mean: spatial err 2.7435km time err 0.0506s\n",
        "first atime"
       ]
      },
      {
       "output_type": "stream",
       "stream": "stdout",
       "text": [
        " 1238262650.81\n",
        "gridsearch: new best ll [-17162.58066229] at (20.0, 30.0, 1238262350.8066702)\n",
        "gridsearch: new best ll [-13479.06390185] at (20.0, 30.0, 1238262366.596144)\n",
        "gridsearch: new best ll [-10294.16214872] at (20.0, 30.0, 1238262382.3856175)\n",
        "gridsearch: new best ll [-7607.87530674] at (20.0, 30.0, 1238262398.1750913)\n",
        "gridsearch: new best ll [-5420.20342776] at (20.0, 30.0, 1238262413.964565)\n",
        "gridsearch: new best ll [-3731.14653352] at (20.0, 30.0, 1238262429.7540386)\n",
        "gridsearch: new best ll [-2540.70457301] at (20.0, 30.0, 1238262445.5435123)\n",
        "gridsearch: new best ll [-1848.87758218] at (20.0, 30.0, 1238262461.3329859)\n",
        "gridsearch: new best ll [-1655.66554014] at (20.0, 30.0, 1238262477.1224597)\n",
        "gridsearch: new best ll"
       ]
      },
      {
       "output_type": "stream",
       "stream": "stdout",
       "text": [
        " [-1505.24147146] at (20.0, 32.222222222222221, 1238262461.3329859)\n",
        "gridsearch: new best ll [-959.96019281] at (20.0, 32.222222222222221, 1238262477.1224597)\n",
        "gridsearch: new best ll [-913.29387716] at (20.0, 32.222222222222221, 1238262492.9119334)\n",
        "gridsearch: new best ll"
       ]
      },
      {
       "output_type": "stream",
       "stream": "stdout",
       "text": [
        " [-716.08751356] at (20.0, 34.444444444444443, 1238262477.1224597)\n",
        "gridsearch: new best ll [-356.96319043] at (20.0, 34.444444444444443, 1238262492.9119334)\n",
        "gridsearch: new best ll"
       ]
      },
      {
       "output_type": "stream",
       "stream": "stdout",
       "text": [
        " [-330.98869242] at (20.0, 36.666666666666664, 1238262492.9119334)\n",
        "gridsearch: new best ll [-229.25778532] at (20.0, 36.666666666666664, 1238262508.701407)\n",
        "gridsearch: new best ll"
       ]
      },
      {
       "output_type": "stream",
       "stream": "stdout",
       "text": [
        " [-77.13710379] at (22.222222222222221, 36.666666666666664, 1238262508.701407)\n",
        "true ev"
       ]
      },
      {
       "output_type": "stream",
       "stream": "stdout",
       "text": [
        " evid None, loc 21.83 E 36.53 N, depth 0.0km, time 1238262509.4, mb 4.0, natural source\n",
        "intialized from grid search: evid None, loc 22.22 E 36.67 N, depth 0.0km, time 1238262508.7, mb 4.0, natural source\n",
        "step 0: lon 22.2 lat 36.7 time 1238262508.7 spatial err 33.4km time err 0.7s acceptance rate space 0.000400 time 0.000000\n",
        "step 50: lon 21.8 lat 36.6 time 1238262509.7 spatial err 5.5km time err 0.3s acceptance rate space 0.007600 time 0.005200"
       ]
      },
      {
       "output_type": "stream",
       "stream": "stdout",
       "text": [
        "\n",
        "step 100: lon 21.8 lat 36.6 time 1238262508.8 spatial err 6.6km time err 0.6s acceptance rate space 0.013600 time 0.012400"
       ]
      },
      {
       "output_type": "stream",
       "stream": "stdout",
       "text": [
        "\n",
        "step 150: lon 21.8 lat 36.5 time 1238262508.7 spatial err 2.0km time err 0.7s acceptance rate space 0.022000 time 0.020800"
       ]
      },
      {
       "output_type": "stream",
       "stream": "stdout",
       "text": [
        "\n",
        "step 200: lon 21.8 lat 36.5 time 1238262509.5 spatial err 3.4km time err 0.1s acceptance rate space 0.026800 time 0.028000"
       ]
      },
      {
       "output_type": "stream",
       "stream": "stdout",
       "text": [
        "\n",
        "step 250: lon 21.8 lat 36.6 time 1238262509.0 spatial err 5.8km time err 0.4s acceptance rate space 0.031600 time 0.035600"
       ]
      },
      {
       "output_type": "stream",
       "stream": "stdout",
       "text": [
        "\n",
        "step 300: lon 21.8 lat 36.6 time 1238262509.3 spatial err 5.0km time err 0.1s acceptance rate space 0.037200 time 0.044400"
       ]
      },
      {
       "output_type": "stream",
       "stream": "stdout",
       "text": [
        "\n",
        "step 350: lon 21.8 lat 36.5 time 1238262509.0 spatial err 8.5km time err 0.5s acceptance rate space 0.045600 time 0.053600"
       ]
      },
      {
       "output_type": "stream",
       "stream": "stdout",
       "text": [
        "\n",
        "step 400: lon 21.8 lat 36.5 time 1238262509.5 spatial err 8.7km time err 0.1s acceptance rate space 0.053600 time 0.060800"
       ]
      },
      {
       "output_type": "stream",
       "stream": "stdout",
       "text": [
        "\n",
        "step 450: lon 21.8 lat 36.6 time 1238262509.2 spatial err 5.7km time err 0.2s acceptance rate space 0.062000 time 0.070800"
       ]
      },
      {
       "output_type": "stream",
       "stream": "stdout",
       "text": [
        "\n",
        "step 500: lon 21.8 lat 36.5 time 1238262509.9 spatial err 7.4km time err 0.5s acceptance rate space 0.070000 time 0.081200"
       ]
      },
      {
       "output_type": "stream",
       "stream": "stdout",
       "text": [
        "\n",
        "step 550: lon 21.8 lat 36.6 time 1238262509.7 spatial err 8.2km time err 0.3s acceptance rate space 0.077600 time 0.089600"
       ]
      },
      {
       "output_type": "stream",
       "stream": "stdout",
       "text": [
        "\n",
        "step 600: lon 21.8 lat 36.5 time 1238262510.0 spatial err 7.4km time err 0.6s acceptance rate space 0.084000 time 0.096800"
       ]
      },
      {
       "output_type": "stream",
       "stream": "stdout",
       "text": [
        "\n",
        "step 650: lon 21.9 lat 36.6 time 1238262508.7 spatial err 7.1km time err 0.7s acceptance rate space 0.093200 time 0.105600"
       ]
      },
      {
       "output_type": "stream",
       "stream": "stdout",
       "text": [
        "\n",
        "step 700: lon 21.8 lat 36.5 time 1238262509.4 spatial err 4.9km time err 0.0s acceptance rate space 0.101200 time 0.111200"
       ]
      },
      {
       "output_type": "stream",
       "stream": "stdout",
       "text": [
        "\n",
        "step 750: lon 21.8 lat 36.5 time 1238262508.8 spatial err 2.1km time err 0.6s acceptance rate space 0.105200 time 0.118000"
       ]
      },
      {
       "output_type": "stream",
       "stream": "stdout",
       "text": [
        "\n",
        "step 800: lon 21.8 lat 36.5 time 1238262508.9 spatial err 10.4km time err 0.6s acceptance rate space 0.112800 time 0.127200"
       ]
      },
      {
       "output_type": "stream",
       "stream": "stdout",
       "text": [
        "\n",
        "step 850: lon 21.8 lat 36.6 time 1238262509.7 spatial err 4.6km time err 0.3s acceptance rate space 0.120400 time 0.137200"
       ]
      },
      {
       "output_type": "stream",
       "stream": "stdout",
       "text": [
        "\n",
        "step 900: lon 21.8 lat 36.5 time 1238262509.0 spatial err 9.1km time err 0.4s acceptance rate space 0.127200 time 0.145200"
       ]
      },
      {
       "output_type": "stream",
       "stream": "stdout",
       "text": [
        "\n",
        "step 950: lon 21.8 lat 36.4 time 1238262509.3 spatial err 10.9km time err 0.1s acceptance rate space 0.136800 time 0.154400"
       ]
      },
      {
       "output_type": "stream",
       "stream": "stdout",
       "text": [
        "\n",
        "step 1000: lon 21.8 lat 36.6 time 1238262509.5 spatial err 6.5km time err 0.1s acceptance rate space 0.144800 time 0.164400"
       ]
      },
      {
       "output_type": "stream",
       "stream": "stdout",
       "text": [
        "\n",
        "step 1050: lon 21.8 lat 36.6 time 1238262509.2 spatial err 10.2km time err 0.2s acceptance rate space 0.152000 time 0.168800"
       ]
      },
      {
       "output_type": "stream",
       "stream": "stdout",
       "text": [
        "\n",
        "step 1100: lon 21.9 lat 36.5 time 1238262509.6 spatial err 2.8km time err 0.2s acceptance rate space 0.157600 time 0.177600"
       ]
      },
      {
       "output_type": "stream",
       "stream": "stdout",
       "text": [
        "\n",
        "step 1150: lon 21.8 lat 36.6 time 1238262509.8 spatial err 7.9km time err 0.4s acceptance rate space 0.164800 time 0.186400"
       ]
      },
      {
       "output_type": "stream",
       "stream": "stdout",
       "text": [
        "\n",
        "step 1200: lon 21.8 lat 36.5 time 1238262508.6 spatial err 6.6km time err 0.8s acceptance rate space 0.170000 time 0.192400"
       ]
      },
      {
       "output_type": "stream",
       "stream": "stdout",
       "text": [
        "\n",
        "step 1250: lon 21.8 lat 36.5 time 1238262509.0 spatial err 1.7km time err 0.4s acceptance rate space 0.179200 time 0.201200"
       ]
      },
      {
       "output_type": "stream",
       "stream": "stdout",
       "text": [
        "\n",
        "step 1300: lon 21.8 lat 36.5 time 1238262509.5 spatial err 2.8km time err 0.1s acceptance rate space 0.183600 time 0.209200"
       ]
      },
      {
       "output_type": "stream",
       "stream": "stdout",
       "text": [
        "\n",
        "step 1350: lon 21.8 lat 36.5 time 1238262509.3 spatial err 2.2km time err 0.1s acceptance rate space 0.190400 time 0.215200"
       ]
      },
      {
       "output_type": "stream",
       "stream": "stdout",
       "text": [
        "\n",
        "step 1400: lon 21.8 lat 36.6 time 1238262509.2 spatial err 3.8km time err 0.2s acceptance rate space 0.194800 time 0.221200"
       ]
      },
      {
       "output_type": "stream",
       "stream": "stdout",
       "text": [
        "\n",
        "step 1450: lon 21.8 lat 36.4 time 1238262509.3 spatial err 13.4km time err 0.1s acceptance rate space 0.199600 time 0.229600"
       ]
      },
      {
       "output_type": "stream",
       "stream": "stdout",
       "text": [
        "\n",
        "step 1500: lon 21.8 lat 36.5 time 1238262508.8 spatial err 2.2km time err 0.6s acceptance rate space 0.207600 time 0.237600"
       ]
      },
      {
       "output_type": "stream",
       "stream": "stdout",
       "text": [
        "\n",
        "step 1550: lon 21.8 lat 36.6 time 1238262509.5 spatial err 6.0km time err 0.1s acceptance rate space 0.214800 time 0.246000"
       ]
      },
      {
       "output_type": "stream",
       "stream": "stdout",
       "text": [
        "\n",
        "step 1600: lon 21.7 lat 36.4 time 1238262508.6 spatial err 13.6km time err 0.9s acceptance rate space 0.223200 time 0.255200"
       ]
      },
      {
       "output_type": "stream",
       "stream": "stdout",
       "text": [
        "\n",
        "step 1650: lon 21.8 lat 36.5 time 1238262509.1 spatial err 5.9km time err 0.3s acceptance rate space 0.230400 time 0.262000"
       ]
      },
      {
       "output_type": "stream",
       "stream": "stdout",
       "text": [
        "\n",
        "step 1700: lon 21.9 lat 36.5 time 1238262509.2 spatial err 2.9km time err 0.2s acceptance rate space 0.236800 time 0.266800"
       ]
      },
      {
       "output_type": "stream",
       "stream": "stdout",
       "text": [
        "\n",
        "step 1750: lon 21.8 lat 36.6 time 1238262509.1 spatial err 6.3km time err 0.3s acceptance rate space 0.240400 time 0.274000"
       ]
      },
      {
       "output_type": "stream",
       "stream": "stdout",
       "text": [
        "\n",
        "step 1800: lon 21.8 lat 36.4 time 1238262509.6 spatial err 13.4km time err 0.2s acceptance rate space 0.248000 time 0.279200"
       ]
      },
      {
       "output_type": "stream",
       "stream": "stdout",
       "text": [
        "\n",
        "step 1850: lon 21.8 lat 36.6 time 1238262509.5 spatial err 6.0km time err 0.1s acceptance rate space 0.256000 time 0.286800"
       ]
      },
      {
       "output_type": "stream",
       "stream": "stdout",
       "text": [
        "\n",
        "step 1900: lon 21.8 lat 36.5 time 1238262509.1 spatial err 6.6km time err 0.3s acceptance rate space 0.261600 time 0.293600"
       ]
      },
      {
       "output_type": "stream",
       "stream": "stdout",
       "text": [
        "\n",
        "step 1950: lon 21.8 lat 36.5 time 1238262509.4 spatial err 3.5km time err 0.1s acceptance rate space 0.266400 time 0.299200"
       ]
      },
      {
       "output_type": "stream",
       "stream": "stdout",
       "text": [
        "\n",
        "step 2000: lon 21.8 lat 36.5 time 1238262509.5 spatial err 5.1km time err 0.0s acceptance rate space 0.274400 time 0.307600"
       ]
      },
      {
       "output_type": "stream",
       "stream": "stdout",
       "text": [
        "\n",
        "step 2050: lon 21.8 lat 36.6 time 1238262509.4 spatial err 5.1km time err 0.0s acceptance rate space 0.280400 time 0.315600"
       ]
      },
      {
       "output_type": "stream",
       "stream": "stdout",
       "text": [
        "\n",
        "step 2100: lon 21.8 lat 36.5 time 1238262509.1 spatial err 8.0km time err 0.3s acceptance rate space 0.288800 time 0.322800"
       ]
      },
      {
       "output_type": "stream",
       "stream": "stdout",
       "text": [
        "\n",
        "step 2150: lon 21.8 lat 36.5 time 1238262509.0 spatial err 7.8km time err 0.4s acceptance rate space 0.295600 time 0.329600"
       ]
      },
      {
       "output_type": "stream",
       "stream": "stdout",
       "text": [
        "\n",
        "step 2200: lon 21.8 lat 36.6 time 1238262508.9 spatial err 6.7km time err 0.5s acceptance rate space 0.303200 time 0.337600"
       ]
      },
      {
       "output_type": "stream",
       "stream": "stdout",
       "text": [
        "\n",
        "step 2250: lon 21.7 lat 36.5 time 1238262509.3 spatial err 11.2km time err 0.2s acceptance rate space 0.309200 time 0.344400"
       ]
      },
      {
       "output_type": "stream",
       "stream": "stdout",
       "text": [
        "\n",
        "step 2300: lon 21.8 lat 36.5 time 1238262509.6 spatial err 4.0km time err 0.2s acceptance rate space 0.316000 time 0.352000"
       ]
      },
      {
       "output_type": "stream",
       "stream": "stdout",
       "text": [
        "\n",
        "step 2350: lon 21.8 lat 36.6 time 1238262509.1 spatial err 11.1km time err 0.3s acceptance rate space 0.322400 time 0.358800"
       ]
      },
      {
       "output_type": "stream",
       "stream": "stdout",
       "text": [
        "\n",
        "step 2400: lon 21.8 lat 36.5 time 1238262508.9 spatial err 1.4km time err 0.5s acceptance rate space 0.328800 time 0.366800"
       ]
      },
      {
       "output_type": "stream",
       "stream": "stdout",
       "text": [
        "\n",
        "step 2450: lon 21.8 lat 36.5 time 1238262508.9 spatial err 8.8km time err 0.5s acceptance rate space 0.336000 time 0.373600"
       ]
      },
      {
       "output_type": "stream",
       "stream": "stdout",
       "text": [
        "\n",
        "true ev:"
       ]
      },
      {
       "output_type": "stream",
       "stream": "stdout",
       "text": [
        " evid None, loc 21.83 E 36.53 N, depth 0.0km, time 1238262509.4, mb 4.0, natural source\n",
        "mean lon 21.80, lat 36.53, time 1238262509.16\n",
        "stds: lon 0.03, lat 0.05, time 0.34\n",
        "mean: spatial err 2.7010km time err 0.2515s\n",
        "first atime"
       ]
      },
      {
       "output_type": "stream",
       "stream": "stdout",
       "text": [
        " 1238262654.14\n",
        "gridsearch: new best ll [-16793.82708149] at (20.0, 30.0, 1238262354.1370809)\n",
        "gridsearch: new best ll [-13187.33352306] at (20.0, 30.0, 1238262369.9265547)\n",
        "gridsearch: new best ll"
       ]
      },
      {
       "output_type": "stream",
       "stream": "stdout",
       "text": [
        " [-10079.45497079] at (20.0, 30.0, 1238262385.7160282)\n",
        "gridsearch: new best ll [-7470.19133083] at (20.0, 30.0, 1238262401.505502)\n",
        "gridsearch: new best ll [-5359.54265386] at (20.0, 30.0, 1238262417.2949758)\n",
        "gridsearch: new best ll"
       ]
      },
      {
       "output_type": "stream",
       "stream": "stdout",
       "text": [
        " [-3747.50896048] at (20.0, 30.0, 1238262433.0844493)\n",
        "gridsearch: new best ll [-2634.09020198] at (20.0, 30.0, 1238262448.8739231)\n",
        "gridsearch: new best ll [-2019.28641201] at (20.0, 30.0, 1238262464.6633966)\n",
        "gridsearch: new best ll"
       ]
      },
      {
       "output_type": "stream",
       "stream": "stdout",
       "text": [
        " [-1903.09757198] at (20.0, 30.0, 1238262480.4528704)\n",
        "gridsearch: new best ll"
       ]
      },
      {
       "output_type": "stream",
       "stream": "stdout",
       "text": [
        " [-1633.86319319] at (20.0, 32.222222222222221, 1238262464.6633966)\n",
        "gridsearch: new best ll [-1165.60511656] at (20.0, 32.222222222222221, 1238262480.4528704)\n",
        "gridsearch: new best ll"
       ]
      },
      {
       "output_type": "stream",
       "stream": "stdout",
       "text": [
        " [-884.7939947] at (20.0, 34.444444444444443, 1238262480.4528704)\n",
        "gridsearch: new best ll [-602.69244809] at (20.0, 34.444444444444443, 1238262496.2423441)\n",
        "gridsearch: new best ll"
       ]
      },
      {
       "output_type": "stream",
       "stream": "stdout",
       "text": [
        " [-547.06049774] at (20.0, 36.666666666666664, 1238262496.2423441)\n",
        "gridsearch: new best ll [-521.32645737] at (20.0, 36.666666666666664, 1238262512.0318177)\n",
        "gridsearch: new best ll"
       ]
      },
      {
       "output_type": "stream",
       "stream": "stdout",
       "text": [
        " [-264.94062929] at (22.222222222222221, 36.666666666666664, 1238262512.0318177)\n",
        "true ev"
       ]
      },
      {
       "output_type": "stream",
       "stream": "stdout",
       "text": [
        " evid None, loc 21.83 E 36.53 N, depth 0.0km, time 1238262509.4, mb 4.0, natural source\n",
        "intialized from grid search: evid None, loc 22.22 E 36.67 N, depth 0.0km, time 1238262512.0, mb 4.0, natural source\n",
        "step 0: lon 22.2 lat 36.7 time 1238262512.0 spatial err 40.4km time err 2.6s acceptance rate space 0.000400 time 0.000000\n",
        "step 50: lon 21.9 lat 36.5 time 1238262509.3 spatial err 1.9km time err 0.2s acceptance rate space 0.006800 time 0.008800"
       ]
      },
      {
       "output_type": "stream",
       "stream": "stdout",
       "text": [
        "\n",
        "step 100: lon 21.8 lat 36.5 time 1238262509.4 spatial err 1.8km time err 0.0s acceptance rate space 0.007200 time 0.018800"
       ]
      },
      {
       "output_type": "stream",
       "stream": "stdout",
       "text": [
        "\n",
        "step 150: lon 21.8 lat 36.5 time 1238262509.0 spatial err 0.2km time err 0.5s acceptance rate space 0.008000 time 0.027200"
       ]
      },
      {
       "output_type": "stream",
       "stream": "stdout",
       "text": [
        "\n",
        "step 200: lon 21.8 lat 36.5 time 1238262508.7 spatial err 1.1km time err 0.7s acceptance rate space 0.008400 time 0.036000"
       ]
      },
      {
       "output_type": "stream",
       "stream": "stdout",
       "text": [
        "\n",
        "step 250: lon 21.8 lat 36.5 time 1238262509.3 spatial err 0.8km time err 0.2s acceptance rate space 0.008800 time 0.043200"
       ]
      },
      {
       "output_type": "stream",
       "stream": "stdout",
       "text": [
        "\n",
        "step 300: lon 21.8 lat 36.5 time 1238262509.2 spatial err 0.8km time err 0.2s acceptance rate space 0.009200 time 0.050400"
       ]
      },
      {
       "output_type": "stream",
       "stream": "stdout",
       "text": [
        "\n",
        "step 350: lon 21.8 lat 36.5 time 1238262508.6 spatial err 0.8km time err 0.8s acceptance rate space 0.009200 time 0.056000"
       ]
      },
      {
       "output_type": "stream",
       "stream": "stdout",
       "text": [
        "\n",
        "step 400: lon 21.8 lat 36.5 time 1238262508.9 spatial err 0.8km time err 0.5s acceptance rate space 0.009200 time 0.062800"
       ]
      },
      {
       "output_type": "stream",
       "stream": "stdout",
       "text": [
        "\n",
        "step 450: lon 21.8 lat 36.5 time 1238262509.4 spatial err 0.8km time err 0.0s acceptance rate space 0.009200 time 0.073200"
       ]
      },
      {
       "output_type": "stream",
       "stream": "stdout",
       "text": [
        "\n",
        "step 500: lon 21.8 lat 36.5 time 1238262509.1 spatial err 0.8km time err 0.3s acceptance rate space 0.009200 time 0.081200"
       ]
      },
      {
       "output_type": "stream",
       "stream": "stdout",
       "text": [
        "\n",
        "step 550: lon 21.8 lat 36.5 time 1238262508.9 spatial err 0.8km time err 0.5s acceptance rate space 0.009200 time 0.087600"
       ]
      },
      {
       "output_type": "stream",
       "stream": "stdout",
       "text": [
        "\n",
        "step 600: lon 21.8 lat 36.5 time 1238262509.4 spatial err 0.8km time err 0.0s acceptance rate space 0.009200 time 0.096800"
       ]
      },
      {
       "output_type": "stream",
       "stream": "stdout",
       "text": [
        "\n",
        "step 650: lon 21.8 lat 36.5 time 1238262508.6 spatial err 0.8km time err 0.8s acceptance rate space 0.009200 time 0.104400"
       ]
      },
      {
       "output_type": "stream",
       "stream": "stdout",
       "text": [
        "\n",
        "step 700: lon 21.8 lat 36.5 time 1238262509.1 spatial err 0.8km time err 0.3s acceptance rate space 0.009200 time 0.112400"
       ]
      },
      {
       "output_type": "stream",
       "stream": "stdout",
       "text": [
        "\n",
        "step 750: lon 21.8 lat 36.5 time 1238262508.9 spatial err 0.8km time err 0.5s acceptance rate space 0.009600 time 0.120800"
       ]
      },
      {
       "output_type": "stream",
       "stream": "stdout",
       "text": [
        "\n",
        "step 800: lon 21.8 lat 36.5 time 1238262509.1 spatial err 1.0km time err 0.3s acceptance rate space 0.010000 time 0.125600"
       ]
      },
      {
       "output_type": "stream",
       "stream": "stdout",
       "text": [
        "\n",
        "step 850: lon 21.8 lat 36.5 time 1238262508.8 spatial err 1.0km time err 0.6s acceptance rate space 0.010000 time 0.132800"
       ]
      },
      {
       "output_type": "stream",
       "stream": "stdout",
       "text": [
        "\n",
        "step 900: lon 21.8 lat 36.5 time 1238262509.1 spatial err 1.6km time err 0.3s acceptance rate space 0.010400 time 0.140800"
       ]
      },
      {
       "output_type": "stream",
       "stream": "stdout",
       "text": [
        "\n",
        "step 950: lon 21.8 lat 36.5 time 1238262508.5 spatial err 1.5km time err 0.9s acceptance rate space 0.010800 time 0.147600"
       ]
      },
      {
       "output_type": "stream",
       "stream": "stdout",
       "text": [
        "\n",
        "step 1000: lon 21.9 lat 36.5 time 1238262508.6 spatial err 1.8km time err 0.8s acceptance rate space 0.011600 time 0.154800"
       ]
      },
      {
       "output_type": "stream",
       "stream": "stdout",
       "text": [
        "\n",
        "step 1050: lon 21.9 lat 36.5 time 1238262509.8 spatial err 1.8km time err 0.4s acceptance rate space 0.011600 time 0.162800"
       ]
      },
      {
       "output_type": "stream",
       "stream": "stdout",
       "text": [
        "\n",
        "step 1100: lon 21.8 lat 36.5 time 1238262509.1 spatial err 0.2km time err 0.3s acceptance rate space 0.012800 time 0.169600"
       ]
      },
      {
       "output_type": "stream",
       "stream": "stdout",
       "text": [
        "\n",
        "step 1150: lon 21.8 lat 36.5 time 1238262509.0 spatial err 0.2km time err 0.4s acceptance rate space 0.012800 time 0.176000"
       ]
      },
      {
       "output_type": "stream",
       "stream": "stdout",
       "text": [
        "\n",
        "step 1200: lon 21.8 lat 36.5 time 1238262508.7 spatial err 0.4km time err 0.7s acceptance rate space 0.013200 time 0.183600"
       ]
      },
      {
       "output_type": "stream",
       "stream": "stdout",
       "text": [
        "\n",
        "step 1250: lon 21.8 lat 36.5 time 1238262509.5 spatial err 0.4km time err 0.1s acceptance rate space 0.013200 time 0.192000"
       ]
      },
      {
       "output_type": "stream",
       "stream": "stdout",
       "text": [
        "\n",
        "step 1300: lon 21.8 lat 36.5 time 1238262509.0 spatial err 0.4km time err 0.4s acceptance rate space 0.013200 time 0.199200"
       ]
      },
      {
       "output_type": "stream",
       "stream": "stdout",
       "text": [
        "\n",
        "step 1350: lon 21.8 lat 36.5 time 1238262509.5 spatial err 0.8km time err 0.1s acceptance rate space 0.014400 time 0.203600"
       ]
      },
      {
       "output_type": "stream",
       "stream": "stdout",
       "text": [
        "\n",
        "step 1400: lon 21.8 lat 36.5 time 1238262509.2 spatial err 0.8km time err 0.2s acceptance rate space 0.014400 time 0.211600"
       ]
      },
      {
       "output_type": "stream",
       "stream": "stdout",
       "text": [
        "\n",
        "step 1450: lon 21.8 lat 36.5 time 1238262509.3 spatial err 1.3km time err 0.1s acceptance rate space 0.014800 time 0.222400"
       ]
      },
      {
       "output_type": "stream",
       "stream": "stdout",
       "text": [
        "\n",
        "step 1500: lon 21.8 lat 36.5 time 1238262508.6 spatial err 1.3km time err 0.9s acceptance rate space 0.014800 time 0.228800"
       ]
      },
      {
       "output_type": "stream",
       "stream": "stdout",
       "text": [
        "\n",
        "step 1550: lon 21.8 lat 36.5 time 1238262508.5 spatial err 0.6km time err 0.9s acceptance rate space 0.015600 time 0.235200"
       ]
      },
      {
       "output_type": "stream",
       "stream": "stdout",
       "text": [
        "\n",
        "step 1600: lon 21.8 lat 36.5 time 1238262508.8 spatial err 1.3km time err 0.6s acceptance rate space 0.016400 time 0.243200"
       ]
      },
      {
       "output_type": "stream",
       "stream": "stdout",
       "text": [
        "\n",
        "step 1650: lon 21.8 lat 36.5 time 1238262509.1 spatial err 0.6km time err 0.3s acceptance rate space 0.017200 time 0.249600"
       ]
      },
      {
       "output_type": "stream",
       "stream": "stdout",
       "text": [
        "\n",
        "step 1700: lon 21.8 lat 36.5 time 1238262509.5 spatial err 0.6km time err 0.1s acceptance rate space 0.017200 time 0.254400"
       ]
      },
      {
       "output_type": "stream",
       "stream": "stdout",
       "text": [
        "\n",
        "step 1750: lon 21.8 lat 36.5 time 1238262509.6 spatial err 0.6km time err 0.2s acceptance rate space 0.017200 time 0.263600"
       ]
      },
      {
       "output_type": "stream",
       "stream": "stdout",
       "text": [
        "\n",
        "step 1800: lon 21.8 lat 36.5 time 1238262509.5 spatial err 0.6km time err 0.1s acceptance rate space 0.017200 time 0.271600"
       ]
      },
      {
       "output_type": "stream",
       "stream": "stdout",
       "text": [
        "\n",
        "step 1850: lon 21.8 lat 36.5 time 1238262509.6 spatial err 0.6km time err 0.2s acceptance rate space 0.017200 time 0.278000"
       ]
      },
      {
       "output_type": "stream",
       "stream": "stdout",
       "text": [
        "\n",
        "step 1900: lon 21.8 lat 36.5 time 1238262509.4 spatial err 0.6km time err 0.0s acceptance rate space 0.017200 time 0.284800"
       ]
      },
      {
       "output_type": "stream",
       "stream": "stdout",
       "text": [
        "\n",
        "step 1950: lon 21.8 lat 36.5 time 1238262508.7 spatial err 1.3km time err 0.7s acceptance rate space 0.018000 time 0.292000"
       ]
      },
      {
       "output_type": "stream",
       "stream": "stdout",
       "text": [
        "\n",
        "step 2000: lon 21.8 lat 36.5 time 1238262509.7 spatial err 1.3km time err 0.3s acceptance rate space 0.018000 time 0.298400"
       ]
      },
      {
       "output_type": "stream",
       "stream": "stdout",
       "text": [
        "\n",
        "step 2050: lon 21.8 lat 36.5 time 1238262509.2 spatial err 0.8km time err 0.2s acceptance rate space 0.018400 time 0.306800"
       ]
      },
      {
       "output_type": "stream",
       "stream": "stdout",
       "text": [
        "\n",
        "step 2100: lon 21.8 lat 36.5 time 1238262509.0 spatial err 0.6km time err 0.4s acceptance rate space 0.019200 time 0.314000"
       ]
      },
      {
       "output_type": "stream",
       "stream": "stdout",
       "text": [
        "\n",
        "step 2150: lon 21.8 lat 36.5 time 1238262509.8 spatial err 0.6km time err 0.3s acceptance rate space 0.019200 time 0.322000"
       ]
      },
      {
       "output_type": "stream",
       "stream": "stdout",
       "text": [
        "\n",
        "step 2200: lon 21.8 lat 36.5 time 1238262509.0 spatial err 0.6km time err 0.4s acceptance rate space 0.019200 time 0.330800"
       ]
      },
      {
       "output_type": "stream",
       "stream": "stdout",
       "text": [
        "\n",
        "step 2250: lon 21.8 lat 36.5 time 1238262509.8 spatial err 0.8km time err 0.4s acceptance rate space 0.019600 time 0.338800"
       ]
      },
      {
       "output_type": "stream",
       "stream": "stdout",
       "text": [
        "\n",
        "step 2300: lon 21.8 lat 36.5 time 1238262508.7 spatial err 0.8km time err 0.7s acceptance rate space 0.020000 time 0.347200"
       ]
      },
      {
       "output_type": "stream",
       "stream": "stdout",
       "text": [
        "\n",
        "step 2350: lon 21.8 lat 36.5 time 1238262509.3 spatial err 0.8km time err 0.1s acceptance rate space 0.020000 time 0.356400"
       ]
      },
      {
       "output_type": "stream",
       "stream": "stdout",
       "text": [
        "\n",
        "step 2400: lon 21.8 lat 36.5 time 1238262508.9 spatial err 0.8km time err 0.5s acceptance rate space 0.020000 time 0.364400"
       ]
      },
      {
       "output_type": "stream",
       "stream": "stdout",
       "text": [
        "\n",
        "step 2450: lon 21.8 lat 36.5 time 1238262508.4 spatial err 0.8km time err 1.0s acceptance rate space 0.020000 time 0.375200"
       ]
      },
      {
       "output_type": "stream",
       "stream": "stdout",
       "text": [
        "\n",
        "true ev:"
       ]
      },
      {
       "output_type": "stream",
       "stream": "stdout",
       "text": [
        " evid None, loc 21.83 E 36.53 N, depth 0.0km, time 1238262509.4, mb 4.0, natural source\n",
        "mean lon 21.84, lat 36.52, time 1238262509.13\n",
        "stds: lon 0.01, lat 0.00, time 0.37\n",
        "mean: spatial err 0.6004km time err 0.2796s\n"
       ]
      },
      {
       "metadata": {},
       "output_type": "display_data",
       "png": "[encoded data removed]",
       "text": [
        "<matplotlib.figure.Figure at 0x16673910>"
       ]
      },
      {
       "metadata": {},
       "output_type": "display_data",
       "png": "[encoded data removed]",
       "text": [
        "<matplotlib.figure.Figure at 0x415fa10>"
       ]
      },
      {
       "metadata": {},
       "output_type": "display_data",
       "png": "[encoded data removed]",
       "text": [
        "<matplotlib.figure.Figure at 0x1a8a3110>"
       ]
      }
     ],
     "prompt_number": 17
    },
    {
     "cell_type": "code",
     "collapsed": false,
     "input": [],
     "language": "python",
     "metadata": {},
     "outputs": []
    },
    {
     "cell_type": "code",
     "collapsed": false,
     "input": [
      "X_events = select_events(train=True)\n",
      "ys = sample_synthetic_data(stas, [], X_events)\n",
      "all_gps = train_all_gps(X_events, ys)"
     ],
     "language": "python",
     "metadata": {},
     "outputs": [],
     "prompt_number": 4
    },
    {
     "cell_type": "code",
     "collapsed": false,
     "input": [
      "X_test = select_events(train=False)\n",
      "np.save('X_test.npy', X_test)\n",
      "#ev = gen_test_ev(X_test[3,:])\n",
      "#test_ys = sample_test_values(ev, all_gps)"
     ],
     "language": "python",
     "metadata": {},
     "outputs": [],
     "prompt_number": 3
    },
    {
     "cell_type": "code",
     "collapsed": false,
     "input": [
      "test_neighbors(X_events, X_test)"
     ],
     "language": "python",
     "metadata": {},
     "outputs": [
      {
       "output_type": "stream",
       "stream": "stdout",
       "text": [
        "[  2.90624730e+01   3.79373480e+01   0.00000000e+00   1.23768320e+09\n",
        "   5.26977000e+06] : neighbors within\n",
        "5km: 0.000000\n",
        "15km: 0.000000\n",
        "30km: 0.000000\n",
        "100km: 2.000000\n",
        "200km: 9.000000\n",
        "1000km: 192.000000\n",
        "[  3.88287720e+01   3.75575170e+01   0.00000000e+00   1.23768911e+09\n",
        "   5.28808400e+06] : neighbors within\n",
        "5km: 0.000000\n",
        "15km: 0.000000\n",
        "30km: 0.000000\n",
        "100km: 0.000000\n",
        "200km: 1.000000\n",
        "1000km: 41.000000\n",
        "[  3.74415850e+01   4.47968830e+01   0.00000000e+00   1.23777639e+09\n",
        "   5.27230800e+06] : neighbors within\n",
        "5km: 0.000000\n",
        "15km: 0.000000\n",
        "30km: 0.000000\n",
        "100km: 0.000000\n",
        "200km: 0.000000\n",
        "1000km: 18.000000\n",
        "[  2.10773420e+01   3.79410410e+01   0.00000000e+00   1.23779108e+09\n",
        "   5.27323300e+06] : neighbors within\n",
        "5km: 0.000000\n",
        "15km: 1.000000\n",
        "30km: 4.000000\n",
        "100km: 22.000000\n",
        "200km: 51.000000\n",
        "1000km: 180.000000\n",
        "[  2.19348310e+01   3.85143460e+01   0.00000000e+00   1.23793852e+09\n",
        "   5.27678200e+06] : neighbors within\n",
        "5km: 0.000000\n",
        "15km: 1.000000\n",
        "30km: 3.000000\n",
        "100km: 19.000000\n",
        "200km: 42.000000\n",
        "1000km: 180.000000\n",
        "[  2.34469380e+01   3.53449030e+01   0.00000000e+00   1.23820984e+09\n",
        "   5.28380400e+06] : neighbors within\n",
        "5km: 0.000000\n",
        "15km: 1.000000\n",
        "30km: 4.000000\n",
        "100km: 15.000000\n",
        "200km: 43.000000\n",
        "1000km: 179.000000\n",
        "[  2.18344620e+01   3.65285850e+01   0.00000000e+00   1.23826251e+09\n",
        "   5.29608200e+06] : neighbors within\n",
        "5km: 4.000000\n",
        "15km: 9.000000\n",
        "30km: 12.000000\n",
        "100km: 19.000000\n",
        "200km: 45.000000\n",
        "1000km: 178.000000\n"
       ]
      }
     ],
     "prompt_number": 15
    },
    {
     "cell_type": "code",
     "collapsed": false,
     "input": [
      "ev_mcmc, samples = run_MH(test_ys, all_gps, ev)"
     ],
     "language": "python",
     "metadata": {},
     "outputs": [
      {
       "output_type": "stream",
       "stream": "stdout",
       "text": [
        "first atime 1237791222.37\n",
        "gridsearch: new best ll [-17570.20686312] at (20.0, 30.0, 1237790922.3679421)\n",
        "gridsearch: new best ll [-13953.26138173] at (20.0, 30.0, 1237790938.1574159)\n",
        "gridsearch: new best ll [-10834.93090666] at (20.0, 30.0, 1237790953.9468894)\n",
        "gridsearch: new best ll [-8215.21534374] at (20.0, 30.0, 1237790969.7363632)\n",
        "gridsearch: new best ll [-6094.11474382] at (20.0, 30.0, 1237790985.5258369)\n",
        "gridsearch: new best ll [-4471.62912764] at (20.0, 30.0, 1237791001.3153105)\n",
        "gridsearch: new best ll [-3347.75844619] at (20.0, 30.0, 1237791017.1047843)\n",
        "gridsearch: new best ll [-2722.50273341] at (20.0, 30.0, 1237791032.8942578)\n",
        "gridsearch: new best ll [-2595.86197043] at (20.0, 30.0, 1237791048.6837316)\n",
        "gridsearch: new best ll"
       ]
      },
      {
       "output_type": "stream",
       "stream": "stdout",
       "text": [
        " [-2070.0138487] at (20.0, 32.222222222222221, 1237791032.8942578)\n",
        "gridsearch: new best ll [-1591.30384911] at (20.0, 32.222222222222221, 1237791048.6837316)\n",
        "gridsearch: new best ll [-984.36843937] at (20.0, 34.444444444444443, 1237791048.6837316)\n",
        "gridsearch: new best ll"
       ]
      },
      {
       "output_type": "stream",
       "stream": "stdout",
       "text": [
        " [-691.82126365] at (20.0, 34.444444444444443, 1237791064.4732053)\n",
        "gridsearch: new best ll [-235.82722541] at (20.0, 36.666666666666664, 1237791064.4732053)\n",
        "gridsearch: new best ll"
       ]
      },
      {
       "output_type": "stream",
       "stream": "stdout",
       "text": [
        " [-201.82526076] at (20.0, 36.666666666666664, 1237791080.2626789)\n",
        "gridsearch: new best ll [-162.37371362] at (20.0, 38.888888888888886, 1237791080.2626789)\n",
        "true ev"
       ]
      },
      {
       "output_type": "stream",
       "stream": "stdout",
       "text": [
        " evid None, loc 21.08 E 37.94 N, depth 0.0km, time 1237791080.4, mb 4.0, natural source\n",
        "intialized from grid search: evid None, loc 20.00 E 38.89 N, depth 0.0km, time 1237791080.3, mb 4.0, natural source\n",
        "step 0: lon 20.0 lat 38.9 time 1237791080.3 spatial err 141.1km time err 0.2s acceptance rate space 0.000000 time 0.000000\n",
        "step 50: lon 20.0 lat 38.2 time 1237791077.6 spatial err 100.6km time err 2.8s acceptance rate space 0.022500 time 0.020833"
       ]
      },
      {
       "output_type": "stream",
       "stream": "stdout",
       "text": [
        "\n",
        "step 100: lon 20.2 lat 38.2 time 1237791077.3 spatial err 84.0km time err 3.1s acceptance rate space 0.046667 time 0.040833"
       ]
      },
      {
       "output_type": "stream",
       "stream": "stdout",
       "text": [
        "\n",
        "step 150: lon 20.1 lat 37.7 time 1237791076.4 spatial err 92.3km time err 4.1s acceptance rate space 0.071667 time 0.060833"
       ]
      },
      {
       "output_type": "stream",
       "stream": "stdout",
       "text": [
        "\n",
        "step 200: lon 20.8 lat 37.8 time 1237791080.2 spatial err 29.8km time err 0.2s acceptance rate space 0.095833 time 0.084167"
       ]
      },
      {
       "output_type": "stream",
       "stream": "stdout",
       "text": [
        "\n",
        "step 250: lon 21.0 lat 38.0 time 1237791080.4 spatial err 10.2km time err 0.1s acceptance rate space 0.116667 time 0.102500"
       ]
      },
      {
       "output_type": "stream",
       "stream": "stdout",
       "text": [
        "\n",
        "step 300: lon 21.1 lat 38.0 time 1237791080.0 spatial err 5.0km time err 0.5s acceptance rate space 0.135833 time 0.121667"
       ]
      },
      {
       "output_type": "stream",
       "stream": "stdout",
       "text": [
        "\n",
        "step 350: lon 21.0 lat 37.9 time 1237791079.9 spatial err 11.4km time err 0.5s acceptance rate space 0.150833 time 0.134167"
       ]
      },
      {
       "output_type": "stream",
       "stream": "stdout",
       "text": [
        "\n",
        "step 400: lon 21.1 lat 38.0 time 1237791080.1 spatial err 7.7km time err 0.3s acceptance rate space 0.169167 time 0.151667"
       ]
      },
      {
       "output_type": "stream",
       "stream": "stdout",
       "text": [
        "\n",
        "step 450: lon 21.0 lat 38.0 time 1237791079.5 spatial err 12.5km time err 0.9s acceptance rate space 0.186667 time 0.168333"
       ]
      },
      {
       "output_type": "stream",
       "stream": "stdout",
       "text": [
        "\n",
        "step 500: lon 21.0 lat 37.9 time 1237791079.8 spatial err 9.5km time err 0.6s acceptance rate space 0.209167 time 0.182500"
       ]
      },
      {
       "output_type": "stream",
       "stream": "stdout",
       "text": [
        "\n",
        "step 550: lon 21.1 lat 38.0 time 1237791080.6 spatial err 6.2km time err 0.2s acceptance rate space 0.229167 time 0.197500"
       ]
      },
      {
       "output_type": "stream",
       "stream": "stdout",
       "text": [
        "\n",
        "step 600: lon 21.0 lat 37.9 time 1237791079.4 spatial err 10.6km time err 1.0s acceptance rate space 0.247500 time 0.212500"
       ]
      },
      {
       "output_type": "stream",
       "stream": "stdout",
       "text": [
        "\n",
        "step 650: lon 21.0 lat 38.0 time 1237791080.1 spatial err 6.6km time err 0.3s acceptance rate space 0.268333 time 0.227500"
       ]
      },
      {
       "output_type": "stream",
       "stream": "stdout",
       "text": [
        "\n",
        "step 700: lon 21.0 lat 37.9 time 1237791079.9 spatial err 3.0km time err 0.5s acceptance rate space 0.286667 time 0.250000"
       ]
      },
      {
       "output_type": "stream",
       "stream": "stdout",
       "text": [
        "\n",
        "step 750: lon 21.1 lat 38.0 time 1237791080.4 spatial err 4.2km time err 0.0s acceptance rate space 0.305833 time 0.265833"
       ]
      },
      {
       "output_type": "stream",
       "stream": "stdout",
       "text": [
        "\n",
        "step 800: lon 21.1 lat 38.0 time 1237791080.1 spatial err 3.0km time err 0.3s acceptance rate space 0.323333 time 0.281667"
       ]
      },
      {
       "output_type": "stream",
       "stream": "stdout",
       "text": [
        "\n",
        "step 850: lon 21.0 lat 37.9 time 1237791079.6 spatial err 10.9km time err 0.9s acceptance rate space 0.339167 time 0.296667"
       ]
      },
      {
       "output_type": "stream",
       "stream": "stdout",
       "text": [
        "\n",
        "step 900: lon 21.1 lat 38.0 time 1237791080.6 spatial err 10.7km time err 0.1s acceptance rate space 0.359167 time 0.318333"
       ]
      },
      {
       "output_type": "stream",
       "stream": "stdout",
       "text": [
        "\n",
        "step 950: lon 21.0 lat 37.9 time 1237791079.9 spatial err 11.2km time err 0.6s acceptance rate space 0.379167 time 0.337500"
       ]
      },
      {
       "output_type": "stream",
       "stream": "stdout",
       "text": [
        "\n",
        "step 1000: lon 21.1 lat 38.0 time 1237791080.4 spatial err 3.2km time err 0.0s acceptance rate space 0.396667 time 0.353333"
       ]
      },
      {
       "output_type": "stream",
       "stream": "stdout",
       "text": [
        "\n",
        "step 1050: lon 21.0 lat 37.9 time 1237791079.9 spatial err 6.9km time err 0.5s acceptance rate space 0.409167 time 0.365000"
       ]
      },
      {
       "output_type": "stream",
       "stream": "stdout",
       "text": [
        "\n",
        "step 1100: lon 21.0 lat 38.0 time 1237791079.7 spatial err 5.6km time err 0.7s acceptance rate space 0.430833 time 0.386667"
       ]
      },
      {
       "output_type": "stream",
       "stream": "stdout",
       "text": [
        "\n",
        "step 1150: lon 21.0 lat 37.9 time 1237791079.7 spatial err 10.3km time err 0.7s acceptance rate space 0.443333 time 0.405000"
       ]
      },
      {
       "output_type": "stream",
       "stream": "stdout",
       "text": [
        "\n"
       ]
      }
     ],
     "prompt_number": 58
    },
    {
     "cell_type": "code",
     "collapsed": false,
     "input": [
      "fig = plt.figure(figsize=(10, 10))\n",
      "ax = fig.add_subplot(1,1,1)\n",
      "plot_posterior(ax, stas, ev, samples[1:,:], width_deg=2.0)"
     ],
     "language": "python",
     "metadata": {},
     "outputs": [
      {
       "output_type": "stream",
       "stream": "stdout",
       "text": [
        "true ev: evid None, loc 21.08 E 37.94 N, depth 0.0km, time 1237791080.4, mb 4.0, natural source\n",
        "mean lon 21.04, lat 37.96, time 1237791080.25\n",
        "stds: lon 0.05, lat 0.05, time 0.42\n",
        "mean: spatial err 4.3577km time err 0.1801s\n"
       ]
      },
      {
       "metadata": {},
       "output_type": "display_data",
       "png": "[encoded data removed]",
       "text": [
        "<matplotlib.figure.Figure at 0x6ecf150>"
       ]
      }
     ],
     "prompt_number": 63
    },
    {
     "cell_type": "code",
     "collapsed": false,
     "input": [
      "print samples[1,:]"
     ],
     "language": "python",
     "metadata": {},
     "outputs": [
      {
       "output_type": "stream",
       "stream": "stdout",
       "text": [
        "[  2.08246590e+01   3.78557239e+01   1.23779108e+09]\n"
       ]
      }
     ],
     "prompt_number": 62
    },
    {
     "cell_type": "code",
     "collapsed": false,
     "input": [
      "true_lon = ev.lon\n",
      "fig = plt.figure(figsize=(10, 10))\n",
      "ax = fig.add_subplot(1,1,1)\n",
      "plot_heat(ax, stas, ev, test_ys, all_gps, logscale=True, n=30)"
     ],
     "language": "python",
     "metadata": {},
     "outputs": [
      {
       "output_type": "stream",
       "stream": "stdout",
       "text": [
        "computed (20.00, 30.00) = -4006.466038\n",
        "computed (20.00, 30.69) = -3409.662475\n",
        "computed (20.00, 31.38) = -2872.683520\n",
        "computed (20.00, 32.07) = -2341.072712\n",
        "computed (20.00, 32.76) = -1879.585625\n",
        "computed (20.00, 33.45) = -1475.030644\n",
        "computed (20.00, 34.14) = -1112.512537\n",
        "computed (20.00, 34.83) = -791.192916\n",
        "computed (20.00, 35.52) = -579.226102\n",
        "computed (20.00, 36.21) = -356.807003\n",
        "computed (20.00, 36.90) = -219.058217\n",
        "computed (20.00, 37.59) = -159.043851\n",
        "computed (20.00, 38.28) = -179.413143"
       ]
      },
      {
       "output_type": "stream",
       "stream": "stdout",
       "text": [
        "\n",
        "computed (20.00, 38.97) = -224.321666\n",
        "computed (20.00, 39.66) = -406.097642\n",
        "computed (20.00, 40.34) = -576.852217\n",
        "computed (20.00, 41.03) = -1930.958467\n",
        "computed (20.00, 41.72) = -1184.631910\n",
        "computed (20.00, 42.41) = -2283.064774\n",
        "computed (20.00, 43.10) = -2362.774652\n",
        "computed (20.00, 43.79) = -2565.221501\n",
        "computed (20.00, 44.48) = -3178.463337\n",
        "computed (20.00, 45.17) = -3861.361368\n",
        "computed (20.00, 45.86) = -4554.301848\n",
        "computed (20.00, 46.55) = -5343.172032"
       ]
      },
      {
       "output_type": "stream",
       "stream": "stdout",
       "text": [
        "\n",
        "computed (20.00, 47.24) = -6107.361281\n",
        "computed (20.00, 47.93) = -6892.774145\n",
        "computed (20.00, 48.62) = -7639.222411\n",
        "computed (20.00, 49.31) = -8294.219195\n",
        "computed (20.00, 50.00) = -8940.471559\n",
        "computed (20.69, 30.00) = -3897.516714\n",
        "computed (20.69, 30.69) = -3316.895252\n",
        "computed (20.69, 31.38) = -2797.033918\n",
        "computed (20.69, 32.07) = -2268.404087\n",
        "computed (20.69, 32.76) = -1813.293400\n",
        "computed (20.69, 33.45) = -1429.298988"
       ]
      },
      {
       "output_type": "stream",
       "stream": "stdout",
       "text": [
        "\n",
        "computed (20.69, 34.14) = -1037.650970\n",
        "computed (20.69, 34.83) = -741.959954\n",
        "computed (20.69, 35.52) = -769.705973\n",
        "computed (20.69, 36.21) = -352.552959\n",
        "computed (20.69, 36.90) = -182.995096\n",
        "computed (20.69, 37.59) = -93.894088\n",
        "computed (20.69, 38.28) = -102.012785\n",
        "computed (20.69, 38.97) = -279.028960\n",
        "computed (20.69, 39.66) = -611.649281\n",
        "computed (20.69, 40.34) = -596.723931\n",
        "computed (20.69, 41.03) = -1023.716292\n",
        "computed (20.69, 41.72) = -1056.490616"
       ]
      },
      {
       "output_type": "stream",
       "stream": "stdout",
       "text": [
        "\n",
        "computed (20.69, 42.41) = -1728.015465\n",
        "computed (20.69, 43.10) = -2067.114161\n",
        "computed (20.69, 43.79) = -2408.538089\n",
        "computed (20.69, 44.48) = -3031.097028\n",
        "computed (20.69, 45.17) = -3670.452398\n",
        "computed (20.69, 45.86) = -4394.988598\n",
        "computed (20.69, 46.55) = -5116.158850\n",
        "computed (20.69, 47.24) = -5895.620519\n",
        "computed (20.69, 47.93) = -6642.207566\n",
        "computed (20.69, 48.62) = -7409.210905\n",
        "computed (20.69, 49.31) = -8103.754644\n",
        "computed (20.69, 50.00) = -8730.461408"
       ]
      },
      {
       "output_type": "stream",
       "stream": "stdout",
       "text": [
        "\n",
        "computed (21.38, 30.00) = -3866.413869\n",
        "computed (21.38, 30.69) = -3310.155398\n",
        "computed (21.38, 31.38) = -2789.312385\n",
        "computed (21.38, 32.07) = -2260.200673\n",
        "computed (21.38, 32.76) = -1842.180231\n",
        "computed (21.38, 33.45) = -1426.586829\n",
        "computed (21.38, 34.14) = -1052.767474\n",
        "computed (21.38, 34.83) = -748.393803\n",
        "computed (21.38, 35.52) = -528.086469\n",
        "computed (21.38, 36.21) = -634.996969\n",
        "computed (21.38, 36.90) = -251.393578"
       ]
      },
      {
       "output_type": "stream",
       "stream": "stdout",
       "text": [
        "\n",
        "computed (21.38, 37.59) = -109.359322\n",
        "computed (21.38, 38.28) = -63.135450\n",
        "computed (21.38, 38.97) = -232.884144\n",
        "computed (21.38, 39.66) = -232.350605\n",
        "computed (21.38, 40.34) = -617.120777\n",
        "computed (21.38, 41.03) = -719.525297\n",
        "computed (21.38, 41.72) = -1126.464483\n",
        "computed (21.38, 42.41) = -1379.462286\n",
        "computed (21.38, 43.10) = -1790.313004\n",
        "computed (21.38, 43.79) = -2313.243991\n",
        "computed (21.38, 44.48) = -2903.323525\n",
        "computed (21.38, 45.17) = -3541.324359"
       ]
      },
      {
       "output_type": "stream",
       "stream": "stdout",
       "text": [
        "\n",
        "computed (21.38, 45.86) = -4211.660412\n",
        "computed (21.38, 46.55) = -4966.496359\n",
        "computed (21.38, 47.24) = -5684.500376\n",
        "computed (21.38, 47.93) = -6462.588193\n",
        "computed (21.38, 48.62) = -7138.446067\n",
        "computed (21.38, 49.31) = -7839.632897\n",
        "computed (21.38, 50.00) = -8460.475740\n",
        "computed (22.07, 30.00) = -3899.245754\n",
        "computed (22.07, 30.69) = -3365.787594\n",
        "computed (22.07, 31.38) = -2830.782958\n",
        "computed (22.07, 32.07) = -2352.211654\n",
        "computed (22.07, 32.76) = -3042.093842"
       ]
      },
      {
       "output_type": "stream",
       "stream": "stdout",
       "text": [
        "\n",
        "computed (22.07, 33.45) = -1631.239545\n",
        "computed (22.07, 34.14) = -1136.489969\n",
        "computed (22.07, 34.83) = -841.932971\n",
        "computed (22.07, 35.52) = -655.318582\n",
        "computed (22.07, 36.21) = -1045.362173\n",
        "computed (22.07, 36.90) = -367.114624\n",
        "computed (22.07, 37.59) = -269.939983\n",
        "computed (22.07, 38.28) = -243.299621\n",
        "computed (22.07, 38.97) = -346.406168\n",
        "computed (22.07, 39.66) = -233.533861\n",
        "computed (22.07, 40.34) = -406.920373"
       ]
      },
      {
       "output_type": "stream",
       "stream": "stdout",
       "text": [
        "\n",
        "computed (22.07, 41.03) = -905.499005\n",
        "computed (22.07, 41.72) = -3227.206983\n",
        "computed (22.07, 42.41) = -1486.173393\n",
        "computed (22.07, 43.10) = -1720.888574\n",
        "computed (22.07, 43.79) = -2252.472851\n",
        "computed (22.07, 44.48) = -2799.257702\n",
        "computed (22.07, 45.17) = -3432.465311\n",
        "computed (22.07, 45.86) = -4103.215337\n",
        "computed (22.07, 46.55) = -4794.102448\n",
        "computed (22.07, 47.24) = -5547.693258\n",
        "computed (22.07, 47.93) = -6284.185596\n",
        "computed (22.07, 48.62) = -7001.980637"
       ]
      },
      {
       "output_type": "stream",
       "stream": "stdout",
       "text": [
        "\n",
        "computed (22.07, 49.31) = -7710.301057\n",
        "computed (22.07, 50.00) = -8367.654821\n",
        "computed (22.76, 30.00) = -4035.901658\n",
        "computed (22.76, 30.69) = -3478.211580\n",
        "computed (22.76, 31.38) = -2962.069942\n",
        "computed (22.76, 32.07) = -2503.820587\n",
        "computed (22.76, 32.76) = -2549.615105\n",
        "computed (22.76, 33.45) = -1707.757398\n",
        "computed (22.76, 34.14) = -1356.064220\n",
        "computed (22.76, 34.83) = -1766.207629\n",
        "computed (22.76, 35.52) = -1954.706923\n",
        "computed (22.76, 36.21) = -981.798225"
       ]
      },
      {
       "output_type": "stream",
       "stream": "stdout",
       "text": [
        "\n",
        "computed (22.76, 36.90) = -625.691649\n",
        "computed (22.76, 37.59) = -701.211656\n",
        "computed (22.76, 38.28) = -594.546761\n",
        "computed (22.76, 38.97) = -555.129438\n",
        "computed (22.76, 39.66) = -304.571807\n",
        "computed (22.76, 40.34) = -452.734083\n",
        "computed (22.76, 41.03) = -2267.190953\n",
        "computed (22.76, 41.72) = -1629.657484\n",
        "computed (22.76, 42.41) = -1343.097889\n",
        "computed (22.76, 43.10) = -1721.355553\n",
        "computed (22.76, 43.79) = -2191.396919"
       ]
      },
      {
       "output_type": "stream",
       "stream": "stdout",
       "text": [
        "\n",
        "computed (22.76, 44.48) = -2759.126189\n",
        "computed (22.76, 45.17) = -3342.611223\n",
        "computed (22.76, 45.86) = -4018.663527\n",
        "computed (22.76, 46.55) = -4688.281211\n",
        "computed (22.76, 47.24) = -5434.874870\n",
        "computed (22.76, 47.93) = -6108.297292\n",
        "computed (22.76, 48.62) = -6872.560729\n",
        "computed (22.76, 49.31) = -7539.858655\n",
        "computed (22.76, 50.00) = -8197.482785\n",
        "computed (23.45, 30.00) = -4222.088988\n",
        "computed (23.45, 30.69) = -3660.882468\n",
        "computed (23.45, 31.38) = -3143.975020"
       ]
      },
      {
       "output_type": "stream",
       "stream": "stdout",
       "text": [
        "\n",
        "computed (23.45, 32.07) = -2714.059926\n",
        "computed (23.45, 32.76) = -2264.113471\n",
        "computed (23.45, 33.45) = -1861.036319\n",
        "computed (23.45, 34.14) = -2292.388286\n",
        "computed (23.45, 34.83) = -3788.985991\n",
        "computed (23.45, 35.52) = -2208.952455\n",
        "computed (23.45, 36.21) = -716.244153\n",
        "computed (23.45, 36.90) = -603.576257\n",
        "computed (23.45, 37.59) = -484.938106\n",
        "computed (23.45, 38.28) = -450.525329\n",
        "computed (23.45, 38.97) = -658.786767\n",
        "computed (23.45, 39.66) = -462.898219"
       ]
      },
      {
       "output_type": "stream",
       "stream": "stdout",
       "text": [
        "\n",
        "computed (23.45, 40.34) = -550.460860\n",
        "computed (23.45, 41.03) = -979.279413\n",
        "computed (23.45, 41.72) = -2283.223604\n",
        "computed (23.45, 42.41) = -1339.023615\n",
        "computed (23.45, 43.10) = -1749.597252\n",
        "computed (23.45, 43.79) = -2185.628604\n",
        "computed (23.45, 44.48) = -2718.465261\n",
        "computed (23.45, 45.17) = -3315.636411\n",
        "computed (23.45, 45.86) = -3932.446040\n",
        "computed (23.45, 46.55) = -4652.568090\n",
        "computed (23.45, 47.24) = -5304.009765\n",
        "computed (23.45, 47.93) = -6091.662318"
       ]
      },
      {
       "output_type": "stream",
       "stream": "stdout",
       "text": [
        "\n",
        "computed (23.45, 48.62) = -6769.725280\n",
        "computed (23.45, 49.31) = -7485.778795\n",
        "computed (23.45, 50.00) = -8176.303231\n",
        "computed (24.14, 30.00) = -4455.232688\n",
        "computed (24.14, 30.69) = -3920.245027\n",
        "computed (24.14, 31.38) = -3452.859217\n",
        "computed (24.14, 32.07) = -3003.463580\n",
        "computed (24.14, 32.76) = -2559.584510\n",
        "computed (24.14, 33.45) = -2161.292208\n",
        "computed (24.14, 34.14) = -2632.388604\n",
        "computed (24.14, 34.83) = -2885.505748\n",
        "computed (24.14, 35.52) = -1899.931038"
       ]
      },
      {
       "output_type": "stream",
       "stream": "stdout",
       "text": [
        "\n",
        "computed (24.14, 36.21) = -1198.518250\n",
        "computed (24.14, 36.90) = -999.750038\n",
        "computed (24.14, 37.59) = -634.826144\n",
        "computed (24.14, 38.28) = -569.683804\n",
        "computed (24.14, 38.97) = -771.394110\n",
        "computed (24.14, 39.66) = -762.879021\n",
        "computed (24.14, 40.34) = -690.828608\n",
        "computed (24.14, 41.03) = -885.239015\n",
        "computed (24.14, 41.72) = -1502.657517\n",
        "computed (24.14, 42.41) = -1441.543759\n",
        "computed (24.14, 43.10) = -1770.266260\n",
        "computed (24.14, 43.79) = -2236.548237"
       ]
      },
      {
       "output_type": "stream",
       "stream": "stdout",
       "text": [
        "\n",
        "computed (24.14, 44.48) = -2717.546074\n",
        "computed (24.14, 45.17) = -3299.603393\n",
        "computed (24.14, 45.86) = -3925.458483\n",
        "computed (24.14, 46.55) = -4585.012516\n",
        "computed (24.14, 47.24) = -5282.614139\n",
        "computed (24.14, 47.93) = -5996.257440\n",
        "computed (24.14, 48.62) = -6722.645421\n",
        "computed (24.14, 49.31) = -7452.152769\n",
        "computed (24.14, 50.00) = -8126.119663\n",
        "computed (24.83, 30.00) = -4787.707078\n",
        "computed (24.83, 30.69) = -4267.929066\n",
        "computed (24.83, 31.38) = -3780.171957"
       ]
      },
      {
       "output_type": "stream",
       "stream": "stdout",
       "text": [
        "\n",
        "computed (24.83, 32.07) = -3323.258750\n",
        "computed (24.83, 32.76) = -2917.673859\n",
        "computed (24.83, 33.45) = -2524.975036\n",
        "computed (24.83, 34.14) = -4820.398238\n",
        "computed (24.83, 34.83) = -3729.215648\n",
        "computed (24.83, 35.52) = -1609.700253\n",
        "computed (24.83, 36.21) = -1397.591262\n",
        "computed (24.83, 36.90) = -1910.930792\n",
        "computed (24.83, 37.59) = -920.596188\n",
        "computed (24.83, 38.28) = -847.191911\n",
        "computed (24.83, 38.97) = -2100.019271\n",
        "computed (24.83, 39.66) = -836.346281"
       ]
      },
      {
       "output_type": "stream",
       "stream": "stdout",
       "text": [
        "\n",
        "computed (24.83, 40.34) = -905.326458\n",
        "computed (24.83, 41.03) = -1037.283775\n",
        "computed (24.83, 41.72) = -1258.573029\n",
        "computed (24.83, 42.41) = -1525.851856\n",
        "computed (24.83, 43.10) = -1871.658077\n",
        "computed (24.83, 43.79) = -2305.323655\n",
        "computed (24.83, 44.48) = -2776.157970\n",
        "computed (24.83, 45.17) = -3322.321749\n",
        "computed (24.83, 45.86) = -3951.871374\n",
        "computed (24.83, 46.55) = -4549.956923\n",
        "computed (24.83, 47.24) = -5296.946617\n",
        "computed (24.83, 47.93) = -5963.248878"
       ]
      },
      {
       "output_type": "stream",
       "stream": "stdout",
       "text": [
        "\n",
        "computed (24.83, 48.62) = -6724.351614\n",
        "computed (24.83, 49.31) = -7424.806570\n",
        "computed (24.83, 50.00) = -8142.469338\n",
        "computed (25.52, 30.00) = -5127.951096\n",
        "computed (25.52, 30.69) = -4674.212134\n",
        "computed (25.52, 31.38) = -4211.120483\n",
        "computed (25.52, 32.07) = -3760.293325\n",
        "computed (25.52, 32.76) = -3338.402406\n",
        "computed (25.52, 33.45) = -3372.793911\n",
        "computed (25.52, 34.14) = -5545.666588\n",
        "computed (25.52, 34.83) = -8032.238301\n",
        "computed (25.52, 35.52) = -2475.290827"
       ]
      },
      {
       "output_type": "stream",
       "stream": "stdout",
       "text": [
        "\n",
        "computed (25.52, 36.21) = -1668.678267\n",
        "computed (25.52, 36.90) = -1551.201665\n",
        "computed (25.52, 37.59) = -1532.090317\n",
        "computed (25.52, 38.28) = -1154.502989\n",
        "computed (25.52, 38.97) = -1195.895521\n",
        "computed (25.52, 39.66) = -1078.215343\n",
        "computed (25.52, 40.34) = -1135.964375\n",
        "computed (25.52, 41.03) = -1242.322357\n",
        "computed (25.52, 41.72) = -1439.694306\n",
        "computed (25.52, 42.41) = -1699.738770\n",
        "computed (25.52, 43.10) = -2006.024391\n",
        "computed (25.52, 43.79) = -2375.727082"
       ]
      },
      {
       "output_type": "stream",
       "stream": "stdout",
       "text": [
        "\n",
        "computed (25.52, 44.48) = -2872.120480\n",
        "computed (25.52, 45.17) = -3617.460952\n",
        "computed (25.52, 45.86) = -4578.415835\n",
        "computed (25.52, 46.55) = -4645.489412\n",
        "computed (25.52, 47.24) = -5260.193376\n",
        "computed (25.52, 47.93) = -6015.333177\n",
        "computed (25.52, 48.62) = -6730.938781\n",
        "computed (25.52, 49.31) = -7521.679059\n",
        "computed (25.52, 50.00) = -8172.772115\n",
        "computed (26.21, 30.00) = -5623.212943\n",
        "computed (26.21, 30.69) = -5144.025084\n",
        "computed (26.21, 31.38) = -4675.397367"
       ]
      },
      {
       "output_type": "stream",
       "stream": "stdout",
       "text": [
        "\n",
        "computed (26.21, 32.07) = -4247.576738\n",
        "computed (26.21, 32.76) = -3832.549220\n",
        "computed (26.21, 33.45) = -4961.969823\n",
        "computed (26.21, 34.14) = -6103.908181\n",
        "computed (26.21, 34.83) = -8687.340874\n",
        "computed (26.21, 35.52) = -6309.536835\n",
        "computed (26.21, 36.21) = -2621.707710\n",
        "computed (26.21, 36.90) = -4421.219956\n",
        "computed (26.21, 37.59) = -2735.306789\n",
        "computed (26.21, 38.28) = -1505.910088\n",
        "computed (26.21, 38.97) = -1425.947712\n",
        "computed (26.21, 39.66) = -1398.948820"
       ]
      },
      {
       "output_type": "stream",
       "stream": "stdout",
       "text": [
        "\n",
        "computed (26.21, 40.34) = -1442.076480\n",
        "computed (26.21, 41.03) = -1530.790980\n",
        "computed (26.21, 41.72) = -1656.086281\n",
        "computed (26.21, 42.41) = -1884.030188\n",
        "computed (26.21, 43.10) = -2170.987007\n",
        "computed (26.21, 43.79) = -2536.530933\n",
        "computed (26.21, 44.48) = -2955.792297\n",
        "computed (26.21, 45.17) = -4831.151524\n",
        "computed (26.21, 45.86) = -12918.084906\n",
        "computed (26.21, 46.55) = -4863.639182\n",
        "computed (26.21, 47.24) = -5326.950763"
       ]
      },
      {
       "output_type": "stream",
       "stream": "stdout",
       "text": [
        "\n",
        "computed (26.21, 47.93) = -6035.810338\n",
        "computed (26.21, 48.62) = -6795.974108\n",
        "computed (26.21, 49.31) = -7525.110064\n",
        "computed (26.21, 50.00) = -8242.245083\n",
        "computed (26.90, 30.00) = -6126.617369\n",
        "computed (26.90, 30.69) = -5680.131553\n",
        "computed (26.90, 31.38) = -5237.882225\n",
        "computed (26.90, 32.07) = -4788.627365\n",
        "computed (26.90, 32.76) = -4381.543384\n",
        "computed (26.90, 33.45) = -3995.844047\n",
        "computed (26.90, 34.14) = -4553.693415\n",
        "computed (26.90, 34.83) = -8748.767848"
       ]
      },
      {
       "output_type": "stream",
       "stream": "stdout",
       "text": [
        "\n",
        "computed (26.90, 35.52) = -4752.979347\n",
        "computed (26.90, 36.21) = -7044.478895\n",
        "computed (26.90, 36.90) = -5504.126033\n",
        "computed (26.90, 37.59) = -2337.687121\n",
        "computed (26.90, 38.28) = -1960.441901\n",
        "computed (26.90, 38.97) = -1828.584040\n",
        "computed (26.90, 39.66) = -1757.289387\n",
        "computed (26.90, 40.34) = -1901.299235\n",
        "computed (26.90, 41.03) = -1837.534290\n",
        "computed (26.90, 41.72) = -1923.719703\n",
        "computed (26.90, 42.41) = -2126.442878\n",
        "computed (26.90, 43.10) = -2376.259483"
       ]
      },
      {
       "output_type": "stream",
       "stream": "stdout",
       "text": [
        "\n",
        "computed (26.90, 43.79) = -2674.591840\n",
        "computed (26.90, 44.48) = -3100.956355\n",
        "computed (26.90, 45.17) = -3903.369080\n",
        "computed (26.90, 45.86) = -5953.796347\n",
        "computed (26.90, 46.55) = -4774.543826\n",
        "computed (26.90, 47.24) = -5386.295221\n",
        "computed (26.90, 47.93) = -6093.221886\n",
        "computed (26.90, 48.62) = -6903.110872\n",
        "computed (26.90, 49.31) = -7608.005991\n",
        "computed (26.90, 50.00) = -8476.571997\n",
        "computed (27.59, 30.00) = -6713.092848\n",
        "computed (27.59, 30.69) = -6289.730591"
       ]
      },
      {
       "output_type": "stream",
       "stream": "stdout",
       "text": [
        "\n",
        "computed (27.59, 31.38) = -5846.829197\n",
        "computed (27.59, 32.07) = -5434.277094\n",
        "computed (27.59, 32.76) = -5017.573959\n",
        "computed (27.59, 33.45) = -4586.962583\n",
        "computed (27.59, 34.14) = -4424.773305\n",
        "computed (27.59, 34.83) = -11292.161192\n",
        "computed (27.59, 35.52) = -5832.202465\n",
        "computed (27.59, 36.21) = -8217.632261\n",
        "computed (27.59, 36.90) = -3485.742045\n",
        "computed (27.59, 37.59) = -8462.123942\n",
        "computed (27.59, 38.28) = -2576.386206\n",
        "computed (27.59, 38.97) = -2909.995600"
       ]
      },
      {
       "output_type": "stream",
       "stream": "stdout",
       "text": [
        "\n",
        "computed (27.59, 39.66) = -2555.856644\n",
        "computed (27.59, 40.34) = -4555.123671\n",
        "computed (27.59, 41.03) = -2392.461183\n",
        "computed (27.59, 41.72) = -2227.984139\n",
        "computed (27.59, 42.41) = -2363.021096\n",
        "computed (27.59, 43.10) = -2604.958628\n",
        "computed (27.59, 43.79) = -2881.875595\n",
        "computed (27.59, 44.48) = -3258.557600\n",
        "computed (27.59, 45.17) = -3698.603312\n",
        "computed (27.59, 45.86) = -4283.208199\n",
        "computed (27.59, 46.55) = -4800.406264\n",
        "computed (27.59, 47.24) = -5483.186648"
       ]
      },
      {
       "output_type": "stream",
       "stream": "stdout",
       "text": [
        "\n",
        "computed (27.59, 47.93) = -6202.352762\n",
        "computed (27.59, 48.62) = -6910.712708\n",
        "computed (27.59, 49.31) = -7781.226940\n",
        "computed (27.59, 50.00) = -8584.832314\n",
        "computed (28.28, 30.00) = -7393.324094\n",
        "computed (28.28, 30.69) = -6959.696103\n",
        "computed (28.28, 31.38) = -6505.791974\n",
        "computed (28.28, 32.07) = -6097.123715\n",
        "computed (28.28, 32.76) = -5657.356610\n",
        "computed (28.28, 33.45) = -5258.956557\n",
        "computed (28.28, 34.14) = -4942.536917\n",
        "computed (28.28, 34.83) = -12569.325426"
       ]
      },
      {
       "output_type": "stream",
       "stream": "stdout",
       "text": [
        "\n",
        "computed (28.28, 35.52) = -16074.055224\n",
        "computed (28.28, 36.21) = -6311.988658\n",
        "computed (28.28, 36.90) = -5732.238430\n",
        "computed (28.28, 37.59) = -7079.212624\n",
        "computed (28.28, 38.28) = -2994.811843\n",
        "computed (28.28, 38.97) = -3933.448590\n",
        "computed (28.28, 39.66) = -3009.144760\n",
        "computed (28.28, 40.34) = -2765.620090\n",
        "computed (28.28, 41.03) = -2570.180877\n",
        "computed (28.28, 41.72) = -2560.208910\n",
        "computed (28.28, 42.41) = -2685.931329\n",
        "computed (28.28, 43.10) = -2856.560515"
       ]
      },
      {
       "output_type": "stream",
       "stream": "stdout",
       "text": [
        "\n",
        "computed (28.28, 43.79) = -3118.120821\n",
        "computed (28.28, 44.48) = -3411.466279\n",
        "computed (28.28, 45.17) = -3884.758187\n",
        "computed (28.28, 45.86) = -4361.832941\n",
        "computed (28.28, 46.55) = -4901.603102\n",
        "computed (28.28, 47.24) = -5578.928383\n",
        "computed (28.28, 47.93) = -6294.415961\n",
        "computed (28.28, 48.62) = -7033.892571\n",
        "computed (28.28, 49.31) = -7930.573182\n",
        "computed (28.28, 50.00) = -8783.828815\n",
        "computed (28.97, 30.00) = -8063.730355\n",
        "computed (28.97, 30.69) = -7674.226631"
       ]
      },
      {
       "output_type": "stream",
       "stream": "stdout",
       "text": [
        "\n",
        "computed (28.97, 31.38) = -7284.461066\n",
        "computed (28.97, 32.07) = -6851.633154\n",
        "computed (28.97, 32.76) = -6410.074380\n",
        "computed (28.97, 33.45) = -6001.327966\n",
        "computed (28.97, 34.14) = -5611.427987\n",
        "computed (28.97, 34.83) = -10001.892276\n",
        "computed (28.97, 35.52) = -8051.966997\n",
        "computed (28.97, 36.21) = -12807.602449\n",
        "computed (28.97, 36.90) = -4442.579954\n",
        "computed (28.97, 37.59) = -3934.091305\n",
        "computed (28.97, 38.28) = -3924.896877\n",
        "computed (28.97, 38.97) = -10959.122952"
       ]
      },
      {
       "output_type": "stream",
       "stream": "stdout",
       "text": [
        "\n",
        "computed (28.97, 39.66) = -3560.273610\n",
        "computed (28.97, 40.34) = -3072.352937\n",
        "computed (28.97, 41.03) = -3272.369546\n",
        "computed (28.97, 41.72) = -2925.714277\n",
        "computed (28.97, 42.41) = -2984.576381\n",
        "computed (28.97, 43.10) = -3140.681379\n",
        "computed (28.97, 43.79) = -3352.441122\n",
        "computed (28.97, 44.48) = -3657.370412\n",
        "computed (28.97, 45.17) = -4034.097299\n",
        "computed (28.97, 45.86) = -4500.276210\n",
        "computed (28.97, 46.55) = -5043.430463\n",
        "computed (28.97, 47.24) = -5685.769489"
       ]
      },
      {
       "output_type": "stream",
       "stream": "stdout",
       "text": [
        "\n",
        "computed (28.97, 47.93) = -6379.736148\n",
        "computed (28.97, 48.62) = -7116.176688\n",
        "computed (28.97, 49.31) = -7981.237871\n",
        "computed (28.97, 50.00) = -8980.991489\n",
        "computed (29.66, 30.00) = -8874.636156\n",
        "computed (29.66, 30.69) = -8468.489384\n",
        "computed (29.66, 31.38) = -8061.805842\n",
        "computed (29.66, 32.07) = -7624.012795\n",
        "computed (29.66, 32.76) = -7233.027077\n",
        "computed (29.66, 33.45) = -6749.684883\n",
        "computed (29.66, 34.14) = -6282.457629\n",
        "computed (29.66, 34.83) = -6156.749860"
       ]
      },
      {
       "output_type": "stream",
       "stream": "stdout",
       "text": [
        "\n",
        "computed (29.66, 35.52) = -5613.995905\n",
        "computed (29.66, 36.21) = -5708.120456\n",
        "computed (29.66, 36.90) = -4638.391140\n",
        "computed (29.66, 37.59) = -4329.889814\n",
        "computed (29.66, 38.28) = -4117.604998\n",
        "computed (29.66, 38.97) = -5244.535735\n",
        "computed (29.66, 39.66) = -3999.448785\n",
        "computed (29.66, 40.34) = -3817.927882\n",
        "computed (29.66, 41.03) = -7053.304020\n",
        "computed (29.66, 41.72) = -3344.035642\n",
        "computed (29.66, 42.41) = -3336.436838\n",
        "computed (29.66, 43.10) = -3450.169782"
       ]
      },
      {
       "output_type": "stream",
       "stream": "stdout",
       "text": [
        "\n",
        "computed (29.66, 43.79) = -3608.856638\n",
        "computed (29.66, 44.48) = -3860.058137\n",
        "computed (29.66, 45.17) = -4234.752403\n",
        "computed (29.66, 45.86) = -4686.217089\n",
        "computed (29.66, 46.55) = -5160.425929\n",
        "computed (29.66, 47.24) = -5810.363238\n",
        "computed (29.66, 47.93) = -6470.889059\n",
        "computed (29.66, 48.62) = -7205.414828\n",
        "computed (29.66, 49.31) = -8080.124222\n",
        "computed (29.66, 50.00) = -9024.237059\n",
        "computed (30.34, 30.00) = -9626.675602\n",
        "computed (30.34, 30.69) = -9341.584416"
       ]
      },
      {
       "output_type": "stream",
       "stream": "stdout",
       "text": [
        "\n",
        "computed (30.34, 31.38) = -9221.174211\n",
        "computed (30.34, 32.07) = -11771.004583\n",
        "computed (30.34, 32.76) = -8072.473332\n",
        "computed (30.34, 33.45) = -7566.398657\n",
        "computed (30.34, 34.14) = -7116.240884\n",
        "computed (30.34, 34.83) = -6625.435045\n",
        "computed (30.34, 35.52) = -6263.621286\n",
        "computed (30.34, 36.21) = -6795.878360\n",
        "computed (30.34, 36.90) = -5336.903156\n",
        "computed (30.34, 37.59) = -4957.152272\n",
        "computed (30.34, 38.28) = -4659.725378\n",
        "computed (30.34, 38.97) = -4447.695368"
       ]
      },
      {
       "output_type": "stream",
       "stream": "stdout",
       "text": [
        "\n",
        "computed (30.34, 39.66) = -4207.750970\n",
        "computed (30.34, 40.34) = -4068.866887\n",
        "computed (30.34, 41.03) = -4155.475990\n",
        "computed (30.34, 41.72) = -3725.305499\n",
        "computed (30.34, 42.41) = -3709.120203\n",
        "computed (30.34, 43.10) = -3740.248839\n",
        "computed (30.34, 43.79) = -3911.202107\n",
        "computed (30.34, 44.48) = -4116.194625\n",
        "computed (30.34, 45.17) = -4443.259226\n",
        "computed (30.34, 45.86) = -4833.253121\n",
        "computed (30.34, 46.55) = -5341.162195\n",
        "computed (30.34, 47.24) = -5908.505866"
       ]
      },
      {
       "output_type": "stream",
       "stream": "stdout",
       "text": [
        "\n",
        "computed (30.34, 47.93) = -6570.769081\n",
        "computed (30.34, 48.62) = -7288.561035\n",
        "computed (30.34, 49.31) = -8093.522801\n",
        "computed (30.34, 50.00) = -8924.820196\n",
        "computed (31.03, 30.00) = -10583.891642\n",
        "computed (31.03, 30.69) = -10179.445177\n",
        "computed (31.03, 31.38) = -10242.082598\n",
        "computed (31.03, 32.07) = -15293.607162\n",
        "computed (31.03, 32.76) = -9000.984301\n",
        "computed (31.03, 33.45) = -8457.171402\n",
        "computed (31.03, 34.14) = -7913.071085\n",
        "computed (31.03, 34.83) = -9526.855827"
       ]
      },
      {
       "output_type": "stream",
       "stream": "stdout",
       "text": [
        "\n",
        "computed (31.03, 35.52) = -9472.139880\n",
        "computed (31.03, 36.21) = -16459.874759\n",
        "computed (31.03, 36.90) = -6097.195370\n",
        "computed (31.03, 37.59) = -5600.252929\n",
        "computed (31.03, 38.28) = -5293.777241\n",
        "computed (31.03, 38.97) = -5002.560687\n",
        "computed (31.03, 39.66) = -4762.216936\n",
        "computed (31.03, 40.34) = -4495.637883\n",
        "computed (31.03, 41.03) = -4324.599192\n",
        "computed (31.03, 41.72) = -4182.129482\n",
        "computed (31.03, 42.41) = -4075.589976\n",
        "computed (31.03, 43.10) = -4120.356522"
       ]
      },
      {
       "output_type": "stream",
       "stream": "stdout",
       "text": [
        "\n",
        "computed (31.03, 43.79) = -4175.474792\n",
        "computed (31.03, 44.48) = -4353.438036\n",
        "computed (31.03, 45.17) = -4662.052873\n",
        "computed (31.03, 45.86) = -5035.561843\n",
        "computed (31.03, 46.55) = -5479.343992\n",
        "computed (31.03, 47.24) = -6038.774961\n",
        "computed (31.03, 47.93) = -6664.128115\n",
        "computed (31.03, 48.62) = -7345.655550\n",
        "computed (31.03, 49.31) = -8109.942579\n",
        "computed (31.03, 50.00) = -8901.871328\n",
        "computed (31.72, 30.00) = -11449.162239\n",
        "computed (31.72, 30.69) = -11132.700502"
       ]
      },
      {
       "output_type": "stream",
       "stream": "stdout",
       "text": [
        "\n",
        "computed (31.72, 31.38) = -10790.410362\n",
        "computed (31.72, 32.07) = -10372.396476\n",
        "computed (31.72, 32.76) = -9824.817708\n",
        "computed (31.72, 33.45) = -9325.063684\n",
        "computed (31.72, 34.14) = -10455.242405\n",
        "computed (31.72, 34.83) = -10448.353794\n",
        "computed (31.72, 35.52) = -8788.208522\n",
        "computed (31.72, 36.21) = -7655.393993\n",
        "computed (31.72, 36.90) = -6668.054896\n",
        "computed (31.72, 37.59) = -6297.789456\n",
        "computed (31.72, 38.28) = -5912.887211\n",
        "computed (31.72, 38.97) = -5696.674820"
       ]
      },
      {
       "output_type": "stream",
       "stream": "stdout",
       "text": [
        "\n",
        "computed (31.72, 39.66) = -5390.001933\n",
        "computed (31.72, 40.34) = -5126.645563\n",
        "computed (31.72, 41.03) = -4847.739388\n",
        "computed (31.72, 41.72) = -4582.441436\n",
        "computed (31.72, 42.41) = -4468.992629\n",
        "computed (31.72, 43.10) = -4432.943742\n",
        "computed (31.72, 43.79) = -4461.872160\n",
        "computed (31.72, 44.48) = -4646.227953\n",
        "computed (31.72, 45.17) = -4894.665352\n",
        "computed (31.72, 45.86) = -5202.127986\n",
        "computed (31.72, 46.55) = -5650.459774"
       ]
      },
      {
       "output_type": "stream",
       "stream": "stdout",
       "text": [
        "\n",
        "computed (31.72, 47.24) = -6192.731201\n",
        "computed (31.72, 47.93) = -6754.096301\n",
        "computed (31.72, 48.62) = -7446.604223\n",
        "computed (31.72, 49.31) = -8107.195555\n",
        "computed (31.72, 50.00) = -8876.679561\n",
        "computed (32.41, 30.00) = -12364.744261\n",
        "computed (32.41, 30.69) = -12106.255178\n",
        "computed (32.41, 31.38) = -11717.213614\n",
        "computed (32.41, 32.07) = -11291.127203\n",
        "computed (32.41, 32.76) = -10843.486105\n",
        "computed (32.41, 33.45) = -10244.682976\n",
        "computed (32.41, 34.14) = -15904.851234"
       ]
      },
      {
       "output_type": "stream",
       "stream": "stdout",
       "text": [
        "\n",
        "computed (32.41, 34.83) = -9944.362627\n",
        "computed (32.41, 35.52) = -8394.525281\n",
        "computed (32.41, 36.21) = -7818.412910\n",
        "computed (32.41, 36.90) = -7334.487448\n",
        "computed (32.41, 37.59) = -6872.560568\n",
        "computed (32.41, 38.28) = -6581.642838\n",
        "computed (32.41, 38.97) = -6293.930505\n",
        "computed (32.41, 39.66) = -6026.610238\n",
        "computed (32.41, 40.34) = -5686.949263\n",
        "computed (32.41, 41.03) = -5331.747346\n",
        "computed (32.41, 41.72) = -5022.351581\n",
        "computed (32.41, 42.41) = -4882.007403"
       ]
      },
      {
       "output_type": "stream",
       "stream": "stdout",
       "text": [
        "\n",
        "computed (32.41, 43.10) = -4775.243709\n",
        "computed (32.41, 43.79) = -4767.949884\n",
        "computed (32.41, 44.48) = -4900.863193\n",
        "computed (32.41, 45.17) = -5116.496507\n",
        "computed (32.41, 45.86) = -5423.845728\n",
        "computed (32.41, 46.55) = -5863.683651\n",
        "computed (32.41, 47.24) = -6302.300913\n",
        "computed (32.41, 47.93) = -6917.520840\n",
        "computed (32.41, 48.62) = -7514.931140\n",
        "computed (32.41, 49.31) = -8174.918668\n",
        "computed (32.41, 50.00) = -8867.080888\n",
        "computed (33.10, 30.00) = -13405.980603"
       ]
      },
      {
       "output_type": "stream",
       "stream": "stdout",
       "text": [
        "\n",
        "computed (33.10, 30.69) = -13094.133654\n",
        "computed (33.10, 31.38) = -12689.925149\n",
        "computed (33.10, 32.07) = -12286.059723\n",
        "computed (33.10, 32.76) = -11735.597799\n",
        "computed (33.10, 33.45) = -11147.524750\n",
        "computed (33.10, 34.14) = -10610.925350\n",
        "computed (33.10, 34.83) = -9831.015804\n",
        "computed (33.10, 35.52) = -9115.996240\n",
        "computed (33.10, 36.21) = -8538.958203\n",
        "computed (33.10, 36.90) = -7987.446839\n",
        "computed (33.10, 37.59) = -7500.571737\n",
        "computed (33.10, 38.28) = -7211.844666"
       ]
      },
      {
       "output_type": "stream",
       "stream": "stdout",
       "text": [
        "\n",
        "computed (33.10, 38.97) = -6950.380724\n",
        "computed (33.10, 39.66) = -6747.569396\n",
        "computed (33.10, 40.34) = -6334.125748\n",
        "computed (33.10, 41.03) = -5801.538596\n",
        "computed (33.10, 41.72) = -5427.439986\n",
        "computed (33.10, 42.41) = -5247.412430\n",
        "computed (33.10, 43.10) = -5083.267103\n",
        "computed (33.10, 43.79) = -5083.007771\n",
        "computed (33.10, 44.48) = -5251.860817\n",
        "computed (33.10, 45.17) = -5359.850425\n",
        "computed (33.10, 45.86) = -5659.443022\n",
        "computed (33.10, 46.55) = -6027.964701"
       ]
      },
      {
       "output_type": "stream",
       "stream": "stdout",
       "text": [
        "\n",
        "computed (33.10, 47.24) = -6499.292526\n",
        "computed (33.10, 47.93) = -7055.451708\n",
        "computed (33.10, 48.62) = -7602.072560\n",
        "computed (33.10, 49.31) = -8287.490606\n",
        "computed (33.10, 50.00) = -8924.220719\n",
        "computed (33.79, 30.00) = -14400.687879\n",
        "computed (33.79, 30.69) = -14078.395722\n",
        "computed (33.79, 31.38) = -13686.967717\n",
        "computed (33.79, 32.07) = -13297.535633\n",
        "computed (33.79, 32.76) = -12785.731298\n",
        "computed (33.79, 33.45) = -12137.731997\n"
       ]
      },
      {
       "output_type": "stream",
       "stream": "stdout",
       "text": [
        "computed (33.79, 34.14) = -11359.668400\n",
        "computed (33.79, 34.83) = -11779.476709\n",
        "computed (33.79, 35.52) = -11252.787334\n",
        "computed (33.79, 36.21) = -9164.337001\n",
        "computed (33.79, 36.90) = -8530.212145\n",
        "computed (33.79, 37.59) = -8069.827948\n",
        "computed (33.79, 38.28) = -7826.308311\n",
        "computed (33.79, 38.97) = -7458.550991\n",
        "computed (33.79, 39.66) = -7343.560784\n",
        "computed (33.79, 40.34) = -6781.199430\n",
        "computed (33.79, 41.03) = -6196.184306\n",
        "computed (33.79, 41.72) = -5845.367708\n",
        "computed (33.79, 42.41) = -5618.118820"
       ]
      },
      {
       "output_type": "stream",
       "stream": "stdout",
       "text": [
        "\n",
        "computed (33.79, 43.10) = -5426.569421\n",
        "computed (33.79, 43.79) = -6713.464230\n",
        "computed (33.79, 44.48) = -7813.176158\n",
        "computed (33.79, 45.17) = -5640.446507\n",
        "computed (33.79, 45.86) = -5905.636075\n",
        "computed (33.79, 46.55) = -6241.318286\n",
        "computed (33.79, 47.24) = -6696.730286\n",
        "computed (33.79, 47.93) = -7162.900657\n",
        "computed (33.79, 48.62) = -7781.904330\n",
        "computed (33.79, 49.31) = -8335.638611\n",
        "computed (33.79, 50.00) = -8986.029727\n",
        "computed (34.48, 30.00) = -15394.771117"
       ]
      },
      {
       "output_type": "stream",
       "stream": "stdout",
       "text": [
        "\n",
        "computed (34.48, 30.69) = -15017.369271\n",
        "computed (34.48, 31.38) = -14636.391598\n",
        "computed (34.48, 32.07) = -14228.987730\n",
        "computed (34.48, 32.76) = -13816.801347\n",
        "computed (34.48, 33.45) = -13125.756618\n",
        "computed (34.48, 34.14) = -12190.114596\n",
        "computed (34.48, 34.83) = -13769.887427\n",
        "computed (34.48, 35.52) = -13641.816234\n",
        "computed (34.48, 36.21) = -9737.505037\n",
        "computed (34.48, 36.90) = -9103.712570\n",
        "computed (34.48, 37.59) = -8743.571601\n",
        "computed (34.48, 38.28) = -15730.114315"
       ]
      },
      {
       "output_type": "stream",
       "stream": "stdout",
       "text": [
        "\n",
        "computed (34.48, 38.97) = -8013.404671\n",
        "computed (34.48, 39.66) = -7582.852547\n",
        "computed (34.48, 40.34) = -7099.386498\n",
        "computed (34.48, 41.03) = -6576.740544\n",
        "computed (34.48, 41.72) = -6199.523796\n",
        "computed (34.48, 42.41) = -5925.959316\n",
        "computed (34.48, 43.10) = -5763.923221\n",
        "computed (34.48, 43.79) = -8313.630485\n",
        "computed (34.48, 44.48) = -9635.515396\n",
        "computed (34.48, 45.17) = -5953.221269\n",
        "computed (34.48, 45.86) = -6139.925810\n",
        "computed (34.48, 46.55) = -6475.106297"
       ]
      },
      {
       "output_type": "stream",
       "stream": "stdout",
       "text": [
        "\n",
        "computed (34.48, 47.24) = -6896.239952\n",
        "computed (34.48, 47.93) = -7382.899753\n",
        "computed (34.48, 48.62) = -7896.950482\n",
        "computed (34.48, 49.31) = -8519.681330\n",
        "computed (34.48, 50.00) = -9124.023298\n",
        "computed (35.17, 30.00) = -16183.256931\n",
        "computed (35.17, 30.69) = -15730.980100\n",
        "computed (35.17, 31.38) = -15448.080075\n",
        "computed (35.17, 32.07) = -15180.150304\n",
        "computed (35.17, 32.76) = -15399.124256\n",
        "computed (35.17, 33.45) = -20371.064537\n",
        "computed (35.17, 34.14) = -12942.917159"
       ]
      },
      {
       "output_type": "stream",
       "stream": "stdout",
       "text": [
        "\n",
        "computed (35.17, 34.83) = -11953.160162\n",
        "computed (35.17, 35.52) = -11151.946679\n",
        "computed (35.17, 36.21) = -10804.671397\n",
        "computed (35.17, 36.90) = -11066.127850\n",
        "computed (35.17, 37.59) = -9243.948232\n",
        "computed (35.17, 38.28) = -11872.099157\n",
        "computed (35.17, 38.97) = -8257.947000\n",
        "computed (35.17, 39.66) = -7753.984465\n",
        "computed (35.17, 40.34) = -7303.882249\n",
        "computed (35.17, 41.03) = -6904.343422\n",
        "computed (35.17, 41.72) = -6549.366988\n",
        "computed (35.17, 42.41) = -6291.468294"
       ]
      },
      {
       "output_type": "stream",
       "stream": "stdout",
       "text": [
        "\n",
        "computed (35.17, 43.10) = -6113.168906\n",
        "computed (35.17, 43.79) = -6133.510545\n",
        "computed (35.17, 44.48) = -6194.600704\n",
        "computed (35.17, 45.17) = -6195.727462\n",
        "computed (35.17, 45.86) = -6406.127624\n",
        "computed (35.17, 46.55) = -6743.916262\n",
        "computed (35.17, 47.24) = -7136.518256\n",
        "computed (35.17, 47.93) = -7591.741013\n",
        "computed (35.17, 48.62) = -8101.703570\n",
        "computed (35.17, 49.31) = -8664.997846\n",
        "computed (35.17, 50.00) = -9247.390302\n",
        "computed (35.86, 30.00) = -16468.852988"
       ]
      },
      {
       "output_type": "stream",
       "stream": "stdout",
       "text": [
        "\n",
        "computed (35.86, 30.69) = -16207.703896\n",
        "computed (35.86, 31.38) = -16109.657407\n",
        "computed (35.86, 32.07) = -15899.839340\n",
        "computed (35.86, 32.76) = -16153.554400\n",
        "computed (35.86, 33.45) = -22188.516468\n",
        "computed (35.86, 34.14) = -13465.816013\n",
        "computed (35.86, 34.83) = -12406.690011\n",
        "computed (35.86, 35.52) = -12030.280945\n",
        "computed (35.86, 36.21) = -27837.531326\n",
        "computed (35.86, 36.90) = -23648.765642\n",
        "computed (35.86, 37.59) = -11888.825123\n",
        "computed (35.86, 38.28) = -9167.092428"
       ]
      },
      {
       "output_type": "stream",
       "stream": "stdout",
       "text": [
        "\n",
        "computed (35.86, 38.97) = -8460.371952\n",
        "computed (35.86, 39.66) = -8043.259593\n",
        "computed (35.86, 40.34) = -7611.483148\n",
        "computed (35.86, 41.03) = -7186.172638\n",
        "computed (35.86, 41.72) = -6876.284724\n",
        "computed (35.86, 42.41) = -6574.432850\n",
        "computed (35.86, 43.10) = -6438.387954\n",
        "computed (35.86, 43.79) = -6360.453600\n",
        "computed (35.86, 44.48) = -6381.912124\n",
        "computed (35.86, 45.17) = -6512.178209\n",
        "computed (35.86, 45.86) = -6725.534724\n",
        "computed (35.86, 46.55) = -6995.061528"
       ]
      },
      {
       "output_type": "stream",
       "stream": "stdout",
       "text": [
        "\n",
        "computed (35.86, 47.24) = -7377.098624\n",
        "computed (35.86, 47.93) = -7806.139432\n",
        "computed (35.86, 48.62) = -8335.666609\n",
        "computed (35.86, 49.31) = -8857.335269\n",
        "computed (35.86, 50.00) = -9453.610772\n",
        "computed (36.55, 30.00) = -16559.936547\n",
        "computed (36.55, 30.69) = -16604.961766\n",
        "computed (36.55, 31.38) = -16549.332661\n",
        "computed (36.55, 32.07) = -16499.788077\n",
        "computed (36.55, 32.76) = -15836.251514\n",
        "computed (36.55, 33.45) = -14884.378152\n",
        "computed (36.55, 34.14) = -13812.454383"
       ]
      },
      {
       "output_type": "stream",
       "stream": "stdout",
       "text": [
        "\n",
        "computed (36.55, 34.83) = -12790.910359\n",
        "computed (36.55, 35.52) = -12050.672858\n",
        "computed (36.55, 36.21) = -12549.174358\n",
        "computed (36.55, 36.90) = -10895.342933\n",
        "computed (36.55, 37.59) = -19568.811644\n",
        "computed (36.55, 38.28) = -9982.498030\n",
        "computed (36.55, 38.97) = -8731.838834\n",
        "computed (36.55, 39.66) = -8282.229463\n",
        "computed (36.55, 40.34) = -7858.224685\n",
        "computed (36.55, 41.03) = -7512.140796\n",
        "computed (36.55, 41.72) = -7193.902796\n",
        "computed (36.55, 42.41) = -6967.560468"
       ]
      },
      {
       "output_type": "stream",
       "stream": "stdout",
       "text": [
        "\n",
        "computed (36.55, 43.10) = -6767.718214\n",
        "computed (36.55, 43.79) = -6698.328922\n",
        "computed (36.55, 44.48) = -6726.145237\n",
        "computed (36.55, 45.17) = -6821.476645\n",
        "computed (36.55, 45.86) = -7010.886481\n",
        "computed (36.55, 46.55) = -7297.594361\n",
        "computed (36.55, 47.24) = -7675.658868\n",
        "computed (36.55, 47.93) = -8105.338487\n",
        "computed (36.55, 48.62) = -8543.105694\n",
        "computed (36.55, 49.31) = -9130.513654\n",
        "computed (36.55, 50.00) = -9662.142477\n",
        "computed (37.24, 30.00) = -16718.477121"
       ]
      },
      {
       "output_type": "stream",
       "stream": "stdout",
       "text": [
        "\n",
        "computed (37.24, 30.69) = -16704.835310\n",
        "computed (37.24, 31.38) = -16707.718300\n",
        "computed (37.24, 32.07) = -16638.144143\n",
        "computed (37.24, 32.76) = -15987.293063\n",
        "computed (37.24, 33.45) = -15035.213484\n",
        "computed (37.24, 34.14) = -14006.891983\n",
        "computed (37.24, 34.83) = -13111.351752\n",
        "computed (37.24, 35.52) = -12197.862971\n",
        "computed (37.24, 36.21) = -11451.408361\n",
        "computed (37.24, 36.90) = -10722.535117\n",
        "computed (37.24, 37.59) = -10409.532401\n",
        "computed (37.24, 38.28) = -9586.797578"
       ]
      },
      {
       "output_type": "stream",
       "stream": "stdout",
       "text": [
        "\n",
        "computed (37.24, 38.97) = -9053.272008\n",
        "computed (37.24, 39.66) = -8605.921411\n",
        "computed (37.24, 40.34) = -8196.512437\n",
        "computed (37.24, 41.03) = -7802.551843\n",
        "computed (37.24, 41.72) = -7527.280965\n",
        "computed (37.24, 42.41) = -7258.627970\n",
        "computed (37.24, 43.10) = -7102.161793\n",
        "computed (37.24, 43.79) = -7074.497427\n",
        "computed (37.24, 44.48) = -7044.964044\n",
        "computed (37.24, 45.17) = -7167.368742\n",
        "computed (37.24, 45.86) = -7371.984571\n",
        "computed (37.24, 46.55) = -7625.988834"
       ]
      },
      {
       "output_type": "stream",
       "stream": "stdout",
       "text": [
        "\n",
        "computed (37.24, 47.24) = -7945.158673\n",
        "computed (37.24, 47.93) = -8364.654227\n",
        "computed (37.24, 48.62) = -8853.886686\n",
        "computed (37.24, 49.31) = -9348.925409\n",
        "computed (37.24, 50.00) = -9889.118837\n",
        "computed (37.93, 30.00) = -16821.812216\n",
        "computed (37.93, 30.69) = -16757.837136\n",
        "computed (37.93, 31.38) = -16656.888294\n",
        "computed (37.93, 32.07) = -16413.088526\n",
        "computed (37.93, 32.76) = -15800.257099\n",
        "computed (37.93, 33.45) = -15002.009384\n",
        "computed (37.93, 34.14) = -14138.763221"
       ]
      },
      {
       "output_type": "stream",
       "stream": "stdout",
       "text": [
        "\n",
        "computed (37.93, 34.83) = -13362.067940\n",
        "computed (37.93, 35.52) = -12498.431929\n",
        "computed (37.93, 36.21) = -11737.705404\n",
        "computed (37.93, 36.90) = -11066.680544\n",
        "computed (37.93, 37.59) = -10402.078172\n",
        "computed (37.93, 38.28) = -9840.610481\n",
        "computed (37.93, 38.97) = -9347.731758\n",
        "computed (37.93, 39.66) = -8890.830061\n",
        "computed (37.93, 40.34) = -8483.872461\n",
        "computed (37.93, 41.03) = -8153.802343\n",
        "computed (37.93, 41.72) = -7880.252769\n",
        "computed (37.93, 42.41) = -7640.505055"
       ]
      },
      {
       "output_type": "stream",
       "stream": "stdout",
       "text": [
        "\n",
        "computed (37.93, 43.10) = -7500.135076\n",
        "computed (37.93, 43.79) = -7382.820701\n",
        "computed (37.93, 44.48) = -7445.226615\n",
        "computed (37.93, 45.17) = -7505.331389\n",
        "computed (37.93, 45.86) = -7674.691496\n",
        "computed (37.93, 46.55) = -7954.775352\n",
        "computed (37.93, 47.24) = -8309.517310\n",
        "computed (37.93, 47.93) = -8703.877518\n",
        "computed (37.93, 48.62) = -9135.830500\n",
        "computed (37.93, 49.31) = -9636.911419\n",
        "computed (37.93, 50.00) = -10214.782625\n",
        "computed (38.62, 30.00) = -16849.839192"
       ]
      },
      {
       "output_type": "stream",
       "stream": "stdout",
       "text": [
        "\n",
        "computed (38.62, 30.69) = -16733.684417\n",
        "computed (38.62, 31.38) = -16523.035099\n",
        "computed (38.62, 32.07) = -16217.984840\n",
        "computed (38.62, 32.76) = -15728.830759\n",
        "computed (38.62, 33.45) = -15072.079842\n",
        "computed (38.62, 34.14) = -14284.765430\n",
        "computed (38.62, 34.83) = -13452.483782\n",
        "computed (38.62, 35.52) = -12739.807949\n",
        "computed (38.62, 36.21) = -11938.655641\n",
        "computed (38.62, 36.90) = -11329.318710\n",
        "computed (38.62, 37.59) = -10677.667718\n",
        "computed (38.62, 38.28) = -10139.956436"
       ]
      },
      {
       "output_type": "stream",
       "stream": "stdout",
       "text": [
        "\n",
        "computed (38.62, 38.97) = -9705.673018\n",
        "computed (38.62, 39.66) = -9201.998862\n",
        "computed (38.62, 40.34) = -8803.703940\n",
        "computed (38.62, 41.03) = -8471.595471\n",
        "computed (38.62, 41.72) = -8173.378822\n",
        "computed (38.62, 42.41) = -7962.870712\n",
        "computed (38.62, 43.10) = -7829.753956\n",
        "computed (38.62, 43.79) = -7783.934929\n",
        "computed (38.62, 44.48) = -7788.484708\n",
        "computed (38.62, 45.17) = -7889.647196\n",
        "computed (38.62, 45.86) = -8102.526668\n",
        "computed (38.62, 46.55) = -8328.298514"
       ]
      },
      {
       "output_type": "stream",
       "stream": "stdout",
       "text": [
        "\n",
        "computed (38.62, 47.24) = -8606.247457\n",
        "computed (38.62, 47.93) = -9021.724558\n",
        "computed (38.62, 48.62) = -9473.759328\n",
        "computed (38.62, 49.31) = -9971.413311\n",
        "computed (38.62, 50.00) = -10504.678024\n",
        "computed (39.31, 30.00) = -16913.137623\n",
        "computed (39.31, 30.69) = -16705.811721\n",
        "computed (39.31, 31.38) = -16435.302998\n",
        "computed (39.31, 32.07) = -16108.828321\n",
        "computed (39.31, 32.76) = -15587.988746\n",
        "computed (39.31, 33.45) = -14967.697275\n",
        "computed (39.31, 34.14) = -14368.479059"
       ]
      },
      {
       "output_type": "stream",
       "stream": "stdout",
       "text": [
        "\n",
        "computed (39.31, 34.83) = -13624.452718\n",
        "computed (39.31, 35.52) = -12912.568542\n",
        "computed (39.31, 36.21) = -12246.540114\n",
        "computed (39.31, 36.90) = -11552.539133\n",
        "computed (39.31, 37.59) = -11021.781065\n",
        "computed (39.31, 38.28) = -11687.961933\n",
        "computed (39.31, 38.97) = -13637.578731\n",
        "computed (39.31, 39.66) = -9534.117594\n",
        "computed (39.31, 40.34) = -9148.693967\n",
        "computed (39.31, 41.03) = -8827.793827\n",
        "computed (39.31, 41.72) = -8579.729298\n",
        "computed (39.31, 42.41) = -8376.071836"
       ]
      },
      {
       "output_type": "stream",
       "stream": "stdout",
       "text": [
        "\n",
        "computed (39.31, 43.10) = -8223.608059\n",
        "computed (39.31, 43.79) = -8172.145788\n",
        "computed (39.31, 44.48) = -8190.074855\n",
        "computed (39.31, 45.17) = -8291.894168\n",
        "computed (39.31, 45.86) = -8421.913691\n",
        "computed (39.31, 46.55) = -8692.602195\n",
        "computed (39.31, 47.24) = -9041.350676\n",
        "computed (39.31, 47.93) = -9408.294394\n",
        "computed (39.31, 48.62) = -9861.557292\n",
        "computed (39.31, 49.31) = -10320.510724\n",
        "computed (39.31, 50.00) = -10876.912014\n",
        "computed (40.00, 30.00) = -17002.433737"
       ]
      },
      {
       "output_type": "stream",
       "stream": "stdout",
       "text": [
        "\n",
        "computed (40.00, 30.69) = -16715.234904\n",
        "computed (40.00, 31.38) = -16431.623259\n",
        "computed (40.00, 32.07) = -16016.597521\n",
        "computed (40.00, 32.76) = -15597.021360\n",
        "computed (40.00, 33.45) = -15051.209636\n",
        "computed (40.00, 34.14) = -14391.068070\n",
        "computed (40.00, 34.83) = -13763.348381\n",
        "computed (40.00, 35.52) = -13077.400701\n",
        "computed (40.00, 36.21) = -12441.968372\n",
        "computed (40.00, 36.90) = -11805.157302\n",
        "computed (40.00, 37.59) = -11240.489278\n",
        "computed (40.00, 38.28) = -11774.614998"
       ]
      },
      {
       "output_type": "stream",
       "stream": "stdout",
       "text": [
        "\n",
        "computed (40.00, 38.97) = -13203.942091\n",
        "computed (40.00, 39.66) = -9843.151495\n",
        "computed (40.00, 40.34) = -9453.509130\n",
        "computed (40.00, 41.03) = -9161.591983\n",
        "computed (40.00, 41.72) = -8903.230476\n",
        "computed (40.00, 42.41) = -8707.715454\n",
        "computed (40.00, 43.10) = -8620.380609\n",
        "computed (40.00, 43.79) = -8544.276929\n",
        "computed (40.00, 44.48) = -8597.165982\n",
        "computed (40.00, 45.17) = -8692.659611\n",
        "computed (40.00, 45.86) = -8898.635195\n",
        "computed (40.00, 46.55) = -9119.515810"
       ]
      },
      {
       "output_type": "stream",
       "stream": "stdout",
       "text": [
        "\n",
        "computed (40.00, 47.24) = -9422.180846\n",
        "computed (40.00, 47.93) = -9807.647995\n",
        "computed (40.00, 48.62) = -10236.002470\n",
        "computed (40.00, 49.31) = -10735.069498\n",
        "computed (40.00, 50.00) = -11287.396482\n"
       ]
      },
      {
       "metadata": {},
       "output_type": "display_data",
       "png": "[encoded data removed]",
       "text": [
        "<matplotlib.figure.Figure at 0x4caaa90>"
       ]
      }
     ],
     "prompt_number": 8
    },
    {
     "cell_type": "code",
     "collapsed": false,
     "input": [
      "\n",
      "fig = plt.figure(figsize=(10, 10))\n",
      "ax = fig.add_subplot(1,1,1)\n",
      "plot_traintest(ax, stas, X_events, X_test[3:4,:])\n"
     ],
     "language": "python",
     "metadata": {},
     "outputs": [
      {
       "metadata": {},
       "output_type": "display_data",
       "png": "[encoded data removed]",
       "text": [
        "<matplotlib.figure.Figure at 0x5e52a50>"
       ]
      }
     ],
     "prompt_number": 33
    },
    {
     "cell_type": "code",
     "collapsed": false,
     "input": [
      "\n",
      "y = sample_synthetic_training_data_sta(['w1',], X_events)\n",
      "fig = plt.figure(figsize=(10, 10))\n",
      "ax = fig.add_subplot(1,1,1)\n",
      "plot_param_values(ax, stas, X_events, y['w1'])"
     ],
     "language": "python",
     "metadata": {},
     "outputs": [
      {
       "metadata": {},
       "output_type": "display_data",
       "png": "[encoded data removed]",
       "text": [
        "<matplotlib.figure.Figure at 0x44b18d0>"
       ]
      }
     ],
     "prompt_number": 10
    },
    {
     "cell_type": "code",
     "collapsed": false,
     "input": [],
     "language": "python",
     "metadata": {},
     "outputs": []
    }
   ],
   "metadata": {}
  }
 ]
}