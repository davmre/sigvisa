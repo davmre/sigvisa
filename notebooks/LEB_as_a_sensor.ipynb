{
 "metadata": {
  "name": "",
  "signature": "sha256:d42d1b0c25e5b30d159c2a577bac0db0799628789f4449f8a639ce480c7247ed"
 },
 "nbformat": 3,
 "nbformat_minor": 0,
 "worksheets": [
  {
   "cells": [
    {
     "cell_type": "code",
     "collapsed": false,
     "input": [
      "from sigvisa.graph.sigvisa_graph import SigvisaGraph\n",
      "from sigvisa.signals.common import Waveform\n",
      "\n",
      "\n",
      "\n",
      "\n",
      "\n",
      "from sigvisa.source.event import get_event\n",
      "\n",
      "\n",
      "\n",
      "\n",
      "\n",
      "\n",
      "from sigvisa.infer.run_mcmc import run_open_world_MH\n",
      "\n",
      "from sigvisa.infer.mcmc_logger import MCMCLogger"
     ],
     "language": "python",
     "metadata": {},
     "outputs": [],
     "prompt_number": 1
    },
    {
     "cell_type": "code",
     "collapsed": false,
     "input": [
      "\"\"\"\n",
      "sg = SigvisaGraph(template_model_type=\"dummyPrior\", template_shape=\"lin_polyexp\",\n",
      "                      wiggle_model_type=\"dummy\", wiggle_family=\"dummy\",\n",
      "                      phases=\"leb\", nm_type = \"ar\")\n",
      "evid = 5335822\n",
      "wave = Waveform(data=np.zeros(20), stime=1240241314.33, srate=5.0, sta=\"MKAR\", chan=\"BHZ\", filter_str=\"freq_0.8_4.5\")\n",
      "wn = sg.add_wave(wave)\n",
      "ev = get_event(evid=evid)\n",
      "evnodes = sg.add_event(ev, observed=True)\"\"\"\n",
      "\"\"\"logger = MCMCLogger(write_template_vals=True, dump_interval=100)\n",
      "run_open_world_MH(sg, steps=5000,\n",
      "                  enable_template_moves=True,\n",
      "                  enable_event_moves=True,\n",
      "                  logger=logger,\n",
      "                  enable_event_openworld=False,\n",
      "                  enable_template_openworld=False)\"\"\"\n",
      "\"\"\"def build_relocation_sg_leb(evids, stas):\n",
      "    sg = SigvisaGraph(template_model_type=\"dummyPrior\", template_shape=\"lin_polyexp\",\n",
      "                      wiggle_model_type=\"dummy\", wiggle_family=\"dummy\",\n",
      "                      phases=\"leb\", nm_type = \"ar\")\n",
      "    \n",
      "    for evid in evids:\n",
      "        for sta in stas:\n",
      "            wave = load_event_station_chan(evid, sta, \"auto\", exclude_other_evs=True)\n",
      "            sg.add_wave(wave)\n",
      "    for evid in evids:\n",
      "        ev = get_event(evid)\n",
      "        sg.add_event(ev, observe=True)\n",
      "    return sg\n",
      "\n",
      "    sg = SigvisaGraph(template_model_type=\"dummyPrior\", template_shape=\"lin_polyexp\",\n",
      "                      wiggle_model_type=\"dummy\", wiggle_family=\"dummy\",\n",
      "                      phases=\"leb\", nm_type = \"ar\")\"\"\""
     ],
     "language": "python",
     "metadata": {},
     "outputs": [
      {
       "metadata": {},
       "output_type": "pyout",
       "prompt_number": 2,
       "text": [
        "'def build_relocation_sg_leb(evids, stas):\\n    sg = SigvisaGraph(template_model_type=\"dummyPrior\", template_shape=\"lin_polyexp\",\\n                      wiggle_model_type=\"dummy\", wiggle_family=\"dummy\",\\n                      phases=\"leb\", nm_type = \"ar\")\\n    \\n    for evid in evids:\\n        for sta in stas:\\n            wave = load_event_station_chan(evid, sta, \"auto\", exclude_other_evs=True)\\n            sg.add_wave(wave)\\n    for evid in evids:\\n        ev = get_event(evid)\\n        sg.add_event(ev, observe=True)\\n    return sg\\n\\n    sg = SigvisaGraph(template_model_type=\"dummyPrior\", template_shape=\"lin_polyexp\",\\n                      wiggle_model_type=\"dummy\", wiggle_family=\"dummy\",\\n                      phases=\"leb\", nm_type = \"ar\")'"
       ]
      }
     ],
     "prompt_number": 2
    },
    {
     "cell_type": "code",
     "collapsed": false,
     "input": [
      "\n",
      "from sigvisa.synthetic.doublets import *\n",
      "\n",
      "def sample_events(basedir, seed=0):\n",
      "    n_evs = 10\n",
      "    lons = [129, 130]\n",
      "    lats = [-3.5, -4.5]\n",
      "    times = [1238889600, 1245456000]\n",
      "    mbs = [4.0, 5.0]\n",
      "    sw = SampledWorld(seed=seed)\n",
      "    sw.sample_region_with_doublet(n_evs, lons, lats, times, mbs)\n",
      "    sw.stas = [\"MK31\", \"AS12\", \"CM16\", \"FITZ\", \"WR1\"]\n",
      "    gpcov = GPCov([0.7,], [ 40.0, 5.0],\n",
      "                  dfn_str=\"lld\",\n",
      "                  wfn_str=\"compact2\")\n",
      "    param_means = build_param_means(sw.stas)\n",
      "    sw.set_basis(wavelet_family=\"db4_2.0_3_30\", iid_repeatable_var=0.1,\n",
      "                  iid_nonrepeatable_var=0.4, srate=5.0)\n",
      "    sw.joint_sample_arrival_params(gpcov, param_means)\n",
      "    sw.sample_signals(\"freq_0.8_4.5\")\n",
      "\n",
      "    wave_dir = os.path.join(basedir, \"sampled_%d_spreadtime\" % seed)\n",
      "    sw.serialize(wave_dir)\n",
      "    #sw.train_gp_models_true_data()\n",
      "    #sw.save_gps(wave_dir, run_name=\"synth_truedata\")\n",
      "    return sw\n",
      "\n",
      "\n",
      "import os\n",
      "basedir = os.path.join(os.getenv(\"SIGVISA_HOME\"), \"experiments\", \"synth_wavematch\")\n",
      "#sw = sample_events(basedir)\n",
      "\n",
      "wave_dir = os.path.join(basedir, \"sampled_%d_spreadtime\" % 0)\n",
      "sw = load_sampled_world(wave_dir)\n",
      "dummyPrior = dict([(param, Gaussian(sw.param_means[\"MK31\"][param], std=np.sqrt(sw.gpcov.wfn_params[0]))) for param in sw.param_means[\"MK31\"].keys()\n",
      "])"
     ],
     "language": "python",
     "metadata": {},
     "outputs": [],
     "prompt_number": 3
    },
    {
     "cell_type": "code",
     "collapsed": false,
     "input": [
      "import copy\n",
      "\n",
      "def corrupt_ev(ev, stddevs):\n",
      "    ev = copy.copy(ev)\n",
      "    ev.lon = ev.lon + np.random.randn() * stddevs['lon']\n",
      "    ev.lat = ev.lat + np.random.randn() * stddevs['lat']\n",
      "    ev.depth = ev.depth + np.random.randn() * stddevs['depth']\n",
      "    ev.time = ev.time + np.random.randn() * stddevs['time']\n",
      "    ev.mb = ev.mb + np.random.randn() * stddevs['mb']\n",
      "    return ev\n",
      "\n",
      "sg = SigvisaGraph(template_model_type=\"dummyPrior\", template_shape=\"lin_polyexp\",\n",
      "                  wiggle_model_type=\"dummy\", wiggle_family=\"dummy\",\n",
      "                  phases=[\"P\",], nm_type = \"ar\", runids=(-1,), dummy_prior=dummyPrior)\n",
      "\n",
      "for i in sw.waves.keys():\n",
      "    for sta in sw.waves[i].keys():\n",
      "        sg.add_wave(sw.waves[i][sta])\n",
      "        \n",
      "stddevs = {\"lon\": 0.2, \"lat\": 0.2, \"depth\": 20.0, \"time\": 3.0, \"mb\": 0.3}\n",
      "\n",
      "for ev in sw.evs:\n",
      "    sg.add_event(ev, observed=corrupt_ev(ev, stddevs), stddevs=stddevs)"
     ],
     "language": "python",
     "metadata": {},
     "outputs": [],
     "prompt_number": 5
    },
    {
     "cell_type": "code",
     "collapsed": false,
     "input": [
      "logger = MCMCLogger(write_template_vals=False, dump_interval=20)\n",
      "\n",
      "with open(os.path.join(logger.run_dir, \"events.pkl\"), \"wb\") as f:\n",
      "    pickle.dump(sw.evs, f)\n",
      "    \n",
      "\n",
      "run_open_world_MH(sg, steps=1000,\n",
      "                  enable_template_moves=True,\n",
      "                  enable_event_moves=True,\n",
      "                  logger=logger,\n",
      "                  enable_event_openworld=False,\n",
      "                  enable_template_openworld=False)"
     ],
     "language": "python",
     "metadata": {},
     "outputs": [
      {
       "output_type": "stream",
       "stream": "stdout",
       "text": [
        "step 1: lp -364513.51, accepted arrival_time: 0.570%, coda_decay: 0.330%, coda_height: 0.320%, evdepth: 0.550%, evloc: 0.850%, evloc_big: 0.250%, evmb: 1.000%, evtime: 0.550%, indep_peak: 0.080%, peak_decay: 0.510%, peak_offset: 0.370%, , uatemplates: 0 , events: 10 \n",
        "step 2: lp -357234.50, accepted arrival_time: 0.527%, coda_decay: 0.300%, coda_height: 0.313%, evdepth: 0.533%, evloc: 0.767%, evloc_big: 0.233%, evmb: 0.933%, evtime: 0.467%, indep_peak: 0.053%, peak_decay: 0.453%, peak_offset: 0.340%, , uatemplates: 0 , events: 10 "
       ]
      },
      {
       "output_type": "stream",
       "stream": "stdout",
       "text": [
        "\n",
        "step 3: lp -353490.42, accepted arrival_time: 0.490%, coda_decay: 0.285%, coda_height: 0.280%, evdepth: 0.575%, evloc: 0.750%, evloc_big: 0.200%, evmb: 0.925%, evtime: 0.450%, indep_peak: 0.045%, peak_decay: 0.450%, peak_offset: 0.343%, , uatemplates: 0 , events: 10 "
       ]
      },
      {
       "output_type": "stream",
       "stream": "stdout",
       "text": [
        "\n",
        "step 4: lp -348299.03, accepted arrival_time: 0.452%, coda_decay: 0.272%, coda_height: 0.268%, evdepth: 0.600%, evloc: 0.760%, evloc_big: 0.220%, evmb: 0.920%, evtime: 0.420%, indep_peak: 0.036%, peak_decay: 0.424%, peak_offset: 0.314%, , uatemplates: 0 , events: 10 "
       ]
      },
      {
       "output_type": "stream",
       "stream": "stdout",
       "text": [
        "\n",
        "saving debug dump to /home/dmoore/python/sigvisa/logs/mcmc/01653/step_000019..."
       ]
      },
      {
       "output_type": "stream",
       "stream": "stdout",
       "text": [
        "\n",
        "saved pickled graph"
       ]
      },
      {
       "output_type": "stream",
       "stream": "stdout",
       "text": [
        "\n",
        "step 20: lp -318065.28, accepted arrival_time: 0.269%, coda_decay: 0.183%, coda_height: 0.184%, evdepth: 0.505%, evloc: 0.757%, evloc_big: 0.219%, evmb: 0.933%, evtime: 0.448%, indep_peak: 0.015%, peak_decay: 0.391%, peak_offset: 0.193%, , uatemplates: 0 , events: 10 "
       ]
      },
      {
       "output_type": "stream",
       "stream": "stdout",
       "text": [
        "\n",
        "saving debug dump to /home/dmoore/python/sigvisa/logs/mcmc/01653/step_000039..."
       ]
      },
      {
       "output_type": "stream",
       "stream": "stdout",
       "text": [
        "\n",
        "saved pickled graph\n",
        "step 40: lp -305198.50, accepted arrival_time: 0.210%, coda_decay: 0.156%, coda_height: 0.142%, evdepth: 0.495%, evloc: 0.761%, evloc_big: 0.200%, evmb: 0.939%, evtime: 0.420%, indep_peak: 0.008%, peak_decay: 0.347%, peak_offset: 0.158%, , uatemplates: 0 , events: 10 "
       ]
      },
      {
       "output_type": "stream",
       "stream": "stdout",
       "text": [
        "\n",
        "saving debug dump to /home/dmoore/python/sigvisa/logs/mcmc/01653/step_000059..."
       ]
      },
      {
       "output_type": "stream",
       "stream": "stdout",
       "text": [
        "\n",
        "saved pickled graph\n",
        "step 60: lp -303141.55, accepted arrival_time: 0.191%, coda_decay: 0.142%, coda_height: 0.130%, evdepth: 0.520%, evloc: 0.761%, evloc_big: 0.195%, evmb: 0.934%, evtime: 0.436%, indep_peak: 0.006%, peak_decay: 0.326%, peak_offset: 0.143%, , uatemplates: 0 , events: 10 "
       ]
      },
      {
       "output_type": "stream",
       "stream": "stdout",
       "text": [
        "\n",
        "saving debug dump to /home/dmoore/python/sigvisa/logs/mcmc/01653/step_000079..."
       ]
      },
      {
       "output_type": "stream",
       "stream": "stdout",
       "text": [
        "\n",
        "saved pickled graph\n",
        "step 80: lp -302784.05, accepted arrival_time: 0.179%, coda_decay: 0.139%, coda_height: 0.118%, evdepth: 0.530%, evloc: 0.772%, evloc_big: 0.196%, evmb: 0.935%, evtime: 0.443%, indep_peak: 0.005%, peak_decay: 0.318%, peak_offset: 0.135%, , uatemplates: 0 , events: 10 "
       ]
      },
      {
       "output_type": "stream",
       "stream": "stdout",
       "text": [
        "\n",
        "saving debug dump to /home/dmoore/python/sigvisa/logs/mcmc/01653/step_000099..."
       ]
      },
      {
       "output_type": "stream",
       "stream": "stdout",
       "text": [
        "\n",
        "saved pickled graph\n",
        "step 100: lp -301102.59, accepted arrival_time: 0.174%, coda_decay: 0.136%, coda_height: 0.113%, evdepth: 0.530%, evloc: 0.784%, evloc_big: 0.187%, evmb: 0.936%, evtime: 0.435%, indep_peak: 0.004%, peak_decay: 0.306%, peak_offset: 0.131%, , uatemplates: 0 , events: 10 "
       ]
      },
      {
       "output_type": "stream",
       "stream": "stdout",
       "text": [
        "\n",
        "saving debug dump to /home/dmoore/python/sigvisa/logs/mcmc/01653/step_000119..."
       ]
      },
      {
       "output_type": "stream",
       "stream": "stdout",
       "text": [
        "\n",
        "saved pickled graph\n",
        "step 120: lp -300979.55, accepted arrival_time: 0.170%, coda_decay: 0.135%, coda_height: 0.111%, evdepth: 0.531%, evloc: 0.788%, evloc_big: 0.193%, evmb: 0.936%, evtime: 0.426%, indep_peak: 0.003%, peak_decay: 0.298%, peak_offset: 0.127%, , uatemplates: 0 , events: 10 "
       ]
      },
      {
       "output_type": "stream",
       "stream": "stdout",
       "text": [
        "\n",
        "saving debug dump to /home/dmoore/python/sigvisa/logs/mcmc/01653/step_000139..."
       ]
      },
      {
       "output_type": "stream",
       "stream": "stdout",
       "text": [
        "\n",
        "saved pickled graph\n",
        "step 140: lp -300920.19, accepted arrival_time: 0.164%, coda_decay: 0.132%, coda_height: 0.109%, evdepth: 0.524%, evloc: 0.783%, evloc_big: 0.188%, evmb: 0.934%, evtime: 0.427%, indep_peak: 0.003%, peak_decay: 0.295%, peak_offset: 0.125%, , uatemplates: 0 , events: 10 "
       ]
      },
      {
       "output_type": "stream",
       "stream": "stdout",
       "text": [
        "\n",
        "saving debug dump to /home/dmoore/python/sigvisa/logs/mcmc/01653/step_000159..."
       ]
      },
      {
       "output_type": "stream",
       "stream": "stdout",
       "text": [
        "\n",
        "saved pickled graph\n",
        "step 160: lp -300873.03, accepted arrival_time: 0.160%, coda_decay: 0.132%, coda_height: 0.106%, evdepth: 0.529%, evloc: 0.782%, evloc_big: 0.187%, evmb: 0.935%, evtime: 0.427%, indep_peak: 0.003%, peak_decay: 0.289%, peak_offset: 0.122%, , uatemplates: 0 , events: 10 "
       ]
      },
      {
       "output_type": "stream",
       "stream": "stdout",
       "text": [
        "\n",
        "saving debug dump to /home/dmoore/python/sigvisa/logs/mcmc/01653/step_000179..."
       ]
      },
      {
       "output_type": "stream",
       "stream": "stdout",
       "text": [
        "\n",
        "saved pickled graph\n",
        "step 180: lp -300751.22, accepted arrival_time: 0.156%, coda_decay: 0.131%, coda_height: 0.105%, evdepth: 0.525%, evloc: 0.778%, evloc_big: 0.185%, evmb: 0.934%, evtime: 0.422%, indep_peak: 0.002%, peak_decay: 0.283%, peak_offset: 0.118%, , uatemplates: 0 , events: 10 "
       ]
      },
      {
       "output_type": "stream",
       "stream": "stdout",
       "text": [
        "\n",
        "saving debug dump to /home/dmoore/python/sigvisa/logs/mcmc/01653/step_000199..."
       ]
      },
      {
       "output_type": "stream",
       "stream": "stdout",
       "text": [
        "\n",
        "saved pickled graph"
       ]
      },
      {
       "output_type": "stream",
       "stream": "stdout",
       "text": [
        "\n",
        "step 200: lp -300728.25, accepted arrival_time: 0.154%, coda_decay: 0.131%, coda_height: 0.103%, evdepth: 0.527%, evloc: 0.776%, evloc_big: 0.183%, evmb: 0.937%, evtime: 0.421%, indep_peak: 0.002%, peak_decay: 0.277%, peak_offset: 0.117%, , uatemplates: 0 , events: 10 "
       ]
      },
      {
       "output_type": "stream",
       "stream": "stdout",
       "text": [
        "\n",
        "saving debug dump to /home/dmoore/python/sigvisa/logs/mcmc/01653/step_000219..."
       ]
      },
      {
       "output_type": "stream",
       "stream": "stdout",
       "text": [
        "\n",
        "saved pickled graph\n",
        "step 220: lp -300686.39, accepted arrival_time: 0.150%, coda_decay: 0.130%, coda_height: 0.101%, evdepth: 0.517%, evloc: 0.773%, evloc_big: 0.185%, evmb: 0.937%, evtime: 0.419%, indep_peak: 0.002%, peak_decay: 0.272%, peak_offset: 0.116%, , uatemplates: 0 , events: 10 "
       ]
      },
      {
       "output_type": "stream",
       "stream": "stdout",
       "text": [
        "\n",
        "saving debug dump to /home/dmoore/python/sigvisa/logs/mcmc/01653/step_000239..."
       ]
      },
      {
       "output_type": "stream",
       "stream": "stdout",
       "text": [
        "\n",
        "saved pickled graph\n",
        "step 240: lp -300653.33, accepted arrival_time: 0.149%, coda_decay: 0.129%, coda_height: 0.100%, evdepth: 0.515%, evloc: 0.773%, evloc_big: 0.185%, evmb: 0.938%, evtime: 0.415%, indep_peak: 0.002%, peak_decay: 0.268%, peak_offset: 0.115%, , uatemplates: 0 , events: 10 "
       ]
      },
      {
       "output_type": "stream",
       "stream": "stdout",
       "text": [
        "\n",
        "saving debug dump to /home/dmoore/python/sigvisa/logs/mcmc/01653/step_000259..."
       ]
      },
      {
       "output_type": "stream",
       "stream": "stdout",
       "text": [
        "\n",
        "saved pickled graph\n",
        "step 260: lp -300635.06, accepted arrival_time: 0.148%, coda_decay: 0.129%, coda_height: 0.100%, evdepth: 0.507%, evloc: 0.769%, evloc_big: 0.181%, evmb: 0.939%, evtime: 0.412%, indep_peak: 0.002%, peak_decay: 0.265%, peak_offset: 0.114%, , uatemplates: 0 , events: 10 "
       ]
      },
      {
       "output_type": "stream",
       "stream": "stdout",
       "text": [
        "\n",
        "saving debug dump to /home/dmoore/python/sigvisa/logs/mcmc/01653/step_000279..."
       ]
      },
      {
       "output_type": "stream",
       "stream": "stdout",
       "text": [
        "\n",
        "saved pickled graph\n",
        "step 280: lp -300648.94, accepted arrival_time: 0.146%, coda_decay: 0.130%, coda_height: 0.099%, evdepth: 0.500%, evloc: 0.768%, evloc_big: 0.181%, evmb: 0.938%, evtime: 0.415%, indep_peak: 0.002%, peak_decay: 0.264%, peak_offset: 0.113%, , uatemplates: 0 , events: 10 "
       ]
      },
      {
       "output_type": "stream",
       "stream": "stdout",
       "text": [
        "\n",
        "saving debug dump to /home/dmoore/python/sigvisa/logs/mcmc/01653/step_000299..."
       ]
      },
      {
       "output_type": "stream",
       "stream": "stdout",
       "text": [
        "\n",
        "saved pickled graph\n",
        "step 300: lp -300625.06, accepted arrival_time: 0.145%, coda_decay: 0.128%, coda_height: 0.099%, evdepth: 0.506%, evloc: 0.768%, evloc_big: 0.182%, evmb: 0.936%, evtime: 0.414%, indep_peak: 0.002%, peak_decay: 0.263%, peak_offset: 0.113%, , uatemplates: 0 , events: 10 "
       ]
      },
      {
       "output_type": "stream",
       "stream": "stdout",
       "text": [
        "\n",
        "saving debug dump to /home/dmoore/python/sigvisa/logs/mcmc/01653/step_000319..."
       ]
      },
      {
       "output_type": "stream",
       "stream": "stdout",
       "text": [
        "\n",
        "saved pickled graph\n",
        "step 320: lp -300618.46, accepted arrival_time: 0.145%, coda_decay: 0.127%, coda_height: 0.098%, evdepth: 0.505%, evloc: 0.771%, evloc_big: 0.184%, evmb: 0.936%, evtime: 0.416%, indep_peak: 0.002%, peak_decay: 0.263%, peak_offset: 0.112%, , uatemplates: 0 , events: 10 "
       ]
      },
      {
       "output_type": "stream",
       "stream": "stdout",
       "text": [
        "\n",
        "saving debug dump to /home/dmoore/python/sigvisa/logs/mcmc/01653/step_000339..."
       ]
      },
      {
       "output_type": "stream",
       "stream": "stdout",
       "text": [
        "\n",
        "saved pickled graph"
       ]
      },
      {
       "output_type": "stream",
       "stream": "stdout",
       "text": [
        "\n",
        "step 340: lp -300579.54, accepted arrival_time: 0.143%, coda_decay: 0.128%, coda_height: 0.097%, evdepth: 0.503%, evloc: 0.773%, evloc_big: 0.183%, evmb: 0.935%, evtime: 0.419%, indep_peak: 0.002%, peak_decay: 0.262%, peak_offset: 0.112%, , uatemplates: 0 , events: 10 "
       ]
      },
      {
       "output_type": "stream",
       "stream": "stdout",
       "text": [
        "\n",
        "saving debug dump to /home/dmoore/python/sigvisa/logs/mcmc/01653/step_000359..."
       ]
      },
      {
       "output_type": "stream",
       "stream": "stdout",
       "text": [
        "\n",
        "saved pickled graph\n",
        "step 360: lp -300576.08, accepted arrival_time: 0.143%, coda_decay: 0.127%, coda_height: 0.096%, evdepth: 0.499%, evloc: 0.774%, evloc_big: 0.183%, evmb: 0.935%, evtime: 0.418%, indep_peak: 0.002%, peak_decay: 0.262%, peak_offset: 0.111%, , uatemplates: 0 , events: 10 "
       ]
      },
      {
       "output_type": "stream",
       "stream": "stdout",
       "text": [
        "\n",
        "saving debug dump to /home/dmoore/python/sigvisa/logs/mcmc/01653/step_000379..."
       ]
      },
      {
       "output_type": "stream",
       "stream": "stdout",
       "text": [
        "\n",
        "saved pickled graph\n",
        "step 380: lp -300580.67, accepted arrival_time: 0.141%, coda_decay: 0.127%, coda_height: 0.096%, evdepth: 0.501%, evloc: 0.771%, evloc_big: 0.182%, evmb: 0.935%, evtime: 0.414%, indep_peak: 0.002%, peak_decay: 0.262%, peak_offset: 0.110%, , uatemplates: 0 , events: 10 "
       ]
      },
      {
       "output_type": "stream",
       "stream": "stdout",
       "text": [
        "\n",
        "saving debug dump to /home/dmoore/python/sigvisa/logs/mcmc/01653/step_000399..."
       ]
      },
      {
       "output_type": "stream",
       "stream": "stdout",
       "text": [
        "\n",
        "saved pickled graph"
       ]
      },
      {
       "output_type": "stream",
       "stream": "stdout",
       "text": [
        "\n",
        "step 400: lp -300574.52, accepted arrival_time: 0.140%, coda_decay: 0.127%, coda_height: 0.096%, evdepth: 0.500%, evloc: 0.771%, evloc_big: 0.181%, evmb: 0.935%, evtime: 0.414%, indep_peak: 0.002%, peak_decay: 0.261%, peak_offset: 0.110%, , uatemplates: 0 , events: 10 "
       ]
      },
      {
       "output_type": "stream",
       "stream": "stdout",
       "text": [
        "\n",
        "saving debug dump to /home/dmoore/python/sigvisa/logs/mcmc/01653/step_000419..."
       ]
      },
      {
       "output_type": "stream",
       "stream": "stdout",
       "text": [
        "\n",
        "saved pickled graph\n",
        "step 420: lp -300579.82, accepted arrival_time: 0.140%, coda_decay: 0.127%, coda_height: 0.095%, evdepth: 0.500%, evloc: 0.771%, evloc_big: 0.181%, evmb: 0.936%, evtime: 0.413%, indep_peak: 0.002%, peak_decay: 0.260%, peak_offset: 0.110%, , uatemplates: 0 , events: 10 "
       ]
      },
      {
       "output_type": "stream",
       "stream": "stdout",
       "text": [
        "\n",
        "saving debug dump to /home/dmoore/python/sigvisa/logs/mcmc/01653/step_000439..."
       ]
      },
      {
       "output_type": "stream",
       "stream": "stdout",
       "text": [
        "\n",
        "saved pickled graph\n",
        "step 440: lp -300386.60, accepted arrival_time: 0.141%, coda_decay: 0.127%, coda_height: 0.094%, evdepth: 0.500%, evloc: 0.770%, evloc_big: 0.180%, evmb: 0.937%, evtime: 0.411%, indep_peak: 0.002%, peak_decay: 0.260%, peak_offset: 0.109%, , uatemplates: 0 , events: 10 "
       ]
      },
      {
       "output_type": "stream",
       "stream": "stdout",
       "text": [
        "\n",
        "saving debug dump to /home/dmoore/python/sigvisa/logs/mcmc/01653/step_000459..."
       ]
      },
      {
       "output_type": "stream",
       "stream": "stdout",
       "text": [
        "\n",
        "saved pickled graph\n",
        "step 460: lp -300114.48, accepted arrival_time: 0.141%, coda_decay: 0.126%, coda_height: 0.093%, evdepth: 0.499%, evloc: 0.772%, evloc_big: 0.181%, evmb: 0.938%, evtime: 0.409%, indep_peak: 0.002%, peak_decay: 0.258%, peak_offset: 0.109%, , uatemplates: 0 , events: 10 "
       ]
      },
      {
       "output_type": "stream",
       "stream": "stdout",
       "text": [
        "\n",
        "saving debug dump to /home/dmoore/python/sigvisa/logs/mcmc/01653/step_000479..."
       ]
      },
      {
       "output_type": "stream",
       "stream": "stdout",
       "text": [
        "\n",
        "saved pickled graph\n",
        "step 480: lp -300138.05, accepted arrival_time: 0.141%, coda_decay: 0.126%, coda_height: 0.093%, evdepth: 0.498%, evloc: 0.772%, evloc_big: 0.179%, evmb: 0.937%, evtime: 0.407%, indep_peak: 0.002%, peak_decay: 0.257%, peak_offset: 0.109%, , uatemplates: 0 , events: 10 "
       ]
      },
      {
       "output_type": "stream",
       "stream": "stdout",
       "text": [
        "\n",
        "saving debug dump to /home/dmoore/python/sigvisa/logs/mcmc/01653/step_000499..."
       ]
      },
      {
       "output_type": "stream",
       "stream": "stdout",
       "text": [
        "\n",
        "saved pickled graph\n",
        "step 500: lp -300049.16, accepted arrival_time: 0.141%, coda_decay: 0.126%, coda_height: 0.092%, evdepth: 0.500%, evloc: 0.770%, evloc_big: 0.180%, evmb: 0.937%, evtime: 0.407%, indep_peak: 0.002%, peak_decay: 0.255%, peak_offset: 0.109%, , uatemplates: 0 , events: 10 "
       ]
      },
      {
       "output_type": "stream",
       "stream": "stdout",
       "text": [
        "\n",
        "saving debug dump to /home/dmoore/python/sigvisa/logs/mcmc/01653/step_000519..."
       ]
      },
      {
       "output_type": "stream",
       "stream": "stdout",
       "text": [
        "\n",
        "saved pickled graph\n",
        "step 520: lp -299856.38, accepted arrival_time: 0.141%, coda_decay: 0.127%, coda_height: 0.092%, evdepth: 0.496%, evloc: 0.770%, evloc_big: 0.179%, evmb: 0.937%, evtime: 0.407%, indep_peak: 0.001%, peak_decay: 0.256%, peak_offset: 0.108%, , uatemplates: 0 , events: 10 "
       ]
      },
      {
       "output_type": "stream",
       "stream": "stdout",
       "text": [
        "\n",
        "saving debug dump to /home/dmoore/python/sigvisa/logs/mcmc/01653/step_000539..."
       ]
      },
      {
       "output_type": "stream",
       "stream": "stdout",
       "text": [
        "\n",
        "saved pickled graph\n",
        "step 540: lp -299796.63, accepted arrival_time: 0.141%, coda_decay: 0.126%, coda_height: 0.091%, evdepth: 0.497%, evloc: 0.770%, evloc_big: 0.178%, evmb: 0.937%, evtime: 0.406%, indep_peak: 0.001%, peak_decay: 0.255%, peak_offset: 0.108%, , uatemplates: 0 , events: 10 "
       ]
      },
      {
       "output_type": "stream",
       "stream": "stdout",
       "text": [
        "\n",
        "saving debug dump to /home/dmoore/python/sigvisa/logs/mcmc/01653/step_000559..."
       ]
      },
      {
       "output_type": "stream",
       "stream": "stdout",
       "text": [
        "\n",
        "saved pickled graph\n",
        "step 560: lp -299764.57, accepted arrival_time: 0.140%, coda_decay: 0.125%, coda_height: 0.091%, evdepth: 0.498%, evloc: 0.769%, evloc_big: 0.180%, evmb: 0.937%, evtime: 0.405%, indep_peak: 0.001%, peak_decay: 0.255%, peak_offset: 0.108%, , uatemplates: 0 , events: 10 "
       ]
      },
      {
       "output_type": "stream",
       "stream": "stdout",
       "text": [
        "\n",
        "saving debug dump to /home/dmoore/python/sigvisa/logs/mcmc/01653/step_000579..."
       ]
      },
      {
       "output_type": "stream",
       "stream": "stdout",
       "text": [
        "\n",
        "saved pickled graph"
       ]
      },
      {
       "output_type": "stream",
       "stream": "stdout",
       "text": [
        "\n",
        "step 580: lp -299750.60, accepted arrival_time: 0.140%, coda_decay: 0.125%, coda_height: 0.091%, evdepth: 0.499%, evloc: 0.771%, evloc_big: 0.180%, evmb: 0.938%, evtime: 0.406%, indep_peak: 0.001%, peak_decay: 0.255%, peak_offset: 0.108%, , uatemplates: 0 , events: 10 "
       ]
      },
      {
       "output_type": "stream",
       "stream": "stdout",
       "text": [
        "\n",
        "saving debug dump to /home/dmoore/python/sigvisa/logs/mcmc/01653/step_000599..."
       ]
      },
      {
       "output_type": "stream",
       "stream": "stdout",
       "text": [
        "\n",
        "saved pickled graph\n",
        "step 600: lp -299738.05, accepted arrival_time: 0.140%, coda_decay: 0.125%, coda_height: 0.092%, evdepth: 0.495%, evloc: 0.771%, evloc_big: 0.181%, evmb: 0.937%, evtime: 0.407%, indep_peak: 0.001%, peak_decay: 0.255%, peak_offset: 0.107%, , uatemplates: 0 , events: 10 "
       ]
      },
      {
       "output_type": "stream",
       "stream": "stdout",
       "text": [
        "\n",
        "saving debug dump to /home/dmoore/python/sigvisa/logs/mcmc/01653/step_000619..."
       ]
      },
      {
       "output_type": "stream",
       "stream": "stdout",
       "text": [
        "\n",
        "saved pickled graph\n",
        "step 620: lp -299692.92, accepted arrival_time: 0.140%, coda_decay: 0.125%, coda_height: 0.093%, evdepth: 0.495%, evloc: 0.771%, evloc_big: 0.178%, evmb: 0.937%, evtime: 0.407%, indep_peak: 0.001%, peak_decay: 0.255%, peak_offset: 0.107%, , uatemplates: 0 , events: 10 "
       ]
      },
      {
       "output_type": "stream",
       "stream": "stdout",
       "text": [
        "\n",
        "saving debug dump to /home/dmoore/python/sigvisa/logs/mcmc/01653/step_000639..."
       ]
      },
      {
       "output_type": "stream",
       "stream": "stdout",
       "text": [
        "\n",
        "saved pickled graph\n",
        "step 640: lp -299693.79, accepted arrival_time: 0.140%, coda_decay: 0.125%, coda_height: 0.092%, evdepth: 0.496%, evloc: 0.771%, evloc_big: 0.178%, evmb: 0.938%, evtime: 0.406%, indep_peak: 0.001%, peak_decay: 0.255%, peak_offset: 0.107%, , uatemplates: 0 , events: 10 "
       ]
      },
      {
       "output_type": "stream",
       "stream": "stdout",
       "text": [
        "\n",
        "saving debug dump to /home/dmoore/python/sigvisa/logs/mcmc/01653/step_000659..."
       ]
      },
      {
       "output_type": "stream",
       "stream": "stdout",
       "text": [
        "\n",
        "saved pickled graph\n",
        "step 660: lp -299718.01, accepted arrival_time: 0.139%, coda_decay: 0.125%, coda_height: 0.092%, evdepth: 0.495%, evloc: 0.772%, evloc_big: 0.177%, evmb: 0.938%, evtime: 0.408%, indep_peak: 0.001%, peak_decay: 0.255%, peak_offset: 0.107%, , uatemplates: 0 , events: 10 "
       ]
      },
      {
       "output_type": "stream",
       "stream": "stdout",
       "text": [
        "\n",
        "saving debug dump to /home/dmoore/python/sigvisa/logs/mcmc/01653/step_000679..."
       ]
      },
      {
       "output_type": "stream",
       "stream": "stdout",
       "text": [
        "\n",
        "saved pickled graph\n",
        "step 680: lp -299684.53, accepted arrival_time: 0.140%, coda_decay: 0.125%, coda_height: 0.092%, evdepth: 0.494%, evloc: 0.772%, evloc_big: 0.177%, evmb: 0.938%, evtime: 0.406%, indep_peak: 0.001%, peak_decay: 0.256%, peak_offset: 0.107%, , uatemplates: 0 , events: 10 "
       ]
      },
      {
       "output_type": "stream",
       "stream": "stdout",
       "text": [
        "\n",
        "saving debug dump to /home/dmoore/python/sigvisa/logs/mcmc/01653/step_000699..."
       ]
      },
      {
       "output_type": "stream",
       "stream": "stdout",
       "text": [
        "\n",
        "saved pickled graph\n",
        "step 700: lp -299672.98, accepted arrival_time: 0.140%, coda_decay: 0.124%, coda_height: 0.092%, evdepth: 0.493%, evloc: 0.773%, evloc_big: 0.177%, evmb: 0.939%, evtime: 0.405%, indep_peak: 0.001%, peak_decay: 0.256%, peak_offset: 0.107%, , uatemplates: 0 , events: 10 "
       ]
      },
      {
       "output_type": "stream",
       "stream": "stdout",
       "text": [
        "\n",
        "saving debug dump to /home/dmoore/python/sigvisa/logs/mcmc/01653/step_000719..."
       ]
      },
      {
       "output_type": "stream",
       "stream": "stdout",
       "text": [
        "\n",
        "saved pickled graph\n",
        "step 720: lp -299674.32, accepted arrival_time: 0.140%, coda_decay: 0.124%, coda_height: 0.092%, evdepth: 0.491%, evloc: 0.773%, evloc_big: 0.176%, evmb: 0.939%, evtime: 0.405%, indep_peak: 0.001%, peak_decay: 0.256%, peak_offset: 0.107%, , uatemplates: 0 , events: 10 "
       ]
      },
      {
       "output_type": "stream",
       "stream": "stdout",
       "text": [
        "\n",
        "saving debug dump to /home/dmoore/python/sigvisa/logs/mcmc/01653/step_000739..."
       ]
      },
      {
       "output_type": "stream",
       "stream": "stdout",
       "text": [
        "\n",
        "saved pickled graph\n",
        "step 740: lp -299657.12, accepted arrival_time: 0.139%, coda_decay: 0.125%, coda_height: 0.091%, evdepth: 0.487%, evloc: 0.772%, evloc_big: 0.175%, evmb: 0.939%, evtime: 0.406%, indep_peak: 0.001%, peak_decay: 0.255%, peak_offset: 0.107%, , uatemplates: 0 , events: 10 "
       ]
      },
      {
       "output_type": "stream",
       "stream": "stdout",
       "text": [
        "\n",
        "saving debug dump to /home/dmoore/python/sigvisa/logs/mcmc/01653/step_000759..."
       ]
      },
      {
       "output_type": "stream",
       "stream": "stdout",
       "text": [
        "\n",
        "saved pickled graph"
       ]
      },
      {
       "output_type": "stream",
       "stream": "stdout",
       "text": [
        "\n",
        "step 760: lp -299677.32, accepted arrival_time: 0.139%, coda_decay: 0.125%, coda_height: 0.091%, evdepth: 0.487%, evloc: 0.773%, evloc_big: 0.176%, evmb: 0.939%, evtime: 0.404%, indep_peak: 0.001%, peak_decay: 0.256%, peak_offset: 0.107%, , uatemplates: 0 , events: 10 "
       ]
      },
      {
       "output_type": "stream",
       "stream": "stdout",
       "text": [
        "\n",
        "saving debug dump to /home/dmoore/python/sigvisa/logs/mcmc/01653/step_000779..."
       ]
      },
      {
       "output_type": "stream",
       "stream": "stdout",
       "text": [
        "\n",
        "saved pickled graph\n",
        "step 780: lp -299673.90, accepted arrival_time: 0.139%, coda_decay: 0.125%, coda_height: 0.091%, evdepth: 0.487%, evloc: 0.774%, evloc_big: 0.176%, evmb: 0.938%, evtime: 0.403%, indep_peak: 0.001%, peak_decay: 0.255%, peak_offset: 0.107%, , uatemplates: 0 , events: 10 "
       ]
      },
      {
       "output_type": "stream",
       "stream": "stdout",
       "text": [
        "\n",
        "saving debug dump to /home/dmoore/python/sigvisa/logs/mcmc/01653/step_000799..."
       ]
      },
      {
       "output_type": "stream",
       "stream": "stdout",
       "text": [
        "\n",
        "saved pickled graph\n",
        "step 800: lp -299674.65, accepted arrival_time: 0.139%, coda_decay: 0.124%, coda_height: 0.091%, evdepth: 0.485%, evloc: 0.775%, evloc_big: 0.175%, evmb: 0.937%, evtime: 0.404%, indep_peak: 0.001%, peak_decay: 0.256%, peak_offset: 0.107%, , uatemplates: 0 , events: 10 "
       ]
      },
      {
       "output_type": "stream",
       "stream": "stdout",
       "text": [
        "\n",
        "saving debug dump to /home/dmoore/python/sigvisa/logs/mcmc/01653/step_000819..."
       ]
      },
      {
       "output_type": "stream",
       "stream": "stdout",
       "text": [
        "\n",
        "saved pickled graph\n",
        "step 820: lp -299671.14, accepted arrival_time: 0.139%, coda_decay: 0.124%, coda_height: 0.090%, evdepth: 0.485%, evloc: 0.774%, evloc_big: 0.175%, evmb: 0.937%, evtime: 0.405%, indep_peak: 0.001%, peak_decay: 0.255%, peak_offset: 0.107%, , uatemplates: 0 , events: 10 "
       ]
      },
      {
       "output_type": "stream",
       "stream": "stdout",
       "text": [
        "\n",
        "saving debug dump to /home/dmoore/python/sigvisa/logs/mcmc/01653/step_000839..."
       ]
      },
      {
       "output_type": "stream",
       "stream": "stdout",
       "text": [
        "\n",
        "saved pickled graph\n",
        "step 840: lp -299674.82, accepted arrival_time: 0.139%, coda_decay: 0.124%, coda_height: 0.091%, evdepth: 0.483%, evloc: 0.773%, evloc_big: 0.174%, evmb: 0.937%, evtime: 0.406%, indep_peak: 0.001%, peak_decay: 0.255%, peak_offset: 0.106%, , uatemplates: 0 , events: 10 "
       ]
      },
      {
       "output_type": "stream",
       "stream": "stdout",
       "text": [
        "\n",
        "saving debug dump to /home/dmoore/python/sigvisa/logs/mcmc/01653/step_000859..."
       ]
      },
      {
       "output_type": "stream",
       "stream": "stdout",
       "text": [
        "\n",
        "saved pickled graph\n",
        "step 860: lp -299661.72, accepted arrival_time: 0.139%, coda_decay: 0.124%, coda_height: 0.091%, evdepth: 0.482%, evloc: 0.773%, evloc_big: 0.174%, evmb: 0.937%, evtime: 0.406%, indep_peak: 0.001%, peak_decay: 0.255%, peak_offset: 0.106%, , uatemplates: 0 , events: 10 "
       ]
      },
      {
       "output_type": "stream",
       "stream": "stdout",
       "text": [
        "\n",
        "saving debug dump to /home/dmoore/python/sigvisa/logs/mcmc/01653/step_000879..."
       ]
      },
      {
       "output_type": "stream",
       "stream": "stdout",
       "text": [
        "\n",
        "saved pickled graph\n",
        "step 880: lp -299664.86, accepted arrival_time: 0.138%, coda_decay: 0.125%, coda_height: 0.091%, evdepth: 0.481%, evloc: 0.773%, evloc_big: 0.175%, evmb: 0.937%, evtime: 0.406%, indep_peak: 0.001%, peak_decay: 0.255%, peak_offset: 0.106%, , uatemplates: 0 , events: 10 "
       ]
      },
      {
       "output_type": "stream",
       "stream": "stdout",
       "text": [
        "\n",
        "saving debug dump to /home/dmoore/python/sigvisa/logs/mcmc/01653/step_000899..."
       ]
      },
      {
       "output_type": "stream",
       "stream": "stdout",
       "text": [
        "\n",
        "saved pickled graph\n",
        "step 900: lp -299663.28, accepted arrival_time: 0.138%, coda_decay: 0.124%, coda_height: 0.091%, evdepth: 0.479%, evloc: 0.773%, evloc_big: 0.175%, evmb: 0.937%, evtime: 0.405%, indep_peak: 0.001%, peak_decay: 0.254%, peak_offset: 0.105%, , uatemplates: 0 , events: 10 "
       ]
      },
      {
       "output_type": "stream",
       "stream": "stdout",
       "text": [
        "\n",
        "saving debug dump to /home/dmoore/python/sigvisa/logs/mcmc/01653/step_000919..."
       ]
      },
      {
       "output_type": "stream",
       "stream": "stdout",
       "text": [
        "\n",
        "saved pickled graph\n",
        "step 920: lp -299671.89, accepted arrival_time: 0.137%, coda_decay: 0.124%, coda_height: 0.090%, evdepth: 0.477%, evloc: 0.773%, evloc_big: 0.175%, evmb: 0.937%, evtime: 0.405%, indep_peak: 0.001%, peak_decay: 0.254%, peak_offset: 0.106%, , uatemplates: 0 , events: 10 "
       ]
      },
      {
       "output_type": "stream",
       "stream": "stdout",
       "text": [
        "\n",
        "saving debug dump to /home/dmoore/python/sigvisa/logs/mcmc/01653/step_000939..."
       ]
      },
      {
       "output_type": "stream",
       "stream": "stdout",
       "text": [
        "\n",
        "saved pickled graph\n",
        "step 940: lp -299647.32, accepted arrival_time: 0.137%, coda_decay: 0.124%, coda_height: 0.090%, evdepth: 0.475%, evloc: 0.773%, evloc_big: 0.175%, evmb: 0.937%, evtime: 0.405%, indep_peak: 0.001%, peak_decay: 0.254%, peak_offset: 0.105%, , uatemplates: 0 , events: 10 "
       ]
      },
      {
       "output_type": "stream",
       "stream": "stdout",
       "text": [
        "\n",
        "saving debug dump to /home/dmoore/python/sigvisa/logs/mcmc/01653/step_000959..."
       ]
      },
      {
       "output_type": "stream",
       "stream": "stdout",
       "text": [
        "\n",
        "saved pickled graph"
       ]
      },
      {
       "output_type": "stream",
       "stream": "stdout",
       "text": [
        "\n",
        "step 960: lp -299647.68, accepted arrival_time: 0.137%, coda_decay: 0.124%, coda_height: 0.090%, evdepth: 0.473%, evloc: 0.774%, evloc_big: 0.174%, evmb: 0.937%, evtime: 0.406%, indep_peak: 0.001%, peak_decay: 0.254%, peak_offset: 0.105%, , uatemplates: 0 , events: 10 "
       ]
      },
      {
       "output_type": "stream",
       "stream": "stdout",
       "text": [
        "\n",
        "saving debug dump to /home/dmoore/python/sigvisa/logs/mcmc/01653/step_000979..."
       ]
      },
      {
       "output_type": "stream",
       "stream": "stdout",
       "text": [
        "\n",
        "saved pickled graph\n",
        "step 980: lp -299662.10, accepted arrival_time: 0.137%, coda_decay: 0.125%, coda_height: 0.090%, evdepth: 0.471%, evloc: 0.775%, evloc_big: 0.174%, evmb: 0.936%, evtime: 0.407%, indep_peak: 0.001%, peak_decay: 0.254%, peak_offset: 0.105%, , uatemplates: 0 , events: 10 "
       ]
      },
      {
       "output_type": "stream",
       "stream": "stdout",
       "text": [
        "\n",
        "saving debug dump to /home/dmoore/python/sigvisa/logs/mcmc/01653/step_000999..."
       ]
      },
      {
       "output_type": "stream",
       "stream": "stdout",
       "text": [
        "\n",
        "saved pickled graph\n"
       ]
      }
     ],
     "prompt_number": 6
    },
    {
     "cell_type": "code",
     "collapsed": false,
     "input": [],
     "language": "python",
     "metadata": {},
     "outputs": [
      {
       "output_type": "stream",
       "stream": "stdout",
       "text": [
        "step 1: lp -457935.66, accepted arrival_time: 0.940%, coda_decay: 0.800%, coda_height: 0.930%, evdepth: 0.650%, evloc: 0.750%, evloc_big: 0.250%, evmb: 0.950%, evtime: 0.600%, indep_peak: 0.000%, peak_decay: 0.680%, peak_offset: 0.700%, , uatemplates: 0 , events: 10 \n",
        "step 2: lp -457604.09, accepted arrival_time: 0.947%, coda_decay: 0.787%, coda_height: 0.920%, evdepth: 0.733%, evloc: 0.700%, evloc_big: 0.200%, evmb: 0.967%, evtime: 0.600%, indep_peak: 0.000%, peak_decay: 0.693%, peak_offset: 0.710%, , uatemplates: 0 , events: 10 "
       ]
      },
      {
       "output_type": "stream",
       "stream": "stdout",
       "text": [
        "\n",
        "step 3: lp -457420.14, accepted arrival_time: 0.940%, coda_decay: 0.785%, coda_height: 0.925%, evdepth: 0.700%, evloc: 0.775%, evloc_big: 0.150%, evmb: 0.975%, evtime: 0.525%, indep_peak: 0.000%, peak_decay: 0.700%, peak_offset: 0.718%, , uatemplates: 0 , events: 10 "
       ]
      },
      {
       "output_type": "stream",
       "stream": "stdout",
       "text": [
        "\n",
        "step 4: lp -458009.79, accepted arrival_time: 0.932%, coda_decay: 0.748%, coda_height: 0.932%, evdepth: 0.680%, evloc: 0.820%, evloc_big: 0.180%, evmb: 0.940%, evtime: 0.440%, indep_peak: 0.000%, peak_decay: 0.696%, peak_offset: 0.714%, , uatemplates: 0 , events: 10 "
       ]
      },
      {
       "output_type": "stream",
       "stream": "stdout",
       "text": [
        "\n",
        "saving debug dump to /home/dmoore/python/sigvisa/logs/mcmc/01637/step_000019..."
       ]
      },
      {
       "output_type": "stream",
       "stream": "stdout",
       "text": [
        "\n",
        "saved pickled graph\n",
        "step 20: lp -461489.94, accepted arrival_time: 0.911%, coda_decay: 0.702%, coda_height: 0.907%, evdepth: 0.543%, evloc: 0.814%, evloc_big: 0.219%, evmb: 0.957%, evtime: 0.438%, indep_peak: 0.000%, peak_decay: 0.710%, peak_offset: 0.707%, , uatemplates: 0 , events: 10 "
       ]
      },
      {
       "output_type": "stream",
       "stream": "stdout",
       "text": [
        "\n",
        "saving debug dump to /home/dmoore/python/sigvisa/logs/mcmc/01637/step_000039..."
       ]
      },
      {
       "output_type": "stream",
       "stream": "stdout",
       "text": [
        "\n",
        "saved pickled graph\n",
        "step 40: lp -539587.02, accepted arrival_time: 0.916%, coda_decay: 0.708%, coda_height: 0.892%, evdepth: 0.537%, evloc: 0.824%, evloc_big: 0.198%, evmb: 0.946%, evtime: 0.439%, indep_peak: 0.000%, peak_decay: 0.708%, peak_offset: 0.694%, , uatemplates: 0 , events: 10 "
       ]
      },
      {
       "output_type": "stream",
       "stream": "stdout",
       "text": [
        "\n",
        "saving debug dump to /home/dmoore/python/sigvisa/logs/mcmc/01637/step_000059..."
       ]
      },
      {
       "output_type": "stream",
       "stream": "stdout",
       "text": [
        "\n",
        "saved pickled graph\n",
        "step 60: lp -464882.80, accepted arrival_time: 0.915%, coda_decay: 0.694%, coda_height: 0.885%, evdepth: 0.503%, evloc: 0.826%, evloc_big: 0.200%, evmb: 0.957%, evtime: 0.449%, indep_peak: 0.000%, peak_decay: 0.702%, peak_offset: 0.691%, , uatemplates: 0 , events: 10 "
       ]
      },
      {
       "output_type": "stream",
       "stream": "stdout",
       "text": [
        "\n",
        "saving debug dump to /home/dmoore/python/sigvisa/logs/mcmc/01637/step_000079..."
       ]
      },
      {
       "output_type": "stream",
       "stream": "stdout",
       "text": [
        "\n",
        "saved pickled graph\n",
        "step 80: lp -465801.85, accepted arrival_time: 0.912%, coda_decay: 0.694%, coda_height: 0.881%, evdepth: 0.491%, evloc: 0.817%, evloc_big: 0.202%, evmb: 0.963%, evtime: 0.454%, indep_peak: 0.000%, peak_decay: 0.694%, peak_offset: 0.693%, , uatemplates: 0 , events: 10 "
       ]
      },
      {
       "output_type": "stream",
       "stream": "stdout",
       "text": [
        "\n",
        "saving debug dump to /home/dmoore/python/sigvisa/logs/mcmc/01637/step_000099..."
       ]
      },
      {
       "output_type": "stream",
       "stream": "stdout",
       "text": [
        "\n",
        "saved pickled graph\n",
        "step 100: lp -2248352.71, accepted arrival_time: 0.911%, coda_decay: 0.694%, coda_height: 0.882%, evdepth: 0.483%, evloc: 0.816%, evloc_big: 0.215%, evmb: 0.963%, evtime: 0.461%, indep_peak: 0.000%, peak_decay: 0.692%, peak_offset: 0.694%, , uatemplates: 0 , events: 10 "
       ]
      },
      {
       "output_type": "stream",
       "stream": "stdout",
       "text": [
        "\n",
        "saving debug dump to /home/dmoore/python/sigvisa/logs/mcmc/01637/step_000119..."
       ]
      },
      {
       "output_type": "stream",
       "stream": "stdout",
       "text": [
        "\n",
        "saved pickled graph\n",
        "step 120: lp -497183.26, accepted arrival_time: 0.911%, coda_decay: 0.695%, coda_height: 0.883%, evdepth: 0.468%, evloc: 0.813%, evloc_big: 0.213%, evmb: 0.959%, evtime: 0.454%, indep_peak: 0.000%, peak_decay: 0.692%, peak_offset: 0.690%, , uatemplates: 0 , events: 10 "
       ]
      },
      {
       "output_type": "stream",
       "stream": "stdout",
       "text": [
        "\n",
        "saving debug dump to /home/dmoore/python/sigvisa/logs/mcmc/01637/step_000139..."
       ]
      },
      {
       "output_type": "stream",
       "stream": "stdout",
       "text": [
        "\n",
        "saved pickled graph\n",
        "step 140: lp -458868.23, accepted arrival_time: 0.910%, coda_decay: 0.692%, coda_height: 0.882%, evdepth: 0.460%, evloc: 0.813%, evloc_big: 0.218%, evmb: 0.955%, evtime: 0.452%, indep_peak: 0.000%, peak_decay: 0.694%, peak_offset: 0.689%, , uatemplates: 0 , events: 10 "
       ]
      },
      {
       "output_type": "stream",
       "stream": "stdout",
       "text": [
        "\n",
        "saving debug dump to /home/dmoore/python/sigvisa/logs/mcmc/01637/step_000159..."
       ]
      },
      {
       "output_type": "stream",
       "stream": "stdout",
       "text": [
        "\n",
        "saved pickled graph"
       ]
      },
      {
       "output_type": "stream",
       "stream": "stdout",
       "text": [
        "\n",
        "step 160: lp -471004.16, accepted arrival_time: 0.910%, coda_decay: 0.688%, coda_height: 0.881%, evdepth: 0.460%, evloc: 0.814%, evloc_big: 0.221%, evmb: 0.958%, evtime: 0.449%, indep_peak: 0.000%, peak_decay: 0.695%, peak_offset: 0.690%, , uatemplates: 0 , events: 10 "
       ]
      },
      {
       "output_type": "stream",
       "stream": "stdout",
       "text": [
        "\n"
       ]
      },
      {
       "ename": "KeyboardInterrupt",
       "evalue": "",
       "output_type": "pyerr",
       "traceback": [
        "\u001b[1;31m---------------------------------------------------------------------------\u001b[0m\n\u001b[1;31mKeyboardInterrupt\u001b[0m                         Traceback (most recent call last)",
        "\u001b[1;32m<ipython-input-7-d63d89f2b4d0>\u001b[0m in \u001b[0;36m<module>\u001b[1;34m()\u001b[0m\n\u001b[0;32m      5\u001b[0m                   \u001b[0mlogger\u001b[0m\u001b[1;33m=\u001b[0m\u001b[0mlogger\u001b[0m\u001b[1;33m,\u001b[0m\u001b[1;33m\u001b[0m\u001b[0m\n\u001b[0;32m      6\u001b[0m                   \u001b[0menable_event_openworld\u001b[0m\u001b[1;33m=\u001b[0m\u001b[0mFalse\u001b[0m\u001b[1;33m,\u001b[0m\u001b[1;33m\u001b[0m\u001b[0m\n\u001b[1;32m----> 7\u001b[1;33m                   enable_template_openworld=False)\n\u001b[0m",
        "\u001b[1;32m/home/dmoore/python/sigvisa/infer/run_mcmc.py\u001b[0m in \u001b[0;36mrun_open_world_MH\u001b[1;34m(sg, steps, enable_event_openworld, enable_event_moves, enable_template_openworld, enable_template_moves, template_move_type, logger, disable_moves, start_step, cyclic_template_moves, use_proxy_lp, template_openworld_custom)\u001b[0m\n\u001b[0;32m    298\u001b[0m                                      \u001b[0msg\u001b[0m\u001b[1;33m=\u001b[0m\u001b[0msg\u001b[0m\u001b[1;33m,\u001b[0m \u001b[0mwave_node\u001b[0m\u001b[1;33m=\u001b[0m\u001b[0mwn\u001b[0m\u001b[1;33m,\u001b[0m \u001b[0mtmnodes\u001b[0m\u001b[1;33m=\u001b[0m\u001b[0mtmnodes\u001b[0m\u001b[1;33m,\u001b[0m\u001b[1;33m\u001b[0m\u001b[0m\n\u001b[0;32m    299\u001b[0m                                      \u001b[0mstd\u001b[0m\u001b[1;33m=\u001b[0m\u001b[0mstds\u001b[0m\u001b[1;33m[\u001b[0m\u001b[0mmove_name\u001b[0m\u001b[1;33m]\u001b[0m \u001b[1;32mif\u001b[0m \u001b[0mmove_name\u001b[0m \u001b[1;32min\u001b[0m \u001b[0mstds\u001b[0m \u001b[1;32melse\u001b[0m \u001b[0mNone\u001b[0m\u001b[1;33m,\u001b[0m\u001b[1;33m\u001b[0m\u001b[0m\n\u001b[1;32m--> 300\u001b[1;33m                                      window_lps = window_lps)\n\u001b[0m\u001b[0;32m    301\u001b[0m \u001b[1;33m\u001b[0m\u001b[0m\n\u001b[0;32m    302\u001b[0m                         \u001b[1;31m# also do basic wiggling-around of all template params\u001b[0m\u001b[1;33m\u001b[0m\u001b[1;33m\u001b[0m\u001b[0m\n",
        "\u001b[1;32m/home/dmoore/python/sigvisa/infer/run_mcmc.py\u001b[0m in \u001b[0;36mrun_move\u001b[1;34m(move_name, fn, step, n_accepted, n_attempted, move_times, move_prob, cyclic, **kwargs)\u001b[0m\n\u001b[0;32m    102\u001b[0m \u001b[1;33m\u001b[0m\u001b[0m\n\u001b[0;32m    103\u001b[0m     \u001b[0mt0\u001b[0m  \u001b[1;33m=\u001b[0m \u001b[0mtime\u001b[0m\u001b[1;33m.\u001b[0m\u001b[0mtime\u001b[0m\u001b[1;33m(\u001b[0m\u001b[1;33m)\u001b[0m\u001b[1;33m\u001b[0m\u001b[0m\n\u001b[1;32m--> 104\u001b[1;33m     \u001b[0maccepted\u001b[0m \u001b[1;33m=\u001b[0m \u001b[0mfn\u001b[0m\u001b[1;33m(\u001b[0m\u001b[1;33m**\u001b[0m\u001b[0mkwargs\u001b[0m\u001b[1;33m)\u001b[0m\u001b[1;33m\u001b[0m\u001b[0m\n\u001b[0m\u001b[0;32m    105\u001b[0m     \u001b[0mt1\u001b[0m \u001b[1;33m=\u001b[0m \u001b[0mtime\u001b[0m\u001b[1;33m.\u001b[0m\u001b[0mtime\u001b[0m\u001b[1;33m(\u001b[0m\u001b[1;33m)\u001b[0m\u001b[1;33m\u001b[0m\u001b[0m\n\u001b[0;32m    106\u001b[0m \u001b[1;33m\u001b[0m\u001b[0m\n",
        "\u001b[1;32m/home/dmoore/python/sigvisa/infer/template_mcmc.pyc\u001b[0m in \u001b[0;36mimprove_atime_move\u001b[1;34m(sg, wave_node, tmnodes, std, window_lps, **kwargs)\u001b[0m\n\u001b[0;32m    305\u001b[0m                                             \u001b[0mnode_list\u001b[0m\u001b[1;33m=\u001b[0m\u001b[1;33m(\u001b[0m\u001b[0mn_atime\u001b[0m\u001b[1;33m,\u001b[0m\u001b[1;33m)\u001b[0m\u001b[1;33m,\u001b[0m\u001b[1;33m\u001b[0m\u001b[0m\n\u001b[0;32m    306\u001b[0m                                             \u001b[0mvalues\u001b[0m\u001b[1;33m=\u001b[0m\u001b[1;33m(\u001b[0m\u001b[0mvalues\u001b[0m\u001b[1;33m)\u001b[0m\u001b[1;33m,\u001b[0m \u001b[0mstd\u001b[0m\u001b[1;33m=\u001b[0m\u001b[0mstd\u001b[0m\u001b[1;33m,\u001b[0m\u001b[1;33m\u001b[0m\u001b[0m\n\u001b[1;32m--> 307\u001b[1;33m                                             **kwargs))\n\u001b[0m\u001b[0;32m    308\u001b[0m \u001b[1;33m\u001b[0m\u001b[0m\n\u001b[0;32m    309\u001b[0m     \u001b[0mnode_list\u001b[0m \u001b[1;33m=\u001b[0m \u001b[1;33m[\u001b[0m\u001b[0mn_atime\u001b[0m\u001b[1;33m,\u001b[0m\u001b[1;33m]\u001b[0m\u001b[1;33m\u001b[0m\u001b[0m\n",
        "\u001b[1;32m/home/dmoore/python/sigvisa/infer/mcmc_basic.pyc\u001b[0m in \u001b[0;36mgaussian_propose\u001b[1;34m(sg, keys, node_list, values, scales, std, phase_wraparound)\u001b[0m\n\u001b[0;32m     18\u001b[0m     \u001b[0mn\u001b[0m \u001b[1;33m=\u001b[0m \u001b[0mlen\u001b[0m\u001b[1;33m(\u001b[0m\u001b[0mvalues\u001b[0m\u001b[1;33m)\u001b[0m\u001b[1;33m\u001b[0m\u001b[0m\n\u001b[0;32m     19\u001b[0m \u001b[1;33m\u001b[0m\u001b[0m\n\u001b[1;32m---> 20\u001b[1;33m     \u001b[0mgsample\u001b[0m \u001b[1;33m=\u001b[0m \u001b[0mnp\u001b[0m\u001b[1;33m.\u001b[0m\u001b[0mrandom\u001b[0m\u001b[1;33m.\u001b[0m\u001b[0mnormal\u001b[0m\u001b[1;33m(\u001b[0m\u001b[1;36m0\u001b[0m\u001b[1;33m,\u001b[0m \u001b[0mstd\u001b[0m\u001b[1;33m,\u001b[0m \u001b[0mn\u001b[0m\u001b[1;33m)\u001b[0m\u001b[1;33m\u001b[0m\u001b[0m\n\u001b[0m\u001b[0;32m     21\u001b[0m     \u001b[0mmove\u001b[0m \u001b[1;33m=\u001b[0m \u001b[0mgsample\u001b[0m \u001b[1;33m*\u001b[0m \u001b[0mscales\u001b[0m\u001b[1;33m\u001b[0m\u001b[0m\n\u001b[0;32m     22\u001b[0m     \u001b[1;32mif\u001b[0m \u001b[0mphase_wraparound\u001b[0m\u001b[1;33m:\u001b[0m \u001b[1;31m# phases must be between 0 and 2pi\u001b[0m\u001b[1;33m\u001b[0m\u001b[0m\n",
        "\u001b[1;31mKeyboardInterrupt\u001b[0m: "
       ]
      }
     ],
     "prompt_number": 7
    },
    {
     "cell_type": "code",
     "collapsed": false,
     "input": [],
     "language": "python",
     "metadata": {},
     "outputs": [],
     "prompt_number": 8
    },
    {
     "cell_type": "code",
     "collapsed": false,
     "input": [],
     "language": "python",
     "metadata": {},
     "outputs": []
    }
   ],
   "metadata": {}
  }
 ]
}