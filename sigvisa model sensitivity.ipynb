{
 "metadata": {
  "name": "sigvisa model sensitivity"
 },
 "nbformat": 3,
 "nbformat_minor": 0,
 "worksheets": [
  {
   "cells": [
    {
     "cell_type": "code",
     "collapsed": false,
     "input": [
      "# for each event, load logodds at each station\n",
      "# make a list of 'missing' station/event pairs\n",
      "\n",
      "from sigvisa import Sigvisa\n",
      "s = Sigvisa()\n",
      "cursor = s.dbconn.cursor()\n",
      "cursor.execute(\"select evid from leb_origin where time between (select start_time from dataset where label='test') and (select end_time from dataset where label='test')\")\n",
      "evids = np.array(cursor.fetchall() + ((5393637,),)).flatten()\n",
      "with open('stations.txt', 'r') as f:\n",
      "    stations = f.read()[:-1].split(',')"
     ],
     "language": "python",
     "metadata": {},
     "outputs": [],
     "prompt_number": 1
    },
    {
     "cell_type": "code",
     "collapsed": false,
     "input": [
      "import os \n",
      "from collections import defaultdict\n",
      "\n",
      "logodds_dict = defaultdict(dict)\n",
      "missing_pairs = []\n",
      "for evid in evids:\n",
      "    for sta in stations:\n",
      "        logodds_fname = os.path.join('experiments/logodds/results/%s/events/%d' % (sta, evid))\n",
      "        try:\n",
      "            with open(logodds_fname, 'r') as f:\n",
      "                ev_lp, noise_lp, logodds = [float(x) for x in f.read().split()]\n",
      "            logodds_dict[evid][sta] = logodds\n",
      "        except IOError:\n",
      "            missing_pairs.append((evid, sta))\n",
      "            continue\n",
      "        \n"
     ],
     "language": "python",
     "metadata": {},
     "outputs": [],
     "prompt_number": 2
    },
    {
     "cell_type": "code",
     "collapsed": false,
     "input": [
      "missing_pairs_valid = []\n",
      "for (evid, sta) in missing_pairs:\n",
      "    if len(logodds_dict[evid]) > 0:\n",
      "        missing_pairs_valid.append((evid, sta))\n",
      "\n",
      "missing_pairs_reallyvalid = []\n",
      "for (evid, sta) in missing_pairs_valid:\n",
      "    if len(calibration[sta]) > 0:\n",
      "        missing_pairs_reallyvalid.append((evid, sta))\n",
      "        \n",
      "f = open('missing_events.sh', 'w')\n",
      "for (evid, sta) in missing_pairs_reallyvalid:\n",
      "    f.write(\"python experiments/logodds_event_sta.py -e %d  -s %s --run_name=everything --run_iteration=2 --phases=P --template_model=param --wiggle_family=dummy\\n\" % (evid, sta))\n",
      "f.close()"
     ],
     "language": "python",
     "metadata": {},
     "outputs": []
    },
    {
     "cell_type": "code",
     "collapsed": false,
     "input": [
      "\n",
      "calibration_dict = defaultdict(dict)\n",
      "missing_pairs_calib = []\n",
      "\n",
      "for fakeEvid in os.listdir('experiments/logodds/results/FINES/calibration/'):\n",
      "    if not fakeEvid.startswith('fake'): continue\n",
      "    evid = int(fakeEvid[4:])\n",
      "    for sta in stations:\n",
      "        logodds_fname = os.path.join('experiments/logodds/results/%s/calibration/fake%d' % (sta, evid))\n",
      "        try:\n",
      "            with open(logodds_fname, 'r') as f:\n",
      "                ev_lp, noise_lp, logodds = [float(x) for x in f.read().split()]\n",
      "            calibration_dict[evid][sta] = logodds\n",
      "        except IOError:\n",
      "            missing_pairs_calib.append((evid, sta))\n",
      "            continue"
     ],
     "language": "python",
     "metadata": {},
     "outputs": [],
     "prompt_number": 22
    },
    {
     "cell_type": "code",
     "collapsed": false,
     "input": [
      "ccounts = defaultdict(int)\n",
      "\n",
      "sta_logodds_calib = defaultdict(list)\n",
      "\n",
      "for (evid, stadict) in calibration_dict.items():\n",
      "    for (sta, logodds) in stadict.items():\n",
      "        ccounts[sta] += 1\n",
      "        sta_logodds_calib[sta].append(logodds)\n",
      "        \n",
      "rcounts = defaultdict(int)\n",
      "\n",
      "for (evid, stadict) in logodds_dict.items():\n",
      "    for (sta, logodds) in stadict.items():\n",
      "        rcounts[sta] += 1\n",
      "        \n",
      "good_stations = []\n",
      "for sta in ccounts.keys():\n",
      "    calib_ratio = float(ccounts[sta])/max(ccounts.values())\n",
      "    ev_ratio = float(rcounts[sta])/max(rcounts.values())\n",
      "    median_logodds = np.median(sta_logodds_calib[sta])\n",
      "    if calib_ratio < ev_ratio * .5:\n",
      "        pass\n",
      "        print \"bad station due to uptime\", sta, ccounts[sta], calib_ratio, rcounts[sta], ev_ratio\n",
      "    elif median_logodds > 0:\n",
      "        print \"bad station due to positive median logodds\", sta\n",
      "    else:\n",
      "        good_stations.append(sta)\n",
      "        \n",
      "good_stations = set(good_stations)\n",
      "   "
     ],
     "language": "python",
     "metadata": {},
     "outputs": [
      {
       "output_type": "stream",
       "stream": "stdout",
       "text": [
        "bad station due to positive median logodds USRK\n",
        "bad station due to positive median logodds PETK\n",
        "bad station due to positive median logodds BORG\n",
        "bad station due to positive median logodds STKA\n",
        "bad station due to positive median logodds VNDA\n",
        "bad station due to positive median logodds PMSA\n",
        "bad station due to positive median logodds WRA\n",
        "bad station due to positive median logodds SONM\n",
        "bad station due to positive median logodds BOSA\n",
        "bad station due to positive median logodds PLCA\n",
        "bad station due to positive median logodds MAW\n",
        "bad station due to positive median logodds SNAA\n",
        "bad station due to positive median logodds KEST\n",
        "bad station due to positive median logodds CFAA\n",
        "bad station due to positive median logodds YKA\n",
        "bad station due to positive median logodds PSI\n",
        "bad station due to positive median logodds RES\n",
        "bad station due to uptime HNR 9 0.18 185 0.675182481752\n",
        "bad station due to positive median logodds CTA\n",
        "bad station due to positive median logodds SCHQ\n",
        "bad station due to positive median logodds ZALV\n",
        "bad station due to positive median logodds FRB\n",
        "bad station due to positive median logodds AAK\n",
        "bad station due to positive median logodds QSPA\n",
        "bad station due to uptime GNI 1 0.02 17 0.0620437956204\n",
        "bad station due to positive median logodds MLR\n"
       ]
      }
     ],
     "prompt_number": 178
    },
    {
     "cell_type": "code",
     "collapsed": false,
     "input": [
      "\n",
      "print np.max(ccounts.values())\n",
      "print np.max(rcounts.values())"
     ],
     "language": "python",
     "metadata": {},
     "outputs": [
      {
       "output_type": "stream",
       "stream": "stdout",
       "text": [
        "50\n",
        "274\n"
       ]
      }
     ],
     "prompt_number": 171
    },
    {
     "cell_type": "code",
     "collapsed": false,
     "input": [
      "from sigvisa.source.event import get_event\n",
      "from sigvisa.models.ttime import tt_predict\n",
      "import scipy.stats\n",
      "\n",
      " #dict([scipy.stats.scoreatpercentile(calibration[sta], 90)])\n",
      "\n",
      "\n",
      "\n",
      "from sigvisa.experiments.logodds_event_sta import random_event\n",
      "    \n",
      "def tally_results(ldict, real_ev=False):\n",
      "    association_threshold = 0\n",
      "    n_assoc = defaultdict(int)\n",
      "    prob_assoc = defaultdict(int)\n",
      "    n_sel3  = defaultdict(int)\n",
      "    n_leb = defaultdict(int)\n",
      "    n_idc = defaultdict(int)\n",
      "\n",
      "    for (evid, stadict) in ldict.items():\n",
      "        if len(stadict.values()) > 0:\n",
      "            n_assoc[evid] = len([v for (sta, v) in stadict.items() if v > association_threshold and sta in good_stations])\n",
      "        if len(stadict.values()) > 0:\n",
      "            odds = np.array([np.exp(v)  if isfinite(np.exp(v)) else 999999 for v in stadict.values() if sta in good_stations])\n",
      "            prob_assoc[evid] = np.sum(odds / (1+odds))\n",
      "            if isnan(prob_assoc[evid]):\n",
      "                print odds\n",
      "            \n",
      "        if real_ev:\n",
      "            ev = get_event(evid=evid)\n",
      "        else:\n",
      "            ev = random_event(evid)\n",
      "            \n",
      "        for station in stadict.keys():\n",
      "            if station not in good_stations:\n",
      "                continue\n",
      "            \n",
      "            atime = tt_predict(ev, station, 'P') + ev.time\n",
      "            \n",
      "            sql_query = \"select ia.time, ia.snr from idcx_arrival ia where ia.sta='%s' and ia.time between %f and %f\" % (station, atime-10, atime+10)\n",
      "            cursor.execute(sql_query)\n",
      "            idc_arrivals = cursor.fetchall()\n",
      "            if len(idc_arrivals) > 0:\n",
      "                n_idc[evid] += 1\n",
      "\n",
      "\n",
      "            sql_query = \"select l.time, l.snr from leb_arrival l, leb_origin lebo, leb_assoc leba where l.sta='%s' and l.time between %f and %f and l.arid=leba.arid and leba.orid=lebo.orid and lebo.evid=%d\" % (station, atime-10,\\\n",
      "         atime+10, evid)\n",
      "            cursor.execute(sql_query)\n",
      "            leb_arrivals = cursor.fetchall()\n",
      "            if len(leb_arrivals) > 0:\n",
      "                n_leb[evid] += 1\n",
      "\n",
      "            \n",
      "            sql_query = \"select l.time from idcx_arrival l, sel3_origin lebo, sel3_assoc leba where l.sta='%s' and l.time between %f and %f and l.arid=leba.arid and leba.orid=lebo.orid and lebo.evid=%d\" % (station, atime-\\\n",
      "        10, atime+10, evid)\n",
      "            cursor.execute(sql_query)\n",
      "            sel3_arrivals = cursor.fetchall()\n",
      "            if len(sel3_arrivals) > 0:\n",
      "                n_sel3[evid] += 1\n",
      "                \n",
      "    return n_assoc, prob_assoc, n_idc, n_leb, n_sel3\n",
      "\n",
      "real_assoc, real_passoc, real_ims, real_leb, real_sel3 = tally_results(logodds_dict, real_ev=True)\n",
      "calib_assoc, calib_passoc, calib_ims, calib_leb, calib_sel3 = tally_results(calibration_dict)"
     ],
     "language": "python",
     "metadata": {},
     "outputs": [],
     "prompt_number": 180
    },
    {
     "cell_type": "code",
     "collapsed": false,
     "input": [
      "from sigvisa.plotting.histogram import plot_histogram\n",
      "\n",
      "figure()\n",
      "ax=gca()\n",
      "plot_histogram(real_assoc.values(), axes=ax, label='SIG-VISA evidence', draw_stats=False, normed=True)\n",
      "plot_histogram([v for v in real_leb.values() if v > 0], axes=ax, label='LEB associations', draw_stats=False, normed=True)\n",
      "\n",
      "plot_histogram(real_ims.values(), axes=ax, label='IMS detections', draw_stats=False, normed=True)\n",
      "\n",
      "ax.legend()\n",
      "\n",
      "gca().set_xlim([-0, 50])\n",
      "ax.set_xlabel('stations')"
     ],
     "language": "python",
     "metadata": {},
     "outputs": [
      {
       "output_type": "pyout",
       "prompt_number": 183,
       "text": [
        "<matplotlib.text.Text at 0xda42f50>"
       ]
      },
      {
       "output_type": "display_data",
       "png": "[encoded data removed]"
      }
     ],
     "prompt_number": 183
    },
    {
     "cell_type": "code",
     "collapsed": false,
     "input": [
      "from sigvisa.plotting.histogram import plot_histogram\n",
      "\n",
      "norm_assoc = [max(0, v) for v in real_assoc.values() - np.mean(calib_assoc.values())]\n",
      "norm_ims = [max(0, v) for v in real_ims.values() - np.mean(calib_ims.values())]\n",
      "\n",
      "figure()\n",
      "ax=gca()\n",
      "\n",
      "plot_histogram(norm_assoc, axes=ax, label='Normalized SIG-VISA evidence', draw_stats=False, normed=True)\n",
      "plot_histogram(norm_ims, axes=ax, label='Normalized IMS detections', draw_stats=False, normed=True)\n",
      "\n",
      "#plot_histogram(real_passoc.values() - np.mean(calib_passoc.values()), axes=ax, label='SIG-VISA pevidence', draw_stats=False, normed=True)\n",
      "#plot_histogram([v for v in real_leb.values() if v > 0], axes=ax, label='LEB associations', draw_stats=False, normed=True)\n",
      "\n",
      "\n",
      "\n",
      "ax.legend()\n",
      "\n",
      "gca().set_xlim([0, 50])\n",
      "ax.set_xlabel('stations')\n",
      "\n",
      "print np.mean(norm_assoc)\n",
      "print np.mean(norm_ims)"
     ],
     "language": "python",
     "metadata": {},
     "outputs": [
      {
       "output_type": "stream",
       "stream": "stdout",
       "text": [
        "4.44394160584\n",
        "4.36955052383\n"
       ]
      },
      {
       "output_type": "display_data",
       "png": "[encoded data removed]"
      }
     ],
     "prompt_number": 184
    },
    {
     "cell_type": "code",
     "collapsed": false,
     "input": [
      "\n",
      "print real_assoc[5393637], real_idc[5393637], real_sel3[5393637], real_leb[5393637]"
     ],
     "language": "python",
     "metadata": {},
     "outputs": [
      {
       "output_type": "stream",
       "stream": "stdout",
       "text": [
        " 64 46 31 43\n"
       ]
      }
     ],
     "prompt_number": 134
    },
    {
     "cell_type": "code",
     "collapsed": false,
     "input": [
      "from sigvisa.plotting.histogram import plot_histogram\n",
      "\n",
      "figure()\n",
      "ax=gca()\n",
      "plot_histogram([v for v in real_assoc.values() if v > 0], axes=ax, label='SIG-VISA evidence (real events)', draw_stats=False, normed=True)\n",
      "plot_histogram([v for v in calib_assoc.values() if v > 0], axes=ax, label='SIG-VISA calibration', draw_stats=False, normed=True)\n",
      "\n",
      "#plot_histogram([v for v in calib_ims.values() if v > 0], axes=ax, label='IMS detections', draw_stats=False, normed=True)\n",
      "ax.legend()\n",
      "\n",
      "#gca().set_xlim([0, 50])\n",
      "ax.set_xlabel('stations')"
     ],
     "language": "python",
     "metadata": {},
     "outputs": [
      {
       "output_type": "pyout",
       "prompt_number": 185,
       "text": [
        "<matplotlib.text.Text at 0xdc91890>"
       ]
      },
      {
       "output_type": "display_data",
       "png": "[encoded data removed]"
      }
     ],
     "prompt_number": 185
    },
    {
     "cell_type": "code",
     "collapsed": false,
     "input": [
      "print np.mean(calib_ims.values())\n",
      "print np.mean(real_ims.values())"
     ],
     "language": "python",
     "metadata": {},
     "outputs": [
      {
       "output_type": "stream",
       "stream": "stdout",
       "text": [
        "2.40909090909\n",
        "6.61710037175\n"
       ]
      }
     ],
     "prompt_number": 182
    },
    {
     "cell_type": "code",
     "collapsed": false,
     "input": [
      "print np.mean(calib_assoc.values())\n",
      "print np.mean(real_assoc.values())\n",
      "\n",
      "print np.mean(calib_passoc.values())\n",
      "print np.mean(real_passoc.values())"
     ],
     "language": "python",
     "metadata": {},
     "outputs": [
      {
       "output_type": "stream",
       "stream": "stdout",
       "text": [
        "11.04\n",
        "14.003649635\n",
        "1.09855238825\n",
        "1.75394727853\n"
       ]
      }
     ],
     "prompt_number": 181
    },
    {
     "cell_type": "code",
     "collapsed": false,
     "input": [
      "def calibrate(real_dict, calibration_dict):\n",
      "    n_real = len([evid for evid in real_dict.keys() if len(real_dict[evid]) > 0])\n",
      "    n_fake = len(calibration_dict)\n",
      "    r = n_real / float(n_real+n_fake)\n",
      "    #r = .5\n",
      "    \n",
      "    #buckets = ((0, .01), (.01, .2), (.2, .4), (.4, .6), (.6, .8), (.8, .99), (.99, .9999), (.9999, 1.0))\n",
      "    buckets = ((0.000001, 0.00001), (0.00001, 0.0001), (0.0001, 0.001), (0.001, 0.01), (0.01, 0.1), (.1, .9),\n",
      "                (0.9, 0.99), (0.99, 0.999), (0.999, 0.9999), (0.9999, 0.99999), (0.99999, 1.0))\n",
      "    \n",
      "    real_counts = defaultdict(int)\n",
      "    fake_counts = defaultdict(int)\n",
      "    \n",
      "    n_real = 0\n",
      "    for (evid, stadict) in real_dict.items():\n",
      "               \n",
      "        for (sta, logodds) in stadict.items():\n",
      "            odds = np.exp(logodds)\n",
      "            prob = r*odds / ((1-r) + r*odds)\n",
      "            for (low_prob, high_prob) in buckets:\n",
      "                if prob >= low_prob and prob <= high_prob:\n",
      "                    real_counts[(low_prob, high_prob)] += 1\n",
      "                    \n",
      "    for (evid, stadict) in calibration_dict.items():\n",
      "        for (sta, logodds) in stadict.items():\n",
      "            odds = np.exp(logodds)\n",
      "            prob = r*odds / ((1-r) + r*odds)\n",
      "            for (low_prob, high_prob) in buckets:\n",
      "                if prob >= low_prob and prob <= high_prob:\n",
      "                    fake_counts[(low_prob, high_prob)] += 1\n",
      "                    \n",
      "    real_probs = dict()\n",
      "    for bucket in real_counts.keys():\n",
      "        m = np.mean(bucket)\n",
      "        real_probs[m] = float(real_counts[bucket]) / (real_counts[bucket] + fake_counts[bucket])\n",
      "        \n",
      "    return real_probs, real_counts, fake_counts\n",
      "\n",
      "rp, rc, fc = calibrate(logodds_dict, calibration_dict)"
     ],
     "language": "python",
     "metadata": {},
     "outputs": [
      {
       "output_type": "stream",
       "stream": "stderr",
       "text": [
        "-c:19: RuntimeWarning: invalid value encountered in double_scalars\n",
        "-c:27: RuntimeWarning: invalid value encountered in double_scalars\n"
       ]
      }
     ],
     "prompt_number": 79
    },
    {
     "cell_type": "code",
     "collapsed": false,
     "input": [
      "print rc"
     ],
     "language": "python",
     "metadata": {},
     "outputs": [
      {
       "output_type": "stream",
       "stream": "stdout",
       "text": [
        "defaultdict(<type 'int'>, {(0.2, 0.4): 79, (0.8, 0.99): 123, (0.9999, 1.0): 682, (0.6, 0.8): 66, (0.99, 0.9999): 139, (0.4, 0.6): 48, (0, 0.01): 352, (0.01, 0.2): 970})\n"
       ]
      }
     ],
     "prompt_number": 75
    },
    {
     "cell_type": "code",
     "collapsed": false,
     "input": [
      "xxx = np.array(sorted(rp.items()))\n",
      "plot(xxx[:,1])\n",
      "gca().set_xticklabels(['%.2f' % x for x in xxx[:,0]])\n",
      "\n",
      "#todo: figure out why this calibration doesn't seem good"
     ],
     "language": "python",
     "metadata": {},
     "outputs": [
      {
       "output_type": "pyout",
       "prompt_number": 88,
       "text": [
        "[<matplotlib.text.Text at 0x7783610>,\n",
        " <matplotlib.text.Text at 0x778d950>,\n",
        " <matplotlib.text.Text at 0x78079d0>,\n",
        " <matplotlib.text.Text at 0x780b090>,\n",
        " <matplotlib.text.Text at 0x780b710>,\n",
        " <matplotlib.text.Text at 0x780bd90>,\n",
        " <matplotlib.text.Text at 0x780e450>,\n",
        " <matplotlib.text.Text at 0x780ead0>,\n",
        " <matplotlib.text.Text at 0x7811190>,\n",
        " <matplotlib.text.Text at 0x7811810>]"
       ]
      },
      {
       "output_type": "display_data",
       "png": "[encoded data removed]"
      }
     ],
     "prompt_number": 88
    },
    {
     "cell_type": "code",
     "collapsed": false,
     "input": [
      "nav = [v for v in real_assoc.values() if v > 0]\n",
      "print np.mean(nav)\n",
      "print np.std(nav)\n",
      "print scipy.stats.scoreatpercentile(nav, 10)\n",
      "print scipy.stats.scoreatpercentile(nav, 50)\n",
      "print scipy.stats.scoreatpercentile(nav, 90)\n",
      "\n",
      "nlv = [v for v in real_leb.values() if v > 0]\n",
      "print np.mean(nlv)\n",
      "print np.std(nlv)\n",
      "print scipy.stats.scoreatpercentile(nlv, 10)\n",
      "print scipy.stats.scoreatpercentile(nlv, 50)\n",
      "print scipy.stats.scoreatpercentile(nlv, 90)\n",
      "\n",
      "nsv = [v for v in real_sel3.values() if v > 0]\n",
      "print np.mean(nsv)\n",
      "print np.std(nsv)\n",
      "print scipy.stats.scoreatpercentile(nsv, 10)\n",
      "print scipy.stats.scoreatpercentile(nsv, 50)\n",
      "print scipy.stats.scoreatpercentile(nsv, 90)\n",
      "\n",
      "niv = [v for v in real_ims.values() if v > 0]\n",
      "print np.mean(niv)\n",
      "print np.std(niv)\n",
      "print scipy.stats.scoreatpercentile(niv, 10)\n",
      "print scipy.stats.scoreatpercentile(niv, 50)\n",
      "print scipy.stats.scoreatpercentile(niv, 90)"
     ],
     "language": "python",
     "metadata": {},
     "outputs": [
      {
       "output_type": "stream",
       "stream": "stdout",
       "text": [
        "25.6265060241\n",
        "8.36762384169\n",
        "16.8\n",
        "24.0\n",
        "35.0\n",
        "8.80514705882\n",
        "8.789756905\n",
        "3.0\n",
        "6.0\n",
        "19.0\n",
        "6.42056074766\n",
        "5.9413604647\n",
        "2.0\n",
        "4.0\n",
        "14.7\n",
        "10.2536764706\n",
        "8.59452123781\n",
        "3.0\n",
        "8.0\n",
        "21.0\n"
       ]
      }
     ],
     "prompt_number": 59
    },
    {
     "cell_type": "code",
     "collapsed": false,
     "input": [
      "nav = [v for v in calib_assoc.values() if v > 0]\n",
      "print np.mean(nav)\n",
      "print np.std(nav)\n",
      "print scipy.stats.scoreatpercentile(nav, 10)\n",
      "print scipy.stats.scoreatpercentile(nav, 50)\n",
      "print scipy.stats.scoreatpercentile(nav, 90)\n",
      "\n",
      "\n",
      "niv = [v for v in calib_ims.values() if v > 0]\n",
      "print np.mean(niv)\n",
      "print np.std(niv)\n",
      "print scipy.stats.scoreatpercentile(niv, 10)\n",
      "print scipy.stats.scoreatpercentile(niv, 50)\n",
      "print scipy.stats.scoreatpercentile(niv, 90)"
     ],
     "language": "python",
     "metadata": {},
     "outputs": [
      {
       "output_type": "stream",
       "stream": "stdout",
       "text": [
        "20.28\n",
        "4.23811278755\n",
        "15.0\n",
        "20.0\n",
        "25.0\n",
        "3.34693877551\n",
        "2.13380010165\n",
        "1.0\n",
        "3.0\n",
        "6.0\n"
       ]
      }
     ],
     "prompt_number": 129
    },
    {
     "cell_type": "code",
     "collapsed": false,
     "input": [],
     "language": "python",
     "metadata": {},
     "outputs": [],
     "prompt_number": 127
    },
    {
     "cell_type": "code",
     "collapsed": false,
     "input": [],
     "language": "python",
     "metadata": {},
     "outputs": []
    }
   ],
   "metadata": {}
  }
 ]
}