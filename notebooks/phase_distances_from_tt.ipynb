{
 "cells": [
  {
   "cell_type": "code",
   "execution_count": 21,
   "metadata": {
    "collapsed": false
   },
   "outputs": [
    {
     "name": "stdout",
     "output_type": "stream",
     "text": [
      "Populating the interactive namespace from numpy and matplotlib\n"
     ]
    }
   ],
   "source": [
    "%pylab inline\n",
    "import numpy as np\n",
    "from sigvisa import Sigvisa\n",
    "from sigvisa.models.ttime import tt_predict\n",
    "from sigvisa.utils.geog import dist_km"
   ]
  },
  {
   "cell_type": "code",
   "execution_count": 5,
   "metadata": {
    "collapsed": false
   },
   "outputs": [
    {
     "name": "stdout",
     "output_type": "stream",
     "text": [
      " 82.2904 46.7937 0.6154\n"
     ]
    }
   ],
   "source": [
    "s = Sigvisa()\n",
    "slon, slat, selev = s.earthmodel.site_info(\"MKAR\", 0)[:3]\n",
    "print slon, slat, selev\n"
   ]
  },
  {
   "cell_type": "code",
   "execution_count": 70,
   "metadata": {
    "collapsed": false
   },
   "outputs": [],
   "source": [
    "lons = np.linspace(0, 180, 500)\n",
    "ds = [dist_km((slon, slat), (slon+l, slat)) for l in lons]\n",
    "depth = 0\n",
    "#tts = np.array([s.sigmodel.mean_travel_time(slon+l, slat, depth, 0, \"MKAR\", 3) for l in lons])\n",
    "\n",
    "tts = np.zeros(lons.shape)\n",
    "tts1 = np.zeros(lons.shape)\n",
    "tts2 = np.zeros(lons.shape)\n",
    "tts3 = np.zeros(lons.shape)\n",
    "\n",
    "for i, l in enumerate(lons):\n",
    "    try:\n",
    "        tts[i] = s.sigmodel.mean_travel_time(slon+l, slat, depth, 0, \"MKAR\", 0)\n",
    "    except:\n",
    "        pass\n",
    "    \n",
    "    try:\n",
    "        tts1[i] = s.sigmodel.mean_travel_time(slon+l, slat, depth, 0, \"MKAR\", 6)\n",
    "    except:\n",
    "        pass\n",
    "    try:\n",
    "        tts2[i] = s.sigmodel.mean_travel_time(slon+l, slat, depth, 0, \"MKAR\", 12)\n",
    "    except:\n",
    "        pass\n",
    "    try:\n",
    "        tts3[i] = s.sigmodel.mean_travel_time(slon+l, slat, depth, 0, \"MKAR\", 7)\n",
    "    except:\n",
    "        pass"
   ]
  },
  {
   "cell_type": "code",
   "execution_count": 72,
   "metadata": {
    "collapsed": false
   },
   "outputs": [
    {
     "data": {
      "text/plain": [
       "(0, 12000)"
      ]
     },
     "execution_count": 72,
     "metadata": {},
     "output_type": "execute_result"
    },
    {
     "data": {
      "image/png": "[encoded data removed]",
      "text/plain": [
       "<matplotlib.figure.Figure at 0x7f3c57a8c050>"
      ]
     },
     "metadata": {},
     "output_type": "display_data"
    }
   ],
   "source": [
    "plt.plot(ds, tts)\n",
    "plt.plot(ds, tts1)\n",
    "#plt.plot(ds, tts3-tts)\n",
    "#plt.ylim([-100, 100])\n",
    "plt.xlim([0, 12000])"
   ]
  },
  {
   "cell_type": "code",
   "execution_count": null,
   "metadata": {
    "collapsed": false
   },
   "outputs": [],
   "source": []
  },
  {
   "cell_type": "code",
   "execution_count": null,
   "metadata": {
    "collapsed": true
   },
   "outputs": [],
   "source": []
  }
 ],
 "metadata": {
  "kernelspec": {
   "display_name": "Python 2",
   "language": "python",
   "name": "python2"
  },
  "language_info": {
   "codemirror_mode": {
    "name": "ipython",
    "version": 2
   },
   "file_extension": ".py",
   "mimetype": "text/x-python",
   "name": "python",
   "nbconvert_exporter": "python",
   "pygments_lexer": "ipython2",
   "version": "2.7.6"
  }
 },
 "nbformat": 4,
 "nbformat_minor": 0
}
