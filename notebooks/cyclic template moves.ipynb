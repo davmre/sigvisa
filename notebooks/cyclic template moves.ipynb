{
 "metadata": {
  "name": ""
 },
 "nbformat": 3,
 "nbformat_minor": 0,
 "worksheets": [
  {
   "cells": [
    {
     "cell_type": "code",
     "collapsed": false,
     "input": [
      "import numpy as np\n",
      "import sys\n",
      "import os\n",
      "import traceback\n",
      "import pickle\n",
      "import copy\n",
      "\n",
      "from sigvisa import Sigvisa\n",
      "\n",
      "from sigvisa.graph.sigvisa_graph import SigvisaGraph\n",
      "from sigvisa.infer.run_mcmc import run_open_world_MH\n",
      "from sigvisa.infer.mcmc_logger import MCMCLogger\n",
      "from sigvisa.infer.template_mcmc import birth_move, death_move, split_move, merge_move\n",
      "from sigvisa.plotting.plot import plot_with_fit\n",
      "from sigvisa.signals.common import Waveform\n",
      "from sigvisa.utils.fileutils import clear_directory, mkdir_p"
     ],
     "language": "python",
     "metadata": {},
     "outputs": [],
     "prompt_number": 1
    },
    {
     "cell_type": "code",
     "collapsed": false,
     "input": [
      "from sigvisa.experiments.one_station_templates_test import sample_template\n",
      "\n",
      "wave, templates = sample_template(seed=1, hardcoded=True)\n"
     ],
     "language": "python",
     "metadata": {},
     "outputs": [
      {
       "output_type": "stream",
       "stream": "stdout",
       "text": [
        "sampled 1 templates\n"
       ]
      }
     ],
     "prompt_number": 2
    },
    {
     "cell_type": "code",
     "collapsed": false,
     "input": [
      "srate=1.0\n",
      "sta=\"FIA3\"\n",
      "chan=\"SHZ\"\n",
      "nm_type=\"l1\"\n",
      "\n",
      "s = Sigvisa()\n",
      "\n",
      "import cPickle as pickle\n",
      "run_dir=os.path.join(s.homedir, 'logs', 'mcmc', 'merge_cyclic_debug')\n",
      "\n",
      "try:\n",
      "    raise Exception(\"\")\n",
      "    with open(os.path.join(run_dir, 'step_000499', 'pickle.sg'), 'rb') as f:\n",
      "        sg = pickle.load(f)\n",
      "    wn = sg.all_nodes[\"wave_FIA3_SHZ_freq_2.0_3.0_1239915900.0\"]\n",
      "    print \"loaded sg from cache\"\n",
      "except:\n",
      "\n",
      "    sg = SigvisaGraph(template_model_type=\"dummy\", template_shape=\"lin_polyexp\",\n",
      "                      wiggle_model_type=\"dummy\", wiggle_family=\"dummy\",\n",
      "                      phases=\"leb\", nm_type = nm_type, wiggle_len_s = 60.0)\n",
      "    wn = sg.add_wave(wave)\n",
      "    sg.uatemplate_rate=1e-4\n",
      "    \n",
      "    tg = sg.template_generator('UA')\n",
      "    tg.hack_force_mean = np.log(wn.nm.c * 5)\n",
      "    \n",
      "    run_seed = 2\n",
      "    np.random.seed(run_seed)\n",
      "    logger = MCMCLogger(run_dir, write_template_vals=True, dump_interval=50)\n",
      "    run_open_world_MH(sg, steps=1500,\n",
      "                          enable_template_openworld=True,\n",
      "                          enable_template_moves=True,\n",
      "                          enable_event_moves=False,\n",
      "                          logger=logger,\n",
      "                          enable_event_openworld=False,\n",
      "                          cyclic_template_moves=False)"
     ],
     "language": "python",
     "metadata": {},
     "outputs": [
      {
       "output_type": "stream",
       "stream": "stdout",
       "text": [
        "step 1: lp -17306.60, accepted  , uatemplates:  0 , events:  0\n",
        "step 2: lp -17306.60, accepted  , uatemplates:  0 , events:  0\n",
        "step 3: lp -17306.60, accepted  , uatemplates:  0 , events:  0\n",
        "step 4: lp -17306.60, accepted  , uatemplates:  0 , events:  0\n",
        "step 20: lp -17306.60, accepted  , uatemplates:  0 , events:  0\n",
        "step 40: lp -17306.60, accepted  tmpl_merge: 0.000%,  , uatemplates:  0 , events:  0\n",
        "saving debug dump to /home/dmoore/python/sigvisa/logs/mcmc/merge_cyclic_debug/step_000049...\n",
        "saved pickled graph\n",
        "step 60: lp -17306.60, accepted  tmpl_merge: 0.000%,  , uatemplates:  0 , events:  0\n",
        "birth template 1: -7075.0 + 0.0 - (-17302.8 + -6.8) = 10234.6 vs -0.1\n",
        "step 80: lp -5886.78, accepted "
       ]
      },
      {
       "output_type": "stream",
       "stream": "stdout",
       "text": [
        " arrival_time: 0.250%,  coda_decay: 0.000%,  coda_height: 0.000%,  indep_peak: 0.188%,  peak_decay: 0.188%,  peak_offset: 0.062%,  tmpl_birth: 1.000%,  tmpl_death: 0.000%,  tmpl_merge: 0.000%,  , uatemplates:  1 , events:  0\n",
        "saving debug dump to /home/dmoore/python/sigvisa/logs/mcmc/merge_cyclic_debug/step_000099..."
       ]
      },
      {
       "output_type": "stream",
       "stream": "stdout",
       "text": [
        "\n",
        "saved pickled graph\n",
        "step 100: lp -5883.72, accepted  arrival_time: 0.167%,  coda_decay: 0.000%,  coda_height: 0.000%,  indep_peak: 0.083%,  peak_decay: 0.222%,  peak_offset: 0.028%,  tmpl_birth: 1.000%,  tmpl_death: 0.000%,  tmpl_merge: 0.000%,  , uatemplates:  1 , events:  0\n",
        "step 120: lp -5682.57, accepted "
       ]
      },
      {
       "output_type": "stream",
       "stream": "stdout",
       "text": [
        " arrival_time: 0.196%,  coda_decay: 0.018%,  coda_height: 0.000%,  indep_peak: 0.054%,  peak_decay: 0.196%,  peak_offset: 0.054%,  tmpl_birth: 1.000%,  tmpl_death: 0.000%,  tmpl_merge: 0.000%,  tmpl_split: 0.000%,  , uatemplates:  1 , events:  0\n",
        "step 140: lp -5606.14, accepted "
       ]
      },
      {
       "output_type": "stream",
       "stream": "stdout",
       "text": [
        " arrival_time: 0.250%,  coda_decay: 0.013%,  coda_height: 0.000%,  indep_peak: 0.039%,  peak_decay: 0.184%,  peak_offset: 0.066%,  tmpl_birth: 1.000%,  tmpl_death: 0.000%,  tmpl_merge: 0.000%,  tmpl_split: 0.000%,  , uatemplates:  1 , events:  0\n",
        "saving debug dump to /home/dmoore/python/sigvisa/logs/mcmc/merge_cyclic_debug/step_000149...\n",
        "saved pickled graph\n",
        "step 160: lp -5597.49, accepted "
       ]
      },
      {
       "output_type": "stream",
       "stream": "stdout",
       "text": [
        " arrival_time: 0.208%,  coda_decay: 0.010%,  coda_height: 0.000%,  indep_peak: 0.052%,  peak_decay: 0.167%,  peak_offset: 0.052%,  tmpl_birth: 0.500%,  tmpl_death: 0.000%,  tmpl_merge: 0.000%,  tmpl_split: 0.000%,  , uatemplates:  1 , events:  0\n",
        "step 180: lp -5459.03, accepted "
       ]
      },
      {
       "output_type": "stream",
       "stream": "stdout",
       "text": [
        " arrival_time: 0.190%,  coda_decay: 0.009%,  coda_height: 0.009%,  indep_peak: 0.052%,  peak_decay: 0.172%,  peak_offset: 0.043%,  tmpl_birth: 0.500%,  tmpl_death: 0.000%,  tmpl_merge: 0.000%,  tmpl_split: 0.000%,  , uatemplates:  1 , events:  0\n",
        "saving debug dump to /home/dmoore/python/sigvisa/logs/mcmc/merge_cyclic_debug/step_000199..."
       ]
      },
      {
       "output_type": "stream",
       "stream": "stdout",
       "text": [
        "\n",
        "saved pickled graph\n",
        "step 200: lp -5335.54, accepted  arrival_time: 0.221%,  coda_decay: 0.007%,  coda_height: 0.007%,  indep_peak: 0.051%,  peak_decay: 0.154%,  peak_offset: 0.040%,  tmpl_birth: 0.500%,  tmpl_death: 0.000%,  tmpl_merge: 0.000%,  tmpl_split: 0.000%,  , uatemplates:  1 , events:  0\n",
        "step 220: lp -5314.06, accepted "
       ]
      },
      {
       "output_type": "stream",
       "stream": "stdout",
       "text": [
        " arrival_time: 0.205%,  coda_decay: 0.006%,  coda_height: 0.006%,  indep_peak: 0.045%,  peak_decay: 0.141%,  peak_offset: 0.042%,  tmpl_birth: 0.500%,  tmpl_death: 0.000%,  tmpl_merge: 0.000%,  tmpl_split: 0.000%,  , uatemplates:  1 , events:  0\n",
        "step 240: lp -5291.94, accepted "
       ]
      },
      {
       "output_type": "stream",
       "stream": "stdout",
       "text": [
        " arrival_time: 0.199%,  coda_decay: 0.006%,  coda_height: 0.006%,  indep_peak: 0.040%,  peak_decay: 0.125%,  peak_offset: 0.043%,  swap_association: 0.000%,  tmpl_birth: 0.500%,  tmpl_death: 0.000%,  tmpl_merge: 0.000%,  tmpl_split: 0.000%,  , uatemplates:  1 , events:  0\n",
        "saving debug dump to /home/dmoore/python/sigvisa/logs/mcmc/merge_cyclic_debug/step_000249...\n",
        "saved pickled graph\n",
        "step 260: lp -5287.93, accepted "
       ]
      },
      {
       "output_type": "stream",
       "stream": "stdout",
       "text": [
        " arrival_time: 0.189%,  coda_decay: 0.005%,  coda_height: 0.005%,  indep_peak: 0.036%,  peak_decay: 0.143%,  peak_offset: 0.041%,  swap_association: 0.000%,  tmpl_birth: 0.500%,  tmpl_death: 0.000%,  tmpl_merge: 0.000%,  tmpl_split: 0.000%,  , uatemplates:  1 , events:  0\n",
        "step 280: lp -5287.72, accepted "
       ]
      },
      {
       "output_type": "stream",
       "stream": "stdout",
       "text": [
        " arrival_time: 0.176%,  coda_decay: 0.005%,  coda_height: 0.005%,  indep_peak: 0.032%,  peak_decay: 0.144%,  peak_offset: 0.037%,  swap_association: 0.000%,  tmpl_birth: 0.333%,  tmpl_death: 0.000%,  tmpl_merge: 0.000%,  tmpl_split: 0.000%,  , uatemplates:  1 , events:  0\n",
        "birth template 2: -5263.1 + 0.0 - (-5249.2 + -14.1) = 0.1 vs -0.3\n",
        "saving debug dump to /home/dmoore/python/sigvisa/logs/mcmc/merge_cyclic_debug/step_000299..."
       ]
      },
      {
       "output_type": "stream",
       "stream": "stdout",
       "text": [
        "\n",
        "saved pickled graph\n",
        "step 300: lp -5221.57, accepted  arrival_time: 0.187%,  coda_decay: 0.020%,  coda_height: 0.004%,  indep_peak: 0.033%,  peak_decay: 0.134%,  peak_offset: 0.045%,  swap_association: 0.000%,  tmpl_birth: 0.500%,  tmpl_death: 0.000%,  tmpl_merge: 0.000%,  tmpl_split: 0.000%,  , uatemplates:  2 , events:  0\n",
        "step 320: lp -5139.24, accepted "
       ]
      },
      {
       "output_type": "stream",
       "stream": "stdout",
       "text": [
        " arrival_time: 0.238%,  coda_decay: 0.017%,  coda_height: 0.007%,  indep_peak: 0.028%,  peak_decay: 0.136%,  peak_offset: 0.044%,  swap_association: 0.000%,  tmpl_birth: 0.400%,  tmpl_death: 0.000%,  tmpl_merge: 0.000%,  tmpl_split: 0.000%,  , uatemplates:  2 , events:  0\n",
        "step 340: lp -5041.32, accepted "
       ]
      },
      {
       "output_type": "stream",
       "stream": "stdout",
       "text": [
        " arrival_time: 0.255%,  coda_decay: 0.025%,  coda_height: 0.009%,  indep_peak: 0.028%,  peak_decay: 0.141%,  peak_offset: 0.040%,  swap_association: 0.000%,  tmpl_birth: 0.400%,  tmpl_death: 0.000%,  tmpl_merge: 0.000%,  tmpl_split: 0.000%,  , uatemplates:  2 , events:  0\n",
        "saving debug dump to /home/dmoore/python/sigvisa/logs/mcmc/merge_cyclic_debug/step_000349..."
       ]
      },
      {
       "output_type": "stream",
       "stream": "stdout",
       "text": [
        "\n",
        "saved pickled graph\n",
        "step 360: lp -4934.40, accepted "
       ]
      },
      {
       "output_type": "stream",
       "stream": "stdout",
       "text": [
        " arrival_time: 0.279%,  coda_decay: 0.025%,  coda_height: 0.014%,  indep_peak: 0.030%,  peak_decay: 0.153%,  peak_offset: 0.042%,  swap_association: 0.000%,  tmpl_birth: 0.400%,  tmpl_death: 0.000%,  tmpl_merge: 0.000%,  tmpl_split: 0.000%,  , uatemplates:  2 , events:  0\n",
        "step 380: lp -4931.75, accepted "
       ]
      },
      {
       "output_type": "stream",
       "stream": "stdout",
       "text": [
        " arrival_time: 0.273%,  coda_decay: 0.022%,  coda_height: 0.012%,  indep_peak: 0.027%,  peak_decay: 0.150%,  peak_offset: 0.039%,  swap_association: 0.000%,  tmpl_birth: 0.400%,  tmpl_death: 0.000%,  tmpl_merge: 0.000%,  tmpl_split: 0.000%,  , uatemplates:  2 , events:  0\n",
        "saving debug dump to /home/dmoore/python/sigvisa/logs/mcmc/merge_cyclic_debug/step_000399..."
       ]
      },
      {
       "output_type": "stream",
       "stream": "stdout",
       "text": [
        "\n",
        "saved pickled graph\n",
        "step 400: lp -4925.76, accepted  arrival_time: 0.276%,  coda_decay: 0.025%,  coda_height: 0.011%,  indep_peak: 0.025%,  peak_decay: 0.157%,  peak_offset: 0.037%,  swap_association: 0.000%,  tmpl_birth: 0.400%,  tmpl_death: 0.000%,  tmpl_merge: 0.000%,  tmpl_split: 0.000%,  , uatemplates:  2 , events:  0\n",
        "step 420: lp -4917.29, accepted "
       ]
      },
      {
       "output_type": "stream",
       "stream": "stdout",
       "text": [
        " arrival_time: 0.286%,  coda_decay: 0.025%,  coda_height: 0.010%,  indep_peak: 0.023%,  peak_decay: 0.160%,  peak_offset: 0.035%,  swap_association: 0.000%,  tmpl_birth: 0.400%,  tmpl_death: 0.000%,  tmpl_merge: 0.000%,  tmpl_split: 0.000%,  , uatemplates:  2 , events:  0\n",
        "step 440: lp -4916.71, accepted "
       ]
      },
      {
       "output_type": "stream",
       "stream": "stdout",
       "text": [
        " arrival_time: 0.291%,  coda_decay: 0.027%,  coda_height: 0.010%,  indep_peak: 0.021%,  peak_decay: 0.165%,  peak_offset: 0.033%,  swap_association: 0.000%,  tmpl_birth: 0.400%,  tmpl_death: 0.000%,  tmpl_merge: 0.000%,  tmpl_split: 0.000%,  , uatemplates:  2 , events:  0\n",
        "saving debug dump to /home/dmoore/python/sigvisa/logs/mcmc/merge_cyclic_debug/step_000449..."
       ]
      },
      {
       "output_type": "stream",
       "stream": "stdout",
       "text": [
        "\n",
        "saved pickled graph\n",
        "step 460: lp -4909.88, accepted "
       ]
      },
      {
       "output_type": "stream",
       "stream": "stdout",
       "text": [
        " arrival_time: 0.299%,  coda_decay: 0.025%,  coda_height: 0.009%,  indep_peak: 0.019%,  peak_decay: 0.170%,  peak_offset: 0.033%,  swap_association: 0.000%,  tmpl_birth: 0.400%,  tmpl_death: 0.000%,  tmpl_merge: 0.000%,  tmpl_split: 0.000%,  , uatemplates:  2 , events:  0\n",
        "step 480: lp -4910.32, accepted "
       ]
      },
      {
       "output_type": "stream",
       "stream": "stdout",
       "text": [
        " arrival_time: 0.297%,  coda_decay: 0.023%,  coda_height: 0.008%,  indep_peak: 0.018%,  peak_decay: 0.167%,  peak_offset: 0.032%,  swap_association: 0.000%,  tmpl_birth: 0.400%,  tmpl_death: 0.000%,  tmpl_merge: 0.000%,  tmpl_split: 0.000%,  , uatemplates:  2 , events:  0\n",
        "saving debug dump to /home/dmoore/python/sigvisa/logs/mcmc/merge_cyclic_debug/step_000499..."
       ]
      },
      {
       "output_type": "stream",
       "stream": "stdout",
       "text": [
        "\n",
        "saved pickled graph\n",
        "step 500: lp -4913.15, accepted  arrival_time: 0.299%,  coda_decay: 0.023%,  coda_height: 0.009%,  indep_peak: 0.017%,  peak_decay: 0.166%,  peak_offset: 0.030%,  swap_association: 0.000%,  tmpl_birth: 0.400%,  tmpl_death: 0.000%,  tmpl_merge: 0.000%,  tmpl_split: 0.000%,  , uatemplates:  2 , events:  0\n",
        "birth template 3: -4858.4 + 0.0 - (-4863.2 + -9.3) = 14.0 vs -0.1"
       ]
      },
      {
       "output_type": "stream",
       "stream": "stdout",
       "text": [
        "\n",
        "step 520: lp -4900.62, accepted "
       ]
      },
      {
       "output_type": "stream",
       "stream": "stdout",
       "text": [
        " arrival_time: 0.305%,  coda_decay: 0.023%,  coda_height: 0.009%,  indep_peak: 0.016%,  peak_decay: 0.164%,  peak_offset: 0.032%,  swap_association: 0.000%,  tmpl_birth: 0.500%,  tmpl_death: 0.000%,  tmpl_merge: 0.000%,  tmpl_split: 0.000%,  , uatemplates:  3 , events:  0\n",
        "step 540: lp -4885.60, accepted "
       ]
      },
      {
       "output_type": "stream",
       "stream": "stdout",
       "text": [
        " arrival_time: 0.320%,  coda_decay: 0.024%,  coda_height: 0.009%,  indep_peak: 0.017%,  peak_decay: 0.166%,  peak_offset: 0.035%,  swap_association: 0.000%,  tmpl_birth: 0.500%,  tmpl_death: 0.000%,  tmpl_merge: 0.000%,  tmpl_split: 0.000%,  , uatemplates:  3 , events:  0\n",
        "saving debug dump to /home/dmoore/python/sigvisa/logs/mcmc/merge_cyclic_debug/step_000549..."
       ]
      },
      {
       "output_type": "stream",
       "stream": "stdout",
       "text": [
        "\n",
        "saved pickled graph\n",
        "step 560: lp -4868.68, accepted "
       ]
      },
      {
       "output_type": "stream",
       "stream": "stdout",
       "text": [
        " arrival_time: 0.342%,  coda_decay: 0.025%,  coda_height: 0.009%,  indep_peak: 0.018%,  peak_decay: 0.173%,  peak_offset: 0.041%,  swap_association: 0.000%,  tmpl_birth: 0.500%,  tmpl_death: 0.000%,  tmpl_merge: 0.000%,  tmpl_split: 0.000%,  , uatemplates:  3 , events:  0\n",
        "step 580: lp -4867.65, accepted "
       ]
      },
      {
       "output_type": "stream",
       "stream": "stdout",
       "text": [
        " arrival_time: 0.352%,  coda_decay: 0.026%,  coda_height: 0.008%,  indep_peak: 0.017%,  peak_decay: 0.170%,  peak_offset: 0.042%,  swap_association: 0.000%,  tmpl_birth: 0.429%,  tmpl_death: 0.000%,  tmpl_merge: 0.000%,  tmpl_split: 0.000%,  , uatemplates:  3 , events:  0\n",
        "saving debug dump to /home/dmoore/python/sigvisa/logs/mcmc/merge_cyclic_debug/step_000599..."
       ]
      },
      {
       "output_type": "stream",
       "stream": "stdout",
       "text": [
        "\n",
        "saved pickled graph\n",
        "step 600: lp -4851.87, accepted  arrival_time: 0.364%,  coda_decay: 0.026%,  coda_height: 0.011%,  indep_peak: 0.016%,  peak_decay: 0.169%,  peak_offset: 0.047%,  swap_association: 0.000%,  tmpl_birth: 0.429%,  tmpl_death: 0.000%,  tmpl_merge: 0.000%,  tmpl_split: 0.000%,  , uatemplates:  3 , events:  0\n",
        "step 620: lp -4851.84, accepted "
       ]
      },
      {
       "output_type": "stream",
       "stream": "stdout",
       "text": [
        " arrival_time: 0.373%,  coda_decay: 0.025%,  coda_height: 0.011%,  indep_peak: 0.015%,  peak_decay: 0.162%,  peak_offset: 0.047%,  swap_association: 0.000%,  tmpl_birth: 0.429%,  tmpl_death: 0.000%,  tmpl_merge: 0.000%,  tmpl_split: 0.000%,  , uatemplates:  3 , events:  0\n",
        "step 640: lp -4846.40, accepted "
       ]
      },
      {
       "output_type": "stream",
       "stream": "stdout",
       "text": [
        " arrival_time: 0.376%,  coda_decay: 0.024%,  coda_height: 0.010%,  indep_peak: 0.014%,  peak_decay: 0.157%,  peak_offset: 0.051%,  swap_association: 0.000%,  tmpl_birth: 0.333%,  tmpl_death: 0.000%,  tmpl_merge: 0.000%,  tmpl_split: 0.000%,  , uatemplates:  3 , events:  0\n",
        "saving debug dump to /home/dmoore/python/sigvisa/logs/mcmc/merge_cyclic_debug/step_000649..."
       ]
      },
      {
       "output_type": "stream",
       "stream": "stdout",
       "text": [
        "\n",
        "saved pickled graph\n",
        "step 660: lp -4847.11, accepted "
       ]
      },
      {
       "output_type": "stream",
       "stream": "stdout",
       "text": [
        " arrival_time: 0.381%,  coda_decay: 0.026%,  coda_height: 0.010%,  indep_peak: 0.013%,  peak_decay: 0.155%,  peak_offset: 0.054%,  swap_association: 0.000%,  tmpl_birth: 0.333%,  tmpl_death: 0.000%,  tmpl_merge: 0.000%,  tmpl_split: 0.000%,  , uatemplates:  3 , events:  0\n",
        "step 680: lp -4846.85, accepted "
       ]
      },
      {
       "output_type": "stream",
       "stream": "stdout",
       "text": [
        " arrival_time: 0.385%,  coda_decay: 0.025%,  coda_height: 0.009%,  indep_peak: 0.013%,  peak_decay: 0.153%,  peak_offset: 0.054%,  swap_association: 0.000%,  tmpl_birth: 0.333%,  tmpl_death: 0.000%,  tmpl_merge: 0.000%,  tmpl_split: 0.000%,  , uatemplates:  3 , events:  0\n",
        "saving debug dump to /home/dmoore/python/sigvisa/logs/mcmc/merge_cyclic_debug/step_000699..."
       ]
      },
      {
       "output_type": "stream",
       "stream": "stdout",
       "text": [
        "\n",
        "saved pickled graph\n",
        "step 700: lp -4845.98, accepted  arrival_time: 0.389%,  coda_decay: 0.027%,  coda_height: 0.010%,  indep_peak: 0.012%,  peak_decay: 0.150%,  peak_offset: 0.055%,  swap_association: 0.000%,  tmpl_birth: 0.333%,  tmpl_death: 0.000%,  tmpl_merge: 0.000%,  tmpl_split: 0.000%,  , uatemplates:  3 , events:  0\n",
        "step 720: lp -4827.86, accepted "
       ]
      },
      {
       "output_type": "stream",
       "stream": "stdout",
       "text": [
        " arrival_time: 0.398%,  coda_decay: 0.030%,  coda_height: 0.011%,  indep_peak: 0.012%,  peak_decay: 0.149%,  peak_offset: 0.056%,  swap_association: 0.000%,  tmpl_birth: 0.333%,  tmpl_death: 0.000%,  tmpl_merge: 0.000%,  tmpl_split: 0.000%,  , uatemplates:  3 , events:  0\n",
        "step 740: lp -4823.49, accepted "
       ]
      },
      {
       "output_type": "stream",
       "stream": "stdout",
       "text": [
        " arrival_time: 0.404%,  coda_decay: 0.032%,  coda_height: 0.010%,  indep_peak: 0.011%,  peak_decay: 0.153%,  peak_offset: 0.058%,  swap_association: 0.000%,  tmpl_birth: 0.333%,  tmpl_death: 0.000%,  tmpl_merge: 0.000%,  tmpl_split: 0.000%,  , uatemplates:  3 , events:  0\n",
        "saving debug dump to /home/dmoore/python/sigvisa/logs/mcmc/merge_cyclic_debug/step_000749..."
       ]
      },
      {
       "output_type": "stream",
       "stream": "stdout",
       "text": [
        "\n",
        "saved pickled graph\n",
        "step 760: lp -4825.10, accepted "
       ]
      },
      {
       "output_type": "stream",
       "stream": "stdout",
       "text": [
        " arrival_time: 0.407%,  coda_decay: 0.033%,  coda_height: 0.011%,  indep_peak: 0.011%,  peak_decay: 0.156%,  peak_offset: 0.060%,  swap_association: 0.000%,  tmpl_birth: 0.333%,  tmpl_death: 0.000%,  tmpl_merge: 0.000%,  tmpl_split: 0.000%,  , uatemplates:  3 , events:  0\n",
        "step 780: lp -4821.01, accepted "
       ]
      },
      {
       "output_type": "stream",
       "stream": "stdout",
       "text": [
        " arrival_time: 0.407%,  coda_decay: 0.035%,  coda_height: 0.010%,  indep_peak: 0.010%,  peak_decay: 0.153%,  peak_offset: 0.063%,  swap_association: 0.000%,  tmpl_birth: 0.300%,  tmpl_death: 0.000%,  tmpl_merge: 0.000%,  tmpl_split: 0.000%,  , uatemplates:  3 , events:  0\n",
        "saving debug dump to /home/dmoore/python/sigvisa/logs/mcmc/merge_cyclic_debug/step_000799..."
       ]
      },
      {
       "output_type": "stream",
       "stream": "stdout",
       "text": [
        "\n",
        "saved pickled graph\n",
        "step 800: lp -4817.71, accepted  arrival_time: 0.410%,  coda_decay: 0.036%,  coda_height: 0.011%,  indep_peak: 0.010%,  peak_decay: 0.154%,  peak_offset: 0.064%,  swap_association: 0.000%,  tmpl_birth: 0.300%,  tmpl_death: 0.000%,  tmpl_merge: 0.000%,  tmpl_split: 0.000%,  , uatemplates:  3 , events:  0\n",
        "birth template 4: -4757.6 + 0.0 - (-4765.3 + -9.7) = 17.4 vs -2.3\n",
        "step 820: lp -4799.88, accepted "
       ]
      },
      {
       "output_type": "stream",
       "stream": "stdout",
       "text": [
        " arrival_time: 0.417%,  coda_decay: 0.037%,  coda_height: 0.011%,  indep_peak: 0.009%,  peak_decay: 0.157%,  peak_offset: 0.066%,  swap_association: 0.000%,  tmpl_birth: 0.333%,  tmpl_death: 0.000%,  tmpl_merge: 0.000%,  tmpl_split: 0.000%,  , uatemplates:  4 , events:  0\n",
        "step 840: lp -4796.13, accepted "
       ]
      },
      {
       "output_type": "stream",
       "stream": "stdout",
       "text": [
        " arrival_time: 0.424%,  coda_decay: 0.039%,  coda_height: 0.011%,  indep_peak: 0.009%,  peak_decay: 0.159%,  peak_offset: 0.072%,  swap_association: 0.000%,  tmpl_birth: 0.333%,  tmpl_death: 0.000%,  tmpl_merge: 0.000%,  tmpl_split: 0.000%,  , uatemplates:  4 , events:  0\n",
        "saving debug dump to /home/dmoore/python/sigvisa/logs/mcmc/merge_cyclic_debug/step_000849..."
       ]
      },
      {
       "output_type": "stream",
       "stream": "stdout",
       "text": [
        "\n",
        "saved pickled graph\n",
        "step 860: lp -4793.79, accepted "
       ]
      },
      {
       "output_type": "stream",
       "stream": "stdout",
       "text": [
        " arrival_time: 0.432%,  coda_decay: 0.039%,  coda_height: 0.011%,  indep_peak: 0.008%,  peak_decay: 0.158%,  peak_offset: 0.076%,  swap_association: 0.000%,  tmpl_birth: 0.333%,  tmpl_death: 0.000%,  tmpl_merge: 0.000%,  tmpl_split: 0.000%,  , uatemplates:  4 , events:  0\n",
        "step 880: lp -4798.48, accepted "
       ]
      },
      {
       "output_type": "stream",
       "stream": "stdout",
       "text": [
        " arrival_time: 0.436%,  coda_decay: 0.038%,  coda_height: 0.011%,  indep_peak: 0.008%,  peak_decay: 0.165%,  peak_offset: 0.080%,  swap_association: 0.000%,  tmpl_birth: 0.333%,  tmpl_death: 0.000%,  tmpl_merge: 0.000%,  tmpl_split: 0.000%,  , uatemplates:  4 , events:  0\n",
        "saving debug dump to /home/dmoore/python/sigvisa/logs/mcmc/merge_cyclic_debug/step_000899..."
       ]
      },
      {
       "output_type": "stream",
       "stream": "stdout",
       "text": [
        "\n",
        "saved pickled graph\n",
        "step 900: lp -4798.51, accepted  arrival_time: 0.442%,  coda_decay: 0.039%,  coda_height: 0.010%,  indep_peak: 0.008%,  peak_decay: 0.170%,  peak_offset: 0.082%,  swap_association: 0.000%,  tmpl_birth: 0.333%,  tmpl_death: 0.000%,  tmpl_merge: 0.000%,  tmpl_split: 0.000%,  , uatemplates:  4 , events:  0\n",
        "step 920: lp -4793.14, accepted "
       ]
      },
      {
       "output_type": "stream",
       "stream": "stdout",
       "text": [
        " arrival_time: 0.447%,  coda_decay: 0.041%,  coda_height: 0.010%,  indep_peak: 0.007%,  peak_decay: 0.170%,  peak_offset: 0.084%,  swap_association: 0.000%,  tmpl_birth: 0.333%,  tmpl_death: 0.000%,  tmpl_merge: 0.000%,  tmpl_split: 0.000%,  , uatemplates:  4 , events:  0\n",
        "step 940: lp -4797.62, accepted "
       ]
      },
      {
       "output_type": "stream",
       "stream": "stdout",
       "text": [
        " arrival_time: 0.450%,  coda_decay: 0.041%,  coda_height: 0.010%,  indep_peak: 0.007%,  peak_decay: 0.173%,  peak_offset: 0.086%,  swap_association: 0.000%,  tmpl_birth: 0.333%,  tmpl_death: 0.000%,  tmpl_merge: 0.000%,  tmpl_split: 0.000%,  , uatemplates:  4 , events:  0\n",
        "saving debug dump to /home/dmoore/python/sigvisa/logs/mcmc/merge_cyclic_debug/step_000949..."
       ]
      },
      {
       "output_type": "stream",
       "stream": "stdout",
       "text": [
        "\n",
        "saved pickled graph\n",
        "step 960: lp -4735.92, accepted "
       ]
      },
      {
       "output_type": "stream",
       "stream": "stdout",
       "text": [
        " arrival_time: 0.456%,  coda_decay: 0.042%,  coda_height: 0.011%,  indep_peak: 0.007%,  peak_decay: 0.174%,  peak_offset: 0.087%,  swap_association: 0.000%,  tmpl_birth: 0.333%,  tmpl_death: 0.000%,  tmpl_merge: 0.000%,  tmpl_split: 0.000%,  , uatemplates:  4 , events:  0\n",
        "step 980: lp -4717.87, accepted "
       ]
      },
      {
       "output_type": "stream",
       "stream": "stdout",
       "text": [
        " arrival_time: 0.457%,  coda_decay: 0.043%,  coda_height: 0.011%,  indep_peak: 0.007%,  peak_decay: 0.177%,  peak_offset: 0.090%,  swap_association: 0.000%,  tmpl_birth: 0.333%,  tmpl_death: 0.000%,  tmpl_merge: 0.000%,  tmpl_split: 0.000%,  , uatemplates:  4 , events:  0\n",
        "saving debug dump to /home/dmoore/python/sigvisa/logs/mcmc/merge_cyclic_debug/step_000999..."
       ]
      },
      {
       "output_type": "stream",
       "stream": "stdout",
       "text": [
        "\n",
        "saved pickled graph\n",
        "step 1000: lp -4705.52, accepted  arrival_time: 0.462%,  coda_decay: 0.042%,  coda_height: 0.011%,  indep_peak: 0.007%,  peak_decay: 0.178%,  peak_offset: 0.090%,  swap_association: 0.000%,  tmpl_birth: 0.333%,  tmpl_death: 0.000%,  tmpl_merge: 0.000%,  tmpl_split: 0.000%,  , uatemplates:  4 , events:  0\n",
        "step 1020: lp -4701.83, accepted "
       ]
      },
      {
       "output_type": "stream",
       "stream": "stdout",
       "text": [
        " arrival_time: 0.465%,  coda_decay: 0.041%,  coda_height: 0.010%,  indep_peak: 0.007%,  peak_decay: 0.179%,  peak_offset: 0.092%,  swap_association: 0.000%,  tmpl_birth: 0.308%,  tmpl_death: 0.000%,  tmpl_merge: 0.000%,  tmpl_split: 0.000%,  , uatemplates:  4 , events:  0\n",
        "step 1040: lp -4689.11, accepted "
       ]
      },
      {
       "output_type": "stream",
       "stream": "stdout",
       "text": [
        " arrival_time: 0.467%,  coda_decay: 0.042%,  coda_height: 0.010%,  indep_peak: 0.006%,  peak_decay: 0.181%,  peak_offset: 0.093%,  swap_association: 0.000%,  tmpl_birth: 0.308%,  tmpl_death: 0.000%,  tmpl_merge: 0.000%,  tmpl_split: 0.000%,  , uatemplates:  4 , events:  0\n",
        "saving debug dump to /home/dmoore/python/sigvisa/logs/mcmc/merge_cyclic_debug/step_001049..."
       ]
      },
      {
       "output_type": "stream",
       "stream": "stdout",
       "text": [
        "\n",
        "saved pickled graph\n",
        "step 1060: lp -4689.62, accepted "
       ]
      },
      {
       "output_type": "stream",
       "stream": "stdout",
       "text": [
        " arrival_time: 0.466%,  coda_decay: 0.042%,  coda_height: 0.010%,  indep_peak: 0.006%,  peak_decay: 0.180%,  peak_offset: 0.095%,  swap_association: 0.000%,  tmpl_birth: 0.308%,  tmpl_death: 0.000%,  tmpl_merge: 0.000%,  tmpl_split: 0.000%,  , uatemplates:  4 , events:  0\n",
        "step 1080: lp -4690.72, accepted "
       ]
      },
      {
       "output_type": "stream",
       "stream": "stdout",
       "text": [
        " arrival_time: 0.470%,  coda_decay: 0.043%,  coda_height: 0.010%,  indep_peak: 0.006%,  peak_decay: 0.180%,  peak_offset: 0.096%,  swap_association: 0.000%,  tmpl_birth: 0.308%,  tmpl_death: 0.000%,  tmpl_merge: 0.000%,  tmpl_split: 0.000%,  , uatemplates:  4 , events:  0\n",
        "saving debug dump to /home/dmoore/python/sigvisa/logs/mcmc/merge_cyclic_debug/step_001099..."
       ]
      },
      {
       "output_type": "stream",
       "stream": "stdout",
       "text": [
        "\n",
        "saved pickled graph\n",
        "step 1100: lp -4687.56, accepted  arrival_time: 0.467%,  coda_decay: 0.044%,  coda_height: 0.010%,  indep_peak: 0.006%,  peak_decay: 0.180%,  peak_offset: 0.097%,  swap_association: 0.000%,  tmpl_birth: 0.308%,  tmpl_death: 0.000%,  tmpl_merge: 0.000%,  tmpl_split: 0.000%,  , uatemplates:  4 , events:  0\n",
        "step 1120: lp -4683.85, accepted "
       ]
      },
      {
       "output_type": "stream",
       "stream": "stdout",
       "text": [
        " arrival_time: 0.470%,  coda_decay: 0.044%,  coda_height: 0.010%,  indep_peak: 0.006%,  peak_decay: 0.180%,  peak_offset: 0.097%,  swap_association: 0.000%,  tmpl_birth: 0.308%,  tmpl_death: 0.000%,  tmpl_merge: 0.000%,  tmpl_split: 0.000%,  , uatemplates:  4 , events:  0\n",
        "step 1140: lp -4683.04, accepted "
       ]
      },
      {
       "output_type": "stream",
       "stream": "stdout",
       "text": [
        " arrival_time: 0.472%,  coda_decay: 0.044%,  coda_height: 0.010%,  indep_peak: 0.006%,  peak_decay: 0.180%,  peak_offset: 0.098%,  swap_association: 0.000%,  tmpl_birth: 0.308%,  tmpl_death: 0.000%,  tmpl_merge: 0.000%,  tmpl_split: 0.000%,  , uatemplates:  4 , events:  0\n",
        "saving debug dump to /home/dmoore/python/sigvisa/logs/mcmc/merge_cyclic_debug/step_001149..."
       ]
      },
      {
       "output_type": "stream",
       "stream": "stdout",
       "text": [
        "\n",
        "saved pickled graph\n",
        "step 1160: lp -4675.07, accepted "
       ]
      },
      {
       "output_type": "stream",
       "stream": "stdout",
       "text": [
        " arrival_time: 0.473%,  coda_decay: 0.044%,  coda_height: 0.011%,  indep_peak: 0.005%,  peak_decay: 0.178%,  peak_offset: 0.099%,  swap_association: 0.000%,  tmpl_birth: 0.308%,  tmpl_death: 0.000%,  tmpl_merge: 0.000%,  tmpl_split: 0.000%,  , uatemplates:  4 , events:  0\n",
        "step 1180: lp -4675.81, accepted "
       ]
      },
      {
       "output_type": "stream",
       "stream": "stdout",
       "text": [
        " arrival_time: 0.475%,  coda_decay: 0.043%,  coda_height: 0.010%,  indep_peak: 0.005%,  peak_decay: 0.179%,  peak_offset: 0.100%,  swap_association: 0.000%,  tmpl_birth: 0.286%,  tmpl_death: 0.000%,  tmpl_merge: 0.000%,  tmpl_split: 0.000%,  , uatemplates:  4 , events:  0\n",
        "saving debug dump to /home/dmoore/python/sigvisa/logs/mcmc/merge_cyclic_debug/step_001199..."
       ]
      },
      {
       "output_type": "stream",
       "stream": "stdout",
       "text": [
        "\n",
        "saved pickled graph\n",
        "step 1200: lp -4667.92, accepted  arrival_time: 0.475%,  coda_decay: 0.044%,  coda_height: 0.011%,  indep_peak: 0.005%,  peak_decay: 0.177%,  peak_offset: 0.100%,  swap_association: 0.000%,  tmpl_birth: 0.286%,  tmpl_death: 0.000%,  tmpl_merge: 0.000%,  tmpl_split: 0.000%,  , uatemplates:  4 , events:  0\n",
        "step 1220: lp -4673.65, accepted "
       ]
      },
      {
       "output_type": "stream",
       "stream": "stdout",
       "text": [
        " arrival_time: 0.476%,  coda_decay: 0.044%,  coda_height: 0.010%,  indep_peak: 0.005%,  peak_decay: 0.177%,  peak_offset: 0.101%,  swap_association: 0.000%,  tmpl_birth: 0.267%,  tmpl_death: 0.000%,  tmpl_merge: 0.000%,  tmpl_split: 0.000%,  , uatemplates:  4 , events:  0\n",
        "step 1240: lp -4671.19, accepted "
       ]
      },
      {
       "output_type": "stream",
       "stream": "stdout",
       "text": [
        " arrival_time: 0.477%,  coda_decay: 0.043%,  coda_height: 0.011%,  indep_peak: 0.005%,  peak_decay: 0.179%,  peak_offset: 0.102%,  swap_association: 0.000%,  tmpl_birth: 0.267%,  tmpl_death: 0.000%,  tmpl_merge: 0.000%,  tmpl_split: 0.000%,  , uatemplates:  4 , events:  0\n",
        "saving debug dump to /home/dmoore/python/sigvisa/logs/mcmc/merge_cyclic_debug/step_001249..."
       ]
      },
      {
       "output_type": "stream",
       "stream": "stdout",
       "text": [
        "\n",
        "saved pickled graph\n",
        "step 1260: lp -4652.91, accepted "
       ]
      },
      {
       "output_type": "stream",
       "stream": "stdout",
       "text": [
        " arrival_time: 0.478%,  coda_decay: 0.043%,  coda_height: 0.012%,  indep_peak: 0.005%,  peak_decay: 0.181%,  peak_offset: 0.102%,  swap_association: 0.000%,  tmpl_birth: 0.267%,  tmpl_death: 0.000%,  tmpl_merge: 0.000%,  tmpl_split: 0.000%,  , uatemplates:  4 , events:  0\n",
        "step 1280: lp -4649.38, accepted "
       ]
      },
      {
       "output_type": "stream",
       "stream": "stdout",
       "text": [
        " arrival_time: 0.478%,  coda_decay: 0.043%,  coda_height: 0.012%,  indep_peak: 0.005%,  peak_decay: 0.183%,  peak_offset: 0.104%,  swap_association: 0.000%,  tmpl_birth: 0.267%,  tmpl_death: 0.000%,  tmpl_merge: 0.000%,  tmpl_split: 0.000%,  , uatemplates:  4 , events:  0\n",
        "saving debug dump to /home/dmoore/python/sigvisa/logs/mcmc/merge_cyclic_debug/step_001299..."
       ]
      },
      {
       "output_type": "stream",
       "stream": "stdout",
       "text": [
        "\n",
        "saved pickled graph\n",
        "step 1300: lp -4650.78, accepted  arrival_time: 0.477%,  coda_decay: 0.044%,  coda_height: 0.012%,  indep_peak: 0.005%,  peak_decay: 0.183%,  peak_offset: 0.104%,  swap_association: 0.000%,  tmpl_birth: 0.267%,  tmpl_death: 0.000%,  tmpl_merge: 0.000%,  tmpl_split: 0.000%,  , uatemplates:  4 , events:  0\n",
        "step 1320: lp -4646.19, accepted "
       ]
      },
      {
       "output_type": "stream",
       "stream": "stdout",
       "text": [
        " arrival_time: 0.475%,  coda_decay: 0.044%,  coda_height: 0.012%,  indep_peak: 0.005%,  peak_decay: 0.182%,  peak_offset: 0.105%,  swap_association: 0.000%,  tmpl_birth: 0.267%,  tmpl_death: 0.000%,  tmpl_merge: 0.000%,  tmpl_split: 0.000%,  , uatemplates:  4 , events:  0\n",
        "birth template 5: -4590.4 + 0.0 - (-4584.2 + -9.4) = 3.2 vs -0.4"
       ]
      },
      {
       "output_type": "stream",
       "stream": "stdout",
       "text": [
        "\n",
        "step 1340: lp -4634.28, accepted "
       ]
      },
      {
       "output_type": "stream",
       "stream": "stdout",
       "text": [
        " arrival_time: 0.476%,  coda_decay: 0.045%,  coda_height: 0.012%,  indep_peak: 0.005%,  peak_decay: 0.183%,  peak_offset: 0.107%,  swap_association: 0.000%,  tmpl_birth: 0.312%,  tmpl_death: 0.000%,  tmpl_merge: 0.000%,  tmpl_split: 0.000%,  , uatemplates:  5 , events:  0\n",
        "saving debug dump to /home/dmoore/python/sigvisa/logs/mcmc/merge_cyclic_debug/step_001349..."
       ]
      },
      {
       "output_type": "stream",
       "stream": "stdout",
       "text": [
        "\n",
        "saved pickled graph\n",
        "step 1360: lp -4624.17, accepted "
       ]
      },
      {
       "output_type": "stream",
       "stream": "stdout",
       "text": [
        " arrival_time: 0.479%,  coda_decay: 0.047%,  coda_height: 0.013%,  indep_peak: 0.005%,  peak_decay: 0.183%,  peak_offset: 0.106%,  swap_association: 0.000%,  tmpl_birth: 0.312%,  tmpl_death: 0.000%,  tmpl_merge: 0.000%,  tmpl_split: 0.000%,  , uatemplates:  5 , events:  0\n",
        "split template -6 from -5: -4665.9 + -5.21246 - (-4545.7 + -14.65899) + 154.062090 = 43.2 vs -0.1"
       ]
      },
      {
       "output_type": "stream",
       "stream": "stdout",
       "text": [
        "\n",
        "step 1380: lp -4615.54, accepted "
       ]
      },
      {
       "output_type": "stream",
       "stream": "stdout",
       "text": [
        " arrival_time: 0.482%,  coda_decay: 0.048%,  coda_height: 0.013%,  indep_peak: 0.007%,  peak_decay: 0.186%,  peak_offset: 0.108%,  swap_association: 0.000%,  tmpl_birth: 0.312%,  tmpl_death: 0.000%,  tmpl_merge: 0.000%,  tmpl_split: 0.062%,  , uatemplates:  6 , events:  0\n",
        "saving debug dump to /home/dmoore/python/sigvisa/logs/mcmc/merge_cyclic_debug/step_001399..."
       ]
      },
      {
       "output_type": "stream",
       "stream": "stdout",
       "text": [
        "\n",
        "saved pickled graph\n",
        "step 1400: lp -4600.66, accepted "
       ]
      },
      {
       "output_type": "stream",
       "stream": "stdout",
       "text": [
        " arrival_time: 0.480%,  coda_decay: 0.049%,  coda_height: 0.013%,  indep_peak: 0.006%,  peak_decay: 0.187%,  peak_offset: 0.109%,  swap_association: 0.000%,  tmpl_birth: 0.312%,  tmpl_death: 0.000%,  tmpl_merge: 0.000%,  tmpl_split: 0.062%,  , uatemplates:  6 , events:  0\n",
        "step 1420: lp -4611.27, accepted "
       ]
      },
      {
       "output_type": "stream",
       "stream": "stdout",
       "text": [
        " arrival_time: 0.480%,  coda_decay: 0.049%,  coda_height: 0.013%,  indep_peak: 0.006%,  peak_decay: 0.185%,  peak_offset: 0.110%,  swap_association: 0.000%,  tmpl_birth: 0.312%,  tmpl_death: 0.000%,  tmpl_merge: 0.000%,  tmpl_split: 0.062%,  , uatemplates:  6 , events:  0\n",
        "step 1440: lp -4604.63, accepted "
       ]
      },
      {
       "output_type": "stream",
       "stream": "stdout",
       "text": [
        " arrival_time: 0.482%,  coda_decay: 0.050%,  coda_height: 0.013%,  indep_peak: 0.006%,  peak_decay: 0.186%,  peak_offset: 0.109%,  swap_association: 0.000%,  tmpl_birth: 0.312%,  tmpl_death: 0.000%,  tmpl_merge: 0.000%,  tmpl_split: 0.062%,  , uatemplates:  6 , events:  0\n",
        "saving debug dump to /home/dmoore/python/sigvisa/logs/mcmc/merge_cyclic_debug/step_001449..."
       ]
      },
      {
       "output_type": "stream",
       "stream": "stdout",
       "text": [
        "\n",
        "saved pickled graph\n",
        "step 1460: lp -4600.51, accepted "
       ]
      },
      {
       "output_type": "stream",
       "stream": "stdout",
       "text": [
        " arrival_time: 0.480%,  coda_decay: 0.051%,  coda_height: 0.013%,  indep_peak: 0.006%,  peak_decay: 0.185%,  peak_offset: 0.110%,  swap_association: 0.000%,  tmpl_birth: 0.312%,  tmpl_death: 0.000%,  tmpl_merge: 0.000%,  tmpl_split: 0.062%,  , uatemplates:  6 , events:  0\n",
        "step 1480: lp -4599.74, accepted "
       ]
      },
      {
       "output_type": "stream",
       "stream": "stdout",
       "text": [
        " arrival_time: 0.479%,  coda_decay: 0.051%,  coda_height: 0.013%,  indep_peak: 0.006%,  peak_decay: 0.186%,  peak_offset: 0.111%,  swap_association: 0.000%,  tmpl_birth: 0.312%,  tmpl_death: 0.000%,  tmpl_merge: 0.000%,  tmpl_split: 0.062%,  , uatemplates:  6 , events:  0\n",
        "saving debug dump to /home/dmoore/python/sigvisa/logs/mcmc/merge_cyclic_debug/step_001499..."
       ]
      },
      {
       "output_type": "stream",
       "stream": "stdout",
       "text": [
        "\n",
        "saved pickled graph\n"
       ]
      }
     ],
     "prompt_number": 3
    },
    {
     "cell_type": "code",
     "collapsed": false,
     "input": [],
     "language": "python",
     "metadata": {},
     "outputs": [],
     "prompt_number": 3
    },
    {
     "cell_type": "code",
     "collapsed": false,
     "input": [
      "from sigvisa.plotting.plot import plot_with_fit_shapes, plot_pred_atimes\n",
      "\n",
      "\n",
      "\n",
      "def do_plot(wn, ax=None):\n",
      "    if ax is None:\n",
      "        f = plt.figure(figsize=(15,5))\n",
      "        ax=f.add_subplot(111)\n",
      "    \n",
      "    shape_colors = plot_with_fit_shapes(fname=None, wn=wn, axes=ax, plot_wave=True)\n",
      "    atimes = dict([(\"%d_%s\" % (eid, phase), wn.get_template_params_for_arrival(eid=eid, phase=phase)[0]['arrival_time']) for (eid, phase) in wn.arrivals()])\n",
      "    colors = dict([(\"%d_%s\" % (eid, phase), shape_colors[eid]) for (eid, phase) in wn.arrivals()])\n",
      "    plot_pred_atimes(dict(atimes), wn.get_wave(), axes=ax, color=colors, alpha=1.0, bottom_rel=-0.1, top_rel=0.0)\n",
      "\n",
      "do_plot(wn)"
     ],
     "language": "python",
     "metadata": {},
     "outputs": [
      {
       "output_type": "stream",
       "stream": "stdout",
       "text": [
        "plotting uatemplate -2 as color (0.0, 0.39411764705882341, 1.0, 1.0)\n",
        "plotting uatemplate -3 as color (0.22454142947501579, 1.0, 0.74320050600885512, 1.0)\n",
        "plotting uatemplate -1 as color (0.0, 0.19019607843137254, 1.0, 1.0)\n",
        "plotting uatemplate -4 as color (0.047438330170777983, 0.95882352941176474, 0.92030360531309297, 1.0)\n",
        "plotting uatemplate -5 as color (0.33839342188488292, 1.0, 0.62934851359898802, 1.0)\n",
        "plotting uatemplate -6 as color (0.0, 0.0, 0.80303030303030298, 1.0)\n",
        "reading station detections... \n"
       ]
      },
      {
       "metadata": {},
       "output_type": "display_data",
       "png": "[encoded data removed]",
       "text": [
        "<matplotlib.figure.Figure at 0x32e73d0>"
       ]
      }
     ],
     "prompt_number": 4
    },
    {
     "cell_type": "code",
     "collapsed": false,
     "input": [
      "from sigvisa.infer.template_mcmc import *\n",
      "\n",
      "sg.current_log_p_breakdown()\n",
      "\n",
      "#merge_move(sg, wn, return_probs=True)"
     ],
     "language": "python",
     "metadata": {},
     "outputs": [
      {
       "output_type": "stream",
       "stream": "stdout",
       "text": [
        "n_uatemplate: -46.2\n",
        "n_event: -3.8\n",
        "ev priors: ev 0.0\n",
        "tt_residual: ev 0.0\n",
        "ev global cost (n + priors + tt): -3.8\n",
        "coda_decay: ev 0.0 ua -9.1 total -9.1\n",
        "peak_decay: ev 0.0 ua -15.0 total -15.0\n",
        "peak_offset: ev 0.0 ua -13.9 total -13.9\n",
        "coda_height: ev 0.0 ua -56.6 total -56.6\n",
        "wiggles: ev 0.0 ua 0.0 total 0.0\n",
        "total param: ev 0.0 ua -94.6 total -94.6\n",
        "non signals: ev -3.8 ua -140.8 total -144.6\n",
        "signals: -4653.6\n",
        "overall: -4798.2\n",
        "official: -4798.2\n"
       ]
      }
     ],
     "prompt_number": 6
    },
    {
     "cell_type": "code",
     "collapsed": false,
     "input": [
      "def get_split_probs(sg, wn, arr1, arr2):\n",
      "    \n",
      "    \n",
      "    \n",
      "    eid1, phase1 = arr1\n",
      "    eid2, phase2 = arr2\n",
      "    \n",
      "    tmnodes1 = sg.get_template_nodes(eid1, wn.sta, phase1, wn.band, wn.chan)\n",
      "    tmnodes2 = sg.get_template_nodes(eid2, wn.sta, phase2, wn.band, wn.chan)\n",
      "\n",
      "    # current implementation is INCORRECT:\n",
      "    # one of these could be an event, so we need to use keys and not just the nodes\n",
      "    timeless1 = [n for (p, (k,n)) in tmnodes1.items() if p not in ('arrival_time', 'tt_residual')]\n",
      "    timeless2 = [n for (p, (k,n)) in tmnodes2.items() if p not in ('arrival_time', 'tt_residual')]\n",
      "\n",
      "    lp1 = sg.joint_logprob_keys(timeless1)\n",
      "    lp2 = sg.joint_logprob_keys(timeless2)\n",
      "    \n",
      "    print lp1, lp2\n",
      "    return lp1, lp2\n",
      "    \n"
     ],
     "language": "python",
     "metadata": {},
     "outputs": [],
     "prompt_number": 6
    },
    {
     "cell_type": "code",
     "collapsed": false,
     "input": [
      "from sigvisa.infer.optimize.optim_utils import construct_optim_params\n",
      "\n",
      "def optimize_merge(sg, wn, arr1, arr2):\n",
      "    eid1, phase1 = arr1\n",
      "    eid2, phase2 = arr2\n",
      "    \n",
      "    arrivals = wn.arrivals()\n",
      "    arrs = [arr1, arr2]\n",
      "    misc_arrivals = [arr for arr in arrivals if arr not in arrs]\n",
      "    merge_signal = wn.assem_signal(arrivals=arrs).copy()\n",
      "    misc_signal = wn.assem_signal(arrivals=misc_arrivals).copy()\n",
      "    obs_signal = wn.get_value().copy()\n",
      "    orig_signal = wn.assem_signal().copy()\n",
      "    \n",
      "    tmnodes1 = sg.get_template_nodes(eid1, wn.sta, phase1, wn.band, wn.chan)\n",
      "    tmnodes2 = sg.get_template_nodes(eid2, wn.sta, phase2, wn.band, wn.chan)\n",
      "\n",
      "    dtmnodes2 = dict([(k,n) for (k,n) in tmnodes2.values()])\n",
      "    sg.destroy_unassociated_template(dtmnodes2)\n",
      "    \n",
      "    tmnode_list = [n for (k,n) in tmnodes1.values()]\n",
      "    sg.joint_optimize_nodes(tmnode_list, optim_params=construct_optim_params(\"\"))\n",
      "\n",
      "    return tmnodes1, tmnodes2\n",
      "    \n",
      "#tmnodes = optimize_merge(sg, wn, (-1, \"UA\"), (-3, \"UA\"))"
     ],
     "language": "python",
     "metadata": {},
     "outputs": [],
     "prompt_number": 7
    },
    {
     "cell_type": "code",
     "collapsed": false,
     "input": [
      "do_plot(wn)\n"
     ],
     "language": "python",
     "metadata": {},
     "outputs": [
      {
       "output_type": "stream",
       "stream": "stdout",
       "text": [
        "plotting uatemplate -18 as color (0.0, 0.0, 1.0, 1.0)\n",
        "plotting uatemplate -8 as color (0.0, 0.0, 0.67825311942958999, 1.0)\n",
        "plotting uatemplate -11 as color (0.0, 0.096078431372549025, 1.0, 1.0)\n",
        "plotting uatemplate -21 as color (0.060088551549652112, 0.97450980392156861, 0.9076533839342189, 1.0)\n",
        "plotting uatemplate -14 as color (0.0, 0.72352941176470587, 1.0, 1.0)\n",
        "plotting uatemplate -24 as color (0.0, 0.84901960784313724, 1.0, 1.0)\n",
        "plotting uatemplate -7 as color (0.0, 0.0, 0.517825311942959, 1.0)\n",
        "plotting uatemplate -4 as color (0.0, 0.84901960784313724, 1.0, 1.0)\n",
        "plotting uatemplate -17 as color (0.0, 0.50392156862745097, 1.0, 1.0)\n",
        "plotting uatemplate -20 as color (0.0, 0.0, 1.0, 1.0)\n",
        "plotting uatemplate -3 as color (0.0, 0.0, 0.89215686274509798, 1.0)\n",
        "plotting uatemplate -13 as color (0.0, 0.0, 0.90998217468805698, 1.0)\n",
        "plotting uatemplate -26 as color (0.23719165085388991, 1.0, 0.73055028462998106, 1.0)\n",
        "plotting uatemplate -6 as color (0.45224541429475007, 1.0, 0.51549652118912082, 1.0)\n",
        "plotting uatemplate -16 as color (0.33839342188488292, 1.0, 0.62934851359898802, 1.0)\n",
        "plotting uatemplate -19 as color (0.0, 0.19019607843137254, 1.0, 1.0)\n",
        "plotting uatemplate -22 as color (0.12333965844402275, 1.0, 0.84440227703984827, 1.0)\n",
        "plotting uatemplate -15 as color (0.0, 0.58235294117647063, 1.0, 1.0)\n",
        "plotting uatemplate -9 as color (0.18659076533839339, 1.0, 0.78115117014547764, 1.0)\n",
        "plotting uatemplate -1 as color (0.0, 0.45686274509803909, 1.0, 1.0)\n",
        "plotting uatemplate -12 as color (0.0, 0.67647058823529416, 1.0, 1.0)\n",
        "plotting uatemplate -25 as color (0.13598987982289687, 1.0, 0.8317520556609741, 1.0)\n",
        "plotting uatemplate -5 as color (0.0, 0.0, 0.71390374331550799, 1.0)\n",
        "reading station detections... \n"
       ]
      },
      {
       "metadata": {},
       "output_type": "display_data",
       "png": "[encoded data removed]",
       "text": [
        "<matplotlib.figure.Figure at 0x55589d0>"
       ]
      }
     ],
     "prompt_number": 8
    },
    {
     "cell_type": "code",
     "collapsed": false,
     "input": [
      "wn.log_p()\n",
      "sg.current_log_p_breakdown()"
     ],
     "language": "python",
     "metadata": {},
     "outputs": [
      {
       "output_type": "stream",
       "stream": "stdout",
       "text": [
        "n_uatemplate: -211.9\n",
        "n_event: -3.8\n",
        "ev priors: ev 0.0\n",
        "tt_residual: ev 0.0\n",
        "ev global cost (n + priors + tt): -3.8\n",
        "coda_decay: ev 0.0 ua -41.5 total -41.5\n",
        "peak_decay: ev 0.0 ua -48.1 total -48.1\n",
        "peak_offset: ev 0.0 ua -63.5 total -63.5\n",
        "coda_height: ev 0.0 ua -74.1 total -74.1\n",
        "wiggles: ev 0.0 ua 0.0 total 0.0\n",
        "total param: ev 0.0 ua -227.1 total -227.1\n",
        "non signals: ev -3.8 ua -439.0 total -442.8\n",
        "signals: -4746.3\n",
        "overall: -5189.2\n",
        "official: -5189.2\n"
       ]
      }
     ],
     "prompt_number": 9
    },
    {
     "cell_type": "code",
     "collapsed": false,
     "input": [
      "from sigvisa.infer.run_mcmc import single_template_MH"
     ],
     "language": "python",
     "metadata": {},
     "outputs": [],
     "prompt_number": 8
    },
    {
     "cell_type": "code",
     "collapsed": false,
     "input": [
      "import scipy.stats\n",
      "\n",
      "# approximate the proposal density as an axis-aligned Gaussian.\n",
      "# this will in general return too-small values, since it ignores correlations between parameters\n",
      "def template_mcmc_proposal_density(vals, burnin=100):\n",
      "    vals = vals[burnin:, :]\n",
      "    means = np.mean(vals, axis=0)\n",
      "    stds = np.std(vals, axis=0)\n",
      "    v = vals[-1, :]\n",
      "\n",
      "    # hack to prevent errors if MCMC returns \n",
      "    stds[np.isnan(stds)] = 1e-4\n",
      "    \n",
      "    lps = [scipy.stats.norm.logpdf(v[i], loc=means[i], scale=stds[i]) for i in range(len(v))]\n",
      "    print stds\n",
      "    print lps\n",
      "    \n",
      "    return np.sum(lps)\n",
      "\n"
     ],
     "language": "python",
     "metadata": {},
     "outputs": [],
     "prompt_number": 9
    },
    {
     "cell_type": "code",
     "collapsed": false,
     "input": [
      "do_plot(wn)\n",
      "sg.current_log_p_breakdown()"
     ],
     "language": "python",
     "metadata": {},
     "outputs": [
      {
       "output_type": "stream",
       "stream": "stdout",
       "text": [
        "plotting uatemplate -18 as color (0.0, 0.56666666666666665, 1.0, 1.0)\n",
        "plotting uatemplate -8 as color (0.0, 0.22156862745098038, 1.0, 1.0)\n",
        "plotting uatemplate -11 as color (0.0, 0.707843137254902, 1.0, 1.0)\n",
        "plotting uatemplate -21 as color (0.4142947501581275, 1.0, 0.55344718532574344, 1.0)\n",
        "plotting uatemplate -14 as color (0.0, 0.28431372549019607, 1.0, 1.0)\n",
        "plotting uatemplate -24 as color (0.0, 0.28431372549019607, 1.0, 1.0)\n",
        "plotting uatemplate -7 as color (0.14864010120177101, 1.0, 0.81910183428209993, 1.0)\n",
        "plotting uatemplate -4 as color (0.0, 0.78627450980392133, 1.0, 1.0)\n",
        "plotting uatemplate -17 as color (0.0, 0.28431372549019607, 1.0, 1.0)\n",
        "plotting uatemplate -20 as color (0.0, 0.88039215686274508, 0.98355471220746371, 1.0)\n",
        "plotting uatemplate -3 as color (0.0, 0.29999999999999999, 1.0, 1.0)\n",
        "plotting uatemplate -13 as color (0.0, 0.0, 0.80303030303030298, 1.0)\n",
        "plotting uatemplate -26 as color (0.0, 0.39411764705882341, 1.0, 1.0)\n",
        "plotting uatemplate -6 as color (0.0, 0.1588235294117647, 1.0, 1.0)\n",
        "plotting uatemplate -16 as color (0.0, 0.0, 0.98128342245989297, 1.0)\n",
        "plotting uatemplate -19 as color (0.3636938646426312, 1.0, 0.60404807084123968, 1.0)\n",
        "plotting uatemplate -22 as color (0.0, 0.88039215686274508, 0.98355471220746371, 1.0)\n",
        "plotting uatemplate -15 as color (0.0, 0.69215686274509802, 1.0, 1.0)\n",
        "plotting uatemplate -9 as color (0.072738772928526235, 0.99019607843137258, 0.89500316255534473, 1.0)\n",
        "plotting uatemplate -1 as color (0.0, 0.58235294117647063, 1.0, 1.0)\n",
        "plotting uatemplate -12 as color (0.0, 0.89607843137254906, 0.97090449082858954, 1.0)\n",
        "plotting uatemplate -25 as color (0.37634408602150532, 1.0, 0.59139784946236562, 1.0)\n",
        "plotting uatemplate -5 as color (0.26249209361163817, 1.0, 0.70524984187223283, 1.0)\n",
        "reading station detections... \n",
        "n_uatemplate: -211.9"
       ]
      },
      {
       "output_type": "stream",
       "stream": "stdout",
       "text": [
        "\n",
        "n_event: -3.8\n",
        "ev priors: ev 0.0\n",
        "tt_residual: ev 0.0\n",
        "ev global cost (n + priors + tt): -3.8\n",
        "coda_decay: ev 0.0 ua -41.5 total -41.5\n",
        "peak_decay: ev 0.0 ua -48.1 total -48.1\n",
        "peak_offset: ev 0.0 ua -63.5 total -63.5\n",
        "coda_height: ev 0.0 ua -74.1 total -74.1\n",
        "wiggles: ev 0.0 ua 0.0 total 0.0\n",
        "total param: ev 0.0 ua -227.1 total -227.1\n",
        "non signals: ev -3.8 ua -439.0 total -442.8\n",
        "signals: -4746.3\n",
        "overall: -5189.2\n",
        "official: -5189.2\n"
       ]
      },
      {
       "metadata": {},
       "output_type": "display_data",
       "png": "[encoded data removed]",
       "text": [
        "<matplotlib.figure.Figure at 0x5029fd0>"
       ]
      }
     ],
     "prompt_number": 12
    },
    {
     "cell_type": "code",
     "collapsed": false,
     "input": [
      "from sigvisa.infer.template_mcmc import *\n",
      "\n",
      "median_C = np.array([[  9.39927067e-02,  -4.62885678e-03,  -4.95432261e-03,\n",
      "                          2.74061060e-04,  -1.46169921e-01],\n",
      "                     [ -4.62885678e-03,   1.59957445e-01,   4.16393590e-03,\n",
      "                         -1.43550132e-01,   6.98180075e-03],\n",
      "       [ -4.95432261e-03,   4.16393590e-03,   2.03647647e-02,\n",
      "          2.16402363e-02,  -3.83056982e-03],\n",
      "       [  2.74061060e-04,  -1.43550132e-01,   2.16402363e-02,\n",
      "          8.13223033e-01,   3.29480902e-04],\n",
      "       [ -1.46169921e-01,   6.98180075e-03,  -3.83056982e-03,\n",
      "          3.29480902e-04,   2.50134547e-01]])\n",
      "\n",
      "\n",
      "def optimize_merge_move(sg, wn, arr1, arr2):\n",
      "    \n",
      "    lp_old = sg.current_log_p()\n",
      "    print \"old\", sg.current_log_p_breakdown()\n",
      "    orig_topo_sorted = copy.copy(sg._topo_sorted_list)\n",
      "    \n",
      "    \n",
      "    lp1, lp2 = get_split_probs(sg, wn, arr1, arr2)\n",
      "    log_qbackward = lp1+lp2\n",
      "    \n",
      "    tmnodes, lost_nodes = optimize_merge(sg, wn, arr1, arr2)\n",
      "    keep_vals = dict([(p, n.get_value(k)) for (p, (k, n)) in tmnodes.items()])\n",
      "    \n",
      "    sorted_params = ['arrival_time', 'coda_decay', 'coda_height', 'peak_decay', 'peak_offset']\n",
      "    optimized_vals = np.array([tmnodes[p][1].get_value(tmnodes[p][0]) for p in sorted_params])\n",
      "    \n",
      "    lp_opt = sg.current_log_p()\n",
      "    \n",
      "    sp, vals = single_template_MH(sg, wn, tmnodes, phase=\"UA\", steps=2000)\n",
      "    Q = np.cov(vals[200:,:].T)\n",
      "    m = np.mean(vals[200:,:], axis=0)\n",
      "    \n",
      "    proposal = scipy.stats.multivariate_normal(mean=m, cov=Q)\n",
      "    \n",
      "    proposed_vals = proposal.rvs()\n",
      "    log_qforward = proposal.logpdf(proposed_vals)\n",
      "    \n",
      "    for (p, v) in zip(sorted_params, proposed_vals):\n",
      "        k, n = tmnodes[p]\n",
      "        n.set_value(v, k)\n",
      "\n",
      "    print \"new\", sg.current_log_p_breakdown()\n",
      "    lp_new = sg.current_log_p()\n",
      "        \n",
      "    # \n",
      "    k,n = tmnodes['arrival_time']\n",
      "    merged_atime = n.get_value(key=k)\n",
      "    sorted_arrs = get_sorted_arrivals(wn)\n",
      "    idx = get_atime_index(sorted_arrs, merged_atime)\n",
      "    atime_window_start, atime_window_len = atime_window(wn, sorted_arrs, idx)\n",
      "\n",
      "    # split move has to choose which arrival to split, and the arrival time for the two split arrivals\n",
      "    log_qbackward -= 2*np.log(atime_window_len) # + np.log(n_arrs-1)\n",
      "    \n",
      "    print keep_vals\n",
      "    print zip(sorted_params, optimized_vals)\n",
      "    print zip(sorted_params, proposed_vals)\n",
      "    \n",
      "    \n",
      "    print lp_new, lp_old, lp_opt, log_qbackward, log_qforward\n",
      "    print (lp_new + log_qbackward) - (lp_old + log_qforward)\n",
      "    \n",
      "    do_plot(wn)\n",
      "    \n",
      "    #undo the move\n",
      "    for (param, (key, node)) in lost_nodes.items():\n",
      "        sg.add_node(node)\n",
      "        node.addChild(wn)\n",
      "        \n",
      "    for (param, (key, node)) in tmnodes.items():\n",
      "        if param in keep_vals:\n",
      "            node.set_value(key=key, value=keep_vals[param])\n",
      "            \n",
      "    wn.arrivals()\n",
      "    sg._topo_sorted_list = orig_topo_sorted\n",
      "    sg._gc_topo_sorted_nodes()\n",
      "    \n",
      "optimize_merge_move(sg, wn, (-1, \"UA\"), (-3, \"UA\"))"
     ],
     "language": "python",
     "metadata": {},
     "outputs": [
      {
       "output_type": "stream",
       "stream": "stdout",
       "text": [
        "old n_uatemplate: -211.9\n",
        "n_event: -3.8\n",
        "ev priors: ev 0.0\n",
        "tt_residual: ev 0.0\n",
        "ev global cost (n + priors + tt): -3.8\n",
        "coda_decay: ev 0.0 ua -41.5 total -41.5\n",
        "peak_decay: ev 0.0 ua -48.1 total -48.1\n",
        "peak_offset: ev 0.0 ua -63.5 total -63.5\n",
        "coda_height: ev 0.0 ua -74.1 total -74.1\n",
        "wiggles: ev 0.0 ua 0.0 total 0.0\n",
        "total param: ev 0.0 ua -227.1 total -227.1\n",
        "non signals: ev -3.8 ua -439.0 total -442.8\n",
        "signals: -4746.3\n",
        "overall: -5189.2\n",
        "official: -5189.2\n",
        "None\n",
        "-39.0936268291 -24.9162383669\n",
        "[array([ 0.03096545, -0.80063126, -0.04723939,  0.26282034,  0.34903342])]\n",
        "{'warnflag': 2, 'task': 'ABNORMAL_TERMINATION_IN_LNSRCH', 'grad': array([ -1059.89794407,  17202.09873864,    667.53953398,   1769.84685017,\n",
        "          603.85313876]), 'nit': 16, 'funcalls': 102}"
       ]
      },
      {
       "output_type": "stream",
       "stream": "stdout",
       "text": [
        "\n",
        "{'warnflag': 0, 'task': 'CONVERGENCE: REL_REDUCTION_OF_F_<=_FACTR*EPSMCH', 'grad': array([  569.81155105,  9034.57048848,   971.34598547,   479.04232491,\n",
        "         536.96033709]), 'nit': 44, 'funcalls': 312}"
       ]
      },
      {
       "output_type": "stream",
       "stream": "stdout",
       "text": [
        "\n",
        "{'warnflag': 2, 'task': 'ABNORMAL_TERMINATION_IN_LNSRCH', 'grad': array([  -750.00470431,  14096.02679438,    277.02369375,    364.09800598,\n",
        "          563.69150503]), 'nit': 3, 'funcalls': 67}"
       ]
      },
      {
       "output_type": "stream",
       "stream": "stdout",
       "text": [
        "\n",
        "{'warnflag': 0, 'task': 'CONVERGENCE: REL_REDUCTION_OF_F_<=_FACTR*EPSMCH', 'grad': array([ 2392.04744455,  8666.27873208, -1403.38750237,   303.35989027,\n",
        "         112.90562581]), 'nit': 17, 'funcalls': 225}"
       ]
      },
      {
       "output_type": "stream",
       "stream": "stdout",
       "text": [
        "\n",
        "got optimized x"
       ]
      },
      {
       "output_type": "stream",
       "stream": "stdout",
       "text": [
        " [  3.06492759e+00   1.23991600e+09  -3.69426543e+00  -3.41595398e+00\n",
        "   1.76168700e+00]\n",
        "step 0: lp -5020.673636, [  1.23991600e+09  -3.69426543e+00   3.06492759e+00  -3.41595398e+00\n",
        "   1.76168700e+00]\n",
        "step 50: lp -4996.035840, [  1.23991600e+09  -3.69426543e+00   3.06492759e+00  -3.41595398e+00\n",
        "   1.67079666e+00]"
       ]
      },
      {
       "output_type": "stream",
       "stream": "stdout",
       "text": [
        "\n",
        "step 100: lp -4987.329817, [  1.23991600e+09  -3.69426543e+00   3.06492759e+00  -3.45971892e+00\n",
        "   1.62821816e+00]"
       ]
      },
      {
       "output_type": "stream",
       "stream": "stdout",
       "text": [
        "\n",
        "step 150: lp -4895.160521, [  1.23991600e+09  -3.69426543e+00   3.06496440e+00  -3.86728014e+00\n",
        "   1.04524922e+00]"
       ]
      },
      {
       "output_type": "stream",
       "stream": "stdout",
       "text": [
        "\n",
        "step 200: lp -4874.214729, [  1.23991600e+09  -3.69426543e+00   3.06496440e+00  -3.86728014e+00\n",
        "   1.14586282e+00]"
       ]
      },
      {
       "output_type": "stream",
       "stream": "stdout",
       "text": [
        "\n",
        "step 250: lp -4875.191157, [  1.23991600e+09  -3.69426543e+00   3.06496440e+00  -3.88309324e+00\n",
        "   1.14586282e+00]"
       ]
      },
      {
       "output_type": "stream",
       "stream": "stdout",
       "text": [
        "\n",
        "step 300: lp -4874.916391, [  1.23991600e+09  -3.69426543e+00   3.06496440e+00  -3.88881598e+00\n",
        "   1.12124567e+00]"
       ]
      },
      {
       "output_type": "stream",
       "stream": "stdout",
       "text": [
        "\n",
        "step 350: lp -4864.423666, [  1.23991600e+09  -3.69426543e+00   3.06496440e+00  -3.90903564e+00\n",
        "   1.07025665e+00]"
       ]
      },
      {
       "output_type": "stream",
       "stream": "stdout",
       "text": [
        "\n",
        "step 400: lp -4847.975945, [  1.23991600e+09  -3.67913571e+00   3.06496440e+00  -4.25527873e+00\n",
        "   1.07025665e+00]"
       ]
      },
      {
       "output_type": "stream",
       "stream": "stdout",
       "text": [
        "\n",
        "step 450: lp -4842.192605, [  1.23991600e+09  -3.67913571e+00   3.06496440e+00  -4.19455907e+00\n",
        "   1.07025665e+00]"
       ]
      },
      {
       "output_type": "stream",
       "stream": "stdout",
       "text": [
        "\n",
        "step 500: lp -4842.192605, [  1.23991600e+09  -3.67913571e+00   3.06496440e+00  -4.19455907e+00\n",
        "   1.07025665e+00]"
       ]
      },
      {
       "output_type": "stream",
       "stream": "stdout",
       "text": [
        "\n",
        "step 550: lp -4841.668181, [  1.23991600e+09  -3.67913571e+00   3.06496440e+00  -4.09126477e+00\n",
        "   1.07025665e+00]"
       ]
      },
      {
       "output_type": "stream",
       "stream": "stdout",
       "text": [
        "\n",
        "step 600: lp -4841.377000, [  1.23991600e+09  -3.67913571e+00   3.06496440e+00  -4.09630108e+00\n",
        "   1.07025665e+00]"
       ]
      },
      {
       "output_type": "stream",
       "stream": "stdout",
       "text": [
        "\n",
        "step 650: lp -4841.361732, [  1.23991600e+09  -3.67913571e+00   3.06496440e+00  -4.09630108e+00\n",
        "   1.07025665e+00]"
       ]
      },
      {
       "output_type": "stream",
       "stream": "stdout",
       "text": [
        "\n",
        "step 700: lp -4841.348035, [  1.23991600e+09  -3.67913571e+00   3.06496440e+00  -4.09674762e+00\n",
        "   1.07025665e+00]"
       ]
      },
      {
       "output_type": "stream",
       "stream": "stdout",
       "text": [
        "\n",
        "step 750: lp -4843.814770, [  1.23991600e+09  -3.67913571e+00   3.06496440e+00  -4.09674762e+00\n",
        "   1.07743643e+00]"
       ]
      },
      {
       "output_type": "stream",
       "stream": "stdout",
       "text": [
        "\n",
        "step 800: lp -4842.488450, [  1.23991600e+09  -3.67913571e+00   3.06496440e+00  -4.08367366e+00\n",
        "   1.07330829e+00]"
       ]
      },
      {
       "output_type": "stream",
       "stream": "stdout",
       "text": [
        "\n",
        "step 850: lp -4841.590010, [  1.23991600e+09  -3.67913571e+00   3.06496440e+00  -4.16507491e+00\n",
        "   1.07330829e+00]"
       ]
      },
      {
       "output_type": "stream",
       "stream": "stdout",
       "text": [
        "\n",
        "step 900: lp -4841.665507, [  1.23991600e+09  -3.67913571e+00   3.06496440e+00  -4.16507491e+00\n",
        "   1.07330829e+00]"
       ]
      },
      {
       "output_type": "stream",
       "stream": "stdout",
       "text": [
        "\n",
        "step 950: lp -4841.333061, [  1.23991600e+09  -3.67913571e+00   3.06496440e+00  -4.14614738e+00\n",
        "   1.07330829e+00]"
       ]
      },
      {
       "output_type": "stream",
       "stream": "stdout",
       "text": [
        "\n",
        "step 1000: lp -4841.333061, [  1.23991600e+09  -3.67913571e+00   3.06496440e+00  -4.14614738e+00\n",
        "   1.07330829e+00]"
       ]
      },
      {
       "output_type": "stream",
       "stream": "stdout",
       "text": [
        "\n",
        "step 1050: lp -4841.490016, [  1.23991600e+09  -3.67913571e+00   3.06496440e+00  -4.15656384e+00\n",
        "   1.07330829e+00]"
       ]
      },
      {
       "output_type": "stream",
       "stream": "stdout",
       "text": [
        "\n",
        "step 1100: lp -4841.490016, [  1.23991600e+09  -3.67913571e+00   3.06496440e+00  -4.15656384e+00\n",
        "   1.07330829e+00]"
       ]
      },
      {
       "output_type": "stream",
       "stream": "stdout",
       "text": [
        "\n",
        "step 1150: lp -4842.857313, [  1.23991600e+09  -3.67913571e+00   3.06496440e+00  -4.08244699e+00\n",
        "   1.07330829e+00]"
       ]
      },
      {
       "output_type": "stream",
       "stream": "stdout",
       "text": [
        "\n",
        "step 1200: lp -4837.352435, [  1.23991600e+09  -3.67913571e+00   3.05667622e+00  -4.25987802e+00\n",
        "   1.07330829e+00]"
       ]
      },
      {
       "output_type": "stream",
       "stream": "stdout",
       "text": [
        "\n",
        "step 1250: lp -4838.035270, [  1.23991600e+09  -3.67913571e+00   3.05667622e+00  -4.34844647e+00\n",
        "   1.07330829e+00]"
       ]
      },
      {
       "output_type": "stream",
       "stream": "stdout",
       "text": [
        "\n",
        "step 1300: lp -4838.436251, [  1.23991600e+09  -3.67913571e+00   3.05667622e+00  -4.34844647e+00\n",
        "   1.07330829e+00]"
       ]
      },
      {
       "output_type": "stream",
       "stream": "stdout",
       "text": [
        "\n",
        "step 1350: lp -4837.857289, [  1.23991600e+09  -3.67913571e+00   3.05667622e+00  -4.27615668e+00\n",
        "   1.07129604e+00]"
       ]
      },
      {
       "output_type": "stream",
       "stream": "stdout",
       "text": [
        "\n",
        "step 1400: lp -4836.765710, [  1.23991600e+09  -3.67913571e+00   3.05667622e+00  -4.27615668e+00\n",
        "   1.07129604e+00]"
       ]
      },
      {
       "output_type": "stream",
       "stream": "stdout",
       "text": [
        "\n",
        "step 1450: lp -4835.630217, [  1.23991600e+09  -3.67913571e+00   3.05667622e+00  -4.28282068e+00\n",
        "   1.06779264e+00]"
       ]
      },
      {
       "output_type": "stream",
       "stream": "stdout",
       "text": [
        "\n",
        "step 1500: lp -4835.632624, [  1.23991600e+09  -3.67913571e+00   3.05667622e+00  -4.28203473e+00\n",
        "   1.06779264e+00]"
       ]
      },
      {
       "output_type": "stream",
       "stream": "stdout",
       "text": [
        "\n",
        "step 1550: lp -4836.142009, [  1.23991600e+09  -3.67913571e+00   3.05667622e+00  -4.33532857e+00\n",
        "   1.06779264e+00]"
       ]
      },
      {
       "output_type": "stream",
       "stream": "stdout",
       "text": [
        "\n",
        "step 1600: lp -4835.974733, [  1.23991600e+09  -3.67913571e+00   3.05667622e+00  -4.32492323e+00\n",
        "   1.06779264e+00]"
       ]
      },
      {
       "output_type": "stream",
       "stream": "stdout",
       "text": [
        "\n",
        "step 1650: lp -4835.974733, [  1.23991600e+09  -3.67913571e+00   3.05667622e+00  -4.32492323e+00\n",
        "   1.06779264e+00]"
       ]
      },
      {
       "output_type": "stream",
       "stream": "stdout",
       "text": [
        "\n",
        "step 1700: lp -4836.285484, [  1.23991600e+09  -3.67913571e+00   3.05667622e+00  -4.34255690e+00\n",
        "   1.06779264e+00]"
       ]
      },
      {
       "output_type": "stream",
       "stream": "stdout",
       "text": [
        "\n",
        "step 1750: lp -4836.707641, [  1.23991600e+09  -3.67913571e+00   3.05667622e+00  -4.34705762e+00\n",
        "   1.06779264e+00]"
       ]
      },
      {
       "output_type": "stream",
       "stream": "stdout",
       "text": [
        "\n",
        "step 1800: lp -4836.733180, [  1.23991600e+09  -3.67913571e+00   3.05667622e+00  -4.35069902e+00\n",
        "   1.06779264e+00]"
       ]
      },
      {
       "output_type": "stream",
       "stream": "stdout",
       "text": [
        "\n",
        "step 1850: lp -4836.026981, [  1.23991600e+09  -3.67913571e+00   3.05667622e+00  -4.27935614e+00\n",
        "   1.06779264e+00]"
       ]
      },
      {
       "output_type": "stream",
       "stream": "stdout",
       "text": [
        "\n",
        "step 1900: lp -4835.812281, [  1.23991600e+09  -3.67913571e+00   3.05667622e+00  -4.27935614e+00\n",
        "   1.06779264e+00]"
       ]
      },
      {
       "output_type": "stream",
       "stream": "stdout",
       "text": [
        "\n",
        "step 1950: lp -4836.380896, [  1.23991600e+09  -3.67913571e+00   3.05667622e+00  -4.29877869e+00\n",
        "   1.06779264e+00]"
       ]
      },
      {
       "output_type": "stream",
       "stream": "stdout",
       "text": [
        "\n",
        "new"
       ]
      },
      {
       "output_type": "stream",
       "stream": "stdout",
       "text": [
        " n_uatemplate: -202.7\n",
        "n_event: -3.8\n",
        "ev priors: ev 0.0\n",
        "tt_residual: ev 0.0\n",
        "ev global cost (n + priors + tt): -3.8\n",
        "coda_decay: ev 0.0 ua -38.9 total -38.9\n",
        "peak_decay: ev 0.0 ua -53.9 total -53.9\n",
        "peak_offset: ev 0.0 ua -61.0 total -61.0\n",
        "coda_height: ev 0.0 ua -51.6 total -51.6\n",
        "wiggles: ev 0.0 ua 0.0 total 0.0\n",
        "total param: ev 0.0 ua -205.5 total -205.5\n",
        "non signals: ev -3.8 ua -408.2 total -412.0\n",
        "signals: -4418.7\n",
        "overall: -4830.7\n",
        "official: -4830.7\n",
        "None\n",
        "{'coda_height': 3.0649275909165969, 'arrival_time': 1239915998.7379761, 'coda_decay': -3.6942654305239317, 'peak_decay': -3.4159539807347468, 'peak_offset': 1.7616869975895972}\n",
        "[('arrival_time', 1239915998.7379761), ('coda_decay', -3.6942654305239317), ('coda_height', 3.0649275909165969), ('peak_decay', -3.4159539807347468), ('peak_offset', 1.7616869975895972)]\n",
        "[('arrival_time', 1239915999.9969871), ('coda_decay', -3.6742381123476808), ('coda_height', 3.0576930010418977), ('peak_decay', -4.3519573905095701), ('peak_offset', 1.0480050641899268)]\n",
        "-4830.72167611 -5189.16075118 -5020.67363647 -72.0296893858 16.9977096897\n",
        "269.41167599\n",
        "plotting uatemplate -18 as color (0.0, 0.096078431372549025, 1.0, 1.0)\n",
        "plotting uatemplate -8 as color (0.0, 0.0, 0.80303030303030298, 1.0)\n",
        "plotting uatemplate -11 as color (0.0, 0.0, 0.82085561497326198, 1.0)\n",
        "plotting uatemplate -21 as color (0.16129032258064513, 1.0, 0.80645161290322587, 1.0)\n",
        "plotting uatemplate -14 as color (0.0, 0.0, 1.0, 1.0)\n",
        "plotting uatemplate -24 as color (0.0, 0.56666666666666665, 1.0, 1.0)\n",
        "plotting uatemplate -7 as color (0.0, 0.73921568627450984, 1.0, 1.0)\n",
        "plotting uatemplate -4 as color (0.085388994307400365, 1.0, 0.88235294117647056, 1.0)\n",
        "plotting uatemplate -17 as color (0.0, 0.0, 0.535650623885918, 1.0)\n",
        "plotting uatemplate -20 as color (0.0, 0.64509803921568631, 1.0, 1.0)\n",
        "plotting uatemplate -13 as color (0.35104364326375709, 1.0, 0.61669829222011385, 1.0)\n",
        "plotting uatemplate -26 as color (0.0, 0.0, 0.80303030303030298, 1.0)\n",
        "plotting uatemplate -6 as color (0.0, 0.36274509803921567, 1.0, 1.0)\n",
        "plotting uatemplate -16 as color (0.3257432005060088, 1.0, 0.6419987349778622, 1.0)\n",
        "plotting uatemplate -19 as color (0.0, 0.1588235294117647, 1.0, 1.0)\n",
        "plotting uatemplate -22 as color (0.30044275774826057, 1.0, 0.66729917773561032, 1.0)\n",
        "plotting uatemplate -15 as color (0.0, 0.033333333333333333, 1.0, 1.0)\n",
        "plotting uatemplate -9 as color (0.0, 0.88039215686274508, 0.98355471220746371, 1.0)\n",
        "plotting uatemplate -1 as color (0.42694497153700184, 1.0, 0.54079696394686905, 1.0)\n",
        "plotting uatemplate -12 as color (0.22454142947501579, 1.0, 0.74320050600885512, 1.0)\n",
        "plotting uatemplate -25 as color (0.0, 0.84901960784313724, 1.0, 1.0)\n",
        "plotting uatemplate -5 as color (0.11068943706514844, 1.0, 0.85705249841872255, 1.0)\n",
        "reading station detections... \n"
       ]
      },
      {
       "metadata": {},
       "output_type": "display_data",
       "png": "[encoded data removed]",
       "text": [
        "<matplotlib.figure.Figure at 0x5e4e990>"
       ]
      }
     ],
     "prompt_number": 10
    },
    {
     "cell_type": "code",
     "collapsed": false,
     "input": [
      "sg.current_log_p_breakdown()"
     ],
     "language": "python",
     "metadata": {},
     "outputs": [
      {
       "output_type": "stream",
       "stream": "stdout",
       "text": [
        "n_uatemplate: -202.7\n",
        "n_event: -3.8\n",
        "ev priors: ev 0.0\n",
        "tt_residual: ev 0.0\n",
        "ev global cost (n + priors + tt): -3.8\n",
        "coda_decay: ev 0.0 ua -38.9 total -38.9\n",
        "peak_decay: ev 0.0 ua -50.3 total -50.3\n",
        "peak_offset: ev 0.0 ua -61.7 total -61.7\n",
        "coda_height: ev 0.0 ua -51.7 total -51.7\n",
        "wiggles: ev 0.0 ua 0.0 total 0.0\n",
        "total param: ev 0.0 ua -202.6 total -202.6\n",
        "non signals: ev -3.8 ua -405.3 total -409.1\n",
        "signals: -4759.5\n",
        "overall: -5168.7\n",
        "official: -5193.6\n"
       ]
      }
     ],
     "prompt_number": 15
    },
    {
     "cell_type": "code",
     "collapsed": false,
     "input": [],
     "language": "python",
     "metadata": {},
     "outputs": []
    },
    {
     "cell_type": "code",
     "collapsed": false,
     "input": [
      "do_plot(wn)"
     ],
     "language": "python",
     "metadata": {},
     "outputs": [
      {
       "output_type": "stream",
       "stream": "stdout",
       "text": [
        "plotting uatemplate -18 as color (0.098039215686274495, 1.0, 0.8697027197975965, 1.0)\n",
        "plotting uatemplate -8 as color (0.0, 0.53529411764705859, 1.0, 1.0)\n",
        "plotting uatemplate -11 as color (0.0, 0.0, 0.5, 1.0)\n",
        "plotting uatemplate -21 as color (0.0, 0.049019607843137254, 1.0, 1.0)\n",
        "plotting uatemplate -14 as color (0.0, 0.56666666666666665, 1.0, 1.0)\n",
        "plotting uatemplate -24 as color (0.11068943706514844, 1.0, 0.85705249841872255, 1.0)\n",
        "plotting uatemplate -7 as color (0.0, 0.0, 0.60695187165775399, 1.0)\n",
        "plotting uatemplate -4 as color (0.0, 0.59803921568627449, 1.0, 1.0)\n",
        "plotting uatemplate -17 as color (0.16129032258064513, 1.0, 0.80645161290322587, 1.0)\n",
        "plotting uatemplate -20 as color (0.0, 0.80196078431372553, 1.0, 1.0)\n",
        "plotting uatemplate -3 as color (0.37634408602150532, 1.0, 0.59139784946236562, 1.0)\n",
        "plotting uatemplate -13 as color (0.0, 0.0, 0.66042780748663099, 1.0)\n",
        "plotting uatemplate -26 as color (0.0, 0.049019607843137254, 1.0, 1.0)\n",
        "plotting uatemplate -6 as color (0.35104364326375709, 1.0, 0.61669829222011385, 1.0)\n",
        "plotting uatemplate -16 as color (0.098039215686274495, 1.0, 0.8697027197975965, 1.0)\n",
        "plotting uatemplate -19 as color (0.0, 0.69215686274509802, 1.0, 1.0)\n",
        "plotting uatemplate -22 as color (0.21189120809614148, 1.0, 0.75585072738772952, 1.0)\n",
        "plotting uatemplate -15 as color (0.31309297912713452, 1.0, 0.65464895635673637, 1.0)\n",
        "plotting uatemplate -9 as color (0.43959519291587595, 1.0, 0.52814674256799488, 1.0)\n",
        "plotting uatemplate -1 as color (0.47754585705249836, 1.0, 0.49019607843137258, 1.0)\n",
        "plotting uatemplate -12 as color (0.0, 0.0, 0.80303030303030298, 1.0)\n",
        "plotting uatemplate -25 as color (0.0, 0.0, 0.66042780748663099, 1.0)\n",
        "plotting uatemplate -5 as color (0.0, 0.0, 0.66042780748663099, 1.0)\n",
        "reading station detections... \n"
       ]
      },
      {
       "metadata": {},
       "output_type": "display_data",
       "png": "[encoded data removed]",
       "text": [
        "<matplotlib.figure.Figure at 0x45ad550>"
       ]
      }
     ],
     "prompt_number": 16
    },
    {
     "cell_type": "code",
     "collapsed": false,
     "input": [
      "from sigvisa.infer.template_mcmc import *\n",
      "import scipy.stats\n",
      "\n",
      "\n",
      "\n",
      "def optimize_merge_move_laplace(sg, wn, arr1, arr2):\n",
      "    \n",
      "    lp_old = sg.current_log_p()\n",
      "    print \"old\", sg.current_log_p_breakdown()\n",
      "    orig_topo_sorted = copy.copy(sg._topo_sorted_list)\n",
      "    \n",
      "    \n",
      "    lp1, lp2 = get_split_probs(sg, wn, arr1, arr2)\n",
      "    log_qbackward = lp1+lp2\n",
      "    \n",
      "    tmnodes, lost_nodes = optimize_merge(sg, wn, arr1, arr2)\n",
      "    keep_vals = dict([(p, n.get_value(k)) for (p, (k, n)) in tmnodes.items()])\n",
      "    \n",
      "    sorted_params = ['arrival_time', 'coda_decay', 'coda_height', 'peak_decay', 'peak_offset']\n",
      "    optimized_vals = np.array([tmnodes[p][1].get_value(tmnodes[p][0]) for p in sorted_params])\n",
      "    \n",
      "    lp_opt = sg.current_log_p()\n",
      "    \n",
      "    #sp, vals = single_template_MH(sg, wn, tmnodes, phase=\"UA\", steps=2000)\n",
      "    #Q = np.cov(vals[200:,:].T)\n",
      "    #m = np.mean(vals[200:,:], axis=0)\n",
      "    \n",
      "    #\n",
      "    \n",
      "    node_list = [tmnodes[p][1] for p in sorted_params]\n",
      "    optimized_vals = np.array([tmnodes[p][1].get_value(tmnodes[p][0]) for p in sorted_params])\n",
      "    relevant_nodes = node_list + [wn,]\n",
      "    lb = lambda v : sg.joint_logprob(v, node_list, relevant_nodes, c=-1)    \n",
      "    \n",
      "    import numdifftools as nd\n",
      "    H = nd.Hessian(lb, step_nom=[1.0, 1.0, 1.0, 1.0, 1.0]) \n",
      "    e_val, e_vec = np.linalg.eig(H.hessian(optimized_vals))\n",
      "    C = np.dot(e_vec, np.dot(np.diag(np.abs(1.0/e_val)), e_vec.T))\n",
      "\n",
      "    proposal = scipy.stats.multivariate_normal(mean=optimized_vals, cov=C)\n",
      "    \n",
      "    proposed_vals = proposal.rvs()\n",
      "    log_qforward = proposal.logpdf(proposed_vals)\n",
      "    \n",
      "    for (p, v) in zip(sorted_params, proposed_vals):\n",
      "        k, n = tmnodes[p]\n",
      "        n.set_value(v, k)\n",
      "\n",
      "    print \"new\", sg.current_log_p_breakdown()\n",
      "    lp_new = sg.current_log_p()\n",
      "        \n",
      "    # \n",
      "    k,n = tmnodes['arrival_time']\n",
      "    merged_atime = n.get_value(key=k)\n",
      "    sorted_arrs = get_sorted_arrivals(wn)\n",
      "    idx = get_atime_index(sorted_arrs, merged_atime)\n",
      "    atime_window_start, atime_window_len = atime_window(wn, sorted_arrs, idx)\n",
      "\n",
      "    # split move has to choose which arrival to split, and the arrival time for the two split arrivals\n",
      "    log_qbackward -= 2*np.log(atime_window_len) # + np.log(n_arrs-1)\n",
      "    \n",
      "    print keep_vals\n",
      "    print zip(sorted_params, optimized_vals)\n",
      "    print zip(sorted_params, proposed_vals)\n",
      "    \n",
      "    \n",
      "    print lp_new, lp_old, lp_opt, log_qbackward, log_qforward\n",
      "    print (lp_new + log_qbackward) - (lp_old + log_qforward)\n",
      "    \n",
      "    do_plot(wn)\n",
      "    \n",
      "    #undo the move\n",
      "    for (param, (key, node)) in lost_nodes.items():\n",
      "        sg.add_node(node)\n",
      "        node.addChild(wn)\n",
      "        \n",
      "    for (param, (key, node)) in tmnodes.items():\n",
      "        if param in keep_vals:\n",
      "            node.set_value(key=key, value=keep_vals[param])\n",
      "            \n",
      "    wn.arrivals()\n",
      "    sg._topo_sorted_list = orig_topo_sorted\n",
      "    sg._gc_topo_sorted_nodes()\n",
      "    \n",
      "optimize_merge_move_laplace(sg, wn, (-1, \"UA\"), (-3, \"UA\"))"
     ],
     "language": "python",
     "metadata": {},
     "outputs": [
      {
       "output_type": "stream",
       "stream": "stdout",
       "text": [
        "old n_uatemplate: -211.9\n",
        "n_event: -3.8\n",
        "ev priors: ev 0.0\n",
        "tt_residual: ev 0.0\n",
        "ev global cost (n + priors + tt): -3.8\n",
        "coda_decay: ev 0.0 ua -41.5 total -41.5\n",
        "peak_decay: ev 0.0 ua -48.1 total -48.1\n",
        "peak_offset: ev 0.0 ua -63.5 total -63.5\n",
        "coda_height: ev 0.0 ua -74.1 total -74.1\n",
        "wiggles: ev 0.0 ua 0.0 total 0.0\n",
        "total param: ev 0.0 ua -227.1 total -227.1\n",
        "non signals: ev -3.8 ua -439.0 total -442.8\n",
        "signals: -4746.3\n",
        "overall: -5189.2\n",
        "official: -5189.2\n",
        "None\n",
        "-39.0936268291 -24.9162383669\n",
        "[array([ 0.03096545, -0.80063126, -0.04723939,  0.26282034,  0.34903342])]\n",
        "{'warnflag': 2, 'task': 'ABNORMAL_TERMINATION_IN_LNSRCH', 'grad': array([ -1059.89794408,  17202.09873863,    667.53953399,   1769.84685016,\n",
        "          603.85313876]), 'nit': 16, 'funcalls': 102}"
       ]
      },
      {
       "output_type": "stream",
       "stream": "stdout",
       "text": [
        "\n",
        "{'warnflag': 0, 'task': 'CONVERGENCE: REL_REDUCTION_OF_F_<=_FACTR*EPSMCH', 'grad': array([  1560.77091249,  21590.49498959,   1402.55760184,    357.31376628,\n",
        "          781.65364373]), 'nit': 38, 'funcalls': 185}"
       ]
      },
      {
       "output_type": "stream",
       "stream": "stdout",
       "text": [
        "\n",
        "{'warnflag': 2, 'task': 'ABNORMAL_TERMINATION_IN_LNSRCH', 'grad': array([ 1346.2569741 ,  3633.29109958,   518.7642774 ,   428.71854261,\n",
        "          -9.16285627]), 'nit': 7, 'funcalls': 77}"
       ]
      },
      {
       "output_type": "stream",
       "stream": "stdout",
       "text": [
        "\n",
        "{'warnflag': 2, 'task': 'ABNORMAL_TERMINATION_IN_LNSRCH', 'grad': array([  840.82803697,  5557.33321817,   727.89565774,   429.70422218,\n",
        "         -27.46807958]), 'nit': 5, 'funcalls': 105}"
       ]
      },
      {
       "output_type": "stream",
       "stream": "stdout",
       "text": [
        "\n",
        "{'warnflag': 2, 'task': 'ABNORMAL_TERMINATION_IN_LNSRCH', 'grad': array([ 1084.95153483,  4669.41278154,  1112.75838834,   420.71034147,\n",
        "         -45.02387342]), 'nit': 3, 'funcalls': 59}"
       ]
      },
      {
       "output_type": "stream",
       "stream": "stdout",
       "text": [
        "\n",
        "got optimized x"
       ]
      },
      {
       "output_type": "stream",
       "stream": "stdout",
       "text": [
        " [  3.06269273e+00   1.23991600e+09  -3.68929296e+00  -3.51264547e+00\n",
        "   1.81212546e+00]\n",
        "new"
       ]
      },
      {
       "output_type": "stream",
       "stream": "stdout",
       "text": [
        " n_uatemplate: -202.7\n",
        "n_event: -3.8\n",
        "ev priors: ev 0.0\n",
        "tt_residual: ev 0.0\n",
        "ev global cost (n + priors + tt): -3.8\n",
        "coda_decay: ev 0.0 ua -38.9 total -38.9\n",
        "peak_decay: ev 0.0 ua -50.4 total -50.4\n",
        "peak_offset: ev 0.0 ua -61.6 total -61.6\n",
        "coda_height: ev 0.0 ua -52.5 total -52.5\n",
        "wiggles: ev 0.0 ua 0.0 total 0.0\n",
        "total param: ev 0.0 ua -203.4 total -203.4\n",
        "non signals: ev -3.8 ua -406.1 total -409.9\n",
        "signals: -4774.6\n",
        "overall: -5184.5\n",
        "official: -5184.5\n",
        "None\n",
        "{'coda_height': 3.0626927260418779, 'arrival_time': 1239915998.4521883, 'coda_decay': -3.6892929583648497, 'peak_decay': -3.5126454730700098, 'peak_offset': 1.8121254557467179}\n",
        "[('arrival_time', 1239915998.4521883), ('coda_decay', -3.6892929583648497), ('coda_height', 3.0626927260418779), ('peak_decay', -3.5126454730700098), ('peak_offset', 1.8121254557467179)]\n",
        "[('arrival_time', 1239915998.8601654), ('coda_decay', -3.6904958611590057), ('coda_height', 3.1161538329773131), ('peak_decay', -3.4408847148271247), ('peak_offset', 1.6673747873987033)]\n",
        "-5184.50053493 -5189.16075118 -5035.42837562 -72.0296893858 5.51674939701\n",
        "-72.8862225348\n",
        "plotting uatemplate -18 as color (0.0, 0.72352941176470587, 1.0, 1.0)\n",
        "plotting uatemplate -8 as color (0.0, 0.84901960784313724, 1.0, 1.0)\n",
        "plotting uatemplate -11 as color (0.0, 0.0, 0.517825311942959, 1.0)\n",
        "plotting uatemplate -21 as color (0.0, 0.84901960784313724, 1.0, 1.0)\n",
        "plotting uatemplate -14 as color (0.0, 0.50392156862745097, 1.0, 1.0)\n",
        "plotting uatemplate -24 as color (0.0, 0.0, 1.0, 1.0)\n",
        "plotting uatemplate -7 as color (0.0, 0.0, 0.89215686274509798, 1.0)\n",
        "plotting uatemplate -4 as color (0.0, 0.0, 0.90998217468805698, 1.0)\n",
        "plotting uatemplate -17 as color (0.23719165085388991, 1.0, 0.73055028462998106, 1.0)\n",
        "plotting uatemplate -20 as color (0.45224541429475007, 1.0, 0.51549652118912082, 1.0)\n",
        "plotting uatemplate -13 as color (0.33839342188488292, 1.0, 0.62934851359898802, 1.0)\n",
        "plotting uatemplate -26 as color (0.0, 0.19019607843137254, 1.0, 1.0)\n",
        "plotting uatemplate -6 as color (0.12333965844402275, 1.0, 0.84440227703984827, 1.0)\n",
        "plotting uatemplate -16 as color (0.0, 0.58235294117647063, 1.0, 1.0)\n",
        "plotting uatemplate -19 as color (0.18659076533839339, 1.0, 0.78115117014547764, 1.0)\n",
        "plotting uatemplate -22 as color (0.0, 0.45686274509803909, 1.0, 1.0)\n",
        "plotting uatemplate -15 as color (0.0, 0.67647058823529416, 1.0, 1.0)\n",
        "plotting uatemplate -9 as color (0.13598987982289687, 1.0, 0.8317520556609741, 1.0)\n",
        "plotting uatemplate -1 as color (0.0, 0.0, 0.71390374331550799, 1.0)\n",
        "plotting uatemplate -12 as color (0.0, 0.56666666666666665, 1.0, 1.0)\n",
        "plotting uatemplate -25 as color (0.0, 0.22156862745098038, 1.0, 1.0)\n",
        "plotting uatemplate -5 as color (0.0, 0.707843137254902, 1.0, 1.0)\n",
        "reading station detections... \n"
       ]
      },
      {
       "metadata": {},
       "output_type": "display_data",
       "png": "[encoded data removed]",
       "text": [
        "<matplotlib.figure.Figure at 0x50ec2d0>"
       ]
      }
     ],
     "prompt_number": 9
    },
    {
     "cell_type": "code",
     "collapsed": false,
     "input": [],
     "language": "python",
     "metadata": {},
     "outputs": []
    }
   ],
   "metadata": {}
  }
 ]
}