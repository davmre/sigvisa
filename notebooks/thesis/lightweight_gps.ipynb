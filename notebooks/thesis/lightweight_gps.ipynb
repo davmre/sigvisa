{
 "cells": [
  {
   "cell_type": "code",
   "execution_count": 1,
   "metadata": {
    "collapsed": false
   },
   "outputs": [],
   "source": [
    "import numpy as np\n",
    "import time \n",
    "import os, sys, traceback\n",
    "import cPickle as pickle\n",
    "\n",
    "%matplotlib inline\n",
    "import matplotlib.pylab as plt\n",
    "\n",
    "import numpy as np\n",
    "from sigvisa import Sigvisa\n",
    "\n",
    "from sigvisa.treegp.gp import GP, GPCov\n",
    "from sigvisa.models.spatial_regression import SparseGP\n",
    "\n",
    "%load_ext autoreload\n",
    "%autoreload 1\n",
    "%aimport sigvisa.models.spatial_regression.local_gp_ensemble \n",
    "%aimport sigvisa.learn.train_param_common\n",
    "\n",
    "tpc = sigvisa.learn.train_param_common\n",
    "lge = sigvisa.models.spatial_regression.local_gp_ensemble \n",
    "\n",
    "\n"
   ]
  },
  {
   "cell_type": "code",
   "execution_count": 2,
   "metadata": {
    "collapsed": true
   },
   "outputs": [],
   "source": [
    "s = Sigvisa()\n",
    "cursor = s.dbconn.cursor()\n",
    "cursor.execute(\"select lon, lat, depth, mb from isc_origin where mb > 0\")\n",
    "V = np.array(cursor.fetchall())\n",
    "cursor.close()\n",
    "X = V[:, :3].copy()\n",
    "y = V[:, 3].copy()\n",
    "\n",
    "from sigvisa.utils.geog import dist_km\n",
    "sta_lon = -110\n",
    "sta_lat = 45\n",
    "\n",
    "XX = np.array([(lon, lat, depth, dist_km((lon, lat), (sta_lon, sta_lat)), 0.0) for (lon, lat, depth) in X])\n",
    "x0 = XX[0:1, :]\n"
   ]
  },
  {
   "cell_type": "markdown",
   "metadata": {},
   "source": [
    "# Saving \"tight\" GP files with no Kinv data"
   ]
  },
  {
   "cell_type": "code",
   "execution_count": 3,
   "metadata": {
    "collapsed": false
   },
   "outputs": [],
   "source": [
    "\n",
    "yvar = np.random.rand(*y.shape)\n",
    "basic_cov = GPCov(wfn_str=\"matern32\", wfn_params=(1.0,), dfn_str=\"lld\", dfn_params=(30.0, 30.0))\n",
    "\n",
    "gp = GP(XX, y, y_obs_variances=yvar, \n",
    "        cov_main = basic_cov, noise_var=1.0,\n",
    "        sparse_invert=False)"
   ]
  },
  {
   "cell_type": "code",
   "execution_count": null,
   "metadata": {
    "collapsed": false
   },
   "outputs": [],
   "source": []
  },
  {
   "cell_type": "code",
   "execution_count": 4,
   "metadata": {
    "collapsed": true
   },
   "outputs": [],
   "source": [
    "gp.save_trained_model(\"loose.gp\", tight=False)\n",
    "gp.save_trained_model(\"tight.gp\", tight=True)"
   ]
  },
  {
   "cell_type": "code",
   "execution_count": 5,
   "metadata": {
    "collapsed": false
   },
   "outputs": [],
   "source": [
    "gp2 = GP(fname=\"loose.gp\")"
   ]
  },
  {
   "cell_type": "code",
   "execution_count": 6,
   "metadata": {
    "collapsed": false
   },
   "outputs": [],
   "source": [
    "gp3 = GP(fname=\"tight.gp\")"
   ]
  },
  {
   "cell_type": "code",
   "execution_count": 15,
   "metadata": {
    "collapsed": false
   },
   "outputs": [
    {
     "name": "stdout",
     "output_type": "stream",
     "text": [
      "3.22171800753\n",
      "[ 3.22171801]\n",
      "[ 3.22171801]\n"
     ]
    }
   ],
   "source": [
    "print gp.predict(x0)\n",
    "print gp2.predict(x0)\n",
    "print gp3.predict(x0)"
   ]
  },
  {
   "cell_type": "markdown",
   "metadata": {},
   "source": [
    "# Lazily loaded localGPs"
   ]
  },
  {
   "cell_type": "code",
   "execution_count": 5,
   "metadata": {
    "collapsed": false
   },
   "outputs": [],
   "source": [
    "cluster_centers = np.loadtxt(\"/home/dmoore/python/sigvisa/isc_clusters\")\n",
    "n_clusters = cluster_centers.shape[0]\n",
    "basic_cov = GPCov(wfn_str=\"matern32\", wfn_params=(1.0,), dfn_str=\"lld\", dfn_params=(30.0, 30.0))\n",
    "cluster_covs = [basic_cov.copy() for i in range(n_clusters)]\n",
    "cluster_noise_vars = [1.0 for i in range(n_clusters)]\n",
    "\n",
    "from sigvisa.learn.train_param_common import pre_featurizer\n",
    "basisfn_str=\"sin1\"\n",
    "basisfn_str, featurizer_recovery, extract_dim = pre_featurizer(basisfn_str)\n"
   ]
  },
  {
   "cell_type": "code",
   "execution_count": 14,
   "metadata": {
    "collapsed": false
   },
   "outputs": [],
   "source": [
    "param_mean = np.zeros((4,))\n",
    "param_cov = np.eye(4)\n",
    "lgp_param = lge.LocalGPEnsemble(XX, y, \n",
    "                          cluster_centers=cluster_centers, \n",
    "                          cluster_covs = cluster_covs,\n",
    "                          cluster_noise_vars = cluster_noise_vars,\n",
    "                          basis=basisfn_str,\n",
    "                          extract_dim=extract_dim,\n",
    "                          featurizer_recover=featurizer_recovery,\n",
    "                          prior_mean=param_mean,\n",
    "                          prior_cov=param_cov)\n"
   ]
  },
  {
   "cell_type": "code",
   "execution_count": 15,
   "metadata": {
    "collapsed": false
   },
   "outputs": [
    {
     "name": "stdout",
     "output_type": "stream",
     "text": [
      "3.28529170792\n",
      "1.08235174285\n"
     ]
    }
   ],
   "source": [
    "print lgp_param.predict(x0)\n",
    "print lgp_param.variance(x0, include_obs=True)"
   ]
  },
  {
   "cell_type": "code",
   "execution_count": 16,
   "metadata": {
    "collapsed": false
   },
   "outputs": [],
   "source": [
    "lgp_param.save_trained_model(\"test_lgp\")"
   ]
  },
  {
   "cell_type": "code",
   "execution_count": 17,
   "metadata": {
    "collapsed": false
   },
   "outputs": [],
   "source": [
    "lgp_loaded = lge.load_lgp_ensemble(\"test_lgp\")"
   ]
  },
  {
   "cell_type": "code",
   "execution_count": 18,
   "metadata": {
    "collapsed": false
   },
   "outputs": [
    {
     "name": "stdout",
     "output_type": "stream",
     "text": [
      "<sigvisa.models.spatial_regression.local_gp_ensemble.LocalGPEnsemble object at 0x7f6d5420b050>\n"
     ]
    }
   ],
   "source": [
    "print lgp_loaded"
   ]
  },
  {
   "cell_type": "code",
   "execution_count": 19,
   "metadata": {
    "collapsed": false
   },
   "outputs": [
    {
     "name": "stdout",
     "output_type": "stream",
     "text": [
      "[None, None, None, None, None, None, None, None, None, None, None, None, None, None, None, None, None, None, None, None, None, None, None, None, None, None, None, None, None, None, None, None, None, None, None, None, None, None]\n"
     ]
    }
   ],
   "source": [
    "print lgp_loaded.local_gps"
   ]
  },
  {
   "cell_type": "code",
   "execution_count": 21,
   "metadata": {
    "collapsed": false
   },
   "outputs": [
    {
     "name": "stdout",
     "output_type": "stream",
     "text": [
      "[<sigvisa.treegp.gp.GP object at 0x7f6d542b6850>, None, None, None, None, None, None, None, None, None, None, None, None, None, None, None, None, None, None, None, None, None, None, None, None, None, None, None, None, None, None, None, None, None, None, None, None, None]\n"
     ]
    }
   ],
   "source": [
    "lgp_loaded.predict(x0)\n",
    "print lgp_loaded.local_gps"
   ]
  },
  {
   "cell_type": "code",
   "execution_count": null,
   "metadata": {
    "collapsed": true
   },
   "outputs": [],
   "source": []
  }
 ],
 "metadata": {
  "kernelspec": {
   "display_name": "Python 2",
   "language": "python",
   "name": "python2"
  },
  "language_info": {
   "codemirror_mode": {
    "name": "ipython",
    "version": 2
   },
   "file_extension": ".py",
   "mimetype": "text/x-python",
   "name": "python",
   "nbconvert_exporter": "python",
   "pygments_lexer": "ipython2",
   "version": "2.7.6"
  }
 },
 "nbformat": 4,
 "nbformat_minor": 0
}
