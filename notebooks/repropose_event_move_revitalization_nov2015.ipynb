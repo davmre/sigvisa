{
 "cells": [
  {
   "cell_type": "code",
   "execution_count": 1,
   "metadata": {
    "collapsed": false
   },
   "outputs": [],
   "source": [
    "%matplotlib inline\n",
    "import matplotlib.pylab as plt\n",
    "import numpy as np\n",
    "\n",
    "from sigvisa import Sigvisa\n",
    "from sigvisa.graph.sigvisa_graph import SigvisaGraph\n",
    "from sigvisa.signals.io import fetch_waveform\n",
    "from sigvisa.source.event import Event\n",
    "\n",
    "import cPickle as pickle"
   ]
  },
  {
   "cell_type": "code",
   "execution_count": 2,
   "metadata": {
    "collapsed": false
   },
   "outputs": [
    {
     "name": "stdout",
     "output_type": "stream",
     "text": [
      "n_uatemplate: -24.2\n",
      "n_event: -182.2\n",
      "ev priors: ev -95.2\n",
      "ev observations: ev 0.0\n",
      "tt_residual: ev -1205.2\n",
      "ev global cost (n + priors + tt): -1482.5\n",
      "coda_decay: ev -965.1 ua -4.2 total -969.3\n",
      "peak_decay: ev -923.3 ua -3.4 total -926.7\n",
      "peak_offset: ev -978.9 ua -2.6 total -981.5\n",
      "coda_height: ev -1037.0 ua -4.6 total -1041.5\n",
      "mult_std_wiggle: ev 298.1 ua 1.7 total 299.8\n",
      "coef jointgp: 0.0\n",
      "total param: ev -3606.1 ua -13.1 total -3619.3\n",
      "priors+params: ev -5088.7 ua -37.3 total -5126.0\n",
      "station noise (observed signals): -115290.3\n",
      "noise model prior lp: 40.7\n",
      "overall: -120375.6\n",
      "official: -120375.6\n",
      "None\n"
     ]
    },
    {
     "name": "stderr",
     "output_type": "stream",
     "text": [
      "/home/dmoore/python/sigvisa/models/signal_model.py:587: FutureWarning: comparison to `None` will result in an elementwise object comparison in the future.\n",
      "  return TransientCombinedSSM(components, TSSM_NOISE_PADDING)\n"
     ]
    }
   ],
   "source": [
    "with open(\"/home/dmoore/python/sigvisa/logs/mcmc/00598/step_000209/pickle.sg\", 'rb') as f:\n",
    "    sg = pickle.load(f)\n",
    "    \n",
    "print sg.current_log_p_breakdown()\n",
    "\n",
    "for n in sg.all_nodes.values():\n",
    "    if \"coda_height\" in n.label:\n",
    "        n.set_value(n.get_value())\n"
   ]
  },
  {
   "cell_type": "code",
   "execution_count": null,
   "metadata": {
    "collapsed": false
   },
   "outputs": [],
   "source": []
  },
  {
   "cell_type": "code",
   "execution_count": null,
   "metadata": {
    "collapsed": false
   },
   "outputs": [],
   "source": []
  },
  {
   "cell_type": "code",
   "execution_count": 3,
   "metadata": {
    "collapsed": false
   },
   "outputs": [],
   "source": [
    "from sigvisa.infer.event_swap import rebirth_events_helper, swap_events_move\n",
    "def dummy_proposal(sg, fix_result=None, **kwargs):\n",
    "    ev = Event(lon=-110.57, lat=41.37, depth=2.4, time=1239045221.0, mb=3.8)\n",
    "    if fix_result is not None:\n",
    "        return 0.0\n",
    "    \n",
    "    return ev, 0.0, ()"
   ]
  },
  {
   "cell_type": "code",
   "execution_count": 4,
   "metadata": {
    "collapsed": false
   },
   "outputs": [
    {
     "name": "stdout",
     "output_type": "stream",
     "text": [
      "proposing to deassociate Lg at PD31 (lp -0.0)\n",
      "proposing to deassociate Pg at PD31 (lp -0.0)\n",
      "proposing to deassociate P at YKR8 (lp -0.0)\n",
      "proposing to delete PcP at YKR8 (lp -0.002470)\n",
      "proposing to delete S at YKR8 (lp -0.002470)\n",
      "proposing to delete ScP at YKR8 (lp -0.002470)\n",
      "proposing to delete Lg at NV01 (lp -0.002470)\n",
      "proposing to delete S at NV01 (lp -0.002470)\n",
      "proposing to delete P at NV01 (lp -0.002470)\n",
      "proposing to delete Lg at PFO (lp -0.002470)\n",
      "proposing to delete PcP at PFO (lp -0.002470)\n",
      "proposing to delete ScP at PFO (lp -0.002470)\n",
      "proposing to delete S at PFO (lp -0.002470)\n",
      "proposing to delete P at PFO (lp -0.002470)\n",
      "proposing to deassociate Lg at ANMO (lp -0.0)\n",
      "proposing to delete S at ANMO (lp -0.002470)\n",
      "proposing to deassociate Pg at ANMO (lp -0.0)\n",
      "proposing to deassociate P at ANMO (lp -0.0)\n",
      "proposing to delete P at ULM (lp -0.002470)\n",
      "proposing to delete PcP at ULM (lp -0.002470)\n",
      "proposing to delete S at ULM (lp -0.002470)\n",
      "proposing to delete ScP at ULM (lp -0.002470)\n",
      "proposing to delete Lg at NEW (lp -0.002470)\n",
      "proposing to delete S at NEW (lp -0.002470)\n",
      "proposing to delete P at NEW (lp -0.002931)\n",
      "proposing to deassociate P at IL31 (lp -0.0)\n",
      "proposing to delete PcP at IL31 (lp -0.002470)\n",
      "proposing to delete ScP at IL31 (lp -0.002470)\n",
      "odds for Lg 5662 are 4306.03938382\n",
      "odds for Lg 5663 are 20.9247124181\n",
      "odds for Pg 5662 are 0.0526683300176\n",
      "odds for Pg 5663 are 5418.90146342\n",
      "using assoc [('Lg', 5662), ('Pg', 5663)] with lp -0.000417673069086\n",
      "odds for P 5664 are 9027.52137047\n",
      "using assoc [('P', 5664), ('PcP', None), ('S', None), ('ScP', None)] with lp -0.000110766242124\n",
      "param mult_wiggle_std val 0.75168793515 lp 0.233301191155\n",
      "param coda_decay val 1.12526412382 lp -1.72040468975\n",
      "param peak_offset val -0.952548589047 lp -1.47005135855\n",
      "param tt_residual val 0.638536843481 lp -1.57627461384\n",
      "param peak_decay val 1.13997359583 lp -1.3365919842\n",
      "param atransfer val 1.24497213569 lp -0.839856287774\n",
      "YKR8 -6.70987774296\n",
      "param mult_wiggle_std val 0.89343946007 lp 1.54467049512\n",
      "param coda_decay val 1.19151353393 lp -1.4742713381\n",
      "param peak_offset val -1.23303854161 lp -1.4522705214\n",
      "param tt_residual val -1.67970409184 lp -1.95625567484\n",
      "param peak_decay val -2.2211751334 lp -2.06951648706\n",
      "param atransfer val -1.1401160514 lp -1.28744865412\n",
      "YKR8 -6.69509218039\n",
      "param mult_wiggle_std val 0.889166773147 lp -1.04791605867\n",
      "param coda_decay val 0.231375378211 lp -1.52948038822\n",
      "param peak_offset val -0.111104349101 lp -1.70708698482\n",
      "param tt_residual val 1.17701794178 lp -1.92887156889\n",
      "param peak_decay val 0.835725000881 lp -1.56994569134\n",
      "param atransfer val 0.312484733577 lp -1.41153717443\n",
      "YKR8 -9.19483786637\n",
      "using assoc [('Lg', None), ('P', None), ('S', None)] with lp 0.0\n",
      "param mult_wiggle_std val 0.822936779832 lp 0.74011785312\n",
      "param coda_decay val 2.50354025867 lp -4.18640340951\n",
      "param peak_offset val -0.0705497292814 lp -1.70424436196\n",
      "param tt_residual val 0.0835108647061 lp -1.53961253468\n",
      "param peak_decay val -3.2498106123 lp -2.4261701741\n",
      "param atransfer val -2.24434609074 lp -2.23825494746\n",
      "NV01 -11.3545675746\n",
      "param mult_wiggle_std val 0.488705311991 lp -0.0586277900513\n",
      "param coda_decay val -1.21647750122 lp -1.75746399301\n",
      "param peak_offset val 0.527062459721 lp -1.88734139026\n",
      "param tt_residual val -0.60164963838 lp -1.28315409135\n",
      "param peak_decay val -2.88941527804 lp -1.69338134181\n",
      "param atransfer val 1.81585898061 lp -1.99719919274\n",
      "NV01 -8.67716779922\n",
      "param mult_wiggle_std val 0.945065521157 lp 1.5152773773\n",
      "param coda_decay val 1.30633771278 lp -1.868756637\n",
      "param peak_offset val -2.38346363145 lp -1.82774958776\n",
      "param tt_residual val -0.427009388571 lp -1.65811073644\n",
      "param peak_decay val -0.238338754253 lp -1.32800846773\n",
      "param atransfer val 0.587941543545 lp -1.79718927912\n",
      "NV01 -6.96453733075\n",
      "using assoc [('Lg', None), ('P', None), ('PcP', None), ('S', None), ('ScP', None)] with lp 0.0\n",
      "param mult_wiggle_std val 0.270434739971 lp -1.04197053103\n",
      "param coda_decay val -0.785501677077 lp -3.09025663724\n",
      "param peak_offset val -0.86523602041 lp -1.83699205802\n",
      "param tt_residual val 0.561636603728 lp -2.41957409613\n",
      "param peak_decay val -3.21963939028 lp -1.67327531895\n",
      "param atransfer val 5.00230518604 lp -2.13856767448\n",
      "PFO -12.2006363158\n",
      "param mult_wiggle_std val 0.999071745575 lp 1.6895402578\n",
      "param coda_decay val -3.34285894502 lp -1.69860018798\n",
      "param peak_offset val -0.368207842118 lp -1.68197167368\n",
      "param tt_residual val -6.97546722327 lp -4.16564876617\n",
      "param peak_decay val 0.924776226386 lp -2.01376610312\n",
      "param atransfer val 3.89331061251 lp -1.65382369567\n",
      "PFO -9.52427016882\n",
      "param mult_wiggle_std val 0.360333637001 lp 0.455710679493\n",
      "param coda_decay val 2.15667946517 lp -2.16104933712\n",
      "param peak_offset val -0.82408055192 lp -1.31040507352\n",
      "param tt_residual val -1.82859510564 lp -2.40961560019\n",
      "param peak_decay val 0.0114449328226 lp -1.15915493448\n",
      "param atransfer val -3.59601796214 lp -2.73872822979\n",
      "PFO -9.32324249561\n",
      "param mult_wiggle_std val 0.909281853384 lp 1.61612395277\n",
      "param coda_decay val -1.15663826895 lp -1.59902481632\n",
      "param peak_offset val 0.0787233277682 lp -1.78633738608\n",
      "param tt_residual val -1.71913371129 lp -2.15023218388\n",
      "param peak_decay val 0.802956542709 lp -1.58845884266\n",
      "param atransfer val 5.04986725961 lp -4.38287408686\n",
      "PFO -9.89080336302\n",
      "param mult_wiggle_std val 0.75312596724 lp 0.0466526485635\n",
      "param coda_decay val -1.69652451488 lp -1.6287909791\n",
      "param peak_offset val 0.236528910312 lp -1.46465593506\n",
      "param tt_residual val -0.186837411089 lp -1.20344064897\n",
      "param peak_decay val 1.21425677899 lp -1.83234465036\n",
      "param atransfer val -1.15184249258 lp -2.19097543657\n",
      "PFO -8.2735550015\n",
      "odds for Lg 5665 are 415.380335611\n",
      "odds for P 5667 are 820.799917921\n",
      "odds for Pg 5666 are 10262.2086589\n",
      "using assoc [('Lg', 5665), ('P', 5667), ('Pg', 5666), ('S', None)] with lp -0.00371956130632\n",
      "param mult_wiggle_std val 0.913218231366 lp 1.45869898205\n",
      "param coda_decay val 1.65474836242 lp -1.81097686266\n",
      "param peak_offset val 0.191762913312 lp -1.75651883705\n",
      "param tt_residual val -1.29462278787 lp -2.05228418582\n",
      "param peak_decay val 1.4135496234 lp -2.16013888269\n",
      "param atransfer val 0.391775065737 lp -1.56754600751\n",
      "ANMO -7.88876579368\n",
      "odds for P 5171 are 0.0525470685532\n",
      "using assoc [('P', None), ('PcP', None), ('S', None), ('ScP', None)] with lp -0.0512130062901\n",
      "param mult_wiggle_std val 0.381591634303 lp -1.93605656953\n",
      "param coda_decay val -2.38932142082 lp -1.50288807882\n",
      "param peak_offset val -0.519421267843 lp -1.58713767906\n",
      "param tt_residual val 1.57399259803 lp -2.80110213274\n",
      "param peak_decay val -2.08876583372 lp -1.6992400945\n",
      "param atransfer val 2.87900660103 lp -0.766923352967\n",
      "ULM -10.2933479076\n",
      "param mult_wiggle_std val 0.558056998791 lp 0.601725409078\n",
      "param coda_decay val 2.46381973005 lp -2.03586605795\n",
      "param peak_offset val -2.91879469324 lp -2.31587084692\n",
      "param tt_residual val -1.25021987062 lp -2.11617911705\n",
      "param peak_decay val -0.0323645253183 lp -0.944514592405\n",
      "param atransfer val 1.70929197336 lp -1.97223264672\n",
      "ULM -8.78293785198\n",
      "param mult_wiggle_std val 0.830867807839 lp 1.13730051424\n",
      "param coda_decay val 1.61086199484 lp -2.26499630972\n",
      "param peak_offset val -1.17726618514 lp -1.23255603423\n",
      "param tt_residual val 4.00115437904 lp -3.83488981376\n",
      "param peak_decay val -3.30494030708 lp -2.57072181821\n",
      "param atransfer val -2.58509337401 lp -2.83502898877\n",
      "ULM -11.6008924505\n",
      "param mult_wiggle_std val 0.179976143768 lp -0.428890777299\n",
      "param coda_decay val -5.14901536999 lp -5.38077412754\n",
      "param peak_offset val 0.050890541756 lp -1.48086602404\n",
      "param tt_residual val -0.646373853947 lp -1.60323726536\n",
      "param peak_decay val 0.685654609864 lp -1.95937011528\n",
      "param atransfer val -1.11588162739 lp -2.14698886618\n",
      "ULM -13.0001271757\n",
      "using assoc [('Lg', None), ('P', None), ('S', None)] with lp 0.0\n",
      "param mult_wiggle_std val 0.869130154465 lp 0.640893198896\n",
      "param coda_decay val -3.69014415031 lp -0.886255662674\n",
      "param peak_offset val 1.05189300531 lp -2.12833764028\n",
      "param tt_residual val -19.5988731136 lp -5.92440499377\n",
      "param peak_decay val -0.163319368137 lp -1.8443360681\n",
      "param atransfer val 2.82638473282 lp -0.774510728466\n",
      "NEW -10.9169518944\n",
      "param mult_wiggle_std val 0.561539942332 lp 0.0446567056038\n",
      "param coda_decay val -4.3702487279 lp -1.6521249915\n",
      "param peak_offset val 1.14479540183 lp -1.94210779115\n",
      "param tt_residual val -8.63933079534 lp -5.61628002575\n",
      "param peak_decay val -3.59136523037 lp -1.92836479576\n",
      "param atransfer val 3.50546376576 lp 0.467412624969\n",
      "NEW -10.6268082736\n",
      "param mult_wiggle_std val 0.596368802096 lp -0.406346081706\n",
      "param coda_decay val 1.82343466187 lp -1.88469323802\n",
      "param peak_offset val -3.30367535805 lp -2.75012849838\n",
      "param tt_residual val -2.23154482438 lp -2.57971198111\n",
      "param peak_decay val 1.43867765685 lp -1.78639160114\n",
      "param atransfer val 4.72698380561 lp -3.8406227188\n",
      "NEW -13.2478941192\n",
      "odds for P 5668 are 2424.80111489\n",
      "using assoc [('P', 5668), ('PcP', None), ('ScP', None)] with lp -0.000412319941647\n",
      "param mult_wiggle_std val 0.38780634706 lp 0.270994607669\n",
      "param coda_decay val 1.2696961924 lp -1.69270664768\n",
      "param peak_offset val 1.43324636078 lp -2.449213874\n",
      "param tt_residual val 0.142688568839 lp -1.63927115693\n",
      "param peak_decay val 0.984653924563 lp -1.67904269662\n",
      "param atransfer val -0.269050272296 lp -1.82325657433\n",
      "IL31 -9.0124963419\n",
      "param mult_wiggle_std val 0.41541713966 lp 0.568347274751\n",
      "param coda_decay val -0.919799608659 lp -1.49905608696\n",
      "param peak_offset val -0.458932706271 lp -1.47787748395\n",
      "param tt_residual val 1.48430371175 lp -2.12619229152\n",
      "param peak_decay val -0.123833650699 lp -1.09831484776\n",
      "param atransfer val 0.765947746912 lp -2.51359488599\n",
      "IL31 -8.14668832143\n",
      "death 5 lqf -0.069635 lqb -202.381371\n",
      "odds for Lg 5662 are 21464.3845135\n",
      "odds for Lg 5663 are 2.49642904367\n",
      "odds for Pg 5662 are 1.06742471597\n",
      "odds for Pg 5663 are 1484.18338128\n",
      "using assoc [('Lg', 5662), ('Pg', 5663)] with lp -0.000720327401037\n",
      "odds for P 5664 are 10730.655491\n",
      "using assoc [('P', 5664), ('PcP', None), ('S', None), ('ScP', None)] with lp -9.3186609919e-05\n",
      "param mult_wiggle_std val 0.878843691799 lp 0.509632623034\n",
      "param coda_decay val -1.00454691145 lp -1.74363858609\n",
      "param peak_offset val -0.667033983308 lp -1.40904643196\n",
      "param tt_residual val 0.752226449897 lp -1.65121990043\n",
      "param peak_decay val -0.997665192917 lp -1.29984960431\n",
      "param atransfer val -0.407276562947 lp -3.07638222139\n",
      "param mult_wiggle_std val 0.629384924346 lp -0.739149949565\n",
      "param coda_decay val -0.0986241899956 lp -1.33299316978\n",
      "param peak_offset val -1.70523393657 lp -1.31099466291\n",
      "param tt_residual val 1.35154422146 lp -2.30637357435\n",
      "param peak_decay val -0.788826455174 lp -1.36808378255\n",
      "param atransfer val -3.65527519674 lp -1.72117437098\n",
      "param mult_wiggle_std val 0.387008632855 lp 0.483387225552\n",
      "param coda_decay val 0.291375790195 lp -1.29810048698\n",
      "param peak_offset val -0.821525620398 lp -1.27048759168\n",
      "param tt_residual val -5.67226403107 lp -4.21858246772\n",
      "param peak_decay val -0.136908425403 lp -1.37159107397\n",
      "param atransfer val -5.78894369391 lp -2.61576046873\n",
      "PcP peak_offset -0.314061166448 -1.335503811 -1.34115934821 -0.935457780261 -1.19967504444\n",
      "PcP tt_residual 1.07907079363 0.876078458851 1.36772093466 1.07233825793 1.02958097698\n",
      "PcP amp_transfer 0.49143211138 -1.74711132273 -3.33619071047 -0.982938656336 -0.121522443202\n",
      "PcP peak_decay 1.77311652635 -2.54123954433 -2.08834711371 -0.268487410711 -2.78769506191\n",
      "PcP coda_decay 1.29326350134 -1.2432827762 -2.40253131323 -4.16531720059 1.62404918414\n",
      "PcP mult_wiggle_std 0.184409232327 -0.128001094449 0.742132723873 0.408535974647 0.966050300692\n",
      "S peak_offset -0.468608608165 0.0654914596342 -0.892143391046 0.046526344728 -0.763051047583\n",
      "S tt_residual -5.36220682108 -1.61193672257 -0.8205476723 -1.37536616948 5.56920199043\n",
      "S amp_transfer -2.21392276132 -1.07847292063 -2.98073920791 -1.20267704498 -2.92399159442\n",
      "S peak_decay -1.07697937823 -1.38110324994 0.0680078756436 -0.598795948075 -0.911351342368\n",
      "S coda_decay 0.084013518057 -1.34378377583 -1.99769337052 -0.44561739913 -1.88828873245\n",
      "S mult_wiggle_std 0.782074577096 0.994318340353 0.885823386287 0.716909873548 0.776135869432\n",
      "ScP peak_offset 0.35585541321 -1.53049778645 -1.13711853857 -0.120823998704 1.45551141203\n",
      "ScP tt_residual 2.06291763064 -0.556198393194 1.22154042028 0.300245618347 1.78670430082\n",
      "ScP amp_transfer -3.01748072755 -1.44111692616 -3.70670568289 -4.50471924376 -4.29761458165\n",
      "ScP peak_decay -0.810578672309 -1.39081555763 -1.55406162559 -1.75147735755 -1.45645221804\n",
      "ScP coda_decay -2.64439911043 -3.35381241054 -1.23705393414 0.873923129286 -0.490425394543\n",
      "ScP mult_wiggle_std 0.676010238819 0.571152461384 0.755790122959 0.841828628708 0.688112681228\n",
      "using assoc [('Lg', None), ('P', None), ('Pg', None), ('S', None)] with lp 0.0\n",
      "param mult_wiggle_std val 0.53948618445 lp 0.0505869703354\n",
      "param coda_decay val -2.0781643061 lp -1.44908695442\n",
      "param peak_offset val -0.0648255498862 lp -1.69748833754\n",
      "param tt_residual val 4.35649869994 lp -3.43571958124\n",
      "param peak_decay val -1.2329059204 lp -1.42179361537\n",
      "param atransfer val 2.08677880648 lp -2.10488049864\n",
      "param mult_wiggle_std val 0.972759782905 lp 0.720087136945\n",
      "param coda_decay val -3.66670525516 lp -1.4275023064\n",
      "param peak_offset val -0.322440882015 lp -1.47426539127\n",
      "param tt_residual val 4.34681977489 lp -4.14675601172\n",
      "param peak_decay val -2.8284988148 lp -1.56037433878\n",
      "param atransfer val 3.07075678835 lp -1.09521547426\n",
      "param mult_wiggle_std val 0.764440837318 lp 0.643837768217\n",
      "param coda_decay val -3.78595315587 lp -1.73856844089\n",
      "param peak_offset val 2.46070227677 lp -1.57469098391\n",
      "param tt_residual val 2.04387367235 lp -2.29464802802\n",
      "param peak_decay val -1.86033197623 lp -1.58502717266\n",
      "param atransfer val 2.2899279234 lp -1.18408771803\n",
      "param mult_wiggle_std val 0.815736403967 lp 1.21154189738\n",
      "param coda_decay val -0.194937714547 lp -1.35279503446\n",
      "param peak_offset val -1.12681420781 lp -1.34706516332\n",
      "param tt_residual val -3.83738250956 lp -3.31050439551\n",
      "param peak_decay val -0.241431724278 lp -1.33287205962\n",
      "param atransfer val 2.15686214006 lp -1.86443224799\n",
      "Lg peak_offset -1.34154094039 -1.57910839174 -0.868156769011 1.40968241482 0.91877668589\n",
      "Lg tt_residual -0.715518212875 -1.74257622097 -2.15584766129 2.31328917434 -2.06852365242\n",
      "Lg amp_transfer -5.82181461842 -3.62025749808 -0.808694978283 2.46608602233 0.447271857689\n",
      "Lg peak_decay -3.25876012397 -2.1772004805 -2.75729072944 -3.01737318659 -2.66431402227\n",
      "Lg coda_decay -3.0872692337 -1.66124608432 -3.8193023912 -2.06042836613 -2.23702823887\n",
      "Lg mult_wiggle_std 0.981205028728 0.497683296405 0.801064180995 0.592537806811 0.975676794317\n",
      "P peak_offset 1.84044062922 -2.28396239937 1.06751968324 -0.797134870263 1.38723597471\n",
      "P tt_residual 1.96652794545 -3.08632298824 2.3809387124 -1.11959440028 2.50192982888\n",
      "P amp_transfer 1.09818445262 -2.26314192682 2.52934162429 3.05571369807 3.09962060471\n",
      "P peak_decay 0.409312043511 -2.90199172741 -1.20852791536 -3.45999643418 -2.83454117843\n",
      "P coda_decay -5.42452438391 -1.90289329724 -3.60174941674 -2.76187415839 -3.42659704996\n",
      "P mult_wiggle_std 0.954742444952 0.718812558908 0.878299361217 0.324318290831 0.903001239679\n",
      "Pg peak_offset 1.82163487664 -1.08862555963 1.31951448919 1.7137439099 2.61613727931\n",
      "Pg tt_residual -3.34863781162 -2.720086969 1.73748280917 0.520735742509 -1.10276597459\n",
      "Pg amp_transfer 4.41041843586 -0.821837846199 2.38311313004 -0.60918284363 3.7333103639\n",
      "Pg peak_decay -4.8559437913 -2.13519786042 -2.81045298219 -4.57082932736 -2.39896679242\n",
      "Pg coda_decay -1.18628953734 -0.7856431975 -0.986355334084 -0.326048088562 -2.39047817218\n",
      "Pg mult_wiggle_std 0.334762355989 -0.141441717605 0.731013031025 0.335902293262 0.396631314331\n",
      "S peak_offset -1.35783320129 -0.902479414318 -0.601221661149 -0.911743738579 -1.24665803253\n",
      "S tt_residual 0.28352331854 -1.51686186924 1.26114442054 0.111022411825 1.9069118026\n",
      "S amp_transfer -2.49190074696 -2.3831142247 -1.98842943567 -1.89959167347 1.13708145508\n",
      "S peak_decay 1.76171121424 -2.10044275981 -2.96600620515 3.3631354551 -2.99245160229\n",
      "S coda_decay -3.59518849089 -3.42774062352 -1.25657409513 0.24564617738 0.494998036163\n",
      "S mult_wiggle_std 0.794147371587 0.92681754007 0.872688236645 0.715070811591 0.718614232926\n",
      "using assoc [('Lg', None), ('P', None), ('S', None)] with lp 0.0\n",
      "param mult_wiggle_std val 0.618206043924 lp 0.100322813365\n",
      "param coda_decay val -3.57279704627 lp -1.14216812602\n",
      "param peak_offset val 0.750902304325 lp -1.49840725075\n",
      "param tt_residual val -2.54206411956 lp -2.5061104144\n",
      "param peak_decay val -1.47927963636 lp -1.57462174106\n",
      "param atransfer val 5.43914427737 lp -2.4093106559\n",
      "param mult_wiggle_std val 0.970339644872 lp 1.02423221955\n",
      "param coda_decay val -3.43017979291 lp -1.46132501064\n",
      "param peak_offset val -0.285008736359 lp -1.66158173056\n",
      "param tt_residual val -2.64413346878 lp -2.01637578014\n",
      "param peak_decay val -1.31693741567 lp -1.63770668252\n",
      "param atransfer val 1.28883899186 lp -1.90334088875\n",
      "param mult_wiggle_std val 0.858710868731 lp 1.44793748749\n",
      "param coda_decay val -0.0457574651142 lp -1.31218621075\n",
      "param peak_offset val -0.892026888902 lp -1.350469166\n",
      "param tt_residual val 2.6459558239 lp -2.81362902182\n",
      "param peak_decay val -0.415464093877 lp -1.0397369485\n",
      "param atransfer val 1.39943039289 lp -1.63004119091\n",
      "Lg peak_offset -1.88312061615 -2.55029689847 0.88945845781 -1.40673814432 -0.118682824485\n",
      "Lg tt_residual -6.30880162246 -2.87872179257 1.47079805682 -0.909375317519 -0.76612830194\n",
      "Lg amp_transfer 0.347223374506 -2.16208204886 4.75273568768 2.41786822197 3.04844328775\n",
      "Lg peak_decay -0.364058106169 -1.83781936321 -5.0094860125 0.25912541623 0.326767979583\n",
      "Lg coda_decay -5.86762401724 -4.28819103266 -2.58670159419 -3.28557996595 -2.90448984789\n",
      "Lg mult_wiggle_std 0.420688339196 -0.469122595544 0.617634163903 0.873040361798 0.980995098162\n",
      "P peak_offset -0.195269701072 -1.36161146767 -0.475363358157 -1.28440101411 0.0827646092671\n",
      "P tt_residual -0.481432561514 -1.65611543374 -1.35573012097 0.175757052244 -4.14647954571\n",
      "P amp_transfer 3.16435433167 -1.42027808717 1.93134989927 4.89779683815 0.949912636336\n",
      "P peak_decay 0.0975588280543 -1.96205569671 -1.60581331678 -0.124157014828 -0.875716896587\n",
      "P coda_decay -1.86048536377 -1.81547986434 -3.26342048032 -1.23325913868 -4.02035444376\n",
      "P mult_wiggle_std 0.758410761204 0.421813252092 0.944457709603 0.868358845475 0.854139849295\n",
      "S peak_offset -0.212540077091 -0.97491017519 -0.713369162743 -1.43325711905 -0.811444294268\n",
      "S tt_residual 0.0832837721675 -0.454758270756 -0.115873853189 -2.82650129996 0.25035809842\n",
      "S amp_transfer 0.387978295983 -1.63265528544 -1.33035537341 0.815504135397 -0.344462547664\n",
      "S peak_decay -1.49995003412 -1.4267747942 -1.08096625091 -2.14740582236 -1.35902903186\n",
      "S coda_decay -2.05467945241 -1.89440612863 -0.352340997119 -0.123930374163 -1.14357461452\n",
      "S mult_wiggle_std 0.850954842803 1.40629633541 0.683125505761 0.829689799745 0.820806875739\n",
      "odds for Lg 5665 are 651.066809778\n",
      "odds for P 5667 are 1351.06237474\n",
      "odds for Pg 5666 are 26987.8674068\n",
      "using assoc [('Lg', 5665), ('P', 5667), ('Pg', 5666), ('S', None)] with lp -0.00231169982802\n",
      "param mult_wiggle_std val 0.59482866392 lp -0.905526421549\n",
      "param coda_decay val -0.231515061346 lp -1.40275270508\n",
      "param peak_offset val -1.05023100419 lp -1.46171716468\n",
      "param tt_residual val -0.859437985716 lp -1.86511613077\n",
      "param peak_decay val -0.307383192534 lp -1.39483803771\n",
      "param atransfer val 1.65938354521 lp -0.292570401693\n",
      "S peak_offset 0.459125858454 -1.52566688895 -0.257117870327 -1.10863091887 -0.634402042373\n",
      "S tt_residual -4.43071897675 -3.24551787666 0.38598068226 -0.449936533069 -1.2115874801\n",
      "S amp_transfer 0.71676830263 -1.78070333204 -2.32260804751 -3.37489094424 0.258131351624\n",
      "S peak_decay -1.94650262494 -1.71542419863 1.45603781983 0.0292158549138 2.52929679779\n",
      "S coda_decay -0.342518273069 -0.929889209855 0.991954454011 0.421499068254 0.150911636153\n",
      "S mult_wiggle_std 0.856736323879 1.3104578675 0.976952098662 0.934103535507 0.701925389038\n",
      "odds for P 5171 are 3686.88990083\n",
      "using assoc [('P', 5171), ('PcP', None), ('S', None), ('ScP', None)] with lp -0.000271194539504\n",
      "param mult_wiggle_std val 0.464955743623 lp 0.617422662442\n",
      "param coda_decay val 0.178250982607 lp -1.4239442049\n",
      "param peak_offset val -0.929859552799 lp -1.12018434077\n",
      "param tt_residual val -0.467956685721 lp -1.76771184945\n",
      "param peak_decay val -0.183227136375 lp -0.928911699489\n",
      "param atransfer val 1.42096463196 lp -1.32349604991\n",
      "param mult_wiggle_std val 0.855064127547 lp 1.28406303485\n",
      "param coda_decay val -0.155298566473 lp -1.31063753141\n",
      "param peak_offset val -1.25053859067 lp -1.23279703561\n",
      "param tt_residual val 2.46007969599 lp -2.89506057814\n",
      "param peak_decay val -1.51905985969 lp -1.42996283925\n",
      "param atransfer val 0.355932350598 lp -1.33812627206\n",
      "param mult_wiggle_std val 0.172529449766 lp -0.495375085907\n",
      "param coda_decay val -0.0602961209725 lp -1.47461808626\n",
      "param peak_offset val -0.837690644111 lp -1.38415962856\n",
      "param tt_residual val 0.856296496104 lp -1.69793673384\n",
      "param peak_decay val -0.677932569676 lp -0.826476908888\n",
      "param atransfer val 0.835504064918 lp -1.73567722421\n",
      "PcP peak_offset 0.43116196615 -0.846658045431 -1.85274790254 -0.654170080506 -2.24623696871\n",
      "PcP tt_residual -3.3716596705 -2.1228368999 2.22327803424 -3.14019289235 1.6197727736\n",
      "PcP amp_transfer 3.65104820412 -4.94305690883 0.555255290725 0.875956927354 -0.714791663324\n",
      "PcP peak_decay -0.567414542268 -2.3780142692 -0.203668177022 2.33100391409 2.35792822388\n",
      "PcP coda_decay 0.756180978203 0.427685705822 0.794670489985 0.801981219781 0.798726015787\n",
      "PcP mult_wiggle_std 0.710068567503 1.11417990406 0.772545382953 0.595781724528 0.535731697954\n",
      "S peak_offset -2.14680487215 -0.818517518918 -0.772454442787 0.0875036019147 -0.0566067387336\n",
      "S tt_residual 1.88296375367 -1.96546328975 1.72468848228 0.650827707676 0.491930666075\n",
      "S amp_transfer 0.209386548084 -1.8013349911 0.869286512544 0.905630678339 -1.29701076548\n",
      "S peak_decay -0.0990204231926 -1.6203101672 -2.56323938157 -0.997539541108 -1.25327268935\n",
      "S coda_decay -1.68464369356 -1.14365402145 -0.560328700631 -2.81933932585 -0.211413980625\n",
      "S mult_wiggle_std 0.921420642255 1.58854632117 0.957378875317 0.970953723262 0.86049685088\n",
      "ScP peak_offset -1.673914722 -1.18954135338 -1.03550891841 -0.416677664432 0.566464514867\n",
      "ScP tt_residual -0.0454263083577 -1.81168215913 -0.113768116461 -5.22323404391 3.90892078129\n",
      "ScP amp_transfer -3.79854563984 -2.65907004012 -1.05251217973 0.959770997959 -0.0368536838576\n",
      "ScP peak_decay -1.65359352414 -1.24794592318 -1.31132137736 -0.211807061023 -2.11101534613\n",
      "ScP coda_decay -0.597637700733 -1.22931960524 -1.09206192009 -1.48614097185 -2.74229252782\n",
      "ScP mult_wiggle_std 0.641800033852 0.469215543536 0.758109224692 0.593355351986 0.327252215358\n",
      "using assoc [('Lg', None), ('P', None), ('S', None)] with lp 0.0\n",
      "param mult_wiggle_std val 0.9523192092 lp 0.894441907284\n",
      "param coda_decay val -3.94248682767 lp -0.905118816757\n",
      "param peak_offset val 0.303194413954 lp -1.75380664341\n",
      "param tt_residual val 0.551398388976 lp -2.53219733015\n",
      "param peak_decay val -1.54196764922 lp -1.70987520493\n",
      "param atransfer val -0.293279133724 lp -1.23477810738\n",
      "param mult_wiggle_std val 0.888262249025 lp 0.736460291329\n",
      "param coda_decay val -4.17576098566 lp -1.37934056735\n",
      "param peak_offset val -0.182301724369 lp -1.52051914549\n",
      "param tt_residual val 0.897714369765 lp -2.50595233098\n",
      "param peak_decay val -2.50697417246 lp -1.58262918046\n",
      "param atransfer val 2.35905932036 lp -0.132792344606\n",
      "param mult_wiggle_std val 0.913428355827 lp 1.21997967978\n",
      "param coda_decay val 0.131318296241 lp -1.30022485581\n",
      "param peak_offset val -1.61202949429 lp -1.28917308808\n",
      "param tt_residual val -2.46403512695 lp -2.6962569648\n",
      "param peak_decay val -0.271498505869 lp -1.32821869098\n",
      "param atransfer val -1.58623613028 lp -1.56324102487\n",
      "Lg peak_offset -2.36293611848 -2.05197733774 0.739749356242 1.72580267132 -1.70496543901\n",
      "Lg tt_residual -0.0184037582345 -2.62900737302 3.50409666317 10.8442250645 4.18140990134\n",
      "Lg amp_transfer -0.0811003671645 -0.881280825535 -0.542656462165 -2.94381521893 -1.7360592236\n",
      "Lg peak_decay -5.07555975733 -2.75988300215 -3.34374240398 -4.95593220031 -1.26835268496\n",
      "Lg coda_decay -3.29854229825 -1.27615741787 -4.12862649979 -5.2128437676 -4.26020594939\n",
      "Lg mult_wiggle_std 0.690249396578 0.310483538061 0.770330095482 0.544153447429 0.231096381751\n",
      "P peak_offset -1.46733283097 -1.02158414203 -2.2361465854 -0.0628427315057 -0.3113264473\n",
      "P tt_residual -0.561555202295 -0.691180104826 -0.135408866649 -1.77306851064 0.0865062798561\n",
      "P amp_transfer 2.57313343533 0.708508352553 2.57117550011 2.26815069328 2.67648082532\n",
      "P peak_decay -1.3250730876 0.512294880908 -1.11873345704 -1.49216651841 -0.853459656538\n",
      "P coda_decay -3.93849342365 -0.0106082023166 -3.42841350225 -3.84666470256 -3.96129177977\n",
      "P mult_wiggle_std 0.824163210627 1.0504647907 0.903662479791 0.620107752567 0.67738351711\n",
      "S peak_offset -1.55954550554 -0.975095358652 -1.35335174355 -1.66411602134 0.771657294832\n",
      "S tt_residual -4.07513811193 -3.75424285807 6.97639372085 0.258347678359 -1.13132483502\n",
      "S amp_transfer 1.10690104389 -1.6276301429 -0.241961283661 -1.68183972411 -1.64076856372\n",
      "S peak_decay 0.890821150329 -2.20715687194 0.920371105571 -1.52078749849 0.0782162510387\n",
      "S coda_decay 0.388643725166 -1.25520769752 0.476163922441 -0.906057935655 0.633050960439\n",
      "S mult_wiggle_std 0.893204776543 1.15771022724 0.904756819313 0.985445209582 0.610582535555\n",
      "odds for P 5668 are 14152.0760587\n",
      "using assoc [('P', 5668), ('PcP', None), ('ScP', None)] with lp -7.06585144831e-05\n",
      "param mult_wiggle_std val 0.816858416091 lp 0.163643293342\n",
      "param coda_decay val -0.431988767704 lp -1.51958668689\n",
      "param peak_offset val -0.830433193694 lp -1.35118908594\n",
      "param tt_residual val 1.20529313462 lp -2.0796025739\n",
      "param peak_decay val -0.589031315485 lp -1.20432012713\n",
      "param atransfer val -3.00122759837 lp -2.00701622895\n",
      "param mult_wiggle_std val 0.771882358256 lp -0.0663004382981\n",
      "param coda_decay val -0.155608457127 lp -1.45670640807\n",
      "param peak_offset val -0.635310806368 lp -1.4723170909\n",
      "param tt_residual val -1.18727013201 lp -1.98555848544\n",
      "param peak_decay val -0.518058778257 lp -0.990731988762\n",
      "param atransfer val -1.85338427848 lp -1.66247539713\n",
      "PcP peak_offset -0.349487713297 -1.17957620116 0.763586560822 -1.88430582712 -0.329255204675\n",
      "PcP tt_residual 2.25966159742 -2.17888610927 5.49815254824 -3.33333449576 0.253983178471\n",
      "PcP amp_transfer -1.63638753766 -1.67399216522 1.1310567943 -0.785002366048 -1.53054494661\n",
      "PcP peak_decay -1.93567822582 -1.75601884047 -0.817607297377 -0.00803505202988 -0.943874373232\n",
      "PcP coda_decay -0.943340331499 -1.32467710739 0.672705741877 -1.84488389046 -0.612852572718\n",
      "PcP mult_wiggle_std 0.396110925985 0.303245361134 0.480249118515 0.236899372362 0.85540411818\n",
      "ScP peak_offset -0.171312541464 -1.22026146038 0.223437236331 -0.680266004094 1.50893053181\n",
      "ScP tt_residual 3.47720775342 -2.29478513879 1.60002549566 1.23638041252 0.826472386291\n",
      "ScP amp_transfer -0.0335800571134 -2.75298272232 -1.39966605696 -1.3298047758 -4.91658135161\n",
      "ScP peak_decay -0.456598531936 -1.18512552125 0.126037966795 -1.62681248742 -2.47067456803\n",
      "ScP coda_decay 0.256183523212 -0.554222488463 -0.0410958988452 -0.953691519149 0.436368582873\n",
      "ScP mult_wiggle_std 0.359552509689 0.489819092368 0.391218482485 0.457149990712 0.628472276108\n",
      "proposing to deassociate Lg at PD31 (lp -0.0)\n",
      "proposing to deassociate Pg at PD31 (lp -0.0)\n",
      "proposing to deassociate P at YKR8 (lp -0.0)\n",
      "proposing to delete PcP at YKR8 (lp -0.002470)\n",
      "proposing to delete S at YKR8 (lp -0.002470)\n",
      "proposing to delete ScP at YKR8 (lp -0.002470)\n",
      "proposing to delete Lg at NV01 (lp -0.002470)\n",
      "proposing to delete S at NV01 (lp -0.002470)\n",
      "proposing to delete Pg at NV01 (lp -0.002470)\n",
      "proposing to delete P at NV01 (lp -0.002470)\n",
      "proposing to delete Lg at PFO (lp -0.002470)\n",
      "proposing to delete S at PFO (lp -0.002470)\n",
      "proposing to delete P at PFO (lp -0.002470)\n",
      "proposing to deassociate Lg at ANMO (lp -0.0)\n",
      "proposing to delete S at ANMO (lp -0.002470)\n",
      "proposing to deassociate Pg at ANMO (lp -0.0)\n",
      "proposing to deassociate P at ANMO (lp -0.0)\n",
      "proposing to deassociate P at ULM (lp -0.0)\n",
      "proposing to delete PcP at ULM (lp -0.002470)\n",
      "proposing to delete S at ULM (lp -0.002470)\n",
      "proposing to delete ScP at ULM (lp -0.002470)\n",
      "proposing to delete Lg at NEW (lp -0.002470)\n",
      "proposing to delete S at NEW (lp -0.002470)\n",
      "proposing to delete P at NEW (lp -0.024477)\n",
      "proposing to deassociate P at IL31 (lp -0.0)\n",
      "proposing to delete PcP at IL31 (lp -0.002470)\n",
      "proposing to delete ScP at IL31 (lp -0.002470)\n",
      "birth 5 lqf -147.028866 lqb -0.088711\n"
     ]
    }
   ],
   "source": [
    "lp_new, lp_old, log_qforward, log_qbackward, revert_move = rebirth_events_helper(sg, eids=(5,), \n",
    "                                                                                 location_proposal=dummy_proposal,\n",
    "                                                                                 forward_birth_type=\"mh\",\n",
    "                                                                                 reverse_birth_type=\"clean\")"
   ]
  },
  {
   "cell_type": "code",
   "execution_count": 7,
   "metadata": {
    "collapsed": false
   },
   "outputs": [
    {
     "name": "stdout",
     "output_type": "stream",
     "text": [
      "-120324.463594 -120375.557449 -138.473531538 -inf\n",
      "-inf\n"
     ]
    }
   ],
   "source": [
    "print lp_new, lp_old, log_qforward, log_qbackward\n",
    "print lp_new + log_qbackward - lp_old - log_qforward\n",
    "revert_move()\n"
   ]
  },
  {
   "cell_type": "code",
   "execution_count": null,
   "metadata": {
    "collapsed": false
   },
   "outputs": [],
   "source": [
    "plt.plot(sg.mmm-mm)"
   ]
  },
  {
   "cell_type": "code",
   "execution_count": null,
   "metadata": {
    "collapsed": false
   },
   "outputs": [],
   "source": [
    "idx = np.argmax(sg.mmm-mm)\n",
    "print idx\n",
    "print idx/wn.srate \n",
    "print idx/wn.srate + wn.st\n"
   ]
  },
  {
   "cell_type": "code",
   "execution_count": null,
   "metadata": {
    "collapsed": false
   },
   "outputs": [],
   "source": []
  },
  {
   "cell_type": "code",
   "execution_count": null,
   "metadata": {
    "collapsed": false
   },
   "outputs": [],
   "source": []
  },
  {
   "cell_type": "code",
   "execution_count": null,
   "metadata": {
    "collapsed": false
   },
   "outputs": [],
   "source": []
  },
  {
   "cell_type": "code",
   "execution_count": null,
   "metadata": {
    "collapsed": false
   },
   "outputs": [],
   "source": []
  },
  {
   "cell_type": "code",
   "execution_count": null,
   "metadata": {
    "collapsed": false
   },
   "outputs": [],
   "source": []
  },
  {
   "cell_type": "code",
   "execution_count": 14,
   "metadata": {
    "collapsed": false
   },
   "outputs": [
    {
     "name": "stdout",
     "output_type": "stream",
     "text": [
      "['tt_residual', 'coda_decay', 'amp_transfer', 'peak_decay', 'peak_offset']\n"
     ]
    }
   ],
   "source": [
    "print debug_info[\"PD31\"][\"Lg\"].keys()"
   ]
  },
  {
   "cell_type": "code",
   "execution_count": null,
   "metadata": {
    "collapsed": false
   },
   "outputs": [],
   "source": []
  },
  {
   "cell_type": "code",
   "execution_count": 21,
   "metadata": {
    "collapsed": false
   },
   "outputs": [
    {
     "name": "stdout",
     "output_type": "stream",
     "text": [
      "Signal node w/ model wave wave pts 880 @ 2 Hz. time: Mon, 06 Apr 2009 18:03:00 (1239040980.0). \n",
      "sta: PD31, chan BHZ. filter_str: ;freq_0.8_4.5;env;hz_2, fraction_valid: 0.909090909091, npts: 880, srate: 2.0, valid_len: 400.0\n"
     ]
    }
   ],
   "source": [
    "#sg.station_waves.values()[0][0].log_p()\n",
    "print "
   ]
  },
  {
   "cell_type": "code",
   "execution_count": 20,
   "metadata": {
    "collapsed": false
   },
   "outputs": [
    {
     "name": "stdout",
     "output_type": "stream",
     "text": [
      "Signal node w/ model wave wave pts 880 @ 2 Hz. time: Mon, 06 Apr 2009 18:03:00 (1239040980.0). \n",
      "sta: PD31, chan BHZ. filter_str: ;freq_0.8_4.5;env;hz_2, fraction_valid: 0.909090909091, npts: 880, srate: 2.0, valid_len: 400.0\n"
     ]
    }
   ],
   "source": [
    "print wn"
   ]
  },
  {
   "cell_type": "code",
   "execution_count": 22,
   "metadata": {
    "collapsed": false
   },
   "outputs": [
    {
     "name": "stdout",
     "output_type": "stream",
     "text": [
      "139636794082832\n"
     ]
    }
   ],
   "source": [
    "print id(wn)"
   ]
  },
  {
   "cell_type": "code",
   "execution_count": 23,
   "metadata": {
    "collapsed": false
   },
   "outputs": [
    {
     "name": "stdout",
     "output_type": "stream",
     "text": [
      "139636769217232\n"
     ]
    }
   ],
   "source": [
    "print id(s)"
   ]
  },
  {
   "cell_type": "code",
   "execution_count": 22,
   "metadata": {
    "collapsed": false
   },
   "outputs": [
    {
     "data": {
      "text/plain": [
       "['Lg', 'P', 'S', 'assoc', 'Pg', 'ev']"
      ]
     },
     "execution_count": 22,
     "metadata": {},
     "output_type": "execute_result"
    }
   ],
   "source": [
    "debug_info.keys()"
   ]
  },
  {
   "cell_type": "code",
   "execution_count": null,
   "metadata": {
    "collapsed": false
   },
   "outputs": [],
   "source": []
  },
  {
   "cell_type": "code",
   "execution_count": null,
   "metadata": {
    "collapsed": true
   },
   "outputs": [],
   "source": []
  },
  {
   "cell_type": "code",
   "execution_count": null,
   "metadata": {
    "collapsed": false
   },
   "outputs": [],
   "source": []
  },
  {
   "cell_type": "code",
   "execution_count": null,
   "metadata": {
    "collapsed": false
   },
   "outputs": [],
   "source": []
  },
  {
   "cell_type": "code",
   "execution_count": 24,
   "metadata": {
    "collapsed": false
   },
   "outputs": [
    {
     "data": {
      "text/plain": [
       "array([-1465.29721991])"
      ]
     },
     "execution_count": 24,
     "metadata": {},
     "output_type": "execute_result"
    }
   ],
   "source": []
  },
  {
   "cell_type": "code",
   "execution_count": null,
   "metadata": {
    "collapsed": true
   },
   "outputs": [],
   "source": []
  },
  {
   "cell_type": "code",
   "execution_count": null,
   "metadata": {
    "collapsed": true
   },
   "outputs": [],
   "source": []
  }
 ],
 "metadata": {
  "kernelspec": {
   "display_name": "Python 2",
   "language": "python",
   "name": "python2"
  },
  "language_info": {
   "codemirror_mode": {
    "name": "ipython",
    "version": 2
   },
   "file_extension": ".py",
   "mimetype": "text/x-python",
   "name": "python",
   "nbconvert_exporter": "python",
   "pygments_lexer": "ipython2",
   "version": "2.7.6"
  }
 },
 "nbformat": 4,
 "nbformat_minor": 0
}
