{
 "metadata": {
  "name": "poly regression 2 (learning)"
 },
 "nbformat": 3,
 "nbformat_minor": 0,
 "worksheets": [
  {
   "cells": [
    {
     "cell_type": "code",
     "collapsed": false,
     "input": [
      "from sigvisa.models.spatial_regression.baseline_models import LinearBasisModel, poly_basisfns, learn_poly_model\n",
      "N = 10\n",
      "bfn = poly_basisfns(3)\n",
      "X = np.reshape(np.linspace(-5, 5, N), (-1, 1))\n",
      "H = np.array([[f(x) for f in bfn] for x in X])\n",
      "coeffs = np.array([50, 1, 3, -3])\n",
      "sigma_n = 1\n",
      "f = np.dot(H, coeffs)\n",
      "np.random.seed(0)\n",
      "y = f + np.random.randn(N) * sigma_n\n",
      "plot(X, f)\n",
      "plot(X, y)"
     ],
     "language": "python",
     "metadata": {},
     "outputs": [
      {
       "output_type": "pyout",
       "prompt_number": 7,
       "text": [
        "[<matplotlib.lines.Line2D at 0x5100590>]"
       ]
      },
      {
       "output_type": "display_data",
       "png": "[encoded data removed]"
      }
     ],
     "prompt_number": 7
    },
    {
     "cell_type": "code",
     "collapsed": false,
     "input": [
      "model = learn_poly_model(X=X, y=y, sta=None, order=3)\n",
      "\n",
      "print np.sqrt(model.noise_var)\n",
      "print model.mean\n",
      "print coeffs\n"
     ],
     "language": "python",
     "metadata": {},
     "outputs": [
      {
       "output_type": "stream",
       "stream": "stdout",
       "text": [
        "  status: 0\n",
        "    nfev: 12\n",
        " success: True\n",
        "     fun: 45.038934286276323\n",
        "       x: array([ 1.50802776])\n",
        " message: 'CONVERGENCE: REL_REDUCTION_OF_F_<=_FACTR*EPSMCH'\n",
        "     jac: array([ 2.08786128])\n",
        "1.50802775525\n",
        "[ 50.74887584   0.68195902   2.99893447  -2.99089005]\n",
        "[50  1  3 -3]\n"
       ]
      }
     ],
     "prompt_number": 8
    },
    {
     "cell_type": "code",
     "collapsed": false,
     "input": [
      "print bfn\n",
      "print bfn[0](100)"
     ],
     "language": "python",
     "metadata": {},
     "outputs": [
      {
       "output_type": "stream",
       "stream": "stdout",
       "text": [
        "[<function <lambda> at 0x3ba61b8>, <function <lambda> at 0x3ba6668>, <function <lambda> at 0x3ba66e0>, <function <lambda> at 0x3ba6758>]\n",
        "1\n"
       ]
      }
     ],
     "prompt_number": 7
    },
    {
     "cell_type": "code",
     "collapsed": false,
     "input": [
      "print np.dot(model.sqrt_covar.T, model.sqrt_covar)"
     ],
     "language": "python",
     "metadata": {},
     "outputs": [
      {
       "output_type": "stream",
       "stream": "stdout",
       "text": [
        "[[  5.20558340e-01   1.86260744e-17  -2.87813686e-02  -5.86009091e-19]\n",
        " [  1.86260744e-17   1.50095733e-01   1.43062237e-19  -7.06614422e-03]\n",
        " [ -2.87813686e-02   1.43062237e-19   2.82580710e-03  -5.15101541e-20]\n",
        " [ -5.86009091e-19  -7.06614422e-03  -5.15101541e-20   3.90775070e-04]]\n"
       ]
      }
     ],
     "prompt_number": 12
    },
    {
     "cell_type": "code",
     "collapsed": false,
     "input": [],
     "language": "python",
     "metadata": {},
     "outputs": []
    }
   ],
   "metadata": {}
  }
 ]
}