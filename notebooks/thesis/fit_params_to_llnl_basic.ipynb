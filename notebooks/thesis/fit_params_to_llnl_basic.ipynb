{
 "cells": [
  {
   "cell_type": "code",
   "execution_count": 1,
   "metadata": {
    "collapsed": true
   },
   "outputs": [],
   "source": [
    "%matplotlib inline\n",
    "\n",
    "from sigvisa import Sigvisa\n",
    "\n",
    "import numpy as np"
   ]
  },
  {
   "cell_type": "code",
   "execution_count": 7,
   "metadata": {
    "collapsed": false
   },
   "outputs": [],
   "source": [
    "s = Sigvisa()\n",
    "stas = \"ANMO,ELK,ILAR,KDAK,NEW,NVAR,PDAR,PFO,TXAR,ULM,YBH,YKA\".split(\",\")"
   ]
  },
  {
   "cell_type": "code",
   "execution_count": 18,
   "metadata": {
    "collapsed": true
   },
   "outputs": [],
   "source": [
    "isc_query = \"select evid from isc_origin where lon between -126 and -100 and lat between 33 and 49 and time between 1167609600 and 1199145600\"\n",
    "leb_query = \"select evid from leb_origin where time between 1167609600 and 1199145600\"\n",
    "\n",
    "cursor = s.dbconn.cursor()\n",
    "cursor.execute(isc_query)\n",
    "isc_evids = np.array(cursor.fetchall())\n",
    "\n",
    "cursor.execute(leb_query)\n",
    "leb_evids = np.array(cursor.fetchall())\n",
    "cursor.close()\n",
    "\n",
    "desired_leb = 500\n",
    "decimation = int(len(leb_evids) / desired_leb)\n",
    "leb_evids = leb_evids[::decimation]"
   ]
  },
  {
   "cell_type": "code",
   "execution_count": null,
   "metadata": {
    "collapsed": false
   },
   "outputs": [],
   "source": []
  },
  {
   "cell_type": "code",
   "execution_count": 22,
   "metadata": {
    "collapsed": false
   },
   "outputs": [],
   "source": [
    "with open(\"evid_list_western_isc_plus_leb\", \"w\") as f:\n",
    "    for sta in stas:\n",
    "        for (evid,) in isc_evids:\n",
    "            f.write(\"%s %d\\n\" % (sta, evid))\n",
    "        for (evid,) in leb_evids:\n",
    "            f.write(\"%s %d\\n\" % (sta, evid))\n"
   ]
  },
  {
   "cell_type": "markdown",
   "metadata": {},
   "source": [
    "To actually do the fitting:\n",
    "\n",
    "    python learn/batch_fit_from_evids.py -e notebooks/thesis/evid_list_western_isc_plus_leb -r llnl2007 -i 1 --processes=3 --template_model=param --wiggle_family=iid --dummy_fallback --phases=P,Pg,pP,PcP,S,ScP,Lg,Rg,PKP,PKPab,PKPbc,PKKPbc"
   ]
  },
  {
   "cell_type": "code",
   "execution_count": null,
   "metadata": {
    "collapsed": true
   },
   "outputs": [],
   "source": []
  }
 ],
 "metadata": {
  "kernelspec": {
   "display_name": "Python 2",
   "language": "python",
   "name": "python2"
  },
  "language_info": {
   "codemirror_mode": {
    "name": "ipython",
    "version": 2
   },
   "file_extension": ".py",
   "mimetype": "text/x-python",
   "name": "python",
   "nbconvert_exporter": "python",
   "pygments_lexer": "ipython2",
   "version": "2.7.6"
  }
 },
 "nbformat": 4,
 "nbformat_minor": 0
}
