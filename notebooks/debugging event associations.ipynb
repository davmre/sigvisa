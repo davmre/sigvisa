{
 "metadata": {
  "name": "",
  "signature": "sha256:39bc967d8d7ff66028c8c4234e3fe3a05f53dc4766f12782df10a2cea050f97d"
 },
 "nbformat": 3,
 "nbformat_minor": 0,
 "worksheets": [
  {
   "cells": [
    {
     "cell_type": "code",
     "collapsed": false,
     "input": [
      "import numpy as np\n",
      "import sys\n",
      "import os\n",
      "import traceback\n",
      "\n",
      "\n",
      "import pickle\n",
      "import copy\n",
      "\n",
      "from sigvisa import Sigvisa\n",
      "\n",
      "from sigvisa.graph.sigvisa_graph import SigvisaGraph\n",
      "\n",
      "\n",
      "from sigvisa.models.ttime import tt_predict\n",
      "\n",
      "from sigvisa.infer.run_mcmc import run_open_world_MH\n",
      "from sigvisa.infer.mcmc_logger import MCMCLogger\n",
      "\n",
      "from sigvisa.infer.template_mcmc import *\n",
      "from sigvisa.plotting.plot import plot_with_fit, plot_with_fit_shapes, plot_pred_atimes\n",
      "from sigvisa.signals.common import Waveform\n",
      "from sigvisa.utils.fileutils import clear_directory, mkdir_p\n",
      "\n",
      "from sigvisa.experiments.one_station_templates_test import sample_template\n",
      "\n",
      "import cPickle as pickle\n",
      "\n",
      "def do_plot(wn, ax=None):\n",
      "    if ax is None:\n",
      "      f = plt.figure(figsize=(15,5))\n",
      "      ax=f.add_subplot(111)\n",
      "    shape_colors = plot_with_fit_shapes(fname=None, wn=wn, axes=ax, plot_wave=True)\n",
      "    atimes = dict([(\"%d_%s\" % (eid, phase), wn.get_template_params_for_arrival(eid=eid, phase=phase)[0]['arrival_time']) for (eid, phase) in wn.arrivals()])\n",
      "    colors = dict([(\"%d_%s\" % (eid, phase), shape_colors[eid]) for (eid, phase) in wn.arrivals()])\n",
      "    plot_pred_atimes(dict(atimes), wn.get_wave(), axes=ax, color=colors, alpha=1.0, bottom_rel=-0.1, top_rel=0.0)\n",
      "    return ax\n",
      "\n"
     ],
     "language": "python",
     "metadata": {},
     "outputs": [],
     "prompt_number": 1
    },
    {
     "cell_type": "code",
     "collapsed": false,
     "input": [
      "with open(\"/home/dmoore/python/sigvisa/logs/mcmc/01346/step_004999/pickle.sg\", 'rb') as f:\n",
      "    sg = pickle.load(f)\n",
      "    \n",
      "with open(\"/home/dmoore/python/sigvisa/logs/mcmc/01346/events.pkl\", 'rb') as f:\n",
      "    true_evs = pickle.load(f)"
     ],
     "language": "python",
     "metadata": {},
     "outputs": [],
     "prompt_number": 2
    },
    {
     "cell_type": "code",
     "collapsed": false,
     "input": [
      "eid=2\n",
      "ev=sg.get_event(eid)\n",
      "print ev\n",
      "\n",
      "true_ev = true_evs[1]\n",
      "print true_ev"
     ],
     "language": "python",
     "metadata": {},
     "outputs": [
      {
       "output_type": "stream",
       "stream": "stdout",
       "text": [
        "evid None, loc 148.48 W 69.86 N, depth 117.2km, time 1238890609.1, mb 4.5, natural source\n",
        "evid None, loc 153.69 W 58.38 N, depth 343.7km, time 1238890578.5, mb 4.7, natural source\n"
       ]
      }
     ],
     "prompt_number": 15
    },
    {
     "cell_type": "code",
     "collapsed": false,
     "input": [
      "\n",
      "\n",
      "# for each station, compute predicted tt from ev to station\n",
      "# add to ev time, print predicted atime\n",
      "# also print atime of associated template\n",
      "\n",
      "def residuals(eid, ev):\n",
      "\n",
      "    atimes = []\n",
      "    pred_atimes = []\n",
      "    stas = []\n",
      "\n",
      "    for sta in sorted(sg.station_waves.keys()):\n",
      "        wn = sg.station_waves[sta][0]\n",
      "        try:\n",
      "            tvals, tg = wn.get_template_params_for_arrival(eid, \"P\")\n",
      "        except KeyError:\n",
      "            print \"no P arrival for %d at %s\" % (eid, sta)\n",
      "            continue\n",
      "        atime = tvals['arrival_time']\n",
      "\n",
      "        pred_ttime = tt_predict(ev, sta, phase=\"P\")\n",
      "        pred_atime = ev.time + pred_ttime\n",
      "\n",
      "        atimes.append(atime)\n",
      "        pred_atimes.append(pred_atime)\n",
      "        stas.append(sta)\n",
      "        if sta==\"VNDA\":\n",
      "            print sta, atime, pred_atime, pred_ttime\n",
      "\n",
      "    atimes = np.array(atimes)\n",
      "    pred_atimes = np.array(pred_atimes)\n",
      "    residuals = pred_atimes-atimes\n",
      "    \n",
      "    \n",
      "    return residuals, stas\n",
      "\n",
      "r1, stas = residuals(2, ev)\n",
      "r2, stas = residuals(2, true_ev)\n",
      "\n",
      "sqr1 = np.sum(r1**2)\n",
      "absr1 = np.sum(np.abs(r1))\n",
      "\n",
      "sqr2 = np.sum(r2**2)\n",
      "absr2 = np.sum(np.abs(r2))\n",
      "\n",
      "print sqr1, sqr2\n",
      "print absr1, absr2\n",
      "\n",
      "print np.array(r1, dtype=int)\n",
      "print np.array(r2, dtype=int)\n",
      "\n",
      "stas = np.array(stas, dtype=str)\n",
      "print stas[np.abs(r2) > 40]"
     ],
     "language": "python",
     "metadata": {},
     "outputs": [
      {
       "output_type": "stream",
       "stream": "stdout",
       "text": [
        "no P arrival for 2 at STKA\n",
        "VNDA 1238891778.94 1238891779.26 1170.13868668\n",
        "no P arrival for 2 at STKA\n",
        "VNDA 1238891778.94 1238891702.1 1123.5713201\n",
        "19584.065825 42148.6386044\n",
        "366.894877911 630.199145794\n",
        "[  2   0  -9  -1 -32   0   0   3  67  53  -7   2 -31   3   5   3  -2  45\n",
        "   0  87  -4]\n",
        "[  0 -83   0 -40   0 -76  -1 -70   2  -6   3   0   0 -62 -62 -68 -64  -1\n",
        " -76   2  -3]\n",
        "['AS12' 'CM16' 'FITZ' 'JHJ' 'NWAO' 'PEA0' 'QSPA' 'SNAA' 'VNDA']\n"
       ]
      }
     ],
     "prompt_number": 17
    },
    {
     "cell_type": "code",
     "collapsed": false,
     "input": [
      "do_plot(wn)"
     ],
     "language": "python",
     "metadata": {},
     "outputs": [
      {
       "output_type": "stream",
       "stream": "stdout",
       "text": [
        "reading station detections... \n"
       ]
      },
      {
       "metadata": {},
       "output_type": "pyout",
       "prompt_number": 7,
       "text": [
        "<matplotlib.axes.AxesSubplot at 0x5001710>"
       ]
      },
      {
       "metadata": {},
       "output_type": "display_data",
       "png": "[encoded data removed]",
       "text": [
        "<matplotlib.figure.Figure at 0x4dfca10>"
       ]
      }
     ],
     "prompt_number": 7
    },
    {
     "cell_type": "code",
     "collapsed": false,
     "input": [
      "arr1, arr2, k, pair_prob = sample_adjacent_pair_to_swap(sg, wn)\n",
      "print arr1\n",
      "print arr2"
     ],
     "language": "python",
     "metadata": {},
     "outputs": [
      {
       "output_type": "stream",
       "stream": "stdout",
       "text": [
        "({'coda_height': -2.7252204646278093, 'arrival_time': 1238890499.3766086, 'coda_decay': -2.5654837156354993, 'peak_decay': -1.9644071839716368, 'peak_offset': 0.5286821030110797}, 3, 'P')\n",
        "({'coda_height': -3.086888125806234, 'arrival_time': 1238890527.476801, 'coda_decay': -2.6195920293298953, 'peak_decay': -1.4326358301554776, 'peak_offset': 0.4917010074032149}, 2, 'P')\n"
       ]
      }
     ],
     "prompt_number": 21
    },
    {
     "cell_type": "code",
     "collapsed": false,
     "input": [],
     "language": "python",
     "metadata": {},
     "outputs": []
    }
   ],
   "metadata": {}
  }
 ]
}