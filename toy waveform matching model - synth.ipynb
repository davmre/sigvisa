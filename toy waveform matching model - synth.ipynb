{
 "metadata": {
  "name": ""
 },
 "nbformat": 3,
 "nbformat_minor": 0,
 "worksheets": [
  {
   "cells": [
    {
     "cell_type": "code",
     "collapsed": false,
     "input": [
      "from sigvisa import Sigvisa\n",
      "from sigvisa.models.ttime import tt_predict\n",
      "from sigvisa.utils.fileutils import mkdir_p\n",
      "from sigvisa.treegp.gp import GPCov, GP, prior_sample\n",
      "from sigvisa.plotting.event_heatmap import EventHeatmap\n",
      "from sigvisa.source.event import Event\n",
      "from sigvisa.utils.geog import dist_km\n",
      "from sigvisa.signals.io import fetch_waveform, MissingWaveform\n",
      "\n",
      "stas = ['MKAR', 'TORD', 'ASF', 'MMAI', 'KEST', 'VRAC', 'AKASG', 'EIL', 'BRTR', 'GERES']\n",
      "\n",
      "ev_bounds = dict()\n",
      "ev_bounds['top'] = 50\n",
      "ev_bounds['bottom'] = 30\n",
      "ev_bounds['left'] = 20\n",
      "ev_bounds['right'] =40\n",
      "\n",
      "def select_events(train=True):\n",
      "    lbl = 'train' if train else 'test'\n",
      "    try:\n",
      "        r = np.load('explore/toy_wavelets/events_%s.npy' % lbl)\n",
      "    except IOError:\n",
      "        s = Sigvisa()\n",
      "        cursor = s.dbconn.cursor()\n",
      "        if train:\n",
      "            stime = 1238889600\n",
      "            etime = 1245456000\n",
      "        else:\n",
      "            stime = 1237680000\n",
      "            etime = 1238284800\n",
      "        sql_query = \"select lon,lat,0,time,evid from leb_origin where lon between %f and %f and lat between %f and %f and time between %d and %d and mb > 2.5\" % (ev_bounds['left'], ev_bounds['right'], ev_bounds['bottom'], ev_bounds['top'], stime, etime)\n",
      "        cursor.execute(sql_query)\n",
      "        r = np.array(cursor.fetchall())\n",
      "        mkdir_p('explore/toy_wavelets/')\n",
      "        np.save('explore/toy_wavelets/events_%s.npy' % lbl, r)\n",
      "        \n",
      "    return r\n",
      "\n",
      "def sample_synthetic_data_sta(wavelet_feature_names, X_events):\n",
      "    atime_cov = GPCov(dfn_str=\"lld\", wfn_str=\"compact2\", dfn_params=[200.0, 100.0], wfn_params=[4.0,])\n",
      "    wiggle_cov = GPCov(dfn_str=\"lld\", wfn_str=\"compact2\", dfn_params=[30.0, 100.0], wfn_params=[4.0,])\n",
      "    \n",
      "    y = dict()\n",
      "    y['tt_residual'] = prior_sample(X_events, atime_cov, noise_var=9.0)\n",
      "    for wavelet_feature in wavelet_feature_names:\n",
      "        y[wavelet_feature] = prior_sample(X_events, wiggle_cov, noise_var=9.0)\n",
      "    return y\n",
      "\n",
      "def sample_synthetic_data(stas, wavelet_feature_names, X_events):\n",
      "    ys = dict()\n",
      "    for sta in stas:\n",
      "        ys[sta] = sample_synthetic_data_sta(wavelet_feature_names, X_events)\n",
      "    return ys\n",
      "\n",
      "def get_leb_atime(cursor, evid, sta, phase='P'):\n",
      "    sql_query = \"select l.time from leb_arrival l, leb_assoc leba, leb_origin lebo where lebo.evid=%d and leba.phase='%s' and l.sta='%s' and leba.orid=lebo.orid and l.arid=leba.arid\" % (evid, phase, sta)\n",
      "    cursor.execute(sql_query)\n",
      "    try:\n",
      "        r = cursor.fetchall()[0]\n",
      "        return float(r[0])\n",
      "    except:\n",
      "        return np.nan\n",
      "    \n",
      "def plot_heat(ax, stas, ev_true, y, all_gps, n=20, logscale=True):\n",
      "    ev_tmp = Event(lon=ev_true.lon, lat=ev_true.lat, depth=ev_true.depth, mb=ev_true.mb, time=ev_true.time)\n",
      "    def f(lon, lat):\n",
      "        ev_tmp.lon=lon\n",
      "        ev_tmp.lat = lat\n",
      "        if logscale:\n",
      "            return joint_log_likelihood(ev_tmp, y, all_gps)\n",
      "        else:\n",
      "            return np.exp(joint_log_likelihood(ev_tmp, y, all_gps))\n",
      "        \n",
      "    hm = EventHeatmap(f=f, calc=True, n=n, top_lat=ev_bounds['top'], bottom_lat=ev_bounds['bottom'], left_lon=ev_bounds['left'], right_lon=ev_bounds['right'])\n",
      "    hm.add_stations(stas)\n",
      "    #hm.init_bmap(axes=ax, nofillcontinents=True)\n",
      "    #hm.plot_earth()\n",
      "    #hm.plot_density(smooth=True)\n",
      "    hm.set_true_event(ev_true.lon, ev_true.lat)\n",
      "    hm.plot(axes=ax, smooth=True)\n",
      "    \n",
      "def plot_param_values(ax, stas, X_events, y):\n",
      "    hm = EventHeatmap(f=None, calc=False, top_lat=ev_bounds['top'], bottom_lat=ev_bounds['bottom'], left_lon=ev_bounds['left'], right_lon=ev_bounds['right'])\n",
      "    hm.add_stations(stas)\n",
      "    hm.add_events(X_events, yvals=y)\n",
      "    hm.plot(axes=ax, event_alpha=0.8, colorbar=True, offmap_station_arrows=False, label_stations=True)\n",
      "   \n",
      "def plot_traintest(ax, stas, X_train, X_test):\n",
      "    hm = EventHeatmap(f=None, calc=False, top_lat=ev_bounds['top'], bottom_lat=ev_bounds['bottom'], left_lon=ev_bounds['left'], right_lon=ev_bounds['right'])\n",
      "    hm.add_stations(stas)\n",
      "    hm.init_bmap(axes=ax, nofillcontinents=True)\n",
      "    hm.plot_earth()\n",
      "    hm.plot_locations([(x[0], x[1]) for x in X_train], marker='.', ms=6, mec=\"none\", mew=0, alpha=0.1)\n",
      "    hm.plot_locations([(x[0], x[1]) for x in X_test], marker='.', ms=12, mec=\"none\", mew=0, alpha=1.0, c='red')\n",
      "    \n",
      "def plot_posterior(ax, stas, ev_true, samples, width_deg=None):\n",
      "\n",
      "    if width_deg is None:\n",
      "        width_deg = np.max(np.max(samples[:,:2], axis=0) - np.min(samples[:,:2], axis=0))\n",
      "        print \"inferring plot width of \", width_deg, \"degrees\"\n",
      "    \n",
      "    hm = EventHeatmap(f=None, calc=False, center=(ev_true.lon, ev_true.lat), width_deg=width_deg, height_deg=width_deg)\n",
      "\n",
      "    hm.add_stations(stas)\n",
      "    hm.add_events(samples)\n",
      "    hm.set_true_event(ev_true.lon, ev_true.lat)\n",
      "    hm.plot(axes=ax, event_alpha=1.0 / np.log(samples.shape[0] + 10), offmap_station_arrows=False, label_stations=True)\n",
      " \n",
      "    print \"true ev:\", ev_true\n",
      "    means = np.mean(samples, axis=0)\n",
      "    print \"mean lon %.2f, lat %.2f, time %.2f\" % (means[0], means[1], means[2])\n",
      "    stds = np.std(samples, axis=0)\n",
      "    print \"stds: lon %.2f, lat %.2f, time %.2f\" % (stds[0], stds[1], stds[2])\n",
      "\n",
      "    spatial_err = dist_km((means[0], means[1]), (ev_true.lon, ev_true.lat))\n",
      "    time_err = np.abs(means[2] - ev_true.time)\n",
      "    print \"mean: spatial err %.4fkm time err %.4fs\" % (spatial_err, time_err,)\n",
      "\n",
      "\n",
      "def train_GPs_sta(sta, X_events, y, atime_cov, atime_noise_var, wiggle_cov, wiggle_noise_var):\n",
      "    gps = dict()\n",
      "    \n",
      "    nans = np.isnan(y['tt_residual'])\n",
      "    ytt = y['tt_residual'][~nans]\n",
      "    Xtt = X_events[~nans,:]\n",
      "    gps['tt_residual'] = GP(X=Xtt, y=ytt, cov_main = atime_cov, noise_var=atime_noise_var)\n",
      "    for (k, yy) in y.items():\n",
      "        if k == 'tt_residual': continue\n",
      "        nans = np.isnan(y[k])\n",
      "        yyy = yy[~nans]\n",
      "        XX = X_events[~nans,:]\n",
      "        gps[k] = GP(X=XX, y=yyy, cov_main = wiggle_cov, noise_var=wiggle_noise_var)\n",
      "    return gps\n",
      "\n",
      "def train_all_gps(X_events, ys):\n",
      "    atime_cov = GPCov(dfn_str=\"lld\", wfn_str=\"compact2\", dfn_params=[200.0, 100.0], wfn_params=[4.0,])\n",
      "    wiggle_cov = GPCov(dfn_str=\"lld\", wfn_str=\"compact2\", dfn_params=[30.0, 100.0], wfn_params=[4.0,])\n",
      "    atime_noise_var = 9.0\n",
      "    wiggle_noise_var = 9.0\n",
      "    \n",
      "    all_gps = dict()\n",
      "    for (sta,y) in ys.items():\n",
      "        all_gps[sta] = train_GPs_sta(sta, X_events, y, atime_cov, atime_noise_var, wiggle_cov, wiggle_noise_var)\n",
      "    return all_gps\n",
      "\n",
      "def joint_log_likelihood(ev, y, all_gps):\n",
      "    ll = 0\n",
      "    X = np.array([[ev.lon, ev.lat, 0,],])\n",
      "    for (sta, param_gps) in all_gps.items():\n",
      "        pred_tt = tt_predict(ev, sta, 'P')\n",
      "        tt_residual = y[sta]['arrival_time'] - (ev.time + pred_tt)\n",
      "        ll += param_gps['tt_residual'].log_p(tt_residual, X)\n",
      "        for (k, gp) in param_gps.items():\n",
      "            if k == 'tt_residual': continue\n",
      "            ll += gp.log_p(y[sta][k], X, method=\"sparse\")\n",
      "    return ll\n",
      "\n",
      "def gen_test_ev(X):\n",
      "    return Event(lon=X[0], lat=X[1], depth=X[2], time=X[3], mb=4.0)\n",
      "    \n",
      "def sample_test_values(ev, all_gps):\n",
      "    y = dict()\n",
      "    X = np.array([[ev.lon, ev.lat, 0,],])\n",
      "    for (sta, param_gps) in all_gps.items():\n",
      "        y[sta] = dict()\n",
      "        pred_tt = tt_predict(ev, sta, 'P')\n",
      "        sampled_tt_residual = param_gps['tt_residual'].sample(X)\n",
      "        y[sta]['arrival_time'] = ev.time + pred_tt + sampled_tt_residual\n",
      "        for (k, gp) in param_gps.items():\n",
      "            y[sta][k] =  gp.sample(X)\n",
      "    return y\n",
      "\n",
      "def MH_move_space(ev, y, all_gps, old_ll, std_ll = 0.05):\n",
      "    orig_lon, orig_lat = ev.lon, ev.lat\n",
      "    ev.lon = orig_lon + np.random.randn() * std_ll\n",
      "    ev.lat = orig_lat + np.random.randn() * std_ll\n",
      "    new_ll = joint_log_likelihood(ev, y, all_gps)\n",
      "    \n",
      "    log_u = np.log(np.random.rand())\n",
      "    if new_ll - old_ll > log_u:\n",
      "        return True, new_ll\n",
      "    else:\n",
      "        ev.lon = orig_lon\n",
      "        ev.lat = orig_lat\n",
      "        return False, old_ll\n",
      "    \n",
      "def MH_move_time(ev, y, all_gps, old_ll, std_s = 1.0):\n",
      "    orig_time = ev.time\n",
      "    ev.time = orig_time + np.random.randn() * std_s\n",
      "    new_ll = joint_log_likelihood(ev, y, all_gps)\n",
      "    \n",
      "    log_u = np.log(np.random.rand())\n",
      "    \n",
      "    if new_ll - old_ll > log_u:\n",
      "        return True, new_ll\n",
      "    else:\n",
      "        ev.time = orig_time\n",
      "        return False, old_ll\n",
      "    \n",
      "def MH_move_joint(ev, y, all_gps, old_ll, std_ll = 0.05, std_s = 0.3):\n",
      "    orig_time = ev.time\n",
      "    orig_lon, orig_lat = ev.lon, ev.lat\n",
      "    ev.lon = orig_lon + np.random.randn() * std_ll\n",
      "    ev.lat = orig_lat + np.random.randn() * std_ll\n",
      "    ev.time = orig_time + np.random.randn() * std_s\n",
      "    new_ll = joint_log_likelihood(ev, y, all_gps)\n",
      "    \n",
      "    log_u = np.log(np.random.rand())\n",
      "    if new_ll - old_ll > log_u:\n",
      "        return True, new_ll\n",
      "    else:\n",
      "        ev.lon = orig_lon\n",
      "        ev.lat = orig_lat\n",
      "        ev.time = orig_time\n",
      "        return False, old_ll\n",
      "    \n",
      "def grid_search(y, all_gps, time_window_s=300, n_space=10, n_time = 20):\n",
      "    first_atime = np.min([yy['arrival_time'] for yy in y.values()])\n",
      "    print 'first atime', first_atime\n",
      "    \n",
      "    lons = np.linspace(ev_bounds['left'], ev_bounds['right'], n_space)\n",
      "    lats = np.linspace(ev_bounds['bottom'], ev_bounds['top'], n_space)\n",
      "    times = np.linspace(first_atime - time_window_s, first_atime, n_time)\n",
      "    \n",
      "    ev_tmp = Event(lon=0, lat=0, depth=0, time=0, mb=4.0)\n",
      "    best_ev = None\n",
      "    best_ll = -np.inf\n",
      "    for lon in lons:\n",
      "        for lat in lats:\n",
      "            #print \"gridsearching at %.1f, %.1f\" % (lon, lat)\n",
      "            for time in times:\n",
      "                ev_tmp.lon = lon\n",
      "                ev_tmp.lat = lat\n",
      "                ev_tmp.time = time\n",
      "                ll = joint_log_likelihood(ev_tmp, y, all_gps)\n",
      "                if ll > best_ll:\n",
      "                    print \"gridsearch: new best ll\", ll, \"at\", (lon, lat, time)\n",
      "                    best_ll = ll\n",
      "                    best_ev = (lon, lat, time)\n",
      "\n",
      "    return best_ev, best_ll\n",
      "\n",
      "def run_MH(y, all_gps, true_ev, burnin = 2000, steps = 2000):\n",
      "    (lon0, lat0, time0), ll = grid_search(y, all_gps)\n",
      "    ev = Event(lon=lon0, lat=lat0, depth=0, time=time0, mb=4.0)\n",
      "    \n",
      "    print \"true ev\", true_ev\n",
      "    print \"intialized from grid search:\", ev\n",
      "    \n",
      "    n = burnin + steps\n",
      "    samples = np.zeros((steps, 3))\n",
      "    accepts_space = np.zeros((n,))\n",
      "    accepts_time = np.zeros((n,))\n",
      "    for i in range(n):\n",
      "        accepted, ll = MH_move_space(ev, y, all_gps, ll)\n",
      "        accepts_space[i] = int(accepted)\n",
      "\n",
      "        accepted, ll = MH_move_time(ev, y, all_gps, ll)\n",
      "        accepts_time[i] = int(accepted)\n",
      "        \n",
      "        if i >= burnin:\n",
      "            samples[i-burnin,:] = (ev.lon, ev.lat, ev.time)\n",
      "    \n",
      "        if i % 50 == 0:\n",
      "            spatial_err = dist_km((ev.lon, ev.lat), (true_ev.lon, true_ev.lat))\n",
      "            time_err = np.abs(ev.time - true_ev.time)\n",
      "            print \"step %d: lon %.1f lat %.1f time %.1f spatial err %.1fkm time err %.1fs acceptance rate space %f time %f\" % (i, ev.lon, ev.lat, ev.time, spatial_err, time_err, np.mean(accepts_space), np.mean(accepts_time))\n",
      "        \n",
      "    return ev, samples\n",
      "    \n",
      "def test_neighbors(X_train, X_test):\n",
      "    for x in X_test:\n",
      "        distances = np.array([dist_km((x[0], x[1]), (xx[0], xx[1])) for xx in X_train])\n",
      "        print x, ': neighbors within'\n",
      "        for threshold in (5, 15, 30, 100, 200, 1000):\n",
      "            print '%dkm: %f' % (threshold, np.sum(distances < threshold))\n",
      "            #print distances < threshold\n",
      "\n",
      "def test_wiggle_influence(n_wiggle_params):\n",
      "    X_events = select_events(train=True)\n",
      "\n",
      "    X_test = select_events(train=False)\n",
      "    ev = gen_test_ev(X_test[6,:])\n",
      "\n",
      "\n",
      "    for n in n_wiggle_params:\n",
      "        wparams = ['w%d' % i for i in range(n)]\n",
      "        ys = sample_synthetic_data(stas, wparams, X_events)\n",
      "        all_gps = train_all_gps(X_events, ys)\n",
      "        test_ys = sample_test_values(ev, all_gps)\n",
      "        \n",
      "        ev_mcmc, samples = run_MH(test_ys, all_gps, ev)\n",
      "        fig = plt.figure(figsize=(10, 10))\n",
      "        ax = fig.add_subplot(1,1,1)\n",
      "        plot_posterior(ax, stas, ev, samples[1:,:], width_deg=2.0)\n",
      "        plt.title(\"posterior with %d wiggle params\" % n)\n",
      "      \n",
      "def visualize_wiggle(y_sta, ev_i):\n",
      "    wavelet_keys = ['w%03d' % i for i in range(len(y_sta.keys())-1)]\n",
      "    coefs_flat = np.array([y_sta[k][ev_i] for k in wavelet_keys])\n",
      "    coefs_full = unflatten_wavelet_coefs(coefs_flat)\n",
      "    w = pywt.waverec(coefs_full, 'db8', mode='per')\n",
      "    return w\n"
     ],
     "language": "python",
     "metadata": {},
     "outputs": [],
     "prompt_number": 5
    },
    {
     "cell_type": "code",
     "collapsed": false,
     "input": [
      "X_events = select_events(train=True)\n",
      "np.save('X_train.npy', X_events)"
     ],
     "language": "python",
     "metadata": {},
     "outputs": [],
     "prompt_number": 2
    },
    {
     "cell_type": "code",
     "collapsed": false,
     "input": [],
     "language": "python",
     "metadata": {},
     "outputs": [],
     "prompt_number": 5
    },
    {
     "cell_type": "code",
     "collapsed": false,
     "input": [
      "test_wiggle_influence((0, 1, 10, 20))"
     ],
     "language": "python",
     "metadata": {},
     "outputs": [
      {
       "output_type": "stream",
       "stream": "stdout",
       "text": [
        "first atime 1238262648.18\n",
        "gridsearch: new best ll [-6729.07684365] at (20.0, 30.0, 1238262348.1767912)\n",
        "gridsearch: new best ll [-5299.64040575] at (20.0, 30.0, 1238262363.966265)\n",
        "gridsearch: new best ll [-4061.9789711] at (20.0, 30.0, 1238262379.7557385)\n",
        "gridsearch: new best ll [-3016.09250231] at (20.0, 30.0, 1238262395.5452123)\n",
        "gridsearch: new best ll [-2161.98101953] at (20.0, 30.0, 1238262411.334686)\n",
        "gridsearch: new best ll [-1499.64453131] at (20.0, 30.0, 1238262427.1241596)\n",
        "gridsearch: new best ll [-1029.08301764] at (20.0, 30.0, 1238262442.9136333)\n",
        "gridsearch: new best ll [-750.29649274] at (20.0, 30.0, 1238262458.7031069)\n",
        "gridsearch: new best ll [-663.28494819] at (20.0, 30.0, 1238262474.4925807)\n",
        "gridsearch: new best ll"
       ]
      },
      {
       "output_type": "stream",
       "stream": "stdout",
       "text": [
        " [-623.01193075] at (20.0, 32.222222222222221, 1238262458.7031069)\n",
        "gridsearch: new best ll [-400.58914118] at (20.0, 32.222222222222221, 1238262474.4925807)\n",
        "gridsearch: new best ll [-369.94133762] at (20.0, 32.222222222222221, 1238262490.2820544)\n",
        "gridsearch: new best ll [-309.11909107] at (20.0, 34.444444444444443, 1238262474.4925807)\n",
        "gridsearch: new best ll [-158.29640376] at (20.0, 34.444444444444443, 1238262490.2820544)\n",
        "gridsearch: new best ll"
       ]
      },
      {
       "output_type": "stream",
       "stream": "stdout",
       "text": [
        " [-145.72220679] at (20.0, 36.666666666666664, 1238262490.2820544)\n",
        "gridsearch: new best ll [-93.98940694] at (20.0, 36.666666666666664, 1238262506.071528)\n",
        "gridsearch: new best ll"
       ]
      },
      {
       "output_type": "stream",
       "stream": "stdout",
       "text": [
        " [-33.11873536] at (22.222222222222221, 36.666666666666664, 1238262506.071528)\n",
        "true ev"
       ]
      },
      {
       "output_type": "stream",
       "stream": "stdout",
       "text": [
        " evid None, loc 21.83 E 36.53 N, depth 0.0km, time 1238262509.4, mb 4.0, natural source\n",
        "intialized from grid search: evid None, loc 22.22 E 36.67 N, depth 0.0km, time 1238262506.1, mb 4.0, natural source\n",
        "step 0: lon 22.2 lat 36.7 time 1238262506.1 spatial err 37.9km time err 3.3s acceptance rate space 0.000000 time 0.000000\n",
        "step 50: lon 21.8 lat 36.6 time 1238262507.4 spatial err 10.2km time err 2.0s acceptance rate space 0.013200 time 0.014400"
       ]
      },
      {
       "output_type": "stream",
       "stream": "stdout",
       "text": [
        "\n",
        "step 100: lon 21.6 lat 36.7 time 1238262507.4 spatial err 29.5km time err 2.0s acceptance rate space 0.028400 time 0.030000"
       ]
      },
      {
       "output_type": "stream",
       "stream": "stdout",
       "text": [
        "\n",
        "step 150: lon 21.9 lat 36.9 time 1238262509.2 spatial err 38.4km time err 0.3s acceptance rate space 0.045600 time 0.041200"
       ]
      },
      {
       "output_type": "stream",
       "stream": "stdout",
       "text": [
        "\n",
        "step 200: lon 21.6 lat 36.7 time 1238262507.5 spatial err 26.6km time err 1.9s acceptance rate space 0.061200 time 0.056000"
       ]
      },
      {
       "output_type": "stream",
       "stream": "stdout",
       "text": [
        "\n",
        "step 250: lon 21.5 lat 36.5 time 1238262505.4 spatial err 33.8km time err 4.0s acceptance rate space 0.077200 time 0.070400"
       ]
      },
      {
       "output_type": "stream",
       "stream": "stdout",
       "text": [
        "\n",
        "step 300: lon 21.5 lat 36.5 time 1238262507.2 spatial err 31.1km time err 2.2s acceptance rate space 0.093200 time 0.085200"
       ]
      },
      {
       "output_type": "stream",
       "stream": "stdout",
       "text": [
        "\n",
        "step 350: lon 21.7 lat 36.8 time 1238262508.2 spatial err 34.0km time err 1.2s acceptance rate space 0.110400 time 0.100400"
       ]
      },
      {
       "output_type": "stream",
       "stream": "stdout",
       "text": [
        "\n",
        "step 400: lon 21.7 lat 36.6 time 1238262506.9 spatial err 20.5km time err 2.5s acceptance rate space 0.126400 time 0.115600"
       ]
      },
      {
       "output_type": "stream",
       "stream": "stdout",
       "text": [
        "\n",
        "step 450: lon 21.8 lat 36.9 time 1238262509.9 spatial err 46.7km time err 0.5s acceptance rate space 0.142400 time 0.132400"
       ]
      },
      {
       "output_type": "stream",
       "stream": "stdout",
       "text": [
        "\n",
        "step 500: lon 21.7 lat 36.7 time 1238262507.4 spatial err 22.6km time err 2.0s acceptance rate space 0.160000 time 0.146400"
       ]
      },
      {
       "output_type": "stream",
       "stream": "stdout",
       "text": [
        "\n",
        "step 550: lon 21.8 lat 36.9 time 1238262510.2 spatial err 47.2km time err 0.8s acceptance rate space 0.176000 time 0.160800"
       ]
      },
      {
       "output_type": "stream",
       "stream": "stdout",
       "text": [
        "\n",
        "step 600: lon 21.6 lat 36.6 time 1238262506.9 spatial err 18.0km time err 2.5s acceptance rate space 0.193200 time 0.172400"
       ]
      },
      {
       "output_type": "stream",
       "stream": "stdout",
       "text": [
        "\n",
        "step 650: lon 21.9 lat 36.9 time 1238262508.4 spatial err 39.5km time err 1.0s acceptance rate space 0.208400 time 0.187200"
       ]
      },
      {
       "output_type": "stream",
       "stream": "stdout",
       "text": [
        "\n",
        "step 700: lon 21.5 lat 36.8 time 1238262506.8 spatial err 37.2km time err 2.6s acceptance rate space 0.223600 time 0.200400"
       ]
      },
      {
       "output_type": "stream",
       "stream": "stdout",
       "text": [
        "\n",
        "step 750: lon 21.9 lat 36.9 time 1238262511.7 spatial err 35.8km time err 2.3s acceptance rate space 0.240400 time 0.217200"
       ]
      },
      {
       "output_type": "stream",
       "stream": "stdout",
       "text": [
        "\n",
        "step 800: lon 21.8 lat 36.7 time 1238262507.5 spatial err 18.7km time err 1.9s acceptance rate space 0.257200 time 0.234400"
       ]
      },
      {
       "output_type": "stream",
       "stream": "stdout",
       "text": [
        "\n",
        "step 850: lon 21.4 lat 36.7 time 1238262506.7 spatial err 45.7km time err 2.8s acceptance rate space 0.274400 time 0.246800"
       ]
      },
      {
       "output_type": "stream",
       "stream": "stdout",
       "text": [
        "\n",
        "step 900: lon 21.6 lat 36.6 time 1238262508.7 spatial err 23.9km time err 0.8s acceptance rate space 0.290800 time 0.260000"
       ]
      },
      {
       "output_type": "stream",
       "stream": "stdout",
       "text": [
        "\n",
        "step 950: lon 21.6 lat 36.7 time 1238262507.0 spatial err 24.4km time err 2.4s acceptance rate space 0.307200 time 0.273600"
       ]
      },
      {
       "output_type": "stream",
       "stream": "stdout",
       "text": [
        "\n",
        "step 1000: lon 21.7 lat 36.8 time 1238262507.3 spatial err 32.9km time err 2.1s acceptance rate space 0.324400 time 0.287600"
       ]
      },
      {
       "output_type": "stream",
       "stream": "stdout",
       "text": [
        "\n",
        "step 1050: lon 21.7 lat 36.6 time 1238262506.6 spatial err 18.1km time err 2.8s acceptance rate space 0.338000 time 0.303200"
       ]
      },
      {
       "output_type": "stream",
       "stream": "stdout",
       "text": [
        "\n",
        "step 1100: lon 21.6 lat 36.7 time 1238262507.6 spatial err 28.7km time err 1.8s acceptance rate space 0.355600 time 0.318000"
       ]
      },
      {
       "output_type": "stream",
       "stream": "stdout",
       "text": [
        "\n",
        "step 1150: lon 21.6 lat 36.8 time 1238262507.0 spatial err 39.3km time err 2.4s acceptance rate space 0.370400 time 0.331200"
       ]
      },
      {
       "output_type": "stream",
       "stream": "stdout",
       "text": [
        "\n",
        "step 1200: lon 21.9 lat 36.8 time 1238262508.0 spatial err 34.0km time err 1.5s acceptance rate space 0.387200 time 0.346000"
       ]
      },
      {
       "output_type": "stream",
       "stream": "stdout",
       "text": [
        "\n",
        "step 1250: lon 21.8 lat 37.0 time 1238262509.6 spatial err 47.2km time err 0.2s acceptance rate space 0.402400 time 0.360800"
       ]
      },
      {
       "output_type": "stream",
       "stream": "stdout",
       "text": [
        "\n",
        "step 1300: lon 21.8 lat 36.6 time 1238262507.7 spatial err 11.0km time err 1.7s acceptance rate space 0.419200 time 0.373200"
       ]
      },
      {
       "output_type": "stream",
       "stream": "stdout",
       "text": [
        "\n",
        "step 1350: lon 21.6 lat 36.7 time 1238262509.0 spatial err 29.5km time err 0.5s acceptance rate space 0.434800 time 0.385600"
       ]
      },
      {
       "output_type": "stream",
       "stream": "stdout",
       "text": [
        "\n",
        "step 1400: lon 21.8 lat 36.7 time 1238262508.8 spatial err 19.9km time err 0.6s acceptance rate space 0.452000 time 0.401200"
       ]
      },
      {
       "output_type": "stream",
       "stream": "stdout",
       "text": [
        "\n",
        "step 1450: lon 21.6 lat 36.8 time 1238262508.1 spatial err 38.3km time err 1.3s acceptance rate space 0.468400 time 0.416000"
       ]
      },
      {
       "output_type": "stream",
       "stream": "stdout",
       "text": [
        "\n",
        "step 1500: lon 21.8 lat 36.9 time 1238262506.7 spatial err 43.3km time err 2.7s acceptance rate space 0.485600 time 0.428000"
       ]
      },
      {
       "output_type": "stream",
       "stream": "stdout",
       "text": [
        "\n",
        "step 1550: lon 21.7 lat 36.5 time 1238262506.0 spatial err 15.8km time err 3.4s acceptance rate space 0.500800 time 0.443200"
       ]
      },
      {
       "output_type": "stream",
       "stream": "stdout",
       "text": [
        "\n",
        "step 1600: lon 21.9 lat 36.9 time 1238262508.2 spatial err 36.8km time err 1.2s acceptance rate space 0.517200 time 0.456400"
       ]
      },
      {
       "output_type": "stream",
       "stream": "stdout",
       "text": [
        "\n",
        "step 1650: lon 21.8 lat 37.0 time 1238262510.7 spatial err 51.5km time err 1.3s acceptance rate space 0.533600 time 0.470000"
       ]
      },
      {
       "output_type": "stream",
       "stream": "stdout",
       "text": [
        "\n",
        "step 1700: lon 21.6 lat 36.8 time 1238262506.7 spatial err 39.4km time err 2.7s acceptance rate space 0.549200 time 0.484800"
       ]
      },
      {
       "output_type": "stream",
       "stream": "stdout",
       "text": [
        "\n",
        "step 1750: lon 21.6 lat 36.9 time 1238262506.6 spatial err 45.7km time err 2.8s acceptance rate space 0.565200 time 0.496800"
       ]
      },
      {
       "output_type": "stream",
       "stream": "stdout",
       "text": [
        "\n",
        "step 1800: lon 21.7 lat 37.1 time 1238262509.8 spatial err 69.3km time err 0.4s acceptance rate space 0.581200 time 0.511200"
       ]
      },
      {
       "output_type": "stream",
       "stream": "stdout",
       "text": [
        "\n",
        "step 1850: lon 22.1 lat 36.7 time 1238262511.1 spatial err 27.7km time err 1.7s acceptance rate space 0.598000 time 0.525600"
       ]
      },
      {
       "output_type": "stream",
       "stream": "stdout",
       "text": [
        "\n",
        "step 1900: lon 21.7 lat 36.7 time 1238262509.0 spatial err 25.0km time err 0.4s acceptance rate space 0.613200 time 0.540400"
       ]
      },
      {
       "output_type": "stream",
       "stream": "stdout",
       "text": [
        "\n",
        "step 1950: lon 21.5 lat 36.7 time 1238262506.7 spatial err 33.8km time err 2.7s acceptance rate space 0.628400 time 0.554400"
       ]
      },
      {
       "output_type": "stream",
       "stream": "stdout",
       "text": [
        "\n",
        "step 2000: lon 21.9 lat 36.9 time 1238262508.2 spatial err 36.7km time err 1.3s acceptance rate space 0.643600 time 0.568000"
       ]
      },
      {
       "output_type": "stream",
       "stream": "stdout",
       "text": [
        "\n",
        "step 2050: lon 21.8 lat 36.8 time 1238262506.7 spatial err 34.2km time err 2.7s acceptance rate space 0.659600 time 0.580400"
       ]
      },
      {
       "output_type": "stream",
       "stream": "stdout",
       "text": [
        "\n",
        "step 2100: lon 21.8 lat 36.6 time 1238262508.7 spatial err 3.6km time err 0.7s acceptance rate space 0.676800 time 0.595200"
       ]
      },
      {
       "output_type": "stream",
       "stream": "stdout",
       "text": [
        "\n",
        "step 2150: lon 21.4 lat 36.9 time 1238262508.3 spatial err 51.5km time err 1.1s acceptance rate space 0.692800 time 0.610000"
       ]
      },
      {
       "output_type": "stream",
       "stream": "stdout",
       "text": [
        "\n",
        "step 2200: lon 21.5 lat 36.8 time 1238262506.7 spatial err 42.5km time err 2.7s acceptance rate space 0.706800 time 0.626000"
       ]
      },
      {
       "output_type": "stream",
       "stream": "stdout",
       "text": [
        "\n",
        "step 2250: lon 21.7 lat 36.8 time 1238262509.2 spatial err 35.2km time err 0.2s acceptance rate space 0.724400 time 0.642000"
       ]
      },
      {
       "output_type": "stream",
       "stream": "stdout",
       "text": [
        "\n",
        "step 2300: lon 21.7 lat 36.7 time 1238262508.4 spatial err 21.1km time err 1.0s acceptance rate space 0.742400 time 0.657200"
       ]
      },
      {
       "output_type": "stream",
       "stream": "stdout",
       "text": [
        "\n",
        "step 2350: lon 21.7 lat 36.8 time 1238262510.7 spatial err 31.0km time err 1.3s acceptance rate space 0.757200 time 0.672000"
       ]
      },
      {
       "output_type": "stream",
       "stream": "stdout",
       "text": [
        "\n",
        "step 2400: lon 21.9 lat 36.9 time 1238262509.9 spatial err 37.6km time err 0.5s acceptance rate space 0.773200 time 0.686000"
       ]
      },
      {
       "output_type": "stream",
       "stream": "stdout",
       "text": [
        "\n",
        "step 2450: lon 21.8 lat 36.6 time 1238262508.9 spatial err 6.6km time err 0.5s acceptance rate space 0.790400 time 0.698800"
       ]
      },
      {
       "output_type": "stream",
       "stream": "stdout",
       "text": [
        "\n",
        "true ev:"
       ]
      },
      {
       "output_type": "stream",
       "stream": "stdout",
       "text": [
        " evid None, loc 21.83 E 36.53 N, depth 0.0km, time 1238262509.4, mb 4.0, natural source\n",
        "mean lon 21.72, lat 36.76, time 1238262508.04\n",
        "stds: lon 0.13, lat 0.12, time 1.23\n",
        "mean: spatial err 27.4602km time err 1.3712s\n",
        "first atime"
       ]
      },
      {
       "output_type": "stream",
       "stream": "stdout",
       "text": [
        " 1238262646.85\n",
        "gridsearch: new best ll [-7080.76982233] at (20.0, 30.0, 1238262346.8473902)\n",
        "gridsearch: new best ll [-5607.10849273] at (20.0, 30.0, 1238262362.6368639)\n",
        "gridsearch: new best ll [-4325.22216705] at (20.0, 30.0, 1238262378.4263375)\n",
        "gridsearch: new best ll [-3235.11080656] at (20.0, 30.0, 1238262394.2158113)\n",
        "gridsearch: new best ll [-2336.77443208] at (20.0, 30.0, 1238262410.005285)\n",
        "gridsearch: new best ll"
       ]
      },
      {
       "output_type": "stream",
       "stream": "stdout",
       "text": [
        " [-1630.21305282] at (20.0, 30.0, 1238262425.7947586)\n",
        "gridsearch: new best ll [-1115.42664746] at (20.0, 30.0, 1238262441.5842323)\n",
        "gridsearch: new best ll [-792.41523153] at (20.0, 30.0, 1238262457.3737059)\n",
        "gridsearch: new best ll [-661.17879527] at (20.0, 30.0, 1238262473.1631796)\n",
        "gridsearch: new best ll"
       ]
      },
      {
       "output_type": "stream",
       "stream": "stdout",
       "text": [
        " [-444.70220049] at (20.0, 32.222222222222221, 1238262473.1631796)\n",
        "gridsearch: new best ll [-369.82950523] at (20.0, 32.222222222222221, 1238262488.9526534)\n",
        "gridsearch: new best ll"
       ]
      },
      {
       "output_type": "stream",
       "stream": "stdout",
       "text": [
        " [-202.96703783] at (20.0, 34.444444444444443, 1238262488.9526534)\n",
        "gridsearch: new best ll [-199.69294254] at (20.0, 34.444444444444443, 1238262504.7421269)\n",
        "gridsearch: new best ll"
       ]
      },
      {
       "output_type": "stream",
       "stream": "stdout",
       "text": [
        " [-135.20645613] at (20.0, 36.666666666666664, 1238262504.7421269)\n",
        "gridsearch: new best ll"
       ]
      },
      {
       "output_type": "stream",
       "stream": "stdout",
       "text": [
        " [-69.25451142] at (22.222222222222221, 36.666666666666664, 1238262504.7421269)\n",
        "true ev"
       ]
      },
      {
       "output_type": "stream",
       "stream": "stdout",
       "text": [
        " evid None, loc 21.83 E 36.53 N, depth 0.0km, time 1238262509.4, mb 4.0, natural source\n",
        "intialized from grid search: evid None, loc 22.22 E 36.67 N, depth 0.0km, time 1238262504.7, mb 4.0, natural source\n",
        "step 0: lon 22.2 lat 36.7 time 1238262504.7 spatial err 37.8km time err 4.7s acceptance rate space 0.000400 time 0.000000\n",
        "step 50: lon 22.1 lat 36.4 time 1238262508.8 spatial err 22.8km time err 0.7s acceptance rate space 0.016400 time 0.015600"
       ]
      },
      {
       "output_type": "stream",
       "stream": "stdout",
       "text": [
        "\n",
        "step 100: lon 21.9 lat 36.5 time 1238262510.8 spatial err 6.8km time err 1.4s acceptance rate space 0.030000 time 0.028000"
       ]
      },
      {
       "output_type": "stream",
       "stream": "stdout",
       "text": [
        "\n",
        "step 150: lon 21.8 lat 36.5 time 1238262508.8 spatial err 3.2km time err 0.6s acceptance rate space 0.044400 time 0.043200"
       ]
      },
      {
       "output_type": "stream",
       "stream": "stdout",
       "text": [
        "\n",
        "step 200: lon 21.9 lat 36.5 time 1238262506.7 spatial err 7.2km time err 2.7s acceptance rate space 0.058800 time 0.057200"
       ]
      },
      {
       "output_type": "stream",
       "stream": "stdout",
       "text": [
        "\n",
        "step 250: lon 22.1 lat 36.7 time 1238262510.7 spatial err 27.5km time err 1.3s acceptance rate space 0.073600 time 0.070400"
       ]
      },
      {
       "output_type": "stream",
       "stream": "stdout",
       "text": [
        "\n",
        "step 300: lon 22.0 lat 36.7 time 1238262509.9 spatial err 22.9km time err 0.5s acceptance rate space 0.088400 time 0.084400"
       ]
      },
      {
       "output_type": "stream",
       "stream": "stdout",
       "text": [
        "\n",
        "step 350: lon 21.9 lat 36.4 time 1238262509.1 spatial err 17.7km time err 0.4s acceptance rate space 0.100400 time 0.098000"
       ]
      },
      {
       "output_type": "stream",
       "stream": "stdout",
       "text": [
        "\n",
        "step 400: lon 21.9 lat 36.4 time 1238262508.5 spatial err 11.3km time err 0.9s acceptance rate space 0.115600 time 0.112400"
       ]
      },
      {
       "output_type": "stream",
       "stream": "stdout",
       "text": [
        "\n",
        "step 450: lon 22.0 lat 36.6 time 1238262508.1 spatial err 16.3km time err 1.4s acceptance rate space 0.130400 time 0.128400"
       ]
      },
      {
       "output_type": "stream",
       "stream": "stdout",
       "text": [
        "\n",
        "step 500: lon 21.8 lat 36.5 time 1238262508.5 spatial err 8.0km time err 0.9s acceptance rate space 0.144000 time 0.142400"
       ]
      },
      {
       "output_type": "stream",
       "stream": "stdout",
       "text": [
        "\n",
        "step 550: lon 21.9 lat 36.5 time 1238262509.6 spatial err 8.7km time err 0.2s acceptance rate space 0.155600 time 0.158000"
       ]
      },
      {
       "output_type": "stream",
       "stream": "stdout",
       "text": [
        "\n",
        "step 600: lon 22.0 lat 36.7 time 1238262509.9 spatial err 22.2km time err 0.5s acceptance rate space 0.169600 time 0.172400"
       ]
      },
      {
       "output_type": "stream",
       "stream": "stdout",
       "text": [
        "\n",
        "step 650: lon 22.1 lat 36.7 time 1238262510.1 spatial err 33.3km time err 0.7s acceptance rate space 0.186000 time 0.186000"
       ]
      },
      {
       "output_type": "stream",
       "stream": "stdout",
       "text": [
        "\n",
        "step 700: lon 22.0 lat 36.6 time 1238262511.0 spatial err 18.0km time err 1.6s acceptance rate space 0.201600 time 0.198000"
       ]
      },
      {
       "output_type": "stream",
       "stream": "stdout",
       "text": [
        "\n",
        "step 750: lon 21.6 lat 36.4 time 1238262508.0 spatial err 19.9km time err 1.4s acceptance rate space 0.218400 time 0.212800"
       ]
      },
      {
       "output_type": "stream",
       "stream": "stdout",
       "text": [
        "\n",
        "step 800: lon 22.0 lat 36.6 time 1238262510.0 spatial err 19.0km time err 0.6s acceptance rate space 0.232400 time 0.228000"
       ]
      },
      {
       "output_type": "stream",
       "stream": "stdout",
       "text": [
        "\n",
        "step 850: lon 21.9 lat 36.6 time 1238262509.2 spatial err 8.8km time err 0.2s acceptance rate space 0.247600 time 0.241600"
       ]
      },
      {
       "output_type": "stream",
       "stream": "stdout",
       "text": [
        "\n",
        "step 900: lon 21.9 lat 36.4 time 1238262509.7 spatial err 16.6km time err 0.3s acceptance rate space 0.262000 time 0.256400"
       ]
      },
      {
       "output_type": "stream",
       "stream": "stdout",
       "text": [
        "\n",
        "step 950: lon 21.9 lat 36.5 time 1238262507.7 spatial err 4.5km time err 1.7s acceptance rate space 0.275200 time 0.269200"
       ]
      },
      {
       "output_type": "stream",
       "stream": "stdout",
       "text": [
        "\n",
        "step 1000: lon 22.0 lat 36.7 time 1238262507.6 spatial err 18.1km time err 1.8s acceptance rate space 0.289600 time 0.284000"
       ]
      },
      {
       "output_type": "stream",
       "stream": "stdout",
       "text": [
        "\n",
        "step 1050: lon 22.0 lat 36.5 time 1238262510.4 spatial err 12.5km time err 1.0s acceptance rate space 0.305600 time 0.297200"
       ]
      },
      {
       "output_type": "stream",
       "stream": "stdout",
       "text": [
        "\n",
        "step 1100: lon 21.9 lat 36.6 time 1238262508.9 spatial err 8.1km time err 0.5s acceptance rate space 0.321200 time 0.310400"
       ]
      },
      {
       "output_type": "stream",
       "stream": "stdout",
       "text": [
        "\n",
        "step 1150: lon 22.0 lat 36.5 time 1238262511.0 spatial err 14.6km time err 1.6s acceptance rate space 0.336400 time 0.325600"
       ]
      },
      {
       "output_type": "stream",
       "stream": "stdout",
       "text": [
        "\n",
        "step 1200: lon 21.9 lat 36.6 time 1238262510.0 spatial err 8.6km time err 0.6s acceptance rate space 0.350000 time 0.340800"
       ]
      },
      {
       "output_type": "stream",
       "stream": "stdout",
       "text": [
        "\n",
        "step 1250: lon 22.0 lat 36.4 time 1238262510.6 spatial err 17.7km time err 1.2s acceptance rate space 0.364800 time 0.356000"
       ]
      },
      {
       "output_type": "stream",
       "stream": "stdout",
       "text": [
        "\n",
        "step 1300: lon 22.1 lat 36.5 time 1238262510.4 spatial err 20.8km time err 1.0s acceptance rate space 0.380800 time 0.370800"
       ]
      },
      {
       "output_type": "stream",
       "stream": "stdout",
       "text": [
        "\n",
        "step 1350: lon 21.9 lat 36.5 time 1238262509.9 spatial err 2.8km time err 0.5s acceptance rate space 0.396000 time 0.384000"
       ]
      },
      {
       "output_type": "stream",
       "stream": "stdout",
       "text": [
        "\n",
        "step 1400: lon 21.9 lat 36.5 time 1238262510.5 spatial err 5.9km time err 1.1s acceptance rate space 0.412800 time 0.396000"
       ]
      },
      {
       "output_type": "stream",
       "stream": "stdout",
       "text": [
        "\n",
        "step 1450: lon 21.8 lat 36.5 time 1238262510.6 spatial err 5.1km time err 1.2s acceptance rate space 0.426800 time 0.410800"
       ]
      },
      {
       "output_type": "stream",
       "stream": "stdout",
       "text": [
        "\n",
        "step 1500: lon 21.8 lat 36.5 time 1238262509.4 spatial err 1.8km time err 0.0s acceptance rate space 0.439600 time 0.424000"
       ]
      },
      {
       "output_type": "stream",
       "stream": "stdout",
       "text": [
        "\n",
        "step 1550: lon 21.9 lat 36.5 time 1238262509.8 spatial err 5.1km time err 0.4s acceptance rate space 0.452800 time 0.440000"
       ]
      },
      {
       "output_type": "stream",
       "stream": "stdout",
       "text": [
        "\n",
        "step 1600: lon 22.2 lat 36.7 time 1238262511.7 spatial err 39.9km time err 2.2s acceptance rate space 0.468000 time 0.455200"
       ]
      },
      {
       "output_type": "stream",
       "stream": "stdout",
       "text": [
        "\n",
        "step 1650: lon 21.9 lat 36.7 time 1238262510.7 spatial err 18.4km time err 1.3s acceptance rate space 0.482800 time 0.470800"
       ]
      },
      {
       "output_type": "stream",
       "stream": "stdout",
       "text": [
        "\n",
        "step 1700: lon 22.0 lat 36.7 time 1238262510.3 spatial err 20.6km time err 0.9s acceptance rate space 0.498400 time 0.482400"
       ]
      },
      {
       "output_type": "stream",
       "stream": "stdout",
       "text": [
        "\n",
        "step 1750: lon 22.1 lat 36.6 time 1238262510.6 spatial err 20.0km time err 1.2s acceptance rate space 0.514000 time 0.498000"
       ]
      },
      {
       "output_type": "stream",
       "stream": "stdout",
       "text": [
        "\n",
        "step 1800: lon 21.9 lat 36.3 time 1238262509.5 spatial err 21.1km time err 0.1s acceptance rate space 0.529200 time 0.512400"
       ]
      },
      {
       "output_type": "stream",
       "stream": "stdout",
       "text": [
        "\n",
        "step 1850: lon 21.8 lat 36.7 time 1238262508.7 spatial err 16.1km time err 0.7s acceptance rate space 0.544800 time 0.529600"
       ]
      },
      {
       "output_type": "stream",
       "stream": "stdout",
       "text": [
        "\n",
        "step 1900: lon 22.1 lat 36.7 time 1238262509.9 spatial err 27.5km time err 0.5s acceptance rate space 0.560800 time 0.544000"
       ]
      },
      {
       "output_type": "stream",
       "stream": "stdout",
       "text": [
        "\n",
        "step 1950: lon 21.9 lat 36.5 time 1238262509.7 spatial err 7.3km time err 0.3s acceptance rate space 0.575600 time 0.558000"
       ]
      },
      {
       "output_type": "stream",
       "stream": "stdout",
       "text": [
        "\n",
        "step 2000: lon 21.9 lat 36.5 time 1238262508.4 spatial err 1.9km time err 1.0s acceptance rate space 0.589600 time 0.572800"
       ]
      },
      {
       "output_type": "stream",
       "stream": "stdout",
       "text": [
        "\n",
        "step 2050: lon 22.1 lat 36.5 time 1238262509.4 spatial err 20.8km time err 0.0s acceptance rate space 0.604000 time 0.586800"
       ]
      },
      {
       "output_type": "stream",
       "stream": "stdout",
       "text": [
        "\n",
        "step 2100: lon 22.0 lat 36.5 time 1238262510.4 spatial err 14.1km time err 1.0s acceptance rate space 0.615600 time 0.600400"
       ]
      },
      {
       "output_type": "stream",
       "stream": "stdout",
       "text": [
        "\n",
        "step 2150: lon 21.9 lat 36.5 time 1238262508.7 spatial err 6.2km time err 0.7s acceptance rate space 0.630800 time 0.614400"
       ]
      },
      {
       "output_type": "stream",
       "stream": "stdout",
       "text": [
        "\n",
        "step 2200: lon 21.9 lat 36.6 time 1238262510.0 spatial err 15.6km time err 0.6s acceptance rate space 0.644000 time 0.627600"
       ]
      },
      {
       "output_type": "stream",
       "stream": "stdout",
       "text": [
        "\n",
        "step 2250: lon 21.9 lat 36.5 time 1238262510.7 spatial err 10.7km time err 1.3s acceptance rate space 0.657200 time 0.643200"
       ]
      },
      {
       "output_type": "stream",
       "stream": "stdout",
       "text": [
        "\n",
        "step 2300: lon 21.7 lat 36.6 time 1238262508.2 spatial err 16.2km time err 1.2s acceptance rate space 0.668400 time 0.655200"
       ]
      },
      {
       "output_type": "stream",
       "stream": "stdout",
       "text": [
        "\n",
        "step 2350: lon 22.0 lat 36.9 time 1238262512.1 spatial err 38.8km time err 2.7s acceptance rate space 0.682000 time 0.669600"
       ]
      },
      {
       "output_type": "stream",
       "stream": "stdout",
       "text": [
        "\n",
        "step 2400: lon 22.0 lat 36.5 time 1238262509.2 spatial err 17.7km time err 0.3s acceptance rate space 0.698800 time 0.685600"
       ]
      },
      {
       "output_type": "stream",
       "stream": "stdout",
       "text": [
        "\n",
        "step 2450: lon 21.8 lat 36.4 time 1238262508.9 spatial err 11.5km time err 0.5s acceptance rate space 0.713600 time 0.699200"
       ]
      },
      {
       "output_type": "stream",
       "stream": "stdout",
       "text": [
        "\n",
        "true ev:"
       ]
      },
      {
       "output_type": "stream",
       "stream": "stdout",
       "text": [
        " evid None, loc 21.83 E 36.53 N, depth 0.0km, time 1238262509.4, mb 4.0, natural source\n",
        "mean lon 21.91, lat 36.57, time 1238262509.59\n",
        "stds: lon 0.12, lat 0.11, time 1.16\n",
        "mean: spatial err 8.1695km time err 0.1772s\n",
        "first atime"
       ]
      },
      {
       "output_type": "stream",
       "stream": "stdout",
       "text": [
        " 1238262656.89\n",
        "gridsearch: new best ll"
       ]
      },
      {
       "output_type": "stream",
       "stream": "stdout",
       "text": [
        " [-6273.53451144] at (20.0, 30.0, 1238262356.8904216)\n",
        "gridsearch: new best ll"
       ]
      },
      {
       "output_type": "stream",
       "stream": "stdout",
       "text": [
        " [-4921.79430165] at (20.0, 30.0, 1238262372.6798954)\n",
        "gridsearch: new best ll"
       ]
      },
      {
       "output_type": "stream",
       "stream": "stdout",
       "text": [
        " [-3761.82909393] at (20.0, 30.0, 1238262388.4693689)\n",
        "gridsearch: new best ll"
       ]
      },
      {
       "output_type": "stream",
       "stream": "stdout",
       "text": [
        " [-2793.63885326] at (20.0, 30.0, 1238262404.2588427)\n",
        "gridsearch: new best ll"
       ]
      },
      {
       "output_type": "stream",
       "stream": "stdout",
       "text": [
        " [-2017.22359859] at (20.0, 30.0, 1238262420.0483165)\n",
        "gridsearch: new best ll"
       ]
      },
      {
       "output_type": "stream",
       "stream": "stdout",
       "text": [
        " [-1432.5833373] at (20.0, 30.0, 1238262435.83779)\n",
        "gridsearch: new best ll"
       ]
      },
      {
       "output_type": "stream",
       "stream": "stdout",
       "text": [
        " [-1039.71805175] at (20.0, 30.0, 1238262451.6272638)\n",
        "gridsearch: new best ll"
       ]
      },
      {
       "output_type": "stream",
       "stream": "stdout",
       "text": [
        " [-838.62775378] at (20.0, 30.0, 1238262467.4167373)\n",
        "gridsearch: new best ll"
       ]
      },
      {
       "output_type": "stream",
       "stream": "stdout",
       "text": [
        " [-829.31243734] at (20.0, 30.0, 1238262483.2062111)\n",
        "gridsearch: new best ll"
       ]
      },
      {
       "output_type": "stream",
       "stream": "stdout",
       "text": [
        " [-697.29169915] at (20.0, 32.222222222222221, 1238262467.4167373)\n",
        "gridsearch: new best ll"
       ]
      },
      {
       "output_type": "stream",
       "stream": "stdout",
       "text": [
        " [-552.5651377] at (20.0, 32.222222222222221, 1238262483.2062111)\n",
        "gridsearch: new best ll"
       ]
      },
      {
       "output_type": "stream",
       "stream": "stdout",
       "text": [
        " [-461.49043411] at (20.0, 34.444444444444443, 1238262483.2062111)\n",
        "gridsearch: new best ll"
       ]
      },
      {
       "output_type": "stream",
       "stream": "stdout",
       "text": [
        " [-388.36306023] at (20.0, 34.444444444444443, 1238262498.9956849)\n",
        "gridsearch: new best ll"
       ]
      },
      {
       "output_type": "stream",
       "stream": "stdout",
       "text": [
        " [-362.38516469] at (22.222222222222221, 34.444444444444443, 1238262498.9956849)\n",
        "gridsearch: new best ll"
       ]
      },
      {
       "output_type": "stream",
       "stream": "stdout",
       "text": [
        " [-308.5657813] at (22.222222222222221, 36.666666666666664, 1238262514.7851584)\n",
        "true ev"
       ]
      },
      {
       "output_type": "stream",
       "stream": "stdout",
       "text": [
        " evid None, loc 21.83 E 36.53 N, depth 0.0km, time 1238262509.4, mb 4.0, natural source\n",
        "intialized from grid search: evid None, loc 22.22 E 36.67 N, depth 0.0km, time 1238262514.8, mb 4.0, natural source\n",
        "step 0: lon 22.1 lat 36.7 time 1238262514.2 spatial err 30.7km time err 4.8s acceptance rate space 0.000400 time 0.000400"
       ]
      },
      {
       "output_type": "stream",
       "stream": "stdout",
       "text": [
        "\n",
        "step 50: lon 21.8 lat 36.5 time 1238262508.2 spatial err 3.1km time err 1.2s acceptance rate space 0.008000 time 0.015200"
       ]
      },
      {
       "output_type": "stream",
       "stream": "stdout",
       "text": [
        "\n",
        "step 100: lon 21.8 lat 36.6 time 1238262507.5 spatial err 6.3km time err 1.9s acceptance rate space 0.012800 time 0.030400"
       ]
      },
      {
       "output_type": "stream",
       "stream": "stdout",
       "text": [
        "\n",
        "step 150: lon 21.9 lat 36.5 time 1238262508.5 spatial err 4.2km time err 0.9s acceptance rate space 0.019200 time 0.043200"
       ]
      },
      {
       "output_type": "stream",
       "stream": "stdout",
       "text": [
        "\n",
        "step 200: lon 21.9 lat 36.5 time 1238262510.3 spatial err 2.8km time err 0.9s acceptance rate space 0.025200 time 0.058000"
       ]
      },
      {
       "output_type": "stream",
       "stream": "stdout",
       "text": [
        "\n",
        "step 250: lon 21.8 lat 36.5 time 1238262510.5 spatial err 4.6km time err 1.1s acceptance rate space 0.030800 time 0.071200"
       ]
      },
      {
       "output_type": "stream",
       "stream": "stdout",
       "text": [
        "\n",
        "step 300: lon 21.8 lat 36.6 time 1238262508.2 spatial err 3.3km time err 1.3s acceptance rate space 0.034800 time 0.086800"
       ]
      },
      {
       "output_type": "stream",
       "stream": "stdout",
       "text": [
        "\n",
        "step 350: lon 21.9 lat 36.5 time 1238262510.6 spatial err 3.8km time err 1.2s acceptance rate space 0.039200 time 0.100800"
       ]
      },
      {
       "output_type": "stream",
       "stream": "stdout",
       "text": [
        "\n",
        "step 400: lon 21.8 lat 36.6 time 1238262507.9 spatial err 2.9km time err 1.5s acceptance rate space 0.045200 time 0.116400"
       ]
      },
      {
       "output_type": "stream",
       "stream": "stdout",
       "text": [
        "\n",
        "step 450: lon 21.8 lat 36.5 time 1238262508.9 spatial err 3.5km time err 0.5s acceptance rate space 0.049600 time 0.129600"
       ]
      },
      {
       "output_type": "stream",
       "stream": "stdout",
       "text": [
        "\n",
        "step 500: lon 21.9 lat 36.5 time 1238262509.1 spatial err 2.3km time err 0.3s acceptance rate space 0.055200 time 0.142800"
       ]
      },
      {
       "output_type": "stream",
       "stream": "stdout",
       "text": [
        "\n",
        "step 550: lon 21.8 lat 36.5 time 1238262509.9 spatial err 2.7km time err 0.5s acceptance rate space 0.064800 time 0.156400"
       ]
      },
      {
       "output_type": "stream",
       "stream": "stdout",
       "text": [
        "\n",
        "step 600: lon 21.8 lat 36.5 time 1238262508.6 spatial err 1.4km time err 0.8s acceptance rate space 0.071200 time 0.172000"
       ]
      },
      {
       "output_type": "stream",
       "stream": "stdout",
       "text": [
        "\n",
        "step 650: lon 21.8 lat 36.6 time 1238262509.5 spatial err 7.0km time err 0.1s acceptance rate space 0.075200 time 0.184000"
       ]
      },
      {
       "output_type": "stream",
       "stream": "stdout",
       "text": [
        "\n",
        "step 700: lon 21.8 lat 36.6 time 1238262510.4 spatial err 2.9km time err 1.0s acceptance rate space 0.077200 time 0.198000"
       ]
      },
      {
       "output_type": "stream",
       "stream": "stdout",
       "text": [
        "\n",
        "step 750: lon 21.8 lat 36.5 time 1238262510.2 spatial err 0.7km time err 0.8s acceptance rate space 0.084000 time 0.212800"
       ]
      },
      {
       "output_type": "stream",
       "stream": "stdout",
       "text": [
        "\n",
        "step 800: lon 21.8 lat 36.5 time 1238262509.3 spatial err 2.6km time err 0.1s acceptance rate space 0.088000 time 0.226800"
       ]
      },
      {
       "output_type": "stream",
       "stream": "stdout",
       "text": [
        "\n",
        "step 850: lon 21.7 lat 36.3 time 1238262510.1 spatial err 31.0km time err 0.7s acceptance rate space 0.094000 time 0.240400"
       ]
      },
      {
       "output_type": "stream",
       "stream": "stdout",
       "text": [
        "\n",
        "step 900: lon 21.8 lat 36.1 time 1238262507.5 spatial err 44.1km time err 1.9s acceptance rate space 0.107200 time 0.254800"
       ]
      },
      {
       "output_type": "stream",
       "stream": "stdout",
       "text": [
        "\n",
        "step 950: lon 21.8 lat 36.5 time 1238262510.6 spatial err 2.5km time err 1.2s acceptance rate space 0.123600 time 0.270800"
       ]
      },
      {
       "output_type": "stream",
       "stream": "stdout",
       "text": [
        "\n",
        "step 1000: lon 21.8 lat 36.5 time 1238262509.2 spatial err 2.6km time err 0.2s acceptance rate space 0.128000 time 0.284400"
       ]
      },
      {
       "output_type": "stream",
       "stream": "stdout",
       "text": [
        "\n",
        "step 1050: lon 21.9 lat 36.5 time 1238262509.1 spatial err 2.7km time err 0.3s acceptance rate space 0.134000 time 0.297200"
       ]
      },
      {
       "output_type": "stream",
       "stream": "stdout",
       "text": [
        "\n",
        "step 1100: lon 21.8 lat 36.6 time 1238262508.8 spatial err 4.5km time err 0.6s acceptance rate space 0.138800 time 0.310400"
       ]
      },
      {
       "output_type": "stream",
       "stream": "stdout",
       "text": [
        "\n",
        "step 1150: lon 21.8 lat 36.6 time 1238262510.4 spatial err 4.5km time err 1.0s acceptance rate space 0.142800 time 0.323200"
       ]
      },
      {
       "output_type": "stream",
       "stream": "stdout",
       "text": [
        "\n",
        "step 1200: lon 21.8 lat 36.5 time 1238262508.7 spatial err 2.7km time err 0.7s acceptance rate space 0.148400 time 0.336000"
       ]
      },
      {
       "output_type": "stream",
       "stream": "stdout",
       "text": [
        "\n",
        "step 1250: lon 21.8 lat 36.6 time 1238262510.4 spatial err 7.4km time err 1.0s acceptance rate space 0.154400 time 0.350400"
       ]
      },
      {
       "output_type": "stream",
       "stream": "stdout",
       "text": [
        "\n",
        "step 1300: lon 21.8 lat 36.5 time 1238262508.5 spatial err 2.3km time err 0.9s acceptance rate space 0.158800 time 0.366800"
       ]
      },
      {
       "output_type": "stream",
       "stream": "stdout",
       "text": [
        "\n",
        "step 1350: lon 21.8 lat 36.5 time 1238262509.8 spatial err 2.9km time err 0.4s acceptance rate space 0.162400 time 0.381200"
       ]
      },
      {
       "output_type": "stream",
       "stream": "stdout",
       "text": [
        "\n",
        "step 1400: lon 21.9 lat 36.5 time 1238262508.4 spatial err 1.9km time err 1.0s acceptance rate space 0.167600 time 0.396800"
       ]
      },
      {
       "output_type": "stream",
       "stream": "stdout",
       "text": [
        "\n",
        "step 1450: lon 21.8 lat 36.6 time 1238262509.6 spatial err 2.9km time err 0.2s acceptance rate space 0.172800 time 0.410800"
       ]
      },
      {
       "output_type": "stream",
       "stream": "stdout",
       "text": [
        "\n",
        "step 1500: lon 21.8 lat 36.5 time 1238262510.2 spatial err 3.1km time err 0.7s acceptance rate space 0.178000 time 0.422400"
       ]
      },
      {
       "output_type": "stream",
       "stream": "stdout",
       "text": [
        "\n",
        "step 1550: lon 21.8 lat 36.5 time 1238262509.1 spatial err 2.4km time err 0.3s acceptance rate space 0.183200 time 0.435600"
       ]
      },
      {
       "output_type": "stream",
       "stream": "stdout",
       "text": [
        "\n",
        "step 1600: lon 21.8 lat 36.5 time 1238262508.4 spatial err 1.3km time err 1.1s acceptance rate space 0.187200 time 0.450000"
       ]
      },
      {
       "output_type": "stream",
       "stream": "stdout",
       "text": [
        "\n",
        "step 1650: lon 21.8 lat 36.5 time 1238262510.6 spatial err 1.7km time err 1.2s acceptance rate space 0.191600 time 0.463600"
       ]
      },
      {
       "output_type": "stream",
       "stream": "stdout",
       "text": [
        "\n",
        "step 1700: lon 21.8 lat 36.5 time 1238262510.0 spatial err 3.2km time err 0.6s acceptance rate space 0.197200 time 0.479200"
       ]
      },
      {
       "output_type": "stream",
       "stream": "stdout",
       "text": [
        "\n",
        "step 1750: lon 21.8 lat 36.5 time 1238262509.0 spatial err 7.5km time err 0.4s acceptance rate space 0.203200 time 0.493200"
       ]
      },
      {
       "output_type": "stream",
       "stream": "stdout",
       "text": [
        "\n",
        "step 1800: lon 21.8 lat 36.5 time 1238262508.1 spatial err 6.9km time err 1.3s acceptance rate space 0.208400 time 0.508800"
       ]
      },
      {
       "output_type": "stream",
       "stream": "stdout",
       "text": [
        "\n",
        "step 1850: lon 21.8 lat 36.6 time 1238262510.0 spatial err 5.7km time err 0.6s acceptance rate space 0.215600 time 0.525200"
       ]
      },
      {
       "output_type": "stream",
       "stream": "stdout",
       "text": [
        "\n",
        "step 1900: lon 21.8 lat 36.6 time 1238262509.9 spatial err 4.8km time err 0.5s acceptance rate space 0.220800 time 0.539200"
       ]
      },
      {
       "output_type": "stream",
       "stream": "stdout",
       "text": [
        "\n",
        "step 1950: lon 21.8 lat 36.5 time 1238262510.3 spatial err 2.9km time err 0.8s acceptance rate space 0.224800 time 0.556000"
       ]
      },
      {
       "output_type": "stream",
       "stream": "stdout",
       "text": [
        "\n",
        "step 2000: lon 21.8 lat 36.5 time 1238262511.4 spatial err 4.1km time err 2.0s acceptance rate space 0.229600 time 0.570400"
       ]
      },
      {
       "output_type": "stream",
       "stream": "stdout",
       "text": [
        "\n",
        "step 2050: lon 21.8 lat 36.6 time 1238262508.5 spatial err 2.9km time err 0.9s acceptance rate space 0.232400 time 0.584000"
       ]
      },
      {
       "output_type": "stream",
       "stream": "stdout",
       "text": [
        "\n",
        "step 2100: lon 21.8 lat 36.5 time 1238262508.3 spatial err 0.7km time err 1.1s acceptance rate space 0.235600 time 0.598000"
       ]
      },
      {
       "output_type": "stream",
       "stream": "stdout",
       "text": [
        "\n",
        "step 2150: lon 21.8 lat 36.5 time 1238262510.4 spatial err 3.4km time err 1.0s acceptance rate space 0.242800 time 0.612000"
       ]
      },
      {
       "output_type": "stream",
       "stream": "stdout",
       "text": [
        "\n",
        "step 2200: lon 21.8 lat 36.5 time 1238262509.7 spatial err 3.0km time err 0.3s acceptance rate space 0.247200 time 0.623600"
       ]
      },
      {
       "output_type": "stream",
       "stream": "stdout",
       "text": [
        "\n",
        "step 2250: lon 21.9 lat 36.5 time 1238262511.9 spatial err 2.9km time err 2.5s acceptance rate space 0.252400 time 0.636400"
       ]
      },
      {
       "output_type": "stream",
       "stream": "stdout",
       "text": [
        "\n",
        "step 2300: lon 21.8 lat 36.5 time 1238262509.6 spatial err 4.6km time err 0.2s acceptance rate space 0.258000 time 0.651600"
       ]
      },
      {
       "output_type": "stream",
       "stream": "stdout",
       "text": [
        "\n",
        "step 2350: lon 21.8 lat 36.5 time 1238262510.0 spatial err 0.8km time err 0.6s acceptance rate space 0.263600 time 0.664000"
       ]
      },
      {
       "output_type": "stream",
       "stream": "stdout",
       "text": [
        "\n",
        "step 2400: lon 21.8 lat 36.6 time 1238262509.2 spatial err 3.2km time err 0.2s acceptance rate space 0.272400 time 0.678000"
       ]
      },
      {
       "output_type": "stream",
       "stream": "stdout",
       "text": [
        "\n",
        "step 2450: lon 21.8 lat 36.6 time 1238262509.7 spatial err 5.4km time err 0.3s acceptance rate space 0.279600 time 0.692800"
       ]
      },
      {
       "output_type": "stream",
       "stream": "stdout",
       "text": [
        "\n",
        "true ev:"
       ]
      },
      {
       "output_type": "stream",
       "stream": "stdout",
       "text": [
        " evid None, loc 21.83 E 36.53 N, depth 0.0km, time 1238262509.4, mb 4.0, natural source\n",
        "mean lon 21.82, lat 36.52, time 1238262509.44\n",
        "stds: lon 0.04, lat 0.06, time 0.92\n",
        "mean: spatial err 1.6025km time err 0.0277s\n",
        "first atime"
       ]
      },
      {
       "output_type": "stream",
       "stream": "stdout",
       "text": [
        " 1238262650.53\n",
        "gridsearch: new best ll"
       ]
      },
      {
       "output_type": "stream",
       "stream": "stdout",
       "text": [
        " [-7370.44808364] at (20.0, 30.0, 1238262350.5284531)\n",
        "gridsearch: new best ll"
       ]
      },
      {
       "output_type": "stream",
       "stream": "stdout",
       "text": [
        " [-5927.68598795] at (20.0, 30.0, 1238262366.3179269)\n",
        "gridsearch: new best ll"
       ]
      },
      {
       "output_type": "stream",
       "stream": "stdout",
       "text": [
        " [-4676.6988957] at (20.0, 30.0, 1238262382.1074004)\n",
        "gridsearch: new best ll"
       ]
      },
      {
       "output_type": "stream",
       "stream": "stdout",
       "text": [
        " [-3617.48676912] at (20.0, 30.0, 1238262397.8968742)\n",
        "gridsearch: new best ll"
       ]
      },
      {
       "output_type": "stream",
       "stream": "stdout",
       "text": [
        " [-2750.04962855] at (20.0, 30.0, 1238262413.686348)\n",
        "gridsearch: new best ll"
       ]
      },
      {
       "output_type": "stream",
       "stream": "stdout",
       "text": [
        " [-2074.38748274] at (20.0, 30.0, 1238262429.4758215)\n",
        "gridsearch: new best ll"
       ]
      },
      {
       "output_type": "stream",
       "stream": "stdout",
       "text": [
        " [-1590.50031128] at (20.0, 30.0, 1238262445.2652953)\n",
        "gridsearch: new best ll"
       ]
      },
      {
       "output_type": "stream",
       "stream": "stdout",
       "text": [
        " [-1298.38812879] at (20.0, 30.0, 1238262461.0547688)\n",
        "gridsearch: new best ll"
       ]
      },
      {
       "output_type": "stream",
       "stream": "stdout",
       "text": [
        " [-1198.05092644] at (20.0, 30.0, 1238262476.8442426)\n",
        "gridsearch: new best ll"
       ]
      },
      {
       "output_type": "stream",
       "stream": "stdout",
       "text": [
        " [-1177.72523234] at (20.0, 32.222222222222221, 1238262461.0547688)\n",
        "gridsearch: new best ll"
       ]
      },
      {
       "output_type": "stream",
       "stream": "stdout",
       "text": [
        " [-941.97678498] at (20.0, 32.222222222222221, 1238262476.8442426)\n",
        "gridsearch: new best ll"
       ]
      },
      {
       "output_type": "stream",
       "stream": "stdout",
       "text": [
        " [-898.00332363] at (20.0, 32.222222222222221, 1238262492.6337163)\n",
        "gridsearch: new best ll"
       ]
      },
      {
       "output_type": "stream",
       "stream": "stdout",
       "text": [
        " [-859.72749874] at (20.0, 34.444444444444443, 1238262476.8442426)\n",
        "gridsearch: new best ll"
       ]
      },
      {
       "output_type": "stream",
       "stream": "stdout",
       "text": [
        " [-695.57853986] at (20.0, 34.444444444444443, 1238262492.6337163)\n",
        "gridsearch: new best ll"
       ]
      },
      {
       "output_type": "stream",
       "stream": "stdout",
       "text": [
        " [-630.54121421] at (20.0, 36.666666666666664, 1238262508.4231899)\n",
        "gridsearch: new best ll"
       ]
      },
      {
       "output_type": "stream",
       "stream": "stdout",
       "text": [
        " [-569.97893409] at (22.222222222222221, 36.666666666666664, 1238262508.4231899)\n",
        "true ev"
       ]
      },
      {
       "output_type": "stream",
       "stream": "stdout",
       "text": [
        " evid None, loc 21.83 E 36.53 N, depth 0.0km, time 1238262509.4, mb 4.0, natural source\n",
        "intialized from grid search: evid None, loc 22.22 E 36.67 N, depth 0.0km, time 1238262508.4, mb 4.0, natural source\n",
        "step 0: lon 22.2 lat 36.7 time 1238262509.1 spatial err 32.8km time err 0.3s acceptance rate space 0.000400 time 0.000400"
       ]
      },
      {
       "output_type": "stream",
       "stream": "stdout",
       "text": [
        "\n",
        "step 50: lon 21.8 lat 36.6 time 1238262509.7 spatial err 4.9km time err 0.3s acceptance rate space 0.006400 time 0.013600"
       ]
      },
      {
       "output_type": "stream",
       "stream": "stdout",
       "text": [
        "\n",
        "step 100: lon 21.8 lat 36.5 time 1238262509.8 spatial err 4.2km time err 0.4s acceptance rate space 0.011600 time 0.029200"
       ]
      },
      {
       "output_type": "stream",
       "stream": "stdout",
       "text": [
        "\n",
        "step 150: lon 21.8 lat 36.6 time 1238262510.0 spatial err 3.4km time err 0.6s acceptance rate space 0.017600 time 0.041200"
       ]
      },
      {
       "output_type": "stream",
       "stream": "stdout",
       "text": [
        "\n",
        "step 200: lon 21.8 lat 36.5 time 1238262510.7 spatial err 1.7km time err 1.3s acceptance rate space 0.022800 time 0.055600"
       ]
      },
      {
       "output_type": "stream",
       "stream": "stdout",
       "text": [
        "\n",
        "step 250: lon 21.8 lat 36.5 time 1238262509.0 spatial err 5.2km time err 0.4s acceptance rate space 0.029600 time 0.069600"
       ]
      },
      {
       "output_type": "stream",
       "stream": "stdout",
       "text": [
        "\n",
        "step 300: lon 21.8 lat 36.6 time 1238262511.4 spatial err 5.4km time err 2.0s acceptance rate space 0.035200 time 0.080400"
       ]
      },
      {
       "output_type": "stream",
       "stream": "stdout",
       "text": [
        "\n",
        "step 350: lon 21.8 lat 36.6 time 1238262510.2 spatial err 4.1km time err 0.8s acceptance rate space 0.038000 time 0.096000"
       ]
      },
      {
       "output_type": "stream",
       "stream": "stdout",
       "text": [
        "\n",
        "step 400: lon 21.8 lat 36.6 time 1238262510.1 spatial err 7.1km time err 0.7s acceptance rate space 0.042400 time 0.110000"
       ]
      },
      {
       "output_type": "stream",
       "stream": "stdout",
       "text": [
        "\n",
        "step 450: lon 21.8 lat 36.5 time 1238262510.6 spatial err 6.2km time err 1.2s acceptance rate space 0.048400 time 0.124400"
       ]
      },
      {
       "output_type": "stream",
       "stream": "stdout",
       "text": [
        "\n",
        "step 500: lon 21.8 lat 36.5 time 1238262511.3 spatial err 2.9km time err 1.9s acceptance rate space 0.054800 time 0.137600"
       ]
      },
      {
       "output_type": "stream",
       "stream": "stdout",
       "text": [
        "\n",
        "step 550: lon 21.8 lat 36.5 time 1238262509.7 spatial err 2.0km time err 0.3s acceptance rate space 0.059200 time 0.149600"
       ]
      },
      {
       "output_type": "stream",
       "stream": "stdout",
       "text": [
        "\n",
        "step 600: lon 21.8 lat 36.5 time 1238262509.9 spatial err 3.6km time err 0.5s acceptance rate space 0.065200 time 0.162400"
       ]
      },
      {
       "output_type": "stream",
       "stream": "stdout",
       "text": [
        "\n",
        "step 650: lon 21.8 lat 36.6 time 1238262509.7 spatial err 4.0km time err 0.3s acceptance rate space 0.069200 time 0.176800"
       ]
      },
      {
       "output_type": "stream",
       "stream": "stdout",
       "text": [
        "\n",
        "step 700: lon 21.8 lat 36.5 time 1238262508.8 spatial err 3.7km time err 0.6s acceptance rate space 0.074800 time 0.191600"
       ]
      },
      {
       "output_type": "stream",
       "stream": "stdout",
       "text": [
        "\n",
        "step 750: lon 21.8 lat 36.5 time 1238262509.9 spatial err 4.0km time err 0.5s acceptance rate space 0.082400 time 0.207200"
       ]
      },
      {
       "output_type": "stream",
       "stream": "stdout",
       "text": [
        "\n",
        "step 800: lon 21.8 lat 36.6 time 1238262510.4 spatial err 7.5km time err 1.0s acceptance rate space 0.088000 time 0.220400"
       ]
      },
      {
       "output_type": "stream",
       "stream": "stdout",
       "text": [
        "\n",
        "step 850: lon 21.8 lat 36.5 time 1238262510.3 spatial err 4.7km time err 0.9s acceptance rate space 0.092800 time 0.234400"
       ]
      },
      {
       "output_type": "stream",
       "stream": "stdout",
       "text": [
        "\n",
        "step 900: lon 21.8 lat 36.6 time 1238262509.1 spatial err 6.5km time err 0.3s acceptance rate space 0.097600 time 0.248400"
       ]
      },
      {
       "output_type": "stream",
       "stream": "stdout",
       "text": [
        "\n",
        "step 950: lon 21.8 lat 36.5 time 1238262511.5 spatial err 0.7km time err 2.1s acceptance rate space 0.103200 time 0.263600"
       ]
      },
      {
       "output_type": "stream",
       "stream": "stdout",
       "text": [
        "\n",
        "step 1000: lon 21.8 lat 36.6 time 1238262511.3 spatial err 5.3km time err 1.9s acceptance rate space 0.107200 time 0.278400"
       ]
      },
      {
       "output_type": "stream",
       "stream": "stdout",
       "text": [
        "\n",
        "step 1050: lon 21.8 lat 36.6 time 1238262509.6 spatial err 5.2km time err 0.1s acceptance rate space 0.111600 time 0.294400"
       ]
      },
      {
       "output_type": "stream",
       "stream": "stdout",
       "text": [
        "\n",
        "step 1100: lon 21.8 lat 36.6 time 1238262511.4 spatial err 5.4km time err 2.0s acceptance rate space 0.114400 time 0.310000"
       ]
      },
      {
       "output_type": "stream",
       "stream": "stdout",
       "text": [
        "\n",
        "step 1150: lon 21.8 lat 36.6 time 1238262510.0 spatial err 3.0km time err 0.6s acceptance rate space 0.118800 time 0.325200"
       ]
      },
      {
       "output_type": "stream",
       "stream": "stdout",
       "text": [
        "\n",
        "step 1200: lon 21.8 lat 36.6 time 1238262510.6 spatial err 5.9km time err 1.2s acceptance rate space 0.122400 time 0.340000"
       ]
      },
      {
       "output_type": "stream",
       "stream": "stdout",
       "text": [
        "\n",
        "step 1250: lon 21.8 lat 36.6 time 1238262510.2 spatial err 5.5km time err 0.8s acceptance rate space 0.128400 time 0.353200"
       ]
      },
      {
       "output_type": "stream",
       "stream": "stdout",
       "text": [
        "\n",
        "step 1300: lon 21.8 lat 36.6 time 1238262511.0 spatial err 2.7km time err 1.6s acceptance rate space 0.132400 time 0.365600"
       ]
      },
      {
       "output_type": "stream",
       "stream": "stdout",
       "text": [
        "\n",
        "step 1350: lon 21.8 lat 36.6 time 1238262509.9 spatial err 5.3km time err 0.5s acceptance rate space 0.135600 time 0.378800"
       ]
      },
      {
       "output_type": "stream",
       "stream": "stdout",
       "text": [
        "\n",
        "step 1400: lon 21.8 lat 36.6 time 1238262509.9 spatial err 4.0km time err 0.5s acceptance rate space 0.139600 time 0.390400"
       ]
      },
      {
       "output_type": "stream",
       "stream": "stdout",
       "text": [
        "\n",
        "step 1450: lon 21.8 lat 36.5 time 1238262510.2 spatial err 4.5km time err 0.8s acceptance rate space 0.143600 time 0.404400"
       ]
      },
      {
       "output_type": "stream",
       "stream": "stdout",
       "text": [
        "\n",
        "step 1500: lon 21.8 lat 36.5 time 1238262511.4 spatial err 5.0km time err 2.0s acceptance rate space 0.148000 time 0.418400"
       ]
      },
      {
       "output_type": "stream",
       "stream": "stdout",
       "text": [
        "\n",
        "step 1550: lon 21.8 lat 36.6 time 1238262510.2 spatial err 7.8km time err 0.8s acceptance rate space 0.153200 time 0.431600"
       ]
      },
      {
       "output_type": "stream",
       "stream": "stdout",
       "text": [
        "\n",
        "step 1600: lon 21.9 lat 36.5 time 1238262510.0 spatial err 2.5km time err 0.5s acceptance rate space 0.157600 time 0.446800"
       ]
      },
      {
       "output_type": "stream",
       "stream": "stdout",
       "text": [
        "\n",
        "step 1650: lon 21.8 lat 36.5 time 1238262509.6 spatial err 5.5km time err 0.2s acceptance rate space 0.162000 time 0.460000"
       ]
      },
      {
       "output_type": "stream",
       "stream": "stdout",
       "text": [
        "\n",
        "step 1700: lon 21.8 lat 36.6 time 1238262510.6 spatial err 7.5km time err 1.2s acceptance rate space 0.166400 time 0.473600"
       ]
      },
      {
       "output_type": "stream",
       "stream": "stdout",
       "text": [
        "\n",
        "step 1750: lon 21.8 lat 36.6 time 1238262510.2 spatial err 7.3km time err 0.8s acceptance rate space 0.170400 time 0.486800"
       ]
      },
      {
       "output_type": "stream",
       "stream": "stdout",
       "text": [
        "\n",
        "step 1800: lon 21.8 lat 36.6 time 1238262510.6 spatial err 6.2km time err 1.1s acceptance rate space 0.175200 time 0.500400"
       ]
      },
      {
       "output_type": "stream",
       "stream": "stdout",
       "text": [
        "\n",
        "step 1850: lon 21.8 lat 36.6 time 1238262509.9 spatial err 7.1km time err 0.5s acceptance rate space 0.178000 time 0.514000"
       ]
      },
      {
       "output_type": "stream",
       "stream": "stdout",
       "text": [
        "\n",
        "step 1900: lon 21.8 lat 36.6 time 1238262511.4 spatial err 3.0km time err 2.0s acceptance rate space 0.180400 time 0.528400"
       ]
      },
      {
       "output_type": "stream",
       "stream": "stdout",
       "text": [
        "\n",
        "step 1950: lon 21.8 lat 36.5 time 1238262509.7 spatial err 1.8km time err 0.3s acceptance rate space 0.182000 time 0.542400"
       ]
      },
      {
       "output_type": "stream",
       "stream": "stdout",
       "text": [
        "\n",
        "step 2000: lon 21.8 lat 36.6 time 1238262511.9 spatial err 6.0km time err 2.5s acceptance rate space 0.187600 time 0.554800"
       ]
      },
      {
       "output_type": "stream",
       "stream": "stdout",
       "text": [
        "\n",
        "step 2050: lon 21.8 lat 36.5 time 1238262509.5 spatial err 3.6km time err 0.1s acceptance rate space 0.191200 time 0.568000"
       ]
      },
      {
       "output_type": "stream",
       "stream": "stdout",
       "text": [
        "\n",
        "step 2100: lon 21.8 lat 36.6 time 1238262511.4 spatial err 3.1km time err 2.0s acceptance rate space 0.196400 time 0.580400"
       ]
      },
      {
       "output_type": "stream",
       "stream": "stdout",
       "text": [
        "\n",
        "step 2150: lon 21.8 lat 36.5 time 1238262510.1 spatial err 2.1km time err 0.7s acceptance rate space 0.203600 time 0.594400"
       ]
      },
      {
       "output_type": "stream",
       "stream": "stdout",
       "text": [
        "\n",
        "step 2200: lon 21.8 lat 36.6 time 1238262510.7 spatial err 5.7km time err 1.3s acceptance rate space 0.208400 time 0.610000"
       ]
      },
      {
       "output_type": "stream",
       "stream": "stdout",
       "text": [
        "\n",
        "step 2250: lon 21.8 lat 36.5 time 1238262510.1 spatial err 0.6km time err 0.7s acceptance rate space 0.214000 time 0.620400"
       ]
      },
      {
       "output_type": "stream",
       "stream": "stdout",
       "text": [
        "\n",
        "step 2300: lon 21.8 lat 36.6 time 1238262508.6 spatial err 5.6km time err 0.8s acceptance rate space 0.221200 time 0.633200"
       ]
      },
      {
       "output_type": "stream",
       "stream": "stdout",
       "text": [
        "\n",
        "step 2350: lon 21.8 lat 36.6 time 1238262511.0 spatial err 4.7km time err 1.6s acceptance rate space 0.224800 time 0.647600"
       ]
      },
      {
       "output_type": "stream",
       "stream": "stdout",
       "text": [
        "\n",
        "step 2400: lon 21.8 lat 36.6 time 1238262510.5 spatial err 4.1km time err 1.1s acceptance rate space 0.228000 time 0.662800"
       ]
      },
      {
       "output_type": "stream",
       "stream": "stdout",
       "text": [
        "\n",
        "step 2450: lon 21.8 lat 36.6 time 1238262510.8 spatial err 4.3km time err 1.4s acceptance rate space 0.232800 time 0.676400"
       ]
      },
      {
       "output_type": "stream",
       "stream": "stdout",
       "text": [
        "\n",
        "true ev:"
       ]
      },
      {
       "output_type": "stream",
       "stream": "stdout",
       "text": [
        " evid None, loc 21.83 E 36.53 N, depth 0.0km, time 1238262509.4, mb 4.0, natural source\n",
        "mean lon 21.81, lat 36.55, time 1238262510.39\n",
        "stds: lon 0.02, lat 0.02, time 1.00\n",
        "mean: spatial err 3.7179km time err 0.9786s\n"
       ]
      },
      {
       "output_type": "stream",
       "stream": "stderr",
       "text": [
        "/home/dmoore/python/sigvisa/treegp/gp.py:221: CholmodTypeConversionWarning: converting matrix of class csr_matrix to CSC format\n",
        "  factor = scikits.sparse.cholmod.cholesky(K)\n"
       ]
      },
      {
       "metadata": {},
       "output_type": "display_data",
       "png": "[encoded data removed]",
       "text": [
        "<matplotlib.figure.Figure at 0x5106f90>"
       ]
      },
      {
       "metadata": {},
       "output_type": "display_data",
       "png": "[encoded data removed]",
       "text": [
        "<matplotlib.figure.Figure at 0x3b97790>"
       ]
      },
      {
       "metadata": {},
       "output_type": "display_data",
       "png": "[encoded data removed]",
       "text": [
        "<matplotlib.figure.Figure at 0x5207490>"
       ]
      },
      {
       "metadata": {},
       "output_type": "display_data",
       "png": "[encoded data removed]",
       "text": [
        "<matplotlib.figure.Figure at 0x886bc50>"
       ]
      }
     ],
     "prompt_number": 6
    },
    {
     "cell_type": "code",
     "collapsed": false,
     "input": [],
     "language": "python",
     "metadata": {},
     "outputs": []
    },
    {
     "cell_type": "code",
     "collapsed": false,
     "input": [
      "X_events = select_events(train=True)\n",
      "ys = sample_synthetic_data(stas, [], X_events)\n",
      "all_gps = train_all_gps(X_events, ys)"
     ],
     "language": "python",
     "metadata": {},
     "outputs": [],
     "prompt_number": 4
    },
    {
     "cell_type": "code",
     "collapsed": false,
     "input": [
      "X_test = select_events(train=False)\n",
      "np.save('X_test.npy', X_test)\n",
      "#ev = gen_test_ev(X_test[3,:])\n",
      "#test_ys = sample_test_values(ev, all_gps)"
     ],
     "language": "python",
     "metadata": {},
     "outputs": [],
     "prompt_number": 3
    },
    {
     "cell_type": "code",
     "collapsed": false,
     "input": [
      "test_neighbors(X_events, X_test)"
     ],
     "language": "python",
     "metadata": {},
     "outputs": [
      {
       "output_type": "stream",
       "stream": "stdout",
       "text": [
        "[  2.90624730e+01   3.79373480e+01   0.00000000e+00   1.23768320e+09\n",
        "   5.26977000e+06] : neighbors within\n",
        "5km: 0.000000\n",
        "15km: 0.000000\n",
        "30km: 0.000000\n",
        "100km: 2.000000\n",
        "200km: 9.000000\n",
        "1000km: 192.000000\n",
        "[  3.88287720e+01   3.75575170e+01   0.00000000e+00   1.23768911e+09\n",
        "   5.28808400e+06] : neighbors within\n",
        "5km: 0.000000\n",
        "15km: 0.000000\n",
        "30km: 0.000000\n",
        "100km: 0.000000\n",
        "200km: 1.000000\n",
        "1000km: 41.000000\n",
        "[  3.74415850e+01   4.47968830e+01   0.00000000e+00   1.23777639e+09\n",
        "   5.27230800e+06] : neighbors within\n",
        "5km: 0.000000\n",
        "15km: 0.000000\n",
        "30km: 0.000000\n",
        "100km: 0.000000\n",
        "200km: 0.000000\n",
        "1000km: 18.000000\n",
        "[  2.10773420e+01   3.79410410e+01   0.00000000e+00   1.23779108e+09\n",
        "   5.27323300e+06] : neighbors within\n",
        "5km: 0.000000\n",
        "15km: 1.000000\n",
        "30km: 4.000000\n",
        "100km: 22.000000\n",
        "200km: 51.000000\n",
        "1000km: 180.000000\n",
        "[  2.19348310e+01   3.85143460e+01   0.00000000e+00   1.23793852e+09\n",
        "   5.27678200e+06] : neighbors within\n",
        "5km: 0.000000\n",
        "15km: 1.000000\n",
        "30km: 3.000000\n",
        "100km: 19.000000\n",
        "200km: 42.000000\n",
        "1000km: 180.000000\n",
        "[  2.34469380e+01   3.53449030e+01   0.00000000e+00   1.23820984e+09\n",
        "   5.28380400e+06] : neighbors within\n",
        "5km: 0.000000\n",
        "15km: 1.000000\n",
        "30km: 4.000000\n",
        "100km: 15.000000\n",
        "200km: 43.000000\n",
        "1000km: 179.000000\n",
        "[  2.18344620e+01   3.65285850e+01   0.00000000e+00   1.23826251e+09\n",
        "   5.29608200e+06] : neighbors within\n",
        "5km: 4.000000\n",
        "15km: 9.000000\n",
        "30km: 12.000000\n",
        "100km: 19.000000\n",
        "200km: 45.000000\n",
        "1000km: 178.000000\n"
       ]
      }
     ],
     "prompt_number": 15
    },
    {
     "cell_type": "code",
     "collapsed": false,
     "input": [
      "ev_mcmc, samples = run_MH(test_ys, all_gps, ev)"
     ],
     "language": "python",
     "metadata": {},
     "outputs": [
      {
       "output_type": "stream",
       "stream": "stdout",
       "text": [
        "first atime 1237791222.37\n",
        "gridsearch: new best ll [-17570.20686312] at (20.0, 30.0, 1237790922.3679421)\n",
        "gridsearch: new best ll [-13953.26138173] at (20.0, 30.0, 1237790938.1574159)\n",
        "gridsearch: new best ll [-10834.93090666] at (20.0, 30.0, 1237790953.9468894)\n",
        "gridsearch: new best ll [-8215.21534374] at (20.0, 30.0, 1237790969.7363632)\n",
        "gridsearch: new best ll [-6094.11474382] at (20.0, 30.0, 1237790985.5258369)\n",
        "gridsearch: new best ll [-4471.62912764] at (20.0, 30.0, 1237791001.3153105)\n",
        "gridsearch: new best ll [-3347.75844619] at (20.0, 30.0, 1237791017.1047843)\n",
        "gridsearch: new best ll [-2722.50273341] at (20.0, 30.0, 1237791032.8942578)\n",
        "gridsearch: new best ll [-2595.86197043] at (20.0, 30.0, 1237791048.6837316)\n",
        "gridsearch: new best ll"
       ]
      },
      {
       "output_type": "stream",
       "stream": "stdout",
       "text": [
        " [-2070.0138487] at (20.0, 32.222222222222221, 1237791032.8942578)\n",
        "gridsearch: new best ll [-1591.30384911] at (20.0, 32.222222222222221, 1237791048.6837316)\n",
        "gridsearch: new best ll [-984.36843937] at (20.0, 34.444444444444443, 1237791048.6837316)\n",
        "gridsearch: new best ll"
       ]
      },
      {
       "output_type": "stream",
       "stream": "stdout",
       "text": [
        " [-691.82126365] at (20.0, 34.444444444444443, 1237791064.4732053)\n",
        "gridsearch: new best ll [-235.82722541] at (20.0, 36.666666666666664, 1237791064.4732053)\n",
        "gridsearch: new best ll"
       ]
      },
      {
       "output_type": "stream",
       "stream": "stdout",
       "text": [
        " [-201.82526076] at (20.0, 36.666666666666664, 1237791080.2626789)\n",
        "gridsearch: new best ll [-162.37371362] at (20.0, 38.888888888888886, 1237791080.2626789)\n",
        "true ev"
       ]
      },
      {
       "output_type": "stream",
       "stream": "stdout",
       "text": [
        " evid None, loc 21.08 E 37.94 N, depth 0.0km, time 1237791080.4, mb 4.0, natural source\n",
        "intialized from grid search: evid None, loc 20.00 E 38.89 N, depth 0.0km, time 1237791080.3, mb 4.0, natural source\n",
        "step 0: lon 20.0 lat 38.9 time 1237791080.3 spatial err 141.1km time err 0.2s acceptance rate space 0.000000 time 0.000000\n",
        "step 50: lon 20.0 lat 38.2 time 1237791077.6 spatial err 100.6km time err 2.8s acceptance rate space 0.022500 time 0.020833"
       ]
      },
      {
       "output_type": "stream",
       "stream": "stdout",
       "text": [
        "\n",
        "step 100: lon 20.2 lat 38.2 time 1237791077.3 spatial err 84.0km time err 3.1s acceptance rate space 0.046667 time 0.040833"
       ]
      },
      {
       "output_type": "stream",
       "stream": "stdout",
       "text": [
        "\n",
        "step 150: lon 20.1 lat 37.7 time 1237791076.4 spatial err 92.3km time err 4.1s acceptance rate space 0.071667 time 0.060833"
       ]
      },
      {
       "output_type": "stream",
       "stream": "stdout",
       "text": [
        "\n",
        "step 200: lon 20.8 lat 37.8 time 1237791080.2 spatial err 29.8km time err 0.2s acceptance rate space 0.095833 time 0.084167"
       ]
      },
      {
       "output_type": "stream",
       "stream": "stdout",
       "text": [
        "\n",
        "step 250: lon 21.0 lat 38.0 time 1237791080.4 spatial err 10.2km time err 0.1s acceptance rate space 0.116667 time 0.102500"
       ]
      },
      {
       "output_type": "stream",
       "stream": "stdout",
       "text": [
        "\n",
        "step 300: lon 21.1 lat 38.0 time 1237791080.0 spatial err 5.0km time err 0.5s acceptance rate space 0.135833 time 0.121667"
       ]
      },
      {
       "output_type": "stream",
       "stream": "stdout",
       "text": [
        "\n",
        "step 350: lon 21.0 lat 37.9 time 1237791079.9 spatial err 11.4km time err 0.5s acceptance rate space 0.150833 time 0.134167"
       ]
      },
      {
       "output_type": "stream",
       "stream": "stdout",
       "text": [
        "\n",
        "step 400: lon 21.1 lat 38.0 time 1237791080.1 spatial err 7.7km time err 0.3s acceptance rate space 0.169167 time 0.151667"
       ]
      },
      {
       "output_type": "stream",
       "stream": "stdout",
       "text": [
        "\n",
        "step 450: lon 21.0 lat 38.0 time 1237791079.5 spatial err 12.5km time err 0.9s acceptance rate space 0.186667 time 0.168333"
       ]
      },
      {
       "output_type": "stream",
       "stream": "stdout",
       "text": [
        "\n",
        "step 500: lon 21.0 lat 37.9 time 1237791079.8 spatial err 9.5km time err 0.6s acceptance rate space 0.209167 time 0.182500"
       ]
      },
      {
       "output_type": "stream",
       "stream": "stdout",
       "text": [
        "\n",
        "step 550: lon 21.1 lat 38.0 time 1237791080.6 spatial err 6.2km time err 0.2s acceptance rate space 0.229167 time 0.197500"
       ]
      },
      {
       "output_type": "stream",
       "stream": "stdout",
       "text": [
        "\n",
        "step 600: lon 21.0 lat 37.9 time 1237791079.4 spatial err 10.6km time err 1.0s acceptance rate space 0.247500 time 0.212500"
       ]
      },
      {
       "output_type": "stream",
       "stream": "stdout",
       "text": [
        "\n",
        "step 650: lon 21.0 lat 38.0 time 1237791080.1 spatial err 6.6km time err 0.3s acceptance rate space 0.268333 time 0.227500"
       ]
      },
      {
       "output_type": "stream",
       "stream": "stdout",
       "text": [
        "\n",
        "step 700: lon 21.0 lat 37.9 time 1237791079.9 spatial err 3.0km time err 0.5s acceptance rate space 0.286667 time 0.250000"
       ]
      },
      {
       "output_type": "stream",
       "stream": "stdout",
       "text": [
        "\n",
        "step 750: lon 21.1 lat 38.0 time 1237791080.4 spatial err 4.2km time err 0.0s acceptance rate space 0.305833 time 0.265833"
       ]
      },
      {
       "output_type": "stream",
       "stream": "stdout",
       "text": [
        "\n",
        "step 800: lon 21.1 lat 38.0 time 1237791080.1 spatial err 3.0km time err 0.3s acceptance rate space 0.323333 time 0.281667"
       ]
      },
      {
       "output_type": "stream",
       "stream": "stdout",
       "text": [
        "\n",
        "step 850: lon 21.0 lat 37.9 time 1237791079.6 spatial err 10.9km time err 0.9s acceptance rate space 0.339167 time 0.296667"
       ]
      },
      {
       "output_type": "stream",
       "stream": "stdout",
       "text": [
        "\n",
        "step 900: lon 21.1 lat 38.0 time 1237791080.6 spatial err 10.7km time err 0.1s acceptance rate space 0.359167 time 0.318333"
       ]
      },
      {
       "output_type": "stream",
       "stream": "stdout",
       "text": [
        "\n",
        "step 950: lon 21.0 lat 37.9 time 1237791079.9 spatial err 11.2km time err 0.6s acceptance rate space 0.379167 time 0.337500"
       ]
      },
      {
       "output_type": "stream",
       "stream": "stdout",
       "text": [
        "\n",
        "step 1000: lon 21.1 lat 38.0 time 1237791080.4 spatial err 3.2km time err 0.0s acceptance rate space 0.396667 time 0.353333"
       ]
      },
      {
       "output_type": "stream",
       "stream": "stdout",
       "text": [
        "\n",
        "step 1050: lon 21.0 lat 37.9 time 1237791079.9 spatial err 6.9km time err 0.5s acceptance rate space 0.409167 time 0.365000"
       ]
      },
      {
       "output_type": "stream",
       "stream": "stdout",
       "text": [
        "\n",
        "step 1100: lon 21.0 lat 38.0 time 1237791079.7 spatial err 5.6km time err 0.7s acceptance rate space 0.430833 time 0.386667"
       ]
      },
      {
       "output_type": "stream",
       "stream": "stdout",
       "text": [
        "\n",
        "step 1150: lon 21.0 lat 37.9 time 1237791079.7 spatial err 10.3km time err 0.7s acceptance rate space 0.443333 time 0.405000"
       ]
      },
      {
       "output_type": "stream",
       "stream": "stdout",
       "text": [
        "\n"
       ]
      }
     ],
     "prompt_number": 58
    },
    {
     "cell_type": "code",
     "collapsed": false,
     "input": [
      "fig = plt.figure(figsize=(10, 10))\n",
      "ax = fig.add_subplot(1,1,1)\n",
      "plot_posterior(ax, stas, ev, samples[1:,:], width_deg=2.0)"
     ],
     "language": "python",
     "metadata": {},
     "outputs": [
      {
       "output_type": "stream",
       "stream": "stdout",
       "text": [
        "true ev: evid None, loc 21.08 E 37.94 N, depth 0.0km, time 1237791080.4, mb 4.0, natural source\n",
        "mean lon 21.04, lat 37.96, time 1237791080.25\n",
        "stds: lon 0.05, lat 0.05, time 0.42\n",
        "mean: spatial err 4.3577km time err 0.1801s\n"
       ]
      },
      {
       "metadata": {},
       "output_type": "display_data",
       "png": "[encoded data removed]",
       "text": [
        "<matplotlib.figure.Figure at 0x6ecf150>"
       ]
      }
     ],
     "prompt_number": 63
    },
    {
     "cell_type": "code",
     "collapsed": false,
     "input": [
      "print samples[1,:]"
     ],
     "language": "python",
     "metadata": {},
     "outputs": [
      {
       "output_type": "stream",
       "stream": "stdout",
       "text": [
        "[  2.08246590e+01   3.78557239e+01   1.23779108e+09]\n"
       ]
      }
     ],
     "prompt_number": 62
    },
    {
     "cell_type": "code",
     "collapsed": false,
     "input": [
      "true_lon = ev.lon\n",
      "fig = plt.figure(figsize=(10, 10))\n",
      "ax = fig.add_subplot(1,1,1)\n",
      "plot_heat(ax, stas, ev, test_ys, all_gps, logscale=True, n=30)"
     ],
     "language": "python",
     "metadata": {},
     "outputs": [
      {
       "output_type": "stream",
       "stream": "stdout",
       "text": [
        "computed (20.00, 30.00) = -4006.466038\n",
        "computed (20.00, 30.69) = -3409.662475\n",
        "computed (20.00, 31.38) = -2872.683520\n",
        "computed (20.00, 32.07) = -2341.072712\n",
        "computed (20.00, 32.76) = -1879.585625\n",
        "computed (20.00, 33.45) = -1475.030644\n",
        "computed (20.00, 34.14) = -1112.512537\n",
        "computed (20.00, 34.83) = -791.192916\n",
        "computed (20.00, 35.52) = -579.226102\n",
        "computed (20.00, 36.21) = -356.807003\n",
        "computed (20.00, 36.90) = -219.058217\n",
        "computed (20.00, 37.59) = -159.043851\n",
        "computed (20.00, 38.28) = -179.413143"
       ]
      },
      {
       "output_type": "stream",
       "stream": "stdout",
       "text": [
        "\n",
        "computed (20.00, 38.97) = -224.321666\n",
        "computed (20.00, 39.66) = -406.097642\n",
        "computed (20.00, 40.34) = -576.852217\n",
        "computed (20.00, 41.03) = -1930.958467\n",
        "computed (20.00, 41.72) = -1184.631910\n",
        "computed (20.00, 42.41) = -2283.064774\n",
        "computed (20.00, 43.10) = -2362.774652\n",
        "computed (20.00, 43.79) = -2565.221501\n",
        "computed (20.00, 44.48) = -3178.463337\n",
        "computed (20.00, 45.17) = -3861.361368\n",
        "computed (20.00, 45.86) = -4554.301848\n",
        "computed (20.00, 46.55) = -5343.172032"
       ]
      },
      {
       "output_type": "stream",
       "stream": "stdout",
       "text": [
        "\n",
        "computed (20.00, 47.24) = -6107.361281\n",
        "computed (20.00, 47.93) = -6892.774145\n",
        "computed (20.00, 48.62) = -7639.222411\n",
        "computed (20.00, 49.31) = -8294.219195\n",
        "computed (20.00, 50.00) = -8940.471559\n",
        "computed (20.69, 30.00) = -3897.516714\n",
        "computed (20.69, 30.69) = -3316.895252\n",
        "computed (20.69, 31.38) = -2797.033918\n",
        "computed (20.69, 32.07) = -2268.404087\n",
        "computed (20.69, 32.76) = -1813.293400\n",
        "computed (20.69, 33.45) = -1429.298988"
       ]
      },
      {
       "output_type": "stream",
       "stream": "stdout",
       "text": [
        "\n",
        "computed (20.69, 34.14) = -1037.650970\n",
        "computed (20.69, 34.83) = -741.959954\n",
        "computed (20.69, 35.52) = -769.705973\n",
        "computed (20.69, 36.21) = -352.552959\n",
        "computed (20.69, 36.90) = -182.995096\n",
        "computed (20.69, 37.59) = -93.894088\n",
        "computed (20.69, 38.28) = -102.012785\n",
        "computed (20.69, 38.97) = -279.028960\n",
        "computed (20.69, 39.66) = -611.649281\n",
        "computed (20.69, 40.34) = -596.723931\n",
        "computed (20.69, 41.03) = -1023.716292\n",
        "computed (20.69, 41.72) = -1056.490616"
       ]
      },
      {
       "output_type": "stream",
       "stream": "stdout",
       "text": [
        "\n",
        "computed (20.69, 42.41) = -1728.015465\n",
        "computed (20.69, 43.10) = -2067.114161\n",
        "computed (20.69, 43.79) = -2408.538089\n",
        "computed (20.69, 44.48) = -3031.097028\n",
        "computed (20.69, 45.17) = -3670.452398\n",
        "computed (20.69, 45.86) = -4394.988598\n",
        "computed (20.69, 46.55) = -5116.158850\n",
        "computed (20.69, 47.24) = -5895.620519\n",
        "computed (20.69, 47.93) = -6642.207566\n",
        "computed (20.69, 48.62) = -7409.210905\n",
        "computed (20.69, 49.31) = -8103.754644\n",
        "computed (20.69, 50.00) = -8730.461408"
       ]
      },
      {
       "output_type": "stream",
       "stream": "stdout",
       "text": [
        "\n",
        "computed (21.38, 30.00) = -3866.413869\n",
        "computed (21.38, 30.69) = -3310.155398\n",
        "computed (21.38, 31.38) = -2789.312385\n",
        "computed (21.38, 32.07) = -2260.200673\n",
        "computed (21.38, 32.76) = -1842.180231\n",
        "computed (21.38, 33.45) = -1426.586829\n",
        "computed (21.38, 34.14) = -1052.767474\n",
        "computed (21.38, 34.83) = -748.393803\n",
        "computed (21.38, 35.52) = -528.086469\n",
        "computed (21.38, 36.21) = -634.996969\n",
        "computed (21.38, 36.90) = -251.393578"
       ]
      },
      {
       "output_type": "stream",
       "stream": "stdout",
       "text": [
        "\n",
        "computed (21.38, 37.59) = -109.359322\n",
        "computed (21.38, 38.28) = -63.135450\n",
        "computed (21.38, 38.97) = -232.884144\n",
        "computed (21.38, 39.66) = -232.350605\n",
        "computed (21.38, 40.34) = -617.120777\n",
        "computed (21.38, 41.03) = -719.525297\n",
        "computed (21.38, 41.72) = -1126.464483\n",
        "computed (21.38, 42.41) = -1379.462286\n",
        "computed (21.38, 43.10) = -1790.313004\n",
        "computed (21.38, 43.79) = -2313.243991\n",
        "computed (21.38, 44.48) = -2903.323525\n",
        "computed (21.38, 45.17) = -3541.324359"
       ]
      },
      {
       "output_type": "stream",
       "stream": "stdout",
       "text": [
        "\n",
        "computed (21.38, 45.86) = -4211.660412\n",
        "computed (21.38, 46.55) = -4966.496359\n",
        "computed (21.38, 47.24) = -5684.500376\n",
        "computed (21.38, 47.93) = -6462.588193\n",
        "computed (21.38, 48.62) = -7138.446067\n",
        "computed (21.38, 49.31) = -7839.632897\n",
        "computed (21.38, 50.00) = -8460.475740\n",
        "computed (22.07, 30.00) = -3899.245754\n",
        "computed (22.07, 30.69) = -3365.787594\n",
        "computed (22.07, 31.38) = -2830.782958\n",
        "computed (22.07, 32.07) = -2352.211654\n",
        "computed (22.07, 32.76) = -3042.093842"
       ]
      },
      {
       "output_type": "stream",
       "stream": "stdout",
       "text": [
        "\n",
        "computed (22.07, 33.45) = -1631.239545\n",
        "computed (22.07, 34.14) = -1136.489969\n",
        "computed (22.07, 34.83) = -841.932971\n",
        "computed (22.07, 35.52) = -655.318582\n",
        "computed (22.07, 36.21) = -1045.362173\n",
        "computed (22.07, 36.90) = -367.114624\n",
        "computed (22.07, 37.59) = -269.939983\n",
        "computed (22.07, 38.28) = -243.299621\n",
        "computed (22.07, 38.97) = -346.406168\n",
        "computed (22.07, 39.66) = -233.533861\n",
        "computed (22.07, 40.34) = -406.920373"
       ]
      },
      {
       "output_type": "stream",
       "stream": "stdout",
       "text": [
        "\n",
        "computed (22.07, 41.03) = -905.499005\n",
        "computed (22.07, 41.72) = -3227.206983\n",
        "computed (22.07, 42.41) = -1486.173393\n",
        "computed (22.07, 43.10) = -1720.888574\n",
        "computed (22.07, 43.79) = -2252.472851\n",
        "computed (22.07, 44.48) = -2799.257702\n",
        "computed (22.07, 45.17) = -3432.465311\n",
        "computed (22.07, 45.86) = -4103.215337\n",
        "computed (22.07, 46.55) = -4794.102448\n",
        "computed (22.07, 47.24) = -5547.693258\n",
        "computed (22.07, 47.93) = -6284.185596\n",
        "computed (22.07, 48.62) = -7001.980637"
       ]
      },
      {
       "output_type": "stream",
       "stream": "stdout",
       "text": [
        "\n",
        "computed (22.07, 49.31) = -7710.301057\n",
        "computed (22.07, 50.00) = -8367.654821\n",
        "computed (22.76, 30.00) = -4035.901658\n",
        "computed (22.76, 30.69) = -3478.211580\n",
        "computed (22.76, 31.38) = -2962.069942\n",
        "computed (22.76, 32.07) = -2503.820587\n",
        "computed (22.76, 32.76) = -2549.615105\n",
        "computed (22.76, 33.45) = -1707.757398\n",
        "computed (22.76, 34.14) = -1356.064220\n",
        "computed (22.76, 34.83) = -1766.207629\n",
        "computed (22.76, 35.52) = -1954.706923\n",
        "computed (22.76, 36.21) = -981.798225"
       ]
      },
      {
       "output_type": "stream",
       "stream": "stdout",
       "text": [
        "\n",
        "computed (22.76, 36.90) = -625.691649\n",
        "computed (22.76, 37.59) = -701.211656\n",
        "computed (22.76, 38.28) = -594.546761\n",
        "computed (22.76, 38.97) = -555.129438\n",
        "computed (22.76, 39.66) = -304.571807\n",
        "computed (22.76, 40.34) = -452.734083\n",
        "computed (22.76, 41.03) = -2267.190953\n",
        "computed (22.76, 41.72) = -1629.657484\n",
        "computed (22.76, 42.41) = -1343.097889\n",
        "computed (22.76, 43.10) = -1721.355553\n",
        "computed (22.76, 43.79) = -2191.396919"
       ]
      },
      {
       "output_type": "stream",
       "stream": "stdout",
       "text": [
        "\n",
        "computed (22.76, 44.48) = -2759.126189\n",
        "computed (22.76, 45.17) = -3342.611223\n",
        "computed (22.76, 45.86) = -4018.663527\n",
        "computed (22.76, 46.55) = -4688.281211\n",
        "computed (22.76, 47.24) = -5434.874870\n",
        "computed (22.76, 47.93) = -6108.297292\n",
        "computed (22.76, 48.62) = -6872.560729\n",
        "computed (22.76, 49.31) = -7539.858655\n",
        "computed (22.76, 50.00) = -8197.482785\n",
        "computed (23.45, 30.00) = -4222.088988\n",
        "computed (23.45, 30.69) = -3660.882468\n",
        "computed (23.45, 31.38) = -3143.975020"
       ]
      },
      {
       "output_type": "stream",
       "stream": "stdout",
       "text": [
        "\n",
        "computed (23.45, 32.07) = -2714.059926\n",
        "computed (23.45, 32.76) = -2264.113471\n",
        "computed (23.45, 33.45) = -1861.036319\n",
        "computed (23.45, 34.14) = -2292.388286\n",
        "computed (23.45, 34.83) = -3788.985991\n",
        "computed (23.45, 35.52) = -2208.952455\n",
        "computed (23.45, 36.21) = -716.244153\n",
        "computed (23.45, 36.90) = -603.576257\n",
        "computed (23.45, 37.59) = -484.938106\n",
        "computed (23.45, 38.28) = -450.525329\n",
        "computed (23.45, 38.97) = -658.786767\n",
        "computed (23.45, 39.66) = -462.898219"
       ]
      },
      {
       "output_type": "stream",
       "stream": "stdout",
       "text": [
        "\n",
        "computed (23.45, 40.34) = -550.460860\n",
        "computed (23.45, 41.03) = -979.279413\n",
        "computed (23.45, 41.72) = -2283.223604\n",
        "computed (23.45, 42.41) = -1339.023615\n",
        "computed (23.45, 43.10) = -1749.597252\n",
        "computed (23.45, 43.79) = -2185.628604\n",
        "computed (23.45, 44.48) = -2718.465261\n",
        "computed (23.45, 45.17) = -3315.636411\n",
        "computed (23.45, 45.86) = -3932.446040\n",
        "computed (23.45, 46.55) = -4652.568090\n",
        "computed (23.45, 47.24) = -5304.009765\n",
        "computed (23.45, 47.93) = -6091.662318"
       ]
      },
      {
       "output_type": "stream",
       "stream": "stdout",
       "text": [
        "\n",
        "computed (23.45, 48.62) = -6769.725280\n",
        "computed (23.45, 49.31) = -7485.778795\n",
        "computed (23.45, 50.00) = -8176.303231\n",
        "computed (24.14, 30.00) = -4455.232688\n",
        "computed (24.14, 30.69) = -3920.245027\n",
        "computed (24.14, 31.38) = -3452.859217\n",
        "computed (24.14, 32.07) = -3003.463580\n",
        "computed (24.14, 32.76) = -2559.584510\n",
        "computed (24.14, 33.45) = -2161.292208\n",
        "computed (24.14, 34.14) = -2632.388604\n",
        "computed (24.14, 34.83) = -2885.505748\n",
        "computed (24.14, 35.52) = -1899.931038"
       ]
      },
      {
       "output_type": "stream",
       "stream": "stdout",
       "text": [
        "\n",
        "computed (24.14, 36.21) = -1198.518250\n",
        "computed (24.14, 36.90) = -999.750038\n",
        "computed (24.14, 37.59) = -634.826144\n",
        "computed (24.14, 38.28) = -569.683804\n",
        "computed (24.14, 38.97) = -771.394110\n",
        "computed (24.14, 39.66) = -762.879021\n",
        "computed (24.14, 40.34) = -690.828608\n",
        "computed (24.14, 41.03) = -885.239015\n",
        "computed (24.14, 41.72) = -1502.657517\n",
        "computed (24.14, 42.41) = -1441.543759\n",
        "computed (24.14, 43.10) = -1770.266260\n",
        "computed (24.14, 43.79) = -2236.548237"
       ]
      },
      {
       "output_type": "stream",
       "stream": "stdout",
       "text": [
        "\n",
        "computed (24.14, 44.48) = -2717.546074\n",
        "computed (24.14, 45.17) = -3299.603393\n",
        "computed (24.14, 45.86) = -3925.458483\n",
        "computed (24.14, 46.55) = -4585.012516\n",
        "computed (24.14, 47.24) = -5282.614139\n",
        "computed (24.14, 47.93) = -5996.257440\n",
        "computed (24.14, 48.62) = -6722.645421\n",
        "computed (24.14, 49.31) = -7452.152769\n",
        "computed (24.14, 50.00) = -8126.119663\n",
        "computed (24.83, 30.00) = -4787.707078\n",
        "computed (24.83, 30.69) = -4267.929066\n",
        "computed (24.83, 31.38) = -3780.171957"
       ]
      },
      {
       "output_type": "stream",
       "stream": "stdout",
       "text": [
        "\n",
        "computed (24.83, 32.07) = -3323.258750\n",
        "computed (24.83, 32.76) = -2917.673859\n",
        "computed (24.83, 33.45) = -2524.975036\n",
        "computed (24.83, 34.14) = -4820.398238\n",
        "computed (24.83, 34.83) = -3729.215648\n",
        "computed (24.83, 35.52) = -1609.700253\n",
        "computed (24.83, 36.21) = -1397.591262\n",
        "computed (24.83, 36.90) = -1910.930792\n",
        "computed (24.83, 37.59) = -920.596188\n",
        "computed (24.83, 38.28) = -847.191911\n",
        "computed (24.83, 38.97) = -2100.019271\n",
        "computed (24.83, 39.66) = -836.346281"
       ]
      },
      {
       "output_type": "stream",
       "stream": "stdout",
       "text": [
        "\n",
        "computed (24.83, 40.34) = -905.326458\n",
        "computed (24.83, 41.03) = -1037.283775\n",
        "computed (24.83, 41.72) = -1258.573029\n",
        "computed (24.83, 42.41) = -1525.851856\n",
        "computed (24.83, 43.10) = -1871.658077\n",
        "computed (24.83, 43.79) = -2305.323655\n",
        "computed (24.83, 44.48) = -2776.157970\n",
        "computed (24.83, 45.17) = -3322.321749\n",
        "computed (24.83, 45.86) = -3951.871374\n",
        "computed (24.83, 46.55) = -4549.956923\n",
        "computed (24.83, 47.24) = -5296.946617\n",
        "computed (24.83, 47.93) = -5963.248878"
       ]
      },
      {
       "output_type": "stream",
       "stream": "stdout",
       "text": [
        "\n",
        "computed (24.83, 48.62) = -6724.351614\n",
        "computed (24.83, 49.31) = -7424.806570\n",
        "computed (24.83, 50.00) = -8142.469338\n",
        "computed (25.52, 30.00) = -5127.951096\n",
        "computed (25.52, 30.69) = -4674.212134\n",
        "computed (25.52, 31.38) = -4211.120483\n",
        "computed (25.52, 32.07) = -3760.293325\n",
        "computed (25.52, 32.76) = -3338.402406\n",
        "computed (25.52, 33.45) = -3372.793911\n",
        "computed (25.52, 34.14) = -5545.666588\n",
        "computed (25.52, 34.83) = -8032.238301\n",
        "computed (25.52, 35.52) = -2475.290827"
       ]
      },
      {
       "output_type": "stream",
       "stream": "stdout",
       "text": [
        "\n",
        "computed (25.52, 36.21) = -1668.678267\n",
        "computed (25.52, 36.90) = -1551.201665\n",
        "computed (25.52, 37.59) = -1532.090317\n",
        "computed (25.52, 38.28) = -1154.502989\n",
        "computed (25.52, 38.97) = -1195.895521\n",
        "computed (25.52, 39.66) = -1078.215343\n",
        "computed (25.52, 40.34) = -1135.964375\n",
        "computed (25.52, 41.03) = -1242.322357\n",
        "computed (25.52, 41.72) = -1439.694306\n",
        "computed (25.52, 42.41) = -1699.738770\n",
        "computed (25.52, 43.10) = -2006.024391\n",
        "computed (25.52, 43.79) = -2375.727082"
       ]
      },
      {
       "output_type": "stream",
       "stream": "stdout",
       "text": [
        "\n",
        "computed (25.52, 44.48) = -2872.120480\n",
        "computed (25.52, 45.17) = -3617.460952\n",
        "computed (25.52, 45.86) = -4578.415835\n",
        "computed (25.52, 46.55) = -4645.489412\n",
        "computed (25.52, 47.24) = -5260.193376\n",
        "computed (25.52, 47.93) = -6015.333177\n",
        "computed (25.52, 48.62) = -6730.938781\n",
        "computed (25.52, 49.31) = -7521.679059\n",
        "computed (25.52, 50.00) = -8172.772115\n",
        "computed (26.21, 30.00) = -5623.212943\n",
        "computed (26.21, 30.69) = -5144.025084\n",
        "computed (26.21, 31.38) = -4675.397367"
       ]
      },
      {
       "output_type": "stream",
       "stream": "stdout",
       "text": [
        "\n",
        "computed (26.21, 32.07) = -4247.576738\n",
        "computed (26.21, 32.76) = -3832.549220\n",
        "computed (26.21, 33.45) = -4961.969823\n",
        "computed (26.21, 34.14) = -6103.908181\n",
        "computed (26.21, 34.83) = -8687.340874\n",
        "computed (26.21, 35.52) = -6309.536835\n",
        "computed (26.21, 36.21) = -2621.707710\n",
        "computed (26.21, 36.90) = -4421.219956\n",
        "computed (26.21, 37.59) = -2735.306789\n",
        "computed (26.21, 38.28) = -1505.910088\n",
        "computed (26.21, 38.97) = -1425.947712\n",
        "computed (26.21, 39.66) = -1398.948820"
       ]
      },
      {
       "output_type": "stream",
       "stream": "stdout",
       "text": [
        "\n",
        "computed (26.21, 40.34) = -1442.076480\n",
        "computed (26.21, 41.03) = -1530.790980\n",
        "computed (26.21, 41.72) = -1656.086281\n",
        "computed (26.21, 42.41) = -1884.030188\n",
        "computed (26.21, 43.10) = -2170.987007\n",
        "computed (26.21, 43.79) = -2536.530933\n",
        "computed (26.21, 44.48) = -2955.792297\n",
        "computed (26.21, 45.17) = -4831.151524\n",
        "computed (26.21, 45.86) = -12918.084906\n",
        "computed (26.21, 46.55) = -4863.639182\n",
        "computed (26.21, 47.24) = -5326.950763"
       ]
      },
      {
       "output_type": "stream",
       "stream": "stdout",
       "text": [
        "\n",
        "computed (26.21, 47.93) = -6035.810338\n",
        "computed (26.21, 48.62) = -6795.974108\n",
        "computed (26.21, 49.31) = -7525.110064\n",
        "computed (26.21, 50.00) = -8242.245083\n",
        "computed (26.90, 30.00) = -6126.617369\n",
        "computed (26.90, 30.69) = -5680.131553\n",
        "computed (26.90, 31.38) = -5237.882225\n",
        "computed (26.90, 32.07) = -4788.627365\n",
        "computed (26.90, 32.76) = -4381.543384\n",
        "computed (26.90, 33.45) = -3995.844047\n",
        "computed (26.90, 34.14) = -4553.693415\n",
        "computed (26.90, 34.83) = -8748.767848"
       ]
      },
      {
       "output_type": "stream",
       "stream": "stdout",
       "text": [
        "\n",
        "computed (26.90, 35.52) = -4752.979347\n",
        "computed (26.90, 36.21) = -7044.478895\n",
        "computed (26.90, 36.90) = -5504.126033\n",
        "computed (26.90, 37.59) = -2337.687121\n",
        "computed (26.90, 38.28) = -1960.441901\n",
        "computed (26.90, 38.97) = -1828.584040\n",
        "computed (26.90, 39.66) = -1757.289387\n",
        "computed (26.90, 40.34) = -1901.299235\n",
        "computed (26.90, 41.03) = -1837.534290\n",
        "computed (26.90, 41.72) = -1923.719703\n",
        "computed (26.90, 42.41) = -2126.442878\n",
        "computed (26.90, 43.10) = -2376.259483"
       ]
      },
      {
       "output_type": "stream",
       "stream": "stdout",
       "text": [
        "\n",
        "computed (26.90, 43.79) = -2674.591840\n",
        "computed (26.90, 44.48) = -3100.956355\n",
        "computed (26.90, 45.17) = -3903.369080\n",
        "computed (26.90, 45.86) = -5953.796347\n",
        "computed (26.90, 46.55) = -4774.543826\n",
        "computed (26.90, 47.24) = -5386.295221\n",
        "computed (26.90, 47.93) = -6093.221886\n",
        "computed (26.90, 48.62) = -6903.110872\n",
        "computed (26.90, 49.31) = -7608.005991\n",
        "computed (26.90, 50.00) = -8476.571997\n",
        "computed (27.59, 30.00) = -6713.092848\n",
        "computed (27.59, 30.69) = -6289.730591"
       ]
      },
      {
       "output_type": "stream",
       "stream": "stdout",
       "text": [
        "\n",
        "computed (27.59, 31.38) = -5846.829197\n",
        "computed (27.59, 32.07) = -5434.277094\n",
        "computed (27.59, 32.76) = -5017.573959\n",
        "computed (27.59, 33.45) = -4586.962583\n",
        "computed (27.59, 34.14) = -4424.773305\n",
        "computed (27.59, 34.83) = -11292.161192\n",
        "computed (27.59, 35.52) = -5832.202465\n",
        "computed (27.59, 36.21) = -8217.632261\n",
        "computed (27.59, 36.90) = -3485.742045\n",
        "computed (27.59, 37.59) = -8462.123942\n",
        "computed (27.59, 38.28) = -2576.386206\n",
        "computed (27.59, 38.97) = -2909.995600"
       ]
      },
      {
       "output_type": "stream",
       "stream": "stdout",
       "text": [
        "\n",
        "computed (27.59, 39.66) = -2555.856644\n",
        "computed (27.59, 40.34) = -4555.123671\n",
        "computed (27.59, 41.03) = -2392.461183\n",
        "computed (27.59, 41.72) = -2227.984139\n",
        "computed (27.59, 42.41) = -2363.021096\n",
        "computed (27.59, 43.10) = -2604.958628\n",
        "computed (27.59, 43.79) = -2881.875595\n",
        "computed (27.59, 44.48) = -3258.557600\n",
        "computed (27.59, 45.17) = -3698.603312\n",
        "computed (27.59, 45.86) = -4283.208199\n",
        "computed (27.59, 46.55) = -4800.406264\n",
        "computed (27.59, 47.24) = -5483.186648"
       ]
      },
      {
       "output_type": "stream",
       "stream": "stdout",
       "text": [
        "\n",
        "computed (27.59, 47.93) = -6202.352762\n",
        "computed (27.59, 48.62) = -6910.712708\n",
        "computed (27.59, 49.31) = -7781.226940\n",
        "computed (27.59, 50.00) = -8584.832314\n",
        "computed (28.28, 30.00) = -7393.324094\n",
        "computed (28.28, 30.69) = -6959.696103\n",
        "computed (28.28, 31.38) = -6505.791974\n",
        "computed (28.28, 32.07) = -6097.123715\n",
        "computed (28.28, 32.76) = -5657.356610\n",
        "computed (28.28, 33.45) = -5258.956557\n",
        "computed (28.28, 34.14) = -4942.536917\n",
        "computed (28.28, 34.83) = -12569.325426"
       ]
      },
      {
       "output_type": "stream",
       "stream": "stdout",
       "text": [
        "\n",
        "computed (28.28, 35.52) = -16074.055224\n",
        "computed (28.28, 36.21) = -6311.988658\n",
        "computed (28.28, 36.90) = -5732.238430\n",
        "computed (28.28, 37.59) = -7079.212624\n",
        "computed (28.28, 38.28) = -2994.811843\n",
        "computed (28.28, 38.97) = -3933.448590\n",
        "computed (28.28, 39.66) = -3009.144760\n",
        "computed (28.28, 40.34) = -2765.620090\n",
        "computed (28.28, 41.03) = -2570.180877\n",
        "computed (28.28, 41.72) = -2560.208910\n",
        "computed (28.28, 42.41) = -2685.931329\n",
        "computed (28.28, 43.10) = -2856.560515"
       ]
      },
      {
       "output_type": "stream",
       "stream": "stdout",
       "text": [
        "\n",
        "computed (28.28, 43.79) = -3118.120821\n",
        "computed (28.28, 44.48) = -3411.466279\n",
        "computed (28.28, 45.17) = -3884.758187\n",
        "computed (28.28, 45.86) = -4361.832941\n",
        "computed (28.28, 46.55) = -4901.603102\n",
        "computed (28.28, 47.24) = -5578.928383\n",
        "computed (28.28, 47.93) = -6294.415961\n",
        "computed (28.28, 48.62) = -7033.892571\n",
        "computed (28.28, 49.31) = -7930.573182\n",
        "computed (28.28, 50.00) = -8783.828815\n",
        "computed (28.97, 30.00) = -8063.730355\n",
        "computed (28.97, 30.69) = -7674.226631"
       ]
      },
      {
       "output_type": "stream",
       "stream": "stdout",
       "text": [
        "\n",
        "computed (28.97, 31.38) = -7284.461066\n",
        "computed (28.97, 32.07) = -6851.633154\n",
        "computed (28.97, 32.76) = -6410.074380\n",
        "computed (28.97, 33.45) = -6001.327966\n",
        "computed (28.97, 34.14) = -5611.427987\n",
        "computed (28.97, 34.83) = -10001.892276\n",
        "computed (28.97, 35.52) = -8051.966997\n",
        "computed (28.97, 36.21) = -12807.602449\n",
        "computed (28.97, 36.90) = -4442.579954\n",
        "computed (28.97, 37.59) = -3934.091305\n",
        "computed (28.97, 38.28) = -3924.896877\n",
        "computed (28.97, 38.97) = -10959.122952"
       ]
      },
      {
       "output_type": "stream",
       "stream": "stdout",
       "text": [
        "\n",
        "computed (28.97, 39.66) = -3560.273610\n",
        "computed (28.97, 40.34) = -3072.352937\n",
        "computed (28.97, 41.03) = -3272.369546\n",
        "computed (28.97, 41.72) = -2925.714277\n",
        "computed (28.97, 42.41) = -2984.576381\n",
        "computed (28.97, 43.10) = -3140.681379\n",
        "computed (28.97, 43.79) = -3352.441122\n",
        "computed (28.97, 44.48) = -3657.370412\n",
        "computed (28.97, 45.17) = -4034.097299\n",
        "computed (28.97, 45.86) = -4500.276210\n",
        "computed (28.97, 46.55) = -5043.430463\n",
        "computed (28.97, 47.24) = -5685.769489"
       ]
      },
      {
       "output_type": "stream",
       "stream": "stdout",
       "text": [
        "\n",
        "computed (28.97, 47.93) = -6379.736148\n",
        "computed (28.97, 48.62) = -7116.176688\n",
        "computed (28.97, 49.31) = -7981.237871\n",
        "computed (28.97, 50.00) = -8980.991489\n",
        "computed (29.66, 30.00) = -8874.636156\n",
        "computed (29.66, 30.69) = -8468.489384\n",
        "computed (29.66, 31.38) = -8061.805842\n",
        "computed (29.66, 32.07) = -7624.012795\n",
        "computed (29.66, 32.76) = -7233.027077\n",
        "computed (29.66, 33.45) = -6749.684883\n",
        "computed (29.66, 34.14) = -6282.457629\n",
        "computed (29.66, 34.83) = -6156.749860"
       ]
      },
      {
       "output_type": "stream",
       "stream": "stdout",
       "text": [
        "\n",
        "computed (29.66, 35.52) = -5613.995905\n",
        "computed (29.66, 36.21) = -5708.120456\n",
        "computed (29.66, 36.90) = -4638.391140\n",
        "computed (29.66, 37.59) = -4329.889814\n",
        "computed (29.66, 38.28) = -4117.604998\n",
        "computed (29.66, 38.97) = -5244.535735\n",
        "computed (29.66, 39.66) = -3999.448785\n",
        "computed (29.66, 40.34) = -3817.927882\n",
        "computed (29.66, 41.03) = -7053.304020\n",
        "computed (29.66, 41.72) = -3344.035642\n",
        "computed (29.66, 42.41) = -3336.436838\n",
        "computed (29.66, 43.10) = -3450.169782"
       ]
      },
      {
       "output_type": "stream",
       "stream": "stdout",
       "text": [
        "\n",
        "computed (29.66, 43.79) = -3608.856638\n",
        "computed (29.66, 44.48) = -3860.058137\n",
        "computed (29.66, 45.17) = -4234.752403\n",
        "computed (29.66, 45.86) = -4686.217089\n",
        "computed (29.66, 46.55) = -5160.425929\n",
        "computed (29.66, 47.24) = -5810.363238\n",
        "computed (29.66, 47.93) = -6470.889059\n",
        "computed (29.66, 48.62) = -7205.414828\n",
        "computed (29.66, 49.31) = -8080.124222\n",
        "computed (29.66, 50.00) = -9024.237059\n",
        "computed (30.34, 30.00) = -9626.675602\n",
        "computed (30.34, 30.69) = -9341.584416"
       ]
      },
      {
       "output_type": "stream",
       "stream": "stdout",
       "text": [
        "\n",
        "computed (30.34, 31.38) = -9221.174211\n",
        "computed (30.34, 32.07) = -11771.004583\n",
        "computed (30.34, 32.76) = -8072.473332\n",
        "computed (30.34, 33.45) = -7566.398657\n",
        "computed (30.34, 34.14) = -7116.240884\n",
        "computed (30.34, 34.83) = -6625.435045\n",
        "computed (30.34, 35.52) = -6263.621286\n",
        "computed (30.34, 36.21) = -6795.878360\n",
        "computed (30.34, 36.90) = -5336.903156\n",
        "computed (30.34, 37.59) = -4957.152272\n",
        "computed (30.34, 38.28) = -4659.725378\n",
        "computed (30.34, 38.97) = -4447.695368"
       ]
      },
      {
       "output_type": "stream",
       "stream": "stdout",
       "text": [
        "\n",
        "computed (30.34, 39.66) = -4207.750970\n",
        "computed (30.34, 40.34) = -4068.866887\n",
        "computed (30.34, 41.03) = -4155.475990\n",
        "computed (30.34, 41.72) = -3725.305499\n",
        "computed (30.34, 42.41) = -3709.120203\n",
        "computed (30.34, 43.10) = -3740.248839\n",
        "computed (30.34, 43.79) = -3911.202107\n",
        "computed (30.34, 44.48) = -4116.194625\n",
        "computed (30.34, 45.17) = -4443.259226\n",
        "computed (30.34, 45.86) = -4833.253121\n",
        "computed (30.34, 46.55) = -5341.162195\n",
        "computed (30.34, 47.24) = -5908.505866"
       ]
      },
      {
       "output_type": "stream",
       "stream": "stdout",
       "text": [
        "\n",
        "computed (30.34, 47.93) = -6570.769081\n",
        "computed (30.34, 48.62) = -7288.561035\n",
        "computed (30.34, 49.31) = -8093.522801\n",
        "computed (30.34, 50.00) = -8924.820196\n",
        "computed (31.03, 30.00) = -10583.891642\n",
        "computed (31.03, 30.69) = -10179.445177\n",
        "computed (31.03, 31.38) = -10242.082598\n",
        "computed (31.03, 32.07) = -15293.607162\n",
        "computed (31.03, 32.76) = -9000.984301\n",
        "computed (31.03, 33.45) = -8457.171402\n",
        "computed (31.03, 34.14) = -7913.071085\n",
        "computed (31.03, 34.83) = -9526.855827"
       ]
      },
      {
       "output_type": "stream",
       "stream": "stdout",
       "text": [
        "\n",
        "computed (31.03, 35.52) = -9472.139880\n",
        "computed (31.03, 36.21) = -16459.874759\n",
        "computed (31.03, 36.90) = -6097.195370\n",
        "computed (31.03, 37.59) = -5600.252929\n",
        "computed (31.03, 38.28) = -5293.777241\n",
        "computed (31.03, 38.97) = -5002.560687\n",
        "computed (31.03, 39.66) = -4762.216936\n",
        "computed (31.03, 40.34) = -4495.637883\n",
        "computed (31.03, 41.03) = -4324.599192\n",
        "computed (31.03, 41.72) = -4182.129482\n",
        "computed (31.03, 42.41) = -4075.589976\n",
        "computed (31.03, 43.10) = -4120.356522"
       ]
      },
      {
       "output_type": "stream",
       "stream": "stdout",
       "text": [
        "\n",
        "computed (31.03, 43.79) = -4175.474792\n",
        "computed (31.03, 44.48) = -4353.438036\n",
        "computed (31.03, 45.17) = -4662.052873\n",
        "computed (31.03, 45.86) = -5035.561843\n",
        "computed (31.03, 46.55) = -5479.343992\n",
        "computed (31.03, 47.24) = -6038.774961\n",
        "computed (31.03, 47.93) = -6664.128115\n",
        "computed (31.03, 48.62) = -7345.655550\n",
        "computed (31.03, 49.31) = -8109.942579\n",
        "computed (31.03, 50.00) = -8901.871328\n",
        "computed (31.72, 30.00) = -11449.162239\n",
        "computed (31.72, 30.69) = -11132.700502"
       ]
      },
      {
       "output_type": "stream",
       "stream": "stdout",
       "text": [
        "\n",
        "computed (31.72, 31.38) = -10790.410362\n",
        "computed (31.72, 32.07) = -10372.396476\n",
        "computed (31.72, 32.76) = -9824.817708\n",
        "computed (31.72, 33.45) = -9325.063684\n",
        "computed (31.72, 34.14) = -10455.242405\n",
        "computed (31.72, 34.83) = -10448.353794\n",
        "computed (31.72, 35.52) = -8788.208522\n",
        "computed (31.72, 36.21) = -7655.393993\n",
        "computed (31.72, 36.90) = -6668.054896\n",
        "computed (31.72, 37.59) = -6297.789456\n",
        "computed (31.72, 38.28) = -5912.887211\n",
        "computed (31.72, 38.97) = -5696.674820"
       ]
      },
      {
       "output_type": "stream",
       "stream": "stdout",
       "text": [
        "\n",
        "computed (31.72, 39.66) = -5390.001933\n",
        "computed (31.72, 40.34) = -5126.645563\n",
        "computed (31.72, 41.03) = -4847.739388\n",
        "computed (31.72, 41.72) = -4582.441436\n",
        "computed (31.72, 42.41) = -4468.992629\n",
        "computed (31.72, 43.10) = -4432.943742\n",
        "computed (31.72, 43.79) = -4461.872160\n",
        "computed (31.72, 44.48) = -4646.227953\n",
        "computed (31.72, 45.17) = -4894.665352\n",
        "computed (31.72, 45.86) = -5202.127986\n",
        "computed (31.72, 46.55) = -5650.459774"
       ]
      },
      {
       "output_type": "stream",
       "stream": "stdout",
       "text": [
        "\n",
        "computed (31.72, 47.24) = -6192.731201\n",
        "computed (31.72, 47.93) = -6754.096301\n",
        "computed (31.72, 48.62) = -7446.604223\n",
        "computed (31.72, 49.31) = -8107.195555\n",
        "computed (31.72, 50.00) = -8876.679561\n",
        "computed (32.41, 30.00) = -12364.744261\n",
        "computed (32.41, 30.69) = -12106.255178\n",
        "computed (32.41, 31.38) = -11717.213614\n",
        "computed (32.41, 32.07) = -11291.127203\n",
        "computed (32.41, 32.76) = -10843.486105\n",
        "computed (32.41, 33.45) = -10244.682976\n",
        "computed (32.41, 34.14) = -15904.851234"
       ]
      },
      {
       "output_type": "stream",
       "stream": "stdout",
       "text": [
        "\n",
        "computed (32.41, 34.83) = -9944.362627\n",
        "computed (32.41, 35.52) = -8394.525281\n",
        "computed (32.41, 36.21) = -7818.412910\n",
        "computed (32.41, 36.90) = -7334.487448\n",
        "computed (32.41, 37.59) = -6872.560568\n",
        "computed (32.41, 38.28) = -6581.642838\n",
        "computed (32.41, 38.97) = -6293.930505\n",
        "computed (32.41, 39.66) = -6026.610238\n",
        "computed (32.41, 40.34) = -5686.949263\n",
        "computed (32.41, 41.03) = -5331.747346\n",
        "computed (32.41, 41.72) = -5022.351581\n",
        "computed (32.41, 42.41) = -4882.007403"
       ]
      },
      {
       "output_type": "stream",
       "stream": "stdout",
       "text": [
        "\n",
        "computed (32.41, 43.10) = -4775.243709\n",
        "computed (32.41, 43.79) = -4767.949884\n",
        "computed (32.41, 44.48) = -4900.863193\n",
        "computed (32.41, 45.17) = -5116.496507\n",
        "computed (32.41, 45.86) = -5423.845728\n",
        "computed (32.41, 46.55) = -5863.683651\n",
        "computed (32.41, 47.24) = -6302.300913\n",
        "computed (32.41, 47.93) = -6917.520840\n",
        "computed (32.41, 48.62) = -7514.931140\n",
        "computed (32.41, 49.31) = -8174.918668\n",
        "computed (32.41, 50.00) = -8867.080888\n",
        "computed (33.10, 30.00) = -13405.980603"
       ]
      },
      {
       "output_type": "stream",
       "stream": "stdout",
       "text": [
        "\n",
        "computed (33.10, 30.69) = -13094.133654\n",
        "computed (33.10, 31.38) = -12689.925149\n",
        "computed (33.10, 32.07) = -12286.059723\n",
        "computed (33.10, 32.76) = -11735.597799\n",
        "computed (33.10, 33.45) = -11147.524750\n",
        "computed (33.10, 34.14) = -10610.925350\n",
        "computed (33.10, 34.83) = -9831.015804\n",
        "computed (33.10, 35.52) = -9115.996240\n",
        "computed (33.10, 36.21) = -8538.958203\n",
        "computed (33.10, 36.90) = -7987.446839\n",
        "computed (33.10, 37.59) = -7500.571737\n",
        "computed (33.10, 38.28) = -7211.844666"
       ]
      },
      {
       "output_type": "stream",
       "stream": "stdout",
       "text": [
        "\n",
        "computed (33.10, 38.97) = -6950.380724\n",
        "computed (33.10, 39.66) = -6747.569396\n",
        "computed (33.10, 40.34) = -6334.125748\n",
        "computed (33.10, 41.03) = -5801.538596\n",
        "computed (33.10, 41.72) = -5427.439986\n",
        "computed (33.10, 42.41) = -5247.412430\n",
        "computed (33.10, 43.10) = -5083.267103\n",
        "computed (33.10, 43.79) = -5083.007771\n",
        "computed (33.10, 44.48) = -5251.860817\n",
        "computed (33.10, 45.17) = -5359.850425\n",
        "computed (33.10, 45.86) = -5659.443022\n",
        "computed (33.10, 46.55) = -6027.964701"
       ]
      },
      {
       "output_type": "stream",
       "stream": "stdout",
       "text": [
        "\n",
        "computed (33.10, 47.24) = -6499.292526\n",
        "computed (33.10, 47.93) = -7055.451708\n",
        "computed (33.10, 48.62) = -7602.072560\n",
        "computed (33.10, 49.31) = -8287.490606\n",
        "computed (33.10, 50.00) = -8924.220719\n",
        "computed (33.79, 30.00) = -14400.687879\n",
        "computed (33.79, 30.69) = -14078.395722\n",
        "computed (33.79, 31.38) = -13686.967717\n",
        "computed (33.79, 32.07) = -13297.535633\n",
        "computed (33.79, 32.76) = -12785.731298\n",
        "computed (33.79, 33.45) = -12137.731997\n"
       ]
      },
      {
       "output_type": "stream",
       "stream": "stdout",
       "text": [
        "computed (33.79, 34.14) = -11359.668400\n",
        "computed (33.79, 34.83) = -11779.476709\n",
        "computed (33.79, 35.52) = -11252.787334\n",
        "computed (33.79, 36.21) = -9164.337001\n",
        "computed (33.79, 36.90) = -8530.212145\n",
        "computed (33.79, 37.59) = -8069.827948\n",
        "computed (33.79, 38.28) = -7826.308311\n",
        "computed (33.79, 38.97) = -7458.550991\n",
        "computed (33.79, 39.66) = -7343.560784\n",
        "computed (33.79, 40.34) = -6781.199430\n",
        "computed (33.79, 41.03) = -6196.184306\n",
        "computed (33.79, 41.72) = -5845.367708\n",
        "computed (33.79, 42.41) = -5618.118820"
       ]
      },
      {
       "output_type": "stream",
       "stream": "stdout",
       "text": [
        "\n",
        "computed (33.79, 43.10) = -5426.569421\n",
        "computed (33.79, 43.79) = -6713.464230\n",
        "computed (33.79, 44.48) = -7813.176158\n",
        "computed (33.79, 45.17) = -5640.446507\n",
        "computed (33.79, 45.86) = -5905.636075\n",
        "computed (33.79, 46.55) = -6241.318286\n",
        "computed (33.79, 47.24) = -6696.730286\n",
        "computed (33.79, 47.93) = -7162.900657\n",
        "computed (33.79, 48.62) = -7781.904330\n",
        "computed (33.79, 49.31) = -8335.638611\n",
        "computed (33.79, 50.00) = -8986.029727\n",
        "computed (34.48, 30.00) = -15394.771117"
       ]
      },
      {
       "output_type": "stream",
       "stream": "stdout",
       "text": [
        "\n",
        "computed (34.48, 30.69) = -15017.369271\n",
        "computed (34.48, 31.38) = -14636.391598\n",
        "computed (34.48, 32.07) = -14228.987730\n",
        "computed (34.48, 32.76) = -13816.801347\n",
        "computed (34.48, 33.45) = -13125.756618\n",
        "computed (34.48, 34.14) = -12190.114596\n",
        "computed (34.48, 34.83) = -13769.887427\n",
        "computed (34.48, 35.52) = -13641.816234\n",
        "computed (34.48, 36.21) = -9737.505037\n",
        "computed (34.48, 36.90) = -9103.712570\n",
        "computed (34.48, 37.59) = -8743.571601\n",
        "computed (34.48, 38.28) = -15730.114315"
       ]
      },
      {
       "output_type": "stream",
       "stream": "stdout",
       "text": [
        "\n",
        "computed (34.48, 38.97) = -8013.404671\n",
        "computed (34.48, 39.66) = -7582.852547\n",
        "computed (34.48, 40.34) = -7099.386498\n",
        "computed (34.48, 41.03) = -6576.740544\n",
        "computed (34.48, 41.72) = -6199.523796\n",
        "computed (34.48, 42.41) = -5925.959316\n",
        "computed (34.48, 43.10) = -5763.923221\n",
        "computed (34.48, 43.79) = -8313.630485\n",
        "computed (34.48, 44.48) = -9635.515396\n",
        "computed (34.48, 45.17) = -5953.221269\n",
        "computed (34.48, 45.86) = -6139.925810\n",
        "computed (34.48, 46.55) = -6475.106297"
       ]
      },
      {
       "output_type": "stream",
       "stream": "stdout",
       "text": [
        "\n",
        "computed (34.48, 47.24) = -6896.239952\n",
        "computed (34.48, 47.93) = -7382.899753\n",
        "computed (34.48, 48.62) = -7896.950482\n",
        "computed (34.48, 49.31) = -8519.681330\n",
        "computed (34.48, 50.00) = -9124.023298\n",
        "computed (35.17, 30.00) = -16183.256931\n",
        "computed (35.17, 30.69) = -15730.980100\n",
        "computed (35.17, 31.38) = -15448.080075\n",
        "computed (35.17, 32.07) = -15180.150304\n",
        "computed (35.17, 32.76) = -15399.124256\n",
        "computed (35.17, 33.45) = -20371.064537\n",
        "computed (35.17, 34.14) = -12942.917159"
       ]
      },
      {
       "output_type": "stream",
       "stream": "stdout",
       "text": [
        "\n",
        "computed (35.17, 34.83) = -11953.160162\n",
        "computed (35.17, 35.52) = -11151.946679\n",
        "computed (35.17, 36.21) = -10804.671397\n",
        "computed (35.17, 36.90) = -11066.127850\n",
        "computed (35.17, 37.59) = -9243.948232\n",
        "computed (35.17, 38.28) = -11872.099157\n",
        "computed (35.17, 38.97) = -8257.947000\n",
        "computed (35.17, 39.66) = -7753.984465\n",
        "computed (35.17, 40.34) = -7303.882249\n",
        "computed (35.17, 41.03) = -6904.343422\n",
        "computed (35.17, 41.72) = -6549.366988\n",
        "computed (35.17, 42.41) = -6291.468294"
       ]
      },
      {
       "output_type": "stream",
       "stream": "stdout",
       "text": [
        "\n",
        "computed (35.17, 43.10) = -6113.168906\n",
        "computed (35.17, 43.79) = -6133.510545\n",
        "computed (35.17, 44.48) = -6194.600704\n",
        "computed (35.17, 45.17) = -6195.727462\n",
        "computed (35.17, 45.86) = -6406.127624\n",
        "computed (35.17, 46.55) = -6743.916262\n",
        "computed (35.17, 47.24) = -7136.518256\n",
        "computed (35.17, 47.93) = -7591.741013\n",
        "computed (35.17, 48.62) = -8101.703570\n",
        "computed (35.17, 49.31) = -8664.997846\n",
        "computed (35.17, 50.00) = -9247.390302\n",
        "computed (35.86, 30.00) = -16468.852988"
       ]
      },
      {
       "output_type": "stream",
       "stream": "stdout",
       "text": [
        "\n",
        "computed (35.86, 30.69) = -16207.703896\n",
        "computed (35.86, 31.38) = -16109.657407\n",
        "computed (35.86, 32.07) = -15899.839340\n",
        "computed (35.86, 32.76) = -16153.554400\n",
        "computed (35.86, 33.45) = -22188.516468\n",
        "computed (35.86, 34.14) = -13465.816013\n",
        "computed (35.86, 34.83) = -12406.690011\n",
        "computed (35.86, 35.52) = -12030.280945\n",
        "computed (35.86, 36.21) = -27837.531326\n",
        "computed (35.86, 36.90) = -23648.765642\n",
        "computed (35.86, 37.59) = -11888.825123\n",
        "computed (35.86, 38.28) = -9167.092428"
       ]
      },
      {
       "output_type": "stream",
       "stream": "stdout",
       "text": [
        "\n",
        "computed (35.86, 38.97) = -8460.371952\n",
        "computed (35.86, 39.66) = -8043.259593\n",
        "computed (35.86, 40.34) = -7611.483148\n",
        "computed (35.86, 41.03) = -7186.172638\n",
        "computed (35.86, 41.72) = -6876.284724\n",
        "computed (35.86, 42.41) = -6574.432850\n",
        "computed (35.86, 43.10) = -6438.387954\n",
        "computed (35.86, 43.79) = -6360.453600\n",
        "computed (35.86, 44.48) = -6381.912124\n",
        "computed (35.86, 45.17) = -6512.178209\n",
        "computed (35.86, 45.86) = -6725.534724\n",
        "computed (35.86, 46.55) = -6995.061528"
       ]
      },
      {
       "output_type": "stream",
       "stream": "stdout",
       "text": [
        "\n",
        "computed (35.86, 47.24) = -7377.098624\n",
        "computed (35.86, 47.93) = -7806.139432\n",
        "computed (35.86, 48.62) = -8335.666609\n",
        "computed (35.86, 49.31) = -8857.335269\n",
        "computed (35.86, 50.00) = -9453.610772\n",
        "computed (36.55, 30.00) = -16559.936547\n",
        "computed (36.55, 30.69) = -16604.961766\n",
        "computed (36.55, 31.38) = -16549.332661\n",
        "computed (36.55, 32.07) = -16499.788077\n",
        "computed (36.55, 32.76) = -15836.251514\n",
        "computed (36.55, 33.45) = -14884.378152\n",
        "computed (36.55, 34.14) = -13812.454383"
       ]
      },
      {
       "output_type": "stream",
       "stream": "stdout",
       "text": [
        "\n",
        "computed (36.55, 34.83) = -12790.910359\n",
        "computed (36.55, 35.52) = -12050.672858\n",
        "computed (36.55, 36.21) = -12549.174358\n",
        "computed (36.55, 36.90) = -10895.342933\n",
        "computed (36.55, 37.59) = -19568.811644\n",
        "computed (36.55, 38.28) = -9982.498030\n",
        "computed (36.55, 38.97) = -8731.838834\n",
        "computed (36.55, 39.66) = -8282.229463\n",
        "computed (36.55, 40.34) = -7858.224685\n",
        "computed (36.55, 41.03) = -7512.140796\n",
        "computed (36.55, 41.72) = -7193.902796\n",
        "computed (36.55, 42.41) = -6967.560468"
       ]
      },
      {
       "output_type": "stream",
       "stream": "stdout",
       "text": [
        "\n",
        "computed (36.55, 43.10) = -6767.718214\n",
        "computed (36.55, 43.79) = -6698.328922\n",
        "computed (36.55, 44.48) = -6726.145237\n",
        "computed (36.55, 45.17) = -6821.476645\n",
        "computed (36.55, 45.86) = -7010.886481\n",
        "computed (36.55, 46.55) = -7297.594361\n",
        "computed (36.55, 47.24) = -7675.658868\n",
        "computed (36.55, 47.93) = -8105.338487\n",
        "computed (36.55, 48.62) = -8543.105694\n",
        "computed (36.55, 49.31) = -9130.513654\n",
        "computed (36.55, 50.00) = -9662.142477\n",
        "computed (37.24, 30.00) = -16718.477121"
       ]
      },
      {
       "output_type": "stream",
       "stream": "stdout",
       "text": [
        "\n",
        "computed (37.24, 30.69) = -16704.835310\n",
        "computed (37.24, 31.38) = -16707.718300\n",
        "computed (37.24, 32.07) = -16638.144143\n",
        "computed (37.24, 32.76) = -15987.293063\n",
        "computed (37.24, 33.45) = -15035.213484\n",
        "computed (37.24, 34.14) = -14006.891983\n",
        "computed (37.24, 34.83) = -13111.351752\n",
        "computed (37.24, 35.52) = -12197.862971\n",
        "computed (37.24, 36.21) = -11451.408361\n",
        "computed (37.24, 36.90) = -10722.535117\n",
        "computed (37.24, 37.59) = -10409.532401\n",
        "computed (37.24, 38.28) = -9586.797578"
       ]
      },
      {
       "output_type": "stream",
       "stream": "stdout",
       "text": [
        "\n",
        "computed (37.24, 38.97) = -9053.272008\n",
        "computed (37.24, 39.66) = -8605.921411\n",
        "computed (37.24, 40.34) = -8196.512437\n",
        "computed (37.24, 41.03) = -7802.551843\n",
        "computed (37.24, 41.72) = -7527.280965\n",
        "computed (37.24, 42.41) = -7258.627970\n",
        "computed (37.24, 43.10) = -7102.161793\n",
        "computed (37.24, 43.79) = -7074.497427\n",
        "computed (37.24, 44.48) = -7044.964044\n",
        "computed (37.24, 45.17) = -7167.368742\n",
        "computed (37.24, 45.86) = -7371.984571\n",
        "computed (37.24, 46.55) = -7625.988834"
       ]
      },
      {
       "output_type": "stream",
       "stream": "stdout",
       "text": [
        "\n",
        "computed (37.24, 47.24) = -7945.158673\n",
        "computed (37.24, 47.93) = -8364.654227\n",
        "computed (37.24, 48.62) = -8853.886686\n",
        "computed (37.24, 49.31) = -9348.925409\n",
        "computed (37.24, 50.00) = -9889.118837\n",
        "computed (37.93, 30.00) = -16821.812216\n",
        "computed (37.93, 30.69) = -16757.837136\n",
        "computed (37.93, 31.38) = -16656.888294\n",
        "computed (37.93, 32.07) = -16413.088526\n",
        "computed (37.93, 32.76) = -15800.257099\n",
        "computed (37.93, 33.45) = -15002.009384\n",
        "computed (37.93, 34.14) = -14138.763221"
       ]
      },
      {
       "output_type": "stream",
       "stream": "stdout",
       "text": [
        "\n",
        "computed (37.93, 34.83) = -13362.067940\n",
        "computed (37.93, 35.52) = -12498.431929\n",
        "computed (37.93, 36.21) = -11737.705404\n",
        "computed (37.93, 36.90) = -11066.680544\n",
        "computed (37.93, 37.59) = -10402.078172\n",
        "computed (37.93, 38.28) = -9840.610481\n",
        "computed (37.93, 38.97) = -9347.731758\n",
        "computed (37.93, 39.66) = -8890.830061\n",
        "computed (37.93, 40.34) = -8483.872461\n",
        "computed (37.93, 41.03) = -8153.802343\n",
        "computed (37.93, 41.72) = -7880.252769\n",
        "computed (37.93, 42.41) = -7640.505055"
       ]
      },
      {
       "output_type": "stream",
       "stream": "stdout",
       "text": [
        "\n",
        "computed (37.93, 43.10) = -7500.135076\n",
        "computed (37.93, 43.79) = -7382.820701\n",
        "computed (37.93, 44.48) = -7445.226615\n",
        "computed (37.93, 45.17) = -7505.331389\n",
        "computed (37.93, 45.86) = -7674.691496\n",
        "computed (37.93, 46.55) = -7954.775352\n",
        "computed (37.93, 47.24) = -8309.517310\n",
        "computed (37.93, 47.93) = -8703.877518\n",
        "computed (37.93, 48.62) = -9135.830500\n",
        "computed (37.93, 49.31) = -9636.911419\n",
        "computed (37.93, 50.00) = -10214.782625\n",
        "computed (38.62, 30.00) = -16849.839192"
       ]
      },
      {
       "output_type": "stream",
       "stream": "stdout",
       "text": [
        "\n",
        "computed (38.62, 30.69) = -16733.684417\n",
        "computed (38.62, 31.38) = -16523.035099\n",
        "computed (38.62, 32.07) = -16217.984840\n",
        "computed (38.62, 32.76) = -15728.830759\n",
        "computed (38.62, 33.45) = -15072.079842\n",
        "computed (38.62, 34.14) = -14284.765430\n",
        "computed (38.62, 34.83) = -13452.483782\n",
        "computed (38.62, 35.52) = -12739.807949\n",
        "computed (38.62, 36.21) = -11938.655641\n",
        "computed (38.62, 36.90) = -11329.318710\n",
        "computed (38.62, 37.59) = -10677.667718\n",
        "computed (38.62, 38.28) = -10139.956436"
       ]
      },
      {
       "output_type": "stream",
       "stream": "stdout",
       "text": [
        "\n",
        "computed (38.62, 38.97) = -9705.673018\n",
        "computed (38.62, 39.66) = -9201.998862\n",
        "computed (38.62, 40.34) = -8803.703940\n",
        "computed (38.62, 41.03) = -8471.595471\n",
        "computed (38.62, 41.72) = -8173.378822\n",
        "computed (38.62, 42.41) = -7962.870712\n",
        "computed (38.62, 43.10) = -7829.753956\n",
        "computed (38.62, 43.79) = -7783.934929\n",
        "computed (38.62, 44.48) = -7788.484708\n",
        "computed (38.62, 45.17) = -7889.647196\n",
        "computed (38.62, 45.86) = -8102.526668\n",
        "computed (38.62, 46.55) = -8328.298514"
       ]
      },
      {
       "output_type": "stream",
       "stream": "stdout",
       "text": [
        "\n",
        "computed (38.62, 47.24) = -8606.247457\n",
        "computed (38.62, 47.93) = -9021.724558\n",
        "computed (38.62, 48.62) = -9473.759328\n",
        "computed (38.62, 49.31) = -9971.413311\n",
        "computed (38.62, 50.00) = -10504.678024\n",
        "computed (39.31, 30.00) = -16913.137623\n",
        "computed (39.31, 30.69) = -16705.811721\n",
        "computed (39.31, 31.38) = -16435.302998\n",
        "computed (39.31, 32.07) = -16108.828321\n",
        "computed (39.31, 32.76) = -15587.988746\n",
        "computed (39.31, 33.45) = -14967.697275\n",
        "computed (39.31, 34.14) = -14368.479059"
       ]
      },
      {
       "output_type": "stream",
       "stream": "stdout",
       "text": [
        "\n",
        "computed (39.31, 34.83) = -13624.452718\n",
        "computed (39.31, 35.52) = -12912.568542\n",
        "computed (39.31, 36.21) = -12246.540114\n",
        "computed (39.31, 36.90) = -11552.539133\n",
        "computed (39.31, 37.59) = -11021.781065\n",
        "computed (39.31, 38.28) = -11687.961933\n",
        "computed (39.31, 38.97) = -13637.578731\n",
        "computed (39.31, 39.66) = -9534.117594\n",
        "computed (39.31, 40.34) = -9148.693967\n",
        "computed (39.31, 41.03) = -8827.793827\n",
        "computed (39.31, 41.72) = -8579.729298\n",
        "computed (39.31, 42.41) = -8376.071836"
       ]
      },
      {
       "output_type": "stream",
       "stream": "stdout",
       "text": [
        "\n",
        "computed (39.31, 43.10) = -8223.608059\n",
        "computed (39.31, 43.79) = -8172.145788\n",
        "computed (39.31, 44.48) = -8190.074855\n",
        "computed (39.31, 45.17) = -8291.894168\n",
        "computed (39.31, 45.86) = -8421.913691\n",
        "computed (39.31, 46.55) = -8692.602195\n",
        "computed (39.31, 47.24) = -9041.350676\n",
        "computed (39.31, 47.93) = -9408.294394\n",
        "computed (39.31, 48.62) = -9861.557292\n",
        "computed (39.31, 49.31) = -10320.510724\n",
        "computed (39.31, 50.00) = -10876.912014\n",
        "computed (40.00, 30.00) = -17002.433737"
       ]
      },
      {
       "output_type": "stream",
       "stream": "stdout",
       "text": [
        "\n",
        "computed (40.00, 30.69) = -16715.234904\n",
        "computed (40.00, 31.38) = -16431.623259\n",
        "computed (40.00, 32.07) = -16016.597521\n",
        "computed (40.00, 32.76) = -15597.021360\n",
        "computed (40.00, 33.45) = -15051.209636\n",
        "computed (40.00, 34.14) = -14391.068070\n",
        "computed (40.00, 34.83) = -13763.348381\n",
        "computed (40.00, 35.52) = -13077.400701\n",
        "computed (40.00, 36.21) = -12441.968372\n",
        "computed (40.00, 36.90) = -11805.157302\n",
        "computed (40.00, 37.59) = -11240.489278\n",
        "computed (40.00, 38.28) = -11774.614998"
       ]
      },
      {
       "output_type": "stream",
       "stream": "stdout",
       "text": [
        "\n",
        "computed (40.00, 38.97) = -13203.942091\n",
        "computed (40.00, 39.66) = -9843.151495\n",
        "computed (40.00, 40.34) = -9453.509130\n",
        "computed (40.00, 41.03) = -9161.591983\n",
        "computed (40.00, 41.72) = -8903.230476\n",
        "computed (40.00, 42.41) = -8707.715454\n",
        "computed (40.00, 43.10) = -8620.380609\n",
        "computed (40.00, 43.79) = -8544.276929\n",
        "computed (40.00, 44.48) = -8597.165982\n",
        "computed (40.00, 45.17) = -8692.659611\n",
        "computed (40.00, 45.86) = -8898.635195\n",
        "computed (40.00, 46.55) = -9119.515810"
       ]
      },
      {
       "output_type": "stream",
       "stream": "stdout",
       "text": [
        "\n",
        "computed (40.00, 47.24) = -9422.180846\n",
        "computed (40.00, 47.93) = -9807.647995\n",
        "computed (40.00, 48.62) = -10236.002470\n",
        "computed (40.00, 49.31) = -10735.069498\n",
        "computed (40.00, 50.00) = -11287.396482\n"
       ]
      },
      {
       "metadata": {},
       "output_type": "display_data",
       "png": "[encoded data removed]",
       "text": [
        "<matplotlib.figure.Figure at 0x4caaa90>"
       ]
      }
     ],
     "prompt_number": 8
    },
    {
     "cell_type": "code",
     "collapsed": false,
     "input": [
      "\n",
      "fig = plt.figure(figsize=(10, 10))\n",
      "ax = fig.add_subplot(1,1,1)\n",
      "plot_traintest(ax, stas, X_events, X_test[3:4,:])\n"
     ],
     "language": "python",
     "metadata": {},
     "outputs": [
      {
       "metadata": {},
       "output_type": "display_data",
       "png": "[encoded data removed]",
       "text": [
        "<matplotlib.figure.Figure at 0x5e52a50>"
       ]
      }
     ],
     "prompt_number": 33
    },
    {
     "cell_type": "code",
     "collapsed": false,
     "input": [
      "\n",
      "y = sample_synthetic_training_data_sta(['w1',], X_events)\n",
      "fig = plt.figure(figsize=(10, 10))\n",
      "ax = fig.add_subplot(1,1,1)\n",
      "plot_param_values(ax, stas, X_events, y['w1'])"
     ],
     "language": "python",
     "metadata": {},
     "outputs": [
      {
       "metadata": {},
       "output_type": "display_data",
       "png": "[encoded data removed]",
       "text": [
        "<matplotlib.figure.Figure at 0x44b18d0>"
       ]
      }
     ],
     "prompt_number": 10
    },
    {
     "cell_type": "code",
     "collapsed": false,
     "input": [
      "print \"hello\""
     ],
     "language": "python",
     "metadata": {},
     "outputs": [
      {
       "output_type": "stream",
       "stream": "stdout",
       "text": [
        "hello\n"
       ]
      }
     ],
     "prompt_number": 4
    },
    {
     "cell_type": "code",
     "collapsed": false,
     "input": [],
     "language": "python",
     "metadata": {},
     "outputs": []
    }
   ],
   "metadata": {}
  }
 ]
}