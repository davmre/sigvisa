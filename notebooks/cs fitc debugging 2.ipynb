{
 "metadata": {
  "name": "cs fitc debugging 2"
 },
 "nbformat": 3,
 "nbformat_minor": 0,
 "worksheets": [
  {
   "cells": [
    {
     "cell_type": "code",
     "collapsed": false,
     "input": [
      "\n",
      "import os\n",
      "from sigvisa.models.spatial_regression.SparseGP_CSFIC import SparseGP_CSFIC\n",
      "\n",
      "rundir='snow_big'\n",
      "task_name='snow'\n",
      "basedir = os.path.join(os.getenv('SIGVISA_HOME'), 'papers', 'product_tree', 'run', rundir)\n",
      "basename = os.path.join(basedir, task_name)\n",
      "X_train = np.loadtxt(basename + '_X_train.txt', delimiter=',')\n",
      "y_train = np.loadtxt(basename + '_y_train.txt',  delimiter=',')\n",
      "\n",
      "n_max=5000\n",
      "X_train = np.array(X_train[:n_max,:], copy=True)\n",
      "y_train = np.array(y_train[:n_max], copy=True)\n",
      "\n",
      "X_test = np.loadtxt(basename + '_X_test.txt',  delimiter=',')\n",
      "y_test = np.loadtxt(basename + '_y_test.txt',  delimiter=',')\n",
      "    \n",
      "csficbase='/home/dmoore/python/sigvisa/papers/product_tree/run/snow_big/snow_csfic_20/'\n",
      "dfn_str = \"euclidean\"\n",
      "wfn_str_fic = \"se\"\n",
      "wfn_str_cs = \"compact2\"\n",
      "dfn_params_cs = np.loadtxt(os.path.join(csficbase, 'dfn_params_cs.txt'), delimiter=',', ndmin=1)\n",
      "dfn_params_fic = np.loadtxt(os.path.join(csficbase, 'dfn_params_fic.txt'), delimiter=',', ndmin=1)\n",
      "dfn_params_fic *= np.sqrt(2.0)\n",
      "wfn_params_cs = np.loadtxt(os.path.join(csficbase, 'wfn_params_cs.txt'), delimiter=',', ndmin=1)\n",
      "wfn_params_fic = np.loadtxt(os.path.join(csficbase, 'wfn_params_fic.txt'), delimiter=',', ndmin=1)\n",
      "noise_var_csfic = np.loadtxt(os.path.join(csficbase, 'noise_var.txt'), delimiter=',')\n",
      "Xu = np.loadtxt(os.path.join(csficbase, 'Xu.txt'), delimiter=',')\n",
      "\n",
      "gp_csfic = SparseGP_CSFIC(X=X_train, y=y_train,\n",
      "                              dfn_str=dfn_str, dfn_params_fic=dfn_params_fic, dfn_params_cs=dfn_params_cs,\n",
      "                              wfn_str_fic = wfn_str_fic, wfn_params_fic=wfn_params_fic,\n",
      "                              wfn_str_cs = wfn_str_cs, wfn_params_cs=wfn_params_cs,\n",
      "                              build_tree=False, sort_events=False, center_mean=False,\n",
      "                              noise_var=noise_var_csfic, Xu=Xu)\n"
     ],
     "language": "python",
     "metadata": {},
     "outputs": [
      {
       "output_type": "stream",
       "stream": "stdout",
       "text": [
        "Kinv is  0.00791792 full (vs diag at 0.0002 )\n"
       ]
      },
      {
       "output_type": "stream",
       "stream": "stderr",
       "text": [
        "/home/dmoore/python/sigvisa/models/spatial_regression/SparseGP_CSFIC.py:63: CholmodTypeConversionWarning: converting matrix of class csr_matrix to CSC format\n",
        "  factor = scikits.sparse.cholmod.cholesky(K)\n"
       ]
      }
     ],
     "prompt_number": 2
    },
    {
     "cell_type": "code",
     "collapsed": false,
     "input": [
      "X1 = X_test[0:1,:]\n",
      "print X1"
     ],
     "language": "python",
     "metadata": {},
     "outputs": [
      {
       "output_type": "stream",
       "stream": "stdout",
       "text": [
        "[[ 171.        120.615     -39.675      26.190476]]\n"
       ]
      }
     ],
     "prompt_number": 3
    },
    {
     "cell_type": "code",
     "collapsed": false,
     "input": [
      "\n",
      "# p = La\\y - L*(L'*y);\n",
      "\n",
      "gp_csfic.alpha_r"
     ],
     "language": "python",
     "metadata": {},
     "outputs": [
      {
       "output_type": "pyout",
       "prompt_number": 5,
       "text": [
        "array([ 0.1790739 ,  2.69292118, -1.83003839, ..., -2.79718053,\n",
        "        0.18356112,  0.31602828])"
       ]
      }
     ],
     "prompt_number": 5
    },
    {
     "cell_type": "code",
     "collapsed": false,
     "input": [
      "gp_csfic.HKinv[0,:]"
     ],
     "language": "python",
     "metadata": {},
     "outputs": [
      {
       "output_type": "pyout",
       "prompt_number": 7,
       "text": [
        "array([ 0.00325775, -0.00284117,  0.01634118, ...,  0.13489553,\n",
        "        0.00874696,  0.00349786])"
       ]
      }
     ],
     "prompt_number": 7
    },
    {
     "cell_type": "code",
     "collapsed": false,
     "input": [
      "Kfu = gp_csfic.kernel(gp_csfic.Xu, gp_csfic.X, identical=False, predict_tree = gp_csfic.predict_tree_fic)\n"
     ],
     "language": "python",
     "metadata": {},
     "outputs": [
      {
       "output_type": "pyout",
       "prompt_number": 15,
       "text": [
        "array([ 2.03452109,  1.81836504,  1.9925042 ,  3.774541  ,  1.4740717 ,\n",
        "        1.7860189 ,  1.09223636,  3.64810898,  4.07744008,  3.95308858,\n",
        "        3.32365156,  2.40228997,  4.23488362,  4.23409469,  2.80232376,\n",
        "        2.82955844,  1.05497575,  3.3388715 ,  0.8868308 ,  4.62727038])"
       ]
      }
     ],
     "prompt_number": 15
    },
    {
     "cell_type": "code",
     "collapsed": false,
     "input": [
      "gp_csfic.K.todense()[0,:]"
     ],
     "language": "python",
     "metadata": {},
     "outputs": [
      {
       "output_type": "pyout",
       "prompt_number": 17,
       "text": [
        "matrix([[ 16.31344335,   0.        ,   0.        , ...,   0.        ,\n",
        "           0.        ,   0.        ]])"
       ]
      }
     ],
     "prompt_number": 17
    },
    {
     "cell_type": "code",
     "collapsed": false,
     "input": [
      "myK = gp_csfic.sparse_kernel(gp_csfic.X, identical=True, predict_tree=gp_csfic.predict_tree_cs, max_distance=1.0).todense()\n",
      "myKdense = gp_csfic.kernel(gp_csfic.X, gp_csfic.X, identical=True, predict_tree=gp_csfic.predict_tree_cs)"
     ],
     "language": "python",
     "metadata": {},
     "outputs": [],
     "prompt_number": 18
    },
    {
     "cell_type": "code",
     "collapsed": false,
     "input": [
      "import scipy.linalg\n",
      "K_fic_un = gp_csfic.kernel(gp_csfic.Xu, gp_csfic.X, identical=False, predict_tree = gp_csfic.predict_tree_fic)\n",
      "B = scipy.linalg.solve(gp_csfic.Luu, K_fic_un)\n",
      "Qvff = np.sum(B*B, axis=0)\n",
      "print gp_csfic.wfn_params_fic[0]-Qvff"
     ],
     "language": "python",
     "metadata": {},
     "outputs": [
      {
       "output_type": "stream",
       "stream": "stdout",
       "text": [
        "[  3.24415542e-03   6.00086650e-03   3.98538195e-04 ...,   7.40592065e-03\n",
        "   1.76447686e-04   3.36987988e-05]\n"
       ]
      }
     ],
     "prompt_number": 28
    },
    {
     "cell_type": "code",
     "collapsed": false,
     "input": [
      "dg = gp_csfic.covariance_diag_correction(gp_csfic.X)\n",
      "print np.sum(dg)"
     ],
     "language": "python",
     "metadata": {},
     "outputs": [
      {
       "output_type": "stream",
       "stream": "stdout",
       "text": [
        "160.780308434\n"
       ]
      }
     ],
     "prompt_number": 32
    },
    {
     "cell_type": "code",
     "collapsed": false,
     "input": [
      "Kcs = myK + np.diag(dg)\n",
      "print myK[0,0]\n",
      "print Kcs[0,0]"
     ],
     "language": "python",
     "metadata": {},
     "outputs": [
      {
       "output_type": "stream",
       "stream": "stdout",
       "text": [
        "16.310199193\n",
        "16.3134433484\n"
       ]
      }
     ],
     "prompt_number": 34
    },
    {
     "cell_type": "code",
     "collapsed": false,
     "input": [
      "print gp_csfic.wfn_params_cs[0]"
     ],
     "language": "python",
     "metadata": {},
     "outputs": [
      {
       "output_type": "stream",
       "stream": "stdout",
       "text": [
        "16.267705\n"
       ]
      }
     ],
     "prompt_number": 36
    },
    {
     "cell_type": "code",
     "collapsed": false,
     "input": [
      "print gp_csfic.predict(X1)"
     ],
     "language": "python",
     "metadata": {},
     "outputs": [
      {
       "output_type": "stream",
       "stream": "stdout",
       "text": [
        "30.9366375801\n"
       ]
      }
     ],
     "prompt_number": 38
    },
    {
     "cell_type": "code",
     "collapsed": false,
     "input": [],
     "language": "python",
     "metadata": {},
     "outputs": []
    }
   ],
   "metadata": {}
  }
 ]
}