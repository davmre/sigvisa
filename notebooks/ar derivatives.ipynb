{
 "metadata": {
  "name": "",
  "signature": "sha256:ab0b228a5d6e8529b46e9f4b93b3142790756269d07998374360baa1ea9ae9d1"
 },
 "nbformat": 3,
 "nbformat_minor": 0,
 "worksheets": [
  {
   "cells": [
    {
     "cell_type": "code",
     "collapsed": false,
     "input": [
      "from sigvisa.models.noise.armodel.model import ARModel, ErrorModel"
     ],
     "language": "python",
     "metadata": {},
     "outputs": [],
     "prompt_number": 1
    },
    {
     "cell_type": "code",
     "collapsed": false,
     "input": [
      "em = ErrorModel(0, 0.05)\n",
      "\n",
      "params = np.array((0.6, 0.2, 0.01))\n",
      "arm = ARModel(params, em, c=0.2)"
     ],
     "language": "python",
     "metadata": {},
     "outputs": [],
     "prompt_number": 2
    },
    {
     "cell_type": "code",
     "collapsed": false,
     "input": [
      "a = arm.sample(20)\n",
      "plot(a)"
     ],
     "language": "python",
     "metadata": {},
     "outputs": [
      {
       "metadata": {},
       "output_type": "pyout",
       "prompt_number": 3,
       "text": [
        "[<matplotlib.lines.Line2D at 0x4832e90>]"
       ]
      },
      {
       "metadata": {},
       "output_type": "display_data",
       "png": "[encoded data removed]",
       "text": [
        "<matplotlib.figure.Figure at 0x37c6d50>"
       ]
      }
     ],
     "prompt_number": 3
    },
    {
     "cell_type": "code",
     "collapsed": false,
     "input": [
      "arm.log_p(a)"
     ],
     "language": "python",
     "metadata": {},
     "outputs": [
      {
       "metadata": {},
       "output_type": "pyout",
       "prompt_number": 4,
       "text": [
        "31.428223842049505"
       ]
      }
     ],
     "prompt_number": 4
    },
    {
     "cell_type": "code",
     "collapsed": false,
     "input": [
      "import numpy.ma as ma\n",
      "\n",
      "maskedA = ma.masked_array(a, mask=np.zeros(a.shape))\n",
      "print arm.slow_AR(maskedA, 0.2)\n",
      "print arm.fast_AR(maskedA, 0.2, em.std)"
     ],
     "language": "python",
     "metadata": {},
     "outputs": [
      {
       "output_type": "stream",
       "stream": "stdout",
       "text": [
        "31.428223842\n",
        "31.428223842\n"
       ]
      }
     ],
     "prompt_number": 5
    },
    {
     "cell_type": "code",
     "collapsed": false,
     "input": [
      "ll, grad = arm.argrad(a)\n",
      "print ll\n",
      "\n",
      "import numdifftools as nd\n",
      "grad2 = nd.Gradient(arm.log_p).gradient(a)\n",
      "print grad2/grad"
     ],
     "language": "python",
     "metadata": {},
     "outputs": [
      {
       "output_type": "stream",
       "stream": "stdout",
       "text": [
        "31.428223842\n",
        "[ 1.  1.  1.  1.  1.  1.  1.  1.  1.  1.  1.  1.  1.  1.  1.  1.  1.  1.\n",
        "  1.  1.]\n"
       ]
      }
     ],
     "prompt_number": 6
    },
    {
     "cell_type": "code",
     "collapsed": false,
     "input": [
      "import numdifftools as nd\n",
      "\n",
      "\n",
      "#H1 = nd.Hessian(arm.log_p).hessian(a)\n",
      "#print H1\n",
      "\n",
      "jac = lambda x : arm.argrad(x)[1]\n",
      "#H2 = nd.Jacobian(jac).jacobian(a)\n",
      "\n",
      "\n",
      "def num_jac(f, x, eps=1e-4):\n",
      "    v0 = f(x)\n",
      "    n = len(x)\n",
      "    m = len(v0) if isinstance(v0,np.ndarray) else 1\n",
      "    jac = np.zeros((m, n))\n",
      "    for i in range(n):\n",
      "        x[i] -= eps\n",
      "        v1 = f(x)\n",
      "        x[i] += 2*eps\n",
      "        v2 = f(x)\n",
      "        x[i] -= eps\n",
      "        jac[:, i] = (v2-v1)/(2*eps)\n",
      "    return jac\n",
      "\n",
      "#H3 = num_jac(jac, a)\n",
      "\n",
      "#print H3-H2"
     ],
     "language": "python",
     "metadata": {},
     "outputs": [],
     "prompt_number": 1
    },
    {
     "cell_type": "code",
     "collapsed": false,
     "input": [
      "def naiveAR(arm, d, c, std):\n",
      "    n = len(d)\n",
      "    m = d.mask\n",
      "    d = d.data - c\n",
      "    p = np.array(arm.params)\n",
      "    n_p = len(p)\n",
      "    t1 = np.log(std) + 0.5 * np.log(2 * np.pi)\n",
      "\n",
      "    d_prob=0\n",
      "    for t in range(n):\n",
      "        if m[t]:\n",
      "            continue\n",
      "            \n",
      "        expected = 0\n",
      "        for i in range(n_p):\n",
      "            if t>i and not m[t-i-1]:\n",
      "                ne = p[i] * d[t-i-1]\n",
      "                expected += ne\n",
      "        err = d[t]-expected\n",
      "        x = err/std\n",
      "        ll = t1 + 0.5*x*x\n",
      "        d_prob -= ll\n",
      "    return d_prob\n",
      "\n",
      "def argrad(arm, d, c, std):\n",
      "    n = len(d)\n",
      "    m = d.mask\n",
      "    d = d.data - c\n",
      "    p = np.array(arm.params)\n",
      "    n_p = len(p)\n",
      "    t1 = np.log(std) + 0.5 * np.log(2 * np.pi)\n",
      "\n",
      "    grad = np.zeros((n,))\n",
      "    d_prob=0\n",
      "    for t in range(n):\n",
      "        if m[t]:\n",
      "            continue\n",
      "            \n",
      "        expected = 0\n",
      "        for i in range(n_p):\n",
      "            if t>i and not m[t-i-1]:\n",
      "                ne = p[i] * d[t-i-1]\n",
      "                expected += ne\n",
      "        err = d[t]-expected\n",
      "        x = err/std\n",
      "        ll = t1 + 0.5*x*x\n",
      "        d_prob -= ll\n",
      "        \n",
      "        grad[t] -= 1.0/(std**2)* err\n",
      "        for i in range(n_p):\n",
      "            if t>i and not m[t-i-1]:\n",
      "                grad[t-i-1] += 1.0/(std**2) * err * p[i]\n",
      "        \n",
      "    return grad\n",
      "\n",
      "import scipy.weave as weave\n",
      "from scipy.weave import converters\n",
      "\n",
      "def argrad_fast(arm, d, c, std):\n",
      "    n = len(d)\n",
      "    m = d.mask\n",
      "    d = d.data - c\n",
      "    p = np.array(arm.params)\n",
      "    n_p = len(p)\n",
      "    t1 = np.log(std) + 0.5 * np.log(2 * np.pi)\n",
      "\n",
      "    grad = np.zeros((n,))\n",
      "    code = \"\"\"                                                                                 \n",
      "    double d_prob = 0;                                                                         \n",
      "    for (int t=0; t < n; ++t) {                                                                \n",
      "        if (m(t)) { continue; }                                                                \n",
      "\n",
      "       double expected = 0;                                                                    \n",
      "       for (int i=0; i < n_p; ++i) {                                                           \n",
      "           if (t > i && !m(t-i-1)) {                                                           \n",
      "              double ne = p(i) * d(t-i-1);                                                     \n",
      "              expected += ne;                                                                  \n",
      "           }                                                                                   \n",
      "       }                                                                                       \n",
      "       double err = d(t) - expected;                                                           \n",
      "       double x = err/std;                                                                     \n",
      "       double ll = (double)t1 + 0.5 * x*x;                                                     \n",
      "       d_prob -= ll;                        \n",
      "       \n",
      "       grad(t) -= err/(std*std);\n",
      "       for(int i=0; i < n_p; ++i) {\n",
      "           if (t > i && !m(t-i-1)) {                                                           \n",
      "               grad(t-i-1) += err/(std*std) * p(i);                                                               \n",
      "           }    \n",
      "       }\n",
      "    // printf(\"c %d err = %.10f x = %.10f ll = %.10f d_prob=%.10f\\\\n\", t, err, x, ll, d_prob); \n",
      "    }                                                                                          \n",
      "    return_val = d_prob;                                                                       \n",
      "    \"\"\"  \n",
      "    ll = weave.inline(code,  \n",
      "                      ['n', 'n_p', 'm', 'd', 't1', 'std', 'p', 'grad'],  \n",
      "                      type_converters=converters.blitz,  \n",
      "                      compiler='gcc')  \n",
      "    return grad"
     ],
     "language": "python",
     "metadata": {},
     "outputs": [],
     "prompt_number": 8
    },
    {
     "cell_type": "code",
     "collapsed": false,
     "input": [
      "naiveAR(arm, maskedA, 0.2, em.std)"
     ],
     "language": "python",
     "metadata": {},
     "outputs": [
      {
       "metadata": {},
       "output_type": "pyout",
       "prompt_number": 9,
       "text": [
        "31.428223842049505"
       ]
      }
     ],
     "prompt_number": 9
    },
    {
     "cell_type": "code",
     "collapsed": false,
     "input": [
      "f = lambda x : naiveAR(arm, ma.masked_array(x, mask=np.zeros(x.shape)), 0.2, em.std)\n",
      "\n",
      "import numdifftools as nd\n",
      "ngrad = nd.Gradient(f).gradient(a)\n",
      "print ngrad\n",
      "#"
     ],
     "language": "python",
     "metadata": {},
     "outputs": [
      {
       "output_type": "stream",
       "stream": "stdout",
       "text": [
        "[ 25.9919682    0.47140481  -2.02280222  15.08838748  -9.98317669\n",
        "  14.13841576  -4.69535103   1.54590844 -38.1871645   33.34402115\n",
        "   9.34236665  -1.05518124 -15.24917233 -19.62322455  21.59449428\n",
        "  -8.85638986  56.18579135 -42.22709936 -20.33822792  -7.88770401]\n"
       ]
      }
     ],
     "prompt_number": 10
    },
    {
     "cell_type": "code",
     "collapsed": false,
     "input": [
      "print argrad(arm, maskedA, 0.2, em.std)/ngrad"
     ],
     "language": "python",
     "metadata": {},
     "outputs": [
      {
       "output_type": "stream",
       "stream": "stdout",
       "text": [
        "[ 1.          1.          1.          1.          1.          1.          1.\n",
        "  1.          1.          1.          1.          1.          1.          1.\n",
        "  1.          1.          1.          1.          1.          1.          1.\n",
        "  1.          1.          1.          1.          1.          1.          1.\n",
        "  1.          1.          1.          1.          1.          1.          1.\n",
        "  1.          1.          1.          1.          1.          1.          1.\n",
        "  1.          1.          1.          1.          1.          1.          1.\n",
        "  1.          1.          1.          1.          1.          1.          1.\n",
        "  1.          1.          1.          1.          1.          1.          1.\n",
        "  1.          1.          1.          1.          1.          1.          1.\n",
        "  1.          1.          1.          1.          1.          1.          1.\n",
        "  1.          1.          1.          1.          1.          1.          1.\n",
        "  1.          1.          1.          1.          1.          1.          1.\n",
        "  1.          1.          1.          1.          1.          1.          1.\n",
        "  1.          1.          1.          1.          1.          1.          1.\n",
        "  1.          1.          1.          1.          1.          1.          1.\n",
        "  1.          1.          1.          1.          1.          1.          1.\n",
        "  1.          1.          1.          1.          1.          1.          1.\n",
        "  1.          1.          1.          1.          1.          1.          1.\n",
        "  1.          1.          1.          1.          1.          1.          1.\n",
        "  1.          1.          1.          1.          1.          1.          1.\n",
        "  1.          1.          1.          1.          1.          1.          1.\n",
        "  1.00000001  1.          1.          1.          1.          1.          1.\n",
        "  1.          1.          1.          1.          1.          1.          1.\n",
        "  1.          1.          1.          1.          1.          1.          1.\n",
        "  1.          1.          1.          1.          1.          1.          1.\n",
        "  1.          1.          1.          1.          1.          1.          1.\n",
        "  1.          1.          1.          1.          1.          1.          1.\n",
        "  1.          1.          1.          1.        ]\n"
       ]
      }
     ],
     "prompt_number": 35
    },
    {
     "cell_type": "code",
     "collapsed": false,
     "input": [
      "print argrad_fast(arm, maskedA, 0.2, em.std)/ngrad"
     ],
     "language": "python",
     "metadata": {},
     "outputs": [
      {
       "output_type": "stream",
       "stream": "stdout",
       "text": [
        "[ 1.          1.          1.          1.          1.          1.          1.\n",
        "  1.          1.          1.          1.          1.          1.          1.\n",
        "  1.          1.          1.          1.          1.          1.          1.\n",
        "  1.          1.          1.          1.          1.          1.          1.\n",
        "  1.          1.          1.          1.          1.          1.          1.\n",
        "  1.          1.          1.          1.          1.          1.          1.\n",
        "  1.          1.          1.          1.          1.          1.          1.\n",
        "  1.          1.          1.          1.          1.          1.          1.\n",
        "  1.          1.          1.          1.          1.          1.          1.\n",
        "  1.          1.          1.          1.          1.          1.          1.\n",
        "  1.          1.          1.          1.          1.          1.          1.\n",
        "  1.          1.          1.          1.          1.          1.          1.\n",
        "  1.          1.          1.          1.          1.          1.          1.\n",
        "  1.          1.          1.          1.          1.          1.          1.\n",
        "  1.          1.          1.          1.          1.          1.          1.\n",
        "  1.          1.          1.          1.          1.          1.          1.\n",
        "  1.          1.          1.          1.          1.          1.          1.\n",
        "  1.          1.          1.          1.          1.          1.          1.\n",
        "  1.          1.          1.          1.          1.          1.          1.\n",
        "  1.          1.          1.          1.          1.          1.          1.\n",
        "  1.          1.          1.          1.          1.          1.          1.\n",
        "  1.          1.          1.          1.          1.          1.          1.\n",
        "  1.00000001  1.          1.          1.          1.          1.          1.\n",
        "  1.          1.          1.          1.          1.          1.          1.\n",
        "  1.          1.          1.          1.          1.          1.          1.\n",
        "  1.          1.          1.          1.          1.          1.          1.\n",
        "  1.          1.          1.          1.          1.          1.          1.\n",
        "  1.          1.          1.          1.          1.          1.          1.\n",
        "  1.          1.          1.          1.        ]\n"
       ]
      }
     ],
     "prompt_number": 40
    },
    {
     "cell_type": "heading",
     "level": 1,
     "metadata": {},
     "source": [
      "Template Model derivatives\n"
     ]
    },
    {
     "cell_type": "code",
     "collapsed": false,
     "input": [
      "from sigvisa.models.templates.lin_polyexp import LinPolyExpTemplateGenerator"
     ],
     "language": "python",
     "metadata": {},
     "outputs": [],
     "prompt_number": 35
    },
    {
     "cell_type": "code",
     "collapsed": false,
     "input": [
      "tg = LinPolyExpTemplateGenerator()\n",
      "\n",
      "srate=1.3\n",
      "\n",
      "def expalr(x):\n",
      "    vals={'arrival_time': x[0], 'peak_offset': x[1], 'peak_decay': x[3], 'coda_decay': x[4], 'coda_height': x[2]}\n",
      "    alr = tg.abstract_logenv_raw(vals, fixedlen=30, srate=srate, idx_offset = vals['arrival_time']*srate % 1)\n",
      "    return np.exp(alr)\n",
      "\n",
      "x0 = np.array((1.2, 1.5, 1.0, -1.0, -1.0))\n",
      "vals={'arrival_time': x0[0], 'peak_offset': x0[1], 'peak_decay': x0[3], 'coda_decay': x0[4], 'coda_height': x0[2]}\n",
      "plot(expalr(x0))\n",
      "\n",
      "import numdifftools as nd\n",
      "nJ = nd.Jacobian(expalr).jacobian(x0)\n",
      "print nJ\n",
      "\n",
      "d, J = tg.abstract_logenv_raw(vals, fixedlen=30, srate=srate, idx_offset = vals['arrival_time']*srate % 1, return_jac_exp=True)\n",
      "\n",
      "print nJ/J"
     ],
     "language": "python",
     "metadata": {},
     "outputs": [
      {
       "output_type": "stream",
       "stream": "stdout",
       "text": [
        "[[  0.00000000e+00   0.00000000e+00   0.00000000e+00   0.00000000e+00\n",
        "    0.00000000e+00]\n",
        " [ -6.06530660e-01  -2.05287300e-01   2.05287300e-01   0.00000000e+00\n",
        "    0.00000000e+00]\n",
        " [ -6.06530660e-01  -6.71849346e-01   6.71849346e-01   0.00000000e+00\n",
        "    0.00000000e+00]\n",
        " [ -6.06530660e-01  -1.13841139e+00   1.13841139e+00   0.00000000e+00\n",
        "    0.00000000e+00]\n",
        " [ -6.06530660e-01  -1.60497344e+00   1.60497344e+00   0.00000000e+00\n",
        "    0.00000000e+00]\n",
        " [ -6.06530660e-01  -2.07153548e+00   2.07153548e+00   0.00000000e+00\n",
        "    0.00000000e+00]\n",
        " [ -6.06530660e-01  -2.53809753e+00   2.53809753e+00   0.00000000e+00\n",
        "    0.00000000e+00]\n",
        " [  1.22433265e+00   5.48707826e+00   1.98185558e+00  -2.81957699e-01\n",
        "   -3.44242139e-01]\n",
        " [  6.80662641e-01   3.05051832e+00   1.27941786e+00  -3.79876756e-01\n",
        "   -5.84285918e-01]\n",
        " [  4.23872729e-01   1.89966578e+00   8.64916806e-01  -3.50686314e-01\n",
        "   -6.39748910e-01]\n",
        " [  2.78848115e-01   1.24971055e+00   5.99407922e-01  -2.93208457e-01\n",
        "   -6.12984176e-01]\n",
        " [  1.89335202e-01   8.48541505e-01   4.21918375e-01  -2.35139237e-01\n",
        "   -5.50870818e-01]\n",
        " [  1.31190410e-01   5.87954625e-01   3.00171393e-01  -1.84540523e-01\n",
        "   -4.76857621e-01]\n",
        " [  9.21822263e-02   4.13132076e-01   2.15222661e-01  -1.43011188e-01\n",
        "   -4.02811162e-01]\n",
        " [  6.54347257e-02   2.93258095e-01   1.55230955e-01  -1.09943109e-01\n",
        "   -3.34458471e-01]\n",
        " [  4.68069507e-02   2.09774199e-01   1.12484375e-01  -8.40675134e-02\n",
        "   -2.74188580e-01]\n",
        " [  3.36837389e-02   1.50960045e-01   8.18163271e-02  -6.40395949e-02\n",
        "   -2.22585781e-01]\n",
        " [  2.43566572e-02   1.09158964e-01   5.96945602e-02  -4.86496126e-02\n",
        "   -1.79294924e-01]\n",
        " [  1.76815682e-02   7.92432908e-02   4.36675806e-02  -3.68827910e-02\n",
        "   -1.43514505e-01]\n",
        " [  1.28778059e-02   5.77143222e-02   3.20143304e-02  -2.79185623e-02\n",
        "   -1.14275380e-01]\n",
        " [  9.40500724e-03   4.21503181e-02   2.35156576e-02  -2.11075955e-02\n",
        "   -9.05938664e-02]\n",
        " [  6.88490786e-03   3.08560163e-02   1.73017394e-02  -1.59430815e-02\n",
        "   -7.15509190e-02]\n",
        " [  5.05032593e-03   2.26339905e-02   1.27483660e-02  -1.20330871e-02\n",
        "   -5.63281411e-02]\n",
        " [  3.71116101e-03   1.66322697e-02   9.40543184e-03  -9.07646792e-03\n",
        "   -4.42191097e-02]\n",
        " [  2.73134328e-03   1.22410313e-02   6.94706884e-03  -6.84291436e-03\n",
        "   -3.46271647e-02]\n",
        " [  2.01298966e-03   9.02159377e-03   5.13655216e-03  -5.15689798e-03\n",
        "   -2.70563377e-02]\n",
        " [  1.48539042e-03   6.65705800e-03   3.80141425e-03  -3.88499101e-03\n",
        "   -2.10993560e-02]\n",
        " [  1.09728249e-03   4.91767892e-03   2.81568709e-03  -2.92597297e-03\n",
        "   -1.64249744e-02]\n",
        " [  8.11386869e-04   3.63638366e-03   2.08716425e-03  -2.20317755e-03\n",
        "   -1.27658579e-02]\n",
        " [  6.00521663e-04   2.69135137e-03   1.54822278e-03  -1.65860895e-03\n",
        "   -9.90761785e-03]]\n",
        "[[  0.   0.   0.   0.  nan]\n",
        " [  1.   1.   1.  nan  nan]\n",
        " [  1.   1.   1.  nan  nan]\n",
        " [  1.   1.   1.  nan  nan]\n",
        " [  1.   1.   1.  nan  nan]\n",
        " [  1.   1.   1.  nan  nan]\n",
        " [  1.   1.   1.  nan  nan]\n",
        " [  1.   1.   1.   1.   1.]\n",
        " [  1.   1.   1.   1.   1.]\n",
        " [  1.   1.   1.   1.   1.]\n",
        " [  1.   1.   1.   1.   1.]\n",
        " [  1.   1.   1.   1.   1.]\n",
        " [  1.   1.   1.   1.   1.]\n",
        " [  1.   1.   1.   1.   1.]\n",
        " [  1.   1.   1.   1.   1.]\n",
        " [  1.   1.   1.   1.   1.]\n",
        " [  1.   1.   1.   1.   1.]\n",
        " [  1.   1.   1.   1.   1.]\n",
        " [  1.   1.   1.   1.   1.]\n",
        " [  1.   1.   1.   1.   1.]\n",
        " [  1.   1.   1.   1.   1.]\n",
        " [  1.   1.   1.   1.   1.]\n",
        " [  1.   1.   1.   1.   1.]\n",
        " [  1.   1.   1.   1.   1.]\n",
        " [  1.   1.   1.   1.   1.]\n",
        " [  1.   1.   1.   1.   1.]\n",
        " [  1.   1.   1.   1.   1.]\n",
        " [  1.   1.   1.   1.   1.]\n",
        " [  1.   1.   1.   1.   1.]\n",
        " [  1.   1.   1.   1.   1.]]\n"
       ]
      },
      {
       "metadata": {},
       "output_type": "display_data",
       "png": "[encoded data removed]",
       "text": [
        "<matplotlib.figure.Figure at 0x4a2c310>"
       ]
      }
     ],
     "prompt_number": 36
    },
    {
     "cell_type": "code",
     "collapsed": false,
     "input": [
      "def abstract_env_jacobian(vals, min_logenv=-7.0, idx_offset=0.0, srate=40.0, fixedlen=None):\n",
      "    arr_time, peak_offset, peak_decay, coda_height, coda_decay = \\\n",
      "        float(vals['arrival_time']), float(np.exp(vals['peak_offset'])), float(-np.exp(vals['pea\\\n",
      "k_decay'])), float(vals['coda_height']), float(-np.exp(vals['coda_decay']))\n",
      "    idx_offset = float(idx_offset)\n",
      "        \n",
      "    if np.isnan(peak_offset) or np.isnan(coda_height) or np.isnan(coda_decay) or np.isnan(peak_d\\\n",
      "ecay):\n",
      "        return np.empty((0,))\n",
      "\n",
      "    if fixedlen:\n",
      "        l = int(fixedlen)\n",
      "    elif coda_decay > -0.001:\n",
      "        # warning: next two cases duplicate the code in\n",
      "        # abstract_logenv_length above, but we don't call that\n",
      "        # directly to avoid the overhead of unpacking the 'vals'\n",
      "        # dict a second time.\n",
      "        l = int(1200 * srate)\n",
      "    else:\n",
      "        l = int(max(2.0, min(1200.0, peak_offset + (min_logenv - coda_height) / coda_decay) * sr\\\n",
      "ate))\n",
      "\n",
      "    jacobian=np.empty((l, 5))\n",
      "    d = np.empty((l,))\n",
      "    code = \"\"\"\n",
      "double onset_slope;\n",
      "double peak_idx = std::max(0.0, peak_offset * srate);\n",
      "if (peak_idx != 0) {\n",
      "    onset_slope = exp(coda_height) / peak_idx;\n",
      "} else {\n",
      "    onset_slope = 0;\n",
      "}\n",
      "\n",
      "int intro_len = std::min(l, int(idx_offset + peak_idx) + 1);\n",
      "double min_env = exp(min_logenv);\n",
      "\n",
      "npy_intp dims[1] = {l};\n",
      "\n",
      "for (int i=1; i < intro_len; ++i) {\n",
      "  double si = (i - idx_offset) * onset_slope + min_env;\n",
      "  d(i) = log(si);\n",
      "  \n",
      "  jacobian(i, 0) = -onset_slope;\n",
      "  jacobian(i, 1) = -si+min_env;\n",
      "  jacobian(i, 2) = si - min_env;\n",
      "  jacobian(i, 3) = 0;\n",
      "  jacobian(i, 4) = 0;\n",
      "  \n",
      "}\n",
      "double initial_decay = intro_len - idx_offset - peak_idx;\n",
      "for (int i=0; i < l-intro_len; ++i) {\n",
      "  double t = (i + initial_decay) / srate;\n",
      "  d(i + intro_len) = t * coda_decay + peak_decay * log(t+1) + coda_height;\n",
      "\n",
      "  double si = exp(d(i+intro_len));\n",
      "  double dsi_dt = -(si * coda_decay + si * peak_decay/(t+1));\n",
      "  jacobian(i+intro_len, 0) = dsi_dt/srate;\n",
      "  jacobian(i+intro_len, 1) = dsi_dt * peak_offset;\n",
      "  jacobian(i+intro_len, 2) = si;\n",
      "  jacobian(i+intro_len, 3) = log(t+1) * peak_decay * si;\n",
      "  jacobian(i+intro_len, 4) = t * coda_decay * si;\n",
      "}\n",
      "if (l > 0) {\n",
      "  d(0) = min_logenv;\n",
      "}\n",
      "\"\"\"\n",
      "    weave.inline(code,['l', 'd', 'peak_offset', 'coda_height', 'peak_decay', 'coda_decay', 'min_\\\n",
      "logenv', 'idx_offset', 'srate', 'jacobian'],type_converters = converters.blitz,verbose=2,compiler='gcc')\n",
      "    return jacobian"
     ],
     "language": "python",
     "metadata": {},
     "outputs": [],
     "prompt_number": 39
    },
    {
     "cell_type": "code",
     "collapsed": false,
     "input": [
      "def exp_jacobian(x):\n",
      "    vals={'arrival_time': x[0], 'peak_offset': x[1], 'peak_decay': x[3], 'coda_decay': x[4], 'coda_height': x[2]}\n",
      "    return abstract_env_jacobian(vals, fixedlen=60, srate=1.7, idx_offset=vals['arrival_time'] % 1)\n",
      "\n",
      "print exp_jacobian(x0)/nJ"
     ],
     "language": "python",
     "metadata": {},
     "outputs": [
      {
       "ename": "ValueError",
       "evalue": "operands could not be broadcast together with shapes (60,5) (30,5) ",
       "output_type": "pyerr",
       "traceback": [
        "\u001b[1;31m---------------------------------------------------------------------------\u001b[0m\n\u001b[1;31mValueError\u001b[0m                                Traceback (most recent call last)",
        "\u001b[1;32m<ipython-input-40-4e954ba86c7c>\u001b[0m in \u001b[0;36m<module>\u001b[1;34m()\u001b[0m\n\u001b[0;32m      3\u001b[0m     \u001b[1;32mreturn\u001b[0m \u001b[0mabstract_env_jacobian\u001b[0m\u001b[1;33m(\u001b[0m\u001b[0mvals\u001b[0m\u001b[1;33m,\u001b[0m \u001b[0mfixedlen\u001b[0m\u001b[1;33m=\u001b[0m\u001b[1;36m60\u001b[0m\u001b[1;33m,\u001b[0m \u001b[0msrate\u001b[0m\u001b[1;33m=\u001b[0m\u001b[1;36m1.7\u001b[0m\u001b[1;33m,\u001b[0m \u001b[0midx_offset\u001b[0m\u001b[1;33m=\u001b[0m\u001b[0mvals\u001b[0m\u001b[1;33m[\u001b[0m\u001b[1;34m'arrival_time'\u001b[0m\u001b[1;33m]\u001b[0m \u001b[1;33m%\u001b[0m \u001b[1;36m1\u001b[0m\u001b[1;33m)\u001b[0m\u001b[1;33m\u001b[0m\u001b[0m\n\u001b[0;32m      4\u001b[0m \u001b[1;33m\u001b[0m\u001b[0m\n\u001b[1;32m----> 5\u001b[1;33m \u001b[1;32mprint\u001b[0m \u001b[0mexp_jacobian\u001b[0m\u001b[1;33m(\u001b[0m\u001b[0mx0\u001b[0m\u001b[1;33m)\u001b[0m\u001b[1;33m/\u001b[0m\u001b[0mnJ\u001b[0m\u001b[1;33m\u001b[0m\u001b[0m\n\u001b[0m",
        "\u001b[1;31mValueError\u001b[0m: operands could not be broadcast together with shapes (60,5) (30,5) "
       ]
      }
     ],
     "prompt_number": 40
    },
    {
     "cell_type": "heading",
     "level": 1,
     "metadata": {},
     "source": [
      "Testing signal node probability gradients"
     ]
    },
    {
     "cell_type": "code",
     "collapsed": false,
     "input": [
      "import numpy as np\n",
      "import sys\n",
      "import os\n",
      "import traceback\n",
      "import pickle\n",
      "import copy\n",
      "\n",
      "from sigvisa import Sigvisa\n",
      "\n",
      "from sigvisa.graph.sigvisa_graph import SigvisaGraph\n",
      "\n",
      "from sigvisa.infer.run_mcmc import run_open_world_MH\n",
      "from sigvisa.infer.mcmc_logger import MCMCLogger\n",
      "from sigvisa.infer.template_mcmc import *\n",
      "from sigvisa.plotting.plot import plot_with_fit, plot_with_fit_shapes, plot_pred_atimes\n",
      "from sigvisa.signals.common import Waveform\n",
      "from sigvisa.utils.fileutils import clear_directory, mkdir_p\n",
      "from sigvisa.experiments.one_station_templates_test import sample_template\n"
     ],
     "language": "python",
     "metadata": {},
     "outputs": [],
     "prompt_number": 43
    },
    {
     "cell_type": "code",
     "collapsed": false,
     "input": [
      "def do_plot(wn, ax=None):\n",
      "      if ax is None:\n",
      "          f = plt.figure(figsize=(15,5))\n",
      "          ax=f.add_subplot(111)\n",
      "      shape_colors = plot_with_fit_shapes(fname=None, wn=wn, axes=ax, plot_wave=True)\n",
      "      atimes = dict([(\"%d_%s\" % (eid, phase), wn.get_template_params_for_arrival(eid=eid, phase=phase)[0]['arrival_time']) for (eid, phase) in wn.arrivals()])\n",
      "      colors = dict([(\"%d_%s\" % (eid, phase), shape_colors[eid]) for (eid, phase) in wn.arrivals()])\n",
      "      plot_pred_atimes(dict(atimes), wn.get_wave(), axes=ax, color=colors, alpha=1.0, bottom_rel=-0.1, top_rel=0.0)\n"
     ],
     "language": "python",
     "metadata": {},
     "outputs": [],
     "prompt_number": 44
    },
    {
     "cell_type": "code",
     "collapsed": false,
     "input": [
      "nm_type = 'ar'\n",
      "wave, templates = sample_template(seed=1, hardcoded=True, nm_type=nm_type, srate=2.0)"
     ],
     "language": "python",
     "metadata": {},
     "outputs": [],
     "prompt_number": 50
    },
    {
     "cell_type": "code",
     "collapsed": false,
     "input": [
      "sg = SigvisaGraph(template_model_type=\"dummy\", template_shape=\"lin_polyexp\",\n",
      "                      wiggle_model_type=\"dummy\", wiggle_family=\"dummy\",\n",
      "                      phases=\"leb\", nm_type = nm_type, wiggle_len_s = 60.0)\n",
      "wn = sg.add_wave(wave)\n",
      "wn.st = 5.0\n",
      "wn.mw.segment_stats['stime']=5.0\n",
      "sg.uatemplate_rate=1e-6\n",
      "\n",
      "tg = sg.template_generator('UA')\n",
      "tg.hack_force_mean = np.log(wn.nm.c * 15)\n",
      "    \n",
      "np.random.seed(1)\n",
      "sg.create_unassociated_template(wn, atime=wn.st+99.0)\n",
      "do_plot(wn)\n",
      "\n"
     ],
     "language": "python",
     "metadata": {},
     "outputs": [
      {
       "output_type": "stream",
       "stream": "stdout",
       "text": [
        "plotting uatemplate -1 as color (0.0, 0.28431372549019607, 1.0, 1.0)\n",
        "reading station detections... \n"
       ]
      },
      {
       "metadata": {},
       "output_type": "display_data",
       "png": "[encoded data removed]",
       "text": [
        "<matplotlib.figure.Figure at 0x67d7350>"
       ]
      }
     ],
     "prompt_number": 53
    },
    {
     "cell_type": "code",
     "collapsed": false,
     "input": [
      "window_lps = wn.cache_latent_signal_for_template_optimization(-1, \"UA\", force_bounds=False, return_llgrad=True)\n",
      "print window_lps\n",
      "window_logp, window_logp_deriv, window_logp_llgrad = window_lps"
     ],
     "language": "python",
     "metadata": {},
     "outputs": [
      {
       "output_type": "stream",
       "stream": "stdout",
       "text": [
        "(<function window_logp at 0x6694c08>, <function window_logp_deriv_caching at 0x6687320>, <function window_logp_llgrad at 0x6687398>)\n"
       ]
      }
     ],
     "prompt_number": 54
    },
    {
     "cell_type": "code",
     "collapsed": false,
     "input": [
      "import collections\n",
      "\n",
      "eid=-1\n",
      "phase=\"UA\"\n",
      "\n",
      "w = wn.template_idx_window(eid, phase)\n",
      "\n",
      "\n",
      "node_list = [sg.all_nodes['-1;UA;FIA3;SHZ;freq_2.0_3.0;arrival_time'], \n",
      "                 sg.all_nodes['-1;UA;FIA3;SHZ;freq_2.0_3.0;peak_offset'],\n",
      "                 sg.all_nodes['-1;UA;FIA3;SHZ;freq_2.0_3.0;coda_height'],\n",
      "                 sg.all_nodes['-1;UA;FIA3;SHZ;freq_2.0_3.0;peak_decay'],\n",
      "                 sg.all_nodes['-1;UA;FIA3;SHZ;freq_2.0_3.0;coda_decay'],]\n",
      "default_vals = sg.get_all(node_list)\n",
      "\n",
      "def do_with_x(f, x):\n",
      "    node_list = [sg.all_nodes['-1;UA;FIA3;SHZ;freq_2.0_3.0;arrival_time'], \n",
      "                 sg.all_nodes['-1;UA;FIA3;SHZ;freq_2.0_3.0;peak_offset'],\n",
      "                 sg.all_nodes['-1;UA;FIA3;SHZ;freq_2.0_3.0;coda_height'],\n",
      "                 sg.all_nodes['-1;UA;FIA3;SHZ;freq_2.0_3.0;peak_decay'],\n",
      "                 sg.all_nodes['-1;UA;FIA3;SHZ;freq_2.0_3.0;coda_decay'],]\n",
      "    vals = sg.get_all(node_list)\n",
      "    sg.set_all(x, node_list)\n",
      "    v= f()\n",
      "    sg.set_all(vals, node_list)\n",
      "    return v\n",
      "\n",
      "def window_param_lp(x):\n",
      "    f = lambda : window_logp(w)\n",
      "    return do_with_x(f, x)\n",
      "\n",
      "x0 = np.array((99.0, 0.1, 2.0, -6.0, -4.0))\n",
      "try:\n",
      "    lp1 = window_param_lp(x0)\n",
      "except:\n",
      "    import sys, traceback, pdb\n",
      "    print e\n",
      "    type, value, tb = sys.exc_info()\n",
      "    traceback.print_exc()\n",
      "    import pdb\n",
      "    pdb.post_mortem(tb)\n",
      "    \n",
      "import numdifftools as nd\n",
      "ng = nd.Gradient(window_param_lp).gradient(x0)\n",
      "print ng\n"
     ],
     "language": "python",
     "metadata": {},
     "outputs": [
      {
       "output_type": "stream",
       "stream": "stdout",
       "text": [
        "[  1641.7752833    3374.52220909  10260.07648228   -125.97015127\n",
        "  -9703.15516034]\n"
       ]
      }
     ],
     "prompt_number": 55
    },
    {
     "cell_type": "code",
     "collapsed": false,
     "input": [
      "    \n",
      "print x0\n",
      "r = scipy.optimize.minimize(lambda x : -window_param_lp(x), x0, method='Powell')\n",
      "print r\n",
      "\n",
      "\n",
      "do_with_x(lambda: do_plot(wn), r.x)\n",
      "\n",
      "figure()\n",
      "do_plot(wn)\n",
      "\n",
      "ng = nd.Gradient(window_param_lp).gradient(r.x)\n",
      "print ng"
     ],
     "language": "python",
     "metadata": {},
     "outputs": [
      {
       "output_type": "stream",
       "stream": "stdout",
       "text": [
        "[ 99.    0.1   2.   -6.   -4. ]\n",
        "  status: 0\n",
        " success: True\n",
        "   direc: array([[ -5.99528004e-02,   2.63237901e-02,   9.63672266e-03,\n",
        "          4.00040604e+00,   9.83887722e-03],\n",
        "       [  0.00000000e+00,   1.00000000e+00,   0.00000000e+00,\n",
        "          0.00000000e+00,   0.00000000e+00],\n",
        "       [  0.00000000e+00,   0.00000000e+00,   1.00000000e+00,\n",
        "          0.00000000e+00,   0.00000000e+00],\n",
        "       [  0.00000000e+00,   0.00000000e+00,   0.00000000e+00,\n",
        "          1.00000000e+00,   0.00000000e+00],\n",
        "       [ -8.54444297e-04,  -1.82963447e-04,  -1.50178378e-03,\n",
        "          2.69285309e+00,  -2.61716180e-03]])\n",
        "    nfev: 392\n",
        "     fun: array(-646.4044441063172)\n",
        "       x: array([ 104.99553854,    0.99462549,    2.96872592,  -58.16760965,\n",
        "         -3.96504667])\n",
        " message: 'Optimization terminated successfully.'\n",
        "     nit: 6"
       ]
      },
      {
       "output_type": "stream",
       "stream": "stdout",
       "text": [
        "\n",
        "plotting uatemplate -1 as color (0.0, 0.56666666666666665, 1.0, 1.0)\n",
        "reading station detections... \n",
        "plotting uatemplate"
       ]
      },
      {
       "output_type": "stream",
       "stream": "stdout",
       "text": [
        " -1 as color (0.0, 0.33137254901960772, 1.0, 1.0)\n",
        "reading station detections... \n",
        "[ 3.62668676  3.76061955  2.95248883  0.         -3.13677403]"
       ]
      },
      {
       "output_type": "stream",
       "stream": "stdout",
       "text": [
        "\n"
       ]
      },
      {
       "metadata": {},
       "output_type": "display_data",
       "png": "[encoded data removed]",
       "text": [
        "<matplotlib.figure.Figure at 0x4d2e210>"
       ]
      },
      {
       "metadata": {},
       "output_type": "display_data",
       "text": [
        "<matplotlib.figure.Figure at 0x6332dd0>"
       ]
      },
      {
       "metadata": {},
       "output_type": "display_data",
       "png": "[encoded data removed]",
       "text": [
        "<matplotlib.figure.Figure at 0x66008d0>"
       ]
      }
     ],
     "prompt_number": 56
    },
    {
     "cell_type": "code",
     "collapsed": false,
     "input": [
      "x1 = np.array((1239915999.0, 0.1, 2.0, -6.0, -4.0))\n",
      "lp1 = window_param_lp(x1)\n",
      "\n",
      "x2 = np.array((1239915999.01, 0.1, 2.0, -6.0, -4.0))\n",
      "lp2 = window_param_lp(x2)\n",
      "\n",
      "x3 = np.array((1239915998.99999, 0.1, 2.0, -6.0, -4.0))\n",
      "lp3 = window_param_lp(x3)\n",
      "\n",
      "x4 = np.array((1239915999.30, -0.5, 2.0, -6.0, -4.0))\n",
      "lp4 = window_param_lp(x4)\n",
      "\n",
      "print lp1\n",
      "print lp2\n",
      "print lp3\n",
      "\n",
      "\n",
      "x = r.x.copy()\n",
      "sg.set_all(x, node_list)\n",
      "\n",
      "\n",
      "import numdifftools as nd\n",
      "ng = nd.Gradient(window_param_lp).gradient(x)\n",
      "print ng\n",
      "\n",
      "print num_jac(window_param_lp, x, eps=1e-2)\n",
      "print num_jac(window_param_lp, x, eps=1e-3)\n",
      "print num_jac(window_param_lp, x, eps=1e-4)\n",
      "print num_jac(window_param_lp, x, eps=1e-6)\n",
      "print num_jac(window_param_lp, x, eps=1e-7)\n",
      "print num_jac(window_param_lp, x, eps=5e-8)\n",
      "\n",
      "ll, ag = window_logp_llgrad(w)\n",
      "print ll, ag\n",
      "\n",
      "print x[0]a\n",
      "min_atime = x[0] - 1.0\n",
      "max_atime = x[0] + 1.0\n",
      "atimes = np.linspace(min_atime, max_atime, 100)\n",
      "lps = [window_param_lp(np.array((at, x[1], x[2], x[3], x[4]))) for at in atimes]\n",
      "plot(atimes, lps)\n",
      "    "
     ],
     "language": "python",
     "metadata": {},
     "outputs": [
      {
       "output_type": "stream",
       "stream": "stdout",
       "text": [
        "-40341.0059835\n",
        "-40341.0059835\n",
        "-40341.0059835\n",
        "[ 3.62668676  3.76061955  2.95248883  0.         -3.13677403]"
       ]
      },
      {
       "output_type": "stream",
       "stream": "stdout",
       "text": [
        "\n",
        "[[ 9.39690159  6.92349715 -1.14601021  0.         -2.29983548]]\n",
        "[[ 3.62668238  3.79224754  2.91150486  0.         -3.12840459]]\n",
        "[[ 3.62668672  3.76093583  2.952079    0.         -3.13669034]]\n",
        "[[ 3.62668692  3.76061934  2.95248844  0.         -3.13677356]]\n",
        "[[ 3.62668288  3.7606253   2.95248981  0.         -3.13677162]]\n",
        "[[ 3.62669084  3.76062417  2.9524972   0.         -3.13677219]]\n",
        "646.404444106 [  3.62668676e+00   3.76061955e+00   2.95248883e+00   4.41054667e-23\n",
        "  -3.13677403e+00]\n",
        "646.404444106 [  3.62668676e+00   3.76061955e+00   2.95248883e+00   4.41054667e-23\n",
        "  -3.13677403e+00]\n",
        "104.99553854\n"
       ]
      },
      {
       "metadata": {},
       "output_type": "pyout",
       "prompt_number": 57,
       "text": [
        "[<matplotlib.lines.Line2D at 0x66ab150>]"
       ]
      },
      {
       "metadata": {},
       "output_type": "display_data",
       "png": "[encoded data removed]",
       "text": [
        "<matplotlib.figure.Figure at 0x65d1490>"
       ]
      }
     ],
     "prompt_number": 57
    },
    {
     "cell_type": "code",
     "collapsed": false,
     "input": [
      "sg.set_all(x2, node_list)\n",
      "print window_logp_llgrad(w)\n",
      "sg.set_all(default_vals, node_list)"
     ],
     "language": "python",
     "metadata": {},
     "outputs": [
      {
       "output_type": "stream",
       "stream": "stdout",
       "text": [
        "-20470.0422273 [  7149.32879327   7066.90837126  12954.70224      -133.98003146\n",
        "  -8694.87592589]\n",
        "(-20470.042227271413, array([  7149.32879327,   7066.90837126,  12954.70224   ,   -133.98003146,\n",
        "        -8694.87592589]))\n"
       ]
      }
     ],
     "prompt_number": 10
    },
    {
     "cell_type": "code",
     "collapsed": false,
     "input": [
      "\n",
      "\n",
      "def window_logp_llgrad(w):\n",
      "    self=wn\n",
      "    start_idx, end_idx = w\n",
      "\n",
      "    # get tg from somewhere\n",
      "    vals, tg = self.get_template_params_for_arrival(eid=eid, phase=phase)\n",
      "    start = (vals['arrival_time'] - self.st) * self.srate\n",
      "    tmpl_start_idx = int(np.floor(start))\n",
      "    offset = float(start - tmpl_start_idx)\n",
      "    pred_logenv, jacobian = tg.abstract_logenv_raw(vals, idx_offset=offset, srate=self.srate, return_jac_exp=True)\n",
      "    pred_env = np.exp(pred_logenv)\n",
      "    print offset\n",
      "    print pred_logenv[:30]\n",
      "    \n",
      "    # WHAT ARE START END END IDX? THE WINDOW OR THE TEMPLATE?\n",
      "    window_len = end_idx-start_idx\n",
      "    pred_signal = self.pred_signal\n",
      "    pred_signal[start_idx:end_idx]=0\n",
      "    tmpl_start_idx_rel = tmpl_start_idx-start_idx\n",
      "    tmpl_end_idx = tmpl_start_idx + len(pred_env)\n",
      "    tmpl_end_idx_rel = tmpl_start_idx_rel + len(pred_env)\n",
      "    early = max(0, -tmpl_start_idx_rel)\n",
      "    overshoot = max(0, tmpl_end_idx_rel - window_len)\n",
      "    pred_signal[early + tmpl_start_idx:tmpl_end_idx-overshoot] = pred_env[early:len(pred_env)-overshoot]\n",
      "\n",
      "    v = self._cached_latent_signal\n",
      "    value = v.data\n",
      "    mask = v.mask\n",
      "    signal_diff = self.signal_diff\n",
      "    code = \"\"\"\n",
      "for(int i=start_idx; i < end_idx; ++i) {\n",
      "signal_diff(i) =value(i) - pred_signal(i);\n",
      "}\n",
      "\"\"\"\n",
      "    \n",
      "    weave.inline(code,['signal_diff', 'value', 'pred_signal', 'start_idx', 'end_idx'],type_converters = converters.blitz,verbose=2,compiler='gcc')\n",
      "\n",
      "    lp, grad = self.nm.argrad(signal_diff[start_idx:end_idx])\n",
      "\n",
      "    \n",
      "    shifted_jacobian = np.zeros((window_len, 5))\n",
      "    shifted_jacobian[early + tmpl_start_idx_rel:tmpl_end_idx_rel-overshoot, :] = jacobian[early:len(pred_env)-overshoot,:]\n",
      "    param_grad = np.dot(grad.reshape((1, -1)), shifted_jacobian) * -1\n",
      "\n",
      "    \n",
      "    return lp, pred_signal.copy(), param_grad\n",
      "\n"
     ],
     "language": "python",
     "metadata": {},
     "outputs": [],
     "prompt_number": 24
    },
    {
     "cell_type": "code",
     "collapsed": false,
     "input": [
      "sg.set_all(x3, node_list)\n",
      "lp2, ps, pg = window_logp_llgrad(w)\n",
      "print lp2\n",
      "sg.set_all(default_vals, node_list)\n",
      "print ps[w[0]:w[0]+60] \n",
      "print assem_ps1[w[0]:w[0]+60]\n",
      "print ps[w[0]:w[0]+60]- assem_ps3[w[0]:w[0]+60]\n",
      "\n"
     ],
     "language": "python",
     "metadata": {},
     "outputs": [
      {
       "output_type": "stream",
       "stream": "stdout",
       "text": [
        "0.999979972839\n",
        "[-7.         -6.92915083  1.20714558  1.90014639  1.99194339  1.9820262\n",
        "  1.9722879   1.96266007  1.95310732  1.94360893  1.93415173  1.92472683\n",
        "  1.91532792  1.9059504   1.89659077  1.88724635  1.87791499  1.868595\n",
        "  1.85928496  1.84998374  1.84069036  1.83140401  1.82212399  1.81284972\n",
        "  1.80358068  1.79431641  1.78505653  1.77580068  1.76654856  1.7572999 ]\n",
        "-20542.1182005\n",
        "[  0.00000000e+00   0.00000000e+00   0.00000000e+00   0.00000000e+00\n",
        "   0.00000000e+00   0.00000000e+00   0.00000000e+00   0.00000000e+00\n",
        "   0.00000000e+00   0.00000000e+00   0.00000000e+00   0.00000000e+00\n",
        "   0.00000000e+00   0.00000000e+00   0.00000000e+00   0.00000000e+00\n",
        "   0.00000000e+00   0.00000000e+00   0.00000000e+00   9.11881966e-04\n",
        "   9.78831707e-04   3.34392605e+00   6.68687327e+00   7.32976454e+00\n",
        "   7.25743308e+00   7.18710104e+00   7.11823693e+00   7.05056194e+00\n",
        "   6.98391000e+00   6.91817310e+00   6.85327627e+00   6.78916473e+00\n",
        "   6.72579677e+00   6.66313952e+00   6.60116631e+00   6.53985499e+00\n",
        "   6.47918672e+00   6.41914520e+00   6.35971609e+00   6.30088661e+00\n",
        "   6.24264522e+00   6.18498137e+00   6.12788535e+00   6.07134814e+00\n",
        "   6.01536129e+00   5.95991684e+00   5.90500727e+00   5.85062542e+00\n",
        "   5.79676442e+00   5.74341772e+00   5.69057899e+00   5.63824212e+00\n",
        "   5.58640122e+00   5.53505055e+00   5.48418455e+00   5.43379780e+00\n",
        "   5.38388502e+00   5.33444105e+00   5.28546083e+00   5.23693944e+00]\n",
        "[  0.00000000e+00   0.00000000e+00   0.00000000e+00   0.00000000e+00\n",
        "   0.00000000e+00   0.00000000e+00   0.00000000e+00   0.00000000e+00\n",
        "   0.00000000e+00   0.00000000e+00   0.00000000e+00   0.00000000e+00\n",
        "   0.00000000e+00   0.00000000e+00   0.00000000e+00   0.00000000e+00\n",
        "   0.00000000e+00   0.00000000e+00   0.00000000e+00   0.00000000e+00\n",
        "   9.11881966e-04   3.34385910e+00   6.68680632e+00   7.32976602e+00\n",
        "   7.25743450e+00   7.18710243e+00   7.11823830e+00   7.05056328e+00\n",
        "   6.98391132e+00   6.91817441e+00   6.85327756e+00   6.78916601e+00\n",
        "   6.72579803e+00   6.66314076e+00   6.60116755e+00   6.53985621e+00\n",
        "   6.47918793e+00   6.41914639e+00   6.35971727e+00   6.30088779e+00\n",
        "   6.24264638e+00   6.18498252e+00   6.12788649e+00   6.07134926e+00\n",
        "   6.01536240e+00   5.95991795e+00   5.90500837e+00   5.85062650e+00\n",
        "   5.79676550e+00   5.74341878e+00   5.69058004e+00   5.63824317e+00\n",
        "   5.58640225e+00   5.53505158e+00   5.48418557e+00   5.43379881e+00\n",
        "   5.38388602e+00   5.33444203e+00   5.28546181e+00   5.23694041e+00]\n",
        "[ 0.  0.  0.  0.  0.  0.  0.  0.  0.  0.  0.  0.  0.  0.  0.  0.  0.  0.\n",
        "  0.  0.  0.  0.  0.  0.  0.  0.  0.  0.  0.  0.  0.  0.  0.  0.  0.  0.\n",
        "  0.  0.  0.  0.  0.  0.  0.  0.  0.  0.  0.  0.  0.  0.  0.  0.  0.  0.\n",
        "  0.  0.  0.  0.  0.  0.]\n"
       ]
      }
     ],
     "prompt_number": 30
    },
    {
     "cell_type": "code",
     "collapsed": false,
     "input": [
      "print pg"
     ],
     "language": "python",
     "metadata": {},
     "outputs": [
      {
       "output_type": "stream",
       "stream": "stdout",
       "text": [
        "[[  7297.02226138   7246.72048433  12854.62902156   -134.07636278\n",
        "   -8698.3679917 ]]\n"
       ]
      }
     ],
     "prompt_number": 22
    },
    {
     "cell_type": "code",
     "collapsed": false,
     "input": [
      "np.exp(-7)"
     ],
     "language": "python",
     "metadata": {},
     "outputs": [
      {
       "metadata": {},
       "output_type": "pyout",
       "prompt_number": 19,
       "text": [
        "0.00091188196555451624"
       ]
      }
     ],
     "prompt_number": 19
    },
    {
     "cell_type": "code",
     "collapsed": false,
     "input": [
      "x[1] = 1.0\n",
      "xd = {'arrival_time': x[0], 'peak_offset': x[1], 'coda_height': x[2], 'peak_decay': x[3], 'coda_decay': x[4]}\n",
      "\n",
      "\n",
      "le2 = tg.abstract_logenv_raw(xd, srate=2.0, idx_offset=0.7, min_logenv=-np.inf)\n",
      "le3 = tg.abstract_logenv_raw(xd, srate=2.0, idx_offset=0.7 + 1e-8, min_logenv=-np.inf)\n",
      "\n",
      "print np.sum(np.exp(le2)**2)\n",
      "print np.sum(np.exp(le3)**2)\n",
      "\n",
      "print np.sum(np.exp(le3)**2 - np.exp(le2)**2)\n",
      "\n",
      "\"\"\"\n",
      "les = np.zeros((100, 60))\n",
      "ofss = np.linspace(0.5, 1.5, 100)\n",
      "for i, ofs in enumerate(ofss):\n",
      "    le = tg.abstract_logenv_raw(xd, srate=2.0, idx_offset=ofs, min_logenv=-np.inf, fixedlen=60)\n",
      "    les[i, :] = le\n",
      "\n",
      "for s in les.T:\n",
      "    figure()\n",
      "    plot(ofss, s)\"\"\"\n",
      "\n"
     ],
     "language": "python",
     "metadata": {},
     "outputs": [
      {
       "output_type": "stream",
       "stream": "stdout",
       "text": [
        "20671.7457658\n",
        "20671.7457653\n",
        "-5.44565428284e-07\n"
       ]
      },
      {
       "metadata": {},
       "output_type": "pyout",
       "prompt_number": 42,
       "text": [
        "'\\nles = np.zeros((100, 60))\\nofss = np.linspace(0.5, 1.5, 100)\\nfor i, ofs in enumerate(ofss):\\n    le = tg.abstract_logenv_raw(xd, srate=2.0, idx_offset=ofs, min_logenv=-np.inf, fixedlen=60)\\n    les[i, :] = le\\n\\nfor s in les.T:\\n    figure()\\n    plot(ofss, s)'"
       ]
      }
     ],
     "prompt_number": 42
    },
    {
     "cell_type": "code",
     "collapsed": false,
     "input": [],
     "language": "python",
     "metadata": {},
     "outputs": []
    }
   ],
   "metadata": {}
  }
 ]
}