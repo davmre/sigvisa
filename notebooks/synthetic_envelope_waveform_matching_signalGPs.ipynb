{
 "metadata": {
  "name": "",
  "signature": "sha256:11460463dbe929f73c461f5365d9e96acc411c5a14bc57e559dd5d9fd63c2bdd"
 },
 "nbformat": 3,
 "nbformat_minor": 0,
 "worksheets": [
  {
   "cells": [
    {
     "cell_type": "code",
     "collapsed": false,
     "input": [
      "from sigvisa.synthetic.doublets import *\n"
     ],
     "language": "python",
     "metadata": {},
     "outputs": [],
     "prompt_number": 1
    },
    {
     "cell_type": "code",
     "collapsed": false,
     "input": [
      "\n",
      "import os\n",
      "basedir = os.path.join(os.getenv(\"SIGVISA_HOME\"), \"experiments\", \"synth_wavematch\")\n",
      "wave_dir = os.path.join(basedir, \"sampled_%d\" % 0)\n",
      "sw = load_sampled_world(wave_dir)\n"
     ],
     "language": "python",
     "metadata": {},
     "outputs": [],
     "prompt_number": 2
    },
    {
     "cell_type": "code",
     "collapsed": false,
     "input": [
      "print sw.gpcov.wfn_params[0]"
     ],
     "language": "python",
     "metadata": {},
     "outputs": [
      {
       "output_type": "stream",
       "stream": "stdout",
       "text": [
        "0.7\n"
       ]
      }
     ],
     "prompt_number": 3
    },
    {
     "cell_type": "code",
     "collapsed": false,
     "input": [
      "# how to train from signals?\n",
      "# for each wave, generate a SG with appropriate WN\n",
      "# wavelet_messages, wavelet_posteriors = compute_wavelet_messages(sigvisa_graph, wn)\n",
      "# then use the message means as observations and vars as y_obs_variance\n",
      "\n",
      "from sigvisa.learn.fit_shape_params_mcmc import compute_wavelet_messages\n",
      "\n",
      "def train_gp_models_true_data(sw):\n",
      "    tm_params = sw.tm_params\n",
      "    gpcov = sw.gpcov\n",
      "    n_evs = sw.n_evs\n",
      "    param_means, param_noise_var, coef_noise_var = sw.param_means, sw.param_noise_var, sw.coef_noise_var\n",
      "    phase=sw.phase\n",
      "    \n",
      "    trainX = sw.X[:n_evs, :].copy()\n",
      "    train_gps = dict()\n",
      "    \n",
      "    message_means = dict()\n",
      "    message_vars = dict()\n",
      "    for sta in sw.stas:\n",
      "        message_means[sta] = np.zeros((len(sw.evs), sw.n_coefs))\n",
      "        message_vars[sta] = np.zeros((len(sw.evs), sw.n_coefs))\n",
      "        \n",
      "    for i, ev in enumerate(sw.evs):\n",
      "        \n",
      "        sg = SigvisaGraph(template_model_type=\"dummy\", template_shape=\"lin_polyexp\",\n",
      "                          wiggle_model_type=\"dummy\", wiggle_family=sw.wavelet_family,\n",
      "                          nm_type = \"ar\", phases=[phase,], runids=(), )\n",
      "\n",
      "        wns = dict()\n",
      "        for sta in sw.stas:\n",
      "            wns[sta] = sg.add_wave(sw.waves[i][sta])\n",
      "        sg.add_event(ev)\n",
      "        \n",
      "        for (sta, wn) in wns.items():\n",
      "            tmnodes = sg.get_template_nodes(1, sta, phase, wn.band, wn.chan)\n",
      "            for p, (k, n) in tmnodes.items():\n",
      "                if p in tm_params[sta]:\n",
      "                    n.set_value(tm_params[sta][p][i])\n",
      "\n",
      "            wn.wavelet_basis = sw.basis, sw.scaled, 0.0\n",
      "            wn.wavelet_param_models[phase] = [Gaussian(0.0, sw.gpcov.wfn_params[0]) for c in range(sw.n_coefs)]\n",
      "\n",
      "            wavelet_messages, wavelet_posteriors = compute_wavelet_messages(sg, wn)\n",
      "            wmm, wmv = wavelet_messages.values()[0]\n",
      "            message_means[sta][i, :] = wmm\n",
      "            message_vars[sta][i, :] = wmv\n",
      "            \n",
      "    for sta in sw.stas:\n",
      "        train_gps[sta] = dict()\n",
      "        for i in range(sw.n_coefs):\n",
      "            y = message_means[sta][:,i]\n",
      "            y_obs_var = message_vars[sta][:,i]\n",
      "            gp = SparseGP(trainX, y=message_means[sta][:,i], \n",
      "                          y_obs_variances = message_vars[sta][:,i],\n",
      "                          noise_var=coef_noise_var, cov_main=gpcov,\n",
      "                          sta=sta, compute_ll=True)\n",
      "            train_gps[sta][i] = gp\n",
      "                \n",
      "    sw.train_gps = train_gps\n",
      "    \n",
      "train_gp_models_true_data(sw)"
     ],
     "language": "python",
     "metadata": {},
     "outputs": [],
     "prompt_number": 4
    },
    {
     "cell_type": "code",
     "collapsed": false,
     "input": [
      "sw.save_gps(wave_dir, \"synth_truetemplate_messages\")"
     ],
     "language": "python",
     "metadata": {},
     "outputs": [],
     "prompt_number": 5
    },
    {
     "cell_type": "code",
     "collapsed": false,
     "input": [
      "\"\"\"\n",
      "what might we care about?\n",
      "first we care whether this predicts the *correct* waveform at the true location.\n",
      "but we don't care about predicting basis elements that don't matter for the signal. \n",
      "so we could ask for the logprobs of true signals under the GP posterior. These should be about the same for this model vs the true models. \n",
      "\n",
      "\n",
      "\"\"\"\n",
      "from sigvisa.graph.sigvisa_graph import get_param_model_id\n",
      "from sigvisa.learn.train_param_common import load_modelid\n",
      "\n",
      "def load_models(sw, runid):\n",
      "    gps = dict()\n",
      "    for sta in sw.stas:\n",
      "        gps[sta]=dict()\n",
      "        for param_num in range(sw.n_coefs):\n",
      "            param = sw.wavelet_family + \"_%d\" % param_num\n",
      "            modelid = get_param_model_id((runid,), sta, sw.phase, \"gp_lld\", param, \"lin_polyexp\", sw.chans[sta], sw.band)\n",
      "            model = load_modelid(modelid, gpmodel_build_trees=False)\n",
      "            gps[sta][param_num] = model\n",
      "    return gps\n",
      "            \n",
      "#true_models = load_models(sw, 34)\n",
      "#trained_models = load_models(sw, 35)\n",
      "#dummy_models = dict([ (sta, dict([(i, Gaussian(0.0, 0.7)) for i in range(sw.n_coefs)]))  for sta in sw.stas ])"
     ],
     "language": "python",
     "metadata": {},
     "outputs": [],
     "prompt_number": 26
    },
    {
     "cell_type": "code",
     "collapsed": false,
     "input": [
      "dummyPrior = dict([(param, Gaussian(sw.param_means[\"MK31\"][param], std=np.sqrt(sw.gpcov.wfn_params[0]))) for param in sw.param_means[\"MK31\"].keys()\n",
      "])\n",
      "sg, wns = build_sg(sw, 34, wiggle_model_type=\"dummy\", template_model_type=\"dummyPrior\", dummy_prior=dummyPrior, ev_init=sw.ev_doublet)\n",
      "\n",
      "def custom_model_signal_likelihood(sg, wns, sw, models):\n",
      "    \n",
      "    for sta in wns.keys():\n",
      "        wn = wns[sta]\n",
      "        \n",
      "        tmnodes = sg.get_template_nodes(1, sta, sw.phase, wn.band, wn.chan)\n",
      "        for p, (k, n) in tmnodes.items():\n",
      "            if p in sw.tm_params[sta]:\n",
      "                n.set_value(sw.tm_params[sta][p][sw.n_evs])\n",
      "        \n",
      "        #oldmodels = wn.wavelet_param_models[sw.phase]\n",
      "        wn.wavelet_param_models[sw.phase] = [models[sta][p] for p in sorted(models[sta].keys())]\n",
      "        for eid,phase in wn.arrivals():\n",
      "            wn.arrival_ssms[(eid,phase)] = wn.arrival_ssm(eid, phase)\n",
      "        tssm = wn.transient_ssm()\n",
      "        pred = tssm.mean_obs(wn.npts)\n",
      "        v = tssm.obs_var(wn.npts)\n",
      "        d = wn.get_value().data\n",
      "        print sta, tssm.run_filter(d)\n",
      "        figure()\n",
      "        plot(d)\n",
      "        plot(pred)\n",
      "        #plot(pred+2*np.sqrt(v), c=\"red\")\n",
      "        #plot(pred-2*np.sqrt(v), c=\"red\")\n",
      "\n",
      "custom_model_signal_likelihood(sg, wns, sw, dummy_models)"
     ],
     "language": "python",
     "metadata": {},
     "outputs": [
      {
       "output_type": "stream",
       "stream": "stdout",
       "text": [
        "MK31 471.061388968\n",
        "FITZ"
       ]
      },
      {
       "output_type": "stream",
       "stream": "stdout",
       "text": [
        " 854.532021078\n",
        "WR1 "
       ]
      },
      {
       "output_type": "stream",
       "stream": "stdout",
       "text": [
        "-334.07799458\n",
        "AS12 "
       ]
      },
      {
       "output_type": "stream",
       "stream": "stdout",
       "text": [
        "1124.33514614\n",
        "CM16"
       ]
      },
      {
       "output_type": "stream",
       "stream": "stdout",
       "text": [
        " -2528.11472148\n"
       ]
      },
      {
       "metadata": {},
       "output_type": "display_data",
       "png": "[encoded data removed]",
       "text": [
        "<matplotlib.figure.Figure at 0x7056610>"
       ]
      },
      {
       "metadata": {},
       "output_type": "display_data",
       "png": "[encoded data removed]",
       "text": [
        "<matplotlib.figure.Figure at 0x7292150>"
       ]
      },
      {
       "metadata": {},
       "output_type": "display_data",
       "png": "[encoded data removed]",
       "text": [
        "<matplotlib.figure.Figure at 0x8336550>"
       ]
      },
      {
       "metadata": {},
       "output_type": "display_data",
       "png": "[encoded data removed]",
       "text": [
        "<matplotlib.figure.Figure at 0x8c02f50>"
       ]
      },
      {
       "metadata": {},
       "output_type": "display_data",
       "png": "[encoded data removed]",
       "text": [
        "<matplotlib.figure.Figure at 0x7d3ba90>"
       ]
      }
     ],
     "prompt_number": 27
    },
    {
     "cell_type": "code",
     "collapsed": false,
     "input": [
      "dummyPrior = dict([(param, Gaussian(sw.param_means[\"MK31\"][param], std=np.sqrt(sw.gpcov.wfn_params[0]))) for param in sw.param_means[\"MK31\"].keys()\n",
      "])\n",
      "sg, wns = build_sg(sw, 35, wiggle_model_type=\"gp_lld\", template_model_type=\"dummyPrior\", dummy_prior=dummyPrior, ev_init=sw.ev_doublet)\n"
     ],
     "language": "python",
     "metadata": {},
     "outputs": [],
     "prompt_number": 28
    },
    {
     "cell_type": "code",
     "collapsed": false,
     "input": [
      "\n",
      "from sigvisa.infer.run_mcmc import run_open_world_MH\n",
      "from sigvisa.infer.mcmc_logger import MCMCLogger\n",
      "\n",
      "#ev_init = sg.get_event(1)\n",
      "np.random.seed(0)\n",
      "logger = MCMCLogger( write_template_vals=True, dump_interval=10, print_interval=10)\n",
      "\n",
      "with open(os.path.join(logger.run_dir, \"events.pkl\"), \"wb\") as f:\n",
      "    pickle.dump([sw.ev_doublet,], f)\n",
      "    \n",
      "with open(os.path.join(logger.run_dir, \"train_events.pkl\"), \"wb\") as f:\n",
      "    pickle.dump(sw.evs, f)\n",
      "    \n",
      "run_open_world_MH(sg, steps=5000,\n",
      "                  enable_event_openworld=False,\n",
      "                  enable_event_moves=True,\n",
      "                  enable_template_openworld=False,\n",
      "                  enable_template_moves=True,\n",
      "                  logger=logger)\n"
     ],
     "language": "python",
     "metadata": {},
     "outputs": [
      {
       "output_type": "stream",
       "stream": "stdout",
       "text": [
        "step 1: lp -1323.98, accepted arrival_time: 0.400%, coda_decay: 0.200%, coda_height: 0.300%, evdepth: 0.500%, evloc: 1.000%, evloc_big: 0.500%, evmb: 1.000%, evtime: 0.500%, indep_peak: 0.000%, peak_decay: 0.400%, peak_offset: 0.450%, , uatemplates: 0 , events: 1 \n",
        "step 2: lp -1252.43, accepted arrival_time: 0.333%, coda_decay: 0.133%, coda_height: 0.267%, evdepth: 0.333%, evloc: 1.000%, evloc_big: 0.333%, evmb: 1.000%, evtime: 0.667%, indep_peak: 0.000%, peak_decay: 0.333%, peak_offset: 0.367%, , uatemplates: 0 , events: 1 "
       ]
      },
      {
       "output_type": "stream",
       "stream": "stdout",
       "text": [
        "\n",
        "step 3: lp -947.52, accepted arrival_time: 0.300%, coda_decay: 0.100%, coda_height: 0.300%, evdepth: 0.250%, evloc: 1.000%, evloc_big: 0.500%, evmb: 1.000%, evtime: 0.750%, indep_peak: 0.000%, peak_decay: 0.350%, peak_offset: 0.400%, , uatemplates: 0 , events: 1 "
       ]
      },
      {
       "output_type": "stream",
       "stream": "stdout",
       "text": [
        "\n",
        "step 4: lp -896.07, accepted arrival_time: 0.240%, coda_decay: 0.080%, coda_height: 0.280%, evdepth: 0.400%, evloc: 1.000%, evloc_big: 0.600%, evmb: 1.000%, evtime: 0.600%, indep_peak: 0.000%, peak_decay: 0.360%, peak_offset: 0.400%, , uatemplates: 0 , events: 1 "
       ]
      },
      {
       "output_type": "stream",
       "stream": "stdout",
       "text": [
        "\n",
        "saving debug dump to /home/dmoore/python/sigvisa/logs/mcmc/01627/step_000009..."
       ]
      },
      {
       "output_type": "stream",
       "stream": "stdout",
       "text": [
        "\n",
        "saved pickled graph"
       ]
      },
      {
       "output_type": "stream",
       "stream": "stdout",
       "text": [
        "\n",
        "step 10: lp -794.50, accepted arrival_time: 0.164%, coda_decay: 0.091%, coda_height: 0.255%, evdepth: 0.364%, evloc: 0.909%, evloc_big: 0.455%, evmb: 1.000%, evtime: 0.545%, indep_peak: 0.000%, peak_decay: 0.382%, peak_offset: 0.327%, , uatemplates: 0 , events: 1 "
       ]
      },
      {
       "output_type": "stream",
       "stream": "stdout",
       "text": [
        "\n",
        "saving debug dump to /home/dmoore/python/sigvisa/logs/mcmc/01627/step_000019..."
       ]
      },
      {
       "output_type": "stream",
       "stream": "stdout",
       "text": [
        "\n",
        "saved pickled graph"
       ]
      },
      {
       "output_type": "stream",
       "stream": "stdout",
       "text": [
        "\n",
        "step 20: lp -721.91, accepted arrival_time: 0.143%, coda_decay: 0.105%, coda_height: 0.181%, evdepth: 0.333%, evloc: 0.810%, evloc_big: 0.286%, evmb: 1.000%, evtime: 0.429%, indep_peak: 0.000%, peak_decay: 0.371%, peak_offset: 0.252%, , uatemplates: 0 , events: 1 "
       ]
      },
      {
       "output_type": "stream",
       "stream": "stdout",
       "text": [
        "\n",
        "saving debug dump to /home/dmoore/python/sigvisa/logs/mcmc/01627/step_000029..."
       ]
      },
      {
       "output_type": "stream",
       "stream": "stdout",
       "text": [
        "\n",
        "saved pickled graph"
       ]
      },
      {
       "output_type": "stream",
       "stream": "stdout",
       "text": [
        "\n",
        "step 30: lp -654.59, accepted arrival_time: 0.148%, coda_decay: 0.084%, coda_height: 0.181%, evdepth: 0.387%, evloc: 0.677%, evloc_big: 0.258%, evmb: 1.000%, evtime: 0.484%, indep_peak: 0.000%, peak_decay: 0.316%, peak_offset: 0.235%, , uatemplates: 0 , events: 1 "
       ]
      },
      {
       "output_type": "stream",
       "stream": "stdout",
       "text": [
        "\n",
        "saving debug dump to /home/dmoore/python/sigvisa/logs/mcmc/01627/step_000039..."
       ]
      },
      {
       "output_type": "stream",
       "stream": "stdout",
       "text": [
        "\n",
        "saved pickled graph"
       ]
      },
      {
       "output_type": "stream",
       "stream": "stdout",
       "text": [
        "\n",
        "step 40: lp -611.69, accepted arrival_time: 0.112%, coda_decay: 0.073%, coda_height: 0.176%, evdepth: 0.463%, evloc: 0.537%, evloc_big: 0.195%, evmb: 0.976%, evtime: 0.463%, indep_peak: 0.000%, peak_decay: 0.346%, peak_offset: 0.241%, , uatemplates: 0 , events: 1 "
       ]
      },
      {
       "output_type": "stream",
       "stream": "stdout",
       "text": [
        "\n",
        "saving debug dump to /home/dmoore/python/sigvisa/logs/mcmc/01627/step_000049..."
       ]
      },
      {
       "output_type": "stream",
       "stream": "stdout",
       "text": [
        "\n",
        "saved pickled graph"
       ]
      },
      {
       "output_type": "stream",
       "stream": "stdout",
       "text": [
        "\n",
        "step 50: lp -521.45, accepted arrival_time: 0.102%, coda_decay: 0.078%, coda_height: 0.165%, evdepth: 0.412%, evloc: 0.490%, evloc_big: 0.157%, evmb: 0.961%, evtime: 0.471%, indep_peak: 0.004%, peak_decay: 0.329%, peak_offset: 0.229%, , uatemplates: 0 , events: 1 "
       ]
      },
      {
       "output_type": "stream",
       "stream": "stdout",
       "text": [
        "\n",
        "saving debug dump to /home/dmoore/python/sigvisa/logs/mcmc/01627/step_000059..."
       ]
      },
      {
       "output_type": "stream",
       "stream": "stdout",
       "text": [
        "\n",
        "saved pickled graph"
       ]
      },
      {
       "output_type": "stream",
       "stream": "stdout",
       "text": [
        "\n",
        "step 60: lp -528.72, accepted arrival_time: 0.092%, coda_decay: 0.082%, coda_height: 0.161%, evdepth: 0.410%, evloc: 0.426%, evloc_big: 0.131%, evmb: 0.967%, evtime: 0.492%, indep_peak: 0.003%, peak_decay: 0.311%, peak_offset: 0.218%, , uatemplates: 0 , events: 1 "
       ]
      },
      {
       "output_type": "stream",
       "stream": "stdout",
       "text": [
        "\n",
        "saving debug dump to /home/dmoore/python/sigvisa/logs/mcmc/01627/step_000069..."
       ]
      },
      {
       "output_type": "stream",
       "stream": "stdout",
       "text": [
        "\n",
        "saved pickled graph"
       ]
      },
      {
       "output_type": "stream",
       "stream": "stdout",
       "text": [
        "\n",
        "step 70: lp -523.44, accepted arrival_time: 0.085%, coda_decay: 0.085%, coda_height: 0.146%, evdepth: 0.437%, evloc: 0.380%, evloc_big: 0.113%, evmb: 0.972%, evtime: 0.521%, indep_peak: 0.003%, peak_decay: 0.304%, peak_offset: 0.218%, , uatemplates: 0 , events: 1 "
       ]
      },
      {
       "output_type": "stream",
       "stream": "stdout",
       "text": [
        "\n",
        "saving debug dump to /home/dmoore/python/sigvisa/logs/mcmc/01627/step_000079..."
       ]
      },
      {
       "output_type": "stream",
       "stream": "stdout",
       "text": [
        "\n",
        "saved pickled graph"
       ]
      },
      {
       "output_type": "stream",
       "stream": "stdout",
       "text": [
        "\n",
        "step 80: lp -513.83, accepted arrival_time: 0.077%, coda_decay: 0.081%, coda_height: 0.146%, evdepth: 0.457%, evloc: 0.333%, evloc_big: 0.099%, evmb: 0.975%, evtime: 0.543%, indep_peak: 0.002%, peak_decay: 0.309%, peak_offset: 0.206%, , uatemplates: 0 , events: 1 "
       ]
      },
      {
       "output_type": "stream",
       "stream": "stdout",
       "text": [
        "\n",
        "saving debug dump to /home/dmoore/python/sigvisa/logs/mcmc/01627/step_000089..."
       ]
      },
      {
       "output_type": "stream",
       "stream": "stdout",
       "text": [
        "\n",
        "saved pickled graph"
       ]
      },
      {
       "output_type": "stream",
       "stream": "stdout",
       "text": [
        "\n",
        "step 90: lp -455.14, accepted arrival_time: 0.075%, coda_decay: 0.081%, coda_height: 0.141%, evdepth: 0.418%, evloc: 0.330%, evloc_big: 0.088%, evmb: 0.967%, evtime: 0.538%, indep_peak: 0.002%, peak_decay: 0.310%, peak_offset: 0.201%, , uatemplates: 0 , events: 1 "
       ]
      },
      {
       "output_type": "stream",
       "stream": "stdout",
       "text": [
        "\n",
        "saving debug dump to /home/dmoore/python/sigvisa/logs/mcmc/01627/step_000099..."
       ]
      },
      {
       "output_type": "stream",
       "stream": "stdout",
       "text": [
        "\n",
        "saved pickled graph"
       ]
      },
      {
       "output_type": "stream",
       "stream": "stdout",
       "text": [
        "\n",
        "step 100: lp -431.88, accepted arrival_time: 0.073%, coda_decay: 0.093%, coda_height: 0.139%, evdepth: 0.436%, evloc: 0.307%, evloc_big: 0.079%, evmb: 0.960%, evtime: 0.505%, indep_peak: 0.002%, peak_decay: 0.317%, peak_offset: 0.199%, , uatemplates: 0 , events: 1 "
       ]
      },
      {
       "output_type": "stream",
       "stream": "stdout",
       "text": [
        "\n",
        "saving debug dump to /home/dmoore/python/sigvisa/logs/mcmc/01627/step_000109..."
       ]
      },
      {
       "output_type": "stream",
       "stream": "stdout",
       "text": [
        "\n",
        "saved pickled graph"
       ]
      },
      {
       "output_type": "stream",
       "stream": "stdout",
       "text": [
        "\n",
        "step 110: lp -412.88, accepted arrival_time: 0.070%, coda_decay: 0.094%, coda_height: 0.137%, evdepth: 0.468%, evloc: 0.306%, evloc_big: 0.072%, evmb: 0.955%, evtime: 0.514%, indep_peak: 0.002%, peak_decay: 0.315%, peak_offset: 0.195%, , uatemplates: 0 , events: 1 "
       ]
      },
      {
       "output_type": "stream",
       "stream": "stdout",
       "text": [
        "\n",
        "saving debug dump to /home/dmoore/python/sigvisa/logs/mcmc/01627/step_000119..."
       ]
      },
      {
       "output_type": "stream",
       "stream": "stdout",
       "text": [
        "\n",
        "saved pickled graph"
       ]
      },
      {
       "output_type": "stream",
       "stream": "stdout",
       "text": [
        "\n",
        "step 120: lp -407.49, accepted arrival_time: 0.069%, coda_decay: 0.093%, coda_height: 0.137%, evdepth: 0.471%, evloc: 0.314%, evloc_big: 0.066%, evmb: 0.959%, evtime: 0.529%, indep_peak: 0.002%, peak_decay: 0.317%, peak_offset: 0.188%, , uatemplates: 0 , events: 1 "
       ]
      },
      {
       "output_type": "stream",
       "stream": "stdout",
       "text": [
        "\n",
        "saving debug dump to /home/dmoore/python/sigvisa/logs/mcmc/01627/step_000129..."
       ]
      },
      {
       "output_type": "stream",
       "stream": "stdout",
       "text": [
        "\n",
        "saved pickled graph"
       ]
      },
      {
       "output_type": "stream",
       "stream": "stdout",
       "text": [
        "\n",
        "step 130: lp -407.79, accepted arrival_time: 0.066%, coda_decay: 0.090%, coda_height: 0.131%, evdepth: 0.473%, evloc: 0.298%, evloc_big: 0.061%, evmb: 0.962%, evtime: 0.519%, indep_peak: 0.002%, peak_decay: 0.315%, peak_offset: 0.189%, , uatemplates: 0 , events: 1 "
       ]
      },
      {
       "output_type": "stream",
       "stream": "stdout",
       "text": [
        "\n",
        "saving debug dump to /home/dmoore/python/sigvisa/logs/mcmc/01627/step_000139..."
       ]
      },
      {
       "output_type": "stream",
       "stream": "stdout",
       "text": [
        "\n",
        "saved pickled graph"
       ]
      },
      {
       "output_type": "stream",
       "stream": "stdout",
       "text": [
        "\n",
        "step 140: lp -387.03, accepted arrival_time: 0.064%, coda_decay: 0.095%, coda_height: 0.130%, evdepth: 0.482%, evloc: 0.277%, evloc_big: 0.057%, evmb: 0.965%, evtime: 0.518%, indep_peak: 0.003%, peak_decay: 0.322%, peak_offset: 0.188%, , uatemplates: 0 , events: 1 "
       ]
      },
      {
       "output_type": "stream",
       "stream": "stdout",
       "text": [
        "\n",
        "saving debug dump to /home/dmoore/python/sigvisa/logs/mcmc/01627/step_000149..."
       ]
      },
      {
       "output_type": "stream",
       "stream": "stdout",
       "text": [
        "\n",
        "saved pickled graph"
       ]
      },
      {
       "output_type": "stream",
       "stream": "stdout",
       "text": [
        "\n",
        "step 150: lp -393.58, accepted arrival_time: 0.062%, coda_decay: 0.097%, coda_height: 0.128%, evdepth: 0.490%, evloc: 0.258%, evloc_big: 0.053%, evmb: 0.967%, evtime: 0.517%, indep_peak: 0.003%, peak_decay: 0.323%, peak_offset: 0.189%, , uatemplates: 0 , events: 1 "
       ]
      },
      {
       "output_type": "stream",
       "stream": "stdout",
       "text": [
        "\n",
        "saving debug dump to /home/dmoore/python/sigvisa/logs/mcmc/01627/step_000159..."
       ]
      },
      {
       "output_type": "stream",
       "stream": "stdout",
       "text": [
        "\n",
        "saved pickled graph"
       ]
      },
      {
       "output_type": "stream",
       "stream": "stdout",
       "text": [
        "\n",
        "step 160: lp -388.23, accepted arrival_time: 0.058%, coda_decay: 0.097%, coda_height: 0.127%, evdepth: 0.497%, evloc: 0.255%, evloc_big: 0.050%, evmb: 0.969%, evtime: 0.516%, indep_peak: 0.002%, peak_decay: 0.320%, peak_offset: 0.186%, , uatemplates: 0 , events: 1 "
       ]
      },
      {
       "output_type": "stream",
       "stream": "stdout",
       "text": [
        "\n",
        "saving debug dump to /home/dmoore/python/sigvisa/logs/mcmc/01627/step_000169..."
       ]
      },
      {
       "output_type": "stream",
       "stream": "stdout",
       "text": [
        "\n",
        "saved pickled graph"
       ]
      },
      {
       "output_type": "stream",
       "stream": "stdout",
       "text": [
        "\n",
        "step 170: lp -392.39, accepted arrival_time: 0.057%, coda_decay: 0.098%, coda_height: 0.123%, evdepth: 0.485%, evloc: 0.246%, evloc_big: 0.047%, evmb: 0.965%, evtime: 0.509%, indep_peak: 0.002%, peak_decay: 0.322%, peak_offset: 0.182%, , uatemplates: 0 , events: 1 "
       ]
      },
      {
       "output_type": "stream",
       "stream": "stdout",
       "text": [
        "\n",
        "saving debug dump to /home/dmoore/python/sigvisa/logs/mcmc/01627/step_000179..."
       ]
      },
      {
       "output_type": "stream",
       "stream": "stdout",
       "text": [
        "\n",
        "saved pickled graph"
       ]
      },
      {
       "output_type": "stream",
       "stream": "stdout",
       "text": [
        "\n",
        "step 180: lp -382.78, accepted arrival_time: 0.056%, coda_decay: 0.099%, coda_height: 0.123%, evdepth: 0.486%, evloc: 0.232%, evloc_big: 0.044%, evmb: 0.961%, evtime: 0.503%, indep_peak: 0.002%, peak_decay: 0.328%, peak_offset: 0.184%, , uatemplates: 0 , events: 1 "
       ]
      },
      {
       "output_type": "stream",
       "stream": "stdout",
       "text": [
        "\n",
        "saving debug dump to /home/dmoore/python/sigvisa/logs/mcmc/01627/step_000189..."
       ]
      },
      {
       "output_type": "stream",
       "stream": "stdout",
       "text": [
        "\n",
        "saved pickled graph"
       ]
      },
      {
       "output_type": "stream",
       "stream": "stdout",
       "text": [
        "\n",
        "step 190: lp -382.10, accepted arrival_time: 0.058%, coda_decay: 0.099%, coda_height: 0.121%, evdepth: 0.476%, evloc: 0.225%, evloc_big: 0.042%, evmb: 0.963%, evtime: 0.508%, indep_peak: 0.002%, peak_decay: 0.324%, peak_offset: 0.187%, , uatemplates: 0 , events: 1 "
       ]
      },
      {
       "output_type": "stream",
       "stream": "stdout",
       "text": [
        "\n",
        "saving debug dump to /home/dmoore/python/sigvisa/logs/mcmc/01627/step_000199..."
       ]
      },
      {
       "output_type": "stream",
       "stream": "stdout",
       "text": [
        "\n",
        "saved pickled graph"
       ]
      },
      {
       "output_type": "stream",
       "stream": "stdout",
       "text": [
        "\n",
        "step 200: lp -394.32, accepted arrival_time: 0.058%, coda_decay: 0.098%, coda_height: 0.120%, evdepth: 0.488%, evloc: 0.214%, evloc_big: 0.040%, evmb: 0.955%, evtime: 0.512%, indep_peak: 0.002%, peak_decay: 0.320%, peak_offset: 0.187%, , uatemplates: 0 , events: 1 "
       ]
      },
      {
       "output_type": "stream",
       "stream": "stdout",
       "text": [
        "\n",
        "saving debug dump to /home/dmoore/python/sigvisa/logs/mcmc/01627/step_000209..."
       ]
      },
      {
       "output_type": "stream",
       "stream": "stdout",
       "text": [
        "\n",
        "saved pickled graph"
       ]
      },
      {
       "output_type": "stream",
       "stream": "stdout",
       "text": [
        "\n",
        "step 210: lp -384.49, accepted arrival_time: 0.056%, coda_decay: 0.095%, coda_height: 0.123%, evdepth: 0.488%, evloc: 0.204%, evloc_big: 0.038%, evmb: 0.943%, evtime: 0.521%, indep_peak: 0.002%, peak_decay: 0.321%, peak_offset: 0.188%, , uatemplates: 0 , events: 1 "
       ]
      },
      {
       "output_type": "stream",
       "stream": "stdout",
       "text": [
        "\n",
        "saving debug dump to /home/dmoore/python/sigvisa/logs/mcmc/01627/step_000219..."
       ]
      },
      {
       "output_type": "stream",
       "stream": "stdout",
       "text": [
        "\n",
        "saved pickled graph"
       ]
      },
      {
       "output_type": "stream",
       "stream": "stdout",
       "text": [
        "\n",
        "step 220: lp -388.23, accepted arrival_time: 0.055%, coda_decay: 0.092%, coda_height: 0.121%, evdepth: 0.498%, evloc: 0.208%, evloc_big: 0.036%, evmb: 0.941%, evtime: 0.520%, indep_peak: 0.003%, peak_decay: 0.318%, peak_offset: 0.187%, , uatemplates: 0 , events: 1 "
       ]
      },
      {
       "output_type": "stream",
       "stream": "stdout",
       "text": [
        "\n",
        "saving debug dump to /home/dmoore/python/sigvisa/logs/mcmc/01627/step_000229..."
       ]
      },
      {
       "output_type": "stream",
       "stream": "stdout",
       "text": [
        "\n",
        "saved pickled graph"
       ]
      },
      {
       "output_type": "stream",
       "stream": "stdout",
       "text": [
        "\n",
        "step 230: lp -391.21, accepted arrival_time: 0.054%, coda_decay: 0.090%, coda_height: 0.119%, evdepth: 0.506%, evloc: 0.208%, evloc_big: 0.035%, evmb: 0.939%, evtime: 0.511%, indep_peak: 0.003%, peak_decay: 0.319%, peak_offset: 0.188%, , uatemplates: 0 , events: 1 "
       ]
      },
      {
       "output_type": "stream",
       "stream": "stdout",
       "text": [
        "\n",
        "saving debug dump to /home/dmoore/python/sigvisa/logs/mcmc/01627/step_000239..."
       ]
      },
      {
       "output_type": "stream",
       "stream": "stdout",
       "text": [
        "\n",
        "saved pickled graph"
       ]
      },
      {
       "output_type": "stream",
       "stream": "stdout",
       "text": [
        "\n",
        "step 240: lp -391.68, accepted arrival_time: 0.052%, coda_decay: 0.090%, coda_height: 0.115%, evdepth: 0.502%, evloc: 0.199%, evloc_big: 0.033%, evmb: 0.929%, evtime: 0.502%, indep_peak: 0.002%, peak_decay: 0.319%, peak_offset: 0.186%, , uatemplates: 0 , events: 1 "
       ]
      },
      {
       "output_type": "stream",
       "stream": "stdout",
       "text": [
        "\n",
        "saving debug dump to /home/dmoore/python/sigvisa/logs/mcmc/01627/step_000249..."
       ]
      },
      {
       "output_type": "stream",
       "stream": "stdout",
       "text": [
        "\n",
        "saved pickled graph"
       ]
      },
      {
       "output_type": "stream",
       "stream": "stdout",
       "text": [
        "\n",
        "step 250: lp -392.89, accepted arrival_time: 0.053%, coda_decay: 0.090%, coda_height: 0.116%, evdepth: 0.498%, evloc: 0.195%, evloc_big: 0.032%, evmb: 0.924%, evtime: 0.502%, indep_peak: 0.002%, peak_decay: 0.317%, peak_offset: 0.185%, , uatemplates: 0 , events: 1 "
       ]
      },
      {
       "output_type": "stream",
       "stream": "stdout",
       "text": [
        "\n",
        "saving debug dump to /home/dmoore/python/sigvisa/logs/mcmc/01627/step_000259..."
       ]
      },
      {
       "output_type": "stream",
       "stream": "stdout",
       "text": [
        "\n",
        "saved pickled graph"
       ]
      },
      {
       "output_type": "stream",
       "stream": "stdout",
       "text": [
        "\n",
        "step 260: lp -386.54, accepted arrival_time: 0.053%, coda_decay: 0.088%, coda_height: 0.115%, evdepth: 0.498%, evloc: 0.192%, evloc_big: 0.031%, evmb: 0.923%, evtime: 0.498%, indep_peak: 0.002%, peak_decay: 0.315%, peak_offset: 0.186%, , uatemplates: 0 , events: 1 "
       ]
      },
      {
       "output_type": "stream",
       "stream": "stdout",
       "text": [
        "\n",
        "saving debug dump to /home/dmoore/python/sigvisa/logs/mcmc/01627/step_000269..."
       ]
      },
      {
       "output_type": "stream",
       "stream": "stdout",
       "text": [
        "\n",
        "saved pickled graph"
       ]
      },
      {
       "output_type": "stream",
       "stream": "stdout",
       "text": [
        "\n",
        "step 270: lp -392.00, accepted arrival_time: 0.053%, coda_decay: 0.087%, coda_height: 0.114%, evdepth: 0.509%, evloc: 0.185%, evloc_big: 0.030%, evmb: 0.923%, evtime: 0.506%, indep_peak: 0.002%, peak_decay: 0.320%, peak_offset: 0.185%, , uatemplates: 0 , events: 1 "
       ]
      },
      {
       "output_type": "stream",
       "stream": "stdout",
       "text": [
        "\n",
        "saving debug dump to /home/dmoore/python/sigvisa/logs/mcmc/01627/step_000279..."
       ]
      },
      {
       "output_type": "stream",
       "stream": "stdout",
       "text": [
        "\n",
        "saved pickled graph"
       ]
      },
      {
       "output_type": "stream",
       "stream": "stdout",
       "text": [
        "\n",
        "step 280: lp -386.98, accepted arrival_time: 0.053%, coda_decay: 0.085%, coda_height: 0.114%, evdepth: 0.498%, evloc: 0.181%, evloc_big: 0.028%, evmb: 0.918%, evtime: 0.502%, indep_peak: 0.002%, peak_decay: 0.328%, peak_offset: 0.184%, , uatemplates: 0 , events: 1 "
       ]
      },
      {
       "output_type": "stream",
       "stream": "stdout",
       "text": [
        "\n",
        "saving debug dump to /home/dmoore/python/sigvisa/logs/mcmc/01627/step_000289..."
       ]
      },
      {
       "output_type": "stream",
       "stream": "stdout",
       "text": [
        "\n",
        "saved pickled graph"
       ]
      },
      {
       "output_type": "stream",
       "stream": "stdout",
       "text": [
        "\n",
        "step 290: lp -382.21, accepted arrival_time: 0.054%, coda_decay: 0.084%, coda_height: 0.116%, evdepth: 0.502%, evloc: 0.179%, evloc_big: 0.027%, evmb: 0.914%, evtime: 0.509%, indep_peak: 0.003%, peak_decay: 0.332%, peak_offset: 0.183%, , uatemplates: 0 , events: 1 "
       ]
      },
      {
       "output_type": "stream",
       "stream": "stdout",
       "text": [
        "\n",
        "saving debug dump to /home/dmoore/python/sigvisa/logs/mcmc/01627/step_000299..."
       ]
      },
      {
       "output_type": "stream",
       "stream": "stdout",
       "text": [
        "\n",
        "saved pickled graph"
       ]
      },
      {
       "output_type": "stream",
       "stream": "stdout",
       "text": [
        "\n",
        "step 300: lp -380.37, accepted arrival_time: 0.054%, coda_decay: 0.085%, coda_height: 0.116%, evdepth: 0.505%, evloc: 0.173%, evloc_big: 0.027%, evmb: 0.914%, evtime: 0.498%, indep_peak: 0.003%, peak_decay: 0.334%, peak_offset: 0.182%, , uatemplates: 0 , events: 1 "
       ]
      },
      {
       "output_type": "stream",
       "stream": "stdout",
       "text": [
        "\n",
        "saving debug dump to /home/dmoore/python/sigvisa/logs/mcmc/01627/step_000309..."
       ]
      },
      {
       "output_type": "stream",
       "stream": "stdout",
       "text": [
        "\n",
        "saved pickled graph"
       ]
      },
      {
       "output_type": "stream",
       "stream": "stdout",
       "text": [
        "\n",
        "step 310: lp -377.45, accepted arrival_time: 0.054%, coda_decay: 0.084%, coda_height: 0.117%, evdepth: 0.505%, evloc: 0.170%, evloc_big: 0.026%, evmb: 0.913%, evtime: 0.495%, indep_peak: 0.003%, peak_decay: 0.336%, peak_offset: 0.180%, , uatemplates: 0 , events: 1 "
       ]
      },
      {
       "output_type": "stream",
       "stream": "stdout",
       "text": [
        "\n",
        "saving debug dump to /home/dmoore/python/sigvisa/logs/mcmc/01627/step_000319..."
       ]
      },
      {
       "output_type": "stream",
       "stream": "stdout",
       "text": [
        "\n",
        "saved pickled graph"
       ]
      },
      {
       "output_type": "stream",
       "stream": "stdout",
       "text": [
        "\n",
        "step 320: lp -387.60, accepted arrival_time: 0.053%, coda_decay: 0.084%, coda_height: 0.117%, evdepth: 0.502%, evloc: 0.171%, evloc_big: 0.025%, evmb: 0.916%, evtime: 0.495%, indep_peak: 0.002%, peak_decay: 0.339%, peak_offset: 0.180%, , uatemplates: 0 , events: 1 "
       ]
      },
      {
       "output_type": "stream",
       "stream": "stdout",
       "text": [
        "\n",
        "saving debug dump to /home/dmoore/python/sigvisa/logs/mcmc/01627/step_000329..."
       ]
      },
      {
       "output_type": "stream",
       "stream": "stdout",
       "text": [
        "\n",
        "saved pickled graph"
       ]
      },
      {
       "output_type": "stream",
       "stream": "stdout",
       "text": [
        "\n",
        "step 330: lp -385.27, accepted arrival_time: 0.053%, coda_decay: 0.083%, coda_height: 0.114%, evdepth: 0.502%, evloc: 0.172%, evloc_big: 0.027%, evmb: 0.915%, evtime: 0.498%, indep_peak: 0.002%, peak_decay: 0.341%, peak_offset: 0.180%, , uatemplates: 0 , events: 1 "
       ]
      },
      {
       "output_type": "stream",
       "stream": "stdout",
       "text": [
        "\n",
        "saving debug dump to /home/dmoore/python/sigvisa/logs/mcmc/01627/step_000339..."
       ]
      },
      {
       "output_type": "stream",
       "stream": "stdout",
       "text": [
        "\n",
        "saved pickled graph"
       ]
      },
      {
       "output_type": "stream",
       "stream": "stdout",
       "text": [
        "\n",
        "step 340: lp -386.73, accepted arrival_time: 0.053%, coda_decay: 0.082%, coda_height: 0.114%, evdepth: 0.499%, evloc: 0.170%, evloc_big: 0.026%, evmb: 0.912%, evtime: 0.496%, indep_peak: 0.002%, peak_decay: 0.341%, peak_offset: 0.180%, , uatemplates: 0 , events: 1 "
       ]
      },
      {
       "output_type": "stream",
       "stream": "stdout",
       "text": [
        "\n",
        "saving debug dump to /home/dmoore/python/sigvisa/logs/mcmc/01627/step_000349..."
       ]
      },
      {
       "output_type": "stream",
       "stream": "stdout",
       "text": [
        "\n",
        "saved pickled graph"
       ]
      },
      {
       "output_type": "stream",
       "stream": "stdout",
       "text": [
        "\n",
        "step 350: lp -379.96, accepted arrival_time: 0.053%, coda_decay: 0.083%, coda_height: 0.113%, evdepth: 0.499%, evloc: 0.168%, evloc_big: 0.026%, evmb: 0.912%, evtime: 0.499%, indep_peak: 0.002%, peak_decay: 0.340%, peak_offset: 0.181%, , uatemplates: 0 , events: 1 "
       ]
      },
      {
       "output_type": "stream",
       "stream": "stdout",
       "text": [
        "\n",
        "saving debug dump to /home/dmoore/python/sigvisa/logs/mcmc/01627/step_000359..."
       ]
      },
      {
       "output_type": "stream",
       "stream": "stdout",
       "text": [
        "\n",
        "saved pickled graph"
       ]
      },
      {
       "output_type": "stream",
       "stream": "stdout",
       "text": [
        "\n",
        "step 360: lp -379.74, accepted arrival_time: 0.052%, coda_decay: 0.083%, coda_height: 0.112%, evdepth: 0.499%, evloc: 0.166%, evloc_big: 0.025%, evmb: 0.914%, evtime: 0.493%, indep_peak: 0.002%, peak_decay: 0.337%, peak_offset: 0.180%, , uatemplates: 0 , events: 1 "
       ]
      },
      {
       "output_type": "stream",
       "stream": "stdout",
       "text": [
        "\n",
        "saving debug dump to /home/dmoore/python/sigvisa/logs/mcmc/01627/step_000369..."
       ]
      },
      {
       "output_type": "stream",
       "stream": "stdout",
       "text": [
        "\n",
        "saved pickled graph"
       ]
      },
      {
       "output_type": "stream",
       "stream": "stdout",
       "text": [
        "\n",
        "step 370: lp -379.24, accepted arrival_time: 0.051%, coda_decay: 0.082%, coda_height: 0.111%, evdepth: 0.496%, evloc: 0.164%, evloc_big: 0.024%, evmb: 0.914%, evtime: 0.482%, indep_peak: 0.002%, peak_decay: 0.332%, peak_offset: 0.181%, , uatemplates: 0 , events: 1 "
       ]
      },
      {
       "output_type": "stream",
       "stream": "stdout",
       "text": [
        "\n",
        "saving debug dump to /home/dmoore/python/sigvisa/logs/mcmc/01627/step_000379..."
       ]
      },
      {
       "output_type": "stream",
       "stream": "stdout",
       "text": [
        "\n",
        "saved pickled graph"
       ]
      },
      {
       "output_type": "stream",
       "stream": "stdout",
       "text": [
        "\n",
        "step 380: lp -385.41, accepted arrival_time: 0.050%, coda_decay: 0.082%, coda_height: 0.110%, evdepth: 0.493%, evloc: 0.163%, evloc_big: 0.024%, evmb: 0.916%, evtime: 0.483%, indep_peak: 0.002%, peak_decay: 0.328%, peak_offset: 0.180%, , uatemplates: 0 , events: 1 "
       ]
      },
      {
       "output_type": "stream",
       "stream": "stdout",
       "text": [
        "\n",
        "saving debug dump to /home/dmoore/python/sigvisa/logs/mcmc/01627/step_000389..."
       ]
      },
      {
       "output_type": "stream",
       "stream": "stdout",
       "text": [
        "\n",
        "saved pickled graph"
       ]
      },
      {
       "output_type": "stream",
       "stream": "stdout",
       "text": [
        "\n",
        "step 390: lp -383.31, accepted arrival_time: 0.049%, coda_decay: 0.083%, coda_height: 0.108%, evdepth: 0.496%, evloc: 0.164%, evloc_big: 0.023%, evmb: 0.916%, evtime: 0.478%, indep_peak: 0.002%, peak_decay: 0.326%, peak_offset: 0.180%, , uatemplates: 0 , events: 1 "
       ]
      },
      {
       "output_type": "stream",
       "stream": "stdout",
       "text": [
        "\n",
        "saving debug dump to /home/dmoore/python/sigvisa/logs/mcmc/01627/step_000399..."
       ]
      },
      {
       "output_type": "stream",
       "stream": "stdout",
       "text": [
        "\n",
        "saved pickled graph"
       ]
      },
      {
       "output_type": "stream",
       "stream": "stdout",
       "text": [
        "\n",
        "step 400: lp -379.19, accepted arrival_time: 0.050%, coda_decay: 0.082%, coda_height: 0.107%, evdepth: 0.494%, evloc: 0.160%, evloc_big: 0.022%, evmb: 0.915%, evtime: 0.476%, indep_peak: 0.002%, peak_decay: 0.326%, peak_offset: 0.179%, , uatemplates: 0 , events: 1 "
       ]
      },
      {
       "output_type": "stream",
       "stream": "stdout",
       "text": [
        "\n",
        "saving debug dump to /home/dmoore/python/sigvisa/logs/mcmc/01627/step_000409..."
       ]
      },
      {
       "output_type": "stream",
       "stream": "stdout",
       "text": [
        "\n",
        "saved pickled graph"
       ]
      },
      {
       "output_type": "stream",
       "stream": "stdout",
       "text": [
        "\n",
        "step 410: lp -376.16, accepted arrival_time: 0.050%, coda_decay: 0.081%, coda_height: 0.106%, evdepth: 0.496%, evloc: 0.158%, evloc_big: 0.022%, evmb: 0.910%, evtime: 0.479%, indep_peak: 0.002%, peak_decay: 0.325%, peak_offset: 0.179%, , uatemplates: 0 , events: 1 "
       ]
      },
      {
       "output_type": "stream",
       "stream": "stdout",
       "text": [
        "\n",
        "saving debug dump to /home/dmoore/python/sigvisa/logs/mcmc/01627/step_000419..."
       ]
      },
      {
       "output_type": "stream",
       "stream": "stdout",
       "text": [
        "\n",
        "saved pickled graph"
       ]
      },
      {
       "output_type": "stream",
       "stream": "stdout",
       "text": [
        "\n",
        "step 420: lp -385.07, accepted arrival_time: 0.050%, coda_decay: 0.079%, coda_height: 0.106%, evdepth: 0.492%, evloc: 0.154%, evloc_big: 0.021%, evmb: 0.910%, evtime: 0.480%, indep_peak: 0.002%, peak_decay: 0.326%, peak_offset: 0.177%, , uatemplates: 0 , events: 1 "
       ]
      },
      {
       "output_type": "stream",
       "stream": "stdout",
       "text": [
        "\n",
        "saving debug dump to /home/dmoore/python/sigvisa/logs/mcmc/01627/step_000429..."
       ]
      },
      {
       "output_type": "stream",
       "stream": "stdout",
       "text": [
        "\n",
        "saved pickled graph"
       ]
      },
      {
       "output_type": "stream",
       "stream": "stdout",
       "text": [
        "\n",
        "step 430: lp -383.18, accepted arrival_time: 0.049%, coda_decay: 0.078%, coda_height: 0.106%, evdepth: 0.485%, evloc: 0.151%, evloc_big: 0.021%, evmb: 0.912%, evtime: 0.478%, indep_peak: 0.002%, peak_decay: 0.326%, peak_offset: 0.176%, , uatemplates: 0 , events: 1 "
       ]
      },
      {
       "output_type": "stream",
       "stream": "stdout",
       "text": [
        "\n",
        "saving debug dump to /home/dmoore/python/sigvisa/logs/mcmc/01627/step_000439..."
       ]
      },
      {
       "output_type": "stream",
       "stream": "stdout",
       "text": [
        "\n",
        "saved pickled graph"
       ]
      },
      {
       "output_type": "stream",
       "stream": "stdout",
       "text": [
        "\n",
        "step 440: lp -384.73, accepted arrival_time: 0.049%, coda_decay: 0.078%, coda_height: 0.107%, evdepth: 0.481%, evloc: 0.147%, evloc_big: 0.020%, evmb: 0.914%, evtime: 0.478%, indep_peak: 0.002%, peak_decay: 0.329%, peak_offset: 0.176%, , uatemplates: 0 , events: 1 "
       ]
      },
      {
       "output_type": "stream",
       "stream": "stdout",
       "text": [
        "\n",
        "saving debug dump to /home/dmoore/python/sigvisa/logs/mcmc/01627/step_000449..."
       ]
      },
      {
       "output_type": "stream",
       "stream": "stdout",
       "text": [
        "\n",
        "saved pickled graph"
       ]
      },
      {
       "output_type": "stream",
       "stream": "stdout",
       "text": [
        "\n",
        "step 450: lp -373.85, accepted arrival_time: 0.048%, coda_decay: 0.079%, coda_height: 0.106%, evdepth: 0.481%, evloc: 0.146%, evloc_big: 0.020%, evmb: 0.916%, evtime: 0.477%, indep_peak: 0.002%, peak_decay: 0.329%, peak_offset: 0.175%, , uatemplates: 0 , events: 1 "
       ]
      },
      {
       "output_type": "stream",
       "stream": "stdout",
       "text": [
        "\n",
        "saving debug dump to /home/dmoore/python/sigvisa/logs/mcmc/01627/step_000459..."
       ]
      },
      {
       "output_type": "stream",
       "stream": "stdout",
       "text": [
        "\n",
        "saved pickled graph"
       ]
      },
      {
       "output_type": "stream",
       "stream": "stdout",
       "text": [
        "\n",
        "step 460: lp -377.03, accepted arrival_time: 0.047%, coda_decay: 0.079%, coda_height: 0.110%, evdepth: 0.479%, evloc: 0.143%, evloc_big: 0.020%, evmb: 0.913%, evtime: 0.477%, indep_peak: 0.002%, peak_decay: 0.330%, peak_offset: 0.173%, , uatemplates: 0 , events: 1 "
       ]
      },
      {
       "output_type": "stream",
       "stream": "stdout",
       "text": [
        "\n",
        "saving debug dump to /home/dmoore/python/sigvisa/logs/mcmc/01627/step_000469..."
       ]
      },
      {
       "output_type": "stream",
       "stream": "stdout",
       "text": [
        "\n",
        "saved pickled graph"
       ]
      },
      {
       "output_type": "stream",
       "stream": "stdout",
       "text": [
        "\n",
        "step 470: lp -382.23, accepted arrival_time: 0.047%, coda_decay: 0.079%, coda_height: 0.110%, evdepth: 0.480%, evloc: 0.140%, evloc_big: 0.019%, evmb: 0.915%, evtime: 0.480%, indep_peak: 0.003%, peak_decay: 0.331%, peak_offset: 0.173%, , uatemplates: 0 , events: 1 "
       ]
      },
      {
       "output_type": "stream",
       "stream": "stdout",
       "text": [
        "\n",
        "saving debug dump to /home/dmoore/python/sigvisa/logs/mcmc/01627/step_000479..."
       ]
      },
      {
       "output_type": "stream",
       "stream": "stdout",
       "text": [
        "\n",
        "saved pickled graph"
       ]
      },
      {
       "output_type": "stream",
       "stream": "stdout",
       "text": [
        "\n",
        "step 480: lp -382.15, accepted arrival_time: 0.046%, coda_decay: 0.079%, coda_height: 0.109%, evdepth: 0.486%, evloc: 0.137%, evloc_big: 0.019%, evmb: 0.917%, evtime: 0.476%, indep_peak: 0.002%, peak_decay: 0.334%, peak_offset: 0.173%, , uatemplates: 0 , events: 1 "
       ]
      },
      {
       "output_type": "stream",
       "stream": "stdout",
       "text": [
        "\n",
        "saving debug dump to /home/dmoore/python/sigvisa/logs/mcmc/01627/step_000489..."
       ]
      },
      {
       "output_type": "stream",
       "stream": "stdout",
       "text": [
        "\n",
        "saved pickled graph"
       ]
      },
      {
       "output_type": "stream",
       "stream": "stdout",
       "text": [
        "\n",
        "step 490: lp -384.36, accepted arrival_time: 0.045%, coda_decay: 0.079%, coda_height: 0.109%, evdepth: 0.493%, evloc: 0.138%, evloc_big: 0.018%, evmb: 0.919%, evtime: 0.470%, indep_peak: 0.002%, peak_decay: 0.337%, peak_offset: 0.173%, , uatemplates: 0 , events: 1 "
       ]
      },
      {
       "output_type": "stream",
       "stream": "stdout",
       "text": [
        "\n",
        "saving debug dump to /home/dmoore/python/sigvisa/logs/mcmc/01627/step_000499..."
       ]
      },
      {
       "output_type": "stream",
       "stream": "stdout",
       "text": [
        "\n",
        "saved pickled graph"
       ]
      },
      {
       "output_type": "stream",
       "stream": "stdout",
       "text": [
        "\n",
        "step 500: lp -384.34, accepted arrival_time: 0.044%, coda_decay: 0.080%, coda_height: 0.109%, evdepth: 0.493%, evloc: 0.136%, evloc_big: 0.018%, evmb: 0.918%, evtime: 0.469%, indep_peak: 0.003%, peak_decay: 0.337%, peak_offset: 0.172%, , uatemplates: 0 , events: 1 "
       ]
      },
      {
       "output_type": "stream",
       "stream": "stdout",
       "text": [
        "\n",
        "saving debug dump to /home/dmoore/python/sigvisa/logs/mcmc/01627/step_000509..."
       ]
      },
      {
       "output_type": "stream",
       "stream": "stdout",
       "text": [
        "\n",
        "saved pickled graph"
       ]
      },
      {
       "output_type": "stream",
       "stream": "stdout",
       "text": [
        "\n",
        "step 510: lp -375.61, accepted arrival_time: 0.044%, coda_decay: 0.079%, coda_height: 0.108%, evdepth: 0.487%, evloc: 0.133%, evloc_big: 0.018%, evmb: 0.918%, evtime: 0.464%, indep_peak: 0.003%, peak_decay: 0.339%, peak_offset: 0.171%, , uatemplates: 0 , events: 1 "
       ]
      },
      {
       "output_type": "stream",
       "stream": "stdout",
       "text": [
        "\n",
        "saving debug dump to /home/dmoore/python/sigvisa/logs/mcmc/01627/step_000519..."
       ]
      },
      {
       "output_type": "stream",
       "stream": "stdout",
       "text": [
        "\n",
        "saved pickled graph"
       ]
      },
      {
       "output_type": "stream",
       "stream": "stdout",
       "text": [
        "\n",
        "step 520: lp -379.23, accepted arrival_time: 0.045%, coda_decay: 0.078%, coda_height: 0.107%, evdepth: 0.488%, evloc: 0.132%, evloc_big: 0.017%, evmb: 0.917%, evtime: 0.459%, indep_peak: 0.003%, peak_decay: 0.343%, peak_offset: 0.170%, , uatemplates: 0 , events: 1 "
       ]
      },
      {
       "output_type": "stream",
       "stream": "stdout",
       "text": [
        "\n",
        "saving debug dump to /home/dmoore/python/sigvisa/logs/mcmc/01627/step_000529..."
       ]
      },
      {
       "output_type": "stream",
       "stream": "stdout",
       "text": [
        "\n",
        "saved pickled graph"
       ]
      },
      {
       "output_type": "stream",
       "stream": "stdout",
       "text": [
        "\n",
        "step 530: lp -379.48, accepted arrival_time: 0.045%, coda_decay: 0.077%, coda_height: 0.106%, evdepth: 0.486%, evloc: 0.130%, evloc_big: 0.017%, evmb: 0.917%, evtime: 0.460%, indep_peak: 0.003%, peak_decay: 0.342%, peak_offset: 0.170%, , uatemplates: 0 , events: 1 "
       ]
      },
      {
       "output_type": "stream",
       "stream": "stdout",
       "text": [
        "\n",
        "saving debug dump to /home/dmoore/python/sigvisa/logs/mcmc/01627/step_000539..."
       ]
      },
      {
       "output_type": "stream",
       "stream": "stdout",
       "text": [
        "\n",
        "saved pickled graph"
       ]
      },
      {
       "output_type": "stream",
       "stream": "stdout",
       "text": [
        "\n",
        "step 540: lp -383.69, accepted arrival_time: 0.045%, coda_decay: 0.077%, coda_height: 0.106%, evdepth: 0.486%, evloc: 0.128%, evloc_big: 0.017%, evmb: 0.919%, evtime: 0.457%, indep_peak: 0.003%, peak_decay: 0.343%, peak_offset: 0.170%, , uatemplates: 0 , events: 1 "
       ]
      },
      {
       "output_type": "stream",
       "stream": "stdout",
       "text": [
        "\n",
        "saving debug dump to /home/dmoore/python/sigvisa/logs/mcmc/01627/step_000549..."
       ]
      },
      {
       "output_type": "stream",
       "stream": "stdout",
       "text": [
        "\n",
        "saved pickled graph"
       ]
      },
      {
       "output_type": "stream",
       "stream": "stdout",
       "text": [
        "\n",
        "step 550: lp -379.22, accepted arrival_time: 0.045%, coda_decay: 0.077%, coda_height: 0.106%, evdepth: 0.486%, evloc: 0.125%, evloc_big: 0.016%, evmb: 0.920%, evtime: 0.457%, indep_peak: 0.003%, peak_decay: 0.345%, peak_offset: 0.170%, , uatemplates: 0 , events: 1 "
       ]
      },
      {
       "output_type": "stream",
       "stream": "stdout",
       "text": [
        "\n",
        "saving debug dump to /home/dmoore/python/sigvisa/logs/mcmc/01627/step_000559..."
       ]
      },
      {
       "output_type": "stream",
       "stream": "stdout",
       "text": [
        "\n",
        "saved pickled graph"
       ]
      },
      {
       "output_type": "stream",
       "stream": "stdout",
       "text": [
        "\n",
        "step 560: lp -379.07, accepted arrival_time: 0.045%, coda_decay: 0.077%, coda_height: 0.105%, evdepth: 0.485%, evloc: 0.123%, evloc_big: 0.016%, evmb: 0.920%, evtime: 0.460%, indep_peak: 0.003%, peak_decay: 0.347%, peak_offset: 0.170%, , uatemplates: 0 , events: 1 "
       ]
      },
      {
       "output_type": "stream",
       "stream": "stdout",
       "text": [
        "\n",
        "saving debug dump to /home/dmoore/python/sigvisa/logs/mcmc/01627/step_000569..."
       ]
      },
      {
       "output_type": "stream",
       "stream": "stdout",
       "text": [
        "\n",
        "saved pickled graph"
       ]
      },
      {
       "output_type": "stream",
       "stream": "stdout",
       "text": [
        "\n",
        "step 570: lp -376.88, accepted arrival_time: 0.045%, coda_decay: 0.077%, coda_height: 0.104%, evdepth: 0.483%, evloc: 0.121%, evloc_big: 0.016%, evmb: 0.921%, evtime: 0.459%, indep_peak: 0.003%, peak_decay: 0.349%, peak_offset: 0.169%, , uatemplates: 0 , events: 1 "
       ]
      },
      {
       "output_type": "stream",
       "stream": "stdout",
       "text": [
        "\n",
        "saving debug dump to /home/dmoore/python/sigvisa/logs/mcmc/01627/step_000579..."
       ]
      },
      {
       "output_type": "stream",
       "stream": "stdout",
       "text": [
        "\n",
        "saved pickled graph"
       ]
      },
      {
       "output_type": "stream",
       "stream": "stdout",
       "text": [
        "\n",
        "step 580: lp -377.30, accepted arrival_time: 0.045%, coda_decay: 0.077%, coda_height: 0.103%, evdepth: 0.482%, evloc: 0.119%, evloc_big: 0.015%, evmb: 0.921%, evtime: 0.460%, indep_peak: 0.003%, peak_decay: 0.350%, peak_offset: 0.168%, , uatemplates: 0 , events: 1 "
       ]
      },
      {
       "output_type": "stream",
       "stream": "stdout",
       "text": [
        "\n",
        "saving debug dump to /home/dmoore/python/sigvisa/logs/mcmc/01627/step_000589..."
       ]
      },
      {
       "output_type": "stream",
       "stream": "stdout",
       "text": [
        "\n",
        "saved pickled graph"
       ]
      },
      {
       "output_type": "stream",
       "stream": "stdout",
       "text": [
        "\n",
        "step 590: lp -385.05, accepted arrival_time: 0.045%, coda_decay: 0.076%, coda_height: 0.103%, evdepth: 0.481%, evloc: 0.117%, evloc_big: 0.015%, evmb: 0.922%, evtime: 0.459%, indep_peak: 0.003%, peak_decay: 0.351%, peak_offset: 0.168%, , uatemplates: 0 , events: 1 "
       ]
      },
      {
       "output_type": "stream",
       "stream": "stdout",
       "text": [
        "\n",
        "saving debug dump to /home/dmoore/python/sigvisa/logs/mcmc/01627/step_000599..."
       ]
      },
      {
       "output_type": "stream",
       "stream": "stdout",
       "text": [
        "\n",
        "saved pickled graph"
       ]
      },
      {
       "output_type": "stream",
       "stream": "stdout",
       "text": [
        "\n",
        "step 600: lp -373.63, accepted arrival_time: 0.044%, coda_decay: 0.077%, coda_height: 0.102%, evdepth: 0.484%, evloc: 0.115%, evloc_big: 0.015%, evmb: 0.923%, evtime: 0.459%, indep_peak: 0.003%, peak_decay: 0.353%, peak_offset: 0.168%, , uatemplates: 0 , events: 1 "
       ]
      },
      {
       "output_type": "stream",
       "stream": "stdout",
       "text": [
        "\n",
        "saving debug dump to /home/dmoore/python/sigvisa/logs/mcmc/01627/step_000609..."
       ]
      },
      {
       "output_type": "stream",
       "stream": "stdout",
       "text": [
        "\n",
        "saved pickled graph"
       ]
      },
      {
       "output_type": "stream",
       "stream": "stdout",
       "text": [
        "\n",
        "step 610: lp -379.76, accepted arrival_time: 0.044%, coda_decay: 0.076%, coda_height: 0.102%, evdepth: 0.484%, evloc: 0.115%, evloc_big: 0.015%, evmb: 0.925%, evtime: 0.460%, indep_peak: 0.003%, peak_decay: 0.353%, peak_offset: 0.168%, , uatemplates: 0 , events: 1 "
       ]
      },
      {
       "output_type": "stream",
       "stream": "stdout",
       "text": [
        "\n",
        "saving debug dump to /home/dmoore/python/sigvisa/logs/mcmc/01627/step_000619..."
       ]
      },
      {
       "output_type": "stream",
       "stream": "stdout",
       "text": [
        "\n",
        "saved pickled graph"
       ]
      },
      {
       "output_type": "stream",
       "stream": "stdout",
       "text": [
        "\n",
        "step 620: lp -380.87, accepted arrival_time: 0.043%, coda_decay: 0.077%, coda_height: 0.103%, evdepth: 0.480%, evloc: 0.113%, evloc_big: 0.014%, evmb: 0.926%, evtime: 0.459%, indep_peak: 0.003%, peak_decay: 0.354%, peak_offset: 0.167%, , uatemplates: 0 , events: 1 "
       ]
      },
      {
       "output_type": "stream",
       "stream": "stdout",
       "text": [
        "\n",
        "saving debug dump to /home/dmoore/python/sigvisa/logs/mcmc/01627/step_000629..."
       ]
      },
      {
       "output_type": "stream",
       "stream": "stdout",
       "text": [
        "\n",
        "saved pickled graph"
       ]
      },
      {
       "output_type": "stream",
       "stream": "stdout",
       "text": [
        "\n",
        "step 630: lp -376.95, accepted arrival_time: 0.042%, coda_decay: 0.075%, coda_height: 0.102%, evdepth: 0.480%, evloc: 0.111%, evloc_big: 0.014%, evmb: 0.927%, evtime: 0.463%, indep_peak: 0.003%, peak_decay: 0.356%, peak_offset: 0.167%, , uatemplates: 0 , events: 1 "
       ]
      },
      {
       "output_type": "stream",
       "stream": "stdout",
       "text": [
        "\n",
        "saving debug dump to /home/dmoore/python/sigvisa/logs/mcmc/01627/step_000639..."
       ]
      },
      {
       "output_type": "stream",
       "stream": "stdout",
       "text": [
        "\n",
        "saved pickled graph"
       ]
      },
      {
       "output_type": "stream",
       "stream": "stdout",
       "text": [
        "\n",
        "step 640: lp -384.98, accepted arrival_time: 0.042%, coda_decay: 0.075%, coda_height: 0.101%, evdepth: 0.479%, evloc: 0.112%, evloc_big: 0.014%, evmb: 0.927%, evtime: 0.463%, indep_peak: 0.003%, peak_decay: 0.356%, peak_offset: 0.166%, , uatemplates: 0 , events: 1 "
       ]
      },
      {
       "output_type": "stream",
       "stream": "stdout",
       "text": [
        "\n",
        "saving debug dump to /home/dmoore/python/sigvisa/logs/mcmc/01627/step_000649..."
       ]
      },
      {
       "output_type": "stream",
       "stream": "stdout",
       "text": [
        "\n",
        "saved pickled graph"
       ]
      },
      {
       "output_type": "stream",
       "stream": "stdout",
       "text": [
        "\n",
        "step 650: lp -381.73, accepted arrival_time: 0.042%, coda_decay: 0.075%, coda_height: 0.100%, evdepth: 0.479%, evloc: 0.115%, evloc_big: 0.014%, evmb: 0.926%, evtime: 0.462%, indep_peak: 0.003%, peak_decay: 0.358%, peak_offset: 0.167%, , uatemplates: 0 , events: 1 "
       ]
      },
      {
       "output_type": "stream",
       "stream": "stdout",
       "text": [
        "\n",
        "saving debug dump to /home/dmoore/python/sigvisa/logs/mcmc/01627/step_000659..."
       ]
      },
      {
       "output_type": "stream",
       "stream": "stdout",
       "text": [
        "\n",
        "saved pickled graph"
       ]
      },
      {
       "output_type": "stream",
       "stream": "stdout",
       "text": [
        "\n",
        "step 660: lp -383.21, accepted arrival_time: 0.042%, coda_decay: 0.075%, coda_height: 0.100%, evdepth: 0.481%, evloc: 0.113%, evloc_big: 0.014%, evmb: 0.926%, evtime: 0.464%, indep_peak: 0.003%, peak_decay: 0.358%, peak_offset: 0.166%, , uatemplates: 0 , events: 1 "
       ]
      },
      {
       "output_type": "stream",
       "stream": "stdout",
       "text": [
        "\n",
        "saving debug dump to /home/dmoore/python/sigvisa/logs/mcmc/01627/step_000669..."
       ]
      },
      {
       "output_type": "stream",
       "stream": "stdout",
       "text": [
        "\n",
        "saved pickled graph"
       ]
      },
      {
       "output_type": "stream",
       "stream": "stdout",
       "text": [
        "\n",
        "step 670: lp -385.45, accepted arrival_time: 0.042%, coda_decay: 0.074%, coda_height: 0.099%, evdepth: 0.478%, evloc: 0.113%, evloc_big: 0.013%, evmb: 0.925%, evtime: 0.468%, indep_peak: 0.003%, peak_decay: 0.359%, peak_offset: 0.166%, , uatemplates: 0 , events: 1 "
       ]
      },
      {
       "output_type": "stream",
       "stream": "stdout",
       "text": [
        "\n",
        "saving debug dump to /home/dmoore/python/sigvisa/logs/mcmc/01627/step_000679..."
       ]
      },
      {
       "output_type": "stream",
       "stream": "stdout",
       "text": [
        "\n",
        "saved pickled graph"
       ]
      },
      {
       "output_type": "stream",
       "stream": "stdout",
       "text": [
        "\n",
        "step 680: lp -385.89, accepted arrival_time: 0.042%, coda_decay: 0.075%, coda_height: 0.099%, evdepth: 0.480%, evloc: 0.113%, evloc_big: 0.013%, evmb: 0.927%, evtime: 0.467%, indep_peak: 0.003%, peak_decay: 0.359%, peak_offset: 0.166%, , uatemplates: 0 , events: 1 "
       ]
      },
      {
       "output_type": "stream",
       "stream": "stdout",
       "text": [
        "\n",
        "saving debug dump to /home/dmoore/python/sigvisa/logs/mcmc/01627/step_000689..."
       ]
      },
      {
       "output_type": "stream",
       "stream": "stdout",
       "text": [
        "\n",
        "saved pickled graph"
       ]
      },
      {
       "output_type": "stream",
       "stream": "stdout",
       "text": [
        "\n",
        "step 690: lp -378.95, accepted arrival_time: 0.042%, coda_decay: 0.075%, coda_height: 0.099%, evdepth: 0.479%, evloc: 0.113%, evloc_big: 0.013%, evmb: 0.925%, evtime: 0.466%, indep_peak: 0.003%, peak_decay: 0.359%, peak_offset: 0.167%, , uatemplates: 0 , events: 1 "
       ]
      },
      {
       "output_type": "stream",
       "stream": "stdout",
       "text": [
        "\n",
        "saving debug dump to /home/dmoore/python/sigvisa/logs/mcmc/01627/step_000699..."
       ]
      },
      {
       "output_type": "stream",
       "stream": "stdout",
       "text": [
        "\n",
        "saved pickled graph"
       ]
      },
      {
       "output_type": "stream",
       "stream": "stdout",
       "text": [
        "\n",
        "step 700: lp -385.66, accepted arrival_time: 0.042%, coda_decay: 0.075%, coda_height: 0.098%, evdepth: 0.481%, evloc: 0.111%, evloc_big: 0.013%, evmb: 0.923%, evtime: 0.465%, indep_peak: 0.004%, peak_decay: 0.358%, peak_offset: 0.166%, , uatemplates: 0 , events: 1 "
       ]
      },
      {
       "output_type": "stream",
       "stream": "stdout",
       "text": [
        "\n",
        "saving debug dump to /home/dmoore/python/sigvisa/logs/mcmc/01627/step_000709..."
       ]
      },
      {
       "output_type": "stream",
       "stream": "stdout",
       "text": [
        "\n",
        "saved pickled graph"
       ]
      },
      {
       "output_type": "stream",
       "stream": "stdout",
       "text": [
        "\n",
        "step 710: lp -378.35, accepted arrival_time: 0.042%, coda_decay: 0.075%, coda_height: 0.098%, evdepth: 0.485%, evloc: 0.110%, evloc_big: 0.013%, evmb: 0.924%, evtime: 0.466%, indep_peak: 0.004%, peak_decay: 0.358%, peak_offset: 0.166%, , uatemplates: 0 , events: 1 "
       ]
      },
      {
       "output_type": "stream",
       "stream": "stdout",
       "text": [
        "\n",
        "saving debug dump to /home/dmoore/python/sigvisa/logs/mcmc/01627/step_000719..."
       ]
      },
      {
       "output_type": "stream",
       "stream": "stdout",
       "text": [
        "\n",
        "saved pickled graph"
       ]
      },
      {
       "output_type": "stream",
       "stream": "stdout",
       "text": [
        "\n",
        "step 720: lp -381.58, accepted arrival_time: 0.041%, coda_decay: 0.074%, coda_height: 0.098%, evdepth: 0.484%, evloc: 0.110%, evloc_big: 0.012%, evmb: 0.924%, evtime: 0.465%, indep_peak: 0.004%, peak_decay: 0.360%, peak_offset: 0.166%, , uatemplates: 0 , events: 1 "
       ]
      },
      {
       "output_type": "stream",
       "stream": "stdout",
       "text": [
        "\n",
        "saving debug dump to /home/dmoore/python/sigvisa/logs/mcmc/01627/step_000729..."
       ]
      },
      {
       "output_type": "stream",
       "stream": "stdout",
       "text": [
        "\n",
        "saved pickled graph"
       ]
      },
      {
       "output_type": "stream",
       "stream": "stdout",
       "text": [
        "\n",
        "step 730: lp -375.25, accepted arrival_time: 0.041%, coda_decay: 0.074%, coda_height: 0.097%, evdepth: 0.484%, evloc: 0.109%, evloc_big: 0.012%, evmb: 0.925%, evtime: 0.464%, indep_peak: 0.004%, peak_decay: 0.359%, peak_offset: 0.166%, , uatemplates: 0 , events: 1 "
       ]
      },
      {
       "output_type": "stream",
       "stream": "stdout",
       "text": [
        "\n",
        "saving debug dump to /home/dmoore/python/sigvisa/logs/mcmc/01627/step_000739..."
       ]
      },
      {
       "output_type": "stream",
       "stream": "stdout",
       "text": [
        "\n",
        "saved pickled graph"
       ]
      },
      {
       "output_type": "stream",
       "stream": "stdout",
       "text": [
        "\n",
        "step 740: lp -375.86, accepted arrival_time: 0.040%, coda_decay: 0.074%, coda_height: 0.097%, evdepth: 0.482%, evloc: 0.108%, evloc_big: 0.012%, evmb: 0.926%, evtime: 0.460%, indep_peak: 0.004%, peak_decay: 0.359%, peak_offset: 0.165%, , uatemplates: 0 , events: 1 "
       ]
      },
      {
       "output_type": "stream",
       "stream": "stdout",
       "text": [
        "\n",
        "saving debug dump to /home/dmoore/python/sigvisa/logs/mcmc/01627/step_000749..."
       ]
      },
      {
       "output_type": "stream",
       "stream": "stdout",
       "text": [
        "\n",
        "saved pickled graph"
       ]
      },
      {
       "output_type": "stream",
       "stream": "stdout",
       "text": [
        "\n",
        "step 750: lp -377.43, accepted arrival_time: 0.041%, coda_decay: 0.074%, coda_height: 0.098%, evdepth: 0.483%, evloc: 0.107%, evloc_big: 0.012%, evmb: 0.927%, evtime: 0.457%, indep_peak: 0.004%, peak_decay: 0.358%, peak_offset: 0.166%, , uatemplates: 0 , events: 1 "
       ]
      },
      {
       "output_type": "stream",
       "stream": "stdout",
       "text": [
        "\n",
        "saving debug dump to /home/dmoore/python/sigvisa/logs/mcmc/01627/step_000759..."
       ]
      },
      {
       "output_type": "stream",
       "stream": "stdout",
       "text": [
        "\n",
        "saved pickled graph"
       ]
      },
      {
       "output_type": "stream",
       "stream": "stdout",
       "text": [
        "\n",
        "step 760: lp -374.40, accepted arrival_time: 0.041%, coda_decay: 0.074%, coda_height: 0.098%, evdepth: 0.485%, evloc: 0.105%, evloc_big: 0.012%, evmb: 0.926%, evtime: 0.459%, indep_peak: 0.004%, peak_decay: 0.357%, peak_offset: 0.166%, , uatemplates: 0 , events: 1 "
       ]
      },
      {
       "output_type": "stream",
       "stream": "stdout",
       "text": [
        "\n",
        "saving debug dump to /home/dmoore/python/sigvisa/logs/mcmc/01627/step_000769..."
       ]
      },
      {
       "output_type": "stream",
       "stream": "stdout",
       "text": [
        "\n",
        "saved pickled graph"
       ]
      },
      {
       "output_type": "stream",
       "stream": "stdout",
       "text": [
        "\n",
        "step 770: lp -382.00, accepted arrival_time: 0.041%, coda_decay: 0.073%, coda_height: 0.098%, evdepth: 0.488%, evloc: 0.105%, evloc_big: 0.012%, evmb: 0.925%, evtime: 0.458%, indep_peak: 0.004%, peak_decay: 0.357%, peak_offset: 0.166%, , uatemplates: 0 , events: 1 "
       ]
      },
      {
       "output_type": "stream",
       "stream": "stdout",
       "text": [
        "\n",
        "saving debug dump to /home/dmoore/python/sigvisa/logs/mcmc/01627/step_000779..."
       ]
      },
      {
       "output_type": "stream",
       "stream": "stdout",
       "text": [
        "\n",
        "saved pickled graph"
       ]
      },
      {
       "output_type": "stream",
       "stream": "stdout",
       "text": [
        "\n",
        "step 780: lp -387.39, accepted arrival_time: 0.041%, coda_decay: 0.074%, coda_height: 0.098%, evdepth: 0.489%, evloc: 0.104%, evloc_big: 0.012%, evmb: 0.923%, evtime: 0.455%, indep_peak: 0.004%, peak_decay: 0.357%, peak_offset: 0.166%, , uatemplates: 0 , events: 1 "
       ]
      },
      {
       "output_type": "stream",
       "stream": "stdout",
       "text": [
        "\n",
        "saving debug dump to /home/dmoore/python/sigvisa/logs/mcmc/01627/step_000789..."
       ]
      },
      {
       "output_type": "stream",
       "stream": "stdout",
       "text": [
        "\n",
        "saved pickled graph"
       ]
      },
      {
       "output_type": "stream",
       "stream": "stdout",
       "text": [
        "\n",
        "step 790: lp -382.89, accepted arrival_time: 0.041%, coda_decay: 0.073%, coda_height: 0.098%, evdepth: 0.492%, evloc: 0.102%, evloc_big: 0.011%, evmb: 0.922%, evtime: 0.450%, indep_peak: 0.004%, peak_decay: 0.357%, peak_offset: 0.166%, , uatemplates: 0 , events: 1 "
       ]
      },
      {
       "output_type": "stream",
       "stream": "stdout",
       "text": [
        "\n",
        "saving debug dump to /home/dmoore/python/sigvisa/logs/mcmc/01627/step_000799..."
       ]
      },
      {
       "output_type": "stream",
       "stream": "stdout",
       "text": [
        "\n",
        "saved pickled graph"
       ]
      },
      {
       "output_type": "stream",
       "stream": "stdout",
       "text": [
        "\n",
        "step 800: lp -373.38, accepted arrival_time: 0.041%, coda_decay: 0.073%, coda_height: 0.098%, evdepth: 0.491%, evloc: 0.101%, evloc_big: 0.011%, evmb: 0.923%, evtime: 0.451%, indep_peak: 0.004%, peak_decay: 0.357%, peak_offset: 0.166%, , uatemplates: 0 , events: 1 "
       ]
      },
      {
       "output_type": "stream",
       "stream": "stdout",
       "text": [
        "\n",
        "saving debug dump to /home/dmoore/python/sigvisa/logs/mcmc/01627/step_000809..."
       ]
      },
      {
       "output_type": "stream",
       "stream": "stdout",
       "text": [
        "\n",
        "saved pickled graph"
       ]
      },
      {
       "output_type": "stream",
       "stream": "stdout",
       "text": [
        "\n",
        "step 810: lp -377.20, accepted arrival_time: 0.041%, coda_decay: 0.073%, coda_height: 0.099%, evdepth: 0.492%, evloc: 0.101%, evloc_big: 0.011%, evmb: 0.922%, evtime: 0.453%, indep_peak: 0.004%, peak_decay: 0.355%, peak_offset: 0.166%, , uatemplates: 0 , events: 1 "
       ]
      },
      {
       "output_type": "stream",
       "stream": "stdout",
       "text": [
        "\n",
        "saving debug dump to /home/dmoore/python/sigvisa/logs/mcmc/01627/step_000819..."
       ]
      },
      {
       "output_type": "stream",
       "stream": "stdout",
       "text": [
        "\n",
        "saved pickled graph"
       ]
      },
      {
       "output_type": "stream",
       "stream": "stdout",
       "text": [
        "\n",
        "step 820: lp -374.21, accepted arrival_time: 0.041%, coda_decay: 0.073%, coda_height: 0.099%, evdepth: 0.495%, evloc: 0.102%, evloc_big: 0.012%, evmb: 0.923%, evtime: 0.452%, indep_peak: 0.004%, peak_decay: 0.356%, peak_offset: 0.165%, , uatemplates: 0 , events: 1 "
       ]
      },
      {
       "output_type": "stream",
       "stream": "stdout",
       "text": [
        "\n",
        "saving debug dump to /home/dmoore/python/sigvisa/logs/mcmc/01627/step_000829..."
       ]
      },
      {
       "output_type": "stream",
       "stream": "stdout",
       "text": [
        "\n",
        "saved pickled graph"
       ]
      },
      {
       "output_type": "stream",
       "stream": "stdout",
       "text": [
        "\n",
        "step 830: lp -376.76, accepted arrival_time: 0.041%, coda_decay: 0.072%, coda_height: 0.098%, evdepth: 0.493%, evloc: 0.101%, evloc_big: 0.012%, evmb: 0.924%, evtime: 0.454%, indep_peak: 0.004%, peak_decay: 0.357%, peak_offset: 0.165%, , uatemplates: 0 , events: 1 "
       ]
      },
      {
       "output_type": "stream",
       "stream": "stdout",
       "text": [
        "\n",
        "saving debug dump to /home/dmoore/python/sigvisa/logs/mcmc/01627/step_000839..."
       ]
      },
      {
       "output_type": "stream",
       "stream": "stdout",
       "text": [
        "\n",
        "saved pickled graph"
       ]
      },
      {
       "output_type": "stream",
       "stream": "stdout",
       "text": [
        "\n",
        "step 840: lp -379.08, accepted arrival_time: 0.041%, coda_decay: 0.073%, coda_height: 0.098%, evdepth: 0.493%, evloc: 0.101%, evloc_big: 0.012%, evmb: 0.925%, evtime: 0.453%, indep_peak: 0.004%, peak_decay: 0.357%, peak_offset: 0.165%, , uatemplates: 0 , events: 1 "
       ]
      },
      {
       "output_type": "stream",
       "stream": "stdout",
       "text": [
        "\n",
        "saving debug dump to /home/dmoore/python/sigvisa/logs/mcmc/01627/step_000849..."
       ]
      },
      {
       "output_type": "stream",
       "stream": "stdout",
       "text": [
        "\n",
        "saved pickled graph"
       ]
      },
      {
       "output_type": "stream",
       "stream": "stdout",
       "text": [
        "\n",
        "step 850: lp -377.60, accepted arrival_time: 0.041%, coda_decay: 0.073%, coda_height: 0.098%, evdepth: 0.492%, evloc: 0.101%, evloc_big: 0.012%, evmb: 0.925%, evtime: 0.452%, indep_peak: 0.004%, peak_decay: 0.358%, peak_offset: 0.164%, , uatemplates: 0 , events: 1 "
       ]
      },
      {
       "output_type": "stream",
       "stream": "stdout",
       "text": [
        "\n",
        "saving debug dump to /home/dmoore/python/sigvisa/logs/mcmc/01627/step_000859..."
       ]
      },
      {
       "output_type": "stream",
       "stream": "stdout",
       "text": [
        "\n",
        "saved pickled graph"
       ]
      },
      {
       "output_type": "stream",
       "stream": "stdout",
       "text": [
        "\n",
        "step 860: lp -374.41, accepted arrival_time: 0.041%, coda_decay: 0.072%, coda_height: 0.097%, evdepth: 0.491%, evloc: 0.106%, evloc_big: 0.012%, evmb: 0.925%, evtime: 0.453%, indep_peak: 0.004%, peak_decay: 0.359%, peak_offset: 0.164%, , uatemplates: 0 , events: 1 "
       ]
      },
      {
       "output_type": "stream",
       "stream": "stdout",
       "text": [
        "\n",
        "saving debug dump to /home/dmoore/python/sigvisa/logs/mcmc/01627/step_000869..."
       ]
      },
      {
       "output_type": "stream",
       "stream": "stdout",
       "text": [
        "\n",
        "saved pickled graph"
       ]
      },
      {
       "output_type": "stream",
       "stream": "stdout",
       "text": [
        "\n",
        "step 870: lp -377.64, accepted arrival_time: 0.041%, coda_decay: 0.073%, coda_height: 0.096%, evdepth: 0.493%, evloc: 0.104%, evloc_big: 0.011%, evmb: 0.924%, evtime: 0.450%, indep_peak: 0.004%, peak_decay: 0.359%, peak_offset: 0.165%, , uatemplates: 0 , events: 1 "
       ]
      },
      {
       "output_type": "stream",
       "stream": "stdout",
       "text": [
        "\n",
        "saving debug dump to /home/dmoore/python/sigvisa/logs/mcmc/01627/step_000879..."
       ]
      },
      {
       "output_type": "stream",
       "stream": "stdout",
       "text": [
        "\n",
        "saved pickled graph"
       ]
      },
      {
       "output_type": "stream",
       "stream": "stdout",
       "text": [
        "\n",
        "step 880: lp -386.28, accepted arrival_time: 0.041%, coda_decay: 0.073%, coda_height: 0.097%, evdepth: 0.493%, evloc: 0.103%, evloc_big: 0.011%, evmb: 0.925%, evtime: 0.449%, indep_peak: 0.004%, peak_decay: 0.359%, peak_offset: 0.165%, , uatemplates: 0 , events: 1 "
       ]
      },
      {
       "output_type": "stream",
       "stream": "stdout",
       "text": [
        "\n",
        "saving debug dump to /home/dmoore/python/sigvisa/logs/mcmc/01627/step_000889..."
       ]
      },
      {
       "output_type": "stream",
       "stream": "stdout",
       "text": [
        "\n",
        "saved pickled graph"
       ]
      },
      {
       "output_type": "stream",
       "stream": "stdout",
       "text": [
        "\n",
        "step 890: lp -382.28, accepted arrival_time: 0.041%, coda_decay: 0.073%, coda_height: 0.097%, evdepth: 0.492%, evloc: 0.102%, evloc_big: 0.012%, evmb: 0.923%, evtime: 0.448%, indep_peak: 0.004%, peak_decay: 0.358%, peak_offset: 0.163%, , uatemplates: 0 , events: 1 "
       ]
      },
      {
       "output_type": "stream",
       "stream": "stdout",
       "text": [
        "\n",
        "saving debug dump to /home/dmoore/python/sigvisa/logs/mcmc/01627/step_000899..."
       ]
      },
      {
       "output_type": "stream",
       "stream": "stdout",
       "text": [
        "\n",
        "saved pickled graph"
       ]
      },
      {
       "output_type": "stream",
       "stream": "stdout",
       "text": [
        "\n",
        "step 900: lp -382.66, accepted arrival_time: 0.041%, coda_decay: 0.074%, coda_height: 0.098%, evdepth: 0.493%, evloc: 0.103%, evloc_big: 0.012%, evmb: 0.923%, evtime: 0.451%, indep_peak: 0.004%, peak_decay: 0.356%, peak_offset: 0.163%, , uatemplates: 0 , events: 1 "
       ]
      },
      {
       "output_type": "stream",
       "stream": "stdout",
       "text": [
        "\n",
        "saving debug dump to /home/dmoore/python/sigvisa/logs/mcmc/01627/step_000909..."
       ]
      },
      {
       "output_type": "stream",
       "stream": "stdout",
       "text": [
        "\n",
        "saved pickled graph"
       ]
      },
      {
       "output_type": "stream",
       "stream": "stdout",
       "text": [
        "\n",
        "step 910: lp -380.36, accepted arrival_time: 0.041%, coda_decay: 0.074%, coda_height: 0.097%, evdepth: 0.493%, evloc: 0.102%, evloc_big: 0.012%, evmb: 0.924%, evtime: 0.449%, indep_peak: 0.004%, peak_decay: 0.355%, peak_offset: 0.164%, , uatemplates: 0 , events: 1 "
       ]
      },
      {
       "output_type": "stream",
       "stream": "stdout",
       "text": [
        "\n",
        "saving debug dump to /home/dmoore/python/sigvisa/logs/mcmc/01627/step_000919..."
       ]
      },
      {
       "output_type": "stream",
       "stream": "stdout",
       "text": [
        "\n",
        "saved pickled graph"
       ]
      },
      {
       "output_type": "stream",
       "stream": "stdout",
       "text": [
        "\n",
        "step 920: lp -380.87, accepted arrival_time: 0.041%, coda_decay: 0.073%, coda_height: 0.098%, evdepth: 0.493%, evloc: 0.101%, evloc_big: 0.012%, evmb: 0.925%, evtime: 0.444%, indep_peak: 0.003%, peak_decay: 0.355%, peak_offset: 0.163%, , uatemplates: 0 , events: 1 "
       ]
      },
      {
       "output_type": "stream",
       "stream": "stdout",
       "text": [
        "\n",
        "saving debug dump to /home/dmoore/python/sigvisa/logs/mcmc/01627/step_000929..."
       ]
      },
      {
       "output_type": "stream",
       "stream": "stdout",
       "text": [
        "\n",
        "saved pickled graph"
       ]
      },
      {
       "output_type": "stream",
       "stream": "stdout",
       "text": [
        "\n",
        "step 930: lp -381.05, accepted arrival_time: 0.042%, coda_decay: 0.073%, coda_height: 0.097%, evdepth: 0.491%, evloc: 0.100%, evloc_big: 0.012%, evmb: 0.924%, evtime: 0.441%, indep_peak: 0.003%, peak_decay: 0.354%, peak_offset: 0.163%, , uatemplates: 0 , events: 1 "
       ]
      },
      {
       "output_type": "stream",
       "stream": "stdout",
       "text": [
        "\n",
        "saving debug dump to /home/dmoore/python/sigvisa/logs/mcmc/01627/step_000939..."
       ]
      },
      {
       "output_type": "stream",
       "stream": "stdout",
       "text": [
        "\n",
        "saved pickled graph"
       ]
      },
      {
       "output_type": "stream",
       "stream": "stdout",
       "text": [
        "\n",
        "step 940: lp -379.34, accepted arrival_time: 0.042%, coda_decay: 0.074%, coda_height: 0.097%, evdepth: 0.491%, evloc: 0.100%, evloc_big: 0.012%, evmb: 0.925%, evtime: 0.441%, indep_peak: 0.003%, peak_decay: 0.354%, peak_offset: 0.163%, , uatemplates: 0 , events: 1 "
       ]
      },
      {
       "output_type": "stream",
       "stream": "stdout",
       "text": [
        "\n",
        "saving debug dump to /home/dmoore/python/sigvisa/logs/mcmc/01627/step_000949..."
       ]
      },
      {
       "output_type": "stream",
       "stream": "stdout",
       "text": [
        "\n",
        "saved pickled graph"
       ]
      },
      {
       "output_type": "stream",
       "stream": "stdout",
       "text": [
        "\n",
        "step 950: lp -382.17, accepted arrival_time: 0.042%, coda_decay: 0.073%, coda_height: 0.097%, evdepth: 0.490%, evloc: 0.099%, evloc_big: 0.012%, evmb: 0.925%, evtime: 0.443%, indep_peak: 0.003%, peak_decay: 0.354%, peak_offset: 0.163%, , uatemplates: 0 , events: 1 "
       ]
      },
      {
       "output_type": "stream",
       "stream": "stdout",
       "text": [
        "\n",
        "saving debug dump to /home/dmoore/python/sigvisa/logs/mcmc/01627/step_000959..."
       ]
      },
      {
       "output_type": "stream",
       "stream": "stdout",
       "text": [
        "\n",
        "saved pickled graph"
       ]
      },
      {
       "output_type": "stream",
       "stream": "stdout",
       "text": [
        "\n",
        "step 960: lp -382.87, accepted arrival_time: 0.042%, coda_decay: 0.073%, coda_height: 0.097%, evdepth: 0.488%, evloc: 0.098%, evloc_big: 0.011%, evmb: 0.925%, evtime: 0.440%, indep_peak: 0.003%, peak_decay: 0.355%, peak_offset: 0.163%, , uatemplates: 0 , events: 1 "
       ]
      },
      {
       "output_type": "stream",
       "stream": "stdout",
       "text": [
        "\n",
        "saving debug dump to /home/dmoore/python/sigvisa/logs/mcmc/01627/step_000969..."
       ]
      },
      {
       "output_type": "stream",
       "stream": "stdout",
       "text": [
        "\n",
        "saved pickled graph"
       ]
      },
      {
       "output_type": "stream",
       "stream": "stdout",
       "text": [
        "\n",
        "step 970: lp -383.56, accepted arrival_time: 0.042%, coda_decay: 0.073%, coda_height: 0.097%, evdepth: 0.487%, evloc: 0.099%, evloc_big: 0.011%, evmb: 0.925%, evtime: 0.441%, indep_peak: 0.003%, peak_decay: 0.354%, peak_offset: 0.164%, , uatemplates: 0 , events: 1 "
       ]
      },
      {
       "output_type": "stream",
       "stream": "stdout",
       "text": [
        "\n",
        "saving debug dump to /home/dmoore/python/sigvisa/logs/mcmc/01627/step_000979..."
       ]
      },
      {
       "output_type": "stream",
       "stream": "stdout",
       "text": [
        "\n",
        "saved pickled graph"
       ]
      },
      {
       "output_type": "stream",
       "stream": "stdout",
       "text": [
        "\n",
        "step 980: lp -383.00, accepted arrival_time: 0.041%, coda_decay: 0.073%, coda_height: 0.096%, evdepth: 0.488%, evloc: 0.098%, evloc_big: 0.011%, evmb: 0.925%, evtime: 0.438%, indep_peak: 0.003%, peak_decay: 0.355%, peak_offset: 0.164%, , uatemplates: 0 , events: 1 "
       ]
      },
      {
       "output_type": "stream",
       "stream": "stdout",
       "text": [
        "\n",
        "saving debug dump to /home/dmoore/python/sigvisa/logs/mcmc/01627/step_000989..."
       ]
      },
      {
       "output_type": "stream",
       "stream": "stdout",
       "text": [
        "\n",
        "saved pickled graph"
       ]
      },
      {
       "output_type": "stream",
       "stream": "stdout",
       "text": [
        "\n",
        "step 990: lp -379.38, accepted arrival_time: 0.041%, coda_decay: 0.072%, coda_height: 0.097%, evdepth: 0.488%, evloc: 0.098%, evloc_big: 0.011%, evmb: 0.925%, evtime: 0.438%, indep_peak: 0.003%, peak_decay: 0.354%, peak_offset: 0.163%, , uatemplates: 0 , events: 1 "
       ]
      },
      {
       "output_type": "stream",
       "stream": "stdout",
       "text": [
        "\n",
        "saving debug dump to /home/dmoore/python/sigvisa/logs/mcmc/01627/step_000999..."
       ]
      },
      {
       "output_type": "stream",
       "stream": "stdout",
       "text": [
        "\n",
        "saved pickled graph"
       ]
      },
      {
       "output_type": "stream",
       "stream": "stdout",
       "text": [
        "\n",
        "step 1000: lp -382.06, accepted arrival_time: 0.041%, coda_decay: 0.073%, coda_height: 0.097%, evdepth: 0.492%, evloc: 0.097%, evloc_big: 0.011%, evmb: 0.925%, evtime: 0.441%, indep_peak: 0.003%, peak_decay: 0.355%, peak_offset: 0.163%, , uatemplates: 0 , events: 1 "
       ]
      },
      {
       "output_type": "stream",
       "stream": "stdout",
       "text": [
        "\n",
        "saving debug dump to /home/dmoore/python/sigvisa/logs/mcmc/01627/step_001009..."
       ]
      },
      {
       "output_type": "stream",
       "stream": "stdout",
       "text": [
        "\n",
        "saved pickled graph"
       ]
      },
      {
       "output_type": "stream",
       "stream": "stdout",
       "text": [
        "\n",
        "step 1010: lp -381.87, accepted arrival_time: 0.041%, coda_decay: 0.074%, coda_height: 0.096%, evdepth: 0.494%, evloc: 0.096%, evloc_big: 0.011%, evmb: 0.925%, evtime: 0.439%, indep_peak: 0.003%, peak_decay: 0.355%, peak_offset: 0.164%, , uatemplates: 0 , events: 1 "
       ]
      },
      {
       "output_type": "stream",
       "stream": "stdout",
       "text": [
        "\n",
        "saving debug dump to /home/dmoore/python/sigvisa/logs/mcmc/01627/step_001019..."
       ]
      },
      {
       "output_type": "stream",
       "stream": "stdout",
       "text": [
        "\n",
        "saved pickled graph"
       ]
      },
      {
       "output_type": "stream",
       "stream": "stdout",
       "text": [
        "\n",
        "step 1020: lp -382.14, accepted arrival_time: 0.041%, coda_decay: 0.074%, coda_height: 0.097%, evdepth: 0.493%, evloc: 0.095%, evloc_big: 0.011%, evmb: 0.926%, evtime: 0.441%, indep_peak: 0.004%, peak_decay: 0.354%, peak_offset: 0.164%, , uatemplates: 0 , events: 1 "
       ]
      },
      {
       "output_type": "stream",
       "stream": "stdout",
       "text": [
        "\n",
        "saving debug dump to /home/dmoore/python/sigvisa/logs/mcmc/01627/step_001029..."
       ]
      },
      {
       "output_type": "stream",
       "stream": "stdout",
       "text": [
        "\n",
        "saved pickled graph"
       ]
      },
      {
       "output_type": "stream",
       "stream": "stdout",
       "text": [
        "\n",
        "step 1030: lp -384.18, accepted arrival_time: 0.041%, coda_decay: 0.074%, coda_height: 0.096%, evdepth: 0.494%, evloc: 0.094%, evloc_big: 0.011%, evmb: 0.926%, evtime: 0.439%, indep_peak: 0.003%, peak_decay: 0.354%, peak_offset: 0.164%, , uatemplates: 0 , events: 1 "
       ]
      },
      {
       "output_type": "stream",
       "stream": "stdout",
       "text": [
        "\n",
        "saving debug dump to /home/dmoore/python/sigvisa/logs/mcmc/01627/step_001039..."
       ]
      },
      {
       "output_type": "stream",
       "stream": "stdout",
       "text": [
        "\n",
        "saved pickled graph"
       ]
      },
      {
       "output_type": "stream",
       "stream": "stdout",
       "text": [
        "\n",
        "step 1040: lp -379.42, accepted arrival_time: 0.041%, coda_decay: 0.074%, coda_height: 0.096%, evdepth: 0.495%, evloc: 0.093%, evloc_big: 0.011%, evmb: 0.927%, evtime: 0.439%, indep_peak: 0.003%, peak_decay: 0.355%, peak_offset: 0.164%, , uatemplates: 0 , events: 1 "
       ]
      },
      {
       "output_type": "stream",
       "stream": "stdout",
       "text": [
        "\n",
        "saving debug dump to /home/dmoore/python/sigvisa/logs/mcmc/01627/step_001049..."
       ]
      },
      {
       "output_type": "stream",
       "stream": "stdout",
       "text": [
        "\n",
        "saved pickled graph"
       ]
      },
      {
       "output_type": "stream",
       "stream": "stdout",
       "text": [
        "\n",
        "step 1050: lp -377.15, accepted arrival_time: 0.041%, coda_decay: 0.074%, coda_height: 0.096%, evdepth: 0.493%, evloc: 0.092%, evloc_big: 0.010%, evmb: 0.927%, evtime: 0.438%, indep_peak: 0.003%, peak_decay: 0.355%, peak_offset: 0.163%, , uatemplates: 0 , events: 1 "
       ]
      },
      {
       "output_type": "stream",
       "stream": "stdout",
       "text": [
        "\n",
        "saving debug dump to /home/dmoore/python/sigvisa/logs/mcmc/01627/step_001059..."
       ]
      },
      {
       "output_type": "stream",
       "stream": "stdout",
       "text": [
        "\n",
        "saved pickled graph"
       ]
      },
      {
       "output_type": "stream",
       "stream": "stdout",
       "text": [
        "\n",
        "step 1060: lp -377.54, accepted arrival_time: 0.041%, coda_decay: 0.074%, coda_height: 0.096%, evdepth: 0.494%, evloc: 0.092%, evloc_big: 0.010%, evmb: 0.926%, evtime: 0.438%, indep_peak: 0.004%, peak_decay: 0.355%, peak_offset: 0.163%, , uatemplates: 0 , events: 1 "
       ]
      },
      {
       "output_type": "stream",
       "stream": "stdout",
       "text": [
        "\n",
        "saving debug dump to /home/dmoore/python/sigvisa/logs/mcmc/01627/step_001069..."
       ]
      },
      {
       "output_type": "stream",
       "stream": "stdout",
       "text": [
        "\n",
        "saved pickled graph"
       ]
      },
      {
       "output_type": "stream",
       "stream": "stdout",
       "text": [
        "\n",
        "step 1070: lp -373.13, accepted arrival_time: 0.040%, coda_decay: 0.075%, coda_height: 0.097%, evdepth: 0.493%, evloc: 0.092%, evloc_big: 0.010%, evmb: 0.926%, evtime: 0.435%, indep_peak: 0.004%, peak_decay: 0.355%, peak_offset: 0.163%, , uatemplates: 0 , events: 1 "
       ]
      },
      {
       "output_type": "stream",
       "stream": "stdout",
       "text": [
        "\n",
        "saving debug dump to /home/dmoore/python/sigvisa/logs/mcmc/01627/step_001079..."
       ]
      },
      {
       "output_type": "stream",
       "stream": "stdout",
       "text": [
        "\n",
        "saved pickled graph"
       ]
      },
      {
       "output_type": "stream",
       "stream": "stdout",
       "text": [
        "\n",
        "step 1080: lp -376.45, accepted arrival_time: 0.041%, coda_decay: 0.074%, coda_height: 0.096%, evdepth: 0.491%, evloc: 0.092%, evloc_big: 0.010%, evmb: 0.927%, evtime: 0.435%, indep_peak: 0.004%, peak_decay: 0.355%, peak_offset: 0.162%, , uatemplates: 0 , events: 1 "
       ]
      },
      {
       "output_type": "stream",
       "stream": "stdout",
       "text": [
        "\n",
        "saving debug dump to /home/dmoore/python/sigvisa/logs/mcmc/01627/step_001089..."
       ]
      },
      {
       "output_type": "stream",
       "stream": "stdout",
       "text": [
        "\n",
        "saved pickled graph"
       ]
      },
      {
       "output_type": "stream",
       "stream": "stdout",
       "text": [
        "\n",
        "step 1090: lp -379.85, accepted arrival_time: 0.041%, coda_decay: 0.074%, coda_height: 0.096%, evdepth: 0.490%, evloc: 0.091%, evloc_big: 0.010%, evmb: 0.928%, evtime: 0.437%, indep_peak: 0.004%, peak_decay: 0.355%, peak_offset: 0.162%, , uatemplates: 0 , events: 1 "
       ]
      },
      {
       "output_type": "stream",
       "stream": "stdout",
       "text": [
        "\n",
        "saving debug dump to /home/dmoore/python/sigvisa/logs/mcmc/01627/step_001099..."
       ]
      },
      {
       "output_type": "stream",
       "stream": "stdout",
       "text": [
        "\n",
        "saved pickled graph"
       ]
      },
      {
       "output_type": "stream",
       "stream": "stdout",
       "text": [
        "\n",
        "step 1100: lp -378.59, accepted arrival_time: 0.041%, coda_decay: 0.074%, coda_height: 0.096%, evdepth: 0.490%, evloc: 0.090%, evloc_big: 0.010%, evmb: 0.927%, evtime: 0.437%, indep_peak: 0.004%, peak_decay: 0.354%, peak_offset: 0.162%, , uatemplates: 0 , events: 1 "
       ]
      },
      {
       "output_type": "stream",
       "stream": "stdout",
       "text": [
        "\n",
        "saving debug dump to /home/dmoore/python/sigvisa/logs/mcmc/01627/step_001109..."
       ]
      },
      {
       "output_type": "stream",
       "stream": "stdout",
       "text": [
        "\n",
        "saved pickled graph"
       ]
      },
      {
       "output_type": "stream",
       "stream": "stdout",
       "text": [
        "\n",
        "step 1110: lp -379.15, accepted arrival_time: 0.041%, coda_decay: 0.074%, coda_height: 0.096%, evdepth: 0.491%, evloc: 0.090%, evloc_big: 0.010%, evmb: 0.928%, evtime: 0.437%, indep_peak: 0.004%, peak_decay: 0.354%, peak_offset: 0.162%, , uatemplates: 0 , events: 1 "
       ]
      },
      {
       "output_type": "stream",
       "stream": "stdout",
       "text": [
        "\n",
        "saving debug dump to /home/dmoore/python/sigvisa/logs/mcmc/01627/step_001119..."
       ]
      },
      {
       "output_type": "stream",
       "stream": "stdout",
       "text": [
        "\n",
        "saved pickled graph"
       ]
      },
      {
       "output_type": "stream",
       "stream": "stdout",
       "text": [
        "\n",
        "step 1120: lp -373.31, accepted arrival_time: 0.041%, coda_decay: 0.074%, coda_height: 0.096%, evdepth: 0.493%, evloc: 0.090%, evloc_big: 0.010%, evmb: 0.929%, evtime: 0.437%, indep_peak: 0.004%, peak_decay: 0.354%, peak_offset: 0.162%, , uatemplates: 0 , events: 1 "
       ]
      },
      {
       "output_type": "stream",
       "stream": "stdout",
       "text": [
        "\n",
        "saving debug dump to /home/dmoore/python/sigvisa/logs/mcmc/01627/step_001129..."
       ]
      },
      {
       "output_type": "stream",
       "stream": "stdout",
       "text": [
        "\n",
        "saved pickled graph"
       ]
      },
      {
       "output_type": "stream",
       "stream": "stdout",
       "text": [
        "\n",
        "step 1130: lp -376.22, accepted arrival_time: 0.041%, coda_decay: 0.074%, coda_height: 0.096%, evdepth: 0.496%, evloc: 0.089%, evloc_big: 0.010%, evmb: 0.929%, evtime: 0.438%, indep_peak: 0.004%, peak_decay: 0.354%, peak_offset: 0.162%, , uatemplates: 0 , events: 1 "
       ]
      },
      {
       "output_type": "stream",
       "stream": "stdout",
       "text": [
        "\n",
        "saving debug dump to /home/dmoore/python/sigvisa/logs/mcmc/01627/step_001139..."
       ]
      },
      {
       "output_type": "stream",
       "stream": "stdout",
       "text": [
        "\n",
        "saved pickled graph"
       ]
      },
      {
       "output_type": "stream",
       "stream": "stdout",
       "text": [
        "\n",
        "step 1140: lp -376.33, accepted arrival_time: 0.040%, coda_decay: 0.073%, coda_height: 0.096%, evdepth: 0.495%, evloc: 0.089%, evloc_big: 0.010%, evmb: 0.930%, evtime: 0.436%, indep_peak: 0.004%, peak_decay: 0.354%, peak_offset: 0.161%, , uatemplates: 0 , events: 1 "
       ]
      },
      {
       "output_type": "stream",
       "stream": "stdout",
       "text": [
        "\n",
        "saving debug dump to /home/dmoore/python/sigvisa/logs/mcmc/01627/step_001149..."
       ]
      },
      {
       "output_type": "stream",
       "stream": "stdout",
       "text": [
        "\n",
        "saved pickled graph"
       ]
      },
      {
       "output_type": "stream",
       "stream": "stdout",
       "text": [
        "\n",
        "step 1150: lp -378.20, accepted arrival_time: 0.040%, coda_decay: 0.073%, coda_height: 0.096%, evdepth: 0.491%, evloc: 0.088%, evloc_big: 0.010%, evmb: 0.930%, evtime: 0.434%, indep_peak: 0.003%, peak_decay: 0.354%, peak_offset: 0.161%, , uatemplates: 0 , events: 1 "
       ]
      },
      {
       "output_type": "stream",
       "stream": "stdout",
       "text": [
        "\n",
        "saving debug dump to /home/dmoore/python/sigvisa/logs/mcmc/01627/step_001159..."
       ]
      },
      {
       "output_type": "stream",
       "stream": "stdout",
       "text": [
        "\n",
        "saved pickled graph"
       ]
      },
      {
       "output_type": "stream",
       "stream": "stdout",
       "text": [
        "\n",
        "step 1160: lp -377.35, accepted arrival_time: 0.040%, coda_decay: 0.073%, coda_height: 0.096%, evdepth: 0.489%, evloc: 0.088%, evloc_big: 0.009%, evmb: 0.931%, evtime: 0.436%, indep_peak: 0.003%, peak_decay: 0.353%, peak_offset: 0.161%, , uatemplates: 0 , events: 1 "
       ]
      },
      {
       "output_type": "stream",
       "stream": "stdout",
       "text": [
        "\n",
        "saving debug dump to /home/dmoore/python/sigvisa/logs/mcmc/01627/step_001169..."
       ]
      },
      {
       "output_type": "stream",
       "stream": "stdout",
       "text": [
        "\n",
        "saved pickled graph"
       ]
      },
      {
       "output_type": "stream",
       "stream": "stdout",
       "text": [
        "\n",
        "step 1170: lp -378.27, accepted arrival_time: 0.040%, coda_decay: 0.073%, coda_height: 0.096%, evdepth: 0.488%, evloc: 0.089%, evloc_big: 0.009%, evmb: 0.932%, evtime: 0.436%, indep_peak: 0.003%, peak_decay: 0.353%, peak_offset: 0.161%, , uatemplates: 0 , events: 1 "
       ]
      },
      {
       "output_type": "stream",
       "stream": "stdout",
       "text": [
        "\n",
        "saving debug dump to /home/dmoore/python/sigvisa/logs/mcmc/01627/step_001179..."
       ]
      },
      {
       "output_type": "stream",
       "stream": "stdout",
       "text": [
        "\n",
        "saved pickled graph"
       ]
      },
      {
       "output_type": "stream",
       "stream": "stdout",
       "text": [
        "\n",
        "step 1180: lp -379.11, accepted arrival_time: 0.040%, coda_decay: 0.073%, coda_height: 0.096%, evdepth: 0.489%, evloc: 0.089%, evloc_big: 0.009%, evmb: 0.932%, evtime: 0.435%, indep_peak: 0.003%, peak_decay: 0.353%, peak_offset: 0.161%, , uatemplates: 0 , events: 1 "
       ]
      },
      {
       "output_type": "stream",
       "stream": "stdout",
       "text": [
        "\n",
        "saving debug dump to /home/dmoore/python/sigvisa/logs/mcmc/01627/step_001189..."
       ]
      },
      {
       "output_type": "stream",
       "stream": "stdout",
       "text": [
        "\n",
        "saved pickled graph"
       ]
      },
      {
       "output_type": "stream",
       "stream": "stdout",
       "text": [
        "\n",
        "step 1190: lp -379.08, accepted arrival_time: 0.040%, coda_decay: 0.074%, coda_height: 0.096%, evdepth: 0.490%, evloc: 0.089%, evloc_big: 0.009%, evmb: 0.933%, evtime: 0.435%, indep_peak: 0.003%, peak_decay: 0.351%, peak_offset: 0.161%, , uatemplates: 0 , events: 1 "
       ]
      },
      {
       "output_type": "stream",
       "stream": "stdout",
       "text": [
        "\n",
        "saving debug dump to /home/dmoore/python/sigvisa/logs/mcmc/01627/step_001199..."
       ]
      },
      {
       "output_type": "stream",
       "stream": "stdout",
       "text": [
        "\n",
        "saved pickled graph"
       ]
      },
      {
       "output_type": "stream",
       "stream": "stdout",
       "text": [
        "\n",
        "step 1200: lp -387.23, accepted arrival_time: 0.040%, coda_decay: 0.073%, coda_height: 0.096%, evdepth: 0.489%, evloc: 0.090%, evloc_big: 0.009%, evmb: 0.933%, evtime: 0.435%, indep_peak: 0.003%, peak_decay: 0.351%, peak_offset: 0.160%, , uatemplates: 0 , events: 1 "
       ]
      },
      {
       "output_type": "stream",
       "stream": "stdout",
       "text": [
        "\n",
        "saving debug dump to /home/dmoore/python/sigvisa/logs/mcmc/01627/step_001209..."
       ]
      },
      {
       "output_type": "stream",
       "stream": "stdout",
       "text": [
        "\n",
        "saved pickled graph"
       ]
      },
      {
       "output_type": "stream",
       "stream": "stdout",
       "text": [
        "\n",
        "step 1210: lp -381.66, accepted arrival_time: 0.040%, coda_decay: 0.073%, coda_height: 0.095%, evdepth: 0.489%, evloc: 0.089%, evloc_big: 0.009%, evmb: 0.932%, evtime: 0.433%, indep_peak: 0.003%, peak_decay: 0.350%, peak_offset: 0.160%, , uatemplates: 0 , events: 1 "
       ]
      },
      {
       "output_type": "stream",
       "stream": "stdout",
       "text": [
        "\n",
        "saving debug dump to /home/dmoore/python/sigvisa/logs/mcmc/01627/step_001219..."
       ]
      },
      {
       "output_type": "stream",
       "stream": "stdout",
       "text": [
        "\n",
        "saved pickled graph"
       ]
      },
      {
       "output_type": "stream",
       "stream": "stdout",
       "text": [
        "\n",
        "step 1220: lp -380.95, accepted arrival_time: 0.040%, coda_decay: 0.073%, coda_height: 0.096%, evdepth: 0.488%, evloc: 0.089%, evloc_big: 0.009%, evmb: 0.930%, evtime: 0.432%, indep_peak: 0.003%, peak_decay: 0.350%, peak_offset: 0.160%, , uatemplates: 0 , events: 1 "
       ]
      },
      {
       "output_type": "stream",
       "stream": "stdout",
       "text": [
        "\n",
        "saving debug dump to /home/dmoore/python/sigvisa/logs/mcmc/01627/step_001229..."
       ]
      },
      {
       "output_type": "stream",
       "stream": "stdout",
       "text": [
        "\n",
        "saved pickled graph"
       ]
      },
      {
       "output_type": "stream",
       "stream": "stdout",
       "text": [
        "\n",
        "step 1230: lp -383.79, accepted arrival_time: 0.040%, coda_decay: 0.073%, coda_height: 0.097%, evdepth: 0.490%, evloc: 0.089%, evloc_big: 0.009%, evmb: 0.930%, evtime: 0.433%, indep_peak: 0.003%, peak_decay: 0.349%, peak_offset: 0.161%, , uatemplates: 0 , events: 1 "
       ]
      },
      {
       "output_type": "stream",
       "stream": "stdout",
       "text": [
        "\n",
        "saving debug dump to /home/dmoore/python/sigvisa/logs/mcmc/01627/step_001239..."
       ]
      },
      {
       "output_type": "stream",
       "stream": "stdout",
       "text": [
        "\n",
        "saved pickled graph"
       ]
      },
      {
       "output_type": "stream",
       "stream": "stdout",
       "text": [
        "\n",
        "step 1240: lp -373.21, accepted arrival_time: 0.039%, coda_decay: 0.072%, coda_height: 0.097%, evdepth: 0.488%, evloc: 0.090%, evloc_big: 0.009%, evmb: 0.931%, evtime: 0.434%, indep_peak: 0.003%, peak_decay: 0.349%, peak_offset: 0.161%, , uatemplates: 0 , events: 1 "
       ]
      },
      {
       "output_type": "stream",
       "stream": "stdout",
       "text": [
        "\n",
        "saving debug dump to /home/dmoore/python/sigvisa/logs/mcmc/01627/step_001249..."
       ]
      },
      {
       "output_type": "stream",
       "stream": "stdout",
       "text": [
        "\n",
        "saved pickled graph"
       ]
      },
      {
       "output_type": "stream",
       "stream": "stdout",
       "text": [
        "\n",
        "step 1250: lp -376.68, accepted arrival_time: 0.039%, coda_decay: 0.072%, coda_height: 0.097%, evdepth: 0.488%, evloc: 0.090%, evloc_big: 0.010%, evmb: 0.930%, evtime: 0.433%, indep_peak: 0.003%, peak_decay: 0.350%, peak_offset: 0.161%, , uatemplates: 0 , events: 1 "
       ]
      },
      {
       "output_type": "stream",
       "stream": "stdout",
       "text": [
        "\n",
        "saving debug dump to /home/dmoore/python/sigvisa/logs/mcmc/01627/step_001259..."
       ]
      },
      {
       "output_type": "stream",
       "stream": "stdout",
       "text": [
        "\n",
        "saved pickled graph"
       ]
      },
      {
       "output_type": "stream",
       "stream": "stdout",
       "text": [
        "\n",
        "step 1260: lp -376.42, accepted arrival_time: 0.039%, coda_decay: 0.072%, coda_height: 0.097%, evdepth: 0.488%, evloc: 0.090%, evloc_big: 0.010%, evmb: 0.931%, evtime: 0.434%, indep_peak: 0.003%, peak_decay: 0.349%, peak_offset: 0.161%, , uatemplates: 0 , events: 1 "
       ]
      },
      {
       "output_type": "stream",
       "stream": "stdout",
       "text": [
        "\n",
        "saving debug dump to /home/dmoore/python/sigvisa/logs/mcmc/01627/step_001269..."
       ]
      },
      {
       "output_type": "stream",
       "stream": "stdout",
       "text": [
        "\n",
        "saved pickled graph"
       ]
      },
      {
       "output_type": "stream",
       "stream": "stdout",
       "text": [
        "\n",
        "step 1270: lp -378.35, accepted arrival_time: 0.039%, coda_decay: 0.072%, coda_height: 0.097%, evdepth: 0.487%, evloc: 0.090%, evloc_big: 0.010%, evmb: 0.932%, evtime: 0.431%, indep_peak: 0.004%, peak_decay: 0.349%, peak_offset: 0.161%, , uatemplates: 0 , events: 1 "
       ]
      },
      {
       "output_type": "stream",
       "stream": "stdout",
       "text": [
        "\n",
        "saving debug dump to /home/dmoore/python/sigvisa/logs/mcmc/01627/step_001279..."
       ]
      },
      {
       "output_type": "stream",
       "stream": "stdout",
       "text": [
        "\n",
        "saved pickled graph"
       ]
      },
      {
       "output_type": "stream",
       "stream": "stdout",
       "text": [
        "\n",
        "step 1280: lp -385.90, accepted arrival_time: 0.038%, coda_decay: 0.072%, coda_height: 0.097%, evdepth: 0.489%, evloc: 0.091%, evloc_big: 0.010%, evmb: 0.932%, evtime: 0.433%, indep_peak: 0.004%, peak_decay: 0.349%, peak_offset: 0.160%, , uatemplates: 0 , events: 1 "
       ]
      },
      {
       "output_type": "stream",
       "stream": "stdout",
       "text": [
        "\n",
        "saving debug dump to /home/dmoore/python/sigvisa/logs/mcmc/01627/step_001289..."
       ]
      },
      {
       "output_type": "stream",
       "stream": "stdout",
       "text": [
        "\n",
        "saved pickled graph"
       ]
      },
      {
       "output_type": "stream",
       "stream": "stdout",
       "text": [
        "\n",
        "step 1290: lp -385.32, accepted arrival_time: 0.038%, coda_decay: 0.073%, coda_height: 0.097%, evdepth: 0.489%, evloc: 0.091%, evloc_big: 0.010%, evmb: 0.933%, evtime: 0.432%, indep_peak: 0.004%, peak_decay: 0.349%, peak_offset: 0.161%, , uatemplates: 0 , events: 1 "
       ]
      },
      {
       "output_type": "stream",
       "stream": "stdout",
       "text": [
        "\n",
        "saving debug dump to /home/dmoore/python/sigvisa/logs/mcmc/01627/step_001299..."
       ]
      },
      {
       "output_type": "stream",
       "stream": "stdout",
       "text": [
        "\n",
        "saved pickled graph"
       ]
      },
      {
       "output_type": "stream",
       "stream": "stdout",
       "text": [
        "\n",
        "step 1300: lp -387.67, accepted arrival_time: 0.038%, coda_decay: 0.073%, coda_height: 0.097%, evdepth: 0.487%, evloc: 0.090%, evloc_big: 0.010%, evmb: 0.933%, evtime: 0.430%, indep_peak: 0.004%, peak_decay: 0.349%, peak_offset: 0.161%, , uatemplates: 0 , events: 1 "
       ]
      },
      {
       "output_type": "stream",
       "stream": "stdout",
       "text": [
        "\n",
        "saving debug dump to /home/dmoore/python/sigvisa/logs/mcmc/01627/step_001309..."
       ]
      },
      {
       "output_type": "stream",
       "stream": "stdout",
       "text": [
        "\n",
        "saved pickled graph"
       ]
      },
      {
       "output_type": "stream",
       "stream": "stdout",
       "text": [
        "\n",
        "step 1310: lp -383.87, accepted arrival_time: 0.038%, coda_decay: 0.073%, coda_height: 0.097%, evdepth: 0.487%, evloc: 0.089%, evloc_big: 0.010%, evmb: 0.933%, evtime: 0.431%, indep_peak: 0.004%, peak_decay: 0.349%, peak_offset: 0.161%, , uatemplates: 0 , events: 1 "
       ]
      },
      {
       "output_type": "stream",
       "stream": "stdout",
       "text": [
        "\n",
        "saving debug dump to /home/dmoore/python/sigvisa/logs/mcmc/01627/step_001319..."
       ]
      },
      {
       "output_type": "stream",
       "stream": "stdout",
       "text": [
        "\n",
        "saved pickled graph"
       ]
      },
      {
       "output_type": "stream",
       "stream": "stdout",
       "text": [
        "\n",
        "step 1320: lp -383.99, accepted arrival_time: 0.038%, coda_decay: 0.073%, coda_height: 0.097%, evdepth: 0.487%, evloc: 0.089%, evloc_big: 0.010%, evmb: 0.933%, evtime: 0.430%, indep_peak: 0.003%, peak_decay: 0.349%, peak_offset: 0.161%, , uatemplates: 0 , events: 1 "
       ]
      },
      {
       "output_type": "stream",
       "stream": "stdout",
       "text": [
        "\n",
        "saving debug dump to /home/dmoore/python/sigvisa/logs/mcmc/01627/step_001329..."
       ]
      },
      {
       "output_type": "stream",
       "stream": "stdout",
       "text": [
        "\n",
        "saved pickled graph"
       ]
      },
      {
       "output_type": "stream",
       "stream": "stdout",
       "text": [
        "\n",
        "step 1330: lp -383.57, accepted arrival_time: 0.038%, coda_decay: 0.073%, coda_height: 0.098%, evdepth: 0.487%, evloc: 0.091%, evloc_big: 0.010%, evmb: 0.932%, evtime: 0.428%, indep_peak: 0.003%, peak_decay: 0.349%, peak_offset: 0.161%, , uatemplates: 0 , events: 1 "
       ]
      },
      {
       "output_type": "stream",
       "stream": "stdout",
       "text": [
        "\n",
        "saving debug dump to /home/dmoore/python/sigvisa/logs/mcmc/01627/step_001339..."
       ]
      },
      {
       "output_type": "stream",
       "stream": "stdout",
       "text": [
        "\n",
        "saved pickled graph"
       ]
      },
      {
       "output_type": "stream",
       "stream": "stdout",
       "text": [
        "\n",
        "step 1340: lp -379.90, accepted arrival_time: 0.038%, coda_decay: 0.073%, coda_height: 0.098%, evdepth: 0.486%, evloc: 0.091%, evloc_big: 0.010%, evmb: 0.933%, evtime: 0.428%, indep_peak: 0.003%, peak_decay: 0.349%, peak_offset: 0.160%, , uatemplates: 0 , events: 1 "
       ]
      },
      {
       "output_type": "stream",
       "stream": "stdout",
       "text": [
        "\n",
        "saving debug dump to /home/dmoore/python/sigvisa/logs/mcmc/01627/step_001349..."
       ]
      },
      {
       "output_type": "stream",
       "stream": "stdout",
       "text": [
        "\n",
        "saved pickled graph"
       ]
      },
      {
       "output_type": "stream",
       "stream": "stdout",
       "text": [
        "\n",
        "step 1350: lp -386.83, accepted arrival_time: 0.038%, coda_decay: 0.073%, coda_height: 0.098%, evdepth: 0.484%, evloc: 0.090%, evloc_big: 0.010%, evmb: 0.933%, evtime: 0.428%, indep_peak: 0.003%, peak_decay: 0.350%, peak_offset: 0.161%, , uatemplates: 0 , events: 1 "
       ]
      },
      {
       "output_type": "stream",
       "stream": "stdout",
       "text": [
        "\n",
        "saving debug dump to /home/dmoore/python/sigvisa/logs/mcmc/01627/step_001359..."
       ]
      },
      {
       "output_type": "stream",
       "stream": "stdout",
       "text": [
        "\n",
        "saved pickled graph"
       ]
      },
      {
       "output_type": "stream",
       "stream": "stdout",
       "text": [
        "\n",
        "step 1360: lp -386.74, accepted arrival_time: 0.038%, coda_decay: 0.073%, coda_height: 0.098%, evdepth: 0.484%, evloc: 0.091%, evloc_big: 0.010%, evmb: 0.934%, evtime: 0.428%, indep_peak: 0.003%, peak_decay: 0.350%, peak_offset: 0.160%, , uatemplates: 0 , events: 1 "
       ]
      },
      {
       "output_type": "stream",
       "stream": "stdout",
       "text": [
        "\n",
        "saving debug dump to /home/dmoore/python/sigvisa/logs/mcmc/01627/step_001369..."
       ]
      },
      {
       "output_type": "stream",
       "stream": "stdout",
       "text": [
        "\n",
        "saved pickled graph"
       ]
      },
      {
       "output_type": "stream",
       "stream": "stdout",
       "text": [
        "\n",
        "step 1370: lp -378.40, accepted arrival_time: 0.038%, coda_decay: 0.073%, coda_height: 0.098%, evdepth: 0.483%, evloc: 0.091%, evloc_big: 0.009%, evmb: 0.934%, evtime: 0.428%, indep_peak: 0.003%, peak_decay: 0.350%, peak_offset: 0.160%, , uatemplates: 0 , events: 1 "
       ]
      },
      {
       "output_type": "stream",
       "stream": "stdout",
       "text": [
        "\n",
        "saving debug dump to /home/dmoore/python/sigvisa/logs/mcmc/01627/step_001379..."
       ]
      },
      {
       "output_type": "stream",
       "stream": "stdout",
       "text": [
        "\n",
        "saved pickled graph"
       ]
      },
      {
       "output_type": "stream",
       "stream": "stdout",
       "text": [
        "\n",
        "step 1380: lp -383.21, accepted arrival_time: 0.038%, coda_decay: 0.073%, coda_height: 0.098%, evdepth: 0.483%, evloc: 0.091%, evloc_big: 0.009%, evmb: 0.933%, evtime: 0.428%, indep_peak: 0.003%, peak_decay: 0.349%, peak_offset: 0.160%, , uatemplates: 0 , events: 1 "
       ]
      },
      {
       "output_type": "stream",
       "stream": "stdout",
       "text": [
        "\n",
        "saving debug dump to /home/dmoore/python/sigvisa/logs/mcmc/01627/step_001389..."
       ]
      },
      {
       "output_type": "stream",
       "stream": "stdout",
       "text": [
        "\n",
        "saved pickled graph"
       ]
      },
      {
       "output_type": "stream",
       "stream": "stdout",
       "text": [
        "\n",
        "step 1390: lp -382.89, accepted arrival_time: 0.038%, coda_decay: 0.073%, coda_height: 0.097%, evdepth: 0.485%, evloc: 0.092%, evloc_big: 0.009%, evmb: 0.934%, evtime: 0.428%, indep_peak: 0.003%, peak_decay: 0.349%, peak_offset: 0.159%, , uatemplates: 0 , events: 1 "
       ]
      },
      {
       "output_type": "stream",
       "stream": "stdout",
       "text": [
        "\n",
        "saving debug dump to /home/dmoore/python/sigvisa/logs/mcmc/01627/step_001399..."
       ]
      },
      {
       "output_type": "stream",
       "stream": "stdout",
       "text": [
        "\n",
        "saved pickled graph"
       ]
      },
      {
       "output_type": "stream",
       "stream": "stdout",
       "text": [
        "\n",
        "step 1400: lp -383.99, accepted arrival_time: 0.038%, coda_decay: 0.074%, coda_height: 0.097%, evdepth: 0.485%, evloc: 0.092%, evloc_big: 0.009%, evmb: 0.933%, evtime: 0.430%, indep_peak: 0.003%, peak_decay: 0.349%, peak_offset: 0.159%, , uatemplates: 0 , events: 1 "
       ]
      },
      {
       "output_type": "stream",
       "stream": "stdout",
       "text": [
        "\n",
        "saving debug dump to /home/dmoore/python/sigvisa/logs/mcmc/01627/step_001409..."
       ]
      },
      {
       "output_type": "stream",
       "stream": "stdout",
       "text": [
        "\n",
        "saved pickled graph"
       ]
      },
      {
       "output_type": "stream",
       "stream": "stdout",
       "text": [
        "\n",
        "step 1410: lp -389.82, accepted arrival_time: 0.038%, coda_decay: 0.073%, coda_height: 0.097%, evdepth: 0.485%, evloc: 0.094%, evloc_big: 0.009%, evmb: 0.933%, evtime: 0.429%, indep_peak: 0.003%, peak_decay: 0.349%, peak_offset: 0.159%, , uatemplates: 0 , events: 1 "
       ]
      },
      {
       "output_type": "stream",
       "stream": "stdout",
       "text": [
        "\n",
        "saving debug dump to /home/dmoore/python/sigvisa/logs/mcmc/01627/step_001419..."
       ]
      },
      {
       "output_type": "stream",
       "stream": "stdout",
       "text": [
        "\n",
        "saved pickled graph"
       ]
      },
      {
       "output_type": "stream",
       "stream": "stdout",
       "text": [
        "\n",
        "step 1420: lp -382.38, accepted arrival_time: 0.038%, coda_decay: 0.073%, coda_height: 0.097%, evdepth: 0.486%, evloc: 0.094%, evloc_big: 0.009%, evmb: 0.931%, evtime: 0.431%, indep_peak: 0.003%, peak_decay: 0.349%, peak_offset: 0.159%, , uatemplates: 0 , events: 1 "
       ]
      },
      {
       "output_type": "stream",
       "stream": "stdout",
       "text": [
        "\n",
        "saving debug dump to /home/dmoore/python/sigvisa/logs/mcmc/01627/step_001429..."
       ]
      },
      {
       "output_type": "stream",
       "stream": "stdout",
       "text": [
        "\n",
        "saved pickled graph"
       ]
      },
      {
       "output_type": "stream",
       "stream": "stdout",
       "text": [
        "\n",
        "step 1430: lp -379.54, accepted arrival_time: 0.038%, coda_decay: 0.073%, coda_height: 0.097%, evdepth: 0.487%, evloc: 0.093%, evloc_big: 0.009%, evmb: 0.931%, evtime: 0.430%, indep_peak: 0.003%, peak_decay: 0.349%, peak_offset: 0.159%, , uatemplates: 0 , events: 1 "
       ]
      },
      {
       "output_type": "stream",
       "stream": "stdout",
       "text": [
        "\n",
        "saving debug dump to /home/dmoore/python/sigvisa/logs/mcmc/01627/step_001439..."
       ]
      },
      {
       "output_type": "stream",
       "stream": "stdout",
       "text": [
        "\n",
        "saved pickled graph"
       ]
      },
      {
       "output_type": "stream",
       "stream": "stdout",
       "text": [
        "\n",
        "step 1440: lp -378.37, accepted arrival_time: 0.038%, coda_decay: 0.073%, coda_height: 0.097%, evdepth: 0.486%, evloc: 0.093%, evloc_big: 0.009%, evmb: 0.931%, evtime: 0.431%, indep_peak: 0.003%, peak_decay: 0.348%, peak_offset: 0.159%, , uatemplates: 0 , events: 1 "
       ]
      },
      {
       "output_type": "stream",
       "stream": "stdout",
       "text": [
        "\n",
        "saving debug dump to /home/dmoore/python/sigvisa/logs/mcmc/01627/step_001449..."
       ]
      },
      {
       "output_type": "stream",
       "stream": "stdout",
       "text": [
        "\n",
        "saved pickled graph"
       ]
      },
      {
       "output_type": "stream",
       "stream": "stdout",
       "text": [
        "\n",
        "step 1450: lp -386.20, accepted arrival_time: 0.038%, coda_decay: 0.073%, coda_height: 0.097%, evdepth: 0.486%, evloc: 0.092%, evloc_big: 0.009%, evmb: 0.932%, evtime: 0.433%, indep_peak: 0.003%, peak_decay: 0.347%, peak_offset: 0.159%, , uatemplates: 0 , events: 1 "
       ]
      },
      {
       "output_type": "stream",
       "stream": "stdout",
       "text": [
        "\n",
        "saving debug dump to /home/dmoore/python/sigvisa/logs/mcmc/01627/step_001459..."
       ]
      },
      {
       "output_type": "stream",
       "stream": "stdout",
       "text": [
        "\n",
        "saved pickled graph"
       ]
      },
      {
       "output_type": "stream",
       "stream": "stdout",
       "text": [
        "\n",
        "step 1460: lp -388.46, accepted arrival_time: 0.038%, coda_decay: 0.073%, coda_height: 0.097%, evdepth: 0.486%, evloc: 0.092%, evloc_big: 0.009%, evmb: 0.932%, evtime: 0.433%, indep_peak: 0.003%, peak_decay: 0.346%, peak_offset: 0.159%, , uatemplates: 0 , events: 1 "
       ]
      },
      {
       "output_type": "stream",
       "stream": "stdout",
       "text": [
        "\n",
        "saving debug dump to /home/dmoore/python/sigvisa/logs/mcmc/01627/step_001469..."
       ]
      },
      {
       "output_type": "stream",
       "stream": "stdout",
       "text": [
        "\n",
        "saved pickled graph"
       ]
      },
      {
       "output_type": "stream",
       "stream": "stdout",
       "text": [
        "\n",
        "step 1470: lp -381.37, accepted arrival_time: 0.038%, coda_decay: 0.073%, coda_height: 0.097%, evdepth: 0.485%, evloc: 0.094%, evloc_big: 0.009%, evmb: 0.932%, evtime: 0.434%, indep_peak: 0.003%, peak_decay: 0.346%, peak_offset: 0.159%, , uatemplates: 0 , events: 1 "
       ]
      },
      {
       "output_type": "stream",
       "stream": "stdout",
       "text": [
        "\n",
        "saving debug dump to /home/dmoore/python/sigvisa/logs/mcmc/01627/step_001479..."
       ]
      },
      {
       "output_type": "stream",
       "stream": "stdout",
       "text": [
        "\n",
        "saved pickled graph"
       ]
      },
      {
       "output_type": "stream",
       "stream": "stdout",
       "text": [
        "\n",
        "step 1480: lp -385.01, accepted arrival_time: 0.038%, coda_decay: 0.073%, coda_height: 0.097%, evdepth: 0.484%, evloc: 0.094%, evloc_big: 0.009%, evmb: 0.932%, evtime: 0.434%, indep_peak: 0.003%, peak_decay: 0.346%, peak_offset: 0.159%, , uatemplates: 0 , events: 1 "
       ]
      },
      {
       "output_type": "stream",
       "stream": "stdout",
       "text": [
        "\n",
        "saving debug dump to /home/dmoore/python/sigvisa/logs/mcmc/01627/step_001489..."
       ]
      },
      {
       "output_type": "stream",
       "stream": "stdout",
       "text": [
        "\n",
        "saved pickled graph"
       ]
      },
      {
       "output_type": "stream",
       "stream": "stdout",
       "text": [
        "\n",
        "step 1490: lp -382.29, accepted arrival_time: 0.039%, coda_decay: 0.073%, coda_height: 0.097%, evdepth: 0.485%, evloc: 0.093%, evloc_big: 0.009%, evmb: 0.932%, evtime: 0.435%, indep_peak: 0.003%, peak_decay: 0.345%, peak_offset: 0.159%, , uatemplates: 0 , events: 1 "
       ]
      },
      {
       "output_type": "stream",
       "stream": "stdout",
       "text": [
        "\n",
        "saving debug dump to /home/dmoore/python/sigvisa/logs/mcmc/01627/step_001499..."
       ]
      },
      {
       "output_type": "stream",
       "stream": "stdout",
       "text": [
        "\n",
        "saved pickled graph"
       ]
      },
      {
       "output_type": "stream",
       "stream": "stdout",
       "text": [
        "\n",
        "step 1500: lp -379.75, accepted arrival_time: 0.039%, coda_decay: 0.072%, coda_height: 0.097%, evdepth: 0.484%, evloc: 0.093%, evloc_big: 0.009%, evmb: 0.932%, evtime: 0.435%, indep_peak: 0.003%, peak_decay: 0.344%, peak_offset: 0.159%, , uatemplates: 0 , events: 1 "
       ]
      },
      {
       "output_type": "stream",
       "stream": "stdout",
       "text": [
        "\n",
        "saving debug dump to /home/dmoore/python/sigvisa/logs/mcmc/01627/step_001509..."
       ]
      },
      {
       "output_type": "stream",
       "stream": "stdout",
       "text": [
        "\n",
        "saved pickled graph"
       ]
      },
      {
       "output_type": "stream",
       "stream": "stdout",
       "text": [
        "\n",
        "step 1510: lp -380.88, accepted arrival_time: 0.039%, coda_decay: 0.072%, coda_height: 0.097%, evdepth: 0.482%, evloc: 0.092%, evloc_big: 0.009%, evmb: 0.932%, evtime: 0.433%, indep_peak: 0.003%, peak_decay: 0.344%, peak_offset: 0.159%, , uatemplates: 0 , events: 1 "
       ]
      },
      {
       "output_type": "stream",
       "stream": "stdout",
       "text": [
        "\n",
        "saving debug dump to /home/dmoore/python/sigvisa/logs/mcmc/01627/step_001519..."
       ]
      },
      {
       "output_type": "stream",
       "stream": "stdout",
       "text": [
        "\n",
        "saved pickled graph"
       ]
      },
      {
       "output_type": "stream",
       "stream": "stdout",
       "text": [
        "\n",
        "step 1520: lp -384.69, accepted arrival_time: 0.038%, coda_decay: 0.072%, coda_height: 0.098%, evdepth: 0.483%, evloc: 0.092%, evloc_big: 0.009%, evmb: 0.933%, evtime: 0.435%, indep_peak: 0.003%, peak_decay: 0.343%, peak_offset: 0.160%, , uatemplates: 0 , events: 1 "
       ]
      },
      {
       "output_type": "stream",
       "stream": "stdout",
       "text": [
        "\n",
        "saving debug dump to /home/dmoore/python/sigvisa/logs/mcmc/01627/step_001529..."
       ]
      },
      {
       "output_type": "stream",
       "stream": "stdout",
       "text": [
        "\n",
        "saved pickled graph"
       ]
      },
      {
       "output_type": "stream",
       "stream": "stdout",
       "text": [
        "\n",
        "step 1530: lp -378.39, accepted arrival_time: 0.038%, coda_decay: 0.073%, coda_height: 0.098%, evdepth: 0.483%, evloc: 0.092%, evloc_big: 0.008%, evmb: 0.933%, evtime: 0.434%, indep_peak: 0.003%, peak_decay: 0.344%, peak_offset: 0.160%, , uatemplates: 0 , events: 1 "
       ]
      },
      {
       "output_type": "stream",
       "stream": "stdout",
       "text": [
        "\n",
        "saving debug dump to /home/dmoore/python/sigvisa/logs/mcmc/01627/step_001539..."
       ]
      },
      {
       "output_type": "stream",
       "stream": "stdout",
       "text": [
        "\n",
        "saved pickled graph"
       ]
      },
      {
       "output_type": "stream",
       "stream": "stdout",
       "text": [
        "\n",
        "step 1540: lp -384.01, accepted arrival_time: 0.039%, coda_decay: 0.072%, coda_height: 0.098%, evdepth: 0.485%, evloc: 0.093%, evloc_big: 0.008%, evmb: 0.933%, evtime: 0.435%, indep_peak: 0.003%, peak_decay: 0.343%, peak_offset: 0.160%, , uatemplates: 0 , events: 1 "
       ]
      },
      {
       "output_type": "stream",
       "stream": "stdout",
       "text": [
        "\n",
        "saving debug dump to /home/dmoore/python/sigvisa/logs/mcmc/01627/step_001549..."
       ]
      },
      {
       "output_type": "stream",
       "stream": "stdout",
       "text": [
        "\n",
        "saved pickled graph"
       ]
      },
      {
       "output_type": "stream",
       "stream": "stdout",
       "text": [
        "\n",
        "step 1550: lp -381.42, accepted arrival_time: 0.038%, coda_decay: 0.072%, coda_height: 0.098%, evdepth: 0.485%, evloc: 0.094%, evloc_big: 0.008%, evmb: 0.933%, evtime: 0.435%, indep_peak: 0.003%, peak_decay: 0.343%, peak_offset: 0.160%, , uatemplates: 0 , events: 1 "
       ]
      },
      {
       "output_type": "stream",
       "stream": "stdout",
       "text": [
        "\n",
        "saving debug dump to /home/dmoore/python/sigvisa/logs/mcmc/01627/step_001559..."
       ]
      },
      {
       "output_type": "stream",
       "stream": "stdout",
       "text": [
        "\n",
        "saved pickled graph"
       ]
      },
      {
       "output_type": "stream",
       "stream": "stdout",
       "text": [
        "\n",
        "step 1560: lp -379.87, accepted arrival_time: 0.038%, coda_decay: 0.072%, coda_height: 0.098%, evdepth: 0.484%, evloc: 0.094%, evloc_big: 0.008%, evmb: 0.933%, evtime: 0.435%, indep_peak: 0.003%, peak_decay: 0.343%, peak_offset: 0.159%, , uatemplates: 0 , events: 1 "
       ]
      },
      {
       "output_type": "stream",
       "stream": "stdout",
       "text": [
        "\n",
        "saving debug dump to /home/dmoore/python/sigvisa/logs/mcmc/01627/step_001569..."
       ]
      },
      {
       "output_type": "stream",
       "stream": "stdout",
       "text": [
        "\n",
        "saved pickled graph"
       ]
      },
      {
       "output_type": "stream",
       "stream": "stdout",
       "text": [
        "\n",
        "step 1570: lp -377.49, accepted arrival_time: 0.038%, coda_decay: 0.072%, coda_height: 0.098%, evdepth: 0.483%, evloc: 0.096%, evloc_big: 0.008%, evmb: 0.933%, evtime: 0.435%, indep_peak: 0.003%, peak_decay: 0.342%, peak_offset: 0.160%, , uatemplates: 0 , events: 1 "
       ]
      },
      {
       "output_type": "stream",
       "stream": "stdout",
       "text": [
        "\n",
        "saving debug dump to /home/dmoore/python/sigvisa/logs/mcmc/01627/step_001579..."
       ]
      },
      {
       "output_type": "stream",
       "stream": "stdout",
       "text": [
        "\n",
        "saved pickled graph"
       ]
      },
      {
       "output_type": "stream",
       "stream": "stdout",
       "text": [
        "\n",
        "step 1580: lp -380.54, accepted arrival_time: 0.038%, coda_decay: 0.072%, coda_height: 0.098%, evdepth: 0.483%, evloc: 0.096%, evloc_big: 0.008%, evmb: 0.933%, evtime: 0.433%, indep_peak: 0.003%, peak_decay: 0.342%, peak_offset: 0.160%, , uatemplates: 0 , events: 1 "
       ]
      },
      {
       "output_type": "stream",
       "stream": "stdout",
       "text": [
        "\n",
        "saving debug dump to /home/dmoore/python/sigvisa/logs/mcmc/01627/step_001589..."
       ]
      },
      {
       "output_type": "stream",
       "stream": "stdout",
       "text": [
        "\n",
        "saved pickled graph"
       ]
      },
      {
       "output_type": "stream",
       "stream": "stdout",
       "text": [
        "\n",
        "step 1590: lp -383.64, accepted arrival_time: 0.038%, coda_decay: 0.072%, coda_height: 0.098%, evdepth: 0.483%, evloc: 0.096%, evloc_big: 0.008%, evmb: 0.933%, evtime: 0.432%, indep_peak: 0.003%, peak_decay: 0.342%, peak_offset: 0.160%, , uatemplates: 0 , events: 1 "
       ]
      },
      {
       "output_type": "stream",
       "stream": "stdout",
       "text": [
        "\n",
        "saving debug dump to /home/dmoore/python/sigvisa/logs/mcmc/01627/step_001599..."
       ]
      },
      {
       "output_type": "stream",
       "stream": "stdout",
       "text": [
        "\n",
        "saved pickled graph"
       ]
      },
      {
       "output_type": "stream",
       "stream": "stdout",
       "text": [
        "\n",
        "step 1600: lp -388.96, accepted arrival_time: 0.038%, coda_decay: 0.072%, coda_height: 0.098%, evdepth: 0.483%, evloc: 0.096%, evloc_big: 0.008%, evmb: 0.934%, evtime: 0.431%, indep_peak: 0.003%, peak_decay: 0.342%, peak_offset: 0.160%, , uatemplates: 0 , events: 1 "
       ]
      },
      {
       "output_type": "stream",
       "stream": "stdout",
       "text": [
        "\n",
        "saving debug dump to /home/dmoore/python/sigvisa/logs/mcmc/01627/step_001609..."
       ]
      },
      {
       "output_type": "stream",
       "stream": "stdout",
       "text": [
        "\n",
        "saved pickled graph"
       ]
      },
      {
       "output_type": "stream",
       "stream": "stdout",
       "text": [
        "\n",
        "step 1610: lp -387.19, accepted arrival_time: 0.038%, coda_decay: 0.072%, coda_height: 0.097%, evdepth: 0.484%, evloc: 0.096%, evloc_big: 0.008%, evmb: 0.934%, evtime: 0.430%, indep_peak: 0.003%, peak_decay: 0.341%, peak_offset: 0.160%, , uatemplates: 0 , events: 1 "
       ]
      },
      {
       "output_type": "stream",
       "stream": "stdout",
       "text": [
        "\n",
        "saving debug dump to /home/dmoore/python/sigvisa/logs/mcmc/01627/step_001619..."
       ]
      },
      {
       "output_type": "stream",
       "stream": "stdout",
       "text": [
        "\n",
        "saved pickled graph"
       ]
      },
      {
       "output_type": "stream",
       "stream": "stdout",
       "text": [
        "\n",
        "step 1620: lp -380.82, accepted arrival_time: 0.038%, coda_decay: 0.072%, coda_height: 0.097%, evdepth: 0.482%, evloc: 0.097%, evloc_big: 0.008%, evmb: 0.935%, evtime: 0.430%, indep_peak: 0.003%, peak_decay: 0.341%, peak_offset: 0.160%, , uatemplates: 0 , events: 1 "
       ]
      },
      {
       "output_type": "stream",
       "stream": "stdout",
       "text": [
        "\n",
        "saving debug dump to /home/dmoore/python/sigvisa/logs/mcmc/01627/step_001629..."
       ]
      },
      {
       "output_type": "stream",
       "stream": "stdout",
       "text": [
        "\n",
        "saved pickled graph"
       ]
      },
      {
       "output_type": "stream",
       "stream": "stdout",
       "text": [
        "\n",
        "step 1630: lp -378.85, accepted arrival_time: 0.038%, coda_decay: 0.072%, coda_height: 0.097%, evdepth: 0.481%, evloc: 0.097%, evloc_big: 0.008%, evmb: 0.935%, evtime: 0.429%, indep_peak: 0.003%, peak_decay: 0.341%, peak_offset: 0.160%, , uatemplates: 0 , events: 1 "
       ]
      },
      {
       "output_type": "stream",
       "stream": "stdout",
       "text": [
        "\n",
        "saving debug dump to /home/dmoore/python/sigvisa/logs/mcmc/01627/step_001639..."
       ]
      },
      {
       "output_type": "stream",
       "stream": "stdout",
       "text": [
        "\n",
        "saved pickled graph"
       ]
      },
      {
       "output_type": "stream",
       "stream": "stdout",
       "text": [
        "\n",
        "step 1640: lp -380.00, accepted arrival_time: 0.038%, coda_decay: 0.072%, coda_height: 0.097%, evdepth: 0.481%, evloc: 0.098%, evloc_big: 0.008%, evmb: 0.935%, evtime: 0.429%, indep_peak: 0.003%, peak_decay: 0.341%, peak_offset: 0.160%, , uatemplates: 0 , events: 1 "
       ]
      },
      {
       "output_type": "stream",
       "stream": "stdout",
       "text": [
        "\n",
        "saving debug dump to /home/dmoore/python/sigvisa/logs/mcmc/01627/step_001649..."
       ]
      },
      {
       "output_type": "stream",
       "stream": "stdout",
       "text": [
        "\n",
        "saved pickled graph"
       ]
      },
      {
       "output_type": "stream",
       "stream": "stdout",
       "text": [
        "\n",
        "step 1650: lp -375.49, accepted arrival_time: 0.038%, coda_decay: 0.072%, coda_height: 0.097%, evdepth: 0.482%, evloc: 0.097%, evloc_big: 0.008%, evmb: 0.935%, evtime: 0.429%, indep_peak: 0.003%, peak_decay: 0.341%, peak_offset: 0.160%, , uatemplates: 0 , events: 1 "
       ]
      },
      {
       "output_type": "stream",
       "stream": "stdout",
       "text": [
        "\n",
        "saving debug dump to /home/dmoore/python/sigvisa/logs/mcmc/01627/step_001659..."
       ]
      },
      {
       "output_type": "stream",
       "stream": "stdout",
       "text": [
        "\n",
        "saved pickled graph"
       ]
      },
      {
       "output_type": "stream",
       "stream": "stdout",
       "text": [
        "\n",
        "step 1660: lp -378.08, accepted arrival_time: 0.038%, coda_decay: 0.072%, coda_height: 0.097%, evdepth: 0.482%, evloc: 0.097%, evloc_big: 0.008%, evmb: 0.936%, evtime: 0.427%, indep_peak: 0.003%, peak_decay: 0.341%, peak_offset: 0.160%, , uatemplates: 0 , events: 1 "
       ]
      },
      {
       "output_type": "stream",
       "stream": "stdout",
       "text": [
        "\n",
        "saving debug dump to /home/dmoore/python/sigvisa/logs/mcmc/01627/step_001669..."
       ]
      },
      {
       "output_type": "stream",
       "stream": "stdout",
       "text": [
        "\n",
        "saved pickled graph"
       ]
      },
      {
       "output_type": "stream",
       "stream": "stdout",
       "text": [
        "\n",
        "step 1670: lp -384.27, accepted arrival_time: 0.038%, coda_decay: 0.072%, coda_height: 0.097%, evdepth: 0.479%, evloc: 0.098%, evloc_big: 0.008%, evmb: 0.936%, evtime: 0.427%, indep_peak: 0.003%, peak_decay: 0.341%, peak_offset: 0.160%, , uatemplates: 0 , events: 1 "
       ]
      },
      {
       "output_type": "stream",
       "stream": "stdout",
       "text": [
        "\n",
        "saving debug dump to /home/dmoore/python/sigvisa/logs/mcmc/01627/step_001679..."
       ]
      },
      {
       "output_type": "stream",
       "stream": "stdout",
       "text": [
        "\n",
        "saved pickled graph"
       ]
      },
      {
       "output_type": "stream",
       "stream": "stdout",
       "text": [
        "\n",
        "step 1680: lp -376.87, accepted arrival_time: 0.038%, coda_decay: 0.072%, coda_height: 0.097%, evdepth: 0.478%, evloc: 0.097%, evloc_big: 0.008%, evmb: 0.936%, evtime: 0.427%, indep_peak: 0.003%, peak_decay: 0.340%, peak_offset: 0.160%, , uatemplates: 0 , events: 1 "
       ]
      },
      {
       "output_type": "stream",
       "stream": "stdout",
       "text": [
        "\n",
        "saving debug dump to /home/dmoore/python/sigvisa/logs/mcmc/01627/step_001689..."
       ]
      },
      {
       "output_type": "stream",
       "stream": "stdout",
       "text": [
        "\n",
        "saved pickled graph"
       ]
      },
      {
       "output_type": "stream",
       "stream": "stdout",
       "text": [
        "\n",
        "step 1690: lp -375.54, accepted arrival_time: 0.038%, coda_decay: 0.072%, coda_height: 0.096%, evdepth: 0.478%, evloc: 0.098%, evloc_big: 0.008%, evmb: 0.936%, evtime: 0.425%, indep_peak: 0.003%, peak_decay: 0.340%, peak_offset: 0.160%, , uatemplates: 0 , events: 1 "
       ]
      },
      {
       "output_type": "stream",
       "stream": "stdout",
       "text": [
        "\n",
        "saving debug dump to /home/dmoore/python/sigvisa/logs/mcmc/01627/step_001699..."
       ]
      },
      {
       "output_type": "stream",
       "stream": "stdout",
       "text": [
        "\n",
        "saved pickled graph"
       ]
      },
      {
       "output_type": "stream",
       "stream": "stdout",
       "text": [
        "\n",
        "step 1700: lp -373.93, accepted arrival_time: 0.038%, coda_decay: 0.072%, coda_height: 0.097%, evdepth: 0.479%, evloc: 0.098%, evloc_big: 0.008%, evmb: 0.935%, evtime: 0.424%, indep_peak: 0.003%, peak_decay: 0.340%, peak_offset: 0.159%, , uatemplates: 0 , events: 1 "
       ]
      },
      {
       "output_type": "stream",
       "stream": "stdout",
       "text": [
        "\n",
        "saving debug dump to /home/dmoore/python/sigvisa/logs/mcmc/01627/step_001709..."
       ]
      },
      {
       "output_type": "stream",
       "stream": "stdout",
       "text": [
        "\n",
        "saved pickled graph"
       ]
      },
      {
       "output_type": "stream",
       "stream": "stdout",
       "text": [
        "\n",
        "step 1710: lp -379.51, accepted arrival_time: 0.038%, coda_decay: 0.072%, coda_height: 0.096%, evdepth: 0.478%, evloc: 0.097%, evloc_big: 0.008%, evmb: 0.935%, evtime: 0.425%, indep_peak: 0.003%, peak_decay: 0.339%, peak_offset: 0.159%, , uatemplates: 0 , events: 1 "
       ]
      },
      {
       "output_type": "stream",
       "stream": "stdout",
       "text": [
        "\n",
        "saving debug dump to /home/dmoore/python/sigvisa/logs/mcmc/01627/step_001719..."
       ]
      },
      {
       "output_type": "stream",
       "stream": "stdout",
       "text": [
        "\n",
        "saved pickled graph"
       ]
      },
      {
       "output_type": "stream",
       "stream": "stdout",
       "text": [
        "\n",
        "step 1720: lp -376.56, accepted arrival_time: 0.038%, coda_decay: 0.072%, coda_height: 0.096%, evdepth: 0.479%, evloc: 0.097%, evloc_big: 0.008%, evmb: 0.934%, evtime: 0.425%, indep_peak: 0.003%, peak_decay: 0.339%, peak_offset: 0.159%, , uatemplates: 0 , events: 1 "
       ]
      },
      {
       "output_type": "stream",
       "stream": "stdout",
       "text": [
        "\n",
        "saving debug dump to /home/dmoore/python/sigvisa/logs/mcmc/01627/step_001729..."
       ]
      },
      {
       "output_type": "stream",
       "stream": "stdout",
       "text": [
        "\n",
        "saved pickled graph"
       ]
      },
      {
       "output_type": "stream",
       "stream": "stdout",
       "text": [
        "\n",
        "step 1730: lp -376.96, accepted arrival_time: 0.038%, coda_decay: 0.072%, coda_height: 0.096%, evdepth: 0.478%, evloc: 0.097%, evloc_big: 0.008%, evmb: 0.935%, evtime: 0.426%, indep_peak: 0.003%, peak_decay: 0.338%, peak_offset: 0.159%, , uatemplates: 0 , events: 1 "
       ]
      },
      {
       "output_type": "stream",
       "stream": "stdout",
       "text": [
        "\n",
        "saving debug dump to /home/dmoore/python/sigvisa/logs/mcmc/01627/step_001739..."
       ]
      },
      {
       "output_type": "stream",
       "stream": "stdout",
       "text": [
        "\n",
        "saved pickled graph"
       ]
      },
      {
       "output_type": "stream",
       "stream": "stdout",
       "text": [
        "\n",
        "step 1740: lp -379.53, accepted arrival_time: 0.037%, coda_decay: 0.072%, coda_height: 0.096%, evdepth: 0.478%, evloc: 0.098%, evloc_big: 0.007%, evmb: 0.935%, evtime: 0.426%, indep_peak: 0.003%, peak_decay: 0.338%, peak_offset: 0.159%, , uatemplates: 0 , events: 1 "
       ]
      },
      {
       "output_type": "stream",
       "stream": "stdout",
       "text": [
        "\n",
        "saving debug dump to /home/dmoore/python/sigvisa/logs/mcmc/01627/step_001749..."
       ]
      },
      {
       "output_type": "stream",
       "stream": "stdout",
       "text": [
        "\n",
        "saved pickled graph"
       ]
      },
      {
       "output_type": "stream",
       "stream": "stdout",
       "text": [
        "\n",
        "step 1750: lp -378.40, accepted arrival_time: 0.037%, coda_decay: 0.072%, coda_height: 0.096%, evdepth: 0.477%, evloc: 0.099%, evloc_big: 0.007%, evmb: 0.935%, evtime: 0.427%, indep_peak: 0.003%, peak_decay: 0.338%, peak_offset: 0.159%, , uatemplates: 0 , events: 1 "
       ]
      },
      {
       "output_type": "stream",
       "stream": "stdout",
       "text": [
        "\n",
        "saving debug dump to /home/dmoore/python/sigvisa/logs/mcmc/01627/step_001759..."
       ]
      },
      {
       "output_type": "stream",
       "stream": "stdout",
       "text": [
        "\n",
        "saved pickled graph"
       ]
      },
      {
       "output_type": "stream",
       "stream": "stdout",
       "text": [
        "\n",
        "step 1760: lp -380.03, accepted arrival_time: 0.037%, coda_decay: 0.072%, coda_height: 0.096%, evdepth: 0.478%, evloc: 0.099%, evloc_big: 0.007%, evmb: 0.935%, evtime: 0.428%, indep_peak: 0.003%, peak_decay: 0.337%, peak_offset: 0.159%, , uatemplates: 0 , events: 1 "
       ]
      },
      {
       "output_type": "stream",
       "stream": "stdout",
       "text": [
        "\n",
        "saving debug dump to /home/dmoore/python/sigvisa/logs/mcmc/01627/step_001769..."
       ]
      },
      {
       "output_type": "stream",
       "stream": "stdout",
       "text": [
        "\n",
        "saved pickled graph"
       ]
      },
      {
       "output_type": "stream",
       "stream": "stdout",
       "text": [
        "\n",
        "step 1770: lp -376.89, accepted arrival_time: 0.038%, coda_decay: 0.072%, coda_height: 0.096%, evdepth: 0.479%, evloc: 0.099%, evloc_big: 0.007%, evmb: 0.934%, evtime: 0.429%, indep_peak: 0.003%, peak_decay: 0.337%, peak_offset: 0.159%, , uatemplates: 0 , events: 1 "
       ]
      },
      {
       "output_type": "stream",
       "stream": "stdout",
       "text": [
        "\n",
        "saving debug dump to /home/dmoore/python/sigvisa/logs/mcmc/01627/step_001779..."
       ]
      },
      {
       "output_type": "stream",
       "stream": "stdout",
       "text": [
        "\n",
        "saved pickled graph"
       ]
      },
      {
       "output_type": "stream",
       "stream": "stdout",
       "text": [
        "\n",
        "step 1780: lp -376.07, accepted arrival_time: 0.038%, coda_decay: 0.072%, coda_height: 0.096%, evdepth: 0.478%, evloc: 0.099%, evloc_big: 0.007%, evmb: 0.934%, evtime: 0.429%, indep_peak: 0.003%, peak_decay: 0.337%, peak_offset: 0.159%, , uatemplates: 0 , events: 1 "
       ]
      },
      {
       "output_type": "stream",
       "stream": "stdout",
       "text": [
        "\n",
        "saving debug dump to /home/dmoore/python/sigvisa/logs/mcmc/01627/step_001789..."
       ]
      },
      {
       "output_type": "stream",
       "stream": "stdout",
       "text": [
        "\n",
        "saved pickled graph"
       ]
      },
      {
       "output_type": "stream",
       "stream": "stdout",
       "text": [
        "\n",
        "step 1790: lp -379.16, accepted arrival_time: 0.037%, coda_decay: 0.072%, coda_height: 0.096%, evdepth: 0.476%, evloc: 0.099%, evloc_big: 0.007%, evmb: 0.935%, evtime: 0.429%, indep_peak: 0.003%, peak_decay: 0.336%, peak_offset: 0.159%, , uatemplates: 0 , events: 1 "
       ]
      },
      {
       "output_type": "stream",
       "stream": "stdout",
       "text": [
        "\n",
        "saving debug dump to /home/dmoore/python/sigvisa/logs/mcmc/01627/step_001799..."
       ]
      },
      {
       "output_type": "stream",
       "stream": "stdout",
       "text": [
        "\n",
        "saved pickled graph"
       ]
      },
      {
       "output_type": "stream",
       "stream": "stdout",
       "text": [
        "\n",
        "step 1800: lp -383.99, accepted arrival_time: 0.037%, coda_decay: 0.073%, coda_height: 0.096%, evdepth: 0.476%, evloc: 0.099%, evloc_big: 0.007%, evmb: 0.935%, evtime: 0.428%, indep_peak: 0.003%, peak_decay: 0.336%, peak_offset: 0.159%, , uatemplates: 0 , events: 1 "
       ]
      },
      {
       "output_type": "stream",
       "stream": "stdout",
       "text": [
        "\n",
        "saving debug dump to /home/dmoore/python/sigvisa/logs/mcmc/01627/step_001809..."
       ]
      },
      {
       "output_type": "stream",
       "stream": "stdout",
       "text": [
        "\n",
        "saved pickled graph"
       ]
      },
      {
       "output_type": "stream",
       "stream": "stdout",
       "text": [
        "\n",
        "step 1810: lp -376.58, accepted arrival_time: 0.037%, coda_decay: 0.072%, coda_height: 0.096%, evdepth: 0.475%, evloc: 0.099%, evloc_big: 0.007%, evmb: 0.935%, evtime: 0.428%, indep_peak: 0.003%, peak_decay: 0.337%, peak_offset: 0.159%, , uatemplates: 0 , events: 1 "
       ]
      },
      {
       "output_type": "stream",
       "stream": "stdout",
       "text": [
        "\n",
        "saving debug dump to /home/dmoore/python/sigvisa/logs/mcmc/01627/step_001819..."
       ]
      },
      {
       "output_type": "stream",
       "stream": "stdout",
       "text": [
        "\n",
        "saved pickled graph"
       ]
      },
      {
       "output_type": "stream",
       "stream": "stdout",
       "text": [
        "\n",
        "step 1820: lp -372.92, accepted arrival_time: 0.037%, coda_decay: 0.073%, coda_height: 0.096%, evdepth: 0.475%, evloc: 0.099%, evloc_big: 0.007%, evmb: 0.936%, evtime: 0.427%, indep_peak: 0.003%, peak_decay: 0.337%, peak_offset: 0.159%, , uatemplates: 0 , events: 1 "
       ]
      },
      {
       "output_type": "stream",
       "stream": "stdout",
       "text": [
        "\n",
        "saving debug dump to /home/dmoore/python/sigvisa/logs/mcmc/01627/step_001829..."
       ]
      },
      {
       "output_type": "stream",
       "stream": "stdout",
       "text": [
        "\n",
        "saved pickled graph"
       ]
      },
      {
       "output_type": "stream",
       "stream": "stdout",
       "text": [
        "\n",
        "step 1830: lp -375.29, accepted arrival_time: 0.037%, coda_decay: 0.073%, coda_height: 0.096%, evdepth: 0.475%, evloc: 0.099%, evloc_big: 0.007%, evmb: 0.936%, evtime: 0.427%, indep_peak: 0.003%, peak_decay: 0.337%, peak_offset: 0.159%, , uatemplates: 0 , events: 1 "
       ]
      },
      {
       "output_type": "stream",
       "stream": "stdout",
       "text": [
        "\n",
        "saving debug dump to /home/dmoore/python/sigvisa/logs/mcmc/01627/step_001839..."
       ]
      },
      {
       "output_type": "stream",
       "stream": "stdout",
       "text": [
        "\n",
        "saved pickled graph"
       ]
      },
      {
       "output_type": "stream",
       "stream": "stdout",
       "text": [
        "\n",
        "step 1840: lp -374.98, accepted arrival_time: 0.037%, coda_decay: 0.073%, coda_height: 0.096%, evdepth: 0.476%, evloc: 0.098%, evloc_big: 0.007%, evmb: 0.936%, evtime: 0.427%, indep_peak: 0.003%, peak_decay: 0.337%, peak_offset: 0.159%, , uatemplates: 0 , events: 1 "
       ]
      },
      {
       "output_type": "stream",
       "stream": "stdout",
       "text": [
        "\n",
        "saving debug dump to /home/dmoore/python/sigvisa/logs/mcmc/01627/step_001849..."
       ]
      },
      {
       "output_type": "stream",
       "stream": "stdout",
       "text": [
        "\n",
        "saved pickled graph"
       ]
      },
      {
       "output_type": "stream",
       "stream": "stdout",
       "text": [
        "\n",
        "step 1850: lp -371.53, accepted arrival_time: 0.037%, coda_decay: 0.072%, coda_height: 0.096%, evdepth: 0.476%, evloc: 0.098%, evloc_big: 0.007%, evmb: 0.936%, evtime: 0.427%, indep_peak: 0.003%, peak_decay: 0.337%, peak_offset: 0.159%, , uatemplates: 0 , events: 1 "
       ]
      },
      {
       "output_type": "stream",
       "stream": "stdout",
       "text": [
        "\n",
        "saving debug dump to /home/dmoore/python/sigvisa/logs/mcmc/01627/step_001859..."
       ]
      },
      {
       "output_type": "stream",
       "stream": "stdout",
       "text": [
        "\n",
        "saved pickled graph"
       ]
      },
      {
       "output_type": "stream",
       "stream": "stdout",
       "text": [
        "\n",
        "step 1860: lp -374.81, accepted arrival_time: 0.038%, coda_decay: 0.073%, coda_height: 0.096%, evdepth: 0.474%, evloc: 0.097%, evloc_big: 0.007%, evmb: 0.936%, evtime: 0.427%, indep_peak: 0.003%, peak_decay: 0.337%, peak_offset: 0.158%, , uatemplates: 0 , events: 1 "
       ]
      },
      {
       "output_type": "stream",
       "stream": "stdout",
       "text": [
        "\n",
        "saving debug dump to /home/dmoore/python/sigvisa/logs/mcmc/01627/step_001869..."
       ]
      },
      {
       "output_type": "stream",
       "stream": "stdout",
       "text": [
        "\n",
        "saved pickled graph"
       ]
      },
      {
       "output_type": "stream",
       "stream": "stdout",
       "text": [
        "\n",
        "step 1870: lp -376.99, accepted arrival_time: 0.038%, coda_decay: 0.072%, coda_height: 0.096%, evdepth: 0.475%, evloc: 0.097%, evloc_big: 0.007%, evmb: 0.935%, evtime: 0.428%, indep_peak: 0.003%, peak_decay: 0.336%, peak_offset: 0.158%, , uatemplates: 0 , events: 1 "
       ]
      },
      {
       "output_type": "stream",
       "stream": "stdout",
       "text": [
        "\n",
        "saving debug dump to /home/dmoore/python/sigvisa/logs/mcmc/01627/step_001879..."
       ]
      },
      {
       "output_type": "stream",
       "stream": "stdout",
       "text": [
        "\n",
        "saved pickled graph"
       ]
      },
      {
       "output_type": "stream",
       "stream": "stdout",
       "text": [
        "\n",
        "step 1880: lp -377.26, accepted arrival_time: 0.038%, coda_decay: 0.073%, coda_height: 0.096%, evdepth: 0.474%, evloc: 0.097%, evloc_big: 0.007%, evmb: 0.935%, evtime: 0.429%, indep_peak: 0.003%, peak_decay: 0.336%, peak_offset: 0.159%, , uatemplates: 0 , events: 1 "
       ]
      },
      {
       "output_type": "stream",
       "stream": "stdout",
       "text": [
        "\n",
        "saving debug dump to /home/dmoore/python/sigvisa/logs/mcmc/01627/step_001889..."
       ]
      },
      {
       "output_type": "stream",
       "stream": "stdout",
       "text": [
        "\n",
        "saved pickled graph"
       ]
      },
      {
       "output_type": "stream",
       "stream": "stdout",
       "text": [
        "\n",
        "step 1890: lp -377.81, accepted arrival_time: 0.038%, coda_decay: 0.073%, coda_height: 0.096%, evdepth: 0.474%, evloc: 0.096%, evloc_big: 0.007%, evmb: 0.935%, evtime: 0.429%, indep_peak: 0.003%, peak_decay: 0.336%, peak_offset: 0.159%, , uatemplates: 0 , events: 1 "
       ]
      },
      {
       "output_type": "stream",
       "stream": "stdout",
       "text": [
        "\n",
        "saving debug dump to /home/dmoore/python/sigvisa/logs/mcmc/01627/step_001899..."
       ]
      },
      {
       "output_type": "stream",
       "stream": "stdout",
       "text": [
        "\n",
        "saved pickled graph"
       ]
      },
      {
       "output_type": "stream",
       "stream": "stdout",
       "text": [
        "\n",
        "step 1900: lp -377.57, accepted arrival_time: 0.038%, coda_decay: 0.073%, coda_height: 0.096%, evdepth: 0.474%, evloc: 0.097%, evloc_big: 0.007%, evmb: 0.934%, evtime: 0.428%, indep_peak: 0.003%, peak_decay: 0.336%, peak_offset: 0.159%, , uatemplates: 0 , events: 1 "
       ]
      },
      {
       "output_type": "stream",
       "stream": "stdout",
       "text": [
        "\n",
        "saving debug dump to /home/dmoore/python/sigvisa/logs/mcmc/01627/step_001909..."
       ]
      },
      {
       "output_type": "stream",
       "stream": "stdout",
       "text": [
        "\n",
        "saved pickled graph"
       ]
      },
      {
       "output_type": "stream",
       "stream": "stdout",
       "text": [
        "\n",
        "step 1910: lp -379.53, accepted arrival_time: 0.038%, coda_decay: 0.073%, coda_height: 0.096%, evdepth: 0.473%, evloc: 0.097%, evloc_big: 0.007%, evmb: 0.934%, evtime: 0.428%, indep_peak: 0.003%, peak_decay: 0.336%, peak_offset: 0.159%, , uatemplates: 0 , events: 1 "
       ]
      },
      {
       "output_type": "stream",
       "stream": "stdout",
       "text": [
        "\n",
        "saving debug dump to /home/dmoore/python/sigvisa/logs/mcmc/01627/step_001919..."
       ]
      },
      {
       "output_type": "stream",
       "stream": "stdout",
       "text": [
        "\n",
        "saved pickled graph"
       ]
      },
      {
       "output_type": "stream",
       "stream": "stdout",
       "text": [
        "\n",
        "step 1920: lp -385.06, accepted arrival_time: 0.038%, coda_decay: 0.073%, coda_height: 0.096%, evdepth: 0.473%, evloc: 0.097%, evloc_big: 0.007%, evmb: 0.933%, evtime: 0.427%, indep_peak: 0.003%, peak_decay: 0.336%, peak_offset: 0.158%, , uatemplates: 0 , events: 1 "
       ]
      },
      {
       "output_type": "stream",
       "stream": "stdout",
       "text": [
        "\n",
        "saving debug dump to /home/dmoore/python/sigvisa/logs/mcmc/01627/step_001929..."
       ]
      },
      {
       "output_type": "stream",
       "stream": "stdout",
       "text": [
        "\n",
        "saved pickled graph"
       ]
      },
      {
       "output_type": "stream",
       "stream": "stdout",
       "text": [
        "\n",
        "step 1930: lp -386.40, accepted arrival_time: 0.038%, coda_decay: 0.073%, coda_height: 0.096%, evdepth: 0.473%, evloc: 0.097%, evloc_big: 0.007%, evmb: 0.933%, evtime: 0.427%, indep_peak: 0.003%, peak_decay: 0.336%, peak_offset: 0.158%, , uatemplates: 0 , events: 1 "
       ]
      },
      {
       "output_type": "stream",
       "stream": "stdout",
       "text": [
        "\n",
        "saving debug dump to /home/dmoore/python/sigvisa/logs/mcmc/01627/step_001939..."
       ]
      },
      {
       "output_type": "stream",
       "stream": "stdout",
       "text": [
        "\n",
        "saved pickled graph"
       ]
      },
      {
       "output_type": "stream",
       "stream": "stdout",
       "text": [
        "\n",
        "step 1940: lp -380.77, accepted arrival_time: 0.038%, coda_decay: 0.073%, coda_height: 0.096%, evdepth: 0.474%, evloc: 0.098%, evloc_big: 0.007%, evmb: 0.934%, evtime: 0.427%, indep_peak: 0.003%, peak_decay: 0.337%, peak_offset: 0.158%, , uatemplates: 0 , events: 1 "
       ]
      },
      {
       "output_type": "stream",
       "stream": "stdout",
       "text": [
        "\n",
        "saving debug dump to /home/dmoore/python/sigvisa/logs/mcmc/01627/step_001949..."
       ]
      },
      {
       "output_type": "stream",
       "stream": "stdout",
       "text": [
        "\n",
        "saved pickled graph"
       ]
      },
      {
       "output_type": "stream",
       "stream": "stdout",
       "text": [
        "\n",
        "step 1950: lp -389.36, accepted arrival_time: 0.038%, coda_decay: 0.073%, coda_height: 0.096%, evdepth: 0.474%, evloc: 0.099%, evloc_big: 0.007%, evmb: 0.933%, evtime: 0.428%, indep_peak: 0.003%, peak_decay: 0.337%, peak_offset: 0.158%, , uatemplates: 0 , events: 1 "
       ]
      },
      {
       "output_type": "stream",
       "stream": "stdout",
       "text": [
        "\n",
        "saving debug dump to /home/dmoore/python/sigvisa/logs/mcmc/01627/step_001959..."
       ]
      },
      {
       "output_type": "stream",
       "stream": "stdout",
       "text": [
        "\n",
        "saved pickled graph"
       ]
      },
      {
       "output_type": "stream",
       "stream": "stdout",
       "text": [
        "\n",
        "step 1960: lp -378.43, accepted arrival_time: 0.038%, coda_decay: 0.073%, coda_height: 0.096%, evdepth: 0.476%, evloc: 0.099%, evloc_big: 0.007%, evmb: 0.933%, evtime: 0.428%, indep_peak: 0.003%, peak_decay: 0.337%, peak_offset: 0.158%, , uatemplates: 0 , events: 1 "
       ]
      },
      {
       "output_type": "stream",
       "stream": "stdout",
       "text": [
        "\n",
        "saving debug dump to /home/dmoore/python/sigvisa/logs/mcmc/01627/step_001969..."
       ]
      },
      {
       "output_type": "stream",
       "stream": "stdout",
       "text": [
        "\n",
        "saved pickled graph"
       ]
      },
      {
       "output_type": "stream",
       "stream": "stdout",
       "text": [
        "\n",
        "step 1970: lp -374.38, accepted arrival_time: 0.038%, coda_decay: 0.073%, coda_height: 0.095%, evdepth: 0.477%, evloc: 0.099%, evloc_big: 0.007%, evmb: 0.933%, evtime: 0.429%, indep_peak: 0.003%, peak_decay: 0.337%, peak_offset: 0.158%, , uatemplates: 0 , events: 1 "
       ]
      },
      {
       "output_type": "stream",
       "stream": "stdout",
       "text": [
        "\n",
        "saving debug dump to /home/dmoore/python/sigvisa/logs/mcmc/01627/step_001979..."
       ]
      },
      {
       "output_type": "stream",
       "stream": "stdout",
       "text": [
        "\n",
        "saved pickled graph"
       ]
      },
      {
       "output_type": "stream",
       "stream": "stdout",
       "text": [
        "\n",
        "step 1980: lp -377.11, accepted arrival_time: 0.038%, coda_decay: 0.073%, coda_height: 0.095%, evdepth: 0.478%, evloc: 0.099%, evloc_big: 0.007%, evmb: 0.933%, evtime: 0.429%, indep_peak: 0.003%, peak_decay: 0.337%, peak_offset: 0.158%, , uatemplates: 0 , events: 1 "
       ]
      },
      {
       "output_type": "stream",
       "stream": "stdout",
       "text": [
        "\n",
        "saving debug dump to /home/dmoore/python/sigvisa/logs/mcmc/01627/step_001989..."
       ]
      },
      {
       "output_type": "stream",
       "stream": "stdout",
       "text": [
        "\n",
        "saved pickled graph"
       ]
      },
      {
       "output_type": "stream",
       "stream": "stdout",
       "text": [
        "\n",
        "step 1990: lp -375.82, accepted arrival_time: 0.038%, coda_decay: 0.073%, coda_height: 0.095%, evdepth: 0.479%, evloc: 0.099%, evloc_big: 0.007%, evmb: 0.934%, evtime: 0.428%, indep_peak: 0.003%, peak_decay: 0.336%, peak_offset: 0.157%, , uatemplates: 0 , events: 1 "
       ]
      },
      {
       "output_type": "stream",
       "stream": "stdout",
       "text": [
        "\n",
        "saving debug dump to /home/dmoore/python/sigvisa/logs/mcmc/01627/step_001999..."
       ]
      },
      {
       "output_type": "stream",
       "stream": "stdout",
       "text": [
        "\n",
        "saved pickled graph"
       ]
      },
      {
       "output_type": "stream",
       "stream": "stdout",
       "text": [
        "\n",
        "step 2000: lp -380.18, accepted arrival_time: 0.038%, coda_decay: 0.073%, coda_height: 0.095%, evdepth: 0.480%, evloc: 0.099%, evloc_big: 0.007%, evmb: 0.934%, evtime: 0.429%, indep_peak: 0.003%, peak_decay: 0.337%, peak_offset: 0.158%, , uatemplates: 0 , events: 1 "
       ]
      },
      {
       "output_type": "stream",
       "stream": "stdout",
       "text": [
        "\n",
        "saving debug dump to /home/dmoore/python/sigvisa/logs/mcmc/01627/step_002009..."
       ]
      },
      {
       "output_type": "stream",
       "stream": "stdout",
       "text": [
        "\n",
        "saved pickled graph"
       ]
      },
      {
       "output_type": "stream",
       "stream": "stdout",
       "text": [
        "\n",
        "step 2010: lp -377.73, accepted arrival_time: 0.038%, coda_decay: 0.073%, coda_height: 0.095%, evdepth: 0.481%, evloc: 0.100%, evloc_big: 0.007%, evmb: 0.934%, evtime: 0.429%, indep_peak: 0.003%, peak_decay: 0.336%, peak_offset: 0.158%, , uatemplates: 0 , events: 1 "
       ]
      },
      {
       "output_type": "stream",
       "stream": "stdout",
       "text": [
        "\n",
        "saving debug dump to /home/dmoore/python/sigvisa/logs/mcmc/01627/step_002019..."
       ]
      },
      {
       "output_type": "stream",
       "stream": "stdout",
       "text": [
        "\n",
        "saved pickled graph"
       ]
      },
      {
       "output_type": "stream",
       "stream": "stdout",
       "text": [
        "\n",
        "step 2020: lp -375.56, accepted arrival_time: 0.038%, coda_decay: 0.072%, coda_height: 0.095%, evdepth: 0.480%, evloc: 0.100%, evloc_big: 0.007%, evmb: 0.934%, evtime: 0.429%, indep_peak: 0.003%, peak_decay: 0.337%, peak_offset: 0.157%, , uatemplates: 0 , events: 1 "
       ]
      },
      {
       "output_type": "stream",
       "stream": "stdout",
       "text": [
        "\n",
        "saving debug dump to /home/dmoore/python/sigvisa/logs/mcmc/01627/step_002029..."
       ]
      },
      {
       "output_type": "stream",
       "stream": "stdout",
       "text": [
        "\n",
        "saved pickled graph"
       ]
      },
      {
       "output_type": "stream",
       "stream": "stdout",
       "text": [
        "\n",
        "step 2030: lp -375.28, accepted arrival_time: 0.038%, coda_decay: 0.072%, coda_height: 0.095%, evdepth: 0.481%, evloc: 0.101%, evloc_big: 0.007%, evmb: 0.935%, evtime: 0.429%, indep_peak: 0.003%, peak_decay: 0.337%, peak_offset: 0.157%, , uatemplates: 0 , events: 1 "
       ]
      },
      {
       "output_type": "stream",
       "stream": "stdout",
       "text": [
        "\n",
        "saving debug dump to /home/dmoore/python/sigvisa/logs/mcmc/01627/step_002039..."
       ]
      },
      {
       "output_type": "stream",
       "stream": "stdout",
       "text": [
        "\n",
        "saved pickled graph"
       ]
      },
      {
       "output_type": "stream",
       "stream": "stdout",
       "text": [
        "\n",
        "step 2040: lp -380.04, accepted arrival_time: 0.037%, coda_decay: 0.072%, coda_height: 0.095%, evdepth: 0.482%, evloc: 0.102%, evloc_big: 0.007%, evmb: 0.935%, evtime: 0.429%, indep_peak: 0.003%, peak_decay: 0.337%, peak_offset: 0.157%, , uatemplates: 0 , events: 1 "
       ]
      },
      {
       "output_type": "stream",
       "stream": "stdout",
       "text": [
        "\n",
        "saving debug dump to /home/dmoore/python/sigvisa/logs/mcmc/01627/step_002049..."
       ]
      },
      {
       "output_type": "stream",
       "stream": "stdout",
       "text": [
        "\n",
        "saved pickled graph"
       ]
      },
      {
       "output_type": "stream",
       "stream": "stdout",
       "text": [
        "\n",
        "step 2050: lp -374.78, accepted arrival_time: 0.037%, coda_decay: 0.072%, coda_height: 0.095%, evdepth: 0.482%, evloc: 0.102%, evloc_big: 0.007%, evmb: 0.935%, evtime: 0.430%, indep_peak: 0.003%, peak_decay: 0.337%, peak_offset: 0.157%, , uatemplates: 0 , events: 1 "
       ]
      },
      {
       "output_type": "stream",
       "stream": "stdout",
       "text": [
        "\n",
        "saving debug dump to /home/dmoore/python/sigvisa/logs/mcmc/01627/step_002059..."
       ]
      },
      {
       "output_type": "stream",
       "stream": "stdout",
       "text": [
        "\n",
        "saved pickled graph"
       ]
      },
      {
       "output_type": "stream",
       "stream": "stdout",
       "text": [
        "\n",
        "step 2060: lp -380.09, accepted arrival_time: 0.037%, coda_decay: 0.072%, coda_height: 0.095%, evdepth: 0.482%, evloc: 0.102%, evloc_big: 0.007%, evmb: 0.935%, evtime: 0.430%, indep_peak: 0.003%, peak_decay: 0.337%, peak_offset: 0.157%, , uatemplates: 0 , events: 1 "
       ]
      },
      {
       "output_type": "stream",
       "stream": "stdout",
       "text": [
        "\n",
        "saving debug dump to /home/dmoore/python/sigvisa/logs/mcmc/01627/step_002069..."
       ]
      },
      {
       "output_type": "stream",
       "stream": "stdout",
       "text": [
        "\n",
        "saved pickled graph"
       ]
      },
      {
       "output_type": "stream",
       "stream": "stdout",
       "text": [
        "\n",
        "step 2070: lp -379.99, accepted arrival_time: 0.037%, coda_decay: 0.072%, coda_height: 0.094%, evdepth: 0.481%, evloc: 0.102%, evloc_big: 0.007%, evmb: 0.936%, evtime: 0.431%, indep_peak: 0.003%, peak_decay: 0.337%, peak_offset: 0.157%, , uatemplates: 0 , events: 1 "
       ]
      },
      {
       "output_type": "stream",
       "stream": "stdout",
       "text": [
        "\n",
        "saving debug dump to /home/dmoore/python/sigvisa/logs/mcmc/01627/step_002079..."
       ]
      },
      {
       "output_type": "stream",
       "stream": "stdout",
       "text": [
        "\n",
        "saved pickled graph"
       ]
      },
      {
       "output_type": "stream",
       "stream": "stdout",
       "text": [
        "\n",
        "step 2080: lp -381.89, accepted arrival_time: 0.038%, coda_decay: 0.072%, coda_height: 0.094%, evdepth: 0.480%, evloc: 0.101%, evloc_big: 0.007%, evmb: 0.935%, evtime: 0.430%, indep_peak: 0.003%, peak_decay: 0.337%, peak_offset: 0.157%, , uatemplates: 0 , events: 1 "
       ]
      },
      {
       "output_type": "stream",
       "stream": "stdout",
       "text": [
        "\n",
        "saving debug dump to /home/dmoore/python/sigvisa/logs/mcmc/01627/step_002089..."
       ]
      },
      {
       "output_type": "stream",
       "stream": "stdout",
       "text": [
        "\n",
        "saved pickled graph"
       ]
      },
      {
       "output_type": "stream",
       "stream": "stdout",
       "text": [
        "\n",
        "step 2090: lp -371.83, accepted arrival_time: 0.038%, coda_decay: 0.072%, coda_height: 0.095%, evdepth: 0.481%, evloc: 0.101%, evloc_big: 0.007%, evmb: 0.935%, evtime: 0.429%, indep_peak: 0.003%, peak_decay: 0.337%, peak_offset: 0.157%, , uatemplates: 0 , events: 1 "
       ]
      },
      {
       "output_type": "stream",
       "stream": "stdout",
       "text": [
        "\n",
        "saving debug dump to /home/dmoore/python/sigvisa/logs/mcmc/01627/step_002099..."
       ]
      },
      {
       "output_type": "stream",
       "stream": "stdout",
       "text": [
        "\n",
        "saved pickled graph"
       ]
      },
      {
       "output_type": "stream",
       "stream": "stdout",
       "text": [
        "\n",
        "step 2100: lp -374.34, accepted arrival_time: 0.038%, coda_decay: 0.072%, coda_height: 0.094%, evdepth: 0.481%, evloc: 0.100%, evloc_big: 0.007%, evmb: 0.935%, evtime: 0.430%, indep_peak: 0.003%, peak_decay: 0.337%, peak_offset: 0.157%, , uatemplates: 0 , events: 1 "
       ]
      },
      {
       "output_type": "stream",
       "stream": "stdout",
       "text": [
        "\n",
        "saving debug dump to /home/dmoore/python/sigvisa/logs/mcmc/01627/step_002109..."
       ]
      },
      {
       "output_type": "stream",
       "stream": "stdout",
       "text": [
        "\n",
        "saved pickled graph"
       ]
      },
      {
       "output_type": "stream",
       "stream": "stdout",
       "text": [
        "\n",
        "step 2110: lp -374.06, accepted arrival_time: 0.038%, coda_decay: 0.072%, coda_height: 0.094%, evdepth: 0.481%, evloc: 0.100%, evloc_big: 0.007%, evmb: 0.935%, evtime: 0.430%, indep_peak: 0.003%, peak_decay: 0.336%, peak_offset: 0.157%, , uatemplates: 0 , events: 1 "
       ]
      },
      {
       "output_type": "stream",
       "stream": "stdout",
       "text": [
        "\n",
        "saving debug dump to /home/dmoore/python/sigvisa/logs/mcmc/01627/step_002119..."
       ]
      },
      {
       "output_type": "stream",
       "stream": "stdout",
       "text": [
        "\n",
        "saved pickled graph"
       ]
      },
      {
       "output_type": "stream",
       "stream": "stdout",
       "text": [
        "\n",
        "step 2120: lp -375.29, accepted arrival_time: 0.037%, coda_decay: 0.072%, coda_height: 0.094%, evdepth: 0.482%, evloc: 0.100%, evloc_big: 0.007%, evmb: 0.935%, evtime: 0.430%, indep_peak: 0.003%, peak_decay: 0.336%, peak_offset: 0.157%, , uatemplates: 0 , events: 1 "
       ]
      },
      {
       "output_type": "stream",
       "stream": "stdout",
       "text": [
        "\n",
        "saving debug dump to /home/dmoore/python/sigvisa/logs/mcmc/01627/step_002129..."
       ]
      },
      {
       "output_type": "stream",
       "stream": "stdout",
       "text": [
        "\n",
        "saved pickled graph"
       ]
      },
      {
       "output_type": "stream",
       "stream": "stdout",
       "text": [
        "\n",
        "step 2130: lp -380.82, accepted arrival_time: 0.037%, coda_decay: 0.072%, coda_height: 0.094%, evdepth: 0.482%, evloc: 0.099%, evloc_big: 0.007%, evmb: 0.935%, evtime: 0.430%, indep_peak: 0.003%, peak_decay: 0.336%, peak_offset: 0.157%, , uatemplates: 0 , events: 1 "
       ]
      },
      {
       "output_type": "stream",
       "stream": "stdout",
       "text": [
        "\n",
        "saving debug dump to /home/dmoore/python/sigvisa/logs/mcmc/01627/step_002139..."
       ]
      },
      {
       "output_type": "stream",
       "stream": "stdout",
       "text": [
        "\n",
        "saved pickled graph"
       ]
      },
      {
       "output_type": "stream",
       "stream": "stdout",
       "text": [
        "\n",
        "step 2140: lp -373.16, accepted arrival_time: 0.037%, coda_decay: 0.072%, coda_height: 0.094%, evdepth: 0.482%, evloc: 0.099%, evloc_big: 0.007%, evmb: 0.936%, evtime: 0.430%, indep_peak: 0.003%, peak_decay: 0.337%, peak_offset: 0.157%, , uatemplates: 0 , events: 1 "
       ]
      },
      {
       "output_type": "stream",
       "stream": "stdout",
       "text": [
        "\n",
        "saving debug dump to /home/dmoore/python/sigvisa/logs/mcmc/01627/step_002149..."
       ]
      },
      {
       "output_type": "stream",
       "stream": "stdout",
       "text": [
        "\n",
        "saved pickled graph"
       ]
      },
      {
       "output_type": "stream",
       "stream": "stdout",
       "text": [
        "\n",
        "step 2150: lp -377.86, accepted arrival_time: 0.037%, coda_decay: 0.072%, coda_height: 0.094%, evdepth: 0.482%, evloc: 0.099%, evloc_big: 0.007%, evmb: 0.936%, evtime: 0.429%, indep_peak: 0.003%, peak_decay: 0.337%, peak_offset: 0.157%, , uatemplates: 0 , events: 1 "
       ]
      },
      {
       "output_type": "stream",
       "stream": "stdout",
       "text": [
        "\n",
        "saving debug dump to /home/dmoore/python/sigvisa/logs/mcmc/01627/step_002159..."
       ]
      },
      {
       "output_type": "stream",
       "stream": "stdout",
       "text": [
        "\n",
        "saved pickled graph"
       ]
      },
      {
       "output_type": "stream",
       "stream": "stdout",
       "text": [
        "\n",
        "step 2160: lp -376.67, accepted arrival_time: 0.037%, coda_decay: 0.072%, coda_height: 0.094%, evdepth: 0.481%, evloc: 0.099%, evloc_big: 0.006%, evmb: 0.936%, evtime: 0.430%, indep_peak: 0.003%, peak_decay: 0.337%, peak_offset: 0.157%, , uatemplates: 0 , events: 1 "
       ]
      },
      {
       "output_type": "stream",
       "stream": "stdout",
       "text": [
        "\n",
        "saving debug dump to /home/dmoore/python/sigvisa/logs/mcmc/01627/step_002169..."
       ]
      },
      {
       "output_type": "stream",
       "stream": "stdout",
       "text": [
        "\n",
        "saved pickled graph"
       ]
      },
      {
       "output_type": "stream",
       "stream": "stdout",
       "text": [
        "\n",
        "step 2170: lp -375.17, accepted arrival_time: 0.037%, coda_decay: 0.072%, coda_height: 0.094%, evdepth: 0.482%, evloc: 0.099%, evloc_big: 0.006%, evmb: 0.936%, evtime: 0.431%, indep_peak: 0.003%, peak_decay: 0.337%, peak_offset: 0.157%, , uatemplates: 0 , events: 1 "
       ]
      },
      {
       "output_type": "stream",
       "stream": "stdout",
       "text": [
        "\n",
        "saving debug dump to /home/dmoore/python/sigvisa/logs/mcmc/01627/step_002179..."
       ]
      },
      {
       "output_type": "stream",
       "stream": "stdout",
       "text": [
        "\n",
        "saved pickled graph"
       ]
      },
      {
       "output_type": "stream",
       "stream": "stdout",
       "text": [
        "\n",
        "step 2180: lp -377.93, accepted arrival_time: 0.037%, coda_decay: 0.072%, coda_height: 0.093%, evdepth: 0.481%, evloc: 0.099%, evloc_big: 0.006%, evmb: 0.936%, evtime: 0.430%, indep_peak: 0.003%, peak_decay: 0.336%, peak_offset: 0.157%, , uatemplates: 0 , events: 1 "
       ]
      },
      {
       "output_type": "stream",
       "stream": "stdout",
       "text": [
        "\n",
        "saving debug dump to /home/dmoore/python/sigvisa/logs/mcmc/01627/step_002189..."
       ]
      },
      {
       "output_type": "stream",
       "stream": "stdout",
       "text": [
        "\n",
        "saved pickled graph"
       ]
      },
      {
       "output_type": "stream",
       "stream": "stdout",
       "text": [
        "\n",
        "step 2190: lp -385.32, accepted arrival_time: 0.037%, coda_decay: 0.072%, coda_height: 0.093%, evdepth: 0.481%, evloc: 0.099%, evloc_big: 0.006%, evmb: 0.937%, evtime: 0.429%, indep_peak: 0.003%, peak_decay: 0.336%, peak_offset: 0.157%, , uatemplates: 0 , events: 1 "
       ]
      },
      {
       "output_type": "stream",
       "stream": "stdout",
       "text": [
        "\n",
        "saving debug dump to /home/dmoore/python/sigvisa/logs/mcmc/01627/step_002199..."
       ]
      },
      {
       "output_type": "stream",
       "stream": "stdout",
       "text": [
        "\n",
        "saved pickled graph"
       ]
      },
      {
       "output_type": "stream",
       "stream": "stdout",
       "text": [
        "\n",
        "step 2200: lp -376.97, accepted arrival_time: 0.037%, coda_decay: 0.072%, coda_height: 0.093%, evdepth: 0.481%, evloc: 0.100%, evloc_big: 0.006%, evmb: 0.937%, evtime: 0.430%, indep_peak: 0.003%, peak_decay: 0.336%, peak_offset: 0.157%, , uatemplates: 0 , events: 1 "
       ]
      },
      {
       "output_type": "stream",
       "stream": "stdout",
       "text": [
        "\n",
        "saving debug dump to /home/dmoore/python/sigvisa/logs/mcmc/01627/step_002209..."
       ]
      },
      {
       "output_type": "stream",
       "stream": "stdout",
       "text": [
        "\n",
        "saved pickled graph"
       ]
      },
      {
       "output_type": "stream",
       "stream": "stdout",
       "text": [
        "\n",
        "step 2210: lp -377.74, accepted arrival_time: 0.037%, coda_decay: 0.072%, coda_height: 0.093%, evdepth: 0.482%, evloc: 0.100%, evloc_big: 0.006%, evmb: 0.937%, evtime: 0.430%, indep_peak: 0.003%, peak_decay: 0.335%, peak_offset: 0.157%, , uatemplates: 0 , events: 1 "
       ]
      },
      {
       "output_type": "stream",
       "stream": "stdout",
       "text": [
        "\n",
        "saving debug dump to /home/dmoore/python/sigvisa/logs/mcmc/01627/step_002219..."
       ]
      },
      {
       "output_type": "stream",
       "stream": "stdout",
       "text": [
        "\n",
        "saved pickled graph"
       ]
      },
      {
       "output_type": "stream",
       "stream": "stdout",
       "text": [
        "\n",
        "step 2220: lp -378.87, accepted arrival_time: 0.037%, coda_decay: 0.072%, coda_height: 0.093%, evdepth: 0.482%, evloc: 0.099%, evloc_big: 0.006%, evmb: 0.937%, evtime: 0.430%, indep_peak: 0.003%, peak_decay: 0.335%, peak_offset: 0.156%, , uatemplates: 0 , events: 1 "
       ]
      },
      {
       "output_type": "stream",
       "stream": "stdout",
       "text": [
        "\n",
        "saving debug dump to /home/dmoore/python/sigvisa/logs/mcmc/01627/step_002229..."
       ]
      },
      {
       "output_type": "stream",
       "stream": "stdout",
       "text": [
        "\n",
        "saved pickled graph"
       ]
      },
      {
       "output_type": "stream",
       "stream": "stdout",
       "text": [
        "\n",
        "step 2230: lp -379.39, accepted arrival_time: 0.037%, coda_decay: 0.072%, coda_height: 0.093%, evdepth: 0.482%, evloc: 0.100%, evloc_big: 0.006%, evmb: 0.937%, evtime: 0.429%, indep_peak: 0.003%, peak_decay: 0.336%, peak_offset: 0.156%, , uatemplates: 0 , events: 1 "
       ]
      },
      {
       "output_type": "stream",
       "stream": "stdout",
       "text": [
        "\n",
        "saving debug dump to /home/dmoore/python/sigvisa/logs/mcmc/01627/step_002239..."
       ]
      },
      {
       "output_type": "stream",
       "stream": "stdout",
       "text": [
        "\n",
        "saved pickled graph"
       ]
      },
      {
       "output_type": "stream",
       "stream": "stdout",
       "text": [
        "\n",
        "step 2240: lp -377.26, accepted arrival_time: 0.037%, coda_decay: 0.072%, coda_height: 0.093%, evdepth: 0.482%, evloc: 0.099%, evloc_big: 0.006%, evmb: 0.938%, evtime: 0.429%, indep_peak: 0.003%, peak_decay: 0.336%, peak_offset: 0.156%, , uatemplates: 0 , events: 1 "
       ]
      },
      {
       "output_type": "stream",
       "stream": "stdout",
       "text": [
        "\n",
        "saving debug dump to /home/dmoore/python/sigvisa/logs/mcmc/01627/step_002249..."
       ]
      },
      {
       "output_type": "stream",
       "stream": "stdout",
       "text": [
        "\n",
        "saved pickled graph"
       ]
      },
      {
       "output_type": "stream",
       "stream": "stdout",
       "text": [
        "\n",
        "step 2250: lp -375.61, accepted arrival_time: 0.037%, coda_decay: 0.072%, coda_height: 0.093%, evdepth: 0.482%, evloc: 0.099%, evloc_big: 0.007%, evmb: 0.938%, evtime: 0.428%, indep_peak: 0.003%, peak_decay: 0.336%, peak_offset: 0.157%, , uatemplates: 0 , events: 1 "
       ]
      },
      {
       "output_type": "stream",
       "stream": "stdout",
       "text": [
        "\n",
        "saving debug dump to /home/dmoore/python/sigvisa/logs/mcmc/01627/step_002259..."
       ]
      },
      {
       "output_type": "stream",
       "stream": "stdout",
       "text": [
        "\n",
        "saved pickled graph"
       ]
      },
      {
       "output_type": "stream",
       "stream": "stdout",
       "text": [
        "\n",
        "step 2260: lp -381.80, accepted arrival_time: 0.037%, coda_decay: 0.071%, coda_height: 0.093%, evdepth: 0.483%, evloc: 0.099%, evloc_big: 0.007%, evmb: 0.938%, evtime: 0.428%, indep_peak: 0.003%, peak_decay: 0.336%, peak_offset: 0.156%, , uatemplates: 0 , events: 1 "
       ]
      },
      {
       "output_type": "stream",
       "stream": "stdout",
       "text": [
        "\n",
        "saving debug dump to /home/dmoore/python/sigvisa/logs/mcmc/01627/step_002269..."
       ]
      },
      {
       "output_type": "stream",
       "stream": "stdout",
       "text": [
        "\n",
        "saved pickled graph"
       ]
      },
      {
       "output_type": "stream",
       "stream": "stdout",
       "text": [
        "\n",
        "step 2270: lp -378.11, accepted arrival_time: 0.037%, coda_decay: 0.071%, coda_height: 0.093%, evdepth: 0.484%, evloc: 0.099%, evloc_big: 0.007%, evmb: 0.938%, evtime: 0.429%, indep_peak: 0.003%, peak_decay: 0.336%, peak_offset: 0.156%, , uatemplates: 0 , events: 1 "
       ]
      },
      {
       "output_type": "stream",
       "stream": "stdout",
       "text": [
        "\n",
        "saving debug dump to /home/dmoore/python/sigvisa/logs/mcmc/01627/step_002279..."
       ]
      },
      {
       "output_type": "stream",
       "stream": "stdout",
       "text": [
        "\n",
        "saved pickled graph"
       ]
      },
      {
       "output_type": "stream",
       "stream": "stdout",
       "text": [
        "\n",
        "step 2280: lp -374.06, accepted arrival_time: 0.037%, coda_decay: 0.071%, coda_height: 0.093%, evdepth: 0.484%, evloc: 0.099%, evloc_big: 0.007%, evmb: 0.939%, evtime: 0.430%, indep_peak: 0.003%, peak_decay: 0.336%, peak_offset: 0.157%, , uatemplates: 0 , events: 1 "
       ]
      },
      {
       "output_type": "stream",
       "stream": "stdout",
       "text": [
        "\n",
        "saving debug dump to /home/dmoore/python/sigvisa/logs/mcmc/01627/step_002289..."
       ]
      },
      {
       "output_type": "stream",
       "stream": "stdout",
       "text": [
        "\n",
        "saved pickled graph"
       ]
      },
      {
       "output_type": "stream",
       "stream": "stdout",
       "text": [
        "\n",
        "step 2290: lp -377.30, accepted arrival_time: 0.037%, coda_decay: 0.071%, coda_height: 0.093%, evdepth: 0.484%, evloc: 0.099%, evloc_big: 0.007%, evmb: 0.939%, evtime: 0.430%, indep_peak: 0.003%, peak_decay: 0.336%, peak_offset: 0.157%, , uatemplates: 0 , events: 1 "
       ]
      },
      {
       "output_type": "stream",
       "stream": "stdout",
       "text": [
        "\n",
        "saving debug dump to /home/dmoore/python/sigvisa/logs/mcmc/01627/step_002299..."
       ]
      },
      {
       "output_type": "stream",
       "stream": "stdout",
       "text": [
        "\n",
        "saved pickled graph"
       ]
      },
      {
       "output_type": "stream",
       "stream": "stdout",
       "text": [
        "\n",
        "step 2300: lp -374.64, accepted arrival_time: 0.037%, coda_decay: 0.071%, coda_height: 0.093%, evdepth: 0.485%, evloc: 0.098%, evloc_big: 0.007%, evmb: 0.939%, evtime: 0.431%, indep_peak: 0.003%, peak_decay: 0.336%, peak_offset: 0.157%, , uatemplates: 0 , events: 1 "
       ]
      },
      {
       "output_type": "stream",
       "stream": "stdout",
       "text": [
        "\n",
        "saving debug dump to /home/dmoore/python/sigvisa/logs/mcmc/01627/step_002309..."
       ]
      },
      {
       "output_type": "stream",
       "stream": "stdout",
       "text": [
        "\n",
        "saved pickled graph"
       ]
      },
      {
       "output_type": "stream",
       "stream": "stdout",
       "text": [
        "\n",
        "step 2310: lp -380.71, accepted arrival_time: 0.037%, coda_decay: 0.071%, coda_height: 0.093%, evdepth: 0.485%, evloc: 0.098%, evloc_big: 0.006%, evmb: 0.939%, evtime: 0.430%, indep_peak: 0.003%, peak_decay: 0.335%, peak_offset: 0.157%, , uatemplates: 0 , events: 1 "
       ]
      },
      {
       "output_type": "stream",
       "stream": "stdout",
       "text": [
        "\n",
        "saving debug dump to /home/dmoore/python/sigvisa/logs/mcmc/01627/step_002319..."
       ]
      },
      {
       "output_type": "stream",
       "stream": "stdout",
       "text": [
        "\n",
        "saved pickled graph"
       ]
      },
      {
       "output_type": "stream",
       "stream": "stdout",
       "text": [
        "\n",
        "step 2320: lp -383.24, accepted arrival_time: 0.037%, coda_decay: 0.071%, coda_height: 0.093%, evdepth: 0.485%, evloc: 0.099%, evloc_big: 0.006%, evmb: 0.939%, evtime: 0.430%, indep_peak: 0.003%, peak_decay: 0.335%, peak_offset: 0.157%, , uatemplates: 0 , events: 1 "
       ]
      },
      {
       "output_type": "stream",
       "stream": "stdout",
       "text": [
        "\n",
        "saving debug dump to /home/dmoore/python/sigvisa/logs/mcmc/01627/step_002329..."
       ]
      },
      {
       "output_type": "stream",
       "stream": "stdout",
       "text": [
        "\n",
        "saved pickled graph"
       ]
      },
      {
       "output_type": "stream",
       "stream": "stdout",
       "text": [
        "\n",
        "step 2330: lp -376.77, accepted arrival_time: 0.037%, coda_decay: 0.070%, coda_height: 0.093%, evdepth: 0.484%, evloc: 0.098%, evloc_big: 0.006%, evmb: 0.939%, evtime: 0.430%, indep_peak: 0.003%, peak_decay: 0.336%, peak_offset: 0.157%, , uatemplates: 0 , events: 1 "
       ]
      },
      {
       "output_type": "stream",
       "stream": "stdout",
       "text": [
        "\n",
        "saving debug dump to /home/dmoore/python/sigvisa/logs/mcmc/01627/step_002339..."
       ]
      },
      {
       "output_type": "stream",
       "stream": "stdout",
       "text": [
        "\n",
        "saved pickled graph"
       ]
      },
      {
       "output_type": "stream",
       "stream": "stdout",
       "text": [
        "\n",
        "step 2340: lp -379.84, accepted arrival_time: 0.037%, coda_decay: 0.070%, coda_height: 0.093%, evdepth: 0.484%, evloc: 0.098%, evloc_big: 0.006%, evmb: 0.939%, evtime: 0.430%, indep_peak: 0.003%, peak_decay: 0.336%, peak_offset: 0.157%, , uatemplates: 0 , events: 1 "
       ]
      },
      {
       "output_type": "stream",
       "stream": "stdout",
       "text": [
        "\n",
        "saving debug dump to /home/dmoore/python/sigvisa/logs/mcmc/01627/step_002349..."
       ]
      },
      {
       "output_type": "stream",
       "stream": "stdout",
       "text": [
        "\n",
        "saved pickled graph"
       ]
      },
      {
       "output_type": "stream",
       "stream": "stdout",
       "text": [
        "\n",
        "step 2350: lp -382.19, accepted arrival_time: 0.037%, coda_decay: 0.070%, coda_height: 0.093%, evdepth: 0.484%, evloc: 0.098%, evloc_big: 0.006%, evmb: 0.939%, evtime: 0.429%, indep_peak: 0.003%, peak_decay: 0.336%, peak_offset: 0.157%, , uatemplates: 0 , events: 1 "
       ]
      },
      {
       "output_type": "stream",
       "stream": "stdout",
       "text": [
        "\n",
        "saving debug dump to /home/dmoore/python/sigvisa/logs/mcmc/01627/step_002359..."
       ]
      },
      {
       "output_type": "stream",
       "stream": "stdout",
       "text": [
        "\n",
        "saved pickled graph"
       ]
      },
      {
       "output_type": "stream",
       "stream": "stdout",
       "text": [
        "\n",
        "step 2360: lp -391.60, accepted arrival_time: 0.037%, coda_decay: 0.070%, coda_height: 0.093%, evdepth: 0.484%, evloc: 0.097%, evloc_big: 0.006%, evmb: 0.939%, evtime: 0.429%, indep_peak: 0.003%, peak_decay: 0.336%, peak_offset: 0.157%, , uatemplates: 0 , events: 1 "
       ]
      },
      {
       "output_type": "stream",
       "stream": "stdout",
       "text": [
        "\n",
        "saving debug dump to /home/dmoore/python/sigvisa/logs/mcmc/01627/step_002369..."
       ]
      },
      {
       "output_type": "stream",
       "stream": "stdout",
       "text": [
        "\n",
        "saved pickled graph"
       ]
      },
      {
       "output_type": "stream",
       "stream": "stdout",
       "text": [
        "\n",
        "step 2370: lp -382.50, accepted arrival_time: 0.037%, coda_decay: 0.070%, coda_height: 0.093%, evdepth: 0.485%, evloc: 0.097%, evloc_big: 0.006%, evmb: 0.939%, evtime: 0.429%, indep_peak: 0.003%, peak_decay: 0.336%, peak_offset: 0.157%, , uatemplates: 0 , events: 1 "
       ]
      },
      {
       "output_type": "stream",
       "stream": "stdout",
       "text": [
        "\n",
        "saving debug dump to /home/dmoore/python/sigvisa/logs/mcmc/01627/step_002379..."
       ]
      },
      {
       "output_type": "stream",
       "stream": "stdout",
       "text": [
        "\n",
        "saved pickled graph"
       ]
      },
      {
       "output_type": "stream",
       "stream": "stdout",
       "text": [
        "\n",
        "step 2380: lp -384.00, accepted arrival_time: 0.037%, coda_decay: 0.070%, coda_height: 0.093%, evdepth: 0.485%, evloc: 0.097%, evloc_big: 0.006%, evmb: 0.939%, evtime: 0.429%, indep_peak: 0.003%, peak_decay: 0.336%, peak_offset: 0.157%, , uatemplates: 0 , events: 1 "
       ]
      },
      {
       "output_type": "stream",
       "stream": "stdout",
       "text": [
        "\n",
        "saving debug dump to /home/dmoore/python/sigvisa/logs/mcmc/01627/step_002389..."
       ]
      },
      {
       "output_type": "stream",
       "stream": "stdout",
       "text": [
        "\n",
        "saved pickled graph"
       ]
      },
      {
       "output_type": "stream",
       "stream": "stdout",
       "text": [
        "\n",
        "step 2390: lp -383.24, accepted arrival_time: 0.037%, coda_decay: 0.070%, coda_height: 0.093%, evdepth: 0.484%, evloc: 0.097%, evloc_big: 0.007%, evmb: 0.939%, evtime: 0.428%, indep_peak: 0.003%, peak_decay: 0.336%, peak_offset: 0.157%, , uatemplates: 0 , events: 1 "
       ]
      },
      {
       "output_type": "stream",
       "stream": "stdout",
       "text": [
        "\n",
        "saving debug dump to /home/dmoore/python/sigvisa/logs/mcmc/01627/step_002399..."
       ]
      },
      {
       "output_type": "stream",
       "stream": "stdout",
       "text": [
        "\n",
        "saved pickled graph"
       ]
      },
      {
       "output_type": "stream",
       "stream": "stdout",
       "text": [
        "\n",
        "step 2400: lp -377.39, accepted arrival_time: 0.037%, coda_decay: 0.070%, coda_height: 0.093%, evdepth: 0.485%, evloc: 0.097%, evloc_big: 0.007%, evmb: 0.939%, evtime: 0.429%, indep_peak: 0.003%, peak_decay: 0.336%, peak_offset: 0.157%, , uatemplates: 0 , events: 1 "
       ]
      },
      {
       "output_type": "stream",
       "stream": "stdout",
       "text": [
        "\n",
        "saving debug dump to /home/dmoore/python/sigvisa/logs/mcmc/01627/step_002409..."
       ]
      },
      {
       "output_type": "stream",
       "stream": "stdout",
       "text": [
        "\n",
        "saved pickled graph"
       ]
      },
      {
       "output_type": "stream",
       "stream": "stdout",
       "text": [
        "\n",
        "step 2410: lp -384.81, accepted arrival_time: 0.038%, coda_decay: 0.071%, coda_height: 0.093%, evdepth: 0.485%, evloc: 0.098%, evloc_big: 0.007%, evmb: 0.939%, evtime: 0.429%, indep_peak: 0.003%, peak_decay: 0.336%, peak_offset: 0.156%, , uatemplates: 0 , events: 1 "
       ]
      },
      {
       "output_type": "stream",
       "stream": "stdout",
       "text": [
        "\n",
        "saving debug dump to /home/dmoore/python/sigvisa/logs/mcmc/01627/step_002419..."
       ]
      },
      {
       "output_type": "stream",
       "stream": "stdout",
       "text": [
        "\n",
        "saved pickled graph"
       ]
      },
      {
       "output_type": "stream",
       "stream": "stdout",
       "text": [
        "\n",
        "step 2420: lp -385.08, accepted arrival_time: 0.038%, coda_decay: 0.070%, coda_height: 0.093%, evdepth: 0.485%, evloc: 0.098%, evloc_big: 0.007%, evmb: 0.940%, evtime: 0.429%, indep_peak: 0.003%, peak_decay: 0.337%, peak_offset: 0.157%, , uatemplates: 0 , events: 1 "
       ]
      },
      {
       "output_type": "stream",
       "stream": "stdout",
       "text": [
        "\n",
        "saving debug dump to /home/dmoore/python/sigvisa/logs/mcmc/01627/step_002429..."
       ]
      },
      {
       "output_type": "stream",
       "stream": "stdout",
       "text": [
        "\n",
        "saved pickled graph"
       ]
      },
      {
       "output_type": "stream",
       "stream": "stdout",
       "text": [
        "\n",
        "step 2430: lp -382.36, accepted arrival_time: 0.038%, coda_decay: 0.070%, coda_height: 0.093%, evdepth: 0.486%, evloc: 0.097%, evloc_big: 0.007%, evmb: 0.940%, evtime: 0.429%, indep_peak: 0.003%, peak_decay: 0.337%, peak_offset: 0.156%, , uatemplates: 0 , events: 1 "
       ]
      },
      {
       "output_type": "stream",
       "stream": "stdout",
       "text": [
        "\n",
        "saving debug dump to /home/dmoore/python/sigvisa/logs/mcmc/01627/step_002439..."
       ]
      },
      {
       "output_type": "stream",
       "stream": "stdout",
       "text": [
        "\n",
        "saved pickled graph"
       ]
      },
      {
       "output_type": "stream",
       "stream": "stdout",
       "text": [
        "\n",
        "step 2440: lp -381.08, accepted arrival_time: 0.038%, coda_decay: 0.070%, coda_height: 0.093%, evdepth: 0.487%, evloc: 0.098%, evloc_big: 0.007%, evmb: 0.940%, evtime: 0.427%, indep_peak: 0.003%, peak_decay: 0.337%, peak_offset: 0.156%, , uatemplates: 0 , events: 1 "
       ]
      },
      {
       "output_type": "stream",
       "stream": "stdout",
       "text": [
        "\n",
        "saving debug dump to /home/dmoore/python/sigvisa/logs/mcmc/01627/step_002449..."
       ]
      },
      {
       "output_type": "stream",
       "stream": "stdout",
       "text": [
        "\n",
        "saved pickled graph"
       ]
      },
      {
       "output_type": "stream",
       "stream": "stdout",
       "text": [
        "\n",
        "step 2450: lp -381.52, accepted arrival_time: 0.038%, coda_decay: 0.070%, coda_height: 0.093%, evdepth: 0.487%, evloc: 0.098%, evloc_big: 0.007%, evmb: 0.940%, evtime: 0.426%, indep_peak: 0.003%, peak_decay: 0.336%, peak_offset: 0.156%, , uatemplates: 0 , events: 1 "
       ]
      },
      {
       "output_type": "stream",
       "stream": "stdout",
       "text": [
        "\n",
        "saving debug dump to /home/dmoore/python/sigvisa/logs/mcmc/01627/step_002459..."
       ]
      },
      {
       "output_type": "stream",
       "stream": "stdout",
       "text": [
        "\n",
        "saved pickled graph"
       ]
      },
      {
       "output_type": "stream",
       "stream": "stdout",
       "text": [
        "\n",
        "step 2460: lp -378.60, accepted arrival_time: 0.038%, coda_decay: 0.070%, coda_height: 0.093%, evdepth: 0.486%, evloc: 0.099%, evloc_big: 0.007%, evmb: 0.940%, evtime: 0.426%, indep_peak: 0.003%, peak_decay: 0.337%, peak_offset: 0.156%, , uatemplates: 0 , events: 1 "
       ]
      },
      {
       "output_type": "stream",
       "stream": "stdout",
       "text": [
        "\n",
        "saving debug dump to /home/dmoore/python/sigvisa/logs/mcmc/01627/step_002469..."
       ]
      },
      {
       "output_type": "stream",
       "stream": "stdout",
       "text": [
        "\n",
        "saved pickled graph"
       ]
      },
      {
       "output_type": "stream",
       "stream": "stdout",
       "text": [
        "\n",
        "step 2470: lp -378.77, accepted arrival_time: 0.038%, coda_decay: 0.070%, coda_height: 0.093%, evdepth: 0.486%, evloc: 0.098%, evloc_big: 0.006%, evmb: 0.940%, evtime: 0.425%, indep_peak: 0.003%, peak_decay: 0.337%, peak_offset: 0.156%, , uatemplates: 0 , events: 1 "
       ]
      },
      {
       "output_type": "stream",
       "stream": "stdout",
       "text": [
        "\n",
        "saving debug dump to /home/dmoore/python/sigvisa/logs/mcmc/01627/step_002479..."
       ]
      },
      {
       "output_type": "stream",
       "stream": "stdout",
       "text": [
        "\n",
        "saved pickled graph"
       ]
      },
      {
       "output_type": "stream",
       "stream": "stdout",
       "text": [
        "\n",
        "step 2480: lp -384.04, accepted arrival_time: 0.038%, coda_decay: 0.069%, coda_height: 0.093%, evdepth: 0.486%, evloc: 0.099%, evloc_big: 0.006%, evmb: 0.940%, evtime: 0.424%, indep_peak: 0.003%, peak_decay: 0.337%, peak_offset: 0.156%, , uatemplates: 0 , events: 1 "
       ]
      },
      {
       "output_type": "stream",
       "stream": "stdout",
       "text": [
        "\n",
        "saving debug dump to /home/dmoore/python/sigvisa/logs/mcmc/01627/step_002489..."
       ]
      },
      {
       "output_type": "stream",
       "stream": "stdout",
       "text": [
        "\n",
        "saved pickled graph"
       ]
      },
      {
       "output_type": "stream",
       "stream": "stdout",
       "text": [
        "\n",
        "step 2490: lp -382.51, accepted arrival_time: 0.038%, coda_decay: 0.069%, coda_height: 0.093%, evdepth: 0.486%, evloc: 0.098%, evloc_big: 0.006%, evmb: 0.941%, evtime: 0.424%, indep_peak: 0.003%, peak_decay: 0.338%, peak_offset: 0.156%, , uatemplates: 0 , events: 1 "
       ]
      },
      {
       "output_type": "stream",
       "stream": "stdout",
       "text": [
        "\n",
        "saving debug dump to /home/dmoore/python/sigvisa/logs/mcmc/01627/step_002499..."
       ]
      },
      {
       "output_type": "stream",
       "stream": "stdout",
       "text": [
        "\n",
        "saved pickled graph"
       ]
      },
      {
       "output_type": "stream",
       "stream": "stdout",
       "text": [
        "\n",
        "step 2500: lp -379.32, accepted arrival_time: 0.038%, coda_decay: 0.069%, coda_height: 0.093%, evdepth: 0.487%, evloc: 0.098%, evloc_big: 0.006%, evmb: 0.940%, evtime: 0.424%, indep_peak: 0.003%, peak_decay: 0.338%, peak_offset: 0.156%, , uatemplates: 0 , events: 1 "
       ]
      },
      {
       "output_type": "stream",
       "stream": "stdout",
       "text": [
        "\n",
        "saving debug dump to /home/dmoore/python/sigvisa/logs/mcmc/01627/step_002509..."
       ]
      },
      {
       "output_type": "stream",
       "stream": "stdout",
       "text": [
        "\n",
        "saved pickled graph"
       ]
      },
      {
       "output_type": "stream",
       "stream": "stdout",
       "text": [
        "\n",
        "step 2510: lp -383.32, accepted arrival_time: 0.038%, coda_decay: 0.069%, coda_height: 0.093%, evdepth: 0.487%, evloc: 0.098%, evloc_big: 0.006%, evmb: 0.940%, evtime: 0.423%, indep_peak: 0.003%, peak_decay: 0.337%, peak_offset: 0.156%, , uatemplates: 0 , events: 1 "
       ]
      },
      {
       "output_type": "stream",
       "stream": "stdout",
       "text": [
        "\n",
        "saving debug dump to /home/dmoore/python/sigvisa/logs/mcmc/01627/step_002519..."
       ]
      },
      {
       "output_type": "stream",
       "stream": "stdout",
       "text": [
        "\n",
        "saved pickled graph"
       ]
      },
      {
       "output_type": "stream",
       "stream": "stdout",
       "text": [
        "\n",
        "step 2520: lp -378.67, accepted arrival_time: 0.038%, coda_decay: 0.069%, coda_height: 0.093%, evdepth: 0.488%, evloc: 0.099%, evloc_big: 0.006%, evmb: 0.940%, evtime: 0.424%, indep_peak: 0.003%, peak_decay: 0.337%, peak_offset: 0.155%, , uatemplates: 0 , events: 1 "
       ]
      },
      {
       "output_type": "stream",
       "stream": "stdout",
       "text": [
        "\n",
        "saving debug dump to /home/dmoore/python/sigvisa/logs/mcmc/01627/step_002529..."
       ]
      },
      {
       "output_type": "stream",
       "stream": "stdout",
       "text": [
        "\n",
        "saved pickled graph"
       ]
      },
      {
       "output_type": "stream",
       "stream": "stdout",
       "text": [
        "\n",
        "step 2530: lp -375.53, accepted arrival_time: 0.038%, coda_decay: 0.069%, coda_height: 0.093%, evdepth: 0.488%, evloc: 0.099%, evloc_big: 0.006%, evmb: 0.940%, evtime: 0.424%, indep_peak: 0.003%, peak_decay: 0.337%, peak_offset: 0.155%, , uatemplates: 0 , events: 1 "
       ]
      },
      {
       "output_type": "stream",
       "stream": "stdout",
       "text": [
        "\n",
        "saving debug dump to /home/dmoore/python/sigvisa/logs/mcmc/01627/step_002539..."
       ]
      },
      {
       "output_type": "stream",
       "stream": "stdout",
       "text": [
        "\n",
        "saved pickled graph"
       ]
      },
      {
       "output_type": "stream",
       "stream": "stdout",
       "text": [
        "\n",
        "step 2540: lp -381.29, accepted arrival_time: 0.038%, coda_decay: 0.069%, coda_height: 0.093%, evdepth: 0.489%, evloc: 0.099%, evloc_big: 0.006%, evmb: 0.941%, evtime: 0.423%, indep_peak: 0.003%, peak_decay: 0.337%, peak_offset: 0.155%, , uatemplates: 0 , events: 1 "
       ]
      },
      {
       "output_type": "stream",
       "stream": "stdout",
       "text": [
        "\n",
        "saving debug dump to /home/dmoore/python/sigvisa/logs/mcmc/01627/step_002549..."
       ]
      },
      {
       "output_type": "stream",
       "stream": "stdout",
       "text": [
        "\n",
        "saved pickled graph"
       ]
      },
      {
       "output_type": "stream",
       "stream": "stdout",
       "text": [
        "\n",
        "step 2550: lp -383.45, accepted arrival_time: 0.038%, coda_decay: 0.069%, coda_height: 0.093%, evdepth: 0.488%, evloc: 0.099%, evloc_big: 0.006%, evmb: 0.941%, evtime: 0.425%, indep_peak: 0.003%, peak_decay: 0.337%, peak_offset: 0.156%, , uatemplates: 0 , events: 1 "
       ]
      },
      {
       "output_type": "stream",
       "stream": "stdout",
       "text": [
        "\n",
        "saving debug dump to /home/dmoore/python/sigvisa/logs/mcmc/01627/step_002559..."
       ]
      },
      {
       "output_type": "stream",
       "stream": "stdout",
       "text": [
        "\n",
        "saved pickled graph"
       ]
      },
      {
       "output_type": "stream",
       "stream": "stdout",
       "text": [
        "\n",
        "step 2560: lp -373.49, accepted arrival_time: 0.038%, coda_decay: 0.069%, coda_height: 0.093%, evdepth: 0.488%, evloc: 0.100%, evloc_big: 0.006%, evmb: 0.941%, evtime: 0.425%, indep_peak: 0.003%, peak_decay: 0.338%, peak_offset: 0.155%, , uatemplates: 0 , events: 1 "
       ]
      },
      {
       "output_type": "stream",
       "stream": "stdout",
       "text": [
        "\n",
        "saving debug dump to /home/dmoore/python/sigvisa/logs/mcmc/01627/step_002569..."
       ]
      },
      {
       "output_type": "stream",
       "stream": "stdout",
       "text": [
        "\n",
        "saved pickled graph"
       ]
      },
      {
       "output_type": "stream",
       "stream": "stdout",
       "text": [
        "\n",
        "step 2570: lp -380.84, accepted arrival_time: 0.038%, coda_decay: 0.069%, coda_height: 0.093%, evdepth: 0.489%, evloc: 0.100%, evloc_big: 0.006%, evmb: 0.941%, evtime: 0.424%, indep_peak: 0.003%, peak_decay: 0.338%, peak_offset: 0.155%, , uatemplates: 0 , events: 1 "
       ]
      },
      {
       "output_type": "stream",
       "stream": "stdout",
       "text": [
        "\n",
        "saving debug dump to /home/dmoore/python/sigvisa/logs/mcmc/01627/step_002579..."
       ]
      },
      {
       "output_type": "stream",
       "stream": "stdout",
       "text": [
        "\n",
        "saved pickled graph"
       ]
      },
      {
       "output_type": "stream",
       "stream": "stdout",
       "text": [
        "\n",
        "step 2580: lp -373.53, accepted arrival_time: 0.038%, coda_decay: 0.069%, coda_height: 0.093%, evdepth: 0.489%, evloc: 0.100%, evloc_big: 0.006%, evmb: 0.941%, evtime: 0.424%, indep_peak: 0.003%, peak_decay: 0.338%, peak_offset: 0.155%, , uatemplates: 0 , events: 1 "
       ]
      },
      {
       "output_type": "stream",
       "stream": "stdout",
       "text": [
        "\n",
        "saving debug dump to /home/dmoore/python/sigvisa/logs/mcmc/01627/step_002589..."
       ]
      },
      {
       "output_type": "stream",
       "stream": "stdout",
       "text": [
        "\n",
        "saved pickled graph"
       ]
      },
      {
       "output_type": "stream",
       "stream": "stdout",
       "text": [
        "\n",
        "step 2590: lp -388.14, accepted arrival_time: 0.038%, coda_decay: 0.069%, coda_height: 0.093%, evdepth: 0.489%, evloc: 0.100%, evloc_big: 0.006%, evmb: 0.942%, evtime: 0.425%, indep_peak: 0.003%, peak_decay: 0.338%, peak_offset: 0.155%, , uatemplates: 0 , events: 1 "
       ]
      },
      {
       "output_type": "stream",
       "stream": "stdout",
       "text": [
        "\n",
        "saving debug dump to /home/dmoore/python/sigvisa/logs/mcmc/01627/step_002599..."
       ]
      },
      {
       "output_type": "stream",
       "stream": "stdout",
       "text": [
        "\n",
        "saved pickled graph"
       ]
      },
      {
       "output_type": "stream",
       "stream": "stdout",
       "text": [
        "\n",
        "step 2600: lp -375.66, accepted arrival_time: 0.038%, coda_decay: 0.069%, coda_height: 0.093%, evdepth: 0.489%, evloc: 0.100%, evloc_big: 0.006%, evmb: 0.942%, evtime: 0.425%, indep_peak: 0.003%, peak_decay: 0.338%, peak_offset: 0.155%, , uatemplates: 0 , events: 1 "
       ]
      },
      {
       "output_type": "stream",
       "stream": "stdout",
       "text": [
        "\n",
        "saving debug dump to /home/dmoore/python/sigvisa/logs/mcmc/01627/step_002609..."
       ]
      },
      {
       "output_type": "stream",
       "stream": "stdout",
       "text": [
        "\n",
        "saved pickled graph"
       ]
      },
      {
       "output_type": "stream",
       "stream": "stdout",
       "text": [
        "\n",
        "step 2610: lp -373.50, accepted arrival_time: 0.038%, coda_decay: 0.069%, coda_height: 0.093%, evdepth: 0.490%, evloc: 0.099%, evloc_big: 0.006%, evmb: 0.942%, evtime: 0.425%, indep_peak: 0.003%, peak_decay: 0.338%, peak_offset: 0.155%, , uatemplates: 0 , events: 1 "
       ]
      },
      {
       "output_type": "stream",
       "stream": "stdout",
       "text": [
        "\n",
        "saving debug dump to /home/dmoore/python/sigvisa/logs/mcmc/01627/step_002619..."
       ]
      },
      {
       "output_type": "stream",
       "stream": "stdout",
       "text": [
        "\n",
        "saved pickled graph"
       ]
      },
      {
       "output_type": "stream",
       "stream": "stdout",
       "text": [
        "\n",
        "step 2620: lp -374.70, accepted arrival_time: 0.038%, coda_decay: 0.069%, coda_height: 0.093%, evdepth: 0.491%, evloc: 0.099%, evloc_big: 0.006%, evmb: 0.942%, evtime: 0.425%, indep_peak: 0.003%, peak_decay: 0.338%, peak_offset: 0.155%, , uatemplates: 0 , events: 1 "
       ]
      },
      {
       "output_type": "stream",
       "stream": "stdout",
       "text": [
        "\n",
        "saving debug dump to /home/dmoore/python/sigvisa/logs/mcmc/01627/step_002629..."
       ]
      },
      {
       "output_type": "stream",
       "stream": "stdout",
       "text": [
        "\n",
        "saved pickled graph"
       ]
      },
      {
       "output_type": "stream",
       "stream": "stdout",
       "text": [
        "\n",
        "step 2630: lp -373.32, accepted arrival_time: 0.038%, coda_decay: 0.069%, coda_height: 0.094%, evdepth: 0.490%, evloc: 0.098%, evloc_big: 0.006%, evmb: 0.943%, evtime: 0.423%, indep_peak: 0.003%, peak_decay: 0.338%, peak_offset: 0.155%, , uatemplates: 0 , events: 1 "
       ]
      },
      {
       "output_type": "stream",
       "stream": "stdout",
       "text": [
        "\n",
        "saving debug dump to /home/dmoore/python/sigvisa/logs/mcmc/01627/step_002639..."
       ]
      },
      {
       "output_type": "stream",
       "stream": "stdout",
       "text": [
        "\n",
        "saved pickled graph"
       ]
      },
      {
       "output_type": "stream",
       "stream": "stdout",
       "text": [
        "\n",
        "step 2640: lp -376.05, accepted arrival_time: 0.038%, coda_decay: 0.069%, coda_height: 0.093%, evdepth: 0.490%, evloc: 0.098%, evloc_big: 0.006%, evmb: 0.942%, evtime: 0.423%, indep_peak: 0.003%, peak_decay: 0.337%, peak_offset: 0.155%, , uatemplates: 0 , events: 1 "
       ]
      },
      {
       "output_type": "stream",
       "stream": "stdout",
       "text": [
        "\n",
        "saving debug dump to /home/dmoore/python/sigvisa/logs/mcmc/01627/step_002649..."
       ]
      },
      {
       "output_type": "stream",
       "stream": "stdout",
       "text": [
        "\n",
        "saved pickled graph"
       ]
      },
      {
       "output_type": "stream",
       "stream": "stdout",
       "text": [
        "\n",
        "step 2650: lp -377.47, accepted arrival_time: 0.038%, coda_decay: 0.069%, coda_height: 0.093%, evdepth: 0.489%, evloc: 0.099%, evloc_big: 0.006%, evmb: 0.942%, evtime: 0.423%, indep_peak: 0.003%, peak_decay: 0.338%, peak_offset: 0.155%, , uatemplates: 0 , events: 1 "
       ]
      },
      {
       "output_type": "stream",
       "stream": "stdout",
       "text": [
        "\n",
        "saving debug dump to /home/dmoore/python/sigvisa/logs/mcmc/01627/step_002659..."
       ]
      },
      {
       "output_type": "stream",
       "stream": "stdout",
       "text": [
        "\n",
        "saved pickled graph"
       ]
      },
      {
       "output_type": "stream",
       "stream": "stdout",
       "text": [
        "\n",
        "step 2660: lp -381.72, accepted arrival_time: 0.038%, coda_decay: 0.069%, coda_height: 0.093%, evdepth: 0.490%, evloc: 0.100%, evloc_big: 0.006%, evmb: 0.942%, evtime: 0.424%, indep_peak: 0.003%, peak_decay: 0.337%, peak_offset: 0.155%, , uatemplates: 0 , events: 1 "
       ]
      },
      {
       "output_type": "stream",
       "stream": "stdout",
       "text": [
        "\n",
        "saving debug dump to /home/dmoore/python/sigvisa/logs/mcmc/01627/step_002669..."
       ]
      },
      {
       "output_type": "stream",
       "stream": "stdout",
       "text": [
        "\n",
        "saved pickled graph"
       ]
      },
      {
       "output_type": "stream",
       "stream": "stdout",
       "text": [
        "\n",
        "step 2670: lp -389.47, accepted arrival_time: 0.038%, coda_decay: 0.069%, coda_height: 0.093%, evdepth: 0.491%, evloc: 0.100%, evloc_big: 0.006%, evmb: 0.942%, evtime: 0.425%, indep_peak: 0.003%, peak_decay: 0.337%, peak_offset: 0.155%, , uatemplates: 0 , events: 1 "
       ]
      },
      {
       "output_type": "stream",
       "stream": "stdout",
       "text": [
        "\n",
        "saving debug dump to /home/dmoore/python/sigvisa/logs/mcmc/01627/step_002679..."
       ]
      },
      {
       "output_type": "stream",
       "stream": "stdout",
       "text": [
        "\n",
        "saved pickled graph"
       ]
      },
      {
       "output_type": "stream",
       "stream": "stdout",
       "text": [
        "\n",
        "step 2680: lp -378.03, accepted arrival_time: 0.038%, coda_decay: 0.069%, coda_height: 0.093%, evdepth: 0.491%, evloc: 0.100%, evloc_big: 0.006%, evmb: 0.942%, evtime: 0.424%, indep_peak: 0.003%, peak_decay: 0.337%, peak_offset: 0.155%, , uatemplates: 0 , events: 1 "
       ]
      },
      {
       "output_type": "stream",
       "stream": "stdout",
       "text": [
        "\n",
        "saving debug dump to /home/dmoore/python/sigvisa/logs/mcmc/01627/step_002689..."
       ]
      },
      {
       "output_type": "stream",
       "stream": "stdout",
       "text": [
        "\n",
        "saved pickled graph"
       ]
      },
      {
       "output_type": "stream",
       "stream": "stdout",
       "text": [
        "\n",
        "step 2690: lp -380.93, accepted arrival_time: 0.038%, coda_decay: 0.069%, coda_height: 0.093%, evdepth: 0.491%, evloc: 0.100%, evloc_big: 0.006%, evmb: 0.942%, evtime: 0.424%, indep_peak: 0.003%, peak_decay: 0.337%, peak_offset: 0.155%, , uatemplates: 0 , events: 1 "
       ]
      },
      {
       "output_type": "stream",
       "stream": "stdout",
       "text": [
        "\n",
        "saving debug dump to /home/dmoore/python/sigvisa/logs/mcmc/01627/step_002699..."
       ]
      },
      {
       "output_type": "stream",
       "stream": "stdout",
       "text": [
        "\n",
        "saved pickled graph"
       ]
      },
      {
       "output_type": "stream",
       "stream": "stdout",
       "text": [
        "\n",
        "step 2700: lp -381.54, accepted arrival_time: 0.038%, coda_decay: 0.069%, coda_height: 0.093%, evdepth: 0.491%, evloc: 0.100%, evloc_big: 0.006%, evmb: 0.942%, evtime: 0.425%, indep_peak: 0.003%, peak_decay: 0.337%, peak_offset: 0.155%, , uatemplates: 0 , events: 1 "
       ]
      },
      {
       "output_type": "stream",
       "stream": "stdout",
       "text": [
        "\n",
        "saving debug dump to /home/dmoore/python/sigvisa/logs/mcmc/01627/step_002709..."
       ]
      },
      {
       "output_type": "stream",
       "stream": "stdout",
       "text": [
        "\n",
        "saved pickled graph"
       ]
      },
      {
       "output_type": "stream",
       "stream": "stdout",
       "text": [
        "\n",
        "step 2710: lp -384.35, accepted arrival_time: 0.038%, coda_decay: 0.069%, coda_height: 0.093%, evdepth: 0.491%, evloc: 0.099%, evloc_big: 0.006%, evmb: 0.942%, evtime: 0.425%, indep_peak: 0.003%, peak_decay: 0.336%, peak_offset: 0.155%, , uatemplates: 0 , events: 1 "
       ]
      },
      {
       "output_type": "stream",
       "stream": "stdout",
       "text": [
        "\n",
        "saving debug dump to /home/dmoore/python/sigvisa/logs/mcmc/01627/step_002719..."
       ]
      },
      {
       "output_type": "stream",
       "stream": "stdout",
       "text": [
        "\n",
        "saved pickled graph"
       ]
      },
      {
       "output_type": "stream",
       "stream": "stdout",
       "text": [
        "\n",
        "step 2720: lp -381.08, accepted arrival_time: 0.038%, coda_decay: 0.069%, coda_height: 0.094%, evdepth: 0.491%, evloc: 0.100%, evloc_big: 0.006%, evmb: 0.942%, evtime: 0.425%, indep_peak: 0.003%, peak_decay: 0.337%, peak_offset: 0.155%, , uatemplates: 0 , events: 1 "
       ]
      },
      {
       "output_type": "stream",
       "stream": "stdout",
       "text": [
        "\n",
        "saving debug dump to /home/dmoore/python/sigvisa/logs/mcmc/01627/step_002729..."
       ]
      },
      {
       "output_type": "stream",
       "stream": "stdout",
       "text": [
        "\n",
        "saved pickled graph"
       ]
      },
      {
       "output_type": "stream",
       "stream": "stdout",
       "text": [
        "\n",
        "step 2730: lp -379.11, accepted arrival_time: 0.038%, coda_decay: 0.069%, coda_height: 0.094%, evdepth: 0.491%, evloc: 0.100%, evloc_big: 0.006%, evmb: 0.942%, evtime: 0.425%, indep_peak: 0.003%, peak_decay: 0.337%, peak_offset: 0.155%, , uatemplates: 0 , events: 1 "
       ]
      },
      {
       "output_type": "stream",
       "stream": "stdout",
       "text": [
        "\n",
        "saving debug dump to /home/dmoore/python/sigvisa/logs/mcmc/01627/step_002739..."
       ]
      },
      {
       "output_type": "stream",
       "stream": "stdout",
       "text": [
        "\n",
        "saved pickled graph"
       ]
      },
      {
       "output_type": "stream",
       "stream": "stdout",
       "text": [
        "\n",
        "step 2740: lp -380.23, accepted arrival_time: 0.038%, coda_decay: 0.069%, coda_height: 0.094%, evdepth: 0.491%, evloc: 0.100%, evloc_big: 0.006%, evmb: 0.942%, evtime: 0.426%, indep_peak: 0.003%, peak_decay: 0.337%, peak_offset: 0.155%, , uatemplates: 0 , events: 1 "
       ]
      },
      {
       "output_type": "stream",
       "stream": "stdout",
       "text": [
        "\n",
        "saving debug dump to /home/dmoore/python/sigvisa/logs/mcmc/01627/step_002749..."
       ]
      },
      {
       "output_type": "stream",
       "stream": "stdout",
       "text": [
        "\n",
        "saved pickled graph"
       ]
      },
      {
       "output_type": "stream",
       "stream": "stdout",
       "text": [
        "\n",
        "step 2750: lp -377.03, accepted arrival_time: 0.038%, coda_decay: 0.069%, coda_height: 0.094%, evdepth: 0.491%, evloc: 0.100%, evloc_big: 0.006%, evmb: 0.943%, evtime: 0.426%, indep_peak: 0.003%, peak_decay: 0.337%, peak_offset: 0.155%, , uatemplates: 0 , events: 1 "
       ]
      },
      {
       "output_type": "stream",
       "stream": "stdout",
       "text": [
        "\n",
        "saving debug dump to /home/dmoore/python/sigvisa/logs/mcmc/01627/step_002759..."
       ]
      },
      {
       "output_type": "stream",
       "stream": "stdout",
       "text": [
        "\n",
        "saved pickled graph"
       ]
      },
      {
       "output_type": "stream",
       "stream": "stdout",
       "text": [
        "\n",
        "step 2760: lp -382.20, accepted arrival_time: 0.038%, coda_decay: 0.069%, coda_height: 0.094%, evdepth: 0.490%, evloc: 0.100%, evloc_big: 0.006%, evmb: 0.942%, evtime: 0.425%, indep_peak: 0.003%, peak_decay: 0.337%, peak_offset: 0.155%, , uatemplates: 0 , events: 1 "
       ]
      },
      {
       "output_type": "stream",
       "stream": "stdout",
       "text": [
        "\n",
        "saving debug dump to /home/dmoore/python/sigvisa/logs/mcmc/01627/step_002769..."
       ]
      },
      {
       "output_type": "stream",
       "stream": "stdout",
       "text": [
        "\n",
        "saved pickled graph"
       ]
      },
      {
       "output_type": "stream",
       "stream": "stdout",
       "text": [
        "\n",
        "step 2770: lp -379.16, accepted arrival_time: 0.038%, coda_decay: 0.070%, coda_height: 0.094%, evdepth: 0.490%, evloc: 0.100%, evloc_big: 0.006%, evmb: 0.943%, evtime: 0.424%, indep_peak: 0.003%, peak_decay: 0.337%, peak_offset: 0.156%, , uatemplates: 0 , events: 1 "
       ]
      },
      {
       "output_type": "stream",
       "stream": "stdout",
       "text": [
        "\n",
        "saving debug dump to /home/dmoore/python/sigvisa/logs/mcmc/01627/step_002779..."
       ]
      },
      {
       "output_type": "stream",
       "stream": "stdout",
       "text": [
        "\n",
        "saved pickled graph"
       ]
      },
      {
       "output_type": "stream",
       "stream": "stdout",
       "text": [
        "\n",
        "step 2780: lp -381.53, accepted arrival_time: 0.038%, coda_decay: 0.069%, coda_height: 0.094%, evdepth: 0.490%, evloc: 0.100%, evloc_big: 0.006%, evmb: 0.943%, evtime: 0.425%, indep_peak: 0.003%, peak_decay: 0.337%, peak_offset: 0.155%, , uatemplates: 0 , events: 1 "
       ]
      },
      {
       "output_type": "stream",
       "stream": "stdout",
       "text": [
        "\n",
        "saving debug dump to /home/dmoore/python/sigvisa/logs/mcmc/01627/step_002789..."
       ]
      },
      {
       "output_type": "stream",
       "stream": "stdout",
       "text": [
        "\n",
        "saved pickled graph"
       ]
      },
      {
       "output_type": "stream",
       "stream": "stdout",
       "text": [
        "\n",
        "step 2790: lp -389.26, accepted arrival_time: 0.038%, coda_decay: 0.070%, coda_height: 0.095%, evdepth: 0.489%, evloc: 0.101%, evloc_big: 0.006%, evmb: 0.943%, evtime: 0.425%, indep_peak: 0.003%, peak_decay: 0.337%, peak_offset: 0.155%, , uatemplates: 0 , events: 1 "
       ]
      },
      {
       "output_type": "stream",
       "stream": "stdout",
       "text": [
        "\n",
        "saving debug dump to /home/dmoore/python/sigvisa/logs/mcmc/01627/step_002799..."
       ]
      },
      {
       "output_type": "stream",
       "stream": "stdout",
       "text": [
        "\n",
        "saved pickled graph"
       ]
      },
      {
       "output_type": "stream",
       "stream": "stdout",
       "text": [
        "\n",
        "step 2800: lp -385.66, accepted arrival_time: 0.038%, coda_decay: 0.070%, coda_height: 0.094%, evdepth: 0.489%, evloc: 0.101%, evloc_big: 0.006%, evmb: 0.943%, evtime: 0.425%, indep_peak: 0.003%, peak_decay: 0.337%, peak_offset: 0.155%, , uatemplates: 0 , events: 1 "
       ]
      },
      {
       "output_type": "stream",
       "stream": "stdout",
       "text": [
        "\n",
        "saving debug dump to /home/dmoore/python/sigvisa/logs/mcmc/01627/step_002809..."
       ]
      },
      {
       "output_type": "stream",
       "stream": "stdout",
       "text": [
        "\n",
        "saved pickled graph"
       ]
      },
      {
       "output_type": "stream",
       "stream": "stdout",
       "text": [
        "\n",
        "step 2810: lp -385.03, accepted arrival_time: 0.038%, coda_decay: 0.069%, coda_height: 0.094%, evdepth: 0.487%, evloc: 0.101%, evloc_big: 0.006%, evmb: 0.942%, evtime: 0.424%, indep_peak: 0.003%, peak_decay: 0.336%, peak_offset: 0.156%, , uatemplates: 0 , events: 1 "
       ]
      },
      {
       "output_type": "stream",
       "stream": "stdout",
       "text": [
        "\n",
        "saving debug dump to /home/dmoore/python/sigvisa/logs/mcmc/01627/step_002819..."
       ]
      },
      {
       "output_type": "stream",
       "stream": "stdout",
       "text": [
        "\n",
        "saved pickled graph"
       ]
      },
      {
       "output_type": "stream",
       "stream": "stdout",
       "text": [
        "\n",
        "step 2820: lp -381.87, accepted arrival_time: 0.038%, coda_decay: 0.069%, coda_height: 0.094%, evdepth: 0.487%, evloc: 0.102%, evloc_big: 0.006%, evmb: 0.942%, evtime: 0.424%, indep_peak: 0.003%, peak_decay: 0.336%, peak_offset: 0.156%, , uatemplates: 0 , events: 1 "
       ]
      },
      {
       "output_type": "stream",
       "stream": "stdout",
       "text": [
        "\n",
        "saving debug dump to /home/dmoore/python/sigvisa/logs/mcmc/01627/step_002829..."
       ]
      },
      {
       "output_type": "stream",
       "stream": "stdout",
       "text": [
        "\n",
        "saved pickled graph"
       ]
      },
      {
       "output_type": "stream",
       "stream": "stdout",
       "text": [
        "\n",
        "step 2830: lp -383.01, accepted arrival_time: 0.038%, coda_decay: 0.069%, coda_height: 0.094%, evdepth: 0.488%, evloc: 0.102%, evloc_big: 0.006%, evmb: 0.942%, evtime: 0.424%, indep_peak: 0.003%, peak_decay: 0.336%, peak_offset: 0.155%, , uatemplates: 0 , events: 1 "
       ]
      },
      {
       "output_type": "stream",
       "stream": "stdout",
       "text": [
        "\n",
        "saving debug dump to /home/dmoore/python/sigvisa/logs/mcmc/01627/step_002839..."
       ]
      },
      {
       "output_type": "stream",
       "stream": "stdout",
       "text": [
        "\n",
        "saved pickled graph"
       ]
      },
      {
       "output_type": "stream",
       "stream": "stdout",
       "text": [
        "\n",
        "step 2840: lp -385.30, accepted arrival_time: 0.038%, coda_decay: 0.069%, coda_height: 0.094%, evdepth: 0.489%, evloc: 0.102%, evloc_big: 0.006%, evmb: 0.941%, evtime: 0.423%, indep_peak: 0.003%, peak_decay: 0.335%, peak_offset: 0.155%, , uatemplates: 0 , events: 1 "
       ]
      },
      {
       "output_type": "stream",
       "stream": "stdout",
       "text": [
        "\n",
        "saving debug dump to /home/dmoore/python/sigvisa/logs/mcmc/01627/step_002849..."
       ]
      },
      {
       "output_type": "stream",
       "stream": "stdout",
       "text": [
        "\n",
        "saved pickled graph"
       ]
      },
      {
       "output_type": "stream",
       "stream": "stdout",
       "text": [
        "\n",
        "step 2850: lp -385.18, accepted arrival_time: 0.038%, coda_decay: 0.070%, coda_height: 0.094%, evdepth: 0.489%, evloc: 0.102%, evloc_big: 0.006%, evmb: 0.941%, evtime: 0.423%, indep_peak: 0.003%, peak_decay: 0.335%, peak_offset: 0.155%, , uatemplates: 0 , events: 1 "
       ]
      },
      {
       "output_type": "stream",
       "stream": "stdout",
       "text": [
        "\n",
        "saving debug dump to /home/dmoore/python/sigvisa/logs/mcmc/01627/step_002859..."
       ]
      },
      {
       "output_type": "stream",
       "stream": "stdout",
       "text": [
        "\n",
        "saved pickled graph"
       ]
      },
      {
       "output_type": "stream",
       "stream": "stdout",
       "text": [
        "\n",
        "step 2860: lp -388.44, accepted arrival_time: 0.038%, coda_decay: 0.070%, coda_height: 0.094%, evdepth: 0.488%, evloc: 0.102%, evloc_big: 0.006%, evmb: 0.941%, evtime: 0.422%, indep_peak: 0.003%, peak_decay: 0.335%, peak_offset: 0.155%, , uatemplates: 0 , events: 1 "
       ]
      },
      {
       "output_type": "stream",
       "stream": "stdout",
       "text": [
        "\n",
        "saving debug dump to /home/dmoore/python/sigvisa/logs/mcmc/01627/step_002869..."
       ]
      },
      {
       "output_type": "stream",
       "stream": "stdout",
       "text": [
        "\n",
        "saved pickled graph"
       ]
      },
      {
       "output_type": "stream",
       "stream": "stdout",
       "text": [
        "\n",
        "step 2870: lp -389.61, accepted arrival_time: 0.038%, coda_decay: 0.070%, coda_height: 0.094%, evdepth: 0.488%, evloc: 0.103%, evloc_big: 0.006%, evmb: 0.941%, evtime: 0.423%, indep_peak: 0.003%, peak_decay: 0.335%, peak_offset: 0.155%, , uatemplates: 0 , events: 1 "
       ]
      },
      {
       "output_type": "stream",
       "stream": "stdout",
       "text": [
        "\n",
        "saving debug dump to /home/dmoore/python/sigvisa/logs/mcmc/01627/step_002879..."
       ]
      },
      {
       "output_type": "stream",
       "stream": "stdout",
       "text": [
        "\n",
        "saved pickled graph"
       ]
      },
      {
       "output_type": "stream",
       "stream": "stdout",
       "text": [
        "\n",
        "step 2880: lp -383.37, accepted arrival_time: 0.038%, coda_decay: 0.069%, coda_height: 0.094%, evdepth: 0.487%, evloc: 0.103%, evloc_big: 0.006%, evmb: 0.941%, evtime: 0.423%, indep_peak: 0.003%, peak_decay: 0.334%, peak_offset: 0.155%, , uatemplates: 0 , events: 1 "
       ]
      },
      {
       "output_type": "stream",
       "stream": "stdout",
       "text": [
        "\n",
        "saving debug dump to /home/dmoore/python/sigvisa/logs/mcmc/01627/step_002889..."
       ]
      },
      {
       "output_type": "stream",
       "stream": "stdout",
       "text": [
        "\n",
        "saved pickled graph"
       ]
      },
      {
       "output_type": "stream",
       "stream": "stdout",
       "text": [
        "\n",
        "step 2890: lp -384.27, accepted arrival_time: 0.038%, coda_decay: 0.069%, coda_height: 0.094%, evdepth: 0.487%, evloc: 0.103%, evloc_big: 0.006%, evmb: 0.941%, evtime: 0.423%, indep_peak: 0.003%, peak_decay: 0.334%, peak_offset: 0.155%, , uatemplates: 0 , events: 1 "
       ]
      },
      {
       "output_type": "stream",
       "stream": "stdout",
       "text": [
        "\n",
        "saving debug dump to /home/dmoore/python/sigvisa/logs/mcmc/01627/step_002899..."
       ]
      },
      {
       "output_type": "stream",
       "stream": "stdout",
       "text": [
        "\n",
        "saved pickled graph"
       ]
      },
      {
       "output_type": "stream",
       "stream": "stdout",
       "text": [
        "\n",
        "step 2900: lp -384.23, accepted arrival_time: 0.038%, coda_decay: 0.069%, coda_height: 0.094%, evdepth: 0.486%, evloc: 0.103%, evloc_big: 0.006%, evmb: 0.941%, evtime: 0.423%, indep_peak: 0.003%, peak_decay: 0.333%, peak_offset: 0.156%, , uatemplates: 0 , events: 1 "
       ]
      },
      {
       "output_type": "stream",
       "stream": "stdout",
       "text": [
        "\n",
        "saving debug dump to /home/dmoore/python/sigvisa/logs/mcmc/01627/step_002909..."
       ]
      },
      {
       "output_type": "stream",
       "stream": "stdout",
       "text": [
        "\n",
        "saved pickled graph"
       ]
      },
      {
       "output_type": "stream",
       "stream": "stdout",
       "text": [
        "\n",
        "step 2910: lp -379.98, accepted arrival_time: 0.038%, coda_decay: 0.069%, coda_height: 0.094%, evdepth: 0.486%, evloc: 0.103%, evloc_big: 0.006%, evmb: 0.941%, evtime: 0.424%, indep_peak: 0.003%, peak_decay: 0.333%, peak_offset: 0.155%, , uatemplates: 0 , events: 1 "
       ]
      },
      {
       "output_type": "stream",
       "stream": "stdout",
       "text": [
        "\n",
        "saving debug dump to /home/dmoore/python/sigvisa/logs/mcmc/01627/step_002919..."
       ]
      },
      {
       "output_type": "stream",
       "stream": "stdout",
       "text": [
        "\n",
        "saved pickled graph"
       ]
      },
      {
       "output_type": "stream",
       "stream": "stdout",
       "text": [
        "\n",
        "step 2920: lp -377.44, accepted arrival_time: 0.038%, coda_decay: 0.069%, coda_height: 0.094%, evdepth: 0.486%, evloc: 0.103%, evloc_big: 0.006%, evmb: 0.941%, evtime: 0.425%, indep_peak: 0.003%, peak_decay: 0.333%, peak_offset: 0.155%, , uatemplates: 0 , events: 1 "
       ]
      },
      {
       "output_type": "stream",
       "stream": "stdout",
       "text": [
        "\n",
        "saving debug dump to /home/dmoore/python/sigvisa/logs/mcmc/01627/step_002929..."
       ]
      },
      {
       "output_type": "stream",
       "stream": "stdout",
       "text": [
        "\n",
        "saved pickled graph"
       ]
      },
      {
       "output_type": "stream",
       "stream": "stdout",
       "text": [
        "\n",
        "step 2930: lp -378.98, accepted arrival_time: 0.038%, coda_decay: 0.069%, coda_height: 0.094%, evdepth: 0.486%, evloc: 0.103%, evloc_big: 0.006%, evmb: 0.941%, evtime: 0.423%, indep_peak: 0.003%, peak_decay: 0.333%, peak_offset: 0.155%, , uatemplates: 0 , events: 1 "
       ]
      },
      {
       "output_type": "stream",
       "stream": "stdout",
       "text": [
        "\n",
        "saving debug dump to /home/dmoore/python/sigvisa/logs/mcmc/01627/step_002939..."
       ]
      },
      {
       "output_type": "stream",
       "stream": "stdout",
       "text": [
        "\n",
        "saved pickled graph"
       ]
      },
      {
       "output_type": "stream",
       "stream": "stdout",
       "text": [
        "\n",
        "step 2940: lp -386.74, accepted arrival_time: 0.038%, coda_decay: 0.070%, coda_height: 0.094%, evdepth: 0.486%, evloc: 0.104%, evloc_big: 0.006%, evmb: 0.942%, evtime: 0.422%, indep_peak: 0.003%, peak_decay: 0.333%, peak_offset: 0.155%, , uatemplates: 0 , events: 1 "
       ]
      },
      {
       "output_type": "stream",
       "stream": "stdout",
       "text": [
        "\n",
        "saving debug dump to /home/dmoore/python/sigvisa/logs/mcmc/01627/step_002949..."
       ]
      },
      {
       "output_type": "stream",
       "stream": "stdout",
       "text": [
        "\n",
        "saved pickled graph"
       ]
      },
      {
       "output_type": "stream",
       "stream": "stdout",
       "text": [
        "\n",
        "step 2950: lp -382.49, accepted arrival_time: 0.038%, coda_decay: 0.069%, coda_height: 0.094%, evdepth: 0.487%, evloc: 0.104%, evloc_big: 0.006%, evmb: 0.942%, evtime: 0.423%, indep_peak: 0.003%, peak_decay: 0.333%, peak_offset: 0.155%, , uatemplates: 0 , events: 1 "
       ]
      },
      {
       "output_type": "stream",
       "stream": "stdout",
       "text": [
        "\n",
        "saving debug dump to /home/dmoore/python/sigvisa/logs/mcmc/01627/step_002959..."
       ]
      },
      {
       "output_type": "stream",
       "stream": "stdout",
       "text": [
        "\n",
        "saved pickled graph"
       ]
      },
      {
       "output_type": "stream",
       "stream": "stdout",
       "text": [
        "\n",
        "step 2960: lp -380.54, accepted arrival_time: 0.038%, coda_decay: 0.069%, coda_height: 0.094%, evdepth: 0.487%, evloc: 0.105%, evloc_big: 0.006%, evmb: 0.942%, evtime: 0.423%, indep_peak: 0.003%, peak_decay: 0.333%, peak_offset: 0.155%, , uatemplates: 0 , events: 1 "
       ]
      },
      {
       "output_type": "stream",
       "stream": "stdout",
       "text": [
        "\n",
        "saving debug dump to /home/dmoore/python/sigvisa/logs/mcmc/01627/step_002969..."
       ]
      },
      {
       "output_type": "stream",
       "stream": "stdout",
       "text": [
        "\n",
        "saved pickled graph"
       ]
      },
      {
       "output_type": "stream",
       "stream": "stdout",
       "text": [
        "\n",
        "step 2970: lp -382.30, accepted arrival_time: 0.038%, coda_decay: 0.069%, coda_height: 0.095%, evdepth: 0.488%, evloc: 0.104%, evloc_big: 0.006%, evmb: 0.942%, evtime: 0.423%, indep_peak: 0.003%, peak_decay: 0.333%, peak_offset: 0.155%, , uatemplates: 0 , events: 1 "
       ]
      },
      {
       "output_type": "stream",
       "stream": "stdout",
       "text": [
        "\n",
        "saving debug dump to /home/dmoore/python/sigvisa/logs/mcmc/01627/step_002979..."
       ]
      },
      {
       "output_type": "stream",
       "stream": "stdout",
       "text": [
        "\n",
        "saved pickled graph"
       ]
      },
      {
       "output_type": "stream",
       "stream": "stdout",
       "text": [
        "\n",
        "step 2980: lp -386.92, accepted arrival_time: 0.038%, coda_decay: 0.070%, coda_height: 0.095%, evdepth: 0.487%, evloc: 0.105%, evloc_big: 0.006%, evmb: 0.942%, evtime: 0.422%, indep_peak: 0.003%, peak_decay: 0.333%, peak_offset: 0.155%, , uatemplates: 0 , events: 1 "
       ]
      },
      {
       "output_type": "stream",
       "stream": "stdout",
       "text": [
        "\n",
        "saving debug dump to /home/dmoore/python/sigvisa/logs/mcmc/01627/step_002989..."
       ]
      },
      {
       "output_type": "stream",
       "stream": "stdout",
       "text": [
        "\n",
        "saved pickled graph"
       ]
      },
      {
       "output_type": "stream",
       "stream": "stdout",
       "text": [
        "\n",
        "step 2990: lp -386.61, accepted arrival_time: 0.038%, coda_decay: 0.069%, coda_height: 0.094%, evdepth: 0.487%, evloc: 0.105%, evloc_big: 0.006%, evmb: 0.942%, evtime: 0.423%, indep_peak: 0.003%, peak_decay: 0.333%, peak_offset: 0.155%, , uatemplates: 0 , events: 1 "
       ]
      },
      {
       "output_type": "stream",
       "stream": "stdout",
       "text": [
        "\n",
        "saving debug dump to /home/dmoore/python/sigvisa/logs/mcmc/01627/step_002999..."
       ]
      },
      {
       "output_type": "stream",
       "stream": "stdout",
       "text": [
        "\n",
        "saved pickled graph"
       ]
      },
      {
       "output_type": "stream",
       "stream": "stdout",
       "text": [
        "\n",
        "step 3000: lp -378.35, accepted arrival_time: 0.039%, coda_decay: 0.069%, coda_height: 0.094%, evdepth: 0.487%, evloc: 0.105%, evloc_big: 0.006%, evmb: 0.942%, evtime: 0.423%, indep_peak: 0.003%, peak_decay: 0.332%, peak_offset: 0.156%, , uatemplates: 0 , events: 1 "
       ]
      },
      {
       "output_type": "stream",
       "stream": "stdout",
       "text": [
        "\n",
        "saving debug dump to /home/dmoore/python/sigvisa/logs/mcmc/01627/step_003009..."
       ]
      },
      {
       "output_type": "stream",
       "stream": "stdout",
       "text": [
        "\n",
        "saved pickled graph"
       ]
      },
      {
       "output_type": "stream",
       "stream": "stdout",
       "text": [
        "\n",
        "step 3010: lp -375.14, accepted arrival_time: 0.038%, coda_decay: 0.069%, coda_height: 0.095%, evdepth: 0.486%, evloc: 0.105%, evloc_big: 0.006%, evmb: 0.942%, evtime: 0.423%, indep_peak: 0.003%, peak_decay: 0.332%, peak_offset: 0.156%, , uatemplates: 0 , events: 1 "
       ]
      },
      {
       "output_type": "stream",
       "stream": "stdout",
       "text": [
        "\n",
        "saving debug dump to /home/dmoore/python/sigvisa/logs/mcmc/01627/step_003019..."
       ]
      },
      {
       "output_type": "stream",
       "stream": "stdout",
       "text": [
        "\n",
        "saved pickled graph"
       ]
      },
      {
       "output_type": "stream",
       "stream": "stdout",
       "text": [
        "\n",
        "step 3020: lp -378.47, accepted arrival_time: 0.039%, coda_decay: 0.069%, coda_height: 0.094%, evdepth: 0.486%, evloc: 0.105%, evloc_big: 0.006%, evmb: 0.942%, evtime: 0.424%, indep_peak: 0.003%, peak_decay: 0.332%, peak_offset: 0.155%, , uatemplates: 0 , events: 1 "
       ]
      },
      {
       "output_type": "stream",
       "stream": "stdout",
       "text": [
        "\n",
        "saving debug dump to /home/dmoore/python/sigvisa/logs/mcmc/01627/step_003029..."
       ]
      },
      {
       "output_type": "stream",
       "stream": "stdout",
       "text": [
        "\n",
        "saved pickled graph"
       ]
      },
      {
       "output_type": "stream",
       "stream": "stdout",
       "text": [
        "\n",
        "step 3030: lp -380.71, accepted arrival_time: 0.039%, coda_decay: 0.069%, coda_height: 0.094%, evdepth: 0.485%, evloc: 0.105%, evloc_big: 0.006%, evmb: 0.942%, evtime: 0.423%, indep_peak: 0.003%, peak_decay: 0.332%, peak_offset: 0.155%, , uatemplates: 0 , events: 1 "
       ]
      },
      {
       "output_type": "stream",
       "stream": "stdout",
       "text": [
        "\n",
        "saving debug dump to /home/dmoore/python/sigvisa/logs/mcmc/01627/step_003039..."
       ]
      },
      {
       "output_type": "stream",
       "stream": "stdout",
       "text": [
        "\n",
        "saved pickled graph"
       ]
      },
      {
       "output_type": "stream",
       "stream": "stdout",
       "text": [
        "\n",
        "step 3040: lp -374.48, accepted arrival_time: 0.039%, coda_decay: 0.070%, coda_height: 0.094%, evdepth: 0.485%, evloc: 0.105%, evloc_big: 0.006%, evmb: 0.942%, evtime: 0.423%, indep_peak: 0.003%, peak_decay: 0.332%, peak_offset: 0.155%, , uatemplates: 0 , events: 1 "
       ]
      },
      {
       "output_type": "stream",
       "stream": "stdout",
       "text": [
        "\n",
        "saving debug dump to /home/dmoore/python/sigvisa/logs/mcmc/01627/step_003049..."
       ]
      },
      {
       "output_type": "stream",
       "stream": "stdout",
       "text": [
        "\n",
        "saved pickled graph"
       ]
      },
      {
       "output_type": "stream",
       "stream": "stdout",
       "text": [
        "\n",
        "step 3050: lp -375.95, accepted arrival_time: 0.039%, coda_decay: 0.069%, coda_height: 0.094%, evdepth: 0.486%, evloc: 0.106%, evloc_big: 0.006%, evmb: 0.942%, evtime: 0.423%, indep_peak: 0.003%, peak_decay: 0.333%, peak_offset: 0.155%, , uatemplates: 0 , events: 1 "
       ]
      },
      {
       "output_type": "stream",
       "stream": "stdout",
       "text": [
        "\n",
        "saving debug dump to /home/dmoore/python/sigvisa/logs/mcmc/01627/step_003059..."
       ]
      },
      {
       "output_type": "stream",
       "stream": "stdout",
       "text": [
        "\n",
        "saved pickled graph"
       ]
      },
      {
       "output_type": "stream",
       "stream": "stdout",
       "text": [
        "\n",
        "step 3060: lp -372.07, accepted arrival_time: 0.039%, coda_decay: 0.069%, coda_height: 0.094%, evdepth: 0.485%, evloc: 0.106%, evloc_big: 0.006%, evmb: 0.943%, evtime: 0.424%, indep_peak: 0.003%, peak_decay: 0.333%, peak_offset: 0.155%, , uatemplates: 0 , events: 1 "
       ]
      },
      {
       "output_type": "stream",
       "stream": "stdout",
       "text": [
        "\n",
        "saving debug dump to /home/dmoore/python/sigvisa/logs/mcmc/01627/step_003069..."
       ]
      },
      {
       "output_type": "stream",
       "stream": "stdout",
       "text": [
        "\n",
        "saved pickled graph"
       ]
      },
      {
       "output_type": "stream",
       "stream": "stdout",
       "text": [
        "\n",
        "step 3070: lp -380.96, accepted arrival_time: 0.039%, coda_decay: 0.070%, coda_height: 0.094%, evdepth: 0.485%, evloc: 0.106%, evloc_big: 0.006%, evmb: 0.943%, evtime: 0.424%, indep_peak: 0.003%, peak_decay: 0.332%, peak_offset: 0.155%, , uatemplates: 0 , events: 1 "
       ]
      },
      {
       "output_type": "stream",
       "stream": "stdout",
       "text": [
        "\n",
        "saving debug dump to /home/dmoore/python/sigvisa/logs/mcmc/01627/step_003079..."
       ]
      },
      {
       "output_type": "stream",
       "stream": "stdout",
       "text": [
        "\n",
        "saved pickled graph"
       ]
      },
      {
       "output_type": "stream",
       "stream": "stdout",
       "text": [
        "\n",
        "step 3080: lp -377.56, accepted arrival_time: 0.039%, coda_decay: 0.070%, coda_height: 0.094%, evdepth: 0.484%, evloc: 0.105%, evloc_big: 0.006%, evmb: 0.943%, evtime: 0.424%, indep_peak: 0.003%, peak_decay: 0.332%, peak_offset: 0.155%, , uatemplates: 0 , events: 1 "
       ]
      },
      {
       "output_type": "stream",
       "stream": "stdout",
       "text": [
        "\n",
        "saving debug dump to /home/dmoore/python/sigvisa/logs/mcmc/01627/step_003089..."
       ]
      },
      {
       "output_type": "stream",
       "stream": "stdout",
       "text": [
        "\n",
        "saved pickled graph"
       ]
      },
      {
       "output_type": "stream",
       "stream": "stdout",
       "text": [
        "\n",
        "step 3090: lp -379.66, accepted arrival_time: 0.039%, coda_decay: 0.070%, coda_height: 0.095%, evdepth: 0.486%, evloc: 0.105%, evloc_big: 0.006%, evmb: 0.943%, evtime: 0.424%, indep_peak: 0.003%, peak_decay: 0.332%, peak_offset: 0.155%, , uatemplates: 0 , events: 1 "
       ]
      },
      {
       "output_type": "stream",
       "stream": "stdout",
       "text": [
        "\n",
        "saving debug dump to /home/dmoore/python/sigvisa/logs/mcmc/01627/step_003099..."
       ]
      },
      {
       "output_type": "stream",
       "stream": "stdout",
       "text": [
        "\n",
        "saved pickled graph"
       ]
      },
      {
       "output_type": "stream",
       "stream": "stdout",
       "text": [
        "\n",
        "step 3100: lp -378.40, accepted arrival_time: 0.039%, coda_decay: 0.070%, coda_height: 0.095%, evdepth: 0.486%, evloc: 0.105%, evloc_big: 0.006%, evmb: 0.943%, evtime: 0.424%, indep_peak: 0.003%, peak_decay: 0.333%, peak_offset: 0.155%, , uatemplates: 0 , events: 1 "
       ]
      },
      {
       "output_type": "stream",
       "stream": "stdout",
       "text": [
        "\n",
        "saving debug dump to /home/dmoore/python/sigvisa/logs/mcmc/01627/step_003109..."
       ]
      },
      {
       "output_type": "stream",
       "stream": "stdout",
       "text": [
        "\n",
        "saved pickled graph"
       ]
      },
      {
       "output_type": "stream",
       "stream": "stdout",
       "text": [
        "\n",
        "step 3110: lp -377.73, accepted arrival_time: 0.039%, coda_decay: 0.070%, coda_height: 0.095%, evdepth: 0.486%, evloc: 0.106%, evloc_big: 0.006%, evmb: 0.943%, evtime: 0.424%, indep_peak: 0.003%, peak_decay: 0.333%, peak_offset: 0.155%, , uatemplates: 0 , events: 1 "
       ]
      },
      {
       "output_type": "stream",
       "stream": "stdout",
       "text": [
        "\n",
        "saving debug dump to /home/dmoore/python/sigvisa/logs/mcmc/01627/step_003119..."
       ]
      },
      {
       "output_type": "stream",
       "stream": "stdout",
       "text": [
        "\n",
        "saved pickled graph"
       ]
      },
      {
       "output_type": "stream",
       "stream": "stdout",
       "text": [
        "\n",
        "step 3120: lp -375.77, accepted arrival_time: 0.039%, coda_decay: 0.070%, coda_height: 0.095%, evdepth: 0.486%, evloc: 0.105%, evloc_big: 0.006%, evmb: 0.943%, evtime: 0.424%, indep_peak: 0.002%, peak_decay: 0.333%, peak_offset: 0.155%, , uatemplates: 0 , events: 1 "
       ]
      },
      {
       "output_type": "stream",
       "stream": "stdout",
       "text": [
        "\n",
        "saving debug dump to /home/dmoore/python/sigvisa/logs/mcmc/01627/step_003129..."
       ]
      },
      {
       "output_type": "stream",
       "stream": "stdout",
       "text": [
        "\n",
        "saved pickled graph"
       ]
      },
      {
       "output_type": "stream",
       "stream": "stdout",
       "text": [
        "\n",
        "step 3130: lp -376.66, accepted arrival_time: 0.039%, coda_decay: 0.070%, coda_height: 0.095%, evdepth: 0.486%, evloc: 0.106%, evloc_big: 0.006%, evmb: 0.943%, evtime: 0.424%, indep_peak: 0.002%, peak_decay: 0.333%, peak_offset: 0.155%, , uatemplates: 0 , events: 1 "
       ]
      },
      {
       "output_type": "stream",
       "stream": "stdout",
       "text": [
        "\n",
        "saving debug dump to /home/dmoore/python/sigvisa/logs/mcmc/01627/step_003139..."
       ]
      },
      {
       "output_type": "stream",
       "stream": "stdout",
       "text": [
        "\n",
        "saved pickled graph"
       ]
      },
      {
       "output_type": "stream",
       "stream": "stdout",
       "text": [
        "\n",
        "step 3140: lp -376.45, accepted arrival_time: 0.039%, coda_decay: 0.070%, coda_height: 0.095%, evdepth: 0.486%, evloc: 0.105%, evloc_big: 0.006%, evmb: 0.943%, evtime: 0.425%, indep_peak: 0.003%, peak_decay: 0.333%, peak_offset: 0.155%, , uatemplates: 0 , events: 1 "
       ]
      },
      {
       "output_type": "stream",
       "stream": "stdout",
       "text": [
        "\n",
        "saving debug dump to /home/dmoore/python/sigvisa/logs/mcmc/01627/step_003149..."
       ]
      },
      {
       "output_type": "stream",
       "stream": "stdout",
       "text": [
        "\n",
        "saved pickled graph"
       ]
      },
      {
       "output_type": "stream",
       "stream": "stdout",
       "text": [
        "\n",
        "step 3150: lp -375.93, accepted arrival_time: 0.039%, coda_decay: 0.070%, coda_height: 0.095%, evdepth: 0.486%, evloc: 0.105%, evloc_big: 0.006%, evmb: 0.943%, evtime: 0.425%, indep_peak: 0.003%, peak_decay: 0.333%, peak_offset: 0.155%, , uatemplates: 0 , events: 1 "
       ]
      },
      {
       "output_type": "stream",
       "stream": "stdout",
       "text": [
        "\n",
        "saving debug dump to /home/dmoore/python/sigvisa/logs/mcmc/01627/step_003159..."
       ]
      },
      {
       "output_type": "stream",
       "stream": "stdout",
       "text": [
        "\n",
        "saved pickled graph"
       ]
      },
      {
       "output_type": "stream",
       "stream": "stdout",
       "text": [
        "\n",
        "step 3160: lp -378.23, accepted arrival_time: 0.039%, coda_decay: 0.070%, coda_height: 0.094%, evdepth: 0.488%, evloc: 0.106%, evloc_big: 0.006%, evmb: 0.943%, evtime: 0.424%, indep_peak: 0.003%, peak_decay: 0.334%, peak_offset: 0.155%, , uatemplates: 0 , events: 1 "
       ]
      },
      {
       "output_type": "stream",
       "stream": "stdout",
       "text": [
        "\n",
        "saving debug dump to /home/dmoore/python/sigvisa/logs/mcmc/01627/step_003169..."
       ]
      },
      {
       "output_type": "stream",
       "stream": "stdout",
       "text": [
        "\n",
        "saved pickled graph"
       ]
      },
      {
       "output_type": "stream",
       "stream": "stdout",
       "text": [
        "\n",
        "step 3170: lp -371.02, accepted arrival_time: 0.039%, coda_decay: 0.070%, coda_height: 0.094%, evdepth: 0.487%, evloc: 0.106%, evloc_big: 0.006%, evmb: 0.943%, evtime: 0.424%, indep_peak: 0.003%, peak_decay: 0.333%, peak_offset: 0.155%, , uatemplates: 0 , events: 1 "
       ]
      },
      {
       "output_type": "stream",
       "stream": "stdout",
       "text": [
        "\n",
        "saving debug dump to /home/dmoore/python/sigvisa/logs/mcmc/01627/step_003179..."
       ]
      },
      {
       "output_type": "stream",
       "stream": "stdout",
       "text": [
        "\n",
        "saved pickled graph"
       ]
      },
      {
       "output_type": "stream",
       "stream": "stdout",
       "text": [
        "\n",
        "step 3180: lp -372.84, accepted arrival_time: 0.039%, coda_decay: 0.070%, coda_height: 0.094%, evdepth: 0.487%, evloc: 0.105%, evloc_big: 0.006%, evmb: 0.943%, evtime: 0.425%, indep_peak: 0.003%, peak_decay: 0.333%, peak_offset: 0.155%, , uatemplates: 0 , events: 1 "
       ]
      },
      {
       "output_type": "stream",
       "stream": "stdout",
       "text": [
        "\n",
        "saving debug dump to /home/dmoore/python/sigvisa/logs/mcmc/01627/step_003189..."
       ]
      },
      {
       "output_type": "stream",
       "stream": "stdout",
       "text": [
        "\n",
        "saved pickled graph"
       ]
      },
      {
       "output_type": "stream",
       "stream": "stdout",
       "text": [
        "\n",
        "step 3190: lp -383.62, accepted arrival_time: 0.039%, coda_decay: 0.070%, coda_height: 0.094%, evdepth: 0.487%, evloc: 0.105%, evloc_big: 0.006%, evmb: 0.943%, evtime: 0.424%, indep_peak: 0.003%, peak_decay: 0.334%, peak_offset: 0.155%, , uatemplates: 0 , events: 1 "
       ]
      },
      {
       "output_type": "stream",
       "stream": "stdout",
       "text": [
        "\n",
        "saving debug dump to /home/dmoore/python/sigvisa/logs/mcmc/01627/step_003199..."
       ]
      },
      {
       "output_type": "stream",
       "stream": "stdout",
       "text": [
        "\n",
        "saved pickled graph"
       ]
      },
      {
       "output_type": "stream",
       "stream": "stdout",
       "text": [
        "\n",
        "step 3200: lp -382.38, accepted arrival_time: 0.039%, coda_decay: 0.070%, coda_height: 0.094%, evdepth: 0.487%, evloc: 0.105%, evloc_big: 0.006%, evmb: 0.943%, evtime: 0.424%, indep_peak: 0.003%, peak_decay: 0.334%, peak_offset: 0.155%, , uatemplates: 0 , events: 1 "
       ]
      },
      {
       "output_type": "stream",
       "stream": "stdout",
       "text": [
        "\n",
        "saving debug dump to /home/dmoore/python/sigvisa/logs/mcmc/01627/step_003209..."
       ]
      },
      {
       "output_type": "stream",
       "stream": "stdout",
       "text": [
        "\n",
        "saved pickled graph"
       ]
      },
      {
       "output_type": "stream",
       "stream": "stdout",
       "text": [
        "\n",
        "step 3210: lp -381.41, accepted arrival_time: 0.039%, coda_decay: 0.070%, coda_height: 0.094%, evdepth: 0.486%, evloc: 0.105%, evloc_big: 0.006%, evmb: 0.943%, evtime: 0.424%, indep_peak: 0.003%, peak_decay: 0.334%, peak_offset: 0.155%, , uatemplates: 0 , events: 1 "
       ]
      },
      {
       "output_type": "stream",
       "stream": "stdout",
       "text": [
        "\n",
        "saving debug dump to /home/dmoore/python/sigvisa/logs/mcmc/01627/step_003219..."
       ]
      },
      {
       "output_type": "stream",
       "stream": "stdout",
       "text": [
        "\n",
        "saved pickled graph"
       ]
      },
      {
       "output_type": "stream",
       "stream": "stdout",
       "text": [
        "\n",
        "step 3220: lp -381.80, accepted arrival_time: 0.039%, coda_decay: 0.070%, coda_height: 0.094%, evdepth: 0.486%, evloc: 0.105%, evloc_big: 0.006%, evmb: 0.943%, evtime: 0.423%, indep_peak: 0.003%, peak_decay: 0.334%, peak_offset: 0.155%, , uatemplates: 0 , events: 1 "
       ]
      },
      {
       "output_type": "stream",
       "stream": "stdout",
       "text": [
        "\n",
        "saving debug dump to /home/dmoore/python/sigvisa/logs/mcmc/01627/step_003229..."
       ]
      },
      {
       "output_type": "stream",
       "stream": "stdout",
       "text": [
        "\n",
        "saved pickled graph"
       ]
      },
      {
       "output_type": "stream",
       "stream": "stdout",
       "text": [
        "\n",
        "step 3230: lp -384.45, accepted arrival_time: 0.039%, coda_decay: 0.070%, coda_height: 0.094%, evdepth: 0.486%, evloc: 0.105%, evloc_big: 0.006%, evmb: 0.944%, evtime: 0.425%, indep_peak: 0.003%, peak_decay: 0.334%, peak_offset: 0.155%, , uatemplates: 0 , events: 1 "
       ]
      },
      {
       "output_type": "stream",
       "stream": "stdout",
       "text": [
        "\n",
        "saving debug dump to /home/dmoore/python/sigvisa/logs/mcmc/01627/step_003239..."
       ]
      },
      {
       "output_type": "stream",
       "stream": "stdout",
       "text": [
        "\n",
        "saved pickled graph"
       ]
      },
      {
       "output_type": "stream",
       "stream": "stdout",
       "text": [
        "\n",
        "step 3240: lp -382.55, accepted arrival_time: 0.039%, coda_decay: 0.070%, coda_height: 0.094%, evdepth: 0.485%, evloc: 0.105%, evloc_big: 0.006%, evmb: 0.943%, evtime: 0.424%, indep_peak: 0.003%, peak_decay: 0.334%, peak_offset: 0.155%, , uatemplates: 0 , events: 1 "
       ]
      },
      {
       "output_type": "stream",
       "stream": "stdout",
       "text": [
        "\n",
        "saving debug dump to /home/dmoore/python/sigvisa/logs/mcmc/01627/step_003249..."
       ]
      },
      {
       "output_type": "stream",
       "stream": "stdout",
       "text": [
        "\n",
        "saved pickled graph"
       ]
      },
      {
       "output_type": "stream",
       "stream": "stdout",
       "text": [
        "\n",
        "step 3250: lp -378.31, accepted arrival_time: 0.039%, coda_decay: 0.070%, coda_height: 0.094%, evdepth: 0.485%, evloc: 0.105%, evloc_big: 0.006%, evmb: 0.943%, evtime: 0.424%, indep_peak: 0.003%, peak_decay: 0.334%, peak_offset: 0.155%, , uatemplates: 0 , events: 1 "
       ]
      },
      {
       "output_type": "stream",
       "stream": "stdout",
       "text": [
        "\n",
        "saving debug dump to /home/dmoore/python/sigvisa/logs/mcmc/01627/step_003259..."
       ]
      },
      {
       "output_type": "stream",
       "stream": "stdout",
       "text": [
        "\n",
        "saved pickled graph"
       ]
      },
      {
       "output_type": "stream",
       "stream": "stdout",
       "text": [
        "\n",
        "step 3260: lp -382.59, accepted arrival_time: 0.039%, coda_decay: 0.070%, coda_height: 0.094%, evdepth: 0.485%, evloc: 0.105%, evloc_big: 0.006%, evmb: 0.944%, evtime: 0.424%, indep_peak: 0.003%, peak_decay: 0.334%, peak_offset: 0.155%, , uatemplates: 0 , events: 1 "
       ]
      },
      {
       "output_type": "stream",
       "stream": "stdout",
       "text": [
        "\n",
        "saving debug dump to /home/dmoore/python/sigvisa/logs/mcmc/01627/step_003269..."
       ]
      },
      {
       "output_type": "stream",
       "stream": "stdout",
       "text": [
        "\n",
        "saved pickled graph"
       ]
      },
      {
       "output_type": "stream",
       "stream": "stdout",
       "text": [
        "\n",
        "step 3270: lp -385.05, accepted arrival_time: 0.039%, coda_decay: 0.070%, coda_height: 0.094%, evdepth: 0.485%, evloc: 0.105%, evloc_big: 0.006%, evmb: 0.943%, evtime: 0.424%, indep_peak: 0.003%, peak_decay: 0.334%, peak_offset: 0.155%, , uatemplates: 0 , events: 1 "
       ]
      },
      {
       "output_type": "stream",
       "stream": "stdout",
       "text": [
        "\n",
        "saving debug dump to /home/dmoore/python/sigvisa/logs/mcmc/01627/step_003279..."
       ]
      },
      {
       "output_type": "stream",
       "stream": "stdout",
       "text": [
        "\n",
        "saved pickled graph"
       ]
      },
      {
       "output_type": "stream",
       "stream": "stdout",
       "text": [
        "\n",
        "step 3280: lp -378.56, accepted arrival_time: 0.039%, coda_decay: 0.070%, coda_height: 0.094%, evdepth: 0.486%, evloc: 0.105%, evloc_big: 0.006%, evmb: 0.944%, evtime: 0.424%, indep_peak: 0.003%, peak_decay: 0.334%, peak_offset: 0.155%, , uatemplates: 0 , events: 1 "
       ]
      },
      {
       "output_type": "stream",
       "stream": "stdout",
       "text": [
        "\n",
        "saving debug dump to /home/dmoore/python/sigvisa/logs/mcmc/01627/step_003289..."
       ]
      },
      {
       "output_type": "stream",
       "stream": "stdout",
       "text": [
        "\n",
        "saved pickled graph"
       ]
      },
      {
       "output_type": "stream",
       "stream": "stdout",
       "text": [
        "\n",
        "step 3290: lp -376.90, accepted arrival_time: 0.039%, coda_decay: 0.070%, coda_height: 0.095%, evdepth: 0.486%, evloc: 0.105%, evloc_big: 0.006%, evmb: 0.943%, evtime: 0.424%, indep_peak: 0.003%, peak_decay: 0.334%, peak_offset: 0.155%, , uatemplates: 0 , events: 1 "
       ]
      },
      {
       "output_type": "stream",
       "stream": "stdout",
       "text": [
        "\n",
        "saving debug dump to /home/dmoore/python/sigvisa/logs/mcmc/01627/step_003299..."
       ]
      },
      {
       "output_type": "stream",
       "stream": "stdout",
       "text": [
        "\n",
        "saved pickled graph"
       ]
      },
      {
       "output_type": "stream",
       "stream": "stdout",
       "text": [
        "\n",
        "step 3300: lp -389.49, accepted arrival_time: 0.039%, coda_decay: 0.070%, coda_height: 0.095%, evdepth: 0.487%, evloc: 0.105%, evloc_big: 0.006%, evmb: 0.944%, evtime: 0.424%, indep_peak: 0.003%, peak_decay: 0.334%, peak_offset: 0.155%, , uatemplates: 0 , events: 1 "
       ]
      },
      {
       "output_type": "stream",
       "stream": "stdout",
       "text": [
        "\n",
        "saving debug dump to /home/dmoore/python/sigvisa/logs/mcmc/01627/step_003309..."
       ]
      },
      {
       "output_type": "stream",
       "stream": "stdout",
       "text": [
        "\n",
        "saved pickled graph"
       ]
      },
      {
       "output_type": "stream",
       "stream": "stdout",
       "text": [
        "\n",
        "step 3310: lp -381.52, accepted arrival_time: 0.039%, coda_decay: 0.070%, coda_height: 0.095%, evdepth: 0.487%, evloc: 0.105%, evloc_big: 0.006%, evmb: 0.944%, evtime: 0.423%, indep_peak: 0.003%, peak_decay: 0.334%, peak_offset: 0.155%, , uatemplates: 0 , events: 1 "
       ]
      },
      {
       "output_type": "stream",
       "stream": "stdout",
       "text": [
        "\n",
        "saving debug dump to /home/dmoore/python/sigvisa/logs/mcmc/01627/step_003319..."
       ]
      },
      {
       "output_type": "stream",
       "stream": "stdout",
       "text": [
        "\n",
        "saved pickled graph"
       ]
      },
      {
       "output_type": "stream",
       "stream": "stdout",
       "text": [
        "\n",
        "step 3320: lp -383.34, accepted arrival_time: 0.039%, coda_decay: 0.070%, coda_height: 0.095%, evdepth: 0.487%, evloc: 0.105%, evloc_big: 0.006%, evmb: 0.943%, evtime: 0.422%, indep_peak: 0.003%, peak_decay: 0.334%, peak_offset: 0.155%, , uatemplates: 0 , events: 1 "
       ]
      },
      {
       "output_type": "stream",
       "stream": "stdout",
       "text": [
        "\n",
        "saving debug dump to /home/dmoore/python/sigvisa/logs/mcmc/01627/step_003329..."
       ]
      },
      {
       "output_type": "stream",
       "stream": "stdout",
       "text": [
        "\n",
        "saved pickled graph"
       ]
      },
      {
       "output_type": "stream",
       "stream": "stdout",
       "text": [
        "\n",
        "step 3330: lp -382.85, accepted arrival_time: 0.039%, coda_decay: 0.070%, coda_height: 0.095%, evdepth: 0.487%, evloc: 0.105%, evloc_big: 0.006%, evmb: 0.943%, evtime: 0.422%, indep_peak: 0.003%, peak_decay: 0.333%, peak_offset: 0.155%, , uatemplates: 0 , events: 1 "
       ]
      },
      {
       "output_type": "stream",
       "stream": "stdout",
       "text": [
        "\n",
        "saving debug dump to /home/dmoore/python/sigvisa/logs/mcmc/01627/step_003339..."
       ]
      },
      {
       "output_type": "stream",
       "stream": "stdout",
       "text": [
        "\n",
        "saved pickled graph"
       ]
      },
      {
       "output_type": "stream",
       "stream": "stdout",
       "text": [
        "\n",
        "step 3340: lp -372.04, accepted arrival_time: 0.039%, coda_decay: 0.070%, coda_height: 0.095%, evdepth: 0.487%, evloc: 0.105%, evloc_big: 0.006%, evmb: 0.943%, evtime: 0.421%, indep_peak: 0.003%, peak_decay: 0.333%, peak_offset: 0.155%, , uatemplates: 0 , events: 1 "
       ]
      },
      {
       "output_type": "stream",
       "stream": "stdout",
       "text": [
        "\n",
        "saving debug dump to /home/dmoore/python/sigvisa/logs/mcmc/01627/step_003349..."
       ]
      },
      {
       "output_type": "stream",
       "stream": "stdout",
       "text": [
        "\n",
        "saved pickled graph"
       ]
      },
      {
       "output_type": "stream",
       "stream": "stdout",
       "text": [
        "\n",
        "step 3350: lp -384.24, accepted arrival_time: 0.039%, coda_decay: 0.070%, coda_height: 0.095%, evdepth: 0.487%, evloc: 0.106%, evloc_big: 0.006%, evmb: 0.944%, evtime: 0.421%, indep_peak: 0.003%, peak_decay: 0.333%, peak_offset: 0.155%, , uatemplates: 0 , events: 1 "
       ]
      },
      {
       "output_type": "stream",
       "stream": "stdout",
       "text": [
        "\n",
        "saving debug dump to /home/dmoore/python/sigvisa/logs/mcmc/01627/step_003359..."
       ]
      },
      {
       "output_type": "stream",
       "stream": "stdout",
       "text": [
        "\n",
        "saved pickled graph"
       ]
      },
      {
       "output_type": "stream",
       "stream": "stdout",
       "text": [
        "\n",
        "step 3360: lp -379.06, accepted arrival_time: 0.039%, coda_decay: 0.070%, coda_height: 0.095%, evdepth: 0.487%, evloc: 0.106%, evloc_big: 0.006%, evmb: 0.944%, evtime: 0.421%, indep_peak: 0.002%, peak_decay: 0.333%, peak_offset: 0.155%, , uatemplates: 0 , events: 1 "
       ]
      },
      {
       "output_type": "stream",
       "stream": "stdout",
       "text": [
        "\n",
        "saving debug dump to /home/dmoore/python/sigvisa/logs/mcmc/01627/step_003369..."
       ]
      },
      {
       "output_type": "stream",
       "stream": "stdout",
       "text": [
        "\n",
        "saved pickled graph"
       ]
      },
      {
       "output_type": "stream",
       "stream": "stdout",
       "text": [
        "\n",
        "step 3370: lp -379.28, accepted arrival_time: 0.039%, coda_decay: 0.070%, coda_height: 0.095%, evdepth: 0.487%, evloc: 0.105%, evloc_big: 0.006%, evmb: 0.944%, evtime: 0.421%, indep_peak: 0.002%, peak_decay: 0.333%, peak_offset: 0.155%, , uatemplates: 0 , events: 1 "
       ]
      },
      {
       "output_type": "stream",
       "stream": "stdout",
       "text": [
        "\n",
        "saving debug dump to /home/dmoore/python/sigvisa/logs/mcmc/01627/step_003379..."
       ]
      },
      {
       "output_type": "stream",
       "stream": "stdout",
       "text": [
        "\n",
        "saved pickled graph"
       ]
      },
      {
       "output_type": "stream",
       "stream": "stdout",
       "text": [
        "\n",
        "step 3380: lp -382.12, accepted arrival_time: 0.039%, coda_decay: 0.070%, coda_height: 0.095%, evdepth: 0.487%, evloc: 0.105%, evloc_big: 0.006%, evmb: 0.944%, evtime: 0.421%, indep_peak: 0.002%, peak_decay: 0.333%, peak_offset: 0.155%, , uatemplates: 0 , events: 1 "
       ]
      },
      {
       "output_type": "stream",
       "stream": "stdout",
       "text": [
        "\n",
        "saving debug dump to /home/dmoore/python/sigvisa/logs/mcmc/01627/step_003389..."
       ]
      },
      {
       "output_type": "stream",
       "stream": "stdout",
       "text": [
        "\n",
        "saved pickled graph"
       ]
      },
      {
       "output_type": "stream",
       "stream": "stdout",
       "text": [
        "\n",
        "step 3390: lp -377.39, accepted arrival_time: 0.039%, coda_decay: 0.069%, coda_height: 0.095%, evdepth: 0.487%, evloc: 0.105%, evloc_big: 0.006%, evmb: 0.944%, evtime: 0.421%, indep_peak: 0.002%, peak_decay: 0.333%, peak_offset: 0.155%, , uatemplates: 0 , events: 1 "
       ]
      },
      {
       "output_type": "stream",
       "stream": "stdout",
       "text": [
        "\n",
        "saving debug dump to /home/dmoore/python/sigvisa/logs/mcmc/01627/step_003399..."
       ]
      },
      {
       "output_type": "stream",
       "stream": "stdout",
       "text": [
        "\n",
        "saved pickled graph"
       ]
      },
      {
       "output_type": "stream",
       "stream": "stdout",
       "text": [
        "\n",
        "step 3400: lp -375.31, accepted arrival_time: 0.039%, coda_decay: 0.069%, coda_height: 0.095%, evdepth: 0.488%, evloc: 0.105%, evloc_big: 0.006%, evmb: 0.944%, evtime: 0.421%, indep_peak: 0.002%, peak_decay: 0.332%, peak_offset: 0.155%, , uatemplates: 0 , events: 1 "
       ]
      },
      {
       "output_type": "stream",
       "stream": "stdout",
       "text": [
        "\n",
        "saving debug dump to /home/dmoore/python/sigvisa/logs/mcmc/01627/step_003409..."
       ]
      },
      {
       "output_type": "stream",
       "stream": "stdout",
       "text": [
        "\n",
        "saved pickled graph"
       ]
      },
      {
       "output_type": "stream",
       "stream": "stdout",
       "text": [
        "\n",
        "step 3410: lp -380.47, accepted arrival_time: 0.039%, coda_decay: 0.069%, coda_height: 0.095%, evdepth: 0.488%, evloc: 0.105%, evloc_big: 0.006%, evmb: 0.945%, evtime: 0.421%, indep_peak: 0.002%, peak_decay: 0.333%, peak_offset: 0.155%, , uatemplates: 0 , events: 1 "
       ]
      },
      {
       "output_type": "stream",
       "stream": "stdout",
       "text": [
        "\n",
        "saving debug dump to /home/dmoore/python/sigvisa/logs/mcmc/01627/step_003419..."
       ]
      },
      {
       "output_type": "stream",
       "stream": "stdout",
       "text": [
        "\n",
        "saved pickled graph"
       ]
      },
      {
       "output_type": "stream",
       "stream": "stdout",
       "text": [
        "\n",
        "step 3420: lp -389.29, accepted arrival_time: 0.039%, coda_decay: 0.069%, coda_height: 0.095%, evdepth: 0.488%, evloc: 0.104%, evloc_big: 0.006%, evmb: 0.944%, evtime: 0.421%, indep_peak: 0.002%, peak_decay: 0.333%, peak_offset: 0.155%, , uatemplates: 0 , events: 1 "
       ]
      },
      {
       "output_type": "stream",
       "stream": "stdout",
       "text": [
        "\n",
        "saving debug dump to /home/dmoore/python/sigvisa/logs/mcmc/01627/step_003429..."
       ]
      },
      {
       "output_type": "stream",
       "stream": "stdout",
       "text": [
        "\n",
        "saved pickled graph"
       ]
      },
      {
       "output_type": "stream",
       "stream": "stdout",
       "text": [
        "\n",
        "step 3430: lp -378.04, accepted arrival_time: 0.039%, coda_decay: 0.069%, coda_height: 0.095%, evdepth: 0.487%, evloc: 0.104%, evloc_big: 0.006%, evmb: 0.945%, evtime: 0.421%, indep_peak: 0.002%, peak_decay: 0.332%, peak_offset: 0.155%, , uatemplates: 0 , events: 1 "
       ]
      },
      {
       "output_type": "stream",
       "stream": "stdout",
       "text": [
        "\n",
        "saving debug dump to /home/dmoore/python/sigvisa/logs/mcmc/01627/step_003439..."
       ]
      },
      {
       "output_type": "stream",
       "stream": "stdout",
       "text": [
        "\n",
        "saved pickled graph"
       ]
      },
      {
       "output_type": "stream",
       "stream": "stdout",
       "text": [
        "\n",
        "step 3440: lp -376.43, accepted arrival_time: 0.039%, coda_decay: 0.069%, coda_height: 0.095%, evdepth: 0.486%, evloc: 0.104%, evloc_big: 0.006%, evmb: 0.944%, evtime: 0.422%, indep_peak: 0.002%, peak_decay: 0.333%, peak_offset: 0.155%, , uatemplates: 0 , events: 1 "
       ]
      },
      {
       "output_type": "stream",
       "stream": "stdout",
       "text": [
        "\n",
        "saving debug dump to /home/dmoore/python/sigvisa/logs/mcmc/01627/step_003449..."
       ]
      },
      {
       "output_type": "stream",
       "stream": "stdout",
       "text": [
        "\n",
        "saved pickled graph"
       ]
      },
      {
       "output_type": "stream",
       "stream": "stdout",
       "text": [
        "\n",
        "step 3450: lp -381.28, accepted arrival_time: 0.039%, coda_decay: 0.069%, coda_height: 0.095%, evdepth: 0.486%, evloc: 0.103%, evloc_big: 0.006%, evmb: 0.944%, evtime: 0.421%, indep_peak: 0.002%, peak_decay: 0.333%, peak_offset: 0.155%, , uatemplates: 0 , events: 1 "
       ]
      },
      {
       "output_type": "stream",
       "stream": "stdout",
       "text": [
        "\n",
        "saving debug dump to /home/dmoore/python/sigvisa/logs/mcmc/01627/step_003459..."
       ]
      },
      {
       "output_type": "stream",
       "stream": "stdout",
       "text": [
        "\n",
        "saved pickled graph"
       ]
      },
      {
       "output_type": "stream",
       "stream": "stdout",
       "text": [
        "\n",
        "step 3460: lp -383.65, accepted arrival_time: 0.039%, coda_decay: 0.069%, coda_height: 0.095%, evdepth: 0.487%, evloc: 0.104%, evloc_big: 0.006%, evmb: 0.945%, evtime: 0.421%, indep_peak: 0.002%, peak_decay: 0.333%, peak_offset: 0.154%, , uatemplates: 0 , events: 1 "
       ]
      },
      {
       "output_type": "stream",
       "stream": "stdout",
       "text": [
        "\n",
        "saving debug dump to /home/dmoore/python/sigvisa/logs/mcmc/01627/step_003469..."
       ]
      },
      {
       "output_type": "stream",
       "stream": "stdout",
       "text": [
        "\n",
        "saved pickled graph"
       ]
      },
      {
       "output_type": "stream",
       "stream": "stdout",
       "text": [
        "\n",
        "step 3470: lp -374.78, accepted arrival_time: 0.039%, coda_decay: 0.069%, coda_height: 0.095%, evdepth: 0.487%, evloc: 0.104%, evloc_big: 0.006%, evmb: 0.945%, evtime: 0.421%, indep_peak: 0.002%, peak_decay: 0.333%, peak_offset: 0.154%, , uatemplates: 0 , events: 1 "
       ]
      },
      {
       "output_type": "stream",
       "stream": "stdout",
       "text": [
        "\n",
        "saving debug dump to /home/dmoore/python/sigvisa/logs/mcmc/01627/step_003479..."
       ]
      },
      {
       "output_type": "stream",
       "stream": "stdout",
       "text": [
        "\n",
        "saved pickled graph"
       ]
      },
      {
       "output_type": "stream",
       "stream": "stdout",
       "text": [
        "\n",
        "step 3480: lp -375.70, accepted arrival_time: 0.039%, coda_decay: 0.069%, coda_height: 0.095%, evdepth: 0.487%, evloc: 0.104%, evloc_big: 0.006%, evmb: 0.945%, evtime: 0.421%, indep_peak: 0.002%, peak_decay: 0.333%, peak_offset: 0.154%, , uatemplates: 0 , events: 1 "
       ]
      },
      {
       "output_type": "stream",
       "stream": "stdout",
       "text": [
        "\n",
        "saving debug dump to /home/dmoore/python/sigvisa/logs/mcmc/01627/step_003489..."
       ]
      },
      {
       "output_type": "stream",
       "stream": "stdout",
       "text": [
        "\n",
        "saved pickled graph"
       ]
      },
      {
       "output_type": "stream",
       "stream": "stdout",
       "text": [
        "\n",
        "step 3490: lp -376.86, accepted arrival_time: 0.039%, coda_decay: 0.069%, coda_height: 0.095%, evdepth: 0.487%, evloc: 0.104%, evloc_big: 0.006%, evmb: 0.945%, evtime: 0.420%, indep_peak: 0.002%, peak_decay: 0.334%, peak_offset: 0.154%, , uatemplates: 0 , events: 1 "
       ]
      },
      {
       "output_type": "stream",
       "stream": "stdout",
       "text": [
        "\n",
        "saving debug dump to /home/dmoore/python/sigvisa/logs/mcmc/01627/step_003499..."
       ]
      },
      {
       "output_type": "stream",
       "stream": "stdout",
       "text": [
        "\n",
        "saved pickled graph"
       ]
      },
      {
       "output_type": "stream",
       "stream": "stdout",
       "text": [
        "\n",
        "step 3500: lp -381.54, accepted arrival_time: 0.039%, coda_decay: 0.069%, coda_height: 0.095%, evdepth: 0.487%, evloc: 0.104%, evloc_big: 0.006%, evmb: 0.945%, evtime: 0.420%, indep_peak: 0.002%, peak_decay: 0.334%, peak_offset: 0.154%, , uatemplates: 0 , events: 1 "
       ]
      },
      {
       "output_type": "stream",
       "stream": "stdout",
       "text": [
        "\n",
        "saving debug dump to /home/dmoore/python/sigvisa/logs/mcmc/01627/step_003509..."
       ]
      },
      {
       "output_type": "stream",
       "stream": "stdout",
       "text": [
        "\n",
        "saved pickled graph"
       ]
      },
      {
       "output_type": "stream",
       "stream": "stdout",
       "text": [
        "\n",
        "step 3510: lp -379.39, accepted arrival_time: 0.039%, coda_decay: 0.069%, coda_height: 0.095%, evdepth: 0.487%, evloc: 0.104%, evloc_big: 0.006%, evmb: 0.945%, evtime: 0.420%, indep_peak: 0.002%, peak_decay: 0.334%, peak_offset: 0.154%, , uatemplates: 0 , events: 1 "
       ]
      },
      {
       "output_type": "stream",
       "stream": "stdout",
       "text": [
        "\n",
        "saving debug dump to /home/dmoore/python/sigvisa/logs/mcmc/01627/step_003519..."
       ]
      },
      {
       "output_type": "stream",
       "stream": "stdout",
       "text": [
        "\n",
        "saved pickled graph"
       ]
      },
      {
       "output_type": "stream",
       "stream": "stdout",
       "text": [
        "\n",
        "step 3520: lp -385.12, accepted arrival_time: 0.039%, coda_decay: 0.069%, coda_height: 0.095%, evdepth: 0.487%, evloc: 0.104%, evloc_big: 0.006%, evmb: 0.945%, evtime: 0.420%, indep_peak: 0.002%, peak_decay: 0.334%, peak_offset: 0.154%, , uatemplates: 0 , events: 1 "
       ]
      },
      {
       "output_type": "stream",
       "stream": "stdout",
       "text": [
        "\n",
        "saving debug dump to /home/dmoore/python/sigvisa/logs/mcmc/01627/step_003529..."
       ]
      },
      {
       "output_type": "stream",
       "stream": "stdout",
       "text": [
        "\n",
        "saved pickled graph"
       ]
      },
      {
       "output_type": "stream",
       "stream": "stdout",
       "text": [
        "\n",
        "step 3530: lp -382.54, accepted arrival_time: 0.039%, coda_decay: 0.069%, coda_height: 0.096%, evdepth: 0.488%, evloc: 0.104%, evloc_big: 0.006%, evmb: 0.945%, evtime: 0.420%, indep_peak: 0.002%, peak_decay: 0.335%, peak_offset: 0.154%, , uatemplates: 0 , events: 1 "
       ]
      },
      {
       "output_type": "stream",
       "stream": "stdout",
       "text": [
        "\n",
        "saving debug dump to /home/dmoore/python/sigvisa/logs/mcmc/01627/step_003539..."
       ]
      },
      {
       "output_type": "stream",
       "stream": "stdout",
       "text": [
        "\n",
        "saved pickled graph"
       ]
      },
      {
       "output_type": "stream",
       "stream": "stdout",
       "text": [
        "\n",
        "step 3540: lp -374.00, accepted arrival_time: 0.039%, coda_decay: 0.069%, coda_height: 0.096%, evdepth: 0.488%, evloc: 0.104%, evloc_big: 0.006%, evmb: 0.945%, evtime: 0.420%, indep_peak: 0.002%, peak_decay: 0.334%, peak_offset: 0.154%, , uatemplates: 0 , events: 1 "
       ]
      },
      {
       "output_type": "stream",
       "stream": "stdout",
       "text": [
        "\n",
        "saving debug dump to /home/dmoore/python/sigvisa/logs/mcmc/01627/step_003549..."
       ]
      },
      {
       "output_type": "stream",
       "stream": "stdout",
       "text": [
        "\n",
        "saved pickled graph"
       ]
      },
      {
       "output_type": "stream",
       "stream": "stdout",
       "text": [
        "\n",
        "step 3550: lp -376.85, accepted arrival_time: 0.039%, coda_decay: 0.069%, coda_height: 0.096%, evdepth: 0.489%, evloc: 0.103%, evloc_big: 0.006%, evmb: 0.945%, evtime: 0.420%, indep_peak: 0.002%, peak_decay: 0.334%, peak_offset: 0.154%, , uatemplates: 0 , events: 1 "
       ]
      },
      {
       "output_type": "stream",
       "stream": "stdout",
       "text": [
        "\n",
        "saving debug dump to /home/dmoore/python/sigvisa/logs/mcmc/01627/step_003559..."
       ]
      },
      {
       "output_type": "stream",
       "stream": "stdout",
       "text": [
        "\n",
        "saved pickled graph"
       ]
      },
      {
       "output_type": "stream",
       "stream": "stdout",
       "text": [
        "\n",
        "step 3560: lp -386.76, accepted arrival_time: 0.039%, coda_decay: 0.069%, coda_height: 0.096%, evdepth: 0.489%, evloc: 0.103%, evloc_big: 0.006%, evmb: 0.945%, evtime: 0.420%, indep_peak: 0.002%, peak_decay: 0.334%, peak_offset: 0.154%, , uatemplates: 0 , events: 1 "
       ]
      },
      {
       "output_type": "stream",
       "stream": "stdout",
       "text": [
        "\n",
        "saving debug dump to /home/dmoore/python/sigvisa/logs/mcmc/01627/step_003569..."
       ]
      },
      {
       "output_type": "stream",
       "stream": "stdout",
       "text": [
        "\n",
        "saved pickled graph"
       ]
      },
      {
       "output_type": "stream",
       "stream": "stdout",
       "text": [
        "\n",
        "step 3570: lp -380.92, accepted arrival_time: 0.039%, coda_decay: 0.069%, coda_height: 0.096%, evdepth: 0.489%, evloc: 0.103%, evloc_big: 0.006%, evmb: 0.944%, evtime: 0.419%, indep_peak: 0.002%, peak_decay: 0.335%, peak_offset: 0.154%, , uatemplates: 0 , events: 1 "
       ]
      },
      {
       "output_type": "stream",
       "stream": "stdout",
       "text": [
        "\n",
        "saving debug dump to /home/dmoore/python/sigvisa/logs/mcmc/01627/step_003579..."
       ]
      },
      {
       "output_type": "stream",
       "stream": "stdout",
       "text": [
        "\n",
        "saved pickled graph"
       ]
      },
      {
       "output_type": "stream",
       "stream": "stdout",
       "text": [
        "\n",
        "step 3580: lp -385.44, accepted arrival_time: 0.039%, coda_decay: 0.069%, coda_height: 0.096%, evdepth: 0.489%, evloc: 0.103%, evloc_big: 0.006%, evmb: 0.944%, evtime: 0.420%, indep_peak: 0.002%, peak_decay: 0.335%, peak_offset: 0.154%, , uatemplates: 0 , events: 1 "
       ]
      },
      {
       "output_type": "stream",
       "stream": "stdout",
       "text": [
        "\n",
        "saving debug dump to /home/dmoore/python/sigvisa/logs/mcmc/01627/step_003589..."
       ]
      },
      {
       "output_type": "stream",
       "stream": "stdout",
       "text": [
        "\n",
        "saved pickled graph"
       ]
      },
      {
       "output_type": "stream",
       "stream": "stdout",
       "text": [
        "\n",
        "step 3590: lp -383.02, accepted arrival_time: 0.039%, coda_decay: 0.069%, coda_height: 0.096%, evdepth: 0.489%, evloc: 0.103%, evloc_big: 0.006%, evmb: 0.944%, evtime: 0.419%, indep_peak: 0.002%, peak_decay: 0.335%, peak_offset: 0.154%, , uatemplates: 0 , events: 1 "
       ]
      },
      {
       "output_type": "stream",
       "stream": "stdout",
       "text": [
        "\n",
        "saving debug dump to /home/dmoore/python/sigvisa/logs/mcmc/01627/step_003599..."
       ]
      },
      {
       "output_type": "stream",
       "stream": "stdout",
       "text": [
        "\n",
        "saved pickled graph"
       ]
      },
      {
       "output_type": "stream",
       "stream": "stdout",
       "text": [
        "\n",
        "step 3600: lp -384.67, accepted arrival_time: 0.039%, coda_decay: 0.069%, coda_height: 0.096%, evdepth: 0.489%, evloc: 0.103%, evloc_big: 0.006%, evmb: 0.944%, evtime: 0.420%, indep_peak: 0.002%, peak_decay: 0.335%, peak_offset: 0.154%, , uatemplates: 0 , events: 1 "
       ]
      },
      {
       "output_type": "stream",
       "stream": "stdout",
       "text": [
        "\n",
        "saving debug dump to /home/dmoore/python/sigvisa/logs/mcmc/01627/step_003609..."
       ]
      },
      {
       "output_type": "stream",
       "stream": "stdout",
       "text": [
        "\n",
        "saved pickled graph"
       ]
      },
      {
       "output_type": "stream",
       "stream": "stdout",
       "text": [
        "\n",
        "step 3610: lp -379.31, accepted arrival_time: 0.039%, coda_decay: 0.069%, coda_height: 0.096%, evdepth: 0.489%, evloc: 0.103%, evloc_big: 0.006%, evmb: 0.944%, evtime: 0.420%, indep_peak: 0.002%, peak_decay: 0.335%, peak_offset: 0.154%, , uatemplates: 0 , events: 1 "
       ]
      },
      {
       "output_type": "stream",
       "stream": "stdout",
       "text": [
        "\n",
        "saving debug dump to /home/dmoore/python/sigvisa/logs/mcmc/01627/step_003619..."
       ]
      },
      {
       "output_type": "stream",
       "stream": "stdout",
       "text": [
        "\n",
        "saved pickled graph"
       ]
      },
      {
       "output_type": "stream",
       "stream": "stdout",
       "text": [
        "\n",
        "step 3620: lp -381.05, accepted arrival_time: 0.039%, coda_decay: 0.069%, coda_height: 0.096%, evdepth: 0.489%, evloc: 0.102%, evloc_big: 0.006%, evmb: 0.944%, evtime: 0.420%, indep_peak: 0.002%, peak_decay: 0.335%, peak_offset: 0.154%, , uatemplates: 0 , events: 1 "
       ]
      },
      {
       "output_type": "stream",
       "stream": "stdout",
       "text": [
        "\n",
        "saving debug dump to /home/dmoore/python/sigvisa/logs/mcmc/01627/step_003629..."
       ]
      },
      {
       "output_type": "stream",
       "stream": "stdout",
       "text": [
        "\n",
        "saved pickled graph"
       ]
      },
      {
       "output_type": "stream",
       "stream": "stdout",
       "text": [
        "\n",
        "step 3630: lp -383.43, accepted arrival_time: 0.039%, coda_decay: 0.069%, coda_height: 0.096%, evdepth: 0.489%, evloc: 0.102%, evloc_big: 0.006%, evmb: 0.944%, evtime: 0.419%, indep_peak: 0.002%, peak_decay: 0.335%, peak_offset: 0.154%, , uatemplates: 0 , events: 1 "
       ]
      },
      {
       "output_type": "stream",
       "stream": "stdout",
       "text": [
        "\n",
        "saving debug dump to /home/dmoore/python/sigvisa/logs/mcmc/01627/step_003639..."
       ]
      },
      {
       "output_type": "stream",
       "stream": "stdout",
       "text": [
        "\n",
        "saved pickled graph"
       ]
      },
      {
       "output_type": "stream",
       "stream": "stdout",
       "text": [
        "\n",
        "step 3640: lp -377.52, accepted arrival_time: 0.039%, coda_decay: 0.069%, coda_height: 0.096%, evdepth: 0.489%, evloc: 0.103%, evloc_big: 0.006%, evmb: 0.944%, evtime: 0.419%, indep_peak: 0.002%, peak_decay: 0.335%, peak_offset: 0.154%, , uatemplates: 0 , events: 1 "
       ]
      },
      {
       "output_type": "stream",
       "stream": "stdout",
       "text": [
        "\n",
        "saving debug dump to /home/dmoore/python/sigvisa/logs/mcmc/01627/step_003649..."
       ]
      },
      {
       "output_type": "stream",
       "stream": "stdout",
       "text": [
        "\n",
        "saved pickled graph"
       ]
      },
      {
       "output_type": "stream",
       "stream": "stdout",
       "text": [
        "\n",
        "step 3650: lp -377.95, accepted arrival_time: 0.039%, coda_decay: 0.069%, coda_height: 0.095%, evdepth: 0.489%, evloc: 0.103%, evloc_big: 0.006%, evmb: 0.944%, evtime: 0.419%, indep_peak: 0.002%, peak_decay: 0.335%, peak_offset: 0.154%, , uatemplates: 0 , events: 1 "
       ]
      },
      {
       "output_type": "stream",
       "stream": "stdout",
       "text": [
        "\n",
        "saving debug dump to /home/dmoore/python/sigvisa/logs/mcmc/01627/step_003659..."
       ]
      },
      {
       "output_type": "stream",
       "stream": "stdout",
       "text": [
        "\n",
        "saved pickled graph"
       ]
      },
      {
       "output_type": "stream",
       "stream": "stdout",
       "text": [
        "\n",
        "step 3660: lp -384.17, accepted arrival_time: 0.039%, coda_decay: 0.069%, coda_height: 0.095%, evdepth: 0.489%, evloc: 0.103%, evloc_big: 0.006%, evmb: 0.944%, evtime: 0.419%, indep_peak: 0.002%, peak_decay: 0.335%, peak_offset: 0.154%, , uatemplates: 0 , events: 1 "
       ]
      },
      {
       "output_type": "stream",
       "stream": "stdout",
       "text": [
        "\n",
        "saving debug dump to /home/dmoore/python/sigvisa/logs/mcmc/01627/step_003669..."
       ]
      },
      {
       "output_type": "stream",
       "stream": "stdout",
       "text": [
        "\n",
        "saved pickled graph"
       ]
      },
      {
       "output_type": "stream",
       "stream": "stdout",
       "text": [
        "\n",
        "step 3670: lp -378.91, accepted arrival_time: 0.039%, coda_decay: 0.069%, coda_height: 0.095%, evdepth: 0.490%, evloc: 0.103%, evloc_big: 0.006%, evmb: 0.944%, evtime: 0.418%, indep_peak: 0.002%, peak_decay: 0.335%, peak_offset: 0.154%, , uatemplates: 0 , events: 1 "
       ]
      },
      {
       "output_type": "stream",
       "stream": "stdout",
       "text": [
        "\n",
        "saving debug dump to /home/dmoore/python/sigvisa/logs/mcmc/01627/step_003679..."
       ]
      },
      {
       "output_type": "stream",
       "stream": "stdout",
       "text": [
        "\n",
        "saved pickled graph"
       ]
      },
      {
       "output_type": "stream",
       "stream": "stdout",
       "text": [
        "\n",
        "step 3680: lp -381.80, accepted arrival_time: 0.039%, coda_decay: 0.069%, coda_height: 0.095%, evdepth: 0.490%, evloc: 0.102%, evloc_big: 0.006%, evmb: 0.944%, evtime: 0.418%, indep_peak: 0.002%, peak_decay: 0.334%, peak_offset: 0.154%, , uatemplates: 0 , events: 1 "
       ]
      },
      {
       "output_type": "stream",
       "stream": "stdout",
       "text": [
        "\n",
        "saving debug dump to /home/dmoore/python/sigvisa/logs/mcmc/01627/step_003689..."
       ]
      },
      {
       "output_type": "stream",
       "stream": "stdout",
       "text": [
        "\n",
        "saved pickled graph"
       ]
      },
      {
       "output_type": "stream",
       "stream": "stdout",
       "text": [
        "\n",
        "step 3690: lp -385.32, accepted arrival_time: 0.039%, coda_decay: 0.069%, coda_height: 0.095%, evdepth: 0.490%, evloc: 0.102%, evloc_big: 0.006%, evmb: 0.944%, evtime: 0.418%, indep_peak: 0.002%, peak_decay: 0.334%, peak_offset: 0.154%, , uatemplates: 0 , events: 1 "
       ]
      },
      {
       "output_type": "stream",
       "stream": "stdout",
       "text": [
        "\n",
        "saving debug dump to /home/dmoore/python/sigvisa/logs/mcmc/01627/step_003699..."
       ]
      },
      {
       "output_type": "stream",
       "stream": "stdout",
       "text": [
        "\n",
        "saved pickled graph"
       ]
      },
      {
       "output_type": "stream",
       "stream": "stdout",
       "text": [
        "\n",
        "step 3700: lp -373.24, accepted arrival_time: 0.039%, coda_decay: 0.069%, coda_height: 0.095%, evdepth: 0.490%, evloc: 0.102%, evloc_big: 0.006%, evmb: 0.944%, evtime: 0.418%, indep_peak: 0.002%, peak_decay: 0.335%, peak_offset: 0.154%, , uatemplates: 0 , events: 1 "
       ]
      },
      {
       "output_type": "stream",
       "stream": "stdout",
       "text": [
        "\n",
        "saving debug dump to /home/dmoore/python/sigvisa/logs/mcmc/01627/step_003709..."
       ]
      },
      {
       "output_type": "stream",
       "stream": "stdout",
       "text": [
        "\n",
        "saved pickled graph"
       ]
      },
      {
       "output_type": "stream",
       "stream": "stdout",
       "text": [
        "\n",
        "step 3710: lp -373.90, accepted arrival_time: 0.039%, coda_decay: 0.069%, coda_height: 0.096%, evdepth: 0.489%, evloc: 0.102%, evloc_big: 0.006%, evmb: 0.944%, evtime: 0.418%, indep_peak: 0.002%, peak_decay: 0.335%, peak_offset: 0.154%, , uatemplates: 0 , events: 1 "
       ]
      },
      {
       "output_type": "stream",
       "stream": "stdout",
       "text": [
        "\n",
        "saving debug dump to /home/dmoore/python/sigvisa/logs/mcmc/01627/step_003719..."
       ]
      },
      {
       "output_type": "stream",
       "stream": "stdout",
       "text": [
        "\n",
        "saved pickled graph"
       ]
      },
      {
       "output_type": "stream",
       "stream": "stdout",
       "text": [
        "\n",
        "step 3720: lp -383.93, accepted arrival_time: 0.039%, coda_decay: 0.069%, coda_height: 0.095%, evdepth: 0.490%, evloc: 0.102%, evloc_big: 0.006%, evmb: 0.944%, evtime: 0.417%, indep_peak: 0.002%, peak_decay: 0.334%, peak_offset: 0.154%, , uatemplates: 0 , events: 1 "
       ]
      },
      {
       "output_type": "stream",
       "stream": "stdout",
       "text": [
        "\n",
        "saving debug dump to /home/dmoore/python/sigvisa/logs/mcmc/01627/step_003729..."
       ]
      },
      {
       "output_type": "stream",
       "stream": "stdout",
       "text": [
        "\n",
        "saved pickled graph"
       ]
      },
      {
       "output_type": "stream",
       "stream": "stdout",
       "text": [
        "\n",
        "step 3730: lp -374.73, accepted arrival_time: 0.039%, coda_decay: 0.069%, coda_height: 0.096%, evdepth: 0.490%, evloc: 0.102%, evloc_big: 0.006%, evmb: 0.945%, evtime: 0.417%, indep_peak: 0.002%, peak_decay: 0.334%, peak_offset: 0.154%, , uatemplates: 0 , events: 1 "
       ]
      },
      {
       "output_type": "stream",
       "stream": "stdout",
       "text": [
        "\n",
        "saving debug dump to /home/dmoore/python/sigvisa/logs/mcmc/01627/step_003739..."
       ]
      },
      {
       "output_type": "stream",
       "stream": "stdout",
       "text": [
        "\n",
        "saved pickled graph"
       ]
      },
      {
       "output_type": "stream",
       "stream": "stdout",
       "text": [
        "\n",
        "step 3740: lp -387.30, accepted arrival_time: 0.039%, coda_decay: 0.069%, coda_height: 0.096%, evdepth: 0.490%, evloc: 0.101%, evloc_big: 0.006%, evmb: 0.945%, evtime: 0.417%, indep_peak: 0.002%, peak_decay: 0.334%, peak_offset: 0.154%, , uatemplates: 0 , events: 1 "
       ]
      },
      {
       "output_type": "stream",
       "stream": "stdout",
       "text": [
        "\n",
        "saving debug dump to /home/dmoore/python/sigvisa/logs/mcmc/01627/step_003749..."
       ]
      },
      {
       "output_type": "stream",
       "stream": "stdout",
       "text": [
        "\n",
        "saved pickled graph"
       ]
      },
      {
       "output_type": "stream",
       "stream": "stdout",
       "text": [
        "\n",
        "step 3750: lp -377.22, accepted arrival_time: 0.039%, coda_decay: 0.069%, coda_height: 0.096%, evdepth: 0.490%, evloc: 0.102%, evloc_big: 0.006%, evmb: 0.945%, evtime: 0.417%, indep_peak: 0.002%, peak_decay: 0.334%, peak_offset: 0.154%, , uatemplates: 0 , events: 1 "
       ]
      },
      {
       "output_type": "stream",
       "stream": "stdout",
       "text": [
        "\n",
        "saving debug dump to /home/dmoore/python/sigvisa/logs/mcmc/01627/step_003759..."
       ]
      },
      {
       "output_type": "stream",
       "stream": "stdout",
       "text": [
        "\n",
        "saved pickled graph"
       ]
      },
      {
       "output_type": "stream",
       "stream": "stdout",
       "text": [
        "\n",
        "step 3760: lp -371.58, accepted arrival_time: 0.039%, coda_decay: 0.069%, coda_height: 0.095%, evdepth: 0.491%, evloc: 0.102%, evloc_big: 0.006%, evmb: 0.945%, evtime: 0.418%, indep_peak: 0.002%, peak_decay: 0.333%, peak_offset: 0.154%, , uatemplates: 0 , events: 1 "
       ]
      },
      {
       "output_type": "stream",
       "stream": "stdout",
       "text": [
        "\n",
        "saving debug dump to /home/dmoore/python/sigvisa/logs/mcmc/01627/step_003769..."
       ]
      },
      {
       "output_type": "stream",
       "stream": "stdout",
       "text": [
        "\n",
        "saved pickled graph"
       ]
      },
      {
       "output_type": "stream",
       "stream": "stdout",
       "text": [
        "\n",
        "step 3770: lp -380.30, accepted arrival_time: 0.039%, coda_decay: 0.069%, coda_height: 0.096%, evdepth: 0.490%, evloc: 0.101%, evloc_big: 0.006%, evmb: 0.945%, evtime: 0.418%, indep_peak: 0.002%, peak_decay: 0.333%, peak_offset: 0.154%, , uatemplates: 0 , events: 1 "
       ]
      },
      {
       "output_type": "stream",
       "stream": "stdout",
       "text": [
        "\n",
        "saving debug dump to /home/dmoore/python/sigvisa/logs/mcmc/01627/step_003779..."
       ]
      },
      {
       "output_type": "stream",
       "stream": "stdout",
       "text": [
        "\n",
        "saved pickled graph"
       ]
      },
      {
       "output_type": "stream",
       "stream": "stdout",
       "text": [
        "\n",
        "step 3780: lp -375.73, accepted arrival_time: 0.039%, coda_decay: 0.069%, coda_height: 0.095%, evdepth: 0.490%, evloc: 0.101%, evloc_big: 0.006%, evmb: 0.945%, evtime: 0.418%, indep_peak: 0.002%, peak_decay: 0.333%, peak_offset: 0.154%, , uatemplates: 0 , events: 1 "
       ]
      },
      {
       "output_type": "stream",
       "stream": "stdout",
       "text": [
        "\n",
        "saving debug dump to /home/dmoore/python/sigvisa/logs/mcmc/01627/step_003789..."
       ]
      },
      {
       "output_type": "stream",
       "stream": "stdout",
       "text": [
        "\n",
        "saved pickled graph"
       ]
      },
      {
       "output_type": "stream",
       "stream": "stdout",
       "text": [
        "\n",
        "step 3790: lp -378.11, accepted arrival_time: 0.039%, coda_decay: 0.069%, coda_height: 0.095%, evdepth: 0.490%, evloc: 0.101%, evloc_big: 0.006%, evmb: 0.945%, evtime: 0.418%, indep_peak: 0.002%, peak_decay: 0.333%, peak_offset: 0.154%, , uatemplates: 0 , events: 1 "
       ]
      },
      {
       "output_type": "stream",
       "stream": "stdout",
       "text": [
        "\n",
        "saving debug dump to /home/dmoore/python/sigvisa/logs/mcmc/01627/step_003799..."
       ]
      },
      {
       "output_type": "stream",
       "stream": "stdout",
       "text": [
        "\n",
        "saved pickled graph"
       ]
      },
      {
       "output_type": "stream",
       "stream": "stdout",
       "text": [
        "\n",
        "step 3800: lp -383.23, accepted arrival_time: 0.039%, coda_decay: 0.069%, coda_height: 0.095%, evdepth: 0.490%, evloc: 0.101%, evloc_big: 0.006%, evmb: 0.945%, evtime: 0.417%, indep_peak: 0.002%, peak_decay: 0.333%, peak_offset: 0.154%, , uatemplates: 0 , events: 1 "
       ]
      },
      {
       "output_type": "stream",
       "stream": "stdout",
       "text": [
        "\n",
        "saving debug dump to /home/dmoore/python/sigvisa/logs/mcmc/01627/step_003809..."
       ]
      },
      {
       "output_type": "stream",
       "stream": "stdout",
       "text": [
        "\n",
        "saved pickled graph"
       ]
      },
      {
       "output_type": "stream",
       "stream": "stdout",
       "text": [
        "\n",
        "step 3810: lp -374.84, accepted arrival_time: 0.039%, coda_decay: 0.069%, coda_height: 0.095%, evdepth: 0.491%, evloc: 0.101%, evloc_big: 0.006%, evmb: 0.944%, evtime: 0.417%, indep_peak: 0.002%, peak_decay: 0.333%, peak_offset: 0.154%, , uatemplates: 0 , events: 1 "
       ]
      },
      {
       "output_type": "stream",
       "stream": "stdout",
       "text": [
        "\n",
        "saving debug dump to /home/dmoore/python/sigvisa/logs/mcmc/01627/step_003819..."
       ]
      },
      {
       "output_type": "stream",
       "stream": "stdout",
       "text": [
        "\n",
        "saved pickled graph"
       ]
      },
      {
       "output_type": "stream",
       "stream": "stdout",
       "text": [
        "\n",
        "step 3820: lp -378.26, accepted arrival_time: 0.039%, coda_decay: 0.069%, coda_height: 0.095%, evdepth: 0.491%, evloc: 0.101%, evloc_big: 0.006%, evmb: 0.944%, evtime: 0.417%, indep_peak: 0.002%, peak_decay: 0.334%, peak_offset: 0.154%, , uatemplates: 0 , events: 1 "
       ]
      },
      {
       "output_type": "stream",
       "stream": "stdout",
       "text": [
        "\n",
        "saving debug dump to /home/dmoore/python/sigvisa/logs/mcmc/01627/step_003829..."
       ]
      },
      {
       "output_type": "stream",
       "stream": "stdout",
       "text": [
        "\n",
        "saved pickled graph"
       ]
      },
      {
       "output_type": "stream",
       "stream": "stdout",
       "text": [
        "\n",
        "step 3830: lp -380.93, accepted arrival_time: 0.039%, coda_decay: 0.069%, coda_height: 0.095%, evdepth: 0.491%, evloc: 0.102%, evloc_big: 0.006%, evmb: 0.944%, evtime: 0.418%, indep_peak: 0.002%, peak_decay: 0.334%, peak_offset: 0.154%, , uatemplates: 0 , events: 1 "
       ]
      },
      {
       "output_type": "stream",
       "stream": "stdout",
       "text": [
        "\n",
        "saving debug dump to /home/dmoore/python/sigvisa/logs/mcmc/01627/step_003839..."
       ]
      },
      {
       "output_type": "stream",
       "stream": "stdout",
       "text": [
        "\n",
        "saved pickled graph"
       ]
      },
      {
       "output_type": "stream",
       "stream": "stdout",
       "text": [
        "\n",
        "step 3840: lp -386.35, accepted arrival_time: 0.039%, coda_decay: 0.069%, coda_height: 0.095%, evdepth: 0.491%, evloc: 0.102%, evloc_big: 0.006%, evmb: 0.945%, evtime: 0.418%, indep_peak: 0.002%, peak_decay: 0.334%, peak_offset: 0.154%, , uatemplates: 0 , events: 1 "
       ]
      },
      {
       "output_type": "stream",
       "stream": "stdout",
       "text": [
        "\n",
        "saving debug dump to /home/dmoore/python/sigvisa/logs/mcmc/01627/step_003849..."
       ]
      },
      {
       "output_type": "stream",
       "stream": "stdout",
       "text": [
        "\n",
        "saved pickled graph"
       ]
      },
      {
       "output_type": "stream",
       "stream": "stdout",
       "text": [
        "\n",
        "step 3850: lp -379.19, accepted arrival_time: 0.039%, coda_decay: 0.069%, coda_height: 0.095%, evdepth: 0.491%, evloc: 0.101%, evloc_big: 0.006%, evmb: 0.945%, evtime: 0.418%, indep_peak: 0.002%, peak_decay: 0.333%, peak_offset: 0.154%, , uatemplates: 0 , events: 1 "
       ]
      },
      {
       "output_type": "stream",
       "stream": "stdout",
       "text": [
        "\n",
        "saving debug dump to /home/dmoore/python/sigvisa/logs/mcmc/01627/step_003859..."
       ]
      },
      {
       "output_type": "stream",
       "stream": "stdout",
       "text": [
        "\n",
        "saved pickled graph"
       ]
      },
      {
       "output_type": "stream",
       "stream": "stdout",
       "text": [
        "\n",
        "step 3860: lp -374.55, accepted arrival_time: 0.039%, coda_decay: 0.069%, coda_height: 0.095%, evdepth: 0.491%, evloc: 0.101%, evloc_big: 0.006%, evmb: 0.945%, evtime: 0.417%, indep_peak: 0.002%, peak_decay: 0.333%, peak_offset: 0.154%, , uatemplates: 0 , events: 1 "
       ]
      },
      {
       "output_type": "stream",
       "stream": "stdout",
       "text": [
        "\n",
        "saving debug dump to /home/dmoore/python/sigvisa/logs/mcmc/01627/step_003869..."
       ]
      },
      {
       "output_type": "stream",
       "stream": "stdout",
       "text": [
        "\n",
        "saved pickled graph"
       ]
      },
      {
       "output_type": "stream",
       "stream": "stdout",
       "text": [
        "\n",
        "step 3870: lp -380.48, accepted arrival_time: 0.039%, coda_decay: 0.069%, coda_height: 0.095%, evdepth: 0.491%, evloc: 0.101%, evloc_big: 0.006%, evmb: 0.944%, evtime: 0.418%, indep_peak: 0.002%, peak_decay: 0.333%, peak_offset: 0.154%, , uatemplates: 0 , events: 1 "
       ]
      },
      {
       "output_type": "stream",
       "stream": "stdout",
       "text": [
        "\n",
        "saving debug dump to /home/dmoore/python/sigvisa/logs/mcmc/01627/step_003879..."
       ]
      },
      {
       "output_type": "stream",
       "stream": "stdout",
       "text": [
        "\n",
        "saved pickled graph"
       ]
      },
      {
       "output_type": "stream",
       "stream": "stdout",
       "text": [
        "\n",
        "step 3880: lp -379.47, accepted arrival_time: 0.039%, coda_decay: 0.069%, coda_height: 0.095%, evdepth: 0.490%, evloc: 0.101%, evloc_big: 0.006%, evmb: 0.944%, evtime: 0.418%, indep_peak: 0.003%, peak_decay: 0.333%, peak_offset: 0.153%, , uatemplates: 0 , events: 1 "
       ]
      },
      {
       "output_type": "stream",
       "stream": "stdout",
       "text": [
        "\n",
        "saving debug dump to /home/dmoore/python/sigvisa/logs/mcmc/01627/step_003889..."
       ]
      },
      {
       "output_type": "stream",
       "stream": "stdout",
       "text": [
        "\n",
        "saved pickled graph"
       ]
      },
      {
       "output_type": "stream",
       "stream": "stdout",
       "text": [
        "\n",
        "step 3890: lp -381.03, accepted arrival_time: 0.039%, coda_decay: 0.069%, coda_height: 0.095%, evdepth: 0.489%, evloc: 0.101%, evloc_big: 0.006%, evmb: 0.944%, evtime: 0.417%, indep_peak: 0.003%, peak_decay: 0.333%, peak_offset: 0.153%, , uatemplates: 0 , events: 1 "
       ]
      },
      {
       "output_type": "stream",
       "stream": "stdout",
       "text": [
        "\n",
        "saving debug dump to /home/dmoore/python/sigvisa/logs/mcmc/01627/step_003899..."
       ]
      },
      {
       "output_type": "stream",
       "stream": "stdout",
       "text": [
        "\n",
        "saved pickled graph"
       ]
      },
      {
       "output_type": "stream",
       "stream": "stdout",
       "text": [
        "\n",
        "step 3900: lp -377.52, accepted arrival_time: 0.039%, coda_decay: 0.069%, coda_height: 0.095%, evdepth: 0.489%, evloc: 0.101%, evloc_big: 0.006%, evmb: 0.944%, evtime: 0.417%, indep_peak: 0.003%, peak_decay: 0.333%, peak_offset: 0.154%, , uatemplates: 0 , events: 1 "
       ]
      },
      {
       "output_type": "stream",
       "stream": "stdout",
       "text": [
        "\n",
        "saving debug dump to /home/dmoore/python/sigvisa/logs/mcmc/01627/step_003909..."
       ]
      },
      {
       "output_type": "stream",
       "stream": "stdout",
       "text": [
        "\n",
        "saved pickled graph"
       ]
      },
      {
       "output_type": "stream",
       "stream": "stdout",
       "text": [
        "\n",
        "step 3910: lp -379.26, accepted arrival_time: 0.039%, coda_decay: 0.069%, coda_height: 0.095%, evdepth: 0.489%, evloc: 0.101%, evloc_big: 0.006%, evmb: 0.944%, evtime: 0.417%, indep_peak: 0.003%, peak_decay: 0.332%, peak_offset: 0.153%, , uatemplates: 0 , events: 1 "
       ]
      },
      {
       "output_type": "stream",
       "stream": "stdout",
       "text": [
        "\n",
        "saving debug dump to /home/dmoore/python/sigvisa/logs/mcmc/01627/step_003919..."
       ]
      },
      {
       "output_type": "stream",
       "stream": "stdout",
       "text": [
        "\n",
        "saved pickled graph"
       ]
      },
      {
       "output_type": "stream",
       "stream": "stdout",
       "text": [
        "\n",
        "step 3920: lp -379.53, accepted arrival_time: 0.039%, coda_decay: 0.069%, coda_height: 0.095%, evdepth: 0.489%, evloc: 0.101%, evloc_big: 0.006%, evmb: 0.944%, evtime: 0.417%, indep_peak: 0.002%, peak_decay: 0.332%, peak_offset: 0.153%, , uatemplates: 0 , events: 1 "
       ]
      },
      {
       "output_type": "stream",
       "stream": "stdout",
       "text": [
        "\n",
        "saving debug dump to /home/dmoore/python/sigvisa/logs/mcmc/01627/step_003929..."
       ]
      },
      {
       "output_type": "stream",
       "stream": "stdout",
       "text": [
        "\n",
        "saved pickled graph"
       ]
      },
      {
       "output_type": "stream",
       "stream": "stdout",
       "text": [
        "\n",
        "step 3930: lp -377.23, accepted arrival_time: 0.039%, coda_decay: 0.069%, coda_height: 0.095%, evdepth: 0.489%, evloc: 0.101%, evloc_big: 0.006%, evmb: 0.944%, evtime: 0.417%, indep_peak: 0.002%, peak_decay: 0.332%, peak_offset: 0.153%, , uatemplates: 0 , events: 1 "
       ]
      },
      {
       "output_type": "stream",
       "stream": "stdout",
       "text": [
        "\n",
        "saving debug dump to /home/dmoore/python/sigvisa/logs/mcmc/01627/step_003939..."
       ]
      },
      {
       "output_type": "stream",
       "stream": "stdout",
       "text": [
        "\n",
        "saved pickled graph"
       ]
      },
      {
       "output_type": "stream",
       "stream": "stdout",
       "text": [
        "\n",
        "step 3940: lp -380.96, accepted arrival_time: 0.039%, coda_decay: 0.069%, coda_height: 0.094%, evdepth: 0.489%, evloc: 0.101%, evloc_big: 0.006%, evmb: 0.944%, evtime: 0.417%, indep_peak: 0.002%, peak_decay: 0.332%, peak_offset: 0.153%, , uatemplates: 0 , events: 1 "
       ]
      },
      {
       "output_type": "stream",
       "stream": "stdout",
       "text": [
        "\n",
        "saving debug dump to /home/dmoore/python/sigvisa/logs/mcmc/01627/step_003949..."
       ]
      },
      {
       "output_type": "stream",
       "stream": "stdout",
       "text": [
        "\n",
        "saved pickled graph"
       ]
      },
      {
       "output_type": "stream",
       "stream": "stdout",
       "text": [
        "\n",
        "step 3950: lp -378.28, accepted arrival_time: 0.039%, coda_decay: 0.069%, coda_height: 0.094%, evdepth: 0.489%, evloc: 0.101%, evloc_big: 0.006%, evmb: 0.944%, evtime: 0.417%, indep_peak: 0.002%, peak_decay: 0.332%, peak_offset: 0.153%, , uatemplates: 0 , events: 1 "
       ]
      },
      {
       "output_type": "stream",
       "stream": "stdout",
       "text": [
        "\n",
        "saving debug dump to /home/dmoore/python/sigvisa/logs/mcmc/01627/step_003959..."
       ]
      },
      {
       "output_type": "stream",
       "stream": "stdout",
       "text": [
        "\n",
        "saved pickled graph"
       ]
      },
      {
       "output_type": "stream",
       "stream": "stdout",
       "text": [
        "\n",
        "step 3960: lp -377.15, accepted arrival_time: 0.039%, coda_decay: 0.069%, coda_height: 0.094%, evdepth: 0.489%, evloc: 0.101%, evloc_big: 0.006%, evmb: 0.943%, evtime: 0.416%, indep_peak: 0.002%, peak_decay: 0.332%, peak_offset: 0.153%, , uatemplates: 0 , events: 1 "
       ]
      },
      {
       "output_type": "stream",
       "stream": "stdout",
       "text": [
        "\n",
        "saving debug dump to /home/dmoore/python/sigvisa/logs/mcmc/01627/step_003969..."
       ]
      },
      {
       "output_type": "stream",
       "stream": "stdout",
       "text": [
        "\n",
        "saved pickled graph"
       ]
      },
      {
       "output_type": "stream",
       "stream": "stdout",
       "text": [
        "\n",
        "step 3970: lp -376.33, accepted arrival_time: 0.039%, coda_decay: 0.069%, coda_height: 0.094%, evdepth: 0.489%, evloc: 0.101%, evloc_big: 0.006%, evmb: 0.942%, evtime: 0.416%, indep_peak: 0.002%, peak_decay: 0.332%, peak_offset: 0.153%, , uatemplates: 0 , events: 1 "
       ]
      },
      {
       "output_type": "stream",
       "stream": "stdout",
       "text": [
        "\n",
        "saving debug dump to /home/dmoore/python/sigvisa/logs/mcmc/01627/step_003979..."
       ]
      },
      {
       "output_type": "stream",
       "stream": "stdout",
       "text": [
        "\n",
        "saved pickled graph"
       ]
      },
      {
       "output_type": "stream",
       "stream": "stdout",
       "text": [
        "\n",
        "step 3980: lp -382.96, accepted arrival_time: 0.039%, coda_decay: 0.069%, coda_height: 0.094%, evdepth: 0.489%, evloc: 0.101%, evloc_big: 0.006%, evmb: 0.942%, evtime: 0.415%, indep_peak: 0.002%, peak_decay: 0.332%, peak_offset: 0.153%, , uatemplates: 0 , events: 1 "
       ]
      },
      {
       "output_type": "stream",
       "stream": "stdout",
       "text": [
        "\n",
        "saving debug dump to /home/dmoore/python/sigvisa/logs/mcmc/01627/step_003989..."
       ]
      },
      {
       "output_type": "stream",
       "stream": "stdout",
       "text": [
        "\n",
        "saved pickled graph"
       ]
      },
      {
       "output_type": "stream",
       "stream": "stdout",
       "text": [
        "\n",
        "step 3990: lp -384.16, accepted arrival_time: 0.039%, coda_decay: 0.069%, coda_height: 0.094%, evdepth: 0.489%, evloc: 0.102%, evloc_big: 0.006%, evmb: 0.942%, evtime: 0.415%, indep_peak: 0.002%, peak_decay: 0.331%, peak_offset: 0.153%, , uatemplates: 0 , events: 1 "
       ]
      },
      {
       "output_type": "stream",
       "stream": "stdout",
       "text": [
        "\n",
        "saving debug dump to /home/dmoore/python/sigvisa/logs/mcmc/01627/step_003999..."
       ]
      },
      {
       "output_type": "stream",
       "stream": "stdout",
       "text": [
        "\n",
        "saved pickled graph"
       ]
      },
      {
       "output_type": "stream",
       "stream": "stdout",
       "text": [
        "\n",
        "step 4000: lp -380.59, accepted arrival_time: 0.039%, coda_decay: 0.069%, coda_height: 0.094%, evdepth: 0.490%, evloc: 0.102%, evloc_big: 0.006%, evmb: 0.943%, evtime: 0.416%, indep_peak: 0.002%, peak_decay: 0.331%, peak_offset: 0.153%, , uatemplates: 0 , events: 1 "
       ]
      },
      {
       "output_type": "stream",
       "stream": "stdout",
       "text": [
        "\n",
        "saving debug dump to /home/dmoore/python/sigvisa/logs/mcmc/01627/step_004009..."
       ]
      },
      {
       "output_type": "stream",
       "stream": "stdout",
       "text": [
        "\n",
        "saved pickled graph"
       ]
      },
      {
       "output_type": "stream",
       "stream": "stdout",
       "text": [
        "\n",
        "step 4010: lp -380.18, accepted arrival_time: 0.039%, coda_decay: 0.069%, coda_height: 0.094%, evdepth: 0.490%, evloc: 0.102%, evloc_big: 0.006%, evmb: 0.943%, evtime: 0.416%, indep_peak: 0.002%, peak_decay: 0.331%, peak_offset: 0.153%, , uatemplates: 0 , events: 1 "
       ]
      },
      {
       "output_type": "stream",
       "stream": "stdout",
       "text": [
        "\n",
        "saving debug dump to /home/dmoore/python/sigvisa/logs/mcmc/01627/step_004019..."
       ]
      },
      {
       "output_type": "stream",
       "stream": "stdout",
       "text": [
        "\n",
        "saved pickled graph"
       ]
      },
      {
       "output_type": "stream",
       "stream": "stdout",
       "text": [
        "\n",
        "step 4020: lp -386.80, accepted arrival_time: 0.039%, coda_decay: 0.069%, coda_height: 0.094%, evdepth: 0.490%, evloc: 0.102%, evloc_big: 0.006%, evmb: 0.943%, evtime: 0.416%, indep_peak: 0.002%, peak_decay: 0.330%, peak_offset: 0.153%, , uatemplates: 0 , events: 1 "
       ]
      },
      {
       "output_type": "stream",
       "stream": "stdout",
       "text": [
        "\n",
        "saving debug dump to /home/dmoore/python/sigvisa/logs/mcmc/01627/step_004029..."
       ]
      },
      {
       "output_type": "stream",
       "stream": "stdout",
       "text": [
        "\n",
        "saved pickled graph"
       ]
      },
      {
       "output_type": "stream",
       "stream": "stdout",
       "text": [
        "\n",
        "step 4030: lp -383.32, accepted arrival_time: 0.039%, coda_decay: 0.069%, coda_height: 0.094%, evdepth: 0.490%, evloc: 0.102%, evloc_big: 0.006%, evmb: 0.943%, evtime: 0.417%, indep_peak: 0.002%, peak_decay: 0.330%, peak_offset: 0.153%, , uatemplates: 0 , events: 1 "
       ]
      },
      {
       "output_type": "stream",
       "stream": "stdout",
       "text": [
        "\n",
        "saving debug dump to /home/dmoore/python/sigvisa/logs/mcmc/01627/step_004039..."
       ]
      },
      {
       "output_type": "stream",
       "stream": "stdout",
       "text": [
        "\n",
        "saved pickled graph"
       ]
      },
      {
       "output_type": "stream",
       "stream": "stdout",
       "text": [
        "\n",
        "step 4040: lp -380.89, accepted arrival_time: 0.039%, coda_decay: 0.069%, coda_height: 0.094%, evdepth: 0.490%, evloc: 0.102%, evloc_big: 0.006%, evmb: 0.943%, evtime: 0.416%, indep_peak: 0.002%, peak_decay: 0.330%, peak_offset: 0.153%, , uatemplates: 0 , events: 1 "
       ]
      },
      {
       "output_type": "stream",
       "stream": "stdout",
       "text": [
        "\n",
        "saving debug dump to /home/dmoore/python/sigvisa/logs/mcmc/01627/step_004049..."
       ]
      },
      {
       "output_type": "stream",
       "stream": "stdout",
       "text": [
        "\n",
        "saved pickled graph"
       ]
      },
      {
       "output_type": "stream",
       "stream": "stdout",
       "text": [
        "\n",
        "step 4050: lp -382.64, accepted arrival_time: 0.039%, coda_decay: 0.070%, coda_height: 0.094%, evdepth: 0.490%, evloc: 0.102%, evloc_big: 0.006%, evmb: 0.943%, evtime: 0.416%, indep_peak: 0.002%, peak_decay: 0.330%, peak_offset: 0.153%, , uatemplates: 0 , events: 1 "
       ]
      },
      {
       "output_type": "stream",
       "stream": "stdout",
       "text": [
        "\n",
        "saving debug dump to /home/dmoore/python/sigvisa/logs/mcmc/01627/step_004059..."
       ]
      },
      {
       "output_type": "stream",
       "stream": "stdout",
       "text": [
        "\n",
        "saved pickled graph"
       ]
      },
      {
       "output_type": "stream",
       "stream": "stdout",
       "text": [
        "\n",
        "step 4060: lp -378.17, accepted arrival_time: 0.039%, coda_decay: 0.070%, coda_height: 0.094%, evdepth: 0.491%, evloc: 0.102%, evloc_big: 0.006%, evmb: 0.943%, evtime: 0.417%, indep_peak: 0.002%, peak_decay: 0.330%, peak_offset: 0.153%, , uatemplates: 0 , events: 1 "
       ]
      },
      {
       "output_type": "stream",
       "stream": "stdout",
       "text": [
        "\n",
        "saving debug dump to /home/dmoore/python/sigvisa/logs/mcmc/01627/step_004069..."
       ]
      },
      {
       "output_type": "stream",
       "stream": "stdout",
       "text": [
        "\n",
        "saved pickled graph"
       ]
      },
      {
       "output_type": "stream",
       "stream": "stdout",
       "text": [
        "\n",
        "step 4070: lp -381.57, accepted arrival_time: 0.039%, coda_decay: 0.070%, coda_height: 0.094%, evdepth: 0.491%, evloc: 0.102%, evloc_big: 0.006%, evmb: 0.943%, evtime: 0.417%, indep_peak: 0.003%, peak_decay: 0.330%, peak_offset: 0.153%, , uatemplates: 0 , events: 1 "
       ]
      },
      {
       "output_type": "stream",
       "stream": "stdout",
       "text": [
        "\n",
        "saving debug dump to /home/dmoore/python/sigvisa/logs/mcmc/01627/step_004079..."
       ]
      },
      {
       "output_type": "stream",
       "stream": "stdout",
       "text": [
        "\n",
        "saved pickled graph"
       ]
      },
      {
       "output_type": "stream",
       "stream": "stdout",
       "text": [
        "\n",
        "step 4080: lp -380.61, accepted arrival_time: 0.039%, coda_decay: 0.070%, coda_height: 0.094%, evdepth: 0.492%, evloc: 0.102%, evloc_big: 0.006%, evmb: 0.943%, evtime: 0.417%, indep_peak: 0.003%, peak_decay: 0.330%, peak_offset: 0.153%, , uatemplates: 0 , events: 1 "
       ]
      },
      {
       "output_type": "stream",
       "stream": "stdout",
       "text": [
        "\n",
        "saving debug dump to /home/dmoore/python/sigvisa/logs/mcmc/01627/step_004089..."
       ]
      },
      {
       "output_type": "stream",
       "stream": "stdout",
       "text": [
        "\n",
        "saved pickled graph"
       ]
      },
      {
       "output_type": "stream",
       "stream": "stdout",
       "text": [
        "\n",
        "step 4090: lp -381.97, accepted arrival_time: 0.039%, coda_decay: 0.070%, coda_height: 0.094%, evdepth: 0.492%, evloc: 0.103%, evloc_big: 0.006%, evmb: 0.943%, evtime: 0.417%, indep_peak: 0.003%, peak_decay: 0.330%, peak_offset: 0.153%, , uatemplates: 0 , events: 1 "
       ]
      },
      {
       "output_type": "stream",
       "stream": "stdout",
       "text": [
        "\n",
        "saving debug dump to /home/dmoore/python/sigvisa/logs/mcmc/01627/step_004099..."
       ]
      },
      {
       "output_type": "stream",
       "stream": "stdout",
       "text": [
        "\n",
        "saved pickled graph"
       ]
      },
      {
       "output_type": "stream",
       "stream": "stdout",
       "text": [
        "\n",
        "step 4100: lp -385.73, accepted arrival_time: 0.039%, coda_decay: 0.070%, coda_height: 0.094%, evdepth: 0.492%, evloc: 0.103%, evloc_big: 0.006%, evmb: 0.943%, evtime: 0.416%, indep_peak: 0.003%, peak_decay: 0.330%, peak_offset: 0.153%, , uatemplates: 0 , events: 1 "
       ]
      },
      {
       "output_type": "stream",
       "stream": "stdout",
       "text": [
        "\n",
        "saving debug dump to /home/dmoore/python/sigvisa/logs/mcmc/01627/step_004109..."
       ]
      },
      {
       "output_type": "stream",
       "stream": "stdout",
       "text": [
        "\n",
        "saved pickled graph"
       ]
      },
      {
       "output_type": "stream",
       "stream": "stdout",
       "text": [
        "\n",
        "step 4110: lp -382.53, accepted arrival_time: 0.039%, coda_decay: 0.070%, coda_height: 0.094%, evdepth: 0.492%, evloc: 0.104%, evloc_big: 0.006%, evmb: 0.943%, evtime: 0.417%, indep_peak: 0.003%, peak_decay: 0.330%, peak_offset: 0.153%, , uatemplates: 0 , events: 1 "
       ]
      },
      {
       "output_type": "stream",
       "stream": "stdout",
       "text": [
        "\n",
        "saving debug dump to /home/dmoore/python/sigvisa/logs/mcmc/01627/step_004119..."
       ]
      },
      {
       "output_type": "stream",
       "stream": "stdout",
       "text": [
        "\n",
        "saved pickled graph"
       ]
      },
      {
       "output_type": "stream",
       "stream": "stdout",
       "text": [
        "\n",
        "step 4120: lp -377.11, accepted arrival_time: 0.039%, coda_decay: 0.069%, coda_height: 0.094%, evdepth: 0.493%, evloc: 0.104%, evloc_big: 0.006%, evmb: 0.943%, evtime: 0.417%, indep_peak: 0.003%, peak_decay: 0.330%, peak_offset: 0.153%, , uatemplates: 0 , events: 1 "
       ]
      },
      {
       "output_type": "stream",
       "stream": "stdout",
       "text": [
        "\n",
        "saving debug dump to /home/dmoore/python/sigvisa/logs/mcmc/01627/step_004129..."
       ]
      },
      {
       "output_type": "stream",
       "stream": "stdout",
       "text": [
        "\n",
        "saved pickled graph"
       ]
      },
      {
       "output_type": "stream",
       "stream": "stdout",
       "text": [
        "\n",
        "step 4130: lp -386.14, accepted arrival_time: 0.039%, coda_decay: 0.069%, coda_height: 0.094%, evdepth: 0.493%, evloc: 0.104%, evloc_big: 0.006%, evmb: 0.943%, evtime: 0.417%, indep_peak: 0.003%, peak_decay: 0.330%, peak_offset: 0.153%, , uatemplates: 0 , events: 1 "
       ]
      },
      {
       "output_type": "stream",
       "stream": "stdout",
       "text": [
        "\n",
        "saving debug dump to /home/dmoore/python/sigvisa/logs/mcmc/01627/step_004139..."
       ]
      },
      {
       "output_type": "stream",
       "stream": "stdout",
       "text": [
        "\n",
        "saved pickled graph"
       ]
      },
      {
       "output_type": "stream",
       "stream": "stdout",
       "text": [
        "\n",
        "step 4140: lp -384.67, accepted arrival_time: 0.039%, coda_decay: 0.069%, coda_height: 0.094%, evdepth: 0.494%, evloc: 0.104%, evloc_big: 0.006%, evmb: 0.943%, evtime: 0.417%, indep_peak: 0.003%, peak_decay: 0.329%, peak_offset: 0.153%, , uatemplates: 0 , events: 1 "
       ]
      },
      {
       "output_type": "stream",
       "stream": "stdout",
       "text": [
        "\n",
        "saving debug dump to /home/dmoore/python/sigvisa/logs/mcmc/01627/step_004149..."
       ]
      },
      {
       "output_type": "stream",
       "stream": "stdout",
       "text": [
        "\n",
        "saved pickled graph"
       ]
      },
      {
       "output_type": "stream",
       "stream": "stdout",
       "text": [
        "\n",
        "step 4150: lp -379.95, accepted arrival_time: 0.039%, coda_decay: 0.069%, coda_height: 0.094%, evdepth: 0.494%, evloc: 0.103%, evloc_big: 0.006%, evmb: 0.943%, evtime: 0.417%, indep_peak: 0.003%, peak_decay: 0.329%, peak_offset: 0.153%, , uatemplates: 0 , events: 1 "
       ]
      },
      {
       "output_type": "stream",
       "stream": "stdout",
       "text": [
        "\n",
        "saving debug dump to /home/dmoore/python/sigvisa/logs/mcmc/01627/step_004159..."
       ]
      },
      {
       "output_type": "stream",
       "stream": "stdout",
       "text": [
        "\n",
        "saved pickled graph"
       ]
      },
      {
       "output_type": "stream",
       "stream": "stdout",
       "text": [
        "\n",
        "step 4160: lp -379.51, accepted arrival_time: 0.039%, coda_decay: 0.069%, coda_height: 0.094%, evdepth: 0.494%, evloc: 0.103%, evloc_big: 0.006%, evmb: 0.944%, evtime: 0.416%, indep_peak: 0.003%, peak_decay: 0.329%, peak_offset: 0.153%, , uatemplates: 0 , events: 1 "
       ]
      },
      {
       "output_type": "stream",
       "stream": "stdout",
       "text": [
        "\n",
        "saving debug dump to /home/dmoore/python/sigvisa/logs/mcmc/01627/step_004169..."
       ]
      },
      {
       "output_type": "stream",
       "stream": "stdout",
       "text": [
        "\n",
        "saved pickled graph"
       ]
      },
      {
       "output_type": "stream",
       "stream": "stdout",
       "text": [
        "\n",
        "step 4170: lp -375.74, accepted arrival_time: 0.039%, coda_decay: 0.069%, coda_height: 0.094%, evdepth: 0.494%, evloc: 0.103%, evloc_big: 0.006%, evmb: 0.944%, evtime: 0.417%, indep_peak: 0.003%, peak_decay: 0.329%, peak_offset: 0.153%, , uatemplates: 0 , events: 1 "
       ]
      },
      {
       "output_type": "stream",
       "stream": "stdout",
       "text": [
        "\n",
        "saving debug dump to /home/dmoore/python/sigvisa/logs/mcmc/01627/step_004179..."
       ]
      },
      {
       "output_type": "stream",
       "stream": "stdout",
       "text": [
        "\n",
        "saved pickled graph"
       ]
      },
      {
       "output_type": "stream",
       "stream": "stdout",
       "text": [
        "\n",
        "step 4180: lp -375.80, accepted arrival_time: 0.039%, coda_decay: 0.069%, coda_height: 0.094%, evdepth: 0.494%, evloc: 0.103%, evloc_big: 0.006%, evmb: 0.944%, evtime: 0.417%, indep_peak: 0.003%, peak_decay: 0.329%, peak_offset: 0.153%, , uatemplates: 0 , events: 1 "
       ]
      },
      {
       "output_type": "stream",
       "stream": "stdout",
       "text": [
        "\n",
        "saving debug dump to /home/dmoore/python/sigvisa/logs/mcmc/01627/step_004189..."
       ]
      },
      {
       "output_type": "stream",
       "stream": "stdout",
       "text": [
        "\n",
        "saved pickled graph"
       ]
      },
      {
       "output_type": "stream",
       "stream": "stdout",
       "text": [
        "\n",
        "step 4190: lp -377.46, accepted arrival_time: 0.039%, coda_decay: 0.069%, coda_height: 0.094%, evdepth: 0.494%, evloc: 0.103%, evloc_big: 0.006%, evmb: 0.944%, evtime: 0.417%, indep_peak: 0.003%, peak_decay: 0.329%, peak_offset: 0.153%, , uatemplates: 0 , events: 1 "
       ]
      },
      {
       "output_type": "stream",
       "stream": "stdout",
       "text": [
        "\n",
        "saving debug dump to /home/dmoore/python/sigvisa/logs/mcmc/01627/step_004199..."
       ]
      },
      {
       "output_type": "stream",
       "stream": "stdout",
       "text": [
        "\n",
        "saved pickled graph"
       ]
      },
      {
       "output_type": "stream",
       "stream": "stdout",
       "text": [
        "\n",
        "step 4200: lp -376.31, accepted arrival_time: 0.039%, coda_decay: 0.069%, coda_height: 0.094%, evdepth: 0.495%, evloc: 0.103%, evloc_big: 0.006%, evmb: 0.944%, evtime: 0.418%, indep_peak: 0.003%, peak_decay: 0.329%, peak_offset: 0.153%, , uatemplates: 0 , events: 1 "
       ]
      },
      {
       "output_type": "stream",
       "stream": "stdout",
       "text": [
        "\n",
        "saving debug dump to /home/dmoore/python/sigvisa/logs/mcmc/01627/step_004209..."
       ]
      },
      {
       "output_type": "stream",
       "stream": "stdout",
       "text": [
        "\n",
        "saved pickled graph"
       ]
      },
      {
       "output_type": "stream",
       "stream": "stdout",
       "text": [
        "\n",
        "step 4210: lp -374.44, accepted arrival_time: 0.039%, coda_decay: 0.069%, coda_height: 0.094%, evdepth: 0.495%, evloc: 0.103%, evloc_big: 0.006%, evmb: 0.944%, evtime: 0.418%, indep_peak: 0.003%, peak_decay: 0.329%, peak_offset: 0.153%, , uatemplates: 0 , events: 1 "
       ]
      },
      {
       "output_type": "stream",
       "stream": "stdout",
       "text": [
        "\n",
        "saving debug dump to /home/dmoore/python/sigvisa/logs/mcmc/01627/step_004219..."
       ]
      },
      {
       "output_type": "stream",
       "stream": "stdout",
       "text": [
        "\n",
        "saved pickled graph"
       ]
      },
      {
       "output_type": "stream",
       "stream": "stdout",
       "text": [
        "\n",
        "step 4220: lp -376.05, accepted arrival_time: 0.039%, coda_decay: 0.069%, coda_height: 0.094%, evdepth: 0.495%, evloc: 0.103%, evloc_big: 0.006%, evmb: 0.944%, evtime: 0.418%, indep_peak: 0.003%, peak_decay: 0.329%, peak_offset: 0.153%, , uatemplates: 0 , events: 1 "
       ]
      },
      {
       "output_type": "stream",
       "stream": "stdout",
       "text": [
        "\n",
        "saving debug dump to /home/dmoore/python/sigvisa/logs/mcmc/01627/step_004229..."
       ]
      },
      {
       "output_type": "stream",
       "stream": "stdout",
       "text": [
        "\n",
        "saved pickled graph"
       ]
      },
      {
       "output_type": "stream",
       "stream": "stdout",
       "text": [
        "\n",
        "step 4230: lp -380.83, accepted arrival_time: 0.039%, coda_decay: 0.069%, coda_height: 0.094%, evdepth: 0.495%, evloc: 0.103%, evloc_big: 0.006%, evmb: 0.944%, evtime: 0.418%, indep_peak: 0.003%, peak_decay: 0.329%, peak_offset: 0.153%, , uatemplates: 0 , events: 1 "
       ]
      },
      {
       "output_type": "stream",
       "stream": "stdout",
       "text": [
        "\n",
        "saving debug dump to /home/dmoore/python/sigvisa/logs/mcmc/01627/step_004239..."
       ]
      },
      {
       "output_type": "stream",
       "stream": "stdout",
       "text": [
        "\n",
        "saved pickled graph"
       ]
      },
      {
       "output_type": "stream",
       "stream": "stdout",
       "text": [
        "\n",
        "step 4240: lp -382.61, accepted arrival_time: 0.039%, coda_decay: 0.069%, coda_height: 0.094%, evdepth: 0.495%, evloc: 0.102%, evloc_big: 0.006%, evmb: 0.945%, evtime: 0.417%, indep_peak: 0.002%, peak_decay: 0.329%, peak_offset: 0.153%, , uatemplates: 0 , events: 1 "
       ]
      },
      {
       "output_type": "stream",
       "stream": "stdout",
       "text": [
        "\n",
        "saving debug dump to /home/dmoore/python/sigvisa/logs/mcmc/01627/step_004249..."
       ]
      },
      {
       "output_type": "stream",
       "stream": "stdout",
       "text": [
        "\n",
        "saved pickled graph"
       ]
      },
      {
       "output_type": "stream",
       "stream": "stdout",
       "text": [
        "\n",
        "step 4250: lp -382.54, accepted arrival_time: 0.039%, coda_decay: 0.069%, coda_height: 0.094%, evdepth: 0.494%, evloc: 0.102%, evloc_big: 0.006%, evmb: 0.945%, evtime: 0.418%, indep_peak: 0.002%, peak_decay: 0.329%, peak_offset: 0.153%, , uatemplates: 0 , events: 1 "
       ]
      },
      {
       "output_type": "stream",
       "stream": "stdout",
       "text": [
        "\n",
        "saving debug dump to /home/dmoore/python/sigvisa/logs/mcmc/01627/step_004259..."
       ]
      },
      {
       "output_type": "stream",
       "stream": "stdout",
       "text": [
        "\n",
        "saved pickled graph"
       ]
      },
      {
       "output_type": "stream",
       "stream": "stdout",
       "text": [
        "\n",
        "step 4260: lp -382.63, accepted arrival_time: 0.039%, coda_decay: 0.069%, coda_height: 0.094%, evdepth: 0.494%, evloc: 0.102%, evloc_big: 0.006%, evmb: 0.945%, evtime: 0.418%, indep_peak: 0.002%, peak_decay: 0.329%, peak_offset: 0.153%, , uatemplates: 0 , events: 1 "
       ]
      },
      {
       "output_type": "stream",
       "stream": "stdout",
       "text": [
        "\n",
        "saving debug dump to /home/dmoore/python/sigvisa/logs/mcmc/01627/step_004269..."
       ]
      },
      {
       "output_type": "stream",
       "stream": "stdout",
       "text": [
        "\n",
        "saved pickled graph"
       ]
      },
      {
       "output_type": "stream",
       "stream": "stdout",
       "text": [
        "\n",
        "step 4270: lp -380.67, accepted arrival_time: 0.039%, coda_decay: 0.069%, coda_height: 0.094%, evdepth: 0.495%, evloc: 0.102%, evloc_big: 0.006%, evmb: 0.945%, evtime: 0.418%, indep_peak: 0.002%, peak_decay: 0.329%, peak_offset: 0.153%, , uatemplates: 0 , events: 1 "
       ]
      },
      {
       "output_type": "stream",
       "stream": "stdout",
       "text": [
        "\n",
        "saving debug dump to /home/dmoore/python/sigvisa/logs/mcmc/01627/step_004279..."
       ]
      },
      {
       "output_type": "stream",
       "stream": "stdout",
       "text": [
        "\n",
        "saved pickled graph"
       ]
      },
      {
       "output_type": "stream",
       "stream": "stdout",
       "text": [
        "\n",
        "step 4280: lp -377.14, accepted arrival_time: 0.039%, coda_decay: 0.069%, coda_height: 0.094%, evdepth: 0.495%, evloc: 0.102%, evloc_big: 0.006%, evmb: 0.945%, evtime: 0.418%, indep_peak: 0.002%, peak_decay: 0.329%, peak_offset: 0.153%, , uatemplates: 0 , events: 1 "
       ]
      },
      {
       "output_type": "stream",
       "stream": "stdout",
       "text": [
        "\n",
        "saving debug dump to /home/dmoore/python/sigvisa/logs/mcmc/01627/step_004289..."
       ]
      },
      {
       "output_type": "stream",
       "stream": "stdout",
       "text": [
        "\n",
        "saved pickled graph"
       ]
      },
      {
       "output_type": "stream",
       "stream": "stdout",
       "text": [
        "\n",
        "step 4290: lp -377.65, accepted arrival_time: 0.039%, coda_decay: 0.069%, coda_height: 0.094%, evdepth: 0.494%, evloc: 0.102%, evloc_big: 0.006%, evmb: 0.945%, evtime: 0.419%, indep_peak: 0.002%, peak_decay: 0.329%, peak_offset: 0.153%, , uatemplates: 0 , events: 1 "
       ]
      },
      {
       "output_type": "stream",
       "stream": "stdout",
       "text": [
        "\n",
        "saving debug dump to /home/dmoore/python/sigvisa/logs/mcmc/01627/step_004299..."
       ]
      },
      {
       "output_type": "stream",
       "stream": "stdout",
       "text": [
        "\n",
        "saved pickled graph"
       ]
      },
      {
       "output_type": "stream",
       "stream": "stdout",
       "text": [
        "\n",
        "step 4300: lp -378.65, accepted arrival_time: 0.039%, coda_decay: 0.069%, coda_height: 0.094%, evdepth: 0.494%, evloc: 0.101%, evloc_big: 0.006%, evmb: 0.945%, evtime: 0.419%, indep_peak: 0.003%, peak_decay: 0.329%, peak_offset: 0.153%, , uatemplates: 0 , events: 1 "
       ]
      },
      {
       "output_type": "stream",
       "stream": "stdout",
       "text": [
        "\n",
        "saving debug dump to /home/dmoore/python/sigvisa/logs/mcmc/01627/step_004309..."
       ]
      },
      {
       "output_type": "stream",
       "stream": "stdout",
       "text": [
        "\n",
        "saved pickled graph"
       ]
      },
      {
       "output_type": "stream",
       "stream": "stdout",
       "text": [
        "\n",
        "step 4310: lp -376.38, accepted arrival_time: 0.039%, coda_decay: 0.069%, coda_height: 0.094%, evdepth: 0.495%, evloc: 0.101%, evloc_big: 0.006%, evmb: 0.945%, evtime: 0.419%, indep_peak: 0.003%, peak_decay: 0.329%, peak_offset: 0.154%, , uatemplates: 0 , events: 1 "
       ]
      },
      {
       "output_type": "stream",
       "stream": "stdout",
       "text": [
        "\n",
        "saving debug dump to /home/dmoore/python/sigvisa/logs/mcmc/01627/step_004319..."
       ]
      },
      {
       "output_type": "stream",
       "stream": "stdout",
       "text": [
        "\n",
        "saved pickled graph"
       ]
      },
      {
       "output_type": "stream",
       "stream": "stdout",
       "text": [
        "\n",
        "step 4320: lp -380.42, accepted arrival_time: 0.039%, coda_decay: 0.069%, coda_height: 0.094%, evdepth: 0.494%, evloc: 0.101%, evloc_big: 0.006%, evmb: 0.945%, evtime: 0.418%, indep_peak: 0.002%, peak_decay: 0.329%, peak_offset: 0.154%, , uatemplates: 0 , events: 1 "
       ]
      },
      {
       "output_type": "stream",
       "stream": "stdout",
       "text": [
        "\n",
        "saving debug dump to /home/dmoore/python/sigvisa/logs/mcmc/01627/step_004329..."
       ]
      },
      {
       "output_type": "stream",
       "stream": "stdout",
       "text": [
        "\n",
        "saved pickled graph"
       ]
      },
      {
       "output_type": "stream",
       "stream": "stdout",
       "text": [
        "\n",
        "step 4330: lp -376.39, accepted arrival_time: 0.039%, coda_decay: 0.069%, coda_height: 0.094%, evdepth: 0.494%, evloc: 0.101%, evloc_big: 0.006%, evmb: 0.945%, evtime: 0.419%, indep_peak: 0.002%, peak_decay: 0.329%, peak_offset: 0.153%, , uatemplates: 0 , events: 1 "
       ]
      },
      {
       "output_type": "stream",
       "stream": "stdout",
       "text": [
        "\n",
        "saving debug dump to /home/dmoore/python/sigvisa/logs/mcmc/01627/step_004339..."
       ]
      },
      {
       "output_type": "stream",
       "stream": "stdout",
       "text": [
        "\n",
        "saved pickled graph"
       ]
      },
      {
       "output_type": "stream",
       "stream": "stdout",
       "text": [
        "\n",
        "step 4340: lp -379.13, accepted arrival_time: 0.039%, coda_decay: 0.069%, coda_height: 0.094%, evdepth: 0.494%, evloc: 0.101%, evloc_big: 0.006%, evmb: 0.945%, evtime: 0.419%, indep_peak: 0.002%, peak_decay: 0.328%, peak_offset: 0.153%, , uatemplates: 0 , events: 1 "
       ]
      },
      {
       "output_type": "stream",
       "stream": "stdout",
       "text": [
        "\n",
        "saving debug dump to /home/dmoore/python/sigvisa/logs/mcmc/01627/step_004349..."
       ]
      },
      {
       "output_type": "stream",
       "stream": "stdout",
       "text": [
        "\n",
        "saved pickled graph"
       ]
      },
      {
       "output_type": "stream",
       "stream": "stdout",
       "text": [
        "\n",
        "step 4350: lp -393.70, accepted arrival_time: 0.039%, coda_decay: 0.069%, coda_height: 0.094%, evdepth: 0.494%, evloc: 0.101%, evloc_big: 0.006%, evmb: 0.945%, evtime: 0.419%, indep_peak: 0.002%, peak_decay: 0.328%, peak_offset: 0.153%, , uatemplates: 0 , events: 1 "
       ]
      },
      {
       "output_type": "stream",
       "stream": "stdout",
       "text": [
        "\n",
        "saving debug dump to /home/dmoore/python/sigvisa/logs/mcmc/01627/step_004359..."
       ]
      },
      {
       "output_type": "stream",
       "stream": "stdout",
       "text": [
        "\n",
        "saved pickled graph"
       ]
      },
      {
       "output_type": "stream",
       "stream": "stdout",
       "text": [
        "\n",
        "step 4360: lp -394.35, accepted arrival_time: 0.039%, coda_decay: 0.069%, coda_height: 0.094%, evdepth: 0.494%, evloc: 0.102%, evloc_big: 0.006%, evmb: 0.945%, evtime: 0.418%, indep_peak: 0.003%, peak_decay: 0.328%, peak_offset: 0.153%, , uatemplates: 0 , events: 1 "
       ]
      },
      {
       "output_type": "stream",
       "stream": "stdout",
       "text": [
        "\n",
        "saving debug dump to /home/dmoore/python/sigvisa/logs/mcmc/01627/step_004369..."
       ]
      },
      {
       "output_type": "stream",
       "stream": "stdout",
       "text": [
        "\n",
        "saved pickled graph"
       ]
      },
      {
       "output_type": "stream",
       "stream": "stdout",
       "text": [
        "\n",
        "step 4370: lp -396.40, accepted arrival_time: 0.039%, coda_decay: 0.069%, coda_height: 0.094%, evdepth: 0.495%, evloc: 0.102%, evloc_big: 0.006%, evmb: 0.946%, evtime: 0.418%, indep_peak: 0.003%, peak_decay: 0.328%, peak_offset: 0.153%, , uatemplates: 0 , events: 1 "
       ]
      },
      {
       "output_type": "stream",
       "stream": "stdout",
       "text": [
        "\n",
        "saving debug dump to /home/dmoore/python/sigvisa/logs/mcmc/01627/step_004379..."
       ]
      },
      {
       "output_type": "stream",
       "stream": "stdout",
       "text": [
        "\n",
        "saved pickled graph"
       ]
      },
      {
       "output_type": "stream",
       "stream": "stdout",
       "text": [
        "\n",
        "step 4380: lp -385.91, accepted arrival_time: 0.039%, coda_decay: 0.069%, coda_height: 0.094%, evdepth: 0.495%, evloc: 0.102%, evloc_big: 0.006%, evmb: 0.946%, evtime: 0.418%, indep_peak: 0.003%, peak_decay: 0.328%, peak_offset: 0.153%, , uatemplates: 0 , events: 1 "
       ]
      },
      {
       "output_type": "stream",
       "stream": "stdout",
       "text": [
        "\n",
        "saving debug dump to /home/dmoore/python/sigvisa/logs/mcmc/01627/step_004389..."
       ]
      },
      {
       "output_type": "stream",
       "stream": "stdout",
       "text": [
        "\n",
        "saved pickled graph"
       ]
      },
      {
       "output_type": "stream",
       "stream": "stdout",
       "text": [
        "\n",
        "step 4390: lp -379.19, accepted arrival_time: 0.039%, coda_decay: 0.070%, coda_height: 0.094%, evdepth: 0.495%, evloc: 0.102%, evloc_big: 0.006%, evmb: 0.946%, evtime: 0.418%, indep_peak: 0.003%, peak_decay: 0.328%, peak_offset: 0.154%, , uatemplates: 0 , events: 1 "
       ]
      },
      {
       "output_type": "stream",
       "stream": "stdout",
       "text": [
        "\n",
        "saving debug dump to /home/dmoore/python/sigvisa/logs/mcmc/01627/step_004399..."
       ]
      },
      {
       "output_type": "stream",
       "stream": "stdout",
       "text": [
        "\n",
        "saved pickled graph"
       ]
      },
      {
       "output_type": "stream",
       "stream": "stdout",
       "text": [
        "\n",
        "step 4400: lp -380.43, accepted arrival_time: 0.039%, coda_decay: 0.070%, coda_height: 0.094%, evdepth: 0.495%, evloc: 0.102%, evloc_big: 0.006%, evmb: 0.946%, evtime: 0.417%, indep_peak: 0.003%, peak_decay: 0.328%, peak_offset: 0.154%, , uatemplates: 0 , events: 1 "
       ]
      },
      {
       "output_type": "stream",
       "stream": "stdout",
       "text": [
        "\n",
        "saving debug dump to /home/dmoore/python/sigvisa/logs/mcmc/01627/step_004409..."
       ]
      },
      {
       "output_type": "stream",
       "stream": "stdout",
       "text": [
        "\n",
        "saved pickled graph"
       ]
      },
      {
       "output_type": "stream",
       "stream": "stdout",
       "text": [
        "\n",
        "step 4410: lp -376.52, accepted arrival_time: 0.039%, coda_decay: 0.070%, coda_height: 0.094%, evdepth: 0.495%, evloc: 0.102%, evloc_big: 0.006%, evmb: 0.946%, evtime: 0.417%, indep_peak: 0.003%, peak_decay: 0.328%, peak_offset: 0.154%, , uatemplates: 0 , events: 1 "
       ]
      },
      {
       "output_type": "stream",
       "stream": "stdout",
       "text": [
        "\n",
        "saving debug dump to /home/dmoore/python/sigvisa/logs/mcmc/01627/step_004419..."
       ]
      },
      {
       "output_type": "stream",
       "stream": "stdout",
       "text": [
        "\n",
        "saved pickled graph"
       ]
      },
      {
       "output_type": "stream",
       "stream": "stdout",
       "text": [
        "\n",
        "step 4420: lp -374.05, accepted arrival_time: 0.039%, coda_decay: 0.070%, coda_height: 0.094%, evdepth: 0.495%, evloc: 0.102%, evloc_big: 0.006%, evmb: 0.946%, evtime: 0.417%, indep_peak: 0.003%, peak_decay: 0.328%, peak_offset: 0.154%, , uatemplates: 0 , events: 1 "
       ]
      },
      {
       "output_type": "stream",
       "stream": "stdout",
       "text": [
        "\n",
        "saving debug dump to /home/dmoore/python/sigvisa/logs/mcmc/01627/step_004429..."
       ]
      },
      {
       "output_type": "stream",
       "stream": "stdout",
       "text": [
        "\n",
        "saved pickled graph"
       ]
      },
      {
       "output_type": "stream",
       "stream": "stdout",
       "text": [
        "\n",
        "step 4430: lp -375.61, accepted arrival_time: 0.039%, coda_decay: 0.070%, coda_height: 0.094%, evdepth: 0.495%, evloc: 0.102%, evloc_big: 0.006%, evmb: 0.946%, evtime: 0.418%, indep_peak: 0.003%, peak_decay: 0.328%, peak_offset: 0.154%, , uatemplates: 0 , events: 1 "
       ]
      },
      {
       "output_type": "stream",
       "stream": "stdout",
       "text": [
        "\n",
        "saving debug dump to /home/dmoore/python/sigvisa/logs/mcmc/01627/step_004439..."
       ]
      },
      {
       "output_type": "stream",
       "stream": "stdout",
       "text": [
        "\n",
        "saved pickled graph"
       ]
      },
      {
       "output_type": "stream",
       "stream": "stdout",
       "text": [
        "\n",
        "step 4440: lp -378.89, accepted arrival_time: 0.039%, coda_decay: 0.070%, coda_height: 0.094%, evdepth: 0.495%, evloc: 0.102%, evloc_big: 0.006%, evmb: 0.946%, evtime: 0.418%, indep_peak: 0.003%, peak_decay: 0.328%, peak_offset: 0.154%, , uatemplates: 0 , events: 1 "
       ]
      },
      {
       "output_type": "stream",
       "stream": "stdout",
       "text": [
        "\n",
        "saving debug dump to /home/dmoore/python/sigvisa/logs/mcmc/01627/step_004449..."
       ]
      },
      {
       "output_type": "stream",
       "stream": "stdout",
       "text": [
        "\n",
        "saved pickled graph"
       ]
      },
      {
       "output_type": "stream",
       "stream": "stdout",
       "text": [
        "\n",
        "step 4450: lp -380.35, accepted arrival_time: 0.039%, coda_decay: 0.070%, coda_height: 0.094%, evdepth: 0.494%, evloc: 0.102%, evloc_big: 0.006%, evmb: 0.947%, evtime: 0.418%, indep_peak: 0.003%, peak_decay: 0.328%, peak_offset: 0.154%, , uatemplates: 0 , events: 1 "
       ]
      },
      {
       "output_type": "stream",
       "stream": "stdout",
       "text": [
        "\n",
        "saving debug dump to /home/dmoore/python/sigvisa/logs/mcmc/01627/step_004459..."
       ]
      },
      {
       "output_type": "stream",
       "stream": "stdout",
       "text": [
        "\n",
        "saved pickled graph"
       ]
      },
      {
       "output_type": "stream",
       "stream": "stdout",
       "text": [
        "\n",
        "step 4460: lp -379.05, accepted arrival_time: 0.039%, coda_decay: 0.070%, coda_height: 0.094%, evdepth: 0.495%, evloc: 0.101%, evloc_big: 0.006%, evmb: 0.946%, evtime: 0.418%, indep_peak: 0.003%, peak_decay: 0.327%, peak_offset: 0.154%, , uatemplates: 0 , events: 1 "
       ]
      },
      {
       "output_type": "stream",
       "stream": "stdout",
       "text": [
        "\n",
        "saving debug dump to /home/dmoore/python/sigvisa/logs/mcmc/01627/step_004469..."
       ]
      },
      {
       "output_type": "stream",
       "stream": "stdout",
       "text": [
        "\n",
        "saved pickled graph"
       ]
      },
      {
       "output_type": "stream",
       "stream": "stdout",
       "text": [
        "\n",
        "step 4470: lp -379.55, accepted arrival_time: 0.040%, coda_decay: 0.070%, coda_height: 0.094%, evdepth: 0.495%, evloc: 0.101%, evloc_big: 0.006%, evmb: 0.946%, evtime: 0.418%, indep_peak: 0.003%, peak_decay: 0.327%, peak_offset: 0.154%, , uatemplates: 0 , events: 1 "
       ]
      },
      {
       "output_type": "stream",
       "stream": "stdout",
       "text": [
        "\n",
        "saving debug dump to /home/dmoore/python/sigvisa/logs/mcmc/01627/step_004479..."
       ]
      },
      {
       "output_type": "stream",
       "stream": "stdout",
       "text": [
        "\n",
        "saved pickled graph"
       ]
      },
      {
       "output_type": "stream",
       "stream": "stdout",
       "text": [
        "\n",
        "step 4480: lp -378.88, accepted arrival_time: 0.040%, coda_decay: 0.070%, coda_height: 0.094%, evdepth: 0.495%, evloc: 0.101%, evloc_big: 0.006%, evmb: 0.946%, evtime: 0.418%, indep_peak: 0.003%, peak_decay: 0.327%, peak_offset: 0.154%, , uatemplates: 0 , events: 1 "
       ]
      },
      {
       "output_type": "stream",
       "stream": "stdout",
       "text": [
        "\n",
        "saving debug dump to /home/dmoore/python/sigvisa/logs/mcmc/01627/step_004489..."
       ]
      },
      {
       "output_type": "stream",
       "stream": "stdout",
       "text": [
        "\n",
        "saved pickled graph"
       ]
      },
      {
       "output_type": "stream",
       "stream": "stdout",
       "text": [
        "\n",
        "step 4490: lp -384.20, accepted arrival_time: 0.040%, coda_decay: 0.070%, coda_height: 0.094%, evdepth: 0.496%, evloc: 0.101%, evloc_big: 0.006%, evmb: 0.946%, evtime: 0.418%, indep_peak: 0.003%, peak_decay: 0.327%, peak_offset: 0.154%, , uatemplates: 0 , events: 1 "
       ]
      },
      {
       "output_type": "stream",
       "stream": "stdout",
       "text": [
        "\n",
        "saving debug dump to /home/dmoore/python/sigvisa/logs/mcmc/01627/step_004499..."
       ]
      },
      {
       "output_type": "stream",
       "stream": "stdout",
       "text": [
        "\n",
        "saved pickled graph"
       ]
      },
      {
       "output_type": "stream",
       "stream": "stdout",
       "text": [
        "\n",
        "step 4500: lp -376.75, accepted arrival_time: 0.040%, coda_decay: 0.070%, coda_height: 0.094%, evdepth: 0.495%, evloc: 0.101%, evloc_big: 0.006%, evmb: 0.946%, evtime: 0.418%, indep_peak: 0.003%, peak_decay: 0.327%, peak_offset: 0.154%, , uatemplates: 0 , events: 1 "
       ]
      },
      {
       "output_type": "stream",
       "stream": "stdout",
       "text": [
        "\n",
        "saving debug dump to /home/dmoore/python/sigvisa/logs/mcmc/01627/step_004509..."
       ]
      },
      {
       "output_type": "stream",
       "stream": "stdout",
       "text": [
        "\n",
        "saved pickled graph"
       ]
      },
      {
       "output_type": "stream",
       "stream": "stdout",
       "text": [
        "\n",
        "step 4510: lp -384.54, accepted arrival_time: 0.039%, coda_decay: 0.070%, coda_height: 0.094%, evdepth: 0.496%, evloc: 0.101%, evloc_big: 0.006%, evmb: 0.946%, evtime: 0.417%, indep_peak: 0.003%, peak_decay: 0.327%, peak_offset: 0.154%, , uatemplates: 0 , events: 1 "
       ]
      },
      {
       "output_type": "stream",
       "stream": "stdout",
       "text": [
        "\n",
        "saving debug dump to /home/dmoore/python/sigvisa/logs/mcmc/01627/step_004519..."
       ]
      },
      {
       "output_type": "stream",
       "stream": "stdout",
       "text": [
        "\n",
        "saved pickled graph"
       ]
      },
      {
       "output_type": "stream",
       "stream": "stdout",
       "text": [
        "\n",
        "step 4520: lp -385.50, accepted arrival_time: 0.039%, coda_decay: 0.070%, coda_height: 0.094%, evdepth: 0.496%, evloc: 0.100%, evloc_big: 0.006%, evmb: 0.946%, evtime: 0.418%, indep_peak: 0.003%, peak_decay: 0.327%, peak_offset: 0.154%, , uatemplates: 0 , events: 1 "
       ]
      },
      {
       "output_type": "stream",
       "stream": "stdout",
       "text": [
        "\n",
        "saving debug dump to /home/dmoore/python/sigvisa/logs/mcmc/01627/step_004529..."
       ]
      },
      {
       "output_type": "stream",
       "stream": "stdout",
       "text": [
        "\n",
        "saved pickled graph"
       ]
      },
      {
       "output_type": "stream",
       "stream": "stdout",
       "text": [
        "\n",
        "step 4530: lp -383.76, accepted arrival_time: 0.039%, coda_decay: 0.070%, coda_height: 0.094%, evdepth: 0.496%, evloc: 0.100%, evloc_big: 0.006%, evmb: 0.947%, evtime: 0.418%, indep_peak: 0.003%, peak_decay: 0.327%, peak_offset: 0.154%, , uatemplates: 0 , events: 1 "
       ]
      },
      {
       "output_type": "stream",
       "stream": "stdout",
       "text": [
        "\n",
        "saving debug dump to /home/dmoore/python/sigvisa/logs/mcmc/01627/step_004539..."
       ]
      },
      {
       "output_type": "stream",
       "stream": "stdout",
       "text": [
        "\n",
        "saved pickled graph"
       ]
      },
      {
       "output_type": "stream",
       "stream": "stdout",
       "text": [
        "\n",
        "step 4540: lp -381.41, accepted arrival_time: 0.039%, coda_decay: 0.070%, coda_height: 0.094%, evdepth: 0.495%, evloc: 0.100%, evloc_big: 0.006%, evmb: 0.947%, evtime: 0.417%, indep_peak: 0.003%, peak_decay: 0.327%, peak_offset: 0.154%, , uatemplates: 0 , events: 1 "
       ]
      },
      {
       "output_type": "stream",
       "stream": "stdout",
       "text": [
        "\n",
        "saving debug dump to /home/dmoore/python/sigvisa/logs/mcmc/01627/step_004549..."
       ]
      },
      {
       "output_type": "stream",
       "stream": "stdout",
       "text": [
        "\n",
        "saved pickled graph"
       ]
      },
      {
       "output_type": "stream",
       "stream": "stdout",
       "text": [
        "\n",
        "step 4550: lp -381.67, accepted arrival_time: 0.039%, coda_decay: 0.070%, coda_height: 0.094%, evdepth: 0.496%, evloc: 0.100%, evloc_big: 0.005%, evmb: 0.947%, evtime: 0.417%, indep_peak: 0.003%, peak_decay: 0.326%, peak_offset: 0.154%, , uatemplates: 0 , events: 1 "
       ]
      },
      {
       "output_type": "stream",
       "stream": "stdout",
       "text": [
        "\n",
        "saving debug dump to /home/dmoore/python/sigvisa/logs/mcmc/01627/step_004559..."
       ]
      },
      {
       "output_type": "stream",
       "stream": "stdout",
       "text": [
        "\n",
        "saved pickled graph"
       ]
      },
      {
       "output_type": "stream",
       "stream": "stdout",
       "text": [
        "\n",
        "step 4560: lp -377.58, accepted arrival_time: 0.039%, coda_decay: 0.070%, coda_height: 0.094%, evdepth: 0.496%, evloc: 0.100%, evloc_big: 0.005%, evmb: 0.947%, evtime: 0.417%, indep_peak: 0.003%, peak_decay: 0.326%, peak_offset: 0.154%, , uatemplates: 0 , events: 1 "
       ]
      },
      {
       "output_type": "stream",
       "stream": "stdout",
       "text": [
        "\n",
        "saving debug dump to /home/dmoore/python/sigvisa/logs/mcmc/01627/step_004569..."
       ]
      },
      {
       "output_type": "stream",
       "stream": "stdout",
       "text": [
        "\n",
        "saved pickled graph"
       ]
      },
      {
       "output_type": "stream",
       "stream": "stdout",
       "text": [
        "\n",
        "step 4570: lp -372.34, accepted arrival_time: 0.039%, coda_decay: 0.070%, coda_height: 0.094%, evdepth: 0.496%, evloc: 0.100%, evloc_big: 0.005%, evmb: 0.947%, evtime: 0.417%, indep_peak: 0.003%, peak_decay: 0.326%, peak_offset: 0.154%, , uatemplates: 0 , events: 1 "
       ]
      },
      {
       "output_type": "stream",
       "stream": "stdout",
       "text": [
        "\n",
        "saving debug dump to /home/dmoore/python/sigvisa/logs/mcmc/01627/step_004579..."
       ]
      },
      {
       "output_type": "stream",
       "stream": "stdout",
       "text": [
        "\n",
        "saved pickled graph"
       ]
      },
      {
       "output_type": "stream",
       "stream": "stdout",
       "text": [
        "\n",
        "step 4580: lp -370.40, accepted arrival_time: 0.039%, coda_decay: 0.070%, coda_height: 0.093%, evdepth: 0.496%, evloc: 0.100%, evloc_big: 0.005%, evmb: 0.947%, evtime: 0.418%, indep_peak: 0.003%, peak_decay: 0.326%, peak_offset: 0.154%, , uatemplates: 0 , events: 1 "
       ]
      },
      {
       "output_type": "stream",
       "stream": "stdout",
       "text": [
        "\n",
        "saving debug dump to /home/dmoore/python/sigvisa/logs/mcmc/01627/step_004589..."
       ]
      },
      {
       "output_type": "stream",
       "stream": "stdout",
       "text": [
        "\n",
        "saved pickled graph"
       ]
      },
      {
       "output_type": "stream",
       "stream": "stdout",
       "text": [
        "\n",
        "step 4590: lp -376.20, accepted arrival_time: 0.039%, coda_decay: 0.070%, coda_height: 0.093%, evdepth: 0.496%, evloc: 0.100%, evloc_big: 0.005%, evmb: 0.947%, evtime: 0.418%, indep_peak: 0.003%, peak_decay: 0.326%, peak_offset: 0.154%, , uatemplates: 0 , events: 1 "
       ]
      },
      {
       "output_type": "stream",
       "stream": "stdout",
       "text": [
        "\n",
        "saving debug dump to /home/dmoore/python/sigvisa/logs/mcmc/01627/step_004599..."
       ]
      },
      {
       "output_type": "stream",
       "stream": "stdout",
       "text": [
        "\n",
        "saved pickled graph"
       ]
      },
      {
       "output_type": "stream",
       "stream": "stdout",
       "text": [
        "\n",
        "step 4600: lp -381.76, accepted arrival_time: 0.039%, coda_decay: 0.070%, coda_height: 0.093%, evdepth: 0.497%, evloc: 0.099%, evloc_big: 0.005%, evmb: 0.947%, evtime: 0.419%, indep_peak: 0.003%, peak_decay: 0.326%, peak_offset: 0.154%, , uatemplates: 0 , events: 1 "
       ]
      },
      {
       "output_type": "stream",
       "stream": "stdout",
       "text": [
        "\n",
        "saving debug dump to /home/dmoore/python/sigvisa/logs/mcmc/01627/step_004609..."
       ]
      },
      {
       "output_type": "stream",
       "stream": "stdout",
       "text": [
        "\n",
        "saved pickled graph"
       ]
      },
      {
       "output_type": "stream",
       "stream": "stdout",
       "text": [
        "\n",
        "step 4610: lp -373.10, accepted arrival_time: 0.039%, coda_decay: 0.070%, coda_height: 0.093%, evdepth: 0.497%, evloc: 0.099%, evloc_big: 0.005%, evmb: 0.947%, evtime: 0.419%, indep_peak: 0.003%, peak_decay: 0.326%, peak_offset: 0.154%, , uatemplates: 0 , events: 1 "
       ]
      },
      {
       "output_type": "stream",
       "stream": "stdout",
       "text": [
        "\n",
        "saving debug dump to /home/dmoore/python/sigvisa/logs/mcmc/01627/step_004619..."
       ]
      },
      {
       "output_type": "stream",
       "stream": "stdout",
       "text": [
        "\n",
        "saved pickled graph"
       ]
      },
      {
       "output_type": "stream",
       "stream": "stdout",
       "text": [
        "\n",
        "step 4620: lp -373.04, accepted arrival_time: 0.039%, coda_decay: 0.070%, coda_height: 0.093%, evdepth: 0.497%, evloc: 0.099%, evloc_big: 0.005%, evmb: 0.947%, evtime: 0.419%, indep_peak: 0.003%, peak_decay: 0.326%, peak_offset: 0.154%, , uatemplates: 0 , events: 1 "
       ]
      },
      {
       "output_type": "stream",
       "stream": "stdout",
       "text": [
        "\n",
        "saving debug dump to /home/dmoore/python/sigvisa/logs/mcmc/01627/step_004629..."
       ]
      },
      {
       "output_type": "stream",
       "stream": "stdout",
       "text": [
        "\n",
        "saved pickled graph"
       ]
      },
      {
       "output_type": "stream",
       "stream": "stdout",
       "text": [
        "\n",
        "step 4630: lp -379.49, accepted arrival_time: 0.039%, coda_decay: 0.070%, coda_height: 0.093%, evdepth: 0.497%, evloc: 0.099%, evloc_big: 0.005%, evmb: 0.948%, evtime: 0.420%, indep_peak: 0.003%, peak_decay: 0.326%, peak_offset: 0.154%, , uatemplates: 0 , events: 1 "
       ]
      },
      {
       "output_type": "stream",
       "stream": "stdout",
       "text": [
        "\n",
        "saving debug dump to /home/dmoore/python/sigvisa/logs/mcmc/01627/step_004639..."
       ]
      },
      {
       "output_type": "stream",
       "stream": "stdout",
       "text": [
        "\n",
        "saved pickled graph"
       ]
      },
      {
       "output_type": "stream",
       "stream": "stdout",
       "text": [
        "\n",
        "step 4640: lp -379.01, accepted arrival_time: 0.039%, coda_decay: 0.070%, coda_height: 0.093%, evdepth: 0.497%, evloc: 0.099%, evloc_big: 0.005%, evmb: 0.948%, evtime: 0.419%, indep_peak: 0.002%, peak_decay: 0.326%, peak_offset: 0.154%, , uatemplates: 0 , events: 1 "
       ]
      },
      {
       "output_type": "stream",
       "stream": "stdout",
       "text": [
        "\n",
        "saving debug dump to /home/dmoore/python/sigvisa/logs/mcmc/01627/step_004649..."
       ]
      },
      {
       "output_type": "stream",
       "stream": "stdout",
       "text": [
        "\n",
        "saved pickled graph"
       ]
      },
      {
       "output_type": "stream",
       "stream": "stdout",
       "text": [
        "\n",
        "step 4650: lp -382.84, accepted arrival_time: 0.039%, coda_decay: 0.070%, coda_height: 0.093%, evdepth: 0.496%, evloc: 0.099%, evloc_big: 0.005%, evmb: 0.947%, evtime: 0.419%, indep_peak: 0.002%, peak_decay: 0.325%, peak_offset: 0.154%, , uatemplates: 0 , events: 1 "
       ]
      },
      {
       "output_type": "stream",
       "stream": "stdout",
       "text": [
        "\n",
        "saving debug dump to /home/dmoore/python/sigvisa/logs/mcmc/01627/step_004659..."
       ]
      },
      {
       "output_type": "stream",
       "stream": "stdout",
       "text": [
        "\n",
        "saved pickled graph"
       ]
      },
      {
       "output_type": "stream",
       "stream": "stdout",
       "text": [
        "\n",
        "step 4660: lp -379.97, accepted arrival_time: 0.039%, coda_decay: 0.070%, coda_height: 0.093%, evdepth: 0.496%, evloc: 0.099%, evloc_big: 0.005%, evmb: 0.947%, evtime: 0.420%, indep_peak: 0.002%, peak_decay: 0.325%, peak_offset: 0.154%, , uatemplates: 0 , events: 1 "
       ]
      },
      {
       "output_type": "stream",
       "stream": "stdout",
       "text": [
        "\n",
        "saving debug dump to /home/dmoore/python/sigvisa/logs/mcmc/01627/step_004669..."
       ]
      },
      {
       "output_type": "stream",
       "stream": "stdout",
       "text": [
        "\n",
        "saved pickled graph"
       ]
      },
      {
       "output_type": "stream",
       "stream": "stdout",
       "text": [
        "\n",
        "step 4670: lp -373.34, accepted arrival_time: 0.039%, coda_decay: 0.070%, coda_height: 0.093%, evdepth: 0.496%, evloc: 0.099%, evloc_big: 0.005%, evmb: 0.947%, evtime: 0.420%, indep_peak: 0.002%, peak_decay: 0.325%, peak_offset: 0.154%, , uatemplates: 0 , events: 1 "
       ]
      },
      {
       "output_type": "stream",
       "stream": "stdout",
       "text": [
        "\n",
        "saving debug dump to /home/dmoore/python/sigvisa/logs/mcmc/01627/step_004679..."
       ]
      },
      {
       "output_type": "stream",
       "stream": "stdout",
       "text": [
        "\n",
        "saved pickled graph"
       ]
      },
      {
       "output_type": "stream",
       "stream": "stdout",
       "text": [
        "\n",
        "step 4680: lp -378.36, accepted arrival_time: 0.039%, coda_decay: 0.070%, coda_height: 0.093%, evdepth: 0.496%, evloc: 0.099%, evloc_big: 0.005%, evmb: 0.947%, evtime: 0.420%, indep_peak: 0.002%, peak_decay: 0.325%, peak_offset: 0.154%, , uatemplates: 0 , events: 1 "
       ]
      },
      {
       "output_type": "stream",
       "stream": "stdout",
       "text": [
        "\n",
        "saving debug dump to /home/dmoore/python/sigvisa/logs/mcmc/01627/step_004689..."
       ]
      },
      {
       "output_type": "stream",
       "stream": "stdout",
       "text": [
        "\n",
        "saved pickled graph"
       ]
      },
      {
       "output_type": "stream",
       "stream": "stdout",
       "text": [
        "\n",
        "step 4690: lp -378.14, accepted arrival_time: 0.039%, coda_decay: 0.069%, coda_height: 0.093%, evdepth: 0.496%, evloc: 0.099%, evloc_big: 0.005%, evmb: 0.948%, evtime: 0.420%, indep_peak: 0.002%, peak_decay: 0.325%, peak_offset: 0.154%, , uatemplates: 0 , events: 1 "
       ]
      },
      {
       "output_type": "stream",
       "stream": "stdout",
       "text": [
        "\n",
        "saving debug dump to /home/dmoore/python/sigvisa/logs/mcmc/01627/step_004699..."
       ]
      },
      {
       "output_type": "stream",
       "stream": "stdout",
       "text": [
        "\n",
        "saved pickled graph"
       ]
      },
      {
       "output_type": "stream",
       "stream": "stdout",
       "text": [
        "\n",
        "step 4700: lp -378.84, accepted arrival_time: 0.039%, coda_decay: 0.070%, coda_height: 0.093%, evdepth: 0.496%, evloc: 0.099%, evloc_big: 0.005%, evmb: 0.947%, evtime: 0.420%, indep_peak: 0.002%, peak_decay: 0.325%, peak_offset: 0.154%, , uatemplates: 0 , events: 1 "
       ]
      },
      {
       "output_type": "stream",
       "stream": "stdout",
       "text": [
        "\n",
        "saving debug dump to /home/dmoore/python/sigvisa/logs/mcmc/01627/step_004709..."
       ]
      },
      {
       "output_type": "stream",
       "stream": "stdout",
       "text": [
        "\n",
        "saved pickled graph"
       ]
      },
      {
       "output_type": "stream",
       "stream": "stdout",
       "text": [
        "\n",
        "step 4710: lp -379.14, accepted arrival_time: 0.039%, coda_decay: 0.069%, coda_height: 0.093%, evdepth: 0.496%, evloc: 0.099%, evloc_big: 0.005%, evmb: 0.948%, evtime: 0.420%, indep_peak: 0.002%, peak_decay: 0.325%, peak_offset: 0.154%, , uatemplates: 0 , events: 1 "
       ]
      },
      {
       "output_type": "stream",
       "stream": "stdout",
       "text": [
        "\n",
        "saving debug dump to /home/dmoore/python/sigvisa/logs/mcmc/01627/step_004719..."
       ]
      },
      {
       "output_type": "stream",
       "stream": "stdout",
       "text": [
        "\n",
        "saved pickled graph"
       ]
      },
      {
       "output_type": "stream",
       "stream": "stdout",
       "text": [
        "\n",
        "step 4720: lp -376.09, accepted arrival_time: 0.039%, coda_decay: 0.069%, coda_height: 0.093%, evdepth: 0.497%, evloc: 0.098%, evloc_big: 0.005%, evmb: 0.947%, evtime: 0.420%, indep_peak: 0.002%, peak_decay: 0.325%, peak_offset: 0.154%, , uatemplates: 0 , events: 1 "
       ]
      },
      {
       "output_type": "stream",
       "stream": "stdout",
       "text": [
        "\n",
        "saving debug dump to /home/dmoore/python/sigvisa/logs/mcmc/01627/step_004729..."
       ]
      },
      {
       "output_type": "stream",
       "stream": "stdout",
       "text": [
        "\n",
        "saved pickled graph"
       ]
      },
      {
       "output_type": "stream",
       "stream": "stdout",
       "text": [
        "\n",
        "step 4730: lp -376.93, accepted arrival_time: 0.039%, coda_decay: 0.069%, coda_height: 0.093%, evdepth: 0.498%, evloc: 0.099%, evloc_big: 0.005%, evmb: 0.947%, evtime: 0.420%, indep_peak: 0.002%, peak_decay: 0.324%, peak_offset: 0.154%, , uatemplates: 0 , events: 1 "
       ]
      },
      {
       "output_type": "stream",
       "stream": "stdout",
       "text": [
        "\n",
        "saving debug dump to /home/dmoore/python/sigvisa/logs/mcmc/01627/step_004739..."
       ]
      },
      {
       "output_type": "stream",
       "stream": "stdout",
       "text": [
        "\n",
        "saved pickled graph"
       ]
      },
      {
       "output_type": "stream",
       "stream": "stdout",
       "text": [
        "\n",
        "step 4740: lp -381.61, accepted arrival_time: 0.039%, coda_decay: 0.069%, coda_height: 0.093%, evdepth: 0.497%, evloc: 0.099%, evloc_big: 0.005%, evmb: 0.947%, evtime: 0.420%, indep_peak: 0.002%, peak_decay: 0.325%, peak_offset: 0.154%, , uatemplates: 0 , events: 1 "
       ]
      },
      {
       "output_type": "stream",
       "stream": "stdout",
       "text": [
        "\n",
        "saving debug dump to /home/dmoore/python/sigvisa/logs/mcmc/01627/step_004749..."
       ]
      },
      {
       "output_type": "stream",
       "stream": "stdout",
       "text": [
        "\n",
        "saved pickled graph"
       ]
      },
      {
       "output_type": "stream",
       "stream": "stdout",
       "text": [
        "\n",
        "step 4750: lp -376.06, accepted arrival_time: 0.040%, coda_decay: 0.069%, coda_height: 0.093%, evdepth: 0.498%, evloc: 0.098%, evloc_big: 0.005%, evmb: 0.948%, evtime: 0.420%, indep_peak: 0.002%, peak_decay: 0.325%, peak_offset: 0.154%, , uatemplates: 0 , events: 1 "
       ]
      },
      {
       "output_type": "stream",
       "stream": "stdout",
       "text": [
        "\n",
        "saving debug dump to /home/dmoore/python/sigvisa/logs/mcmc/01627/step_004759..."
       ]
      },
      {
       "output_type": "stream",
       "stream": "stdout",
       "text": [
        "\n",
        "saved pickled graph"
       ]
      },
      {
       "output_type": "stream",
       "stream": "stdout",
       "text": [
        "\n",
        "step 4760: lp -372.30, accepted arrival_time: 0.040%, coda_decay: 0.070%, coda_height: 0.093%, evdepth: 0.498%, evloc: 0.098%, evloc_big: 0.005%, evmb: 0.947%, evtime: 0.419%, indep_peak: 0.002%, peak_decay: 0.325%, peak_offset: 0.154%, , uatemplates: 0 , events: 1 "
       ]
      },
      {
       "output_type": "stream",
       "stream": "stdout",
       "text": [
        "\n",
        "saving debug dump to /home/dmoore/python/sigvisa/logs/mcmc/01627/step_004769..."
       ]
      },
      {
       "output_type": "stream",
       "stream": "stdout",
       "text": [
        "\n",
        "saved pickled graph"
       ]
      },
      {
       "output_type": "stream",
       "stream": "stdout",
       "text": [
        "\n",
        "step 4770: lp -375.01, accepted arrival_time: 0.040%, coda_decay: 0.070%, coda_height: 0.093%, evdepth: 0.498%, evloc: 0.098%, evloc_big: 0.005%, evmb: 0.948%, evtime: 0.419%, indep_peak: 0.002%, peak_decay: 0.325%, peak_offset: 0.154%, , uatemplates: 0 , events: 1 "
       ]
      },
      {
       "output_type": "stream",
       "stream": "stdout",
       "text": [
        "\n",
        "saving debug dump to /home/dmoore/python/sigvisa/logs/mcmc/01627/step_004779..."
       ]
      },
      {
       "output_type": "stream",
       "stream": "stdout",
       "text": [
        "\n",
        "saved pickled graph"
       ]
      },
      {
       "output_type": "stream",
       "stream": "stdout",
       "text": [
        "\n",
        "step 4780: lp -375.89, accepted arrival_time: 0.040%, coda_decay: 0.069%, coda_height: 0.093%, evdepth: 0.497%, evloc: 0.098%, evloc_big: 0.005%, evmb: 0.948%, evtime: 0.419%, indep_peak: 0.002%, peak_decay: 0.325%, peak_offset: 0.154%, , uatemplates: 0 , events: 1 "
       ]
      },
      {
       "output_type": "stream",
       "stream": "stdout",
       "text": [
        "\n",
        "saving debug dump to /home/dmoore/python/sigvisa/logs/mcmc/01627/step_004789..."
       ]
      },
      {
       "output_type": "stream",
       "stream": "stdout",
       "text": [
        "\n",
        "saved pickled graph"
       ]
      },
      {
       "output_type": "stream",
       "stream": "stdout",
       "text": [
        "\n",
        "step 4790: lp -384.23, accepted arrival_time: 0.040%, coda_decay: 0.069%, coda_height: 0.093%, evdepth: 0.497%, evloc: 0.098%, evloc_big: 0.005%, evmb: 0.948%, evtime: 0.419%, indep_peak: 0.002%, peak_decay: 0.324%, peak_offset: 0.154%, , uatemplates: 0 , events: 1 "
       ]
      },
      {
       "output_type": "stream",
       "stream": "stdout",
       "text": [
        "\n",
        "saving debug dump to /home/dmoore/python/sigvisa/logs/mcmc/01627/step_004799..."
       ]
      },
      {
       "output_type": "stream",
       "stream": "stdout",
       "text": [
        "\n",
        "saved pickled graph"
       ]
      },
      {
       "output_type": "stream",
       "stream": "stdout",
       "text": [
        "\n",
        "step 4800: lp -377.38, accepted arrival_time: 0.040%, coda_decay: 0.069%, coda_height: 0.093%, evdepth: 0.497%, evloc: 0.098%, evloc_big: 0.005%, evmb: 0.948%, evtime: 0.419%, indep_peak: 0.002%, peak_decay: 0.324%, peak_offset: 0.154%, , uatemplates: 0 , events: 1 "
       ]
      },
      {
       "output_type": "stream",
       "stream": "stdout",
       "text": [
        "\n",
        "saving debug dump to /home/dmoore/python/sigvisa/logs/mcmc/01627/step_004809..."
       ]
      },
      {
       "output_type": "stream",
       "stream": "stdout",
       "text": [
        "\n",
        "saved pickled graph"
       ]
      },
      {
       "output_type": "stream",
       "stream": "stdout",
       "text": [
        "\n",
        "step 4810: lp -379.39, accepted arrival_time: 0.040%, coda_decay: 0.069%, coda_height: 0.093%, evdepth: 0.497%, evloc: 0.098%, evloc_big: 0.005%, evmb: 0.947%, evtime: 0.419%, indep_peak: 0.002%, peak_decay: 0.325%, peak_offset: 0.154%, , uatemplates: 0 , events: 1 "
       ]
      },
      {
       "output_type": "stream",
       "stream": "stdout",
       "text": [
        "\n",
        "saving debug dump to /home/dmoore/python/sigvisa/logs/mcmc/01627/step_004819..."
       ]
      },
      {
       "output_type": "stream",
       "stream": "stdout",
       "text": [
        "\n",
        "saved pickled graph"
       ]
      },
      {
       "output_type": "stream",
       "stream": "stdout",
       "text": [
        "\n",
        "step 4820: lp -379.14, accepted arrival_time: 0.040%, coda_decay: 0.069%, coda_height: 0.093%, evdepth: 0.497%, evloc: 0.098%, evloc_big: 0.005%, evmb: 0.947%, evtime: 0.419%, indep_peak: 0.002%, peak_decay: 0.325%, peak_offset: 0.153%, , uatemplates: 0 , events: 1 "
       ]
      },
      {
       "output_type": "stream",
       "stream": "stdout",
       "text": [
        "\n",
        "saving debug dump to /home/dmoore/python/sigvisa/logs/mcmc/01627/step_004829..."
       ]
      },
      {
       "output_type": "stream",
       "stream": "stdout",
       "text": [
        "\n",
        "saved pickled graph"
       ]
      },
      {
       "output_type": "stream",
       "stream": "stdout",
       "text": [
        "\n",
        "step 4830: lp -379.26, accepted arrival_time: 0.040%, coda_decay: 0.069%, coda_height: 0.093%, evdepth: 0.497%, evloc: 0.098%, evloc_big: 0.005%, evmb: 0.947%, evtime: 0.419%, indep_peak: 0.002%, peak_decay: 0.324%, peak_offset: 0.154%, , uatemplates: 0 , events: 1 "
       ]
      },
      {
       "output_type": "stream",
       "stream": "stdout",
       "text": [
        "\n",
        "saving debug dump to /home/dmoore/python/sigvisa/logs/mcmc/01627/step_004839..."
       ]
      },
      {
       "output_type": "stream",
       "stream": "stdout",
       "text": [
        "\n",
        "saved pickled graph"
       ]
      },
      {
       "output_type": "stream",
       "stream": "stdout",
       "text": [
        "\n",
        "step 4840: lp -380.45, accepted arrival_time: 0.040%, coda_decay: 0.069%, coda_height: 0.093%, evdepth: 0.497%, evloc: 0.098%, evloc_big: 0.005%, evmb: 0.947%, evtime: 0.420%, indep_peak: 0.002%, peak_decay: 0.325%, peak_offset: 0.154%, , uatemplates: 0 , events: 1 "
       ]
      },
      {
       "output_type": "stream",
       "stream": "stdout",
       "text": [
        "\n",
        "saving debug dump to /home/dmoore/python/sigvisa/logs/mcmc/01627/step_004849..."
       ]
      },
      {
       "output_type": "stream",
       "stream": "stdout",
       "text": [
        "\n",
        "saved pickled graph"
       ]
      },
      {
       "output_type": "stream",
       "stream": "stdout",
       "text": [
        "\n",
        "step 4850: lp -385.10, accepted arrival_time: 0.040%, coda_decay: 0.069%, coda_height: 0.093%, evdepth: 0.497%, evloc: 0.098%, evloc_big: 0.005%, evmb: 0.947%, evtime: 0.420%, indep_peak: 0.002%, peak_decay: 0.325%, peak_offset: 0.154%, , uatemplates: 0 , events: 1 "
       ]
      },
      {
       "output_type": "stream",
       "stream": "stdout",
       "text": [
        "\n",
        "saving debug dump to /home/dmoore/python/sigvisa/logs/mcmc/01627/step_004859..."
       ]
      },
      {
       "output_type": "stream",
       "stream": "stdout",
       "text": [
        "\n",
        "saved pickled graph"
       ]
      },
      {
       "output_type": "stream",
       "stream": "stdout",
       "text": [
        "\n",
        "step 4860: lp -379.31, accepted arrival_time: 0.040%, coda_decay: 0.069%, coda_height: 0.093%, evdepth: 0.497%, evloc: 0.098%, evloc_big: 0.005%, evmb: 0.947%, evtime: 0.419%, indep_peak: 0.002%, peak_decay: 0.325%, peak_offset: 0.154%, , uatemplates: 0 , events: 1 "
       ]
      },
      {
       "output_type": "stream",
       "stream": "stdout",
       "text": [
        "\n",
        "saving debug dump to /home/dmoore/python/sigvisa/logs/mcmc/01627/step_004869..."
       ]
      },
      {
       "output_type": "stream",
       "stream": "stdout",
       "text": [
        "\n",
        "saved pickled graph"
       ]
      },
      {
       "output_type": "stream",
       "stream": "stdout",
       "text": [
        "\n",
        "step 4870: lp -380.02, accepted arrival_time: 0.040%, coda_decay: 0.069%, coda_height: 0.093%, evdepth: 0.497%, evloc: 0.098%, evloc_big: 0.006%, evmb: 0.946%, evtime: 0.420%, indep_peak: 0.002%, peak_decay: 0.325%, peak_offset: 0.154%, , uatemplates: 0 , events: 1 "
       ]
      },
      {
       "output_type": "stream",
       "stream": "stdout",
       "text": [
        "\n",
        "saving debug dump to /home/dmoore/python/sigvisa/logs/mcmc/01627/step_004879..."
       ]
      },
      {
       "output_type": "stream",
       "stream": "stdout",
       "text": [
        "\n",
        "saved pickled graph"
       ]
      },
      {
       "output_type": "stream",
       "stream": "stdout",
       "text": [
        "\n",
        "step 4880: lp -382.29, accepted arrival_time: 0.040%, coda_decay: 0.069%, coda_height: 0.093%, evdepth: 0.497%, evloc: 0.098%, evloc_big: 0.006%, evmb: 0.946%, evtime: 0.420%, indep_peak: 0.002%, peak_decay: 0.325%, peak_offset: 0.154%, , uatemplates: 0 , events: 1 "
       ]
      },
      {
       "output_type": "stream",
       "stream": "stdout",
       "text": [
        "\n",
        "saving debug dump to /home/dmoore/python/sigvisa/logs/mcmc/01627/step_004889..."
       ]
      },
      {
       "output_type": "stream",
       "stream": "stdout",
       "text": [
        "\n",
        "saved pickled graph"
       ]
      },
      {
       "output_type": "stream",
       "stream": "stdout",
       "text": [
        "\n",
        "step 4890: lp -382.41, accepted arrival_time: 0.040%, coda_decay: 0.069%, coda_height: 0.093%, evdepth: 0.498%, evloc: 0.099%, evloc_big: 0.006%, evmb: 0.946%, evtime: 0.420%, indep_peak: 0.002%, peak_decay: 0.325%, peak_offset: 0.154%, , uatemplates: 0 , events: 1 "
       ]
      },
      {
       "output_type": "stream",
       "stream": "stdout",
       "text": [
        "\n",
        "saving debug dump to /home/dmoore/python/sigvisa/logs/mcmc/01627/step_004899..."
       ]
      },
      {
       "output_type": "stream",
       "stream": "stdout",
       "text": [
        "\n",
        "saved pickled graph"
       ]
      },
      {
       "output_type": "stream",
       "stream": "stdout",
       "text": [
        "\n",
        "step 4900: lp -384.75, accepted arrival_time: 0.040%, coda_decay: 0.069%, coda_height: 0.093%, evdepth: 0.498%, evloc: 0.099%, evloc_big: 0.006%, evmb: 0.946%, evtime: 0.420%, indep_peak: 0.002%, peak_decay: 0.325%, peak_offset: 0.154%, , uatemplates: 0 , events: 1 "
       ]
      },
      {
       "output_type": "stream",
       "stream": "stdout",
       "text": [
        "\n",
        "saving debug dump to /home/dmoore/python/sigvisa/logs/mcmc/01627/step_004909..."
       ]
      },
      {
       "output_type": "stream",
       "stream": "stdout",
       "text": [
        "\n",
        "saved pickled graph"
       ]
      },
      {
       "output_type": "stream",
       "stream": "stdout",
       "text": [
        "\n",
        "step 4910: lp -383.53, accepted arrival_time: 0.040%, coda_decay: 0.069%, coda_height: 0.093%, evdepth: 0.498%, evloc: 0.099%, evloc_big: 0.006%, evmb: 0.946%, evtime: 0.420%, indep_peak: 0.002%, peak_decay: 0.326%, peak_offset: 0.154%, , uatemplates: 0 , events: 1 "
       ]
      },
      {
       "output_type": "stream",
       "stream": "stdout",
       "text": [
        "\n",
        "saving debug dump to /home/dmoore/python/sigvisa/logs/mcmc/01627/step_004919..."
       ]
      },
      {
       "output_type": "stream",
       "stream": "stdout",
       "text": [
        "\n",
        "saved pickled graph"
       ]
      },
      {
       "output_type": "stream",
       "stream": "stdout",
       "text": [
        "\n",
        "step 4920: lp -380.13, accepted arrival_time: 0.040%, coda_decay: 0.069%, coda_height: 0.093%, evdepth: 0.498%, evloc: 0.099%, evloc_big: 0.006%, evmb: 0.946%, evtime: 0.420%, indep_peak: 0.002%, peak_decay: 0.326%, peak_offset: 0.154%, , uatemplates: 0 , events: 1 "
       ]
      },
      {
       "output_type": "stream",
       "stream": "stdout",
       "text": [
        "\n",
        "saving debug dump to /home/dmoore/python/sigvisa/logs/mcmc/01627/step_004929..."
       ]
      },
      {
       "output_type": "stream",
       "stream": "stdout",
       "text": [
        "\n",
        "saved pickled graph"
       ]
      },
      {
       "output_type": "stream",
       "stream": "stdout",
       "text": [
        "\n",
        "step 4930: lp -379.62, accepted arrival_time: 0.040%, coda_decay: 0.069%, coda_height: 0.093%, evdepth: 0.499%, evloc: 0.099%, evloc_big: 0.006%, evmb: 0.946%, evtime: 0.420%, indep_peak: 0.002%, peak_decay: 0.325%, peak_offset: 0.154%, , uatemplates: 0 , events: 1 "
       ]
      },
      {
       "output_type": "stream",
       "stream": "stdout",
       "text": [
        "\n",
        "saving debug dump to /home/dmoore/python/sigvisa/logs/mcmc/01627/step_004939..."
       ]
      },
      {
       "output_type": "stream",
       "stream": "stdout",
       "text": [
        "\n",
        "saved pickled graph"
       ]
      },
      {
       "output_type": "stream",
       "stream": "stdout",
       "text": [
        "\n",
        "step 4940: lp -377.89, accepted arrival_time: 0.040%, coda_decay: 0.069%, coda_height: 0.093%, evdepth: 0.499%, evloc: 0.099%, evloc_big: 0.006%, evmb: 0.946%, evtime: 0.420%, indep_peak: 0.002%, peak_decay: 0.325%, peak_offset: 0.154%, , uatemplates: 0 , events: 1 "
       ]
      },
      {
       "output_type": "stream",
       "stream": "stdout",
       "text": [
        "\n",
        "saving debug dump to /home/dmoore/python/sigvisa/logs/mcmc/01627/step_004949..."
       ]
      },
      {
       "output_type": "stream",
       "stream": "stdout",
       "text": [
        "\n",
        "saved pickled graph"
       ]
      },
      {
       "output_type": "stream",
       "stream": "stdout",
       "text": [
        "\n",
        "step 4950: lp -381.84, accepted arrival_time: 0.040%, coda_decay: 0.070%, coda_height: 0.093%, evdepth: 0.499%, evloc: 0.099%, evloc_big: 0.006%, evmb: 0.946%, evtime: 0.421%, indep_peak: 0.002%, peak_decay: 0.325%, peak_offset: 0.154%, , uatemplates: 0 , events: 1 "
       ]
      },
      {
       "output_type": "stream",
       "stream": "stdout",
       "text": [
        "\n",
        "saving debug dump to /home/dmoore/python/sigvisa/logs/mcmc/01627/step_004959..."
       ]
      },
      {
       "output_type": "stream",
       "stream": "stdout",
       "text": [
        "\n",
        "saved pickled graph"
       ]
      },
      {
       "output_type": "stream",
       "stream": "stdout",
       "text": [
        "\n",
        "step 4960: lp -383.45, accepted arrival_time: 0.040%, coda_decay: 0.070%, coda_height: 0.093%, evdepth: 0.499%, evloc: 0.098%, evloc_big: 0.006%, evmb: 0.946%, evtime: 0.421%, indep_peak: 0.002%, peak_decay: 0.326%, peak_offset: 0.154%, , uatemplates: 0 , events: 1 "
       ]
      },
      {
       "output_type": "stream",
       "stream": "stdout",
       "text": [
        "\n",
        "saving debug dump to /home/dmoore/python/sigvisa/logs/mcmc/01627/step_004969..."
       ]
      },
      {
       "output_type": "stream",
       "stream": "stdout",
       "text": [
        "\n",
        "saved pickled graph"
       ]
      },
      {
       "output_type": "stream",
       "stream": "stdout",
       "text": [
        "\n",
        "step 4970: lp -384.07, accepted arrival_time: 0.040%, coda_decay: 0.069%, coda_height: 0.093%, evdepth: 0.499%, evloc: 0.099%, evloc_big: 0.006%, evmb: 0.946%, evtime: 0.421%, indep_peak: 0.002%, peak_decay: 0.326%, peak_offset: 0.154%, , uatemplates: 0 , events: 1 "
       ]
      },
      {
       "output_type": "stream",
       "stream": "stdout",
       "text": [
        "\n",
        "saving debug dump to /home/dmoore/python/sigvisa/logs/mcmc/01627/step_004979..."
       ]
      },
      {
       "output_type": "stream",
       "stream": "stdout",
       "text": [
        "\n",
        "saved pickled graph"
       ]
      },
      {
       "output_type": "stream",
       "stream": "stdout",
       "text": [
        "\n",
        "step 4980: lp -387.07, accepted arrival_time: 0.040%, coda_decay: 0.070%, coda_height: 0.093%, evdepth: 0.499%, evloc: 0.099%, evloc_big: 0.006%, evmb: 0.946%, evtime: 0.421%, indep_peak: 0.002%, peak_decay: 0.326%, peak_offset: 0.154%, , uatemplates: 0 , events: 1 "
       ]
      },
      {
       "output_type": "stream",
       "stream": "stdout",
       "text": [
        "\n",
        "saving debug dump to /home/dmoore/python/sigvisa/logs/mcmc/01627/step_004989..."
       ]
      },
      {
       "output_type": "stream",
       "stream": "stdout",
       "text": [
        "\n",
        "saved pickled graph"
       ]
      },
      {
       "output_type": "stream",
       "stream": "stdout",
       "text": [
        "\n",
        "step 4990: lp -378.51, accepted arrival_time: 0.040%, coda_decay: 0.070%, coda_height: 0.093%, evdepth: 0.499%, evloc: 0.099%, evloc_big: 0.006%, evmb: 0.946%, evtime: 0.421%, indep_peak: 0.002%, peak_decay: 0.326%, peak_offset: 0.154%, , uatemplates: 0 , events: 1 "
       ]
      },
      {
       "output_type": "stream",
       "stream": "stdout",
       "text": [
        "\n",
        "saving debug dump to /home/dmoore/python/sigvisa/logs/mcmc/01627/step_004999..."
       ]
      },
      {
       "output_type": "stream",
       "stream": "stdout",
       "text": [
        "\n",
        "saved pickled graph"
       ]
      },
      {
       "output_type": "stream",
       "stream": "stdout",
       "text": [
        "\n"
       ]
      }
     ],
     "prompt_number": 29
    },
    {
     "cell_type": "code",
     "collapsed": false,
     "input": [
      "print gpcov.tree_params()"
     ],
     "language": "python",
     "metadata": {},
     "outputs": [
      {
       "output_type": "stream",
       "stream": "stdout",
       "text": [
        "('lld', array([ 40.,   5.]), 'compact2', array([ 0.7]))\n"
       ]
      }
     ],
     "prompt_number": 4
    },
    {
     "cell_type": "code",
     "collapsed": false,
     "input": [
      "\"\"\"\n",
      "Now let's try to locate the doublet.\n",
      "First we could imagine a pure-template model with no repeatable wiggles. (but we do need to account for wiggle variance.)\n",
      "How to create my own models?\n",
      "It's easy to train GPs for each coef and param at each station.\n",
      "Can I force the model to use them?\n",
      "  - I think I'd need to overwrite \"get_param_model_id\" in SigvisaGraph. My non-DB models could have negative ids.\n",
      "  - but then I also need to replace or augment load_modelid from train_param_common. \n",
      "  \n",
      "Alternately I could write these to the DB in some way that they *do* have modelids, but would never be loaded by a naive SQL search. \n",
      "\"\"\"\n",
      "from sigvisa.models.spatial_regression.SparseGP import SparseGP\n",
      "\n",
      "trainX = X[:n_evs, :].copy()\n",
      "train_gps = dict()\n",
      "models = []\n",
      "modelid = 0\n",
      "for sta in stas:\n",
      "    train_gps[sta] = dict()\n",
      "    for param in tm_params[sta].keys():\n",
      "        y = tm_params[sta][param][:n_evs]\n",
      "        mean = param_means[sta][param]\n",
      "        gp = SparseGP(trainX, y, noise_var=param_noise_var, cov_main=gpcov, ymean=mean, sta=sta)        \n",
      "        train_gps[sta][param] = -modelid\n",
      "        models.append(gp)\n",
      "        modelid += 1\n",
      "        \n",
      "    for i in range(true_coefs[sta].shape[1]):\n",
      "        y = true_coefs[sta][:n_evs, i]\n",
      "        gp = SparseGP(trainX, y, noise_var=coef_noise_var, cov_main=gpcov, sta=sta)\n",
      "        train_gps[sta][i] = -modelid\n",
      "        models.append(gp)\n",
      "        modelid += 1\n",
      "#print \n",
      "#print true_coefs[sta]\n",
      "#print tm_params[sta]"
     ],
     "language": "python",
     "metadata": {},
     "outputs": [
      {
       "output_type": "stream",
       "stream": "stdout",
       "text": [
        "\n"
       ]
      }
     ],
     "prompt_number": 31
    },
    {
     "cell_type": "code",
     "collapsed": false,
     "input": [
      "def get_param_model_id_shim(runids, sta, phase, model_type, param, template_shape, chan=None, band=None):\n",
      "    if param.startswith(\"db4\"):\n",
      "        param_num = int(param.split(\"_\")[-1])\n",
      "        return train_gps[sta][param_num]\n",
      "    return train_gps[sta][param]\n",
      "    \n",
      "def load_modelid_shim(modelid, **kwargs):\n",
      "    return models[-modelid]"
     ],
     "language": "python",
     "metadata": {},
     "outputs": [],
     "prompt_number": 32
    },
    {
     "cell_type": "code",
     "collapsed": false,
     "input": [
      "print models[-train_gps[\"CM16\"]['amp_transfer']].predict(ev_doublet)\n",
      "print models[-train_gps[\"CM16\"]['amp_transfer']].variance(ev_doublet)\n",
      "print tm_params[\"CM16\"]['amp_transfer'][n_evs]"
     ],
     "language": "python",
     "metadata": {},
     "outputs": [
      {
       "output_type": "stream",
       "stream": "stdout",
       "text": [
        "3.37329633641\n",
        "[ 0.11335767]\n",
        "3.30737002596\n"
       ]
      }
     ],
     "prompt_number": 33
    },
    {
     "cell_type": "code",
     "collapsed": false,
     "input": [
      "def visualize(wn, variance=False):\n",
      "    wn._parent_values()\n",
      "    N=1000\n",
      "    plt.figure(figsize=(10,5))\n",
      "    v = wn.get_value()\n",
      "    plot(v.data[:N], color=\"black\", lw=1)\n",
      "    #for i in range(5):\n",
      "        #wn.parent_sample()\n",
      "    #    plot(wn.get_value().data)\n",
      "    mobs=wn.tssm.mean_obs(1000)\n",
      "    vobs=wn.tssm.obs_var(1000)\n",
      "    plot(mobs, c=\"green\", lw=2, label=\"predicted\")\n",
      "    if variance:\n",
      "        plot(mobs+2*np.sqrt(vobs), c=\"red\", label=\"2 stddev\")\n",
      "        plot(mobs-2*np.sqrt(vobs), c=\"red\")\n",
      "    print wn.log_p()\n",
      "    legend()"
     ],
     "language": "python",
     "metadata": {},
     "outputs": [],
     "prompt_number": 5
    },
    {
     "cell_type": "code",
     "collapsed": false,
     "input": [],
     "language": "python",
     "metadata": {},
     "outputs": [],
     "prompt_number": 41
    },
    {
     "cell_type": "code",
     "collapsed": false,
     "input": [],
     "language": "python",
     "metadata": {},
     "outputs": [],
     "prompt_number": 45
    },
    {
     "cell_type": "code",
     "collapsed": false,
     "input": [
      "inferred_ev = sg.get_event(1)\n",
      "print inferred_ev\n",
      "print sw.ev_doublet\n",
      "#print ev_doublet_base\n",
      "#print ev_doublet_init\n",
      "\n",
      "for wn in wns.values():\n",
      "    visualize(wn)"
     ],
     "language": "python",
     "metadata": {},
     "outputs": [
      {
       "output_type": "stream",
       "stream": "stdout",
       "text": [
        "evid None, loc 129.51 E 4.08 S, depth 5.3km, time 1240246022.9, mb 4.5, natural source\n",
        "evid None, loc 129.42 E 4.13 S, depth 0.0km, time 1240246022.5, mb 4.4, natural source\n",
        "386.355294474"
       ]
      },
      {
       "output_type": "stream",
       "stream": "stdout",
       "text": [
        "\n",
        "853.686774057"
       ]
      },
      {
       "output_type": "stream",
       "stream": "stdout",
       "text": [
        "\n",
        "-356.376271492"
       ]
      },
      {
       "output_type": "stream",
       "stream": "stdout",
       "text": [
        "\n",
        "1119.90700343"
       ]
      },
      {
       "output_type": "stream",
       "stream": "stdout",
       "text": [
        "\n",
        "-2528.80808815"
       ]
      },
      {
       "output_type": "stream",
       "stream": "stdout",
       "text": [
        "\n"
       ]
      },
      {
       "metadata": {},
       "output_type": "display_data",
       "png": "[encoded data removed]",
       "text": [
        "<matplotlib.figure.Figure at 0x6af0890>"
       ]
      },
      {
       "metadata": {},
       "output_type": "display_data",
       "png": "[encoded data removed]",
       "text": [
        "<matplotlib.figure.Figure at 0x5cd5310>"
       ]
      },
      {
       "metadata": {},
       "output_type": "display_data",
       "png": "[encoded data removed]",
       "text": [
        "<matplotlib.figure.Figure at 0x691cf50>"
       ]
      },
      {
       "metadata": {},
       "output_type": "display_data",
       "png": "[encoded data removed]",
       "text": [
        "<matplotlib.figure.Figure at 0x6ae3a10>"
       ]
      },
      {
       "metadata": {},
       "output_type": "display_data",
       "png": "[encoded data removed]",
       "text": [
        "<matplotlib.figure.Figure at 0x6a7e8d0>"
       ]
      }
     ],
     "prompt_number": 8
    },
    {
     "cell_type": "code",
     "collapsed": false,
     "input": [],
     "language": "python",
     "metadata": {},
     "outputs": []
    }
   ],
   "metadata": {}
  }
 ]
}