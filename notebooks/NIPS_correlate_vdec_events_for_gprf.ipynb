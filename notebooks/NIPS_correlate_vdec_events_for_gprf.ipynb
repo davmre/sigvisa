{
 "cells": [
  {
   "cell_type": "code",
   "execution_count": 48,
   "metadata": {
    "collapsed": false,
    "scrolled": true
   },
   "outputs": [],
   "source": [
    "from sigvisa.treegp.bcm.multi_shared_bcm import MultiSharedBCM, Blocker, sample_synthetic\n",
    "from sigvisa.utils.geog import dist_km\n"
   ]
  },
  {
   "cell_type": "code",
   "execution_count": 8,
   "metadata": {
    "collapsed": true
   },
   "outputs": [],
   "source": [
    "def xcorr_valid(a,b):\n",
    "    a = (a - np.mean(a)) / (np.std(a) * np.sqrt(len(a)))\n",
    "    b = (b - np.mean(b)) / (np.std(b) * np.sqrt(len(a)))\n",
    "\n",
    "    xc = my_xc(a, b)\n",
    "    xcmax = np.max(xc)\n",
    "    offset = np.argmax(xc)\n",
    "    return xcmax, offset, xc\n",
    "\n",
    "import scipy.weave as weave\n",
    "from scipy.weave import converters\n",
    "def my_xc(a, b):\n",
    "    # assume len(a) < len(b)\n",
    "    n = len(b) - len(a)+1\n",
    "    m = len(a)\n",
    "    r = np.zeros((n,))\n",
    "    a_normed = a / np.linalg.norm(a)\n",
    "    code=\"\"\"\n",
    "for(int i=0; i < n; ++i) {\n",
    "    double b_norm = 0;\n",
    "    double cc = 0;\n",
    "    for (int j=0; j < m; ++j) {\n",
    "        cc += a_normed(j)*b(i+j);\n",
    "        b_norm += b(i+j)*b(i+j);\n",
    "    }\n",
    "    cc /= sqrt(b_norm);\n",
    "    r(i) = cc;\n",
    "}\n",
    "\"\"\"\n",
    "    weave.inline(code,['n', 'm', 'a_normed', 'b', 'r',],type_converters = converters.blitz,verbose=2,compiler='gcc')\n",
    "    \"\"\"\n",
    "    for i in range(n):\n",
    "        window = b[i:i+len(a)]\n",
    "        w_normed = window / np.linalg.norm(window)\n",
    "        r[i] = np.dot(a_normed, w_normed)\n",
    "    \"\"\"\n",
    "    return r\n",
    "\n",
    "\n"
   ]
  },
  {
   "cell_type": "code",
   "execution_count": 5,
   "metadata": {
    "collapsed": false
   },
   "outputs": [
    {
     "name": "stdout",
     "output_type": "stream",
     "text": [
      "loaded 1\n",
      "loaded 2\n",
      "loaded 3\n",
      "loaded 4\n",
      "loaded 5\n",
      "loaded 6\n",
      "loaded 7\n",
      "loaded 8\n",
      "loaded 9\n",
      "loaded 10\n",
      "loaded 11\n",
      "loaded 12\n",
      "loaded 13\n",
      "loaded 14\n",
      "loaded 15\n",
      "loaded 16\n",
      "loaded 17\n",
      "loaded 18\n",
      "loaded 19\n",
      "loaded 20\n",
      "loaded final\n"
     ]
    }
   ],
   "source": [
    "import cPickle as pickle\n",
    "\n",
    "def load_events(sta=\"mkar\"):\n",
    "    s = []\n",
    "    for i in range(1, 100):\n",
    "        try:\n",
    "            with open(\"/home/dmoore/p_waves/%s_stuff_%d\" % (sta, i * 1000), 'rb') as f:\n",
    "                ss = pickle.load(f)\n",
    "                s += ss\n",
    "            print \"loaded\", i\n",
    "        except IOError:\n",
    "            with open(\"/home/dmoore/p_waves/%s_stuff_final\" % (sta,), 'rb') as f:\n",
    "                ss = pickle.load(f)\n",
    "                s += ss\n",
    "            print \"loaded final\"\n",
    "            break\n",
    "            \n",
    "    return s\n",
    "        \n",
    "s = load_events()"
   ]
  },
  {
   "cell_type": "code",
   "execution_count": 13,
   "metadata": {
    "collapsed": false
   },
   "outputs": [
    {
     "name": "stdout",
     "output_type": "stream",
     "text": [
      "<type 'numpy.ndarray'>\n"
     ]
    }
   ],
   "source": [
    "print type(s[0][1][0])"
   ]
  },
  {
   "cell_type": "code",
   "execution_count": 53,
   "metadata": {
    "collapsed": false
   },
   "outputs": [
    {
     "name": "stdout",
     "output_type": "stream",
     "text": [
      "evid 4849673.0, loc 137.82 E 34.80 N, depth 284.8km, time 1217930277.6, mb 3.9, natural source\n"
     ]
    }
   ],
   "source": [
    "print s[0][0]"
   ]
  },
  {
   "cell_type": "code",
   "execution_count": 52,
   "metadata": {
    "collapsed": false
   },
   "outputs": [],
   "source": [
    "\n",
    "def align():\n",
    "\n",
    "n = 1000\n",
    "\n",
    "window_start_idx = 20 # 2s before IDC arrival\n",
    "window_end_idx = 260 # 8s after IDC arrival (so, 10s window)\n",
    "\n",
    "xcmax1 = np.zeros((n, n))\n",
    "xcmax2 = np.zeros((n, n))\n",
    "xcmax = np.zeros((n, n))\n",
    "\n",
    "offset1 = np.zeros((n, n))\n",
    "offset2 = np.zeros((n, n))\n",
    "\n",
    "t = np.linspace(-3.0, 10.0, 261)\n",
    "prior = -t/3.0\n",
    "\n",
    "distances = np.zeros((n, n))\n",
    "\n",
    "for i, (ev1, (w1, srate1)) in enumerate(s[:n]):\n",
    "    patch1 = w1[window_start_idx:window_end_idx]\n",
    "    for j, (ev2, (w2, srate2)) in enumerate(s[:i]):\n",
    "        patch2 = w2[window_start_idx:window_end_idx]        \n",
    "        \n",
    "        xc1 = my_xc(patch1, w2)\n",
    "        xc2 = my_xc(patch2, w1)\n",
    "        \n",
    "        align1 = np.argmax(xc1 + prior)\n",
    "        align2 = np.argmax(xc2 + prior)\n",
    "        \n",
    "        offset1[i,j] = align1\n",
    "        offset2[i,j] = align2\n",
    "        \n",
    "        xcmax1[i,j] = xc1[align1]\n",
    "        xcmax2[i,j] = xc2[align2]\n",
    "        xcmax1[j,i] = xc1[align1]\n",
    "        xcmax2[j,i] = xc2[align2]\n",
    "        xcmax[i,j] = max(xcmax1[i,j], xcmax2[i,j])\n",
    "        xcmax[j,i] = max(xcmax1[j,i], xcmax2[j,i])\n",
    "        \n",
    "        ll_dist = dist_km((ev1.lon, ev1.lat), (ev2.lon, ev2.lat))\n",
    "        depth_dist = np.abs(ev1.depth-ev2.depth)\n",
    "        dist = np.sqrt(ll_dist**2 + depth_dist**2)\n",
    "        distances[i,j] = dist\n",
    "        distances[j,i] = dist\n",
    "        \n",
    "def vis_correlation(i, j):\n",
    "    w1 = s[i][1][0]\n",
    "    w2 = s[j][1][0]\n",
    "    w2d = w2/np.std(w2)\n",
    "    \n",
    "    patch1 = w1[window_start_idx:window_end_idx]\n",
    "    patch2 = w2[window_start_idx:window_end_idx]   \n",
    "    \n",
    "    f = figure(figsize=(10, 5))\n",
    "    ax = f.add_subplot(211)\n",
    "    m1 = int(offset1[i,j])\n",
    "    m2 = int(offset2[i,j])\n",
    "    \n",
    "    idxs = np.arange(max(0, m1-50), m1+len(patch1)+50)\n",
    "    ax.plot(idxs, w2d[idxs])\n",
    "    \n",
    "    x1 = np.arange(m1, m1+len(patch1))\n",
    "    ax.plot(x1, patch1/np.std(patch1))\n",
    "    ax.set_title(\"%.3f %.3f\" % (xcmax1[i,j], xcmax2[i,j]))\n",
    "    \n",
    "    ax = f.add_subplot(212)\n",
    "    idxs = np.arange(max(0, m2-50), m2+len(patch2)+50)\n",
    "    print np.max(idxs), m2+len(patch2)\n",
    "    ax.plot(idxs, w2d[idxs])\n",
    "    \n",
    "    x2 = np.arange(m2, m2+len(patch2))\n",
    "    print np.min(x1), np.max(x2)\n",
    "    ax.plot(x2, patch2/np.std(patch2))\n",
    "    \n"
   ]
  },
  {
   "cell_type": "code",
   "execution_count": 111,
   "metadata": {
    "collapsed": false
   },
   "outputs": [
    {
     "name": "stdout",
     "output_type": "stream",
     "text": [
      "137.6712 34.7871 0.07 0.896 1 81.3 0.11\n",
      "133.36 -0.6808 56.0 20.4 82 0.0 1.0\n",
      "141.9344 36.2103 0.548 0.953 69 10.6 0.56\n",
      "93.0912 13.7036 0.63 0.603 61 68.5 1.5\n",
      "100.8629 33.1645 0.428 0.594 89 10.1 1.505\n",
      "130.365 -4.2732 6.5 27.9 75 0.0 1.0\n",
      "142.3061 36.1257 0.92 0.652 9 20.8 9.5\n",
      "127.4561 3.661 54.6 24.3 65 0.0 1.0\n",
      "126.8675 -2.9692 0.588 0.101 36 42.1 0.53\n",
      "142.6511 32.8175 1.65 0.487 48 15.5 3.0\n"
     ]
    }
   ],
   "source": [
    "from datetime import datetime\n",
    "import requests\n",
    "import os\n",
    "\n",
    "class CouldNotScrapeException(Exception):\n",
    "    pass\n",
    "\n",
    "def extract_ev(page):\n",
    "    if \"No events were found\" in page:\n",
    "        raise CouldNotScrapeException()\n",
    "\n",
    "    try:\n",
    "        idx1 = page.index(\"<pre>\")+6\n",
    "        idx2 = page.index(\"STOP\")\n",
    "        csvpage = page[idx1:idx2]\n",
    "        lines = csvpage.split(\"\\n\")\n",
    "        \n",
    "\n",
    "        prime_hcenter = -1\n",
    "        hcenters = []\n",
    "        for line in lines:\n",
    "            if \"PRIME\" in line:\n",
    "                break\n",
    "            if not line.startswith(\"20\"): continue\n",
    "            lat = float(line[37:44])\n",
    "            lon = float(line[46:54])\n",
    "            try:\n",
    "                smaj = float(line[56:60])\n",
    "                smin = float(line[62:66])\n",
    "                strike = int(line[68:70])\n",
    "            except:\n",
    "                smaj = 10.0\n",
    "                smin = 10.0\n",
    "                strike = 0\n",
    "            depth = float(line[72:76])\n",
    "            try:\n",
    "                depth_err = float(line[79:82])\n",
    "            except:\n",
    "                depth_err = 0.05*depth + 1.0\n",
    "                \n",
    "            hcenters.append((lon, lat, smaj, smin, strike, depth, depth_err))\n",
    "        if len(hcenters)==0:\n",
    "            raise CouldNotScrapeException()\n",
    "        else:\n",
    "            return hcenters[prime_hcenter]\n",
    "    except Exception as e:\n",
    "        print e\n",
    "        raise CouldNotScrapeException()\n",
    "\n",
    "def scrape_isc(ev):\n",
    "    lon = ev.lon\n",
    "    lat = ev.lat\n",
    "    \n",
    "    sdt =  datetime.utcfromtimestamp(ev.time - 120)\n",
    "    edt = datetime.utcfromtimestamp(ev.time + 120)\n",
    "    \n",
    "    stime = \"%02d:%02d:%02d\" % (sdt.hour, sdt.minute, sdt.second)\n",
    "    etime = \"%02d:%02d:%02d\" % (edt.hour, edt.minute, edt.second)\n",
    "\n",
    "    url = \"http://isc-mirror.iris.washington.edu/cgi-bin/web-db-v4?out_format=ISF&request=COMPREHENSIVE&searchshape=CIRC&ctr_lat=%.2f&ctr_lon=%.2f&radius=80&max_dist_units=km&start_year=%d&start_month=%d&start_day=%d&start_time=%s&end_year=%d&end_month=%d&end_day=%d&end_time=%s&req_mag_agcy=Any\" % (lat, lon, sdt.year, sdt.month, sdt.day, stime, edt.year, edt.month, edt.day, etime)\n",
    "\n",
    "    \n",
    "    #url = \"http://isc-mirror.iris.washington.edu/cgi-bin/web-db-v4?request=COMPREHENSIVE&out_format=CATCSV&bot_lat=&top_lat=&left_lon=&right_lon=&searchshape=CIRC&ctr_lat=%.2f+&ctr_lon=%.2f&radius=40&max_dist_units=km&srn=&grn=&start_year=%d&start_month=%d&start_day=%d&start_time=%s&end_year=%d&end_month=%d&end_day=%d&end_time=%s&min_dep=&max_dep=&min_mag=&max_mag=&req_mag_type=Any&req_mag_agcy=Any&include_links=off\" \n",
    "    r = requests.get(url)\n",
    "    \n",
    "    page = r.content\n",
    "    with open(os.path.join(\"scraped_events\", \"%d.txt\" % ev.evid), 'w') as f:\n",
    "        f.write(url+\"\\n\")\n",
    "        f.write(page)\n",
    "    \n",
    "    lon, lat, smaj, smin, strike, depth, depth_err = extract_ev(page)\n",
    "\n",
    "    \n",
    "    return lon, lat, smaj, smin, strike, depth, depth_err\n",
    "    \n",
    "    \n",
    "from sigvisa.treegp.util import mkdir_p \n",
    "mkdir_p(\"scraped_events\")\n",
    "for i, (ev, (w, srate1)) in enumerate(s[:10]):\n",
    "    lon, lat, smaj, smin, strike, depth, depth_err = scrape_isc(ev)\n",
    "    print lon, lat, smaj, smin, strike, depth, depth_err \n"
   ]
  },
  {
   "cell_type": "code",
   "execution_count": 91,
   "metadata": {
    "collapsed": false
   },
   "outputs": [
    {
     "name": "stdout",
     "output_type": "stream",
     "text": [
      "\n",
      "<html>\n",
      "<head>\n",
      "<meta http-equiv=\"content-type\" content=\"text/html; charset=utf-8\">\n",
      "<link rel=stylesheet type=text/css href=\"/css/searchstyle.css\">\n",
      "\n",
      "</head>\n",
      "\n",
      "<body text=\"#000000\" bgcolor=\"#FFFFFF\" >\n",
      "\n",
      "<center>\n",
      "<div class=\"header\">\n",
      "  <h1>\n",
      "    International Seismological Centre<br>\n",
      "    On-Line Bulletin\n",
      "  </h1>\n",
      "</div>\n",
      "</center>\n",
      "\n",
      "<p>Please consider the <a href=http://isc-mirror.iris.washington.edu>ISC mirror server</a> hosted at IRIS DMC as it may be faster.</p>\n",
      "\n",
      "<p>Any use of data from the ISC Bulletin <b>should be cited</b>.  The correct format for citations may be found on our <a href=\"/citations/\">citation page</a>.</p>\n",
      "\n",
      "\n",
      "<p>Once the search has completed, a compressed <a href=\"/temp/kml/1163630.kmz\">KML file</a> will be available to view the results in <a STYLE=\"text-decoration:none\" href=\"http://earth.google.com/\">Google Earth</a>.</p><p><a href=\"/cgi-bin/makegmtmap?userid=684292&region=132.36/134.36/-1.68/0.32\" target=\"map\">Make an event map</a></p>\n",
      "<table><tr><td><b>Search summary:</b></td><tr><td>Database: ISC Bulletin</td></tr><tr><td>Search type: Circular search</td></tr><tr><td>Central latitude: -0.68</td></tr><tr><td>Central longtitude: 133.36</td></tr><tr><td>Radius: 80 km</td></tr><tr><td>Start date: 2009-01-06 07:57:16</td></tr><tr><td>End date: 2009-01-06 08:01:16</td></tr><tr><td>Events found: 1</td></tr></table><pre>\n",
      "DATA_TYPE EVENT IMS1.0\n",
      "ISC Bulletin\n",
      "2009/01/06 07:59:16.41   1.20 0.440  -0.6808  133.3600  56.0  20.4  82   0.0f         6      142  18.90  86.24     uk IDC       11163542\n",
      "\n",
      "\n",
      "STOP\n",
      "<br>Please consider the <a href=http://isc-mirror.iris.washington.edu>ISC mirror server</a> hosted at IRIS DMC as it may be faster.<br><br>International Seismological Centre<br>Pipers Lane, Thatcham, Berkshire<br>United Kingdom RG19 4NS<br>+44 (0)1635 861022, voice; +44 (0)1635 872351, fax<br>admin<img src=\"/images/staff/at.jpg\" height=\"13\"></img>isc.ac.uk, e-mail<br><br></pre>\n",
      "</body>\n",
      "</html>\n",
      "\n"
     ]
    }
   ],
   "source": [
    "print rr"
   ]
  },
  {
   "cell_type": "code",
   "execution_count": 104,
   "metadata": {
    "collapsed": false
   },
   "outputs": [
    {
     "name": "stdout",
     "output_type": "stream",
     "text": [
      "DATA_TYPE EVENT IMS1.0\n",
      "ISC Bulletin\n",
      "2009/01/06 07:59:16.41   1.20 0.440  -0.6808  133.3600  56.0  20.4  82   0.0f         6      142  18.90  86.24     uk IDC       11163542\n",
      "\n",
      "\n",
      "\n",
      "133.36 -0.6808 56.0 20.4 0.0\n",
      "  \n",
      "133.36 -0.6808 56.0 20.4 82 0.0 1.0\n"
     ]
    }
   ],
   "source": []
  },
  {
   "cell_type": "code",
   "execution_count": null,
   "metadata": {
    "collapsed": false
   },
   "outputs": [],
   "source": []
  },
  {
   "cell_type": "code",
   "execution_count": 8,
   "metadata": {
    "collapsed": false
   },
   "outputs": [
    {
     "data": {
      "text/plain": [
       "(-5, 10)"
      ]
     },
     "execution_count": 8,
     "metadata": {},
     "output_type": "execute_result"
    },
    {
     "data": {
      "image/png": "[encoded data removed]",
      "text/plain": [
       "<matplotlib.figure.Figure at 0x3aa6e50>"
      ]
     },
     "metadata": {},
     "output_type": "display_data"
    }
   ],
   "source": [
    "plot(Y[:, 0:1])\n",
    "plt.ylim([-5, 10])"
   ]
  },
  {
   "cell_type": "code",
   "execution_count": 23,
   "metadata": {
    "collapsed": false
   },
   "outputs": [
    {
     "data": {
      "text/plain": [
       "[<matplotlib.lines.Line2D at 0x1c214990>]"
      ]
     },
     "execution_count": 23,
     "metadata": {},
     "output_type": "execute_result"
    },
    {
     "data": {
      "image/png": "[encoded data removed]",
      "text/plain": [
       "<matplotlib.figure.Figure at 0x218e9e50>"
      ]
     },
     "metadata": {},
     "output_type": "display_data"
    }
   ],
   "source": [
    "a_old = \"\"\"200 0.177\n",
    "400 0.436\n",
    "600 0.845\n",
    "800 1.365\n",
    "1000 2.110\n",
    "1200 2.995\n",
    "1400 4.301\n",
    "1600 5.655\n",
    "1800 7.340\n",
    "2000 9.373\n",
    "2200 11.206\n",
    "2400 13.273\n",
    "2600 16.172\n",
    "2800 20.010\n",
    "3000 23.282\n",
    "3200 27.882\n",
    "3400 32.132\n",
    "3600 37.140\n",
    "3800 43.750\"\"\"\n",
    "\n",
    "a = \"\"\"200 0.041\n",
    "400 0.133\n",
    "600 0.313\n",
    "800 0.539\n",
    "1000 0.933\n",
    "1200 1.432\n",
    "1400 2.078\n",
    "1600 2.932\n",
    "1800 3.993\"\"\"\n",
    "\n",
    "lines = a.split(\"\\n\")\n",
    "ns = []\n",
    "ts = []\n",
    "for line in lines:\n",
    "    n, t = line.split(\" \")\n",
    "    ns.append(int(n))\n",
    "    ts.append(float(t))\n",
    "    \n",
    "    \n",
    "plot(ns, ts)\n",
    "\n",
    "r = np.polyfit(ns, ts, 3)\n",
    "xs = np.linspace(500, 10000)\n",
    "ys = np.polyval(r, xs)\n",
    "plot(xs, ys)\n"
   ]
  },
  {
   "cell_type": "code",
   "execution_count": null,
   "metadata": {
    "collapsed": true
   },
   "outputs": [],
   "source": []
  }
 ],
 "metadata": {
  "kernelspec": {
   "display_name": "Python 2",
   "language": "python",
   "name": "python2"
  },
  "language_info": {
   "codemirror_mode": {
    "name": "ipython",
    "version": 2
   },
   "file_extension": ".py",
   "mimetype": "text/x-python",
   "name": "python",
   "nbconvert_exporter": "python",
   "pygments_lexer": "ipython2",
   "version": "2.7.3"
  }
 },
 "nbformat": 4,
 "nbformat_minor": 0
}
