{
 "cells": [
  {
   "cell_type": "code",
   "execution_count": 1,
   "metadata": {
    "collapsed": true
   },
   "outputs": [],
   "source": [
    "from sigvisa.graph.sigvisa_graph import SigvisaGraph\n",
    "from sigvisa.source.event import Event\n",
    "from sigvisa.signals.common import Waveform\n",
    "from sigvisa.utils.geog import dist_km\n",
    "from sigvisa.models.ttime import tt_predict\n",
    "from sigvisa.treegp.gp import GP, GPCov"
   ]
  },
  {
   "cell_type": "code",
   "execution_count": 2,
   "metadata": {
    "collapsed": false
   },
   "outputs": [
    {
     "data": {
      "text/plain": [
       "Signal node w/ model wave wave pts 2000 @ 20 Hz. time: Mon, 06 Apr 2009 07:46:40 (1239004000.0). \n",
       "sta: AS12, chan SHZ. band: freq_0.8_4.5, filter_str: , fraction_valid: 1, npts: 2000, srate: 20.0, valid_len: 100.0"
      ]
     },
     "execution_count": 2,
     "metadata": {},
     "output_type": "execute_result"
    }
   ],
   "source": [
    "tm_type_str=\"tt_residual:gp_joint,peak_offset:param_linear_mb,amp_transfer:param_sin1,coda_decay:param_linear_distmb,peak_decay:param_linear_distmb\"\n",
    "tm_types = {}\n",
    "for p in tm_type_str.split(','):\n",
    "    (param, model_type) = p.strip().split(':')\n",
    "    tm_types[param] = model_type\n",
    "\n",
    "gpc = 0.5, GPCov(wfn_str=\"se\", wfn_params=np.array((1.0,)), dfn_str=\"lld\", dfn_params=np.array((100.0, 10.0)))\n",
    "jgpp = {'tt_residual': gpc}\n",
    "    \n",
    "sg = SigvisaGraph(template_model_type=tm_types, template_shape=\"lin_polyexp\",\n",
    "                      wiggle_model_type=\"dummy\", wiggle_family=\"iid\",\n",
    "                      phases=['P'], nm_type = \"ar\", jointgp_prior=jgpp, runids=(28,))\n",
    "\n",
    "wave1 = Waveform(data=np.zeros((2000),), srate=20.0, stime=1239000000.0, band=\"freq_0.8_4.5\", chan=\"SHZ\", sta=\"AS12\")\n",
    "wave2 = Waveform(data=np.zeros((2000),), srate=20.0, stime=1239004000.0, band=\"freq_0.8_4.5\", chan=\"SHZ\", sta=\"AS12\")\n",
    "\n",
    "sg.add_wave(wave1)\n",
    "sg.add_wave(wave2)"
   ]
  },
  {
   "cell_type": "code",
   "execution_count": 3,
   "metadata": {
    "collapsed": false
   },
   "outputs": [
    {
     "data": {
      "text/plain": [
       "{'depth': <NODE 2;loc>,\n",
       " 'lat': <NODE 2;loc>,\n",
       " 'loc': <NODE 2;loc>,\n",
       " 'lon': <NODE 2;loc>,\n",
       " 'mb': <NODE 2;mb>,\n",
       " 'natural_source': <NODE 2;source>,\n",
       " 'time': <NODE 2;time>}"
      ]
     },
     "execution_count": 3,
     "metadata": {},
     "output_type": "execute_result"
    }
   ],
   "source": [
    "ev1 = Event(lon=135.0, lat=-22.0, time=1239000000.0, mb=4.5, depth=0.0)\n",
    "ev2 = Event(lon=135.0, lat=-22.0, time=1239004000.0, mb=4.5, depth=0.0)\n",
    "\n",
    "sg.add_event(ev1)\n",
    "sg.add_event(ev2)"
   ]
  },
  {
   "cell_type": "code",
   "execution_count": 4,
   "metadata": {
    "collapsed": false
   },
   "outputs": [
    {
     "name": "stdout",
     "output_type": "stream",
     "text": [
      "-18006.1554729\n",
      "n_uatemplate: -0.2\n",
      "n_event: -21.1\n",
      "ev priors: ev -36.3\n",
      "ev observations: ev 0.0\n",
      "tt_residual: ev 0.0\n",
      "ev global cost (n + priors + tt): -57.3\n",
      "coda_decay: ev -3.3 ua 0.0 total -3.3\n",
      "peak_decay: ev -3.2 ua 0.0 total -3.2\n",
      "peak_offset: ev -3.1 ua 0.0 total -3.1\n",
      "coda_height: ev -3.9 ua 0.0 total -3.9\n",
      "coef jointgp: -1.9\n",
      "total param: ev -15.4 ua 0.0 total -15.4\n",
      "priors+params: ev -72.8 ua -0.2 total -73.0\n",
      "station noise (observed signals): -17933.2\n",
      "overall: -18006.2\n",
      "official: -18006.2\n"
     ]
    }
   ],
   "source": [
    "print sg.current_log_p()\n",
    "sg.current_log_p_breakdown()"
   ]
  },
  {
   "cell_type": "code",
   "execution_count": null,
   "metadata": {
    "collapsed": false
   },
   "outputs": [],
   "source": []
  },
  {
   "cell_type": "code",
   "execution_count": null,
   "metadata": {
    "collapsed": true
   },
   "outputs": [],
   "source": []
  }
 ],
 "metadata": {
  "kernelspec": {
   "display_name": "Python 2",
   "language": "python",
   "name": "python2"
  },
  "language_info": {
   "codemirror_mode": {
    "name": "ipython",
    "version": 2
   },
   "file_extension": ".py",
   "mimetype": "text/x-python",
   "name": "python",
   "nbconvert_exporter": "python",
   "pygments_lexer": "ipython2",
   "version": "2.7.3"
  }
 },
 "nbformat": 4,
 "nbformat_minor": 0
}
