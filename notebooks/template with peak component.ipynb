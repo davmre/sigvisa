{
 "metadata": {
  "name": ""
 },
 "nbformat": 3,
 "nbformat_minor": 0,
 "worksheets": [
  {
   "cells": [
    {
     "cell_type": "code",
     "collapsed": false,
     "input": [
      "# plateau - polynomial\n",
      "\n",
      "\n",
      "\n",
      "def decay_exp(t, amp, decay):\n",
      "    return amp * np.exp(-t * np.exp(decay))\n",
      "\n",
      "def decay_poly(t, amp, decay):\n",
      "    return amp * (t+1)**-np.exp(decay)\n",
      "\n",
      "def decay_polyexp(t, amp, decay_poly, decay_exp):\n",
      "    return amp * (t+1)**-np.exp(decay_poly) * np.exp(- t * np.exp(decay_exp))\n",
      "\n",
      "def decay_expexp(t, peak_amp, amp2, decay1, decay2):\n",
      "    return decay_exp(t, (peak_amp-amp2), decay1) + decay_exp(t, amp2, decay2)\n",
      "\n",
      "def env_plateau(params, n, srate, decay_fn):\n",
      "    amp_noise = np.exp(params[0])\n",
      "    t_start = params[1]\n",
      "    t_rise = np.exp(params[2])\n",
      "    t_plateau = np.exp(params[3])\n",
      "    amp = np.exp(params[4])\n",
      "\n",
      "    signal = np.zeros((n,)) \n",
      "    n_start = int(t_start * srate)\n",
      "    n_rise = int((t_start + t_rise) * srate)\n",
      "    signal[n_start: n_rise] = np.linspace(0, amp, n_rise-n_start)    \n",
      "    n_plateau = int( (t_start + t_rise + t_plateau) * srate)\n",
      "    signal[n_rise:n_plateau] = amp\n",
      "    \n",
      "    t = np.linspace(0, float(n-n_plateau+1)/srate, n-n_plateau+1)\n",
      "    signal[n_plateau:] = decay_fn(t[1:], amp, *params[5:])\n",
      "    signal += amp_noise\n",
      "    return signal\n",
      "\n",
      "def loss(params, wave, decay_fn, plateau, noise):\n",
      "    n = wave['npts']\n",
      "    srate = wave['srate']\n",
      "    \n",
      "    try:\n",
      "        if not noise:\n",
      "            params = np.concatenate(((-999,), params))\n",
      "        if not plateau:\n",
      "            params = np.concatenate((params[:3], (-999,), params[3:]))\n",
      "        env = env_plateau(params, n, srate, decay_fn)\n",
      "\n",
      "    except:\n",
      "        #raise\n",
      "        return 1e10\n",
      "    \n",
      "    \n",
      "    diff = wave.data - env\n",
      "    \n",
      "    l1 = np.sum(np.abs(diff))\n",
      "    return l1\n",
      "\n",
      "from sigvisa import Sigvisa\n",
      "from sigvisa.signals.io import load_event_station_chan\n",
      "s = Sigvisa()\n",
      "cursor = s.dbconn.cursor()\n",
      "evid = 5393637\n",
      "sta='USRK' \n",
      "chan='vertical'\n",
      "wave = load_event_station_chan(evid, sta, 'auto', cursor=cursor).filter(\"%s;hz_10;env\" % 'freq_2.0_3.0')\n",
      "cursor.close()\n",
      "plot(wave.data)\n",
      "\n",
      "\n",
      "import scipy.optimize\n",
      "r = scipy.optimize.minimize(loss, x0 = [0.0, 30, 2.0, 2.0, 3.0, 0.0, -4.0], args=(wave, decay_polyexp, True, True), method='Nelder-Mead')\n",
      "print r.x\n",
      "plot(env_plateau(r.x, wave['npts'], wave['srate'], decay_polyexp))\n",
      "\n",
      "#plot(env_plateau([30, 2.0, 0.31, 3.69, 1.0, -2.0, -8.0], wave['npts'], wave['srate'], decay_expexp))\n",
      "\n"
     ],
     "language": "python",
     "metadata": {},
     "outputs": [
      {
       "output_type": "stream",
       "stream": "stdout",
       "text": [
        "[ -9.12375842e-04   3.75999977e+01   1.25276369e+00   2.38876230e+00\n",
        "   4.48869964e+00   2.47131169e-03  -6.18913535e+00]\n"
       ]
      },
      {
       "metadata": {},
       "output_type": "pyout",
       "prompt_number": 1,
       "text": [
        "[<matplotlib.lines.Line2D at 0x34ba190>]"
       ]
      },
      {
       "metadata": {},
       "output_type": "display_data",
       "png": "[encoded data removed]",
       "text": [
        "<matplotlib.figure.Figure at 0x3584350>"
       ]
      }
     ],
     "prompt_number": 1
    },
    {
     "cell_type": "code",
     "collapsed": false,
     "input": [
      "import itertools\n",
      "\n",
      "grid = dict()\n",
      "grid['exp'] = np.array([x for x in itertools.product( (26, 30, 32 ), (0.0, 2.0), (-1.0, 1.0), (-5, -3, -1))])\n",
      "grid['poly'] = np.array([x for x in itertools.product( (26, 30, 32 ), (0.0, 2.0), (-1.0, 1.0), (-2, -.5, .5))])\n",
      "grid['polyexp'] = np.array([x for x in itertools.product( (26, 30, 32 ), (0.0, 2.0), (-1.0, 1.0), (-2, -.5, .5), (-7, -3, -1))])\n",
      "grid['expexp'] = np.array([x for x in itertools.product( (26, 30, 32 ), (0.0, 2.0), (0.0, 2.0), (-2.0, -0.1),  (-4, -2), (-7, -3))])\n",
      "\n",
      "grid_plateau = dict()\n",
      "grid_plateau['exp'] = np.array([x for x in itertools.product( (26, 30, 32 ), (0.0, 2.0), (0.0, 2.0), (-1.0, 1.0), (-5, -3, -1))])\n",
      "grid_plateau['poly'] = np.array([x for x in itertools.product( (26, 30, 32 ), (0.0, 2.0), (0.0, 2.0), (-1.0, 1.0), (-2, -.5, .5))])\n",
      "grid_plateau['polyexp'] = np.array([x for x in itertools.product( (26, 30, 32 ), (0.0, 2.0), (0.0, 2.0), (-1.0, 1.0), (-2, -.5, .5), (-7, -3, -1))])\n",
      "grid_plateau['expexp'] = np.array([x for x in itertools.product( (26, 30, 32 ), (0.0, 2.0), (0.0, 2.0), (0.0, 2.0), (-2.0, -0.1),  (-4, -2), (-7, -3))])\n",
      "\n",
      "grid_noise = dict()\n",
      "grid_noise['exp'] = np.array([x for x in itertools.product( (-3.0, -0.5), (26, 30, 32 ), (0.0, 2.0), (-1.0, 1.0), (-5, -3, -1))])\n",
      "grid_noise['poly'] = np.array([x for x in itertools.product( (-3.0, -0.5), (26, 30, 32 ), (0.0, 2.0), (-1.0, 1.0), (-2, -.5, .5))])\n",
      "grid_noise['polyexp'] = np.array([x for x in itertools.product( (-3.0, -0.5), (26, 30, 32 ), (0.0, 2.0), (-1.0, 1.0), (-2, -.5, .5), (-7, -3, -1))])\n",
      "grid_noise['expexp'] = np.array([x for x in itertools.product( (-3.0, -0.5), (26, 30, 32 ), (0.0, 2.0), (0.0, 2.0), (-2.0, -0.1),  (-4, -2), (-7, -3))])\n",
      "\n",
      "grid_plateau_noise = dict()\n",
      "grid_plateau_noise['exp'] = np.array([x for x in itertools.product( (-3.0, -0.5), (26, 30, 32 ), (0.0, 2.0), (0.0, 2.0), (-1.0, 1.0), (-5, -3, -1))])\n",
      "grid_plateau_noise['poly'] = np.array([x for x in itertools.product( (-3.0, -0.5), (26, 30, 32 ), (0.0, 2.0), (0.0, 2.0), (-1.0, 1.0), (-2, -.5, .5))])\n",
      "grid_plateau_noise['polyexp'] = np.array([x for x in itertools.product( (-3.0, -0.5), (26, 30, 32 ), (0.0, 2.0), (0.0, 2.0), (-1.0, 1.0), (-2, -.5, .5), (-7, -3, -1))])\n",
      "grid_plateau_noise['expexp'] = np.array([x for x in itertools.product( (-3.0, -0.5), (26, 30, 32 ), (0.0, 2.0), (0.0, 2.0), (0.0, 2.0), (-2.0, -0.1),  (-4, -2), (-7, -3))])\n",
      "\n",
      "\n",
      "def fit_model(cursor, evid, sta, model_type=\"exp\", plateau=False, noise=False):\n",
      "    decay_fn = eval(\"decay_\"+ model_type) \n",
      "    wave = load_event_station_chan(evid, sta, 'auto', cursor=cursor).filter(\"%s;hz_10;env\" % 'freq_2.0_3.0')\n",
      "    \n",
      "    if noise:\n",
      "        mygrid = grid_noise[model_type] if not plateau else grid_plateau_noise[model_type]\n",
      "    else:\n",
      "        mygrid = grid[model_type] if not plateau else grid_plateau[model_type]\n",
      "    gridvals = np.zeros(mygrid.shape[0])\n",
      "    for (j, gval) in enumerate(mygrid):\n",
      "        gridvals[j] = loss(gval, wave, decay_fn, plateau, noise)\n",
      "\n",
      "    optimize_best = 5\n",
      "    best_results = np.zeros((optimize_best,))\n",
      "    best_indices = np.zeros((optimize_best,), dtype=int)\n",
      "    best_gvals = np.zeros((optimize_best,mygrid.shape[1]))\n",
      "    for i in range(optimize_best):\n",
      "        best_indices[i] = np.argmin(gridvals)\n",
      "        gridvals[best_indices[i]] = np.float('inf')\n",
      "        \n",
      "        r = scipy.optimize.minimize(loss, x0 = mygrid[best_indices[i],:], args=(wave, decay_fn, plateau, noise), method='Nelder-Mead')\n",
      "        best_results[i] = r.fun\n",
      "        best_gvals[i,:] = r.x\n",
      "    ii = np.argmin(best_results)\n",
      "    return best_results[ii], best_gvals[ii,:]\n",
      "    "
     ],
     "language": "python",
     "metadata": {},
     "outputs": [],
     "prompt_number": 2
    },
    {
     "cell_type": "code",
     "collapsed": false,
     "input": [
      "cursor = s.dbconn.cursor()\n",
      "print fit_model(cursor, 5393637, 'USRK', 'exp', True, True)\n",
      "cursor.close()"
     ],
     "language": "python",
     "metadata": {},
     "outputs": [
      {
       "output_type": "stream",
       "stream": "stdout",
       "text": [
        "(21284.211921578197, array([ -0.88755955,  37.59999828,   1.13140479,  -3.93194034,\n",
        "         4.38533019,  -3.82220384]))\n"
       ]
      }
     ],
     "prompt_number": 3
    },
    {
     "cell_type": "code",
     "collapsed": false,
     "input": [
      "import pandas as pd\n",
      "\n",
      "s = Sigvisa()\n",
      "cursor = s.dbconn.cursor()\n",
      "\n",
      "with open('evid_list') as f:\n",
      "    lines = f.readlines()\n",
      "pairs = [line.strip().split() for line in lines]\n",
      "pairs = [(sta, int(evid)) for (sta, evid) in pairs]\n",
      "results = pd.DataFrame(data = pairs, columns = ['sta', 'evid'])\n",
      "cursor.close()\n",
      "\n"
     ],
     "language": "python",
     "metadata": {},
     "outputs": [],
     "prompt_number": 4
    },
    {
     "cell_type": "code",
     "collapsed": false,
     "input": [
      "\n",
      "cursor = s.dbconn.cursor()\n",
      "\n",
      "for model_type in ('exp', 'poly', 'polyexp', 'expexp'):\n",
      "    for plateau in (False, True):\n",
      "        for noise in (False, True):\n",
      "            col_label = model_type if not plateau else model_type + \"_plateau\"\n",
      "            col_label = col_label if not noise else col_label + \"_noise\"\n",
      "            results[col_label] = np.zeros((results.shape[0],))\n",
      "            for (i, srs) in results.iterrows():\n",
      "                evid = srs['evid']\n",
      "                sta = srs['sta']\n",
      "                ll, params = fit_model(cursor, evid, sta, model_type=model_type, plateau=plateau, noise=noise)\n",
      "                results[col_label][i] = ll\n",
      "                \n",
      "                if i % 2000 == 0:\n",
      "                    fname = 'out_%s_%d.csv' % (col_label, i)\n",
      "                    print \"saving partial results to\", fname\n",
      "                    results.to_csv(fname)\n",
      "results.to_csv('out_final.csv')\n",
      "cursor.close()\n"
     ],
     "language": "python",
     "metadata": {},
     "outputs": [
      {
       "output_type": "stream",
       "stream": "stdout",
       "text": [
        "saving partial results to out_exp_0.csv\n",
        "saving partial results to"
       ]
      },
      {
       "output_type": "stream",
       "stream": "stdout",
       "text": [
        " out_exp_noise_0.csv\n",
        "saving partial results to"
       ]
      },
      {
       "output_type": "stream",
       "stream": "stdout",
       "text": [
        " out_exp_plateau_0.csv\n",
        "saving partial results to"
       ]
      },
      {
       "output_type": "stream",
       "stream": "stdout",
       "text": [
        " out_exp_plateau_noise_0.csv\n",
        "saving partial results to"
       ]
      },
      {
       "output_type": "stream",
       "stream": "stdout",
       "text": [
        " out_poly_0.csv\n",
        "saving partial results to"
       ]
      },
      {
       "output_type": "stream",
       "stream": "stdout",
       "text": [
        " out_poly_noise_0.csv\n",
        "saving partial results to"
       ]
      },
      {
       "output_type": "stream",
       "stream": "stdout",
       "text": [
        " out_poly_plateau_0.csv\n",
        "saving partial results to"
       ]
      },
      {
       "output_type": "stream",
       "stream": "stdout",
       "text": [
        " out_poly_plateau_noise_0.csv\n",
        "saving partial results to"
       ]
      },
      {
       "output_type": "stream",
       "stream": "stdout",
       "text": [
        " out_polyexp_0.csv\n",
        "saving partial results to"
       ]
      },
      {
       "output_type": "stream",
       "stream": "stdout",
       "text": [
        " out_polyexp_noise_0.csv\n",
        "saving partial results to"
       ]
      }
     ],
     "prompt_number": "*"
    },
    {
     "cell_type": "code",
     "collapsed": false,
     "input": [],
     "language": "python",
     "metadata": {},
     "outputs": [],
     "prompt_number": 72
    },
    {
     "cell_type": "code",
     "collapsed": false,
     "input": [
      "print results"
     ],
     "language": "python",
     "metadata": {},
     "outputs": [
      {
       "output_type": "stream",
       "stream": "stdout",
       "text": [
        "   sta     evid          exp  exp_plateau         poly  poly_plateau  \\\n",
        "0  AAK  5384193   581.112473   581.096228   581.194184    578.319009   \n",
        "1  AAK  5323778   194.605855   194.622906   187.089184    186.555503   \n",
        "2  AAK  5354502   265.479348   265.490387   245.058939    243.560979   \n",
        "3  AAK  5371735   523.312397   523.285557   524.904924    507.368963   \n",
        "4  AAK  5356558   224.531948   224.595109   224.428243    224.360385   \n",
        "5  AAK  5340689   322.570296   322.570296   322.594845    322.550429   \n",
        "6  AAK  5341715  1253.678365  1253.470417  1147.932494   1143.558146   \n",
        "7  AAK  5381142   375.309932   375.440219   367.358671    366.758652   \n",
        "8  AAK  5397529   431.517009   432.781376   435.102123    434.629677   \n",
        "9  AAK  5411358   556.414175   556.420830   532.089590    538.456027   \n",
        "\n",
        "       polyexp  polyexp_plateau       expexp  expexp_plateau  \n",
        "0   581.194184       581.112519   613.733084      621.920798  \n",
        "1   185.015277       182.707111   190.809241      195.881944  \n",
        "2   245.092195       250.453288   255.968535      265.428071  \n",
        "3   507.726585       510.031435   519.928485      516.591251  \n",
        "4   224.437503       224.359312   240.119454      222.583681  \n",
        "5   322.573144       322.551151   319.511761      361.460015  \n",
        "6  1068.334473      1108.119635  1250.567128     1247.103221  \n",
        "7   367.379613       365.969259   377.100716      373.368740  \n",
        "8   435.051491       432.555416   443.034431      438.598727  \n",
        "9   532.113667       543.252739   560.705322      553.622146  \n"
       ]
      }
     ],
     "prompt_number": 83
    },
    {
     "cell_type": "code",
     "collapsed": false,
     "input": [],
     "language": "python",
     "metadata": {},
     "outputs": []
    }
   ],
   "metadata": {}
  }
 ]
}