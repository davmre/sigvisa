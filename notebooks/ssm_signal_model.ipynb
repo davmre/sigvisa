{
 "metadata": {
  "name": "",
  "signature": "sha256:cb80c8b3a88c9052b2ceffbd4983d716c81918ee1e37630f844477b071688671"
 },
 "nbformat": 3,
 "nbformat_minor": 0,
 "worksheets": [
  {
   "cells": [
    {
     "cell_type": "code",
     "collapsed": false,
     "input": [
      "import numpy as np\n",
      "import sys\n",
      "import os\n",
      "import traceback\n",
      "\n",
      "\n",
      "\n",
      "import pickle\n",
      "import copy\n",
      "\n",
      "from sigvisa import Sigvisa\n",
      "\n",
      "\n",
      "from sigvisa.graph.sigvisa_graph import SigvisaGraph\n",
      "\n",
      "\n",
      "\n",
      "\n",
      "\n",
      "\n",
      "from sigvisa.infer.run_mcmc import run_open_world_MH\n",
      "from sigvisa.infer.mcmc_logger import MCMCLogger\n",
      "\n",
      "from sigvisa.infer.template_mcmc import *\n",
      "from sigvisa.plotting.plot import plot_with_fit, plot_with_fit_shapes, plot_pred_atimes\n",
      "from sigvisa.signals.common import Waveform\n",
      "from sigvisa.utils.fileutils import clear_directory, mkdir_p\n",
      "from sigvisa.experiments.one_station_templates_test import sample_template\n",
      "from sigvisa.source.event import Event"
     ],
     "language": "python",
     "metadata": {},
     "outputs": [],
     "prompt_number": 23
    },
    {
     "cell_type": "code",
     "collapsed": false,
     "input": [
      "sg = SigvisaGraph(template_model_type=\"dummy\", template_shape=\"lin_polyexp\",\n",
      "                              wiggle_model_type=\"dummy\", wiggle_family=\"db4_0.5\",\n",
      "                              phases=[\"P\",], nm_type = \"ar\", wiggle_len_s = 32.0)\n",
      "\n",
      "wave_data = np.random.randn(1000,)\n",
      "wave = Waveform(wave_data, srate=5.0, stime=1242891045, sta=\"FITZ\", chan=\"BHZ\", band=\"freq_2.0_3.0\")\n",
      "wn = sg.add_wave(wave)\n",
      "\n",
      "wn.nm.em.std = 0.001\n",
      "wn.noise_arssm.error_var=0.000001"
     ],
     "language": "python",
     "metadata": {},
     "outputs": [
      {
       "output_type": "stream",
       "stream": "stdout",
       "text": [
        "constructed wavelet basis with 32 params for signal of length 160\n"
       ]
      }
     ],
     "prompt_number": 24
    },
    {
     "cell_type": "code",
     "collapsed": false,
     "input": [
      "print wn.log_p()\n",
      "print wn.nm.log_p(wn.get_value())"
     ],
     "language": "python",
     "metadata": {},
     "outputs": [
      {
       "output_type": "stream",
       "stream": "stdout",
       "text": [
        "k=0, state size 3\n",
        "-1684666114.11"
       ]
      },
      {
       "output_type": "stream",
       "stream": "stdout",
       "text": [
        "\n",
        "-1679925312.59\n"
       ]
      }
     ],
     "prompt_number": 25
    },
    {
     "cell_type": "code",
     "collapsed": false,
     "input": [
      "ev = Event(lon=124, lat=-19, depth=0, mb=7.0, time=1242891045)\n",
      "sg.add_event(ev)"
     ],
     "language": "python",
     "metadata": {},
     "outputs": [
      {
       "metadata": {},
       "output_type": "pyout",
       "prompt_number": 27,
       "text": [
        "{'depth': <NODE 1;loc>,\n",
        " 'lat': <NODE 1;loc>,\n",
        " 'loc': <NODE 1;loc>,\n",
        " 'lon': <NODE 1;loc>,\n",
        " 'mb': <NODE 1;mb>,\n",
        " 'natural_source': <NODE 1;source>,\n",
        " 'time': <NODE 1;time>}"
       ]
      }
     ],
     "prompt_number": 27
    },
    {
     "cell_type": "code",
     "collapsed": false,
     "input": [
      "wn._parent_values()\n",
      "plot(wn.tssm.mean_obs(400))\n",
      "plot(wn.tssm.prior_sample(400))"
     ],
     "language": "python",
     "metadata": {},
     "outputs": [
      {
       "metadata": {},
       "output_type": "pyout",
       "prompt_number": 28,
       "text": [
        "[<matplotlib.lines.Line2D at 0x704b550>]"
       ]
      },
      {
       "metadata": {},
       "output_type": "display_data",
       "png": "[encoded data removed]",
       "text": [
        "<matplotlib.figure.Figure at 0x6ecae10>"
       ]
      }
     ],
     "prompt_number": 28
    },
    {
     "cell_type": "code",
     "collapsed": false,
     "input": [
      "try:\n",
      "    print wn.log_p()\n",
      "except:\n",
      "    import pdb, traceback, sys\n",
      "    type, value, tb = sys.exc_info()\n",
      "    traceback.print_exc()\n",
      "    pdb.post_mortem(tb)"
     ],
     "language": "python",
     "metadata": {},
     "outputs": [
      {
       "output_type": "stream",
       "stream": "stdout",
       "text": [
        "k=0, state size 3\n",
        "-1680647054.73"
       ]
      },
      {
       "output_type": "stream",
       "stream": "stdout",
       "text": [
        "\n"
       ]
      }
     ],
     "prompt_number": 30
    },
    {
     "cell_type": "code",
     "collapsed": false,
     "input": [
      "wn.unfix_value()\n",
      "wn.parent_sample()\n",
      "print wn.log_p()"
     ],
     "language": "python",
     "metadata": {},
     "outputs": [
      {
       "output_type": "stream",
       "stream": "stdout",
       "text": [
        "k=0, state size 3\n",
        "5432.69954218"
       ]
      },
      {
       "output_type": "stream",
       "stream": "stdout",
       "text": [
        "\n"
       ]
      }
     ],
     "prompt_number": 31
    },
    {
     "cell_type": "code",
     "collapsed": false,
     "input": [
      "print wn.tssm.ssms"
     ],
     "language": "python",
     "metadata": {},
     "outputs": [
      {
       "output_type": "stream",
       "stream": "stdout",
       "text": [
        "[<sigvisa.models.statespace.ar.ARSSM object at 0x6c70990>, <sigvisa.models.statespace.compact_support.CompactSupportSSM object at 0x5e79e10>, <sigvisa.models.statespace.dummy.DummySSM object at 0x6c70c90>]\n"
       ]
      }
     ],
     "prompt_number": 32
    },
    {
     "cell_type": "code",
     "collapsed": false,
     "input": [
      "cssm = wn.tssm.ssms[1]\n"
     ],
     "language": "python",
     "metadata": {},
     "outputs": [
      {
       "output_type": "stream",
       "stream": "stdout",
       "text": [
        "<sigvisa.models.statespace.compact_support.CompactSupportSSM object at 0x5e79e10>\n"
       ]
      }
     ],
     "prompt_number": 33
    },
    {
     "cell_type": "code",
     "collapsed": false,
     "input": [
      "plot(cssm.prior_sample(160))"
     ],
     "language": "python",
     "metadata": {},
     "outputs": [
      {
       "metadata": {},
       "output_type": "pyout",
       "prompt_number": 48,
       "text": [
        "[<matplotlib.lines.Line2D at 0x89a12d0>]"
       ]
      },
      {
       "metadata": {},
       "output_type": "display_data",
       "png": "[encoded data removed]",
       "text": [
        "<matplotlib.figure.Figure at 0x81a3ad0>"
       ]
      }
     ],
     "prompt_number": 48
    },
    {
     "cell_type": "code",
     "collapsed": false,
     "input": [],
     "language": "python",
     "metadata": {},
     "outputs": [],
     "prompt_number": 19
    },
    {
     "cell_type": "code",
     "collapsed": false,
     "input": [],
     "language": "python",
     "metadata": {},
     "outputs": [],
     "prompt_number": 19
    },
    {
     "cell_type": "code",
     "collapsed": false,
     "input": [],
     "language": "python",
     "metadata": {},
     "outputs": []
    }
   ],
   "metadata": {}
  }
 ]
}