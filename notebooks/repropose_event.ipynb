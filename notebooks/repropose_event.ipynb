{
 "metadata": {
  "name": "",
  "signature": "sha256:102cccb9a3fa8fb1f52b742d9b2cf793d4a3366ccc38739d62b94057bd71d9ca"
 },
 "nbformat": 3,
 "nbformat_minor": 0,
 "worksheets": [
  {
   "cells": [
    {
     "cell_type": "code",
     "collapsed": false,
     "input": [
      "%load_ext autoreload\n",
      "%autoreload\n",
      "\n",
      "import numpy as np\n",
      "import sys\n",
      "import os\n",
      "\n",
      "import traceback\n",
      "\n",
      "import pickle\n",
      "import copy\n",
      "\n",
      "\n",
      "from sigvisa import Sigvisa\n",
      "\n",
      "from sigvisa.graph.sigvisa_graph import SigvisaGraph\n",
      "\n",
      "\n",
      "\n",
      "from sigvisa.models.templates.load_by_name import load_template_generator\n",
      "from sigvisa.models.ttime import tt_predict\n",
      "from sigvisa.infer.event_mcmc import *\n",
      "from sigvisa.infer.event_swap import *\n",
      "from sigvisa.infer.propose_lstsqr import overpropose_new_locations, propose_new_location_greedy\n",
      "from sigvisa.infer.propose_hough import hough_location_proposal\n",
      "\n",
      "\n",
      "from sigvisa.infer.run_mcmc import run_open_world_MH\n",
      "from sigvisa.infer.mcmc_logger import MCMCLogger\n",
      "from sigvisa.infer.event_birthdeath import ev_birth_helper,ev_death_helper\n",
      "\n",
      "from sigvisa.infer.template_mcmc import *\n",
      "from sigvisa.plotting.plot import plot_with_fit, plot_with_fit_shapes, plot_pred_atimes\n",
      "from sigvisa.signals.common import Waveform\n",
      "from sigvisa.utils.fileutils import clear_directory, mkdir_p\n",
      "\n",
      "from sigvisa.experiments.one_station_templates_test import sample_template\n",
      "\n",
      "import cPickle as pickle\n",
      "\n",
      "def do_plot(wn, ax=None):\n",
      "    if ax is None:\n",
      "      f = plt.figure(figsize=(15,5))\n",
      "      ax=f.add_subplot(111)\n",
      "    shape_colors = plot_with_fit_shapes(fname=None, wn=wn, axes=ax, plot_wave=True)\n",
      "    atimes = dict([(\"%d_%s\" % (eid, phase), wn.get_template_params_for_arrival(eid=eid, phase=phase)[0]['arrival_time']) for (eid, phase) in wn.arrivals()])\n",
      "    colors = dict([(\"%d_%s\" % (eid, phase), shape_colors[eid]) for (eid, phase) in wn.arrivals()])\n",
      "    plot_pred_atimes(dict(atimes), wn.get_wave(), axes=ax, color=colors, alpha=1.0, bottom_rel=-0.1, top_rel=0.0)\n",
      "    return ax\n",
      "\n",
      "def ttrs(sg, eid, dump_info=True):\n",
      "    ev = sg.get_event(eid)\n",
      "    stas = sorted(sg.station_waves.keys())\n",
      "    targets = []\n",
      "    for sta in sorted(stas):\n",
      "        phases = sg.ev_arriving_phases(eid, sta)\n",
      "        for phase in phases:\n",
      "            targets.append((sta, phase))\n",
      "\n",
      "    atimes = np.array([get_atime(eid, sta, phase) for (sta, phase) in targets])\n",
      "    pred_tts = np.array([tt_predict(ev, sta, phase) for (sta, phase) in targets])\n",
      "    residuals = atimes-ev.time - pred_tts\n",
      "    \n",
      "    if dump_info:\n",
      "        print ev\n",
      "        for (sta, phase), atime, pred_tt, residual in zip(targets, atimes, pred_tts, residuals):\n",
      "            print sta, phase, \"atime %.1f pred %.1f tt %.1f residual %.2f\" % (atime, pred_tt+ev.time, pred_tt, residual)\n",
      "    \n",
      "    return np.abs(residuals)\n",
      "\n",
      "def get_atime(eid, sta, phase):\n",
      "    n = get_parent_value(eid=eid, sta=sta, phase=phase, param_name='arrival_time', chan=None, band=None,\n",
      "                         parent_values=sg.nodes_by_key, return_key=False)\n",
      "    return n.get_value()\n"
     ],
     "language": "python",
     "metadata": {},
     "outputs": [],
     "prompt_number": 1
    },
    {
     "cell_type": "code",
     "collapsed": false,
     "input": [
      "with open(\"/home/dmoore/python/sigvisa/logs/mcmc/01431/step_000309/pickle.sg\", 'rb') as f:\n",
      "    sg = pickle.load(f)\n",
      "    \n",
      "with open(\"/home/dmoore/python/sigvisa/logs/mcmc/01431/events.pkl\", 'rb') as f:\n",
      "    true_evs = pickle.load(f)\n",
      "    \n",
      "for ev in true_evs:\n",
      "    print ev\n",
      "    \n",
      "sg.uatemplate_rate=1e-10\n",
      "sg.current_log_p_breakdown()\n",
      "\n",
      "for wn in [wn for wns in sg.station_waves.values() for wn in wns]:\n",
      "    print wn.label, wn.log_p()\n",
      "    \n",
      "wn = sg.all_nodes[\"wave_YKR8_SHZ_freq_2.0_3.0_1238889600.0\"]\n",
      "do_plot(wn)"
     ],
     "language": "python",
     "metadata": {},
     "outputs": [
      {
       "output_type": "stream",
       "stream": "stdout",
       "text": [
        "evid None, loc 90.65 E 34.24 N, depth 11.7km, time 1238890452.0, mb 5.6, natural source\n",
        "evid None, loc 78.26 E 51.04 N, depth 371.4km, time 1238890586.2, mb 5.2, natural source\n",
        "evid None, loc 178.75 W 16.92 S, depth 1.8km, time 1238889895.5, mb 4.7, natural source\n",
        "evid None, loc 66.97 E 15.61 S, depth 156.8km, time 1238890087.0, mb 5.0, natural source\n",
        "evid None, loc 126.81 E 6.61 N, depth 609.6km, time 1238890055.6, mb 4.5, natural source\n",
        "n_uatemplate: -506.6"
       ]
      },
      {
       "output_type": "stream",
       "stream": "stdout",
       "text": [
        "\n",
        "n_event: -38.4\n",
        "ev priors: ev -95.3\n",
        "tt_residual: ev -577.3\n",
        "ev global cost (n + priors + tt): -711.0\n",
        "coda_decay: ev -189.9 ua -44.8 total -234.7\n",
        "peak_decay: ev -195.3 ua -43.3 total -238.6\n",
        "peak_offset: ev -166.8 ua -78.9 total -245.7\n",
        "coda_height: ev -193.8 ua -47.4 total -241.2\n",
        "wiggles: ev 0.0 ua 0.0 total 0.0\n",
        "total param: ev -745.8 ua -214.4 total -960.2\n",
        "non signals: ev -1456.8 ua -720.9 total -2177.7\n",
        "signals: 39122.3\n",
        "overall: 36944.5\n",
        "official: 36944.5"
       ]
      },
      {
       "output_type": "stream",
       "stream": "stdout",
       "text": [
        "\n",
        "wave_CM16_SHZ_freq_2.0_3.0_1238889600.0 -2747.96825456\n",
        "wave_JHJ_BHZ_freq_2.0_3.0_1238889600.0 -7329.88423443\n",
        "wave_AAK_BHZ_freq_2.0_3.0_1238889600.0 1104.37876083\n",
        "wave_MK31_BHZ_freq_2.0_3.0_1238889600.0 2288.10144483\n",
        "wave_QSPA_BHZ_freq_2.0_3.0_1238889600.0 1127.99724563\n",
        "wave_STKA_BHZ_freq_2.0_3.0_1238889600.0 3083.44948348\n",
        "wave_VNDA_BHZ_freq_2.0_3.0_1238889600.0 4396.56648045\n",
        "wave_BVA0_BHZ_freq_2.0_3.0_1238889600.0 -377.069198428\n",
        "wave_KBZ_BHZ_freq_2.0_3.0_1238889600.0 3069.22448066\n",
        "wave_AS12_SHZ_freq_2.0_3.0_1238889600.0 2640.13286677\n",
        "wave_WR1_BHZ_freq_2.0_3.0_1238889600.0 2606.03463444\n",
        "wave_JKA_BHZ_freq_2.0_3.0_1238889600.0 1920.38666994\n",
        "wave_FIA0_SHZ_freq_2.0_3.0_1238889600.0 4787.15174326\n",
        "wave_YKR8_SHZ_freq_2.0_3.0_1238889600.0 7049.15452612\n",
        "wave_FITZ_BHZ_freq_2.0_3.0_1238889600.0 2343.32121473\n",
        "wave_IL31_BHZ_freq_2.0_3.0_1238889600.0 188.329760632\n",
        "wave_JNU_BHZ_freq_2.0_3.0_1238889600.0 1113.82005099\n",
        "wave_NWAO_BHZ_freq_2.0_3.0_1238889600.0 1197.08548497\n",
        "wave_PEA0_SHZ_freq_2.0_3.0_1238889600.0 1620.4134558\n",
        "wave_SNAA_BHZ_freq_2.0_3.0_1238889600.0 5616.47155005\n",
        "wave_USA0_SHZ_freq_2.0_3.0_1238889600.0 2935.32437535\n",
        "wave_NB200_SHZ_freq_2.0_3.0_1238889600.0 489.843456789\n",
        "plotting uatemplate"
       ]
      },
      {
       "output_type": "stream",
       "stream": "stdout",
       "text": [
        " -160 as color (0.0, 0.53529411764705859, 1.0, 1.0)\n",
        "reading station detections... \n"
       ]
      },
      {
       "metadata": {},
       "output_type": "pyout",
       "prompt_number": 2,
       "text": [
        "<matplotlib.axes.AxesSubplot at 0x5195950>"
       ]
      },
      {
       "metadata": {},
       "output_type": "display_data",
       "png": "[encoded data removed]",
       "text": [
        "<matplotlib.figure.Figure at 0x29bfed0>"
       ]
      }
     ],
     "prompt_number": 2
    },
    {
     "cell_type": "code",
     "collapsed": false,
     "input": [
      "for n in sg.all_nodes.values():\n",
      "    if \"arrival_time\" in n.label:\n",
      "        n.set_value(n.get_value())\n",
      "    if \"coda_height\" in n.label:\n",
      "        n.set_value(n.get_value())\n",
      "        \n",
      "sg.tg['UA'] = load_template_generator(sg.template_shape)\n",
      "\n",
      "ua_height_nodes = [n for n in sg.all_nodes.values() if \"coda_height\" in n.label and not n.deterministic()]\n",
      "for n in ua_height_nodes:\n",
      "    n.model = sg.tg[\"UA\"].unassociated_model(\"coda_height\")\n",
      "\n",
      "\n",
      "\n"
     ],
     "language": "python",
     "metadata": {},
     "outputs": [],
     "prompt_number": 3
    },
    {
     "cell_type": "code",
     "collapsed": false,
     "input": [
      "\"\"\"\n",
      "if len(sg.evnodes) == 3:\n",
      "    log_qforward, log_qbackward, revert_move = ev_death_helper(sg, 1, associate_using_mb=False)\n",
      "    \n",
      "seed = 10\n",
      "np.random.seed(seed)\n",
      "try:\n",
      "    ev, lp = overpropose_new_locations(sg, n_locations=40, n_eval_pairs=5, n_refine=5, min_uatemplates=1)\n",
      "    print seed, \"proposed\", ev, lp\n",
      "except Exception as e:\n",
      "    import sys, traceback, pdb\n",
      "    print e\n",
      "    type, value, tb = sys.exc_info()\n",
      "    traceback.print_exc()\n",
      "    pdb.post_mortem(tb)\n",
      "\"\"\""
     ],
     "language": "python",
     "metadata": {},
     "outputs": [
      {
       "metadata": {},
       "output_type": "pyout",
       "prompt_number": 4,
       "text": [
        "'\\nif len(sg.evnodes) == 3:\\n    log_qforward, log_qbackward, revert_move = ev_death_helper(sg, 1, associate_using_mb=False)\\n    \\nseed = 10\\nnp.random.seed(seed)\\ntry:\\n    ev, lp = overpropose_new_locations(sg, n_locations=40, n_eval_pairs=5, n_refine=5, min_uatemplates=1)\\n    print seed, \"proposed\", ev, lp\\nexcept Exception as e:\\n    import sys, traceback, pdb\\n    print e\\n    type, value, tb = sys.exc_info()\\n    traceback.print_exc()\\n    pdb.post_mortem(tb)\\n'"
       ]
      }
     ],
     "prompt_number": 4
    },
    {
     "cell_type": "code",
     "collapsed": false,
     "input": [
      "print true_evs[2]\n",
      "def propose_true_location(sg, fix_result=None, **kwargs):\n",
      "    if fix_result is not None:\n",
      "        return 0.0\n",
      "    else:\n",
      "        return true_evs[2], 0.0, None\n",
      "\n",
      "for eid in sg.evnodes.keys():\n",
      "    print eid, sg.get_event(eid)\n",
      "    \n",
      "current_ev = sg.get_event(1)\n",
      "print current_ev\n",
      "def propose_current_location(sg, fix_result=None, **kwargs):\n",
      "    if fix_result is not None:\n",
      "        return 0.0\n",
      "    else:\n",
      "        return current_ev, 0.0, None\n"
     ],
     "language": "python",
     "metadata": {},
     "outputs": [
      {
       "output_type": "stream",
       "stream": "stdout",
       "text": [
        "evid None, loc 178.75 W 16.92 S, depth 1.8km, time 1238889895.5, mb 4.7, natural source\n",
        "8 evid None, loc 127.19 E 6.63 N, depth 632.1km, time 1238890056.7, mb 4.5, natural source\n",
        "1 evid None, loc 90.69 E 34.24 N, depth 0.0km, time 1238890450.3, mb 5.8, natural source\n",
        "2 evid None, loc 66.80 E 15.69 S, depth 14.8km, time 1238890069.2, mb 5.2, natural source\n",
        "43 evid None, loc 78.24 E 50.28 N, depth 0.0km, time 1238890545.4, mb 4.3, natural source\n",
        "5 evid None, loc 175.09 W 3.43 S, depth 0.0km, time 1238889824.1, mb 4.9, natural source\n",
        "evid None, loc 90.69 E 34.24 N, depth 0.0km, time 1238890450.3, mb 5.8, natural source\n"
       ]
      }
     ],
     "prompt_number": 5
    },
    {
     "cell_type": "code",
     "collapsed": false,
     "input": [],
     "language": "python",
     "metadata": {},
     "outputs": [],
     "prompt_number": 5
    },
    {
     "cell_type": "code",
     "collapsed": false,
     "input": [
      "np.random.seed(6)\n",
      "lqf, lqb, revert = ev_death_helper_full(sg, 5, hough_location_proposal)\n",
      "\n",
      "\n",
      "\n",
      "ev2, lp2, _ = overpropose_new_locations(sg)\n",
      "print \"overproposed ev\", ev2, lp2\n",
      "\n",
      "#visualize_hough_array(hough_array, sites, ax=ax)\n",
      "\n",
      "revert()"
     ],
     "language": "python",
     "metadata": {},
     "outputs": [
      {
       "output_type": "stream",
       "stream": "stdout",
       "text": [
        "reverse dist 5.11158006648 0.0912090980297 old mb 4.92968248548 lp 0.0969833289198\n",
        "proposing to deassociate at AS12 (lp -0.0)\n",
        "peak_lp is -5.52680558027 for 1238890413.16\n",
        "amp_log_p -2.86695037472 for 0.863981960014 under Gaussian(mean=-3.118801, std=3.143275)\n",
        "proposing to delete at JHJ (lp -0.002470, reverse -12.588966)\n",
        "peak_lp is -1.16094121645 for 1238890483.5\n",
        "amp_log_p"
       ]
      },
      {
       "output_type": "stream",
       "stream": "stdout",
       "text": [
        " -3.02867583735 for -2.14553189343 under Gaussian(mean=-5.298209, std=1.810482)\n",
        "proposing to delete at USA0 (lp -0.002470, reverse -8.725769)\n",
        "proposing to deassociate at AAK (lp -0.0)\n",
        "proposing to deassociate at QSPA (lp -0.0)\n",
        "proposing to deassociate at MK31 (lp -0.0)\n",
        "proposing to deassociate at FIA0 (lp -0.0)\n",
        "proposing to deassociate at STKA (lp -0.0)\n",
        "proposing to deassociate at VNDA (lp -0.0)\n",
        "peak_lp is -3.80783658707 for 1238890442.45\n",
        "amp_log_p -2.85561596292 for -1.95088248447 under Gaussian(mean=-4.471008, std=1.412692)\n",
        "proposing to delete at PEA0 (lp -0.002470, reverse -11.727341)\n",
        "peak_lp is -2.13652897083 for 1238890975.05\n",
        "amp_log_p"
       ]
      },
      {
       "output_type": "stream",
       "stream": "stdout",
       "text": [
        " -2.28962943613 for -9.05192517468 under Gaussian(mean=-11.197678, std=1.597171)\n",
        "proposing to delete at KBZ (lp -0.002470, reverse -13.586496)\n",
        "peak_lp is -1.83990110981 for 1238890595.49\n",
        "amp_log_p -3.67349041803 for -0.339976186075 under Gaussian(mean=-6.587879, std=3.659938)\n",
        "proposing to delete at CM16 (lp -0.002470, reverse -10.553711)\n",
        "peak_lp is -1.39974760932 for 1238890439.69\n",
        "amp_log_p -3.74605476811 for -1.0845573099 under Gaussian(mean=-4.669079, std=1.665057)\n",
        "proposing to delete at JKA (lp -0.002470, reverse -11.098743)\n",
        "peak_lp is"
       ]
      },
      {
       "output_type": "stream",
       "stream": "stdout",
       "text": [
        " -1.3093528984 for 1238890553.52\n",
        "amp_log_p -6.24400499695 for -2.70330243569 under Gaussian(mean=-6.454147, std=1.166320)\n",
        "> /home/dmoore/python/sigvisa/infer/event_birthdeath.py(413)heuristic_amplitude_posterior()\n",
        "-> if amp_dist_signal is None:\n"
       ]
      },
      {
       "name": "stdout",
       "output_type": "stream",
       "stream": "stdout",
       "text": [
        "(Pdb) print prior_dist\n"
       ]
      },
      {
       "output_type": "stream",
       "stream": "stdout",
       "text": [
        "Gaussian(mean=-2.942162, std=1.000614)\n"
       ]
      },
      {
       "name": "stdout",
       "output_type": "stream",
       "stream": "stdout",
       "text": [
        "(Pdb) print amp_signal_dist\n"
       ]
      },
      {
       "output_type": "stream",
       "stream": "stdout",
       "text": [
        "*** NameError: name 'amp_signal_dist' is not defined\n"
       ]
      },
      {
       "name": "stdout",
       "output_type": "stream",
       "stream": "stdout",
       "text": [
        "(Pdb) print amp_dist_signal\n"
       ]
      },
      {
       "output_type": "stream",
       "stream": "stdout",
       "text": [
        "Gaussian(mean=-6.454147, std=1.166320)\n"
       ]
      },
      {
       "name": "stdout",
       "output_type": "stream",
       "stream": "stdout",
       "text": [
        "(Pdb) print np.log(wn.nm.c)\n"
       ]
      },
      {
       "output_type": "stream",
       "stream": "stdout",
       "text": [
        "-4.12150628456\n"
       ]
      },
      {
       "name": "stdout",
       "output_type": "stream",
       "stream": "stdout",
       "text": [
        "(Pdb) np.log(wn.nm.c*3)\n"
       ]
      },
      {
       "output_type": "stream",
       "stream": "stdout",
       "text": [
        "-3.0228939958885523\n"
       ]
      },
      {
       "name": "stdout",
       "output_type": "stream",
       "stream": "stdout",
       "text": [
        "(Pdb) np.log(wn.nm.c*10)\n"
       ]
      },
      {
       "output_type": "stream",
       "stream": "stdout",
       "text": [
        "-1.8189211915626162\n"
       ]
      },
      {
       "name": "stdout",
       "output_type": "stream",
       "stream": "stdout",
       "text": [
        "(Pdb) np.log(3)\n"
       ]
      },
      {
       "output_type": "stream",
       "stream": "stdout",
       "text": [
        "1.0986122886681098\n"
       ]
      },
      {
       "name": "stdout",
       "output_type": "stream",
       "stream": "stdout",
       "text": [
        "(Pdb) quit\n"
       ]
      },
      {
       "ename": "BdbQuit",
       "evalue": "",
       "output_type": "pyerr",
       "traceback": [
        "\u001b[1;31m---------------------------------------------------------------------------\u001b[0m\n\u001b[1;31mBdbQuit\u001b[0m                                   Traceback (most recent call last)",
        "\u001b[1;32m<ipython-input-6-68ba7d643a41>\u001b[0m in \u001b[0;36m<module>\u001b[1;34m()\u001b[0m\n\u001b[0;32m      1\u001b[0m \u001b[0mnp\u001b[0m\u001b[1;33m.\u001b[0m\u001b[0mrandom\u001b[0m\u001b[1;33m.\u001b[0m\u001b[0mseed\u001b[0m\u001b[1;33m(\u001b[0m\u001b[1;36m6\u001b[0m\u001b[1;33m)\u001b[0m\u001b[1;33m\u001b[0m\u001b[0m\n\u001b[1;32m----> 2\u001b[1;33m \u001b[0mlqf\u001b[0m\u001b[1;33m,\u001b[0m \u001b[0mlqb\u001b[0m\u001b[1;33m,\u001b[0m \u001b[0mrevert\u001b[0m \u001b[1;33m=\u001b[0m \u001b[0mev_death_helper_full\u001b[0m\u001b[1;33m(\u001b[0m\u001b[0msg\u001b[0m\u001b[1;33m,\u001b[0m \u001b[1;36m5\u001b[0m\u001b[1;33m,\u001b[0m \u001b[0mhough_location_proposal\u001b[0m\u001b[1;33m)\u001b[0m\u001b[1;33m\u001b[0m\u001b[0m\n\u001b[0m\u001b[0;32m      3\u001b[0m \u001b[1;33m\u001b[0m\u001b[0m\n\u001b[0;32m      4\u001b[0m \u001b[1;33m\u001b[0m\u001b[0m\n\u001b[0;32m      5\u001b[0m \u001b[1;33m\u001b[0m\u001b[0m\n",
        "\u001b[1;32m/home/dmoore/python/sigvisa/infer/event_birthdeath.py\u001b[0m in \u001b[0;36mev_death_helper_full\u001b[1;34m(sg, eid, location_proposal)\u001b[0m\n\u001b[0;32m    674\u001b[0m     \u001b[0mreset_coda_heights\u001b[0m\u001b[1;33m(\u001b[0m\u001b[1;33m)\u001b[0m\u001b[1;33m\u001b[0m\u001b[0m\n\u001b[0;32m    675\u001b[0m \u001b[1;33m\u001b[0m\u001b[0m\n\u001b[1;32m--> 676\u001b[1;33m     \u001b[0mlog_qforward\u001b[0m\u001b[1;33m,\u001b[0m \u001b[0mlog_qbackward\u001b[0m\u001b[1;33m,\u001b[0m \u001b[0mrevert_move\u001b[0m \u001b[1;33m=\u001b[0m \u001b[0mev_death_helper\u001b[0m\u001b[1;33m(\u001b[0m\u001b[0msg\u001b[0m\u001b[1;33m,\u001b[0m \u001b[0meid\u001b[0m\u001b[1;33m,\u001b[0m \u001b[0massociate_using_mb\u001b[0m\u001b[1;33m=\u001b[0m\u001b[0mFalse\u001b[0m\u001b[1;33m)\u001b[0m\u001b[1;33m\u001b[0m\u001b[0m\n\u001b[0m\u001b[0;32m    677\u001b[0m     \u001b[0mlp_loc\u001b[0m \u001b[1;33m=\u001b[0m \u001b[0mlocation_proposal\u001b[0m\u001b[1;33m(\u001b[0m\u001b[0msg\u001b[0m\u001b[1;33m,\u001b[0m \u001b[0mfix_result\u001b[0m\u001b[1;33m=\u001b[0m\u001b[0mev\u001b[0m\u001b[1;33m)\u001b[0m\u001b[1;33m\u001b[0m\u001b[0m\n\u001b[0;32m    678\u001b[0m     \u001b[1;32mprint\u001b[0m \u001b[1;34m\"death helper\"\u001b[0m\u001b[1;33m,\u001b[0m \u001b[0mlqb\u001b[0m\u001b[1;33m,\u001b[0m \u001b[0mlog_qbackward\u001b[0m\u001b[1;33m,\u001b[0m \u001b[0mlp_loc\u001b[0m\u001b[1;33m\u001b[0m\u001b[0m\n",
        "\u001b[1;32m/home/dmoore/python/sigvisa/infer/event_birthdeath.py\u001b[0m in \u001b[0;36mev_death_helper\u001b[1;34m(sg, eid, associate_using_mb)\u001b[0m\n\u001b[0;32m    630\u001b[0m                     \u001b[0mtemplate_param_array\u001b[0m \u001b[1;33m=\u001b[0m \u001b[0msg\u001b[0m\u001b[1;33m.\u001b[0m\u001b[0mget_arrival_vals\u001b[0m\u001b[1;33m(\u001b[0m\u001b[0meid\u001b[0m\u001b[1;33m,\u001b[0m \u001b[0msta\u001b[0m\u001b[1;33m,\u001b[0m \u001b[0mphase\u001b[0m\u001b[1;33m,\u001b[0m \u001b[0mband\u001b[0m\u001b[1;33m,\u001b[0m \u001b[0mchan\u001b[0m\u001b[1;33m)\u001b[0m\u001b[1;33m\u001b[0m\u001b[0m\n\u001b[0;32m    631\u001b[0m                     \u001b[0minverse_fns\u001b[0m\u001b[1;33m.\u001b[0m\u001b[0mappend\u001b[0m\u001b[1;33m(\u001b[0m\u001b[1;32mlambda\u001b[0m \u001b[0msta\u001b[0m\u001b[1;33m=\u001b[0m\u001b[0msta\u001b[0m\u001b[1;33m,\u001b[0m\u001b[0mphase\u001b[0m\u001b[1;33m=\u001b[0m\u001b[0mphase\u001b[0m\u001b[1;33m,\u001b[0m\u001b[0mband\u001b[0m\u001b[1;33m=\u001b[0m\u001b[0mband\u001b[0m\u001b[1;33m,\u001b[0m\u001b[0mchan\u001b[0m\u001b[1;33m=\u001b[0m\u001b[0mchan\u001b[0m\u001b[1;33m,\u001b[0m\u001b[0mtemplate_param_array\u001b[0m\u001b[1;33m=\u001b[0m\u001b[0mtemplate_param_array\u001b[0m \u001b[1;33m:\u001b[0m \u001b[0msg\u001b[0m\u001b[1;33m.\u001b[0m\u001b[0mset_template\u001b[0m\u001b[1;33m(\u001b[0m\u001b[0meid\u001b[0m\u001b[1;33m,\u001b[0m\u001b[0msta\u001b[0m\u001b[1;33m,\u001b[0m \u001b[0mphase\u001b[0m\u001b[1;33m,\u001b[0m \u001b[0mband\u001b[0m\u001b[1;33m,\u001b[0m \u001b[0mchan\u001b[0m\u001b[1;33m,\u001b[0m \u001b[0mtemplate_param_array\u001b[0m\u001b[1;33m)\u001b[0m\u001b[1;33m)\u001b[0m\u001b[1;33m\u001b[0m\u001b[0m\n\u001b[1;32m--> 632\u001b[1;33m                     \u001b[0mtmp\u001b[0m \u001b[1;33m=\u001b[0m \u001b[0mpropose_phase_template\u001b[0m\u001b[1;33m(\u001b[0m\u001b[0msg\u001b[0m\u001b[1;33m,\u001b[0m \u001b[0msta\u001b[0m\u001b[1;33m,\u001b[0m \u001b[0meid\u001b[0m\u001b[1;33m,\u001b[0m \u001b[0mphase\u001b[0m\u001b[1;33m,\u001b[0m \u001b[0mtemplate_param_array\u001b[0m\u001b[1;33m,\u001b[0m \u001b[0mfix_result\u001b[0m\u001b[1;33m=\u001b[0m\u001b[0mTrue\u001b[0m\u001b[1;33m)\u001b[0m\u001b[1;33m\u001b[0m\u001b[0m\n\u001b[0m\u001b[0;32m    633\u001b[0m                     \u001b[0mreverse_logprob\u001b[0m \u001b[1;33m+=\u001b[0m \u001b[0mtmp\u001b[0m\u001b[1;33m\u001b[0m\u001b[0m\n\u001b[0;32m    634\u001b[0m                     \u001b[1;32mprint\u001b[0m \u001b[1;34m\"proposing to delete at %s (lp %f, reverse %f)\"\u001b[0m\u001b[1;33m%\u001b[0m \u001b[1;33m(\u001b[0m\u001b[0msta\u001b[0m\u001b[1;33m,\u001b[0m \u001b[0mdeassociate_logprob\u001b[0m\u001b[1;33m,\u001b[0m \u001b[0mtmp\u001b[0m\u001b[1;33m)\u001b[0m\u001b[1;33m\u001b[0m\u001b[0m\n",
        "\u001b[1;32m/home/dmoore/python/sigvisa/infer/event_birthdeath.py\u001b[0m in \u001b[0;36mpropose_phase_template\u001b[1;34m(sg, sta, eid, phase, tmvals, smart_peak_time, fix_result, ev)\u001b[0m\n\u001b[0;32m    496\u001b[0m             \u001b[0mtmvals\u001b[0m\u001b[1;33m[\u001b[0m\u001b[1;34m'coda_height'\u001b[0m\u001b[1;33m]\u001b[0m \u001b[1;33m=\u001b[0m \u001b[0mamplitude\u001b[0m\u001b[1;33m\u001b[0m\u001b[0m\n\u001b[0;32m    497\u001b[0m             \u001b[0mtmvals\u001b[0m\u001b[1;33m[\u001b[0m\u001b[1;34m\"arrival_time\"\u001b[0m\u001b[1;33m]\u001b[0m \u001b[1;33m=\u001b[0m \u001b[0mproposed_atime\u001b[0m\u001b[1;33m\u001b[0m\u001b[0m\n\u001b[1;32m--> 498\u001b[1;33m             \u001b[0mheuristic_amplitude_posterior\u001b[0m\u001b[1;33m(\u001b[0m\u001b[0msg\u001b[0m\u001b[1;33m,\u001b[0m \u001b[0mwn\u001b[0m\u001b[1;33m,\u001b[0m \u001b[0mtmvals\u001b[0m\u001b[1;33m,\u001b[0m \u001b[0meid\u001b[0m\u001b[1;33m,\u001b[0m \u001b[0mphase\u001b[0m\u001b[1;33m,\u001b[0m \u001b[0mdebug\u001b[0m\u001b[1;33m=\u001b[0m\u001b[0mTrue\u001b[0m\u001b[1;33m)\u001b[0m\u001b[1;33m\u001b[0m\u001b[0m\n\u001b[0m\u001b[0;32m    499\u001b[0m \u001b[1;33m\u001b[0m\u001b[0m\n\u001b[0;32m    500\u001b[0m \u001b[1;33m\u001b[0m\u001b[0m\n",
        "\u001b[1;32m/home/dmoore/python/sigvisa/infer/event_birthdeath.py\u001b[0m in \u001b[0;36mheuristic_amplitude_posterior\u001b[1;34m(sg, wn, tmvals, eid, phase, debug)\u001b[0m\n\u001b[0;32m    411\u001b[0m         \u001b[1;32mimport\u001b[0m \u001b[0mpdb\u001b[0m\u001b[1;33m;\u001b[0m \u001b[0mpdb\u001b[0m\u001b[1;33m.\u001b[0m\u001b[0mset_trace\u001b[0m\u001b[1;33m(\u001b[0m\u001b[1;33m)\u001b[0m\u001b[1;33m\u001b[0m\u001b[0m\n\u001b[0;32m    412\u001b[0m \u001b[1;33m\u001b[0m\u001b[0m\n\u001b[1;32m--> 413\u001b[1;33m     \u001b[1;32mif\u001b[0m \u001b[0mamp_dist_signal\u001b[0m \u001b[1;32mis\u001b[0m \u001b[0mNone\u001b[0m\u001b[1;33m:\u001b[0m\u001b[1;33m\u001b[0m\u001b[0m\n\u001b[0m\u001b[0;32m    414\u001b[0m         \u001b[1;32mreturn\u001b[0m \u001b[0mprior_dist\u001b[0m\u001b[1;33m\u001b[0m\u001b[0m\n\u001b[0;32m    415\u001b[0m \u001b[1;33m\u001b[0m\u001b[0m\n",
        "\u001b[1;32m/home/dmoore/python/sigvisa/infer/event_birthdeath.py\u001b[0m in \u001b[0;36mheuristic_amplitude_posterior\u001b[1;34m(sg, wn, tmvals, eid, phase, debug)\u001b[0m\n\u001b[0;32m    411\u001b[0m         \u001b[1;32mimport\u001b[0m \u001b[0mpdb\u001b[0m\u001b[1;33m;\u001b[0m \u001b[0mpdb\u001b[0m\u001b[1;33m.\u001b[0m\u001b[0mset_trace\u001b[0m\u001b[1;33m(\u001b[0m\u001b[1;33m)\u001b[0m\u001b[1;33m\u001b[0m\u001b[0m\n\u001b[0;32m    412\u001b[0m \u001b[1;33m\u001b[0m\u001b[0m\n\u001b[1;32m--> 413\u001b[1;33m     \u001b[1;32mif\u001b[0m \u001b[0mamp_dist_signal\u001b[0m \u001b[1;32mis\u001b[0m \u001b[0mNone\u001b[0m\u001b[1;33m:\u001b[0m\u001b[1;33m\u001b[0m\u001b[0m\n\u001b[0m\u001b[0;32m    414\u001b[0m         \u001b[1;32mreturn\u001b[0m \u001b[0mprior_dist\u001b[0m\u001b[1;33m\u001b[0m\u001b[0m\n\u001b[0;32m    415\u001b[0m \u001b[1;33m\u001b[0m\u001b[0m\n",
        "\u001b[1;32m/usr/lib/python2.7/bdb.pyc\u001b[0m in \u001b[0;36mtrace_dispatch\u001b[1;34m(self, frame, event, arg)\u001b[0m\n\u001b[0;32m     46\u001b[0m             \u001b[1;32mreturn\u001b[0m \u001b[1;31m# None\u001b[0m\u001b[1;33m\u001b[0m\u001b[0m\n\u001b[0;32m     47\u001b[0m         \u001b[1;32mif\u001b[0m \u001b[0mevent\u001b[0m \u001b[1;33m==\u001b[0m \u001b[1;34m'line'\u001b[0m\u001b[1;33m:\u001b[0m\u001b[1;33m\u001b[0m\u001b[0m\n\u001b[1;32m---> 48\u001b[1;33m             \u001b[1;32mreturn\u001b[0m \u001b[0mself\u001b[0m\u001b[1;33m.\u001b[0m\u001b[0mdispatch_line\u001b[0m\u001b[1;33m(\u001b[0m\u001b[0mframe\u001b[0m\u001b[1;33m)\u001b[0m\u001b[1;33m\u001b[0m\u001b[0m\n\u001b[0m\u001b[0;32m     49\u001b[0m         \u001b[1;32mif\u001b[0m \u001b[0mevent\u001b[0m \u001b[1;33m==\u001b[0m \u001b[1;34m'call'\u001b[0m\u001b[1;33m:\u001b[0m\u001b[1;33m\u001b[0m\u001b[0m\n\u001b[0;32m     50\u001b[0m             \u001b[1;32mreturn\u001b[0m \u001b[0mself\u001b[0m\u001b[1;33m.\u001b[0m\u001b[0mdispatch_call\u001b[0m\u001b[1;33m(\u001b[0m\u001b[0mframe\u001b[0m\u001b[1;33m,\u001b[0m \u001b[0marg\u001b[0m\u001b[1;33m)\u001b[0m\u001b[1;33m\u001b[0m\u001b[0m\n",
        "\u001b[1;32m/usr/lib/python2.7/bdb.pyc\u001b[0m in \u001b[0;36mdispatch_line\u001b[1;34m(self, frame)\u001b[0m\n\u001b[0;32m     65\u001b[0m         \u001b[1;32mif\u001b[0m \u001b[0mself\u001b[0m\u001b[1;33m.\u001b[0m\u001b[0mstop_here\u001b[0m\u001b[1;33m(\u001b[0m\u001b[0mframe\u001b[0m\u001b[1;33m)\u001b[0m \u001b[1;32mor\u001b[0m \u001b[0mself\u001b[0m\u001b[1;33m.\u001b[0m\u001b[0mbreak_here\u001b[0m\u001b[1;33m(\u001b[0m\u001b[0mframe\u001b[0m\u001b[1;33m)\u001b[0m\u001b[1;33m:\u001b[0m\u001b[1;33m\u001b[0m\u001b[0m\n\u001b[0;32m     66\u001b[0m             \u001b[0mself\u001b[0m\u001b[1;33m.\u001b[0m\u001b[0muser_line\u001b[0m\u001b[1;33m(\u001b[0m\u001b[0mframe\u001b[0m\u001b[1;33m)\u001b[0m\u001b[1;33m\u001b[0m\u001b[0m\n\u001b[1;32m---> 67\u001b[1;33m             \u001b[1;32mif\u001b[0m \u001b[0mself\u001b[0m\u001b[1;33m.\u001b[0m\u001b[0mquitting\u001b[0m\u001b[1;33m:\u001b[0m \u001b[1;32mraise\u001b[0m \u001b[0mBdbQuit\u001b[0m\u001b[1;33m\u001b[0m\u001b[0m\n\u001b[0m\u001b[0;32m     68\u001b[0m         \u001b[1;32mreturn\u001b[0m \u001b[0mself\u001b[0m\u001b[1;33m.\u001b[0m\u001b[0mtrace_dispatch\u001b[0m\u001b[1;33m\u001b[0m\u001b[0m\n\u001b[0;32m     69\u001b[0m \u001b[1;33m\u001b[0m\u001b[0m\n",
        "\u001b[1;31mBdbQuit\u001b[0m: "
       ]
      }
     ],
     "prompt_number": 6
    },
    {
     "cell_type": "code",
     "collapsed": false,
     "input": [
      "seed=26\n",
      "np.random.seed(seed)\n",
      "print sg.current_log_p_breakdown()\n",
      "try:\n",
      "    lp_new, lp_old, log_qforward, log_qbackward, revert_move = rebirth_events_helper(sg, (5,), \n",
      "        location_proposal=overpropose_new_locations)\n",
      "    print lp_new, lp_old, log_qforward, log_qbackward\n",
      "    print \"acceptance prob\", lp_new + log_qbackward - (lp_old + log_qforward)\n",
      "    sg.current_log_p_breakdown()\n",
      "    \n",
      "    \n",
      "\n",
      "    revert_move()\n",
      "except Exception as e:\n",
      "    import sys, traceback, pdb\n",
      "    print e\n",
      "    type, value, tb = sys.exc_info()\n",
      "    traceback.print_exc()\n",
      "    pdb.post_mortem(tb)\n"
     ],
     "language": "python",
     "metadata": {},
     "outputs": [
      {
       "output_type": "stream",
       "stream": "stdout",
       "text": [
        "n_uatemplate: -506.6\n",
        "n_event: -38.4\n",
        "ev priors: ev -95.3\n",
        "tt_residual: ev -577.3\n",
        "ev global cost (n + priors + tt): -711.0\n",
        "coda_decay: ev -189.9 ua -44.8 total -234.7\n",
        "peak_decay: ev -195.3 ua -43.3 total -238.6\n",
        "peak_offset: ev -166.8 ua -78.9 total -245.7\n",
        "coda_height: ev -193.8 ua -47.4 total -241.2\n",
        "wiggles: ev 0.0 ua 0.0 total 0.0\n",
        "total param: ev -745.8 ua -214.4 total -960.2\n",
        "non signals: ev -1456.8 ua -720.9 total -2177.7\n",
        "signals: 39122.3\n",
        "overall: 36944.5\n",
        "official: 36944.5"
       ]
      },
      {
       "output_type": "stream",
       "stream": "stdout",
       "text": [
        "\n",
        "None\n",
        "reverse dist"
       ]
      },
      {
       "output_type": "stream",
       "stream": "stdout",
       "text": [
        " 5.11158006648 0.0912090980297 old mb 4.92968248548 lp 0.0969833289198\n",
        "proposing to deassociate at AS12 (lp -0.0)\n",
        "peak_lp is -5.52680558027 for 1238890413.16\n",
        "amp_log_p -1.05741075989 for 0.863981960014 under Gaussian(mean=1.238642, std=1.081645)\n",
        "proposing to delete at JHJ (lp -0.002470, reverse -10.779426)\n",
        "peak_lp is -1.16094121645 for 1238890483.5\n",
        "amp_log_p"
       ]
      },
      {
       "output_type": "stream",
       "stream": "stdout",
       "text": [
        " -1.51809957805 for -2.14553189343 under Gaussian(mean=-3.205686, std=0.877456)\n",
        "proposing to delete at USA0 (lp -0.002470, reverse -7.215193)\n",
        "proposing to deassociate at AAK (lp -0.0)\n",
        "proposing to deassociate at QSPA (lp -0.0)\n",
        "proposing to deassociate at MK31 (lp -0.0)\n",
        "proposing to deassociate at FIA0 (lp -0.0)\n",
        "proposing to deassociate at STKA (lp -0.0)\n",
        "proposing to deassociate at VNDA (lp -0.0)\n",
        "peak_lp is -3.80783658707 for 1238890442.45\n",
        "amp_log_p -1.40752430168 for -1.95088248447 under Gaussian(mean=-2.911278, std=0.817462)\n",
        "proposing to delete at PEA0 (lp -0.002470, reverse -10.279249)\n",
        "peak_lp is -2.13652897083 for 1238890975.05\n",
        "amp_log_p"
       ]
      },
      {
       "output_type": "stream",
       "stream": "stdout",
       "text": [
        " -2.28962943613 for -9.05192517468 under Gaussian(mean=-11.197678, std=1.597171)\n",
        "proposing to delete at KBZ (lp -0.002470, reverse -13.586496)\n",
        "peak_lp is -1.83990110981 for 1238890595.49\n",
        "amp_log_p -1.87131196121 for -0.339976186075 under Gaussian(mean=-1.698922, std=0.968528)\n",
        "proposing to delete at CM16 (lp -0.002470, reverse -8.751533)\n",
        "peak_lp is -1.39974760932 for 1238890439.69\n",
        "amp_log_p -0.775553757455 for -1.0845573099 under Gaussian(mean=-1.178063, std=0.861330)\n",
        "proposing to delete at JKA (lp -0.002470, reverse -8.128242)\n",
        "peak_lp is -1.3093528984 for 1238890553.52\n",
        "amp_log_p"
       ]
      },
      {
       "output_type": "stream",
       "stream": "stdout",
       "text": [
        " -3.23200613899 for -2.70330243569 under Gaussian(mean=-4.431153, std=0.759430)\n",
        "proposing to delete at YKR8 (lp -0.002470, reverse -13.259636)\n",
        "proposing to deassociate at BVA0 (lp -0.0)\n",
        "proposing to deassociate at WR1 (lp -0.0)\n",
        "proposing to deassociate at FITZ (lp -0.0)\n",
        "peak_lp is -4.29418010047 for 1238890509.34\n",
        "amp_log_p -1.00489233745 for -1.87158044926 under Gaussian(mean=-1.386603, std=0.958930)\n",
        "proposing to delete at IL31 (lp -0.002470, reverse -10.195055)\n",
        "peak_lp is -5.47280986882 for 1238890460.84\n",
        "amp_log_p"
       ]
      },
      {
       "output_type": "stream",
       "stream": "stdout",
       "text": [
        " -2.59829178143 for -2.95821549314 under Gaussian(mean=-1.171928, std=0.964308)\n",
        "proposing to delete at JNU (lp -0.002470, reverse -13.064385)\n",
        "proposing to deassociate at SNAA (lp -0.0)\n",
        "proposing to deassociate at NB200 (lp -0.0)\n",
        "proposing to deassociate at NWAO (lp -0.0)\n",
        "reverse deassociation AS12 5 P lp -0.000050\n",
        "reverse deletion JHJ 5 P lp 0.000000\n",
        "reverse deletion USA0 5 P lp 0.000000\n",
        "reverse deassociation AAK 5 P lp -1.107488"
       ]
      },
      {
       "output_type": "stream",
       "stream": "stdout",
       "text": [
        "\n",
        "reverse deassociation QSPA 5 P lp -0.000050\n",
        "reverse deassociation MK31 5 P lp -0.000050\n",
        "reverse deassociation FIA0 5 P lp -0.000067"
       ]
      },
      {
       "output_type": "stream",
       "stream": "stdout",
       "text": [
        "\n",
        "reverse deassociation STKA 5 P lp -0.000050\n",
        "reverse deassociation VNDA 5 P lp -0.000050\n",
        "reverse deletion PEA0 5 P lp 0.000000\n",
        "reverse deletion KBZ 5 P lp 0.000000\n",
        "reverse deletion CM16 5 P lp 0.000000\n",
        "reverse deletion JKA 5 P lp -0.000050\n",
        "reverse deletion YKR8 5 P lp -0.000050\n",
        "reverse deassociation BVA0 5 P lp -0.000050"
       ]
      },
      {
       "output_type": "stream",
       "stream": "stdout",
       "text": [
        "\n",
        "reverse deassociation WR1 5 P lp -0.000050\n",
        "reverse deassociation FITZ 5 P lp -0.000075\n",
        "reverse deletion IL31 5 P lp -0.000050\n",
        "reverse deletion JNU 5 P lp -0.000050\n",
        "reverse deassociation SNAA 5 P lp -0.000050"
       ]
      },
      {
       "output_type": "stream",
       "stream": "stdout",
       "text": [
        "\n",
        "reverse deassociation NB200 5 P lp -0.000076\n",
        "reverse deassociation NWAO 5 P lp -0.000075\n",
        "overproposing with seed"
       ]
      },
      {
       "output_type": "stream",
       "stream": "stdout",
       "text": [
        " 821\n",
        "proposing [  3.91383009e+02   1.71720390e+02   8.14973627e-05   1.23888990e+09] ['JKA', 'FIA0', 'BVA0'] [101, 188, 191]\n",
        "proposing [  8.47806943e+01  -3.65233645e+01   6.99014806e+02   1.23889004e+09] ['QSPA', 'FITZ', 'NB200'] [186, 193, 195]\n",
        "proposing [ -1.79596442e+02  -1.67423781e+01   3.50000357e+01   1.23888990e+09] ['JKA', 'VNDA', 'YKR8'] [101, 190, 160]\n",
        "proposing [ -1.75738406e+02  -5.03951195e+00   3.51614927e-06   1.23888979e+09] ['FITZ', 'BVA0', 'NWAO'] [158, 191, 196]\n",
        "proposing [  9.82307226e+01   1.27848387e+01   3.50000270e+01   1.23888987e+09] ['YKR8', 'WR1', 'FITZ'] [160, 192, 158]\n",
        "proposing"
       ]
      },
      {
       "output_type": "stream",
       "stream": "stdout",
       "text": [
        " [  8.21530369e+01  -3.48469872e+01   0.00000000e+00   1.23888966e+09] ['FIA0', 'JKA', 'FITZ'] [80, 101, 123]\n",
        "proposing"
       ]
      },
      {
       "output_type": "stream",
       "stream": "stdout",
       "text": [
        " [ -1.77627100e+02  -2.79795961e+00   4.01346913e-06   1.23888982e+09] ['BVA0', 'QSPA', 'STKA'] [191, 186, 189]\n",
        "proposing [  8.04954590e+01  -3.68134628e+01   5.68053733e-05   1.23889012e+09] ['NB200', 'SNAA', 'NWAO'] [168, 194, 196]\n",
        "proposing"
       ]
      },
      {
       "output_type": "stream",
       "stream": "stdout",
       "text": [
        " [ -1.84110527e+02  -3.75909651e+01   3.50000233e+01   1.23888981e+09] ['FITZ', 'JKA', 'IL31'] [123, 101, 161]\n",
        "proposing [ -1.70960900e+02  -7.43385225e+00   6.97174930e+02   1.23888988e+09] ['AS12', 'AAK', 'BVA0'] [184, 151, 191]\n",
        "proposing"
       ]
      },
      {
       "output_type": "stream",
       "stream": "stdout",
       "text": [
        " [  1.84337478e+02  -1.75856555e+01   4.42273345e-06   1.23888990e+09] ['YKR8', 'VNDA', 'QSPA'] [160, 190, 186]\n",
        "proposing [ -6.50453502e+01  -5.46324864e+01   6.44025539e-06   1.23888956e+09] ['STKA', 'AS12', 'YKR8'] [189, 184, 160]\n",
        "proposing [  2.07345028e+02   7.27981352e+00   6.99057275e+02   1.23888977e+09] ['SNAA', 'NWAO', 'AAK'] [194, 196, 172]\n",
        "proposing [  1.11385622e+02  -2.70862856e+01   3.50000532e+01   1.23888994e+09] ['JNU', 'VNDA', 'MK31'] [91, 190, 187]\n",
        "proposing [ -8.87650953e+01  -2.96216700e+01   6.98753153e+02   1.23888954e+09] ['AS12', 'BVA0', 'JKA'] [184, 191, 101]\n",
        "proposing"
       ]
      },
      {
       "output_type": "stream",
       "stream": "stdout",
       "text": [
        " [ -8.21925460e+02  -2.08527962e+02   6.99209368e+02   1.23888973e+09] ['QSPA', 'SNAA', 'WR1'] [186, 194, 192]\n",
        "proposing [  1.88441805e+02   1.90317369e+02   6.99468192e+02   1.23888960e+09] ['JNU', 'YKR8', 'FITZ'] [91, 160, 193]\n",
        "proposing"
       ]
      },
      {
       "output_type": "stream",
       "stream": "stdout",
       "text": [
        " [ -1.79139268e+02  -1.68217182e+01   1.48868847e-06   1.23888989e+09] ['WR1', 'VNDA', 'YKR8'] [192, 190, 160]\n",
        "proposing"
       ]
      },
      {
       "output_type": "stream",
       "stream": "stdout",
       "text": [
        " [  1.40631750e+02  -1.14956427e+01   3.49999994e+01   1.23888986e+09] ['NB200', 'IL31', 'VNDA'] [195, 161, 190]\n",
        "proposing [ -1.64163039e+02  -1.01519830e+01   2.40455220e-05   1.23888982e+09] ['AS12', 'QSPA', 'JNU'] [184, 186, 91]\n",
        "proposing [  1.46504819e+02   9.43160929e+00   3.50000576e+01   1.23888998e+09] ['BVA0', 'IL31', 'AS12'] [191, 161, 184]\n",
        "proposing [  1.13139887e+02  -5.57621372e+01   4.62148695e+02   1.23889028e+09] ['BVA0', 'AS12', 'MK31'] [191, 184, 187]\n",
        "proposing"
       ]
      },
      {
       "output_type": "stream",
       "stream": "stdout",
       "text": [
        " [  5.73773207e+01  -1.78362308e+02   6.99077287e+02   1.23889009e+09] ['YKR8', 'NWAO', 'IL31'] [160, 144, 161]\n",
        "proposing [ -1.34706798e+02  -6.00899043e+00   1.50000034e+01   1.23888979e+09] ['VNDA', 'FIA0', 'JKA'] [190, 80, 101]\n",
        "proposing [  1.91296800e+02  -2.31619029e+00   4.34272762e+02   1.23888985e+09] ['BVA0', 'FIA0', 'VNDA'] [191, 80, 190]\n",
        "proposing [  2.96589593e+01   2.34452987e+00   6.99017320e+02   1.23888973e+09] ['IL31', 'JKA', 'VNDA'] [161, 101, 190]\n",
        "proposing"
       ]
      },
      {
       "output_type": "stream",
       "stream": "stdout",
       "text": [
        " [ -1.89192979e+02  -5.67317820e+00   3.40399954e+02   1.23888988e+09] ['SNAA', 'QSPA', 'BVA0'] [194, 186, 191]\n",
        "proposing [  4.79183379e+01  -1.32025106e+02   6.98696928e+02   1.23888973e+09] ['WR1', 'IL31', 'NB200'] [192, 161, 195]\n",
        "proposing"
       ]
      },
      {
       "output_type": "stream",
       "stream": "stdout",
       "text": [
        " [  1.27415565e+02  -4.51137935e+01   3.50000117e+01   1.23889009e+09] ['AS12', 'SNAA', 'QSPA'] [184, 194, 186]\n",
        "proposing [  1.38224525e+02   2.48231616e+01   0.00000000e+00   1.23888993e+09] ['IL31', 'NB200', 'FIA0'] [161, 195, 80]\n",
        "proposing [  6.00971655e+01  -1.53642429e+02   2.30089383e+02   1.23888966e+09] ['AS12', 'NB200', 'JKA'] [184, 168, 101]\n",
        "proposing [  1.78105326e+02  -1.93624481e+01   3.50000656e+01   1.23888992e+09] ['WR1', 'AS12', 'NWAO'] [192, 184, 196]\n",
        "proposing"
       ]
      },
      {
       "output_type": "stream",
       "stream": "stdout",
       "text": [
        " [  7.09274696e+01   5.30071572e+01   1.50000185e+01   1.23889006e+09] ['YKR8', 'IL31', 'JNU'] [160, 161, 91]\n",
        "proposing"
       ]
      },
      {
       "output_type": "stream",
       "stream": "stdout",
       "text": [
        " [  1.31515852e+02  -2.57484464e+01   3.50000051e+01   1.23888995e+09] ['QSPA', 'VNDA', 'AAK'] [186, 190, 172]\n",
        "proposing [ -1.94709673e+02  -1.48065793e+01   3.50000244e+01   1.23888989e+09] ['FITZ', 'IL31', 'VNDA'] [158, 161, 190]\n",
        "proposing"
       ]
      },
      {
       "output_type": "stream",
       "stream": "stdout",
       "text": [
        " [  1.47675008e+02   3.90131246e+01   9.94979240e-05   1.23889020e+09] ['NB200', 'IL31', 'MK31'] [195, 161, 187]\n",
        "proposing"
       ]
      },
      {
       "output_type": "stream",
       "stream": "stdout",
       "text": [
        " [  1.39966672e+02  -4.61159239e+01   1.31439445e-05   1.23889008e+09] ['FITZ', 'AS12', 'SNAA'] [193, 184, 194]\n",
        "proposing [  2.27400609e+02  -3.96649448e+01   6.99059753e+02   1.23888970e+09] ['BVA0', 'JKA', 'FITZ'] [191, 101, 193]\n",
        "proposing [  2.11149018e+02   1.16176313e+01   9.51540291e+01   1.23888970e+09] ['AAK', 'NWAO', 'QSPA'] [163, 196, 186]\n",
        "proposing [ -1.70510792e+02  -1.51055472e+01   3.50001067e+01   1.23888983e+09] ['STKA', 'NB200', 'WR1'] [189, 195, 192]\n",
        "proposing [ -1.79596442e+02  -1.67423781e+01   3.50000357e+01   1.23888990e+09] from [('JKA', 101), ('VNDA', 190), ('YKR8', 160)] score 4.86014151573\n",
        "proposing [  9.82307226e+01   1.27848387e+01   3.50000270e+01   1.23888987e+09] from [('YKR8', 160), ('WR1', 192), ('FITZ', 158)] score 336.498507738\n",
        "proposing [ -1.77627100e+02  -2.79795961e+00   4.01346913e-06   1.23888982e+09] from [('BVA0', 191), ('QSPA', 186), ('STKA', 189)] score 159.505599022\n",
        "proposing [  8.04954590e+01  -3.68134628e+01   5.68053733e-05   1.23889012e+09] from [('NB200', 168), ('SNAA', 194), ('NWAO', 196)] score 370.545303106\n",
        "proposing [ -1.84110527e+02  -3.75909651e+01   3.50000233e+01   1.23888981e+09] from [('FITZ', 123), ('JKA', 101), ('IL31', 161)] score 251.195184231\n",
        "proposing [  1.84337478e+02  -1.75856555e+01   4.42273345e-06   1.23888990e+09] from [('YKR8', 160), ('VNDA', 190), ('QSPA', 186)] score 56.3722510338\n",
        "proposing [  1.11385622e+02  -2.70862856e+01   3.50000532e+01   1.23888994e+09] from [('JNU', 91), ('VNDA', 190), ('MK31', 187)] score 172.447505951\n",
        "proposing [ -1.79139268e+02  -1.68217182e+01   1.48868847e-06   1.23888989e+09] from [('WR1', 192), ('VNDA', 190), ('YKR8', 160)] score 2.31670403481\n",
        "proposing [  1.40631750e+02  -1.14956427e+01   3.49999994e+01   1.23888986e+09] from [('NB200', 195), ('IL31', 161), ('VNDA', 190)] score 27.8899407387\n",
        "proposing [  1.46504819e+02   9.43160929e+00   3.50000576e+01   1.23888998e+09] from [('BVA0', 191), ('IL31', 161), ('AS12', 184)] score 237.877994776\n",
        "proposing [ -1.34706798e+02  -6.00899043e+00   1.50000034e+01   1.23888979e+09] from [('VNDA', 190), ('FIA0', 80), ('JKA', 101)] score 85.1390693188\n",
        "proposing [  1.91296800e+02  -2.31619029e+00   4.34272762e+02   1.23888985e+09]"
       ]
      },
      {
       "output_type": "stream",
       "stream": "stdout",
       "text": [
        " from [('BVA0', 191), ('FIA0', 80), ('VNDA', 190)] score 31.9129219055\n",
        "proposing [  1.27415565e+02  -4.51137935e+01   3.50000117e+01   1.23889009e+09] from [('AS12', 184), ('SNAA', 194), ('QSPA', 186)] score 310.217226028\n",
        "proposing [  1.78105326e+02  -1.93624481e+01   3.50000656e+01   1.23888992e+09] from [('WR1', 192), ('AS12', 184), ('NWAO', 196)] score 34.3241722584\n",
        "proposing [  7.09274696e+01   5.30071572e+01   1.50000185e+01   1.23889006e+09] from [('YKR8', 160), ('IL31', 161), ('JNU', 91)] score 715.69218111\n",
        "proposing [  1.31515852e+02  -2.57484464e+01   3.50000051e+01   1.23888995e+09] from [('QSPA', 186), ('VNDA', 190), ('AAK', 172)] score 251.329848289\n",
        "proposing [ -1.94709673e+02  -1.48065793e+01   3.50000244e+01   1.23888989e+09] from [('FITZ', 158), ('IL31', 161), ('VNDA', 190)] score 17.3524208069\n",
        "proposing [  1.39966672e+02  -4.61159239e+01   1.31439445e-05   1.23889008e+09] from [('FITZ', 193), ('AS12', 184), ('SNAA', 194)] score 51.1939799786\n",
        "proposing [ -1.70510792e+02  -1.51055472e+01   3.50001067e+01   1.23888983e+09] from [('STKA', 189), ('NB200', 195), ('WR1', 192)] score 91.8407268524\n",
        "refining [ -1.79139268e+02  -1.68217182e+01   1.48868847e-06   1.23888989e+09] with residual 2.31670403481\n",
        "refined to [ -1.79313107e+02  -1.70049570e+01   1.76464738e+02   1.23888992e+09] with abserror 1.08547820552\n",
        "refining [ -1.79596442e+02  -1.67423781e+01   3.50000357e+01   1.23888990e+09] with residual 4.86014151573\n",
        "refined to [ -1.80184365e+02  -1.70337995e+01   5.73962052e+02   1.23888995e+09] with abserror 1.35234850292\n",
        "refining [ -1.94709673e+02  -1.48065793e+01   3.50000244e+01   1.23888989e+09] with residual 17.3524208069\n",
        "refined to [ -1.95666176e+02  -1.47062368e+01   6.73328181e+02   1.23888995e+09] with abserror 7.15056099707\n",
        "refining [  1.40631750e+02  -1.14956427e+01   3.49999994e+01   1.23888986e+09] with residual 27.8899407387\n",
        "refined to [  1.48063235e+02  -1.17943801e+01   6.96087733e+02   1.23888993e+09] with abserror 13.8425478919\n",
        "refining [  1.91296800e+02  -2.31619029e+00   4.34272762e+02   1.23888985e+09] with residual 31.9129219055\n",
        "refined to [  1.87517758e+02  -2.06428878e+00   5.91693550e+02   1.23888987e+09] with abserror 12.2486304754\n",
        "times: proposals 1.06 eval set choice 0.00 scoring 0.02 refinement 0.03\n",
        "death helper 0.0969833289198 -96.3675955364 -34.1476737528\n",
        "death 5 lqf -0.054331 lqb -130.418286\n",
        "overproposing with seed 821\n",
        "proposing [  3.91383009e+02   1.71720390e+02   8.14973627e-05   1.23888990e+09] ['JKA', 'FIA0', 'BVA0'] [101, 188, 191]\n",
        "proposing"
       ]
      },
      {
       "output_type": "stream",
       "stream": "stdout",
       "text": [
        " [  8.47806943e+01  -3.65233645e+01   6.99014806e+02   1.23889004e+09] ['QSPA', 'FITZ', 'NB200'] [186, 193, 195]\n",
        "proposing [ -1.79596442e+02  -1.67423781e+01   3.50000357e+01   1.23888990e+09] ['JKA', 'VNDA', 'YKR8'] [101, 190, 160]\n",
        "proposing [ -1.75738406e+02  -5.03951195e+00   3.51614927e-06   1.23888979e+09] ['FITZ', 'BVA0', 'NWAO'] [158, 191, 196]\n",
        "proposing [  9.82307226e+01   1.27848387e+01   3.50000270e+01   1.23888987e+09] ['YKR8', 'WR1', 'FITZ'] [160, 192, 158]\n",
        "proposing [  8.21530369e+01  -3.48469872e+01   0.00000000e+00   1.23888966e+09] ['FIA0', 'JKA', 'FITZ'] [80, 101, 123]\n",
        "proposing"
       ]
      },
      {
       "output_type": "stream",
       "stream": "stdout",
       "text": [
        " [ -1.77627100e+02  -2.79795961e+00   4.01346913e-06   1.23888982e+09] ['BVA0', 'QSPA', 'STKA'] [191, 186, 189]\n",
        "proposing [  8.04954590e+01  -3.68134628e+01   5.68053733e-05   1.23889012e+09] ['NB200', 'SNAA', 'NWAO'] [168, 194, 196]\n",
        "proposing"
       ]
      },
      {
       "output_type": "stream",
       "stream": "stdout",
       "text": [
        " [ -1.84110527e+02  -3.75909651e+01   3.50000233e+01   1.23888981e+09] ['FITZ', 'JKA', 'IL31'] [123, 101, 161]\n",
        "proposing [ -1.70960900e+02  -7.43385225e+00   6.97174930e+02   1.23888988e+09] ['AS12', 'AAK', 'BVA0'] [184, 151, 191]\n",
        "proposing"
       ]
      },
      {
       "output_type": "stream",
       "stream": "stdout",
       "text": [
        " [  1.84337478e+02  -1.75856555e+01   4.42273345e-06   1.23888990e+09] ['YKR8', 'VNDA', 'QSPA'] [160, 190, 186]\n",
        "proposing [ -6.50453502e+01  -5.46324864e+01   6.44025539e-06   1.23888956e+09] ['STKA', 'AS12', 'YKR8'] [189, 184, 160]\n",
        "proposing [  2.07345028e+02   7.27981352e+00   6.99057275e+02   1.23888977e+09] ['SNAA', 'NWAO', 'AAK'] [194, 196, 172]\n",
        "proposing [  1.11385622e+02  -2.70862856e+01   3.50000532e+01   1.23888994e+09] ['JNU', 'VNDA', 'MK31'] [91, 190, 187]\n",
        "proposing [ -8.87650953e+01  -2.96216700e+01   6.98753153e+02   1.23888954e+09] ['AS12', 'BVA0', 'JKA'] [184, 191, 101]\n",
        "proposing"
       ]
      },
      {
       "output_type": "stream",
       "stream": "stdout",
       "text": [
        " [ -8.21925460e+02  -2.08527962e+02   6.99209368e+02   1.23888973e+09] ['QSPA', 'SNAA', 'WR1'] [186, 194, 192]\n",
        "proposing [  1.88441805e+02   1.90317369e+02   6.99468192e+02   1.23888960e+09] ['JNU', 'YKR8', 'FITZ'] [91, 160, 193]\n",
        "proposing"
       ]
      },
      {
       "output_type": "stream",
       "stream": "stdout",
       "text": [
        " [ -1.79139268e+02  -1.68217182e+01   1.48868847e-06   1.23888989e+09] ['WR1', 'VNDA', 'YKR8'] [192, 190, 160]\n",
        "proposing"
       ]
      },
      {
       "output_type": "stream",
       "stream": "stdout",
       "text": [
        " [  1.40631750e+02  -1.14956427e+01   3.49999994e+01   1.23888986e+09] ['NB200', 'IL31', 'VNDA'] [195, 161, 190]\n",
        "proposing [ -1.64163039e+02  -1.01519830e+01   2.40455220e-05   1.23888982e+09] ['AS12', 'QSPA', 'JNU'] [184, 186, 91]\n",
        "proposing [  1.46504819e+02   9.43160929e+00   3.50000576e+01   1.23888998e+09] ['BVA0', 'IL31', 'AS12'] [191, 161, 184]\n",
        "proposing [  1.13139887e+02  -5.57621372e+01   4.62148695e+02   1.23889028e+09] ['BVA0', 'AS12', 'MK31'] [191, 184, 187]\n",
        "proposing"
       ]
      },
      {
       "output_type": "stream",
       "stream": "stdout",
       "text": [
        " [  5.73773207e+01  -1.78362308e+02   6.99077287e+02   1.23889009e+09] ['YKR8', 'NWAO', 'IL31'] [160, 144, 161]\n",
        "proposing [ -1.34706798e+02  -6.00899043e+00   1.50000034e+01   1.23888979e+09] ['VNDA', 'FIA0', 'JKA'] [190, 80, 101]\n",
        "proposing [  1.91296800e+02  -2.31619029e+00   4.34272762e+02   1.23888985e+09] ['BVA0', 'FIA0', 'VNDA'] [191, 80, 190]\n",
        "proposing [  2.96589593e+01   2.34452987e+00   6.99017320e+02   1.23888973e+09] ['IL31', 'JKA', 'VNDA'] [161, 101, 190]\n",
        "proposing"
       ]
      },
      {
       "output_type": "stream",
       "stream": "stdout",
       "text": [
        " [ -1.89192979e+02  -5.67317820e+00   3.40399954e+02   1.23888988e+09] ['SNAA', 'QSPA', 'BVA0'] [194, 186, 191]\n",
        "proposing [  4.79183379e+01  -1.32025106e+02   6.98696928e+02   1.23888973e+09] ['WR1', 'IL31', 'NB200'] [192, 161, 195]\n",
        "proposing"
       ]
      },
      {
       "output_type": "stream",
       "stream": "stdout",
       "text": [
        " [  1.27415565e+02  -4.51137935e+01   3.50000117e+01   1.23889009e+09] ['AS12', 'SNAA', 'QSPA'] [184, 194, 186]\n",
        "proposing [  1.38224525e+02   2.48231616e+01   0.00000000e+00   1.23888993e+09] ['IL31', 'NB200', 'FIA0'] [161, 195, 80]\n",
        "proposing [  6.00971655e+01  -1.53642429e+02   2.30089383e+02   1.23888966e+09] ['AS12', 'NB200', 'JKA'] [184, 168, 101]\n",
        "proposing [  1.78105326e+02  -1.93624481e+01   3.50000656e+01   1.23888992e+09] ['WR1', 'AS12', 'NWAO'] [192, 184, 196]\n",
        "proposing"
       ]
      },
      {
       "output_type": "stream",
       "stream": "stdout",
       "text": [
        " [  7.09274696e+01   5.30071572e+01   1.50000185e+01   1.23889006e+09] ['YKR8', 'IL31', 'JNU'] [160, 161, 91]\n",
        "proposing"
       ]
      },
      {
       "output_type": "stream",
       "stream": "stdout",
       "text": [
        " [  1.31515852e+02  -2.57484464e+01   3.50000051e+01   1.23888995e+09] ['QSPA', 'VNDA', 'AAK'] [186, 190, 172]\n",
        "proposing [ -1.94709673e+02  -1.48065793e+01   3.50000244e+01   1.23888989e+09] ['FITZ', 'IL31', 'VNDA'] [158, 161, 190]\n",
        "proposing"
       ]
      },
      {
       "output_type": "stream",
       "stream": "stdout",
       "text": [
        " [  1.47675008e+02   3.90131246e+01   9.94979240e-05   1.23889020e+09] ['NB200', 'IL31', 'MK31'] [195, 161, 187]\n",
        "proposing"
       ]
      },
      {
       "output_type": "stream",
       "stream": "stdout",
       "text": [
        " [  1.39966672e+02  -4.61159239e+01   1.31439445e-05   1.23889008e+09] ['FITZ', 'AS12', 'SNAA'] [193, 184, 194]\n",
        "proposing [  2.27400609e+02  -3.96649448e+01   6.99059753e+02   1.23888970e+09] ['BVA0', 'JKA', 'FITZ'] [191, 101, 193]\n",
        "proposing [  2.11149018e+02   1.16176313e+01   9.51540291e+01   1.23888970e+09] ['AAK', 'NWAO', 'QSPA'] [163, 196, 186]\n",
        "proposing [ -1.70510792e+02  -1.51055472e+01   3.50001067e+01   1.23888983e+09] ['STKA', 'NB200', 'WR1'] [189, 195, 192]\n",
        "proposing [ -1.79596442e+02  -1.67423781e+01   3.50000357e+01   1.23888990e+09] from [('JKA', 101), ('VNDA', 190), ('YKR8', 160)] score 4.86014151573\n",
        "proposing [  9.82307226e+01   1.27848387e+01   3.50000270e+01   1.23888987e+09] from [('YKR8', 160), ('WR1', 192), ('FITZ', 158)] score 336.498507738\n",
        "proposing [ -1.77627100e+02  -2.79795961e+00   4.01346913e-06   1.23888982e+09] from [('BVA0', 191), ('QSPA', 186), ('STKA', 189)] score 159.505599022\n",
        "proposing [  8.04954590e+01  -3.68134628e+01   5.68053733e-05   1.23889012e+09] from [('NB200', 168), ('SNAA', 194), ('NWAO', 196)] score 370.545303106\n",
        "proposing [ -1.84110527e+02  -3.75909651e+01   3.50000233e+01   1.23888981e+09] from [('FITZ', 123), ('JKA', 101), ('IL31', 161)] score 251.195184231\n",
        "proposing [  1.84337478e+02  -1.75856555e+01   4.42273345e-06   1.23888990e+09] from [('YKR8', 160), ('VNDA', 190), ('QSPA', 186)] score 56.3722510338\n",
        "proposing [  1.11385622e+02  -2.70862856e+01   3.50000532e+01   1.23888994e+09] from [('JNU', 91), ('VNDA', 190), ('MK31', 187)] score 172.447505951\n",
        "proposing [ -1.79139268e+02  -1.68217182e+01   1.48868847e-06   1.23888989e+09] from [('WR1', 192), ('VNDA', 190), ('YKR8', 160)] score 2.31670403481\n",
        "proposing [  1.40631750e+02  -1.14956427e+01   3.49999994e+01   1.23888986e+09] from [('NB200', 195), ('IL31', 161), ('VNDA', 190)] score 27.8899407387\n",
        "proposing [  1.46504819e+02   9.43160929e+00   3.50000576e+01   1.23888998e+09] from [('BVA0', 191), ('IL31', 161), ('AS12', 184)] score 237.877994776\n",
        "proposing [ -1.34706798e+02  -6.00899043e+00   1.50000034e+01   1.23888979e+09] from [('VNDA', 190), ('FIA0', 80), ('JKA', 101)] score 85.1390693188\n",
        "proposing [  1.91296800e+02  -2.31619029e+00   4.34272762e+02   1.23888985e+09] from [('BVA0', 191), ('FIA0', 80), ('VNDA', 190)] score 31.9129219055\n",
        "proposing [  1.27415565e+02  -4.51137935e+01   3.50000117e+01   1.23889009e+09] from [('AS12', 184), ('SNAA', 194), ('QSPA', 186)] score 310.217226028\n",
        "proposing [  1.78105326e+02  -1.93624481e+01   3.50000656e+01   1.23888992e+09] from [('WR1', 192), ('AS12', 184), ('NWAO', 196)] score 34.3241722584\n",
        "proposing [  7.09274696e+01   5.30071572e+01   1.50000185e+01   1.23889006e+09] from [('YKR8', 160), ('IL31', 161), ('JNU', 91)] score 715.69218111\n",
        "proposing [  1.31515852e+02  -2.57484464e+01   3.50000051e+01   1.23888995e+09] from [('QSPA', 186), ('VNDA', 190), ('AAK', 172)] score 251.329848289\n",
        "proposing [ -1.94709673e+02  -1.48065793e+01   3.50000244e+01   1.23888989e+09] from [('FITZ', 158), ('IL31', 161), ('VNDA', 190)] score 17.3524208069\n",
        "proposing [  1.39966672e+02  -4.61159239e+01   1.31439445e-05   1.23889008e+09]"
       ]
      },
      {
       "output_type": "stream",
       "stream": "stdout",
       "text": [
        " from [('FITZ', 193), ('AS12', 184), ('SNAA', 194)] score 51.1939799786\n",
        "proposing [ -1.70510792e+02  -1.51055472e+01   3.50001067e+01   1.23888983e+09] from [('STKA', 189), ('NB200', 195), ('WR1', 192)] score 91.8407268524\n",
        "refining [ -1.79139268e+02  -1.68217182e+01   1.48868847e-06   1.23888989e+09] with residual 2.31670403481\n",
        "refined to [ -1.79313107e+02  -1.70049570e+01   1.76464738e+02   1.23888992e+09] with abserror 1.08547820552\n",
        "refining [ -1.79596442e+02  -1.67423781e+01   3.50000357e+01   1.23888990e+09] with residual 4.86014151573\n",
        "refined to [ -1.80184365e+02  -1.70337995e+01   5.73962052e+02   1.23888995e+09] with abserror 1.35234850292\n",
        "refining [ -1.94709673e+02  -1.48065793e+01   3.50000244e+01   1.23888989e+09] with residual 17.3524208069\n",
        "refined to [ -1.95666176e+02  -1.47062368e+01   6.73328181e+02   1.23888995e+09] with abserror 7.15056099707\n",
        "refining [  1.40631750e+02  -1.14956427e+01   3.49999994e+01   1.23888986e+09] with residual 27.8899407387\n",
        "refined to [  1.48063235e+02  -1.17943801e+01   6.96087733e+02   1.23888993e+09] with abserror 13.8425478919\n",
        "refining [  1.91296800e+02  -2.31619029e+00   4.34272762e+02   1.23888985e+09] with residual 31.9129219055\n",
        "refined to [  1.87517758e+02  -2.06428878e+00   5.91693550e+02   1.23888987e+09] with abserror 12.2486304754\n",
        "times: proposals 1.01 eval set choice 0.00 scoring 0.02 refinement 0.02\n",
        "proposing new ev evid None, loc 179.24 W 16.87 S, depth 11.6km, time 1238889899.1, mb 4.0, natural source\n",
        "proposing to associate template 184 at AS12,P with assoc lp -0.0"
       ]
      },
      {
       "output_type": "stream",
       "stream": "stdout",
       "text": [
        "\n",
        "amp_log_p -1.46818700554 for 0.217942091277 under Gaussian(mean=1.267977, std=1.072050)\n",
        "proposing to birth new phase JHJ,P with assoc lp 0.0 tmpl lp -5.913508\n",
        "amp_log_p -0.864553937714 for -3.76759007666 under Gaussian(mean=-3.316290, std=0.811318)\n",
        "proposing to birth new phase USA0,P with assoc lp 0.0 tmpl lp -5.349558\n",
        "proposing to associate template 186 at QSPA,P with assoc lp -0.0\n",
        "amp_log_p -1.13894285867 for -4.13218701477 under Gaussian(mean=-3.444949, std=0.968991)\n",
        "proposing to birth new phase MK31,P with assoc lp -0.0 tmpl lp -6.885481\n",
        "amp_log_p -2.1818372381 for -9.35926640897 under Gaussian(mean=-7.591701, std=1.204393)\n",
        "proposing to birth new phase FIA0,P with assoc lp -0.0 tmpl lp -8.374625\n",
        "proposing to associate template 189 at STKA,P with assoc lp -0.0\n",
        "proposing to associate template 190 at VNDA,P with assoc lp -0.0\n",
        "amp_log_p -0.871855794099 for -2.50139635347 under Gaussian(mean=-2.558301, std=0.952307)\n",
        "proposing to birth new phase PEA0,P with assoc lp 0.0 tmpl lp -6.169746\n",
        "amp_log_p -1.63125666672 for -14.0870777673 under Gaussian(mean=-13.201544, std=1.808360)\n",
        "proposing to birth new phase KBZ,P with assoc lp 0.0 tmpl lp -8.124779\n",
        "amp_log_p -2.61391554206 for -0.0321422621959 under Gaussian(mean=-1.754799, std=0.910880)\n",
        "proposing to birth new phase CM16,P with assoc lp 0.0 tmpl lp -7.678991\n",
        "proposing to associate template 101 at JKA,P with assoc lp -0.0\n",
        "proposing to associate template 160 at YKR8,P with assoc lp -0.0\n",
        "amp_log_p"
       ]
      },
      {
       "output_type": "stream",
       "stream": "stdout",
       "text": [
        " -1.31215487985 for -5.48982716646 under Gaussian(mean=-4.710636, std=1.200172)\n",
        "proposing to birth new phase BVA0,P with assoc lp -0.0 tmpl lp -9.104122\n",
        "proposing to associate template 192 at WR1,P with assoc lp -0.0\n",
        "proposing to associate template 193 at FITZ,P with assoc lp -0.0\n",
        "proposing to associate template 161 at IL31,P with assoc lp -0.0\n",
        "proposing to associate template 91 at JNU,P with assoc lp -0.0\n",
        "proposing to associate template 194 at SNAA,P with assoc lp -0.0\n",
        "amp_log_p -1.66700957567 for -8.61456284597 under Gaussian(mean=-7.333029, std=1.286237)\n",
        "proposing to birth new phase NB200,P with assoc lp -0.0 tmpl lp -8.314105\n",
        "proposing to associate template 196 at NWAO,P with assoc lp -0.0\n",
        "eid"
       ]
      },
      {
       "output_type": "stream",
       "stream": "stdout",
       "text": [
        " 5 proposing mb 4.16746284685 from dist 4.2285047317 0.164668742221\n",
        "birth helper 0.816173508988 -65.9321384772 -7.32607188172\n",
        "birth 5 lqf -72.442037 lqb -0.051861\n",
        "37033.8364995"
       ]
      },
      {
       "output_type": "stream",
       "stream": "stdout",
       "text": [
        " 36944.5201454 -72.4963674175 -130.470146957\n",
        "acceptance prob 31.3425745856\n",
        "n_uatemplate: -529.6"
       ]
      },
      {
       "output_type": "stream",
       "stream": "stdout",
       "text": [
        "\n",
        "n_event: -38.4\n",
        "ev priors: ev -82.8\n",
        "tt_residual: ev -514.9\n",
        "ev global cost (n + priors + tt): -636.1\n",
        "coda_decay: ev -178.2 ua -48.1 total -226.2\n",
        "peak_decay: ev -184.7 ua -47.3 total -232.0\n",
        "peak_offset: ev -143.2 ua -114.3 total -257.5\n",
        "coda_height: ev -160.6 ua -49.3 total -210.0\n",
        "wiggles: ev 0.0 ua 0.0 total 0.0\n",
        "total param: ev -666.7 ua -259.0 total -925.8\n",
        "non signals: ev -1302.9 ua -788.6 total -2091.5\n",
        "signals: 39125.3\n",
        "overall: 37033.8\n",
        "official: 37033.8"
       ]
      },
      {
       "output_type": "stream",
       "stream": "stdout",
       "text": [
        "\n"
       ]
      }
     ],
     "prompt_number": 6
    },
    {
     "cell_type": "code",
     "collapsed": false,
     "input": [
      "from sigvisa.models.noise.armodel.model import ARModel\n",
      "\n",
      "m = ARModel(wn.nm.params, wn.nm.em, wn.nm.c, wn.nm.sf)\n",
      "print m\n",
      "r = m.residuals(noise, m.c, m.em.std)\n",
      "plot(r)\n",
      "figure()\n",
      "plot(r*r)"
     ],
     "language": "python",
     "metadata": {},
     "outputs": [
      {
       "output_type": "stream",
       "stream": "stdout",
       "text": [
        "<sigvisa.models.noise.armodel.model.ARModel object at 0x653b490>\n"
       ]
      },
      {
       "metadata": {},
       "output_type": "pyout",
       "prompt_number": 20,
       "text": [
        "[<matplotlib.lines.Line2D at 0x7fdc7d0>]"
       ]
      },
      {
       "metadata": {},
       "output_type": "display_data",
       "png": "[encoded data removed]",
       "text": [
        "<matplotlib.figure.Figure at 0x71546d0>"
       ]
      },
      {
       "metadata": {},
       "output_type": "display_data",
       "png": "[encoded data removed]",
       "text": [
        "<matplotlib.figure.Figure at 0x653bad0>"
       ]
      }
     ],
     "prompt_number": 20
    },
    {
     "cell_type": "code",
     "collapsed": false,
     "input": [
      "for wns in sg.station_waves.values():\n",
      "    for wn in wns:\n",
      "        if 'AAK' not in wn.label: continue\n",
      "\n",
      "        ax = do_plot(wn)\n",
      "        ax.set_title(\"%s %f\" % (wn.label, wn.log_p()))"
     ],
     "language": "python",
     "metadata": {},
     "outputs": [
      {
       "output_type": "stream",
       "stream": "stdout",
       "text": [
        "plotting uatemplate -60 as color (0.0, 0.0, 0.89215686274509798, 1.0)\n",
        "plotting uatemplate -84 as color (0.26249209361163817, 1.0, 0.70524984187223283, 1.0)\n",
        "plotting uatemplate -70 as color (0.26249209361163817, 1.0, 0.70524984187223283, 1.0)\n",
        "plotting uatemplate -991 as color (0.0, 0.61372549019607847, 1.0, 1.0)\n",
        "plotting uatemplate -1482 as color (0.0, 0.29999999999999999, 1.0, 1.0)\n",
        "plotting uatemplate -923 as color (0.098039215686274495, 1.0, 0.8697027197975965, 1.0)\n",
        "plotting uatemplate -1620 as color (0.46489563567362424, 1.0, 0.50284629981024676, 1.0)\n",
        "plotting uatemplate -96 as color (0.0, 0.0, 0.5, 1.0)\n",
        "reading station detections... \n"
       ]
      },
      {
       "metadata": {},
       "output_type": "display_data",
       "png": "[encoded data removed]",
       "text": [
        "<matplotlib.figure.Figure at 0x4ffde10>"
       ]
      }
     ],
     "prompt_number": 12
    },
    {
     "cell_type": "code",
     "collapsed": false,
     "input": [
      "np.random.seed(seed)\n",
      "print sg.current_log_p_breakdown()\n",
      "try:\n",
      "    lp_new, lp_old, log_qforward, log_qbackward, revert_move = rebirth_events_helper(sg, (1,), \n",
      "        location_proposal=propose_current_location)\n",
      "    print lp_new, lp_old, log_qforward, log_qbackward\n",
      "    print lp_new + log_qbackward - (lp_old + log_qforward)\n",
      "    if lp_new + log_qbackward - (lp_old + log_qforward) > 0:\n",
      "        raise ValueError (\"accepted!\")\n",
      "    sg.current_log_p_breakdown()\n",
      "    revert_move()\n",
      "except Exception as e:\n",
      "    import sys, traceback, pdb\n",
      "    print e\n",
      "    type, value, tb = sys.exc_info()\n",
      "    traceback.print_exc()\n",
      "    pdb.post_mortem(tb)\n",
      "\"\"\"\n",
      "print sg.current_log_p_breakdown()\n",
      "try:\n",
      "    lp_new, lp_old, log_qforward, log_qbackward, revert_move = rebirth_events_helper(sg, (1,), location_proposal=hough_location_proposal)\n",
      "    print lp_new, lp_old, log_qforward, log_qbackward\n",
      "    print lp_new + log_qbackward - (lp_old + log_qforward)\n",
      "    sg.current_log_p_breakdown()\n",
      "    revert_move()\n",
      "except Exception as e:\n",
      "    import sys, traceback, pdb\n",
      "    print e\n",
      "    type, value, tb = sys.exc_info()\n",
      "    traceback.print_exc()\n",
      "    pdb.post_mortem(tb)\n",
      "    \"\"\""
     ],
     "language": "python",
     "metadata": {},
     "outputs": [],
     "prompt_number": 19
    },
    {
     "cell_type": "code",
     "collapsed": false,
     "input": [
      "sg.current_log_p_breakdown()\n",
      "lp_old = sg.current_log_p()\n",
      "lqf, lqb, r = ev_death_helper_full(sg, 1, location_proposal=propose_current_location)\n",
      "lp_new = sg.current_log_p()\n",
      "sg.current_log_p_breakdown()\n",
      "r()\n",
      "print lp_old, lp_new, lqf, lqb\n",
      "print lp_new + lqb - (lp_old + lqf)"
     ],
     "language": "python",
     "metadata": {},
     "outputs": [
      {
       "output_type": "stream",
       "stream": "stdout",
       "text": [
        "n_uatemplate: -486.1\n",
        "n_event: -25.1\n",
        "ev priors: ev -57.4\n",
        "tt_residual: ev -192.0\n",
        "ev global cost (n + priors + tt): -274.5\n",
        "coda_decay: ev -103.2 ua -129.4 total -232.6\n",
        "peak_decay: ev -114.4 ua -114.4 total -228.8\n",
        "peak_offset: ev -83.3 ua -105.0 total -188.4\n",
        "coda_height: ev -106.4 ua -155.4 total -261.7\n",
        "wiggles: ev 0.0 ua 0.0 total 0.0\n",
        "total param: ev -407.3 ua -504.2 total -911.5\n",
        "non signals: ev -681.8 ua -990.3 total -1672.1\n",
        "signals: 128330.6\n",
        "overall: 126658.5\n",
        "official: 126658.5"
       ]
      },
      {
       "output_type": "stream",
       "stream": "stdout",
       "text": [
        "\n",
        "reverse dist"
       ]
      },
      {
       "output_type": "stream",
       "stream": "stdout",
       "text": [
        " 3.44284932954 0.0128876507018 old mb 3.34027092709 lp 0.848571333595\n",
        "proposing to delete at AS12 (lp -0.002470, reverse -8.513004)\n",
        "proposing to delete at JHJ (lp -0.002470, reverse -11.492783)\n",
        "proposing to delete at USA0 (lp -0.002470, reverse -8.186867)\n",
        "proposing to deassociate at AAK (lp -0.0)\n",
        "proposing to deassociate at QSPA (lp -0.0)\n",
        "proposing to deassociate at MK31 (lp -0.0)\n",
        "proposing to delete at FIA0 (lp -0.002470, reverse -16.501210)\n",
        "proposing to delete at STKA (lp -0.002470, reverse -9.853400)\n",
        "proposing to delete at VNDA (lp -0.002470, reverse -8.596473)\n",
        "proposing to delete at PEA0 (lp -0.002470, reverse -9.688831)\n",
        "proposing to delete at KBZ (lp -0.002470, reverse -8.025598)\n",
        "proposing to delete at CM16 (lp -0.002470, reverse -12.670805)"
       ]
      },
      {
       "output_type": "stream",
       "stream": "stdout",
       "text": [
        "\n",
        "proposing to delete at JKA (lp -0.002470, reverse -10.803111)\n",
        "proposing to delete at YKR8 (lp -0.002470, reverse -7.926281)\n",
        "proposing to delete at BVA0 (lp -0.002470, reverse -10.791388)\n",
        "proposing to delete at WR1 (lp -0.002470, reverse -9.121213)\n",
        "proposing to deassociate at FITZ (lp -0.0)\n",
        "proposing to delete at IL31 (lp -0.002470, reverse -8.746146)\n",
        "proposing to delete at JNU (lp -0.002470, reverse -8.313510)\n",
        "proposing to delete at SNAA (lp -0.002470, reverse -9.769914)\n",
        "proposing to delete at NB200 (lp -0.002470, reverse -10.592292)\n",
        "proposing to delete at NWAO (lp -0.002470, reverse -9.259053)\n",
        "reverse deletion AS12 1 P lp -0.000067"
       ]
      },
      {
       "output_type": "stream",
       "stream": "stdout",
       "text": [
        "\n",
        "reverse deletion JHJ 1 P lp -0.143111\n",
        "reverse deletion USA0 1 P lp -0.000050\n",
        "reverse deassociation AAK 1 P lp -0.000785\n",
        "reverse deassociation QSPA 1 P lp -0.008257\n",
        "reverse deassociation MK31 1 P lp -0.207807\n",
        "reverse deletion FIA0 1 P lp -0.000067\n",
        "reverse deletion STKA 1 P lp -0.000080\n",
        "reverse deletion VNDA 1 P lp -0.000127\n",
        "reverse deletion PEA0 1 P lp -0.000067\n",
        "reverse deletion KBZ 1 P lp 0.000000\n",
        "reverse deletion CM16 1 P lp -0.000075\n",
        "reverse deletion JKA 1 P lp -0.000081"
       ]
      },
      {
       "output_type": "stream",
       "stream": "stdout",
       "text": [
        "\n",
        "reverse deletion YKR8 1 P lp -0.000075\n",
        "reverse deletion BVA0 1 P lp -0.000067\n",
        "reverse deletion WR1 1 P lp -0.000083\n",
        "reverse deassociation FITZ 1 P lp -0.000172\n",
        "reverse deletion IL31 1 P lp -0.207718\n",
        "reverse deletion JNU 1 P lp -0.000080\n",
        "reverse deletion SNAA 1 P lp -0.000075\n",
        "reverse deletion NB200 1 P lp -0.000067\n",
        "reverse deletion NWAO 1 P lp -0.000080\n",
        "n_uatemplate: -513.7"
       ]
      },
      {
       "output_type": "stream",
       "stream": "stdout",
       "text": [
        "\n",
        "n_event: -18.4\n",
        "ev priors: ev -35.1\n",
        "tt_residual: ev -134.3\n",
        "ev global cost (n + priors + tt): -187.8\n",
        "coda_decay: ev -64.8 ua -137.8 total -202.6\n",
        "peak_decay: ev -71.6 ua -124.4 total -195.9\n",
        "peak_offset: ev -48.8 ua -115.8 total -164.6\n",
        "coda_height: ev -60.3 ua -163.8 total -224.0\n",
        "wiggles: ev 0.0 ua 0.0 total 0.0\n",
        "total param: ev -245.4 ua -541.8 total -787.2\n",
        "non signals: ev -433.2 ua -1055.5 total -1488.7\n",
        "signals: 128324.8\n",
        "overall: 126836.1\n",
        "official: 126836.1\n",
        "126658.499314"
       ]
      },
      {
       "output_type": "stream",
       "stream": "stdout",
       "text": [
        " 126836.070002 -0.0543305818514 -178.572295933\n",
        "-0.94727794583\n"
       ]
      }
     ],
     "prompt_number": 14
    },
    {
     "cell_type": "code",
     "collapsed": false,
     "input": [],
     "language": "python",
     "metadata": {},
     "outputs": [],
     "prompt_number": 18
    },
    {
     "cell_type": "code",
     "collapsed": false,
     "input": [],
     "language": "python",
     "metadata": {},
     "outputs": [],
     "prompt_number": 18
    },
    {
     "cell_type": "code",
     "collapsed": false,
     "input": [
      "sg.current_log_p_breakdown()\n",
      "\n",
      "#revert_move()"
     ],
     "language": "python",
     "metadata": {},
     "outputs": [
      {
       "output_type": "stream",
       "stream": "stdout",
       "text": [
        "n_uatemplate: -50.9\n",
        "n_event: -25.1\n",
        "ev priors: ev -61.0\n",
        "tt_residual: ev -954.6\n",
        "ev global cost (n + priors + tt): -1040.7\n",
        "coda_decay: ev -110.0 ua -1.9 total -111.9\n",
        "peak_decay: ev -106.3 ua -2.1 total -108.4\n",
        "peak_offset: ev -100.9 ua -1.4 total -102.3\n",
        "coda_height: ev -93.9 ua -16.9 total -110.8\n",
        "wiggles: ev 0.0 ua 0.0 total 0.0\n",
        "total param: ev -411.1 ua -22.2 total -433.3\n",
        "non signals: ev -1451.8 ua -73.2 total -1525.0\n",
        "signals: 128733.9\n",
        "overall: 127208.9\n",
        "official: 127208.9\n"
       ]
      }
     ],
     "prompt_number": 9
    },
    {
     "cell_type": "code",
     "collapsed": false,
     "input": [],
     "language": "python",
     "metadata": {},
     "outputs": []
    }
   ],
   "metadata": {}
  }
 ]
}