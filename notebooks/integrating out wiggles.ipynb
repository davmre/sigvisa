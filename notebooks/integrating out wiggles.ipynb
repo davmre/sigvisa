{
 "metadata": {
  "name": "",
  "signature": "sha256:ba8a7759e04b7a634af903be959aa5eabcd68b58070916f612fc40f3a197f341"
 },
 "nbformat": 3,
 "nbformat_minor": 0,
 "worksheets": [
  {
   "cells": [
    {
     "cell_type": "code",
     "collapsed": false,
     "input": [
      "x = np.linspace(0, 30, 150)\n",
      "\n",
      "t_onset = x[:10] # linear onset\n",
      "t_decay = np.exp( .2*(x[10]-x[10:])) * (x[10])\n",
      "t = np.concatenate([t_onset, t_decay])\n",
      "plot(x, t)\n",
      "\n"
     ],
     "language": "python",
     "metadata": {},
     "outputs": [
      {
       "metadata": {},
       "output_type": "pyout",
       "prompt_number": 12,
       "text": [
        "[<matplotlib.lines.Line2D at 0x50e51d0>]"
       ]
      },
      {
       "metadata": {},
       "output_type": "display_data",
       "png": "[encoded data removed]",
       "text": [
        "<matplotlib.figure.Figure at 0x419a6d0>"
       ]
      }
     ],
     "prompt_number": 12
    },
    {
     "cell_type": "code",
     "collapsed": false,
     "input": [
      "from sigvisa.explore.wavelet_matching import *\n",
      "import pywt\n",
      "\n",
      "#coefs1 = pywt.wavedec(obs_signal, 'db2', 'per')\n",
      "#coefs_flat = flatten_wavelet_coefs(coefs1)\n",
      "\n",
      "#print coefs0\n",
      "#print coefs_flat\n",
      "\n",
      "\n",
      "\n",
      "#figure()\n",
      "#plot(pywt.waverec(unflatten_wavelet_coefs(coefs_flat), 'db2', 'per'))\n",
      "#plot(pywt.waverec(unflatten_wavelet_coefs(coefs0), 'db2', 'per'))\n",
      "\n",
      "coefs = pywt.wavedec(t, 'db2', 'per')\n",
      "coefs_flat = flatten_wavelet_coefs(coefs)\n",
      "print coefs\n",
      "\n"
     ],
     "language": "python",
     "metadata": {},
     "outputs": [
      {
       "output_type": "stream",
       "stream": "stdout",
       "text": [
        "[array([ 0.92253356,  6.83101222,  2.10898381,  0.5814566 ,  0.16378743]), array([  3.18353424e+00,  -4.65191692e-01,  -1.88778389e-01,\n",
        "        -5.16795109e-02,   1.31686657e-03]), array([ 0.4768425 ,  0.2057895 , -0.13071955, -0.068632  , -0.03603402,\n",
        "       -0.01891903, -0.0099331 , -0.0052152 , -0.00551194,  0.07482195]), array([ -4.02704892e-01,   8.03233605e-01,  -3.78847431e-02,\n",
        "        -3.36642004e-02,  -2.43927832e-02,  -1.76747960e-02,\n",
        "        -1.28070015e-02,  -9.27984056e-03,  -6.72409077e-03,\n",
        "        -4.87221697e-03,  -3.53036552e-03,  -2.55807177e-03,\n",
        "        -1.85355629e-03,  -1.34307057e-03,  -9.73177107e-04,\n",
        "        -7.05155564e-04,  -5.10949513e-04,  -3.12231967e-04,\n",
        "         2.16682295e-02]), array([ -1.11351477e-01,  -5.64014113e-13,   3.20068860e-01,\n",
        "         7.80581617e-03,  -8.46873155e-03,  -7.20883181e-03,\n",
        "        -6.13636832e-03,  -5.22345606e-03,  -4.44635846e-03,\n",
        "        -3.78487027e-03,  -3.22179219e-03,  -2.74248368e-03,\n",
        "        -2.33448226e-03,  -1.98717953e-03,  -1.69154529e-03,\n",
        "        -1.43989279e-03,  -1.22567883e-03,  -1.04333364e-03,\n",
        "        -8.88116086e-04,  -7.55990369e-04,  -6.43521097e-04,\n",
        "        -5.47783965e-04,  -4.66289721e-04,  -3.96919439e-04,\n",
        "        -3.37869427e-04,  -2.87604331e-04,  -2.44817212e-04,\n",
        "        -2.08395566e-04,  -1.77392396e-04,  -1.51001592e-04,\n",
        "        -1.28536969e-04,  -1.09414424e-04,  -9.31367557e-05,\n",
        "        -7.92807285e-05,  -6.74860732e-05,  -5.74461179e-05,\n",
        "        -4.97070481e-04,   7.46504756e-03]), array([ -2.70216995e-02,  -1.99298911e-13,  -1.99451566e-13,\n",
        "        -1.99285033e-13,  -1.99396055e-13,   3.48245768e-02,\n",
        "        -1.78742995e-03,  -1.64912014e-03,  -1.52151262e-03,\n",
        "        -1.40377926e-03,  -1.29515601e-03,  -1.19493793e-03,\n",
        "        -1.10247465e-03,  -1.01716609e-03,  -9.38458640e-04,\n",
        "        -8.65841505e-04,  -7.98843422e-04,  -7.37029595e-04,\n",
        "        -6.79998868e-04,  -6.27381132e-04,  -5.78834911e-04,\n",
        "        -5.34045155e-04,  -4.92721193e-04,  -4.54594844e-04,\n",
        "        -4.19418680e-04,  -3.86964418e-04,  -3.57021439e-04,\n",
        "        -3.29395422e-04,  -3.03907083e-04,  -2.80391010e-04,\n",
        "        -2.58694591e-04,  -2.38677023e-04,  -2.20208397e-04,\n",
        "        -2.03168857e-04,  -1.87447823e-04,  -1.72943269e-04,\n",
        "        -1.59561065e-04,  -1.47214365e-04,  -1.35823042e-04,\n",
        "        -1.25313170e-04,  -1.15616543e-04,  -1.06670233e-04,\n",
        "        -9.84161806e-05,  -9.08008199e-05,  -8.37747293e-05,\n",
        "        -7.72923117e-05,  -7.13114980e-05,  -6.57934747e-05,\n",
        "        -6.07024313e-05,  -5.60053285e-05,  -5.16716836e-05,\n",
        "        -4.76733725e-05,  -4.39844473e-05,  -4.05809680e-05,\n",
        "        -3.74408470e-05,  -3.45437060e-05,  -3.18707433e-05,\n",
        "        -2.94046121e-05,  -2.71293081e-05,  -2.50300652e-05,\n",
        "        -2.30932600e-05,  -2.13063231e-05,  -1.96576578e-05,\n",
        "        -1.81365649e-05,  -1.67331729e-05,  -1.54383741e-05,\n",
        "        -1.42437658e-05,  -1.31415952e-05,  -1.21247097e-05,\n",
        "        -1.11865100e-05,  -1.03209073e-05,  -9.52228421e-06,\n",
        "        -8.78545792e-06,  -8.10564662e-06,   3.45571853e-03])]\n"
       ]
      }
     ],
     "prompt_number": 19
    },
    {
     "cell_type": "code",
     "collapsed": false,
     "input": [
      "from sigvisa.models.noise.armodel.model import ARModel, ErrorModel"
     ],
     "language": "python",
     "metadata": {},
     "outputs": [],
     "prompt_number": 13
    },
    {
     "cell_type": "code",
     "collapsed": false,
     "input": [],
     "language": "python",
     "metadata": {},
     "outputs": []
    }
   ],
   "metadata": {}
  }
 ]
}