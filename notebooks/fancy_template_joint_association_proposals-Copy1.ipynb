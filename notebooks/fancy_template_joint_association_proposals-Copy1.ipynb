{
 "cells": [
  {
   "cell_type": "code",
   "execution_count": 1,
   "metadata": {
    "collapsed": true
   },
   "outputs": [],
   "source": [
    "%matplotlib inline\n",
    "import matplotlib.pylab as plt\n",
    "import numpy as np\n",
    "\n",
    "from sigvisa import Sigvisa\n",
    "from sigvisa.graph.sigvisa_graph import SigvisaGraph\n",
    "from sigvisa.signals.io import fetch_waveform\n",
    "from sigvisa.source.event import Event"
   ]
  },
  {
   "cell_type": "code",
   "execution_count": 2,
   "metadata": {
    "collapsed": true
   },
   "outputs": [],
   "source": [
    "def setup_graph(sta=\"PD31\"):\n",
    "    stime = 1239041000 \n",
    "    etime = 1239041400\n",
    "    \n",
    "    \n",
    "    s = Sigvisa()\n",
    "    cursor = s.dbconn.cursor()\n",
    "    wave = fetch_waveform(sta, chan=\"auto\", stime=stime, etime=etime, cursor=cursor)\n",
    "    wave = wave.filter(\"freq_0.8_4.5;env;hz_2\")\n",
    "    \n",
    "    sg = SigvisaGraph(template_model_type=\"param\", template_shape=\"lin_polyexp\",\n",
    "                      wiggle_model_type=\"dummy\", wiggle_family=\"iid\", \n",
    "                      dummy_fallback=True, runids = (3,),\n",
    "                      phases=[\"P\", \"S\", \"PcP\", \"ScP\", \"pP\", \"Pg\", \"Lg\"], base_srate=2.0,\n",
    "                      assume_envelopes=True, smoothing=None,\n",
    "                      hack_param_constraint=True,\n",
    "                      uatemplate_rate=1e-4)\n",
    "    sg.add_wave(wave)\n",
    "    \n",
    "    vals2 = dict([('mult_wiggle_std', 0.46665908122829375), ('coda_decay', -3.8817786855627583), ('peak_offset', 1.8717964476973965), ('coda_height', 4.6420525405366337), ('arrival_time', 1239041071.3935068), ('peak_decay', -3.3833567577066019)])\n",
    "    vals30 = dict([('mult_wiggle_std', 0.58921556906392525), ('coda_decay', -2.0648019615477597), ('peak_offset', 1.2059866915167161), ('coda_height', 4.9700447940413781), ('arrival_time', 1239041119.0734844), ('peak_decay', -1.8286789034181647)])\n",
    "    wn = sg.station_waves.values()[0][0]\n",
    "    sg.create_unassociated_template(wn, vals2['arrival_time'], tmid=2, initial_vals=vals2)\n",
    "    sg.create_unassociated_template(wn, vals2['arrival_time'], tmid=30, initial_vals=vals30)\n",
    "    return sg\n"
   ]
  },
  {
   "cell_type": "code",
   "execution_count": 3,
   "metadata": {
    "collapsed": false
   },
   "outputs": [],
   "source": [
    "sg = setup_graph()\n",
    "ev = Event(lon=-105.427, lat=43.731, depth=0.0, time=1239041017.07, mb=4.0)\n"
   ]
  },
  {
   "cell_type": "code",
   "execution_count": 4,
   "metadata": {
    "collapsed": false
   },
   "outputs": [
    {
     "name": "stdout",
     "output_type": "stream",
     "text": [
      "n_uatemplate: -18.5\n",
      "n_event: -0.6\n",
      "ev priors: ev 0.0\n",
      "ev observations: ev 0.0\n",
      "tt_residual: ev 0.0\n",
      "ev global cost (n + priors + tt): -0.6\n",
      "coda_decay: ev 0.0 ua -3.1 total -3.1\n",
      "peak_decay: ev 0.0 ua -2.5 total -2.5\n",
      "peak_offset: ev 0.0 ua -3.4 total -3.4\n",
      "coda_height: ev 0.0 ua -6.1 total -6.1\n",
      "mult_std_wiggle: ev 0.0 ua -0.3 total -0.3\n",
      "coef jointgp: 0.0\n",
      "total param: ev 0.0 ua -15.4 total -15.4\n",
      "priors+params: ev -0.6 ua -33.9 total -34.4\n",
      "station noise (observed signals): -1418.9\n",
      "noise model prior lp: 7.2\n",
      "overall: -1446.1\n",
      "official: -1446.1\n",
      "plotting uatemplate -2 as color (0.0, 0.72352941176470587, 1.0, 1.0)\n",
      "plotting uatemplate -30 as color (0.0, 0.62941176470588234, 1.0, 1.0)\n",
      "reading station detections... \n"
     ]
    },
    {
     "name": "stderr",
     "output_type": "stream",
     "text": [
      "/home/dmoore/python/sigvisa/models/signal_model.py:587: FutureWarning: comparison to `None` will result in an elementwise object comparison in the future.\n",
      "  return TransientCombinedSSM(components, TSSM_NOISE_PADDING)\n"
     ]
    },
    {
     "data": {
      "text/plain": [
       "<matplotlib.axes._subplots.AxesSubplot at 0x7f5dbd2f9850>"
      ]
     },
     "execution_count": 4,
     "metadata": {},
     "output_type": "execute_result"
    },
    {
     "data": {
      "image/png": "[encoded data removed]",
      "text/plain": [
       "<matplotlib.figure.Figure at 0x7f5dbd374d90>"
      ]
     },
     "metadata": {},
     "output_type": "display_data"
    }
   ],
   "source": [
    "sg.current_log_p_breakdown()\n",
    "wn = sg.station_waves.values()[0][0]\n",
    "wn.plot(ax=plt.gca())"
   ]
  },
  {
   "cell_type": "code",
   "execution_count": 5,
   "metadata": {
    "collapsed": true
   },
   "outputs": [],
   "source": [
    "def dummy_proposal(sg, fix_result=None):\n",
    "    ev = Event(lon=-105.427, lat=43.731, depth=0.0, time=1239041017.07, mb=4.0)\n",
    "    \n",
    "    if fix_result is not None:\n",
    "        return 0.0\n",
    "    \n",
    "    return ev, 0.0, ()"
   ]
  },
  {
   "cell_type": "code",
   "execution_count": 6,
   "metadata": {
    "collapsed": false
   },
   "outputs": [
    {
     "name": "stdout",
     "output_type": "stream",
     "text": [
      "odds for Lg 30 are 433.065755214\n",
      "odds for P 2 are 383.456880138\n",
      "odds for Pg 2 are 1144.18094202\n",
      "odds for S 30 are 4.39010556746\n",
      "using assoc [('Lg', 30), ('P', None), ('Pg', 2), ('S', None)] with lp -0.302057551066\n",
      "param mult_wiggle_std val 0.80949421781 lp 0.973345932089\n",
      "param coda_decay val -3.85827232737 lp -1.41673465217\n",
      "param peak_offset val -0.324264526593 lp -1.61266799733\n",
      "param peak_decay val -2.53650346626 lp -1.49693617575\n",
      "param mult_wiggle_std val 0.70565059077 lp 0.0179068707843\n",
      "param coda_decay val -1.08259321265 lp -1.28001998718\n",
      "param peak_offset val -0.168041790467 lp -1.52818264063\n",
      "param peak_decay val -0.874422659329 lp -1.40127662631\n",
      "P peak_offset 1.39962945055 -1.69848609466 -0.843474329733 0.0394693858552 -1.43720604297\n",
      "P tt_residual -2.66000959429 -1.91130130296 0.534188483327 -3.55030661781 4.95994108331\n",
      "P amp_transfer -1.65686950903 -1.1509298098 -0.718964205857 -0.69241821662 -1.81530501534\n",
      "P peak_decay -3.25747418904 -1.5834019218 -1.22255808384 -4.24769731103 -4.03492028096\n",
      "P coda_decay -3.38946017266 -1.43323554364 -4.61797493192 -4.45040475573 -2.7286297134\n",
      "P mult_wiggle_std 0.865591391783 1.19992927102 0.699076378459 0.974554989013 0.985497437589\n",
      "S peak_offset -0.281961557412 -0.984764178997 -1.11746244377 -0.099067088096 -0.919950259335\n",
      "S tt_residual -1.37959544156 -2.03274414247 17.3808482267 -5.41305840773 -4.5650084062\n",
      "S amp_transfer 3.19732349764 -1.54532543073 1.10179888899 3.7344773522 0.826377248684\n",
      "S peak_decay -0.71967527757 -1.41879217665 -4.12754250371 -0.218452452275 0.695339207045\n",
      "S coda_decay 0.740769134481 -2.01317051391 -0.72475411075 -4.61773529518 -1.31058181604\n",
      "S mult_wiggle_std 0.873896271803 1.63353005161 0.942584688355 0.847349594594 0.860145530659\n",
      "proposing to deassociate Lg at PD31 (lp -0.0)\n",
      "proposing to deassociate Pg at PD31 (lp -0.0)\n"
     ]
    }
   ],
   "source": [
    "from sigvisa.infer.event_birthdeath import ev_birth_executor\n",
    "\n",
    "sg = setup_graph()\n",
    "ev = Event(lon=-105.427, lat=43.731, depth=0.0, time=1239041017.07, mb=4.0)\n",
    "wn = sg.station_waves.values()[0][0]\n",
    "\n",
    "lp_old = sg.current_log_p()\n",
    "r = ev_birth_executor(sg, dummy_proposal)\n",
    "#lp_new = sg.current_log_p()"
   ]
  },
  {
   "cell_type": "code",
   "execution_count": 7,
   "metadata": {
    "collapsed": false
   },
   "outputs": [],
   "source": [
    "lp_new, lp_old, log_qforward, log_qbackward, rebirth, redeath, proposal_extra = r"
   ]
  },
  {
   "cell_type": "code",
   "execution_count": 8,
   "metadata": {
    "collapsed": false
   },
   "outputs": [
    {
     "name": "stdout",
     "output_type": "stream",
     "text": [
      "birth move acceptance -6.38505507468 from -1446.11046805 -1465.72639419 -0.00987828502673 -13.2407493441\n"
     ]
    }
   ],
   "source": [
    "print \"birth move acceptance\", (lp_new + log_qbackward) - (lp_old+log_qforward), \"from\", lp_old, lp_new, log_qbackward, log_qforward\n",
    "_, eid, debug_info = proposal_extra\n"
   ]
  },
  {
   "cell_type": "code",
   "execution_count": null,
   "metadata": {
    "collapsed": false
   },
   "outputs": [],
   "source": []
  },
  {
   "cell_type": "code",
   "execution_count": 9,
   "metadata": {
    "collapsed": false
   },
   "outputs": [
    {
     "name": "stdout",
     "output_type": "stream",
     "text": [
      "proposed ev evid None, loc 105.43 W 43.73 N, depth 0.0km, time 1239041017.1, mb 4.0, natural source\n",
      "proposal logq 0.00, lps source -0.00, loc -1.97, time 0.00, mb -3.77, nevents -6.67, total -12.41, delta -12.41\n",
      "sta PD31 wn_old -1418.88 wn_new -1419.70 wn_delta -0.82 assoc -0.30 overall 6.03\n",
      " phase Lg: associating tmid 30, score 6.07\n",
      "   amp_transfer 6.23 ualp -3.13 evlp -1.93 delta 1.19\n",
      "   coda_decay -2.06 ualp -1.37 evlp -2.95 delta -1.58\n",
      "   mult_wiggle_std 0.59 ualp 0.15 evlp 0.09 delta -0.07\n",
      "   peak_decay -1.83 ualp -1.14 evlp -1.30 delta -0.15\n",
      "   peak_offset 1.21 ualp -1.35 evlp -1.24 delta 0.11\n",
      "   tt_residual 2.01 ualp -9.21 evlp -2.64 delta 6.57\n",
      " phase P: birthing new template, score -5.33\n",
      "   amp_transfer -1.66 logq -1.15 logp -5.56 delta -4.41\n",
      "   coda_decay -3.39 logq -1.43 logp -1.42 delta 0.01\n",
      "   mult_wiggle_std 0.87 logq 1.20 logp 1.17 delta -0.03\n",
      "   peak_decay -3.26 logq -1.58 logp -1.58 delta 0.00\n",
      "   peak_offset 1.40 logq -1.70 logp -1.99 delta -0.29\n",
      "   tt_residual -2.66 logq -1.91 logp -2.53 delta -0.62\n",
      " phase S: birthing new template, score -1.23\n",
      "   amp_transfer 3.20 logq -1.55 logp -1.83 delta -0.28\n",
      "   coda_decay 0.74 logq -2.01 logp -2.18 delta -0.16\n",
      "   mult_wiggle_std 0.87 logq 1.63 logp 1.67 delta 0.04\n",
      "   peak_decay -0.72 logq -1.42 logp -1.41 delta 0.00\n",
      "   peak_offset -0.28 logq -0.98 logp -1.53 delta -0.55\n",
      "   tt_residual -1.38 logq -2.03 logp -2.31 delta -0.28\n",
      " phase Pg: associating tmid 2, score 7.04\n",
      "   amp_transfer 6.63 ualp -2.97 evlp -1.95 delta 1.02\n",
      "   coda_decay -3.88 ualp -1.75 evlp -1.85 delta -0.10\n",
      "   mult_wiggle_std 0.47 ualp -0.49 evlp 0.07 delta 0.56\n",
      "   peak_decay -3.38 ualp -1.31 evlp -1.75 delta -0.44\n",
      "   peak_offset 1.87 ualp -2.04 evlp -1.70 delta 0.33\n",
      "   tt_residual -5.47 ualp -9.21 evlp -3.54 delta 5.67\n",
      "final proposal score -6.38\n",
      "inferred lpold -1452.7 lpnew -1472.3 delta -19.6 log_qforward -13.2 alt_score -6.4\n",
      "REMEMBER: the acceptance ratio also includes the reverse proposal probability from the death move.\n",
      "\n"
     ]
    }
   ],
   "source": [
    "from sigvisa.infer.event_birthdeath import prettyprint_debug\n",
    "debug_info[\"PD31\"][\"wn_old\"] = wn.log_p()\n",
    "rebirth()\n",
    "debug_info[\"PD31\"][\"wn_new\"] = wn.log_p()\n",
    "s = prettyprint_debug(debug_info)\n",
    "print s"
   ]
  },
  {
   "cell_type": "code",
   "execution_count": 11,
   "metadata": {
    "collapsed": false
   },
   "outputs": [
    {
     "name": "stdout",
     "output_type": "stream",
     "text": [
      "n_uatemplate: -18.5\n",
      "n_event: -0.6\n",
      "ev priors: ev 0.0\n",
      "ev observations: ev 0.0\n",
      "tt_residual: ev 0.0\n",
      "ev global cost (n + priors + tt): -0.6\n",
      "coda_decay: ev 0.0 ua -3.1 total -3.1\n",
      "peak_decay: ev 0.0 ua -2.5 total -2.5\n",
      "peak_offset: ev 0.0 ua -3.4 total -3.4\n",
      "coda_height: ev 0.0 ua -6.1 total -6.1\n",
      "mult_std_wiggle: ev 0.0 ua -0.3 total -0.3\n",
      "coef jointgp: 0.0\n",
      "total param: ev 0.0 ua -15.4 total -15.4\n",
      "priors+params: ev -0.6 ua -33.9 total -34.4\n",
      "station noise (observed signals): -1418.9\n",
      "noise model prior lp: 7.2\n",
      "overall: -1446.1\n",
      "official: -1446.1\n"
     ]
    }
   ],
   "source": [
    "sg.current_log_p_breakdown()"
   ]
  },
  {
   "cell_type": "code",
   "execution_count": 11,
   "metadata": {
    "collapsed": false
   },
   "outputs": [
    {
     "name": "stdout",
     "output_type": "stream",
     "text": [
      "n_uatemplate: -9.3\n",
      "n_event: -7.2\n",
      "ev priors: ev -5.7\n",
      "ev observations: ev 0.0\n",
      "tt_residual: ev -13.6\n",
      "ev global cost (n + priors + tt): -26.5\n",
      "coda_decay: ev -6.8 ua -1.4 total -8.1\n",
      "peak_decay: ev -7.4 ua -1.1 total -8.5\n",
      "peak_offset: ev -6.1 ua -1.4 total -7.5\n",
      "coda_height: ev -9.1 ua -3.1 total -12.2\n",
      "mult_std_wiggle: ev 3.5 ua 0.2 total 3.7\n",
      "coef jointgp: 0.0\n",
      "total param: ev -25.8 ua -6.8 total -32.7\n",
      "priors+params: ev -52.4 ua -16.1 total -68.5\n",
      "station noise (observed signals): -1414.9\n",
      "noise model prior lp: 7.2\n",
      "overall: -1476.2\n",
      "official: -1476.2\n"
     ]
    }
   ],
   "source": [
    "sg.current_log_p_breakdown()"
   ]
  },
  {
   "cell_type": "code",
   "execution_count": 14,
   "metadata": {
    "collapsed": false
   },
   "outputs": [
    {
     "name": "stdout",
     "output_type": "stream",
     "text": [
      "['tt_residual', 'coda_decay', 'amp_transfer', 'peak_decay', 'peak_offset']\n"
     ]
    }
   ],
   "source": [
    "print debug_info[\"PD31\"][\"Lg\"].keys()"
   ]
  },
  {
   "cell_type": "code",
   "execution_count": null,
   "metadata": {
    "collapsed": false
   },
   "outputs": [],
   "source": []
  },
  {
   "cell_type": "code",
   "execution_count": 21,
   "metadata": {
    "collapsed": false
   },
   "outputs": [
    {
     "name": "stdout",
     "output_type": "stream",
     "text": [
      "Signal node w/ model wave wave pts 880 @ 2 Hz. time: Mon, 06 Apr 2009 18:03:00 (1239040980.0). \n",
      "sta: PD31, chan BHZ. filter_str: ;freq_0.8_4.5;env;hz_2, fraction_valid: 0.909090909091, npts: 880, srate: 2.0, valid_len: 400.0\n"
     ]
    }
   ],
   "source": [
    "#sg.station_waves.values()[0][0].log_p()\n",
    "print "
   ]
  },
  {
   "cell_type": "code",
   "execution_count": 20,
   "metadata": {
    "collapsed": false
   },
   "outputs": [
    {
     "name": "stdout",
     "output_type": "stream",
     "text": [
      "Signal node w/ model wave wave pts 880 @ 2 Hz. time: Mon, 06 Apr 2009 18:03:00 (1239040980.0). \n",
      "sta: PD31, chan BHZ. filter_str: ;freq_0.8_4.5;env;hz_2, fraction_valid: 0.909090909091, npts: 880, srate: 2.0, valid_len: 400.0\n"
     ]
    }
   ],
   "source": [
    "print wn"
   ]
  },
  {
   "cell_type": "code",
   "execution_count": 22,
   "metadata": {
    "collapsed": false
   },
   "outputs": [
    {
     "name": "stdout",
     "output_type": "stream",
     "text": [
      "139636794082832\n"
     ]
    }
   ],
   "source": [
    "print id(wn)"
   ]
  },
  {
   "cell_type": "code",
   "execution_count": 23,
   "metadata": {
    "collapsed": false
   },
   "outputs": [
    {
     "name": "stdout",
     "output_type": "stream",
     "text": [
      "139636769217232\n"
     ]
    }
   ],
   "source": [
    "print id(s)"
   ]
  },
  {
   "cell_type": "code",
   "execution_count": 22,
   "metadata": {
    "collapsed": false
   },
   "outputs": [
    {
     "data": {
      "text/plain": [
       "['Lg', 'P', 'S', 'assoc', 'Pg', 'ev']"
      ]
     },
     "execution_count": 22,
     "metadata": {},
     "output_type": "execute_result"
    }
   ],
   "source": [
    "debug_info.keys()"
   ]
  },
  {
   "cell_type": "code",
   "execution_count": null,
   "metadata": {
    "collapsed": false
   },
   "outputs": [],
   "source": []
  },
  {
   "cell_type": "code",
   "execution_count": null,
   "metadata": {
    "collapsed": true
   },
   "outputs": [],
   "source": []
  },
  {
   "cell_type": "code",
   "execution_count": null,
   "metadata": {
    "collapsed": false
   },
   "outputs": [],
   "source": []
  },
  {
   "cell_type": "code",
   "execution_count": null,
   "metadata": {
    "collapsed": false
   },
   "outputs": [],
   "source": []
  },
  {
   "cell_type": "code",
   "execution_count": 24,
   "metadata": {
    "collapsed": false
   },
   "outputs": [
    {
     "data": {
      "text/plain": [
       "array([-1465.29721991])"
      ]
     },
     "execution_count": 24,
     "metadata": {},
     "output_type": "execute_result"
    }
   ],
   "source": []
  },
  {
   "cell_type": "code",
   "execution_count": null,
   "metadata": {
    "collapsed": true
   },
   "outputs": [],
   "source": []
  },
  {
   "cell_type": "code",
   "execution_count": null,
   "metadata": {
    "collapsed": true
   },
   "outputs": [],
   "source": []
  }
 ],
 "metadata": {
  "kernelspec": {
   "display_name": "Python 2",
   "language": "python",
   "name": "python2"
  },
  "language_info": {
   "codemirror_mode": {
    "name": "ipython",
    "version": 2
   },
   "file_extension": ".py",
   "mimetype": "text/x-python",
   "name": "python",
   "nbconvert_exporter": "python",
   "pygments_lexer": "ipython2",
   "version": "2.7.6"
  }
 },
 "nbformat": 4,
 "nbformat_minor": 0
}
