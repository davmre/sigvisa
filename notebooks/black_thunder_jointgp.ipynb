{
 "cells": [
  {
   "cell_type": "code",
   "execution_count": 1,
   "metadata": {
    "collapsed": true
   },
   "outputs": [],
   "source": [
    "%matplotlib inline\n",
    "import numpy as np\n",
    "from sigvisa import Sigvisa\n",
    "from sigvisa.source.event import Event\n",
    "from obspy.core.utcdatetime import UTCDateTime"
   ]
  },
  {
   "cell_type": "code",
   "execution_count": 2,
   "metadata": {
    "collapsed": false
   },
   "outputs": [
    {
     "name": "stdout",
     "output_type": "stream",
     "text": [
      "1167609600.0 1199145600.0\n"
     ]
    }
   ],
   "source": [
    "\n",
    "train_start = UTCDateTime(2007, 1, 1).timestamp\n",
    "train_end = UTCDateTime(2008, 1, 1).timestamp\n",
    "print train_start, train_end\n",
    "\n",
    "blackthunder_lons = [-106.5, 104]\n",
    "blackthunder_lats = [43, 45]\n",
    "\n"
   ]
  },
  {
   "cell_type": "code",
   "execution_count": 3,
   "metadata": {
    "collapsed": false
   },
   "outputs": [
    {
     "name": "stdout",
     "output_type": "stream",
     "text": [
      "select lon, lat, depth, time, mb from isc_origin where lon between -106.500000 and 104.000000 and lat between 43.000000 and 45.000000 and time between 1167609600.000000 and 1199145600.000000 and smaj < 6 \n",
      "60\n"
     ]
    }
   ],
   "source": [
    "sql = \"select lon, lat, depth, time, mb from isc_origin where lon between %f and %f and lat between %f and %f and time between %f and %f and smaj < 6 \" % (blackthunder_lons[0], blackthunder_lons[1], blackthunder_lats[0], blackthunder_lats[1], train_start, train_end)\n",
    "\n",
    "print sql\n",
    "\n",
    "s = Sigvisa()\n",
    "cursor = s.dbconn.cursor()\n",
    "cursor.execute(sql)\n",
    "r = cursor.fetchall()\n",
    "cursor.close()\n",
    "\n",
    "evs = []\n",
    "for (lon, lat, depth, time, mb ) in r:\n",
    "    ev = Event(lon=lon, lat=lat, depth=depth, time=time, mb=mb, natural_source=False)\n",
    "    evs.append(ev)\n",
    "print len(evs)\n"
   ]
  },
  {
   "cell_type": "code",
   "execution_count": null,
   "metadata": {
    "collapsed": false
   },
   "outputs": [],
   "source": []
  },
  {
   "cell_type": "code",
   "execution_count": 4,
   "metadata": {
    "collapsed": false
   },
   "outputs": [],
   "source": [
    "from sigvisa.models.distributions import Uniform, Poisson, Gaussian, Exponential, TruncatedGaussian, LogNormal,InvGamma, Beta, Laplacian, Bernoulli\n",
    "\n",
    "dummyPrior = dummyPriorModel = {\n",
    "\"tt_residual\": Laplacian(center=0.0, scale=3.0),\n",
    "\"amp_transfer\": Gaussian(mean=8.0, std=10.0),\n",
    "\"peak_offset\": TruncatedGaussian(mean=-0.5, std=1.0, b=4.0),\n",
    "\"mult_wiggle_std\": Beta(4.0, 1.0),\n",
    "\"coda_decay\": Gaussian(mean=0.0, std=1.0),\n",
    "\"peak_decay\": Gaussian(mean=0.0, std=1.0)\n",
    "}"
   ]
  },
  {
   "cell_type": "code",
   "execution_count": 5,
   "metadata": {
    "collapsed": false
   },
   "outputs": [
    {
     "name": "stdout",
     "output_type": "stream",
     "text": [
      "select chan, stime, etime, hz, npts, subdir, fname from llnl_wfdisc where sta = 'PD31' and (chan='BHZ' or chan='bz') and stime < 1168024903.757479 and etime > 1168024703.757479 and hz > 9.0 \n",
      "select chan, stime, etime, hz, npts, subdir, fname from llnl_wfdisc where sta = 'PD31' and (chan='BHZ' or chan='bz') and stime < 1168369548.295850 and etime > 1168369348.295850 and hz > 9.0 \n",
      "select chan, stime, etime, hz, npts, subdir, fname from llnl_wfdisc where sta = 'PD31' and (chan='BHZ' or chan='bz') and stime < 1168801460.024231 and etime > 1168801260.024231 and hz > 9.0 \n",
      "select chan, stime, etime, hz, npts, subdir, fname from llnl_wfdisc where sta = 'PD31' and (chan='BHZ' or chan='bz') and stime < 1169579020.661078 and etime > 1169578820.661078 and hz > 9.0 \n",
      "select chan, stime, etime, hz, npts, subdir, fname from llnl_wfdisc where sta = 'PD31' and (chan='BHZ' or chan='bz') and stime < 1171134408.281146 and etime > 1171134208.281146 and hz > 9.0 \n",
      "select chan, stime, etime, hz, npts, subdir, fname from llnl_wfdisc where sta = 'PD31' and (chan='BHZ' or chan='bz') and stime < 1171739230.644687 and etime > 1171739030.644687 and hz > 9.0 \n",
      "select chan, stime, etime, hz, npts, subdir, fname from llnl_wfdisc where sta = 'PD31' and (chan='BHZ' or chan='bz') and stime < 1172948718.833414 and etime > 1172948518.833414 and hz > 9.0 \n",
      "select chan, stime, etime, hz, npts, subdir, fname from llnl_wfdisc where sta = 'PD31' and (chan='BHZ' or chan='bz') and stime < 1173121665.654978 and etime > 1173121465.654978 and hz > 9.0 \n",
      "select chan, stime, etime, hz, npts, subdir, fname from llnl_wfdisc where sta = 'PD31' and (chan='BHZ' or chan='bz') and stime < 1173554052.699485 and etime > 1173553852.699485 and hz > 9.0 \n",
      "Can't find data for sta PDAR chan BHZ time 1173553852\n",
      "select chan, stime, etime, hz, npts, subdir, fname from llnl_wfdisc where sta = 'PD31' and (chan='BHZ' or chan='bz') and stime < 1173723040.427307 and etime > 1173722840.427307 and hz > 9.0 \n",
      "select chan, stime, etime, hz, npts, subdir, fname from llnl_wfdisc where sta = 'PD31' and (chan='BHZ' or chan='bz') and stime < 1174075619.807317 and etime > 1174075419.807317 and hz > 9.0 \n",
      "select chan, stime, etime, hz, npts, subdir, fname from llnl_wfdisc where sta = 'PD31' and (chan='BHZ' or chan='bz') and stime < 1174079440.604202 and etime > 1174079240.604202 and hz > 9.0 \n",
      "select chan, stime, etime, hz, npts, subdir, fname from llnl_wfdisc where sta = 'PD31' and (chan='BHZ' or chan='bz') and stime < 1174252026.177052 and etime > 1174251826.177052 and hz > 9.0 \n",
      "select chan, stime, etime, hz, npts, subdir, fname from llnl_wfdisc where sta = 'PD31' and (chan='BHZ' or chan='bz') and stime < 1174500296.811797 and etime > 1174500096.811797 and hz > 9.0 \n",
      "select chan, stime, etime, hz, npts, subdir, fname from llnl_wfdisc where sta = 'PD31' and (chan='BHZ' or chan='bz') and stime < 1174939709.863419 and etime > 1174939509.863419 and hz > 9.0 \n",
      "select chan, stime, etime, hz, npts, subdir, fname from llnl_wfdisc where sta = 'PD31' and (chan='BHZ' or chan='bz') and stime < 1175709957.741019 and etime > 1175709757.741019 and hz > 9.0 \n",
      "select chan, stime, etime, hz, npts, subdir, fname from llnl_wfdisc where sta = 'PD31' and (chan='BHZ' or chan='bz') and stime < 1177171366.989206 and etime > 1177171166.989206 and hz > 9.0 \n",
      "select chan, stime, etime, hz, npts, subdir, fname from llnl_wfdisc where sta = 'PD31' and (chan='BHZ' or chan='bz') and stime < 1177783668.031221 and etime > 1177783468.031221 and hz > 9.0 \n",
      "select chan, stime, etime, hz, npts, subdir, fname from llnl_wfdisc where sta = 'PD31' and (chan='BHZ' or chan='bz') and stime < 1178482356.620234 and etime > 1178482156.620234 and hz > 9.0 \n",
      "Can't find data for sta PDAR chan BHZ time 1178482156\n",
      "select chan, stime, etime, hz, npts, subdir, fname from llnl_wfdisc where sta = 'PD31' and (chan='BHZ' or chan='bz') and stime < 1179259738.034929 and etime > 1179259538.034929 and hz > 9.0 \n",
      "Can't find data for sta PDAR chan BHZ time 1179259538\n",
      "select chan, stime, etime, hz, npts, subdir, fname from llnl_wfdisc where sta = 'PD31' and (chan='BHZ' or chan='bz') and stime < 1179864691.215083 and etime > 1179864491.215083 and hz > 9.0 \n",
      "select chan, stime, etime, hz, npts, subdir, fname from llnl_wfdisc where sta = 'PD31' and (chan='BHZ' or chan='bz') and stime < 1180123472.147255 and etime > 1180123272.147255 and hz > 9.0 \n",
      "select chan, stime, etime, hz, npts, subdir, fname from llnl_wfdisc where sta = 'PD31' and (chan='BHZ' or chan='bz') and stime < 1180289332.721142 and etime > 1180289132.721142 and hz > 9.0 \n",
      "select chan, stime, etime, hz, npts, subdir, fname from llnl_wfdisc where sta = 'PD31' and (chan='BHZ' or chan='bz') and stime < 1181414027.142766 and etime > 1181413827.142766 and hz > 9.0 \n",
      "select chan, stime, etime, hz, npts, subdir, fname from llnl_wfdisc where sta = 'PD31' and (chan='BHZ' or chan='bz') and stime < 1182543291.262465 and etime > 1182543091.262465 and hz > 9.0 \n",
      "select chan, stime, etime, hz, npts, subdir, fname from llnl_wfdisc where sta = 'PD31' and (chan='BHZ' or chan='bz') and stime < 1182888523.143988 and etime > 1182888323.143988 and hz > 9.0 \n",
      "select chan, stime, etime, hz, npts, subdir, fname from llnl_wfdisc where sta = 'PD31' and (chan='BHZ' or chan='bz') and stime < 1183227027.419829 and etime > 1183226827.419829 and hz > 9.0 \n",
      "select chan, stime, etime, hz, npts, subdir, fname from llnl_wfdisc where sta = 'PD31' and (chan='BHZ' or chan='bz') and stime < 1184530262.061668 and etime > 1184530062.061668 and hz > 9.0 \n",
      "select chan, stime, etime, hz, npts, subdir, fname from llnl_wfdisc where sta = 'PD31' and (chan='BHZ' or chan='bz') and stime < 1185048924.738990 and etime > 1185048724.738990 and hz > 9.0 \n",
      "select chan, stime, etime, hz, npts, subdir, fname from llnl_wfdisc where sta = 'PD31' and (chan='BHZ' or chan='bz') and stime < 1185307600.834912 and etime > 1185307400.834912 and hz > 9.0 \n",
      "select chan, stime, etime, hz, npts, subdir, fname from llnl_wfdisc where sta = 'PD31' and (chan='BHZ' or chan='bz') and stime < 1185398245.108772 and etime > 1185398045.108772 and hz > 9.0 \n",
      "select chan, stime, etime, hz, npts, subdir, fname from llnl_wfdisc where sta = 'PD31' and (chan='BHZ' or chan='bz') and stime < 1186184910.570980 and etime > 1186184710.570980 and hz > 9.0 \n",
      "select chan, stime, etime, hz, npts, subdir, fname from llnl_wfdisc where sta = 'PD31' and (chan='BHZ' or chan='bz') and stime < 1186344248.412966 and etime > 1186344048.412966 and hz > 9.0 \n",
      "select chan, stime, etime, hz, npts, subdir, fname from llnl_wfdisc where sta = 'PD31' and (chan='BHZ' or chan='bz') and stime < 1186443034.527803 and etime > 1186442834.527803 and hz > 9.0 \n",
      "select chan, stime, etime, hz, npts, subdir, fname from llnl_wfdisc where sta = 'PD31' and (chan='BHZ' or chan='bz') and stime < 1186779946.427993 and etime > 1186779746.427993 and hz > 9.0 \n",
      "select chan, stime, etime, hz, npts, subdir, fname from llnl_wfdisc where sta = 'PD31' and (chan='BHZ' or chan='bz') and stime < 1186867267.764589 and etime > 1186867067.764589 and hz > 9.0 \n",
      "select chan, stime, etime, hz, npts, subdir, fname from llnl_wfdisc where sta = 'PD31' and (chan='BHZ' or chan='bz') and stime < 1187035617.661616 and etime > 1187035417.661616 and hz > 9.0 \n",
      "select chan, stime, etime, hz, npts, subdir, fname from llnl_wfdisc where sta = 'PD31' and (chan='BHZ' or chan='bz') and stime < 1187474576.414681 and etime > 1187474376.414681 and hz > 9.0 \n",
      "select chan, stime, etime, hz, npts, subdir, fname from llnl_wfdisc where sta = 'PD31' and (chan='BHZ' or chan='bz') and stime < 1187978835.280453 and etime > 1187978635.280453 and hz > 9.0 \n",
      "select chan, stime, etime, hz, npts, subdir, fname from llnl_wfdisc where sta = 'PD31' and (chan='BHZ' or chan='bz') and stime < 1188151625.695437 and etime > 1188151425.695437 and hz > 9.0 \n",
      "select chan, stime, etime, hz, npts, subdir, fname from llnl_wfdisc where sta = 'PD31' and (chan='BHZ' or chan='bz') and stime < 1188595054.958409 and etime > 1188594854.958409 and hz > 9.0 \n",
      "select chan, stime, etime, hz, npts, subdir, fname from llnl_wfdisc where sta = 'PD31' and (chan='BHZ' or chan='bz') and stime < 1190500470.422027 and etime > 1190500270.422027 and hz > 9.0 \n",
      "select chan, stime, etime, hz, npts, subdir, fname from llnl_wfdisc where sta = 'PD31' and (chan='BHZ' or chan='bz') and stime < 1190572081.230851 and etime > 1190571881.230851 and hz > 9.0 \n",
      "select chan, stime, etime, hz, npts, subdir, fname from llnl_wfdisc where sta = 'PD31' and (chan='BHZ' or chan='bz') and stime < 1190838605.912832 and etime > 1190838405.912832 and hz > 9.0 \n",
      "select chan, stime, etime, hz, npts, subdir, fname from llnl_wfdisc where sta = 'PD31' and (chan='BHZ' or chan='bz') and stime < 1191099851.186082 and etime > 1191099651.186082 and hz > 9.0 \n",
      "select chan, stime, etime, hz, npts, subdir, fname from llnl_wfdisc where sta = 'PD31' and (chan='BHZ' or chan='bz') and stime < 1192212612.848232 and etime > 1192212412.848232 and hz > 9.0 \n",
      "select chan, stime, etime, hz, npts, subdir, fname from llnl_wfdisc where sta = 'PD31' and (chan='BHZ' or chan='bz') and stime < 1194113455.627924 and etime > 1194113255.627924 and hz > 9.0 \n",
      "select chan, stime, etime, hz, npts, subdir, fname from llnl_wfdisc where sta = 'PD31' and (chan='BHZ' or chan='bz') and stime < 1194729240.011426 and etime > 1194729040.011426 and hz > 9.0 \n",
      "select chan, stime, etime, hz, npts, subdir, fname from llnl_wfdisc where sta = 'PD31' and (chan='BHZ' or chan='bz') and stime < 1194816950.783128 and etime > 1194816750.783128 and hz > 9.0 \n",
      "select chan, stime, etime, hz, npts, subdir, fname from llnl_wfdisc where sta = 'PD31' and (chan='BHZ' or chan='bz') and stime < 1195070836.196729 and etime > 1195070636.196729 and hz > 9.0 \n",
      "select chan, stime, etime, hz, npts, subdir, fname from llnl_wfdisc where sta = 'PD31' and (chan='BHZ' or chan='bz') and stime < 1195506685.757617 and etime > 1195506485.757617 and hz > 9.0 \n",
      "select chan, stime, etime, hz, npts, subdir, fname from llnl_wfdisc where sta = 'PD31' and (chan='BHZ' or chan='bz') and stime < 1195758351.961156 and etime > 1195758151.961156 and hz > 9.0 \n",
      "select chan, stime, etime, hz, npts, subdir, fname from llnl_wfdisc where sta = 'PD31' and (chan='BHZ' or chan='bz') and stime < 1195852063.848209 and etime > 1195851863.848209 and hz > 9.0 \n",
      "select chan, stime, etime, hz, npts, subdir, fname from llnl_wfdisc where sta = 'PD31' and (chan='BHZ' or chan='bz') and stime < 1196017848.593942 and etime > 1196017648.593942 and hz > 9.0 \n",
      "select chan, stime, etime, hz, npts, subdir, fname from llnl_wfdisc where sta = 'PD31' and (chan='BHZ' or chan='bz') and stime < 1196284101.753148 and etime > 1196283901.753148 and hz > 9.0 \n",
      "select chan, stime, etime, hz, npts, subdir, fname from llnl_wfdisc where sta = 'PD31' and (chan='BHZ' or chan='bz') and stime < 1196716065.993263 and etime > 1196715865.993263 and hz > 9.0 \n",
      "select chan, stime, etime, hz, npts, subdir, fname from llnl_wfdisc where sta = 'PD31' and (chan='BHZ' or chan='bz') and stime < 1197234870.095750 and etime > 1197234670.095750 and hz > 9.0 \n",
      "select chan, stime, etime, hz, npts, subdir, fname from llnl_wfdisc where sta = 'PD31' and (chan='BHZ' or chan='bz') and stime < 1197238128.833437 and etime > 1197237928.833437 and hz > 9.0 \n",
      "select chan, stime, etime, hz, npts, subdir, fname from llnl_wfdisc where sta = 'PD31' and (chan='BHZ' or chan='bz') and stime < 1197406300.835623 and etime > 1197406100.835623 and hz > 9.0 \n",
      "select chan, stime, etime, hz, npts, subdir, fname from llnl_wfdisc where sta = 'PD31' and (chan='BHZ' or chan='bz') and stime < 1197575470.839575 and etime > 1197575270.839575 and hz > 9.0 \n",
      "select chan, stime, etime, hz, npts, subdir, fname from llnl_wfdisc where sta = 'PD31' and (chan='BHZ' or chan='bz') and stime < 1168024903.757479 and etime > 1168024703.757479 and hz > 9.0 \n",
      "select chan, stime, etime, hz, npts, subdir, fname from llnl_wfdisc where sta = 'PD31' and (chan='BHZ' or chan='bz') and stime < 1168369548.295850 and etime > 1168369348.295850 and hz > 9.0 \n",
      "select chan, stime, etime, hz, npts, subdir, fname from llnl_wfdisc where sta = 'PD31' and (chan='BHZ' or chan='bz') and stime < 1168801460.024231 and etime > 1168801260.024231 and hz > 9.0 \n",
      "select chan, stime, etime, hz, npts, subdir, fname from llnl_wfdisc where sta = 'PD31' and (chan='BHZ' or chan='bz') and stime < 1169579020.661078 and etime > 1169578820.661078 and hz > 9.0 \n",
      "select chan, stime, etime, hz, npts, subdir, fname from llnl_wfdisc where sta = 'PD31' and (chan='BHZ' or chan='bz') and stime < 1171134408.281146 and etime > 1171134208.281146 and hz > 9.0 \n",
      "select chan, stime, etime, hz, npts, subdir, fname from llnl_wfdisc where sta = 'PD31' and (chan='BHZ' or chan='bz') and stime < 1171739230.644687 and etime > 1171739030.644687 and hz > 9.0 \n",
      "select chan, stime, etime, hz, npts, subdir, fname from llnl_wfdisc where sta = 'PD31' and (chan='BHZ' or chan='bz') and stime < 1172948718.833414 and etime > 1172948518.833414 and hz > 9.0 \n",
      "select chan, stime, etime, hz, npts, subdir, fname from llnl_wfdisc where sta = 'PD31' and (chan='BHZ' or chan='bz') and stime < 1173121665.654978 and etime > 1173121465.654978 and hz > 9.0 \n",
      "select chan, stime, etime, hz, npts, subdir, fname from llnl_wfdisc where sta = 'PD31' and (chan='BHZ' or chan='bz') and stime < 1173554052.699485 and etime > 1173553852.699485 and hz > 9.0 \n",
      "Can't find data for sta PDAR chan BHZ time 1173553852\n",
      "select chan, stime, etime, hz, npts, subdir, fname from llnl_wfdisc where sta = 'PD31' and (chan='BHZ' or chan='bz') and stime < 1173723040.427307 and etime > 1173722840.427307 and hz > 9.0 \n",
      "select chan, stime, etime, hz, npts, subdir, fname from llnl_wfdisc where sta = 'PD31' and (chan='BHZ' or chan='bz') and stime < 1174075619.807317 and etime > 1174075419.807317 and hz > 9.0 \n",
      "select chan, stime, etime, hz, npts, subdir, fname from llnl_wfdisc where sta = 'PD31' and (chan='BHZ' or chan='bz') and stime < 1174079440.604202 and etime > 1174079240.604202 and hz > 9.0 \n",
      "select chan, stime, etime, hz, npts, subdir, fname from llnl_wfdisc where sta = 'PD31' and (chan='BHZ' or chan='bz') and stime < 1174252026.177052 and etime > 1174251826.177052 and hz > 9.0 \n",
      "select chan, stime, etime, hz, npts, subdir, fname from llnl_wfdisc where sta = 'PD31' and (chan='BHZ' or chan='bz') and stime < 1174500296.811797 and etime > 1174500096.811797 and hz > 9.0 \n",
      "select chan, stime, etime, hz, npts, subdir, fname from llnl_wfdisc where sta = 'PD31' and (chan='BHZ' or chan='bz') and stime < 1174939709.863419 and etime > 1174939509.863419 and hz > 9.0 \n",
      "select chan, stime, etime, hz, npts, subdir, fname from llnl_wfdisc where sta = 'PD31' and (chan='BHZ' or chan='bz') and stime < 1175709957.741019 and etime > 1175709757.741019 and hz > 9.0 \n",
      "select chan, stime, etime, hz, npts, subdir, fname from llnl_wfdisc where sta = 'PD31' and (chan='BHZ' or chan='bz') and stime < 1177171366.989206 and etime > 1177171166.989206 and hz > 9.0 \n",
      "select chan, stime, etime, hz, npts, subdir, fname from llnl_wfdisc where sta = 'PD31' and (chan='BHZ' or chan='bz') and stime < 1177783668.031221 and etime > 1177783468.031221 and hz > 9.0 \n",
      "select chan, stime, etime, hz, npts, subdir, fname from llnl_wfdisc where sta = 'PD31' and (chan='BHZ' or chan='bz') and stime < 1178482356.620234 and etime > 1178482156.620234 and hz > 9.0 \n",
      "Can't find data for sta PDAR chan BHZ time 1178482156\n",
      "select chan, stime, etime, hz, npts, subdir, fname from llnl_wfdisc where sta = 'PD31' and (chan='BHZ' or chan='bz') and stime < 1179259738.034929 and etime > 1179259538.034929 and hz > 9.0 \n",
      "Can't find data for sta PDAR chan BHZ time 1179259538\n",
      "select chan, stime, etime, hz, npts, subdir, fname from llnl_wfdisc where sta = 'PD31' and (chan='BHZ' or chan='bz') and stime < 1179864691.215083 and etime > 1179864491.215083 and hz > 9.0 \n",
      "select chan, stime, etime, hz, npts, subdir, fname from llnl_wfdisc where sta = 'PD31' and (chan='BHZ' or chan='bz') and stime < 1180123472.147255 and etime > 1180123272.147255 and hz > 9.0 \n",
      "select chan, stime, etime, hz, npts, subdir, fname from llnl_wfdisc where sta = 'PD31' and (chan='BHZ' or chan='bz') and stime < 1180289332.721142 and etime > 1180289132.721142 and hz > 9.0 \n",
      "select chan, stime, etime, hz, npts, subdir, fname from llnl_wfdisc where sta = 'PD31' and (chan='BHZ' or chan='bz') and stime < 1181414027.142766 and etime > 1181413827.142766 and hz > 9.0 \n",
      "select chan, stime, etime, hz, npts, subdir, fname from llnl_wfdisc where sta = 'PD31' and (chan='BHZ' or chan='bz') and stime < 1182543291.262465 and etime > 1182543091.262465 and hz > 9.0 \n",
      "select chan, stime, etime, hz, npts, subdir, fname from llnl_wfdisc where sta = 'PD31' and (chan='BHZ' or chan='bz') and stime < 1182888523.143988 and etime > 1182888323.143988 and hz > 9.0 \n",
      "select chan, stime, etime, hz, npts, subdir, fname from llnl_wfdisc where sta = 'PD31' and (chan='BHZ' or chan='bz') and stime < 1183227027.419829 and etime > 1183226827.419829 and hz > 9.0 \n",
      "select chan, stime, etime, hz, npts, subdir, fname from llnl_wfdisc where sta = 'PD31' and (chan='BHZ' or chan='bz') and stime < 1184530262.061668 and etime > 1184530062.061668 and hz > 9.0 \n",
      "select chan, stime, etime, hz, npts, subdir, fname from llnl_wfdisc where sta = 'PD31' and (chan='BHZ' or chan='bz') and stime < 1185048924.738990 and etime > 1185048724.738990 and hz > 9.0 \n",
      "select chan, stime, etime, hz, npts, subdir, fname from llnl_wfdisc where sta = 'PD31' and (chan='BHZ' or chan='bz') and stime < 1185307600.834912 and etime > 1185307400.834912 and hz > 9.0 \n",
      "select chan, stime, etime, hz, npts, subdir, fname from llnl_wfdisc where sta = 'PD31' and (chan='BHZ' or chan='bz') and stime < 1185398245.108772 and etime > 1185398045.108772 and hz > 9.0 \n",
      "select chan, stime, etime, hz, npts, subdir, fname from llnl_wfdisc where sta = 'PD31' and (chan='BHZ' or chan='bz') and stime < 1186184910.570980 and etime > 1186184710.570980 and hz > 9.0 \n",
      "select chan, stime, etime, hz, npts, subdir, fname from llnl_wfdisc where sta = 'PD31' and (chan='BHZ' or chan='bz') and stime < 1186344248.412966 and etime > 1186344048.412966 and hz > 9.0 \n",
      "select chan, stime, etime, hz, npts, subdir, fname from llnl_wfdisc where sta = 'PD31' and (chan='BHZ' or chan='bz') and stime < 1186443034.527803 and etime > 1186442834.527803 and hz > 9.0 \n",
      "select chan, stime, etime, hz, npts, subdir, fname from llnl_wfdisc where sta = 'PD31' and (chan='BHZ' or chan='bz') and stime < 1186779946.427993 and etime > 1186779746.427993 and hz > 9.0 \n",
      "select chan, stime, etime, hz, npts, subdir, fname from llnl_wfdisc where sta = 'PD31' and (chan='BHZ' or chan='bz') and stime < 1186867267.764589 and etime > 1186867067.764589 and hz > 9.0 \n",
      "select chan, stime, etime, hz, npts, subdir, fname from llnl_wfdisc where sta = 'PD31' and (chan='BHZ' or chan='bz') and stime < 1187035617.661616 and etime > 1187035417.661616 and hz > 9.0 \n",
      "select chan, stime, etime, hz, npts, subdir, fname from llnl_wfdisc where sta = 'PD31' and (chan='BHZ' or chan='bz') and stime < 1187474576.414681 and etime > 1187474376.414681 and hz > 9.0 \n",
      "select chan, stime, etime, hz, npts, subdir, fname from llnl_wfdisc where sta = 'PD31' and (chan='BHZ' or chan='bz') and stime < 1187978835.280453 and etime > 1187978635.280453 and hz > 9.0 \n",
      "select chan, stime, etime, hz, npts, subdir, fname from llnl_wfdisc where sta = 'PD31' and (chan='BHZ' or chan='bz') and stime < 1188151625.695437 and etime > 1188151425.695437 and hz > 9.0 \n",
      "select chan, stime, etime, hz, npts, subdir, fname from llnl_wfdisc where sta = 'PD31' and (chan='BHZ' or chan='bz') and stime < 1188595054.958409 and etime > 1188594854.958409 and hz > 9.0 \n",
      "select chan, stime, etime, hz, npts, subdir, fname from llnl_wfdisc where sta = 'PD31' and (chan='BHZ' or chan='bz') and stime < 1190500470.422027 and etime > 1190500270.422027 and hz > 9.0 \n",
      "select chan, stime, etime, hz, npts, subdir, fname from llnl_wfdisc where sta = 'PD31' and (chan='BHZ' or chan='bz') and stime < 1190572081.230851 and etime > 1190571881.230851 and hz > 9.0 \n",
      "select chan, stime, etime, hz, npts, subdir, fname from llnl_wfdisc where sta = 'PD31' and (chan='BHZ' or chan='bz') and stime < 1190838605.912832 and etime > 1190838405.912832 and hz > 9.0 \n",
      "select chan, stime, etime, hz, npts, subdir, fname from llnl_wfdisc where sta = 'PD31' and (chan='BHZ' or chan='bz') and stime < 1191099851.186082 and etime > 1191099651.186082 and hz > 9.0 \n",
      "select chan, stime, etime, hz, npts, subdir, fname from llnl_wfdisc where sta = 'PD31' and (chan='BHZ' or chan='bz') and stime < 1192212612.848232 and etime > 1192212412.848232 and hz > 9.0 \n",
      "select chan, stime, etime, hz, npts, subdir, fname from llnl_wfdisc where sta = 'PD31' and (chan='BHZ' or chan='bz') and stime < 1194113455.627924 and etime > 1194113255.627924 and hz > 9.0 \n",
      "select chan, stime, etime, hz, npts, subdir, fname from llnl_wfdisc where sta = 'PD31' and (chan='BHZ' or chan='bz') and stime < 1194729240.011426 and etime > 1194729040.011426 and hz > 9.0 \n",
      "select chan, stime, etime, hz, npts, subdir, fname from llnl_wfdisc where sta = 'PD31' and (chan='BHZ' or chan='bz') and stime < 1194816950.783128 and etime > 1194816750.783128 and hz > 9.0 \n",
      "select chan, stime, etime, hz, npts, subdir, fname from llnl_wfdisc where sta = 'PD31' and (chan='BHZ' or chan='bz') and stime < 1195070836.196729 and etime > 1195070636.196729 and hz > 9.0 \n",
      "select chan, stime, etime, hz, npts, subdir, fname from llnl_wfdisc where sta = 'PD31' and (chan='BHZ' or chan='bz') and stime < 1195506685.757617 and etime > 1195506485.757617 and hz > 9.0 \n",
      "select chan, stime, etime, hz, npts, subdir, fname from llnl_wfdisc where sta = 'PD31' and (chan='BHZ' or chan='bz') and stime < 1195758351.961156 and etime > 1195758151.961156 and hz > 9.0 \n",
      "select chan, stime, etime, hz, npts, subdir, fname from llnl_wfdisc where sta = 'PD31' and (chan='BHZ' or chan='bz') and stime < 1195852063.848209 and etime > 1195851863.848209 and hz > 9.0 \n",
      "select chan, stime, etime, hz, npts, subdir, fname from llnl_wfdisc where sta = 'PD31' and (chan='BHZ' or chan='bz') and stime < 1196017848.593942 and etime > 1196017648.593942 and hz > 9.0 \n",
      "select chan, stime, etime, hz, npts, subdir, fname from llnl_wfdisc where sta = 'PD31' and (chan='BHZ' or chan='bz') and stime < 1196284101.753148 and etime > 1196283901.753148 and hz > 9.0 \n",
      "select chan, stime, etime, hz, npts, subdir, fname from llnl_wfdisc where sta = 'PD31' and (chan='BHZ' or chan='bz') and stime < 1196716065.993263 and etime > 1196715865.993263 and hz > 9.0 \n",
      "select chan, stime, etime, hz, npts, subdir, fname from llnl_wfdisc where sta = 'PD31' and (chan='BHZ' or chan='bz') and stime < 1197234870.095750 and etime > 1197234670.095750 and hz > 9.0 \n",
      "select chan, stime, etime, hz, npts, subdir, fname from llnl_wfdisc where sta = 'PD31' and (chan='BHZ' or chan='bz') and stime < 1197238128.833437 and etime > 1197237928.833437 and hz > 9.0 \n",
      "select chan, stime, etime, hz, npts, subdir, fname from llnl_wfdisc where sta = 'PD31' and (chan='BHZ' or chan='bz') and stime < 1197406300.835623 and etime > 1197406100.835623 and hz > 9.0 \n",
      "select chan, stime, etime, hz, npts, subdir, fname from llnl_wfdisc where sta = 'PD31' and (chan='BHZ' or chan='bz') and stime < 1197575470.839575 and etime > 1197575270.839575 and hz > 9.0 \n",
      "select chan, stime, etime, hz, npts, subdir, fname from llnl_wfdisc where sta = 'PD31' and (chan='BHZ' or chan='bz') and stime < 1168024903.757479 and etime > 1168024703.757479 and hz > 9.0 \n",
      "select chan, stime, etime, hz, npts, subdir, fname from llnl_wfdisc where sta = 'PD31' and (chan='BHZ' or chan='bz') and stime < 1168369548.295850 and etime > 1168369348.295850 and hz > 9.0 \n",
      "select chan, stime, etime, hz, npts, subdir, fname from llnl_wfdisc where sta = 'PD31' and (chan='BHZ' or chan='bz') and stime < 1168801460.024231 and etime > 1168801260.024231 and hz > 9.0 \n",
      "select chan, stime, etime, hz, npts, subdir, fname from llnl_wfdisc where sta = 'PD31' and (chan='BHZ' or chan='bz') and stime < 1169579020.661078 and etime > 1169578820.661078 and hz > 9.0 \n",
      "select chan, stime, etime, hz, npts, subdir, fname from llnl_wfdisc where sta = 'PD31' and (chan='BHZ' or chan='bz') and stime < 1171134408.281146 and etime > 1171134208.281146 and hz > 9.0 \n",
      "select chan, stime, etime, hz, npts, subdir, fname from llnl_wfdisc where sta = 'PD31' and (chan='BHZ' or chan='bz') and stime < 1171739230.644687 and etime > 1171739030.644687 and hz > 9.0 \n",
      "select chan, stime, etime, hz, npts, subdir, fname from llnl_wfdisc where sta = 'PD31' and (chan='BHZ' or chan='bz') and stime < 1172948718.833414 and etime > 1172948518.833414 and hz > 9.0 \n",
      "select chan, stime, etime, hz, npts, subdir, fname from llnl_wfdisc where sta = 'PD31' and (chan='BHZ' or chan='bz') and stime < 1173121665.654978 and etime > 1173121465.654978 and hz > 9.0 \n",
      "select chan, stime, etime, hz, npts, subdir, fname from llnl_wfdisc where sta = 'PD31' and (chan='BHZ' or chan='bz') and stime < 1173554052.699485 and etime > 1173553852.699485 and hz > 9.0 \n",
      "Can't find data for sta PDAR chan BHZ time 1173553852\n",
      "select chan, stime, etime, hz, npts, subdir, fname from llnl_wfdisc where sta = 'PD31' and (chan='BHZ' or chan='bz') and stime < 1173723040.427307 and etime > 1173722840.427307 and hz > 9.0 \n",
      "select chan, stime, etime, hz, npts, subdir, fname from llnl_wfdisc where sta = 'PD31' and (chan='BHZ' or chan='bz') and stime < 1174075619.807317 and etime > 1174075419.807317 and hz > 9.0 \n",
      "select chan, stime, etime, hz, npts, subdir, fname from llnl_wfdisc where sta = 'PD31' and (chan='BHZ' or chan='bz') and stime < 1174079440.604202 and etime > 1174079240.604202 and hz > 9.0 \n",
      "select chan, stime, etime, hz, npts, subdir, fname from llnl_wfdisc where sta = 'PD31' and (chan='BHZ' or chan='bz') and stime < 1174252026.177052 and etime > 1174251826.177052 and hz > 9.0 \n",
      "select chan, stime, etime, hz, npts, subdir, fname from llnl_wfdisc where sta = 'PD31' and (chan='BHZ' or chan='bz') and stime < 1174500296.811797 and etime > 1174500096.811797 and hz > 9.0 \n",
      "select chan, stime, etime, hz, npts, subdir, fname from llnl_wfdisc where sta = 'PD31' and (chan='BHZ' or chan='bz') and stime < 1174939709.863419 and etime > 1174939509.863419 and hz > 9.0 \n",
      "select chan, stime, etime, hz, npts, subdir, fname from llnl_wfdisc where sta = 'PD31' and (chan='BHZ' or chan='bz') and stime < 1175709957.741019 and etime > 1175709757.741019 and hz > 9.0 \n",
      "select chan, stime, etime, hz, npts, subdir, fname from llnl_wfdisc where sta = 'PD31' and (chan='BHZ' or chan='bz') and stime < 1177171366.989206 and etime > 1177171166.989206 and hz > 9.0 \n",
      "select chan, stime, etime, hz, npts, subdir, fname from llnl_wfdisc where sta = 'PD31' and (chan='BHZ' or chan='bz') and stime < 1177783668.031221 and etime > 1177783468.031221 and hz > 9.0 \n",
      "select chan, stime, etime, hz, npts, subdir, fname from llnl_wfdisc where sta = 'PD31' and (chan='BHZ' or chan='bz') and stime < 1178482356.620234 and etime > 1178482156.620234 and hz > 9.0 \n",
      "Can't find data for sta PDAR chan BHZ time 1178482156\n",
      "select chan, stime, etime, hz, npts, subdir, fname from llnl_wfdisc where sta = 'PD31' and (chan='BHZ' or chan='bz') and stime < 1179259738.034929 and etime > 1179259538.034929 and hz > 9.0 \n",
      "Can't find data for sta PDAR chan BHZ time 1179259538\n",
      "select chan, stime, etime, hz, npts, subdir, fname from llnl_wfdisc where sta = 'PD31' and (chan='BHZ' or chan='bz') and stime < 1179864691.215083 and etime > 1179864491.215083 and hz > 9.0 \n",
      "select chan, stime, etime, hz, npts, subdir, fname from llnl_wfdisc where sta = 'PD31' and (chan='BHZ' or chan='bz') and stime < 1180123472.147255 and etime > 1180123272.147255 and hz > 9.0 \n",
      "select chan, stime, etime, hz, npts, subdir, fname from llnl_wfdisc where sta = 'PD31' and (chan='BHZ' or chan='bz') and stime < 1180289332.721142 and etime > 1180289132.721142 and hz > 9.0 \n",
      "select chan, stime, etime, hz, npts, subdir, fname from llnl_wfdisc where sta = 'PD31' and (chan='BHZ' or chan='bz') and stime < 1181414027.142766 and etime > 1181413827.142766 and hz > 9.0 \n",
      "select chan, stime, etime, hz, npts, subdir, fname from llnl_wfdisc where sta = 'PD31' and (chan='BHZ' or chan='bz') and stime < 1182543291.262465 and etime > 1182543091.262465 and hz > 9.0 \n",
      "select chan, stime, etime, hz, npts, subdir, fname from llnl_wfdisc where sta = 'PD31' and (chan='BHZ' or chan='bz') and stime < 1182888523.143988 and etime > 1182888323.143988 and hz > 9.0 \n",
      "select chan, stime, etime, hz, npts, subdir, fname from llnl_wfdisc where sta = 'PD31' and (chan='BHZ' or chan='bz') and stime < 1183227027.419829 and etime > 1183226827.419829 and hz > 9.0 \n",
      "select chan, stime, etime, hz, npts, subdir, fname from llnl_wfdisc where sta = 'PD31' and (chan='BHZ' or chan='bz') and stime < 1184530262.061668 and etime > 1184530062.061668 and hz > 9.0 \n",
      "select chan, stime, etime, hz, npts, subdir, fname from llnl_wfdisc where sta = 'PD31' and (chan='BHZ' or chan='bz') and stime < 1185048924.738990 and etime > 1185048724.738990 and hz > 9.0 \n",
      "select chan, stime, etime, hz, npts, subdir, fname from llnl_wfdisc where sta = 'PD31' and (chan='BHZ' or chan='bz') and stime < 1185307600.834912 and etime > 1185307400.834912 and hz > 9.0 \n",
      "select chan, stime, etime, hz, npts, subdir, fname from llnl_wfdisc where sta = 'PD31' and (chan='BHZ' or chan='bz') and stime < 1185398245.108772 and etime > 1185398045.108772 and hz > 9.0 \n",
      "select chan, stime, etime, hz, npts, subdir, fname from llnl_wfdisc where sta = 'PD31' and (chan='BHZ' or chan='bz') and stime < 1186184910.570980 and etime > 1186184710.570980 and hz > 9.0 \n",
      "select chan, stime, etime, hz, npts, subdir, fname from llnl_wfdisc where sta = 'PD31' and (chan='BHZ' or chan='bz') and stime < 1186344248.412966 and etime > 1186344048.412966 and hz > 9.0 \n",
      "select chan, stime, etime, hz, npts, subdir, fname from llnl_wfdisc where sta = 'PD31' and (chan='BHZ' or chan='bz') and stime < 1186443034.527803 and etime > 1186442834.527803 and hz > 9.0 \n",
      "select chan, stime, etime, hz, npts, subdir, fname from llnl_wfdisc where sta = 'PD31' and (chan='BHZ' or chan='bz') and stime < 1186779946.427993 and etime > 1186779746.427993 and hz > 9.0 \n",
      "select chan, stime, etime, hz, npts, subdir, fname from llnl_wfdisc where sta = 'PD31' and (chan='BHZ' or chan='bz') and stime < 1186867267.764589 and etime > 1186867067.764589 and hz > 9.0 \n",
      "select chan, stime, etime, hz, npts, subdir, fname from llnl_wfdisc where sta = 'PD31' and (chan='BHZ' or chan='bz') and stime < 1187035617.661616 and etime > 1187035417.661616 and hz > 9.0 \n",
      "select chan, stime, etime, hz, npts, subdir, fname from llnl_wfdisc where sta = 'PD31' and (chan='BHZ' or chan='bz') and stime < 1187474576.414681 and etime > 1187474376.414681 and hz > 9.0 \n",
      "select chan, stime, etime, hz, npts, subdir, fname from llnl_wfdisc where sta = 'PD31' and (chan='BHZ' or chan='bz') and stime < 1187978835.280453 and etime > 1187978635.280453 and hz > 9.0 \n",
      "select chan, stime, etime, hz, npts, subdir, fname from llnl_wfdisc where sta = 'PD31' and (chan='BHZ' or chan='bz') and stime < 1188151625.695437 and etime > 1188151425.695437 and hz > 9.0 \n",
      "select chan, stime, etime, hz, npts, subdir, fname from llnl_wfdisc where sta = 'PD31' and (chan='BHZ' or chan='bz') and stime < 1188595054.958409 and etime > 1188594854.958409 and hz > 9.0 \n",
      "select chan, stime, etime, hz, npts, subdir, fname from llnl_wfdisc where sta = 'PD31' and (chan='BHZ' or chan='bz') and stime < 1190500470.422027 and etime > 1190500270.422027 and hz > 9.0 \n",
      "select chan, stime, etime, hz, npts, subdir, fname from llnl_wfdisc where sta = 'PD31' and (chan='BHZ' or chan='bz') and stime < 1190572081.230851 and etime > 1190571881.230851 and hz > 9.0 \n",
      "select chan, stime, etime, hz, npts, subdir, fname from llnl_wfdisc where sta = 'PD31' and (chan='BHZ' or chan='bz') and stime < 1190838605.912832 and etime > 1190838405.912832 and hz > 9.0 \n",
      "select chan, stime, etime, hz, npts, subdir, fname from llnl_wfdisc where sta = 'PD31' and (chan='BHZ' or chan='bz') and stime < 1191099851.186082 and etime > 1191099651.186082 and hz > 9.0 \n",
      "select chan, stime, etime, hz, npts, subdir, fname from llnl_wfdisc where sta = 'PD31' and (chan='BHZ' or chan='bz') and stime < 1192212612.848232 and etime > 1192212412.848232 and hz > 9.0 \n",
      "select chan, stime, etime, hz, npts, subdir, fname from llnl_wfdisc where sta = 'PD31' and (chan='BHZ' or chan='bz') and stime < 1194113455.627924 and etime > 1194113255.627924 and hz > 9.0 \n",
      "select chan, stime, etime, hz, npts, subdir, fname from llnl_wfdisc where sta = 'PD31' and (chan='BHZ' or chan='bz') and stime < 1194729240.011426 and etime > 1194729040.011426 and hz > 9.0 \n",
      "select chan, stime, etime, hz, npts, subdir, fname from llnl_wfdisc where sta = 'PD31' and (chan='BHZ' or chan='bz') and stime < 1194816950.783128 and etime > 1194816750.783128 and hz > 9.0 \n",
      "select chan, stime, etime, hz, npts, subdir, fname from llnl_wfdisc where sta = 'PD31' and (chan='BHZ' or chan='bz') and stime < 1195070836.196729 and etime > 1195070636.196729 and hz > 9.0 \n",
      "select chan, stime, etime, hz, npts, subdir, fname from llnl_wfdisc where sta = 'PD31' and (chan='BHZ' or chan='bz') and stime < 1195506685.757617 and etime > 1195506485.757617 and hz > 9.0 \n",
      "select chan, stime, etime, hz, npts, subdir, fname from llnl_wfdisc where sta = 'PD31' and (chan='BHZ' or chan='bz') and stime < 1195758351.961156 and etime > 1195758151.961156 and hz > 9.0 \n",
      "select chan, stime, etime, hz, npts, subdir, fname from llnl_wfdisc where sta = 'PD31' and (chan='BHZ' or chan='bz') and stime < 1195852063.848209 and etime > 1195851863.848209 and hz > 9.0 \n",
      "select chan, stime, etime, hz, npts, subdir, fname from llnl_wfdisc where sta = 'PD31' and (chan='BHZ' or chan='bz') and stime < 1196017848.593942 and etime > 1196017648.593942 and hz > 9.0 \n",
      "select chan, stime, etime, hz, npts, subdir, fname from llnl_wfdisc where sta = 'PD31' and (chan='BHZ' or chan='bz') and stime < 1196284101.753148 and etime > 1196283901.753148 and hz > 9.0 \n",
      "select chan, stime, etime, hz, npts, subdir, fname from llnl_wfdisc where sta = 'PD31' and (chan='BHZ' or chan='bz') and stime < 1196716065.993263 and etime > 1196715865.993263 and hz > 9.0 \n",
      "select chan, stime, etime, hz, npts, subdir, fname from llnl_wfdisc where sta = 'PD31' and (chan='BHZ' or chan='bz') and stime < 1197234870.095750 and etime > 1197234670.095750 and hz > 9.0 \n",
      "select chan, stime, etime, hz, npts, subdir, fname from llnl_wfdisc where sta = 'PD31' and (chan='BHZ' or chan='bz') and stime < 1197238128.833437 and etime > 1197237928.833437 and hz > 9.0 \n",
      "select chan, stime, etime, hz, npts, subdir, fname from llnl_wfdisc where sta = 'PD31' and (chan='BHZ' or chan='bz') and stime < 1197406300.835623 and etime > 1197406100.835623 and hz > 9.0 \n",
      "select chan, stime, etime, hz, npts, subdir, fname from llnl_wfdisc where sta = 'PD31' and (chan='BHZ' or chan='bz') and stime < 1197575470.839575 and etime > 1197575270.839575 and hz > 9.0 \n",
      "saving debug dump to /home/dmoore/python/sigvisa/logs/mcmc/00729/step_000000...\n",
      "saved pickled graph\n"
     ]
    },
    {
     "name": "stderr",
     "output_type": "stream",
     "text": [
      "/home/dmoore/python/sigvisa/models/signal_model.py:596: FutureWarning: comparison to `None` will result in an elementwise object comparison in the future.\n",
      "  return TransientCombinedSSM(components, TSSM_NOISE_PADDING)\n"
     ]
    },
    {
     "ename": "KeyboardInterrupt",
     "evalue": "",
     "output_type": "error",
     "traceback": [
      "\u001b[1;31m---------------------------------------------------------------------------\u001b[0m",
      "\u001b[1;31mKeyboardInterrupt\u001b[0m                         Traceback (most recent call last)",
      "\u001b[1;32m<ipython-input-5-6b296b34b0f8>\u001b[0m in \u001b[0;36m<module>\u001b[1;34m()\u001b[0m\n\u001b[0;32m      6\u001b[0m                     \u001b[0mphases\u001b[0m\u001b[1;33m=\u001b[0m\u001b[1;33m[\u001b[0m\u001b[1;34m\"P\"\u001b[0m\u001b[1;33m,\u001b[0m \u001b[1;34m\"Lg\"\u001b[0m\u001b[1;33m,\u001b[0m \u001b[1;34m\"S\"\u001b[0m\u001b[1;33m,\u001b[0m \u001b[1;34m\"Pg\"\u001b[0m\u001b[1;33m]\u001b[0m\u001b[1;33m,\u001b[0m\u001b[1;33m\u001b[0m\u001b[0m\n\u001b[0;32m      7\u001b[0m                     \u001b[0mdummy_prior\u001b[0m\u001b[1;33m=\u001b[0m\u001b[0mdummyPrior\u001b[0m\u001b[1;33m,\u001b[0m\u001b[1;33m\u001b[0m\u001b[0m\n\u001b[1;32m----> 8\u001b[1;33m                     dummy_fallback=True)\n\u001b[0m",
      "\u001b[1;32m/home/dmoore/python/sigvisa/experiments/aftershock_region.pyc\u001b[0m in \u001b[0;36msigvisa_fit_jointgp\u001b[1;34m(stas, evs, runids, max_hz, **kwargs)\u001b[0m\n\u001b[0;32m     43\u001b[0m \u001b[1;33m\u001b[0m\u001b[0m\n\u001b[0;32m     44\u001b[0m     \u001b[0mms\u001b[0m \u001b[1;33m=\u001b[0m \u001b[1;33m[\u001b[0m\u001b[0mms1\u001b[0m\u001b[1;33m,\u001b[0m \u001b[0mms2\u001b[0m\u001b[1;33m,\u001b[0m \u001b[0mms4\u001b[0m\u001b[1;33m]\u001b[0m\u001b[1;33m\u001b[0m\u001b[0m\n\u001b[1;32m---> 45\u001b[1;33m     \u001b[0mdo_coarse_to_fine\u001b[0m\u001b[1;33m(\u001b[0m\u001b[0mms\u001b[0m\u001b[1;33m,\u001b[0m \u001b[0mrs\u001b[0m\u001b[1;33m,\u001b[0m \u001b[0mmax_steps_intermediate\u001b[0m\u001b[1;33m=\u001b[0m\u001b[1;36m100\u001b[0m\u001b[1;33m)\u001b[0m\u001b[1;33m\u001b[0m\u001b[0m\n\u001b[0m\u001b[0;32m     46\u001b[0m \u001b[1;33m\u001b[0m\u001b[0m\n\u001b[0;32m     47\u001b[0m \u001b[1;33m\u001b[0m\u001b[0m\n",
      "\u001b[1;32m/home/dmoore/python/sigvisa/infer/coarse_to_fine_init.py\u001b[0m in \u001b[0;36mdo_coarse_to_fine\u001b[1;34m(modelspecs, runspec, model_switch_lp_threshold, max_steps_intermediate, max_steps_final, **kwargs)\u001b[0m\n\u001b[0;32m    467\u001b[0m         do_inference(sg, modelspec, runspec,\n\u001b[0;32m    468\u001b[0m                      \u001b[0mmodel_switch_lp_threshold\u001b[0m\u001b[1;33m=\u001b[0m\u001b[0mmodel_switch_lp_threshold\u001b[0m\u001b[1;33m,\u001b[0m\u001b[1;33m\u001b[0m\u001b[0m\n\u001b[1;32m--> 469\u001b[1;33m                      max_steps = max_steps_intermediate, **kwargs)\n\u001b[0m\u001b[0;32m    470\u001b[0m         \u001b[0msg_old\u001b[0m\u001b[1;33m,\u001b[0m \u001b[0mms_old\u001b[0m \u001b[1;33m=\u001b[0m \u001b[0msg\u001b[0m\u001b[1;33m,\u001b[0m \u001b[0mmodelspec\u001b[0m\u001b[1;33m\u001b[0m\u001b[0m\n\u001b[0;32m    471\u001b[0m \u001b[1;33m\u001b[0m\u001b[0m\n",
      "\u001b[1;32m/home/dmoore/python/sigvisa/infer/coarse_to_fine_init.py\u001b[0m in \u001b[0;36mdo_inference\u001b[1;34m(sg, modelspec, runspec, max_steps, model_switch_lp_threshold, dump_interval_s, print_interval_s, swapper)\u001b[0m\n\u001b[0;32m    446\u001b[0m                           \u001b[0mstart_step\u001b[0m\u001b[1;33m=\u001b[0m\u001b[0mstep\u001b[0m\u001b[1;33m,\u001b[0m\u001b[1;33m\u001b[0m\u001b[0m\n\u001b[0;32m    447\u001b[0m                           \u001b[0mswapper\u001b[0m\u001b[1;33m=\u001b[0m\u001b[0mswapper\u001b[0m\u001b[1;33m,\u001b[0m\u001b[1;33m\u001b[0m\u001b[0m\n\u001b[1;32m--> 448\u001b[1;33m                           **inference_params)\n\u001b[0m\u001b[0;32m    449\u001b[0m         \u001b[0mstep\u001b[0m \u001b[1;33m=\u001b[0m \u001b[0mlogger\u001b[0m\u001b[1;33m.\u001b[0m\u001b[0mlast_step\u001b[0m\u001b[1;33m\u001b[0m\u001b[0m\n\u001b[0;32m    450\u001b[0m \u001b[1;33m\u001b[0m\u001b[0m\n",
      "\u001b[1;32m/home/dmoore/python/sigvisa/infer/run_mcmc.pyc\u001b[0m in \u001b[0;36mrun_open_world_MH\u001b[1;34m(sg, steps, enable_event_openworld, enable_event_moves, enable_phase_openworld, enable_template_openworld, enable_template_moves, enable_hparam_moves, template_move_type, logger, disable_moves, start_step, cyclic_template_moves, use_proxy_lp, template_openworld_custom, swapper, prior_births_only, stop_condition)\u001b[0m\n\u001b[0;32m    463\u001b[0m                             do_template_moves(sg, wn, tmnodes, tg, stds,\n\u001b[0;32m    464\u001b[0m                                               \u001b[0mn_attempted\u001b[0m\u001b[1;33m,\u001b[0m \u001b[0mn_accepted\u001b[0m\u001b[1;33m,\u001b[0m \u001b[0mmove_times\u001b[0m\u001b[1;33m,\u001b[0m \u001b[0mstep\u001b[0m\u001b[1;33m,\u001b[0m\u001b[1;33m\u001b[0m\u001b[0m\n\u001b[1;32m--> 465\u001b[1;33m                                               proxy_lps=proxy_lps)\n\u001b[0m\u001b[0;32m    466\u001b[0m \u001b[1;33m\u001b[0m\u001b[0m\n\u001b[0;32m    467\u001b[0m         \u001b[1;32mfor\u001b[0m \u001b[1;33m(\u001b[0m\u001b[0mmove\u001b[0m\u001b[1;33m,\u001b[0m \u001b[1;33m(\u001b[0m\u001b[0mfn\u001b[0m\u001b[1;33m,\u001b[0m \u001b[0mprob\u001b[0m\u001b[1;33m)\u001b[0m\u001b[1;33m)\u001b[0m \u001b[1;32min\u001b[0m \u001b[0mglobal_moves\u001b[0m\u001b[1;33m.\u001b[0m\u001b[0mitems\u001b[0m\u001b[1;33m(\u001b[0m\u001b[1;33m)\u001b[0m\u001b[1;33m:\u001b[0m\u001b[1;33m\u001b[0m\u001b[0m\n",
      "\u001b[1;32m/home/dmoore/python/sigvisa/infer/run_mcmc.pyc\u001b[0m in \u001b[0;36mdo_template_moves\u001b[1;34m(sg, wn, tmnodes, tg, stds, n_attempted, n_accepted, move_times, step, proxy_lps, **kwargs)\u001b[0m\n\u001b[0;32m    136\u001b[0m                      \u001b[0msg\u001b[0m\u001b[1;33m=\u001b[0m\u001b[0msg\u001b[0m\u001b[1;33m,\u001b[0m \u001b[0mkeys\u001b[0m\u001b[1;33m=\u001b[0m\u001b[1;33m(\u001b[0m\u001b[0mk\u001b[0m\u001b[1;33m,\u001b[0m\u001b[1;33m)\u001b[0m\u001b[1;33m,\u001b[0m \u001b[0mnode_list\u001b[0m\u001b[1;33m=\u001b[0m\u001b[1;33m(\u001b[0m\u001b[0mn\u001b[0m\u001b[1;33m,\u001b[0m\u001b[1;33m)\u001b[0m\u001b[1;33m,\u001b[0m\u001b[1;33m\u001b[0m\u001b[0m\n\u001b[0;32m    137\u001b[0m                      \u001b[0mrelevant_nodes\u001b[0m\u001b[1;33m=\u001b[0m\u001b[0mrelevant_nodes\u001b[0m\u001b[1;33m,\u001b[0m \u001b[0mstd\u001b[0m\u001b[1;33m=\u001b[0m\u001b[0mstds\u001b[0m\u001b[1;33m[\u001b[0m\u001b[0mparam\u001b[0m\u001b[1;33m]\u001b[0m\u001b[1;33m,\u001b[0m\u001b[1;33m\u001b[0m\u001b[0m\n\u001b[1;32m--> 138\u001b[1;33m                      proxy_lps=proxy_lps, **kwargs)\n\u001b[0m\u001b[0;32m    139\u001b[0m         \u001b[1;32mexcept\u001b[0m \u001b[0mKeyError\u001b[0m\u001b[1;33m:\u001b[0m\u001b[1;33m\u001b[0m\u001b[0m\n\u001b[0;32m    140\u001b[0m             \u001b[1;32mcontinue\u001b[0m\u001b[1;33m\u001b[0m\u001b[0m\n",
      "\u001b[1;32m/home/dmoore/python/sigvisa/infer/run_mcmc.pyc\u001b[0m in \u001b[0;36mrun_move\u001b[1;34m(move_name, fn, step, n_accepted, n_attempted, move_times, move_prob, cyclic, **kwargs)\u001b[0m\n\u001b[0;32m    168\u001b[0m \u001b[1;33m\u001b[0m\u001b[0m\n\u001b[0;32m    169\u001b[0m     \u001b[0mt0\u001b[0m  \u001b[1;33m=\u001b[0m \u001b[0mtime\u001b[0m\u001b[1;33m.\u001b[0m\u001b[0mtime\u001b[0m\u001b[1;33m(\u001b[0m\u001b[1;33m)\u001b[0m\u001b[1;33m\u001b[0m\u001b[0m\n\u001b[1;32m--> 170\u001b[1;33m     \u001b[0maccepted\u001b[0m \u001b[1;33m=\u001b[0m \u001b[0mfn\u001b[0m\u001b[1;33m(\u001b[0m\u001b[1;33m**\u001b[0m\u001b[0mkwargs\u001b[0m\u001b[1;33m)\u001b[0m\u001b[1;33m\u001b[0m\u001b[0m\n\u001b[0m\u001b[0;32m    171\u001b[0m     \u001b[0mt1\u001b[0m \u001b[1;33m=\u001b[0m \u001b[0mtime\u001b[0m\u001b[1;33m.\u001b[0m\u001b[0mtime\u001b[0m\u001b[1;33m(\u001b[0m\u001b[1;33m)\u001b[0m\u001b[1;33m\u001b[0m\u001b[0m\n\u001b[0;32m    172\u001b[0m \u001b[1;33m\u001b[0m\u001b[0m\n",
      "\u001b[1;32m/home/dmoore/python/sigvisa/infer/mcmc_basic.pyc\u001b[0m in \u001b[0;36mgaussian_MH_move\u001b[1;34m(sg, keys, node_list, relevant_nodes, scales, proxy_lps, step, **kwargs)\u001b[0m\n\u001b[0;32m     33\u001b[0m     \u001b[0mvalues\u001b[0m \u001b[1;33m=\u001b[0m \u001b[0mnp\u001b[0m\u001b[1;33m.\u001b[0m\u001b[0marray\u001b[0m\u001b[1;33m(\u001b[0m\u001b[1;33m[\u001b[0m\u001b[0mn\u001b[0m\u001b[1;33m.\u001b[0m\u001b[0mget_value\u001b[0m\u001b[1;33m(\u001b[0m\u001b[0mk\u001b[0m\u001b[1;33m)\u001b[0m \u001b[1;32mfor\u001b[0m \u001b[1;33m(\u001b[0m\u001b[0mn\u001b[0m\u001b[1;33m,\u001b[0m\u001b[0mk\u001b[0m\u001b[1;33m)\u001b[0m \u001b[1;32min\u001b[0m \u001b[0mzip\u001b[0m\u001b[1;33m(\u001b[0m\u001b[0mnode_list\u001b[0m\u001b[1;33m,\u001b[0m \u001b[0mkeys\u001b[0m\u001b[1;33m)\u001b[0m\u001b[1;33m]\u001b[0m\u001b[1;33m)\u001b[0m\u001b[1;33m\u001b[0m\u001b[0m\n\u001b[0;32m     34\u001b[0m     \u001b[0mproposal\u001b[0m \u001b[1;33m=\u001b[0m \u001b[0mgaussian_propose\u001b[0m\u001b[1;33m(\u001b[0m\u001b[0msg\u001b[0m\u001b[1;33m,\u001b[0m \u001b[0mkeys\u001b[0m\u001b[1;33m,\u001b[0m \u001b[0mnode_list\u001b[0m\u001b[1;33m,\u001b[0m \u001b[0mvalues\u001b[0m\u001b[1;33m=\u001b[0m\u001b[0mvalues\u001b[0m\u001b[1;33m,\u001b[0m \u001b[0mscales\u001b[0m\u001b[1;33m=\u001b[0m\u001b[0mscales\u001b[0m\u001b[1;33m,\u001b[0m \u001b[1;33m**\u001b[0m\u001b[0mkwargs\u001b[0m\u001b[1;33m)\u001b[0m\u001b[1;33m\u001b[0m\u001b[0m\n\u001b[1;32m---> 35\u001b[1;33m     \u001b[1;32mreturn\u001b[0m \u001b[0mMH_accept\u001b[0m\u001b[1;33m(\u001b[0m\u001b[0msg\u001b[0m\u001b[1;33m,\u001b[0m \u001b[0mkeys\u001b[0m\u001b[1;33m,\u001b[0m \u001b[0mvalues\u001b[0m\u001b[1;33m,\u001b[0m \u001b[0mproposal\u001b[0m\u001b[1;33m,\u001b[0m \u001b[0mnode_list\u001b[0m\u001b[1;33m,\u001b[0m \u001b[0mrelevant_nodes\u001b[0m\u001b[1;33m,\u001b[0m \u001b[0mproxy_lps\u001b[0m\u001b[1;33m=\u001b[0m\u001b[0mproxy_lps\u001b[0m\u001b[1;33m)\u001b[0m\u001b[1;33m\u001b[0m\u001b[0m\n\u001b[0m\u001b[0;32m     36\u001b[0m \u001b[1;33m\u001b[0m\u001b[0m\n\u001b[0;32m     37\u001b[0m \u001b[1;33m\u001b[0m\u001b[0m\n",
      "\u001b[1;32m/home/dmoore/python/sigvisa/infer/mcmc_basic.pyc\u001b[0m in \u001b[0;36mMH_accept\u001b[1;34m(sg, keys, oldvalues, newvalues, node_list, relevant_nodes, log_qforward, log_qbackward, proxy_lps)\u001b[0m\n\u001b[0;32m     85\u001b[0m \u001b[1;33m\u001b[0m\u001b[0m\n\u001b[0;32m     86\u001b[0m     lp_new = sg.joint_logprob_keys(keys=keys, values=newvalues, node_list=node_list,\n\u001b[1;32m---> 87\u001b[1;33m                                    relevant_nodes=relevant_nodes, proxy_lps=proxy_lps)\n\u001b[0m\u001b[0;32m     88\u001b[0m \u001b[1;33m\u001b[0m\u001b[0m\n\u001b[0;32m     89\u001b[0m \u001b[1;33m\u001b[0m\u001b[0m\n",
      "\u001b[1;32m/home/dmoore/python/sigvisa/graph/dag.pyc\u001b[0m in \u001b[0;36mjoint_logprob_keys\u001b[1;34m(self, relevant_nodes, keys, values, node_list, proxy_lps, c)\u001b[0m\n\u001b[0;32m    196\u001b[0m         \u001b[1;32mif\u001b[0m \u001b[0mkeys\u001b[0m \u001b[1;32mis\u001b[0m \u001b[1;32mnot\u001b[0m \u001b[0mNone\u001b[0m\u001b[1;33m:\u001b[0m\u001b[1;33m\u001b[0m\u001b[0m\n\u001b[0;32m    197\u001b[0m             \u001b[1;32mfor\u001b[0m \u001b[1;33m(\u001b[0m\u001b[0mkey\u001b[0m\u001b[1;33m,\u001b[0m \u001b[0mval\u001b[0m\u001b[1;33m,\u001b[0m \u001b[0mn\u001b[0m\u001b[1;33m)\u001b[0m \u001b[1;32min\u001b[0m \u001b[0mzip\u001b[0m\u001b[1;33m(\u001b[0m\u001b[0mkeys\u001b[0m\u001b[1;33m,\u001b[0m \u001b[0mvalues\u001b[0m\u001b[1;33m,\u001b[0m \u001b[0mnode_list\u001b[0m\u001b[1;33m)\u001b[0m\u001b[1;33m:\u001b[0m\u001b[1;33m\u001b[0m\u001b[0m\n\u001b[1;32m--> 198\u001b[1;33m                 \u001b[0mn\u001b[0m\u001b[1;33m.\u001b[0m\u001b[0mset_value\u001b[0m\u001b[1;33m(\u001b[0m\u001b[0mkey\u001b[0m\u001b[1;33m=\u001b[0m\u001b[0mkey\u001b[0m\u001b[1;33m,\u001b[0m \u001b[0mvalue\u001b[0m\u001b[1;33m=\u001b[0m\u001b[0mval\u001b[0m\u001b[1;33m)\u001b[0m\u001b[1;33m\u001b[0m\u001b[0m\n\u001b[0m\u001b[0;32m    199\u001b[0m \u001b[1;33m\u001b[0m\u001b[0m\n\u001b[0;32m    200\u001b[0m \u001b[1;33m\u001b[0m\u001b[0m\n",
      "\u001b[1;32m/home/dmoore/python/sigvisa/graph/nodes.pyc\u001b[0m in \u001b[0;36mset_value\u001b[1;34m(self, value, key, parent_key)\u001b[0m\n\u001b[0;32m    549\u001b[0m             \u001b[0mparent_key\u001b[0m \u001b[1;33m=\u001b[0m \u001b[0mself\u001b[0m\u001b[1;33m.\u001b[0m\u001b[0mdefault_parent_key\u001b[0m\u001b[1;33m(\u001b[0m\u001b[1;33m)\u001b[0m\u001b[1;33m\u001b[0m\u001b[0m\n\u001b[0;32m    550\u001b[0m \u001b[1;33m\u001b[0m\u001b[0m\n\u001b[1;32m--> 551\u001b[1;33m         \u001b[0mparent_val\u001b[0m \u001b[1;33m=\u001b[0m \u001b[0mself\u001b[0m\u001b[1;33m.\u001b[0m\u001b[0minvert\u001b[0m\u001b[1;33m(\u001b[0m\u001b[0mvalue\u001b[0m\u001b[1;33m=\u001b[0m\u001b[0mvalue\u001b[0m\u001b[1;33m,\u001b[0m \u001b[0mparent_key\u001b[0m\u001b[1;33m=\u001b[0m\u001b[0mparent_key\u001b[0m\u001b[1;33m)\u001b[0m\u001b[1;33m\u001b[0m\u001b[0m\n\u001b[0m\u001b[0;32m    552\u001b[0m         \u001b[0mself\u001b[0m\u001b[1;33m.\u001b[0m\u001b[0mparents\u001b[0m\u001b[1;33m[\u001b[0m\u001b[0mparent_key\u001b[0m\u001b[1;33m]\u001b[0m\u001b[1;33m.\u001b[0m\u001b[0mset_value\u001b[0m\u001b[1;33m(\u001b[0m\u001b[0mvalue\u001b[0m\u001b[1;33m=\u001b[0m\u001b[0mparent_val\u001b[0m\u001b[1;33m,\u001b[0m \u001b[0mkey\u001b[0m\u001b[1;33m=\u001b[0m\u001b[0mparent_key\u001b[0m\u001b[1;33m)\u001b[0m\u001b[1;33m\u001b[0m\u001b[0m\n\u001b[0;32m    553\u001b[0m         \u001b[0mself\u001b[0m\u001b[1;33m.\u001b[0m\u001b[0mcompute_value\u001b[0m\u001b[1;33m(\u001b[0m\u001b[1;33m)\u001b[0m\u001b[1;33m\u001b[0m\u001b[0m\n",
      "\u001b[1;32m/home/dmoore/python/sigvisa/models/templates/coda_height.pyc\u001b[0m in \u001b[0;36minvert\u001b[1;34m(self, value, parent_key, parent_values)\u001b[0m\n\u001b[0;32m     81\u001b[0m             \u001b[1;32mraise\u001b[0m \u001b[0mNotImplementedError\u001b[0m\u001b[1;33m(\u001b[0m\u001b[1;34m\"can't invert coda height with respect to event magnitude\"\u001b[0m\u001b[1;33m)\u001b[0m\u001b[1;33m\u001b[0m\u001b[0m\n\u001b[0;32m     82\u001b[0m         \u001b[1;32melif\u001b[0m \u001b[0mparent_key\u001b[0m \u001b[1;33m==\u001b[0m \u001b[0mself\u001b[0m\u001b[1;33m.\u001b[0m\u001b[0mparent_amp_transfer_key\u001b[0m\u001b[1;33m:\u001b[0m\u001b[1;33m\u001b[0m\u001b[0m\n\u001b[1;32m---> 83\u001b[1;33m             \u001b[0mevent_source_amp\u001b[0m \u001b[1;33m=\u001b[0m \u001b[0mself\u001b[0m\u001b[1;33m.\u001b[0m\u001b[0m_ev_source_amp\u001b[0m\u001b[1;33m(\u001b[0m\u001b[0mparent_values\u001b[0m\u001b[1;33m)\u001b[0m\u001b[1;33m\u001b[0m\u001b[0m\n\u001b[0m\u001b[0;32m     84\u001b[0m             \u001b[1;32mreturn\u001b[0m \u001b[0mvalue\u001b[0m \u001b[1;33m-\u001b[0m \u001b[0mevent_source_amp\u001b[0m\u001b[1;33m\u001b[0m\u001b[0m\n\u001b[0;32m     85\u001b[0m         \u001b[1;32melse\u001b[0m\u001b[1;33m:\u001b[0m\u001b[1;33m\u001b[0m\u001b[0m\n",
      "\u001b[1;32m/home/dmoore/python/sigvisa/models/templates/coda_height.pyc\u001b[0m in \u001b[0;36m_ev_source_amp\u001b[1;34m(self, parent_values)\u001b[0m\n\u001b[0;32m     55\u001b[0m     \u001b[1;32mdef\u001b[0m \u001b[0m_ev_source_amp\u001b[0m\u001b[1;33m(\u001b[0m\u001b[0mself\u001b[0m\u001b[1;33m,\u001b[0m \u001b[0mparent_values\u001b[0m\u001b[1;33m)\u001b[0m\u001b[1;33m:\u001b[0m\u001b[1;33m\u001b[0m\u001b[0m\n\u001b[0;32m     56\u001b[0m         \u001b[1;32mif\u001b[0m \u001b[0mparent_values\u001b[0m\u001b[1;33m[\u001b[0m\u001b[0mself\u001b[0m\u001b[1;33m.\u001b[0m\u001b[0mparent_naturalsource_key\u001b[0m\u001b[1;33m]\u001b[0m\u001b[1;33m:\u001b[0m\u001b[1;33m\u001b[0m\u001b[0m\n\u001b[1;32m---> 57\u001b[1;33m             \u001b[1;32mreturn\u001b[0m \u001b[0mbrune\u001b[0m\u001b[1;33m.\u001b[0m\u001b[0msource_logamp\u001b[0m\u001b[1;33m(\u001b[0m\u001b[0mmb\u001b[0m\u001b[1;33m=\u001b[0m\u001b[0mparent_values\u001b[0m\u001b[1;33m[\u001b[0m\u001b[0mself\u001b[0m\u001b[1;33m.\u001b[0m\u001b[0mparent_mb_key\u001b[0m\u001b[1;33m]\u001b[0m\u001b[1;33m,\u001b[0m \u001b[0mband\u001b[0m\u001b[1;33m=\u001b[0m\u001b[0mself\u001b[0m\u001b[1;33m.\u001b[0m\u001b[0mband\u001b[0m\u001b[1;33m,\u001b[0m \u001b[0mphase\u001b[0m\u001b[1;33m=\u001b[0m\u001b[0mself\u001b[0m\u001b[1;33m.\u001b[0m\u001b[0mphase\u001b[0m\u001b[1;33m)\u001b[0m\u001b[1;33m\u001b[0m\u001b[0m\n\u001b[0m\u001b[0;32m     58\u001b[0m         \u001b[1;32melse\u001b[0m\u001b[1;33m:\u001b[0m\u001b[1;33m\u001b[0m\u001b[0m\n\u001b[0;32m     59\u001b[0m             \u001b[1;32mreturn\u001b[0m \u001b[0mmm\u001b[0m\u001b[1;33m.\u001b[0m\u001b[0msource_logamp\u001b[0m\u001b[1;33m(\u001b[0m\u001b[0mmb\u001b[0m\u001b[1;33m=\u001b[0m\u001b[0mparent_values\u001b[0m\u001b[1;33m[\u001b[0m\u001b[0mself\u001b[0m\u001b[1;33m.\u001b[0m\u001b[0mparent_mb_key\u001b[0m\u001b[1;33m]\u001b[0m\u001b[1;33m,\u001b[0m \u001b[0mband\u001b[0m\u001b[1;33m=\u001b[0m\u001b[0mself\u001b[0m\u001b[1;33m.\u001b[0m\u001b[0mband\u001b[0m\u001b[1;33m,\u001b[0m \u001b[0mphase\u001b[0m\u001b[1;33m=\u001b[0m\u001b[0mself\u001b[0m\u001b[1;33m.\u001b[0m\u001b[0mphase\u001b[0m\u001b[1;33m)\u001b[0m\u001b[1;33m\u001b[0m\u001b[0m\n",
      "\u001b[1;32m/home/dmoore/python/sigvisa/source/brune_source.pyc\u001b[0m in \u001b[0;36msource_logamp\u001b[1;34m(mb, band, phase)\u001b[0m\n\u001b[0;32m     83\u001b[0m \u001b[1;33m\u001b[0m\u001b[0m\n\u001b[0;32m     84\u001b[0m \u001b[1;32mdef\u001b[0m \u001b[0msource_logamp\u001b[0m\u001b[1;33m(\u001b[0m\u001b[0mmb\u001b[0m\u001b[1;33m,\u001b[0m \u001b[0mband\u001b[0m\u001b[1;33m,\u001b[0m \u001b[0mphase\u001b[0m\u001b[1;33m)\u001b[0m\u001b[1;33m:\u001b[0m\u001b[1;33m\u001b[0m\u001b[0m\n\u001b[1;32m---> 85\u001b[1;33m     \u001b[0mf\u001b[0m \u001b[1;33m=\u001b[0m \u001b[0mband_to_hz\u001b[0m\u001b[1;33m(\u001b[0m\u001b[0mband\u001b[0m\u001b[1;33m)\u001b[0m\u001b[1;33m\u001b[0m\u001b[0m\n\u001b[0m\u001b[0;32m     86\u001b[0m     \u001b[0mamp\u001b[0m\u001b[1;33m,\u001b[0m \u001b[0mcorner\u001b[0m\u001b[1;33m,\u001b[0m \u001b[0mM0\u001b[0m \u001b[1;33m=\u001b[0m \u001b[0msource_freq_logamp\u001b[0m\u001b[1;33m(\u001b[0m\u001b[0mmb\u001b[0m\u001b[1;33m,\u001b[0m \u001b[0mf\u001b[0m\u001b[1;33m,\u001b[0m \u001b[0mphase\u001b[0m\u001b[1;33m)\u001b[0m\u001b[1;33m\u001b[0m\u001b[0m\n\u001b[0;32m     87\u001b[0m     \u001b[1;32mreturn\u001b[0m \u001b[0mamp\u001b[0m\u001b[1;33m\u001b[0m\u001b[0m\n",
      "\u001b[1;32m/home/dmoore/python/sigvisa/source/common.pyc\u001b[0m in \u001b[0;36mband_to_hz\u001b[1;34m(short_band)\u001b[0m\n\u001b[0;32m      6\u001b[0m     \u001b[1;32mif\u001b[0m \u001b[0mshort_band\u001b[0m\u001b[1;33m==\u001b[0m\u001b[1;34m\"broadband\"\u001b[0m\u001b[1;33m:\u001b[0m\u001b[1;33m\u001b[0m\u001b[0m\n\u001b[0;32m      7\u001b[0m         \u001b[1;32mraise\u001b[0m \u001b[0mException\u001b[0m\u001b[1;33m(\u001b[0m\u001b[1;34m\"source model: cannot assign a frequency band to broadband signal\"\u001b[0m\u001b[1;33m)\u001b[0m\u001b[1;33m\u001b[0m\u001b[0m\n\u001b[1;32m----> 8\u001b[1;33m     \u001b[1;32mreturn\u001b[0m \u001b[0mnp\u001b[0m\u001b[1;33m.\u001b[0m\u001b[0mmedian\u001b[0m\u001b[1;33m(\u001b[0m\u001b[1;33m[\u001b[0m\u001b[0mfloat\u001b[0m\u001b[1;33m(\u001b[0m\u001b[0mx\u001b[0m\u001b[1;33m)\u001b[0m \u001b[1;32mfor\u001b[0m \u001b[0mx\u001b[0m \u001b[1;32min\u001b[0m \u001b[0mshort_band\u001b[0m\u001b[1;33m.\u001b[0m\u001b[0msplit\u001b[0m\u001b[1;33m(\u001b[0m\u001b[1;34m'_'\u001b[0m\u001b[1;33m)\u001b[0m\u001b[1;33m[\u001b[0m\u001b[1;36m1\u001b[0m\u001b[1;33m:\u001b[0m\u001b[1;33m]\u001b[0m\u001b[1;33m]\u001b[0m\u001b[1;33m)\u001b[0m\u001b[1;33m\u001b[0m\u001b[0m\n\u001b[0m",
      "\u001b[1;32m/home/dmoore/.virtualenvs/sigvisa/local/lib/python2.7/site-packages/numpy/lib/function_base.pyc\u001b[0m in \u001b[0;36mmedian\u001b[1;34m(a, axis, out, overwrite_input, keepdims)\u001b[0m\n\u001b[0;32m   2888\u001b[0m     \"\"\"\n\u001b[0;32m   2889\u001b[0m     r, k = _ureduce(a, func=_median, axis=axis, out=out,\n\u001b[1;32m-> 2890\u001b[1;33m                     overwrite_input=overwrite_input)\n\u001b[0m\u001b[0;32m   2891\u001b[0m     \u001b[1;32mif\u001b[0m \u001b[0mkeepdims\u001b[0m\u001b[1;33m:\u001b[0m\u001b[1;33m\u001b[0m\u001b[0m\n\u001b[0;32m   2892\u001b[0m         \u001b[1;32mreturn\u001b[0m \u001b[0mr\u001b[0m\u001b[1;33m.\u001b[0m\u001b[0mreshape\u001b[0m\u001b[1;33m(\u001b[0m\u001b[0mk\u001b[0m\u001b[1;33m)\u001b[0m\u001b[1;33m\u001b[0m\u001b[0m\n",
      "\u001b[1;32m/home/dmoore/.virtualenvs/sigvisa/local/lib/python2.7/site-packages/numpy/lib/function_base.pyc\u001b[0m in \u001b[0;36m_ureduce\u001b[1;34m(a, func, **kwargs)\u001b[0m\n\u001b[0;32m   2801\u001b[0m         \u001b[0mkeepdim\u001b[0m \u001b[1;33m=\u001b[0m \u001b[1;33m[\u001b[0m\u001b[1;36m1\u001b[0m\u001b[1;33m]\u001b[0m \u001b[1;33m*\u001b[0m \u001b[0ma\u001b[0m\u001b[1;33m.\u001b[0m\u001b[0mndim\u001b[0m\u001b[1;33m\u001b[0m\u001b[0m\n\u001b[0;32m   2802\u001b[0m \u001b[1;33m\u001b[0m\u001b[0m\n\u001b[1;32m-> 2803\u001b[1;33m     \u001b[0mr\u001b[0m \u001b[1;33m=\u001b[0m \u001b[0mfunc\u001b[0m\u001b[1;33m(\u001b[0m\u001b[0ma\u001b[0m\u001b[1;33m,\u001b[0m \u001b[1;33m**\u001b[0m\u001b[0mkwargs\u001b[0m\u001b[1;33m)\u001b[0m\u001b[1;33m\u001b[0m\u001b[0m\n\u001b[0m\u001b[0;32m   2804\u001b[0m     \u001b[1;32mreturn\u001b[0m \u001b[0mr\u001b[0m\u001b[1;33m,\u001b[0m \u001b[0mkeepdim\u001b[0m\u001b[1;33m\u001b[0m\u001b[0m\n\u001b[0;32m   2805\u001b[0m \u001b[1;33m\u001b[0m\u001b[0m\n",
      "\u001b[1;32m/home/dmoore/.virtualenvs/sigvisa/local/lib/python2.7/site-packages/numpy/lib/function_base.pyc\u001b[0m in \u001b[0;36m_median\u001b[1;34m(a, axis, out, overwrite_input)\u001b[0m\n\u001b[0;32m   2925\u001b[0m             \u001b[0msz\u001b[0m \u001b[1;33m=\u001b[0m \u001b[0ma\u001b[0m\u001b[1;33m.\u001b[0m\u001b[0mshape\u001b[0m\u001b[1;33m[\u001b[0m\u001b[0maxis\u001b[0m\u001b[1;33m]\u001b[0m\u001b[1;33m\u001b[0m\u001b[0m\n\u001b[0;32m   2926\u001b[0m         \u001b[1;32mif\u001b[0m \u001b[0msz\u001b[0m \u001b[1;33m%\u001b[0m \u001b[1;36m2\u001b[0m \u001b[1;33m==\u001b[0m \u001b[1;36m0\u001b[0m\u001b[1;33m:\u001b[0m\u001b[1;33m\u001b[0m\u001b[0m\n\u001b[1;32m-> 2927\u001b[1;33m             \u001b[0mpart\u001b[0m \u001b[1;33m=\u001b[0m \u001b[0mpartition\u001b[0m\u001b[1;33m(\u001b[0m\u001b[0ma\u001b[0m\u001b[1;33m,\u001b[0m \u001b[1;33m(\u001b[0m\u001b[1;33m(\u001b[0m\u001b[0msz\u001b[0m \u001b[1;33m//\u001b[0m \u001b[1;36m2\u001b[0m\u001b[1;33m)\u001b[0m \u001b[1;33m-\u001b[0m \u001b[1;36m1\u001b[0m\u001b[1;33m,\u001b[0m \u001b[0msz\u001b[0m \u001b[1;33m//\u001b[0m \u001b[1;36m2\u001b[0m\u001b[1;33m)\u001b[0m\u001b[1;33m,\u001b[0m \u001b[0maxis\u001b[0m\u001b[1;33m=\u001b[0m\u001b[0maxis\u001b[0m\u001b[1;33m)\u001b[0m\u001b[1;33m\u001b[0m\u001b[0m\n\u001b[0m\u001b[0;32m   2928\u001b[0m         \u001b[1;32melse\u001b[0m\u001b[1;33m:\u001b[0m\u001b[1;33m\u001b[0m\u001b[0m\n\u001b[0;32m   2929\u001b[0m             \u001b[0mpart\u001b[0m \u001b[1;33m=\u001b[0m \u001b[0mpartition\u001b[0m\u001b[1;33m(\u001b[0m\u001b[0ma\u001b[0m\u001b[1;33m,\u001b[0m \u001b[1;33m(\u001b[0m\u001b[0msz\u001b[0m \u001b[1;33m-\u001b[0m \u001b[1;36m1\u001b[0m\u001b[1;33m)\u001b[0m \u001b[1;33m//\u001b[0m \u001b[1;36m2\u001b[0m\u001b[1;33m,\u001b[0m \u001b[0maxis\u001b[0m\u001b[1;33m=\u001b[0m\u001b[0maxis\u001b[0m\u001b[1;33m)\u001b[0m\u001b[1;33m\u001b[0m\u001b[0m\n",
      "\u001b[1;32m/home/dmoore/.virtualenvs/sigvisa/local/lib/python2.7/site-packages/numpy/core/fromnumeric.pyc\u001b[0m in \u001b[0;36mpartition\u001b[1;34m(a, kth, axis, kind, order)\u001b[0m\n\u001b[0;32m    620\u001b[0m     \u001b[1;32melse\u001b[0m\u001b[1;33m:\u001b[0m\u001b[1;33m\u001b[0m\u001b[0m\n\u001b[0;32m    621\u001b[0m         \u001b[0ma\u001b[0m \u001b[1;33m=\u001b[0m \u001b[0masanyarray\u001b[0m\u001b[1;33m(\u001b[0m\u001b[0ma\u001b[0m\u001b[1;33m)\u001b[0m\u001b[1;33m.\u001b[0m\u001b[0mcopy\u001b[0m\u001b[1;33m(\u001b[0m\u001b[0morder\u001b[0m\u001b[1;33m=\u001b[0m\u001b[1;34m\"K\"\u001b[0m\u001b[1;33m)\u001b[0m\u001b[1;33m\u001b[0m\u001b[0m\n\u001b[1;32m--> 622\u001b[1;33m     \u001b[0ma\u001b[0m\u001b[1;33m.\u001b[0m\u001b[0mpartition\u001b[0m\u001b[1;33m(\u001b[0m\u001b[0mkth\u001b[0m\u001b[1;33m,\u001b[0m \u001b[0maxis\u001b[0m\u001b[1;33m=\u001b[0m\u001b[0maxis\u001b[0m\u001b[1;33m,\u001b[0m \u001b[0mkind\u001b[0m\u001b[1;33m=\u001b[0m\u001b[0mkind\u001b[0m\u001b[1;33m,\u001b[0m \u001b[0morder\u001b[0m\u001b[1;33m=\u001b[0m\u001b[0morder\u001b[0m\u001b[1;33m)\u001b[0m\u001b[1;33m\u001b[0m\u001b[0m\n\u001b[0m\u001b[0;32m    623\u001b[0m     \u001b[1;32mreturn\u001b[0m \u001b[0ma\u001b[0m\u001b[1;33m\u001b[0m\u001b[0m\n\u001b[0;32m    624\u001b[0m \u001b[1;33m\u001b[0m\u001b[0m\n",
      "\u001b[1;31mKeyboardInterrupt\u001b[0m: "
     ]
    }
   ],
   "source": [
    "from sigvisa.experiments.aftershock_region import sigvisa_fit_jointgp\n",
    "\n",
    "\n",
    "sigvisa_fit_jointgp([\"PDAR\"], evs, runids=(), \n",
    "                    max_hz=10.0,\n",
    "                    phases=[\"P\", \"Lg\", \"S\", \"Pg\"],\n",
    "                    dummy_prior=dummyPrior,\n",
    "                    dummy_fallback=True)"
   ]
  },
  {
   "cell_type": "code",
   "execution_count": null,
   "metadata": {
    "collapsed": true
   },
   "outputs": [],
   "source": []
  },
  {
   "cell_type": "code",
   "execution_count": null,
   "metadata": {
    "collapsed": true
   },
   "outputs": [],
   "source": []
  }
 ],
 "metadata": {
  "kernelspec": {
   "display_name": "Python 2",
   "language": "python",
   "name": "python2"
  },
  "language_info": {
   "codemirror_mode": {
    "name": "ipython",
    "version": 2
   },
   "file_extension": ".py",
   "mimetype": "text/x-python",
   "name": "python",
   "nbconvert_exporter": "python",
   "pygments_lexer": "ipython2",
   "version": "2.7.6"
  }
 },
 "nbformat": 4,
 "nbformat_minor": 0
}
