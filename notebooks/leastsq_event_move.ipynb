{
 "metadata": {
  "name": "",
  "signature": "sha256:df25bde0c74a021510c3b24df77e43bfec3b324b27d7dcfa0421bc5409d9e4fb"
 },
 "nbformat": 3,
 "nbformat_minor": 0,
 "worksheets": [
  {
   "cells": [
    {
     "cell_type": "code",
     "collapsed": false,
     "input": [
      "import numpy as np\n",
      "import sys\n",
      "import os\n",
      "import traceback\n",
      "\n",
      "\n",
      "\n",
      "\n",
      "\n",
      "\n",
      "\n",
      "import pickle\n",
      "import copy\n",
      "\n",
      "from sigvisa import Sigvisa\n",
      "\n",
      "from sigvisa.graph.sigvisa_graph import SigvisaGraph\n",
      "\n",
      "\n",
      "\n",
      "\n",
      "\n",
      "\n",
      "from sigvisa.infer.run_mcmc import run_open_world_MH\n",
      "from sigvisa.infer.mcmc_logger import MCMCLogger\n",
      "\n",
      "from sigvisa.infer.template_mcmc import *\n",
      "from sigvisa.infer.event_mcmc import *\n",
      "\n",
      "from sigvisa.plotting.plot import plot_with_fit, plot_with_fit_shapes, plot_pred_atimes\n",
      "from sigvisa.signals.common import Waveform\n",
      "from sigvisa.utils.fileutils import clear_directory, mkdir_p\n",
      "\n",
      "from sigvisa.experiments.one_station_templates_test import sample_template\n",
      "\n",
      "from sigvisa.experiments.event_localization import setup_graph\n",
      "\n",
      "from sigvisa.graph.graph_utils import get_parent_value\n"
     ],
     "language": "python",
     "metadata": {},
     "outputs": [],
     "prompt_number": 1
    },
    {
     "cell_type": "code",
     "collapsed": false,
     "input": [
      "tmtype = {'tt_residual': 'constant_laplacian',\n",
      "          'peak_offset': 'param_linear_mb',\n",
      "          'amp_transfer': 'param_sin1',\n",
      "          'coda_decay': 'param_linear_distmb',\n",
      "          'peak_decay': 'param_linear_distmb',}\n",
      "sites = \"PDAR,MJAR,ASAR,HFS,JHJ,USRK,AAK,TXAR,QSPA,MKAR,FINES,STKA,VNDA,PETK,KBZ,CMAR,JKA,YKA,BVAR,WRA,FITZ,ILAR,JNU,SNAA,NOA,NWAO\".split(',')\n",
      "\n",
      "sg, evs, wave_dir = setup_graph(0, 0.0, tmtype, 26, ['P',], True, 10000, 1e-100, False, 1, 4.0, 4.1, wiggles=False, sites=sites, tmshape=\"lin_\\\n",
      "polyexp\", nm_type=\"ar\")\n",
      "\n",
      "import cPickle as pickle\n",
      "with open(os.path.join(wave_dir, 'events.pkl'), 'rb') as f:\n",
      "    true_evs = pickle.load(f)\n",
      "print true_evs[0]\n",
      "\n",
      "\n",
      "new_ev = copy.copy(true_evs[0])\n",
      "new_ev.lon = new_ev.lon+ np.random.randn()*2\n",
      "new_ev.lat = new_ev.lat+ np.random.randn()*2\n",
      "new_ev.depth = new_ev.depth+ np.random.randn()*50\n",
      "new_ev.time = new_ev.time+ np.random.randn()*30\n",
      "\n",
      "sg.set_event(1, new_ev)\n",
      "\n",
      "print sg.get_event(1)"
     ],
     "language": "python",
     "metadata": {},
     "outputs": [
      {
       "output_type": "stream",
       "stream": "stdout",
       "text": [
        "loaded 19 of 22 stations\n",
        "adding phase P at site STKA\n",
        "adding phase P at site YKA\n",
        "adding phase P at site BVAR\n",
        "adding phase"
       ]
      },
      {
       "output_type": "stream",
       "stream": "stdout",
       "text": [
        " P at site JNU\n",
        "adding phase P at site WRA\n",
        "adding phase P at site NWAO\n",
        "adding phase"
       ]
      },
      {
       "output_type": "stream",
       "stream": "stdout",
       "text": [
        " P at site JHJ\n",
        "adding phase P at site FITZ\n",
        "adding phase P at site NOA\n",
        "adding phase"
       ]
      },
      {
       "output_type": "stream",
       "stream": "stdout",
       "text": [
        " P at site PETK\n",
        "adding phase P at site USRK\n",
        "adding phase P at site KBZ\n",
        "adding phase"
       ]
      },
      {
       "output_type": "stream",
       "stream": "stdout",
       "text": [
        " P at site CMAR\n",
        "adding phase P at site AAK\n",
        "adding phase P at site MKAR\n",
        "adding phase"
       ]
      },
      {
       "output_type": "stream",
       "stream": "stdout",
       "text": [
        " P at site ILAR\n",
        "adding phase P at site JKA\n",
        "adding phase P at site FINES\n",
        "adding phase"
       ]
      },
      {
       "output_type": "stream",
       "stream": "stdout",
       "text": [
        " P at site ASAR\n",
        "evid None, loc 145.39 E 21.37 N, depth 638.2km, time 1238890148.8, mb 4.1, natural source\n",
        "evid None, loc 143.44 E 23.27 N, depth 630.6km, time 1238890145.7, mb 4.1, natural source\n"
       ]
      }
     ],
     "prompt_number": 2
    },
    {
     "cell_type": "code",
     "collapsed": false,
     "input": [
      "\n",
      "stas = sorted(sg.station_waves.keys())\n",
      "print stas"
     ],
     "language": "python",
     "metadata": {},
     "outputs": [
      {
       "output_type": "stream",
       "stream": "stdout",
       "text": [
        "['AAK', 'AS12', 'BVA0', 'CM16', 'FIA0', 'FITZ', 'IL31', 'JHJ', 'JKA', 'JNU', 'KBZ', 'MK31', 'NB200', 'NWAO', 'PEA0', 'STKA', 'USA0', 'WR1', 'YKR8']\n"
       ]
      }
     ],
     "prompt_number": 3
    },
    {
     "cell_type": "code",
     "collapsed": false,
     "input": [
      "def subset_stas(sg, n_stas=10):\n",
      "    stas = sg.station_waves.keys()\n",
      "    return np.random.permutation(stas)[:n_stas]\n",
      "\n",
      "np.random.seed(4)\n",
      "stas = subset_stas(sg)\n",
      "print stas\n",
      "stas = sg.station_waves.keys()\n",
      "\n",
      "x1, C = ev_lstsqr_dist(sg, 1, stas=stas, residual_var=4.0)\n",
      "\n",
      "print x1, C"
     ],
     "language": "python",
     "metadata": {},
     "outputs": [
      {
       "output_type": "stream",
       "stream": "stdout",
       "text": [
        "['STKA' 'FIA0' 'JKA' 'FITZ' 'CM16' 'MK31' 'BVA0' 'AAK' 'KBZ' 'NB200']\n",
        "> /home/dmoore/python/sigvisa/infer/event_mcmc.py(858)ev_lstsqr_dist()\n",
        "-> return z, cov_x\n"
       ]
      },
      {
       "name": "stdout",
       "output_type": "stream",
       "stream": "stdout",
       "text": [
        "(Pdb) print z\n"
       ]
      },
      {
       "output_type": "stream",
       "stream": "stdout",
       "text": [
        "[  1.45396285e+02   2.13266530e+01   6.35640578e+02   1.23889015e+09]\n"
       ]
      },
      {
       "name": "stdout",
       "output_type": "stream",
       "stream": "stdout",
       "text": [
        "(Pdb) print targets\n"
       ]
      },
      {
       "output_type": "stream",
       "stream": "stdout",
       "text": [
        "[('AAK', 'P'), ('AS12', 'P'), ('BVA0', 'P'), ('CM16', 'P'), ('FIA0', 'P'), ('FITZ', 'P'), ('IL31', 'P'), ('JHJ', 'P'), ('JKA', 'P'), ('JNU', 'P'), ('KBZ', 'P'), ('MK31', 'P'), ('NB200', 'P'), ('NWAO', 'P'), ('PEA0', 'P'), ('STKA', 'P'), ('USA0', 'P'), ('WR1', 'P'), ('YKR8', 'P')]\n"
       ]
      },
      {
       "name": "stdout",
       "output_type": "stream",
       "stream": "stdout",
       "text": [
        "(Pdb) print residuals\n"
       ]
      },
      {
       "output_type": "stream",
       "stream": "stdout",
       "text": [
        "[ 18.59384787  -8.21059478  19.15832951  17.51185724  14.52454317\n",
        "  -5.29650059   8.0383893   26.12479759  19.69043816  26.12632752\n",
        "  15.53977802  20.26995089  12.71549993  -4.74814508  14.02760528\n",
        " -11.23271544  24.16062388  -9.00630691   6.89468265]\n"
       ]
      },
      {
       "name": "stdout",
       "output_type": "stream",
       "stream": "stdout",
       "text": [
        "(Pdb) quit\n"
       ]
      },
      {
       "ename": "BdbQuit",
       "evalue": "",
       "output_type": "pyerr",
       "traceback": [
        "\u001b[1;31m---------------------------------------------------------------------------\u001b[0m\n\u001b[1;31mBdbQuit\u001b[0m                                   Traceback (most recent call last)",
        "\u001b[1;32m<ipython-input-4-4f69d46ebe1e>\u001b[0m in \u001b[0;36m<module>\u001b[1;34m()\u001b[0m\n\u001b[0;32m      8\u001b[0m \u001b[0mstas\u001b[0m \u001b[1;33m=\u001b[0m \u001b[0msg\u001b[0m\u001b[1;33m.\u001b[0m\u001b[0mstation_waves\u001b[0m\u001b[1;33m.\u001b[0m\u001b[0mkeys\u001b[0m\u001b[1;33m(\u001b[0m\u001b[1;33m)\u001b[0m\u001b[1;33m\u001b[0m\u001b[0m\n\u001b[0;32m      9\u001b[0m \u001b[1;33m\u001b[0m\u001b[0m\n\u001b[1;32m---> 10\u001b[1;33m \u001b[0mx1\u001b[0m\u001b[1;33m,\u001b[0m \u001b[0mC\u001b[0m \u001b[1;33m=\u001b[0m \u001b[0mev_lstsqr_dist\u001b[0m\u001b[1;33m(\u001b[0m\u001b[0msg\u001b[0m\u001b[1;33m,\u001b[0m \u001b[1;36m1\u001b[0m\u001b[1;33m,\u001b[0m \u001b[0mstas\u001b[0m\u001b[1;33m=\u001b[0m\u001b[0mstas\u001b[0m\u001b[1;33m,\u001b[0m \u001b[0mresidual_var\u001b[0m\u001b[1;33m=\u001b[0m\u001b[1;36m4.0\u001b[0m\u001b[1;33m)\u001b[0m\u001b[1;33m\u001b[0m\u001b[0m\n\u001b[0m\u001b[0;32m     11\u001b[0m \u001b[1;33m\u001b[0m\u001b[0m\n\u001b[0;32m     12\u001b[0m \u001b[1;32mprint\u001b[0m \u001b[0mx1\u001b[0m\u001b[1;33m,\u001b[0m \u001b[0mC\u001b[0m\u001b[1;33m\u001b[0m\u001b[0m\n",
        "\u001b[1;32m/home/dmoore/python/sigvisa/infer/event_mcmc.py\u001b[0m in \u001b[0;36mev_lstsqr_dist\u001b[1;34m(sg, eid, stas, residual_var)\u001b[0m\n\u001b[0;32m    856\u001b[0m     \u001b[1;32mimport\u001b[0m \u001b[0mpdb\u001b[0m\u001b[1;33m;\u001b[0m \u001b[0mpdb\u001b[0m\u001b[1;33m.\u001b[0m\u001b[0mset_trace\u001b[0m\u001b[1;33m(\u001b[0m\u001b[1;33m)\u001b[0m\u001b[1;33m\u001b[0m\u001b[0m\n\u001b[0;32m    857\u001b[0m \u001b[1;33m\u001b[0m\u001b[0m\n\u001b[1;32m--> 858\u001b[1;33m     \u001b[1;32mreturn\u001b[0m \u001b[0mz\u001b[0m\u001b[1;33m,\u001b[0m \u001b[0mcov_x\u001b[0m\u001b[1;33m\u001b[0m\u001b[0m\n\u001b[0m\u001b[0;32m    859\u001b[0m \u001b[1;33m\u001b[0m\u001b[0m\n\u001b[0;32m    860\u001b[0m \u001b[1;32mdef\u001b[0m \u001b[0mpropose_event_lsqr_prob\u001b[0m\u001b[1;33m(\u001b[0m\u001b[0msg\u001b[0m\u001b[1;33m,\u001b[0m \u001b[0meid\u001b[0m\u001b[1;33m,\u001b[0m \u001b[0mstas\u001b[0m\u001b[1;33m=\u001b[0m\u001b[0mNone\u001b[0m\u001b[1;33m)\u001b[0m\u001b[1;33m:\u001b[0m\u001b[1;33m\u001b[0m\u001b[0m\n",
        "\u001b[1;32m/home/dmoore/python/sigvisa/infer/event_mcmc.py\u001b[0m in \u001b[0;36mev_lstsqr_dist\u001b[1;34m(sg, eid, stas, residual_var)\u001b[0m\n\u001b[0;32m    856\u001b[0m     \u001b[1;32mimport\u001b[0m \u001b[0mpdb\u001b[0m\u001b[1;33m;\u001b[0m \u001b[0mpdb\u001b[0m\u001b[1;33m.\u001b[0m\u001b[0mset_trace\u001b[0m\u001b[1;33m(\u001b[0m\u001b[1;33m)\u001b[0m\u001b[1;33m\u001b[0m\u001b[0m\n\u001b[0;32m    857\u001b[0m \u001b[1;33m\u001b[0m\u001b[0m\n\u001b[1;32m--> 858\u001b[1;33m     \u001b[1;32mreturn\u001b[0m \u001b[0mz\u001b[0m\u001b[1;33m,\u001b[0m \u001b[0mcov_x\u001b[0m\u001b[1;33m\u001b[0m\u001b[0m\n\u001b[0m\u001b[0;32m    859\u001b[0m \u001b[1;33m\u001b[0m\u001b[0m\n\u001b[0;32m    860\u001b[0m \u001b[1;32mdef\u001b[0m \u001b[0mpropose_event_lsqr_prob\u001b[0m\u001b[1;33m(\u001b[0m\u001b[0msg\u001b[0m\u001b[1;33m,\u001b[0m \u001b[0meid\u001b[0m\u001b[1;33m,\u001b[0m \u001b[0mstas\u001b[0m\u001b[1;33m=\u001b[0m\u001b[0mNone\u001b[0m\u001b[1;33m)\u001b[0m\u001b[1;33m:\u001b[0m\u001b[1;33m\u001b[0m\u001b[0m\n",
        "\u001b[1;32m/usr/lib/python2.7/bdb.pyc\u001b[0m in \u001b[0;36mtrace_dispatch\u001b[1;34m(self, frame, event, arg)\u001b[0m\n\u001b[0;32m     46\u001b[0m             \u001b[1;32mreturn\u001b[0m \u001b[1;31m# None\u001b[0m\u001b[1;33m\u001b[0m\u001b[0m\n\u001b[0;32m     47\u001b[0m         \u001b[1;32mif\u001b[0m \u001b[0mevent\u001b[0m \u001b[1;33m==\u001b[0m \u001b[1;34m'line'\u001b[0m\u001b[1;33m:\u001b[0m\u001b[1;33m\u001b[0m\u001b[0m\n\u001b[1;32m---> 48\u001b[1;33m             \u001b[1;32mreturn\u001b[0m \u001b[0mself\u001b[0m\u001b[1;33m.\u001b[0m\u001b[0mdispatch_line\u001b[0m\u001b[1;33m(\u001b[0m\u001b[0mframe\u001b[0m\u001b[1;33m)\u001b[0m\u001b[1;33m\u001b[0m\u001b[0m\n\u001b[0m\u001b[0;32m     49\u001b[0m         \u001b[1;32mif\u001b[0m \u001b[0mevent\u001b[0m \u001b[1;33m==\u001b[0m \u001b[1;34m'call'\u001b[0m\u001b[1;33m:\u001b[0m\u001b[1;33m\u001b[0m\u001b[0m\n\u001b[0;32m     50\u001b[0m             \u001b[1;32mreturn\u001b[0m \u001b[0mself\u001b[0m\u001b[1;33m.\u001b[0m\u001b[0mdispatch_call\u001b[0m\u001b[1;33m(\u001b[0m\u001b[0mframe\u001b[0m\u001b[1;33m,\u001b[0m \u001b[0marg\u001b[0m\u001b[1;33m)\u001b[0m\u001b[1;33m\u001b[0m\u001b[0m\n",
        "\u001b[1;32m/usr/lib/python2.7/bdb.pyc\u001b[0m in \u001b[0;36mdispatch_line\u001b[1;34m(self, frame)\u001b[0m\n\u001b[0;32m     65\u001b[0m         \u001b[1;32mif\u001b[0m \u001b[0mself\u001b[0m\u001b[1;33m.\u001b[0m\u001b[0mstop_here\u001b[0m\u001b[1;33m(\u001b[0m\u001b[0mframe\u001b[0m\u001b[1;33m)\u001b[0m \u001b[1;32mor\u001b[0m \u001b[0mself\u001b[0m\u001b[1;33m.\u001b[0m\u001b[0mbreak_here\u001b[0m\u001b[1;33m(\u001b[0m\u001b[0mframe\u001b[0m\u001b[1;33m)\u001b[0m\u001b[1;33m:\u001b[0m\u001b[1;33m\u001b[0m\u001b[0m\n\u001b[0;32m     66\u001b[0m             \u001b[0mself\u001b[0m\u001b[1;33m.\u001b[0m\u001b[0muser_line\u001b[0m\u001b[1;33m(\u001b[0m\u001b[0mframe\u001b[0m\u001b[1;33m)\u001b[0m\u001b[1;33m\u001b[0m\u001b[0m\n\u001b[1;32m---> 67\u001b[1;33m             \u001b[1;32mif\u001b[0m \u001b[0mself\u001b[0m\u001b[1;33m.\u001b[0m\u001b[0mquitting\u001b[0m\u001b[1;33m:\u001b[0m \u001b[1;32mraise\u001b[0m \u001b[0mBdbQuit\u001b[0m\u001b[1;33m\u001b[0m\u001b[0m\n\u001b[0m\u001b[0;32m     68\u001b[0m         \u001b[1;32mreturn\u001b[0m \u001b[0mself\u001b[0m\u001b[1;33m.\u001b[0m\u001b[0mtrace_dispatch\u001b[0m\u001b[1;33m\u001b[0m\u001b[0m\n\u001b[0;32m     69\u001b[0m \u001b[1;33m\u001b[0m\u001b[0m\n",
        "\u001b[1;31mBdbQuit\u001b[0m: "
       ]
      }
     ],
     "prompt_number": 4
    },
    {
     "cell_type": "code",
     "collapsed": false,
     "input": [
      "eid=1\n",
      "residual_var=4.0\n",
      "np.random.seed(0)\n",
      "stas = np.random.permutation(sg.station_waves.keys())\n",
      "print stas\n",
      "\n",
      "def get_atime(eid, sta, phase):\n",
      "    n = get_parent_value(eid=eid, sta=sta, phase=phase, param_name='arrival_time', chan=None, band=None,\n",
      "                         parent_values=sg.nodes_by_key, return_key=False)\n",
      "    return n.get_value()\n",
      "\n",
      "\n",
      "targets = []\n",
      "for sta in sorted(stas):\n",
      "    phases = sg.ev_arriving_phases(eid, sta)\n",
      "    for phase in phases:\n",
      "        targets.append((sta, phase))\n",
      "\n",
      "atimes = np.array([get_atime(eid, sta, phase) for (sta, phase) in targets])\n",
      "\n",
      "init_ev = sg.get_event(eid)\n",
      "#init_ev.depth = 650\n",
      "base_time = init_ev.time\n",
      "\n",
      "scaling = np.array((5.0, 5.0, 0.2, 1.0))\n",
      "p0 = np.array((init_ev.lon, init_ev.lat, init_ev.depth, init_ev.time))\n",
      "\n",
      "pred_tts = np.array([tt_predict(init_ev, sta, phase) for (sta, phase) in targets])\n",
      "\n",
      "residuals = atimes-init_ev.time - pred_tts\n",
      "print residuals\n",
      "\n",
      "# assume a tt residual stddev of 5.0\n",
      "# TODO: use the actual values learned from data\n",
      "sigma = np.ones((len(targets)+1,)) * residual_var\n",
      "\n",
      "def tt_residuals_jac(x):\n",
      "    lon, lat, depth, origin_time = x / scaling + p0\n",
      "\n",
      "    #with open('evals.txt', 'a') as f:\n",
      "    #    f.write(str(x)+\"\\n\")\n",
      "\n",
      "    if (~np.isfinite(x)).any():\n",
      "        return np.ones(x.shape) * np.nan\n",
      "\n",
      "    def ttpx(xx, sta, phase):\n",
      "        lon, lat, depth, origin_time=xx\n",
      "        ev = Event(lon=lon, lat=lat, depth=depth, time=origin_time)\n",
      "        return tt_predict(ev, sta, phase)\n",
      "    \n",
      "    pred_tts = np.zeros(len(targets))\n",
      "    jac = np.zeros((4, len(targets)+1))\n",
      "    for i, (sta, phase) in enumerate(targets):\n",
      "        try:\n",
      "            tt, grad = tt_predict_grad(lon, lat, depth, origin_time, sta, phase=phase)\n",
      "            pred_tts[i] = tt\n",
      "            jac[:, i] = -grad / scaling            \n",
      "        except ValueError as e:\n",
      "            pred_tts[i] = 1e10\n",
      "    residuals = atimes-(origin_time + pred_tts)\n",
      "\n",
      "    # give a smooth warning to the optimizer that we're\n",
      "    # about to exceed the depth limit\n",
      "    if depth < 700:\n",
      "        depth_penalty = np.exp(1.0/(700-depth)) - 1\n",
      "        jac[2, len(targets)] = ( (depth_penalty + 1) / (depth-700)**2 ) / scaling[2]\n",
      "    else:\n",
      "        depth_penalty = 1e40\n",
      "    rr = np.concatenate([residuals, (   depth_penalty,  )])\n",
      "    return rr / sigma, jac/sigma\n",
      "\n",
      "\n",
      "class TTResidualCache(object):\n",
      "    def __init__(self):\n",
      "        self.x = np.ones((4,))\n",
      "\n",
      "    def ttr(self, x):\n",
      "        if not (x == self.x).all():\n",
      "            self.x[:] = x\n",
      "            self.cached_ttr, self.cached_jac = tt_residuals_jac(x)\n",
      "        return self.cached_ttr\n",
      "\n",
      "    def jac(self, x):\n",
      "        if not (x == self.x).all():\n",
      "            self.x[:] = x\n",
      "            self.cached_ttr, self.cached_jac = tt_residuals_jac(x)\n",
      "        return self.cached_jac\n",
      "\n",
      "ttrcache = TTResidualCache()\n",
      "\n",
      "def sqerror(x):\n",
      "    return .5*np.sum(ttrcache.ttr(x)**2)\n",
      "\n",
      "def sqerror_grad(x):\n",
      "    #ttr = ttrcache.ttr(x)\n",
      "    #jac = ttrcache.jac(x)\n",
      "    ttr, jac = tt_residuals_jac(x)\n",
      "    return np.sum(ttr * jac, axis=1)\n",
      "\n",
      "def unscaled_sqerror(x):\n",
      "    xs = (x - p0)*scaling\n",
      "    return sqerror(xs)\n",
      "\n",
      "\n",
      "def abserror(x):\n",
      "    return np.sum(np.abs(ttrcache.ttr(x)))\n",
      "\n",
      "def abserror_grad(x):\n",
      "    ttr, jac = tt_residuals_jac(x)\n",
      "    signs = ((ttr > 0) - .5) * 2\n",
      "    return np.sum(jac * signs, axis=1)\n",
      "\n",
      "x0 = np.zeros((4,))\n",
      "x1, cov_x, info_dict, mesg, ier = scipy.optimize.leastsq(ttrcache.ttr, x0, Dfun=ttrcache.jac, full_output=True, col_deriv=True)\n",
      "\n",
      "#r = scipy.optimize.minimize(sqerror, x1, jac=sqerror_grad)\n",
      "#print r"
     ],
     "language": "python",
     "metadata": {},
     "outputs": [
      {
       "output_type": "stream",
       "stream": "stdout",
       "text": [
        "['PEA0' 'USA0' 'YKR8' 'NB200' 'AS12' 'BVA0' 'STKA' 'CM16' 'JHJ' 'JNU' 'AAK'\n",
        " 'IL31' 'NWAO' 'JKA' 'KBZ' 'FIA0' 'MK31' 'WR1' 'FITZ']\n",
        "[ 18.59384787  -8.21059478  19.15832951  17.51185724  14.52454317\n",
        "  -5.29650059   8.0383893   26.12479759  19.69043816  26.12632752\n",
        "  15.53977802  20.26995089  12.71549993  -4.74814508  14.02760528\n",
        " -11.23271544  24.16062388  -9.00630691   6.89468265]\n"
       ]
      }
     ],
     "prompt_number": 26
    },
    {
     "cell_type": "code",
     "collapsed": false,
     "input": [
      "print abserror(x1)\n",
      "r = scipy.optimize.minimize(abserror, x0, jac=abserror_grad)\n",
      "print r\n",
      "\n",
      "H = nd.Hessian(abserror).hessian(r.x)\n",
      "H2 = nd.Jacobian(abserror_grad).jacobian(r.x)\n",
      "\n",
      "print H\n",
      "print H2"
     ],
     "language": "python",
     "metadata": {},
     "outputs": [
      {
       "output_type": "stream",
       "stream": "stdout",
       "text": [
        "1.55850141867\n",
        "   status: 2\n",
        "  success: False\n",
        "     njev: 63\n",
        "     nfev: 69\n",
        " hess_inv: array([[ 0.21136098, -0.08456202, -0.38419403, -0.15932263],\n",
        "       [-0.08456202,  0.04239908,  0.122365  ,  0.05657941],\n",
        "       [-0.38419403,  0.122365  ,  2.29609253,  0.79348588],\n",
        "       [-0.15932263,  0.05657941,  0.79348588,  0.29340058]])\n",
        "      fun: 1.4197352112482338\n",
        "        x: array([ 9.67431777, -9.79372002,  0.60377434,  2.26074871])\n",
        "  message: 'Desired error not necessarily achieved due to precision loss.'\n",
        "      jac: array([ 0.06073361,  0.47901092,  0.10444594, -0.25      ])"
       ]
      },
      {
       "output_type": "stream",
       "stream": "stdout",
       "text": [
        "\n",
        "[[ -2.64669217  -4.3497522    1.85039827   0.58361453]\n",
        " [ -4.3497522   87.56486147   8.78157946  10.01103131]\n",
        " [  1.85039827   8.78157946  -0.99607581 -19.74702933]\n",
        " [  0.58361453  10.01103131 -19.74702933  63.50109715]]"
       ]
      },
      {
       "output_type": "stream",
       "stream": "stdout",
       "text": [
        "\n",
        "[[ -7.04622385e-04  -1.03617270e-03   7.76130210e-04   0.00000000e+00]\n",
        " [ -1.03617270e-03   3.41456339e-04  -2.28841666e-03   0.00000000e+00]\n",
        " [  7.76130202e-04  -2.28841657e-03   4.32557188e-05   0.00000000e+00]\n",
        " [  0.00000000e+00   0.00000000e+00   0.00000000e+00   0.00000000e+00]]\n"
       ]
      }
     ],
     "prompt_number": 23
    },
    {
     "cell_type": "code",
     "collapsed": false,
     "input": [
      "\n",
      "import time\n",
      "t0 =time.time()\n",
      "H = nd.Hessian(sqerror).hessian(x1)\n",
      "t1 = time.time()\n",
      "H2 = nd.Jacobian(sqerror_grad).jacobian(x1)\n",
      "H3 = (H2 + H2.T)/2\n",
      "t2 = time.time()\n",
      "print H\n",
      "print H2\n",
      "\n",
      "print t1-t0\n",
      "print t2-t1\n",
      "print cov_x\n",
      "\n",
      "cx = np.linalg.inv(H3)\n",
      "print cx\n",
      "\n"
     ],
     "language": "python",
     "metadata": {},
     "outputs": [
      {
       "output_type": "stream",
       "stream": "stdout",
       "text": [
        "[[ 0.55528643 -0.19247809 -0.13858525  0.51079533]\n",
        " [-0.19247809  1.86404033  0.10541248 -0.54186728]\n",
        " [-0.13858525  0.10541248  0.11865934 -0.34744565]\n",
        " [ 0.51079533 -0.54186728 -0.34744565  1.18755732]]\n",
        "[[ 0.55571439 -0.19234357 -0.13858738  0.51077624]\n",
        " [-0.19233389  1.86729726  0.1053066  -0.5418527 ]\n",
        " [-0.13858808  0.1053058   0.11711671 -0.34744638]\n",
        " [ 0.51078916 -0.54184608 -0.34744575  1.18750176]]\n",
        "0.190578937531\n",
        "0.0885519981384\n",
        "[[  3.08612284  -0.1672876   -2.73951729  -2.20530101]\n",
        " [ -0.1672876    0.7048418    2.54154459   1.13719195]\n",
        " [ -2.73951729   2.54154459  75.35028363  24.38447456]\n",
        " [ -2.20530101   1.13719195  24.38447456   9.44411635]]\n",
        "[[  3.08515158  -0.16775419  -2.74497987  -2.20671   ]\n",
        " [ -0.16775419   0.70513252   2.54589529   1.13879651]\n",
        " [ -2.74497987   2.54589529  75.38233556  24.39817509]\n",
        " [ -2.20671      1.13879651  24.39817509   9.44946422]]\n"
       ]
      }
     ],
     "prompt_number": 6
    },
    {
     "cell_type": "code",
     "collapsed": false,
     "input": [
      "eps = 1e-6\n",
      "x1[0] -= eps\n",
      "t1 = tt_residuals_jac(x1)[0]\n",
      "print t1\n",
      "x1[0] += 2*eps\n",
      "t2 = tt_residuals_jac(x1)[0]\n",
      "print t2\n",
      "x1[0] -= eps\n",
      "print (t2[k-1]-t1[k-1])/(2*eps)"
     ],
     "language": "python",
     "metadata": {},
     "outputs": [
      {
       "output_type": "stream",
       "stream": "stdout",
       "text": [
        "> <ipython-input-139-f094d9a7df5f>(56)tt_residuals_jac()\n",
        "-> jac[:, i] = -grad / scaling\n"
       ]
      },
      {
       "name": "stdout",
       "output_type": "stream",
       "stream": "stdout",
       "text": [
        "(Pdb) print i\n"
       ]
      },
      {
       "output_type": "stream",
       "stream": "stdout",
       "text": [
        "2\n"
       ]
      },
      {
       "name": "stdout",
       "output_type": "stream",
       "stream": "stdout",
       "text": [
        "(Pdb) print sta\n"
       ]
      },
      {
       "output_type": "stream",
       "stream": "stdout",
       "text": [
        "YKR8\n"
       ]
      },
      {
       "name": "stdout",
       "output_type": "stream",
       "stream": "stdout",
       "text": [
        "(Pdb) print lon, lat, depth, origin_time\n"
       ]
      },
      {
       "output_type": "stream",
       "stream": "stdout",
       "text": [
        "143.496140243 23.1974440167 632.006404661 1238890143.0\n"
       ]
      },
      {
       "name": "stdout",
       "output_type": "stream",
       "stream": "stdout",
       "text": [
        "(Pdb) quit\n"
       ]
      },
      {
       "ename": "BdbQuit",
       "evalue": "",
       "output_type": "pyerr",
       "traceback": [
        "\u001b[1;31m---------------------------------------------------------------------------\u001b[0m\n\u001b[1;31mBdbQuit\u001b[0m                                   Traceback (most recent call last)",
        "\u001b[1;32m<ipython-input-140-8cd3212283a4>\u001b[0m in \u001b[0;36m<module>\u001b[1;34m()\u001b[0m\n\u001b[0;32m      1\u001b[0m \u001b[0meps\u001b[0m \u001b[1;33m=\u001b[0m \u001b[1;36m1e-6\u001b[0m\u001b[1;33m\u001b[0m\u001b[0m\n\u001b[0;32m      2\u001b[0m \u001b[0mx1\u001b[0m\u001b[1;33m[\u001b[0m\u001b[1;36m0\u001b[0m\u001b[1;33m]\u001b[0m \u001b[1;33m-=\u001b[0m \u001b[0meps\u001b[0m\u001b[1;33m\u001b[0m\u001b[0m\n\u001b[1;32m----> 3\u001b[1;33m \u001b[0mt1\u001b[0m \u001b[1;33m=\u001b[0m \u001b[0mtt_residuals_jac\u001b[0m\u001b[1;33m(\u001b[0m\u001b[0mx1\u001b[0m\u001b[1;33m)\u001b[0m\u001b[1;33m[\u001b[0m\u001b[1;36m0\u001b[0m\u001b[1;33m]\u001b[0m\u001b[1;33m\u001b[0m\u001b[0m\n\u001b[0m\u001b[0;32m      4\u001b[0m \u001b[1;32mprint\u001b[0m \u001b[0mt1\u001b[0m\u001b[1;33m\u001b[0m\u001b[0m\n\u001b[0;32m      5\u001b[0m \u001b[0mx1\u001b[0m\u001b[1;33m[\u001b[0m\u001b[1;36m0\u001b[0m\u001b[1;33m]\u001b[0m \u001b[1;33m+=\u001b[0m \u001b[1;36m2\u001b[0m\u001b[1;33m*\u001b[0m\u001b[0meps\u001b[0m\u001b[1;33m\u001b[0m\u001b[0m\n",
        "\u001b[1;32m<ipython-input-139-f094d9a7df5f>\u001b[0m in \u001b[0;36mtt_residuals_jac\u001b[1;34m(x)\u001b[0m\n\u001b[0;32m     54\u001b[0m                 \u001b[1;32mimport\u001b[0m \u001b[0mpdb\u001b[0m\u001b[1;33m;\u001b[0m \u001b[0mpdb\u001b[0m\u001b[1;33m.\u001b[0m\u001b[0mset_trace\u001b[0m\u001b[1;33m(\u001b[0m\u001b[1;33m)\u001b[0m\u001b[1;33m\u001b[0m\u001b[0m\n\u001b[0;32m     55\u001b[0m \u001b[1;33m\u001b[0m\u001b[0m\n\u001b[1;32m---> 56\u001b[1;33m             \u001b[0mjac\u001b[0m\u001b[1;33m[\u001b[0m\u001b[1;33m:\u001b[0m\u001b[1;33m,\u001b[0m \u001b[0mi\u001b[0m\u001b[1;33m]\u001b[0m \u001b[1;33m=\u001b[0m \u001b[1;33m-\u001b[0m\u001b[0mgrad\u001b[0m \u001b[1;33m/\u001b[0m \u001b[0mscaling\u001b[0m\u001b[1;33m\u001b[0m\u001b[0m\n\u001b[0m\u001b[0;32m     57\u001b[0m         \u001b[1;32mexcept\u001b[0m \u001b[0mValueError\u001b[0m \u001b[1;32mas\u001b[0m \u001b[0me\u001b[0m\u001b[1;33m:\u001b[0m\u001b[1;33m\u001b[0m\u001b[0m\n\u001b[0;32m     58\u001b[0m             \u001b[0mpred_tts\u001b[0m\u001b[1;33m[\u001b[0m\u001b[0mi\u001b[0m\u001b[1;33m]\u001b[0m \u001b[1;33m=\u001b[0m \u001b[1;36m1e10\u001b[0m\u001b[1;33m\u001b[0m\u001b[0m\n",
        "\u001b[1;32m<ipython-input-139-f094d9a7df5f>\u001b[0m in \u001b[0;36mtt_residuals_jac\u001b[1;34m(x)\u001b[0m\n\u001b[0;32m     54\u001b[0m                 \u001b[1;32mimport\u001b[0m \u001b[0mpdb\u001b[0m\u001b[1;33m;\u001b[0m \u001b[0mpdb\u001b[0m\u001b[1;33m.\u001b[0m\u001b[0mset_trace\u001b[0m\u001b[1;33m(\u001b[0m\u001b[1;33m)\u001b[0m\u001b[1;33m\u001b[0m\u001b[0m\n\u001b[0;32m     55\u001b[0m \u001b[1;33m\u001b[0m\u001b[0m\n\u001b[1;32m---> 56\u001b[1;33m             \u001b[0mjac\u001b[0m\u001b[1;33m[\u001b[0m\u001b[1;33m:\u001b[0m\u001b[1;33m,\u001b[0m \u001b[0mi\u001b[0m\u001b[1;33m]\u001b[0m \u001b[1;33m=\u001b[0m \u001b[1;33m-\u001b[0m\u001b[0mgrad\u001b[0m \u001b[1;33m/\u001b[0m \u001b[0mscaling\u001b[0m\u001b[1;33m\u001b[0m\u001b[0m\n\u001b[0m\u001b[0;32m     57\u001b[0m         \u001b[1;32mexcept\u001b[0m \u001b[0mValueError\u001b[0m \u001b[1;32mas\u001b[0m \u001b[0me\u001b[0m\u001b[1;33m:\u001b[0m\u001b[1;33m\u001b[0m\u001b[0m\n\u001b[0;32m     58\u001b[0m             \u001b[0mpred_tts\u001b[0m\u001b[1;33m[\u001b[0m\u001b[0mi\u001b[0m\u001b[1;33m]\u001b[0m \u001b[1;33m=\u001b[0m \u001b[1;36m1e10\u001b[0m\u001b[1;33m\u001b[0m\u001b[0m\n",
        "\u001b[1;32m/usr/lib/python2.7/bdb.pyc\u001b[0m in \u001b[0;36mtrace_dispatch\u001b[1;34m(self, frame, event, arg)\u001b[0m\n\u001b[0;32m     46\u001b[0m             \u001b[1;32mreturn\u001b[0m \u001b[1;31m# None\u001b[0m\u001b[1;33m\u001b[0m\u001b[0m\n\u001b[0;32m     47\u001b[0m         \u001b[1;32mif\u001b[0m \u001b[0mevent\u001b[0m \u001b[1;33m==\u001b[0m \u001b[1;34m'line'\u001b[0m\u001b[1;33m:\u001b[0m\u001b[1;33m\u001b[0m\u001b[0m\n\u001b[1;32m---> 48\u001b[1;33m             \u001b[1;32mreturn\u001b[0m \u001b[0mself\u001b[0m\u001b[1;33m.\u001b[0m\u001b[0mdispatch_line\u001b[0m\u001b[1;33m(\u001b[0m\u001b[0mframe\u001b[0m\u001b[1;33m)\u001b[0m\u001b[1;33m\u001b[0m\u001b[0m\n\u001b[0m\u001b[0;32m     49\u001b[0m         \u001b[1;32mif\u001b[0m \u001b[0mevent\u001b[0m \u001b[1;33m==\u001b[0m \u001b[1;34m'call'\u001b[0m\u001b[1;33m:\u001b[0m\u001b[1;33m\u001b[0m\u001b[0m\n\u001b[0;32m     50\u001b[0m             \u001b[1;32mreturn\u001b[0m \u001b[0mself\u001b[0m\u001b[1;33m.\u001b[0m\u001b[0mdispatch_call\u001b[0m\u001b[1;33m(\u001b[0m\u001b[0mframe\u001b[0m\u001b[1;33m,\u001b[0m \u001b[0marg\u001b[0m\u001b[1;33m)\u001b[0m\u001b[1;33m\u001b[0m\u001b[0m\n",
        "\u001b[1;32m/usr/lib/python2.7/bdb.pyc\u001b[0m in \u001b[0;36mdispatch_line\u001b[1;34m(self, frame)\u001b[0m\n\u001b[0;32m     65\u001b[0m         \u001b[1;32mif\u001b[0m \u001b[0mself\u001b[0m\u001b[1;33m.\u001b[0m\u001b[0mstop_here\u001b[0m\u001b[1;33m(\u001b[0m\u001b[0mframe\u001b[0m\u001b[1;33m)\u001b[0m \u001b[1;32mor\u001b[0m \u001b[0mself\u001b[0m\u001b[1;33m.\u001b[0m\u001b[0mbreak_here\u001b[0m\u001b[1;33m(\u001b[0m\u001b[0mframe\u001b[0m\u001b[1;33m)\u001b[0m\u001b[1;33m:\u001b[0m\u001b[1;33m\u001b[0m\u001b[0m\n\u001b[0;32m     66\u001b[0m             \u001b[0mself\u001b[0m\u001b[1;33m.\u001b[0m\u001b[0muser_line\u001b[0m\u001b[1;33m(\u001b[0m\u001b[0mframe\u001b[0m\u001b[1;33m)\u001b[0m\u001b[1;33m\u001b[0m\u001b[0m\n\u001b[1;32m---> 67\u001b[1;33m             \u001b[1;32mif\u001b[0m \u001b[0mself\u001b[0m\u001b[1;33m.\u001b[0m\u001b[0mquitting\u001b[0m\u001b[1;33m:\u001b[0m \u001b[1;32mraise\u001b[0m \u001b[0mBdbQuit\u001b[0m\u001b[1;33m\u001b[0m\u001b[0m\n\u001b[0m\u001b[0;32m     68\u001b[0m         \u001b[1;32mreturn\u001b[0m \u001b[0mself\u001b[0m\u001b[1;33m.\u001b[0m\u001b[0mtrace_dispatch\u001b[0m\u001b[1;33m\u001b[0m\u001b[0m\n\u001b[0;32m     69\u001b[0m \u001b[1;33m\u001b[0m\u001b[0m\n",
        "\u001b[1;31mBdbQuit\u001b[0m: "
       ]
      }
     ],
     "prompt_number": 140
    },
    {
     "cell_type": "code",
     "collapsed": false,
     "input": [
      "lon=143.496140243 - 1e-2\n",
      "lat=23.1974440167 \n",
      "depth=632.006404661 \n",
      "origin_time=1238890143.0\n",
      "sta=\"YKR8\"\n",
      "phase=\"P\"\n",
      "tt, grad = tt_predict_grad(lon, lat, depth, origin_time, sta, phase=phase)\n",
      "print tt\n",
      "print grad\n",
      "\n"
     ],
     "language": "python",
     "metadata": {},
     "outputs": [
      {
       "output_type": "stream",
       "stream": "stdout",
       "text": [
        "638.821590607\n",
        "[-2.38383458 -4.84536553 -0.07886553  1.        ]\n"
       ]
      }
     ],
     "prompt_number": 9
    },
    {
     "cell_type": "code",
     "collapsed": false,
     "input": [
      "print targets\n",
      "\n",
      "\n",
      "\n",
      "tt, grad = tt_predict_grad(init_ev.lon, init_ev.lat, init_ev.depth, init_ev.time, \"NB200\", phase=\"P\")\n",
      "\n",
      "def ttx(x):\n",
      "    lon, lat, depth, time = x\n",
      "    ev = Event(lon=lon, lat=lat, depth=depth, time=time)\n",
      "    return tt_predict(ev, \"NB200\", \"P\")\n",
      "\n",
      "xx = np.array((init_ev.lon, init_ev.lat, init_ev.depth, init_ev.time))\n",
      "\n",
      "print tt, ttx(xx)\n",
      "\n",
      "print nd.Gradient(ttx).gradient(xx)\n",
      "print grad"
     ],
     "language": "python",
     "metadata": {},
     "outputs": [
      {
       "output_type": "stream",
       "stream": "stdout",
       "text": [
        "[('AAK', 'P'), ('AS12', 'P'), ('BVA0', 'P'), ('CM16', 'P'), ('FIA0', 'P'), ('FITZ', 'P'), ('IL31', 'P'), ('JHJ', 'P'), ('JKA', 'P'), ('JNU', 'P'), ('KBZ', 'P'), ('MK31', 'P'), ('NB200', 'P'), ('NWAO', 'P'), ('PEA0', 'P'), ('STKA', 'P'), ('USA0', 'P'), ('WR1', 'P'), ('YKR8', 'P')]\n",
        "702.75052423 702.75052423\n",
        "[ 1.54672413 -4.33640582 -0.0843743   0.        ]\n",
        "[ 1.54672413 -4.33640582 -0.0843743   1.        ]\n"
       ]
      }
     ],
     "prompt_number": 10
    },
    {
     "cell_type": "code",
     "collapsed": false,
     "input": [
      "print p0"
     ],
     "language": "python",
     "metadata": {},
     "outputs": [
      {
       "output_type": "stream",
       "stream": "stdout",
       "text": [
        "[  1.43439827e+02   2.32725073e+01   6.30585290e+02   1.23889014e+09]\n"
       ]
      }
     ],
     "prompt_number": 57
    },
    {
     "cell_type": "code",
     "collapsed": false,
     "input": [
      "# disti 75 disti2 76 d_dist 1.000000 val11 641.199600 val12 646.723600 val21 633.328600 val22 638.802400 \n",
      "# mdist11 0.320064 mdist12 1.320064 mdist21 0.679936 mdist22 1.679936\n",
      "# lon 143.496140 lat 23.197444 delta 75.000000 esaz 28.057115 seaz 291.235392 trvtime 639.716992 ec -0.351643\n",
      "# disti 74 disti2 75 d_dist 1.000000 \n",
      "val11 = 635.603900 \n",
      "val12 = 641.199600 \n",
      "val21 = 627.783600 \n",
      "val22 = 633.328600\n",
      "\n",
      "mdist11 = 1.320064 \n",
      "mdist12 = 0.320064 \n",
      "mdist21 = 1.679936 \n",
      "mdist22 = 0.679936\n",
      "\n",
      "v11 = 641.199600\n",
      "v12 = 646.723600\n",
      "v21 = 633.328600\n",
      "v22 = 638.802400\n",
      "\n",
      "md11 = 0.320064\n",
      "md12 = 1.320064\n",
      "md21 = 0.679936\n",
      "md22 = 1.679936\n",
      "\n",
      "n1 = val11/mdist11 + val12/mdist12 + val21/mdist21 + val22/mdist22\n",
      "n2 = v11/md11 + v12/md12 + v21/md21 + v22/md22\n",
      "\n",
      "d1 = 1/mdist11 + 1/mdist12 + 1/mdist21 + 1/mdist22\n",
      "d2 = 1/md11 + 1/md12 + 1/md21 + 1/md22\n",
      "\n",
      "print n1/d1\n",
      "print n2/d2"
     ],
     "language": "python",
     "metadata": {},
     "outputs": [
      {
       "output_type": "stream",
       "stream": "stdout",
       "text": [
        "637.198009045\n",
        "639.716992576\n"
       ]
      }
     ],
     "prompt_number": 7
    },
    {
     "cell_type": "code",
     "collapsed": false,
     "input": [],
     "language": "python",
     "metadata": {},
     "outputs": []
    }
   ],
   "metadata": {}
  }
 ]
}