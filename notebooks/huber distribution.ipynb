{
 "metadata": {
  "name": "",
  "signature": "sha256:3ec0e5f7f1ca2f1618acdc163f46b1cab47858c2f7cb7282928353fc40db1f23"
 },
 "nbformat": 3,
 "nbformat_minor": 0,
 "worksheets": [
  {
   "cells": [
    {
     "cell_type": "code",
     "collapsed": false,
     "input": [
      "import scipy.special\n",
      "import scipy.integrate\n",
      "\n",
      "def huber_loss(x, c):\n",
      "    if np.abs(x) < c:\n",
      "        return x**2/2.0\n",
      "    else:\n",
      "        return c*(np.abs(x) - c/2.0)\n",
      "    \n",
      "def huber_normalizer(c):\n",
      "    laplace_tail_integral = 1.0/(np.exp(c**2/2) * c )\n",
      "    gaussian_central_integral = scipy.special.erf(c/np.sqrt(2)) * np.sqrt(2*np.pi)\n",
      "    normalizer = 2*laplace_tail_integral + gaussian_central_integral\n",
      "    return  normalizer\n",
      "\n",
      "def huber_density(x, c):  \n",
      "    l = huber_loss(x,c)\n",
      "    return np.exp(-l) / huber_normalizer(c)\n",
      "\n",
      "c = 0.5\n",
      "x = np.linspace(-6, 6, 100)\n",
      "lx = [huber_loss(z, c) for z in x]\n",
      "\n",
      "plot(x, lx)\n",
      "\n",
      "figure()\n",
      "dx = [huber_density(z, c) for z in x]\n",
      "plot(x, dx)"
     ],
     "language": "python",
     "metadata": {},
     "outputs": [
      {
       "metadata": {},
       "output_type": "pyout",
       "prompt_number": 163,
       "text": [
        "[<matplotlib.lines.Line2D at 0x6c8b950>]"
       ]
      },
      {
       "metadata": {},
       "output_type": "display_data",
       "png": "[encoded data removed]",
       "text": [
        "<matplotlib.figure.Figure at 0x4c01e10>"
       ]
      },
      {
       "metadata": {},
       "output_type": "display_data",
       "png": "[encoded data removed]",
       "text": [
        "<matplotlib.figure.Figure at 0x631bf10>"
       ]
      }
     ],
     "prompt_number": 163
    },
    {
     "cell_type": "code",
     "collapsed": false,
     "input": [
      "scipy.special.erf(1.0/sqrt(2.0))"
     ],
     "language": "python",
     "metadata": {},
     "outputs": [
      {
       "output_type": "stream",
       "stream": "stdout",
       "text": [
        "1.00000000025\n"
       ]
      }
     ],
     "prompt_number": 167
    },
    {
     "cell_type": "code",
     "collapsed": false,
     "input": [],
     "language": "python",
     "metadata": {},
     "outputs": [
      {
       "output_type": "stream",
       "stream": "stdout",
       "text": [
        "1.71124878378\n",
        "1.0\n"
       ]
      }
     ],
     "prompt_number": 156
    },
    {
     "cell_type": "code",
     "collapsed": false,
     "input": [],
     "language": "python",
     "metadata": {},
     "outputs": [
      {
       "output_type": "stream",
       "stream": "stdout",
       "text": [
        "0.606530659713 1.6487212707\n"
       ]
      }
     ],
     "prompt_number": 116
    },
    {
     "cell_type": "code",
     "collapsed": false,
     "input": [],
     "language": "python",
     "metadata": {},
     "outputs": [
      {
       "output_type": "stream",
       "stream": "stdout",
       "text": [
        "1000.001\n"
       ]
      }
     ],
     "prompt_number": 93
    },
    {
     "cell_type": "code",
     "collapsed": false,
     "input": [
      "scipy.special.erf(1.0/sqrt(2.0))"
     ],
     "language": "python",
     "metadata": {},
     "outputs": [
      {
       "metadata": {},
       "output_type": "pyout",
       "prompt_number": 53,
       "text": [
        "1.7112487837842973"
       ]
      }
     ],
     "prompt_number": 53
    },
    {
     "cell_type": "code",
     "collapsed": false,
     "input": [
      "def gaussian_mass(c):\n",
      "    normalizer, _ = scipy.integrate.quad(huber_density, -50, 50, args=(c,))\n",
      "    gaussian_normalizer, _ = scipy.integrate.quad(huber_density, -c, c, args=(c,))\n",
      "    return gaussian_normalizer/normalizer\n",
      "\n",
      "print gaussian_mass(2.0)\n",
      "\n",
      "# integral is from -infty to -c of the laplace, then of -c to c of the gaussian, then of c to infty of the laplace\n",
      "# this is lpn + scipy.special.erf(c/np.sqrt(2)) * sqrt(2*pi) + lpn\n"
     ],
     "language": "python",
     "metadata": {},
     "outputs": [
      {
       "output_type": "stream",
       "stream": "stdout",
       "text": [
        "0.946463595479\n"
       ]
      }
     ],
     "prompt_number": 171
    },
    {
     "cell_type": "code",
     "collapsed": false,
     "input": [
      "c = 1.0\n",
      "lpn = 1.0/(np.exp(c**2/2) * c )\n",
      "gn = scipy.special.erf(c/np.sqrt(2)) * np.sqrt(2*np.pi)\n",
      "normalizer = 2*lpn + gn\n"
     ],
     "language": "python",
     "metadata": {},
     "outputs": [
      {
       "output_type": "stream",
       "stream": "stdout",
       "text": [
        "2.92431010321\n"
       ]
      }
     ],
     "prompt_number": 158
    },
    {
     "cell_type": "code",
     "collapsed": false,
     "input": [
      "def gaussian_mass2(c):\n",
      "    laplace_tail_integral = 1.0/(np.exp(c**2/2) * c )\n",
      "    gaussian_central_integral = scipy.special.erf(c/np.sqrt(2)) * np.sqrt(2*np.pi)\n",
      "    normalizer = 2*laplace_tail_integral + gaussian_central_integral\n",
      "    return gaussian_central_integral / normalizer\n",
      "\n",
      "import scipy.stats\n",
      "\n",
      "c=0.1\n",
      "gm = gaussian_mass(c)\n",
      "rv = scipy.stats.truncnorm(-c, c)\n",
      "def sample_huber(c):\n",
      "    u = np.random.rand()\n",
      "    if u < gm:\n",
      "        x = rv.rvs()\n",
      "    else:\n",
      "        sign = 1 if np.random.rand() > 0.5 else -1\n",
      "        x = sign*(np.random.exponential(1.0/c) + c)\n",
      "    return x\n",
      "\n",
      "xs = [sample_huber(c) for i in range(10000)]\n",
      "\n",
      "x = np.linspace(np.min(xs), np.max(xs), 100)\n",
      "\n",
      "dx = [huber_density(z, c) for z in x]\n"
     ],
     "language": "python",
     "metadata": {},
     "outputs": [],
     "prompt_number": 209
    },
    {
     "cell_type": "code",
     "collapsed": false,
     "input": [
      "import seaborn as sns\n",
      "sns.distplot(xs)\n",
      "\n",
      "plot(x, dx)\n",
      "#gca().set_xlim([-1.5, 1.5])"
     ],
     "language": "python",
     "metadata": {},
     "outputs": [
      {
       "metadata": {},
       "output_type": "pyout",
       "prompt_number": 210,
       "text": [
        "[<matplotlib.lines.Line2D at 0xbca6050>]"
       ]
      },
      {
       "metadata": {},
       "output_type": "display_data",
       "png": "[encoded data removed]",
       "text": [
        "<matplotlib.figure.Figure at 0xa6cbcd0>"
       ]
      }
     ],
     "prompt_number": 210
    },
    {
     "cell_type": "code",
     "collapsed": false,
     "input": [],
     "language": "python",
     "metadata": {},
     "outputs": []
    }
   ],
   "metadata": {}
  }
 ]
}