{
 "cells": [
  {
   "cell_type": "code",
   "execution_count": null,
   "metadata": {
    "collapsed": false
   },
   "outputs": [],
   "source": [
    "%load_ext autoreload\n",
    "#stas = ['AAK', 'AKTO', 'BVAR', 'KURK', 'MKAR', 'SONM', 'ZALV']\n",
    "stas = ['AAK', 'AKTO', 'BVAR', 'MKAR', 'ZALV']\n",
    "basedir = \"vdec_signals\"\n",
    "\n",
    "ev_bounds = dict()\n",
    "\n",
    "ev_bounds['top'] = 50\n",
    "ev_bounds['bottom'] = 35\n",
    "ev_bounds['left'] = 60\n",
    "ev_bounds['right'] =100\n",
    "\n",
    "phase = 'Pn'\n"
   ]
  },
  {
   "cell_type": "code",
   "execution_count": null,
   "metadata": {
    "collapsed": false
   },
   "outputs": [],
   "source": [
    "from sigvisa.explore.doublets.xcorr_pairs import xcorr, xcorr_valid, extract_phase_window\n",
    "from sigvisa.treegp.gp import GP, GPCov, ll_under_GPprior, gaussian_logp\n",
    "import seaborn as sns\n",
    "\n",
    "import sigvisa.explore.wavelet_matching\n",
    "from sigvisa.explore.wavelet_matching import *\n",
    "\n",
    "\n",
    "import sigvisa.explore.wavelet_vis\n",
    "from sigvisa.explore.wavelet_vis import *\n",
    "\n",
    "%autoreload\n",
    "\n",
    "sigvisa.explore.wavelet_matching.phase=phase\n",
    "sigvisa.explore.wavelet_matching.ev_bounds=ev_bounds\n",
    "sigvisa.explore.wavelet_vis.basedir=basedir\n",
    "sigvisa.explore.wavelet_vis.stas=stas"
   ]
  },
  {
   "cell_type": "code",
   "execution_count": 77,
   "metadata": {
    "collapsed": false
   },
   "outputs": [],
   "source": [
    "from sigvisa.models.ttime import tt_predict\n",
    "\n",
    "def predict_tt_coord(X, sta, phase):\n",
    "    ev = Event(lon=X[0], lat=X[1], depth=X[2], time=X[3], mb=4.0)\n",
    "    return tt_predict(ev, sta, phase)"
   ]
  },
  {
   "cell_type": "code",
   "execution_count": 292,
   "metadata": {
    "collapsed": false
   },
   "outputs": [
    {
     "data": {
      "text/plain": [
       "<matplotlib.collections.PathCollection at 0x10a99fd0>"
      ]
     },
     "execution_count": 292,
     "metadata": {},
     "output_type": "execute_result"
    },
    {
     "data": {
      "image/png": "[encoded data removed]",
      "text/plain": [
       "<matplotlib.figure.Figure at 0x10a7ea10>"
      ]
     },
     "metadata": {},
     "output_type": "display_data"
    }
   ],
   "source": [
    "def star_events(center):\n",
    "    v1 = np.array([0.1, 0.1, 0.0, 0.0])\n",
    "    v2 = np.array([0.1, -0.1, 0.0, 0.0])\n",
    "    #v3 = np.array([0.1, 0, 0.0, 0.0])\n",
    "    #v4 = np.array([0, 0.1, 0.0, 0.0])\n",
    "    \n",
    "    events = []\n",
    "    for c in np.linspace(-2,2, 10):\n",
    "        events.append(center + v1 *c)\n",
    "        events.append(center + v2 *c)\n",
    "        #events.append(center + v3 *c)\n",
    "        #events.append(center + v4 *c)\n",
    "    events = np.array(events)\n",
    "    events[:,3] += np.random.randn(events.shape[0]) * 100000\n",
    "    return events\n",
    "\n",
    "def circle_events(center, n, radius = 0.2):\n",
    "    events = []\n",
    "    for d in np.linspace(0, 2*np.pi, n+1):\n",
    "        events.append(center + np.array([np.sin(d) * radius, np.cos(d) * radius, 0, np.random.randn() * 100000]))\n",
    "    return np.array(events[:n])\n",
    "\n",
    "def cluster_events(center, n_clusters, cluster_size, cluster_width):\n",
    "    events = []\n",
    "    for i in range(n_clusters):\n",
    "        cluster_center = center + np.array([np.random.randn()*.5, np.random.randn()*.5, 0, 0])\n",
    "        for k in range(cluster_size):\n",
    "            events.append(cluster_center + np.array([np.random.randn()*cluster_width, np.random.randn()*cluster_width, 0, np.random.randn() * 100000]))\n",
    "    return np.array(events)\n",
    "\n",
    "ev = np.array([74.973, 39.399, 0.0, 1266367142.687])\n",
    "#events = star_events(ev)\n",
    "events = circle_events(ev, 20)\n",
    "#events = cluster_events(ev, 6, 5, 0.03)\n",
    "scatter(events[:,0], events[:,1])"
   ]
  },
  {
   "cell_type": "code",
   "execution_count": 314,
   "metadata": {
    "collapsed": false
   },
   "outputs": [
    {
     "name": "stdout",
     "output_type": "stream",
     "text": [
      "[0, 0, 0, 0, 1, 1, 1, 2, 2, 3, 3, 4, 4, 5, 5, 6, 6, 7, 7, 8, 8, 9, 9, 10, 10, 11, 11, 12, 12, 13, 13, 14, 14, 15, 15, 16, 16, 17, 17, 18] [1, 2, 18, 19, 2, 3, 19, 3, 4, 4, 5, 5, 6, 6, 7, 7, 8, 8, 9, 9, 10, 10, 11, 11, 12, 12, 13, 13, 14, 14, 15, 15, 16, 16, 17, 17, 18, 18, 19, 19]\n"
     ]
    }
   ],
   "source": [
    "eyes = []\n",
    "js = []\n",
    "for (i, xi) in enumerate(events):\n",
    "    for (j, xj) in enumerate(events[i+1:,:]):\n",
    "        d = dist_km((xi[0], xi[1]), (xj[0], xj[1]))\n",
    "        if d < 15:\n",
    "            eyes.append(i)\n",
    "            js.append(j+i+1)\n",
    "print eyes, js\n",
    "pairs = (eyes, js)"
   ]
  },
  {
   "cell_type": "code",
   "execution_count": 315,
   "metadata": {
    "collapsed": false
   },
   "outputs": [],
   "source": [
    "atime_cov = GPCov(wfn_str=\"compact2\", dfn_str=\"lld\", wfn_params=[1.0,], dfn_params=[80,50])\n",
    "pick_std = 2.0\n",
    "pick_var = pick_std**2\n",
    "rel_std = 0.01\n",
    "rel_var = rel_std**2\n",
    "\n",
    "sample_delays=dict()\n",
    "pred_tts=dict()\n",
    "sample_tts=dict()\n",
    "sample_atimes=dict()\n",
    "sample_picks=dict()\n",
    "\n",
    "for sta in stas:\n",
    "    sample_delays[sta] = prior_sample(events, atime_cov, noise_var=0)\n",
    "    pred_tts[sta] = [predict_tt_coord(xx, sta, 'Pn') for xx in events]\n",
    "    sample_tts[sta] = sample_delays[sta] + pred_tts[sta]\n",
    "    sample_atimes[sta] = events[:,3] + sample_tts[sta]\n",
    "    sample_picks[sta] = sample_atimes[sta] + np.random.randn(len(sample_atimes[sta])) * pick_std"
   ]
  },
  {
   "cell_type": "code",
   "execution_count": 316,
   "metadata": {
    "collapsed": false
   },
   "outputs": [],
   "source": [
    "rel_atimes = dict()\n",
    "for sta in stas:\n",
    "    rel_atimes[sta] = sample_atimes[sta][eyes] - sample_atimes[sta][js]"
   ]
  },
  {
   "cell_type": "code",
   "execution_count": 317,
   "metadata": {
    "collapsed": false
   },
   "outputs": [
    {
     "name": "stdout",
     "output_type": "stream",
     "text": [
      "-41.3191190021\n",
      "[-2.86367988  1.09965012  0.          1.81425135 -1.30430126  0.\n",
      "  2.07350213 -1.84610855  0.          0.12540056 -0.22534241  0.\n",
      "  0.00292735  0.06464388  0.         -0.09040596  0.00442929  0.          0.4886531\n",
      "  1.58464576  0.         -0.25855371 -0.21504324  0.          0.94625697\n",
      "  1.25681627  0.          0.28762431  0.41372213  0.         -1.21958361\n",
      " -0.58040259  0.         -0.52650759 -0.35547284  0.         -0.07630986\n",
      " -0.45722677  0.          0.12028195 -0.56092911  0.          0.0842729\n",
      "  0.30886835  0.          0.16099682  0.17590413  0.          0.36651323\n",
      " -0.37654847  0.         -1.26142082  1.22112654  0.          0.99212086\n",
      " -0.50932648  0.         -1.16634011  0.29223953  0.        ]\n",
      "[-0.64367372  0.4406965   0.71842442  0.14893617  0.16057148  0.00203443\n",
      "  0.46271028 -0.0654467   0.31124603  0.09365053 -0.39217654 -0.30840869\n",
      " -0.26452844 -0.22969571  0.13206734  0.27376492  0.38817127 -0.9494297\n",
      "  0.35468764 -0.33260256]\n"
     ]
    }
   ],
   "source": [
    "from sigvisa.treegp.cover_tree import VectorTree, MatrixTree\n",
    "\n",
    "pt = VectorTree(events, 1, atime_cov.dfn_str, atime_cov.dfn_params, atime_cov.wfn_str, atime_cov.wfn_params)\n",
    "\n",
    "def unflatten(fev):\n",
    "    X_events = np.zeros(events.shape)\n",
    "    tmp = np.reshape(fev, (events.shape[0], 3))\n",
    "    X_events[:,0:2] = tmp[:,0:2]\n",
    "    X_events[:,3] = tmp[:,2]\n",
    "    return X_events\n",
    "\n",
    "def flatten(Xev):\n",
    "    s = Xev[:,[0,1,3]]\n",
    "    return s.flatten()\n",
    "\n",
    "def abs_dKdi(X_events, p, i):\n",
    "    N = X_events.shape[0]\n",
    "    dKdi = np.zeros((N, N))\n",
    "    xp =  np.array(X_events[p:p+1,:], copy=True)\n",
    "    kp = pt.kernel_deriv_wrt_xi(xp, X_events, 0, i)\n",
    "    dKdi[p,:] = kp\n",
    "    dKdi[:,p] = kp\n",
    "    dKdi[p,p] = 0\n",
    "    return dKdi\n",
    "\n",
    "def gpllgrad(X_events, y, fK, fdKdi):\n",
    "    #X_events = unflatten(flat_ev)\n",
    "    flat_ev = flatten(X_events)\n",
    "    n = X_events.shape[0]\n",
    "    grad = np.zeros((len(flat_ev),))\n",
    "    K = fK(X_events)\n",
    "    \n",
    "    L = scipy.linalg.cholesky(K, lower=True)\n",
    "    ld2 = np.log(np.diag(L)).sum() # this computes .5 * log(det(K))\n",
    "    alpha = scipy.linalg.cho_solve((L, True), y)\n",
    "    ll =  -.5 * ( np.dot(y.T, alpha) + n * np.log(2*np.pi)) - ld2\n",
    "\n",
    "    Kinv = np.linalg.inv(K)\n",
    "    \n",
    "    grad_wrt_y = -scipy.linalg.cho_solve((L, True), y)\n",
    "    \n",
    "    for idx in range(len(flat_ev)):\n",
    "        p = idx / 3\n",
    "        i = idx % 3\n",
    "        if i < 2:\n",
    "            dKdi = fdKdi(X_events, p, i)\n",
    "            \n",
    "            #X_events[p,i] += 1e-4\n",
    "            #K2 = fK(X_events)\n",
    "            #X_events[p,i] -= 1e-4\n",
    "            #dKdie = (K2-K)/1e-4\n",
    "            #if np.max(np.abs(dKdie - dKdi)) > .1:\n",
    "            #    import pdb; pdb.set_trace()\n",
    "            \n",
    "            dlldi = .5 * np.dot(alpha.T, np.dot(dKdi, alpha))\n",
    "            dlldi -= .5 * np.sum(np.sum(np.multiply(Kinv, dKdi)))\n",
    "        \n",
    "            grad[idx] = dlldi\n",
    "    return ll, grad, grad_wrt_y\n",
    "\n",
    "def absK(Xev):\n",
    "    K = pt.kernel_matrix(Xev, Xev, False)\n",
    "    K += np.eye(K.shape[0]) * pick_var\n",
    "    return K\n",
    "\n",
    "\n",
    "\n",
    "\n",
    "x0 = flatten(events)\n",
    "ll, grad, ygrad = gpllgrad(events, sample_picks['MKAR']-events[:,3] - pred_tts['MKAR'], absK, abs_dKdi)\n",
    "print ll\n",
    "\n",
    "print grad\n",
    "print ygrad\n"
   ]
  },
  {
   "cell_type": "code",
   "execution_count": 318,
   "metadata": {
    "collapsed": false
   },
   "outputs": [],
   "source": [
    "\n",
    "def dydX(X_events, picks, sta, eps=1e-4):\n",
    "    # how does changing lon by epsilon affect observed pick time?\n",
    "    tts = np.array([predict_tt_coord(x, sta, 'Pn') for x in X_events])\n",
    "    lon_tts = np.array([predict_tt_coord((x[0]+eps, x[1], x[2], x[3]), sta, 'Pn') for x in X_events])\n",
    "    lat_tts = np.array([predict_tt_coord((x[0], x[1]+eps, x[2], x[3]), sta, 'Pn') for x in X_events])\n",
    "    \n",
    "    dtt_dlon = (lon_tts - tts) / eps\n",
    "    dtt_dlat = (lat_tts - tts) / eps\n",
    "    \n",
    "    dys = np.ones((X_events.shape[0]*3,))\n",
    "    dys[0::3] = dtt_dlon\n",
    "    dys[1::3] = dtt_dlat\n",
    "    return dys\n",
    "    \n",
    "def location_energy(X_events, picks):\n",
    "    ll = 0\n",
    "    grad = None\n",
    "    for sta in stas:\n",
    "        pred_tts = [predict_tt_coord(x, sta, 'Pn') for x in X_events]\n",
    "        pred_ats = pred_tts + X_events[:,3]\n",
    "        residuals = picks[sta] - pred_ats\n",
    "        gp_ll, gpgrad, ygrad = gpllgrad(X_events, residuals, absK, abs_dKdi) #ll_under_GPprior(X_events, residuals, atime_cov, pick_var)\n",
    "        dys = dydX(X_events, picks, sta)\n",
    "        \n",
    "        ll += gp_ll\n",
    "        \n",
    "        dys[::3] *= ygrad\n",
    "        dys[1::3] *= ygrad\n",
    "        dys[2::3] *= ygrad\n",
    "        \n",
    "        fullgrad = gpgrad - dys\n",
    "        \n",
    "        grad = fullgrad if grad is None else grad + fullgrad\n",
    "    return -ll, -grad\n",
    "\n"
   ]
  },
  {
   "cell_type": "code",
   "execution_count": 319,
   "metadata": {
    "collapsed": false
   },
   "outputs": [
    {
     "name": "stdout",
     "output_type": "stream",
     "text": [
      "EarthModel: requesting travel time for impossible phase.\n",
      "Warning: Desired error not necessarily achieved due to precision loss.\n",
      "         Current function value: 195.387416\n",
      "         Iterations: 67\n",
      "         Function evaluations: 133\n",
      "         Gradient evaluations: 123\n"
     ]
    },
    {
     "data": {
      "text/plain": [
       "'ll1,g1 = f(x0)\\nx0[-1] += 1e-4\\nll2,g2 = f(x0)\\nprint (ll2-ll1)/1e-4\\nprint g1'"
      ]
     },
     "execution_count": 319,
     "metadata": {},
     "output_type": "execute_result"
    }
   ],
   "source": [
    "import scipy.optimize\n",
    "\n",
    "\n",
    "\n",
    "def f(flat_ev):\n",
    "    X_events = unflatten(flat_ev)\n",
    "    try:\n",
    "        nll, ngrad = location_energy(X_events, sample_picks)\n",
    "        #print 'returning', nll\n",
    "        #print nll\n",
    "        return nll,ngrad\n",
    "    except Exception as e:\n",
    "        print e\n",
    "        return 999999999, np.zeros(flat_ev.shape)\n",
    "\n",
    "x0 = flatten(events)\n",
    "#print f(x0)\n",
    "\n",
    "r = scipy.optimize.minimize(f, x0, options={'disp': True}, jac=True, method=\"BFGS\")\n",
    "#print r\n",
    "\n",
    "\"\"\"ll1,g1 = f(x0)\n",
    "x0[-1] += 1e-4\n",
    "ll2,g2 = f(x0)\n",
    "print (ll2-ll1)/1e-4\n",
    "print g1\"\"\""
   ]
  },
  {
   "cell_type": "code",
   "execution_count": 320,
   "metadata": {
    "collapsed": false
   },
   "outputs": [
    {
     "data": {
      "text/plain": [
       "<matplotlib.collections.PathCollection at 0x117a1c90>"
      ]
     },
     "execution_count": 320,
     "metadata": {},
     "output_type": "execute_result"
    },
    {
     "data": {
      "image/png": "[encoded data removed]",
      "text/plain": [
       "<matplotlib.figure.Figure at 0x114327d0>"
      ]
     },
     "metadata": {},
     "output_type": "display_data"
    }
   ],
   "source": [
    "#print unflatten(r.x)\n",
    "loc_events = unflatten(r.x)\n",
    "scatter(loc_events[:,0], events[:,1])"
   ]
  },
  {
   "cell_type": "code",
   "execution_count": 321,
   "metadata": {
    "collapsed": false
   },
   "outputs": [],
   "source": [
    "\n",
    "def expand_to_rel(K, pairs, pick_var, rel_var):\n",
    "    N = K.shape[0]\n",
    "    eyes, js = pairs\n",
    "    NN = N + len(eyes)\n",
    "    KK = np.zeros((NN, NN))\n",
    "    KK[0:N, 0:N] = K + np.eye(N) * pick_var\n",
    "    \n",
    "    # cov(a, c-d) = cov(a,c) + cov(a,d)\n",
    "    # cov(a-b, c-d) = cov(a,c) + cov(a,d) + cov(b,c) + cov(b,d)\n",
    "\n",
    "    offdiag = K[eyes,:] + K[js,:]\n",
    "    KK[N:NN,:N] = offdiag\n",
    "    KK[:N, N:NN] = offdiag.T\n",
    "    \n",
    "    #eyes = \n",
    "    \n",
    "    diag = K[np.ix_(eyes,eyes)] + K[np.ix_(eyes,js)] + K[np.ix_(js, eyes)] + K[np.ix_(js, js)]\n",
    "    diag += np.eye(diag.shape[0]) * rel_var\n",
    "    KK[N:NN,N:NN] = diag\n",
    "    #print \"returning\", K.shape, KK.shape\n",
    "    return KK\n",
    "    \n",
    "def rel_cov(X_events, pairs, cov, pick_var, rel_var, predict_tree=None):\n",
    "    if predict_tree is None:\n",
    "        predict_tree = VectorTree(X_events, 1, cov.dfn_str, cov.dfn_params, cov.wfn_str, cov.wfn_params)\n",
    "        \n",
    "    K = predict_tree.kernel_matrix(X_events, X_events, False)\n",
    "\n",
    "    return expand_to_rel(K, pairs, pick_var, rel_var), predict_tree\n",
    "        \n",
    "def rel_dKdi(predict_tree, X_events, p, i, pairs):\n",
    "    #print \"dkdi-ing\"\n",
    "    dKdi = abs_dKdi(X_events, p, i)\n",
    "    #print \"got dKdi\", dKdi.shape\n",
    "    return expand_to_rel(dKdi, pairs, 0.0, 0.0)\n",
    "    \n",
    "    \n",
    "def relK(Xev):\n",
    "    return rel_cov(Xev, pairs, atime_cov, pick_var, rel_var, pt)[0]\n",
    "\n",
    "def reldK(Xev, p, i):\n",
    "    return rel_dKdi(pt, Xev, p, i, pairs)\n",
    "    \n",
    "#KK, pt = rel_cov(events, (eyes, js), atime_cov, 4.0, 4.0)\n"
   ]
  },
  {
   "cell_type": "code",
   "execution_count": 322,
   "metadata": {
    "collapsed": false
   },
   "outputs": [],
   "source": [
    "\n",
    "def rel_dydX(X_events, picks, pairs, sta, eps=1e-4):\n",
    "    # how does changing lon by epsilon affect observed pick time?\n",
    "    dys = dydX(X_events, picks, sta, eps=eps)\n",
    "    N = len(dys)\n",
    "    eyes, js = pairs\n",
    "    full_dys = np.zeros((N + len(eyes)))\n",
    "    full_dys[:N] = dys\n",
    "    full_dys[N:] = dys[eyes] - dys[js]\n",
    "    return full_dys\n",
    "\n",
    "def rel_energy(X_events, picks, pairs, rel_offsets):\n",
    "    ll = 0\n",
    "    grad=None\n",
    "    eyes, js = pairs\n",
    "    for sta in stas:\n",
    "        pred_tts = [predict_tt_coord(x, sta, 'Pn') for x in X_events]\n",
    "        pred_ats = pred_tts + X_events[:,3]\n",
    "        residuals = picks[sta] - pred_ats\n",
    "        \n",
    "        pred_offsets = pred_ats[eyes] - pred_ats[js]\n",
    "        offset_residuals = rel_offsets[sta] - pred_offsets\n",
    "        obs = np.concatenate([residuals, offset_residuals])\n",
    "        \n",
    "        \n",
    "        #K = rel_cov(X_events, pairs, atime_cov, pick_var, rel_var)\n",
    "        gp_ll, gpgrad, ygrad = gpllgrad(X_events, obs, relK, reldK)\n",
    "        \n",
    "        ll += gp_ll\n",
    "        \n",
    "        dys = rel_dydX(X_events, picks, pairs, sta)\n",
    "        N = X_events.shape[0]\n",
    "        dLdtheta = np.zeros((3*N),)\n",
    "        for theta_i in range(3*N):\n",
    "            j = theta_i / 3\n",
    "            \n",
    "            # this param can affect the GP directly through y[j],\n",
    "            # but also indirectly through y[N+k] where k is any\n",
    "            # index such that j = eyes[k] or j = js[k]\n",
    "            dLdtheta[theta_i] = ygrad[j] * dys[theta_i]\n",
    "            for k in range(len(eyes)):\n",
    "                if eyes[k] == j:\n",
    "                    dLdtheta[theta_i] += ygrad[N+k] * dys[theta_i]\n",
    "                elif js[k] == j:\n",
    "                    dLdtheta[theta_i] -= ygrad[N+k] * dys[theta_i]\n",
    "        \n",
    "        \n",
    "        #\n",
    "        #dys[::3] *= ygrad\n",
    "        #dys[1::3] *= ygrad\n",
    "        #dys[2::3] *= ygrad\n",
    "        \n",
    "        \n",
    "        \n",
    "        # now we have ygrad[:N] is the derivative of the GP wrt each pick residual, and ygrad[N:] gives derivatives wrt each relative residual\n",
    "        # and dys gives the derivative of the pick/relative residuals wrt each event param.\n",
    "        # so dys should be three times as long\n",
    "\n",
    "        # \n",
    "        \n",
    "        fullgrad = gpgrad - dLdtheta\n",
    "        \n",
    "        grad = fullgrad if grad is None else grad + fullgrad\n",
    "        \n",
    "        \n",
    "        grad = gpgrad if grad is None else grad + gpgrad\n",
    "    return -ll, -grad"
   ]
  },
  {
   "cell_type": "code",
   "execution_count": 322,
   "metadata": {
    "collapsed": false
   },
   "outputs": [],
   "source": []
  },
  {
   "cell_type": "code",
   "execution_count": 329,
   "metadata": {
    "collapsed": false
   },
   "outputs": [
    {
     "name": "stdout",
     "output_type": "stream",
     "text": [
      "returning 1656554.46843\n",
      "returning 1656554.46843\n",
      "EarthModel: requesting travel time for impossible phase.\n",
      "EarthModel: requesting travel time for impossible phase.\n",
      "EarthModel: requesting travel time for impossible phase.\n",
      "EarthModel: requesting travel time for impossible phase.\n",
      "returning 1.38550517899e+12\n",
      "returning 1224362.72865\n",
      "returning 3088174.50532\n",
      "returning 1155145.47031\n",
      "returning 1274040.32539\n",
      "returning 1136567.36852\n",
      "returning 1111070.67052\n",
      "returning 1088087.61004\n",
      "returning 1045760.08713\n",
      "returning 991849.681295\n",
      "returning 907963.224447\n",
      "returning 781431.19675\n",
      "returning 659197.404686\n",
      "returning 779082.838535\n",
      "returning 618060.071962\n",
      "returning 627443.998035\n",
      "returning 599394.877781\n",
      "returning 616980.988107\n",
      "returning 592967.244681\n",
      "returning 581309.785455\n",
      "returning 568908.598735\n",
      "returning 545482.126707\n",
      "returning 599157.504824\n",
      "returning 539937.450124\n",
      "returning 528978.60359\n",
      "returning 490094.703274\n",
      "returning 447421.519904\n",
      "returning 364040.261266\n",
      "returning 300235.649485\n",
      "returning 341115.552418\n",
      "returning 293245.383147\n",
      "returning 280112.207407\n",
      "returning 257859.865576\n",
      "returning 246958.486095\n",
      "returning 241373.243942\n",
      "returning 234640.60293\n",
      "returning 225999.257031\n",
      "returning 223212.449802\n",
      "returning 218716.696883\n",
      "returning 218109.868952\n",
      "returning 216977.040403\n",
      "returning 214958.324321\n",
      "returning 211359.178852\n",
      "returning 205115.632451\n",
      "returning 193873.254931\n",
      "returning 179302.99719\n",
      "returning 161759.035239\n",
      "returning 155907.04759\n",
      "returning 148287.164925\n",
      "returning 140038.510721\n",
      "returning 142138.575986\n",
      "returning 137604.403492\n",
      "returning 135499.863115\n",
      "returning 132739.941114\n",
      "returning 128446.354062\n",
      "returning 123815.298363\n",
      "returning 121845.058134\n",
      "returning 118365.57719\n",
      "returning 113189.080034\n",
      "returning 106700.731198\n",
      "returning 104668.958695\n",
      "returning 102619.419324\n",
      "returning 101079.822828\n",
      "returning 99414.2853097\n",
      "returning 97516.6659728\n",
      "returning 94417.2909719\n",
      "returning 93617.1285899\n",
      "returning 92318.358662\n",
      "returning 90130.1220322\n",
      "returning 87468.4074271\n",
      "returning 86633.479751\n",
      "returning 85036.9436755\n",
      "returning 82365.9714357\n",
      "returning 79445.6526028\n",
      "returning 75258.4329329\n",
      "returning 72321.7080191\n",
      "returning 71986.0389006\n",
      "returning 71547.6169663\n",
      "returning 70771.1904676\n",
      "returning 69569.6965978\n",
      "returning 68858.0471264\n",
      "returning 68336.6432908\n",
      "returning 68092.8821469\n",
      "returning 67823.7195983\n",
      "returning 67530.4648409\n",
      "returning 67335.0094975\n",
      "returning 67295.7463192\n",
      "returning 67243.514532\n",
      "returning 67091.5069231\n",
      "returning 66849.4449761\n",
      "returning 66660.0970002\n",
      "returning 66524.7861025\n",
      "returning 66333.7749173\n",
      "returning 66108.1615694\n",
      "returning 65845.8409887\n",
      "returning 65535.2195473\n",
      "returning 65307.9226726\n",
      "returning 65198.598843\n",
      "returning 65086.0260985\n",
      "returning 65008.8716083\n",
      "returning 64905.9523796\n",
      "returning 64833.6530247\n",
      "returning 64758.8651724\n",
      "returning 64717.3798094\n",
      "returning 64658.8962636\n",
      "returning 64596.4101505\n",
      "returning 64550.6385292\n",
      "returning 64469.0899175\n",
      "returning 64341.9223129\n",
      "returning 64311.5483144\n",
      "returning 64263.1037012\n",
      "returning 64171.424933\n",
      "returning 64054.3707868\n",
      "returning 63927.3022907\n",
      "returning 63781.484482\n",
      "returning 63612.4703759\n",
      "returning 63420.4408773\n",
      "returning 63259.2806249\n",
      "returning 63077.6297478\n",
      "returning 62950.697235\n",
      "returning 62862.8561516\n",
      "returning 62821.490903\n",
      "returning 62801.3270086\n",
      "returning 62791.1749519\n",
      "returning 62785.7903155\n",
      "returning 62781.016337\n",
      "returning 62776.166427\n",
      "returning 62773.190942\n",
      "returning 62769.517243\n",
      "returning 62766.6968746\n",
      "returning 62763.1206663\n",
      "returning 62761.396703\n",
      "returning 62761.018425\n",
      "returning 62760.3787289\n",
      "returning 62759.3395189\n",
      "returning 62759.4974638\n",
      "returning 62759.3090902\n",
      "returning 62759.2863511\n",
      "returning 62759.1950532\n",
      "returning 62759.1492096\n",
      "returning 62759.1314589\n",
      "returning 62759.1154032\n",
      "returning 62759.1114561\n",
      "returning 62759.1126743\n",
      "returning 62759.1169389\n",
      "returning 62759.114762\n",
      "returning 62759.1191049\n",
      "returning 62759.1126743\n",
      "returning 62759.1126744\n",
      "returning 62759.1126744\n",
      "returning 62759.1126743\n",
      "returning 62759.1126742\n",
      "returning 62759.1126745\n",
      "returning 62759.1126742\n",
      "returning 62759.1126742\n",
      "returning 62759.1126745\n",
      "returning 62759.1126742\n",
      "returning 62759.1126742\n",
      "returning 62759.1126742\n",
      "returning 62759.1126742\n",
      "returning 62759.1126742\n",
      "returning 62759.1126746\n",
      "returning 62759.1126742\n",
      "returning 62759.1126742\n",
      "returning 62759.1126745\n",
      "returning 62759.1126742\n",
      "returning 62759.1126742\n",
      "returning 62759.1126742\n",
      "returning 62759.1126742\n",
      "returning 62759.1126742\n",
      "returning 62759.1126742\n",
      "returning 62759.1126742\n",
      "returning 62759.1126742\n",
      "returning 62759.1126743\n",
      "returning 62759.1169389\n",
      "returning 62759.1161806\n",
      "returning 62759.118516\n",
      "returning 62759.114441\n",
      "returning 62759.1176086\n",
      "returning 62759.1178933\n",
      "returning 62759.112234\n",
      "returning 62759.1190983\n",
      "returning 62759.1156465\n",
      "returning 62759.1118031\n",
      "returning 62759.1152493\n",
      "returning 62759.1118426\n",
      "Warning: Desired error not necessarily achieved due to precision loss.\n",
      "         Current function value: 62759.112674\n",
      "         Iterations: 129\n",
      "         Function evaluations: 191\n",
      "         Gradient evaluations: 181\n",
      "round\n",
      "returning 62759.1126743\n",
      "[   7438.52354903    3947.28565571  -55481.28671133    7513.66997499\n",
      "    3930.23028255   24794.10471959    7517.84900085    3928.65800354\n",
      "   -3929.20040394    7519.98438007    3924.31013623  -21108.69114487\n",
      "    7519.14935295    3939.70154799   31827.72895628    7517.43528868\n",
      "    3938.87921306  -32815.65125229    7515.04463841    3917.47813939\n",
      "  -60526.36588037    7513.85568349    3913.43988723 -177897.47272345\n",
      "    7509.99569256    3912.99451142  -14958.07821107    7502.68817791\n",
      "    3911.13664835  129346.02290566    7494.61142774    3910.58359367\n",
      "  -28863.73844109    7490.7602873     3893.48636524  -42201.51875118\n",
      "    7488.9257227     3894.20612415    4569.94111423    7490.41201257\n",
      "    3891.97764038    6927.26577143    7484.61859832    3917.82855735\n",
      "   40821.09022562    7480.75386811    3928.80422364  -89602.48865606\n",
      "    7481.3138155     3940.8520692    98474.20445874    7480.58276243\n",
      "    3955.10836543  166688.93411296    7484.94525672    3955.47749768\n",
      "    1835.21746396    7465.34209008    3984.96035232   22074.97581196]\n",
      "returning 63204.1331633\n",
      "returning 63204.1331633\n",
      "EarthModel: requesting travel time for impossible phase.\n",
      "returning 35324238598.4\n",
      "returning 62795.0970871\n",
      "returning 68028.122332\n",
      "returning 62766.9443121\n",
      "returning 62872.7873187\n",
      "returning 62761.9478711\n",
      "returning 62765.2098638\n",
      "returning 62760.0185287\n",
      "returning 62777.171413\n",
      "returning 62759.8321774\n",
      "returning 62759.5410784\n",
      "returning 62759.4098004\n",
      "returning 62759.2917412\n",
      "returning 62760.4419148\n",
      "returning 62759.1952002\n",
      "returning 62759.1627208\n",
      "returning 62759.1492653\n",
      "returning 62759.155191\n",
      "returning 62759.1461251\n",
      "returning 62759.1404261\n",
      "returning 62759.1497238\n",
      "returning 62759.1431279\n",
      "returning 62759.1436519\n",
      "returning 62759.1409871\n",
      "returning 62759.1497238\n",
      "returning 62759.1431635\n",
      "returning 62759.1521193\n",
      "returning 62759.1450356\n",
      "returning 62759.1397051\n",
      "returning 62759.1399204\n",
      "returning 62759.1451944\n",
      "returning 62759.1431321\n",
      "returning 62759.1402538\n",
      "returning 62759.1396876\n",
      "returning 62759.139687\n",
      "returning 62759.1402534\n",
      "Warning: Desired error not necessarily achieved due to precision loss.\n",
      "         Current function value: 62759.140426\n",
      "         Iterations: 12\n",
      "         Function evaluations: 38\n",
      "         Gradient evaluations: 29\n"
     ]
    }
   ],
   "source": [
    "mult = np.array([1.0 if (n % 3 == 2) else 100.0 for n in range(len(flatten(loc_events)))])\n",
    "\n",
    "shift = np.array([np.mean(events[:,3]) if (n % 3 == 2) else 0.0 for n in range(len(flatten(loc_events)))])\n",
    "\n",
    "#print shift\n",
    "#mult = np.array([1.0 if (n % 3 == 2) else 1.0 for n in range(len(flatten(loc_events)))])\n",
    "\n",
    "\n",
    "def ff(flat_ev):\n",
    "    \n",
    "    X_events = unflatten(flat_ev / mult + shift)\n",
    "    try:\n",
    "        nll,ngrad = rel_energy(X_events, sample_picks, pairs, rel_atimes)\n",
    "        print 'returning', nll\n",
    "        return nll, ngrad / mult\n",
    "    except Exception as e:\n",
    "        print e\n",
    "        return 999999999, np.zeros(flat_ev.shape)\n",
    "\n",
    "x0 = flatten(loc_events) * mult - shift\n",
    "#x0 = flatten(events) * mult - shift\n",
    "\n",
    "r = scipy.optimize.minimize(ff, x0, options={'disp': True}, jac=True, method=\"BFGS\")\n",
    "#r = scipy.optimize.minimize(ff, r.x, options={'disp': True}, jac=True, method=\"CG\")\n",
    "\n",
    "#x = x0\n",
    "for i in range(1):\n",
    "    print \"round\"\n",
    "    nll, ngrad = ff(r.x)\n",
    "    x = r.x - ngrad * 0.001\n",
    "    print x\n",
    "    r = scipy.optimize.minimize(ff, x, options={'disp': True}, jac=True, method=\"BFGS\")\n",
    "\n",
    "#ll1, g1 = ff(x0)\n",
    "#x0[-4] += 1e-4\n",
    "#ll2, g2 = ff(x0)\n",
    "#print (ll2-ll1)/1e-4\n",
    "#print g1\n",
    "\n",
    "#r = scipy.optimize.minimize(ff, r.x, options={'disp': True}, jac=True, method=\"TNC\")\n",
    "\n"
   ]
  },
  {
   "cell_type": "code",
   "execution_count": 330,
   "metadata": {
    "collapsed": false
   },
   "outputs": [],
   "source": [
    "rel_events = unflatten(r.x / mult + shift) \n",
    "#print r"
   ]
  },
  {
   "cell_type": "code",
   "execution_count": 331,
   "metadata": {
    "collapsed": false
   },
   "outputs": [
    {
     "name": "stdout",
     "output_type": "stream",
     "text": [
      "[-1.51574564 -2.36360192 -3.8613553  -1.96161866 -2.32473111 -1.36360788\n",
      " -2.46918917  0.07535553 -1.24705863 -0.27229238  1.63590097  1.13796878\n",
      "  1.1176405   1.41806865  0.18772769 -0.40283608 -1.05573463  3.77099705\n",
      " -1.78286457 -0.59466028] 67.9337084012\n",
      "[ -3.18730426e+00  -2.63711691e+00  -4.04297709e+00  -2.45175028e+00\n",
      "   5.50187349e-01   7.64717817e-01   7.35553980e-01   2.14530468e-01\n",
      "   2.44360209e-01   2.98297405e-02  -2.61639595e-01  -2.91469336e-01\n",
      "  -7.65111923e-01  -4.73642588e-01  -8.59070301e-01  -3.85427713e-01\n",
      "  -6.34058475e-01  -2.48630762e-01  -2.61899948e-01  -1.32691860e-02\n",
      "  -1.09553337e-02   2.31385231e-03  -7.55758286e-02  -7.78896809e-02\n",
      "  -2.58742332e-01  -1.80852652e-01  -3.29021931e-01  -1.48169279e-01\n",
      "  -1.10815525e-01   3.73537540e-02   4.34002876e-02   6.04653358e-03\n",
      "  -8.02612305e-03  -1.40726566e-02   8.93712044e-02   1.03443861e-01\n",
      "   1.37489319e-01   3.40454578e-02   1.62527227e+00   1.59122682e+00] 48.8574056853\n"
     ]
    }
   ],
   "source": [
    "def print_obs(ev, sta):\n",
    "    pred_tts = [predict_tt_coord(x, sta, 'Pn') for x in ev]\n",
    "    pred_ats = pred_tts + ev[:,3]\n",
    "    residuals = sample_picks[sta] - pred_ats\n",
    "    \n",
    "    pred_offsets = pred_ats[eyes] - pred_ats[js]\n",
    "    offset_residuals = rel_atimes[sta] - pred_offsets\n",
    "    obs = np.concatenate([residuals, offset_residuals])\n",
    "    \n",
    "    print residuals, np.sum(residuals**2)\n",
    "    print offset_residuals, np.sum(offset_residuals**2)\n",
    "    \n",
    "print_obs(rel_events, \"MKAR\")"
   ]
  },
  {
   "cell_type": "code",
   "execution_count": 332,
   "metadata": {
    "collapsed": false
   },
   "outputs": [
    {
     "data": {
      "text/plain": [
       "<matplotlib.collections.PathCollection at 0x11a60290>"
      ]
     },
     "execution_count": 332,
     "metadata": {},
     "output_type": "execute_result"
    },
    {
     "data": {
      "image/png": "[encoded data removed]",
      "text/plain": [
       "<matplotlib.figure.Figure at 0x11a60310>"
      ]
     },
     "metadata": {},
     "output_type": "display_data"
    }
   ],
   "source": [
    "scatter(events[:,0], events[:,1], c='g', s=45)\n",
    "\n",
    "scatter(loc_events[:,0], loc_events[:,1], c='r', s=45)\n"
   ]
  },
  {
   "cell_type": "code",
   "execution_count": 333,
   "metadata": {
    "collapsed": false
   },
   "outputs": [],
   "source": [
    "from sigvisa.analyze import find_matching, f1_and_error\n",
    "indices = find_matching(events, rel_events)"
   ]
  },
  {
   "cell_type": "code",
   "execution_count": 334,
   "metadata": {
    "collapsed": false
   },
   "outputs": [
    {
     "data": {
      "text/plain": [
       "<matplotlib.collections.PathCollection at 0x11a4fe10>"
      ]
     },
     "execution_count": 334,
     "metadata": {},
     "output_type": "execute_result"
    },
    {
     "data": {
      "image/png": "[encoded data removed]",
      "text/plain": [
       "<matplotlib.figure.Figure at 0x11f943d0>"
      ]
     },
     "metadata": {},
     "output_type": "display_data"
    }
   ],
   "source": [
    "scatter(rel_events[:,0], rel_events[:,1], c='b', s=45)\n",
    "scatter(events[:,0], events[:,1], c='g', s=45)"
   ]
  },
  {
   "cell_type": "code",
   "execution_count": 276,
   "metadata": {
    "collapsed": false
   },
   "outputs": [
    {
     "name": "stdout",
     "output_type": "stream",
     "text": [
      "100.0\n",
      "100.0\n",
      "100.0\n",
      "(16.996343663774461, 10.396762688334078)\n"
     ]
    }
   ],
   "source": [
    "f, p, r, err = f1_and_error(events, loc_events)\n",
    "print f\n",
    "print p\n",
    "print r\n",
    "print err"
   ]
  },
  {
   "cell_type": "code",
   "execution_count": null,
   "metadata": {
    "collapsed": false
   },
   "outputs": [],
   "source": []
  }
 ],
 "metadata": {
  "kernelspec": {
   "display_name": "Python 2",
   "language": "python",
   "name": "python2"
  },
  "language_info": {
   "codemirror_mode": {
    "name": "ipython",
    "version": 2
   },
   "file_extension": ".py",
   "mimetype": "text/x-python",
   "name": "python",
   "nbconvert_exporter": "python",
   "pygments_lexer": "ipython2",
   "version": "2.7.6"
  }
 },
 "nbformat": 4,
 "nbformat_minor": 0
}
