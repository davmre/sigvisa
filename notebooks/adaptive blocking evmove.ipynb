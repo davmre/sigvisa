{
 "metadata": {
  "name": "",
  "signature": "sha256:232b7920436023b9ac2b20ab0e7d98f41f44d7cdf476f52cb0ce157fb65b04fc"
 },
 "nbformat": 3,
 "nbformat_minor": 0,
 "worksheets": [
  {
   "cells": [
    {
     "cell_type": "code",
     "collapsed": false,
     "input": [
      "import numpy as np\n",
      "import sys\n",
      "import os\n",
      "import traceback\n",
      "import pickle\n",
      "import copy\n",
      "\n",
      "from sigvisa import Sigvisa\n",
      "\n",
      "from sigvisa.graph.sigvisa_graph import SigvisaGraph\n",
      "\n",
      "\n",
      "\n",
      "from sigvisa.models.ttime import tt_predict\n",
      "from sigvisa.infer.event_mcmc import *\n",
      "\n",
      "\n",
      "\n",
      "from sigvisa.infer.run_mcmc import run_open_world_MH\n",
      "from sigvisa.infer.mcmc_logger import MCMCLogger\n",
      "\n",
      "from sigvisa.infer.template_mcmc import *\n",
      "from sigvisa.plotting.plot import plot_with_fit, plot_with_fit_shapes, plot_pred_atimes\n",
      "from sigvisa.signals.common import Waveform\n",
      "from sigvisa.utils.fileutils import clear_directory, mkdir_p\n",
      "\n",
      "from sigvisa.experiments.one_station_templates_test import sample_template\n",
      "\n",
      "import cPickle as pickle\n",
      "\n",
      "def do_plot(wn, ax=None):\n",
      "    if ax is None:\n",
      "      f = plt.figure(figsize=(15,5))\n",
      "      ax=f.add_subplot(111)\n",
      "    shape_colors = plot_with_fit_shapes(fname=None, wn=wn, axes=ax, plot_wave=True)\n",
      "    atimes = dict([(\"%d_%s\" % (eid, phase), wn.get_template_params_for_arrival(eid=eid, phase=phase)[0]['arrival_time']) for (eid, phase) in wn.arrivals()])\n",
      "    colors = dict([(\"%d_%s\" % (eid, phase), shape_colors[eid]) for (eid, phase) in wn.arrivals()])\n",
      "    plot_pred_atimes(dict(atimes), wn.get_wave(), axes=ax, color=colors, alpha=1.0, bottom_rel=-0.1, top_rel=0.0)\n",
      "    return ax\n",
      "\n"
     ],
     "language": "python",
     "metadata": {},
     "outputs": [],
     "prompt_number": 1
    },
    {
     "cell_type": "code",
     "collapsed": false,
     "input": [
      "with open(\"/home/dmoore/python/sigvisa/logs/mcmc/01346/step_004999/pickle.sg\", 'rb') as f:\n",
      "    sg = pickle.load(f)\n",
      "    \n",
      "with open(\"/home/dmoore/python/sigvisa/logs/mcmc/01346/events.pkl\", 'rb') as f:\n",
      "    true_evs = pickle.load(f)\n",
      "    \n",
      "#wn = sg.all_nodes['wave_STKA_BHZ_freq_2.0_3.0_1238889600.0']\n",
      "sg.current_log_p_breakdown()"
     ],
     "language": "python",
     "metadata": {},
     "outputs": [
      {
       "output_type": "stream",
       "stream": "stdout",
       "text": [
        "n_uatemplate: -50.9\n",
        "n_event: -25.1\n",
        "ev priors: ev -61.0\n",
        "tt_residual: ev -948.4\n",
        "ev global cost (n + priors + tt): -1034.5\n",
        "coda_decay: ev -110.0 ua -1.9 total -111.9\n",
        "peak_decay: ev -106.3 ua -2.1 total -108.4\n",
        "peak_offset: ev -100.9 ua -1.4 total -102.3\n",
        "coda_height: ev -93.9 ua -16.9 total -110.8\n",
        "wiggles: ev 0.0 ua 0.0 total 0.0\n",
        "total param: ev -411.1 ua -22.2 total -433.3\n",
        "non signals: ev -1445.6 ua -73.2 total -1518.7\n",
        "signals: 128733.9\n",
        "overall: 127215.2\n",
        "official: 127215.2\n"
       ]
      }
     ],
     "prompt_number": 2
    },
    {
     "cell_type": "markdown",
     "metadata": {},
     "source": [
      "evnode = sg.evnodes[2]['loc']\n",
      "try:\n",
      "    np.random.seed(3)\n",
      "    accepted = ev_move_full(sg, evnode, 4.0, [\"lon\", \"lat\", \"depth\"], adaptive_blocking=True, debug_probs=True)\n",
      "    print \"accepted!\" if accepted else \"not accepted\"\n",
      "except:\n",
      "    import pdb, sys, traceback\n",
      "    type, value, tb = sys.exc_info()\n",
      "    traceback.print_exc()\n",
      "    pdb.post_mortem(tb)\n"
     ]
    },
    {
     "cell_type": "code",
     "collapsed": false,
     "input": [
      "\n",
      "def get_atime(eid, sta, phase):\n",
      "    n = get_parent_value(eid=eid, sta=sta, phase=phase, param_name='arrival_time', chan=None, band=None,\n",
      "                         parent_values=sg.nodes_by_key, return_key=False)\n",
      "    return n.get_value()\n",
      "\n",
      "def dump_ttrs(sg, eid):\n",
      "    stas = sorted(sg.station_waves.keys())\n",
      "    targets = []\n",
      "    for sta in sorted(stas):\n",
      "        phases = sg.ev_arriving_phases(eid, sta)\n",
      "        for phase in phases:\n",
      "            targets.append((sta, phase))\n",
      "\n",
      "    atimes = np.array([get_atime(eid, sta, phase) for (sta, phase) in targets])\n",
      "\n",
      "    init_ev = sg.get_event(eid)\n",
      "    #init_ev.depth = 650\n",
      "    base_time = init_ev.time\n",
      "\n",
      "    scaling = np.array((5.0, 5.0, 0.2, 1.0))\n",
      "    p0 = np.array((init_ev.lon, init_ev.lat, init_ev.depth, init_ev.time))\n",
      "\n",
      "    pred_tts = np.array([tt_predict(init_ev, sta, phase) for (sta, phase) in targets])\n",
      "\n",
      "    residuals = atimes-init_ev.time - pred_tts\n",
      "    print zip(stas, residuals)\n",
      "    \n",
      "    idx=5\n",
      "    print \"ev\", init_ev\n",
      "    print \"FITZ ev time %f ttime %f pred_atime %f atime %f residual %f\" \\\n",
      "        % (init_ev.time, pred_tts[idx], pred_tts[idx]+ init_ev.time, atimes[idx], atimes[idx]-pred_tts[idx]- init_ev.time)\n",
      "    \n",
      "    return np.abs(residuals)\n",
      "    \n",
      "r11 = dump_ttrs(sg, 1)\n",
      "print \n",
      "print\n",
      "r13 = dump_ttrs(sg, 3)"
     ],
     "language": "python",
     "metadata": {},
     "outputs": [
      {
       "output_type": "stream",
       "stream": "stdout",
       "text": [
        "[('AAK', -18.356680589883354), ('AS12', 3.5539477663330103), ('BVA0', -2.8778207920281602), ('CM16', -1.0441002749508925), ('FIA0', 1.6960003479806574), ('FITZ', 75.481737139002803), ('IL31', 38.570995850688746), ('JHJ', -2.8014900338746997), ('JKA', 79.006225518908707), ('JNU', 60.831451616927495), ('KBZ', -10.353049980877699), ('MK31', -0.97071727834668309), ('NB200', -2.4347371903473913), ('NWAO', -21.942256855837059), ('PEA0', -4.5280363218290063), ('QSPA', -128.77349796457179), ('SNAA', -0.18122039926743128), ('STKA', -106.10126349305312), ('USA0', 1.9191114885391585), ('VNDA', -0.20863595661035106), ('WR1', 35.847388892317952), ('YKR8', -4.0599574222347883)]\n",
        "ev evid None, loc 145.99 E 12.86 N, depth 328.0km, time 1238889794.6, mb 4.1, natural source\n",
        "FITZ ev time 1238889794.552220 ttime 397.897128 pred_atime 1238890192.449348 atime 1238890267.931086 residual 75.481737\n",
        "\n",
        "\n",
        "[('AAK', -0.59787295220655778), ('AS12', 1.8022102003003511), ('BVA0', -0.96150487080001312), ('CM16', 5.4441974342958019), ('FIA0', -1.8797228952412297), ('FITZ', -82.969371770025759), ('IL31', 171.02858368654154), ('JHJ', -4.1617084450253969), ('JKA', 36.518920035166389), ('JNU', 73.574952346334044), ('KBZ', 0.3278735963544932), ('MK31', -0.39905349608454799), ('NB200', -4.4889465939834281), ('NWAO', -1.9341645791755582), ('PEA0', 1.2149660539855631), ('QSPA', -1.9951852718072587), ('SNAA', -5.1645016595874722), ('STKA', 127.00485556902512), ('USA0', 0.38280487621045722), ('VNDA', 0.90527363747708023), ('WR1', -34.248470815046858), ('YKR8', -40.258581507104736)]\n",
        "ev evid None, loc 158.32 E 23.21 S, depth 63.4km, time 1238889710.2, mb 4.8, natural source\n",
        "FITZ ev time 1238889710.239644 ttime 372.076042 pred_atime 1238890082.315686 atime 1238889999.346314 residual -82.969372\n"
       ]
      }
     ],
     "prompt_number": 3
    },
    {
     "cell_type": "code",
     "collapsed": false,
     "input": [
      "from sigvisa.utils.geog import dist_km, wrap_lonlat\n",
      "\n",
      "for ev in true_evs:\n",
      "    print ev\n",
      "tev = true_evs[0]\n",
      "\n",
      "def ttrs(sg, eid, ev):\n",
      "    stas = sorted(sg.station_waves.keys())\n",
      "    targets = []\n",
      "    for sta in sorted(stas):\n",
      "        phases = sg.ev_arriving_phases(eid, sta)\n",
      "        for phase in phases:\n",
      "            targets.append((sta, phase))\n",
      "\n",
      "    atimes = np.array([get_atime(eid, sta, phase) for (sta, phase) in targets])\n",
      "    pred_tts = np.array([tt_predict(ev, sta, phase) for (sta, phase) in targets])\n",
      "    residuals = atimes-ev.time - pred_tts\n",
      "    return np.abs(residuals)\n",
      "\n",
      "def proposal_dist(n_stations, n_samples=50, eid=1):\n",
      "\n",
      "    zs = []\n",
      "    lls = []\n",
      "    Cs = []\n",
      "    ev = sg.get_event(1)\n",
      "    current_tts = np.sum(ttrs(sg, eid, ev))\n",
      "    print \"current sum tts\", current_tts\n",
      "    print \"true sum tts\", np.sum(ttrs(sg, eid, tev))\n",
      "    for i in range(n_samples):\n",
      "        stas = np.random.permutation(sg.station_waves.keys())[:n_stations]\n",
      "        z, C = ev_lstsqr_dist(sg, eid, stas=stas, residual_var=16.0)\n",
      "        zs.append(z)\n",
      "        lon, lat = wrap_lonlat(z[0], z[1])\n",
      "        lls.append((lon, lat))\n",
      "        Cs.append(C) \n",
      "        pev = Event(lon=z[0], lat=z[1], depth=z[2], time=z[3])\n",
      "        tts = ttrs(sg, eid, pev)\n",
      "        \n",
      "        print \"dist_true %.1fkm dist_current %.1f ttrs %.1f stas %s\" % \\\n",
      "            (dist_km((z[0], z[1]), (true_evs[0].lon, true_evs[0].lat)), \\\n",
      "             dist_km((z[0], z[1]), (ev.lon, ev.lat)), np.sum(tts), stas)\n",
      "        if np.sum(tts) < current_tts:\n",
      "            print \"better than current tts!\"\n",
      "\n",
      "    zs = np.array(zs)\n",
      "    lls = np.array(lls)\n",
      "    figure()\n",
      "    scatter(lls[:,0], lls[:, 1])\n",
      "    scatter(tev.lon, tev.lat, c='r')\n",
      "    scatter(ev.lon, ev.lat, c='y')\n",
      "    gca().set_xlim([130, 170])\n",
      "    gca().set_ylim([-20, 20])\n",
      "    \n"
     ],
     "language": "python",
     "metadata": {},
     "outputs": [
      {
       "output_type": "stream",
       "stream": "stdout",
       "text": [
        "evid None, loc 140.44 E 3.30 S, depth 481.9km, time 1238889754.2, mb 4.6, natural source\n",
        "evid None, loc 153.69 W 58.38 N, depth 343.7km, time 1238890578.5, mb 4.7, natural source\n",
        "evid None, loc 174.59 W 22.14 S, depth 255.5km, time 1238889719.4, mb 4.8, natural source\n"
       ]
      }
     ],
     "prompt_number": 4
    },
    {
     "cell_type": "code",
     "collapsed": false,
     "input": [
      "proposal_dist(n_stations=3, eid=1)\n",
      "proposal_dist(n_stations=15, eid=1)"
     ],
     "language": "python",
     "metadata": {},
     "outputs": [
      {
       "output_type": "stream",
       "stream": "stdout",
       "text": [
        "current sum tts 601.540323174\n",
        "true sum tts 1756.96488694\n",
        "dist_true 2328.8km dist_current 2779.5 ttrs 2729.1 stas ['MK31' 'PEA0' 'JNU']"
       ]
      },
      {
       "output_type": "stream",
       "stream": "stdout",
       "text": [
        "\n",
        "dist_true 6662.9km dist_current 6034.3 ttrs 2412.2 stas ['AAK' 'STKA' 'FITZ']"
       ]
      },
      {
       "output_type": "stream",
       "stream": "stdout",
       "text": [
        "\n",
        "dist_true 2370.6km dist_current 2898.5 ttrs 2825.7 stas ['PEA0' 'CM16' 'JNU']"
       ]
      },
      {
       "output_type": "stream",
       "stream": "stdout",
       "text": [
        "\n",
        "dist_true 1070.7km dist_current 857.1 ttrs 1328.8 stas ['VNDA' 'JNU' 'JKA']"
       ]
      },
      {
       "output_type": "stream",
       "stream": "stdout",
       "text": [
        "\n",
        "dist_true 8196.6km dist_current 7096.6 ttrs 3931.3 stas ['KBZ' 'JHJ' 'STKA']"
       ]
      },
      {
       "output_type": "stream",
       "stream": "stdout",
       "text": [
        "\n",
        "dist_true 4169.0km dist_current 2724.5 ttrs 2960.2 stas ['NB200' 'CM16' 'PEA0']"
       ]
      },
      {
       "output_type": "stream",
       "stream": "stdout",
       "text": [
        "\n",
        "dist_true 7870.3km dist_current 6016.9 ttrs 6884.1 stas ['NB200' 'PEA0' 'FIA0']"
       ]
      },
      {
       "output_type": "stream",
       "stream": "stdout",
       "text": [
        "\n",
        "dist_true 12608.1km dist_current 10983.4 ttrs 6201.9 stas ['PEA0' 'AAK' 'MK31']"
       ]
      },
      {
       "output_type": "stream",
       "stream": "stdout",
       "text": [
        "\n",
        "dist_true 423.9km dist_current 2187.2 ttrs 2026.0 stas ['QSPA' 'JNU' 'AAK']"
       ]
      },
      {
       "output_type": "stream",
       "stream": "stdout",
       "text": [
        "\n",
        "dist_true 2137.9km dist_current 2952.7 ttrs 1967.4 stas ['AAK' 'VNDA' 'MK31']"
       ]
      },
      {
       "output_type": "stream",
       "stream": "stdout",
       "text": [
        "\n",
        "dist_true 1863.1km dist_current 3277.9 ttrs 3503.2 stas ['JKA' 'AAK' 'MK31']"
       ]
      },
      {
       "output_type": "stream",
       "stream": "stdout",
       "text": [
        "\n",
        "dist_true 1580.7km dist_current 595.1 ttrs 714.2 stas ['SNAA' 'USA0' 'FIA0']"
       ]
      },
      {
       "output_type": "stream",
       "stream": "stdout",
       "text": [
        "\n",
        "dist_true 3300.8km dist_current 1880.3 ttrs 1136.3 stas ['FIA0' 'VNDA' 'JNU']"
       ]
      },
      {
       "output_type": "stream",
       "stream": "stdout",
       "text": [
        "\n",
        "dist_true 1928.5km dist_current 83.9 ttrs 636.7 stas ['MK31' 'YKR8' 'CM16']"
       ]
      },
      {
       "output_type": "stream",
       "stream": "stdout",
       "text": [
        "\n",
        "dist_true 2059.6km dist_current 2286.5 ttrs 1524.0 stas ['AS12' 'AAK' 'JNU']"
       ]
      },
      {
       "output_type": "stream",
       "stream": "stdout",
       "text": [
        "\n",
        "dist_true 5005.8km dist_current 5449.7 ttrs 4054.6 stas ['STKA' 'IL31' 'FITZ']"
       ]
      },
      {
       "output_type": "stream",
       "stream": "stdout",
       "text": [
        "\n",
        "dist_true 4342.3km dist_current 2444.8 ttrs 3193.6 stas ['JNU' 'JHJ' 'YKR8']"
       ]
      },
      {
       "output_type": "stream",
       "stream": "stdout",
       "text": [
        "\n",
        "dist_true 2392.4km dist_current 992.4 ttrs 1292.4 stas ['CM16' 'USA0' 'FITZ']"
       ]
      },
      {
       "output_type": "stream",
       "stream": "stdout",
       "text": [
        "\n",
        "dist_true 2802.5km dist_current 2093.1 ttrs 1171.7 stas ['KBZ' 'QSPA' 'USA0']"
       ]
      },
      {
       "output_type": "stream",
       "stream": "stdout",
       "text": [
        "\n",
        "dist_true 15653.7km dist_current 13884.4 ttrs 9124.1 stas ['JNU' 'FITZ' 'AS12']"
       ]
      },
      {
       "output_type": "stream",
       "stream": "stdout",
       "text": [
        "\n",
        "dist_true 7029.1km dist_current 7364.1 ttrs 4038.5 stas ['JNU' 'WR1' 'JKA']"
       ]
      },
      {
       "output_type": "stream",
       "stream": "stdout",
       "text": [
        "\n",
        "dist_true 5094.0km dist_current 6571.7 ttrs 4019.8 stas ['AS12' 'CM16' 'QSPA']"
       ]
      },
      {
       "output_type": "stream",
       "stream": "stdout",
       "text": [
        "\n",
        "dist_true 2656.8km dist_current 1127.7 ttrs 845.4 stas ['SNAA' 'WR1' 'NB200']"
       ]
      },
      {
       "output_type": "stream",
       "stream": "stdout",
       "text": [
        "\n",
        "dist_true 18079.5km dist_current 18369.3 ttrs 8816.0 stas ['QSPA' 'YKR8' 'VNDA']"
       ]
      },
      {
       "output_type": "stream",
       "stream": "stdout",
       "text": [
        "\n",
        "dist_true 1903.2km dist_current 7.8 ttrs 638.9 stas ['FIA0' 'PEA0' 'MK31']"
       ]
      },
      {
       "output_type": "stream",
       "stream": "stdout",
       "text": [
        "\n",
        "dist_true 3369.1km dist_current 3635.5 ttrs 3036.8 stas ['QSPA' 'NWAO' 'IL31']"
       ]
      },
      {
       "output_type": "stream",
       "stream": "stdout",
       "text": [
        "\n",
        "dist_true 11601.8km dist_current 12406.7 ttrs 6116.3 stas ['JNU' 'IL31' 'STKA']"
       ]
      },
      {
       "output_type": "stream",
       "stream": "stdout",
       "text": [
        "\n",
        "dist_true 6171.4km dist_current 5975.3 ttrs 3499.7 stas ['JKA' 'YKR8' 'FITZ']"
       ]
      },
      {
       "output_type": "stream",
       "stream": "stdout",
       "text": [
        "\n",
        "dist_true 6772.7km dist_current 6771.6 ttrs 3656.3 stas ['VNDA' 'IL31' 'FITZ']"
       ]
      },
      {
       "output_type": "stream",
       "stream": "stdout",
       "text": [
        "\n",
        "dist_true 12902.7km dist_current 11425.9 ttrs 8843.2 stas ['VNDA' 'JHJ' 'QSPA']"
       ]
      },
      {
       "output_type": "stream",
       "stream": "stdout",
       "text": [
        "\n",
        "dist_true 2757.9km dist_current 2690.3 ttrs 1559.1 stas ['WR1' 'JKA' 'NB200']"
       ]
      },
      {
       "output_type": "stream",
       "stream": "stdout",
       "text": [
        "\n",
        "dist_true 2401.8km dist_current 1912.0 ttrs 1626.8 stas ['AAK' 'USA0' 'MK31']"
       ]
      },
      {
       "output_type": "stream",
       "stream": "stdout",
       "text": [
        "\n",
        "dist_true 1643.3km dist_current 1082.1 ttrs 866.8 stas ['SNAA' 'NB200' 'IL31']"
       ]
      },
      {
       "output_type": "stream",
       "stream": "stdout",
       "text": [
        "\n",
        "dist_true 10188.3km dist_current 9906.6 ttrs 3579.4 stas ['AS12' 'FIA0' 'WR1']"
       ]
      },
      {
       "output_type": "stream",
       "stream": "stdout",
       "text": [
        "\n",
        "dist_true 9324.6km dist_current 9257.4 ttrs 3727.8 stas ['STKA' 'PEA0' 'AS12']"
       ]
      },
      {
       "output_type": "stream",
       "stream": "stdout",
       "text": [
        "\n",
        "dist_true 1978.6km dist_current 298.5 ttrs 655.4 stas ['SNAA' 'USA0' 'JHJ']"
       ]
      },
      {
       "output_type": "stream",
       "stream": "stdout",
       "text": [
        "\n",
        "dist_true 1882.2km dist_current 1052.9 ttrs 2340.6 stas ['JKA' 'VNDA' 'IL31']"
       ]
      },
      {
       "output_type": "stream",
       "stream": "stdout",
       "text": [
        "\n",
        "dist_true 2354.1km dist_current 989.5 ttrs 989.3 stas ['YKR8' 'JNU' 'WR1']"
       ]
      },
      {
       "output_type": "stream",
       "stream": "stdout",
       "text": [
        "\n",
        "dist_true 40.2km dist_current 1914.2 ttrs 1842.5 stas ['MK31' 'IL31' 'QSPA']"
       ]
      },
      {
       "output_type": "stream",
       "stream": "stdout",
       "text": [
        "\n",
        "dist_true 1310.3km dist_current 1511.3 ttrs 1802.7 stas ['PEA0' 'STKA' 'IL31']"
       ]
      },
      {
       "output_type": "stream",
       "stream": "stdout",
       "text": [
        "\n",
        "dist_true 8207.8km dist_current 8036.0 ttrs 7614.1 stas ['VNDA' 'STKA' 'QSPA']"
       ]
      },
      {
       "output_type": "stream",
       "stream": "stdout",
       "text": [
        "\n",
        "dist_true 1752.9km dist_current 336.5 ttrs 665.4 stas ['USA0' 'CM16' 'NB200']"
       ]
      },
      {
       "output_type": "stream",
       "stream": "stdout",
       "text": [
        "\n",
        "dist_true 5626.7km dist_current 5967.1 ttrs 3189.0 stas ['WR1' 'JNU' 'IL31']"
       ]
      },
      {
       "output_type": "stream",
       "stream": "stdout",
       "text": [
        "\n",
        "dist_true 2639.2km dist_current 3238.9 ttrs 2985.6 stas ['CM16' 'AAK' 'PEA0']"
       ]
      },
      {
       "output_type": "stream",
       "stream": "stdout",
       "text": [
        "\n",
        "dist_true 18541.1km dist_current 18692.7 ttrs 9634.2 stas ['KBZ' 'YKR8' 'QSPA']"
       ]
      },
      {
       "output_type": "stream",
       "stream": "stdout",
       "text": [
        "\n",
        "dist_true 4768.6km dist_current 3860.6 ttrs 1785.6 stas ['JNU' 'USA0' 'NWAO']"
       ]
      },
      {
       "output_type": "stream",
       "stream": "stdout",
       "text": [
        "\n",
        "dist_true 2641.3km dist_current 1859.2 ttrs 1565.0 stas ['BVA0' 'FITZ' 'AAK']"
       ]
      },
      {
       "output_type": "stream",
       "stream": "stdout",
       "text": [
        "\n",
        "dist_true 4460.3km dist_current 3350.7 ttrs 2054.8 stas ['PEA0' 'JKA' 'VNDA']"
       ]
      },
      {
       "output_type": "stream",
       "stream": "stdout",
       "text": [
        "\n",
        "dist_true 13047.9km dist_current 14451.7 ttrs 5523.7 stas ['WR1' 'KBZ' 'YKR8']"
       ]
      },
      {
       "output_type": "stream",
       "stream": "stdout",
       "text": [
        "\n",
        "dist_true 1951.0km dist_current 89.3 ttrs 652.8 stas ['SNAA' 'BVA0' 'NB200']"
       ]
      },
      {
       "output_type": "stream",
       "stream": "stdout",
       "text": [
        "\n",
        "current sum tts 601.540323174\n",
        "true sum tts 1756.96488694\n",
        "dist_true 2066.1km dist_current 587.7 ttrs 702.2 stas ['JNU' 'SNAA' 'FITZ' 'NWAO' 'WR1' 'USA0' 'NB200' 'VNDA' 'JHJ' 'YKR8' 'STKA'\n",
        " 'PEA0' 'BVA0' 'CM16' 'MK31']"
       ]
      },
      {
       "output_type": "stream",
       "stream": "stdout",
       "text": [
        "\n",
        "dist_true 1971.5km dist_current 357.5 ttrs 659.7 stas ['MK31' 'USA0' 'FITZ' 'BVA0' 'AAK' 'JHJ' 'FIA0' 'PEA0' 'WR1' 'KBZ' 'VNDA'\n",
        " 'IL31' 'STKA' 'JNU' 'SNAA']"
       ]
      },
      {
       "output_type": "stream",
       "stream": "stdout",
       "text": [
        "\n",
        "dist_true 2074.9km dist_current 934.5 ttrs 812.8 stas ['PEA0' 'JKA' 'NWAO' 'VNDA' 'JNU' 'IL31' 'WR1' 'YKR8' 'QSPA' 'AS12' 'BVA0'\n",
        " 'MK31' 'KBZ' 'FIA0' 'FITZ']"
       ]
      },
      {
       "output_type": "stream",
       "stream": "stdout",
       "text": [
        "\n",
        "dist_true 1462.2km dist_current 705.2 ttrs 1840.6 stas ['MK31' 'YKR8' 'STKA' 'JKA' 'AAK' 'QSPA' 'FIA0' 'KBZ' 'PEA0' 'WR1' 'IL31'\n",
        " 'JHJ' 'BVA0' 'CM16' 'NB200']"
       ]
      },
      {
       "output_type": "stream",
       "stream": "stdout",
       "text": [
        "\n",
        "dist_true 1980.6km dist_current 759.1 ttrs 743.5 stas ['FITZ' 'QSPA' 'VNDA' 'USA0' 'NWAO' 'JNU' 'BVA0' 'WR1' 'CM16' 'MK31' 'STKA'\n",
        " 'IL31' 'PEA0' 'KBZ' 'AAK']"
       ]
      },
      {
       "output_type": "stream",
       "stream": "stdout",
       "text": [
        "\n",
        "dist_true 1564.8km dist_current 402.5 ttrs 726.3 stas ['PEA0' 'CM16' 'VNDA' 'AAK' 'AS12' 'NB200' 'BVA0' 'JNU' 'FIA0' 'WR1' 'STKA'\n",
        " 'IL31' 'JKA' 'YKR8' 'NWAO']"
       ]
      },
      {
       "output_type": "stream",
       "stream": "stdout",
       "text": [
        "\n",
        "dist_true 1918.0km dist_current 583.3 ttrs 742.6 stas ['NB200' 'USA0' 'JNU' 'YKR8' 'AS12' 'FITZ' 'SNAA' 'KBZ' 'CM16' 'QSPA' 'WR1'\n",
        " 'IL31' 'MK31' 'FIA0' 'JKA']"
       ]
      },
      {
       "output_type": "stream",
       "stream": "stdout",
       "text": [
        "\n",
        "dist_true 1911.2km dist_current 874.5 ttrs 809.5 stas ['NB200' 'IL31' 'STKA' 'USA0' 'VNDA' 'FITZ' 'FIA0' 'CM16' 'QSPA' 'JKA'\n",
        " 'JNU' 'PEA0' 'YKR8' 'WR1' 'SNAA']"
       ]
      },
      {
       "output_type": "stream",
       "stream": "stdout",
       "text": [
        "\n",
        "dist_true 1887.1km dist_current 452.5 ttrs 686.4 stas ['SNAA' 'BVA0' 'FIA0' 'PEA0' 'QSPA' 'AAK' 'VNDA' 'KBZ' 'JKA' 'FITZ' 'JHJ'\n",
        " 'YKR8' 'MK31' 'NWAO' 'CM16']"
       ]
      },
      {
       "output_type": "stream",
       "stream": "stdout",
       "text": [
        "\n",
        "dist_true 2106.0km dist_current 1202.7 ttrs 822.3 stas ['JNU' 'AAK' 'USA0' 'PEA0' 'QSPA' 'JKA' 'FIA0' 'KBZ' 'BVA0' 'SNAA' 'WR1'\n",
        " 'STKA' 'AS12' 'YKR8' 'NB200']"
       ]
      },
      {
       "output_type": "stream",
       "stream": "stdout",
       "text": [
        "\n",
        "dist_true 1837.3km dist_current 445.1 ttrs 703.1 stas ['SNAA' 'NB200' 'WR1' 'JKA' 'QSPA' 'MK31' 'IL31' 'CM16' 'FITZ' 'NWAO' 'AAK'\n",
        " 'BVA0' 'JHJ' 'JNU' 'FIA0']"
       ]
      },
      {
       "output_type": "stream",
       "stream": "stdout",
       "text": [
        "\n",
        "dist_true 2073.5km dist_current 799.1 ttrs 763.1 stas ['VNDA' 'FITZ' 'NWAO' 'SNAA' 'AS12' 'PEA0' 'BVA0' 'USA0' 'JHJ' 'CM16'\n",
        " 'FIA0' 'KBZ' 'YKR8' 'QSPA' 'STKA']"
       ]
      },
      {
       "output_type": "stream",
       "stream": "stdout",
       "text": [
        "\n",
        "dist_true 1828.2km dist_current 138.1 ttrs 616.0 stas ['NWAO' 'AAK' 'SNAA' 'MK31' 'YKR8' 'WR1' 'PEA0' 'FIA0' 'JHJ' 'CM16' 'JNU'\n",
        " 'BVA0' 'IL31' 'AS12' 'VNDA']"
       ]
      },
      {
       "output_type": "stream",
       "stream": "stdout",
       "text": [
        "\n",
        "dist_true 1845.9km dist_current 476.7 ttrs 698.0 stas ['CM16' 'JKA' 'JNU' 'VNDA' 'STKA' 'FITZ' 'AAK' 'BVA0' 'PEA0' 'NB200' 'JHJ'\n",
        " 'SNAA' 'NWAO' 'MK31' 'AS12']"
       ]
      },
      {
       "output_type": "stream",
       "stream": "stdout",
       "text": [
        "\n",
        "dist_true 2079.8km dist_current 1142.9 ttrs 862.8 stas ['QSPA' 'BVA0' 'SNAA' 'MK31' 'FIA0' 'FITZ' 'PEA0' 'VNDA' 'NWAO' 'IL31'\n",
        " 'STKA' 'WR1' 'JNU' 'KBZ' 'JKA']"
       ]
      },
      {
       "output_type": "stream",
       "stream": "stdout",
       "text": [
        "\n",
        "dist_true 1870.7km dist_current 854.5 ttrs 771.3 stas ['MK31' 'PEA0' 'JNU' 'USA0' 'YKR8' 'AAK' 'QSPA' 'AS12' 'JHJ' 'STKA' 'FITZ'\n",
        " 'FIA0' 'IL31' 'JKA' 'SNAA']"
       ]
      },
      {
       "output_type": "stream",
       "stream": "stdout",
       "text": [
        "\n",
        "dist_true 1891.7km dist_current 662.1 ttrs 748.4 stas ['FITZ' 'KBZ' 'VNDA' 'YKR8' 'MK31' 'JKA' 'PEA0' 'AAK' 'FIA0' 'AS12' 'QSPA'\n",
        " 'JNU' 'IL31' 'USA0' 'NWAO']"
       ]
      },
      {
       "output_type": "stream",
       "stream": "stdout",
       "text": [
        "\n",
        "dist_true 2616.0km dist_current 1476.2 ttrs 877.1 stas ['QSPA' 'BVA0' 'AAK' 'VNDA' 'SNAA' 'NB200' 'USA0' 'STKA' 'FITZ' 'AS12'\n",
        " 'JHJ' 'WR1' 'KBZ' 'JKA' 'JNU']"
       ]
      },
      {
       "output_type": "stream",
       "stream": "stdout",
       "text": [
        "\n",
        "dist_true 1755.9km dist_current 343.9 ttrs 682.8 stas ['MK31' 'YKR8' 'STKA' 'NWAO' 'AAK' 'JNU' 'SNAA' 'NB200' 'VNDA' 'PEA0'\n",
        " 'IL31' 'KBZ' 'CM16' 'AS12' 'FITZ']"
       ]
      },
      {
       "output_type": "stream",
       "stream": "stdout",
       "text": [
        "\n",
        "dist_true 1962.3km dist_current 285.3 ttrs 640.0 stas ['JHJ' 'YKR8' 'FITZ' 'VNDA' 'NWAO' 'AAK' 'USA0' 'KBZ' 'BVA0' 'IL31' 'FIA0'\n",
        " 'SNAA' 'AS12' 'MK31' 'NB200']"
       ]
      },
      {
       "output_type": "stream",
       "stream": "stdout",
       "text": [
        "\n",
        "dist_true 1795.2km dist_current 740.3 ttrs 759.0 stas ['STKA' 'FIA0' 'YKR8' 'JKA' 'USA0' 'BVA0' 'NB200' 'FITZ' 'AAK' 'WR1' 'QSPA'\n",
        " 'CM16' 'KBZ' 'IL31' 'SNAA']"
       ]
      },
      {
       "output_type": "stream",
       "stream": "stdout",
       "text": [
        "\n",
        "dist_true 1852.1km dist_current 490.1 ttrs 700.8 stas ['NWAO' 'MK31' 'JKA' 'VNDA' 'CM16' 'AS12' 'JNU' 'KBZ' 'JHJ' 'QSPA' 'FITZ'\n",
        " 'IL31' 'BVA0' 'PEA0' 'USA0']"
       ]
      },
      {
       "output_type": "stream",
       "stream": "stdout",
       "text": [
        "\n",
        "dist_true 1871.7km dist_current 418.0 ttrs 684.7 stas ['NWAO' 'NB200' 'JNU' 'PEA0' 'AS12' 'IL31' 'CM16' 'AAK' 'WR1' 'FITZ' 'YKR8'\n",
        " 'USA0' 'STKA' 'FIA0' 'KBZ']"
       ]
      },
      {
       "output_type": "stream",
       "stream": "stdout",
       "text": [
        "\n",
        "dist_true 1639.9km dist_current 376.6 ttrs 723.6 stas ['SNAA' 'STKA' 'JKA' 'MK31' 'FITZ' 'BVA0' 'JHJ' 'VNDA' 'KBZ' 'NB200' 'YKR8'\n",
        " 'CM16' 'FIA0' 'IL31' 'JNU']"
       ]
      },
      {
       "output_type": "stream",
       "stream": "stdout",
       "text": [
        "\n",
        "dist_true 1775.8km dist_current 324.7 ttrs 693.3 stas ['VNDA' 'MK31' 'USA0' 'AS12' 'IL31' 'YKR8' 'WR1' 'JHJ' 'PEA0' 'NB200'\n",
        " 'FIA0' 'SNAA' 'STKA' 'JNU' 'CM16']"
       ]
      },
      {
       "output_type": "stream",
       "stream": "stdout",
       "text": [
        "\n",
        "dist_true 1911.0km dist_current 766.9 ttrs 753.6 stas ['VNDA' 'WR1' 'AAK' 'BVA0' 'JHJ' 'FITZ' 'PEA0' 'FIA0' 'YKR8' 'JKA' 'MK31'\n",
        " 'QSPA' 'IL31' 'STKA' 'NB200']"
       ]
      },
      {
       "output_type": "stream",
       "stream": "stdout",
       "text": [
        "\n",
        "dist_true 1706.7km dist_current 722.1 ttrs 766.3 stas ['STKA' 'QSPA' 'USA0' 'VNDA' 'FIA0' 'IL31' 'KBZ' 'MK31' 'PEA0' 'JKA' 'JHJ'\n",
        " 'FITZ' 'CM16' 'YKR8' 'JNU']"
       ]
      },
      {
       "output_type": "stream",
       "stream": "stdout",
       "text": [
        "\n",
        "dist_true 1782.1km dist_current 261.3 ttrs 675.2 stas ['STKA' 'PEA0' 'AS12' 'FITZ' 'KBZ' 'WR1' 'NWAO' 'JKA' 'CM16' 'SNAA' 'IL31'\n",
        " 'MK31' 'YKR8' 'BVA0' 'JHJ']"
       ]
      },
      {
       "output_type": "stream",
       "stream": "stdout",
       "text": [
        "\n",
        "dist_true 1831.3km dist_current 612.9 ttrs 721.8 stas ['JHJ' 'VNDA' 'STKA' 'QSPA' 'FIA0' 'KBZ' 'SNAA' 'AS12' 'BVA0' 'FITZ' 'IL31'\n",
        " 'AAK' 'CM16' 'JNU' 'NWAO']"
       ]
      },
      {
       "output_type": "stream",
       "stream": "stdout",
       "text": [
        "\n",
        "dist_true 1735.2km dist_current 529.2 ttrs 745.2 stas ['YKR8' 'NB200' 'SNAA' 'FIA0' 'KBZ' 'STKA' 'JNU' 'USA0' 'IL31' 'FITZ'\n",
        " 'VNDA' 'PEA0' 'AAK' 'NWAO' 'JKA']"
       ]
      },
      {
       "output_type": "stream",
       "stream": "stdout",
       "text": [
        "\n",
        "dist_true 1751.7km dist_current 265.2 ttrs 653.0 stas ['FIA0' 'KBZ' 'QSPA' 'NWAO' 'IL31' 'JNU' 'AS12' 'CM16' 'VNDA' 'JHJ' 'USA0'\n",
        " 'WR1' 'SNAA' 'YKR8' 'MK31']"
       ]
      },
      {
       "output_type": "stream",
       "stream": "stdout",
       "text": [
        "\n",
        "dist_true 1735.8km dist_current 651.9 ttrs 741.8 stas ['PEA0' 'CM16' 'STKA' 'NWAO' 'NB200' 'QSPA' 'JKA' 'AS12' 'MK31' 'FITZ'\n",
        " 'AAK' 'USA0' 'YKR8' 'VNDA' 'IL31']"
       ]
      },
      {
       "output_type": "stream",
       "stream": "stdout",
       "text": [
        "\n",
        "dist_true 1799.1km dist_current 400.5 ttrs 698.9 stas ['JHJ' 'JKA' 'JNU' 'NB200' 'STKA' 'AS12' 'WR1' 'IL31' 'PEA0' 'KBZ' 'NWAO'\n",
        " 'FITZ' 'CM16' 'BVA0' 'AAK']"
       ]
      },
      {
       "output_type": "stream",
       "stream": "stdout",
       "text": [
        "\n",
        "dist_true 1896.2km dist_current 621.3 ttrs 723.2 stas ['YKR8' 'JNU' 'BVA0' 'VNDA' 'JHJ' 'STKA' 'PEA0' 'QSPA' 'MK31' 'SNAA' 'AS12'\n",
        " 'CM16' 'WR1' 'NWAO' 'AAK']"
       ]
      },
      {
       "output_type": "stream",
       "stream": "stdout",
       "text": [
        "\n",
        "dist_true 2054.4km dist_current 421.8 ttrs 670.2 stas ['QSPA' 'FIA0' 'IL31' 'WR1' 'CM16' 'MK31' 'SNAA' 'AAK' 'USA0' 'KBZ' 'JHJ'\n",
        " 'FITZ' 'PEA0' 'VNDA' 'JNU']"
       ]
      },
      {
       "output_type": "stream",
       "stream": "stdout",
       "text": [
        "\n",
        "dist_true 1811.9km dist_current 88.9 ttrs 634.6 stas ['FIA0' 'AAK' 'JKA' 'WR1' 'NB200' 'YKR8' 'JHJ' 'NWAO' 'SNAA' 'AS12' 'USA0'\n",
        " 'MK31' 'KBZ' 'JNU' 'PEA0']"
       ]
      },
      {
       "output_type": "stream",
       "stream": "stdout",
       "text": [
        "\n",
        "dist_true 1936.1km dist_current 724.7 ttrs 749.8 stas ['IL31' 'AS12' 'VNDA' 'SNAA' 'STKA' 'PEA0' 'FIA0' 'FITZ' 'WR1' 'QSPA' 'JNU'\n",
        " 'CM16' 'NWAO' 'YKR8' 'JHJ']"
       ]
      },
      {
       "output_type": "stream",
       "stream": "stdout",
       "text": [
        "\n",
        "dist_true 2129.4km dist_current 1049.8 ttrs 793.3 stas ['JKA' 'AS12' 'NWAO' 'JNU' 'PEA0' 'WR1' 'VNDA' 'FITZ' 'QSPA' 'USA0' 'IL31'\n",
        " 'STKA' 'KBZ' 'JHJ' 'BVA0']"
       ]
      },
      {
       "output_type": "stream",
       "stream": "stdout",
       "text": [
        "\n",
        "dist_true 2055.9km dist_current 1260.6 ttrs 902.8 stas ['BVA0' 'STKA' 'JKA' 'FITZ' 'WR1' 'JNU' 'KBZ' 'YKR8' 'FIA0' 'AAK' 'NB200'\n",
        " 'IL31' 'SNAA' 'NWAO' 'QSPA']"
       ]
      },
      {
       "output_type": "stream",
       "stream": "stdout",
       "text": [
        "\n",
        "dist_true 1979.9km dist_current 1107.9 ttrs 821.6 stas ['PEA0' 'JHJ' 'CM16' 'AS12' 'STKA' 'IL31' 'FIA0' 'QSPA' 'NB200' 'FITZ'\n",
        " 'JKA' 'JNU' 'KBZ' 'MK31' 'NWAO']"
       ]
      },
      {
       "output_type": "stream",
       "stream": "stdout",
       "text": [
        "\n",
        "dist_true 1564.7km dist_current 335.3 ttrs 674.6 stas ['NWAO' 'MK31' 'USA0' 'PEA0' 'NB200' 'BVA0' 'WR1' 'CM16' 'JHJ' 'SNAA' 'JKA'\n",
        " 'AAK' 'IL31' 'YKR8' 'STKA']"
       ]
      },
      {
       "output_type": "stream",
       "stream": "stdout",
       "text": [
        "\n",
        "dist_true 1740.2km dist_current 867.2 ttrs 805.1 stas ['BVA0' 'YKR8' 'AS12' 'VNDA' 'STKA' 'SNAA' 'KBZ' 'USA0' 'CM16' 'QSPA'\n",
        " 'NWAO' 'PEA0' 'FIA0' 'JKA' 'JNU']"
       ]
      },
      {
       "output_type": "stream",
       "stream": "stdout",
       "text": [
        "\n",
        "dist_true 2587.2km dist_current 1538.9 ttrs 893.4 stas ['NB200' 'AAK' 'VNDA' 'USA0' 'PEA0' 'BVA0' 'STKA' 'WR1' 'NWAO' 'JKA' 'QSPA'\n",
        " 'MK31' 'JHJ' 'JNU' 'FITZ']"
       ]
      },
      {
       "output_type": "stream",
       "stream": "stdout",
       "text": [
        "\n",
        "dist_true 1670.3km dist_current 657.0 ttrs 756.0 stas ['FITZ' 'QSPA' 'VNDA' 'STKA' 'BVA0' 'JHJ' 'MK31' 'CM16' 'JKA' 'JNU' 'AAK'\n",
        " 'YKR8' 'PEA0' 'IL31' 'USA0']"
       ]
      },
      {
       "output_type": "stream",
       "stream": "stdout",
       "text": [
        "\n",
        "dist_true 1975.0km dist_current 830.7 ttrs 781.5 stas ['YKR8' 'SNAA' 'KBZ' 'FIA0' 'WR1' 'STKA' 'JKA' 'VNDA' 'JHJ' 'PEA0' 'FITZ'\n",
        " 'AAK' 'IL31' 'QSPA' 'AS12']"
       ]
      },
      {
       "output_type": "stream",
       "stream": "stdout",
       "text": [
        "\n",
        "dist_true 1888.5km dist_current 603.8 ttrs 716.9 stas ['STKA' 'FIA0' 'JHJ' 'FITZ' 'AS12' 'BVA0' 'MK31' 'NB200' 'CM16' 'PEA0'\n",
        " 'KBZ' 'VNDA' 'USA0' 'IL31' 'QSPA']"
       ]
      },
      {
       "output_type": "stream",
       "stream": "stdout",
       "text": [
        "\n",
        "dist_true 1732.5km dist_current 397.9 ttrs 739.6 stas ['VNDA' 'IL31' 'FIA0' 'PEA0' 'BVA0' 'NWAO' 'AAK' 'WR1' 'FITZ' 'SNAA'\n",
        " 'NB200' 'JNU' 'STKA' 'JKA' 'CM16']"
       ]
      },
      {
       "output_type": "stream",
       "stream": "stdout",
       "text": [
        "\n",
        "dist_true 2245.0km dist_current 1042.8 ttrs 798.7 stas ['FITZ' 'KBZ' 'VNDA' 'WR1' 'STKA' 'YKR8' 'NWAO' 'BVA0' 'MK31' 'AAK' 'PEA0'\n",
        " 'USA0' 'JNU' 'SNAA' 'QSPA']"
       ]
      },
      {
       "output_type": "stream",
       "stream": "stdout",
       "text": [
        "\n",
        "dist_true 1730.0km dist_current 529.8 ttrs 728.1 stas ['NWAO' 'PEA0' 'WR1' 'USA0' 'NB200' 'MK31' 'KBZ' 'CM16' 'BVA0' 'JHJ' 'AS12'\n",
        " 'STKA' 'QSPA' 'YKR8' 'IL31']"
       ]
      },
      {
       "output_type": "stream",
       "stream": "stdout",
       "text": [
        "\n",
        "dist_true 1792.5km dist_current 398.4 ttrs 685.0 stas ['IL31' 'FIA0' 'STKA' 'JHJ' 'SNAA' 'BVA0' 'MK31' 'FITZ' 'NB200' 'YKR8'\n",
        " 'NWAO' 'JNU' 'AAK' 'AS12' 'KBZ']"
       ]
      },
      {
       "output_type": "stream",
       "stream": "stdout",
       "text": [
        "\n"
       ]
      },
      {
       "metadata": {},
       "output_type": "display_data",
       "png": "[encoded data removed]",
       "text": [
        "<matplotlib.figure.Figure at 0x42fded0>"
       ]
      },
      {
       "metadata": {},
       "output_type": "display_data",
       "png": "[encoded data removed]",
       "text": [
        "<matplotlib.figure.Figure at 0x65e3e50>"
       ]
      }
     ],
     "prompt_number": 5
    },
    {
     "cell_type": "code",
     "collapsed": false,
     "input": [
      "proposal_dist(n_stations=20, eid=1)"
     ],
     "language": "python",
     "metadata": {},
     "outputs": [
      {
       "output_type": "stream",
       "stream": "stdout",
       "text": [
        "current sum tts 601.540323174\n",
        "true sum tts 1756.96488694\n",
        "dist_true 1828.8km dist_current 526.9 ttrs 707.3 stas ['JHJ' 'JKA' 'KBZ' 'STKA' 'AS12' 'YKR8' 'CM16' 'PEA0' 'QSPA' 'JNU' 'AAK'\n",
        " 'USA0' 'SNAA' 'MK31' 'NWAO' 'WR1' 'IL31' 'VNDA' 'FITZ' 'BVA0']"
       ]
      },
      {
       "output_type": "stream",
       "stream": "stdout",
       "text": [
        "\n",
        "dist_true 1877.9km dist_current 636.5 ttrs 730.9 stas ['STKA' 'AAK' 'WR1' 'JNU' 'USA0' 'JKA' 'AS12' 'SNAA' 'IL31' 'NB200' 'QSPA'\n",
        " 'FITZ' 'BVA0' 'KBZ' 'FIA0' 'MK31' 'VNDA' 'YKR8' 'NWAO' 'JHJ']"
       ]
      },
      {
       "output_type": "stream",
       "stream": "stdout",
       "text": [
        "\n",
        "dist_true 1867.9km dist_current 671.9 ttrs 732.9 stas ['AS12' 'STKA' 'NB200' 'FITZ' 'CM16' 'IL31' 'KBZ' 'QSPA' 'AAK' 'JHJ' 'NWAO'\n",
        " 'YKR8' 'MK31' 'PEA0' 'FIA0' 'JNU' 'USA0' 'SNAA' 'JKA' 'WR1']"
       ]
      },
      {
       "output_type": "stream",
       "stream": "stdout",
       "text": [
        "\n",
        "dist_true 1847.2km dist_current 590.9 ttrs 723.2 stas ['QSPA' 'JNU' 'KBZ' 'VNDA' 'CM16' 'STKA' 'NB200' 'YKR8' 'SNAA' 'NWAO'\n",
        " 'FITZ' 'USA0' 'PEA0' 'FIA0' 'IL31' 'AAK' 'JHJ' 'AS12' 'JKA' 'WR1']"
       ]
      },
      {
       "output_type": "stream",
       "stream": "stdout",
       "text": [
        "\n",
        "dist_true 1862.6km dist_current 694.6 ttrs 754.5 stas ['YKR8' 'JKA' 'SNAA' 'USA0' 'BVA0' 'PEA0' 'WR1' 'NB200' 'NWAO' 'JNU' 'IL31'\n",
        " 'FIA0' 'STKA' 'KBZ' 'AS12' 'FITZ' 'VNDA' 'CM16' 'QSPA' 'MK31']"
       ]
      },
      {
       "output_type": "stream",
       "stream": "stdout",
       "text": [
        "\n",
        "dist_true 1761.0km dist_current 603.2 ttrs 727.4 stas ['PEA0' 'FIA0' 'SNAA' 'JNU' 'QSPA' 'JKA' 'YKR8' 'KBZ' 'VNDA' 'USA0' 'IL31'\n",
        " 'STKA' 'NWAO' 'MK31' 'AS12' 'JHJ' 'CM16' 'NB200' 'FITZ' 'BVA0']"
       ]
      },
      {
       "output_type": "stream",
       "stream": "stdout",
       "text": [
        "\n",
        "dist_true 1858.2km dist_current 568.9 ttrs 716.1 stas ['NB200' 'FIA0' 'PEA0' 'YKR8' 'JHJ' 'SNAA' 'WR1' 'IL31' 'FITZ' 'BVA0'\n",
        " 'STKA' 'USA0' 'KBZ' 'QSPA' 'AS12' 'JKA' 'AAK' 'CM16' 'JNU' 'VNDA']"
       ]
      },
      {
       "output_type": "stream",
       "stream": "stdout",
       "text": [
        "\n",
        "dist_true 1807.7km dist_current 539.4 ttrs 710.5 stas ['STKA' 'WR1' 'YKR8' 'QSPA' 'KBZ' 'BVA0' 'IL31' 'FITZ' 'AAK' 'MK31' 'USA0'\n",
        " 'JKA' 'SNAA' 'FIA0' 'JNU' 'PEA0' 'VNDA' 'NB200' 'JHJ' 'CM16']"
       ]
      },
      {
       "output_type": "stream",
       "stream": "stdout",
       "text": [
        "\n",
        "dist_true 1822.5km dist_current 570.2 ttrs 720.8 stas ['KBZ' 'BVA0' 'SNAA' 'VNDA' 'JKA' 'AS12' 'CM16' 'PEA0' 'AAK' 'WR1' 'IL31'\n",
        " 'QSPA' 'JNU' 'MK31' 'FITZ' 'JHJ' 'FIA0' 'NWAO' 'STKA' 'YKR8']"
       ]
      },
      {
       "output_type": "stream",
       "stream": "stdout",
       "text": [
        "\n",
        "dist_true 1612.0km dist_current 289.4 ttrs 660.3 stas ['CM16' 'AS12' 'JHJ' 'WR1' 'VNDA' 'BVA0' 'STKA' 'PEA0' 'YKR8' 'IL31' 'KBZ'\n",
        " 'MK31' 'NB200' 'USA0' 'NWAO' 'SNAA' 'JNU' 'FIA0' 'JKA' 'AAK']"
       ]
      },
      {
       "output_type": "stream",
       "stream": "stdout",
       "text": [
        "\n",
        "dist_true 1844.2km dist_current 655.9 ttrs 744.5 stas ['AAK' 'KBZ' 'NWAO' 'USA0' 'JNU' 'NB200' 'PEA0' 'WR1' 'YKR8' 'BVA0' 'SNAA'\n",
        " 'FIA0' 'FITZ' 'JKA' 'STKA' 'QSPA' 'IL31' 'VNDA' 'AS12' 'CM16']"
       ]
      },
      {
       "output_type": "stream",
       "stream": "stdout",
       "text": [
        "\n",
        "dist_true 1854.4km dist_current 605.4 ttrs 720.6 stas ['JHJ' 'YKR8' 'QSPA' 'AS12' 'JNU' 'PEA0' 'VNDA' 'WR1' 'CM16' 'IL31' 'FITZ'\n",
        " 'BVA0' 'MK31' 'FIA0' 'NWAO' 'NB200' 'USA0' 'STKA' 'JKA' 'AAK']"
       ]
      },
      {
       "output_type": "stream",
       "stream": "stdout",
       "text": [
        "\n",
        "dist_true 1907.0km dist_current 760.6 ttrs 747.1 stas ['FIA0' 'NWAO' 'MK31' 'BVA0' 'AAK' 'AS12' 'JNU' 'PEA0' 'JKA' 'WR1' 'QSPA'\n",
        " 'USA0' 'JHJ' 'CM16' 'STKA' 'FITZ' 'IL31' 'NB200' 'KBZ' 'YKR8']"
       ]
      },
      {
       "output_type": "stream",
       "stream": "stdout",
       "text": [
        "\n",
        "dist_true 1908.1km dist_current 536.5 ttrs 701.9 stas ['NWAO' 'WR1' 'SNAA' 'PEA0' 'IL31' 'BVA0' 'NB200' 'YKR8' 'VNDA' 'JNU'\n",
        " 'FIA0' 'USA0' 'JHJ' 'FITZ' 'AS12' 'CM16' 'KBZ' 'STKA' 'AAK' 'QSPA']"
       ]
      },
      {
       "output_type": "stream",
       "stream": "stdout",
       "text": [
        "\n",
        "dist_true 1692.2km dist_current 519.8 ttrs 713.1 stas ['FITZ' 'JNU' 'JHJ' 'AS12' 'QSPA' 'SNAA' 'VNDA' 'KBZ' 'CM16' 'FIA0' 'IL31'\n",
        " 'MK31' 'YKR8' 'JKA' 'NB200' 'AAK' 'USA0' 'BVA0' 'NWAO' 'STKA']"
       ]
      },
      {
       "output_type": "stream",
       "stream": "stdout",
       "text": [
        "\n",
        "dist_true 1794.0km dist_current 536.3 ttrs 710.5 stas ['FITZ' 'BVA0' 'NWAO' 'FIA0' 'AAK' 'KBZ' 'PEA0' 'QSPA' 'SNAA' 'STKA' 'MK31'\n",
        " 'JHJ' 'JKA' 'VNDA' 'WR1' 'YKR8' 'JNU' 'USA0' 'IL31' 'CM16']"
       ]
      },
      {
       "output_type": "stream",
       "stream": "stdout",
       "text": [
        "\n",
        "dist_true 1832.0km dist_current 545.5 ttrs 711.1 stas ['AAK' 'NWAO' 'AS12' 'JHJ' 'NB200' 'VNDA' 'QSPA' 'WR1' 'FIA0' 'JKA' 'JNU'\n",
        " 'FITZ' 'SNAA' 'USA0' 'MK31' 'IL31' 'BVA0' 'KBZ' 'CM16' 'STKA']"
       ]
      },
      {
       "output_type": "stream",
       "stream": "stdout",
       "text": [
        "\n",
        "dist_true 1905.6km dist_current 510.8 ttrs 696.9 stas ['QSPA' 'MK31' 'JNU' 'STKA' 'PEA0' 'BVA0' 'VNDA' 'IL31' 'AAK' 'CM16'\n",
        " 'NB200' 'FITZ' 'NWAO' 'YKR8' 'KBZ' 'USA0' 'AS12' 'WR1' 'SNAA' 'JHJ']"
       ]
      },
      {
       "output_type": "stream",
       "stream": "stdout",
       "text": [
        "\n",
        "dist_true 2058.3km dist_current 841.0 ttrs 752.1 stas ['BVA0' 'FITZ' 'JKA' 'WR1' 'QSPA' 'AS12' 'STKA' 'MK31' 'CM16' 'PEA0' 'JNU'\n",
        " 'SNAA' 'USA0' 'JHJ' 'VNDA' 'NB200' 'YKR8' 'FIA0' 'NWAO' 'KBZ']"
       ]
      },
      {
       "output_type": "stream",
       "stream": "stdout",
       "text": [
        "\n",
        "dist_true 1798.5km dist_current 501.2 ttrs 705.0 stas ['NB200' 'IL31' 'NWAO' 'JKA' 'QSPA' 'USA0' 'KBZ' 'FIA0' 'AS12' 'MK31'\n",
        " 'STKA' 'SNAA' 'AAK' 'FITZ' 'CM16' 'BVA0' 'VNDA' 'PEA0' 'WR1' 'YKR8']"
       ]
      },
      {
       "output_type": "stream",
       "stream": "stdout",
       "text": [
        "\n",
        "dist_true 1800.0km dist_current 557.4 ttrs 715.7 stas ['YKR8' 'VNDA' 'FIA0' 'IL31' 'PEA0' 'FITZ' 'QSPA' 'KBZ' 'MK31' 'USA0'\n",
        " 'NB200' 'JHJ' 'CM16' 'WR1' 'AAK' 'NWAO' 'SNAA' 'STKA' 'JKA' 'JNU']"
       ]
      },
      {
       "output_type": "stream",
       "stream": "stdout",
       "text": [
        "\n",
        "dist_true 1846.7km dist_current 585.0 ttrs 721.8 stas ['IL31' 'FIA0' 'JKA' 'AS12' 'YKR8' 'PEA0' 'WR1' 'AAK' 'USA0' 'CM16' 'SNAA'\n",
        " 'JNU' 'JHJ' 'FITZ' 'NB200' 'NWAO' 'BVA0' 'VNDA' 'QSPA' 'STKA']"
       ]
      },
      {
       "output_type": "stream",
       "stream": "stdout",
       "text": [
        "\n",
        "dist_true 1795.7km dist_current 536.4 ttrs 710.0 stas ['CM16' 'BVA0' 'WR1' 'QSPA' 'JNU' 'KBZ' 'MK31' 'IL31' 'YKR8' 'PEA0' 'USA0'\n",
        " 'NB200' 'STKA' 'AAK' 'SNAA' 'JHJ' 'JKA' 'VNDA' 'NWAO' 'FITZ']"
       ]
      },
      {
       "output_type": "stream",
       "stream": "stdout",
       "text": [
        "\n",
        "dist_true 1854.4km dist_current 605.4 ttrs 720.6 stas ['FIA0' 'JKA' 'FITZ' 'CM16' 'NB200' 'IL31' 'AS12' 'JHJ' 'AAK' 'PEA0' 'USA0'\n",
        " 'JNU' 'QSPA' 'STKA' 'NWAO' 'WR1' 'VNDA' 'YKR8' 'MK31' 'BVA0']"
       ]
      },
      {
       "output_type": "stream",
       "stream": "stdout",
       "text": [
        "\n",
        "dist_true 1785.7km dist_current 220.8 ttrs 663.6 stas ['NWAO' 'MK31' 'AS12' 'YKR8' 'PEA0' 'KBZ' 'STKA' 'AAK' 'FITZ' 'USA0' 'IL31'\n",
        " 'WR1' 'NB200' 'SNAA' 'JHJ' 'CM16' 'BVA0' 'VNDA' 'JKA' 'JNU']"
       ]
      },
      {
       "output_type": "stream",
       "stream": "stdout",
       "text": [
        "\n",
        "dist_true 1790.2km dist_current 266.3 ttrs 666.5 stas ['YKR8' 'IL31' 'USA0' 'AAK' 'NB200' 'STKA' 'KBZ' 'JHJ' 'BVA0' 'PEA0' 'NWAO'\n",
        " 'SNAA' 'JNU' 'MK31' 'JKA' 'FITZ' 'FIA0' 'AS12' 'CM16' 'WR1']"
       ]
      },
      {
       "output_type": "stream",
       "stream": "stdout",
       "text": [
        "\n",
        "dist_true 1894.1km dist_current 388.4 ttrs 684.1 stas ['JHJ' 'QSPA' 'NB200' 'YKR8' 'MK31' 'PEA0' 'VNDA' 'NWAO' 'BVA0' 'USA0'\n",
        " 'FIA0' 'KBZ' 'JKA' 'WR1' 'SNAA' 'FITZ' 'IL31' 'AS12' 'CM16' 'JNU']"
       ]
      },
      {
       "output_type": "stream",
       "stream": "stdout",
       "text": [
        "\n",
        "dist_true 1838.6km dist_current 571.6 ttrs 720.0 stas ['PEA0' 'CM16' 'AAK' 'JNU' 'AS12' 'NB200' 'SNAA' 'VNDA' 'BVA0' 'MK31'\n",
        " 'FITZ' 'IL31' 'JKA' 'FIA0' 'WR1' 'KBZ' 'JHJ' 'STKA' 'YKR8' 'QSPA']"
       ]
      },
      {
       "output_type": "stream",
       "stream": "stdout",
       "text": [
        "\n",
        "dist_true 1937.5km dist_current 736.7 ttrs 741.6 stas ['NWAO' 'KBZ' 'FIA0' 'USA0' 'JNU' 'BVA0' 'AS12' 'JHJ' 'YKR8' 'JKA' 'AAK'\n",
        " 'STKA' 'NB200' 'PEA0' 'QSPA' 'VNDA' 'IL31' 'MK31' 'FITZ' 'WR1']"
       ]
      },
      {
       "output_type": "stream",
       "stream": "stdout",
       "text": [
        "\n",
        "dist_true 1875.7km dist_current 343.8 ttrs 669.6 stas ['JKA' 'IL31' 'WR1' 'PEA0' 'FITZ' 'FIA0' 'YKR8' 'USA0' 'VNDA' 'AAK' 'MK31'\n",
        " 'KBZ' 'JNU' 'AS12' 'QSPA' 'BVA0' 'NWAO' 'JHJ' 'CM16' 'NB200']"
       ]
      },
      {
       "output_type": "stream",
       "stream": "stdout",
       "text": [
        "\n",
        "dist_true 1832.8km dist_current 462.8 ttrs 691.8 stas ['KBZ' 'MK31' 'NWAO' 'QSPA' 'NB200' 'AS12' 'STKA' 'JHJ' 'FITZ' 'VNDA'\n",
        " 'FIA0' 'SNAA' 'USA0' 'PEA0' 'CM16' 'JKA' 'WR1' 'IL31' 'BVA0' 'AAK']"
       ]
      },
      {
       "output_type": "stream",
       "stream": "stdout",
       "text": [
        "\n",
        "dist_true 1807.2km dist_current 438.0 ttrs 688.0 stas ['JKA' 'YKR8' 'JHJ' 'STKA' 'PEA0' 'MK31' 'NWAO' 'SNAA' 'IL31' 'AS12' 'WR1'\n",
        " 'NB200' 'VNDA' 'QSPA' 'USA0' 'FIA0' 'FITZ' 'BVA0' 'CM16' 'AAK']"
       ]
      },
      {
       "output_type": "stream",
       "stream": "stdout",
       "text": [
        "\n",
        "dist_true 1639.4km dist_current 478.8 ttrs 708.7 stas ['NB200' 'WR1' 'FIA0' 'YKR8' 'USA0' 'MK31' 'PEA0' 'STKA' 'AAK' 'JKA' 'VNDA'\n",
        " 'JNU' 'BVA0' 'IL31' 'JHJ' 'SNAA' 'NWAO' 'QSPA' 'KBZ' 'AS12']"
       ]
      },
      {
       "output_type": "stream",
       "stream": "stdout",
       "text": [
        "\n",
        "dist_true 1864.3km dist_current 651.4 ttrs 727.8 stas ['SNAA' 'STKA' 'CM16' 'WR1' 'JNU' 'NB200' 'YKR8' 'PEA0' 'NWAO' 'QSPA'\n",
        " 'AS12' 'JKA' 'AAK' 'KBZ' 'JHJ' 'FITZ' 'BVA0' 'IL31' 'USA0' 'MK31']"
       ]
      },
      {
       "output_type": "stream",
       "stream": "stdout",
       "text": [
        "\n",
        "dist_true 1800.0km dist_current 557.4 ttrs 715.7 stas ['JKA' 'CM16' 'STKA' 'YKR8' 'SNAA' 'FITZ' 'USA0' 'IL31' 'KBZ' 'PEA0' 'VNDA'\n",
        " 'NB200' 'QSPA' 'NWAO' 'AAK' 'FIA0' 'JNU' 'JHJ' 'MK31' 'WR1']"
       ]
      },
      {
       "output_type": "stream",
       "stream": "stdout",
       "text": [
        "\n",
        "dist_true 1759.8km dist_current 514.7 ttrs 709.6 stas ['VNDA' 'QSPA' 'FIA0' 'CM16' 'USA0' 'SNAA' 'MK31' 'JKA' 'WR1' 'STKA'\n",
        " 'NB200' 'FITZ' 'KBZ' 'IL31' 'JNU' 'AAK' 'BVA0' 'NWAO' 'YKR8' 'JHJ']"
       ]
      },
      {
       "output_type": "stream",
       "stream": "stdout",
       "text": [
        "\n",
        "dist_true 1825.1km dist_current 673.1 ttrs 734.0 stas ['SNAA' 'NWAO' 'NB200' 'QSPA' 'YKR8' 'FIA0' 'CM16' 'JNU' 'WR1' 'STKA' 'KBZ'\n",
        " 'FITZ' 'JHJ' 'PEA0' 'IL31' 'JKA' 'AAK' 'BVA0' 'USA0' 'MK31']"
       ]
      },
      {
       "output_type": "stream",
       "stream": "stdout",
       "text": [
        "\n",
        "dist_true 1609.8km dist_current 453.2 ttrs 704.0 stas ['QSPA' 'USA0' 'SNAA' 'PEA0' 'JHJ' 'WR1' 'NB200' 'IL31' 'JKA' 'JNU' 'AAK'\n",
        " 'STKA' 'VNDA' 'YKR8' 'AS12' 'CM16' 'MK31' 'FIA0' 'NWAO' 'KBZ']"
       ]
      },
      {
       "output_type": "stream",
       "stream": "stdout",
       "text": [
        "\n",
        "dist_true 1958.9km dist_current 810.7 ttrs 754.7 stas ['NWAO' 'WR1' 'STKA' 'FIA0' 'IL31' 'QSPA' 'MK31' 'FITZ' 'SNAA' 'YKR8'\n",
        " 'PEA0' 'KBZ' 'USA0' 'JNU' 'NB200' 'JKA' 'BVA0' 'AAK' 'AS12' 'JHJ']"
       ]
      },
      {
       "output_type": "stream",
       "stream": "stdout",
       "text": [
        "\n",
        "dist_true 1930.3km dist_current 672.2 ttrs 732.0 stas ['NB200' 'JNU' 'AAK' 'PEA0' 'FITZ' 'MK31' 'USA0' 'QSPA' 'YKR8' 'WR1' 'FIA0'\n",
        " 'AS12' 'SNAA' 'BVA0' 'IL31' 'JHJ' 'VNDA' 'JKA' 'KBZ' 'STKA']"
       ]
      },
      {
       "output_type": "stream",
       "stream": "stdout",
       "text": [
        "\n",
        "dist_true 1984.4km dist_current 662.1 ttrs 722.7 stas ['USA0' 'BVA0' 'YKR8' 'STKA' 'MK31' 'FIA0' 'NB200' 'CM16' 'SNAA' 'AS12'\n",
        " 'AAK' 'FITZ' 'QSPA' 'PEA0' 'JHJ' 'JKA' 'KBZ' 'NWAO' 'WR1' 'VNDA']"
       ]
      },
      {
       "output_type": "stream",
       "stream": "stdout",
       "text": [
        "\n",
        "dist_true 1799.1km dist_current 517.3 ttrs 711.2 stas ['STKA' 'USA0' 'AS12' 'MK31' 'FIA0' 'FITZ' 'JHJ' 'SNAA' 'AAK' 'WR1' 'JKA'\n",
        " 'CM16' 'VNDA' 'NWAO' 'YKR8' 'BVA0' 'QSPA' 'NB200' 'JNU' 'IL31']"
       ]
      },
      {
       "output_type": "stream",
       "stream": "stdout",
       "text": [
        "\n",
        "dist_true 1803.9km dist_current 423.5 ttrs 685.1 stas ['WR1' 'VNDA' 'IL31' 'NWAO' 'QSPA' 'JKA' 'MK31' 'SNAA' 'FITZ' 'STKA' 'CM16'\n",
        " 'BVA0' 'AS12' 'USA0' 'AAK' 'YKR8' 'KBZ' 'FIA0' 'PEA0' 'JHJ']"
       ]
      },
      {
       "output_type": "stream",
       "stream": "stdout",
       "text": [
        "\n",
        "dist_true 1790.8km dist_current 582.7 ttrs 723.1 stas ['NWAO' 'QSPA' 'SNAA' 'YKR8' 'AAK' 'CM16' 'JKA' 'WR1' 'STKA' 'BVA0' 'PEA0'\n",
        " 'NB200' 'VNDA' 'FIA0' 'FITZ' 'IL31' 'JNU' 'JHJ' 'KBZ' 'MK31']"
       ]
      },
      {
       "output_type": "stream",
       "stream": "stdout",
       "text": [
        "\n",
        "dist_true 1788.5km dist_current 613.6 ttrs 732.9 stas ['QSPA' 'PEA0' 'MK31' 'JKA' 'YKR8' 'JNU' 'FITZ' 'KBZ' 'CM16' 'IL31' 'USA0'\n",
        " 'WR1' 'FIA0' 'STKA' 'BVA0' 'NB200' 'AAK' 'SNAA' 'NWAO' 'VNDA']"
       ]
      },
      {
       "output_type": "stream",
       "stream": "stdout",
       "text": [
        "\n",
        "dist_true 1907.1km dist_current 668.1 ttrs 728.6 stas ['MK31' 'FIA0' 'BVA0' 'NWAO' 'CM16' 'WR1' 'VNDA' 'JHJ' 'FITZ' 'JNU' 'STKA'\n",
        " 'IL31' 'AAK' 'AS12' 'QSPA' 'USA0' 'NB200' 'JKA' 'PEA0' 'KBZ']"
       ]
      },
      {
       "output_type": "stream",
       "stream": "stdout",
       "text": [
        "\n",
        "dist_true 1794.0km dist_current 536.3 ttrs 710.5 stas ['SNAA' 'USA0' 'STKA' 'QSPA' 'WR1' 'JNU' 'PEA0' 'BVA0' 'CM16' 'YKR8' 'FIA0'\n",
        " 'KBZ' 'JKA' 'AAK' 'JHJ' 'FITZ' 'NWAO' 'VNDA' 'IL31' 'MK31']"
       ]
      },
      {
       "output_type": "stream",
       "stream": "stdout",
       "text": [
        "\n",
        "dist_true 2058.3km dist_current 841.0 ttrs 752.1 stas ['STKA' 'SNAA' 'BVA0' 'AS12' 'USA0' 'JKA' 'KBZ' 'PEA0' 'WR1' 'FITZ' 'NWAO'\n",
        " 'MK31' 'JNU' 'CM16' 'VNDA' 'YKR8' 'JHJ' 'FIA0' 'NB200' 'QSPA']"
       ]
      },
      {
       "output_type": "stream",
       "stream": "stdout",
       "text": [
        "\n",
        "dist_true 1852.8km dist_current 157.9 ttrs 629.9 stas ['AS12' 'FIA0' 'KBZ' 'NWAO' 'USA0' 'IL31' 'YKR8' 'CM16' 'MK31' 'JKA'\n",
        " 'NB200' 'JHJ' 'QSPA' 'SNAA' 'VNDA' 'FITZ' 'BVA0' 'WR1' 'PEA0' 'AAK']"
       ]
      },
      {
       "output_type": "stream",
       "stream": "stdout",
       "text": [
        "\n",
        "dist_true 1752.9km dist_current 608.8 ttrs 727.7 stas ['CM16' 'KBZ' 'VNDA' 'JNU' 'FIA0' 'STKA' 'NWAO' 'AAK' 'PEA0' 'AS12' 'QSPA'\n",
        " 'JKA' 'USA0' 'YKR8' 'MK31' 'NB200' 'JHJ' 'BVA0' 'FITZ' 'IL31']"
       ]
      },
      {
       "output_type": "stream",
       "stream": "stdout",
       "text": [
        "\n"
       ]
      },
      {
       "metadata": {},
       "output_type": "display_data",
       "png": "[encoded data removed]",
       "text": [
        "<matplotlib.figure.Figure at 0x437fc10>"
       ]
      }
     ],
     "prompt_number": 5
    },
    {
     "cell_type": "code",
     "collapsed": false,
     "input": [
      "wn = sg.all_nodes['wave_FITZ_BHZ_freq_2.0_3.0_1238889600.0']\n",
      "t1nodes = sg.get_template_nodes(eid=1, phase=\"P\", sta=wn.sta, band=wn.band, chan=wn.chan)\n",
      "t2nodes = sg.get_template_nodes(eid=3, phase=\"P\", sta=wn.sta, band=wn.band, chan=wn.chan)\n",
      "\n",
      "def swap_params(t1nodes, t2nodes):\n",
      "    for (p, (k1, n1)) in t1nodes.items():\n",
      "        if p==\"amp_transfer\" or p==\"tt_residual\":\n",
      "            continue\n",
      "        k2, n2 = t2nodes[p]\n",
      "        v1 = n1.get_value(key=k1)\n",
      "        v2 = n2.get_value(key=k2)\n",
      "        n1.set_value(key=k1, value=v2)\n",
      "        n2.set_value(key=k2, value=v1)\n",
      "\n",
      "        if p == \"arrival_time\":\n",
      "            atime1, atime2 = v1, v2\n",
      "    return atime1, atime2\n",
      "\n",
      "swap_params(t1nodes, t2nodes)"
     ],
     "language": "python",
     "metadata": {},
     "outputs": [
      {
       "metadata": {},
       "output_type": "pyout",
       "prompt_number": 6,
       "text": [
        "(1238890267.9310856, 1238889999.346314)"
       ]
      }
     ],
     "prompt_number": 6
    },
    {
     "cell_type": "code",
     "collapsed": false,
     "input": [
      "proposal_dist(n_stations=20, eid=1)"
     ],
     "language": "python",
     "metadata": {},
     "outputs": [
      {
       "output_type": "stream",
       "stream": "stdout",
       "text": [
        "current sum tts 719.16162053\n",
        "true sum tts 1491.10063089\n",
        "dist_true 1424.5km dist_current 686.6 ttrs 777.1 stas ['FITZ' 'STKA' 'SNAA' 'PEA0' 'MK31' 'JHJ' 'AS12' 'NB200' 'JKA' 'BVA0'\n",
        " 'QSPA' 'USA0' 'VNDA' 'JNU' 'KBZ' 'WR1' 'FIA0' 'YKR8' 'IL31' 'NWAO']"
       ]
      },
      {
       "output_type": "stream",
       "stream": "stdout",
       "text": [
        "\n",
        "dist_true 1522.4km dist_current 570.8 ttrs 780.6 stas ['KBZ' 'YKR8' 'USA0' 'BVA0' 'JNU' 'MK31' 'FITZ' 'FIA0' 'CM16' 'NB200'\n",
        " 'IL31' 'STKA' 'AAK' 'WR1' 'AS12' 'QSPA' 'NWAO' 'PEA0' 'SNAA' 'VNDA']"
       ]
      },
      {
       "output_type": "stream",
       "stream": "stdout",
       "text": [
        "\n",
        "dist_true 1401.9km dist_current 558.7 ttrs 763.0 stas ['NB200' 'MK31' 'AAK' 'SNAA' 'BVA0' 'YKR8' 'JNU' 'USA0' 'JHJ' 'NWAO' 'FIA0'\n",
        " 'WR1' 'JKA' 'CM16' 'AS12' 'IL31' 'STKA' 'VNDA' 'PEA0' 'FITZ']"
       ]
      },
      {
       "output_type": "stream",
       "stream": "stdout",
       "text": [
        "\n",
        "dist_true 1166.4km dist_current 734.3 ttrs 1051.2 stas ['IL31' 'QSPA' 'WR1' 'AAK' 'USA0' 'MK31' 'KBZ' 'STKA' 'JNU' 'JKA' 'YKR8'\n",
        " 'BVA0' 'VNDA' 'NWAO' 'FITZ' 'JHJ' 'FIA0' 'PEA0' 'CM16' 'NB200']"
       ]
      },
      {
       "output_type": "stream",
       "stream": "stdout",
       "text": [
        "\n",
        "dist_true 1449.2km dist_current 488.6 ttrs 813.2 stas ['IL31' 'JNU' 'PEA0' 'NWAO' 'USA0' 'AAK' 'BVA0' 'CM16' 'AS12' 'MK31' 'KBZ'\n",
        " 'VNDA' 'SNAA' 'QSPA' 'JHJ' 'JKA' 'NB200' 'FITZ' 'STKA' 'YKR8']"
       ]
      },
      {
       "output_type": "stream",
       "stream": "stdout",
       "text": [
        "\n",
        "dist_true 1565.4km dist_current 628.8 ttrs 810.7 stas ['NB200' 'FIA0' 'PEA0' 'CM16' 'SNAA' 'KBZ' 'BVA0' 'AS12' 'USA0' 'JHJ'\n",
        " 'YKR8' 'MK31' 'IL31' 'STKA' 'JNU' 'NWAO' 'JKA' 'WR1' 'QSPA' 'FITZ']"
       ]
      },
      {
       "output_type": "stream",
       "stream": "stdout",
       "text": [
        "\n",
        "dist_true 1412.6km dist_current 485.8 ttrs 768.8 stas ['KBZ' 'STKA' 'JKA' 'FITZ' 'YKR8' 'USA0' 'BVA0' 'PEA0' 'NWAO' 'SNAA' 'AS12'\n",
        " 'IL31' 'JNU' 'WR1' 'CM16' 'FIA0' 'MK31' 'QSPA' 'JHJ' 'NB200']"
       ]
      },
      {
       "output_type": "stream",
       "stream": "stdout",
       "text": [
        "\n",
        "dist_true 1580.9km dist_current 495.7 ttrs 787.6 stas ['SNAA' 'KBZ' 'MK31' 'QSPA' 'IL31' 'WR1' 'CM16' 'JNU' 'NWAO' 'STKA' 'PEA0'\n",
        " 'BVA0' 'JKA' 'USA0' 'VNDA' 'AS12' 'NB200' 'FIA0' 'YKR8' 'AAK']"
       ]
      },
      {
       "output_type": "stream",
       "stream": "stdout",
       "text": [
        "\n",
        "dist_true 1455.7km dist_current 493.9 ttrs 796.6 stas ['KBZ' 'JHJ' 'USA0' 'AAK' 'VNDA' 'JNU' 'NWAO' 'YKR8' 'STKA' 'IL31' 'SNAA'\n",
        " 'FIA0' 'FITZ' 'WR1' 'BVA0' 'AS12' 'PEA0' 'QSPA' 'NB200' 'MK31']"
       ]
      },
      {
       "output_type": "stream",
       "stream": "stdout",
       "text": [
        "\n",
        "dist_true 1415.6km dist_current 650.3 ttrs 773.9 stas ['CM16' 'VNDA' 'USA0' 'JHJ' 'WR1' 'JKA' 'AS12' 'PEA0' 'QSPA' 'STKA' 'IL31'\n",
        " 'KBZ' 'SNAA' 'FIA0' 'NWAO' 'YKR8' 'FITZ' 'NB200' 'MK31' 'JNU']"
       ]
      },
      {
       "output_type": "stream",
       "stream": "stdout",
       "text": [
        "\n",
        "dist_true 1555.5km dist_current 615.2 ttrs 807.5 stas ['FIA0' 'JNU' 'PEA0' 'BVA0' 'WR1' 'USA0' 'JHJ' 'NB200' 'QSPA' 'SNAA' 'CM16'\n",
        " 'IL31' 'YKR8' 'STKA' 'NWAO' 'JKA' 'VNDA' 'FITZ' 'MK31' 'AS12']"
       ]
      },
      {
       "output_type": "stream",
       "stream": "stdout",
       "text": [
        "\n",
        "dist_true 1550.9km dist_current 609.0 ttrs 805.7 stas ['QSPA' 'JKA' 'CM16' 'FIA0' 'YKR8' 'NWAO' 'AS12' 'JHJ' 'AAK' 'PEA0' 'IL31'\n",
        " 'VNDA' 'FITZ' 'BVA0' 'NB200' 'JNU' 'SNAA' 'USA0' 'STKA' 'KBZ']"
       ]
      },
      {
       "output_type": "stream",
       "stream": "stdout",
       "text": [
        "\n",
        "dist_true 1428.3km dist_current 700.6 ttrs 778.3 stas ['WR1' 'JHJ' 'JNU' 'NWAO' 'NB200' 'IL31' 'JKA' 'CM16' 'AS12' 'FIA0' 'SNAA'\n",
        " 'FITZ' 'PEA0' 'QSPA' 'BVA0' 'VNDA' 'MK31' 'KBZ' 'USA0' 'YKR8']"
       ]
      },
      {
       "output_type": "stream",
       "stream": "stdout",
       "text": [
        "\n",
        "dist_true 1427.5km dist_current 697.7 ttrs 783.5 stas ['JKA' 'IL31' 'VNDA' 'AS12' 'NWAO' 'AAK' 'QSPA' 'USA0' 'KBZ' 'JHJ' 'YKR8'\n",
        " 'FIA0' 'MK31' 'JNU' 'SNAA' 'NB200' 'BVA0' 'PEA0' 'FITZ' 'WR1']"
       ]
      },
      {
       "output_type": "stream",
       "stream": "stdout",
       "text": [
        "\n",
        "dist_true 1413.2km dist_current 638.9 ttrs 763.9 stas ['AS12' 'MK31' 'NWAO' 'JNU' 'JHJ' 'WR1' 'AAK' 'CM16' 'YKR8' 'USA0' 'FITZ'\n",
        " 'NB200' 'IL31' 'FIA0' 'STKA' 'PEA0' 'VNDA' 'SNAA' 'JKA' 'QSPA']"
       ]
      },
      {
       "output_type": "stream",
       "stream": "stdout",
       "text": [
        "\n",
        "dist_true 1493.0km dist_current 533.4 ttrs 782.1 stas ['STKA' 'BVA0' 'USA0' 'KBZ' 'SNAA' 'NB200' 'MK31' 'YKR8' 'VNDA' 'CM16'\n",
        " 'AAK' 'PEA0' 'QSPA' 'IL31' 'AS12' 'WR1' 'NWAO' 'JKA' 'FITZ' 'JNU']"
       ]
      },
      {
       "output_type": "stream",
       "stream": "stdout",
       "text": [
        "\n",
        "dist_true 1591.2km dist_current 445.5 ttrs 769.7 stas ['YKR8' 'VNDA' 'MK31' 'IL31' 'QSPA' 'JKA' 'CM16' 'PEA0' 'NB200' 'FIA0'\n",
        " 'AAK' 'AS12' 'WR1' 'USA0' 'STKA' 'BVA0' 'JHJ' 'JNU' 'KBZ' 'SNAA']"
       ]
      },
      {
       "output_type": "stream",
       "stream": "stdout",
       "text": [
        "\n",
        "dist_true 2877.8km dist_current 2174.4 ttrs 1166.3 stas ['AAK' 'FIA0' 'PEA0' 'CM16' 'YKR8' 'USA0' 'MK31' 'NB200' 'VNDA' 'SNAA'\n",
        " 'NWAO' 'IL31' 'JKA' 'KBZ' 'WR1' 'STKA' 'FITZ' 'QSPA' 'JNU' 'BVA0']"
       ]
      },
      {
       "output_type": "stream",
       "stream": "stdout",
       "text": [
        "\n",
        "dist_true 1423.2km dist_current 681.8 ttrs 786.5 stas ['JKA' 'JNU' 'AS12' 'JHJ' 'VNDA' 'USA0' 'NWAO' 'STKA' 'AAK' 'SNAA' 'CM16'\n",
        " 'IL31' 'FITZ' 'MK31' 'KBZ' 'WR1' 'FIA0' 'PEA0' 'NB200' 'QSPA']"
       ]
      },
      {
       "output_type": "stream",
       "stream": "stdout",
       "text": [
        "\n",
        "dist_true 1429.3km dist_current 479.0 ttrs 764.3 stas ['FIA0' 'WR1' 'KBZ' 'BVA0' 'FITZ' 'PEA0' 'MK31' 'YKR8' 'JHJ' 'QSPA' 'USA0'\n",
        " 'AAK' 'NB200' 'CM16' 'AS12' 'SNAA' 'VNDA' 'JKA' 'JNU' 'STKA']"
       ]
      },
      {
       "output_type": "stream",
       "stream": "stdout",
       "text": [
        "\n",
        "dist_true 1250.6km dist_current 648.3 ttrs 1026.6 stas ['KBZ' 'MK31' 'QSPA' 'JNU' 'PEA0' 'IL31' 'USA0' 'NB200' 'JHJ' 'VNDA' 'STKA'\n",
        " 'NWAO' 'AAK' 'FIA0' 'AS12' 'FITZ' 'BVA0' 'CM16' 'WR1' 'JKA']"
       ]
      },
      {
       "output_type": "stream",
       "stream": "stdout",
       "text": [
        "\n",
        "dist_true 2258.0km dist_current 1498.9 ttrs 1013.4 stas ['PEA0' 'JKA' 'AS12' 'QSPA' 'JNU' 'KBZ' 'FIA0' 'FITZ' 'STKA' 'JHJ' 'IL31'\n",
        " 'NWAO' 'WR1' 'USA0' 'NB200' 'SNAA' 'AAK' 'VNDA' 'MK31' 'CM16']"
       ]
      },
      {
       "output_type": "stream",
       "stream": "stdout",
       "text": [
        "\n",
        "dist_true 1438.1km dist_current 481.8 ttrs 777.7 stas ['QSPA' 'KBZ' 'NWAO' 'SNAA' 'AAK' 'FIA0' 'JNU' 'WR1' 'AS12' 'IL31' 'PEA0'\n",
        " 'USA0' 'BVA0' 'FITZ' 'JHJ' 'YKR8' 'VNDA' 'CM16' 'STKA' 'NB200']"
       ]
      },
      {
       "output_type": "stream",
       "stream": "stdout",
       "text": [
        "\n",
        "dist_true 1564.5km dist_current 627.6 ttrs 811.0 stas ['WR1' 'JKA' 'PEA0' 'STKA' 'QSPA' 'MK31' 'YKR8' 'JHJ' 'NWAO' 'VNDA' 'JNU'\n",
        " 'BVA0' 'NB200' 'SNAA' 'AAK' 'FIA0' 'CM16' 'AS12' 'FITZ' 'IL31']"
       ]
      },
      {
       "output_type": "stream",
       "stream": "stdout",
       "text": [
        "\n",
        "dist_true 1408.1km dist_current 611.7 ttrs 826.1 stas ['NWAO' 'JKA' 'AAK' 'WR1' 'KBZ' 'CM16' 'QSPA' 'STKA' 'PEA0' 'JHJ' 'FITZ'\n",
        " 'NB200' 'VNDA' 'USA0' 'AS12' 'YKR8' 'FIA0' 'MK31' 'IL31' 'SNAA']"
       ]
      },
      {
       "output_type": "stream",
       "stream": "stdout",
       "text": [
        "\n",
        "dist_true 1889.2km dist_current 1059.5 ttrs 928.6 stas ['FIA0' 'IL31' 'JNU' 'USA0' 'NWAO' 'PEA0' 'JKA' 'STKA' 'MK31' 'JHJ' 'CM16'\n",
        " 'KBZ' 'QSPA' 'WR1' 'AAK' 'BVA0' 'FITZ' 'VNDA' 'NB200' 'SNAA']"
       ]
      },
      {
       "output_type": "stream",
       "stream": "stdout",
       "text": [
        "\n",
        "dist_true 2043.6km dist_current 1722.0 ttrs 1076.0 stas ['USA0' 'BVA0' 'JNU' 'PEA0' 'MK31' 'FITZ' 'NB200' 'KBZ' 'STKA' 'IL31'\n",
        " 'CM16' 'QSPA' 'WR1' 'VNDA' 'AS12' 'JHJ' 'FIA0' 'SNAA' 'JKA' 'NWAO']"
       ]
      },
      {
       "output_type": "stream",
       "stream": "stdout",
       "text": [
        "\n",
        "dist_true 1514.8km dist_current 560.9 ttrs 790.2 stas ['CM16' 'AS12' 'SNAA' 'FIA0' 'JKA' 'FITZ' 'JNU' 'USA0' 'JHJ' 'NWAO' 'NB200'\n",
        " 'KBZ' 'VNDA' 'MK31' 'PEA0' 'YKR8' 'AAK' 'STKA' 'QSPA' 'IL31']"
       ]
      },
      {
       "output_type": "stream",
       "stream": "stdout",
       "text": [
        "\n",
        "dist_true 1690.7km dist_current 801.0 ttrs 833.5 stas ['JNU' 'MK31' 'AAK' 'WR1' 'SNAA' 'VNDA' 'NB200' 'KBZ' 'NWAO' 'JHJ' 'PEA0'\n",
        " 'FIA0' 'BVA0' 'AS12' 'QSPA' 'USA0' 'CM16' 'FITZ' 'STKA' 'JKA']"
       ]
      },
      {
       "output_type": "stream",
       "stream": "stdout",
       "text": [
        "\n",
        "dist_true 1401.7km dist_current 527.9 ttrs 793.2 stas ['MK31' 'CM16' 'BVA0' 'IL31' 'FIA0' 'JKA' 'AS12' 'NB200' 'NWAO' 'FITZ'\n",
        " 'AAK' 'PEA0' 'SNAA' 'STKA' 'JHJ' 'KBZ' 'USA0' 'QSPA' 'YKR8' 'JNU']"
       ]
      },
      {
       "output_type": "stream",
       "stream": "stdout",
       "text": [
        "\n",
        "dist_true 1407.6km dist_current 495.0 ttrs 764.9 stas ['JNU' 'KBZ' 'IL31' 'STKA' 'MK31' 'PEA0' 'JHJ' 'FITZ' 'AAK' 'QSPA' 'NB200'\n",
        " 'YKR8' 'NWAO' 'AS12' 'JKA' 'CM16' 'WR1' 'SNAA' 'BVA0' 'VNDA']"
       ]
      },
      {
       "output_type": "stream",
       "stream": "stdout",
       "text": [
        "\n",
        "dist_true 2153.1km dist_current 1378.0 ttrs 983.8 stas ['PEA0' 'KBZ' 'MK31' 'BVA0' 'FITZ' 'NWAO' 'NB200' 'FIA0' 'YKR8' 'IL31'\n",
        " 'USA0' 'AAK' 'AS12' 'CM16' 'JNU' 'QSPA' 'SNAA' 'VNDA' 'JKA' 'STKA']"
       ]
      },
      {
       "output_type": "stream",
       "stream": "stdout",
       "text": [
        "\n",
        "dist_true 1265.9km dist_current 632.5 ttrs 1025.3 stas ['FIA0' 'CM16' 'FITZ' 'JHJ' 'JKA' 'QSPA' 'AS12' 'AAK' 'USA0' 'JNU' 'NWAO'\n",
        " 'YKR8' 'PEA0' 'MK31' 'STKA' 'IL31' 'WR1' 'VNDA' 'BVA0' 'KBZ']"
       ]
      },
      {
       "output_type": "stream",
       "stream": "stdout",
       "text": [
        "\n",
        "dist_true 1415.6km dist_current 482.7 ttrs 783.9 stas ['STKA' 'WR1' 'AS12' 'AAK' 'USA0' 'FITZ' 'KBZ' 'YKR8' 'CM16' 'MK31' 'BVA0'\n",
        " 'JHJ' 'JNU' 'JKA' 'IL31' 'SNAA' 'NWAO' 'NB200' 'PEA0' 'FIA0']"
       ]
      },
      {
       "output_type": "stream",
       "stream": "stdout",
       "text": [
        "\n",
        "dist_true 1555.6km dist_current 615.5 ttrs 799.7 stas ['FIA0' 'BVA0' 'CM16' 'PEA0' 'STKA' 'AAK' 'JKA' 'SNAA' 'WR1' 'IL31' 'VNDA'\n",
        " 'FITZ' 'JNU' 'QSPA' 'NB200' 'USA0' 'KBZ' 'NWAO' 'AS12' 'JHJ']"
       ]
      },
      {
       "output_type": "stream",
       "stream": "stdout",
       "text": [
        "\n",
        "dist_true 1401.3km dist_current 543.1 ttrs 791.8 stas ['IL31' 'BVA0' 'STKA' 'VNDA' 'NWAO' 'JHJ' 'AAK' 'JKA' 'FIA0' 'CM16' 'MK31'\n",
        " 'YKR8' 'AS12' 'SNAA' 'JNU' 'FITZ' 'QSPA' 'PEA0' 'WR1' 'NB200']"
       ]
      },
      {
       "output_type": "stream",
       "stream": "stdout",
       "text": [
        "\n",
        "dist_true 1402.2km dist_current 520.8 ttrs 770.4 stas ['FIA0' 'AS12' 'STKA' 'USA0' 'IL31' 'CM16' 'FITZ' 'MK31' 'JNU' 'SNAA' 'KBZ'\n",
        " 'NWAO' 'JKA' 'QSPA' 'BVA0' 'AAK' 'YKR8' 'NB200' 'JHJ' 'VNDA']"
       ]
      },
      {
       "output_type": "stream",
       "stream": "stdout",
       "text": [
        "\n",
        "dist_true 1606.1km dist_current 442.9 ttrs 770.8 stas ['MK31' 'AAK' 'SNAA' 'JNU' 'FIA0' 'BVA0' 'VNDA' 'AS12' 'YKR8' 'KBZ' 'JKA'\n",
        " 'CM16' 'WR1' 'USA0' 'JHJ' 'QSPA' 'NWAO' 'IL31' 'PEA0' 'STKA']"
       ]
      },
      {
       "output_type": "stream",
       "stream": "stdout",
       "text": [
        "\n",
        "dist_true 1467.7km dist_current 505.1 ttrs 793.6 stas ['YKR8' 'JKA' 'STKA' 'SNAA' 'NB200' 'AAK' 'FITZ' 'KBZ' 'NWAO' 'MK31' 'IL31'\n",
        " 'WR1' 'FIA0' 'USA0' 'JHJ' 'BVA0' 'QSPA' 'AS12' 'CM16' 'PEA0']"
       ]
      },
      {
       "output_type": "stream",
       "stream": "stdout",
       "text": [
        "\n",
        "dist_true 1607.8km dist_current 441.7 ttrs 770.2 stas ['JKA' 'YKR8' 'STKA' 'VNDA' 'QSPA' 'KBZ' 'MK31' 'NWAO' 'BVA0' 'JNU' 'NB200'\n",
        " 'CM16' 'IL31' 'AAK' 'PEA0' 'WR1' 'SNAA' 'JHJ' 'USA0' 'AS12']"
       ]
      },
      {
       "output_type": "stream",
       "stream": "stdout",
       "text": [
        "\n",
        "dist_true 1474.6km dist_current 512.4 ttrs 775.1 stas ['STKA' 'MK31' 'NB200' 'BVA0' 'JNU' 'VNDA' 'AAK' 'SNAA' 'AS12' 'FIA0' 'JHJ'\n",
        " 'CM16' 'QSPA' 'NWAO' 'PEA0' 'WR1' 'FITZ' 'USA0' 'YKR8' 'KBZ']"
       ]
      },
      {
       "output_type": "stream",
       "stream": "stdout",
       "text": [
        "\n",
        "dist_true 1449.0km dist_current 488.5 ttrs 783.1 stas ['KBZ' 'FIA0' 'BVA0' 'WR1' 'JHJ' 'STKA' 'NWAO' 'CM16' 'YKR8' 'NB200' 'AAK'\n",
        " 'AS12' 'QSPA' 'MK31' 'VNDA' 'SNAA' 'FITZ' 'PEA0' 'JNU' 'IL31']"
       ]
      },
      {
       "output_type": "stream",
       "stream": "stdout",
       "text": [
        "\n",
        "dist_true 1451.7km dist_current 490.6 ttrs 795.5 stas ['FITZ' 'JHJ' 'CM16' 'YKR8' 'QSPA' 'IL31' 'VNDA' 'NWAO' 'STKA' 'SNAA'\n",
        " 'MK31' 'PEA0' 'USA0' 'NB200' 'AS12' 'AAK' 'JNU' 'BVA0' 'WR1' 'KBZ']"
       ]
      },
      {
       "output_type": "stream",
       "stream": "stdout",
       "text": [
        "\n",
        "dist_true 1409.1km dist_current 491.6 ttrs 776.2 stas ['FITZ' 'QSPA' 'STKA' 'IL31' 'YKR8' 'CM16' 'SNAA' 'FIA0' 'NB200' 'KBZ'\n",
        " 'BVA0' 'JNU' 'WR1' 'NWAO' 'PEA0' 'VNDA' 'JKA' 'JHJ' 'AS12' 'USA0']"
       ]
      },
      {
       "output_type": "stream",
       "stream": "stdout",
       "text": [
        "\n",
        "dist_true 1436.4km dist_current 481.0 ttrs 771.5 stas ['STKA' 'FITZ' 'FIA0' 'SNAA' 'QSPA' 'IL31' 'KBZ' 'AAK' 'NWAO' 'PEA0' 'BVA0'\n",
        " 'MK31' 'VNDA' 'JHJ' 'USA0' 'JKA' 'JNU' 'NB200' 'WR1' 'YKR8']"
       ]
      },
      {
       "output_type": "stream",
       "stream": "stdout",
       "text": [
        "\n",
        "dist_true 1401.6km dist_current 529.7 ttrs 771.8 stas ['NWAO' 'CM16' 'PEA0' 'FIA0' 'STKA' 'QSPA' 'YKR8' 'SNAA' 'KBZ' 'AS12'\n",
        " 'MK31' 'JNU' 'BVA0' 'JHJ' 'FITZ' 'IL31' 'VNDA' 'USA0' 'AAK' 'WR1']"
       ]
      },
      {
       "output_type": "stream",
       "stream": "stdout",
       "text": [
        "\n",
        "dist_true 1499.8km dist_current 541.8 ttrs 783.6 stas ['VNDA' 'AAK' 'CM16' 'NB200' 'FITZ' 'QSPA' 'SNAA' 'JNU' 'IL31' 'NWAO' 'JKA'\n",
        " 'AS12' 'WR1' 'BVA0' 'FIA0' 'KBZ' 'USA0' 'PEA0' 'JHJ' 'STKA']"
       ]
      },
      {
       "output_type": "stream",
       "stream": "stdout",
       "text": [
        "\n",
        "dist_true 1402.9km dist_current 514.1 ttrs 764.7 stas ['NWAO' 'JHJ' 'AS12' 'IL31' 'JKA' 'PEA0' 'NB200' 'BVA0' 'VNDA' 'WR1' 'SNAA'\n",
        " 'YKR8' 'CM16' 'USA0' 'MK31' 'QSPA' 'FITZ' 'JNU' 'AAK' 'KBZ']"
       ]
      },
      {
       "output_type": "stream",
       "stream": "stdout",
       "text": [
        "\n",
        "dist_true 1504.8km dist_current 548.1 ttrs 784.5 stas ['PEA0' 'CM16' 'QSPA' 'STKA' 'NB200' 'VNDA' 'BVA0' 'IL31' 'YKR8' 'NWAO'\n",
        " 'MK31' 'JNU' 'SNAA' 'JHJ' 'FIA0' 'JKA' 'AAK' 'WR1' 'FITZ' 'KBZ']"
       ]
      },
      {
       "output_type": "stream",
       "stream": "stdout",
       "text": [
        "\n",
        "dist_true 1407.6km dist_current 494.9 ttrs 766.3 stas ['NB200' 'KBZ' 'AS12' 'YKR8' 'IL31' 'SNAA' 'JHJ' 'BVA0' 'JNU' 'WR1' 'FITZ'\n",
        " 'CM16' 'STKA' 'VNDA' 'QSPA' 'NWAO' 'MK31' 'USA0' 'AAK' 'JKA']"
       ]
      },
      {
       "output_type": "stream",
       "stream": "stdout",
       "text": [
        "\n"
       ]
      },
      {
       "metadata": {},
       "output_type": "display_data",
       "png": "[encoded data removed]",
       "text": [
        "<matplotlib.figure.Figure at 0x622e6d0>"
       ]
      }
     ],
     "prompt_number": 9
    },
    {
     "cell_type": "code",
     "collapsed": false,
     "input": [
      "proposal_dist(n_stations=3, eid=1)\n",
      "proposal_dist(n_stations=15, eid=1)"
     ],
     "language": "python",
     "metadata": {},
     "outputs": [
      {
       "output_type": "stream",
       "stream": "stdout",
       "text": [
        "current sum tts 719.16162053\n",
        "true sum tts 1491.10063089\n",
        "dist_true 5684.9km dist_current 5584.1 ttrs 3449.6 stas ['NWAO' 'IL31' 'JKA']"
       ]
      },
      {
       "output_type": "stream",
       "stream": "stdout",
       "text": [
        "\n",
        "dist_true 6168.9km dist_current 5770.9 ttrs 4259.4 stas ['PEA0' 'VNDA' 'NWAO']"
       ]
      },
      {
       "output_type": "stream",
       "stream": "stdout",
       "text": [
        "\n",
        "dist_true 1011.8km dist_current 1055.1 ttrs 1159.8 stas ['NB200' 'YKR8' 'KBZ']"
       ]
      },
      {
       "output_type": "stream",
       "stream": "stdout",
       "text": [
        "\n",
        "dist_true 4784.3km dist_current 2886.2 ttrs 3700.4 stas ['JNU' 'JHJ' 'FIA0']"
       ]
      },
      {
       "output_type": "stream",
       "stream": "stdout",
       "text": [
        "\n",
        "dist_true 1940.9km dist_current 53.1 ttrs 758.4 stas ['YKR8' 'BVA0' 'VNDA']"
       ]
      },
      {
       "output_type": "stream",
       "stream": "stdout",
       "text": [
        "\n",
        "dist_true 2262.5km dist_current 736.0 ttrs 881.8 stas ['NB200' 'USA0' 'AS12']"
       ]
      },
      {
       "output_type": "stream",
       "stream": "stdout",
       "text": [
        "\n",
        "dist_true 7657.9km dist_current 9166.3 ttrs 5327.3 stas ['KBZ' 'JKA' 'FIA0']"
       ]
      },
      {
       "output_type": "stream",
       "stream": "stdout",
       "text": [
        "\n",
        "dist_true 6557.0km dist_current 6522.1 ttrs 3636.6 stas ['USA0' 'CM16' 'NB200']"
       ]
      },
      {
       "output_type": "stream",
       "stream": "stdout",
       "text": [
        "\n",
        "dist_true 1813.4km dist_current 580.6 ttrs 841.2 stas ['BVA0' 'JHJ' 'AS12']"
       ]
      },
      {
       "output_type": "stream",
       "stream": "stdout",
       "text": [
        "\n",
        "dist_true 1409.6km dist_current 916.2 ttrs 2327.4 stas ['JKA' 'CM16' 'AS12']"
       ]
      },
      {
       "output_type": "stream",
       "stream": "stdout",
       "text": [
        "\n",
        "dist_true 5288.0km dist_current 5775.0 ttrs 4647.7 stas ['IL31' 'AS12' 'STKA']"
       ]
      },
      {
       "output_type": "stream",
       "stream": "stdout",
       "text": [
        "\n",
        "dist_true 2590.4km dist_current 1003.3 ttrs 1042.4 stas ['FIA0' 'WR1' 'USA0']"
       ]
      },
      {
       "output_type": "stream",
       "stream": "stdout",
       "text": [
        "\n",
        "dist_true 1253.0km dist_current 1328.7 ttrs 1441.4 stas ['PEA0' 'AAK' 'QSPA']"
       ]
      },
      {
       "output_type": "stream",
       "stream": "stdout",
       "text": [
        "\n",
        "dist_true 6370.5km dist_current 4808.8 ttrs 5097.5 stas ['USA0' 'AAK' 'JKA']"
       ]
      },
      {
       "output_type": "stream",
       "stream": "stdout",
       "text": [
        "\n",
        "dist_true 5528.3km dist_current 7331.8 ttrs 5327.3 stas ['KBZ' 'NB200' 'JNU']"
       ]
      },
      {
       "output_type": "stream",
       "stream": "stdout",
       "text": [
        "\n",
        "dist_true 1729.0km dist_current 731.0 ttrs 842.1 stas ['KBZ' 'MK31' 'CM16']"
       ]
      },
      {
       "output_type": "stream",
       "stream": "stdout",
       "text": [
        "\n",
        "dist_true 12123.1km dist_current 12516.6 ttrs 6038.1 stas ['AS12' 'WR1' 'PEA0']"
       ]
      },
      {
       "output_type": "stream",
       "stream": "stdout",
       "text": [
        "\n",
        "dist_true 5530.8km dist_current 7334.1 ttrs 5329.3 stas ['NB200' 'KBZ' 'JNU']"
       ]
      },
      {
       "output_type": "stream",
       "stream": "stdout",
       "text": [
        "\n",
        "dist_true 144.9km dist_current 2042.0 ttrs 1675.4 stas ['FIA0' 'MK31' 'JKA']"
       ]
      },
      {
       "output_type": "stream",
       "stream": "stdout",
       "text": [
        "\n",
        "dist_true 335.9km dist_current 1563.6 ttrs 1588.2 stas ['FITZ' 'QSPA' 'YKR8']"
       ]
      },
      {
       "output_type": "stream",
       "stream": "stdout",
       "text": [
        "\n",
        "dist_true 2441.5km dist_current 1437.4 ttrs 1390.3 stas ['PEA0' 'WR1' 'IL31']"
       ]
      },
      {
       "output_type": "stream",
       "stream": "stdout",
       "text": [
        "\n",
        "dist_true 4406.5km dist_current 5914.0 ttrs 3416.6 stas ['FIA0' 'MK31' 'FITZ']"
       ]
      },
      {
       "output_type": "stream",
       "stream": "stdout",
       "text": [
        "\n",
        "dist_true 399.3km dist_current 2273.9 ttrs 2180.9 stas ['JNU' 'JKA' 'AAK']"
       ]
      },
      {
       "output_type": "stream",
       "stream": "stdout",
       "text": [
        "\n",
        "dist_true 2838.8km dist_current 1058.8 ttrs 1649.2 stas ['AAK' 'CM16' 'YKR8']"
       ]
      },
      {
       "output_type": "stream",
       "stream": "stdout",
       "text": [
        "\n",
        "dist_true 1962.1km dist_current 1136.0 ttrs 1055.3 stas ['CM16' 'STKA' 'JHJ']"
       ]
      },
      {
       "output_type": "stream",
       "stream": "stdout",
       "text": [
        "\n",
        "dist_true 9151.1km dist_current 8283.6 ttrs 6082.9 stas ['JNU' 'KBZ' 'STKA']"
       ]
      },
      {
       "output_type": "stream",
       "stream": "stdout",
       "text": [
        "\n",
        "dist_true 2481.5km dist_current 1688.3 ttrs 1487.1 stas ['SNAA' 'NWAO' 'PEA0']"
       ]
      },
      {
       "output_type": "stream",
       "stream": "stdout",
       "text": [
        "\n",
        "dist_true 8157.7km dist_current 6518.2 ttrs 7051.2 stas ['IL31' 'MK31' 'KBZ']"
       ]
      },
      {
       "output_type": "stream",
       "stream": "stdout",
       "text": [
        "\n",
        "dist_true 1429.6km dist_current 1387.4 ttrs 1177.9 stas ['BVA0' 'AAK' 'VNDA']"
       ]
      },
      {
       "output_type": "stream",
       "stream": "stdout",
       "text": [
        "\n",
        "dist_true 6647.1km dist_current 6479.4 ttrs 6813.7 stas ['CM16' 'MK31' 'KBZ']"
       ]
      },
      {
       "output_type": "stream",
       "stream": "stdout",
       "text": [
        "\n",
        "dist_true 2368.6km dist_current 2895.4 ttrs 2616.8 stas ['PEA0' 'CM16' 'JNU']"
       ]
      },
      {
       "output_type": "stream",
       "stream": "stdout",
       "text": [
        "\n",
        "dist_true 9804.7km dist_current 10128.9 ttrs 5641.6 stas ['MK31' 'FITZ' 'JHJ']"
       ]
      },
      {
       "output_type": "stream",
       "stream": "stdout",
       "text": [
        "\n",
        "dist_true 1763.1km dist_current 279.3 ttrs 715.1 stas ['NWAO' 'USA0' 'CM16']"
       ]
      },
      {
       "output_type": "stream",
       "stream": "stdout",
       "text": [
        "\n",
        "better than current tts!\n",
        "dist_true 2006.8km dist_current 2824.8 ttrs 2714.4 stas ['AAK' 'FITZ' 'JNU']"
       ]
      },
      {
       "output_type": "stream",
       "stream": "stdout",
       "text": [
        "\n",
        "dist_true 1249.0km dist_current 2403.7 ttrs 1614.0 stas ['FITZ' 'STKA' 'MK31']"
       ]
      },
      {
       "output_type": "stream",
       "stream": "stdout",
       "text": [
        "\n",
        "dist_true 11535.7km dist_current 10741.1 ttrs 8003.0 stas ['VNDA' 'QSPA' 'WR1']"
       ]
      },
      {
       "output_type": "stream",
       "stream": "stdout",
       "text": [
        "\n",
        "dist_true 4885.0km dist_current 5552.2 ttrs 3020.0 stas ['WR1' 'JNU' 'FITZ']"
       ]
      },
      {
       "output_type": "stream",
       "stream": "stdout",
       "text": [
        "\n",
        "dist_true 2506.2km dist_current 3099.9 ttrs 1988.1 stas ['AAK' 'AS12' 'MK31']"
       ]
      },
      {
       "output_type": "stream",
       "stream": "stdout",
       "text": [
        "\n",
        "dist_true 1492.3km dist_current 1118.3 ttrs 1989.4 stas ['JHJ' 'VNDA' 'JKA']"
       ]
      },
      {
       "output_type": "stream",
       "stream": "stdout",
       "text": [
        "\n",
        "dist_true 16030.8km dist_current 15965.7 ttrs 10741.7 stas ['NB200' 'QSPA' 'YKR8']"
       ]
      },
      {
       "output_type": "stream",
       "stream": "stdout",
       "text": [
        "\n",
        "dist_true 2842.6km dist_current 1485.9 ttrs 1104.2 stas ['BVA0' 'AS12' 'JHJ']"
       ]
      },
      {
       "output_type": "stream",
       "stream": "stdout",
       "text": [
        "\n",
        "dist_true 1434.9km dist_current 754.2 ttrs 1066.3 stas ['BVA0' 'KBZ' 'MK31']"
       ]
      },
      {
       "output_type": "stream",
       "stream": "stdout",
       "text": [
        "\n",
        "dist_true 231.5km dist_current 2093.6 ttrs 1739.9 stas ['JNU' 'JKA' 'IL31']"
       ]
      },
      {
       "output_type": "stream",
       "stream": "stdout",
       "text": [
        "\n",
        "dist_true 1074.4km dist_current 1315.7 ttrs 1218.5 stas ['NWAO' 'IL31' 'FITZ']"
       ]
      },
      {
       "output_type": "stream",
       "stream": "stdout",
       "text": [
        "\n",
        "dist_true 5287.1km dist_current 5786.6 ttrs 4675.8 stas ['YKR8' 'AS12' 'WR1']"
       ]
      },
      {
       "output_type": "stream",
       "stream": "stdout",
       "text": [
        "\n",
        "dist_true 10109.3km dist_current 8280.4 ttrs 11267.0 stas ['NB200' 'IL31' 'YKR8']"
       ]
      },
      {
       "output_type": "stream",
       "stream": "stdout",
       "text": [
        "\n",
        "dist_true 3510.0km dist_current 2825.8 ttrs 1436.0 stas ['SNAA' 'FIA0' 'QSPA']"
       ]
      },
      {
       "output_type": "stream",
       "stream": "stdout",
       "text": [
        "\n",
        "dist_true 2448.2km dist_current 3554.8 ttrs 3101.8 stas ['BVA0' 'CM16' 'JKA']"
       ]
      },
      {
       "output_type": "stream",
       "stream": "stdout",
       "text": [
        "\n",
        "dist_true 1554.1km dist_current 629.7 ttrs 811.9 stas ['MK31' 'IL31' 'NWAO']"
       ]
      },
      {
       "output_type": "stream",
       "stream": "stdout",
       "text": [
        "\n",
        "dist_true 5221.7km dist_current 3997.4 ttrs 4361.3 stas ['JKA' 'KBZ' 'FIA0']"
       ]
      },
      {
       "output_type": "stream",
       "stream": "stdout",
       "text": [
        "\n",
        "current sum tts 719.16162053\n",
        "true sum tts 1491.10063089\n",
        "dist_true 2023.0km dist_current 1696.4 ttrs 1072.2 stas ['NWAO' 'MK31' 'JNU' 'IL31' 'FITZ' 'USA0' 'AS12' 'WR1' 'SNAA' 'JHJ' 'STKA'\n",
        " 'AAK' 'PEA0' 'FIA0' 'JKA']"
       ]
      },
      {
       "output_type": "stream",
       "stream": "stdout",
       "text": [
        "\n",
        "dist_true 1595.8km dist_current 365.3 ttrs 787.2 stas ['PEA0' 'BVA0' 'IL31' 'NB200' 'FIA0' 'SNAA' 'JKA' 'STKA' 'KBZ' 'USA0'\n",
        " 'NWAO' 'VNDA' 'WR1' 'JHJ' 'JNU']"
       ]
      },
      {
       "output_type": "stream",
       "stream": "stdout",
       "text": [
        "\n",
        "dist_true 1406.3km dist_current 600.2 ttrs 763.0 stas ['PEA0' 'AS12' 'AAK' 'VNDA' 'YKR8' 'SNAA' 'JKA' 'JNU' 'KBZ' 'MK31' 'FITZ'\n",
        " 'BVA0' 'WR1' 'USA0' 'CM16']"
       ]
      },
      {
       "output_type": "stream",
       "stream": "stdout",
       "text": [
        "\n",
        "dist_true 1446.9km dist_current 487.0 ttrs 767.7 stas ['BVA0' 'CM16' 'FITZ' 'NB200' 'YKR8' 'AS12' 'SNAA' 'FIA0' 'JNU' 'IL31'\n",
        " 'VNDA' 'JHJ' 'STKA' 'PEA0' 'QSPA']"
       ]
      },
      {
       "output_type": "stream",
       "stream": "stdout",
       "text": [
        "\n",
        "dist_true 1453.1km dist_current 778.4 ttrs 787.6 stas ['JKA' 'USA0' 'SNAA' 'FITZ' 'BVA0' 'STKA' 'FIA0' 'VNDA' 'IL31' 'AS12'\n",
        " 'PEA0' 'MK31' 'JHJ' 'YKR8' 'WR1']"
       ]
      },
      {
       "output_type": "stream",
       "stream": "stdout",
       "text": [
        "\n",
        "dist_true 1500.7km dist_current 471.5 ttrs 753.7 stas ['YKR8' 'AS12' 'FIA0' 'USA0' 'AAK' 'KBZ' 'CM16' 'WR1' 'NWAO' 'PEA0' 'JHJ'\n",
        " 'VNDA' 'JNU' 'NB200' 'FITZ']"
       ]
      },
      {
       "output_type": "stream",
       "stream": "stdout",
       "text": [
        "\n",
        "dist_true 1749.7km dist_current 164.6 ttrs 760.4 stas ['SNAA' 'JNU' 'JKA' 'USA0' 'WR1' 'MK31' 'BVA0' 'CM16' 'AAK' 'AS12' 'KBZ'\n",
        " 'NWAO' 'NB200' 'YKR8' 'PEA0']"
       ]
      },
      {
       "output_type": "stream",
       "stream": "stdout",
       "text": [
        "\n",
        "dist_true 1623.3km dist_current 278.2 ttrs 724.2 stas ['AAK' 'AS12' 'FIA0' 'YKR8' 'CM16' 'STKA' 'USA0' 'KBZ' 'JKA' 'VNDA' 'JHJ'\n",
        " 'IL31' 'BVA0' 'PEA0' 'WR1']"
       ]
      },
      {
       "output_type": "stream",
       "stream": "stdout",
       "text": [
        "\n",
        "dist_true 882.7km dist_current 1026.2 ttrs 1112.1 stas ['JKA' 'JNU' 'NWAO' 'NB200' 'AS12' 'FITZ' 'IL31' 'MK31' 'QSPA' 'STKA'\n",
        " 'BVA0' 'USA0' 'KBZ' 'AAK' 'YKR8']"
       ]
      },
      {
       "output_type": "stream",
       "stream": "stdout",
       "text": [
        "\n",
        "dist_true 1099.5km dist_current 799.3 ttrs 1101.5 stas ['NB200' 'JNU' 'QSPA' 'JHJ' 'PEA0' 'USA0' 'VNDA' 'STKA' 'MK31' 'KBZ' 'FIA0'\n",
        " 'AS12' 'YKR8' 'FITZ' 'BVA0']"
       ]
      },
      {
       "output_type": "stream",
       "stream": "stdout",
       "text": [
        "\n",
        "dist_true 806.5km dist_current 1152.4 ttrs 1158.9 stas ['BVA0' 'USA0' 'MK31' 'AAK' 'JKA' 'IL31' 'FIA0' 'CM16' 'KBZ' 'JHJ' 'YKR8'\n",
        " 'STKA' 'VNDA' 'FITZ' 'NB200']"
       ]
      },
      {
       "output_type": "stream",
       "stream": "stdout",
       "text": [
        "\n",
        "dist_true 1420.5km dist_current 479.7 ttrs 804.3 stas ['VNDA' 'WR1' 'STKA' 'NB200' 'FITZ' 'AS12' 'KBZ' 'AAK' 'FIA0' 'MK31' 'JHJ'\n",
        " 'SNAA' 'YKR8' 'QSPA' 'IL31']"
       ]
      },
      {
       "output_type": "stream",
       "stream": "stdout",
       "text": [
        "\n",
        "dist_true 1524.6km dist_current 573.7 ttrs 837.0 stas ['CM16' 'NB200' 'IL31' 'AAK' 'QSPA' 'JKA' 'JNU' 'USA0' 'BVA0' 'FITZ' 'FIA0'\n",
        " 'SNAA' 'AS12' 'YKR8' 'PEA0']"
       ]
      },
      {
       "output_type": "stream",
       "stream": "stdout",
       "text": [
        "\n",
        "dist_true 1678.1km dist_current 647.1 ttrs 819.9 stas ['STKA' 'AS12' 'PEA0' 'USA0' 'NB200' 'JKA' 'MK31' 'NWAO' 'QSPA' 'AAK'\n",
        " 'BVA0' 'VNDA' 'CM16' 'KBZ' 'JHJ']"
       ]
      },
      {
       "output_type": "stream",
       "stream": "stdout",
       "text": [
        "\n",
        "dist_true 1435.2km dist_current 724.3 ttrs 797.3 stas ['VNDA' 'FITZ' 'FIA0' 'AS12' 'YKR8' 'STKA' 'NB200' 'CM16' 'WR1' 'USA0'\n",
        " 'SNAA' 'JHJ' 'JKA' 'KBZ' 'PEA0']"
       ]
      },
      {
       "output_type": "stream",
       "stream": "stdout",
       "text": [
        "\n",
        "dist_true 1653.3km dist_current 1180.3 ttrs 859.3 stas ['FITZ' 'PEA0' 'SNAA' 'JNU' 'IL31' 'JKA' 'YKR8' 'FIA0' 'BVA0' 'NWAO' 'MK31'\n",
        " 'KBZ' 'STKA' 'JHJ' 'AAK']"
       ]
      },
      {
       "output_type": "stream",
       "stream": "stdout",
       "text": [
        "\n",
        "dist_true 1432.1km dist_current 479.5 ttrs 779.8 stas ['MK31' 'JKA' 'SNAA' 'CM16' 'JHJ' 'YKR8' 'FIA0' 'FITZ' 'USA0' 'NWAO' 'AS12'\n",
        " 'JNU' 'PEA0' 'KBZ' 'IL31']"
       ]
      },
      {
       "output_type": "stream",
       "stream": "stdout",
       "text": [
        "\n",
        "dist_true 1144.6km dist_current 1095.7 ttrs 1118.4 stas ['AAK' 'VNDA' 'WR1' 'MK31' 'NB200' 'BVA0' 'AS12' 'QSPA' 'CM16' 'JNU' 'IL31'\n",
        " 'FIA0' 'FITZ' 'NWAO' 'JKA']"
       ]
      },
      {
       "output_type": "stream",
       "stream": "stdout",
       "text": [
        "\n",
        "dist_true 1206.7km dist_current 758.0 ttrs 1058.0 stas ['FITZ' 'BVA0' 'KBZ' 'USA0' 'JKA' 'PEA0' 'NB200' 'WR1' 'AAK' 'STKA' 'JHJ'\n",
        " 'YKR8' 'IL31' 'VNDA' 'CM16']"
       ]
      },
      {
       "output_type": "stream",
       "stream": "stdout",
       "text": [
        "\n",
        "dist_true 1405.2km dist_current 592.4 ttrs 801.0 stas ['NB200' 'JHJ' 'CM16' 'SNAA' 'YKR8' 'PEA0' 'BVA0' 'STKA' 'AS12' 'NWAO'\n",
        " 'JKA' 'IL31' 'KBZ' 'FITZ' 'VNDA']"
       ]
      },
      {
       "output_type": "stream",
       "stream": "stdout",
       "text": [
        "\n",
        "dist_true 1422.8km dist_current 680.0 ttrs 862.1 stas ['MK31' 'CM16' 'VNDA' 'YKR8' 'IL31' 'SNAA' 'PEA0' 'BVA0' 'STKA' 'NB200'\n",
        " 'JKA' 'FITZ' 'AAK' 'NWAO' 'QSPA']"
       ]
      },
      {
       "output_type": "stream",
       "stream": "stdout",
       "text": [
        "\n",
        "dist_true 1840.7km dist_current 464.6 ttrs 802.8 stas ['BVA0' 'JKA' 'KBZ' 'JNU' 'SNAA' 'FIA0' 'AS12' 'QSPA' 'PEA0' 'WR1' 'JHJ'\n",
        " 'AAK' 'CM16' 'YKR8' 'VNDA']"
       ]
      },
      {
       "output_type": "stream",
       "stream": "stdout",
       "text": [
        "\n",
        "dist_true 1366.0km dist_current 842.1 ttrs 1914.1 stas ['QSPA' 'AAK' 'NWAO' 'NB200' 'PEA0' 'WR1' 'YKR8' 'IL31' 'MK31' 'FIA0'\n",
        " 'VNDA' 'JKA' 'JHJ' 'FITZ' 'AS12']"
       ]
      },
      {
       "output_type": "stream",
       "stream": "stdout",
       "text": [
        "\n",
        "dist_true 1954.0km dist_current 539.6 ttrs 816.3 stas ['JNU' 'BVA0' 'FIA0' 'YKR8' 'VNDA' 'AS12' 'KBZ' 'NWAO' 'NB200' 'WR1' 'MK31'\n",
        " 'QSPA' 'CM16' 'USA0' 'SNAA']"
       ]
      },
      {
       "output_type": "stream",
       "stream": "stdout",
       "text": [
        "\n",
        "dist_true 1454.1km dist_current 492.5 ttrs 827.6 stas ['QSPA' 'PEA0' 'VNDA' 'CM16' 'JNU' 'BVA0' 'FITZ' 'AS12' 'STKA' 'MK31' 'KBZ'\n",
        " 'NWAO' 'NB200' 'JHJ' 'SNAA']"
       ]
      },
      {
       "output_type": "stream",
       "stream": "stdout",
       "text": [
        "\n",
        "dist_true 1857.9km dist_current 594.6 ttrs 836.9 stas ['PEA0' 'BVA0' 'KBZ' 'YKR8' 'CM16' 'WR1' 'VNDA' 'QSPA' 'SNAA' 'AS12' 'FIA0'\n",
        " 'USA0' 'JNU' 'NWAO' 'JKA']"
       ]
      },
      {
       "output_type": "stream",
       "stream": "stdout",
       "text": [
        "\n",
        "dist_true 1005.6km dist_current 974.8 ttrs 1136.8 stas ['STKA' 'JKA' 'PEA0' 'FIA0' 'IL31' 'WR1' 'NB200' 'JHJ' 'AAK' 'YKR8' 'VNDA'\n",
        " 'FITZ' 'KBZ' 'JNU' 'QSPA']"
       ]
      },
      {
       "output_type": "stream",
       "stream": "stdout",
       "text": [
        "\n",
        "dist_true 1519.2km dist_current 566.6 ttrs 795.7 stas ['FIA0' 'STKA' 'WR1' 'AS12' 'PEA0' 'BVA0' 'FITZ' 'NB200' 'SNAA' 'AAK'\n",
        " 'NWAO' 'VNDA' 'QSPA' 'JNU' 'MK31']"
       ]
      },
      {
       "output_type": "stream",
       "stream": "stdout",
       "text": [
        "\n",
        "dist_true 1550.3km dist_current 578.8 ttrs 798.4 stas ['SNAA' 'QSPA' 'VNDA' 'AS12' 'JKA' 'CM16' 'NWAO' 'USA0' 'STKA' 'KBZ' 'MK31'\n",
        " 'AAK' 'BVA0' 'JNU' 'JHJ']"
       ]
      },
      {
       "output_type": "stream",
       "stream": "stdout",
       "text": [
        "\n",
        "dist_true 1521.8km dist_current 570.0 ttrs 805.9 stas ['NWAO' 'SNAA' 'PEA0' 'JNU' 'FITZ' 'VNDA' 'STKA' 'BVA0' 'QSPA' 'WR1' 'FIA0'\n",
        " 'JKA' 'IL31' 'KBZ' 'AS12']"
       ]
      },
      {
       "output_type": "stream",
       "stream": "stdout",
       "text": [
        "\n",
        "dist_true 1401.6km dist_current 552.9 ttrs 777.8 stas ['NWAO' 'NB200' 'SNAA' 'AS12' 'MK31' 'AAK' 'PEA0' 'BVA0' 'JKA' 'STKA'\n",
        " 'CM16' 'IL31' 'USA0' 'FITZ' 'YKR8']"
       ]
      },
      {
       "output_type": "stream",
       "stream": "stdout",
       "text": [
        "\n",
        "dist_true 1537.9km dist_current 378.0 ttrs 798.5 stas ['WR1' 'VNDA' 'FIA0' 'NWAO' 'JKA' 'MK31' 'IL31' 'NB200' 'KBZ' 'STKA' 'AS12'\n",
        " 'JNU' 'JHJ' 'CM16' 'YKR8']"
       ]
      },
      {
       "output_type": "stream",
       "stream": "stdout",
       "text": [
        "\n",
        "dist_true 883.8km dist_current 1026.3 ttrs 1130.5 stas ['FITZ' 'NB200' 'IL31' 'NWAO' 'JHJ' 'MK31' 'JKA' 'FIA0' 'USA0' 'STKA'\n",
        " 'QSPA' 'PEA0' 'JNU' 'VNDA' 'BVA0']"
       ]
      },
      {
       "output_type": "stream",
       "stream": "stdout",
       "text": [
        "\n",
        "dist_true 1454.2km dist_current 492.5 ttrs 768.0 stas ['NWAO' 'STKA' 'FITZ' 'MK31' 'AAK' 'SNAA' 'BVA0' 'USA0' 'CM16' 'JNU' 'YKR8'\n",
        " 'AS12' 'WR1' 'JHJ' 'FIA0']"
       ]
      },
      {
       "output_type": "stream",
       "stream": "stdout",
       "text": [
        "\n",
        "dist_true 1754.9km dist_current 224.3 ttrs 741.0 stas ['MK31' 'WR1' 'FIA0' 'KBZ' 'JKA' 'SNAA' 'YKR8' 'USA0' 'JHJ' 'QSPA' 'NB200'\n",
        " 'AAK' 'CM16' 'VNDA' 'AS12']"
       ]
      },
      {
       "output_type": "stream",
       "stream": "stdout",
       "text": [
        "\n",
        "dist_true 1800.5km dist_current 397.2 ttrs 780.0 stas ['YKR8' 'SNAA' 'JHJ' 'AS12' 'WR1' 'KBZ' 'BVA0' 'FIA0' 'JNU' 'IL31' 'QSPA'\n",
        " 'MK31' 'NWAO' 'PEA0' 'AAK']"
       ]
      },
      {
       "output_type": "stream",
       "stream": "stdout",
       "text": [
        "\n",
        "dist_true 945.0km dist_current 990.7 ttrs 1135.4 stas ['MK31' 'FIA0' 'IL31' 'JHJ' 'YKR8' 'JKA' 'FITZ' 'BVA0' 'NWAO' 'CM16' 'PEA0'\n",
        " 'JNU' 'STKA' 'QSPA' 'VNDA']"
       ]
      },
      {
       "output_type": "stream",
       "stream": "stdout",
       "text": [
        "\n",
        "dist_true 1282.3km dist_current 627.5 ttrs 1042.3 stas ['NWAO' 'KBZ' 'QSPA' 'FITZ' 'FIA0' 'NB200' 'WR1' 'JHJ' 'YKR8' 'AS12' 'IL31'\n",
        " 'MK31' 'BVA0' 'CM16' 'STKA']"
       ]
      },
      {
       "output_type": "stream",
       "stream": "stdout",
       "text": [
        "\n",
        "dist_true 1508.7km dist_current 553.0 ttrs 779.3 stas ['USA0' 'BVA0' 'STKA' 'AS12' 'YKR8' 'JNU' 'MK31' 'AAK' 'NWAO' 'JKA' 'FITZ'\n",
        " 'PEA0' 'SNAA' 'KBZ' 'WR1']"
       ]
      },
      {
       "output_type": "stream",
       "stream": "stdout",
       "text": [
        "\n",
        "dist_true 1646.8km dist_current 350.5 ttrs 776.5 stas ['PEA0' 'JNU' 'AAK' 'WR1' 'SNAA' 'FIA0' 'YKR8' 'NB200' 'KBZ' 'USA0' 'IL31'\n",
        " 'AS12' 'JHJ' 'JKA' 'STKA']"
       ]
      },
      {
       "output_type": "stream",
       "stream": "stdout",
       "text": [
        "\n",
        "dist_true 1234.4km dist_current 665.0 ttrs 1069.9 stas ['IL31' 'CM16' 'USA0' 'YKR8' 'JHJ' 'PEA0' 'STKA' 'JNU' 'MK31' 'VNDA' 'NWAO'\n",
        " 'JKA' 'FITZ' 'WR1' 'KBZ']"
       ]
      },
      {
       "output_type": "stream",
       "stream": "stdout",
       "text": [
        "\n",
        "dist_true 1402.1km dist_current 521.4 ttrs 818.7 stas ['BVA0' 'JHJ' 'QSPA' 'FITZ' 'VNDA' 'STKA' 'CM16' 'IL31' 'WR1' 'SNAA' 'NWAO'\n",
        " 'JKA' 'USA0' 'FIA0' 'YKR8']"
       ]
      },
      {
       "output_type": "stream",
       "stream": "stdout",
       "text": [
        "\n",
        "dist_true 1208.2km dist_current 876.8 ttrs 1053.3 stas ['BVA0' 'FITZ' 'IL31' 'JKA' 'NWAO' 'MK31' 'KBZ' 'PEA0' 'WR1' 'STKA' 'NB200'\n",
        " 'JNU' 'USA0' 'AS12' 'AAK']"
       ]
      },
      {
       "output_type": "stream",
       "stream": "stdout",
       "text": [
        "\n",
        "dist_true 1482.4km dist_current 521.0 ttrs 779.2 stas ['NWAO' 'IL31' 'FITZ' 'JHJ' 'PEA0' 'JNU' 'VNDA' 'AS12' 'YKR8' 'JKA' 'SNAA'\n",
        " 'FIA0' 'QSPA' 'KBZ' 'MK31']"
       ]
      },
      {
       "output_type": "stream",
       "stream": "stdout",
       "text": [
        "\n",
        "dist_true 1435.4km dist_current 464.2 ttrs 769.3 stas ['NWAO' 'FIA0' 'QSPA' 'FITZ' 'YKR8' 'WR1' 'NB200' 'JNU' 'AS12' 'SNAA' 'JHJ'\n",
        " 'KBZ' 'CM16' 'PEA0' 'VNDA']"
       ]
      },
      {
       "output_type": "stream",
       "stream": "stdout",
       "text": [
        "\n",
        "dist_true 1705.4km dist_current 230.0 ttrs 789.4 stas ['VNDA' 'BVA0' 'PEA0' 'WR1' 'MK31' 'SNAA' 'AS12' 'YKR8' 'USA0' 'JKA' 'CM16'\n",
        " 'KBZ' 'JNU' 'IL31' 'NWAO']"
       ]
      },
      {
       "output_type": "stream",
       "stream": "stdout",
       "text": [
        "\n",
        "dist_true 1442.7km dist_current 748.0 ttrs 839.9 stas ['NWAO' 'JNU' 'STKA' 'FIA0' 'SNAA' 'QSPA' 'IL31' 'AS12' 'WR1' 'FITZ' 'BVA0'\n",
        " 'CM16' 'VNDA' 'NB200' 'PEA0']"
       ]
      },
      {
       "output_type": "stream",
       "stream": "stdout",
       "text": [
        "\n",
        "dist_true 1464.9km dist_current 729.9 ttrs 780.9 stas ['JHJ' 'YKR8' 'SNAA' 'PEA0' 'WR1' 'KBZ' 'IL31' 'CM16' 'BVA0' 'JKA' 'USA0'\n",
        " 'FITZ' 'NB200' 'AS12' 'VNDA']"
       ]
      },
      {
       "output_type": "stream",
       "stream": "stdout",
       "text": [
        "\n",
        "dist_true 1439.1km dist_current 482.3 ttrs 796.1 stas ['VNDA' 'NWAO' 'JNU' 'JKA' 'SNAA' 'WR1' 'AS12' 'KBZ' 'JHJ' 'YKR8' 'FITZ'\n",
        " 'QSPA' 'STKA' 'BVA0' 'MK31']"
       ]
      },
      {
       "output_type": "stream",
       "stream": "stdout",
       "text": [
        "\n",
        "dist_true 1507.6km dist_current 542.2 ttrs 784.8 stas ['NWAO' 'BVA0' 'FIA0' 'USA0' 'NB200' 'MK31' 'VNDA' 'QSPA' 'AAK' 'PEA0'\n",
        " 'CM16' 'IL31' 'WR1' 'JKA' 'STKA']"
       ]
      },
      {
       "output_type": "stream",
       "stream": "stdout",
       "text": [
        "\n"
       ]
      },
      {
       "metadata": {},
       "output_type": "display_data",
       "png": "[encoded data removed]",
       "text": [
        "<matplotlib.figure.Figure at 0x5cf1c10>"
       ]
      },
      {
       "metadata": {},
       "output_type": "display_data",
       "png": "[encoded data removed]",
       "text": [
        "<matplotlib.figure.Figure at 0x6235e10>"
       ]
      }
     ],
     "prompt_number": 7
    },
    {
     "cell_type": "code",
     "collapsed": false,
     "input": [],
     "language": "python",
     "metadata": {},
     "outputs": [],
     "prompt_number": 20
    },
    {
     "cell_type": "code",
     "collapsed": false,
     "input": [
      "wn = sg.all_nodes['wave_FITZ_BHZ_freq_2.0_3.0_1238889600.0']\n",
      "np.random.seed(1)\n",
      "\n",
      "bad_stas= set(['AS12', 'CM16', 'FITZ', 'JHJ', 'NWAO', 'PEA0', 'SNAA', 'STKA', 'USA0', 'VNDA', 'WR1'])\n",
      "all_stas = set(sg.station_waves.keys())\n",
      "stas = list(all_stas-bad_stas)\n",
      "#stas=['AAK', 'YKR8', 'JKA', 'FIA0']\n",
      "\n",
      "try:\n",
      "    sg.current_log_p_breakdown()\n",
      "    lp_new, lp_old, log_qbackward, log_qforward, arr1, arr2, revert_all = swap_association_move(sg, wn, repropose_events=True, stas=stas)\n",
      "except:\n",
      "    import pdb, sys, traceback\n",
      "    type, value, tb = sys.exc_info()\n",
      "    traceback.print_exc()\n",
      "    pdb.post_mortem(tb)\n",
      "sg.current_log_p_breakdown()\n",
      "r21 = dump_ttrs(sg, 1)\n",
      "print\n",
      "print\n",
      "r23 = dump_ttrs(sg, 3)\n",
      "revert_all()\n",
      "print lp_new, lp_old\n",
      "print log_qbackward, log_qforward\n",
      "print arr1, arr2"
     ],
     "language": "python",
     "metadata": {},
     "outputs": [
      {
       "output_type": "stream",
       "stream": "stdout",
       "text": [
        "n_uatemplate: -50.9\n",
        "n_event: -25.1\n",
        "ev priors: ev -61.0\n",
        "tt_residual: ev -948.4\n",
        "ev global cost (n + priors + tt): -1034.5\n",
        "coda_decay: ev -110.0 ua -1.9 total -111.9\n",
        "peak_decay: ev -106.3 ua -2.1 total -108.4\n",
        "peak_offset: ev -100.9 ua -1.4 total -102.3\n",
        "coda_height: ev -93.9 ua -16.9 total -110.8\n",
        "wiggles: ev 0.0 ua 0.0 total 0.0\n",
        "total param: ev -411.1 ua -22.2 total -433.3\n",
        "non signals: ev -1445.6 ua -73.2 total -1518.7\n",
        "signals: 128733.9\n",
        "overall: 127215.2\n",
        "official: 127215.2\n",
        "backward lp"
       ]
      },
      {
       "output_type": "stream",
       "stream": "stdout",
       "text": [
        " -748.331658722\n",
        "backward lp -3315.41393799\n",
        "proposing to deassociate P for 3 at YKR8 (lp -0.0) "
       ]
      },
      {
       "output_type": "stream",
       "stream": "stdout",
       "text": [
        "rl += -9.06890335923 to deassociate YKR8 P 3\n",
        "n_uatemplate: -57.8"
       ]
      },
      {
       "output_type": "stream",
       "stream": "stdout",
       "text": [
        "\n",
        "n_event: -25.1\n",
        "ev priors: ev -62.0\n",
        "tt_residual: ev -1839.8\n",
        "ev global cost (n + priors + tt): -1926.8\n",
        "coda_decay: ev -108.6 ua -3.2 total -111.8\n",
        "peak_decay: ev -105.8 ua -3.1 total -108.9\n",
        "peak_offset: ev -99.9 ua -2.4 total -102.3\n",
        "coda_height: ev -94.2 ua -26.8 total -121.0\n",
        "wiggles: ev 0.0 ua 0.0 total 0.0\n",
        "total param: ev -408.5 ua -35.5 total -444.0\n",
        "non signals: ev -2335.4 ua -93.3 total -2428.7\n",
        "signals: 128733.9\n",
        "overall: 126305.2\n",
        "official: 126305.2\n",
        "[('AAK', -10.18167037669491), ('AS12', 185.69984996357104), ('BVA0', -3.2279983468662294), ('CM16', 30.049262407090566), ('FIA0', 5.0020934472929639), ('FITZ', -26.301208933315138), ('IL31', 13.361498369021774), ('JHJ', -84.780637983918155), ('JKA', 5.0084694211741976), ('JNU', -3.1487528319174203), ('KBZ', 10.196450861336189), ('MK31', -4.0385784843024339), ('NB200', -1.2710761336699079), ('NWAO', 141.90802407310991), ('PEA0', -68.22001079299514), ('QSPA', 2.6563018329102306), ('SNAA', 350.39281095331035), ('STKA', 73.420251255137885), ('USA0', -61.800857251857622), ('VNDA', 136.89005236910259), ('WR1', 218.57358200998161), ('YKR8', -13.558262940781901)]\n",
        "ev evid None, loc 143.22 E 2.86 S, depth 700.0km, time 1238889768.4, mb 4.1, natural source\n",
        "FITZ ev time 1238889768.441611 ttime 257.205912 pred_atime 1238890025.647523 atime 1238889999.346314 residual -26.301209\n",
        "\n",
        "\n",
        "[('AAK', 29.553057690608512), ('AS12', 61.650848213008715), ('BVA0', 26.405946558812616), ('CM16', 39.31768881781295), ('FIA0', 27.026398418917552), ('FITZ', 235.67001330523811), ('IL31', 186.05337336284765), ('JHJ', 11.121648534002475), ('JKA', 51.700104320392825), ('JNU', 92.376870042965038), ('KBZ', 32.332448799456188), ('MK31', 27.808190362386881), ('NB200', 23.944506026957697), ('NWAO', 60.821437021673887), ('PEA0', 15.112713745376595), ('QSPA', 53.396113679831956), ('SNAA', 46.645220533967176), ('STKA', 211.38492004098504), ('USA0', 18.473202302391201), ('VNDA', 59.222423767966916), ('WR1', 18.73946748686086)]\n",
        "ev evid None, loc 155.84 E 26.64 S, depth 0.0km, time 1238889668.6, mb 4.8, natural source\n",
        "FITZ ev time 1238889668.582933 ttime 363.678139 pred_atime 1238890032.261072 atime 1238890267.931086 residual 235.670013\n",
        "-1934.84655535"
       ]
      },
      {
       "output_type": "stream",
       "stream": "stdout",
       "text": [
        " -1024.88168398\n",
        "-4063.74559671 -15.9455243268\n",
        "({'coda_height': 0.5165682957728126, 'arrival_time': 1238890267.9310856, 'coda_decay': -4.29547161226278, 'peak_decay': -2.4015372995662996, 'peak_offset': 1.5253306951789505}, 3, 'P') ({'coda_height': 1.2625046614511917, 'arrival_time': 1238889999.346314, 'coda_decay': -4.672673715111062, 'peak_decay': -3.4436802860342746, 'peak_offset': 1.4772984340924666}, 1, 'P')\n"
       ]
      }
     ],
     "prompt_number": 4
    },
    {
     "cell_type": "markdown",
     "metadata": {},
     "source": [
      "np.random.seed(9)\n",
      "evnode = sg.evnodes[2]['loc']\n",
      "ev_move_full(sg, evnode, 1.0, ['lon', 'lat', 'depth'], adaptive_block=True)\n",
      "sg.current_log_p_breakdown()"
     ]
    },
    {
     "cell_type": "code",
     "collapsed": false,
     "input": [
      "print r11\n",
      "print r21\n",
      "print r21-r11\n",
      "\n",
      "# negative means the proposal *reduced* the residual (good!)\n",
      "print r13\n",
      "print r23\n",
      "print r23-r13"
     ],
     "language": "python",
     "metadata": {},
     "outputs": [
      {
       "output_type": "stream",
       "stream": "stdout",
       "text": [
        "[  18.35668059    3.55394777    2.87782079    1.04410027    1.69600035\n",
        "   75.48173714   38.57099585    2.80149003   79.00622552   60.83145162\n",
        "   10.35304998    0.97071728    2.43473719   21.94225686    4.52803632\n",
        "  128.77349796    0.1812204   106.10126349    1.91911149    0.20863596\n",
        "   35.84738889    4.05995742]\n",
        "[  15.1026268    52.60369256    3.12443291   13.46219441    1.77032502\n",
        "  145.35923664   27.35878933   24.09270108   57.6484978    47.00575025\n",
        "    4.99681371    0.78892172    2.87708335   22.3809438    24.91923106\n",
        "   95.98858928   22.96607424   59.46467338   15.10311141   33.05241906\n",
        "   85.65906647   10.25458626]\n",
        "[ -3.25405379  49.04974479   0.24661211  12.41809413   0.07432467\n",
        "  69.8774995  -11.21220652  21.29121105 -21.35772772 -13.82570136\n",
        "  -5.35623627  -0.18179556   0.44234616   0.43868694  20.39119474\n",
        " -32.78490869  22.78485384 -46.63659011  13.18399993  32.8437831\n",
        "  49.81167758   6.19462884]\n",
        "[   0.59787295    1.8022102     0.96150487    5.44419743    1.8797229\n",
        "   82.96937177  171.02858369    4.16170845   36.51892004   73.57495235\n",
        "    0.3278736     0.3990535     4.48894659    1.93416458    1.21496605\n",
        "    1.99518527    5.16450166  127.00485557    0.38280488    0.90527364\n",
        "   34.24847082   40.25858151]\n",
        "[  19.72354688   44.91738436   19.90105586   21.06607732   10.111881\n",
        "  141.92661789  158.90197209   34.29001189   11.49664799   43.91333006\n",
        "    8.33303033   19.44464206   12.38709606   35.50540042   19.07636775\n",
        "    7.24060109    8.7733061    76.90914908   24.49818088    6.80271982\n",
        "   82.88197069   50.78872081]\n",
        "[ 19.12567393  43.11517416  18.93955099  15.62187988   8.2321581\n",
        "  58.95724612 -12.1266116   30.12830345 -25.02227204 -29.66162228\n",
        "   8.00515674  19.04558857   7.89814947  33.57123584  17.8614017\n",
        "   5.24541581   3.60880444 -50.09570649  24.11537601   5.89744618\n",
        "  48.63349988  10.53013931]\n"
       ]
      }
     ],
     "prompt_number": 5
    },
    {
     "cell_type": "code",
     "collapsed": false,
     "input": [
      "\n",
      "do_plot(wn)"
     ],
     "language": "python",
     "metadata": {},
     "outputs": [
      {
       "output_type": "stream",
       "stream": "stdout",
       "text": [
        "reading station detections... \n"
       ]
      },
      {
       "metadata": {},
       "output_type": "pyout",
       "prompt_number": 4,
       "text": [
        "<matplotlib.axes.AxesSubplot at 0x30b7bd0>"
       ]
      },
      {
       "metadata": {},
       "output_type": "display_data",
       "png": "[encoded data removed]",
       "text": [
        "<matplotlib.figure.Figure at 0x30bf290>"
       ]
      }
     ],
     "prompt_number": 4
    },
    {
     "cell_type": "code",
     "collapsed": false,
     "input": [
      "logger = MCMCLogger()\n",
      "run_open_world_MH(sg, steps=3000,\n",
      "                  enable_event_openworld=False,\n",
      "                  enable_event_moves=True,\n",
      "                  enable_template_openworld=False,\n",
      "                  enable_template_moves=True,\n",
      "                  logger=logger,\n",
      "                  start_step = 0,\n",
      "                  template_move_type = \"rw\")\n"
     ],
     "language": "python",
     "metadata": {},
     "outputs": [
      {
       "output_type": "stream",
       "stream": "stdout",
       "text": [
        "step 1: lp 127354.45, accepted  arrival_time: 0.291%,  coda_decay: 0.321%,  coda_height: 0.313%,  evdepth: 0.167%,  evloc: 0.833%,  evloc_big: 0.333%,  evmb: 0.833%,  evtime: 0.667%,  indep_peak: 0.000%,  peak_decay: 0.388%,  peak_offset: 0.108%,  swap_association: 0.000%,  , uatemplates:  1 , events:  3\n",
        "step 2: lp 127365.50, accepted "
       ]
      },
      {
       "output_type": "stream",
       "stream": "stdout",
       "text": [
        " arrival_time: 0.294%,  coda_decay: 0.299%,  coda_height: 0.318%,  evdepth: 0.111%,  evloc: 0.889%,  evloc_big: 0.444%,  evmb: 0.889%,  evtime: 0.667%,  indep_peak: 0.000%,  peak_decay: 0.398%,  peak_offset: 0.119%,  swap_association: 0.000%,  , uatemplates:  1 , events:  3\n",
        "step 3: lp 127373.44, accepted "
       ]
      },
      {
       "output_type": "stream",
       "stream": "stdout",
       "text": [
        " arrival_time: 0.295%,  coda_decay: 0.287%,  coda_height: 0.317%,  evdepth: 0.083%,  evloc: 0.750%,  evloc_big: 0.417%,  evmb: 0.917%,  evtime: 0.667%,  indep_peak: 0.000%,  peak_decay: 0.358%,  peak_offset: 0.112%,  swap_association: 0.000%,  , uatemplates:  1 , events:  3\n",
        "step 4: lp 127409.39, accepted "
       ]
      },
      {
       "output_type": "stream",
       "stream": "stdout",
       "text": [
        " arrival_time: 0.301%,  coda_decay: 0.290%,  coda_height: 0.307%,  evdepth: 0.067%,  evloc: 0.667%,  evloc_big: 0.400%,  evmb: 0.933%,  evtime: 0.600%,  indep_peak: 0.000%,  peak_decay: 0.349%,  peak_offset: 0.107%,  swap_association: 0.000%,  , uatemplates:  1 , events:  3\n",
        "step 20: lp 127418.74, accepted "
       ]
      },
      {
       "output_type": "stream",
       "stream": "stdout",
       "text": [
        " arrival_time: 0.283%,  coda_decay: 0.306%,  coda_height: 0.296%,  evdepth: 0.079%,  evloc: 0.651%,  evloc_big: 0.333%,  evmb: 0.937%,  evtime: 0.635%,  indep_peak: 0.001%,  peak_decay: 0.331%,  peak_offset: 0.131%,  swap_association: 0.000%,  , uatemplates:  1 , events:  3\n",
        "step 40: lp 127428.16, accepted "
       ]
      },
      {
       "output_type": "stream",
       "stream": "stdout",
       "text": [
        " arrival_time: 0.285%,  coda_decay: 0.304%,  coda_height: 0.297%,  evdepth: 0.098%,  evloc: 0.699%,  evloc_big: 0.333%,  evmb: 0.894%,  evtime: 0.561%,  indep_peak: 0.000%,  peak_decay: 0.322%,  peak_offset: 0.134%,  swap_association: 0.000%,  , uatemplates:  1 , events:  3\n",
        "step 60: lp 127431.34, accepted "
       ]
      },
      {
       "output_type": "stream",
       "stream": "stdout",
       "text": [
        " arrival_time: 0.289%,  coda_decay: 0.301%,  coda_height: 0.302%,  evdepth: 0.120%,  evloc: 0.765%,  evloc_big: 0.328%,  evmb: 0.880%,  evtime: 0.541%,  indep_peak: 0.000%,  peak_decay: 0.323%,  peak_offset: 0.141%,  swap_association: 0.000%,  , uatemplates:  1 , events:  3\n",
        "step 80: lp 127434.69, accepted "
       ]
      },
      {
       "output_type": "stream",
       "stream": "stdout",
       "text": [
        " arrival_time: 0.287%,  coda_decay: 0.302%,  coda_height: 0.303%,  evdepth: 0.107%,  evloc: 0.782%,  evloc_big: 0.329%,  evmb: 0.889%,  evtime: 0.535%,  indep_peak: 0.000%,  peak_decay: 0.324%,  peak_offset: 0.141%,  swap_association: 0.000%,  , uatemplates:  1 , events:  3\n",
        "step 100: lp 127434.78, accepted "
       ]
      },
      {
       "output_type": "stream",
       "stream": "stdout",
       "text": [
        " arrival_time: 0.286%,  coda_decay: 0.304%,  coda_height: 0.301%,  evdepth: 0.109%,  evloc: 0.759%,  evloc_big: 0.327%,  evmb: 0.898%,  evtime: 0.525%,  indep_peak: 0.001%,  peak_decay: 0.322%,  peak_offset: 0.142%,  swap_association: 0.000%,  , uatemplates:  1 , events:  3\n",
        "step 120: lp 127420.46, accepted "
       ]
      },
      {
       "output_type": "stream",
       "stream": "stdout",
       "text": [
        " arrival_time: 0.287%,  coda_decay: 0.302%,  coda_height: 0.302%,  evdepth: 0.099%,  evloc: 0.755%,  evloc_big: 0.309%,  evmb: 0.895%,  evtime: 0.504%,  indep_peak: 0.001%,  peak_decay: 0.323%,  peak_offset: 0.141%,  swap_association: 0.000%,  , uatemplates:  1 , events:  3\n",
        "step 140: lp 127469.60, accepted "
       ]
      },
      {
       "output_type": "stream",
       "stream": "stdout",
       "text": [
        " arrival_time: 0.286%,  coda_decay: 0.302%,  coda_height: 0.301%,  evdepth: 0.111%,  evloc: 0.747%,  evloc_big: 0.322%,  evmb: 0.898%,  evtime: 0.506%,  indep_peak: 0.001%,  peak_decay: 0.321%,  peak_offset: 0.141%,  swap_association: 0.000%,  , uatemplates:  1 , events:  3\n",
        "step 160: lp 127459.18, accepted "
       ]
      },
      {
       "output_type": "stream",
       "stream": "stdout",
       "text": [
        " arrival_time: 0.286%,  coda_decay: 0.301%,  coda_height: 0.301%,  evdepth: 0.116%,  evloc: 0.729%,  evloc_big: 0.317%,  evmb: 0.896%,  evtime: 0.497%,  indep_peak: 0.001%,  peak_decay: 0.324%,  peak_offset: 0.142%,  swap_association: 0.000%,  , uatemplates:  1 , events:  3\n",
        "step 180: lp 127473.36, accepted "
       ]
      },
      {
       "output_type": "stream",
       "stream": "stdout",
       "text": [
        " arrival_time: 0.285%,  coda_decay: 0.301%,  coda_height: 0.300%,  evdepth: 0.120%,  evloc: 0.731%,  evloc_big: 0.322%,  evmb: 0.891%,  evtime: 0.495%,  indep_peak: 0.001%,  peak_decay: 0.325%,  peak_offset: 0.141%,  swap_association: 0.000%,  , uatemplates:  1 , events:  3\n",
        "step 200: lp 127472.15, accepted "
       ]
      },
      {
       "output_type": "stream",
       "stream": "stdout",
       "text": [
        " arrival_time: 0.286%,  coda_decay: 0.301%,  coda_height: 0.300%,  evdepth: 0.114%,  evloc: 0.735%,  evloc_big: 0.322%,  evmb: 0.889%,  evtime: 0.488%,  indep_peak: 0.001%,  peak_decay: 0.326%,  peak_offset: 0.141%,  swap_association: 0.000%,  , uatemplates:  1 , events:  3\n",
        "step 220: lp 127498.04, accepted "
       ]
      },
      {
       "output_type": "stream",
       "stream": "stdout",
       "text": [
        " arrival_time: 0.285%,  coda_decay: 0.300%,  coda_height: 0.300%,  evdepth: 0.110%,  evloc: 0.748%,  evloc_big: 0.332%,  evmb: 0.893%,  evtime: 0.483%,  indep_peak: 0.001%,  peak_decay: 0.327%,  peak_offset: 0.141%,  swap_association: 0.000%,  , uatemplates:  1 , events:  3\n",
        "step 240: lp 127503.61, accepted "
       ]
      },
      {
       "output_type": "stream",
       "stream": "stdout",
       "text": [
        " arrival_time: 0.283%,  coda_decay: 0.300%,  coda_height: 0.299%,  evdepth: 0.108%,  evloc: 0.762%,  evloc_big: 0.339%,  evmb: 0.900%,  evtime: 0.485%,  indep_peak: 0.001%,  peak_decay: 0.326%,  peak_offset: 0.141%,  swap_association: 0.000%,  , uatemplates:  1 , events:  3\n",
        "step 260: lp 127563.23, accepted "
       ]
      },
      {
       "output_type": "stream",
       "stream": "stdout",
       "text": [
        " arrival_time: 0.283%,  coda_decay: 0.300%,  coda_height: 0.298%,  evdepth: 0.109%,  evloc: 0.769%,  evloc_big: 0.337%,  evmb: 0.900%,  evtime: 0.483%,  indep_peak: 0.001%,  peak_decay: 0.328%,  peak_offset: 0.140%,  swap_association: 0.000%,  , uatemplates:  1 , events:  3\n",
        "step 280: lp 127532.17, accepted "
       ]
      },
      {
       "output_type": "stream",
       "stream": "stdout",
       "text": [
        " arrival_time: 0.283%,  coda_decay: 0.300%,  coda_height: 0.297%,  evdepth: 0.109%,  evloc: 0.767%,  evloc_big: 0.339%,  evmb: 0.905%,  evtime: 0.479%,  indep_peak: 0.001%,  peak_decay: 0.328%,  peak_offset: 0.140%,  swap_association: 0.000%,  , uatemplates:  1 , events:  3\n",
        "step 300: lp 127557.16, accepted "
       ]
      },
      {
       "output_type": "stream",
       "stream": "stdout",
       "text": [
        " arrival_time: 0.283%,  coda_decay: 0.300%,  coda_height: 0.298%,  evdepth: 0.111%,  evloc: 0.761%,  evloc_big: 0.339%,  evmb: 0.906%,  evtime: 0.475%,  indep_peak: 0.001%,  peak_decay: 0.329%,  peak_offset: 0.140%,  swap_association: 0.000%,  , uatemplates:  1 , events:  3\n",
        "step 320: lp 127544.57, accepted "
       ]
      },
      {
       "output_type": "stream",
       "stream": "stdout",
       "text": [
        " arrival_time: 0.284%,  coda_decay: 0.301%,  coda_height: 0.297%,  evdepth: 0.111%,  evloc: 0.765%,  evloc_big: 0.333%,  evmb: 0.903%,  evtime: 0.472%,  indep_peak: 0.001%,  peak_decay: 0.330%,  peak_offset: 0.140%,  swap_association: 0.000%,  , uatemplates:  1 , events:  3\n",
        "step 340: lp 127580.35, accepted "
       ]
      },
      {
       "output_type": "stream",
       "stream": "stdout",
       "text": [
        " arrival_time: 0.284%,  coda_decay: 0.299%,  coda_height: 0.296%,  evdepth: 0.111%,  evloc: 0.760%,  evloc_big: 0.330%,  evmb: 0.903%,  evtime: 0.471%,  indep_peak: 0.001%,  peak_decay: 0.329%,  peak_offset: 0.139%,  swap_association: 0.000%,  , uatemplates:  1 , events:  3\n",
        "step 360: lp 127604.20, accepted "
       ]
      },
      {
       "output_type": "stream",
       "stream": "stdout",
       "text": [
        " arrival_time: 0.284%,  coda_decay: 0.299%,  coda_height: 0.296%,  evdepth: 0.110%,  evloc: 0.753%,  evloc_big: 0.329%,  evmb: 0.908%,  evtime: 0.478%,  indep_peak: 0.001%,  peak_decay: 0.330%,  peak_offset: 0.139%,  swap_association: 0.000%,  , uatemplates:  1 , events:  3\n",
        "step 380: lp 127598.90, accepted "
       ]
      },
      {
       "output_type": "stream",
       "stream": "stdout",
       "text": [
        " arrival_time: 0.283%,  coda_decay: 0.299%,  coda_height: 0.296%,  evdepth: 0.115%,  evloc: 0.758%,  evloc_big: 0.332%,  evmb: 0.911%,  evtime: 0.486%,  indep_peak: 0.001%,  peak_decay: 0.329%,  peak_offset: 0.138%,  swap_association: 0.000%,  , uatemplates:  1 , events:  3\n",
        "step 400: lp 127628.83, accepted "
       ]
      },
      {
       "output_type": "stream",
       "stream": "stdout",
       "text": [
        " arrival_time: 0.283%,  coda_decay: 0.298%,  coda_height: 0.297%,  evdepth: 0.115%,  evloc: 0.759%,  evloc_big: 0.329%,  evmb: 0.911%,  evtime: 0.491%,  indep_peak: 0.001%,  peak_decay: 0.331%,  peak_offset: 0.138%,  swap_association: 0.000%,  , uatemplates:  1 , events:  3\n",
        "step 420: lp 127635.75, accepted "
       ]
      },
      {
       "output_type": "stream",
       "stream": "stdout",
       "text": [
        " arrival_time: 0.282%,  coda_decay: 0.299%,  coda_height: 0.296%,  evdepth: 0.117%,  evloc: 0.749%,  evloc_big: 0.328%,  evmb: 0.912%,  evtime: 0.488%,  indep_peak: 0.001%,  peak_decay: 0.332%,  peak_offset: 0.138%,  swap_association: 0.000%,  , uatemplates:  1 , events:  3\n",
        "step 440: lp 127632.77, accepted "
       ]
      },
      {
       "output_type": "stream",
       "stream": "stdout",
       "text": [
        " arrival_time: 0.283%,  coda_decay: 0.299%,  coda_height: 0.296%,  evdepth: 0.119%,  evloc: 0.748%,  evloc_big: 0.327%,  evmb: 0.915%,  evtime: 0.491%,  indep_peak: 0.001%,  peak_decay: 0.331%,  peak_offset: 0.138%,  swap_association: 0.000%,  , uatemplates:  1 , events:  3\n",
        "step 460: lp 127656.24, accepted "
       ]
      },
      {
       "output_type": "stream",
       "stream": "stdout",
       "text": [
        " arrival_time: 0.282%,  coda_decay: 0.298%,  coda_height: 0.295%,  evdepth: 0.119%,  evloc: 0.749%,  evloc_big: 0.327%,  evmb: 0.915%,  evtime: 0.492%,  indep_peak: 0.001%,  peak_decay: 0.331%,  peak_offset: 0.138%,  swap_association: 0.000%,  , uatemplates:  1 , events:  3\n",
        "step 480: lp 127659.29, accepted "
       ]
      },
      {
       "output_type": "stream",
       "stream": "stdout",
       "text": [
        " arrival_time: 0.282%,  coda_decay: 0.298%,  coda_height: 0.296%,  evdepth: 0.119%,  evloc: 0.748%,  evloc_big: 0.329%,  evmb: 0.915%,  evtime: 0.493%,  indep_peak: 0.001%,  peak_decay: 0.331%,  peak_offset: 0.138%,  swap_association: 0.000%,  , uatemplates:  1 , events:  3\n",
        "saving debug dump to logs/mcmc/00010/step_000499..."
       ]
      },
      {
       "output_type": "stream",
       "stream": "stdout",
       "text": [
        "\n",
        "saved pickled graph\n",
        "step 500: lp 127648.95, accepted "
       ]
      },
      {
       "output_type": "stream",
       "stream": "stdout",
       "text": [
        " arrival_time: 0.281%,  coda_decay: 0.298%,  coda_height: 0.296%,  evdepth: 0.118%,  evloc: 0.747%,  evloc_big: 0.326%,  evmb: 0.916%,  evtime: 0.494%,  indep_peak: 0.001%,  peak_decay: 0.331%,  peak_offset: 0.138%,  swap_association: 0.000%,  , uatemplates:  1 , events:  3\n",
        "step 520: lp 127660.85, accepted "
       ]
      },
      {
       "output_type": "stream",
       "stream": "stdout",
       "text": [
        " arrival_time: 0.279%,  coda_decay: 0.298%,  coda_height: 0.296%,  evdepth: 0.117%,  evloc: 0.745%,  evloc_big: 0.328%,  evmb: 0.917%,  evtime: 0.493%,  indep_peak: 0.001%,  peak_decay: 0.332%,  peak_offset: 0.137%,  swap_association: 0.000%,  , uatemplates:  1 , events:  3\n",
        "step 540: lp 127678.54, accepted "
       ]
      },
      {
       "output_type": "stream",
       "stream": "stdout",
       "text": [
        " arrival_time: 0.279%,  coda_decay: 0.298%,  coda_height: 0.296%,  evdepth: 0.118%,  evloc: 0.745%,  evloc_big: 0.325%,  evmb: 0.917%,  evtime: 0.494%,  indep_peak: 0.001%,  peak_decay: 0.331%,  peak_offset: 0.138%,  swap_association: 0.000%,  , uatemplates:  1 , events:  3\n",
        "step 560: lp 127637.65, accepted "
       ]
      },
      {
       "output_type": "stream",
       "stream": "stdout",
       "text": [
        " arrival_time: 0.279%,  coda_decay: 0.298%,  coda_height: 0.296%,  evdepth: 0.115%,  evloc: 0.746%,  evloc_big: 0.328%,  evmb: 0.917%,  evtime: 0.493%,  indep_peak: 0.001%,  peak_decay: 0.331%,  peak_offset: 0.138%,  swap_association: 0.000%,  , uatemplates:  1 , events:  3\n",
        "step 580: lp 127661.61, accepted "
       ]
      },
      {
       "output_type": "stream",
       "stream": "stdout",
       "text": [
        " arrival_time: 0.280%,  coda_decay: 0.298%,  coda_height: 0.296%,  evdepth: 0.116%,  evloc: 0.750%,  evloc_big: 0.328%,  evmb: 0.917%,  evtime: 0.492%,  indep_peak: 0.001%,  peak_decay: 0.331%,  peak_offset: 0.138%,  swap_association: 0.000%,  , uatemplates:  1 , events:  3\n",
        "step 600: lp 127681.10, accepted "
       ]
      },
      {
       "output_type": "stream",
       "stream": "stdout",
       "text": [
        " arrival_time: 0.280%,  coda_decay: 0.298%,  coda_height: 0.296%,  evdepth: 0.115%,  evloc: 0.754%,  evloc_big: 0.326%,  evmb: 0.917%,  evtime: 0.493%,  indep_peak: 0.001%,  peak_decay: 0.331%,  peak_offset: 0.139%,  swap_association: 0.000%,  , uatemplates:  1 , events:  3\n",
        "step 620: lp 127685.15, accepted "
       ]
      },
      {
       "output_type": "stream",
       "stream": "stdout",
       "text": [
        " arrival_time: 0.279%,  coda_decay: 0.298%,  coda_height: 0.296%,  evdepth: 0.115%,  evloc: 0.752%,  evloc_big: 0.326%,  evmb: 0.918%,  evtime: 0.497%,  indep_peak: 0.001%,  peak_decay: 0.331%,  peak_offset: 0.139%,  swap_association: 0.000%,  , uatemplates:  1 , events:  3\n",
        "step 640: lp 127728.06, accepted "
       ]
      },
      {
       "output_type": "stream",
       "stream": "stdout",
       "text": [
        " arrival_time: 0.279%,  coda_decay: 0.298%,  coda_height: 0.296%,  evdepth: 0.116%,  evloc: 0.750%,  evloc_big: 0.326%,  evmb: 0.918%,  evtime: 0.496%,  indep_peak: 0.001%,  peak_decay: 0.331%,  peak_offset: 0.138%,  swap_association: 0.000%,  , uatemplates:  1 , events:  3\n",
        "step 660: lp 127740.33, accepted "
       ]
      },
      {
       "output_type": "stream",
       "stream": "stdout",
       "text": [
        " arrival_time: 0.278%,  coda_decay: 0.297%,  coda_height: 0.295%,  evdepth: 0.115%,  evloc: 0.752%,  evloc_big: 0.323%,  evmb: 0.918%,  evtime: 0.491%,  indep_peak: 0.001%,  peak_decay: 0.330%,  peak_offset: 0.138%,  swap_association: 0.000%,  , uatemplates:  1 , events:  3\n",
        "step 680: lp 127764.06, accepted "
       ]
      },
      {
       "output_type": "stream",
       "stream": "stdout",
       "text": [
        " arrival_time: 0.277%,  coda_decay: 0.297%,  coda_height: 0.294%,  evdepth: 0.116%,  evloc: 0.748%,  evloc_big: 0.321%,  evmb: 0.917%,  evtime: 0.492%,  indep_peak: 0.001%,  peak_decay: 0.330%,  peak_offset: 0.137%,  swap_association: 0.000%,  , uatemplates:  1 , events:  3\n",
        "step 700: lp 127737.86, accepted "
       ]
      },
      {
       "output_type": "stream",
       "stream": "stdout",
       "text": [
        " arrival_time: 0.277%,  coda_decay: 0.296%,  coda_height: 0.294%,  evdepth: 0.118%,  evloc: 0.747%,  evloc_big: 0.319%,  evmb: 0.917%,  evtime: 0.492%,  indep_peak: 0.001%,  peak_decay: 0.330%,  peak_offset: 0.137%,  swap_association: 0.000%,  , uatemplates:  1 , events:  3\n",
        "step 720: lp 127716.17, accepted "
       ]
      },
      {
       "output_type": "stream",
       "stream": "stdout",
       "text": [
        " arrival_time: 0.276%,  coda_decay: 0.296%,  coda_height: 0.294%,  evdepth: 0.120%,  evloc: 0.745%,  evloc_big: 0.318%,  evmb: 0.917%,  evtime: 0.490%,  indep_peak: 0.001%,  peak_decay: 0.330%,  peak_offset: 0.137%,  swap_association: 0.000%,  , uatemplates:  1 , events:  3\n",
        "step 740: lp 127740.10, accepted "
       ]
      },
      {
       "output_type": "stream",
       "stream": "stdout",
       "text": [
        " arrival_time: 0.275%,  coda_decay: 0.296%,  coda_height: 0.293%,  evdepth: 0.121%,  evloc: 0.738%,  evloc_big: 0.311%,  evmb: 0.918%,  evtime: 0.492%,  indep_peak: 0.001%,  peak_decay: 0.329%,  peak_offset: 0.136%,  swap_association: 0.000%,  , uatemplates:  1 , events:  3\n",
        "step 760: lp 127726.75, accepted "
       ]
      },
      {
       "output_type": "stream",
       "stream": "stdout",
       "text": [
        " arrival_time: 0.275%,  coda_decay: 0.296%,  coda_height: 0.292%,  evdepth: 0.119%,  evloc: 0.735%,  evloc_big: 0.311%,  evmb: 0.917%,  evtime: 0.491%,  indep_peak: 0.001%,  peak_decay: 0.329%,  peak_offset: 0.136%,  swap_association: 0.000%,  , uatemplates:  1 , events:  3\n",
        "step 780: lp 127733.05, accepted "
       ]
      },
      {
       "output_type": "stream",
       "stream": "stdout",
       "text": [
        " arrival_time: 0.274%,  coda_decay: 0.295%,  coda_height: 0.292%,  evdepth: 0.119%,  evloc: 0.735%,  evloc_big: 0.311%,  evmb: 0.917%,  evtime: 0.490%,  indep_peak: 0.001%,  peak_decay: 0.329%,  peak_offset: 0.136%,  swap_association: 0.000%,  , uatemplates:  1 , events:  3\n",
        "step 800: lp 127726.24, accepted "
       ]
      },
      {
       "output_type": "stream",
       "stream": "stdout",
       "text": [
        " arrival_time: 0.274%,  coda_decay: 0.295%,  coda_height: 0.292%,  evdepth: 0.117%,  evloc: 0.727%,  evloc_big: 0.306%,  evmb: 0.915%,  evtime: 0.489%,  indep_peak: 0.001%,  peak_decay: 0.329%,  peak_offset: 0.136%,  swap_association: 0.000%,  , uatemplates:  1 , events:  3\n",
        "step 820: lp 127737.35, accepted "
       ]
      },
      {
       "output_type": "stream",
       "stream": "stdout",
       "text": [
        " arrival_time: 0.273%,  coda_decay: 0.295%,  coda_height: 0.292%,  evdepth: 0.117%,  evloc: 0.727%,  evloc_big: 0.304%,  evmb: 0.914%,  evtime: 0.489%,  indep_peak: 0.001%,  peak_decay: 0.329%,  peak_offset: 0.135%,  swap_association: 0.000%,  , uatemplates:  1 , events:  3\n",
        "step 840: lp 127725.81, accepted "
       ]
      },
      {
       "output_type": "stream",
       "stream": "stdout",
       "text": [
        " arrival_time: 0.272%,  coda_decay: 0.294%,  coda_height: 0.292%,  evdepth: 0.118%,  evloc: 0.724%,  evloc_big: 0.303%,  evmb: 0.915%,  evtime: 0.490%,  indep_peak: 0.001%,  peak_decay: 0.328%,  peak_offset: 0.135%,  swap_association: 0.000%,  , uatemplates:  1 , events:  3\n",
        "step 860: lp 127743.89, accepted "
       ]
      },
      {
       "output_type": "stream",
       "stream": "stdout",
       "text": [
        " arrival_time: 0.272%,  coda_decay: 0.294%,  coda_height: 0.291%,  evdepth: 0.118%,  evloc: 0.722%,  evloc_big: 0.302%,  evmb: 0.916%,  evtime: 0.489%,  indep_peak: 0.001%,  peak_decay: 0.328%,  peak_offset: 0.135%,  swap_association: 0.000%,  , uatemplates:  1 , events:  3\n",
        "step 880: lp 127742.37, accepted "
       ]
      },
      {
       "output_type": "stream",
       "stream": "stdout",
       "text": [
        " arrival_time: 0.271%,  coda_decay: 0.294%,  coda_height: 0.291%,  evdepth: 0.118%,  evloc: 0.723%,  evloc_big: 0.302%,  evmb: 0.914%,  evtime: 0.490%,  indep_peak: 0.001%,  peak_decay: 0.328%,  peak_offset: 0.135%,  swap_association: 0.000%,  , uatemplates:  1 , events:  3\n",
        "step 900: lp 127724.07, accepted "
       ]
      },
      {
       "output_type": "stream",
       "stream": "stdout",
       "text": [
        " arrival_time: 0.271%,  coda_decay: 0.293%,  coda_height: 0.290%,  evdepth: 0.121%,  evloc: 0.724%,  evloc_big: 0.299%,  evmb: 0.914%,  evtime: 0.491%,  indep_peak: 0.001%,  peak_decay: 0.328%,  peak_offset: 0.135%,  swap_association: 0.000%,  , uatemplates:  1 , events:  3\n",
        "step 920: lp 127745.01, accepted "
       ]
      },
      {
       "output_type": "stream",
       "stream": "stdout",
       "text": [
        " arrival_time: 0.270%,  coda_decay: 0.293%,  coda_height: 0.290%,  evdepth: 0.122%,  evloc: 0.724%,  evloc_big: 0.299%,  evmb: 0.915%,  evtime: 0.491%,  indep_peak: 0.001%,  peak_decay: 0.328%,  peak_offset: 0.135%,  swap_association: 0.000%,  , uatemplates:  1 , events:  3\n",
        "step 940: lp 127728.64, accepted "
       ]
      },
      {
       "output_type": "stream",
       "stream": "stdout",
       "text": [
        " arrival_time: 0.270%,  coda_decay: 0.293%,  coda_height: 0.290%,  evdepth: 0.121%,  evloc: 0.722%,  evloc_big: 0.297%,  evmb: 0.915%,  evtime: 0.491%,  indep_peak: 0.001%,  peak_decay: 0.327%,  peak_offset: 0.134%,  swap_association: 0.000%,  , uatemplates:  1 , events:  3\n",
        "step 960: lp 127733.59, accepted "
       ]
      },
      {
       "output_type": "stream",
       "stream": "stdout",
       "text": [
        " arrival_time: 0.270%,  coda_decay: 0.293%,  coda_height: 0.289%,  evdepth: 0.122%,  evloc: 0.720%,  evloc_big: 0.295%,  evmb: 0.915%,  evtime: 0.490%,  indep_peak: 0.001%,  peak_decay: 0.327%,  peak_offset: 0.134%,  swap_association: 0.000%,  , uatemplates:  1 , events:  3\n",
        "step 980: lp 127736.40, accepted "
       ]
      },
      {
       "output_type": "stream",
       "stream": "stdout",
       "text": [
        " arrival_time: 0.269%,  coda_decay: 0.292%,  coda_height: 0.289%,  evdepth: 0.122%,  evloc: 0.719%,  evloc_big: 0.294%,  evmb: 0.915%,  evtime: 0.488%,  indep_peak: 0.001%,  peak_decay: 0.327%,  peak_offset: 0.134%,  swap_association: 0.000%,  , uatemplates:  1 , events:  3\n",
        "saving debug dump to logs/mcmc/00010/step_000999..."
       ]
      },
      {
       "output_type": "stream",
       "stream": "stdout",
       "text": [
        "\n",
        "saved pickled graph\n",
        "step 1000: lp 127777.20, accepted "
       ]
      },
      {
       "output_type": "stream",
       "stream": "stdout",
       "text": [
        " arrival_time: 0.269%,  coda_decay: 0.293%,  coda_height: 0.289%,  evdepth: 0.122%,  evloc: 0.720%,  evloc_big: 0.294%,  evmb: 0.915%,  evtime: 0.490%,  indep_peak: 0.001%,  peak_decay: 0.327%,  peak_offset: 0.134%,  swap_association: 0.000%,  , uatemplates:  1 , events:  3\n",
        "step 1020: lp 127773.43, accepted "
       ]
      },
      {
       "output_type": "stream",
       "stream": "stdout",
       "text": [
        " arrival_time: 0.268%,  coda_decay: 0.292%,  coda_height: 0.289%,  evdepth: 0.122%,  evloc: 0.721%,  evloc_big: 0.293%,  evmb: 0.915%,  evtime: 0.486%,  indep_peak: 0.001%,  peak_decay: 0.327%,  peak_offset: 0.134%,  swap_association: 0.000%,  , uatemplates:  1 , events:  3\n",
        "step 1040: lp 127728.69, accepted "
       ]
      },
      {
       "output_type": "stream",
       "stream": "stdout",
       "text": [
        " arrival_time: 0.268%,  coda_decay: 0.292%,  coda_height: 0.289%,  evdepth: 0.122%,  evloc: 0.722%,  evloc_big: 0.292%,  evmb: 0.915%,  evtime: 0.486%,  indep_peak: 0.001%,  peak_decay: 0.326%,  peak_offset: 0.134%,  swap_association: 0.000%,  , uatemplates:  1 , events:  3\n",
        "step 1060: lp 127748.36, accepted "
       ]
      },
      {
       "output_type": "stream",
       "stream": "stdout",
       "text": [
        " arrival_time: 0.268%,  coda_decay: 0.292%,  coda_height: 0.288%,  evdepth: 0.122%,  evloc: 0.722%,  evloc_big: 0.293%,  evmb: 0.914%,  evtime: 0.486%,  indep_peak: 0.001%,  peak_decay: 0.326%,  peak_offset: 0.134%,  swap_association: 0.000%,  , uatemplates:  1 , events:  3\n",
        "step 1080: lp 127745.10, accepted "
       ]
      },
      {
       "output_type": "stream",
       "stream": "stdout",
       "text": [
        " arrival_time: 0.268%,  coda_decay: 0.292%,  coda_height: 0.288%,  evdepth: 0.122%,  evloc: 0.723%,  evloc_big: 0.296%,  evmb: 0.914%,  evtime: 0.487%,  indep_peak: 0.001%,  peak_decay: 0.326%,  peak_offset: 0.133%,  swap_association: 0.000%,  , uatemplates:  1 , events:  3\n",
        "step 1100: lp 127754.99, accepted "
       ]
      },
      {
       "output_type": "stream",
       "stream": "stdout",
       "text": [
        " arrival_time: 0.268%,  coda_decay: 0.292%,  coda_height: 0.288%,  evdepth: 0.122%,  evloc: 0.724%,  evloc_big: 0.295%,  evmb: 0.914%,  evtime: 0.488%,  indep_peak: 0.001%,  peak_decay: 0.326%,  peak_offset: 0.133%,  swap_association: 0.000%,  , uatemplates:  1 , events:  3\n",
        "step 1120: lp 127741.78, accepted "
       ]
      },
      {
       "output_type": "stream",
       "stream": "stdout",
       "text": [
        " arrival_time: 0.268%,  coda_decay: 0.292%,  coda_height: 0.288%,  evdepth: 0.121%,  evloc: 0.725%,  evloc_big: 0.294%,  evmb: 0.914%,  evtime: 0.488%,  indep_peak: 0.001%,  peak_decay: 0.326%,  peak_offset: 0.133%,  swap_association: 0.000%,  , uatemplates:  1 , events:  3\n",
        "step 1140: lp 127742.73, accepted "
       ]
      },
      {
       "output_type": "stream",
       "stream": "stdout",
       "text": [
        " arrival_time: 0.268%,  coda_decay: 0.291%,  coda_height: 0.288%,  evdepth: 0.122%,  evloc: 0.728%,  evloc_big: 0.295%,  evmb: 0.914%,  evtime: 0.488%,  indep_peak: 0.001%,  peak_decay: 0.326%,  peak_offset: 0.133%,  swap_association: 0.000%,  , uatemplates:  1 , events:  3\n",
        "step 1160: lp 127720.32, accepted "
       ]
      },
      {
       "output_type": "stream",
       "stream": "stdout",
       "text": [
        " arrival_time: 0.268%,  coda_decay: 0.291%,  coda_height: 0.288%,  evdepth: 0.122%,  evloc: 0.730%,  evloc_big: 0.296%,  evmb: 0.914%,  evtime: 0.489%,  indep_peak: 0.001%,  peak_decay: 0.326%,  peak_offset: 0.133%,  swap_association: 0.000%,  , uatemplates:  1 , events:  3\n",
        "step 1180: lp 127728.42, accepted "
       ]
      },
      {
       "output_type": "stream",
       "stream": "stdout",
       "text": [
        " arrival_time: 0.268%,  coda_decay: 0.291%,  coda_height: 0.288%,  evdepth: 0.122%,  evloc: 0.730%,  evloc_big: 0.297%,  evmb: 0.914%,  evtime: 0.491%,  indep_peak: 0.001%,  peak_decay: 0.326%,  peak_offset: 0.133%,  swap_association: 0.000%,  , uatemplates:  1 , events:  3\n",
        "step 1200: lp 127755.77, accepted "
       ]
      },
      {
       "output_type": "stream",
       "stream": "stdout",
       "text": [
        " arrival_time: 0.268%,  coda_decay: 0.291%,  coda_height: 0.287%,  evdepth: 0.121%,  evloc: 0.732%,  evloc_big: 0.296%,  evmb: 0.914%,  evtime: 0.491%,  indep_peak: 0.001%,  peak_decay: 0.326%,  peak_offset: 0.133%,  swap_association: 0.000%,  , uatemplates:  1 , events:  3\n",
        "step 1220: lp 127756.20, accepted "
       ]
      },
      {
       "output_type": "stream",
       "stream": "stdout",
       "text": [
        " arrival_time: 0.267%,  coda_decay: 0.291%,  coda_height: 0.287%,  evdepth: 0.121%,  evloc: 0.733%,  evloc_big: 0.295%,  evmb: 0.914%,  evtime: 0.489%,  indep_peak: 0.001%,  peak_decay: 0.327%,  peak_offset: 0.133%,  swap_association: 0.000%,  , uatemplates:  1 , events:  3\n",
        "step 1240: lp 127741.48, accepted "
       ]
      },
      {
       "output_type": "stream",
       "stream": "stdout",
       "text": [
        " arrival_time: 0.267%,  coda_decay: 0.290%,  coda_height: 0.287%,  evdepth: 0.120%,  evloc: 0.735%,  evloc_big: 0.295%,  evmb: 0.915%,  evtime: 0.487%,  indep_peak: 0.001%,  peak_decay: 0.326%,  peak_offset: 0.133%,  swap_association: 0.000%,  , uatemplates:  1 , events:  3\n",
        "step 1260: lp 127730.22, accepted "
       ]
      },
      {
       "output_type": "stream",
       "stream": "stdout",
       "text": [
        " arrival_time: 0.266%,  coda_decay: 0.290%,  coda_height: 0.286%,  evdepth: 0.120%,  evloc: 0.735%,  evloc_big: 0.297%,  evmb: 0.915%,  evtime: 0.487%,  indep_peak: 0.001%,  peak_decay: 0.326%,  peak_offset: 0.133%,  swap_association: 0.000%,  , uatemplates:  1 , events:  3\n",
        "step 1280: lp 127755.22, accepted "
       ]
      },
      {
       "output_type": "stream",
       "stream": "stdout",
       "text": [
        " arrival_time: 0.266%,  coda_decay: 0.290%,  coda_height: 0.286%,  evdepth: 0.119%,  evloc: 0.737%,  evloc_big: 0.297%,  evmb: 0.915%,  evtime: 0.487%,  indep_peak: 0.001%,  peak_decay: 0.326%,  peak_offset: 0.132%,  swap_association: 0.000%,  , uatemplates:  1 , events:  3\n",
        "step 1300: lp 127761.47, accepted "
       ]
      },
      {
       "output_type": "stream",
       "stream": "stdout",
       "text": [
        " arrival_time: 0.266%,  coda_decay: 0.290%,  coda_height: 0.286%,  evdepth: 0.120%,  evloc: 0.737%,  evloc_big: 0.297%,  evmb: 0.916%,  evtime: 0.486%,  indep_peak: 0.001%,  peak_decay: 0.326%,  peak_offset: 0.132%,  swap_association: 0.000%,  , uatemplates:  1 , events:  3\n",
        "step 1320: lp 127740.76, accepted "
       ]
      },
      {
       "output_type": "stream",
       "stream": "stdout",
       "text": [
        " arrival_time: 0.265%,  coda_decay: 0.290%,  coda_height: 0.285%,  evdepth: 0.121%,  evloc: 0.737%,  evloc_big: 0.298%,  evmb: 0.916%,  evtime: 0.485%,  indep_peak: 0.001%,  peak_decay: 0.326%,  peak_offset: 0.132%,  swap_association: 0.000%,  , uatemplates:  1 , events:  3\n",
        "step 1340: lp 127731.77, accepted "
       ]
      },
      {
       "output_type": "stream",
       "stream": "stdout",
       "text": [
        " arrival_time: 0.265%,  coda_decay: 0.290%,  coda_height: 0.285%,  evdepth: 0.120%,  evloc: 0.738%,  evloc_big: 0.296%,  evmb: 0.916%,  evtime: 0.485%,  indep_peak: 0.001%,  peak_decay: 0.325%,  peak_offset: 0.132%,  swap_association: 0.000%,  , uatemplates:  1 , events:  3\n",
        "step 1360: lp 127741.92, accepted "
       ]
      },
      {
       "output_type": "stream",
       "stream": "stdout",
       "text": [
        " arrival_time: 0.265%,  coda_decay: 0.290%,  coda_height: 0.285%,  evdepth: 0.120%,  evloc: 0.738%,  evloc_big: 0.295%,  evmb: 0.915%,  evtime: 0.484%,  indep_peak: 0.001%,  peak_decay: 0.325%,  peak_offset: 0.132%,  swap_association: 0.000%,  , uatemplates:  1 , events:  3\n",
        "step 1380: lp 127731.50, accepted "
       ]
      },
      {
       "output_type": "stream",
       "stream": "stdout",
       "text": [
        " arrival_time: 0.265%,  coda_decay: 0.290%,  coda_height: 0.285%,  evdepth: 0.119%,  evloc: 0.739%,  evloc_big: 0.296%,  evmb: 0.913%,  evtime: 0.483%,  indep_peak: 0.001%,  peak_decay: 0.325%,  peak_offset: 0.132%,  swap_association: 0.000%,  , uatemplates:  1 , events:  3\n",
        "step 1400: lp 127749.59, accepted "
       ]
      },
      {
       "output_type": "stream",
       "stream": "stdout",
       "text": [
        " arrival_time: 0.265%,  coda_decay: 0.289%,  coda_height: 0.285%,  evdepth: 0.119%,  evloc: 0.740%,  evloc_big: 0.294%,  evmb: 0.914%,  evtime: 0.483%,  indep_peak: 0.001%,  peak_decay: 0.325%,  peak_offset: 0.132%,  swap_association: 0.000%,  , uatemplates:  1 , events:  3\n",
        "step 1420: lp 127743.56, accepted "
       ]
      },
      {
       "output_type": "stream",
       "stream": "stdout",
       "text": [
        " arrival_time: 0.265%,  coda_decay: 0.289%,  coda_height: 0.285%,  evdepth: 0.119%,  evloc: 0.740%,  evloc_big: 0.294%,  evmb: 0.913%,  evtime: 0.482%,  indep_peak: 0.001%,  peak_decay: 0.325%,  peak_offset: 0.132%,  swap_association: 0.000%,  , uatemplates:  1 , events:  3\n",
        "step 1440: lp 127740.76, accepted "
       ]
      },
      {
       "output_type": "stream",
       "stream": "stdout",
       "text": [
        " arrival_time: 0.265%,  coda_decay: 0.289%,  coda_height: 0.285%,  evdepth: 0.119%,  evloc: 0.740%,  evloc_big: 0.294%,  evmb: 0.913%,  evtime: 0.484%,  indep_peak: 0.001%,  peak_decay: 0.325%,  peak_offset: 0.132%,  swap_association: 0.000%,  , uatemplates:  1 , events:  3\n",
        "step 1460: lp 127754.92, accepted "
       ]
      },
      {
       "output_type": "stream",
       "stream": "stdout",
       "text": [
        " arrival_time: 0.265%,  coda_decay: 0.289%,  coda_height: 0.285%,  evdepth: 0.119%,  evloc: 0.742%,  evloc_big: 0.295%,  evmb: 0.913%,  evtime: 0.483%,  indep_peak: 0.001%,  peak_decay: 0.325%,  peak_offset: 0.131%,  swap_association: 0.000%,  , uatemplates:  1 , events:  3\n",
        "step 1480: lp 127746.89, accepted "
       ]
      },
      {
       "output_type": "stream",
       "stream": "stdout",
       "text": [
        " arrival_time: 0.265%,  coda_decay: 0.289%,  coda_height: 0.285%,  evdepth: 0.119%,  evloc: 0.741%,  evloc_big: 0.296%,  evmb: 0.914%,  evtime: 0.481%,  indep_peak: 0.001%,  peak_decay: 0.325%,  peak_offset: 0.131%,  swap_association: 0.000%,  , uatemplates:  1 , events:  3\n",
        "saving debug dump to logs/mcmc/00010/step_001499..."
       ]
      },
      {
       "output_type": "stream",
       "stream": "stdout",
       "text": [
        "\n",
        "saved pickled graph\n",
        "step 1500: lp 127739.36, accepted "
       ]
      },
      {
       "output_type": "stream",
       "stream": "stdout",
       "text": [
        " arrival_time: 0.265%,  coda_decay: 0.289%,  coda_height: 0.285%,  evdepth: 0.119%,  evloc: 0.740%,  evloc_big: 0.294%,  evmb: 0.914%,  evtime: 0.481%,  indep_peak: 0.001%,  peak_decay: 0.325%,  peak_offset: 0.131%,  swap_association: 0.000%,  , uatemplates:  1 , events:  3\n",
        "step 1520: lp 127727.37, accepted "
       ]
      },
      {
       "output_type": "stream",
       "stream": "stdout",
       "text": [
        " arrival_time: 0.265%,  coda_decay: 0.289%,  coda_height: 0.284%,  evdepth: 0.120%,  evloc: 0.738%,  evloc_big: 0.293%,  evmb: 0.914%,  evtime: 0.482%,  indep_peak: 0.001%,  peak_decay: 0.325%,  peak_offset: 0.131%,  swap_association: 0.000%,  , uatemplates:  1 , events:  3\n",
        "step 1540: lp 127755.17, accepted "
       ]
      },
      {
       "output_type": "stream",
       "stream": "stdout",
       "text": [
        " arrival_time: 0.265%,  coda_decay: 0.289%,  coda_height: 0.284%,  evdepth: 0.121%,  evloc: 0.736%,  evloc_big: 0.293%,  evmb: 0.913%,  evtime: 0.482%,  indep_peak: 0.001%,  peak_decay: 0.325%,  peak_offset: 0.131%,  swap_association: 0.000%,  , uatemplates:  1 , events:  3\n",
        "step 1560: lp 127744.15, accepted "
       ]
      },
      {
       "output_type": "stream",
       "stream": "stdout",
       "text": [
        " arrival_time: 0.264%,  coda_decay: 0.289%,  coda_height: 0.284%,  evdepth: 0.121%,  evloc: 0.735%,  evloc_big: 0.292%,  evmb: 0.914%,  evtime: 0.481%,  indep_peak: 0.001%,  peak_decay: 0.325%,  peak_offset: 0.131%,  swap_association: 0.000%,  , uatemplates:  1 , events:  3\n",
        "step 1580: lp 127765.50, accepted "
       ]
      },
      {
       "output_type": "stream",
       "stream": "stdout",
       "text": [
        " arrival_time: 0.264%,  coda_decay: 0.289%,  coda_height: 0.284%,  evdepth: 0.121%,  evloc: 0.736%,  evloc_big: 0.292%,  evmb: 0.913%,  evtime: 0.481%,  indep_peak: 0.001%,  peak_decay: 0.325%,  peak_offset: 0.131%,  swap_association: 0.000%,  , uatemplates:  1 , events:  3\n",
        "step 1600: lp 127748.95, accepted "
       ]
      },
      {
       "output_type": "stream",
       "stream": "stdout",
       "text": [
        " arrival_time: 0.264%,  coda_decay: 0.289%,  coda_height: 0.284%,  evdepth: 0.122%,  evloc: 0.737%,  evloc_big: 0.292%,  evmb: 0.913%,  evtime: 0.481%,  indep_peak: 0.001%,  peak_decay: 0.325%,  peak_offset: 0.131%,  swap_association: 0.000%,  , uatemplates:  1 , events:  3\n",
        "step 1620: lp 127732.92, accepted "
       ]
      },
      {
       "output_type": "stream",
       "stream": "stdout",
       "text": [
        " arrival_time: 0.264%,  coda_decay: 0.289%,  coda_height: 0.284%,  evdepth: 0.122%,  evloc: 0.738%,  evloc_big: 0.293%,  evmb: 0.913%,  evtime: 0.480%,  indep_peak: 0.001%,  peak_decay: 0.325%,  peak_offset: 0.131%,  swap_association: 0.000%,  , uatemplates:  1 , events:  3\n",
        "step 1640: lp 127756.78, accepted "
       ]
      },
      {
       "output_type": "stream",
       "stream": "stdout",
       "text": [
        " arrival_time: 0.264%,  coda_decay: 0.289%,  coda_height: 0.284%,  evdepth: 0.121%,  evloc: 0.738%,  evloc_big: 0.293%,  evmb: 0.913%,  evtime: 0.480%,  indep_peak: 0.001%,  peak_decay: 0.325%,  peak_offset: 0.130%,  swap_association: 0.000%,  , uatemplates:  1 , events:  3\n",
        "step 1660: lp 127756.51, accepted "
       ]
      },
      {
       "output_type": "stream",
       "stream": "stdout",
       "text": [
        " arrival_time: 0.264%,  coda_decay: 0.289%,  coda_height: 0.284%,  evdepth: 0.120%,  evloc: 0.737%,  evloc_big: 0.293%,  evmb: 0.913%,  evtime: 0.480%,  indep_peak: 0.001%,  peak_decay: 0.325%,  peak_offset: 0.130%,  swap_association: 0.000%,  , uatemplates:  1 , events:  3\n",
        "step 1680: lp 127752.10, accepted "
       ]
      },
      {
       "output_type": "stream",
       "stream": "stdout",
       "text": [
        " arrival_time: 0.264%,  coda_decay: 0.289%,  coda_height: 0.284%,  evdepth: 0.120%,  evloc: 0.737%,  evloc_big: 0.293%,  evmb: 0.913%,  evtime: 0.479%,  indep_peak: 0.001%,  peak_decay: 0.325%,  peak_offset: 0.130%,  swap_association: 0.000%,  , uatemplates:  1 , events:  3\n",
        "step 1700: lp 127758.37, accepted "
       ]
      },
      {
       "output_type": "stream",
       "stream": "stdout",
       "text": [
        " arrival_time: 0.264%,  coda_decay: 0.289%,  coda_height: 0.284%,  evdepth: 0.120%,  evloc: 0.738%,  evloc_big: 0.295%,  evmb: 0.914%,  evtime: 0.478%,  indep_peak: 0.001%,  peak_decay: 0.325%,  peak_offset: 0.130%,  swap_association: 0.000%,  , uatemplates:  1 , events:  3\n",
        "step 1720: lp 127736.32, accepted "
       ]
      },
      {
       "output_type": "stream",
       "stream": "stdout",
       "text": [
        " arrival_time: 0.263%,  coda_decay: 0.289%,  coda_height: 0.284%,  evdepth: 0.120%,  evloc: 0.738%,  evloc_big: 0.295%,  evmb: 0.914%,  evtime: 0.478%,  indep_peak: 0.001%,  peak_decay: 0.325%,  peak_offset: 0.130%,  swap_association: 0.000%,  , uatemplates:  1 , events:  3\n",
        "step 1740: lp 127759.98, accepted "
       ]
      },
      {
       "output_type": "stream",
       "stream": "stdout",
       "text": [
        " arrival_time: 0.263%,  coda_decay: 0.288%,  coda_height: 0.284%,  evdepth: 0.120%,  evloc: 0.739%,  evloc_big: 0.296%,  evmb: 0.913%,  evtime: 0.479%,  indep_peak: 0.001%,  peak_decay: 0.325%,  peak_offset: 0.130%,  swap_association: 0.000%,  , uatemplates:  1 , events:  3\n",
        "step 1760: lp 127729.25, accepted "
       ]
      },
      {
       "output_type": "stream",
       "stream": "stdout",
       "text": [
        " arrival_time: 0.263%,  coda_decay: 0.288%,  coda_height: 0.283%,  evdepth: 0.120%,  evloc: 0.740%,  evloc_big: 0.295%,  evmb: 0.913%,  evtime: 0.479%,  indep_peak: 0.001%,  peak_decay: 0.325%,  peak_offset: 0.130%,  swap_association: 0.000%,  , uatemplates:  1 , events:  3\n",
        "step 1780: lp 127721.38, accepted "
       ]
      },
      {
       "output_type": "stream",
       "stream": "stdout",
       "text": [
        " arrival_time: 0.263%,  coda_decay: 0.288%,  coda_height: 0.283%,  evdepth: 0.119%,  evloc: 0.742%,  evloc_big: 0.296%,  evmb: 0.914%,  evtime: 0.479%,  indep_peak: 0.001%,  peak_decay: 0.325%,  peak_offset: 0.130%,  swap_association: 0.000%,  , uatemplates:  1 , events:  3\n",
        "step 1800: lp 127742.46, accepted "
       ]
      },
      {
       "output_type": "stream",
       "stream": "stdout",
       "text": [
        " arrival_time: 0.263%,  coda_decay: 0.288%,  coda_height: 0.283%,  evdepth: 0.120%,  evloc: 0.742%,  evloc_big: 0.298%,  evmb: 0.914%,  evtime: 0.479%,  indep_peak: 0.001%,  peak_decay: 0.325%,  peak_offset: 0.130%,  swap_association: 0.000%,  , uatemplates:  1 , events:  3\n",
        "step 1820: lp 127746.89, accepted "
       ]
      },
      {
       "output_type": "stream",
       "stream": "stdout",
       "text": [
        " arrival_time: 0.263%,  coda_decay: 0.288%,  coda_height: 0.283%,  evdepth: 0.120%,  evloc: 0.743%,  evloc_big: 0.299%,  evmb: 0.915%,  evtime: 0.479%,  indep_peak: 0.001%,  peak_decay: 0.325%,  peak_offset: 0.130%,  swap_association: 0.000%,  , uatemplates:  1 , events:  3\n"
       ]
      },
      {
       "ename": "KeyboardInterrupt",
       "evalue": "",
       "output_type": "pyerr",
       "traceback": [
        "\u001b[1;31m---------------------------------------------------------------------------\u001b[0m\n\u001b[1;31mKeyboardInterrupt\u001b[0m                         Traceback (most recent call last)",
        "\u001b[1;32m<ipython-input-5-7e1a1d5c1d37>\u001b[0m in \u001b[0;36m<module>\u001b[1;34m()\u001b[0m\n\u001b[0;32m      7\u001b[0m                   \u001b[0mlogger\u001b[0m\u001b[1;33m=\u001b[0m\u001b[0mlogger\u001b[0m\u001b[1;33m,\u001b[0m\u001b[1;33m\u001b[0m\u001b[0m\n\u001b[0;32m      8\u001b[0m                   \u001b[0mstart_step\u001b[0m \u001b[1;33m=\u001b[0m \u001b[1;36m0\u001b[0m\u001b[1;33m,\u001b[0m\u001b[1;33m\u001b[0m\u001b[0m\n\u001b[1;32m----> 9\u001b[1;33m                   template_move_type = \"rw\")\n\u001b[0m",
        "\u001b[1;32m/home/dmoore/python/sigvisa/infer/run_mcmc.pyc\u001b[0m in \u001b[0;36mrun_open_world_MH\u001b[1;34m(sg, steps, enable_event_openworld, enable_event_moves, enable_template_openworld, enable_template_moves, template_move_type, logger, disable_moves, start_step, cyclic_template_moves, use_proxy_lp, template_openworld_custom)\u001b[0m\n\u001b[0;32m    259\u001b[0m                          \u001b[0mn_attempted\u001b[0m\u001b[1;33m=\u001b[0m\u001b[0mn_attempted\u001b[0m\u001b[1;33m,\u001b[0m\u001b[1;33m\u001b[0m\u001b[0m\n\u001b[0;32m    260\u001b[0m                          \u001b[0mn_accepted\u001b[0m\u001b[1;33m=\u001b[0m\u001b[0mn_accepted\u001b[0m\u001b[1;33m,\u001b[0m \u001b[0mmove_times\u001b[0m\u001b[1;33m=\u001b[0m\u001b[0mmove_times\u001b[0m\u001b[1;33m,\u001b[0m\u001b[1;33m\u001b[0m\u001b[0m\n\u001b[1;32m--> 261\u001b[1;33m                          sg=sg, ev_node=evnodes[node_name], std=stds[move_name], params=params)\n\u001b[0m\u001b[0;32m    262\u001b[0m \u001b[1;33m\u001b[0m\u001b[0m\n\u001b[0;32m    263\u001b[0m             \u001b[1;32mfor\u001b[0m \u001b[1;33m(\u001b[0m\u001b[0mmove_name\u001b[0m\u001b[1;33m,\u001b[0m \u001b[0mfn\u001b[0m\u001b[1;33m)\u001b[0m \u001b[1;32min\u001b[0m \u001b[0mevent_moves_special\u001b[0m\u001b[1;33m.\u001b[0m\u001b[0mitems\u001b[0m\u001b[1;33m(\u001b[0m\u001b[1;33m)\u001b[0m\u001b[1;33m:\u001b[0m\u001b[1;33m\u001b[0m\u001b[0m\n",
        "\u001b[1;32m/home/dmoore/python/sigvisa/infer/run_mcmc.pyc\u001b[0m in \u001b[0;36mrun_move\u001b[1;34m(move_name, fn, step, n_accepted, n_attempted, move_times, move_prob, cyclic, **kwargs)\u001b[0m\n\u001b[0;32m    117\u001b[0m \u001b[1;33m\u001b[0m\u001b[0m\n\u001b[0;32m    118\u001b[0m     \u001b[0mt0\u001b[0m  \u001b[1;33m=\u001b[0m \u001b[0mtime\u001b[0m\u001b[1;33m.\u001b[0m\u001b[0mtime\u001b[0m\u001b[1;33m(\u001b[0m\u001b[1;33m)\u001b[0m\u001b[1;33m\u001b[0m\u001b[0m\n\u001b[1;32m--> 119\u001b[1;33m     \u001b[0maccepted\u001b[0m \u001b[1;33m=\u001b[0m \u001b[0mfn\u001b[0m\u001b[1;33m(\u001b[0m\u001b[1;33m**\u001b[0m\u001b[0mkwargs\u001b[0m\u001b[1;33m)\u001b[0m\u001b[1;33m\u001b[0m\u001b[0m\n\u001b[0m\u001b[0;32m    120\u001b[0m     \u001b[0mt1\u001b[0m \u001b[1;33m=\u001b[0m \u001b[0mtime\u001b[0m\u001b[1;33m.\u001b[0m\u001b[0mtime\u001b[0m\u001b[1;33m(\u001b[0m\u001b[1;33m)\u001b[0m\u001b[1;33m\u001b[0m\u001b[0m\n\u001b[0;32m    121\u001b[0m \u001b[1;33m\u001b[0m\u001b[0m\n",
        "\u001b[1;32m/home/dmoore/python/sigvisa/infer/event_mcmc.py\u001b[0m in \u001b[0;36mev_move_full\u001b[1;34m(sg, ev_node, std, params, adaptive_block)\u001b[0m\n\u001b[0;32m    402\u001b[0m     \u001b[1;32mfor\u001b[0m \u001b[0msite\u001b[0m\u001b[1;33m,\u001b[0m \u001b[0mstas\u001b[0m \u001b[1;32min\u001b[0m \u001b[0msg\u001b[0m\u001b[1;33m.\u001b[0m\u001b[0msite_elements\u001b[0m\u001b[1;33m.\u001b[0m\u001b[0mitems\u001b[0m\u001b[1;33m(\u001b[0m\u001b[1;33m)\u001b[0m\u001b[1;33m:\u001b[0m\u001b[1;33m\u001b[0m\u001b[0m\n\u001b[0;32m    403\u001b[0m         \u001b[1;31m# TODO: can we get arriving phases for a site instead of sta?\u001b[0m\u001b[1;33m\u001b[0m\u001b[1;33m\u001b[0m\u001b[0m\n\u001b[1;32m--> 404\u001b[1;33m         \u001b[0mold_site_phases\u001b[0m\u001b[1;33m[\u001b[0m\u001b[0msite\u001b[0m\u001b[1;33m]\u001b[0m \u001b[1;33m=\u001b[0m \u001b[0mset\u001b[0m\u001b[1;33m(\u001b[0m\u001b[0msg\u001b[0m\u001b[1;33m.\u001b[0m\u001b[0mev_arriving_phases\u001b[0m\u001b[1;33m(\u001b[0m\u001b[0meid\u001b[0m\u001b[1;33m,\u001b[0m \u001b[0msite\u001b[0m\u001b[1;33m=\u001b[0m\u001b[0msite\u001b[0m\u001b[1;33m)\u001b[0m\u001b[1;33m)\u001b[0m\u001b[1;33m\u001b[0m\u001b[0m\n\u001b[0m\u001b[0;32m    405\u001b[0m \u001b[1;33m\u001b[0m\u001b[0m\n\u001b[0;32m    406\u001b[0m     \u001b[1;31m#lp_old = sg.joint_logprob(node_list=node_list, relevant_nodes=relevant_nodes, values=None)\u001b[0m\u001b[1;33m\u001b[0m\u001b[1;33m\u001b[0m\u001b[0m\n",
        "\u001b[1;32m/home/dmoore/python/sigvisa/graph/sigvisa_graph.pyc\u001b[0m in \u001b[0;36mev_arriving_phases\u001b[1;34m(self, eid, sta, site)\u001b[0m\n\u001b[0;32m    197\u001b[0m             \u001b[0msta\u001b[0m \u001b[1;33m=\u001b[0m \u001b[0mnext\u001b[0m\u001b[1;33m(\u001b[0m\u001b[0miter\u001b[0m\u001b[1;33m(\u001b[0m\u001b[0mself\u001b[0m\u001b[1;33m.\u001b[0m\u001b[0msite_elements\u001b[0m\u001b[1;33m[\u001b[0m\u001b[0msite\u001b[0m\u001b[1;33m]\u001b[0m\u001b[1;33m)\u001b[0m\u001b[1;33m)\u001b[0m\u001b[1;33m\u001b[0m\u001b[0m\n\u001b[0;32m    198\u001b[0m         \u001b[0msta_keys\u001b[0m \u001b[1;33m=\u001b[0m \u001b[1;33m[\u001b[0m\u001b[0mn\u001b[0m\u001b[1;33m.\u001b[0m\u001b[0mlabel\u001b[0m \u001b[1;32mfor\u001b[0m \u001b[0mn\u001b[0m \u001b[1;32min\u001b[0m \u001b[0mself\u001b[0m\u001b[1;33m.\u001b[0m\u001b[0mextended_evnodes\u001b[0m\u001b[1;33m[\u001b[0m\u001b[0meid\u001b[0m\u001b[1;33m]\u001b[0m \u001b[1;32mif\u001b[0m \u001b[0msta\u001b[0m \u001b[1;32min\u001b[0m \u001b[0mn\u001b[0m\u001b[1;33m.\u001b[0m\u001b[0mlabel\u001b[0m\u001b[1;33m]\u001b[0m\u001b[1;33m\u001b[0m\u001b[0m\n\u001b[1;32m--> 199\u001b[1;33m         \u001b[0mphases\u001b[0m \u001b[1;33m=\u001b[0m \u001b[0mset\u001b[0m\u001b[1;33m(\u001b[0m\u001b[1;33m[\u001b[0m\u001b[0mparse_key\u001b[0m\u001b[1;33m(\u001b[0m\u001b[0mk\u001b[0m\u001b[1;33m)\u001b[0m\u001b[1;33m[\u001b[0m\u001b[1;36m1\u001b[0m\u001b[1;33m]\u001b[0m \u001b[1;32mfor\u001b[0m \u001b[0mk\u001b[0m \u001b[1;32min\u001b[0m \u001b[0msta_keys\u001b[0m\u001b[1;33m]\u001b[0m\u001b[1;33m)\u001b[0m\u001b[1;33m\u001b[0m\u001b[0m\n\u001b[0m\u001b[0;32m    200\u001b[0m         \u001b[1;32mreturn\u001b[0m \u001b[0mlist\u001b[0m\u001b[1;33m(\u001b[0m\u001b[0mphases\u001b[0m\u001b[1;33m)\u001b[0m\u001b[1;33m\u001b[0m\u001b[0m\n\u001b[0;32m    201\u001b[0m \u001b[1;33m\u001b[0m\u001b[0m\n",
        "\u001b[1;32m/home/dmoore/python/sigvisa/graph/graph_utils.pyc\u001b[0m in \u001b[0;36mparse_key\u001b[1;34m(k, r)\u001b[0m\n\u001b[0;32m     67\u001b[0m     \u001b[1;32mif\u001b[0m \u001b[0mr\u001b[0m \u001b[1;32mis\u001b[0m \u001b[0mNone\u001b[0m\u001b[1;33m:\u001b[0m\u001b[1;33m\u001b[0m\u001b[0m\n\u001b[0;32m     68\u001b[0m         \u001b[0mr\u001b[0m \u001b[1;33m=\u001b[0m \u001b[0mdefault_r\u001b[0m\u001b[1;33m\u001b[0m\u001b[0m\n\u001b[1;32m---> 69\u001b[1;33m     \u001b[0mm\u001b[0m \u001b[1;33m=\u001b[0m \u001b[0mr\u001b[0m\u001b[1;33m.\u001b[0m\u001b[0mmatch\u001b[0m\u001b[1;33m(\u001b[0m\u001b[0mk\u001b[0m\u001b[1;33m)\u001b[0m\u001b[1;33m\u001b[0m\u001b[0m\n\u001b[0m\u001b[0;32m     70\u001b[0m     \u001b[1;32mif\u001b[0m \u001b[1;32mnot\u001b[0m \u001b[0mm\u001b[0m\u001b[1;33m:\u001b[0m \u001b[1;32mraise\u001b[0m \u001b[0mValueError\u001b[0m\u001b[1;33m(\u001b[0m\u001b[1;34m\"could not parse parent key %s\"\u001b[0m \u001b[1;33m%\u001b[0m \u001b[0mk\u001b[0m\u001b[1;33m)\u001b[0m\u001b[1;33m\u001b[0m\u001b[0m\n\u001b[0;32m     71\u001b[0m     \u001b[0meid\u001b[0m \u001b[1;33m=\u001b[0m \u001b[0mint\u001b[0m\u001b[1;33m(\u001b[0m\u001b[0mm\u001b[0m\u001b[1;33m.\u001b[0m\u001b[0mgroup\u001b[0m\u001b[1;33m(\u001b[0m\u001b[1;36m1\u001b[0m\u001b[1;33m)\u001b[0m\u001b[1;33m)\u001b[0m\u001b[1;33m\u001b[0m\u001b[0m\n",
        "\u001b[1;31mKeyboardInterrupt\u001b[0m: "
       ]
      }
     ],
     "prompt_number": 5
    },
    {
     "cell_type": "code",
     "collapsed": false,
     "input": [],
     "language": "python",
     "metadata": {},
     "outputs": []
    }
   ],
   "metadata": {}
  }
 ]
}