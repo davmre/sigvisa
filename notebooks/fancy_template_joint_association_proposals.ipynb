{
 "cells": [
  {
   "cell_type": "code",
   "execution_count": 1,
   "metadata": {
    "collapsed": true
   },
   "outputs": [],
   "source": [
    "%matplotlib inline\n",
    "import matplotlib.pylab as plt\n",
    "import numpy as np\n",
    "\n",
    "from sigvisa import Sigvisa\n",
    "from sigvisa.graph.sigvisa_graph import SigvisaGraph\n",
    "from sigvisa.signals.io import fetch_waveform\n",
    "from sigvisa.source.event import Event"
   ]
  },
  {
   "cell_type": "code",
   "execution_count": 2,
   "metadata": {
    "collapsed": true
   },
   "outputs": [],
   "source": [
    "def setup_graph(sta=\"PD31\"):\n",
    "    stime = 1239041000 \n",
    "    etime = 1239041400\n",
    "    \n",
    "    \n",
    "    s = Sigvisa()\n",
    "    cursor = s.dbconn.cursor()\n",
    "    wave = fetch_waveform(sta, chan=\"auto\", stime=stime, etime=etime, cursor=cursor)\n",
    "    wave = wave.filter(\"freq_0.8_4.5;env;hz_2\")\n",
    "    \n",
    "    sg = SigvisaGraph(template_model_type=\"param\", template_shape=\"lin_polyexp\",\n",
    "                      wiggle_model_type=\"dummy\", wiggle_family=\"iid\", \n",
    "                      dummy_fallback=True, runids = (3,),\n",
    "                      phases=[\"P\", \"S\", \"PcP\", \"ScP\", \"pP\", \"Pg\", \"Lg\"], base_srate=2.0,\n",
    "                      assume_envelopes=True, smoothing=None,\n",
    "                      hack_param_constraint=True,\n",
    "                      uatemplate_rate=1e-4)\n",
    "    sg.add_wave(wave)\n",
    "    \n",
    "    vals2 = dict([('mult_wiggle_std', 0.46665908122829375), ('coda_decay', -3.8817786855627583), ('peak_offset', 1.8717964476973965), ('coda_height', 4.6420525405366337), ('arrival_time', 1239041071.3935068), ('peak_decay', -3.3833567577066019)])\n",
    "    vals30 = dict([('mult_wiggle_std', 0.58921556906392525), ('coda_decay', -2.0648019615477597), ('peak_offset', 1.2059866915167161), ('coda_height', 4.9700447940413781), ('arrival_time', 1239041119.0734844), ('peak_decay', -1.8286789034181647)])\n",
    "    wn = sg.station_waves.values()[0][0]\n",
    "    sg.create_unassociated_template(wn, vals2['arrival_time'], tmid=2, initial_vals=vals2)\n",
    "    sg.create_unassociated_template(wn, vals2['arrival_time'], tmid=30, initial_vals=vals30)\n",
    "    return sg\n"
   ]
  },
  {
   "cell_type": "code",
   "execution_count": 3,
   "metadata": {
    "collapsed": false
   },
   "outputs": [],
   "source": [
    "sg = setup_graph()\n",
    "ev = Event(lon=-105.427, lat=43.731, depth=0.0, time=1239041017.07, mb=4.0)\n"
   ]
  },
  {
   "cell_type": "code",
   "execution_count": 4,
   "metadata": {
    "collapsed": false
   },
   "outputs": [
    {
     "name": "stdout",
     "output_type": "stream",
     "text": [
      "n_uatemplate: -18.5\n",
      "n_event: -0.6\n",
      "ev priors: ev 0.0\n",
      "ev observations: ev 0.0\n",
      "tt_residual: ev 0.0\n",
      "ev global cost (n + priors + tt): -0.6\n",
      "coda_decay: ev 0.0 ua -3.1 total -3.1\n",
      "peak_decay: ev 0.0 ua -2.5 total -2.5\n",
      "peak_offset: ev 0.0 ua -3.4 total -3.4\n",
      "coda_height: ev 0.0 ua -6.1 total -6.1\n",
      "mult_std_wiggle: ev 0.0 ua -0.3 total -0.3\n",
      "coef jointgp: 0.0\n",
      "total param: ev 0.0 ua -15.4 total -15.4\n",
      "priors+params: ev -0.6 ua -33.9 total -34.4\n",
      "station noise (observed signals): -1418.9\n",
      "noise model prior lp: 7.2\n",
      "overall: -1446.1\n",
      "official: -1446.1\n",
      "plotting uatemplate -2 as color (0.0, 0.0, 0.5, 1.0)\n",
      "plotting uatemplate -30 as color (0.0, 0.0, 0.60695187165775399, 1.0)\n",
      "reading station detections... \n"
     ]
    },
    {
     "name": "stderr",
     "output_type": "stream",
     "text": [
      "/home/dmoore/python/sigvisa/models/signal_model.py:587: FutureWarning: comparison to `None` will result in an elementwise object comparison in the future.\n",
      "  return TransientCombinedSSM(components, TSSM_NOISE_PADDING)\n"
     ]
    },
    {
     "data": {
      "text/plain": [
       "<matplotlib.axes._subplots.AxesSubplot at 0x7f1aee19c890>"
      ]
     },
     "execution_count": 4,
     "metadata": {},
     "output_type": "execute_result"
    },
    {
     "data": {
      "image/png": "[encoded data removed]",
      "text/plain": [
       "<matplotlib.figure.Figure at 0x7f1b004c7dd0>"
      ]
     },
     "metadata": {},
     "output_type": "display_data"
    }
   ],
   "source": [
    "sg.current_log_p_breakdown()\n",
    "wn = sg.station_waves.values()[0][0]\n",
    "wn.plot(ax=plt.gca())"
   ]
  },
  {
   "cell_type": "code",
   "execution_count": 5,
   "metadata": {
    "collapsed": false
   },
   "outputs": [
    {
     "ename": "ImportError",
     "evalue": "cannot import name template_association_logodds",
     "output_type": "error",
     "traceback": [
      "\u001b[1;31m---------------------------------------------------------------------------\u001b[0m",
      "\u001b[1;31mImportError\u001b[0m                               Traceback (most recent call last)",
      "\u001b[1;32m<ipython-input-5-b3df94b0ccc6>\u001b[0m in \u001b[0;36m<module>\u001b[1;34m()\u001b[0m\n\u001b[0;32m      2\u001b[0m \u001b[1;32mimport\u001b[0m \u001b[0mitertools\u001b[0m\u001b[1;33m\u001b[0m\u001b[0m\n\u001b[0;32m      3\u001b[0m \u001b[1;32mfrom\u001b[0m \u001b[0msigvisa\u001b[0m\u001b[1;33m.\u001b[0m\u001b[0mmodels\u001b[0m\u001b[1;33m.\u001b[0m\u001b[0mttime\u001b[0m \u001b[1;32mimport\u001b[0m \u001b[0mtt_predict\u001b[0m\u001b[1;33m\u001b[0m\u001b[0m\n\u001b[1;32m----> 4\u001b[1;33m \u001b[1;32mfrom\u001b[0m \u001b[0msigvisa\u001b[0m\u001b[1;33m.\u001b[0m\u001b[0minfer\u001b[0m\u001b[1;33m.\u001b[0m\u001b[0mevent_birthdeath\u001b[0m \u001b[1;32mimport\u001b[0m \u001b[0mtemplate_association_logodds\u001b[0m\u001b[1;33m,\u001b[0m \u001b[0massociate_template\u001b[0m\u001b[1;33m,\u001b[0m \u001b[0munassociate_template\u001b[0m\u001b[1;33m\u001b[0m\u001b[0m\n\u001b[0m\u001b[0;32m      5\u001b[0m \u001b[1;32mfrom\u001b[0m \u001b[0msigvisa\u001b[0m\u001b[1;33m.\u001b[0m\u001b[0mutils\u001b[0m\u001b[1;33m.\u001b[0m\u001b[0mcounter\u001b[0m \u001b[1;32mimport\u001b[0m \u001b[0mCounter\u001b[0m\u001b[1;33m\u001b[0m\u001b[0m\n\u001b[0;32m      6\u001b[0m \u001b[1;33m\u001b[0m\u001b[0m\n",
      "\u001b[1;31mImportError\u001b[0m: cannot import name template_association_logodds"
     ]
    }
   ],
   "source": [
    "from collections import defaultdict\n",
    "import itertools\n",
    "from sigvisa.models.ttime import tt_predict\n",
    "from sigvisa.infer.event_birthdeath import template_association_logodds, associate_template, unassociate_template\n",
    "from sigvisa.utils.counter import Counter\n",
    "\n",
    "def joint_association_distribution(sg, wn, eid, phases, ignore_mb=False, max_ttr=25.0):\n",
    "    ev = sg.get_event(eid)\n",
    "    possible_associations = defaultdict(list)\n",
    "    \n",
    "    for phase in phases:\n",
    "        pred_atime = ev.time + tt_predict(ev, wn.sta, phase=phase)\n",
    "        possible_associations[phase].append((None, sg.uatemplate_rate))\n",
    "        for tmid in sg.uatemplate_ids[(wn.sta,wn.chan,wn.band)]:\n",
    "            tmnodes = sg.uatemplates[tmid]\n",
    "            atime = tmnodes['arrival_time'].get_value()\n",
    "            if np.abs(atime - pred_atime) < max_ttr: \n",
    "                odds = np.exp(template_association_logodds(sg, wn, tmid, eid, phase, ignore_mb=ignore_mb))\n",
    "                possible_associations[phase].append((tmid, odds))\n",
    "                print \"odds for\", phase, tmid, \"are\", odds\n",
    "\n",
    "    vals = [possible_associations[k] for k in phases]\n",
    "    joint_dist = Counter()\n",
    "    for assoc in itertools.product(*vals):\n",
    "        tmids, odds = zip(*assoc)\n",
    "        nontrivial_tmids = [t for t in tmids if t is not None]\n",
    "        if len(set(nontrivial_tmids)) != len(nontrivial_tmids):\n",
    "            # duplicate tmid, assigned to two phases\n",
    "            continue\n",
    "        joint_dist[tmids] = np.prod(odds)\n",
    "    joint_dist.normalize()\n",
    "    return joint_dist\n",
    "    "
   ]
  },
  {
   "cell_type": "code",
   "execution_count": null,
   "metadata": {
    "collapsed": false
   },
   "outputs": [],
   "source": []
  },
  {
   "cell_type": "code",
   "execution_count": 151,
   "metadata": {
    "collapsed": false
   },
   "outputs": [],
   "source": [
    "from sigvisa.infer.event_birthdeath import smart_peak_time_proposal, heuristic_amplitude_posterior, ev_death_helper\n",
    "\n",
    "def clean_propose_phase_template(sg, wn, eid, phase, \n",
    "                                 fix_result=None, \n",
    "                                 debug_info=None,\n",
    "                                 ev=None):\n",
    "    # add the given phase to the graph, with appropriate proposal values (or fix_result)\n",
    "    # return the tmvals and stuff\n",
    "    if ev is None:\n",
    "        ev = sg.get_event(eid)\n",
    "        \n",
    "\n",
    "    # add the template\n",
    "    \n",
    "    #sg._topo_sort()\n",
    "    \n",
    "    # sample most of the template params from the event-conditional prior\n",
    "    tmnodes = sg.get_template_nodes(eid, wn.sta, phase, wn.band, wn.chan)\n",
    "    k_ttr, n_ttr = tmnodes[\"tt_residual\"]\n",
    "    k_time, n_time = tmnodes[\"arrival_time\"]\n",
    "    k_amp, n_amp = tmnodes[\"amp_transfer\"]\n",
    "    k_height, n_height = tmnodes[\"coda_height\"]\n",
    "    tmvals = {}\n",
    "    log_q = 0.0\n",
    "    for param, (k, n) in tmnodes.items():\n",
    "        if param in (\"tt_residual\", \"amp_transfer\") or n.deterministic():\n",
    "            continue\n",
    "        if fix_result is not None:\n",
    "            n.set_value(fix_result[param])\n",
    "        else:\n",
    "            n.parent_sample()\n",
    "        param_lp = n.log_p()\n",
    "        log_q += param_lp\n",
    "        \n",
    "        tmvals[param] = n.get_value()\n",
    "        if debug_info is not None:\n",
    "            debug_info[param] = (tmvals[param], param_lp, param_lp)\n",
    "        print \"param\", param, \"val\", tmvals[param], \"lp\", param_lp\n",
    "        \n",
    "    # then sample atime from the signal\n",
    "    pred_atime = ev.time + tt_predict(ev, wn.sta, phase)\n",
    "    debug_lps = {}\n",
    "    if fix_result is not None:\n",
    "        tmvals[\"arrival_time\"] = fix_result[\"arrival_time\"]\n",
    "    peak_lp = smart_peak_time_proposal(sg, wn, tmvals, eid, phase,\n",
    "                                       pred_atime,\n",
    "                                       use_correlation=False,\n",
    "                                       prebirth_unexplained=None,\n",
    "                                       exclude_arrs=[],\n",
    "                                       fix_result=(fix_result is not None))\n",
    "    n_time.set_value(key=k_time, value = tmvals[\"arrival_time\"])\n",
    "    log_q += peak_lp\n",
    "    if debug_info is not None:\n",
    "        debug_info[\"tt_residual\"] = (n_ttr.get_value(), peak_lp, n_ttr.log_p())\n",
    "\n",
    "    # then sample amplitude from the signal\n",
    "    amp_dist = heuristic_amplitude_posterior(sg, wn, tmvals, eid, phase, \n",
    "                                             exclude_arrs=[(eid, phase)], \n",
    "                                             unexplained = None, \n",
    "                                             full_tssm_proposal=False)\n",
    "    if fix_result is not None:\n",
    "        tmvals[\"coda_height\"] = fix_result[\"coda_height\"]\n",
    "    else:\n",
    "        tmvals[\"coda_height\"] = amp_dist.sample()\n",
    "    n_height.set_value(key=k_height, value=tmvals[\"coda_height\"])\n",
    "    amp_lp = amp_dist.log_p(tmvals[\"coda_height\"])\n",
    "    log_q += amp_lp\n",
    "    tmvals[\"amp_transfer\"] = n_amp.get_value(key=k_amp)\n",
    "    if debug_info is not None:\n",
    "        debug_info[\"amp_transfer\"] = (n_amp.get_value(), amp_lp, n_amp.log_p())\n",
    "    \n",
    "    return tmvals, log_q\n",
    "\n",
    "\n",
    "def current_template_proposal(sg, wn, eid, site=\"NVAR\", phase=\"P\", fix_result=False):\n",
    "    from sigvisa.infer.event_birthdeath import propose_phase_template    \n",
    "    tg = sg.template_generator(phase)\n",
    "    sg.add_event_site_phase(tg, site, phase, sg.evnodes[eid], sample_templates=True)\n",
    "    sg._topo_sort()\n",
    "    \n",
    "    tmvals = sg.get_template_vals(eid, wn.sta, phase, wn.band, wn.chan)\n",
    "    tmvals, tmpl_lp, debug_lps = propose_phase_template(sg, wn, eid, phase,\n",
    "                                                        use_correlation=False,\n",
    "                                                        prebirth_unexplained=None,\n",
    "                                                        include_presampled = True,\n",
    "                                                        tmvals = tmvals,\n",
    "                                                        return_debug=True,\n",
    "                                                        fix_result=fix_result)\n",
    "        \n",
    "    sg.set_template(eid, wn.sta, phase, wn.band, wn.chan, tmvals)\n",
    "    log_qforward = tmpl_lp\n",
    "    return tmvals, tmpl_lp\n",
    "\n",
    "        \n",
    "def joint_birth_helper(sg, proposed_ev, fix_result=None, eid=None, associate_using_mb=True):\n",
    "    s = Sigvisa()\n",
    "    # insert bullshit about \"unexplained kalman\" and about debugging, etc.\n",
    "    \n",
    "    inverse_fns = []\n",
    "    \n",
    "    if fix_result is None:\n",
    "        evnodes = sg.add_event(proposed_ev, eid=eid, no_templates=True)\n",
    "        eid = evnodes['mb'].eid\n",
    "    \n",
    "    log_qforward = 0.0\n",
    "    birth_record = {}\n",
    "    for site,elements in sg.site_elements.items():\n",
    "        site_phases = sorted(sg.predict_phases_site(proposed_ev, site=site))\n",
    "        for sta in elements:\n",
    "            for wn in sg.station_waves[sta]:\n",
    "                band, chan = wn.band, wn.chan\n",
    "                jd = joint_association_distribution(sg, wn, eid=eid, phases=site_phases)\n",
    "                if fix_result is None:\n",
    "                    assoc_tmids = jd.sample()\n",
    "                    assoc_lp = np.log(jd[assoc_tmids])\n",
    "                else:\n",
    "                    assoc_tmids = fix_result[wn.label][\"assoc_tmids\"]\n",
    "                    assoc_lp = np.log(jd[assoc_tmids]) if assoc_tmids in jd else -np.inf\n",
    "                print \"using assoc\", zip(site_phases, assoc_tmids), \"with lp\", assoc_lp\n",
    "                log_qforward += assoc_lp\n",
    "                    \n",
    "                for i_phase, phase in enumerate(site_phases):\n",
    "                    assoc_tmid = assoc_tmids[i_phase]\n",
    "                    if assoc_tmid is not None:\n",
    "                        associate_template(sg, wn, assoc_tmid, eid, phase, create_phase_arrival=True)\n",
    "                        inverse_fns.append(lambda wn=wn,phase=phase,tmid=assoc_tmid: unassociate_template(sg, wn, eid, phase, tmid=tmid))\n",
    "                    else:    \n",
    "                        fr_phase = None\n",
    "                        if fix_result is not None:\n",
    "                            fr_phase = fix_result[wn.label][phase]\n",
    "                        # propose values for this template and create it in the graph\n",
    "                        #tmvals, tmpl_lp = current_template_proposal(sg, wn, eid, site=site, phase=phase, fix_result=fr_phase)\n",
    "                        tmvals, tmpl_lp = clean_propose_phase_template(sg, wn, eid, phase=phase, fix_result=fr_phase)\n",
    "                        \n",
    "                        log_qforward += tmpl_lp\n",
    "                        \n",
    "                    birth_record[(wn, phase)] = (assoc_tmid is not None, None)\n",
    "                        \n",
    "    inverse_fns.append(lambda : sg.remove_event(eid))\n",
    "    sg._topo_sort()\n",
    "        \n",
    "    def revert_move():\n",
    "        for fn in inverse_fns:\n",
    "            fn()\n",
    "                    \n",
    "    if fix_result is not None:\n",
    "        return log_qforward, revert_move\n",
    "        \n",
    "    log_qbackward = ev_death_helper(sg, eid, use_correlation=False, \n",
    "                                    associate_using_mb=associate_using_mb, \n",
    "                                    fix_result=birth_record)\n",
    "    \n",
    "    \n",
    "    \n",
    "    \n",
    "\n",
    "    return log_qforward, log_qbackward, revert_move, eid        \n"
   ]
  },
  {
   "cell_type": "code",
   "execution_count": 153,
   "metadata": {
    "collapsed": false
   },
   "outputs": [],
   "source": [
    "import copy\n",
    "from sigvisa.infer.event_birthdeath import sample_deassociation_proposal\n",
    "\n",
    "\n",
    "def ev_birth_move(sg, location_proposal, \n",
    "                  debug_info=None,\n",
    "                  fix_result=None):\n",
    "    if fix_result is not None:\n",
    "        ev, eid = fix_result\n",
    "        log_qforward = location_proposal(sg, fix_result=ev)\n",
    "    else:\n",
    "        ev, log_qforward, extra = location_proposal(sg)\n",
    "        eid = None\n",
    "        \n",
    "    evnodes = sg.add_event(ev, eid=eid, no_templates=True)\n",
    "    eid = evnodes[\"loc\"].eid\n",
    "    \n",
    "    if debug_info is not None:\n",
    "        evnodes = set(sg.evnodes[eid].values())\n",
    "        evlps = [(n.label.split(\";\")[1], n.log_p()) for n in evnodes]\n",
    "        evlps += [('nevents', np.log(sg.event_rate))]\n",
    "        debug_info[\"ev\"] = (ev, log_qforward, evlps)\n",
    "    \n",
    "    def replicate_move():\n",
    "        sg.add_event(ev, eid=eid, no_templates=True)\n",
    "        \n",
    "    return log_qforward, replicate_move, eid\n",
    "    \n",
    "def ev_death_move(sg, fix_result=None):\n",
    "    \n",
    "    if fix_result is not None:\n",
    "        eid = fix_result\n",
    "    \n",
    "    log_qforward = -np.log(len(sg.evnodes.keys()))\n",
    "    \n",
    "    def replicate_move():\n",
    "        sg.remove_event(eid)\n",
    "    \n",
    "    ev = sg.get_event(eid)\n",
    "    replicate_move()\n",
    "    return log_qforward, replicate_move, ev\n",
    "\n",
    "def ev_sta_template_birth_helper(sg, wn, eid, site_phases, fix_result=None, debug_info=None, associate_using_mb=True):\n",
    "    log_qforward = 0    \n",
    "    band, chan = wn.band, wn.chan\n",
    "    jd = joint_association_distribution(sg, wn, eid=eid, phases=site_phases)\n",
    "    if fix_result is None:\n",
    "        assoc_tmids = jd.sample()\n",
    "        assoc_lp = np.log(jd[assoc_tmids])\n",
    "    else:\n",
    "        assoc_tmids = fix_result[\"assoc_tmids\"]\n",
    "        assoc_lp = np.log(jd[assoc_tmids]) if assoc_tmids in jd else -np.inf\n",
    "    print \"using assoc\", zip(site_phases, assoc_tmids), \"with lp\", assoc_lp\n",
    "    log_qforward += assoc_lp\n",
    "    \n",
    "    if debug_info is not None:\n",
    "        debug_info[\"assoc\"] = (zip(site_phases, assoc_tmids), assoc_lp, 0.0)\n",
    "\n",
    "    replicate_fns = []\n",
    "    birth_record = {}\n",
    "    for i_phase, phase in enumerate(site_phases):\n",
    "        debug_phase = None\n",
    "        if debug_info is not None:\n",
    "            debug_info[phase] = {}\n",
    "            debug_phase = debug_info[phase]\n",
    "            \n",
    "        assoc_tmid = assoc_tmids[i_phase]\n",
    "        if assoc_tmid is not None:\n",
    "            if debug_phase is not None:\n",
    "                tmnodes = sg.get_template_nodes(-assoc_tmid, wn.sta, \"UA\", wn.band, wn.chan)\n",
    "                ualps = dict([(param, n.log_p()) for (param, (k,n)) in tmnodes.items()])\n",
    "                    \n",
    "            \n",
    "            associate_template(sg, wn, assoc_tmid, eid, phase, create_phase_arrival=True)\n",
    "            replicate_fns.append(lambda sg=sg,wn=wn,phase=phase,eid=eid,tmid=assoc_tmid: \\\n",
    "                                  associate_template(sg, wn, tmid, eid, phase, create_phase_arrival=True))\n",
    "            \n",
    "            if debug_phase is not None:\n",
    "                tmnodes = sg.get_template_nodes(eid, wn.sta, phase, wn.band, wn.chan)\n",
    "                for (param, (k, n)) in tmnodes.items():\n",
    "                    if n.deterministic(): continue\n",
    "                    evlp = n.log_p()\n",
    "                    uaparam = param\n",
    "                    if param == \"amp_transfer\":\n",
    "                        uaparam = \"coda_height\"\n",
    "                    elif param == \"tt_residual\":\n",
    "                        uaparam = \"arrival_time\"\n",
    "                    ualp = ualps[uaparam]\n",
    "                    if uaparam==\"arrival_time\":\n",
    "                        ualp = np.log(sg.uatemplate_rate)\n",
    "                    v = n.get_value(key=k)\n",
    "                    debug_phase[param] = (v, ualp, evlp)\n",
    "        else:  \n",
    "\n",
    "            # add random variables for this phase to the graph (initially set to dummy values)\n",
    "            site = Sigvisa().get_array_site(wn.sta)\n",
    "            tg = sg.template_generator(phase)\n",
    "            f1 = lambda tg=tg, site=site, phase=phase, eid=eid : \\\n",
    "                   sg.add_event_site_phase(tg, site, phase, sg.evnodes[eid], sample_templates=False)\n",
    "            f1()\n",
    "            replicate_fns.append(f1)\n",
    "            \n",
    "            # now propose values for this template\n",
    "            fr_phase = None\n",
    "            if fix_result is not None:\n",
    "                fr_phase = fix_result[phase]\n",
    "            tmvals, tmpl_lp = clean_propose_phase_template(sg, wn, eid, phase=phase, \n",
    "                                                           fix_result=fr_phase, \n",
    "                                                           debug_info=debug_phase)      \n",
    "            # to replay this move, we just need to reset the proposed values\n",
    "            tmvals = copy.deepcopy(tmvals)\n",
    "            print wn.label, phase, \"amp_transfer\", tmvals[\"amp_transfer\"]\n",
    "            def rf(eid=eid, wn=wn, tmvals=tmvals, phase=phase):\n",
    "                sg.set_template(eid, wn.sta, phase, wn.band, wn.chan, tmvals)\n",
    "            replicate_fns.append(rf)\n",
    "            log_qforward += tmpl_lp\n",
    "            \n",
    "\n",
    "        birth_record[(phase)] = (assoc_tmid is not None, assoc_tmid, None)\n",
    "        \n",
    "    def replicate_fn():\n",
    "        for fn in replicate_fns:\n",
    "            fn()\n",
    "        \n",
    "    return log_qforward, replicate_fn, birth_record\n",
    "        \n",
    "def ev_sta_template_death_helper(sg, wn, eid, \n",
    "                                 fix_result=None,\n",
    "                                 debug_info=None):\n",
    "    death_record = {}\n",
    "    \n",
    "    s = Sigvisa()\n",
    "    site = s.get_array_site(wn.sta)\n",
    "    sta = wn.sta\n",
    "    replicate_fns = []\n",
    "    assoc_tmids = {}\n",
    "    log_qforward = 0.0\n",
    "    site_phases = sg.ev_arriving_phases(eid, sta)\n",
    "    for phase in site_phases:\n",
    "        if fix_result is not None:\n",
    "            deassociate, tmid, fixed_tmvals = fix_result[phase]\n",
    "        else:\n",
    "            deassociate = None\n",
    "            tmid = None\n",
    "            fixed_tmvals = None\n",
    "        deassociate, deassociate_logprob = sample_deassociation_proposal(sg, wn, eid, phase, \n",
    "                                                                         fix_result = deassociate)\n",
    "        log_qforward += deassociate_logprob\n",
    "        if deassociate:\n",
    "            tmid = unassociate_template(sg, wn, eid, phase, tmid=tmid)\n",
    "            replicate_fns.append(lambda wn=wn,phase=phase,eid=eid,tmid=tmid: \\\n",
    "                                 unassociate_template(sg, wn, eid, phase, tmid=tmid))\n",
    "\n",
    "            print \"proposing to deassociate %s at %s (lp %.1f)\" % (phase, sta, deassociate_logprob)\n",
    "            assoc_tmids[phase] = tmid\n",
    "        else:\n",
    "            if fix_result is None:\n",
    "                template_param_array = sg.get_template_vals(eid, wn.sta, phase, wn.band, wn.chan)\n",
    "                sg.delete_event_phase(eid, wn.sta, phase)\n",
    "                replicate_fns.append(lambda eid=eid, sta=wn.sta, phase=phase: sg.delete_event_phase(eid, sta, phase))\n",
    "                print \"proposing to delete %s at %s (lp %f)\"% (phase, sta, deassociate_logprob)                \n",
    "                death_record[phase] = template_param_array\n",
    "\n",
    "    sorted_tmids = [assoc_tmids[phase] if phase in assoc_tmids else None for phase in sorted(site_phases)]\n",
    "    death_record[\"assoc_tmids\"] = tuple(sorted_tmids)\n",
    "    \n",
    "    def replicate_move():\n",
    "        for fn in replicate_fns:\n",
    "            fn()\n",
    "    \n",
    "    return log_qforward, replicate_move, death_record\n",
    "    \n",
    "def ev_template_birth_helper(sg, eid, fix_result=None, \n",
    "                             associate_using_mb=True,\n",
    "                             debug_info=None):\n",
    "    death_records = {}\n",
    "    replicate_fns = []\n",
    "    log_qforward = 0\n",
    "    proposed_ev = sg.get_event(eid)\n",
    "    for site,elements in sg.site_elements.items():\n",
    "        site_phases = sorted(sg.predict_phases_site(proposed_ev, site=site))\n",
    "        for sta in elements:\n",
    "            debug_info_sta = None\n",
    "            if fix_result is None and debug_info is not None:\n",
    "                if sta not in debug_info:\n",
    "                    debug_info[sta] = dict()\n",
    "                debug_info_sta = debug_info[sta]\n",
    "                debug_info[sta][\"wn_old\"] = np.sum([wn.log_p() for wn in sg.station_waves[sta]])\n",
    "                \n",
    "            for wn in sg.station_waves[sta]:\n",
    "                fr_sta = None\n",
    "                if fix_result is not None:\n",
    "                    fr_sta = fix_result[wn.label]                \n",
    "                lqf_sta, replicate_sta, death_sta = ev_sta_template_birth_helper(sg, wn, eid=eid, \n",
    "                                                                                 site_phases=site_phases,\n",
    "                                                                                 fix_result=fr_sta,\n",
    "                                                                                 associate_using_mb=associate_using_mb,\n",
    "                                                                                 debug_info=debug_info_sta)\n",
    "                log_qforward += lqf_sta\n",
    "                replicate_fns.append(replicate_sta)\n",
    "                death_records[wn.label] = death_sta\n",
    "                \n",
    "            if debug_info_sta is not None:\n",
    "                debug_info[sta][\"wn_new\"] = np.sum([wn.log_p() for wn in sg.station_waves[sta]])\n",
    "                \n",
    "    def replicate_move():\n",
    "        for fn in replicate_fns:\n",
    "            fn()\n",
    "    \n",
    "    return log_qforward, replicate_move, death_records\n",
    "\n",
    "def ev_template_death_helper(sg, eid, fix_result=None):\n",
    "    birth_records = {}\n",
    "    replicate_fns = []\n",
    "    log_qforward = 0.0\n",
    "    for site,elements in sg.site_elements.items():\n",
    "        for sta in elements:\n",
    "            for wn in sg.station_waves[sta]:\n",
    "                fr_sta = None\n",
    "                if fix_result is not None:\n",
    "                    fr_sta = fix_result[wn.label]                \n",
    "                lqf_sta, replicate_sta, birth_sta = ev_sta_template_death_helper(sg, wn, eid, fix_result=fr_sta)\n",
    "                replicate_fns.append(replicate_sta)\n",
    "                log_qforward += lqf_sta\n",
    "                birth_records[wn.label] = birth_sta\n",
    "                \n",
    "    def replicate_move():\n",
    "        for fn in replicate_fns:\n",
    "            fn()\n",
    "            \n",
    "    return log_qforward, replicate_move, birth_records\n",
    "                \n",
    "def dummy_proposal(sg, fix_result=None):\n",
    "    ev = Event(lon=-105.427, lat=43.731, depth=0.0, time=1239041017.07, mb=4.0)\n",
    "    \n",
    "    if fix_result is not None:\n",
    "        return 0.0\n",
    "    \n",
    "    return ev, 0.0, ()\n",
    "    \n",
    "def birth_move(sg, location_proposal, associate_using_mb=True):\n",
    "    log_qforward = 0.0\n",
    "    log_qbackward = 0.0\n",
    "    \n",
    "    lp_old = sg.current_log_p()\n",
    "        \n",
    "    debug_info = {}\n",
    "        \n",
    "    lq_loc, replicate_birth, eid = ev_birth_move(sg, location_proposal, debug_info=debug_info)\n",
    "    log_qforward += lq_loc\n",
    "\n",
    "    lqf, replicate_tmpls, death_records = ev_template_birth_helper(sg, eid, associate_using_mb=True, \n",
    "                                                                   debug_info=debug_info)\n",
    "    log_qforward += lqf\n",
    "    sg._topo_sort()\n",
    "    \n",
    "    lp_new = sg.current_log_p()\n",
    "    sg.current_log_p_breakdown()\n",
    "    print [(n.label, n.get_value(), n.log_p()) for n in  sg.all_nodes.values() if \"amp_transfer\" in n.label]\n",
    "    print [(n.label, n.get_value()) for n in  sg.all_nodes.values() if \"coda_height\" in n.label]\n",
    "    \n",
    "    lqb, replicate_untmpls, birth_records = ev_template_death_helper(sg, eid, fix_result=death_records)\n",
    "    log_qbackward += lqb\n",
    "    \n",
    "    lq_death, replicate_death, ev = ev_death_move(sg, fix_result=eid)\n",
    "    log_qbackward += lq_death\n",
    "    sg._topo_sort()\n",
    "    \n",
    "    lp_old2 = sg.current_log_p()\n",
    "    assert(lp_old2 == lp_old)\n",
    "    \n",
    "    def rebirth():\n",
    "        replicate_birth()\n",
    "        replicate_tmpls()\n",
    "        sg._topo_sort()\n",
    "        \n",
    "    def redeath():\n",
    "        replicate_untmpls() # maybe not technically necessary\n",
    "        replicate_death()\n",
    "        sg._topo_sort()\n",
    "    \n",
    "    return log_qforward, log_qbackward, rebirth, redeath, lp_new, lp_old, lp_old2, debug_info"
   ]
  },
  {
   "cell_type": "code",
   "execution_count": 154,
   "metadata": {
    "collapsed": false
   },
   "outputs": [
    {
     "name": "stdout",
     "output_type": "stream",
     "text": [
      "odds for Lg 30 are [ 433.06575521]\n",
      "odds for P 2 are [ 383.45688014]\n",
      "odds for Pg 2 are [ 1144.18094202]\n",
      "odds for S 30 are [ 4.39010557]\n",
      "using assoc [('Lg', 30), ('P', None), ('Pg', 2), ('S', None)] with lp [-0.29912012]\n",
      "param mult_wiggle_std val 0.640292986865 lp [ 0.01562621]\n",
      "param coda_decay val -3.63089271101 lp -1.40820849385\n",
      "param peak_offset val -0.322395422247 lp -1.61267045243\n",
      "param peak_decay val -2.42273270452 lp -1.49856591528\n",
      "wave_PD31_BHZ_freq_0.8_4.5_1239040980.0 P amp_transfer -2.00623007447\n",
      "param mult_wiggle_std val 0.620349459722 lp [-1.49877449]\n",
      "param coda_decay val -0.787351985906 lp -1.31505642418\n",
      "param peak_offset val -0.000829540920066 lp -1.53210535499\n",
      "param peak_decay val -1.18570119167 lp -1.40253865182\n",
      "wave_PD31_BHZ_freq_0.8_4.5_1239040980.0 S amp_transfer -3.01166216791\n",
      "n_uatemplate: -0.0\n",
      "n_event: -7.2\n",
      "ev priors: ev -5.7\n",
      "ev observations: ev 0.0\n",
      "tt_residual: ev -14.9\n",
      "ev global cost (n + priors + tt): -27.9\n",
      "coda_decay: ev -7.5 ua 0.0 total -7.5\n",
      "peak_decay: ev -5.9 ua 0.0 total -5.9\n",
      "peak_offset: ev -6.1 ua 0.0 total -6.1\n",
      "coda_height: ev -15.4 ua 0.0 total -15.4\n",
      "mult_std_wiggle: ev -1.3 ua 0.0 total -1.3\n",
      "coef jointgp: 0.0\n",
      "total param: ev -36.3 ua 0.0 total -36.3\n",
      "priors+params: ev -64.1 ua -0.0 total -64.2\n",
      "station noise (observed signals): -1418.9\n",
      "noise model prior lp: 7.2\n",
      "overall: -1475.9\n",
      "official: -1475.9\n",
      "[('1;S;PD31;:;:;amp_transfer', -3.0116621679061666, -5.4662302605624999), ('1;Lg;PD31;:;:;amp_transfer', 6.2256390815482785, -1.9330270135529224), ('1;P;PD31;:;:;amp_transfer', -2.0062300744700514, -6.0248325988226377), ('1;Pg;PD31;:;:;amp_transfer', 6.625700321749969, -1.9498824206596634)]\n",
      "[('1;Lg;PD31;BHZ;freq_0.8_4.5;coda_height', 4.9700447940413781), ('1;Pg;PD31;BHZ;freq_0.8_4.5;coda_height', 4.6420525405366337), ('1;S;PD31;BHZ;freq_0.8_4.5;coda_height', -4.267256455413067), ('1;P;PD31;BHZ;freq_0.8_4.5;coda_height', -3.9898778556833872)]\n",
      "proposing to deassociate Lg at PD31 (lp -0.0)\n",
      "proposing to deassociate Pg at PD31 (lp -0.0)\n"
     ]
    }
   ],
   "source": [
    "sg = setup_graph()\n",
    "ev = Event(lon=-105.427, lat=43.731, depth=0.0, time=1239041017.07, mb=4.0)\n",
    "\n",
    "lp_old = sg.current_log_p()\n",
    "log_qforward, log_qbackward, rebirth, redeath, lp_new, lp_old1, lp_old2, debug_info = birth_move(sg, dummy_proposal)\n",
    "#lp_new = sg.current_log_p()"
   ]
  },
  {
   "cell_type": "code",
   "execution_count": 155,
   "metadata": {
    "collapsed": false
   },
   "outputs": [],
   "source": [
    "def prettyprint_debug(birth_debug):\n",
    "    s = \"\"\n",
    "\n",
    "    # track lp_new - (lp_old + log_qforward)\n",
    "    overall_score = 0\n",
    "    \n",
    "\n",
    "    ev, lq_ev, lps_ev = birth_debug[\"ev\"]\n",
    "    s += \"proposed ev %s\\n\" % ev\n",
    "    s += \"proposal logq %.2f, lps \" % lq_ev\n",
    "    total_lp = 0\n",
    "    for (param, lp) in lps_ev:\n",
    "        s += \"%s %.2f, \" % (param, lp)\n",
    "        total_lp += lp\n",
    "    delta = total_lp - lq_ev\n",
    "    s += \"total %.2f, delta %.2f\\n\" % (total_lp, delta)\n",
    "    overall_score = delta\n",
    "\n",
    "    \n",
    "    for sta in birth_debug.keys():\n",
    "        if sta==\"ev\": continue\n",
    "\n",
    "        wn_old, wn_new = birth_debug[sta][\"wn_old\"], birth_debug[sta][\"wn_new\"]\n",
    "        wn_delta = wn_new - wn_old\n",
    "        phase_assocs, assoc_lp, _ = birth_debug[sta][\"assoc\"]\n",
    "        s += \"sta %s wn_old %.2f wn_new %.2f wn_delta %.2f assoc %.2f overall STASCORE\\n\" % (sta, wn_old, wn_new, wn_delta, assoc_lp)\n",
    "        sta_score = wn_delta - assoc_lp\n",
    "        \n",
    "        phase_assocs = dict(phase_assocs)\n",
    "        \n",
    "        for phase in birth_debug[sta].keys():\n",
    "            if \"wn\" in phase or phase==\"assoc\" : continue\n",
    "            phase_score = 0\n",
    "            tmid = phase_assocs[phase]\n",
    "            if tmid is not None:\n",
    "                s += \" phase %s: associating tmid %d, score PHASESCORE\\n\" % (phase, tmid)\n",
    "            else:\n",
    "                s += \" phase %s: birthing new template, score PHASESCORE\\n\" % (phase)\n",
    "\n",
    "            d = birth_debug[sta][phase]\n",
    "            for param, (v, lp1, lp2) in sorted(d.items()):\n",
    "                if param==\"assoc\": continue\n",
    "                delta = lp2-lp1\n",
    "                if tmid is not None:\n",
    "                    s += \"   %s %.2f ualp %.2f evlp %.2f delta %.2f\\n\" % (param, v, lp1, lp2, delta)\n",
    "                else:\n",
    "                    s += \"   %s %.2f logq %.2f logp %.2f delta %.2f\\n\" % (param, v, lp1, lp2, delta)\n",
    "                phase_score += delta\n",
    "            s = s.replace(\"PHASESCORE\", \"%.2f\" % phase_score)\n",
    "            sta_score += phase_score\n",
    "\n",
    "        overall_score += sta_score\n",
    "        s = s.replace(\"STASCORE\", \"%.2f\" % sta_score)\n",
    "    s += \"final proposal score %.2f\\n\" % overall_score\n",
    "    s += \"REMEMBER: the acceptance ratio also includes the reverse proposal probability from the death move.\\n\"\n",
    "    return s"
   ]
  },
  {
   "cell_type": "code",
   "execution_count": 156,
   "metadata": {
    "collapsed": false
   },
   "outputs": [
    {
     "name": "stdout",
     "output_type": "stream",
     "text": [
      "-1446.11046805 -1446.11046805 [-1475.85747632]\n",
      "[-14.35476973] -0.00987828503438\n",
      "[-15.40211681]\n"
     ]
    }
   ],
   "source": [
    "print lp_old, lp_old2, lp_new\n",
    "print log_qforward, log_qbackward\n",
    "\n",
    "print (lp_new + log_qbackward) - (lp_old + log_qforward)"
   ]
  },
  {
   "cell_type": "code",
   "execution_count": 167,
   "metadata": {
    "collapsed": false
   },
   "outputs": [],
   "source": [
    "rebirth()"
   ]
  },
  {
   "cell_type": "code",
   "execution_count": 168,
   "metadata": {
    "collapsed": false
   },
   "outputs": [
    {
     "name": "stdout",
     "output_type": "stream",
     "text": [
      "[-1475.85747635]\n"
     ]
    }
   ],
   "source": [
    "print sg.current_log_p()\n"
   ]
  },
  {
   "cell_type": "code",
   "execution_count": 169,
   "metadata": {
    "collapsed": true
   },
   "outputs": [],
   "source": [
    "redeath()"
   ]
  },
  {
   "cell_type": "code",
   "execution_count": 170,
   "metadata": {
    "collapsed": false
   },
   "outputs": [
    {
     "name": "stdout",
     "output_type": "stream",
     "text": [
      "-1446.11046805\n"
     ]
    }
   ],
   "source": [
    "print sg.current_log_p()\n"
   ]
  },
  {
   "cell_type": "code",
   "execution_count": 9,
   "metadata": {
    "collapsed": false
   },
   "outputs": [],
   "source": [
    "\n",
    "def ev_death_helper_new(sg, eid, use_correlation=False, associate_using_mb=True, fix_result=None):\n",
    "    # fix_result is a dict mapping (wn, phase) -> (disassociated, tmvals)\n",
    "    ev = sg.get_event(eid)\n",
    "\n",
    "    next_uatemplateid = sg.next_uatemplateid\n",
    "\n",
    "    move_logprob = 0\n",
    "    reverse_logprob = 0\n",
    "\n",
    "    forward_fns = []\n",
    "    inverse_fns = []\n",
    "    inverse_fns.append(lambda : sg.add_event(ev, eid=eid))\n",
    "\n",
    "    tmids = []\n",
    "    tmid_i = 0\n",
    "\n",
    "    death_record = {}\n",
    "\n",
    "    for elements in sg.site_elements.values():\n",
    "        for sta in elements:\n",
    "            for wn in sg.station_waves[sta]:\n",
    "                death_record[wn.label] = {}\n",
    "                s = Sigvisa()\n",
    "                site = s.get_array_site(sta)\n",
    "                template_param_array = None\n",
    "                site_phases = sg.ev_arriving_phases(eid, sta)\n",
    "                assoc_tmids = {}\n",
    "                for phase in sg.ev_arriving_phases(eid, sta):\n",
    "                    #if (eid, phase) not in wn.arrivals():\n",
    "                    #    continue\n",
    "\n",
    "                    if fix_result is not None:\n",
    "                        deassociate, fixed_tmvals = fix_result[(wn, phase)]\n",
    "                    else:\n",
    "                        deassociate = None\n",
    "                        fixed_tmvals = None\n",
    "                    deassociate, deassociate_logprob = sample_deassociation_proposal(sg, wn, eid, phase, \n",
    "                                                                                     fix_result = deassociate)\n",
    "\n",
    "                    move_logprob += deassociate_logprob\n",
    "                    if deassociate:\n",
    "                        tmid = unassociate_template(sg, wn, eid, phase)\n",
    "                        inverse_fns.append(lambda wn=wn,phase=phase,tmid=tmid: associate_template(sg, wn, tmid, eid, phase))\n",
    "\n",
    "                        print \"proposing to deassociate %s at %s (lp %.1f)\" % (phase, sta, deassociate_logprob)\n",
    "                        assoc_tmids[phase] = tmid\n",
    "                        \n",
    "                    else:\n",
    "                        if fix_result is None:\n",
    "                            template_param_array = sg.get_template_vals(eid, wn.sta, phase, wn.band, wn.chan)\n",
    "                            sg.delete_event_phase(eid, wn.sta, phase)\n",
    "                            print \"TODO: inverse of delete phase is create phase\"\n",
    "                            inverse_fns.append(lambda wn=wn,phase=phase,template_param_array=template_param_array : sg.set_template(eid,wn.sta, phase, wn.band, wn.chan, template_param_array))\n",
    "                            print \"proposing to delete %s at %s (lp %f)\"% (phase, sta, deassociate_logprob)                \n",
    "                            death_record[wn.label][phase] = template_param_array\n",
    "\n",
    "                sorted_tmids = [assoc_tmids[phase] if phase in assoc_tmids else None for phase in sorted(site_phases)]\n",
    "                death_record[wn.label][\"assoc_tmids\"] = tuple(sorted_tmids)\n",
    "\n",
    "    sg.remove_event(eid)\n",
    "    sg._topo_sort()\n",
    "                \n",
    "    if fix_result is not None:\n",
    "        return move_logprob\n",
    "\n",
    "    reverse_logprob = joint_birth_helper(sg, ev, \n",
    "                                         associate_using_mb=associate_using_mb, eid=eid,\n",
    "                                         fix_result=death_record)\n",
    "\n",
    "    def revert_move():\n",
    "        for fn in inverse_fns:\n",
    "            fn()\n",
    "        sg._topo_sort()\n",
    "        sg.next_uatemplateid = next_uatemplateid\n",
    "\n",
    "    return move_logprob, reverse_logprob, revert_move"
   ]
  },
  {
   "cell_type": "code",
   "execution_count": 160,
   "metadata": {
    "collapsed": false
   },
   "outputs": [
    {
     "name": "stdout",
     "output_type": "stream",
     "text": [
      "proposed ev evid None, loc 105.43 W 43.73 N, depth 0.0km, time 1239041017.1, mb 4.0, natural source\n",
      "proposal logq 0.00, lps mb -3.77, source -0.00, loc -1.97, time 0.00, nevents -6.67, total -12.41, delta -12.41\n",
      "sta PD31 wn_old -1418.88 wn_new -1418.88 wn_delta -0.00 assoc -0.30 overall -2.98\n",
      " phase Lg: associating tmid 30, score 6.07\n",
      "   amp_transfer 6.23 ualp -3.13 evlp -1.93 delta 1.19\n",
      "   coda_decay -2.06 ualp -1.37 evlp -2.95 delta -1.58\n",
      "   mult_wiggle_std 0.59 ualp 0.15 evlp 0.09 delta -0.07\n",
      "   peak_decay -1.83 ualp -1.14 evlp -1.30 delta -0.15\n",
      "   peak_offset 1.21 ualp -1.35 evlp -1.24 delta 0.11\n",
      "   tt_residual 2.01 ualp -9.21 evlp -2.64 delta 6.57\n",
      " phase P: birthing new template, score -13.09\n",
      "   amp_transfer -2.01 logq 0.75 logp -6.02 delta -6.77\n",
      "   coda_decay -3.63 logq -1.41 logp -1.41 delta 0.00\n",
      "   mult_wiggle_std 0.64 logq 0.02 logp 0.02 delta 0.00\n",
      "   peak_decay -2.42 logq -1.50 logp -1.50 delta 0.00\n",
      "   peak_offset -0.32 logq -1.61 logp -1.61 delta 0.00\n",
      "   tt_residual 8.52 logq -0.10 logp -6.43 delta -6.32\n",
      " phase S: birthing new template, score -3.30\n",
      "   amp_transfer -3.01 logq -2.96 logp -5.47 delta -2.50\n",
      "   coda_decay -0.79 logq -1.32 logp -1.32 delta 0.00\n",
      "   mult_wiggle_std 0.62 logq -1.50 logp -1.50 delta 0.00\n",
      "   peak_decay -1.19 logq -1.40 logp -1.40 delta 0.00\n",
      "   peak_offset -0.00 logq -1.53 logp -1.53 delta 0.00\n",
      "   tt_residual -1.27 logq -1.48 logp -2.28 delta -0.80\n",
      " phase Pg: associating tmid 2, score 7.04\n",
      "   amp_transfer 6.63 ualp -2.97 evlp -1.95 delta 1.02\n",
      "   coda_decay -3.88 ualp -1.75 evlp -1.85 delta -0.10\n",
      "   mult_wiggle_std 0.47 ualp -0.49 evlp 0.07 delta 0.56\n",
      "   peak_decay -3.38 ualp -1.31 evlp -1.75 delta -0.44\n",
      "   peak_offset 1.87 ualp -2.04 evlp -1.70 delta 0.33\n",
      "   tt_residual -5.47 ualp -9.21 evlp -3.54 delta 5.67\n",
      "final proposal score -15.39\n",
      "REMEMBER: the acceptance ratio also includes the reverse proposal probability from the death move.\n",
      "\n"
     ]
    }
   ],
   "source": [
    "s = prettyprint_debug(debug_info)\n",
    "print s"
   ]
  },
  {
   "cell_type": "code",
   "execution_count": 36,
   "metadata": {
    "collapsed": true
   },
   "outputs": [],
   "source": [
    "revert_move()"
   ]
  },
  {
   "cell_type": "code",
   "execution_count": 37,
   "metadata": {
    "collapsed": false
   },
   "outputs": [
    {
     "name": "stdout",
     "output_type": "stream",
     "text": [
      "-1446.11046805 -1446.11046805\n"
     ]
    }
   ],
   "source": [
    "lpo = sg.current_log_p()\n",
    "print lpo, lp_old"
   ]
  },
  {
   "cell_type": "code",
   "execution_count": 31,
   "metadata": {
    "collapsed": false
   },
   "outputs": [
    {
     "name": "stdout",
     "output_type": "stream",
     "text": [
      "reading station detections... \n"
     ]
    },
    {
     "data": {
      "text/plain": [
       "(1239041000.0, 1239041400.0)"
      ]
     },
     "execution_count": 31,
     "metadata": {},
     "output_type": "execute_result"
    },
    {
     "data": {
      "image/png": "[encoded data removed]",
      "text/plain": [
       "<matplotlib.figure.Figure at 0x7fc9793bdd90>"
      ]
     },
     "metadata": {},
     "output_type": "display_data"
    }
   ],
   "source": [
    "f = plt.figure(figsize=(20, 5))\n",
    "ax = f.add_subplot(111)\n",
    "wn.plot(ax)\n",
    "ax.set_xlim([1239041000.0, 1239041400.0])"
   ]
  },
  {
   "cell_type": "code",
   "execution_count": 24,
   "metadata": {
    "collapsed": false
   },
   "outputs": [
    {
     "data": {
      "text/plain": [
       "array([-1465.29721991])"
      ]
     },
     "execution_count": 24,
     "metadata": {},
     "output_type": "execute_result"
    }
   ],
   "source": []
  },
  {
   "cell_type": "code",
   "execution_count": null,
   "metadata": {
    "collapsed": true
   },
   "outputs": [],
   "source": [
    "ax.set_xlim([123904090.0, 123904590.0])"
   ]
  }
 ],
 "metadata": {
  "kernelspec": {
   "display_name": "Python 2",
   "language": "python",
   "name": "python2"
  },
  "language_info": {
   "codemirror_mode": {
    "name": "ipython",
    "version": 2
   },
   "file_extension": ".py",
   "mimetype": "text/x-python",
   "name": "python",
   "nbconvert_exporter": "python",
   "pygments_lexer": "ipython2",
   "version": "2.7.6"
  }
 },
 "nbformat": 4,
 "nbformat_minor": 0
}
