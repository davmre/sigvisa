{
 "cells": [
  {
   "cell_type": "code",
   "execution_count": 2,
   "metadata": {
    "collapsed": true
   },
   "outputs": [],
   "source": [
    "import numpy as np\n",
    "\n",
    "import os, sys, traceback\n",
    "import cPickle as pickle\n",
    "\n",
    "%matplotlib inline\n",
    "import matplotlib.pylab as plt\n",
    "\n",
    "from sigvisa import Sigvisa"
   ]
  },
  {
   "cell_type": "code",
   "execution_count": 151,
   "metadata": {
    "collapsed": false
   },
   "outputs": [],
   "source": [
    "#with open(\"/home/dmoore/python/sigvisa/logs/mcmc/01357/step_000495/pickle.sg\", 'rb') as f:\n",
    "#    sg = pickle.load(f)\n",
    "    \n",
    "with open(\"/home/dmoore/python/sigvisa/logs/mcmc/01361/step_000498/pickle.sg\", 'rb') as f:\n",
    "    sg = pickle.load(f)"
   ]
  },
  {
   "cell_type": "code",
   "execution_count": 152,
   "metadata": {
    "collapsed": false
   },
   "outputs": [],
   "source": [
    "params = [\"tt_residual\", \"peak_offset\", \"amp_transfer\", \"peak_decay\", \"coda_decay\"]\n",
    "\n",
    "fits = {}\n",
    "for wn in sg.station_waves[\"ELK\"]:\n",
    "    for (eid, phase) in wn.arrivals():\n",
    "        if phase==\"UA\": continue\n",
    "        tmvals = sg.get_template_vals(eid, wn.sta, phase, wn.band, wn.chan)\n",
    "        #tmvals, _ = wn.get_template_params_for_arrival(eid, phase)\n",
    "        vs = [tmvals[p] for p in params]        \n",
    "        \n",
    "        if eid not in fits:\n",
    "            fits[eid] = {}\n",
    "        \n",
    "        fits[eid][phase] = vs\n",
    "\n",
    "fingerprints = []\n",
    "eids = []\n",
    "phases= [\"Pg\", \"Lg\"]\n",
    "X = []\n",
    "for eid in fits.keys():\n",
    "    fingerprints.append(np.concatenate([fits[eid][phase] for phase in phases]))\n",
    "    eids.append(eid)\n",
    "    ev = sg.get_event(eid)\n",
    "    X.append((ev.lon, ev.lat, ev.depth))\n",
    "        \n",
    "eids = np.array(eids)\n",
    "X = np.array(X)"
   ]
  },
  {
   "cell_type": "code",
   "execution_count": 153,
   "metadata": {
    "collapsed": false
   },
   "outputs": [
    {
     "name": "stdout",
     "output_type": "stream",
     "text": [
      "2.26874887671\n"
     ]
    },
    {
     "data": {
      "text/plain": [
       "<matplotlib.collections.PathCollection at 0x7f7726569350>"
      ]
     },
     "execution_count": 153,
     "metadata": {},
     "output_type": "execute_result"
    },
    {
     "data": {
      "image/png": "[encoded data removed]",
      "text/plain": [
       "<matplotlib.figure.Figure at 0x7f77265aaf50>"
      ]
     },
     "metadata": {},
     "output_type": "display_data"
    }
   ],
   "source": [
    "from sklearn.decomposition import PCA\n",
    "pca = PCA(n_components=2)\n",
    "X_r = pca.fit(fingerprints).transform(fingerprints)\n",
    "minComponent = np.min(np.diag(np.cov(X_r.T)))\n",
    "print minComponent\n",
    "X_r /= np.sqrt(minComponent)\n",
    "\n",
    "plt.scatter(X_r[:, 0], X_r[:, 1])\n"
   ]
  },
  {
   "cell_type": "code",
   "execution_count": null,
   "metadata": {
    "collapsed": false
   },
   "outputs": [],
   "source": []
  },
  {
   "cell_type": "code",
   "execution_count": 154,
   "metadata": {
    "collapsed": false
   },
   "outputs": [
    {
     "name": "stdout",
     "output_type": "stream",
     "text": [
      "[ 4 11 13 15 16 28 31 36 40]\n"
     ]
    }
   ],
   "source": [
    "from sklearn.covariance import EllipticEnvelope\n",
    "\n",
    "clf = EllipticEnvelope(contamination=.20)\n",
    "clf.fit(fingerprints)\n",
    "y_pred = clf.decision_function(fingerprints).ravel()\n",
    "print eids[y_pred < 0]"
   ]
  },
  {
   "cell_type": "code",
   "execution_count": null,
   "metadata": {
    "collapsed": false
   },
   "outputs": [],
   "source": []
  },
  {
   "cell_type": "code",
   "execution_count": null,
   "metadata": {
    "collapsed": false
   },
   "outputs": [],
   "source": []
  },
  {
   "cell_type": "code",
   "execution_count": null,
   "metadata": {
    "collapsed": false
   },
   "outputs": [],
   "source": []
  },
  {
   "cell_type": "code",
   "execution_count": null,
   "metadata": {
    "collapsed": true
   },
   "outputs": [],
   "source": []
  }
 ],
 "metadata": {
  "kernelspec": {
   "display_name": "Python 2",
   "language": "python",
   "name": "python2"
  },
  "language_info": {
   "codemirror_mode": {
    "name": "ipython",
    "version": 2
   },
   "file_extension": ".py",
   "mimetype": "text/x-python",
   "name": "python",
   "nbconvert_exporter": "python",
   "pygments_lexer": "ipython2",
   "version": "2.7.6"
  }
 },
 "nbformat": 4,
 "nbformat_minor": 0
}
