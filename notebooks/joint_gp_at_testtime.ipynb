{
 "cells": [
  {
   "cell_type": "code",
   "execution_count": 1,
   "metadata": {
    "collapsed": false
   },
   "outputs": [],
   "source": [
    "from sigvisa.graph.sigvisa_graph import SigvisaGraph\n",
    "from sigvisa.treegp.gp import GPCov\n",
    "from sigvisa.signals.common import Waveform\n",
    "from sigvisa.source.event import get_event, Event\n",
    "from sigvisa.models.signal_model import TSSM_NOISE_PADDING\n",
    "\n",
    "gpcov = GPCov([0.7,], [ 40.0, 5.0],\n",
    "                  dfn_str=\"lld\",\n",
    "                  wfn_str=\"compact2\")\n",
    "wiggle_prior = (0.01, gpcov)\n",
    "\n",
    "\n",
    "\n",
    "sg = SigvisaGraph(template_model_type=\"dummyPrior\", template_shape=\"lin_polyexp\",\n",
    "                      wiggle_model_type=\"gp_joint\", wiggle_family=\"db4_2.0_3_30\",\n",
    "                      phases=[\"P\",], nm_type = \"ar\", joint_wiggle_prior=wiggle_prior)\n",
    "\n",
    "wave1 = Waveform(data=np.zeros(2000), stime=1240241314.33, srate=5.0, sta=\"ASAR\", chan=\"SHZ\", filter_str=\"freq_0.8_4.5\")\n",
    "wave2 = Waveform(data=np.zeros(2000), stime=1240244314.33, srate=5.0, sta=\"ASAR\", chan=\"SHZ\", filter_str=\"freq_0.8_4.5\")\n",
    "wn1 = sg.add_wave(wave1)\n",
    "wn2 = sg.add_wave(wave2)\n",
    "\n",
    "ev = get_event(evid=5335822)\n",
    "evnodes = sg.add_event(ev)\n",
    "\n",
    "ev2 = Event(lon=ev.lon+0.01, lat=ev.lat+0.01, time = ev.time + 3000, mb=ev.mb, depth=ev.depth)\n",
    "evnodes2 = sg.add_event(ev2)\n"
   ]
  },
  {
   "cell_type": "code",
   "execution_count": 2,
   "metadata": {
    "collapsed": false
   },
   "outputs": [
    {
     "data": {
      "text/plain": [
       "'from sigvisa.models.noise.armodel.model import ARModel, ErrorModel\\nfrom sigvisa.ssms_c import ARSSM, TransientCombinedSSM\\n\\nem=ErrorModel(mean=0.0, std=0.1)\\narm=ARModel(params=[0.0,], em=em, c=0.01)\\n\\nwn2.nm = arm\\nwn2.prior_nm = arm\\nwn2.noise_arssm = ARSSM(np.array((0.0,)), arm.em.std**2, 0.0, arm.c)\\n\\nwn2.tssm = TransientCombinedSSM([(wn2.noise_arssm, 0, wn2.npts, None),], TSSM_NOISE_PADDING)\\nwn2.tssm_components =  [(None, None, None, 0, wn2.npts, \"noise\"),]'"
      ]
     },
     "execution_count": 2,
     "metadata": {},
     "output_type": "execute_result"
    }
   ],
   "source": [
    "\"\"\"from sigvisa.models.noise.armodel.model import ARModel, ErrorModel\n",
    "from sigvisa.ssms_c import ARSSM, TransientCombinedSSM\n",
    "\n",
    "em=ErrorModel(mean=0.0, std=0.1)\n",
    "arm=ARModel(params=[0.0,], em=em, c=0.01)\n",
    "\n",
    "wn2.nm = arm\n",
    "wn2.prior_nm = arm\n",
    "wn2.noise_arssm = ARSSM(np.array((0.0,)), arm.em.std**2, 0.0, arm.c)\n",
    "\n",
    "wn2.tssm = TransientCombinedSSM([(wn2.noise_arssm, 0, wn2.npts, None),], TSSM_NOISE_PADDING)\n",
    "wn2.tssm_components =  [(None, None, None, 0, wn2.npts, \"noise\"),]\"\"\""
   ]
  },
  {
   "cell_type": "code",
   "execution_count": 3,
   "metadata": {
    "collapsed": false
   },
   "outputs": [
    {
     "name": "stderr",
     "output_type": "stream",
     "text": [
      "/home/dmoore/python/sigvisa/models/signal_model.py:491: RuntimeWarning: invalid value encountered in log\n",
      "  min_logenv = max(-7.0, np.log(self.nm.c)-2)\n"
     ]
    },
    {
     "data": {
      "image/png": "[encoded data removed]",
      "text/plain": [
       "<matplotlib.figure.Figure at 0x3c88450>"
      ]
     },
     "metadata": {},
     "output_type": "display_data"
    },
    {
     "data": {
      "image/png": "[encoded data removed]",
      "text/plain": [
       "<matplotlib.figure.Figure at 0x3c883d0>"
      ]
     },
     "metadata": {},
     "output_type": "display_data"
    }
   ],
   "source": [
    "\n",
    "\n",
    "for (eid, wn) in ((1, wn1), (2, wn2)):\n",
    "    tmnodes = sg.get_template_nodes(eid, wn.sta, \"P\", wn.band, wn.chan)\n",
    "    k, n = tmnodes[\"coda_height\"]\n",
    "    n.set_value(1.0)\n",
    "    k, n = tmnodes[\"coda_decay\"]\n",
    "    n.set_value(-3.0)\n",
    "    k, n = tmnodes[\"peak_decay\"]\n",
    "    n.set_value(-3.0)\n",
    "    figure()\n",
    "    plot(wn.get_value().data)\n",
    "    wn._parent_values()\n",
    "    mean_obs = wn.tssm.mean_obs(wn.npts)\n",
    "    plot(mean_obs)"
   ]
  },
  {
   "cell_type": "code",
   "execution_count": null,
   "metadata": {
    "collapsed": false
   },
   "outputs": [],
   "source": []
  },
  {
   "cell_type": "code",
   "execution_count": null,
   "metadata": {
    "collapsed": false
   },
   "outputs": [],
   "source": []
  },
  {
   "cell_type": "code",
   "execution_count": 4,
   "metadata": {
    "collapsed": false
   },
   "outputs": [
    {
     "data": {
      "text/plain": [
       "'\\n_, _, env, sidx, npts, lbl = wn1.tssm_components[1]\\nsidx -= 1200\\nN=451\\n\\nfrom sigvisa.models.noise.armodel.model import ARModel, ErrorModel\\nwn1.nm.params = [0.0,]\\nwn1.nm.p = 1\\nwn1.nm.c= 0\\nwn1.nm.em.std = 0.1\\n\\ncm = wn1.nm.cov_matrix(3)\\n\\n\\n\\nimport scipy.stats\\nnp.random.seed(0)\\n\\nfrom sigvisa.ssms_c import ARSSM, TransientCombinedSSM\\narssm = ARSSM(np.array(wn1.nm.params, dtype=np.float), wn1.nm.em.std**2, 0.0, wn1.nm.c)\\n#print arssm.run_filter(z1)\\n\\ncssm = wn1.arrival_ssms[(1, \"P\")]\\npm, pv = cssm.get_coef_prior()\\npv[0] = 1.0\\ncssm.set_coef_prior(pm, pv)\\n\\n#tssm1 = TransientCombinedSSM([(cssm, sidx, npts, env)], 0.01)\\n#z1 = tssm1.prior_sample(N)\\n#plot(z1)\\n\\ntssm2 = TransientCombinedSSM([(wn1.noise_arssm, 0, N, None), (cssm, sidx, npts, env), (wn1.iid_arssm, sidx, npts, wn1.tssm_components[2][2]), (None, sidx, npts, wn1.tssm_components[3][2])], 0.0)\\nfigure()\\nz2 = wn1.get_value().data[:N]\\nplot(z2)\\n#print tssm1.run_filter(z1)\\n#print tssm2.run_filter(z1)\\n#print tssm1.run_filter(z2)\\n#print tssm2.run_filter(z2)\\n\\n\\n\\n#C = np.eye(2000)*0.01\\n#C[sidx:sidx+300, sidx:sidx+300] += np.outer(env[:300], env[:300])\\n#C = C[:N, :N]\\n#rv = scipy.stats.multivariate_normal(mean=np.zeros(N,), cov=C)\\n#print rv.logpdf(z1)\\n#print rv.logpdf(z2)\\ntssm = tssm2 #wn1.tssm\\n\\nn_coefs = 1\\ncssm.set_coef_prior(np.zeros((n_coefs)), np.ones((n_coefs))*1e20)\\nmessage_ll1 = tssm.run_filter(z2) \\nmessage_ll2 = message_ll1 - scipy.stats.norm.logpdf(0, scale=np.sqrt(1e20))\\nprint message_ll1, message_ll2\\n\\nmessage_means, message_vars = tssm.all_filtered_cssm_coef_marginals(z2)[1]\\n#print message_means, message_vars\\ncssm.set_coef_prior(message_means, np.zeros(message_means.shape))\\nll_at_mean = tssm.run_filter(z2)\\nnormalized_at_mean = np.sum([scipy.stats.norm(scale=np.sqrt(v)).logpdf(0) for v in message_vars])\\nprint ll_at_mean, normalized_at_mean, ll_at_mean - normalized_at_mean\\n'"
      ]
     },
     "execution_count": 4,
     "metadata": {},
     "output_type": "execute_result"
    }
   ],
   "source": [
    "\"\"\"\n",
    "_, _, env, sidx, npts, lbl = wn1.tssm_components[1]\n",
    "sidx -= 1200\n",
    "N=451\n",
    "\n",
    "from sigvisa.models.noise.armodel.model import ARModel, ErrorModel\n",
    "wn1.nm.params = [0.0,]\n",
    "wn1.nm.p = 1\n",
    "wn1.nm.c= 0\n",
    "wn1.nm.em.std = 0.1\n",
    "\n",
    "cm = wn1.nm.cov_matrix(3)\n",
    "\n",
    "\n",
    "\n",
    "import scipy.stats\n",
    "np.random.seed(0)\n",
    "\n",
    "from sigvisa.ssms_c import ARSSM, TransientCombinedSSM\n",
    "arssm = ARSSM(np.array(wn1.nm.params, dtype=np.float), wn1.nm.em.std**2, 0.0, wn1.nm.c)\n",
    "#print arssm.run_filter(z1)\n",
    "\n",
    "cssm = wn1.arrival_ssms[(1, \"P\")]\n",
    "pm, pv = cssm.get_coef_prior()\n",
    "pv[0] = 1.0\n",
    "cssm.set_coef_prior(pm, pv)\n",
    "\n",
    "#tssm1 = TransientCombinedSSM([(cssm, sidx, npts, env)], 0.01)\n",
    "#z1 = tssm1.prior_sample(N)\n",
    "#plot(z1)\n",
    "\n",
    "tssm2 = TransientCombinedSSM([(wn1.noise_arssm, 0, N, None), (cssm, sidx, npts, env), (wn1.iid_arssm, sidx, npts, wn1.tssm_components[2][2]), (None, sidx, npts, wn1.tssm_components[3][2])], 0.0)\n",
    "figure()\n",
    "z2 = wn1.get_value().data[:N]\n",
    "plot(z2)\n",
    "#print tssm1.run_filter(z1)\n",
    "#print tssm2.run_filter(z1)\n",
    "#print tssm1.run_filter(z2)\n",
    "#print tssm2.run_filter(z2)\n",
    "\n",
    "\n",
    "\n",
    "#C = np.eye(2000)*0.01\n",
    "#C[sidx:sidx+300, sidx:sidx+300] += np.outer(env[:300], env[:300])\n",
    "#C = C[:N, :N]\n",
    "#rv = scipy.stats.multivariate_normal(mean=np.zeros(N,), cov=C)\n",
    "#print rv.logpdf(z1)\n",
    "#print rv.logpdf(z2)\n",
    "tssm = tssm2 #wn1.tssm\n",
    "\n",
    "n_coefs = 1\n",
    "cssm.set_coef_prior(np.zeros((n_coefs)), np.ones((n_coefs))*1e20)\n",
    "message_ll1 = tssm.run_filter(z2) \n",
    "message_ll2 = message_ll1 - scipy.stats.norm.logpdf(0, scale=np.sqrt(1e20))\n",
    "print message_ll1, message_ll2\n",
    "\n",
    "message_means, message_vars = tssm.all_filtered_cssm_coef_marginals(z2)[1]\n",
    "#print message_means, message_vars\n",
    "cssm.set_coef_prior(message_means, np.zeros(message_means.shape))\n",
    "ll_at_mean = tssm.run_filter(z2)\n",
    "normalized_at_mean = np.sum([scipy.stats.norm(scale=np.sqrt(v)).logpdf(0) for v in message_vars])\n",
    "print ll_at_mean, normalized_at_mean, ll_at_mean - normalized_at_mean\n",
    "\"\"\""
   ]
  },
  {
   "cell_type": "code",
   "execution_count": null,
   "metadata": {
    "collapsed": false
   },
   "outputs": [],
   "source": []
  },
  {
   "cell_type": "code",
   "execution_count": null,
   "metadata": {
    "collapsed": false
   },
   "outputs": [],
   "source": []
  },
  {
   "cell_type": "code",
   "execution_count": null,
   "metadata": {
    "collapsed": true
   },
   "outputs": [],
   "source": []
  },
  {
   "cell_type": "code",
   "execution_count": 4,
   "metadata": {
    "collapsed": false
   },
   "outputs": [
    {
     "name": "stdout",
     "output_type": "stream",
     "text": [
      "ASAR 3446.86118705 -241.302415833 -241.302415833 3688.16360288\n",
      "ASAR 2468.67955344 -211.638319982 -211.638319982 2680.31787342\n"
     ]
    },
    {
     "data": {
      "text/plain": [
       "5882.5603689783402"
      ]
     },
     "execution_count": 4,
     "metadata": {},
     "output_type": "execute_result"
    }
   ],
   "source": [
    "sg.current_log_p(verbose=False)"
   ]
  },
  {
   "cell_type": "code",
   "execution_count": null,
   "metadata": {
    "collapsed": false
   },
   "outputs": [],
   "source": []
  },
  {
   "cell_type": "code",
   "execution_count": 5,
   "metadata": {
    "collapsed": false
   },
   "outputs": [],
   "source": [
    "\n",
    "wn1.pass_jointgp_messages()\n",
    "wn2.pass_jointgp_messages()"
   ]
  },
  {
   "cell_type": "code",
   "execution_count": 6,
   "metadata": {
    "collapsed": false
   },
   "outputs": [
    {
     "name": "stdout",
     "output_type": "stream",
     "text": [
      "{(1, 'P'): <sigvisa.ssms_c.CompactSupportSSM object at 0x3d7cec0>}\n"
     ]
    }
   ],
   "source": [
    "print wn1.arrival_ssms"
   ]
  },
  {
   "cell_type": "code",
   "execution_count": 7,
   "metadata": {
    "collapsed": false
   },
   "outputs": [
    {
     "name": "stdout",
     "output_type": "stream",
     "text": [
      "3688.16360288\n"
     ]
    }
   ],
   "source": [
    "print wn1.upwards_message_normalizer()\n"
   ]
  },
  {
   "cell_type": "code",
   "execution_count": 12,
   "metadata": {
    "collapsed": false
   },
   "outputs": [],
   "source": [
    "#print sg.current_log_p(verbose=True)\n",
    "\n",
    "#print sg.current_log_p_breakdown()"
   ]
  },
  {
   "cell_type": "code",
   "execution_count": null,
   "metadata": {
    "collapsed": false
   },
   "outputs": [],
   "source": []
  },
  {
   "cell_type": "code",
   "execution_count": null,
   "metadata": {
    "collapsed": false
   },
   "outputs": [],
   "source": []
  },
  {
   "cell_type": "code",
   "execution_count": 8,
   "metadata": {
    "collapsed": false
   },
   "outputs": [
    {
     "name": "stdout",
     "output_type": "stream",
     "text": [
      "ASAR 2442.49884147 -213.220980245 -213.220980245 2655.71982172\n",
      "global -24.6011922774\n",
      "conditional -22.2138368577\n"
     ]
    }
   ],
   "source": [
    "jgp = wn2.wavelet_param_models['P'][0]\n",
    "\n",
    "global_lp1 = wn1.upwards_message_normalizer() + wn2.upwards_message_normalizer() + jgp.log_likelihood()\n",
    "conditional_lp1 = wn2.conditional_log_p()\n",
    "#unconditional_lp1 = wn2.log_p(force_joint=True)\n",
    "\n",
    "tmnodes = sg.get_template_nodes(2, wn.sta, \"P\", wn.band, wn.chan)\n",
    "k, n = tmnodes[\"coda_height\"]\n",
    "n.set_value(1.1)\n",
    "wn2._parent_values()\n",
    "wn2.pass_jointgp_messages()\n",
    "\n",
    "#unconditional_lp2 = wn2.log_p(force_joint=True)\n",
    "conditional_lp2 = wn2.conditional_log_p()\n",
    "global_lp2 = wn1.upwards_message_normalizer() + wn2.upwards_message_normalizer() + jgp.log_likelihood()\n",
    "\n",
    "k, n = tmnodes[\"coda_height\"]\n",
    "n.set_value(1.0)\n",
    "wn2._parent_values()\n",
    "wn2.pass_jointgp_messages()\n",
    "\n",
    "print \"global\", global_lp2-global_lp1\n",
    "print \"conditional\", conditional_lp2-conditional_lp1\n"
   ]
  },
  {
   "cell_type": "code",
   "execution_count": null,
   "metadata": {
    "collapsed": false
   },
   "outputs": [],
   "source": []
  },
  {
   "cell_type": "code",
   "execution_count": 29,
   "metadata": {
    "collapsed": false
   },
   "outputs": [
    {
     "name": "stdout",
     "output_type": "stream",
     "text": [
      "6337.13911928 6312.54111882\n",
      "2511.1726339 2488.87939584\n"
     ]
    }
   ],
   "source": [
    "print global_lp1, global_lp2\n",
    "print conditional_lp1, conditional_lp2\n"
   ]
  },
  {
   "cell_type": "code",
   "execution_count": 20,
   "metadata": {
    "collapsed": false
   },
   "outputs": [],
   "source": [
    "_, _, env1, sidx1, npts1, lbl = wn1.tssm_components[1]\n",
    "_, _, env2, sidx2, npts2, lbl = wn2.tssm_components[1]\n",
    "\n",
    "d1 = wn1.get_value().data\n",
    "d2 = wn2.get_value().data\n",
    "\n",
    "# distribution on d1:\n",
    "# "
   ]
  },
  {
   "cell_type": "code",
   "execution_count": 10,
   "metadata": {
    "collapsed": false
   },
   "outputs": [
    {
     "name": "stdout",
     "output_type": "stream",
     "text": [
      "node 2;mb has logp -3.7\n",
      "node 2;loc has logp -8.9\n",
      "node 2;P;ASAR;SHZ;freq_0.8_4.5;peak_offset has logp -0.9\n",
      "node 2;P;ASAR;SHZ;freq_0.8_4.5;coda_decay has logp -5.4\n",
      "node 2;P;ASAR;:;:;tt_residual has logp -0.9\n",
      "node 2;time has logp 0.0\n",
      "node 2;P;ASAR;SHZ;freq_0.8_4.5;peak_decay has logp -5.4\n",
      "node 2;P;ASAR;:;:;amp_transfer has logp -2.8\n",
      "node 2;source has logp -0.0\n",
      "values {'coda_height': 1.0, 'arrival_time': 1240244584.2736063, 'coda_decay': -3.0, 'peak_decay': -3.0, 'peak_offset': -0.5}\n",
      "pm [ 0.]\n",
      "pv [  1.00000000e+30]\n",
      "env 244.239050078\n",
      "z1 2631.50234489 un -35.4577149281\n",
      "node wave_ASAR_SHZ_freq_0.8_4.5_1240244314.3 has logp 2667.0\n",
      "node 1;loc has logp -8.9\n",
      "node 1;mb has logp -3.7\n",
      "node 1;P;ASAR;:;:;amp_transfer has logp -2.8\n",
      "node 1;source has logp -0.0\n",
      "node 1;P;ASAR;SHZ;freq_0.8_4.5;coda_decay has logp -5.4\n",
      "node 1;P;ASAR;:;:;tt_residual has logp -0.9\n",
      "node 1;time has logp 0.0\n",
      "node 1;P;ASAR;SHZ;freq_0.8_4.5;peak_decay has logp -5.4\n",
      "node 1;P;ASAR;SHZ;freq_0.8_4.5;peak_offset has logp -0.9\n",
      "values {'coda_height': 1.0, 'arrival_time': 1240241584.1884391, 'coda_decay': -3.0, 'peak_decay': -3.0, 'peak_offset': -0.5}\n",
      "pm [ 0.]\n",
      "pv [  1.00000000e+30]\n",
      "env 244.226114927\n",
      "z1 3692.96677046 un -35.4577149281\n",
      "node wave_ASAR_SHZ_freq_0.8_4.5_1240241314.3 has logp 3728.4\n",
      "jgp ASAR dbug_single_0: -0.905\n",
      "6317.3374686\n",
      "values {'coda_height': 1.0, 'arrival_time': 1240241584.1884391, 'coda_decay': -3.0, 'peak_decay': -3.0, 'peak_offset': -0.5}\n",
      "pm [ 0.]\n",
      "pv [  1.00000000e+30]\n",
      "env 244.226114927\n",
      "z1 3692.96677046 un -35.4577149281\n",
      "values {'coda_height': 1.0, 'arrival_time': 1240244584.2736063, 'coda_decay': -3.0, 'peak_decay': -3.0, 'peak_offset': -0.5}\n",
      "pm [ 0.]\n",
      "pv [  1.00000000e+30]\n",
      "env 244.239050078\n",
      "z1 2631.50234489 un -35.4577149281\n",
      "n_uatemplate: -0.8\n",
      "n_event: -20.2\n",
      "ev priors: ev -25.3\n",
      "ev observations: ev 0.0\n",
      "tt_residual: ev -1.8\n",
      "ev global cost (n + priors + tt): -47.3\n",
      "coda_decay: ev -10.8 ua 0.0 total -10.8\n",
      "peak_decay: ev -10.8 ua 0.0 total -10.8\n",
      "peak_offset: ev -1.8 ua 0.0 total -1.8\n",
      "coda_height: ev -5.6 ua 0.0 total -5.6\n",
      "coef jointgp: -0.9\n",
      "total param: ev -30.0 ua 0.0 total -30.0\n",
      "priors+params: ev -77.2 ua -0.8 total -78.0\n",
      "station noise (observed signals): 6395.4\n",
      "overall: 6317.3\n",
      "values {'coda_height': 1.0, 'arrival_time': 1240244584.2736063, 'coda_decay': -3.0, 'peak_decay': -3.0, 'peak_offset': -0.5}\n",
      "pm [ 0.]\n",
      "pv [  1.00000000e+30]\n",
      "env 244.239050078\n",
      "z1 2631.50234489 un -35.4577149281\n",
      "values {'coda_height': 1.0, 'arrival_time': 1240241584.1884391, 'coda_decay': -3.0, 'peak_decay': -3.0, 'peak_offset': -0.5}\n",
      "pm [ 0.]\n",
      "pv [  1.00000000e+30]\n",
      "env 244.226114927\n",
      "z1 3692.96677046 un -35.4577149281\n",
      "official: 6317.3\n",
      "None\n"
     ]
    }
   ],
   "source": [
    "print sg.current_log_p(verbose=True)\n",
    "\n",
    "print sg.current_log_p_breakdown()"
   ]
  },
  {
   "cell_type": "code",
   "execution_count": 3,
   "metadata": {
    "collapsed": false
   },
   "outputs": [
    {
     "name": "stdout",
     "output_type": "stream",
     "text": [
      "[ 3.2  3.1]\n",
      "[ 0.4  0.2]\n",
      "-10.0155198303\n",
      "[[ 0.          0.          0.7       ]\n",
      " [ 0.          1.          0.13263612]\n",
      " [ 1.          0.          0.13263612]\n",
      " [ 1.          1.          0.7       ]]\n",
      "-5.27676594688\n",
      "0.353696319335\n",
      "[ 0.68533973]\n",
      "[-10.01551983]\n"
     ]
    }
   ],
   "source": [
    "from sigvisa.treegp.gp import GP\n",
    "\n",
    "X1 = np.array((4.0, 4.0, 0.0, 0.0, 5.0)).reshape(1, -1)\n",
    "X2 = np.array((4.1, 4.1, 0.0, 0.0, 5.0)).reshape(1, -1)\n",
    "X = np.vstack([X1, X2])\n",
    "\n",
    "y1 = np.array((3.2,))\n",
    "y2 = np.array((3.1,))\n",
    "y = np.concatenate((y1, y2))\n",
    "print y\n",
    "\n",
    "yv1 = np.array((0.4,))\n",
    "yv2 = np.array((0.2,))\n",
    "yv = np.concatenate((yv1, yv2))\n",
    "print yv\n",
    "\n",
    "gp = GP(X=X, y=y, y_obs_variances=yv, noise_var=0.1, cov_main=gpcov, compute_ll=True, sparse_invert=True)\n",
    "print gp.log_likelihood()\n",
    "\n",
    "print gp.predict_tree.sparse_training_kernel_matrix(gp.X, 1.0, False)\n",
    "\n",
    "gp1 = GP(X=X1, y=y1, y_obs_variances=yv1 , noise_var=0.1, cov_main=gpcov, compute_ll=True, sparse_invert=True)\n",
    "print gp1.log_likelihood()\n",
    "print gp1.predict(X2)\n",
    "print gp1.variance(X2)\n",
    "\n",
    "import scipy.stats\n",
    "lp2 = scipy.stats.norm.logpdf(y2[0], loc=gp1.predict(X2), scale=np.sqrt(gp1.variance(X2) + 0.1 + yv2))\n",
    "print gp1.log_likelihood() + lp2"
   ]
  },
  {
   "cell_type": "code",
   "execution_count": 1,
   "metadata": {
    "collapsed": false
   },
   "outputs": [
    {
     "ename": "NameError",
     "evalue": "name 'conditional_lp2' is not defined",
     "output_type": "error",
     "traceback": [
      "\u001b[1;31m---------------------------------------------------------------------------\u001b[0m\n\u001b[1;31mNameError\u001b[0m                                 Traceback (most recent call last)",
      "\u001b[1;32m<ipython-input-1-05ba0f04925f>\u001b[0m in \u001b[0;36m<module>\u001b[1;34m()\u001b[0m\n\u001b[1;32m----> 1\u001b[1;33m \u001b[1;32mprint\u001b[0m \u001b[0mconditional_lp2\u001b[0m\u001b[1;33m-\u001b[0m\u001b[0mconditional_lp1\u001b[0m\u001b[1;33m\u001b[0m\u001b[0m\n\u001b[0m",
      "\u001b[1;31mNameError\u001b[0m: name 'conditional_lp2' is not defined"
     ]
    }
   ],
   "source": [
    "print conditional_lp2-conditional_lp1"
   ]
  },
  {
   "cell_type": "code",
   "execution_count": null,
   "metadata": {
    "collapsed": false
   },
   "outputs": [],
   "source": []
  }
 ],
 "metadata": {
  "kernelspec": {
   "display_name": "Python 2",
   "language": "python",
   "name": "python2"
  },
  "language_info": {
   "codemirror_mode": {
    "name": "ipython",
    "version": 2
   },
   "file_extension": ".py",
   "mimetype": "text/x-python",
   "name": "python",
   "nbconvert_exporter": "python",
   "pygments_lexer": "ipython2",
   "version": "2.7.3"
  }
 },
 "nbformat": 4,
 "nbformat_minor": 0
}
