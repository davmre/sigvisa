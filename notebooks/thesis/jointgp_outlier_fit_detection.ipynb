{
 "cells": [
  {
   "cell_type": "code",
   "execution_count": 1,
   "metadata": {
    "collapsed": true
   },
   "outputs": [],
   "source": [
    "import numpy as np\n",
    "\n",
    "import os, sys, traceback\n",
    "import cPickle as pickle\n",
    "\n",
    "%matplotlib inline\n",
    "import matplotlib.pylab as plt\n",
    "\n",
    "from sigvisa import Sigvisa"
   ]
  },
  {
   "cell_type": "code",
   "execution_count": 31,
   "metadata": {
    "collapsed": false
   },
   "outputs": [],
   "source": [
    "#with open(\"/home/dmoore/python/sigvisa/logs/mcmc/01357/step_000495/pickle.sg\", 'rb') as f:\n",
    "#    sg = pickle.load(f)\n",
    "    \n",
    "with open(\"/home/dmoore/python/sigvisa/logs/mcmc/01361/step_000498/pickle.sg\", 'rb') as f:\n",
    "    sg = pickle.load(f)\n",
    "\n",
    "#with open(\"/home/dmoore/python/sigvisa/logs/mcmc/01566/step_000067/pickle.sg\", 'rb') as f:\n",
    "#    sg = pickle.load(f)"
   ]
  },
  {
   "cell_type": "code",
   "execution_count": 35,
   "metadata": {
    "collapsed": false
   },
   "outputs": [],
   "source": [
    "params = [\"tt_residual\", \"peak_offset\", \"amp_transfer\", \"peak_decay\", \"coda_decay\"]\n",
    "\n",
    "fits = {}\n",
    "for wn in sg.station_waves[\"ELK\"]:\n",
    "    for (eid, phase) in wn.arrivals():\n",
    "        if phase==\"UA\": continue\n",
    "        tmvals = sg.get_template_vals(eid, wn.sta, phase, wn.band, wn.chan)\n",
    "        #tmvals, _ = wn.get_template_params_for_arrival(eid, phase)\n",
    "        vs = [tmvals[p] for p in params]        \n",
    "        \n",
    "        if eid not in fits:\n",
    "            fits[eid] = {}\n",
    "        \n",
    "        fits[eid][phase] = vs\n",
    "\n",
    "fingerprints = []\n",
    "eids = []\n",
    "phases= [\"Pg\", \"Lg\"]\n",
    "X = []\n",
    "for eid in fits.keys():\n",
    "    fingerprints.append(np.concatenate([fits[eid][phase] for phase in phases]))\n",
    "    eids.append(eid)\n",
    "    ev = sg.get_event(eid)\n",
    "    X.append((ev.lon, ev.lat, ev.depth))\n",
    "        \n",
    "eids = np.array(eids)\n",
    "X = np.array(X)"
   ]
  },
  {
   "cell_type": "code",
   "execution_count": 36,
   "metadata": {
    "collapsed": false
   },
   "outputs": [
    {
     "name": "stdout",
     "output_type": "stream",
     "text": [
      "[array([ 0.33436089,  0.8888114 ,  8.18861793, -2.49984487, -3.56671848,\n",
      "        0.26935117,  0.79149921,  9.4017787 , -0.0611304 , -3.6588457 ]), array([ -0.66268351,   1.11022907,  10.58403135,  -1.40470206,\n",
      "        -3.92020086,  -1.16937179,   1.62063852,  10.544216  ,\n",
      "        -2.62773653,  -2.2925264 ]), array([  0.77813863,   0.03855012,  11.4225046 ,  -2.18796955,\n",
      "        -3.71035381,  -1.64193291,   1.66612421,  11.89416977,\n",
      "        -0.67893914,  -3.12111814]), array([ -1.17682563,   2.34523824,  12.20855335,  -2.7852071 ,\n",
      "        -4.08841909,  -6.58996463,   2.25961849,  14.4538563 ,\n",
      "        -1.11714215,  -1.76606301]), array([  0.3619833 ,   0.17524845,  12.1308237 ,  -0.58650508,\n",
      "        -3.88005661,   0.25759556,   0.18621897,  11.09616885,\n",
      "        -2.8386698 ,  -1.88238233]), array([ -0.57284501,   2.22619617,  10.06936108,  -1.30530346,\n",
      "        -3.73676894,  -0.92701283,   2.03853383,  10.00152466,\n",
      "        -0.92181523,  -1.65190341]), array([ 0.97022546,  0.15465495,  9.70948477, -1.68080649, -3.57293034,\n",
      "        2.11304846,  1.59531774,  9.6887875 , -1.78615627, -1.41912472]), array([ -1.02889465,   0.53834178,   8.427091  ,  -2.0424325 ,\n",
      "        -3.84496004,  -1.35496905,  -1.31484206,  10.86644201,\n",
      "         0.32500327,  -3.76840335]), array([ -0.03352249,   0.18808652,  11.45036742,  -2.23558723,\n",
      "        -3.81329423,   0.90680044,   1.13138791,  11.88461506,\n",
      "        -0.65377664,  -2.4697625 ]), array([ -0.57443507,   0.15658991,  10.50790242,  -3.14262616,\n",
      "        -3.62470877,  -0.72840993,  -0.86913853,  11.39845921,\n",
      "        -1.41877916,  -1.98716914]), array([  0.48479857,   0.5837952 ,  10.99788147,  -1.20897087,\n",
      "        -3.71113105,  -0.05097272,  -1.48281588,  14.38140175,\n",
      "         0.7182211 ,  -4.03786361]), array([  1.42558667,   0.08935129,  12.31005771,  -1.60110217,\n",
      "        -3.35698311,   0.58969618,   0.1104117 ,  12.12480986,\n",
      "        -3.94457644,  -1.64717186]), array([ -0.0785013 ,   1.00959832,  11.99168668,  -1.08829946,\n",
      "        -3.5920234 ,  -2.44314584,   2.34403541,  10.77974015,\n",
      "        -0.5044496 ,  -4.36044326]), array([  0.41263773,   0.09396642,  11.13831301,  -1.84650957,\n",
      "        -3.72875418,   0.01727645,   0.14106001,  10.68211105,\n",
      "        -2.43705941,  -1.65920555]), array([  0.67899362,   0.47688457,  13.59613812,  -1.60884064,\n",
      "        -2.70584545,  -1.36106648,   1.42449703,  12.57607856,\n",
      "        -3.41993422,  -2.39216776]), array([ -1.6331305 ,   2.50208448,  12.26898481,  -1.11610631,\n",
      "        -4.76994638,  -6.06042538,   2.30879316,  13.59464956,\n",
      "        -1.73118676,  -3.56879918]), array([  0.08230432,   0.16437906,  12.54048693,  -3.23525272,\n",
      "        -3.6334949 ,  -0.42354722,  -1.53138084,  12.52610828,\n",
      "        -2.04351891,  -1.93272494]), array([  0.13357403,   0.91666522,  11.13349058,  -2.00068784,\n",
      "        -4.09068473,  -1.61785364,  -0.92342477,  11.81521687,\n",
      "        -2.444434  ,  -2.06797967]), array([  0.58375235,   0.94817949,  11.21142419,  -3.14055372,\n",
      "        -3.61448002,  -0.12191514,   0.47781659,  12.18629682,\n",
      "        -2.18017632,  -1.77248858]), array([  0.53765979,   0.84497741,  12.26045819,  -1.80251164,\n",
      "        -3.83137407,  -0.20144297,   0.66584998,  13.34430437,\n",
      "        -0.46045863,  -2.0015154 ]), array([  0.2406261 ,   1.01626445,  10.42431498,  -2.75574563,\n",
      "        -3.83344762,  -0.65232929,   0.34605882,  11.08986603,\n",
      "        -3.01056326,  -2.00875335]), array([  0.51983586,   1.39565975,  10.7234387 ,  -2.06656515,\n",
      "        -4.06047226,   0.02561312,  -0.10031668,  11.09367219,\n",
      "        -1.47531782,  -2.14177048]), array([  0.69120088,   0.93979369,  11.71257496,  -2.34113857,\n",
      "        -4.130411  ,   0.24884598,  -2.08907887,  12.46005641,\n",
      "        -2.31073265,  -1.66029698]), array([  0.79543425,   0.33893928,  12.44395707,  -2.35356861,\n",
      "        -4.08200123,  -3.02092681,   2.05198059,  12.89417656,\n",
      "        -4.02112149,  -1.98533554]), array([  0.2477725 ,   2.2467276 ,  10.67153209,  -1.74905196,\n",
      "        -3.49617836,  -1.5432103 ,   2.00756018,  10.46985475,\n",
      "        -1.42762773,  -1.07677545]), array([  0.82381221,   1.9887753 ,  12.69639433,  -2.05286889,\n",
      "        -3.71656808,   0.87879913,  -1.71979036,  13.20624906,\n",
      "        -1.93400787,  -2.02062652]), array([  1.77100784,  -0.05665321,  10.28801267,  -2.38354252,\n",
      "        -4.00971702,  -4.16460623,   2.25718169,  11.01100701,\n",
      "        -0.49471107,  -3.03581481]), array([ -3.50959863,   2.67562865,  12.94446487,  -1.15924651,\n",
      "        -1.8397807 ,  -0.07476238,   0.59797813,  10.40636438,\n",
      "        -2.67016093,  -3.90016653]), array([  0.22030468,   1.35340106,  10.08760184,  -2.79394952,\n",
      "        -3.87173654,  -1.08475214,   1.38287172,  10.86906783,\n",
      "        -2.64535018,  -1.72109419]), array([  0.45143406,  -0.03096663,  11.76256063,  -2.59601036,\n",
      "        -3.7648776 ,  -2.33805278,   1.97426258,  11.94542444,\n",
      "        -2.33912824,  -1.68423893]), array([ -7.30040253,  -1.16911805,  11.90003163,  -2.08048094,\n",
      "        -3.23126803,  -5.03712693,   1.99820159,  13.13701622,\n",
      "        -1.0444226 ,  -3.45961986]), array([ -0.11795903,   1.12823344,  11.47821197,  -1.54109893,\n",
      "        -3.60874083,  -1.40122938,   1.3323629 ,  10.80484603,\n",
      "        -1.34203023,  -1.78272347]), array([  1.22656344,   0.67384234,  10.71845421,  -1.58983575,\n",
      "        -3.98352011,   0.50959532,  -0.51163323,  11.15589102,\n",
      "        -1.62118787,  -2.22730022]), array([ -0.06654549,   1.39684217,   9.6848029 ,  -1.97281245,\n",
      "        -4.06362399,  -0.01334646,   0.59441961,  10.37397011,\n",
      "        -1.23459966,  -2.17169282]), array([ -0.26979311,   1.33684406,  11.67823229,  -2.37712124,\n",
      "        -3.85312553,  -0.54503071,   0.05808511,  11.99823014,\n",
      "        -0.92940573,  -2.69657773]), array([  0.14206198,   2.01763736,  12.16008988,  -0.89873839,\n",
      "        -2.74495675,   0.03495889,  -1.88509904,  11.00612691,\n",
      "        -2.92442789,  -2.70885493]), array([  0.28449976,   0.87430616,  11.63891247,  -2.04335451,\n",
      "        -3.96707165,  -1.28893738,   0.87286027,  12.08363109,\n",
      "        -2.67913563,  -2.35101677]), array([  0.63385631,   1.17283914,  11.36461572,  -2.12220687,\n",
      "        -3.63627865,  -1.46720577,  -0.0698251 ,  12.9148889 ,\n",
      "        -0.33603279,  -2.89660667]), array([  0.4370254 ,   0.60466145,  11.11306479,  -2.0571173 ,\n",
      "        -3.79970128,  -1.4308615 ,   1.16813521,  11.67068873,\n",
      "        -3.21820761,  -1.87430275]), array([ -5.48266997,  -0.13869957,  10.36171723,  -2.49944953,\n",
      "        -4.04080512,  -5.30071291,   2.2674761 ,  11.68883958,\n",
      "        -1.20995618,  -2.59835785]), array([  1.01043226,  -0.51357814,  11.58616374,  -2.10274306,\n",
      "        -4.00809283,   0.81846219,  -1.14319164,  12.53883351,\n",
      "        -1.02863425,  -2.26456257]), array([  0.8515296 ,   1.1832466 ,  11.73711788,  -2.8481514 ,\n",
      "        -3.69827573,  -1.2553081 ,   1.75051569,  12.43651879,\n",
      "        -2.45773121,  -2.14324386]), array([  0.595252  ,   0.62420235,  10.92430063,  -1.71807704,\n",
      "        -3.83979102,  -0.31116714,  -0.03222635,  11.7733365 ,\n",
      "        -1.18782367,  -2.34144506]), array([  0.44305133,   0.70548556,  11.69871358,  -1.80530759,\n",
      "        -3.50170002,   0.62391737,  -1.15156868,  12.9314985 ,\n",
      "        -0.40125053,  -1.86086696])]\n"
     ]
    }
   ],
   "source": [
    "print fingerprints"
   ]
  },
  {
   "cell_type": "code",
   "execution_count": 37,
   "metadata": {
    "collapsed": false
   },
   "outputs": [
    {
     "name": "stdout",
     "output_type": "stream",
     "text": [
      "2.26874887671\n"
     ]
    },
    {
     "data": {
      "text/plain": [
       "<matplotlib.collections.PathCollection at 0x7fb270b6f290>"
      ]
     },
     "execution_count": 37,
     "metadata": {},
     "output_type": "execute_result"
    },
    {
     "data": {
      "image/png": "[encoded data removed]",
      "text/plain": [
       "<matplotlib.figure.Figure at 0x7fb27656a5d0>"
      ]
     },
     "metadata": {},
     "output_type": "display_data"
    }
   ],
   "source": [
    "from sklearn.decomposition import PCA\n",
    "pca = PCA(n_components=2)\n",
    "X_r = pca.fit(fingerprints).transform(fingerprints)\n",
    "minComponent = np.min(np.diag(np.cov(X_r.T)))\n",
    "print minComponent\n",
    "X_r /= np.sqrt(minComponent)\n",
    "\n",
    "plt.scatter(X_r[:, 0], X_r[:, 1])\n"
   ]
  },
  {
   "cell_type": "code",
   "execution_count": 46,
   "metadata": {
    "collapsed": false
   },
   "outputs": [
    {
     "name": "stdout",
     "output_type": "stream",
     "text": [
      "[[  3.39434038   0.06496209   5.19416795   6.53367519  -0.71545045]\n",
      " [  2.36315626  -1.77634799   5.73210523   7.98785946   0.22137819]\n",
      " [  3.54081502  -0.12237702   6.98687186   7.75904843  -1.16004628]\n",
      " [  4.99618745  -0.32406335   6.76170104   8.34714511   1.22778325]\n",
      " [  2.06915861  -2.54940105   5.64206155   8.89739655  -0.6829639 ]\n",
      " [  2.35093038  -0.19719994   6.32273772   6.78770213   0.81550022]\n",
      " [  1.783224    -0.77455484   6.18606369   7.50782699   0.03583578]\n",
      " [  4.09465995  -1.2592765    3.10692072   7.58002308  -0.3570596 ]\n",
      " [  2.94943466  -0.84205098   6.55615293   8.63491934  -0.19376367]\n",
      " [  3.52017441  -2.1137171    4.02481963   8.32484412  -0.28469741]\n",
      " [  5.63902738  -1.20364978   5.1461373   10.27686178  -0.41214124]\n",
      " [  3.22383131  -3.03592792   5.94597543   9.94228037  -0.71663005]\n",
      " [  3.06233199  -0.04959319   7.63429884   7.07072081  -1.75116378]\n",
      " [  2.41701296  -2.04124095   5.19734557   8.1766859   -0.60942925]\n",
      " [  3.65622595  -2.58556365   7.33594089   9.69373218  -1.11537308]\n",
      " [  4.1945174   -0.99348038   6.72974196   8.61513108   0.53942474]\n",
      " [  3.93066836  -2.76544156   4.63003578   9.41507576  -0.9627719 ]\n",
      " [  3.63282027  -2.40245462   4.3305321    8.71512982  -0.38574991]\n",
      " [  3.90761746  -1.58907863   5.85797535   8.94942158   0.03594176]\n",
      " [  3.87420043  -0.67807432   6.81517739   9.20219482   0.08170154]\n",
      " [  3.37606031  -2.13163482   5.01802855   8.47260043  -0.06392881]\n",
      " [  3.29709385  -1.21028786   5.3549006    8.07719073  -0.25236526]\n",
      " [  3.95963377  -2.75429939   4.15380612   9.60318797  -0.38057897]\n",
      " [  3.47158778  -1.98824205   6.85774957   9.17635897  -0.39915509]\n",
      " [  2.79462347  -0.17478705   6.67251118   6.86662969   0.57164461]\n",
      " [  4.63508248  -2.51922961   5.37364164  10.27750693  -0.25097582]\n",
      " [  3.56682517   1.21750129   6.91871847   5.86309782  -1.73819795]\n",
      " [  3.19230807  -4.29543334   5.74017613   9.66942899  -0.20275925]\n",
      " [  3.17486336  -1.28124484   5.6720326    7.83411512   0.36035574]\n",
      " [  2.99183999  -1.05073167   6.65470176   8.02196555  -0.42713079]\n",
      " [  2.37094112  -4.11038566   3.97140351   9.78802157   1.66699045]\n",
      " [  2.5757459   -0.86744771   6.30896545   7.41141185  -0.2388113 ]\n",
      " [  3.24044202  -1.4013239    5.21594778   8.31740894  -0.73256704]\n",
      " [  2.84615337  -0.88908599   5.21338006   7.49855832   0.23894855]\n",
      " [  3.76076451  -1.31107288   5.77339709   8.59103003  -0.35230205]\n",
      " [  3.95842393  -3.66895777   4.50610186   9.41689579  -1.11676204]\n",
      " [  3.43446574  -1.87246584   6.00636836   8.91632962  -0.27609754]\n",
      " [  4.74646134  -0.69141476   5.93819677   8.67011441  -0.52293028]\n",
      " [  3.15955103  -1.99913572   5.81492598   8.67843113  -0.08598734]\n",
      " [  2.1067296   -2.50424345   4.02383439   7.90235508   1.68312035]\n",
      " [  3.57625389  -1.70783191   5.06714652   9.25642776  -0.93402952]\n",
      " [  3.93160655  -1.0641472    7.04404733   8.76616976  -0.14940495]\n",
      " [  3.49939187  -1.24048343   5.47788631   8.45849601  -0.42077275]\n",
      " [  4.11893133  -1.56469537   5.24152825   9.41437113  -0.08624851]]\n"
     ]
    }
   ],
   "source": [
    "fingerprints = np.asarray(fingerprints)\n",
    "ws = [np.random.randn(10) for i in range(5)]\n",
    "ws = np.asarray([w / np.linalg.norm(w) for w in ws])\n",
    "projections = np.dot(fingerprints, ws.T)\n",
    "print projections\n"
   ]
  },
  {
   "cell_type": "code",
   "execution_count": 47,
   "metadata": {
    "collapsed": false
   },
   "outputs": [
    {
     "data": {
      "text/plain": [
       "<matplotlib.collections.PathCollection at 0x7fb27062dbd0>"
      ]
     },
     "execution_count": 47,
     "metadata": {},
     "output_type": "execute_result"
    },
    {
     "data": {
      "image/png": "[encoded data removed]",
      "text/plain": [
       "<matplotlib.figure.Figure at 0x7fb270b5edd0>"
      ]
     },
     "metadata": {},
     "output_type": "display_data"
    },
    {
     "data": {
      "image/png": "[encoded data removed]",
      "text/plain": [
       "<matplotlib.figure.Figure at 0x7fb270b5ed90>"
      ]
     },
     "metadata": {},
     "output_type": "display_data"
    },
    {
     "data": {
      "image/png": "[encoded data removed]",
      "text/plain": [
       "<matplotlib.figure.Figure at 0x7fb270748b50>"
      ]
     },
     "metadata": {},
     "output_type": "display_data"
    },
    {
     "data": {
      "image/png": "[encoded data removed]",
      "text/plain": [
       "<matplotlib.figure.Figure at 0x7fb270669b10>"
      ]
     },
     "metadata": {},
     "output_type": "display_data"
    }
   ],
   "source": [
    "plt.scatter(projections[:, 0], projections[:, 1])\n",
    "plt.figure()\n",
    "plt.scatter(projections[:, 0], projections[:, 2])\n",
    "plt.figure()\n",
    "plt.scatter(projections[:, 0], projections[:, 3])\n",
    "plt.figure()\n",
    "plt.scatter(projections[:, 0], projections[:, 4])"
   ]
  },
  {
   "cell_type": "code",
   "execution_count": 48,
   "metadata": {
    "collapsed": false
   },
   "outputs": [
    {
     "name": "stdout",
     "output_type": "stream",
     "text": [
      "[ 1  3 13 15 27 28 31 36 40]\n"
     ]
    }
   ],
   "source": [
    "from sklearn.covariance import EllipticEnvelope\n",
    "\n",
    "clf = EllipticEnvelope(contamination=.20)\n",
    "clf.fit(projections)\n",
    "y_pred = clf.decision_function(projections).ravel()\n",
    "print eids[y_pred < 0]"
   ]
  },
  {
   "cell_type": "code",
   "execution_count": null,
   "metadata": {
    "collapsed": true
   },
   "outputs": [],
   "source": []
  },
  {
   "cell_type": "code",
   "execution_count": 40,
   "metadata": {
    "collapsed": false
   },
   "outputs": [
    {
     "name": "stdout",
     "output_type": "stream",
     "text": [
      "[ 4 13 15 16 27 28 31 36 40]\n"
     ]
    }
   ],
   "source": [
    "clf = EllipticEnvelope(contamination=.20)\n",
    "clf.fit(fingerprints)\n",
    "y_pred = clf.decision_function(fingerprints).ravel()\n",
    "print eids[y_pred < 0]"
   ]
  },
  {
   "cell_type": "code",
   "execution_count": null,
   "metadata": {
    "collapsed": false
   },
   "outputs": [],
   "source": []
  },
  {
   "cell_type": "code",
   "execution_count": null,
   "metadata": {
    "collapsed": false
   },
   "outputs": [],
   "source": []
  },
  {
   "cell_type": "code",
   "execution_count": null,
   "metadata": {
    "collapsed": true
   },
   "outputs": [],
   "source": []
  }
 ],
 "metadata": {
  "kernelspec": {
   "display_name": "Python 2",
   "language": "python",
   "name": "python2"
  },
  "language_info": {
   "codemirror_mode": {
    "name": "ipython",
    "version": 2
   },
   "file_extension": ".py",
   "mimetype": "text/x-python",
   "name": "python",
   "nbconvert_exporter": "python",
   "pygments_lexer": "ipython2",
   "version": "2.7.6"
  }
 },
 "nbformat": 4,
 "nbformat_minor": 0
}
