{
 "metadata": {
  "name": "cs_fitc debugging"
 },
 "nbformat": 3,
 "nbformat_minor": 0,
 "worksheets": [
  {
   "cells": [
    {
     "cell_type": "code",
     "collapsed": false,
     "input": [
      "from sigvisa.models.spatial_regression.SparseGP_CSFIC import SparseGP_CSFIC\n",
      "\n",
      "x = np.linspace(0, 100, 11)\n",
      "x = np.reshape(x, (-1, 1))\n",
      "y = np.concatenate([np.ones((5,)) * 100, np.ones((6,)) * -100])\n",
      "\n",
      "x_test = np.linspace(5, 95, 11)\n",
      "x_test = np.reshape(x_test, (-1, 1))\n",
      "y_test = np.concatenate([np.ones((5,)) * 100, np.ones((6,)) * -100])\n",
      "\n",
      "Xu = np.array(((20.0,), (80.0,)))\n",
      "\n",
      "print x_test\n",
      "print y_test\n",
      "\n",
      "\n",
      "\n"
     ],
     "language": "python",
     "metadata": {},
     "outputs": [
      {
       "output_type": "stream",
       "stream": "stdout",
       "text": [
        "[[  5.]\n",
        " [ 14.]\n",
        " [ 23.]\n",
        " [ 32.]\n",
        " [ 41.]\n",
        " [ 50.]\n",
        " [ 59.]\n",
        " [ 68.]\n",
        " [ 77.]\n",
        " [ 86.]\n",
        " [ 95.]]\n",
        "[ 100.  100.  100.  100.  100. -100. -100. -100. -100. -100. -100.]\n"
       ]
      }
     ],
     "prompt_number": 1
    },
    {
     "cell_type": "code",
     "collapsed": false,
     "input": [
      "L = iLaKfu/chol(A);\n",
      "\n",
      "gpcf = SparseGP_CSFIC(X=x, y=y, dfn_str=\"euclidean\", dfn_params_cs=np.array((5.5,)), dfn_params_fic=np.array((141.4213562,)), \n",
      "                    wfn_str_cs=\"compact2\", wfn_str_fic=\"se\", wfn_params_cs=np.array((1.0,)), wfn_params_fic=np.array((20.0,)),\n",
      "                      Xu=Xu, build_tree=True)\n"
     ],
     "language": "python",
     "metadata": {},
     "outputs": [
      {
       "output_type": "stream",
       "stream": "stdout",
       "text": [
        "Kinv is  0.0909090909091 full (vs diag at 0.0909090909091 )\n",
        "WARNING: FITC MODEL IS PROBABLY BROKEN, PLEASE FIX INV QUESTION\n",
        "Kinv is 9.1% full (11 nonzero elements).\n",
        "built tree\n"
       ]
      },
      {
       "output_type": "stream",
       "stream": "stderr",
       "text": [
        "/home/dmoore/python/sigvisa/models/spatial_regression/SparseGP_CSFIC.py:63: CholmodTypeConversionWarning: converting matrix of class csr_matrix to CSC format\n",
        "  factor = scikits.sparse.cholmod.cholesky(K)\n"
       ]
      }
     ],
     "prompt_number": 2
    },
    {
     "cell_type": "code",
     "collapsed": false,
     "input": [
      "#pred = gpcf.predict_naive(np.array(((0.0,),)))\n",
      "print gpcf.predict(x_test)\n"
     ],
     "language": "python",
     "metadata": {},
     "outputs": [
      {
       "output_type": "stream",
       "stream": "stdout",
       "text": [
        "[ 102.32395139   82.98300234   61.62674396   38.7050764    14.72883645\n",
        "   -9.7492051   -34.15551667  -57.91813583  -80.48894272 -101.36466609\n",
        " -120.10549848]\n"
       ]
      }
     ],
     "prompt_number": 3
    },
    {
     "cell_type": "code",
     "collapsed": false,
     "input": [
      "print np.diag(gpcf.covariance(x_test, include_obs=False))\n",
      "print np.diag(gpcf.covariance_double_tree(x_test, include_obs=False))\n",
      "print np.diag(gpcf.covariance_spkernel(x_test, include_obs=False))"
     ],
     "language": "python",
     "metadata": {},
     "outputs": [
      {
       "output_type": "stream",
       "stream": "stdout",
       "text": [
        "[ 1.61807713  1.42161865  1.28474657  1.11664972  0.83998381  0.65485148\n",
        "  0.83998381  1.11664972  1.28474657  1.42161865  1.61807713]\n",
        "[ 1.61807713  1.42161865  1.28474657  1.11664972  0.83998381  0.65485148\n",
        "  0.83998381  1.11664972  1.28474657  1.42161865  1.61807713]\n",
        "[ 1.61800666  1.42734992  1.33090416  1.29326313  1.28422633  1.28358193\n",
        "  1.28422633  1.29326313  1.33090416  1.42734992  1.61814883]\n"
       ]
      }
     ],
     "prompt_number": 13
    },
    {
     "cell_type": "code",
     "collapsed": false,
     "input": [
      "Xu = gpcf.Xu\n",
      "K_fic_uu = gpcf.kernel(Xu, Xu, identical=False, predict_tree = gpcf.predict_tree_fic)\n",
      "K_fic_un = gpcf.kernel(Xu, X1, identical=False, predict_tree = gpcf.predict_tree_fic)\n",
      "\n",
      "import scipy.linalg\n",
      "Luu  = scipy.linalg.cholesky(K_fic_uu, lower=True)\n",
      "B = scipy.linalg.solve(Luu, K_fic_un)\n",
      "BB = B*B\n",
      "Qvff = np.sum(BB, axis=0)\n",
      "print 20.0 - Qvff\n",
      "print K_fic_uu"
     ],
     "language": "python",
     "metadata": {},
     "outputs": [
      {
       "output_type": "stream",
       "stream": "stdout",
       "text": [
        "[ 0.11067875]\n",
        "[[ 20.          16.70540423]\n",
        " [ 16.70540423  20.        ]]\n"
       ]
      }
     ],
     "prompt_number": 15
    },
    {
     "cell_type": "code",
     "collapsed": false,
     "input": [
      "\n",
      "#print H   # == MATLAB K_nu\n",
      "# HKinv = K_un * Kinv_sp       ==MATLAB== K_fu' * (LA)^-1   == LA\\K_fu == iLaKfu\n",
      "# actually it's transposed somewhere, so HKinv = iLaKfu'\n",
      "R = Hstar - np.dot(HKinv,Kstar)       # =MATLAB=   K_nu' - iLaKfu' * Kcs_nf\n",
      "print R\n",
      "    \n",
      "    # I have invc = scipy.linalg.inv(c)\n",
      "    # c = scipy.linalg.cholesky(M_inv, lower=True)\n",
      "    # M_inv = Kuu + np.dot(KunKinv, K_un.T)\n",
      "    #    = Kuu  + K_fu' * Kinv_sp * K_fu\n",
      "    #    = Kuu  + \n",
      "    # in Matlab notation, this would look like\n",
      "    # M_inv = K_uu + iLaKfu * K_fu\n",
      "    # but that never appears?\n",
      "    \n",
      "    # mean_cov = R.T * gpcf.invc.T * gpcf.invc * R\n",
      "    #          = R.T * (  Kuu + np.dot(KunKinv, K_un.T)  )^-1 * R\n",
      "\n",
      "Binv = gpcf.kernel(gpcf.Xu, gpcf.Xu, predict_tree = gpcf.predict_tree_fic)\n",
      "Minv = Binv + np.dot(H, np.dot(Kinv, H.T))\n",
      "M = np.linalg.inv(Minv)\n",
      "print M\n",
      "print np.dot(R.T, np.dot(M, R))\n"
     ],
     "language": "python",
     "metadata": {},
     "outputs": [
      {
       "output_type": "stream",
       "stream": "stdout",
       "text": [
        "[[ 19.77485855]\n",
        " [ 15.09571949]]\n",
        "[[ 0.01560921 -0.01533177]\n",
        " [-0.01533177  0.01560921]]\n",
        "[[ 0.50739838]]\n"
       ]
      }
     ],
     "prompt_number": 29
    },
    {
     "cell_type": "code",
     "collapsed": false,
     "input": [
      "print np.dot(R.T, gpcf.beta_bar)\n",
      "#print np.dot(Kstar.T, np.dot(Kinv, gpcf.alpha_r))\n",
      "print gpcf.alpha_r\n",
      "print np.dot(Kinv.T, gpcf.y)"
     ],
     "language": "python",
     "metadata": {},
     "outputs": [
      {
       "output_type": "stream",
       "stream": "stdout",
       "text": [
        "[[ 102.31662602]]\n",
        "[ -5.43793573   3.98629715  15.52846433  27.709307    40.0180017\n",
        " -43.37463407 -30.61111753 -18.25075361  -6.17047644   4.88295171\n",
        "  13.2863041 ]\n",
        "[[ 45.10237232  48.92285038  50.          49.40036355  48.4643802\n",
        "  -48.06011307 -48.4643802  -49.40036355 -50.         -48.92285038\n",
        "  -45.10237232]]\n"
       ]
      }
     ],
     "prompt_number": 37
    },
    {
     "cell_type": "code",
     "collapsed": false,
     "input": [],
     "language": "python",
     "metadata": {},
     "outputs": []
    },
    {
     "cell_type": "code",
     "collapsed": false,
     "input": [
      "print np.dot(gpcf.invc, gpcf.c)"
     ],
     "language": "python",
     "metadata": {},
     "outputs": [
      {
       "output_type": "stream",
       "stream": "stdout",
       "text": [
        "[[  1.00000000e+00   0.00000000e+00]\n",
        " [ -8.88178420e-16   1.00000000e+00]]\n"
       ]
      }
     ],
     "prompt_number": 15
    },
    {
     "cell_type": "code",
     "collapsed": false,
     "input": [
      "print 1 - qf + mean_cov"
     ],
     "language": "python",
     "metadata": {},
     "outputs": [],
     "prompt_number": "*"
    },
    {
     "cell_type": "code",
     "collapsed": false,
     "input": [
      "\n",
      "Kstar = gpcf.kernel(gpcf.X, x_test, identical=False)\n",
      "print Kstar.shape\n",
      "print gpcf.alpha_r.shape\n",
      "cspred = np.dot(Kstar.T, gpcf.alpha_r)\n",
      "print cspred\n",
      "print gpcf.predict(x_test) - cspred\n"
     ],
     "language": "python",
     "metadata": {},
     "outputs": [
      {
       "output_type": "stream",
       "stream": "stdout",
       "text": [
        "(101, 10)\n",
        "(101,)\n",
        "[ 15.51024489  27.7648739   41.42671608  56.13568382  70.48105827\n",
        " -69.66556371 -54.57155398 -39.89027906 -26.26987649 -14.07126549]\n",
        "[ 80.23288316  64.66333072  47.27421978  28.52274619   8.93055373\n",
        " -10.94034116 -30.5143219  -49.22986249 -66.56627819 -82.06775862]\n"
       ]
      }
     ],
     "prompt_number": 30
    },
    {
     "cell_type": "code",
     "collapsed": false,
     "input": [
      "from sigvisa.models.spatial_regression.SparseGP import SparseGP\n",
      "\n",
      "hyperparams = np.array([1.0, 1.0, 141.4])\n",
      "\n",
      "gp = SparseGP(X=x, y=y, dfn_str=\"euclidean\", hyperparams=hyperparams,  \n",
      "                    wfn_str=\"se\", build_tree=False, center_mean=False)"
     ],
     "language": "python",
     "metadata": {},
     "outputs": [],
     "prompt_number": 11
    },
    {
     "cell_type": "code",
     "collapsed": false,
     "input": [
      "pred = gp.predict(x_test)\n",
      "print pred"
     ],
     "language": "python",
     "metadata": {},
     "outputs": [
      {
       "output_type": "stream",
       "stream": "stdout",
       "text": [
        "[ 115.4547141    93.14987531   68.15880917   41.17170992   12.97715851\n",
        "  -15.5760524   -43.62129126  -70.31771115  -94.89206485 -116.67581348]\n"
       ]
      }
     ],
     "prompt_number": 5
    },
    {
     "cell_type": "code",
     "collapsed": false,
     "input": [
      "print gp.kernel(x_test, x_test, identical=False)"
     ],
     "language": "python",
     "metadata": {},
     "outputs": [
      {
       "output_type": "stream",
       "stream": "stdout",
       "text": [
        "[[ 1.          0.99501098  0.98019275  0.95598449  0.92309404  0.88246358\n",
        "   0.83522479  0.78264661  0.72607884  0.66689521  0.60643905]\n",
        " [ 0.99501098  1.          0.99501098  0.98019275  0.95598449  0.92309404\n",
        "   0.88246358  0.83522479  0.78264661  0.72607884  0.66689521]\n",
        " [ 0.98019275  0.99501098  1.          0.99501098  0.98019275  0.95598449\n",
        "   0.92309404  0.88246358  0.83522479  0.78264661  0.72607884]\n",
        " [ 0.95598449  0.98019275  0.99501098  1.          0.99501098  0.98019275\n",
        "   0.95598449  0.92309404  0.88246358  0.83522479  0.78264661]\n",
        " [ 0.92309404  0.95598449  0.98019275  0.99501098  1.          0.99501098\n",
        "   0.98019275  0.95598449  0.92309404  0.88246358  0.83522479]\n",
        " [ 0.88246358  0.92309404  0.95598449  0.98019275  0.99501098  1.\n",
        "   0.99501098  0.98019275  0.95598449  0.92309404  0.88246358]\n",
        " [ 0.83522479  0.88246358  0.92309404  0.95598449  0.98019275  0.99501098\n",
        "   1.          0.99501098  0.98019275  0.95598449  0.92309404]\n",
        " [ 0.78264661  0.83522479  0.88246358  0.92309404  0.95598449  0.98019275\n",
        "   0.99501098  1.          0.99501098  0.98019275  0.95598449]\n",
        " [ 0.72607884  0.78264661  0.83522479  0.88246358  0.92309404  0.95598449\n",
        "   0.98019275  0.99501098  1.          0.99501098  0.98019275]\n",
        " [ 0.66689521  0.72607884  0.78264661  0.83522479  0.88246358  0.92309404\n",
        "   0.95598449  0.98019275  0.99501098  1.          0.99501098]\n",
        " [ 0.60643905  0.66689521  0.72607884  0.78264661  0.83522479  0.88246358\n",
        "   0.92309404  0.95598449  0.98019275  0.99501098  1.        ]]\n"
       ]
      }
     ],
     "prompt_number": 6
    },
    {
     "cell_type": "code",
     "collapsed": false,
     "input": [
      "cshyperparams = np.array([1.0, 1.0, 5.5])\n",
      "gpcs = SparseGP(X=x, y=y, dfn_str=\"euclidean\", hyperparams=cshyperparams,  \n",
      "                    wfn_str=\"compact2\", build_tree=False, center_mean=False)"
     ],
     "language": "python",
     "metadata": {},
     "outputs": [],
     "prompt_number": 15
    },
    {
     "cell_type": "code",
     "collapsed": false,
     "input": [
      "print gpcs.predict(x_test)"
     ],
     "language": "python",
     "metadata": {},
     "outputs": [
      {
       "output_type": "stream",
       "stream": "stdout",
       "text": [
        "[ 78.51826131  78.57193964  78.57192807  78.57207054  77.55048992\n",
        " -78.31916167 -78.57197738 -78.57192808 -78.57193964 -78.51826131]\n"
       ]
      }
     ],
     "prompt_number": 16
    },
    {
     "cell_type": "code",
     "collapsed": false,
     "input": [],
     "language": "python",
     "metadata": {},
     "outputs": []
    }
   ],
   "metadata": {}
  }
 ]
}