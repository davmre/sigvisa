{
 "metadata": {
  "name": "",
  "signature": "sha256:627fe331148c326fa24b47ab2799d7ee9fe1ea7e574ef4c6ab91d7ef233608b8"
 },
 "nbformat": 3,
 "nbformat_minor": 0,
 "worksheets": [
  {
   "cells": [
    {
     "cell_type": "code",
     "collapsed": false,
     "input": [
      "import numpy as np\n",
      "import sys\n",
      "import os\n",
      "\n",
      "import traceback\n",
      "\n",
      "\n",
      "import pickle\n",
      "import copy\n",
      "\n",
      "from sigvisa import Sigvisa\n",
      "\n",
      "from sigvisa.graph.sigvisa_graph import SigvisaGraph\n",
      "\n",
      "\n",
      "\n",
      "from sigvisa.models.ttime import tt_predict\n",
      "from sigvisa.infer.event_mcmc import *\n",
      "\n",
      "\n",
      "from sigvisa.infer.run_mcmc import run_open_world_MH\n",
      "from sigvisa.infer.mcmc_logger import MCMCLogger\n",
      "\n",
      "from sigvisa.infer.template_mcmc import *\n",
      "from sigvisa.plotting.plot import plot_with_fit, plot_with_fit_shapes, plot_pred_atimes\n",
      "from sigvisa.signals.common import Waveform\n",
      "from sigvisa.utils.fileutils import clear_directory, mkdir_p\n",
      "\n",
      "from sigvisa.experiments.one_station_templates_test import sample_template\n",
      "\n",
      "import cPickle as pickle\n",
      "\n",
      "def do_plot(wn, ax=None):\n",
      "    if ax is None:\n",
      "      f = plt.figure(figsize=(15,5))\n",
      "      ax=f.add_subplot(111)\n",
      "    shape_colors = plot_with_fit_shapes(fname=None, wn=wn, axes=ax, plot_wave=True)\n",
      "    atimes = dict([(\"%d_%s\" % (eid, phase), wn.get_template_params_for_arrival(eid=eid, phase=phase)[0]['arrival_time']) for (eid, phase) in wn.arrivals()])\n",
      "    colors = dict([(\"%d_%s\" % (eid, phase), shape_colors[eid]) for (eid, phase) in wn.arrivals()])\n",
      "    plot_pred_atimes(dict(atimes), wn.get_wave(), axes=ax, color=colors, alpha=1.0, bottom_rel=-0.1, top_rel=0.0)\n",
      "    return ax\n",
      "\n"
     ],
     "language": "python",
     "metadata": {},
     "outputs": [],
     "prompt_number": 1
    },
    {
     "cell_type": "code",
     "collapsed": false,
     "input": [
      "with open(\"/home/dmoore/python/sigvisa/logs/mcmc/01346/step_004999/pickle.sg\", 'rb') as f:\n",
      "    sg = pickle.load(f)\n",
      "    \n",
      "with open(\"/home/dmoore/python/sigvisa/logs/mcmc/01346/events.pkl\", 'rb') as f:\n",
      "    true_evs = pickle.load(f)\n",
      "    \n",
      "wn = sg.all_nodes['wave_STKA_BHZ_freq_2.0_3.0_1238889600.0']\n",
      "sg.current_log_p_breakdown()"
     ],
     "language": "python",
     "metadata": {},
     "outputs": [
      {
       "output_type": "stream",
       "stream": "stdout",
       "text": [
        "n_uatemplate: -50.9\n",
        "n_event: -25.1\n",
        "ev priors: ev -61.0\n",
        "tt_residual: ev -948.4\n",
        "ev global cost (n + priors + tt): -1034.5\n",
        "coda_decay: ev -110.0 ua -1.9 total -111.9\n",
        "peak_decay: ev -106.3 ua -2.1 total -108.4\n",
        "peak_offset: ev -100.9 ua -1.4 total -102.3\n",
        "coda_height: ev -93.9 ua -16.9 total -110.8\n",
        "wiggles: ev 0.0 ua 0.0 total 0.0\n",
        "total param: ev -411.1 ua -22.2 total -433.3\n",
        "non signals: ev -1445.6 ua -73.2 total -1518.7\n",
        "signals: 128733.9\n",
        "overall: 127215.2\n",
        "official: 127215.2\n"
       ]
      }
     ],
     "prompt_number": 2
    },
    {
     "cell_type": "code",
     "collapsed": false,
     "input": [
      "wn = sg.all_nodes['wave_FITZ_BHZ_freq_2.0_3.0_1238889600.0']\n",
      "np.random.seed(1)\n",
      "\n",
      "try:\n",
      "    lp_new, lp_old, log_qbackward, log_qforward, arr1, arr2, revert_all = swap_association_move(sg, wn, repropose_events=True)\n",
      "except:\n",
      "    import pdb, sys, traceback\n",
      "    type, value, tb = sys.exc_info()\n",
      "    traceback.print_exc()\n",
      "    pdb.post_mortem(tb)\n",
      "revert_all()\n",
      "print lp_new, lp_old\n",
      "print log_qbackward, log_qforward\n",
      "print arr1, arr2"
     ],
     "language": "python",
     "metadata": {},
     "outputs": [
      {
       "output_type": "stream",
       "stream": "stdout",
       "text": [
        "[1238890533.959435, 1238890005.9591248, 1238890558.6276553, 1238890390.1395376, 1238890850.153872, 1238889999.346314, 1238890686.7656643, 1238890297.6427007, 1238890403.9421933, 1238890397.2386177, 1238890842.5055892, 1238890517.6278832, 1238890858.7933154, 1238890135.2561104, 1238890412.3383703, 1238890354.4575434, 1238890451.6849189, 1238890073.5894444, 1238890384.3341012, 1238890272.4621787, 1238889971.0794683, 1238890527.6694236]\n",
        "[1238890401.6343455, 1238890207.770359, 1238890436.1608808, 1238890263.4558506, 1238890549.769233, 1238890267.9310856, 1238890462.3406599, 1238890050.3961678, 1238890225.4747906, 1238890146.5001936, 1238890530.7808106, 1238890385.6697738, 1238890571.8954806, 1238890298.6470001, 1238890224.4635317, 1238890466.4933925, 1238890883.2491105, 1238890150.7060082, 1238890166.7638543, 1238890540.9810638, 1238890209.5296903, 1238890499.7571774]\n",
        "[1238890533.959435, 1238890005.9591248, 1238890558.6276553, 1238890390.1395376, 1238890850.153872, 1238890267.9310856, 1238890686.7656643, 1238890297.6427007, 1238890403.9421933, 1238890397.2386177, 1238890842.5055892, 1238890517.6278832, 1238890858.7933154, 1238890135.2561104, 1238890412.3383703, 1238890354.4575434, 1238890451.6849189, 1238890073.5894444, 1238890384.3341012, 1238890272.4621787, 1238889971.0794683, 1238890527.6694236]"
       ]
      },
      {
       "output_type": "stream",
       "stream": "stderr",
       "text": [
        "Traceback (most recent call last):\n",
        "  File \"<ipython-input-3-1d213ac4f5b7>\", line 5, in <module>\n",
        "    lp_new, lp_old, log_qbackward, log_qforward, arr1, arr2, revert_all = swap_association_move(sg, wn, repropose_events=True)\n",
        "  File \"/home/dmoore/python/sigvisa/infer/event_mcmc.py\", line 733, in swap_association_move\n",
        "    set_proposed_ev()\n",
        "  File \"/home/dmoore/python/sigvisa/infer/event_mcmc.py\", line 645, in set_proposed_ev\n",
        "    sg.set_event(eid, new_ev, preserve_templates=True)\n",
        "  File \"/home/dmoore/python/sigvisa/graph/sigvisa_graph.py\", line 501, in set_event\n",
        "    raise e\n",
        "ValueError: EarthModel: requesting travel time for impossible phase.\n"
       ]
      },
      {
       "output_type": "stream",
       "stream": "stdout",
       "text": [
        "\n",
        "[1238890401.6343455, 1238890207.770359, 1238890436.1608808, 1238890263.4558506, 1238890549.769233, 1238889999.346314, 1238890462.3406599, 1238890050.3961678, 1238890225.4747906, 1238890146.5001936, 1238890530.7808106, 1238890385.6697738, 1238890571.8954806, 1238890298.6470001, 1238890224.4635317, 1238890466.4933925, 1238890883.2491105, 1238890150.7060082, 1238890166.7638543, 1238890540.9810638, 1238890209.5296903, 1238890499.7571774]\n",
        "> /home/dmoore/python/sigvisa/graph/sigvisa_graph.py(501)set_event()\n",
        "-> raise e\n"
       ]
      }
     ]
    },
    {
     "cell_type": "markdown",
     "metadata": {},
     "source": [
      "np.random.seed(9)\n",
      "evnode = sg.evnodes[2]['loc']\n",
      "ev_move_full(sg, evnode, 1.0, ['lon', 'lat', 'depth'], adaptive_block=True)\n",
      "sg.current_log_p_breakdown()"
     ]
    },
    {
     "cell_type": "code",
     "collapsed": false,
     "input": [
      "print 127317.265809 -142.784020692\n",
      "print 127215.150068 -4.962840787"
     ],
     "language": "python",
     "metadata": {},
     "outputs": [
      {
       "output_type": "stream",
       "stream": "stdout",
       "text": [
        "127174.481788\n",
        "127210.187227\n"
       ]
      }
     ],
     "prompt_number": 10
    },
    {
     "cell_type": "code",
     "collapsed": false,
     "input": [
      "\n",
      "do_plot(wn)"
     ],
     "language": "python",
     "metadata": {},
     "outputs": [
      {
       "output_type": "stream",
       "stream": "stdout",
       "text": [
        "reading station detections... \n"
       ]
      },
      {
       "metadata": {},
       "output_type": "pyout",
       "prompt_number": 4,
       "text": [
        "<matplotlib.axes.AxesSubplot at 0x30b7bd0>"
       ]
      },
      {
       "metadata": {},
       "output_type": "display_data",
       "png": "[encoded data removed]",
       "text": [
        "<matplotlib.figure.Figure at 0x30bf290>"
       ]
      }
     ],
     "prompt_number": 4
    },
    {
     "cell_type": "code",
     "collapsed": false,
     "input": [
      "logger = MCMCLogger()\n",
      "run_open_world_MH(sg, steps=3000,\n",
      "                  enable_event_openworld=False,\n",
      "                  enable_event_moves=True,\n",
      "                  enable_template_openworld=False,\n",
      "                  enable_template_moves=True,\n",
      "                  logger=logger,\n",
      "                  start_step = 0,\n",
      "                  template_move_type = \"rw\")\n"
     ],
     "language": "python",
     "metadata": {},
     "outputs": [
      {
       "output_type": "stream",
       "stream": "stdout",
       "text": [
        "step 1: lp 127354.45, accepted  arrival_time: 0.291%,  coda_decay: 0.321%,  coda_height: 0.313%,  evdepth: 0.167%,  evloc: 0.833%,  evloc_big: 0.333%,  evmb: 0.833%,  evtime: 0.667%,  indep_peak: 0.000%,  peak_decay: 0.388%,  peak_offset: 0.108%,  swap_association: 0.000%,  , uatemplates:  1 , events:  3\n",
        "step 2: lp 127365.50, accepted "
       ]
      },
      {
       "output_type": "stream",
       "stream": "stdout",
       "text": [
        " arrival_time: 0.294%,  coda_decay: 0.299%,  coda_height: 0.318%,  evdepth: 0.111%,  evloc: 0.889%,  evloc_big: 0.444%,  evmb: 0.889%,  evtime: 0.667%,  indep_peak: 0.000%,  peak_decay: 0.398%,  peak_offset: 0.119%,  swap_association: 0.000%,  , uatemplates:  1 , events:  3\n",
        "step 3: lp 127373.44, accepted "
       ]
      },
      {
       "output_type": "stream",
       "stream": "stdout",
       "text": [
        " arrival_time: 0.295%,  coda_decay: 0.287%,  coda_height: 0.317%,  evdepth: 0.083%,  evloc: 0.750%,  evloc_big: 0.417%,  evmb: 0.917%,  evtime: 0.667%,  indep_peak: 0.000%,  peak_decay: 0.358%,  peak_offset: 0.112%,  swap_association: 0.000%,  , uatemplates:  1 , events:  3\n",
        "step 4: lp 127409.39, accepted "
       ]
      },
      {
       "output_type": "stream",
       "stream": "stdout",
       "text": [
        " arrival_time: 0.301%,  coda_decay: 0.290%,  coda_height: 0.307%,  evdepth: 0.067%,  evloc: 0.667%,  evloc_big: 0.400%,  evmb: 0.933%,  evtime: 0.600%,  indep_peak: 0.000%,  peak_decay: 0.349%,  peak_offset: 0.107%,  swap_association: 0.000%,  , uatemplates:  1 , events:  3\n",
        "step 20: lp 127418.74, accepted "
       ]
      },
      {
       "output_type": "stream",
       "stream": "stdout",
       "text": [
        " arrival_time: 0.283%,  coda_decay: 0.306%,  coda_height: 0.296%,  evdepth: 0.079%,  evloc: 0.651%,  evloc_big: 0.333%,  evmb: 0.937%,  evtime: 0.635%,  indep_peak: 0.001%,  peak_decay: 0.331%,  peak_offset: 0.131%,  swap_association: 0.000%,  , uatemplates:  1 , events:  3\n",
        "step 40: lp 127428.16, accepted "
       ]
      },
      {
       "output_type": "stream",
       "stream": "stdout",
       "text": [
        " arrival_time: 0.285%,  coda_decay: 0.304%,  coda_height: 0.297%,  evdepth: 0.098%,  evloc: 0.699%,  evloc_big: 0.333%,  evmb: 0.894%,  evtime: 0.561%,  indep_peak: 0.000%,  peak_decay: 0.322%,  peak_offset: 0.134%,  swap_association: 0.000%,  , uatemplates:  1 , events:  3\n",
        "step 60: lp 127431.34, accepted "
       ]
      },
      {
       "output_type": "stream",
       "stream": "stdout",
       "text": [
        " arrival_time: 0.289%,  coda_decay: 0.301%,  coda_height: 0.302%,  evdepth: 0.120%,  evloc: 0.765%,  evloc_big: 0.328%,  evmb: 0.880%,  evtime: 0.541%,  indep_peak: 0.000%,  peak_decay: 0.323%,  peak_offset: 0.141%,  swap_association: 0.000%,  , uatemplates:  1 , events:  3\n",
        "step 80: lp 127434.69, accepted "
       ]
      },
      {
       "output_type": "stream",
       "stream": "stdout",
       "text": [
        " arrival_time: 0.287%,  coda_decay: 0.302%,  coda_height: 0.303%,  evdepth: 0.107%,  evloc: 0.782%,  evloc_big: 0.329%,  evmb: 0.889%,  evtime: 0.535%,  indep_peak: 0.000%,  peak_decay: 0.324%,  peak_offset: 0.141%,  swap_association: 0.000%,  , uatemplates:  1 , events:  3\n",
        "step 100: lp 127434.78, accepted "
       ]
      },
      {
       "output_type": "stream",
       "stream": "stdout",
       "text": [
        " arrival_time: 0.286%,  coda_decay: 0.304%,  coda_height: 0.301%,  evdepth: 0.109%,  evloc: 0.759%,  evloc_big: 0.327%,  evmb: 0.898%,  evtime: 0.525%,  indep_peak: 0.001%,  peak_decay: 0.322%,  peak_offset: 0.142%,  swap_association: 0.000%,  , uatemplates:  1 , events:  3\n",
        "step 120: lp 127420.46, accepted "
       ]
      },
      {
       "output_type": "stream",
       "stream": "stdout",
       "text": [
        " arrival_time: 0.287%,  coda_decay: 0.302%,  coda_height: 0.302%,  evdepth: 0.099%,  evloc: 0.755%,  evloc_big: 0.309%,  evmb: 0.895%,  evtime: 0.504%,  indep_peak: 0.001%,  peak_decay: 0.323%,  peak_offset: 0.141%,  swap_association: 0.000%,  , uatemplates:  1 , events:  3\n",
        "step 140: lp 127469.60, accepted "
       ]
      },
      {
       "output_type": "stream",
       "stream": "stdout",
       "text": [
        " arrival_time: 0.286%,  coda_decay: 0.302%,  coda_height: 0.301%,  evdepth: 0.111%,  evloc: 0.747%,  evloc_big: 0.322%,  evmb: 0.898%,  evtime: 0.506%,  indep_peak: 0.001%,  peak_decay: 0.321%,  peak_offset: 0.141%,  swap_association: 0.000%,  , uatemplates:  1 , events:  3\n",
        "step 160: lp 127459.18, accepted "
       ]
      },
      {
       "output_type": "stream",
       "stream": "stdout",
       "text": [
        " arrival_time: 0.286%,  coda_decay: 0.301%,  coda_height: 0.301%,  evdepth: 0.116%,  evloc: 0.729%,  evloc_big: 0.317%,  evmb: 0.896%,  evtime: 0.497%,  indep_peak: 0.001%,  peak_decay: 0.324%,  peak_offset: 0.142%,  swap_association: 0.000%,  , uatemplates:  1 , events:  3\n",
        "step 180: lp 127473.36, accepted "
       ]
      },
      {
       "output_type": "stream",
       "stream": "stdout",
       "text": [
        " arrival_time: 0.285%,  coda_decay: 0.301%,  coda_height: 0.300%,  evdepth: 0.120%,  evloc: 0.731%,  evloc_big: 0.322%,  evmb: 0.891%,  evtime: 0.495%,  indep_peak: 0.001%,  peak_decay: 0.325%,  peak_offset: 0.141%,  swap_association: 0.000%,  , uatemplates:  1 , events:  3\n",
        "step 200: lp 127472.15, accepted "
       ]
      },
      {
       "output_type": "stream",
       "stream": "stdout",
       "text": [
        " arrival_time: 0.286%,  coda_decay: 0.301%,  coda_height: 0.300%,  evdepth: 0.114%,  evloc: 0.735%,  evloc_big: 0.322%,  evmb: 0.889%,  evtime: 0.488%,  indep_peak: 0.001%,  peak_decay: 0.326%,  peak_offset: 0.141%,  swap_association: 0.000%,  , uatemplates:  1 , events:  3\n",
        "step 220: lp 127498.04, accepted "
       ]
      },
      {
       "output_type": "stream",
       "stream": "stdout",
       "text": [
        " arrival_time: 0.285%,  coda_decay: 0.300%,  coda_height: 0.300%,  evdepth: 0.110%,  evloc: 0.748%,  evloc_big: 0.332%,  evmb: 0.893%,  evtime: 0.483%,  indep_peak: 0.001%,  peak_decay: 0.327%,  peak_offset: 0.141%,  swap_association: 0.000%,  , uatemplates:  1 , events:  3\n",
        "step 240: lp 127503.61, accepted "
       ]
      },
      {
       "output_type": "stream",
       "stream": "stdout",
       "text": [
        " arrival_time: 0.283%,  coda_decay: 0.300%,  coda_height: 0.299%,  evdepth: 0.108%,  evloc: 0.762%,  evloc_big: 0.339%,  evmb: 0.900%,  evtime: 0.485%,  indep_peak: 0.001%,  peak_decay: 0.326%,  peak_offset: 0.141%,  swap_association: 0.000%,  , uatemplates:  1 , events:  3\n",
        "step 260: lp 127563.23, accepted "
       ]
      },
      {
       "output_type": "stream",
       "stream": "stdout",
       "text": [
        " arrival_time: 0.283%,  coda_decay: 0.300%,  coda_height: 0.298%,  evdepth: 0.109%,  evloc: 0.769%,  evloc_big: 0.337%,  evmb: 0.900%,  evtime: 0.483%,  indep_peak: 0.001%,  peak_decay: 0.328%,  peak_offset: 0.140%,  swap_association: 0.000%,  , uatemplates:  1 , events:  3\n",
        "step 280: lp 127532.17, accepted "
       ]
      },
      {
       "output_type": "stream",
       "stream": "stdout",
       "text": [
        " arrival_time: 0.283%,  coda_decay: 0.300%,  coda_height: 0.297%,  evdepth: 0.109%,  evloc: 0.767%,  evloc_big: 0.339%,  evmb: 0.905%,  evtime: 0.479%,  indep_peak: 0.001%,  peak_decay: 0.328%,  peak_offset: 0.140%,  swap_association: 0.000%,  , uatemplates:  1 , events:  3\n",
        "step 300: lp 127557.16, accepted "
       ]
      },
      {
       "output_type": "stream",
       "stream": "stdout",
       "text": [
        " arrival_time: 0.283%,  coda_decay: 0.300%,  coda_height: 0.298%,  evdepth: 0.111%,  evloc: 0.761%,  evloc_big: 0.339%,  evmb: 0.906%,  evtime: 0.475%,  indep_peak: 0.001%,  peak_decay: 0.329%,  peak_offset: 0.140%,  swap_association: 0.000%,  , uatemplates:  1 , events:  3\n",
        "step 320: lp 127544.57, accepted "
       ]
      },
      {
       "output_type": "stream",
       "stream": "stdout",
       "text": [
        " arrival_time: 0.284%,  coda_decay: 0.301%,  coda_height: 0.297%,  evdepth: 0.111%,  evloc: 0.765%,  evloc_big: 0.333%,  evmb: 0.903%,  evtime: 0.472%,  indep_peak: 0.001%,  peak_decay: 0.330%,  peak_offset: 0.140%,  swap_association: 0.000%,  , uatemplates:  1 , events:  3\n",
        "step 340: lp 127580.35, accepted "
       ]
      },
      {
       "output_type": "stream",
       "stream": "stdout",
       "text": [
        " arrival_time: 0.284%,  coda_decay: 0.299%,  coda_height: 0.296%,  evdepth: 0.111%,  evloc: 0.760%,  evloc_big: 0.330%,  evmb: 0.903%,  evtime: 0.471%,  indep_peak: 0.001%,  peak_decay: 0.329%,  peak_offset: 0.139%,  swap_association: 0.000%,  , uatemplates:  1 , events:  3\n",
        "step 360: lp 127604.20, accepted "
       ]
      },
      {
       "output_type": "stream",
       "stream": "stdout",
       "text": [
        " arrival_time: 0.284%,  coda_decay: 0.299%,  coda_height: 0.296%,  evdepth: 0.110%,  evloc: 0.753%,  evloc_big: 0.329%,  evmb: 0.908%,  evtime: 0.478%,  indep_peak: 0.001%,  peak_decay: 0.330%,  peak_offset: 0.139%,  swap_association: 0.000%,  , uatemplates:  1 , events:  3\n",
        "step 380: lp 127598.90, accepted "
       ]
      },
      {
       "output_type": "stream",
       "stream": "stdout",
       "text": [
        " arrival_time: 0.283%,  coda_decay: 0.299%,  coda_height: 0.296%,  evdepth: 0.115%,  evloc: 0.758%,  evloc_big: 0.332%,  evmb: 0.911%,  evtime: 0.486%,  indep_peak: 0.001%,  peak_decay: 0.329%,  peak_offset: 0.138%,  swap_association: 0.000%,  , uatemplates:  1 , events:  3\n",
        "step 400: lp 127628.83, accepted "
       ]
      },
      {
       "output_type": "stream",
       "stream": "stdout",
       "text": [
        " arrival_time: 0.283%,  coda_decay: 0.298%,  coda_height: 0.297%,  evdepth: 0.115%,  evloc: 0.759%,  evloc_big: 0.329%,  evmb: 0.911%,  evtime: 0.491%,  indep_peak: 0.001%,  peak_decay: 0.331%,  peak_offset: 0.138%,  swap_association: 0.000%,  , uatemplates:  1 , events:  3\n",
        "step 420: lp 127635.75, accepted "
       ]
      },
      {
       "output_type": "stream",
       "stream": "stdout",
       "text": [
        " arrival_time: 0.282%,  coda_decay: 0.299%,  coda_height: 0.296%,  evdepth: 0.117%,  evloc: 0.749%,  evloc_big: 0.328%,  evmb: 0.912%,  evtime: 0.488%,  indep_peak: 0.001%,  peak_decay: 0.332%,  peak_offset: 0.138%,  swap_association: 0.000%,  , uatemplates:  1 , events:  3\n",
        "step 440: lp 127632.77, accepted "
       ]
      },
      {
       "output_type": "stream",
       "stream": "stdout",
       "text": [
        " arrival_time: 0.283%,  coda_decay: 0.299%,  coda_height: 0.296%,  evdepth: 0.119%,  evloc: 0.748%,  evloc_big: 0.327%,  evmb: 0.915%,  evtime: 0.491%,  indep_peak: 0.001%,  peak_decay: 0.331%,  peak_offset: 0.138%,  swap_association: 0.000%,  , uatemplates:  1 , events:  3\n",
        "step 460: lp 127656.24, accepted "
       ]
      },
      {
       "output_type": "stream",
       "stream": "stdout",
       "text": [
        " arrival_time: 0.282%,  coda_decay: 0.298%,  coda_height: 0.295%,  evdepth: 0.119%,  evloc: 0.749%,  evloc_big: 0.327%,  evmb: 0.915%,  evtime: 0.492%,  indep_peak: 0.001%,  peak_decay: 0.331%,  peak_offset: 0.138%,  swap_association: 0.000%,  , uatemplates:  1 , events:  3\n",
        "step 480: lp 127659.29, accepted "
       ]
      },
      {
       "output_type": "stream",
       "stream": "stdout",
       "text": [
        " arrival_time: 0.282%,  coda_decay: 0.298%,  coda_height: 0.296%,  evdepth: 0.119%,  evloc: 0.748%,  evloc_big: 0.329%,  evmb: 0.915%,  evtime: 0.493%,  indep_peak: 0.001%,  peak_decay: 0.331%,  peak_offset: 0.138%,  swap_association: 0.000%,  , uatemplates:  1 , events:  3\n",
        "saving debug dump to logs/mcmc/00010/step_000499..."
       ]
      },
      {
       "output_type": "stream",
       "stream": "stdout",
       "text": [
        "\n",
        "saved pickled graph\n",
        "step 500: lp 127648.95, accepted "
       ]
      },
      {
       "output_type": "stream",
       "stream": "stdout",
       "text": [
        " arrival_time: 0.281%,  coda_decay: 0.298%,  coda_height: 0.296%,  evdepth: 0.118%,  evloc: 0.747%,  evloc_big: 0.326%,  evmb: 0.916%,  evtime: 0.494%,  indep_peak: 0.001%,  peak_decay: 0.331%,  peak_offset: 0.138%,  swap_association: 0.000%,  , uatemplates:  1 , events:  3\n",
        "step 520: lp 127660.85, accepted "
       ]
      },
      {
       "output_type": "stream",
       "stream": "stdout",
       "text": [
        " arrival_time: 0.279%,  coda_decay: 0.298%,  coda_height: 0.296%,  evdepth: 0.117%,  evloc: 0.745%,  evloc_big: 0.328%,  evmb: 0.917%,  evtime: 0.493%,  indep_peak: 0.001%,  peak_decay: 0.332%,  peak_offset: 0.137%,  swap_association: 0.000%,  , uatemplates:  1 , events:  3\n",
        "step 540: lp 127678.54, accepted "
       ]
      },
      {
       "output_type": "stream",
       "stream": "stdout",
       "text": [
        " arrival_time: 0.279%,  coda_decay: 0.298%,  coda_height: 0.296%,  evdepth: 0.118%,  evloc: 0.745%,  evloc_big: 0.325%,  evmb: 0.917%,  evtime: 0.494%,  indep_peak: 0.001%,  peak_decay: 0.331%,  peak_offset: 0.138%,  swap_association: 0.000%,  , uatemplates:  1 , events:  3\n",
        "step 560: lp 127637.65, accepted "
       ]
      },
      {
       "output_type": "stream",
       "stream": "stdout",
       "text": [
        " arrival_time: 0.279%,  coda_decay: 0.298%,  coda_height: 0.296%,  evdepth: 0.115%,  evloc: 0.746%,  evloc_big: 0.328%,  evmb: 0.917%,  evtime: 0.493%,  indep_peak: 0.001%,  peak_decay: 0.331%,  peak_offset: 0.138%,  swap_association: 0.000%,  , uatemplates:  1 , events:  3\n",
        "step 580: lp 127661.61, accepted "
       ]
      },
      {
       "output_type": "stream",
       "stream": "stdout",
       "text": [
        " arrival_time: 0.280%,  coda_decay: 0.298%,  coda_height: 0.296%,  evdepth: 0.116%,  evloc: 0.750%,  evloc_big: 0.328%,  evmb: 0.917%,  evtime: 0.492%,  indep_peak: 0.001%,  peak_decay: 0.331%,  peak_offset: 0.138%,  swap_association: 0.000%,  , uatemplates:  1 , events:  3\n",
        "step 600: lp 127681.10, accepted "
       ]
      },
      {
       "output_type": "stream",
       "stream": "stdout",
       "text": [
        " arrival_time: 0.280%,  coda_decay: 0.298%,  coda_height: 0.296%,  evdepth: 0.115%,  evloc: 0.754%,  evloc_big: 0.326%,  evmb: 0.917%,  evtime: 0.493%,  indep_peak: 0.001%,  peak_decay: 0.331%,  peak_offset: 0.139%,  swap_association: 0.000%,  , uatemplates:  1 , events:  3\n",
        "step 620: lp 127685.15, accepted "
       ]
      },
      {
       "output_type": "stream",
       "stream": "stdout",
       "text": [
        " arrival_time: 0.279%,  coda_decay: 0.298%,  coda_height: 0.296%,  evdepth: 0.115%,  evloc: 0.752%,  evloc_big: 0.326%,  evmb: 0.918%,  evtime: 0.497%,  indep_peak: 0.001%,  peak_decay: 0.331%,  peak_offset: 0.139%,  swap_association: 0.000%,  , uatemplates:  1 , events:  3\n",
        "step 640: lp 127728.06, accepted "
       ]
      },
      {
       "output_type": "stream",
       "stream": "stdout",
       "text": [
        " arrival_time: 0.279%,  coda_decay: 0.298%,  coda_height: 0.296%,  evdepth: 0.116%,  evloc: 0.750%,  evloc_big: 0.326%,  evmb: 0.918%,  evtime: 0.496%,  indep_peak: 0.001%,  peak_decay: 0.331%,  peak_offset: 0.138%,  swap_association: 0.000%,  , uatemplates:  1 , events:  3\n",
        "step 660: lp 127740.33, accepted "
       ]
      },
      {
       "output_type": "stream",
       "stream": "stdout",
       "text": [
        " arrival_time: 0.278%,  coda_decay: 0.297%,  coda_height: 0.295%,  evdepth: 0.115%,  evloc: 0.752%,  evloc_big: 0.323%,  evmb: 0.918%,  evtime: 0.491%,  indep_peak: 0.001%,  peak_decay: 0.330%,  peak_offset: 0.138%,  swap_association: 0.000%,  , uatemplates:  1 , events:  3\n",
        "step 680: lp 127764.06, accepted "
       ]
      },
      {
       "output_type": "stream",
       "stream": "stdout",
       "text": [
        " arrival_time: 0.277%,  coda_decay: 0.297%,  coda_height: 0.294%,  evdepth: 0.116%,  evloc: 0.748%,  evloc_big: 0.321%,  evmb: 0.917%,  evtime: 0.492%,  indep_peak: 0.001%,  peak_decay: 0.330%,  peak_offset: 0.137%,  swap_association: 0.000%,  , uatemplates:  1 , events:  3\n",
        "step 700: lp 127737.86, accepted "
       ]
      },
      {
       "output_type": "stream",
       "stream": "stdout",
       "text": [
        " arrival_time: 0.277%,  coda_decay: 0.296%,  coda_height: 0.294%,  evdepth: 0.118%,  evloc: 0.747%,  evloc_big: 0.319%,  evmb: 0.917%,  evtime: 0.492%,  indep_peak: 0.001%,  peak_decay: 0.330%,  peak_offset: 0.137%,  swap_association: 0.000%,  , uatemplates:  1 , events:  3\n",
        "step 720: lp 127716.17, accepted "
       ]
      },
      {
       "output_type": "stream",
       "stream": "stdout",
       "text": [
        " arrival_time: 0.276%,  coda_decay: 0.296%,  coda_height: 0.294%,  evdepth: 0.120%,  evloc: 0.745%,  evloc_big: 0.318%,  evmb: 0.917%,  evtime: 0.490%,  indep_peak: 0.001%,  peak_decay: 0.330%,  peak_offset: 0.137%,  swap_association: 0.000%,  , uatemplates:  1 , events:  3\n",
        "step 740: lp 127740.10, accepted "
       ]
      },
      {
       "output_type": "stream",
       "stream": "stdout",
       "text": [
        " arrival_time: 0.275%,  coda_decay: 0.296%,  coda_height: 0.293%,  evdepth: 0.121%,  evloc: 0.738%,  evloc_big: 0.311%,  evmb: 0.918%,  evtime: 0.492%,  indep_peak: 0.001%,  peak_decay: 0.329%,  peak_offset: 0.136%,  swap_association: 0.000%,  , uatemplates:  1 , events:  3\n",
        "step 760: lp 127726.75, accepted "
       ]
      },
      {
       "output_type": "stream",
       "stream": "stdout",
       "text": [
        " arrival_time: 0.275%,  coda_decay: 0.296%,  coda_height: 0.292%,  evdepth: 0.119%,  evloc: 0.735%,  evloc_big: 0.311%,  evmb: 0.917%,  evtime: 0.491%,  indep_peak: 0.001%,  peak_decay: 0.329%,  peak_offset: 0.136%,  swap_association: 0.000%,  , uatemplates:  1 , events:  3\n",
        "step 780: lp 127733.05, accepted "
       ]
      },
      {
       "output_type": "stream",
       "stream": "stdout",
       "text": [
        " arrival_time: 0.274%,  coda_decay: 0.295%,  coda_height: 0.292%,  evdepth: 0.119%,  evloc: 0.735%,  evloc_big: 0.311%,  evmb: 0.917%,  evtime: 0.490%,  indep_peak: 0.001%,  peak_decay: 0.329%,  peak_offset: 0.136%,  swap_association: 0.000%,  , uatemplates:  1 , events:  3\n",
        "step 800: lp 127726.24, accepted "
       ]
      },
      {
       "output_type": "stream",
       "stream": "stdout",
       "text": [
        " arrival_time: 0.274%,  coda_decay: 0.295%,  coda_height: 0.292%,  evdepth: 0.117%,  evloc: 0.727%,  evloc_big: 0.306%,  evmb: 0.915%,  evtime: 0.489%,  indep_peak: 0.001%,  peak_decay: 0.329%,  peak_offset: 0.136%,  swap_association: 0.000%,  , uatemplates:  1 , events:  3\n",
        "step 820: lp 127737.35, accepted "
       ]
      },
      {
       "output_type": "stream",
       "stream": "stdout",
       "text": [
        " arrival_time: 0.273%,  coda_decay: 0.295%,  coda_height: 0.292%,  evdepth: 0.117%,  evloc: 0.727%,  evloc_big: 0.304%,  evmb: 0.914%,  evtime: 0.489%,  indep_peak: 0.001%,  peak_decay: 0.329%,  peak_offset: 0.135%,  swap_association: 0.000%,  , uatemplates:  1 , events:  3\n",
        "step 840: lp 127725.81, accepted "
       ]
      },
      {
       "output_type": "stream",
       "stream": "stdout",
       "text": [
        " arrival_time: 0.272%,  coda_decay: 0.294%,  coda_height: 0.292%,  evdepth: 0.118%,  evloc: 0.724%,  evloc_big: 0.303%,  evmb: 0.915%,  evtime: 0.490%,  indep_peak: 0.001%,  peak_decay: 0.328%,  peak_offset: 0.135%,  swap_association: 0.000%,  , uatemplates:  1 , events:  3\n",
        "step 860: lp 127743.89, accepted "
       ]
      },
      {
       "output_type": "stream",
       "stream": "stdout",
       "text": [
        " arrival_time: 0.272%,  coda_decay: 0.294%,  coda_height: 0.291%,  evdepth: 0.118%,  evloc: 0.722%,  evloc_big: 0.302%,  evmb: 0.916%,  evtime: 0.489%,  indep_peak: 0.001%,  peak_decay: 0.328%,  peak_offset: 0.135%,  swap_association: 0.000%,  , uatemplates:  1 , events:  3\n",
        "step 880: lp 127742.37, accepted "
       ]
      },
      {
       "output_type": "stream",
       "stream": "stdout",
       "text": [
        " arrival_time: 0.271%,  coda_decay: 0.294%,  coda_height: 0.291%,  evdepth: 0.118%,  evloc: 0.723%,  evloc_big: 0.302%,  evmb: 0.914%,  evtime: 0.490%,  indep_peak: 0.001%,  peak_decay: 0.328%,  peak_offset: 0.135%,  swap_association: 0.000%,  , uatemplates:  1 , events:  3\n",
        "step 900: lp 127724.07, accepted "
       ]
      },
      {
       "output_type": "stream",
       "stream": "stdout",
       "text": [
        " arrival_time: 0.271%,  coda_decay: 0.293%,  coda_height: 0.290%,  evdepth: 0.121%,  evloc: 0.724%,  evloc_big: 0.299%,  evmb: 0.914%,  evtime: 0.491%,  indep_peak: 0.001%,  peak_decay: 0.328%,  peak_offset: 0.135%,  swap_association: 0.000%,  , uatemplates:  1 , events:  3\n",
        "step 920: lp 127745.01, accepted "
       ]
      },
      {
       "output_type": "stream",
       "stream": "stdout",
       "text": [
        " arrival_time: 0.270%,  coda_decay: 0.293%,  coda_height: 0.290%,  evdepth: 0.122%,  evloc: 0.724%,  evloc_big: 0.299%,  evmb: 0.915%,  evtime: 0.491%,  indep_peak: 0.001%,  peak_decay: 0.328%,  peak_offset: 0.135%,  swap_association: 0.000%,  , uatemplates:  1 , events:  3\n",
        "step 940: lp 127728.64, accepted "
       ]
      },
      {
       "output_type": "stream",
       "stream": "stdout",
       "text": [
        " arrival_time: 0.270%,  coda_decay: 0.293%,  coda_height: 0.290%,  evdepth: 0.121%,  evloc: 0.722%,  evloc_big: 0.297%,  evmb: 0.915%,  evtime: 0.491%,  indep_peak: 0.001%,  peak_decay: 0.327%,  peak_offset: 0.134%,  swap_association: 0.000%,  , uatemplates:  1 , events:  3\n",
        "step 960: lp 127733.59, accepted "
       ]
      },
      {
       "output_type": "stream",
       "stream": "stdout",
       "text": [
        " arrival_time: 0.270%,  coda_decay: 0.293%,  coda_height: 0.289%,  evdepth: 0.122%,  evloc: 0.720%,  evloc_big: 0.295%,  evmb: 0.915%,  evtime: 0.490%,  indep_peak: 0.001%,  peak_decay: 0.327%,  peak_offset: 0.134%,  swap_association: 0.000%,  , uatemplates:  1 , events:  3\n",
        "step 980: lp 127736.40, accepted "
       ]
      },
      {
       "output_type": "stream",
       "stream": "stdout",
       "text": [
        " arrival_time: 0.269%,  coda_decay: 0.292%,  coda_height: 0.289%,  evdepth: 0.122%,  evloc: 0.719%,  evloc_big: 0.294%,  evmb: 0.915%,  evtime: 0.488%,  indep_peak: 0.001%,  peak_decay: 0.327%,  peak_offset: 0.134%,  swap_association: 0.000%,  , uatemplates:  1 , events:  3\n",
        "saving debug dump to logs/mcmc/00010/step_000999..."
       ]
      },
      {
       "output_type": "stream",
       "stream": "stdout",
       "text": [
        "\n",
        "saved pickled graph\n",
        "step 1000: lp 127777.20, accepted "
       ]
      },
      {
       "output_type": "stream",
       "stream": "stdout",
       "text": [
        " arrival_time: 0.269%,  coda_decay: 0.293%,  coda_height: 0.289%,  evdepth: 0.122%,  evloc: 0.720%,  evloc_big: 0.294%,  evmb: 0.915%,  evtime: 0.490%,  indep_peak: 0.001%,  peak_decay: 0.327%,  peak_offset: 0.134%,  swap_association: 0.000%,  , uatemplates:  1 , events:  3\n",
        "step 1020: lp 127773.43, accepted "
       ]
      },
      {
       "output_type": "stream",
       "stream": "stdout",
       "text": [
        " arrival_time: 0.268%,  coda_decay: 0.292%,  coda_height: 0.289%,  evdepth: 0.122%,  evloc: 0.721%,  evloc_big: 0.293%,  evmb: 0.915%,  evtime: 0.486%,  indep_peak: 0.001%,  peak_decay: 0.327%,  peak_offset: 0.134%,  swap_association: 0.000%,  , uatemplates:  1 , events:  3\n",
        "step 1040: lp 127728.69, accepted "
       ]
      },
      {
       "output_type": "stream",
       "stream": "stdout",
       "text": [
        " arrival_time: 0.268%,  coda_decay: 0.292%,  coda_height: 0.289%,  evdepth: 0.122%,  evloc: 0.722%,  evloc_big: 0.292%,  evmb: 0.915%,  evtime: 0.486%,  indep_peak: 0.001%,  peak_decay: 0.326%,  peak_offset: 0.134%,  swap_association: 0.000%,  , uatemplates:  1 , events:  3\n",
        "step 1060: lp 127748.36, accepted "
       ]
      },
      {
       "output_type": "stream",
       "stream": "stdout",
       "text": [
        " arrival_time: 0.268%,  coda_decay: 0.292%,  coda_height: 0.288%,  evdepth: 0.122%,  evloc: 0.722%,  evloc_big: 0.293%,  evmb: 0.914%,  evtime: 0.486%,  indep_peak: 0.001%,  peak_decay: 0.326%,  peak_offset: 0.134%,  swap_association: 0.000%,  , uatemplates:  1 , events:  3\n",
        "step 1080: lp 127745.10, accepted "
       ]
      },
      {
       "output_type": "stream",
       "stream": "stdout",
       "text": [
        " arrival_time: 0.268%,  coda_decay: 0.292%,  coda_height: 0.288%,  evdepth: 0.122%,  evloc: 0.723%,  evloc_big: 0.296%,  evmb: 0.914%,  evtime: 0.487%,  indep_peak: 0.001%,  peak_decay: 0.326%,  peak_offset: 0.133%,  swap_association: 0.000%,  , uatemplates:  1 , events:  3\n",
        "step 1100: lp 127754.99, accepted "
       ]
      },
      {
       "output_type": "stream",
       "stream": "stdout",
       "text": [
        " arrival_time: 0.268%,  coda_decay: 0.292%,  coda_height: 0.288%,  evdepth: 0.122%,  evloc: 0.724%,  evloc_big: 0.295%,  evmb: 0.914%,  evtime: 0.488%,  indep_peak: 0.001%,  peak_decay: 0.326%,  peak_offset: 0.133%,  swap_association: 0.000%,  , uatemplates:  1 , events:  3\n",
        "step 1120: lp 127741.78, accepted "
       ]
      },
      {
       "output_type": "stream",
       "stream": "stdout",
       "text": [
        " arrival_time: 0.268%,  coda_decay: 0.292%,  coda_height: 0.288%,  evdepth: 0.121%,  evloc: 0.725%,  evloc_big: 0.294%,  evmb: 0.914%,  evtime: 0.488%,  indep_peak: 0.001%,  peak_decay: 0.326%,  peak_offset: 0.133%,  swap_association: 0.000%,  , uatemplates:  1 , events:  3\n",
        "step 1140: lp 127742.73, accepted "
       ]
      },
      {
       "output_type": "stream",
       "stream": "stdout",
       "text": [
        " arrival_time: 0.268%,  coda_decay: 0.291%,  coda_height: 0.288%,  evdepth: 0.122%,  evloc: 0.728%,  evloc_big: 0.295%,  evmb: 0.914%,  evtime: 0.488%,  indep_peak: 0.001%,  peak_decay: 0.326%,  peak_offset: 0.133%,  swap_association: 0.000%,  , uatemplates:  1 , events:  3\n",
        "step 1160: lp 127720.32, accepted "
       ]
      },
      {
       "output_type": "stream",
       "stream": "stdout",
       "text": [
        " arrival_time: 0.268%,  coda_decay: 0.291%,  coda_height: 0.288%,  evdepth: 0.122%,  evloc: 0.730%,  evloc_big: 0.296%,  evmb: 0.914%,  evtime: 0.489%,  indep_peak: 0.001%,  peak_decay: 0.326%,  peak_offset: 0.133%,  swap_association: 0.000%,  , uatemplates:  1 , events:  3\n",
        "step 1180: lp 127728.42, accepted "
       ]
      },
      {
       "output_type": "stream",
       "stream": "stdout",
       "text": [
        " arrival_time: 0.268%,  coda_decay: 0.291%,  coda_height: 0.288%,  evdepth: 0.122%,  evloc: 0.730%,  evloc_big: 0.297%,  evmb: 0.914%,  evtime: 0.491%,  indep_peak: 0.001%,  peak_decay: 0.326%,  peak_offset: 0.133%,  swap_association: 0.000%,  , uatemplates:  1 , events:  3\n",
        "step 1200: lp 127755.77, accepted "
       ]
      },
      {
       "output_type": "stream",
       "stream": "stdout",
       "text": [
        " arrival_time: 0.268%,  coda_decay: 0.291%,  coda_height: 0.287%,  evdepth: 0.121%,  evloc: 0.732%,  evloc_big: 0.296%,  evmb: 0.914%,  evtime: 0.491%,  indep_peak: 0.001%,  peak_decay: 0.326%,  peak_offset: 0.133%,  swap_association: 0.000%,  , uatemplates:  1 , events:  3\n",
        "step 1220: lp 127756.20, accepted "
       ]
      },
      {
       "output_type": "stream",
       "stream": "stdout",
       "text": [
        " arrival_time: 0.267%,  coda_decay: 0.291%,  coda_height: 0.287%,  evdepth: 0.121%,  evloc: 0.733%,  evloc_big: 0.295%,  evmb: 0.914%,  evtime: 0.489%,  indep_peak: 0.001%,  peak_decay: 0.327%,  peak_offset: 0.133%,  swap_association: 0.000%,  , uatemplates:  1 , events:  3\n",
        "step 1240: lp 127741.48, accepted "
       ]
      },
      {
       "output_type": "stream",
       "stream": "stdout",
       "text": [
        " arrival_time: 0.267%,  coda_decay: 0.290%,  coda_height: 0.287%,  evdepth: 0.120%,  evloc: 0.735%,  evloc_big: 0.295%,  evmb: 0.915%,  evtime: 0.487%,  indep_peak: 0.001%,  peak_decay: 0.326%,  peak_offset: 0.133%,  swap_association: 0.000%,  , uatemplates:  1 , events:  3\n",
        "step 1260: lp 127730.22, accepted "
       ]
      },
      {
       "output_type": "stream",
       "stream": "stdout",
       "text": [
        " arrival_time: 0.266%,  coda_decay: 0.290%,  coda_height: 0.286%,  evdepth: 0.120%,  evloc: 0.735%,  evloc_big: 0.297%,  evmb: 0.915%,  evtime: 0.487%,  indep_peak: 0.001%,  peak_decay: 0.326%,  peak_offset: 0.133%,  swap_association: 0.000%,  , uatemplates:  1 , events:  3\n",
        "step 1280: lp 127755.22, accepted "
       ]
      },
      {
       "output_type": "stream",
       "stream": "stdout",
       "text": [
        " arrival_time: 0.266%,  coda_decay: 0.290%,  coda_height: 0.286%,  evdepth: 0.119%,  evloc: 0.737%,  evloc_big: 0.297%,  evmb: 0.915%,  evtime: 0.487%,  indep_peak: 0.001%,  peak_decay: 0.326%,  peak_offset: 0.132%,  swap_association: 0.000%,  , uatemplates:  1 , events:  3\n",
        "step 1300: lp 127761.47, accepted "
       ]
      },
      {
       "output_type": "stream",
       "stream": "stdout",
       "text": [
        " arrival_time: 0.266%,  coda_decay: 0.290%,  coda_height: 0.286%,  evdepth: 0.120%,  evloc: 0.737%,  evloc_big: 0.297%,  evmb: 0.916%,  evtime: 0.486%,  indep_peak: 0.001%,  peak_decay: 0.326%,  peak_offset: 0.132%,  swap_association: 0.000%,  , uatemplates:  1 , events:  3\n",
        "step 1320: lp 127740.76, accepted "
       ]
      },
      {
       "output_type": "stream",
       "stream": "stdout",
       "text": [
        " arrival_time: 0.265%,  coda_decay: 0.290%,  coda_height: 0.285%,  evdepth: 0.121%,  evloc: 0.737%,  evloc_big: 0.298%,  evmb: 0.916%,  evtime: 0.485%,  indep_peak: 0.001%,  peak_decay: 0.326%,  peak_offset: 0.132%,  swap_association: 0.000%,  , uatemplates:  1 , events:  3\n",
        "step 1340: lp 127731.77, accepted "
       ]
      },
      {
       "output_type": "stream",
       "stream": "stdout",
       "text": [
        " arrival_time: 0.265%,  coda_decay: 0.290%,  coda_height: 0.285%,  evdepth: 0.120%,  evloc: 0.738%,  evloc_big: 0.296%,  evmb: 0.916%,  evtime: 0.485%,  indep_peak: 0.001%,  peak_decay: 0.325%,  peak_offset: 0.132%,  swap_association: 0.000%,  , uatemplates:  1 , events:  3\n",
        "step 1360: lp 127741.92, accepted "
       ]
      },
      {
       "output_type": "stream",
       "stream": "stdout",
       "text": [
        " arrival_time: 0.265%,  coda_decay: 0.290%,  coda_height: 0.285%,  evdepth: 0.120%,  evloc: 0.738%,  evloc_big: 0.295%,  evmb: 0.915%,  evtime: 0.484%,  indep_peak: 0.001%,  peak_decay: 0.325%,  peak_offset: 0.132%,  swap_association: 0.000%,  , uatemplates:  1 , events:  3\n",
        "step 1380: lp 127731.50, accepted "
       ]
      },
      {
       "output_type": "stream",
       "stream": "stdout",
       "text": [
        " arrival_time: 0.265%,  coda_decay: 0.290%,  coda_height: 0.285%,  evdepth: 0.119%,  evloc: 0.739%,  evloc_big: 0.296%,  evmb: 0.913%,  evtime: 0.483%,  indep_peak: 0.001%,  peak_decay: 0.325%,  peak_offset: 0.132%,  swap_association: 0.000%,  , uatemplates:  1 , events:  3\n",
        "step 1400: lp 127749.59, accepted "
       ]
      },
      {
       "output_type": "stream",
       "stream": "stdout",
       "text": [
        " arrival_time: 0.265%,  coda_decay: 0.289%,  coda_height: 0.285%,  evdepth: 0.119%,  evloc: 0.740%,  evloc_big: 0.294%,  evmb: 0.914%,  evtime: 0.483%,  indep_peak: 0.001%,  peak_decay: 0.325%,  peak_offset: 0.132%,  swap_association: 0.000%,  , uatemplates:  1 , events:  3\n",
        "step 1420: lp 127743.56, accepted "
       ]
      },
      {
       "output_type": "stream",
       "stream": "stdout",
       "text": [
        " arrival_time: 0.265%,  coda_decay: 0.289%,  coda_height: 0.285%,  evdepth: 0.119%,  evloc: 0.740%,  evloc_big: 0.294%,  evmb: 0.913%,  evtime: 0.482%,  indep_peak: 0.001%,  peak_decay: 0.325%,  peak_offset: 0.132%,  swap_association: 0.000%,  , uatemplates:  1 , events:  3\n",
        "step 1440: lp 127740.76, accepted "
       ]
      },
      {
       "output_type": "stream",
       "stream": "stdout",
       "text": [
        " arrival_time: 0.265%,  coda_decay: 0.289%,  coda_height: 0.285%,  evdepth: 0.119%,  evloc: 0.740%,  evloc_big: 0.294%,  evmb: 0.913%,  evtime: 0.484%,  indep_peak: 0.001%,  peak_decay: 0.325%,  peak_offset: 0.132%,  swap_association: 0.000%,  , uatemplates:  1 , events:  3\n",
        "step 1460: lp 127754.92, accepted "
       ]
      },
      {
       "output_type": "stream",
       "stream": "stdout",
       "text": [
        " arrival_time: 0.265%,  coda_decay: 0.289%,  coda_height: 0.285%,  evdepth: 0.119%,  evloc: 0.742%,  evloc_big: 0.295%,  evmb: 0.913%,  evtime: 0.483%,  indep_peak: 0.001%,  peak_decay: 0.325%,  peak_offset: 0.131%,  swap_association: 0.000%,  , uatemplates:  1 , events:  3\n",
        "step 1480: lp 127746.89, accepted "
       ]
      },
      {
       "output_type": "stream",
       "stream": "stdout",
       "text": [
        " arrival_time: 0.265%,  coda_decay: 0.289%,  coda_height: 0.285%,  evdepth: 0.119%,  evloc: 0.741%,  evloc_big: 0.296%,  evmb: 0.914%,  evtime: 0.481%,  indep_peak: 0.001%,  peak_decay: 0.325%,  peak_offset: 0.131%,  swap_association: 0.000%,  , uatemplates:  1 , events:  3\n",
        "saving debug dump to logs/mcmc/00010/step_001499..."
       ]
      },
      {
       "output_type": "stream",
       "stream": "stdout",
       "text": [
        "\n",
        "saved pickled graph\n",
        "step 1500: lp 127739.36, accepted "
       ]
      },
      {
       "output_type": "stream",
       "stream": "stdout",
       "text": [
        " arrival_time: 0.265%,  coda_decay: 0.289%,  coda_height: 0.285%,  evdepth: 0.119%,  evloc: 0.740%,  evloc_big: 0.294%,  evmb: 0.914%,  evtime: 0.481%,  indep_peak: 0.001%,  peak_decay: 0.325%,  peak_offset: 0.131%,  swap_association: 0.000%,  , uatemplates:  1 , events:  3\n",
        "step 1520: lp 127727.37, accepted "
       ]
      },
      {
       "output_type": "stream",
       "stream": "stdout",
       "text": [
        " arrival_time: 0.265%,  coda_decay: 0.289%,  coda_height: 0.284%,  evdepth: 0.120%,  evloc: 0.738%,  evloc_big: 0.293%,  evmb: 0.914%,  evtime: 0.482%,  indep_peak: 0.001%,  peak_decay: 0.325%,  peak_offset: 0.131%,  swap_association: 0.000%,  , uatemplates:  1 , events:  3\n",
        "step 1540: lp 127755.17, accepted "
       ]
      },
      {
       "output_type": "stream",
       "stream": "stdout",
       "text": [
        " arrival_time: 0.265%,  coda_decay: 0.289%,  coda_height: 0.284%,  evdepth: 0.121%,  evloc: 0.736%,  evloc_big: 0.293%,  evmb: 0.913%,  evtime: 0.482%,  indep_peak: 0.001%,  peak_decay: 0.325%,  peak_offset: 0.131%,  swap_association: 0.000%,  , uatemplates:  1 , events:  3\n",
        "step 1560: lp 127744.15, accepted "
       ]
      },
      {
       "output_type": "stream",
       "stream": "stdout",
       "text": [
        " arrival_time: 0.264%,  coda_decay: 0.289%,  coda_height: 0.284%,  evdepth: 0.121%,  evloc: 0.735%,  evloc_big: 0.292%,  evmb: 0.914%,  evtime: 0.481%,  indep_peak: 0.001%,  peak_decay: 0.325%,  peak_offset: 0.131%,  swap_association: 0.000%,  , uatemplates:  1 , events:  3\n",
        "step 1580: lp 127765.50, accepted "
       ]
      },
      {
       "output_type": "stream",
       "stream": "stdout",
       "text": [
        " arrival_time: 0.264%,  coda_decay: 0.289%,  coda_height: 0.284%,  evdepth: 0.121%,  evloc: 0.736%,  evloc_big: 0.292%,  evmb: 0.913%,  evtime: 0.481%,  indep_peak: 0.001%,  peak_decay: 0.325%,  peak_offset: 0.131%,  swap_association: 0.000%,  , uatemplates:  1 , events:  3\n",
        "step 1600: lp 127748.95, accepted "
       ]
      },
      {
       "output_type": "stream",
       "stream": "stdout",
       "text": [
        " arrival_time: 0.264%,  coda_decay: 0.289%,  coda_height: 0.284%,  evdepth: 0.122%,  evloc: 0.737%,  evloc_big: 0.292%,  evmb: 0.913%,  evtime: 0.481%,  indep_peak: 0.001%,  peak_decay: 0.325%,  peak_offset: 0.131%,  swap_association: 0.000%,  , uatemplates:  1 , events:  3\n",
        "step 1620: lp 127732.92, accepted "
       ]
      },
      {
       "output_type": "stream",
       "stream": "stdout",
       "text": [
        " arrival_time: 0.264%,  coda_decay: 0.289%,  coda_height: 0.284%,  evdepth: 0.122%,  evloc: 0.738%,  evloc_big: 0.293%,  evmb: 0.913%,  evtime: 0.480%,  indep_peak: 0.001%,  peak_decay: 0.325%,  peak_offset: 0.131%,  swap_association: 0.000%,  , uatemplates:  1 , events:  3\n",
        "step 1640: lp 127756.78, accepted "
       ]
      },
      {
       "output_type": "stream",
       "stream": "stdout",
       "text": [
        " arrival_time: 0.264%,  coda_decay: 0.289%,  coda_height: 0.284%,  evdepth: 0.121%,  evloc: 0.738%,  evloc_big: 0.293%,  evmb: 0.913%,  evtime: 0.480%,  indep_peak: 0.001%,  peak_decay: 0.325%,  peak_offset: 0.130%,  swap_association: 0.000%,  , uatemplates:  1 , events:  3\n",
        "step 1660: lp 127756.51, accepted "
       ]
      },
      {
       "output_type": "stream",
       "stream": "stdout",
       "text": [
        " arrival_time: 0.264%,  coda_decay: 0.289%,  coda_height: 0.284%,  evdepth: 0.120%,  evloc: 0.737%,  evloc_big: 0.293%,  evmb: 0.913%,  evtime: 0.480%,  indep_peak: 0.001%,  peak_decay: 0.325%,  peak_offset: 0.130%,  swap_association: 0.000%,  , uatemplates:  1 , events:  3\n",
        "step 1680: lp 127752.10, accepted "
       ]
      },
      {
       "output_type": "stream",
       "stream": "stdout",
       "text": [
        " arrival_time: 0.264%,  coda_decay: 0.289%,  coda_height: 0.284%,  evdepth: 0.120%,  evloc: 0.737%,  evloc_big: 0.293%,  evmb: 0.913%,  evtime: 0.479%,  indep_peak: 0.001%,  peak_decay: 0.325%,  peak_offset: 0.130%,  swap_association: 0.000%,  , uatemplates:  1 , events:  3\n",
        "step 1700: lp 127758.37, accepted "
       ]
      },
      {
       "output_type": "stream",
       "stream": "stdout",
       "text": [
        " arrival_time: 0.264%,  coda_decay: 0.289%,  coda_height: 0.284%,  evdepth: 0.120%,  evloc: 0.738%,  evloc_big: 0.295%,  evmb: 0.914%,  evtime: 0.478%,  indep_peak: 0.001%,  peak_decay: 0.325%,  peak_offset: 0.130%,  swap_association: 0.000%,  , uatemplates:  1 , events:  3\n",
        "step 1720: lp 127736.32, accepted "
       ]
      },
      {
       "output_type": "stream",
       "stream": "stdout",
       "text": [
        " arrival_time: 0.263%,  coda_decay: 0.289%,  coda_height: 0.284%,  evdepth: 0.120%,  evloc: 0.738%,  evloc_big: 0.295%,  evmb: 0.914%,  evtime: 0.478%,  indep_peak: 0.001%,  peak_decay: 0.325%,  peak_offset: 0.130%,  swap_association: 0.000%,  , uatemplates:  1 , events:  3\n",
        "step 1740: lp 127759.98, accepted "
       ]
      },
      {
       "output_type": "stream",
       "stream": "stdout",
       "text": [
        " arrival_time: 0.263%,  coda_decay: 0.288%,  coda_height: 0.284%,  evdepth: 0.120%,  evloc: 0.739%,  evloc_big: 0.296%,  evmb: 0.913%,  evtime: 0.479%,  indep_peak: 0.001%,  peak_decay: 0.325%,  peak_offset: 0.130%,  swap_association: 0.000%,  , uatemplates:  1 , events:  3\n",
        "step 1760: lp 127729.25, accepted "
       ]
      },
      {
       "output_type": "stream",
       "stream": "stdout",
       "text": [
        " arrival_time: 0.263%,  coda_decay: 0.288%,  coda_height: 0.283%,  evdepth: 0.120%,  evloc: 0.740%,  evloc_big: 0.295%,  evmb: 0.913%,  evtime: 0.479%,  indep_peak: 0.001%,  peak_decay: 0.325%,  peak_offset: 0.130%,  swap_association: 0.000%,  , uatemplates:  1 , events:  3\n",
        "step 1780: lp 127721.38, accepted "
       ]
      },
      {
       "output_type": "stream",
       "stream": "stdout",
       "text": [
        " arrival_time: 0.263%,  coda_decay: 0.288%,  coda_height: 0.283%,  evdepth: 0.119%,  evloc: 0.742%,  evloc_big: 0.296%,  evmb: 0.914%,  evtime: 0.479%,  indep_peak: 0.001%,  peak_decay: 0.325%,  peak_offset: 0.130%,  swap_association: 0.000%,  , uatemplates:  1 , events:  3\n",
        "step 1800: lp 127742.46, accepted "
       ]
      },
      {
       "output_type": "stream",
       "stream": "stdout",
       "text": [
        " arrival_time: 0.263%,  coda_decay: 0.288%,  coda_height: 0.283%,  evdepth: 0.120%,  evloc: 0.742%,  evloc_big: 0.298%,  evmb: 0.914%,  evtime: 0.479%,  indep_peak: 0.001%,  peak_decay: 0.325%,  peak_offset: 0.130%,  swap_association: 0.000%,  , uatemplates:  1 , events:  3\n",
        "step 1820: lp 127746.89, accepted "
       ]
      },
      {
       "output_type": "stream",
       "stream": "stdout",
       "text": [
        " arrival_time: 0.263%,  coda_decay: 0.288%,  coda_height: 0.283%,  evdepth: 0.120%,  evloc: 0.743%,  evloc_big: 0.299%,  evmb: 0.915%,  evtime: 0.479%,  indep_peak: 0.001%,  peak_decay: 0.325%,  peak_offset: 0.130%,  swap_association: 0.000%,  , uatemplates:  1 , events:  3\n"
       ]
      },
      {
       "ename": "KeyboardInterrupt",
       "evalue": "",
       "output_type": "pyerr",
       "traceback": [
        "\u001b[1;31m---------------------------------------------------------------------------\u001b[0m\n\u001b[1;31mKeyboardInterrupt\u001b[0m                         Traceback (most recent call last)",
        "\u001b[1;32m<ipython-input-5-7e1a1d5c1d37>\u001b[0m in \u001b[0;36m<module>\u001b[1;34m()\u001b[0m\n\u001b[0;32m      7\u001b[0m                   \u001b[0mlogger\u001b[0m\u001b[1;33m=\u001b[0m\u001b[0mlogger\u001b[0m\u001b[1;33m,\u001b[0m\u001b[1;33m\u001b[0m\u001b[0m\n\u001b[0;32m      8\u001b[0m                   \u001b[0mstart_step\u001b[0m \u001b[1;33m=\u001b[0m \u001b[1;36m0\u001b[0m\u001b[1;33m,\u001b[0m\u001b[1;33m\u001b[0m\u001b[0m\n\u001b[1;32m----> 9\u001b[1;33m                   template_move_type = \"rw\")\n\u001b[0m",
        "\u001b[1;32m/home/dmoore/python/sigvisa/infer/run_mcmc.pyc\u001b[0m in \u001b[0;36mrun_open_world_MH\u001b[1;34m(sg, steps, enable_event_openworld, enable_event_moves, enable_template_openworld, enable_template_moves, template_move_type, logger, disable_moves, start_step, cyclic_template_moves, use_proxy_lp, template_openworld_custom)\u001b[0m\n\u001b[0;32m    259\u001b[0m                          \u001b[0mn_attempted\u001b[0m\u001b[1;33m=\u001b[0m\u001b[0mn_attempted\u001b[0m\u001b[1;33m,\u001b[0m\u001b[1;33m\u001b[0m\u001b[0m\n\u001b[0;32m    260\u001b[0m                          \u001b[0mn_accepted\u001b[0m\u001b[1;33m=\u001b[0m\u001b[0mn_accepted\u001b[0m\u001b[1;33m,\u001b[0m \u001b[0mmove_times\u001b[0m\u001b[1;33m=\u001b[0m\u001b[0mmove_times\u001b[0m\u001b[1;33m,\u001b[0m\u001b[1;33m\u001b[0m\u001b[0m\n\u001b[1;32m--> 261\u001b[1;33m                          sg=sg, ev_node=evnodes[node_name], std=stds[move_name], params=params)\n\u001b[0m\u001b[0;32m    262\u001b[0m \u001b[1;33m\u001b[0m\u001b[0m\n\u001b[0;32m    263\u001b[0m             \u001b[1;32mfor\u001b[0m \u001b[1;33m(\u001b[0m\u001b[0mmove_name\u001b[0m\u001b[1;33m,\u001b[0m \u001b[0mfn\u001b[0m\u001b[1;33m)\u001b[0m \u001b[1;32min\u001b[0m \u001b[0mevent_moves_special\u001b[0m\u001b[1;33m.\u001b[0m\u001b[0mitems\u001b[0m\u001b[1;33m(\u001b[0m\u001b[1;33m)\u001b[0m\u001b[1;33m:\u001b[0m\u001b[1;33m\u001b[0m\u001b[0m\n",
        "\u001b[1;32m/home/dmoore/python/sigvisa/infer/run_mcmc.pyc\u001b[0m in \u001b[0;36mrun_move\u001b[1;34m(move_name, fn, step, n_accepted, n_attempted, move_times, move_prob, cyclic, **kwargs)\u001b[0m\n\u001b[0;32m    117\u001b[0m \u001b[1;33m\u001b[0m\u001b[0m\n\u001b[0;32m    118\u001b[0m     \u001b[0mt0\u001b[0m  \u001b[1;33m=\u001b[0m \u001b[0mtime\u001b[0m\u001b[1;33m.\u001b[0m\u001b[0mtime\u001b[0m\u001b[1;33m(\u001b[0m\u001b[1;33m)\u001b[0m\u001b[1;33m\u001b[0m\u001b[0m\n\u001b[1;32m--> 119\u001b[1;33m     \u001b[0maccepted\u001b[0m \u001b[1;33m=\u001b[0m \u001b[0mfn\u001b[0m\u001b[1;33m(\u001b[0m\u001b[1;33m**\u001b[0m\u001b[0mkwargs\u001b[0m\u001b[1;33m)\u001b[0m\u001b[1;33m\u001b[0m\u001b[0m\n\u001b[0m\u001b[0;32m    120\u001b[0m     \u001b[0mt1\u001b[0m \u001b[1;33m=\u001b[0m \u001b[0mtime\u001b[0m\u001b[1;33m.\u001b[0m\u001b[0mtime\u001b[0m\u001b[1;33m(\u001b[0m\u001b[1;33m)\u001b[0m\u001b[1;33m\u001b[0m\u001b[0m\n\u001b[0;32m    121\u001b[0m \u001b[1;33m\u001b[0m\u001b[0m\n",
        "\u001b[1;32m/home/dmoore/python/sigvisa/infer/event_mcmc.py\u001b[0m in \u001b[0;36mev_move_full\u001b[1;34m(sg, ev_node, std, params, adaptive_block)\u001b[0m\n\u001b[0;32m    402\u001b[0m     \u001b[1;32mfor\u001b[0m \u001b[0msite\u001b[0m\u001b[1;33m,\u001b[0m \u001b[0mstas\u001b[0m \u001b[1;32min\u001b[0m \u001b[0msg\u001b[0m\u001b[1;33m.\u001b[0m\u001b[0msite_elements\u001b[0m\u001b[1;33m.\u001b[0m\u001b[0mitems\u001b[0m\u001b[1;33m(\u001b[0m\u001b[1;33m)\u001b[0m\u001b[1;33m:\u001b[0m\u001b[1;33m\u001b[0m\u001b[0m\n\u001b[0;32m    403\u001b[0m         \u001b[1;31m# TODO: can we get arriving phases for a site instead of sta?\u001b[0m\u001b[1;33m\u001b[0m\u001b[1;33m\u001b[0m\u001b[0m\n\u001b[1;32m--> 404\u001b[1;33m         \u001b[0mold_site_phases\u001b[0m\u001b[1;33m[\u001b[0m\u001b[0msite\u001b[0m\u001b[1;33m]\u001b[0m \u001b[1;33m=\u001b[0m \u001b[0mset\u001b[0m\u001b[1;33m(\u001b[0m\u001b[0msg\u001b[0m\u001b[1;33m.\u001b[0m\u001b[0mev_arriving_phases\u001b[0m\u001b[1;33m(\u001b[0m\u001b[0meid\u001b[0m\u001b[1;33m,\u001b[0m \u001b[0msite\u001b[0m\u001b[1;33m=\u001b[0m\u001b[0msite\u001b[0m\u001b[1;33m)\u001b[0m\u001b[1;33m)\u001b[0m\u001b[1;33m\u001b[0m\u001b[0m\n\u001b[0m\u001b[0;32m    405\u001b[0m \u001b[1;33m\u001b[0m\u001b[0m\n\u001b[0;32m    406\u001b[0m     \u001b[1;31m#lp_old = sg.joint_logprob(node_list=node_list, relevant_nodes=relevant_nodes, values=None)\u001b[0m\u001b[1;33m\u001b[0m\u001b[1;33m\u001b[0m\u001b[0m\n",
        "\u001b[1;32m/home/dmoore/python/sigvisa/graph/sigvisa_graph.pyc\u001b[0m in \u001b[0;36mev_arriving_phases\u001b[1;34m(self, eid, sta, site)\u001b[0m\n\u001b[0;32m    197\u001b[0m             \u001b[0msta\u001b[0m \u001b[1;33m=\u001b[0m \u001b[0mnext\u001b[0m\u001b[1;33m(\u001b[0m\u001b[0miter\u001b[0m\u001b[1;33m(\u001b[0m\u001b[0mself\u001b[0m\u001b[1;33m.\u001b[0m\u001b[0msite_elements\u001b[0m\u001b[1;33m[\u001b[0m\u001b[0msite\u001b[0m\u001b[1;33m]\u001b[0m\u001b[1;33m)\u001b[0m\u001b[1;33m)\u001b[0m\u001b[1;33m\u001b[0m\u001b[0m\n\u001b[0;32m    198\u001b[0m         \u001b[0msta_keys\u001b[0m \u001b[1;33m=\u001b[0m \u001b[1;33m[\u001b[0m\u001b[0mn\u001b[0m\u001b[1;33m.\u001b[0m\u001b[0mlabel\u001b[0m \u001b[1;32mfor\u001b[0m \u001b[0mn\u001b[0m \u001b[1;32min\u001b[0m \u001b[0mself\u001b[0m\u001b[1;33m.\u001b[0m\u001b[0mextended_evnodes\u001b[0m\u001b[1;33m[\u001b[0m\u001b[0meid\u001b[0m\u001b[1;33m]\u001b[0m \u001b[1;32mif\u001b[0m \u001b[0msta\u001b[0m \u001b[1;32min\u001b[0m \u001b[0mn\u001b[0m\u001b[1;33m.\u001b[0m\u001b[0mlabel\u001b[0m\u001b[1;33m]\u001b[0m\u001b[1;33m\u001b[0m\u001b[0m\n\u001b[1;32m--> 199\u001b[1;33m         \u001b[0mphases\u001b[0m \u001b[1;33m=\u001b[0m \u001b[0mset\u001b[0m\u001b[1;33m(\u001b[0m\u001b[1;33m[\u001b[0m\u001b[0mparse_key\u001b[0m\u001b[1;33m(\u001b[0m\u001b[0mk\u001b[0m\u001b[1;33m)\u001b[0m\u001b[1;33m[\u001b[0m\u001b[1;36m1\u001b[0m\u001b[1;33m]\u001b[0m \u001b[1;32mfor\u001b[0m \u001b[0mk\u001b[0m \u001b[1;32min\u001b[0m \u001b[0msta_keys\u001b[0m\u001b[1;33m]\u001b[0m\u001b[1;33m)\u001b[0m\u001b[1;33m\u001b[0m\u001b[0m\n\u001b[0m\u001b[0;32m    200\u001b[0m         \u001b[1;32mreturn\u001b[0m \u001b[0mlist\u001b[0m\u001b[1;33m(\u001b[0m\u001b[0mphases\u001b[0m\u001b[1;33m)\u001b[0m\u001b[1;33m\u001b[0m\u001b[0m\n\u001b[0;32m    201\u001b[0m \u001b[1;33m\u001b[0m\u001b[0m\n",
        "\u001b[1;32m/home/dmoore/python/sigvisa/graph/graph_utils.pyc\u001b[0m in \u001b[0;36mparse_key\u001b[1;34m(k, r)\u001b[0m\n\u001b[0;32m     67\u001b[0m     \u001b[1;32mif\u001b[0m \u001b[0mr\u001b[0m \u001b[1;32mis\u001b[0m \u001b[0mNone\u001b[0m\u001b[1;33m:\u001b[0m\u001b[1;33m\u001b[0m\u001b[0m\n\u001b[0;32m     68\u001b[0m         \u001b[0mr\u001b[0m \u001b[1;33m=\u001b[0m \u001b[0mdefault_r\u001b[0m\u001b[1;33m\u001b[0m\u001b[0m\n\u001b[1;32m---> 69\u001b[1;33m     \u001b[0mm\u001b[0m \u001b[1;33m=\u001b[0m \u001b[0mr\u001b[0m\u001b[1;33m.\u001b[0m\u001b[0mmatch\u001b[0m\u001b[1;33m(\u001b[0m\u001b[0mk\u001b[0m\u001b[1;33m)\u001b[0m\u001b[1;33m\u001b[0m\u001b[0m\n\u001b[0m\u001b[0;32m     70\u001b[0m     \u001b[1;32mif\u001b[0m \u001b[1;32mnot\u001b[0m \u001b[0mm\u001b[0m\u001b[1;33m:\u001b[0m \u001b[1;32mraise\u001b[0m \u001b[0mValueError\u001b[0m\u001b[1;33m(\u001b[0m\u001b[1;34m\"could not parse parent key %s\"\u001b[0m \u001b[1;33m%\u001b[0m \u001b[0mk\u001b[0m\u001b[1;33m)\u001b[0m\u001b[1;33m\u001b[0m\u001b[0m\n\u001b[0;32m     71\u001b[0m     \u001b[0meid\u001b[0m \u001b[1;33m=\u001b[0m \u001b[0mint\u001b[0m\u001b[1;33m(\u001b[0m\u001b[0mm\u001b[0m\u001b[1;33m.\u001b[0m\u001b[0mgroup\u001b[0m\u001b[1;33m(\u001b[0m\u001b[1;36m1\u001b[0m\u001b[1;33m)\u001b[0m\u001b[1;33m)\u001b[0m\u001b[1;33m\u001b[0m\u001b[0m\n",
        "\u001b[1;31mKeyboardInterrupt\u001b[0m: "
       ]
      }
     ],
     "prompt_number": 5
    },
    {
     "cell_type": "code",
     "collapsed": false,
     "input": [],
     "language": "python",
     "metadata": {},
     "outputs": []
    }
   ],
   "metadata": {}
  }
 ]
}