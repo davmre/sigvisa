{
 "cells": [
  {
   "cell_type": "code",
   "execution_count": 1,
   "metadata": {
    "collapsed": false
   },
   "outputs": [
    {
     "name": "stdout",
     "output_type": "stream",
     "text": [
      "Populating the interactive namespace from numpy and matplotlib\n"
     ]
    }
   ],
   "source": [
    "%pylab inline\n",
    "import scipy.stats\n",
    "\n",
    "from sigvisa.infer.correlations.proposal_signal_likelihood import likelihood_windowed, arbaseline, iidbaseline, preprocess_historical\n",
    "from sigvisa.infer.correlations.weighted_event_posterior import build_ttr_model_array, atime_likelihood_to_origin_likelihood, wn_origin_posterior, ev_time_posterior_with_weight\n",
    "#import seaborn as sns\n",
    "from sigvisa.infer.coarse_to_fine_init import ModelSpec, EventRunSpec, do_coarse_to_fine, initialize_from, do_inference\n",
    "from sigvisa.models.noise.noise_util import get_noise_model\n",
    "from sigvisa.database.dataset import DET_TIME_COL"
   ]
  },
  {
   "cell_type": "code",
   "execution_count": 147,
   "metadata": {
    "collapsed": false
   },
   "outputs": [
    {
     "name": "stdout",
     "output_type": "stream",
     "text": [
      "1240241574.19 1240241704.19\n",
      "1240241947.78 1240242077.78\n",
      "1240241740.22 1240241870.22\n",
      "1240241508.35 1240241638.35\n"
     ]
    }
   ],
   "source": [
    "#from sigvisa.experiments.aftershock_region import evids, stas\n",
    "import cPickle as pickle\n",
    "\n",
    "stas = ['ASAR', 'MKAR', 'CMAR', 'FITZ']\n",
    "\n",
    "doublet = 5335822# 5334939\n",
    "\n",
    "#evids = [5334501, 5334726, 5335822, 5349536, \n",
    "#         5336237, 5335424, 5349441, \n",
    "#         5336889, 5336015]\n",
    "evids = [doublet,]\n",
    "\n",
    "rs = EventRunSpec(evids=evids, stas=stas, runids=(1,), disable_conflict_checking=True)\n",
    "ms = ModelSpec(template_model_type=\"param\", wiggle_family=\"iid\", \n",
    "               max_hz=10.0, inference_preset=\"openworld\", raw_signals=True)\n",
    "sg = rs.build_sg(ms)\n",
    "\n",
    "with open(\"corr.sg\", 'wb') as f:\n",
    "    pickle.dump(sg, f)\n",
    "    \n",
    "#with open(\"corr.sg\", 'rb') as f:\n",
    "#    sg = pickle.load(f)"
   ]
  },
  {
   "cell_type": "code",
   "execution_count": 148,
   "metadata": {
    "collapsed": false
   },
   "outputs": [
    {
     "name": "stdout",
     "output_type": "stream",
     "text": [
      "1240288288.17 1240288498.17\n",
      "1240287846.46 1240288056.46\n",
      "1240287915.75 1240288125.75\n",
      "no arrivals found for evid 5336015 at station CM16\n"
     ]
    }
   ],
   "source": [
    "from sigvisa.source.event import get_event\n",
    "evid = 5336015\n",
    "\n",
    "def extract_template(wave, atime, len_s):\n",
    "    nm, nmid, _ = get_noise_model(waveform=wave, model_type=\"ar\", order=0, return_details=True)\n",
    "    sigma2_A = nm.em.std**2\n",
    "    aidx = int((atime - wave['stime'])*wave['srate'])\n",
    "    n = int(len_s * wave['srate'])\n",
    "    A = wave.data[aidx:aidx+n]\n",
    "    return A, sigma2_A\n",
    "\n",
    "from sigvisa.signals.io import load_event_station_chan\n",
    "def extract_template_from_leb(sta, evid, chan=\"auto\", band=\"freq_2.0_4.5\"):\n",
    "    w =  load_event_station_chan(evid, sta, chan, evtype=\"leb\")\n",
    "    w = w.filter(\"%s;hz_10\" % band)\n",
    "    atime =  w['event_arrivals'][0,DET_TIME_COL]\n",
    "    A, sigma2_A = extract_template(w, atime, 10)\n",
    "    return A, sigma2_A\n",
    "\n",
    "templates = []\n",
    "tau = 0.95\n",
    "\n",
    "history = dict()\n",
    "n=100\n",
    "for sta in sg.station_waves.keys():\n",
    "    try:\n",
    "        A, sigma2_A = extract_template_from_leb(sta, evid)\n",
    "        n = len(A)\n",
    "        alpha_hat = np.sqrt(np.dot(A, A)/n - sigma2_A)\n",
    "\n",
    "        c = tau*alpha_hat/(alpha_hat**2+sigma2_A) * A\n",
    "        kappa = 1 - alpha_hat**2 * tau**2 / (alpha_hat**2 + sigma2_A)\n",
    "    except Exception as e:\n",
    "        print e\n",
    "        c = np.zeros((n,))\n",
    "        kappa = 1\n",
    "    history[sta] = (c, kappa)\n"
   ]
  },
  {
   "cell_type": "code",
   "execution_count": 149,
   "metadata": {
    "collapsed": false
   },
   "outputs": [],
   "source": [
    "evtgt = get_event(doublet)\n",
    "\n",
    "wn = sg.station_waves[\"MK31\"][0]\n",
    "sdata = wn.get_value()\n",
    "sigma2_B = np.std(sdata)**2\n",
    "baseline, unobs_lp = iidbaseline(sdata, len(c))\n",
    "lls2 = likelihood_windowed(sdata, c, kappa, sigma2_B) + baseline\n"
   ]
  },
  {
   "cell_type": "code",
   "execution_count": null,
   "metadata": {
    "collapsed": false
   },
   "outputs": [],
   "source": []
  },
  {
   "cell_type": "code",
   "execution_count": 156,
   "metadata": {
    "collapsed": false
   },
   "outputs": [],
   "source": [
    "ev = get_event(evid)\n",
    "\n",
    "global_ll = ev_time_posterior_with_weight(sg, ev, history, global_stime=evtgt.time-300, N=600, global_srate=1.0)\n",
    "\n"
   ]
  },
  {
   "cell_type": "code",
   "execution_count": 157,
   "metadata": {
    "collapsed": false
   },
   "outputs": [
    {
     "name": "stdout",
     "output_type": "stream",
     "text": [
      "-11169.6284114\n"
     ]
    },
    {
     "data": {
      "image/png": "[encoded data removed]",
      "text/plain": [
       "<matplotlib.figure.Figure at 0x7f123e3ded90>"
      ]
     },
     "metadata": {},
     "output_type": "display_data"
    }
   ],
   "source": [
    "C = np.max(global_ll)\n",
    "posterior = np.exp(global_ll-C)\n",
    "Z = np.sum(posterior)\n",
    "posterior /= Z\n",
    "logZ = np.log(Z) + C\n",
    "plot(posterior)\n",
    "print logZ"
   ]
  },
  {
   "cell_type": "code",
   "execution_count": null,
   "metadata": {
    "collapsed": false
   },
   "outputs": [],
   "source": []
  }
 ],
 "metadata": {
  "kernelspec": {
   "display_name": "Python 2",
   "language": "python",
   "name": "python2"
  },
  "language_info": {
   "codemirror_mode": {
    "name": "ipython",
    "version": 2
   },
   "file_extension": ".py",
   "mimetype": "text/x-python",
   "name": "python",
   "nbconvert_exporter": "python",
   "pygments_lexer": "ipython2",
   "version": "2.7.6"
  }
 },
 "nbformat": 4,
 "nbformat_minor": 0
}
