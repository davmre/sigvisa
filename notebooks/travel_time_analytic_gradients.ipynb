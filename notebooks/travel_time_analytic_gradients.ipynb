{
 "metadata": {
  "name": "",
  "signature": "sha256:88fd20b31c5bbc82042ef1e57de0c9b9a44f78423c52686a02251967425dbd63"
 },
 "nbformat": 3,
 "nbformat_minor": 0,
 "worksheets": [
  {
   "cells": [
    {
     "cell_type": "code",
     "collapsed": false,
     "input": [
      "import numpy as np\n",
      "import sys\n",
      "import os\n",
      "\n",
      "\n",
      "\n",
      "import traceback\n",
      "\n",
      "\n",
      "\n",
      "\n",
      "\n",
      "\n",
      "import pickle\n",
      "import copy\n",
      "\n",
      "from sigvisa import Sigvisa\n",
      "\n",
      "from sigvisa.graph.sigvisa_graph import SigvisaGraph\n",
      "\n",
      "\n",
      "\n",
      "\n",
      "from sigvisa.infer.run_mcmc import run_open_world_MH\n",
      "from sigvisa.infer.mcmc_logger import MCMCLogger\n",
      "\n",
      "from sigvisa.infer.template_mcmc import *\n",
      "from sigvisa.infer.event_mcmc import *\n",
      "\n",
      "from sigvisa.plotting.plot import plot_with_fit, plot_with_fit_shapes, plot_pred_atimes\n",
      "from sigvisa.signals.common import Waveform\n",
      "from sigvisa.utils.fileutils import clear_directory, mkdir_p\n",
      "\n",
      "from sigvisa.experiments.one_station_templates_test import sample_template\n",
      "\n",
      "from sigvisa.experiments.event_localization import setup_graph\n",
      "\n",
      "from sigvisa.graph.graph_utils import get_parent_value\n"
     ],
     "language": "python",
     "metadata": {},
     "outputs": [],
     "prompt_number": 1
    },
    {
     "cell_type": "code",
     "collapsed": false,
     "input": [
      "tmtype = {'tt_residual': 'constant_laplacian',\n",
      "          'peak_offset': 'param_linear_mb',\n",
      "          'amp_transfer': 'param_sin1',\n",
      "          'coda_decay': 'param_linear_distmb',\n",
      "          'peak_decay': 'param_linear_distmb',}\n",
      "sites = \"PDAR,MJAR,ASAR,HFS,JHJ,USRK,AAK,TXAR,QSPA,MKAR,FINES,STKA,VNDA,PETK,KBZ,CMAR,JKA,YKA,BVAR,WRA,FITZ,ILAR,JNU,SNAA,NOA,NWAO\".split(',')\n",
      "\n",
      "sg, evs, wave_dir = setup_graph(0, 0.0, tmtype, 26, ['P',], True, 10000, 1e-100, False, 1, 4.0, 4.1, wiggles=False, sites=sites, tmshape=\"lin_\\\n",
      "polyexp\", nm_type=\"ar\")\n",
      "\n",
      "import cPickle as pickle\n",
      "with open(os.path.join(wave_dir, 'events.pkl'), 'rb') as f:\n",
      "    true_evs = pickle.load(f)\n",
      "print true_evs[0]\n",
      "\n",
      "np.random.seed(4)\n",
      "sg.evnodes[1]['loc'].set_value(true_evs[0].lon + np.random.randn()*2, key='1;lon')\n",
      "sg.evnodes[1]['loc'].set_value(true_evs[0].lat + np.random.randn()*2, key='1;lat')\n",
      "sg.evnodes[1]['depth'].set_value(true_evs[0].depth + np.random.randn()*50, key='1;depth')\n",
      "\n",
      "sg.evnodes[1]['time'].set_value(true_evs[0].time + np.random.randn()*50)\n",
      "\n",
      "\n",
      "print sg.get_event(1)"
     ],
     "language": "python",
     "metadata": {},
     "outputs": [
      {
       "output_type": "stream",
       "stream": "stdout",
       "text": [
        "loaded 19 of 22 stations\n",
        "adding phase P at site STKA\n",
        "adding phase P at site YKA\n",
        "adding phase P at site BVAR\n",
        "adding phase P at site JNU\n",
        "adding phase P at site WRA\n",
        "adding phase P at site NWAO\n",
        "adding phase P at site JHJ\n",
        "adding phase P at site FITZ\n",
        "adding phase P at site NOA\n",
        "adding phase P at site PETK\n",
        "adding phase P at site USRK\n",
        "adding phase P at site KBZ\n",
        "adding phase P at site CMAR\n",
        "adding phase P at site AAK\n",
        "adding phase P at site MKAR\n",
        "adding phase P at site ILAR\n",
        "adding phase P at site JKA\n",
        "adding phase P at site FINES\n",
        "adding phase P at site ASAR\n",
        "evid None, loc 145.39 E 21.37 N, depth 638.2km, time 1238890148.8, mb 4.1, natural source\n",
        "evid None, loc 145.50 E 22.37 N, depth 588.4km, time 1238890183.5, mb 4.1, natural source"
       ]
      },
      {
       "output_type": "stream",
       "stream": "stdout",
       "text": [
        "\n"
       ]
      }
     ],
     "prompt_number": 10
    },
    {
     "cell_type": "code",
     "collapsed": false,
     "input": [
      "s = Sigvisa()\n",
      "ev = sg.get_event(1)"
     ],
     "language": "python",
     "metadata": {},
     "outputs": [],
     "prompt_number": 11
    },
    {
     "cell_type": "code",
     "collapsed": false,
     "input": [
      "\n",
      "ftt = lambda (lon, lat, depth) : s.sigmodel.mean_travel_time(lon, lat, depth, ev.time, \"STKA\", 0)\n",
      "\n",
      "ftt1 = lambda (lon, lat, depth) : s.sigmodel.mean_travel_time_grad(lon, lat, depth, ev.time, \"STKA\", 0)[0]\n",
      "\n",
      "\n",
      "x0 = np.array((ev.lon, ev.lat, ev.depth))\n",
      "print ftt(x0)\n",
      "\n",
      "print x0\n",
      "\n",
      "import numdifftools as nd\n",
      "print nd.Gradient(ftt).gradient(x0)"
     ],
     "language": "python",
     "metadata": {},
     "outputs": [
      {
       "output_type": "stream",
       "stream": "stdout",
       "text": [
        "512.95637046\n",
        "[ 145.49550634   22.37223309  588.35770373]\n",
        "[  0.70461841  10.56363162  -0.10976794]\n"
       ]
      }
     ],
     "prompt_number": 12
    },
    {
     "cell_type": "code",
     "collapsed": false,
     "input": [
      "print s.sigmodel.mean_travel_time_grad(ev.lon, ev.lat, ev.depth, ev.time, \"STKA\", 0)"
     ],
     "language": "python",
     "metadata": {},
     "outputs": [
      {
       "output_type": "stream",
       "stream": "stdout",
       "text": [
        "(512.9563704600292, 0.7046184078480969, 10.56363162343119, -0.10976794356157893)\n"
       ]
      }
     ],
     "prompt_number": 13
    },
    {
     "cell_type": "code",
     "collapsed": false,
     "input": [
      "0.466150 * 2"
     ],
     "language": "python",
     "metadata": {},
     "outputs": [
      {
       "metadata": {},
       "output_type": "pyout",
       "prompt_number": 5,
       "text": [
        "0.9323"
       ]
      }
     ],
     "prompt_number": 5
    },
    {
     "cell_type": "code",
     "collapsed": false,
     "input": [],
     "language": "python",
     "metadata": {},
     "outputs": []
    }
   ],
   "metadata": {}
  }
 ]
}