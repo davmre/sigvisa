{
 "cells": [
  {
   "cell_type": "code",
   "execution_count": 21,
   "metadata": {
    "collapsed": true
   },
   "outputs": [],
   "source": [
    "from sigvisa import Sigvisa\n",
    "from sigvisa.infer.propose_lstsqr import ev_lstsqr_dist\n",
    "from sigvisa.infer.event_swap import repropose_lsqr_new\n",
    "from sigvisa.infer.event_mcmc import propose_event_lsqr, ev_lsqr_move\n",
    "\n",
    "import numpy as np\n",
    "import matplotlib.pylab as plt\n",
    "%matplotlib inline\n",
    "\n",
    "import cPickle as pickle"
   ]
  },
  {
   "cell_type": "code",
   "execution_count": 22,
   "metadata": {
    "collapsed": true
   },
   "outputs": [],
   "source": [
    "with open(\"/home/dmoore/python/sigvisa/logs/mcmc/81770c1f-4fe0-4eea-82bb-08861ff8dbde/step_000361/pickle.sg\", 'rb') as f:\n",
    "    sg = pickle.load(f)"
   ]
  },
  {
   "cell_type": "code",
   "execution_count": 23,
   "metadata": {
    "collapsed": false
   },
   "outputs": [
    {
     "name": "stdout",
     "output_type": "stream",
     "text": [
      "n_uatemplate: -566.2\n",
      "n_event: -11.4\n",
      "ev priors: ev -8.8\n",
      "ev observations: ev 0.0\n",
      "phase existence: ev -699.7\n",
      "tt_residual: ev -109.9\n",
      "ev global cost (n + priors + phases + tt): -829.8\n",
      "coda_decay: ev -49.9 ua -95.3 total -145.1\n",
      "peak_decay: ev -52.0 ua -92.5 total -144.4\n",
      "peak_offset: ev -34.4 ua -101.8 total -136.2\n",
      "coda_height: ev -42.0 ua -156.1 total -198.1\n",
      "mult_std_wiggle: ev 4.7 ua 18.8 total 23.5\n",
      "coef jointgp: 0.0\n",
      "total param: ev -173.4 ua -426.9 total -600.3\n",
      "priors+params: ev -1003.2 ua -993.1 total -1996.3\n",
      "station noise (observed signals): -282458.2\n",
      "noise model prior lp: -102.6\n",
      "overall: -284557.1\n",
      "official: -284557.1\n",
      "\n"
     ]
    },
    {
     "data": {
      "text/plain": [
       "'n_uatemplate: -566.2\\nn_event: -11.4\\nev priors: ev -8.8\\nev observations: ev 0.0\\nphase existence: ev -699.7\\ntt_residual: ev -109.9\\nev global cost (n + priors + phases + tt): -829.8\\ncoda_decay: ev -49.9 ua -95.3 total -145.1\\npeak_decay: ev -52.0 ua -92.5 total -144.4\\npeak_offset: ev -34.4 ua -101.8 total -136.2\\ncoda_height: ev -42.0 ua -156.1 total -198.1\\nmult_std_wiggle: ev 4.7 ua 18.8 total 23.5\\ncoef jointgp: 0.0\\ntotal param: ev -173.4 ua -426.9 total -600.3\\npriors+params: ev -1003.2 ua -993.1 total -1996.3\\nstation noise (observed signals): -282458.2\\nnoise model prior lp: -102.6\\noverall: -284557.1\\nofficial: -284557.1\\n'"
      ]
     },
     "execution_count": 23,
     "metadata": {},
     "output_type": "execute_result"
    }
   ],
   "source": [
    "sg.current_log_p_breakdown()"
   ]
  },
  {
   "cell_type": "code",
   "execution_count": 24,
   "metadata": {
    "collapsed": false
   },
   "outputs": [
    {
     "name": "stdout",
     "output_type": "stream",
     "text": [
      "True\n"
     ]
    }
   ],
   "source": [
    "#lp_old_quick, lp_new_quick, log_qforward, log_qbackward, replicate_forward, phasejump_reverse_record = ev_lsqr_move(sg, eid=22, return_debug=True, \n",
    "#                                                                                                                    forward_type=\"smart\",\n",
    "#                                                                                                                    reverse_type=\"dumb\")\n",
    "\n",
    "\n",
    "accepted = ev_lsqr_move(sg, eid=22, return_debug=False, forward_type=\"smart\", reverse_type=\"dumb\")\n",
    "print accepted"
   ]
  },
  {
   "cell_type": "code",
   "execution_count": 14,
   "metadata": {
    "collapsed": false
   },
   "outputs": [
    {
     "name": "stdout",
     "output_type": "stream",
     "text": [
      "-198872.450761 -198411.527739\n",
      "-42.3200175107 -63.8427756398\n"
     ]
    }
   ],
   "source": [
    "print lp_old_quick, lp_new_quick\n",
    "print log_qforward, log_qbackward"
   ]
  },
  {
   "cell_type": "code",
   "execution_count": 17,
   "metadata": {
    "collapsed": false
   },
   "outputs": [
    {
     "name": "stdout",
     "output_type": "stream",
     "text": [
      "{'wave_PD31_BHZ_freq_0.8_4.5_1239040000.0': {'birth': {'Lg': {'mult_wiggle_std': 0.70572484025660875, 'amp_transfer': 2.8300970913333083, 'coda_decay': -3.2669389624212073, 'peak_offset': -0.19416999810650304, 'coda_height': 1.0269767134905148, 'arrival_time': 1239043055.332936, 'tt_residual': 1.0159714533175475, 'peak_decay': -2.8536437662158796}, 'assoc_tmids': (None,)}, 'decoupled': False}, 'wave_NEW_BHZ_freq_0.8_4.5_1239040000.0': {'decoupled': False}, 'wave_ULM_BHZ_freq_0.8_4.5_1239040000.0': {'decoupled': True}, 'wave_NV01_SHZ_freq_0.8_4.5_1239040000.0': {'birth': {'assoc_tmids': (37, None), 'Pg': {'mult_wiggle_std': 0.92344110368575383, 'amp_transfer': 3.7657496636334806, 'coda_decay': -3.3430030272871276, 'peak_offset': -0.45341600764367246, 'coda_height': 1.1685219645501581, 'arrival_time': 1239042930.8590152, 'tt_residual': 1.3287971488541359, 'peak_decay': -2.2004710002607673}}, 'decoupled': False}, 'wave_ANMO_BHZ_freq_0.8_4.5_1239040000.0': {'birth': {'Lg': {'mult_wiggle_std': 0.57035234866233275, 'amp_transfer': 1.6667976789475865, 'coda_decay': -3.4279314179706875, 'peak_offset': -0.14626854231932046, 'coda_height': -0.1363226988952071, 'arrival_time': 1239042940.6506081, 'tt_residual': -12.541595055847893, 'peak_decay': -3.3136726443385163}, 'assoc_tmids': (None, None), 'Pg': {'mult_wiggle_std': 0.9389931654926793, 'amp_transfer': 3.8225930439473697, 'coda_decay': -2.3932046556750266, 'peak_offset': 0.69278462426567722, 'coda_height': 1.2253653448640471, 'arrival_time': 1239042894.1888063, 'tt_residual': -3.6140170207746962, 'peak_decay': -3.9429287104284003}}, 'decoupled': False}, 'wave_ELK_BHZ_freq_0.8_4.5_1239040000.0': {'birth': {'assoc_tmids': (38, 51)}, 'decoupled': False}, 'wave_YBH_BHZ_freq_0.8_4.5_1239040000.0': {'birth': {'assoc_tmids': (63,)}, 'decoupled': False}, 'wave_PFO_BHZ_freq_0.8_4.5_1239040000.0': {'birth': {'Lg': {'mult_wiggle_std': 0.79339364600617401, 'amp_transfer': 5.9832942797729611, 'coda_decay': -2.8926369732580435, 'peak_offset': -0.092563519082308032, 'coda_height': 4.1801739019301678, 'arrival_time': 1239042961.162919, 'tt_residual': -2.1267305870447615, 'peak_decay': -3.2224529287307444}, 'assoc_tmids': (None, None), 'Pg': {'mult_wiggle_std': 0.84188016832431212, 'amp_transfer': 4.0771181732628055, 'coda_decay': -3.4443240344898465, 'peak_offset': 0.84609923471889836, 'coda_height': 1.4798904741794829, 'arrival_time': 1239042894.5484397, 'tt_residual': -6.1122696741516336, 'peak_decay': -2.7475043872343861}}, 'decoupled': False}, 'wave_KDAK_BHZ_freq_0.8_4.5_1239040000.0': {'decoupled': False}, 'wave_YKR8_SHZ_freq_0.8_4.5_1239040000.0': {'decoupled': False}, 'wave_TX01_SHZ_freq_0.8_4.5_1239040000.0': {'birth': {'assoc_tmids': (19,)}, 'decoupled': False}, 'births': {'ELK': set(['Lg', 'Pg']), 'YKA': set([]), 'KDAK': set([]), 'PDAR': set(['Lg']), 'NVAR': set(['Lg', 'Pg']), 'PFO': set(['Lg', 'Pg']), 'YBH': set(['Lg']), 'TXAR': set(['Lg']), 'ANMO': set(['Lg', 'Pg']), 'ULM': set([]), 'NEW': set([]), 'ILAR': set([])}, 'wave_IL31_BHZ_freq_0.8_4.5_1239040000.0': {'decoupled': False}}\n"
     ]
    }
   ],
   "source": [
    "print phasejump_reverse_record"
   ]
  },
  {
   "cell_type": "code",
   "execution_count": 25,
   "metadata": {
    "collapsed": false
   },
   "outputs": [
    {
     "name": "stdout",
     "output_type": "stream",
     "text": [
      "n_uatemplate: -529.3\n",
      "n_event: -11.4\n",
      "ev priors: ev -6.8\n",
      "ev observations: ev 0.0\n",
      "phase existence: ev -51.6\n",
      "tt_residual: ev -157.5\n",
      "ev global cost (n + priors + phases + tt): -227.2\n",
      "coda_decay: ev -61.0 ua -88.9 total -149.9\n",
      "peak_decay: ev -64.8 ua -87.2 total -152.0\n",
      "peak_offset: ev -52.3 ua -95.2 total -147.5\n",
      "coda_height: ev -100.3 ua -147.6 total -247.8\n",
      "mult_std_wiggle: ev 11.6 ua 18.8 total 30.3\n",
      "coef jointgp: 0.0\n",
      "total param: ev -266.8 ua -400.1 total -666.9\n",
      "priors+params: ev -494.0 ua -929.4 total -1423.4\n",
      "station noise (observed signals): -282657.9\n",
      "noise model prior lp: -102.6\n",
      "overall: -284183.9\n",
      "official: -284183.9\n",
      "\n"
     ]
    },
    {
     "data": {
      "text/plain": [
       "'n_uatemplate: -529.3\\nn_event: -11.4\\nev priors: ev -6.8\\nev observations: ev 0.0\\nphase existence: ev -51.6\\ntt_residual: ev -157.5\\nev global cost (n + priors + phases + tt): -227.2\\ncoda_decay: ev -61.0 ua -88.9 total -149.9\\npeak_decay: ev -64.8 ua -87.2 total -152.0\\npeak_offset: ev -52.3 ua -95.2 total -147.5\\ncoda_height: ev -100.3 ua -147.6 total -247.8\\nmult_std_wiggle: ev 11.6 ua 18.8 total 30.3\\ncoef jointgp: 0.0\\ntotal param: ev -266.8 ua -400.1 total -666.9\\npriors+params: ev -494.0 ua -929.4 total -1423.4\\nstation noise (observed signals): -282657.9\\nnoise model prior lp: -102.6\\noverall: -284183.9\\nofficial: -284183.9\\n'"
      ]
     },
     "execution_count": 25,
     "metadata": {},
     "output_type": "execute_result"
    }
   ],
   "source": [
    "replicate_forward()\n",
    "sg.current_log_p_breakdown()"
   ]
  },
  {
   "cell_type": "code",
   "execution_count": 8,
   "metadata": {
    "collapsed": false
   },
   "outputs": [
    {
     "name": "stdout",
     "output_type": "stream",
     "text": [
      "-959.380620818\n",
      "-959.4\n"
     ]
    }
   ],
   "source": [
    "print lp_new_quick - lp_old_quick\n",
    "print -285516.5 - (-284557.1)"
   ]
  },
  {
   "cell_type": "code",
   "execution_count": 16,
   "metadata": {
    "collapsed": false
   },
   "outputs": [
    {
     "name": "stdout",
     "output_type": "stream",
     "text": [
      "-198411.527739 -198475.370515\n",
      "-198872.450761 -198914.770779\n",
      "acceptance 439.4002638\n"
     ]
    }
   ],
   "source": [
    "print lp_new_quick, lp_new_quick + log_qbackward \n",
    "print lp_old_quick, lp_old_quick + log_qforward\n",
    "print \"acceptance\", lp_new_quick + log_qbackward  - (lp_old_quick + log_qforward)"
   ]
  },
  {
   "cell_type": "code",
   "execution_count": 8,
   "metadata": {
    "collapsed": false
   },
   "outputs": [
    {
     "name": "stdout",
     "output_type": "stream",
     "text": [
      "[('22;Lg;YBH;:;:;tt_residual', 12.661655555971777, -4.8891029577317084), ('22;Lg;TX01;:;:;tt_residual', 2.0316302722901014, -3.1022747752592341), ('22;pP;YKR8;:;:;tt_residual', 10.456365352588932, -5.3323754275387456), ('22;P;TX01;:;:;tt_residual', 4.6293493424169867, -3.1015740352808487), ('22;Lg;NV01;:;:;tt_residual', 24.783468186241805, -7.9765394631858246), ('22;PcP;ULM;:;:;tt_residual', 3.4612969658492148, -2.9772279032162894), ('22;ScP;NEW;:;:;tt_residual', -20.633296563792896, -6.2242027517926912), ('22;P;ULM;:;:;tt_residual', -1.5523137004591376, -2.6624564118069207), ('22;Lg;PD31;:;:;tt_residual', 1.9505065284287899, -3.0117312655064494), ('22;PcP;NEW;:;:;tt_residual', 12.603733548347805, -4.583363619236696), ('22;P;YBH;:;:;tt_residual', 12.626632099404418, -4.9597993366537834), ('22;PcP;YBH;:;:;tt_residual', 5.0380947483332648, -3.2207944599892686), ('22;P;ANMO;:;:;tt_residual', 8.4324235172375523, -3.8128355779142997), ('22;Lg;PFO;:;:;tt_residual', 14.987729434763647, -5.6824262823080005), ('22;S;NEW;:;:;tt_residual', -20.21867133491088, -5.9172071019985228), ('22;Lg;ANMO;:;:;tt_residual', 6.8006535325392274, -3.7351932651427671), ('22;ScP;YKR8;:;:;tt_residual', -13.787539562961001, -5.0148745420637155), ('22;P;NV01;:;:;tt_residual', 10.366068505549748, -4.3261159298034242), ('22;P;PD31;:;:;tt_residual', 10.109299160856295, -4.1950202153209819), ('22;PcP;IL31;:;:;tt_residual', -0.3157314819251269, -2.1801540213594994), ('22;ScP;IL31;:;:;tt_residual', -9.6531742356983159, -4.557170902482282), ('22;P;KDAK;:;:;tt_residual', -2.7545521873863663, -3.0376714118270471), ('22;P;PFO;:;:;tt_residual', 1.2362769084489713, -2.1732239892633771), ('22;Pg;ANMO;:;:;tt_residual', -8.3664280800036543, -4.7523672672446926), ('22;Pg;ELK;:;:;tt_residual', -2.1152395903083061, -2.8402826530354321), ('22;Pg;NV01;:;:;tt_residual', 1.9261492872963335, -2.155374295863612), ('22;S;YKR8;:;:;tt_residual', -5.607937711940167, -3.4464667751161757), ('22;S;NV01;:;:;tt_residual', 8.4742019422753287, -3.9090220588041751), ('22;S;ELK;:;:;tt_residual', -13.060696009911226, -4.3508631390879948), ('22;PcP;YKR8;:;:;tt_residual', 5.7178137412950036, -3.4715791396972562), ('22;S;ANMO;:;:;tt_residual', 1.588864345386213, -2.6745689901878937), ('22;P;YKR8;:;:;tt_residual', -4.4923118150504138, -3.4857293747052722), ('22;pP;ULM;:;:;tt_residual', 9.0033546643571185, -4.3045661301612741), ('22;S;PFO;:;:;tt_residual', -0.37435206823127487, -2.3055813941319383), ('22;S;PD31;:;:;tt_residual', 7.8166228292720632, -3.7733343742985563), ('22;S;TX01;:;:;tt_residual', 6.9283555009965028, -3.8801489836124512), ('22;Lg;ELK;:;:;tt_residual', -5.4247842929422916, -3.4274735293996041), ('22;Pg;PFO;:;:;tt_residual', 15.301149939916813, -6.7586802499054146), ('22;P;ELK;:;:;tt_residual', 3.8216775757767039, -2.9825689675096978), ('22;P;NEW;:;:;tt_residual', -7.3431268665709126, -3.8318363849820614), ('22;ScP;ULM;:;:;tt_residual', -36.16977488507348, -155660245.47504956)]\n"
     ]
    }
   ],
   "source": [
    "print [(n.label, n.get_value(), n.log_p()) for n in sg.all_nodes.values() if \"tt_residual\" in n.label]"
   ]
  },
  {
   "cell_type": "code",
   "execution_count": 4,
   "metadata": {
    "collapsed": false
   },
   "outputs": [
    {
     "name": "stdout",
     "output_type": "stream",
     "text": [
      "death 22 lqf -0.221955 lqb -832.932677\n",
      "birth 22 lqf -130.404626 lqb -12.933552\n"
     ]
    }
   ],
   "source": [
    "\n",
    "lp_old, lp_new, log_qforward, log_qbackward, revert_move = repropose_lsqr_new(sg, eid=22, forward_birth_type=\"mh\",\n",
    "                                                                              return_probs=True)\n"
   ]
  },
  {
   "cell_type": "code",
   "execution_count": 5,
   "metadata": {
    "collapsed": false
   },
   "outputs": [
    {
     "name": "stdout",
     "output_type": "stream",
     "text": [
      "-284557.092083\n",
      "-283822.378263\n",
      "-130.626581574\n",
      "-inf\n"
     ]
    }
   ],
   "source": [
    "print lp_old\n",
    "print lp_new\n",
    "print log_qforward\n",
    "print log_qbackward"
   ]
  },
  {
   "cell_type": "code",
   "execution_count": 6,
   "metadata": {
    "collapsed": false
   },
   "outputs": [],
   "source": [
    "with open(\"/home/dmoore/python/sigvisa/logs/mcmc/81770c1f-4fe0-4eea-82bb-08861ff8dbde/step_000362/pickle.sg\", 'wb') as f:\n",
    "    pickle.dump(sg, f)"
   ]
  },
  {
   "cell_type": "code",
   "execution_count": 24,
   "metadata": {
    "collapsed": false
   },
   "outputs": [
    {
     "name": "stdout",
     "output_type": "stream",
     "text": [
      "n_uatemplate: -510.9\n",
      "n_event: -11.4\n",
      "ev priors: ev -7.8\n",
      "ev observations: ev 0.0\n",
      "phase existence: ev 0.0\n",
      "tt_residual: ev -191.7\n",
      "ev global cost (n + priors + phases + tt): -211.0\n",
      "coda_decay: ev -69.6 ua -85.8 total -155.5\n",
      "peak_decay: ev -62.6 ua -84.9 total -147.6\n",
      "peak_offset: ev -52.9 ua -92.9 total -145.8\n",
      "coda_height: ev -64.5 ua -142.9 total -207.5\n",
      "mult_std_wiggle: ev 15.7 ua 17.4 total 33.1\n",
      "coef jointgp: 0.0\n",
      "total param: ev -234.0 ua -389.2 total -623.2\n",
      "priors+params: ev -444.9 ua -900.1 total -1345.1\n",
      "station noise (observed signals): -283428.3\n",
      "noise model prior lp: -102.6\n",
      "overall: -284876.0\n",
      "official: -284876.0\n",
      "\n"
     ]
    },
    {
     "data": {
      "text/plain": [
       "'n_uatemplate: -510.9\\nn_event: -11.4\\nev priors: ev -7.8\\nev observations: ev 0.0\\nphase existence: ev 0.0\\ntt_residual: ev -191.7\\nev global cost (n + priors + phases + tt): -211.0\\ncoda_decay: ev -69.6 ua -85.8 total -155.5\\npeak_decay: ev -62.6 ua -84.9 total -147.6\\npeak_offset: ev -52.9 ua -92.9 total -145.8\\ncoda_height: ev -64.5 ua -142.9 total -207.5\\nmult_std_wiggle: ev 15.7 ua 17.4 total 33.1\\ncoef jointgp: 0.0\\ntotal param: ev -234.0 ua -389.2 total -623.2\\npriors+params: ev -444.9 ua -900.1 total -1345.1\\nstation noise (observed signals): -283428.3\\nnoise model prior lp: -102.6\\noverall: -284876.0\\nofficial: -284876.0\\n'"
      ]
     },
     "execution_count": 24,
     "metadata": {},
     "output_type": "execute_result"
    }
   ],
   "source": [
    "sg.current_log_p_breakdown()"
   ]
  },
  {
   "cell_type": "code",
   "execution_count": 13,
   "metadata": {
    "collapsed": true
   },
   "outputs": [],
   "source": [
    "ttns = [n for n in sg.all_nodes.values() if \"tt_residual\" in n.label]"
   ]
  },
  {
   "cell_type": "code",
   "execution_count": 14,
   "metadata": {
    "collapsed": false
   },
   "outputs": [
    {
     "name": "stdout",
     "output_type": "stream",
     "text": [
      "22;Lg;YBH;:;:;tt_residual 18.5598431325 -5.93582532548\n",
      "22;Lg;TX01;:;:;tt_residual -8.19129835211 -3.56120670938\n",
      "22;Pg;NV01;:;:;tt_residual 1.83094443335 -2.17965727114\n",
      "22;Lg;NV01;:;:;tt_residual -1.55222068857 -2.50441808512\n",
      "22;ScP;NEW;:;:;tt_residual 0.284443416441 -2.4258252724\n",
      "22;P;ULM;:;:;tt_residual 1.26201894147 -1.90354187374\n",
      "22;P;TX01;:;:;tt_residual -2.2117220744 -2.75648454149\n",
      "22;Lg;PD31;:;:;tt_residual -3.17483428356 -2.92199153027\n",
      "22;PcP;NEW;:;:;tt_residual 9.38696834211 -3.95686975484\n",
      "22;S;YBH;:;:;tt_residual 14.6119562914 -5.02377357792\n",
      "22;P;YBH;:;:;tt_residual 12.7347083706 -4.98641861804\n",
      "22;PcP;YBH;:;:;tt_residual 1.41961175015 -2.76457985257\n",
      "22;ScP;YBH;:;:;tt_residual 0.22351919445 -2.01081458553\n",
      "22;ScP;IL31;:;:;tt_residual -13.0234286994 -5.37321972381\n",
      "22;PcP;KDAK;:;:;tt_residual -3.48871055009 -3.05269902972\n",
      "22;S;NEW;:;:;tt_residual -11.791255206 -4.36154917193\n",
      "22;P;NV01;:;:;tt_residual 9.42696418056 -4.11458963875\n",
      "22;Lg;ANMO;:;:;tt_residual -1.58605929221 -2.55435404266\n",
      "22;S;TX01;:;:;tt_residual -3.40457470247 -2.79152221386\n",
      "22;Lg;PFO;:;:;tt_residual 0.997908488864 -2.61844991133\n",
      "22;ScP;YKR8;:;:;tt_residual -1.38803467477 -2.63690201097\n",
      "22;P;PD31;:;:;tt_residual 14.8455240623 -5.06996612911\n",
      "22;PcP;IL31;:;:;tt_residual 5.29404864375 -3.51017671724\n",
      "22;P;KDAK;:;:;tt_residual -3.28855762444 -3.15799872719\n",
      "22;P;PFO;:;:;tt_residual 3.03994072255 -2.5982884929\n",
      "22;Pg;ANMO;:;:;tt_residual -2.38436057222 -2.46509906373\n",
      "22;Pg;ELK;:;:;tt_residual 3.96558882915 -2.83517250696\n",
      "22;S;YKR8;:;:;tt_residual -7.86382914519 -3.94565599594\n",
      "22;S;NV01;:;:;tt_residual 8.73723971707 -3.95782543083\n",
      "22;S;ULM;:;:;tt_residual -7.55326188714 -3.67807246002\n",
      "22;ScP;KDAK;:;:;tt_residual 6.07029272579 -3.36681187028\n",
      "22;S;ELK;:;:;tt_residual -5.96281876337 -3.41621820424\n",
      "22;PcP;YKR8;:;:;tt_residual 3.20589565122 -2.95741624463\n",
      "22;P;NEW;:;:;tt_residual -3.69305858159 -3.249382613\n",
      "22;S;ANMO;:;:;tt_residual -0.409442748492 -2.29247605332\n",
      "22;P;YKR8;:;:;tt_residual 9.98039584061 -4.24715782578\n",
      "22;P;IL31;:;:;tt_residual 0.989112339604 -2.37326858578\n",
      "22;P;ANMO;:;:;tt_residual 6.23261059184 -3.48113167121\n",
      "22;S;PFO;:;:;tt_residual 5.7401774629 -3.48828361671\n",
      "22;S;PD31;:;:;tt_residual 18.2638486697 -5.74273042154\n",
      "22;PcP;ULM;:;:;tt_residual 0.549347496494 -2.43153724453\n",
      "22;Lg;ELK;:;:;tt_residual 6.83280614709 -3.82481135749\n",
      "22;Pg;PFO;:;:;tt_residual 6.72387006904 -3.9739519284\n",
      "22;P;ELK;:;:;tt_residual 6.68633770263 -3.43549049681\n",
      "22;ScP;ULM;:;:;tt_residual -14.3823515289 -5.54703262759\n"
     ]
    }
   ],
   "source": [
    "for ttn in ttns:\n",
    "    print ttn.label, ttn.get_value(), ttn.log_p()"
   ]
  },
  {
   "cell_type": "code",
   "execution_count": 26,
   "metadata": {
    "collapsed": false
   },
   "outputs": [
    {
     "name": "stdout",
     "output_type": "stream",
     "text": [
      "plotting uatemplate -50 as color (0.0, 0.0, 0.82085561497326198, 1.0)\n",
      "plotting uatemplate -62 as color (0.0, 0.12745098039215685, 1.0, 1.0)\n",
      "plotting uatemplate -26 as color (0.31309297912713452, 1.0, 0.65464895635673637, 1.0)\n",
      "plotting uatemplate -16 as color (0.0, 0.0, 0.99910873440285197, 1.0)\n",
      "plotting uatemplate -10 as color (0.31309297912713452, 1.0, 0.65464895635673637, 1.0)\n",
      "plotting uatemplate -5 as color (0.0, 0.34705882352941175, 1.0, 1.0)\n",
      "reading station detections... \n"
     ]
    },
    {
     "data": {
      "text/plain": [
       "(1239043000.0, 1239044000.0)"
      ]
     },
     "execution_count": 26,
     "metadata": {},
     "output_type": "execute_result"
    },
    {
     "data": {
      "image/png": "[encoded data removed]",
      "text/plain": [
       "<matplotlib.figure.Figure at 0x7f41255c54d0>"
      ]
     },
     "metadata": {},
     "output_type": "display_data"
    }
   ],
   "source": [
    "\n",
    "f = plt.figure(figsize=(40, 5))\n",
    "ax = f.add_subplot(111)\n",
    "sg.station_waves[\"ULM\"][0].plot(ax=ax)\n",
    "ax.set_xlim([1239043000.0, 1239044000.0])"
   ]
  },
  {
   "cell_type": "code",
   "execution_count": 16,
   "metadata": {
    "collapsed": false
   },
   "outputs": [
    {
     "name": "stdout",
     "output_type": "stream",
     "text": [
      "1239043600.0\n"
     ]
    }
   ],
   "source": [
    "print sg.station_waves[\"ULM\"][0].et"
   ]
  },
  {
   "cell_type": "code",
   "execution_count": 31,
   "metadata": {
    "collapsed": false
   },
   "outputs": [
    {
     "name": "stdout",
     "output_type": "stream",
     "text": [
      " . . . . . . . . . . . . . . . . . . . . . . . . . . . . . . . . . . . . . . . . . . . . . . . . . . . . . . . . . . . . . . . . . . . . . . . . . . . . . . . . . . . . . . . . . . . . . . . . . . . . . . . . . . . . . . . . . . . . . . . . . . . . . . . . . . . . . . . . . . . . . . . . . . . . . . . . . . . . . . . . . . . . . . . . . . . . . . . . . . . . . . . . . . . . . . . . . . . . . . . . . . . . . . . . . . . . . . . . . . . . . . . . . . . . . . . . . . . . . . . . . . . . . . . . . . . . . . . . . . . . . . . . . . . . . . . . . . . . . . . . . . . . . . . . . . . . . . . . . . . . . . . . . . . . . . . . . . . . . . . . . . . . . . . . . . . . . . . . . . . . . . . . . . . . . . . . . . . . . . . . . . . . . . . . . . . . . . . . . . . . . . . . . . . . . . . . . . . . . . . . . . . . . . . . . . . . . . . . . . . . . . . . . . . . . . . . . . . . . . . . . . . . . . . . . . . . . . . . . . . . . . . . . . . . . . . . . . . . . . . . . . . . . . . . . . . . . . . . . . . . . . . . . . . . . . . . . . . . . . . . . . . . . . . . . . . . . . . . . . . . . . . . . . . . . . . . . . . . . . . . . . . . . . . . . . . . . . . . . . . . . . . . . . . . . . . . . . . . . . . . . . . . . . . . . . . . . . . . . . . . . . . . . . . . . . . . . . . . . . . . . . . . . . . . . . . . . . . . . . . . . . . . . . . . . . . . . . . . . . . . . . . . . . . . . . . . . . . . . . . . . . . . . . . . . . . . . . . . . . . . . . . . . . . . . . . . . . . . . . . . . . . . . . . . . . . . . . . . . . . . . . . . . . . . . . . . . . . . . . . . . . . . . . . . . . . . . . . . . . . . . . . . . . . . . . . . . . . . . . . . . . . . . . . . . . . . . . . . . . . . . . . . . . . . . . . . . . . . . . . . . . . . . . . . . . . . . . . . . . . . . . . . . . . . . . . . . . . . . . . . . . . . . . . . . . . . . . . . . . . . . . . . . . . . . . . . . . . . . . . . . . . . . . . . . . . . . . . . . . . . . . . . . . . . . . . . . . . . . . . . . . . . . . . . . . . . . . . . . . . . . . . . . . . . . . . . . . . . . . . . . . . . . . . . . . . . . . . . . . . . . . . . . . . . . . . . . . . . . . . . . . . . . . . . . . . . . . . . . . . . . . . . . . . . . . . . . . . . . . . . . . . . . . . . . . . . . . . . . . . . . . . . . . . . . . . . . . . . . . . . . . . . . . . . . . . . . . . . . . . . . . . . . . . . . . . . . . . . . . . . . . . . . . . . . . . . . . . . . . . . . . . . . . . . . . . . . . . . . . . . . . . . . . . . . . . . . . . . . . . . . . . . . . . . . . . . . . . . . . . . . . . . . . . . . . . . . . . . . . . . . . . . . . . . . . . . . . . . . . . . . . . . . . . . . . . . . . . . . . . . . . . . . . . . . . . . . . . . . . . . . . . . . . . . . . . . . . . . . . . . . . . . . . . . . . . . . . . . . . . . . . . . . . . . . . . . . . . . . . . . . . . . . . . . . . . . . . . . . . . . . . . . . . . . . . . . . . . . . . . . . . . . . . . . . . . . . . . . . . . . . . . . . . . . . . . . . . . . . . . . . . . . . . . . . . . . . . . . . . . . . . . . . . . . . . . . . . . . . . . . . . . . . . . . . . . . . . . . . . . . . . . . . . . . . . . . . . . . . . . . . . . . . . . . . . . . . . . . . . . . . . . . . . . . . . . . . . . . . . . . . . . . . . . . . . . . . . . . . . . . . . . . . . . . . . . . . . . . . . . . . . . . . . . . . . . . . . . . . . . . . . . . . . . . . . . . . . . . . . . . . . . . . . . . . . . . . . . . . . . . . . . . . . . . . . . . . . . . . . . . . . . . . . . . . . . . . . . . . . . . . . . . . . . . . . . . . . . . . . . . . . . . . . . . . . . . . . . . . . . . . . . . . . . . . . . . . . . . . . . . . . . . . . . . . . . . . . . . . . . . . . . . . . . . . . . . . . . . . . . . . . . . . . . . . . . . . . . . . . . . . . . . . . . . . . . . . . . . . . . . . . . . . . . . . . . . . . . . . . . . . . . . . . . . . . . . . . . . . . . . . . . . . . . . . . . . . . . . . . . . . . . . . . . . . . . . . . . . . . . . . . . . . . . . . . . . . . . . . . . . . . . . . . . . . . . . . . . . . . . . . . . . . . . . . . . . . . . . . . . . . . . . . . . . . . . . . . . . . . . . . . . . . . . . . . . . . . . . . . . . . . . . . . . . . . . . . . . . . . . . . . . . . . . . . . . . . . . . . . . . . . . . . . . . . . . . . . . . . . . . . . . . . . . . . . . . . . . . . . . . . . . . . . . . . . . . . . . . . . . . . . . . . . . . . . . . . . . . . . . . . . . . . . . . . . . . . . . . . . . . . . . . . . . . . . . . . . . . . . . . . . . . . . . . . . . . . . . . . . . . . . . . . . . . . . . . . . . . . . . . . . . . . . . . . . . . . . . . . . . . . . . . . . . . . . . . . . . . . . . . . . . . . . . . . . . . . . . . . . . . . . . . . . . . . . . . . . . . . . . . . . . . . . . . . . . . . . . . . . . . . . . . . . . . . . . . . . . . . . . . . . . . . . . . . . . . . . . . . . . . . . . . . . . . . . . . . . . . . . . . . . . . . . . . . . . . . . . . . . . . . . . . . . . . . . . . . . . . . . . . . . . . . . . . . . . . . . . . . . . . . . . . . . . . . . . . . . . . . . . . . . . . . . . . . . . . . . . . . . . . . . . . . . . . . . . . . . . . . . . . . . . . . . . . . . . . . . . . . . . . . . . . . . .\n",
      "inserted 2567 records from NVAR/sac2008001-091\n"
     ]
    }
   ],
   "source": [
    "from sigvisa import Sigvisa\n",
    "import os\n",
    "import obspy\n",
    "\n",
    "s = Sigvisa()\n",
    "cursor = s.dbconn.cursor()\n",
    "base_dir = \"/media/usb0/ctbt/llnl_data/\"\n",
    "for site in [\"NVAR\",]:\n",
    "    site_dir = os.path.join(base_dir, site)\n",
    "    for subdir in [\"sac2008001-091\"]:\n",
    "        d = os.path.join(site_dir, subdir)\n",
    "        saclist = os.listdir(d)\n",
    "        for sacfile in saclist:\n",
    "            if not sacfile.endswith(\"SAC\"): continue\n",
    "            fullpath = os.path.join(d, sacfile)\n",
    "            #print fullpath\n",
    "\n",
    "            st = obspy.read(fullpath, debug_headers=True, headonly=True)\n",
    "            ss = st[0].stats\n",
    "            cmd = \"INSERT into llnl_wfdisc (sta, chan, stime, etime, hz, delta, npts, subdir, fname) values ('%s', '%s', %f, %f, %f, %f, %d, '%s', '%s')\"\n",
    "            fmt = cmd % (ss.station, ss.channel,\n",
    "                         ss.starttime.timestamp,\n",
    "                         ss.endtime.timestamp,\n",
    "                         ss.sampling_rate,\n",
    "                         ss.delta,\n",
    "                         ss.npts,\n",
    "                         os.path.join(site, subdir),\n",
    "                         sacfile)\n",
    "            #print fmt\n",
    "            cursor.execute(fmt)\n",
    "            print \".\",\n",
    "        print\n",
    "        print \"inserted %d records from %s\" % (len(saclist), os.path.join(site, subdir))\n",
    "        cursor.close()\n",
    "        s.dbconn.commit()\n"
   ]
  },
  {
   "cell_type": "code",
   "execution_count": null,
   "metadata": {
    "collapsed": true
   },
   "outputs": [],
   "source": []
  }
 ],
 "metadata": {
  "kernelspec": {
   "display_name": "Python 2",
   "language": "python",
   "name": "python2"
  },
  "language_info": {
   "codemirror_mode": {
    "name": "ipython",
    "version": 2
   },
   "file_extension": ".py",
   "mimetype": "text/x-python",
   "name": "python",
   "nbconvert_exporter": "python",
   "pygments_lexer": "ipython2",
   "version": "2.7.6"
  }
 },
 "nbformat": 4,
 "nbformat_minor": 0
}
