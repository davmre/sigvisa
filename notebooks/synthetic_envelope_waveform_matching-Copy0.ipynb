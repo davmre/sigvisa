{
 "metadata": {
  "name": "",
  "signature": "sha256:fcee5a7aa4884e1f97d7dbe140c8ef4583fe304b16b92f21c4c25f9b424b68b8"
 },
 "nbformat": 3,
 "nbformat_minor": 0,
 "worksheets": [
  {
   "cells": [
    {
     "cell_type": "code",
     "collapsed": false,
     "input": [
      "from sigvisa.synthetic.doublets import *\n",
      "\n",
      "\n",
      "\n",
      "\n",
      "\n",
      "\n",
      "\n",
      "\n"
     ],
     "language": "python",
     "metadata": {},
     "outputs": [],
     "prompt_number": 5
    },
    {
     "cell_type": "code",
     "collapsed": false,
     "input": [
      "\n",
      "import os\n",
      "basedir = os.path.join(os.getenv(\"SIGVISA_HOME\"), \"experiments\", \"synth_wavematch\")\n",
      "wave_dir = os.path.join(basedir, \"sampled_%d\" % 0)\n",
      "sw = load_sampled_world(wave_dir)\n"
     ],
     "language": "python",
     "metadata": {},
     "outputs": [],
     "prompt_number": 6
    },
    {
     "cell_type": "code",
     "collapsed": false,
     "input": [
      "dummyPrior = dict([(param, Gaussian(sw.param_means[\"MK31\"][param], std=np.sqrt(sw.gpcov.wfn_params[0]))) for param in sw.param_means[\"MK31\"].keys()\n",
      "])\n",
      "sg, wns = build_sg(sw, 34, wiggle_model_type=\"gp_lld\", template_model_type=\"dummyPrior\", dummy_prior=dummyPrior)\n"
     ],
     "language": "python",
     "metadata": {},
     "outputs": [],
     "prompt_number": 7
    },
    {
     "cell_type": "code",
     "collapsed": false,
     "input": [
      "\n",
      "from sigvisa.infer.run_mcmc import run_open_world_MH\n",
      "from sigvisa.infer.mcmc_logger import MCMCLogger\n",
      "\n",
      "#ev_init = sg.get_event(1)\n",
      "np.random.seed(0)\n",
      "logger = MCMCLogger( write_template_vals=True, dump_interval=10, print_interval=10)\n",
      "\n",
      "with open(os.path.join(logger.run_dir, \"events.pkl\"), \"wb\") as f:\n",
      "    pickle.dump([sw.ev_doublet,], f)\n",
      "    \n",
      "with open(os.path.join(logger.run_dir, \"train_events.pkl\"), \"wb\") as f:\n",
      "    pickle.dump(sw.evs, f)\n",
      "    \n",
      "run_open_world_MH(sg, steps=5000,\n",
      "                  enable_event_openworld=False,\n",
      "                  enable_event_moves=True,\n",
      "                  enable_template_openworld=False,\n",
      "                  enable_template_moves=True,\n",
      "                  logger=logger)\n"
     ],
     "language": "python",
     "metadata": {},
     "outputs": [
      {
       "output_type": "stream",
       "stream": "stdout",
       "text": [
        "step 1: lp -1994.64, accepted arrival_time: 0.400%, coda_decay: 0.300%, coda_height: 0.400%, evdepth: 0.500%, evloc: 1.000%, evloc_big: 0.500%, evmb: 1.000%, evtime: 0.500%, indep_peak: 0.400%, peak_decay: 0.500%, peak_offset: 0.600%, , uatemplates: 0 , events: 1 \n",
        "step 2: lp -1734.91, accepted arrival_time: 0.467%, coda_decay: 0.200%, coda_height: 0.467%, evdepth: 0.333%, evloc: 1.000%, evloc_big: 0.333%, evmb: 1.000%, evtime: 0.333%, indep_peak: 0.267%, peak_decay: 0.600%, peak_offset: 0.633%, , uatemplates: 0 , events: 1 "
       ]
      },
      {
       "output_type": "stream",
       "stream": "stdout",
       "text": [
        "\n",
        "step 3: lp -1559.57, accepted arrival_time: 0.500%, coda_decay: 0.250%, coda_height: 0.500%, evdepth: 0.250%, evloc: 0.750%, evloc_big: 0.500%, evmb: 1.000%, evtime: 0.500%, indep_peak: 0.200%, peak_decay: 0.600%, peak_offset: 0.575%, , uatemplates: 0 , events: 1 "
       ]
      },
      {
       "output_type": "stream",
       "stream": "stdout",
       "text": [
        "\n",
        "step 4: lp -1500.31, accepted arrival_time: 0.520%, coda_decay: 0.200%, coda_height: 0.480%, evdepth: 0.200%, evloc: 0.800%, evloc_big: 0.600%, evmb: 1.000%, evtime: 0.600%, indep_peak: 0.160%, peak_decay: 0.600%, peak_offset: 0.480%, , uatemplates: 0 , events: 1 "
       ]
      },
      {
       "output_type": "stream",
       "stream": "stdout",
       "text": [
        "\n",
        "saving debug dump to /home/dmoore/python/sigvisa/logs/mcmc/01626/step_000009..."
       ]
      },
      {
       "output_type": "stream",
       "stream": "stdout",
       "text": [
        "\n",
        "saved pickled graph"
       ]
      },
      {
       "output_type": "stream",
       "stream": "stdout",
       "text": [
        "\n",
        "step 10: lp -1013.38, accepted arrival_time: 0.327%, coda_decay: 0.164%, coda_height: 0.455%, evdepth: 0.182%, evloc: 0.636%, evloc_big: 0.364%, evmb: 1.000%, evtime: 0.364%, indep_peak: 0.091%, peak_decay: 0.455%, peak_offset: 0.364%, , uatemplates: 0 , events: 1 "
       ]
      },
      {
       "output_type": "stream",
       "stream": "stdout",
       "text": [
        "\n",
        "saving debug dump to /home/dmoore/python/sigvisa/logs/mcmc/01626/step_000019..."
       ]
      },
      {
       "output_type": "stream",
       "stream": "stdout",
       "text": [
        "\n",
        "saved pickled graph"
       ]
      },
      {
       "output_type": "stream",
       "stream": "stdout",
       "text": [
        "\n",
        "step 20: lp -779.82, accepted arrival_time: 0.238%, coda_decay: 0.162%, coda_height: 0.286%, evdepth: 0.190%, evloc: 0.667%, evloc_big: 0.286%, evmb: 1.000%, evtime: 0.429%, indep_peak: 0.048%, peak_decay: 0.343%, peak_offset: 0.305%, , uatemplates: 0 , events: 1 "
       ]
      },
      {
       "output_type": "stream",
       "stream": "stdout",
       "text": [
        "\n",
        "saving debug dump to /home/dmoore/python/sigvisa/logs/mcmc/01626/step_000029..."
       ]
      },
      {
       "output_type": "stream",
       "stream": "stdout",
       "text": [
        "\n",
        "saved pickled graph"
       ]
      },
      {
       "output_type": "stream",
       "stream": "stdout",
       "text": [
        "\n",
        "step 30: lp -660.07, accepted arrival_time: 0.206%, coda_decay: 0.148%, coda_height: 0.239%, evdepth: 0.194%, evloc: 0.710%, evloc_big: 0.355%, evmb: 0.968%, evtime: 0.419%, indep_peak: 0.032%, peak_decay: 0.310%, peak_offset: 0.294%, , uatemplates: 0 , events: 1 "
       ]
      },
      {
       "output_type": "stream",
       "stream": "stdout",
       "text": [
        "\n",
        "saving debug dump to /home/dmoore/python/sigvisa/logs/mcmc/01626/step_000039..."
       ]
      },
      {
       "output_type": "stream",
       "stream": "stdout",
       "text": [
        "\n",
        "saved pickled graph"
       ]
      },
      {
       "output_type": "stream",
       "stream": "stdout",
       "text": [
        "\n",
        "step 40: lp -606.95, accepted arrival_time: 0.156%, coda_decay: 0.146%, coda_height: 0.215%, evdepth: 0.171%, evloc: 0.707%, evloc_big: 0.341%, evmb: 0.951%, evtime: 0.415%, indep_peak: 0.024%, peak_decay: 0.307%, peak_offset: 0.298%, , uatemplates: 0 , events: 1 "
       ]
      },
      {
       "output_type": "stream",
       "stream": "stdout",
       "text": [
        "\n",
        "saving debug dump to /home/dmoore/python/sigvisa/logs/mcmc/01626/step_000049..."
       ]
      },
      {
       "output_type": "stream",
       "stream": "stdout",
       "text": [
        "\n",
        "saved pickled graph"
       ]
      },
      {
       "output_type": "stream",
       "stream": "stdout",
       "text": [
        "\n",
        "step 50: lp -546.23, accepted arrival_time: 0.133%, coda_decay: 0.145%, coda_height: 0.212%, evdepth: 0.137%, evloc: 0.725%, evloc_big: 0.275%, evmb: 0.941%, evtime: 0.451%, indep_peak: 0.020%, peak_decay: 0.318%, peak_offset: 0.273%, , uatemplates: 0 , events: 1 "
       ]
      },
      {
       "output_type": "stream",
       "stream": "stdout",
       "text": [
        "\n",
        "saving debug dump to /home/dmoore/python/sigvisa/logs/mcmc/01626/step_000059..."
       ]
      },
      {
       "output_type": "stream",
       "stream": "stdout",
       "text": [
        "\n",
        "saved pickled graph"
       ]
      },
      {
       "output_type": "stream",
       "stream": "stdout",
       "text": [
        "\n",
        "step 60: lp -554.34, accepted arrival_time: 0.121%, coda_decay: 0.141%, coda_height: 0.200%, evdepth: 0.164%, evloc: 0.738%, evloc_big: 0.279%, evmb: 0.934%, evtime: 0.459%, indep_peak: 0.016%, peak_decay: 0.321%, peak_offset: 0.261%, , uatemplates: 0 , events: 1 "
       ]
      },
      {
       "output_type": "stream",
       "stream": "stdout",
       "text": [
        "\n",
        "saving debug dump to /home/dmoore/python/sigvisa/logs/mcmc/01626/step_000069..."
       ]
      },
      {
       "output_type": "stream",
       "stream": "stdout",
       "text": [
        "\n",
        "saved pickled graph"
       ]
      },
      {
       "output_type": "stream",
       "stream": "stdout",
       "text": [
        "\n",
        "step 70: lp -547.43, accepted arrival_time: 0.110%, coda_decay: 0.130%, coda_height: 0.180%, evdepth: 0.169%, evloc: 0.746%, evloc_big: 0.282%, evmb: 0.944%, evtime: 0.479%, indep_peak: 0.014%, peak_decay: 0.315%, peak_offset: 0.255%, , uatemplates: 0 , events: 1 "
       ]
      },
      {
       "output_type": "stream",
       "stream": "stdout",
       "text": [
        "\n",
        "saving debug dump to /home/dmoore/python/sigvisa/logs/mcmc/01626/step_000079..."
       ]
      },
      {
       "output_type": "stream",
       "stream": "stdout",
       "text": [
        "\n",
        "saved pickled graph"
       ]
      },
      {
       "output_type": "stream",
       "stream": "stdout",
       "text": [
        "\n",
        "step 80: lp -541.37, accepted arrival_time: 0.099%, coda_decay: 0.121%, coda_height: 0.175%, evdepth: 0.148%, evloc: 0.716%, evloc_big: 0.259%, evmb: 0.938%, evtime: 0.506%, indep_peak: 0.012%, peak_decay: 0.319%, peak_offset: 0.242%, , uatemplates: 0 , events: 1 "
       ]
      },
      {
       "output_type": "stream",
       "stream": "stdout",
       "text": [
        "\n",
        "saving debug dump to /home/dmoore/python/sigvisa/logs/mcmc/01626/step_000089..."
       ]
      },
      {
       "output_type": "stream",
       "stream": "stdout",
       "text": [
        "\n",
        "saved pickled graph"
       ]
      },
      {
       "output_type": "stream",
       "stream": "stdout",
       "text": [
        "\n",
        "step 90: lp -533.13, accepted arrival_time: 0.095%, coda_decay: 0.116%, coda_height: 0.169%, evdepth: 0.143%, evloc: 0.714%, evloc_big: 0.231%, evmb: 0.923%, evtime: 0.505%, indep_peak: 0.011%, peak_decay: 0.330%, peak_offset: 0.232%, , uatemplates: 0 , events: 1 "
       ]
      },
      {
       "output_type": "stream",
       "stream": "stdout",
       "text": [
        "\n",
        "saving debug dump to /home/dmoore/python/sigvisa/logs/mcmc/01626/step_000099..."
       ]
      },
      {
       "output_type": "stream",
       "stream": "stdout",
       "text": [
        "\n",
        "saved pickled graph"
       ]
      },
      {
       "output_type": "stream",
       "stream": "stdout",
       "text": [
        "\n",
        "step 100: lp -534.49, accepted arrival_time: 0.091%, coda_decay: 0.117%, coda_height: 0.160%, evdepth: 0.149%, evloc: 0.693%, evloc_big: 0.208%, evmb: 0.921%, evtime: 0.475%, indep_peak: 0.010%, peak_decay: 0.337%, peak_offset: 0.232%, , uatemplates: 0 , events: 1 "
       ]
      },
      {
       "output_type": "stream",
       "stream": "stdout",
       "text": [
        "\n",
        "saving debug dump to /home/dmoore/python/sigvisa/logs/mcmc/01626/step_000109..."
       ]
      },
      {
       "output_type": "stream",
       "stream": "stdout",
       "text": [
        "\n",
        "saved pickled graph"
       ]
      },
      {
       "output_type": "stream",
       "stream": "stdout",
       "text": [
        "\n",
        "step 110: lp -538.35, accepted arrival_time: 0.086%, coda_decay: 0.115%, coda_height: 0.155%, evdepth: 0.144%, evloc: 0.712%, evloc_big: 0.225%, evmb: 0.919%, evtime: 0.468%, indep_peak: 0.009%, peak_decay: 0.341%, peak_offset: 0.223%, , uatemplates: 0 , events: 1 "
       ]
      },
      {
       "output_type": "stream",
       "stream": "stdout",
       "text": [
        "\n",
        "saving debug dump to /home/dmoore/python/sigvisa/logs/mcmc/01626/step_000119..."
       ]
      },
      {
       "output_type": "stream",
       "stream": "stdout",
       "text": [
        "\n",
        "saved pickled graph"
       ]
      },
      {
       "output_type": "stream",
       "stream": "stdout",
       "text": [
        "\n",
        "step 120: lp -534.16, accepted arrival_time: 0.084%, coda_decay: 0.114%, coda_height: 0.152%, evdepth: 0.140%, evloc: 0.736%, evloc_big: 0.223%, evmb: 0.926%, evtime: 0.479%, indep_peak: 0.008%, peak_decay: 0.345%, peak_offset: 0.218%, , uatemplates: 0 , events: 1 "
       ]
      },
      {
       "output_type": "stream",
       "stream": "stdout",
       "text": [
        "\n",
        "saving debug dump to /home/dmoore/python/sigvisa/logs/mcmc/01626/step_000129..."
       ]
      },
      {
       "output_type": "stream",
       "stream": "stdout",
       "text": [
        "\n",
        "saved pickled graph"
       ]
      },
      {
       "output_type": "stream",
       "stream": "stdout",
       "text": [
        "\n",
        "step 130: lp -537.72, accepted arrival_time: 0.078%, coda_decay: 0.113%, coda_height: 0.148%, evdepth: 0.130%, evloc: 0.748%, evloc_big: 0.229%, evmb: 0.931%, evtime: 0.481%, indep_peak: 0.008%, peak_decay: 0.340%, peak_offset: 0.217%, , uatemplates: 0 , events: 1 "
       ]
      },
      {
       "output_type": "stream",
       "stream": "stdout",
       "text": [
        "\n",
        "saving debug dump to /home/dmoore/python/sigvisa/logs/mcmc/01626/step_000139..."
       ]
      },
      {
       "output_type": "stream",
       "stream": "stdout",
       "text": [
        "\n",
        "saved pickled graph"
       ]
      },
      {
       "output_type": "stream",
       "stream": "stdout",
       "text": [
        "\n",
        "step 140: lp -534.03, accepted arrival_time: 0.078%, coda_decay: 0.115%, coda_height: 0.148%, evdepth: 0.142%, evloc: 0.759%, evloc_big: 0.234%, evmb: 0.936%, evtime: 0.475%, indep_peak: 0.009%, peak_decay: 0.346%, peak_offset: 0.216%, , uatemplates: 0 , events: 1 "
       ]
      },
      {
       "output_type": "stream",
       "stream": "stdout",
       "text": [
        "\n",
        "saving debug dump to /home/dmoore/python/sigvisa/logs/mcmc/01626/step_000149..."
       ]
      },
      {
       "output_type": "stream",
       "stream": "stdout",
       "text": [
        "\n",
        "saved pickled graph"
       ]
      },
      {
       "output_type": "stream",
       "stream": "stdout",
       "text": [
        "\n",
        "step 150: lp -517.35, accepted arrival_time: 0.077%, coda_decay: 0.117%, coda_height: 0.152%, evdepth: 0.146%, evloc: 0.755%, evloc_big: 0.232%, evmb: 0.934%, evtime: 0.477%, indep_peak: 0.008%, peak_decay: 0.348%, peak_offset: 0.213%, , uatemplates: 0 , events: 1 "
       ]
      },
      {
       "output_type": "stream",
       "stream": "stdout",
       "text": [
        "\n",
        "saving debug dump to /home/dmoore/python/sigvisa/logs/mcmc/01626/step_000159..."
       ]
      },
      {
       "output_type": "stream",
       "stream": "stdout",
       "text": [
        "\n",
        "saved pickled graph"
       ]
      },
      {
       "output_type": "stream",
       "stream": "stdout",
       "text": [
        "\n",
        "step 160: lp -503.84, accepted arrival_time: 0.073%, coda_decay: 0.117%, coda_height: 0.152%, evdepth: 0.137%, evloc: 0.758%, evloc_big: 0.224%, evmb: 0.938%, evtime: 0.491%, indep_peak: 0.007%, peak_decay: 0.343%, peak_offset: 0.212%, , uatemplates: 0 , events: 1 "
       ]
      },
      {
       "output_type": "stream",
       "stream": "stdout",
       "text": [
        "\n",
        "saving debug dump to /home/dmoore/python/sigvisa/logs/mcmc/01626/step_000169..."
       ]
      },
      {
       "output_type": "stream",
       "stream": "stdout",
       "text": [
        "\n",
        "saved pickled graph"
       ]
      },
      {
       "output_type": "stream",
       "stream": "stdout",
       "text": [
        "\n",
        "step 170: lp -506.49, accepted arrival_time: 0.070%, coda_decay: 0.118%, coda_height: 0.151%, evdepth: 0.135%, evloc: 0.760%, evloc_big: 0.211%, evmb: 0.942%, evtime: 0.497%, indep_peak: 0.008%, peak_decay: 0.340%, peak_offset: 0.211%, , uatemplates: 0 , events: 1 "
       ]
      },
      {
       "output_type": "stream",
       "stream": "stdout",
       "text": [
        "\n",
        "saving debug dump to /home/dmoore/python/sigvisa/logs/mcmc/01626/step_000179..."
       ]
      },
      {
       "output_type": "stream",
       "stream": "stdout",
       "text": [
        "\n",
        "saved pickled graph"
       ]
      },
      {
       "output_type": "stream",
       "stream": "stdout",
       "text": [
        "\n",
        "step 180: lp -497.16, accepted arrival_time: 0.066%, coda_decay: 0.119%, coda_height: 0.150%, evdepth: 0.127%, evloc: 0.751%, evloc_big: 0.204%, evmb: 0.939%, evtime: 0.481%, indep_peak: 0.008%, peak_decay: 0.341%, peak_offset: 0.213%, , uatemplates: 0 , events: 1 "
       ]
      },
      {
       "output_type": "stream",
       "stream": "stdout",
       "text": [
        "\n",
        "saving debug dump to /home/dmoore/python/sigvisa/logs/mcmc/01626/step_000189..."
       ]
      },
      {
       "output_type": "stream",
       "stream": "stdout",
       "text": [
        "\n",
        "saved pickled graph"
       ]
      },
      {
       "output_type": "stream",
       "stream": "stdout",
       "text": [
        "\n",
        "step 190: lp -493.80, accepted arrival_time: 0.068%, coda_decay: 0.117%, coda_height: 0.152%, evdepth: 0.126%, evloc: 0.754%, evloc_big: 0.199%, evmb: 0.942%, evtime: 0.471%, indep_peak: 0.008%, peak_decay: 0.338%, peak_offset: 0.213%, , uatemplates: 0 , events: 1 "
       ]
      },
      {
       "output_type": "stream",
       "stream": "stdout",
       "text": [
        "\n",
        "saving debug dump to /home/dmoore/python/sigvisa/logs/mcmc/01626/step_000199..."
       ]
      },
      {
       "output_type": "stream",
       "stream": "stdout",
       "text": [
        "\n",
        "saved pickled graph"
       ]
      },
      {
       "output_type": "stream",
       "stream": "stdout",
       "text": [
        "\n",
        "step 200: lp -506.89, accepted arrival_time: 0.069%, coda_decay: 0.115%, coda_height: 0.153%, evdepth: 0.124%, evloc: 0.746%, evloc_big: 0.194%, evmb: 0.935%, evtime: 0.468%, indep_peak: 0.008%, peak_decay: 0.333%, peak_offset: 0.213%, , uatemplates: 0 , events: 1 "
       ]
      },
      {
       "output_type": "stream",
       "stream": "stdout",
       "text": [
        "\n",
        "saving debug dump to /home/dmoore/python/sigvisa/logs/mcmc/01626/step_000209..."
       ]
      },
      {
       "output_type": "stream",
       "stream": "stdout",
       "text": [
        "\n",
        "saved pickled graph"
       ]
      },
      {
       "output_type": "stream",
       "stream": "stdout",
       "text": [
        "\n",
        "step 210: lp -489.07, accepted arrival_time: 0.067%, coda_decay: 0.112%, coda_height: 0.155%, evdepth: 0.128%, evloc: 0.749%, evloc_big: 0.190%, evmb: 0.924%, evtime: 0.479%, indep_peak: 0.008%, peak_decay: 0.335%, peak_offset: 0.211%, , uatemplates: 0 , events: 1 "
       ]
      },
      {
       "output_type": "stream",
       "stream": "stdout",
       "text": [
        "\n",
        "saving debug dump to /home/dmoore/python/sigvisa/logs/mcmc/01626/step_000219..."
       ]
      },
      {
       "output_type": "stream",
       "stream": "stdout",
       "text": [
        "\n",
        "saved pickled graph"
       ]
      },
      {
       "output_type": "stream",
       "stream": "stdout",
       "text": [
        "\n",
        "step 220: lp -491.11, accepted arrival_time: 0.066%, coda_decay: 0.110%, coda_height: 0.152%, evdepth: 0.122%, evloc: 0.760%, evloc_big: 0.199%, evmb: 0.923%, evtime: 0.471%, indep_peak: 0.007%, peak_decay: 0.329%, peak_offset: 0.209%, , uatemplates: 0 , events: 1 "
       ]
      },
      {
       "output_type": "stream",
       "stream": "stdout",
       "text": [
        "\n",
        "saving debug dump to /home/dmoore/python/sigvisa/logs/mcmc/01626/step_000229..."
       ]
      },
      {
       "output_type": "stream",
       "stream": "stdout",
       "text": [
        "\n",
        "saved pickled graph"
       ]
      },
      {
       "output_type": "stream",
       "stream": "stdout",
       "text": [
        "\n",
        "step 230: lp -489.55, accepted arrival_time: 0.064%, coda_decay: 0.106%, coda_height: 0.148%, evdepth: 0.121%, evloc: 0.758%, evloc_big: 0.203%, evmb: 0.922%, evtime: 0.472%, indep_peak: 0.007%, peak_decay: 0.332%, peak_offset: 0.206%, , uatemplates: 0 , events: 1 "
       ]
      },
      {
       "output_type": "stream",
       "stream": "stdout",
       "text": [
        "\n",
        "saving debug dump to /home/dmoore/python/sigvisa/logs/mcmc/01626/step_000239..."
       ]
      },
      {
       "output_type": "stream",
       "stream": "stdout",
       "text": [
        "\n",
        "saved pickled graph"
       ]
      },
      {
       "output_type": "stream",
       "stream": "stdout",
       "text": [
        "\n",
        "step 240: lp -495.32, accepted arrival_time: 0.061%, coda_decay: 0.105%, coda_height: 0.143%, evdepth: 0.116%, evloc: 0.759%, evloc_big: 0.207%, evmb: 0.917%, evtime: 0.469%, indep_peak: 0.007%, peak_decay: 0.330%, peak_offset: 0.205%, , uatemplates: 0 , events: 1 "
       ]
      },
      {
       "output_type": "stream",
       "stream": "stdout",
       "text": [
        "\n",
        "saving debug dump to /home/dmoore/python/sigvisa/logs/mcmc/01626/step_000249..."
       ]
      },
      {
       "output_type": "stream",
       "stream": "stdout",
       "text": [
        "\n",
        "saved pickled graph"
       ]
      },
      {
       "output_type": "stream",
       "stream": "stdout",
       "text": [
        "\n",
        "step 250: lp -484.19, accepted arrival_time: 0.061%, coda_decay: 0.104%, coda_height: 0.144%, evdepth: 0.112%, evloc: 0.761%, evloc_big: 0.207%, evmb: 0.912%, evtime: 0.470%, indep_peak: 0.006%, peak_decay: 0.327%, peak_offset: 0.205%, , uatemplates: 0 , events: 1 "
       ]
      },
      {
       "output_type": "stream",
       "stream": "stdout",
       "text": [
        "\n",
        "saving debug dump to /home/dmoore/python/sigvisa/logs/mcmc/01626/step_000259..."
       ]
      },
      {
       "output_type": "stream",
       "stream": "stdout",
       "text": [
        "\n",
        "saved pickled graph"
       ]
      },
      {
       "output_type": "stream",
       "stream": "stdout",
       "text": [
        "\n",
        "step 260: lp -483.84, accepted arrival_time: 0.060%, coda_decay: 0.102%, coda_height: 0.143%, evdepth: 0.107%, evloc: 0.766%, evloc_big: 0.207%, evmb: 0.912%, evtime: 0.467%, indep_peak: 0.006%, peak_decay: 0.326%, peak_offset: 0.205%, , uatemplates: 0 , events: 1 "
       ]
      },
      {
       "output_type": "stream",
       "stream": "stdout",
       "text": [
        "\n",
        "saving debug dump to /home/dmoore/python/sigvisa/logs/mcmc/01626/step_000269..."
       ]
      },
      {
       "output_type": "stream",
       "stream": "stdout",
       "text": [
        "\n",
        "saved pickled graph"
       ]
      },
      {
       "output_type": "stream",
       "stream": "stdout",
       "text": [
        "\n",
        "step 270: lp -489.44, accepted arrival_time: 0.060%, coda_decay: 0.101%, coda_height: 0.142%, evdepth: 0.103%, evloc: 0.768%, evloc_big: 0.203%, evmb: 0.911%, evtime: 0.476%, indep_peak: 0.007%, peak_decay: 0.327%, peak_offset: 0.205%, , uatemplates: 0 , events: 1 "
       ]
      },
      {
       "output_type": "stream",
       "stream": "stdout",
       "text": [
        "\n",
        "saving debug dump to /home/dmoore/python/sigvisa/logs/mcmc/01626/step_000279..."
       ]
      },
      {
       "output_type": "stream",
       "stream": "stdout",
       "text": [
        "\n",
        "saved pickled graph"
       ]
      },
      {
       "output_type": "stream",
       "stream": "stdout",
       "text": [
        "\n",
        "step 280: lp -485.88, accepted arrival_time: 0.060%, coda_decay: 0.100%, coda_height: 0.142%, evdepth: 0.110%, evloc: 0.769%, evloc_big: 0.203%, evmb: 0.907%, evtime: 0.477%, indep_peak: 0.006%, peak_decay: 0.331%, peak_offset: 0.203%, , uatemplates: 0 , events: 1 "
       ]
      },
      {
       "output_type": "stream",
       "stream": "stdout",
       "text": [
        "\n",
        "saving debug dump to /home/dmoore/python/sigvisa/logs/mcmc/01626/step_000289..."
       ]
      },
      {
       "output_type": "stream",
       "stream": "stdout",
       "text": [
        "\n",
        "saved pickled graph"
       ]
      },
      {
       "output_type": "stream",
       "stream": "stdout",
       "text": [
        "\n",
        "step 290: lp -481.09, accepted arrival_time: 0.060%, coda_decay: 0.101%, coda_height: 0.143%, evdepth: 0.117%, evloc: 0.766%, evloc_big: 0.199%, evmb: 0.904%, evtime: 0.481%, indep_peak: 0.006%, peak_decay: 0.329%, peak_offset: 0.202%, , uatemplates: 0 , events: 1 "
       ]
      },
      {
       "output_type": "stream",
       "stream": "stdout",
       "text": [
        "\n",
        "saving debug dump to /home/dmoore/python/sigvisa/logs/mcmc/01626/step_000299..."
       ]
      },
      {
       "output_type": "stream",
       "stream": "stdout",
       "text": [
        "\n",
        "saved pickled graph"
       ]
      },
      {
       "output_type": "stream",
       "stream": "stdout",
       "text": [
        "\n",
        "step 300: lp -479.95, accepted arrival_time: 0.059%, coda_decay: 0.101%, coda_height: 0.145%, evdepth: 0.113%, evloc: 0.774%, evloc_big: 0.203%, evmb: 0.904%, evtime: 0.475%, indep_peak: 0.006%, peak_decay: 0.332%, peak_offset: 0.200%, , uatemplates: 0 , events: 1 "
       ]
      },
      {
       "output_type": "stream",
       "stream": "stdout",
       "text": [
        "\n",
        "saving debug dump to /home/dmoore/python/sigvisa/logs/mcmc/01626/step_000309..."
       ]
      },
      {
       "output_type": "stream",
       "stream": "stdout",
       "text": [
        "\n",
        "saved pickled graph"
       ]
      },
      {
       "output_type": "stream",
       "stream": "stdout",
       "text": [
        "\n",
        "step 310: lp -480.89, accepted arrival_time: 0.060%, coda_decay: 0.099%, coda_height: 0.145%, evdepth: 0.109%, evloc: 0.768%, evloc_big: 0.203%, evmb: 0.904%, evtime: 0.473%, indep_peak: 0.006%, peak_decay: 0.332%, peak_offset: 0.199%, , uatemplates: 0 , events: 1 "
       ]
      },
      {
       "output_type": "stream",
       "stream": "stdout",
       "text": [
        "\n",
        "saving debug dump to /home/dmoore/python/sigvisa/logs/mcmc/01626/step_000319..."
       ]
      },
      {
       "output_type": "stream",
       "stream": "stdout",
       "text": [
        "\n",
        "saved pickled graph"
       ]
      },
      {
       "output_type": "stream",
       "stream": "stdout",
       "text": [
        "\n",
        "step 320: lp -485.67, accepted arrival_time: 0.059%, coda_decay: 0.098%, coda_height: 0.144%, evdepth: 0.109%, evloc: 0.776%, evloc_big: 0.199%, evmb: 0.907%, evtime: 0.480%, indep_peak: 0.006%, peak_decay: 0.334%, peak_offset: 0.198%, , uatemplates: 0 , events: 1 "
       ]
      },
      {
       "output_type": "stream",
       "stream": "stdout",
       "text": [
        "\n",
        "saving debug dump to /home/dmoore/python/sigvisa/logs/mcmc/01626/step_000329..."
       ]
      },
      {
       "output_type": "stream",
       "stream": "stdout",
       "text": [
        "\n",
        "saved pickled graph"
       ]
      },
      {
       "output_type": "stream",
       "stream": "stdout",
       "text": [
        "\n",
        "step 330: lp -486.28, accepted arrival_time: 0.059%, coda_decay: 0.098%, coda_height: 0.145%, evdepth: 0.106%, evloc: 0.776%, evloc_big: 0.199%, evmb: 0.906%, evtime: 0.486%, indep_peak: 0.005%, peak_decay: 0.333%, peak_offset: 0.197%, , uatemplates: 0 , events: 1 "
       ]
      },
      {
       "output_type": "stream",
       "stream": "stdout",
       "text": [
        "\n",
        "saving debug dump to /home/dmoore/python/sigvisa/logs/mcmc/01626/step_000339..."
       ]
      },
      {
       "output_type": "stream",
       "stream": "stdout",
       "text": [
        "\n",
        "saved pickled graph"
       ]
      },
      {
       "output_type": "stream",
       "stream": "stdout",
       "text": [
        "\n",
        "step 340: lp -483.34, accepted arrival_time: 0.057%, coda_decay: 0.097%, coda_height: 0.147%, evdepth: 0.103%, evloc: 0.780%, evloc_big: 0.194%, evmb: 0.903%, evtime: 0.478%, indep_peak: 0.006%, peak_decay: 0.336%, peak_offset: 0.196%, , uatemplates: 0 , events: 1 "
       ]
      },
      {
       "output_type": "stream",
       "stream": "stdout",
       "text": [
        "\n",
        "saving debug dump to /home/dmoore/python/sigvisa/logs/mcmc/01626/step_000349..."
       ]
      },
      {
       "output_type": "stream",
       "stream": "stdout",
       "text": [
        "\n",
        "saved pickled graph"
       ]
      },
      {
       "output_type": "stream",
       "stream": "stdout",
       "text": [
        "\n",
        "step 350: lp -478.52, accepted arrival_time: 0.058%, coda_decay: 0.098%, coda_height: 0.145%, evdepth: 0.108%, evloc: 0.783%, evloc_big: 0.199%, evmb: 0.903%, evtime: 0.484%, indep_peak: 0.006%, peak_decay: 0.336%, peak_offset: 0.197%, , uatemplates: 0 , events: 1 "
       ]
      },
      {
       "output_type": "stream",
       "stream": "stdout",
       "text": [
        "\n",
        "saving debug dump to /home/dmoore/python/sigvisa/logs/mcmc/01626/step_000359..."
       ]
      },
      {
       "output_type": "stream",
       "stream": "stdout",
       "text": [
        "\n",
        "saved pickled graph"
       ]
      },
      {
       "output_type": "stream",
       "stream": "stdout",
       "text": [
        "\n",
        "step 360: lp -482.41, accepted arrival_time: 0.056%, coda_decay: 0.099%, coda_height: 0.142%, evdepth: 0.105%, evloc: 0.787%, evloc_big: 0.202%, evmb: 0.906%, evtime: 0.479%, indep_peak: 0.006%, peak_decay: 0.335%, peak_offset: 0.197%, , uatemplates: 0 , events: 1 "
       ]
      },
      {
       "output_type": "stream",
       "stream": "stdout",
       "text": [
        "\n",
        "saving debug dump to /home/dmoore/python/sigvisa/logs/mcmc/01626/step_000369..."
       ]
      },
      {
       "output_type": "stream",
       "stream": "stdout",
       "text": [
        "\n",
        "saved pickled graph"
       ]
      },
      {
       "output_type": "stream",
       "stream": "stdout",
       "text": [
        "\n",
        "step 370: lp -477.79, accepted arrival_time: 0.055%, coda_decay: 0.098%, coda_height: 0.139%, evdepth: 0.105%, evloc: 0.787%, evloc_big: 0.205%, evmb: 0.906%, evtime: 0.469%, indep_peak: 0.006%, peak_decay: 0.337%, peak_offset: 0.198%, , uatemplates: 0 , events: 1 "
       ]
      },
      {
       "output_type": "stream",
       "stream": "stdout",
       "text": [
        "\n",
        "saving debug dump to /home/dmoore/python/sigvisa/logs/mcmc/01626/step_000379..."
       ]
      },
      {
       "output_type": "stream",
       "stream": "stdout",
       "text": [
        "\n",
        "saved pickled graph"
       ]
      },
      {
       "output_type": "stream",
       "stream": "stdout",
       "text": [
        "\n",
        "step 380: lp -479.69, accepted arrival_time: 0.054%, coda_decay: 0.098%, coda_height: 0.137%, evdepth: 0.105%, evloc: 0.787%, evloc_big: 0.202%, evmb: 0.908%, evtime: 0.470%, indep_peak: 0.007%, peak_decay: 0.337%, peak_offset: 0.197%, , uatemplates: 0 , events: 1 "
       ]
      },
      {
       "output_type": "stream",
       "stream": "stdout",
       "text": [
        "\n",
        "saving debug dump to /home/dmoore/python/sigvisa/logs/mcmc/01626/step_000389..."
       ]
      },
      {
       "output_type": "stream",
       "stream": "stdout",
       "text": [
        "\n",
        "saved pickled graph"
       ]
      },
      {
       "output_type": "stream",
       "stream": "stdout",
       "text": [
        "\n",
        "step 390: lp -485.99, accepted arrival_time: 0.054%, coda_decay: 0.097%, coda_height: 0.137%, evdepth: 0.107%, evloc: 0.785%, evloc_big: 0.199%, evmb: 0.908%, evtime: 0.463%, indep_peak: 0.007%, peak_decay: 0.337%, peak_offset: 0.198%, , uatemplates: 0 , events: 1 "
       ]
      },
      {
       "output_type": "stream",
       "stream": "stdout",
       "text": [
        "\n",
        "saving debug dump to /home/dmoore/python/sigvisa/logs/mcmc/01626/step_000399..."
       ]
      },
      {
       "output_type": "stream",
       "stream": "stdout",
       "text": [
        "\n",
        "saved pickled graph"
       ]
      },
      {
       "output_type": "stream",
       "stream": "stdout",
       "text": [
        "\n",
        "step 400: lp -476.55, accepted arrival_time: 0.055%, coda_decay: 0.095%, coda_height: 0.135%, evdepth: 0.110%, evloc: 0.783%, evloc_big: 0.197%, evmb: 0.908%, evtime: 0.464%, indep_peak: 0.006%, peak_decay: 0.337%, peak_offset: 0.198%, , uatemplates: 0 , events: 1 "
       ]
      },
      {
       "output_type": "stream",
       "stream": "stdout",
       "text": [
        "\n",
        "saving debug dump to /home/dmoore/python/sigvisa/logs/mcmc/01626/step_000409..."
       ]
      },
      {
       "output_type": "stream",
       "stream": "stdout",
       "text": [
        "\n",
        "saved pickled graph"
       ]
      },
      {
       "output_type": "stream",
       "stream": "stdout",
       "text": [
        "\n",
        "step 410: lp -480.42, accepted arrival_time: 0.054%, coda_decay: 0.094%, coda_height: 0.135%, evdepth: 0.107%, evloc: 0.781%, evloc_big: 0.197%, evmb: 0.903%, evtime: 0.465%, indep_peak: 0.006%, peak_decay: 0.339%, peak_offset: 0.197%, , uatemplates: 0 , events: 1 "
       ]
      },
      {
       "output_type": "stream",
       "stream": "stdout",
       "text": [
        "\n",
        "saving debug dump to /home/dmoore/python/sigvisa/logs/mcmc/01626/step_000419..."
       ]
      },
      {
       "output_type": "stream",
       "stream": "stdout",
       "text": [
        "\n",
        "saved pickled graph"
       ]
      },
      {
       "output_type": "stream",
       "stream": "stdout",
       "text": [
        "\n",
        "step 420: lp -480.79, accepted arrival_time: 0.055%, coda_decay: 0.093%, coda_height: 0.135%, evdepth: 0.105%, evloc: 0.784%, evloc_big: 0.197%, evmb: 0.903%, evtime: 0.470%, indep_peak: 0.006%, peak_decay: 0.343%, peak_offset: 0.195%, , uatemplates: 0 , events: 1 "
       ]
      },
      {
       "output_type": "stream",
       "stream": "stdout",
       "text": [
        "\n",
        "saving debug dump to /home/dmoore/python/sigvisa/logs/mcmc/01626/step_000429..."
       ]
      },
      {
       "output_type": "stream",
       "stream": "stdout",
       "text": [
        "\n",
        "saved pickled graph"
       ]
      },
      {
       "output_type": "stream",
       "stream": "stdout",
       "text": [
        "\n",
        "step 430: lp -476.07, accepted arrival_time: 0.054%, coda_decay: 0.093%, coda_height: 0.136%, evdepth: 0.102%, evloc: 0.782%, evloc_big: 0.197%, evmb: 0.905%, evtime: 0.471%, indep_peak: 0.006%, peak_decay: 0.344%, peak_offset: 0.194%, , uatemplates: 0 , events: 1 "
       ]
      },
      {
       "output_type": "stream",
       "stream": "stdout",
       "text": [
        "\n",
        "saving debug dump to /home/dmoore/python/sigvisa/logs/mcmc/01626/step_000439..."
       ]
      },
      {
       "output_type": "stream",
       "stream": "stdout",
       "text": [
        "\n",
        "saved pickled graph"
       ]
      },
      {
       "output_type": "stream",
       "stream": "stdout",
       "text": [
        "\n",
        "step 440: lp -479.57, accepted arrival_time: 0.054%, coda_decay: 0.093%, coda_height: 0.137%, evdepth: 0.102%, evloc: 0.785%, evloc_big: 0.200%, evmb: 0.907%, evtime: 0.465%, indep_peak: 0.006%, peak_decay: 0.347%, peak_offset: 0.193%, , uatemplates: 0 , events: 1 "
       ]
      },
      {
       "output_type": "stream",
       "stream": "stdout",
       "text": [
        "\n",
        "saving debug dump to /home/dmoore/python/sigvisa/logs/mcmc/01626/step_000449..."
       ]
      },
      {
       "output_type": "stream",
       "stream": "stdout",
       "text": [
        "\n",
        "saved pickled graph"
       ]
      },
      {
       "output_type": "stream",
       "stream": "stdout",
       "text": [
        "\n",
        "step 450: lp -469.18, accepted arrival_time: 0.054%, coda_decay: 0.093%, coda_height: 0.135%, evdepth: 0.104%, evloc: 0.785%, evloc_big: 0.204%, evmb: 0.909%, evtime: 0.463%, indep_peak: 0.006%, peak_decay: 0.348%, peak_offset: 0.192%, , uatemplates: 0 , events: 1 "
       ]
      },
      {
       "output_type": "stream",
       "stream": "stdout",
       "text": [
        "\n",
        "saving debug dump to /home/dmoore/python/sigvisa/logs/mcmc/01626/step_000459..."
       ]
      },
      {
       "output_type": "stream",
       "stream": "stdout",
       "text": [
        "\n",
        "saved pickled graph"
       ]
      },
      {
       "output_type": "stream",
       "stream": "stdout",
       "text": [
        "\n",
        "step 460: lp -467.06, accepted arrival_time: 0.053%, coda_decay: 0.092%, coda_height: 0.137%, evdepth: 0.102%, evloc: 0.783%, evloc_big: 0.200%, evmb: 0.907%, evtime: 0.466%, indep_peak: 0.006%, peak_decay: 0.348%, peak_offset: 0.190%, , uatemplates: 0 , events: 1 "
       ]
      },
      {
       "output_type": "stream",
       "stream": "stdout",
       "text": [
        "\n",
        "saving debug dump to /home/dmoore/python/sigvisa/logs/mcmc/01626/step_000469..."
       ]
      },
      {
       "output_type": "stream",
       "stream": "stdout",
       "text": [
        "\n",
        "saved pickled graph"
       ]
      },
      {
       "output_type": "stream",
       "stream": "stdout",
       "text": [
        "\n",
        "step 470: lp -473.59, accepted arrival_time: 0.053%, coda_decay: 0.093%, coda_height: 0.137%, evdepth: 0.106%, evloc: 0.783%, evloc_big: 0.197%, evmb: 0.909%, evtime: 0.465%, indep_peak: 0.006%, peak_decay: 0.353%, peak_offset: 0.189%, , uatemplates: 0 , events: 1 "
       ]
      },
      {
       "output_type": "stream",
       "stream": "stdout",
       "text": [
        "\n",
        "saving debug dump to /home/dmoore/python/sigvisa/logs/mcmc/01626/step_000479..."
       ]
      },
      {
       "output_type": "stream",
       "stream": "stdout",
       "text": [
        "\n",
        "saved pickled graph"
       ]
      },
      {
       "output_type": "stream",
       "stream": "stdout",
       "text": [
        "\n",
        "step 480: lp -469.63, accepted arrival_time: 0.052%, coda_decay: 0.094%, coda_height: 0.138%, evdepth: 0.104%, evloc: 0.786%, evloc_big: 0.198%, evmb: 0.911%, evtime: 0.459%, indep_peak: 0.005%, peak_decay: 0.355%, peak_offset: 0.189%, , uatemplates: 0 , events: 1 "
       ]
      },
      {
       "output_type": "stream",
       "stream": "stdout",
       "text": [
        "\n",
        "saving debug dump to /home/dmoore/python/sigvisa/logs/mcmc/01626/step_000489..."
       ]
      },
      {
       "output_type": "stream",
       "stream": "stdout",
       "text": [
        "\n",
        "saved pickled graph"
       ]
      },
      {
       "output_type": "stream",
       "stream": "stdout",
       "text": [
        "\n",
        "step 490: lp -470.64, accepted arrival_time: 0.051%, coda_decay: 0.094%, coda_height: 0.138%, evdepth: 0.102%, evloc: 0.784%, evloc_big: 0.198%, evmb: 0.912%, evtime: 0.452%, indep_peak: 0.005%, peak_decay: 0.357%, peak_offset: 0.189%, , uatemplates: 0 , events: 1 "
       ]
      },
      {
       "output_type": "stream",
       "stream": "stdout",
       "text": [
        "\n",
        "saving debug dump to /home/dmoore/python/sigvisa/logs/mcmc/01626/step_000499..."
       ]
      },
      {
       "output_type": "stream",
       "stream": "stdout",
       "text": [
        "\n",
        "saved pickled graph"
       ]
      },
      {
       "output_type": "stream",
       "stream": "stdout",
       "text": [
        "\n",
        "step 500: lp -474.50, accepted arrival_time: 0.050%, coda_decay: 0.094%, coda_height: 0.140%, evdepth: 0.100%, evloc: 0.788%, evloc_big: 0.200%, evmb: 0.912%, evtime: 0.451%, indep_peak: 0.005%, peak_decay: 0.356%, peak_offset: 0.188%, , uatemplates: 0 , events: 1 "
       ]
      },
      {
       "output_type": "stream",
       "stream": "stdout",
       "text": [
        "\n",
        "saving debug dump to /home/dmoore/python/sigvisa/logs/mcmc/01626/step_000509..."
       ]
      },
      {
       "output_type": "stream",
       "stream": "stdout",
       "text": [
        "\n",
        "saved pickled graph"
       ]
      },
      {
       "output_type": "stream",
       "stream": "stdout",
       "text": [
        "\n",
        "step 510: lp -472.93, accepted arrival_time: 0.050%, coda_decay: 0.093%, coda_height: 0.139%, evdepth: 0.098%, evloc: 0.791%, evloc_big: 0.198%, evmb: 0.912%, evtime: 0.448%, indep_peak: 0.005%, peak_decay: 0.357%, peak_offset: 0.188%, , uatemplates: 0 , events: 1 "
       ]
      },
      {
       "output_type": "stream",
       "stream": "stdout",
       "text": [
        "\n",
        "saving debug dump to /home/dmoore/python/sigvisa/logs/mcmc/01626/step_000519..."
       ]
      },
      {
       "output_type": "stream",
       "stream": "stdout",
       "text": [
        "\n",
        "saved pickled graph"
       ]
      },
      {
       "output_type": "stream",
       "stream": "stdout",
       "text": [
        "\n",
        "step 520: lp -476.48, accepted arrival_time: 0.051%, coda_decay: 0.093%, coda_height: 0.137%, evdepth: 0.096%, evloc: 0.793%, evloc_big: 0.196%, evmb: 0.912%, evtime: 0.443%, indep_peak: 0.005%, peak_decay: 0.358%, peak_offset: 0.189%, , uatemplates: 0 , events: 1 "
       ]
      },
      {
       "output_type": "stream",
       "stream": "stdout",
       "text": [
        "\n",
        "saving debug dump to /home/dmoore/python/sigvisa/logs/mcmc/01626/step_000529..."
       ]
      },
      {
       "output_type": "stream",
       "stream": "stdout",
       "text": [
        "\n",
        "saved pickled graph"
       ]
      },
      {
       "output_type": "stream",
       "stream": "stdout",
       "text": [
        "\n",
        "step 530: lp -476.68, accepted arrival_time: 0.050%, coda_decay: 0.092%, coda_height: 0.136%, evdepth: 0.094%, evloc: 0.791%, evloc_big: 0.202%, evmb: 0.911%, evtime: 0.443%, indep_peak: 0.005%, peak_decay: 0.358%, peak_offset: 0.189%, , uatemplates: 0 , events: 1 "
       ]
      },
      {
       "output_type": "stream",
       "stream": "stdout",
       "text": [
        "\n",
        "saving debug dump to /home/dmoore/python/sigvisa/logs/mcmc/01626/step_000539..."
       ]
      },
      {
       "output_type": "stream",
       "stream": "stdout",
       "text": [
        "\n",
        "saved pickled graph"
       ]
      },
      {
       "output_type": "stream",
       "stream": "stdout",
       "text": [
        "\n",
        "step 540: lp -470.67, accepted arrival_time: 0.051%, coda_decay: 0.092%, coda_height: 0.136%, evdepth: 0.092%, evloc: 0.791%, evloc_big: 0.201%, evmb: 0.913%, evtime: 0.444%, indep_peak: 0.005%, peak_decay: 0.359%, peak_offset: 0.189%, , uatemplates: 0 , events: 1 "
       ]
      },
      {
       "output_type": "stream",
       "stream": "stdout",
       "text": [
        "\n",
        "saving debug dump to /home/dmoore/python/sigvisa/logs/mcmc/01626/step_000549..."
       ]
      },
      {
       "output_type": "stream",
       "stream": "stdout",
       "text": [
        "\n",
        "saved pickled graph"
       ]
      },
      {
       "output_type": "stream",
       "stream": "stdout",
       "text": [
        "\n",
        "step 550: lp -469.47, accepted arrival_time: 0.050%, coda_decay: 0.093%, coda_height: 0.137%, evdepth: 0.096%, evloc: 0.786%, evloc_big: 0.201%, evmb: 0.915%, evtime: 0.445%, indep_peak: 0.005%, peak_decay: 0.358%, peak_offset: 0.188%, , uatemplates: 0 , events: 1 "
       ]
      },
      {
       "output_type": "stream",
       "stream": "stdout",
       "text": [
        "\n",
        "saving debug dump to /home/dmoore/python/sigvisa/logs/mcmc/01626/step_000559..."
       ]
      },
      {
       "output_type": "stream",
       "stream": "stdout",
       "text": [
        "\n",
        "saved pickled graph"
       ]
      },
      {
       "output_type": "stream",
       "stream": "stdout",
       "text": [
        "\n",
        "step 560: lp -470.12, accepted arrival_time: 0.051%, coda_decay: 0.092%, coda_height: 0.137%, evdepth: 0.096%, evloc: 0.786%, evloc_big: 0.201%, evmb: 0.916%, evtime: 0.444%, indep_peak: 0.005%, peak_decay: 0.359%, peak_offset: 0.188%, , uatemplates: 0 , events: 1 "
       ]
      },
      {
       "output_type": "stream",
       "stream": "stdout",
       "text": [
        "\n",
        "saving debug dump to /home/dmoore/python/sigvisa/logs/mcmc/01626/step_000569..."
       ]
      },
      {
       "output_type": "stream",
       "stream": "stdout",
       "text": [
        "\n",
        "saved pickled graph"
       ]
      },
      {
       "output_type": "stream",
       "stream": "stdout",
       "text": [
        "\n",
        "step 570: lp -467.05, accepted arrival_time: 0.050%, coda_decay: 0.091%, coda_height: 0.136%, evdepth: 0.098%, evloc: 0.788%, evloc_big: 0.203%, evmb: 0.918%, evtime: 0.440%, indep_peak: 0.005%, peak_decay: 0.359%, peak_offset: 0.187%, , uatemplates: 0 , events: 1 "
       ]
      },
      {
       "output_type": "stream",
       "stream": "stdout",
       "text": [
        "\n",
        "saving debug dump to /home/dmoore/python/sigvisa/logs/mcmc/01626/step_000579..."
       ]
      },
      {
       "output_type": "stream",
       "stream": "stdout",
       "text": [
        "\n",
        "saved pickled graph"
       ]
      },
      {
       "output_type": "stream",
       "stream": "stdout",
       "text": [
        "\n",
        "step 580: lp -469.74, accepted arrival_time: 0.050%, coda_decay: 0.092%, coda_height: 0.135%, evdepth: 0.103%, evloc: 0.787%, evloc_big: 0.208%, evmb: 0.919%, evtime: 0.442%, indep_peak: 0.005%, peak_decay: 0.361%, peak_offset: 0.187%, , uatemplates: 0 , events: 1 "
       ]
      },
      {
       "output_type": "stream",
       "stream": "stdout",
       "text": [
        "\n",
        "saving debug dump to /home/dmoore/python/sigvisa/logs/mcmc/01626/step_000589..."
       ]
      },
      {
       "output_type": "stream",
       "stream": "stdout",
       "text": [
        "\n",
        "saved pickled graph"
       ]
      },
      {
       "output_type": "stream",
       "stream": "stdout",
       "text": [
        "\n",
        "step 590: lp -472.36, accepted arrival_time: 0.050%, coda_decay: 0.092%, coda_height: 0.135%, evdepth: 0.103%, evloc: 0.785%, evloc_big: 0.213%, evmb: 0.920%, evtime: 0.443%, indep_peak: 0.006%, peak_decay: 0.361%, peak_offset: 0.187%, , uatemplates: 0 , events: 1 "
       ]
      },
      {
       "output_type": "stream",
       "stream": "stdout",
       "text": [
        "\n",
        "saving debug dump to /home/dmoore/python/sigvisa/logs/mcmc/01626/step_000599..."
       ]
      },
      {
       "output_type": "stream",
       "stream": "stdout",
       "text": [
        "\n",
        "saved pickled graph"
       ]
      },
      {
       "output_type": "stream",
       "stream": "stdout",
       "text": [
        "\n",
        "step 600: lp -473.49, accepted arrival_time: 0.050%, coda_decay: 0.093%, coda_height: 0.135%, evdepth: 0.101%, evloc: 0.787%, evloc_big: 0.211%, evmb: 0.922%, evtime: 0.444%, indep_peak: 0.006%, peak_decay: 0.361%, peak_offset: 0.188%, , uatemplates: 0 , events: 1 "
       ]
      },
      {
       "output_type": "stream",
       "stream": "stdout",
       "text": [
        "\n",
        "saving debug dump to /home/dmoore/python/sigvisa/logs/mcmc/01626/step_000609..."
       ]
      },
      {
       "output_type": "stream",
       "stream": "stdout",
       "text": [
        "\n",
        "saved pickled graph"
       ]
      },
      {
       "output_type": "stream",
       "stream": "stdout",
       "text": [
        "\n",
        "step 610: lp -476.06, accepted arrival_time: 0.049%, coda_decay: 0.093%, coda_height: 0.135%, evdepth: 0.100%, evloc: 0.782%, evloc_big: 0.211%, evmb: 0.923%, evtime: 0.444%, indep_peak: 0.006%, peak_decay: 0.361%, peak_offset: 0.188%, , uatemplates: 0 , events: 1 "
       ]
      },
      {
       "output_type": "stream",
       "stream": "stdout",
       "text": [
        "\n",
        "saving debug dump to /home/dmoore/python/sigvisa/logs/mcmc/01626/step_000619..."
       ]
      },
      {
       "output_type": "stream",
       "stream": "stdout",
       "text": [
        "\n",
        "saved pickled graph"
       ]
      },
      {
       "output_type": "stream",
       "stream": "stdout",
       "text": [
        "\n",
        "step 620: lp -468.22, accepted arrival_time: 0.048%, coda_decay: 0.093%, coda_height: 0.135%, evdepth: 0.100%, evloc: 0.778%, evloc_big: 0.211%, evmb: 0.924%, evtime: 0.444%, indep_peak: 0.005%, peak_decay: 0.361%, peak_offset: 0.187%, , uatemplates: 0 , events: 1 "
       ]
      },
      {
       "output_type": "stream",
       "stream": "stdout",
       "text": [
        "\n",
        "saving debug dump to /home/dmoore/python/sigvisa/logs/mcmc/01626/step_000629..."
       ]
      },
      {
       "output_type": "stream",
       "stream": "stdout",
       "text": [
        "\n",
        "saved pickled graph"
       ]
      },
      {
       "output_type": "stream",
       "stream": "stdout",
       "text": [
        "\n",
        "step 630: lp -472.16, accepted arrival_time: 0.048%, coda_decay: 0.092%, coda_height: 0.135%, evdepth: 0.100%, evloc: 0.780%, evloc_big: 0.208%, evmb: 0.926%, evtime: 0.442%, indep_peak: 0.005%, peak_decay: 0.361%, peak_offset: 0.186%, , uatemplates: 0 , events: 1 "
       ]
      },
      {
       "output_type": "stream",
       "stream": "stdout",
       "text": [
        "\n",
        "saving debug dump to /home/dmoore/python/sigvisa/logs/mcmc/01626/step_000639..."
       ]
      },
      {
       "output_type": "stream",
       "stream": "stdout",
       "text": [
        "\n",
        "saved pickled graph"
       ]
      },
      {
       "output_type": "stream",
       "stream": "stdout",
       "text": [
        "\n",
        "step 640: lp -472.75, accepted arrival_time: 0.048%, coda_decay: 0.092%, coda_height: 0.134%, evdepth: 0.101%, evloc: 0.782%, evloc_big: 0.206%, evmb: 0.925%, evtime: 0.441%, indep_peak: 0.005%, peak_decay: 0.361%, peak_offset: 0.186%, , uatemplates: 0 , events: 1 "
       ]
      },
      {
       "output_type": "stream",
       "stream": "stdout",
       "text": [
        "\n",
        "saving debug dump to /home/dmoore/python/sigvisa/logs/mcmc/01626/step_000649..."
       ]
      },
      {
       "output_type": "stream",
       "stream": "stdout",
       "text": [
        "\n",
        "saved pickled graph"
       ]
      },
      {
       "output_type": "stream",
       "stream": "stdout",
       "text": [
        "\n",
        "step 650: lp -465.57, accepted arrival_time: 0.047%, coda_decay: 0.091%, coda_height: 0.133%, evdepth: 0.100%, evloc: 0.783%, evloc_big: 0.206%, evmb: 0.925%, evtime: 0.442%, indep_peak: 0.006%, peak_decay: 0.361%, peak_offset: 0.187%, , uatemplates: 0 , events: 1 "
       ]
      },
      {
       "output_type": "stream",
       "stream": "stdout",
       "text": [
        "\n",
        "saving debug dump to /home/dmoore/python/sigvisa/logs/mcmc/01626/step_000659..."
       ]
      },
      {
       "output_type": "stream",
       "stream": "stdout",
       "text": [
        "\n",
        "saved pickled graph"
       ]
      },
      {
       "output_type": "stream",
       "stream": "stdout",
       "text": [
        "\n",
        "step 660: lp -472.57, accepted arrival_time: 0.047%, coda_decay: 0.091%, coda_height: 0.133%, evdepth: 0.101%, evloc: 0.782%, evloc_big: 0.207%, evmb: 0.924%, evtime: 0.445%, indep_peak: 0.005%, peak_decay: 0.361%, peak_offset: 0.186%, , uatemplates: 0 , events: 1 "
       ]
      },
      {
       "output_type": "stream",
       "stream": "stdout",
       "text": [
        "\n",
        "saving debug dump to /home/dmoore/python/sigvisa/logs/mcmc/01626/step_000669..."
       ]
      },
      {
       "output_type": "stream",
       "stream": "stdout",
       "text": [
        "\n",
        "saved pickled graph"
       ]
      },
      {
       "output_type": "stream",
       "stream": "stdout",
       "text": [
        "\n",
        "step 670: lp -474.94, accepted arrival_time: 0.047%, coda_decay: 0.091%, coda_height: 0.132%, evdepth: 0.100%, evloc: 0.782%, evloc_big: 0.204%, evmb: 0.924%, evtime: 0.450%, indep_peak: 0.006%, peak_decay: 0.362%, peak_offset: 0.185%, , uatemplates: 0 , events: 1 "
       ]
      },
      {
       "output_type": "stream",
       "stream": "stdout",
       "text": [
        "\n",
        "saving debug dump to /home/dmoore/python/sigvisa/logs/mcmc/01626/step_000679..."
       ]
      },
      {
       "output_type": "stream",
       "stream": "stdout",
       "text": [
        "\n",
        "saved pickled graph"
       ]
      },
      {
       "output_type": "stream",
       "stream": "stdout",
       "text": [
        "\n",
        "step 680: lp -476.72, accepted arrival_time: 0.046%, coda_decay: 0.091%, coda_height: 0.132%, evdepth: 0.101%, evloc: 0.784%, evloc_big: 0.206%, evmb: 0.925%, evtime: 0.452%, indep_peak: 0.006%, peak_decay: 0.362%, peak_offset: 0.185%, , uatemplates: 0 , events: 1 "
       ]
      },
      {
       "output_type": "stream",
       "stream": "stdout",
       "text": [
        "\n",
        "saving debug dump to /home/dmoore/python/sigvisa/logs/mcmc/01626/step_000689..."
       ]
      },
      {
       "output_type": "stream",
       "stream": "stdout",
       "text": [
        "\n",
        "saved pickled graph"
       ]
      },
      {
       "output_type": "stream",
       "stream": "stdout",
       "text": [
        "\n",
        "step 690: lp -474.97, accepted arrival_time: 0.047%, coda_decay: 0.092%, coda_height: 0.132%, evdepth: 0.103%, evloc: 0.781%, evloc_big: 0.204%, evmb: 0.923%, evtime: 0.453%, indep_peak: 0.005%, peak_decay: 0.361%, peak_offset: 0.185%, , uatemplates: 0 , events: 1 "
       ]
      },
      {
       "output_type": "stream",
       "stream": "stdout",
       "text": [
        "\n",
        "saving debug dump to /home/dmoore/python/sigvisa/logs/mcmc/01626/step_000699..."
       ]
      },
      {
       "output_type": "stream",
       "stream": "stdout",
       "text": [
        "\n",
        "saved pickled graph"
       ]
      },
      {
       "output_type": "stream",
       "stream": "stdout",
       "text": [
        "\n",
        "step 700: lp -474.20, accepted arrival_time: 0.046%, coda_decay: 0.092%, coda_height: 0.132%, evdepth: 0.103%, evloc: 0.780%, evloc_big: 0.205%, evmb: 0.922%, evtime: 0.452%, indep_peak: 0.006%, peak_decay: 0.359%, peak_offset: 0.184%, , uatemplates: 0 , events: 1 "
       ]
      },
      {
       "output_type": "stream",
       "stream": "stdout",
       "text": [
        "\n",
        "saving debug dump to /home/dmoore/python/sigvisa/logs/mcmc/01626/step_000709..."
       ]
      },
      {
       "output_type": "stream",
       "stream": "stdout",
       "text": [
        "\n",
        "saved pickled graph"
       ]
      },
      {
       "output_type": "stream",
       "stream": "stdout",
       "text": [
        "\n",
        "step 710: lp -468.31, accepted arrival_time: 0.046%, coda_decay: 0.091%, coda_height: 0.132%, evdepth: 0.103%, evloc: 0.782%, evloc_big: 0.204%, evmb: 0.923%, evtime: 0.456%, indep_peak: 0.006%, peak_decay: 0.360%, peak_offset: 0.184%, , uatemplates: 0 , events: 1 "
       ]
      },
      {
       "output_type": "stream",
       "stream": "stdout",
       "text": [
        "\n",
        "saving debug dump to /home/dmoore/python/sigvisa/logs/mcmc/01626/step_000719..."
       ]
      },
      {
       "output_type": "stream",
       "stream": "stdout",
       "text": [
        "\n",
        "saved pickled graph"
       ]
      },
      {
       "output_type": "stream",
       "stream": "stdout",
       "text": [
        "\n",
        "step 720: lp -477.26, accepted arrival_time: 0.046%, coda_decay: 0.090%, coda_height: 0.132%, evdepth: 0.101%, evloc: 0.785%, evloc_big: 0.202%, evmb: 0.922%, evtime: 0.454%, indep_peak: 0.006%, peak_decay: 0.360%, peak_offset: 0.183%, , uatemplates: 0 , events: 1 "
       ]
      },
      {
       "output_type": "stream",
       "stream": "stdout",
       "text": [
        "\n",
        "saving debug dump to /home/dmoore/python/sigvisa/logs/mcmc/01626/step_000729..."
       ]
      },
      {
       "output_type": "stream",
       "stream": "stdout",
       "text": [
        "\n",
        "saved pickled graph"
       ]
      },
      {
       "output_type": "stream",
       "stream": "stdout",
       "text": [
        "\n",
        "step 730: lp -468.39, accepted arrival_time: 0.046%, coda_decay: 0.091%, coda_height: 0.131%, evdepth: 0.100%, evloc: 0.788%, evloc_big: 0.202%, evmb: 0.923%, evtime: 0.456%, indep_peak: 0.006%, peak_decay: 0.359%, peak_offset: 0.183%, , uatemplates: 0 , events: 1 "
       ]
      },
      {
       "output_type": "stream",
       "stream": "stdout",
       "text": [
        "\n",
        "saving debug dump to /home/dmoore/python/sigvisa/logs/mcmc/01626/step_000739..."
       ]
      },
      {
       "output_type": "stream",
       "stream": "stdout",
       "text": [
        "\n",
        "saved pickled graph"
       ]
      },
      {
       "output_type": "stream",
       "stream": "stdout",
       "text": [
        "\n",
        "step 740: lp -466.66, accepted arrival_time: 0.045%, coda_decay: 0.090%, coda_height: 0.131%, evdepth: 0.099%, evloc: 0.789%, evloc_big: 0.200%, evmb: 0.924%, evtime: 0.456%, indep_peak: 0.006%, peak_decay: 0.359%, peak_offset: 0.182%, , uatemplates: 0 , events: 1 "
       ]
      },
      {
       "output_type": "stream",
       "stream": "stdout",
       "text": [
        "\n",
        "saving debug dump to /home/dmoore/python/sigvisa/logs/mcmc/01626/step_000749..."
       ]
      },
      {
       "output_type": "stream",
       "stream": "stdout",
       "text": [
        "\n",
        "saved pickled graph"
       ]
      },
      {
       "output_type": "stream",
       "stream": "stdout",
       "text": [
        "\n",
        "step 750: lp -468.27, accepted arrival_time: 0.045%, coda_decay: 0.090%, coda_height: 0.132%, evdepth: 0.097%, evloc: 0.790%, evloc_big: 0.198%, evmb: 0.925%, evtime: 0.455%, indep_peak: 0.006%, peak_decay: 0.359%, peak_offset: 0.183%, , uatemplates: 0 , events: 1 "
       ]
      },
      {
       "output_type": "stream",
       "stream": "stdout",
       "text": [
        "\n",
        "saving debug dump to /home/dmoore/python/sigvisa/logs/mcmc/01626/step_000759..."
       ]
      },
      {
       "output_type": "stream",
       "stream": "stdout",
       "text": [
        "\n",
        "saved pickled graph"
       ]
      },
      {
       "output_type": "stream",
       "stream": "stdout",
       "text": [
        "\n",
        "step 760: lp -465.58, accepted arrival_time: 0.046%, coda_decay: 0.090%, coda_height: 0.130%, evdepth: 0.096%, evloc: 0.790%, evloc_big: 0.200%, evmb: 0.925%, evtime: 0.456%, indep_peak: 0.006%, peak_decay: 0.358%, peak_offset: 0.183%, , uatemplates: 0 , events: 1 "
       ]
      },
      {
       "output_type": "stream",
       "stream": "stdout",
       "text": [
        "\n",
        "saving debug dump to /home/dmoore/python/sigvisa/logs/mcmc/01626/step_000769..."
       ]
      },
      {
       "output_type": "stream",
       "stream": "stdout",
       "text": [
        "\n",
        "saved pickled graph"
       ]
      },
      {
       "output_type": "stream",
       "stream": "stdout",
       "text": [
        "\n",
        "step 770: lp -465.41, accepted arrival_time: 0.046%, coda_decay: 0.089%, coda_height: 0.130%, evdepth: 0.095%, evloc: 0.789%, evloc_big: 0.201%, evmb: 0.923%, evtime: 0.455%, indep_peak: 0.006%, peak_decay: 0.357%, peak_offset: 0.182%, , uatemplates: 0 , events: 1 "
       ]
      },
      {
       "output_type": "stream",
       "stream": "stdout",
       "text": [
        "\n",
        "saving debug dump to /home/dmoore/python/sigvisa/logs/mcmc/01626/step_000779..."
       ]
      },
      {
       "output_type": "stream",
       "stream": "stdout",
       "text": [
        "\n",
        "saved pickled graph"
       ]
      },
      {
       "output_type": "stream",
       "stream": "stdout",
       "text": [
        "\n",
        "step 780: lp -475.51, accepted arrival_time: 0.046%, coda_decay: 0.089%, coda_height: 0.130%, evdepth: 0.095%, evloc: 0.790%, evloc_big: 0.200%, evmb: 0.922%, evtime: 0.453%, indep_peak: 0.006%, peak_decay: 0.357%, peak_offset: 0.182%, , uatemplates: 0 , events: 1 "
       ]
      },
      {
       "output_type": "stream",
       "stream": "stdout",
       "text": [
        "\n",
        "saving debug dump to /home/dmoore/python/sigvisa/logs/mcmc/01626/step_000789..."
       ]
      },
      {
       "output_type": "stream",
       "stream": "stdout",
       "text": [
        "\n",
        "saved pickled graph"
       ]
      },
      {
       "output_type": "stream",
       "stream": "stdout",
       "text": [
        "\n",
        "step 790: lp -473.34, accepted arrival_time: 0.046%, coda_decay: 0.088%, coda_height: 0.129%, evdepth: 0.094%, evloc: 0.791%, evloc_big: 0.200%, evmb: 0.920%, evtime: 0.450%, indep_peak: 0.006%, peak_decay: 0.357%, peak_offset: 0.182%, , uatemplates: 0 , events: 1 "
       ]
      },
      {
       "output_type": "stream",
       "stream": "stdout",
       "text": [
        "\n",
        "saving debug dump to /home/dmoore/python/sigvisa/logs/mcmc/01626/step_000799..."
       ]
      },
      {
       "output_type": "stream",
       "stream": "stdout",
       "text": [
        "\n",
        "saved pickled graph"
       ]
      },
      {
       "output_type": "stream",
       "stream": "stdout",
       "text": [
        "\n",
        "step 800: lp -466.18, accepted arrival_time: 0.046%, coda_decay: 0.088%, coda_height: 0.130%, evdepth: 0.094%, evloc: 0.792%, evloc_big: 0.199%, evmb: 0.921%, evtime: 0.452%, indep_peak: 0.005%, peak_decay: 0.356%, peak_offset: 0.182%, , uatemplates: 0 , events: 1 "
       ]
      },
      {
       "output_type": "stream",
       "stream": "stdout",
       "text": [
        "\n",
        "saving debug dump to /home/dmoore/python/sigvisa/logs/mcmc/01626/step_000809..."
       ]
      },
      {
       "output_type": "stream",
       "stream": "stdout",
       "text": [
        "\n",
        "saved pickled graph"
       ]
      },
      {
       "output_type": "stream",
       "stream": "stdout",
       "text": [
        "\n",
        "step 810: lp -471.67, accepted arrival_time: 0.045%, coda_decay: 0.089%, coda_height: 0.130%, evdepth: 0.094%, evloc: 0.794%, evloc_big: 0.201%, evmb: 0.921%, evtime: 0.451%, indep_peak: 0.005%, peak_decay: 0.355%, peak_offset: 0.182%, , uatemplates: 0 , events: 1 "
       ]
      },
      {
       "output_type": "stream",
       "stream": "stdout",
       "text": [
        "\n",
        "saving debug dump to /home/dmoore/python/sigvisa/logs/mcmc/01626/step_000819..."
       ]
      },
      {
       "output_type": "stream",
       "stream": "stdout",
       "text": [
        "\n",
        "saved pickled graph"
       ]
      },
      {
       "output_type": "stream",
       "stream": "stdout",
       "text": [
        "\n",
        "step 820: lp -465.39, accepted arrival_time: 0.045%, coda_decay: 0.089%, coda_height: 0.130%, evdepth: 0.093%, evloc: 0.792%, evloc_big: 0.200%, evmb: 0.922%, evtime: 0.449%, indep_peak: 0.005%, peak_decay: 0.355%, peak_offset: 0.181%, , uatemplates: 0 , events: 1 "
       ]
      },
      {
       "output_type": "stream",
       "stream": "stdout",
       "text": [
        "\n",
        "saving debug dump to /home/dmoore/python/sigvisa/logs/mcmc/01626/step_000829..."
       ]
      },
      {
       "output_type": "stream",
       "stream": "stdout",
       "text": [
        "\n",
        "saved pickled graph"
       ]
      },
      {
       "output_type": "stream",
       "stream": "stdout",
       "text": [
        "\n",
        "step 830: lp -473.11, accepted arrival_time: 0.045%, coda_decay: 0.089%, coda_height: 0.129%, evdepth: 0.093%, evloc: 0.794%, evloc_big: 0.200%, evmb: 0.923%, evtime: 0.450%, indep_peak: 0.005%, peak_decay: 0.358%, peak_offset: 0.181%, , uatemplates: 0 , events: 1 "
       ]
      },
      {
       "output_type": "stream",
       "stream": "stdout",
       "text": [
        "\n",
        "saving debug dump to /home/dmoore/python/sigvisa/logs/mcmc/01626/step_000839..."
       ]
      },
      {
       "output_type": "stream",
       "stream": "stdout",
       "text": [
        "\n",
        "saved pickled graph"
       ]
      },
      {
       "output_type": "stream",
       "stream": "stdout",
       "text": [
        "\n",
        "step 840: lp -477.24, accepted arrival_time: 0.045%, coda_decay: 0.088%, coda_height: 0.129%, evdepth: 0.092%, evloc: 0.794%, evloc_big: 0.197%, evmb: 0.924%, evtime: 0.449%, indep_peak: 0.005%, peak_decay: 0.357%, peak_offset: 0.181%, , uatemplates: 0 , events: 1 "
       ]
      },
      {
       "output_type": "stream",
       "stream": "stdout",
       "text": [
        "\n",
        "saving debug dump to /home/dmoore/python/sigvisa/logs/mcmc/01626/step_000849..."
       ]
      },
      {
       "output_type": "stream",
       "stream": "stdout",
       "text": [
        "\n",
        "saved pickled graph"
       ]
      },
      {
       "output_type": "stream",
       "stream": "stdout",
       "text": [
        "\n",
        "step 850: lp -468.54, accepted arrival_time: 0.045%, coda_decay: 0.089%, coda_height: 0.129%, evdepth: 0.094%, evloc: 0.792%, evloc_big: 0.199%, evmb: 0.924%, evtime: 0.449%, indep_peak: 0.005%, peak_decay: 0.358%, peak_offset: 0.180%, , uatemplates: 0 , events: 1 "
       ]
      },
      {
       "output_type": "stream",
       "stream": "stdout",
       "text": [
        "\n",
        "saving debug dump to /home/dmoore/python/sigvisa/logs/mcmc/01626/step_000859..."
       ]
      },
      {
       "output_type": "stream",
       "stream": "stdout",
       "text": [
        "\n",
        "saved pickled graph"
       ]
      },
      {
       "output_type": "stream",
       "stream": "stdout",
       "text": [
        "\n",
        "step 860: lp -467.53, accepted arrival_time: 0.045%, coda_decay: 0.089%, coda_height: 0.128%, evdepth: 0.095%, evloc: 0.793%, evloc_big: 0.199%, evmb: 0.923%, evtime: 0.448%, indep_peak: 0.005%, peak_decay: 0.360%, peak_offset: 0.181%, , uatemplates: 0 , events: 1 "
       ]
      },
      {
       "output_type": "stream",
       "stream": "stdout",
       "text": [
        "\n",
        "saving debug dump to /home/dmoore/python/sigvisa/logs/mcmc/01626/step_000869..."
       ]
      },
      {
       "output_type": "stream",
       "stream": "stdout",
       "text": [
        "\n",
        "saved pickled graph"
       ]
      },
      {
       "output_type": "stream",
       "stream": "stdout",
       "text": [
        "\n",
        "step 870: lp -464.73, accepted arrival_time: 0.044%, coda_decay: 0.088%, coda_height: 0.127%, evdepth: 0.095%, evloc: 0.794%, evloc_big: 0.197%, evmb: 0.923%, evtime: 0.447%, indep_peak: 0.005%, peak_decay: 0.360%, peak_offset: 0.181%, , uatemplates: 0 , events: 1 "
       ]
      },
      {
       "output_type": "stream",
       "stream": "stdout",
       "text": [
        "\n",
        "saving debug dump to /home/dmoore/python/sigvisa/logs/mcmc/01626/step_000879..."
       ]
      },
      {
       "output_type": "stream",
       "stream": "stdout",
       "text": [
        "\n",
        "saved pickled graph"
       ]
      },
      {
       "output_type": "stream",
       "stream": "stdout",
       "text": [
        "\n",
        "step 880: lp -470.68, accepted arrival_time: 0.045%, coda_decay: 0.089%, coda_height: 0.128%, evdepth: 0.095%, evloc: 0.796%, evloc_big: 0.198%, evmb: 0.924%, evtime: 0.444%, indep_peak: 0.005%, peak_decay: 0.361%, peak_offset: 0.181%, , uatemplates: 0 , events: 1 "
       ]
      },
      {
       "output_type": "stream",
       "stream": "stdout",
       "text": [
        "\n",
        "saving debug dump to /home/dmoore/python/sigvisa/logs/mcmc/01626/step_000889..."
       ]
      },
      {
       "output_type": "stream",
       "stream": "stdout",
       "text": [
        "\n",
        "saved pickled graph"
       ]
      },
      {
       "output_type": "stream",
       "stream": "stdout",
       "text": [
        "\n",
        "step 890: lp -468.70, accepted arrival_time: 0.045%, coda_decay: 0.089%, coda_height: 0.127%, evdepth: 0.097%, evloc: 0.797%, evloc_big: 0.199%, evmb: 0.923%, evtime: 0.443%, indep_peak: 0.005%, peak_decay: 0.361%, peak_offset: 0.180%, , uatemplates: 0 , events: 1 "
       ]
      },
      {
       "output_type": "stream",
       "stream": "stdout",
       "text": [
        "\n",
        "saving debug dump to /home/dmoore/python/sigvisa/logs/mcmc/01626/step_000899..."
       ]
      },
      {
       "output_type": "stream",
       "stream": "stdout",
       "text": [
        "\n",
        "saved pickled graph"
       ]
      },
      {
       "output_type": "stream",
       "stream": "stdout",
       "text": [
        "\n",
        "step 900: lp -465.91, accepted arrival_time: 0.045%, coda_decay: 0.089%, coda_height: 0.127%, evdepth: 0.097%, evloc: 0.798%, evloc_big: 0.199%, evmb: 0.923%, evtime: 0.442%, indep_peak: 0.005%, peak_decay: 0.361%, peak_offset: 0.180%, , uatemplates: 0 , events: 1 "
       ]
      },
      {
       "output_type": "stream",
       "stream": "stdout",
       "text": [
        "\n",
        "saving debug dump to /home/dmoore/python/sigvisa/logs/mcmc/01626/step_000909..."
       ]
      },
      {
       "output_type": "stream",
       "stream": "stdout",
       "text": [
        "\n",
        "saved pickled graph"
       ]
      },
      {
       "output_type": "stream",
       "stream": "stdout",
       "text": [
        "\n",
        "step 910: lp -466.96, accepted arrival_time: 0.045%, coda_decay: 0.089%, coda_height: 0.126%, evdepth: 0.097%, evloc: 0.795%, evloc_big: 0.199%, evmb: 0.924%, evtime: 0.441%, indep_peak: 0.005%, peak_decay: 0.362%, peak_offset: 0.180%, , uatemplates: 0 , events: 1 "
       ]
      },
      {
       "output_type": "stream",
       "stream": "stdout",
       "text": [
        "\n",
        "saving debug dump to /home/dmoore/python/sigvisa/logs/mcmc/01626/step_000919..."
       ]
      },
      {
       "output_type": "stream",
       "stream": "stdout",
       "text": [
        "\n",
        "saved pickled graph"
       ]
      },
      {
       "output_type": "stream",
       "stream": "stdout",
       "text": [
        "\n",
        "step 920: lp -470.00, accepted arrival_time: 0.045%, coda_decay: 0.089%, coda_height: 0.126%, evdepth: 0.098%, evloc: 0.795%, evloc_big: 0.202%, evmb: 0.924%, evtime: 0.436%, indep_peak: 0.005%, peak_decay: 0.362%, peak_offset: 0.180%, , uatemplates: 0 , events: 1 "
       ]
      },
      {
       "output_type": "stream",
       "stream": "stdout",
       "text": [
        "\n",
        "saving debug dump to /home/dmoore/python/sigvisa/logs/mcmc/01626/step_000929..."
       ]
      },
      {
       "output_type": "stream",
       "stream": "stdout",
       "text": [
        "\n",
        "saved pickled graph"
       ]
      },
      {
       "output_type": "stream",
       "stream": "stdout",
       "text": [
        "\n",
        "step 930: lp -475.87, accepted arrival_time: 0.045%, coda_decay: 0.089%, coda_height: 0.126%, evdepth: 0.098%, evloc: 0.793%, evloc_big: 0.201%, evmb: 0.924%, evtime: 0.432%, indep_peak: 0.005%, peak_decay: 0.362%, peak_offset: 0.180%, , uatemplates: 0 , events: 1 "
       ]
      },
      {
       "output_type": "stream",
       "stream": "stdout",
       "text": [
        "\n",
        "saving debug dump to /home/dmoore/python/sigvisa/logs/mcmc/01626/step_000939..."
       ]
      },
      {
       "output_type": "stream",
       "stream": "stdout",
       "text": [
        "\n",
        "saved pickled graph"
       ]
      },
      {
       "output_type": "stream",
       "stream": "stdout",
       "text": [
        "\n",
        "step 940: lp -468.73, accepted arrival_time: 0.045%, coda_decay: 0.089%, coda_height: 0.126%, evdepth: 0.097%, evloc: 0.794%, evloc_big: 0.201%, evmb: 0.925%, evtime: 0.434%, indep_peak: 0.005%, peak_decay: 0.362%, peak_offset: 0.180%, , uatemplates: 0 , events: 1 "
       ]
      },
      {
       "output_type": "stream",
       "stream": "stdout",
       "text": [
        "\n",
        "saving debug dump to /home/dmoore/python/sigvisa/logs/mcmc/01626/step_000949..."
       ]
      },
      {
       "output_type": "stream",
       "stream": "stdout",
       "text": [
        "\n",
        "saved pickled graph"
       ]
      },
      {
       "output_type": "stream",
       "stream": "stdout",
       "text": [
        "\n",
        "step 950: lp -477.15, accepted arrival_time: 0.045%, coda_decay: 0.090%, coda_height: 0.126%, evdepth: 0.096%, evloc: 0.792%, evloc_big: 0.204%, evmb: 0.924%, evtime: 0.433%, indep_peak: 0.005%, peak_decay: 0.362%, peak_offset: 0.180%, , uatemplates: 0 , events: 1 "
       ]
      },
      {
       "output_type": "stream",
       "stream": "stdout",
       "text": [
        "\n",
        "saving debug dump to /home/dmoore/python/sigvisa/logs/mcmc/01626/step_000959..."
       ]
      },
      {
       "output_type": "stream",
       "stream": "stdout",
       "text": [
        "\n",
        "saved pickled graph"
       ]
      },
      {
       "output_type": "stream",
       "stream": "stdout",
       "text": [
        "\n",
        "step 960: lp -476.58, accepted arrival_time: 0.045%, coda_decay: 0.090%, coda_height: 0.127%, evdepth: 0.096%, evloc: 0.792%, evloc_big: 0.204%, evmb: 0.924%, evtime: 0.431%, indep_peak: 0.005%, peak_decay: 0.363%, peak_offset: 0.181%, , uatemplates: 0 , events: 1 "
       ]
      },
      {
       "output_type": "stream",
       "stream": "stdout",
       "text": [
        "\n",
        "saving debug dump to /home/dmoore/python/sigvisa/logs/mcmc/01626/step_000969..."
       ]
      },
      {
       "output_type": "stream",
       "stream": "stdout",
       "text": [
        "\n",
        "saved pickled graph"
       ]
      },
      {
       "output_type": "stream",
       "stream": "stdout",
       "text": [
        "\n",
        "step 970: lp -471.48, accepted arrival_time: 0.045%, coda_decay: 0.090%, coda_height: 0.127%, evdepth: 0.095%, evloc: 0.792%, evloc_big: 0.205%, evmb: 0.924%, evtime: 0.433%, indep_peak: 0.005%, peak_decay: 0.363%, peak_offset: 0.181%, , uatemplates: 0 , events: 1 "
       ]
      },
      {
       "output_type": "stream",
       "stream": "stdout",
       "text": [
        "\n",
        "saving debug dump to /home/dmoore/python/sigvisa/logs/mcmc/01626/step_000979..."
       ]
      },
      {
       "output_type": "stream",
       "stream": "stdout",
       "text": [
        "\n",
        "saved pickled graph"
       ]
      },
      {
       "output_type": "stream",
       "stream": "stdout",
       "text": [
        "\n",
        "step 980: lp -464.86, accepted arrival_time: 0.044%, coda_decay: 0.090%, coda_height: 0.126%, evdepth: 0.096%, evloc: 0.790%, evloc_big: 0.204%, evmb: 0.925%, evtime: 0.431%, indep_peak: 0.004%, peak_decay: 0.364%, peak_offset: 0.181%, , uatemplates: 0 , events: 1 "
       ]
      },
      {
       "output_type": "stream",
       "stream": "stdout",
       "text": [
        "\n",
        "saving debug dump to /home/dmoore/python/sigvisa/logs/mcmc/01626/step_000989..."
       ]
      },
      {
       "output_type": "stream",
       "stream": "stdout",
       "text": [
        "\n",
        "saved pickled graph"
       ]
      },
      {
       "output_type": "stream",
       "stream": "stdout",
       "text": [
        "\n",
        "step 990: lp -473.20, accepted arrival_time: 0.044%, coda_decay: 0.089%, coda_height: 0.125%, evdepth: 0.095%, evloc: 0.791%, evloc_big: 0.205%, evmb: 0.925%, evtime: 0.433%, indep_peak: 0.004%, peak_decay: 0.364%, peak_offset: 0.181%, , uatemplates: 0 , events: 1 "
       ]
      },
      {
       "output_type": "stream",
       "stream": "stdout",
       "text": [
        "\n",
        "saving debug dump to /home/dmoore/python/sigvisa/logs/mcmc/01626/step_000999..."
       ]
      },
      {
       "output_type": "stream",
       "stream": "stdout",
       "text": [
        "\n",
        "saved pickled graph"
       ]
      },
      {
       "output_type": "stream",
       "stream": "stdout",
       "text": [
        "\n",
        "step 1000: lp -467.68, accepted arrival_time: 0.044%, coda_decay: 0.090%, coda_height: 0.125%, evdepth: 0.095%, evloc: 0.791%, evloc_big: 0.205%, evmb: 0.925%, evtime: 0.435%, indep_peak: 0.004%, peak_decay: 0.364%, peak_offset: 0.180%, , uatemplates: 0 , events: 1 "
       ]
      },
      {
       "output_type": "stream",
       "stream": "stdout",
       "text": [
        "\n",
        "saving debug dump to /home/dmoore/python/sigvisa/logs/mcmc/01626/step_001009..."
       ]
      },
      {
       "output_type": "stream",
       "stream": "stdout",
       "text": [
        "\n",
        "saved pickled graph"
       ]
      },
      {
       "output_type": "stream",
       "stream": "stdout",
       "text": [
        "\n",
        "step 1010: lp -470.61, accepted arrival_time: 0.044%, coda_decay: 0.090%, coda_height: 0.125%, evdepth: 0.094%, evloc: 0.790%, evloc_big: 0.206%, evmb: 0.925%, evtime: 0.433%, indep_peak: 0.004%, peak_decay: 0.365%, peak_offset: 0.181%, , uatemplates: 0 , events: 1 "
       ]
      },
      {
       "output_type": "stream",
       "stream": "stdout",
       "text": [
        "\n",
        "saving debug dump to /home/dmoore/python/sigvisa/logs/mcmc/01626/step_001019..."
       ]
      },
      {
       "output_type": "stream",
       "stream": "stdout",
       "text": [
        "\n",
        "saved pickled graph"
       ]
      },
      {
       "output_type": "stream",
       "stream": "stdout",
       "text": [
        "\n",
        "step 1020: lp -473.51, accepted arrival_time: 0.044%, coda_decay: 0.090%, coda_height: 0.125%, evdepth: 0.093%, evloc: 0.789%, evloc_big: 0.205%, evmb: 0.926%, evtime: 0.435%, indep_peak: 0.004%, peak_decay: 0.365%, peak_offset: 0.180%, , uatemplates: 0 , events: 1 "
       ]
      },
      {
       "output_type": "stream",
       "stream": "stdout",
       "text": [
        "\n",
        "saving debug dump to /home/dmoore/python/sigvisa/logs/mcmc/01626/step_001029..."
       ]
      },
      {
       "output_type": "stream",
       "stream": "stdout",
       "text": [
        "\n",
        "saved pickled graph"
       ]
      },
      {
       "output_type": "stream",
       "stream": "stdout",
       "text": [
        "\n",
        "step 1030: lp -473.25, accepted arrival_time: 0.044%, coda_decay: 0.090%, coda_height: 0.125%, evdepth: 0.094%, evloc: 0.790%, evloc_big: 0.204%, evmb: 0.926%, evtime: 0.434%, indep_peak: 0.004%, peak_decay: 0.364%, peak_offset: 0.181%, , uatemplates: 0 , events: 1 "
       ]
      },
      {
       "output_type": "stream",
       "stream": "stdout",
       "text": [
        "\n",
        "saving debug dump to /home/dmoore/python/sigvisa/logs/mcmc/01626/step_001039..."
       ]
      },
      {
       "output_type": "stream",
       "stream": "stdout",
       "text": [
        "\n",
        "saved pickled graph"
       ]
      },
      {
       "output_type": "stream",
       "stream": "stdout",
       "text": [
        "\n",
        "step 1040: lp -471.91, accepted arrival_time: 0.044%, coda_decay: 0.090%, coda_height: 0.125%, evdepth: 0.093%, evloc: 0.791%, evloc_big: 0.204%, evmb: 0.926%, evtime: 0.432%, indep_peak: 0.004%, peak_decay: 0.366%, peak_offset: 0.181%, , uatemplates: 0 , events: 1 "
       ]
      },
      {
       "output_type": "stream",
       "stream": "stdout",
       "text": [
        "\n",
        "saving debug dump to /home/dmoore/python/sigvisa/logs/mcmc/01626/step_001049..."
       ]
      },
      {
       "output_type": "stream",
       "stream": "stdout",
       "text": [
        "\n",
        "saved pickled graph"
       ]
      },
      {
       "output_type": "stream",
       "stream": "stdout",
       "text": [
        "\n",
        "step 1050: lp -480.44, accepted arrival_time: 0.044%, coda_decay: 0.089%, coda_height: 0.125%, evdepth: 0.094%, evloc: 0.790%, evloc_big: 0.204%, evmb: 0.926%, evtime: 0.431%, indep_peak: 0.004%, peak_decay: 0.367%, peak_offset: 0.180%, , uatemplates: 0 , events: 1 "
       ]
      },
      {
       "output_type": "stream",
       "stream": "stdout",
       "text": [
        "\n",
        "saving debug dump to /home/dmoore/python/sigvisa/logs/mcmc/01626/step_001059..."
       ]
      },
      {
       "output_type": "stream",
       "stream": "stdout",
       "text": [
        "\n",
        "saved pickled graph"
       ]
      },
      {
       "output_type": "stream",
       "stream": "stdout",
       "text": [
        "\n",
        "step 1060: lp -474.09, accepted arrival_time: 0.044%, coda_decay: 0.089%, coda_height: 0.125%, evdepth: 0.094%, evloc: 0.790%, evloc_big: 0.203%, evmb: 0.926%, evtime: 0.432%, indep_peak: 0.004%, peak_decay: 0.367%, peak_offset: 0.180%, , uatemplates: 0 , events: 1 "
       ]
      },
      {
       "output_type": "stream",
       "stream": "stdout",
       "text": [
        "\n",
        "saving debug dump to /home/dmoore/python/sigvisa/logs/mcmc/01626/step_001069..."
       ]
      },
      {
       "output_type": "stream",
       "stream": "stdout",
       "text": [
        "\n",
        "saved pickled graph"
       ]
      },
      {
       "output_type": "stream",
       "stream": "stdout",
       "text": [
        "\n",
        "step 1070: lp -472.24, accepted arrival_time: 0.043%, coda_decay: 0.089%, coda_height: 0.125%, evdepth: 0.094%, evloc: 0.790%, evloc_big: 0.202%, evmb: 0.925%, evtime: 0.431%, indep_peak: 0.004%, peak_decay: 0.367%, peak_offset: 0.180%, , uatemplates: 0 , events: 1 "
       ]
      },
      {
       "output_type": "stream",
       "stream": "stdout",
       "text": [
        "\n",
        "saving debug dump to /home/dmoore/python/sigvisa/logs/mcmc/01626/step_001079..."
       ]
      },
      {
       "output_type": "stream",
       "stream": "stdout",
       "text": [
        "\n",
        "saved pickled graph"
       ]
      },
      {
       "output_type": "stream",
       "stream": "stdout",
       "text": [
        "\n",
        "step 1080: lp -467.80, accepted arrival_time: 0.043%, coda_decay: 0.089%, coda_height: 0.125%, evdepth: 0.093%, evloc: 0.788%, evloc_big: 0.201%, evmb: 0.926%, evtime: 0.430%, indep_peak: 0.004%, peak_decay: 0.366%, peak_offset: 0.180%, , uatemplates: 0 , events: 1 "
       ]
      },
      {
       "output_type": "stream",
       "stream": "stdout",
       "text": [
        "\n",
        "saving debug dump to /home/dmoore/python/sigvisa/logs/mcmc/01626/step_001089..."
       ]
      },
      {
       "output_type": "stream",
       "stream": "stdout",
       "text": [
        "\n",
        "saved pickled graph"
       ]
      },
      {
       "output_type": "stream",
       "stream": "stdout",
       "text": [
        "\n",
        "step 1090: lp -477.13, accepted arrival_time: 0.043%, coda_decay: 0.089%, coda_height: 0.126%, evdepth: 0.094%, evloc: 0.786%, evloc_big: 0.201%, evmb: 0.927%, evtime: 0.432%, indep_peak: 0.004%, peak_decay: 0.367%, peak_offset: 0.180%, , uatemplates: 0 , events: 1 "
       ]
      },
      {
       "output_type": "stream",
       "stream": "stdout",
       "text": [
        "\n",
        "saving debug dump to /home/dmoore/python/sigvisa/logs/mcmc/01626/step_001099..."
       ]
      },
      {
       "output_type": "stream",
       "stream": "stdout",
       "text": [
        "\n",
        "saved pickled graph"
       ]
      },
      {
       "output_type": "stream",
       "stream": "stdout",
       "text": [
        "\n",
        "step 1100: lp -471.66, accepted arrival_time: 0.043%, coda_decay: 0.089%, coda_height: 0.126%, evdepth: 0.095%, evloc: 0.785%, evloc_big: 0.202%, evmb: 0.926%, evtime: 0.430%, indep_peak: 0.004%, peak_decay: 0.367%, peak_offset: 0.179%, , uatemplates: 0 , events: 1 "
       ]
      },
      {
       "output_type": "stream",
       "stream": "stdout",
       "text": [
        "\n",
        "saving debug dump to /home/dmoore/python/sigvisa/logs/mcmc/01626/step_001109..."
       ]
      },
      {
       "output_type": "stream",
       "stream": "stdout",
       "text": [
        "\n",
        "saved pickled graph"
       ]
      },
      {
       "output_type": "stream",
       "stream": "stdout",
       "text": [
        "\n",
        "step 1110: lp -473.52, accepted arrival_time: 0.043%, coda_decay: 0.089%, coda_height: 0.126%, evdepth: 0.095%, evloc: 0.784%, evloc_big: 0.201%, evmb: 0.927%, evtime: 0.428%, indep_peak: 0.004%, peak_decay: 0.368%, peak_offset: 0.179%, , uatemplates: 0 , events: 1 "
       ]
      },
      {
       "output_type": "stream",
       "stream": "stdout",
       "text": [
        "\n",
        "saving debug dump to /home/dmoore/python/sigvisa/logs/mcmc/01626/step_001119..."
       ]
      },
      {
       "output_type": "stream",
       "stream": "stdout",
       "text": [
        "\n",
        "saved pickled graph"
       ]
      },
      {
       "output_type": "stream",
       "stream": "stdout",
       "text": [
        "\n",
        "step 1120: lp -475.55, accepted arrival_time: 0.044%, coda_decay: 0.089%, coda_height: 0.126%, evdepth: 0.095%, evloc: 0.784%, evloc_big: 0.202%, evmb: 0.928%, evtime: 0.429%, indep_peak: 0.004%, peak_decay: 0.369%, peak_offset: 0.179%, , uatemplates: 0 , events: 1 "
       ]
      },
      {
       "output_type": "stream",
       "stream": "stdout",
       "text": [
        "\n",
        "saving debug dump to /home/dmoore/python/sigvisa/logs/mcmc/01626/step_001129..."
       ]
      },
      {
       "output_type": "stream",
       "stream": "stdout",
       "text": [
        "\n",
        "saved pickled graph"
       ]
      },
      {
       "output_type": "stream",
       "stream": "stdout",
       "text": [
        "\n",
        "step 1130: lp -472.87, accepted arrival_time: 0.044%, coda_decay: 0.089%, coda_height: 0.125%, evdepth: 0.096%, evloc: 0.783%, evloc_big: 0.201%, evmb: 0.928%, evtime: 0.428%, indep_peak: 0.004%, peak_decay: 0.370%, peak_offset: 0.179%, , uatemplates: 0 , events: 1 "
       ]
      },
      {
       "output_type": "stream",
       "stream": "stdout",
       "text": [
        "\n",
        "saving debug dump to /home/dmoore/python/sigvisa/logs/mcmc/01626/step_001139..."
       ]
      },
      {
       "output_type": "stream",
       "stream": "stdout",
       "text": [
        "\n",
        "saved pickled graph"
       ]
      },
      {
       "output_type": "stream",
       "stream": "stdout",
       "text": [
        "\n",
        "step 1140: lp -471.82, accepted arrival_time: 0.044%, coda_decay: 0.088%, coda_height: 0.125%, evdepth: 0.096%, evloc: 0.785%, evloc_big: 0.201%, evmb: 0.929%, evtime: 0.428%, indep_peak: 0.004%, peak_decay: 0.369%, peak_offset: 0.179%, , uatemplates: 0 , events: 1 "
       ]
      },
      {
       "output_type": "stream",
       "stream": "stdout",
       "text": [
        "\n",
        "saving debug dump to /home/dmoore/python/sigvisa/logs/mcmc/01626/step_001149..."
       ]
      },
      {
       "output_type": "stream",
       "stream": "stdout",
       "text": [
        "\n",
        "saved pickled graph"
       ]
      },
      {
       "output_type": "stream",
       "stream": "stdout",
       "text": [
        "\n",
        "step 1150: lp -471.22, accepted arrival_time: 0.043%, coda_decay: 0.088%, coda_height: 0.125%, evdepth: 0.096%, evloc: 0.786%, evloc_big: 0.202%, evmb: 0.930%, evtime: 0.424%, indep_peak: 0.004%, peak_decay: 0.369%, peak_offset: 0.178%, , uatemplates: 0 , events: 1 "
       ]
      },
      {
       "output_type": "stream",
       "stream": "stdout",
       "text": [
        "\n",
        "saving debug dump to /home/dmoore/python/sigvisa/logs/mcmc/01626/step_001159..."
       ]
      },
      {
       "output_type": "stream",
       "stream": "stdout",
       "text": [
        "\n",
        "saved pickled graph"
       ]
      },
      {
       "output_type": "stream",
       "stream": "stdout",
       "text": [
        "\n",
        "step 1160: lp -476.95, accepted arrival_time: 0.043%, coda_decay: 0.088%, coda_height: 0.125%, evdepth: 0.095%, evloc: 0.787%, evloc_big: 0.202%, evmb: 0.930%, evtime: 0.425%, indep_peak: 0.004%, peak_decay: 0.369%, peak_offset: 0.179%, , uatemplates: 0 , events: 1 "
       ]
      },
      {
       "output_type": "stream",
       "stream": "stdout",
       "text": [
        "\n",
        "saving debug dump to /home/dmoore/python/sigvisa/logs/mcmc/01626/step_001169..."
       ]
      },
      {
       "output_type": "stream",
       "stream": "stdout",
       "text": [
        "\n",
        "saved pickled graph"
       ]
      },
      {
       "output_type": "stream",
       "stream": "stdout",
       "text": [
        "\n",
        "step 1170: lp -469.91, accepted arrival_time: 0.043%, coda_decay: 0.088%, coda_height: 0.125%, evdepth: 0.095%, evloc: 0.787%, evloc_big: 0.202%, evmb: 0.931%, evtime: 0.423%, indep_peak: 0.004%, peak_decay: 0.369%, peak_offset: 0.178%, , uatemplates: 0 , events: 1 "
       ]
      },
      {
       "output_type": "stream",
       "stream": "stdout",
       "text": [
        "\n",
        "saving debug dump to /home/dmoore/python/sigvisa/logs/mcmc/01626/step_001179..."
       ]
      },
      {
       "output_type": "stream",
       "stream": "stdout",
       "text": [
        "\n",
        "saved pickled graph"
       ]
      },
      {
       "output_type": "stream",
       "stream": "stdout",
       "text": [
        "\n",
        "step 1180: lp -470.91, accepted arrival_time: 0.043%, coda_decay: 0.088%, coda_height: 0.124%, evdepth: 0.096%, evloc: 0.787%, evloc_big: 0.202%, evmb: 0.931%, evtime: 0.423%, indep_peak: 0.004%, peak_decay: 0.369%, peak_offset: 0.178%, , uatemplates: 0 , events: 1 "
       ]
      },
      {
       "output_type": "stream",
       "stream": "stdout",
       "text": [
        "\n",
        "saving debug dump to /home/dmoore/python/sigvisa/logs/mcmc/01626/step_001189..."
       ]
      },
      {
       "output_type": "stream",
       "stream": "stdout",
       "text": [
        "\n",
        "saved pickled graph"
       ]
      },
      {
       "output_type": "stream",
       "stream": "stdout",
       "text": [
        "\n",
        "step 1190: lp -469.34, accepted arrival_time: 0.043%, coda_decay: 0.088%, coda_height: 0.125%, evdepth: 0.096%, evloc: 0.787%, evloc_big: 0.200%, evmb: 0.932%, evtime: 0.422%, indep_peak: 0.004%, peak_decay: 0.369%, peak_offset: 0.178%, , uatemplates: 0 , events: 1 "
       ]
      },
      {
       "output_type": "stream",
       "stream": "stdout",
       "text": [
        "\n",
        "saving debug dump to /home/dmoore/python/sigvisa/logs/mcmc/01626/step_001199..."
       ]
      },
      {
       "output_type": "stream",
       "stream": "stdout",
       "text": [
        "\n",
        "saved pickled graph"
       ]
      },
      {
       "output_type": "stream",
       "stream": "stdout",
       "text": [
        "\n",
        "step 1200: lp -472.66, accepted arrival_time: 0.043%, coda_decay: 0.088%, coda_height: 0.125%, evdepth: 0.095%, evloc: 0.788%, evloc_big: 0.200%, evmb: 0.932%, evtime: 0.422%, indep_peak: 0.004%, peak_decay: 0.368%, peak_offset: 0.178%, , uatemplates: 0 , events: 1 "
       ]
      },
      {
       "output_type": "stream",
       "stream": "stdout",
       "text": [
        "\n",
        "saving debug dump to /home/dmoore/python/sigvisa/logs/mcmc/01626/step_001209..."
       ]
      },
      {
       "output_type": "stream",
       "stream": "stdout",
       "text": [
        "\n",
        "saved pickled graph"
       ]
      },
      {
       "output_type": "stream",
       "stream": "stdout",
       "text": [
        "\n",
        "step 1210: lp -469.61, accepted arrival_time: 0.043%, coda_decay: 0.088%, coda_height: 0.125%, evdepth: 0.095%, evloc: 0.788%, evloc_big: 0.198%, evmb: 0.931%, evtime: 0.419%, indep_peak: 0.004%, peak_decay: 0.367%, peak_offset: 0.178%, , uatemplates: 0 , events: 1 "
       ]
      },
      {
       "output_type": "stream",
       "stream": "stdout",
       "text": [
        "\n",
        "saving debug dump to /home/dmoore/python/sigvisa/logs/mcmc/01626/step_001219..."
       ]
      },
      {
       "output_type": "stream",
       "stream": "stdout",
       "text": [
        "\n",
        "saved pickled graph"
       ]
      },
      {
       "output_type": "stream",
       "stream": "stdout",
       "text": [
        "\n",
        "step 1220: lp -474.19, accepted arrival_time: 0.042%, coda_decay: 0.088%, coda_height: 0.125%, evdepth: 0.095%, evloc: 0.788%, evloc_big: 0.197%, evmb: 0.929%, evtime: 0.419%, indep_peak: 0.004%, peak_decay: 0.366%, peak_offset: 0.178%, , uatemplates: 0 , events: 1 "
       ]
      },
      {
       "output_type": "stream",
       "stream": "stdout",
       "text": [
        "\n",
        "saving debug dump to /home/dmoore/python/sigvisa/logs/mcmc/01626/step_001229..."
       ]
      },
      {
       "output_type": "stream",
       "stream": "stdout",
       "text": [
        "\n",
        "saved pickled graph"
       ]
      },
      {
       "output_type": "stream",
       "stream": "stdout",
       "text": [
        "\n",
        "step 1230: lp -468.55, accepted arrival_time: 0.042%, coda_decay: 0.087%, coda_height: 0.125%, evdepth: 0.097%, evloc: 0.790%, evloc_big: 0.197%, evmb: 0.929%, evtime: 0.422%, indep_peak: 0.004%, peak_decay: 0.366%, peak_offset: 0.179%, , uatemplates: 0 , events: 1 "
       ]
      },
      {
       "output_type": "stream",
       "stream": "stdout",
       "text": [
        "\n",
        "saving debug dump to /home/dmoore/python/sigvisa/logs/mcmc/01626/step_001239..."
       ]
      },
      {
       "output_type": "stream",
       "stream": "stdout",
       "text": [
        "\n",
        "saved pickled graph"
       ]
      },
      {
       "output_type": "stream",
       "stream": "stdout",
       "text": [
        "\n",
        "step 1240: lp -472.82, accepted arrival_time: 0.042%, coda_decay: 0.087%, coda_height: 0.125%, evdepth: 0.097%, evloc: 0.788%, evloc_big: 0.195%, evmb: 0.930%, evtime: 0.424%, indep_peak: 0.004%, peak_decay: 0.366%, peak_offset: 0.179%, , uatemplates: 0 , events: 1 "
       ]
      },
      {
       "output_type": "stream",
       "stream": "stdout",
       "text": [
        "\n",
        "saving debug dump to /home/dmoore/python/sigvisa/logs/mcmc/01626/step_001249..."
       ]
      },
      {
       "output_type": "stream",
       "stream": "stdout",
       "text": [
        "\n",
        "saved pickled graph"
       ]
      },
      {
       "output_type": "stream",
       "stream": "stdout",
       "text": [
        "\n",
        "step 1250: lp -471.31, accepted arrival_time: 0.041%, coda_decay: 0.087%, coda_height: 0.125%, evdepth: 0.098%, evloc: 0.788%, evloc_big: 0.196%, evmb: 0.930%, evtime: 0.424%, indep_peak: 0.004%, peak_decay: 0.366%, peak_offset: 0.178%, , uatemplates: 0 , events: 1 "
       ]
      },
      {
       "output_type": "stream",
       "stream": "stdout",
       "text": [
        "\n",
        "saving debug dump to /home/dmoore/python/sigvisa/logs/mcmc/01626/step_001259..."
       ]
      },
      {
       "output_type": "stream",
       "stream": "stdout",
       "text": [
        "\n",
        "saved pickled graph"
       ]
      },
      {
       "output_type": "stream",
       "stream": "stdout",
       "text": [
        "\n",
        "step 1260: lp -470.57, accepted arrival_time: 0.041%, coda_decay: 0.087%, coda_height: 0.125%, evdepth: 0.098%, evloc: 0.789%, evloc_big: 0.198%, evmb: 0.930%, evtime: 0.424%, indep_peak: 0.004%, peak_decay: 0.367%, peak_offset: 0.178%, , uatemplates: 0 , events: 1 "
       ]
      },
      {
       "output_type": "stream",
       "stream": "stdout",
       "text": [
        "\n",
        "saving debug dump to /home/dmoore/python/sigvisa/logs/mcmc/01626/step_001269..."
       ]
      },
      {
       "output_type": "stream",
       "stream": "stdout",
       "text": [
        "\n",
        "saved pickled graph"
       ]
      },
      {
       "output_type": "stream",
       "stream": "stdout",
       "text": [
        "\n",
        "step 1270: lp -471.37, accepted arrival_time: 0.041%, coda_decay: 0.087%, coda_height: 0.125%, evdepth: 0.098%, evloc: 0.791%, evloc_big: 0.198%, evmb: 0.931%, evtime: 0.423%, indep_peak: 0.004%, peak_decay: 0.368%, peak_offset: 0.179%, , uatemplates: 0 , events: 1 "
       ]
      },
      {
       "output_type": "stream",
       "stream": "stdout",
       "text": [
        "\n",
        "saving debug dump to /home/dmoore/python/sigvisa/logs/mcmc/01626/step_001279..."
       ]
      },
      {
       "output_type": "stream",
       "stream": "stdout",
       "text": [
        "\n",
        "saved pickled graph"
       ]
      },
      {
       "output_type": "stream",
       "stream": "stdout",
       "text": [
        "\n",
        "step 1280: lp -474.24, accepted arrival_time: 0.041%, coda_decay: 0.087%, coda_height: 0.125%, evdepth: 0.098%, evloc: 0.790%, evloc_big: 0.198%, evmb: 0.931%, evtime: 0.424%, indep_peak: 0.004%, peak_decay: 0.368%, peak_offset: 0.179%, , uatemplates: 0 , events: 1 "
       ]
      },
      {
       "output_type": "stream",
       "stream": "stdout",
       "text": [
        "\n",
        "saving debug dump to /home/dmoore/python/sigvisa/logs/mcmc/01626/step_001289..."
       ]
      },
      {
       "output_type": "stream",
       "stream": "stdout",
       "text": [
        "\n",
        "saved pickled graph"
       ]
      },
      {
       "output_type": "stream",
       "stream": "stdout",
       "text": [
        "\n",
        "step 1290: lp -474.45, accepted arrival_time: 0.041%, coda_decay: 0.088%, coda_height: 0.125%, evdepth: 0.098%, evloc: 0.789%, evloc_big: 0.199%, evmb: 0.932%, evtime: 0.423%, indep_peak: 0.004%, peak_decay: 0.368%, peak_offset: 0.178%, , uatemplates: 0 , events: 1 "
       ]
      },
      {
       "output_type": "stream",
       "stream": "stdout",
       "text": [
        "\n",
        "saving debug dump to /home/dmoore/python/sigvisa/logs/mcmc/01626/step_001299..."
       ]
      },
      {
       "output_type": "stream",
       "stream": "stdout",
       "text": [
        "\n",
        "saved pickled graph"
       ]
      },
      {
       "output_type": "stream",
       "stream": "stdout",
       "text": [
        "\n",
        "step 1300: lp -479.61, accepted arrival_time: 0.041%, coda_decay: 0.087%, coda_height: 0.125%, evdepth: 0.097%, evloc: 0.789%, evloc_big: 0.201%, evmb: 0.932%, evtime: 0.422%, indep_peak: 0.004%, peak_decay: 0.368%, peak_offset: 0.178%, , uatemplates: 0 , events: 1 "
       ]
      },
      {
       "output_type": "stream",
       "stream": "stdout",
       "text": [
        "\n",
        "saving debug dump to /home/dmoore/python/sigvisa/logs/mcmc/01626/step_001309..."
       ]
      },
      {
       "output_type": "stream",
       "stream": "stdout",
       "text": [
        "\n",
        "saved pickled graph"
       ]
      },
      {
       "output_type": "stream",
       "stream": "stdout",
       "text": [
        "\n",
        "step 1310: lp -480.28, accepted arrival_time: 0.041%, coda_decay: 0.087%, coda_height: 0.125%, evdepth: 0.096%, evloc: 0.788%, evloc_big: 0.200%, evmb: 0.931%, evtime: 0.423%, indep_peak: 0.004%, peak_decay: 0.369%, peak_offset: 0.178%, , uatemplates: 0 , events: 1 "
       ]
      },
      {
       "output_type": "stream",
       "stream": "stdout",
       "text": [
        "\n",
        "saving debug dump to /home/dmoore/python/sigvisa/logs/mcmc/01626/step_001319..."
       ]
      },
      {
       "output_type": "stream",
       "stream": "stdout",
       "text": [
        "\n",
        "saved pickled graph"
       ]
      },
      {
       "output_type": "stream",
       "stream": "stdout",
       "text": [
        "\n",
        "step 1320: lp -474.42, accepted arrival_time: 0.041%, coda_decay: 0.087%, coda_height: 0.125%, evdepth: 0.096%, evloc: 0.789%, evloc_big: 0.201%, evmb: 0.931%, evtime: 0.422%, indep_peak: 0.004%, peak_decay: 0.369%, peak_offset: 0.178%, , uatemplates: 0 , events: 1 "
       ]
      },
      {
       "output_type": "stream",
       "stream": "stdout",
       "text": [
        "\n",
        "saving debug dump to /home/dmoore/python/sigvisa/logs/mcmc/01626/step_001329..."
       ]
      },
      {
       "output_type": "stream",
       "stream": "stdout",
       "text": [
        "\n",
        "saved pickled graph"
       ]
      },
      {
       "output_type": "stream",
       "stream": "stdout",
       "text": [
        "\n",
        "step 1330: lp -476.57, accepted arrival_time: 0.041%, coda_decay: 0.087%, coda_height: 0.125%, evdepth: 0.097%, evloc: 0.788%, evloc_big: 0.201%, evmb: 0.932%, evtime: 0.419%, indep_peak: 0.004%, peak_decay: 0.369%, peak_offset: 0.177%, , uatemplates: 0 , events: 1 "
       ]
      },
      {
       "output_type": "stream",
       "stream": "stdout",
       "text": [
        "\n",
        "saving debug dump to /home/dmoore/python/sigvisa/logs/mcmc/01626/step_001339..."
       ]
      },
      {
       "output_type": "stream",
       "stream": "stdout",
       "text": [
        "\n",
        "saved pickled graph"
       ]
      },
      {
       "output_type": "stream",
       "stream": "stdout",
       "text": [
        "\n",
        "step 1340: lp -474.03, accepted arrival_time: 0.041%, coda_decay: 0.087%, coda_height: 0.125%, evdepth: 0.096%, evloc: 0.788%, evloc_big: 0.200%, evmb: 0.932%, evtime: 0.421%, indep_peak: 0.004%, peak_decay: 0.369%, peak_offset: 0.177%, , uatemplates: 0 , events: 1 "
       ]
      },
      {
       "output_type": "stream",
       "stream": "stdout",
       "text": [
        "\n",
        "saving debug dump to /home/dmoore/python/sigvisa/logs/mcmc/01626/step_001349..."
       ]
      },
      {
       "output_type": "stream",
       "stream": "stdout",
       "text": [
        "\n",
        "saved pickled graph"
       ]
      },
      {
       "output_type": "stream",
       "stream": "stdout",
       "text": [
        "\n",
        "step 1350: lp -479.13, accepted arrival_time: 0.041%, coda_decay: 0.086%, coda_height: 0.125%, evdepth: 0.096%, evloc: 0.787%, evloc_big: 0.200%, evmb: 0.933%, evtime: 0.421%, indep_peak: 0.004%, peak_decay: 0.371%, peak_offset: 0.177%, , uatemplates: 0 , events: 1 "
       ]
      },
      {
       "output_type": "stream",
       "stream": "stdout",
       "text": [
        "\n",
        "saving debug dump to /home/dmoore/python/sigvisa/logs/mcmc/01626/step_001359..."
       ]
      },
      {
       "output_type": "stream",
       "stream": "stdout",
       "text": [
        "\n",
        "saved pickled graph"
       ]
      },
      {
       "output_type": "stream",
       "stream": "stdout",
       "text": [
        "\n",
        "step 1360: lp -475.73, accepted arrival_time: 0.041%, coda_decay: 0.086%, coda_height: 0.125%, evdepth: 0.096%, evloc: 0.787%, evloc_big: 0.201%, evmb: 0.933%, evtime: 0.422%, indep_peak: 0.004%, peak_decay: 0.372%, peak_offset: 0.177%, , uatemplates: 0 , events: 1 "
       ]
      },
      {
       "output_type": "stream",
       "stream": "stdout",
       "text": [
        "\n",
        "saving debug dump to /home/dmoore/python/sigvisa/logs/mcmc/01626/step_001369..."
       ]
      },
      {
       "output_type": "stream",
       "stream": "stdout",
       "text": [
        "\n",
        "saved pickled graph"
       ]
      },
      {
       "output_type": "stream",
       "stream": "stdout",
       "text": [
        "\n",
        "step 1370: lp -475.40, accepted arrival_time: 0.041%, coda_decay: 0.086%, coda_height: 0.125%, evdepth: 0.095%, evloc: 0.787%, evloc_big: 0.200%, evmb: 0.933%, evtime: 0.424%, indep_peak: 0.004%, peak_decay: 0.372%, peak_offset: 0.177%, , uatemplates: 0 , events: 1 "
       ]
      },
      {
       "output_type": "stream",
       "stream": "stdout",
       "text": [
        "\n",
        "saving debug dump to /home/dmoore/python/sigvisa/logs/mcmc/01626/step_001379..."
       ]
      },
      {
       "output_type": "stream",
       "stream": "stdout",
       "text": [
        "\n",
        "saved pickled graph"
       ]
      },
      {
       "output_type": "stream",
       "stream": "stdout",
       "text": [
        "\n",
        "step 1380: lp -476.63, accepted arrival_time: 0.041%, coda_decay: 0.086%, coda_height: 0.125%, evdepth: 0.095%, evloc: 0.787%, evloc_big: 0.199%, evmb: 0.933%, evtime: 0.425%, indep_peak: 0.004%, peak_decay: 0.372%, peak_offset: 0.177%, , uatemplates: 0 , events: 1 "
       ]
      },
      {
       "output_type": "stream",
       "stream": "stdout",
       "text": [
        "\n",
        "saving debug dump to /home/dmoore/python/sigvisa/logs/mcmc/01626/step_001389..."
       ]
      },
      {
       "output_type": "stream",
       "stream": "stdout",
       "text": [
        "\n",
        "saved pickled graph"
       ]
      },
      {
       "output_type": "stream",
       "stream": "stdout",
       "text": [
        "\n",
        "step 1390: lp -477.51, accepted arrival_time: 0.041%, coda_decay: 0.086%, coda_height: 0.124%, evdepth: 0.096%, evloc: 0.787%, evloc_big: 0.198%, evmb: 0.933%, evtime: 0.424%, indep_peak: 0.004%, peak_decay: 0.372%, peak_offset: 0.176%, , uatemplates: 0 , events: 1 "
       ]
      },
      {
       "output_type": "stream",
       "stream": "stdout",
       "text": [
        "\n",
        "saving debug dump to /home/dmoore/python/sigvisa/logs/mcmc/01626/step_001399..."
       ]
      },
      {
       "output_type": "stream",
       "stream": "stdout",
       "text": [
        "\n",
        "saved pickled graph"
       ]
      },
      {
       "output_type": "stream",
       "stream": "stdout",
       "text": [
        "\n",
        "step 1400: lp -478.37, accepted arrival_time: 0.041%, coda_decay: 0.086%, coda_height: 0.124%, evdepth: 0.096%, evloc: 0.787%, evloc_big: 0.198%, evmb: 0.932%, evtime: 0.425%, indep_peak: 0.004%, peak_decay: 0.372%, peak_offset: 0.176%, , uatemplates: 0 , events: 1 "
       ]
      },
      {
       "output_type": "stream",
       "stream": "stdout",
       "text": [
        "\n",
        "saving debug dump to /home/dmoore/python/sigvisa/logs/mcmc/01626/step_001409..."
       ]
      },
      {
       "output_type": "stream",
       "stream": "stdout",
       "text": [
        "\n",
        "saved pickled graph"
       ]
      },
      {
       "output_type": "stream",
       "stream": "stdout",
       "text": [
        "\n",
        "step 1410: lp -479.67, accepted arrival_time: 0.041%, coda_decay: 0.086%, coda_height: 0.123%, evdepth: 0.096%, evloc: 0.787%, evloc_big: 0.198%, evmb: 0.932%, evtime: 0.425%, indep_peak: 0.004%, peak_decay: 0.372%, peak_offset: 0.176%, , uatemplates: 0 , events: 1 "
       ]
      },
      {
       "output_type": "stream",
       "stream": "stdout",
       "text": [
        "\n",
        "saving debug dump to /home/dmoore/python/sigvisa/logs/mcmc/01626/step_001419..."
       ]
      },
      {
       "output_type": "stream",
       "stream": "stdout",
       "text": [
        "\n",
        "saved pickled graph"
       ]
      },
      {
       "output_type": "stream",
       "stream": "stdout",
       "text": [
        "\n",
        "step 1420: lp -478.82, accepted arrival_time: 0.041%, coda_decay: 0.086%, coda_height: 0.124%, evdepth: 0.095%, evloc: 0.787%, evloc_big: 0.198%, evmb: 0.931%, evtime: 0.426%, indep_peak: 0.004%, peak_decay: 0.373%, peak_offset: 0.176%, , uatemplates: 0 , events: 1 "
       ]
      },
      {
       "output_type": "stream",
       "stream": "stdout",
       "text": [
        "\n",
        "saving debug dump to /home/dmoore/python/sigvisa/logs/mcmc/01626/step_001429..."
       ]
      },
      {
       "output_type": "stream",
       "stream": "stdout",
       "text": [
        "\n",
        "saved pickled graph"
       ]
      },
      {
       "output_type": "stream",
       "stream": "stdout",
       "text": [
        "\n",
        "step 1430: lp -477.70, accepted arrival_time: 0.041%, coda_decay: 0.086%, coda_height: 0.123%, evdepth: 0.095%, evloc: 0.786%, evloc_big: 0.198%, evmb: 0.931%, evtime: 0.425%, indep_peak: 0.004%, peak_decay: 0.372%, peak_offset: 0.176%, , uatemplates: 0 , events: 1 "
       ]
      },
      {
       "output_type": "stream",
       "stream": "stdout",
       "text": [
        "\n",
        "saving debug dump to /home/dmoore/python/sigvisa/logs/mcmc/01626/step_001439..."
       ]
      },
      {
       "output_type": "stream",
       "stream": "stdout",
       "text": [
        "\n",
        "saved pickled graph"
       ]
      },
      {
       "output_type": "stream",
       "stream": "stdout",
       "text": [
        "\n",
        "step 1440: lp -475.76, accepted arrival_time: 0.041%, coda_decay: 0.085%, coda_height: 0.124%, evdepth: 0.095%, evloc: 0.788%, evloc_big: 0.198%, evmb: 0.931%, evtime: 0.425%, indep_peak: 0.004%, peak_decay: 0.372%, peak_offset: 0.176%, , uatemplates: 0 , events: 1 "
       ]
      },
      {
       "output_type": "stream",
       "stream": "stdout",
       "text": [
        "\n",
        "saving debug dump to /home/dmoore/python/sigvisa/logs/mcmc/01626/step_001449..."
       ]
      },
      {
       "output_type": "stream",
       "stream": "stdout",
       "text": [
        "\n",
        "saved pickled graph"
       ]
      },
      {
       "output_type": "stream",
       "stream": "stdout",
       "text": [
        "\n",
        "step 1450: lp -474.67, accepted arrival_time: 0.041%, coda_decay: 0.085%, coda_height: 0.123%, evdepth: 0.096%, evloc: 0.788%, evloc_big: 0.198%, evmb: 0.932%, evtime: 0.427%, indep_peak: 0.004%, peak_decay: 0.371%, peak_offset: 0.176%, , uatemplates: 0 , events: 1 "
       ]
      },
      {
       "output_type": "stream",
       "stream": "stdout",
       "text": [
        "\n",
        "saving debug dump to /home/dmoore/python/sigvisa/logs/mcmc/01626/step_001459..."
       ]
      },
      {
       "output_type": "stream",
       "stream": "stdout",
       "text": [
        "\n",
        "saved pickled graph"
       ]
      },
      {
       "output_type": "stream",
       "stream": "stdout",
       "text": [
        "\n",
        "step 1460: lp -480.34, accepted arrival_time: 0.041%, coda_decay: 0.085%, coda_height: 0.123%, evdepth: 0.097%, evloc: 0.788%, evloc_big: 0.198%, evmb: 0.932%, evtime: 0.425%, indep_peak: 0.004%, peak_decay: 0.370%, peak_offset: 0.176%, , uatemplates: 0 , events: 1 "
       ]
      },
      {
       "output_type": "stream",
       "stream": "stdout",
       "text": [
        "\n",
        "saving debug dump to /home/dmoore/python/sigvisa/logs/mcmc/01626/step_001469..."
       ]
      },
      {
       "output_type": "stream",
       "stream": "stdout",
       "text": [
        "\n",
        "saved pickled graph"
       ]
      },
      {
       "output_type": "stream",
       "stream": "stdout",
       "text": [
        "\n",
        "step 1470: lp -474.17, accepted arrival_time: 0.041%, coda_decay: 0.085%, coda_height: 0.123%, evdepth: 0.097%, evloc: 0.788%, evloc_big: 0.198%, evmb: 0.932%, evtime: 0.426%, indep_peak: 0.004%, peak_decay: 0.370%, peak_offset: 0.176%, , uatemplates: 0 , events: 1 "
       ]
      },
      {
       "output_type": "stream",
       "stream": "stdout",
       "text": [
        "\n",
        "saving debug dump to /home/dmoore/python/sigvisa/logs/mcmc/01626/step_001479..."
       ]
      },
      {
       "output_type": "stream",
       "stream": "stdout",
       "text": [
        "\n",
        "saved pickled graph"
       ]
      },
      {
       "output_type": "stream",
       "stream": "stdout",
       "text": [
        "\n",
        "step 1480: lp -484.02, accepted arrival_time: 0.041%, coda_decay: 0.085%, coda_height: 0.123%, evdepth: 0.097%, evloc: 0.787%, evloc_big: 0.199%, evmb: 0.932%, evtime: 0.426%, indep_peak: 0.004%, peak_decay: 0.369%, peak_offset: 0.176%, , uatemplates: 0 , events: 1 "
       ]
      },
      {
       "output_type": "stream",
       "stream": "stdout",
       "text": [
        "\n",
        "saving debug dump to /home/dmoore/python/sigvisa/logs/mcmc/01626/step_001489..."
       ]
      },
      {
       "output_type": "stream",
       "stream": "stdout",
       "text": [
        "\n",
        "saved pickled graph"
       ]
      },
      {
       "output_type": "stream",
       "stream": "stdout",
       "text": [
        "\n",
        "step 1490: lp -475.87, accepted arrival_time: 0.042%, coda_decay: 0.085%, coda_height: 0.123%, evdepth: 0.097%, evloc: 0.787%, evloc_big: 0.198%, evmb: 0.932%, evtime: 0.427%, indep_peak: 0.004%, peak_decay: 0.369%, peak_offset: 0.176%, , uatemplates: 0 , events: 1 "
       ]
      },
      {
       "output_type": "stream",
       "stream": "stdout",
       "text": [
        "\n",
        "saving debug dump to /home/dmoore/python/sigvisa/logs/mcmc/01626/step_001499..."
       ]
      },
      {
       "output_type": "stream",
       "stream": "stdout",
       "text": [
        "\n",
        "saved pickled graph"
       ]
      },
      {
       "output_type": "stream",
       "stream": "stdout",
       "text": [
        "\n",
        "step 1500: lp -479.25, accepted arrival_time: 0.041%, coda_decay: 0.085%, coda_height: 0.123%, evdepth: 0.098%, evloc: 0.785%, evloc_big: 0.199%, evmb: 0.932%, evtime: 0.427%, indep_peak: 0.004%, peak_decay: 0.367%, peak_offset: 0.176%, , uatemplates: 0 , events: 1 "
       ]
      },
      {
       "output_type": "stream",
       "stream": "stdout",
       "text": [
        "\n",
        "saving debug dump to /home/dmoore/python/sigvisa/logs/mcmc/01626/step_001509..."
       ]
      },
      {
       "output_type": "stream",
       "stream": "stdout",
       "text": [
        "\n",
        "saved pickled graph"
       ]
      },
      {
       "output_type": "stream",
       "stream": "stdout",
       "text": [
        "\n",
        "step 1510: lp -476.66, accepted arrival_time: 0.042%, coda_decay: 0.085%, coda_height: 0.124%, evdepth: 0.099%, evloc: 0.786%, evloc_big: 0.197%, evmb: 0.932%, evtime: 0.425%, indep_peak: 0.004%, peak_decay: 0.367%, peak_offset: 0.176%, , uatemplates: 0 , events: 1 "
       ]
      },
      {
       "output_type": "stream",
       "stream": "stdout",
       "text": [
        "\n",
        "saving debug dump to /home/dmoore/python/sigvisa/logs/mcmc/01626/step_001519..."
       ]
      },
      {
       "output_type": "stream",
       "stream": "stdout",
       "text": [
        "\n",
        "saved pickled graph"
       ]
      },
      {
       "output_type": "stream",
       "stream": "stdout",
       "text": [
        "\n",
        "step 1520: lp -481.07, accepted arrival_time: 0.041%, coda_decay: 0.085%, coda_height: 0.124%, evdepth: 0.099%, evloc: 0.785%, evloc_big: 0.197%, evmb: 0.933%, evtime: 0.426%, indep_peak: 0.004%, peak_decay: 0.366%, peak_offset: 0.176%, , uatemplates: 0 , events: 1 "
       ]
      },
      {
       "output_type": "stream",
       "stream": "stdout",
       "text": [
        "\n",
        "saving debug dump to /home/dmoore/python/sigvisa/logs/mcmc/01626/step_001529..."
       ]
      },
      {
       "output_type": "stream",
       "stream": "stdout",
       "text": [
        "\n",
        "saved pickled graph"
       ]
      },
      {
       "output_type": "stream",
       "stream": "stdout",
       "text": [
        "\n",
        "step 1530: lp -476.03, accepted arrival_time: 0.041%, coda_decay: 0.086%, coda_height: 0.125%, evdepth: 0.099%, evloc: 0.783%, evloc_big: 0.198%, evmb: 0.933%, evtime: 0.427%, indep_peak: 0.004%, peak_decay: 0.366%, peak_offset: 0.176%, , uatemplates: 0 , events: 1 "
       ]
      },
      {
       "output_type": "stream",
       "stream": "stdout",
       "text": [
        "\n",
        "saving debug dump to /home/dmoore/python/sigvisa/logs/mcmc/01626/step_001539..."
       ]
      },
      {
       "output_type": "stream",
       "stream": "stdout",
       "text": [
        "\n",
        "saved pickled graph"
       ]
      },
      {
       "output_type": "stream",
       "stream": "stdout",
       "text": [
        "\n",
        "step 1540: lp -473.92, accepted arrival_time: 0.042%, coda_decay: 0.086%, coda_height: 0.124%, evdepth: 0.100%, evloc: 0.784%, evloc_big: 0.198%, evmb: 0.934%, evtime: 0.427%, indep_peak: 0.004%, peak_decay: 0.365%, peak_offset: 0.176%, , uatemplates: 0 , events: 1 "
       ]
      },
      {
       "output_type": "stream",
       "stream": "stdout",
       "text": [
        "\n",
        "saving debug dump to /home/dmoore/python/sigvisa/logs/mcmc/01626/step_001549..."
       ]
      },
      {
       "output_type": "stream",
       "stream": "stdout",
       "text": [
        "\n",
        "saved pickled graph"
       ]
      },
      {
       "output_type": "stream",
       "stream": "stdout",
       "text": [
        "\n",
        "step 1550: lp -479.18, accepted arrival_time: 0.041%, coda_decay: 0.086%, coda_height: 0.124%, evdepth: 0.099%, evloc: 0.785%, evloc_big: 0.198%, evmb: 0.934%, evtime: 0.426%, indep_peak: 0.004%, peak_decay: 0.364%, peak_offset: 0.176%, , uatemplates: 0 , events: 1 "
       ]
      },
      {
       "output_type": "stream",
       "stream": "stdout",
       "text": [
        "\n",
        "saving debug dump to /home/dmoore/python/sigvisa/logs/mcmc/01626/step_001559..."
       ]
      },
      {
       "output_type": "stream",
       "stream": "stdout",
       "text": [
        "\n",
        "saved pickled graph"
       ]
      },
      {
       "output_type": "stream",
       "stream": "stdout",
       "text": [
        "\n",
        "step 1560: lp -479.79, accepted arrival_time: 0.041%, coda_decay: 0.086%, coda_height: 0.124%, evdepth: 0.099%, evloc: 0.783%, evloc_big: 0.198%, evmb: 0.933%, evtime: 0.425%, indep_peak: 0.004%, peak_decay: 0.364%, peak_offset: 0.176%, , uatemplates: 0 , events: 1 "
       ]
      },
      {
       "output_type": "stream",
       "stream": "stdout",
       "text": [
        "\n",
        "saving debug dump to /home/dmoore/python/sigvisa/logs/mcmc/01626/step_001569..."
       ]
      },
      {
       "output_type": "stream",
       "stream": "stdout",
       "text": [
        "\n",
        "saved pickled graph"
       ]
      },
      {
       "output_type": "stream",
       "stream": "stdout",
       "text": [
        "\n",
        "step 1570: lp -475.25, accepted arrival_time: 0.041%, coda_decay: 0.086%, coda_height: 0.124%, evdepth: 0.099%, evloc: 0.784%, evloc_big: 0.197%, evmb: 0.934%, evtime: 0.425%, indep_peak: 0.004%, peak_decay: 0.363%, peak_offset: 0.176%, , uatemplates: 0 , events: 1 "
       ]
      },
      {
       "output_type": "stream",
       "stream": "stdout",
       "text": [
        "\n",
        "saving debug dump to /home/dmoore/python/sigvisa/logs/mcmc/01626/step_001579..."
       ]
      },
      {
       "output_type": "stream",
       "stream": "stdout",
       "text": [
        "\n",
        "saved pickled graph"
       ]
      },
      {
       "output_type": "stream",
       "stream": "stdout",
       "text": [
        "\n",
        "step 1580: lp -478.54, accepted arrival_time: 0.041%, coda_decay: 0.086%, coda_height: 0.123%, evdepth: 0.099%, evloc: 0.784%, evloc_big: 0.198%, evmb: 0.934%, evtime: 0.424%, indep_peak: 0.004%, peak_decay: 0.363%, peak_offset: 0.176%, , uatemplates: 0 , events: 1 "
       ]
      },
      {
       "output_type": "stream",
       "stream": "stdout",
       "text": [
        "\n",
        "saving debug dump to /home/dmoore/python/sigvisa/logs/mcmc/01626/step_001589..."
       ]
      },
      {
       "output_type": "stream",
       "stream": "stdout",
       "text": [
        "\n",
        "saved pickled graph"
       ]
      },
      {
       "output_type": "stream",
       "stream": "stdout",
       "text": [
        "\n",
        "step 1590: lp -485.68, accepted arrival_time: 0.042%, coda_decay: 0.086%, coda_height: 0.123%, evdepth: 0.098%, evloc: 0.784%, evloc_big: 0.198%, evmb: 0.934%, evtime: 0.424%, indep_peak: 0.004%, peak_decay: 0.362%, peak_offset: 0.176%, , uatemplates: 0 , events: 1 "
       ]
      },
      {
       "output_type": "stream",
       "stream": "stdout",
       "text": [
        "\n",
        "saving debug dump to /home/dmoore/python/sigvisa/logs/mcmc/01626/step_001599..."
       ]
      },
      {
       "output_type": "stream",
       "stream": "stdout",
       "text": [
        "\n",
        "saved pickled graph"
       ]
      },
      {
       "output_type": "stream",
       "stream": "stdout",
       "text": [
        "\n",
        "step 1600: lp -482.58, accepted arrival_time: 0.042%, coda_decay: 0.086%, coda_height: 0.123%, evdepth: 0.097%, evloc: 0.785%, evloc_big: 0.197%, evmb: 0.934%, evtime: 0.425%, indep_peak: 0.004%, peak_decay: 0.363%, peak_offset: 0.177%, , uatemplates: 0 , events: 1 "
       ]
      },
      {
       "output_type": "stream",
       "stream": "stdout",
       "text": [
        "\n",
        "saving debug dump to /home/dmoore/python/sigvisa/logs/mcmc/01626/step_001609..."
       ]
      },
      {
       "output_type": "stream",
       "stream": "stdout",
       "text": [
        "\n",
        "saved pickled graph"
       ]
      },
      {
       "output_type": "stream",
       "stream": "stdout",
       "text": [
        "\n",
        "step 1610: lp -478.26, accepted arrival_time: 0.042%, coda_decay: 0.086%, coda_height: 0.123%, evdepth: 0.097%, evloc: 0.785%, evloc_big: 0.197%, evmb: 0.935%, evtime: 0.425%, indep_peak: 0.004%, peak_decay: 0.363%, peak_offset: 0.177%, , uatemplates: 0 , events: 1 "
       ]
      },
      {
       "output_type": "stream",
       "stream": "stdout",
       "text": [
        "\n",
        "saving debug dump to /home/dmoore/python/sigvisa/logs/mcmc/01626/step_001619..."
       ]
      },
      {
       "output_type": "stream",
       "stream": "stdout",
       "text": [
        "\n",
        "saved pickled graph"
       ]
      },
      {
       "output_type": "stream",
       "stream": "stdout",
       "text": [
        "\n",
        "step 1620: lp -476.75, accepted arrival_time: 0.042%, coda_decay: 0.086%, coda_height: 0.123%, evdepth: 0.097%, evloc: 0.786%, evloc_big: 0.197%, evmb: 0.935%, evtime: 0.425%, indep_peak: 0.004%, peak_decay: 0.363%, peak_offset: 0.177%, , uatemplates: 0 , events: 1 "
       ]
      },
      {
       "output_type": "stream",
       "stream": "stdout",
       "text": [
        "\n",
        "saving debug dump to /home/dmoore/python/sigvisa/logs/mcmc/01626/step_001629..."
       ]
      },
      {
       "output_type": "stream",
       "stream": "stdout",
       "text": [
        "\n",
        "saved pickled graph"
       ]
      },
      {
       "output_type": "stream",
       "stream": "stdout",
       "text": [
        "\n",
        "step 1630: lp -477.64, accepted arrival_time: 0.042%, coda_decay: 0.086%, coda_height: 0.123%, evdepth: 0.097%, evloc: 0.786%, evloc_big: 0.196%, evmb: 0.935%, evtime: 0.424%, indep_peak: 0.004%, peak_decay: 0.364%, peak_offset: 0.177%, , uatemplates: 0 , events: 1 "
       ]
      },
      {
       "output_type": "stream",
       "stream": "stdout",
       "text": [
        "\n",
        "saving debug dump to /home/dmoore/python/sigvisa/logs/mcmc/01626/step_001639..."
       ]
      },
      {
       "output_type": "stream",
       "stream": "stdout",
       "text": [
        "\n",
        "saved pickled graph"
       ]
      },
      {
       "output_type": "stream",
       "stream": "stdout",
       "text": [
        "\n",
        "step 1640: lp -475.39, accepted arrival_time: 0.042%, coda_decay: 0.086%, coda_height: 0.123%, evdepth: 0.098%, evloc: 0.786%, evloc_big: 0.197%, evmb: 0.935%, evtime: 0.425%, indep_peak: 0.004%, peak_decay: 0.365%, peak_offset: 0.177%, , uatemplates: 0 , events: 1 "
       ]
      },
      {
       "output_type": "stream",
       "stream": "stdout",
       "text": [
        "\n",
        "saving debug dump to /home/dmoore/python/sigvisa/logs/mcmc/01626/step_001649..."
       ]
      },
      {
       "output_type": "stream",
       "stream": "stdout",
       "text": [
        "\n",
        "saved pickled graph"
       ]
      },
      {
       "output_type": "stream",
       "stream": "stdout",
       "text": [
        "\n",
        "step 1650: lp -473.99, accepted arrival_time: 0.042%, coda_decay: 0.086%, coda_height: 0.123%, evdepth: 0.100%, evloc: 0.786%, evloc_big: 0.197%, evmb: 0.935%, evtime: 0.425%, indep_peak: 0.004%, peak_decay: 0.366%, peak_offset: 0.177%, , uatemplates: 0 , events: 1 "
       ]
      },
      {
       "output_type": "stream",
       "stream": "stdout",
       "text": [
        "\n",
        "saving debug dump to /home/dmoore/python/sigvisa/logs/mcmc/01626/step_001659..."
       ]
      },
      {
       "output_type": "stream",
       "stream": "stdout",
       "text": [
        "\n",
        "saved pickled graph"
       ]
      },
      {
       "output_type": "stream",
       "stream": "stdout",
       "text": [
        "\n",
        "step 1660: lp -476.36, accepted arrival_time: 0.042%, coda_decay: 0.086%, coda_height: 0.123%, evdepth: 0.100%, evloc: 0.787%, evloc_big: 0.197%, evmb: 0.936%, evtime: 0.424%, indep_peak: 0.003%, peak_decay: 0.366%, peak_offset: 0.177%, , uatemplates: 0 , events: 1 "
       ]
      },
      {
       "output_type": "stream",
       "stream": "stdout",
       "text": [
        "\n",
        "saving debug dump to /home/dmoore/python/sigvisa/logs/mcmc/01626/step_001669..."
       ]
      },
      {
       "output_type": "stream",
       "stream": "stdout",
       "text": [
        "\n",
        "saved pickled graph"
       ]
      },
      {
       "output_type": "stream",
       "stream": "stdout",
       "text": [
        "\n",
        "step 1670: lp -484.48, accepted arrival_time: 0.042%, coda_decay: 0.085%, coda_height: 0.123%, evdepth: 0.099%, evloc: 0.788%, evloc_big: 0.198%, evmb: 0.936%, evtime: 0.424%, indep_peak: 0.003%, peak_decay: 0.367%, peak_offset: 0.177%, , uatemplates: 0 , events: 1 "
       ]
      },
      {
       "output_type": "stream",
       "stream": "stdout",
       "text": [
        "\n",
        "saving debug dump to /home/dmoore/python/sigvisa/logs/mcmc/01626/step_001679..."
       ]
      },
      {
       "output_type": "stream",
       "stream": "stdout",
       "text": [
        "\n",
        "saved pickled graph"
       ]
      },
      {
       "output_type": "stream",
       "stream": "stdout",
       "text": [
        "\n",
        "step 1680: lp -480.33, accepted arrival_time: 0.042%, coda_decay: 0.085%, coda_height: 0.122%, evdepth: 0.099%, evloc: 0.788%, evloc_big: 0.197%, evmb: 0.936%, evtime: 0.425%, indep_peak: 0.003%, peak_decay: 0.366%, peak_offset: 0.177%, , uatemplates: 0 , events: 1 "
       ]
      },
      {
       "output_type": "stream",
       "stream": "stdout",
       "text": [
        "\n",
        "saving debug dump to /home/dmoore/python/sigvisa/logs/mcmc/01626/step_001689..."
       ]
      },
      {
       "output_type": "stream",
       "stream": "stdout",
       "text": [
        "\n",
        "saved pickled graph"
       ]
      },
      {
       "output_type": "stream",
       "stream": "stdout",
       "text": [
        "\n",
        "step 1690: lp -478.20, accepted arrival_time: 0.042%, coda_decay: 0.086%, coda_height: 0.122%, evdepth: 0.099%, evloc: 0.789%, evloc_big: 0.196%, evmb: 0.937%, evtime: 0.423%, indep_peak: 0.003%, peak_decay: 0.366%, peak_offset: 0.178%, , uatemplates: 0 , events: 1 "
       ]
      },
      {
       "output_type": "stream",
       "stream": "stdout",
       "text": [
        "\n",
        "saving debug dump to /home/dmoore/python/sigvisa/logs/mcmc/01626/step_001699..."
       ]
      },
      {
       "output_type": "stream",
       "stream": "stdout",
       "text": [
        "\n",
        "saved pickled graph"
       ]
      },
      {
       "output_type": "stream",
       "stream": "stdout",
       "text": [
        "\n",
        "step 1700: lp -472.74, accepted arrival_time: 0.042%, coda_decay: 0.085%, coda_height: 0.122%, evdepth: 0.099%, evloc: 0.788%, evloc_big: 0.196%, evmb: 0.937%, evtime: 0.422%, indep_peak: 0.003%, peak_decay: 0.366%, peak_offset: 0.178%, , uatemplates: 0 , events: 1 "
       ]
      },
      {
       "output_type": "stream",
       "stream": "stdout",
       "text": [
        "\n",
        "saving debug dump to /home/dmoore/python/sigvisa/logs/mcmc/01626/step_001709..."
       ]
      },
      {
       "output_type": "stream",
       "stream": "stdout",
       "text": [
        "\n",
        "saved pickled graph"
       ]
      },
      {
       "output_type": "stream",
       "stream": "stdout",
       "text": [
        "\n",
        "step 1710: lp -474.46, accepted arrival_time: 0.042%, coda_decay: 0.086%, coda_height: 0.122%, evdepth: 0.099%, evloc: 0.787%, evloc_big: 0.196%, evmb: 0.937%, evtime: 0.422%, indep_peak: 0.003%, peak_decay: 0.365%, peak_offset: 0.178%, , uatemplates: 0 , events: 1 "
       ]
      },
      {
       "output_type": "stream",
       "stream": "stdout",
       "text": [
        "\n",
        "saving debug dump to /home/dmoore/python/sigvisa/logs/mcmc/01626/step_001719..."
       ]
      },
      {
       "output_type": "stream",
       "stream": "stdout",
       "text": [
        "\n",
        "saved pickled graph"
       ]
      },
      {
       "output_type": "stream",
       "stream": "stdout",
       "text": [
        "\n",
        "step 1720: lp -477.71, accepted arrival_time: 0.041%, coda_decay: 0.086%, coda_height: 0.122%, evdepth: 0.098%, evloc: 0.788%, evloc_big: 0.195%, evmb: 0.936%, evtime: 0.422%, indep_peak: 0.003%, peak_decay: 0.364%, peak_offset: 0.178%, , uatemplates: 0 , events: 1 "
       ]
      },
      {
       "output_type": "stream",
       "stream": "stdout",
       "text": [
        "\n",
        "saving debug dump to /home/dmoore/python/sigvisa/logs/mcmc/01626/step_001729..."
       ]
      },
      {
       "output_type": "stream",
       "stream": "stdout",
       "text": [
        "\n",
        "saved pickled graph"
       ]
      },
      {
       "output_type": "stream",
       "stream": "stdout",
       "text": [
        "\n",
        "step 1730: lp -477.18, accepted arrival_time: 0.041%, coda_decay: 0.086%, coda_height: 0.122%, evdepth: 0.098%, evloc: 0.788%, evloc_big: 0.195%, evmb: 0.936%, evtime: 0.422%, indep_peak: 0.003%, peak_decay: 0.363%, peak_offset: 0.178%, , uatemplates: 0 , events: 1 "
       ]
      },
      {
       "output_type": "stream",
       "stream": "stdout",
       "text": [
        "\n",
        "saving debug dump to /home/dmoore/python/sigvisa/logs/mcmc/01626/step_001739..."
       ]
      },
      {
       "output_type": "stream",
       "stream": "stdout",
       "text": [
        "\n",
        "saved pickled graph"
       ]
      },
      {
       "output_type": "stream",
       "stream": "stdout",
       "text": [
        "\n",
        "step 1740: lp -475.01, accepted arrival_time: 0.041%, coda_decay: 0.086%, coda_height: 0.122%, evdepth: 0.097%, evloc: 0.788%, evloc_big: 0.195%, evmb: 0.936%, evtime: 0.422%, indep_peak: 0.003%, peak_decay: 0.363%, peak_offset: 0.178%, , uatemplates: 0 , events: 1 "
       ]
      },
      {
       "output_type": "stream",
       "stream": "stdout",
       "text": [
        "\n",
        "saving debug dump to /home/dmoore/python/sigvisa/logs/mcmc/01626/step_001749..."
       ]
      },
      {
       "output_type": "stream",
       "stream": "stdout",
       "text": [
        "\n",
        "saved pickled graph"
       ]
      },
      {
       "output_type": "stream",
       "stream": "stdout",
       "text": [
        "\n",
        "step 1750: lp -474.47, accepted arrival_time: 0.041%, coda_decay: 0.086%, coda_height: 0.122%, evdepth: 0.097%, evloc: 0.789%, evloc_big: 0.196%, evmb: 0.936%, evtime: 0.422%, indep_peak: 0.003%, peak_decay: 0.362%, peak_offset: 0.178%, , uatemplates: 0 , events: 1 "
       ]
      },
      {
       "output_type": "stream",
       "stream": "stdout",
       "text": [
        "\n",
        "saving debug dump to /home/dmoore/python/sigvisa/logs/mcmc/01626/step_001759..."
       ]
      },
      {
       "output_type": "stream",
       "stream": "stdout",
       "text": [
        "\n",
        "saved pickled graph"
       ]
      },
      {
       "output_type": "stream",
       "stream": "stdout",
       "text": [
        "\n",
        "step 1760: lp -471.22, accepted arrival_time: 0.041%, coda_decay: 0.086%, coda_height: 0.122%, evdepth: 0.096%, evloc: 0.789%, evloc_big: 0.197%, evmb: 0.936%, evtime: 0.423%, indep_peak: 0.003%, peak_decay: 0.362%, peak_offset: 0.178%, , uatemplates: 0 , events: 1 "
       ]
      },
      {
       "output_type": "stream",
       "stream": "stdout",
       "text": [
        "\n",
        "saving debug dump to /home/dmoore/python/sigvisa/logs/mcmc/01626/step_001769..."
       ]
      },
      {
       "output_type": "stream",
       "stream": "stdout",
       "text": [
        "\n",
        "saved pickled graph"
       ]
      },
      {
       "output_type": "stream",
       "stream": "stdout",
       "text": [
        "\n",
        "step 1770: lp -474.35, accepted arrival_time: 0.042%, coda_decay: 0.086%, coda_height: 0.122%, evdepth: 0.095%, evloc: 0.788%, evloc_big: 0.198%, evmb: 0.936%, evtime: 0.423%, indep_peak: 0.003%, peak_decay: 0.362%, peak_offset: 0.178%, , uatemplates: 0 , events: 1 "
       ]
      },
      {
       "output_type": "stream",
       "stream": "stdout",
       "text": [
        "\n",
        "saving debug dump to /home/dmoore/python/sigvisa/logs/mcmc/01626/step_001779..."
       ]
      },
      {
       "output_type": "stream",
       "stream": "stdout",
       "text": [
        "\n",
        "saved pickled graph"
       ]
      },
      {
       "output_type": "stream",
       "stream": "stdout",
       "text": [
        "\n",
        "step 1780: lp -473.45, accepted arrival_time: 0.041%, coda_decay: 0.086%, coda_height: 0.122%, evdepth: 0.095%, evloc: 0.789%, evloc_big: 0.197%, evmb: 0.936%, evtime: 0.423%, indep_peak: 0.003%, peak_decay: 0.361%, peak_offset: 0.178%, , uatemplates: 0 , events: 1 "
       ]
      },
      {
       "output_type": "stream",
       "stream": "stdout",
       "text": [
        "\n",
        "saving debug dump to /home/dmoore/python/sigvisa/logs/mcmc/01626/step_001789..."
       ]
      },
      {
       "output_type": "stream",
       "stream": "stdout",
       "text": [
        "\n",
        "saved pickled graph"
       ]
      },
      {
       "output_type": "stream",
       "stream": "stdout",
       "text": [
        "\n",
        "step 1790: lp -481.21, accepted arrival_time: 0.041%, coda_decay: 0.086%, coda_height: 0.121%, evdepth: 0.095%, evloc: 0.790%, evloc_big: 0.196%, evmb: 0.936%, evtime: 0.424%, indep_peak: 0.003%, peak_decay: 0.362%, peak_offset: 0.178%, , uatemplates: 0 , events: 1 "
       ]
      },
      {
       "output_type": "stream",
       "stream": "stdout",
       "text": [
        "\n",
        "saving debug dump to /home/dmoore/python/sigvisa/logs/mcmc/01626/step_001799..."
       ]
      },
      {
       "output_type": "stream",
       "stream": "stdout",
       "text": [
        "\n",
        "saved pickled graph"
       ]
      },
      {
       "output_type": "stream",
       "stream": "stdout",
       "text": [
        "\n",
        "step 1800: lp -479.66, accepted arrival_time: 0.041%, coda_decay: 0.086%, coda_height: 0.121%, evdepth: 0.096%, evloc: 0.791%, evloc_big: 0.196%, evmb: 0.937%, evtime: 0.423%, indep_peak: 0.003%, peak_decay: 0.362%, peak_offset: 0.178%, , uatemplates: 0 , events: 1 "
       ]
      },
      {
       "output_type": "stream",
       "stream": "stdout",
       "text": [
        "\n",
        "saving debug dump to /home/dmoore/python/sigvisa/logs/mcmc/01626/step_001809..."
       ]
      },
      {
       "output_type": "stream",
       "stream": "stdout",
       "text": [
        "\n",
        "saved pickled graph"
       ]
      },
      {
       "output_type": "stream",
       "stream": "stdout",
       "text": [
        "\n",
        "step 1810: lp -475.07, accepted arrival_time: 0.041%, coda_decay: 0.086%, coda_height: 0.121%, evdepth: 0.095%, evloc: 0.791%, evloc_big: 0.197%, evmb: 0.937%, evtime: 0.424%, indep_peak: 0.003%, peak_decay: 0.362%, peak_offset: 0.178%, , uatemplates: 0 , events: 1 "
       ]
      },
      {
       "output_type": "stream",
       "stream": "stdout",
       "text": [
        "\n",
        "saving debug dump to /home/dmoore/python/sigvisa/logs/mcmc/01626/step_001819..."
       ]
      },
      {
       "output_type": "stream",
       "stream": "stdout",
       "text": [
        "\n",
        "saved pickled graph"
       ]
      },
      {
       "output_type": "stream",
       "stream": "stdout",
       "text": [
        "\n",
        "step 1820: lp -472.84, accepted arrival_time: 0.041%, coda_decay: 0.086%, coda_height: 0.121%, evdepth: 0.096%, evloc: 0.791%, evloc_big: 0.197%, evmb: 0.937%, evtime: 0.422%, indep_peak: 0.003%, peak_decay: 0.362%, peak_offset: 0.178%, , uatemplates: 0 , events: 1 "
       ]
      },
      {
       "output_type": "stream",
       "stream": "stdout",
       "text": [
        "\n",
        "saving debug dump to /home/dmoore/python/sigvisa/logs/mcmc/01626/step_001829..."
       ]
      },
      {
       "output_type": "stream",
       "stream": "stdout",
       "text": [
        "\n",
        "saved pickled graph"
       ]
      },
      {
       "output_type": "stream",
       "stream": "stdout",
       "text": [
        "\n",
        "step 1830: lp -472.27, accepted arrival_time: 0.041%, coda_decay: 0.086%, coda_height: 0.121%, evdepth: 0.095%, evloc: 0.791%, evloc_big: 0.196%, evmb: 0.937%, evtime: 0.421%, indep_peak: 0.003%, peak_decay: 0.363%, peak_offset: 0.178%, , uatemplates: 0 , events: 1 "
       ]
      },
      {
       "output_type": "stream",
       "stream": "stdout",
       "text": [
        "\n",
        "saving debug dump to /home/dmoore/python/sigvisa/logs/mcmc/01626/step_001839..."
       ]
      },
      {
       "output_type": "stream",
       "stream": "stdout",
       "text": [
        "\n",
        "saved pickled graph"
       ]
      },
      {
       "output_type": "stream",
       "stream": "stdout",
       "text": [
        "\n",
        "step 1840: lp -476.81, accepted arrival_time: 0.041%, coda_decay: 0.086%, coda_height: 0.121%, evdepth: 0.095%, evloc: 0.791%, evloc_big: 0.198%, evmb: 0.938%, evtime: 0.422%, indep_peak: 0.003%, peak_decay: 0.363%, peak_offset: 0.177%, , uatemplates: 0 , events: 1 "
       ]
      },
      {
       "output_type": "stream",
       "stream": "stdout",
       "text": [
        "\n",
        "saving debug dump to /home/dmoore/python/sigvisa/logs/mcmc/01626/step_001849..."
       ]
      },
      {
       "output_type": "stream",
       "stream": "stdout",
       "text": [
        "\n",
        "saved pickled graph"
       ]
      },
      {
       "output_type": "stream",
       "stream": "stdout",
       "text": [
        "\n",
        "step 1850: lp -470.56, accepted arrival_time: 0.041%, coda_decay: 0.086%, coda_height: 0.121%, evdepth: 0.095%, evloc: 0.791%, evloc_big: 0.199%, evmb: 0.937%, evtime: 0.420%, indep_peak: 0.003%, peak_decay: 0.363%, peak_offset: 0.177%, , uatemplates: 0 , events: 1 "
       ]
      },
      {
       "output_type": "stream",
       "stream": "stdout",
       "text": [
        "\n",
        "saving debug dump to /home/dmoore/python/sigvisa/logs/mcmc/01626/step_001859..."
       ]
      },
      {
       "output_type": "stream",
       "stream": "stdout",
       "text": [
        "\n",
        "saved pickled graph"
       ]
      },
      {
       "output_type": "stream",
       "stream": "stdout",
       "text": [
        "\n",
        "step 1860: lp -475.08, accepted arrival_time: 0.041%, coda_decay: 0.086%, coda_height: 0.121%, evdepth: 0.094%, evloc: 0.792%, evloc_big: 0.198%, evmb: 0.937%, evtime: 0.420%, indep_peak: 0.003%, peak_decay: 0.363%, peak_offset: 0.177%, , uatemplates: 0 , events: 1 "
       ]
      },
      {
       "output_type": "stream",
       "stream": "stdout",
       "text": [
        "\n",
        "saving debug dump to /home/dmoore/python/sigvisa/logs/mcmc/01626/step_001869..."
       ]
      },
      {
       "output_type": "stream",
       "stream": "stdout",
       "text": [
        "\n",
        "saved pickled graph"
       ]
      },
      {
       "output_type": "stream",
       "stream": "stdout",
       "text": [
        "\n",
        "step 1870: lp -478.15, accepted arrival_time: 0.041%, coda_decay: 0.086%, coda_height: 0.121%, evdepth: 0.094%, evloc: 0.792%, evloc_big: 0.198%, evmb: 0.937%, evtime: 0.419%, indep_peak: 0.003%, peak_decay: 0.363%, peak_offset: 0.177%, , uatemplates: 0 , events: 1 "
       ]
      },
      {
       "output_type": "stream",
       "stream": "stdout",
       "text": [
        "\n",
        "saving debug dump to /home/dmoore/python/sigvisa/logs/mcmc/01626/step_001879..."
       ]
      },
      {
       "output_type": "stream",
       "stream": "stdout",
       "text": [
        "\n",
        "saved pickled graph"
       ]
      },
      {
       "output_type": "stream",
       "stream": "stdout",
       "text": [
        "\n",
        "step 1880: lp -479.90, accepted arrival_time: 0.041%, coda_decay: 0.086%, coda_height: 0.121%, evdepth: 0.094%, evloc: 0.792%, evloc_big: 0.198%, evmb: 0.937%, evtime: 0.420%, indep_peak: 0.003%, peak_decay: 0.364%, peak_offset: 0.177%, , uatemplates: 0 , events: 1 "
       ]
      },
      {
       "output_type": "stream",
       "stream": "stdout",
       "text": [
        "\n",
        "saving debug dump to /home/dmoore/python/sigvisa/logs/mcmc/01626/step_001889..."
       ]
      },
      {
       "output_type": "stream",
       "stream": "stdout",
       "text": [
        "\n",
        "saved pickled graph"
       ]
      },
      {
       "output_type": "stream",
       "stream": "stdout",
       "text": [
        "\n",
        "step 1890: lp -479.53, accepted arrival_time: 0.042%, coda_decay: 0.086%, coda_height: 0.121%, evdepth: 0.093%, evloc: 0.791%, evloc_big: 0.198%, evmb: 0.937%, evtime: 0.419%, indep_peak: 0.003%, peak_decay: 0.364%, peak_offset: 0.177%, , uatemplates: 0 , events: 1 "
       ]
      },
      {
       "output_type": "stream",
       "stream": "stdout",
       "text": [
        "\n",
        "saving debug dump to /home/dmoore/python/sigvisa/logs/mcmc/01626/step_001899..."
       ]
      },
      {
       "output_type": "stream",
       "stream": "stdout",
       "text": [
        "\n",
        "saved pickled graph"
       ]
      },
      {
       "output_type": "stream",
       "stream": "stdout",
       "text": [
        "\n",
        "step 1900: lp -476.49, accepted arrival_time: 0.042%, coda_decay: 0.086%, coda_height: 0.121%, evdepth: 0.094%, evloc: 0.792%, evloc_big: 0.197%, evmb: 0.935%, evtime: 0.419%, indep_peak: 0.003%, peak_decay: 0.364%, peak_offset: 0.177%, , uatemplates: 0 , events: 1 "
       ]
      },
      {
       "output_type": "stream",
       "stream": "stdout",
       "text": [
        "\n",
        "saving debug dump to /home/dmoore/python/sigvisa/logs/mcmc/01626/step_001909..."
       ]
      },
      {
       "output_type": "stream",
       "stream": "stdout",
       "text": [
        "\n",
        "saved pickled graph"
       ]
      },
      {
       "output_type": "stream",
       "stream": "stdout",
       "text": [
        "\n",
        "step 1910: lp -474.59, accepted arrival_time: 0.042%, coda_decay: 0.086%, coda_height: 0.121%, evdepth: 0.094%, evloc: 0.793%, evloc_big: 0.198%, evmb: 0.935%, evtime: 0.420%, indep_peak: 0.003%, peak_decay: 0.364%, peak_offset: 0.177%, , uatemplates: 0 , events: 1 "
       ]
      },
      {
       "output_type": "stream",
       "stream": "stdout",
       "text": [
        "\n",
        "saving debug dump to /home/dmoore/python/sigvisa/logs/mcmc/01626/step_001919..."
       ]
      },
      {
       "output_type": "stream",
       "stream": "stdout",
       "text": [
        "\n",
        "saved pickled graph"
       ]
      },
      {
       "output_type": "stream",
       "stream": "stdout",
       "text": [
        "\n",
        "step 1920: lp -475.65, accepted arrival_time: 0.042%, coda_decay: 0.086%, coda_height: 0.121%, evdepth: 0.094%, evloc: 0.792%, evloc_big: 0.197%, evmb: 0.934%, evtime: 0.419%, indep_peak: 0.003%, peak_decay: 0.364%, peak_offset: 0.177%, , uatemplates: 0 , events: 1 "
       ]
      },
      {
       "output_type": "stream",
       "stream": "stdout",
       "text": [
        "\n",
        "saving debug dump to /home/dmoore/python/sigvisa/logs/mcmc/01626/step_001929..."
       ]
      },
      {
       "output_type": "stream",
       "stream": "stdout",
       "text": [
        "\n",
        "saved pickled graph"
       ]
      },
      {
       "output_type": "stream",
       "stream": "stdout",
       "text": [
        "\n",
        "step 1930: lp -472.92, accepted arrival_time: 0.042%, coda_decay: 0.086%, coda_height: 0.121%, evdepth: 0.094%, evloc: 0.792%, evloc_big: 0.197%, evmb: 0.934%, evtime: 0.419%, indep_peak: 0.003%, peak_decay: 0.364%, peak_offset: 0.177%, , uatemplates: 0 , events: 1 "
       ]
      },
      {
       "output_type": "stream",
       "stream": "stdout",
       "text": [
        "\n",
        "saving debug dump to /home/dmoore/python/sigvisa/logs/mcmc/01626/step_001939..."
       ]
      },
      {
       "output_type": "stream",
       "stream": "stdout",
       "text": [
        "\n",
        "saved pickled graph"
       ]
      },
      {
       "output_type": "stream",
       "stream": "stdout",
       "text": [
        "\n",
        "step 1940: lp -475.40, accepted arrival_time: 0.042%, coda_decay: 0.086%, coda_height: 0.121%, evdepth: 0.094%, evloc: 0.793%, evloc_big: 0.198%, evmb: 0.935%, evtime: 0.420%, indep_peak: 0.003%, peak_decay: 0.364%, peak_offset: 0.177%, , uatemplates: 0 , events: 1 "
       ]
      },
      {
       "output_type": "stream",
       "stream": "stdout",
       "text": [
        "\n",
        "saving debug dump to /home/dmoore/python/sigvisa/logs/mcmc/01626/step_001949..."
       ]
      },
      {
       "output_type": "stream",
       "stream": "stdout",
       "text": [
        "\n",
        "saved pickled graph"
       ]
      },
      {
       "output_type": "stream",
       "stream": "stdout",
       "text": [
        "\n",
        "step 1950: lp -477.69, accepted arrival_time: 0.042%, coda_decay: 0.085%, coda_height: 0.121%, evdepth: 0.094%, evloc: 0.794%, evloc_big: 0.198%, evmb: 0.934%, evtime: 0.420%, indep_peak: 0.003%, peak_decay: 0.365%, peak_offset: 0.177%, , uatemplates: 0 , events: 1 "
       ]
      },
      {
       "output_type": "stream",
       "stream": "stdout",
       "text": [
        "\n",
        "saving debug dump to /home/dmoore/python/sigvisa/logs/mcmc/01626/step_001959..."
       ]
      },
      {
       "output_type": "stream",
       "stream": "stdout",
       "text": [
        "\n",
        "saved pickled graph"
       ]
      },
      {
       "output_type": "stream",
       "stream": "stdout",
       "text": [
        "\n",
        "step 1960: lp -482.78, accepted arrival_time: 0.042%, coda_decay: 0.085%, coda_height: 0.121%, evdepth: 0.094%, evloc: 0.793%, evloc_big: 0.197%, evmb: 0.934%, evtime: 0.418%, indep_peak: 0.003%, peak_decay: 0.365%, peak_offset: 0.177%, , uatemplates: 0 , events: 1 "
       ]
      },
      {
       "output_type": "stream",
       "stream": "stdout",
       "text": [
        "\n",
        "saving debug dump to /home/dmoore/python/sigvisa/logs/mcmc/01626/step_001969..."
       ]
      },
      {
       "output_type": "stream",
       "stream": "stdout",
       "text": [
        "\n",
        "saved pickled graph"
       ]
      },
      {
       "output_type": "stream",
       "stream": "stdout",
       "text": [
        "\n",
        "step 1970: lp -483.07, accepted arrival_time: 0.042%, coda_decay: 0.086%, coda_height: 0.121%, evdepth: 0.093%, evloc: 0.794%, evloc_big: 0.198%, evmb: 0.934%, evtime: 0.419%, indep_peak: 0.003%, peak_decay: 0.364%, peak_offset: 0.177%, , uatemplates: 0 , events: 1 "
       ]
      },
      {
       "output_type": "stream",
       "stream": "stdout",
       "text": [
        "\n",
        "saving debug dump to /home/dmoore/python/sigvisa/logs/mcmc/01626/step_001979..."
       ]
      },
      {
       "output_type": "stream",
       "stream": "stdout",
       "text": [
        "\n",
        "saved pickled graph"
       ]
      },
      {
       "output_type": "stream",
       "stream": "stdout",
       "text": [
        "\n",
        "step 1980: lp -494.22, accepted arrival_time: 0.042%, coda_decay: 0.086%, coda_height: 0.121%, evdepth: 0.093%, evloc: 0.794%, evloc_big: 0.197%, evmb: 0.934%, evtime: 0.418%, indep_peak: 0.003%, peak_decay: 0.363%, peak_offset: 0.177%, , uatemplates: 0 , events: 1 "
       ]
      },
      {
       "output_type": "stream",
       "stream": "stdout",
       "text": [
        "\n",
        "saving debug dump to /home/dmoore/python/sigvisa/logs/mcmc/01626/step_001989..."
       ]
      },
      {
       "output_type": "stream",
       "stream": "stdout",
       "text": [
        "\n",
        "saved pickled graph"
       ]
      },
      {
       "output_type": "stream",
       "stream": "stdout",
       "text": [
        "\n",
        "step 1990: lp -487.24, accepted arrival_time: 0.042%, coda_decay: 0.086%, coda_height: 0.121%, evdepth: 0.094%, evloc: 0.793%, evloc_big: 0.197%, evmb: 0.935%, evtime: 0.417%, indep_peak: 0.003%, peak_decay: 0.363%, peak_offset: 0.177%, , uatemplates: 0 , events: 1 "
       ]
      },
      {
       "output_type": "stream",
       "stream": "stdout",
       "text": [
        "\n",
        "saving debug dump to /home/dmoore/python/sigvisa/logs/mcmc/01626/step_001999..."
       ]
      },
      {
       "output_type": "stream",
       "stream": "stdout",
       "text": [
        "\n",
        "saved pickled graph"
       ]
      },
      {
       "output_type": "stream",
       "stream": "stdout",
       "text": [
        "\n",
        "step 2000: lp -490.30, accepted arrival_time: 0.042%, coda_decay: 0.086%, coda_height: 0.121%, evdepth: 0.093%, evloc: 0.793%, evloc_big: 0.197%, evmb: 0.935%, evtime: 0.417%, indep_peak: 0.003%, peak_decay: 0.363%, peak_offset: 0.177%, , uatemplates: 0 , events: 1 "
       ]
      },
      {
       "output_type": "stream",
       "stream": "stdout",
       "text": [
        "\n",
        "saving debug dump to /home/dmoore/python/sigvisa/logs/mcmc/01626/step_002009..."
       ]
      },
      {
       "output_type": "stream",
       "stream": "stdout",
       "text": [
        "\n",
        "saved pickled graph"
       ]
      },
      {
       "output_type": "stream",
       "stream": "stdout",
       "text": [
        "\n",
        "step 2010: lp -487.10, accepted arrival_time: 0.042%, coda_decay: 0.086%, coda_height: 0.121%, evdepth: 0.093%, evloc: 0.793%, evloc_big: 0.197%, evmb: 0.935%, evtime: 0.417%, indep_peak: 0.003%, peak_decay: 0.363%, peak_offset: 0.177%, , uatemplates: 0 , events: 1 "
       ]
      },
      {
       "output_type": "stream",
       "stream": "stdout",
       "text": [
        "\n",
        "saving debug dump to /home/dmoore/python/sigvisa/logs/mcmc/01626/step_002019..."
       ]
      },
      {
       "output_type": "stream",
       "stream": "stdout",
       "text": [
        "\n",
        "saved pickled graph"
       ]
      },
      {
       "output_type": "stream",
       "stream": "stdout",
       "text": [
        "\n",
        "step 2020: lp -477.75, accepted arrival_time: 0.042%, coda_decay: 0.085%, coda_height: 0.120%, evdepth: 0.093%, evloc: 0.794%, evloc_big: 0.196%, evmb: 0.935%, evtime: 0.418%, indep_peak: 0.003%, peak_decay: 0.363%, peak_offset: 0.177%, , uatemplates: 0 , events: 1 "
       ]
      },
      {
       "output_type": "stream",
       "stream": "stdout",
       "text": [
        "\n",
        "saving debug dump to /home/dmoore/python/sigvisa/logs/mcmc/01626/step_002029..."
       ]
      },
      {
       "output_type": "stream",
       "stream": "stdout",
       "text": [
        "\n",
        "saved pickled graph"
       ]
      },
      {
       "output_type": "stream",
       "stream": "stdout",
       "text": [
        "\n",
        "step 2030: lp -482.96, accepted arrival_time: 0.042%, coda_decay: 0.085%, coda_height: 0.120%, evdepth: 0.093%, evloc: 0.793%, evloc_big: 0.196%, evmb: 0.935%, evtime: 0.418%, indep_peak: 0.003%, peak_decay: 0.364%, peak_offset: 0.176%, , uatemplates: 0 , events: 1 "
       ]
      },
      {
       "output_type": "stream",
       "stream": "stdout",
       "text": [
        "\n",
        "saving debug dump to /home/dmoore/python/sigvisa/logs/mcmc/01626/step_002039..."
       ]
      },
      {
       "output_type": "stream",
       "stream": "stdout",
       "text": [
        "\n",
        "saved pickled graph"
       ]
      },
      {
       "output_type": "stream",
       "stream": "stdout",
       "text": [
        "\n",
        "step 2040: lp -476.11, accepted arrival_time: 0.042%, coda_decay: 0.085%, coda_height: 0.121%, evdepth: 0.094%, evloc: 0.793%, evloc_big: 0.196%, evmb: 0.936%, evtime: 0.418%, indep_peak: 0.003%, peak_decay: 0.363%, peak_offset: 0.176%, , uatemplates: 0 , events: 1 "
       ]
      },
      {
       "output_type": "stream",
       "stream": "stdout",
       "text": [
        "\n",
        "saving debug dump to /home/dmoore/python/sigvisa/logs/mcmc/01626/step_002049..."
       ]
      },
      {
       "output_type": "stream",
       "stream": "stdout",
       "text": [
        "\n",
        "saved pickled graph"
       ]
      },
      {
       "output_type": "stream",
       "stream": "stdout",
       "text": [
        "\n",
        "step 2050: lp -477.62, accepted arrival_time: 0.042%, coda_decay: 0.085%, coda_height: 0.121%, evdepth: 0.095%, evloc: 0.792%, evloc_big: 0.195%, evmb: 0.936%, evtime: 0.419%, indep_peak: 0.003%, peak_decay: 0.363%, peak_offset: 0.176%, , uatemplates: 0 , events: 1 "
       ]
      },
      {
       "output_type": "stream",
       "stream": "stdout",
       "text": [
        "\n",
        "saving debug dump to /home/dmoore/python/sigvisa/logs/mcmc/01626/step_002059..."
       ]
      },
      {
       "output_type": "stream",
       "stream": "stdout",
       "text": [
        "\n",
        "saved pickled graph"
       ]
      },
      {
       "output_type": "stream",
       "stream": "stdout",
       "text": [
        "\n",
        "step 2060: lp -483.38, accepted arrival_time: 0.042%, coda_decay: 0.085%, coda_height: 0.120%, evdepth: 0.095%, evloc: 0.792%, evloc_big: 0.196%, evmb: 0.936%, evtime: 0.420%, indep_peak: 0.003%, peak_decay: 0.363%, peak_offset: 0.176%, , uatemplates: 0 , events: 1 "
       ]
      },
      {
       "output_type": "stream",
       "stream": "stdout",
       "text": [
        "\n",
        "saving debug dump to /home/dmoore/python/sigvisa/logs/mcmc/01626/step_002069..."
       ]
      },
      {
       "output_type": "stream",
       "stream": "stdout",
       "text": [
        "\n",
        "saved pickled graph"
       ]
      },
      {
       "output_type": "stream",
       "stream": "stdout",
       "text": [
        "\n",
        "step 2070: lp -479.12, accepted arrival_time: 0.042%, coda_decay: 0.086%, coda_height: 0.120%, evdepth: 0.095%, evloc: 0.791%, evloc_big: 0.197%, evmb: 0.937%, evtime: 0.421%, indep_peak: 0.003%, peak_decay: 0.362%, peak_offset: 0.176%, , uatemplates: 0 , events: 1 "
       ]
      },
      {
       "output_type": "stream",
       "stream": "stdout",
       "text": [
        "\n",
        "saving debug dump to /home/dmoore/python/sigvisa/logs/mcmc/01626/step_002079..."
       ]
      },
      {
       "output_type": "stream",
       "stream": "stdout",
       "text": [
        "\n",
        "saved pickled graph"
       ]
      },
      {
       "output_type": "stream",
       "stream": "stdout",
       "text": [
        "\n",
        "step 2080: lp -480.82, accepted arrival_time: 0.042%, coda_decay: 0.086%, coda_height: 0.121%, evdepth: 0.094%, evloc: 0.791%, evloc_big: 0.197%, evmb: 0.936%, evtime: 0.420%, indep_peak: 0.003%, peak_decay: 0.362%, peak_offset: 0.176%, , uatemplates: 0 , events: 1 "
       ]
      },
      {
       "output_type": "stream",
       "stream": "stdout",
       "text": [
        "\n",
        "saving debug dump to /home/dmoore/python/sigvisa/logs/mcmc/01626/step_002089..."
       ]
      },
      {
       "output_type": "stream",
       "stream": "stdout",
       "text": [
        "\n",
        "saved pickled graph"
       ]
      },
      {
       "output_type": "stream",
       "stream": "stdout",
       "text": [
        "\n",
        "step 2090: lp -473.51, accepted arrival_time: 0.042%, coda_decay: 0.086%, coda_height: 0.121%, evdepth: 0.094%, evloc: 0.791%, evloc_big: 0.196%, evmb: 0.936%, evtime: 0.419%, indep_peak: 0.003%, peak_decay: 0.362%, peak_offset: 0.176%, , uatemplates: 0 , events: 1 "
       ]
      },
      {
       "output_type": "stream",
       "stream": "stdout",
       "text": [
        "\n",
        "saving debug dump to /home/dmoore/python/sigvisa/logs/mcmc/01626/step_002099..."
       ]
      },
      {
       "output_type": "stream",
       "stream": "stdout",
       "text": [
        "\n",
        "saved pickled graph"
       ]
      },
      {
       "output_type": "stream",
       "stream": "stdout",
       "text": [
        "\n",
        "step 2100: lp -476.75, accepted arrival_time: 0.042%, coda_decay: 0.085%, coda_height: 0.121%, evdepth: 0.094%, evloc: 0.792%, evloc_big: 0.196%, evmb: 0.936%, evtime: 0.420%, indep_peak: 0.003%, peak_decay: 0.362%, peak_offset: 0.175%, , uatemplates: 0 , events: 1 "
       ]
      },
      {
       "output_type": "stream",
       "stream": "stdout",
       "text": [
        "\n",
        "saving debug dump to /home/dmoore/python/sigvisa/logs/mcmc/01626/step_002109..."
       ]
      },
      {
       "output_type": "stream",
       "stream": "stdout",
       "text": [
        "\n",
        "saved pickled graph"
       ]
      },
      {
       "output_type": "stream",
       "stream": "stdout",
       "text": [
        "\n",
        "step 2110: lp -477.30, accepted arrival_time: 0.042%, coda_decay: 0.086%, coda_height: 0.121%, evdepth: 0.094%, evloc: 0.790%, evloc_big: 0.197%, evmb: 0.936%, evtime: 0.420%, indep_peak: 0.003%, peak_decay: 0.362%, peak_offset: 0.176%, , uatemplates: 0 , events: 1 "
       ]
      },
      {
       "output_type": "stream",
       "stream": "stdout",
       "text": [
        "\n",
        "saving debug dump to /home/dmoore/python/sigvisa/logs/mcmc/01626/step_002119..."
       ]
      },
      {
       "output_type": "stream",
       "stream": "stdout",
       "text": [
        "\n",
        "saved pickled graph"
       ]
      },
      {
       "output_type": "stream",
       "stream": "stdout",
       "text": [
        "\n",
        "step 2120: lp -480.51, accepted arrival_time: 0.042%, coda_decay: 0.086%, coda_height: 0.121%, evdepth: 0.094%, evloc: 0.790%, evloc_big: 0.197%, evmb: 0.936%, evtime: 0.421%, indep_peak: 0.003%, peak_decay: 0.362%, peak_offset: 0.176%, , uatemplates: 0 , events: 1 "
       ]
      },
      {
       "output_type": "stream",
       "stream": "stdout",
       "text": [
        "\n",
        "saving debug dump to /home/dmoore/python/sigvisa/logs/mcmc/01626/step_002129..."
       ]
      },
      {
       "output_type": "stream",
       "stream": "stdout",
       "text": [
        "\n",
        "saved pickled graph"
       ]
      },
      {
       "output_type": "stream",
       "stream": "stdout",
       "text": [
        "\n",
        "step 2130: lp -480.47, accepted arrival_time: 0.042%, coda_decay: 0.086%, coda_height: 0.121%, evdepth: 0.094%, evloc: 0.790%, evloc_big: 0.197%, evmb: 0.936%, evtime: 0.420%, indep_peak: 0.003%, peak_decay: 0.361%, peak_offset: 0.176%, , uatemplates: 0 , events: 1 "
       ]
      },
      {
       "output_type": "stream",
       "stream": "stdout",
       "text": [
        "\n",
        "saving debug dump to /home/dmoore/python/sigvisa/logs/mcmc/01626/step_002139..."
       ]
      },
      {
       "output_type": "stream",
       "stream": "stdout",
       "text": [
        "\n",
        "saved pickled graph"
       ]
      },
      {
       "output_type": "stream",
       "stream": "stdout",
       "text": [
        "\n",
        "step 2140: lp -476.42, accepted arrival_time: 0.042%, coda_decay: 0.086%, coda_height: 0.121%, evdepth: 0.094%, evloc: 0.790%, evloc_big: 0.196%, evmb: 0.936%, evtime: 0.420%, indep_peak: 0.003%, peak_decay: 0.361%, peak_offset: 0.176%, , uatemplates: 0 , events: 1 "
       ]
      },
      {
       "output_type": "stream",
       "stream": "stdout",
       "text": [
        "\n",
        "saving debug dump to /home/dmoore/python/sigvisa/logs/mcmc/01626/step_002149..."
       ]
      },
      {
       "output_type": "stream",
       "stream": "stdout",
       "text": [
        "\n",
        "saved pickled graph"
       ]
      },
      {
       "output_type": "stream",
       "stream": "stdout",
       "text": [
        "\n",
        "step 2150: lp -479.26, accepted arrival_time: 0.042%, coda_decay: 0.086%, coda_height: 0.121%, evdepth: 0.095%, evloc: 0.791%, evloc_big: 0.195%, evmb: 0.936%, evtime: 0.420%, indep_peak: 0.003%, peak_decay: 0.361%, peak_offset: 0.176%, , uatemplates: 0 , events: 1 "
       ]
      },
      {
       "output_type": "stream",
       "stream": "stdout",
       "text": [
        "\n",
        "saving debug dump to /home/dmoore/python/sigvisa/logs/mcmc/01626/step_002159..."
       ]
      },
      {
       "output_type": "stream",
       "stream": "stdout",
       "text": [
        "\n",
        "saved pickled graph"
       ]
      },
      {
       "output_type": "stream",
       "stream": "stdout",
       "text": [
        "\n",
        "step 2160: lp -480.93, accepted arrival_time: 0.042%, coda_decay: 0.086%, coda_height: 0.121%, evdepth: 0.095%, evloc: 0.791%, evloc_big: 0.194%, evmb: 0.937%, evtime: 0.421%, indep_peak: 0.003%, peak_decay: 0.361%, peak_offset: 0.176%, , uatemplates: 0 , events: 1 "
       ]
      },
      {
       "output_type": "stream",
       "stream": "stdout",
       "text": [
        "\n",
        "saving debug dump to /home/dmoore/python/sigvisa/logs/mcmc/01626/step_002169..."
       ]
      },
      {
       "output_type": "stream",
       "stream": "stdout",
       "text": [
        "\n",
        "saved pickled graph"
       ]
      },
      {
       "output_type": "stream",
       "stream": "stdout",
       "text": [
        "\n",
        "step 2170: lp -481.96, accepted arrival_time: 0.042%, coda_decay: 0.086%, coda_height: 0.121%, evdepth: 0.095%, evloc: 0.791%, evloc_big: 0.195%, evmb: 0.937%, evtime: 0.422%, indep_peak: 0.003%, peak_decay: 0.360%, peak_offset: 0.176%, , uatemplates: 0 , events: 1 "
       ]
      },
      {
       "output_type": "stream",
       "stream": "stdout",
       "text": [
        "\n",
        "saving debug dump to /home/dmoore/python/sigvisa/logs/mcmc/01626/step_002179..."
       ]
      },
      {
       "output_type": "stream",
       "stream": "stdout",
       "text": [
        "\n",
        "saved pickled graph"
       ]
      },
      {
       "output_type": "stream",
       "stream": "stdout",
       "text": [
        "\n",
        "step 2180: lp -489.47, accepted arrival_time: 0.042%, coda_decay: 0.087%, coda_height: 0.120%, evdepth: 0.095%, evloc: 0.791%, evloc_big: 0.194%, evmb: 0.937%, evtime: 0.421%, indep_peak: 0.003%, peak_decay: 0.360%, peak_offset: 0.176%, , uatemplates: 0 , events: 1 "
       ]
      },
      {
       "output_type": "stream",
       "stream": "stdout",
       "text": [
        "\n",
        "saving debug dump to /home/dmoore/python/sigvisa/logs/mcmc/01626/step_002189..."
       ]
      },
      {
       "output_type": "stream",
       "stream": "stdout",
       "text": [
        "\n",
        "saved pickled graph"
       ]
      },
      {
       "output_type": "stream",
       "stream": "stdout",
       "text": [
        "\n",
        "step 2190: lp -477.64, accepted arrival_time: 0.042%, coda_decay: 0.087%, coda_height: 0.120%, evdepth: 0.095%, evloc: 0.792%, evloc_big: 0.194%, evmb: 0.937%, evtime: 0.421%, indep_peak: 0.003%, peak_decay: 0.360%, peak_offset: 0.176%, , uatemplates: 0 , events: 1 "
       ]
      },
      {
       "output_type": "stream",
       "stream": "stdout",
       "text": [
        "\n",
        "saving debug dump to /home/dmoore/python/sigvisa/logs/mcmc/01626/step_002199..."
       ]
      },
      {
       "output_type": "stream",
       "stream": "stdout",
       "text": [
        "\n",
        "saved pickled graph"
       ]
      },
      {
       "output_type": "stream",
       "stream": "stdout",
       "text": [
        "\n",
        "step 2200: lp -473.38, accepted arrival_time: 0.042%, coda_decay: 0.087%, coda_height: 0.120%, evdepth: 0.096%, evloc: 0.791%, evloc_big: 0.193%, evmb: 0.937%, evtime: 0.422%, indep_peak: 0.003%, peak_decay: 0.359%, peak_offset: 0.176%, , uatemplates: 0 , events: 1 "
       ]
      },
      {
       "output_type": "stream",
       "stream": "stdout",
       "text": [
        "\n",
        "saving debug dump to /home/dmoore/python/sigvisa/logs/mcmc/01626/step_002209..."
       ]
      },
      {
       "output_type": "stream",
       "stream": "stdout",
       "text": [
        "\n",
        "saved pickled graph"
       ]
      },
      {
       "output_type": "stream",
       "stream": "stdout",
       "text": [
        "\n",
        "step 2210: lp -476.43, accepted arrival_time: 0.042%, coda_decay: 0.087%, coda_height: 0.120%, evdepth: 0.095%, evloc: 0.790%, evloc_big: 0.192%, evmb: 0.937%, evtime: 0.422%, indep_peak: 0.003%, peak_decay: 0.359%, peak_offset: 0.176%, , uatemplates: 0 , events: 1 "
       ]
      },
      {
       "output_type": "stream",
       "stream": "stdout",
       "text": [
        "\n",
        "saving debug dump to /home/dmoore/python/sigvisa/logs/mcmc/01626/step_002219..."
       ]
      },
      {
       "output_type": "stream",
       "stream": "stdout",
       "text": [
        "\n",
        "saved pickled graph"
       ]
      },
      {
       "output_type": "stream",
       "stream": "stdout",
       "text": [
        "\n",
        "step 2220: lp -475.10, accepted arrival_time: 0.042%, coda_decay: 0.087%, coda_height: 0.120%, evdepth: 0.095%, evloc: 0.790%, evloc_big: 0.192%, evmb: 0.937%, evtime: 0.422%, indep_peak: 0.003%, peak_decay: 0.359%, peak_offset: 0.176%, , uatemplates: 0 , events: 1 "
       ]
      },
      {
       "output_type": "stream",
       "stream": "stdout",
       "text": [
        "\n",
        "saving debug dump to /home/dmoore/python/sigvisa/logs/mcmc/01626/step_002229..."
       ]
      },
      {
       "output_type": "stream",
       "stream": "stdout",
       "text": [
        "\n",
        "saved pickled graph"
       ]
      },
      {
       "output_type": "stream",
       "stream": "stdout",
       "text": [
        "\n",
        "step 2230: lp -475.75, accepted arrival_time: 0.042%, coda_decay: 0.087%, coda_height: 0.120%, evdepth: 0.095%, evloc: 0.791%, evloc_big: 0.193%, evmb: 0.938%, evtime: 0.421%, indep_peak: 0.003%, peak_decay: 0.359%, peak_offset: 0.176%, , uatemplates: 0 , events: 1 "
       ]
      },
      {
       "output_type": "stream",
       "stream": "stdout",
       "text": [
        "\n",
        "saving debug dump to /home/dmoore/python/sigvisa/logs/mcmc/01626/step_002239..."
       ]
      },
      {
       "output_type": "stream",
       "stream": "stdout",
       "text": [
        "\n",
        "saved pickled graph"
       ]
      },
      {
       "output_type": "stream",
       "stream": "stdout",
       "text": [
        "\n",
        "step 2240: lp -471.93, accepted arrival_time: 0.042%, coda_decay: 0.087%, coda_height: 0.120%, evdepth: 0.095%, evloc: 0.791%, evloc_big: 0.193%, evmb: 0.938%, evtime: 0.422%, indep_peak: 0.003%, peak_decay: 0.359%, peak_offset: 0.176%, , uatemplates: 0 , events: 1 "
       ]
      },
      {
       "output_type": "stream",
       "stream": "stdout",
       "text": [
        "\n",
        "saving debug dump to /home/dmoore/python/sigvisa/logs/mcmc/01626/step_002249..."
       ]
      },
      {
       "output_type": "stream",
       "stream": "stdout",
       "text": [
        "\n",
        "saved pickled graph"
       ]
      },
      {
       "output_type": "stream",
       "stream": "stdout",
       "text": [
        "\n",
        "step 2250: lp -470.21, accepted arrival_time: 0.042%, coda_decay: 0.087%, coda_height: 0.120%, evdepth: 0.095%, evloc: 0.791%, evloc_big: 0.194%, evmb: 0.938%, evtime: 0.420%, indep_peak: 0.003%, peak_decay: 0.359%, peak_offset: 0.176%, , uatemplates: 0 , events: 1 "
       ]
      },
      {
       "output_type": "stream",
       "stream": "stdout",
       "text": [
        "\n",
        "saving debug dump to /home/dmoore/python/sigvisa/logs/mcmc/01626/step_002259..."
       ]
      },
      {
       "output_type": "stream",
       "stream": "stdout",
       "text": [
        "\n",
        "saved pickled graph"
       ]
      },
      {
       "output_type": "stream",
       "stream": "stdout",
       "text": [
        "\n",
        "step 2260: lp -471.08, accepted arrival_time: 0.042%, coda_decay: 0.087%, coda_height: 0.120%, evdepth: 0.095%, evloc: 0.791%, evloc_big: 0.194%, evmb: 0.939%, evtime: 0.420%, indep_peak: 0.003%, peak_decay: 0.359%, peak_offset: 0.176%, , uatemplates: 0 , events: 1 "
       ]
      },
      {
       "output_type": "stream",
       "stream": "stdout",
       "text": [
        "\n",
        "saving debug dump to /home/dmoore/python/sigvisa/logs/mcmc/01626/step_002269..."
       ]
      },
      {
       "output_type": "stream",
       "stream": "stdout",
       "text": [
        "\n",
        "saved pickled graph"
       ]
      },
      {
       "output_type": "stream",
       "stream": "stdout",
       "text": [
        "\n",
        "step 2270: lp -473.35, accepted arrival_time: 0.042%, coda_decay: 0.087%, coda_height: 0.120%, evdepth: 0.095%, evloc: 0.792%, evloc_big: 0.193%, evmb: 0.939%, evtime: 0.422%, indep_peak: 0.003%, peak_decay: 0.359%, peak_offset: 0.176%, , uatemplates: 0 , events: 1 "
       ]
      },
      {
       "output_type": "stream",
       "stream": "stdout",
       "text": [
        "\n",
        "saving debug dump to /home/dmoore/python/sigvisa/logs/mcmc/01626/step_002279..."
       ]
      },
      {
       "output_type": "stream",
       "stream": "stdout",
       "text": [
        "\n",
        "saved pickled graph"
       ]
      },
      {
       "output_type": "stream",
       "stream": "stdout",
       "text": [
        "\n",
        "step 2280: lp -470.31, accepted arrival_time: 0.042%, coda_decay: 0.087%, coda_height: 0.120%, evdepth: 0.095%, evloc: 0.791%, evloc_big: 0.195%, evmb: 0.939%, evtime: 0.422%, indep_peak: 0.003%, peak_decay: 0.360%, peak_offset: 0.176%, , uatemplates: 0 , events: 1 "
       ]
      },
      {
       "output_type": "stream",
       "stream": "stdout",
       "text": [
        "\n",
        "saving debug dump to /home/dmoore/python/sigvisa/logs/mcmc/01626/step_002289..."
       ]
      },
      {
       "output_type": "stream",
       "stream": "stdout",
       "text": [
        "\n",
        "saved pickled graph"
       ]
      },
      {
       "output_type": "stream",
       "stream": "stdout",
       "text": [
        "\n",
        "step 2290: lp -472.88, accepted arrival_time: 0.042%, coda_decay: 0.086%, coda_height: 0.120%, evdepth: 0.095%, evloc: 0.792%, evloc_big: 0.195%, evmb: 0.939%, evtime: 0.423%, indep_peak: 0.003%, peak_decay: 0.360%, peak_offset: 0.177%, , uatemplates: 0 , events: 1 "
       ]
      },
      {
       "output_type": "stream",
       "stream": "stdout",
       "text": [
        "\n",
        "saving debug dump to /home/dmoore/python/sigvisa/logs/mcmc/01626/step_002299..."
       ]
      },
      {
       "output_type": "stream",
       "stream": "stdout",
       "text": [
        "\n",
        "saved pickled graph"
       ]
      },
      {
       "output_type": "stream",
       "stream": "stdout",
       "text": [
        "\n",
        "step 2300: lp -476.22, accepted arrival_time: 0.042%, coda_decay: 0.086%, coda_height: 0.120%, evdepth: 0.095%, evloc: 0.792%, evloc_big: 0.195%, evmb: 0.939%, evtime: 0.424%, indep_peak: 0.003%, peak_decay: 0.360%, peak_offset: 0.177%, , uatemplates: 0 , events: 1 "
       ]
      },
      {
       "output_type": "stream",
       "stream": "stdout",
       "text": [
        "\n",
        "saving debug dump to /home/dmoore/python/sigvisa/logs/mcmc/01626/step_002309..."
       ]
      },
      {
       "output_type": "stream",
       "stream": "stdout",
       "text": [
        "\n",
        "saved pickled graph"
       ]
      },
      {
       "output_type": "stream",
       "stream": "stdout",
       "text": [
        "\n",
        "step 2310: lp -474.00, accepted arrival_time: 0.042%, coda_decay: 0.086%, coda_height: 0.120%, evdepth: 0.094%, evloc: 0.792%, evloc_big: 0.195%, evmb: 0.939%, evtime: 0.423%, indep_peak: 0.003%, peak_decay: 0.360%, peak_offset: 0.177%, , uatemplates: 0 , events: 1 "
       ]
      },
      {
       "output_type": "stream",
       "stream": "stdout",
       "text": [
        "\n",
        "saving debug dump to /home/dmoore/python/sigvisa/logs/mcmc/01626/step_002319..."
       ]
      },
      {
       "output_type": "stream",
       "stream": "stdout",
       "text": [
        "\n",
        "saved pickled graph"
       ]
      },
      {
       "output_type": "stream",
       "stream": "stdout",
       "text": [
        "\n",
        "step 2320: lp -473.45, accepted arrival_time: 0.042%, coda_decay: 0.086%, coda_height: 0.120%, evdepth: 0.094%, evloc: 0.792%, evloc_big: 0.195%, evmb: 0.940%, evtime: 0.423%, indep_peak: 0.003%, peak_decay: 0.360%, peak_offset: 0.177%, , uatemplates: 0 , events: 1 "
       ]
      },
      {
       "output_type": "stream",
       "stream": "stdout",
       "text": [
        "\n",
        "saving debug dump to /home/dmoore/python/sigvisa/logs/mcmc/01626/step_002329..."
       ]
      },
      {
       "output_type": "stream",
       "stream": "stdout",
       "text": [
        "\n",
        "saved pickled graph"
       ]
      },
      {
       "output_type": "stream",
       "stream": "stdout",
       "text": [
        "\n",
        "step 2330: lp -469.86, accepted arrival_time: 0.042%, coda_decay: 0.086%, coda_height: 0.120%, evdepth: 0.094%, evloc: 0.792%, evloc_big: 0.195%, evmb: 0.939%, evtime: 0.423%, indep_peak: 0.003%, peak_decay: 0.360%, peak_offset: 0.177%, , uatemplates: 0 , events: 1 "
       ]
      },
      {
       "output_type": "stream",
       "stream": "stdout",
       "text": [
        "\n",
        "saving debug dump to /home/dmoore/python/sigvisa/logs/mcmc/01626/step_002339..."
       ]
      },
      {
       "output_type": "stream",
       "stream": "stdout",
       "text": [
        "\n",
        "saved pickled graph"
       ]
      },
      {
       "output_type": "stream",
       "stream": "stdout",
       "text": [
        "\n",
        "step 2340: lp -479.50, accepted arrival_time: 0.042%, coda_decay: 0.086%, coda_height: 0.120%, evdepth: 0.094%, evloc: 0.792%, evloc_big: 0.195%, evmb: 0.939%, evtime: 0.422%, indep_peak: 0.003%, peak_decay: 0.361%, peak_offset: 0.177%, , uatemplates: 0 , events: 1 "
       ]
      },
      {
       "output_type": "stream",
       "stream": "stdout",
       "text": [
        "\n",
        "saving debug dump to /home/dmoore/python/sigvisa/logs/mcmc/01626/step_002349..."
       ]
      },
      {
       "output_type": "stream",
       "stream": "stdout",
       "text": [
        "\n",
        "saved pickled graph"
       ]
      },
      {
       "output_type": "stream",
       "stream": "stdout",
       "text": [
        "\n",
        "step 2350: lp -475.36, accepted arrival_time: 0.042%, coda_decay: 0.086%, coda_height: 0.120%, evdepth: 0.094%, evloc: 0.792%, evloc_big: 0.194%, evmb: 0.939%, evtime: 0.422%, indep_peak: 0.003%, peak_decay: 0.361%, peak_offset: 0.177%, , uatemplates: 0 , events: 1 "
       ]
      },
      {
       "output_type": "stream",
       "stream": "stdout",
       "text": [
        "\n",
        "saving debug dump to /home/dmoore/python/sigvisa/logs/mcmc/01626/step_002359..."
       ]
      },
      {
       "output_type": "stream",
       "stream": "stdout",
       "text": [
        "\n",
        "saved pickled graph"
       ]
      },
      {
       "output_type": "stream",
       "stream": "stdout",
       "text": [
        "\n",
        "step 2360: lp -478.98, accepted arrival_time: 0.042%, coda_decay: 0.086%, coda_height: 0.120%, evdepth: 0.094%, evloc: 0.793%, evloc_big: 0.194%, evmb: 0.939%, evtime: 0.421%, indep_peak: 0.003%, peak_decay: 0.361%, peak_offset: 0.177%, , uatemplates: 0 , events: 1 "
       ]
      },
      {
       "output_type": "stream",
       "stream": "stdout",
       "text": [
        "\n",
        "saving debug dump to /home/dmoore/python/sigvisa/logs/mcmc/01626/step_002369..."
       ]
      },
      {
       "output_type": "stream",
       "stream": "stdout",
       "text": [
        "\n",
        "saved pickled graph"
       ]
      },
      {
       "output_type": "stream",
       "stream": "stdout",
       "text": [
        "\n",
        "step 2370: lp -473.53, accepted arrival_time: 0.042%, coda_decay: 0.086%, coda_height: 0.120%, evdepth: 0.095%, evloc: 0.792%, evloc_big: 0.194%, evmb: 0.939%, evtime: 0.422%, indep_peak: 0.003%, peak_decay: 0.361%, peak_offset: 0.177%, , uatemplates: 0 , events: 1 "
       ]
      },
      {
       "output_type": "stream",
       "stream": "stdout",
       "text": [
        "\n",
        "saving debug dump to /home/dmoore/python/sigvisa/logs/mcmc/01626/step_002379..."
       ]
      },
      {
       "output_type": "stream",
       "stream": "stdout",
       "text": [
        "\n",
        "saved pickled graph"
       ]
      },
      {
       "output_type": "stream",
       "stream": "stdout",
       "text": [
        "\n",
        "step 2380: lp -474.16, accepted arrival_time: 0.042%, coda_decay: 0.086%, coda_height: 0.120%, evdepth: 0.094%, evloc: 0.793%, evloc_big: 0.194%, evmb: 0.940%, evtime: 0.422%, indep_peak: 0.003%, peak_decay: 0.361%, peak_offset: 0.178%, , uatemplates: 0 , events: 1 "
       ]
      },
      {
       "output_type": "stream",
       "stream": "stdout",
       "text": [
        "\n",
        "saving debug dump to /home/dmoore/python/sigvisa/logs/mcmc/01626/step_002389..."
       ]
      },
      {
       "output_type": "stream",
       "stream": "stdout",
       "text": [
        "\n",
        "saved pickled graph"
       ]
      },
      {
       "output_type": "stream",
       "stream": "stdout",
       "text": [
        "\n",
        "step 2390: lp -472.95, accepted arrival_time: 0.042%, coda_decay: 0.086%, coda_height: 0.120%, evdepth: 0.096%, evloc: 0.793%, evloc_big: 0.194%, evmb: 0.939%, evtime: 0.421%, indep_peak: 0.003%, peak_decay: 0.361%, peak_offset: 0.178%, , uatemplates: 0 , events: 1 "
       ]
      },
      {
       "output_type": "stream",
       "stream": "stdout",
       "text": [
        "\n",
        "saving debug dump to /home/dmoore/python/sigvisa/logs/mcmc/01626/step_002399..."
       ]
      },
      {
       "output_type": "stream",
       "stream": "stdout",
       "text": [
        "\n",
        "saved pickled graph"
       ]
      },
      {
       "output_type": "stream",
       "stream": "stdout",
       "text": [
        "\n",
        "step 2400: lp -471.18, accepted arrival_time: 0.042%, coda_decay: 0.086%, coda_height: 0.120%, evdepth: 0.095%, evloc: 0.793%, evloc_big: 0.193%, evmb: 0.940%, evtime: 0.420%, indep_peak: 0.003%, peak_decay: 0.361%, peak_offset: 0.177%, , uatemplates: 0 , events: 1 "
       ]
      },
      {
       "output_type": "stream",
       "stream": "stdout",
       "text": [
        "\n",
        "saving debug dump to /home/dmoore/python/sigvisa/logs/mcmc/01626/step_002409..."
       ]
      },
      {
       "output_type": "stream",
       "stream": "stdout",
       "text": [
        "\n",
        "saved pickled graph"
       ]
      },
      {
       "output_type": "stream",
       "stream": "stdout",
       "text": [
        "\n",
        "step 2410: lp -476.05, accepted arrival_time: 0.042%, coda_decay: 0.085%, coda_height: 0.120%, evdepth: 0.095%, evloc: 0.793%, evloc_big: 0.192%, evmb: 0.940%, evtime: 0.419%, indep_peak: 0.003%, peak_decay: 0.361%, peak_offset: 0.177%, , uatemplates: 0 , events: 1 "
       ]
      },
      {
       "output_type": "stream",
       "stream": "stdout",
       "text": [
        "\n",
        "saving debug dump to /home/dmoore/python/sigvisa/logs/mcmc/01626/step_002419..."
       ]
      },
      {
       "output_type": "stream",
       "stream": "stdout",
       "text": [
        "\n",
        "saved pickled graph"
       ]
      },
      {
       "output_type": "stream",
       "stream": "stdout",
       "text": [
        "\n",
        "step 2420: lp -471.60, accepted arrival_time: 0.042%, coda_decay: 0.085%, coda_height: 0.120%, evdepth: 0.095%, evloc: 0.793%, evloc_big: 0.192%, evmb: 0.940%, evtime: 0.419%, indep_peak: 0.003%, peak_decay: 0.361%, peak_offset: 0.177%, , uatemplates: 0 , events: 1 "
       ]
      },
      {
       "output_type": "stream",
       "stream": "stdout",
       "text": [
        "\n",
        "saving debug dump to /home/dmoore/python/sigvisa/logs/mcmc/01626/step_002429..."
       ]
      },
      {
       "output_type": "stream",
       "stream": "stdout",
       "text": [
        "\n",
        "saved pickled graph"
       ]
      },
      {
       "output_type": "stream",
       "stream": "stdout",
       "text": [
        "\n",
        "step 2430: lp -478.73, accepted arrival_time: 0.042%, coda_decay: 0.085%, coda_height: 0.120%, evdepth: 0.094%, evloc: 0.791%, evloc_big: 0.192%, evmb: 0.940%, evtime: 0.418%, indep_peak: 0.003%, peak_decay: 0.361%, peak_offset: 0.177%, , uatemplates: 0 , events: 1 "
       ]
      },
      {
       "output_type": "stream",
       "stream": "stdout",
       "text": [
        "\n",
        "saving debug dump to /home/dmoore/python/sigvisa/logs/mcmc/01626/step_002439..."
       ]
      },
      {
       "output_type": "stream",
       "stream": "stdout",
       "text": [
        "\n",
        "saved pickled graph"
       ]
      },
      {
       "output_type": "stream",
       "stream": "stdout",
       "text": [
        "\n",
        "step 2440: lp -472.65, accepted arrival_time: 0.043%, coda_decay: 0.085%, coda_height: 0.120%, evdepth: 0.094%, evloc: 0.792%, evloc_big: 0.191%, evmb: 0.940%, evtime: 0.417%, indep_peak: 0.003%, peak_decay: 0.361%, peak_offset: 0.177%, , uatemplates: 0 , events: 1 "
       ]
      },
      {
       "output_type": "stream",
       "stream": "stdout",
       "text": [
        "\n",
        "saving debug dump to /home/dmoore/python/sigvisa/logs/mcmc/01626/step_002449..."
       ]
      },
      {
       "output_type": "stream",
       "stream": "stdout",
       "text": [
        "\n",
        "saved pickled graph"
       ]
      },
      {
       "output_type": "stream",
       "stream": "stdout",
       "text": [
        "\n",
        "step 2450: lp -471.93, accepted arrival_time: 0.043%, coda_decay: 0.085%, coda_height: 0.120%, evdepth: 0.094%, evloc: 0.792%, evloc_big: 0.191%, evmb: 0.940%, evtime: 0.417%, indep_peak: 0.003%, peak_decay: 0.361%, peak_offset: 0.177%, , uatemplates: 0 , events: 1 "
       ]
      },
      {
       "output_type": "stream",
       "stream": "stdout",
       "text": [
        "\n",
        "saving debug dump to /home/dmoore/python/sigvisa/logs/mcmc/01626/step_002459..."
       ]
      },
      {
       "output_type": "stream",
       "stream": "stdout",
       "text": [
        "\n",
        "saved pickled graph"
       ]
      },
      {
       "output_type": "stream",
       "stream": "stdout",
       "text": [
        "\n",
        "step 2460: lp -473.15, accepted arrival_time: 0.042%, coda_decay: 0.085%, coda_height: 0.120%, evdepth: 0.094%, evloc: 0.792%, evloc_big: 0.191%, evmb: 0.940%, evtime: 0.417%, indep_peak: 0.003%, peak_decay: 0.361%, peak_offset: 0.177%, , uatemplates: 0 , events: 1 "
       ]
      },
      {
       "output_type": "stream",
       "stream": "stdout",
       "text": [
        "\n",
        "saving debug dump to /home/dmoore/python/sigvisa/logs/mcmc/01626/step_002469..."
       ]
      },
      {
       "output_type": "stream",
       "stream": "stdout",
       "text": [
        "\n",
        "saved pickled graph"
       ]
      },
      {
       "output_type": "stream",
       "stream": "stdout",
       "text": [
        "\n",
        "step 2470: lp -470.47, accepted arrival_time: 0.042%, coda_decay: 0.085%, coda_height: 0.120%, evdepth: 0.095%, evloc: 0.792%, evloc_big: 0.190%, evmb: 0.941%, evtime: 0.416%, indep_peak: 0.003%, peak_decay: 0.361%, peak_offset: 0.177%, , uatemplates: 0 , events: 1 "
       ]
      },
      {
       "output_type": "stream",
       "stream": "stdout",
       "text": [
        "\n",
        "saving debug dump to /home/dmoore/python/sigvisa/logs/mcmc/01626/step_002479..."
       ]
      },
      {
       "output_type": "stream",
       "stream": "stdout",
       "text": [
        "\n",
        "saved pickled graph"
       ]
      },
      {
       "output_type": "stream",
       "stream": "stdout",
       "text": [
        "\n",
        "step 2480: lp -470.42, accepted arrival_time: 0.042%, coda_decay: 0.085%, coda_height: 0.120%, evdepth: 0.094%, evloc: 0.792%, evloc_big: 0.191%, evmb: 0.941%, evtime: 0.416%, indep_peak: 0.003%, peak_decay: 0.361%, peak_offset: 0.177%, , uatemplates: 0 , events: 1 "
       ]
      },
      {
       "output_type": "stream",
       "stream": "stdout",
       "text": [
        "\n",
        "saving debug dump to /home/dmoore/python/sigvisa/logs/mcmc/01626/step_002489..."
       ]
      },
      {
       "output_type": "stream",
       "stream": "stdout",
       "text": [
        "\n",
        "saved pickled graph"
       ]
      },
      {
       "output_type": "stream",
       "stream": "stdout",
       "text": [
        "\n",
        "step 2490: lp -474.10, accepted arrival_time: 0.042%, coda_decay: 0.085%, coda_height: 0.120%, evdepth: 0.094%, evloc: 0.792%, evloc_big: 0.192%, evmb: 0.941%, evtime: 0.416%, indep_peak: 0.003%, peak_decay: 0.362%, peak_offset: 0.177%, , uatemplates: 0 , events: 1 "
       ]
      },
      {
       "output_type": "stream",
       "stream": "stdout",
       "text": [
        "\n",
        "saving debug dump to /home/dmoore/python/sigvisa/logs/mcmc/01626/step_002499..."
       ]
      },
      {
       "output_type": "stream",
       "stream": "stdout",
       "text": [
        "\n",
        "saved pickled graph"
       ]
      },
      {
       "output_type": "stream",
       "stream": "stdout",
       "text": [
        "\n",
        "step 2500: lp -473.21, accepted arrival_time: 0.042%, coda_decay: 0.084%, coda_height: 0.119%, evdepth: 0.094%, evloc: 0.792%, evloc_big: 0.192%, evmb: 0.940%, evtime: 0.416%, indep_peak: 0.003%, peak_decay: 0.362%, peak_offset: 0.177%, , uatemplates: 0 , events: 1 "
       ]
      },
      {
       "output_type": "stream",
       "stream": "stdout",
       "text": [
        "\n",
        "saving debug dump to /home/dmoore/python/sigvisa/logs/mcmc/01626/step_002509..."
       ]
      },
      {
       "output_type": "stream",
       "stream": "stdout",
       "text": [
        "\n",
        "saved pickled graph"
       ]
      },
      {
       "output_type": "stream",
       "stream": "stdout",
       "text": [
        "\n",
        "step 2510: lp -478.25, accepted arrival_time: 0.042%, coda_decay: 0.085%, coda_height: 0.120%, evdepth: 0.093%, evloc: 0.792%, evloc_big: 0.191%, evmb: 0.941%, evtime: 0.415%, indep_peak: 0.003%, peak_decay: 0.362%, peak_offset: 0.177%, , uatemplates: 0 , events: 1 "
       ]
      },
      {
       "output_type": "stream",
       "stream": "stdout",
       "text": [
        "\n",
        "saving debug dump to /home/dmoore/python/sigvisa/logs/mcmc/01626/step_002519..."
       ]
      },
      {
       "output_type": "stream",
       "stream": "stdout",
       "text": [
        "\n",
        "saved pickled graph"
       ]
      },
      {
       "output_type": "stream",
       "stream": "stdout",
       "text": [
        "\n",
        "step 2520: lp -472.71, accepted arrival_time: 0.043%, coda_decay: 0.085%, coda_height: 0.119%, evdepth: 0.093%, evloc: 0.793%, evloc_big: 0.192%, evmb: 0.941%, evtime: 0.415%, indep_peak: 0.003%, peak_decay: 0.362%, peak_offset: 0.177%, , uatemplates: 0 , events: 1 "
       ]
      },
      {
       "output_type": "stream",
       "stream": "stdout",
       "text": [
        "\n",
        "saving debug dump to /home/dmoore/python/sigvisa/logs/mcmc/01626/step_002529..."
       ]
      },
      {
       "output_type": "stream",
       "stream": "stdout",
       "text": [
        "\n",
        "saved pickled graph"
       ]
      },
      {
       "output_type": "stream",
       "stream": "stdout",
       "text": [
        "\n",
        "step 2530: lp -470.15, accepted arrival_time: 0.043%, coda_decay: 0.085%, coda_height: 0.119%, evdepth: 0.093%, evloc: 0.793%, evloc_big: 0.192%, evmb: 0.941%, evtime: 0.416%, indep_peak: 0.003%, peak_decay: 0.362%, peak_offset: 0.177%, , uatemplates: 0 , events: 1 "
       ]
      },
      {
       "output_type": "stream",
       "stream": "stdout",
       "text": [
        "\n",
        "saving debug dump to /home/dmoore/python/sigvisa/logs/mcmc/01626/step_002539..."
       ]
      },
      {
       "output_type": "stream",
       "stream": "stdout",
       "text": [
        "\n",
        "saved pickled graph"
       ]
      },
      {
       "output_type": "stream",
       "stream": "stdout",
       "text": [
        "\n",
        "step 2540: lp -471.22, accepted arrival_time: 0.043%, coda_decay: 0.084%, coda_height: 0.119%, evdepth: 0.093%, evloc: 0.793%, evloc_big: 0.192%, evmb: 0.941%, evtime: 0.416%, indep_peak: 0.003%, peak_decay: 0.362%, peak_offset: 0.177%, , uatemplates: 0 , events: 1 "
       ]
      },
      {
       "output_type": "stream",
       "stream": "stdout",
       "text": [
        "\n",
        "saving debug dump to /home/dmoore/python/sigvisa/logs/mcmc/01626/step_002549..."
       ]
      },
      {
       "output_type": "stream",
       "stream": "stdout",
       "text": [
        "\n",
        "saved pickled graph"
       ]
      },
      {
       "output_type": "stream",
       "stream": "stdout",
       "text": [
        "\n",
        "step 2550: lp -466.96, accepted arrival_time: 0.043%, coda_decay: 0.084%, coda_height: 0.119%, evdepth: 0.093%, evloc: 0.793%, evloc_big: 0.191%, evmb: 0.941%, evtime: 0.417%, indep_peak: 0.003%, peak_decay: 0.362%, peak_offset: 0.177%, , uatemplates: 0 , events: 1 "
       ]
      },
      {
       "output_type": "stream",
       "stream": "stdout",
       "text": [
        "\n",
        "saving debug dump to /home/dmoore/python/sigvisa/logs/mcmc/01626/step_002559..."
       ]
      },
      {
       "output_type": "stream",
       "stream": "stdout",
       "text": [
        "\n",
        "saved pickled graph"
       ]
      },
      {
       "output_type": "stream",
       "stream": "stdout",
       "text": [
        "\n",
        "step 2560: lp -472.93, accepted arrival_time: 0.043%, coda_decay: 0.085%, coda_height: 0.119%, evdepth: 0.093%, evloc: 0.793%, evloc_big: 0.192%, evmb: 0.941%, evtime: 0.418%, indep_peak: 0.003%, peak_decay: 0.362%, peak_offset: 0.177%, , uatemplates: 0 , events: 1 "
       ]
      },
      {
       "output_type": "stream",
       "stream": "stdout",
       "text": [
        "\n",
        "saving debug dump to /home/dmoore/python/sigvisa/logs/mcmc/01626/step_002569..."
       ]
      },
      {
       "output_type": "stream",
       "stream": "stdout",
       "text": [
        "\n",
        "saved pickled graph"
       ]
      },
      {
       "output_type": "stream",
       "stream": "stdout",
       "text": [
        "\n",
        "step 2570: lp -476.89, accepted arrival_time: 0.043%, coda_decay: 0.085%, coda_height: 0.119%, evdepth: 0.093%, evloc: 0.793%, evloc_big: 0.191%, evmb: 0.942%, evtime: 0.418%, indep_peak: 0.003%, peak_decay: 0.362%, peak_offset: 0.177%, , uatemplates: 0 , events: 1 "
       ]
      },
      {
       "output_type": "stream",
       "stream": "stdout",
       "text": [
        "\n",
        "saving debug dump to /home/dmoore/python/sigvisa/logs/mcmc/01626/step_002579..."
       ]
      },
      {
       "output_type": "stream",
       "stream": "stdout",
       "text": [
        "\n",
        "saved pickled graph"
       ]
      },
      {
       "output_type": "stream",
       "stream": "stdout",
       "text": [
        "\n",
        "step 2580: lp -470.72, accepted arrival_time: 0.043%, coda_decay: 0.085%, coda_height: 0.119%, evdepth: 0.093%, evloc: 0.793%, evloc_big: 0.191%, evmb: 0.942%, evtime: 0.418%, indep_peak: 0.003%, peak_decay: 0.362%, peak_offset: 0.177%, , uatemplates: 0 , events: 1 "
       ]
      },
      {
       "output_type": "stream",
       "stream": "stdout",
       "text": [
        "\n",
        "saving debug dump to /home/dmoore/python/sigvisa/logs/mcmc/01626/step_002589..."
       ]
      },
      {
       "output_type": "stream",
       "stream": "stdout",
       "text": [
        "\n",
        "saved pickled graph"
       ]
      },
      {
       "output_type": "stream",
       "stream": "stdout",
       "text": [
        "\n",
        "step 2590: lp -481.16, accepted arrival_time: 0.043%, coda_decay: 0.085%, coda_height: 0.119%, evdepth: 0.093%, evloc: 0.792%, evloc_big: 0.191%, evmb: 0.942%, evtime: 0.419%, indep_peak: 0.003%, peak_decay: 0.362%, peak_offset: 0.177%, , uatemplates: 0 , events: 1 "
       ]
      },
      {
       "output_type": "stream",
       "stream": "stdout",
       "text": [
        "\n",
        "saving debug dump to /home/dmoore/python/sigvisa/logs/mcmc/01626/step_002599..."
       ]
      },
      {
       "output_type": "stream",
       "stream": "stdout",
       "text": [
        "\n",
        "saved pickled graph"
       ]
      },
      {
       "output_type": "stream",
       "stream": "stdout",
       "text": [
        "\n",
        "step 2600: lp -473.24, accepted arrival_time: 0.043%, coda_decay: 0.085%, coda_height: 0.119%, evdepth: 0.093%, evloc: 0.792%, evloc_big: 0.191%, evmb: 0.942%, evtime: 0.419%, indep_peak: 0.003%, peak_decay: 0.361%, peak_offset: 0.177%, , uatemplates: 0 , events: 1 "
       ]
      },
      {
       "output_type": "stream",
       "stream": "stdout",
       "text": [
        "\n",
        "saving debug dump to /home/dmoore/python/sigvisa/logs/mcmc/01626/step_002609..."
       ]
      },
      {
       "output_type": "stream",
       "stream": "stdout",
       "text": [
        "\n",
        "saved pickled graph"
       ]
      },
      {
       "output_type": "stream",
       "stream": "stdout",
       "text": [
        "\n",
        "step 2610: lp -469.35, accepted arrival_time: 0.043%, coda_decay: 0.084%, coda_height: 0.119%, evdepth: 0.093%, evloc: 0.792%, evloc_big: 0.190%, evmb: 0.943%, evtime: 0.419%, indep_peak: 0.003%, peak_decay: 0.361%, peak_offset: 0.176%, , uatemplates: 0 , events: 1 "
       ]
      },
      {
       "output_type": "stream",
       "stream": "stdout",
       "text": [
        "\n",
        "saving debug dump to /home/dmoore/python/sigvisa/logs/mcmc/01626/step_002619..."
       ]
      },
      {
       "output_type": "stream",
       "stream": "stdout",
       "text": [
        "\n",
        "saved pickled graph"
       ]
      },
      {
       "output_type": "stream",
       "stream": "stdout",
       "text": [
        "\n",
        "step 2620: lp -476.09, accepted arrival_time: 0.043%, coda_decay: 0.084%, coda_height: 0.119%, evdepth: 0.093%, evloc: 0.792%, evloc_big: 0.190%, evmb: 0.943%, evtime: 0.419%, indep_peak: 0.003%, peak_decay: 0.360%, peak_offset: 0.176%, , uatemplates: 0 , events: 1 "
       ]
      },
      {
       "output_type": "stream",
       "stream": "stdout",
       "text": [
        "\n",
        "saving debug dump to /home/dmoore/python/sigvisa/logs/mcmc/01626/step_002629..."
       ]
      },
      {
       "output_type": "stream",
       "stream": "stdout",
       "text": [
        "\n",
        "saved pickled graph"
       ]
      },
      {
       "output_type": "stream",
       "stream": "stdout",
       "text": [
        "\n",
        "step 2630: lp -473.32, accepted arrival_time: 0.042%, coda_decay: 0.084%, coda_height: 0.120%, evdepth: 0.093%, evloc: 0.792%, evloc_big: 0.190%, evmb: 0.943%, evtime: 0.418%, indep_peak: 0.003%, peak_decay: 0.360%, peak_offset: 0.176%, , uatemplates: 0 , events: 1 "
       ]
      },
      {
       "output_type": "stream",
       "stream": "stdout",
       "text": [
        "\n",
        "saving debug dump to /home/dmoore/python/sigvisa/logs/mcmc/01626/step_002639..."
       ]
      },
      {
       "output_type": "stream",
       "stream": "stdout",
       "text": [
        "\n",
        "saved pickled graph"
       ]
      },
      {
       "output_type": "stream",
       "stream": "stdout",
       "text": [
        "\n",
        "step 2640: lp -476.76, accepted arrival_time: 0.042%, coda_decay: 0.084%, coda_height: 0.119%, evdepth: 0.093%, evloc: 0.791%, evloc_big: 0.190%, evmb: 0.943%, evtime: 0.418%, indep_peak: 0.003%, peak_decay: 0.360%, peak_offset: 0.176%, , uatemplates: 0 , events: 1 "
       ]
      },
      {
       "output_type": "stream",
       "stream": "stdout",
       "text": [
        "\n",
        "saving debug dump to /home/dmoore/python/sigvisa/logs/mcmc/01626/step_002649..."
       ]
      },
      {
       "output_type": "stream",
       "stream": "stdout",
       "text": [
        "\n",
        "saved pickled graph"
       ]
      },
      {
       "output_type": "stream",
       "stream": "stdout",
       "text": [
        "\n",
        "step 2650: lp -475.84, accepted arrival_time: 0.042%, coda_decay: 0.084%, coda_height: 0.119%, evdepth: 0.092%, evloc: 0.791%, evloc_big: 0.190%, evmb: 0.943%, evtime: 0.418%, indep_peak: 0.003%, peak_decay: 0.360%, peak_offset: 0.176%, , uatemplates: 0 , events: 1 "
       ]
      },
      {
       "output_type": "stream",
       "stream": "stdout",
       "text": [
        "\n",
        "saving debug dump to /home/dmoore/python/sigvisa/logs/mcmc/01626/step_002659..."
       ]
      },
      {
       "output_type": "stream",
       "stream": "stdout",
       "text": [
        "\n",
        "saved pickled graph"
       ]
      },
      {
       "output_type": "stream",
       "stream": "stdout",
       "text": [
        "\n",
        "step 2660: lp -482.78, accepted arrival_time: 0.042%, coda_decay: 0.084%, coda_height: 0.120%, evdepth: 0.093%, evloc: 0.792%, evloc_big: 0.189%, evmb: 0.943%, evtime: 0.418%, indep_peak: 0.003%, peak_decay: 0.360%, peak_offset: 0.176%, , uatemplates: 0 , events: 1 "
       ]
      },
      {
       "output_type": "stream",
       "stream": "stdout",
       "text": [
        "\n",
        "saving debug dump to /home/dmoore/python/sigvisa/logs/mcmc/01626/step_002669..."
       ]
      },
      {
       "output_type": "stream",
       "stream": "stdout",
       "text": [
        "\n",
        "saved pickled graph"
       ]
      },
      {
       "output_type": "stream",
       "stream": "stdout",
       "text": [
        "\n",
        "step 2670: lp -485.84, accepted arrival_time: 0.042%, coda_decay: 0.084%, coda_height: 0.120%, evdepth: 0.093%, evloc: 0.791%, evloc_big: 0.189%, evmb: 0.942%, evtime: 0.418%, indep_peak: 0.003%, peak_decay: 0.359%, peak_offset: 0.176%, , uatemplates: 0 , events: 1 "
       ]
      },
      {
       "output_type": "stream",
       "stream": "stdout",
       "text": [
        "\n",
        "saving debug dump to /home/dmoore/python/sigvisa/logs/mcmc/01626/step_002679..."
       ]
      },
      {
       "output_type": "stream",
       "stream": "stdout",
       "text": [
        "\n",
        "saved pickled graph"
       ]
      },
      {
       "output_type": "stream",
       "stream": "stdout",
       "text": [
        "\n",
        "step 2680: lp -471.11, accepted arrival_time: 0.042%, coda_decay: 0.084%, coda_height: 0.120%, evdepth: 0.093%, evloc: 0.791%, evloc_big: 0.189%, evmb: 0.943%, evtime: 0.417%, indep_peak: 0.003%, peak_decay: 0.359%, peak_offset: 0.176%, , uatemplates: 0 , events: 1 "
       ]
      },
      {
       "output_type": "stream",
       "stream": "stdout",
       "text": [
        "\n",
        "saving debug dump to /home/dmoore/python/sigvisa/logs/mcmc/01626/step_002689..."
       ]
      },
      {
       "output_type": "stream",
       "stream": "stdout",
       "text": [
        "\n",
        "saved pickled graph"
       ]
      },
      {
       "output_type": "stream",
       "stream": "stdout",
       "text": [
        "\n",
        "step 2690: lp -470.18, accepted arrival_time: 0.043%, coda_decay: 0.084%, coda_height: 0.120%, evdepth: 0.093%, evloc: 0.791%, evloc_big: 0.190%, evmb: 0.943%, evtime: 0.417%, indep_peak: 0.003%, peak_decay: 0.358%, peak_offset: 0.176%, , uatemplates: 0 , events: 1 "
       ]
      },
      {
       "output_type": "stream",
       "stream": "stdout",
       "text": [
        "\n",
        "saving debug dump to /home/dmoore/python/sigvisa/logs/mcmc/01626/step_002699..."
       ]
      },
      {
       "output_type": "stream",
       "stream": "stdout",
       "text": [
        "\n",
        "saved pickled graph"
       ]
      },
      {
       "output_type": "stream",
       "stream": "stdout",
       "text": [
        "\n",
        "step 2700: lp -472.67, accepted arrival_time: 0.042%, coda_decay: 0.084%, coda_height: 0.120%, evdepth: 0.092%, evloc: 0.790%, evloc_big: 0.190%, evmb: 0.943%, evtime: 0.417%, indep_peak: 0.003%, peak_decay: 0.358%, peak_offset: 0.176%, , uatemplates: 0 , events: 1 "
       ]
      },
      {
       "output_type": "stream",
       "stream": "stdout",
       "text": [
        "\n",
        "saving debug dump to /home/dmoore/python/sigvisa/logs/mcmc/01626/step_002709..."
       ]
      },
      {
       "output_type": "stream",
       "stream": "stdout",
       "text": [
        "\n",
        "saved pickled graph"
       ]
      },
      {
       "output_type": "stream",
       "stream": "stdout",
       "text": [
        "\n",
        "step 2710: lp -471.25, accepted arrival_time: 0.042%, coda_decay: 0.084%, coda_height: 0.120%, evdepth: 0.092%, evloc: 0.790%, evloc_big: 0.190%, evmb: 0.943%, evtime: 0.416%, indep_peak: 0.003%, peak_decay: 0.357%, peak_offset: 0.176%, , uatemplates: 0 , events: 1 "
       ]
      },
      {
       "output_type": "stream",
       "stream": "stdout",
       "text": [
        "\n",
        "saving debug dump to /home/dmoore/python/sigvisa/logs/mcmc/01626/step_002719..."
       ]
      },
      {
       "output_type": "stream",
       "stream": "stdout",
       "text": [
        "\n",
        "saved pickled graph"
       ]
      },
      {
       "output_type": "stream",
       "stream": "stdout",
       "text": [
        "\n",
        "step 2720: lp -473.34, accepted arrival_time: 0.042%, coda_decay: 0.084%, coda_height: 0.120%, evdepth: 0.092%, evloc: 0.790%, evloc_big: 0.190%, evmb: 0.943%, evtime: 0.416%, indep_peak: 0.003%, peak_decay: 0.357%, peak_offset: 0.176%, , uatemplates: 0 , events: 1 "
       ]
      },
      {
       "output_type": "stream",
       "stream": "stdout",
       "text": [
        "\n",
        "saving debug dump to /home/dmoore/python/sigvisa/logs/mcmc/01626/step_002729..."
       ]
      },
      {
       "output_type": "stream",
       "stream": "stdout",
       "text": [
        "\n",
        "saved pickled graph"
       ]
      },
      {
       "output_type": "stream",
       "stream": "stdout",
       "text": [
        "\n",
        "step 2730: lp -469.91, accepted arrival_time: 0.042%, coda_decay: 0.084%, coda_height: 0.120%, evdepth: 0.092%, evloc: 0.790%, evloc_big: 0.190%, evmb: 0.943%, evtime: 0.415%, indep_peak: 0.003%, peak_decay: 0.356%, peak_offset: 0.176%, , uatemplates: 0 , events: 1 "
       ]
      },
      {
       "output_type": "stream",
       "stream": "stdout",
       "text": [
        "\n",
        "saving debug dump to /home/dmoore/python/sigvisa/logs/mcmc/01626/step_002739..."
       ]
      },
      {
       "output_type": "stream",
       "stream": "stdout",
       "text": [
        "\n",
        "saved pickled graph"
       ]
      },
      {
       "output_type": "stream",
       "stream": "stdout",
       "text": [
        "\n",
        "step 2740: lp -470.60, accepted arrival_time: 0.042%, coda_decay: 0.084%, coda_height: 0.120%, evdepth: 0.092%, evloc: 0.789%, evloc_big: 0.190%, evmb: 0.943%, evtime: 0.415%, indep_peak: 0.003%, peak_decay: 0.357%, peak_offset: 0.177%, , uatemplates: 0 , events: 1 "
       ]
      },
      {
       "output_type": "stream",
       "stream": "stdout",
       "text": [
        "\n",
        "saving debug dump to /home/dmoore/python/sigvisa/logs/mcmc/01626/step_002749..."
       ]
      },
      {
       "output_type": "stream",
       "stream": "stdout",
       "text": [
        "\n",
        "saved pickled graph"
       ]
      },
      {
       "output_type": "stream",
       "stream": "stdout",
       "text": [
        "\n",
        "step 2750: lp -476.84, accepted arrival_time: 0.042%, coda_decay: 0.084%, coda_height: 0.120%, evdepth: 0.092%, evloc: 0.790%, evloc_big: 0.190%, evmb: 0.943%, evtime: 0.415%, indep_peak: 0.003%, peak_decay: 0.356%, peak_offset: 0.177%, , uatemplates: 0 , events: 1 "
       ]
      },
      {
       "output_type": "stream",
       "stream": "stdout",
       "text": [
        "\n",
        "saving debug dump to /home/dmoore/python/sigvisa/logs/mcmc/01626/step_002759..."
       ]
      },
      {
       "output_type": "stream",
       "stream": "stdout",
       "text": [
        "\n",
        "saved pickled graph"
       ]
      },
      {
       "output_type": "stream",
       "stream": "stdout",
       "text": [
        "\n",
        "step 2760: lp -479.00, accepted arrival_time: 0.042%, coda_decay: 0.085%, coda_height: 0.120%, evdepth: 0.092%, evloc: 0.790%, evloc_big: 0.190%, evmb: 0.943%, evtime: 0.414%, indep_peak: 0.003%, peak_decay: 0.356%, peak_offset: 0.177%, , uatemplates: 0 , events: 1 "
       ]
      },
      {
       "output_type": "stream",
       "stream": "stdout",
       "text": [
        "\n",
        "saving debug dump to /home/dmoore/python/sigvisa/logs/mcmc/01626/step_002769..."
       ]
      },
      {
       "output_type": "stream",
       "stream": "stdout",
       "text": [
        "\n",
        "saved pickled graph"
       ]
      },
      {
       "output_type": "stream",
       "stream": "stdout",
       "text": [
        "\n",
        "step 2770: lp -476.21, accepted arrival_time: 0.042%, coda_decay: 0.085%, coda_height: 0.120%, evdepth: 0.092%, evloc: 0.790%, evloc_big: 0.191%, evmb: 0.943%, evtime: 0.414%, indep_peak: 0.003%, peak_decay: 0.356%, peak_offset: 0.177%, , uatemplates: 0 , events: 1 "
       ]
      },
      {
       "output_type": "stream",
       "stream": "stdout",
       "text": [
        "\n",
        "saving debug dump to /home/dmoore/python/sigvisa/logs/mcmc/01626/step_002779..."
       ]
      },
      {
       "output_type": "stream",
       "stream": "stdout",
       "text": [
        "\n",
        "saved pickled graph"
       ]
      },
      {
       "output_type": "stream",
       "stream": "stdout",
       "text": [
        "\n",
        "step 2780: lp -474.30, accepted arrival_time: 0.042%, coda_decay: 0.085%, coda_height: 0.120%, evdepth: 0.092%, evloc: 0.791%, evloc_big: 0.191%, evmb: 0.944%, evtime: 0.414%, indep_peak: 0.003%, peak_decay: 0.355%, peak_offset: 0.177%, , uatemplates: 0 , events: 1 "
       ]
      },
      {
       "output_type": "stream",
       "stream": "stdout",
       "text": [
        "\n",
        "saving debug dump to /home/dmoore/python/sigvisa/logs/mcmc/01626/step_002789..."
       ]
      },
      {
       "output_type": "stream",
       "stream": "stdout",
       "text": [
        "\n",
        "saved pickled graph"
       ]
      },
      {
       "output_type": "stream",
       "stream": "stdout",
       "text": [
        "\n",
        "step 2790: lp -478.85, accepted arrival_time: 0.042%, coda_decay: 0.085%, coda_height: 0.120%, evdepth: 0.092%, evloc: 0.791%, evloc_big: 0.192%, evmb: 0.944%, evtime: 0.414%, indep_peak: 0.003%, peak_decay: 0.355%, peak_offset: 0.177%, , uatemplates: 0 , events: 1 "
       ]
      },
      {
       "output_type": "stream",
       "stream": "stdout",
       "text": [
        "\n",
        "saving debug dump to /home/dmoore/python/sigvisa/logs/mcmc/01626/step_002799..."
       ]
      },
      {
       "output_type": "stream",
       "stream": "stdout",
       "text": [
        "\n",
        "saved pickled graph"
       ]
      },
      {
       "output_type": "stream",
       "stream": "stdout",
       "text": [
        "\n",
        "step 2800: lp -476.63, accepted arrival_time: 0.042%, coda_decay: 0.085%, coda_height: 0.120%, evdepth: 0.092%, evloc: 0.791%, evloc_big: 0.193%, evmb: 0.943%, evtime: 0.413%, indep_peak: 0.003%, peak_decay: 0.354%, peak_offset: 0.177%, , uatemplates: 0 , events: 1 "
       ]
      },
      {
       "output_type": "stream",
       "stream": "stdout",
       "text": [
        "\n",
        "saving debug dump to /home/dmoore/python/sigvisa/logs/mcmc/01626/step_002809..."
       ]
      },
      {
       "output_type": "stream",
       "stream": "stdout",
       "text": [
        "\n",
        "saved pickled graph"
       ]
      },
      {
       "output_type": "stream",
       "stream": "stdout",
       "text": [
        "\n",
        "step 2810: lp -487.09, accepted arrival_time: 0.042%, coda_decay: 0.085%, coda_height: 0.120%, evdepth: 0.091%, evloc: 0.791%, evloc_big: 0.193%, evmb: 0.943%, evtime: 0.412%, indep_peak: 0.003%, peak_decay: 0.354%, peak_offset: 0.177%, , uatemplates: 0 , events: 1 "
       ]
      },
      {
       "output_type": "stream",
       "stream": "stdout",
       "text": [
        "\n",
        "saving debug dump to /home/dmoore/python/sigvisa/logs/mcmc/01626/step_002819..."
       ]
      },
      {
       "output_type": "stream",
       "stream": "stdout",
       "text": [
        "\n",
        "saved pickled graph"
       ]
      },
      {
       "output_type": "stream",
       "stream": "stdout",
       "text": [
        "\n",
        "step 2820: lp -481.93, accepted arrival_time: 0.042%, coda_decay: 0.085%, coda_height: 0.120%, evdepth: 0.091%, evloc: 0.791%, evloc_big: 0.192%, evmb: 0.943%, evtime: 0.413%, indep_peak: 0.003%, peak_decay: 0.354%, peak_offset: 0.177%, , uatemplates: 0 , events: 1 "
       ]
      },
      {
       "output_type": "stream",
       "stream": "stdout",
       "text": [
        "\n",
        "saving debug dump to /home/dmoore/python/sigvisa/logs/mcmc/01626/step_002829..."
       ]
      },
      {
       "output_type": "stream",
       "stream": "stdout",
       "text": [
        "\n",
        "saved pickled graph"
       ]
      },
      {
       "output_type": "stream",
       "stream": "stdout",
       "text": [
        "\n",
        "step 2830: lp -472.50, accepted arrival_time: 0.042%, coda_decay: 0.085%, coda_height: 0.120%, evdepth: 0.091%, evloc: 0.791%, evloc_big: 0.192%, evmb: 0.943%, evtime: 0.412%, indep_peak: 0.003%, peak_decay: 0.354%, peak_offset: 0.177%, , uatemplates: 0 , events: 1 "
       ]
      },
      {
       "output_type": "stream",
       "stream": "stdout",
       "text": [
        "\n",
        "saving debug dump to /home/dmoore/python/sigvisa/logs/mcmc/01626/step_002839..."
       ]
      },
      {
       "output_type": "stream",
       "stream": "stdout",
       "text": [
        "\n",
        "saved pickled graph"
       ]
      },
      {
       "output_type": "stream",
       "stream": "stdout",
       "text": [
        "\n",
        "step 2840: lp -474.31, accepted arrival_time: 0.042%, coda_decay: 0.085%, coda_height: 0.120%, evdepth: 0.091%, evloc: 0.792%, evloc_big: 0.193%, evmb: 0.942%, evtime: 0.411%, indep_peak: 0.003%, peak_decay: 0.354%, peak_offset: 0.177%, , uatemplates: 0 , events: 1 "
       ]
      },
      {
       "output_type": "stream",
       "stream": "stdout",
       "text": [
        "\n",
        "saving debug dump to /home/dmoore/python/sigvisa/logs/mcmc/01626/step_002849..."
       ]
      },
      {
       "output_type": "stream",
       "stream": "stdout",
       "text": [
        "\n",
        "saved pickled graph"
       ]
      },
      {
       "output_type": "stream",
       "stream": "stdout",
       "text": [
        "\n",
        "step 2850: lp -475.55, accepted arrival_time: 0.042%, coda_decay: 0.085%, coda_height: 0.120%, evdepth: 0.092%, evloc: 0.792%, evloc_big: 0.193%, evmb: 0.942%, evtime: 0.411%, indep_peak: 0.003%, peak_decay: 0.354%, peak_offset: 0.177%, , uatemplates: 0 , events: 1 "
       ]
      },
      {
       "output_type": "stream",
       "stream": "stdout",
       "text": [
        "\n",
        "saving debug dump to /home/dmoore/python/sigvisa/logs/mcmc/01626/step_002859..."
       ]
      },
      {
       "output_type": "stream",
       "stream": "stdout",
       "text": [
        "\n",
        "saved pickled graph"
       ]
      },
      {
       "output_type": "stream",
       "stream": "stdout",
       "text": [
        "\n",
        "step 2860: lp -468.16, accepted arrival_time: 0.042%, coda_decay: 0.085%, coda_height: 0.120%, evdepth: 0.092%, evloc: 0.792%, evloc_big: 0.192%, evmb: 0.942%, evtime: 0.411%, indep_peak: 0.003%, peak_decay: 0.353%, peak_offset: 0.177%, , uatemplates: 0 , events: 1 "
       ]
      },
      {
       "output_type": "stream",
       "stream": "stdout",
       "text": [
        "\n",
        "saving debug dump to /home/dmoore/python/sigvisa/logs/mcmc/01626/step_002869..."
       ]
      },
      {
       "output_type": "stream",
       "stream": "stdout",
       "text": [
        "\n",
        "saved pickled graph"
       ]
      },
      {
       "output_type": "stream",
       "stream": "stdout",
       "text": [
        "\n",
        "step 2870: lp -472.99, accepted arrival_time: 0.042%, coda_decay: 0.085%, coda_height: 0.120%, evdepth: 0.092%, evloc: 0.792%, evloc_big: 0.192%, evmb: 0.942%, evtime: 0.411%, indep_peak: 0.003%, peak_decay: 0.353%, peak_offset: 0.177%, , uatemplates: 0 , events: 1 "
       ]
      },
      {
       "output_type": "stream",
       "stream": "stdout",
       "text": [
        "\n",
        "saving debug dump to /home/dmoore/python/sigvisa/logs/mcmc/01626/step_002879..."
       ]
      },
      {
       "output_type": "stream",
       "stream": "stdout",
       "text": [
        "\n",
        "saved pickled graph"
       ]
      },
      {
       "output_type": "stream",
       "stream": "stdout",
       "text": [
        "\n",
        "step 2880: lp -474.12, accepted arrival_time: 0.042%, coda_decay: 0.085%, coda_height: 0.120%, evdepth: 0.092%, evloc: 0.791%, evloc_big: 0.192%, evmb: 0.942%, evtime: 0.411%, indep_peak: 0.003%, peak_decay: 0.353%, peak_offset: 0.177%, , uatemplates: 0 , events: 1 "
       ]
      },
      {
       "output_type": "stream",
       "stream": "stdout",
       "text": [
        "\n",
        "saving debug dump to /home/dmoore/python/sigvisa/logs/mcmc/01626/step_002889..."
       ]
      },
      {
       "output_type": "stream",
       "stream": "stdout",
       "text": [
        "\n",
        "saved pickled graph"
       ]
      },
      {
       "output_type": "stream",
       "stream": "stdout",
       "text": [
        "\n",
        "step 2890: lp -471.63, accepted arrival_time: 0.042%, coda_decay: 0.085%, coda_height: 0.120%, evdepth: 0.092%, evloc: 0.791%, evloc_big: 0.193%, evmb: 0.942%, evtime: 0.410%, indep_peak: 0.003%, peak_decay: 0.353%, peak_offset: 0.177%, , uatemplates: 0 , events: 1 "
       ]
      },
      {
       "output_type": "stream",
       "stream": "stdout",
       "text": [
        "\n",
        "saving debug dump to /home/dmoore/python/sigvisa/logs/mcmc/01626/step_002899..."
       ]
      },
      {
       "output_type": "stream",
       "stream": "stdout",
       "text": [
        "\n",
        "saved pickled graph"
       ]
      },
      {
       "output_type": "stream",
       "stream": "stdout",
       "text": [
        "\n",
        "step 2900: lp -469.79, accepted arrival_time: 0.042%, coda_decay: 0.085%, coda_height: 0.120%, evdepth: 0.091%, evloc: 0.790%, evloc_big: 0.193%, evmb: 0.942%, evtime: 0.411%, indep_peak: 0.003%, peak_decay: 0.352%, peak_offset: 0.177%, , uatemplates: 0 , events: 1 "
       ]
      },
      {
       "output_type": "stream",
       "stream": "stdout",
       "text": [
        "\n",
        "saving debug dump to /home/dmoore/python/sigvisa/logs/mcmc/01626/step_002909..."
       ]
      },
      {
       "output_type": "stream",
       "stream": "stdout",
       "text": [
        "\n",
        "saved pickled graph"
       ]
      },
      {
       "output_type": "stream",
       "stream": "stdout",
       "text": [
        "\n",
        "step 2910: lp -470.43, accepted arrival_time: 0.042%, coda_decay: 0.085%, coda_height: 0.120%, evdepth: 0.091%, evloc: 0.790%, evloc_big: 0.192%, evmb: 0.942%, evtime: 0.411%, indep_peak: 0.003%, peak_decay: 0.352%, peak_offset: 0.177%, , uatemplates: 0 , events: 1 "
       ]
      },
      {
       "output_type": "stream",
       "stream": "stdout",
       "text": [
        "\n",
        "saving debug dump to /home/dmoore/python/sigvisa/logs/mcmc/01626/step_002919..."
       ]
      },
      {
       "output_type": "stream",
       "stream": "stdout",
       "text": [
        "\n",
        "saved pickled graph"
       ]
      },
      {
       "output_type": "stream",
       "stream": "stdout",
       "text": [
        "\n",
        "step 2920: lp -471.82, accepted arrival_time: 0.042%, coda_decay: 0.085%, coda_height: 0.120%, evdepth: 0.092%, evloc: 0.790%, evloc_big: 0.192%, evmb: 0.942%, evtime: 0.411%, indep_peak: 0.003%, peak_decay: 0.352%, peak_offset: 0.177%, , uatemplates: 0 , events: 1 "
       ]
      },
      {
       "output_type": "stream",
       "stream": "stdout",
       "text": [
        "\n",
        "saving debug dump to /home/dmoore/python/sigvisa/logs/mcmc/01626/step_002929..."
       ]
      },
      {
       "output_type": "stream",
       "stream": "stdout",
       "text": [
        "\n",
        "saved pickled graph"
       ]
      },
      {
       "output_type": "stream",
       "stream": "stdout",
       "text": [
        "\n",
        "step 2930: lp -476.55, accepted arrival_time: 0.043%, coda_decay: 0.085%, coda_height: 0.120%, evdepth: 0.091%, evloc: 0.791%, evloc_big: 0.192%, evmb: 0.942%, evtime: 0.410%, indep_peak: 0.003%, peak_decay: 0.353%, peak_offset: 0.177%, , uatemplates: 0 , events: 1 "
       ]
      },
      {
       "output_type": "stream",
       "stream": "stdout",
       "text": [
        "\n",
        "saving debug dump to /home/dmoore/python/sigvisa/logs/mcmc/01626/step_002939..."
       ]
      },
      {
       "output_type": "stream",
       "stream": "stdout",
       "text": [
        "\n",
        "saved pickled graph"
       ]
      },
      {
       "output_type": "stream",
       "stream": "stdout",
       "text": [
        "\n",
        "step 2940: lp -475.21, accepted arrival_time: 0.043%, coda_decay: 0.085%, coda_height: 0.120%, evdepth: 0.091%, evloc: 0.791%, evloc_big: 0.192%, evmb: 0.942%, evtime: 0.410%, indep_peak: 0.003%, peak_decay: 0.352%, peak_offset: 0.177%, , uatemplates: 0 , events: 1 "
       ]
      },
      {
       "output_type": "stream",
       "stream": "stdout",
       "text": [
        "\n",
        "saving debug dump to /home/dmoore/python/sigvisa/logs/mcmc/01626/step_002949..."
       ]
      },
      {
       "output_type": "stream",
       "stream": "stdout",
       "text": [
        "\n",
        "saved pickled graph"
       ]
      },
      {
       "output_type": "stream",
       "stream": "stdout",
       "text": [
        "\n",
        "step 2950: lp -471.38, accepted arrival_time: 0.043%, coda_decay: 0.085%, coda_height: 0.120%, evdepth: 0.091%, evloc: 0.791%, evloc_big: 0.191%, evmb: 0.942%, evtime: 0.410%, indep_peak: 0.003%, peak_decay: 0.352%, peak_offset: 0.177%, , uatemplates: 0 , events: 1 "
       ]
      },
      {
       "output_type": "stream",
       "stream": "stdout",
       "text": [
        "\n",
        "saving debug dump to /home/dmoore/python/sigvisa/logs/mcmc/01626/step_002959..."
       ]
      },
      {
       "output_type": "stream",
       "stream": "stdout",
       "text": [
        "\n",
        "saved pickled graph"
       ]
      },
      {
       "output_type": "stream",
       "stream": "stdout",
       "text": [
        "\n",
        "step 2960: lp -474.23, accepted arrival_time: 0.043%, coda_decay: 0.085%, coda_height: 0.120%, evdepth: 0.091%, evloc: 0.791%, evloc_big: 0.192%, evmb: 0.943%, evtime: 0.410%, indep_peak: 0.003%, peak_decay: 0.352%, peak_offset: 0.177%, , uatemplates: 0 , events: 1 "
       ]
      },
      {
       "output_type": "stream",
       "stream": "stdout",
       "text": [
        "\n",
        "saving debug dump to /home/dmoore/python/sigvisa/logs/mcmc/01626/step_002969..."
       ]
      },
      {
       "output_type": "stream",
       "stream": "stdout",
       "text": [
        "\n",
        "saved pickled graph"
       ]
      },
      {
       "output_type": "stream",
       "stream": "stdout",
       "text": [
        "\n",
        "step 2970: lp -477.34, accepted arrival_time: 0.043%, coda_decay: 0.085%, coda_height: 0.120%, evdepth: 0.091%, evloc: 0.791%, evloc_big: 0.192%, evmb: 0.943%, evtime: 0.410%, indep_peak: 0.003%, peak_decay: 0.352%, peak_offset: 0.177%, , uatemplates: 0 , events: 1 "
       ]
      },
      {
       "output_type": "stream",
       "stream": "stdout",
       "text": [
        "\n",
        "saving debug dump to /home/dmoore/python/sigvisa/logs/mcmc/01626/step_002979..."
       ]
      },
      {
       "output_type": "stream",
       "stream": "stdout",
       "text": [
        "\n",
        "saved pickled graph"
       ]
      },
      {
       "output_type": "stream",
       "stream": "stdout",
       "text": [
        "\n",
        "step 2980: lp -474.51, accepted arrival_time: 0.043%, coda_decay: 0.085%, coda_height: 0.120%, evdepth: 0.091%, evloc: 0.792%, evloc_big: 0.192%, evmb: 0.943%, evtime: 0.410%, indep_peak: 0.003%, peak_decay: 0.353%, peak_offset: 0.177%, , uatemplates: 0 , events: 1 "
       ]
      },
      {
       "output_type": "stream",
       "stream": "stdout",
       "text": [
        "\n",
        "saving debug dump to /home/dmoore/python/sigvisa/logs/mcmc/01626/step_002989..."
       ]
      },
      {
       "output_type": "stream",
       "stream": "stdout",
       "text": [
        "\n",
        "saved pickled graph"
       ]
      },
      {
       "output_type": "stream",
       "stream": "stdout",
       "text": [
        "\n",
        "step 2990: lp -468.64, accepted arrival_time: 0.043%, coda_decay: 0.084%, coda_height: 0.120%, evdepth: 0.091%, evloc: 0.793%, evloc_big: 0.191%, evmb: 0.943%, evtime: 0.410%, indep_peak: 0.003%, peak_decay: 0.353%, peak_offset: 0.177%, , uatemplates: 0 , events: 1 "
       ]
      },
      {
       "output_type": "stream",
       "stream": "stdout",
       "text": [
        "\n",
        "saving debug dump to /home/dmoore/python/sigvisa/logs/mcmc/01626/step_002999..."
       ]
      },
      {
       "output_type": "stream",
       "stream": "stdout",
       "text": [
        "\n",
        "saved pickled graph"
       ]
      },
      {
       "output_type": "stream",
       "stream": "stdout",
       "text": [
        "\n",
        "step 3000: lp -465.42, accepted arrival_time: 0.043%, coda_decay: 0.085%, coda_height: 0.120%, evdepth: 0.090%, evloc: 0.793%, evloc_big: 0.191%, evmb: 0.943%, evtime: 0.410%, indep_peak: 0.003%, peak_decay: 0.353%, peak_offset: 0.177%, , uatemplates: 0 , events: 1 "
       ]
      },
      {
       "output_type": "stream",
       "stream": "stdout",
       "text": [
        "\n",
        "saving debug dump to /home/dmoore/python/sigvisa/logs/mcmc/01626/step_003009..."
       ]
      },
      {
       "output_type": "stream",
       "stream": "stdout",
       "text": [
        "\n",
        "saved pickled graph"
       ]
      },
      {
       "output_type": "stream",
       "stream": "stdout",
       "text": [
        "\n",
        "step 3010: lp -463.85, accepted arrival_time: 0.043%, coda_decay: 0.084%, coda_height: 0.120%, evdepth: 0.090%, evloc: 0.793%, evloc_big: 0.190%, evmb: 0.943%, evtime: 0.409%, indep_peak: 0.003%, peak_decay: 0.353%, peak_offset: 0.177%, , uatemplates: 0 , events: 1 "
       ]
      },
      {
       "output_type": "stream",
       "stream": "stdout",
       "text": [
        "\n",
        "saving debug dump to /home/dmoore/python/sigvisa/logs/mcmc/01626/step_003019..."
       ]
      },
      {
       "output_type": "stream",
       "stream": "stdout",
       "text": [
        "\n",
        "saved pickled graph"
       ]
      },
      {
       "output_type": "stream",
       "stream": "stdout",
       "text": [
        "\n",
        "step 3020: lp -471.13, accepted arrival_time: 0.043%, coda_decay: 0.084%, coda_height: 0.120%, evdepth: 0.090%, evloc: 0.794%, evloc_big: 0.190%, evmb: 0.943%, evtime: 0.409%, indep_peak: 0.003%, peak_decay: 0.354%, peak_offset: 0.176%, , uatemplates: 0 , events: 1 "
       ]
      },
      {
       "output_type": "stream",
       "stream": "stdout",
       "text": [
        "\n",
        "saving debug dump to /home/dmoore/python/sigvisa/logs/mcmc/01626/step_003029..."
       ]
      },
      {
       "output_type": "stream",
       "stream": "stdout",
       "text": [
        "\n",
        "saved pickled graph"
       ]
      },
      {
       "output_type": "stream",
       "stream": "stdout",
       "text": [
        "\n",
        "step 3030: lp -474.57, accepted arrival_time: 0.043%, coda_decay: 0.085%, coda_height: 0.120%, evdepth: 0.090%, evloc: 0.794%, evloc_big: 0.190%, evmb: 0.943%, evtime: 0.409%, indep_peak: 0.003%, peak_decay: 0.354%, peak_offset: 0.176%, , uatemplates: 0 , events: 1 "
       ]
      },
      {
       "output_type": "stream",
       "stream": "stdout",
       "text": [
        "\n",
        "saving debug dump to /home/dmoore/python/sigvisa/logs/mcmc/01626/step_003039..."
       ]
      },
      {
       "output_type": "stream",
       "stream": "stdout",
       "text": [
        "\n",
        "saved pickled graph"
       ]
      },
      {
       "output_type": "stream",
       "stream": "stdout",
       "text": [
        "\n",
        "step 3040: lp -474.04, accepted arrival_time: 0.043%, coda_decay: 0.085%, coda_height: 0.120%, evdepth: 0.090%, evloc: 0.794%, evloc_big: 0.189%, evmb: 0.943%, evtime: 0.408%, indep_peak: 0.003%, peak_decay: 0.354%, peak_offset: 0.177%, , uatemplates: 0 , events: 1 "
       ]
      },
      {
       "output_type": "stream",
       "stream": "stdout",
       "text": [
        "\n",
        "saving debug dump to /home/dmoore/python/sigvisa/logs/mcmc/01626/step_003049..."
       ]
      },
      {
       "output_type": "stream",
       "stream": "stdout",
       "text": [
        "\n",
        "saved pickled graph"
       ]
      },
      {
       "output_type": "stream",
       "stream": "stdout",
       "text": [
        "\n",
        "step 3050: lp -470.21, accepted arrival_time: 0.043%, coda_decay: 0.084%, coda_height: 0.120%, evdepth: 0.090%, evloc: 0.795%, evloc_big: 0.189%, evmb: 0.943%, evtime: 0.409%, indep_peak: 0.003%, peak_decay: 0.355%, peak_offset: 0.177%, , uatemplates: 0 , events: 1 "
       ]
      },
      {
       "output_type": "stream",
       "stream": "stdout",
       "text": [
        "\n",
        "saving debug dump to /home/dmoore/python/sigvisa/logs/mcmc/01626/step_003059..."
       ]
      },
      {
       "output_type": "stream",
       "stream": "stdout",
       "text": [
        "\n",
        "saved pickled graph"
       ]
      },
      {
       "output_type": "stream",
       "stream": "stdout",
       "text": [
        "\n",
        "step 3060: lp -469.72, accepted arrival_time: 0.043%, coda_decay: 0.084%, coda_height: 0.120%, evdepth: 0.090%, evloc: 0.795%, evloc_big: 0.189%, evmb: 0.943%, evtime: 0.410%, indep_peak: 0.003%, peak_decay: 0.355%, peak_offset: 0.176%, , uatemplates: 0 , events: 1 "
       ]
      },
      {
       "output_type": "stream",
       "stream": "stdout",
       "text": [
        "\n",
        "saving debug dump to /home/dmoore/python/sigvisa/logs/mcmc/01626/step_003069..."
       ]
      },
      {
       "output_type": "stream",
       "stream": "stdout",
       "text": [
        "\n",
        "saved pickled graph"
       ]
      },
      {
       "output_type": "stream",
       "stream": "stdout",
       "text": [
        "\n",
        "step 3070: lp -467.15, accepted arrival_time: 0.043%, coda_decay: 0.085%, coda_height: 0.120%, evdepth: 0.090%, evloc: 0.796%, evloc_big: 0.189%, evmb: 0.944%, evtime: 0.410%, indep_peak: 0.003%, peak_decay: 0.354%, peak_offset: 0.176%, , uatemplates: 0 , events: 1 "
       ]
      },
      {
       "output_type": "stream",
       "stream": "stdout",
       "text": [
        "\n",
        "saving debug dump to /home/dmoore/python/sigvisa/logs/mcmc/01626/step_003079..."
       ]
      },
      {
       "output_type": "stream",
       "stream": "stdout",
       "text": [
        "\n",
        "saved pickled graph"
       ]
      },
      {
       "output_type": "stream",
       "stream": "stdout",
       "text": [
        "\n",
        "step 3080: lp -469.23, accepted arrival_time: 0.043%, coda_decay: 0.085%, coda_height: 0.120%, evdepth: 0.090%, evloc: 0.796%, evloc_big: 0.189%, evmb: 0.944%, evtime: 0.410%, indep_peak: 0.003%, peak_decay: 0.354%, peak_offset: 0.177%, , uatemplates: 0 , events: 1 "
       ]
      },
      {
       "output_type": "stream",
       "stream": "stdout",
       "text": [
        "\n",
        "saving debug dump to /home/dmoore/python/sigvisa/logs/mcmc/01626/step_003089..."
       ]
      },
      {
       "output_type": "stream",
       "stream": "stdout",
       "text": [
        "\n",
        "saved pickled graph"
       ]
      },
      {
       "output_type": "stream",
       "stream": "stdout",
       "text": [
        "\n",
        "step 3090: lp -469.06, accepted arrival_time: 0.043%, coda_decay: 0.085%, coda_height: 0.120%, evdepth: 0.090%, evloc: 0.796%, evloc_big: 0.189%, evmb: 0.944%, evtime: 0.409%, indep_peak: 0.003%, peak_decay: 0.353%, peak_offset: 0.177%, , uatemplates: 0 , events: 1 "
       ]
      },
      {
       "output_type": "stream",
       "stream": "stdout",
       "text": [
        "\n",
        "saving debug dump to /home/dmoore/python/sigvisa/logs/mcmc/01626/step_003099..."
       ]
      },
      {
       "output_type": "stream",
       "stream": "stdout",
       "text": [
        "\n",
        "saved pickled graph"
       ]
      },
      {
       "output_type": "stream",
       "stream": "stdout",
       "text": [
        "\n",
        "step 3100: lp -467.88, accepted arrival_time: 0.043%, coda_decay: 0.085%, coda_height: 0.120%, evdepth: 0.090%, evloc: 0.796%, evloc_big: 0.188%, evmb: 0.944%, evtime: 0.409%, indep_peak: 0.003%, peak_decay: 0.353%, peak_offset: 0.177%, , uatemplates: 0 , events: 1 "
       ]
      },
      {
       "output_type": "stream",
       "stream": "stdout",
       "text": [
        "\n",
        "saving debug dump to /home/dmoore/python/sigvisa/logs/mcmc/01626/step_003109..."
       ]
      },
      {
       "output_type": "stream",
       "stream": "stdout",
       "text": [
        "\n",
        "saved pickled graph"
       ]
      },
      {
       "output_type": "stream",
       "stream": "stdout",
       "text": [
        "\n",
        "step 3110: lp -472.98, accepted arrival_time: 0.043%, coda_decay: 0.085%, coda_height: 0.120%, evdepth: 0.090%, evloc: 0.796%, evloc_big: 0.189%, evmb: 0.944%, evtime: 0.410%, indep_peak: 0.003%, peak_decay: 0.353%, peak_offset: 0.177%, , uatemplates: 0 , events: 1 "
       ]
      },
      {
       "output_type": "stream",
       "stream": "stdout",
       "text": [
        "\n",
        "saving debug dump to /home/dmoore/python/sigvisa/logs/mcmc/01626/step_003119..."
       ]
      },
      {
       "output_type": "stream",
       "stream": "stdout",
       "text": [
        "\n",
        "saved pickled graph"
       ]
      },
      {
       "output_type": "stream",
       "stream": "stdout",
       "text": [
        "\n",
        "step 3120: lp -471.71, accepted arrival_time: 0.043%, coda_decay: 0.085%, coda_height: 0.120%, evdepth: 0.089%, evloc: 0.796%, evloc_big: 0.188%, evmb: 0.944%, evtime: 0.409%, indep_peak: 0.003%, peak_decay: 0.353%, peak_offset: 0.177%, , uatemplates: 0 , events: 1 "
       ]
      },
      {
       "output_type": "stream",
       "stream": "stdout",
       "text": [
        "\n",
        "saving debug dump to /home/dmoore/python/sigvisa/logs/mcmc/01626/step_003129..."
       ]
      },
      {
       "output_type": "stream",
       "stream": "stdout",
       "text": [
        "\n",
        "saved pickled graph"
       ]
      },
      {
       "output_type": "stream",
       "stream": "stdout",
       "text": [
        "\n",
        "step 3130: lp -469.82, accepted arrival_time: 0.043%, coda_decay: 0.085%, coda_height: 0.120%, evdepth: 0.089%, evloc: 0.796%, evloc_big: 0.188%, evmb: 0.944%, evtime: 0.410%, indep_peak: 0.003%, peak_decay: 0.353%, peak_offset: 0.176%, , uatemplates: 0 , events: 1 "
       ]
      },
      {
       "output_type": "stream",
       "stream": "stdout",
       "text": [
        "\n",
        "saving debug dump to /home/dmoore/python/sigvisa/logs/mcmc/01626/step_003139..."
       ]
      },
      {
       "output_type": "stream",
       "stream": "stdout",
       "text": [
        "\n",
        "saved pickled graph"
       ]
      },
      {
       "output_type": "stream",
       "stream": "stdout",
       "text": [
        "\n",
        "step 3140: lp -465.37, accepted arrival_time: 0.043%, coda_decay: 0.085%, coda_height: 0.120%, evdepth: 0.089%, evloc: 0.795%, evloc_big: 0.188%, evmb: 0.944%, evtime: 0.410%, indep_peak: 0.003%, peak_decay: 0.354%, peak_offset: 0.176%, , uatemplates: 0 , events: 1 "
       ]
      },
      {
       "output_type": "stream",
       "stream": "stdout",
       "text": [
        "\n",
        "saving debug dump to /home/dmoore/python/sigvisa/logs/mcmc/01626/step_003149..."
       ]
      },
      {
       "output_type": "stream",
       "stream": "stdout",
       "text": [
        "\n",
        "saved pickled graph"
       ]
      },
      {
       "output_type": "stream",
       "stream": "stdout",
       "text": [
        "\n",
        "step 3150: lp -463.39, accepted arrival_time: 0.043%, coda_decay: 0.085%, coda_height: 0.120%, evdepth: 0.089%, evloc: 0.796%, evloc_big: 0.188%, evmb: 0.944%, evtime: 0.410%, indep_peak: 0.003%, peak_decay: 0.354%, peak_offset: 0.176%, , uatemplates: 0 , events: 1 "
       ]
      },
      {
       "output_type": "stream",
       "stream": "stdout",
       "text": [
        "\n",
        "saving debug dump to /home/dmoore/python/sigvisa/logs/mcmc/01626/step_003159..."
       ]
      },
      {
       "output_type": "stream",
       "stream": "stdout",
       "text": [
        "\n",
        "saved pickled graph"
       ]
      },
      {
       "output_type": "stream",
       "stream": "stdout",
       "text": [
        "\n",
        "step 3160: lp -469.92, accepted arrival_time: 0.043%, coda_decay: 0.085%, coda_height: 0.120%, evdepth: 0.089%, evloc: 0.796%, evloc_big: 0.188%, evmb: 0.944%, evtime: 0.410%, indep_peak: 0.003%, peak_decay: 0.354%, peak_offset: 0.176%, , uatemplates: 0 , events: 1 "
       ]
      },
      {
       "output_type": "stream",
       "stream": "stdout",
       "text": [
        "\n",
        "saving debug dump to /home/dmoore/python/sigvisa/logs/mcmc/01626/step_003169..."
       ]
      },
      {
       "output_type": "stream",
       "stream": "stdout",
       "text": [
        "\n",
        "saved pickled graph"
       ]
      },
      {
       "output_type": "stream",
       "stream": "stdout",
       "text": [
        "\n",
        "step 3170: lp -468.00, accepted arrival_time: 0.043%, coda_decay: 0.085%, coda_height: 0.120%, evdepth: 0.089%, evloc: 0.796%, evloc_big: 0.188%, evmb: 0.944%, evtime: 0.410%, indep_peak: 0.003%, peak_decay: 0.354%, peak_offset: 0.176%, , uatemplates: 0 , events: 1 "
       ]
      },
      {
       "output_type": "stream",
       "stream": "stdout",
       "text": [
        "\n",
        "saving debug dump to /home/dmoore/python/sigvisa/logs/mcmc/01626/step_003179..."
       ]
      },
      {
       "output_type": "stream",
       "stream": "stdout",
       "text": [
        "\n",
        "saved pickled graph"
       ]
      },
      {
       "output_type": "stream",
       "stream": "stdout",
       "text": [
        "\n",
        "step 3180: lp -469.70, accepted arrival_time: 0.043%, coda_decay: 0.085%, coda_height: 0.120%, evdepth: 0.088%, evloc: 0.797%, evloc_big: 0.189%, evmb: 0.944%, evtime: 0.410%, indep_peak: 0.003%, peak_decay: 0.354%, peak_offset: 0.176%, , uatemplates: 0 , events: 1 "
       ]
      },
      {
       "output_type": "stream",
       "stream": "stdout",
       "text": [
        "\n",
        "saving debug dump to /home/dmoore/python/sigvisa/logs/mcmc/01626/step_003189..."
       ]
      },
      {
       "output_type": "stream",
       "stream": "stdout",
       "text": [
        "\n",
        "saved pickled graph"
       ]
      },
      {
       "output_type": "stream",
       "stream": "stdout",
       "text": [
        "\n",
        "step 3190: lp -464.23, accepted arrival_time: 0.043%, coda_decay: 0.084%, coda_height: 0.120%, evdepth: 0.088%, evloc: 0.796%, evloc_big: 0.189%, evmb: 0.944%, evtime: 0.410%, indep_peak: 0.003%, peak_decay: 0.354%, peak_offset: 0.176%, , uatemplates: 0 , events: 1 "
       ]
      },
      {
       "output_type": "stream",
       "stream": "stdout",
       "text": [
        "\n",
        "saving debug dump to /home/dmoore/python/sigvisa/logs/mcmc/01626/step_003199..."
       ]
      },
      {
       "output_type": "stream",
       "stream": "stdout",
       "text": [
        "\n",
        "saved pickled graph"
       ]
      },
      {
       "output_type": "stream",
       "stream": "stdout",
       "text": [
        "\n",
        "step 3200: lp -472.64, accepted arrival_time: 0.043%, coda_decay: 0.084%, coda_height: 0.120%, evdepth: 0.088%, evloc: 0.796%, evloc_big: 0.188%, evmb: 0.944%, evtime: 0.410%, indep_peak: 0.003%, peak_decay: 0.355%, peak_offset: 0.176%, , uatemplates: 0 , events: 1 "
       ]
      },
      {
       "output_type": "stream",
       "stream": "stdout",
       "text": [
        "\n",
        "saving debug dump to /home/dmoore/python/sigvisa/logs/mcmc/01626/step_003209..."
       ]
      },
      {
       "output_type": "stream",
       "stream": "stdout",
       "text": [
        "\n",
        "saved pickled graph"
       ]
      },
      {
       "output_type": "stream",
       "stream": "stdout",
       "text": [
        "\n",
        "step 3210: lp -467.93, accepted arrival_time: 0.043%, coda_decay: 0.084%, coda_height: 0.120%, evdepth: 0.088%, evloc: 0.796%, evloc_big: 0.188%, evmb: 0.944%, evtime: 0.410%, indep_peak: 0.003%, peak_decay: 0.355%, peak_offset: 0.176%, , uatemplates: 0 , events: 1 "
       ]
      },
      {
       "output_type": "stream",
       "stream": "stdout",
       "text": [
        "\n",
        "saving debug dump to /home/dmoore/python/sigvisa/logs/mcmc/01626/step_003219..."
       ]
      },
      {
       "output_type": "stream",
       "stream": "stdout",
       "text": [
        "\n",
        "saved pickled graph"
       ]
      },
      {
       "output_type": "stream",
       "stream": "stdout",
       "text": [
        "\n",
        "step 3220: lp -472.75, accepted arrival_time: 0.043%, coda_decay: 0.084%, coda_height: 0.120%, evdepth: 0.087%, evloc: 0.795%, evloc_big: 0.188%, evmb: 0.944%, evtime: 0.409%, indep_peak: 0.003%, peak_decay: 0.355%, peak_offset: 0.176%, , uatemplates: 0 , events: 1 "
       ]
      },
      {
       "output_type": "stream",
       "stream": "stdout",
       "text": [
        "\n",
        "saving debug dump to /home/dmoore/python/sigvisa/logs/mcmc/01626/step_003229..."
       ]
      },
      {
       "output_type": "stream",
       "stream": "stdout",
       "text": [
        "\n",
        "saved pickled graph"
       ]
      },
      {
       "output_type": "stream",
       "stream": "stdout",
       "text": [
        "\n",
        "step 3230: lp -472.17, accepted arrival_time: 0.043%, coda_decay: 0.084%, coda_height: 0.120%, evdepth: 0.087%, evloc: 0.795%, evloc_big: 0.188%, evmb: 0.944%, evtime: 0.410%, indep_peak: 0.003%, peak_decay: 0.355%, peak_offset: 0.176%, , uatemplates: 0 , events: 1 "
       ]
      },
      {
       "output_type": "stream",
       "stream": "stdout",
       "text": [
        "\n",
        "saving debug dump to /home/dmoore/python/sigvisa/logs/mcmc/01626/step_003239..."
       ]
      },
      {
       "output_type": "stream",
       "stream": "stdout",
       "text": [
        "\n",
        "saved pickled graph"
       ]
      },
      {
       "output_type": "stream",
       "stream": "stdout",
       "text": [
        "\n",
        "step 3240: lp -473.13, accepted arrival_time: 0.043%, coda_decay: 0.085%, coda_height: 0.120%, evdepth: 0.087%, evloc: 0.795%, evloc_big: 0.188%, evmb: 0.944%, evtime: 0.410%, indep_peak: 0.003%, peak_decay: 0.355%, peak_offset: 0.176%, , uatemplates: 0 , events: 1 "
       ]
      },
      {
       "output_type": "stream",
       "stream": "stdout",
       "text": [
        "\n",
        "saving debug dump to /home/dmoore/python/sigvisa/logs/mcmc/01626/step_003249..."
       ]
      },
      {
       "output_type": "stream",
       "stream": "stdout",
       "text": [
        "\n",
        "saved pickled graph"
       ]
      },
      {
       "output_type": "stream",
       "stream": "stdout",
       "text": [
        "\n",
        "step 3250: lp -466.67, accepted arrival_time: 0.043%, coda_decay: 0.085%, coda_height: 0.120%, evdepth: 0.086%, evloc: 0.795%, evloc_big: 0.187%, evmb: 0.944%, evtime: 0.411%, indep_peak: 0.003%, peak_decay: 0.356%, peak_offset: 0.176%, , uatemplates: 0 , events: 1 "
       ]
      },
      {
       "output_type": "stream",
       "stream": "stdout",
       "text": [
        "\n",
        "saving debug dump to /home/dmoore/python/sigvisa/logs/mcmc/01626/step_003259..."
       ]
      },
      {
       "output_type": "stream",
       "stream": "stdout",
       "text": [
        "\n",
        "saved pickled graph"
       ]
      },
      {
       "output_type": "stream",
       "stream": "stdout",
       "text": [
        "\n",
        "step 3260: lp -469.98, accepted arrival_time: 0.043%, coda_decay: 0.084%, coda_height: 0.120%, evdepth: 0.087%, evloc: 0.796%, evloc_big: 0.187%, evmb: 0.944%, evtime: 0.410%, indep_peak: 0.003%, peak_decay: 0.356%, peak_offset: 0.176%, , uatemplates: 0 , events: 1 "
       ]
      },
      {
       "output_type": "stream",
       "stream": "stdout",
       "text": [
        "\n",
        "saving debug dump to /home/dmoore/python/sigvisa/logs/mcmc/01626/step_003269..."
       ]
      },
      {
       "output_type": "stream",
       "stream": "stdout",
       "text": [
        "\n",
        "saved pickled graph"
       ]
      },
      {
       "output_type": "stream",
       "stream": "stdout",
       "text": [
        "\n",
        "step 3270: lp -469.72, accepted arrival_time: 0.043%, coda_decay: 0.084%, coda_height: 0.120%, evdepth: 0.087%, evloc: 0.795%, evloc_big: 0.187%, evmb: 0.944%, evtime: 0.410%, indep_peak: 0.003%, peak_decay: 0.356%, peak_offset: 0.176%, , uatemplates: 0 , events: 1 "
       ]
      },
      {
       "output_type": "stream",
       "stream": "stdout",
       "text": [
        "\n",
        "saving debug dump to /home/dmoore/python/sigvisa/logs/mcmc/01626/step_003279..."
       ]
      },
      {
       "output_type": "stream",
       "stream": "stdout",
       "text": [
        "\n",
        "saved pickled graph"
       ]
      },
      {
       "output_type": "stream",
       "stream": "stdout",
       "text": [
        "\n",
        "step 3280: lp -467.90, accepted arrival_time: 0.043%, coda_decay: 0.084%, coda_height: 0.120%, evdepth: 0.087%, evloc: 0.796%, evloc_big: 0.187%, evmb: 0.944%, evtime: 0.410%, indep_peak: 0.003%, peak_decay: 0.356%, peak_offset: 0.176%, , uatemplates: 0 , events: 1 "
       ]
      },
      {
       "output_type": "stream",
       "stream": "stdout",
       "text": [
        "\n",
        "saving debug dump to /home/dmoore/python/sigvisa/logs/mcmc/01626/step_003289..."
       ]
      },
      {
       "output_type": "stream",
       "stream": "stdout",
       "text": [
        "\n",
        "saved pickled graph"
       ]
      },
      {
       "output_type": "stream",
       "stream": "stdout",
       "text": [
        "\n",
        "step 3290: lp -464.29, accepted arrival_time: 0.043%, coda_decay: 0.084%, coda_height: 0.120%, evdepth: 0.087%, evloc: 0.795%, evloc_big: 0.187%, evmb: 0.944%, evtime: 0.410%, indep_peak: 0.003%, peak_decay: 0.357%, peak_offset: 0.176%, , uatemplates: 0 , events: 1 "
       ]
      },
      {
       "output_type": "stream",
       "stream": "stdout",
       "text": [
        "\n",
        "saving debug dump to /home/dmoore/python/sigvisa/logs/mcmc/01626/step_003299..."
       ]
      },
      {
       "output_type": "stream",
       "stream": "stdout",
       "text": [
        "\n",
        "saved pickled graph"
       ]
      },
      {
       "output_type": "stream",
       "stream": "stdout",
       "text": [
        "\n",
        "step 3300: lp -476.69, accepted arrival_time: 0.043%, coda_decay: 0.084%, coda_height: 0.121%, evdepth: 0.088%, evloc: 0.795%, evloc_big: 0.188%, evmb: 0.944%, evtime: 0.410%, indep_peak: 0.003%, peak_decay: 0.357%, peak_offset: 0.176%, , uatemplates: 0 , events: 1 "
       ]
      },
      {
       "output_type": "stream",
       "stream": "stdout",
       "text": [
        "\n",
        "saving debug dump to /home/dmoore/python/sigvisa/logs/mcmc/01626/step_003309..."
       ]
      },
      {
       "output_type": "stream",
       "stream": "stdout",
       "text": [
        "\n",
        "saved pickled graph"
       ]
      },
      {
       "output_type": "stream",
       "stream": "stdout",
       "text": [
        "\n",
        "step 3310: lp -468.33, accepted arrival_time: 0.043%, coda_decay: 0.084%, coda_height: 0.120%, evdepth: 0.087%, evloc: 0.795%, evloc_big: 0.188%, evmb: 0.944%, evtime: 0.411%, indep_peak: 0.003%, peak_decay: 0.357%, peak_offset: 0.176%, , uatemplates: 0 , events: 1 "
       ]
      },
      {
       "output_type": "stream",
       "stream": "stdout",
       "text": [
        "\n",
        "saving debug dump to /home/dmoore/python/sigvisa/logs/mcmc/01626/step_003319..."
       ]
      },
      {
       "output_type": "stream",
       "stream": "stdout",
       "text": [
        "\n",
        "saved pickled graph"
       ]
      },
      {
       "output_type": "stream",
       "stream": "stdout",
       "text": [
        "\n",
        "step 3320: lp -470.33, accepted arrival_time: 0.043%, coda_decay: 0.084%, coda_height: 0.121%, evdepth: 0.087%, evloc: 0.795%, evloc_big: 0.188%, evmb: 0.944%, evtime: 0.411%, indep_peak: 0.003%, peak_decay: 0.357%, peak_offset: 0.176%, , uatemplates: 0 , events: 1 "
       ]
      },
      {
       "output_type": "stream",
       "stream": "stdout",
       "text": [
        "\n",
        "saving debug dump to /home/dmoore/python/sigvisa/logs/mcmc/01626/step_003329..."
       ]
      },
      {
       "output_type": "stream",
       "stream": "stdout",
       "text": [
        "\n",
        "saved pickled graph"
       ]
      },
      {
       "output_type": "stream",
       "stream": "stdout",
       "text": [
        "\n",
        "step 3330: lp -475.46, accepted arrival_time: 0.043%, coda_decay: 0.084%, coda_height: 0.121%, evdepth: 0.087%, evloc: 0.795%, evloc_big: 0.188%, evmb: 0.944%, evtime: 0.411%, indep_peak: 0.003%, peak_decay: 0.357%, peak_offset: 0.176%, , uatemplates: 0 , events: 1 "
       ]
      },
      {
       "output_type": "stream",
       "stream": "stdout",
       "text": [
        "\n",
        "saving debug dump to /home/dmoore/python/sigvisa/logs/mcmc/01626/step_003339..."
       ]
      },
      {
       "output_type": "stream",
       "stream": "stdout",
       "text": [
        "\n",
        "saved pickled graph"
       ]
      },
      {
       "output_type": "stream",
       "stream": "stdout",
       "text": [
        "\n",
        "step 3340: lp -465.62, accepted arrival_time: 0.043%, coda_decay: 0.084%, coda_height: 0.121%, evdepth: 0.087%, evloc: 0.795%, evloc_big: 0.188%, evmb: 0.944%, evtime: 0.411%, indep_peak: 0.003%, peak_decay: 0.357%, peak_offset: 0.175%, , uatemplates: 0 , events: 1 "
       ]
      },
      {
       "output_type": "stream",
       "stream": "stdout",
       "text": [
        "\n",
        "saving debug dump to /home/dmoore/python/sigvisa/logs/mcmc/01626/step_003349..."
       ]
      },
      {
       "output_type": "stream",
       "stream": "stdout",
       "text": [
        "\n",
        "saved pickled graph"
       ]
      },
      {
       "output_type": "stream",
       "stream": "stdout",
       "text": [
        "\n",
        "step 3350: lp -470.07, accepted arrival_time: 0.043%, coda_decay: 0.084%, coda_height: 0.121%, evdepth: 0.087%, evloc: 0.795%, evloc_big: 0.188%, evmb: 0.944%, evtime: 0.410%, indep_peak: 0.003%, peak_decay: 0.357%, peak_offset: 0.175%, , uatemplates: 0 , events: 1 "
       ]
      },
      {
       "output_type": "stream",
       "stream": "stdout",
       "text": [
        "\n",
        "saving debug dump to /home/dmoore/python/sigvisa/logs/mcmc/01626/step_003359..."
       ]
      },
      {
       "output_type": "stream",
       "stream": "stdout",
       "text": [
        "\n",
        "saved pickled graph"
       ]
      },
      {
       "output_type": "stream",
       "stream": "stdout",
       "text": [
        "\n",
        "step 3360: lp -472.53, accepted arrival_time: 0.043%, coda_decay: 0.084%, coda_height: 0.120%, evdepth: 0.086%, evloc: 0.795%, evloc_big: 0.189%, evmb: 0.944%, evtime: 0.410%, indep_peak: 0.003%, peak_decay: 0.358%, peak_offset: 0.175%, , uatemplates: 0 , events: 1 "
       ]
      },
      {
       "output_type": "stream",
       "stream": "stdout",
       "text": [
        "\n",
        "saving debug dump to /home/dmoore/python/sigvisa/logs/mcmc/01626/step_003369..."
       ]
      },
      {
       "output_type": "stream",
       "stream": "stdout",
       "text": [
        "\n",
        "saved pickled graph"
       ]
      },
      {
       "output_type": "stream",
       "stream": "stdout",
       "text": [
        "\n",
        "step 3370: lp -467.07, accepted arrival_time: 0.043%, coda_decay: 0.084%, coda_height: 0.120%, evdepth: 0.086%, evloc: 0.796%, evloc_big: 0.188%, evmb: 0.944%, evtime: 0.410%, indep_peak: 0.003%, peak_decay: 0.358%, peak_offset: 0.175%, , uatemplates: 0 , events: 1 "
       ]
      },
      {
       "output_type": "stream",
       "stream": "stdout",
       "text": [
        "\n",
        "saving debug dump to /home/dmoore/python/sigvisa/logs/mcmc/01626/step_003379..."
       ]
      },
      {
       "output_type": "stream",
       "stream": "stdout",
       "text": [
        "\n",
        "saved pickled graph"
       ]
      },
      {
       "output_type": "stream",
       "stream": "stdout",
       "text": [
        "\n",
        "step 3380: lp -471.25, accepted arrival_time: 0.043%, coda_decay: 0.084%, coda_height: 0.121%, evdepth: 0.087%, evloc: 0.796%, evloc_big: 0.188%, evmb: 0.944%, evtime: 0.411%, indep_peak: 0.003%, peak_decay: 0.358%, peak_offset: 0.175%, , uatemplates: 0 , events: 1 "
       ]
      },
      {
       "output_type": "stream",
       "stream": "stdout",
       "text": [
        "\n",
        "saving debug dump to /home/dmoore/python/sigvisa/logs/mcmc/01626/step_003389..."
       ]
      },
      {
       "output_type": "stream",
       "stream": "stdout",
       "text": [
        "\n",
        "saved pickled graph"
       ]
      },
      {
       "output_type": "stream",
       "stream": "stdout",
       "text": [
        "\n",
        "step 3390: lp -472.87, accepted arrival_time: 0.043%, coda_decay: 0.084%, coda_height: 0.120%, evdepth: 0.087%, evloc: 0.795%, evloc_big: 0.188%, evmb: 0.945%, evtime: 0.411%, indep_peak: 0.003%, peak_decay: 0.358%, peak_offset: 0.175%, , uatemplates: 0 , events: 1 "
       ]
      },
      {
       "output_type": "stream",
       "stream": "stdout",
       "text": [
        "\n",
        "saving debug dump to /home/dmoore/python/sigvisa/logs/mcmc/01626/step_003399..."
       ]
      },
      {
       "output_type": "stream",
       "stream": "stdout",
       "text": [
        "\n",
        "saved pickled graph"
       ]
      },
      {
       "output_type": "stream",
       "stream": "stdout",
       "text": [
        "\n",
        "step 3400: lp -468.09, accepted arrival_time: 0.043%, coda_decay: 0.084%, coda_height: 0.120%, evdepth: 0.087%, evloc: 0.794%, evloc_big: 0.188%, evmb: 0.945%, evtime: 0.411%, indep_peak: 0.003%, peak_decay: 0.358%, peak_offset: 0.175%, , uatemplates: 0 , events: 1 "
       ]
      },
      {
       "output_type": "stream",
       "stream": "stdout",
       "text": [
        "\n",
        "saving debug dump to /home/dmoore/python/sigvisa/logs/mcmc/01626/step_003409..."
       ]
      },
      {
       "output_type": "stream",
       "stream": "stdout",
       "text": [
        "\n",
        "saved pickled graph"
       ]
      },
      {
       "output_type": "stream",
       "stream": "stdout",
       "text": [
        "\n",
        "step 3410: lp -418.21, accepted arrival_time: 0.043%, coda_decay: 0.084%, coda_height: 0.120%, evdepth: 0.087%, evloc: 0.795%, evloc_big: 0.189%, evmb: 0.945%, evtime: 0.410%, indep_peak: 0.003%, peak_decay: 0.358%, peak_offset: 0.175%, , uatemplates: 0 , events: 1 "
       ]
      },
      {
       "output_type": "stream",
       "stream": "stdout",
       "text": [
        "\n",
        "saving debug dump to /home/dmoore/python/sigvisa/logs/mcmc/01626/step_003419..."
       ]
      },
      {
       "output_type": "stream",
       "stream": "stdout",
       "text": [
        "\n",
        "saved pickled graph"
       ]
      },
      {
       "output_type": "stream",
       "stream": "stdout",
       "text": [
        "\n",
        "step 3420: lp -381.82, accepted arrival_time: 0.043%, coda_decay: 0.084%, coda_height: 0.120%, evdepth: 0.088%, evloc: 0.793%, evloc_big: 0.188%, evmb: 0.945%, evtime: 0.411%, indep_peak: 0.003%, peak_decay: 0.358%, peak_offset: 0.175%, , uatemplates: 0 , events: 1 "
       ]
      },
      {
       "output_type": "stream",
       "stream": "stdout",
       "text": [
        "\n",
        "saving debug dump to /home/dmoore/python/sigvisa/logs/mcmc/01626/step_003429..."
       ]
      },
      {
       "output_type": "stream",
       "stream": "stdout",
       "text": [
        "\n",
        "saved pickled graph"
       ]
      },
      {
       "output_type": "stream",
       "stream": "stdout",
       "text": [
        "\n",
        "step 3430: lp -365.31, accepted arrival_time: 0.043%, coda_decay: 0.084%, coda_height: 0.120%, evdepth: 0.089%, evloc: 0.792%, evloc_big: 0.187%, evmb: 0.945%, evtime: 0.411%, indep_peak: 0.003%, peak_decay: 0.358%, peak_offset: 0.175%, , uatemplates: 0 , events: 1 "
       ]
      },
      {
       "output_type": "stream",
       "stream": "stdout",
       "text": [
        "\n",
        "saving debug dump to /home/dmoore/python/sigvisa/logs/mcmc/01626/step_003439..."
       ]
      },
      {
       "output_type": "stream",
       "stream": "stdout",
       "text": [
        "\n",
        "saved pickled graph"
       ]
      },
      {
       "output_type": "stream",
       "stream": "stdout",
       "text": [
        "\n",
        "step 3440: lp -361.55, accepted arrival_time: 0.043%, coda_decay: 0.084%, coda_height: 0.120%, evdepth: 0.089%, evloc: 0.790%, evloc_big: 0.187%, evmb: 0.945%, evtime: 0.412%, indep_peak: 0.003%, peak_decay: 0.358%, peak_offset: 0.175%, , uatemplates: 0 , events: 1 "
       ]
      },
      {
       "output_type": "stream",
       "stream": "stdout",
       "text": [
        "\n",
        "saving debug dump to /home/dmoore/python/sigvisa/logs/mcmc/01626/step_003449..."
       ]
      },
      {
       "output_type": "stream",
       "stream": "stdout",
       "text": [
        "\n",
        "saved pickled graph"
       ]
      },
      {
       "output_type": "stream",
       "stream": "stdout",
       "text": [
        "\n",
        "step 3450: lp -362.09, accepted arrival_time: 0.043%, coda_decay: 0.084%, coda_height: 0.120%, evdepth: 0.090%, evloc: 0.788%, evloc_big: 0.186%, evmb: 0.945%, evtime: 0.411%, indep_peak: 0.003%, peak_decay: 0.358%, peak_offset: 0.175%, , uatemplates: 0 , events: 1 "
       ]
      },
      {
       "output_type": "stream",
       "stream": "stdout",
       "text": [
        "\n",
        "saving debug dump to /home/dmoore/python/sigvisa/logs/mcmc/01626/step_003459..."
       ]
      },
      {
       "output_type": "stream",
       "stream": "stdout",
       "text": [
        "\n",
        "saved pickled graph"
       ]
      },
      {
       "output_type": "stream",
       "stream": "stdout",
       "text": [
        "\n",
        "step 3460: lp -362.80, accepted arrival_time: 0.043%, coda_decay: 0.084%, coda_height: 0.120%, evdepth: 0.092%, evloc: 0.786%, evloc_big: 0.186%, evmb: 0.945%, evtime: 0.411%, indep_peak: 0.003%, peak_decay: 0.358%, peak_offset: 0.175%, , uatemplates: 0 , events: 1 "
       ]
      },
      {
       "output_type": "stream",
       "stream": "stdout",
       "text": [
        "\n",
        "saving debug dump to /home/dmoore/python/sigvisa/logs/mcmc/01626/step_003469..."
       ]
      },
      {
       "output_type": "stream",
       "stream": "stdout",
       "text": [
        "\n",
        "saved pickled graph"
       ]
      },
      {
       "output_type": "stream",
       "stream": "stdout",
       "text": [
        "\n",
        "step 3470: lp -356.90, accepted arrival_time: 0.043%, coda_decay: 0.084%, coda_height: 0.120%, evdepth: 0.094%, evloc: 0.784%, evloc_big: 0.186%, evmb: 0.945%, evtime: 0.411%, indep_peak: 0.003%, peak_decay: 0.358%, peak_offset: 0.174%, , uatemplates: 0 , events: 1 "
       ]
      },
      {
       "output_type": "stream",
       "stream": "stdout",
       "text": [
        "\n",
        "saving debug dump to /home/dmoore/python/sigvisa/logs/mcmc/01626/step_003479..."
       ]
      },
      {
       "output_type": "stream",
       "stream": "stdout",
       "text": [
        "\n",
        "saved pickled graph"
       ]
      },
      {
       "output_type": "stream",
       "stream": "stdout",
       "text": [
        "\n",
        "step 3480: lp -360.68, accepted arrival_time: 0.043%, coda_decay: 0.083%, coda_height: 0.120%, evdepth: 0.094%, evloc: 0.782%, evloc_big: 0.185%, evmb: 0.945%, evtime: 0.411%, indep_peak: 0.003%, peak_decay: 0.358%, peak_offset: 0.174%, , uatemplates: 0 , events: 1 "
       ]
      },
      {
       "output_type": "stream",
       "stream": "stdout",
       "text": [
        "\n",
        "saving debug dump to /home/dmoore/python/sigvisa/logs/mcmc/01626/step_003489..."
       ]
      },
      {
       "output_type": "stream",
       "stream": "stdout",
       "text": [
        "\n",
        "saved pickled graph"
       ]
      },
      {
       "output_type": "stream",
       "stream": "stdout",
       "text": [
        "\n",
        "step 3490: lp -361.56, accepted arrival_time: 0.043%, coda_decay: 0.083%, coda_height: 0.120%, evdepth: 0.095%, evloc: 0.780%, evloc_big: 0.184%, evmb: 0.946%, evtime: 0.411%, indep_peak: 0.003%, peak_decay: 0.358%, peak_offset: 0.174%, , uatemplates: 0 , events: 1 "
       ]
      },
      {
       "output_type": "stream",
       "stream": "stdout",
       "text": [
        "\n",
        "saving debug dump to /home/dmoore/python/sigvisa/logs/mcmc/01626/step_003499..."
       ]
      },
      {
       "output_type": "stream",
       "stream": "stdout",
       "text": [
        "\n",
        "saved pickled graph"
       ]
      },
      {
       "output_type": "stream",
       "stream": "stdout",
       "text": [
        "\n",
        "step 3500: lp -359.93, accepted arrival_time: 0.043%, coda_decay: 0.083%, coda_height: 0.120%, evdepth: 0.097%, evloc: 0.777%, evloc_big: 0.184%, evmb: 0.946%, evtime: 0.411%, indep_peak: 0.003%, peak_decay: 0.358%, peak_offset: 0.174%, , uatemplates: 0 , events: 1 "
       ]
      },
      {
       "output_type": "stream",
       "stream": "stdout",
       "text": [
        "\n",
        "saving debug dump to /home/dmoore/python/sigvisa/logs/mcmc/01626/step_003509..."
       ]
      },
      {
       "output_type": "stream",
       "stream": "stdout",
       "text": [
        "\n",
        "saved pickled graph"
       ]
      },
      {
       "output_type": "stream",
       "stream": "stdout",
       "text": [
        "\n",
        "step 3510: lp -358.19, accepted arrival_time: 0.043%, coda_decay: 0.083%, coda_height: 0.119%, evdepth: 0.098%, evloc: 0.776%, evloc_big: 0.183%, evmb: 0.946%, evtime: 0.411%, indep_peak: 0.003%, peak_decay: 0.358%, peak_offset: 0.174%, , uatemplates: 0 , events: 1 "
       ]
      },
      {
       "output_type": "stream",
       "stream": "stdout",
       "text": [
        "\n",
        "saving debug dump to /home/dmoore/python/sigvisa/logs/mcmc/01626/step_003519..."
       ]
      },
      {
       "output_type": "stream",
       "stream": "stdout",
       "text": [
        "\n",
        "saved pickled graph"
       ]
      },
      {
       "output_type": "stream",
       "stream": "stdout",
       "text": [
        "\n",
        "step 3520: lp -358.43, accepted arrival_time: 0.043%, coda_decay: 0.083%, coda_height: 0.119%, evdepth: 0.099%, evloc: 0.773%, evloc_big: 0.183%, evmb: 0.946%, evtime: 0.411%, indep_peak: 0.003%, peak_decay: 0.358%, peak_offset: 0.174%, , uatemplates: 0 , events: 1 "
       ]
      },
      {
       "output_type": "stream",
       "stream": "stdout",
       "text": [
        "\n",
        "saving debug dump to /home/dmoore/python/sigvisa/logs/mcmc/01626/step_003529..."
       ]
      },
      {
       "output_type": "stream",
       "stream": "stdout",
       "text": [
        "\n",
        "saved pickled graph"
       ]
      },
      {
       "output_type": "stream",
       "stream": "stdout",
       "text": [
        "\n",
        "step 3530: lp -358.54, accepted arrival_time: 0.043%, coda_decay: 0.083%, coda_height: 0.119%, evdepth: 0.101%, evloc: 0.771%, evloc_big: 0.182%, evmb: 0.946%, evtime: 0.411%, indep_peak: 0.003%, peak_decay: 0.358%, peak_offset: 0.174%, , uatemplates: 0 , events: 1 "
       ]
      },
      {
       "output_type": "stream",
       "stream": "stdout",
       "text": [
        "\n",
        "saving debug dump to /home/dmoore/python/sigvisa/logs/mcmc/01626/step_003539..."
       ]
      },
      {
       "output_type": "stream",
       "stream": "stdout",
       "text": [
        "\n",
        "saved pickled graph"
       ]
      },
      {
       "output_type": "stream",
       "stream": "stdout",
       "text": [
        "\n",
        "step 3540: lp -355.67, accepted arrival_time: 0.043%, coda_decay: 0.083%, coda_height: 0.119%, evdepth: 0.103%, evloc: 0.769%, evloc_big: 0.182%, evmb: 0.946%, evtime: 0.410%, indep_peak: 0.003%, peak_decay: 0.358%, peak_offset: 0.173%, , uatemplates: 0 , events: 1 "
       ]
      },
      {
       "output_type": "stream",
       "stream": "stdout",
       "text": [
        "\n",
        "saving debug dump to /home/dmoore/python/sigvisa/logs/mcmc/01626/step_003549..."
       ]
      },
      {
       "output_type": "stream",
       "stream": "stdout",
       "text": [
        "\n",
        "saved pickled graph"
       ]
      },
      {
       "output_type": "stream",
       "stream": "stdout",
       "text": [
        "\n",
        "step 3550: lp -360.43, accepted arrival_time: 0.043%, coda_decay: 0.083%, coda_height: 0.119%, evdepth: 0.104%, evloc: 0.767%, evloc_big: 0.181%, evmb: 0.946%, evtime: 0.410%, indep_peak: 0.003%, peak_decay: 0.358%, peak_offset: 0.173%, , uatemplates: 0 , events: 1 "
       ]
      },
      {
       "output_type": "stream",
       "stream": "stdout",
       "text": [
        "\n",
        "saving debug dump to /home/dmoore/python/sigvisa/logs/mcmc/01626/step_003559..."
       ]
      },
      {
       "output_type": "stream",
       "stream": "stdout",
       "text": [
        "\n",
        "saved pickled graph"
       ]
      },
      {
       "output_type": "stream",
       "stream": "stdout",
       "text": [
        "\n",
        "step 3560: lp -359.05, accepted arrival_time: 0.043%, coda_decay: 0.083%, coda_height: 0.119%, evdepth: 0.105%, evloc: 0.765%, evloc_big: 0.181%, evmb: 0.946%, evtime: 0.411%, indep_peak: 0.003%, peak_decay: 0.358%, peak_offset: 0.173%, , uatemplates: 0 , events: 1 "
       ]
      },
      {
       "output_type": "stream",
       "stream": "stdout",
       "text": [
        "\n",
        "saving debug dump to /home/dmoore/python/sigvisa/logs/mcmc/01626/step_003569..."
       ]
      },
      {
       "output_type": "stream",
       "stream": "stdout",
       "text": [
        "\n",
        "saved pickled graph"
       ]
      },
      {
       "output_type": "stream",
       "stream": "stdout",
       "text": [
        "\n",
        "step 3570: lp -353.35, accepted arrival_time: 0.043%, coda_decay: 0.083%, coda_height: 0.119%, evdepth: 0.106%, evloc: 0.763%, evloc_big: 0.180%, evmb: 0.945%, evtime: 0.410%, indep_peak: 0.003%, peak_decay: 0.358%, peak_offset: 0.173%, , uatemplates: 0 , events: 1 "
       ]
      },
      {
       "output_type": "stream",
       "stream": "stdout",
       "text": [
        "\n",
        "saving debug dump to /home/dmoore/python/sigvisa/logs/mcmc/01626/step_003579..."
       ]
      },
      {
       "output_type": "stream",
       "stream": "stdout",
       "text": [
        "\n",
        "saved pickled graph"
       ]
      },
      {
       "output_type": "stream",
       "stream": "stdout",
       "text": [
        "\n",
        "step 3580: lp -357.34, accepted arrival_time: 0.043%, coda_decay: 0.083%, coda_height: 0.119%, evdepth: 0.108%, evloc: 0.761%, evloc_big: 0.180%, evmb: 0.946%, evtime: 0.411%, indep_peak: 0.003%, peak_decay: 0.358%, peak_offset: 0.173%, , uatemplates: 0 , events: 1 "
       ]
      },
      {
       "output_type": "stream",
       "stream": "stdout",
       "text": [
        "\n",
        "saving debug dump to /home/dmoore/python/sigvisa/logs/mcmc/01626/step_003589..."
       ]
      },
      {
       "output_type": "stream",
       "stream": "stdout",
       "text": [
        "\n",
        "saved pickled graph"
       ]
      },
      {
       "output_type": "stream",
       "stream": "stdout",
       "text": [
        "\n",
        "step 3590: lp -359.64, accepted arrival_time: 0.043%, coda_decay: 0.083%, coda_height: 0.119%, evdepth: 0.109%, evloc: 0.759%, evloc_big: 0.180%, evmb: 0.945%, evtime: 0.411%, indep_peak: 0.003%, peak_decay: 0.358%, peak_offset: 0.173%, , uatemplates: 0 , events: 1 "
       ]
      },
      {
       "output_type": "stream",
       "stream": "stdout",
       "text": [
        "\n",
        "saving debug dump to /home/dmoore/python/sigvisa/logs/mcmc/01626/step_003599..."
       ]
      },
      {
       "output_type": "stream",
       "stream": "stdout",
       "text": [
        "\n",
        "saved pickled graph"
       ]
      },
      {
       "output_type": "stream",
       "stream": "stdout",
       "text": [
        "\n",
        "step 3600: lp -353.65, accepted arrival_time: 0.043%, coda_decay: 0.082%, coda_height: 0.119%, evdepth: 0.110%, evloc: 0.757%, evloc_big: 0.179%, evmb: 0.945%, evtime: 0.411%, indep_peak: 0.003%, peak_decay: 0.357%, peak_offset: 0.173%, , uatemplates: 0 , events: 1 "
       ]
      },
      {
       "output_type": "stream",
       "stream": "stdout",
       "text": [
        "\n",
        "saving debug dump to /home/dmoore/python/sigvisa/logs/mcmc/01626/step_003609..."
       ]
      },
      {
       "output_type": "stream",
       "stream": "stdout",
       "text": [
        "\n",
        "saved pickled graph"
       ]
      },
      {
       "output_type": "stream",
       "stream": "stdout",
       "text": [
        "\n",
        "step 3610: lp -352.24, accepted arrival_time: 0.043%, coda_decay: 0.082%, coda_height: 0.119%, evdepth: 0.111%, evloc: 0.755%, evloc_big: 0.179%, evmb: 0.945%, evtime: 0.411%, indep_peak: 0.003%, peak_decay: 0.357%, peak_offset: 0.173%, , uatemplates: 0 , events: 1 "
       ]
      },
      {
       "output_type": "stream",
       "stream": "stdout",
       "text": [
        "\n",
        "saving debug dump to /home/dmoore/python/sigvisa/logs/mcmc/01626/step_003619..."
       ]
      },
      {
       "output_type": "stream",
       "stream": "stdout",
       "text": [
        "\n",
        "saved pickled graph"
       ]
      },
      {
       "output_type": "stream",
       "stream": "stdout",
       "text": [
        "\n",
        "step 3620: lp -351.19, accepted arrival_time: 0.043%, coda_decay: 0.083%, coda_height: 0.118%, evdepth: 0.111%, evloc: 0.753%, evloc_big: 0.179%, evmb: 0.946%, evtime: 0.411%, indep_peak: 0.003%, peak_decay: 0.357%, peak_offset: 0.173%, , uatemplates: 0 , events: 1 "
       ]
      },
      {
       "output_type": "stream",
       "stream": "stdout",
       "text": [
        "\n",
        "saving debug dump to /home/dmoore/python/sigvisa/logs/mcmc/01626/step_003629..."
       ]
      },
      {
       "output_type": "stream",
       "stream": "stdout",
       "text": [
        "\n",
        "saved pickled graph"
       ]
      },
      {
       "output_type": "stream",
       "stream": "stdout",
       "text": [
        "\n",
        "step 3630: lp -354.70, accepted arrival_time: 0.043%, coda_decay: 0.082%, coda_height: 0.118%, evdepth: 0.113%, evloc: 0.751%, evloc_big: 0.178%, evmb: 0.945%, evtime: 0.410%, indep_peak: 0.003%, peak_decay: 0.357%, peak_offset: 0.173%, , uatemplates: 0 , events: 1 "
       ]
      },
      {
       "output_type": "stream",
       "stream": "stdout",
       "text": [
        "\n",
        "saving debug dump to /home/dmoore/python/sigvisa/logs/mcmc/01626/step_003639..."
       ]
      },
      {
       "output_type": "stream",
       "stream": "stdout",
       "text": [
        "\n",
        "saved pickled graph"
       ]
      },
      {
       "output_type": "stream",
       "stream": "stdout",
       "text": [
        "\n",
        "step 3640: lp -353.35, accepted arrival_time: 0.043%, coda_decay: 0.083%, coda_height: 0.118%, evdepth: 0.114%, evloc: 0.750%, evloc_big: 0.178%, evmb: 0.945%, evtime: 0.410%, indep_peak: 0.003%, peak_decay: 0.357%, peak_offset: 0.172%, , uatemplates: 0 , events: 1 "
       ]
      },
      {
       "output_type": "stream",
       "stream": "stdout",
       "text": [
        "\n",
        "saving debug dump to /home/dmoore/python/sigvisa/logs/mcmc/01626/step_003649..."
       ]
      },
      {
       "output_type": "stream",
       "stream": "stdout",
       "text": [
        "\n",
        "saved pickled graph"
       ]
      },
      {
       "output_type": "stream",
       "stream": "stdout",
       "text": [
        "\n",
        "step 3650: lp -354.22, accepted arrival_time: 0.043%, coda_decay: 0.082%, coda_height: 0.118%, evdepth: 0.115%, evloc: 0.747%, evloc_big: 0.177%, evmb: 0.945%, evtime: 0.410%, indep_peak: 0.003%, peak_decay: 0.357%, peak_offset: 0.172%, , uatemplates: 0 , events: 1 "
       ]
      },
      {
       "output_type": "stream",
       "stream": "stdout",
       "text": [
        "\n",
        "saving debug dump to /home/dmoore/python/sigvisa/logs/mcmc/01626/step_003659..."
       ]
      },
      {
       "output_type": "stream",
       "stream": "stdout",
       "text": [
        "\n",
        "saved pickled graph"
       ]
      },
      {
       "output_type": "stream",
       "stream": "stdout",
       "text": [
        "\n",
        "step 3660: lp -360.06, accepted arrival_time: 0.042%, coda_decay: 0.082%, coda_height: 0.117%, evdepth: 0.116%, evloc: 0.745%, evloc_big: 0.177%, evmb: 0.945%, evtime: 0.409%, indep_peak: 0.003%, peak_decay: 0.356%, peak_offset: 0.172%, , uatemplates: 0 , events: 1 "
       ]
      },
      {
       "output_type": "stream",
       "stream": "stdout",
       "text": [
        "\n",
        "saving debug dump to /home/dmoore/python/sigvisa/logs/mcmc/01626/step_003669..."
       ]
      },
      {
       "output_type": "stream",
       "stream": "stdout",
       "text": [
        "\n",
        "saved pickled graph"
       ]
      },
      {
       "output_type": "stream",
       "stream": "stdout",
       "text": [
        "\n",
        "step 3670: lp -353.64, accepted arrival_time: 0.042%, coda_decay: 0.082%, coda_height: 0.117%, evdepth: 0.117%, evloc: 0.744%, evloc_big: 0.176%, evmb: 0.945%, evtime: 0.409%, indep_peak: 0.003%, peak_decay: 0.356%, peak_offset: 0.172%, , uatemplates: 0 , events: 1 "
       ]
      },
      {
       "output_type": "stream",
       "stream": "stdout",
       "text": [
        "\n",
        "saving debug dump to /home/dmoore/python/sigvisa/logs/mcmc/01626/step_003679..."
       ]
      },
      {
       "output_type": "stream",
       "stream": "stdout",
       "text": [
        "\n",
        "saved pickled graph"
       ]
      },
      {
       "output_type": "stream",
       "stream": "stdout",
       "text": [
        "\n",
        "step 3680: lp -357.49, accepted arrival_time: 0.042%, coda_decay: 0.082%, coda_height: 0.117%, evdepth: 0.119%, evloc: 0.742%, evloc_big: 0.176%, evmb: 0.945%, evtime: 0.408%, indep_peak: 0.003%, peak_decay: 0.356%, peak_offset: 0.172%, , uatemplates: 0 , events: 1 "
       ]
      },
      {
       "output_type": "stream",
       "stream": "stdout",
       "text": [
        "\n",
        "saving debug dump to /home/dmoore/python/sigvisa/logs/mcmc/01626/step_003689..."
       ]
      },
      {
       "output_type": "stream",
       "stream": "stdout",
       "text": [
        "\n",
        "saved pickled graph"
       ]
      },
      {
       "output_type": "stream",
       "stream": "stdout",
       "text": [
        "\n",
        "step 3690: lp -363.02, accepted arrival_time: 0.042%, coda_decay: 0.082%, coda_height: 0.117%, evdepth: 0.120%, evloc: 0.740%, evloc_big: 0.175%, evmb: 0.945%, evtime: 0.408%, indep_peak: 0.003%, peak_decay: 0.356%, peak_offset: 0.172%, , uatemplates: 0 , events: 1 "
       ]
      },
      {
       "output_type": "stream",
       "stream": "stdout",
       "text": [
        "\n",
        "saving debug dump to /home/dmoore/python/sigvisa/logs/mcmc/01626/step_003699..."
       ]
      },
      {
       "output_type": "stream",
       "stream": "stdout",
       "text": [
        "\n",
        "saved pickled graph"
       ]
      },
      {
       "output_type": "stream",
       "stream": "stdout",
       "text": [
        "\n",
        "step 3700: lp -352.31, accepted arrival_time: 0.042%, coda_decay: 0.082%, coda_height: 0.117%, evdepth: 0.121%, evloc: 0.738%, evloc_big: 0.175%, evmb: 0.945%, evtime: 0.408%, indep_peak: 0.003%, peak_decay: 0.356%, peak_offset: 0.172%, , uatemplates: 0 , events: 1 "
       ]
      },
      {
       "output_type": "stream",
       "stream": "stdout",
       "text": [
        "\n",
        "saving debug dump to /home/dmoore/python/sigvisa/logs/mcmc/01626/step_003709..."
       ]
      },
      {
       "output_type": "stream",
       "stream": "stdout",
       "text": [
        "\n",
        "saved pickled graph"
       ]
      },
      {
       "output_type": "stream",
       "stream": "stdout",
       "text": [
        "\n",
        "step 3710: lp -348.70, accepted arrival_time: 0.042%, coda_decay: 0.082%, coda_height: 0.117%, evdepth: 0.121%, evloc: 0.736%, evloc_big: 0.174%, evmb: 0.945%, evtime: 0.408%, indep_peak: 0.003%, peak_decay: 0.355%, peak_offset: 0.172%, , uatemplates: 0 , events: 1 "
       ]
      },
      {
       "output_type": "stream",
       "stream": "stdout",
       "text": [
        "\n",
        "saving debug dump to /home/dmoore/python/sigvisa/logs/mcmc/01626/step_003719..."
       ]
      },
      {
       "output_type": "stream",
       "stream": "stdout",
       "text": [
        "\n",
        "saved pickled graph"
       ]
      },
      {
       "output_type": "stream",
       "stream": "stdout",
       "text": [
        "\n",
        "step 3720: lp -351.84, accepted arrival_time: 0.042%, coda_decay: 0.082%, coda_height: 0.117%, evdepth: 0.123%, evloc: 0.734%, evloc_big: 0.174%, evmb: 0.945%, evtime: 0.408%, indep_peak: 0.003%, peak_decay: 0.355%, peak_offset: 0.172%, , uatemplates: 0 , events: 1 "
       ]
      },
      {
       "output_type": "stream",
       "stream": "stdout",
       "text": [
        "\n",
        "saving debug dump to /home/dmoore/python/sigvisa/logs/mcmc/01626/step_003729..."
       ]
      },
      {
       "output_type": "stream",
       "stream": "stdout",
       "text": [
        "\n",
        "saved pickled graph"
       ]
      },
      {
       "output_type": "stream",
       "stream": "stdout",
       "text": [
        "\n",
        "step 3730: lp -351.64, accepted arrival_time: 0.043%, coda_decay: 0.082%, coda_height: 0.117%, evdepth: 0.124%, evloc: 0.733%, evloc_big: 0.173%, evmb: 0.946%, evtime: 0.407%, indep_peak: 0.003%, peak_decay: 0.355%, peak_offset: 0.172%, , uatemplates: 0 , events: 1 "
       ]
      },
      {
       "output_type": "stream",
       "stream": "stdout",
       "text": [
        "\n",
        "saving debug dump to /home/dmoore/python/sigvisa/logs/mcmc/01626/step_003739..."
       ]
      },
      {
       "output_type": "stream",
       "stream": "stdout",
       "text": [
        "\n",
        "saved pickled graph"
       ]
      },
      {
       "output_type": "stream",
       "stream": "stdout",
       "text": [
        "\n",
        "step 3740: lp -355.47, accepted arrival_time: 0.043%, coda_decay: 0.082%, coda_height: 0.117%, evdepth: 0.125%, evloc: 0.731%, evloc_big: 0.173%, evmb: 0.946%, evtime: 0.407%, indep_peak: 0.003%, peak_decay: 0.355%, peak_offset: 0.172%, , uatemplates: 0 , events: 1 "
       ]
      },
      {
       "output_type": "stream",
       "stream": "stdout",
       "text": [
        "\n",
        "saving debug dump to /home/dmoore/python/sigvisa/logs/mcmc/01626/step_003749..."
       ]
      },
      {
       "output_type": "stream",
       "stream": "stdout",
       "text": [
        "\n",
        "saved pickled graph"
       ]
      },
      {
       "output_type": "stream",
       "stream": "stdout",
       "text": [
        "\n",
        "step 3750: lp -355.87, accepted arrival_time: 0.043%, coda_decay: 0.082%, coda_height: 0.116%, evdepth: 0.126%, evloc: 0.729%, evloc_big: 0.172%, evmb: 0.946%, evtime: 0.407%, indep_peak: 0.003%, peak_decay: 0.355%, peak_offset: 0.172%, , uatemplates: 0 , events: 1 "
       ]
      },
      {
       "output_type": "stream",
       "stream": "stdout",
       "text": [
        "\n",
        "saving debug dump to /home/dmoore/python/sigvisa/logs/mcmc/01626/step_003759..."
       ]
      },
      {
       "output_type": "stream",
       "stream": "stdout",
       "text": [
        "\n",
        "saved pickled graph"
       ]
      },
      {
       "output_type": "stream",
       "stream": "stdout",
       "text": [
        "\n",
        "step 3760: lp -350.35, accepted arrival_time: 0.043%, coda_decay: 0.082%, coda_height: 0.116%, evdepth: 0.127%, evloc: 0.727%, evloc_big: 0.172%, evmb: 0.946%, evtime: 0.408%, indep_peak: 0.003%, peak_decay: 0.354%, peak_offset: 0.172%, , uatemplates: 0 , events: 1 "
       ]
      },
      {
       "output_type": "stream",
       "stream": "stdout",
       "text": [
        "\n",
        "saving debug dump to /home/dmoore/python/sigvisa/logs/mcmc/01626/step_003769..."
       ]
      },
      {
       "output_type": "stream",
       "stream": "stdout",
       "text": [
        "\n",
        "saved pickled graph"
       ]
      },
      {
       "output_type": "stream",
       "stream": "stdout",
       "text": [
        "\n",
        "step 3770: lp -359.73, accepted arrival_time: 0.043%, coda_decay: 0.082%, coda_height: 0.116%, evdepth: 0.128%, evloc: 0.725%, evloc_big: 0.172%, evmb: 0.946%, evtime: 0.408%, indep_peak: 0.003%, peak_decay: 0.354%, peak_offset: 0.172%, , uatemplates: 0 , events: 1 "
       ]
      },
      {
       "output_type": "stream",
       "stream": "stdout",
       "text": [
        "\n",
        "saving debug dump to /home/dmoore/python/sigvisa/logs/mcmc/01626/step_003779..."
       ]
      },
      {
       "output_type": "stream",
       "stream": "stdout",
       "text": [
        "\n",
        "saved pickled graph"
       ]
      },
      {
       "output_type": "stream",
       "stream": "stdout",
       "text": [
        "\n",
        "step 3780: lp -360.54, accepted arrival_time: 0.043%, coda_decay: 0.082%, coda_height: 0.116%, evdepth: 0.129%, evloc: 0.724%, evloc_big: 0.171%, evmb: 0.946%, evtime: 0.408%, indep_peak: 0.003%, peak_decay: 0.354%, peak_offset: 0.171%, , uatemplates: 0 , events: 1 "
       ]
      },
      {
       "output_type": "stream",
       "stream": "stdout",
       "text": [
        "\n",
        "saving debug dump to /home/dmoore/python/sigvisa/logs/mcmc/01626/step_003789..."
       ]
      },
      {
       "output_type": "stream",
       "stream": "stdout",
       "text": [
        "\n",
        "saved pickled graph"
       ]
      },
      {
       "output_type": "stream",
       "stream": "stdout",
       "text": [
        "\n",
        "step 3790: lp -356.41, accepted arrival_time: 0.043%, coda_decay: 0.082%, coda_height: 0.116%, evdepth: 0.130%, evloc: 0.722%, evloc_big: 0.171%, evmb: 0.946%, evtime: 0.408%, indep_peak: 0.003%, peak_decay: 0.354%, peak_offset: 0.172%, , uatemplates: 0 , events: 1 "
       ]
      },
      {
       "output_type": "stream",
       "stream": "stdout",
       "text": [
        "\n",
        "saving debug dump to /home/dmoore/python/sigvisa/logs/mcmc/01626/step_003799..."
       ]
      },
      {
       "output_type": "stream",
       "stream": "stdout",
       "text": [
        "\n",
        "saved pickled graph"
       ]
      },
      {
       "output_type": "stream",
       "stream": "stdout",
       "text": [
        "\n",
        "step 3800: lp -355.50, accepted arrival_time: 0.042%, coda_decay: 0.081%, coda_height: 0.116%, evdepth: 0.131%, evloc: 0.720%, evloc_big: 0.170%, evmb: 0.946%, evtime: 0.408%, indep_peak: 0.003%, peak_decay: 0.354%, peak_offset: 0.171%, , uatemplates: 0 , events: 1 "
       ]
      },
      {
       "output_type": "stream",
       "stream": "stdout",
       "text": [
        "\n",
        "saving debug dump to /home/dmoore/python/sigvisa/logs/mcmc/01626/step_003809..."
       ]
      },
      {
       "output_type": "stream",
       "stream": "stdout",
       "text": [
        "\n",
        "saved pickled graph"
       ]
      },
      {
       "output_type": "stream",
       "stream": "stdout",
       "text": [
        "\n",
        "step 3810: lp -352.11, accepted arrival_time: 0.042%, coda_decay: 0.081%, coda_height: 0.115%, evdepth: 0.133%, evloc: 0.719%, evloc_big: 0.170%, evmb: 0.946%, evtime: 0.408%, indep_peak: 0.003%, peak_decay: 0.354%, peak_offset: 0.171%, , uatemplates: 0 , events: 1 "
       ]
      },
      {
       "output_type": "stream",
       "stream": "stdout",
       "text": [
        "\n",
        "saving debug dump to /home/dmoore/python/sigvisa/logs/mcmc/01626/step_003819..."
       ]
      },
      {
       "output_type": "stream",
       "stream": "stdout",
       "text": [
        "\n",
        "saved pickled graph"
       ]
      },
      {
       "output_type": "stream",
       "stream": "stdout",
       "text": [
        "\n",
        "step 3820: lp -356.94, accepted arrival_time: 0.042%, coda_decay: 0.081%, coda_height: 0.115%, evdepth: 0.133%, evloc: 0.717%, evloc_big: 0.169%, evmb: 0.946%, evtime: 0.408%, indep_peak: 0.003%, peak_decay: 0.354%, peak_offset: 0.171%, , uatemplates: 0 , events: 1 "
       ]
      },
      {
       "output_type": "stream",
       "stream": "stdout",
       "text": [
        "\n",
        "saving debug dump to /home/dmoore/python/sigvisa/logs/mcmc/01626/step_003829..."
       ]
      },
      {
       "output_type": "stream",
       "stream": "stdout",
       "text": [
        "\n",
        "saved pickled graph"
       ]
      },
      {
       "output_type": "stream",
       "stream": "stdout",
       "text": [
        "\n",
        "step 3830: lp -362.95, accepted arrival_time: 0.042%, coda_decay: 0.081%, coda_height: 0.115%, evdepth: 0.134%, evloc: 0.716%, evloc_big: 0.169%, evmb: 0.946%, evtime: 0.409%, indep_peak: 0.003%, peak_decay: 0.354%, peak_offset: 0.171%, , uatemplates: 0 , events: 1 "
       ]
      },
      {
       "output_type": "stream",
       "stream": "stdout",
       "text": [
        "\n",
        "saving debug dump to /home/dmoore/python/sigvisa/logs/mcmc/01626/step_003839..."
       ]
      },
      {
       "output_type": "stream",
       "stream": "stdout",
       "text": [
        "\n",
        "saved pickled graph"
       ]
      },
      {
       "output_type": "stream",
       "stream": "stdout",
       "text": [
        "\n",
        "step 3840: lp -361.42, accepted arrival_time: 0.042%, coda_decay: 0.081%, coda_height: 0.115%, evdepth: 0.135%, evloc: 0.714%, evloc_big: 0.168%, evmb: 0.946%, evtime: 0.409%, indep_peak: 0.003%, peak_decay: 0.354%, peak_offset: 0.171%, , uatemplates: 0 , events: 1 "
       ]
      },
      {
       "output_type": "stream",
       "stream": "stdout",
       "text": [
        "\n",
        "saving debug dump to /home/dmoore/python/sigvisa/logs/mcmc/01626/step_003849..."
       ]
      },
      {
       "output_type": "stream",
       "stream": "stdout",
       "text": [
        "\n",
        "saved pickled graph"
       ]
      },
      {
       "output_type": "stream",
       "stream": "stdout",
       "text": [
        "\n",
        "step 3850: lp -358.46, accepted arrival_time: 0.042%, coda_decay: 0.081%, coda_height: 0.115%, evdepth: 0.136%, evloc: 0.713%, evloc_big: 0.168%, evmb: 0.946%, evtime: 0.408%, indep_peak: 0.003%, peak_decay: 0.354%, peak_offset: 0.171%, , uatemplates: 0 , events: 1 "
       ]
      },
      {
       "output_type": "stream",
       "stream": "stdout",
       "text": [
        "\n",
        "saving debug dump to /home/dmoore/python/sigvisa/logs/mcmc/01626/step_003859..."
       ]
      },
      {
       "output_type": "stream",
       "stream": "stdout",
       "text": [
        "\n",
        "saved pickled graph"
       ]
      },
      {
       "output_type": "stream",
       "stream": "stdout",
       "text": [
        "\n",
        "step 3860: lp -356.87, accepted arrival_time: 0.042%, coda_decay: 0.081%, coda_height: 0.115%, evdepth: 0.137%, evloc: 0.711%, evloc_big: 0.168%, evmb: 0.946%, evtime: 0.407%, indep_peak: 0.003%, peak_decay: 0.353%, peak_offset: 0.171%, , uatemplates: 0 , events: 1 "
       ]
      },
      {
       "output_type": "stream",
       "stream": "stdout",
       "text": [
        "\n",
        "saving debug dump to /home/dmoore/python/sigvisa/logs/mcmc/01626/step_003869..."
       ]
      },
      {
       "output_type": "stream",
       "stream": "stdout",
       "text": [
        "\n",
        "saved pickled graph"
       ]
      },
      {
       "output_type": "stream",
       "stream": "stdout",
       "text": [
        "\n",
        "step 3870: lp -354.96, accepted arrival_time: 0.042%, coda_decay: 0.081%, coda_height: 0.115%, evdepth: 0.138%, evloc: 0.709%, evloc_big: 0.167%, evmb: 0.946%, evtime: 0.408%, indep_peak: 0.003%, peak_decay: 0.353%, peak_offset: 0.171%, , uatemplates: 0 , events: 1 "
       ]
      },
      {
       "output_type": "stream",
       "stream": "stdout",
       "text": [
        "\n",
        "saving debug dump to /home/dmoore/python/sigvisa/logs/mcmc/01626/step_003879..."
       ]
      },
      {
       "output_type": "stream",
       "stream": "stdout",
       "text": [
        "\n",
        "saved pickled graph"
       ]
      },
      {
       "output_type": "stream",
       "stream": "stdout",
       "text": [
        "\n",
        "step 3880: lp -362.80, accepted arrival_time: 0.042%, coda_decay: 0.081%, coda_height: 0.114%, evdepth: 0.138%, evloc: 0.708%, evloc_big: 0.167%, evmb: 0.946%, evtime: 0.409%, indep_peak: 0.003%, peak_decay: 0.353%, peak_offset: 0.170%, , uatemplates: 0 , events: 1 "
       ]
      },
      {
       "output_type": "stream",
       "stream": "stdout",
       "text": [
        "\n",
        "saving debug dump to /home/dmoore/python/sigvisa/logs/mcmc/01626/step_003889..."
       ]
      },
      {
       "output_type": "stream",
       "stream": "stdout",
       "text": [
        "\n",
        "saved pickled graph"
       ]
      },
      {
       "output_type": "stream",
       "stream": "stdout",
       "text": [
        "\n",
        "step 3890: lp -358.15, accepted arrival_time: 0.042%, coda_decay: 0.081%, coda_height: 0.114%, evdepth: 0.138%, evloc: 0.706%, evloc_big: 0.166%, evmb: 0.945%, evtime: 0.409%, indep_peak: 0.003%, peak_decay: 0.352%, peak_offset: 0.170%, , uatemplates: 0 , events: 1 "
       ]
      },
      {
       "output_type": "stream",
       "stream": "stdout",
       "text": [
        "\n",
        "saving debug dump to /home/dmoore/python/sigvisa/logs/mcmc/01626/step_003899..."
       ]
      },
      {
       "output_type": "stream",
       "stream": "stdout",
       "text": [
        "\n",
        "saved pickled graph"
       ]
      },
      {
       "output_type": "stream",
       "stream": "stdout",
       "text": [
        "\n",
        "step 3900: lp -356.92, accepted arrival_time: 0.042%, coda_decay: 0.080%, coda_height: 0.114%, evdepth: 0.139%, evloc: 0.705%, evloc_big: 0.166%, evmb: 0.945%, evtime: 0.409%, indep_peak: 0.003%, peak_decay: 0.352%, peak_offset: 0.170%, , uatemplates: 0 , events: 1 "
       ]
      },
      {
       "output_type": "stream",
       "stream": "stdout",
       "text": [
        "\n",
        "saving debug dump to /home/dmoore/python/sigvisa/logs/mcmc/01626/step_003909..."
       ]
      },
      {
       "output_type": "stream",
       "stream": "stdout",
       "text": [
        "\n",
        "saved pickled graph"
       ]
      },
      {
       "output_type": "stream",
       "stream": "stdout",
       "text": [
        "\n",
        "step 3910: lp -353.91, accepted arrival_time: 0.042%, coda_decay: 0.081%, coda_height: 0.114%, evdepth: 0.140%, evloc: 0.703%, evloc_big: 0.166%, evmb: 0.946%, evtime: 0.408%, indep_peak: 0.003%, peak_decay: 0.353%, peak_offset: 0.170%, , uatemplates: 0 , events: 1 "
       ]
      },
      {
       "output_type": "stream",
       "stream": "stdout",
       "text": [
        "\n",
        "saving debug dump to /home/dmoore/python/sigvisa/logs/mcmc/01626/step_003919..."
       ]
      },
      {
       "output_type": "stream",
       "stream": "stdout",
       "text": [
        "\n",
        "saved pickled graph"
       ]
      },
      {
       "output_type": "stream",
       "stream": "stdout",
       "text": [
        "\n",
        "step 3920: lp -351.95, accepted arrival_time: 0.042%, coda_decay: 0.080%, coda_height: 0.114%, evdepth: 0.140%, evloc: 0.701%, evloc_big: 0.165%, evmb: 0.946%, evtime: 0.408%, indep_peak: 0.003%, peak_decay: 0.352%, peak_offset: 0.170%, , uatemplates: 0 , events: 1 "
       ]
      },
      {
       "output_type": "stream",
       "stream": "stdout",
       "text": [
        "\n",
        "saving debug dump to /home/dmoore/python/sigvisa/logs/mcmc/01626/step_003929..."
       ]
      },
      {
       "output_type": "stream",
       "stream": "stdout",
       "text": [
        "\n",
        "saved pickled graph"
       ]
      },
      {
       "output_type": "stream",
       "stream": "stdout",
       "text": [
        "\n",
        "step 3930: lp -352.10, accepted arrival_time: 0.042%, coda_decay: 0.080%, coda_height: 0.114%, evdepth: 0.142%, evloc: 0.700%, evloc_big: 0.165%, evmb: 0.946%, evtime: 0.408%, indep_peak: 0.003%, peak_decay: 0.352%, peak_offset: 0.170%, , uatemplates: 0 , events: 1 "
       ]
      },
      {
       "output_type": "stream",
       "stream": "stdout",
       "text": [
        "\n",
        "saving debug dump to /home/dmoore/python/sigvisa/logs/mcmc/01626/step_003939..."
       ]
      },
      {
       "output_type": "stream",
       "stream": "stdout",
       "text": [
        "\n",
        "saved pickled graph"
       ]
      },
      {
       "output_type": "stream",
       "stream": "stdout",
       "text": [
        "\n",
        "step 3940: lp -355.02, accepted arrival_time: 0.042%, coda_decay: 0.080%, coda_height: 0.114%, evdepth: 0.143%, evloc: 0.698%, evloc_big: 0.164%, evmb: 0.946%, evtime: 0.408%, indep_peak: 0.003%, peak_decay: 0.352%, peak_offset: 0.170%, , uatemplates: 0 , events: 1 "
       ]
      },
      {
       "output_type": "stream",
       "stream": "stdout",
       "text": [
        "\n",
        "saving debug dump to /home/dmoore/python/sigvisa/logs/mcmc/01626/step_003949..."
       ]
      },
      {
       "output_type": "stream",
       "stream": "stdout",
       "text": [
        "\n",
        "saved pickled graph"
       ]
      },
      {
       "output_type": "stream",
       "stream": "stdout",
       "text": [
        "\n",
        "step 3950: lp -355.33, accepted arrival_time: 0.042%, coda_decay: 0.081%, coda_height: 0.113%, evdepth: 0.143%, evloc: 0.696%, evloc_big: 0.164%, evmb: 0.945%, evtime: 0.408%, indep_peak: 0.003%, peak_decay: 0.351%, peak_offset: 0.170%, , uatemplates: 0 , events: 1 "
       ]
      },
      {
       "output_type": "stream",
       "stream": "stdout",
       "text": [
        "\n",
        "saving debug dump to /home/dmoore/python/sigvisa/logs/mcmc/01626/step_003959..."
       ]
      },
      {
       "output_type": "stream",
       "stream": "stdout",
       "text": [
        "\n",
        "saved pickled graph"
       ]
      },
      {
       "output_type": "stream",
       "stream": "stdout",
       "text": [
        "\n",
        "step 3960: lp -358.12, accepted arrival_time: 0.042%, coda_decay: 0.081%, coda_height: 0.113%, evdepth: 0.144%, evloc: 0.695%, evloc_big: 0.164%, evmb: 0.944%, evtime: 0.407%, indep_peak: 0.003%, peak_decay: 0.351%, peak_offset: 0.170%, , uatemplates: 0 , events: 1 "
       ]
      },
      {
       "output_type": "stream",
       "stream": "stdout",
       "text": [
        "\n",
        "saving debug dump to /home/dmoore/python/sigvisa/logs/mcmc/01626/step_003969..."
       ]
      },
      {
       "output_type": "stream",
       "stream": "stdout",
       "text": [
        "\n",
        "saved pickled graph"
       ]
      },
      {
       "output_type": "stream",
       "stream": "stdout",
       "text": [
        "\n",
        "step 3970: lp -353.12, accepted arrival_time: 0.042%, coda_decay: 0.081%, coda_height: 0.113%, evdepth: 0.145%, evloc: 0.693%, evloc_big: 0.163%, evmb: 0.944%, evtime: 0.407%, indep_peak: 0.003%, peak_decay: 0.351%, peak_offset: 0.170%, , uatemplates: 0 , events: 1 "
       ]
      },
      {
       "output_type": "stream",
       "stream": "stdout",
       "text": [
        "\n",
        "saving debug dump to /home/dmoore/python/sigvisa/logs/mcmc/01626/step_003979..."
       ]
      },
      {
       "output_type": "stream",
       "stream": "stdout",
       "text": [
        "\n",
        "saved pickled graph"
       ]
      },
      {
       "output_type": "stream",
       "stream": "stdout",
       "text": [
        "\n",
        "step 3980: lp -354.34, accepted arrival_time: 0.042%, coda_decay: 0.081%, coda_height: 0.113%, evdepth: 0.146%, evloc: 0.692%, evloc_big: 0.163%, evmb: 0.944%, evtime: 0.406%, indep_peak: 0.003%, peak_decay: 0.351%, peak_offset: 0.169%, , uatemplates: 0 , events: 1 "
       ]
      },
      {
       "output_type": "stream",
       "stream": "stdout",
       "text": [
        "\n",
        "saving debug dump to /home/dmoore/python/sigvisa/logs/mcmc/01626/step_003989..."
       ]
      },
      {
       "output_type": "stream",
       "stream": "stdout",
       "text": [
        "\n",
        "saved pickled graph"
       ]
      },
      {
       "output_type": "stream",
       "stream": "stdout",
       "text": [
        "\n",
        "step 3990: lp -356.13, accepted arrival_time: 0.042%, coda_decay: 0.081%, coda_height: 0.113%, evdepth: 0.147%, evloc: 0.691%, evloc_big: 0.162%, evmb: 0.944%, evtime: 0.406%, indep_peak: 0.003%, peak_decay: 0.351%, peak_offset: 0.169%, , uatemplates: 0 , events: 1 "
       ]
      },
      {
       "output_type": "stream",
       "stream": "stdout",
       "text": [
        "\n",
        "saving debug dump to /home/dmoore/python/sigvisa/logs/mcmc/01626/step_003999..."
       ]
      },
      {
       "output_type": "stream",
       "stream": "stdout",
       "text": [
        "\n",
        "saved pickled graph"
       ]
      },
      {
       "output_type": "stream",
       "stream": "stdout",
       "text": [
        "\n",
        "step 4000: lp -355.49, accepted arrival_time: 0.042%, coda_decay: 0.081%, coda_height: 0.113%, evdepth: 0.148%, evloc: 0.690%, evloc_big: 0.162%, evmb: 0.944%, evtime: 0.407%, indep_peak: 0.003%, peak_decay: 0.350%, peak_offset: 0.169%, , uatemplates: 0 , events: 1 "
       ]
      },
      {
       "output_type": "stream",
       "stream": "stdout",
       "text": [
        "\n",
        "saving debug dump to /home/dmoore/python/sigvisa/logs/mcmc/01626/step_004009..."
       ]
      },
      {
       "output_type": "stream",
       "stream": "stdout",
       "text": [
        "\n",
        "saved pickled graph"
       ]
      },
      {
       "output_type": "stream",
       "stream": "stdout",
       "text": [
        "\n",
        "step 4010: lp -352.69, accepted arrival_time: 0.042%, coda_decay: 0.080%, coda_height: 0.112%, evdepth: 0.150%, evloc: 0.688%, evloc_big: 0.162%, evmb: 0.944%, evtime: 0.407%, indep_peak: 0.003%, peak_decay: 0.350%, peak_offset: 0.169%, , uatemplates: 0 , events: 1 "
       ]
      },
      {
       "output_type": "stream",
       "stream": "stdout",
       "text": [
        "\n",
        "saving debug dump to /home/dmoore/python/sigvisa/logs/mcmc/01626/step_004019..."
       ]
      },
      {
       "output_type": "stream",
       "stream": "stdout",
       "text": [
        "\n",
        "saved pickled graph"
       ]
      },
      {
       "output_type": "stream",
       "stream": "stdout",
       "text": [
        "\n",
        "step 4020: lp -359.69, accepted arrival_time: 0.042%, coda_decay: 0.080%, coda_height: 0.112%, evdepth: 0.150%, evloc: 0.687%, evloc_big: 0.161%, evmb: 0.945%, evtime: 0.407%, indep_peak: 0.003%, peak_decay: 0.350%, peak_offset: 0.169%, , uatemplates: 0 , events: 1 "
       ]
      },
      {
       "output_type": "stream",
       "stream": "stdout",
       "text": [
        "\n",
        "saving debug dump to /home/dmoore/python/sigvisa/logs/mcmc/01626/step_004029..."
       ]
      },
      {
       "output_type": "stream",
       "stream": "stdout",
       "text": [
        "\n",
        "saved pickled graph"
       ]
      },
      {
       "output_type": "stream",
       "stream": "stdout",
       "text": [
        "\n",
        "step 4030: lp -354.16, accepted arrival_time: 0.042%, coda_decay: 0.080%, coda_height: 0.112%, evdepth: 0.151%, evloc: 0.686%, evloc_big: 0.161%, evmb: 0.945%, evtime: 0.407%, indep_peak: 0.003%, peak_decay: 0.349%, peak_offset: 0.169%, , uatemplates: 0 , events: 1 "
       ]
      },
      {
       "output_type": "stream",
       "stream": "stdout",
       "text": [
        "\n",
        "saving debug dump to /home/dmoore/python/sigvisa/logs/mcmc/01626/step_004039..."
       ]
      },
      {
       "output_type": "stream",
       "stream": "stdout",
       "text": [
        "\n",
        "saved pickled graph"
       ]
      },
      {
       "output_type": "stream",
       "stream": "stdout",
       "text": [
        "\n",
        "step 4040: lp -354.18, accepted arrival_time: 0.042%, coda_decay: 0.080%, coda_height: 0.112%, evdepth: 0.152%, evloc: 0.684%, evloc_big: 0.161%, evmb: 0.945%, evtime: 0.407%, indep_peak: 0.003%, peak_decay: 0.349%, peak_offset: 0.169%, , uatemplates: 0 , events: 1 "
       ]
      },
      {
       "output_type": "stream",
       "stream": "stdout",
       "text": [
        "\n",
        "saving debug dump to /home/dmoore/python/sigvisa/logs/mcmc/01626/step_004049..."
       ]
      },
      {
       "output_type": "stream",
       "stream": "stdout",
       "text": [
        "\n",
        "saved pickled graph"
       ]
      },
      {
       "output_type": "stream",
       "stream": "stdout",
       "text": [
        "\n",
        "step 4050: lp -358.19, accepted arrival_time: 0.042%, coda_decay: 0.080%, coda_height: 0.112%, evdepth: 0.153%, evloc: 0.683%, evloc_big: 0.160%, evmb: 0.944%, evtime: 0.407%, indep_peak: 0.003%, peak_decay: 0.349%, peak_offset: 0.169%, , uatemplates: 0 , events: 1 "
       ]
      },
      {
       "output_type": "stream",
       "stream": "stdout",
       "text": [
        "\n",
        "saving debug dump to /home/dmoore/python/sigvisa/logs/mcmc/01626/step_004059..."
       ]
      },
      {
       "output_type": "stream",
       "stream": "stdout",
       "text": [
        "\n",
        "saved pickled graph"
       ]
      },
      {
       "output_type": "stream",
       "stream": "stdout",
       "text": [
        "\n",
        "step 4060: lp -360.30, accepted arrival_time: 0.042%, coda_decay: 0.080%, coda_height: 0.112%, evdepth: 0.154%, evloc: 0.681%, evloc_big: 0.160%, evmb: 0.945%, evtime: 0.408%, indep_peak: 0.003%, peak_decay: 0.349%, peak_offset: 0.168%, , uatemplates: 0 , events: 1 "
       ]
      },
      {
       "output_type": "stream",
       "stream": "stdout",
       "text": [
        "\n",
        "saving debug dump to /home/dmoore/python/sigvisa/logs/mcmc/01626/step_004069..."
       ]
      },
      {
       "output_type": "stream",
       "stream": "stdout",
       "text": [
        "\n",
        "saved pickled graph"
       ]
      },
      {
       "output_type": "stream",
       "stream": "stdout",
       "text": [
        "\n",
        "step 4070: lp -358.38, accepted arrival_time: 0.042%, coda_decay: 0.081%, coda_height: 0.112%, evdepth: 0.155%, evloc: 0.680%, evloc_big: 0.159%, evmb: 0.944%, evtime: 0.407%, indep_peak: 0.003%, peak_decay: 0.349%, peak_offset: 0.168%, , uatemplates: 0 , events: 1 "
       ]
      },
      {
       "output_type": "stream",
       "stream": "stdout",
       "text": [
        "\n",
        "saving debug dump to /home/dmoore/python/sigvisa/logs/mcmc/01626/step_004079..."
       ]
      },
      {
       "output_type": "stream",
       "stream": "stdout",
       "text": [
        "\n",
        "saved pickled graph"
       ]
      },
      {
       "output_type": "stream",
       "stream": "stdout",
       "text": [
        "\n",
        "step 4080: lp -354.91, accepted arrival_time: 0.042%, coda_decay: 0.081%, coda_height: 0.112%, evdepth: 0.157%, evloc: 0.679%, evloc_big: 0.159%, evmb: 0.944%, evtime: 0.407%, indep_peak: 0.003%, peak_decay: 0.348%, peak_offset: 0.168%, , uatemplates: 0 , events: 1 "
       ]
      },
      {
       "output_type": "stream",
       "stream": "stdout",
       "text": [
        "\n",
        "saving debug dump to /home/dmoore/python/sigvisa/logs/mcmc/01626/step_004089..."
       ]
      },
      {
       "output_type": "stream",
       "stream": "stdout",
       "text": [
        "\n",
        "saved pickled graph"
       ]
      },
      {
       "output_type": "stream",
       "stream": "stdout",
       "text": [
        "\n",
        "step 4090: lp -360.17, accepted arrival_time: 0.042%, coda_decay: 0.081%, coda_height: 0.112%, evdepth: 0.158%, evloc: 0.677%, evloc_big: 0.159%, evmb: 0.945%, evtime: 0.407%, indep_peak: 0.003%, peak_decay: 0.348%, peak_offset: 0.168%, , uatemplates: 0 , events: 1 "
       ]
      },
      {
       "output_type": "stream",
       "stream": "stdout",
       "text": [
        "\n",
        "saving debug dump to /home/dmoore/python/sigvisa/logs/mcmc/01626/step_004099..."
       ]
      },
      {
       "output_type": "stream",
       "stream": "stdout",
       "text": [
        "\n",
        "saved pickled graph"
       ]
      },
      {
       "output_type": "stream",
       "stream": "stdout",
       "text": [
        "\n",
        "step 4100: lp -359.72, accepted arrival_time: 0.042%, coda_decay: 0.080%, coda_height: 0.111%, evdepth: 0.159%, evloc: 0.676%, evloc_big: 0.158%, evmb: 0.944%, evtime: 0.407%, indep_peak: 0.003%, peak_decay: 0.348%, peak_offset: 0.168%, , uatemplates: 0 , events: 1 "
       ]
      },
      {
       "output_type": "stream",
       "stream": "stdout",
       "text": [
        "\n",
        "saving debug dump to /home/dmoore/python/sigvisa/logs/mcmc/01626/step_004109..."
       ]
      },
      {
       "output_type": "stream",
       "stream": "stdout",
       "text": [
        "\n",
        "saved pickled graph"
       ]
      },
      {
       "output_type": "stream",
       "stream": "stdout",
       "text": [
        "\n",
        "step 4110: lp -360.10, accepted arrival_time: 0.042%, coda_decay: 0.080%, coda_height: 0.111%, evdepth: 0.160%, evloc: 0.675%, evloc_big: 0.158%, evmb: 0.944%, evtime: 0.407%, indep_peak: 0.003%, peak_decay: 0.348%, peak_offset: 0.168%, , uatemplates: 0 , events: 1 "
       ]
      },
      {
       "output_type": "stream",
       "stream": "stdout",
       "text": [
        "\n",
        "saving debug dump to /home/dmoore/python/sigvisa/logs/mcmc/01626/step_004119..."
       ]
      },
      {
       "output_type": "stream",
       "stream": "stdout",
       "text": [
        "\n",
        "saved pickled graph"
       ]
      },
      {
       "output_type": "stream",
       "stream": "stdout",
       "text": [
        "\n",
        "step 4120: lp -357.34, accepted arrival_time: 0.042%, coda_decay: 0.080%, coda_height: 0.111%, evdepth: 0.162%, evloc: 0.673%, evloc_big: 0.157%, evmb: 0.944%, evtime: 0.407%, indep_peak: 0.003%, peak_decay: 0.348%, peak_offset: 0.168%, , uatemplates: 0 , events: 1 "
       ]
      },
      {
       "output_type": "stream",
       "stream": "stdout",
       "text": [
        "\n",
        "saving debug dump to /home/dmoore/python/sigvisa/logs/mcmc/01626/step_004129..."
       ]
      },
      {
       "output_type": "stream",
       "stream": "stdout",
       "text": [
        "\n",
        "saved pickled graph"
       ]
      },
      {
       "output_type": "stream",
       "stream": "stdout",
       "text": [
        "\n",
        "step 4130: lp -362.86, accepted arrival_time: 0.042%, coda_decay: 0.080%, coda_height: 0.111%, evdepth: 0.163%, evloc: 0.672%, evloc_big: 0.157%, evmb: 0.945%, evtime: 0.408%, indep_peak: 0.003%, peak_decay: 0.348%, peak_offset: 0.168%, , uatemplates: 0 , events: 1 "
       ]
      },
      {
       "output_type": "stream",
       "stream": "stdout",
       "text": [
        "\n",
        "saving debug dump to /home/dmoore/python/sigvisa/logs/mcmc/01626/step_004139..."
       ]
      },
      {
       "output_type": "stream",
       "stream": "stdout",
       "text": [
        "\n",
        "saved pickled graph"
       ]
      },
      {
       "output_type": "stream",
       "stream": "stdout",
       "text": [
        "\n",
        "step 4140: lp -363.60, accepted arrival_time: 0.042%, coda_decay: 0.080%, coda_height: 0.111%, evdepth: 0.164%, evloc: 0.670%, evloc_big: 0.157%, evmb: 0.945%, evtime: 0.407%, indep_peak: 0.003%, peak_decay: 0.347%, peak_offset: 0.168%, , uatemplates: 0 , events: 1 "
       ]
      },
      {
       "output_type": "stream",
       "stream": "stdout",
       "text": [
        "\n",
        "saving debug dump to /home/dmoore/python/sigvisa/logs/mcmc/01626/step_004149..."
       ]
      },
      {
       "output_type": "stream",
       "stream": "stdout",
       "text": [
        "\n",
        "saved pickled graph"
       ]
      },
      {
       "output_type": "stream",
       "stream": "stdout",
       "text": [
        "\n",
        "step 4150: lp -355.71, accepted arrival_time: 0.042%, coda_decay: 0.080%, coda_height: 0.111%, evdepth: 0.165%, evloc: 0.669%, evloc_big: 0.156%, evmb: 0.945%, evtime: 0.407%, indep_peak: 0.003%, peak_decay: 0.347%, peak_offset: 0.168%, , uatemplates: 0 , events: 1 "
       ]
      },
      {
       "output_type": "stream",
       "stream": "stdout",
       "text": [
        "\n",
        "saving debug dump to /home/dmoore/python/sigvisa/logs/mcmc/01626/step_004159..."
       ]
      },
      {
       "output_type": "stream",
       "stream": "stdout",
       "text": [
        "\n",
        "saved pickled graph"
       ]
      },
      {
       "output_type": "stream",
       "stream": "stdout",
       "text": [
        "\n",
        "step 4160: lp -353.63, accepted arrival_time: 0.042%, coda_decay: 0.080%, coda_height: 0.111%, evdepth: 0.166%, evloc: 0.667%, evloc_big: 0.156%, evmb: 0.945%, evtime: 0.407%, indep_peak: 0.003%, peak_decay: 0.347%, peak_offset: 0.168%, , uatemplates: 0 , events: 1 "
       ]
      },
      {
       "output_type": "stream",
       "stream": "stdout",
       "text": [
        "\n",
        "saving debug dump to /home/dmoore/python/sigvisa/logs/mcmc/01626/step_004169..."
       ]
      },
      {
       "output_type": "stream",
       "stream": "stdout",
       "text": [
        "\n",
        "saved pickled graph"
       ]
      },
      {
       "output_type": "stream",
       "stream": "stdout",
       "text": [
        "\n",
        "step 4170: lp -354.25, accepted arrival_time: 0.042%, coda_decay: 0.080%, coda_height: 0.111%, evdepth: 0.167%, evloc: 0.666%, evloc_big: 0.156%, evmb: 0.945%, evtime: 0.408%, indep_peak: 0.003%, peak_decay: 0.346%, peak_offset: 0.168%, , uatemplates: 0 , events: 1 "
       ]
      },
      {
       "output_type": "stream",
       "stream": "stdout",
       "text": [
        "\n",
        "saving debug dump to /home/dmoore/python/sigvisa/logs/mcmc/01626/step_004179..."
       ]
      },
      {
       "output_type": "stream",
       "stream": "stdout",
       "text": [
        "\n",
        "saved pickled graph"
       ]
      },
      {
       "output_type": "stream",
       "stream": "stdout",
       "text": [
        "\n",
        "step 4180: lp -358.37, accepted arrival_time: 0.042%, coda_decay: 0.080%, coda_height: 0.111%, evdepth: 0.168%, evloc: 0.664%, evloc_big: 0.155%, evmb: 0.945%, evtime: 0.407%, indep_peak: 0.003%, peak_decay: 0.346%, peak_offset: 0.168%, , uatemplates: 0 , events: 1 "
       ]
      },
      {
       "output_type": "stream",
       "stream": "stdout",
       "text": [
        "\n",
        "saving debug dump to /home/dmoore/python/sigvisa/logs/mcmc/01626/step_004189..."
       ]
      },
      {
       "output_type": "stream",
       "stream": "stdout",
       "text": [
        "\n",
        "saved pickled graph"
       ]
      },
      {
       "output_type": "stream",
       "stream": "stdout",
       "text": [
        "\n",
        "step 4190: lp -350.91, accepted arrival_time: 0.042%, coda_decay: 0.080%, coda_height: 0.111%, evdepth: 0.168%, evloc: 0.663%, evloc_big: 0.155%, evmb: 0.945%, evtime: 0.407%, indep_peak: 0.003%, peak_decay: 0.346%, peak_offset: 0.168%, , uatemplates: 0 , events: 1 "
       ]
      },
      {
       "output_type": "stream",
       "stream": "stdout",
       "text": [
        "\n",
        "saving debug dump to /home/dmoore/python/sigvisa/logs/mcmc/01626/step_004199..."
       ]
      },
      {
       "output_type": "stream",
       "stream": "stdout",
       "text": [
        "\n",
        "saved pickled graph"
       ]
      },
      {
       "output_type": "stream",
       "stream": "stdout",
       "text": [
        "\n",
        "step 4200: lp -352.25, accepted arrival_time: 0.042%, coda_decay: 0.080%, coda_height: 0.111%, evdepth: 0.170%, evloc: 0.662%, evloc_big: 0.154%, evmb: 0.945%, evtime: 0.407%, indep_peak: 0.003%, peak_decay: 0.346%, peak_offset: 0.167%, , uatemplates: 0 , events: 1 "
       ]
      },
      {
       "output_type": "stream",
       "stream": "stdout",
       "text": [
        "\n",
        "saving debug dump to /home/dmoore/python/sigvisa/logs/mcmc/01626/step_004209..."
       ]
      },
      {
       "output_type": "stream",
       "stream": "stdout",
       "text": [
        "\n",
        "saved pickled graph"
       ]
      },
      {
       "output_type": "stream",
       "stream": "stdout",
       "text": [
        "\n",
        "step 4210: lp -351.26, accepted arrival_time: 0.042%, coda_decay: 0.080%, coda_height: 0.111%, evdepth: 0.171%, evloc: 0.660%, evloc_big: 0.154%, evmb: 0.946%, evtime: 0.408%, indep_peak: 0.003%, peak_decay: 0.346%, peak_offset: 0.168%, , uatemplates: 0 , events: 1 "
       ]
      },
      {
       "output_type": "stream",
       "stream": "stdout",
       "text": [
        "\n",
        "saving debug dump to /home/dmoore/python/sigvisa/logs/mcmc/01626/step_004219..."
       ]
      },
      {
       "output_type": "stream",
       "stream": "stdout",
       "text": [
        "\n",
        "saved pickled graph"
       ]
      },
      {
       "output_type": "stream",
       "stream": "stdout",
       "text": [
        "\n",
        "step 4220: lp -351.44, accepted arrival_time: 0.042%, coda_decay: 0.080%, coda_height: 0.111%, evdepth: 0.172%, evloc: 0.659%, evloc_big: 0.154%, evmb: 0.946%, evtime: 0.408%, indep_peak: 0.003%, peak_decay: 0.346%, peak_offset: 0.167%, , uatemplates: 0 , events: 1 "
       ]
      },
      {
       "output_type": "stream",
       "stream": "stdout",
       "text": [
        "\n",
        "saving debug dump to /home/dmoore/python/sigvisa/logs/mcmc/01626/step_004229..."
       ]
      },
      {
       "output_type": "stream",
       "stream": "stdout",
       "text": [
        "\n",
        "saved pickled graph"
       ]
      },
      {
       "output_type": "stream",
       "stream": "stdout",
       "text": [
        "\n",
        "step 4230: lp -354.03, accepted arrival_time: 0.042%, coda_decay: 0.080%, coda_height: 0.111%, evdepth: 0.172%, evloc: 0.657%, evloc_big: 0.153%, evmb: 0.946%, evtime: 0.407%, indep_peak: 0.003%, peak_decay: 0.346%, peak_offset: 0.167%, , uatemplates: 0 , events: 1 "
       ]
      },
      {
       "output_type": "stream",
       "stream": "stdout",
       "text": [
        "\n",
        "saving debug dump to /home/dmoore/python/sigvisa/logs/mcmc/01626/step_004239..."
       ]
      },
      {
       "output_type": "stream",
       "stream": "stdout",
       "text": [
        "\n",
        "saved pickled graph"
       ]
      },
      {
       "output_type": "stream",
       "stream": "stdout",
       "text": [
        "\n",
        "step 4240: lp -356.34, accepted arrival_time: 0.042%, coda_decay: 0.079%, coda_height: 0.110%, evdepth: 0.173%, evloc: 0.656%, evloc_big: 0.153%, evmb: 0.946%, evtime: 0.407%, indep_peak: 0.003%, peak_decay: 0.345%, peak_offset: 0.167%, , uatemplates: 0 , events: 1 "
       ]
      },
      {
       "output_type": "stream",
       "stream": "stdout",
       "text": [
        "\n",
        "saving debug dump to /home/dmoore/python/sigvisa/logs/mcmc/01626/step_004249..."
       ]
      },
      {
       "output_type": "stream",
       "stream": "stdout",
       "text": [
        "\n",
        "saved pickled graph"
       ]
      },
      {
       "output_type": "stream",
       "stream": "stdout",
       "text": [
        "\n",
        "step 4250: lp -352.02, accepted arrival_time: 0.042%, coda_decay: 0.079%, coda_height: 0.110%, evdepth: 0.173%, evloc: 0.654%, evloc_big: 0.153%, evmb: 0.946%, evtime: 0.408%, indep_peak: 0.003%, peak_decay: 0.345%, peak_offset: 0.167%, , uatemplates: 0 , events: 1 "
       ]
      },
      {
       "output_type": "stream",
       "stream": "stdout",
       "text": [
        "\n",
        "saving debug dump to /home/dmoore/python/sigvisa/logs/mcmc/01626/step_004259..."
       ]
      },
      {
       "output_type": "stream",
       "stream": "stdout",
       "text": [
        "\n",
        "saved pickled graph"
       ]
      },
      {
       "output_type": "stream",
       "stream": "stdout",
       "text": [
        "\n",
        "step 4260: lp -356.87, accepted arrival_time: 0.042%, coda_decay: 0.079%, coda_height: 0.110%, evdepth: 0.174%, evloc: 0.652%, evloc_big: 0.152%, evmb: 0.946%, evtime: 0.408%, indep_peak: 0.003%, peak_decay: 0.345%, peak_offset: 0.167%, , uatemplates: 0 , events: 1 "
       ]
      },
      {
       "output_type": "stream",
       "stream": "stdout",
       "text": [
        "\n",
        "saving debug dump to /home/dmoore/python/sigvisa/logs/mcmc/01626/step_004269..."
       ]
      },
      {
       "output_type": "stream",
       "stream": "stdout",
       "text": [
        "\n",
        "saved pickled graph"
       ]
      },
      {
       "output_type": "stream",
       "stream": "stdout",
       "text": [
        "\n",
        "step 4270: lp -354.07, accepted arrival_time: 0.042%, coda_decay: 0.079%, coda_height: 0.110%, evdepth: 0.175%, evloc: 0.651%, evloc_big: 0.152%, evmb: 0.946%, evtime: 0.408%, indep_peak: 0.003%, peak_decay: 0.345%, peak_offset: 0.167%, , uatemplates: 0 , events: 1 "
       ]
      },
      {
       "output_type": "stream",
       "stream": "stdout",
       "text": [
        "\n",
        "saving debug dump to /home/dmoore/python/sigvisa/logs/mcmc/01626/step_004279..."
       ]
      },
      {
       "output_type": "stream",
       "stream": "stdout",
       "text": [
        "\n",
        "saved pickled graph"
       ]
      },
      {
       "output_type": "stream",
       "stream": "stdout",
       "text": [
        "\n",
        "step 4280: lp -354.99, accepted arrival_time: 0.042%, coda_decay: 0.079%, coda_height: 0.110%, evdepth: 0.176%, evloc: 0.649%, evloc_big: 0.152%, evmb: 0.947%, evtime: 0.408%, indep_peak: 0.003%, peak_decay: 0.345%, peak_offset: 0.167%, , uatemplates: 0 , events: 1 "
       ]
      },
      {
       "output_type": "stream",
       "stream": "stdout",
       "text": [
        "\n",
        "saving debug dump to /home/dmoore/python/sigvisa/logs/mcmc/01626/step_004289..."
       ]
      },
      {
       "output_type": "stream",
       "stream": "stdout",
       "text": [
        "\n",
        "saved pickled graph"
       ]
      },
      {
       "output_type": "stream",
       "stream": "stdout",
       "text": [
        "\n",
        "step 4290: lp -353.60, accepted arrival_time: 0.042%, coda_decay: 0.079%, coda_height: 0.110%, evdepth: 0.176%, evloc: 0.648%, evloc_big: 0.151%, evmb: 0.947%, evtime: 0.408%, indep_peak: 0.003%, peak_decay: 0.344%, peak_offset: 0.167%, , uatemplates: 0 , events: 1 "
       ]
      },
      {
       "output_type": "stream",
       "stream": "stdout",
       "text": [
        "\n",
        "saving debug dump to /home/dmoore/python/sigvisa/logs/mcmc/01626/step_004299..."
       ]
      },
      {
       "output_type": "stream",
       "stream": "stdout",
       "text": [
        "\n",
        "saved pickled graph"
       ]
      },
      {
       "output_type": "stream",
       "stream": "stdout",
       "text": [
        "\n",
        "step 4300: lp -350.07, accepted arrival_time: 0.042%, coda_decay: 0.079%, coda_height: 0.110%, evdepth: 0.176%, evloc: 0.646%, evloc_big: 0.151%, evmb: 0.947%, evtime: 0.408%, indep_peak: 0.003%, peak_decay: 0.344%, peak_offset: 0.167%, , uatemplates: 0 , events: 1 "
       ]
      },
      {
       "output_type": "stream",
       "stream": "stdout",
       "text": [
        "\n",
        "saving debug dump to /home/dmoore/python/sigvisa/logs/mcmc/01626/step_004309..."
       ]
      },
      {
       "output_type": "stream",
       "stream": "stdout",
       "text": [
        "\n",
        "saved pickled graph"
       ]
      },
      {
       "output_type": "stream",
       "stream": "stdout",
       "text": [
        "\n",
        "step 4310: lp -355.82, accepted arrival_time: 0.042%, coda_decay: 0.079%, coda_height: 0.109%, evdepth: 0.178%, evloc: 0.645%, evloc_big: 0.151%, evmb: 0.947%, evtime: 0.407%, indep_peak: 0.003%, peak_decay: 0.344%, peak_offset: 0.167%, , uatemplates: 0 , events: 1 "
       ]
      },
      {
       "output_type": "stream",
       "stream": "stdout",
       "text": [
        "\n",
        "saving debug dump to /home/dmoore/python/sigvisa/logs/mcmc/01626/step_004319..."
       ]
      },
      {
       "output_type": "stream",
       "stream": "stdout",
       "text": [
        "\n",
        "saved pickled graph"
       ]
      },
      {
       "output_type": "stream",
       "stream": "stdout",
       "text": [
        "\n",
        "step 4320: lp -353.43, accepted arrival_time: 0.042%, coda_decay: 0.079%, coda_height: 0.110%, evdepth: 0.178%, evloc: 0.644%, evloc_big: 0.150%, evmb: 0.947%, evtime: 0.407%, indep_peak: 0.003%, peak_decay: 0.343%, peak_offset: 0.167%, , uatemplates: 0 , events: 1 "
       ]
      },
      {
       "output_type": "stream",
       "stream": "stdout",
       "text": [
        "\n",
        "saving debug dump to /home/dmoore/python/sigvisa/logs/mcmc/01626/step_004329..."
       ]
      },
      {
       "output_type": "stream",
       "stream": "stdout",
       "text": [
        "\n",
        "saved pickled graph"
       ]
      },
      {
       "output_type": "stream",
       "stream": "stdout",
       "text": [
        "\n",
        "step 4330: lp -351.10, accepted arrival_time: 0.042%, coda_decay: 0.079%, coda_height: 0.109%, evdepth: 0.178%, evloc: 0.643%, evloc_big: 0.150%, evmb: 0.947%, evtime: 0.407%, indep_peak: 0.003%, peak_decay: 0.343%, peak_offset: 0.167%, , uatemplates: 0 , events: 1 "
       ]
      },
      {
       "output_type": "stream",
       "stream": "stdout",
       "text": [
        "\n",
        "saving debug dump to /home/dmoore/python/sigvisa/logs/mcmc/01626/step_004339..."
       ]
      },
      {
       "output_type": "stream",
       "stream": "stdout",
       "text": [
        "\n",
        "saved pickled graph"
       ]
      },
      {
       "output_type": "stream",
       "stream": "stdout",
       "text": [
        "\n",
        "step 4340: lp -352.80, accepted arrival_time: 0.042%, coda_decay: 0.079%, coda_height: 0.109%, evdepth: 0.179%, evloc: 0.641%, evloc_big: 0.150%, evmb: 0.947%, evtime: 0.407%, indep_peak: 0.003%, peak_decay: 0.343%, peak_offset: 0.167%, , uatemplates: 0 , events: 1 "
       ]
      },
      {
       "output_type": "stream",
       "stream": "stdout",
       "text": [
        "\n",
        "saving debug dump to /home/dmoore/python/sigvisa/logs/mcmc/01626/step_004349..."
       ]
      },
      {
       "output_type": "stream",
       "stream": "stdout",
       "text": [
        "\n",
        "saved pickled graph"
       ]
      },
      {
       "output_type": "stream",
       "stream": "stdout",
       "text": [
        "\n",
        "step 4350: lp -359.14, accepted arrival_time: 0.042%, coda_decay: 0.079%, coda_height: 0.109%, evdepth: 0.180%, evloc: 0.640%, evloc_big: 0.149%, evmb: 0.947%, evtime: 0.407%, indep_peak: 0.003%, peak_decay: 0.343%, peak_offset: 0.167%, , uatemplates: 0 , events: 1 "
       ]
      },
      {
       "output_type": "stream",
       "stream": "stdout",
       "text": [
        "\n",
        "saving debug dump to /home/dmoore/python/sigvisa/logs/mcmc/01626/step_004359..."
       ]
      },
      {
       "output_type": "stream",
       "stream": "stdout",
       "text": [
        "\n",
        "saved pickled graph"
       ]
      },
      {
       "output_type": "stream",
       "stream": "stdout",
       "text": [
        "\n",
        "step 4360: lp -358.67, accepted arrival_time: 0.042%, coda_decay: 0.079%, coda_height: 0.109%, evdepth: 0.181%, evloc: 0.639%, evloc_big: 0.149%, evmb: 0.947%, evtime: 0.407%, indep_peak: 0.003%, peak_decay: 0.343%, peak_offset: 0.166%, , uatemplates: 0 , events: 1 "
       ]
      },
      {
       "output_type": "stream",
       "stream": "stdout",
       "text": [
        "\n",
        "saving debug dump to /home/dmoore/python/sigvisa/logs/mcmc/01626/step_004369..."
       ]
      },
      {
       "output_type": "stream",
       "stream": "stdout",
       "text": [
        "\n",
        "saved pickled graph"
       ]
      },
      {
       "output_type": "stream",
       "stream": "stdout",
       "text": [
        "\n",
        "step 4370: lp -365.16, accepted arrival_time: 0.042%, coda_decay: 0.079%, coda_height: 0.109%, evdepth: 0.182%, evloc: 0.637%, evloc_big: 0.148%, evmb: 0.947%, evtime: 0.407%, indep_peak: 0.003%, peak_decay: 0.343%, peak_offset: 0.167%, , uatemplates: 0 , events: 1 "
       ]
      },
      {
       "output_type": "stream",
       "stream": "stdout",
       "text": [
        "\n",
        "saving debug dump to /home/dmoore/python/sigvisa/logs/mcmc/01626/step_004379..."
       ]
      },
      {
       "output_type": "stream",
       "stream": "stdout",
       "text": [
        "\n",
        "saved pickled graph"
       ]
      },
      {
       "output_type": "stream",
       "stream": "stdout",
       "text": [
        "\n",
        "step 4380: lp -356.57, accepted arrival_time: 0.042%, coda_decay: 0.079%, coda_height: 0.109%, evdepth: 0.183%, evloc: 0.636%, evloc_big: 0.148%, evmb: 0.947%, evtime: 0.407%, indep_peak: 0.003%, peak_decay: 0.343%, peak_offset: 0.167%, , uatemplates: 0 , events: 1 "
       ]
      },
      {
       "output_type": "stream",
       "stream": "stdout",
       "text": [
        "\n",
        "saving debug dump to /home/dmoore/python/sigvisa/logs/mcmc/01626/step_004389..."
       ]
      },
      {
       "output_type": "stream",
       "stream": "stdout",
       "text": [
        "\n",
        "saved pickled graph"
       ]
      },
      {
       "output_type": "stream",
       "stream": "stdout",
       "text": [
        "\n",
        "step 4390: lp -364.59, accepted arrival_time: 0.042%, coda_decay: 0.079%, coda_height: 0.109%, evdepth: 0.184%, evloc: 0.635%, evloc_big: 0.148%, evmb: 0.947%, evtime: 0.407%, indep_peak: 0.003%, peak_decay: 0.343%, peak_offset: 0.167%, , uatemplates: 0 , events: 1 "
       ]
      },
      {
       "output_type": "stream",
       "stream": "stdout",
       "text": [
        "\n",
        "saving debug dump to /home/dmoore/python/sigvisa/logs/mcmc/01626/step_004399..."
       ]
      },
      {
       "output_type": "stream",
       "stream": "stdout",
       "text": [
        "\n",
        "saved pickled graph"
       ]
      },
      {
       "output_type": "stream",
       "stream": "stdout",
       "text": [
        "\n",
        "step 4400: lp -355.98, accepted arrival_time: 0.042%, coda_decay: 0.078%, coda_height: 0.109%, evdepth: 0.185%, evloc: 0.634%, evloc_big: 0.147%, evmb: 0.947%, evtime: 0.406%, indep_peak: 0.003%, peak_decay: 0.343%, peak_offset: 0.167%, , uatemplates: 0 , events: 1 "
       ]
      },
      {
       "output_type": "stream",
       "stream": "stdout",
       "text": [
        "\n",
        "saving debug dump to /home/dmoore/python/sigvisa/logs/mcmc/01626/step_004409..."
       ]
      },
      {
       "output_type": "stream",
       "stream": "stdout",
       "text": [
        "\n",
        "saved pickled graph"
       ]
      },
      {
       "output_type": "stream",
       "stream": "stdout",
       "text": [
        "\n",
        "step 4410: lp -364.51, accepted arrival_time: 0.042%, coda_decay: 0.078%, coda_height: 0.109%, evdepth: 0.186%, evloc: 0.633%, evloc_big: 0.147%, evmb: 0.947%, evtime: 0.406%, indep_peak: 0.003%, peak_decay: 0.343%, peak_offset: 0.167%, , uatemplates: 0 , events: 1 "
       ]
      },
      {
       "output_type": "stream",
       "stream": "stdout",
       "text": [
        "\n",
        "saving debug dump to /home/dmoore/python/sigvisa/logs/mcmc/01626/step_004419..."
       ]
      },
      {
       "output_type": "stream",
       "stream": "stdout",
       "text": [
        "\n",
        "saved pickled graph"
       ]
      },
      {
       "output_type": "stream",
       "stream": "stdout",
       "text": [
        "\n",
        "step 4420: lp -359.20, accepted arrival_time: 0.042%, coda_decay: 0.079%, coda_height: 0.109%, evdepth: 0.186%, evloc: 0.631%, evloc_big: 0.147%, evmb: 0.948%, evtime: 0.406%, indep_peak: 0.003%, peak_decay: 0.342%, peak_offset: 0.167%, , uatemplates: 0 , events: 1 "
       ]
      },
      {
       "output_type": "stream",
       "stream": "stdout",
       "text": [
        "\n",
        "saving debug dump to /home/dmoore/python/sigvisa/logs/mcmc/01626/step_004429..."
       ]
      },
      {
       "output_type": "stream",
       "stream": "stdout",
       "text": [
        "\n",
        "saved pickled graph"
       ]
      },
      {
       "output_type": "stream",
       "stream": "stdout",
       "text": [
        "\n",
        "step 4430: lp -361.99, accepted arrival_time: 0.042%, coda_decay: 0.079%, coda_height: 0.109%, evdepth: 0.187%, evloc: 0.630%, evloc_big: 0.146%, evmb: 0.948%, evtime: 0.407%, indep_peak: 0.003%, peak_decay: 0.342%, peak_offset: 0.167%, , uatemplates: 0 , events: 1 "
       ]
      },
      {
       "output_type": "stream",
       "stream": "stdout",
       "text": [
        "\n",
        "saving debug dump to /home/dmoore/python/sigvisa/logs/mcmc/01626/step_004439..."
       ]
      },
      {
       "output_type": "stream",
       "stream": "stdout",
       "text": [
        "\n",
        "saved pickled graph"
       ]
      },
      {
       "output_type": "stream",
       "stream": "stdout",
       "text": [
        "\n",
        "step 4440: lp -355.86, accepted arrival_time: 0.042%, coda_decay: 0.078%, coda_height: 0.109%, evdepth: 0.187%, evloc: 0.628%, evloc_big: 0.146%, evmb: 0.948%, evtime: 0.407%, indep_peak: 0.003%, peak_decay: 0.342%, peak_offset: 0.167%, , uatemplates: 0 , events: 1 "
       ]
      },
      {
       "output_type": "stream",
       "stream": "stdout",
       "text": [
        "\n",
        "saving debug dump to /home/dmoore/python/sigvisa/logs/mcmc/01626/step_004449..."
       ]
      },
      {
       "output_type": "stream",
       "stream": "stdout",
       "text": [
        "\n",
        "saved pickled graph"
       ]
      },
      {
       "output_type": "stream",
       "stream": "stdout",
       "text": [
        "\n",
        "step 4450: lp -357.26, accepted arrival_time: 0.042%, coda_decay: 0.078%, coda_height: 0.109%, evdepth: 0.188%, evloc: 0.627%, evloc_big: 0.146%, evmb: 0.948%, evtime: 0.407%, indep_peak: 0.003%, peak_decay: 0.341%, peak_offset: 0.166%, , uatemplates: 0 , events: 1 "
       ]
      },
      {
       "output_type": "stream",
       "stream": "stdout",
       "text": [
        "\n",
        "saving debug dump to /home/dmoore/python/sigvisa/logs/mcmc/01626/step_004459..."
       ]
      },
      {
       "output_type": "stream",
       "stream": "stdout",
       "text": [
        "\n",
        "saved pickled graph"
       ]
      },
      {
       "output_type": "stream",
       "stream": "stdout",
       "text": [
        "\n",
        "step 4460: lp -360.76, accepted arrival_time: 0.042%, coda_decay: 0.078%, coda_height: 0.108%, evdepth: 0.189%, evloc: 0.626%, evloc_big: 0.145%, evmb: 0.948%, evtime: 0.407%, indep_peak: 0.003%, peak_decay: 0.341%, peak_offset: 0.166%, , uatemplates: 0 , events: 1 "
       ]
      },
      {
       "output_type": "stream",
       "stream": "stdout",
       "text": [
        "\n",
        "saving debug dump to /home/dmoore/python/sigvisa/logs/mcmc/01626/step_004469..."
       ]
      },
      {
       "output_type": "stream",
       "stream": "stdout",
       "text": [
        "\n",
        "saved pickled graph"
       ]
      },
      {
       "output_type": "stream",
       "stream": "stdout",
       "text": [
        "\n",
        "step 4470: lp -359.12, accepted arrival_time: 0.042%, coda_decay: 0.079%, coda_height: 0.108%, evdepth: 0.189%, evloc: 0.625%, evloc_big: 0.145%, evmb: 0.948%, evtime: 0.407%, indep_peak: 0.003%, peak_decay: 0.341%, peak_offset: 0.166%, , uatemplates: 0 , events: 1 "
       ]
      },
      {
       "output_type": "stream",
       "stream": "stdout",
       "text": [
        "\n",
        "saving debug dump to /home/dmoore/python/sigvisa/logs/mcmc/01626/step_004479..."
       ]
      },
      {
       "output_type": "stream",
       "stream": "stdout",
       "text": [
        "\n",
        "saved pickled graph"
       ]
      },
      {
       "output_type": "stream",
       "stream": "stdout",
       "text": [
        "\n",
        "step 4480: lp -357.78, accepted arrival_time: 0.042%, coda_decay: 0.078%, coda_height: 0.108%, evdepth: 0.191%, evloc: 0.624%, evloc_big: 0.145%, evmb: 0.948%, evtime: 0.407%, indep_peak: 0.003%, peak_decay: 0.340%, peak_offset: 0.166%, , uatemplates: 0 , events: 1 "
       ]
      },
      {
       "output_type": "stream",
       "stream": "stdout",
       "text": [
        "\n",
        "saving debug dump to /home/dmoore/python/sigvisa/logs/mcmc/01626/step_004489..."
       ]
      },
      {
       "output_type": "stream",
       "stream": "stdout",
       "text": [
        "\n",
        "saved pickled graph"
       ]
      },
      {
       "output_type": "stream",
       "stream": "stdout",
       "text": [
        "\n",
        "step 4490: lp -364.87, accepted arrival_time: 0.042%, coda_decay: 0.079%, coda_height: 0.108%, evdepth: 0.191%, evloc: 0.623%, evloc_big: 0.145%, evmb: 0.948%, evtime: 0.408%, indep_peak: 0.003%, peak_decay: 0.340%, peak_offset: 0.166%, , uatemplates: 0 , events: 1 "
       ]
      },
      {
       "output_type": "stream",
       "stream": "stdout",
       "text": [
        "\n",
        "saving debug dump to /home/dmoore/python/sigvisa/logs/mcmc/01626/step_004499..."
       ]
      },
      {
       "output_type": "stream",
       "stream": "stdout",
       "text": [
        "\n",
        "saved pickled graph"
       ]
      },
      {
       "output_type": "stream",
       "stream": "stdout",
       "text": [
        "\n",
        "step 4500: lp -358.36, accepted arrival_time: 0.042%, coda_decay: 0.078%, coda_height: 0.108%, evdepth: 0.192%, evloc: 0.622%, evloc_big: 0.144%, evmb: 0.948%, evtime: 0.408%, indep_peak: 0.003%, peak_decay: 0.340%, peak_offset: 0.166%, , uatemplates: 0 , events: 1 "
       ]
      },
      {
       "output_type": "stream",
       "stream": "stdout",
       "text": [
        "\n",
        "saving debug dump to /home/dmoore/python/sigvisa/logs/mcmc/01626/step_004509..."
       ]
      },
      {
       "output_type": "stream",
       "stream": "stdout",
       "text": [
        "\n",
        "saved pickled graph"
       ]
      },
      {
       "output_type": "stream",
       "stream": "stdout",
       "text": [
        "\n",
        "step 4510: lp -364.75, accepted arrival_time: 0.042%, coda_decay: 0.079%, coda_height: 0.108%, evdepth: 0.193%, evloc: 0.621%, evloc_big: 0.144%, evmb: 0.948%, evtime: 0.407%, indep_peak: 0.003%, peak_decay: 0.340%, peak_offset: 0.166%, , uatemplates: 0 , events: 1 "
       ]
      },
      {
       "output_type": "stream",
       "stream": "stdout",
       "text": [
        "\n",
        "saving debug dump to /home/dmoore/python/sigvisa/logs/mcmc/01626/step_004519..."
       ]
      },
      {
       "output_type": "stream",
       "stream": "stdout",
       "text": [
        "\n",
        "saved pickled graph"
       ]
      },
      {
       "output_type": "stream",
       "stream": "stdout",
       "text": [
        "\n",
        "step 4520: lp -363.02, accepted arrival_time: 0.042%, coda_decay: 0.079%, coda_height: 0.108%, evdepth: 0.194%, evloc: 0.620%, evloc_big: 0.144%, evmb: 0.948%, evtime: 0.408%, indep_peak: 0.003%, peak_decay: 0.340%, peak_offset: 0.166%, , uatemplates: 0 , events: 1 "
       ]
      },
      {
       "output_type": "stream",
       "stream": "stdout",
       "text": [
        "\n",
        "saving debug dump to /home/dmoore/python/sigvisa/logs/mcmc/01626/step_004529..."
       ]
      },
      {
       "output_type": "stream",
       "stream": "stdout",
       "text": [
        "\n",
        "saved pickled graph"
       ]
      },
      {
       "output_type": "stream",
       "stream": "stdout",
       "text": [
        "\n",
        "step 4530: lp -356.80, accepted arrival_time: 0.042%, coda_decay: 0.079%, coda_height: 0.108%, evdepth: 0.194%, evloc: 0.619%, evloc_big: 0.143%, evmb: 0.948%, evtime: 0.408%, indep_peak: 0.003%, peak_decay: 0.340%, peak_offset: 0.166%, , uatemplates: 0 , events: 1 "
       ]
      },
      {
       "output_type": "stream",
       "stream": "stdout",
       "text": [
        "\n",
        "saving debug dump to /home/dmoore/python/sigvisa/logs/mcmc/01626/step_004539..."
       ]
      },
      {
       "output_type": "stream",
       "stream": "stdout",
       "text": [
        "\n",
        "saved pickled graph"
       ]
      },
      {
       "output_type": "stream",
       "stream": "stdout",
       "text": [
        "\n",
        "step 4540: lp -360.05, accepted arrival_time: 0.042%, coda_decay: 0.078%, coda_height: 0.108%, evdepth: 0.195%, evloc: 0.618%, evloc_big: 0.143%, evmb: 0.948%, evtime: 0.407%, indep_peak: 0.003%, peak_decay: 0.340%, peak_offset: 0.166%, , uatemplates: 0 , events: 1 "
       ]
      },
      {
       "output_type": "stream",
       "stream": "stdout",
       "text": [
        "\n",
        "saving debug dump to /home/dmoore/python/sigvisa/logs/mcmc/01626/step_004549..."
       ]
      },
      {
       "output_type": "stream",
       "stream": "stdout",
       "text": [
        "\n",
        "saved pickled graph"
       ]
      },
      {
       "output_type": "stream",
       "stream": "stdout",
       "text": [
        "\n",
        "step 4550: lp -362.94, accepted arrival_time: 0.042%, coda_decay: 0.078%, coda_height: 0.108%, evdepth: 0.196%, evloc: 0.617%, evloc_big: 0.143%, evmb: 0.948%, evtime: 0.407%, indep_peak: 0.003%, peak_decay: 0.340%, peak_offset: 0.166%, , uatemplates: 0 , events: 1 "
       ]
      },
      {
       "output_type": "stream",
       "stream": "stdout",
       "text": [
        "\n",
        "saving debug dump to /home/dmoore/python/sigvisa/logs/mcmc/01626/step_004559..."
       ]
      },
      {
       "output_type": "stream",
       "stream": "stdout",
       "text": [
        "\n",
        "saved pickled graph"
       ]
      },
      {
       "output_type": "stream",
       "stream": "stdout",
       "text": [
        "\n",
        "step 4560: lp -355.14, accepted arrival_time: 0.042%, coda_decay: 0.078%, coda_height: 0.108%, evdepth: 0.196%, evloc: 0.616%, evloc_big: 0.143%, evmb: 0.948%, evtime: 0.408%, indep_peak: 0.003%, peak_decay: 0.339%, peak_offset: 0.166%, , uatemplates: 0 , events: 1 "
       ]
      },
      {
       "output_type": "stream",
       "stream": "stdout",
       "text": [
        "\n",
        "saving debug dump to /home/dmoore/python/sigvisa/logs/mcmc/01626/step_004569..."
       ]
      },
      {
       "output_type": "stream",
       "stream": "stdout",
       "text": [
        "\n",
        "saved pickled graph"
       ]
      },
      {
       "output_type": "stream",
       "stream": "stdout",
       "text": [
        "\n",
        "step 4570: lp -351.11, accepted arrival_time: 0.042%, coda_decay: 0.078%, coda_height: 0.108%, evdepth: 0.198%, evloc: 0.615%, evloc_big: 0.142%, evmb: 0.948%, evtime: 0.407%, indep_peak: 0.003%, peak_decay: 0.339%, peak_offset: 0.166%, , uatemplates: 0 , events: 1 "
       ]
      },
      {
       "output_type": "stream",
       "stream": "stdout",
       "text": [
        "\n",
        "saving debug dump to /home/dmoore/python/sigvisa/logs/mcmc/01626/step_004579..."
       ]
      },
      {
       "output_type": "stream",
       "stream": "stdout",
       "text": [
        "\n",
        "saved pickled graph"
       ]
      },
      {
       "output_type": "stream",
       "stream": "stdout",
       "text": [
        "\n",
        "step 4580: lp -352.54, accepted arrival_time: 0.042%, coda_decay: 0.078%, coda_height: 0.107%, evdepth: 0.198%, evloc: 0.613%, evloc_big: 0.142%, evmb: 0.948%, evtime: 0.408%, indep_peak: 0.003%, peak_decay: 0.339%, peak_offset: 0.166%, , uatemplates: 0 , events: 1 "
       ]
      },
      {
       "output_type": "stream",
       "stream": "stdout",
       "text": [
        "\n",
        "saving debug dump to /home/dmoore/python/sigvisa/logs/mcmc/01626/step_004589..."
       ]
      },
      {
       "output_type": "stream",
       "stream": "stdout",
       "text": [
        "\n",
        "saved pickled graph"
       ]
      },
      {
       "output_type": "stream",
       "stream": "stdout",
       "text": [
        "\n",
        "step 4590: lp -361.38, accepted arrival_time: 0.042%, coda_decay: 0.078%, coda_height: 0.107%, evdepth: 0.199%, evloc: 0.612%, evloc_big: 0.142%, evmb: 0.948%, evtime: 0.408%, indep_peak: 0.003%, peak_decay: 0.339%, peak_offset: 0.166%, , uatemplates: 0 , events: 1 "
       ]
      },
      {
       "output_type": "stream",
       "stream": "stdout",
       "text": [
        "\n",
        "saving debug dump to /home/dmoore/python/sigvisa/logs/mcmc/01626/step_004599..."
       ]
      },
      {
       "output_type": "stream",
       "stream": "stdout",
       "text": [
        "\n",
        "saved pickled graph"
       ]
      },
      {
       "output_type": "stream",
       "stream": "stdout",
       "text": [
        "\n",
        "step 4600: lp -355.50, accepted arrival_time: 0.042%, coda_decay: 0.078%, coda_height: 0.107%, evdepth: 0.200%, evloc: 0.611%, evloc_big: 0.141%, evmb: 0.948%, evtime: 0.409%, indep_peak: 0.003%, peak_decay: 0.338%, peak_offset: 0.166%, , uatemplates: 0 , events: 1 "
       ]
      },
      {
       "output_type": "stream",
       "stream": "stdout",
       "text": [
        "\n",
        "saving debug dump to /home/dmoore/python/sigvisa/logs/mcmc/01626/step_004609..."
       ]
      },
      {
       "output_type": "stream",
       "stream": "stdout",
       "text": [
        "\n",
        "saved pickled graph"
       ]
      },
      {
       "output_type": "stream",
       "stream": "stdout",
       "text": [
        "\n",
        "step 4610: lp -355.07, accepted arrival_time: 0.042%, coda_decay: 0.078%, coda_height: 0.107%, evdepth: 0.201%, evloc: 0.610%, evloc_big: 0.141%, evmb: 0.948%, evtime: 0.409%, indep_peak: 0.003%, peak_decay: 0.338%, peak_offset: 0.166%, , uatemplates: 0 , events: 1 "
       ]
      },
      {
       "output_type": "stream",
       "stream": "stdout",
       "text": [
        "\n",
        "saving debug dump to /home/dmoore/python/sigvisa/logs/mcmc/01626/step_004619..."
       ]
      },
      {
       "output_type": "stream",
       "stream": "stdout",
       "text": [
        "\n",
        "saved pickled graph"
       ]
      },
      {
       "output_type": "stream",
       "stream": "stdout",
       "text": [
        "\n",
        "step 4620: lp -354.89, accepted arrival_time: 0.042%, coda_decay: 0.078%, coda_height: 0.107%, evdepth: 0.201%, evloc: 0.608%, evloc_big: 0.141%, evmb: 0.948%, evtime: 0.409%, indep_peak: 0.003%, peak_decay: 0.338%, peak_offset: 0.166%, , uatemplates: 0 , events: 1 "
       ]
      },
      {
       "output_type": "stream",
       "stream": "stdout",
       "text": [
        "\n",
        "saving debug dump to /home/dmoore/python/sigvisa/logs/mcmc/01626/step_004629..."
       ]
      },
      {
       "output_type": "stream",
       "stream": "stdout",
       "text": [
        "\n",
        "saved pickled graph"
       ]
      },
      {
       "output_type": "stream",
       "stream": "stdout",
       "text": [
        "\n",
        "step 4630: lp -355.28, accepted arrival_time: 0.042%, coda_decay: 0.078%, coda_height: 0.107%, evdepth: 0.202%, evloc: 0.607%, evloc_big: 0.140%, evmb: 0.948%, evtime: 0.409%, indep_peak: 0.003%, peak_decay: 0.338%, peak_offset: 0.166%, , uatemplates: 0 , events: 1 "
       ]
      },
      {
       "output_type": "stream",
       "stream": "stdout",
       "text": [
        "\n",
        "saving debug dump to /home/dmoore/python/sigvisa/logs/mcmc/01626/step_004639..."
       ]
      },
      {
       "output_type": "stream",
       "stream": "stdout",
       "text": [
        "\n",
        "saved pickled graph"
       ]
      },
      {
       "output_type": "stream",
       "stream": "stdout",
       "text": [
        "\n",
        "step 4640: lp -359.45, accepted arrival_time: 0.042%, coda_decay: 0.078%, coda_height: 0.107%, evdepth: 0.202%, evloc: 0.606%, evloc_big: 0.140%, evmb: 0.949%, evtime: 0.409%, indep_peak: 0.003%, peak_decay: 0.338%, peak_offset: 0.166%, , uatemplates: 0 , events: 1 "
       ]
      },
      {
       "output_type": "stream",
       "stream": "stdout",
       "text": [
        "\n",
        "saving debug dump to /home/dmoore/python/sigvisa/logs/mcmc/01626/step_004649..."
       ]
      },
      {
       "output_type": "stream",
       "stream": "stdout",
       "text": [
        "\n",
        "saved pickled graph"
       ]
      },
      {
       "output_type": "stream",
       "stream": "stdout",
       "text": [
        "\n",
        "step 4650: lp -363.98, accepted arrival_time: 0.042%, coda_decay: 0.078%, coda_height: 0.107%, evdepth: 0.203%, evloc: 0.605%, evloc_big: 0.140%, evmb: 0.948%, evtime: 0.409%, indep_peak: 0.003%, peak_decay: 0.338%, peak_offset: 0.166%, , uatemplates: 0 , events: 1 "
       ]
      },
      {
       "output_type": "stream",
       "stream": "stdout",
       "text": [
        "\n",
        "saving debug dump to /home/dmoore/python/sigvisa/logs/mcmc/01626/step_004659..."
       ]
      },
      {
       "output_type": "stream",
       "stream": "stdout",
       "text": [
        "\n",
        "saved pickled graph"
       ]
      },
      {
       "output_type": "stream",
       "stream": "stdout",
       "text": [
        "\n",
        "step 4660: lp -358.88, accepted arrival_time: 0.042%, coda_decay: 0.078%, coda_height: 0.107%, evdepth: 0.203%, evloc: 0.604%, evloc_big: 0.139%, evmb: 0.948%, evtime: 0.409%, indep_peak: 0.003%, peak_decay: 0.338%, peak_offset: 0.166%, , uatemplates: 0 , events: 1 "
       ]
      },
      {
       "output_type": "stream",
       "stream": "stdout",
       "text": [
        "\n",
        "saving debug dump to /home/dmoore/python/sigvisa/logs/mcmc/01626/step_004669..."
       ]
      },
      {
       "output_type": "stream",
       "stream": "stdout",
       "text": [
        "\n",
        "saved pickled graph"
       ]
      },
      {
       "output_type": "stream",
       "stream": "stdout",
       "text": [
        "\n",
        "step 4670: lp -354.93, accepted arrival_time: 0.042%, coda_decay: 0.078%, coda_height: 0.107%, evdepth: 0.203%, evloc: 0.602%, evloc_big: 0.139%, evmb: 0.948%, evtime: 0.409%, indep_peak: 0.003%, peak_decay: 0.337%, peak_offset: 0.166%, , uatemplates: 0 , events: 1 "
       ]
      },
      {
       "output_type": "stream",
       "stream": "stdout",
       "text": [
        "\n",
        "saving debug dump to /home/dmoore/python/sigvisa/logs/mcmc/01626/step_004679..."
       ]
      },
      {
       "output_type": "stream",
       "stream": "stdout",
       "text": [
        "\n",
        "saved pickled graph"
       ]
      },
      {
       "output_type": "stream",
       "stream": "stdout",
       "text": [
        "\n",
        "step 4680: lp -358.87, accepted arrival_time: 0.042%, coda_decay: 0.078%, coda_height: 0.107%, evdepth: 0.204%, evloc: 0.601%, evloc_big: 0.139%, evmb: 0.948%, evtime: 0.409%, indep_peak: 0.003%, peak_decay: 0.337%, peak_offset: 0.166%, , uatemplates: 0 , events: 1 "
       ]
      },
      {
       "output_type": "stream",
       "stream": "stdout",
       "text": [
        "\n",
        "saving debug dump to /home/dmoore/python/sigvisa/logs/mcmc/01626/step_004689..."
       ]
      },
      {
       "output_type": "stream",
       "stream": "stdout",
       "text": [
        "\n",
        "saved pickled graph"
       ]
      },
      {
       "output_type": "stream",
       "stream": "stdout",
       "text": [
        "\n",
        "step 4690: lp -355.49, accepted arrival_time: 0.042%, coda_decay: 0.078%, coda_height: 0.107%, evdepth: 0.205%, evloc: 0.600%, evloc_big: 0.139%, evmb: 0.948%, evtime: 0.408%, indep_peak: 0.003%, peak_decay: 0.337%, peak_offset: 0.166%, , uatemplates: 0 , events: 1 "
       ]
      },
      {
       "output_type": "stream",
       "stream": "stdout",
       "text": [
        "\n",
        "saving debug dump to /home/dmoore/python/sigvisa/logs/mcmc/01626/step_004699..."
       ]
      },
      {
       "output_type": "stream",
       "stream": "stdout",
       "text": [
        "\n",
        "saved pickled graph"
       ]
      },
      {
       "output_type": "stream",
       "stream": "stdout",
       "text": [
        "\n",
        "step 4700: lp -352.60, accepted arrival_time: 0.042%, coda_decay: 0.078%, coda_height: 0.107%, evdepth: 0.206%, evloc: 0.599%, evloc_big: 0.138%, evmb: 0.948%, evtime: 0.408%, indep_peak: 0.003%, peak_decay: 0.337%, peak_offset: 0.165%, , uatemplates: 0 , events: 1 "
       ]
      },
      {
       "output_type": "stream",
       "stream": "stdout",
       "text": [
        "\n",
        "saving debug dump to /home/dmoore/python/sigvisa/logs/mcmc/01626/step_004709..."
       ]
      },
      {
       "output_type": "stream",
       "stream": "stdout",
       "text": [
        "\n",
        "saved pickled graph"
       ]
      },
      {
       "output_type": "stream",
       "stream": "stdout",
       "text": [
        "\n",
        "step 4710: lp -353.20, accepted arrival_time: 0.042%, coda_decay: 0.077%, coda_height: 0.107%, evdepth: 0.207%, evloc: 0.598%, evloc_big: 0.138%, evmb: 0.948%, evtime: 0.408%, indep_peak: 0.003%, peak_decay: 0.337%, peak_offset: 0.165%, , uatemplates: 0 , events: 1 "
       ]
      },
      {
       "output_type": "stream",
       "stream": "stdout",
       "text": [
        "\n",
        "saving debug dump to /home/dmoore/python/sigvisa/logs/mcmc/01626/step_004719..."
       ]
      },
      {
       "output_type": "stream",
       "stream": "stdout",
       "text": [
        "\n",
        "saved pickled graph"
       ]
      },
      {
       "output_type": "stream",
       "stream": "stdout",
       "text": [
        "\n",
        "step 4720: lp -351.30, accepted arrival_time: 0.042%, coda_decay: 0.077%, coda_height: 0.107%, evdepth: 0.208%, evloc: 0.597%, evloc_big: 0.138%, evmb: 0.948%, evtime: 0.409%, indep_peak: 0.003%, peak_decay: 0.337%, peak_offset: 0.165%, , uatemplates: 0 , events: 1 "
       ]
      },
      {
       "output_type": "stream",
       "stream": "stdout",
       "text": [
        "\n",
        "saving debug dump to /home/dmoore/python/sigvisa/logs/mcmc/01626/step_004729..."
       ]
      },
      {
       "output_type": "stream",
       "stream": "stdout",
       "text": [
        "\n",
        "saved pickled graph"
       ]
      },
      {
       "output_type": "stream",
       "stream": "stdout",
       "text": [
        "\n",
        "step 4730: lp -364.05, accepted arrival_time: 0.042%, coda_decay: 0.078%, coda_height: 0.107%, evdepth: 0.209%, evloc: 0.596%, evloc_big: 0.137%, evmb: 0.948%, evtime: 0.409%, indep_peak: 0.003%, peak_decay: 0.337%, peak_offset: 0.165%, , uatemplates: 0 , events: 1 "
       ]
      },
      {
       "output_type": "stream",
       "stream": "stdout",
       "text": [
        "\n",
        "saving debug dump to /home/dmoore/python/sigvisa/logs/mcmc/01626/step_004739..."
       ]
      },
      {
       "output_type": "stream",
       "stream": "stdout",
       "text": [
        "\n",
        "saved pickled graph"
       ]
      },
      {
       "output_type": "stream",
       "stream": "stdout",
       "text": [
        "\n",
        "step 4740: lp -367.43, accepted arrival_time: 0.042%, coda_decay: 0.078%, coda_height: 0.106%, evdepth: 0.209%, evloc: 0.595%, evloc_big: 0.137%, evmb: 0.948%, evtime: 0.409%, indep_peak: 0.003%, peak_decay: 0.337%, peak_offset: 0.165%, , uatemplates: 0 , events: 1 "
       ]
      },
      {
       "output_type": "stream",
       "stream": "stdout",
       "text": [
        "\n",
        "saving debug dump to /home/dmoore/python/sigvisa/logs/mcmc/01626/step_004749..."
       ]
      },
      {
       "output_type": "stream",
       "stream": "stdout",
       "text": [
        "\n",
        "saved pickled graph"
       ]
      },
      {
       "output_type": "stream",
       "stream": "stdout",
       "text": [
        "\n",
        "step 4750: lp -358.84, accepted arrival_time: 0.042%, coda_decay: 0.078%, coda_height: 0.107%, evdepth: 0.210%, evloc: 0.593%, evloc_big: 0.137%, evmb: 0.948%, evtime: 0.408%, indep_peak: 0.003%, peak_decay: 0.337%, peak_offset: 0.165%, , uatemplates: 0 , events: 1 "
       ]
      },
      {
       "output_type": "stream",
       "stream": "stdout",
       "text": [
        "\n",
        "saving debug dump to /home/dmoore/python/sigvisa/logs/mcmc/01626/step_004759..."
       ]
      },
      {
       "output_type": "stream",
       "stream": "stdout",
       "text": [
        "\n",
        "saved pickled graph"
       ]
      },
      {
       "output_type": "stream",
       "stream": "stdout",
       "text": [
        "\n",
        "step 4760: lp -353.08, accepted arrival_time: 0.042%, coda_decay: 0.078%, coda_height: 0.106%, evdepth: 0.211%, evloc: 0.592%, evloc_big: 0.137%, evmb: 0.948%, evtime: 0.408%, indep_peak: 0.003%, peak_decay: 0.337%, peak_offset: 0.165%, , uatemplates: 0 , events: 1 "
       ]
      },
      {
       "output_type": "stream",
       "stream": "stdout",
       "text": [
        "\n",
        "saving debug dump to /home/dmoore/python/sigvisa/logs/mcmc/01626/step_004769..."
       ]
      },
      {
       "output_type": "stream",
       "stream": "stdout",
       "text": [
        "\n",
        "saved pickled graph"
       ]
      },
      {
       "output_type": "stream",
       "stream": "stdout",
       "text": [
        "\n",
        "step 4770: lp -353.79, accepted arrival_time: 0.042%, coda_decay: 0.078%, coda_height: 0.106%, evdepth: 0.211%, evloc: 0.591%, evloc_big: 0.136%, evmb: 0.948%, evtime: 0.408%, indep_peak: 0.003%, peak_decay: 0.337%, peak_offset: 0.165%, , uatemplates: 0 , events: 1 "
       ]
      },
      {
       "output_type": "stream",
       "stream": "stdout",
       "text": [
        "\n",
        "saving debug dump to /home/dmoore/python/sigvisa/logs/mcmc/01626/step_004779..."
       ]
      },
      {
       "output_type": "stream",
       "stream": "stdout",
       "text": [
        "\n",
        "saved pickled graph"
       ]
      },
      {
       "output_type": "stream",
       "stream": "stdout",
       "text": [
        "\n",
        "step 4780: lp -359.11, accepted arrival_time: 0.042%, coda_decay: 0.078%, coda_height: 0.106%, evdepth: 0.212%, evloc: 0.590%, evloc_big: 0.136%, evmb: 0.949%, evtime: 0.408%, indep_peak: 0.003%, peak_decay: 0.337%, peak_offset: 0.165%, , uatemplates: 0 , events: 1 "
       ]
      },
      {
       "output_type": "stream",
       "stream": "stdout",
       "text": [
        "\n",
        "saving debug dump to /home/dmoore/python/sigvisa/logs/mcmc/01626/step_004789..."
       ]
      },
      {
       "output_type": "stream",
       "stream": "stdout",
       "text": [
        "\n",
        "saved pickled graph"
       ]
      },
      {
       "output_type": "stream",
       "stream": "stdout",
       "text": [
        "\n",
        "step 4790: lp -357.97, accepted arrival_time: 0.042%, coda_decay: 0.077%, coda_height: 0.106%, evdepth: 0.212%, evloc: 0.589%, evloc_big: 0.136%, evmb: 0.949%, evtime: 0.408%, indep_peak: 0.003%, peak_decay: 0.337%, peak_offset: 0.165%, , uatemplates: 0 , events: 1 "
       ]
      },
      {
       "output_type": "stream",
       "stream": "stdout",
       "text": [
        "\n",
        "saving debug dump to /home/dmoore/python/sigvisa/logs/mcmc/01626/step_004799..."
       ]
      },
      {
       "output_type": "stream",
       "stream": "stdout",
       "text": [
        "\n",
        "saved pickled graph"
       ]
      },
      {
       "output_type": "stream",
       "stream": "stdout",
       "text": [
        "\n",
        "step 4800: lp -358.65, accepted arrival_time: 0.042%, coda_decay: 0.077%, coda_height: 0.106%, evdepth: 0.213%, evloc: 0.588%, evloc_big: 0.135%, evmb: 0.948%, evtime: 0.408%, indep_peak: 0.003%, peak_decay: 0.336%, peak_offset: 0.165%, , uatemplates: 0 , events: 1 "
       ]
      },
      {
       "output_type": "stream",
       "stream": "stdout",
       "text": [
        "\n",
        "saving debug dump to /home/dmoore/python/sigvisa/logs/mcmc/01626/step_004809..."
       ]
      },
      {
       "output_type": "stream",
       "stream": "stdout",
       "text": [
        "\n",
        "saved pickled graph"
       ]
      },
      {
       "output_type": "stream",
       "stream": "stdout",
       "text": [
        "\n",
        "step 4810: lp -358.14, accepted arrival_time: 0.042%, coda_decay: 0.077%, coda_height: 0.106%, evdepth: 0.213%, evloc: 0.587%, evloc_big: 0.135%, evmb: 0.948%, evtime: 0.408%, indep_peak: 0.003%, peak_decay: 0.336%, peak_offset: 0.165%, , uatemplates: 0 , events: 1 "
       ]
      },
      {
       "output_type": "stream",
       "stream": "stdout",
       "text": [
        "\n",
        "saving debug dump to /home/dmoore/python/sigvisa/logs/mcmc/01626/step_004819..."
       ]
      },
      {
       "output_type": "stream",
       "stream": "stdout",
       "text": [
        "\n",
        "saved pickled graph"
       ]
      },
      {
       "output_type": "stream",
       "stream": "stdout",
       "text": [
        "\n",
        "step 4820: lp -355.52, accepted arrival_time: 0.042%, coda_decay: 0.077%, coda_height: 0.106%, evdepth: 0.214%, evloc: 0.586%, evloc_big: 0.135%, evmb: 0.948%, evtime: 0.408%, indep_peak: 0.003%, peak_decay: 0.336%, peak_offset: 0.164%, , uatemplates: 0 , events: 1 "
       ]
      },
      {
       "output_type": "stream",
       "stream": "stdout",
       "text": [
        "\n",
        "saving debug dump to /home/dmoore/python/sigvisa/logs/mcmc/01626/step_004829..."
       ]
      },
      {
       "output_type": "stream",
       "stream": "stdout",
       "text": [
        "\n",
        "saved pickled graph"
       ]
      },
      {
       "output_type": "stream",
       "stream": "stdout",
       "text": [
        "\n",
        "step 4830: lp -358.51, accepted arrival_time: 0.042%, coda_decay: 0.077%, coda_height: 0.106%, evdepth: 0.214%, evloc: 0.585%, evloc_big: 0.135%, evmb: 0.948%, evtime: 0.409%, indep_peak: 0.003%, peak_decay: 0.336%, peak_offset: 0.164%, , uatemplates: 0 , events: 1 "
       ]
      },
      {
       "output_type": "stream",
       "stream": "stdout",
       "text": [
        "\n",
        "saving debug dump to /home/dmoore/python/sigvisa/logs/mcmc/01626/step_004839..."
       ]
      },
      {
       "output_type": "stream",
       "stream": "stdout",
       "text": [
        "\n",
        "saved pickled graph"
       ]
      },
      {
       "output_type": "stream",
       "stream": "stdout",
       "text": [
        "\n",
        "step 4840: lp -359.96, accepted arrival_time: 0.042%, coda_decay: 0.077%, coda_height: 0.106%, evdepth: 0.215%, evloc: 0.584%, evloc_big: 0.134%, evmb: 0.948%, evtime: 0.409%, indep_peak: 0.003%, peak_decay: 0.336%, peak_offset: 0.164%, , uatemplates: 0 , events: 1 "
       ]
      },
      {
       "output_type": "stream",
       "stream": "stdout",
       "text": [
        "\n",
        "saving debug dump to /home/dmoore/python/sigvisa/logs/mcmc/01626/step_004849..."
       ]
      },
      {
       "output_type": "stream",
       "stream": "stdout",
       "text": [
        "\n",
        "saved pickled graph"
       ]
      },
      {
       "output_type": "stream",
       "stream": "stdout",
       "text": [
        "\n",
        "step 4850: lp -355.81, accepted arrival_time: 0.042%, coda_decay: 0.077%, coda_height: 0.106%, evdepth: 0.216%, evloc: 0.583%, evloc_big: 0.134%, evmb: 0.948%, evtime: 0.409%, indep_peak: 0.003%, peak_decay: 0.335%, peak_offset: 0.164%, , uatemplates: 0 , events: 1 "
       ]
      },
      {
       "output_type": "stream",
       "stream": "stdout",
       "text": [
        "\n",
        "saving debug dump to /home/dmoore/python/sigvisa/logs/mcmc/01626/step_004859..."
       ]
      },
      {
       "output_type": "stream",
       "stream": "stdout",
       "text": [
        "\n",
        "saved pickled graph"
       ]
      },
      {
       "output_type": "stream",
       "stream": "stdout",
       "text": [
        "\n",
        "step 4860: lp -357.33, accepted arrival_time: 0.042%, coda_decay: 0.077%, coda_height: 0.105%, evdepth: 0.216%, evloc: 0.582%, evloc_big: 0.134%, evmb: 0.948%, evtime: 0.409%, indep_peak: 0.003%, peak_decay: 0.335%, peak_offset: 0.164%, , uatemplates: 0 , events: 1 "
       ]
      },
      {
       "output_type": "stream",
       "stream": "stdout",
       "text": [
        "\n",
        "saving debug dump to /home/dmoore/python/sigvisa/logs/mcmc/01626/step_004869..."
       ]
      },
      {
       "output_type": "stream",
       "stream": "stdout",
       "text": [
        "\n",
        "saved pickled graph"
       ]
      },
      {
       "output_type": "stream",
       "stream": "stdout",
       "text": [
        "\n",
        "step 4870: lp -358.14, accepted arrival_time: 0.042%, coda_decay: 0.077%, coda_height: 0.105%, evdepth: 0.217%, evloc: 0.581%, evloc_big: 0.133%, evmb: 0.947%, evtime: 0.410%, indep_peak: 0.003%, peak_decay: 0.335%, peak_offset: 0.164%, , uatemplates: 0 , events: 1 "
       ]
      },
      {
       "output_type": "stream",
       "stream": "stdout",
       "text": [
        "\n",
        "saving debug dump to /home/dmoore/python/sigvisa/logs/mcmc/01626/step_004879..."
       ]
      },
      {
       "output_type": "stream",
       "stream": "stdout",
       "text": [
        "\n",
        "saved pickled graph"
       ]
      },
      {
       "output_type": "stream",
       "stream": "stdout",
       "text": [
        "\n",
        "step 4880: lp -360.79, accepted arrival_time: 0.042%, coda_decay: 0.077%, coda_height: 0.105%, evdepth: 0.217%, evloc: 0.580%, evloc_big: 0.133%, evmb: 0.947%, evtime: 0.410%, indep_peak: 0.003%, peak_decay: 0.335%, peak_offset: 0.164%, , uatemplates: 0 , events: 1 "
       ]
      },
      {
       "output_type": "stream",
       "stream": "stdout",
       "text": [
        "\n",
        "saving debug dump to /home/dmoore/python/sigvisa/logs/mcmc/01626/step_004889..."
       ]
      },
      {
       "output_type": "stream",
       "stream": "stdout",
       "text": [
        "\n",
        "saved pickled graph"
       ]
      },
      {
       "output_type": "stream",
       "stream": "stdout",
       "text": [
        "\n",
        "step 4890: lp -356.58, accepted arrival_time: 0.042%, coda_decay: 0.077%, coda_height: 0.105%, evdepth: 0.218%, evloc: 0.579%, evloc_big: 0.133%, evmb: 0.947%, evtime: 0.410%, indep_peak: 0.003%, peak_decay: 0.335%, peak_offset: 0.164%, , uatemplates: 0 , events: 1 "
       ]
      },
      {
       "output_type": "stream",
       "stream": "stdout",
       "text": [
        "\n",
        "saving debug dump to /home/dmoore/python/sigvisa/logs/mcmc/01626/step_004899..."
       ]
      },
      {
       "output_type": "stream",
       "stream": "stdout",
       "text": [
        "\n",
        "saved pickled graph"
       ]
      },
      {
       "output_type": "stream",
       "stream": "stdout",
       "text": [
        "\n",
        "step 4900: lp -358.72, accepted arrival_time: 0.042%, coda_decay: 0.077%, coda_height: 0.105%, evdepth: 0.219%, evloc: 0.578%, evloc_big: 0.133%, evmb: 0.947%, evtime: 0.411%, indep_peak: 0.003%, peak_decay: 0.335%, peak_offset: 0.164%, , uatemplates: 0 , events: 1 "
       ]
      },
      {
       "output_type": "stream",
       "stream": "stdout",
       "text": [
        "\n",
        "saving debug dump to /home/dmoore/python/sigvisa/logs/mcmc/01626/step_004909..."
       ]
      },
      {
       "output_type": "stream",
       "stream": "stdout",
       "text": [
        "\n",
        "saved pickled graph"
       ]
      },
      {
       "output_type": "stream",
       "stream": "stdout",
       "text": [
        "\n",
        "step 4910: lp -356.80, accepted arrival_time: 0.042%, coda_decay: 0.077%, coda_height: 0.105%, evdepth: 0.220%, evloc: 0.577%, evloc_big: 0.133%, evmb: 0.947%, evtime: 0.410%, indep_peak: 0.003%, peak_decay: 0.334%, peak_offset: 0.164%, , uatemplates: 0 , events: 1 "
       ]
      },
      {
       "output_type": "stream",
       "stream": "stdout",
       "text": [
        "\n",
        "saving debug dump to /home/dmoore/python/sigvisa/logs/mcmc/01626/step_004919..."
       ]
      },
      {
       "output_type": "stream",
       "stream": "stdout",
       "text": [
        "\n",
        "saved pickled graph"
       ]
      },
      {
       "output_type": "stream",
       "stream": "stdout",
       "text": [
        "\n",
        "step 4920: lp -357.71, accepted arrival_time: 0.042%, coda_decay: 0.077%, coda_height: 0.105%, evdepth: 0.221%, evloc: 0.576%, evloc_big: 0.132%, evmb: 0.947%, evtime: 0.411%, indep_peak: 0.003%, peak_decay: 0.334%, peak_offset: 0.164%, , uatemplates: 0 , events: 1 "
       ]
      },
      {
       "output_type": "stream",
       "stream": "stdout",
       "text": [
        "\n",
        "saving debug dump to /home/dmoore/python/sigvisa/logs/mcmc/01626/step_004929..."
       ]
      },
      {
       "output_type": "stream",
       "stream": "stdout",
       "text": [
        "\n",
        "saved pickled graph"
       ]
      },
      {
       "output_type": "stream",
       "stream": "stdout",
       "text": [
        "\n",
        "step 4930: lp -355.67, accepted arrival_time: 0.042%, coda_decay: 0.077%, coda_height: 0.105%, evdepth: 0.222%, evloc: 0.575%, evloc_big: 0.132%, evmb: 0.947%, evtime: 0.411%, indep_peak: 0.003%, peak_decay: 0.334%, peak_offset: 0.164%, , uatemplates: 0 , events: 1 "
       ]
      },
      {
       "output_type": "stream",
       "stream": "stdout",
       "text": [
        "\n",
        "saving debug dump to /home/dmoore/python/sigvisa/logs/mcmc/01626/step_004939..."
       ]
      },
      {
       "output_type": "stream",
       "stream": "stdout",
       "text": [
        "\n",
        "saved pickled graph"
       ]
      },
      {
       "output_type": "stream",
       "stream": "stdout",
       "text": [
        "\n",
        "step 4940: lp -361.87, accepted arrival_time: 0.042%, coda_decay: 0.077%, coda_height: 0.105%, evdepth: 0.222%, evloc: 0.574%, evloc_big: 0.132%, evmb: 0.947%, evtime: 0.411%, indep_peak: 0.003%, peak_decay: 0.333%, peak_offset: 0.164%, , uatemplates: 0 , events: 1 "
       ]
      },
      {
       "output_type": "stream",
       "stream": "stdout",
       "text": [
        "\n",
        "saving debug dump to /home/dmoore/python/sigvisa/logs/mcmc/01626/step_004949..."
       ]
      },
      {
       "output_type": "stream",
       "stream": "stdout",
       "text": [
        "\n",
        "saved pickled graph"
       ]
      },
      {
       "output_type": "stream",
       "stream": "stdout",
       "text": [
        "\n",
        "step 4950: lp -358.82, accepted arrival_time: 0.042%, coda_decay: 0.077%, coda_height: 0.105%, evdepth: 0.223%, evloc: 0.573%, evloc_big: 0.131%, evmb: 0.947%, evtime: 0.411%, indep_peak: 0.003%, peak_decay: 0.333%, peak_offset: 0.164%, , uatemplates: 0 , events: 1 "
       ]
      },
      {
       "output_type": "stream",
       "stream": "stdout",
       "text": [
        "\n",
        "saving debug dump to /home/dmoore/python/sigvisa/logs/mcmc/01626/step_004959..."
       ]
      },
      {
       "output_type": "stream",
       "stream": "stdout",
       "text": [
        "\n",
        "saved pickled graph"
       ]
      },
      {
       "output_type": "stream",
       "stream": "stdout",
       "text": [
        "\n",
        "step 4960: lp -363.90, accepted arrival_time: 0.042%, coda_decay: 0.077%, coda_height: 0.105%, evdepth: 0.224%, evloc: 0.571%, evloc_big: 0.131%, evmb: 0.947%, evtime: 0.412%, indep_peak: 0.003%, peak_decay: 0.333%, peak_offset: 0.164%, , uatemplates: 0 , events: 1 "
       ]
      },
      {
       "output_type": "stream",
       "stream": "stdout",
       "text": [
        "\n",
        "saving debug dump to /home/dmoore/python/sigvisa/logs/mcmc/01626/step_004969..."
       ]
      },
      {
       "output_type": "stream",
       "stream": "stdout",
       "text": [
        "\n",
        "saved pickled graph"
       ]
      },
      {
       "output_type": "stream",
       "stream": "stdout",
       "text": [
        "\n",
        "step 4970: lp -365.14, accepted arrival_time: 0.042%, coda_decay: 0.077%, coda_height: 0.105%, evdepth: 0.224%, evloc: 0.571%, evloc_big: 0.131%, evmb: 0.947%, evtime: 0.412%, indep_peak: 0.003%, peak_decay: 0.333%, peak_offset: 0.164%, , uatemplates: 0 , events: 1 "
       ]
      },
      {
       "output_type": "stream",
       "stream": "stdout",
       "text": [
        "\n",
        "saving debug dump to /home/dmoore/python/sigvisa/logs/mcmc/01626/step_004979..."
       ]
      },
      {
       "output_type": "stream",
       "stream": "stdout",
       "text": [
        "\n",
        "saved pickled graph"
       ]
      },
      {
       "output_type": "stream",
       "stream": "stdout",
       "text": [
        "\n",
        "step 4980: lp -358.36, accepted arrival_time: 0.042%, coda_decay: 0.077%, coda_height: 0.105%, evdepth: 0.225%, evloc: 0.569%, evloc_big: 0.131%, evmb: 0.947%, evtime: 0.412%, indep_peak: 0.003%, peak_decay: 0.333%, peak_offset: 0.164%, , uatemplates: 0 , events: 1 "
       ]
      },
      {
       "output_type": "stream",
       "stream": "stdout",
       "text": [
        "\n",
        "saving debug dump to /home/dmoore/python/sigvisa/logs/mcmc/01626/step_004989..."
       ]
      },
      {
       "output_type": "stream",
       "stream": "stdout",
       "text": [
        "\n",
        "saved pickled graph"
       ]
      },
      {
       "output_type": "stream",
       "stream": "stdout",
       "text": [
        "\n",
        "step 4990: lp -361.82, accepted arrival_time: 0.042%, coda_decay: 0.077%, coda_height: 0.105%, evdepth: 0.225%, evloc: 0.568%, evloc_big: 0.130%, evmb: 0.947%, evtime: 0.412%, indep_peak: 0.003%, peak_decay: 0.332%, peak_offset: 0.164%, , uatemplates: 0 , events: 1 "
       ]
      },
      {
       "output_type": "stream",
       "stream": "stdout",
       "text": [
        "\n",
        "saving debug dump to /home/dmoore/python/sigvisa/logs/mcmc/01626/step_004999..."
       ]
      },
      {
       "output_type": "stream",
       "stream": "stdout",
       "text": [
        "\n",
        "saved pickled graph"
       ]
      },
      {
       "output_type": "stream",
       "stream": "stdout",
       "text": [
        "\n"
       ]
      }
     ],
     "prompt_number": 8
    },
    {
     "cell_type": "code",
     "collapsed": false,
     "input": [
      "print gpcov.tree_params()"
     ],
     "language": "python",
     "metadata": {},
     "outputs": [
      {
       "output_type": "stream",
       "stream": "stdout",
       "text": [
        "('lld', array([ 40.,   5.]), 'compact2', array([ 0.7]))\n"
       ]
      }
     ],
     "prompt_number": 4
    },
    {
     "cell_type": "code",
     "collapsed": false,
     "input": [
      "\"\"\"\n",
      "Now let's try to locate the doublet.\n",
      "First we could imagine a pure-template model with no repeatable wiggles. (but we do need to account for wiggle variance.)\n",
      "How to create my own models?\n",
      "It's easy to train GPs for each coef and param at each station.\n",
      "Can I force the model to use them?\n",
      "  - I think I'd need to overwrite \"get_param_model_id\" in SigvisaGraph. My non-DB models could have negative ids.\n",
      "  - but then I also need to replace or augment load_modelid from train_param_common. \n",
      "  \n",
      "Alternately I could write these to the DB in some way that they *do* have modelids, but would never be loaded by a naive SQL search. \n",
      "\"\"\"\n",
      "from sigvisa.models.spatial_regression.SparseGP import SparseGP\n",
      "\n",
      "trainX = X[:n_evs, :].copy()\n",
      "train_gps = dict()\n",
      "models = []\n",
      "modelid = 0\n",
      "for sta in stas:\n",
      "    train_gps[sta] = dict()\n",
      "    for param in tm_params[sta].keys():\n",
      "        y = tm_params[sta][param][:n_evs]\n",
      "        mean = param_means[sta][param]\n",
      "        gp = SparseGP(trainX, y, noise_var=param_noise_var, cov_main=gpcov, ymean=mean, sta=sta)        \n",
      "        train_gps[sta][param] = -modelid\n",
      "        models.append(gp)\n",
      "        modelid += 1\n",
      "        \n",
      "    for i in range(true_coefs[sta].shape[1]):\n",
      "        y = true_coefs[sta][:n_evs, i]\n",
      "        gp = SparseGP(trainX, y, noise_var=coef_noise_var, cov_main=gpcov, sta=sta)\n",
      "        train_gps[sta][i] = -modelid\n",
      "        models.append(gp)\n",
      "        modelid += 1\n",
      "#print \n",
      "#print true_coefs[sta]\n",
      "#print tm_params[sta]"
     ],
     "language": "python",
     "metadata": {},
     "outputs": [
      {
       "output_type": "stream",
       "stream": "stdout",
       "text": [
        "\n"
       ]
      }
     ],
     "prompt_number": 31
    },
    {
     "cell_type": "code",
     "collapsed": false,
     "input": [
      "def get_param_model_id_shim(runids, sta, phase, model_type, param, template_shape, chan=None, band=None):\n",
      "    if param.startswith(\"db4\"):\n",
      "        param_num = int(param.split(\"_\")[-1])\n",
      "        return train_gps[sta][param_num]\n",
      "    return train_gps[sta][param]\n",
      "    \n",
      "def load_modelid_shim(modelid, **kwargs):\n",
      "    return models[-modelid]"
     ],
     "language": "python",
     "metadata": {},
     "outputs": [],
     "prompt_number": 32
    },
    {
     "cell_type": "code",
     "collapsed": false,
     "input": [
      "print models[-train_gps[\"CM16\"]['amp_transfer']].predict(ev_doublet)\n",
      "print models[-train_gps[\"CM16\"]['amp_transfer']].variance(ev_doublet)\n",
      "print tm_params[\"CM16\"]['amp_transfer'][n_evs]"
     ],
     "language": "python",
     "metadata": {},
     "outputs": [
      {
       "output_type": "stream",
       "stream": "stdout",
       "text": [
        "3.37329633641\n",
        "[ 0.11335767]\n",
        "3.30737002596\n"
       ]
      }
     ],
     "prompt_number": 33
    },
    {
     "cell_type": "code",
     "collapsed": false,
     "input": [
      "def visualize(wn, variance=False):\n",
      "    wn._parent_values()\n",
      "    N=1000\n",
      "    plt.figure(figsize=(10,5))\n",
      "    v = wn.get_value()\n",
      "    plot(v.data[:N], color=\"black\", lw=1)\n",
      "    #for i in range(5):\n",
      "        #wn.parent_sample()\n",
      "    #    plot(wn.get_value().data)\n",
      "    mobs=wn.tssm.mean_obs(1000)\n",
      "    vobs=wn.tssm.obs_var(1000)\n",
      "    plot(mobs, c=\"green\", lw=2, label=\"predicted\")\n",
      "    if variance:\n",
      "        plot(mobs+2*np.sqrt(vobs), c=\"red\", label=\"2 stddev\")\n",
      "        plot(mobs-2*np.sqrt(vobs), c=\"red\")\n",
      "    print wn.log_p()\n",
      "    legend()"
     ],
     "language": "python",
     "metadata": {},
     "outputs": [],
     "prompt_number": 5
    },
    {
     "cell_type": "code",
     "collapsed": false,
     "input": [],
     "language": "python",
     "metadata": {},
     "outputs": [],
     "prompt_number": 41
    },
    {
     "cell_type": "code",
     "collapsed": false,
     "input": [],
     "language": "python",
     "metadata": {},
     "outputs": [],
     "prompt_number": 45
    },
    {
     "cell_type": "code",
     "collapsed": false,
     "input": [
      "inferred_ev = sg.get_event(1)\n",
      "print inferred_ev\n",
      "print sw.ev_doublet\n",
      "#print ev_doublet_base\n",
      "#print ev_doublet_init\n",
      "\n",
      "for wn in wns.values():\n",
      "    visualize(wn)"
     ],
     "language": "python",
     "metadata": {},
     "outputs": [
      {
       "output_type": "stream",
       "stream": "stdout",
       "text": [
        "evid None, loc 129.51 E 4.08 S, depth 5.3km, time 1240246022.9, mb 4.5, natural source\n",
        "evid None, loc 129.42 E 4.13 S, depth 0.0km, time 1240246022.5, mb 4.4, natural source\n",
        "386.355294474"
       ]
      },
      {
       "output_type": "stream",
       "stream": "stdout",
       "text": [
        "\n",
        "853.686774057"
       ]
      },
      {
       "output_type": "stream",
       "stream": "stdout",
       "text": [
        "\n",
        "-356.376271492"
       ]
      },
      {
       "output_type": "stream",
       "stream": "stdout",
       "text": [
        "\n",
        "1119.90700343"
       ]
      },
      {
       "output_type": "stream",
       "stream": "stdout",
       "text": [
        "\n",
        "-2528.80808815"
       ]
      },
      {
       "output_type": "stream",
       "stream": "stdout",
       "text": [
        "\n"
       ]
      },
      {
       "metadata": {},
       "output_type": "display_data",
       "png": "[encoded data removed]",
       "text": [
        "<matplotlib.figure.Figure at 0x6af0890>"
       ]
      },
      {
       "metadata": {},
       "output_type": "display_data",
       "png": "[encoded data removed]",
       "text": [
        "<matplotlib.figure.Figure at 0x5cd5310>"
       ]
      },
      {
       "metadata": {},
       "output_type": "display_data",
       "png": "[encoded data removed]",
       "text": [
        "<matplotlib.figure.Figure at 0x691cf50>"
       ]
      },
      {
       "metadata": {},
       "output_type": "display_data",
       "png": "[encoded data removed]",
       "text": [
        "<matplotlib.figure.Figure at 0x6ae3a10>"
       ]
      },
      {
       "metadata": {},
       "output_type": "display_data",
       "png": "[encoded data removed]",
       "text": [
        "<matplotlib.figure.Figure at 0x6a7e8d0>"
       ]
      }
     ],
     "prompt_number": 8
    },
    {
     "cell_type": "code",
     "collapsed": false,
     "input": [],
     "language": "python",
     "metadata": {},
     "outputs": []
    }
   ],
   "metadata": {}
  }
 ]
}