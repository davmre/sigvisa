{
 "metadata": {
  "name": "cs derivatives"
 },
 "nbformat": 3,
 "nbformat_minor": 0,
 "worksheets": [
  {
   "cells": [
    {
     "cell_type": "code",
     "collapsed": false,
     "input": [
      "def w_compact_q2(r, variance, j):\n",
      "  d = 1.0 - r\n",
      "  if d <= 0.0: \n",
      "    return 0.0\n",
      "\n",
      "  poly = ((j*j + 4*j + 3)*r*r + (3*j + 6)*r + 3)/3.0\n",
      "  return variance * (d**(j+2)) * poly\n",
      "\n",
      "\n",
      "def w_compact_q2_deriv(i, p1, p2,  variance, j, scales, dim):\n",
      "\n",
      "  sqd = 0;\n",
      "  diff = 0;\n",
      "  for j in range(dim):\n",
      "    diff = (p1[j] - p2[j]) / scales[j]\n",
      "    sqd += (diff * diff)\n",
      "\n",
      "  r = sqrt(sqd);\n",
      "  d = 1.0 - r;\n",
      "  if (d <= 0.0):\n",
      "    return 0.0;\n",
      "\n",
      "\n",
      "  poly = ((j*j + 4*j + 3)*r*r + (3*j + 6)*r + 3)/3.0\n",
      "\n",
      "  if (i==0):\n",
      "    return (d**(j+2))*poly;\n",
      "  else:\n",
      "    dpoly_dr = ((2*j*j + 8*j + 6.)*r + 3*j + 6.) / 3.0;\n",
      "    dk_dr = variance * (pow(d, j+2)*dpoly_dr - (j+2)*pow(d, j+1) * poly)\n",
      "    diff = (p1[i-1] - p2[i-1]) / scales[i-1]\n",
      "    dr_dscalesi = - diff * diff / (scales1[i-1] * r)\n",
      "    return dk_dr * dr_dscalesi;\n",
      "\n",
      "\n",
      "def euclidean_dist(p1, p2, scales):\n",
      "    return np.linalg.norm((p1-p2)/scales, 2)\n",
      "\n",
      "points = np.loadtxt(\"papers/product_tree/datasets/wiggle/wiggle15_X.txt\", skiprows=1, delimiter=\",\")\n"
     ],
     "language": "python",
     "metadata": {},
     "outputs": [],
     "prompt_number": 8
    },
    {
     "cell_type": "code",
     "collapsed": false,
     "input": [
      "p1= np.array(points[0:1,:], copy=True)\n",
      "p2= np.array(points[1:2,:], copy=True)\n",
      "\n",
      "print p1, p2\n",
      "eps = 1e-4\n",
      "scales1 = np.array((1.0, 1.0, 1.0))\n",
      "scales2 = np.array((1.0, 1.0+eps, 1.0))\n",
      "d1 = euclidean_dist(p1, p2, scales1)\n",
      "d2 = euclidean_dist(p1, p2, scales2)\n",
      "\n",
      "dr_scales = (d2-d1)/eps\n",
      "print dscales"
     ],
     "language": "python",
     "metadata": {},
     "outputs": [
      {
       "output_type": "stream",
       "stream": "stdout",
       "text": [
        "[[-179.14316457  -54.771025      0.        ]] [[-178.9602369  -54.795524     0.       ]]\n",
        "-0.00325156327335\n"
       ]
      }
     ],
     "prompt_number": 13
    },
    {
     "cell_type": "code",
     "collapsed": false,
     "input": [
      "\n",
      "r= np.sqrt(np.sum(((p1 - p2)/scales1)**2))\n",
      "print r\n",
      "print d1\n",
      "i=2\n",
      "diff = (p1[0,i-1] - p2[0,i-1]) / scales1[i-1]\n",
      "dr_dscalesi = - diff * diff / (scales1[i-1] * r)\n",
      "\n",
      "print dr_dscalesi"
     ],
     "language": "python",
     "metadata": {},
     "outputs": [
      {
       "output_type": "stream",
       "stream": "stdout",
       "text": [
        "0.184560920708\n",
        "0.184560920708\n",
        "-0.00325204815135\n"
       ]
      }
     ],
     "prompt_number": 19
    },
    {
     "cell_type": "code",
     "collapsed": false,
     "input": [],
     "language": "python",
     "metadata": {},
     "outputs": []
    }
   ],
   "metadata": {}
  }
 ]
}