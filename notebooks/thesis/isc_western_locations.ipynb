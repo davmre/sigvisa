{
 "cells": [
  {
   "cell_type": "markdown",
   "metadata": {},
   "source": [
    "# Regional network (ISC) locations of Western US events"
   ]
  },
  {
   "cell_type": "code",
   "execution_count": 1,
   "metadata": {
    "collapsed": false
   },
   "outputs": [
    {
     "name": "stdout",
     "output_type": "stream",
     "text": [
      "Populating the interactive namespace from numpy and matplotlib\n"
     ]
    }
   ],
   "source": [
    "%pylab inline\n",
    "import requests"
   ]
  },
  {
   "cell_type": "markdown",
   "metadata": {},
   "source": [
    "Query the IRIS server for events with lon (-126, 100), lat (33, 49), between Feb 1 2006 and Mar 31 2008:"
   ]
  },
  {
   "cell_type": "code",
   "execution_count": 5,
   "metadata": {
    "collapsed": false
   },
   "outputs": [
    {
     "ename": "IOError",
     "evalue": "[Errno 2] No such file or directory: 'western_isc_csvpage'",
     "output_type": "error",
     "traceback": [
      "\u001b[1;31m---------------------------------------------------------------------------\u001b[0m",
      "\u001b[1;31mIOError\u001b[0m                                   Traceback (most recent call last)",
      "\u001b[1;32m<ipython-input-5-47911cb05a35>\u001b[0m in \u001b[0;36m<module>\u001b[1;34m()\u001b[0m\n\u001b[0;32m     13\u001b[0m \u001b[1;32mwith\u001b[0m \u001b[0mopen\u001b[0m\u001b[1;33m(\u001b[0m\u001b[1;34m\"western_isc_csvpage\"\u001b[0m\u001b[1;33m,\u001b[0m \u001b[1;34m'w'\u001b[0m\u001b[1;33m)\u001b[0m \u001b[1;32mas\u001b[0m \u001b[0mf\u001b[0m\u001b[1;33m:\u001b[0m\u001b[1;33m\u001b[0m\u001b[0m\n\u001b[0;32m     14\u001b[0m     f.write(csvpage)\"\"\"\n\u001b[1;32m---> 15\u001b[1;33m \u001b[1;32mwith\u001b[0m \u001b[0mopen\u001b[0m\u001b[1;33m(\u001b[0m\u001b[1;34m\"western_isc_csvpage\"\u001b[0m\u001b[1;33m,\u001b[0m \u001b[1;34m'r'\u001b[0m\u001b[1;33m)\u001b[0m \u001b[1;32mas\u001b[0m \u001b[0mf\u001b[0m\u001b[1;33m:\u001b[0m\u001b[1;33m\u001b[0m\u001b[0m\n\u001b[0m\u001b[0;32m     16\u001b[0m     \u001b[0mcsvpage\u001b[0m \u001b[1;33m=\u001b[0m \u001b[0mf\u001b[0m\u001b[1;33m.\u001b[0m\u001b[0mread\u001b[0m\u001b[1;33m(\u001b[0m\u001b[1;33m)\u001b[0m\u001b[1;33m\u001b[0m\u001b[0m\n",
      "\u001b[1;31mIOError\u001b[0m: [Errno 2] No such file or directory: 'western_isc_csvpage'"
     ]
    }
   ],
   "source": [
    "\"\"\"\n",
    "url = \"http://isc-mirror.iris.washington.edu/cgi-bin/web-db-v4?request=COMPREHENSIVE&out_format=ISF&searchshape=RECT&bot_lat=33&top_lat=49&left_lon=-126&right_lon=-100&start_year=2006&start_month=2&start_day=1&start_time=00%3A00%3A00&end_year=2008&end_month=3&end_day=31&end_time=00%3A00%3A00&include_magnitudes=on\"\n",
    "r = requests.get(url)\n",
    "with open(\"western_isc_page\", 'w') as f:\n",
    "    f.write(r.content)\n",
    "with open(\"western_isc_page\", 'r') as f:\n",
    "    page = f.read()\n",
    "    \n",
    "idx1 = page.index(\"<pre>\")+6\n",
    "idx2 = page.index(\"STOP\")\n",
    "csvpage = page[idx1:idx2]\n",
    "\n",
    "with open(\"western_isc_csvpage\", 'w') as f:\n",
    "    f.write(csvpage)\"\"\"\n",
    "with open(\"western_isc_csvpage\", 'r') as f:\n",
    "    csvpage = f.read()"
   ]
  },
  {
   "cell_type": "code",
   "execution_count": 8,
   "metadata": {
    "collapsed": false
   },
   "outputs": [
    {
     "name": "stdout",
     "output_type": "stream",
     "text": [
      "2325\n",
      "2006/02/03 01:47:46.18   0.28 0.961  47.9736 -122.4078 3.322 1.992  98  20.3  3.41  125   96  35   0.29  68.02 m i fe ISCJB      9954452\n",
      "2006/02/03 01:47:46.73        0.220  47.9508 -122.3948   0.1            33.0         63   63  52   0.05               PNSN       7870279\n",
      "2006/02/03 01:47:46.73        0.430  47.9510 -122.3945                  33.0f        24   19                       fe PGC        8224793\n",
      "2006/02/03 01:47:47.00f              47.9500 -122.3990f                 28.8f                 59   0.48  15.22     fe NEIC       9814732\n",
      "2006/02/03 01:47:48.55   3.96 0.780  47.8014 -122.1905  29.3  15.7 124  34.8  47.1    7      147   3.43  68.18     uk IDC        8217342\n",
      "2006/02/03 01:47:46.46   0.40 0.948  47.9709 -122.4313 3.210 2.139  90  17.6  3.36  125   96  36   0.30  68.03 m i fe ISC        9824363\n",
      " (#PRIME)\n",
      "mb     3.4        3 ISCJB      9954452\n",
      "MD     3.3          PNSN       7870279\n",
      "ML     3.4 0.3   27 PGC        8224793\n",
      "MD     3.3          SEA        8224793\n",
      "MD     3.6          SEA        9814732\n",
      "mb     3.2 0.2    3 IDC        8217342\n",
      "mb1    3.4 0.1    5 IDC        8217342\n",
      "mb1mx  3.1 0.1   23 IDC        8217342\n",
      "mbtmp  3.3 0.2    5 IDC        8217342\n",
      "ML     3.3 0.2    2 IDC        8217342\n",
      "mb     3.4        3 ISC        9824363\n"
     ]
    }
   ],
   "source": [
    "evs = csvpage.split(\"\\n\\n\")[:-1]\n",
    "print len(evs)\n",
    "print evs[1]"
   ]
  },
  {
   "cell_type": "code",
   "execution_count": 2,
   "metadata": {
    "collapsed": false
   },
   "outputs": [],
   "source": [
    "from datetime import datetime\n",
    "import calendar \n",
    "from collections import defaultdict\n",
    "TIMESTAMP_COL, TERR_COL, TRMS_COL, LON_COL, LAT_COL, SMAJ_COL, SMIN_COL, STRIKE_COL, DEPTH_COL, DERR_COL, METHOD_COL, SOURCE_COL, ISCID_COL, N_ISC_COLS = range(14)\n",
    "def ev_from_line(line):\n",
    "    evdate = line[:10]\n",
    "    yr = int(evdate[:4])\n",
    "    mo = int(evdate[5:7])\n",
    "    day = int(evdate[8:])\n",
    "\n",
    "    evtime = line[11:22]\n",
    "    hr = int(evtime[:2])\n",
    "    mn = int(evtime[3:5])\n",
    "    ss = float(evtime[6:])\n",
    "    s = int(ss)\n",
    "    ms = float(ss - s)\n",
    "\n",
    "    dt = datetime(yr, mo, day, hr, mn, s)\n",
    "    ts = calendar.timegm(dt.timetuple()) + ms\n",
    "\n",
    "\n",
    "    try:\n",
    "        time_err = float(line[24:29])\n",
    "    except:\n",
    "        time_err = -1.0\n",
    "\n",
    "    try:\n",
    "        time_rms = float(line[30:35])\n",
    "    except:\n",
    "        time_rms = -1.0\n",
    "        \n",
    "    lat = float(line[36:44])\n",
    "    lon = float(line[45:54])\n",
    "\n",
    "    try:\n",
    "        smaj = float(line[55:60])\n",
    "        smin = float(line[61:66])\n",
    "        strike = int(line[67:70])\n",
    "    except:\n",
    "        smaj = -1\n",
    "        smin = -1\n",
    "        strike = 0\n",
    "    try:\n",
    "        depth = float(line[71:76])\n",
    "    except:\n",
    "        depth = 0.0\n",
    "\n",
    "    try:\n",
    "        depth_err = float(line[78:82])\n",
    "    except:\n",
    "        depth_err = 0.05*depth + 1.0\n",
    "\n",
    "    method = line[113]\n",
    "\n",
    "    source = line[118:127].strip()\n",
    "\n",
    "    try:\n",
    "        iscid = int(line[129:136])\n",
    "    except:\n",
    "        iscid = -1\n",
    "\n",
    "    return source, (ts, time_err, time_rms, lon, lat, smaj, smin, strike, depth, depth_err, method, source, iscid)\n",
    "\n",
    "def parse_mag_line(line):\n",
    "    mag_type = line[:5].strip()\n",
    "    try:\n",
    "        mag_value = float(line[6:10])\n",
    "    except:\n",
    "        mag_value = None\n",
    "        \n",
    "    try:\n",
    "        mag_err = float(line[11:14])\n",
    "    except:\n",
    "        mag_err = None\n",
    "    try:\n",
    "        nstas = int(line[15:19])\n",
    "    except:\n",
    "        nstas = None\n",
    "        \n",
    "    author = line[20:29].strip()\n",
    "    return mag_type, mag_value, mag_err, nstas, author\n",
    "\n",
    "MAG_TYPE, MAG_VAL, MAG_ERR, MAG_NSTAS, MAG_AUTHOR = np.arange(5)\n",
    "\n",
    "source_priority = defaultdict(int)\n",
    "source_priority[\"ISC\"]= 99\n",
    "source_priority[\"ISCJB\"]= 98\n",
    "source_priority[\"ANF\"]= 97\n",
    "source_priority[\"NEIC\"]= 96\n",
    "source_priority[\"IDC\"]= -10\n",
    "\n",
    "\n",
    "def choose_origin(origins):\n",
    "    if \"ISC\" in origins and  origins[\"ISC\"][SMAJ_COL] > 0:\n",
    "        return \"ISC\", origins[\"ISC\"]\n",
    "    \n",
    "    sources = sorted(origins.keys())\n",
    "    priorities = [source_priority[source] for source in sources]\n",
    "    smajs = np.array([origins[source][SMAJ_COL]*np.abs(origins[source][SMIN_COL]) for source in sources])\n",
    "    if (smajs < 0).all():\n",
    "        best_idx = np.argmin(priorities)\n",
    "    else:\n",
    "        best_smaj = np.min(smajs[smajs > 0])\n",
    "        best_idx = np.arange(len(smajs))[smajs==best_smaj][0]\n",
    "    best_source = sources[best_idx]\n",
    "    return best_source, origins[best_source]\n",
    "\n",
    "def choose_mag(best_source, mags):\n",
    "    \n",
    "    for mag in mags:\n",
    "        if \"ISC\" in mag[MAG_AUTHOR] and \"mb\" in mag[MAG_TYPE]:\n",
    "            return mag\n",
    "    \n",
    "    # prefer the best source\n",
    "    matching_mags = [mag for mag in mags if mag[MAG_AUTHOR]==best_source]\n",
    "    if len(matching_mags) == 0:\n",
    "        matching_mags = mags\n",
    "        \n",
    "    # then prefer body-wave magnitude\n",
    "    mbs = [mag for mag in matching_mags if \"mb\" in mag[MAG_TYPE]]\n",
    "    if len(mbs) > 0:\n",
    "        return mbs[0] # will tend to return \"mb\" instead of \"mb1\" etc due to alphabetical sorting\n",
    "\n",
    "    # then prefer lowest error\n",
    "    errs = [mag[MAG_ERR] if mag[MAG_ERR] is not None else 100  for mag in matching_mags]\n",
    "    best_err = np.argmin(errs)\n",
    "    return matching_mags[best_err]\n",
    "\n",
    "def parse_ev(ev):\n",
    "    lines = ev.split(\"\\n\")\n",
    "    origins = {}\n",
    "    mags = []\n",
    "    for l in lines:\n",
    "        if \"#PRIME\" in l: continue\n",
    "        try:\n",
    "            source, evstuff = ev_from_line(l)\n",
    "            origins[source] = evstuff\n",
    "            continue\n",
    "        except:\n",
    "            pass\n",
    "        try:\n",
    "            magstuff = parse_mag_line(l)\n",
    "            mags.append(magstuff)\n",
    "        except:\n",
    "            pass\n",
    "    if len(mags) == 0:\n",
    "        return None, None, None, False\n",
    "    \n",
    "    has_idc = \"IDC\" in origins.keys()\n",
    "    source, evstuff = choose_origin(origins)\n",
    "    mag = choose_mag(source, mags)\n",
    "    return source, evstuff, mag, has_idc\n",
    "\n"
   ]
  },
  {
   "cell_type": "code",
   "execution_count": 4,
   "metadata": {
    "collapsed": false
   },
   "outputs": [
    {
     "ename": "NameError",
     "evalue": "name 'evs' is not defined",
     "output_type": "error",
     "traceback": [
      "\u001b[1;31m---------------------------------------------------------------------------\u001b[0m",
      "\u001b[1;31mNameError\u001b[0m                                 Traceback (most recent call last)",
      "\u001b[1;32m<ipython-input-4-e6ad98044c9f>\u001b[0m in \u001b[0;36m<module>\u001b[1;34m()\u001b[0m\n\u001b[0;32m      1\u001b[0m \u001b[0mparsed_evs\u001b[0m \u001b[1;33m=\u001b[0m \u001b[1;33m[\u001b[0m\u001b[1;33m]\u001b[0m\u001b[1;33m\u001b[0m\u001b[0m\n\u001b[1;32m----> 2\u001b[1;33m \u001b[1;32mfor\u001b[0m \u001b[0mi\u001b[0m\u001b[1;33m,\u001b[0m \u001b[0mev\u001b[0m \u001b[1;32min\u001b[0m \u001b[0menumerate\u001b[0m\u001b[1;33m(\u001b[0m\u001b[0mevs\u001b[0m\u001b[1;33m)\u001b[0m\u001b[1;33m:\u001b[0m\u001b[1;33m\u001b[0m\u001b[0m\n\u001b[0m\u001b[0;32m      3\u001b[0m     \u001b[1;32mif\u001b[0m \u001b[0mi\u001b[0m \u001b[1;33m%\u001b[0m \u001b[1;36m100\u001b[0m \u001b[1;33m==\u001b[0m \u001b[1;36m0\u001b[0m\u001b[1;33m:\u001b[0m\u001b[1;33m\u001b[0m\u001b[0m\n\u001b[0;32m      4\u001b[0m         \u001b[1;32mprint\u001b[0m \u001b[0mi\u001b[0m\u001b[1;33m\u001b[0m\u001b[0m\n\u001b[0;32m      5\u001b[0m     \u001b[0msource\u001b[0m\u001b[1;33m,\u001b[0m \u001b[0mevstuff\u001b[0m\u001b[1;33m,\u001b[0m \u001b[0mmag\u001b[0m\u001b[1;33m,\u001b[0m \u001b[0mhas_idc\u001b[0m \u001b[1;33m=\u001b[0m \u001b[0mparse_ev\u001b[0m\u001b[1;33m(\u001b[0m\u001b[0mev\u001b[0m\u001b[1;33m)\u001b[0m\u001b[1;33m\u001b[0m\u001b[0m\n",
      "\u001b[1;31mNameError\u001b[0m: name 'evs' is not defined"
     ]
    }
   ],
   "source": [
    "parsed_evs = []\n",
    "for i, ev in enumerate(evs):\n",
    "    if i % 100 == 0:\n",
    "        print i\n",
    "    source, evstuff, mag, has_idc = parse_ev(ev)\n",
    "    if source is not None:\n",
    "        parsed_evs.append((source, evstuff, mag, has_idc) )\n",
    "    else:\n",
    "        print \"no mags, skipping\", i"
   ]
  },
  {
   "cell_type": "code",
   "execution_count": 6,
   "metadata": {
    "collapsed": false
   },
   "outputs": [
    {
     "name": "stdout",
     "output_type": "stream",
     "text": [
      "1273 evs in 2007 dataset\n",
      "323 were detected by IDC\n",
      "\n",
      "138 evs in test dataset\n",
      "44 were detected by IDC\n"
     ]
    }
   ],
   "source": [
    "locs = [(evstuff[LON_COL], evstuff[LAT_COL], has_idc) for (source, evstuff, mag, has_idc) in parsed_evs]\n",
    "locs_2007 = [(evstuff[LON_COL], evstuff[LAT_COL], has_idc) for (source, evstuff, mag, has_idc) in parsed_evs if evstuff[TIMESTAMP_COL] > 1170288000]\n",
    "test_locs = [(evstuff[LON_COL], evstuff[LAT_COL], has_idc) for (source, evstuff, mag, has_idc) in parsed_evs if evstuff[TIMESTAMP_COL] > 1203811200]\n",
    "\n",
    "print len(locs_2007), \"evs in 2007 dataset\"\n",
    "print len([l for l in locs_2007 if l[2]]), \"were detected by IDC\"\n",
    "print\n",
    "print len(test_locs), \"evs in test dataset\"\n",
    "print len([l for l in test_locs if l[2]]), \"were detected by IDC\""
   ]
  },
  {
   "cell_type": "code",
   "execution_count": null,
   "metadata": {
    "collapsed": true
   },
   "outputs": [],
   "source": [
    "TIMESTAMP_COL, TERR_COL, TRMS_COL, LON_COL, LAT_COL, SMAJ_COL, SMIN_COL, \n",
    "STRIKE_COL, DEPTH_COL, DERR_COL, METHOD_COL, SOURCE_COL, ISCID_COL, N_ISC_COLS = range(14)\n"
   ]
  },
  {
   "cell_type": "markdown",
   "metadata": {},
   "source": [
    "Add events to the database: (commented out since this only needs to run once)"
   ]
  },
  {
   "cell_type": "code",
   "execution_count": 19,
   "metadata": {
    "collapsed": false
   },
   "outputs": [],
   "source": [
    "\"\"\"\n",
    "from sigvisa import Sigvisa\n",
    "s = Sigvisa()\n",
    "cursor = s.dbconn.cursor()\n",
    "\n",
    "for (source, ev, mag, has_idc) in parsed_evs:\n",
    "    mb = mag[1]\n",
    "    if mb is None:\n",
    "        mb = -999\n",
    "    \n",
    "    sql = \"INSERT INTO isc_origin (lon, lat, time, depth, smaj, smin, strike, time_err, depth_err, mb, orid, auth, algorithm)\"\n",
    "    sql += \"values (%f, %f, %f, %f, %f, %f, %d, %f, %f, %f, %d, '%s', '%s')\"\n",
    "    fmt = sql % (ev[LON_COL], ev[LAT_COL], ev[TIMESTAMP_COL], ev[DEPTH_COL], \n",
    "                 ev[SMAJ_COL], ev[SMIN_COL], ev[STRIKE_COL], ev[TERR_COL], \n",
    "                 ev[DERR_COL], mb, ev[ISCID_COL], ev[SOURCE_COL], ev[METHOD_COL])\n",
    "    #print mag\n",
    "    #print fmt\n",
    "    cursor.execute(fmt)\n",
    "    \n",
    "cursor.close()\n",
    "s.dbconn.commit()\n",
    "\"\"\""
   ]
  },
  {
   "cell_type": "code",
   "execution_count": 3,
   "metadata": {
    "collapsed": false
   },
   "outputs": [],
   "source": [
    "from sigvisa.plotting.event_heatmap import EventHeatmap\n"
   ]
  },
  {
   "cell_type": "code",
   "execution_count": 25,
   "metadata": {
    "collapsed": false
   },
   "outputs": [
    {
     "data": {
      "image/png": "[encoded data removed]",
      "text/plain": [
       "<matplotlib.figure.Figure at 0x7fb0feed4290>"
      ]
     },
     "metadata": {},
     "output_type": "display_data"
    }
   ],
   "source": [
    "hm = EventHeatmap(f=None, left_lon=-126, right_lon=-100, top_lat=49, bottom_lat=33, calc=False)\n",
    "\n",
    "f = plt.figure(figsize=(15, 15))\n",
    "ax = gca()\n",
    "hm.init_bmap(axes=ax, nofillcontinents=True, projection=\"cyl\")\n",
    "hm.plot_earth()\n",
    "\n",
    "normed_locations = np.array([hm.normalize_lonlat(*location[:2]) for location in locs_2007 ])\n",
    "scplot = hm.bmap.scatter(normed_locations[:, 0], normed_locations[:, 1], alpha=0.3, s=6, marker=\".\", color=\"red\")"
   ]
  },
  {
   "cell_type": "code",
   "execution_count": 106,
   "metadata": {
    "collapsed": false
   },
   "outputs": [
    {
     "data": {
      "image/png": "[encoded data removed]",
      "text/plain": [
       "<matplotlib.figure.Figure at 0x7f52eaaa2210>"
      ]
     },
     "metadata": {},
     "output_type": "display_data"
    }
   ],
   "source": [
    "hm = EventHeatmap(f=None, left_lon=-126, right_lon=-100, top_lat=49, bottom_lat=33, calc=False)\n",
    "\n",
    "f = plt.figure(figsize=(15, 15))\n",
    "ax = gca()\n",
    "hm.init_bmap(axes=ax, nofillcontinents=True, projection=\"cyl\")\n",
    "hm.plot_earth()\n",
    "\n",
    "normed_locations = np.array([hm.normalize_lonlat(*location[:2]) for location in test_locs])\n",
    "scplot = hm.bmap.scatter(normed_locations[:, 0], normed_locations[:, 1], alpha=0.3, s=6, marker=\".\", color=\"red\")"
   ]
  },
  {
   "cell_type": "markdown",
   "metadata": {
    "collapsed": true
   },
   "source": [
    "# Timeframes for Train, Test, Validation\n"
   ]
  },
  {
   "cell_type": "code",
   "execution_count": 3,
   "metadata": {
    "collapsed": true
   },
   "outputs": [],
   "source": [
    "from sigvisa import Sigvisa\n",
    "import numpy as np\n",
    "s = Sigvisa()\n",
    "\n",
    "from obspy.core.utcdatetime import UTCDateTime\n",
    "\n",
    "train_start = 1167609600\n",
    "train2_start = 1203603300\n",
    "\n",
    "validation1_start = 1203624962 #  six hours after wells event\n",
    "validation1_end = 1203646562 # twelve hours after wells\n",
    "\n",
    "validation2_start = 1199145600 # jan 1 2008\n",
    "validation2_end = 1203603300\n",
    "\n",
    "test_start = 1203646562 # twelve hours after wells\n",
    "short_test_end = 1203724799 # (11:59 pm feb 22)\n",
    "\n",
    "test_week_end = 1204416000 # (00:00 pm mar 2)\n",
    "test_twoweeks_end = 1204834562 # (exactly two weeks post wells, 03/06/2008 @ 8:16pm)\n"
   ]
  },
  {
   "cell_type": "markdown",
   "metadata": {},
   "source": [
    "## Wells aftershocks"
   ]
  },
  {
   "cell_type": "code",
   "execution_count": 66,
   "metadata": {
    "collapsed": false
   },
   "outputs": [
    {
     "name": "stdout",
     "output_type": "stream",
     "text": [
      "split gives 42 training events, 14 validation events, 62 test events (28 on jan 22)\n"
     ]
    }
   ],
   "source": [
    "wells_time = 1203603362\n",
    "wells_lon = 41.077\n",
    "wells_lat = 114.752\n",
    "\n",
    "\n",
    "wells_left = -116\n",
    "wells_right = -114\n",
    "wells_top = 42\n",
    "wells_bottom = 40\n",
    "\n",
    "r_wells = s.sql(\"select lon, lat, depth, mb, time from isc_origin where lon between %f and %f and lat between %f and %f order by time\" % (wells_left, wells_right, wells_bottom, wells_top))\n",
    "\n",
    "\n",
    "n_train = 0\n",
    "n_validation = 0\n",
    "n_test = 0\n",
    "n_jan22 = 0\n",
    "for lon, lat, depth, mb, time in r_wells:\n",
    "    #print lon, lat, depth, mb, time, UTCDateTime(time)\n",
    "    if time > test_start and time < test_week_end:\n",
    "        n_test += 1\n",
    "        if time < short_test_end:\n",
    "            n_jan22 += 1\n",
    "    elif validation1_start <= time <= validation1_end:\n",
    "        n_validation += 1\n",
    "    elif validation2_start <= time < validation2_end :\n",
    "        n_validation += 1\n",
    "    else:\n",
    "        n_train += 1\n",
    "        \n",
    "print \"split gives %d training events, %d validation events, %d test events (%d on jan 22)\" % (n_train, n_validation, n_test, n_jan22)"
   ]
  },
  {
   "cell_type": "markdown",
   "metadata": {},
   "source": [
    "## Black Thunder Mine"
   ]
  },
  {
   "cell_type": "code",
   "execution_count": 67,
   "metadata": {
    "collapsed": false
   },
   "outputs": [
    {
     "name": "stdout",
     "output_type": "stream",
     "text": [
      "split gives 335 training events, 30 validation events, 5 test events (1 on jan 22)\n"
     ]
    }
   ],
   "source": [
    "#btm_left = -116\n",
    "#btm_right = -114\n",
    "#btm_top = 42\n",
    "#btm_bottom = 40\n",
    "\n",
    "btm_left = -106\n",
    "btm_right = -104.5\n",
    "btm_top = 45\n",
    "btm_bottom = 43\n",
    "\n",
    "r = s.sql(\"select lon, lat, depth, mb, time from isc_origin where lon between %f and %f and lat between %f and %f order by time\" % (btm_left, btm_right, btm_bottom, btm_top))\n",
    "\n",
    "n_train = 0\n",
    "n_validation = 0\n",
    "n_test = 0\n",
    "n_jan22 = 0\n",
    "for lon, lat, depth, mb, time in r:\n",
    "    #print lon, lat, depth, mb, time, UTCDateTime(time)\n",
    "    if time > test_start and time < test_week_end:\n",
    "        n_test += 1\n",
    "        if time < short_test_end:\n",
    "            n_jan22 += 1\n",
    "    elif validation1_start <= time < validation1_end:\n",
    "        n_validation += 1\n",
    "    elif validation2_start <= time < validation2_end:\n",
    "        n_validation += 1\n",
    "    else:\n",
    "        n_train += 1\n",
    "        \n",
    "print \"split gives %d training events, %d validation events, %d test events (%d on jan 22)\" % (n_train, n_validation, n_test, n_jan22)"
   ]
  },
  {
   "cell_type": "markdown",
   "metadata": {},
   "source": [
    "## Overall\n"
   ]
  },
  {
   "cell_type": "code",
   "execution_count": 22,
   "metadata": {
    "collapsed": false
   },
   "outputs": [
    {
     "name": "stdout",
     "output_type": "stream",
     "text": [
      "split gives 1025 training events (967 with 10km precision), 152 validation events, 182 test events (0 on jan 22)\n"
     ]
    }
   ],
   "source": [
    "r = s.sql(\"select evid, lon, lat, depth, mb, time, smaj from isc_origin where time > %f order by time\" % (train_start))\n",
    "\n",
    "n_train = 0\n",
    "n_validation = 0\n",
    "n_test = 0\n",
    "n_jan22 = 0\n",
    "train_evids = []\n",
    "test_evids = []\n",
    "validation_evids = []\n",
    "train_evids_10km = []\n",
    "\n",
    "for evid, lon, lat, depth, mb, time, smaj in r:\n",
    "    #print lon, lat, depth, mb, time, UTCDateTime(time)\n",
    "    if time > test_start:\n",
    "        test_evids.append(evid)\n",
    "    elif validation1_start <= time < validation1_end:\n",
    "        validation_evids.append(evid)\n",
    "    elif validation2_start <= time < validation2_end:\n",
    "        validation_evids.append(evid)\n",
    "    else:\n",
    "        train_evids.append(evid)\n",
    "        if smaj < 10:\n",
    "            train_evids_10km.append(evid)\n",
    "        \n",
    "n_train = len(train_evids)\n",
    "n_train10km = len(train_evids_10km)\n",
    "\n",
    "n_test = len(test_evids)\n",
    "n_validation = len(validation_evids)\n",
    "\n",
    "\n",
    "\n",
    "#np.savetxt(\"thesis/train_evids.txt\", train_evids, fmt=\"%d\")\n",
    "#np.savetxt(\"thesis/train10km_evids.txt\", train_evids_10km, fmt=\"%d\")\n",
    "#np.savetxt(\"thesis/test_evids.txt\", test_evids, fmt=\"%d\")\n",
    "#np.savetxt(\"thesis/validation_evids.txt\", validation_evids, fmt=\"%d\")\n",
    "\n",
    "print \"split gives %d training events (%d with 10km precision), %d validation events, %d test events (%d on jan 22)\" % (n_train, n_train10km, n_validation, n_test, n_jan22)"
   ]
  },
  {
   "cell_type": "code",
   "execution_count": 25,
   "metadata": {
    "collapsed": false
   },
   "outputs": [
    {
     "name": "stdout",
     "output_type": "stream",
     "text": [
      " select evid, lon, lat, depth, mb, time, smaj from isc_origin where time between 1199145600.000000 and 1203603300.000000 order by time\n",
      "1048213 -119.4561 48.7209 2.1 2.2 1199263706.34 2008-01-02T08:48:26.340000Z 1199263706.3\n",
      "3152964 -120.943 45.1287 16.3 2.7 1199334113.18 2008-01-03T04:21:53.180000Z 70406.8\n",
      "419957 -120.287 36.032 8.9 2.8 1199467154.28 2008-01-04T17:19:14.280000Z 133041.1\n",
      "1048308 -117.203 33.9632 20.5 2.5 1199504452.42 2008-01-05T03:40:52.420000Z 37298.1\n",
      "1295863 -120.3695 48.7995 1.0 2.5 1199508340.34 2008-01-05T04:45:40.340000Z 3887.9\n",
      "3153198 -105.2844 43.7424 0.0 4.0 1199564697.85 2008-01-05T20:24:57.850000Z 56357.5\n",
      "1048376 -110.8348 44.306 12.4 2.7 1199601015.28 2008-01-06T06:30:15.280000Z 36317.4\n",
      "527045 -105.22 43.807 0.0 3.0 1199646030.9 2008-01-06T19:00:30.900000Z 45015.6\n",
      "527046 -105.262 43.765 0.0 2.9 1199653558.85 2008-01-06T21:05:58.850000Z 7527.9\n",
      "527047 -105.19 43.958 0.0 2.9 1199659110.78 2008-01-06T22:38:30.780000Z 5551.9\n",
      "1048401 -111.3797 38.99 5.4 2.5 1199682280.88 2008-01-07T05:04:40.880000Z 23170.1\n",
      "527048 -105.018 44.325 0.0 2.7 1199740803.04 2008-01-07T21:20:03.040000Z 58522.2\n",
      "3153425 -120.8217 48.0998 2.3 2.4 1199743327.77 2008-01-07T22:02:07.770000Z 2524.7\n",
      "3153428 -117.2016 41.2632 0.0 3.2 1199749207.93 2008-01-07T23:40:07.930000Z 5880.2\n",
      "1295999 -122.9867 48.596 55.8 2.0 1199809971.4 2008-01-08T16:32:51.400000Z 60763.5\n",
      "3153496 -105.3064 43.8754 0.0 3.9 1199819199.75 2008-01-08T19:06:39.750000Z 9228.3\n",
      "527051 -107.731 40.166 0.0 2.5 1199833406.42 2008-01-08T23:03:26.420000Z 14206.7\n",
      "1296012 -122.037 47.4626 6.0 2.1 1199878145.26 2008-01-09T11:29:05.260000Z 44738.8\n",
      "1048515 -110.9732 44.7842 14.4 2.9 1199910354.16 2008-01-09T20:25:54.160000Z 32208.9\n",
      "1048521 -110.9579 44.7831 7.9 2.9 1199911723.44 2008-01-09T20:48:43.440000Z 1369.3\n",
      "3153621 -110.8985 44.7769 10.0 3.7 1199914658.43 2008-01-09T21:37:38.430000Z 2935.0\n",
      "1296031 -124.3475 47.8261 20.6 2.1 1199923108.75 2008-01-09T23:58:28.750000Z 8450.3\n",
      "3153718 -105.4574 43.9464 0.0 4.1 1199991709.51 2008-01-10T19:01:49.510000Z 68600.8\n",
      "420613 -122.725 38.785 2.1 2.9 1199992732.65 2008-01-10T19:18:52.650000Z 1023.1\n",
      "657507 -122.1883 46.1968 1.2 0.2 1200052686.79 2008-01-11T11:58:06.790000Z 59954.1\n",
      "3153787 -118.5693 35.3372 5.2 3.8 1200053110.77 2008-01-11T12:05:10.770000Z 424.0\n",
      "1048637 -118.5723 35.3527 12.8 3.0 1200060166.12 2008-01-11T14:02:46.120000Z 7055.3\n",
      "657508 -122.1937 46.2003 3.7 0.1 1200117289.0 2008-01-12T05:54:49.000000Z 57122.9\n",
      "3153897 -119.7128 38.8385 3.9 2.8 1200138698.14 2008-01-12T11:51:38.140000Z 21409.1\n",
      "420781 -119.751 37.197 19.3 2.6 1200139185.83 2008-01-12T11:59:45.830000Z 487.7\n",
      "657509 -122.186 46.1992 0.8 2.0 1200151393.19 2008-01-12T15:23:13.190000Z 12207.4\n",
      "1296046 -124.7396 48.0333 41.2 2.0 1200166850.31 2008-01-12T19:40:50.310000Z 15457.1\n",
      "3153951 -105.2195 43.8202 0.0 3.6 1200168189.46 2008-01-12T20:03:09.460000Z 1339.2\n",
      "420850 -120.8 35.507 0.2 3.0 1200187055.0 2008-01-13T01:17:35.000000Z 18865.5\n",
      "1048725 -117.2384 34.0349 21.3 2.5 1200257363.83 2008-01-13T20:49:23.830000Z 70308.8\n",
      "3320768 -122.1943 46.2054 4.0 2.9 1200261340.11 2008-01-13T21:55:40.110000Z 3976.3\n",
      "527055 -105.203 43.687 0.0 2.5 1200264042.5 2008-01-13T22:40:42.500000Z 2702.4\n",
      "420935 -122.181 46.201 0.0 2.7 1200265933.86 2008-01-13T23:12:13.860000Z 1891.4\n",
      "420971 -122.792 38.818 3.5 2.9 1200288570.76 2008-01-14T05:29:30.760000Z 22636.9\n",
      "657511 -122.0432 46.2608 10.6 2.0 1200290698.37 2008-01-14T06:04:58.370000Z 2127.6\n",
      "3154157 -105.2584 43.8104 0.0 4.0 1200341018.81 2008-01-14T20:03:38.810000Z 50320.4\n",
      "1048785 -118.6797 37.9876 8.5 2.9 1200371301.33 2008-01-15T04:28:21.330000Z 30282.5\n",
      "3154208 -118.703 37.9985 10.0 3.0 1200378919.12 2008-01-15T06:35:19.120000Z 7617.8\n",
      "1048810 -122.5956 47.8726 19.7 2.1 1200394818.65 2008-01-15T11:00:18.650000Z 15899.5\n",
      "657513 -122.6135 47.8493 25.8 2.2 1200407274.32 2008-01-15T14:27:54.320000Z 12455.7\n",
      "421193 -122.703 38.755 1.6 2.8 1200517217.93 2008-01-16T21:00:17.930000Z 109943.6\n",
      "527057 -106.922 45.219 0.0 2.6 1200520377.18 2008-01-16T21:52:57.180000Z 3159.2\n",
      "3154366 -116.3709 40.9893 0.0 2.5 1200526002.99 2008-01-16T23:26:42.990000Z 5625.8\n",
      "1048906 -113.9164 35.0155 7.5 2.9 1200607212.98 2008-01-17T22:00:12.980000Z 81210.0\n",
      "1296076 -124.9631 48.17 1.0 2.4 1200619229.97 2008-01-18T01:20:29.970000Z 12017.0\n",
      "1048919 -118.9781 34.8823 18.2 2.8 1200621968.76 2008-01-18T02:06:08.760000Z 2738.8\n",
      "421351 -120.348 35.798 10.5 2.9 1200659900.46 2008-01-18T12:38:20.460000Z 37931.7\n",
      "421362 -120.366 35.785 0.1 2.8 1200673459.5 2008-01-18T16:24:19.500000Z 13559.0\n",
      "3154527 -105.1458 43.8154 0.0 3.7 1200690183.98 2008-01-18T21:03:03.980000Z 16724.5\n",
      "421445 -118.042 34.083 16.6 2.2 1200740731.43 2008-01-19T11:05:31.430000Z 50547.5\n",
      "1049042 -108.6859 41.6437 7.6 2.5 1200761325.76 2008-01-19T16:48:45.760000Z 20594.3\n",
      "3154612 -122.7641 40.167 6.4 4.5 1200763126.71 2008-01-19T17:18:46.710000Z 1801.0\n",
      "421481 -122.761 40.154 9.9 3.4 1200766497.08 2008-01-19T18:14:57.080000Z 3370.4\n",
      "3154620 -105.1635 43.6797 0.0 3.6 1200769671.64 2008-01-19T19:07:51.640000Z 3174.6\n",
      "3154637 -122.8568 40.1489 6.3 2.7 1200784216.05 2008-01-19T23:10:16.050000Z 14544.4\n",
      "3154639 -123.0235 39.9483 10.0 4.8 1200784385.68 2008-01-19T23:13:05.680000Z 169.6\n",
      "421518 -122.765 40.141 10.5 3.4 1200785806.67 2008-01-19T23:36:46.670000Z 1421.0\n",
      "421521 -122.775 40.141 9.9 2.5 1200787966.08 2008-01-20T00:12:46.080000Z 2159.4\n",
      "3154701 -105.2287 43.8036 0.0 3.6 1200855899.71 2008-01-20T19:04:59.710000Z 67933.6\n",
      "3154913 -110.6239 41.7346 0.0 2.5 1201029895.01 2008-01-22T19:24:55.010000Z 173995.3\n",
      "3154926 -117.1771 41.2972 0.0 2.6 1201044267.71 2008-01-22T23:24:27.710000Z 14372.7\n",
      "3154991 -124.3248 48.13 38.9 2.2 1201105062.59 2008-01-23T16:17:42.590000Z 60794.9\n",
      "3155014 -105.3082 43.5904 0.0 4.2 1201122901.14 2008-01-23T21:15:01.140000Z 17838.6\n",
      "3155023 -117.1698 41.255 0.0 2.6 1201130403.98 2008-01-23T23:20:03.980000Z 7502.8\n",
      "3320794 -122.8565 38.8005 8.8 3.5 1201208626.75 2008-01-24T21:03:46.750000Z 78222.8\n",
      "3155119 -116.3371 40.9485 0.0 3.1 1201213129.04 2008-01-24T22:18:49.040000Z 4502.3\n",
      "422049 -117.78 36.01 2.2 2.2 1201268617.0 2008-01-25T13:43:37.000000Z 55488.0\n",
      "1049403 -105.7953 38.4598 2.3 3.1 1201319343.59 2008-01-26T03:49:03.590000Z 50726.6\n",
      "422136 -122.738 40.219 10.3 2.9 1201353053.26 2008-01-26T13:10:53.260000Z 33709.7\n",
      "3155297 -105.1608 43.8515 0.0 3.7 1201383668.68 2008-01-26T21:41:08.680000Z 30615.4\n",
      "1296129 -122.0488 47.6104 39.3 2.1 1201396656.33 2008-01-27T01:17:36.330000Z 12987.6\n",
      "1049435 -116.2608 36.8811 13.3 2.8 1201414580.05 2008-01-27T06:16:20.050000Z 17923.7\n",
      "1049453 -117.2521 34.024 17.6 3.0 1201483727.25 2008-01-28T01:28:47.250000Z 69147.2\n",
      "3155470 -105.1979 43.7967 0.0 3.7 1201547504.43 2008-01-28T19:11:44.430000Z 63777.2\n",
      "422318 -119.966 39.309 12.6 3.0 1201558714.5 2008-01-28T22:18:34.500000Z 11210.1\n",
      "3155485 -117.1501 41.2562 0.0 2.5 1201562631.62 2008-01-28T23:23:51.620000Z 3917.1\n",
      "3155495 -105.0051 36.8963 10.0 3.1 1201573824.61 2008-01-29T02:30:24.610000Z 11193.0\n",
      "1049486 -121.0529 40.1818 3.8 3.3 1201579540.34 2008-01-29T04:05:40.340000Z 5715.7\n",
      "422365 -121.021 40.177 0.2 2.8 1201609861.89 2008-01-29T12:31:01.890000Z 30321.6\n",
      "1049510 -116.8825 33.4549 13.2 2.8 1201624716.13 2008-01-29T16:38:36.130000Z 14854.2\n",
      "422393 -122.745 40.173 9.9 2.9 1201634396.93 2008-01-29T19:19:56.930000Z 9680.8\n",
      "1049546 -121.7796 46.8572 14.4 1.8 1201675069.26 2008-01-30T06:37:49.260000Z 40672.3\n",
      "1296147 -124.2728 47.7442 14.7 2.1 1201693305.4 2008-01-30T11:41:45.400000Z 18236.1\n",
      "1296150 -125.6064 48.8448 30.1 2.4 1201731669.71 2008-01-30T22:21:09.710000Z 38364.3\n",
      "422581 -121.838 37.528 4.5 2.8 1201766599.0 2008-01-31T08:03:19.000000Z 34929.3\n",
      "422587 -122.72 38.756 2.0 2.9 1201774008.63 2008-01-31T10:06:48.630000Z 7409.6\n",
      "422625 -122.755 38.794 1.9 2.8 1201818019.17 2008-01-31T22:20:19.170000Z 44010.5\n",
      "3720550 -120.2027 36.0123 8.3 3.6 1201841787.67 2008-02-01T04:56:27.670000Z 23768.5\n",
      "3720551 -118.7343 37.9598 10.0 2.9 1201842787.24 2008-02-01T05:13:07.240000Z 999.6\n",
      "3373105 -112.1985 38.1954 10.0 3.2 1201848750.32 2008-02-01T06:52:30.320000Z 5963.1\n",
      "3373149 -105.2077 43.7448 0.0 4.5 1201892871.23 2008-02-01T19:07:51.230000Z 44120.9\n",
      "3720553 -118.7344 37.8831 10.0 2.9 1201894324.39 2008-02-01T19:32:04.390000Z 1453.2\n",
      "1520661 -117.505 34.24 9.2 2.2 1201900794.0 2008-02-01T21:19:54.000000Z 6469.6\n",
      "3373161 -105.206 43.833 0.0 3.6 1201901107.21 2008-02-01T21:25:07.210000Z 313.2\n",
      "3373163 -112.321 41.9188 10.0 3.1 1201901815.32 2008-02-01T21:36:55.320000Z 708.1\n",
      "3373249 -105.1453 43.7299 0.0 4.0 1201979415.08 2008-02-02T19:10:15.080000Z 77599.8\n",
      "1520816 -120.783 35.501 4.1 3.1 1202035758.94 2008-02-03T10:49:18.940000Z 56343.9\n",
      "1049760 -119.1771 46.5527 24.8 2.7 1202081763.9 2008-02-03T23:36:03.900000Z 46005.0\n",
      "1049770 -120.9316 45.1294 18.3 3.3 1202091353.46 2008-02-04T02:15:53.460000Z 9589.6\n",
      "3373434 -122.7816 47.5865 17.8 2.0 1202131029.65 2008-02-04T13:17:09.650000Z 39676.2\n",
      "3373456 -105.2058 43.7714 0.0 3.8 1202151992.6 2008-02-04T19:06:32.600000Z 20962.9\n",
      "3373491 -122.0921 47.4066 14.1 2.2 1202186795.46 2008-02-05T04:46:35.460000Z 34802.9\n",
      "657520 -122.068 47.4 9.9 1.9 1202187070.1 2008-02-05T04:51:10.100000Z 274.6\n",
      "1521025 -121.752 37.407 7.4 2.9 1202193553.04 2008-02-05T06:39:13.040000Z 6482.9\n",
      "1521026 -121.754 37.407 7.2 2.9 1202195778.56 2008-02-05T07:16:18.560000Z 2225.5\n",
      "1521049 -122.761 38.792 2.4 2.8 1202220091.07 2008-02-05T14:01:31.070000Z 24312.5\n",
      "3373542 -105.2592 43.8192 0.0 3.8 1202239702.67 2008-02-05T19:28:22.670000Z 19611.6\n",
      "657521 -120.6883 46.8708 7.6 2.0 1202342085.55 2008-02-06T23:54:45.550000Z 102382.9\n",
      "1521216 -121.745 37.398 8.9 3.0 1202366014.0 2008-02-07T06:33:34.000000Z 23928.5\n",
      "3373748 -117.866 38.2133 3.6 4.0 1202388789.56 2008-02-07T12:53:09.560000Z 22775.6\n",
      "1521243 -122.485 37.639 9.6 3.1 1202391103.21 2008-02-07T13:31:43.210000Z 2313.7\n",
      "1521318 -121.052 35.66 5.2 3.1 1202453470.94 2008-02-08T06:51:10.940000Z 62367.7\n",
      "1521414 -122.387 37.123 14.2 2.8 1202544958.91 2008-02-09T08:15:58.910000Z 91488.0\n",
      "3373981 -105.2159 43.7636 0.0 4.1 1202590936.11 2008-02-09T21:02:16.110000Z 45977.2\n",
      "3374074 -118.3654 38.2278 0.1 3.8 1202694438.15 2008-02-11T01:47:18.150000Z 103502.0\n",
      "3374149 -105.3186 43.933 0.0 3.7 1202763977.61 2008-02-11T21:06:17.610000Z 69539.5\n",
      "1050401 -120.348 47.5788 14.1 2.8 1202889367.92 2008-02-13T07:56:07.920000Z 125390.3\n",
      "3374346 -105.2488 43.4638 0.0 3.7 1202940172.9 2008-02-13T22:02:52.900000Z 50805.0\n",
      "1521963 -104.965 37.024 5.0 2.8 1202961606.09 2008-02-14T04:00:06.090000Z 21433.2\n",
      "1522104 -104.856 36.958 5.0 2.8 1203062639.11 2008-02-15T08:03:59.110000Z 101033.0\n",
      "3374557 -105.1085 43.6022 0.0 4.4 1203105655.82 2008-02-15T20:00:55.820000Z 43016.7\n",
      "3374566 -105.1937 43.762 0.0 4.0 1203109736.83 2008-02-15T21:08:56.830000Z 4081.0\n",
      "3374580 -105.1678 43.7329 0.0 3.7 1203121049.76 2008-02-16T00:17:29.760000Z 11312.9\n",
      "3720571 -117.7222 35.9374 6.7 3.6 1203162995.31 2008-02-16T11:56:35.310000Z 41945.5\n",
      "3374671 -105.2839 43.7419 0.0 3.9 1203195695.69 2008-02-16T21:01:35.690000Z 32700.4\n",
      "3720572 -118.1837 38.3965 8.5 2.5 1203314999.74 2008-02-18T06:09:59.740000Z 119304.0\n",
      "3374838 -117.9807 36.5791 10.0 3.9 1203347730.85 2008-02-18T15:15:30.850000Z 32731.1\n",
      "3720573 -114.8043 47.9682 10.0 3.0 1203362365.41 2008-02-18T19:19:25.410000Z 14634.6\n",
      "503289 -105.265 44.024 0.0 2.7 1203368694.66 2008-02-18T21:04:54.660000Z 6329.2\n",
      "3374866 -105.3186 43.6081 0.0 3.7 1203375629.89 2008-02-18T23:00:29.890000Z 6935.2\n",
      "1522461 -118.923 33.022 6.0 3.2 1203380196.67 2008-02-19T00:16:36.670000Z 4566.8\n",
      "1050748 -107.5226 38.9436 8.6 2.4 1203484810.27 2008-02-20T05:20:10.270000Z 104613.6\n"
     ]
    }
   ],
   "source": [
    "sql_query=\"select evid, lon, lat, depth, mb, time, smaj from isc_origin where time between %f and %f order by time\" % (validation2_start, validation2_end)\n",
    "print sql_query\n",
    "r = s.sql(sql_query)\n",
    "last_time = 0\n",
    "for evid, lon, lat, depth, mb, time, smaj in r:\n",
    "    print evid, lon, lat, depth, mb, time, UTCDateTime(time), \"%.1f\" % (time - last_time)\n",
    "    last_time = time"
   ]
  },
  {
   "cell_type": "markdown",
   "metadata": {
    "collapsed": true
   },
   "source": [
    "# De novo events"
   ]
  },
  {
   "cell_type": "code",
   "execution_count": 9,
   "metadata": {
    "collapsed": false
   },
   "outputs": [
    {
     "name": "stdout",
     "output_type": "stream",
     "text": [
      "de novo validation events:\n",
      "evid 1048213.0, loc 119.46 W 48.72 N, depth 2.1km, time 1199263706.3, mb 2.2, natural source\n",
      "evid 3153428.0, loc 117.20 W 41.26 N, depth 0.0km, time 1199749207.9, mb 3.2, natural source\n",
      "evid 420781.0, loc 119.75 W 37.20 N, depth 19.3km, time 1200139185.8, mb 2.6, natural source\n",
      "evid 1048906.0, loc 113.92 W 35.02 N, depth 7.5km, time 1200607213.0, mb 2.9, natural source\n",
      "evid 3154913.0, loc 110.62 W 41.73 N, depth 0.0km, time 1201029895.0, mb 2.5, natural source\n",
      "evid 3154926.0, loc 117.18 W 41.30 N, depth 0.0km, time 1201044267.7, mb 2.6, natural source\n",
      "evid 3155023.0, loc 117.17 W 41.26 N, depth 0.0km, time 1201130404.0, mb 2.6, natural source\n",
      "evid 1049403.0, loc 105.80 W 38.46 N, depth 2.3km, time 1201319343.6, mb 3.1, natural source\n",
      "evid 422318.0, loc 119.97 W 39.31 N, depth 12.6km, time 1201558714.5, mb 3.0, natural source\n",
      "evid 3155485.0, loc 117.15 W 41.26 N, depth 0.0km, time 1201562631.6, mb 2.5, natural source\n",
      "evid 1050401.0, loc 120.35 W 47.58 N, depth 14.1km, time 1202889367.9, mb 2.8, natural source\n",
      "evid 1522957.0, loc 118.03 W 36.59 N, depth 4.7km, time 1203628786.8, mb 2.8, natural source\n",
      "de novo test events:\n",
      "evid 1523686.0, loc 105.47 W 39.27 N, depth 2.0km, time 1204068952.6, mb 2.9, natural source\n",
      "evid 1336397.0, loc 114.58 W 47.11 N, depth 10.0km, time 1204371361.7, mb 2.8, natural source\n",
      "evid 3902540.0, loc 119.98 W 39.52 N, depth 10.0km, time 1204970820.2, mb 3.4, natural source\n",
      "evid 579518.0, loc 120.28 W 39.59 N, depth 14.1km, time 1205430974.5, mb 2.9, natural source\n",
      "evid 579520.0, loc 120.28 W 39.59 N, depth 9.8km, time 1205430982.7, mb 3.1, natural source\n",
      "evid 1054243.0, loc 116.92 W 35.50 N, depth 16.0km, time 1206115540.9, mb 2.9, natural source\n",
      "evid 1054290.0, loc 112.74 W 35.19 N, depth 17.0km, time 1206155210.7, mb 2.5, natural source\n",
      "evid 1054293.0, loc 112.72 W 35.19 N, depth 14.5km, time 1206155562.1, mb 2.5, natural source\n",
      "evid 580671.0, loc 119.93 W 39.52 N, depth 1.9km, time 1206386174.3, mb 3.1, natural source\n",
      "evid 580782.0, loc 119.94 W 39.53 N, depth 1.7km, time 1206459666.0, mb 2.6, natural source\n",
      "evid 580932.0, loc 119.94 W 39.53 N, depth 1.7km, time 1206589334.3, mb 3.2, natural source\n",
      "evid 581170.0, loc 112.31 W 48.60 N, depth 3.0km, time 1206798813.0, mb 2.5, natural source\n",
      "evid 1054733.0, loc 112.32 W 48.58 N, depth 13.2km, time 1206801145.6, mb 2.6, natural source\n"
     ]
    }
   ],
   "source": [
    "from sigvisa.source.event import get_event\n",
    "from sigvisa.utils.geog import dist_km\n",
    "\n",
    "test_evs = [get_event(evid=evid) for evid in test_evids]\n",
    "validation_evs = [get_event(evid=evid) for evid in validation_evids]\n",
    "train_evs = [get_event(evid=evid) for evid in train_evids]\n",
    "\n",
    "def is_denovo(ev, dist_threshold_km=50):\n",
    "    dists = [dist_km((ev.lon, ev.lat), (tev.lon, tev.lat)) + np.abs(ev.depth - tev.depth) for tev in train_evs]\n",
    "    return np.min(dists) > dist_threshold_km\n",
    "\n",
    "denovo_validation = [ev for ev in validation_evs if is_denovo(ev)]\n",
    "denovo_test = [ev for ev in test_evs if is_denovo(ev)]\n",
    "\n",
    "print \"de novo validation events:\"\n",
    "for ev in denovo_validation:\n",
    "    print ev\n",
    "    \n",
    "print \"de novo test events:\"\n",
    "for ev in denovo_test:\n",
    "    print ev"
   ]
  },
  {
   "cell_type": "code",
   "execution_count": 20,
   "metadata": {
    "collapsed": false
   },
   "outputs": [
    {
     "name": "stdout",
     "output_type": "stream",
     "text": [
      "de novo validation events in LEB:\n",
      "evid 3153428.0, loc 117.20 W 41.26 N, depth 0.0km, time 1199749207.9, mb 3.2, natural source\n",
      "evid 3154913.0, loc 110.62 W 41.73 N, depth 0.0km, time 1201029895.0, mb 2.5, natural source\n",
      "evid 3154926.0, loc 117.18 W 41.30 N, depth 0.0km, time 1201044267.7, mb 2.6, natural source\n",
      "evid 3155023.0, loc 117.17 W 41.26 N, depth 0.0km, time 1201130404.0, mb 2.6, natural source\n",
      "evid 3155485.0, loc 117.15 W 41.26 N, depth 0.0km, time 1201562631.6, mb 2.5, natural source\n",
      "de novo test events in LEB:\n"
     ]
    }
   ],
   "source": [
    "def is_in_leb(ev):\n",
    "    sql_query = \"select evid from leb_origin where lon between %f and %f and lat between %f and %f and time between %f and %f\" % (ev.lon-2, ev.lon+2, ev.lat-2, ev.lat+2, ev.time-100, ev.time+100)\n",
    "    r = s.sql(sql_query)\n",
    "    return len(r) > 0\n",
    "\n",
    "leb_denovo_validation = [ev for ev in denovo_validation if is_in_leb(ev)]\n",
    "print \"de novo validation events in LEB:\"\n",
    "for ev in leb_denovo_validation:\n",
    "    print ev\n",
    "    \n",
    "leb_denovo_test = [ev for ev in denovo_test if is_in_leb(ev)]\n",
    "print \"de novo test events in LEB:\"\n",
    "for ev in leb_denovo_test:\n",
    "    print ev"
   ]
  },
  {
   "cell_type": "code",
   "execution_count": null,
   "metadata": {
    "collapsed": false
   },
   "outputs": [],
   "source": []
  },
  {
   "cell_type": "code",
   "execution_count": null,
   "metadata": {
    "collapsed": true
   },
   "outputs": [],
   "source": []
  }
 ],
 "metadata": {
  "kernelspec": {
   "display_name": "Python 2",
   "language": "python",
   "name": "python2"
  },
  "language_info": {
   "codemirror_mode": {
    "name": "ipython",
    "version": 2
   },
   "file_extension": ".py",
   "mimetype": "text/x-python",
   "name": "python",
   "nbconvert_exporter": "python",
   "pygments_lexer": "ipython2",
   "version": "2.7.6"
  }
 },
 "nbformat": 4,
 "nbformat_minor": 0
}
