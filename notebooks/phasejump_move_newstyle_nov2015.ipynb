{
 "cells": [
  {
   "cell_type": "code",
   "execution_count": 1,
   "metadata": {
    "collapsed": true
   },
   "outputs": [],
   "source": [
    "%matplotlib inline\n",
    "import matplotlib.pylab as plt\n",
    "import numpy as np\n",
    "\n",
    "from sigvisa import Sigvisa\n",
    "from sigvisa.graph.sigvisa_graph import SigvisaGraph\n",
    "from sigvisa.signals.io import fetch_waveform\n",
    "from sigvisa.source.event import Event\n",
    "\n",
    "import cPickle as pickle"
   ]
  },
  {
   "cell_type": "code",
   "execution_count": 2,
   "metadata": {
    "collapsed": false
   },
   "outputs": [
    {
     "name": "stdout",
     "output_type": "stream",
     "text": [
      "n_uatemplate: -24.2\n",
      "n_event: -182.2\n",
      "ev priors: ev -95.2\n",
      "ev observations: ev 0.0\n",
      "tt_residual: ev -1205.2\n",
      "ev global cost (n + priors + tt): -1482.5\n",
      "coda_decay: ev -965.1 ua -4.2 total -969.3\n",
      "peak_decay: ev -923.3 ua -3.4 total -926.7\n",
      "peak_offset: ev -978.9 ua -2.6 total -981.5\n",
      "coda_height: ev -1037.0 ua -4.6 total -1041.5\n",
      "mult_std_wiggle: ev 298.1 ua 1.7 total 299.8\n",
      "coef jointgp: 0.0\n",
      "total param: ev -3606.1 ua -13.1 total -3619.3\n",
      "priors+params: ev -5088.7 ua -37.3 total -5126.0\n",
      "station noise (observed signals): -115290.3\n",
      "noise model prior lp: 40.7\n",
      "overall: -120375.6\n",
      "official: -120375.6\n",
      "None\n"
     ]
    },
    {
     "name": "stderr",
     "output_type": "stream",
     "text": [
      "/home/dmoore/python/sigvisa/models/signal_model.py:587: FutureWarning: comparison to `None` will result in an elementwise object comparison in the future.\n",
      "  return TransientCombinedSSM(components, TSSM_NOISE_PADDING)\n"
     ]
    }
   ],
   "source": [
    "with open(\"/home/dmoore/python/sigvisa/logs/mcmc/00598/step_000209/pickle.sg\", 'rb') as f:\n",
    "    sg = pickle.load(f)\n",
    "    \n",
    "print sg.current_log_p_breakdown()\n",
    "\n"
   ]
  },
  {
   "cell_type": "code",
   "execution_count": 5,
   "metadata": {
    "collapsed": false
   },
   "outputs": [],
   "source": [
    "from sigvisa.infer.event_mcmc import ev_phasejump_helper, ev_move_full, phases_changed\n",
    "from sigvisa.models.distributions import TruncatedGaussian\n",
    "import copy"
   ]
  },
  {
   "cell_type": "code",
   "execution_count": 4,
   "metadata": {
    "collapsed": true
   },
   "outputs": [],
   "source": [
    "old_ev = sg.get_event(5)\n",
    "new_ev= Event(lon=-110.57, lat=41.37, depth=2.4, time=1239045221.0, mb=3.0)\n"
   ]
  },
  {
   "cell_type": "code",
   "execution_count": 12,
   "metadata": {
    "collapsed": false
   },
   "outputs": [
    {
     "name": "stdout",
     "output_type": "stream",
     "text": [
      "evid None, loc 108.33 W 41.84 N, depth 4.5km, time 1239045222.3, mb 3.0, natural source\n",
      "({'PDAR': set([]), 'YKA': set([]), 'NVAR': set([]), 'PFO': set([]), 'ANMO': set([]), 'ULM': set([]), 'NEW': set([]), 'ILAR': set([])}, {'PDAR': set([]), 'YKA': set([]), 'NVAR': set([]), 'PFO': set([]), 'ANMO': set([]), 'ULM': set([]), 'NEW': set([]), 'ILAR': set([])}, False)\n",
      "evid None, loc 108.40 W 41.83 N, depth 4.4km, time 1239045222.3, mb 3.0, natural source\n",
      "({'PDAR': set([]), 'YKA': set([]), 'NVAR': set([]), 'PFO': set([]), 'ANMO': set([]), 'ULM': set([]), 'NEW': set([]), 'ILAR': set([])}, {'PDAR': set([]), 'YKA': set([]), 'NVAR': set([]), 'PFO': set([]), 'ANMO': set([]), 'ULM': set([]), 'NEW': set([]), 'ILAR': set([])}, False)\n",
      "evid None, loc 108.48 W 41.81 N, depth 4.4km, time 1239045222.3, mb 3.0, natural source\n",
      "({'PDAR': set([]), 'YKA': set([]), 'NVAR': set([]), 'PFO': set([]), 'ANMO': set([]), 'ULM': set([]), 'NEW': set([]), 'ILAR': set([])}, {'PDAR': set([]), 'YKA': set([]), 'NVAR': set([]), 'PFO': set([]), 'ANMO': set([]), 'ULM': set([]), 'NEW': set([]), 'ILAR': set([])}, False)\n",
      "evid None, loc 108.55 W 41.80 N, depth 4.3km, time 1239045222.2, mb 3.0, natural source\n",
      "({'PDAR': set([]), 'YKA': set([]), 'NVAR': set([]), 'PFO': set([]), 'ANMO': set([]), 'ULM': set([]), 'NEW': set([]), 'ILAR': set([])}, {'PDAR': set([]), 'YKA': set([]), 'NVAR': set([]), 'PFO': set([]), 'ANMO': set([]), 'ULM': set([]), 'NEW': set([]), 'ILAR': set([])}, False)\n",
      "evid None, loc 108.63 W 41.78 N, depth 4.2km, time 1239045222.2, mb 3.0, natural source\n",
      "({'PDAR': set([]), 'YKA': set([]), 'NVAR': set([]), 'PFO': set([]), 'ANMO': set([]), 'ULM': set([]), 'NEW': set([]), 'ILAR': set([])}, {'PDAR': set([]), 'YKA': set([]), 'NVAR': set([]), 'PFO': set([]), 'ANMO': set([]), 'ULM': set([]), 'NEW': set([]), 'ILAR': set([])}, False)\n",
      "evid None, loc 108.70 W 41.76 N, depth 4.2km, time 1239045222.1, mb 3.0, natural source\n",
      "({'PDAR': set([]), 'YKA': set([]), 'NVAR': set([]), 'PFO': set([]), 'ANMO': set([]), 'ULM': set([]), 'NEW': set([]), 'ILAR': set([])}, {'PDAR': set([]), 'YKA': set([]), 'NVAR': set([]), 'PFO': set([]), 'ANMO': set([]), 'ULM': set([]), 'NEW': set([]), 'ILAR': set([])}, False)\n",
      "evid None, loc 108.77 W 41.75 N, depth 4.1km, time 1239045222.1, mb 3.0, natural source\n",
      "({'PDAR': set([]), 'YKA': set([]), 'NVAR': set([]), 'PFO': set([]), 'ANMO': set([]), 'ULM': set([]), 'NEW': set([]), 'ILAR': set([])}, {'PDAR': set([]), 'YKA': set([]), 'NVAR': set([]), 'PFO': set([]), 'ANMO': set([]), 'ULM': set([]), 'NEW': set([]), 'ILAR': set([])}, False)\n",
      "evid None, loc 108.85 W 41.73 N, depth 4.0km, time 1239045222.0, mb 3.0, natural source\n",
      "({'PDAR': set([]), 'YKA': set([]), 'NVAR': set(['Pg']), 'PFO': set([]), 'ANMO': set([]), 'ULM': set([]), 'NEW': set([]), 'ILAR': set([])}, {'PDAR': set([]), 'YKA': set([]), 'NVAR': set([]), 'PFO': set([]), 'ANMO': set([]), 'ULM': set([]), 'NEW': set([]), 'ILAR': set([])}, True)\n",
      "evid None, loc 108.92 W 41.72 N, depth 3.9km, time 1239045222.0, mb 3.0, natural source\n",
      "({'PDAR': set([]), 'YKA': set([]), 'NVAR': set(['Pg']), 'PFO': set([]), 'ANMO': set([]), 'ULM': set([]), 'NEW': set([]), 'ILAR': set([])}, {'PDAR': set([]), 'YKA': set([]), 'NVAR': set([]), 'PFO': set([]), 'ANMO': set([]), 'ULM': set([]), 'NEW': set([]), 'ILAR': set([])}, True)\n",
      "evid None, loc 109.00 W 41.70 N, depth 3.9km, time 1239045221.9, mb 3.0, natural source\n",
      "({'PDAR': set([]), 'YKA': set([]), 'NVAR': set(['Pg']), 'PFO': set([]), 'ANMO': set([]), 'ULM': set([]), 'NEW': set([]), 'ILAR': set([])}, {'PDAR': set([]), 'YKA': set([]), 'NVAR': set([]), 'PFO': set([]), 'ANMO': set([]), 'ULM': set([]), 'NEW': set([]), 'ILAR': set([])}, True)\n",
      "evid None, loc 109.07 W 41.68 N, depth 3.8km, time 1239045221.9, mb 3.0, natural source\n",
      "({'PDAR': set([]), 'YKA': set([]), 'NVAR': set(['Pg']), 'PFO': set([]), 'ANMO': set([]), 'ULM': set([]), 'NEW': set([]), 'ILAR': set([])}, {'PDAR': set([]), 'YKA': set([]), 'NVAR': set([]), 'PFO': set(['PcP', 'ScP']), 'ANMO': set([]), 'ULM': set([]), 'NEW': set([]), 'ILAR': set([])}, True)\n",
      "evid None, loc 109.15 W 41.67 N, depth 3.7km, time 1239045221.9, mb 3.0, natural source\n",
      "({'PDAR': set([]), 'YKA': set([]), 'NVAR': set(['Pg']), 'PFO': set([]), 'ANMO': set([]), 'ULM': set([]), 'NEW': set([]), 'ILAR': set([])}, {'PDAR': set([]), 'YKA': set([]), 'NVAR': set([]), 'PFO': set(['PcP', 'ScP']), 'ANMO': set([]), 'ULM': set([]), 'NEW': set([]), 'ILAR': set([])}, True)\n",
      "evid None, loc 109.22 W 41.65 N, depth 3.7km, time 1239045221.8, mb 3.0, natural source\n",
      "({'PDAR': set([]), 'YKA': set([]), 'NVAR': set(['Pg']), 'PFO': set([]), 'ANMO': set([]), 'ULM': set([]), 'NEW': set([]), 'ILAR': set([])}, {'PDAR': set([]), 'YKA': set([]), 'NVAR': set([]), 'PFO': set(['PcP', 'ScP']), 'ANMO': set([]), 'ULM': set([]), 'NEW': set([]), 'ILAR': set([])}, True)\n",
      "evid None, loc 109.30 W 41.64 N, depth 3.6km, time 1239045221.8, mb 3.0, natural source\n",
      "({'PDAR': set([]), 'YKA': set([]), 'NVAR': set(['Pg']), 'PFO': set([]), 'ANMO': set([]), 'ULM': set([]), 'NEW': set([]), 'ILAR': set([])}, {'PDAR': set([]), 'YKA': set([]), 'NVAR': set([]), 'PFO': set(['PcP', 'ScP']), 'ANMO': set([]), 'ULM': set([]), 'NEW': set([]), 'ILAR': set([])}, True)\n",
      "evid None, loc 109.37 W 41.62 N, depth 3.5km, time 1239045221.7, mb 3.0, natural source\n",
      "({'PDAR': set([]), 'YKA': set([]), 'NVAR': set(['Pg']), 'PFO': set([]), 'ANMO': set([]), 'ULM': set([]), 'NEW': set([]), 'ILAR': set([])}, {'PDAR': set([]), 'YKA': set([]), 'NVAR': set([]), 'PFO': set(['PcP', 'ScP']), 'ANMO': set([]), 'ULM': set([]), 'NEW': set([]), 'ILAR': set([])}, True)\n",
      "evid None, loc 109.45 W 41.61 N, depth 3.5km, time 1239045221.7, mb 3.0, natural source\n",
      "({'PDAR': set([]), 'YKA': set([]), 'NVAR': set(['Pg']), 'PFO': set([]), 'ANMO': set([]), 'ULM': set([]), 'NEW': set([]), 'ILAR': set([])}, {'PDAR': set([]), 'YKA': set([]), 'NVAR': set([]), 'PFO': set(['PcP', 'ScP']), 'ANMO': set([]), 'ULM': set([]), 'NEW': set([]), 'ILAR': set([])}, True)\n",
      "evid None, loc 109.52 W 41.59 N, depth 3.4km, time 1239045221.6, mb 3.0, natural source\n",
      "({'PDAR': set([]), 'YKA': set([]), 'NVAR': set(['Pg']), 'PFO': set([]), 'ANMO': set([]), 'ULM': set([]), 'NEW': set([]), 'ILAR': set([])}, {'PDAR': set([]), 'YKA': set([]), 'NVAR': set([]), 'PFO': set(['PcP', 'ScP']), 'ANMO': set([]), 'ULM': set([]), 'NEW': set([]), 'ILAR': set([])}, True)\n",
      "evid None, loc 109.60 W 41.57 N, depth 3.3km, time 1239045221.6, mb 3.0, natural source\n",
      "({'PDAR': set([]), 'YKA': set([]), 'NVAR': set(['Pg']), 'PFO': set([]), 'ANMO': set([]), 'ULM': set([]), 'NEW': set([]), 'ILAR': set([])}, {'PDAR': set([]), 'YKA': set([]), 'NVAR': set([]), 'PFO': set(['PcP', 'ScP']), 'ANMO': set([]), 'ULM': set([]), 'NEW': set([]), 'ILAR': set([])}, True)\n",
      "evid None, loc 109.67 W 41.56 N, depth 3.2km, time 1239045221.5, mb 3.0, natural source\n",
      "({'PDAR': set([]), 'YKA': set([]), 'NVAR': set(['Pg']), 'PFO': set([]), 'ANMO': set([]), 'ULM': set([]), 'NEW': set([]), 'ILAR': set([])}, {'PDAR': set([]), 'YKA': set([]), 'NVAR': set([]), 'PFO': set(['PcP', 'ScP']), 'ANMO': set([]), 'ULM': set([]), 'NEW': set([]), 'ILAR': set([])}, True)\n",
      "evid None, loc 109.75 W 41.54 N, depth 3.2km, time 1239045221.5, mb 3.0, natural source\n",
      "({'PDAR': set([]), 'YKA': set([]), 'NVAR': set(['Pg']), 'PFO': set([]), 'ANMO': set([]), 'ULM': set([]), 'NEW': set([]), 'ILAR': set([])}, {'PDAR': set([]), 'YKA': set([]), 'NVAR': set([]), 'PFO': set(['PcP', 'ScP']), 'ANMO': set([]), 'ULM': set([]), 'NEW': set([]), 'ILAR': set([])}, True)\n",
      "evid None, loc 109.82 W 41.53 N, depth 3.1km, time 1239045221.4, mb 3.0, natural source\n",
      "({'PDAR': set([]), 'YKA': set([]), 'NVAR': set(['Pg']), 'PFO': set([]), 'ANMO': set([]), 'ULM': set([]), 'NEW': set([]), 'ILAR': set([])}, {'PDAR': set([]), 'YKA': set([]), 'NVAR': set([]), 'PFO': set(['PcP', 'ScP']), 'ANMO': set([]), 'ULM': set([]), 'NEW': set([]), 'ILAR': set([])}, True)\n",
      "evid None, loc 109.90 W 41.51 N, depth 3.0km, time 1239045221.4, mb 3.0, natural source\n",
      "({'PDAR': set([]), 'YKA': set([]), 'NVAR': set(['Pg']), 'PFO': set([]), 'ANMO': set([]), 'ULM': set([]), 'NEW': set([]), 'ILAR': set([])}, {'PDAR': set([]), 'YKA': set([]), 'NVAR': set([]), 'PFO': set(['PcP', 'ScP']), 'ANMO': set([]), 'ULM': set([]), 'NEW': set([]), 'ILAR': set([])}, True)\n",
      "evid None, loc 109.97 W 41.50 N, depth 3.0km, time 1239045221.4, mb 3.0, natural source\n",
      "({'PDAR': set([]), 'YKA': set([]), 'NVAR': set(['Pg']), 'PFO': set([]), 'ANMO': set([]), 'ULM': set([]), 'NEW': set([]), 'ILAR': set([])}, {'PDAR': set([]), 'YKA': set([]), 'NVAR': set([]), 'PFO': set(['PcP', 'ScP']), 'ANMO': set([]), 'ULM': set([]), 'NEW': set([]), 'ILAR': set([])}, True)\n",
      "evid None, loc 110.05 W 41.48 N, depth 2.9km, time 1239045221.3, mb 3.0, natural source\n",
      "({'PDAR': set([]), 'YKA': set([]), 'NVAR': set(['Pg']), 'PFO': set([]), 'ANMO': set([]), 'ULM': set([]), 'NEW': set([]), 'ILAR': set([])}, {'PDAR': set([]), 'YKA': set([]), 'NVAR': set([]), 'PFO': set(['PcP', 'ScP']), 'ANMO': set([]), 'ULM': set([]), 'NEW': set([]), 'ILAR': set([])}, True)\n",
      "evid None, loc 110.12 W 41.46 N, depth 2.8km, time 1239045221.3, mb 3.0, natural source\n",
      "({'PDAR': set([]), 'YKA': set([]), 'NVAR': set(['Pg']), 'PFO': set([]), 'ANMO': set([]), 'ULM': set([]), 'NEW': set([]), 'ILAR': set([])}, {'PDAR': set([]), 'YKA': set([]), 'NVAR': set([]), 'PFO': set(['PcP', 'ScP']), 'ANMO': set([]), 'ULM': set([]), 'NEW': set([]), 'ILAR': set([])}, True)\n",
      "evid None, loc 110.20 W 41.45 N, depth 2.8km, time 1239045221.2, mb 3.0, natural source\n",
      "({'PDAR': set([]), 'YKA': set([]), 'NVAR': set(['Pg']), 'PFO': set([]), 'ANMO': set([]), 'ULM': set([]), 'NEW': set([]), 'ILAR': set([])}, {'PDAR': set([]), 'YKA': set([]), 'NVAR': set([]), 'PFO': set(['PcP', 'ScP']), 'ANMO': set([]), 'ULM': set([]), 'NEW': set([]), 'ILAR': set([])}, True)\n",
      "evid None, loc 110.27 W 41.43 N, depth 2.7km, time 1239045221.2, mb 3.0, natural source\n",
      "({'PDAR': set([]), 'YKA': set([]), 'NVAR': set(['Pg']), 'PFO': set([]), 'ANMO': set([]), 'ULM': set([]), 'NEW': set([]), 'ILAR': set([])}, {'PDAR': set([]), 'YKA': set([]), 'NVAR': set([]), 'PFO': set(['PcP', 'ScP']), 'ANMO': set([]), 'ULM': set([]), 'NEW': set([]), 'ILAR': set([])}, True)\n",
      "evid None, loc 110.35 W 41.42 N, depth 2.6km, time 1239045221.1, mb 3.0, natural source\n",
      "({'PDAR': set([]), 'YKA': set([]), 'NVAR': set(['Pg']), 'PFO': set([]), 'ANMO': set([]), 'ULM': set([]), 'NEW': set([]), 'ILAR': set([])}, {'PDAR': set([]), 'YKA': set([]), 'NVAR': set([]), 'PFO': set(['PcP', 'ScP']), 'ANMO': set([]), 'ULM': set([]), 'NEW': set([]), 'ILAR': set([])}, True)\n",
      "evid None, loc 110.42 W 41.40 N, depth 2.5km, time 1239045221.1, mb 3.0, natural source\n",
      "({'PDAR': set([]), 'YKA': set([]), 'NVAR': set(['Pg']), 'PFO': set([]), 'ANMO': set([]), 'ULM': set([]), 'NEW': set([]), 'ILAR': set([])}, {'PDAR': set([]), 'YKA': set([]), 'NVAR': set([]), 'PFO': set(['PcP', 'ScP']), 'ANMO': set([]), 'ULM': set([]), 'NEW': set([]), 'ILAR': set([])}, True)\n",
      "evid None, loc 110.50 W 41.39 N, depth 2.5km, time 1239045221.0, mb 3.0, natural source\n",
      "({'PDAR': set([]), 'YKA': set([]), 'NVAR': set(['Pg']), 'PFO': set([]), 'ANMO': set([]), 'ULM': set([]), 'NEW': set([]), 'ILAR': set([])}, {'PDAR': set([]), 'YKA': set([]), 'NVAR': set([]), 'PFO': set(['PcP', 'ScP']), 'ANMO': set([]), 'ULM': set([]), 'NEW': set([]), 'ILAR': set([])}, True)\n"
     ]
    }
   ],
   "source": [
    "for i in range(30):\n",
    "    c1 = i/30.0\n",
    "    c2 = 1.0-c1\n",
    "    int_ev = Event(lon=c1*new_ev.lon + c2*old_ev.lon, \n",
    "                   lat=c1*new_ev.lat + c2*old_ev.lat,\n",
    "                   depth=c1*new_ev.depth + c2*old_ev.depth,\n",
    "                   time=c1*new_ev.time + c2*old_ev.time,\n",
    "                   mb=c1*new_ev.mb + c2*old_ev.mb)\n",
    "    print int_ev\n",
    "    \n",
    "    print phases_changed(sg, 5, int_ev)"
   ]
  },
  {
   "cell_type": "code",
   "execution_count": 5,
   "metadata": {
    "collapsed": false
   },
   "outputs": [
    {
     "name": "stdout",
     "output_type": "stream",
     "text": [
      "decouple False at PD31 with p_decoupled 0.000 lqf -0.000 heuristic False\n",
      "decouple False at YKR8 with p_decoupled 0.000 lqf -0.000 heuristic None\n",
      "decouple True at NV01 with p_decoupled 1.000 lqf -0.000 heuristic True\n",
      "decouple True at PFO with p_decoupled 1.000 lqf -0.000 heuristic True\n",
      "decouple False at ANMO with p_decoupled 0.000 lqf -0.000 heuristic None\n",
      "decouple True at ULM with p_decoupled 1.000 lqf -0.000 heuristic None\n",
      "decouple False at NEW with p_decoupled 0.000 lqf -0.000 heuristic False\n",
      "decouple False at IL31 with p_decoupled 0.000 lqf -0.000 heuristic None\n",
      "using assoc [('Pg', None)] with lp 0.0\n",
      "dumb logq mult_wiggle_std NV01 Pg 0.603456165192 0.516744614107  unfixed\n",
      "dumb logq amp_transfer NV01 Pg 4.99478425845 -1.54455346898  unfixed\n",
      "dumb logq coda_decay NV01 Pg -2.35661718881 -1.71911668046  unfixed\n",
      "dumb logq peak_offset NV01 Pg 1.18399333534 -1.3924949001  unfixed\n",
      "dumb logq tt_residual NV01 Pg 0.73370124716 -1.69240827272  unfixed\n",
      "dumb logq peak_decay NV01 Pg -2.8705254676 -1.48872139244  unfixed\n",
      "NV01 -7.32055010059 -7.32073569619\n",
      "proposing to delete PcP at PFO (lp -0.002470)\n",
      "proposing to delete ScP at PFO (lp -0.002470)\n",
      "PFO -0.00493914250755 -7.32567483869\n",
      "decouple False at PD31 with p_decoupled 0.000 lqf -0.000 heuristic False\n",
      "decouple False at YKR8 with p_decoupled 0.000 lqf -0.000 heuristic None\n",
      "decouple True at NV01 with p_decoupled 1.000 lqf -0.000 heuristic True\n",
      "decouple True at PFO with p_decoupled 1.000 lqf -0.000 heuristic True\n",
      "decouple False at ANMO with p_decoupled 0.000 lqf -0.000 heuristic None\n",
      "decouple True at ULM with p_decoupled 1.000 lqf -0.000 heuristic None\n",
      "decouple False at NEW with p_decoupled 0.000 lqf -0.000 heuristic False\n",
      "decouple False at IL31 with p_decoupled 0.000 lqf -0.000 heuristic None\n",
      "proposing to delete Pg at NV01 (lp -0.002470)\n",
      "NV01 -0.00246957134908 -0.00265516694795\n",
      "using assoc [('PcP', None), ('ScP', None)] with lp 0.0\n",
      "dumb logq mult_wiggle_std PFO PcP 0.360333637001 0.455710679493  fixed\n",
      "dumb logq amp_transfer PFO PcP -3.59601796214 -2.76063506418  fixed\n",
      "dumb logq coda_decay PFO PcP 2.15667946517 -2.16104933712  fixed\n",
      "dumb logq peak_offset PFO PcP -0.82408055192 -1.31040507352  fixed\n",
      "dumb logq tt_residual PFO PcP -1.82859510564 -2.40961560019  fixed\n",
      "dumb logq peak_decay PFO PcP 0.0114449328226 -1.15915493448  fixed\n",
      "dumb logq mult_wiggle_std PFO ScP 0.75312596724 0.0466526485635  fixed\n",
      "dumb logq amp_transfer PFO ScP -1.15184249258 -2.24344146647  fixed\n",
      "dumb logq coda_decay PFO ScP -1.69652451488 -1.6287909791  fixed\n",
      "dumb logq peak_offset PFO ScP 0.236528910312 -1.46465593506  fixed\n",
      "dumb logq tt_residual PFO ScP -0.186837411089 -1.20344064897  fixed\n",
      "dumb logq peak_decay PFO ScP 1.21425677899 -1.83234465036  fixed\n",
      "PFO -17.6711703614 -17.6738255283\n",
      "\n",
      "sanity check should be zero: 4.36557456851e-11\n",
      "results\n",
      "-128389.260326 -128393.56364 -7.32567483869 -17.6738255283\n",
      "-6.0448367093\n"
     ]
    }
   ],
   "source": [
    "n = sg.evnodes[5][\"loc\"]\n",
    "params = [\"lon\", \"lat\", \"depth\", \"time\", \"mb\"]\n",
    "std = 100.0\n",
    "np.random.seed(11)\n",
    "lpo = sg.current_log_p()\n",
    "lp_old, lp_new, log_qforward, log_qbackward, replicate_forward = ev_move_full(sg, n, std, params, \n",
    "                                                                              force_proposed_ev=new_ev,\n",
    "                                                                              return_debug=True)\n",
    "lpn = sg.current_log_p()\n",
    "\n",
    "print\n",
    "print  \"sanity check should be zero:\", lpn-lpo\n",
    "\n",
    "print \"results\"\n",
    "print lp_new, lp_old, log_qforward, log_qbackward\n",
    "print lp_new- lp_old + log_qbackward - log_qforward"
   ]
  },
  {
   "cell_type": "code",
   "execution_count": 6,
   "metadata": {
    "collapsed": false
   },
   "outputs": [],
   "source": [
    "replicate_forward()"
   ]
  },
  {
   "cell_type": "code",
   "execution_count": 9,
   "metadata": {
    "collapsed": false
   },
   "outputs": [
    {
     "name": "stdout",
     "output_type": "stream",
     "text": [
      "saving debug dump to /home/dmoore/python/sigvisa/logs/mcmc/00598/step_000208/...\n",
      "saved pickled graph\n"
     ]
    }
   ],
   "source": [
    "sg.debug_dump(\"/home/dmoore/python/sigvisa/logs/mcmc/00598/step_000208/\", pickle_only=True)"
   ]
  },
  {
   "cell_type": "code",
   "execution_count": 7,
   "metadata": {
    "collapsed": false
   },
   "outputs": [
    {
     "data": {
      "text/plain": [
       "-120374.19435224481"
      ]
     },
     "execution_count": 7,
     "metadata": {},
     "output_type": "execute_result"
    }
   ],
   "source": [
    "sg.current_log_p()"
   ]
  },
  {
   "cell_type": "code",
   "execution_count": 8,
   "metadata": {
    "collapsed": false
   },
   "outputs": [
    {
     "name": "stdout",
     "output_type": "stream",
     "text": [
      "-120375.557449\n"
     ]
    }
   ],
   "source": [
    "print lpn"
   ]
  },
  {
   "cell_type": "code",
   "execution_count": null,
   "metadata": {
    "collapsed": true
   },
   "outputs": [],
   "source": []
  }
 ],
 "metadata": {
  "kernelspec": {
   "display_name": "Python 2",
   "language": "python",
   "name": "python2"
  },
  "language_info": {
   "codemirror_mode": {
    "name": "ipython",
    "version": 2
   },
   "file_extension": ".py",
   "mimetype": "text/x-python",
   "name": "python",
   "nbconvert_exporter": "python",
   "pygments_lexer": "ipython2",
   "version": "2.7.6"
  }
 },
 "nbformat": 4,
 "nbformat_minor": 0
}
