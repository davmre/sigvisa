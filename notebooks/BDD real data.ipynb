{
 "metadata": {
  "name": ""
 },
 "nbformat": 3,
 "nbformat_minor": 0,
 "worksheets": [
  {
   "cells": [
    {
     "cell_type": "code",
     "collapsed": false,
     "input": [
      "%load_ext autoreload\n",
      "#stas = ['AAK', 'AKTO', 'BVAR', 'KURK', 'MKAR', 'SONM', 'ZALV']\n",
      "stas = ['AAK', 'AKTO', 'BVAR', 'MKAR', 'ZALV']\n",
      "basedir = \"vdec_signals\"\n",
      "\n",
      "ev_bounds = dict()\n",
      "\n",
      "ev_bounds['top'] = 50\n",
      "ev_bounds['bottom'] = 35\n",
      "ev_bounds['left'] = 60\n",
      "ev_bounds['right'] =100\n",
      "\n",
      "phase = 'Pn'\n"
     ],
     "language": "python",
     "metadata": {},
     "outputs": [],
     "prompt_number": 1
    },
    {
     "cell_type": "code",
     "collapsed": false,
     "input": [
      "from sigvisa.explore.doublets.xcorr_pairs import xcorr, xcorr_valid, extract_phase_window\n",
      "from sigvisa.treegp.gp import GP, GPCov, ll_under_GPprior, gaussian_logp\n",
      "import seaborn as sns\n",
      "\n",
      "import sigvisa.explore.wavelet_matching\n",
      "from sigvisa.explore.wavelet_matching import *\n",
      "\n",
      "\n",
      "import sigvisa.explore.wavelet_vis\n",
      "from sigvisa.explore.wavelet_vis import *\n",
      "\n",
      "%autoreload\n",
      "\n",
      "sigvisa.explore.wavelet_matching.phase=phase\n",
      "sigvisa.explore.wavelet_matching.ev_bounds=ev_bounds\n",
      "sigvisa.explore.wavelet_vis.basedir=basedir\n",
      "sigvisa.explore.wavelet_vis.stas=stas"
     ],
     "language": "python",
     "metadata": {},
     "outputs": [],
     "prompt_number": 2
    },
    {
     "cell_type": "code",
     "collapsed": false,
     "input": [
      "from sigvisa.models.ttime import tt_predict\n",
      "\n",
      "def predict_tt_coord(X, sta, phase):\n",
      "    ev = Event(lon=X[0], lat=X[1], depth=X[2], time=X[3], mb=4.0)\n",
      "    return tt_predict(ev, sta, phase)"
     ],
     "language": "python",
     "metadata": {},
     "outputs": [],
     "prompt_number": 3
    },
    {
     "cell_type": "code",
     "collapsed": false,
     "input": [
      "evs = dict()\n",
      "signals = dict()\n",
      "for sta in stas:\n",
      "    #all_data[sta], evs[sta], signals[sta] = load_station_data(evids, sta)\n",
      "    evs[sta], signals[sta] = load_vdec_signals(sta)\n",
      "    \n",
      "ys = load_true_data(stas)"
     ],
     "language": "python",
     "metadata": {},
     "outputs": [
      {
       "output_type": "stream",
       "stream": "stdout",
       "text": [
        "loading data from AAK\n",
        "loading data from"
       ]
      },
      {
       "output_type": "stream",
       "stream": "stdout",
       "text": [
        " AKTO\n",
        "loading data from BVAR\n",
        "loading data from MKAR\n",
        "loading data from"
       ]
      },
      {
       "output_type": "stream",
       "stream": "stdout",
       "text": [
        " ZALV\n"
       ]
      }
     ],
     "prompt_number": 4
    },
    {
     "cell_type": "code",
     "collapsed": false,
     "input": [],
     "language": "python",
     "metadata": {},
     "outputs": [],
     "prompt_number": 25
    },
    {
     "cell_type": "code",
     "collapsed": false,
     "input": [
      "evs_filtered = dict()\n",
      "picks_filtered = dict()\n",
      "signals_filtered = dict()\n",
      "\n",
      "filtered_left = 74\n",
      "filtered_right = 76\n",
      "filtered_bottom=38.5\n",
      "filtered_top=40.5\n",
      "\n",
      "for sta in stas:\n",
      "    evs_filtered[sta] = []\n",
      "    picks_filtered[sta] = []\n",
      "    signals_filtered[sta] = []\n",
      "    for i in range(evs[sta].shape[0]):\n",
      "        ev = evs[sta][i,:]\n",
      "        if ev[0] > filtered_left and  ev[0] < filtered_right and ev[1] > filtered_bottom and ev[1] < filtered_top:\n",
      "            evs_filtered[sta].append(ev)\n",
      "            picks_filtered[sta].append(ys[sta]['arrival_time_picked'][i])\n",
      "            signals_filtered[sta].append(signals[sta][i,:])\n",
      "    evs_filtered[sta] = np.array(evs_filtered[sta])\n",
      "    picks_filtered[sta] = np.array(picks_filtered[sta])\n",
      "    signals_filtered[sta] = np.array(signals_filtered[sta])\n",
      "\n",
      "    print \"got\", len(picks_filtered[sta]), \"at\", sta\n",
      "    \n",
      "evs = evs_filtered\n",
      "picks = picks_filtered\n",
      "signals = signals_filtered\n",
      "    \n",
      "\"\"\"\n",
      "for sta in stas:\n",
      "    eyes, js = pairs[sta]\n",
      "    new_eyes = []\n",
      "    new_js = []\n",
      "    for k in range(len(eyes)):\n",
      "        evid_i = evs[sta][eyes[k],4]\n",
      "        evid_j = evs[sta][js[k],4]\n",
      "        \n",
      "        match_i = (evid_i == evs_filtered[sta][:,4])\n",
      "        match_j = (evid_j == evs_filtered[sta][:,4])\n",
      "        \n",
      "        eye = np.arange(evs_filtered[sta].shape[0])[match_i]\n",
      "        j = np.arange(evs_filtered[sta].shape[0])[match_j]\n",
      "        if eye and j:\n",
      "            new_eyes.append(eye)\n",
      "            new_js.append(j)\n",
      "    pairs_filtered[sta] = (new_eyes, new_js)\"\"\""
     ],
     "language": "python",
     "metadata": {},
     "outputs": [
      {
       "output_type": "stream",
       "stream": "stdout",
       "text": [
        "got 31 at AAK\n",
        "got 37 at AKTO\n",
        "got 45 at BVAR\n",
        "got 51 at MKAR\n",
        "got 37 at ZALV\n"
       ]
      },
      {
       "metadata": {},
       "output_type": "pyout",
       "prompt_number": 34,
       "text": [
        "'\\nfor sta in stas:\\n    eyes, js = pairs[sta]\\n    new_eyes = []\\n    new_js = []\\n    for k in range(len(eyes)):\\n        evid_i = evs[sta][eyes[k],4]\\n        evid_j = evs[sta][js[k],4]\\n        \\n        match_i = (evid_i == evs_filtered[sta][:,4])\\n        match_j = (evid_j == evs_filtered[sta][:,4])\\n        \\n        eye = np.arange(evs_filtered[sta].shape[0])[match_i]\\n        j = np.arange(evs_filtered[sta].shape[0])[match_j]\\n        if eye and j:\\n            new_eyes.append(eye)\\n            new_js.append(j)\\n    pairs_filtered[sta] = (new_eyes, new_js)'"
       ]
      }
     ],
     "prompt_number": 34
    },
    {
     "cell_type": "code",
     "collapsed": false,
     "input": [
      "\n",
      "pairs = dict()\n",
      "reltimes = dict()\n",
      "for sta in stas:\n",
      "    try:\n",
      "        print \"computing cross-correlation at\", sta        \n",
      "        dists = distance_pairs(evs[sta], evs[sta])\n",
      "        xcs, offs = xcorr_pairs(signals[sta], signals[sta], dists, dist_threshold=40)\n",
      "\n",
      "        print \"inferring atimes at\", sta\n",
      "        pairs_sta, observed_rel_times = observe_rel_times(evs[sta][:,6], xcs, offs, xc_threshold=0.6)\n",
      "\n",
      "        eyes, js = pairs_sta\n",
      "\n",
      "        reltimes[sta] = observed_rel_times\n",
      "        pairs[sta] = (eyes, js)\n",
      "    except Exception as e:\n",
      "        print e\n",
      "        continue"
     ],
     "language": "python",
     "metadata": {},
     "outputs": [
      {
       "output_type": "stream",
       "stream": "stdout",
       "text": [
        "computing cross-correlation at AAK\n",
        "xc event 1"
       ]
      },
      {
       "output_type": "stream",
       "stream": "stdout",
       "text": [
        "\n",
        "inferring atimes at"
       ]
      },
      {
       "output_type": "stream",
       "stream": "stdout",
       "text": [
        " AAK\n",
        "computing cross-correlation at AKTO\n",
        "xc event 1"
       ]
      },
      {
       "output_type": "stream",
       "stream": "stdout",
       "text": [
        "\n",
        "xc event 31"
       ]
      },
      {
       "output_type": "stream",
       "stream": "stdout",
       "text": [
        "\n",
        "inferring atimes at"
       ]
      },
      {
       "output_type": "stream",
       "stream": "stdout",
       "text": [
        " AKTO\n",
        "computing cross-correlation at BVAR\n",
        "xc event 1"
       ]
      },
      {
       "output_type": "stream",
       "stream": "stdout",
       "text": [
        "\n",
        "xc event 31"
       ]
      },
      {
       "output_type": "stream",
       "stream": "stdout",
       "text": [
        "\n",
        "inferring atimes at"
       ]
      },
      {
       "output_type": "stream",
       "stream": "stdout",
       "text": [
        " BVAR\n",
        "computing cross-correlation at MKAR\n",
        "xc event 1"
       ]
      },
      {
       "output_type": "stream",
       "stream": "stdout",
       "text": [
        "\n",
        "xc event 31"
       ]
      },
      {
       "output_type": "stream",
       "stream": "stdout",
       "text": [
        "\n",
        "inferring atimes at"
       ]
      },
      {
       "output_type": "stream",
       "stream": "stdout",
       "text": [
        " MKAR\n",
        "computing cross-correlation at ZALV\n",
        "xc event 1"
       ]
      },
      {
       "output_type": "stream",
       "stream": "stdout",
       "text": [
        "\n",
        "xc event 31"
       ]
      },
      {
       "output_type": "stream",
       "stream": "stdout",
       "text": [
        "\n",
        "inferring atimes at"
       ]
      },
      {
       "output_type": "stream",
       "stream": "stdout",
       "text": [
        " ZALV\n"
       ]
      }
     ],
     "prompt_number": 35
    },
    {
     "cell_type": "code",
     "collapsed": false,
     "input": [
      "print pairs"
     ],
     "language": "python",
     "metadata": {},
     "outputs": [
      {
       "output_type": "stream",
       "stream": "stdout",
       "text": [
        "{'ZALV': (array([], dtype=int64), array([], dtype=int64)), 'MKAR': (array([10, 24]), array([11, 37])), 'BVAR': (array([19]), array([34])), 'AAK': (array([1]), array([17])), 'AKTO': (array([10]), array([25]))}\n"
       ]
      }
     ],
     "prompt_number": 36
    },
    {
     "cell_type": "code",
     "collapsed": false,
     "input": [
      "evlocs = dict()\n",
      "for sta in stas:\n",
      "    for (i, ev) in enumerate(evs[sta]):\n",
      "        evid = int(ev[4])\n",
      "        evlocs[evid] = ev[0:4]\n",
      "evlocs_global = evlocs"
     ],
     "language": "python",
     "metadata": {},
     "outputs": [],
     "prompt_number": 44
    },
    {
     "cell_type": "code",
     "collapsed": false,
     "input": [],
     "language": "python",
     "metadata": {},
     "outputs": [],
     "prompt_number": 42
    },
    {
     "cell_type": "code",
     "collapsed": false,
     "input": [],
     "language": "python",
     "metadata": {},
     "outputs": [],
     "prompt_number": 19
    },
    {
     "cell_type": "code",
     "collapsed": false,
     "input": [
      "from sigvisa.treegp.cover_tree import VectorTree, MatrixTree\n",
      "\n",
      "pt = VectorTree(np.array(evs['MKAR'], copy=True), 1, atime_cov.dfn_str, atime_cov.dfn_params, atime_cov.wfn_str, atime_cov.wfn_params)\n",
      "\n",
      "def unflatten(fev):\n",
      "    X_events = np.zeros(events.shape)\n",
      "    tmp = np.reshape(fev, (events.shape[0], 3))\n",
      "    X_events[:,0:2] = tmp[:,0:2]\n",
      "    X_events[:,3] = tmp[:,2]\n",
      "    return X_events\n",
      "\n",
      "def flatten(Xev):\n",
      "    s = Xev[:,[0,1,3]]\n",
      "    return s.flatten()\n",
      "\n",
      "def abs_dKdi(X_events, p, i):\n",
      "    N = X_events.shape[0]\n",
      "    dKdi = np.zeros((N, N))\n",
      "    xp =  np.array(X_events[p:p+1,:], copy=True)\n",
      "    kp = pt.kernel_deriv_wrt_xi(xp, X_events, 0, i)\n",
      "    dKdi[p,:] = kp\n",
      "    dKdi[:,p] = kp\n",
      "    dKdi[p,p] = 0\n",
      "    return dKdi\n",
      "\n",
      "def gpllgrad(X_events, y, fK, fdKdi):\n",
      "    #X_events = unflatten(flat_ev)\n",
      "    flat_ev = flatten(X_events)\n",
      "    n = X_events.shape[0]\n",
      "    grad = np.zeros((len(flat_ev),))\n",
      "    K = fK(X_events)\n",
      "    \n",
      "    L = scipy.linalg.cholesky(K, lower=True)\n",
      "    ld2 = np.log(np.diag(L)).sum() # this computes .5 * log(det(K))\n",
      "    alpha = scipy.linalg.cho_solve((L, True), y)\n",
      "    ll =  -.5 * ( np.dot(y.T, alpha) + n * np.log(2*np.pi)) - ld2\n",
      "\n",
      "    Kinv = np.linalg.inv(K)\n",
      "    \n",
      "    grad_wrt_y = -scipy.linalg.cho_solve((L, True), y)\n",
      "    \n",
      "    for idx in range(len(flat_ev)):\n",
      "        p = idx / 3\n",
      "        i = idx % 3\n",
      "        if i < 2:\n",
      "            dKdi = fdKdi(X_events, p, i)\n",
      "            \n",
      "            #X_events[p,i] += 1e-4\n",
      "            #K2 = fK(X_events)\n",
      "            #X_events[p,i] -= 1e-4\n",
      "            #dKdie = (K2-K)/1e-4\n",
      "            #if np.max(np.abs(dKdie - dKdi)) > .1:\n",
      "            #    import pdb; pdb.set_trace()\n",
      "            \n",
      "            dlldi = .5 * np.dot(alpha.T, np.dot(dKdi, alpha))\n",
      "            dlldi -= .5 * np.sum(np.sum(np.multiply(Kinv, dKdi)))\n",
      "        \n",
      "            grad[idx] = dlldi\n",
      "    return ll, grad, grad_wrt_y\n",
      "\n",
      "def absK(Xev):\n",
      "    K = pt.kernel_matrix(Xev, Xev, False)\n",
      "    K += np.eye(K.shape[0]) * pick_var\n",
      "    return K\n",
      "\n",
      "\n",
      "\n",
      "\n",
      "#x0 = flatten(evs['MKAR'])\n",
      "#ll, grad, ygrad = gpllgrad(np.array(evs['MKAR'], copy=True), sample_picks['MKAR']-evs['MKAR'][:,3] , absK, abs_dKdi)\n",
      "#print ll\n",
      "\n",
      "#print grad\n",
      "#print ygrad\n"
     ],
     "language": "python",
     "metadata": {},
     "outputs": [],
     "prompt_number": 37
    },
    {
     "cell_type": "code",
     "collapsed": false,
     "input": [
      "\n",
      "def dydX(X_events, picks, sta, eps=1e-4):\n",
      "    # how does changing lon by epsilon affect observed pick time?\n",
      "    tts = np.array([predict_tt_coord(x, sta, 'Pn') for x in X_events])\n",
      "    lon_tts = np.array([predict_tt_coord((x[0]+eps, x[1], x[2], x[3]), sta, 'Pn') for x in X_events])\n",
      "    lat_tts = np.array([predict_tt_coord((x[0], x[1]+eps, x[2], x[3]), sta, 'Pn') for x in X_events])\n",
      "    \n",
      "    dtt_dlon = (lon_tts - tts) / eps\n",
      "    dtt_dlat = (lat_tts - tts) / eps\n",
      "    \n",
      "    dys = np.ones((X_events.shape[0]*3,))\n",
      "    dys[0::3] = dtt_dlon\n",
      "    dys[1::3] = dtt_dlat\n",
      "    return dys\n",
      "    \n",
      "def location_energy(evlocs, picks):\n",
      "    ll = 0\n",
      "    grad = np.zeros((len(evlocs)*3))\n",
      "    for sta in stas:\n",
      "        selected = [(evid in evs[sta][:,4]) for evid in sorted(evlocs.keys())]\n",
      "        #print np.sum(selected)\n",
      "        X_events = np.array([evlocs[int(evid)] for evid in evs[sta][:,4]])\n",
      "        #print X_events.shape\n",
      "        \n",
      "        pred_tts = [predict_tt_coord(x, sta, 'Pn') for x in X_events]\n",
      "        pred_ats = pred_tts + X_events[:,3]\n",
      "        residuals = picks[sta] - pred_ats\n",
      "        #print \"r\", residuals\n",
      "        \n",
      "        gp_ll, gpgrad, ygrad = gpllgrad(X_events, residuals, absK, abs_dKdi) #ll_under_GPprior(X_events, residuals, atime_cov, pick_var)\n",
      "        dys = dydX(X_events, picks, sta)\n",
      "\n",
      "        \n",
      "        ll += gp_ll\n",
      "        \n",
      "        #print dys.shape\n",
      "        #print ygrad.shape\n",
      "        #print gpgrad.shape\n",
      "        \n",
      "        dys[::3] *= ygrad\n",
      "        dys[1::3] *= ygrad\n",
      "        dys[2::3] *= ygrad\n",
      "        \n",
      "        \n",
      "        \n",
      "        fullgrad = gpgrad - dys\n",
      "        \n",
      "        full_selected = np.array([selected[i/3] for i in range(len(grad))])\n",
      "        \n",
      "        #print grad.shape\n",
      "        #print full_selected.shape\n",
      "        #print np.sum(full_selected)\n",
      "        #print fullgrad.shape\n",
      "        grad[full_selected] += fullgrad\n",
      "        \n",
      "        \n",
      "    return -ll, -grad\n",
      "\n"
     ],
     "language": "python",
     "metadata": {},
     "outputs": [],
     "prompt_number": 79
    },
    {
     "cell_type": "code",
     "collapsed": false,
     "input": [
      "import scipy.optimize\n",
      "\n",
      "\n",
      "\n",
      "def f(flat_ev):\n",
      "    X_events = unflatten(flat_ev)\n",
      "    evlocs = dict(zip(sorted(evlocs_global.keys()), X_events))\n",
      "    #print len(evlocs)\n",
      "    try:\n",
      "        nll, ngrad = location_energy(evlocs, picks)\n",
      "        #print 'returning', nll\n",
      "        #print nll\n",
      "        return nll,ngrad\n",
      "    except Exception as e:\n",
      "        print e\n",
      "        return 999999999, np.zeros(flat_ev.shape)\n",
      "\n",
      "    \n",
      "events = np.array([evlocs_global[k] for k in sorted(evlocs_global.keys())])\n",
      "x0 = flatten(events)\n",
      "#print f(x0)\n",
      "\n",
      "#r = scipy.optimize.minimize(f, x0, options={'disp': True}, jac=True, method=\"BFGS\")\n",
      "#print r\n",
      "\n",
      "ll1,g1 = f(x0)\n",
      "x0[0] += 1e-4\n",
      "ll2,g2 = f(x0)\n",
      "print (ll2-ll1)/1e-4\n",
      "print g1"
     ],
     "language": "python",
     "metadata": {},
     "outputs": [
      {
       "output_type": "stream",
       "stream": "stdout",
       "text": [
        "0.431458666981\n",
        "[  1.56046246e+00   4.59628808e+00  -2.61267194e-01   4.30607901e-01\n",
        "   1.08432434e+00  -9.43097339e-02  -4.24263637e-01  -2.04474932e+00\n",
        "   2.11913197e-01   9.93654484e-01   1.48104227e+00  -1.57317581e-01\n",
        "  -6.78028767e-01  -1.57891895e+00   1.38699040e-01  -6.49684073e-01\n",
        "  -1.81658923e+00   1.58390929e-01   1.43408787e+00   3.90743855e+00\n",
        "  -2.55494597e-01   1.81083754e+00   3.25215896e+00  -2.98663973e-01\n",
        "   2.35816083e+00   3.96644690e+00  -4.55665547e-01   6.26622360e-01\n",
        "  -8.75765190e+00   5.49844424e-01   1.41500837e+00   9.30431749e-01\n",
        "  -2.50776996e-02   4.09151301e-01   2.02313231e+00  -7.84920272e-02\n",
        "   3.02546594e+00  -4.61689219e+00   4.35820081e-01   1.11496641e+00\n",
        "   4.07360503e+00  -3.82886036e-01   8.70366899e-01  -4.51660565e+00\n",
        "   2.82690544e-01  -2.74019219e+00   9.91125260e+00  -7.48603306e-01\n",
        "  -8.69660709e+00   1.97729591e+01  -1.36390291e+00  -1.48813192e+00\n",
        "  -9.15088934e+00   5.22168664e-01  -9.18450106e-01  -7.40148417e+00\n",
        "   6.87758617e-01   1.01829688e+01  -4.59932702e+01   2.66830520e+00\n",
        "  -3.52143291e+00  -1.05324012e+01   7.20267388e-01  -3.52482546e+00\n",
        "  -6.11961923e-01   9.20093484e-02   1.75615212e+00  -5.12054736e+00\n",
        "   1.72027281e-01   2.19424930e+00  -5.72894111e-01  -6.52074510e-02\n",
        "   1.35467356e+00   1.79802624e+01  -1.53945375e+00   3.48999706e+00\n",
        "  -2.73205719e+01   2.45906548e+00  -7.77304053e+00   1.65890547e+01\n",
        "  -1.02744428e+00  -1.33753845e-01   1.33063579e+01  -1.01552630e+00\n",
        "   1.31831117e+00   5.67262088e+00  -2.88126483e-01  -2.44419572e-01\n",
        "  -1.19705093e+00  -2.08237805e-03  -4.18575456e-01   8.32541427e+00\n",
        "  -5.74300741e-01  -3.83685624e+00  -7.23242455e+00   2.32163542e-01\n",
        "   7.92525568e-01   1.28809516e+00  -6.35613933e-02   1.07558435e+00\n",
        "  -9.91308022e-02   1.04496400e-02  -3.57778828e-01  -1.40626954e+00\n",
        "   8.92465452e-02  -1.49030601e+00  -3.32113579e+00   1.57405887e-01\n",
        "  -3.98832823e+00   5.93366202e+00  -6.92761093e-01  -2.93888165e+00\n",
        "  -2.12466606e+01   1.78914149e+00  -2.17987343e+00  -1.08579382e+00\n",
        "  -1.36699869e-01   1.04099796e+00  -2.94602215e-01  -2.44531233e-02\n",
        "   2.00792418e+00   5.65787792e+00  -2.60527114e-01  -1.88239040e+01\n",
        "  -4.80139635e+01   3.82650608e+00   9.46762472e-01  -2.08403383e+00\n",
        "  -3.20529220e-03   1.30579980e+00   1.22693745e+01  -8.49946736e-01\n",
        "   1.22113592e+01   5.24959257e+01  -2.69337334e+00  -3.90989058e-01\n",
        "  -3.97163596e+01   3.66984963e+00   1.66551525e+00   2.10381942e+00\n",
        "  -1.50298305e-01   9.64624874e-01  -3.28480228e+00   3.14295777e-01\n",
        "  -9.24535703e+00  -5.27487549e+01   3.50262526e+00  -2.47617467e+00\n",
        "  -7.36729480e+00   6.30350367e-01  -6.55885245e-02  -7.26152647e+00\n",
        "   7.69974775e-01   8.39779780e-01  -2.76087396e+01   1.77263274e+00\n",
        "   9.02480561e+00  -1.56448218e+01   2.26935128e+00   1.57998509e+01\n",
        "  -9.42703194e+00   1.38949753e+00  -3.66782541e+00  -2.28213729e+01\n",
        "   2.31402944e+00   1.31141605e+01  -5.25979004e+01   4.41831016e+00\n",
        "   1.48936495e-01   1.78944906e+00  -3.02126729e-01]\n"
       ]
      }
     ],
     "prompt_number": 84
    },
    {
     "cell_type": "code",
     "collapsed": false,
     "input": [
      "#print unflatten(r.x)\n",
      "loc_events = unflatten(r.x)\n",
      "scatter(loc_events[:,0], events[:,1])"
     ],
     "language": "python",
     "metadata": {},
     "outputs": [
      {
       "metadata": {},
       "output_type": "pyout",
       "prompt_number": 162,
       "text": [
        "<matplotlib.collections.PathCollection at 0xabf2590>"
       ]
      },
      {
       "metadata": {},
       "output_type": "display_data",
       "png": "[encoded data removed]",
       "text": [
        "<matplotlib.figure.Figure at 0xa6f7cd0>"
       ]
      }
     ],
     "prompt_number": 162
    },
    {
     "cell_type": "code",
     "collapsed": false,
     "input": [
      "\n",
      "def expand_to_rel(K, pairs, pick_var, rel_var):\n",
      "    N = K.shape[0]\n",
      "    eyes, js = pairs\n",
      "    NN = N + len(eyes)\n",
      "    KK = np.zeros((NN, NN))\n",
      "    KK[0:N, 0:N] = K + np.eye(N) * pick_var\n",
      "    \n",
      "    # cov(a, c-d) = cov(a,c) + cov(a,d)\n",
      "    # cov(a-b, c-d) = cov(a,c) + cov(a,d) + cov(b,c) + cov(b,d)\n",
      "\n",
      "    offdiag = K[eyes,:] + K[js,:]\n",
      "    KK[N:NN,:N] = offdiag\n",
      "    KK[:N, N:NN] = offdiag.T\n",
      "    \n",
      "    #eyes = \n",
      "    \n",
      "    diag = K[np.ix_(eyes,eyes)] + K[np.ix_(eyes,js)] + K[np.ix_(js, eyes)] + K[np.ix_(js, js)]\n",
      "    diag += np.eye(diag.shape[0]) * rel_var\n",
      "    KK[N:NN,N:NN] = diag\n",
      "    #print \"returning\", K.shape, KK.shape\n",
      "    return KK\n",
      "    \n",
      "def rel_cov(X_events, pairs, cov, pick_var, rel_var, predict_tree=None):\n",
      "    if predict_tree is None:\n",
      "        predict_tree = VectorTree(X_events, 1, cov.dfn_str, cov.dfn_params, cov.wfn_str, cov.wfn_params)\n",
      "        \n",
      "    K = predict_tree.kernel_matrix(X_events, X_events, False)\n",
      "\n",
      "    return expand_to_rel(K, pairs, pick_var, rel_var), predict_tree\n",
      "        \n",
      "def rel_dKdi(predict_tree, X_events, p, i, pairs):\n",
      "    #print \"dkdi-ing\"\n",
      "    dKdi = abs_dKdi(X_events, p, i)\n",
      "    #print \"got dKdi\", dKdi.shape\n",
      "    return expand_to_rel(dKdi, pairs, 0.0, 0.0)\n",
      "    \n",
      "    \n",
      "def relK(Xev):\n",
      "    return rel_cov(Xev, pairs, atime_cov, pick_var, rel_var, pt)[0]\n",
      "\n",
      "def reldK(Xev, p, i):\n",
      "    return rel_dKdi(pt, Xev, p, i, pairs)\n",
      "    \n",
      "#KK, pt = rel_cov(events, (eyes, js), atime_cov, 4.0, 4.0)\n"
     ],
     "language": "python",
     "metadata": {},
     "outputs": [],
     "prompt_number": 163
    },
    {
     "cell_type": "code",
     "collapsed": false,
     "input": [
      "\n",
      "def rel_dydX(X_events, picks, pairs, sta, eps=1e-4):\n",
      "    # how does changing lon by epsilon affect observed pick time?\n",
      "    dys = dydX(X_events, picks, sta, eps=eps)\n",
      "    N = len(dys)\n",
      "    eyes, js = pairs\n",
      "    full_dys = np.zeros((N + len(eyes)))\n",
      "    full_dys[:N] = dys\n",
      "    full_dys[N:] = dys[eyes] - dys[js]\n",
      "    return full_dys\n",
      "\n",
      "def rel_energy(X_events, picks, pairs, rel_offsets):\n",
      "    ll = 0\n",
      "    grad=None\n",
      "    eyes, js = pairs\n",
      "    for sta in stas:\n",
      "        pred_tts = [predict_tt_coord(x, sta, 'Pn') for x in X_events]\n",
      "        pred_ats = pred_tts + X_events[:,3]\n",
      "        residuals = picks[sta] - pred_ats\n",
      "        \n",
      "        pred_offsets = pred_ats[eyes] - pred_ats[js]\n",
      "        offset_residuals = rel_offsets[sta] - pred_offsets\n",
      "        obs = np.concatenate([residuals, offset_residuals])\n",
      "        \n",
      "        \n",
      "        #K = rel_cov(X_events, pairs, atime_cov, pick_var, rel_var)\n",
      "        gp_ll, gpgrad, ygrad = gpllgrad(X_events, obs, relK, reldK)\n",
      "        \n",
      "        ll += gp_ll\n",
      "        \n",
      "        dys = rel_dydX(X_events, picks, pairs, sta)\n",
      "        N = X_events.shape[0]\n",
      "        dLdtheta = np.zeros((3*N),)\n",
      "        for theta_i in range(3*N):\n",
      "            j = theta_i / 3\n",
      "            \n",
      "            # this param can affect the GP directly through y[j],\n",
      "            # but also indirectly through y[N+k] where k is any\n",
      "            # index such that j = eyes[k] or j = js[k]\n",
      "            dLdtheta[theta_i] = ygrad[j] * dys[theta_i]\n",
      "            for k in range(len(eyes)):\n",
      "                if eyes[k] == j:\n",
      "                    dLdtheta[theta_i] += ygrad[N+k] * dys[theta_i]\n",
      "                elif js[k] == j:\n",
      "                    dLdtheta[theta_i] -= ygrad[N+k] * dys[theta_i]\n",
      "        \n",
      "        \n",
      "        #\n",
      "        #dys[::3] *= ygrad\n",
      "        #dys[1::3] *= ygrad\n",
      "        #dys[2::3] *= ygrad\n",
      "        \n",
      "        \n",
      "        \n",
      "        # now we have ygrad[:N] is the derivative of the GP wrt each pick residual, and ygrad[N:] gives derivatives wrt each relative residual\n",
      "        # and dys gives the derivative of the pick/relative residuals wrt each event param.\n",
      "        # so dys should be three times as long\n",
      "\n",
      "        # \n",
      "        \n",
      "        fullgrad = gpgrad - dLdtheta\n",
      "        \n",
      "        grad = fullgrad if grad is None else grad + fullgrad\n",
      "        \n",
      "        \n",
      "        grad = gpgrad if grad is None else grad + gpgrad\n",
      "    return -ll, -grad"
     ],
     "language": "python",
     "metadata": {},
     "outputs": [],
     "prompt_number": 164
    },
    {
     "cell_type": "code",
     "collapsed": false,
     "input": [],
     "language": "python",
     "metadata": {},
     "outputs": [],
     "prompt_number": 164
    },
    {
     "cell_type": "code",
     "collapsed": false,
     "input": [
      "mult = np.array([1.0 if (n % 3 == 2) else 100.0 for n in range(len(flatten(loc_events)))])\n",
      "\n",
      "shift = np.array([np.mean(events[:,3]) if (n % 3 == 2) else 0.0 for n in range(len(flatten(loc_events)))])\n",
      "\n",
      "#print shift\n",
      "#mult = np.array([1.0 if (n % 3 == 2) else 1.0 for n in range(len(flatten(loc_events)))])\n",
      "\n",
      "\n",
      "def ff(flat_ev):\n",
      "    \n",
      "    X_events = unflatten(flat_ev / mult + shift)\n",
      "    try:\n",
      "        nll,ngrad = rel_energy(X_events, sample_picks, pairs, rel_atimes)\n",
      "        print 'returning', nll\n",
      "        return nll, ngrad / mult\n",
      "    except Exception as e:\n",
      "        print e\n",
      "        return 999999999, np.zeros(flat_ev.shape)\n",
      "\n",
      "x0 = flatten(loc_events) * mult - shift\n",
      "#x0 = flatten(events) * mult - shift\n",
      "\n",
      "r = scipy.optimize.minimize(ff, x0, options={'disp': True}, jac=True, method=\"BFGS\")\n",
      "#r = scipy.optimize.minimize(ff, r.x, options={'disp': True}, jac=True, method=\"CG\")\n",
      "\n",
      "#x = x0\n",
      "for i in range(1):\n",
      "    print \"round\"\n",
      "    nll, ngrad = ff(r.x)\n",
      "    x = r.x - ngrad * 0.001\n",
      "    print x\n",
      "    r = scipy.optimize.minimize(ff, x, options={'disp': True}, jac=True, method=\"BFGS\")\n",
      "\n",
      "#ll1, g1 = ff(x0)\n",
      "#x0[-4] += 1e-4\n",
      "#ll2, g2 = ff(x0)\n",
      "#print (ll2-ll1)/1e-4\n",
      "#print g1\n",
      "\n",
      "#r = scipy.optimize.minimize(ff, r.x, options={'disp': True}, jac=True, method=\"TNC\")\n",
      "\n"
     ],
     "language": "python",
     "metadata": {},
     "outputs": [
      {
       "output_type": "stream",
       "stream": "stdout",
       "text": [
        "returning 1632323.71035\n",
        "returning"
       ]
      },
      {
       "output_type": "stream",
       "stream": "stdout",
       "text": [
        " 1632323.71035\n",
        "EarthModel: requesting travel time for impossible phase.\n",
        "EarthModel: requesting travel time for impossible phase.\n",
        "EarthModel: requesting travel time for impossible phase.\n",
        "EarthModel: requesting travel time for impossible phase.\n",
        "returning"
       ]
      },
      {
       "output_type": "stream",
       "stream": "stdout",
       "text": [
        " 2.72522337876e+12\n",
        "returning"
       ]
      },
      {
       "output_type": "stream",
       "stream": "stdout",
       "text": [
        " 1119788.01014\n",
        "returning"
       ]
      },
      {
       "output_type": "stream",
       "stream": "stdout",
       "text": [
        " 7159501.2657\n",
        "returning"
       ]
      },
      {
       "output_type": "stream",
       "stream": "stdout",
       "text": [
        " 1082556.19446\n",
        "returning"
       ]
      },
      {
       "output_type": "stream",
       "stream": "stdout",
       "text": [
        " 1081698.94078\n",
        "returning"
       ]
      },
      {
       "output_type": "stream",
       "stream": "stdout",
       "text": [
        " 1064023.65188\n",
        "returning"
       ]
      },
      {
       "output_type": "stream",
       "stream": "stdout",
       "text": [
        " 1038355.65623\n",
        "returning"
       ]
      },
      {
       "output_type": "stream",
       "stream": "stdout",
       "text": [
        " 1002034.94669\n",
        "returning"
       ]
      },
      {
       "output_type": "stream",
       "stream": "stdout",
       "text": [
        " 943340.294333\n",
        "returning"
       ]
      },
      {
       "output_type": "stream",
       "stream": "stdout",
       "text": [
        " 851964.414187\n",
        "returning"
       ]
      },
      {
       "output_type": "stream",
       "stream": "stdout",
       "text": [
        " 790428.21498\n",
        "returning"
       ]
      },
      {
       "output_type": "stream",
       "stream": "stdout",
       "text": [
        " 683781.367322\n",
        "returning"
       ]
      },
      {
       "output_type": "stream",
       "stream": "stdout",
       "text": [
        " 640939.951437\n",
        "returning"
       ]
      },
      {
       "output_type": "stream",
       "stream": "stdout",
       "text": [
        " 600474.550233\n",
        "returning"
       ]
      },
      {
       "output_type": "stream",
       "stream": "stdout",
       "text": [
        " 606159.36382\n",
        "returning"
       ]
      },
      {
       "output_type": "stream",
       "stream": "stdout",
       "text": [
        " 585982.11095\n",
        "returning"
       ]
      },
      {
       "output_type": "stream",
       "stream": "stdout",
       "text": [
        " 581978.822055\n",
        "returning"
       ]
      },
      {
       "output_type": "stream",
       "stream": "stdout",
       "text": [
        " 574352.822902\n",
        "returning"
       ]
      },
      {
       "output_type": "stream",
       "stream": "stdout",
       "text": [
        " 548932.671204\n",
        "returning"
       ]
      },
      {
       "output_type": "stream",
       "stream": "stdout",
       "text": [
        " 533742.050239\n",
        "returning"
       ]
      },
      {
       "output_type": "stream",
       "stream": "stdout",
       "text": [
        " 507168.044584\n",
        "returning"
       ]
      },
      {
       "output_type": "stream",
       "stream": "stdout",
       "text": [
        " 478578.813808\n",
        "returning"
       ]
      },
      {
       "output_type": "stream",
       "stream": "stdout",
       "text": [
        " 485732.238938\n",
        "returning"
       ]
      },
      {
       "output_type": "stream",
       "stream": "stdout",
       "text": [
        " 465639.991554\n",
        "returning"
       ]
      },
      {
       "output_type": "stream",
       "stream": "stdout",
       "text": [
        " 441298.305438\n",
        "returning"
       ]
      },
      {
       "output_type": "stream",
       "stream": "stdout",
       "text": [
        " 404381.838025\n",
        "returning"
       ]
      },
      {
       "output_type": "stream",
       "stream": "stdout",
       "text": [
        " 357952.8249\n",
        "returning"
       ]
      },
      {
       "output_type": "stream",
       "stream": "stdout",
       "text": [
        " 374929.53814\n",
        "returning"
       ]
      },
      {
       "output_type": "stream",
       "stream": "stdout",
       "text": [
        " 337240.381157\n",
        "returning"
       ]
      },
      {
       "output_type": "stream",
       "stream": "stdout",
       "text": [
        " 311022.259219\n",
        "returning"
       ]
      },
      {
       "output_type": "stream",
       "stream": "stdout",
       "text": [
        " 293228.528083\n",
        "returning"
       ]
      },
      {
       "output_type": "stream",
       "stream": "stdout",
       "text": [
        " 305860.089375\n",
        "returning"
       ]
      },
      {
       "output_type": "stream",
       "stream": "stdout",
       "text": [
        " 291750.0249\n",
        "returning"
       ]
      },
      {
       "output_type": "stream",
       "stream": "stdout",
       "text": [
        " 289094.403027\n",
        "returning"
       ]
      },
      {
       "output_type": "stream",
       "stream": "stdout",
       "text": [
        " 285059.867741\n",
        "returning"
       ]
      },
      {
       "output_type": "stream",
       "stream": "stdout",
       "text": [
        " 279056.138589\n",
        "returning"
       ]
      },
      {
       "output_type": "stream",
       "stream": "stdout",
       "text": [
        " 268511.837584\n",
        "returning"
       ]
      },
      {
       "output_type": "stream",
       "stream": "stdout",
       "text": [
        " 249836.939994\n",
        "returning"
       ]
      },
      {
       "output_type": "stream",
       "stream": "stdout",
       "text": [
        " 242419.150718\n",
        "returning"
       ]
      },
      {
       "output_type": "stream",
       "stream": "stdout",
       "text": [
        " 256170.566753\n",
        "returning"
       ]
      },
      {
       "output_type": "stream",
       "stream": "stdout",
       "text": [
        " 242975.447147\n",
        "returning"
       ]
      },
      {
       "output_type": "stream",
       "stream": "stdout",
       "text": [
        " 242374.46713\n",
        "returning"
       ]
      },
      {
       "output_type": "stream",
       "stream": "stdout",
       "text": [
        " 242338.46892\n",
        "returning"
       ]
      },
      {
       "output_type": "stream",
       "stream": "stdout",
       "text": [
        " 242216.226233\n",
        "returning"
       ]
      },
      {
       "output_type": "stream",
       "stream": "stdout",
       "text": [
        " 242087.188826\n",
        "returning"
       ]
      },
      {
       "output_type": "stream",
       "stream": "stdout",
       "text": [
        " 241674.111682\n",
        "returning"
       ]
      },
      {
       "output_type": "stream",
       "stream": "stdout",
       "text": [
        " 240876.150373\n",
        "returning"
       ]
      },
      {
       "output_type": "stream",
       "stream": "stdout",
       "text": [
        " 238913.54402\n",
        "returning"
       ]
      },
      {
       "output_type": "stream",
       "stream": "stdout",
       "text": [
        " 235982.303229\n",
        "returning"
       ]
      },
      {
       "output_type": "stream",
       "stream": "stdout",
       "text": [
        " 235641.580227\n",
        "returning"
       ]
      },
      {
       "output_type": "stream",
       "stream": "stdout",
       "text": [
        " 235013.62278\n",
        "returning"
       ]
      },
      {
       "output_type": "stream",
       "stream": "stdout",
       "text": [
        " 232773.314784\n",
        "returning"
       ]
      },
      {
       "output_type": "stream",
       "stream": "stdout",
       "text": [
        " 227903.830473\n",
        "returning"
       ]
      },
      {
       "output_type": "stream",
       "stream": "stdout",
       "text": [
        " 221934.279574\n",
        "returning"
       ]
      },
      {
       "output_type": "stream",
       "stream": "stdout",
       "text": [
        " 213154.189968\n",
        "returning"
       ]
      },
      {
       "output_type": "stream",
       "stream": "stdout",
       "text": [
        " 199958.085415\n",
        "returning"
       ]
      },
      {
       "output_type": "stream",
       "stream": "stdout",
       "text": [
        " 186566.550631\n",
        "returning"
       ]
      },
      {
       "output_type": "stream",
       "stream": "stdout",
       "text": [
        " 177973.796882\n",
        "returning"
       ]
      },
      {
       "output_type": "stream",
       "stream": "stdout",
       "text": [
        " 178120.19028\n",
        "returning"
       ]
      },
      {
       "output_type": "stream",
       "stream": "stdout",
       "text": [
        " 172062.452677\n",
        "returning"
       ]
      },
      {
       "output_type": "stream",
       "stream": "stdout",
       "text": [
        " 173547.489485\n",
        "returning"
       ]
      },
      {
       "output_type": "stream",
       "stream": "stdout",
       "text": [
        " 166680.205583\n",
        "returning"
       ]
      },
      {
       "output_type": "stream",
       "stream": "stdout",
       "text": [
        " 156308.225754\n",
        "returning"
       ]
      },
      {
       "output_type": "stream",
       "stream": "stdout",
       "text": [
        " 144756.663276\n",
        "returning"
       ]
      },
      {
       "output_type": "stream",
       "stream": "stdout",
       "text": [
        " 133734.255196\n",
        "returning"
       ]
      },
      {
       "output_type": "stream",
       "stream": "stdout",
       "text": [
        " 123095.670293\n",
        "returning"
       ]
      },
      {
       "output_type": "stream",
       "stream": "stdout",
       "text": [
        " 117608.180828\n",
        "returning"
       ]
      },
      {
       "output_type": "stream",
       "stream": "stdout",
       "text": [
        " 125371.150458\n",
        "returning"
       ]
      },
      {
       "output_type": "stream",
       "stream": "stdout",
       "text": [
        " 116586.905192\n",
        "returning"
       ]
      },
      {
       "output_type": "stream",
       "stream": "stdout",
       "text": [
        " 115164.448964\n",
        "returning"
       ]
      },
      {
       "output_type": "stream",
       "stream": "stdout",
       "text": [
        " 113199.316128\n",
        "returning"
       ]
      },
      {
       "output_type": "stream",
       "stream": "stdout",
       "text": [
        " 109500.908632\n",
        "returning"
       ]
      },
      {
       "output_type": "stream",
       "stream": "stdout",
       "text": [
        " 104211.29731\n",
        "returning"
       ]
      },
      {
       "output_type": "stream",
       "stream": "stdout",
       "text": [
        " 99641.2424102\n",
        "returning"
       ]
      },
      {
       "output_type": "stream",
       "stream": "stdout",
       "text": [
        " 96347.4348434\n",
        "returning"
       ]
      },
      {
       "output_type": "stream",
       "stream": "stdout",
       "text": [
        " 91433.5572791\n",
        "returning"
       ]
      },
      {
       "output_type": "stream",
       "stream": "stdout",
       "text": [
        " 85595.646189\n",
        "returning"
       ]
      },
      {
       "output_type": "stream",
       "stream": "stdout",
       "text": [
        " 100042.923826\n",
        "returning"
       ]
      },
      {
       "output_type": "stream",
       "stream": "stdout",
       "text": [
        " 84026.3318313\n",
        "returning"
       ]
      },
      {
       "output_type": "stream",
       "stream": "stdout",
       "text": [
        " 81727.0379276\n",
        "returning"
       ]
      },
      {
       "output_type": "stream",
       "stream": "stdout",
       "text": [
        " 77759.5186805\n",
        "returning"
       ]
      },
      {
       "output_type": "stream",
       "stream": "stdout",
       "text": [
        " 72124.6261198\n",
        "returning"
       ]
      },
      {
       "output_type": "stream",
       "stream": "stdout",
       "text": [
        " 76235.9729469\n",
        "returning"
       ]
      },
      {
       "output_type": "stream",
       "stream": "stdout",
       "text": [
        " 70130.7589736\n",
        "returning"
       ]
      },
      {
       "output_type": "stream",
       "stream": "stdout",
       "text": [
        " 67718.1853286\n",
        "returning"
       ]
      },
      {
       "output_type": "stream",
       "stream": "stdout",
       "text": [
        " 66828.3647371\n",
        "returning"
       ]
      },
      {
       "output_type": "stream",
       "stream": "stdout",
       "text": [
        " 65509.3357344\n",
        "returning"
       ]
      },
      {
       "output_type": "stream",
       "stream": "stdout",
       "text": [
        " 65200.0703419\n",
        "returning"
       ]
      },
      {
       "output_type": "stream",
       "stream": "stdout",
       "text": [
        " 64652.9481987\n",
        "returning"
       ]
      },
      {
       "output_type": "stream",
       "stream": "stdout",
       "text": [
        " 63712.6894416\n",
        "returning"
       ]
      },
      {
       "output_type": "stream",
       "stream": "stdout",
       "text": [
        " 62888.5652101\n",
        "returning"
       ]
      },
      {
       "output_type": "stream",
       "stream": "stdout",
       "text": [
        " 62050.1937989\n",
        "returning"
       ]
      },
      {
       "output_type": "stream",
       "stream": "stdout",
       "text": [
        " 60822.8430828\n",
        "returning"
       ]
      },
      {
       "output_type": "stream",
       "stream": "stdout",
       "text": [
        " 59506.0189279\n",
        "returning"
       ]
      },
      {
       "output_type": "stream",
       "stream": "stdout",
       "text": [
        " 59025.2294803\n",
        "returning"
       ]
      },
      {
       "output_type": "stream",
       "stream": "stdout",
       "text": [
        " 58791.6019171\n",
        "returning"
       ]
      },
      {
       "output_type": "stream",
       "stream": "stdout",
       "text": [
        " 57676.0503718\n",
        "returning"
       ]
      },
      {
       "output_type": "stream",
       "stream": "stdout",
       "text": [
        " 56559.0415601\n",
        "returning"
       ]
      },
      {
       "output_type": "stream",
       "stream": "stdout",
       "text": [
        " 54982.8535664\n",
        "returning"
       ]
      },
      {
       "output_type": "stream",
       "stream": "stdout",
       "text": [
        " 53800.4782866\n",
        "returning"
       ]
      },
      {
       "output_type": "stream",
       "stream": "stdout",
       "text": [
        " 53325.3178769\n",
        "returning"
       ]
      },
      {
       "output_type": "stream",
       "stream": "stdout",
       "text": [
        " 52484.0183855\n",
        "returning"
       ]
      },
      {
       "output_type": "stream",
       "stream": "stdout",
       "text": [
        " 51016.4369135\n",
        "returning"
       ]
      },
      {
       "output_type": "stream",
       "stream": "stdout",
       "text": [
        " 48544.5396256\n",
        "returning"
       ]
      },
      {
       "output_type": "stream",
       "stream": "stdout",
       "text": [
        " 45304.3983595\n",
        "returning"
       ]
      },
      {
       "output_type": "stream",
       "stream": "stdout",
       "text": [
        " 44028.3854774\n",
        "returning"
       ]
      },
      {
       "output_type": "stream",
       "stream": "stdout",
       "text": [
        " 42770.2692254\n",
        "returning"
       ]
      },
      {
       "output_type": "stream",
       "stream": "stdout",
       "text": [
        " 43134.7228396\n",
        "returning"
       ]
      },
      {
       "output_type": "stream",
       "stream": "stdout",
       "text": [
        " 42388.9327525\n",
        "returning"
       ]
      },
      {
       "output_type": "stream",
       "stream": "stdout",
       "text": [
        " 41887.6174367\n",
        "returning"
       ]
      },
      {
       "output_type": "stream",
       "stream": "stdout",
       "text": [
        " 41470.1821989\n",
        "returning"
       ]
      },
      {
       "output_type": "stream",
       "stream": "stdout",
       "text": [
        " 41321.1985016\n",
        "returning"
       ]
      },
      {
       "output_type": "stream",
       "stream": "stdout",
       "text": [
        " 41121.7074329\n",
        "returning"
       ]
      },
      {
       "output_type": "stream",
       "stream": "stdout",
       "text": [
        " 40850.4461342\n",
        "returning"
       ]
      },
      {
       "output_type": "stream",
       "stream": "stdout",
       "text": [
        " 40809.2217882\n",
        "returning"
       ]
      },
      {
       "output_type": "stream",
       "stream": "stdout",
       "text": [
        " 40727.2963342\n",
        "returning"
       ]
      },
      {
       "output_type": "stream",
       "stream": "stdout",
       "text": [
        " 40601.0386741\n",
        "returning"
       ]
      },
      {
       "output_type": "stream",
       "stream": "stdout",
       "text": [
        " 40452.5732231\n",
        "returning"
       ]
      },
      {
       "output_type": "stream",
       "stream": "stdout",
       "text": [
        " 40322.6577453\n",
        "returning"
       ]
      },
      {
       "output_type": "stream",
       "stream": "stdout",
       "text": [
        " 40130.0317032\n",
        "returning"
       ]
      },
      {
       "output_type": "stream",
       "stream": "stdout",
       "text": [
        " 39984.5275475\n",
        "returning"
       ]
      },
      {
       "output_type": "stream",
       "stream": "stdout",
       "text": [
        " 39808.1866125\n",
        "returning"
       ]
      },
      {
       "output_type": "stream",
       "stream": "stdout",
       "text": [
        " 39610.3837356\n",
        "returning"
       ]
      },
      {
       "output_type": "stream",
       "stream": "stdout",
       "text": [
        " 39379.3006366\n",
        "returning"
       ]
      },
      {
       "output_type": "stream",
       "stream": "stdout",
       "text": [
        " 39110.437564\n",
        "returning"
       ]
      },
      {
       "output_type": "stream",
       "stream": "stdout",
       "text": [
        " 38744.8149407\n",
        "returning"
       ]
      },
      {
       "output_type": "stream",
       "stream": "stdout",
       "text": [
        " 38192.2702028\n",
        "returning"
       ]
      },
      {
       "output_type": "stream",
       "stream": "stdout",
       "text": [
        " 37424.3589792\n",
        "returning"
       ]
      },
      {
       "output_type": "stream",
       "stream": "stdout",
       "text": [
        " 36681.2195142\n",
        "returning"
       ]
      },
      {
       "output_type": "stream",
       "stream": "stdout",
       "text": [
        " 35942.8381186\n",
        "returning"
       ]
      },
      {
       "output_type": "stream",
       "stream": "stdout",
       "text": [
        " 35243.5234511\n",
        "returning"
       ]
      },
      {
       "output_type": "stream",
       "stream": "stdout",
       "text": [
        " 35075.3723363\n",
        "returning"
       ]
      },
      {
       "output_type": "stream",
       "stream": "stdout",
       "text": [
        " 34943.5174886\n",
        "returning"
       ]
      },
      {
       "output_type": "stream",
       "stream": "stdout",
       "text": [
        " 34847.2827282\n",
        "returning"
       ]
      },
      {
       "output_type": "stream",
       "stream": "stdout",
       "text": [
        " 34771.7168299\n",
        "returning"
       ]
      },
      {
       "output_type": "stream",
       "stream": "stdout",
       "text": [
        " 34654.9615308\n",
        "returning"
       ]
      },
      {
       "output_type": "stream",
       "stream": "stdout",
       "text": [
        " 34506.415006\n",
        "returning"
       ]
      },
      {
       "output_type": "stream",
       "stream": "stdout",
       "text": [
        " 34328.4572369\n",
        "returning"
       ]
      },
      {
       "output_type": "stream",
       "stream": "stdout",
       "text": [
        " 34112.4248653\n",
        "returning"
       ]
      },
      {
       "output_type": "stream",
       "stream": "stdout",
       "text": [
        " 33798.6590429\n",
        "returning"
       ]
      },
      {
       "output_type": "stream",
       "stream": "stdout",
       "text": [
        " 33464.6800176\n",
        "returning"
       ]
      },
      {
       "output_type": "stream",
       "stream": "stdout",
       "text": [
        " 33177.0095989\n",
        "returning"
       ]
      },
      {
       "output_type": "stream",
       "stream": "stdout",
       "text": [
        " 32978.1941629\n",
        "returning"
       ]
      },
      {
       "output_type": "stream",
       "stream": "stdout",
       "text": [
        " 32768.3414592\n",
        "returning"
       ]
      },
      {
       "output_type": "stream",
       "stream": "stdout",
       "text": [
        " 32577.5794356\n",
        "returning"
       ]
      },
      {
       "output_type": "stream",
       "stream": "stdout",
       "text": [
        " 32359.2309347\n",
        "returning"
       ]
      },
      {
       "output_type": "stream",
       "stream": "stdout",
       "text": [
        " 32160.7737164\n",
        "returning"
       ]
      },
      {
       "output_type": "stream",
       "stream": "stdout",
       "text": [
        " 32037.7860101\n",
        "returning"
       ]
      },
      {
       "output_type": "stream",
       "stream": "stdout",
       "text": [
        " 31960.6645319\n",
        "returning"
       ]
      },
      {
       "output_type": "stream",
       "stream": "stdout",
       "text": [
        " 31900.6794085\n",
        "returning"
       ]
      },
      {
       "output_type": "stream",
       "stream": "stdout",
       "text": [
        " 31853.5631286\n",
        "returning"
       ]
      },
      {
       "output_type": "stream",
       "stream": "stdout",
       "text": [
        " 31810.6763889\n",
        "returning"
       ]
      },
      {
       "output_type": "stream",
       "stream": "stdout",
       "text": [
        " 31780.3517266\n",
        "returning"
       ]
      },
      {
       "output_type": "stream",
       "stream": "stdout",
       "text": [
        " 31747.4691003\n",
        "returning"
       ]
      },
      {
       "output_type": "stream",
       "stream": "stdout",
       "text": [
        " 31716.2716168\n",
        "returning"
       ]
      },
      {
       "output_type": "stream",
       "stream": "stdout",
       "text": [
        " 31709.1032473\n",
        "returning"
       ]
      },
      {
       "output_type": "stream",
       "stream": "stdout",
       "text": [
        " 31695.4290109\n",
        "returning"
       ]
      },
      {
       "output_type": "stream",
       "stream": "stdout",
       "text": [
        " 31672.8423917\n",
        "returning"
       ]
      },
      {
       "output_type": "stream",
       "stream": "stdout",
       "text": [
        " 31654.6570391\n",
        "returning"
       ]
      },
      {
       "output_type": "stream",
       "stream": "stdout",
       "text": [
        " 31647.2778813\n",
        "returning"
       ]
      },
      {
       "output_type": "stream",
       "stream": "stdout",
       "text": [
        " 31637.9559304\n",
        "returning"
       ]
      },
      {
       "output_type": "stream",
       "stream": "stdout",
       "text": [
        " 31633.2440726\n",
        "returning"
       ]
      },
      {
       "output_type": "stream",
       "stream": "stdout",
       "text": [
        " 31630.4683812\n",
        "returning"
       ]
      },
      {
       "output_type": "stream",
       "stream": "stdout",
       "text": [
        " 31626.9515937\n",
        "returning"
       ]
      },
      {
       "output_type": "stream",
       "stream": "stdout",
       "text": [
        " 31625.002764\n",
        "returning"
       ]
      },
      {
       "output_type": "stream",
       "stream": "stdout",
       "text": [
        " 31621.9943951\n",
        "returning"
       ]
      },
      {
       "output_type": "stream",
       "stream": "stdout",
       "text": [
        " 31618.3632492\n",
        "returning"
       ]
      },
      {
       "output_type": "stream",
       "stream": "stdout",
       "text": [
        " 31614.7542335\n",
        "returning"
       ]
      },
      {
       "output_type": "stream",
       "stream": "stdout",
       "text": [
        " 31611.4170637\n",
        "returning"
       ]
      },
      {
       "output_type": "stream",
       "stream": "stdout",
       "text": [
        " 31606.7229109\n",
        "returning"
       ]
      },
      {
       "output_type": "stream",
       "stream": "stdout",
       "text": [
        " 31602.9141704\n",
        "returning"
       ]
      },
      {
       "output_type": "stream",
       "stream": "stdout",
       "text": [
        " 31602.0985895\n",
        "returning"
       ]
      },
      {
       "output_type": "stream",
       "stream": "stdout",
       "text": [
        " 31600.6487252\n",
        "returning"
       ]
      },
      {
       "output_type": "stream",
       "stream": "stdout",
       "text": [
        " 31598.1273267\n",
        "returning"
       ]
      },
      {
       "output_type": "stream",
       "stream": "stdout",
       "text": [
        " 31596.5978264\n",
        "returning"
       ]
      },
      {
       "output_type": "stream",
       "stream": "stdout",
       "text": [
        " 31594.6056962\n",
        "returning"
       ]
      },
      {
       "output_type": "stream",
       "stream": "stdout",
       "text": [
        " 31593.6185648\n",
        "returning"
       ]
      },
      {
       "output_type": "stream",
       "stream": "stdout",
       "text": [
        " 31592.6926054\n",
        "returning"
       ]
      },
      {
       "output_type": "stream",
       "stream": "stdout",
       "text": [
        " 31591.6221993\n",
        "returning"
       ]
      },
      {
       "output_type": "stream",
       "stream": "stdout",
       "text": [
        " 31590.3067\n",
        "returning"
       ]
      },
      {
       "output_type": "stream",
       "stream": "stdout",
       "text": [
        " 31588.7126462\n",
        "returning"
       ]
      },
      {
       "output_type": "stream",
       "stream": "stdout",
       "text": [
        " 31586.9980593\n",
        "returning"
       ]
      },
      {
       "output_type": "stream",
       "stream": "stdout",
       "text": [
        " 31585.8929457\n",
        "returning"
       ]
      },
      {
       "output_type": "stream",
       "stream": "stdout",
       "text": [
        " 31585.0234009\n",
        "returning"
       ]
      },
      {
       "output_type": "stream",
       "stream": "stdout",
       "text": [
        " 31583.802066\n",
        "returning"
       ]
      },
      {
       "output_type": "stream",
       "stream": "stdout",
       "text": [
        " 31582.5880168\n",
        "returning"
       ]
      },
      {
       "output_type": "stream",
       "stream": "stdout",
       "text": [
        " 31581.086768\n",
        "returning"
       ]
      },
      {
       "output_type": "stream",
       "stream": "stdout",
       "text": [
        " 31580.2618881\n",
        "returning"
       ]
      },
      {
       "output_type": "stream",
       "stream": "stdout",
       "text": [
        " 31579.025976\n",
        "returning"
       ]
      },
      {
       "output_type": "stream",
       "stream": "stdout",
       "text": [
        " 31578.6574548\n",
        "returning"
       ]
      },
      {
       "output_type": "stream",
       "stream": "stdout",
       "text": [
        " 31578.0400829\n",
        "returning"
       ]
      },
      {
       "output_type": "stream",
       "stream": "stdout",
       "text": [
        " 31576.9454133\n",
        "returning"
       ]
      },
      {
       "output_type": "stream",
       "stream": "stdout",
       "text": [
        " 31575.0038369\n",
        "returning"
       ]
      },
      {
       "output_type": "stream",
       "stream": "stdout",
       "text": [
        " 31571.869455\n",
        "returning"
       ]
      },
      {
       "output_type": "stream",
       "stream": "stdout",
       "text": [
        " 31569.4222906\n",
        "returning"
       ]
      },
      {
       "output_type": "stream",
       "stream": "stdout",
       "text": [
        " 31567.8560133\n",
        "returning"
       ]
      },
      {
       "output_type": "stream",
       "stream": "stdout",
       "text": [
        " 31565.8422116\n",
        "returning"
       ]
      },
      {
       "output_type": "stream",
       "stream": "stdout",
       "text": [
        " 31564.3658997\n",
        "returning"
       ]
      },
      {
       "output_type": "stream",
       "stream": "stdout",
       "text": [
        " 31562.2297004\n",
        "returning"
       ]
      },
      {
       "output_type": "stream",
       "stream": "stdout",
       "text": [
        " 31560.3107889\n",
        "returning"
       ]
      },
      {
       "output_type": "stream",
       "stream": "stdout",
       "text": [
        " 31557.3191029\n",
        "returning"
       ]
      },
      {
       "output_type": "stream",
       "stream": "stdout",
       "text": [
        " 31552.5168479\n",
        "returning"
       ]
      },
      {
       "output_type": "stream",
       "stream": "stdout",
       "text": [
        " 31547.6013944\n",
        "returning"
       ]
      },
      {
       "output_type": "stream",
       "stream": "stdout",
       "text": [
        " 31543.5591248\n",
        "returning"
       ]
      },
      {
       "output_type": "stream",
       "stream": "stdout",
       "text": [
        " 31540.7743076\n",
        "returning"
       ]
      },
      {
       "output_type": "stream",
       "stream": "stdout",
       "text": [
        " 31538.4672758\n",
        "returning"
       ]
      },
      {
       "output_type": "stream",
       "stream": "stdout",
       "text": [
        " 31536.3768425\n",
        "returning"
       ]
      },
      {
       "output_type": "stream",
       "stream": "stdout",
       "text": [
        " 31534.1590302\n",
        "returning"
       ]
      },
      {
       "output_type": "stream",
       "stream": "stdout",
       "text": [
        " 31534.74885\n",
        "returning"
       ]
      },
      {
       "output_type": "stream",
       "stream": "stdout",
       "text": [
        " 31532.9838002\n",
        "returning"
       ]
      },
      {
       "output_type": "stream",
       "stream": "stdout",
       "text": [
        " 31531.3955391\n",
        "returning"
       ]
      },
      {
       "output_type": "stream",
       "stream": "stdout",
       "text": [
        " 31529.7399417\n",
        "returning"
       ]
      },
      {
       "output_type": "stream",
       "stream": "stdout",
       "text": [
        " 31528.532433\n",
        "returning"
       ]
      },
      {
       "output_type": "stream",
       "stream": "stdout",
       "text": [
        " 31527.0547228\n",
        "returning"
       ]
      },
      {
       "output_type": "stream",
       "stream": "stdout",
       "text": [
        " 31527.0919004\n",
        "returning"
       ]
      },
      {
       "output_type": "stream",
       "stream": "stdout",
       "text": [
        " 31526.5906139\n",
        "returning"
       ]
      },
      {
       "output_type": "stream",
       "stream": "stdout",
       "text": [
        " 31525.9311764\n",
        "returning"
       ]
      },
      {
       "output_type": "stream",
       "stream": "stdout",
       "text": [
        " 31525.250167\n",
        "returning"
       ]
      },
      {
       "output_type": "stream",
       "stream": "stdout",
       "text": [
        " 31524.0284624\n",
        "returning"
       ]
      },
      {
       "output_type": "stream",
       "stream": "stdout",
       "text": [
        " 31521.7509475\n",
        "returning"
       ]
      },
      {
       "output_type": "stream",
       "stream": "stdout",
       "text": [
        " 31520.2710784\n",
        "returning"
       ]
      },
      {
       "output_type": "stream",
       "stream": "stdout",
       "text": [
        " 31518.7330627\n",
        "returning"
       ]
      },
      {
       "output_type": "stream",
       "stream": "stdout",
       "text": [
        " 31517.6449651\n",
        "returning"
       ]
      },
      {
       "output_type": "stream",
       "stream": "stdout",
       "text": [
        " 31516.8570054\n",
        "returning"
       ]
      },
      {
       "output_type": "stream",
       "stream": "stdout",
       "text": [
        " 31516.2819077\n",
        "returning"
       ]
      },
      {
       "output_type": "stream",
       "stream": "stdout",
       "text": [
        " 31515.7878937\n",
        "returning"
       ]
      },
      {
       "output_type": "stream",
       "stream": "stdout",
       "text": [
        " 31515.349831\n",
        "returning"
       ]
      },
      {
       "output_type": "stream",
       "stream": "stdout",
       "text": [
        " 31514.9796363\n",
        "returning"
       ]
      },
      {
       "output_type": "stream",
       "stream": "stdout",
       "text": [
        " 31514.696657\n",
        "returning"
       ]
      },
      {
       "output_type": "stream",
       "stream": "stdout",
       "text": [
        " 31514.1067033\n",
        "returning"
       ]
      },
      {
       "output_type": "stream",
       "stream": "stdout",
       "text": [
        " 31513.8641767\n",
        "returning"
       ]
      },
      {
       "output_type": "stream",
       "stream": "stdout",
       "text": [
        " 31513.3696675\n",
        "returning"
       ]
      },
      {
       "output_type": "stream",
       "stream": "stdout",
       "text": [
        " 31513.0426883\n",
        "returning"
       ]
      },
      {
       "output_type": "stream",
       "stream": "stdout",
       "text": [
        " 31512.7540198\n",
        "returning"
       ]
      },
      {
       "output_type": "stream",
       "stream": "stdout",
       "text": [
        " 31512.7402027\n",
        "returning"
       ]
      },
      {
       "output_type": "stream",
       "stream": "stdout",
       "text": [
        " 31512.7478938\n",
        "returning"
       ]
      },
      {
       "output_type": "stream",
       "stream": "stdout",
       "text": [
        " 31512.7385081\n",
        "returning"
       ]
      },
      {
       "output_type": "stream",
       "stream": "stdout",
       "text": [
        " 31512.7442625\n",
        "returning"
       ]
      },
      {
       "output_type": "stream",
       "stream": "stdout",
       "text": [
        " 31512.7403263\n",
        "returning"
       ]
      },
      {
       "output_type": "stream",
       "stream": "stdout",
       "text": [
        " 31512.7390052\n",
        "returning"
       ]
      },
      {
       "output_type": "stream",
       "stream": "stdout",
       "text": [
        " 31512.7389937\n",
        "returning"
       ]
      },
      {
       "output_type": "stream",
       "stream": "stdout",
       "text": [
        " 31512.7387167\n",
        "returning"
       ]
      },
      {
       "output_type": "stream",
       "stream": "stdout",
       "text": [
        " 31512.7385082\n",
        "returning"
       ]
      },
      {
       "output_type": "stream",
       "stream": "stdout",
       "text": [
        " 31512.7385081\n",
        "returning"
       ]
      },
      {
       "output_type": "stream",
       "stream": "stdout",
       "text": [
        " 31512.7385081\n",
        "returning"
       ]
      },
      {
       "output_type": "stream",
       "stream": "stdout",
       "text": [
        " 31512.7385081\n",
        "returning"
       ]
      },
      {
       "output_type": "stream",
       "stream": "stdout",
       "text": [
        " 31512.7385081\n",
        "returning"
       ]
      },
      {
       "output_type": "stream",
       "stream": "stdout",
       "text": [
        " 31512.7385081\n",
        "returning"
       ]
      },
      {
       "output_type": "stream",
       "stream": "stdout",
       "text": [
        " 31512.7385081\n",
        "returning"
       ]
      },
      {
       "output_type": "stream",
       "stream": "stdout",
       "text": [
        " 31512.7385081\n",
        "returning"
       ]
      },
      {
       "output_type": "stream",
       "stream": "stdout",
       "text": [
        " 31512.7385081\n",
        "returning"
       ]
      },
      {
       "output_type": "stream",
       "stream": "stdout",
       "text": [
        " 31512.738508\n",
        "returning"
       ]
      },
      {
       "output_type": "stream",
       "stream": "stdout",
       "text": [
        " 31512.738508\n",
        "returning"
       ]
      },
      {
       "output_type": "stream",
       "stream": "stdout",
       "text": [
        " 31512.7478938\n",
        "returning"
       ]
      },
      {
       "output_type": "stream",
       "stream": "stdout",
       "text": [
        " 31512.7424816\n",
        "returning"
       ]
      },
      {
       "output_type": "stream",
       "stream": "stdout",
       "text": [
        " 31512.7404716\n",
        "returning"
       ]
      },
      {
       "output_type": "stream",
       "stream": "stdout",
       "text": [
        " 31512.7398768\n",
        "returning"
       ]
      },
      {
       "output_type": "stream",
       "stream": "stdout",
       "text": [
        " 31512.7364847\n",
        "returning"
       ]
      },
      {
       "output_type": "stream",
       "stream": "stdout",
       "text": [
        " 31512.7366569\n",
        "returning"
       ]
      },
      {
       "output_type": "stream",
       "stream": "stdout",
       "text": [
        " 31512.7390219\n",
        "returning"
       ]
      },
      {
       "output_type": "stream",
       "stream": "stdout",
       "text": [
        " 31512.7390524\n",
        "returning"
       ]
      },
      {
       "output_type": "stream",
       "stream": "stdout",
       "text": [
        " 31512.7371821\n",
        "returning"
       ]
      },
      {
       "output_type": "stream",
       "stream": "stdout",
       "text": [
        " 31512.7367198\n",
        "returning"
       ]
      },
      {
       "output_type": "stream",
       "stream": "stdout",
       "text": [
        " 31512.7369043\n",
        "returning"
       ]
      },
      {
       "output_type": "stream",
       "stream": "stdout",
       "text": [
        " 31512.7364917\n",
        "Warning: Desired error not necessarily achieved due to precision loss.\n",
        "         Current function value: 31512.740203\n",
        "         Iterations: 212\n",
        "         Function evaluations: 270\n",
        "         Gradient evaluations: 260\n",
        "round\n",
        "returning"
       ]
      },
      {
       "output_type": "stream",
       "stream": "stdout",
       "text": [
        " 31512.7402027\n",
        "[   7500.60319703    3969.98269958  -75993.35615672    7525.19749602\n",
        "    3947.60896706   36480.6986156     7532.88877459    3924.70651938\n",
        "   18504.09646009    7535.37564703    3923.76759859  -51108.42742262\n",
        "    7534.7758614     3935.92124203  -25706.75056456    7536.82974476\n",
        "    3934.5891019   184467.48188215    7541.42141955    3926.7232281\n",
        "  -15112.85133259    7537.2577893     3915.95575013  -49035.76703591\n",
        "    7525.51785837    3903.5300136   -24090.74136535    7512.23161671\n",
        "    3903.25547544   53571.27289688    7500.95111938    3904.69975374\n",
        "  -37515.54768117    7492.79390442    3906.02196449   35170.00422485\n",
        "    7489.01896646    3909.33724272   71167.35915883    7489.58157006\n",
        "    3888.86101023   62609.1747913     7486.05054002    3920.56443179\n",
        "  -18405.37039688    7490.22445126    3932.31382015   -5703.26729358\n",
        "    7499.15550864    3936.38304653   16412.04797922    7506.22563834\n",
        "    3940.62193289  -13896.95611914    7509.30089333    3945.91389147\n",
        "   -5806.85906097    7461.70032539    3939.2747027  -156039.98742678]\n",
        "returning"
       ]
      },
      {
       "output_type": "stream",
       "stream": "stdout",
       "text": [
        " 31615.3309198\n",
        "returning"
       ]
      },
      {
       "output_type": "stream",
       "stream": "stdout",
       "text": [
        " 31615.3309198\n",
        "EarthModel: requesting travel time for impossible phase.\n",
        "returning"
       ]
      },
      {
       "output_type": "stream",
       "stream": "stdout",
       "text": [
        " 570801415.614\n",
        "returning"
       ]
      },
      {
       "output_type": "stream",
       "stream": "stdout",
       "text": [
        " 31515.7058141\n",
        "returning"
       ]
      },
      {
       "output_type": "stream",
       "stream": "stdout",
       "text": [
        " 35404.6905286\n",
        "returning"
       ]
      },
      {
       "output_type": "stream",
       "stream": "stdout",
       "text": [
        " 31513.23041\n",
        "returning"
       ]
      },
      {
       "output_type": "stream",
       "stream": "stdout",
       "text": [
        " 31523.4558675\n",
        "returning"
       ]
      },
      {
       "output_type": "stream",
       "stream": "stdout",
       "text": [
        " 31512.8209016\n",
        "returning"
       ]
      },
      {
       "output_type": "stream",
       "stream": "stdout",
       "text": [
        " 31513.3457922\n",
        "returning"
       ]
      },
      {
       "output_type": "stream",
       "stream": "stdout",
       "text": [
        " 31512.6931832\n",
        "returning"
       ]
      },
      {
       "output_type": "stream",
       "stream": "stdout",
       "text": [
        " 31512.9351195\n",
        "returning"
       ]
      },
      {
       "output_type": "stream",
       "stream": "stdout",
       "text": [
        " 31512.66074\n",
        "returning"
       ]
      },
      {
       "output_type": "stream",
       "stream": "stdout",
       "text": [
        " 31512.9382645\n",
        "returning"
       ]
      },
      {
       "output_type": "stream",
       "stream": "stdout",
       "text": [
        " 31512.6582477\n",
        "returning"
       ]
      },
      {
       "output_type": "stream",
       "stream": "stdout",
       "text": [
        " 31512.6559813\n",
        "returning"
       ]
      },
      {
       "output_type": "stream",
       "stream": "stdout",
       "text": [
        " 31512.6500479\n",
        "returning"
       ]
      },
      {
       "output_type": "stream",
       "stream": "stdout",
       "text": [
        " 31512.6534968\n",
        "returning"
       ]
      },
      {
       "output_type": "stream",
       "stream": "stdout",
       "text": [
        " 31512.6466115\n",
        "returning"
       ]
      },
      {
       "output_type": "stream",
       "stream": "stdout",
       "text": [
        " 31512.639179\n",
        "returning"
       ]
      },
      {
       "output_type": "stream",
       "stream": "stdout",
       "text": [
        " 31512.6303493\n",
        "returning"
       ]
      },
      {
       "output_type": "stream",
       "stream": "stdout",
       "text": [
        " 31512.6354069\n",
        "returning"
       ]
      },
      {
       "output_type": "stream",
       "stream": "stdout",
       "text": [
        " 31512.6256914\n",
        "returning"
       ]
      },
      {
       "output_type": "stream",
       "stream": "stdout",
       "text": [
        " 31512.6236212\n",
        "returning"
       ]
      },
      {
       "output_type": "stream",
       "stream": "stdout",
       "text": [
        " 31512.6177536\n",
        "returning"
       ]
      },
      {
       "output_type": "stream",
       "stream": "stdout",
       "text": [
        " 31512.6026096\n",
        "returning"
       ]
      },
      {
       "output_type": "stream",
       "stream": "stdout",
       "text": [
        " 31512.5531595\n",
        "returning"
       ]
      },
      {
       "output_type": "stream",
       "stream": "stdout",
       "text": [
        " 31512.5822041\n",
        "returning"
       ]
      },
      {
       "output_type": "stream",
       "stream": "stdout",
       "text": [
        " 31512.5213426\n",
        "returning"
       ]
      },
      {
       "output_type": "stream",
       "stream": "stdout",
       "text": [
        " 31512.458001\n",
        "returning"
       ]
      },
      {
       "output_type": "stream",
       "stream": "stdout",
       "text": [
        " 31512.4284046\n",
        "returning"
       ]
      },
      {
       "output_type": "stream",
       "stream": "stdout",
       "text": [
        " 31512.4143476\n",
        "returning"
       ]
      },
      {
       "output_type": "stream",
       "stream": "stdout",
       "text": [
        " 31512.4140339\n",
        "returning"
       ]
      },
      {
       "output_type": "stream",
       "stream": "stdout",
       "text": [
        " 31512.4141149\n",
        "returning"
       ]
      },
      {
       "output_type": "stream",
       "stream": "stdout",
       "text": [
        " 31512.4138892\n",
        "returning"
       ]
      },
      {
       "output_type": "stream",
       "stream": "stdout",
       "text": [
        " 31512.4175552\n",
        "returning"
       ]
      },
      {
       "output_type": "stream",
       "stream": "stdout",
       "text": [
        " 31512.4138891\n",
        "returning"
       ]
      },
      {
       "output_type": "stream",
       "stream": "stdout",
       "text": [
        " 31512.413889\n",
        "returning"
       ]
      },
      {
       "output_type": "stream",
       "stream": "stdout",
       "text": [
        " 31512.4158937\n",
        "returning"
       ]
      },
      {
       "output_type": "stream",
       "stream": "stdout",
       "text": [
        " 31512.4138891\n",
        "returning"
       ]
      },
      {
       "output_type": "stream",
       "stream": "stdout",
       "text": [
        " 31512.4138892\n",
        "returning"
       ]
      },
      {
       "output_type": "stream",
       "stream": "stdout",
       "text": [
        " 31512.4138891\n",
        "returning"
       ]
      },
      {
       "output_type": "stream",
       "stream": "stdout",
       "text": [
        " 31512.413889\n",
        "returning"
       ]
      },
      {
       "output_type": "stream",
       "stream": "stdout",
       "text": [
        " 31512.413889\n",
        "returning"
       ]
      },
      {
       "output_type": "stream",
       "stream": "stdout",
       "text": [
        " 31512.413889\n",
        "returning"
       ]
      },
      {
       "output_type": "stream",
       "stream": "stdout",
       "text": [
        " 31512.413889\n",
        "returning"
       ]
      },
      {
       "output_type": "stream",
       "stream": "stdout",
       "text": [
        " 31512.413889\n",
        "returning"
       ]
      },
      {
       "output_type": "stream",
       "stream": "stdout",
       "text": [
        " 31512.4138892\n",
        "returning"
       ]
      },
      {
       "output_type": "stream",
       "stream": "stdout",
       "text": [
        " 31512.413889\n",
        "returning"
       ]
      },
      {
       "output_type": "stream",
       "stream": "stdout",
       "text": [
        " 31512.413889\n",
        "returning"
       ]
      },
      {
       "output_type": "stream",
       "stream": "stdout",
       "text": [
        " 31512.4138892\n",
        "returning"
       ]
      },
      {
       "output_type": "stream",
       "stream": "stdout",
       "text": [
        " 31512.413889\n",
        "returning"
       ]
      },
      {
       "output_type": "stream",
       "stream": "stdout",
       "text": [
        " 31512.413889\n",
        "returning"
       ]
      },
      {
       "output_type": "stream",
       "stream": "stdout",
       "text": [
        " 31512.413889\n",
        "returning"
       ]
      },
      {
       "output_type": "stream",
       "stream": "stdout",
       "text": [
        " 31512.413889\n",
        "returning"
       ]
      },
      {
       "output_type": "stream",
       "stream": "stdout",
       "text": [
        " 31512.413889\n",
        "returning"
       ]
      },
      {
       "output_type": "stream",
       "stream": "stdout",
       "text": [
        " 31512.4138892\n",
        "returning"
       ]
      },
      {
       "output_type": "stream",
       "stream": "stdout",
       "text": [
        " 31512.413889\n",
        "returning"
       ]
      },
      {
       "output_type": "stream",
       "stream": "stdout",
       "text": [
        " 31512.4141149\n",
        "returning"
       ]
      },
      {
       "output_type": "stream",
       "stream": "stdout",
       "text": [
        " 31512.4145353\n",
        "returning"
       ]
      },
      {
       "output_type": "stream",
       "stream": "stdout",
       "text": [
        " 31512.4120311\n",
        "returning"
       ]
      },
      {
       "output_type": "stream",
       "stream": "stdout",
       "text": [
        " 31512.4167852\n",
        "returning"
       ]
      },
      {
       "output_type": "stream",
       "stream": "stdout",
       "text": [
        " 31512.4119506\n",
        "returning"
       ]
      },
      {
       "output_type": "stream",
       "stream": "stdout",
       "text": [
        " 31512.4155951\n",
        "returning"
       ]
      },
      {
       "output_type": "stream",
       "stream": "stdout",
       "text": [
        " 31512.4145616\n",
        "returning"
       ]
      },
      {
       "output_type": "stream",
       "stream": "stdout",
       "text": [
        " 31512.4140812\n",
        "returning"
       ]
      },
      {
       "output_type": "stream",
       "stream": "stdout",
       "text": [
        " 31512.4120754\n",
        "returning"
       ]
      },
      {
       "output_type": "stream",
       "stream": "stdout",
       "text": [
        " 31512.412236\n",
        "returning"
       ]
      },
      {
       "output_type": "stream",
       "stream": "stdout",
       "text": [
        " 31512.4119454\n",
        "returning"
       ]
      },
      {
       "output_type": "stream",
       "stream": "stdout",
       "text": [
        " 31512.412236\n",
        "Warning: Desired error not necessarily achieved due to precision loss.\n",
        "         Current function value: 31512.414034\n",
        "         Iterations: 20\n",
        "         Function evaluations: 69\n",
        "         Gradient evaluations: 60\n"
       ]
      }
     ],
     "prompt_number": 202
    },
    {
     "cell_type": "code",
     "collapsed": false,
     "input": [
      "rel_events = unflatten(r.x / mult + shift) \n",
      "#print r"
     ],
     "language": "python",
     "metadata": {},
     "outputs": [],
     "prompt_number": 203
    },
    {
     "cell_type": "code",
     "collapsed": false,
     "input": [
      "def print_obs(ev, sta):\n",
      "    pred_tts = [predict_tt_coord(x, sta, 'Pn') for x in ev]\n",
      "    pred_ats = pred_tts + ev[:,3]\n",
      "    residuals = sample_picks[sta] - pred_ats\n",
      "    \n",
      "    pred_offsets = pred_ats[eyes] - pred_ats[js]\n",
      "    offset_residuals = rel_atimes[sta] - pred_offsets\n",
      "    obs = np.concatenate([residuals, offset_residuals])\n",
      "    \n",
      "    print residuals, np.sum(residuals**2)\n",
      "    print offset_residuals, np.sum(offset_residuals**2)\n",
      "    \n",
      "print_obs(rel_events, \"MKAR\")"
     ],
     "language": "python",
     "metadata": {},
     "outputs": [
      {
       "output_type": "stream",
       "stream": "stdout",
       "text": [
        "[ 2.09803009  2.3248136   2.3020792   5.80055571  1.33807015  3.87006903\n",
        "  2.63428903 -2.51499557  1.45972872  2.1656518  -0.9446404   1.82453704\n",
        " -0.38660765 -1.82103729 -0.38255072  4.51947975 -0.45543313  3.55910301\n",
        "  2.20037508  3.60491562] 144.576572923\n",
        "[-1.06053019 -1.03483987 -0.85836887  1.99377203  0.02569032  0.0368607\n",
        "  3.05430222  0.01117039  0.06717706  0.05600667  0.17299557  0.1169889\n",
        "  0.41772008  0.30073118  0.56492877  0.26419759  0.47420263  0.21000504\n",
        "  0.40233731  0.19233227  0.28884935  0.09651709  0.09343553 -0.00308156\n",
        " -0.20884967 -0.20576811 -0.57709146 -0.37132335 -0.60209227 -0.23076892\n",
        " -0.39473605 -0.16396713 -0.26604867 -0.10208154 -0.07385468  0.02822685\n",
        "  0.00551248 -0.02271438  2.82942653  2.8521409 ] 34.8966191633\n"
       ]
      }
     ],
     "prompt_number": 204
    },
    {
     "cell_type": "code",
     "collapsed": false,
     "input": [
      "scatter(events[:,0], events[:,1], c='g', s=45)\n",
      "\n",
      "scatter(loc_events[:,0], loc_events[:,1], c='r', s=45)\n",
      "#"
     ],
     "language": "python",
     "metadata": {},
     "outputs": [
      {
       "metadata": {},
       "output_type": "pyout",
       "prompt_number": 217,
       "text": [
        "<matplotlib.collections.PathCollection at 0xd316990>"
       ]
      },
      {
       "metadata": {},
       "output_type": "display_data",
       "png": "[encoded data removed]",
       "text": [
        "<matplotlib.figure.Figure at 0xd32cfd0>"
       ]
      }
     ],
     "prompt_number": 217
    },
    {
     "cell_type": "code",
     "collapsed": false,
     "input": [
      "from sigvisa.analyze import find_matching, f1_and_error\n",
      "indices = find_matching(events, rel_events)"
     ],
     "language": "python",
     "metadata": {},
     "outputs": [],
     "prompt_number": 206
    },
    {
     "cell_type": "code",
     "collapsed": false,
     "input": [
      "scatter(rel_events[:,0], rel_events[:,1], c='b', s=45)\n",
      "scatter(events[:,0], events[:,1], c='g', s=45)"
     ],
     "language": "python",
     "metadata": {},
     "outputs": [
      {
       "metadata": {},
       "output_type": "pyout",
       "prompt_number": 216,
       "text": [
        "<matplotlib.collections.PathCollection at 0xd050d10>"
       ]
      },
      {
       "metadata": {},
       "output_type": "display_data",
       "png": "[encoded data removed]",
       "text": [
        "<matplotlib.figure.Figure at 0xd050e50>"
       ]
      }
     ],
     "prompt_number": 216
    },
    {
     "cell_type": "code",
     "collapsed": false,
     "input": [
      "f, p, r, err = f1_and_error(events, rel_events)\n",
      "print f\n",
      "print p\n",
      "print r\n",
      "print err"
     ],
     "language": "python",
     "metadata": {},
     "outputs": [
      {
       "output_type": "stream",
       "stream": "stdout",
       "text": [
        "100.0\n",
        "100.0\n",
        "100.0\n",
        "(23.493685013543391, 8.6130827286102072)\n"
       ]
      }
     ],
     "prompt_number": 208
    },
    {
     "cell_type": "code",
     "collapsed": false,
     "input": [],
     "language": "python",
     "metadata": {},
     "outputs": []
    }
   ],
   "metadata": {}
  }
 ]
}