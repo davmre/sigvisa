{
 "metadata": {
  "name": "",
  "signature": "sha256:579d9bcce6f34b1b5050b6775008ba21b41c0a9659a408cec83dc44323c92f54"
 },
 "nbformat": 3,
 "nbformat_minor": 0,
 "worksheets": [
  {
   "cells": [
    {
     "cell_type": "code",
     "collapsed": false,
     "input": [
      "from treegp.experiments.code.synth_dataset import genX_clusters\n",
      "from sigvisa.treegp.gp import GPCov, sort_morton\n",
      "\n",
      "import scipy.spatial.distance"
     ],
     "language": "python",
     "metadata": {},
     "outputs": [
      {
       "output_type": "stream",
       "stream": "stderr",
       "text": [
        "/home/dmoore/python/sigvisa/treegp/gp.py:15: RuntimeWarning: to-Python converter for VectorTree already registered; second conversion method ignored.\n",
        "  from cover_tree import VectorTree, MatrixTree\n",
        "/home/dmoore/python/sigvisa/treegp/gp.py:15: RuntimeWarning: to-Python converter for MatrixTree already registered; second conversion method ignored.\n",
        "  from cover_tree import VectorTree, MatrixTree\n"
       ]
      }
     ],
     "prompt_number": 1
    },
    {
     "cell_type": "code",
     "collapsed": false,
     "input": [
      "lengthscale=0.02"
     ],
     "language": "python",
     "metadata": {},
     "outputs": [],
     "prompt_number": 2
    },
    {
     "cell_type": "code",
     "collapsed": false,
     "input": [
      "\n",
      "np.random.seed(0)\n",
      "X = genX_clusters(2, 50, 50, lengthscale)\n",
      "sX = sort_morton(X)\n",
      "\n",
      "\n",
      "D = scipy.spatial.distance.squareform(scipy.spatial.distance.pdist(sX))\n",
      "\n",
      "K = np.exp(-.5 * (D*D)/lengthscale**2) + np.eye(D.shape[0])*0.01\n",
      "Kinv = np.linalg.inv(K)\n"
     ],
     "language": "python",
     "metadata": {},
     "outputs": [],
     "prompt_number": 3
    },
    {
     "cell_type": "code",
     "collapsed": false,
     "input": [
      "imshow(K, interpolation=\"none\")"
     ],
     "language": "python",
     "metadata": {},
     "outputs": [
      {
       "metadata": {},
       "output_type": "pyout",
       "prompt_number": 4,
       "text": [
        "<matplotlib.image.AxesImage at 0x437ab10>"
       ]
      },
      {
       "metadata": {},
       "output_type": "display_data",
       "png": "[encoded data removed]",
       "text": [
        "<matplotlib.figure.Figure at 0x3abf090>"
       ]
      },
      {
       "metadata": {},
       "output_type": "display_data",
       "png": "[encoded data removed]",
       "text": [
        "<matplotlib.figure.Figure at 0x4217910>"
       ]
      }
     ],
     "prompt_number": 4
    },
    {
     "cell_type": "code",
     "collapsed": false,
     "input": [
      "noises = np.random.rand(D.shape[0])"
     ],
     "language": "python",
     "metadata": {},
     "outputs": [],
     "prompt_number": 5
    },
    {
     "cell_type": "code",
     "collapsed": false,
     "input": [
      "xnew = np.array((0.86, 0.75),) #np.random.rand(2)\n",
      "d = scipy.spatial.distance.cdist(xnew.reshape((1,-1)), X)\n",
      "k = np.exp(-.5 * (d*d)/lengthscale**2)\n"
     ],
     "language": "python",
     "metadata": {},
     "outputs": [],
     "prompt_number": 6
    },
    {
     "cell_type": "code",
     "collapsed": false,
     "input": [
      "import scikits.sparse.cholmod\n",
      "import scipy.sparse\n",
      "import scipy.sparse.linalg\n",
      "\n",
      "\n",
      "K = np.where(K > 1e-8, K, 0)\n",
      "k = np.where(k > 1e-8, k, 0)"
     ],
     "language": "python",
     "metadata": {},
     "outputs": [],
     "prompt_number": 7
    },
    {
     "cell_type": "code",
     "collapsed": false,
     "input": [
      "\n",
      "def dense_inversion():\n",
      "    d1 = np.diag(K)\n",
      "    np.fill_diagonal(K, d1 + noises)\n",
      "    Kinv = np.linalg.inv(K)\n",
      "    np.fill_diagonal(K, d1)\n",
      "    return np.dot(k, np.dot(Kinv, k.T))\n",
      "\n",
      "print dense_inversion()"
     ],
     "language": "python",
     "metadata": {},
     "outputs": [
      {
       "output_type": "stream",
       "stream": "stdout",
       "text": [
        "[[ 0.00138128]]\n"
       ]
      }
     ],
     "prompt_number": 8
    },
    {
     "cell_type": "code",
     "collapsed": false,
     "input": [
      "spK = scipy.sparse.csc_matrix(K)\n",
      "spk = scipy.sparse.csc_matrix(k)\n",
      "\n",
      "def sparse_inversion():\n",
      "    pass\n",
      "\n"
     ],
     "language": "python",
     "metadata": {},
     "outputs": [],
     "prompt_number": 51
    },
    {
     "cell_type": "code",
     "collapsed": false,
     "input": [
      "scipy.sparse.linalg.inv(spK)"
     ],
     "language": "python",
     "metadata": {},
     "outputs": [
      {
       "metadata": {},
       "output_type": "pyout",
       "prompt_number": 49,
       "text": [
        "<2500x2500 sparse matrix of type '<type 'numpy.float64'>'\n",
        "\twith 6005000 stored elements in Compressed Sparse Column format>"
       ]
      }
     ],
     "prompt_number": 49
    },
    {
     "cell_type": "code",
     "collapsed": false,
     "input": [
      "spK = scipy.sparse.csc_matrix(K)\n",
      "spk = scipy.sparse.csc_matrix(k)\n",
      "\n",
      "d1 = spK.diagonal()\n",
      "d2 = d1+noises\n",
      "\n",
      "def sparse_factor():\n",
      "    spK.setdiag(d2)\n",
      "    factor = scikits.sparse.cholmod.cholesky(spK)\n",
      "    spK.setdiag(d1)\n",
      "    f1 = factor(spk.T)\n",
      "    r = spk*f1\n",
      "    return r.todense()\n",
      "    \n",
      "spK.setdiag(d2)\n",
      "ff = scikits.sparse.cholmod.cholesky(spK)\n",
      "spK.setdiag(d1)\n",
      "def sparse_prefactored():\n",
      "    f1 = ff(spk.T)\n",
      "    r = spk*f1 \n",
      "    return r.todense()\n",
      "\n",
      "print sparse_prefactored()"
     ],
     "language": "python",
     "metadata": {},
     "outputs": [
      {
       "output_type": "stream",
       "stream": "stdout",
       "text": [
        "[[ 0.00138128]]\n"
       ]
      }
     ],
     "prompt_number": 16
    },
    {
     "cell_type": "code",
     "collapsed": false,
     "input": [
      "%timeit sparse_factor()\n",
      "%timeit sparse_prefactored()"
     ],
     "language": "python",
     "metadata": {},
     "outputs": [
      {
       "output_type": "stream",
       "stream": "stdout",
       "text": [
        "1 loops, best of 3: 592 ms per loop\n",
        "1000 loops, best of 3: 1.36 ms per loop"
       ]
      },
      {
       "output_type": "stream",
       "stream": "stdout",
       "text": [
        "\n"
       ]
      }
     ],
     "prompt_number": 17
    },
    {
     "cell_type": "code",
     "collapsed": false,
     "input": [
      "def sparse_solve():\n",
      "    spK.setdiag(d2)\n",
      "    tmp = scipy.sparse.linalg.spsolve(spK, spk.T)\n",
      "    spK.setdiag(d1)\n",
      "    return spk*tmp\n",
      "\n",
      "print sparse_solve()\n",
      "%timeit sparse_solve()"
     ],
     "language": "python",
     "metadata": {},
     "outputs": [
      {
       "output_type": "stream",
       "stream": "stdout",
       "text": [
        "[ 0.00138128]\n",
        "1 loops, best of 3: 732 ms per loop"
       ]
      },
      {
       "output_type": "stream",
       "stream": "stdout",
       "text": [
        "\n"
       ]
      }
     ],
     "prompt_number": 18
    },
    {
     "cell_type": "code",
     "collapsed": false,
     "input": [
      "a, nz = spk.nonzero()\n",
      "\n",
      "#Kinv = np.linalg.inv(K + np.diag(noises))\n",
      "def dense_Kinv():\n",
      "    slicedKinv = Kinv[nz][:,nz]\n",
      "    slicedk = k[0, nz]\n",
      "    return np.dot(slicedk, np.dot(slicedKinv, slicedk.T))\n",
      "\n",
      "def dense_K():\n",
      "    slicedK = K[nz][:,nz]\n",
      "    slicedk = k[0, nz]\n",
      "    noise = noises[nz]\n",
      "    np.fill_diagonal(slicedK, np.diag(slicedK)+noise)\n",
      "    ss = np.linalg.solve(slicedK, slicedk.T)\n",
      "    return np.dot(slicedk, ss)\n",
      "\n",
      "%timeit dense_Kinv()\n",
      "%timeit dense_K()"
     ],
     "language": "python",
     "metadata": {},
     "outputs": [
      {
       "output_type": "stream",
       "stream": "stdout",
       "text": [
        "100 loops, best of 3: 2.62 ms per loop\n",
        "100 loops, best of 3: 2.76 ms per loop"
       ]
      },
      {
       "output_type": "stream",
       "stream": "stdout",
       "text": [
        "\n"
       ]
      }
     ],
     "prompt_number": 43
    },
    {
     "cell_type": "code",
     "collapsed": false,
     "input": [
      "aa, bb = spK.nonzero()\n",
      "print aa.shape[0]/float(spK.shape[0]**2)"
     ],
     "language": "python",
     "metadata": {},
     "outputs": [
      {
       "output_type": "stream",
       "stream": "stdout",
       "text": [
        "0.05673376\n"
       ]
      }
     ],
     "prompt_number": 42
    },
    {
     "cell_type": "code",
     "collapsed": false,
     "input": [],
     "language": "python",
     "metadata": {},
     "outputs": []
    }
   ],
   "metadata": {}
  }
 ]
}