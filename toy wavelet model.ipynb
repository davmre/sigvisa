{
 "metadata": {
  "name": ""
 },
 "nbformat": 3,
 "nbformat_minor": 0,
 "worksheets": [
  {
   "cells": [
    {
     "cell_type": "code",
     "collapsed": false,
     "input": [
      "from sigvisa import Sigvisa\n",
      "from sigvisa.models.ttime import tt_predict\n",
      "from sigvisa.utils.fileutils import mkdir_p\n",
      "from sigvisa.treegp.gp import GPCov, GP\n",
      "\n",
      "stas = ['MKAR', 'TORD', 'ASF', 'MMAI', 'KEST', 'VRAC', 'AKASG', 'EIL', 'BRTR', 'GERES']\n",
      "\n",
      "def select_training_events():\n",
      "    try:\n",
      "        r = np.load('explore/toy_wavelets/events.npy')\n",
      "    except IOError:\n",
      "        s = Sigvisa()\n",
      "        cursor = s.dbconn.cursor()\n",
      "        sql_query = \"select lon,lat,0,time from leb_origin where lon between 20 and 40 and lat between 30 and 50 and time between 1238889600 and 1245456000 and mb > 2.5\"\n",
      "        cursor.execute(sql_query)\n",
      "        r = np.array(cursor.fetchall())\n",
      "        mkdir_p('explore/toy_wavelets/')\n",
      "        np.save('explore/toy_wavelets/events.npy', r)\n",
      "        \n",
      "    return r\n",
      "\n",
      "def initialize_prior_GPs(sta_list, wavelet_feature_names):\n",
      "    atime_cov = "
     ],
     "language": "python",
     "metadata": {},
     "outputs": [
      {
       "output_type": "stream",
       "stream": "stdout",
       "text": [
        "(192, 4)\n"
       ]
      }
     ],
     "prompt_number": 2
    },
    {
     "cell_type": "code",
     "collapsed": false,
     "input": [],
     "language": "python",
     "metadata": {},
     "outputs": []
    }
   ],
   "metadata": {}
  }
 ]
}